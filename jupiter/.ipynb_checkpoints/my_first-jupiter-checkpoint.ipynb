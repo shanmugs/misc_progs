{
 "cells": [
  {
   "cell_type": "code",
   "execution_count": null,
   "id": "745647b1-b686-4867-ae3d-31a888014fd8",
   "metadata": {},
   "outputs": [],
   "source": [
    "import pandas as pd"
   ]
  },
  {
   "cell_type": "code",
   "execution_count": null,
   "id": "a0ab9b18-792f-4134-b669-f1dcdc2df736",
   "metadata": {},
   "outputs": [],
   "source": [
    "# Load a sample dataset\n",
    "df = pd.read_csv('https://raw.githubusercontent.com/azhar2ds/DataSets/refs/heads/master/10000%20Sales%20Records.csv')\n",
    "# https://raw.githubusercontent.com/azhar2ds/DataSets/refs/heads/master/10000%20Sales%20Records.csv\n",
    "# Display the first 5 rows\n",
    "df.head()\n"
   ]
  }
 ],
 "metadata": {
  "kernelspec": {
   "display_name": "Python 3 (ipykernel)",
   "language": "python",
   "name": "python3"
  },
  "language_info": {
   "codemirror_mode": {
    "name": "ipython",
    "version": 3
   },
   "file_extension": ".py",
   "mimetype": "text/x-python",
   "name": "python",
   "nbconvert_exporter": "python",
   "pygments_lexer": "ipython3",
   "version": "3.11.7"
  }
 },
 "nbformat": 4,
 "nbformat_minor": 5
}
