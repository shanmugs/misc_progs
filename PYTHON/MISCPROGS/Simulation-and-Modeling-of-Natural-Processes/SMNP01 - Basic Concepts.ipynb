{
 "cells": [
  {
   "cell_type": "markdown",
   "metadata": {},
   "source": [
    "# Statistical Properties"
   ]
  },
  {
   "cell_type": "markdown",
   "metadata": {},
   "source": [
    "The goal of Monte-Carlo methods is the sampling of a process in order to determine some statistical properties.\n",
    "\n",
    "**We toss a coin 4 times. What is the probability to obtain 3 heads and 1 tail?**\n",
    "\n",
    "Mathematics give us the solution:"
   ]
  },
  {
   "cell_type": "markdown",
   "metadata": {},
   "source": [
    "<img src=\"images/3heads1t.png\"/>"
   ]
  },
  {
   "cell_type": "code",
   "execution_count": 1,
   "metadata": {},
   "outputs": [],
   "source": [
    "##### Library\n",
    "from random import randint"
   ]
  },
  {
   "cell_type": "code",
   "execution_count": 2,
   "metadata": {},
   "outputs": [
    {
     "name": "stdout",
     "output_type": "stream",
     "text": [
      "Number of attempts: 10000\n",
      "Number of success: 2452\n",
      "Estimated Probability (%): 0.2452\n"
     ]
    }
   ],
   "source": [
    "success = 0\n",
    "\n",
    "attempts = 10000\n",
    "\n",
    "for i in range (attempts):\n",
    "    \n",
    "    if randint(0,1) + randint(0,1) + randint(0,1) + randint(0,1)  == 3:\n",
    "        \n",
    "        success += 1\n",
    "\n",
    "print('Number of attempts:',attempts)\n",
    "print('Number of success:',success)\n",
    "print('Estimated Probability (%):',round(success/attempts,4))"
   ]
  },
  {
   "cell_type": "markdown",
   "metadata": {},
   "source": [
    "# Kinetic / Dynamic Monte-Carlo Model"
   ]
  },
  {
   "cell_type": "markdown",
   "metadata": {},
   "source": [
    "<img src=\"images/MCsimulation.png\"/>"
   ]
  },
  {
   "cell_type": "markdown",
   "metadata": {},
   "source": [
    "**How many type-A and type-B particles there are after the final time?**"
   ]
  },
  {
   "cell_type": "code",
   "execution_count": 3,
   "metadata": {},
   "outputs": [],
   "source": [
    "##### Library\n",
    "#from random import randint"
   ]
  },
  {
   "cell_type": "code",
   "execution_count": 4,
   "metadata": {},
   "outputs": [
    {
     "name": "stdout",
     "output_type": "stream",
     "text": [
      "Number of A particles: 403\n",
      "Number of B particles: 297\n"
     ]
    }
   ],
   "source": [
    "##### Parameters \n",
    "\n",
    "k1 = 0.190\n",
    "k2 = 0.188\n",
    "\n",
    "t0 = 0\n",
    "tfinal = 3600\n",
    "dt = 1\n",
    "\n",
    "steps = int ((tfinal - t0)/dt) \n",
    "\n",
    "##### Initial Conditions (t = 0)\n",
    "\n",
    "A = 400\n",
    "B = 300\n",
    "\n",
    "\n",
    "for t in range (steps-1):\n",
    "\n",
    "    n = randint(0,1)\n",
    "\n",
    "    if n < A/(A+B):     # Particle A was chosen\n",
    "        m = randint(0,1)\n",
    "        \n",
    "        if m < k1*dt:\n",
    "            A = A - 1\n",
    "            B = B + 1\n",
    "            if A == 0: \n",
    "                break\n",
    "        else:\n",
    "            A = A + 1\n",
    "            B = B - 1   \n",
    "            if B == 0:\n",
    "                break\n",
    "    \n",
    "    else:               # Particle B was chosen\n",
    "        m = randint(0,1) \n",
    "\n",
    "        if m < k2*dt:\n",
    "            A = A + 1\n",
    "            B = B - 1\n",
    "            if B == 0:   \n",
    "                break      \n",
    "        else:  \n",
    "            A = A - 1\n",
    "            B = B + 1\n",
    "            if A == 0:\n",
    "                break\n",
    "              \n",
    "                \n",
    "print('Number of A particles:',A)\n",
    "print('Number of B particles:',B)"
   ]
  },
  {
   "cell_type": "markdown",
   "metadata": {},
   "source": [
    "# Piles"
   ]
  },
  {
   "cell_type": "markdown",
   "metadata": {},
   "source": [
    "Suppose you have 10 piles of of 10 coins each. \n",
    "\n",
    "Say now that you are playing the following game. At each turn you pick a coin from each pile and move it in a randomly selected pile (it can be any of the piles). You can repeat the process an arbitrary amount of times. If a pile becomes empty, you cannot move a coin back to it. Therefore if there is only one pile left the game is over.\n",
    "\n",
    "**Can you guess the number of piles that will remain if you are allowed to play an infinite amount of turns?**"
   ]
  },
  {
   "cell_type": "code",
   "execution_count": 5,
   "metadata": {},
   "outputs": [],
   "source": [
    "##### Libraries\n",
    "import numpy as np\n",
    "#import random"
   ]
  },
  {
   "cell_type": "code",
   "execution_count": 6,
   "metadata": {},
   "outputs": [
    {
     "name": "stdout",
     "output_type": "stream",
     "text": [
      "The number of piles remaining are:  1\n"
     ]
    }
   ],
   "source": [
    "##### Initial Conditions\n",
    "numberOfPiles = 10\n",
    "maxIter = 10000\n",
    "\n",
    "piles = np.empty(numberOfPiles)\n",
    "piles.fill(numberOfPiles)\n",
    "totPiles = np.sum(piles)\n",
    "numPiles = numberOfPiles\n",
    "x = 0\n",
    "\n",
    "while (x < maxIter and piles.size > 1):\n",
    "    \n",
    "    piles = piles[np.nonzero(piles)]\n",
    "    \n",
    "    for i in np.arange(piles.size):\n",
    "        piles[i] -= 1\n",
    "        num = np.random.randint(piles.size)\n",
    "        piles[num] += 1\n",
    "        \n",
    "    numPiles = piles.size\n",
    "    \n",
    "    x += 1\n",
    "\n",
    "\n",
    "print(\"The number of piles remaining are: \", numPiles)"
   ]
  },
  {
   "cell_type": "markdown",
   "metadata": {},
   "source": [
    "# Integration"
   ]
  },
  {
   "cell_type": "markdown",
   "metadata": {},
   "source": [
    "<img src=\"images/integration.png\"/>"
   ]
  },
  {
   "cell_type": "markdown",
   "metadata": {},
   "source": [
    "**What is the result for xMin = 1; xMax = 3; and N = 200000?**"
   ]
  },
  {
   "cell_type": "code",
   "execution_count": 7,
   "metadata": {},
   "outputs": [],
   "source": [
    "##### Libraries\n",
    "#import numpy as np\n",
    "import math"
   ]
  },
  {
   "cell_type": "code",
   "execution_count": 8,
   "metadata": {},
   "outputs": [
    {
     "name": "stdout",
     "output_type": "stream",
     "text": [
      "0.763740239260386\n"
     ]
    }
   ],
   "source": [
    "class Integrator:\n",
    "    \n",
    "    def __init__(self, xMin, xMax, N):\n",
    "        self.xMin = xMin\n",
    "        self.xMax = xMax\n",
    "        self.N = N\n",
    "        \n",
    "    def integrate(self):       \n",
    "        delta_x = (self.xMax - self.xMin)/(self.N-1)        # deltaX\n",
    "        nums = np.arange(self.N-1)                          # array([0, 1, 2,...,N-1])\n",
    "        nums = nums*delta_x + self.xMin                     # xi = xMin + i*deltaX\n",
    "        res = np.power(nums,2)*np.sin(nums)*np.exp(-1*nums) # function to integrate\n",
    "        res = np.sum(res)*delta_x                           # sum all small areas\n",
    "        self.res = res \n",
    "        \n",
    "    def show(self):       \n",
    "        print(self.res) \n",
    "\n",
    "xMino = 1        \n",
    "xMaxo = 3\n",
    "No = 200000\n",
    "        \n",
    "examp = Integrator(xMino,xMaxo,No)\n",
    "examp.integrate()\n",
    "examp.show()"
   ]
  }
 ],
 "metadata": {
  "kernelspec": {
   "display_name": "Python 3",
   "language": "python",
   "name": "python3"
  },
  "language_info": {
   "codemirror_mode": {
    "name": "ipython",
    "version": 3
   },
   "file_extension": ".py",
   "mimetype": "text/x-python",
   "name": "python",
   "nbconvert_exporter": "python",
   "pygments_lexer": "ipython3",
   "version": "3.8.5"
  }
 },
 "nbformat": 4,
 "nbformat_minor": 4
}
