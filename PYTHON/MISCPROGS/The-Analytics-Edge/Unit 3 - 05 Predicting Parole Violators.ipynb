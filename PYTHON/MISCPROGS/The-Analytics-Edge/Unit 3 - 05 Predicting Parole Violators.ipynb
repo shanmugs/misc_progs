{
 "cells": [
  {
   "cell_type": "markdown",
   "metadata": {},
   "source": [
    "# Predicting Parole Violators"
   ]
  },
  {
   "cell_type": "markdown",
   "metadata": {},
   "source": [
    "<img src=\"images/violators.jpg\"/>"
   ]
  },
  {
   "cell_type": "markdown",
   "metadata": {},
   "source": [
    "In many criminal justice systems around the world, inmates deemed not to be a threat to society are released from prison under the parole system prior to completing their sentence. They are still considered to be serving their sentence while on parole, and they can be returned to prison if they violate the terms of their parole.\n",
    "\n",
    "Parole boards are charged with identifying which inmates are good candidates for release on parole. They seek to release inmates who will not commit additional crimes after release. In this problem, we will build and validate a model that predicts if an inmate will violate the terms of his or her parole. Such a model could be useful to a parole board when deciding to approve or deny an application for parole.\n",
    "\n",
    "For this prediction task, we will use data from the *United States 2004 National Corrections Reporting Program*, a nationwide census of parole releases that occurred during 2004. We limited our focus to parolees who served no more than 6 months in prison and whose maximum sentence for all charges did not exceed 18 months. The dataset contains all such parolees who either successfully completed their term of parole during 2004 or those who violated the terms of their parole during that year. The dataset contains the following variables:"
   ]
  },
  {
   "cell_type": "markdown",
   "metadata": {},
   "source": [
    "    male: 1 if the parolee is male, 0 if female\n",
    "\n",
    "    race: 1 if the parolee is white, 2 otherwise\n",
    "\n",
    "    age: the parolee's age (in years) when he or she was released from prison\n",
    "\n",
    "    state: a code for the parolee's state. 2 is Kentucky, 3 is Louisiana, 4 is Virginia, and 1 is any other state. The three states were selected due to having a high representation in the dataset.\n",
    "\n",
    "    time.served: the number of months the parolee served in prison (limited by the inclusion criteria to not exceed 6 months).\n",
    "\n",
    "    max.sentence: the maximum sentence length for all charges, in months (limited by the inclusion criteria to not exceed 18 months).\n",
    "\n",
    "    multiple.offenses: 1 if the parolee was incarcerated for multiple offenses, 0 otherwise.\n",
    "\n",
    "    crime: a code for the parolee's main crime leading to incarceration. 2 is larceny, 3 is drug-related crime, 4 is driving-related crime, and 1 is any other crime.\n",
    "\n",
    "    violator: 1 if the parolee violated the parole, and 0 if the parolee completed the parole without violation."
   ]
  },
  {
   "cell_type": "markdown",
   "metadata": {},
   "source": [
    "### Problem 1.1 - Loading the Dataset\n",
    "\n",
    "Load the dataset parole.csv into a data frame called parole, and investigate it using the str() and summary() functions.\n",
    "\n",
    "**How many parolees are contained in the dataset?**"
   ]
  },
  {
   "cell_type": "code",
   "execution_count": 1,
   "metadata": {},
   "outputs": [
    {
     "data": {
      "text/html": [
       "<table>\n",
       "<caption>A data.frame: 6 × 9</caption>\n",
       "<thead>\n",
       "\t<tr><th></th><th scope=col>male</th><th scope=col>race</th><th scope=col>age</th><th scope=col>state</th><th scope=col>time.served</th><th scope=col>max.sentence</th><th scope=col>multiple.offenses</th><th scope=col>crime</th><th scope=col>violator</th></tr>\n",
       "\t<tr><th></th><th scope=col>&lt;int&gt;</th><th scope=col>&lt;int&gt;</th><th scope=col>&lt;dbl&gt;</th><th scope=col>&lt;int&gt;</th><th scope=col>&lt;dbl&gt;</th><th scope=col>&lt;int&gt;</th><th scope=col>&lt;int&gt;</th><th scope=col>&lt;int&gt;</th><th scope=col>&lt;int&gt;</th></tr>\n",
       "</thead>\n",
       "<tbody>\n",
       "\t<tr><th scope=row>1</th><td>1</td><td>1</td><td>33.2</td><td>1</td><td>5.5</td><td>18</td><td>0</td><td>4</td><td>0</td></tr>\n",
       "\t<tr><th scope=row>2</th><td>0</td><td>1</td><td>39.7</td><td>1</td><td>5.4</td><td>12</td><td>0</td><td>3</td><td>0</td></tr>\n",
       "\t<tr><th scope=row>3</th><td>1</td><td>2</td><td>29.5</td><td>1</td><td>5.6</td><td>12</td><td>0</td><td>3</td><td>0</td></tr>\n",
       "\t<tr><th scope=row>4</th><td>1</td><td>1</td><td>22.4</td><td>1</td><td>5.7</td><td>18</td><td>0</td><td>1</td><td>0</td></tr>\n",
       "\t<tr><th scope=row>5</th><td>1</td><td>2</td><td>21.6</td><td>1</td><td>5.4</td><td>12</td><td>0</td><td>1</td><td>0</td></tr>\n",
       "\t<tr><th scope=row>6</th><td>1</td><td>2</td><td>46.7</td><td>1</td><td>6.0</td><td>18</td><td>0</td><td>4</td><td>0</td></tr>\n",
       "</tbody>\n",
       "</table>\n"
      ],
      "text/latex": [
       "A data.frame: 6 × 9\n",
       "\\begin{tabular}{r|lllllllll}\n",
       "  & male & race & age & state & time.served & max.sentence & multiple.offenses & crime & violator\\\\\n",
       "  & <int> & <int> & <dbl> & <int> & <dbl> & <int> & <int> & <int> & <int>\\\\\n",
       "\\hline\n",
       "\t1 & 1 & 1 & 33.2 & 1 & 5.5 & 18 & 0 & 4 & 0\\\\\n",
       "\t2 & 0 & 1 & 39.7 & 1 & 5.4 & 12 & 0 & 3 & 0\\\\\n",
       "\t3 & 1 & 2 & 29.5 & 1 & 5.6 & 12 & 0 & 3 & 0\\\\\n",
       "\t4 & 1 & 1 & 22.4 & 1 & 5.7 & 18 & 0 & 1 & 0\\\\\n",
       "\t5 & 1 & 2 & 21.6 & 1 & 5.4 & 12 & 0 & 1 & 0\\\\\n",
       "\t6 & 1 & 2 & 46.7 & 1 & 6.0 & 18 & 0 & 4 & 0\\\\\n",
       "\\end{tabular}\n"
      ],
      "text/markdown": [
       "\n",
       "A data.frame: 6 × 9\n",
       "\n",
       "| <!--/--> | male &lt;int&gt; | race &lt;int&gt; | age &lt;dbl&gt; | state &lt;int&gt; | time.served &lt;dbl&gt; | max.sentence &lt;int&gt; | multiple.offenses &lt;int&gt; | crime &lt;int&gt; | violator &lt;int&gt; |\n",
       "|---|---|---|---|---|---|---|---|---|---|\n",
       "| 1 | 1 | 1 | 33.2 | 1 | 5.5 | 18 | 0 | 4 | 0 |\n",
       "| 2 | 0 | 1 | 39.7 | 1 | 5.4 | 12 | 0 | 3 | 0 |\n",
       "| 3 | 1 | 2 | 29.5 | 1 | 5.6 | 12 | 0 | 3 | 0 |\n",
       "| 4 | 1 | 1 | 22.4 | 1 | 5.7 | 18 | 0 | 1 | 0 |\n",
       "| 5 | 1 | 2 | 21.6 | 1 | 5.4 | 12 | 0 | 1 | 0 |\n",
       "| 6 | 1 | 2 | 46.7 | 1 | 6.0 | 18 | 0 | 4 | 0 |\n",
       "\n"
      ],
      "text/plain": [
       "  male race age  state time.served max.sentence multiple.offenses crime\n",
       "1 1    1    33.2 1     5.5         18           0                 4    \n",
       "2 0    1    39.7 1     5.4         12           0                 3    \n",
       "3 1    2    29.5 1     5.6         12           0                 3    \n",
       "4 1    1    22.4 1     5.7         18           0                 1    \n",
       "5 1    2    21.6 1     5.4         12           0                 1    \n",
       "6 1    2    46.7 1     6.0         18           0                 4    \n",
       "  violator\n",
       "1 0       \n",
       "2 0       \n",
       "3 0       \n",
       "4 0       \n",
       "5 0       \n",
       "6 0       "
      ]
     },
     "metadata": {},
     "output_type": "display_data"
    }
   ],
   "source": [
    "parole = read.csv(\"data/parole.csv\")\n",
    "head(parole)"
   ]
  },
  {
   "cell_type": "code",
   "execution_count": 2,
   "metadata": {},
   "outputs": [
    {
     "name": "stdout",
     "output_type": "stream",
     "text": [
      "'data.frame':\t675 obs. of  9 variables:\n",
      " $ male             : int  1 0 1 1 1 1 1 0 0 1 ...\n",
      " $ race             : int  1 1 2 1 2 2 1 1 1 2 ...\n",
      " $ age              : num  33.2 39.7 29.5 22.4 21.6 46.7 31 24.6 32.6 29.1 ...\n",
      " $ state            : int  1 1 1 1 1 1 1 1 1 1 ...\n",
      " $ time.served      : num  5.5 5.4 5.6 5.7 5.4 6 6 4.8 4.5 4.7 ...\n",
      " $ max.sentence     : int  18 12 12 18 12 18 18 12 13 12 ...\n",
      " $ multiple.offenses: int  0 0 0 0 0 0 0 0 0 0 ...\n",
      " $ crime            : int  4 3 3 1 1 4 3 1 3 2 ...\n",
      " $ violator         : int  0 0 0 0 0 0 0 0 0 0 ...\n"
     ]
    }
   ],
   "source": [
    "str(parole)"
   ]
  },
  {
   "cell_type": "code",
   "execution_count": 3,
   "metadata": {},
   "outputs": [
    {
     "data": {
      "text/plain": [
       "      male             race            age            state      \n",
       " Min.   :0.0000   Min.   :1.000   Min.   :18.40   Min.   :1.000  \n",
       " 1st Qu.:1.0000   1st Qu.:1.000   1st Qu.:25.35   1st Qu.:2.000  \n",
       " Median :1.0000   Median :1.000   Median :33.70   Median :3.000  \n",
       " Mean   :0.8074   Mean   :1.424   Mean   :34.51   Mean   :2.887  \n",
       " 3rd Qu.:1.0000   3rd Qu.:2.000   3rd Qu.:42.55   3rd Qu.:4.000  \n",
       " Max.   :1.0000   Max.   :2.000   Max.   :67.00   Max.   :4.000  \n",
       "  time.served     max.sentence   multiple.offenses     crime      \n",
       " Min.   :0.000   Min.   : 1.00   Min.   :0.0000    Min.   :1.000  \n",
       " 1st Qu.:3.250   1st Qu.:12.00   1st Qu.:0.0000    1st Qu.:1.000  \n",
       " Median :4.400   Median :12.00   Median :1.0000    Median :2.000  \n",
       " Mean   :4.198   Mean   :13.06   Mean   :0.5363    Mean   :2.059  \n",
       " 3rd Qu.:5.200   3rd Qu.:15.00   3rd Qu.:1.0000    3rd Qu.:3.000  \n",
       " Max.   :6.000   Max.   :18.00   Max.   :1.0000    Max.   :4.000  \n",
       "    violator     \n",
       " Min.   :0.0000  \n",
       " 1st Qu.:0.0000  \n",
       " Median :0.0000  \n",
       " Mean   :0.1156  \n",
       " 3rd Qu.:0.0000  \n",
       " Max.   :1.0000  "
      ]
     },
     "metadata": {},
     "output_type": "display_data"
    }
   ],
   "source": [
    "summary(parole)"
   ]
  },
  {
   "cell_type": "code",
   "execution_count": 6,
   "metadata": {},
   "outputs": [
    {
     "data": {
      "text/html": [
       "675"
      ],
      "text/latex": [
       "675"
      ],
      "text/markdown": [
       "675"
      ],
      "text/plain": [
       "[1] 675"
      ]
     },
     "metadata": {},
     "output_type": "display_data"
    }
   ],
   "source": [
    "nrow(parole)"
   ]
  },
  {
   "cell_type": "markdown",
   "metadata": {},
   "source": [
    "### Problem 1.2 - Loading the Dataset\n",
    "**How many of the parolees in the dataset violated the terms of their parole?**"
   ]
  },
  {
   "cell_type": "code",
   "execution_count": 5,
   "metadata": {},
   "outputs": [
    {
     "data": {
      "text/html": [
       "78"
      ],
      "text/latex": [
       "78"
      ],
      "text/markdown": [
       "78"
      ],
      "text/plain": [
       "[1] 78"
      ]
     },
     "metadata": {},
     "output_type": "display_data"
    }
   ],
   "source": [
    "sum(parole$violator)"
   ]
  },
  {
   "cell_type": "markdown",
   "metadata": {},
   "source": [
    "### Problem 2.1 - Preparing the Dataset\n",
    "\n",
    "You should be familiar with unordered factors (if not, review the Week 2 homework problem \"Reading Test Scores\"). **Which variables in this dataset are unordered factors with at least three levels?**"
   ]
  },
  {
   "cell_type": "markdown",
   "metadata": {},
   "source": [
    "While the variables *male, race, state, crime, and violator* are all unordered factors, only *state* and *crime* have at least 3 levels in this dataset.\n",
    "\n",
    "state: 2 is Kentucky, 3 is Louisiana, 4 is Virginia, and 1 is any other state.\n",
    "\n",
    "crime: 2 is larceny, 3 is drug-related crime, 4 is driving-related crime, and 1 is any other crime."
   ]
  },
  {
   "cell_type": "markdown",
   "metadata": {},
   "source": [
    "### Problem 2.2 - Preparing the Dataset\n",
    "\n",
    "In the last subproblem, we identified variables that are unordered factors with at least 3 levels, so we need to convert them to factors for our prediction problem (we introduced this idea in the \"Reading Test Scores\" problem last week). Using the as.factor() function, convert these variables to factors. Keep in mind that we are not changing the values, just the way R understands them (the values are still numbers).\n",
    "\n",
    "**How does the output of summary() change for a factor variable as compared to a numerical variable?**"
   ]
  },
  {
   "cell_type": "code",
   "execution_count": 7,
   "metadata": {},
   "outputs": [
    {
     "data": {
      "text/plain": [
       "   Min. 1st Qu.  Median    Mean 3rd Qu.    Max. \n",
       "  1.000   2.000   3.000   2.887   4.000   4.000 "
      ]
     },
     "metadata": {},
     "output_type": "display_data"
    },
    {
     "data": {
      "text/plain": [
       "   Min. 1st Qu.  Median    Mean 3rd Qu.    Max. \n",
       "  1.000   1.000   2.000   2.059   3.000   4.000 "
      ]
     },
     "metadata": {},
     "output_type": "display_data"
    }
   ],
   "source": [
    "summary(parole$state)\n",
    "summary(parole$crime)"
   ]
  },
  {
   "cell_type": "code",
   "execution_count": 9,
   "metadata": {},
   "outputs": [],
   "source": [
    "# Convert to Factor\n",
    "parole$state = as.factor(parole$state)\n",
    "parole$crime = as.factor(parole$crime)"
   ]
  },
  {
   "cell_type": "code",
   "execution_count": 10,
   "metadata": {},
   "outputs": [
    {
     "data": {
      "text/html": [
       "<style>\n",
       ".dl-inline {width: auto; margin:0; padding: 0}\n",
       ".dl-inline>dt, .dl-inline>dd {float: none; width: auto; display: inline-block}\n",
       ".dl-inline>dt::after {content: \":\\0020\"; padding-right: .5ex}\n",
       ".dl-inline>dt:not(:first-of-type) {padding-left: .5ex}\n",
       "</style><dl class=dl-inline><dt>1</dt><dd>143</dd><dt>2</dt><dd>120</dd><dt>3</dt><dd>82</dd><dt>4</dt><dd>330</dd></dl>\n"
      ],
      "text/latex": [
       "\\begin{description*}\n",
       "\\item[1] 143\n",
       "\\item[2] 120\n",
       "\\item[3] 82\n",
       "\\item[4] 330\n",
       "\\end{description*}\n"
      ],
      "text/markdown": [
       "1\n",
       ":   1432\n",
       ":   1203\n",
       ":   824\n",
       ":   330\n",
       "\n"
      ],
      "text/plain": [
       "  1   2   3   4 \n",
       "143 120  82 330 "
      ]
     },
     "metadata": {},
     "output_type": "display_data"
    },
    {
     "data": {
      "text/html": [
       "<style>\n",
       ".dl-inline {width: auto; margin:0; padding: 0}\n",
       ".dl-inline>dt, .dl-inline>dd {float: none; width: auto; display: inline-block}\n",
       ".dl-inline>dt::after {content: \":\\0020\"; padding-right: .5ex}\n",
       ".dl-inline>dt:not(:first-of-type) {padding-left: .5ex}\n",
       "</style><dl class=dl-inline><dt>1</dt><dd>315</dd><dt>2</dt><dd>106</dd><dt>3</dt><dd>153</dd><dt>4</dt><dd>101</dd></dl>\n"
      ],
      "text/latex": [
       "\\begin{description*}\n",
       "\\item[1] 315\n",
       "\\item[2] 106\n",
       "\\item[3] 153\n",
       "\\item[4] 101\n",
       "\\end{description*}\n"
      ],
      "text/markdown": [
       "1\n",
       ":   3152\n",
       ":   1063\n",
       ":   1534\n",
       ":   101\n",
       "\n"
      ],
      "text/plain": [
       "  1   2   3   4 \n",
       "315 106 153 101 "
      ]
     },
     "metadata": {},
     "output_type": "display_data"
    }
   ],
   "source": [
    "summary(parole$state)\n",
    "summary(parole$crime)"
   ]
  },
  {
   "cell_type": "markdown",
   "metadata": {},
   "source": [
    "The output of summary(parole$state) or summary(parole$crime) now shows a breakdown of the number of parolees with each level of the factor, which is most similar to the output of the table() function."
   ]
  },
  {
   "cell_type": "markdown",
   "metadata": {},
   "source": [
    "### Problem 3.1 - Splitting into a Training and Testing Set\n",
    "\n",
    "To ensure consistent training/testing set splits, run the following 5 lines of code (do not include the line numbers at the beginning):\n",
    "\n",
    "1) set.seed(144)\n",
    "\n",
    "2) library(caTools)\n",
    "\n",
    "3) split = sample.split(parole$violator, SplitRatio = 0.7)\n",
    "\n",
    "4) train = subset(parole, split == TRUE)\n",
    "\n",
    "5) test = subset(parole, split == FALSE)\n",
    "\n",
    "**Roughly what proportion of parolees have been allocated to the training and testing sets?**"
   ]
  },
  {
   "cell_type": "code",
   "execution_count": 12,
   "metadata": {},
   "outputs": [],
   "source": [
    "#install.packages(\"caTools\")\n",
    "library(caTools)                                        # line [1]"
   ]
  },
  {
   "cell_type": "code",
   "execution_count": 13,
   "metadata": {},
   "outputs": [],
   "source": [
    "# Split the data\n",
    "set.seed(144)                                           # line [2]\n",
    "\n",
    "split = sample.split(parole$violator, SplitRatio = 0.7) # line [3]\n",
    "\n",
    "train = subset(parole, split == TRUE)                   # line [4]\n",
    "test = subset(parole, split == FALSE)                   # line [5]"
   ]
  },
  {
   "cell_type": "markdown",
   "metadata": {},
   "source": [
    "SplitRatio = 0.7 causes split to take the value TRUE roughly 70% of the time, so train should contain roughly 70% of the values in the dataset."
   ]
  },
  {
   "cell_type": "markdown",
   "metadata": {},
   "source": [
    "### Problem 3.2 - Splitting into a Training and Testing Set\n",
    "\n",
    "**Now, suppose you re-ran lines [1]-[5] of Problem 3.1. What would you expect?**"
   ]
  },
  {
   "cell_type": "markdown",
   "metadata": {},
   "source": [
    "The exact same training/testing set split as the first execution of [1]-[5]"
   ]
  },
  {
   "cell_type": "markdown",
   "metadata": {},
   "source": [
    "**If you instead ONLY re-ran lines [3]-[5], what would you expect?**"
   ]
  },
  {
   "cell_type": "markdown",
   "metadata": {},
   "source": [
    "A different training/testing set split from the first execution of [1]-[5]"
   ]
  },
  {
   "cell_type": "markdown",
   "metadata": {},
   "source": [
    "**If you instead called set.seed() with a different number and then re-ran lines [3]-[5] of Problem 3.1, what would you expect?**"
   ]
  },
  {
   "cell_type": "markdown",
   "metadata": {},
   "source": [
    "A different training/testing set split from the first execution of [1]-[5]"
   ]
  },
  {
   "cell_type": "markdown",
   "metadata": {},
   "source": [
    "### Problem 4.1 - Building a Logistic Regression Model\n",
    "\n",
    "If you tested other training/testing set splits in the previous section, please re-run the original 5 lines of code to obtain the original split.\n",
    "\n",
    "Using glm (and remembering the parameter family=\"binomial\"), train a logistic regression model on the training set. Your dependent variable is \"violator\", and you should use all of the other variables as independent variables.\n",
    "\n",
    "**What variables are significant in this model?** Significant variables should have a least one star, or should have a probability less than 0.05 (the column Pr(>|z|) in the summary output)."
   ]
  },
  {
   "cell_type": "code",
   "execution_count": 15,
   "metadata": {},
   "outputs": [
    {
     "data": {
      "text/plain": [
       "\n",
       "Call:\n",
       "glm(formula = violator ~ ., family = \"binomial\", data = train)\n",
       "\n",
       "Deviance Residuals: \n",
       "    Min       1Q   Median       3Q      Max  \n",
       "-1.7041  -0.4236  -0.2719  -0.1690   2.8375  \n",
       "\n",
       "Coefficients:\n",
       "                    Estimate Std. Error z value Pr(>|z|)    \n",
       "(Intercept)       -4.2411574  1.2938852  -3.278  0.00105 ** \n",
       "male               0.3869904  0.4379613   0.884  0.37690    \n",
       "race               0.8867192  0.3950660   2.244  0.02480 *  \n",
       "age               -0.0001756  0.0160852  -0.011  0.99129    \n",
       "state2             0.4433007  0.4816619   0.920  0.35739    \n",
       "state3             0.8349797  0.5562704   1.501  0.13335    \n",
       "state4            -3.3967878  0.6115860  -5.554 2.79e-08 ***\n",
       "time.served       -0.1238867  0.1204230  -1.029  0.30359    \n",
       "max.sentence       0.0802954  0.0553747   1.450  0.14705    \n",
       "multiple.offenses  1.6119919  0.3853050   4.184 2.87e-05 ***\n",
       "crime2             0.6837143  0.5003550   1.366  0.17180    \n",
       "crime3            -0.2781054  0.4328356  -0.643  0.52054    \n",
       "crime4            -0.0117627  0.5713035  -0.021  0.98357    \n",
       "---\n",
       "Signif. codes:  0 '***' 0.001 '**' 0.01 '*' 0.05 '.' 0.1 ' ' 1\n",
       "\n",
       "(Dispersion parameter for binomial family taken to be 1)\n",
       "\n",
       "    Null deviance: 340.04  on 472  degrees of freedom\n",
       "Residual deviance: 251.48  on 460  degrees of freedom\n",
       "AIC: 277.48\n",
       "\n",
       "Number of Fisher Scoring iterations: 6\n"
      ]
     },
     "metadata": {},
     "output_type": "display_data"
    }
   ],
   "source": [
    "# Logistic Regression\n",
    "mod = glm(violator~., data=train, family=\"binomial\")\n",
    "summary(mod)"
   ]
  },
  {
   "cell_type": "markdown",
   "metadata": {},
   "source": [
    "Answer: *race*, *state4*, and *multiple.offenses* are significant in this model."
   ]
  },
  {
   "cell_type": "markdown",
   "metadata": {},
   "source": [
    "### Problem 4.2 - Building a Logistic Regression Model\n",
    "\n",
    "**What can we say based on the coefficient of the multiple.offenses variable?**\n",
    "\n",
    "The following two properties might be useful to you when answering this question:\n",
    "\n",
    "1) If we have a coefficient c for a variable, then that means the log odds (or Logit) are increased by c for a unit increase in the variable.\n",
    "\n",
    "2) If we have a coefficient c for a variable, then that means the odds are multiplied by e^c for a unit increase in the variable."
   ]
  },
  {
   "cell_type": "code",
   "execution_count": 16,
   "metadata": {},
   "outputs": [
    {
     "data": {
      "text/html": [
       "<style>\n",
       ".dl-inline {width: auto; margin:0; padding: 0}\n",
       ".dl-inline>dt, .dl-inline>dd {float: none; width: auto; display: inline-block}\n",
       ".dl-inline>dt::after {content: \":\\0020\"; padding-right: .5ex}\n",
       ".dl-inline>dt:not(:first-of-type) {padding-left: .5ex}\n",
       "</style><dl class=dl-inline><dt>(Intercept)</dt><dd>0.0143909262699057</dd><dt>male</dt><dd>1.47254235803815</dd><dt>race</dt><dd>2.42715366879366</dd><dt>age</dt><dd>0.99982439986818</dd><dt>state2</dt><dd>1.55784063098866</dd><dt>state3</dt><dd>2.30476715484583</dd><dt>state4</dt><dd>0.0334806451676302</dd><dt>time.served</dt><dd>0.883479931092114</dd><dt>max.sentence</dt><dd>1.08360709249038</dd><dt>multiple.offenses</dt><dd>5.0127860557031</dd><dt>crime2</dt><dd>1.98122296901413</dd><dt>crime3</dt><dd>0.757216989393696</dd><dt>crime4</dt><dd>0.98830625748146</dd></dl>\n"
      ],
      "text/latex": [
       "\\begin{description*}\n",
       "\\item[(Intercept)] 0.0143909262699057\n",
       "\\item[male] 1.47254235803815\n",
       "\\item[race] 2.42715366879366\n",
       "\\item[age] 0.99982439986818\n",
       "\\item[state2] 1.55784063098866\n",
       "\\item[state3] 2.30476715484583\n",
       "\\item[state4] 0.0334806451676302\n",
       "\\item[time.served] 0.883479931092114\n",
       "\\item[max.sentence] 1.08360709249038\n",
       "\\item[multiple.offenses] 5.0127860557031\n",
       "\\item[crime2] 1.98122296901413\n",
       "\\item[crime3] 0.757216989393696\n",
       "\\item[crime4] 0.98830625748146\n",
       "\\end{description*}\n"
      ],
      "text/markdown": [
       "(Intercept)\n",
       ":   0.0143909262699057male\n",
       ":   1.47254235803815race\n",
       ":   2.42715366879366age\n",
       ":   0.99982439986818state2\n",
       ":   1.55784063098866state3\n",
       ":   2.30476715484583state4\n",
       ":   0.0334806451676302time.served\n",
       ":   0.883479931092114max.sentence\n",
       ":   1.08360709249038multiple.offenses\n",
       ":   5.0127860557031crime2\n",
       ":   1.98122296901413crime3\n",
       ":   0.757216989393696crime4\n",
       ":   0.98830625748146\n",
       "\n"
      ],
      "text/plain": [
       "      (Intercept)              male              race               age \n",
       "       0.01439093        1.47254236        2.42715367        0.99982440 \n",
       "           state2            state3            state4       time.served \n",
       "       1.55784063        2.30476715        0.03348065        0.88347993 \n",
       "     max.sentence multiple.offenses            crime2            crime3 \n",
       "       1.08360709        5.01278606        1.98122297        0.75721699 \n",
       "           crime4 \n",
       "       0.98830626 "
      ]
     },
     "metadata": {},
     "output_type": "display_data"
    }
   ],
   "source": [
    "exp(mod$coefficients)"
   ]
  },
  {
   "cell_type": "markdown",
   "metadata": {},
   "source": [
    "Our model predicts that a parole who committed multiple offenses has 5.01 times higher odds of being a violator than a parolee who did not commit multiple offenses but is otherwise identical."
   ]
  },
  {
   "cell_type": "markdown",
   "metadata": {},
   "source": [
    "### Problem 4.3 - Building a Logistic Regression Model\n",
    "\n",
    "Consider a parolee who is male, of white race, aged 50 years at prison release, from the state of Maryland, served 3 months, had a maximum sentence of 12 months, did not commit multiple offenses, and committed a larceny. Answer the following questions based on the model's predictions for this individual. (HINT: You should use the coefficients of your model, the Logistic Response Function, and the Odds equation to solve this problem.)\n",
    "\n",
    "**According to the model, what are the odds this individual is a violator?**"
   ]
  },
  {
   "cell_type": "code",
   "execution_count": 17,
   "metadata": {},
   "outputs": [],
   "source": [
    "# Parameters\n",
    "male=1 \n",
    "race=1\n",
    "age=50\n",
    "state2=0\n",
    "state3=0\n",
    "state4=0\n",
    "time.served=3\n",
    "max.sentence=12\n",
    "multiple.offenses=0\n",
    "crime2=1\n",
    "crime3=0\n",
    "crime4=0"
   ]
  },
  {
   "cell_type": "code",
   "execution_count": 18,
   "metadata": {},
   "outputs": [
    {
     "data": {
      "text/html": [
       "-1.7006288"
      ],
      "text/latex": [
       "-1.7006288"
      ],
      "text/markdown": [
       "-1.7006288"
      ],
      "text/plain": [
       "[1] -1.700629"
      ]
     },
     "metadata": {},
     "output_type": "display_data"
    }
   ],
   "source": [
    "# Calculate log odds\n",
    "logodds =-4.2411574 + 0.3869904*male + 0.8867192*race - 0.0001756*age + 0.4433007*state2 + 0.8349797*state3 - 3.3967878*state4 - 0.1238867*time.served + 0.0802954*max.sentence + 1.6119919*multiple.offenses + 0.6837143*crime2 - 0.2781054*crime3 - 0.0117627*crime4\n",
    "logodds"
   ]
  },
  {
   "cell_type": "code",
   "execution_count": 19,
   "metadata": {},
   "outputs": [
    {
     "data": {
      "text/html": [
       "0.18256868876081"
      ],
      "text/latex": [
       "0.18256868876081"
      ],
      "text/markdown": [
       "0.18256868876081"
      ],
      "text/plain": [
       "[1] 0.1825687"
      ]
     },
     "metadata": {},
     "output_type": "display_data"
    }
   ],
   "source": [
    "# Calculate the odds\n",
    "odds = exp(logodds)\n",
    "odds"
   ]
  },
  {
   "cell_type": "code",
   "execution_count": 20,
   "metadata": {},
   "outputs": [
    {
     "data": {
      "text/html": [
       "0.154383131922333"
      ],
      "text/latex": [
       "0.154383131922333"
      ],
      "text/markdown": [
       "0.154383131922333"
      ],
      "text/plain": [
       "[1] 0.1543831"
      ]
     },
     "metadata": {},
     "output_type": "display_data"
    }
   ],
   "source": [
    "#The predicted probability of violation is:\n",
    "Prob = 1/(1+exp(1.700629))\n",
    "Prob"
   ]
  },
  {
   "cell_type": "markdown",
   "metadata": {},
   "source": [
    "Or approximately 15%."
   ]
  },
  {
   "cell_type": "markdown",
   "metadata": {},
   "source": [
    "### Problem 5.1 - Evaluating the Model on the Testing Set\n",
    "\n",
    "Use the predict() function to obtain the model's predicted probabilities for parolees in the testing set, remembering to pass type=\"response\".\n",
    "\n",
    "**What is the maximum predicted probability of a violation?**"
   ]
  },
  {
   "cell_type": "code",
   "execution_count": 32,
   "metadata": {},
   "outputs": [
    {
     "data": {
      "text/plain": [
       "    Min.  1st Qu.   Median     Mean  3rd Qu.     Max. \n",
       "0.002334 0.023777 0.057905 0.146576 0.147452 0.907279 "
      ]
     },
     "metadata": {},
     "output_type": "display_data"
    }
   ],
   "source": [
    "# Make Predictions\n",
    "predictions = predict(mod, newdata=test, type=\"response\")\n",
    "summary(predictions)"
   ]
  },
  {
   "cell_type": "markdown",
   "metadata": {},
   "source": [
    "Max Probability approx. 91%"
   ]
  },
  {
   "cell_type": "markdown",
   "metadata": {},
   "source": [
    "### Problem 5.2 - Evaluating the Model on the Testing Set\n",
    "\n",
    "In the following questions, evaluate the model's predictions on the test set using a threshold of 0.5."
   ]
  },
  {
   "cell_type": "code",
   "execution_count": 38,
   "metadata": {},
   "outputs": [
    {
     "data": {
      "text/plain": [
       "   \n",
       "    FALSE TRUE\n",
       "  0   167   12\n",
       "  1    11   12"
      ]
     },
     "metadata": {},
     "output_type": "display_data"
    }
   ],
   "source": [
    "# Model Predictions with threshold of 0.5\n",
    "z = table(test$violator, predictions > 0.5)\n",
    "z"
   ]
  },
  {
   "cell_type": "markdown",
   "metadata": {},
   "source": [
    "The **rows** are labeled with the actual outcome, and the **columns** are labeled with the predicted outcome.\n",
    "\n",
    "                Predict 0       Predict 1\n",
    "    Actual 0    True Negative   False Positive\n",
    "    Actual 1    False Negative  True Positive\n",
    "    \n",
    "    z = [1][3]\n",
    "        [2][4]\n"
   ]
  },
  {
   "cell_type": "markdown",
   "metadata": {},
   "source": [
    "Sensitivity = $\\frac{TP}{TP + FN}$ (measures the percentage of non violators\n",
    "that we classify correctly)\n",
    "\n",
    "Specifity = $\\frac{TN}{TN + FP}$ (measures the percentage of vaiolators\n",
    "that we classify correctly)"
   ]
  },
  {
   "cell_type": "markdown",
   "metadata": {},
   "source": [
    "**What is the model's sensitivity?**"
   ]
  },
  {
   "cell_type": "code",
   "execution_count": 39,
   "metadata": {},
   "outputs": [
    {
     "data": {
      "text/html": [
       "<span style=white-space:pre-wrap>'Sensibility:  0.521739130434783'</span>"
      ],
      "text/latex": [
       "'Sensibility:  0.521739130434783'"
      ],
      "text/markdown": [
       "<span style=white-space:pre-wrap>'Sensibility:  0.521739130434783'</span>"
      ],
      "text/plain": [
       "[1] \"Sensibility:  0.521739130434783\""
      ]
     },
     "metadata": {},
     "output_type": "display_data"
    }
   ],
   "source": [
    "# Calculate Sensitivty        # TP/(TP+FN)\n",
    "sensi <- z[4]/(z[4]+z[2])     # 12/23\n",
    "paste(\"Sensibility: \", sensi)"
   ]
  },
  {
   "cell_type": "markdown",
   "metadata": {},
   "source": [
    "**What is the model's specificity?**"
   ]
  },
  {
   "cell_type": "code",
   "execution_count": 40,
   "metadata": {},
   "outputs": [
    {
     "data": {
      "text/html": [
       "<span style=white-space:pre-wrap>'Specificity:  0.932960893854749'</span>"
      ],
      "text/latex": [
       "'Specificity:  0.932960893854749'"
      ],
      "text/markdown": [
       "<span style=white-space:pre-wrap>'Specificity:  0.932960893854749'</span>"
      ],
      "text/plain": [
       "[1] \"Specificity:  0.932960893854749\""
      ]
     },
     "metadata": {},
     "output_type": "display_data"
    }
   ],
   "source": [
    "# Calculate specifcity      # TN/(TN+FP)\n",
    "speci <- z[1]/(z[3]+z[1])   # 167/179\n",
    "paste(\"Specificity: \", speci)"
   ]
  },
  {
   "cell_type": "markdown",
   "metadata": {},
   "source": [
    "**What is the model's accuracy?**"
   ]
  },
  {
   "cell_type": "code",
   "execution_count": 41,
   "metadata": {},
   "outputs": [
    {
     "data": {
      "text/html": [
       "<span style=white-space:pre-wrap>'Accuracy:  0.886138613861386'</span>"
      ],
      "text/latex": [
       "'Accuracy:  0.886138613861386'"
      ],
      "text/markdown": [
       "<span style=white-space:pre-wrap>'Accuracy:  0.886138613861386'</span>"
      ],
      "text/plain": [
       "[1] \"Accuracy:  0.886138613861386\""
      ]
     },
     "metadata": {},
     "output_type": "display_data"
    }
   ],
   "source": [
    "# Calculate accuracy                        # (TN+TP)/(TN+FN+TP+FP)\n",
    "accur <- (z[1]+z[4])/(z[1]+z[2]+z[3]+z[4])  # 179/202\n",
    "paste(\"Accuracy: \", accur)                  # sum(diag(z))/sum(z)"
   ]
  },
  {
   "cell_type": "markdown",
   "metadata": {},
   "source": [
    "### Problem 5.3 - Evaluating the Model on the Testing Set\n",
    "\n",
    "**What is the accuracy of a simple model that predicts that every parolee is a non-violator?**"
   ]
  },
  {
   "cell_type": "code",
   "execution_count": 44,
   "metadata": {},
   "outputs": [
    {
     "data": {
      "text/plain": [
       "\n",
       "  0   1 \n",
       "179  23 "
      ]
     },
     "metadata": {},
     "output_type": "display_data"
    }
   ],
   "source": [
    "# Tabulate the baseline (simple model)\n",
    "v = table(test$violator)"
   ]
  },
  {
   "cell_type": "code",
   "execution_count": 55,
   "metadata": {},
   "outputs": [
    {
     "data": {
      "text/html": [
       "<span style=white-space:pre-wrap>'Simple Model Accuracy:  0.886138613861386'</span>"
      ],
      "text/latex": [
       "'Simple Model Accuracy:  0.886138613861386'"
      ],
      "text/markdown": [
       "<span style=white-space:pre-wrap>'Simple Model Accuracy:  0.886138613861386'</span>"
      ],
      "text/plain": [
       "[1] \"Simple Model Accuracy:  0.886138613861386\""
      ]
     },
     "metadata": {},
     "output_type": "display_data"
    }
   ],
   "source": [
    "# accuracy of a simple model = non-violator/total\n",
    "accursm = v[1]/(v[1]+v[2])\n",
    "paste(\"Simple Model Accuracy: \", accursm)    "
   ]
  },
  {
   "cell_type": "markdown",
   "metadata": {},
   "source": [
    "### Problem 5.4 - Evaluating the Model on the Testing Set\n",
    "\n",
    "Consider a parole board using the model to predict whether parolees will be violators or not. The job of a parole board is to make sure that a prisoner is ready to be released into free society, and therefore parole boards tend to be particularily concerned about releasing prisoners who will violate their parole. **Which of the following most likely describes their preferences and best course of action?**"
   ]
  },
  {
   "cell_type": "markdown",
   "metadata": {},
   "source": [
    "If the board used the model for parole decisions, a negative prediction would lead to a prisoner being granted parole, while a positive prediction would lead to a prisoner being denied parole. The parole board would experience more regret for releasing a prisoner who then violates parole (a negative prediction that is actually positive, or false negative) than it would experience for denying parole to a prisoner who would not have violated parole (a positive prediction that is actually negative, or false positive).\n",
    "\n",
    "Decreasing the cutoff leads to more positive predictions, which increases false positives and decreases false negatives. Meanwhile, increasing the cutoff leads to more negative predictions, which increases false negatives and decreases false positives. The parole board assigns high cost to false negatives, and therefore should decrease the cutoff."
   ]
  },
  {
   "cell_type": "markdown",
   "metadata": {},
   "source": [
    "### Problem 5.5 - Evaluating the Model on the Testing Set\n",
    "\n",
    "**Which of the following is the most accurate assessment of the value of the logistic regression model with a cutoff 0.5 to a parole board, based on the model's accuracy as compared to the simple baseline model?**"
   ]
  },
  {
   "cell_type": "markdown",
   "metadata": {},
   "source": [
    "The model at cutoff 0.5 has 12 false positives and 11 false negatives, while the baseline model has 0 false positives and 23 false negatives. Because a parole board is likely to assign more cost to a false negative, the model at cutoff 0.5 is likely of value to the board.\n",
    "\n",
    "From the previous question, the parole board would likely benefit from decreasing the logistic regression cutoffs, which decreases the false negative rate while increasing the false positive rate."
   ]
  },
  {
   "cell_type": "markdown",
   "metadata": {},
   "source": [
    "### Problem 5.6 - Evaluating the Model on the Testing Set\n",
    "\n",
    "**Using the ROCR package, what is the AUC value for the model?**"
   ]
  },
  {
   "cell_type": "code",
   "execution_count": 57,
   "metadata": {},
   "outputs": [],
   "source": [
    "#install.packages(\"ROCR\")\n",
    "library(ROCR)"
   ]
  },
  {
   "cell_type": "code",
   "execution_count": 60,
   "metadata": {},
   "outputs": [
    {
     "data": {
      "text/html": [
       "<span style=white-space:pre-wrap>'AUC:  0.894583434539713'</span>"
      ],
      "text/latex": [
       "'AUC:  0.894583434539713'"
      ],
      "text/markdown": [
       "<span style=white-space:pre-wrap>'AUC:  0.894583434539713'</span>"
      ],
      "text/plain": [
       "[1] \"AUC:  0.894583434539713\""
      ]
     },
     "metadata": {},
     "output_type": "display_data"
    }
   ],
   "source": [
    "# Calculate AUC\n",
    "pred = prediction(predictions, test$violator)\n",
    "\n",
    "AUC <- as.numeric(performance(pred, \"auc\")@y.values)\n",
    "paste(\"AUC: \", AUC)   "
   ]
  },
  {
   "cell_type": "markdown",
   "metadata": {},
   "source": [
    "### Problem 5.7 - Evaluating the Model on the Testing Set\n",
    "\n",
    "**Describe the meaning of AUC in this context.**"
   ]
  },
  {
   "cell_type": "markdown",
   "metadata": {},
   "source": [
    "The AUC deals with differentiating between a randomly selected positive and negative example. It is independent of the regression cutoff selected."
   ]
  },
  {
   "cell_type": "markdown",
   "metadata": {},
   "source": [
    "### Problem 6.1 - Identifying Bias in Observational Data\n",
    "\n",
    "Our goal has been to predict the outcome of a parole decision, and we used a publicly available dataset of parole releases for predictions. In this final problem, we'll evaluate a potential source of bias associated with our analysis. It is always important to evaluate a dataset for possible sources of bias.\n",
    "\n",
    "The dataset contains all individuals released from parole in 2004, either due to completing their parole term or violating the terms of their parole. However, it does not contain parolees who neither violated their parole nor completed their term in 2004, causing non-violators to be underrepresented. This is called \"selection bias\" or \"selecting on the dependent variable,\" because only a subset of all relevant parolees were included in our analysis, based on our dependent variable in this analysis (parole violation). **How could we improve our dataset to best address selection bias?**"
   ]
  },
  {
   "cell_type": "markdown",
   "metadata": {},
   "source": [
    "While expanding the dataset to include the missing parolees and labeling each as violator = 0 would improve the representation of non-violators, it does not capture the true outcome, since the parolee might become a violator after 2004. Though labeling these new examples with violator = NA correctly identifies that we don’t know their true outcome, we cannot train or test a prediction model with a missing dependent variable.\n",
    "\n",
    "As a result, a prospective dataset that tracks a cohort of parolees and observes the true outcome of each is more desirable. Unfortunately, such datasets are often more challenging to obtain (for instance, if a parolee had a 10-year term, it might require tracking that individual for 10 years before building the model). Such a prospective analysis would not be possible using the 2004 National Corrections Reporting Program dataset."
   ]
  }
 ],
 "metadata": {
  "kernelspec": {
   "display_name": "R",
   "language": "R",
   "name": "ir"
  },
  "language_info": {
   "codemirror_mode": "r",
   "file_extension": ".r",
   "mimetype": "text/x-r-source",
   "name": "R",
   "pygments_lexer": "r",
   "version": "3.6.3"
  }
 },
 "nbformat": 4,
 "nbformat_minor": 4
}
