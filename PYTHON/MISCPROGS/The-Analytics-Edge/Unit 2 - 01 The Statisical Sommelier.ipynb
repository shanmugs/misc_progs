{
 "cells": [
  {
   "cell_type": "markdown",
   "metadata": {},
   "source": [
    "# The Statisical Sommelier: An Introduction to Linear Regression"
   ]
  },
  {
   "cell_type": "markdown",
   "metadata": {},
   "source": [
    "### Bordeaux Wine\n",
    "\n",
    "* Large differences in price and quality between years, although wine is produced in a similar way \n",
    "\n",
    "* Meant to be aged, so hard to tell if  wine will be good  when it is on the market \n",
    "\n",
    "* Can analytics be used to come up with a different system for judging wine?"
   ]
  },
  {
   "cell_type": "markdown",
   "metadata": {},
   "source": [
    "### Building a Model\n",
    "\n",
    "* March 1990 - Orley Ashenfelter, a Princeton economics professor, claims he can predict wine quality without tasting the wine \n",
    "\n",
    "\n",
    "* Ashenfelter used a method called\n",
    "**linear regression** \n",
    "    + Predicts an outcome variable, or dependent variable \n",
    "    + Predicts using a set of independent variables \n",
    "\n",
    "\n",
    "* Dependent variable: typical price in 1990-1991 wine auctions (approximates quality)  \n",
    "\n",
    "\n",
    "* Independent variables:\n",
    "    + Age - older wines are more expensive \n",
    "    + Weather \n",
    "        - Average Growing Season Temperature \n",
    "        - Harvest Rain \n",
    "        - Winter Rain "
   ]
  },
  {
   "cell_type": "markdown",
   "metadata": {},
   "source": [
    "### Read in data"
   ]
  },
  {
   "cell_type": "code",
   "execution_count": 1,
   "metadata": {},
   "outputs": [
    {
     "data": {
      "text/html": [
       "<table>\n",
       "<caption>A data.frame: 6 × 7</caption>\n",
       "<thead>\n",
       "\t<tr><th></th><th scope=col>Year</th><th scope=col>Price</th><th scope=col>WinterRain</th><th scope=col>AGST</th><th scope=col>HarvestRain</th><th scope=col>Age</th><th scope=col>FrancePop</th></tr>\n",
       "\t<tr><th></th><th scope=col>&lt;int&gt;</th><th scope=col>&lt;dbl&gt;</th><th scope=col>&lt;int&gt;</th><th scope=col>&lt;dbl&gt;</th><th scope=col>&lt;int&gt;</th><th scope=col>&lt;int&gt;</th><th scope=col>&lt;dbl&gt;</th></tr>\n",
       "</thead>\n",
       "<tbody>\n",
       "\t<tr><th scope=row>1</th><td>1952</td><td>7.4950</td><td>600</td><td>17.1167</td><td>160</td><td>31</td><td>43183.57</td></tr>\n",
       "\t<tr><th scope=row>2</th><td>1953</td><td>8.0393</td><td>690</td><td>16.7333</td><td> 80</td><td>30</td><td>43495.03</td></tr>\n",
       "\t<tr><th scope=row>3</th><td>1955</td><td>7.6858</td><td>502</td><td>17.1500</td><td>130</td><td>28</td><td>44217.86</td></tr>\n",
       "\t<tr><th scope=row>4</th><td>1957</td><td>6.9845</td><td>420</td><td>16.1333</td><td>110</td><td>26</td><td>45152.25</td></tr>\n",
       "\t<tr><th scope=row>5</th><td>1958</td><td>6.7772</td><td>582</td><td>16.4167</td><td>187</td><td>25</td><td>45653.81</td></tr>\n",
       "\t<tr><th scope=row>6</th><td>1959</td><td>8.0757</td><td>485</td><td>17.4833</td><td>187</td><td>24</td><td>46128.64</td></tr>\n",
       "</tbody>\n",
       "</table>\n"
      ],
      "text/latex": [
       "A data.frame: 6 × 7\n",
       "\\begin{tabular}{r|lllllll}\n",
       "  & Year & Price & WinterRain & AGST & HarvestRain & Age & FrancePop\\\\\n",
       "  & <int> & <dbl> & <int> & <dbl> & <int> & <int> & <dbl>\\\\\n",
       "\\hline\n",
       "\t1 & 1952 & 7.4950 & 600 & 17.1167 & 160 & 31 & 43183.57\\\\\n",
       "\t2 & 1953 & 8.0393 & 690 & 16.7333 &  80 & 30 & 43495.03\\\\\n",
       "\t3 & 1955 & 7.6858 & 502 & 17.1500 & 130 & 28 & 44217.86\\\\\n",
       "\t4 & 1957 & 6.9845 & 420 & 16.1333 & 110 & 26 & 45152.25\\\\\n",
       "\t5 & 1958 & 6.7772 & 582 & 16.4167 & 187 & 25 & 45653.81\\\\\n",
       "\t6 & 1959 & 8.0757 & 485 & 17.4833 & 187 & 24 & 46128.64\\\\\n",
       "\\end{tabular}\n"
      ],
      "text/markdown": [
       "\n",
       "A data.frame: 6 × 7\n",
       "\n",
       "| <!--/--> | Year &lt;int&gt; | Price &lt;dbl&gt; | WinterRain &lt;int&gt; | AGST &lt;dbl&gt; | HarvestRain &lt;int&gt; | Age &lt;int&gt; | FrancePop &lt;dbl&gt; |\n",
       "|---|---|---|---|---|---|---|---|\n",
       "| 1 | 1952 | 7.4950 | 600 | 17.1167 | 160 | 31 | 43183.57 |\n",
       "| 2 | 1953 | 8.0393 | 690 | 16.7333 |  80 | 30 | 43495.03 |\n",
       "| 3 | 1955 | 7.6858 | 502 | 17.1500 | 130 | 28 | 44217.86 |\n",
       "| 4 | 1957 | 6.9845 | 420 | 16.1333 | 110 | 26 | 45152.25 |\n",
       "| 5 | 1958 | 6.7772 | 582 | 16.4167 | 187 | 25 | 45653.81 |\n",
       "| 6 | 1959 | 8.0757 | 485 | 17.4833 | 187 | 24 | 46128.64 |\n",
       "\n"
      ],
      "text/plain": [
       "  Year Price  WinterRain AGST    HarvestRain Age FrancePop\n",
       "1 1952 7.4950 600        17.1167 160         31  43183.57 \n",
       "2 1953 8.0393 690        16.7333  80         30  43495.03 \n",
       "3 1955 7.6858 502        17.1500 130         28  44217.86 \n",
       "4 1957 6.9845 420        16.1333 110         26  45152.25 \n",
       "5 1958 6.7772 582        16.4167 187         25  45653.81 \n",
       "6 1959 8.0757 485        17.4833 187         24  46128.64 "
      ]
     },
     "metadata": {},
     "output_type": "display_data"
    }
   ],
   "source": [
    "wine <- read.csv('data/wine.csv')\n",
    "head(wine)"
   ]
  },
  {
   "cell_type": "code",
   "execution_count": 2,
   "metadata": {},
   "outputs": [
    {
     "name": "stdout",
     "output_type": "stream",
     "text": [
      "'data.frame':\t25 obs. of  7 variables:\n",
      " $ Year       : int  1952 1953 1955 1957 1958 1959 1960 1961 1962 1963 ...\n",
      " $ Price      : num  7.5 8.04 7.69 6.98 6.78 ...\n",
      " $ WinterRain : int  600 690 502 420 582 485 763 830 697 608 ...\n",
      " $ AGST       : num  17.1 16.7 17.1 16.1 16.4 ...\n",
      " $ HarvestRain: int  160 80 130 110 187 187 290 38 52 155 ...\n",
      " $ Age        : int  31 30 28 26 25 24 23 22 21 20 ...\n",
      " $ FrancePop  : num  43184 43495 44218 45152 45654 ...\n"
     ]
    }
   ],
   "source": [
    "str(wine)"
   ]
  },
  {
   "cell_type": "code",
   "execution_count": 3,
   "metadata": {},
   "outputs": [
    {
     "data": {
      "text/plain": [
       "      Year          Price         WinterRain         AGST        HarvestRain   \n",
       " Min.   :1952   Min.   :6.205   Min.   :376.0   Min.   :14.98   Min.   : 38.0  \n",
       " 1st Qu.:1960   1st Qu.:6.519   1st Qu.:536.0   1st Qu.:16.20   1st Qu.: 89.0  \n",
       " Median :1966   Median :7.121   Median :600.0   Median :16.53   Median :130.0  \n",
       " Mean   :1966   Mean   :7.067   Mean   :605.3   Mean   :16.51   Mean   :148.6  \n",
       " 3rd Qu.:1972   3rd Qu.:7.495   3rd Qu.:697.0   3rd Qu.:17.07   3rd Qu.:187.0  \n",
       " Max.   :1978   Max.   :8.494   Max.   :830.0   Max.   :17.65   Max.   :292.0  \n",
       "      Age         FrancePop    \n",
       " Min.   : 5.0   Min.   :43184  \n",
       " 1st Qu.:11.0   1st Qu.:46584  \n",
       " Median :17.0   Median :50255  \n",
       " Mean   :17.2   Mean   :49694  \n",
       " 3rd Qu.:23.0   3rd Qu.:52894  \n",
       " Max.   :31.0   Max.   :54602  "
      ]
     },
     "metadata": {},
     "output_type": "display_data"
    }
   ],
   "source": [
    "summary(wine)"
   ]
  },
  {
   "cell_type": "code",
   "execution_count": 4,
   "metadata": {},
   "outputs": [
    {
     "data": {
      "image/png": "[encoded data removed]",
      "text/plain": [
       "Plot with title \"Price x AGTS\""
      ]
     },
     "metadata": {
      "image/png": {
       "height": 420,
       "width": 420
      },
      "text/plain": {
       "height": 420,
       "width": 420
      }
     },
     "output_type": "display_data"
    }
   ],
   "source": [
    "plot(wine$AGST, wine$Price, main = \"Price x AGTS\",xlab='AGTS',ylab='Price')"
   ]
  },
  {
   "cell_type": "markdown",
   "metadata": {},
   "source": [
    "### Linear Regression (one variable)"
   ]
  },
  {
   "cell_type": "code",
   "execution_count": 5,
   "metadata": {},
   "outputs": [
    {
     "data": {
      "text/plain": [
       "\n",
       "Call:\n",
       "lm(formula = Price ~ AGST, data = wine)\n",
       "\n",
       "Residuals:\n",
       "     Min       1Q   Median       3Q      Max \n",
       "-0.78450 -0.23882 -0.03727  0.38992  0.90318 \n",
       "\n",
       "Coefficients:\n",
       "            Estimate Std. Error t value Pr(>|t|)    \n",
       "(Intercept)  -3.4178     2.4935  -1.371 0.183710    \n",
       "AGST          0.6351     0.1509   4.208 0.000335 ***\n",
       "---\n",
       "Signif. codes:  0 '***' 0.001 '**' 0.01 '*' 0.05 '.' 0.1 ' ' 1\n",
       "\n",
       "Residual standard error: 0.4993 on 23 degrees of freedom\n",
       "Multiple R-squared:  0.435,\tAdjusted R-squared:  0.4105 \n",
       "F-statistic: 17.71 on 1 and 23 DF,  p-value: 0.000335\n"
      ]
     },
     "metadata": {},
     "output_type": "display_data"
    }
   ],
   "source": [
    "model1 = lm(Price ~ AGST, data=wine)\n",
    "summary(model1)"
   ]
  },
  {
   "cell_type": "markdown",
   "metadata": {},
   "source": [
    "#### Sum of Squared Errors"
   ]
  },
  {
   "cell_type": "code",
   "execution_count": 6,
   "metadata": {},
   "outputs": [
    {
     "data": {
      "text/html": [
       "<style>\n",
       ".dl-inline {width: auto; margin:0; padding: 0}\n",
       ".dl-inline>dt, .dl-inline>dd {float: none; width: auto; display: inline-block}\n",
       ".dl-inline>dt::after {content: \":\\0020\"; padding-right: .5ex}\n",
       ".dl-inline>dt:not(:first-of-type) {padding-left: .5ex}\n",
       "</style><dl class=dl-inline><dt>1</dt><dd>0.0420425810460248</dd><dt>2</dt><dd>0.829837738524831</dd><dt>3</dt><dd>0.211693940607737</dd><dt>4</dt><dd>0.156094322998686</dd><dt>5</dt><dd>-0.231191403734466</dd><dt>6</dt><dd>0.389917007932509</dd><dt>7</dt><dd>-0.489591403734466</dd><dt>8</dt><dd>0.903181154050973</dd><dt>9</dt><dd>0.453724101945698</dd><dt>10</dt><dd>0.148874611485033</dd><dt>11</dt><dd>-0.238821565072429</dd><dt>12</dt><dd>-0.089742380905218</dd><dt>13</dt><dd>0.661856600016114</dd><dt>14</dt><dd>-0.0521151077469572</dd><dt>15</dt><dd>-0.627266467308658</dd><dt>16</dt><dd>-0.747149474918408</dd><dt>17</dt><dd>0.421135019401428</dd><dt>18</dt><dd>-0.0372744113442161</dd><dt>19</dt><dd>0.106852776573576</dd><dt>20</dt><dd>-0.784502703581144</dd><dt>21</dt><dd>-0.640175898054302</dd><dt>22</dt><dd>-0.0550871979009784</dd><dt>23</dt><dd>-0.670553213120476</dd><dt>24</dt><dd>-0.22040380790028</dd><dt>25</dt><dd>0.558665180739389</dd></dl>\n"
      ],
      "text/latex": [
       "\\begin{description*}\n",
       "\\item[1] 0.0420425810460248\n",
       "\\item[2] 0.829837738524831\n",
       "\\item[3] 0.211693940607737\n",
       "\\item[4] 0.156094322998686\n",
       "\\item[5] -0.231191403734466\n",
       "\\item[6] 0.389917007932509\n",
       "\\item[7] -0.489591403734466\n",
       "\\item[8] 0.903181154050973\n",
       "\\item[9] 0.453724101945698\n",
       "\\item[10] 0.148874611485033\n",
       "\\item[11] -0.238821565072429\n",
       "\\item[12] -0.089742380905218\n",
       "\\item[13] 0.661856600016114\n",
       "\\item[14] -0.0521151077469572\n",
       "\\item[15] -0.627266467308658\n",
       "\\item[16] -0.747149474918408\n",
       "\\item[17] 0.421135019401428\n",
       "\\item[18] -0.0372744113442161\n",
       "\\item[19] 0.106852776573576\n",
       "\\item[20] -0.784502703581144\n",
       "\\item[21] -0.640175898054302\n",
       "\\item[22] -0.0550871979009784\n",
       "\\item[23] -0.670553213120476\n",
       "\\item[24] -0.22040380790028\n",
       "\\item[25] 0.558665180739389\n",
       "\\end{description*}\n"
      ],
      "text/markdown": [
       "1\n",
       ":   0.04204258104602482\n",
       ":   0.8298377385248313\n",
       ":   0.2116939406077374\n",
       ":   0.1560943229986865\n",
       ":   -0.2311914037344666\n",
       ":   0.3899170079325097\n",
       ":   -0.4895914037344668\n",
       ":   0.9031811540509739\n",
       ":   0.45372410194569810\n",
       ":   0.14887461148503311\n",
       ":   -0.23882156507242912\n",
       ":   -0.08974238090521813\n",
       ":   0.66185660001611414\n",
       ":   -0.052115107746957215\n",
       ":   -0.62726646730865816\n",
       ":   -0.74714947491840817\n",
       ":   0.42113501940142818\n",
       ":   -0.037274411344216119\n",
       ":   0.10685277657357620\n",
       ":   -0.78450270358114421\n",
       ":   -0.64017589805430222\n",
       ":   -0.055087197900978423\n",
       ":   -0.67055321312047624\n",
       ":   -0.2204038079002825\n",
       ":   0.558665180739389\n",
       "\n"
      ],
      "text/plain": [
       "          1           2           3           4           5           6 \n",
       " 0.04204258  0.82983774  0.21169394  0.15609432 -0.23119140  0.38991701 \n",
       "          7           8           9          10          11          12 \n",
       "-0.48959140  0.90318115  0.45372410  0.14887461 -0.23882157 -0.08974238 \n",
       "         13          14          15          16          17          18 \n",
       " 0.66185660 -0.05211511 -0.62726647 -0.74714947  0.42113502 -0.03727441 \n",
       "         19          20          21          22          23          24 \n",
       " 0.10685278 -0.78450270 -0.64017590 -0.05508720 -0.67055321 -0.22040381 \n",
       "         25 \n",
       " 0.55866518 "
      ]
     },
     "metadata": {},
     "output_type": "display_data"
    }
   ],
   "source": [
    "model1$residuals"
   ]
  },
  {
   "cell_type": "code",
   "execution_count": 7,
   "metadata": {},
   "outputs": [
    {
     "data": {
      "text/html": [
       "5.73487514702012"
      ],
      "text/latex": [
       "5.73487514702012"
      ],
      "text/markdown": [
       "5.73487514702012"
      ],
      "text/plain": [
       "[1] 5.734875"
      ]
     },
     "metadata": {},
     "output_type": "display_data"
    }
   ],
   "source": [
    "SSE = sum(model1$residuals^2)\n",
    "SSE"
   ]
  },
  {
   "cell_type": "markdown",
   "metadata": {},
   "source": [
    "### Linear Regression (two variables)"
   ]
  },
  {
   "cell_type": "code",
   "execution_count": 8,
   "metadata": {},
   "outputs": [
    {
     "data": {
      "text/plain": [
       "\n",
       "Call:\n",
       "lm(formula = Price ~ AGST + HarvestRain, data = wine)\n",
       "\n",
       "Residuals:\n",
       "     Min       1Q   Median       3Q      Max \n",
       "-0.88321 -0.19600  0.06178  0.15379  0.59722 \n",
       "\n",
       "Coefficients:\n",
       "            Estimate Std. Error t value Pr(>|t|)    \n",
       "(Intercept) -2.20265    1.85443  -1.188 0.247585    \n",
       "AGST         0.60262    0.11128   5.415 1.94e-05 ***\n",
       "HarvestRain -0.00457    0.00101  -4.525 0.000167 ***\n",
       "---\n",
       "Signif. codes:  0 '***' 0.001 '**' 0.01 '*' 0.05 '.' 0.1 ' ' 1\n",
       "\n",
       "Residual standard error: 0.3674 on 22 degrees of freedom\n",
       "Multiple R-squared:  0.7074,\tAdjusted R-squared:  0.6808 \n",
       "F-statistic: 26.59 on 2 and 22 DF,  p-value: 1.347e-06\n"
      ]
     },
     "metadata": {},
     "output_type": "display_data"
    }
   ],
   "source": [
    "model2 = lm(Price ~ AGST + HarvestRain, data=wine)\n",
    "summary(model2)"
   ]
  },
  {
   "cell_type": "markdown",
   "metadata": {},
   "source": [
    "**Important:**\n",
    "\n",
    "**Multiple R-squared** will always *increase* if you add more independent variables. But **Adjusted R-squared** will *decrease* if you add an independent variable that doesn't help the model.\n",
    "\n",
    "(AGST only)      Multiple R-squared:  0.435,\tAdjusted R-squared:  0.4105\n",
    "\n",
    "(AGST + HarvestRain) Multiple R-squared:  0.7074,\tAdjusted R-squared:  0.6808  -> **Better!**"
   ]
  },
  {
   "cell_type": "markdown",
   "metadata": {},
   "source": [
    "#### Sum of Squared Errors"
   ]
  },
  {
   "cell_type": "code",
   "execution_count": 9,
   "metadata": {},
   "outputs": [
    {
     "data": {
      "text/html": [
       "2.97037334017354"
      ],
      "text/latex": [
       "2.97037334017354"
      ],
      "text/markdown": [
       "2.97037334017354"
      ],
      "text/plain": [
       "[1] 2.970373"
      ]
     },
     "metadata": {},
     "output_type": "display_data"
    }
   ],
   "source": [
    "SSE = sum(model2$residuals^2)\n",
    "SSE"
   ]
  },
  {
   "cell_type": "markdown",
   "metadata": {},
   "source": [
    "### Linear Regression (all variables)"
   ]
  },
  {
   "cell_type": "code",
   "execution_count": 10,
   "metadata": {},
   "outputs": [
    {
     "data": {
      "text/plain": [
       "\n",
       "Call:\n",
       "lm(formula = Price ~ AGST + HarvestRain + WinterRain + Age + \n",
       "    FrancePop, data = wine)\n",
       "\n",
       "Residuals:\n",
       "     Min       1Q   Median       3Q      Max \n",
       "-0.48179 -0.24662 -0.00726  0.22012  0.51987 \n",
       "\n",
       "Coefficients:\n",
       "              Estimate Std. Error t value Pr(>|t|)    \n",
       "(Intercept) -4.504e-01  1.019e+01  -0.044 0.965202    \n",
       "AGST         6.012e-01  1.030e-01   5.836 1.27e-05 ***\n",
       "HarvestRain -3.958e-03  8.751e-04  -4.523 0.000233 ***\n",
       "WinterRain   1.043e-03  5.310e-04   1.963 0.064416 .  \n",
       "Age          5.847e-04  7.900e-02   0.007 0.994172    \n",
       "FrancePop   -4.953e-05  1.667e-04  -0.297 0.769578    \n",
       "---\n",
       "Signif. codes:  0 '***' 0.001 '**' 0.01 '*' 0.05 '.' 0.1 ' ' 1\n",
       "\n",
       "Residual standard error: 0.3019 on 19 degrees of freedom\n",
       "Multiple R-squared:  0.8294,\tAdjusted R-squared:  0.7845 \n",
       "F-statistic: 18.47 on 5 and 19 DF,  p-value: 1.044e-06\n"
      ]
     },
     "metadata": {},
     "output_type": "display_data"
    }
   ],
   "source": [
    "model3 = lm(Price ~ AGST + HarvestRain + WinterRain + Age + FrancePop, data=wine)\n",
    "summary(model3)"
   ]
  },
  {
   "cell_type": "markdown",
   "metadata": {},
   "source": [
    "**Model Analysis**\n",
    "\n",
    "(AGST only) Multiple R-squared: 0.435, Adjusted R-squared: 0.4105\n",
    "\n",
    "(AGST + HarvestRain) Multiple R-squared: 0.7074, Adjusted R-squared: 0.6808\n",
    "\n",
    "(AGST + HarvestRain + WinterRain + Age + FrancePop) Multiple R-squared:  0.8294,\tAdjusted R-squared:  0.7845 -> **Better!**"
   ]
  },
  {
   "cell_type": "markdown",
   "metadata": {},
   "source": [
    "#### Sum of Squared Errors"
   ]
  },
  {
   "cell_type": "code",
   "execution_count": 11,
   "metadata": {},
   "outputs": [
    {
     "data": {
      "text/html": [
       "1.7321127153438"
      ],
      "text/latex": [
       "1.7321127153438"
      ],
      "text/markdown": [
       "1.7321127153438"
      ],
      "text/plain": [
       "[1] 1.732113"
      ]
     },
     "metadata": {},
     "output_type": "display_data"
    }
   ],
   "source": [
    "SSE = sum(model3$residuals^2)\n",
    "SSE"
   ]
  },
  {
   "cell_type": "markdown",
   "metadata": {},
   "source": [
    "### Coefficients\n",
    "\n",
    "The **Estimate** column gives the coefficients for the intercept and for each of the independent variables in our model. The remaining columns help us to determine if a variable should be included in the model, or if its *coefficient is significantly different from 0*.\n",
    "\n",
    "A coefficient of 0 means that the value of the independent variable does not change our prediction for the dependent variable. If a coefficient is not significantly different from 0, then we should probably remove the variable from our model.\n",
    "\n",
    "Coefficients:\n",
    "\n",
    "                 Estimate        Std. Error      t value      Pr(>|t|)    \n",
    "              \n",
    "    (Intercept)  4.504e-01       1.019e+01       -0.044       0.965202    \n",
    "\n",
    "    AGST         6.012e-01       1.030e-01        5.836       1.27e-05   ***\n",
    "\n",
    "    HarvestRain -3.958e-03       8.751e-04       -4.523       0.000233   ***\n",
    "\n",
    "    WinterRain   1.043e-03       5.310e-04        1.963       0.064416   .  \n",
    "\n",
    "    Age          5.847e-04       7.900e-02        0.007       0.994172    \n",
    "\n",
    "    FrancePop   -4.953e-05       1.667e-04       -0.297       0.769578  \n",
    "\n",
    "The **standard error** column gives a measure of how much the coefficient is likely to vary from the estimate value.\n",
    "\n",
    "The **t value** is the estimate divided by the standard error. It will be negative if the estimate is negative and positive if the estimate is positive. The larger the absolute value of the t value, the more likely the coefficient is to be significant.\n",
    "So we want independent variables with a large absolute value in this column. (t value = Estimate/Std.Error)\n",
    "\n",
    "The **Pr column** gives a measure of how plausible it is that the coefficient is actually 0. The less plausible it is, or the smaller the probability number in this column, the less likely it is that our coefficient estimate is actually 0. We want independent variables with small values in this column."
   ]
  },
  {
   "cell_type": "markdown",
   "metadata": {},
   "source": [
    "### Star Coding\n",
    "\n",
    "The star coding scheme is explained at the bottom of the Coefficients table.\n",
    "\n",
    "**Three stars** is the highest level of significanceand corresponds to a probability value less than 0.001, or the smallest possible probabilities.\n",
    "\n",
    "**Two stars** is also very significant and corresponds to a probability between 0.001 and 0.01.\n",
    "\n",
    "**One star** is still significant and corresponds to a probability between 0.01 and 0.05.\n",
    "\n",
    "A period, or **dot**, means that the coefficient is almost significant and corresponds to a probability between 0.05 and 0.10."
   ]
  },
  {
   "cell_type": "markdown",
   "metadata": {},
   "source": [
    "### Remove FrancePop"
   ]
  },
  {
   "cell_type": "code",
   "execution_count": 12,
   "metadata": {},
   "outputs": [
    {
     "data": {
      "text/plain": [
       "\n",
       "Call:\n",
       "lm(formula = Price ~ AGST + HarvestRain + WinterRain + Age, data = wine)\n",
       "\n",
       "Residuals:\n",
       "     Min       1Q   Median       3Q      Max \n",
       "-0.45470 -0.24273  0.00752  0.19773  0.53637 \n",
       "\n",
       "Coefficients:\n",
       "              Estimate Std. Error t value Pr(>|t|)    \n",
       "(Intercept) -3.4299802  1.7658975  -1.942 0.066311 .  \n",
       "AGST         0.6072093  0.0987022   6.152  5.2e-06 ***\n",
       "HarvestRain -0.0039715  0.0008538  -4.652 0.000154 ***\n",
       "WinterRain   0.0010755  0.0005073   2.120 0.046694 *  \n",
       "Age          0.0239308  0.0080969   2.956 0.007819 ** \n",
       "---\n",
       "Signif. codes:  0 '***' 0.001 '**' 0.01 '*' 0.05 '.' 0.1 ' ' 1\n",
       "\n",
       "Residual standard error: 0.295 on 20 degrees of freedom\n",
       "Multiple R-squared:  0.8286,\tAdjusted R-squared:  0.7943 \n",
       "F-statistic: 24.17 on 4 and 20 DF,  p-value: 2.036e-07\n"
      ]
     },
     "metadata": {},
     "output_type": "display_data"
    }
   ],
   "source": [
    "model4 = lm(Price ~ AGST + HarvestRain + WinterRain + Age, data=wine)\n",
    "summary(model4)"
   ]
  },
  {
   "cell_type": "markdown",
   "metadata": {},
   "source": [
    "**Model Analysis**\n",
    "\n",
    "(AGST only) Multiple R-squared: 0.435, Adjusted R-squared: 0.4105\n",
    "\n",
    "(AGST + HarvestRain) Multiple R-squared: 0.7074, Adjusted R-squared: 0.6808\n",
    "\n",
    "(AGST + HarvestRain + WinterRain + Age + FrancePop) Multiple R-squared: 0.8294, Adjusted R-squared: 0.7845\n",
    "\n",
    "(AGST + HarvestRain + WinterRain + Age) Multiple R-squared:  0.8286,\tAdjusted R-squared:  0.7943 -> **Better!**"
   ]
  },
  {
   "cell_type": "markdown",
   "metadata": {},
   "source": [
    "## Correlations"
   ]
  },
  {
   "cell_type": "code",
   "execution_count": 13,
   "metadata": {},
   "outputs": [
    {
     "data": {
      "image/png": "[encoded data removed]",
      "text/plain": [
       "Plot with title \"France Population x Age\""
      ]
     },
     "metadata": {
      "image/png": {
       "height": 420,
       "width": 420
      },
      "text/plain": {
       "height": 420,
       "width": 420
      }
     },
     "output_type": "display_data"
    }
   ],
   "source": [
    "plot(wine$Age, wine$FrancePop, main = \"France Population x Age\",xlab='Age',ylab='France Population')"
   ]
  },
  {
   "cell_type": "code",
   "execution_count": 14,
   "metadata": {},
   "outputs": [
    {
     "data": {
      "text/html": [
       "-0.994485097111455"
      ],
      "text/latex": [
       "-0.994485097111455"
      ],
      "text/markdown": [
       "-0.994485097111455"
      ],
      "text/plain": [
       "[1] -0.9944851"
      ]
     },
     "metadata": {},
     "output_type": "display_data"
    }
   ],
   "source": [
    "cor(wine$Age, wine$FrancePop)"
   ]
  },
  {
   "cell_type": "code",
   "execution_count": 15,
   "metadata": {},
   "outputs": [
    {
     "data": {
      "image/png": "[encoded data removed]",
      "text/plain": [
       "Plot with title \"Price x WinterRain\""
      ]
     },
     "metadata": {
      "image/png": {
       "height": 420,
       "width": 420
      },
      "text/plain": {
       "height": 420,
       "width": 420
      }
     },
     "output_type": "display_data"
    }
   ],
   "source": [
    "plot(wine$WinterRain, wine$Price, main = \"Price x WinterRain\",xlab='WinterRain',ylab='Price')"
   ]
  },
  {
   "cell_type": "code",
   "execution_count": 16,
   "metadata": {},
   "outputs": [
    {
     "data": {
      "text/html": [
       "0.13665054738763"
      ],
      "text/latex": [
       "0.13665054738763"
      ],
      "text/markdown": [
       "0.13665054738763"
      ],
      "text/plain": [
       "[1] 0.1366505"
      ]
     },
     "metadata": {},
     "output_type": "display_data"
    }
   ],
   "source": [
    "cor(wine$WinterRain, wine$Price)"
   ]
  },
  {
   "cell_type": "markdown",
   "metadata": {},
   "source": [
    "#### Matrix Correlation"
   ]
  },
  {
   "cell_type": "code",
   "execution_count": 17,
   "metadata": {},
   "outputs": [
    {
     "data": {
      "text/html": [
       "<table>\n",
       "<caption>A matrix: 7 × 7 of type dbl</caption>\n",
       "<thead>\n",
       "\t<tr><th></th><th scope=col>Year</th><th scope=col>Price</th><th scope=col>WinterRain</th><th scope=col>AGST</th><th scope=col>HarvestRain</th><th scope=col>Age</th><th scope=col>FrancePop</th></tr>\n",
       "</thead>\n",
       "<tbody>\n",
       "\t<tr><th scope=row>Year</th><td> 1.00000000</td><td>-0.4477679</td><td> 0.016970024</td><td>-0.24691585</td><td> 0.02800907</td><td>-1.00000000</td><td> 0.994485097</td></tr>\n",
       "\t<tr><th scope=row>Price</th><td>-0.44776786</td><td> 1.0000000</td><td> 0.136650547</td><td> 0.65956286</td><td>-0.56332190</td><td> 0.44776786</td><td>-0.466861641</td></tr>\n",
       "\t<tr><th scope=row>WinterRain</th><td> 0.01697002</td><td> 0.1366505</td><td> 1.000000000</td><td>-0.32109061</td><td>-0.27544085</td><td>-0.01697002</td><td>-0.001621627</td></tr>\n",
       "\t<tr><th scope=row>AGST</th><td>-0.24691585</td><td> 0.6595629</td><td>-0.321090611</td><td> 1.00000000</td><td>-0.06449593</td><td> 0.24691585</td><td>-0.259162274</td></tr>\n",
       "\t<tr><th scope=row>HarvestRain</th><td> 0.02800907</td><td>-0.5633219</td><td>-0.275440854</td><td>-0.06449593</td><td> 1.00000000</td><td>-0.02800907</td><td> 0.041264394</td></tr>\n",
       "\t<tr><th scope=row>Age</th><td>-1.00000000</td><td> 0.4477679</td><td>-0.016970024</td><td> 0.24691585</td><td>-0.02800907</td><td> 1.00000000</td><td>-0.994485097</td></tr>\n",
       "\t<tr><th scope=row>FrancePop</th><td> 0.99448510</td><td>-0.4668616</td><td>-0.001621627</td><td>-0.25916227</td><td> 0.04126439</td><td>-0.99448510</td><td> 1.000000000</td></tr>\n",
       "</tbody>\n",
       "</table>\n"
      ],
      "text/latex": [
       "A matrix: 7 × 7 of type dbl\n",
       "\\begin{tabular}{r|lllllll}\n",
       "  & Year & Price & WinterRain & AGST & HarvestRain & Age & FrancePop\\\\\n",
       "\\hline\n",
       "\tYear &  1.00000000 & -0.4477679 &  0.016970024 & -0.24691585 &  0.02800907 & -1.00000000 &  0.994485097\\\\\n",
       "\tPrice & -0.44776786 &  1.0000000 &  0.136650547 &  0.65956286 & -0.56332190 &  0.44776786 & -0.466861641\\\\\n",
       "\tWinterRain &  0.01697002 &  0.1366505 &  1.000000000 & -0.32109061 & -0.27544085 & -0.01697002 & -0.001621627\\\\\n",
       "\tAGST & -0.24691585 &  0.6595629 & -0.321090611 &  1.00000000 & -0.06449593 &  0.24691585 & -0.259162274\\\\\n",
       "\tHarvestRain &  0.02800907 & -0.5633219 & -0.275440854 & -0.06449593 &  1.00000000 & -0.02800907 &  0.041264394\\\\\n",
       "\tAge & -1.00000000 &  0.4477679 & -0.016970024 &  0.24691585 & -0.02800907 &  1.00000000 & -0.994485097\\\\\n",
       "\tFrancePop &  0.99448510 & -0.4668616 & -0.001621627 & -0.25916227 &  0.04126439 & -0.99448510 &  1.000000000\\\\\n",
       "\\end{tabular}\n"
      ],
      "text/markdown": [
       "\n",
       "A matrix: 7 × 7 of type dbl\n",
       "\n",
       "| <!--/--> | Year | Price | WinterRain | AGST | HarvestRain | Age | FrancePop |\n",
       "|---|---|---|---|---|---|---|---|\n",
       "| Year |  1.00000000 | -0.4477679 |  0.016970024 | -0.24691585 |  0.02800907 | -1.00000000 |  0.994485097 |\n",
       "| Price | -0.44776786 |  1.0000000 |  0.136650547 |  0.65956286 | -0.56332190 |  0.44776786 | -0.466861641 |\n",
       "| WinterRain |  0.01697002 |  0.1366505 |  1.000000000 | -0.32109061 | -0.27544085 | -0.01697002 | -0.001621627 |\n",
       "| AGST | -0.24691585 |  0.6595629 | -0.321090611 |  1.00000000 | -0.06449593 |  0.24691585 | -0.259162274 |\n",
       "| HarvestRain |  0.02800907 | -0.5633219 | -0.275440854 | -0.06449593 |  1.00000000 | -0.02800907 |  0.041264394 |\n",
       "| Age | -1.00000000 |  0.4477679 | -0.016970024 |  0.24691585 | -0.02800907 |  1.00000000 | -0.994485097 |\n",
       "| FrancePop |  0.99448510 | -0.4668616 | -0.001621627 | -0.25916227 |  0.04126439 | -0.99448510 |  1.000000000 |\n",
       "\n"
      ],
      "text/plain": [
       "            Year        Price      WinterRain   AGST        HarvestRain\n",
       "Year         1.00000000 -0.4477679  0.016970024 -0.24691585  0.02800907\n",
       "Price       -0.44776786  1.0000000  0.136650547  0.65956286 -0.56332190\n",
       "WinterRain   0.01697002  0.1366505  1.000000000 -0.32109061 -0.27544085\n",
       "AGST        -0.24691585  0.6595629 -0.321090611  1.00000000 -0.06449593\n",
       "HarvestRain  0.02800907 -0.5633219 -0.275440854 -0.06449593  1.00000000\n",
       "Age         -1.00000000  0.4477679 -0.016970024  0.24691585 -0.02800907\n",
       "FrancePop    0.99448510 -0.4668616 -0.001621627 -0.25916227  0.04126439\n",
       "            Age         FrancePop   \n",
       "Year        -1.00000000  0.994485097\n",
       "Price        0.44776786 -0.466861641\n",
       "WinterRain  -0.01697002 -0.001621627\n",
       "AGST         0.24691585 -0.259162274\n",
       "HarvestRain -0.02800907  0.041264394\n",
       "Age          1.00000000 -0.994485097\n",
       "FrancePop   -0.99448510  1.000000000"
      ]
     },
     "metadata": {},
     "output_type": "display_data"
    }
   ],
   "source": [
    "cor(wine)"
   ]
  },
  {
   "cell_type": "markdown",
   "metadata": {},
   "source": [
    "### Remove Age and FrancePop"
   ]
  },
  {
   "cell_type": "code",
   "execution_count": 18,
   "metadata": {},
   "outputs": [
    {
     "data": {
      "text/plain": [
       "\n",
       "Call:\n",
       "lm(formula = Price ~ AGST + HarvestRain + WinterRain, data = wine)\n",
       "\n",
       "Residuals:\n",
       "     Min       1Q   Median       3Q      Max \n",
       "-0.67472 -0.12958  0.01973  0.20751  0.63846 \n",
       "\n",
       "Coefficients:\n",
       "              Estimate Std. Error t value Pr(>|t|)    \n",
       "(Intercept) -4.3016263  2.0366743  -2.112 0.046831 *  \n",
       "AGST         0.6810242  0.1117011   6.097 4.75e-06 ***\n",
       "HarvestRain -0.0039481  0.0009987  -3.953 0.000726 ***\n",
       "WinterRain   0.0011765  0.0005920   1.987 0.060097 .  \n",
       "---\n",
       "Signif. codes:  0 '***' 0.001 '**' 0.01 '*' 0.05 '.' 0.1 ' ' 1\n",
       "\n",
       "Residual standard error: 0.345 on 21 degrees of freedom\n",
       "Multiple R-squared:  0.7537,\tAdjusted R-squared:  0.7185 \n",
       "F-statistic: 21.42 on 3 and 21 DF,  p-value: 1.359e-06\n"
      ]
     },
     "metadata": {},
     "output_type": "display_data"
    }
   ],
   "source": [
    "model5 = lm(Price ~ AGST + HarvestRain + WinterRain, data=wine)\n",
    "summary(model5)"
   ]
  },
  {
   "cell_type": "markdown",
   "metadata": {},
   "source": [
    "**Model Analysis**\n",
    "\n",
    "(AGST only) Multiple R-squared: 0.435, Adjusted R-squared: 0.4105\n",
    "\n",
    "(AGST + HarvestRain) Multiple R-squared: 0.7074, Adjusted R-squared: 0.6808\n",
    "\n",
    "(AGST + HarvestRain + WinterRain + Age + FrancePop) Multiple R-squared: 0.8294, Adjusted R-squared: 0.7845\n",
    "\n",
    "(AGST + HarvestRain + WinterRain + Age) Multiple R-squared:  0.8286,\tAdjusted R-squared:  0.7943 -> **Better!**\n",
    "\n",
    "(AGST + HarvestRain + WinterRain) Multiple R-squared: 0.7537, Adjusted R-squared: 0.7185"
   ]
  },
  {
   "cell_type": "markdown",
   "metadata": {},
   "source": [
    "## Making Predictions"
   ]
  },
  {
   "cell_type": "code",
   "execution_count": 19,
   "metadata": {},
   "outputs": [
    {
     "data": {
      "text/html": [
       "<table>\n",
       "<caption>A data.frame: 2 × 7</caption>\n",
       "<thead>\n",
       "\t<tr><th></th><th scope=col>Year</th><th scope=col>Price</th><th scope=col>WinterRain</th><th scope=col>AGST</th><th scope=col>HarvestRain</th><th scope=col>Age</th><th scope=col>FrancePop</th></tr>\n",
       "\t<tr><th></th><th scope=col>&lt;int&gt;</th><th scope=col>&lt;dbl&gt;</th><th scope=col>&lt;int&gt;</th><th scope=col>&lt;dbl&gt;</th><th scope=col>&lt;int&gt;</th><th scope=col>&lt;int&gt;</th><th scope=col>&lt;dbl&gt;</th></tr>\n",
       "</thead>\n",
       "<tbody>\n",
       "\t<tr><th scope=row>1</th><td>1979</td><td>6.9541</td><td>717</td><td>16.1667</td><td>122</td><td>4</td><td>54835.83</td></tr>\n",
       "\t<tr><th scope=row>2</th><td>1980</td><td>6.4979</td><td>578</td><td>16.0000</td><td> 74</td><td>3</td><td>55110.24</td></tr>\n",
       "</tbody>\n",
       "</table>\n"
      ],
      "text/latex": [
       "A data.frame: 2 × 7\n",
       "\\begin{tabular}{r|lllllll}\n",
       "  & Year & Price & WinterRain & AGST & HarvestRain & Age & FrancePop\\\\\n",
       "  & <int> & <dbl> & <int> & <dbl> & <int> & <int> & <dbl>\\\\\n",
       "\\hline\n",
       "\t1 & 1979 & 6.9541 & 717 & 16.1667 & 122 & 4 & 54835.83\\\\\n",
       "\t2 & 1980 & 6.4979 & 578 & 16.0000 &  74 & 3 & 55110.24\\\\\n",
       "\\end{tabular}\n"
      ],
      "text/markdown": [
       "\n",
       "A data.frame: 2 × 7\n",
       "\n",
       "| <!--/--> | Year &lt;int&gt; | Price &lt;dbl&gt; | WinterRain &lt;int&gt; | AGST &lt;dbl&gt; | HarvestRain &lt;int&gt; | Age &lt;int&gt; | FrancePop &lt;dbl&gt; |\n",
       "|---|---|---|---|---|---|---|---|\n",
       "| 1 | 1979 | 6.9541 | 717 | 16.1667 | 122 | 4 | 54835.83 |\n",
       "| 2 | 1980 | 6.4979 | 578 | 16.0000 |  74 | 3 | 55110.24 |\n",
       "\n"
      ],
      "text/plain": [
       "  Year Price  WinterRain AGST    HarvestRain Age FrancePop\n",
       "1 1979 6.9541 717        16.1667 122         4   54835.83 \n",
       "2 1980 6.4979 578        16.0000  74         3   55110.24 "
      ]
     },
     "metadata": {},
     "output_type": "display_data"
    }
   ],
   "source": [
    "# Read in test set\n",
    "wineTest = read.csv(\"data/wine_test.csv\")\n",
    "head(wineTest)"
   ]
  },
  {
   "cell_type": "code",
   "execution_count": 20,
   "metadata": {},
   "outputs": [
    {
     "name": "stdout",
     "output_type": "stream",
     "text": [
      "'data.frame':\t2 obs. of  7 variables:\n",
      " $ Year       : int  1979 1980\n",
      " $ Price      : num  6.95 6.5\n",
      " $ WinterRain : int  717 578\n",
      " $ AGST       : num  16.2 16\n",
      " $ HarvestRain: int  122 74\n",
      " $ Age        : int  4 3\n",
      " $ FrancePop  : num  54836 55110\n"
     ]
    }
   ],
   "source": [
    "str(wineTest)"
   ]
  },
  {
   "cell_type": "markdown",
   "metadata": {},
   "source": [
    "### Prediction"
   ]
  },
  {
   "cell_type": "code",
   "execution_count": 21,
   "metadata": {},
   "outputs": [
    {
     "data": {
      "text/html": [
       "<style>\n",
       ".dl-inline {width: auto; margin:0; padding: 0}\n",
       ".dl-inline>dt, .dl-inline>dd {float: none; width: auto; display: inline-block}\n",
       ".dl-inline>dt::after {content: \":\\0020\"; padding-right: .5ex}\n",
       ".dl-inline>dt:not(:first-of-type) {padding-left: .5ex}\n",
       "</style><dl class=dl-inline><dt>1</dt><dd>6.7689246296813</dd><dt>2</dt><dd>6.68491040269209</dd></dl>\n"
      ],
      "text/latex": [
       "\\begin{description*}\n",
       "\\item[1] 6.7689246296813\n",
       "\\item[2] 6.68491040269209\n",
       "\\end{description*}\n"
      ],
      "text/markdown": [
       "1\n",
       ":   6.76892462968132\n",
       ":   6.68491040269209\n",
       "\n"
      ],
      "text/plain": [
       "       1        2 \n",
       "6.768925 6.684910 "
      ]
     },
     "metadata": {},
     "output_type": "display_data"
    }
   ],
   "source": [
    "predictTest = predict(model4, newdata=wineTest)\n",
    "predictTest"
   ]
  },
  {
   "cell_type": "markdown",
   "metadata": {},
   "source": [
    "### Compute R-squared"
   ]
  },
  {
   "cell_type": "code",
   "execution_count": 22,
   "metadata": {},
   "outputs": [],
   "source": [
    "SSE = sum((wineTest$Price - predictTest)^2)\n",
    "SST = sum((wineTest$Price - mean(wine$Price))^2)"
   ]
  },
  {
   "cell_type": "code",
   "execution_count": 23,
   "metadata": {},
   "outputs": [
    {
     "data": {
      "text/html": [
       "0.794427760263301"
      ],
      "text/latex": [
       "0.794427760263301"
      ],
      "text/markdown": [
       "0.794427760263301"
      ],
      "text/plain": [
       "[1] 0.7944278"
      ]
     },
     "metadata": {},
     "output_type": "display_data"
    }
   ],
   "source": [
    "R2 = 1 - SSE/SST\n",
    "R2"
   ]
  },
  {
   "cell_type": "markdown",
   "metadata": {},
   "source": [
    "What we have developed is a linear regression model, a simple but rather powerful model for predicting quality of wines. It only used few variables and we have seen that it predicted wine prices quite well."
   ]
  }
 ],
 "metadata": {
  "kernelspec": {
   "display_name": "R",
   "language": "R",
   "name": "ir"
  },
  "language_info": {
   "codemirror_mode": "r",
   "file_extension": ".r",
   "mimetype": "text/x-r-source",
   "name": "R",
   "pygments_lexer": "r",
   "version": "3.6.3"
  }
 },
 "nbformat": 4,
 "nbformat_minor": 4
}
