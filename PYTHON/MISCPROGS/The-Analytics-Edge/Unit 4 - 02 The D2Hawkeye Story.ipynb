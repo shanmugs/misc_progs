{
 "cells": [
  {
   "cell_type": "markdown",
   "metadata": {},
   "source": [
    "# Keeping an Eye on Healthcare Costs: The D2Hawkeye Story"
   ]
  },
  {
   "cell_type": "markdown",
   "metadata": {},
   "source": [
    "<img src=\"images/D2Hawkeye.jpg\"/>"
   ]
  },
  {
   "cell_type": "markdown",
   "metadata": {},
   "source": [
    "We unfortunately can't use the D2Hawkeye data due to privacy issues. The data set we'll be using instead, *ClaimsData.csv*, is structured to represent a sample of patients in the Medicare program, which provides health insurance to Americans aged 65 and older, as well as some younger people with certain medical conditions."
   ]
  },
  {
   "cell_type": "markdown",
   "metadata": {},
   "source": [
    "### Load and Exploration the Data"
   ]
  },
  {
   "cell_type": "code",
   "execution_count": 1,
   "metadata": {},
   "outputs": [
    {
     "data": {
      "text/html": [
       "<table>\n",
       "<caption>A data.frame: 6 × 16</caption>\n",
       "<thead>\n",
       "\t<tr><th></th><th scope=col>age</th><th scope=col>alzheimers</th><th scope=col>arthritis</th><th scope=col>cancer</th><th scope=col>copd</th><th scope=col>depression</th><th scope=col>diabetes</th><th scope=col>heart.failure</th><th scope=col>ihd</th><th scope=col>kidney</th><th scope=col>osteoporosis</th><th scope=col>stroke</th><th scope=col>reimbursement2008</th><th scope=col>bucket2008</th><th scope=col>reimbursement2009</th><th scope=col>bucket2009</th></tr>\n",
       "\t<tr><th></th><th scope=col>&lt;int&gt;</th><th scope=col>&lt;int&gt;</th><th scope=col>&lt;int&gt;</th><th scope=col>&lt;int&gt;</th><th scope=col>&lt;int&gt;</th><th scope=col>&lt;int&gt;</th><th scope=col>&lt;int&gt;</th><th scope=col>&lt;int&gt;</th><th scope=col>&lt;int&gt;</th><th scope=col>&lt;int&gt;</th><th scope=col>&lt;int&gt;</th><th scope=col>&lt;int&gt;</th><th scope=col>&lt;int&gt;</th><th scope=col>&lt;int&gt;</th><th scope=col>&lt;int&gt;</th><th scope=col>&lt;int&gt;</th></tr>\n",
       "</thead>\n",
       "<tbody>\n",
       "\t<tr><th scope=row>1</th><td>85</td><td>0</td><td>0</td><td>0</td><td>0</td><td>0</td><td>0</td><td>0</td><td>0</td><td>0</td><td>0</td><td>0</td><td>0</td><td>1</td><td>0</td><td>1</td></tr>\n",
       "\t<tr><th scope=row>2</th><td>59</td><td>0</td><td>0</td><td>0</td><td>0</td><td>0</td><td>0</td><td>0</td><td>0</td><td>0</td><td>0</td><td>0</td><td>0</td><td>1</td><td>0</td><td>1</td></tr>\n",
       "\t<tr><th scope=row>3</th><td>67</td><td>0</td><td>0</td><td>0</td><td>0</td><td>0</td><td>0</td><td>0</td><td>0</td><td>0</td><td>0</td><td>0</td><td>0</td><td>1</td><td>0</td><td>1</td></tr>\n",
       "\t<tr><th scope=row>4</th><td>52</td><td>0</td><td>0</td><td>0</td><td>0</td><td>0</td><td>0</td><td>0</td><td>0</td><td>0</td><td>0</td><td>0</td><td>0</td><td>1</td><td>0</td><td>1</td></tr>\n",
       "\t<tr><th scope=row>5</th><td>67</td><td>0</td><td>0</td><td>0</td><td>0</td><td>0</td><td>0</td><td>0</td><td>0</td><td>0</td><td>0</td><td>0</td><td>0</td><td>1</td><td>0</td><td>1</td></tr>\n",
       "\t<tr><th scope=row>6</th><td>68</td><td>0</td><td>0</td><td>0</td><td>0</td><td>0</td><td>0</td><td>0</td><td>0</td><td>0</td><td>0</td><td>0</td><td>0</td><td>1</td><td>0</td><td>1</td></tr>\n",
       "</tbody>\n",
       "</table>\n"
      ],
      "text/latex": [
       "A data.frame: 6 × 16\n",
       "\\begin{tabular}{r|llllllllllllllll}\n",
       "  & age & alzheimers & arthritis & cancer & copd & depression & diabetes & heart.failure & ihd & kidney & osteoporosis & stroke & reimbursement2008 & bucket2008 & reimbursement2009 & bucket2009\\\\\n",
       "  & <int> & <int> & <int> & <int> & <int> & <int> & <int> & <int> & <int> & <int> & <int> & <int> & <int> & <int> & <int> & <int>\\\\\n",
       "\\hline\n",
       "\t1 & 85 & 0 & 0 & 0 & 0 & 0 & 0 & 0 & 0 & 0 & 0 & 0 & 0 & 1 & 0 & 1\\\\\n",
       "\t2 & 59 & 0 & 0 & 0 & 0 & 0 & 0 & 0 & 0 & 0 & 0 & 0 & 0 & 1 & 0 & 1\\\\\n",
       "\t3 & 67 & 0 & 0 & 0 & 0 & 0 & 0 & 0 & 0 & 0 & 0 & 0 & 0 & 1 & 0 & 1\\\\\n",
       "\t4 & 52 & 0 & 0 & 0 & 0 & 0 & 0 & 0 & 0 & 0 & 0 & 0 & 0 & 1 & 0 & 1\\\\\n",
       "\t5 & 67 & 0 & 0 & 0 & 0 & 0 & 0 & 0 & 0 & 0 & 0 & 0 & 0 & 1 & 0 & 1\\\\\n",
       "\t6 & 68 & 0 & 0 & 0 & 0 & 0 & 0 & 0 & 0 & 0 & 0 & 0 & 0 & 1 & 0 & 1\\\\\n",
       "\\end{tabular}\n"
      ],
      "text/markdown": [
       "\n",
       "A data.frame: 6 × 16\n",
       "\n",
       "| <!--/--> | age &lt;int&gt; | alzheimers &lt;int&gt; | arthritis &lt;int&gt; | cancer &lt;int&gt; | copd &lt;int&gt; | depression &lt;int&gt; | diabetes &lt;int&gt; | heart.failure &lt;int&gt; | ihd &lt;int&gt; | kidney &lt;int&gt; | osteoporosis &lt;int&gt; | stroke &lt;int&gt; | reimbursement2008 &lt;int&gt; | bucket2008 &lt;int&gt; | reimbursement2009 &lt;int&gt; | bucket2009 &lt;int&gt; |\n",
       "|---|---|---|---|---|---|---|---|---|---|---|---|---|---|---|---|---|\n",
       "| 1 | 85 | 0 | 0 | 0 | 0 | 0 | 0 | 0 | 0 | 0 | 0 | 0 | 0 | 1 | 0 | 1 |\n",
       "| 2 | 59 | 0 | 0 | 0 | 0 | 0 | 0 | 0 | 0 | 0 | 0 | 0 | 0 | 1 | 0 | 1 |\n",
       "| 3 | 67 | 0 | 0 | 0 | 0 | 0 | 0 | 0 | 0 | 0 | 0 | 0 | 0 | 1 | 0 | 1 |\n",
       "| 4 | 52 | 0 | 0 | 0 | 0 | 0 | 0 | 0 | 0 | 0 | 0 | 0 | 0 | 1 | 0 | 1 |\n",
       "| 5 | 67 | 0 | 0 | 0 | 0 | 0 | 0 | 0 | 0 | 0 | 0 | 0 | 0 | 1 | 0 | 1 |\n",
       "| 6 | 68 | 0 | 0 | 0 | 0 | 0 | 0 | 0 | 0 | 0 | 0 | 0 | 0 | 1 | 0 | 1 |\n",
       "\n"
      ],
      "text/plain": [
       "  age alzheimers arthritis cancer copd depression diabetes heart.failure ihd\n",
       "1 85  0          0         0      0    0          0        0             0  \n",
       "2 59  0          0         0      0    0          0        0             0  \n",
       "3 67  0          0         0      0    0          0        0             0  \n",
       "4 52  0          0         0      0    0          0        0             0  \n",
       "5 67  0          0         0      0    0          0        0             0  \n",
       "6 68  0          0         0      0    0          0        0             0  \n",
       "  kidney osteoporosis stroke reimbursement2008 bucket2008 reimbursement2009\n",
       "1 0      0            0      0                 1          0                \n",
       "2 0      0            0      0                 1          0                \n",
       "3 0      0            0      0                 1          0                \n",
       "4 0      0            0      0                 1          0                \n",
       "5 0      0            0      0                 1          0                \n",
       "6 0      0            0      0                 1          0                \n",
       "  bucket2009\n",
       "1 1         \n",
       "2 1         \n",
       "3 1         \n",
       "4 1         \n",
       "5 1         \n",
       "6 1         "
      ]
     },
     "metadata": {},
     "output_type": "display_data"
    }
   ],
   "source": [
    "Claims = read.csv(\"data/ClaimsData.csv\")\n",
    "head(Claims)"
   ]
  },
  {
   "cell_type": "code",
   "execution_count": 2,
   "metadata": {},
   "outputs": [
    {
     "name": "stdout",
     "output_type": "stream",
     "text": [
      "'data.frame':\t458005 obs. of  16 variables:\n",
      " $ age              : int  85 59 67 52 67 68 75 70 67 67 ...\n",
      " $ alzheimers       : int  0 0 0 0 0 0 0 0 0 0 ...\n",
      " $ arthritis        : int  0 0 0 0 0 0 0 0 0 0 ...\n",
      " $ cancer           : int  0 0 0 0 0 0 0 0 0 0 ...\n",
      " $ copd             : int  0 0 0 0 0 0 0 0 0 0 ...\n",
      " $ depression       : int  0 0 0 0 0 0 0 0 0 0 ...\n",
      " $ diabetes         : int  0 0 0 0 0 0 0 0 0 0 ...\n",
      " $ heart.failure    : int  0 0 0 0 0 0 0 0 0 0 ...\n",
      " $ ihd              : int  0 0 0 0 0 0 0 0 0 0 ...\n",
      " $ kidney           : int  0 0 0 0 0 0 0 0 0 0 ...\n",
      " $ osteoporosis     : int  0 0 0 0 0 0 0 0 0 0 ...\n",
      " $ stroke           : int  0 0 0 0 0 0 0 0 0 0 ...\n",
      " $ reimbursement2008: int  0 0 0 0 0 0 0 0 0 0 ...\n",
      " $ bucket2008       : int  1 1 1 1 1 1 1 1 1 1 ...\n",
      " $ reimbursement2009: int  0 0 0 0 0 0 0 0 0 0 ...\n",
      " $ bucket2009       : int  1 1 1 1 1 1 1 1 1 1 ...\n"
     ]
    }
   ],
   "source": [
    "str(Claims)"
   ]
  },
  {
   "cell_type": "code",
   "execution_count": 3,
   "metadata": {},
   "outputs": [
    {
     "data": {
      "text/plain": [
       "      age           alzheimers       arthritis          cancer       \n",
       " Min.   : 26.00   Min.   :0.0000   Min.   :0.0000   Min.   :0.00000  \n",
       " 1st Qu.: 67.00   1st Qu.:0.0000   1st Qu.:0.0000   1st Qu.:0.00000  \n",
       " Median : 73.00   Median :0.0000   Median :0.0000   Median :0.00000  \n",
       " Mean   : 72.63   Mean   :0.1922   Mean   :0.1543   Mean   :0.06411  \n",
       " 3rd Qu.: 81.00   3rd Qu.:0.0000   3rd Qu.:0.0000   3rd Qu.:0.00000  \n",
       " Max.   :100.00   Max.   :1.0000   Max.   :1.0000   Max.   :1.00000  \n",
       "      copd          depression        diabetes      heart.failure   \n",
       " Min.   :0.0000   Min.   :0.0000   Min.   :0.0000   Min.   :0.0000  \n",
       " 1st Qu.:0.0000   1st Qu.:0.0000   1st Qu.:0.0000   1st Qu.:0.0000  \n",
       " Median :0.0000   Median :0.0000   Median :0.0000   Median :0.0000  \n",
       " Mean   :0.1361   Mean   :0.2131   Mean   :0.3805   Mean   :0.2847  \n",
       " 3rd Qu.:0.0000   3rd Qu.:0.0000   3rd Qu.:1.0000   3rd Qu.:1.0000  \n",
       " Max.   :1.0000   Max.   :1.0000   Max.   :1.0000   Max.   :1.0000  \n",
       "      ihd             kidney        osteoporosis       stroke       \n",
       " Min.   :0.0000   Min.   :0.0000   Min.   :0.000   Min.   :0.00000  \n",
       " 1st Qu.:0.0000   1st Qu.:0.0000   1st Qu.:0.000   1st Qu.:0.00000  \n",
       " Median :0.0000   Median :0.0000   Median :0.000   Median :0.00000  \n",
       " Mean   :0.4201   Mean   :0.1612   Mean   :0.174   Mean   :0.04479  \n",
       " 3rd Qu.:1.0000   3rd Qu.:0.0000   3rd Qu.:0.000   3rd Qu.:0.00000  \n",
       " Max.   :1.0000   Max.   :1.0000   Max.   :1.000   Max.   :1.00000  \n",
       " reimbursement2008   bucket2008    reimbursement2009   bucket2009   \n",
       " Min.   :     0    Min.   :1.000   Min.   :     0    Min.   :1.000  \n",
       " 1st Qu.:     0    1st Qu.:1.000   1st Qu.:   130    1st Qu.:1.000  \n",
       " Median :   950    Median :1.000   Median :  1540    Median :1.000  \n",
       " Mean   :  4005    Mean   :1.437   Mean   :  4277    Mean   :1.522  \n",
       " 3rd Qu.:  3110    3rd Qu.:2.000   3rd Qu.:  4220    3rd Qu.:2.000  \n",
       " Max.   :221640    Max.   :5.000   Max.   :189930    Max.   :5.000  "
      ]
     },
     "metadata": {},
     "output_type": "display_data"
    }
   ],
   "source": [
    "summary(Claims)"
   ]
  },
  {
   "cell_type": "markdown",
   "metadata": {},
   "source": [
    "### Percentage of patients in each cost bucket"
   ]
  },
  {
   "cell_type": "markdown",
   "metadata": {},
   "source": [
    "The first cost bucket contains patients with costs less than \\\\$3,000, the second cost bucket contains patients with costs between \\\\$3,000 and \\\\$8,000, and so on."
   ]
  },
  {
   "cell_type": "markdown",
   "metadata": {},
   "source": [
    "We can verify that the number of patients in each cost bucket has the same structure as what we saw for D2Hawkeye by computing the percentage of patients in each cost bucket. So we'll create a table of the variable bucket2009 and divide by the number of rows in Claims. This gives the percentage of patients in each of the cost buckets."
   ]
  },
  {
   "cell_type": "code",
   "execution_count": 4,
   "metadata": {},
   "outputs": [
    {
     "data": {
      "text/plain": [
       "\n",
       "          1           2           3           4           5 \n",
       "0.671267781 0.190170413 0.089466272 0.043324855 0.005770679 "
      ]
     },
     "metadata": {},
     "output_type": "display_data"
    }
   ],
   "source": [
    "table(Claims$bucket2009)/nrow(Claims)"
   ]
  },
  {
   "cell_type": "markdown",
   "metadata": {},
   "source": [
    "The first cost bucket has almost 70% of the patients. The second cost bucket has about 20% of the patients. And the remaining 10% are split between the final three cost buckets."
   ]
  },
  {
   "cell_type": "markdown",
   "metadata": {},
   "source": [
    "Our goal will be to predict the cost bucket the patient fell into in 2009 using a CART model. But before we build our model, we\n",
    "need to split our data into a training set and a testing set."
   ]
  },
  {
   "cell_type": "markdown",
   "metadata": {},
   "source": [
    "### Split the data"
   ]
  },
  {
   "cell_type": "code",
   "execution_count": 5,
   "metadata": {},
   "outputs": [],
   "source": [
    "library(caTools)"
   ]
  },
  {
   "cell_type": "code",
   "execution_count": 6,
   "metadata": {},
   "outputs": [],
   "source": [
    "set.seed(88)\n",
    "\n",
    "spl = sample.split(Claims$bucket2009, SplitRatio = 0.6)  # 60% in training set\n",
    "\n",
    "ClaimsTrain = subset(Claims, spl==TRUE)\n",
    "ClaimsTest = subset(Claims, spl==FALSE)"
   ]
  },
  {
   "cell_type": "markdown",
   "metadata": {},
   "source": [
    "### Baseline Method"
   ]
  },
  {
   "cell_type": "markdown",
   "metadata": {},
   "source": [
    "The baseline method would predict that the cost bucket for a patient in 2009 will be the same as it was in 2008. So let's create a classification matrix to compute the accuracy for the baseline method on the test set.\n",
    "\n",
    "We'll use the table function, where the actual outcomes are ClaimsTest\\\\$bucket2009, and our predictions are ClaimsTest\\\\$bucket2008."
   ]
  },
  {
   "cell_type": "code",
   "execution_count": 13,
   "metadata": {},
   "outputs": [
    {
     "data": {
      "text/plain": [
       "   \n",
       "         1      2      3      4      5\n",
       "  1 110138   7787   3427   1452    174\n",
       "  2  16000  10721   4629   2931    559\n",
       "  3   7006   4629   2774   1621    360\n",
       "  4   2688   1943   1415   1539    352\n",
       "  5    293    191    160    309    104"
      ]
     },
     "metadata": {},
     "output_type": "display_data"
    }
   ],
   "source": [
    "z = table(ClaimsTest$bucket2009, ClaimsTest$bucket2008)\n",
    "z"
   ]
  },
  {
   "cell_type": "markdown",
   "metadata": {},
   "source": [
    "    z[1]  z[6]  z[11]  z[16]  z[21]\n",
    "    z[2]  z[7]  z[12]  z[17]  z[22]\n",
    "    z[3]  z[8]  z[13]  z[18]  z[23]\n",
    "    z[4]  z[9]  z[14]  z[19]  z[24]\n",
    "    z[5]  z[10] z[15]  z[20]  z[25]"
   ]
  },
  {
   "cell_type": "markdown",
   "metadata": {},
   "source": [
    "The accuracy is the sum of the diagonal, the observations that were classified correctly, divided by the total number of observations in our test set."
   ]
  },
  {
   "cell_type": "code",
   "execution_count": 14,
   "metadata": {},
   "outputs": [
    {
     "data": {
      "text/html": [
       "0.683813495485857"
      ],
      "text/latex": [
       "0.683813495485857"
      ],
      "text/markdown": [
       "0.683813495485857"
      ],
      "text/plain": [
       "[1] 0.6838135"
      ]
     },
     "metadata": {},
     "output_type": "display_data"
    }
   ],
   "source": [
    "(z[1] + z[7] + z[13] + z[19] + z[25])/nrow(ClaimsTest) #  Or sum(diag(z))/nrow(ClaimTest)"
   ]
  },
  {
   "cell_type": "markdown",
   "metadata": {},
   "source": [
    "So the accuracy of the baseline method is 0.68."
   ]
  },
  {
   "cell_type": "markdown",
   "metadata": {},
   "source": [
    "### Penalty Matrix"
   ]
  },
  {
   "cell_type": "markdown",
   "metadata": {},
   "source": [
    "    0, 1, 2, 3, 4. That'll be the first row.\n",
    "    2, 0, 1, 2, 3. That'll be the second row.\n",
    "    4, 2, 0, 1, 2. For the third row.\n",
    "    6, 4, 2, 0, 1. For the fourth row.\n",
    "    8, 6, 4, 2, 0. For the fifth row."
   ]
  },
  {
   "cell_type": "code",
   "execution_count": 15,
   "metadata": {},
   "outputs": [
    {
     "data": {
      "text/html": [
       "<table>\n",
       "<caption>A matrix: 5 × 5 of type dbl</caption>\n",
       "<tbody>\n",
       "\t<tr><td>0</td><td>1</td><td>2</td><td>3</td><td>4</td></tr>\n",
       "\t<tr><td>2</td><td>0</td><td>1</td><td>2</td><td>3</td></tr>\n",
       "\t<tr><td>4</td><td>2</td><td>0</td><td>1</td><td>2</td></tr>\n",
       "\t<tr><td>6</td><td>4</td><td>2</td><td>0</td><td>1</td></tr>\n",
       "\t<tr><td>8</td><td>6</td><td>4</td><td>2</td><td>0</td></tr>\n",
       "</tbody>\n",
       "</table>\n"
      ],
      "text/latex": [
       "A matrix: 5 × 5 of type dbl\n",
       "\\begin{tabular}{lllll}\n",
       "\t 0 & 1 & 2 & 3 & 4\\\\\n",
       "\t 2 & 0 & 1 & 2 & 3\\\\\n",
       "\t 4 & 2 & 0 & 1 & 2\\\\\n",
       "\t 6 & 4 & 2 & 0 & 1\\\\\n",
       "\t 8 & 6 & 4 & 2 & 0\\\\\n",
       "\\end{tabular}\n"
      ],
      "text/markdown": [
       "\n",
       "A matrix: 5 × 5 of type dbl\n",
       "\n",
       "| 0 | 1 | 2 | 3 | 4 |\n",
       "| 2 | 0 | 1 | 2 | 3 |\n",
       "| 4 | 2 | 0 | 1 | 2 |\n",
       "| 6 | 4 | 2 | 0 | 1 |\n",
       "| 8 | 6 | 4 | 2 | 0 |\n",
       "\n"
      ],
      "text/plain": [
       "     [,1] [,2] [,3] [,4] [,5]\n",
       "[1,] 0    1    2    3    4   \n",
       "[2,] 2    0    1    2    3   \n",
       "[3,] 4    2    0    1    2   \n",
       "[4,] 6    4    2    0    1   \n",
       "[5,] 8    6    4    2    0   "
      ]
     },
     "metadata": {},
     "output_type": "display_data"
    }
   ],
   "source": [
    "PenaltyMatrix = matrix(c(0,1,2,3,4,2,0,1,2,3,4,2,0,1,2,6,4,2,0,1,8,6,4,2,0), byrow=TRUE, nrow=5)\n",
    "PenaltyMatrix"
   ]
  },
  {
   "cell_type": "markdown",
   "metadata": {},
   "source": [
    "### Classification Matrix X Penalty Matrix"
   ]
  },
  {
   "cell_type": "markdown",
   "metadata": {},
   "source": [
    "To compute the penalty error of the baseline method, we need to  multiply our classification matrix by the penalty matrix."
   ]
  },
  {
   "cell_type": "code",
   "execution_count": 20,
   "metadata": {},
   "outputs": [
    {
     "data": {
      "text/plain": [
       "   \n",
       "        1     2     3     4     5\n",
       "  1     0  7787  6854  4356   696\n",
       "  2 32000     0  4629  5862  1677\n",
       "  3 28024  9258     0  1621   720\n",
       "  4 16128  7772  2830     0   352\n",
       "  5  2344  1146   640   618     0"
      ]
     },
     "metadata": {},
     "output_type": "display_data"
    }
   ],
   "source": [
    "# we need to surround the entire table function by as.matrix to convert it to a matrix\n",
    "\n",
    "M = as.matrix(table(ClaimsTest$bucket2009, ClaimsTest$bucket2008))*PenaltyMatrix  # Classification Matrix * Penalty Matrix \n",
    "\n",
    "M"
   ]
  },
  {
   "cell_type": "markdown",
   "metadata": {},
   "source": [
    "It takes each number in the classification matrix and multiplies it by the corresponding number in the penalty matrix."
   ]
  },
  {
   "cell_type": "markdown",
   "metadata": {},
   "source": [
    "### Penaty Error"
   ]
  },
  {
   "cell_type": "markdown",
   "metadata": {},
   "source": [
    "By definition is the sum of elements of M divide by number of rows in ClaimsTest."
   ]
  },
  {
   "cell_type": "code",
   "execution_count": 21,
   "metadata": {},
   "outputs": [
    {
     "data": {
      "text/html": [
       "0.73860547373937"
      ],
      "text/latex": [
       "0.73860547373937"
      ],
      "text/markdown": [
       "0.73860547373937"
      ],
      "text/plain": [
       "[1] 0.7386055"
      ]
     },
     "metadata": {},
     "output_type": "display_data"
    }
   ],
   "source": [
    "sum(M)/nrow(ClaimsTest)"
   ]
  },
  {
   "cell_type": "markdown",
   "metadata": {},
   "source": [
    "The penalty error for the baseline method is 0.74."
   ]
  },
  {
   "cell_type": "markdown",
   "metadata": {},
   "source": [
    "### Predicting Healthcare Costs"
   ]
  },
  {
   "cell_type": "markdown",
   "metadata": {},
   "source": [
    "Our goal will be to create a CART model that has an accuracy higher than 68% and a penalty error lower than 0.74."
   ]
  },
  {
   "cell_type": "code",
   "execution_count": 22,
   "metadata": {},
   "outputs": [],
   "source": [
    "# Necessary libraries\n",
    "library(rpart)\n",
    "library(rpart.plot)"
   ]
  },
  {
   "cell_type": "markdown",
   "metadata": {},
   "source": [
    "### CART model"
   ]
  },
  {
   "cell_type": "markdown",
   "metadata": {},
   "source": [
    "We'll use the rpart function to predict bucket2009. Note that even though we have a multi-class classification\n",
    "problem here, we build our tree in the same way as a binary classification problem."
   ]
  },
  {
   "cell_type": "code",
   "execution_count": 23,
   "metadata": {},
   "outputs": [],
   "source": [
    "ClaimsTree = rpart(bucket2009 ~ age + alzheimers + arthritis + cancer + copd + depression + diabetes + \n",
    "                   heart.failure + ihd + kidney + osteoporosis + stroke + bucket2008 + reimbursement2008, \n",
    "                   data=ClaimsTrain, method=\"class\", cp=0.00005)"
   ]
  },
  {
   "cell_type": "code",
   "execution_count": 24,
   "metadata": {},
   "outputs": [
    {
     "name": "stderr",
     "output_type": "stream",
     "text": [
      "Warning message:\n",
      "\"labs do not fit even at cex 0.15, there may be some overplotting\"\n"
     ]
    },
    {
     "data": {
      "image/png": "[encoded data removed]",
      "text/plain": [
       "plot without title"
      ]
     },
     "metadata": {
      "image/png": {
       "height": 420,
       "width": 420
      },
      "text/plain": {
       "height": 420,
       "width": 420
      }
     },
     "output_type": "display_data"
    }
   ],
   "source": [
    "prp(ClaimsTree)"
   ]
  },
  {
   "cell_type": "markdown",
   "metadata": {},
   "source": [
    "So now, let's make predictions on the test set."
   ]
  },
  {
   "cell_type": "markdown",
   "metadata": {},
   "source": [
    "### Make predictions"
   ]
  },
  {
   "cell_type": "code",
   "execution_count": 25,
   "metadata": {},
   "outputs": [],
   "source": [
    "PredictTest = predict(ClaimsTree, newdata = ClaimsTest, type = \"class\")"
   ]
  },
  {
   "cell_type": "markdown",
   "metadata": {},
   "source": [
    "we can make our classification matrix on the test set to compute the accuracy."
   ]
  },
  {
   "cell_type": "code",
   "execution_count": 26,
   "metadata": {},
   "outputs": [
    {
     "data": {
      "text/plain": [
       "   PredictTest\n",
       "         1      2      3      4      5\n",
       "  1 114141   8610    124    103      0\n",
       "  2  18409  16102    187    142      0\n",
       "  3   8027   8146    118     99      0\n",
       "  4   3099   4584     53    201      0\n",
       "  5    351    657      4     45      0"
      ]
     },
     "metadata": {},
     "output_type": "display_data"
    }
   ],
   "source": [
    "p = table(ClaimsTest$bucket2009, PredictTest)\n",
    "p"
   ]
  },
  {
   "cell_type": "markdown",
   "metadata": {},
   "source": [
    "The accuracy is the sum of the diagonal, the observations that were classified correctly, divided by the total number of observations in our test set."
   ]
  },
  {
   "cell_type": "code",
   "execution_count": 36,
   "metadata": {},
   "outputs": [
    {
     "data": {
      "text/html": [
       "0.712666892282835"
      ],
      "text/latex": [
       "0.712666892282835"
      ],
      "text/markdown": [
       "0.712666892282835"
      ],
      "text/plain": [
       "[1] 0.7126669"
      ]
     },
     "metadata": {},
     "output_type": "display_data"
    }
   ],
   "source": [
    "sum(diag(p))/nrow(ClaimsTest)"
   ]
  },
  {
   "cell_type": "markdown",
   "metadata": {},
   "source": [
    "### Penalty Error"
   ]
  },
  {
   "cell_type": "code",
   "execution_count": 28,
   "metadata": {},
   "outputs": [
    {
     "data": {
      "text/plain": [
       "   PredictTest\n",
       "        1     2     3     4     5\n",
       "  1     0  8610   248   309     0\n",
       "  2 36818     0   187   284     0\n",
       "  3 32108 16292     0    99     0\n",
       "  4 18594 18336   106     0     0\n",
       "  5  2808  3942    16    90     0"
      ]
     },
     "metadata": {},
     "output_type": "display_data"
    }
   ],
   "source": [
    "# Classification Matrix X Penalty Matrix\n",
    "as.matrix(table(ClaimsTest$bucket2009, PredictTest))*PenaltyMatrix"
   ]
  },
  {
   "cell_type": "code",
   "execution_count": 29,
   "metadata": {},
   "outputs": [
    {
     "data": {
      "text/html": [
       "0.757890197705265"
      ],
      "text/latex": [
       "0.757890197705265"
      ],
      "text/markdown": [
       "0.757890197705265"
      ],
      "text/plain": [
       "[1] 0.7578902"
      ]
     },
     "metadata": {},
     "output_type": "display_data"
    }
   ],
   "source": [
    "# Penalty Error = sum(Classification Matrix X Penalty Matrix)/nrow(observations in our test set)\n",
    "sum(as.matrix(table(ClaimsTest$bucket2009, PredictTest))*PenaltyMatrix)/nrow(ClaimsTest)"
   ]
  },
  {
   "cell_type": "markdown",
   "metadata": {},
   "source": [
    "So while we increased the accuracy, the penalty error also went up. The rpart function allows us to specify a parameter called loss. This is the penalty matrix we want to use when building our model."
   ]
  },
  {
   "cell_type": "markdown",
   "metadata": {},
   "source": [
    "### New CART model with loss matrix"
   ]
  },
  {
   "cell_type": "code",
   "execution_count": 30,
   "metadata": {},
   "outputs": [],
   "source": [
    "ClaimsTree = rpart(bucket2009 ~ age + alzheimers + arthritis + cancer + copd + depression + diabetes + heart.failure + \n",
    "                   ihd + kidney + osteoporosis + stroke + bucket2008 + reimbursement2008, \n",
    "                   data=ClaimsTrain, method=\"class\", cp=0.00005, parms=list(loss=PenaltyMatrix))"
   ]
  },
  {
   "cell_type": "markdown",
   "metadata": {},
   "source": [
    "We'll probably get a lower overall accuracy with this new model. But hopefully, the penalty error will be much lower too."
   ]
  },
  {
   "cell_type": "markdown",
   "metadata": {},
   "source": [
    "### Redo predictions and penalty error"
   ]
  },
  {
   "cell_type": "code",
   "execution_count": 31,
   "metadata": {},
   "outputs": [],
   "source": [
    "PredictTest = predict(ClaimsTree, newdata = ClaimsTest, type = \"class\")"
   ]
  },
  {
   "cell_type": "markdown",
   "metadata": {},
   "source": [
    "Recreating our classification matrix:"
   ]
  },
  {
   "cell_type": "code",
   "execution_count": 38,
   "metadata": {},
   "outputs": [],
   "source": [
    "t = table(ClaimsTest$bucket2009, PredictTest)"
   ]
  },
  {
   "cell_type": "code",
   "execution_count": 39,
   "metadata": {},
   "outputs": [
    {
     "data": {
      "text/html": [
       "0.647274593072128"
      ],
      "text/latex": [
       "0.647274593072128"
      ],
      "text/markdown": [
       "0.647274593072128"
      ],
      "text/plain": [
       "[1] 0.6472746"
      ]
     },
     "metadata": {},
     "output_type": "display_data"
    }
   ],
   "source": [
    "sum(diag(t))/nrow(ClaimsTest)"
   ]
  },
  {
   "cell_type": "markdown",
   "metadata": {},
   "source": [
    "So the accuracy of this model is 0.647."
   ]
  },
  {
   "cell_type": "code",
   "execution_count": 40,
   "metadata": {},
   "outputs": [
    {
     "data": {
      "text/html": [
       "0.641816137378413"
      ],
      "text/latex": [
       "0.641816137378413"
      ],
      "text/markdown": [
       "0.641816137378413"
      ],
      "text/plain": [
       "[1] 0.6418161"
      ]
     },
     "metadata": {},
     "output_type": "display_data"
    }
   ],
   "source": [
    "sum(as.matrix(table(ClaimsTest$bucket2009, PredictTest))*PenaltyMatrix)/nrow(ClaimsTest)"
   ]
  },
  {
   "cell_type": "markdown",
   "metadata": {},
   "source": [
    "The penalty error of our new model is 0.642."
   ]
  },
  {
   "cell_type": "markdown",
   "metadata": {},
   "source": [
    "Our accuracy is now lower than the baseline method, but our penalty error is also much lower."
   ]
  },
  {
   "cell_type": "markdown",
   "metadata": {},
   "source": [
    "<img src=\"images/results.jpg\"/>"
   ]
  }
 ],
 "metadata": {
  "kernelspec": {
   "display_name": "R",
   "language": "R",
   "name": "ir"
  },
  "language_info": {
   "codemirror_mode": "r",
   "file_extension": ".r",
   "mimetype": "text/x-r-source",
   "name": "R",
   "pygments_lexer": "r",
   "version": "3.6.3"
  }
 },
 "nbformat": 4,
 "nbformat_minor": 4
}
