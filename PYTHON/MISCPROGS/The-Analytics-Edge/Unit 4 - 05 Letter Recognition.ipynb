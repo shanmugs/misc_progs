{
 "cells": [
  {
   "cell_type": "markdown",
   "metadata": {},
   "source": [
    "# Letter Recognition"
   ]
  },
  {
   "cell_type": "markdown",
   "metadata": {},
   "source": [
    "<img src=\"images/A.jpg\"/>"
   ]
  },
  {
   "cell_type": "markdown",
   "metadata": {},
   "source": [
    "One of the earliest applications of the predictive analytics methods we have studied so far in this class was to automatically recognize letters, which post office machines use to sort mail. In this problem, we will build a model that uses statistics of images of four letters in the Roman alphabet -- A, B, P, and R -- to predict which letter a particular image corresponds to.\n",
    "\n",
    "Note that this is a multiclass classification problem. We have mostly focused on binary classification problems (e.g., predicting whether an individual voted or not, whether the Supreme Court will affirm or reverse a case, whether or not a person is at risk for a certain disease, etc.). In this problem, we have more than two classifications that are possible for each observation, like in the D2Hawkeye lecture. \n",
    "\n",
    "The file letters_ABPR.csv contains 3116 observations, each of which corresponds to a certain image of one of the four letters A, B, P and R. The images came from 20 different fonts, which were then randomly distorted to produce the final images; each such distorted image is represented as a collection of pixels, each of which is \"on\" or \"off\". For each such distorted image, we have available certain statistics of the image in terms of these pixels, as well as which of the four letters the image is. This data comes from the UCI Machine Learning Repository."
   ]
  },
  {
   "cell_type": "markdown",
   "metadata": {},
   "source": [
    "### The Data\n",
    "\n",
    "This dataset contains the following 17 variables:\n",
    "\n",
    "    letter = the letter that the image corresponds to (A, B, P or R)\n",
    "    \n",
    "    xbox = the horizontal position of where the smallest box covering the letter shape begins.\n",
    "    \n",
    "    ybox = the vertical position of where the smallest box covering the letter shape begins.\n",
    "    \n",
    "    width = the width of this smallest box.\n",
    "    \n",
    "    height = the height of this smallest box.\n",
    "    \n",
    "    onpix = the total number of \"on\" pixels in the character image\n",
    "    \n",
    "    xbar = the mean horizontal position of all of the \"on\" pixels\n",
    "    \n",
    "    ybar = the mean vertical position of all of the \"on\" pixels\n",
    "    \n",
    "    x2bar = the mean squared horizontal position of all of the \"on\" pixels in the image\n",
    "    \n",
    "    y2bar = the mean squared vertical position of all of the \"on\" pixels in the image\n",
    "    \n",
    "    xybar = the mean of the product of the horizontal and vertical position of all of the \"on\" pixels in the image\n",
    "    \n",
    "    x2ybar = the mean of the product of the squared horizontal position and the vertical position of all of the \"on\" pixels\n",
    "    \n",
    "    xy2bar = the mean of the product of the horizontal position and the squared vertical position of all of the \"on\" pixels\n",
    "    \n",
    "    xedge = the mean number of edges (the number of times an \"off\" pixel is followed by an \"on\" pixel, or the image boundary is hit) as the image is scanned from left to right, along the whole vertical length of the image\n",
    "    \n",
    "    xedgeycor = the mean of the product of the number of horizontal edges at each vertical position and the vertical position\n",
    "    \n",
    "    yedge = the mean number of edges as the images is scanned from top to bottom, along the whole horizontal length of the image\n",
    "    \n",
    "    yedgexcor = the mean of the product of the number of vertical edges at each horizontal position and the horizontal position"
   ]
  },
  {
   "cell_type": "markdown",
   "metadata": {},
   "source": [
    "### Load and Exploration the Data"
   ]
  },
  {
   "cell_type": "code",
   "execution_count": 1,
   "metadata": {},
   "outputs": [
    {
     "data": {
      "text/html": [
       "<table>\n",
       "<caption>A data.frame: 6 × 17</caption>\n",
       "<thead>\n",
       "\t<tr><th></th><th scope=col>letter</th><th scope=col>xbox</th><th scope=col>ybox</th><th scope=col>width</th><th scope=col>height</th><th scope=col>onpix</th><th scope=col>xbar</th><th scope=col>ybar</th><th scope=col>x2bar</th><th scope=col>y2bar</th><th scope=col>xybar</th><th scope=col>x2ybar</th><th scope=col>xy2bar</th><th scope=col>xedge</th><th scope=col>xedgeycor</th><th scope=col>yedge</th><th scope=col>yedgexcor</th></tr>\n",
       "\t<tr><th></th><th scope=col>&lt;fct&gt;</th><th scope=col>&lt;int&gt;</th><th scope=col>&lt;int&gt;</th><th scope=col>&lt;int&gt;</th><th scope=col>&lt;int&gt;</th><th scope=col>&lt;int&gt;</th><th scope=col>&lt;int&gt;</th><th scope=col>&lt;int&gt;</th><th scope=col>&lt;int&gt;</th><th scope=col>&lt;int&gt;</th><th scope=col>&lt;int&gt;</th><th scope=col>&lt;int&gt;</th><th scope=col>&lt;int&gt;</th><th scope=col>&lt;int&gt;</th><th scope=col>&lt;int&gt;</th><th scope=col>&lt;int&gt;</th><th scope=col>&lt;int&gt;</th></tr>\n",
       "</thead>\n",
       "<tbody>\n",
       "\t<tr><th scope=row>1</th><td>B</td><td>4</td><td> 2</td><td>5</td><td>4</td><td> 4</td><td>8</td><td> 7</td><td>6</td><td>6</td><td> 7</td><td>6</td><td>6</td><td>2</td><td> 8</td><td>7</td><td>10</td></tr>\n",
       "\t<tr><th scope=row>2</th><td>A</td><td>1</td><td> 1</td><td>3</td><td>2</td><td> 1</td><td>8</td><td> 2</td><td>2</td><td>2</td><td> 8</td><td>2</td><td>8</td><td>1</td><td> 6</td><td>2</td><td> 7</td></tr>\n",
       "\t<tr><th scope=row>3</th><td>R</td><td>5</td><td> 9</td><td>5</td><td>7</td><td> 6</td><td>6</td><td>11</td><td>7</td><td>3</td><td> 7</td><td>3</td><td>9</td><td>2</td><td> 7</td><td>5</td><td>11</td></tr>\n",
       "\t<tr><th scope=row>4</th><td>B</td><td>5</td><td> 9</td><td>7</td><td>7</td><td>10</td><td>9</td><td> 8</td><td>4</td><td>4</td><td> 6</td><td>8</td><td>6</td><td>6</td><td>11</td><td>8</td><td> 7</td></tr>\n",
       "\t<tr><th scope=row>5</th><td>P</td><td>3</td><td> 6</td><td>4</td><td>4</td><td> 2</td><td>4</td><td>14</td><td>8</td><td>1</td><td>11</td><td>6</td><td>3</td><td>0</td><td>10</td><td>4</td><td> 8</td></tr>\n",
       "\t<tr><th scope=row>6</th><td>R</td><td>8</td><td>10</td><td>8</td><td>6</td><td> 6</td><td>7</td><td> 7</td><td>3</td><td>5</td><td> 8</td><td>4</td><td>8</td><td>6</td><td> 6</td><td>7</td><td> 7</td></tr>\n",
       "</tbody>\n",
       "</table>\n"
      ],
      "text/latex": [
       "A data.frame: 6 × 17\n",
       "\\begin{tabular}{r|lllllllllllllllll}\n",
       "  & letter & xbox & ybox & width & height & onpix & xbar & ybar & x2bar & y2bar & xybar & x2ybar & xy2bar & xedge & xedgeycor & yedge & yedgexcor\\\\\n",
       "  & <fct> & <int> & <int> & <int> & <int> & <int> & <int> & <int> & <int> & <int> & <int> & <int> & <int> & <int> & <int> & <int> & <int>\\\\\n",
       "\\hline\n",
       "\t1 & B & 4 &  2 & 5 & 4 &  4 & 8 &  7 & 6 & 6 &  7 & 6 & 6 & 2 &  8 & 7 & 10\\\\\n",
       "\t2 & A & 1 &  1 & 3 & 2 &  1 & 8 &  2 & 2 & 2 &  8 & 2 & 8 & 1 &  6 & 2 &  7\\\\\n",
       "\t3 & R & 5 &  9 & 5 & 7 &  6 & 6 & 11 & 7 & 3 &  7 & 3 & 9 & 2 &  7 & 5 & 11\\\\\n",
       "\t4 & B & 5 &  9 & 7 & 7 & 10 & 9 &  8 & 4 & 4 &  6 & 8 & 6 & 6 & 11 & 8 &  7\\\\\n",
       "\t5 & P & 3 &  6 & 4 & 4 &  2 & 4 & 14 & 8 & 1 & 11 & 6 & 3 & 0 & 10 & 4 &  8\\\\\n",
       "\t6 & R & 8 & 10 & 8 & 6 &  6 & 7 &  7 & 3 & 5 &  8 & 4 & 8 & 6 &  6 & 7 &  7\\\\\n",
       "\\end{tabular}\n"
      ],
      "text/markdown": [
       "\n",
       "A data.frame: 6 × 17\n",
       "\n",
       "| <!--/--> | letter &lt;fct&gt; | xbox &lt;int&gt; | ybox &lt;int&gt; | width &lt;int&gt; | height &lt;int&gt; | onpix &lt;int&gt; | xbar &lt;int&gt; | ybar &lt;int&gt; | x2bar &lt;int&gt; | y2bar &lt;int&gt; | xybar &lt;int&gt; | x2ybar &lt;int&gt; | xy2bar &lt;int&gt; | xedge &lt;int&gt; | xedgeycor &lt;int&gt; | yedge &lt;int&gt; | yedgexcor &lt;int&gt; |\n",
       "|---|---|---|---|---|---|---|---|---|---|---|---|---|---|---|---|---|---|\n",
       "| 1 | B | 4 |  2 | 5 | 4 |  4 | 8 |  7 | 6 | 6 |  7 | 6 | 6 | 2 |  8 | 7 | 10 |\n",
       "| 2 | A | 1 |  1 | 3 | 2 |  1 | 8 |  2 | 2 | 2 |  8 | 2 | 8 | 1 |  6 | 2 |  7 |\n",
       "| 3 | R | 5 |  9 | 5 | 7 |  6 | 6 | 11 | 7 | 3 |  7 | 3 | 9 | 2 |  7 | 5 | 11 |\n",
       "| 4 | B | 5 |  9 | 7 | 7 | 10 | 9 |  8 | 4 | 4 |  6 | 8 | 6 | 6 | 11 | 8 |  7 |\n",
       "| 5 | P | 3 |  6 | 4 | 4 |  2 | 4 | 14 | 8 | 1 | 11 | 6 | 3 | 0 | 10 | 4 |  8 |\n",
       "| 6 | R | 8 | 10 | 8 | 6 |  6 | 7 |  7 | 3 | 5 |  8 | 4 | 8 | 6 |  6 | 7 |  7 |\n",
       "\n"
      ],
      "text/plain": [
       "  letter xbox ybox width height onpix xbar ybar x2bar y2bar xybar x2ybar xy2bar\n",
       "1 B      4     2   5     4       4    8     7   6     6      7    6      6     \n",
       "2 A      1     1   3     2       1    8     2   2     2      8    2      8     \n",
       "3 R      5     9   5     7       6    6    11   7     3      7    3      9     \n",
       "4 B      5     9   7     7      10    9     8   4     4      6    8      6     \n",
       "5 P      3     6   4     4       2    4    14   8     1     11    6      3     \n",
       "6 R      8    10   8     6       6    7     7   3     5      8    4      8     \n",
       "  xedge xedgeycor yedge yedgexcor\n",
       "1 2      8        7     10       \n",
       "2 1      6        2      7       \n",
       "3 2      7        5     11       \n",
       "4 6     11        8      7       \n",
       "5 0     10        4      8       \n",
       "6 6      6        7      7       "
      ]
     },
     "metadata": {},
     "output_type": "display_data"
    }
   ],
   "source": [
    "letters = read.csv(\"data/letters_ABPR.csv\")\n",
    "head(letters)"
   ]
  },
  {
   "cell_type": "code",
   "execution_count": 2,
   "metadata": {},
   "outputs": [
    {
     "name": "stdout",
     "output_type": "stream",
     "text": [
      "'data.frame':\t3116 obs. of  17 variables:\n",
      " $ letter   : Factor w/ 4 levels \"A\",\"B\",\"P\",\"R\": 2 1 4 2 3 4 4 1 3 3 ...\n",
      " $ xbox     : int  4 1 5 5 3 8 2 3 8 6 ...\n",
      " $ ybox     : int  2 1 9 9 6 10 6 7 14 10 ...\n",
      " $ width    : int  5 3 5 7 4 8 4 5 7 8 ...\n",
      " $ height   : int  4 2 7 7 4 6 4 5 8 8 ...\n",
      " $ onpix    : int  4 1 6 10 2 6 3 3 4 7 ...\n",
      " $ xbar     : int  8 8 6 9 4 7 6 12 5 8 ...\n",
      " $ ybar     : int  7 2 11 8 14 7 7 2 10 5 ...\n",
      " $ x2bar    : int  6 2 7 4 8 3 5 3 6 7 ...\n",
      " $ y2bar    : int  6 2 3 4 1 5 5 2 3 5 ...\n",
      " $ xybar    : int  7 8 7 6 11 8 6 10 12 7 ...\n",
      " $ x2ybar   : int  6 2 3 8 6 4 5 2 5 6 ...\n",
      " $ xy2bar   : int  6 8 9 6 3 8 7 9 4 6 ...\n",
      " $ xedge    : int  2 1 2 6 0 6 3 2 4 3 ...\n",
      " $ xedgeycor: int  8 6 7 11 10 6 7 6 10 9 ...\n",
      " $ yedge    : int  7 2 5 8 4 7 5 3 4 8 ...\n",
      " $ yedgexcor: int  10 7 11 7 8 7 8 8 8 9 ...\n"
     ]
    }
   ],
   "source": [
    "str(letters)"
   ]
  },
  {
   "cell_type": "code",
   "execution_count": 3,
   "metadata": {},
   "outputs": [
    {
     "data": {
      "text/plain": [
       " letter       xbox             ybox            width            height      \n",
       " A:789   Min.   : 0.000   Min.   : 0.000   Min.   : 1.000   Min.   : 0.000  \n",
       " B:766   1st Qu.: 3.000   1st Qu.: 5.000   1st Qu.: 4.000   1st Qu.: 4.000  \n",
       " P:803   Median : 4.000   Median : 7.000   Median : 5.000   Median : 6.000  \n",
       " R:758   Mean   : 3.915   Mean   : 7.051   Mean   : 5.186   Mean   : 5.276  \n",
       "         3rd Qu.: 5.000   3rd Qu.: 9.000   3rd Qu.: 6.000   3rd Qu.: 7.000  \n",
       "         Max.   :13.000   Max.   :15.000   Max.   :11.000   Max.   :12.000  \n",
       "     onpix             xbar             ybar            x2bar       \n",
       " Min.   : 0.000   Min.   : 3.000   Min.   : 0.000   Min.   : 0.000  \n",
       " 1st Qu.: 2.000   1st Qu.: 6.000   1st Qu.: 6.000   1st Qu.: 3.000  \n",
       " Median : 4.000   Median : 7.000   Median : 7.000   Median : 4.000  \n",
       " Mean   : 3.869   Mean   : 7.469   Mean   : 7.197   Mean   : 4.706  \n",
       " 3rd Qu.: 5.000   3rd Qu.: 8.000   3rd Qu.: 9.000   3rd Qu.: 6.000  \n",
       " Max.   :12.000   Max.   :14.000   Max.   :15.000   Max.   :11.000  \n",
       "     y2bar           xybar            x2ybar          xy2bar      \n",
       " Min.   :0.000   Min.   : 3.000   Min.   : 0.00   Min.   : 0.000  \n",
       " 1st Qu.:2.000   1st Qu.: 7.000   1st Qu.: 3.00   1st Qu.: 6.000  \n",
       " Median :4.000   Median : 8.000   Median : 5.00   Median : 7.000  \n",
       " Mean   :3.903   Mean   : 8.491   Mean   : 4.52   Mean   : 6.711  \n",
       " 3rd Qu.:5.000   3rd Qu.:10.000   3rd Qu.: 6.00   3rd Qu.: 8.000  \n",
       " Max.   :8.000   Max.   :14.000   Max.   :10.00   Max.   :14.000  \n",
       "     xedge          xedgeycor          yedge        yedgexcor     \n",
       " Min.   : 0.000   Min.   : 1.000   Min.   : 0.0   Min.   : 1.000  \n",
       " 1st Qu.: 2.000   1st Qu.: 7.000   1st Qu.: 3.0   1st Qu.: 7.000  \n",
       " Median : 2.000   Median : 8.000   Median : 4.0   Median : 8.000  \n",
       " Mean   : 2.913   Mean   : 7.763   Mean   : 4.6   Mean   : 8.418  \n",
       " 3rd Qu.: 4.000   3rd Qu.: 9.000   3rd Qu.: 6.0   3rd Qu.:10.000  \n",
       " Max.   :10.000   Max.   :13.000   Max.   :12.0   Max.   :13.000  "
      ]
     },
     "metadata": {},
     "output_type": "display_data"
    }
   ],
   "source": [
    "summary(letters)"
   ]
  },
  {
   "cell_type": "markdown",
   "metadata": {},
   "source": [
    "### Problem 1.1 - Predicting B or not B\n",
    "Let's warm up by attempting to predict just whether a letter is B or not. To begin, load the file letters_ABPR.csv into R, and call it letters. Then, create a new variable isB in the dataframe, which takes the value \"TRUE\" if the observation corresponds to the letter B, and \"FALSE\" if it does not. You can do this by typing the following command into your R console:\n",
    "\n",
    "    letters$isB = as.factor(letters$letter == \"B\")\n",
    "\n",
    "Now split the data set into a training and testing set, putting 50% of the data in the training set. Set the seed to 1000 before making the split. The first argument to sample.split should be the dependent variable \"letters$isB\". Remember that TRUE values from sample.split should go in the training set.\n",
    "\n",
    "Before building models, let's consider a baseline method that always predicts the most frequent outcome, which is \"not B\". What is the accuracy of this baseline method on the test set?"
   ]
  },
  {
   "cell_type": "code",
   "execution_count": 4,
   "metadata": {},
   "outputs": [
    {
     "data": {
      "text/html": [
       "<table>\n",
       "<caption>A data.frame: 6 × 18</caption>\n",
       "<thead>\n",
       "\t<tr><th></th><th scope=col>letter</th><th scope=col>xbox</th><th scope=col>ybox</th><th scope=col>width</th><th scope=col>height</th><th scope=col>onpix</th><th scope=col>xbar</th><th scope=col>ybar</th><th scope=col>x2bar</th><th scope=col>y2bar</th><th scope=col>xybar</th><th scope=col>x2ybar</th><th scope=col>xy2bar</th><th scope=col>xedge</th><th scope=col>xedgeycor</th><th scope=col>yedge</th><th scope=col>yedgexcor</th><th scope=col>isB</th></tr>\n",
       "\t<tr><th></th><th scope=col>&lt;fct&gt;</th><th scope=col>&lt;int&gt;</th><th scope=col>&lt;int&gt;</th><th scope=col>&lt;int&gt;</th><th scope=col>&lt;int&gt;</th><th scope=col>&lt;int&gt;</th><th scope=col>&lt;int&gt;</th><th scope=col>&lt;int&gt;</th><th scope=col>&lt;int&gt;</th><th scope=col>&lt;int&gt;</th><th scope=col>&lt;int&gt;</th><th scope=col>&lt;int&gt;</th><th scope=col>&lt;int&gt;</th><th scope=col>&lt;int&gt;</th><th scope=col>&lt;int&gt;</th><th scope=col>&lt;int&gt;</th><th scope=col>&lt;int&gt;</th><th scope=col>&lt;fct&gt;</th></tr>\n",
       "</thead>\n",
       "<tbody>\n",
       "\t<tr><th scope=row>1</th><td>B</td><td>4</td><td> 2</td><td>5</td><td>4</td><td> 4</td><td>8</td><td> 7</td><td>6</td><td>6</td><td> 7</td><td>6</td><td>6</td><td>2</td><td> 8</td><td>7</td><td>10</td><td>TRUE </td></tr>\n",
       "\t<tr><th scope=row>2</th><td>A</td><td>1</td><td> 1</td><td>3</td><td>2</td><td> 1</td><td>8</td><td> 2</td><td>2</td><td>2</td><td> 8</td><td>2</td><td>8</td><td>1</td><td> 6</td><td>2</td><td> 7</td><td>FALSE</td></tr>\n",
       "\t<tr><th scope=row>3</th><td>R</td><td>5</td><td> 9</td><td>5</td><td>7</td><td> 6</td><td>6</td><td>11</td><td>7</td><td>3</td><td> 7</td><td>3</td><td>9</td><td>2</td><td> 7</td><td>5</td><td>11</td><td>FALSE</td></tr>\n",
       "\t<tr><th scope=row>4</th><td>B</td><td>5</td><td> 9</td><td>7</td><td>7</td><td>10</td><td>9</td><td> 8</td><td>4</td><td>4</td><td> 6</td><td>8</td><td>6</td><td>6</td><td>11</td><td>8</td><td> 7</td><td>TRUE </td></tr>\n",
       "\t<tr><th scope=row>5</th><td>P</td><td>3</td><td> 6</td><td>4</td><td>4</td><td> 2</td><td>4</td><td>14</td><td>8</td><td>1</td><td>11</td><td>6</td><td>3</td><td>0</td><td>10</td><td>4</td><td> 8</td><td>FALSE</td></tr>\n",
       "\t<tr><th scope=row>6</th><td>R</td><td>8</td><td>10</td><td>8</td><td>6</td><td> 6</td><td>7</td><td> 7</td><td>3</td><td>5</td><td> 8</td><td>4</td><td>8</td><td>6</td><td> 6</td><td>7</td><td> 7</td><td>FALSE</td></tr>\n",
       "</tbody>\n",
       "</table>\n"
      ],
      "text/latex": [
       "A data.frame: 6 × 18\n",
       "\\begin{tabular}{r|llllllllllllllllll}\n",
       "  & letter & xbox & ybox & width & height & onpix & xbar & ybar & x2bar & y2bar & xybar & x2ybar & xy2bar & xedge & xedgeycor & yedge & yedgexcor & isB\\\\\n",
       "  & <fct> & <int> & <int> & <int> & <int> & <int> & <int> & <int> & <int> & <int> & <int> & <int> & <int> & <int> & <int> & <int> & <int> & <fct>\\\\\n",
       "\\hline\n",
       "\t1 & B & 4 &  2 & 5 & 4 &  4 & 8 &  7 & 6 & 6 &  7 & 6 & 6 & 2 &  8 & 7 & 10 & TRUE \\\\\n",
       "\t2 & A & 1 &  1 & 3 & 2 &  1 & 8 &  2 & 2 & 2 &  8 & 2 & 8 & 1 &  6 & 2 &  7 & FALSE\\\\\n",
       "\t3 & R & 5 &  9 & 5 & 7 &  6 & 6 & 11 & 7 & 3 &  7 & 3 & 9 & 2 &  7 & 5 & 11 & FALSE\\\\\n",
       "\t4 & B & 5 &  9 & 7 & 7 & 10 & 9 &  8 & 4 & 4 &  6 & 8 & 6 & 6 & 11 & 8 &  7 & TRUE \\\\\n",
       "\t5 & P & 3 &  6 & 4 & 4 &  2 & 4 & 14 & 8 & 1 & 11 & 6 & 3 & 0 & 10 & 4 &  8 & FALSE\\\\\n",
       "\t6 & R & 8 & 10 & 8 & 6 &  6 & 7 &  7 & 3 & 5 &  8 & 4 & 8 & 6 &  6 & 7 &  7 & FALSE\\\\\n",
       "\\end{tabular}\n"
      ],
      "text/markdown": [
       "\n",
       "A data.frame: 6 × 18\n",
       "\n",
       "| <!--/--> | letter &lt;fct&gt; | xbox &lt;int&gt; | ybox &lt;int&gt; | width &lt;int&gt; | height &lt;int&gt; | onpix &lt;int&gt; | xbar &lt;int&gt; | ybar &lt;int&gt; | x2bar &lt;int&gt; | y2bar &lt;int&gt; | xybar &lt;int&gt; | x2ybar &lt;int&gt; | xy2bar &lt;int&gt; | xedge &lt;int&gt; | xedgeycor &lt;int&gt; | yedge &lt;int&gt; | yedgexcor &lt;int&gt; | isB &lt;fct&gt; |\n",
       "|---|---|---|---|---|---|---|---|---|---|---|---|---|---|---|---|---|---|---|\n",
       "| 1 | B | 4 |  2 | 5 | 4 |  4 | 8 |  7 | 6 | 6 |  7 | 6 | 6 | 2 |  8 | 7 | 10 | TRUE  |\n",
       "| 2 | A | 1 |  1 | 3 | 2 |  1 | 8 |  2 | 2 | 2 |  8 | 2 | 8 | 1 |  6 | 2 |  7 | FALSE |\n",
       "| 3 | R | 5 |  9 | 5 | 7 |  6 | 6 | 11 | 7 | 3 |  7 | 3 | 9 | 2 |  7 | 5 | 11 | FALSE |\n",
       "| 4 | B | 5 |  9 | 7 | 7 | 10 | 9 |  8 | 4 | 4 |  6 | 8 | 6 | 6 | 11 | 8 |  7 | TRUE  |\n",
       "| 5 | P | 3 |  6 | 4 | 4 |  2 | 4 | 14 | 8 | 1 | 11 | 6 | 3 | 0 | 10 | 4 |  8 | FALSE |\n",
       "| 6 | R | 8 | 10 | 8 | 6 |  6 | 7 |  7 | 3 | 5 |  8 | 4 | 8 | 6 |  6 | 7 |  7 | FALSE |\n",
       "\n"
      ],
      "text/plain": [
       "  letter xbox ybox width height onpix xbar ybar x2bar y2bar xybar x2ybar xy2bar\n",
       "1 B      4     2   5     4       4    8     7   6     6      7    6      6     \n",
       "2 A      1     1   3     2       1    8     2   2     2      8    2      8     \n",
       "3 R      5     9   5     7       6    6    11   7     3      7    3      9     \n",
       "4 B      5     9   7     7      10    9     8   4     4      6    8      6     \n",
       "5 P      3     6   4     4       2    4    14   8     1     11    6      3     \n",
       "6 R      8    10   8     6       6    7     7   3     5      8    4      8     \n",
       "  xedge xedgeycor yedge yedgexcor isB  \n",
       "1 2      8        7     10        TRUE \n",
       "2 1      6        2      7        FALSE\n",
       "3 2      7        5     11        FALSE\n",
       "4 6     11        8      7        TRUE \n",
       "5 0     10        4      8        FALSE\n",
       "6 6      6        7      7        FALSE"
      ]
     },
     "metadata": {},
     "output_type": "display_data"
    }
   ],
   "source": [
    "# Convert to factor\n",
    "letters$isB = as.factor(letters$letter == \"B\")\n",
    "\n",
    "head(letters)"
   ]
  },
  {
   "cell_type": "code",
   "execution_count": 5,
   "metadata": {},
   "outputs": [],
   "source": [
    "library(caTools)"
   ]
  },
  {
   "cell_type": "code",
   "execution_count": 6,
   "metadata": {},
   "outputs": [],
   "source": [
    "# Split the data\n",
    "set.seed(1000)\n",
    "\n",
    "spl = sample.split(letters$isB, SplitRatio = 0.5)\n",
    "\n",
    "train = subset(letters, spl == TRUE)\n",
    "test = subset(letters, spl == FALSE)"
   ]
  },
  {
   "cell_type": "code",
   "execution_count": 7,
   "metadata": {},
   "outputs": [
    {
     "data": {
      "text/plain": [
       "\n",
       "FALSE  TRUE \n",
       " 1175   383 "
      ]
     },
     "metadata": {},
     "output_type": "display_data"
    }
   ],
   "source": [
    "# Tabulate if not B\n",
    "isB = table(test$isB)\n",
    "isB"
   ]
  },
  {
   "cell_type": "code",
   "execution_count": 8,
   "metadata": {},
   "outputs": [
    {
     "data": {
      "text/html": [
       "<span style=white-space:pre-wrap>'Accuracy always not B:  0.7542'</span>"
      ],
      "text/latex": [
       "'Accuracy always not B:  0.7542'"
      ],
      "text/markdown": [
       "<span style=white-space:pre-wrap>'Accuracy always not B:  0.7542'</span>"
      ],
      "text/plain": [
       "[1] \"Accuracy always not B:  0.7542\""
      ]
     },
     "metadata": {},
     "output_type": "display_data"
    }
   ],
   "source": [
    "# baseline method that always predicts is \"not B\"\n",
    "\n",
    "accnotb = isB[1]/sum(isB)  #  Right when is False, Number = Falses/(True + Falses)\n",
    "paste(\"Accuracy always not B: \", round(accnotb ,4))"
   ]
  },
  {
   "cell_type": "markdown",
   "metadata": {},
   "source": [
    "### Problem 1.2 - Predicting B or not B\n",
    "Now build a classification tree to predict whether a letter is a B or not, using the training set to build your model. Remember to remove the variable \"letter\" out of the model, as this is related to what we are trying to predict! To just remove one variable, you can either write out the other variables, or remember what we did in the Billboards problem in Week 3, and use the following notation:\n",
    "\n",
    "    CARTb = rpart(isB ~ . - letter, data=train, method=\"class\")\n",
    "\n",
    "We are just using the default parameters in our CART model, so we don't need to add the minbucket or cp arguments at all. We also added the argument method=\"class\" since this is a classification problem.\n",
    "\n",
    "What is the accuracy of the CART model on the test set? (Use type=\"class\" when making predictions on the test set.)"
   ]
  },
  {
   "cell_type": "code",
   "execution_count": 9,
   "metadata": {},
   "outputs": [],
   "source": [
    "library(rpart)\n",
    "library(rpart.plot)"
   ]
  },
  {
   "cell_type": "code",
   "execution_count": 10,
   "metadata": {},
   "outputs": [],
   "source": [
    "# Cart Model\n",
    "CARTb = rpart(isB ~ . - letter, data=train, method=\"class\")\n",
    "\n",
    "# Make predictions\n",
    "predictions = predict(CARTb, newdata=test, type=\"class\")"
   ]
  },
  {
   "cell_type": "code",
   "execution_count": 11,
   "metadata": {},
   "outputs": [
    {
     "data": {
      "text/plain": [
       "       predictions\n",
       "        FALSE TRUE\n",
       "  FALSE  1118   57\n",
       "  TRUE     43  340"
      ]
     },
     "metadata": {},
     "output_type": "display_data"
    }
   ],
   "source": [
    "# Confusion matrix\n",
    "cm = table(test$isB, predictions)\n",
    "cm"
   ]
  },
  {
   "cell_type": "code",
   "execution_count": 12,
   "metadata": {},
   "outputs": [
    {
     "data": {
      "text/html": [
       "<span style=white-space:pre-wrap>'Accuracy CART Model:  0.9358'</span>"
      ],
      "text/latex": [
       "'Accuracy CART Model:  0.9358'"
      ],
      "text/markdown": [
       "<span style=white-space:pre-wrap>'Accuracy CART Model:  0.9358'</span>"
      ],
      "text/plain": [
       "[1] \"Accuracy CART Model:  0.9358\""
      ]
     },
     "metadata": {},
     "output_type": "display_data"
    }
   ],
   "source": [
    "# Accuracy CART Model\n",
    "accur = sum(diag(cm))/sum(cm)  # (TN+TP)/(TN+FN+TP+FP)\n",
    "paste(\"Accuracy CART Model: \", round(accur,digits=4))"
   ]
  },
  {
   "cell_type": "markdown",
   "metadata": {},
   "source": [
    "### Problem 1.3 - Predicting B or Not B\n",
    "Now, build a random forest model to predict whether the letter is a B or not (the isB variable) using the training set. You should use all of the other variables as independent variables, except letter (since it helped us define what we are trying to predict!). Use the default settings for ntree and nodesize (don't include these arguments at all). Right before building the model, set the seed to 1000. (NOTE: You might get a slightly different answer on this problem, even if you set the random seed. This has to do with your operating system and the implementation of the random forest algorithm.)\n",
    "\n",
    "What is the accuracy of the model on the test set?"
   ]
  },
  {
   "cell_type": "code",
   "execution_count": 13,
   "metadata": {},
   "outputs": [
    {
     "name": "stderr",
     "output_type": "stream",
     "text": [
      "randomForest 4.6-14\n",
      "\n",
      "Type rfNews() to see new features/changes/bug fixes.\n",
      "\n"
     ]
    }
   ],
   "source": [
    "library(randomForest)"
   ]
  },
  {
   "cell_type": "code",
   "execution_count": 14,
   "metadata": {},
   "outputs": [],
   "source": [
    "# Random Forest model\n",
    "set.seed(1000)\n",
    "\n",
    "RFb = randomForest(isB ~ . - letter, data=train)\n",
    "\n",
    "# Make predictions\n",
    "predictions = predict(RFb, newdata=test)"
   ]
  },
  {
   "cell_type": "code",
   "execution_count": 15,
   "metadata": {},
   "outputs": [
    {
     "data": {
      "text/plain": [
       "       predictions\n",
       "        FALSE TRUE\n",
       "  FALSE  1163   12\n",
       "  TRUE      9  374"
      ]
     },
     "metadata": {},
     "output_type": "display_data"
    }
   ],
   "source": [
    "# Confusion matrix\n",
    "cmRF = table(test$isB, predictions)\n",
    "cmRF"
   ]
  },
  {
   "cell_type": "code",
   "execution_count": 16,
   "metadata": {},
   "outputs": [
    {
     "data": {
      "text/html": [
       "<span style=white-space:pre-wrap>'Accuracy Random Forest:  0.9865'</span>"
      ],
      "text/latex": [
       "'Accuracy Random Forest:  0.9865'"
      ],
      "text/markdown": [
       "<span style=white-space:pre-wrap>'Accuracy Random Forest:  0.9865'</span>"
      ],
      "text/plain": [
       "[1] \"Accuracy Random Forest:  0.9865\""
      ]
     },
     "metadata": {},
     "output_type": "display_data"
    }
   ],
   "source": [
    "# Accuracy Random Forest\n",
    "accurRF = sum(diag(cmRF))/sum(cmRF)  # (TN+TP)/(TN+FN+TP+FP)\n",
    "paste(\"Accuracy Random Forest: \", round(accurRF,digits=4))"
   ]
  },
  {
   "cell_type": "markdown",
   "metadata": {},
   "source": [
    "In lecture, we noted that random forests tends to improve on CART in terms of predictive accuracy. Sometimes, this improvement can be quite significant, as it is here."
   ]
  },
  {
   "cell_type": "markdown",
   "metadata": {},
   "source": [
    "### Problem 2.1 - Predicting the letters A, B, P, R\n",
    "Let us now move on to the problem that we were originally interested in, which is to predict whether or not a letter is one of the four letters A, B, P or R.\n",
    "\n",
    "As we saw in the D2Hawkeye lecture, building a multiclass classification CART model in R is no harder than building the models for binary classification problems. Fortunately, building a random forest model is just as easy.\n",
    "\n",
    "The variable in our data frame which we will be trying to predict is \"letter\". Start by converting letter in the original data set (letters) to a factor by running the following command in R:\n",
    "\n",
    "    letters$letter = as.factor( letters$letter )\n",
    "\n",
    "Now, generate new training and testing sets of the letters data frame using letters$letter as the first input to the sample.split function. Before splitting, set your seed to 2000. Again put 50% of the data in the training set. (Why do we need to split the data again? Remember that sample.split balances the outcome variable in the training and testing sets. With a new outcome variable, we want to re-generate our split.)\n",
    "\n",
    "In a multiclass classification problem, a simple baseline model is to predict the most frequent class of all of the options.\n",
    "\n",
    "What is the baseline accuracy on the testing set?"
   ]
  },
  {
   "cell_type": "code",
   "execution_count": 17,
   "metadata": {},
   "outputs": [
    {
     "data": {
      "text/html": [
       "<table>\n",
       "<caption>A data.frame: 6 × 18</caption>\n",
       "<thead>\n",
       "\t<tr><th></th><th scope=col>letter</th><th scope=col>xbox</th><th scope=col>ybox</th><th scope=col>width</th><th scope=col>height</th><th scope=col>onpix</th><th scope=col>xbar</th><th scope=col>ybar</th><th scope=col>x2bar</th><th scope=col>y2bar</th><th scope=col>xybar</th><th scope=col>x2ybar</th><th scope=col>xy2bar</th><th scope=col>xedge</th><th scope=col>xedgeycor</th><th scope=col>yedge</th><th scope=col>yedgexcor</th><th scope=col>isB</th></tr>\n",
       "\t<tr><th></th><th scope=col>&lt;fct&gt;</th><th scope=col>&lt;int&gt;</th><th scope=col>&lt;int&gt;</th><th scope=col>&lt;int&gt;</th><th scope=col>&lt;int&gt;</th><th scope=col>&lt;int&gt;</th><th scope=col>&lt;int&gt;</th><th scope=col>&lt;int&gt;</th><th scope=col>&lt;int&gt;</th><th scope=col>&lt;int&gt;</th><th scope=col>&lt;int&gt;</th><th scope=col>&lt;int&gt;</th><th scope=col>&lt;int&gt;</th><th scope=col>&lt;int&gt;</th><th scope=col>&lt;int&gt;</th><th scope=col>&lt;int&gt;</th><th scope=col>&lt;int&gt;</th><th scope=col>&lt;fct&gt;</th></tr>\n",
       "</thead>\n",
       "<tbody>\n",
       "\t<tr><th scope=row>1</th><td>B</td><td>4</td><td> 2</td><td>5</td><td>4</td><td> 4</td><td>8</td><td> 7</td><td>6</td><td>6</td><td> 7</td><td>6</td><td>6</td><td>2</td><td> 8</td><td>7</td><td>10</td><td>TRUE </td></tr>\n",
       "\t<tr><th scope=row>2</th><td>A</td><td>1</td><td> 1</td><td>3</td><td>2</td><td> 1</td><td>8</td><td> 2</td><td>2</td><td>2</td><td> 8</td><td>2</td><td>8</td><td>1</td><td> 6</td><td>2</td><td> 7</td><td>FALSE</td></tr>\n",
       "\t<tr><th scope=row>3</th><td>R</td><td>5</td><td> 9</td><td>5</td><td>7</td><td> 6</td><td>6</td><td>11</td><td>7</td><td>3</td><td> 7</td><td>3</td><td>9</td><td>2</td><td> 7</td><td>5</td><td>11</td><td>FALSE</td></tr>\n",
       "\t<tr><th scope=row>4</th><td>B</td><td>5</td><td> 9</td><td>7</td><td>7</td><td>10</td><td>9</td><td> 8</td><td>4</td><td>4</td><td> 6</td><td>8</td><td>6</td><td>6</td><td>11</td><td>8</td><td> 7</td><td>TRUE </td></tr>\n",
       "\t<tr><th scope=row>5</th><td>P</td><td>3</td><td> 6</td><td>4</td><td>4</td><td> 2</td><td>4</td><td>14</td><td>8</td><td>1</td><td>11</td><td>6</td><td>3</td><td>0</td><td>10</td><td>4</td><td> 8</td><td>FALSE</td></tr>\n",
       "\t<tr><th scope=row>6</th><td>R</td><td>8</td><td>10</td><td>8</td><td>6</td><td> 6</td><td>7</td><td> 7</td><td>3</td><td>5</td><td> 8</td><td>4</td><td>8</td><td>6</td><td> 6</td><td>7</td><td> 7</td><td>FALSE</td></tr>\n",
       "</tbody>\n",
       "</table>\n"
      ],
      "text/latex": [
       "A data.frame: 6 × 18\n",
       "\\begin{tabular}{r|llllllllllllllllll}\n",
       "  & letter & xbox & ybox & width & height & onpix & xbar & ybar & x2bar & y2bar & xybar & x2ybar & xy2bar & xedge & xedgeycor & yedge & yedgexcor & isB\\\\\n",
       "  & <fct> & <int> & <int> & <int> & <int> & <int> & <int> & <int> & <int> & <int> & <int> & <int> & <int> & <int> & <int> & <int> & <int> & <fct>\\\\\n",
       "\\hline\n",
       "\t1 & B & 4 &  2 & 5 & 4 &  4 & 8 &  7 & 6 & 6 &  7 & 6 & 6 & 2 &  8 & 7 & 10 & TRUE \\\\\n",
       "\t2 & A & 1 &  1 & 3 & 2 &  1 & 8 &  2 & 2 & 2 &  8 & 2 & 8 & 1 &  6 & 2 &  7 & FALSE\\\\\n",
       "\t3 & R & 5 &  9 & 5 & 7 &  6 & 6 & 11 & 7 & 3 &  7 & 3 & 9 & 2 &  7 & 5 & 11 & FALSE\\\\\n",
       "\t4 & B & 5 &  9 & 7 & 7 & 10 & 9 &  8 & 4 & 4 &  6 & 8 & 6 & 6 & 11 & 8 &  7 & TRUE \\\\\n",
       "\t5 & P & 3 &  6 & 4 & 4 &  2 & 4 & 14 & 8 & 1 & 11 & 6 & 3 & 0 & 10 & 4 &  8 & FALSE\\\\\n",
       "\t6 & R & 8 & 10 & 8 & 6 &  6 & 7 &  7 & 3 & 5 &  8 & 4 & 8 & 6 &  6 & 7 &  7 & FALSE\\\\\n",
       "\\end{tabular}\n"
      ],
      "text/markdown": [
       "\n",
       "A data.frame: 6 × 18\n",
       "\n",
       "| <!--/--> | letter &lt;fct&gt; | xbox &lt;int&gt; | ybox &lt;int&gt; | width &lt;int&gt; | height &lt;int&gt; | onpix &lt;int&gt; | xbar &lt;int&gt; | ybar &lt;int&gt; | x2bar &lt;int&gt; | y2bar &lt;int&gt; | xybar &lt;int&gt; | x2ybar &lt;int&gt; | xy2bar &lt;int&gt; | xedge &lt;int&gt; | xedgeycor &lt;int&gt; | yedge &lt;int&gt; | yedgexcor &lt;int&gt; | isB &lt;fct&gt; |\n",
       "|---|---|---|---|---|---|---|---|---|---|---|---|---|---|---|---|---|---|---|\n",
       "| 1 | B | 4 |  2 | 5 | 4 |  4 | 8 |  7 | 6 | 6 |  7 | 6 | 6 | 2 |  8 | 7 | 10 | TRUE  |\n",
       "| 2 | A | 1 |  1 | 3 | 2 |  1 | 8 |  2 | 2 | 2 |  8 | 2 | 8 | 1 |  6 | 2 |  7 | FALSE |\n",
       "| 3 | R | 5 |  9 | 5 | 7 |  6 | 6 | 11 | 7 | 3 |  7 | 3 | 9 | 2 |  7 | 5 | 11 | FALSE |\n",
       "| 4 | B | 5 |  9 | 7 | 7 | 10 | 9 |  8 | 4 | 4 |  6 | 8 | 6 | 6 | 11 | 8 |  7 | TRUE  |\n",
       "| 5 | P | 3 |  6 | 4 | 4 |  2 | 4 | 14 | 8 | 1 | 11 | 6 | 3 | 0 | 10 | 4 |  8 | FALSE |\n",
       "| 6 | R | 8 | 10 | 8 | 6 |  6 | 7 |  7 | 3 | 5 |  8 | 4 | 8 | 6 |  6 | 7 |  7 | FALSE |\n",
       "\n"
      ],
      "text/plain": [
       "  letter xbox ybox width height onpix xbar ybar x2bar y2bar xybar x2ybar xy2bar\n",
       "1 B      4     2   5     4       4    8     7   6     6      7    6      6     \n",
       "2 A      1     1   3     2       1    8     2   2     2      8    2      8     \n",
       "3 R      5     9   5     7       6    6    11   7     3      7    3      9     \n",
       "4 B      5     9   7     7      10    9     8   4     4      6    8      6     \n",
       "5 P      3     6   4     4       2    4    14   8     1     11    6      3     \n",
       "6 R      8    10   8     6       6    7     7   3     5      8    4      8     \n",
       "  xedge xedgeycor yedge yedgexcor isB  \n",
       "1 2      8        7     10        TRUE \n",
       "2 1      6        2      7        FALSE\n",
       "3 2      7        5     11        FALSE\n",
       "4 6     11        8      7        TRUE \n",
       "5 0     10        4      8        FALSE\n",
       "6 6      6        7      7        FALSE"
      ]
     },
     "metadata": {},
     "output_type": "display_data"
    }
   ],
   "source": [
    "# Convert to factor\n",
    "letters$letter = as.factor( letters$letter ) \n",
    "\n",
    "head(letters)"
   ]
  },
  {
   "cell_type": "code",
   "execution_count": 18,
   "metadata": {},
   "outputs": [],
   "source": [
    "# Split the data\n",
    "set.seed(2000)\n",
    "\n",
    "spl = sample.split(letters$letter, SplitRatio = 0.5)\n",
    "\n",
    "train2 = subset(letters, spl == TRUE)\n",
    "test2 = subset(letters, spl == FALSE)"
   ]
  },
  {
   "cell_type": "code",
   "execution_count": 19,
   "metadata": {},
   "outputs": [
    {
     "data": {
      "text/plain": [
       "\n",
       "  A   B   P   R \n",
       "395 383 401 379 "
      ]
     },
     "metadata": {},
     "output_type": "display_data"
    }
   ],
   "source": [
    "# Tabulate letters\n",
    "bl = table(test2$letter)\n",
    "bl"
   ]
  },
  {
   "cell_type": "code",
   "execution_count": 20,
   "metadata": {},
   "outputs": [
    {
     "data": {
      "text/html": [
       "<span style=white-space:pre-wrap>'Accuracy BL testing set:  0.2574'</span>"
      ],
      "text/latex": [
       "'Accuracy BL testing set:  0.2574'"
      ],
      "text/markdown": [
       "<span style=white-space:pre-wrap>'Accuracy BL testing set:  0.2574'</span>"
      ],
      "text/plain": [
       "[1] \"Accuracy BL testing set:  0.2574\""
      ]
     },
     "metadata": {},
     "output_type": "display_data"
    }
   ],
   "source": [
    "# Baseline accuracy on the testing set\n",
    "accurts = max(bl)/sum(bl)  # predict the most frequent class of all of the options\n",
    "paste(\"Accuracy BL testing set: \", round(accurts,digits=4))"
   ]
  },
  {
   "cell_type": "markdown",
   "metadata": {},
   "source": [
    "### Problem 2.2 - Predicting the letters A, B, P, R\n",
    "Now build a classification tree to predict \"letter\", using the training set to build your model. You should use all of the other variables as independent variables, except \"isB\", since it is related to what we are trying to predict! Just use the default parameters in your CART model. Add the argument method=\"class\" since this is a classification problem. Even though we have multiple classes here, nothing changes in how we build the model from the binary case.\n",
    "\n",
    "What is the test set accuracy of your CART model? Use the argument type=\"class\" when making predictions.\n",
    "\n",
    "(HINT: When you are computing the test set accuracy using the confusion matrix, you want to add everything on the main diagonal and divide by the total number of observations in the test set, which can be computed with nrow(test), where test is the name of your test set)."
   ]
  },
  {
   "cell_type": "code",
   "execution_count": 21,
   "metadata": {},
   "outputs": [],
   "source": [
    "# CART Model\n",
    "CARTletter = rpart(letter ~ . - isB, data=train2, method=\"class\")\n",
    "\n",
    "# Make predictions\n",
    "predictLetter = predict(CARTletter, newdata=test2, type=\"class\")"
   ]
  },
  {
   "cell_type": "code",
   "execution_count": 22,
   "metadata": {},
   "outputs": [
    {
     "data": {
      "text/plain": [
       "   predictLetter\n",
       "      A   B   P   R\n",
       "  A 348   4   0  43\n",
       "  B   8 318  12  45\n",
       "  P   2  21 363  15\n",
       "  R  10  24   5 340"
      ]
     },
     "metadata": {},
     "output_type": "display_data"
    }
   ],
   "source": [
    "# Confusion Matrix\n",
    "cmCM = table(test2$letter, predictLetter)\n",
    "cmCM"
   ]
  },
  {
   "cell_type": "code",
   "execution_count": 23,
   "metadata": {},
   "outputs": [
    {
     "data": {
      "text/html": [
       "<span style=white-space:pre-wrap>'Accuracy Cart Model2:  0.8787'</span>"
      ],
      "text/latex": [
       "'Accuracy Cart Model2:  0.8787'"
      ],
      "text/markdown": [
       "<span style=white-space:pre-wrap>'Accuracy Cart Model2:  0.8787'</span>"
      ],
      "text/plain": [
       "[1] \"Accuracy Cart Model2:  0.8787\""
      ]
     },
     "metadata": {},
     "output_type": "display_data"
    }
   ],
   "source": [
    "# Compute accuracy\n",
    "accurCM = sum(diag(cmCM))/sum(cmCM)\n",
    "paste(\"Accuracy Cart Model2: \", round(accurCM,digits=4))"
   ]
  },
  {
   "cell_type": "markdown",
   "metadata": {},
   "source": [
    "### Problem 2.3 - Predicting the letters A, B, P, R\n",
    "Now build a random forest model on the training data, using the same independent variables as in the previous problem -- again, don't forget to remove the isB variable. Just use the default parameter values for ntree and nodesize (you don't need to include these arguments at all). Set the seed to 1000 right before building your model. (Remember that you might get a slightly different result even if you set the random seed.)\n",
    "\n",
    "What is the test set accuracy of your random forest model?"
   ]
  },
  {
   "cell_type": "code",
   "execution_count": 24,
   "metadata": {},
   "outputs": [],
   "source": [
    "# Random Forest model\n",
    "set.seed(1000)\n",
    "RFletter = randomForest(letter ~ . - isB, data=train2)\n",
    "\n",
    "# Make predictions\n",
    "predictLetter = predict(RFletter, newdata=test2)"
   ]
  },
  {
   "cell_type": "code",
   "execution_count": 25,
   "metadata": {},
   "outputs": [
    {
     "data": {
      "text/plain": [
       "   predictLetter\n",
       "      A   B   P   R\n",
       "  A 391   0   3   1\n",
       "  B   0 380   1   2\n",
       "  P   0   6 394   1\n",
       "  R   3  14   0 362"
      ]
     },
     "metadata": {},
     "output_type": "display_data"
    }
   ],
   "source": [
    "# Confusion matrix\n",
    "cmFM = table(test2$letter, predictLetter)\n",
    "cmFM"
   ]
  },
  {
   "cell_type": "code",
   "execution_count": 26,
   "metadata": {},
   "outputs": [
    {
     "data": {
      "text/html": [
       "<span style=white-space:pre-wrap>'Accuracy Random Forest2:  0.9801'</span>"
      ],
      "text/latex": [
       "'Accuracy Random Forest2:  0.9801'"
      ],
      "text/markdown": [
       "<span style=white-space:pre-wrap>'Accuracy Random Forest2:  0.9801'</span>"
      ],
      "text/plain": [
       "[1] \"Accuracy Random Forest2:  0.9801\""
      ]
     },
     "metadata": {},
     "output_type": "display_data"
    }
   ],
   "source": [
    "# Compute accuracy\n",
    "accurFM = sum(diag(cmFM))/sum(cmFM)\n",
    "paste(\"Accuracy Random Forest2: \", round(accurFM,digits=4))"
   ]
  },
  {
   "cell_type": "markdown",
   "metadata": {},
   "source": [
    "You should find this value rather striking, for several reasons. The first is that it is significantly higher than the value for CART, highlighting the gain in accuracy that is possible from using random forest models. The second is that while the accuracy of CART decreased significantly as we transitioned from the problem of predicting B/not B (a relatively simple problem) to the problem of predicting the four letters (certainly a harder problem), the accuracy of the random forest model decreased by a tiny amount."
   ]
  }
 ],
 "metadata": {
  "kernelspec": {
   "display_name": "R",
   "language": "R",
   "name": "ir"
  },
  "language_info": {
   "codemirror_mode": "r",
   "file_extension": ".r",
   "mimetype": "text/x-r-source",
   "name": "R",
   "pygments_lexer": "r",
   "version": "3.6.3"
  }
 },
 "nbformat": 4,
 "nbformat_minor": 4
}
