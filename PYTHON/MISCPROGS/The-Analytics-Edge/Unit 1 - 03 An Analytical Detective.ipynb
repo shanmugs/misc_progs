{
 "cells": [
  {
   "cell_type": "markdown",
   "metadata": {},
   "source": [
    "# An Analytical Detective"
   ]
  },
  {
   "cell_type": "markdown",
   "metadata": {},
   "source": [
    "Crime is an international concern, but it is documented and handled in very different ways in different countries. In the United States, violent crimes and property crimes are recorded by the Federal Bureau of Investigation (FBI).  Additionally, each city documents crime, and some cities release data regarding crime rates. The city of Chicago, Illinois releases crime data from 2001 onward [online](https://data.cityofchicago.org/Public-Safety/Crimes-2001-to-Present/ijzp-q8t2)."
   ]
  },
  {
   "cell_type": "markdown",
   "metadata": {},
   "source": [
    "Chicago is the third most populous city in the United States, with a population of over 2.7 million people. The city of Chicago is shown in the map below, with the state of Illinois highlighted in red. "
   ]
  },
  {
   "cell_type": "markdown",
   "metadata": {},
   "source": [
    "<img src=\"images/ChicagoMap.png\"/>"
   ]
  },
  {
   "cell_type": "markdown",
   "metadata": {},
   "source": [
    "There are two main types of crimes: violent crimes, and property crimes. In this problem, we'll focus on one specific type of property crime, called \"*motor vehicle theft*\" (sometimes referred to as grand theft auto). This is the act of stealing, or attempting to steal, a car. In this problem, we'll use some basic data analysis in R to understand the motor vehicle thefts in Chicago. "
   ]
  },
  {
   "cell_type": "code",
   "execution_count": 1,
   "metadata": {},
   "outputs": [
    {
     "data": {
      "text/html": [
       "<table>\n",
       "<caption>A data.frame: 6 × 11</caption>\n",
       "<thead>\n",
       "\t<tr><th></th><th scope=col>ID</th><th scope=col>Date</th><th scope=col>LocationDescription</th><th scope=col>Arrest</th><th scope=col>Domestic</th><th scope=col>Beat</th><th scope=col>District</th><th scope=col>CommunityArea</th><th scope=col>Year</th><th scope=col>Latitude</th><th scope=col>Longitude</th></tr>\n",
       "\t<tr><th></th><th scope=col>&lt;int&gt;</th><th scope=col>&lt;fct&gt;</th><th scope=col>&lt;fct&gt;</th><th scope=col>&lt;lgl&gt;</th><th scope=col>&lt;lgl&gt;</th><th scope=col>&lt;int&gt;</th><th scope=col>&lt;int&gt;</th><th scope=col>&lt;int&gt;</th><th scope=col>&lt;int&gt;</th><th scope=col>&lt;dbl&gt;</th><th scope=col>&lt;dbl&gt;</th></tr>\n",
       "</thead>\n",
       "<tbody>\n",
       "\t<tr><th scope=row>1</th><td>8951354</td><td>12/31/12 23:15</td><td>STREET                       </td><td>FALSE</td><td>FALSE</td><td> 623</td><td> 6</td><td>69</td><td>2012</td><td>41.75628</td><td>-87.62164</td></tr>\n",
       "\t<tr><th scope=row>2</th><td>8951141</td><td>12/31/12 22:00</td><td>STREET                       </td><td>FALSE</td><td>FALSE</td><td>1213</td><td>12</td><td>24</td><td>2012</td><td>41.89879</td><td>-87.66130</td></tr>\n",
       "\t<tr><th scope=row>3</th><td>8952745</td><td>12/31/12 22:00</td><td>RESIDENTIAL YARD (FRONT/BACK)</td><td>FALSE</td><td>FALSE</td><td>1622</td><td>16</td><td>11</td><td>2012</td><td>41.96919</td><td>-87.76767</td></tr>\n",
       "\t<tr><th scope=row>4</th><td>8952223</td><td>12/31/12 22:00</td><td>STREET                       </td><td>FALSE</td><td>FALSE</td><td> 724</td><td> 7</td><td>67</td><td>2012</td><td>41.76933</td><td>-87.65773</td></tr>\n",
       "\t<tr><th scope=row>5</th><td>8951608</td><td>12/31/12 21:30</td><td>STREET                       </td><td>FALSE</td><td>FALSE</td><td> 211</td><td> 2</td><td>35</td><td>2012</td><td>41.83757</td><td>-87.62176</td></tr>\n",
       "\t<tr><th scope=row>6</th><td>8950793</td><td>12/31/12 20:30</td><td>STREET                       </td><td> TRUE</td><td>FALSE</td><td>2521</td><td>25</td><td>19</td><td>2012</td><td>41.92856</td><td>-87.75400</td></tr>\n",
       "</tbody>\n",
       "</table>\n"
      ],
      "text/latex": [
       "A data.frame: 6 × 11\n",
       "\\begin{tabular}{r|lllllllllll}\n",
       "  & ID & Date & LocationDescription & Arrest & Domestic & Beat & District & CommunityArea & Year & Latitude & Longitude\\\\\n",
       "  & <int> & <fct> & <fct> & <lgl> & <lgl> & <int> & <int> & <int> & <int> & <dbl> & <dbl>\\\\\n",
       "\\hline\n",
       "\t1 & 8951354 & 12/31/12 23:15 & STREET                        & FALSE & FALSE &  623 &  6 & 69 & 2012 & 41.75628 & -87.62164\\\\\n",
       "\t2 & 8951141 & 12/31/12 22:00 & STREET                        & FALSE & FALSE & 1213 & 12 & 24 & 2012 & 41.89879 & -87.66130\\\\\n",
       "\t3 & 8952745 & 12/31/12 22:00 & RESIDENTIAL YARD (FRONT/BACK) & FALSE & FALSE & 1622 & 16 & 11 & 2012 & 41.96919 & -87.76767\\\\\n",
       "\t4 & 8952223 & 12/31/12 22:00 & STREET                        & FALSE & FALSE &  724 &  7 & 67 & 2012 & 41.76933 & -87.65773\\\\\n",
       "\t5 & 8951608 & 12/31/12 21:30 & STREET                        & FALSE & FALSE &  211 &  2 & 35 & 2012 & 41.83757 & -87.62176\\\\\n",
       "\t6 & 8950793 & 12/31/12 20:30 & STREET                        &  TRUE & FALSE & 2521 & 25 & 19 & 2012 & 41.92856 & -87.75400\\\\\n",
       "\\end{tabular}\n"
      ],
      "text/markdown": [
       "\n",
       "A data.frame: 6 × 11\n",
       "\n",
       "| <!--/--> | ID &lt;int&gt; | Date &lt;fct&gt; | LocationDescription &lt;fct&gt; | Arrest &lt;lgl&gt; | Domestic &lt;lgl&gt; | Beat &lt;int&gt; | District &lt;int&gt; | CommunityArea &lt;int&gt; | Year &lt;int&gt; | Latitude &lt;dbl&gt; | Longitude &lt;dbl&gt; |\n",
       "|---|---|---|---|---|---|---|---|---|---|---|---|\n",
       "| 1 | 8951354 | 12/31/12 23:15 | STREET                        | FALSE | FALSE |  623 |  6 | 69 | 2012 | 41.75628 | -87.62164 |\n",
       "| 2 | 8951141 | 12/31/12 22:00 | STREET                        | FALSE | FALSE | 1213 | 12 | 24 | 2012 | 41.89879 | -87.66130 |\n",
       "| 3 | 8952745 | 12/31/12 22:00 | RESIDENTIAL YARD (FRONT/BACK) | FALSE | FALSE | 1622 | 16 | 11 | 2012 | 41.96919 | -87.76767 |\n",
       "| 4 | 8952223 | 12/31/12 22:00 | STREET                        | FALSE | FALSE |  724 |  7 | 67 | 2012 | 41.76933 | -87.65773 |\n",
       "| 5 | 8951608 | 12/31/12 21:30 | STREET                        | FALSE | FALSE |  211 |  2 | 35 | 2012 | 41.83757 | -87.62176 |\n",
       "| 6 | 8950793 | 12/31/12 20:30 | STREET                        |  TRUE | FALSE | 2521 | 25 | 19 | 2012 | 41.92856 | -87.75400 |\n",
       "\n"
      ],
      "text/plain": [
       "  ID      Date           LocationDescription           Arrest Domestic Beat\n",
       "1 8951354 12/31/12 23:15 STREET                        FALSE  FALSE     623\n",
       "2 8951141 12/31/12 22:00 STREET                        FALSE  FALSE    1213\n",
       "3 8952745 12/31/12 22:00 RESIDENTIAL YARD (FRONT/BACK) FALSE  FALSE    1622\n",
       "4 8952223 12/31/12 22:00 STREET                        FALSE  FALSE     724\n",
       "5 8951608 12/31/12 21:30 STREET                        FALSE  FALSE     211\n",
       "6 8950793 12/31/12 20:30 STREET                         TRUE  FALSE    2521\n",
       "  District CommunityArea Year Latitude Longitude\n",
       "1  6       69            2012 41.75628 -87.62164\n",
       "2 12       24            2012 41.89879 -87.66130\n",
       "3 16       11            2012 41.96919 -87.76767\n",
       "4  7       67            2012 41.76933 -87.65773\n",
       "5  2       35            2012 41.83757 -87.62176\n",
       "6 25       19            2012 41.92856 -87.75400"
      ]
     },
     "metadata": {},
     "output_type": "display_data"
    }
   ],
   "source": [
    "MVT = read.csv('data/mvtWeek1.csv')\n",
    "head(MVT)"
   ]
  },
  {
   "cell_type": "markdown",
   "metadata": {},
   "source": [
    "------------------------------------------- List of Descriptions of the Variables ------------------------------------------------------\n",
    "\n",
    "**ID:** a unique identifier for each observation\n",
    "\n",
    "**Date:** the date the crime occurred\n",
    "\n",
    "**LocationDescription:** the location where the crime occurred\n",
    "\n",
    "**Arrest:** whether or not an arrest was made for the crime (TRUE if an arrest was made, and FALSE if an arrest was not made)\n",
    "\n",
    "**Domestic:** whether or not the crime was a domestic crime, meaning that it was committed against a family member (TRUE if it was domestic, and FALSE if it was not domestic)\n",
    "\n",
    "**Beat:** the area, or \"beat\" in which the crime occurred. This is the smallest regional division defined by the Chicago police department.\n",
    "\n",
    "**District:** the police district in which the crime occured. Each district is composed of many beats, and are defined by the Chicago Police Department.\n",
    "\n",
    "**CommunityArea:** the community area in which the crime occurred. Since the 1920s, Chicago has been divided into what are called \"community areas\", of which there are now 77. The community areas were devised in an attempt to create socially homogeneous regions.\n",
    "\n",
    "**Year:** the year in which the crime occurred.\n",
    "\n",
    "**Latitude:** the latitude of the location at which the crime occurred.\n",
    "\n",
    "**Longitude:** the longitude of the location at which the crime occurred.\n",
    "\n",
    "------------------------------------------------------------X--X--X--X--X----------------------------------------------------------------------"
   ]
  },
  {
   "cell_type": "markdown",
   "metadata": {},
   "source": [
    "How many rows of data (observations) are in this dataset?\n",
    "\n",
    "How many variables are in this dataset?"
   ]
  },
  {
   "cell_type": "code",
   "execution_count": 2,
   "metadata": {},
   "outputs": [
    {
     "name": "stdout",
     "output_type": "stream",
     "text": [
      "'data.frame':\t191641 obs. of  11 variables:\n",
      " $ ID                 : int  8951354 8951141 8952745 8952223 8951608 8950793 8950760 8951611 8951802 8950706 ...\n",
      " $ Date               : Factor w/ 131680 levels \"1/1/01 0:01\",..: 42824 42823 42823 42823 42822 42821 42820 42819 42817 42816 ...\n",
      " $ LocationDescription: Factor w/ 78 levels \"ABANDONED BUILDING\",..: 72 72 62 72 72 72 72 72 72 72 ...\n",
      " $ Arrest             : logi  FALSE FALSE FALSE FALSE FALSE TRUE ...\n",
      " $ Domestic           : logi  FALSE FALSE FALSE FALSE FALSE FALSE ...\n",
      " $ Beat               : int  623 1213 1622 724 211 2521 423 231 1021 1215 ...\n",
      " $ District           : int  6 12 16 7 2 25 4 2 10 12 ...\n",
      " $ CommunityArea      : int  69 24 11 67 35 19 48 40 29 24 ...\n",
      " $ Year               : int  2012 2012 2012 2012 2012 2012 2012 2012 2012 2012 ...\n",
      " $ Latitude           : num  41.8 41.9 42 41.8 41.8 ...\n",
      " $ Longitude          : num  -87.6 -87.7 -87.8 -87.7 -87.6 ...\n"
     ]
    }
   ],
   "source": [
    "str(MVT)"
   ]
  },
  {
   "cell_type": "markdown",
   "metadata": {},
   "source": [
    "Using the \"max\" function, what is the maximum value of the variable \"ID\"?"
   ]
  },
  {
   "cell_type": "code",
   "execution_count": 3,
   "metadata": {},
   "outputs": [
    {
     "data": {
      "text/html": [
       "9181151"
      ],
      "text/latex": [
       "9181151"
      ],
      "text/markdown": [
       "9181151"
      ],
      "text/plain": [
       "[1] 9181151"
      ]
     },
     "metadata": {},
     "output_type": "display_data"
    }
   ],
   "source": [
    "max(MVT$ID)"
   ]
  },
  {
   "cell_type": "markdown",
   "metadata": {},
   "source": [
    "What is the minimum value of the variable \"Beat\"?"
   ]
  },
  {
   "cell_type": "code",
   "execution_count": 4,
   "metadata": {},
   "outputs": [
    {
     "data": {
      "text/html": [
       "111"
      ],
      "text/latex": [
       "111"
      ],
      "text/markdown": [
       "111"
      ],
      "text/plain": [
       "[1] 111"
      ]
     },
     "metadata": {},
     "output_type": "display_data"
    }
   ],
   "source": [
    "min(MVT$Beat)"
   ]
  },
  {
   "cell_type": "markdown",
   "metadata": {},
   "source": [
    "How many observations have value TRUE in the Arrest variable (this is the number of crimes for which an arrest was made)?"
   ]
  },
  {
   "cell_type": "code",
   "execution_count": 5,
   "metadata": {},
   "outputs": [
    {
     "data": {
      "text/plain": [
       "\n",
       " FALSE   TRUE \n",
       "176105  15536 "
      ]
     },
     "metadata": {},
     "output_type": "display_data"
    }
   ],
   "source": [
    "table(MVT$Arrest)"
   ]
  },
  {
   "cell_type": "code",
   "execution_count": 6,
   "metadata": {},
   "outputs": [
    {
     "data": {
      "text/html": [
       "<table>\n",
       "<caption>A data.frame: 6 × 11</caption>\n",
       "<thead>\n",
       "\t<tr><th></th><th scope=col>ID</th><th scope=col>Date</th><th scope=col>LocationDescription</th><th scope=col>Arrest</th><th scope=col>Domestic</th><th scope=col>Beat</th><th scope=col>District</th><th scope=col>CommunityArea</th><th scope=col>Year</th><th scope=col>Latitude</th><th scope=col>Longitude</th></tr>\n",
       "\t<tr><th></th><th scope=col>&lt;int&gt;</th><th scope=col>&lt;fct&gt;</th><th scope=col>&lt;fct&gt;</th><th scope=col>&lt;lgl&gt;</th><th scope=col>&lt;lgl&gt;</th><th scope=col>&lt;int&gt;</th><th scope=col>&lt;int&gt;</th><th scope=col>&lt;int&gt;</th><th scope=col>&lt;int&gt;</th><th scope=col>&lt;dbl&gt;</th><th scope=col>&lt;dbl&gt;</th></tr>\n",
       "</thead>\n",
       "<tbody>\n",
       "\t<tr><th scope=row>6</th><td>8950793</td><td>12/31/12 20:30</td><td>STREET     </td><td>TRUE</td><td>FALSE</td><td>2521</td><td>25</td><td>19</td><td>2012</td><td>41.92856</td><td>-87.75400</td></tr>\n",
       "\t<tr><th scope=row>9</th><td>8951802</td><td>12/31/12 19:00</td><td>STREET     </td><td>TRUE</td><td>FALSE</td><td>1021</td><td>10</td><td>29</td><td>2012</td><td>41.86362</td><td>-87.70910</td></tr>\n",
       "\t<tr><th scope=row>14</th><td>8950570</td><td>12/31/12 16:20</td><td>GAS STATION</td><td>TRUE</td><td>FALSE</td><td> 825</td><td> 8</td><td>66</td><td>2012</td><td>41.78455</td><td>-87.68393</td></tr>\n",
       "\t<tr><th scope=row>48</th><td>8949895</td><td>12/30/12 19:46</td><td>ALLEY      </td><td>TRUE</td><td>FALSE</td><td>2512</td><td>25</td><td>18</td><td>2012</td><td>41.92875</td><td>-87.80289</td></tr>\n",
       "\t<tr><th scope=row>60</th><td>8949557</td><td>12/30/12 15:00</td><td>STREET     </td><td>TRUE</td><td>FALSE</td><td>2535</td><td>25</td><td>23</td><td>2012</td><td>41.90881</td><td>-87.72057</td></tr>\n",
       "\t<tr><th scope=row>70</th><td>8949844</td><td>12/30/12 7:15 </td><td>STREET     </td><td>TRUE</td><td>FALSE</td><td> 414</td><td> 4</td><td>46</td><td>2012</td><td>41.74795</td><td>-87.56849</td></tr>\n",
       "</tbody>\n",
       "</table>\n"
      ],
      "text/latex": [
       "A data.frame: 6 × 11\n",
       "\\begin{tabular}{r|lllllllllll}\n",
       "  & ID & Date & LocationDescription & Arrest & Domestic & Beat & District & CommunityArea & Year & Latitude & Longitude\\\\\n",
       "  & <int> & <fct> & <fct> & <lgl> & <lgl> & <int> & <int> & <int> & <int> & <dbl> & <dbl>\\\\\n",
       "\\hline\n",
       "\t6 & 8950793 & 12/31/12 20:30 & STREET      & TRUE & FALSE & 2521 & 25 & 19 & 2012 & 41.92856 & -87.75400\\\\\n",
       "\t9 & 8951802 & 12/31/12 19:00 & STREET      & TRUE & FALSE & 1021 & 10 & 29 & 2012 & 41.86362 & -87.70910\\\\\n",
       "\t14 & 8950570 & 12/31/12 16:20 & GAS STATION & TRUE & FALSE &  825 &  8 & 66 & 2012 & 41.78455 & -87.68393\\\\\n",
       "\t48 & 8949895 & 12/30/12 19:46 & ALLEY       & TRUE & FALSE & 2512 & 25 & 18 & 2012 & 41.92875 & -87.80289\\\\\n",
       "\t60 & 8949557 & 12/30/12 15:00 & STREET      & TRUE & FALSE & 2535 & 25 & 23 & 2012 & 41.90881 & -87.72057\\\\\n",
       "\t70 & 8949844 & 12/30/12 7:15  & STREET      & TRUE & FALSE &  414 &  4 & 46 & 2012 & 41.74795 & -87.56849\\\\\n",
       "\\end{tabular}\n"
      ],
      "text/markdown": [
       "\n",
       "A data.frame: 6 × 11\n",
       "\n",
       "| <!--/--> | ID &lt;int&gt; | Date &lt;fct&gt; | LocationDescription &lt;fct&gt; | Arrest &lt;lgl&gt; | Domestic &lt;lgl&gt; | Beat &lt;int&gt; | District &lt;int&gt; | CommunityArea &lt;int&gt; | Year &lt;int&gt; | Latitude &lt;dbl&gt; | Longitude &lt;dbl&gt; |\n",
       "|---|---|---|---|---|---|---|---|---|---|---|---|\n",
       "| 6 | 8950793 | 12/31/12 20:30 | STREET      | TRUE | FALSE | 2521 | 25 | 19 | 2012 | 41.92856 | -87.75400 |\n",
       "| 9 | 8951802 | 12/31/12 19:00 | STREET      | TRUE | FALSE | 1021 | 10 | 29 | 2012 | 41.86362 | -87.70910 |\n",
       "| 14 | 8950570 | 12/31/12 16:20 | GAS STATION | TRUE | FALSE |  825 |  8 | 66 | 2012 | 41.78455 | -87.68393 |\n",
       "| 48 | 8949895 | 12/30/12 19:46 | ALLEY       | TRUE | FALSE | 2512 | 25 | 18 | 2012 | 41.92875 | -87.80289 |\n",
       "| 60 | 8949557 | 12/30/12 15:00 | STREET      | TRUE | FALSE | 2535 | 25 | 23 | 2012 | 41.90881 | -87.72057 |\n",
       "| 70 | 8949844 | 12/30/12 7:15  | STREET      | TRUE | FALSE |  414 |  4 | 46 | 2012 | 41.74795 | -87.56849 |\n",
       "\n"
      ],
      "text/plain": [
       "   ID      Date           LocationDescription Arrest Domestic Beat District\n",
       "6  8950793 12/31/12 20:30 STREET              TRUE   FALSE    2521 25      \n",
       "9  8951802 12/31/12 19:00 STREET              TRUE   FALSE    1021 10      \n",
       "14 8950570 12/31/12 16:20 GAS STATION         TRUE   FALSE     825  8      \n",
       "48 8949895 12/30/12 19:46 ALLEY               TRUE   FALSE    2512 25      \n",
       "60 8949557 12/30/12 15:00 STREET              TRUE   FALSE    2535 25      \n",
       "70 8949844 12/30/12 7:15  STREET              TRUE   FALSE     414  4      \n",
       "   CommunityArea Year Latitude Longitude\n",
       "6  19            2012 41.92856 -87.75400\n",
       "9  29            2012 41.86362 -87.70910\n",
       "14 66            2012 41.78455 -87.68393\n",
       "48 18            2012 41.92875 -87.80289\n",
       "60 23            2012 41.90881 -87.72057\n",
       "70 46            2012 41.74795 -87.56849"
      ]
     },
     "metadata": {},
     "output_type": "display_data"
    }
   ],
   "source": [
    "arrest <- MVT[MVT$Arrest == \"TRUE\",]\n",
    "head(arrest)"
   ]
  },
  {
   "cell_type": "markdown",
   "metadata": {},
   "source": [
    "How many observations have a LocationDescription value of ALLEY?"
   ]
  },
  {
   "cell_type": "code",
   "execution_count": 7,
   "metadata": {},
   "outputs": [
    {
     "data": {
      "text/html": [
       "2308"
      ],
      "text/latex": [
       "2308"
      ],
      "text/markdown": [
       "2308"
      ],
      "text/plain": [
       "[1] 2308"
      ]
     },
     "metadata": {},
     "output_type": "display_data"
    }
   ],
   "source": [
    "alley <- MVT[MVT$LocationDescription==\"ALLEY\",]\n",
    "nrow(alley)"
   ]
  },
  {
   "cell_type": "markdown",
   "metadata": {},
   "source": [
    "In what format are the entries in the variable Date?"
   ]
  },
  {
   "cell_type": "code",
   "execution_count": 8,
   "metadata": {},
   "outputs": [
    {
     "data": {
      "text/html": [
       "<table>\n",
       "<caption>A data.frame: 6 × 11</caption>\n",
       "<thead>\n",
       "\t<tr><th></th><th scope=col>ID</th><th scope=col>Date</th><th scope=col>LocationDescription</th><th scope=col>Arrest</th><th scope=col>Domestic</th><th scope=col>Beat</th><th scope=col>District</th><th scope=col>CommunityArea</th><th scope=col>Year</th><th scope=col>Latitude</th><th scope=col>Longitude</th></tr>\n",
       "\t<tr><th></th><th scope=col>&lt;int&gt;</th><th scope=col>&lt;fct&gt;</th><th scope=col>&lt;fct&gt;</th><th scope=col>&lt;lgl&gt;</th><th scope=col>&lt;lgl&gt;</th><th scope=col>&lt;int&gt;</th><th scope=col>&lt;int&gt;</th><th scope=col>&lt;int&gt;</th><th scope=col>&lt;int&gt;</th><th scope=col>&lt;dbl&gt;</th><th scope=col>&lt;dbl&gt;</th></tr>\n",
       "</thead>\n",
       "<tbody>\n",
       "\t<tr><th scope=row>1</th><td>8951354</td><td>12/31/12 23:15</td><td>STREET                       </td><td>FALSE</td><td>FALSE</td><td> 623</td><td> 6</td><td>69</td><td>2012</td><td>41.75628</td><td>-87.62164</td></tr>\n",
       "\t<tr><th scope=row>2</th><td>8951141</td><td>12/31/12 22:00</td><td>STREET                       </td><td>FALSE</td><td>FALSE</td><td>1213</td><td>12</td><td>24</td><td>2012</td><td>41.89879</td><td>-87.66130</td></tr>\n",
       "\t<tr><th scope=row>3</th><td>8952745</td><td>12/31/12 22:00</td><td>RESIDENTIAL YARD (FRONT/BACK)</td><td>FALSE</td><td>FALSE</td><td>1622</td><td>16</td><td>11</td><td>2012</td><td>41.96919</td><td>-87.76767</td></tr>\n",
       "\t<tr><th scope=row>4</th><td>8952223</td><td>12/31/12 22:00</td><td>STREET                       </td><td>FALSE</td><td>FALSE</td><td> 724</td><td> 7</td><td>67</td><td>2012</td><td>41.76933</td><td>-87.65773</td></tr>\n",
       "\t<tr><th scope=row>5</th><td>8951608</td><td>12/31/12 21:30</td><td>STREET                       </td><td>FALSE</td><td>FALSE</td><td> 211</td><td> 2</td><td>35</td><td>2012</td><td>41.83757</td><td>-87.62176</td></tr>\n",
       "\t<tr><th scope=row>6</th><td>8950793</td><td>12/31/12 20:30</td><td>STREET                       </td><td> TRUE</td><td>FALSE</td><td>2521</td><td>25</td><td>19</td><td>2012</td><td>41.92856</td><td>-87.75400</td></tr>\n",
       "</tbody>\n",
       "</table>\n"
      ],
      "text/latex": [
       "A data.frame: 6 × 11\n",
       "\\begin{tabular}{r|lllllllllll}\n",
       "  & ID & Date & LocationDescription & Arrest & Domestic & Beat & District & CommunityArea & Year & Latitude & Longitude\\\\\n",
       "  & <int> & <fct> & <fct> & <lgl> & <lgl> & <int> & <int> & <int> & <int> & <dbl> & <dbl>\\\\\n",
       "\\hline\n",
       "\t1 & 8951354 & 12/31/12 23:15 & STREET                        & FALSE & FALSE &  623 &  6 & 69 & 2012 & 41.75628 & -87.62164\\\\\n",
       "\t2 & 8951141 & 12/31/12 22:00 & STREET                        & FALSE & FALSE & 1213 & 12 & 24 & 2012 & 41.89879 & -87.66130\\\\\n",
       "\t3 & 8952745 & 12/31/12 22:00 & RESIDENTIAL YARD (FRONT/BACK) & FALSE & FALSE & 1622 & 16 & 11 & 2012 & 41.96919 & -87.76767\\\\\n",
       "\t4 & 8952223 & 12/31/12 22:00 & STREET                        & FALSE & FALSE &  724 &  7 & 67 & 2012 & 41.76933 & -87.65773\\\\\n",
       "\t5 & 8951608 & 12/31/12 21:30 & STREET                        & FALSE & FALSE &  211 &  2 & 35 & 2012 & 41.83757 & -87.62176\\\\\n",
       "\t6 & 8950793 & 12/31/12 20:30 & STREET                        &  TRUE & FALSE & 2521 & 25 & 19 & 2012 & 41.92856 & -87.75400\\\\\n",
       "\\end{tabular}\n"
      ],
      "text/markdown": [
       "\n",
       "A data.frame: 6 × 11\n",
       "\n",
       "| <!--/--> | ID &lt;int&gt; | Date &lt;fct&gt; | LocationDescription &lt;fct&gt; | Arrest &lt;lgl&gt; | Domestic &lt;lgl&gt; | Beat &lt;int&gt; | District &lt;int&gt; | CommunityArea &lt;int&gt; | Year &lt;int&gt; | Latitude &lt;dbl&gt; | Longitude &lt;dbl&gt; |\n",
       "|---|---|---|---|---|---|---|---|---|---|---|---|\n",
       "| 1 | 8951354 | 12/31/12 23:15 | STREET                        | FALSE | FALSE |  623 |  6 | 69 | 2012 | 41.75628 | -87.62164 |\n",
       "| 2 | 8951141 | 12/31/12 22:00 | STREET                        | FALSE | FALSE | 1213 | 12 | 24 | 2012 | 41.89879 | -87.66130 |\n",
       "| 3 | 8952745 | 12/31/12 22:00 | RESIDENTIAL YARD (FRONT/BACK) | FALSE | FALSE | 1622 | 16 | 11 | 2012 | 41.96919 | -87.76767 |\n",
       "| 4 | 8952223 | 12/31/12 22:00 | STREET                        | FALSE | FALSE |  724 |  7 | 67 | 2012 | 41.76933 | -87.65773 |\n",
       "| 5 | 8951608 | 12/31/12 21:30 | STREET                        | FALSE | FALSE |  211 |  2 | 35 | 2012 | 41.83757 | -87.62176 |\n",
       "| 6 | 8950793 | 12/31/12 20:30 | STREET                        |  TRUE | FALSE | 2521 | 25 | 19 | 2012 | 41.92856 | -87.75400 |\n",
       "\n"
      ],
      "text/plain": [
       "  ID      Date           LocationDescription           Arrest Domestic Beat\n",
       "1 8951354 12/31/12 23:15 STREET                        FALSE  FALSE     623\n",
       "2 8951141 12/31/12 22:00 STREET                        FALSE  FALSE    1213\n",
       "3 8952745 12/31/12 22:00 RESIDENTIAL YARD (FRONT/BACK) FALSE  FALSE    1622\n",
       "4 8952223 12/31/12 22:00 STREET                        FALSE  FALSE     724\n",
       "5 8951608 12/31/12 21:30 STREET                        FALSE  FALSE     211\n",
       "6 8950793 12/31/12 20:30 STREET                         TRUE  FALSE    2521\n",
       "  District CommunityArea Year Latitude Longitude\n",
       "1  6       69            2012 41.75628 -87.62164\n",
       "2 12       24            2012 41.89879 -87.66130\n",
       "3 16       11            2012 41.96919 -87.76767\n",
       "4  7       67            2012 41.76933 -87.65773\n",
       "5  2       35            2012 41.83757 -87.62176\n",
       "6 25       19            2012 41.92856 -87.75400"
      ]
     },
     "metadata": {},
     "output_type": "display_data"
    }
   ],
   "source": [
    "head(MVT)"
   ]
  },
  {
   "cell_type": "markdown",
   "metadata": {},
   "source": [
    "What is the month and year of the median date in our dataset?"
   ]
  },
  {
   "cell_type": "code",
   "execution_count": 9,
   "metadata": {},
   "outputs": [
    {
     "data": {
      "text/html": [
       "<style>\n",
       ".list-inline {list-style: none; margin:0; padding: 0}\n",
       ".list-inline>li {display: inline-block}\n",
       ".list-inline>li:not(:last-child)::after {content: \"\\00b7\"; padding: 0 .5ex}\n",
       "</style>\n",
       "<ol class=list-inline><li><time datetime=\"2012-12-31\">2012-12-31</time></li><li><time datetime=\"2012-12-31\">2012-12-31</time></li><li><time datetime=\"2012-12-31\">2012-12-31</time></li><li><time datetime=\"2012-12-31\">2012-12-31</time></li><li><time datetime=\"2012-12-31\">2012-12-31</time></li><li><time datetime=\"2012-12-31\">2012-12-31</time></li></ol>\n"
      ],
      "text/latex": [
       "\\begin{enumerate*}\n",
       "\\item 2012-12-31\n",
       "\\item 2012-12-31\n",
       "\\item 2012-12-31\n",
       "\\item 2012-12-31\n",
       "\\item 2012-12-31\n",
       "\\item 2012-12-31\n",
       "\\end{enumerate*}\n"
      ],
      "text/markdown": [
       "1. 2012-12-31\n",
       "2. 2012-12-31\n",
       "3. 2012-12-31\n",
       "4. 2012-12-31\n",
       "5. 2012-12-31\n",
       "6. 2012-12-31\n",
       "\n",
       "\n"
      ],
      "text/plain": [
       "[1] \"2012-12-31\" \"2012-12-31\" \"2012-12-31\" \"2012-12-31\" \"2012-12-31\"\n",
       "[6] \"2012-12-31\""
      ]
     },
     "metadata": {},
     "output_type": "display_data"
    }
   ],
   "source": [
    "DateConvert = as.Date(strptime(MVT$Date, \"%m/%d/%y %H:%M\"))\n",
    "head(DateConvert)"
   ]
  },
  {
   "cell_type": "code",
   "execution_count": 10,
   "metadata": {},
   "outputs": [
    {
     "data": {
      "text/html": [
       "<style>\n",
       ".dl-inline {width: auto; margin:0; padding: 0}\n",
       ".dl-inline>dt, .dl-inline>dd {float: none; width: auto; display: inline-block}\n",
       ".dl-inline>dt::after {content: \":\\0020\"; padding-right: .5ex}\n",
       ".dl-inline>dt:not(:first-of-type) {padding-left: .5ex}\n",
       "</style><dl class=dl-inline><dt>Min.</dt><dd><time datetime=\"2001-01-01\">2001-01-01</time></dd><dt>1st Qu.</dt><dd><time datetime=\"2003-07-10\">2003-07-10</time></dd><dt>Median</dt><dd><time datetime=\"2006-05-21\">2006-05-21</time></dd><dt>Mean</dt><dd><time datetime=\"2006-08-23\">2006-08-23</time></dd><dt>3rd Qu.</dt><dd><time datetime=\"2009-10-24\">2009-10-24</time></dd><dt>Max.</dt><dd><time datetime=\"2012-12-31\">2012-12-31</time></dd></dl>\n"
      ],
      "text/latex": [
       "\\begin{description*}\n",
       "\\item[Min.] 2001-01-01\n",
       "\\item[1st Qu.] 2003-07-10\n",
       "\\item[Median] 2006-05-21\n",
       "\\item[Mean] 2006-08-23\n",
       "\\item[3rd Qu.] 2009-10-24\n",
       "\\item[Max.] 2012-12-31\n",
       "\\end{description*}\n"
      ],
      "text/markdown": [
       "Min.\n",
       ":   2001-01-011st Qu.\n",
       ":   2003-07-10Median\n",
       ":   2006-05-21Mean\n",
       ":   2006-08-233rd Qu.\n",
       ":   2009-10-24Max.\n",
       ":   2012-12-31\n",
       "\n"
      ],
      "text/plain": [
       "        Min.      1st Qu.       Median         Mean      3rd Qu.         Max. \n",
       "\"2001-01-01\" \"2003-07-10\" \"2006-05-21\" \"2006-08-23\" \"2009-10-24\" \"2012-12-31\" "
      ]
     },
     "metadata": {},
     "output_type": "display_data"
    }
   ],
   "source": [
    "summary(DateConvert)"
   ]
  },
  {
   "cell_type": "markdown",
   "metadata": {},
   "source": [
    "In which month did the fewest motor vehicle thefts occur?"
   ]
  },
  {
   "cell_type": "code",
   "execution_count": 11,
   "metadata": {},
   "outputs": [
    {
     "data": {
      "text/html": [
       "<table>\n",
       "<caption>A data.frame: 6 × 12</caption>\n",
       "<thead>\n",
       "\t<tr><th></th><th scope=col>ID</th><th scope=col>Date</th><th scope=col>LocationDescription</th><th scope=col>Arrest</th><th scope=col>Domestic</th><th scope=col>Beat</th><th scope=col>District</th><th scope=col>CommunityArea</th><th scope=col>Year</th><th scope=col>Latitude</th><th scope=col>Longitude</th><th scope=col>Month</th></tr>\n",
       "\t<tr><th></th><th scope=col>&lt;int&gt;</th><th scope=col>&lt;fct&gt;</th><th scope=col>&lt;fct&gt;</th><th scope=col>&lt;lgl&gt;</th><th scope=col>&lt;lgl&gt;</th><th scope=col>&lt;int&gt;</th><th scope=col>&lt;int&gt;</th><th scope=col>&lt;int&gt;</th><th scope=col>&lt;int&gt;</th><th scope=col>&lt;dbl&gt;</th><th scope=col>&lt;dbl&gt;</th><th scope=col>&lt;chr&gt;</th></tr>\n",
       "</thead>\n",
       "<tbody>\n",
       "\t<tr><th scope=row>1</th><td>8951354</td><td>12/31/12 23:15</td><td>STREET                       </td><td>FALSE</td><td>FALSE</td><td> 623</td><td> 6</td><td>69</td><td>2012</td><td>41.75628</td><td>-87.62164</td><td>December</td></tr>\n",
       "\t<tr><th scope=row>2</th><td>8951141</td><td>12/31/12 22:00</td><td>STREET                       </td><td>FALSE</td><td>FALSE</td><td>1213</td><td>12</td><td>24</td><td>2012</td><td>41.89879</td><td>-87.66130</td><td>December</td></tr>\n",
       "\t<tr><th scope=row>3</th><td>8952745</td><td>12/31/12 22:00</td><td>RESIDENTIAL YARD (FRONT/BACK)</td><td>FALSE</td><td>FALSE</td><td>1622</td><td>16</td><td>11</td><td>2012</td><td>41.96919</td><td>-87.76767</td><td>December</td></tr>\n",
       "\t<tr><th scope=row>4</th><td>8952223</td><td>12/31/12 22:00</td><td>STREET                       </td><td>FALSE</td><td>FALSE</td><td> 724</td><td> 7</td><td>67</td><td>2012</td><td>41.76933</td><td>-87.65773</td><td>December</td></tr>\n",
       "\t<tr><th scope=row>5</th><td>8951608</td><td>12/31/12 21:30</td><td>STREET                       </td><td>FALSE</td><td>FALSE</td><td> 211</td><td> 2</td><td>35</td><td>2012</td><td>41.83757</td><td>-87.62176</td><td>December</td></tr>\n",
       "\t<tr><th scope=row>6</th><td>8950793</td><td>12/31/12 20:30</td><td>STREET                       </td><td> TRUE</td><td>FALSE</td><td>2521</td><td>25</td><td>19</td><td>2012</td><td>41.92856</td><td>-87.75400</td><td>December</td></tr>\n",
       "</tbody>\n",
       "</table>\n"
      ],
      "text/latex": [
       "A data.frame: 6 × 12\n",
       "\\begin{tabular}{r|llllllllllll}\n",
       "  & ID & Date & LocationDescription & Arrest & Domestic & Beat & District & CommunityArea & Year & Latitude & Longitude & Month\\\\\n",
       "  & <int> & <fct> & <fct> & <lgl> & <lgl> & <int> & <int> & <int> & <int> & <dbl> & <dbl> & <chr>\\\\\n",
       "\\hline\n",
       "\t1 & 8951354 & 12/31/12 23:15 & STREET                        & FALSE & FALSE &  623 &  6 & 69 & 2012 & 41.75628 & -87.62164 & December\\\\\n",
       "\t2 & 8951141 & 12/31/12 22:00 & STREET                        & FALSE & FALSE & 1213 & 12 & 24 & 2012 & 41.89879 & -87.66130 & December\\\\\n",
       "\t3 & 8952745 & 12/31/12 22:00 & RESIDENTIAL YARD (FRONT/BACK) & FALSE & FALSE & 1622 & 16 & 11 & 2012 & 41.96919 & -87.76767 & December\\\\\n",
       "\t4 & 8952223 & 12/31/12 22:00 & STREET                        & FALSE & FALSE &  724 &  7 & 67 & 2012 & 41.76933 & -87.65773 & December\\\\\n",
       "\t5 & 8951608 & 12/31/12 21:30 & STREET                        & FALSE & FALSE &  211 &  2 & 35 & 2012 & 41.83757 & -87.62176 & December\\\\\n",
       "\t6 & 8950793 & 12/31/12 20:30 & STREET                        &  TRUE & FALSE & 2521 & 25 & 19 & 2012 & 41.92856 & -87.75400 & December\\\\\n",
       "\\end{tabular}\n"
      ],
      "text/markdown": [
       "\n",
       "A data.frame: 6 × 12\n",
       "\n",
       "| <!--/--> | ID &lt;int&gt; | Date &lt;fct&gt; | LocationDescription &lt;fct&gt; | Arrest &lt;lgl&gt; | Domestic &lt;lgl&gt; | Beat &lt;int&gt; | District &lt;int&gt; | CommunityArea &lt;int&gt; | Year &lt;int&gt; | Latitude &lt;dbl&gt; | Longitude &lt;dbl&gt; | Month &lt;chr&gt; |\n",
       "|---|---|---|---|---|---|---|---|---|---|---|---|---|\n",
       "| 1 | 8951354 | 12/31/12 23:15 | STREET                        | FALSE | FALSE |  623 |  6 | 69 | 2012 | 41.75628 | -87.62164 | December |\n",
       "| 2 | 8951141 | 12/31/12 22:00 | STREET                        | FALSE | FALSE | 1213 | 12 | 24 | 2012 | 41.89879 | -87.66130 | December |\n",
       "| 3 | 8952745 | 12/31/12 22:00 | RESIDENTIAL YARD (FRONT/BACK) | FALSE | FALSE | 1622 | 16 | 11 | 2012 | 41.96919 | -87.76767 | December |\n",
       "| 4 | 8952223 | 12/31/12 22:00 | STREET                        | FALSE | FALSE |  724 |  7 | 67 | 2012 | 41.76933 | -87.65773 | December |\n",
       "| 5 | 8951608 | 12/31/12 21:30 | STREET                        | FALSE | FALSE |  211 |  2 | 35 | 2012 | 41.83757 | -87.62176 | December |\n",
       "| 6 | 8950793 | 12/31/12 20:30 | STREET                        |  TRUE | FALSE | 2521 | 25 | 19 | 2012 | 41.92856 | -87.75400 | December |\n",
       "\n"
      ],
      "text/plain": [
       "  ID      Date           LocationDescription           Arrest Domestic Beat\n",
       "1 8951354 12/31/12 23:15 STREET                        FALSE  FALSE     623\n",
       "2 8951141 12/31/12 22:00 STREET                        FALSE  FALSE    1213\n",
       "3 8952745 12/31/12 22:00 RESIDENTIAL YARD (FRONT/BACK) FALSE  FALSE    1622\n",
       "4 8952223 12/31/12 22:00 STREET                        FALSE  FALSE     724\n",
       "5 8951608 12/31/12 21:30 STREET                        FALSE  FALSE     211\n",
       "6 8950793 12/31/12 20:30 STREET                         TRUE  FALSE    2521\n",
       "  District CommunityArea Year Latitude Longitude Month   \n",
       "1  6       69            2012 41.75628 -87.62164 December\n",
       "2 12       24            2012 41.89879 -87.66130 December\n",
       "3 16       11            2012 41.96919 -87.76767 December\n",
       "4  7       67            2012 41.76933 -87.65773 December\n",
       "5  2       35            2012 41.83757 -87.62176 December\n",
       "6 25       19            2012 41.92856 -87.75400 December"
      ]
     },
     "metadata": {},
     "output_type": "display_data"
    }
   ],
   "source": [
    "MVT$Month = months(DateConvert)\n",
    "head(MVT)"
   ]
  },
  {
   "cell_type": "code",
   "execution_count": 12,
   "metadata": {},
   "outputs": [
    {
     "data": {
      "text/plain": [
       "\n",
       "    April    August  December  February   January      July      June     March \n",
       "    15280     16572     16426     13511     16047     16801     16002     15758 \n",
       "      May  November   October September \n",
       "    16035     16063     17086     16060 "
      ]
     },
     "metadata": {},
     "output_type": "display_data"
    }
   ],
   "source": [
    "table(MVT$Month)"
   ]
  },
  {
   "cell_type": "markdown",
   "metadata": {},
   "source": [
    "On which weekday did the most motor vehicle thefts occur?"
   ]
  },
  {
   "cell_type": "code",
   "execution_count": 13,
   "metadata": {
    "scrolled": true
   },
   "outputs": [
    {
     "data": {
      "text/html": [
       "<table>\n",
       "<caption>A data.frame: 6 × 13</caption>\n",
       "<thead>\n",
       "\t<tr><th></th><th scope=col>ID</th><th scope=col>Date</th><th scope=col>LocationDescription</th><th scope=col>Arrest</th><th scope=col>Domestic</th><th scope=col>Beat</th><th scope=col>District</th><th scope=col>CommunityArea</th><th scope=col>Year</th><th scope=col>Latitude</th><th scope=col>Longitude</th><th scope=col>Month</th><th scope=col>Weekday</th></tr>\n",
       "\t<tr><th></th><th scope=col>&lt;int&gt;</th><th scope=col>&lt;fct&gt;</th><th scope=col>&lt;fct&gt;</th><th scope=col>&lt;lgl&gt;</th><th scope=col>&lt;lgl&gt;</th><th scope=col>&lt;int&gt;</th><th scope=col>&lt;int&gt;</th><th scope=col>&lt;int&gt;</th><th scope=col>&lt;int&gt;</th><th scope=col>&lt;dbl&gt;</th><th scope=col>&lt;dbl&gt;</th><th scope=col>&lt;chr&gt;</th><th scope=col>&lt;chr&gt;</th></tr>\n",
       "</thead>\n",
       "<tbody>\n",
       "\t<tr><th scope=row>1</th><td>8951354</td><td>12/31/12 23:15</td><td>STREET                       </td><td>FALSE</td><td>FALSE</td><td> 623</td><td> 6</td><td>69</td><td>2012</td><td>41.75628</td><td>-87.62164</td><td>December</td><td>Monday</td></tr>\n",
       "\t<tr><th scope=row>2</th><td>8951141</td><td>12/31/12 22:00</td><td>STREET                       </td><td>FALSE</td><td>FALSE</td><td>1213</td><td>12</td><td>24</td><td>2012</td><td>41.89879</td><td>-87.66130</td><td>December</td><td>Monday</td></tr>\n",
       "\t<tr><th scope=row>3</th><td>8952745</td><td>12/31/12 22:00</td><td>RESIDENTIAL YARD (FRONT/BACK)</td><td>FALSE</td><td>FALSE</td><td>1622</td><td>16</td><td>11</td><td>2012</td><td>41.96919</td><td>-87.76767</td><td>December</td><td>Monday</td></tr>\n",
       "\t<tr><th scope=row>4</th><td>8952223</td><td>12/31/12 22:00</td><td>STREET                       </td><td>FALSE</td><td>FALSE</td><td> 724</td><td> 7</td><td>67</td><td>2012</td><td>41.76933</td><td>-87.65773</td><td>December</td><td>Monday</td></tr>\n",
       "\t<tr><th scope=row>5</th><td>8951608</td><td>12/31/12 21:30</td><td>STREET                       </td><td>FALSE</td><td>FALSE</td><td> 211</td><td> 2</td><td>35</td><td>2012</td><td>41.83757</td><td>-87.62176</td><td>December</td><td>Monday</td></tr>\n",
       "\t<tr><th scope=row>6</th><td>8950793</td><td>12/31/12 20:30</td><td>STREET                       </td><td> TRUE</td><td>FALSE</td><td>2521</td><td>25</td><td>19</td><td>2012</td><td>41.92856</td><td>-87.75400</td><td>December</td><td>Monday</td></tr>\n",
       "</tbody>\n",
       "</table>\n"
      ],
      "text/latex": [
       "A data.frame: 6 × 13\n",
       "\\begin{tabular}{r|lllllllllllll}\n",
       "  & ID & Date & LocationDescription & Arrest & Domestic & Beat & District & CommunityArea & Year & Latitude & Longitude & Month & Weekday\\\\\n",
       "  & <int> & <fct> & <fct> & <lgl> & <lgl> & <int> & <int> & <int> & <int> & <dbl> & <dbl> & <chr> & <chr>\\\\\n",
       "\\hline\n",
       "\t1 & 8951354 & 12/31/12 23:15 & STREET                        & FALSE & FALSE &  623 &  6 & 69 & 2012 & 41.75628 & -87.62164 & December & Monday\\\\\n",
       "\t2 & 8951141 & 12/31/12 22:00 & STREET                        & FALSE & FALSE & 1213 & 12 & 24 & 2012 & 41.89879 & -87.66130 & December & Monday\\\\\n",
       "\t3 & 8952745 & 12/31/12 22:00 & RESIDENTIAL YARD (FRONT/BACK) & FALSE & FALSE & 1622 & 16 & 11 & 2012 & 41.96919 & -87.76767 & December & Monday\\\\\n",
       "\t4 & 8952223 & 12/31/12 22:00 & STREET                        & FALSE & FALSE &  724 &  7 & 67 & 2012 & 41.76933 & -87.65773 & December & Monday\\\\\n",
       "\t5 & 8951608 & 12/31/12 21:30 & STREET                        & FALSE & FALSE &  211 &  2 & 35 & 2012 & 41.83757 & -87.62176 & December & Monday\\\\\n",
       "\t6 & 8950793 & 12/31/12 20:30 & STREET                        &  TRUE & FALSE & 2521 & 25 & 19 & 2012 & 41.92856 & -87.75400 & December & Monday\\\\\n",
       "\\end{tabular}\n"
      ],
      "text/markdown": [
       "\n",
       "A data.frame: 6 × 13\n",
       "\n",
       "| <!--/--> | ID &lt;int&gt; | Date &lt;fct&gt; | LocationDescription &lt;fct&gt; | Arrest &lt;lgl&gt; | Domestic &lt;lgl&gt; | Beat &lt;int&gt; | District &lt;int&gt; | CommunityArea &lt;int&gt; | Year &lt;int&gt; | Latitude &lt;dbl&gt; | Longitude &lt;dbl&gt; | Month &lt;chr&gt; | Weekday &lt;chr&gt; |\n",
       "|---|---|---|---|---|---|---|---|---|---|---|---|---|---|\n",
       "| 1 | 8951354 | 12/31/12 23:15 | STREET                        | FALSE | FALSE |  623 |  6 | 69 | 2012 | 41.75628 | -87.62164 | December | Monday |\n",
       "| 2 | 8951141 | 12/31/12 22:00 | STREET                        | FALSE | FALSE | 1213 | 12 | 24 | 2012 | 41.89879 | -87.66130 | December | Monday |\n",
       "| 3 | 8952745 | 12/31/12 22:00 | RESIDENTIAL YARD (FRONT/BACK) | FALSE | FALSE | 1622 | 16 | 11 | 2012 | 41.96919 | -87.76767 | December | Monday |\n",
       "| 4 | 8952223 | 12/31/12 22:00 | STREET                        | FALSE | FALSE |  724 |  7 | 67 | 2012 | 41.76933 | -87.65773 | December | Monday |\n",
       "| 5 | 8951608 | 12/31/12 21:30 | STREET                        | FALSE | FALSE |  211 |  2 | 35 | 2012 | 41.83757 | -87.62176 | December | Monday |\n",
       "| 6 | 8950793 | 12/31/12 20:30 | STREET                        |  TRUE | FALSE | 2521 | 25 | 19 | 2012 | 41.92856 | -87.75400 | December | Monday |\n",
       "\n"
      ],
      "text/plain": [
       "  ID      Date           LocationDescription           Arrest Domestic Beat\n",
       "1 8951354 12/31/12 23:15 STREET                        FALSE  FALSE     623\n",
       "2 8951141 12/31/12 22:00 STREET                        FALSE  FALSE    1213\n",
       "3 8952745 12/31/12 22:00 RESIDENTIAL YARD (FRONT/BACK) FALSE  FALSE    1622\n",
       "4 8952223 12/31/12 22:00 STREET                        FALSE  FALSE     724\n",
       "5 8951608 12/31/12 21:30 STREET                        FALSE  FALSE     211\n",
       "6 8950793 12/31/12 20:30 STREET                         TRUE  FALSE    2521\n",
       "  District CommunityArea Year Latitude Longitude Month    Weekday\n",
       "1  6       69            2012 41.75628 -87.62164 December Monday \n",
       "2 12       24            2012 41.89879 -87.66130 December Monday \n",
       "3 16       11            2012 41.96919 -87.76767 December Monday \n",
       "4  7       67            2012 41.76933 -87.65773 December Monday \n",
       "5  2       35            2012 41.83757 -87.62176 December Monday \n",
       "6 25       19            2012 41.92856 -87.75400 December Monday "
      ]
     },
     "metadata": {},
     "output_type": "display_data"
    }
   ],
   "source": [
    "MVT$Weekday = weekdays(DateConvert)\n",
    "head(MVT)"
   ]
  },
  {
   "cell_type": "code",
   "execution_count": 14,
   "metadata": {},
   "outputs": [
    {
     "data": {
      "text/plain": [
       "\n",
       "   Friday    Monday  Saturday    Sunday  Thursday   Tuesday Wednesday \n",
       "    29284     27397     27118     26316     27319     26791     27416 "
      ]
     },
     "metadata": {},
     "output_type": "display_data"
    }
   ],
   "source": [
    "table(MVT$Weekday)"
   ]
  },
  {
   "cell_type": "code",
   "execution_count": 15,
   "metadata": {},
   "outputs": [
    {
     "data": {
      "text/html": [
       "<table>\n",
       "<caption>A data.frame: 6 × 13</caption>\n",
       "<thead>\n",
       "\t<tr><th></th><th scope=col>ID</th><th scope=col>Date</th><th scope=col>LocationDescription</th><th scope=col>Arrest</th><th scope=col>Domestic</th><th scope=col>Beat</th><th scope=col>District</th><th scope=col>CommunityArea</th><th scope=col>Year</th><th scope=col>Latitude</th><th scope=col>Longitude</th><th scope=col>Month</th><th scope=col>Weekday</th></tr>\n",
       "\t<tr><th></th><th scope=col>&lt;int&gt;</th><th scope=col>&lt;date&gt;</th><th scope=col>&lt;fct&gt;</th><th scope=col>&lt;lgl&gt;</th><th scope=col>&lt;lgl&gt;</th><th scope=col>&lt;int&gt;</th><th scope=col>&lt;int&gt;</th><th scope=col>&lt;int&gt;</th><th scope=col>&lt;int&gt;</th><th scope=col>&lt;dbl&gt;</th><th scope=col>&lt;dbl&gt;</th><th scope=col>&lt;chr&gt;</th><th scope=col>&lt;chr&gt;</th></tr>\n",
       "</thead>\n",
       "<tbody>\n",
       "\t<tr><th scope=row>1</th><td>8951354</td><td>2012-12-31</td><td>STREET                       </td><td>FALSE</td><td>FALSE</td><td> 623</td><td> 6</td><td>69</td><td>2012</td><td>41.75628</td><td>-87.62164</td><td>December</td><td>Monday</td></tr>\n",
       "\t<tr><th scope=row>2</th><td>8951141</td><td>2012-12-31</td><td>STREET                       </td><td>FALSE</td><td>FALSE</td><td>1213</td><td>12</td><td>24</td><td>2012</td><td>41.89879</td><td>-87.66130</td><td>December</td><td>Monday</td></tr>\n",
       "\t<tr><th scope=row>3</th><td>8952745</td><td>2012-12-31</td><td>RESIDENTIAL YARD (FRONT/BACK)</td><td>FALSE</td><td>FALSE</td><td>1622</td><td>16</td><td>11</td><td>2012</td><td>41.96919</td><td>-87.76767</td><td>December</td><td>Monday</td></tr>\n",
       "\t<tr><th scope=row>4</th><td>8952223</td><td>2012-12-31</td><td>STREET                       </td><td>FALSE</td><td>FALSE</td><td> 724</td><td> 7</td><td>67</td><td>2012</td><td>41.76933</td><td>-87.65773</td><td>December</td><td>Monday</td></tr>\n",
       "\t<tr><th scope=row>5</th><td>8951608</td><td>2012-12-31</td><td>STREET                       </td><td>FALSE</td><td>FALSE</td><td> 211</td><td> 2</td><td>35</td><td>2012</td><td>41.83757</td><td>-87.62176</td><td>December</td><td>Monday</td></tr>\n",
       "\t<tr><th scope=row>6</th><td>8950793</td><td>2012-12-31</td><td>STREET                       </td><td> TRUE</td><td>FALSE</td><td>2521</td><td>25</td><td>19</td><td>2012</td><td>41.92856</td><td>-87.75400</td><td>December</td><td>Monday</td></tr>\n",
       "</tbody>\n",
       "</table>\n"
      ],
      "text/latex": [
       "A data.frame: 6 × 13\n",
       "\\begin{tabular}{r|lllllllllllll}\n",
       "  & ID & Date & LocationDescription & Arrest & Domestic & Beat & District & CommunityArea & Year & Latitude & Longitude & Month & Weekday\\\\\n",
       "  & <int> & <date> & <fct> & <lgl> & <lgl> & <int> & <int> & <int> & <int> & <dbl> & <dbl> & <chr> & <chr>\\\\\n",
       "\\hline\n",
       "\t1 & 8951354 & 2012-12-31 & STREET                        & FALSE & FALSE &  623 &  6 & 69 & 2012 & 41.75628 & -87.62164 & December & Monday\\\\\n",
       "\t2 & 8951141 & 2012-12-31 & STREET                        & FALSE & FALSE & 1213 & 12 & 24 & 2012 & 41.89879 & -87.66130 & December & Monday\\\\\n",
       "\t3 & 8952745 & 2012-12-31 & RESIDENTIAL YARD (FRONT/BACK) & FALSE & FALSE & 1622 & 16 & 11 & 2012 & 41.96919 & -87.76767 & December & Monday\\\\\n",
       "\t4 & 8952223 & 2012-12-31 & STREET                        & FALSE & FALSE &  724 &  7 & 67 & 2012 & 41.76933 & -87.65773 & December & Monday\\\\\n",
       "\t5 & 8951608 & 2012-12-31 & STREET                        & FALSE & FALSE &  211 &  2 & 35 & 2012 & 41.83757 & -87.62176 & December & Monday\\\\\n",
       "\t6 & 8950793 & 2012-12-31 & STREET                        &  TRUE & FALSE & 2521 & 25 & 19 & 2012 & 41.92856 & -87.75400 & December & Monday\\\\\n",
       "\\end{tabular}\n"
      ],
      "text/markdown": [
       "\n",
       "A data.frame: 6 × 13\n",
       "\n",
       "| <!--/--> | ID &lt;int&gt; | Date &lt;date&gt; | LocationDescription &lt;fct&gt; | Arrest &lt;lgl&gt; | Domestic &lt;lgl&gt; | Beat &lt;int&gt; | District &lt;int&gt; | CommunityArea &lt;int&gt; | Year &lt;int&gt; | Latitude &lt;dbl&gt; | Longitude &lt;dbl&gt; | Month &lt;chr&gt; | Weekday &lt;chr&gt; |\n",
       "|---|---|---|---|---|---|---|---|---|---|---|---|---|---|\n",
       "| 1 | 8951354 | 2012-12-31 | STREET                        | FALSE | FALSE |  623 |  6 | 69 | 2012 | 41.75628 | -87.62164 | December | Monday |\n",
       "| 2 | 8951141 | 2012-12-31 | STREET                        | FALSE | FALSE | 1213 | 12 | 24 | 2012 | 41.89879 | -87.66130 | December | Monday |\n",
       "| 3 | 8952745 | 2012-12-31 | RESIDENTIAL YARD (FRONT/BACK) | FALSE | FALSE | 1622 | 16 | 11 | 2012 | 41.96919 | -87.76767 | December | Monday |\n",
       "| 4 | 8952223 | 2012-12-31 | STREET                        | FALSE | FALSE |  724 |  7 | 67 | 2012 | 41.76933 | -87.65773 | December | Monday |\n",
       "| 5 | 8951608 | 2012-12-31 | STREET                        | FALSE | FALSE |  211 |  2 | 35 | 2012 | 41.83757 | -87.62176 | December | Monday |\n",
       "| 6 | 8950793 | 2012-12-31 | STREET                        |  TRUE | FALSE | 2521 | 25 | 19 | 2012 | 41.92856 | -87.75400 | December | Monday |\n",
       "\n"
      ],
      "text/plain": [
       "  ID      Date       LocationDescription           Arrest Domestic Beat\n",
       "1 8951354 2012-12-31 STREET                        FALSE  FALSE     623\n",
       "2 8951141 2012-12-31 STREET                        FALSE  FALSE    1213\n",
       "3 8952745 2012-12-31 RESIDENTIAL YARD (FRONT/BACK) FALSE  FALSE    1622\n",
       "4 8952223 2012-12-31 STREET                        FALSE  FALSE     724\n",
       "5 8951608 2012-12-31 STREET                        FALSE  FALSE     211\n",
       "6 8950793 2012-12-31 STREET                         TRUE  FALSE    2521\n",
       "  District CommunityArea Year Latitude Longitude Month    Weekday\n",
       "1  6       69            2012 41.75628 -87.62164 December Monday \n",
       "2 12       24            2012 41.89879 -87.66130 December Monday \n",
       "3 16       11            2012 41.96919 -87.76767 December Monday \n",
       "4  7       67            2012 41.76933 -87.65773 December Monday \n",
       "5  2       35            2012 41.83757 -87.62176 December Monday \n",
       "6 25       19            2012 41.92856 -87.75400 December Monday "
      ]
     },
     "metadata": {},
     "output_type": "display_data"
    }
   ],
   "source": [
    "MVT$Date = DateConvert\n",
    "head(MVT)"
   ]
  },
  {
   "cell_type": "markdown",
   "metadata": {},
   "source": [
    "Which month has the largest number of motor vehicle thefts for which an arrest was made?"
   ]
  },
  {
   "cell_type": "code",
   "execution_count": 16,
   "metadata": {},
   "outputs": [
    {
     "data": {
      "text/plain": [
       "           \n",
       "            FALSE  TRUE\n",
       "  April     14028  1252\n",
       "  August    15243  1329\n",
       "  December  15029  1397\n",
       "  February  12273  1238\n",
       "  January   14612  1435\n",
       "  July      15477  1324\n",
       "  June      14772  1230\n",
       "  March     14460  1298\n",
       "  May       14848  1187\n",
       "  November  14807  1256\n",
       "  October   15744  1342\n",
       "  September 14812  1248"
      ]
     },
     "metadata": {},
     "output_type": "display_data"
    }
   ],
   "source": [
    "table(MVT$Month,MVT$Arrest)"
   ]
  },
  {
   "cell_type": "markdown",
   "metadata": {},
   "source": [
    "**Visualizing Crime Trends**"
   ]
  },
  {
   "cell_type": "markdown",
   "metadata": {},
   "source": [
    "In general, does it look like crime increases or decreases from 2002 - 2012?\n",
    "\n",
    "In general, does it look like crime increases or decreases from 2005 - 2008?\n",
    "\n",
    "In general, does it look like crime increases or decreases from 2009 - 2011?"
   ]
  },
  {
   "cell_type": "code",
   "execution_count": 17,
   "metadata": {},
   "outputs": [
    {
     "data": {
      "image/png": "[encoded data removed]",
      "text/plain": [
       "Plot with title \"Motor Vehicle Theft\""
      ]
     },
     "metadata": {
      "image/png": {
       "height": 420,
       "width": 420
      },
      "text/plain": {
       "height": 420,
       "width": 420
      }
     },
     "output_type": "display_data"
    }
   ],
   "source": [
    "hist(MVT$Date, xlab = \"Ano\", main = \"Motor Vehicle Theft\", breaks=100)"
   ]
  },
  {
   "cell_type": "markdown",
   "metadata": {},
   "source": [
    "Does it look like there were more crimes for which arrests were made in the first half of the time period or the second half of the time period?"
   ]
  },
  {
   "cell_type": "code",
   "execution_count": 18,
   "metadata": {},
   "outputs": [
    {
     "data": {
      "image/png": "[encoded data removed]",
      "text/plain": [
       "plot without title"
      ]
     },
     "metadata": {
      "image/png": {
       "height": 420,
       "width": 420
      },
      "text/plain": {
       "height": 420,
       "width": 420
      }
     },
     "output_type": "display_data"
    }
   ],
   "source": [
    "boxplot(MVT$Date ~ MVT$Arrest)"
   ]
  },
  {
   "cell_type": "markdown",
   "metadata": {},
   "source": [
    "For what proportion of motor vehicle thefts in 2001 was an arrest made?"
   ]
  },
  {
   "cell_type": "markdown",
   "metadata": {},
   "source": [
    "For what proportion of motor vehicle thefts in 2007 was an arrest made?"
   ]
  },
  {
   "cell_type": "markdown",
   "metadata": {},
   "source": [
    "For what proportion of motor vehicle thefts in 2012 was an arrest made?"
   ]
  },
  {
   "cell_type": "code",
   "execution_count": 19,
   "metadata": {},
   "outputs": [
    {
     "data": {
      "text/plain": [
       "      \n",
       "       FALSE  TRUE\n",
       "  2001 18517  2152\n",
       "  2002 16638  2115\n",
       "  2003 14859  1798\n",
       "  2004 15169  1693\n",
       "  2005 14956  1528\n",
       "  2006 14796  1302\n",
       "  2007 13068  1212\n",
       "  2008 13425  1020\n",
       "  2009 11327   840\n",
       "  2010 14796   701\n",
       "  2011 15012   625\n",
       "  2012 13542   550"
      ]
     },
     "metadata": {},
     "output_type": "display_data"
    }
   ],
   "source": [
    "table(MVT$Year, MVT$Arrest)"
   ]
  },
  {
   "cell_type": "code",
   "execution_count": 20,
   "metadata": {},
   "outputs": [
    {
     "data": {
      "text/plain": [
       "      \n",
       "            FALSE       TRUE\n",
       "  2001 0.89588272 0.10411728\n",
       "  2002 0.88721805 0.11278195\n",
       "  2003 0.89205739 0.10794261\n",
       "  2004 0.89959673 0.10040327\n",
       "  2005 0.90730405 0.09269595\n",
       "  2006 0.91912039 0.08087961\n",
       "  2007 0.91512605 0.08487395\n",
       "  2008 0.92938733 0.07061267\n",
       "  2009 0.93096080 0.06903920\n",
       "  2010 0.95476544 0.04523456\n",
       "  2011 0.96003070 0.03996930\n",
       "  2012 0.96097076 0.03902924"
      ]
     },
     "metadata": {},
     "output_type": "display_data"
    }
   ],
   "source": [
    "prop.table(table(MVT$Year, MVT$Arrest), margin=1)"
   ]
  },
  {
   "cell_type": "markdown",
   "metadata": {},
   "source": [
    "**Which locations are the top five locations for motor vehicle thefts, excluding the \"Other\" category?**"
   ]
  },
  {
   "cell_type": "code",
   "execution_count": 21,
   "metadata": {},
   "outputs": [
    {
     "data": {
      "text/plain": [
       "\n",
       "                        STREET PARKING LOT/GARAGE(NON.RESID.) \n",
       "                        156564                          14852 \n",
       "                         OTHER                          ALLEY \n",
       "                          4573                           2308 \n",
       "                   GAS STATION         DRIVEWAY - RESIDENTIAL \n",
       "                          2111                           1675 "
      ]
     },
     "metadata": {},
     "output_type": "display_data"
    }
   ],
   "source": [
    "head(sort(table(MVT$LocationDescription), decreasing = T) , 6 )"
   ]
  },
  {
   "cell_type": "markdown",
   "metadata": {},
   "source": [
    "**How many observations are in Top5?**"
   ]
  },
  {
   "cell_type": "code",
   "execution_count": 22,
   "metadata": {
    "scrolled": true
   },
   "outputs": [
    {
     "name": "stdout",
     "output_type": "stream",
     "text": [
      "'data.frame':\t177510 obs. of  13 variables:\n",
      " $ ID                 : int  8951354 8951141 8952223 8951608 8950793 8950760 8951611 8951802 8950706 8951585 ...\n",
      " $ Date               : Date, format: \"2012-12-31\" \"2012-12-31\" ...\n",
      " $ LocationDescription: Factor w/ 78 levels \"ABANDONED BUILDING\",..: 72 72 72 72 72 72 72 72 72 72 ...\n",
      " $ Arrest             : logi  FALSE FALSE FALSE FALSE TRUE FALSE ...\n",
      " $ Domestic           : logi  FALSE FALSE FALSE FALSE FALSE FALSE ...\n",
      " $ Beat               : int  623 1213 724 211 2521 423 231 1021 1215 1011 ...\n",
      " $ District           : int  6 12 7 2 25 4 2 10 12 10 ...\n",
      " $ CommunityArea      : int  69 24 67 35 19 48 40 29 24 29 ...\n",
      " $ Year               : int  2012 2012 2012 2012 2012 2012 2012 2012 2012 2012 ...\n",
      " $ Latitude           : num  41.8 41.9 41.8 41.8 41.9 ...\n",
      " $ Longitude          : num  -87.6 -87.7 -87.7 -87.6 -87.8 ...\n",
      " $ Month              : chr  \"December\" \"December\" \"December\" \"December\" ...\n",
      " $ Weekday            : chr  \"Monday\" \"Monday\" \"Monday\" \"Monday\" ...\n"
     ]
    }
   ],
   "source": [
    "Top5 = subset(MVT, LocationDescription==\"STREET\" |\n",
    "              LocationDescription==\"PARKING LOT/GARAGE(NON.RESID.)\" | \n",
    "              LocationDescription==\"ALLEY\" |\n",
    "              LocationDescription==\"GAS STATION\" |\n",
    "              LocationDescription==\"DRIVEWAY - RESIDENTIAL\")\n",
    "\n",
    "str(Top5)"
   ]
  },
  {
   "cell_type": "code",
   "execution_count": 23,
   "metadata": {},
   "outputs": [],
   "source": [
    "street <- MVT[MVT$LocationDescription==\"STREET\",]\n",
    "parking_lot <- MVT[MVT$LocationDescription==\"PARKING LOT/GARAGE(NON.RESID.)\",]\n",
    "alley <- MVT[MVT$LocationDescription==\"ALLEY\",]\n",
    "gas_station <- MVT[MVT$LocationDescription==\"GAS STATION\",]\n",
    "driveway <- MVT[MVT$LocationDescription==\"DRIVEWAY - RESIDENTIAL\",]"
   ]
  },
  {
   "cell_type": "code",
   "execution_count": 24,
   "metadata": {},
   "outputs": [
    {
     "data": {
      "text/html": [
       "<style>\n",
       ".list-inline {list-style: none; margin:0; padding: 0}\n",
       ".list-inline>li {display: inline-block}\n",
       ".list-inline>li:not(:last-child)::after {content: \"\\00b7\"; padding: 0 .5ex}\n",
       "</style>\n",
       "<ol class=list-inline><li>156564</li><li>14852</li><li>2308</li><li>2111</li><li>1675</li></ol>\n"
      ],
      "text/latex": [
       "\\begin{enumerate*}\n",
       "\\item 156564\n",
       "\\item 14852\n",
       "\\item 2308\n",
       "\\item 2111\n",
       "\\item 1675\n",
       "\\end{enumerate*}\n"
      ],
      "text/markdown": [
       "1. 156564\n",
       "2. 14852\n",
       "3. 2308\n",
       "4. 2111\n",
       "5. 1675\n",
       "\n",
       "\n"
      ],
      "text/plain": [
       "[1] 156564  14852   2308   2111   1675"
      ]
     },
     "metadata": {},
     "output_type": "display_data"
    }
   ],
   "source": [
    "score <- c(nrow(street), nrow(parking_lot),nrow(alley),nrow(gas_station),nrow(driveway))\n",
    "score"
   ]
  },
  {
   "cell_type": "code",
   "execution_count": 25,
   "metadata": {},
   "outputs": [
    {
     "data": {
      "image/png": "[encoded data removed]",
      "text/plain": [
       "Plot with title \"Top5\""
      ]
     },
     "metadata": {
      "image/png": {
       "height": 420,
       "width": 420
      },
      "text/plain": {
       "height": 420,
       "width": 420
      }
     },
     "output_type": "display_data"
    }
   ],
   "source": [
    "barplot(score, names.arg = c(\"STREET\", \"PARKING LOT\", \"ALLEY\", \"GAS STATION\", \"DRIVEWAY\"), main = \"Top5\")"
   ]
  },
  {
   "cell_type": "code",
   "execution_count": 26,
   "metadata": {},
   "outputs": [
    {
     "data": {
      "text/html": [
       "177510"
      ],
      "text/latex": [
       "177510"
      ],
      "text/markdown": [
       "177510"
      ],
      "text/plain": [
       "[1] 177510"
      ]
     },
     "metadata": {},
     "output_type": "display_data"
    }
   ],
   "source": [
    "sum(score)"
   ]
  },
  {
   "cell_type": "markdown",
   "metadata": {},
   "source": [
    "**One of the locations has a much higher arrest rate than the other locations. Which is it?**"
   ]
  },
  {
   "cell_type": "code",
   "execution_count": 27,
   "metadata": {},
   "outputs": [],
   "source": [
    "# Important to better visualization\n",
    "\n",
    "Top5$LocationDescription = factor(Top5$LocationDescription)"
   ]
  },
  {
   "cell_type": "code",
   "execution_count": 28,
   "metadata": {},
   "outputs": [
    {
     "data": {
      "text/plain": [
       "                                \n",
       "                                      FALSE       TRUE\n",
       "  ALLEY                          0.89211438 0.10788562\n",
       "  DRIVEWAY - RESIDENTIAL         0.92119403 0.07880597\n",
       "  GAS STATION                    0.79204169 0.20795831\n",
       "  PARKING LOT/GARAGE(NON.RESID.) 0.89206841 0.10793159\n",
       "  STREET                         0.92594083 0.07405917"
      ]
     },
     "metadata": {},
     "output_type": "display_data"
    }
   ],
   "source": [
    "prop.table(table(Top5$LocationDescription, Top5$Arrest), margin=1)"
   ]
  },
  {
   "cell_type": "markdown",
   "metadata": {},
   "source": [
    "Gas Station has by far the highest percentage of arrests, with over 20.8% of motor vehicle thefts resulting in an arrest."
   ]
  },
  {
   "cell_type": "markdown",
   "metadata": {},
   "source": [
    "**On which day of the week do the most motor vehicle thefts at gas stations happen?**"
   ]
  },
  {
   "cell_type": "code",
   "execution_count": 29,
   "metadata": {},
   "outputs": [
    {
     "data": {
      "text/plain": [
       "       \n",
       "        Friday Monday Saturday Sunday Thursday Tuesday Wednesday\n",
       "  FALSE  26746  25008    24917  24220    24956   24527     25025\n",
       "  TRUE     332    280      338    336      282     270       273"
      ]
     },
     "metadata": {},
     "output_type": "display_data"
    }
   ],
   "source": [
    "table(Top5$LocationDescription=='GAS STATION', Top5$Weekday)"
   ]
  },
  {
   "cell_type": "markdown",
   "metadata": {},
   "source": [
    "Saturday is the day where most motor vehicle thefts at gas stations occur."
   ]
  },
  {
   "cell_type": "markdown",
   "metadata": {},
   "source": [
    "**On which day of the week do the fewest motor vehicle thefts in residential driveways happen?**"
   ]
  },
  {
   "cell_type": "code",
   "execution_count": 30,
   "metadata": {},
   "outputs": [
    {
     "data": {
      "text/plain": [
       "       \n",
       "        Friday Monday Saturday Sunday Thursday Tuesday Wednesday\n",
       "  FALSE  26821  25033    25053  24335    24975   24554     25064\n",
       "  TRUE     257    255      202    221      263     243       234"
      ]
     },
     "metadata": {},
     "output_type": "display_data"
    }
   ],
   "source": [
    "table(Top5$LocationDescription=='DRIVEWAY - RESIDENTIAL', Top5$Weekday)"
   ]
  },
  {
   "cell_type": "code",
   "execution_count": 31,
   "metadata": {},
   "outputs": [
    {
     "data": {
      "text/plain": [
       "                                \n",
       "                                 Friday Monday Saturday Sunday Thursday Tuesday\n",
       "  ALLEY                             385    320      341    307      315     323\n",
       "  DRIVEWAY - RESIDENTIAL            257    255      202    221      263     243\n",
       "  GAS STATION                       332    280      338    336      282     270\n",
       "  PARKING LOT/GARAGE(NON.RESID.)   2331   2128     2199   1936     2082    2073\n",
       "  STREET                          23773  22305    22175  21756    22296   21888\n",
       "                                \n",
       "                                 Wednesday\n",
       "  ALLEY                                317\n",
       "  DRIVEWAY - RESIDENTIAL               234\n",
       "  GAS STATION                          273\n",
       "  PARKING LOT/GARAGE(NON.RESID.)      2103\n",
       "  STREET                             22371"
      ]
     },
     "metadata": {},
     "output_type": "display_data"
    }
   ],
   "source": [
    "table(Top5$LocationDescription, Top5$Weekday)"
   ]
  },
  {
   "cell_type": "markdown",
   "metadata": {},
   "source": [
    "Saturday is the day where fewer motor vehicle thefts at residential driveways occur."
   ]
  }
 ],
 "metadata": {
  "kernelspec": {
   "display_name": "R",
   "language": "R",
   "name": "ir"
  },
  "language_info": {
   "codemirror_mode": "r",
   "file_extension": ".r",
   "mimetype": "text/x-r-source",
   "name": "R",
   "pygments_lexer": "r",
   "version": "3.6.3"
  }
 },
 "nbformat": 4,
 "nbformat_minor": 4
}
