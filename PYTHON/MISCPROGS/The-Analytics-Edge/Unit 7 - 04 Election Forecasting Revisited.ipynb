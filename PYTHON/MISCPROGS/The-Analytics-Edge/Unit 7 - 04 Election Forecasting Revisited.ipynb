{
 "cells": [
  {
   "cell_type": "markdown",
   "metadata": {},
   "source": [
    "# Election Forecasting Revisited"
   ]
  },
  {
   "cell_type": "markdown",
   "metadata": {},
   "source": [
    "<img src=\"images/donkey-and-elephant.jpg\"/>"
   ]
  },
  {
   "cell_type": "markdown",
   "metadata": {},
   "source": [
    "In the recitation from Unit 3, we used logistic regression on polling data in order to construct US presidential election predictions. We separated our data into a training set, containing data from 2004 and 2008 polls, and a test set, containing the data from 2012 polls. We then proceeded to develop a logistic regression model to forecast the 2012 US presidential election.\n",
    "\n",
    "In this homework problem, we'll revisit our logistic regression model from Unit 3, and learn how to plot the output on a map of the United States. Unlike what we did in the Crime lecture, this time we'll be plotting predictions rather than data!\n",
    "\n",
    "First, load the ggplot2, maps, and ggmap packages using the library function. All three packages should be installed on your computer from lecture, but if not, you may need to install them too using the install.packages function.\n",
    "\n",
    "Then, load the US map and save it to the variable statesMap, like we did during the Crime lecture:\n",
    "\n",
    "    statesMap = map_data(\"state\")\n",
    "\n",
    "The maps package contains other built-in maps, including a US county map, a world map, and maps for France and Italy."
   ]
  },
  {
   "cell_type": "markdown",
   "metadata": {},
   "source": [
    "### Load packages"
   ]
  },
  {
   "cell_type": "code",
   "execution_count": 1,
   "metadata": {},
   "outputs": [
    {
     "name": "stderr",
     "output_type": "stream",
     "text": [
      "Loading required package: usethis\n",
      "\n",
      "Loading required package: ggplot2\n",
      "\n",
      "Google's Terms of Service: https://cloud.google.com/maps-platform/terms/.\n",
      "\n",
      "Please cite ggmap if you use it! See citation(\"ggmap\") for details.\n",
      "\n"
     ]
    }
   ],
   "source": [
    "#install.packages(\"devtools\")\n",
    "library(maps)\n",
    "library(devtools)  \n",
    "library(ggmap)"
   ]
  },
  {
   "cell_type": "markdown",
   "metadata": {},
   "source": [
    "### Problem 1.1 - Drawing a Map of the US\n",
    "If you look at the structure of the statesMap data frame using the str function, you should see that there are 6 variables. One of the variables, group, defines the different shapes or polygons on the map. Sometimes a state may have multiple groups, for example, if it includes islands. **How many different groups are there?**"
   ]
  },
  {
   "cell_type": "code",
   "execution_count": 2,
   "metadata": {},
   "outputs": [
    {
     "name": "stdout",
     "output_type": "stream",
     "text": [
      "'data.frame':\t15537 obs. of  6 variables:\n",
      " $ long     : num  -87.5 -87.5 -87.5 -87.5 -87.6 ...\n",
      " $ lat      : num  30.4 30.4 30.4 30.3 30.3 ...\n",
      " $ group    : num  1 1 1 1 1 1 1 1 1 1 ...\n",
      " $ order    : int  1 2 3 4 5 6 7 8 9 10 ...\n",
      " $ region   : chr  \"alabama\" \"alabama\" \"alabama\" \"alabama\" ...\n",
      " $ subregion: chr  NA NA NA NA ...\n"
     ]
    }
   ],
   "source": [
    "# Load StateMap\n",
    "statesMap = map_data(\"state\")\n",
    "\n",
    "# Output structure \n",
    "str(statesMap)"
   ]
  },
  {
   "cell_type": "code",
   "execution_count": 3,
   "metadata": {},
   "outputs": [
    {
     "data": {
      "text/plain": [
       "\n",
       "   1    2    3    4    5    6    7    8    9   10   11   12   13   14   15   16 \n",
       " 202  149  312  516   79   91   94   10  872  381  233  329  257  256  113  397 \n",
       "  17   18   19   20   21   22   23   24   25   26   27   28   29   30   31   32 \n",
       " 650  399  566   36  220   30  460  370  373  382  315  238  208   70  125  205 \n",
       "  33   34   35   36   37   38   39   40   41   42   43   44   45   46   47   48 \n",
       "  78   16  290   21  168   37  733   12  105  238  284  236  172   66  304  166 \n",
       "  49   50   51   52   53   54   55   56   57   58   59   60   61   62   63 \n",
       " 289 1088   59  129   96   15  623   17   17   19   44  448  373  388   68 "
      ]
     },
     "metadata": {},
     "output_type": "display_data"
    }
   ],
   "source": [
    "table(statesMap$group)"
   ]
  },
  {
   "cell_type": "code",
   "execution_count": 4,
   "metadata": {},
   "outputs": [
    {
     "data": {
      "text/html": [
       "63"
      ],
      "text/latex": [
       "63"
      ],
      "text/markdown": [
       "63"
      ],
      "text/plain": [
       "[1] 63"
      ]
     },
     "metadata": {},
     "output_type": "display_data"
    }
   ],
   "source": [
    "nrow(table(statesMap$group))"
   ]
  },
  {
   "cell_type": "markdown",
   "metadata": {},
   "source": [
    "The variable \"order\" defines the order to connect the points within each group, and the variable \"region\" gives the name of the state."
   ]
  },
  {
   "cell_type": "markdown",
   "metadata": {},
   "source": [
    "### Problem 1.2 - Drawing a Map of the US\n",
    "You can draw a map of the United States by typing the following in your R console:\n",
    "\n",
    "    ggplot(statesMap, aes(x = long, y = lat, group = group)) + geom_polygon(fill = \"white\", color = \"black\")\n",
    "\n",
    "We specified two colors in geom_polygon -- fill and color. **Which one defined the color of the outline of the states?**"
   ]
  },
  {
   "cell_type": "code",
   "execution_count": 5,
   "metadata": {},
   "outputs": [
    {
     "data": {
      "image/png": "[encoded data removed]",
      "text/plain": [
       "plot without title"
      ]
     },
     "metadata": {
      "image/png": {
       "height": 420,
       "width": 420
      },
      "text/plain": {
       "height": 420,
       "width": 420
      }
     },
     "output_type": "display_data"
    }
   ],
   "source": [
    "# Draw Map of US\n",
    "ggplot(statesMap, aes(x = long, y = lat, group = group)) + geom_polygon(fill = \"white\", color = \"black\") "
   ]
  },
  {
   "cell_type": "markdown",
   "metadata": {},
   "source": [
    "Answer: Color = outline of the states."
   ]
  },
  {
   "cell_type": "markdown",
   "metadata": {},
   "source": [
    "### Problem 2.1 - Coloring the States by Predictions\n",
    "Now, let's color the map of the US according to our 2012 US presidential election predictions from the Unit 3 Recitation. We'll rebuild the model here, using the dataset PollingImputed.csv. Be sure to use this file so that you don't have to redo the imputation to fill in the missing values, like we did in the Unit 3 Recitation.\n",
    "\n",
    "Load the data using the read.csv function, and call it \"polling\". Then split the data using the subset function into a training set called \"Train\" that has observations from 2004 and 2008, and a testing set called \"Test\" that has observations from 2012.\n",
    "\n",
    "Note that we only have 45 states in our testing set, since we are missing observations for Alaska, Delaware, Alabama, Wyoming, and Vermont, so these states will not appear colored in our map."
   ]
  },
  {
   "cell_type": "code",
   "execution_count": 6,
   "metadata": {},
   "outputs": [
    {
     "data": {
      "text/html": [
       "<table>\n",
       "<caption>A data.frame: 6 × 7</caption>\n",
       "<thead>\n",
       "\t<tr><th></th><th scope=col>State</th><th scope=col>Year</th><th scope=col>Rasmussen</th><th scope=col>SurveyUSA</th><th scope=col>DiffCount</th><th scope=col>PropR</th><th scope=col>Republican</th></tr>\n",
       "\t<tr><th></th><th scope=col>&lt;fct&gt;</th><th scope=col>&lt;int&gt;</th><th scope=col>&lt;int&gt;</th><th scope=col>&lt;int&gt;</th><th scope=col>&lt;int&gt;</th><th scope=col>&lt;dbl&gt;</th><th scope=col>&lt;int&gt;</th></tr>\n",
       "</thead>\n",
       "<tbody>\n",
       "\t<tr><th scope=row>1</th><td>Alabama</td><td>2004</td><td>11</td><td>18</td><td>5</td><td>1</td><td>1</td></tr>\n",
       "\t<tr><th scope=row>2</th><td>Alabama</td><td>2008</td><td>21</td><td>25</td><td>5</td><td>1</td><td>1</td></tr>\n",
       "\t<tr><th scope=row>3</th><td>Alaska </td><td>2004</td><td>19</td><td>21</td><td>1</td><td>1</td><td>1</td></tr>\n",
       "\t<tr><th scope=row>4</th><td>Alaska </td><td>2008</td><td>16</td><td>18</td><td>6</td><td>1</td><td>1</td></tr>\n",
       "\t<tr><th scope=row>5</th><td>Arizona</td><td>2004</td><td> 5</td><td>15</td><td>8</td><td>1</td><td>1</td></tr>\n",
       "\t<tr><th scope=row>6</th><td>Arizona</td><td>2008</td><td> 5</td><td> 3</td><td>9</td><td>1</td><td>1</td></tr>\n",
       "</tbody>\n",
       "</table>\n"
      ],
      "text/latex": [
       "A data.frame: 6 × 7\n",
       "\\begin{tabular}{r|lllllll}\n",
       "  & State & Year & Rasmussen & SurveyUSA & DiffCount & PropR & Republican\\\\\n",
       "  & <fct> & <int> & <int> & <int> & <int> & <dbl> & <int>\\\\\n",
       "\\hline\n",
       "\t1 & Alabama & 2004 & 11 & 18 & 5 & 1 & 1\\\\\n",
       "\t2 & Alabama & 2008 & 21 & 25 & 5 & 1 & 1\\\\\n",
       "\t3 & Alaska  & 2004 & 19 & 21 & 1 & 1 & 1\\\\\n",
       "\t4 & Alaska  & 2008 & 16 & 18 & 6 & 1 & 1\\\\\n",
       "\t5 & Arizona & 2004 &  5 & 15 & 8 & 1 & 1\\\\\n",
       "\t6 & Arizona & 2008 &  5 &  3 & 9 & 1 & 1\\\\\n",
       "\\end{tabular}\n"
      ],
      "text/markdown": [
       "\n",
       "A data.frame: 6 × 7\n",
       "\n",
       "| <!--/--> | State &lt;fct&gt; | Year &lt;int&gt; | Rasmussen &lt;int&gt; | SurveyUSA &lt;int&gt; | DiffCount &lt;int&gt; | PropR &lt;dbl&gt; | Republican &lt;int&gt; |\n",
       "|---|---|---|---|---|---|---|---|\n",
       "| 1 | Alabama | 2004 | 11 | 18 | 5 | 1 | 1 |\n",
       "| 2 | Alabama | 2008 | 21 | 25 | 5 | 1 | 1 |\n",
       "| 3 | Alaska  | 2004 | 19 | 21 | 1 | 1 | 1 |\n",
       "| 4 | Alaska  | 2008 | 16 | 18 | 6 | 1 | 1 |\n",
       "| 5 | Arizona | 2004 |  5 | 15 | 8 | 1 | 1 |\n",
       "| 6 | Arizona | 2008 |  5 |  3 | 9 | 1 | 1 |\n",
       "\n"
      ],
      "text/plain": [
       "  State   Year Rasmussen SurveyUSA DiffCount PropR Republican\n",
       "1 Alabama 2004 11        18        5         1     1         \n",
       "2 Alabama 2008 21        25        5         1     1         \n",
       "3 Alaska  2004 19        21        1         1     1         \n",
       "4 Alaska  2008 16        18        6         1     1         \n",
       "5 Arizona 2004  5        15        8         1     1         \n",
       "6 Arizona 2008  5         3        9         1     1         "
      ]
     },
     "metadata": {},
     "output_type": "display_data"
    }
   ],
   "source": [
    "# Read data \n",
    "polling = read.csv(\"data/PollingImputed.csv\")\n",
    "\n",
    "head(polling)"
   ]
  },
  {
   "cell_type": "code",
   "execution_count": 7,
   "metadata": {},
   "outputs": [],
   "source": [
    "# Split the data\n",
    "\n",
    "Train = subset(polling, Year == 2004 | Year == 2008)\n",
    "Test = subset(polling, Year == 2012)"
   ]
  },
  {
   "cell_type": "markdown",
   "metadata": {},
   "source": [
    "Then, create a logistic regression model and make predictions on the test set using the following commands:\n",
    "\n",
    "    mod2 = glm(Republican~SurveyUSA+DiffCount, data=Train, family=\"binomial\")\n",
    "\n",
    "    TestPrediction = predict(mod2, newdata=Test, type=\"response\")\n",
    "\n",
    "TestPrediction gives the predicted probabilities for each state, but let's also create a vector of Republican/Democrat predictions by using the following command:\n",
    "\n",
    "    TestPredictionBinary = as.numeric(TestPrediction > 0.5)"
   ]
  },
  {
   "cell_type": "code",
   "execution_count": 8,
   "metadata": {},
   "outputs": [],
   "source": [
    "# Logistic Regression\n",
    "mod2 = glm(Republican~SurveyUSA+DiffCount, data=Train, family=\"binomial\")\n",
    "\n",
    "# Make predictions\n",
    "TestPrediction = predict(mod2, newdata=Test, type=\"response\")\n",
    "\n",
    "# Vector of Republican/Democrat\n",
    "TestPredictionBinary = as.numeric(TestPrediction > 0.5)"
   ]
  },
  {
   "cell_type": "markdown",
   "metadata": {},
   "source": [
    "Now, put the predictions and state labels in a data.frame so that we can use ggplot:\n",
    "\n",
    "    predictionDataFrame = data.frame(TestPrediction, TestPredictionBinary, Test$State)\n",
    "\n",
    "To make sure everything went smoothly, answer the following questions."
   ]
  },
  {
   "cell_type": "code",
   "execution_count": 9,
   "metadata": {},
   "outputs": [],
   "source": [
    "# Store predictions and state labels into a dataframe\n",
    "predictionDataFrame = data.frame(TestPrediction, TestPredictionBinary, Test$State)"
   ]
  },
  {
   "cell_type": "markdown",
   "metadata": {},
   "source": [
    "**For how many states is our binary prediction 1 (for 2012), corresponding to Republican?**"
   ]
  },
  {
   "cell_type": "code",
   "execution_count": 10,
   "metadata": {},
   "outputs": [
    {
     "data": {
      "text/plain": [
       "TestPredictionBinary\n",
       " 0  1 \n",
       "23 22 "
      ]
     },
     "metadata": {},
     "output_type": "display_data"
    }
   ],
   "source": [
    "# Tabulate how many states is our prediction 1\n",
    "table(TestPredictionBinary)"
   ]
  },
  {
   "cell_type": "markdown",
   "metadata": {},
   "source": [
    "Answer: 22 states have a binary prediction of 1."
   ]
  },
  {
   "cell_type": "markdown",
   "metadata": {},
   "source": [
    "**What is the average predicted probability of our model (on the Test set, for 2012)?**"
   ]
  },
  {
   "cell_type": "code",
   "execution_count": 11,
   "metadata": {},
   "outputs": [
    {
     "data": {
      "text/plain": [
       "     Min.   1st Qu.    Median      Mean   3rd Qu.      Max. \n",
       "0.0000001 0.0000926 0.0648667 0.4852626 0.9986385 0.9998655 "
      ]
     },
     "metadata": {},
     "output_type": "display_data"
    }
   ],
   "source": [
    "# Average predicted probability\n",
    "summary(TestPrediction)"
   ]
  },
  {
   "cell_type": "markdown",
   "metadata": {},
   "source": [
    "Answer: Average Predicted Probability = 0.4852"
   ]
  },
  {
   "cell_type": "markdown",
   "metadata": {},
   "source": [
    "### Problem 2.2 - Coloring the States by Predictions\n",
    "Now, we need to merge \"predictionDataFrame\" with the map data \"statesMap\", like we did in lecture. Before doing so, we need to convert the Test.State variable to lowercase, so that it matches the region variable in statesMap. Do this by typing the following in your R console:\n",
    "\n",
    "    predictionDataFrame$region = tolower(predictionDataFrame$Test.State)\n",
    "\n",
    "Now, merge the two data frames using the following command:\n",
    "\n",
    "    predictionMap = merge(statesMap, predictionDataFrame, by = \"region\")\n",
    "\n",
    "Lastly, we need to make sure the observations are in order so that the map is drawn properly, by typing the following:\n",
    "\n",
    "    predictionMap = predictionMap[order(predictionMap$order),]"
   ]
  },
  {
   "cell_type": "code",
   "execution_count": 12,
   "metadata": {},
   "outputs": [],
   "source": [
    "# PredictionBinary\n",
    "predictionDataFrame$region = tolower(predictionDataFrame$Test.State)"
   ]
  },
  {
   "cell_type": "code",
   "execution_count": 13,
   "metadata": {},
   "outputs": [],
   "source": [
    "# Merge the data\n",
    "predictionMap = merge(statesMap, predictionDataFrame, by = \"region\")"
   ]
  },
  {
   "cell_type": "code",
   "execution_count": 14,
   "metadata": {},
   "outputs": [],
   "source": [
    "# Order the observations\n",
    "predictionMap = predictionMap[order(predictionMap$order),]"
   ]
  },
  {
   "cell_type": "markdown",
   "metadata": {},
   "source": [
    "**How many observations are there in predictionMap?**"
   ]
  },
  {
   "cell_type": "code",
   "execution_count": 15,
   "metadata": {},
   "outputs": [
    {
     "data": {
      "text/html": [
       "15034"
      ],
      "text/latex": [
       "15034"
      ],
      "text/markdown": [
       "15034"
      ],
      "text/plain": [
       "[1] 15034"
      ]
     },
     "metadata": {},
     "output_type": "display_data"
    }
   ],
   "source": [
    "# Number of observations\n",
    "nrow(predictionMap)"
   ]
  },
  {
   "cell_type": "markdown",
   "metadata": {},
   "source": [
    "**How many observations are there in statesMap?**"
   ]
  },
  {
   "cell_type": "code",
   "execution_count": 16,
   "metadata": {},
   "outputs": [
    {
     "data": {
      "text/html": [
       "15537"
      ],
      "text/latex": [
       "15537"
      ],
      "text/markdown": [
       "15537"
      ],
      "text/plain": [
       "[1] 15537"
      ]
     },
     "metadata": {},
     "output_type": "display_data"
    }
   ],
   "source": [
    "# Number of observations\n",
    "nrow(statesMap)"
   ]
  },
  {
   "cell_type": "markdown",
   "metadata": {},
   "source": [
    "### Problem 2.3 - Coloring the States by Predictions\n",
    "When we merged the data in the previous problem, it caused the number of observations to change. **Why?** Check out the help page for merge by typing ?merge to help you answer this question."
   ]
  },
  {
   "cell_type": "markdown",
   "metadata": {},
   "source": [
    "Answer: When we merge data, it only merged the observations that exist in both data sets. So since we are merging based on the region variable, we will lose all observations that have a value of “region” that doesn’t exist in both data frames. You can change this default behavior by using the *all.x* and *all.y* arguments of the merge function."
   ]
  },
  {
   "cell_type": "markdown",
   "metadata": {},
   "source": [
    "### Problem 2.4 - Coloring the States by Predictions\n",
    "Now we are ready to color the US map with our predictions! You can color the states according to our binary predictions by typing the following in your R console:\n",
    "\n",
    "    ggplot(predictionMap, aes(x = long, y = lat, group = group, fill = TestPredictionBinary)) + \n",
    "                                                                                            geom_polygon(color = \"black\")\n",
    "\n",
    "**The states appear light blue and dark blue in this map. Which color represents a Republican prediction?**"
   ]
  },
  {
   "cell_type": "code",
   "execution_count": 17,
   "metadata": {},
   "outputs": [
    {
     "data": {
      "image/png": "[encoded data removed]",
      "text/plain": [
       "plot without title"
      ]
     },
     "metadata": {
      "image/png": {
       "height": 420,
       "width": 420
      },
      "text/plain": {
       "height": 420,
       "width": 420
      }
     },
     "output_type": "display_data"
    }
   ],
   "source": [
    "# Color the US Map\n",
    "ggplot(predictionMap, aes(x = long, y = lat, group = group, fill = TestPredictionBinary)) + \n",
    "                                                                                            geom_polygon(color = \"black\")"
   ]
  },
  {
   "cell_type": "markdown",
   "metadata": {},
   "source": [
    "### Problem 2.5 - Coloring the States by Predictions\n",
    "We see that the legend displays a blue gradient for outcomes between 0 and 1. However, when plotting the binary predictions there are only two possible outcomes: 0 or 1. Let's replot the map with discrete outcomes. We can also change the color scheme to blue and red, to match the blue color associated with the Democratic Party in the US and the red color associated with the Republican Party in the US. This can be done with the following command:\n",
    "\n",
    "    ggplot(predictionMap, aes(x = long, y = lat, group = group, fill = TestPredictionBinary))+ \n",
    "                     geom_polygon(color = \"black\") + \n",
    "                     scale_fill_gradient(low = \"blue\", high = \"red\", guide = \"legend\", \n",
    "                                       breaks= c(0,1), labels = c(\"Democrat\", \"Republican\"), name = \"Prediction 2012\")\n",
    "\n",
    "Alternatively, we could plot the probabilities instead of the binary predictions. Change the plot command above to instead color the states by the variable TestPrediction. You should see a gradient of colors ranging from red to blue. **Do the colors of the states in the map for TestPrediction look different from the colors of the states in the map with TestPredictionBinary? Why or why not?**\n",
    "\n",
    "NOTE: If you have a hard time seeing the red/blue gradient, feel free to change the color scheme, by changing the arguments low = \"blue\" and high = \"red\" to colors of your choice (to see all of the color options in R, type colors() in your R console). You can even change it to a gray scale, by changing the low and high colors to \"gray\" and \"black\"."
   ]
  },
  {
   "cell_type": "code",
   "execution_count": 18,
   "metadata": {},
   "outputs": [
    {
     "data": {
      "image/png": "[encoded data removed]",
      "text/plain": [
       "plot without title"
      ]
     },
     "metadata": {
      "image/png": {
       "height": 420,
       "width": 420
      },
      "text/plain": {
       "height": 420,
       "width": 420
      }
     },
     "output_type": "display_data"
    }
   ],
   "source": [
    "# Replot to show discrete\n",
    "\n",
    "ggplot(predictionMap, aes(x = long, y = lat, group = group, fill = TestPredictionBinary))+ \n",
    "                geom_polygon(color = \"black\") + \n",
    "                scale_fill_gradient(low = \"blue\", high = \"red\", guide = \"legend\", breaks= c(0,1), \n",
    "                                                  labels = c(\"Democrat\", \"Republican\"), name = \"Prediction 2012\")"
   ]
  },
  {
   "cell_type": "code",
   "execution_count": 19,
   "metadata": {},
   "outputs": [
    {
     "data": {
      "image/png": "[encoded data removed]",
      "text/plain": [
       "plot without title"
      ]
     },
     "metadata": {
      "image/png": {
       "height": 420,
       "width": 420
      },
      "text/plain": {
       "height": 420,
       "width": 420
      }
     },
     "output_type": "display_data"
    }
   ],
   "source": [
    "# Replot to show discrete\n",
    "ggplot(predictionMap, aes(x = long, y = lat, group = group, fill = TestPrediction))+ \n",
    "                geom_polygon(color = \"black\") + \n",
    "                scale_fill_gradient(low = \"blue\", high = \"red\", guide = \"legend\", breaks= c(0,1), \n",
    "                                                  labels = c(\"Democrat\", \"Republican\"), name = \"Prediction 2012\")"
   ]
  },
  {
   "cell_type": "markdown",
   "metadata": {},
   "source": [
    "Answer: The two maps look very similar. This is because most of our predicted probabilities are close to 0 or close to 1."
   ]
  },
  {
   "cell_type": "markdown",
   "metadata": {},
   "source": [
    "### Problem 3.1 - Understanding the Predictions\n",
    "In the 2012 election, the state of Florida ended up being a very close race. It was ultimately won by the Democratic party. **Did we predict this state correctly or incorrectly?**"
   ]
  },
  {
   "cell_type": "markdown",
   "metadata": {},
   "source": [
    "Answer: We incorrectly predicted this state by predicting that it would be won by the Republican party."
   ]
  },
  {
   "cell_type": "markdown",
   "metadata": {},
   "source": [
    "### Problem 3.2 - Understanding the Predictions\n",
    "**What was our predicted probability for the state of Florida?**"
   ]
  },
  {
   "cell_type": "code",
   "execution_count": 20,
   "metadata": {},
   "outputs": [
    {
     "data": {
      "text/html": [
       "<table>\n",
       "<caption>A data.frame: 45 × 4</caption>\n",
       "<thead>\n",
       "\t<tr><th></th><th scope=col>TestPrediction</th><th scope=col>TestPredictionBinary</th><th scope=col>Test.State</th><th scope=col>region</th></tr>\n",
       "\t<tr><th></th><th scope=col>&lt;dbl&gt;</th><th scope=col>&lt;dbl&gt;</th><th scope=col>&lt;fct&gt;</th><th scope=col>&lt;chr&gt;</th></tr>\n",
       "</thead>\n",
       "<tbody>\n",
       "\t<tr><th scope=row>7</th><td>9.739028e-01</td><td>1</td><td>Arizona       </td><td>arizona       </td></tr>\n",
       "\t<tr><th scope=row>10</th><td>9.994949e-01</td><td>1</td><td>Arkansas      </td><td>arkansas      </td></tr>\n",
       "\t<tr><th scope=row>13</th><td>9.261522e-05</td><td>0</td><td>California    </td><td>california    </td></tr>\n",
       "\t<tr><th scope=row>16</th><td>9.432967e-03</td><td>0</td><td>Colorado      </td><td>colorado      </td></tr>\n",
       "\t<tr><th scope=row>19</th><td>3.431627e-05</td><td>0</td><td>Connecticut   </td><td>connecticut   </td></tr>\n",
       "\t<tr><th scope=row>24</th><td>9.640395e-01</td><td>1</td><td>Florida       </td><td>florida       </td></tr>\n",
       "\t<tr><th scope=row>27</th><td>9.901680e-01</td><td>1</td><td>Georgia       </td><td>georgia       </td></tr>\n",
       "\t<tr><th scope=row>30</th><td>4.779656e-05</td><td>0</td><td>Hawaii        </td><td>hawaii        </td></tr>\n",
       "\t<tr><th scope=row>33</th><td>9.996372e-01</td><td>1</td><td>Idaho         </td><td>idaho         </td></tr>\n",
       "\t<tr><th scope=row>36</th><td>9.262188e-05</td><td>0</td><td>Illinois      </td><td>illinois      </td></tr>\n",
       "\t<tr><th scope=row>39</th><td>9.992970e-01</td><td>1</td><td>Indiana       </td><td>indiana       </td></tr>\n",
       "\t<tr><th scope=row>42</th><td>6.486672e-02</td><td>0</td><td>Iowa          </td><td>iowa          </td></tr>\n",
       "\t<tr><th scope=row>45</th><td>9.506137e-01</td><td>1</td><td>Kansas        </td><td>kansas        </td></tr>\n",
       "\t<tr><th scope=row>48</th><td>9.901659e-01</td><td>1</td><td>Kentucky      </td><td>kentucky      </td></tr>\n",
       "\t<tr><th scope=row>51</th><td>9.994949e-01</td><td>1</td><td>Louisiana     </td><td>louisiana     </td></tr>\n",
       "\t<tr><th scope=row>54</th><td>9.382536e-04</td><td>0</td><td>Maine         </td><td>maine         </td></tr>\n",
       "\t<tr><th scope=row>57</th><td>2.431748e-06</td><td>0</td><td>Maryland      </td><td>maryland      </td></tr>\n",
       "\t<tr><th scope=row>60</th><td>1.236970e-07</td><td>0</td><td>Massachusetts </td><td>massachusetts </td></tr>\n",
       "\t<tr><th scope=row>63</th><td>1.770169e-05</td><td>0</td><td>Michigan      </td><td>michigan      </td></tr>\n",
       "\t<tr><th scope=row>66</th><td>4.843047e-04</td><td>0</td><td>Minnesota     </td><td>minnesota     </td></tr>\n",
       "\t<tr><th scope=row>69</th><td>9.325489e-01</td><td>1</td><td>Mississippi   </td><td>mississippi   </td></tr>\n",
       "\t<tr><th scope=row>72</th><td>9.990219e-01</td><td>1</td><td>Missouri      </td><td>missouri      </td></tr>\n",
       "\t<tr><th scope=row>75</th><td>9.986385e-01</td><td>1</td><td>Montana       </td><td>montana       </td></tr>\n",
       "\t<tr><th scope=row>78</th><td>9.998655e-01</td><td>1</td><td>Nebraska      </td><td>nebraska      </td></tr>\n",
       "\t<tr><th scope=row>81</th><td>1.794526e-04</td><td>0</td><td>Nevada        </td><td>nevada        </td></tr>\n",
       "\t<tr><th scope=row>84</th><td>6.651448e-05</td><td>0</td><td>New Hampshire </td><td>new hampshire </td></tr>\n",
       "\t<tr><th scope=row>87</th><td>1.271549e-05</td><td>0</td><td>New Jersey    </td><td>new jersey    </td></tr>\n",
       "\t<tr><th scope=row>90</th><td>1.817186e-03</td><td>0</td><td>New Mexico    </td><td>new mexico    </td></tr>\n",
       "\t<tr><th scope=row>93</th><td>1.254463e-06</td><td>0</td><td>New York      </td><td>new york      </td></tr>\n",
       "\t<tr><th scope=row>96</th><td>9.506205e-01</td><td>1</td><td>North Carolina</td><td>north carolina</td></tr>\n",
       "\t<tr><th scope=row>99</th><td>9.998655e-01</td><td>1</td><td>North Dakota  </td><td>north dakota  </td></tr>\n",
       "\t<tr><th scope=row>102</th><td>2.429650e-06</td><td>0</td><td>Ohio          </td><td>ohio          </td></tr>\n",
       "\t<tr><th scope=row>105</th><td>9.996372e-01</td><td>1</td><td>Oklahoma      </td><td>oklahoma      </td></tr>\n",
       "\t<tr><th scope=row>108</th><td>3.516581e-03</td><td>0</td><td>Oregon        </td><td>oregon        </td></tr>\n",
       "\t<tr><th scope=row>111</th><td>9.256861e-05</td><td>0</td><td>Pennsylvania  </td><td>pennsylvania  </td></tr>\n",
       "\t<tr><th scope=row>114</th><td>4.844091e-04</td><td>0</td><td>Rhode Island  </td><td>rhode island  </td></tr>\n",
       "\t<tr><th scope=row>117</th><td>9.994949e-01</td><td>1</td><td>South Carolina</td><td>south carolina</td></tr>\n",
       "\t<tr><th scope=row>120</th><td>9.949023e-01</td><td>1</td><td>South Dakota  </td><td>south dakota  </td></tr>\n",
       "\t<tr><th scope=row>123</th><td>9.996372e-01</td><td>1</td><td>Tennessee     </td><td>tennessee     </td></tr>\n",
       "\t<tr><th scope=row>126</th><td>9.973641e-01</td><td>1</td><td>Texas         </td><td>texas         </td></tr>\n",
       "\t<tr><th scope=row>129</th><td>9.992969e-01</td><td>1</td><td>Utah          </td><td>utah          </td></tr>\n",
       "\t<tr><th scope=row>134</th><td>1.812516e-02</td><td>0</td><td>Virginia      </td><td>virginia      </td></tr>\n",
       "\t<tr><th scope=row>137</th><td>2.464843e-05</td><td>0</td><td>Washington    </td><td>washington    </td></tr>\n",
       "\t<tr><th scope=row>140</th><td>9.981049e-01</td><td>1</td><td>West Virginia </td><td>west virginia </td></tr>\n",
       "\t<tr><th scope=row>143</th><td>6.739964e-04</td><td>0</td><td>Wisconsin     </td><td>wisconsin     </td></tr>\n",
       "</tbody>\n",
       "</table>\n"
      ],
      "text/latex": [
       "A data.frame: 45 × 4\n",
       "\\begin{tabular}{r|llll}\n",
       "  & TestPrediction & TestPredictionBinary & Test.State & region\\\\\n",
       "  & <dbl> & <dbl> & <fct> & <chr>\\\\\n",
       "\\hline\n",
       "\t7 & 9.739028e-01 & 1 & Arizona        & arizona       \\\\\n",
       "\t10 & 9.994949e-01 & 1 & Arkansas       & arkansas      \\\\\n",
       "\t13 & 9.261522e-05 & 0 & California     & california    \\\\\n",
       "\t16 & 9.432967e-03 & 0 & Colorado       & colorado      \\\\\n",
       "\t19 & 3.431627e-05 & 0 & Connecticut    & connecticut   \\\\\n",
       "\t24 & 9.640395e-01 & 1 & Florida        & florida       \\\\\n",
       "\t27 & 9.901680e-01 & 1 & Georgia        & georgia       \\\\\n",
       "\t30 & 4.779656e-05 & 0 & Hawaii         & hawaii        \\\\\n",
       "\t33 & 9.996372e-01 & 1 & Idaho          & idaho         \\\\\n",
       "\t36 & 9.262188e-05 & 0 & Illinois       & illinois      \\\\\n",
       "\t39 & 9.992970e-01 & 1 & Indiana        & indiana       \\\\\n",
       "\t42 & 6.486672e-02 & 0 & Iowa           & iowa          \\\\\n",
       "\t45 & 9.506137e-01 & 1 & Kansas         & kansas        \\\\\n",
       "\t48 & 9.901659e-01 & 1 & Kentucky       & kentucky      \\\\\n",
       "\t51 & 9.994949e-01 & 1 & Louisiana      & louisiana     \\\\\n",
       "\t54 & 9.382536e-04 & 0 & Maine          & maine         \\\\\n",
       "\t57 & 2.431748e-06 & 0 & Maryland       & maryland      \\\\\n",
       "\t60 & 1.236970e-07 & 0 & Massachusetts  & massachusetts \\\\\n",
       "\t63 & 1.770169e-05 & 0 & Michigan       & michigan      \\\\\n",
       "\t66 & 4.843047e-04 & 0 & Minnesota      & minnesota     \\\\\n",
       "\t69 & 9.325489e-01 & 1 & Mississippi    & mississippi   \\\\\n",
       "\t72 & 9.990219e-01 & 1 & Missouri       & missouri      \\\\\n",
       "\t75 & 9.986385e-01 & 1 & Montana        & montana       \\\\\n",
       "\t78 & 9.998655e-01 & 1 & Nebraska       & nebraska      \\\\\n",
       "\t81 & 1.794526e-04 & 0 & Nevada         & nevada        \\\\\n",
       "\t84 & 6.651448e-05 & 0 & New Hampshire  & new hampshire \\\\\n",
       "\t87 & 1.271549e-05 & 0 & New Jersey     & new jersey    \\\\\n",
       "\t90 & 1.817186e-03 & 0 & New Mexico     & new mexico    \\\\\n",
       "\t93 & 1.254463e-06 & 0 & New York       & new york      \\\\\n",
       "\t96 & 9.506205e-01 & 1 & North Carolina & north carolina\\\\\n",
       "\t99 & 9.998655e-01 & 1 & North Dakota   & north dakota  \\\\\n",
       "\t102 & 2.429650e-06 & 0 & Ohio           & ohio          \\\\\n",
       "\t105 & 9.996372e-01 & 1 & Oklahoma       & oklahoma      \\\\\n",
       "\t108 & 3.516581e-03 & 0 & Oregon         & oregon        \\\\\n",
       "\t111 & 9.256861e-05 & 0 & Pennsylvania   & pennsylvania  \\\\\n",
       "\t114 & 4.844091e-04 & 0 & Rhode Island   & rhode island  \\\\\n",
       "\t117 & 9.994949e-01 & 1 & South Carolina & south carolina\\\\\n",
       "\t120 & 9.949023e-01 & 1 & South Dakota   & south dakota  \\\\\n",
       "\t123 & 9.996372e-01 & 1 & Tennessee      & tennessee     \\\\\n",
       "\t126 & 9.973641e-01 & 1 & Texas          & texas         \\\\\n",
       "\t129 & 9.992969e-01 & 1 & Utah           & utah          \\\\\n",
       "\t134 & 1.812516e-02 & 0 & Virginia       & virginia      \\\\\n",
       "\t137 & 2.464843e-05 & 0 & Washington     & washington    \\\\\n",
       "\t140 & 9.981049e-01 & 1 & West Virginia  & west virginia \\\\\n",
       "\t143 & 6.739964e-04 & 0 & Wisconsin      & wisconsin     \\\\\n",
       "\\end{tabular}\n"
      ],
      "text/markdown": [
       "\n",
       "A data.frame: 45 × 4\n",
       "\n",
       "| <!--/--> | TestPrediction &lt;dbl&gt; | TestPredictionBinary &lt;dbl&gt; | Test.State &lt;fct&gt; | region &lt;chr&gt; |\n",
       "|---|---|---|---|---|\n",
       "| 7 | 9.739028e-01 | 1 | Arizona        | arizona        |\n",
       "| 10 | 9.994949e-01 | 1 | Arkansas       | arkansas       |\n",
       "| 13 | 9.261522e-05 | 0 | California     | california     |\n",
       "| 16 | 9.432967e-03 | 0 | Colorado       | colorado       |\n",
       "| 19 | 3.431627e-05 | 0 | Connecticut    | connecticut    |\n",
       "| 24 | 9.640395e-01 | 1 | Florida        | florida        |\n",
       "| 27 | 9.901680e-01 | 1 | Georgia        | georgia        |\n",
       "| 30 | 4.779656e-05 | 0 | Hawaii         | hawaii         |\n",
       "| 33 | 9.996372e-01 | 1 | Idaho          | idaho          |\n",
       "| 36 | 9.262188e-05 | 0 | Illinois       | illinois       |\n",
       "| 39 | 9.992970e-01 | 1 | Indiana        | indiana        |\n",
       "| 42 | 6.486672e-02 | 0 | Iowa           | iowa           |\n",
       "| 45 | 9.506137e-01 | 1 | Kansas         | kansas         |\n",
       "| 48 | 9.901659e-01 | 1 | Kentucky       | kentucky       |\n",
       "| 51 | 9.994949e-01 | 1 | Louisiana      | louisiana      |\n",
       "| 54 | 9.382536e-04 | 0 | Maine          | maine          |\n",
       "| 57 | 2.431748e-06 | 0 | Maryland       | maryland       |\n",
       "| 60 | 1.236970e-07 | 0 | Massachusetts  | massachusetts  |\n",
       "| 63 | 1.770169e-05 | 0 | Michigan       | michigan       |\n",
       "| 66 | 4.843047e-04 | 0 | Minnesota      | minnesota      |\n",
       "| 69 | 9.325489e-01 | 1 | Mississippi    | mississippi    |\n",
       "| 72 | 9.990219e-01 | 1 | Missouri       | missouri       |\n",
       "| 75 | 9.986385e-01 | 1 | Montana        | montana        |\n",
       "| 78 | 9.998655e-01 | 1 | Nebraska       | nebraska       |\n",
       "| 81 | 1.794526e-04 | 0 | Nevada         | nevada         |\n",
       "| 84 | 6.651448e-05 | 0 | New Hampshire  | new hampshire  |\n",
       "| 87 | 1.271549e-05 | 0 | New Jersey     | new jersey     |\n",
       "| 90 | 1.817186e-03 | 0 | New Mexico     | new mexico     |\n",
       "| 93 | 1.254463e-06 | 0 | New York       | new york       |\n",
       "| 96 | 9.506205e-01 | 1 | North Carolina | north carolina |\n",
       "| 99 | 9.998655e-01 | 1 | North Dakota   | north dakota   |\n",
       "| 102 | 2.429650e-06 | 0 | Ohio           | ohio           |\n",
       "| 105 | 9.996372e-01 | 1 | Oklahoma       | oklahoma       |\n",
       "| 108 | 3.516581e-03 | 0 | Oregon         | oregon         |\n",
       "| 111 | 9.256861e-05 | 0 | Pennsylvania   | pennsylvania   |\n",
       "| 114 | 4.844091e-04 | 0 | Rhode Island   | rhode island   |\n",
       "| 117 | 9.994949e-01 | 1 | South Carolina | south carolina |\n",
       "| 120 | 9.949023e-01 | 1 | South Dakota   | south dakota   |\n",
       "| 123 | 9.996372e-01 | 1 | Tennessee      | tennessee      |\n",
       "| 126 | 9.973641e-01 | 1 | Texas          | texas          |\n",
       "| 129 | 9.992969e-01 | 1 | Utah           | utah           |\n",
       "| 134 | 1.812516e-02 | 0 | Virginia       | virginia       |\n",
       "| 137 | 2.464843e-05 | 0 | Washington     | washington     |\n",
       "| 140 | 9.981049e-01 | 1 | West Virginia  | west virginia  |\n",
       "| 143 | 6.739964e-04 | 0 | Wisconsin      | wisconsin      |\n",
       "\n"
      ],
      "text/plain": [
       "    TestPrediction TestPredictionBinary Test.State     region        \n",
       "7   9.739028e-01   1                    Arizona        arizona       \n",
       "10  9.994949e-01   1                    Arkansas       arkansas      \n",
       "13  9.261522e-05   0                    California     california    \n",
       "16  9.432967e-03   0                    Colorado       colorado      \n",
       "19  3.431627e-05   0                    Connecticut    connecticut   \n",
       "24  9.640395e-01   1                    Florida        florida       \n",
       "27  9.901680e-01   1                    Georgia        georgia       \n",
       "30  4.779656e-05   0                    Hawaii         hawaii        \n",
       "33  9.996372e-01   1                    Idaho          idaho         \n",
       "36  9.262188e-05   0                    Illinois       illinois      \n",
       "39  9.992970e-01   1                    Indiana        indiana       \n",
       "42  6.486672e-02   0                    Iowa           iowa          \n",
       "45  9.506137e-01   1                    Kansas         kansas        \n",
       "48  9.901659e-01   1                    Kentucky       kentucky      \n",
       "51  9.994949e-01   1                    Louisiana      louisiana     \n",
       "54  9.382536e-04   0                    Maine          maine         \n",
       "57  2.431748e-06   0                    Maryland       maryland      \n",
       "60  1.236970e-07   0                    Massachusetts  massachusetts \n",
       "63  1.770169e-05   0                    Michigan       michigan      \n",
       "66  4.843047e-04   0                    Minnesota      minnesota     \n",
       "69  9.325489e-01   1                    Mississippi    mississippi   \n",
       "72  9.990219e-01   1                    Missouri       missouri      \n",
       "75  9.986385e-01   1                    Montana        montana       \n",
       "78  9.998655e-01   1                    Nebraska       nebraska      \n",
       "81  1.794526e-04   0                    Nevada         nevada        \n",
       "84  6.651448e-05   0                    New Hampshire  new hampshire \n",
       "87  1.271549e-05   0                    New Jersey     new jersey    \n",
       "90  1.817186e-03   0                    New Mexico     new mexico    \n",
       "93  1.254463e-06   0                    New York       new york      \n",
       "96  9.506205e-01   1                    North Carolina north carolina\n",
       "99  9.998655e-01   1                    North Dakota   north dakota  \n",
       "102 2.429650e-06   0                    Ohio           ohio          \n",
       "105 9.996372e-01   1                    Oklahoma       oklahoma      \n",
       "108 3.516581e-03   0                    Oregon         oregon        \n",
       "111 9.256861e-05   0                    Pennsylvania   pennsylvania  \n",
       "114 4.844091e-04   0                    Rhode Island   rhode island  \n",
       "117 9.994949e-01   1                    South Carolina south carolina\n",
       "120 9.949023e-01   1                    South Dakota   south dakota  \n",
       "123 9.996372e-01   1                    Tennessee      tennessee     \n",
       "126 9.973641e-01   1                    Texas          texas         \n",
       "129 9.992969e-01   1                    Utah           utah          \n",
       "134 1.812516e-02   0                    Virginia       virginia      \n",
       "137 2.464843e-05   0                    Washington     washington    \n",
       "140 9.981049e-01   1                    West Virginia  west virginia \n",
       "143 6.739964e-04   0                    Wisconsin      wisconsin     "
      ]
     },
     "metadata": {},
     "output_type": "display_data"
    }
   ],
   "source": [
    "predictionDataFrame"
   ]
  },
  {
   "cell_type": "code",
   "execution_count": 21,
   "metadata": {},
   "outputs": [
    {
     "data": {
      "text/html": [
       "6"
      ],
      "text/latex": [
       "6"
      ],
      "text/markdown": [
       "6"
      ],
      "text/plain": [
       "[1] 6"
      ]
     },
     "metadata": {},
     "output_type": "display_data"
    }
   ],
   "source": [
    "which(predictionDataFrame$region==\"florida\")"
   ]
  },
  {
   "cell_type": "code",
   "execution_count": 22,
   "metadata": {},
   "outputs": [
    {
     "data": {
      "text/html": [
       "<table>\n",
       "<caption>A data.frame: 1 × 4</caption>\n",
       "<thead>\n",
       "\t<tr><th></th><th scope=col>TestPrediction</th><th scope=col>TestPredictionBinary</th><th scope=col>Test.State</th><th scope=col>region</th></tr>\n",
       "\t<tr><th></th><th scope=col>&lt;dbl&gt;</th><th scope=col>&lt;dbl&gt;</th><th scope=col>&lt;fct&gt;</th><th scope=col>&lt;chr&gt;</th></tr>\n",
       "</thead>\n",
       "<tbody>\n",
       "\t<tr><th scope=row>24</th><td>0.9640395</td><td>1</td><td>Florida</td><td>florida</td></tr>\n",
       "</tbody>\n",
       "</table>\n"
      ],
      "text/latex": [
       "A data.frame: 1 × 4\n",
       "\\begin{tabular}{r|llll}\n",
       "  & TestPrediction & TestPredictionBinary & Test.State & region\\\\\n",
       "  & <dbl> & <dbl> & <fct> & <chr>\\\\\n",
       "\\hline\n",
       "\t24 & 0.9640395 & 1 & Florida & florida\\\\\n",
       "\\end{tabular}\n"
      ],
      "text/markdown": [
       "\n",
       "A data.frame: 1 × 4\n",
       "\n",
       "| <!--/--> | TestPrediction &lt;dbl&gt; | TestPredictionBinary &lt;dbl&gt; | Test.State &lt;fct&gt; | region &lt;chr&gt; |\n",
       "|---|---|---|---|---|\n",
       "| 24 | 0.9640395 | 1 | Florida | florida |\n",
       "\n"
      ],
      "text/plain": [
       "   TestPrediction TestPredictionBinary Test.State region \n",
       "24 0.9640395      1                    Florida    florida"
      ]
     },
     "metadata": {},
     "output_type": "display_data"
    }
   ],
   "source": [
    "predictionDataFrame[6,]"
   ]
  },
  {
   "cell_type": "code",
   "execution_count": 23,
   "metadata": {},
   "outputs": [
    {
     "data": {
      "text/html": [
       "<table>\n",
       "<caption>A data.frame: 1 × 4</caption>\n",
       "<thead>\n",
       "\t<tr><th></th><th scope=col>TestPrediction</th><th scope=col>TestPredictionBinary</th><th scope=col>Test.State</th><th scope=col>region</th></tr>\n",
       "\t<tr><th></th><th scope=col>&lt;dbl&gt;</th><th scope=col>&lt;dbl&gt;</th><th scope=col>&lt;fct&gt;</th><th scope=col>&lt;chr&gt;</th></tr>\n",
       "</thead>\n",
       "<tbody>\n",
       "\t<tr><th scope=row>24</th><td>0.9640395</td><td>1</td><td>Florida</td><td>florida</td></tr>\n",
       "</tbody>\n",
       "</table>\n"
      ],
      "text/latex": [
       "A data.frame: 1 × 4\n",
       "\\begin{tabular}{r|llll}\n",
       "  & TestPrediction & TestPredictionBinary & Test.State & region\\\\\n",
       "  & <dbl> & <dbl> & <fct> & <chr>\\\\\n",
       "\\hline\n",
       "\t24 & 0.9640395 & 1 & Florida & florida\\\\\n",
       "\\end{tabular}\n"
      ],
      "text/markdown": [
       "\n",
       "A data.frame: 1 × 4\n",
       "\n",
       "| <!--/--> | TestPrediction &lt;dbl&gt; | TestPredictionBinary &lt;dbl&gt; | Test.State &lt;fct&gt; | region &lt;chr&gt; |\n",
       "|---|---|---|---|---|\n",
       "| 24 | 0.9640395 | 1 | Florida | florida |\n",
       "\n"
      ],
      "text/plain": [
       "   TestPrediction TestPredictionBinary Test.State region \n",
       "24 0.9640395      1                    Florida    florida"
      ]
     },
     "metadata": {},
     "output_type": "display_data"
    }
   ],
   "source": [
    "predictionDataFrame[which(predictionDataFrame$region==\"florida\"),]"
   ]
  },
  {
   "cell_type": "markdown",
   "metadata": {},
   "source": [
    "Answer: Predicted Probability = 0.9640395"
   ]
  },
  {
   "cell_type": "markdown",
   "metadata": {},
   "source": [
    "**What does this imply?**"
   ]
  },
  {
   "cell_type": "markdown",
   "metadata": {},
   "source": [
    "Our prediction model did not do a very good job of correctly predicting the state of Florida, and we were very confident in our incorrect prediction."
   ]
  },
  {
   "cell_type": "markdown",
   "metadata": {},
   "source": [
    "### Problem 4 - Parameter Settings\n",
    "In this part, we'll explore what the different parameter settings of geom_polygon do. Throughout the problem, use the help page for geom_polygon, which can be accessed by ?geom_polygon. To see more information about a certain parameter, just type a question mark and then the parameter name to get the help page for that parameter. Experiment with different parameter settings to try and replicate the plots!\n",
    "\n",
    "We'll be asking questions about the following three plots:"
   ]
  },
  {
   "cell_type": "markdown",
   "metadata": {},
   "source": [
    "### Plot (1)"
   ]
  },
  {
   "cell_type": "markdown",
   "metadata": {},
   "source": [
    "<img src=\"images/ElectionForecastingMap1.png\"/>"
   ]
  },
  {
   "cell_type": "code",
   "execution_count": 24,
   "metadata": {},
   "outputs": [
    {
     "data": {
      "image/png": "[encoded data removed]",
      "text/plain": [
       "plot without title"
      ]
     },
     "metadata": {
      "image/png": {
       "height": 420,
       "width": 420
      },
      "text/plain": {
       "height": 420,
       "width": 420
      }
     },
     "output_type": "display_data"
    }
   ],
   "source": [
    "# Plot 1\n",
    "ggplot(predictionMap, aes(x = long, y = lat, group = group, fill = TestPrediction))+ \n",
    "                geom_polygon(color = \"black\", linetype=3) + \n",
    "                scale_fill_gradient(low = \"blue\", high = \"red\", guide = \"legend\", breaks= c(0,1), \n",
    "                                    labels = c(\"Democrat\", \"Republican\"), name = \"Prediction 2012\")"
   ]
  },
  {
   "cell_type": "markdown",
   "metadata": {},
   "source": [
    "### Plot (2)"
   ]
  },
  {
   "cell_type": "markdown",
   "metadata": {},
   "source": [
    "<img src=\"images/ElectionForecastingMap2.png\"/>"
   ]
  },
  {
   "cell_type": "code",
   "execution_count": 25,
   "metadata": {},
   "outputs": [
    {
     "data": {
      "image/png": "[encoded data removed]",
      "text/plain": [
       "plot without title"
      ]
     },
     "metadata": {
      "image/png": {
       "height": 420,
       "width": 420
      },
      "text/plain": {
       "height": 420,
       "width": 420
      }
     },
     "output_type": "display_data"
    }
   ],
   "source": [
    "# Plot 2\n",
    "ggplot(predictionMap, aes(x = long, y = lat, group = group, fill = TestPrediction))+ \n",
    "                geom_polygon(color = \"black\", size=3) + \n",
    "                scale_fill_gradient(low = \"blue\", high = \"red\", guide = \"legend\", breaks= c(0,1), \n",
    "                                    labels = c(\"Democrat\", \"Republican\"), name = \"Prediction 2012\")"
   ]
  },
  {
   "cell_type": "markdown",
   "metadata": {},
   "source": [
    "### Plot (3)"
   ]
  },
  {
   "cell_type": "markdown",
   "metadata": {},
   "source": [
    "<img src=\"images/ElectionForecastingMap3.png\"/>"
   ]
  },
  {
   "cell_type": "code",
   "execution_count": 26,
   "metadata": {},
   "outputs": [
    {
     "data": {
      "image/png": "[encoded data removed]",
      "text/plain": [
       "plot without title"
      ]
     },
     "metadata": {
      "image/png": {
       "height": 420,
       "width": 420
      },
      "text/plain": {
       "height": 420,
       "width": 420
      }
     },
     "output_type": "display_data"
    }
   ],
   "source": [
    "# Plot 3\n",
    "ggplot(predictionMap, aes(x = long, y = lat, group = group, fill = TestPrediction))+ \n",
    "                    geom_polygon(color = \"black\", alpha=0.3) + \n",
    "                    scale_fill_gradient(low = \"blue\", high = \"red\", guide = \"legend\", breaks= c(0,1), \n",
    "                                        labels = c(\"Democrat\", \"Republican\"), name = \"Prediction 2012\")"
   ]
  },
  {
   "cell_type": "markdown",
   "metadata": {},
   "source": [
    "### Problem 4.1 - Parameter Settings\n",
    "Plots (1) and (2) were created by setting different parameters of geom_polygon to the value 3.\n",
    "\n",
    "**What is the name of the parameter we set to have value 3 to create plot (1)?**"
   ]
  },
  {
   "cell_type": "markdown",
   "metadata": {},
   "source": [
    "Answer: linetype"
   ]
  },
  {
   "cell_type": "markdown",
   "metadata": {},
   "source": [
    "**What is the name of the parameter we set to have value 3 to create plot (2)?**"
   ]
  },
  {
   "cell_type": "markdown",
   "metadata": {},
   "source": [
    "Answer: size"
   ]
  },
  {
   "cell_type": "markdown",
   "metadata": {},
   "source": [
    "### Problem 4.2 - Parameter Settings\n",
    "Plot (3) was created by changing the value of a different geom_polygon parameter to have value 0.3. **Which parameter did we use?**"
   ]
  },
  {
   "cell_type": "markdown",
   "metadata": {},
   "source": [
    "Answer: alpha"
   ]
  }
 ],
 "metadata": {
  "kernelspec": {
   "display_name": "R",
   "language": "R",
   "name": "ir"
  },
  "language_info": {
   "codemirror_mode": "r",
   "file_extension": ".r",
   "mimetype": "text/x-r-source",
   "name": "R",
   "pygments_lexer": "r",
   "version": "3.6.3"
  }
 },
 "nbformat": 4,
 "nbformat_minor": 4
}
