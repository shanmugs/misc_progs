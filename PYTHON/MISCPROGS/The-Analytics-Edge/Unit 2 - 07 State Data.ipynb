{
 "cells": [
  {
   "cell_type": "markdown",
   "metadata": {},
   "source": [
    "# State Data"
   ]
  },
  {
   "cell_type": "markdown",
   "metadata": {},
   "source": [
    "We often take data for granted. However, one of the hardest parts about analyzing a problem you're interested in can be to find good data to answer the questions you want to ask. As you're learning R, though, there are many datasets that R has built in that you can take advantage of.\n",
    "\n",
    "In this problem, we will be examining the \"state\" dataset, which has data from the 1970s on all fifty US states. For each state, the dataset includes the population, per capita income, illiteracy rate, murder rate, high school graduation rate, average number of frost days, area, latitude and longitude, division the state belongs to, region the state belongs to, and two-letter abbreviation."
   ]
  },
  {
   "cell_type": "markdown",
   "metadata": {},
   "source": [
    "<img src=\"images/all_states_lrg.png\"/>"
   ]
  },
  {
   "cell_type": "markdown",
   "metadata": {},
   "source": [
    "This dataset has 50 observations (one for each US state) and the following 15 variables:\n",
    "\n",
    "\n",
    "    Population - the population estimate of the state in 1975\n",
    "\n",
    "    Income - per capita income in 1974\n",
    "\n",
    "    Illiteracy - illiteracy rates in 1970, as a percent of the population\n",
    "\n",
    "    Life.Exp - the life expectancy in years of residents of the state in 1970\n",
    "\n",
    "    Murder - the murder and non-negligent manslaughter rate per 100,000 population in 1976\n",
    "\n",
    "    HS.Grad - percent of high-school graduates in 1970\n",
    "\n",
    "    Frost - the mean number of days with minimum temperature below freezing from 1931–1960 in the capital or a large city of the state\n",
    "\n",
    "    Area - the land area (in square miles) of the state\n",
    "\n",
    "    state.abb - a 2-letter abreviation for each state\n",
    "\n",
    "    state.area - the area of each state, in square miles\n",
    "\n",
    "    x - the longitude of the center of the state\n",
    "\n",
    "    y - the latitude of the center of the state\n",
    "\n",
    "    state.division - the division each state belongs to (New England, Middle Atlantic, South Atlantic, East South Central, West South Central, East North Central, West North Central, Mountain, or Pacific)\n",
    "\n",
    "    state.name - the full names of each state\n",
    "\n",
    "    state.region - the region each state belong to (Northeast, South, North Central, or West)"
   ]
  },
  {
   "cell_type": "markdown",
   "metadata": {},
   "source": [
    "### Problem 1.1 - Data Exploration\n",
    "\n",
    "We begin by exploring the data. Plot all of the states' centers with latitude on the y axis (the \"y\" variable in our dataset) and longitude on the x axis (the \"x\" variable in our dataset). The shape of the plot should look like the outline of the United States! Note that Alaska and Hawaii have had their coordinates adjusted to appear just off of the west coast.\n",
    "\n",
    "In the R command you used to generate this plot, which variable name did you use as the first argument?"
   ]
  },
  {
   "cell_type": "code",
   "execution_count": 1,
   "metadata": {},
   "outputs": [],
   "source": [
    "data(state)\n",
    "\n",
    "statedata = cbind(data.frame(state.x77), state.abb, state.area, state.center,  state.division, state.name, state.region)"
   ]
  },
  {
   "cell_type": "code",
   "execution_count": 2,
   "metadata": {},
   "outputs": [
    {
     "data": {
      "text/html": [
       "<table>\n",
       "<caption>A data.frame: 6 × 15</caption>\n",
       "<thead>\n",
       "\t<tr><th></th><th scope=col>Population</th><th scope=col>Income</th><th scope=col>Illiteracy</th><th scope=col>Life.Exp</th><th scope=col>Murder</th><th scope=col>HS.Grad</th><th scope=col>Frost</th><th scope=col>Area</th><th scope=col>state.abb</th><th scope=col>state.area</th><th scope=col>x</th><th scope=col>y</th><th scope=col>state.division</th><th scope=col>state.name</th><th scope=col>state.region</th></tr>\n",
       "\t<tr><th></th><th scope=col>&lt;dbl&gt;</th><th scope=col>&lt;dbl&gt;</th><th scope=col>&lt;dbl&gt;</th><th scope=col>&lt;dbl&gt;</th><th scope=col>&lt;dbl&gt;</th><th scope=col>&lt;dbl&gt;</th><th scope=col>&lt;dbl&gt;</th><th scope=col>&lt;dbl&gt;</th><th scope=col>&lt;fct&gt;</th><th scope=col>&lt;dbl&gt;</th><th scope=col>&lt;dbl&gt;</th><th scope=col>&lt;dbl&gt;</th><th scope=col>&lt;fct&gt;</th><th scope=col>&lt;fct&gt;</th><th scope=col>&lt;fct&gt;</th></tr>\n",
       "</thead>\n",
       "<tbody>\n",
       "\t<tr><th scope=row>Alabama</th><td> 3615</td><td>3624</td><td>2.1</td><td>69.05</td><td>15.1</td><td>41.3</td><td> 20</td><td> 50708</td><td>AL</td><td> 51609</td><td> -86.7509</td><td>32.5901</td><td>East South Central</td><td>Alabama   </td><td>South</td></tr>\n",
       "\t<tr><th scope=row>Alaska</th><td>  365</td><td>6315</td><td>1.5</td><td>69.31</td><td>11.3</td><td>66.7</td><td>152</td><td>566432</td><td>AK</td><td>589757</td><td>-127.2500</td><td>49.2500</td><td>Pacific           </td><td>Alaska    </td><td>West </td></tr>\n",
       "\t<tr><th scope=row>Arizona</th><td> 2212</td><td>4530</td><td>1.8</td><td>70.55</td><td> 7.8</td><td>58.1</td><td> 15</td><td>113417</td><td>AZ</td><td>113909</td><td>-111.6250</td><td>34.2192</td><td>Mountain          </td><td>Arizona   </td><td>West </td></tr>\n",
       "\t<tr><th scope=row>Arkansas</th><td> 2110</td><td>3378</td><td>1.9</td><td>70.66</td><td>10.1</td><td>39.9</td><td> 65</td><td> 51945</td><td>AR</td><td> 53104</td><td> -92.2992</td><td>34.7336</td><td>West South Central</td><td>Arkansas  </td><td>South</td></tr>\n",
       "\t<tr><th scope=row>California</th><td>21198</td><td>5114</td><td>1.1</td><td>71.71</td><td>10.3</td><td>62.6</td><td> 20</td><td>156361</td><td>CA</td><td>158693</td><td>-119.7730</td><td>36.5341</td><td>Pacific           </td><td>California</td><td>West </td></tr>\n",
       "\t<tr><th scope=row>Colorado</th><td> 2541</td><td>4884</td><td>0.7</td><td>72.06</td><td> 6.8</td><td>63.9</td><td>166</td><td>103766</td><td>CO</td><td>104247</td><td>-105.5130</td><td>38.6777</td><td>Mountain          </td><td>Colorado  </td><td>West </td></tr>\n",
       "</tbody>\n",
       "</table>\n"
      ],
      "text/latex": [
       "A data.frame: 6 × 15\n",
       "\\begin{tabular}{r|lllllllllllllll}\n",
       "  & Population & Income & Illiteracy & Life.Exp & Murder & HS.Grad & Frost & Area & state.abb & state.area & x & y & state.division & state.name & state.region\\\\\n",
       "  & <dbl> & <dbl> & <dbl> & <dbl> & <dbl> & <dbl> & <dbl> & <dbl> & <fct> & <dbl> & <dbl> & <dbl> & <fct> & <fct> & <fct>\\\\\n",
       "\\hline\n",
       "\tAlabama &  3615 & 3624 & 2.1 & 69.05 & 15.1 & 41.3 &  20 &  50708 & AL &  51609 &  -86.7509 & 32.5901 & East South Central & Alabama    & South\\\\\n",
       "\tAlaska &   365 & 6315 & 1.5 & 69.31 & 11.3 & 66.7 & 152 & 566432 & AK & 589757 & -127.2500 & 49.2500 & Pacific            & Alaska     & West \\\\\n",
       "\tArizona &  2212 & 4530 & 1.8 & 70.55 &  7.8 & 58.1 &  15 & 113417 & AZ & 113909 & -111.6250 & 34.2192 & Mountain           & Arizona    & West \\\\\n",
       "\tArkansas &  2110 & 3378 & 1.9 & 70.66 & 10.1 & 39.9 &  65 &  51945 & AR &  53104 &  -92.2992 & 34.7336 & West South Central & Arkansas   & South\\\\\n",
       "\tCalifornia & 21198 & 5114 & 1.1 & 71.71 & 10.3 & 62.6 &  20 & 156361 & CA & 158693 & -119.7730 & 36.5341 & Pacific            & California & West \\\\\n",
       "\tColorado &  2541 & 4884 & 0.7 & 72.06 &  6.8 & 63.9 & 166 & 103766 & CO & 104247 & -105.5130 & 38.6777 & Mountain           & Colorado   & West \\\\\n",
       "\\end{tabular}\n"
      ],
      "text/markdown": [
       "\n",
       "A data.frame: 6 × 15\n",
       "\n",
       "| <!--/--> | Population &lt;dbl&gt; | Income &lt;dbl&gt; | Illiteracy &lt;dbl&gt; | Life.Exp &lt;dbl&gt; | Murder &lt;dbl&gt; | HS.Grad &lt;dbl&gt; | Frost &lt;dbl&gt; | Area &lt;dbl&gt; | state.abb &lt;fct&gt; | state.area &lt;dbl&gt; | x &lt;dbl&gt; | y &lt;dbl&gt; | state.division &lt;fct&gt; | state.name &lt;fct&gt; | state.region &lt;fct&gt; |\n",
       "|---|---|---|---|---|---|---|---|---|---|---|---|---|---|---|---|\n",
       "| Alabama |  3615 | 3624 | 2.1 | 69.05 | 15.1 | 41.3 |  20 |  50708 | AL |  51609 |  -86.7509 | 32.5901 | East South Central | Alabama    | South |\n",
       "| Alaska |   365 | 6315 | 1.5 | 69.31 | 11.3 | 66.7 | 152 | 566432 | AK | 589757 | -127.2500 | 49.2500 | Pacific            | Alaska     | West  |\n",
       "| Arizona |  2212 | 4530 | 1.8 | 70.55 |  7.8 | 58.1 |  15 | 113417 | AZ | 113909 | -111.6250 | 34.2192 | Mountain           | Arizona    | West  |\n",
       "| Arkansas |  2110 | 3378 | 1.9 | 70.66 | 10.1 | 39.9 |  65 |  51945 | AR |  53104 |  -92.2992 | 34.7336 | West South Central | Arkansas   | South |\n",
       "| California | 21198 | 5114 | 1.1 | 71.71 | 10.3 | 62.6 |  20 | 156361 | CA | 158693 | -119.7730 | 36.5341 | Pacific            | California | West  |\n",
       "| Colorado |  2541 | 4884 | 0.7 | 72.06 |  6.8 | 63.9 | 166 | 103766 | CO | 104247 | -105.5130 | 38.6777 | Mountain           | Colorado   | West  |\n",
       "\n"
      ],
      "text/plain": [
       "           Population Income Illiteracy Life.Exp Murder HS.Grad Frost Area  \n",
       "Alabama     3615      3624   2.1        69.05    15.1   41.3     20    50708\n",
       "Alaska       365      6315   1.5        69.31    11.3   66.7    152   566432\n",
       "Arizona     2212      4530   1.8        70.55     7.8   58.1     15   113417\n",
       "Arkansas    2110      3378   1.9        70.66    10.1   39.9     65    51945\n",
       "California 21198      5114   1.1        71.71    10.3   62.6     20   156361\n",
       "Colorado    2541      4884   0.7        72.06     6.8   63.9    166   103766\n",
       "           state.abb state.area x         y       state.division     state.name\n",
       "Alabama    AL         51609      -86.7509 32.5901 East South Central Alabama   \n",
       "Alaska     AK        589757     -127.2500 49.2500 Pacific            Alaska    \n",
       "Arizona    AZ        113909     -111.6250 34.2192 Mountain           Arizona   \n",
       "Arkansas   AR         53104      -92.2992 34.7336 West South Central Arkansas  \n",
       "California CA        158693     -119.7730 36.5341 Pacific            California\n",
       "Colorado   CO        104247     -105.5130 38.6777 Mountain           Colorado  \n",
       "           state.region\n",
       "Alabama    South       \n",
       "Alaska     West        \n",
       "Arizona    West        \n",
       "Arkansas   South       \n",
       "California West        \n",
       "Colorado   West        "
      ]
     },
     "metadata": {},
     "output_type": "display_data"
    }
   ],
   "source": [
    "head(statedata)"
   ]
  },
  {
   "cell_type": "code",
   "execution_count": 3,
   "metadata": {},
   "outputs": [
    {
     "name": "stdout",
     "output_type": "stream",
     "text": [
      "'data.frame':\t50 obs. of  15 variables:\n",
      " $ Population    : num  3615 365 2212 2110 21198 ...\n",
      " $ Income        : num  3624 6315 4530 3378 5114 ...\n",
      " $ Illiteracy    : num  2.1 1.5 1.8 1.9 1.1 0.7 1.1 0.9 1.3 2 ...\n",
      " $ Life.Exp      : num  69 69.3 70.5 70.7 71.7 ...\n",
      " $ Murder        : num  15.1 11.3 7.8 10.1 10.3 6.8 3.1 6.2 10.7 13.9 ...\n",
      " $ HS.Grad       : num  41.3 66.7 58.1 39.9 62.6 63.9 56 54.6 52.6 40.6 ...\n",
      " $ Frost         : num  20 152 15 65 20 166 139 103 11 60 ...\n",
      " $ Area          : num  50708 566432 113417 51945 156361 ...\n",
      " $ state.abb     : Factor w/ 50 levels \"AK\",\"AL\",\"AR\",..: 2 1 4 3 5 6 7 8 9 10 ...\n",
      " $ state.area    : num  51609 589757 113909 53104 158693 ...\n",
      " $ x             : num  -86.8 -127.2 -111.6 -92.3 -119.8 ...\n",
      " $ y             : num  32.6 49.2 34.2 34.7 36.5 ...\n",
      " $ state.division: Factor w/ 9 levels \"New England\",..: 4 9 8 5 9 8 1 3 3 3 ...\n",
      " $ state.name    : Factor w/ 50 levels \"Alabama\",\"Alaska\",..: 1 2 3 4 5 6 7 8 9 10 ...\n",
      " $ state.region  : Factor w/ 4 levels \"Northeast\",\"South\",..: 2 4 4 2 4 4 1 2 2 2 ...\n"
     ]
    }
   ],
   "source": [
    "str(statedata)"
   ]
  },
  {
   "cell_type": "code",
   "execution_count": 4,
   "metadata": {},
   "outputs": [
    {
     "data": {
      "image/png": "[encoded data removed]",
      "text/plain": [
       "Plot with title \"States by Longitude and Latitude\""
      ]
     },
     "metadata": {
      "image/png": {
       "height": 480,
       "width": 720
      },
      "text/plain": {
       "height": 480,
       "width": 720
      }
     },
     "output_type": "display_data"
    }
   ],
   "source": [
    "options(repr.plot.width=12, repr.plot.height=8)\n",
    "plot(statedata$x, statedata$y, main = \"States by Longitude and Latitude\",xlab='Longitude',ylab='Latitude')"
   ]
  },
  {
   "cell_type": "markdown",
   "metadata": {},
   "source": [
    "### Problem 1.2 - Data Exploration\n",
    "\n",
    "Using the tapply command, determine which region of the US (West, North Central, South, or Northeast) has the highest average high school graduation rate of all the states in the region:"
   ]
  },
  {
   "cell_type": "code",
   "execution_count": 5,
   "metadata": {},
   "outputs": [
    {
     "data": {
      "text/html": [
       "<style>\n",
       ".dl-inline {width: auto; margin:0; padding: 0}\n",
       ".dl-inline>dt, .dl-inline>dd {float: none; width: auto; display: inline-block}\n",
       ".dl-inline>dt::after {content: \":\\0020\"; padding-right: .5ex}\n",
       ".dl-inline>dt:not(:first-of-type) {padding-left: .5ex}\n",
       "</style><dl class=dl-inline><dt>Northeast</dt><dd>53.9666666666667</dd><dt>South</dt><dd>44.34375</dd><dt>North Central</dt><dd>54.5166666666667</dd><dt>West</dt><dd>62</dd></dl>\n"
      ],
      "text/latex": [
       "\\begin{description*}\n",
       "\\item[Northeast] 53.9666666666667\n",
       "\\item[South] 44.34375\n",
       "\\item[North Central] 54.5166666666667\n",
       "\\item[West] 62\n",
       "\\end{description*}\n"
      ],
      "text/markdown": [
       "Northeast\n",
       ":   53.9666666666667South\n",
       ":   44.34375North Central\n",
       ":   54.5166666666667West\n",
       ":   62\n",
       "\n"
      ],
      "text/plain": [
       "    Northeast         South North Central          West \n",
       "     53.96667      44.34375      54.51667      62.00000 "
      ]
     },
     "metadata": {},
     "output_type": "display_data"
    }
   ],
   "source": [
    "tapply(statedata$HS.Grad, statedata$state.region, mean)"
   ]
  },
  {
   "cell_type": "markdown",
   "metadata": {},
   "source": [
    "Answer: West"
   ]
  },
  {
   "cell_type": "markdown",
   "metadata": {},
   "source": [
    "### Problem 1.3 - Data Exploration\n",
    "\n",
    "Now, make a boxplot of the murder rate by region (for more information about creating boxplots in R, type ?boxplot in your console).\n",
    "\n",
    "Which region has the highest median murder rate?"
   ]
  },
  {
   "cell_type": "code",
   "execution_count": 6,
   "metadata": {},
   "outputs": [
    {
     "data": {
      "image/png": "[encoded data removed]",
      "text/plain": [
       "Plot with title \"Murder Rate by Region\""
      ]
     },
     "metadata": {
      "image/png": {
       "height": 480,
       "width": 720
      },
      "text/plain": {
       "height": 480,
       "width": 720
      }
     },
     "output_type": "display_data"
    }
   ],
   "source": [
    "boxplot(Murder ~ state.region, statedata, main = \"Murder Rate by Region\")"
   ]
  },
  {
   "cell_type": "markdown",
   "metadata": {},
   "source": [
    "Answer: South"
   ]
  },
  {
   "cell_type": "markdown",
   "metadata": {},
   "source": [
    "### Problem 1.4 - Data Exploration\n",
    "\n",
    "You should see that there is an outlier in the Northeast region of the boxplot you just generated. Which state does this correspond to? (Hint: There are many ways to find the answer to this question, but one way is to use the subset command to only look at the Northeast data.)"
   ]
  },
  {
   "cell_type": "code",
   "execution_count": 7,
   "metadata": {},
   "outputs": [
    {
     "data": {
      "text/html": [
       "<table>\n",
       "<caption>A data.frame: 6 × 15</caption>\n",
       "<thead>\n",
       "\t<tr><th></th><th scope=col>Population</th><th scope=col>Income</th><th scope=col>Illiteracy</th><th scope=col>Life.Exp</th><th scope=col>Murder</th><th scope=col>HS.Grad</th><th scope=col>Frost</th><th scope=col>Area</th><th scope=col>state.abb</th><th scope=col>state.area</th><th scope=col>x</th><th scope=col>y</th><th scope=col>state.division</th><th scope=col>state.name</th><th scope=col>state.region</th></tr>\n",
       "\t<tr><th></th><th scope=col>&lt;dbl&gt;</th><th scope=col>&lt;dbl&gt;</th><th scope=col>&lt;dbl&gt;</th><th scope=col>&lt;dbl&gt;</th><th scope=col>&lt;dbl&gt;</th><th scope=col>&lt;dbl&gt;</th><th scope=col>&lt;dbl&gt;</th><th scope=col>&lt;dbl&gt;</th><th scope=col>&lt;fct&gt;</th><th scope=col>&lt;dbl&gt;</th><th scope=col>&lt;dbl&gt;</th><th scope=col>&lt;dbl&gt;</th><th scope=col>&lt;fct&gt;</th><th scope=col>&lt;fct&gt;</th><th scope=col>&lt;fct&gt;</th></tr>\n",
       "</thead>\n",
       "<tbody>\n",
       "\t<tr><th scope=row>Massachusetts</th><td> 5814</td><td>4755</td><td>1.1</td><td>71.83</td><td> 3.3</td><td>58.5</td><td>103</td><td> 7826</td><td>MA</td><td> 8257</td><td>-71.5800</td><td>42.3645</td><td>New England    </td><td>Massachusetts</td><td>Northeast</td></tr>\n",
       "\t<tr><th scope=row>New Hampshire</th><td>  812</td><td>4281</td><td>0.7</td><td>71.23</td><td> 3.3</td><td>57.6</td><td>174</td><td> 9027</td><td>NH</td><td> 9304</td><td>-71.3924</td><td>43.3934</td><td>New England    </td><td>New Hampshire</td><td>Northeast</td></tr>\n",
       "\t<tr><th scope=row>New Jersey</th><td> 7333</td><td>5237</td><td>1.1</td><td>70.93</td><td> 5.2</td><td>52.5</td><td>115</td><td> 7521</td><td>NJ</td><td> 7836</td><td>-74.2336</td><td>39.9637</td><td>Middle Atlantic</td><td>New Jersey   </td><td>Northeast</td></tr>\n",
       "\t<tr><th scope=row>Vermont</th><td>  472</td><td>3907</td><td>0.6</td><td>71.64</td><td> 5.5</td><td>57.1</td><td>168</td><td> 9267</td><td>VT</td><td> 9609</td><td>-72.5450</td><td>44.2508</td><td>New England    </td><td>Vermont      </td><td>Northeast</td></tr>\n",
       "\t<tr><th scope=row>Pennsylvania</th><td>11860</td><td>4449</td><td>1.0</td><td>70.43</td><td> 6.1</td><td>50.2</td><td>126</td><td>44966</td><td>PA</td><td>45333</td><td>-77.4500</td><td>40.9069</td><td>Middle Atlantic</td><td>Pennsylvania </td><td>Northeast</td></tr>\n",
       "\t<tr><th scope=row>New York</th><td>18076</td><td>4903</td><td>1.4</td><td>70.55</td><td>10.9</td><td>52.7</td><td> 82</td><td>47831</td><td>NY</td><td>49576</td><td>-75.1449</td><td>43.1361</td><td>Middle Atlantic</td><td>New York     </td><td>Northeast</td></tr>\n",
       "</tbody>\n",
       "</table>\n"
      ],
      "text/latex": [
       "A data.frame: 6 × 15\n",
       "\\begin{tabular}{r|lllllllllllllll}\n",
       "  & Population & Income & Illiteracy & Life.Exp & Murder & HS.Grad & Frost & Area & state.abb & state.area & x & y & state.division & state.name & state.region\\\\\n",
       "  & <dbl> & <dbl> & <dbl> & <dbl> & <dbl> & <dbl> & <dbl> & <dbl> & <fct> & <dbl> & <dbl> & <dbl> & <fct> & <fct> & <fct>\\\\\n",
       "\\hline\n",
       "\tMassachusetts &  5814 & 4755 & 1.1 & 71.83 &  3.3 & 58.5 & 103 &  7826 & MA &  8257 & -71.5800 & 42.3645 & New England     & Massachusetts & Northeast\\\\\n",
       "\tNew Hampshire &   812 & 4281 & 0.7 & 71.23 &  3.3 & 57.6 & 174 &  9027 & NH &  9304 & -71.3924 & 43.3934 & New England     & New Hampshire & Northeast\\\\\n",
       "\tNew Jersey &  7333 & 5237 & 1.1 & 70.93 &  5.2 & 52.5 & 115 &  7521 & NJ &  7836 & -74.2336 & 39.9637 & Middle Atlantic & New Jersey    & Northeast\\\\\n",
       "\tVermont &   472 & 3907 & 0.6 & 71.64 &  5.5 & 57.1 & 168 &  9267 & VT &  9609 & -72.5450 & 44.2508 & New England     & Vermont       & Northeast\\\\\n",
       "\tPennsylvania & 11860 & 4449 & 1.0 & 70.43 &  6.1 & 50.2 & 126 & 44966 & PA & 45333 & -77.4500 & 40.9069 & Middle Atlantic & Pennsylvania  & Northeast\\\\\n",
       "\tNew York & 18076 & 4903 & 1.4 & 70.55 & 10.9 & 52.7 &  82 & 47831 & NY & 49576 & -75.1449 & 43.1361 & Middle Atlantic & New York      & Northeast\\\\\n",
       "\\end{tabular}\n"
      ],
      "text/markdown": [
       "\n",
       "A data.frame: 6 × 15\n",
       "\n",
       "| <!--/--> | Population &lt;dbl&gt; | Income &lt;dbl&gt; | Illiteracy &lt;dbl&gt; | Life.Exp &lt;dbl&gt; | Murder &lt;dbl&gt; | HS.Grad &lt;dbl&gt; | Frost &lt;dbl&gt; | Area &lt;dbl&gt; | state.abb &lt;fct&gt; | state.area &lt;dbl&gt; | x &lt;dbl&gt; | y &lt;dbl&gt; | state.division &lt;fct&gt; | state.name &lt;fct&gt; | state.region &lt;fct&gt; |\n",
       "|---|---|---|---|---|---|---|---|---|---|---|---|---|---|---|---|\n",
       "| Massachusetts |  5814 | 4755 | 1.1 | 71.83 |  3.3 | 58.5 | 103 |  7826 | MA |  8257 | -71.5800 | 42.3645 | New England     | Massachusetts | Northeast |\n",
       "| New Hampshire |   812 | 4281 | 0.7 | 71.23 |  3.3 | 57.6 | 174 |  9027 | NH |  9304 | -71.3924 | 43.3934 | New England     | New Hampshire | Northeast |\n",
       "| New Jersey |  7333 | 5237 | 1.1 | 70.93 |  5.2 | 52.5 | 115 |  7521 | NJ |  7836 | -74.2336 | 39.9637 | Middle Atlantic | New Jersey    | Northeast |\n",
       "| Vermont |   472 | 3907 | 0.6 | 71.64 |  5.5 | 57.1 | 168 |  9267 | VT |  9609 | -72.5450 | 44.2508 | New England     | Vermont       | Northeast |\n",
       "| Pennsylvania | 11860 | 4449 | 1.0 | 70.43 |  6.1 | 50.2 | 126 | 44966 | PA | 45333 | -77.4500 | 40.9069 | Middle Atlantic | Pennsylvania  | Northeast |\n",
       "| New York | 18076 | 4903 | 1.4 | 70.55 | 10.9 | 52.7 |  82 | 47831 | NY | 49576 | -75.1449 | 43.1361 | Middle Atlantic | New York      | Northeast |\n",
       "\n"
      ],
      "text/plain": [
       "              Population Income Illiteracy Life.Exp Murder HS.Grad Frost Area \n",
       "Massachusetts  5814      4755   1.1        71.83     3.3   58.5    103    7826\n",
       "New Hampshire   812      4281   0.7        71.23     3.3   57.6    174    9027\n",
       "New Jersey     7333      5237   1.1        70.93     5.2   52.5    115    7521\n",
       "Vermont         472      3907   0.6        71.64     5.5   57.1    168    9267\n",
       "Pennsylvania  11860      4449   1.0        70.43     6.1   50.2    126   44966\n",
       "New York      18076      4903   1.4        70.55    10.9   52.7     82   47831\n",
       "              state.abb state.area x        y       state.division \n",
       "Massachusetts MA         8257      -71.5800 42.3645 New England    \n",
       "New Hampshire NH         9304      -71.3924 43.3934 New England    \n",
       "New Jersey    NJ         7836      -74.2336 39.9637 Middle Atlantic\n",
       "Vermont       VT         9609      -72.5450 44.2508 New England    \n",
       "Pennsylvania  PA        45333      -77.4500 40.9069 Middle Atlantic\n",
       "New York      NY        49576      -75.1449 43.1361 Middle Atlantic\n",
       "              state.name    state.region\n",
       "Massachusetts Massachusetts Northeast   \n",
       "New Hampshire New Hampshire Northeast   \n",
       "New Jersey    New Jersey    Northeast   \n",
       "Vermont       Vermont       Northeast   \n",
       "Pennsylvania  Pennsylvania  Northeast   \n",
       "New York      New York      Northeast   "
      ]
     },
     "metadata": {},
     "output_type": "display_data"
    }
   ],
   "source": [
    "t = subset(statedata, state.region=='Northeast')\n",
    "tail(t[with(t, order(Murder)), ])"
   ]
  },
  {
   "cell_type": "markdown",
   "metadata": {},
   "source": [
    "Answer: New York"
   ]
  },
  {
   "cell_type": "markdown",
   "metadata": {},
   "source": [
    "### Problem 2.1 - Predicting Life Expectancy - An Initial Model\n",
    "\n",
    "We would like to build a model to predict life expectancy by state using the state statistics we have in our dataset.\n",
    "\n",
    "Build the model with all potential variables included (Population, Income, Illiteracy, Murder, HS.Grad, Frost, and Area). Note that you should use the variable \"Area\" in your model, NOT the variable \"state.area\".\n",
    "\n",
    "What is the coefficient for \"Income\" in your linear regression model?"
   ]
  },
  {
   "cell_type": "code",
   "execution_count": 8,
   "metadata": {},
   "outputs": [
    {
     "data": {
      "text/plain": [
       "\n",
       "Call:\n",
       "lm(formula = Life.Exp ~ Population + Income + Illiteracy + Murder + \n",
       "    HS.Grad + Frost + Area, data = statedata)\n",
       "\n",
       "Residuals:\n",
       "     Min       1Q   Median       3Q      Max \n",
       "-1.48895 -0.51232 -0.02747  0.57002  1.49447 \n",
       "\n",
       "Coefficients:\n",
       "              Estimate Std. Error t value Pr(>|t|)    \n",
       "(Intercept)  7.094e+01  1.748e+00  40.586  < 2e-16 ***\n",
       "Population   5.180e-05  2.919e-05   1.775   0.0832 .  \n",
       "Income      -2.180e-05  2.444e-04  -0.089   0.9293    \n",
       "Illiteracy   3.382e-02  3.663e-01   0.092   0.9269    \n",
       "Murder      -3.011e-01  4.662e-02  -6.459 8.68e-08 ***\n",
       "HS.Grad      4.893e-02  2.332e-02   2.098   0.0420 *  \n",
       "Frost       -5.735e-03  3.143e-03  -1.825   0.0752 .  \n",
       "Area        -7.383e-08  1.668e-06  -0.044   0.9649    \n",
       "---\n",
       "Signif. codes:  0 '***' 0.001 '**' 0.01 '*' 0.05 '.' 0.1 ' ' 1\n",
       "\n",
       "Residual standard error: 0.7448 on 42 degrees of freedom\n",
       "Multiple R-squared:  0.7362,\tAdjusted R-squared:  0.6922 \n",
       "F-statistic: 16.74 on 7 and 42 DF,  p-value: 2.534e-10\n"
      ]
     },
     "metadata": {},
     "output_type": "display_data"
    }
   ],
   "source": [
    "model = lm(Life.Exp ~ Population + Income + Illiteracy + Murder + HS.Grad + Frost + Area, data=statedata)\n",
    "summary(model)"
   ]
  },
  {
   "cell_type": "markdown",
   "metadata": {},
   "source": [
    "Answer: -2.180e-05"
   ]
  },
  {
   "cell_type": "markdown",
   "metadata": {},
   "source": [
    "### Problem 2.2 - Predicting Life Expectancy - An Initial Model\n",
    "\n",
    "Call the coefficient for income x (the answer to Problem 2.1). What is the interpretation of the coefficient x?"
   ]
  },
  {
   "cell_type": "markdown",
   "metadata": {},
   "source": [
    "Answer: The income coefficient is inversely proportional for the life expectancy."
   ]
  },
  {
   "cell_type": "markdown",
   "metadata": {},
   "source": [
    "### Problem 2.3 - Predicting Life Expectancy - An Initial Model\n",
    "\n",
    "Now plot a graph of life expectancy vs. income using the command:\n",
    "\n",
    "    plot(statedata$Income, statedata$Life.Exp)\n",
    "\n",
    "Visually observe the plot. What appears to be the relationship?"
   ]
  },
  {
   "cell_type": "code",
   "execution_count": 9,
   "metadata": {},
   "outputs": [
    {
     "data": {
      "image/png": "[encoded data removed]",
      "text/plain": [
       "Plot with title \"Life Expectancy by Income\""
      ]
     },
     "metadata": {
      "image/png": {
       "height": 480,
       "width": 720
      },
      "text/plain": {
       "height": 480,
       "width": 720
      }
     },
     "output_type": "display_data"
    }
   ],
   "source": [
    "plot(statedata$Income, statedata$Life.Exp, main = \"Life Expectancy by Income\")"
   ]
  },
  {
   "cell_type": "markdown",
   "metadata": {},
   "source": [
    "Answer: Visually, there is no correlation between \"Income\" and \"Life Expectation\"."
   ]
  },
  {
   "cell_type": "markdown",
   "metadata": {},
   "source": [
    "### Problem 2.4 - Predicting Life Expectancy - An Initial Model\n",
    "\n",
    "The model we built does not display the relationship we saw from the plot of life expectancy vs. income. Which of the following explanations seems the most reasonable?\n"
   ]
  },
  {
   "cell_type": "markdown",
   "metadata": {},
   "source": [
    "Answer: Multicollinearity"
   ]
  },
  {
   "cell_type": "markdown",
   "metadata": {},
   "source": [
    "### Problem 3.1 - Predicting Life Expectancy - Refining the Model and Analyzing Predictions\n",
    "\n",
    "Recall that we discussed the principle of simplicity: that is, a model with fewer variables is preferable to a model with many unnnecessary variables. Experiment with removing independent variables from the original model. Remember to use the significance of the coefficients to decide which variables to remove (remove the one with the largest \"p-value\" first, or the one with the \"t value\" closest to zero), and to remove them one at a time (this is called \"backwards variable selection\"). This is important due to multicollinearity issues - removing one insignificant variable may make another previously insignificant variable become significant.\n",
    "\n",
    "You should be able to find a good model with only 4 independent variables, instead of the original 7. Which variables does this model contain?\n"
   ]
  },
  {
   "cell_type": "code",
   "execution_count": 10,
   "metadata": {},
   "outputs": [
    {
     "data": {
      "text/plain": [
       "\n",
       "Call:\n",
       "lm(formula = Life.Exp ~ Population + Income + Illiteracy + Murder + \n",
       "    HS.Grad + Frost, data = statedata)\n",
       "\n",
       "Residuals:\n",
       "     Min       1Q   Median       3Q      Max \n",
       "-1.49047 -0.52533 -0.02546  0.57160  1.50374 \n",
       "\n",
       "Coefficients:\n",
       "              Estimate Std. Error t value Pr(>|t|)    \n",
       "(Intercept)  7.099e+01  1.387e+00  51.165  < 2e-16 ***\n",
       "Population   5.188e-05  2.879e-05   1.802   0.0785 .  \n",
       "Income      -2.444e-05  2.343e-04  -0.104   0.9174    \n",
       "Illiteracy   2.846e-02  3.416e-01   0.083   0.9340    \n",
       "Murder      -3.018e-01  4.334e-02  -6.963 1.45e-08 ***\n",
       "HS.Grad      4.847e-02  2.067e-02   2.345   0.0237 *  \n",
       "Frost       -5.776e-03  2.970e-03  -1.945   0.0584 .  \n",
       "---\n",
       "Signif. codes:  0 '***' 0.001 '**' 0.01 '*' 0.05 '.' 0.1 ' ' 1\n",
       "\n",
       "Residual standard error: 0.7361 on 43 degrees of freedom\n",
       "Multiple R-squared:  0.7361,\tAdjusted R-squared:  0.6993 \n",
       "F-statistic: 19.99 on 6 and 43 DF,  p-value: 5.362e-11\n"
      ]
     },
     "metadata": {},
     "output_type": "display_data"
    }
   ],
   "source": [
    "model2 = lm(Life.Exp ~ Population + Income + Illiteracy + Murder + HS.Grad + Frost, data=statedata)\n",
    "summary(model2)"
   ]
  },
  {
   "cell_type": "markdown",
   "metadata": {},
   "source": [
    "model = lm(Life.Exp ~ Population + Income + Illiteracy + Murder + HS.Grad + Frost + Area, data=statedata) -> Adjusted R-squared:  0.6922\n",
    "\n",
    "model2 = lm(Life.Exp ~ Population + Income + Illiteracy + Murder + HS.Grad + Frost, data=statedata) -> Adjusted R-squared:  0.6993 **(Better!)**"
   ]
  },
  {
   "cell_type": "code",
   "execution_count": 11,
   "metadata": {},
   "outputs": [
    {
     "data": {
      "text/plain": [
       "\n",
       "Call:\n",
       "lm(formula = Life.Exp ~ Population + Income + Murder + HS.Grad + \n",
       "    Frost, data = statedata)\n",
       "\n",
       "Residuals:\n",
       "    Min      1Q  Median      3Q     Max \n",
       "-1.4892 -0.5122 -0.0329  0.5645  1.5166 \n",
       "\n",
       "Coefficients:\n",
       "              Estimate Std. Error t value Pr(>|t|)    \n",
       "(Intercept)  7.107e+01  1.029e+00  69.067  < 2e-16 ***\n",
       "Population   5.115e-05  2.709e-05   1.888   0.0657 .  \n",
       "Income      -2.477e-05  2.316e-04  -0.107   0.9153    \n",
       "Murder      -3.000e-01  3.704e-02  -8.099 2.91e-10 ***\n",
       "HS.Grad      4.776e-02  1.859e-02   2.569   0.0137 *  \n",
       "Frost       -5.910e-03  2.468e-03  -2.395   0.0210 *  \n",
       "---\n",
       "Signif. codes:  0 '***' 0.001 '**' 0.01 '*' 0.05 '.' 0.1 ' ' 1\n",
       "\n",
       "Residual standard error: 0.7277 on 44 degrees of freedom\n",
       "Multiple R-squared:  0.7361,\tAdjusted R-squared:  0.7061 \n",
       "F-statistic: 24.55 on 5 and 44 DF,  p-value: 1.019e-11\n"
      ]
     },
     "metadata": {},
     "output_type": "display_data"
    }
   ],
   "source": [
    "model3 = lm(Life.Exp ~ Population + Income + Murder + HS.Grad + Frost, data=statedata)\n",
    "summary(model3)"
   ]
  },
  {
   "cell_type": "markdown",
   "metadata": {},
   "source": [
    "model = lm(Life.Exp ~ Population + Income + Illiteracy + Murder + HS.Grad + Frost + Area, data=statedata) -> Adjusted R-squared: 0.6922\n",
    "\n",
    "model2 = lm(Life.Exp ~ Population + Income + Illiteracy + Murder + HS.Grad + Frost, data=statedata) -> Adjusted R-squared: 0.6993\n",
    "\n",
    "model3 = lm(Life.Exp ~ Population + Income + Murder + HS.Grad + Frost, data=statedata) -> Adjusted R-squared: 0.7061 **(Better!)**"
   ]
  },
  {
   "cell_type": "code",
   "execution_count": 12,
   "metadata": {},
   "outputs": [
    {
     "data": {
      "text/plain": [
       "\n",
       "Call:\n",
       "lm(formula = Life.Exp ~ Population + Murder + HS.Grad + Frost, \n",
       "    data = statedata)\n",
       "\n",
       "Residuals:\n",
       "     Min       1Q   Median       3Q      Max \n",
       "-1.47095 -0.53464 -0.03701  0.57621  1.50683 \n",
       "\n",
       "Coefficients:\n",
       "              Estimate Std. Error t value Pr(>|t|)    \n",
       "(Intercept)  7.103e+01  9.529e-01  74.542  < 2e-16 ***\n",
       "Population   5.014e-05  2.512e-05   1.996  0.05201 .  \n",
       "Murder      -3.001e-01  3.661e-02  -8.199 1.77e-10 ***\n",
       "HS.Grad      4.658e-02  1.483e-02   3.142  0.00297 ** \n",
       "Frost       -5.943e-03  2.421e-03  -2.455  0.01802 *  \n",
       "---\n",
       "Signif. codes:  0 '***' 0.001 '**' 0.01 '*' 0.05 '.' 0.1 ' ' 1\n",
       "\n",
       "Residual standard error: 0.7197 on 45 degrees of freedom\n",
       "Multiple R-squared:  0.736,\tAdjusted R-squared:  0.7126 \n",
       "F-statistic: 31.37 on 4 and 45 DF,  p-value: 1.696e-12\n"
      ]
     },
     "metadata": {},
     "output_type": "display_data"
    }
   ],
   "source": [
    "model4 = lm(Life.Exp ~ Population + Murder + HS.Grad + Frost, data=statedata)\n",
    "summary(model4)"
   ]
  },
  {
   "cell_type": "markdown",
   "metadata": {},
   "source": [
    "model = lm(Life.Exp ~ Population + Income + Illiteracy + Murder + HS.Grad + Frost + Area, data=statedata) -> Adjusted R-squared: 0.6922\n",
    "\n",
    "model2 = lm(Life.Exp ~ Population + Income + Illiteracy + Murder + HS.Grad + Frost, data=statedata) -> Adjusted R-squared: 0.6993\n",
    "\n",
    "model3 = lm(Life.Exp ~ Population + Income + Murder + HS.Grad + Frost, data=statedata) -> Adjusted R-squared: 0.7061\n",
    "\n",
    "model4 = lm(Life.Exp ~ Population + Murder + HS.Grad + Frost, data=statedata) -> Adjusted R-squared: 0.7126 **(Better!)**"
   ]
  },
  {
   "cell_type": "markdown",
   "metadata": {},
   "source": [
    "### Problem 3.2 - Predicting Life Expectancy - Refining the Model and Analyzing Predictions\n",
    "\n",
    "Removing insignificant variables changes the Multiple R-squared value of the model. By looking at the summary output for both the initial model (all independent variables) and the simplified model (only 4 independent variables) and using what you learned in class, which of the following correctly explains the change in the Multiple R-squared value?"
   ]
  },
  {
   "cell_type": "markdown",
   "metadata": {},
   "source": [
    "Answer: A simplified model (less variables) only with high correlation is always a better choice for a model."
   ]
  },
  {
   "cell_type": "markdown",
   "metadata": {},
   "source": [
    "### Problem 3.3 - Predicting Life Expectancy - Refining the Model and Analyzing Predictions\n",
    "\n",
    "Using the simplified 4 variable model that we created, we'll now take a look at how our predictions compare to the actual values.\n",
    "\n",
    "Take a look at the vector of predictions by using the predict function (since we are just looking at predictions on the training set, you don't need to pass a \"newdata\" argument to the predict function).\n",
    "\n",
    "Which state do we predict to have the lowest life expectancy? (Hint: use the sort function)"
   ]
  },
  {
   "cell_type": "code",
   "execution_count": 13,
   "metadata": {},
   "outputs": [
    {
     "data": {
      "text/html": [
       "<style>\n",
       ".dl-inline {width: auto; margin:0; padding: 0}\n",
       ".dl-inline>dt, .dl-inline>dd {float: none; width: auto; display: inline-block}\n",
       ".dl-inline>dt::after {content: \":\\0020\"; padding-right: .5ex}\n",
       ".dl-inline>dt:not(:first-of-type) {padding-left: .5ex}\n",
       "</style><dl class=dl-inline><dt>Nebraska</dt><dd>72.1703230928179</dd><dt>Minnesota</dt><dd>72.2655961972096</dd><dt>Iowa</dt><dd>72.3965287603254</dd><dt>Oregon</dt><dd>72.4144533325103</dd><dt>Massachusetts</dt><dd>72.4410539114803</dd><dt>Washington</dt><dd>72.6827242644419</dd></dl>\n"
      ],
      "text/latex": [
       "\\begin{description*}\n",
       "\\item[Nebraska] 72.1703230928179\n",
       "\\item[Minnesota] 72.2655961972096\n",
       "\\item[Iowa] 72.3965287603254\n",
       "\\item[Oregon] 72.4144533325103\n",
       "\\item[Massachusetts] 72.4410539114803\n",
       "\\item[Washington] 72.6827242644419\n",
       "\\end{description*}\n"
      ],
      "text/markdown": [
       "Nebraska\n",
       ":   72.1703230928179Minnesota\n",
       ":   72.2655961972096Iowa\n",
       ":   72.3965287603254Oregon\n",
       ":   72.4144533325103Massachusetts\n",
       ":   72.4410539114803Washington\n",
       ":   72.6827242644419\n",
       "\n"
      ],
      "text/plain": [
       "     Nebraska     Minnesota          Iowa        Oregon Massachusetts \n",
       "     72.17032      72.26560      72.39653      72.41445      72.44105 \n",
       "   Washington \n",
       "     72.68272 "
      ]
     },
     "metadata": {},
     "output_type": "display_data"
    }
   ],
   "source": [
    "tail(sort(predict(model4)))"
   ]
  },
  {
   "cell_type": "markdown",
   "metadata": {},
   "source": [
    "Which state actually has the lowest life expectancy? (Hint: use the which.min function)"
   ]
  },
  {
   "cell_type": "code",
   "execution_count": 14,
   "metadata": {},
   "outputs": [
    {
     "data": {
      "text/html": [
       "<table>\n",
       "<caption>A data.frame: 1 × 15</caption>\n",
       "<thead>\n",
       "\t<tr><th></th><th scope=col>Population</th><th scope=col>Income</th><th scope=col>Illiteracy</th><th scope=col>Life.Exp</th><th scope=col>Murder</th><th scope=col>HS.Grad</th><th scope=col>Frost</th><th scope=col>Area</th><th scope=col>state.abb</th><th scope=col>state.area</th><th scope=col>x</th><th scope=col>y</th><th scope=col>state.division</th><th scope=col>state.name</th><th scope=col>state.region</th></tr>\n",
       "\t<tr><th></th><th scope=col>&lt;dbl&gt;</th><th scope=col>&lt;dbl&gt;</th><th scope=col>&lt;dbl&gt;</th><th scope=col>&lt;dbl&gt;</th><th scope=col>&lt;dbl&gt;</th><th scope=col>&lt;dbl&gt;</th><th scope=col>&lt;dbl&gt;</th><th scope=col>&lt;dbl&gt;</th><th scope=col>&lt;fct&gt;</th><th scope=col>&lt;dbl&gt;</th><th scope=col>&lt;dbl&gt;</th><th scope=col>&lt;dbl&gt;</th><th scope=col>&lt;fct&gt;</th><th scope=col>&lt;fct&gt;</th><th scope=col>&lt;fct&gt;</th></tr>\n",
       "</thead>\n",
       "<tbody>\n",
       "\t<tr><th scope=row>South Carolina</th><td>2816</td><td>3635</td><td>2.3</td><td>67.96</td><td>11.6</td><td>37.8</td><td>65</td><td>30225</td><td>SC</td><td>31055</td><td>-80.5056</td><td>33.619</td><td>South Atlantic</td><td>South Carolina</td><td>South</td></tr>\n",
       "</tbody>\n",
       "</table>\n"
      ],
      "text/latex": [
       "A data.frame: 1 × 15\n",
       "\\begin{tabular}{r|lllllllllllllll}\n",
       "  & Population & Income & Illiteracy & Life.Exp & Murder & HS.Grad & Frost & Area & state.abb & state.area & x & y & state.division & state.name & state.region\\\\\n",
       "  & <dbl> & <dbl> & <dbl> & <dbl> & <dbl> & <dbl> & <dbl> & <dbl> & <fct> & <dbl> & <dbl> & <dbl> & <fct> & <fct> & <fct>\\\\\n",
       "\\hline\n",
       "\tSouth Carolina & 2816 & 3635 & 2.3 & 67.96 & 11.6 & 37.8 & 65 & 30225 & SC & 31055 & -80.5056 & 33.619 & South Atlantic & South Carolina & South\\\\\n",
       "\\end{tabular}\n"
      ],
      "text/markdown": [
       "\n",
       "A data.frame: 1 × 15\n",
       "\n",
       "| <!--/--> | Population &lt;dbl&gt; | Income &lt;dbl&gt; | Illiteracy &lt;dbl&gt; | Life.Exp &lt;dbl&gt; | Murder &lt;dbl&gt; | HS.Grad &lt;dbl&gt; | Frost &lt;dbl&gt; | Area &lt;dbl&gt; | state.abb &lt;fct&gt; | state.area &lt;dbl&gt; | x &lt;dbl&gt; | y &lt;dbl&gt; | state.division &lt;fct&gt; | state.name &lt;fct&gt; | state.region &lt;fct&gt; |\n",
       "|---|---|---|---|---|---|---|---|---|---|---|---|---|---|---|---|\n",
       "| South Carolina | 2816 | 3635 | 2.3 | 67.96 | 11.6 | 37.8 | 65 | 30225 | SC | 31055 | -80.5056 | 33.619 | South Atlantic | South Carolina | South |\n",
       "\n"
      ],
      "text/plain": [
       "               Population Income Illiteracy Life.Exp Murder HS.Grad Frost Area \n",
       "South Carolina 2816       3635   2.3        67.96    11.6   37.8    65    30225\n",
       "               state.abb state.area x        y      state.division\n",
       "South Carolina SC        31055      -80.5056 33.619 South Atlantic\n",
       "               state.name     state.region\n",
       "South Carolina South Carolina South       "
      ]
     },
     "metadata": {},
     "output_type": "display_data"
    }
   ],
   "source": [
    "statedata[which.min(statedata$Life.Exp), ]"
   ]
  },
  {
   "cell_type": "markdown",
   "metadata": {},
   "source": [
    "### Problem 3.4 - Predicting Life Expectancy - Refining the Model and Analyzing Predictions\n",
    "\n",
    "Which state do we predict to have the highest life expectancy?"
   ]
  },
  {
   "cell_type": "code",
   "execution_count": 15,
   "metadata": {},
   "outputs": [
    {
     "data": {
      "text/html": [
       "<style>\n",
       ".dl-inline {width: auto; margin:0; padding: 0}\n",
       ".dl-inline>dt, .dl-inline>dd {float: none; width: auto; display: inline-block}\n",
       ".dl-inline>dt::after {content: \":\\0020\"; padding-right: .5ex}\n",
       ".dl-inline>dt:not(:first-of-type) {padding-left: .5ex}\n",
       "</style><dl class=dl-inline><dt>Nebraska</dt><dd>72.1703230928179</dd><dt>Minnesota</dt><dd>72.2655961972096</dd><dt>Iowa</dt><dd>72.3965287603254</dd><dt>Oregon</dt><dd>72.4144533325103</dd><dt>Massachusetts</dt><dd>72.4410539114803</dd><dt>Washington</dt><dd>72.6827242644419</dd></dl>\n"
      ],
      "text/latex": [
       "\\begin{description*}\n",
       "\\item[Nebraska] 72.1703230928179\n",
       "\\item[Minnesota] 72.2655961972096\n",
       "\\item[Iowa] 72.3965287603254\n",
       "\\item[Oregon] 72.4144533325103\n",
       "\\item[Massachusetts] 72.4410539114803\n",
       "\\item[Washington] 72.6827242644419\n",
       "\\end{description*}\n"
      ],
      "text/markdown": [
       "Nebraska\n",
       ":   72.1703230928179Minnesota\n",
       ":   72.2655961972096Iowa\n",
       ":   72.3965287603254Oregon\n",
       ":   72.4144533325103Massachusetts\n",
       ":   72.4410539114803Washington\n",
       ":   72.6827242644419\n",
       "\n"
      ],
      "text/plain": [
       "     Nebraska     Minnesota          Iowa        Oregon Massachusetts \n",
       "     72.17032      72.26560      72.39653      72.41445      72.44105 \n",
       "   Washington \n",
       "     72.68272 "
      ]
     },
     "metadata": {},
     "output_type": "display_data"
    }
   ],
   "source": [
    "tail(sort(predict(model4)))"
   ]
  },
  {
   "cell_type": "markdown",
   "metadata": {},
   "source": [
    "Which state actually has the highest life expectancy?"
   ]
  },
  {
   "cell_type": "code",
   "execution_count": 16,
   "metadata": {},
   "outputs": [
    {
     "data": {
      "text/html": [
       "<table>\n",
       "<caption>A data.frame: 1 × 15</caption>\n",
       "<thead>\n",
       "\t<tr><th></th><th scope=col>Population</th><th scope=col>Income</th><th scope=col>Illiteracy</th><th scope=col>Life.Exp</th><th scope=col>Murder</th><th scope=col>HS.Grad</th><th scope=col>Frost</th><th scope=col>Area</th><th scope=col>state.abb</th><th scope=col>state.area</th><th scope=col>x</th><th scope=col>y</th><th scope=col>state.division</th><th scope=col>state.name</th><th scope=col>state.region</th></tr>\n",
       "\t<tr><th></th><th scope=col>&lt;dbl&gt;</th><th scope=col>&lt;dbl&gt;</th><th scope=col>&lt;dbl&gt;</th><th scope=col>&lt;dbl&gt;</th><th scope=col>&lt;dbl&gt;</th><th scope=col>&lt;dbl&gt;</th><th scope=col>&lt;dbl&gt;</th><th scope=col>&lt;dbl&gt;</th><th scope=col>&lt;fct&gt;</th><th scope=col>&lt;dbl&gt;</th><th scope=col>&lt;dbl&gt;</th><th scope=col>&lt;dbl&gt;</th><th scope=col>&lt;fct&gt;</th><th scope=col>&lt;fct&gt;</th><th scope=col>&lt;fct&gt;</th></tr>\n",
       "</thead>\n",
       "<tbody>\n",
       "\t<tr><th scope=row>Hawaii</th><td>868</td><td>4963</td><td>1.9</td><td>73.6</td><td>6.2</td><td>61.9</td><td>0</td><td>6425</td><td>HI</td><td>6450</td><td>-126.25</td><td>31.75</td><td>Pacific</td><td>Hawaii</td><td>West</td></tr>\n",
       "</tbody>\n",
       "</table>\n"
      ],
      "text/latex": [
       "A data.frame: 1 × 15\n",
       "\\begin{tabular}{r|lllllllllllllll}\n",
       "  & Population & Income & Illiteracy & Life.Exp & Murder & HS.Grad & Frost & Area & state.abb & state.area & x & y & state.division & state.name & state.region\\\\\n",
       "  & <dbl> & <dbl> & <dbl> & <dbl> & <dbl> & <dbl> & <dbl> & <dbl> & <fct> & <dbl> & <dbl> & <dbl> & <fct> & <fct> & <fct>\\\\\n",
       "\\hline\n",
       "\tHawaii & 868 & 4963 & 1.9 & 73.6 & 6.2 & 61.9 & 0 & 6425 & HI & 6450 & -126.25 & 31.75 & Pacific & Hawaii & West\\\\\n",
       "\\end{tabular}\n"
      ],
      "text/markdown": [
       "\n",
       "A data.frame: 1 × 15\n",
       "\n",
       "| <!--/--> | Population &lt;dbl&gt; | Income &lt;dbl&gt; | Illiteracy &lt;dbl&gt; | Life.Exp &lt;dbl&gt; | Murder &lt;dbl&gt; | HS.Grad &lt;dbl&gt; | Frost &lt;dbl&gt; | Area &lt;dbl&gt; | state.abb &lt;fct&gt; | state.area &lt;dbl&gt; | x &lt;dbl&gt; | y &lt;dbl&gt; | state.division &lt;fct&gt; | state.name &lt;fct&gt; | state.region &lt;fct&gt; |\n",
       "|---|---|---|---|---|---|---|---|---|---|---|---|---|---|---|---|\n",
       "| Hawaii | 868 | 4963 | 1.9 | 73.6 | 6.2 | 61.9 | 0 | 6425 | HI | 6450 | -126.25 | 31.75 | Pacific | Hawaii | West |\n",
       "\n"
      ],
      "text/plain": [
       "       Population Income Illiteracy Life.Exp Murder HS.Grad Frost Area\n",
       "Hawaii 868        4963   1.9        73.6     6.2    61.9    0     6425\n",
       "       state.abb state.area x       y     state.division state.name\n",
       "Hawaii HI        6450       -126.25 31.75 Pacific        Hawaii    \n",
       "       state.region\n",
       "Hawaii West        "
      ]
     },
     "metadata": {},
     "output_type": "display_data"
    }
   ],
   "source": [
    "statedata[which.max(statedata$Life.Exp), ]"
   ]
  },
  {
   "cell_type": "markdown",
   "metadata": {},
   "source": [
    "### Problem 3.5 - Predicting Life Expectancy - Refining the Model and Analyzing Predictions\n",
    "\n",
    "Take a look at the vector of residuals (the difference between the predicted and actual values).\n",
    "\n",
    "For which state do we make the smallest absolute error?"
   ]
  },
  {
   "cell_type": "code",
   "execution_count": 17,
   "metadata": {},
   "outputs": [
    {
     "data": {
      "text/html": [
       "<strong>Indiana:</strong> 14"
      ],
      "text/latex": [
       "\\textbf{Indiana:} 14"
      ],
      "text/markdown": [
       "**Indiana:** 14"
      ],
      "text/plain": [
       "Indiana \n",
       "     14 "
      ]
     },
     "metadata": {},
     "output_type": "display_data"
    }
   ],
   "source": [
    "which.min(abs(model$residuals))"
   ]
  },
  {
   "cell_type": "markdown",
   "metadata": {},
   "source": [
    "For which state do we make the largest absolute error?"
   ]
  },
  {
   "cell_type": "code",
   "execution_count": 18,
   "metadata": {},
   "outputs": [
    {
     "data": {
      "text/html": [
       "<strong>Hawaii:</strong> 11"
      ],
      "text/latex": [
       "\\textbf{Hawaii:} 11"
      ],
      "text/markdown": [
       "**Hawaii:** 11"
      ],
      "text/plain": [
       "Hawaii \n",
       "    11 "
      ]
     },
     "metadata": {},
     "output_type": "display_data"
    }
   ],
   "source": [
    "which.max(abs(model$residuals))"
   ]
  }
 ],
 "metadata": {
  "kernelspec": {
   "display_name": "R",
   "language": "R",
   "name": "ir"
  },
  "language_info": {
   "codemirror_mode": "r",
   "file_extension": ".r",
   "mimetype": "text/x-r-source",
   "name": "R",
   "pygments_lexer": "r",
   "version": "3.6.3"
  }
 },
 "nbformat": 4,
 "nbformat_minor": 4
}
