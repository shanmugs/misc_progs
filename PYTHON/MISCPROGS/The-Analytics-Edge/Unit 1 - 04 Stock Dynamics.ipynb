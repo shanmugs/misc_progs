{
 "cells": [
  {
   "cell_type": "markdown",
   "metadata": {},
   "source": [
    "# Stock Dynamics"
   ]
  },
  {
   "cell_type": "markdown",
   "metadata": {},
   "source": [
    "A stock market is where buyers and sellers trade shares of a company, and is one of the most popular ways for individuals and companies to invest money. The size of the world stock market  is now estimated to be in the trillions. The largest stock market in the world is the New York Stock Exchange (NYSE), located in New York City. About 2,800 companies are listed on the NSYE. In this problem, we'll look at the monthly stock prices of five of these companies: **IBM**, **General Electric (GE)**, **Procter and Gamble**, **Coca Cola**, and **Boeing**. The data used in this problem comes from Infochimps."
   ]
  },
  {
   "cell_type": "markdown",
   "metadata": {},
   "source": [
    "Download and read the following files into R, using the read.csv function: IBMStock.csv, GEStock.csv, ProcterGambleStock.csv, CocaColaStock.csv, and BoeingStock.csv."
   ]
  },
  {
   "cell_type": "markdown",
   "metadata": {},
   "source": [
    "Call the data frames \"IBM\", \"GE\", \"ProcterGamble\", \"CocaCola\", and \"Boeing\", respectively. Each data frame has two variables, described as follows:\n",
    "\n",
    "    Date: the date of the stock price, always given as the first of the month.\n",
    "    StockPrice: the average stock price of the company in the given month.\n",
    "\n",
    "In this problem, we'll take a look at how the stock dynamics of these companies have changed over time."
   ]
  },
  {
   "cell_type": "markdown",
   "metadata": {},
   "source": [
    "**Our five datasets all have the same number of observations. How many observations are there in each data set?**"
   ]
  },
  {
   "cell_type": "code",
   "execution_count": 1,
   "metadata": {},
   "outputs": [],
   "source": [
    "IBM  <- read.csv('data/IBMStock.csv')\n",
    "GE  <- read.csv('data/GEStock.csv')\n",
    "CocaCola  <- read.csv('data/CocaColaStock.csv')\n",
    "ProcterGamble  <- read.csv('data/ProcterGambleStock.csv')\n",
    "Boeing  <- read.csv('data/BoeingStock.csv')"
   ]
  },
  {
   "cell_type": "code",
   "execution_count": 2,
   "metadata": {},
   "outputs": [
    {
     "data": {
      "text/html": [
       "<table>\n",
       "<caption>A data.frame: 6 × 2</caption>\n",
       "<thead>\n",
       "\t<tr><th></th><th scope=col>Date</th><th scope=col>StockPrice</th></tr>\n",
       "\t<tr><th></th><th scope=col>&lt;fct&gt;</th><th scope=col>&lt;dbl&gt;</th></tr>\n",
       "</thead>\n",
       "<tbody>\n",
       "\t<tr><th scope=row>1</th><td>1/1/70</td><td>360.3190</td></tr>\n",
       "\t<tr><th scope=row>2</th><td>2/1/70</td><td>346.7237</td></tr>\n",
       "\t<tr><th scope=row>3</th><td>3/1/70</td><td>327.3457</td></tr>\n",
       "\t<tr><th scope=row>4</th><td>4/1/70</td><td>319.8527</td></tr>\n",
       "\t<tr><th scope=row>5</th><td>5/1/70</td><td>270.3752</td></tr>\n",
       "\t<tr><th scope=row>6</th><td>6/1/70</td><td>267.2050</td></tr>\n",
       "</tbody>\n",
       "</table>\n"
      ],
      "text/latex": [
       "A data.frame: 6 × 2\n",
       "\\begin{tabular}{r|ll}\n",
       "  & Date & StockPrice\\\\\n",
       "  & <fct> & <dbl>\\\\\n",
       "\\hline\n",
       "\t1 & 1/1/70 & 360.3190\\\\\n",
       "\t2 & 2/1/70 & 346.7237\\\\\n",
       "\t3 & 3/1/70 & 327.3457\\\\\n",
       "\t4 & 4/1/70 & 319.8527\\\\\n",
       "\t5 & 5/1/70 & 270.3752\\\\\n",
       "\t6 & 6/1/70 & 267.2050\\\\\n",
       "\\end{tabular}\n"
      ],
      "text/markdown": [
       "\n",
       "A data.frame: 6 × 2\n",
       "\n",
       "| <!--/--> | Date &lt;fct&gt; | StockPrice &lt;dbl&gt; |\n",
       "|---|---|---|\n",
       "| 1 | 1/1/70 | 360.3190 |\n",
       "| 2 | 2/1/70 | 346.7237 |\n",
       "| 3 | 3/1/70 | 327.3457 |\n",
       "| 4 | 4/1/70 | 319.8527 |\n",
       "| 5 | 5/1/70 | 270.3752 |\n",
       "| 6 | 6/1/70 | 267.2050 |\n",
       "\n"
      ],
      "text/plain": [
       "  Date   StockPrice\n",
       "1 1/1/70 360.3190  \n",
       "2 2/1/70 346.7237  \n",
       "3 3/1/70 327.3457  \n",
       "4 4/1/70 319.8527  \n",
       "5 5/1/70 270.3752  \n",
       "6 6/1/70 267.2050  "
      ]
     },
     "metadata": {},
     "output_type": "display_data"
    }
   ],
   "source": [
    "head(IBM)"
   ]
  },
  {
   "cell_type": "code",
   "execution_count": 3,
   "metadata": {},
   "outputs": [
    {
     "data": {
      "text/html": [
       "<table>\n",
       "<caption>A data.frame: 6 × 2</caption>\n",
       "<thead>\n",
       "\t<tr><th></th><th scope=col>Date</th><th scope=col>StockPrice</th></tr>\n",
       "\t<tr><th></th><th scope=col>&lt;fct&gt;</th><th scope=col>&lt;dbl&gt;</th></tr>\n",
       "</thead>\n",
       "<tbody>\n",
       "\t<tr><th scope=row>1</th><td>1/1/70</td><td>74.25333</td></tr>\n",
       "\t<tr><th scope=row>2</th><td>2/1/70</td><td>69.97684</td></tr>\n",
       "\t<tr><th scope=row>3</th><td>3/1/70</td><td>72.15857</td></tr>\n",
       "\t<tr><th scope=row>4</th><td>4/1/70</td><td>74.25273</td></tr>\n",
       "\t<tr><th scope=row>5</th><td>5/1/70</td><td>66.66524</td></tr>\n",
       "\t<tr><th scope=row>6</th><td>6/1/70</td><td>67.59318</td></tr>\n",
       "</tbody>\n",
       "</table>\n"
      ],
      "text/latex": [
       "A data.frame: 6 × 2\n",
       "\\begin{tabular}{r|ll}\n",
       "  & Date & StockPrice\\\\\n",
       "  & <fct> & <dbl>\\\\\n",
       "\\hline\n",
       "\t1 & 1/1/70 & 74.25333\\\\\n",
       "\t2 & 2/1/70 & 69.97684\\\\\n",
       "\t3 & 3/1/70 & 72.15857\\\\\n",
       "\t4 & 4/1/70 & 74.25273\\\\\n",
       "\t5 & 5/1/70 & 66.66524\\\\\n",
       "\t6 & 6/1/70 & 67.59318\\\\\n",
       "\\end{tabular}\n"
      ],
      "text/markdown": [
       "\n",
       "A data.frame: 6 × 2\n",
       "\n",
       "| <!--/--> | Date &lt;fct&gt; | StockPrice &lt;dbl&gt; |\n",
       "|---|---|---|\n",
       "| 1 | 1/1/70 | 74.25333 |\n",
       "| 2 | 2/1/70 | 69.97684 |\n",
       "| 3 | 3/1/70 | 72.15857 |\n",
       "| 4 | 4/1/70 | 74.25273 |\n",
       "| 5 | 5/1/70 | 66.66524 |\n",
       "| 6 | 6/1/70 | 67.59318 |\n",
       "\n"
      ],
      "text/plain": [
       "  Date   StockPrice\n",
       "1 1/1/70 74.25333  \n",
       "2 2/1/70 69.97684  \n",
       "3 3/1/70 72.15857  \n",
       "4 4/1/70 74.25273  \n",
       "5 5/1/70 66.66524  \n",
       "6 6/1/70 67.59318  "
      ]
     },
     "metadata": {},
     "output_type": "display_data"
    }
   ],
   "source": [
    "head(GE)"
   ]
  },
  {
   "cell_type": "code",
   "execution_count": 4,
   "metadata": {},
   "outputs": [
    {
     "data": {
      "text/html": [
       "<table>\n",
       "<caption>A data.frame: 6 × 2</caption>\n",
       "<thead>\n",
       "\t<tr><th></th><th scope=col>Date</th><th scope=col>StockPrice</th></tr>\n",
       "\t<tr><th></th><th scope=col>&lt;fct&gt;</th><th scope=col>&lt;dbl&gt;</th></tr>\n",
       "</thead>\n",
       "<tbody>\n",
       "\t<tr><th scope=row>1</th><td>1/1/70</td><td>83.36810</td></tr>\n",
       "\t<tr><th scope=row>2</th><td>2/1/70</td><td>81.59105</td></tr>\n",
       "\t<tr><th scope=row>3</th><td>3/1/70</td><td>81.33810</td></tr>\n",
       "\t<tr><th scope=row>4</th><td>4/1/70</td><td>76.80591</td></tr>\n",
       "\t<tr><th scope=row>5</th><td>5/1/70</td><td>69.27857</td></tr>\n",
       "\t<tr><th scope=row>6</th><td>6/1/70</td><td>72.01545</td></tr>\n",
       "</tbody>\n",
       "</table>\n"
      ],
      "text/latex": [
       "A data.frame: 6 × 2\n",
       "\\begin{tabular}{r|ll}\n",
       "  & Date & StockPrice\\\\\n",
       "  & <fct> & <dbl>\\\\\n",
       "\\hline\n",
       "\t1 & 1/1/70 & 83.36810\\\\\n",
       "\t2 & 2/1/70 & 81.59105\\\\\n",
       "\t3 & 3/1/70 & 81.33810\\\\\n",
       "\t4 & 4/1/70 & 76.80591\\\\\n",
       "\t5 & 5/1/70 & 69.27857\\\\\n",
       "\t6 & 6/1/70 & 72.01545\\\\\n",
       "\\end{tabular}\n"
      ],
      "text/markdown": [
       "\n",
       "A data.frame: 6 × 2\n",
       "\n",
       "| <!--/--> | Date &lt;fct&gt; | StockPrice &lt;dbl&gt; |\n",
       "|---|---|---|\n",
       "| 1 | 1/1/70 | 83.36810 |\n",
       "| 2 | 2/1/70 | 81.59105 |\n",
       "| 3 | 3/1/70 | 81.33810 |\n",
       "| 4 | 4/1/70 | 76.80591 |\n",
       "| 5 | 5/1/70 | 69.27857 |\n",
       "| 6 | 6/1/70 | 72.01545 |\n",
       "\n"
      ],
      "text/plain": [
       "  Date   StockPrice\n",
       "1 1/1/70 83.36810  \n",
       "2 2/1/70 81.59105  \n",
       "3 3/1/70 81.33810  \n",
       "4 4/1/70 76.80591  \n",
       "5 5/1/70 69.27857  \n",
       "6 6/1/70 72.01545  "
      ]
     },
     "metadata": {},
     "output_type": "display_data"
    }
   ],
   "source": [
    "head(CocaCola)"
   ]
  },
  {
   "cell_type": "code",
   "execution_count": 5,
   "metadata": {},
   "outputs": [
    {
     "data": {
      "text/html": [
       "<table>\n",
       "<caption>A data.frame: 6 × 2</caption>\n",
       "<thead>\n",
       "\t<tr><th></th><th scope=col>Date</th><th scope=col>StockPrice</th></tr>\n",
       "\t<tr><th></th><th scope=col>&lt;fct&gt;</th><th scope=col>&lt;dbl&gt;</th></tr>\n",
       "</thead>\n",
       "<tbody>\n",
       "\t<tr><th scope=row>1</th><td>1/1/70</td><td>111.87429</td></tr>\n",
       "\t<tr><th scope=row>2</th><td>2/1/70</td><td>111.45368</td></tr>\n",
       "\t<tr><th scope=row>3</th><td>3/1/70</td><td>108.45143</td></tr>\n",
       "\t<tr><th scope=row>4</th><td>4/1/70</td><td>106.28864</td></tr>\n",
       "\t<tr><th scope=row>5</th><td>5/1/70</td><td> 73.33286</td></tr>\n",
       "\t<tr><th scope=row>6</th><td>6/1/70</td><td> 48.31864</td></tr>\n",
       "</tbody>\n",
       "</table>\n"
      ],
      "text/latex": [
       "A data.frame: 6 × 2\n",
       "\\begin{tabular}{r|ll}\n",
       "  & Date & StockPrice\\\\\n",
       "  & <fct> & <dbl>\\\\\n",
       "\\hline\n",
       "\t1 & 1/1/70 & 111.87429\\\\\n",
       "\t2 & 2/1/70 & 111.45368\\\\\n",
       "\t3 & 3/1/70 & 108.45143\\\\\n",
       "\t4 & 4/1/70 & 106.28864\\\\\n",
       "\t5 & 5/1/70 &  73.33286\\\\\n",
       "\t6 & 6/1/70 &  48.31864\\\\\n",
       "\\end{tabular}\n"
      ],
      "text/markdown": [
       "\n",
       "A data.frame: 6 × 2\n",
       "\n",
       "| <!--/--> | Date &lt;fct&gt; | StockPrice &lt;dbl&gt; |\n",
       "|---|---|---|\n",
       "| 1 | 1/1/70 | 111.87429 |\n",
       "| 2 | 2/1/70 | 111.45368 |\n",
       "| 3 | 3/1/70 | 108.45143 |\n",
       "| 4 | 4/1/70 | 106.28864 |\n",
       "| 5 | 5/1/70 |  73.33286 |\n",
       "| 6 | 6/1/70 |  48.31864 |\n",
       "\n"
      ],
      "text/plain": [
       "  Date   StockPrice\n",
       "1 1/1/70 111.87429 \n",
       "2 2/1/70 111.45368 \n",
       "3 3/1/70 108.45143 \n",
       "4 4/1/70 106.28864 \n",
       "5 5/1/70  73.33286 \n",
       "6 6/1/70  48.31864 "
      ]
     },
     "metadata": {},
     "output_type": "display_data"
    }
   ],
   "source": [
    "head(ProcterGamble)"
   ]
  },
  {
   "cell_type": "code",
   "execution_count": 6,
   "metadata": {},
   "outputs": [
    {
     "data": {
      "text/html": [
       "<table>\n",
       "<caption>A data.frame: 6 × 2</caption>\n",
       "<thead>\n",
       "\t<tr><th></th><th scope=col>Date</th><th scope=col>StockPrice</th></tr>\n",
       "\t<tr><th></th><th scope=col>&lt;fct&gt;</th><th scope=col>&lt;dbl&gt;</th></tr>\n",
       "</thead>\n",
       "<tbody>\n",
       "\t<tr><th scope=row>1</th><td>1/1/70</td><td>27.85381</td></tr>\n",
       "\t<tr><th scope=row>2</th><td>2/1/70</td><td>22.38105</td></tr>\n",
       "\t<tr><th scope=row>3</th><td>3/1/70</td><td>23.10524</td></tr>\n",
       "\t<tr><th scope=row>4</th><td>4/1/70</td><td>21.57136</td></tr>\n",
       "\t<tr><th scope=row>5</th><td>5/1/70</td><td>18.93286</td></tr>\n",
       "\t<tr><th scope=row>6</th><td>6/1/70</td><td>15.44318</td></tr>\n",
       "</tbody>\n",
       "</table>\n"
      ],
      "text/latex": [
       "A data.frame: 6 × 2\n",
       "\\begin{tabular}{r|ll}\n",
       "  & Date & StockPrice\\\\\n",
       "  & <fct> & <dbl>\\\\\n",
       "\\hline\n",
       "\t1 & 1/1/70 & 27.85381\\\\\n",
       "\t2 & 2/1/70 & 22.38105\\\\\n",
       "\t3 & 3/1/70 & 23.10524\\\\\n",
       "\t4 & 4/1/70 & 21.57136\\\\\n",
       "\t5 & 5/1/70 & 18.93286\\\\\n",
       "\t6 & 6/1/70 & 15.44318\\\\\n",
       "\\end{tabular}\n"
      ],
      "text/markdown": [
       "\n",
       "A data.frame: 6 × 2\n",
       "\n",
       "| <!--/--> | Date &lt;fct&gt; | StockPrice &lt;dbl&gt; |\n",
       "|---|---|---|\n",
       "| 1 | 1/1/70 | 27.85381 |\n",
       "| 2 | 2/1/70 | 22.38105 |\n",
       "| 3 | 3/1/70 | 23.10524 |\n",
       "| 4 | 4/1/70 | 21.57136 |\n",
       "| 5 | 5/1/70 | 18.93286 |\n",
       "| 6 | 6/1/70 | 15.44318 |\n",
       "\n"
      ],
      "text/plain": [
       "  Date   StockPrice\n",
       "1 1/1/70 27.85381  \n",
       "2 2/1/70 22.38105  \n",
       "3 3/1/70 23.10524  \n",
       "4 4/1/70 21.57136  \n",
       "5 5/1/70 18.93286  \n",
       "6 6/1/70 15.44318  "
      ]
     },
     "metadata": {},
     "output_type": "display_data"
    }
   ],
   "source": [
    "head(Boeing)"
   ]
  },
  {
   "cell_type": "code",
   "execution_count": 7,
   "metadata": {},
   "outputs": [
    {
     "name": "stdout",
     "output_type": "stream",
     "text": [
      "'data.frame':\t480 obs. of  2 variables:\n",
      " $ Date      : Factor w/ 480 levels \"1/1/00\",\"1/1/01\",..: 11 171 211 251 291 331 371 411 451 51 ...\n",
      " $ StockPrice: num  27.9 22.4 23.1 21.6 18.9 ...\n"
     ]
    }
   ],
   "source": [
    "str(Boeing)"
   ]
  },
  {
   "cell_type": "markdown",
   "metadata": {},
   "source": [
    "We need to convert the dates into a format that R can understand. Take a look at the structure of one of the datasets using the str function. Right now, the date variable is stored as a factor. We can convert this to a \"Date\" object in R by using the following five commands (one for each data set):\n",
    "\n",
    "IBM$Date = as.Date(IBM$Date, \"%m/%d/%y\")\n",
    "\n",
    "GE$Date = as.Date(GE$Date, \"%m/%d/%y\")\n",
    "\n",
    "CocaCola$Date = as.Date(CocaCola$Date, \"%m/%d/%y\")\n",
    "\n",
    "ProcterGamble$Date = as.Date(ProcterGamble$Date, \"%m/%d/%y\")\n",
    "\n",
    "Boeing$Date = as.Date(Boeing$Date, \"%m/%d/%y\")"
   ]
  },
  {
   "cell_type": "code",
   "execution_count": 8,
   "metadata": {},
   "outputs": [],
   "source": [
    "IBM$Date = as.Date(IBM$Date, \"%m/%d/%y\")\n",
    "\n",
    "GE$Date = as.Date(GE$Date, \"%m/%d/%y\")\n",
    "\n",
    "CocaCola$Date = as.Date(CocaCola$Date, \"%m/%d/%y\")\n",
    "\n",
    "ProcterGamble$Date = as.Date(ProcterGamble$Date, \"%m/%d/%y\")\n",
    "\n",
    "Boeing$Date = as.Date(Boeing$Date, \"%m/%d/%y\")"
   ]
  },
  {
   "cell_type": "code",
   "execution_count": 9,
   "metadata": {},
   "outputs": [
    {
     "name": "stdout",
     "output_type": "stream",
     "text": [
      "'data.frame':\t480 obs. of  2 variables:\n",
      " $ Date      : Date, format: \"1970-01-01\" \"1970-02-01\" ...\n",
      " $ StockPrice: num  27.9 22.4 23.1 21.6 18.9 ...\n"
     ]
    }
   ],
   "source": [
    "str(Boeing)"
   ]
  },
  {
   "cell_type": "markdown",
   "metadata": {},
   "source": [
    "**What is the earliest year in our datasets?**"
   ]
  },
  {
   "cell_type": "code",
   "execution_count": 10,
   "metadata": {},
   "outputs": [
    {
     "data": {
      "text/html": [
       "<time datetime=\"1970-01-01\">1970-01-01</time>"
      ],
      "text/latex": [
       "1970-01-01"
      ],
      "text/markdown": [
       "1970-01-01"
      ],
      "text/plain": [
       "[1] \"1970-01-01\""
      ]
     },
     "metadata": {},
     "output_type": "display_data"
    }
   ],
   "source": [
    "min(IBM$Date)"
   ]
  },
  {
   "cell_type": "markdown",
   "metadata": {},
   "source": [
    "**What is the latest year in our datasets?**"
   ]
  },
  {
   "cell_type": "code",
   "execution_count": 11,
   "metadata": {},
   "outputs": [
    {
     "data": {
      "text/html": [
       "<time datetime=\"2009-12-01\">2009-12-01</time>"
      ],
      "text/latex": [
       "2009-12-01"
      ],
      "text/markdown": [
       "2009-12-01"
      ],
      "text/plain": [
       "[1] \"2009-12-01\""
      ]
     },
     "metadata": {},
     "output_type": "display_data"
    }
   ],
   "source": [
    "max(IBM$Date)"
   ]
  },
  {
   "cell_type": "markdown",
   "metadata": {},
   "source": [
    "**What is the mean stock price of IBM over this time period?**"
   ]
  },
  {
   "cell_type": "code",
   "execution_count": 12,
   "metadata": {},
   "outputs": [
    {
     "data": {
      "text/html": [
       "144.375030307667"
      ],
      "text/latex": [
       "144.375030307667"
      ],
      "text/markdown": [
       "144.375030307667"
      ],
      "text/plain": [
       "[1] 144.375"
      ]
     },
     "metadata": {},
     "output_type": "display_data"
    }
   ],
   "source": [
    "mean(IBM$StockPrice)"
   ]
  },
  {
   "cell_type": "markdown",
   "metadata": {},
   "source": [
    "**What is the minimum stock price of General Electric (GE) over this time period?**"
   ]
  },
  {
   "cell_type": "code",
   "execution_count": 13,
   "metadata": {},
   "outputs": [
    {
     "data": {
      "text/html": [
       "9.293636364"
      ],
      "text/latex": [
       "9.293636364"
      ],
      "text/markdown": [
       "9.293636364"
      ],
      "text/plain": [
       "[1] 9.293636"
      ]
     },
     "metadata": {},
     "output_type": "display_data"
    }
   ],
   "source": [
    "min(GE$StockPrice)"
   ]
  },
  {
   "cell_type": "markdown",
   "metadata": {},
   "source": [
    "**What is the maximum stock price of Coca-Cola over this time period?**"
   ]
  },
  {
   "cell_type": "code",
   "execution_count": 14,
   "metadata": {},
   "outputs": [
    {
     "data": {
      "text/html": [
       "146.5842857"
      ],
      "text/latex": [
       "146.5842857"
      ],
      "text/markdown": [
       "146.5842857"
      ],
      "text/plain": [
       "[1] 146.5843"
      ]
     },
     "metadata": {},
     "output_type": "display_data"
    }
   ],
   "source": [
    "max(CocaCola$StockPrice)"
   ]
  },
  {
   "cell_type": "markdown",
   "metadata": {},
   "source": [
    "**What is the median stock price of Boeing over this time period?**"
   ]
  },
  {
   "cell_type": "code",
   "execution_count": 15,
   "metadata": {},
   "outputs": [
    {
     "data": {
      "text/html": [
       "44.88339827"
      ],
      "text/latex": [
       "44.88339827"
      ],
      "text/markdown": [
       "44.88339827"
      ],
      "text/plain": [
       "[1] 44.8834"
      ]
     },
     "metadata": {},
     "output_type": "display_data"
    }
   ],
   "source": [
    "median(Boeing$StockPrice)"
   ]
  },
  {
   "cell_type": "markdown",
   "metadata": {},
   "source": [
    "**What is the standard deviation of the stock price of Procter & Gamble over this time period?**"
   ]
  },
  {
   "cell_type": "code",
   "execution_count": 16,
   "metadata": {},
   "outputs": [
    {
     "data": {
      "text/html": [
       "18.1941403079716"
      ],
      "text/latex": [
       "18.1941403079716"
      ],
      "text/markdown": [
       "18.1941403079716"
      ],
      "text/plain": [
       "[1] 18.19414"
      ]
     },
     "metadata": {},
     "output_type": "display_data"
    }
   ],
   "source": [
    "sd(ProcterGamble$StockPrice)"
   ]
  },
  {
   "cell_type": "markdown",
   "metadata": {},
   "source": [
    "**Around what year did Coca-Cola has its highest stock price in this time period?**"
   ]
  },
  {
   "cell_type": "code",
   "execution_count": 17,
   "metadata": {},
   "outputs": [
    {
     "data": {
      "text/html": [
       "<table>\n",
       "<caption>A data.frame: 1 × 2</caption>\n",
       "<thead>\n",
       "\t<tr><th></th><th scope=col>Date</th><th scope=col>StockPrice</th></tr>\n",
       "\t<tr><th></th><th scope=col>&lt;date&gt;</th><th scope=col>&lt;dbl&gt;</th></tr>\n",
       "</thead>\n",
       "<tbody>\n",
       "\t<tr><th scope=row>37</th><td>1973-01-01</td><td>146.5843</td></tr>\n",
       "</tbody>\n",
       "</table>\n"
      ],
      "text/latex": [
       "A data.frame: 1 × 2\n",
       "\\begin{tabular}{r|ll}\n",
       "  & Date & StockPrice\\\\\n",
       "  & <date> & <dbl>\\\\\n",
       "\\hline\n",
       "\t37 & 1973-01-01 & 146.5843\\\\\n",
       "\\end{tabular}\n"
      ],
      "text/markdown": [
       "\n",
       "A data.frame: 1 × 2\n",
       "\n",
       "| <!--/--> | Date &lt;date&gt; | StockPrice &lt;dbl&gt; |\n",
       "|---|---|---|\n",
       "| 37 | 1973-01-01 | 146.5843 |\n",
       "\n"
      ],
      "text/plain": [
       "   Date       StockPrice\n",
       "37 1973-01-01 146.5843  "
      ]
     },
     "metadata": {},
     "output_type": "display_data"
    }
   ],
   "source": [
    "CocaCola[ which(CocaCola$StockPrice==max(CocaCola$StockPrice)),]"
   ]
  },
  {
   "cell_type": "code",
   "execution_count": 18,
   "metadata": {},
   "outputs": [
    {
     "data": {
      "image/png": "[encoded data removed]",
      "text/plain": [
       "Plot with title \"CocaCola Stock Dynamics\""
      ]
     },
     "metadata": {
      "image/png": {
       "height": 420,
       "width": 420
      },
      "text/plain": {
       "height": 420,
       "width": 420
      }
     },
     "output_type": "display_data"
    }
   ],
   "source": [
    "plot(CocaCola, type='l', main = \"CocaCola Stock Dynamics\")"
   ]
  },
  {
   "cell_type": "markdown",
   "metadata": {},
   "source": [
    "**Around what year did Coca-Cola has its lowest stock price in this time period?**"
   ]
  },
  {
   "cell_type": "code",
   "execution_count": 19,
   "metadata": {},
   "outputs": [
    {
     "data": {
      "text/html": [
       "<table>\n",
       "<caption>A data.frame: 1 × 2</caption>\n",
       "<thead>\n",
       "\t<tr><th></th><th scope=col>Date</th><th scope=col>StockPrice</th></tr>\n",
       "\t<tr><th></th><th scope=col>&lt;date&gt;</th><th scope=col>&lt;dbl&gt;</th></tr>\n",
       "</thead>\n",
       "<tbody>\n",
       "\t<tr><th scope=row>123</th><td>1980-03-01</td><td>30.05714</td></tr>\n",
       "</tbody>\n",
       "</table>\n"
      ],
      "text/latex": [
       "A data.frame: 1 × 2\n",
       "\\begin{tabular}{r|ll}\n",
       "  & Date & StockPrice\\\\\n",
       "  & <date> & <dbl>\\\\\n",
       "\\hline\n",
       "\t123 & 1980-03-01 & 30.05714\\\\\n",
       "\\end{tabular}\n"
      ],
      "text/markdown": [
       "\n",
       "A data.frame: 1 × 2\n",
       "\n",
       "| <!--/--> | Date &lt;date&gt; | StockPrice &lt;dbl&gt; |\n",
       "|---|---|---|\n",
       "| 123 | 1980-03-01 | 30.05714 |\n",
       "\n"
      ],
      "text/plain": [
       "    Date       StockPrice\n",
       "123 1980-03-01 30.05714  "
      ]
     },
     "metadata": {},
     "output_type": "display_data"
    }
   ],
   "source": [
    "CocaCola[ which(CocaCola$StockPrice==min(CocaCola$StockPrice)),]"
   ]
  },
  {
   "cell_type": "markdown",
   "metadata": {},
   "source": [
    "**In March of 2000, the technology bubble burst, and a stock market crash occurred. According to this plot (CocaCola and Procter&Gamble), which company's stock dropped more?**"
   ]
  },
  {
   "cell_type": "code",
   "execution_count": 20,
   "metadata": {},
   "outputs": [
    {
     "data": {
      "image/png": "[encoded data removed]",
      "text/plain": [
       "plot without title"
      ]
     },
     "metadata": {
      "image/png": {
       "height": 420,
       "width": 420
      },
      "text/plain": {
       "height": 420,
       "width": 420
      }
     },
     "output_type": "display_data"
    }
   ],
   "source": [
    "plot(CocaCola, type='l', col='red')\n",
    "\n",
    "lines(ProcterGamble$Date, ProcterGamble$StockPrice, col='blue', lty=2)"
   ]
  },
  {
   "cell_type": "code",
   "execution_count": 21,
   "metadata": {},
   "outputs": [
    {
     "data": {
      "image/png": "[encoded data removed]",
      "text/plain": [
       "plot without title"
      ]
     },
     "metadata": {
      "image/png": {
       "height": 420,
       "width": 420
      },
      "text/plain": {
       "height": 420,
       "width": 420
      }
     },
     "output_type": "display_data"
    }
   ],
   "source": [
    "plot(CocaCola, type='l', col='red')\n",
    "\n",
    "lines(ProcterGamble$Date, ProcterGamble$StockPrice, col='blue', lty=2)\n",
    "\n",
    "abline(v=as.Date(c(\"2000-03-01\")), lwd=1,lty=3)"
   ]
  },
  {
   "cell_type": "markdown",
   "metadata": {},
   "source": [
    "**Around 1983, the stock for one of these companies (Coca-Cola or Procter and Gamble) was going up, while the other was going down. Which one was going up?**"
   ]
  },
  {
   "cell_type": "code",
   "execution_count": 22,
   "metadata": {},
   "outputs": [
    {
     "data": {
      "image/png": "[encoded data removed]",
      "text/plain": [
       "plot without title"
      ]
     },
     "metadata": {
      "image/png": {
       "height": 420,
       "width": 420
      },
      "text/plain": {
       "height": 420,
       "width": 420
      }
     },
     "output_type": "display_data"
    }
   ],
   "source": [
    "plot(CocaCola, type='l', col='red')\n",
    "\n",
    "lines(ProcterGamble$Date, ProcterGamble$StockPrice, col='blue', lty=2)\n",
    "\n",
    "abline(v=as.Date(c(\"1983-01-01\")), lwd=1,lty=2)\n",
    "\n",
    "legend(\"bottomleft\",\n",
    "  legend=c(\"Coca Cola\", \"ProcterGamble\"),\n",
    "       col=c(\"red\", \"blue\"), lty=1:2, cex=0.8)"
   ]
  },
  {
   "cell_type": "markdown",
   "metadata": {},
   "source": [
    "**Which stock fell the most right after the technology bubble burst in March 2000?**"
   ]
  },
  {
   "cell_type": "code",
   "execution_count": 23,
   "metadata": {},
   "outputs": [
    {
     "data": {
      "image/png": "[encoded data removed]",
      "text/plain": [
       "plot without title"
      ]
     },
     "metadata": {
      "image/png": {
       "height": 420,
       "width": 420
      },
      "text/plain": {
       "height": 420,
       "width": 420
      }
     },
     "output_type": "display_data"
    }
   ],
   "source": [
    "plot(CocaCola$Date[301:432], CocaCola$StockPrice[301:432], type=\"l\", col=\"red\", ylim=c(0,210), xlab = \"Date\", \n",
    "     ylab = \"Stock Price\")\n",
    "\n",
    "lines(ProcterGamble$Date[301:432], ProcterGamble$StockPrice[301:432], col=\"blue\")\n",
    "\n",
    "lines(IBM$Date[301:432], IBM$StockPrice[301:432], col=\"green\")\n",
    "\n",
    "lines(GE$Date[301:432], GE$StockPrice[301:432], col=\"purple\")\n",
    "\n",
    "lines(Boeing$Date[301:432], Boeing$StockPrice[301:432], col=\"orange\")\n",
    "\n",
    "abline(v=as.Date(c(\"2000-03-01\")), lwd=2)\n",
    "\n",
    "legend( \"topleft\",\n",
    "       legend=c(\"Coca Cola\", \"ProcterGamble\", \"IBM\", \"GE\", \"Boeing\"),\n",
    "       col=c(\"red\", \"blue\", \"green\", \"purple\", \"orange\"), lty=1:2, cex=0.8)"
   ]
  },
  {
   "cell_type": "markdown",
   "metadata": {},
   "source": [
    "General Electric (GE)"
   ]
  },
  {
   "cell_type": "markdown",
   "metadata": {},
   "source": [
    "**Which stock reaches the highest value in the time period 1995-2005?**"
   ]
  },
  {
   "cell_type": "markdown",
   "metadata": {},
   "source": [
    "IBM"
   ]
  },
  {
   "cell_type": "markdown",
   "metadata": {},
   "source": [
    "**In October of 1997, there was a global stock market crash that was caused by an economic crisis in Asia. Comparing September 1997 to November 1997, which companies saw a decreasing trend in their stock price?**"
   ]
  },
  {
   "cell_type": "code",
   "execution_count": 24,
   "metadata": {},
   "outputs": [
    {
     "data": {
      "image/png": "[encoded data removed]",
      "text/plain": [
       "plot without title"
      ]
     },
     "metadata": {
      "image/png": {
       "height": 420,
       "width": 420
      },
      "text/plain": {
       "height": 420,
       "width": 420
      }
     },
     "output_type": "display_data"
    }
   ],
   "source": [
    "plot(CocaCola$Date[301:432], CocaCola$StockPrice[301:432], type=\"l\", col=\"red\", ylim=c(0,210), xlab = \"Date\", \n",
    "     ylab = \"Stock Price\")\n",
    "\n",
    "lines(ProcterGamble$Date[301:432], ProcterGamble$StockPrice[301:432], col=\"blue\")\n",
    "lines(IBM$Date[301:432], IBM$StockPrice[301:432], col=\"green\")\n",
    "lines(GE$Date[301:432], GE$StockPrice[301:432], col=\"purple\")\n",
    "lines(Boeing$Date[301:432], Boeing$StockPrice[301:432], col=\"orange\")\n",
    "\n",
    "abline(v=as.Date(c(\"1997-09-01\")), lwd=2)\n",
    "abline(v=as.Date(c(\"1997-11-01\")), lwd=2)\n",
    "\n",
    "legend( \"topleft\",\n",
    "       legend=c(\"Coca Cola\", \"ProcterGamble\", \"IBM\", \"GE\", \"Boeing\"),\n",
    "       col=c(\"red\", \"blue\", \"green\", \"purple\", \"orange\"), lty=1:2, cex=0.8)"
   ]
  },
  {
   "cell_type": "markdown",
   "metadata": {},
   "source": [
    "Two companies had a decreasing trend in stock prices from September 1997 to November 1997: Boeing and Procter & Gamble."
   ]
  },
  {
   "cell_type": "markdown",
   "metadata": {},
   "source": [
    "**In the last two years of this time period (2004 and 2005) which stock seems to be performing the best, in terms of increasing stock price?**"
   ]
  },
  {
   "cell_type": "code",
   "execution_count": 25,
   "metadata": {},
   "outputs": [
    {
     "data": {
      "image/png": "[encoded data removed]",
      "text/plain": [
       "plot without title"
      ]
     },
     "metadata": {
      "image/png": {
       "height": 420,
       "width": 420
      },
      "text/plain": {
       "height": 420,
       "width": 420
      }
     },
     "output_type": "display_data"
    }
   ],
   "source": [
    "plot(CocaCola$Date[301:432], CocaCola$StockPrice[301:432], type=\"l\", col=\"red\", ylim=c(0,210), xlab = \"Date\",\n",
    "     ylab = \"Stock Price\")\n",
    "\n",
    "lines(ProcterGamble$Date[301:432], ProcterGamble$StockPrice[301:432], col=\"blue\")\n",
    "lines(IBM$Date[301:432], IBM$StockPrice[301:432], col=\"green\")\n",
    "lines(GE$Date[301:432], GE$StockPrice[301:432], col=\"purple\")\n",
    "lines(Boeing$Date[301:432], Boeing$StockPrice[301:432], col=\"orange\")\n",
    "\n",
    "abline(v=as.Date(c(\"2004-1-01\")), lwd=2)\n",
    "abline(v=as.Date(c(\"2006-1-01\")), lwd=2)\n",
    "\n",
    "legend( \"topleft\",\n",
    "       legend=c(\"Coca Cola\", \"ProcterGamble\", \"IBM\", \"GE\", \"Boeing\"),\n",
    "       col=c(\"red\", \"blue\", \"green\", \"purple\", \"orange\"), lty=1:2, cex=0.8)"
   ]
  },
  {
   "cell_type": "markdown",
   "metadata": {},
   "source": [
    "Boeing is steadily increasing from 2004 to the beginning of 2006."
   ]
  },
  {
   "cell_type": "markdown",
   "metadata": {},
   "source": [
    "**For IBM, compare the monthly averages to the overall average stock price. In which months has IBM historically had a higher stock price (on average)? Select all that apply.**"
   ]
  },
  {
   "cell_type": "code",
   "execution_count": 26,
   "metadata": {},
   "outputs": [
    {
     "data": {
      "text/html": [
       "144.375030307667"
      ],
      "text/latex": [
       "144.375030307667"
      ],
      "text/markdown": [
       "144.375030307667"
      ],
      "text/plain": [
       "[1] 144.375"
      ]
     },
     "metadata": {},
     "output_type": "display_data"
    }
   ],
   "source": [
    "mean(IBM$StockPrice)"
   ]
  },
  {
   "cell_type": "code",
   "execution_count": 27,
   "metadata": {},
   "outputs": [
    {
     "data": {
      "text/html": [
       "<style>\n",
       ".dl-inline {width: auto; margin:0; padding: 0}\n",
       ".dl-inline>dt, .dl-inline>dd {float: none; width: auto; display: inline-block}\n",
       ".dl-inline>dt::after {content: \":\\0020\"; padding-right: .5ex}\n",
       ".dl-inline>dt:not(:first-of-type) {padding-left: .5ex}\n",
       "</style><dl class=dl-inline><dt>April</dt><dd>152.11682382375</dd><dt>August</dt><dd>140.145474968</dd><dt>December</dt><dd>140.75930962775</dd><dt>February</dt><dd>152.6939934145</dd><dt>January</dt><dd>150.2384226615</dd><dt>July</dt><dd>139.06701818325</dd><dt>June</dt><dd>139.0906762995</dd><dt>March</dt><dd>152.432689622</dd><dt>May</dt><dd>151.5021941505</dd><dt>November</dt><dd>138.01868188175</dd><dt>October</dt><dd>137.346552522</dd><dt>September</dt><dd>139.0885265375</dd></dl>\n"
      ],
      "text/latex": [
       "\\begin{description*}\n",
       "\\item[April] 152.11682382375\n",
       "\\item[August] 140.145474968\n",
       "\\item[December] 140.75930962775\n",
       "\\item[February] 152.6939934145\n",
       "\\item[January] 150.2384226615\n",
       "\\item[July] 139.06701818325\n",
       "\\item[June] 139.0906762995\n",
       "\\item[March] 152.432689622\n",
       "\\item[May] 151.5021941505\n",
       "\\item[November] 138.01868188175\n",
       "\\item[October] 137.346552522\n",
       "\\item[September] 139.0885265375\n",
       "\\end{description*}\n"
      ],
      "text/markdown": [
       "April\n",
       ":   152.11682382375August\n",
       ":   140.145474968December\n",
       ":   140.75930962775February\n",
       ":   152.6939934145January\n",
       ":   150.2384226615July\n",
       ":   139.06701818325June\n",
       ":   139.0906762995March\n",
       ":   152.432689622May\n",
       ":   151.5021941505November\n",
       ":   138.01868188175October\n",
       ":   137.346552522September\n",
       ":   139.0885265375\n",
       "\n"
      ],
      "text/plain": [
       "    April    August  December  February   January      July      June     March \n",
       " 152.1168  140.1455  140.7593  152.6940  150.2384  139.0670  139.0907  152.4327 \n",
       "      May  November   October September \n",
       " 151.5022  138.0187  137.3466  139.0885 "
      ]
     },
     "metadata": {},
     "output_type": "display_data"
    }
   ],
   "source": [
    "tapply(IBM$StockPrice, months(IBM$Date), mean)"
   ]
  },
  {
   "cell_type": "code",
   "execution_count": 28,
   "metadata": {},
   "outputs": [
    {
     "data": {
      "text/html": [
       "<style>\n",
       ".dl-inline {width: auto; margin:0; padding: 0}\n",
       ".dl-inline>dt, .dl-inline>dd {float: none; width: auto; display: inline-block}\n",
       ".dl-inline>dt::after {content: \":\\0020\"; padding-right: .5ex}\n",
       ".dl-inline>dt:not(:first-of-type) {padding-left: .5ex}\n",
       "</style><dl class=dl-inline><dt>April</dt><dd>TRUE</dd><dt>August</dt><dd>FALSE</dd><dt>December</dt><dd>FALSE</dd><dt>February</dt><dd>TRUE</dd><dt>January</dt><dd>TRUE</dd><dt>July</dt><dd>FALSE</dd><dt>June</dt><dd>FALSE</dd><dt>March</dt><dd>TRUE</dd><dt>May</dt><dd>TRUE</dd><dt>November</dt><dd>FALSE</dd><dt>October</dt><dd>FALSE</dd><dt>September</dt><dd>FALSE</dd></dl>\n"
      ],
      "text/latex": [
       "\\begin{description*}\n",
       "\\item[April] TRUE\n",
       "\\item[August] FALSE\n",
       "\\item[December] FALSE\n",
       "\\item[February] TRUE\n",
       "\\item[January] TRUE\n",
       "\\item[July] FALSE\n",
       "\\item[June] FALSE\n",
       "\\item[March] TRUE\n",
       "\\item[May] TRUE\n",
       "\\item[November] FALSE\n",
       "\\item[October] FALSE\n",
       "\\item[September] FALSE\n",
       "\\end{description*}\n"
      ],
      "text/markdown": [
       "April\n",
       ":   TRUEAugust\n",
       ":   FALSEDecember\n",
       ":   FALSEFebruary\n",
       ":   TRUEJanuary\n",
       ":   TRUEJuly\n",
       ":   FALSEJune\n",
       ":   FALSEMarch\n",
       ":   TRUEMay\n",
       ":   TRUENovember\n",
       ":   FALSEOctober\n",
       ":   FALSESeptember\n",
       ":   FALSE\n",
       "\n"
      ],
      "text/plain": [
       "    April    August  December  February   January      July      June     March \n",
       "     TRUE     FALSE     FALSE      TRUE      TRUE     FALSE     FALSE      TRUE \n",
       "      May  November   October September \n",
       "     TRUE     FALSE     FALSE     FALSE "
      ]
     },
     "metadata": {},
     "output_type": "display_data"
    }
   ],
   "source": [
    "tapply(IBM$StockPrice, months(IBM$Date), mean) > mean(IBM$StockPrice)"
   ]
  },
  {
   "cell_type": "markdown",
   "metadata": {},
   "source": [
    "We can see that the price has historically been higher than average January - May, and lower than average during the remaining months."
   ]
  },
  {
   "cell_type": "markdown",
   "metadata": {},
   "source": [
    "**General Electric and Coca-Cola both have their highest average stock price in the same month. Which month is this?**"
   ]
  },
  {
   "cell_type": "code",
   "execution_count": 29,
   "metadata": {},
   "outputs": [
    {
     "data": {
      "text/html": [
       "<style>\n",
       ".dl-inline {width: auto; margin:0; padding: 0}\n",
       ".dl-inline>dt, .dl-inline>dd {float: none; width: auto; display: inline-block}\n",
       ".dl-inline>dt::after {content: \":\\0020\"; padding-right: .5ex}\n",
       ".dl-inline>dt:not(:first-of-type) {padding-left: .5ex}\n",
       "</style><dl class=dl-inline><dt>April</dt><dd>64.4800915325</dd><dt>August</dt><dd>56.50314874</dd><dt>December</dt><dd>59.10217406075</dd><dt>February</dt><dd>62.52080460625</dd><dt>January</dt><dd>62.045106331</dd><dt>July</dt><dd>56.7334929405</dd><dt>June</dt><dd>56.46843917825</dd><dt>March</dt><dd>63.15054792035</dd><dt>May</dt><dd>60.87135102825</dd><dt>November</dt><dd>57.2887945375</dd><dt>October</dt><dd>56.2389679325</dd><dt>September</dt><dd>56.239130513</dd></dl>\n"
      ],
      "text/latex": [
       "\\begin{description*}\n",
       "\\item[April] 64.4800915325\n",
       "\\item[August] 56.50314874\n",
       "\\item[December] 59.10217406075\n",
       "\\item[February] 62.52080460625\n",
       "\\item[January] 62.045106331\n",
       "\\item[July] 56.7334929405\n",
       "\\item[June] 56.46843917825\n",
       "\\item[March] 63.15054792035\n",
       "\\item[May] 60.87135102825\n",
       "\\item[November] 57.2887945375\n",
       "\\item[October] 56.2389679325\n",
       "\\item[September] 56.239130513\n",
       "\\end{description*}\n"
      ],
      "text/markdown": [
       "April\n",
       ":   64.4800915325August\n",
       ":   56.50314874December\n",
       ":   59.10217406075February\n",
       ":   62.52080460625January\n",
       ":   62.045106331July\n",
       ":   56.7334929405June\n",
       ":   56.46843917825March\n",
       ":   63.15054792035May\n",
       ":   60.87135102825November\n",
       ":   57.2887945375October\n",
       ":   56.2389679325September\n",
       ":   56.239130513\n",
       "\n"
      ],
      "text/plain": [
       "    April    August  December  February   January      July      June     March \n",
       " 64.48009  56.50315  59.10217  62.52080  62.04511  56.73349  56.46844  63.15055 \n",
       "      May  November   October September \n",
       " 60.87135  57.28879  56.23897  56.23913 "
      ]
     },
     "metadata": {},
     "output_type": "display_data"
    },
    {
     "data": {
      "text/html": [
       "<style>\n",
       ".dl-inline {width: auto; margin:0; padding: 0}\n",
       ".dl-inline>dt, .dl-inline>dd {float: none; width: auto; display: inline-block}\n",
       ".dl-inline>dt::after {content: \":\\0020\"; padding-right: .5ex}\n",
       ".dl-inline>dt:not(:first-of-type) {padding-left: .5ex}\n",
       "</style><dl class=dl-inline><dt>April</dt><dd>62.68888193675</dd><dt>August</dt><dd>58.880138883</dd><dt>December</dt><dd>59.73222678275</dd><dt>February</dt><dd>60.73475394675</dd><dt>January</dt><dd>60.36848658375</dd><dt>July</dt><dd>58.983460044</dd><dt>June</dt><dd>60.812084197</dd><dt>March</dt><dd>62.07135394325</dd><dt>May</dt><dd>61.4435805755</dd><dt>November</dt><dd>59.10268317525</dd><dt>October</dt><dd>57.93886841525</dd><dt>September</dt><dd>57.600238316</dd></dl>\n"
      ],
      "text/latex": [
       "\\begin{description*}\n",
       "\\item[April] 62.68888193675\n",
       "\\item[August] 58.880138883\n",
       "\\item[December] 59.73222678275\n",
       "\\item[February] 60.73475394675\n",
       "\\item[January] 60.36848658375\n",
       "\\item[July] 58.983460044\n",
       "\\item[June] 60.812084197\n",
       "\\item[March] 62.07135394325\n",
       "\\item[May] 61.4435805755\n",
       "\\item[November] 59.10268317525\n",
       "\\item[October] 57.93886841525\n",
       "\\item[September] 57.600238316\n",
       "\\end{description*}\n"
      ],
      "text/markdown": [
       "April\n",
       ":   62.68888193675August\n",
       ":   58.880138883December\n",
       ":   59.73222678275February\n",
       ":   60.73475394675January\n",
       ":   60.36848658375July\n",
       ":   58.983460044June\n",
       ":   60.812084197March\n",
       ":   62.07135394325May\n",
       ":   61.4435805755November\n",
       ":   59.10268317525October\n",
       ":   57.93886841525September\n",
       ":   57.600238316\n",
       "\n"
      ],
      "text/plain": [
       "    April    August  December  February   January      July      June     March \n",
       " 62.68888  58.88014  59.73223  60.73475  60.36849  58.98346  60.81208  62.07135 \n",
       "      May  November   October September \n",
       " 61.44358  59.10268  57.93887  57.60024 "
      ]
     },
     "metadata": {},
     "output_type": "display_data"
    }
   ],
   "source": [
    "tapply(GE$StockPrice, months(GE$Date), mean)\n",
    "tapply(CocaCola$StockPrice, months(CocaCola$Date), mean)"
   ]
  },
  {
   "cell_type": "markdown",
   "metadata": {},
   "source": [
    "April"
   ]
  },
  {
   "cell_type": "markdown",
   "metadata": {},
   "source": [
    "**For the months of December and January, every company's average stock is higher in one month and lower in the other. In which month are the stock prices lower?**"
   ]
  },
  {
   "cell_type": "code",
   "execution_count": 30,
   "metadata": {},
   "outputs": [
    {
     "data": {
      "text/html": [
       "<style>\n",
       ".dl-inline {width: auto; margin:0; padding: 0}\n",
       ".dl-inline>dt, .dl-inline>dd {float: none; width: auto; display: inline-block}\n",
       ".dl-inline>dt::after {content: \":\\0020\"; padding-right: .5ex}\n",
       ".dl-inline>dt:not(:first-of-type) {padding-left: .5ex}\n",
       "</style><dl class=dl-inline><dt>April</dt><dd>47.04686039525</dd><dt>August</dt><dd>46.8631072365</dd><dt>December</dt><dd>46.1731455305</dd><dt>February</dt><dd>46.89223289475</dd><dt>January</dt><dd>46.51097408775</dd><dt>July</dt><dd>46.55360213</dd><dt>June</dt><dd>47.38525487025</dd><dt>March</dt><dd>46.882075791</dd><dt>May</dt><dd>48.1371595235</dd><dt>November</dt><dd>45.14990347725</dd><dt>October</dt><dd>45.216034514</dd><dt>September</dt><dd>46.30485379075</dd></dl>\n"
      ],
      "text/latex": [
       "\\begin{description*}\n",
       "\\item[April] 47.04686039525\n",
       "\\item[August] 46.8631072365\n",
       "\\item[December] 46.1731455305\n",
       "\\item[February] 46.89223289475\n",
       "\\item[January] 46.51097408775\n",
       "\\item[July] 46.55360213\n",
       "\\item[June] 47.38525487025\n",
       "\\item[March] 46.882075791\n",
       "\\item[May] 48.1371595235\n",
       "\\item[November] 45.14990347725\n",
       "\\item[October] 45.216034514\n",
       "\\item[September] 46.30485379075\n",
       "\\end{description*}\n"
      ],
      "text/markdown": [
       "April\n",
       ":   47.04686039525August\n",
       ":   46.8631072365December\n",
       ":   46.1731455305February\n",
       ":   46.89223289475January\n",
       ":   46.51097408775July\n",
       ":   46.55360213June\n",
       ":   47.38525487025March\n",
       ":   46.882075791May\n",
       ":   48.1371595235November\n",
       ":   45.14990347725October\n",
       ":   45.216034514September\n",
       ":   46.30485379075\n",
       "\n"
      ],
      "text/plain": [
       "    April    August  December  February   January      July      June     March \n",
       " 47.04686  46.86311  46.17315  46.89223  46.51097  46.55360  47.38525  46.88208 \n",
       "      May  November   October September \n",
       " 48.13716  45.14990  45.21603  46.30485 "
      ]
     },
     "metadata": {},
     "output_type": "display_data"
    },
    {
     "data": {
      "text/html": [
       "<style>\n",
       ".dl-inline {width: auto; margin:0; padding: 0}\n",
       ".dl-inline>dt, .dl-inline>dd {float: none; width: auto; display: inline-block}\n",
       ".dl-inline>dt::after {content: \":\\0020\"; padding-right: .5ex}\n",
       ".dl-inline>dt:not(:first-of-type) {padding-left: .5ex}\n",
       "</style><dl class=dl-inline><dt>April</dt><dd>152.11682382375</dd><dt>August</dt><dd>140.145474968</dd><dt>December</dt><dd>140.75930962775</dd><dt>February</dt><dd>152.6939934145</dd><dt>January</dt><dd>150.2384226615</dd><dt>July</dt><dd>139.06701818325</dd><dt>June</dt><dd>139.0906762995</dd><dt>March</dt><dd>152.432689622</dd><dt>May</dt><dd>151.5021941505</dd><dt>November</dt><dd>138.01868188175</dd><dt>October</dt><dd>137.346552522</dd><dt>September</dt><dd>139.0885265375</dd></dl>\n"
      ],
      "text/latex": [
       "\\begin{description*}\n",
       "\\item[April] 152.11682382375\n",
       "\\item[August] 140.145474968\n",
       "\\item[December] 140.75930962775\n",
       "\\item[February] 152.6939934145\n",
       "\\item[January] 150.2384226615\n",
       "\\item[July] 139.06701818325\n",
       "\\item[June] 139.0906762995\n",
       "\\item[March] 152.432689622\n",
       "\\item[May] 151.5021941505\n",
       "\\item[November] 138.01868188175\n",
       "\\item[October] 137.346552522\n",
       "\\item[September] 139.0885265375\n",
       "\\end{description*}\n"
      ],
      "text/markdown": [
       "April\n",
       ":   152.11682382375August\n",
       ":   140.145474968December\n",
       ":   140.75930962775February\n",
       ":   152.6939934145January\n",
       ":   150.2384226615July\n",
       ":   139.06701818325June\n",
       ":   139.0906762995March\n",
       ":   152.432689622May\n",
       ":   151.5021941505November\n",
       ":   138.01868188175October\n",
       ":   137.346552522September\n",
       ":   139.0885265375\n",
       "\n"
      ],
      "text/plain": [
       "    April    August  December  February   January      July      June     March \n",
       " 152.1168  140.1455  140.7593  152.6940  150.2384  139.0670  139.0907  152.4327 \n",
       "      May  November   October September \n",
       " 151.5022  138.0187  137.3466  139.0885 "
      ]
     },
     "metadata": {},
     "output_type": "display_data"
    },
    {
     "data": {
      "text/html": [
       "<style>\n",
       ".dl-inline {width: auto; margin:0; padding: 0}\n",
       ".dl-inline>dt, .dl-inline>dd {float: none; width: auto; display: inline-block}\n",
       ".dl-inline>dt::after {content: \":\\0020\"; padding-right: .5ex}\n",
       ".dl-inline>dt:not(:first-of-type) {padding-left: .5ex}\n",
       "</style><dl class=dl-inline><dt>April</dt><dd>77.6867078655</dd><dt>August</dt><dd>76.8226631825</dd><dt>December</dt><dd>78.2966076655</dd><dt>February</dt><dd>79.02575460575</dd><dt>January</dt><dd>79.6179844985</dd><dt>July</dt><dd>76.64555938575</dd><dt>June</dt><dd>77.392751461</dd><dt>March</dt><dd>77.3476069055</dd><dt>May</dt><dd>77.8595784645</dd><dt>November</dt><dd>78.45610367575</dd><dt>October</dt><dd>76.67903482225</dd><dt>September</dt><dd>76.623845019</dd></dl>\n"
      ],
      "text/latex": [
       "\\begin{description*}\n",
       "\\item[April] 77.6867078655\n",
       "\\item[August] 76.8226631825\n",
       "\\item[December] 78.2966076655\n",
       "\\item[February] 79.02575460575\n",
       "\\item[January] 79.6179844985\n",
       "\\item[July] 76.64555938575\n",
       "\\item[June] 77.392751461\n",
       "\\item[March] 77.3476069055\n",
       "\\item[May] 77.8595784645\n",
       "\\item[November] 78.45610367575\n",
       "\\item[October] 76.67903482225\n",
       "\\item[September] 76.623845019\n",
       "\\end{description*}\n"
      ],
      "text/markdown": [
       "April\n",
       ":   77.6867078655August\n",
       ":   76.8226631825December\n",
       ":   78.2966076655February\n",
       ":   79.02575460575January\n",
       ":   79.6179844985July\n",
       ":   76.64555938575June\n",
       ":   77.392751461March\n",
       ":   77.3476069055May\n",
       ":   77.8595784645November\n",
       ":   78.45610367575October\n",
       ":   76.67903482225September\n",
       ":   76.623845019\n",
       "\n"
      ],
      "text/plain": [
       "    April    August  December  February   January      July      June     March \n",
       " 77.68671  76.82266  78.29661  79.02575  79.61798  76.64556  77.39275  77.34761 \n",
       "      May  November   October September \n",
       " 77.85958  78.45610  76.67903  76.62385 "
      ]
     },
     "metadata": {},
     "output_type": "display_data"
    }
   ],
   "source": [
    "tapply(Boeing$StockPrice, months(Boeing$Date), mean)\n",
    "tapply(IBM$StockPrice, months(IBM$Date), mean)\n",
    "tapply(ProcterGamble$StockPrice, months(ProcterGamble$Date), mean)"
   ]
  },
  {
   "cell_type": "markdown",
   "metadata": {},
   "source": [
    "Having lower stock prices in December is a trend that holds for all five companies."
   ]
  }
 ],
 "metadata": {
  "kernelspec": {
   "display_name": "R",
   "language": "R",
   "name": "ir"
  },
  "language_info": {
   "codemirror_mode": "r",
   "file_extension": ".r",
   "mimetype": "text/x-r-source",
   "name": "R",
   "pygments_lexer": "r",
   "version": "3.6.3"
  }
 },
 "nbformat": 4,
 "nbformat_minor": 4
}
