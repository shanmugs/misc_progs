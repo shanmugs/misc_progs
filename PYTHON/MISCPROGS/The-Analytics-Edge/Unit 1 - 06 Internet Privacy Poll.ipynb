{
 "cells": [
  {
   "cell_type": "markdown",
   "metadata": {},
   "source": [
    "# Internet Privacy Poll"
   ]
  },
  {
   "cell_type": "markdown",
   "metadata": {},
   "source": [
    "Internet privacy has gained widespread attention in recent years. To measure the degree to which people are concerned about hot-button issues like Internet privacy, social scientists conduct polls in which they interview a large number of people about the topic. In this assignment, we will analyze data from a July 2013 Pew Internet and American Life Project poll on Internet anonymity and privacy, which involved interviews across the United States. While the full polling data can be found here, we will use a more limited version of the results, available in **AnonymityPoll.csv**."
   ]
  },
  {
   "cell_type": "markdown",
   "metadata": {},
   "source": [
    "The dataset has the following fields (all Internet use-related fields were only collected from interviewees who either use the Internet or have a smartphone):\n",
    "\n",
    "    Internet.Use: A binary variable indicating if the interviewee uses the Internet, at least occasionally (equals 1 if the interviewee uses the Internet, and equals 0 if the interviewee does not use the Internet).\n",
    "    \n",
    "    Smartphone: A binary variable indicating if the interviewee has a smartphone (equals 1 if they do have a smartphone, and equals 0 if they don't have a smartphone).\n",
    "    \n",
    "    Sex: Male or Female.\n",
    "    \n",
    "    Age: Age in years.\n",
    "    \n",
    "    State: State of residence of the interviewee.\n",
    "    \n",
    "    Region: Census region of the interviewee (Midwest, Northeast, South, or West).\n",
    "    \n",
    "    Conservativeness: Self-described level of conservativeness of interviewee, from 1 (very liberal) to 5 (very conservative).\n",
    "    \n",
    "    Info.On.Internet: Number of the following items this interviewee believes to be available on the Internet for others to see: (1) Their email address; (2) Their home address; (3) Their home phone number; (4) Their cell phone number; (5) The employer/company they work for; (6) Their political party or political affiliation; (7) Things they've written that have their name on it; (8) A photo of them; (9) A video of them; (10) Which groups or organizations they belong to; and (11) Their birth date.\n",
    "    \n",
    "    Worry.About.Info: A binary variable indicating if the interviewee worries about how much information is available about them on the Internet (equals 1 if they worry, and equals 0 if they don't worry).\n",
    "    \n",
    "    Privacy.Importance: A score from 0 (privacy is not too important) to 100 (privacy is very important), which combines the degree to which they find privacy important in the following: (1) The websites they browse; (2) Knowledge of the place they are located when they use the Internet; (3) The content and files they download; (4) The times of day they are online; (5) The applications or programs they use; (6) The searches they perform; (7) The content of their email; (8) The people they exchange email with; and (9) The content of their online chats or hangouts with others.\n",
    "    \n",
    "    Anonymity.Possible: A binary variable indicating if the interviewee thinks it's possible to use the Internet anonymously, meaning in such a way that online activities can't be traced back to them (equals 1 if he/she believes you can, and equals 0 if he/she believes you can't).\n",
    "    \n",
    "    Tried.Masking.Identity: A binary variable indicating if the interviewee has ever tried to mask his/her identity when using the Internet (equals 1 if he/she has tried to mask his/her identity, and equals 0 if he/she has not tried to mask his/her identity).\n",
    "    \n",
    "    Privacy.Laws.Effective: A binary variable indicating if the interviewee believes United States law provides reasonable privacy protection for Internet users (equals 1 if he/she believes it does, and equals 0 if he/she believes it doesn't)."
   ]
  },
  {
   "cell_type": "markdown",
   "metadata": {},
   "source": [
    "### Problem 1.1 - Loading and Summarizing the Dataset\n",
    "\n",
    "Using read.csv(), load the dataset from AnonymityPoll.csv into a data frame called poll and summarize it with the summary() and str() functions.\n",
    "\n",
    "**How many people participated in the poll?**"
   ]
  },
  {
   "cell_type": "code",
   "execution_count": 1,
   "metadata": {},
   "outputs": [
    {
     "data": {
      "text/html": [
       "<table>\n",
       "<caption>A data.frame: 6 × 13</caption>\n",
       "<thead>\n",
       "\t<tr><th></th><th scope=col>Internet.Use</th><th scope=col>Smartphone</th><th scope=col>Sex</th><th scope=col>Age</th><th scope=col>State</th><th scope=col>Region</th><th scope=col>Conservativeness</th><th scope=col>Info.On.Internet</th><th scope=col>Worry.About.Info</th><th scope=col>Privacy.Importance</th><th scope=col>Anonymity.Possible</th><th scope=col>Tried.Masking.Identity</th><th scope=col>Privacy.Laws.Effective</th></tr>\n",
       "\t<tr><th></th><th scope=col>&lt;int&gt;</th><th scope=col>&lt;int&gt;</th><th scope=col>&lt;fct&gt;</th><th scope=col>&lt;int&gt;</th><th scope=col>&lt;fct&gt;</th><th scope=col>&lt;fct&gt;</th><th scope=col>&lt;int&gt;</th><th scope=col>&lt;int&gt;</th><th scope=col>&lt;int&gt;</th><th scope=col>&lt;dbl&gt;</th><th scope=col>&lt;int&gt;</th><th scope=col>&lt;int&gt;</th><th scope=col>&lt;int&gt;</th></tr>\n",
       "</thead>\n",
       "<tbody>\n",
       "\t<tr><th scope=row>1</th><td>1</td><td> 0</td><td>Male  </td><td>62</td><td>Massachusetts </td><td>Northeast</td><td>4</td><td> 0</td><td> 1</td><td>100.00000</td><td> 0</td><td> 0</td><td> 0</td></tr>\n",
       "\t<tr><th scope=row>2</th><td>1</td><td> 0</td><td>Male  </td><td>45</td><td>South Carolina</td><td>South    </td><td>1</td><td> 1</td><td> 0</td><td>  0.00000</td><td> 1</td><td> 0</td><td> 1</td></tr>\n",
       "\t<tr><th scope=row>3</th><td>0</td><td> 1</td><td>Female</td><td>70</td><td>New Jersey    </td><td>Northeast</td><td>4</td><td> 0</td><td> 0</td><td>       NA</td><td> 0</td><td> 0</td><td>NA</td></tr>\n",
       "\t<tr><th scope=row>4</th><td>1</td><td> 0</td><td>Male  </td><td>70</td><td>Georgia       </td><td>South    </td><td>4</td><td> 3</td><td> 1</td><td> 88.88889</td><td> 1</td><td> 0</td><td> 0</td></tr>\n",
       "\t<tr><th scope=row>5</th><td>0</td><td>NA</td><td>Female</td><td>80</td><td>Georgia       </td><td>South    </td><td>4</td><td>NA</td><td>NA</td><td>       NA</td><td>NA</td><td>NA</td><td>NA</td></tr>\n",
       "\t<tr><th scope=row>6</th><td>1</td><td> 1</td><td>Male  </td><td>49</td><td>Tennessee     </td><td>South    </td><td>4</td><td> 6</td><td> 0</td><td> 88.88889</td><td> 1</td><td> 1</td><td> 0</td></tr>\n",
       "</tbody>\n",
       "</table>\n"
      ],
      "text/latex": [
       "A data.frame: 6 × 13\n",
       "\\begin{tabular}{r|lllllllllllll}\n",
       "  & Internet.Use & Smartphone & Sex & Age & State & Region & Conservativeness & Info.On.Internet & Worry.About.Info & Privacy.Importance & Anonymity.Possible & Tried.Masking.Identity & Privacy.Laws.Effective\\\\\n",
       "  & <int> & <int> & <fct> & <int> & <fct> & <fct> & <int> & <int> & <int> & <dbl> & <int> & <int> & <int>\\\\\n",
       "\\hline\n",
       "\t1 & 1 &  0 & Male   & 62 & Massachusetts  & Northeast & 4 &  0 &  1 & 100.00000 &  0 &  0 &  0\\\\\n",
       "\t2 & 1 &  0 & Male   & 45 & South Carolina & South     & 1 &  1 &  0 &   0.00000 &  1 &  0 &  1\\\\\n",
       "\t3 & 0 &  1 & Female & 70 & New Jersey     & Northeast & 4 &  0 &  0 &        NA &  0 &  0 & NA\\\\\n",
       "\t4 & 1 &  0 & Male   & 70 & Georgia        & South     & 4 &  3 &  1 &  88.88889 &  1 &  0 &  0\\\\\n",
       "\t5 & 0 & NA & Female & 80 & Georgia        & South     & 4 & NA & NA &        NA & NA & NA & NA\\\\\n",
       "\t6 & 1 &  1 & Male   & 49 & Tennessee      & South     & 4 &  6 &  0 &  88.88889 &  1 &  1 &  0\\\\\n",
       "\\end{tabular}\n"
      ],
      "text/markdown": [
       "\n",
       "A data.frame: 6 × 13\n",
       "\n",
       "| <!--/--> | Internet.Use &lt;int&gt; | Smartphone &lt;int&gt; | Sex &lt;fct&gt; | Age &lt;int&gt; | State &lt;fct&gt; | Region &lt;fct&gt; | Conservativeness &lt;int&gt; | Info.On.Internet &lt;int&gt; | Worry.About.Info &lt;int&gt; | Privacy.Importance &lt;dbl&gt; | Anonymity.Possible &lt;int&gt; | Tried.Masking.Identity &lt;int&gt; | Privacy.Laws.Effective &lt;int&gt; |\n",
       "|---|---|---|---|---|---|---|---|---|---|---|---|---|---|\n",
       "| 1 | 1 |  0 | Male   | 62 | Massachusetts  | Northeast | 4 |  0 |  1 | 100.00000 |  0 |  0 |  0 |\n",
       "| 2 | 1 |  0 | Male   | 45 | South Carolina | South     | 1 |  1 |  0 |   0.00000 |  1 |  0 |  1 |\n",
       "| 3 | 0 |  1 | Female | 70 | New Jersey     | Northeast | 4 |  0 |  0 |        NA |  0 |  0 | NA |\n",
       "| 4 | 1 |  0 | Male   | 70 | Georgia        | South     | 4 |  3 |  1 |  88.88889 |  1 |  0 |  0 |\n",
       "| 5 | 0 | NA | Female | 80 | Georgia        | South     | 4 | NA | NA |        NA | NA | NA | NA |\n",
       "| 6 | 1 |  1 | Male   | 49 | Tennessee      | South     | 4 |  6 |  0 |  88.88889 |  1 |  1 |  0 |\n",
       "\n"
      ],
      "text/plain": [
       "  Internet.Use Smartphone Sex    Age State          Region    Conservativeness\n",
       "1 1             0         Male   62  Massachusetts  Northeast 4               \n",
       "2 1             0         Male   45  South Carolina South     1               \n",
       "3 0             1         Female 70  New Jersey     Northeast 4               \n",
       "4 1             0         Male   70  Georgia        South     4               \n",
       "5 0            NA         Female 80  Georgia        South     4               \n",
       "6 1             1         Male   49  Tennessee      South     4               \n",
       "  Info.On.Internet Worry.About.Info Privacy.Importance Anonymity.Possible\n",
       "1  0                1               100.00000           0                \n",
       "2  1                0                 0.00000           1                \n",
       "3  0                0                      NA           0                \n",
       "4  3                1                88.88889           1                \n",
       "5 NA               NA                      NA          NA                \n",
       "6  6                0                88.88889           1                \n",
       "  Tried.Masking.Identity Privacy.Laws.Effective\n",
       "1  0                      0                    \n",
       "2  0                      1                    \n",
       "3  0                     NA                    \n",
       "4  0                      0                    \n",
       "5 NA                     NA                    \n",
       "6  1                      0                    "
      ]
     },
     "metadata": {},
     "output_type": "display_data"
    }
   ],
   "source": [
    "poll <- read.csv('data/AnonymityPoll.csv')\n",
    "head(poll)"
   ]
  },
  {
   "cell_type": "code",
   "execution_count": 2,
   "metadata": {},
   "outputs": [
    {
     "name": "stdout",
     "output_type": "stream",
     "text": [
      "'data.frame':\t1002 obs. of  13 variables:\n",
      " $ Internet.Use          : int  1 1 0 1 0 1 1 0 0 1 ...\n",
      " $ Smartphone            : int  0 0 1 0 NA 1 0 0 NA 0 ...\n",
      " $ Sex                   : Factor w/ 2 levels \"Female\",\"Male\": 2 2 1 2 1 2 1 1 2 1 ...\n",
      " $ Age                   : int  62 45 70 70 80 49 52 76 75 76 ...\n",
      " $ State                 : Factor w/ 49 levels \"Alabama\",\"Arizona\",..: 20 39 29 10 10 41 21 31 32 32 ...\n",
      " $ Region                : Factor w/ 4 levels \"Midwest\",\"Northeast\",..: 2 3 2 3 3 3 1 2 3 3 ...\n",
      " $ Conservativeness      : int  4 1 4 4 4 4 3 3 4 4 ...\n",
      " $ Info.On.Internet      : int  0 1 0 3 NA 6 3 NA NA 0 ...\n",
      " $ Worry.About.Info      : int  1 0 0 1 NA 0 1 NA NA 0 ...\n",
      " $ Privacy.Importance    : num  100 0 NA 88.9 NA ...\n",
      " $ Anonymity.Possible    : int  0 1 0 1 NA 1 0 NA NA 1 ...\n",
      " $ Tried.Masking.Identity: int  0 0 0 0 NA 1 0 NA NA 0 ...\n",
      " $ Privacy.Laws.Effective: int  0 1 NA 0 NA 0 1 NA 0 1 ...\n"
     ]
    }
   ],
   "source": [
    "str(poll)"
   ]
  },
  {
   "cell_type": "code",
   "execution_count": 3,
   "metadata": {},
   "outputs": [
    {
     "data": {
      "text/plain": [
       "  Internet.Use      Smartphone         Sex           Age       \n",
       " Min.   :0.0000   Min.   :0.0000   Female:505   Min.   :18.00  \n",
       " 1st Qu.:1.0000   1st Qu.:0.0000   Male  :497   1st Qu.:37.00  \n",
       " Median :1.0000   Median :1.0000                Median :55.00  \n",
       " Mean   :0.7742   Mean   :0.5078                Mean   :52.37  \n",
       " 3rd Qu.:1.0000   3rd Qu.:1.0000                3rd Qu.:66.00  \n",
       " Max.   :1.0000   Max.   :1.0000                Max.   :96.00  \n",
       " NA's   :1        NA's   :43                    NA's   :27     \n",
       "          State           Region    Conservativeness Info.On.Internet\n",
       " California  :103   Midwest  :239   Min.   :1.000    Min.   : 0.000  \n",
       " Texas       : 72   Northeast:166   1st Qu.:3.000    1st Qu.: 2.000  \n",
       " New York    : 60   South    :359   Median :3.000    Median : 4.000  \n",
       " Pennsylvania: 45   West     :238   Mean   :3.277    Mean   : 3.795  \n",
       " Florida     : 42                   3rd Qu.:4.000    3rd Qu.: 6.000  \n",
       " Ohio        : 38                   Max.   :5.000    Max.   :11.000  \n",
       " (Other)     :642                   NA's   :62       NA's   :210     \n",
       " Worry.About.Info Privacy.Importance Anonymity.Possible Tried.Masking.Identity\n",
       " Min.   :0.0000   Min.   :  0.00     Min.   :0.0000     Min.   :0.0000        \n",
       " 1st Qu.:0.0000   1st Qu.: 41.43     1st Qu.:0.0000     1st Qu.:0.0000        \n",
       " Median :0.0000   Median : 68.75     Median :0.0000     Median :0.0000        \n",
       " Mean   :0.4886   Mean   : 62.85     Mean   :0.3692     Mean   :0.1633        \n",
       " 3rd Qu.:1.0000   3rd Qu.: 88.89     3rd Qu.:1.0000     3rd Qu.:0.0000        \n",
       " Max.   :1.0000   Max.   :100.00     Max.   :1.0000     Max.   :1.0000        \n",
       " NA's   :212      NA's   :215        NA's   :249        NA's   :218           \n",
       " Privacy.Laws.Effective\n",
       " Min.   :0.0000        \n",
       " 1st Qu.:0.0000        \n",
       " Median :0.0000        \n",
       " Mean   :0.2617        \n",
       " 3rd Qu.:1.0000        \n",
       " Max.   :1.0000        \n",
       " NA's   :108           "
      ]
     },
     "metadata": {},
     "output_type": "display_data"
    }
   ],
   "source": [
    "summary(poll)"
   ]
  },
  {
   "cell_type": "markdown",
   "metadata": {},
   "source": [
    "1002"
   ]
  },
  {
   "cell_type": "markdown",
   "metadata": {},
   "source": [
    "### Problem 1.2 - Loading and Summarizing the Dataset\n",
    "\n",
    "Let's look at the breakdown of the number of people with smartphones using the table() and summary() commands on the Smartphone variable. (HINT: These three numbers should sum to 1002.)\n",
    "\n",
    "**How many interviewees responded that they use a smartphone?**"
   ]
  },
  {
   "cell_type": "code",
   "execution_count": 4,
   "metadata": {},
   "outputs": [
    {
     "data": {
      "text/plain": [
       "\n",
       "  0   1 \n",
       "472 487 "
      ]
     },
     "metadata": {},
     "output_type": "display_data"
    }
   ],
   "source": [
    "table(poll$Smartphone)"
   ]
  },
  {
   "cell_type": "markdown",
   "metadata": {},
   "source": [
    "487"
   ]
  },
  {
   "cell_type": "markdown",
   "metadata": {},
   "source": [
    "**How many interviewees responded that they don't use a smartphone?**"
   ]
  },
  {
   "cell_type": "markdown",
   "metadata": {},
   "source": [
    "472"
   ]
  },
  {
   "cell_type": "markdown",
   "metadata": {},
   "source": [
    "**How many interviewees did not respond to the question, resulting in a missing value, or NA, in the summary() output?**"
   ]
  },
  {
   "cell_type": "code",
   "execution_count": 5,
   "metadata": {},
   "outputs": [
    {
     "data": {
      "text/plain": [
       "   Min. 1st Qu.  Median    Mean 3rd Qu.    Max.    NA's \n",
       " 0.0000  0.0000  1.0000  0.5078  1.0000  1.0000      43 "
      ]
     },
     "metadata": {},
     "output_type": "display_data"
    }
   ],
   "source": [
    "summary(poll$Smartphone)"
   ]
  },
  {
   "cell_type": "code",
   "execution_count": 6,
   "metadata": {},
   "outputs": [
    {
     "data": {
      "text/html": [
       "43"
      ],
      "text/latex": [
       "43"
      ],
      "text/markdown": [
       "43"
      ],
      "text/plain": [
       "[1] 43"
      ]
     },
     "metadata": {},
     "output_type": "display_data"
    }
   ],
   "source": [
    "sum(is.na(poll$Smartphone))"
   ]
  },
  {
   "cell_type": "markdown",
   "metadata": {},
   "source": [
    "### Problem 1.3 - Loading and Summarizing the Dataset\n",
    "\n",
    "By using the table() function on two variables, we can tell how they are related. To use the table() function on two variables, just put the two variable names inside the parentheses, separated by a comma (don't forget to add poll$ before each variable name). In the output, the possible values of the first variable will be listed in the left, and the possible values of the second variable will be listed on the top. Each entry of the table counts the number of observations in the data set that have the value of the first value in that row, and the value of the second variable in that column. For example, suppose we want to create a table of the variables \"Sex\" and \"Region\". We would type\n",
    "\n",
    "table(poll$Sex, poll$Region)\n",
    "\n",
    "in our R Console, and we would get as output\n",
    "\n",
    "Midwest Northeast South West\n",
    "\n",
    "Female 123 90 176 116\n",
    "\n",
    "Male 116 76 183 122\n",
    "\n",
    "This table tells us that we have 123 people in our dataset who are female and from the Midwest, 116 people in our dataset who are male and from the Midwest, 90 people in our dataset who are female and from the Northeast, etc.\n",
    "\n",
    "You might find it helpful to use the table() function to answer the following questions:"
   ]
  },
  {
   "cell_type": "code",
   "execution_count": 7,
   "metadata": {},
   "outputs": [
    {
     "data": {
      "text/plain": [
       "        \n",
       "         Midwest Northeast South West\n",
       "  Female     123        90   176  116\n",
       "  Male       116        76   183  122"
      ]
     },
     "metadata": {},
     "output_type": "display_data"
    }
   ],
   "source": [
    "table(poll$Sex, poll$Region)"
   ]
  },
  {
   "cell_type": "markdown",
   "metadata": {},
   "source": [
    "**Which of the following are states in the Midwest census region?**"
   ]
  },
  {
   "cell_type": "code",
   "execution_count": 8,
   "metadata": {},
   "outputs": [
    {
     "data": {
      "text/plain": [
       "                      \n",
       "                       Midwest Northeast South West\n",
       "  Alabama                    0         0    11    0\n",
       "  Arizona                    0         0     0   24\n",
       "  Arkansas                   0         0    10    0\n",
       "  California                 0         0     0  103\n",
       "  Colorado                   0         0     0   19\n",
       "  Connecticut                0         8     0    0\n",
       "  Delaware                   0         0     6    0\n",
       "  District of Columbia       0         0     2    0\n",
       "  Florida                    0         0    42    0\n",
       "  Georgia                    0         0    34    0\n",
       "  Idaho                      0         0     0    8\n",
       "  Illinois                  32         0     0    0\n",
       "  Indiana                   27         0     0    0\n",
       "  Iowa                      14         0     0    0\n",
       "  Kansas                    14         0     0    0\n",
       "  Kentucky                   0         0    25    0\n",
       "  Louisiana                  0         0    17    0\n",
       "  Maine                      0         4     0    0\n",
       "  Maryland                   0         0    18    0\n",
       "  Massachusetts              0        19     0    0\n",
       "  Michigan                  31         0     0    0\n",
       "  Minnesota                 15         0     0    0\n",
       "  Mississippi                0         0    11    0\n",
       "  Missouri                  26         0     0    0\n",
       "  Montana                    0         0     0    5\n",
       "  Nebraska                  11         0     0    0\n",
       "  Nevada                     0         0     0    8\n",
       "  New Hampshire              0         7     0    0\n",
       "  New Jersey                 0        16     0    0\n",
       "  New Mexico                 0         0     0    5\n",
       "  New York                   0        60     0    0\n",
       "  North Carolina             0         0    32    0\n",
       "  North Dakota               5         0     0    0\n",
       "  Ohio                      38         0     0    0\n",
       "  Oklahoma                   0         0    14    0\n",
       "  Oregon                     0         0     0   20\n",
       "  Pennsylvania               0        45     0    0\n",
       "  Rhode Island               0         4     0    0\n",
       "  South Carolina             0         0    12    0\n",
       "  South Dakota               3         0     0    0\n",
       "  Tennessee                  0         0    17    0\n",
       "  Texas                      0         0    72    0\n",
       "  Utah                       0         0     0   11\n",
       "  Vermont                    0         3     0    0\n",
       "  Virginia                   0         0    31    0\n",
       "  Washington                 0         0     0   28\n",
       "  West Virginia              0         0     5    0\n",
       "  Wisconsin                 23         0     0    0\n",
       "  Wyoming                    0         0     0    7"
      ]
     },
     "metadata": {},
     "output_type": "display_data"
    }
   ],
   "source": [
    "table(poll$State, poll$Region)"
   ]
  },
  {
   "cell_type": "markdown",
   "metadata": {},
   "source": [
    "Illinois, Indiana, Iowa, Kansas, Michigan, Minnesota, Missouri, Nebraska, North Dakota, Ohio, South Dakota, Wisconsin."
   ]
  },
  {
   "cell_type": "markdown",
   "metadata": {},
   "source": [
    "**Which was the state in the South census region with the largest number of interviewees?**"
   ]
  },
  {
   "cell_type": "markdown",
   "metadata": {},
   "source": [
    "Illinois"
   ]
  },
  {
   "cell_type": "markdown",
   "metadata": {},
   "source": [
    "### Problem 2.1 - Internet and Smartphone Users\n",
    "\n",
    "As mentioned in the introduction to this problem, many of the response variables (Info.On.Internet, Worry.About.Info, Privacy.Importance, Anonymity.Possible, and Tried.Masking.Identity) were not collected if an interviewee does not use the Internet or a smartphone, meaning the variables will have missing values for these interviewees.\n",
    "\n",
    "**How many interviewees reported not having used the Internet and not having used a smartphone?**"
   ]
  },
  {
   "cell_type": "code",
   "execution_count": 9,
   "metadata": {},
   "outputs": [
    {
     "data": {
      "text/plain": [
       "   \n",
       "      0   1\n",
       "  0 186 285\n",
       "  1  17 470"
      ]
     },
     "metadata": {},
     "output_type": "display_data"
    }
   ],
   "source": [
    "table((poll$Smartphone), (poll$Internet.Use))"
   ]
  },
  {
   "cell_type": "code",
   "execution_count": 10,
   "metadata": {},
   "outputs": [
    {
     "data": {
      "text/html": [
       "186"
      ],
      "text/latex": [
       "186"
      ],
      "text/markdown": [
       "186"
      ],
      "text/plain": [
       "[1] 186"
      ]
     },
     "metadata": {},
     "output_type": "display_data"
    }
   ],
   "source": [
    "nrow(subset(poll, Internet.Use==F & Smartphone==F))"
   ]
  },
  {
   "cell_type": "markdown",
   "metadata": {},
   "source": [
    "**How many interviewees reported having used the Internet and having used a smartphone?**"
   ]
  },
  {
   "cell_type": "code",
   "execution_count": 11,
   "metadata": {},
   "outputs": [
    {
     "data": {
      "text/html": [
       "470"
      ],
      "text/latex": [
       "470"
      ],
      "text/markdown": [
       "470"
      ],
      "text/plain": [
       "[1] 470"
      ]
     },
     "metadata": {},
     "output_type": "display_data"
    }
   ],
   "source": [
    "nrow(subset(poll, Internet.Use==T & Smartphone==T))"
   ]
  },
  {
   "cell_type": "markdown",
   "metadata": {},
   "source": [
    "**How many interviewees reported having used the Internet but not having used a smartphone?**"
   ]
  },
  {
   "cell_type": "code",
   "execution_count": 12,
   "metadata": {},
   "outputs": [
    {
     "data": {
      "text/html": [
       "285"
      ],
      "text/latex": [
       "285"
      ],
      "text/markdown": [
       "285"
      ],
      "text/plain": [
       "[1] 285"
      ]
     },
     "metadata": {},
     "output_type": "display_data"
    }
   ],
   "source": [
    "nrow(subset(poll, Internet.Use==T & Smartphone==F))"
   ]
  },
  {
   "cell_type": "markdown",
   "metadata": {},
   "source": [
    "**How many interviewees reported having used a smartphone but not having used the Internet?**"
   ]
  },
  {
   "cell_type": "code",
   "execution_count": 13,
   "metadata": {},
   "outputs": [
    {
     "data": {
      "text/html": [
       "17"
      ],
      "text/latex": [
       "17"
      ],
      "text/markdown": [
       "17"
      ],
      "text/plain": [
       "[1] 17"
      ]
     },
     "metadata": {},
     "output_type": "display_data"
    }
   ],
   "source": [
    "nrow(subset(poll, Internet.Use==F & Smartphone==T))"
   ]
  },
  {
   "cell_type": "markdown",
   "metadata": {},
   "source": [
    "### Problem 2.2 - Internet and Smartphone Users\n",
    "\n",
    "**How many interviewees have a missing value for their Internet use?**"
   ]
  },
  {
   "cell_type": "code",
   "execution_count": 14,
   "metadata": {},
   "outputs": [
    {
     "data": {
      "text/html": [
       "1"
      ],
      "text/latex": [
       "1"
      ],
      "text/markdown": [
       "1"
      ],
      "text/plain": [
       "[1] 1"
      ]
     },
     "metadata": {},
     "output_type": "display_data"
    }
   ],
   "source": [
    "sum(is.na(poll$Internet))"
   ]
  },
  {
   "cell_type": "markdown",
   "metadata": {},
   "source": [
    "**How many interviewees have a missing value for their smartphone use?**"
   ]
  },
  {
   "cell_type": "code",
   "execution_count": 15,
   "metadata": {},
   "outputs": [
    {
     "data": {
      "text/html": [
       "43"
      ],
      "text/latex": [
       "43"
      ],
      "text/markdown": [
       "43"
      ],
      "text/plain": [
       "[1] 43"
      ]
     },
     "metadata": {},
     "output_type": "display_data"
    }
   ],
   "source": [
    "sum(is.na(poll$Smartphone))"
   ]
  },
  {
   "cell_type": "markdown",
   "metadata": {},
   "source": [
    "### Problem 2.3 - Internet and Smartphone Users\n",
    "\n",
    "Use the subset function to obtain a data frame called \"limited\", which is limited to interviewees who reported Internet use or who reported smartphone use. In lecture, we used the & symbol to use two criteria to make a subset of the data. To only take observations that have a certain value in one variable or the other, the | character can be used in place of the & symbol. This is also called a logical \"or\" operation.\n",
    "\n",
    "**How many interviewees are in the new data frame?**"
   ]
  },
  {
   "cell_type": "code",
   "execution_count": 16,
   "metadata": {},
   "outputs": [
    {
     "name": "stdout",
     "output_type": "stream",
     "text": [
      "'data.frame':\t792 obs. of  13 variables:\n",
      " $ Internet.Use          : int  1 1 0 1 1 1 1 1 1 1 ...\n",
      " $ Smartphone            : int  0 0 1 0 1 0 0 1 1 0 ...\n",
      " $ Sex                   : Factor w/ 2 levels \"Female\",\"Male\": 2 2 1 2 2 1 1 1 1 2 ...\n",
      " $ Age                   : int  62 45 70 70 49 52 76 50 47 69 ...\n",
      " $ State                 : Factor w/ 49 levels \"Alabama\",\"Arizona\",..: 20 39 29 10 41 21 32 45 32 31 ...\n",
      " $ Region                : Factor w/ 4 levels \"Midwest\",\"Northeast\",..: 2 3 2 3 3 1 3 3 3 2 ...\n",
      " $ Conservativeness      : int  4 1 4 4 4 3 4 3 3 3 ...\n",
      " $ Info.On.Internet      : int  0 1 0 3 6 3 0 1 0 9 ...\n",
      " $ Worry.About.Info      : int  1 0 0 1 0 1 0 0 0 0 ...\n",
      " $ Privacy.Importance    : num  100 0 NA 88.9 88.9 ...\n",
      " $ Anonymity.Possible    : int  0 1 0 1 1 0 1 0 1 0 ...\n",
      " $ Tried.Masking.Identity: int  0 0 0 0 1 0 0 0 0 0 ...\n",
      " $ Privacy.Laws.Effective: int  0 1 NA 0 0 1 1 0 0 0 ...\n"
     ]
    }
   ],
   "source": [
    "limited <- subset(poll, poll$Internet.Use==1 | poll$Smartphone==1)\n",
    "str(limited)"
   ]
  },
  {
   "cell_type": "code",
   "execution_count": 17,
   "metadata": {},
   "outputs": [
    {
     "data": {
      "text/html": [
       "792"
      ],
      "text/latex": [
       "792"
      ],
      "text/markdown": [
       "792"
      ],
      "text/plain": [
       "[1] 792"
      ]
     },
     "metadata": {},
     "output_type": "display_data"
    }
   ],
   "source": [
    "nrow(limited)"
   ]
  },
  {
   "cell_type": "markdown",
   "metadata": {},
   "source": [
    "### Problem 3.1 - Summarizing Opinions about Internet Privacy\n",
    "\n",
    "**Which variables have missing values in the limited data frame?**"
   ]
  },
  {
   "cell_type": "code",
   "execution_count": 18,
   "metadata": {},
   "outputs": [
    {
     "data": {
      "text/plain": [
       "  Internet.Use      Smartphone         Sex           Age       \n",
       " Min.   :0.0000   Min.   :0.0000   Female:392   Min.   :18.00  \n",
       " 1st Qu.:1.0000   1st Qu.:0.0000   Male  :400   1st Qu.:33.00  \n",
       " Median :1.0000   Median :1.0000                Median :51.00  \n",
       " Mean   :0.9785   Mean   :0.6308                Mean   :48.57  \n",
       " 3rd Qu.:1.0000   3rd Qu.:1.0000                3rd Qu.:62.00  \n",
       " Max.   :1.0000   Max.   :1.0000                Max.   :93.00  \n",
       "                  NA's   :20                    NA's   :22     \n",
       "            State           Region    Conservativeness Info.On.Internet\n",
       " California    : 89   Midwest  :172   Min.   :1.000    Min.   : 0.000  \n",
       " Texas         : 57   Northeast:128   1st Qu.:3.000    1st Qu.: 2.000  \n",
       " New York      : 45   South    :288   Median :3.000    Median : 4.000  \n",
       " Pennsylvania  : 33   West     :204   Mean   :3.237    Mean   : 3.795  \n",
       " Florida       : 32                   3rd Qu.:4.000    3rd Qu.: 6.000  \n",
       " North Carolina: 28                   Max.   :5.000    Max.   :11.000  \n",
       " (Other)       :508                   NA's   :45                       \n",
       " Worry.About.Info Privacy.Importance Anonymity.Possible Tried.Masking.Identity\n",
       " Min.   :0.0000   Min.   :  0.00     Min.   :0.0000     Min.   :0.0000        \n",
       " 1st Qu.:0.0000   1st Qu.: 41.43     1st Qu.:0.0000     1st Qu.:0.0000        \n",
       " Median :0.0000   Median : 68.75     Median :0.0000     Median :0.0000        \n",
       " Mean   :0.4886   Mean   : 62.85     Mean   :0.3692     Mean   :0.1633        \n",
       " 3rd Qu.:1.0000   3rd Qu.: 88.89     3rd Qu.:1.0000     3rd Qu.:0.0000        \n",
       " Max.   :1.0000   Max.   :100.00     Max.   :1.0000     Max.   :1.0000        \n",
       " NA's   :2        NA's   :5          NA's   :39         NA's   :8             \n",
       " Privacy.Laws.Effective\n",
       " Min.   :0.0000        \n",
       " 1st Qu.:0.0000        \n",
       " Median :0.0000        \n",
       " Mean   :0.2559        \n",
       " 3rd Qu.:1.0000        \n",
       " Max.   :1.0000        \n",
       " NA's   :65            "
      ]
     },
     "metadata": {},
     "output_type": "display_data"
    }
   ],
   "source": [
    "summary(limited)"
   ]
  },
  {
   "cell_type": "markdown",
   "metadata": {},
   "source": [
    "Smartphone, Age, Conservativeness, Worry.About.Info, Privacy.Importance, Anonymity.Possible, Tried.Masking.Identity, Privacy.Laws.Effective."
   ]
  },
  {
   "cell_type": "markdown",
   "metadata": {},
   "source": [
    "### Problem 3.2 - Summarizing Opinions about Internet Privacy\n",
    "\n",
    "**What is the average number of pieces of personal information on the Internet, according to the Info.On.Internet variable?**"
   ]
  },
  {
   "cell_type": "code",
   "execution_count": 19,
   "metadata": {},
   "outputs": [
    {
     "data": {
      "text/html": [
       "3.79545454545455"
      ],
      "text/latex": [
       "3.79545454545455"
      ],
      "text/markdown": [
       "3.79545454545455"
      ],
      "text/plain": [
       "[1] 3.795455"
      ]
     },
     "metadata": {},
     "output_type": "display_data"
    }
   ],
   "source": [
    "mean(limited$Info.On.Internet)"
   ]
  },
  {
   "cell_type": "markdown",
   "metadata": {},
   "source": [
    "### Problem 3.3 - Summarizing Opinions about Internet Privacy\n",
    "\n",
    "**How many interviewees reported a value of 0 for Info.On.Internet?**"
   ]
  },
  {
   "cell_type": "code",
   "execution_count": 20,
   "metadata": {},
   "outputs": [
    {
     "data": {
      "text/plain": [
       "\n",
       "  0   1   2   3   4   5   6   7   8   9  10  11 \n",
       "105  84  95 101 104  94  67  63  40  18  13   8 "
      ]
     },
     "metadata": {},
     "output_type": "display_data"
    }
   ],
   "source": [
    "table(limited$Info.On.Internet)"
   ]
  },
  {
   "cell_type": "markdown",
   "metadata": {},
   "source": [
    "105"
   ]
  },
  {
   "cell_type": "markdown",
   "metadata": {},
   "source": [
    "**How many interviewees reported the maximum value of 11 for Info.On.Internet?**"
   ]
  },
  {
   "cell_type": "markdown",
   "metadata": {},
   "source": [
    "8"
   ]
  },
  {
   "cell_type": "markdown",
   "metadata": {},
   "source": [
    "### Problem 3.4 - Summarizing Opinions about Internet Privacy\n",
    "\n",
    "**What proportion of interviewees who answered the Worry.About.Info question worry about how much information is available about them on the Internet?** Note that to compute this proportion you will be dividing by the number of people who answered the Worry.About.Info question, not the total number of people in the data frame."
   ]
  },
  {
   "cell_type": "code",
   "execution_count": 21,
   "metadata": {},
   "outputs": [
    {
     "data": {
      "text/html": [
       "0.488607594936709"
      ],
      "text/latex": [
       "0.488607594936709"
      ],
      "text/markdown": [
       "0.488607594936709"
      ],
      "text/plain": [
       "[1] 0.4886076"
      ]
     },
     "metadata": {},
     "output_type": "display_data"
    }
   ],
   "source": [
    "(sum(limited$Worry.About.Info==1, na.rm=T))/(nrow(limited) - 2)"
   ]
  },
  {
   "cell_type": "markdown",
   "metadata": {},
   "source": [
    "### Problem 3.5 - Summarizing Opinions about Internet Privacy\n",
    "\n",
    "**What proportion of interviewees who answered the Anonymity.Possible question think it is possible to be completely anonymous on the Internet?**"
   ]
  },
  {
   "cell_type": "code",
   "execution_count": 22,
   "metadata": {},
   "outputs": [
    {
     "data": {
      "text/html": [
       "0.369189907038513"
      ],
      "text/latex": [
       "0.369189907038513"
      ],
      "text/markdown": [
       "0.369189907038513"
      ],
      "text/plain": [
       "[1] 0.3691899"
      ]
     },
     "metadata": {},
     "output_type": "display_data"
    }
   ],
   "source": [
    "(sum(limited$Anonymity.Possible==1, na.rm=T))/(nrow(limited) - 39)"
   ]
  },
  {
   "cell_type": "markdown",
   "metadata": {},
   "source": [
    "### Problem 3.6 - Summarizing Opinions about Internet Privacy\n",
    "\n",
    "**What proportion of interviewees who answered the Tried.Masking.Identity question have tried masking their identity on the Internet?**"
   ]
  },
  {
   "cell_type": "code",
   "execution_count": 23,
   "metadata": {},
   "outputs": [
    {
     "data": {
      "text/html": [
       "0.163265306122449"
      ],
      "text/latex": [
       "0.163265306122449"
      ],
      "text/markdown": [
       "0.163265306122449"
      ],
      "text/plain": [
       "[1] 0.1632653"
      ]
     },
     "metadata": {},
     "output_type": "display_data"
    }
   ],
   "source": [
    "(sum(limited$Tried.Masking.Identity==1, na.rm=T))/(nrow(limited) - 8)"
   ]
  },
  {
   "cell_type": "markdown",
   "metadata": {},
   "source": [
    "### Problem 3.7 - Summarizing Opinions about Internet Privacy\n",
    "\n",
    "**What proportion of interviewees who answered the Privacy.Laws.Effective question find United States privacy laws effective?**"
   ]
  },
  {
   "cell_type": "code",
   "execution_count": 24,
   "metadata": {},
   "outputs": [
    {
     "data": {
      "text/html": [
       "0.744154057771664"
      ],
      "text/latex": [
       "0.744154057771664"
      ],
      "text/markdown": [
       "0.744154057771664"
      ],
      "text/plain": [
       "[1] 0.7441541"
      ]
     },
     "metadata": {},
     "output_type": "display_data"
    }
   ],
   "source": [
    "1 - ((sum(limited$Privacy.Laws.Effective==1, na.rm=T))/(nrow(limited) - 65))"
   ]
  },
  {
   "cell_type": "markdown",
   "metadata": {},
   "source": [
    "### Problem 4.1 - Relating Demographics to Polling Results\n",
    "\n",
    "Often, we are interested in whether certain characteristics of interviewees (e.g. their age or political opinions) affect their opinions on the topic of the poll (in this case, opinions on privacy). In this section, we will investigate the relationship between the characteristics Age and Smartphone and outcome variables Info.On.Internet and Tried.Masking.Identity, again using the limited data frame we built in an earlier section of this problem.\n",
    "\n",
    "Build a histogram of the age of interviewees. **What is the best represented age group in the population?**"
   ]
  },
  {
   "cell_type": "code",
   "execution_count": 25,
   "metadata": {},
   "outputs": [
    {
     "data": {
      "image/png": "[encoded data removed]",
      "text/plain": [
       "Plot with title \"Age\""
      ]
     },
     "metadata": {
      "image/png": {
       "height": 420,
       "width": 420
      },
      "text/plain": {
       "height": 420,
       "width": 420
      }
     },
     "output_type": "display_data"
    }
   ],
   "source": [
    "hist(limited$Age, main = \"Age\")"
   ]
  },
  {
   "cell_type": "markdown",
   "metadata": {},
   "source": [
    "### Problem 4.2 - Relating Demographics to Polling Results\n",
    "\n",
    "Both Age and Info.On.Internet are variables that take on many values, so a good way to observe their relationship is through a graph. We learned in lecture that we can plot Age against Info.On.Internet with the command plot(limited$Age, limited$Info.On.Internet). However, because Info.On.Internet takes on a small number of values, multiple points can be plotted in exactly the same location on this graph.\n",
    "\n",
    "**What is the largest number of interviewees that have exactly the same value in their Age variable AND the same value in their Info.On.Internet variable?** In other words, what is the largest number of overlapping points in the plot plot(limited$Age, limited$Info.On.Internet)? (HINT: Use the table function to compare the number of observations with different values of Age and Info.On.Internet.)"
   ]
  },
  {
   "cell_type": "code",
   "execution_count": 26,
   "metadata": {},
   "outputs": [
    {
     "data": {
      "image/png": "[encoded data removed]",
      "text/plain": [
       "plot without title"
      ]
     },
     "metadata": {
      "image/png": {
       "height": 420,
       "width": 420
      },
      "text/plain": {
       "height": 420,
       "width": 420
      }
     },
     "output_type": "display_data"
    }
   ],
   "source": [
    "plot(limited$Age, limited$Info.On.Internet)"
   ]
  },
  {
   "cell_type": "code",
   "execution_count": 27,
   "metadata": {},
   "outputs": [
    {
     "data": {
      "text/plain": [
       "    \n",
       "     0 1 2 3 4 5 6 7 8 9 10 11\n",
       "  18 1 2 0 0 1 2 5 1 0 0  1  0\n",
       "  19 0 1 2 3 1 1 1 2 4 0  0  0\n",
       "  20 1 1 3 4 1 0 0 0 1 1  0  0\n",
       "  21 1 1 1 0 2 3 2 0 2 1  1  0\n",
       "  22 0 1 1 2 2 3 1 3 1 0  1  0\n",
       "  23 2 0 0 2 3 2 3 5 1 0  0  0\n",
       "  24 1 1 0 0 1 0 2 3 1 0  1  0\n",
       "  25 0 0 1 0 3 1 0 0 0 0  0  0\n",
       "  26 0 1 2 3 0 1 3 1 2 1  0  0\n",
       "  27 0 0 0 3 1 2 3 1 1 0  0  0\n",
       "  28 1 1 1 1 1 3 3 1 2 0  0  0\n",
       "  29 0 0 3 1 0 3 1 3 0 0  0  0\n",
       "  30 0 1 0 4 0 4 2 0 2 1  0  0\n",
       "  31 1 1 0 1 1 2 1 1 2 0  0  0\n",
       "  32 1 0 1 1 1 0 0 0 1 0  1  0\n",
       "  33 0 1 3 4 2 1 2 4 0 0  0  0\n",
       "  34 0 0 0 2 1 1 1 1 1 0  0  0\n",
       "  35 0 0 2 2 4 1 1 1 0 0  0  0\n",
       "  36 2 0 1 1 0 2 1 0 1 1  1  1\n",
       "  37 2 0 4 1 2 0 0 0 1 0  0  0\n",
       "  38 0 2 0 1 2 1 0 0 0 0  0  0\n",
       "  39 1 0 2 1 5 0 1 0 1 0  0  0\n",
       "  40 0 0 3 0 3 3 0 0 0 0  0  0\n",
       "  41 3 1 2 1 2 0 0 0 0 0  0  0\n",
       "  42 0 0 0 2 2 1 1 1 0 0  1  0\n",
       "  43 3 1 0 1 3 0 2 1 2 0  1  0\n",
       "  44 1 1 1 2 0 3 0 2 0 1  0  0\n",
       "  45 1 1 1 1 5 2 0 0 0 0  0  0\n",
       "  46 1 1 1 0 3 0 0 1 0 0  0  0\n",
       "  47 2 0 3 1 2 0 0 0 0 0  0  0\n",
       "  48 2 2 1 0 0 2 4 1 2 0  0  0\n",
       "  49 2 2 3 2 1 2 3 0 0 0  1  0\n",
       "  50 1 4 5 1 0 3 4 1 1 0  0  0\n",
       "  51 1 1 2 0 2 0 1 0 2 0  2  0\n",
       "  52 3 4 2 3 0 1 0 2 0 0  0  0\n",
       "  53 6 2 3 3 3 5 0 0 1 1  0  0\n",
       "  54 1 0 0 1 2 1 0 0 1 0  0  2\n",
       "  55 1 3 1 5 1 0 5 3 0 0  0  0\n",
       "  56 2 3 1 1 3 3 2 0 0 2  0  1\n",
       "  57 2 4 2 5 1 2 1 3 1 0  1  0\n",
       "  58 1 2 2 1 3 1 2 1 0 2  0  0\n",
       "  59 3 3 3 0 1 2 2 2 2 0  0  1\n",
       "  60 6 6 2 4 2 5 0 1 0 2  0  0\n",
       "  61 1 3 1 1 2 1 1 0 0 0  0  0\n",
       "  62 4 1 4 3 4 2 1 3 2 0  0  0\n",
       "  63 1 1 1 2 1 0 0 1 0 0  0  0\n",
       "  64 5 2 2 2 1 3 0 2 1 2  1  1\n",
       "  65 4 2 2 2 1 2 1 1 0 0  0  0\n",
       "  66 0 2 1 2 2 1 1 3 1 0  0  0\n",
       "  67 3 3 1 2 1 1 0 0 0 0  0  0\n",
       "  68 2 1 2 1 2 0 0 0 0 0  0  1\n",
       "  69 3 3 0 0 1 1 0 1 0 1  0  0\n",
       "  70 3 0 0 3 2 2 0 0 0 0  0  0\n",
       "  71 0 1 0 3 3 1 0 1 0 0  0  0\n",
       "  72 3 0 3 1 1 2 0 0 0 0  0  0\n",
       "  73 1 0 0 1 2 2 0 1 0 0  0  0\n",
       "  74 1 1 0 3 1 1 0 0 0 0  0  0\n",
       "  75 2 0 1 0 0 0 0 1 0 0  0  0\n",
       "  76 1 1 2 1 0 0 0 0 0 0  0  0\n",
       "  77 3 0 1 0 3 0 0 0 0 1  0  0\n",
       "  78 1 1 1 0 0 1 0 0 0 0  0  0\n",
       "  79 0 0 3 0 0 1 0 0 0 0  0  0\n",
       "  80 2 0 0 0 0 1 0 0 0 0  0  0\n",
       "  81 3 0 0 1 0 1 0 0 0 0  0  0\n",
       "  82 0 0 0 0 0 0 0 1 0 0  0  0\n",
       "  83 0 0 3 0 1 0 0 1 0 0  0  0\n",
       "  86 0 1 0 0 0 0 0 0 0 0  0  0\n",
       "  88 0 1 0 0 0 0 0 0 0 0  0  0\n",
       "  91 0 0 1 0 0 1 0 0 0 0  0  0\n",
       "  92 1 0 0 0 0 0 0 0 0 0  0  0\n",
       "  93 0 0 0 1 0 0 0 0 0 0  0  0"
      ]
     },
     "metadata": {},
     "output_type": "display_data"
    }
   ],
   "source": [
    "table(limited$Age, limited$Info.On.Internet)"
   ]
  },
  {
   "cell_type": "code",
   "execution_count": 28,
   "metadata": {},
   "outputs": [
    {
     "data": {
      "text/html": [
       "6"
      ],
      "text/latex": [
       "6"
      ],
      "text/markdown": [
       "6"
      ],
      "text/plain": [
       "[1] 6"
      ]
     },
     "metadata": {},
     "output_type": "display_data"
    }
   ],
   "source": [
    "max(table(limited$Age, limited$Info.On.Internet))"
   ]
  },
  {
   "cell_type": "markdown",
   "metadata": {},
   "source": [
    "## Problem 4.3 - Relating Demographics to Polling Results\n",
    "\n",
    "To avoid points covering each other up, we can use the jitter() function on the values we pass to the plot function. Experimenting with the command jitter(c(1, 2, 3)), what appears to be the functionality of the jitter command?"
   ]
  },
  {
   "cell_type": "code",
   "execution_count": 29,
   "metadata": {},
   "outputs": [
    {
     "data": {
      "text/html": [
       "<style>\n",
       ".list-inline {list-style: none; margin:0; padding: 0}\n",
       ".list-inline>li {display: inline-block}\n",
       ".list-inline>li:not(:last-child)::after {content: \"\\00b7\"; padding: 0 .5ex}\n",
       "</style>\n",
       "<ol class=list-inline><li>1.14082619417459</li><li>2.15063334535807</li><li>2.90382421836257</li></ol>\n"
      ],
      "text/latex": [
       "\\begin{enumerate*}\n",
       "\\item 1.14082619417459\n",
       "\\item 2.15063334535807\n",
       "\\item 2.90382421836257\n",
       "\\end{enumerate*}\n"
      ],
      "text/markdown": [
       "1. 1.14082619417459\n",
       "2. 2.15063334535807\n",
       "3. 2.90382421836257\n",
       "\n",
       "\n"
      ],
      "text/plain": [
       "[1] 1.140826 2.150633 2.903824"
      ]
     },
     "metadata": {},
     "output_type": "display_data"
    }
   ],
   "source": [
    "jitter(c(1, 2, 3))"
   ]
  },
  {
   "cell_type": "markdown",
   "metadata": {},
   "source": [
    "Jitter adds or subtracts a small amount of random noise to the values passed to it, and two runs will yield different results."
   ]
  },
  {
   "cell_type": "markdown",
   "metadata": {},
   "source": [
    "### Problem 4.4 - Relating Demographics to Polling Results\n",
    "\n",
    "Now, plot Age against Info.On.Internet with plot(jitter(limited$Age), jitter(limited$Info.On.Internet)). **What relationship to you observe between Age and Info.On.Internet?**"
   ]
  },
  {
   "cell_type": "code",
   "execution_count": 30,
   "metadata": {},
   "outputs": [
    {
     "data": {
      "image/png": "[encoded data removed]",
      "text/plain": [
       "plot without title"
      ]
     },
     "metadata": {
      "image/png": {
       "height": 420,
       "width": 420
      },
      "text/plain": {
       "height": 420,
       "width": 420
      }
     },
     "output_type": "display_data"
    }
   ],
   "source": [
    "plot(jitter(limited$Age), jitter(limited$Info.On.Internet))"
   ]
  },
  {
   "cell_type": "markdown",
   "metadata": {},
   "source": [
    "Older age seems moderately associated with a smaller value for Info.On.Internet"
   ]
  },
  {
   "cell_type": "markdown",
   "metadata": {},
   "source": [
    "### Problem 4.5 - Relating Demographics to Polling Results\n",
    "\n",
    "Use the tapply() function to obtain the summary of the Info.On.Internet value, broken down by whether an interviewee is a smartphone user.\n",
    "\n",
    "**What is the average Info.On.Internet value for smartphone users?**"
   ]
  },
  {
   "cell_type": "code",
   "execution_count": 31,
   "metadata": {},
   "outputs": [
    {
     "data": {
      "text/html": [
       "<style>\n",
       ".dl-inline {width: auto; margin:0; padding: 0}\n",
       ".dl-inline>dt, .dl-inline>dd {float: none; width: auto; display: inline-block}\n",
       ".dl-inline>dt::after {content: \":\\0020\"; padding-right: .5ex}\n",
       ".dl-inline>dt:not(:first-of-type) {padding-left: .5ex}\n",
       "</style><dl class=dl-inline><dt>0</dt><dd>2.92280701754386</dd><dt>1</dt><dd>4.36755646817248</dd></dl>\n"
      ],
      "text/latex": [
       "\\begin{description*}\n",
       "\\item[0] 2.92280701754386\n",
       "\\item[1] 4.36755646817248\n",
       "\\end{description*}\n"
      ],
      "text/markdown": [
       "0\n",
       ":   2.922807017543861\n",
       ":   4.36755646817248\n",
       "\n"
      ],
      "text/plain": [
       "       0        1 \n",
       "2.922807 4.367556 "
      ]
     },
     "metadata": {},
     "output_type": "display_data"
    }
   ],
   "source": [
    "#Grouping the Info.On.Internet data according to the Smartphone.\n",
    "#Then we compute the mean of Info.On.Internet for each group.\n",
    "\n",
    "tapply(limited$Info.On.Internet, limited$Smartphone, mean)"
   ]
  },
  {
   "cell_type": "markdown",
   "metadata": {},
   "source": [
    "4.4"
   ]
  },
  {
   "cell_type": "markdown",
   "metadata": {},
   "source": [
    "**What is the average Info.On.Internet value for non-smartphone users?**"
   ]
  },
  {
   "cell_type": "markdown",
   "metadata": {},
   "source": [
    "2.9"
   ]
  },
  {
   "cell_type": "markdown",
   "metadata": {},
   "source": [
    "### Problem 4.6 - Relating Demographics to Polling Results\n",
    "\n",
    "Similarly use tapply to break down the Tried.Masking.Identity variable for smartphone and non-smartphone users.\n",
    "\n",
    "**What proportion of smartphone users who answered the Tried.Masking.Identity question have tried masking their identity when using the Internet?**"
   ]
  },
  {
   "cell_type": "code",
   "execution_count": 32,
   "metadata": {},
   "outputs": [
    {
     "data": {
      "text/plain": [
       "$`0`\n",
       "\n",
       "  0   1 \n",
       "248  33 \n",
       "\n",
       "$`1`\n",
       "\n",
       "  0   1 \n",
       "390  93 \n"
      ]
     },
     "metadata": {},
     "output_type": "display_data"
    }
   ],
   "source": [
    "tapply(limited$Tried.Masking.Identity, limited$Smartphone, table)"
   ]
  },
  {
   "cell_type": "code",
   "execution_count": 33,
   "metadata": {},
   "outputs": [
    {
     "data": {
      "text/html": [
       "0.192546583850932"
      ],
      "text/latex": [
       "0.192546583850932"
      ],
      "text/markdown": [
       "0.192546583850932"
      ],
      "text/plain": [
       "[1] 0.1925466"
      ]
     },
     "metadata": {},
     "output_type": "display_data"
    }
   ],
   "source": [
    "93/(390+93)"
   ]
  },
  {
   "cell_type": "markdown",
   "metadata": {},
   "source": [
    "**What proportion of non-smartphone users who answered the Tried.Masking.Identity question have tried masking their identity when using the Internet?**"
   ]
  },
  {
   "cell_type": "code",
   "execution_count": 34,
   "metadata": {},
   "outputs": [
    {
     "data": {
      "text/html": [
       "0.117437722419929"
      ],
      "text/latex": [
       "0.117437722419929"
      ],
      "text/markdown": [
       "0.117437722419929"
      ],
      "text/plain": [
       "[1] 0.1174377"
      ]
     },
     "metadata": {},
     "output_type": "display_data"
    }
   ],
   "source": [
    "33/(248+33)"
   ]
  }
 ],
 "metadata": {
  "kernelspec": {
   "display_name": "R",
   "language": "R",
   "name": "ir"
  },
  "language_info": {
   "codemirror_mode": "r",
   "file_extension": ".r",
   "mimetype": "text/x-r-source",
   "name": "R",
   "pygments_lexer": "r",
   "version": "3.6.3"
  }
 },
 "nbformat": 4,
 "nbformat_minor": 4
}
