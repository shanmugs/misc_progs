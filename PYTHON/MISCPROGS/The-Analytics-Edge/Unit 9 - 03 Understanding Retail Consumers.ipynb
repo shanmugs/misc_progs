{
 "cells": [
  {
   "cell_type": "markdown",
   "metadata": {},
   "source": [
    "# Understanding Retail Consumers"
   ]
  },
  {
   "cell_type": "markdown",
   "metadata": {},
   "source": [
    "<img src=\"images/customer.jpg\"/>"
   ]
  },
  {
   "cell_type": "markdown",
   "metadata": {},
   "source": [
    "In Unit 6, we saw how clustering can be used for *market segmentation*, the idea of dividing airline passengers into small, more similar groups, and then designing a marketing strategy specifically for each group.  In this problem, we'll see how this idea can be applied to retail consumer data.\n",
    "\n",
    "In this problem, we'll use the dataset Households.csv, which contains data collected over two years for a group of 2,500 households.  Each row (observation) in our dataset represents a unique household.  The dataset contains the following variables:"
   ]
  },
  {
   "cell_type": "markdown",
   "metadata": {},
   "source": [
    "    NumVisits = the number of times the household visited the retailer \n",
    "\n",
    "    AvgProdCount = the average number of products purchased per transaction\n",
    "\n",
    "    AvgDiscount = the average discount per transaction from coupon usage (in %) - NOTE: Do not divide this value by 100!\n",
    "\n",
    "    AvgSalesValue = the average sales value per transaction\n",
    "\n",
    "    MorningPct = the percentage of visits in the morning (8am - 1:59pm)\n",
    "\n",
    "    AfternoonPct = the percentage of visits in the afternoon (2pm - 7:59pm)\n",
    "    \n",
    "Note that some visits can occur outside of morning and afternoon hours.  That is, visits from 8pm - 7:59am are possible.\n",
    "\n",
    "This dataset was derived from source files provided by dunnhumby, a customer science company based in the United Kingdom."
   ]
  },
  {
   "cell_type": "markdown",
   "metadata": {},
   "source": [
    "### Problem 1 - Reading in the data\n",
    "Read the dataset *Households.csv* into R."
   ]
  },
  {
   "cell_type": "code",
   "execution_count": 1,
   "metadata": {},
   "outputs": [
    {
     "data": {
      "text/html": [
       "<table>\n",
       "<caption>A data.frame: 6 × 6</caption>\n",
       "<thead>\n",
       "\t<tr><th></th><th scope=col>NumVisits</th><th scope=col>AvgProdCount</th><th scope=col>AvgDiscount</th><th scope=col>AvgSalesValue</th><th scope=col>MorningPct</th><th scope=col>AfternoonPct</th></tr>\n",
       "\t<tr><th></th><th scope=col>&lt;int&gt;</th><th scope=col>&lt;dbl&gt;</th><th scope=col>&lt;dbl&gt;</th><th scope=col>&lt;dbl&gt;</th><th scope=col>&lt;dbl&gt;</th><th scope=col>&lt;dbl&gt;</th></tr>\n",
       "</thead>\n",
       "<tbody>\n",
       "\t<tr><th scope=row>1</th><td> 86</td><td>20.08140</td><td> 8.105116</td><td>50.35070</td><td>46.511628</td><td>51.16279</td></tr>\n",
       "\t<tr><th scope=row>2</th><td> 45</td><td>15.86667</td><td> 7.444222</td><td>43.42978</td><td> 8.888889</td><td>60.00000</td></tr>\n",
       "\t<tr><th scope=row>3</th><td> 47</td><td>19.61702</td><td>14.365106</td><td>56.45128</td><td>14.893617</td><td>76.59574</td></tr>\n",
       "\t<tr><th scope=row>4</th><td> 30</td><td>10.03333</td><td> 3.855000</td><td>40.00367</td><td>13.333333</td><td>56.66667</td></tr>\n",
       "\t<tr><th scope=row>5</th><td> 40</td><td> 5.55000</td><td> 2.958250</td><td>19.47650</td><td> 2.500000</td><td>67.50000</td></tr>\n",
       "\t<tr><th scope=row>6</th><td>250</td><td> 7.16400</td><td> 3.313360</td><td>23.98464</td><td>25.600000</td><td>61.20000</td></tr>\n",
       "</tbody>\n",
       "</table>\n"
      ],
      "text/latex": [
       "A data.frame: 6 × 6\n",
       "\\begin{tabular}{r|llllll}\n",
       "  & NumVisits & AvgProdCount & AvgDiscount & AvgSalesValue & MorningPct & AfternoonPct\\\\\n",
       "  & <int> & <dbl> & <dbl> & <dbl> & <dbl> & <dbl>\\\\\n",
       "\\hline\n",
       "\t1 &  86 & 20.08140 &  8.105116 & 50.35070 & 46.511628 & 51.16279\\\\\n",
       "\t2 &  45 & 15.86667 &  7.444222 & 43.42978 &  8.888889 & 60.00000\\\\\n",
       "\t3 &  47 & 19.61702 & 14.365106 & 56.45128 & 14.893617 & 76.59574\\\\\n",
       "\t4 &  30 & 10.03333 &  3.855000 & 40.00367 & 13.333333 & 56.66667\\\\\n",
       "\t5 &  40 &  5.55000 &  2.958250 & 19.47650 &  2.500000 & 67.50000\\\\\n",
       "\t6 & 250 &  7.16400 &  3.313360 & 23.98464 & 25.600000 & 61.20000\\\\\n",
       "\\end{tabular}\n"
      ],
      "text/markdown": [
       "\n",
       "A data.frame: 6 × 6\n",
       "\n",
       "| <!--/--> | NumVisits &lt;int&gt; | AvgProdCount &lt;dbl&gt; | AvgDiscount &lt;dbl&gt; | AvgSalesValue &lt;dbl&gt; | MorningPct &lt;dbl&gt; | AfternoonPct &lt;dbl&gt; |\n",
       "|---|---|---|---|---|---|---|\n",
       "| 1 |  86 | 20.08140 |  8.105116 | 50.35070 | 46.511628 | 51.16279 |\n",
       "| 2 |  45 | 15.86667 |  7.444222 | 43.42978 |  8.888889 | 60.00000 |\n",
       "| 3 |  47 | 19.61702 | 14.365106 | 56.45128 | 14.893617 | 76.59574 |\n",
       "| 4 |  30 | 10.03333 |  3.855000 | 40.00367 | 13.333333 | 56.66667 |\n",
       "| 5 |  40 |  5.55000 |  2.958250 | 19.47650 |  2.500000 | 67.50000 |\n",
       "| 6 | 250 |  7.16400 |  3.313360 | 23.98464 | 25.600000 | 61.20000 |\n",
       "\n"
      ],
      "text/plain": [
       "  NumVisits AvgProdCount AvgDiscount AvgSalesValue MorningPct AfternoonPct\n",
       "1  86       20.08140      8.105116   50.35070      46.511628  51.16279    \n",
       "2  45       15.86667      7.444222   43.42978       8.888889  60.00000    \n",
       "3  47       19.61702     14.365106   56.45128      14.893617  76.59574    \n",
       "4  30       10.03333      3.855000   40.00367      13.333333  56.66667    \n",
       "5  40        5.55000      2.958250   19.47650       2.500000  67.50000    \n",
       "6 250        7.16400      3.313360   23.98464      25.600000  61.20000    "
      ]
     },
     "metadata": {},
     "output_type": "display_data"
    }
   ],
   "source": [
    "# Load the Dataset\n",
    "\n",
    "Households = read.csv(\"data/Households2.csv\")\n",
    "\n",
    "head(Households)"
   ]
  },
  {
   "cell_type": "code",
   "execution_count": 2,
   "metadata": {},
   "outputs": [
    {
     "name": "stdout",
     "output_type": "stream",
     "text": [
      "'data.frame':\t2500 obs. of  6 variables:\n",
      " $ NumVisits    : int  86 45 47 30 40 250 59 113 20 9 ...\n",
      " $ AvgProdCount : num  20.08 15.87 19.62 10.03 5.55 ...\n",
      " $ AvgDiscount  : num  8.11 7.44 14.37 3.85 2.96 ...\n",
      " $ AvgSalesValue: num  50.4 43.4 56.5 40 19.5 ...\n",
      " $ MorningPct   : num  46.51 8.89 14.89 13.33 2.5 ...\n",
      " $ AfternoonPct : num  51.2 60 76.6 56.7 67.5 ...\n"
     ]
    }
   ],
   "source": [
    "str(Households)"
   ]
  },
  {
   "cell_type": "code",
   "execution_count": 3,
   "metadata": {},
   "outputs": [
    {
     "data": {
      "text/plain": [
       "   NumVisits       AvgProdCount     AvgDiscount     AvgSalesValue    \n",
       " Min.   :   1.0   Min.   : 1.186   Min.   : 0.089   Min.   :  2.388  \n",
       " 1st Qu.:  39.0   1st Qu.: 6.123   1st Qu.: 3.006   1st Qu.: 18.329  \n",
       " Median :  79.0   Median : 8.979   Median : 4.865   Median : 27.417  \n",
       " Mean   : 110.6   Mean   :10.291   Mean   : 5.713   Mean   : 31.621  \n",
       " 3rd Qu.: 142.2   3rd Qu.:13.116   3rd Qu.: 7.327   3rd Qu.: 40.546  \n",
       " Max.   :1300.0   Max.   :56.600   Max.   :47.176   Max.   :165.829  \n",
       "   MorningPct      AfternoonPct   \n",
       " Min.   :  0.00   Min.   :  0.00  \n",
       " 1st Qu.: 16.67   1st Qu.: 42.20  \n",
       " Median : 26.09   Median : 52.00  \n",
       " Mean   : 28.73   Mean   : 51.45  \n",
       " 3rd Qu.: 37.17   3rd Qu.: 61.29  \n",
       " Max.   :100.00   Max.   :100.00  "
      ]
     },
     "metadata": {},
     "output_type": "display_data"
    }
   ],
   "source": [
    "summary(Households)"
   ]
  },
  {
   "cell_type": "markdown",
   "metadata": {},
   "source": [
    "**How many households have logged transactions at the retailer only in the morning?**"
   ]
  },
  {
   "cell_type": "code",
   "execution_count": 4,
   "metadata": {},
   "outputs": [
    {
     "data": {
      "text/html": [
       "4"
      ],
      "text/latex": [
       "4"
      ],
      "text/markdown": [
       "4"
      ],
      "text/plain": [
       "[1] 4"
      ]
     },
     "metadata": {},
     "output_type": "display_data"
    }
   ],
   "source": [
    "nrow(subset(Households, MorningPct == 100.0))"
   ]
  },
  {
   "cell_type": "markdown",
   "metadata": {},
   "source": [
    "**How many households have logged transactions at the retailer only in the afternoon?**"
   ]
  },
  {
   "cell_type": "code",
   "execution_count": 5,
   "metadata": {},
   "outputs": [
    {
     "data": {
      "text/html": [
       "13"
      ],
      "text/latex": [
       "13"
      ],
      "text/markdown": [
       "13"
      ],
      "text/plain": [
       "[1] 13"
      ]
     },
     "metadata": {},
     "output_type": "display_data"
    }
   ],
   "source": [
    "nrow(subset(Households, AfternoonPct == 100.0))"
   ]
  },
  {
   "cell_type": "markdown",
   "metadata": {},
   "source": [
    "### Problem 2 - Descriptive statistics\n",
    "**Of the households that spend more than $150 per transaction on average, what is the minimum average discount per transaction?**"
   ]
  },
  {
   "cell_type": "code",
   "execution_count": 6,
   "metadata": {},
   "outputs": [
    {
     "data": {
      "text/html": [
       "<table>\n",
       "<caption>A data.frame: 4 × 6</caption>\n",
       "<thead>\n",
       "\t<tr><th></th><th scope=col>NumVisits</th><th scope=col>AvgProdCount</th><th scope=col>AvgDiscount</th><th scope=col>AvgSalesValue</th><th scope=col>MorningPct</th><th scope=col>AfternoonPct</th></tr>\n",
       "\t<tr><th></th><th scope=col>&lt;int&gt;</th><th scope=col>&lt;dbl&gt;</th><th scope=col>&lt;dbl&gt;</th><th scope=col>&lt;dbl&gt;</th><th scope=col>&lt;dbl&gt;</th><th scope=col>&lt;dbl&gt;</th></tr>\n",
       "</thead>\n",
       "<tbody>\n",
       "\t<tr><th scope=row>973</th><td>84</td><td>42.66667</td><td>18.49893</td><td>160.5514</td><td> 3.571429</td><td>36.904762</td></tr>\n",
       "\t<tr><th scope=row>1899</th><td>69</td><td>46.92754</td><td>27.18406</td><td>163.4319</td><td>92.753623</td><td> 7.246377</td></tr>\n",
       "\t<tr><th scope=row>1900</th><td>56</td><td>38.55357</td><td>15.64607</td><td>152.5204</td><td>66.071429</td><td>33.928571</td></tr>\n",
       "\t<tr><th scope=row>2042</th><td>29</td><td>37.82759</td><td>29.94897</td><td>165.8293</td><td>10.344828</td><td>72.413793</td></tr>\n",
       "</tbody>\n",
       "</table>\n"
      ],
      "text/latex": [
       "A data.frame: 4 × 6\n",
       "\\begin{tabular}{r|llllll}\n",
       "  & NumVisits & AvgProdCount & AvgDiscount & AvgSalesValue & MorningPct & AfternoonPct\\\\\n",
       "  & <int> & <dbl> & <dbl> & <dbl> & <dbl> & <dbl>\\\\\n",
       "\\hline\n",
       "\t973 & 84 & 42.66667 & 18.49893 & 160.5514 &  3.571429 & 36.904762\\\\\n",
       "\t1899 & 69 & 46.92754 & 27.18406 & 163.4319 & 92.753623 &  7.246377\\\\\n",
       "\t1900 & 56 & 38.55357 & 15.64607 & 152.5204 & 66.071429 & 33.928571\\\\\n",
       "\t2042 & 29 & 37.82759 & 29.94897 & 165.8293 & 10.344828 & 72.413793\\\\\n",
       "\\end{tabular}\n"
      ],
      "text/markdown": [
       "\n",
       "A data.frame: 4 × 6\n",
       "\n",
       "| <!--/--> | NumVisits &lt;int&gt; | AvgProdCount &lt;dbl&gt; | AvgDiscount &lt;dbl&gt; | AvgSalesValue &lt;dbl&gt; | MorningPct &lt;dbl&gt; | AfternoonPct &lt;dbl&gt; |\n",
       "|---|---|---|---|---|---|---|\n",
       "| 973 | 84 | 42.66667 | 18.49893 | 160.5514 |  3.571429 | 36.904762 |\n",
       "| 1899 | 69 | 46.92754 | 27.18406 | 163.4319 | 92.753623 |  7.246377 |\n",
       "| 1900 | 56 | 38.55357 | 15.64607 | 152.5204 | 66.071429 | 33.928571 |\n",
       "| 2042 | 29 | 37.82759 | 29.94897 | 165.8293 | 10.344828 | 72.413793 |\n",
       "\n"
      ],
      "text/plain": [
       "     NumVisits AvgProdCount AvgDiscount AvgSalesValue MorningPct AfternoonPct\n",
       "973  84        42.66667     18.49893    160.5514       3.571429  36.904762   \n",
       "1899 69        46.92754     27.18406    163.4319      92.753623   7.246377   \n",
       "1900 56        38.55357     15.64607    152.5204      66.071429  33.928571   \n",
       "2042 29        37.82759     29.94897    165.8293      10.344828  72.413793   "
      ]
     },
     "metadata": {},
     "output_type": "display_data"
    }
   ],
   "source": [
    "houseup150 = subset(Households, AvgSalesValue > 150)\n",
    "houseup150"
   ]
  },
  {
   "cell_type": "code",
   "execution_count": 7,
   "metadata": {},
   "outputs": [
    {
     "data": {
      "text/plain": [
       "   NumVisits      AvgProdCount    AvgDiscount    AvgSalesValue  \n",
       " Min.   :29.00   Min.   :37.83   Min.   :15.65   Min.   :152.5  \n",
       " 1st Qu.:49.25   1st Qu.:38.37   1st Qu.:17.79   1st Qu.:158.5  \n",
       " Median :62.50   Median :40.61   Median :22.84   Median :162.0  \n",
       " Mean   :59.50   Mean   :41.49   Mean   :22.82   Mean   :160.6  \n",
       " 3rd Qu.:72.75   3rd Qu.:43.73   3rd Qu.:27.88   3rd Qu.:164.0  \n",
       " Max.   :84.00   Max.   :46.93   Max.   :29.95   Max.   :165.8  \n",
       "   MorningPct      AfternoonPct   \n",
       " Min.   : 3.571   Min.   : 7.246  \n",
       " 1st Qu.: 8.651   1st Qu.:27.258  \n",
       " Median :38.208   Median :35.417  \n",
       " Mean   :43.185   Mean   :37.623  \n",
       " 3rd Qu.:72.742   3rd Qu.:45.782  \n",
       " Max.   :92.754   Max.   :72.414  "
      ]
     },
     "metadata": {},
     "output_type": "display_data"
    }
   ],
   "source": [
    "summary(houseup150)"
   ]
  },
  {
   "cell_type": "code",
   "execution_count": 8,
   "metadata": {},
   "outputs": [
    {
     "data": {
      "text/html": [
       "15.64607143"
      ],
      "text/latex": [
       "15.64607143"
      ],
      "text/markdown": [
       "15.64607143"
      ],
      "text/plain": [
       "[1] 15.64607"
      ]
     },
     "metadata": {},
     "output_type": "display_data"
    }
   ],
   "source": [
    "min(houseup150$AvgDiscount)"
   ]
  },
  {
   "cell_type": "markdown",
   "metadata": {},
   "source": [
    "Answer: **15,65%**"
   ]
  },
  {
   "cell_type": "markdown",
   "metadata": {},
   "source": [
    "**Of the households who have an average discount per transaction greater than 25%, what is the minimum average sales value per transaction?**"
   ]
  },
  {
   "cell_type": "code",
   "execution_count": 9,
   "metadata": {},
   "outputs": [
    {
     "data": {
      "text/html": [
       "<table>\n",
       "<caption>A data.frame: 10 × 6</caption>\n",
       "<thead>\n",
       "\t<tr><th></th><th scope=col>NumVisits</th><th scope=col>AvgProdCount</th><th scope=col>AvgDiscount</th><th scope=col>AvgSalesValue</th><th scope=col>MorningPct</th><th scope=col>AfternoonPct</th></tr>\n",
       "\t<tr><th></th><th scope=col>&lt;int&gt;</th><th scope=col>&lt;dbl&gt;</th><th scope=col>&lt;dbl&gt;</th><th scope=col>&lt;dbl&gt;</th><th scope=col>&lt;dbl&gt;</th><th scope=col>&lt;dbl&gt;</th></tr>\n",
       "</thead>\n",
       "<tbody>\n",
       "\t<tr><th scope=row>60</th><td> 8</td><td>13.37500</td><td>27.04625</td><td> 50.11750</td><td>25.00000</td><td>62.500000</td></tr>\n",
       "\t<tr><th scope=row>248</th><td>57</td><td>36.43860</td><td>35.05246</td><td>105.94754</td><td>28.07018</td><td>42.105263</td></tr>\n",
       "\t<tr><th scope=row>1238</th><td>51</td><td>35.03922</td><td>26.74765</td><td> 91.73745</td><td>58.82353</td><td>35.294118</td></tr>\n",
       "\t<tr><th scope=row>1315</th><td> 5</td><td>56.60000</td><td>26.76000</td><td>129.07200</td><td>20.00000</td><td>60.000000</td></tr>\n",
       "\t<tr><th scope=row>1574</th><td>28</td><td>42.10714</td><td>47.17607</td><td>129.14393</td><td>50.00000</td><td>46.428571</td></tr>\n",
       "\t<tr><th scope=row>1899</th><td>69</td><td>46.92754</td><td>27.18406</td><td>163.43188</td><td>92.75362</td><td> 7.246377</td></tr>\n",
       "\t<tr><th scope=row>2026</th><td>18</td><td>22.27778</td><td>36.33611</td><td> 65.64611</td><td>11.11111</td><td>22.222222</td></tr>\n",
       "\t<tr><th scope=row>2042</th><td>29</td><td>37.82759</td><td>29.94897</td><td>165.82931</td><td>10.34483</td><td>72.413793</td></tr>\n",
       "\t<tr><th scope=row>2409</th><td> 8</td><td>47.25000</td><td>36.69000</td><td>113.31875</td><td> 0.00000</td><td>87.500000</td></tr>\n",
       "\t<tr><th scope=row>2435</th><td>46</td><td>23.00000</td><td>25.21109</td><td> 71.82283</td><td>28.26087</td><td>47.826087</td></tr>\n",
       "</tbody>\n",
       "</table>\n"
      ],
      "text/latex": [
       "A data.frame: 10 × 6\n",
       "\\begin{tabular}{r|llllll}\n",
       "  & NumVisits & AvgProdCount & AvgDiscount & AvgSalesValue & MorningPct & AfternoonPct\\\\\n",
       "  & <int> & <dbl> & <dbl> & <dbl> & <dbl> & <dbl>\\\\\n",
       "\\hline\n",
       "\t60 &  8 & 13.37500 & 27.04625 &  50.11750 & 25.00000 & 62.500000\\\\\n",
       "\t248 & 57 & 36.43860 & 35.05246 & 105.94754 & 28.07018 & 42.105263\\\\\n",
       "\t1238 & 51 & 35.03922 & 26.74765 &  91.73745 & 58.82353 & 35.294118\\\\\n",
       "\t1315 &  5 & 56.60000 & 26.76000 & 129.07200 & 20.00000 & 60.000000\\\\\n",
       "\t1574 & 28 & 42.10714 & 47.17607 & 129.14393 & 50.00000 & 46.428571\\\\\n",
       "\t1899 & 69 & 46.92754 & 27.18406 & 163.43188 & 92.75362 &  7.246377\\\\\n",
       "\t2026 & 18 & 22.27778 & 36.33611 &  65.64611 & 11.11111 & 22.222222\\\\\n",
       "\t2042 & 29 & 37.82759 & 29.94897 & 165.82931 & 10.34483 & 72.413793\\\\\n",
       "\t2409 &  8 & 47.25000 & 36.69000 & 113.31875 &  0.00000 & 87.500000\\\\\n",
       "\t2435 & 46 & 23.00000 & 25.21109 &  71.82283 & 28.26087 & 47.826087\\\\\n",
       "\\end{tabular}\n"
      ],
      "text/markdown": [
       "\n",
       "A data.frame: 10 × 6\n",
       "\n",
       "| <!--/--> | NumVisits &lt;int&gt; | AvgProdCount &lt;dbl&gt; | AvgDiscount &lt;dbl&gt; | AvgSalesValue &lt;dbl&gt; | MorningPct &lt;dbl&gt; | AfternoonPct &lt;dbl&gt; |\n",
       "|---|---|---|---|---|---|---|\n",
       "| 60 |  8 | 13.37500 | 27.04625 |  50.11750 | 25.00000 | 62.500000 |\n",
       "| 248 | 57 | 36.43860 | 35.05246 | 105.94754 | 28.07018 | 42.105263 |\n",
       "| 1238 | 51 | 35.03922 | 26.74765 |  91.73745 | 58.82353 | 35.294118 |\n",
       "| 1315 |  5 | 56.60000 | 26.76000 | 129.07200 | 20.00000 | 60.000000 |\n",
       "| 1574 | 28 | 42.10714 | 47.17607 | 129.14393 | 50.00000 | 46.428571 |\n",
       "| 1899 | 69 | 46.92754 | 27.18406 | 163.43188 | 92.75362 |  7.246377 |\n",
       "| 2026 | 18 | 22.27778 | 36.33611 |  65.64611 | 11.11111 | 22.222222 |\n",
       "| 2042 | 29 | 37.82759 | 29.94897 | 165.82931 | 10.34483 | 72.413793 |\n",
       "| 2409 |  8 | 47.25000 | 36.69000 | 113.31875 |  0.00000 | 87.500000 |\n",
       "| 2435 | 46 | 23.00000 | 25.21109 |  71.82283 | 28.26087 | 47.826087 |\n",
       "\n"
      ],
      "text/plain": [
       "     NumVisits AvgProdCount AvgDiscount AvgSalesValue MorningPct AfternoonPct\n",
       "60    8        13.37500     27.04625     50.11750     25.00000   62.500000   \n",
       "248  57        36.43860     35.05246    105.94754     28.07018   42.105263   \n",
       "1238 51        35.03922     26.74765     91.73745     58.82353   35.294118   \n",
       "1315  5        56.60000     26.76000    129.07200     20.00000   60.000000   \n",
       "1574 28        42.10714     47.17607    129.14393     50.00000   46.428571   \n",
       "1899 69        46.92754     27.18406    163.43188     92.75362    7.246377   \n",
       "2026 18        22.27778     36.33611     65.64611     11.11111   22.222222   \n",
       "2042 29        37.82759     29.94897    165.82931     10.34483   72.413793   \n",
       "2409  8        47.25000     36.69000    113.31875      0.00000   87.500000   \n",
       "2435 46        23.00000     25.21109     71.82283     28.26087   47.826087   "
      ]
     },
     "metadata": {},
     "output_type": "display_data"
    }
   ],
   "source": [
    "houseup25 = subset(Households, AvgDiscount > 25)\n",
    "houseup25"
   ]
  },
  {
   "cell_type": "code",
   "execution_count": 10,
   "metadata": {},
   "outputs": [
    {
     "data": {
      "text/html": [
       "50.1175"
      ],
      "text/latex": [
       "50.1175"
      ],
      "text/markdown": [
       "50.1175"
      ],
      "text/plain": [
       "[1] 50.1175"
      ]
     },
     "metadata": {},
     "output_type": "display_data"
    }
   ],
   "source": [
    "min(houseup25$AvgSalesValue)"
   ]
  },
  {
   "cell_type": "markdown",
   "metadata": {},
   "source": [
    "Answer: 50."
   ]
  },
  {
   "cell_type": "markdown",
   "metadata": {},
   "source": [
    "**In the dataset, what proportion of households visited the retailer at least 300 times?**"
   ]
  },
  {
   "cell_type": "code",
   "execution_count": 11,
   "metadata": {},
   "outputs": [
    {
     "data": {
      "text/html": [
       "0.0592"
      ],
      "text/latex": [
       "0.0592"
      ],
      "text/markdown": [
       "0.0592"
      ],
      "text/plain": [
       "[1] 0.0592"
      ]
     },
     "metadata": {},
     "output_type": "display_data"
    }
   ],
   "source": [
    "nrow(subset(Households, NumVisits >= 300)) / nrow(Households)"
   ]
  },
  {
   "cell_type": "markdown",
   "metadata": {},
   "source": [
    "Answer: **5.92%**."
   ]
  },
  {
   "cell_type": "markdown",
   "metadata": {},
   "source": [
    "### Problem 3 - Importance of Normalizing\n",
    "When clustering data, it is often important to normalize the variables so that they are all on the same scale. If you clustered this dataset without normalizing, **which variable would you expect to dominate in the distance calculations?**"
   ]
  },
  {
   "cell_type": "code",
   "execution_count": 12,
   "metadata": {},
   "outputs": [
    {
     "data": {
      "text/plain": [
       "   NumVisits       AvgProdCount     AvgDiscount     AvgSalesValue    \n",
       " Min.   :   1.0   Min.   : 1.186   Min.   : 0.089   Min.   :  2.388  \n",
       " 1st Qu.:  39.0   1st Qu.: 6.123   1st Qu.: 3.006   1st Qu.: 18.329  \n",
       " Median :  79.0   Median : 8.979   Median : 4.865   Median : 27.417  \n",
       " Mean   : 110.6   Mean   :10.291   Mean   : 5.713   Mean   : 31.621  \n",
       " 3rd Qu.: 142.2   3rd Qu.:13.116   3rd Qu.: 7.327   3rd Qu.: 40.546  \n",
       " Max.   :1300.0   Max.   :56.600   Max.   :47.176   Max.   :165.829  \n",
       "   MorningPct      AfternoonPct   \n",
       " Min.   :  0.00   Min.   :  0.00  \n",
       " 1st Qu.: 16.67   1st Qu.: 42.20  \n",
       " Median : 26.09   Median : 52.00  \n",
       " Mean   : 28.73   Mean   : 51.45  \n",
       " 3rd Qu.: 37.17   3rd Qu.: 61.29  \n",
       " Max.   :100.00   Max.   :100.00  "
      ]
     },
     "metadata": {},
     "output_type": "display_data"
    }
   ],
   "source": [
    "summary(Households)"
   ]
  },
  {
   "cell_type": "markdown",
   "metadata": {},
   "source": [
    "Answer: AvgSalesValue."
   ]
  },
  {
   "cell_type": "markdown",
   "metadata": {},
   "source": [
    "### Problem 4 - Normalizing the Data\n",
    "Normalize all of the variables in the HouseHolds dataset by entering the following commands in your R console: (Note that these commands assume that your dataset is called \"Households\", and create the normalized dataset \"HouseholdsNorm\". You can change the names to anything you want by editing the commands.)\n",
    "\n",
    "    library(caret)\n",
    "\n",
    "    preproc = preProcess(Households)\n",
    "\n",
    "    HouseholdsNorm = predict(preproc, Households)\n",
    "\n",
    "(Remember that for each variable, the normalization process subtracts the mean and divides by the standard deviation. We learned how to do this in Unit 6.) In your normalized dataset, all of the variables should have mean 0 and standard deviation 1."
   ]
  },
  {
   "cell_type": "code",
   "execution_count": 13,
   "metadata": {},
   "outputs": [
    {
     "name": "stderr",
     "output_type": "stream",
     "text": [
      "Loading required package: lattice\n",
      "\n",
      "Loading required package: ggplot2\n",
      "\n"
     ]
    }
   ],
   "source": [
    "library(caret)"
   ]
  },
  {
   "cell_type": "code",
   "execution_count": 14,
   "metadata": {},
   "outputs": [],
   "source": [
    "preproc = preProcess(Households)\n",
    "\n",
    "HouseholdsNorm = predict(preproc, Households)"
   ]
  },
  {
   "cell_type": "code",
   "execution_count": 15,
   "metadata": {},
   "outputs": [
    {
     "data": {
      "text/plain": [
       "   NumVisits        AvgProdCount      AvgDiscount      AvgSalesValue    \n",
       " Min.   :-0.9475   Min.   :-1.5239   Min.   :-1.4010   Min.   :-1.5342  \n",
       " 1st Qu.:-0.6190   1st Qu.:-0.6976   1st Qu.:-0.6743   1st Qu.:-0.6976  \n",
       " Median :-0.2731   Median :-0.2197   Median :-0.2112   Median :-0.2206  \n",
       " Mean   : 0.0000   Mean   : 0.0000   Mean   : 0.0000   Mean   : 0.0000  \n",
       " 3rd Qu.: 0.2737   3rd Qu.: 0.4728   3rd Qu.: 0.4021   3rd Qu.: 0.4684  \n",
       " Max.   :10.2828   Max.   : 7.7500   Max.   :10.3293   Max.   : 7.0432  \n",
       "   MorningPct       AfternoonPct     \n",
       " Min.   :-1.6779   Min.   :-3.22843  \n",
       " 1st Qu.:-0.7047   1st Qu.:-0.58006  \n",
       " Median :-0.1546   Median : 0.03458  \n",
       " Mean   : 0.0000   Mean   : 0.00000  \n",
       " 3rd Qu.: 0.4926   3rd Qu.: 0.61755  \n",
       " Max.   : 4.1617   Max.   : 3.04658  "
      ]
     },
     "metadata": {},
     "output_type": "display_data"
    }
   ],
   "source": [
    "summary(HouseholdsNorm)"
   ]
  },
  {
   "cell_type": "markdown",
   "metadata": {},
   "source": [
    "**What is the maximum value of NumVisits in the normalized dataset?**"
   ]
  },
  {
   "cell_type": "markdown",
   "metadata": {},
   "source": [
    "Answer: 10.2828."
   ]
  },
  {
   "cell_type": "markdown",
   "metadata": {},
   "source": [
    "**What is the minimum value of AfternoonPct in the normalized dataset?**"
   ]
  },
  {
   "cell_type": "markdown",
   "metadata": {},
   "source": [
    "Answer: -3.22843."
   ]
  },
  {
   "cell_type": "markdown",
   "metadata": {},
   "source": [
    "Run the following code to create a dendrogram of your data:\n",
    "\n",
    "    set.seed(200) \n",
    "\n",
    "    distances <- dist(HouseholdsNorm, method = \"euclidean\") \n",
    "\n",
    "    ClusterShoppers <- hclust(distances, method = \"ward.D\") \n",
    "\n",
    "    plot(ClusterShoppers, labels = FALSE)"
   ]
  },
  {
   "cell_type": "code",
   "execution_count": 16,
   "metadata": {},
   "outputs": [
    {
     "data": {
      "image/png": "[encoded data removed]",
      "text/plain": [
       "Plot with title \"Cluster Dendrogram\""
      ]
     },
     "metadata": {
      "image/png": {
       "height": 420,
       "width": 420
      },
      "text/plain": {
       "height": 420,
       "width": 420
      }
     },
     "output_type": "display_data"
    }
   ],
   "source": [
    "set.seed(200)\n",
    "\n",
    "distances <- dist(HouseholdsNorm, method='euclidean')\n",
    "\n",
    "ClusterShoppers <- hclust(distances, method='ward.D')\n",
    "\n",
    "plot(ClusterShoppers, labels=F)"
   ]
  },
  {
   "cell_type": "markdown",
   "metadata": {},
   "source": [
    "### Problem 5 - Interpreting the Dendrogram\n",
    "**Based on the dendrogram, how many clusters do you think would be appropriate for this problem?**"
   ]
  },
  {
   "cell_type": "markdown",
   "metadata": {},
   "source": [
    "Answer: 5."
   ]
  },
  {
   "cell_type": "markdown",
   "metadata": {},
   "source": [
    "### Problem 6 - K-means Clustering\n",
    "Run the k-means clustering algorithm on your normalized dataset, selecting 10 clusters. \n",
    "\n",
    "Right before using the kmeans function, type \"set.seed(200)\" in your R console."
   ]
  },
  {
   "cell_type": "code",
   "execution_count": 17,
   "metadata": {},
   "outputs": [
    {
     "name": "stdout",
     "output_type": "stream",
     "text": [
      "List of 9\n",
      " $ cluster     : int [1:2500] 3 8 7 8 2 2 7 5 5 2 ...\n",
      " $ centers     : num [1:10, 1:6] -0.1402 -0.172 0.0071 2.8401 -0.1558 ...\n",
      "  ..- attr(*, \"dimnames\")=List of 2\n",
      "  .. ..$ : chr [1:10] \"1\" \"2\" \"3\" \"4\" ...\n",
      "  .. ..$ : chr [1:6] \"NumVisits\" \"AvgProdCount\" \"AvgDiscount\" \"AvgSalesValue\" ...\n",
      " $ totss       : num 14994\n",
      " $ withinss    : num [1:10] 511 546 445 670 649 ...\n",
      " $ tot.withinss: num 4870\n",
      " $ betweenss   : num 10124\n",
      " $ size        : int [1:10] 420 431 140 154 442 277 214 238 133 51\n",
      " $ iter        : int 5\n",
      " $ ifault      : int 0\n",
      " - attr(*, \"class\")= chr \"kmeans\"\n"
     ]
    }
   ],
   "source": [
    "set.seed(200)\n",
    "\n",
    "KMC = kmeans(HouseholdsNorm, centers = 10)\n",
    "\n",
    "str(KMC)"
   ]
  },
  {
   "cell_type": "code",
   "execution_count": 18,
   "metadata": {},
   "outputs": [
    {
     "data": {
      "text/plain": [
       "             Length Class  Mode   \n",
       "cluster      2500   -none- numeric\n",
       "centers        60   -none- numeric\n",
       "totss           1   -none- numeric\n",
       "withinss       10   -none- numeric\n",
       "tot.withinss    1   -none- numeric\n",
       "betweenss       1   -none- numeric\n",
       "size           10   -none- numeric\n",
       "iter            1   -none- numeric\n",
       "ifault          1   -none- numeric"
      ]
     },
     "metadata": {},
     "output_type": "display_data"
    }
   ],
   "source": [
    "summary(KMC)"
   ]
  },
  {
   "cell_type": "code",
   "execution_count": 19,
   "metadata": {},
   "outputs": [
    {
     "data": {
      "text/plain": [
       "\n",
       "  1   2   3   4   5   6   7   8   9  10 \n",
       "420 431 140 154 442 277 214 238 133  51 "
      ]
     },
     "metadata": {},
     "output_type": "display_data"
    }
   ],
   "source": [
    "table(KMC$cluster)"
   ]
  },
  {
   "cell_type": "markdown",
   "metadata": {},
   "source": [
    "**How many observations are in the smallest cluster?**"
   ]
  },
  {
   "cell_type": "code",
   "execution_count": 20,
   "metadata": {},
   "outputs": [
    {
     "data": {
      "text/html": [
       "51"
      ],
      "text/latex": [
       "51"
      ],
      "text/markdown": [
       "51"
      ],
      "text/plain": [
       "[1] 51"
      ]
     },
     "metadata": {},
     "output_type": "display_data"
    }
   ],
   "source": [
    "min(table(KMC$cluster))"
   ]
  },
  {
   "cell_type": "markdown",
   "metadata": {},
   "source": [
    "**How many observations are in the largest cluster?**"
   ]
  },
  {
   "cell_type": "code",
   "execution_count": 21,
   "metadata": {},
   "outputs": [
    {
     "data": {
      "text/html": [
       "442"
      ],
      "text/latex": [
       "442"
      ],
      "text/markdown": [
       "442"
      ],
      "text/plain": [
       "[1] 442"
      ]
     },
     "metadata": {},
     "output_type": "display_data"
    }
   ],
   "source": [
    "max(table(KMC$cluster))"
   ]
  },
  {
   "cell_type": "markdown",
   "metadata": {},
   "source": [
    "### Problem 7 - Understanding the Clusters\n",
    "Now, use the cluster assignments from k-means clustering together with the cluster centroids to answer the next few questions."
   ]
  },
  {
   "cell_type": "code",
   "execution_count": 22,
   "metadata": {},
   "outputs": [
    {
     "data": {
      "text/html": [
       "<table>\n",
       "<caption>A matrix: 10 × 6 of type dbl</caption>\n",
       "<thead>\n",
       "\t<tr><th></th><th scope=col>NumVisits</th><th scope=col>AvgProdCount</th><th scope=col>AvgDiscount</th><th scope=col>AvgSalesValue</th><th scope=col>MorningPct</th><th scope=col>AfternoonPct</th></tr>\n",
       "</thead>\n",
       "<tbody>\n",
       "\t<tr><th scope=row>1</th><td>-0.1401843</td><td>-0.5309093</td><td>-0.4525582</td><td>-0.4841898</td><td> 0.60214094</td><td>-0.2494699</td></tr>\n",
       "\t<tr><th scope=row>2</th><td>-0.1720008</td><td>-0.6506244</td><td>-0.6421967</td><td>-0.6687410</td><td>-0.61509779</td><td> 0.8088543</td></tr>\n",
       "\t<tr><th scope=row>3</th><td> 0.0070951</td><td> 0.7873403</td><td> 0.7977366</td><td> 0.8804212</td><td> 1.66592704</td><td>-1.1453409</td></tr>\n",
       "\t<tr><th scope=row>4</th><td> 2.8401365</td><td>-0.5322849</td><td>-0.4798666</td><td>-0.4818773</td><td>-0.07863728</td><td>-0.0260115</td></tr>\n",
       "\t<tr><th scope=row>5</th><td>-0.1558384</td><td> 0.3679448</td><td> 0.3693756</td><td> 0.3563047</td><td>-0.14894252</td><td>-0.0559938</td></tr>\n",
       "\t<tr><th scope=row>6</th><td>-0.2174575</td><td>-0.7242100</td><td>-0.6789707</td><td>-0.7266385</td><td>-0.69725432</td><td>-0.9122546</td></tr>\n",
       "\t<tr><th scope=row>7</th><td>-0.3007295</td><td> 1.5957835</td><td> 1.3940553</td><td> 1.5740954</td><td>-0.25930014</td><td> 0.6363592</td></tr>\n",
       "\t<tr><th scope=row>8</th><td>-0.2169425</td><td> 0.3256028</td><td> 0.2488149</td><td> 0.2729982</td><td>-0.83959367</td><td> 1.2283559</td></tr>\n",
       "\t<tr><th scope=row>9</th><td>-0.2682620</td><td>-0.7161168</td><td>-0.6178337</td><td>-0.7285755</td><td> 2.20451460</td><td>-1.6713849</td></tr>\n",
       "\t<tr><th scope=row>10</th><td>-0.4819812</td><td> 3.7131807</td><td> 3.5002847</td><td> 3.5568619</td><td> 0.23869470</td><td>-0.1622926</td></tr>\n",
       "</tbody>\n",
       "</table>\n"
      ],
      "text/latex": [
       "A matrix: 10 × 6 of type dbl\n",
       "\\begin{tabular}{r|llllll}\n",
       "  & NumVisits & AvgProdCount & AvgDiscount & AvgSalesValue & MorningPct & AfternoonPct\\\\\n",
       "\\hline\n",
       "\t1 & -0.1401843 & -0.5309093 & -0.4525582 & -0.4841898 &  0.60214094 & -0.2494699\\\\\n",
       "\t2 & -0.1720008 & -0.6506244 & -0.6421967 & -0.6687410 & -0.61509779 &  0.8088543\\\\\n",
       "\t3 &  0.0070951 &  0.7873403 &  0.7977366 &  0.8804212 &  1.66592704 & -1.1453409\\\\\n",
       "\t4 &  2.8401365 & -0.5322849 & -0.4798666 & -0.4818773 & -0.07863728 & -0.0260115\\\\\n",
       "\t5 & -0.1558384 &  0.3679448 &  0.3693756 &  0.3563047 & -0.14894252 & -0.0559938\\\\\n",
       "\t6 & -0.2174575 & -0.7242100 & -0.6789707 & -0.7266385 & -0.69725432 & -0.9122546\\\\\n",
       "\t7 & -0.3007295 &  1.5957835 &  1.3940553 &  1.5740954 & -0.25930014 &  0.6363592\\\\\n",
       "\t8 & -0.2169425 &  0.3256028 &  0.2488149 &  0.2729982 & -0.83959367 &  1.2283559\\\\\n",
       "\t9 & -0.2682620 & -0.7161168 & -0.6178337 & -0.7285755 &  2.20451460 & -1.6713849\\\\\n",
       "\t10 & -0.4819812 &  3.7131807 &  3.5002847 &  3.5568619 &  0.23869470 & -0.1622926\\\\\n",
       "\\end{tabular}\n"
      ],
      "text/markdown": [
       "\n",
       "A matrix: 10 × 6 of type dbl\n",
       "\n",
       "| <!--/--> | NumVisits | AvgProdCount | AvgDiscount | AvgSalesValue | MorningPct | AfternoonPct |\n",
       "|---|---|---|---|---|---|---|\n",
       "| 1 | -0.1401843 | -0.5309093 | -0.4525582 | -0.4841898 |  0.60214094 | -0.2494699 |\n",
       "| 2 | -0.1720008 | -0.6506244 | -0.6421967 | -0.6687410 | -0.61509779 |  0.8088543 |\n",
       "| 3 |  0.0070951 |  0.7873403 |  0.7977366 |  0.8804212 |  1.66592704 | -1.1453409 |\n",
       "| 4 |  2.8401365 | -0.5322849 | -0.4798666 | -0.4818773 | -0.07863728 | -0.0260115 |\n",
       "| 5 | -0.1558384 |  0.3679448 |  0.3693756 |  0.3563047 | -0.14894252 | -0.0559938 |\n",
       "| 6 | -0.2174575 | -0.7242100 | -0.6789707 | -0.7266385 | -0.69725432 | -0.9122546 |\n",
       "| 7 | -0.3007295 |  1.5957835 |  1.3940553 |  1.5740954 | -0.25930014 |  0.6363592 |\n",
       "| 8 | -0.2169425 |  0.3256028 |  0.2488149 |  0.2729982 | -0.83959367 |  1.2283559 |\n",
       "| 9 | -0.2682620 | -0.7161168 | -0.6178337 | -0.7285755 |  2.20451460 | -1.6713849 |\n",
       "| 10 | -0.4819812 |  3.7131807 |  3.5002847 |  3.5568619 |  0.23869470 | -0.1622926 |\n",
       "\n"
      ],
      "text/plain": [
       "   NumVisits  AvgProdCount AvgDiscount AvgSalesValue MorningPct  AfternoonPct\n",
       "1  -0.1401843 -0.5309093   -0.4525582  -0.4841898     0.60214094 -0.2494699  \n",
       "2  -0.1720008 -0.6506244   -0.6421967  -0.6687410    -0.61509779  0.8088543  \n",
       "3   0.0070951  0.7873403    0.7977366   0.8804212     1.66592704 -1.1453409  \n",
       "4   2.8401365 -0.5322849   -0.4798666  -0.4818773    -0.07863728 -0.0260115  \n",
       "5  -0.1558384  0.3679448    0.3693756   0.3563047    -0.14894252 -0.0559938  \n",
       "6  -0.2174575 -0.7242100   -0.6789707  -0.7266385    -0.69725432 -0.9122546  \n",
       "7  -0.3007295  1.5957835    1.3940553   1.5740954    -0.25930014  0.6363592  \n",
       "8  -0.2169425  0.3256028    0.2488149   0.2729982    -0.83959367  1.2283559  \n",
       "9  -0.2682620 -0.7161168   -0.6178337  -0.7285755     2.20451460 -1.6713849  \n",
       "10 -0.4819812  3.7131807    3.5002847   3.5568619     0.23869470 -0.1622926  "
      ]
     },
     "metadata": {},
     "output_type": "display_data"
    }
   ],
   "source": [
    "KMC$centers"
   ]
  },
  {
   "cell_type": "markdown",
   "metadata": {},
   "source": [
    "**Which cluster best fits the description \"morning shoppers stopping in to make a quick purchase\"?**"
   ]
  },
  {
   "cell_type": "markdown",
   "metadata": {},
   "source": [
    "Answer: Cluster 9."
   ]
  },
  {
   "cell_type": "markdown",
   "metadata": {},
   "source": [
    "### Problem 8 - Understanding the Clusters\n",
    "**Which cluster best fits the description \"shoppers with high average product count and high average value per visit\"?**"
   ]
  },
  {
   "cell_type": "markdown",
   "metadata": {},
   "source": [
    "Answer: Cluster 10."
   ]
  },
  {
   "cell_type": "markdown",
   "metadata": {},
   "source": [
    "### Problem 9 - Understanding the Clusters\n",
    "**Which cluster best fits the description \"frequent shoppers with low value per visit\"?**"
   ]
  },
  {
   "cell_type": "markdown",
   "metadata": {},
   "source": [
    "Answer: Cluster 4."
   ]
  },
  {
   "cell_type": "markdown",
   "metadata": {},
   "source": [
    "### Problem 10 - Random Behavior\n",
    "**If we ran hierarchical clustering a second time without making any additional calls to set.seed, we would expect:**"
   ]
  },
  {
   "cell_type": "markdown",
   "metadata": {},
   "source": [
    "Answer: The same results."
   ]
  },
  {
   "cell_type": "markdown",
   "metadata": {},
   "source": [
    "**If we ran k-means clustering a second time without making any additional calls to set.seed, we would expect:**"
   ]
  },
  {
   "cell_type": "markdown",
   "metadata": {},
   "source": [
    "Answer: Different results."
   ]
  },
  {
   "cell_type": "markdown",
   "metadata": {},
   "source": [
    "**If we ran k-means clustering a second time, again running the command set.seed(200) right before doing the clustering, we would expect:**"
   ]
  },
  {
   "cell_type": "markdown",
   "metadata": {},
   "source": [
    "Answer: The same result that we had obtained initially."
   ]
  },
  {
   "cell_type": "markdown",
   "metadata": {},
   "source": [
    "**If we ran k-means clustering a second time, running the command set.seed(100) right before doing the clustering, we would expect:**"
   ]
  },
  {
   "cell_type": "markdown",
   "metadata": {},
   "source": [
    "Answer: Different results."
   ]
  },
  {
   "cell_type": "markdown",
   "metadata": {},
   "source": [
    "### Problem 11 - The Number of Clusters\n",
    "Suppose the marketing department at the retail store decided that the 10 clusters were too specific, and they wanted more general clusters to describe the consumer base. **Would they want to increase or decrease the number of clusters?**"
   ]
  },
  {
   "cell_type": "markdown",
   "metadata": {},
   "source": [
    "Answer: Yes."
   ]
  },
  {
   "cell_type": "markdown",
   "metadata": {},
   "source": [
    "### Problem 12 - Increasing the Number of Clusters\n",
    "Run the k-means clustering algorithm again, this time selecting 5 clusters. Right before the \"kmeans\" function, set the random seed to 5000.\n",
    "\n",
    "**How many observations are in the smallest cluster?**"
   ]
  },
  {
   "cell_type": "code",
   "execution_count": 23,
   "metadata": {},
   "outputs": [
    {
     "name": "stdout",
     "output_type": "stream",
     "text": [
      "List of 9\n",
      " $ cluster     : int [1:2500] 4 4 3 4 5 5 4 4 4 5 ...\n",
      " $ centers     : num [1:5, 1:6] 2.695 -0.167 -0.398 -0.177 -0.193 ...\n",
      "  ..- attr(*, \"dimnames\")=List of 2\n",
      "  .. ..$ : chr [1:5] \"1\" \"2\" \"3\" \"4\" ...\n",
      "  .. ..$ : chr [1:6] \"NumVisits\" \"AvgProdCount\" \"AvgDiscount\" \"AvgSalesValue\" ...\n",
      " $ totss       : num 14994\n",
      " $ withinss    : num [1:5] 754 1343 1264 1613 1822\n",
      " $ tot.withinss: num 6795\n",
      " $ betweenss   : num 8199\n",
      " $ size        : int [1:5] 172 429 182 725 992\n",
      " $ iter        : int 4\n",
      " $ ifault      : int 0\n",
      " - attr(*, \"class\")= chr \"kmeans\"\n"
     ]
    }
   ],
   "source": [
    "set.seed(5000)\n",
    "\n",
    "KMC5 = kmeans(HouseholdsNorm, centers = 5)\n",
    "\n",
    "str(KMC5)"
   ]
  },
  {
   "cell_type": "code",
   "execution_count": 24,
   "metadata": {},
   "outputs": [
    {
     "data": {
      "text/plain": [
       "             Length Class  Mode   \n",
       "cluster      2500   -none- numeric\n",
       "centers        30   -none- numeric\n",
       "totss           1   -none- numeric\n",
       "withinss        5   -none- numeric\n",
       "tot.withinss    1   -none- numeric\n",
       "betweenss       1   -none- numeric\n",
       "size            5   -none- numeric\n",
       "iter            1   -none- numeric\n",
       "ifault          1   -none- numeric"
      ]
     },
     "metadata": {},
     "output_type": "display_data"
    }
   ],
   "source": [
    "summary(KMC5)"
   ]
  },
  {
   "cell_type": "code",
   "execution_count": 25,
   "metadata": {},
   "outputs": [
    {
     "data": {
      "text/plain": [
       "\n",
       "  1   2   3   4   5 \n",
       "172 429 182 725 992 "
      ]
     },
     "metadata": {},
     "output_type": "display_data"
    }
   ],
   "source": [
    "table(KMC5$cluster)"
   ]
  },
  {
   "cell_type": "markdown",
   "metadata": {},
   "source": [
    "**How many observations are in the smallest cluster?**"
   ]
  },
  {
   "cell_type": "code",
   "execution_count": 26,
   "metadata": {},
   "outputs": [
    {
     "data": {
      "text/html": [
       "172"
      ],
      "text/latex": [
       "172"
      ],
      "text/markdown": [
       "172"
      ],
      "text/plain": [
       "[1] 172"
      ]
     },
     "metadata": {},
     "output_type": "display_data"
    }
   ],
   "source": [
    "min(table(KMC5$cluster))"
   ]
  },
  {
   "cell_type": "markdown",
   "metadata": {},
   "source": [
    "**How many observations are in the largest cluster?**"
   ]
  },
  {
   "cell_type": "code",
   "execution_count": 27,
   "metadata": {},
   "outputs": [
    {
     "data": {
      "text/html": [
       "992"
      ],
      "text/latex": [
       "992"
      ],
      "text/markdown": [
       "992"
      ],
      "text/plain": [
       "[1] 992"
      ]
     },
     "metadata": {},
     "output_type": "display_data"
    }
   ],
   "source": [
    "max(table(KMC5$cluster))"
   ]
  },
  {
   "cell_type": "markdown",
   "metadata": {},
   "source": [
    "### Problem 13 - Describing the Clusters\n",
    "Using the cluster assignments from k-means clustering with 5 clusters, **which cluster best fits the description \"frequent shoppers with low value per visit\"?**"
   ]
  },
  {
   "cell_type": "code",
   "execution_count": 28,
   "metadata": {},
   "outputs": [
    {
     "data": {
      "text/html": [
       "<table>\n",
       "<caption>A matrix: 5 × 6 of type dbl</caption>\n",
       "<thead>\n",
       "\t<tr><th></th><th scope=col>NumVisits</th><th scope=col>AvgProdCount</th><th scope=col>AvgDiscount</th><th scope=col>AvgSalesValue</th><th scope=col>MorningPct</th><th scope=col>AfternoonPct</th></tr>\n",
       "</thead>\n",
       "<tbody>\n",
       "\t<tr><th scope=row>1</th><td> 2.6945739</td><td>-0.5382844</td><td>-0.4989133</td><td>-0.4882168</td><td>-0.07869021</td><td>-0.02543026</td></tr>\n",
       "\t<tr><th scope=row>2</th><td>-0.1668338</td><td>-0.2906937</td><td>-0.1996666</td><td>-0.2395268</td><td> 1.51006466</td><td>-1.15851604</td></tr>\n",
       "\t<tr><th scope=row>3</th><td>-0.3975444</td><td> 2.3739961</td><td> 2.2384982</td><td> 2.3338536</td><td> 0.16109552</td><td> 0.12087026</td></tr>\n",
       "\t<tr><th scope=row>4</th><td>-0.1772992</td><td> 0.5545512</td><td> 0.4817210</td><td> 0.5299089</td><td>-0.34028944</td><td> 0.45633456</td></tr>\n",
       "\t<tr><th scope=row>5</th><td>-0.1925403</td><td>-0.6217988</td><td>-0.5899036</td><td>-0.6272328</td><td>-0.42025460</td><td> 0.14973431</td></tr>\n",
       "</tbody>\n",
       "</table>\n"
      ],
      "text/latex": [
       "A matrix: 5 × 6 of type dbl\n",
       "\\begin{tabular}{r|llllll}\n",
       "  & NumVisits & AvgProdCount & AvgDiscount & AvgSalesValue & MorningPct & AfternoonPct\\\\\n",
       "\\hline\n",
       "\t1 &  2.6945739 & -0.5382844 & -0.4989133 & -0.4882168 & -0.07869021 & -0.02543026\\\\\n",
       "\t2 & -0.1668338 & -0.2906937 & -0.1996666 & -0.2395268 &  1.51006466 & -1.15851604\\\\\n",
       "\t3 & -0.3975444 &  2.3739961 &  2.2384982 &  2.3338536 &  0.16109552 &  0.12087026\\\\\n",
       "\t4 & -0.1772992 &  0.5545512 &  0.4817210 &  0.5299089 & -0.34028944 &  0.45633456\\\\\n",
       "\t5 & -0.1925403 & -0.6217988 & -0.5899036 & -0.6272328 & -0.42025460 &  0.14973431\\\\\n",
       "\\end{tabular}\n"
      ],
      "text/markdown": [
       "\n",
       "A matrix: 5 × 6 of type dbl\n",
       "\n",
       "| <!--/--> | NumVisits | AvgProdCount | AvgDiscount | AvgSalesValue | MorningPct | AfternoonPct |\n",
       "|---|---|---|---|---|---|---|\n",
       "| 1 |  2.6945739 | -0.5382844 | -0.4989133 | -0.4882168 | -0.07869021 | -0.02543026 |\n",
       "| 2 | -0.1668338 | -0.2906937 | -0.1996666 | -0.2395268 |  1.51006466 | -1.15851604 |\n",
       "| 3 | -0.3975444 |  2.3739961 |  2.2384982 |  2.3338536 |  0.16109552 |  0.12087026 |\n",
       "| 4 | -0.1772992 |  0.5545512 |  0.4817210 |  0.5299089 | -0.34028944 |  0.45633456 |\n",
       "| 5 | -0.1925403 | -0.6217988 | -0.5899036 | -0.6272328 | -0.42025460 |  0.14973431 |\n",
       "\n"
      ],
      "text/plain": [
       "  NumVisits  AvgProdCount AvgDiscount AvgSalesValue MorningPct  AfternoonPct\n",
       "1  2.6945739 -0.5382844   -0.4989133  -0.4882168    -0.07869021 -0.02543026 \n",
       "2 -0.1668338 -0.2906937   -0.1996666  -0.2395268     1.51006466 -1.15851604 \n",
       "3 -0.3975444  2.3739961    2.2384982   2.3338536     0.16109552  0.12087026 \n",
       "4 -0.1772992  0.5545512    0.4817210   0.5299089    -0.34028944  0.45633456 \n",
       "5 -0.1925403 -0.6217988   -0.5899036  -0.6272328    -0.42025460  0.14973431 "
      ]
     },
     "metadata": {},
     "output_type": "display_data"
    }
   ],
   "source": [
    "KMC5$centers"
   ]
  },
  {
   "cell_type": "markdown",
   "metadata": {},
   "source": [
    "Answer: Cluster 1."
   ]
  },
  {
   "cell_type": "markdown",
   "metadata": {},
   "source": [
    "### Problem 14 - Understanding Centroids\n",
    "**Why do we typically use cluster centroids to describe the clusters?**"
   ]
  },
  {
   "cell_type": "markdown",
   "metadata": {},
   "source": [
    "Asnwer: A cluster refers to a collection of data points aggregated together because of certain similarities. We define a target number k, which refers to the number of centroids that we need in the dataset. A centroid is the imaginary or real location representing the center of the cluster."
   ]
  },
  {
   "cell_type": "markdown",
   "metadata": {},
   "source": [
    "### Problem 15 - Using a Visualization\n",
    "**Which of the following visualizations could be used to observe the distribution of NumVisits, broken down by cluster?**"
   ]
  },
  {
   "cell_type": "code",
   "execution_count": 29,
   "metadata": {},
   "outputs": [],
   "source": [
    "#KMC5$centers\n",
    "Households$cluster = KMC5$cluster"
   ]
  },
  {
   "cell_type": "code",
   "execution_count": 30,
   "metadata": {},
   "outputs": [
    {
     "data": {
      "image/png": "[encoded data removed]",
      "text/plain": [
       "plot without title"
      ]
     },
     "metadata": {
      "image/png": {
       "height": 420,
       "width": 420
      },
      "text/plain": {
       "height": 420,
       "width": 420
      }
     },
     "output_type": "display_data"
    }
   ],
   "source": [
    "#Households\n",
    "boxplot(Households$NumVisits ~ Households$cluster)"
   ]
  },
  {
   "cell_type": "code",
   "execution_count": 31,
   "metadata": {},
   "outputs": [
    {
     "data": {
      "image/png": "[encoded data removed]",
      "text/plain": [
       "plot without title"
      ]
     },
     "metadata": {
      "image/png": {
       "height": 420,
       "width": 420
      },
      "text/plain": {
       "height": 420,
       "width": 420
      }
     },
     "output_type": "display_data"
    }
   ],
   "source": [
    "library(ggplot2)\n",
    "ggplot(Households, aes(x=cluster, y=NumVisits)) + geom_point()"
   ]
  }
 ],
 "metadata": {
  "kernelspec": {
   "display_name": "R",
   "language": "R",
   "name": "ir"
  },
  "language_info": {
   "codemirror_mode": "r",
   "file_extension": ".r",
   "mimetype": "text/x-r-source",
   "name": "R",
   "pygments_lexer": "r",
   "version": "3.6.3"
  }
 },
 "nbformat": 4,
 "nbformat_minor": 4
}
