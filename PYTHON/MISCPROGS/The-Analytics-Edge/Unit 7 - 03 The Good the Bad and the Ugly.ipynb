{
 "cells": [
  {
   "cell_type": "markdown",
   "metadata": {},
   "source": [
    "# The Good, the Bad, and the Ugly: Visualization"
   ]
  },
  {
   "cell_type": "code",
   "execution_count": 1,
   "metadata": {},
   "outputs": [],
   "source": [
    "# Load ggplot library\n",
    "library(ggplot2)"
   ]
  },
  {
   "cell_type": "code",
   "execution_count": 2,
   "metadata": {},
   "outputs": [
    {
     "data": {
      "text/html": [
       "<table>\n",
       "<caption>A data.frame: 6 × 2</caption>\n",
       "<thead>\n",
       "\t<tr><th></th><th scope=col>Region</th><th scope=col>PercentOfIntl</th></tr>\n",
       "\t<tr><th></th><th scope=col>&lt;fct&gt;</th><th scope=col>&lt;dbl&gt;</th></tr>\n",
       "</thead>\n",
       "<tbody>\n",
       "\t<tr><th scope=row>1</th><td>Asia                 </td><td>0.531</td></tr>\n",
       "\t<tr><th scope=row>2</th><td>Europe               </td><td>0.201</td></tr>\n",
       "\t<tr><th scope=row>3</th><td>North America        </td><td>0.098</td></tr>\n",
       "\t<tr><th scope=row>4</th><td>Latin Am. &amp; Caribbean</td><td>0.090</td></tr>\n",
       "\t<tr><th scope=row>5</th><td>Middle East          </td><td>0.054</td></tr>\n",
       "\t<tr><th scope=row>6</th><td>Africa               </td><td>0.020</td></tr>\n",
       "</tbody>\n",
       "</table>\n"
      ],
      "text/latex": [
       "A data.frame: 6 × 2\n",
       "\\begin{tabular}{r|ll}\n",
       "  & Region & PercentOfIntl\\\\\n",
       "  & <fct> & <dbl>\\\\\n",
       "\\hline\n",
       "\t1 & Asia                  & 0.531\\\\\n",
       "\t2 & Europe                & 0.201\\\\\n",
       "\t3 & North America         & 0.098\\\\\n",
       "\t4 & Latin Am. \\& Caribbean & 0.090\\\\\n",
       "\t5 & Middle East           & 0.054\\\\\n",
       "\t6 & Africa                & 0.020\\\\\n",
       "\\end{tabular}\n"
      ],
      "text/markdown": [
       "\n",
       "A data.frame: 6 × 2\n",
       "\n",
       "| <!--/--> | Region &lt;fct&gt; | PercentOfIntl &lt;dbl&gt; |\n",
       "|---|---|---|\n",
       "| 1 | Asia                  | 0.531 |\n",
       "| 2 | Europe                | 0.201 |\n",
       "| 3 | North America         | 0.098 |\n",
       "| 4 | Latin Am. &amp; Caribbean | 0.090 |\n",
       "| 5 | Middle East           | 0.054 |\n",
       "| 6 | Africa                | 0.020 |\n",
       "\n"
      ],
      "text/plain": [
       "  Region                PercentOfIntl\n",
       "1 Asia                  0.531        \n",
       "2 Europe                0.201        \n",
       "3 North America         0.098        \n",
       "4 Latin Am. & Caribbean 0.090        \n",
       "5 Middle East           0.054        \n",
       "6 Africa                0.020        "
      ]
     },
     "metadata": {},
     "output_type": "display_data"
    }
   ],
   "source": [
    "# Load our data, which lives in intl.csv\n",
    "\n",
    "intl = read.csv(\"data/intl.csv\")\n",
    "\n",
    "head(intl)"
   ]
  },
  {
   "cell_type": "code",
   "execution_count": 3,
   "metadata": {},
   "outputs": [
    {
     "name": "stdout",
     "output_type": "stream",
     "text": [
      "'data.frame':\t8 obs. of  2 variables:\n",
      " $ Region       : Factor w/ 8 levels \"Africa\",\"Asia\",..: 2 3 6 4 5 1 7 8\n",
      " $ PercentOfIntl: num  0.531 0.201 0.098 0.09 0.054 0.02 0.015 0.002\n"
     ]
    }
   ],
   "source": [
    "str(intl)"
   ]
  },
  {
   "cell_type": "markdown",
   "metadata": {},
   "source": [
    "## Bar Plot"
   ]
  },
  {
   "cell_type": "code",
   "execution_count": 4,
   "metadata": {},
   "outputs": [
    {
     "data": {
      "image/png": "[encoded data removed]",
      "text/plain": [
       "plot without title"
      ]
     },
     "metadata": {
      "image/png": {
       "height": 420,
       "width": 420
      },
      "text/plain": {
       "height": 420,
       "width": 420
      }
     },
     "output_type": "display_data"
    }
   ],
   "source": [
    "# We want to make a bar plot with region on the X axis and Percentage on the y-axis.\n",
    "\n",
    "ggplot(intl, aes(x=Region, y=PercentOfIntl)) + geom_bar(stat=\"identity\") + geom_text(aes(label=PercentOfIntl))"
   ]
  },
  {
   "cell_type": "markdown",
   "metadata": {},
   "source": [
    "So we're going to transform the international (**intl**) data frame. And what we're going to do is say, **Region**, it's going to be a reordering of itself, based on decreasing order of **PercentOfIntl**:"
   ]
  },
  {
   "cell_type": "code",
   "execution_count": 5,
   "metadata": {},
   "outputs": [],
   "source": [
    "# Make Region an ordered factor. We can do this with the re-order command and transform command. \n",
    "\n",
    "intl = transform(intl, Region = reorder(Region, -PercentOfIntl))\n",
    "\n",
    "# The negative sign in \"-PercentOfIntl\" means decreasing order."
   ]
  },
  {
   "cell_type": "code",
   "execution_count": 6,
   "metadata": {},
   "outputs": [
    {
     "name": "stdout",
     "output_type": "stream",
     "text": [
      "'data.frame':\t8 obs. of  2 variables:\n",
      " $ Region       : Factor w/ 8 levels \"Asia\",\"Europe\",..: 1 2 3 4 5 6 7 8\n",
      "  ..- attr(*, \"scores\")= num [1:8(1d)] -0.02 -0.531 -0.201 -0.09 -0.054 -0.098 -0.015 -0.002\n",
      "  .. ..- attr(*, \"dimnames\")=List of 1\n",
      "  .. .. ..$ : chr  \"Africa\" \"Asia\" \"Europe\" \"Latin Am. & Caribbean\" ...\n",
      " $ PercentOfIntl: num  0.531 0.201 0.098 0.09 0.054 0.02 0.015 0.002\n"
     ]
    }
   ],
   "source": [
    "# Look at the structure\n",
    "str(intl)"
   ]
  },
  {
   "cell_type": "code",
   "execution_count": 7,
   "metadata": {},
   "outputs": [],
   "source": [
    "# Make the percentages out of 100 instead of fractions\n",
    "\n",
    "intl$PercentOfIntl = intl$PercentOfIntl * 100"
   ]
  },
  {
   "cell_type": "code",
   "execution_count": 8,
   "metadata": {},
   "outputs": [
    {
     "data": {
      "image/png": "[encoded data removed]",
      "text/plain": [
       "plot without title"
      ]
     },
     "metadata": {
      "image/png": {
       "height": 420,
       "width": 420
      },
      "text/plain": {
       "height": 420,
       "width": 420
      }
     },
     "output_type": "display_data"
    }
   ],
   "source": [
    "# Make the plot\n",
    "ggplot(intl, aes(x=Region, y=PercentOfIntl)) + \n",
    "                    geom_bar(stat=\"identity\", fill=\"dark blue\") + \n",
    "                    geom_text(aes(label=PercentOfIntl), vjust=-0.4) + # a negative value will move it up.\n",
    "                    ylab(\"Percent of International Students\") +\n",
    "                    theme(axis.title.x = element_blank(), axis.text.x = element_text(angle = 45, hjust = 1))"
   ]
  },
  {
   "cell_type": "code",
   "execution_count": 9,
   "metadata": {},
   "outputs": [],
   "source": [
    "# First, lets make sure we have ggplot2 loaded\n",
    "library(ggplot2)"
   ]
  },
  {
   "cell_type": "code",
   "execution_count": 10,
   "metadata": {},
   "outputs": [
    {
     "data": {
      "text/html": [
       "<table>\n",
       "<caption>A data.frame: 8 × 7</caption>\n",
       "<thead>\n",
       "\t<tr><th scope=col>Year</th><th scope=col>MarriedWChild</th><th scope=col>MarriedWOChild</th><th scope=col>OtherFamily</th><th scope=col>MenAlone</th><th scope=col>WomenAlone</th><th scope=col>OtherNonfamily</th></tr>\n",
       "\t<tr><th scope=col>&lt;int&gt;</th><th scope=col>&lt;dbl&gt;</th><th scope=col>&lt;dbl&gt;</th><th scope=col>&lt;dbl&gt;</th><th scope=col>&lt;dbl&gt;</th><th scope=col>&lt;dbl&gt;</th><th scope=col>&lt;dbl&gt;</th></tr>\n",
       "</thead>\n",
       "<tbody>\n",
       "\t<tr><td>1970</td><td>40.3</td><td>30.3</td><td>10.6</td><td> 5.6</td><td>11.5</td><td>1.7</td></tr>\n",
       "\t<tr><td>1980</td><td>30.9</td><td>29.9</td><td>12.9</td><td> 8.6</td><td>14.0</td><td>3.6</td></tr>\n",
       "\t<tr><td>1990</td><td>26.3</td><td>29.8</td><td>14.8</td><td> 9.7</td><td>14.9</td><td>4.6</td></tr>\n",
       "\t<tr><td>1995</td><td>25.5</td><td>28.9</td><td>15.6</td><td>10.2</td><td>14.7</td><td>5.0</td></tr>\n",
       "\t<tr><td>2000</td><td>24.1</td><td>28.7</td><td>16.0</td><td>10.7</td><td>14.8</td><td>5.7</td></tr>\n",
       "\t<tr><td>2005</td><td>22.9</td><td>28.3</td><td>16.7</td><td>11.3</td><td>15.3</td><td>5.6</td></tr>\n",
       "\t<tr><td>2010</td><td>20.9</td><td>28.8</td><td>17.4</td><td>11.9</td><td>14.8</td><td>6.2</td></tr>\n",
       "\t<tr><td>2012</td><td>19.6</td><td>29.1</td><td>17.8</td><td>12.3</td><td>15.2</td><td>6.1</td></tr>\n",
       "</tbody>\n",
       "</table>\n"
      ],
      "text/latex": [
       "A data.frame: 8 × 7\n",
       "\\begin{tabular}{lllllll}\n",
       " Year & MarriedWChild & MarriedWOChild & OtherFamily & MenAlone & WomenAlone & OtherNonfamily\\\\\n",
       " <int> & <dbl> & <dbl> & <dbl> & <dbl> & <dbl> & <dbl>\\\\\n",
       "\\hline\n",
       "\t 1970 & 40.3 & 30.3 & 10.6 &  5.6 & 11.5 & 1.7\\\\\n",
       "\t 1980 & 30.9 & 29.9 & 12.9 &  8.6 & 14.0 & 3.6\\\\\n",
       "\t 1990 & 26.3 & 29.8 & 14.8 &  9.7 & 14.9 & 4.6\\\\\n",
       "\t 1995 & 25.5 & 28.9 & 15.6 & 10.2 & 14.7 & 5.0\\\\\n",
       "\t 2000 & 24.1 & 28.7 & 16.0 & 10.7 & 14.8 & 5.7\\\\\n",
       "\t 2005 & 22.9 & 28.3 & 16.7 & 11.3 & 15.3 & 5.6\\\\\n",
       "\t 2010 & 20.9 & 28.8 & 17.4 & 11.9 & 14.8 & 6.2\\\\\n",
       "\t 2012 & 19.6 & 29.1 & 17.8 & 12.3 & 15.2 & 6.1\\\\\n",
       "\\end{tabular}\n"
      ],
      "text/markdown": [
       "\n",
       "A data.frame: 8 × 7\n",
       "\n",
       "| Year &lt;int&gt; | MarriedWChild &lt;dbl&gt; | MarriedWOChild &lt;dbl&gt; | OtherFamily &lt;dbl&gt; | MenAlone &lt;dbl&gt; | WomenAlone &lt;dbl&gt; | OtherNonfamily &lt;dbl&gt; |\n",
       "|---|---|---|---|---|---|---|\n",
       "| 1970 | 40.3 | 30.3 | 10.6 |  5.6 | 11.5 | 1.7 |\n",
       "| 1980 | 30.9 | 29.9 | 12.9 |  8.6 | 14.0 | 3.6 |\n",
       "| 1990 | 26.3 | 29.8 | 14.8 |  9.7 | 14.9 | 4.6 |\n",
       "| 1995 | 25.5 | 28.9 | 15.6 | 10.2 | 14.7 | 5.0 |\n",
       "| 2000 | 24.1 | 28.7 | 16.0 | 10.7 | 14.8 | 5.7 |\n",
       "| 2005 | 22.9 | 28.3 | 16.7 | 11.3 | 15.3 | 5.6 |\n",
       "| 2010 | 20.9 | 28.8 | 17.4 | 11.9 | 14.8 | 6.2 |\n",
       "| 2012 | 19.6 | 29.1 | 17.8 | 12.3 | 15.2 | 6.1 |\n",
       "\n"
      ],
      "text/plain": [
       "  Year MarriedWChild MarriedWOChild OtherFamily MenAlone WomenAlone\n",
       "1 1970 40.3          30.3           10.6         5.6     11.5      \n",
       "2 1980 30.9          29.9           12.9         8.6     14.0      \n",
       "3 1990 26.3          29.8           14.8         9.7     14.9      \n",
       "4 1995 25.5          28.9           15.6        10.2     14.7      \n",
       "5 2000 24.1          28.7           16.0        10.7     14.8      \n",
       "6 2005 22.9          28.3           16.7        11.3     15.3      \n",
       "7 2010 20.9          28.8           17.4        11.9     14.8      \n",
       "8 2012 19.6          29.1           17.8        12.3     15.2      \n",
       "  OtherNonfamily\n",
       "1 1.7           \n",
       "2 3.6           \n",
       "3 4.6           \n",
       "4 5.0           \n",
       "5 5.7           \n",
       "6 5.6           \n",
       "7 6.2           \n",
       "8 6.1           "
      ]
     },
     "metadata": {},
     "output_type": "display_data"
    }
   ],
   "source": [
    "# Now lets load our dataframe\n",
    "\n",
    "households = read.csv(\"data/households.csv\")\n",
    "\n",
    "households"
   ]
  },
  {
   "cell_type": "code",
   "execution_count": 11,
   "metadata": {},
   "outputs": [
    {
     "name": "stdout",
     "output_type": "stream",
     "text": [
      "'data.frame':\t8 obs. of  7 variables:\n",
      " $ Year          : int  1970 1980 1990 1995 2000 2005 2010 2012\n",
      " $ MarriedWChild : num  40.3 30.9 26.3 25.5 24.1 22.9 20.9 19.6\n",
      " $ MarriedWOChild: num  30.3 29.9 29.8 28.9 28.7 28.3 28.8 29.1\n",
      " $ OtherFamily   : num  10.6 12.9 14.8 15.6 16 16.7 17.4 17.8\n",
      " $ MenAlone      : num  5.6 8.6 9.7 10.2 10.7 11.3 11.9 12.3\n",
      " $ WomenAlone    : num  11.5 14 14.9 14.7 14.8 15.3 14.8 15.2\n",
      " $ OtherNonfamily: num  1.7 3.6 4.6 5 5.7 5.6 6.2 6.1\n"
     ]
    }
   ],
   "source": [
    "str(households)"
   ]
  },
  {
   "cell_type": "code",
   "execution_count": 12,
   "metadata": {},
   "outputs": [],
   "source": [
    "# Load reshape2\n",
    "library(reshape2)"
   ]
  },
  {
   "cell_type": "code",
   "execution_count": 13,
   "metadata": {},
   "outputs": [
    {
     "data": {
      "text/html": [
       "<table>\n",
       "<caption>A data.frame: 8 × 2</caption>\n",
       "<thead>\n",
       "\t<tr><th scope=col>Year</th><th scope=col>MarriedWChild</th></tr>\n",
       "\t<tr><th scope=col>&lt;int&gt;</th><th scope=col>&lt;dbl&gt;</th></tr>\n",
       "</thead>\n",
       "<tbody>\n",
       "\t<tr><td>1970</td><td>40.3</td></tr>\n",
       "\t<tr><td>1980</td><td>30.9</td></tr>\n",
       "\t<tr><td>1990</td><td>26.3</td></tr>\n",
       "\t<tr><td>1995</td><td>25.5</td></tr>\n",
       "\t<tr><td>2000</td><td>24.1</td></tr>\n",
       "\t<tr><td>2005</td><td>22.9</td></tr>\n",
       "\t<tr><td>2010</td><td>20.9</td></tr>\n",
       "\t<tr><td>2012</td><td>19.6</td></tr>\n",
       "</tbody>\n",
       "</table>\n"
      ],
      "text/latex": [
       "A data.frame: 8 × 2\n",
       "\\begin{tabular}{ll}\n",
       " Year & MarriedWChild\\\\\n",
       " <int> & <dbl>\\\\\n",
       "\\hline\n",
       "\t 1970 & 40.3\\\\\n",
       "\t 1980 & 30.9\\\\\n",
       "\t 1990 & 26.3\\\\\n",
       "\t 1995 & 25.5\\\\\n",
       "\t 2000 & 24.1\\\\\n",
       "\t 2005 & 22.9\\\\\n",
       "\t 2010 & 20.9\\\\\n",
       "\t 2012 & 19.6\\\\\n",
       "\\end{tabular}\n"
      ],
      "text/markdown": [
       "\n",
       "A data.frame: 8 × 2\n",
       "\n",
       "| Year &lt;int&gt; | MarriedWChild &lt;dbl&gt; |\n",
       "|---|---|\n",
       "| 1970 | 40.3 |\n",
       "| 1980 | 30.9 |\n",
       "| 1990 | 26.3 |\n",
       "| 1995 | 25.5 |\n",
       "| 2000 | 24.1 |\n",
       "| 2005 | 22.9 |\n",
       "| 2010 | 20.9 |\n",
       "| 2012 | 19.6 |\n",
       "\n"
      ],
      "text/plain": [
       "  Year MarriedWChild\n",
       "1 1970 40.3         \n",
       "2 1980 30.9         \n",
       "3 1990 26.3         \n",
       "4 1995 25.5         \n",
       "5 2000 24.1         \n",
       "6 2005 22.9         \n",
       "7 2010 20.9         \n",
       "8 2012 19.6         "
      ]
     },
     "metadata": {},
     "output_type": "display_data"
    }
   ],
   "source": [
    "# Lets look at all rows and the first two columns \n",
    "households[,1:2]"
   ]
  },
  {
   "cell_type": "code",
   "execution_count": 14,
   "metadata": {},
   "outputs": [
    {
     "data": {
      "text/html": [
       "<table>\n",
       "<caption>A data.frame: 10 × 3</caption>\n",
       "<thead>\n",
       "\t<tr><th></th><th scope=col>Year</th><th scope=col>variable</th><th scope=col>value</th></tr>\n",
       "\t<tr><th></th><th scope=col>&lt;int&gt;</th><th scope=col>&lt;fct&gt;</th><th scope=col>&lt;dbl&gt;</th></tr>\n",
       "</thead>\n",
       "<tbody>\n",
       "\t<tr><th scope=row>1</th><td>1970</td><td>MarriedWChild </td><td>40.3</td></tr>\n",
       "\t<tr><th scope=row>2</th><td>1980</td><td>MarriedWChild </td><td>30.9</td></tr>\n",
       "\t<tr><th scope=row>3</th><td>1990</td><td>MarriedWChild </td><td>26.3</td></tr>\n",
       "\t<tr><th scope=row>4</th><td>1995</td><td>MarriedWChild </td><td>25.5</td></tr>\n",
       "\t<tr><th scope=row>5</th><td>2000</td><td>MarriedWChild </td><td>24.1</td></tr>\n",
       "\t<tr><th scope=row>6</th><td>2005</td><td>MarriedWChild </td><td>22.9</td></tr>\n",
       "\t<tr><th scope=row>7</th><td>2010</td><td>MarriedWChild </td><td>20.9</td></tr>\n",
       "\t<tr><th scope=row>8</th><td>2012</td><td>MarriedWChild </td><td>19.6</td></tr>\n",
       "\t<tr><th scope=row>9</th><td>1970</td><td>MarriedWOChild</td><td>30.3</td></tr>\n",
       "\t<tr><th scope=row>10</th><td>1980</td><td>MarriedWOChild</td><td>29.9</td></tr>\n",
       "</tbody>\n",
       "</table>\n"
      ],
      "text/latex": [
       "A data.frame: 10 × 3\n",
       "\\begin{tabular}{r|lll}\n",
       "  & Year & variable & value\\\\\n",
       "  & <int> & <fct> & <dbl>\\\\\n",
       "\\hline\n",
       "\t1 & 1970 & MarriedWChild  & 40.3\\\\\n",
       "\t2 & 1980 & MarriedWChild  & 30.9\\\\\n",
       "\t3 & 1990 & MarriedWChild  & 26.3\\\\\n",
       "\t4 & 1995 & MarriedWChild  & 25.5\\\\\n",
       "\t5 & 2000 & MarriedWChild  & 24.1\\\\\n",
       "\t6 & 2005 & MarriedWChild  & 22.9\\\\\n",
       "\t7 & 2010 & MarriedWChild  & 20.9\\\\\n",
       "\t8 & 2012 & MarriedWChild  & 19.6\\\\\n",
       "\t9 & 1970 & MarriedWOChild & 30.3\\\\\n",
       "\t10 & 1980 & MarriedWOChild & 29.9\\\\\n",
       "\\end{tabular}\n"
      ],
      "text/markdown": [
       "\n",
       "A data.frame: 10 × 3\n",
       "\n",
       "| <!--/--> | Year &lt;int&gt; | variable &lt;fct&gt; | value &lt;dbl&gt; |\n",
       "|---|---|---|---|\n",
       "| 1 | 1970 | MarriedWChild  | 40.3 |\n",
       "| 2 | 1980 | MarriedWChild  | 30.9 |\n",
       "| 3 | 1990 | MarriedWChild  | 26.3 |\n",
       "| 4 | 1995 | MarriedWChild  | 25.5 |\n",
       "| 5 | 2000 | MarriedWChild  | 24.1 |\n",
       "| 6 | 2005 | MarriedWChild  | 22.9 |\n",
       "| 7 | 2010 | MarriedWChild  | 20.9 |\n",
       "| 8 | 2012 | MarriedWChild  | 19.6 |\n",
       "| 9 | 1970 | MarriedWOChild | 30.3 |\n",
       "| 10 | 1980 | MarriedWOChild | 29.9 |\n",
       "\n"
      ],
      "text/plain": [
       "   Year variable       value\n",
       "1  1970 MarriedWChild  40.3 \n",
       "2  1980 MarriedWChild  30.9 \n",
       "3  1990 MarriedWChild  26.3 \n",
       "4  1995 MarriedWChild  25.5 \n",
       "5  2000 MarriedWChild  24.1 \n",
       "6  2005 MarriedWChild  22.9 \n",
       "7  2010 MarriedWChild  20.9 \n",
       "8  2012 MarriedWChild  19.6 \n",
       "9  1970 MarriedWOChild 30.3 \n",
       "10 1980 MarriedWOChild 29.9 "
      ]
     },
     "metadata": {},
     "output_type": "display_data"
    }
   ],
   "source": [
    "# First few rows of our melted households dataframe\n",
    "head(melt(households, id=\"Year\"),10)"
   ]
  },
  {
   "cell_type": "code",
   "execution_count": 15,
   "metadata": {},
   "outputs": [
    {
     "data": {
      "text/html": [
       "<table>\n",
       "<caption>A data.frame: 8 × 3</caption>\n",
       "<thead>\n",
       "\t<tr><th scope=col>Year</th><th scope=col>MarriedWChild</th><th scope=col>MarriedWOChild</th></tr>\n",
       "\t<tr><th scope=col>&lt;int&gt;</th><th scope=col>&lt;dbl&gt;</th><th scope=col>&lt;dbl&gt;</th></tr>\n",
       "</thead>\n",
       "<tbody>\n",
       "\t<tr><td>1970</td><td>40.3</td><td>30.3</td></tr>\n",
       "\t<tr><td>1980</td><td>30.9</td><td>29.9</td></tr>\n",
       "\t<tr><td>1990</td><td>26.3</td><td>29.8</td></tr>\n",
       "\t<tr><td>1995</td><td>25.5</td><td>28.9</td></tr>\n",
       "\t<tr><td>2000</td><td>24.1</td><td>28.7</td></tr>\n",
       "\t<tr><td>2005</td><td>22.9</td><td>28.3</td></tr>\n",
       "\t<tr><td>2010</td><td>20.9</td><td>28.8</td></tr>\n",
       "\t<tr><td>2012</td><td>19.6</td><td>29.1</td></tr>\n",
       "</tbody>\n",
       "</table>\n"
      ],
      "text/latex": [
       "A data.frame: 8 × 3\n",
       "\\begin{tabular}{lll}\n",
       " Year & MarriedWChild & MarriedWOChild\\\\\n",
       " <int> & <dbl> & <dbl>\\\\\n",
       "\\hline\n",
       "\t 1970 & 40.3 & 30.3\\\\\n",
       "\t 1980 & 30.9 & 29.9\\\\\n",
       "\t 1990 & 26.3 & 29.8\\\\\n",
       "\t 1995 & 25.5 & 28.9\\\\\n",
       "\t 2000 & 24.1 & 28.7\\\\\n",
       "\t 2005 & 22.9 & 28.3\\\\\n",
       "\t 2010 & 20.9 & 28.8\\\\\n",
       "\t 2012 & 19.6 & 29.1\\\\\n",
       "\\end{tabular}\n"
      ],
      "text/markdown": [
       "\n",
       "A data.frame: 8 × 3\n",
       "\n",
       "| Year &lt;int&gt; | MarriedWChild &lt;dbl&gt; | MarriedWOChild &lt;dbl&gt; |\n",
       "|---|---|---|\n",
       "| 1970 | 40.3 | 30.3 |\n",
       "| 1980 | 30.9 | 29.9 |\n",
       "| 1990 | 26.3 | 29.8 |\n",
       "| 1995 | 25.5 | 28.9 |\n",
       "| 2000 | 24.1 | 28.7 |\n",
       "| 2005 | 22.9 | 28.3 |\n",
       "| 2010 | 20.9 | 28.8 |\n",
       "| 2012 | 19.6 | 29.1 |\n",
       "\n"
      ],
      "text/plain": [
       "  Year MarriedWChild MarriedWOChild\n",
       "1 1970 40.3          30.3          \n",
       "2 1980 30.9          29.9          \n",
       "3 1990 26.3          29.8          \n",
       "4 1995 25.5          28.9          \n",
       "5 2000 24.1          28.7          \n",
       "6 2005 22.9          28.3          \n",
       "7 2010 20.9          28.8          \n",
       "8 2012 19.6          29.1          "
      ]
     },
     "metadata": {},
     "output_type": "display_data"
    }
   ],
   "source": [
    "households[,1:3]"
   ]
  },
  {
   "cell_type": "code",
   "execution_count": 16,
   "metadata": {},
   "outputs": [
    {
     "data": {
      "text/html": [
       "<style>\n",
       ".list-inline {list-style: none; margin:0; padding: 0}\n",
       ".list-inline>li {display: inline-block}\n",
       ".list-inline>li:not(:last-child)::after {content: \"\\00b7\"; padding: 0 .5ex}\n",
       "</style>\n",
       "<ol class=list-inline><li>40.3</li><li>30.9</li><li>26.3</li><li>25.5</li><li>24.1</li><li>22.9</li><li>20.9</li><li>19.6</li><li>30.3</li><li>29.9</li></ol>\n"
      ],
      "text/latex": [
       "\\begin{enumerate*}\n",
       "\\item 40.3\n",
       "\\item 30.9\n",
       "\\item 26.3\n",
       "\\item 25.5\n",
       "\\item 24.1\n",
       "\\item 22.9\n",
       "\\item 20.9\n",
       "\\item 19.6\n",
       "\\item 30.3\n",
       "\\item 29.9\n",
       "\\end{enumerate*}\n"
      ],
      "text/markdown": [
       "1. 40.3\n",
       "2. 30.9\n",
       "3. 26.3\n",
       "4. 25.5\n",
       "5. 24.1\n",
       "6. 22.9\n",
       "7. 20.9\n",
       "8. 19.6\n",
       "9. 30.3\n",
       "10. 29.9\n",
       "\n",
       "\n"
      ],
      "text/plain": [
       " [1] 40.3 30.9 26.3 25.5 24.1 22.9 20.9 19.6 30.3 29.9"
      ]
     },
     "metadata": {},
     "output_type": "display_data"
    }
   ],
   "source": [
    "melt(households, id=\"Year\")[1:10,3]"
   ]
  },
  {
   "cell_type": "code",
   "execution_count": 17,
   "metadata": {},
   "outputs": [
    {
     "data": {
      "text/html": [
       "<table>\n",
       "<caption>A data.frame: 10 × 3</caption>\n",
       "<thead>\n",
       "\t<tr><th></th><th scope=col>Year</th><th scope=col>variable</th><th scope=col>value</th></tr>\n",
       "\t<tr><th></th><th scope=col>&lt;int&gt;</th><th scope=col>&lt;fct&gt;</th><th scope=col>&lt;dbl&gt;</th></tr>\n",
       "</thead>\n",
       "<tbody>\n",
       "\t<tr><th scope=row>1</th><td>1970</td><td>MarriedWChild </td><td>40.3</td></tr>\n",
       "\t<tr><th scope=row>2</th><td>1980</td><td>MarriedWChild </td><td>30.9</td></tr>\n",
       "\t<tr><th scope=row>3</th><td>1990</td><td>MarriedWChild </td><td>26.3</td></tr>\n",
       "\t<tr><th scope=row>4</th><td>1995</td><td>MarriedWChild </td><td>25.5</td></tr>\n",
       "\t<tr><th scope=row>5</th><td>2000</td><td>MarriedWChild </td><td>24.1</td></tr>\n",
       "\t<tr><th scope=row>6</th><td>2005</td><td>MarriedWChild </td><td>22.9</td></tr>\n",
       "\t<tr><th scope=row>7</th><td>2010</td><td>MarriedWChild </td><td>20.9</td></tr>\n",
       "\t<tr><th scope=row>8</th><td>2012</td><td>MarriedWChild </td><td>19.6</td></tr>\n",
       "\t<tr><th scope=row>9</th><td>1970</td><td>MarriedWOChild</td><td>30.3</td></tr>\n",
       "\t<tr><th scope=row>10</th><td>1980</td><td>MarriedWOChild</td><td>29.9</td></tr>\n",
       "</tbody>\n",
       "</table>\n"
      ],
      "text/latex": [
       "A data.frame: 10 × 3\n",
       "\\begin{tabular}{r|lll}\n",
       "  & Year & variable & value\\\\\n",
       "  & <int> & <fct> & <dbl>\\\\\n",
       "\\hline\n",
       "\t1 & 1970 & MarriedWChild  & 40.3\\\\\n",
       "\t2 & 1980 & MarriedWChild  & 30.9\\\\\n",
       "\t3 & 1990 & MarriedWChild  & 26.3\\\\\n",
       "\t4 & 1995 & MarriedWChild  & 25.5\\\\\n",
       "\t5 & 2000 & MarriedWChild  & 24.1\\\\\n",
       "\t6 & 2005 & MarriedWChild  & 22.9\\\\\n",
       "\t7 & 2010 & MarriedWChild  & 20.9\\\\\n",
       "\t8 & 2012 & MarriedWChild  & 19.6\\\\\n",
       "\t9 & 1970 & MarriedWOChild & 30.3\\\\\n",
       "\t10 & 1980 & MarriedWOChild & 29.9\\\\\n",
       "\\end{tabular}\n"
      ],
      "text/markdown": [
       "\n",
       "A data.frame: 10 × 3\n",
       "\n",
       "| <!--/--> | Year &lt;int&gt; | variable &lt;fct&gt; | value &lt;dbl&gt; |\n",
       "|---|---|---|---|\n",
       "| 1 | 1970 | MarriedWChild  | 40.3 |\n",
       "| 2 | 1980 | MarriedWChild  | 30.9 |\n",
       "| 3 | 1990 | MarriedWChild  | 26.3 |\n",
       "| 4 | 1995 | MarriedWChild  | 25.5 |\n",
       "| 5 | 2000 | MarriedWChild  | 24.1 |\n",
       "| 6 | 2005 | MarriedWChild  | 22.9 |\n",
       "| 7 | 2010 | MarriedWChild  | 20.9 |\n",
       "| 8 | 2012 | MarriedWChild  | 19.6 |\n",
       "| 9 | 1970 | MarriedWOChild | 30.3 |\n",
       "| 10 | 1980 | MarriedWOChild | 29.9 |\n",
       "\n"
      ],
      "text/plain": [
       "   Year variable       value\n",
       "1  1970 MarriedWChild  40.3 \n",
       "2  1980 MarriedWChild  30.9 \n",
       "3  1990 MarriedWChild  26.3 \n",
       "4  1995 MarriedWChild  25.5 \n",
       "5  2000 MarriedWChild  24.1 \n",
       "6  2005 MarriedWChild  22.9 \n",
       "7  2010 MarriedWChild  20.9 \n",
       "8  2012 MarriedWChild  19.6 \n",
       "9  1970 MarriedWOChild 30.3 \n",
       "10 1980 MarriedWOChild 29.9 "
      ]
     },
     "metadata": {},
     "output_type": "display_data"
    }
   ],
   "source": [
    "melt(households, id=\"Year\")[1:10,]"
   ]
  },
  {
   "cell_type": "markdown",
   "metadata": {},
   "source": [
    "## Line Charts"
   ]
  },
  {
   "cell_type": "code",
   "execution_count": 18,
   "metadata": {},
   "outputs": [
    {
     "data": {
      "image/png": "[encoded data removed]",
      "text/plain": [
       "plot without title"
      ]
     },
     "metadata": {
      "image/png": {
       "height": 420,
       "width": 420
      },
      "text/plain": {
       "height": 420,
       "width": 420
      }
     },
     "output_type": "display_data"
    }
   ],
   "source": [
    "# Plot it\n",
    "ggplot(melt(households, id=\"Year\"), aes(x=Year, y=value, color=variable)) + geom_line(size=2) + \n",
    "                                                                            geom_point(size=5) +  \n",
    "                                                                            ylab(\"Percentage of Households\")"
   ]
  }
 ],
 "metadata": {
  "kernelspec": {
   "display_name": "R",
   "language": "R",
   "name": "ir"
  },
  "language_info": {
   "codemirror_mode": "r",
   "file_extension": ".r",
   "mimetype": "text/x-r-source",
   "name": "R",
   "pygments_lexer": "r",
   "version": "3.6.3"
  }
 },
 "nbformat": 4,
 "nbformat_minor": 4
}
