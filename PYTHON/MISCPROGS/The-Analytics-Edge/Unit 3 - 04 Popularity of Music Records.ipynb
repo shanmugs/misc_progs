{
 "cells": [
  {
   "cell_type": "markdown",
   "metadata": {},
   "source": [
    "# Popularity of Music Records"
   ]
  },
  {
   "cell_type": "markdown",
   "metadata": {},
   "source": [
    "<img src=\"images/music.jpg\"/>"
   ]
  },
  {
   "cell_type": "markdown",
   "metadata": {},
   "source": [
    "The music industry has a well-developed market with a global annual revenue around $15 billion. The recording industry is highly competitive and is dominated by three big production companies which make up nearly 82% of the total annual album sales.\n",
    "\n",
    "Artists are at the core of the music industry and record labels provide them with the necessary resources to sell their music on a large scale. A record label incurs numerous costs (studio recording, marketing, distribution, and touring) in exchange for a percentage of the profits from album sales, singles and concert tickets.\n",
    "\n",
    "Unfortunately, the success of an artist's release is highly uncertain: a single may be extremely popular, resulting in widespread radio play and digital downloads, while another single may turn out quite unpopular, and therefore unprofitable.\n",
    "\n",
    "Knowing the competitive nature of the recording industry, record labels face the fundamental decision problem of which musical releases to support to maximize their financial success.\n",
    "\n",
    "How can we use analytics to predict the popularity of a song? In this assignment, we challenge ourselves to predict whether a song will reach a spot in the Top 10 of the Billboard Hot 100 Chart."
   ]
  },
  {
   "cell_type": "markdown",
   "metadata": {},
   "source": [
    "Taking an analytics approach, we aim to use information about a song's properties to predict its popularity. The dataset songs.csv consists of all songs which made it to the Top 10 of the Billboard Hot 100 Chart from 1990-2010 plus a sample of additional songs that didn't make the Top 10. This data comes from three sources: Wikipedia, Billboard.com, and EchoNest.\n",
    "\n",
    "The variables included in the dataset either describe the artist or the song, or they are associated with the following song attributes: time signature, loudness, key, pitch, tempo, and timbre.\n",
    "\n",
    "Here's a detailed description of the variables:\n",
    "\n",
    "    year = the year the song was released\n",
    "\n",
    "    songtitle = the title of the song\n",
    "\n",
    "    artistname = the name of the artist of the song\n",
    "\n",
    "    songID and artistID = identifying variables for the song and artist\n",
    "\n",
    "    timesignature and timesignature_confidence = a variable estimating the time signature of the song, and the confidence in the estimate\n",
    "\n",
    "    loudness = a continuous variable indicating the average amplitude of the audio in decibels\n",
    "\n",
    "    tempo and tempo_confidence = a variable indicating the estimated beats per minute of the song, and the confidence in the estimate\n",
    "\n",
    "    key and key_confidence = a variable with twelve levels indicating the estimated key of the song (C, C#, . . ., B), and the confidence in the estimate\n",
    "\n",
    "    energy = a variable that represents the overall acoustic energy of the song, using a mix of features such as loudness\n",
    "\n",
    "    pitch = a continuous variable that indicates the pitch of the song\n",
    "\n",
    "    timbre_0_min, timbre_0_max, timbre_1_min, timbre_1_max, . . . , timbre_11_min, and timbre_11_max = variables that indicate the minimum/maximum values over all segments for each of the twelve values in the timbre vector (resulting in 24 continuous variables)\n",
    "\n",
    "    Top10 = a binary variable indicating whether or not the song made it to the Top 10 of the Billboard Hot 100 Chart (1 if it was in the top 10, and 0 if it was not)"
   ]
  },
  {
   "cell_type": "markdown",
   "metadata": {},
   "source": [
    "### Problem 1.1 - Understanding the Data\n",
    "\n",
    "Use the read.csv function to load the dataset \"songs.csv\" into R."
   ]
  },
  {
   "cell_type": "code",
   "execution_count": 1,
   "metadata": {},
   "outputs": [
    {
     "data": {
      "text/html": [
       "<table>\n",
       "<caption>A data.frame: 6 × 39</caption>\n",
       "<thead>\n",
       "\t<tr><th></th><th scope=col>year</th><th scope=col>songtitle</th><th scope=col>artistname</th><th scope=col>songID</th><th scope=col>artistID</th><th scope=col>timesignature</th><th scope=col>timesignature_confidence</th><th scope=col>loudness</th><th scope=col>tempo</th><th scope=col>tempo_confidence</th><th scope=col>⋯</th><th scope=col>timbre_7_max</th><th scope=col>timbre_8_min</th><th scope=col>timbre_8_max</th><th scope=col>timbre_9_min</th><th scope=col>timbre_9_max</th><th scope=col>timbre_10_min</th><th scope=col>timbre_10_max</th><th scope=col>timbre_11_min</th><th scope=col>timbre_11_max</th><th scope=col>Top10</th></tr>\n",
       "\t<tr><th></th><th scope=col>&lt;int&gt;</th><th scope=col>&lt;fct&gt;</th><th scope=col>&lt;fct&gt;</th><th scope=col>&lt;fct&gt;</th><th scope=col>&lt;fct&gt;</th><th scope=col>&lt;int&gt;</th><th scope=col>&lt;dbl&gt;</th><th scope=col>&lt;dbl&gt;</th><th scope=col>&lt;dbl&gt;</th><th scope=col>&lt;dbl&gt;</th><th scope=col>⋯</th><th scope=col>&lt;dbl&gt;</th><th scope=col>&lt;dbl&gt;</th><th scope=col>&lt;dbl&gt;</th><th scope=col>&lt;dbl&gt;</th><th scope=col>&lt;dbl&gt;</th><th scope=col>&lt;dbl&gt;</th><th scope=col>&lt;dbl&gt;</th><th scope=col>&lt;dbl&gt;</th><th scope=col>&lt;dbl&gt;</th><th scope=col>&lt;int&gt;</th></tr>\n",
       "</thead>\n",
       "<tbody>\n",
       "\t<tr><th scope=row>1</th><td>2010</td><td>This Is the House That Doubt Built</td><td>A Day to Remember</td><td>SOBGGAB12C5664F054</td><td>AROBSHL1187B9AFB01</td><td>3</td><td>0.853</td><td>-4.262</td><td> 91.525</td><td>0.953</td><td>⋯</td><td> 82.475</td><td>-52.025</td><td>39.116</td><td>-35.368</td><td>71.642</td><td>-126.440</td><td> 18.658</td><td>-44.770</td><td>25.989</td><td>0</td></tr>\n",
       "\t<tr><th scope=row>2</th><td>2010</td><td><span style=white-space:pre-wrap>Sticks &amp; Bricks                   </span></td><td>A Day to Remember</td><td>SOPAQHU1315CD47F31</td><td>AROBSHL1187B9AFB01</td><td>4</td><td>1.000</td><td>-4.051</td><td>140.048</td><td>0.921</td><td>⋯</td><td>106.918</td><td>-61.320</td><td>35.378</td><td>-81.928</td><td>74.574</td><td>-103.808</td><td>121.935</td><td>-38.892</td><td>22.513</td><td>0</td></tr>\n",
       "\t<tr><th scope=row>3</th><td>2010</td><td>All I Want                        </td><td>A Day to Remember</td><td>SOOIZOU1376E7C6386</td><td>AROBSHL1187B9AFB01</td><td>4</td><td>1.000</td><td>-3.571</td><td>160.512</td><td>0.489</td><td>⋯</td><td> 80.621</td><td>-59.773</td><td>45.979</td><td>-46.293</td><td>59.904</td><td>-108.313</td><td> 33.300</td><td>-43.733</td><td>25.744</td><td>0</td></tr>\n",
       "\t<tr><th scope=row>4</th><td>2010</td><td>It's Complicated                  </td><td>A Day to Remember</td><td>SODRYWD1315CD49DBE</td><td>AROBSHL1187B9AFB01</td><td>4</td><td>1.000</td><td>-3.815</td><td> 97.525</td><td>0.794</td><td>⋯</td><td> 96.675</td><td>-78.660</td><td>41.088</td><td>-49.194</td><td>95.440</td><td>-102.676</td><td> 46.422</td><td>-59.439</td><td>37.082</td><td>0</td></tr>\n",
       "\t<tr><th scope=row>5</th><td>2010</td><td>2nd Sucks                         </td><td>A Day to Remember</td><td>SOICMQB1315CD46EE3</td><td>AROBSHL1187B9AFB01</td><td>4</td><td>0.788</td><td>-4.707</td><td>140.053</td><td>0.286</td><td>⋯</td><td>110.332</td><td>-56.450</td><td>37.555</td><td>-48.588</td><td>67.570</td><td> -52.796</td><td> 22.888</td><td>-50.414</td><td>32.758</td><td>0</td></tr>\n",
       "\t<tr><th scope=row>6</th><td>2010</td><td>Better Off This Way               </td><td>A Day to Remember</td><td>SOCEYON1315CD4A23E</td><td>AROBSHL1187B9AFB01</td><td>4</td><td>1.000</td><td>-3.807</td><td>160.366</td><td>0.347</td><td>⋯</td><td> 91.117</td><td>-54.378</td><td>53.808</td><td>-33.183</td><td>54.657</td><td> -64.478</td><td> 34.522</td><td>-40.922</td><td>36.453</td><td>0</td></tr>\n",
       "</tbody>\n",
       "</table>\n"
      ],
      "text/latex": [
       "A data.frame: 6 × 39\n",
       "\\begin{tabular}{r|lllllllllllllllllllll}\n",
       "  & year & songtitle & artistname & songID & artistID & timesignature & timesignature\\_confidence & loudness & tempo & tempo\\_confidence & ⋯ & timbre\\_7\\_max & timbre\\_8\\_min & timbre\\_8\\_max & timbre\\_9\\_min & timbre\\_9\\_max & timbre\\_10\\_min & timbre\\_10\\_max & timbre\\_11\\_min & timbre\\_11\\_max & Top10\\\\\n",
       "  & <int> & <fct> & <fct> & <fct> & <fct> & <int> & <dbl> & <dbl> & <dbl> & <dbl> & ⋯ & <dbl> & <dbl> & <dbl> & <dbl> & <dbl> & <dbl> & <dbl> & <dbl> & <dbl> & <int>\\\\\n",
       "\\hline\n",
       "\t1 & 2010 & This Is the House That Doubt Built & A Day to Remember & SOBGGAB12C5664F054 & AROBSHL1187B9AFB01 & 3 & 0.853 & -4.262 &  91.525 & 0.953 & ⋯ &  82.475 & -52.025 & 39.116 & -35.368 & 71.642 & -126.440 &  18.658 & -44.770 & 25.989 & 0\\\\\n",
       "\t2 & 2010 & Sticks \\& Bricks                    & A Day to Remember & SOPAQHU1315CD47F31 & AROBSHL1187B9AFB01 & 4 & 1.000 & -4.051 & 140.048 & 0.921 & ⋯ & 106.918 & -61.320 & 35.378 & -81.928 & 74.574 & -103.808 & 121.935 & -38.892 & 22.513 & 0\\\\\n",
       "\t3 & 2010 & All I Want                         & A Day to Remember & SOOIZOU1376E7C6386 & AROBSHL1187B9AFB01 & 4 & 1.000 & -3.571 & 160.512 & 0.489 & ⋯ &  80.621 & -59.773 & 45.979 & -46.293 & 59.904 & -108.313 &  33.300 & -43.733 & 25.744 & 0\\\\\n",
       "\t4 & 2010 & It's Complicated                   & A Day to Remember & SODRYWD1315CD49DBE & AROBSHL1187B9AFB01 & 4 & 1.000 & -3.815 &  97.525 & 0.794 & ⋯ &  96.675 & -78.660 & 41.088 & -49.194 & 95.440 & -102.676 &  46.422 & -59.439 & 37.082 & 0\\\\\n",
       "\t5 & 2010 & 2nd Sucks                          & A Day to Remember & SOICMQB1315CD46EE3 & AROBSHL1187B9AFB01 & 4 & 0.788 & -4.707 & 140.053 & 0.286 & ⋯ & 110.332 & -56.450 & 37.555 & -48.588 & 67.570 &  -52.796 &  22.888 & -50.414 & 32.758 & 0\\\\\n",
       "\t6 & 2010 & Better Off This Way                & A Day to Remember & SOCEYON1315CD4A23E & AROBSHL1187B9AFB01 & 4 & 1.000 & -3.807 & 160.366 & 0.347 & ⋯ &  91.117 & -54.378 & 53.808 & -33.183 & 54.657 &  -64.478 &  34.522 & -40.922 & 36.453 & 0\\\\\n",
       "\\end{tabular}\n"
      ],
      "text/markdown": [
       "\n",
       "A data.frame: 6 × 39\n",
       "\n",
       "| <!--/--> | year &lt;int&gt; | songtitle &lt;fct&gt; | artistname &lt;fct&gt; | songID &lt;fct&gt; | artistID &lt;fct&gt; | timesignature &lt;int&gt; | timesignature_confidence &lt;dbl&gt; | loudness &lt;dbl&gt; | tempo &lt;dbl&gt; | tempo_confidence &lt;dbl&gt; | ⋯ ⋯ | timbre_7_max &lt;dbl&gt; | timbre_8_min &lt;dbl&gt; | timbre_8_max &lt;dbl&gt; | timbre_9_min &lt;dbl&gt; | timbre_9_max &lt;dbl&gt; | timbre_10_min &lt;dbl&gt; | timbre_10_max &lt;dbl&gt; | timbre_11_min &lt;dbl&gt; | timbre_11_max &lt;dbl&gt; | Top10 &lt;int&gt; |\n",
       "|---|---|---|---|---|---|---|---|---|---|---|---|---|---|---|---|---|---|---|---|---|---|\n",
       "| 1 | 2010 | This Is the House That Doubt Built | A Day to Remember | SOBGGAB12C5664F054 | AROBSHL1187B9AFB01 | 3 | 0.853 | -4.262 |  91.525 | 0.953 | ⋯ |  82.475 | -52.025 | 39.116 | -35.368 | 71.642 | -126.440 |  18.658 | -44.770 | 25.989 | 0 |\n",
       "| 2 | 2010 | Sticks &amp; Bricks                    | A Day to Remember | SOPAQHU1315CD47F31 | AROBSHL1187B9AFB01 | 4 | 1.000 | -4.051 | 140.048 | 0.921 | ⋯ | 106.918 | -61.320 | 35.378 | -81.928 | 74.574 | -103.808 | 121.935 | -38.892 | 22.513 | 0 |\n",
       "| 3 | 2010 | All I Want                         | A Day to Remember | SOOIZOU1376E7C6386 | AROBSHL1187B9AFB01 | 4 | 1.000 | -3.571 | 160.512 | 0.489 | ⋯ |  80.621 | -59.773 | 45.979 | -46.293 | 59.904 | -108.313 |  33.300 | -43.733 | 25.744 | 0 |\n",
       "| 4 | 2010 | It's Complicated                   | A Day to Remember | SODRYWD1315CD49DBE | AROBSHL1187B9AFB01 | 4 | 1.000 | -3.815 |  97.525 | 0.794 | ⋯ |  96.675 | -78.660 | 41.088 | -49.194 | 95.440 | -102.676 |  46.422 | -59.439 | 37.082 | 0 |\n",
       "| 5 | 2010 | 2nd Sucks                          | A Day to Remember | SOICMQB1315CD46EE3 | AROBSHL1187B9AFB01 | 4 | 0.788 | -4.707 | 140.053 | 0.286 | ⋯ | 110.332 | -56.450 | 37.555 | -48.588 | 67.570 |  -52.796 |  22.888 | -50.414 | 32.758 | 0 |\n",
       "| 6 | 2010 | Better Off This Way                | A Day to Remember | SOCEYON1315CD4A23E | AROBSHL1187B9AFB01 | 4 | 1.000 | -3.807 | 160.366 | 0.347 | ⋯ |  91.117 | -54.378 | 53.808 | -33.183 | 54.657 |  -64.478 |  34.522 | -40.922 | 36.453 | 0 |\n",
       "\n"
      ],
      "text/plain": [
       "  year songtitle                          artistname        songID            \n",
       "1 2010 This Is the House That Doubt Built A Day to Remember SOBGGAB12C5664F054\n",
       "2 2010 Sticks & Bricks                    A Day to Remember SOPAQHU1315CD47F31\n",
       "3 2010 All I Want                         A Day to Remember SOOIZOU1376E7C6386\n",
       "4 2010 It's Complicated                   A Day to Remember SODRYWD1315CD49DBE\n",
       "5 2010 2nd Sucks                          A Day to Remember SOICMQB1315CD46EE3\n",
       "6 2010 Better Off This Way                A Day to Remember SOCEYON1315CD4A23E\n",
       "  artistID           timesignature timesignature_confidence loudness tempo  \n",
       "1 AROBSHL1187B9AFB01 3             0.853                    -4.262    91.525\n",
       "2 AROBSHL1187B9AFB01 4             1.000                    -4.051   140.048\n",
       "3 AROBSHL1187B9AFB01 4             1.000                    -3.571   160.512\n",
       "4 AROBSHL1187B9AFB01 4             1.000                    -3.815    97.525\n",
       "5 AROBSHL1187B9AFB01 4             0.788                    -4.707   140.053\n",
       "6 AROBSHL1187B9AFB01 4             1.000                    -3.807   160.366\n",
       "  tempo_confidence <U+22EF>        timbre_7_max timbre_8_min timbre_8_max timbre_9_min\n",
       "1 0.953            <U+22EF>  82.475      -52.025      39.116       -35.368     \n",
       "2 0.921            <U+22EF> 106.918      -61.320      35.378       -81.928     \n",
       "3 0.489            <U+22EF>  80.621      -59.773      45.979       -46.293     \n",
       "4 0.794            <U+22EF>  96.675      -78.660      41.088       -49.194     \n",
       "5 0.286            <U+22EF> 110.332      -56.450      37.555       -48.588     \n",
       "6 0.347            <U+22EF>  91.117      -54.378      53.808       -33.183     \n",
       "  timbre_9_max timbre_10_min timbre_10_max timbre_11_min timbre_11_max Top10\n",
       "1 71.642       -126.440       18.658       -44.770       25.989        0    \n",
       "2 74.574       -103.808      121.935       -38.892       22.513        0    \n",
       "3 59.904       -108.313       33.300       -43.733       25.744        0    \n",
       "4 95.440       -102.676       46.422       -59.439       37.082        0    \n",
       "5 67.570        -52.796       22.888       -50.414       32.758        0    \n",
       "6 54.657        -64.478       34.522       -40.922       36.453        0    "
      ]
     },
     "metadata": {},
     "output_type": "display_data"
    }
   ],
   "source": [
    "songs = read.csv(\"data/songs.csv\")\n",
    "head(songs)"
   ]
  },
  {
   "cell_type": "code",
   "execution_count": 2,
   "metadata": {},
   "outputs": [
    {
     "name": "stdout",
     "output_type": "stream",
     "text": [
      "'data.frame':\t7574 obs. of  39 variables:\n",
      " $ year                    : int  2010 2010 2010 2010 2010 2010 2010 2010 2010 2010 ...\n",
      " $ songtitle               : Factor w/ 7141 levels \"'03 Bonnie & Clyde\",..: 6204 5522 241 3098 47 607 254 4419 2887 6756 ...\n",
      " $ artistname              : Factor w/ 1032 levels \"50 Cent\",\"98 Degrees\",..: 3 3 3 3 3 3 3 3 3 12 ...\n",
      " $ songID                  : Factor w/ 7549 levels \"SOAACNI1315CD4AC42\",..: 595 5439 5252 1716 3431 1020 1831 3964 6904 2473 ...\n",
      " $ artistID                : Factor w/ 1047 levels \"AR00B1I1187FB433EB\",..: 671 671 671 671 671 671 671 671 671 507 ...\n",
      " $ timesignature           : int  3 4 4 4 4 4 4 4 4 4 ...\n",
      " $ timesignature_confidence: num  0.853 1 1 1 0.788 1 0.968 0.861 0.622 0.938 ...\n",
      " $ loudness                : num  -4.26 -4.05 -3.57 -3.81 -4.71 ...\n",
      " $ tempo                   : num  91.5 140 160.5 97.5 140.1 ...\n",
      " $ tempo_confidence        : num  0.953 0.921 0.489 0.794 0.286 0.347 0.273 0.83 0.018 0.929 ...\n",
      " $ key                     : int  11 10 2 1 6 4 10 5 9 11 ...\n",
      " $ key_confidence          : num  0.453 0.469 0.209 0.632 0.483 0.627 0.715 0.423 0.751 0.602 ...\n",
      " $ energy                  : num  0.967 0.985 0.99 0.939 0.988 ...\n",
      " $ pitch                   : num  0.024 0.025 0.026 0.013 0.063 0.038 0.026 0.033 0.027 0.004 ...\n",
      " $ timbre_0_min            : num  0.002 0 0.003 0 0 ...\n",
      " $ timbre_0_max            : num  57.3 57.4 57.4 57.8 56.9 ...\n",
      " $ timbre_1_min            : num  -6.5 -37.4 -17.2 -32.1 -223.9 ...\n",
      " $ timbre_1_max            : num  171 171 171 221 171 ...\n",
      " $ timbre_2_min            : num  -81.7 -149.6 -72.9 -138.6 -147.2 ...\n",
      " $ timbre_2_max            : num  95.1 180.3 157.9 173.4 166 ...\n",
      " $ timbre_3_min            : num  -285 -380.1 -204 -73.5 -128.1 ...\n",
      " $ timbre_3_max            : num  259 384 251 373 389 ...\n",
      " $ timbre_4_min            : num  -40.4 -48.7 -66 -55.6 -43.9 ...\n",
      " $ timbre_4_max            : num  73.6 100.4 152.1 119.2 99.3 ...\n",
      " $ timbre_5_min            : num  -104.7 -87.3 -98.7 -77.5 -96.1 ...\n",
      " $ timbre_5_max            : num  183.1 42.8 141.4 141.2 38.3 ...\n",
      " $ timbre_6_min            : num  -88.8 -86.9 -88.9 -70.8 -110.8 ...\n",
      " $ timbre_6_max            : num  73.5 75.5 66.5 64.5 72.4 ...\n",
      " $ timbre_7_min            : num  -71.1 -65.8 -67.4 -63.7 -55.9 ...\n",
      " $ timbre_7_max            : num  82.5 106.9 80.6 96.7 110.3 ...\n",
      " $ timbre_8_min            : num  -52 -61.3 -59.8 -78.7 -56.5 ...\n",
      " $ timbre_8_max            : num  39.1 35.4 46 41.1 37.6 ...\n",
      " $ timbre_9_min            : num  -35.4 -81.9 -46.3 -49.2 -48.6 ...\n",
      " $ timbre_9_max            : num  71.6 74.6 59.9 95.4 67.6 ...\n",
      " $ timbre_10_min           : num  -126.4 -103.8 -108.3 -102.7 -52.8 ...\n",
      " $ timbre_10_max           : num  18.7 121.9 33.3 46.4 22.9 ...\n",
      " $ timbre_11_min           : num  -44.8 -38.9 -43.7 -59.4 -50.4 ...\n",
      " $ timbre_11_max           : num  26 22.5 25.7 37.1 32.8 ...\n",
      " $ Top10                   : int  0 0 0 0 0 0 0 0 0 1 ...\n"
     ]
    }
   ],
   "source": [
    "str(songs)"
   ]
  },
  {
   "cell_type": "code",
   "execution_count": 3,
   "metadata": {},
   "outputs": [
    {
     "data": {
      "text/plain": [
       "      year          songtitle              artistname  \n",
       " Min.   :1990   Intro    :  15   Various artists: 162  \n",
       " 1st Qu.:1997   Forever  :   8   Anal Cunt      :  49  \n",
       " Median :2002   Home     :   7   Various Artists:  44  \n",
       " Mean   :2001   Goodbye  :   6   Tori Amos      :  41  \n",
       " 3rd Qu.:2006   Again    :   5   Eels           :  37  \n",
       " Max.   :2010   Beautiful:   5   Napalm Death   :  37  \n",
       "                (Other)  :7528   (Other)        :7204  \n",
       "                songID                   artistID    timesignature  \n",
       " SOALSZJ1370F1A7C75:   2   ARAGWS81187FB3F768: 222   Min.   :0.000  \n",
       " SOANPAC13936E0B640:   2   ARL14X91187FB4CF14:  49   1st Qu.:4.000  \n",
       " SOBDGMX12B0B80808E:   2   AR4KS8C1187FB4CF3D:  41   Median :4.000  \n",
       " SOBUDCZ12A58A80013:   2   AR0JZZ01187B9B2C99:  37   Mean   :3.894  \n",
       " SODFRLK13134387FB5:   2   ARZGTK71187B9AC7F5:  37   3rd Qu.:4.000  \n",
       " SOEJPOK12A6D4FAFE4:   2   AR95XYH1187FB53951:  31   Max.   :7.000  \n",
       " (Other)           :7562   (Other)           :7157                  \n",
       " timesignature_confidence    loudness           tempo        tempo_confidence\n",
       " Min.   :0.0000           Min.   :-42.451   Min.   :  0.00   Min.   :0.0000  \n",
       " 1st Qu.:0.8193           1st Qu.:-10.847   1st Qu.: 88.86   1st Qu.:0.3720  \n",
       " Median :0.9790           Median : -7.649   Median :103.27   Median :0.7015  \n",
       " Mean   :0.8533           Mean   : -8.817   Mean   :107.35   Mean   :0.6229  \n",
       " 3rd Qu.:1.0000           3rd Qu.: -5.640   3rd Qu.:124.80   3rd Qu.:0.8920  \n",
       " Max.   :1.0000           Max.   :  1.305   Max.   :244.31   Max.   :1.0000  \n",
       "                                                                             \n",
       "      key         key_confidence       energy            pitch        \n",
       " Min.   : 0.000   Min.   :0.0000   Min.   :0.00002   Min.   :0.00000  \n",
       " 1st Qu.: 2.000   1st Qu.:0.2040   1st Qu.:0.50014   1st Qu.:0.00300  \n",
       " Median : 6.000   Median :0.4515   Median :0.71816   Median :0.00700  \n",
       " Mean   : 5.385   Mean   :0.4338   Mean   :0.67547   Mean   :0.01082  \n",
       " 3rd Qu.: 9.000   3rd Qu.:0.6460   3rd Qu.:0.88740   3rd Qu.:0.01400  \n",
       " Max.   :11.000   Max.   :1.0000   Max.   :0.99849   Max.   :0.54100  \n",
       "                                                                      \n",
       "  timbre_0_min     timbre_0_max    timbre_1_min      timbre_1_max   \n",
       " Min.   : 0.000   Min.   :12.58   Min.   :-333.72   Min.   :-74.37  \n",
       " 1st Qu.: 0.000   1st Qu.:53.12   1st Qu.:-160.12   1st Qu.:171.13  \n",
       " Median : 0.027   Median :55.53   Median :-107.75   Median :194.40  \n",
       " Mean   : 4.123   Mean   :54.46   Mean   :-110.79   Mean   :212.34  \n",
       " 3rd Qu.: 2.772   3rd Qu.:57.08   3rd Qu.: -59.71   3rd Qu.:239.24  \n",
       " Max.   :48.353   Max.   :64.01   Max.   : 123.73   Max.   :549.97  \n",
       "                                                                    \n",
       "  timbre_2_min      timbre_2_max      timbre_3_min      timbre_3_max   \n",
       " Min.   :-324.86   Min.   : -0.832   Min.   :-495.36   Min.   : 12.85  \n",
       " 1st Qu.:-167.64   1st Qu.:100.519   1st Qu.:-226.87   1st Qu.:127.14  \n",
       " Median :-136.60   Median :129.908   Median :-170.61   Median :189.50  \n",
       " Mean   :-136.89   Mean   :136.673   Mean   :-186.11   Mean   :211.81  \n",
       " 3rd Qu.:-106.51   3rd Qu.:166.121   3rd Qu.:-131.56   3rd Qu.:290.72  \n",
       " Max.   :  34.57   Max.   :397.095   Max.   : -21.55   Max.   :499.62  \n",
       "                                                                       \n",
       "  timbre_4_min      timbre_4_max      timbre_5_min      timbre_5_max   \n",
       " Min.   :-207.07   Min.   : -0.651   Min.   :-262.48   Min.   :-22.41  \n",
       " 1st Qu.: -77.69   1st Qu.: 83.966   1st Qu.:-113.58   1st Qu.: 84.64  \n",
       " Median : -63.83   Median :107.422   Median : -95.47   Median :119.90  \n",
       " Mean   : -65.28   Mean   :108.227   Mean   :-104.00   Mean   :127.04  \n",
       " 3rd Qu.: -51.34   3rd Qu.:130.286   3rd Qu.: -81.02   3rd Qu.:162.34  \n",
       " Max.   :  51.43   Max.   :257.801   Max.   : -42.17   Max.   :350.94  \n",
       "                                                                       \n",
       "  timbre_6_min       timbre_6_max     timbre_7_min       timbre_7_max   \n",
       " Min.   :-152.170   Min.   : 12.70   Min.   :-214.791   Min.   : 15.70  \n",
       " 1st Qu.: -94.792   1st Qu.: 59.04   1st Qu.:-101.171   1st Qu.: 76.50  \n",
       " Median : -80.418   Median : 70.47   Median : -81.797   Median : 94.63  \n",
       " Mean   : -80.944   Mean   : 72.17   Mean   : -84.313   Mean   : 95.65  \n",
       " 3rd Qu.: -66.521   3rd Qu.: 83.19   3rd Qu.: -64.301   3rd Qu.:112.71  \n",
       " Max.   :   4.503   Max.   :208.39   Max.   :   5.153   Max.   :214.82  \n",
       "                                                                        \n",
       "  timbre_8_min       timbre_8_max     timbre_9_min      timbre_9_max    \n",
       " Min.   :-158.756   Min.   :-25.95   Min.   :-149.51   Min.   :  8.415  \n",
       " 1st Qu.: -73.051   1st Qu.: 40.58   1st Qu.: -70.28   1st Qu.: 53.037  \n",
       " Median : -62.661   Median : 49.22   Median : -58.65   Median : 65.935  \n",
       " Mean   : -63.704   Mean   : 50.06   Mean   : -59.52   Mean   : 68.028  \n",
       " 3rd Qu.: -52.983   3rd Qu.: 58.46   3rd Qu.: -47.70   3rd Qu.: 81.267  \n",
       " Max.   :  -2.382   Max.   :144.99   Max.   :   1.14   Max.   :161.518  \n",
       "                                                                        \n",
       " timbre_10_min     timbre_10_max     timbre_11_min      timbre_11_max   \n",
       " Min.   :-208.82   Min.   : -6.359   Min.   :-145.599   Min.   :  7.20  \n",
       " 1st Qu.:-105.13   1st Qu.: 39.196   1st Qu.: -58.058   1st Qu.: 38.98  \n",
       " Median : -83.07   Median : 50.895   Median : -50.892   Median : 46.44  \n",
       " Mean   : -87.34   Mean   : 55.521   Mean   : -50.868   Mean   : 47.49  \n",
       " 3rd Qu.: -64.52   3rd Qu.: 66.593   3rd Qu.: -43.292   3rd Qu.: 55.03  \n",
       " Max.   : -10.64   Max.   :192.417   Max.   :  -6.497   Max.   :110.27  \n",
       "                                                                        \n",
       "     Top10       \n",
       " Min.   :0.0000  \n",
       " 1st Qu.:0.0000  \n",
       " Median :0.0000  \n",
       " Mean   :0.1477  \n",
       " 3rd Qu.:0.0000  \n",
       " Max.   :1.0000  \n",
       "                 "
      ]
     },
     "metadata": {},
     "output_type": "display_data"
    }
   ],
   "source": [
    "summary(songs)"
   ]
  },
  {
   "cell_type": "markdown",
   "metadata": {},
   "source": [
    "**How many observations (songs) are from the year 2010?**"
   ]
  },
  {
   "cell_type": "code",
   "execution_count": 4,
   "metadata": {},
   "outputs": [
    {
     "data": {
      "text/plain": [
       "\n",
       "1990 1991 1992 1993 1994 1995 1996 1997 1998 1999 2000 2001 2002 2003 2004 2005 \n",
       " 328  196  186  324  198  258  178  329  380  357  363  282  518  434  479  392 \n",
       "2006 2007 2008 2009 2010 \n",
       " 479  622  415  483  373 "
      ]
     },
     "metadata": {},
     "output_type": "display_data"
    }
   ],
   "source": [
    "table(songs$year)"
   ]
  },
  {
   "cell_type": "markdown",
   "metadata": {},
   "source": [
    "Answer: 373."
   ]
  },
  {
   "cell_type": "markdown",
   "metadata": {},
   "source": [
    "### Problem 1.2 - Understanding the Data\n",
    "\n",
    "**How many songs does the dataset include for which the artist name is \"Michael Jackson\"?**"
   ]
  },
  {
   "cell_type": "code",
   "execution_count": 5,
   "metadata": {},
   "outputs": [
    {
     "data": {
      "text/html": [
       "<table>\n",
       "<caption>A data.frame: 5 × 39</caption>\n",
       "<thead>\n",
       "\t<tr><th></th><th scope=col>year</th><th scope=col>songtitle</th><th scope=col>artistname</th><th scope=col>songID</th><th scope=col>artistID</th><th scope=col>timesignature</th><th scope=col>timesignature_confidence</th><th scope=col>loudness</th><th scope=col>tempo</th><th scope=col>tempo_confidence</th><th scope=col>⋯</th><th scope=col>timbre_7_max</th><th scope=col>timbre_8_min</th><th scope=col>timbre_8_max</th><th scope=col>timbre_9_min</th><th scope=col>timbre_9_max</th><th scope=col>timbre_10_min</th><th scope=col>timbre_10_max</th><th scope=col>timbre_11_min</th><th scope=col>timbre_11_max</th><th scope=col>Top10</th></tr>\n",
       "\t<tr><th></th><th scope=col>&lt;int&gt;</th><th scope=col>&lt;fct&gt;</th><th scope=col>&lt;fct&gt;</th><th scope=col>&lt;fct&gt;</th><th scope=col>&lt;fct&gt;</th><th scope=col>&lt;int&gt;</th><th scope=col>&lt;dbl&gt;</th><th scope=col>&lt;dbl&gt;</th><th scope=col>&lt;dbl&gt;</th><th scope=col>&lt;dbl&gt;</th><th scope=col>⋯</th><th scope=col>&lt;dbl&gt;</th><th scope=col>&lt;dbl&gt;</th><th scope=col>&lt;dbl&gt;</th><th scope=col>&lt;dbl&gt;</th><th scope=col>&lt;dbl&gt;</th><th scope=col>&lt;dbl&gt;</th><th scope=col>&lt;dbl&gt;</th><th scope=col>&lt;dbl&gt;</th><th scope=col>&lt;dbl&gt;</th><th scope=col>&lt;int&gt;</th></tr>\n",
       "</thead>\n",
       "<tbody>\n",
       "\t<tr><th scope=row>4329</th><td>2001</td><td>You Rock My World</td><td>Michael Jackson</td><td>SOBLCOF13134393021</td><td>ARXPPEY1187FB51DF4</td><td>4</td><td>1.000</td><td>-2.768</td><td> 95.003</td><td>0.892</td><td>⋯</td><td>120.076</td><td>-53.839</td><td>63.576</td><td> -85.169</td><td> 84.840</td><td>-102.185</td><td> 55.266</td><td>-48.107</td><td>56.116</td><td>1</td></tr>\n",
       "\t<tr><th scope=row>6207</th><td>1995</td><td>You Are Not Alone</td><td>Michael Jackson</td><td>SOJKNNO13737CEB162</td><td>ARXPPEY1187FB51DF4</td><td>4</td><td>1.000</td><td>-9.408</td><td>120.566</td><td>0.805</td><td>⋯</td><td> 90.735</td><td>-61.583</td><td>60.920</td><td> -55.904</td><td> 76.632</td><td> -69.799</td><td> 46.173</td><td>-67.281</td><td>47.128</td><td>1</td></tr>\n",
       "\t<tr><th scope=row>6210</th><td>1995</td><td>Black or White   </td><td>Michael Jackson</td><td>SOBBRFO137756C9CB7</td><td>ARXPPEY1187FB51DF4</td><td>4</td><td>1.000</td><td>-4.017</td><td>115.027</td><td>0.535</td><td>⋯</td><td>107.974</td><td>-55.063</td><td>52.505</td><td>-110.999</td><td> 71.477</td><td>-133.939</td><td> 60.442</td><td>-55.008</td><td>43.473</td><td>1</td></tr>\n",
       "\t<tr><th scope=row>6218</th><td>1995</td><td>Remember the Time</td><td>Michael Jackson</td><td>SOIQZMT136C9704DA5</td><td>ARXPPEY1187FB51DF4</td><td>4</td><td>1.000</td><td>-3.633</td><td>107.921</td><td>1.000</td><td>⋯</td><td>146.587</td><td>-58.117</td><td>62.157</td><td> -54.440</td><td> 94.501</td><td>-112.348</td><td> 90.437</td><td>-53.634</td><td>51.681</td><td>1</td></tr>\n",
       "\t<tr><th scope=row>6915</th><td>1992</td><td>In The Closet    </td><td>Michael Jackson</td><td>SOKIOOC12AF729ED9E</td><td>ARXPPEY1187FB51DF4</td><td>4</td><td>0.991</td><td>-4.315</td><td>110.501</td><td>0.949</td><td>⋯</td><td>124.354</td><td>-78.303</td><td>41.322</td><td> -83.184</td><td>106.263</td><td>-136.109</td><td>102.829</td><td>-48.192</td><td>74.575</td><td>1</td></tr>\n",
       "</tbody>\n",
       "</table>\n"
      ],
      "text/latex": [
       "A data.frame: 5 × 39\n",
       "\\begin{tabular}{r|lllllllllllllllllllll}\n",
       "  & year & songtitle & artistname & songID & artistID & timesignature & timesignature\\_confidence & loudness & tempo & tempo\\_confidence & ⋯ & timbre\\_7\\_max & timbre\\_8\\_min & timbre\\_8\\_max & timbre\\_9\\_min & timbre\\_9\\_max & timbre\\_10\\_min & timbre\\_10\\_max & timbre\\_11\\_min & timbre\\_11\\_max & Top10\\\\\n",
       "  & <int> & <fct> & <fct> & <fct> & <fct> & <int> & <dbl> & <dbl> & <dbl> & <dbl> & ⋯ & <dbl> & <dbl> & <dbl> & <dbl> & <dbl> & <dbl> & <dbl> & <dbl> & <dbl> & <int>\\\\\n",
       "\\hline\n",
       "\t4329 & 2001 & You Rock My World & Michael Jackson & SOBLCOF13134393021 & ARXPPEY1187FB51DF4 & 4 & 1.000 & -2.768 &  95.003 & 0.892 & ⋯ & 120.076 & -53.839 & 63.576 &  -85.169 &  84.840 & -102.185 &  55.266 & -48.107 & 56.116 & 1\\\\\n",
       "\t6207 & 1995 & You Are Not Alone & Michael Jackson & SOJKNNO13737CEB162 & ARXPPEY1187FB51DF4 & 4 & 1.000 & -9.408 & 120.566 & 0.805 & ⋯ &  90.735 & -61.583 & 60.920 &  -55.904 &  76.632 &  -69.799 &  46.173 & -67.281 & 47.128 & 1\\\\\n",
       "\t6210 & 1995 & Black or White    & Michael Jackson & SOBBRFO137756C9CB7 & ARXPPEY1187FB51DF4 & 4 & 1.000 & -4.017 & 115.027 & 0.535 & ⋯ & 107.974 & -55.063 & 52.505 & -110.999 &  71.477 & -133.939 &  60.442 & -55.008 & 43.473 & 1\\\\\n",
       "\t6218 & 1995 & Remember the Time & Michael Jackson & SOIQZMT136C9704DA5 & ARXPPEY1187FB51DF4 & 4 & 1.000 & -3.633 & 107.921 & 1.000 & ⋯ & 146.587 & -58.117 & 62.157 &  -54.440 &  94.501 & -112.348 &  90.437 & -53.634 & 51.681 & 1\\\\\n",
       "\t6915 & 1992 & In The Closet     & Michael Jackson & SOKIOOC12AF729ED9E & ARXPPEY1187FB51DF4 & 4 & 0.991 & -4.315 & 110.501 & 0.949 & ⋯ & 124.354 & -78.303 & 41.322 &  -83.184 & 106.263 & -136.109 & 102.829 & -48.192 & 74.575 & 1\\\\\n",
       "\\end{tabular}\n"
      ],
      "text/markdown": [
       "\n",
       "A data.frame: 5 × 39\n",
       "\n",
       "| <!--/--> | year &lt;int&gt; | songtitle &lt;fct&gt; | artistname &lt;fct&gt; | songID &lt;fct&gt; | artistID &lt;fct&gt; | timesignature &lt;int&gt; | timesignature_confidence &lt;dbl&gt; | loudness &lt;dbl&gt; | tempo &lt;dbl&gt; | tempo_confidence &lt;dbl&gt; | ⋯ ⋯ | timbre_7_max &lt;dbl&gt; | timbre_8_min &lt;dbl&gt; | timbre_8_max &lt;dbl&gt; | timbre_9_min &lt;dbl&gt; | timbre_9_max &lt;dbl&gt; | timbre_10_min &lt;dbl&gt; | timbre_10_max &lt;dbl&gt; | timbre_11_min &lt;dbl&gt; | timbre_11_max &lt;dbl&gt; | Top10 &lt;int&gt; |\n",
       "|---|---|---|---|---|---|---|---|---|---|---|---|---|---|---|---|---|---|---|---|---|---|\n",
       "| 4329 | 2001 | You Rock My World | Michael Jackson | SOBLCOF13134393021 | ARXPPEY1187FB51DF4 | 4 | 1.000 | -2.768 |  95.003 | 0.892 | ⋯ | 120.076 | -53.839 | 63.576 |  -85.169 |  84.840 | -102.185 |  55.266 | -48.107 | 56.116 | 1 |\n",
       "| 6207 | 1995 | You Are Not Alone | Michael Jackson | SOJKNNO13737CEB162 | ARXPPEY1187FB51DF4 | 4 | 1.000 | -9.408 | 120.566 | 0.805 | ⋯ |  90.735 | -61.583 | 60.920 |  -55.904 |  76.632 |  -69.799 |  46.173 | -67.281 | 47.128 | 1 |\n",
       "| 6210 | 1995 | Black or White    | Michael Jackson | SOBBRFO137756C9CB7 | ARXPPEY1187FB51DF4 | 4 | 1.000 | -4.017 | 115.027 | 0.535 | ⋯ | 107.974 | -55.063 | 52.505 | -110.999 |  71.477 | -133.939 |  60.442 | -55.008 | 43.473 | 1 |\n",
       "| 6218 | 1995 | Remember the Time | Michael Jackson | SOIQZMT136C9704DA5 | ARXPPEY1187FB51DF4 | 4 | 1.000 | -3.633 | 107.921 | 1.000 | ⋯ | 146.587 | -58.117 | 62.157 |  -54.440 |  94.501 | -112.348 |  90.437 | -53.634 | 51.681 | 1 |\n",
       "| 6915 | 1992 | In The Closet     | Michael Jackson | SOKIOOC12AF729ED9E | ARXPPEY1187FB51DF4 | 4 | 0.991 | -4.315 | 110.501 | 0.949 | ⋯ | 124.354 | -78.303 | 41.322 |  -83.184 | 106.263 | -136.109 | 102.829 | -48.192 | 74.575 | 1 |\n",
       "\n"
      ],
      "text/plain": [
       "     year songtitle         artistname      songID            \n",
       "4329 2001 You Rock My World Michael Jackson SOBLCOF13134393021\n",
       "6207 1995 You Are Not Alone Michael Jackson SOJKNNO13737CEB162\n",
       "6210 1995 Black or White    Michael Jackson SOBBRFO137756C9CB7\n",
       "6218 1995 Remember the Time Michael Jackson SOIQZMT136C9704DA5\n",
       "6915 1992 In The Closet     Michael Jackson SOKIOOC12AF729ED9E\n",
       "     artistID           timesignature timesignature_confidence loudness tempo  \n",
       "4329 ARXPPEY1187FB51DF4 4             1.000                    -2.768    95.003\n",
       "6207 ARXPPEY1187FB51DF4 4             1.000                    -9.408   120.566\n",
       "6210 ARXPPEY1187FB51DF4 4             1.000                    -4.017   115.027\n",
       "6218 ARXPPEY1187FB51DF4 4             1.000                    -3.633   107.921\n",
       "6915 ARXPPEY1187FB51DF4 4             0.991                    -4.315   110.501\n",
       "     tempo_confidence <U+22EF>        timbre_7_max timbre_8_min timbre_8_max\n",
       "4329 0.892            <U+22EF> 120.076      -53.839      63.576      \n",
       "6207 0.805            <U+22EF>  90.735      -61.583      60.920      \n",
       "6210 0.535            <U+22EF> 107.974      -55.063      52.505      \n",
       "6218 1.000            <U+22EF> 146.587      -58.117      62.157      \n",
       "6915 0.949            <U+22EF> 124.354      -78.303      41.322      \n",
       "     timbre_9_min timbre_9_max timbre_10_min timbre_10_max timbre_11_min\n",
       "4329  -85.169      84.840      -102.185       55.266       -48.107      \n",
       "6207  -55.904      76.632       -69.799       46.173       -67.281      \n",
       "6210 -110.999      71.477      -133.939       60.442       -55.008      \n",
       "6218  -54.440      94.501      -112.348       90.437       -53.634      \n",
       "6915  -83.184     106.263      -136.109      102.829       -48.192      \n",
       "     timbre_11_max Top10\n",
       "4329 56.116        1    \n",
       "6207 47.128        1    \n",
       "6210 43.473        1    \n",
       "6218 51.681        1    \n",
       "6915 74.575        1    "
      ]
     },
     "metadata": {},
     "output_type": "display_data"
    }
   ],
   "source": [
    "MJTop10 <- subset(songs,artistname==\"Michael Jackson\" &  Top10 == 1 )\n",
    "head(MJTop10)"
   ]
  },
  {
   "cell_type": "code",
   "execution_count": 6,
   "metadata": {},
   "outputs": [
    {
     "data": {
      "text/html": [
       "5"
      ],
      "text/latex": [
       "5"
      ],
      "text/markdown": [
       "5"
      ],
      "text/plain": [
       "[1] 5"
      ]
     },
     "metadata": {},
     "output_type": "display_data"
    }
   ],
   "source": [
    "nrow(MJTop10)"
   ]
  },
  {
   "cell_type": "code",
   "execution_count": 7,
   "metadata": {},
   "outputs": [
    {
     "data": {
      "text/plain": [
       "       \n",
       "        FALSE TRUE\n",
       "  FALSE  6442 1114\n",
       "  TRUE     13    5"
      ]
     },
     "metadata": {},
     "output_type": "display_data"
    }
   ],
   "source": [
    "table(songs$artistname==\"Michael Jackson\" ,songs$Top10 == 1)"
   ]
  },
  {
   "cell_type": "markdown",
   "metadata": {},
   "source": [
    "Answer: 18 songs, 5 in the TOP10."
   ]
  },
  {
   "cell_type": "markdown",
   "metadata": {},
   "source": [
    "### Problem 1.4 - Understanding the Data\n",
    "\n",
    "The variable corresponding to the estimated time signature (timesignature) is discrete, meaning that it only takes integer values (0, 1, 2, 3, . . . ). \n",
    "\n",
    "**What are the values of this variable that occur in our dataset?**"
   ]
  },
  {
   "cell_type": "code",
   "execution_count": 8,
   "metadata": {},
   "outputs": [
    {
     "data": {
      "text/plain": [
       "\n",
       "   0    1    3    4    5    7 \n",
       "  10  143  503 6787  112   19 "
      ]
     },
     "metadata": {},
     "output_type": "display_data"
    }
   ],
   "source": [
    "table(songs$timesignature)"
   ]
  },
  {
   "cell_type": "markdown",
   "metadata": {},
   "source": [
    "The only values that appear in the table for timesignature are 0, 1, 3, 4, 5, and 7"
   ]
  },
  {
   "cell_type": "markdown",
   "metadata": {},
   "source": [
    "**Which timesignature value is the most frequent among songs in our dataset?**"
   ]
  },
  {
   "cell_type": "code",
   "execution_count": 9,
   "metadata": {},
   "outputs": [
    {
     "data": {
      "image/png": "[encoded data removed]",
      "text/plain": [
       "Plot with title \"Time Signature\""
      ]
     },
     "metadata": {
      "image/png": {
       "height": 420,
       "width": 420
      },
      "text/plain": {
       "height": 420,
       "width": 420
      }
     },
     "output_type": "display_data"
    }
   ],
   "source": [
    "hist(songs$timesignature, main = \"Time Signature\")"
   ]
  },
  {
   "cell_type": "code",
   "execution_count": 10,
   "metadata": {},
   "outputs": [
    {
     "data": {
      "text/plain": [
       "\n",
       "   0    1    3    4    5    7 \n",
       "  10  143  503 6787  112   19 "
      ]
     },
     "metadata": {},
     "output_type": "display_data"
    }
   ],
   "source": [
    "table(songs$timesignature)"
   ]
  },
  {
   "cell_type": "markdown",
   "metadata": {},
   "source": [
    "6787 songs have a value of 4 for the timesignature."
   ]
  },
  {
   "cell_type": "markdown",
   "metadata": {},
   "source": [
    "### Problem 1.5 - Understanding the Data\n",
    "\n",
    "**Out of all of the songs in our dataset, the song with the highest tempo is one of the following songs. Which one is it?**"
   ]
  },
  {
   "cell_type": "code",
   "execution_count": 11,
   "metadata": {},
   "outputs": [
    {
     "data": {
      "image/png": "[encoded data removed]",
      "text/plain": [
       "Plot with title \"Tempo\""
      ]
     },
     "metadata": {
      "image/png": {
       "height": 420,
       "width": 420
      },
      "text/plain": {
       "height": 420,
       "width": 420
      }
     },
     "output_type": "display_data"
    }
   ],
   "source": [
    "plot(songs$tempo, main=\"Tempo\", col = \"#458B00\")"
   ]
  },
  {
   "cell_type": "code",
   "execution_count": 12,
   "metadata": {},
   "outputs": [
    {
     "data": {
      "text/html": [
       "<table>\n",
       "<caption>A data.frame: 6 × 39</caption>\n",
       "<thead>\n",
       "\t<tr><th></th><th scope=col>year</th><th scope=col>songtitle</th><th scope=col>artistname</th><th scope=col>songID</th><th scope=col>artistID</th><th scope=col>timesignature</th><th scope=col>timesignature_confidence</th><th scope=col>loudness</th><th scope=col>tempo</th><th scope=col>tempo_confidence</th><th scope=col>⋯</th><th scope=col>timbre_7_max</th><th scope=col>timbre_8_min</th><th scope=col>timbre_8_max</th><th scope=col>timbre_9_min</th><th scope=col>timbre_9_max</th><th scope=col>timbre_10_min</th><th scope=col>timbre_10_max</th><th scope=col>timbre_11_min</th><th scope=col>timbre_11_max</th><th scope=col>Top10</th></tr>\n",
       "\t<tr><th></th><th scope=col>&lt;int&gt;</th><th scope=col>&lt;fct&gt;</th><th scope=col>&lt;fct&gt;</th><th scope=col>&lt;fct&gt;</th><th scope=col>&lt;fct&gt;</th><th scope=col>&lt;int&gt;</th><th scope=col>&lt;dbl&gt;</th><th scope=col>&lt;dbl&gt;</th><th scope=col>&lt;dbl&gt;</th><th scope=col>&lt;dbl&gt;</th><th scope=col>⋯</th><th scope=col>&lt;dbl&gt;</th><th scope=col>&lt;dbl&gt;</th><th scope=col>&lt;dbl&gt;</th><th scope=col>&lt;dbl&gt;</th><th scope=col>&lt;dbl&gt;</th><th scope=col>&lt;dbl&gt;</th><th scope=col>&lt;dbl&gt;</th><th scope=col>&lt;dbl&gt;</th><th scope=col>&lt;dbl&gt;</th><th scope=col>&lt;int&gt;</th></tr>\n",
       "</thead>\n",
       "<tbody>\n",
       "\t<tr><th scope=row>6206</th><td>1995</td><td>Wanna Be Startin' Somethin'</td><td>Michael Jackson    </td><td>SONHIQM13738B7BE80</td><td>ARXPPEY1187FB51DF4</td><td>3</td><td>1.000</td><td>-14.528</td><td>244.307</td><td>0.566</td><td>⋯</td><td>93.600</td><td>-52.012</td><td>95.827</td><td>-63.554</td><td>84.129</td><td> -53.492</td><td>67.001</td><td>-73.421</td><td>67.308</td><td>0</td></tr>\n",
       "\t<tr><th scope=row>5946</th><td>1996</td><td>Zodijackyl Light           </td><td>Dark Tranquillity  </td><td>SOSMMKR1373EF49777</td><td>AR27M2F1187B9B1C50</td><td>4</td><td>0.526</td><td>-11.418</td><td>237.457</td><td>0.210</td><td>⋯</td><td>58.098</td><td>-66.722</td><td>42.489</td><td>-28.941</td><td>54.068</td><td> -46.201</td><td>28.347</td><td>-37.549</td><td>32.705</td><td>0</td></tr>\n",
       "\t<tr><th scope=row>4091</th><td>2002</td><td>You're a Fucking Bastard   </td><td>The Exploited      </td><td>SOCKWLO12D85320AB2</td><td>AR39QZK1187B9B1846</td><td>1</td><td>0.000</td><td> -5.677</td><td>233.982</td><td>0.338</td><td>⋯</td><td>60.900</td><td>-49.601</td><td>46.883</td><td>-26.752</td><td>55.947</td><td>-108.579</td><td>40.632</td><td>-37.253</td><td>37.228</td><td>0</td></tr>\n",
       "\t<tr><th scope=row>1186</th><td>2008</td><td>Relentless                 </td><td>Strapping Young Lad</td><td>SODQTAK1377A1A8EB1</td><td>AR4IE571187FB4ECE1</td><td>4</td><td>0.000</td><td> -5.635</td><td>232.134</td><td>0.273</td><td>⋯</td><td>33.870</td><td>-28.485</td><td>31.267</td><td>-19.105</td><td>26.089</td><td> -71.759</td><td>35.007</td><td>-34.933</td><td>46.100</td><td>0</td></tr>\n",
       "\t<tr><th scope=row>4760</th><td>2000</td><td>The Chainheart Machine     </td><td>Soilwork           </td><td>SOSZFZT13775661184</td><td>ARUF32D1187B9B157E</td><td>4</td><td>0.327</td><td> -7.148</td><td>218.403</td><td>0.000</td><td>⋯</td><td>78.386</td><td>-46.363</td><td>18.003</td><td>-53.302</td><td>49.581</td><td>-174.787</td><td>22.260</td><td>-39.892</td><td>30.760</td><td>0</td></tr>\n",
       "\t<tr><th scope=row>1201</th><td>2008</td><td>Take It                    </td><td>Taproot            </td><td>SOIEMEH131634A6F0D</td><td>ARB9VHL1187B9AEC3F</td><td>3</td><td>1.000</td><td> -4.229</td><td>218.207</td><td>0.177</td><td>⋯</td><td>68.613</td><td>-52.242</td><td>49.196</td><td>-33.076</td><td>57.878</td><td>-119.559</td><td>33.956</td><td>-33.002</td><td>39.616</td><td>0</td></tr>\n",
       "</tbody>\n",
       "</table>\n"
      ],
      "text/latex": [
       "A data.frame: 6 × 39\n",
       "\\begin{tabular}{r|lllllllllllllllllllll}\n",
       "  & year & songtitle & artistname & songID & artistID & timesignature & timesignature\\_confidence & loudness & tempo & tempo\\_confidence & ⋯ & timbre\\_7\\_max & timbre\\_8\\_min & timbre\\_8\\_max & timbre\\_9\\_min & timbre\\_9\\_max & timbre\\_10\\_min & timbre\\_10\\_max & timbre\\_11\\_min & timbre\\_11\\_max & Top10\\\\\n",
       "  & <int> & <fct> & <fct> & <fct> & <fct> & <int> & <dbl> & <dbl> & <dbl> & <dbl> & ⋯ & <dbl> & <dbl> & <dbl> & <dbl> & <dbl> & <dbl> & <dbl> & <dbl> & <dbl> & <int>\\\\\n",
       "\\hline\n",
       "\t6206 & 1995 & Wanna Be Startin' Somethin' & Michael Jackson     & SONHIQM13738B7BE80 & ARXPPEY1187FB51DF4 & 3 & 1.000 & -14.528 & 244.307 & 0.566 & ⋯ & 93.600 & -52.012 & 95.827 & -63.554 & 84.129 &  -53.492 & 67.001 & -73.421 & 67.308 & 0\\\\\n",
       "\t5946 & 1996 & Zodijackyl Light            & Dark Tranquillity   & SOSMMKR1373EF49777 & AR27M2F1187B9B1C50 & 4 & 0.526 & -11.418 & 237.457 & 0.210 & ⋯ & 58.098 & -66.722 & 42.489 & -28.941 & 54.068 &  -46.201 & 28.347 & -37.549 & 32.705 & 0\\\\\n",
       "\t4091 & 2002 & You're a Fucking Bastard    & The Exploited       & SOCKWLO12D85320AB2 & AR39QZK1187B9B1846 & 1 & 0.000 &  -5.677 & 233.982 & 0.338 & ⋯ & 60.900 & -49.601 & 46.883 & -26.752 & 55.947 & -108.579 & 40.632 & -37.253 & 37.228 & 0\\\\\n",
       "\t1186 & 2008 & Relentless                  & Strapping Young Lad & SODQTAK1377A1A8EB1 & AR4IE571187FB4ECE1 & 4 & 0.000 &  -5.635 & 232.134 & 0.273 & ⋯ & 33.870 & -28.485 & 31.267 & -19.105 & 26.089 &  -71.759 & 35.007 & -34.933 & 46.100 & 0\\\\\n",
       "\t4760 & 2000 & The Chainheart Machine      & Soilwork            & SOSZFZT13775661184 & ARUF32D1187B9B157E & 4 & 0.327 &  -7.148 & 218.403 & 0.000 & ⋯ & 78.386 & -46.363 & 18.003 & -53.302 & 49.581 & -174.787 & 22.260 & -39.892 & 30.760 & 0\\\\\n",
       "\t1201 & 2008 & Take It                     & Taproot             & SOIEMEH131634A6F0D & ARB9VHL1187B9AEC3F & 3 & 1.000 &  -4.229 & 218.207 & 0.177 & ⋯ & 68.613 & -52.242 & 49.196 & -33.076 & 57.878 & -119.559 & 33.956 & -33.002 & 39.616 & 0\\\\\n",
       "\\end{tabular}\n"
      ],
      "text/markdown": [
       "\n",
       "A data.frame: 6 × 39\n",
       "\n",
       "| <!--/--> | year &lt;int&gt; | songtitle &lt;fct&gt; | artistname &lt;fct&gt; | songID &lt;fct&gt; | artistID &lt;fct&gt; | timesignature &lt;int&gt; | timesignature_confidence &lt;dbl&gt; | loudness &lt;dbl&gt; | tempo &lt;dbl&gt; | tempo_confidence &lt;dbl&gt; | ⋯ ⋯ | timbre_7_max &lt;dbl&gt; | timbre_8_min &lt;dbl&gt; | timbre_8_max &lt;dbl&gt; | timbre_9_min &lt;dbl&gt; | timbre_9_max &lt;dbl&gt; | timbre_10_min &lt;dbl&gt; | timbre_10_max &lt;dbl&gt; | timbre_11_min &lt;dbl&gt; | timbre_11_max &lt;dbl&gt; | Top10 &lt;int&gt; |\n",
       "|---|---|---|---|---|---|---|---|---|---|---|---|---|---|---|---|---|---|---|---|---|---|\n",
       "| 6206 | 1995 | Wanna Be Startin' Somethin' | Michael Jackson     | SONHIQM13738B7BE80 | ARXPPEY1187FB51DF4 | 3 | 1.000 | -14.528 | 244.307 | 0.566 | ⋯ | 93.600 | -52.012 | 95.827 | -63.554 | 84.129 |  -53.492 | 67.001 | -73.421 | 67.308 | 0 |\n",
       "| 5946 | 1996 | Zodijackyl Light            | Dark Tranquillity   | SOSMMKR1373EF49777 | AR27M2F1187B9B1C50 | 4 | 0.526 | -11.418 | 237.457 | 0.210 | ⋯ | 58.098 | -66.722 | 42.489 | -28.941 | 54.068 |  -46.201 | 28.347 | -37.549 | 32.705 | 0 |\n",
       "| 4091 | 2002 | You're a Fucking Bastard    | The Exploited       | SOCKWLO12D85320AB2 | AR39QZK1187B9B1846 | 1 | 0.000 |  -5.677 | 233.982 | 0.338 | ⋯ | 60.900 | -49.601 | 46.883 | -26.752 | 55.947 | -108.579 | 40.632 | -37.253 | 37.228 | 0 |\n",
       "| 1186 | 2008 | Relentless                  | Strapping Young Lad | SODQTAK1377A1A8EB1 | AR4IE571187FB4ECE1 | 4 | 0.000 |  -5.635 | 232.134 | 0.273 | ⋯ | 33.870 | -28.485 | 31.267 | -19.105 | 26.089 |  -71.759 | 35.007 | -34.933 | 46.100 | 0 |\n",
       "| 4760 | 2000 | The Chainheart Machine      | Soilwork            | SOSZFZT13775661184 | ARUF32D1187B9B157E | 4 | 0.327 |  -7.148 | 218.403 | 0.000 | ⋯ | 78.386 | -46.363 | 18.003 | -53.302 | 49.581 | -174.787 | 22.260 | -39.892 | 30.760 | 0 |\n",
       "| 1201 | 2008 | Take It                     | Taproot             | SOIEMEH131634A6F0D | ARB9VHL1187B9AEC3F | 3 | 1.000 |  -4.229 | 218.207 | 0.177 | ⋯ | 68.613 | -52.242 | 49.196 | -33.076 | 57.878 | -119.559 | 33.956 | -33.002 | 39.616 | 0 |\n",
       "\n"
      ],
      "text/plain": [
       "     year songtitle                   artistname          songID            \n",
       "6206 1995 Wanna Be Startin' Somethin' Michael Jackson     SONHIQM13738B7BE80\n",
       "5946 1996 Zodijackyl Light            Dark Tranquillity   SOSMMKR1373EF49777\n",
       "4091 2002 You're a Fucking Bastard    The Exploited       SOCKWLO12D85320AB2\n",
       "1186 2008 Relentless                  Strapping Young Lad SODQTAK1377A1A8EB1\n",
       "4760 2000 The Chainheart Machine      Soilwork            SOSZFZT13775661184\n",
       "1201 2008 Take It                     Taproot             SOIEMEH131634A6F0D\n",
       "     artistID           timesignature timesignature_confidence loudness tempo  \n",
       "6206 ARXPPEY1187FB51DF4 3             1.000                    -14.528  244.307\n",
       "5946 AR27M2F1187B9B1C50 4             0.526                    -11.418  237.457\n",
       "4091 AR39QZK1187B9B1846 1             0.000                     -5.677  233.982\n",
       "1186 AR4IE571187FB4ECE1 4             0.000                     -5.635  232.134\n",
       "4760 ARUF32D1187B9B157E 4             0.327                     -7.148  218.403\n",
       "1201 ARB9VHL1187B9AEC3F 3             1.000                     -4.229  218.207\n",
       "     tempo_confidence <U+22EF>        timbre_7_max timbre_8_min timbre_8_max\n",
       "6206 0.566            <U+22EF> 93.600       -52.012      95.827      \n",
       "5946 0.210            <U+22EF> 58.098       -66.722      42.489      \n",
       "4091 0.338            <U+22EF> 60.900       -49.601      46.883      \n",
       "1186 0.273            <U+22EF> 33.870       -28.485      31.267      \n",
       "4760 0.000            <U+22EF> 78.386       -46.363      18.003      \n",
       "1201 0.177            <U+22EF> 68.613       -52.242      49.196      \n",
       "     timbre_9_min timbre_9_max timbre_10_min timbre_10_max timbre_11_min\n",
       "6206 -63.554      84.129        -53.492      67.001        -73.421      \n",
       "5946 -28.941      54.068        -46.201      28.347        -37.549      \n",
       "4091 -26.752      55.947       -108.579      40.632        -37.253      \n",
       "1186 -19.105      26.089        -71.759      35.007        -34.933      \n",
       "4760 -53.302      49.581       -174.787      22.260        -39.892      \n",
       "1201 -33.076      57.878       -119.559      33.956        -33.002      \n",
       "     timbre_11_max Top10\n",
       "6206 67.308        0    \n",
       "5946 32.705        0    \n",
       "4091 37.228        0    \n",
       "1186 46.100        0    \n",
       "4760 30.760        0    \n",
       "1201 39.616        0    "
      ]
     },
     "metadata": {},
     "output_type": "display_data"
    }
   ],
   "source": [
    "head(songs[order(songs$tempo , decreasing = T),])"
   ]
  },
  {
   "cell_type": "code",
   "execution_count": 13,
   "metadata": {},
   "outputs": [
    {
     "data": {
      "text/html": [
       "Wanna Be Startin' Somethin'\n",
       "<details>\n",
       "\t<summary style=display:list-item;cursor:pointer>\n",
       "\t\t<strong>Levels</strong>:\n",
       "\t</summary>\n",
       "\t<style>\n",
       "\t.list-inline {list-style: none; margin:0; padding: 0}\n",
       "\t.list-inline>li {display: inline-block}\n",
       "\t.list-inline>li:not(:last-child)::after {content: \"\\00b7\"; padding: 0 .5ex}\n",
       "\t</style>\n",
       "\t<ol class=list-inline><li>'\\'03 Bonnie &amp; Clyde'</li><li>'\\'69'</li><li>'\\'O Surdato \\'Nnammurato'</li><li>'\\'Til I Fell in Love with You'</li><li>'#1'</li><li>'(Hot S**t) Country Grammar'</li><li>'(Lay Your Head on My) Pillow'</li><li>'(No More) Paddy\\'s Lament'</li><li>'(Our Love) Don\\'t Throw it All Away'</li><li>'(She Was A) Hotel Detective'</li><li>'(Splash) Turn Twist'</li><li>'(The Roof Is) On Fire'</li><li>'(When You Gonna) Give It Up To Me'</li><li>'(You Drive Me) Crazy'</li><li>'...Baby One More Time'</li><li>'...Into the Light'</li><li>'.44 Magnum Opus'</li><li>'_„_'</li><li>'_„\\215'</li><li>'‘\\217Qu_ Creias?'</li><li>'‘\\215Viva Vlad! '</li><li>'1-800 Clap Your Hands (The Water Is Rising)'</li><li>'1 Thing'</li><li>'10 Million Stars'</li><li>'10 Seconds Down'</li><li>'10 West'</li><li>'100 Cigarettes'</li><li>'100 Times Fuckeder'</li><li>'10th Street'</li><li>'11:11'</li><li>'11th Commandment'</li><li>'1348'</li><li>'14th Street'</li><li>'1984'</li><li>'1985'</li><li>'1990. A New Decade'</li><li>'1999'</li><li>'2 Become 1'</li><li>'2:00 Your Time'</li><li>'20 Miles to Texas 25 to Hell'</li><li>'20 More Miles'</li><li>'2005'</li><li>'21 Questions'</li><li>'24/7'</li><li>'25 to Life'</li><li>'2nd Look'</li><li>'2nd Sucks'</li><li>'3'</li><li>'3 A.M. Eternal'</li><li>'3 Month Weekend'</li><li>'3 Words'</li><li>'3000 Miles'</li><li>'311'</li><li>'321'</li><li>'33 RPM Soul'</li><li>'3OH!3'</li><li>'4 Minutes'</li><li>'4 Seasons Of Loneliness'</li><li>'4: 30 to Atlanta'</li><li>'42'</li><li>'5 6 3 (Joe)'</li><li>'50 Candles'</li><li>'5000'</li><li>'6 Minutes of Pleasure'</li><li>'60%'</li><li>'60% (Reprise)'</li><li>'68'</li><li>'7'</li><li>'7 Days'</li><li>'7 Things'</li><li>'808'</li><li>'81'</li><li>'90% of My Mind is With You'</li><li>'911'</li><li>'96 Tears'</li><li>'A Bay Bay'</li><li>'A Beautiful Thing'</li><li>'A Brand New Song'</li><li>'A Cool New Way'</li><li>'A Daisy Through Concrete'</li><li>'A Defeated Accomplishment'</li><li>'A Dream'</li><li>'A Dream\\'s a Dream'</li><li>'A Drop in Time'</li><li>'A Few Good Rides Away'</li><li>'A Final Warning'</li><li>'A Gangster and a Gentleman'</li><li>'A Good Idea'</li><li>'A Great Fire'</li><li>'A Hard Rain\\'s a-Gonna Fall'</li><li>'A Head with Wings'</li><li>'A Jewel Traced Through Coal'</li><li>'A Kiss Is Not a Contract'</li><li>'A Letter to Elise'</li><li>'A Life Less Ordinary'</li><li>'A Little\\'s Enough'</li><li>'A Little Less Talk and a Lot More Action'</li><li>'A Little More Personal'</li><li>'A Little Piece of Heaven'</li><li>'A Little Too Late'</li><li>'A Little Want To'</li><li>'A Little Word in Your Ear'</li><li>'A Long and Sad Goodbye'</li><li>'A Long Time Ago'</li><li>'A Lot Like This'</li><li>'A Love Eternal'</li><li>'A Man and a Woman'</li><li>'A Milli'</li><li>'A Million Miles'</li><li>'A Moment Like This'</li><li>'A New Bot'</li><li>'A New Day'</li><li>'A New Door'</li><li>'A Nighttime Project'</li><li>'A Particularly Long Elevator Shaft'</li><li>'A Pict Song'</li><li>'A Postcard Would Be Nice'</li><li>'A Public Affair'</li><li>'A Real Clever Trick Fur a Bear'</li><li>'A Reason'</li><li>'A Ride Back Home'</li><li>'A Room with a View'</li><li>'A Self-made Man'</li><li>'A Sight for Sore Eyes'</li><li>'A Sign Far Beyond'</li><li>'A Sip of Wine Chased with Cyanide'</li><li>'A Skull Full of Maggots'</li><li>'A Song for a Broken Heart'</li><li>'A Song for Departure'</li><li>'A Song For Mama'</li><li>'A Song for Sleeping'</li><li>'A Song for You'</li><li>'A Song to Sing'</li><li>'A Swim With the Sharks'</li><li>'A Thousand Faces'</li><li>'A Thousand Miles'</li><li>'A Touch of Evil'</li><li>'A Tyranny of Souls'</li><li>'A Week in Juarez'</li><li>'A Woman\\'s Worth'</li><li>'A Word From The Hon. Minister'</li><li>'A.C.'</li><li>'A.Y.M.'</li><li>'Abduction'</li><li>'About Me'</li><li>'About to Break'</li><li>'About to Die'</li><li>'About You'</li><li>'About Your Fame'</li><li>'Absence of the Heart'</li><li>'Absent Stars'</li><li>'Absolutely (Story of a Girl)'</li><li>'Absolutely (Story Of A Girl)'</li><li>'Absolutely Perfect'</li><li>'Absolutely Positively'</li><li>'Accept My Sacrifice'</li><li>'Accusations'</li><li>'Aching For You'</li><li>'Achy Breaky Heart'</li><li>'Acoustic #3'</li><li>'Action And Drama'</li><li>'Add It Up'</li><li>'Addictive'</li><li>'Adia'</li><li>'Adios'</li><li>'Adrenaline'</li><li>'Adventures In Paradise'</li><li>'Aerodynamic'</li><li>'Afroman'</li><li>'After an Afternoon'</li><li>'After Dark'</li><li>'After It All'</li><li>'After the Earthquake'</li><li>'After The Love Has Gone'</li><li>'After The Rain'</li><li>'After the Thrill Is Gone'</li><li>'Afterlife'</li><li>'Aftermath'</li><li>'Again'</li><li>'Against the Wind'</li><li>'Age of Gold'</li><li>'Age of Innocence'</li><li>'Agent Orange'</li><li>'Agnus Dei'</li><li>'Agony'</li><li>'Ah Ha'</li><li>'Ain\\'t It Funny'</li><li>'Ain\\'t It Pretty'</li><li>'Ain\\'t No Good'</li><li>'Ain\\'t No Life'</li><li>'Ain\\'t No Other Man'</li><li>'Ain\\'t No Santa'</li><li>'Ain\\'t No Thang'</li><li>'Ain\\'t Nothing \\'Bout You'</li><li>'Ain\\'t That Right'</li><li>'Air Aid'</li><li>'Air Force Ones'</li><li>'Airplanes'</li><li>'Airwaves'</li><li>'Akon'</li><li>⋯</li><li>'Woe'</li><li>'Wolves in Wolves\\' Clothing'</li><li>'Woman Don\\'t You Cry for Me'</li><li>'Womanizer'</li><li>'Won\\'t Back Down'</li><li>'Won\\'t Let Go'</li><li>'Wonder'</li><li>'Wonder \\'Bout'</li><li>'Wonder At'</li><li>'Wonderful'</li><li>'Wonderful Christmastime'</li><li>'Wonderwall'</li><li>'Wooden Bones'</li><li>'Wooody Wooodpecker'</li><li>'Word Up!'</li><li>'Words of Spectacular'</li><li>'Work Hard'</li><li>'Work It'</li><li>'Work It Out'</li><li>'Worked It Out Wrong'</li><li>'World Clique'</li><li>'World Expiration'</li><li>'World of Trouble'</li><li>'Worth It'</li><li>'Wouldn\\'t It Be Nice'</li><li>'Wound'</li><li>'Wounded Sky'</li><li>'Wrapped in Your Arms'</li><li>'Wrecking Ball'</li><li>'Written All Over My Face'</li><li>'Written in the Stars'</li><li>'Wrong About Bobby'</li><li>'Wrong Side'</li><li>'Wrong When You\\'re Gone'</li><li>'Wuz Up'</li><li>'WWW Dot'</li><li>'Wyclef Jean'</li><li>'Xibir'</li><li>'XOXOXO'</li><li>'Xzibit'</li><li>'Y.M.C.A.'</li><li>'Ya Soshla s Uma'</li><li>'Yahweh'</li><li>'Yeah'</li><li>'Yeah!'</li><li>'Year One Now'</li><li>'Year to the Day'</li><li>'Yearning'</li><li>'Yeh Yeh Yeh'</li><li>'Yes Y\\'All'</li><li>'Yes Yes Y\\'all'</li><li>'Yesterday'</li><li>'Yeti'</li><li>'Yo (Excuse Me Miss)'</li><li>'Yo George'</li><li>'Yo Te Sigo Queriendo'</li><li>'You'</li><li>'You\\'ll Be Fine'</li><li>'You\\'ll Get Yours'</li><li>'You\\'ll Never Find Another Love Like Mine'</li><li>'You\\'ll See'</li><li>'You\\'re a Cop'</li><li>'You\\'re a Fucking Bastard'</li><li>'You\\'re Beautiful'</li><li>'You\\'re Crazy'</li><li>'You\\'re Gay'</li><li>'You\\'re Gonna Miss Me When I\\'m Gone'</li><li>'You\\'re in a Coma'</li><li>'You\\'re Lovin\\' Me to Death'</li><li>'You\\'re Mine'</li><li>'You\\'re My Queen'</li><li>'You\\'re Never Over'</li><li>'You\\'re Not Home Tonight'</li><li>'You\\'re Old (Fuck You)'</li><li>'You\\'re So Vain'</li><li>'You\\'re Still Here'</li><li>'You\\'re Still The One'</li><li>'You\\'re the One'</li><li>'You\\'re The One'</li><li>'You\\'re Welcome'</li><li>'You\\'ve Been Had (Machine)'</li><li>'You\\'ve Got a Friend in Me'</li><li>'You\\'ve Got Cancer'</li><li>'You\\'ve Got No Friends'</li><li>'You &amp; Eye'</li><li>'You (Fill In the Blank)'</li><li>'You Ain\\'t the First'</li><li>'You All Dat'</li><li>'You Always Said My Language Would Get Me into Trouble'</li><li>'You and I Both'</li><li>'You and I Will Meet Again'</li><li>'You and Me'</li><li>'You And Me'</li><li>'You and the Mona Lisa'</li><li>'You Are a Food Critic'</li><li>'You Are Amazing'</li><li>'You Are an Interior Decorator'</li><li>'You Are an Orphan'</li><li>'You Are Not Alone'</li><li>'You Are The Antithesis'</li><li>'You Are the One'</li><li>'You Belong With Me'</li><li>'You Can\\'t Bring Me Down'</li><li>'You Can\\'t Buy Back the Dead'</li><li>'You Can\\'t Shut Up'</li><li>'You Can\\'t Take the Honky Tonk Out of the Girl'</li><li>'You Can Bring Your Dog'</li><li>'You Can Demand'</li><li>'You Can Get It'</li><li>'You Can Have It All'</li><li>'You Can Pick \\'Em'</li><li>'You Don\\'t Care Nothin\\''</li><li>'You Don\\'t Have to Be a Prostitute'</li><li>'You Don\\'t Know My Name'</li><li>'You Don\\'t Know What\\'s Coming'</li><li>'You Found Me'</li><li>'You Gave Me a Promise'</li><li>'You Get Me Through'</li><li>'You Go to Art School'</li><li>'You Got My Letter'</li><li>'You Gotta Be'</li><li>'You Gotta Bleed'</li><li>'You Have Goals'</li><li>'You Keep a Diary'</li><li>'You Kiss Like You\\'re Dead'</li><li>'You Learn'</li><li>'You Light Up My Life'</li><li>'You Live at Home With Your Mom'</li><li>'You Live in a Houseboat'</li><li>'You Look Adopted'</li><li>'You Look So Young'</li><li>'You Made This Fool Become A Man'</li><li>'You Make It Easy'</li><li>'You Make Me a Better Man'</li><li>'You Make Me Feel Like a Whore'</li><li>'You Make Me Wanna...'</li><li>'You Make Me Want to Be a Man'</li><li>'You Make the Rain Fall'</li><li>'You Mean The World To Me'</li><li>'You Must Be Out of Your Mind'</li><li>'You Never Know'</li><li>'You Never Let Go'</li><li>'You Oughta Know'</li><li>'You Own a Store'</li><li>'You Part the Waters'</li><li>'You Reign'</li><li>'You Remind Me Of Something'</li><li>'You Rock My World'</li><li>'You Said That Last Night'</li><li>'You Sang To Me'</li><li>'You Scare Me to Death'</li><li>'You Sell Cologne'</li><li>'You Still Believe in Me'</li><li>'You Still Shake Me'</li><li>'You Suck'</li><li>'You Suffer'</li><li>'You Took Me by Surprise'</li><li>'You Walked In'</li><li>'You Were So Far Away'</li><li>'You Were There'</li><li>'You Weren\\'t There'</li><li>'You Will Lose Faith'</li><li>'You Will Not Be Welcomed'</li><li>'You Won\\'t Make a Fool Out of Me'</li><li>'Young Alien Types'</li><li>'Young Believers'</li><li>'Young Dro'</li><li>'Young Forever'</li><li>'Young Man Nihilist'</li><li>'Young Thugs'</li><li>'Young Without Lovers'</li><li>'Your Baby Doesn\\'t Love You Anymore'</li><li>'Your Band\\'s in the Cut-Out Bin'</li><li>'Your Beloved Scapegoat'</li><li>'Your Best Friend Is You'</li><li>'Your Eyes'</li><li>'Your Favorite Thing'</li><li>'Your Guardian Angel'</li><li>'Your Heart Will Know'</li><li>'Your Kid Is Deformed'</li><li>'Your Last Song'</li><li>'Your Love Is King'</li><li>'Your Love Is My Drug'</li><li>'Your Mama Don\\'t Dance'</li><li>'Your Name'</li><li>'Your Own Private Love'</li><li>'Your Racist Friend'</li><li>'Your Reach'</li><li>'Your World'</li><li>'Yours'</li><li>'Yours Is No Disgrace'</li><li>'Yr Mangled Heart'</li><li>'Yung Joc'</li><li>'Zero the Controls'</li><li>'Zero Zero'</li><li>'Zodiac Lung'</li><li>'Zodijackyl Light'</li><li>'Zoetrope'</li><li>'Zooropa'</li><li>'Zumbi'</li></ol>\n",
       "</details>"
      ],
      "text/latex": [
       "Wanna Be Startin' Somethin'\n",
       "\\emph{Levels}: \\begin{enumerate*}\n",
       "\\item '\\textbackslash{}'03 Bonnie \\& Clyde'\n",
       "\\item '\\textbackslash{}'69'\n",
       "\\item '\\textbackslash{}'O Surdato \\textbackslash{}'Nnammurato'\n",
       "\\item '\\textbackslash{}'Til I Fell in Love with You'\n",
       "\\item '\\#1'\n",
       "\\item '(Hot S**t) Country Grammar'\n",
       "\\item '(Lay Your Head on My) Pillow'\n",
       "\\item '(No More) Paddy\\textbackslash{}'s Lament'\n",
       "\\item '(Our Love) Don\\textbackslash{}'t Throw it All Away'\n",
       "\\item '(She Was A) Hotel Detective'\n",
       "\\item '(Splash) Turn Twist'\n",
       "\\item '(The Roof Is) On Fire'\n",
       "\\item '(When You Gonna) Give It Up To Me'\n",
       "\\item '(You Drive Me) Crazy'\n",
       "\\item '...Baby One More Time'\n",
       "\\item '...Into the Light'\n",
       "\\item '.44 Magnum Opus'\n",
       "\\item '\\_„\\_'\n",
       "\\item '\\_„\\textbackslash{}215'\n",
       "\\item '‘\\textbackslash{}217Qu\\_ Creias?'\n",
       "\\item '‘\\textbackslash{}215Viva Vlad! '\n",
       "\\item '1-800 Clap Your Hands (The Water Is Rising)'\n",
       "\\item '1 Thing'\n",
       "\\item '10 Million Stars'\n",
       "\\item '10 Seconds Down'\n",
       "\\item '10 West'\n",
       "\\item '100 Cigarettes'\n",
       "\\item '100 Times Fuckeder'\n",
       "\\item '10th Street'\n",
       "\\item '11:11'\n",
       "\\item '11th Commandment'\n",
       "\\item '1348'\n",
       "\\item '14th Street'\n",
       "\\item '1984'\n",
       "\\item '1985'\n",
       "\\item '1990. A New Decade'\n",
       "\\item '1999'\n",
       "\\item '2 Become 1'\n",
       "\\item '2:00 Your Time'\n",
       "\\item '20 Miles to Texas 25 to Hell'\n",
       "\\item '20 More Miles'\n",
       "\\item '2005'\n",
       "\\item '21 Questions'\n",
       "\\item '24/7'\n",
       "\\item '25 to Life'\n",
       "\\item '2nd Look'\n",
       "\\item '2nd Sucks'\n",
       "\\item '3'\n",
       "\\item '3 A.M. Eternal'\n",
       "\\item '3 Month Weekend'\n",
       "\\item '3 Words'\n",
       "\\item '3000 Miles'\n",
       "\\item '311'\n",
       "\\item '321'\n",
       "\\item '33 RPM Soul'\n",
       "\\item '3OH!3'\n",
       "\\item '4 Minutes'\n",
       "\\item '4 Seasons Of Loneliness'\n",
       "\\item '4: 30 to Atlanta'\n",
       "\\item '42'\n",
       "\\item '5 6 3 (Joe)'\n",
       "\\item '50 Candles'\n",
       "\\item '5000'\n",
       "\\item '6 Minutes of Pleasure'\n",
       "\\item '60\\%'\n",
       "\\item '60\\% (Reprise)'\n",
       "\\item '68'\n",
       "\\item '7'\n",
       "\\item '7 Days'\n",
       "\\item '7 Things'\n",
       "\\item '808'\n",
       "\\item '81'\n",
       "\\item '90\\% of My Mind is With You'\n",
       "\\item '911'\n",
       "\\item '96 Tears'\n",
       "\\item 'A Bay Bay'\n",
       "\\item 'A Beautiful Thing'\n",
       "\\item 'A Brand New Song'\n",
       "\\item 'A Cool New Way'\n",
       "\\item 'A Daisy Through Concrete'\n",
       "\\item 'A Defeated Accomplishment'\n",
       "\\item 'A Dream'\n",
       "\\item 'A Dream\\textbackslash{}'s a Dream'\n",
       "\\item 'A Drop in Time'\n",
       "\\item 'A Few Good Rides Away'\n",
       "\\item 'A Final Warning'\n",
       "\\item 'A Gangster and a Gentleman'\n",
       "\\item 'A Good Idea'\n",
       "\\item 'A Great Fire'\n",
       "\\item 'A Hard Rain\\textbackslash{}'s a-Gonna Fall'\n",
       "\\item 'A Head with Wings'\n",
       "\\item 'A Jewel Traced Through Coal'\n",
       "\\item 'A Kiss Is Not a Contract'\n",
       "\\item 'A Letter to Elise'\n",
       "\\item 'A Life Less Ordinary'\n",
       "\\item 'A Little\\textbackslash{}'s Enough'\n",
       "\\item 'A Little Less Talk and a Lot More Action'\n",
       "\\item 'A Little More Personal'\n",
       "\\item 'A Little Piece of Heaven'\n",
       "\\item 'A Little Too Late'\n",
       "\\item 'A Little Want To'\n",
       "\\item 'A Little Word in Your Ear'\n",
       "\\item 'A Long and Sad Goodbye'\n",
       "\\item 'A Long Time Ago'\n",
       "\\item 'A Lot Like This'\n",
       "\\item 'A Love Eternal'\n",
       "\\item 'A Man and a Woman'\n",
       "\\item 'A Milli'\n",
       "\\item 'A Million Miles'\n",
       "\\item 'A Moment Like This'\n",
       "\\item 'A New Bot'\n",
       "\\item 'A New Day'\n",
       "\\item 'A New Door'\n",
       "\\item 'A Nighttime Project'\n",
       "\\item 'A Particularly Long Elevator Shaft'\n",
       "\\item 'A Pict Song'\n",
       "\\item 'A Postcard Would Be Nice'\n",
       "\\item 'A Public Affair'\n",
       "\\item 'A Real Clever Trick Fur a Bear'\n",
       "\\item 'A Reason'\n",
       "\\item 'A Ride Back Home'\n",
       "\\item 'A Room with a View'\n",
       "\\item 'A Self-made Man'\n",
       "\\item 'A Sight for Sore Eyes'\n",
       "\\item 'A Sign Far Beyond'\n",
       "\\item 'A Sip of Wine Chased with Cyanide'\n",
       "\\item 'A Skull Full of Maggots'\n",
       "\\item 'A Song for a Broken Heart'\n",
       "\\item 'A Song for Departure'\n",
       "\\item 'A Song For Mama'\n",
       "\\item 'A Song for Sleeping'\n",
       "\\item 'A Song for You'\n",
       "\\item 'A Song to Sing'\n",
       "\\item 'A Swim With the Sharks'\n",
       "\\item 'A Thousand Faces'\n",
       "\\item 'A Thousand Miles'\n",
       "\\item 'A Touch of Evil'\n",
       "\\item 'A Tyranny of Souls'\n",
       "\\item 'A Week in Juarez'\n",
       "\\item 'A Woman\\textbackslash{}'s Worth'\n",
       "\\item 'A Word From The Hon. Minister'\n",
       "\\item 'A.C.'\n",
       "\\item 'A.Y.M.'\n",
       "\\item 'Abduction'\n",
       "\\item 'About Me'\n",
       "\\item 'About to Break'\n",
       "\\item 'About to Die'\n",
       "\\item 'About You'\n",
       "\\item 'About Your Fame'\n",
       "\\item 'Absence of the Heart'\n",
       "\\item 'Absent Stars'\n",
       "\\item 'Absolutely (Story of a Girl)'\n",
       "\\item 'Absolutely (Story Of A Girl)'\n",
       "\\item 'Absolutely Perfect'\n",
       "\\item 'Absolutely Positively'\n",
       "\\item 'Accept My Sacrifice'\n",
       "\\item 'Accusations'\n",
       "\\item 'Aching For You'\n",
       "\\item 'Achy Breaky Heart'\n",
       "\\item 'Acoustic \\#3'\n",
       "\\item 'Action And Drama'\n",
       "\\item 'Add It Up'\n",
       "\\item 'Addictive'\n",
       "\\item 'Adia'\n",
       "\\item 'Adios'\n",
       "\\item 'Adrenaline'\n",
       "\\item 'Adventures In Paradise'\n",
       "\\item 'Aerodynamic'\n",
       "\\item 'Afroman'\n",
       "\\item 'After an Afternoon'\n",
       "\\item 'After Dark'\n",
       "\\item 'After It All'\n",
       "\\item 'After the Earthquake'\n",
       "\\item 'After The Love Has Gone'\n",
       "\\item 'After The Rain'\n",
       "\\item 'After the Thrill Is Gone'\n",
       "\\item 'Afterlife'\n",
       "\\item 'Aftermath'\n",
       "\\item 'Again'\n",
       "\\item 'Against the Wind'\n",
       "\\item 'Age of Gold'\n",
       "\\item 'Age of Innocence'\n",
       "\\item 'Agent Orange'\n",
       "\\item 'Agnus Dei'\n",
       "\\item 'Agony'\n",
       "\\item 'Ah Ha'\n",
       "\\item 'Ain\\textbackslash{}'t It Funny'\n",
       "\\item 'Ain\\textbackslash{}'t It Pretty'\n",
       "\\item 'Ain\\textbackslash{}'t No Good'\n",
       "\\item 'Ain\\textbackslash{}'t No Life'\n",
       "\\item 'Ain\\textbackslash{}'t No Other Man'\n",
       "\\item 'Ain\\textbackslash{}'t No Santa'\n",
       "\\item 'Ain\\textbackslash{}'t No Thang'\n",
       "\\item 'Ain\\textbackslash{}'t Nothing \\textbackslash{}'Bout You'\n",
       "\\item 'Ain\\textbackslash{}'t That Right'\n",
       "\\item 'Air Aid'\n",
       "\\item 'Air Force Ones'\n",
       "\\item 'Airplanes'\n",
       "\\item 'Airwaves'\n",
       "\\item 'Akon'\n",
       "\\item ⋯\n",
       "\\item 'Woe'\n",
       "\\item 'Wolves in Wolves\\textbackslash{}' Clothing'\n",
       "\\item 'Woman Don\\textbackslash{}'t You Cry for Me'\n",
       "\\item 'Womanizer'\n",
       "\\item 'Won\\textbackslash{}'t Back Down'\n",
       "\\item 'Won\\textbackslash{}'t Let Go'\n",
       "\\item 'Wonder'\n",
       "\\item 'Wonder \\textbackslash{}'Bout'\n",
       "\\item 'Wonder At'\n",
       "\\item 'Wonderful'\n",
       "\\item 'Wonderful Christmastime'\n",
       "\\item 'Wonderwall'\n",
       "\\item 'Wooden Bones'\n",
       "\\item 'Wooody Wooodpecker'\n",
       "\\item 'Word Up!'\n",
       "\\item 'Words of Spectacular'\n",
       "\\item 'Work Hard'\n",
       "\\item 'Work It'\n",
       "\\item 'Work It Out'\n",
       "\\item 'Worked It Out Wrong'\n",
       "\\item 'World Clique'\n",
       "\\item 'World Expiration'\n",
       "\\item 'World of Trouble'\n",
       "\\item 'Worth It'\n",
       "\\item 'Wouldn\\textbackslash{}'t It Be Nice'\n",
       "\\item 'Wound'\n",
       "\\item 'Wounded Sky'\n",
       "\\item 'Wrapped in Your Arms'\n",
       "\\item 'Wrecking Ball'\n",
       "\\item 'Written All Over My Face'\n",
       "\\item 'Written in the Stars'\n",
       "\\item 'Wrong About Bobby'\n",
       "\\item 'Wrong Side'\n",
       "\\item 'Wrong When You\\textbackslash{}'re Gone'\n",
       "\\item 'Wuz Up'\n",
       "\\item 'WWW Dot'\n",
       "\\item 'Wyclef Jean'\n",
       "\\item 'Xibir'\n",
       "\\item 'XOXOXO'\n",
       "\\item 'Xzibit'\n",
       "\\item 'Y.M.C.A.'\n",
       "\\item 'Ya Soshla s Uma'\n",
       "\\item 'Yahweh'\n",
       "\\item 'Yeah'\n",
       "\\item 'Yeah!'\n",
       "\\item 'Year One Now'\n",
       "\\item 'Year to the Day'\n",
       "\\item 'Yearning'\n",
       "\\item 'Yeh Yeh Yeh'\n",
       "\\item 'Yes Y\\textbackslash{}'All'\n",
       "\\item 'Yes Yes Y\\textbackslash{}'all'\n",
       "\\item 'Yesterday'\n",
       "\\item 'Yeti'\n",
       "\\item 'Yo (Excuse Me Miss)'\n",
       "\\item 'Yo George'\n",
       "\\item 'Yo Te Sigo Queriendo'\n",
       "\\item 'You'\n",
       "\\item 'You\\textbackslash{}'ll Be Fine'\n",
       "\\item 'You\\textbackslash{}'ll Get Yours'\n",
       "\\item 'You\\textbackslash{}'ll Never Find Another Love Like Mine'\n",
       "\\item 'You\\textbackslash{}'ll See'\n",
       "\\item 'You\\textbackslash{}'re a Cop'\n",
       "\\item 'You\\textbackslash{}'re a Fucking Bastard'\n",
       "\\item 'You\\textbackslash{}'re Beautiful'\n",
       "\\item 'You\\textbackslash{}'re Crazy'\n",
       "\\item 'You\\textbackslash{}'re Gay'\n",
       "\\item 'You\\textbackslash{}'re Gonna Miss Me When I\\textbackslash{}'m Gone'\n",
       "\\item 'You\\textbackslash{}'re in a Coma'\n",
       "\\item 'You\\textbackslash{}'re Lovin\\textbackslash{}' Me to Death'\n",
       "\\item 'You\\textbackslash{}'re Mine'\n",
       "\\item 'You\\textbackslash{}'re My Queen'\n",
       "\\item 'You\\textbackslash{}'re Never Over'\n",
       "\\item 'You\\textbackslash{}'re Not Home Tonight'\n",
       "\\item 'You\\textbackslash{}'re Old (Fuck You)'\n",
       "\\item 'You\\textbackslash{}'re So Vain'\n",
       "\\item 'You\\textbackslash{}'re Still Here'\n",
       "\\item 'You\\textbackslash{}'re Still The One'\n",
       "\\item 'You\\textbackslash{}'re the One'\n",
       "\\item 'You\\textbackslash{}'re The One'\n",
       "\\item 'You\\textbackslash{}'re Welcome'\n",
       "\\item 'You\\textbackslash{}'ve Been Had (Machine)'\n",
       "\\item 'You\\textbackslash{}'ve Got a Friend in Me'\n",
       "\\item 'You\\textbackslash{}'ve Got Cancer'\n",
       "\\item 'You\\textbackslash{}'ve Got No Friends'\n",
       "\\item 'You \\& Eye'\n",
       "\\item 'You (Fill In the Blank)'\n",
       "\\item 'You Ain\\textbackslash{}'t the First'\n",
       "\\item 'You All Dat'\n",
       "\\item 'You Always Said My Language Would Get Me into Trouble'\n",
       "\\item 'You and I Both'\n",
       "\\item 'You and I Will Meet Again'\n",
       "\\item 'You and Me'\n",
       "\\item 'You And Me'\n",
       "\\item 'You and the Mona Lisa'\n",
       "\\item 'You Are a Food Critic'\n",
       "\\item 'You Are Amazing'\n",
       "\\item 'You Are an Interior Decorator'\n",
       "\\item 'You Are an Orphan'\n",
       "\\item 'You Are Not Alone'\n",
       "\\item 'You Are The Antithesis'\n",
       "\\item 'You Are the One'\n",
       "\\item 'You Belong With Me'\n",
       "\\item 'You Can\\textbackslash{}'t Bring Me Down'\n",
       "\\item 'You Can\\textbackslash{}'t Buy Back the Dead'\n",
       "\\item 'You Can\\textbackslash{}'t Shut Up'\n",
       "\\item 'You Can\\textbackslash{}'t Take the Honky Tonk Out of the Girl'\n",
       "\\item 'You Can Bring Your Dog'\n",
       "\\item 'You Can Demand'\n",
       "\\item 'You Can Get It'\n",
       "\\item 'You Can Have It All'\n",
       "\\item 'You Can Pick \\textbackslash{}'Em'\n",
       "\\item 'You Don\\textbackslash{}'t Care Nothin\\textbackslash{}''\n",
       "\\item 'You Don\\textbackslash{}'t Have to Be a Prostitute'\n",
       "\\item 'You Don\\textbackslash{}'t Know My Name'\n",
       "\\item 'You Don\\textbackslash{}'t Know What\\textbackslash{}'s Coming'\n",
       "\\item 'You Found Me'\n",
       "\\item 'You Gave Me a Promise'\n",
       "\\item 'You Get Me Through'\n",
       "\\item 'You Go to Art School'\n",
       "\\item 'You Got My Letter'\n",
       "\\item 'You Gotta Be'\n",
       "\\item 'You Gotta Bleed'\n",
       "\\item 'You Have Goals'\n",
       "\\item 'You Keep a Diary'\n",
       "\\item 'You Kiss Like You\\textbackslash{}'re Dead'\n",
       "\\item 'You Learn'\n",
       "\\item 'You Light Up My Life'\n",
       "\\item 'You Live at Home With Your Mom'\n",
       "\\item 'You Live in a Houseboat'\n",
       "\\item 'You Look Adopted'\n",
       "\\item 'You Look So Young'\n",
       "\\item 'You Made This Fool Become A Man'\n",
       "\\item 'You Make It Easy'\n",
       "\\item 'You Make Me a Better Man'\n",
       "\\item 'You Make Me Feel Like a Whore'\n",
       "\\item 'You Make Me Wanna...'\n",
       "\\item 'You Make Me Want to Be a Man'\n",
       "\\item 'You Make the Rain Fall'\n",
       "\\item 'You Mean The World To Me'\n",
       "\\item 'You Must Be Out of Your Mind'\n",
       "\\item 'You Never Know'\n",
       "\\item 'You Never Let Go'\n",
       "\\item 'You Oughta Know'\n",
       "\\item 'You Own a Store'\n",
       "\\item 'You Part the Waters'\n",
       "\\item 'You Reign'\n",
       "\\item 'You Remind Me Of Something'\n",
       "\\item 'You Rock My World'\n",
       "\\item 'You Said That Last Night'\n",
       "\\item 'You Sang To Me'\n",
       "\\item 'You Scare Me to Death'\n",
       "\\item 'You Sell Cologne'\n",
       "\\item 'You Still Believe in Me'\n",
       "\\item 'You Still Shake Me'\n",
       "\\item 'You Suck'\n",
       "\\item 'You Suffer'\n",
       "\\item 'You Took Me by Surprise'\n",
       "\\item 'You Walked In'\n",
       "\\item 'You Were So Far Away'\n",
       "\\item 'You Were There'\n",
       "\\item 'You Weren\\textbackslash{}'t There'\n",
       "\\item 'You Will Lose Faith'\n",
       "\\item 'You Will Not Be Welcomed'\n",
       "\\item 'You Won\\textbackslash{}'t Make a Fool Out of Me'\n",
       "\\item 'Young Alien Types'\n",
       "\\item 'Young Believers'\n",
       "\\item 'Young Dro'\n",
       "\\item 'Young Forever'\n",
       "\\item 'Young Man Nihilist'\n",
       "\\item 'Young Thugs'\n",
       "\\item 'Young Without Lovers'\n",
       "\\item 'Your Baby Doesn\\textbackslash{}'t Love You Anymore'\n",
       "\\item 'Your Band\\textbackslash{}'s in the Cut-Out Bin'\n",
       "\\item 'Your Beloved Scapegoat'\n",
       "\\item 'Your Best Friend Is You'\n",
       "\\item 'Your Eyes'\n",
       "\\item 'Your Favorite Thing'\n",
       "\\item 'Your Guardian Angel'\n",
       "\\item 'Your Heart Will Know'\n",
       "\\item 'Your Kid Is Deformed'\n",
       "\\item 'Your Last Song'\n",
       "\\item 'Your Love Is King'\n",
       "\\item 'Your Love Is My Drug'\n",
       "\\item 'Your Mama Don\\textbackslash{}'t Dance'\n",
       "\\item 'Your Name'\n",
       "\\item 'Your Own Private Love'\n",
       "\\item 'Your Racist Friend'\n",
       "\\item 'Your Reach'\n",
       "\\item 'Your World'\n",
       "\\item 'Yours'\n",
       "\\item 'Yours Is No Disgrace'\n",
       "\\item 'Yr Mangled Heart'\n",
       "\\item 'Yung Joc'\n",
       "\\item 'Zero the Controls'\n",
       "\\item 'Zero Zero'\n",
       "\\item 'Zodiac Lung'\n",
       "\\item 'Zodijackyl Light'\n",
       "\\item 'Zoetrope'\n",
       "\\item 'Zooropa'\n",
       "\\item 'Zumbi'\n",
       "\\end{enumerate*}\n"
      ],
      "text/markdown": [
       "Wanna Be Startin' Somethin'\n",
       "**Levels**: 1. '\\'03 Bonnie &amp; Clyde'\n",
       "2. '\\'69'\n",
       "3. '\\'O Surdato \\'Nnammurato'\n",
       "4. '\\'Til I Fell in Love with You'\n",
       "5. '#1'\n",
       "6. '(Hot S**t) Country Grammar'\n",
       "7. '(Lay Your Head on My) Pillow'\n",
       "8. '(No More) Paddy\\'s Lament'\n",
       "9. '(Our Love) Don\\'t Throw it All Away'\n",
       "10. '(She Was A) Hotel Detective'\n",
       "11. '(Splash) Turn Twist'\n",
       "12. '(The Roof Is) On Fire'\n",
       "13. '(When You Gonna) Give It Up To Me'\n",
       "14. '(You Drive Me) Crazy'\n",
       "15. '...Baby One More Time'\n",
       "16. '...Into the Light'\n",
       "17. '.44 Magnum Opus'\n",
       "18. '_„_'\n",
       "19. '_„\\215'\n",
       "20. '‘\\217Qu_ Creias?'\n",
       "21. '‘\\215Viva Vlad! '\n",
       "22. '1-800 Clap Your Hands (The Water Is Rising)'\n",
       "23. '1 Thing'\n",
       "24. '10 Million Stars'\n",
       "25. '10 Seconds Down'\n",
       "26. '10 West'\n",
       "27. '100 Cigarettes'\n",
       "28. '100 Times Fuckeder'\n",
       "29. '10th Street'\n",
       "30. '11:11'\n",
       "31. '11th Commandment'\n",
       "32. '1348'\n",
       "33. '14th Street'\n",
       "34. '1984'\n",
       "35. '1985'\n",
       "36. '1990. A New Decade'\n",
       "37. '1999'\n",
       "38. '2 Become 1'\n",
       "39. '2:00 Your Time'\n",
       "40. '20 Miles to Texas 25 to Hell'\n",
       "41. '20 More Miles'\n",
       "42. '2005'\n",
       "43. '21 Questions'\n",
       "44. '24/7'\n",
       "45. '25 to Life'\n",
       "46. '2nd Look'\n",
       "47. '2nd Sucks'\n",
       "48. '3'\n",
       "49. '3 A.M. Eternal'\n",
       "50. '3 Month Weekend'\n",
       "51. '3 Words'\n",
       "52. '3000 Miles'\n",
       "53. '311'\n",
       "54. '321'\n",
       "55. '33 RPM Soul'\n",
       "56. '3OH!3'\n",
       "57. '4 Minutes'\n",
       "58. '4 Seasons Of Loneliness'\n",
       "59. '4: 30 to Atlanta'\n",
       "60. '42'\n",
       "61. '5 6 3 (Joe)'\n",
       "62. '50 Candles'\n",
       "63. '5000'\n",
       "64. '6 Minutes of Pleasure'\n",
       "65. '60%'\n",
       "66. '60% (Reprise)'\n",
       "67. '68'\n",
       "68. '7'\n",
       "69. '7 Days'\n",
       "70. '7 Things'\n",
       "71. '808'\n",
       "72. '81'\n",
       "73. '90% of My Mind is With You'\n",
       "74. '911'\n",
       "75. '96 Tears'\n",
       "76. 'A Bay Bay'\n",
       "77. 'A Beautiful Thing'\n",
       "78. 'A Brand New Song'\n",
       "79. 'A Cool New Way'\n",
       "80. 'A Daisy Through Concrete'\n",
       "81. 'A Defeated Accomplishment'\n",
       "82. 'A Dream'\n",
       "83. 'A Dream\\'s a Dream'\n",
       "84. 'A Drop in Time'\n",
       "85. 'A Few Good Rides Away'\n",
       "86. 'A Final Warning'\n",
       "87. 'A Gangster and a Gentleman'\n",
       "88. 'A Good Idea'\n",
       "89. 'A Great Fire'\n",
       "90. 'A Hard Rain\\'s a-Gonna Fall'\n",
       "91. 'A Head with Wings'\n",
       "92. 'A Jewel Traced Through Coal'\n",
       "93. 'A Kiss Is Not a Contract'\n",
       "94. 'A Letter to Elise'\n",
       "95. 'A Life Less Ordinary'\n",
       "96. 'A Little\\'s Enough'\n",
       "97. 'A Little Less Talk and a Lot More Action'\n",
       "98. 'A Little More Personal'\n",
       "99. 'A Little Piece of Heaven'\n",
       "100. 'A Little Too Late'\n",
       "101. 'A Little Want To'\n",
       "102. 'A Little Word in Your Ear'\n",
       "103. 'A Long and Sad Goodbye'\n",
       "104. 'A Long Time Ago'\n",
       "105. 'A Lot Like This'\n",
       "106. 'A Love Eternal'\n",
       "107. 'A Man and a Woman'\n",
       "108. 'A Milli'\n",
       "109. 'A Million Miles'\n",
       "110. 'A Moment Like This'\n",
       "111. 'A New Bot'\n",
       "112. 'A New Day'\n",
       "113. 'A New Door'\n",
       "114. 'A Nighttime Project'\n",
       "115. 'A Particularly Long Elevator Shaft'\n",
       "116. 'A Pict Song'\n",
       "117. 'A Postcard Would Be Nice'\n",
       "118. 'A Public Affair'\n",
       "119. 'A Real Clever Trick Fur a Bear'\n",
       "120. 'A Reason'\n",
       "121. 'A Ride Back Home'\n",
       "122. 'A Room with a View'\n",
       "123. 'A Self-made Man'\n",
       "124. 'A Sight for Sore Eyes'\n",
       "125. 'A Sign Far Beyond'\n",
       "126. 'A Sip of Wine Chased with Cyanide'\n",
       "127. 'A Skull Full of Maggots'\n",
       "128. 'A Song for a Broken Heart'\n",
       "129. 'A Song for Departure'\n",
       "130. 'A Song For Mama'\n",
       "131. 'A Song for Sleeping'\n",
       "132. 'A Song for You'\n",
       "133. 'A Song to Sing'\n",
       "134. 'A Swim With the Sharks'\n",
       "135. 'A Thousand Faces'\n",
       "136. 'A Thousand Miles'\n",
       "137. 'A Touch of Evil'\n",
       "138. 'A Tyranny of Souls'\n",
       "139. 'A Week in Juarez'\n",
       "140. 'A Woman\\'s Worth'\n",
       "141. 'A Word From The Hon. Minister'\n",
       "142. 'A.C.'\n",
       "143. 'A.Y.M.'\n",
       "144. 'Abduction'\n",
       "145. 'About Me'\n",
       "146. 'About to Break'\n",
       "147. 'About to Die'\n",
       "148. 'About You'\n",
       "149. 'About Your Fame'\n",
       "150. 'Absence of the Heart'\n",
       "151. 'Absent Stars'\n",
       "152. 'Absolutely (Story of a Girl)'\n",
       "153. 'Absolutely (Story Of A Girl)'\n",
       "154. 'Absolutely Perfect'\n",
       "155. 'Absolutely Positively'\n",
       "156. 'Accept My Sacrifice'\n",
       "157. 'Accusations'\n",
       "158. 'Aching For You'\n",
       "159. 'Achy Breaky Heart'\n",
       "160. 'Acoustic #3'\n",
       "161. 'Action And Drama'\n",
       "162. 'Add It Up'\n",
       "163. 'Addictive'\n",
       "164. 'Adia'\n",
       "165. 'Adios'\n",
       "166. 'Adrenaline'\n",
       "167. 'Adventures In Paradise'\n",
       "168. 'Aerodynamic'\n",
       "169. 'Afroman'\n",
       "170. 'After an Afternoon'\n",
       "171. 'After Dark'\n",
       "172. 'After It All'\n",
       "173. 'After the Earthquake'\n",
       "174. 'After The Love Has Gone'\n",
       "175. 'After The Rain'\n",
       "176. 'After the Thrill Is Gone'\n",
       "177. 'Afterlife'\n",
       "178. 'Aftermath'\n",
       "179. 'Again'\n",
       "180. 'Against the Wind'\n",
       "181. 'Age of Gold'\n",
       "182. 'Age of Innocence'\n",
       "183. 'Agent Orange'\n",
       "184. 'Agnus Dei'\n",
       "185. 'Agony'\n",
       "186. 'Ah Ha'\n",
       "187. 'Ain\\'t It Funny'\n",
       "188. 'Ain\\'t It Pretty'\n",
       "189. 'Ain\\'t No Good'\n",
       "190. 'Ain\\'t No Life'\n",
       "191. 'Ain\\'t No Other Man'\n",
       "192. 'Ain\\'t No Santa'\n",
       "193. 'Ain\\'t No Thang'\n",
       "194. 'Ain\\'t Nothing \\'Bout You'\n",
       "195. 'Ain\\'t That Right'\n",
       "196. 'Air Aid'\n",
       "197. 'Air Force Ones'\n",
       "198. 'Airplanes'\n",
       "199. 'Airwaves'\n",
       "200. 'Akon'\n",
       "201. ⋯\n",
       "202. 'Woe'\n",
       "203. 'Wolves in Wolves\\' Clothing'\n",
       "204. 'Woman Don\\'t You Cry for Me'\n",
       "205. 'Womanizer'\n",
       "206. 'Won\\'t Back Down'\n",
       "207. 'Won\\'t Let Go'\n",
       "208. 'Wonder'\n",
       "209. 'Wonder \\'Bout'\n",
       "210. 'Wonder At'\n",
       "211. 'Wonderful'\n",
       "212. 'Wonderful Christmastime'\n",
       "213. 'Wonderwall'\n",
       "214. 'Wooden Bones'\n",
       "215. 'Wooody Wooodpecker'\n",
       "216. 'Word Up!'\n",
       "217. 'Words of Spectacular'\n",
       "218. 'Work Hard'\n",
       "219. 'Work It'\n",
       "220. 'Work It Out'\n",
       "221. 'Worked It Out Wrong'\n",
       "222. 'World Clique'\n",
       "223. 'World Expiration'\n",
       "224. 'World of Trouble'\n",
       "225. 'Worth It'\n",
       "226. 'Wouldn\\'t It Be Nice'\n",
       "227. 'Wound'\n",
       "228. 'Wounded Sky'\n",
       "229. 'Wrapped in Your Arms'\n",
       "230. 'Wrecking Ball'\n",
       "231. 'Written All Over My Face'\n",
       "232. 'Written in the Stars'\n",
       "233. 'Wrong About Bobby'\n",
       "234. 'Wrong Side'\n",
       "235. 'Wrong When You\\'re Gone'\n",
       "236. 'Wuz Up'\n",
       "237. 'WWW Dot'\n",
       "238. 'Wyclef Jean'\n",
       "239. 'Xibir'\n",
       "240. 'XOXOXO'\n",
       "241. 'Xzibit'\n",
       "242. 'Y.M.C.A.'\n",
       "243. 'Ya Soshla s Uma'\n",
       "244. 'Yahweh'\n",
       "245. 'Yeah'\n",
       "246. 'Yeah!'\n",
       "247. 'Year One Now'\n",
       "248. 'Year to the Day'\n",
       "249. 'Yearning'\n",
       "250. 'Yeh Yeh Yeh'\n",
       "251. 'Yes Y\\'All'\n",
       "252. 'Yes Yes Y\\'all'\n",
       "253. 'Yesterday'\n",
       "254. 'Yeti'\n",
       "255. 'Yo (Excuse Me Miss)'\n",
       "256. 'Yo George'\n",
       "257. 'Yo Te Sigo Queriendo'\n",
       "258. 'You'\n",
       "259. 'You\\'ll Be Fine'\n",
       "260. 'You\\'ll Get Yours'\n",
       "261. 'You\\'ll Never Find Another Love Like Mine'\n",
       "262. 'You\\'ll See'\n",
       "263. 'You\\'re a Cop'\n",
       "264. 'You\\'re a Fucking Bastard'\n",
       "265. 'You\\'re Beautiful'\n",
       "266. 'You\\'re Crazy'\n",
       "267. 'You\\'re Gay'\n",
       "268. 'You\\'re Gonna Miss Me When I\\'m Gone'\n",
       "269. 'You\\'re in a Coma'\n",
       "270. 'You\\'re Lovin\\' Me to Death'\n",
       "271. 'You\\'re Mine'\n",
       "272. 'You\\'re My Queen'\n",
       "273. 'You\\'re Never Over'\n",
       "274. 'You\\'re Not Home Tonight'\n",
       "275. 'You\\'re Old (Fuck You)'\n",
       "276. 'You\\'re So Vain'\n",
       "277. 'You\\'re Still Here'\n",
       "278. 'You\\'re Still The One'\n",
       "279. 'You\\'re the One'\n",
       "280. 'You\\'re The One'\n",
       "281. 'You\\'re Welcome'\n",
       "282. 'You\\'ve Been Had (Machine)'\n",
       "283. 'You\\'ve Got a Friend in Me'\n",
       "284. 'You\\'ve Got Cancer'\n",
       "285. 'You\\'ve Got No Friends'\n",
       "286. 'You &amp; Eye'\n",
       "287. 'You (Fill In the Blank)'\n",
       "288. 'You Ain\\'t the First'\n",
       "289. 'You All Dat'\n",
       "290. 'You Always Said My Language Would Get Me into Trouble'\n",
       "291. 'You and I Both'\n",
       "292. 'You and I Will Meet Again'\n",
       "293. 'You and Me'\n",
       "294. 'You And Me'\n",
       "295. 'You and the Mona Lisa'\n",
       "296. 'You Are a Food Critic'\n",
       "297. 'You Are Amazing'\n",
       "298. 'You Are an Interior Decorator'\n",
       "299. 'You Are an Orphan'\n",
       "300. 'You Are Not Alone'\n",
       "301. 'You Are The Antithesis'\n",
       "302. 'You Are the One'\n",
       "303. 'You Belong With Me'\n",
       "304. 'You Can\\'t Bring Me Down'\n",
       "305. 'You Can\\'t Buy Back the Dead'\n",
       "306. 'You Can\\'t Shut Up'\n",
       "307. 'You Can\\'t Take the Honky Tonk Out of the Girl'\n",
       "308. 'You Can Bring Your Dog'\n",
       "309. 'You Can Demand'\n",
       "310. 'You Can Get It'\n",
       "311. 'You Can Have It All'\n",
       "312. 'You Can Pick \\'Em'\n",
       "313. 'You Don\\'t Care Nothin\\''\n",
       "314. 'You Don\\'t Have to Be a Prostitute'\n",
       "315. 'You Don\\'t Know My Name'\n",
       "316. 'You Don\\'t Know What\\'s Coming'\n",
       "317. 'You Found Me'\n",
       "318. 'You Gave Me a Promise'\n",
       "319. 'You Get Me Through'\n",
       "320. 'You Go to Art School'\n",
       "321. 'You Got My Letter'\n",
       "322. 'You Gotta Be'\n",
       "323. 'You Gotta Bleed'\n",
       "324. 'You Have Goals'\n",
       "325. 'You Keep a Diary'\n",
       "326. 'You Kiss Like You\\'re Dead'\n",
       "327. 'You Learn'\n",
       "328. 'You Light Up My Life'\n",
       "329. 'You Live at Home With Your Mom'\n",
       "330. 'You Live in a Houseboat'\n",
       "331. 'You Look Adopted'\n",
       "332. 'You Look So Young'\n",
       "333. 'You Made This Fool Become A Man'\n",
       "334. 'You Make It Easy'\n",
       "335. 'You Make Me a Better Man'\n",
       "336. 'You Make Me Feel Like a Whore'\n",
       "337. 'You Make Me Wanna...'\n",
       "338. 'You Make Me Want to Be a Man'\n",
       "339. 'You Make the Rain Fall'\n",
       "340. 'You Mean The World To Me'\n",
       "341. 'You Must Be Out of Your Mind'\n",
       "342. 'You Never Know'\n",
       "343. 'You Never Let Go'\n",
       "344. 'You Oughta Know'\n",
       "345. 'You Own a Store'\n",
       "346. 'You Part the Waters'\n",
       "347. 'You Reign'\n",
       "348. 'You Remind Me Of Something'\n",
       "349. 'You Rock My World'\n",
       "350. 'You Said That Last Night'\n",
       "351. 'You Sang To Me'\n",
       "352. 'You Scare Me to Death'\n",
       "353. 'You Sell Cologne'\n",
       "354. 'You Still Believe in Me'\n",
       "355. 'You Still Shake Me'\n",
       "356. 'You Suck'\n",
       "357. 'You Suffer'\n",
       "358. 'You Took Me by Surprise'\n",
       "359. 'You Walked In'\n",
       "360. 'You Were So Far Away'\n",
       "361. 'You Were There'\n",
       "362. 'You Weren\\'t There'\n",
       "363. 'You Will Lose Faith'\n",
       "364. 'You Will Not Be Welcomed'\n",
       "365. 'You Won\\'t Make a Fool Out of Me'\n",
       "366. 'Young Alien Types'\n",
       "367. 'Young Believers'\n",
       "368. 'Young Dro'\n",
       "369. 'Young Forever'\n",
       "370. 'Young Man Nihilist'\n",
       "371. 'Young Thugs'\n",
       "372. 'Young Without Lovers'\n",
       "373. 'Your Baby Doesn\\'t Love You Anymore'\n",
       "374. 'Your Band\\'s in the Cut-Out Bin'\n",
       "375. 'Your Beloved Scapegoat'\n",
       "376. 'Your Best Friend Is You'\n",
       "377. 'Your Eyes'\n",
       "378. 'Your Favorite Thing'\n",
       "379. 'Your Guardian Angel'\n",
       "380. 'Your Heart Will Know'\n",
       "381. 'Your Kid Is Deformed'\n",
       "382. 'Your Last Song'\n",
       "383. 'Your Love Is King'\n",
       "384. 'Your Love Is My Drug'\n",
       "385. 'Your Mama Don\\'t Dance'\n",
       "386. 'Your Name'\n",
       "387. 'Your Own Private Love'\n",
       "388. 'Your Racist Friend'\n",
       "389. 'Your Reach'\n",
       "390. 'Your World'\n",
       "391. 'Yours'\n",
       "392. 'Yours Is No Disgrace'\n",
       "393. 'Yr Mangled Heart'\n",
       "394. 'Yung Joc'\n",
       "395. 'Zero the Controls'\n",
       "396. 'Zero Zero'\n",
       "397. 'Zodiac Lung'\n",
       "398. 'Zodijackyl Light'\n",
       "399. 'Zoetrope'\n",
       "400. 'Zooropa'\n",
       "401. 'Zumbi'\n",
       "\n",
       "\n"
      ],
      "text/plain": [
       "[1] Wanna Be Startin' Somethin'\n",
       "7141 Levels: '03 Bonnie & Clyde '69 ... Zumbi"
      ]
     },
     "metadata": {},
     "output_type": "display_data"
    }
   ],
   "source": [
    "songs$songtitle[which.max(songs$tempo)]"
   ]
  },
  {
   "cell_type": "markdown",
   "metadata": {},
   "source": [
    "### Problem 2.1 - Creating Our Prediction Model\n",
    "\n",
    "We wish to predict whether or not a song will make it to the Top 10. To do this, first use the subset function to split the data into a training set \"SongsTrain\" consisting of all the observations up to and including 2009 song releases, and a testing set \"SongsTest\", consisting of the 2010 song releases."
   ]
  },
  {
   "cell_type": "code",
   "execution_count": 14,
   "metadata": {},
   "outputs": [],
   "source": [
    "SongsTrain <- subset(songs, year<=2009)\n",
    "SongsTest <- subset(songs, year>2009)"
   ]
  },
  {
   "cell_type": "markdown",
   "metadata": {},
   "source": [
    "**How many observations (songs) are in the training set?**"
   ]
  },
  {
   "cell_type": "code",
   "execution_count": 15,
   "metadata": {},
   "outputs": [
    {
     "data": {
      "text/html": [
       "7201"
      ],
      "text/latex": [
       "7201"
      ],
      "text/markdown": [
       "7201"
      ],
      "text/plain": [
       "[1] 7201"
      ]
     },
     "metadata": {},
     "output_type": "display_data"
    }
   ],
   "source": [
    "nrow(SongsTrain)"
   ]
  },
  {
   "cell_type": "markdown",
   "metadata": {},
   "source": [
    "7201 songs are in the training set."
   ]
  },
  {
   "cell_type": "markdown",
   "metadata": {},
   "source": [
    "### Problem 2.2 - Creating our Prediction Model\n",
    "\n",
    "In this problem, our outcome variable is \"Top10\" - we are trying to predict whether or not a song will make it to the Top 10 of the Billboard Hot 100 Chart. Since the outcome variable is binary, we will build a logistic regression model. We'll start by using all song attributes as our independent variables, which we'll call Model 1.\n",
    "\n",
    "We will only use the variables in our dataset that describe the numerical attributes of the song in our logistic regression model. So we won't use the variables \"year\", \"songtitle\", \"artistname\", \"songID\" or \"artistID\".\n",
    "\n",
    "We have seen in the lecture that, to build the logistic regression model, we would normally explicitly input the formula including all the independent variables in R. However, in this case, this is a tedious amount of work since we have a large number of independent variables.\n",
    "\n",
    "There is a nice trick to avoid doing so. Let's suppose that, except for the outcome variable Top10, all other variables in the training set are inputs to Model 1. Then, we can use the formula\n",
    "\n",
    "    SongsLog1 = glm(Top10 ~ ., data=SongsTrain, family=binomial)\n",
    "\n",
    "to build our model. Notice that the \".\" is used in place of enumerating all the independent variables. (Also, keep in mind that you can choose to put quotes around binomial, or leave out the quotes. R can understand this argument either way.)\n",
    "\n",
    "However, in our case, we want to exclude some of the variables in our dataset from being used as independent variables (\"year\", \"songtitle\", \"artistname\", \"songID\", and \"artistID\"). To do this, we can use the following trick. First define a vector of variable names called nonvars - these are the variables that we won't use in our model.\n",
    "\n",
    "    nonvars = c(\"year\", \"songtitle\", \"artistname\", \"songID\", \"artistID\")\n",
    "\n",
    "To remove these variables from your training and testing sets, type the following commands in your R console:\n",
    "\n",
    "    SongsTrain = SongsTrain[ , !(names(SongsTrain) %in% nonvars) ]\n",
    "\n",
    "    SongsTest = SongsTest[ , !(names(SongsTest) %in% nonvars) ]\n",
    "\n",
    "Now, use the glm function to build a logistic regression model to predict Top10 using all of the other variables as the independent variables. You should use SongsTrain to build the model."
   ]
  },
  {
   "cell_type": "code",
   "execution_count": 16,
   "metadata": {},
   "outputs": [],
   "source": [
    "nonvars = c(\"year\", \"songtitle\", \"artistname\", \"songID\", \"artistID\")\n",
    "\n",
    "SongsTrain = SongsTrain[ , !(names(SongsTrain) %in% nonvars) ]\n",
    "\n",
    "SongsTest = SongsTest[ , !(names(SongsTest) %in% nonvars) ]"
   ]
  },
  {
   "cell_type": "code",
   "execution_count": 17,
   "metadata": {},
   "outputs": [
    {
     "data": {
      "text/plain": [
       "\n",
       "Call:\n",
       "glm(formula = Top10 ~ ., family = binomial, data = SongsTrain)\n",
       "\n",
       "Deviance Residuals: \n",
       "    Min       1Q   Median       3Q      Max  \n",
       "-1.9220  -0.5399  -0.3459  -0.1845   3.0770  \n",
       "\n",
       "Coefficients:\n",
       "                           Estimate Std. Error z value Pr(>|z|)    \n",
       "(Intercept)               1.470e+01  1.806e+00   8.138 4.03e-16 ***\n",
       "timesignature             1.264e-01  8.674e-02   1.457 0.145050    \n",
       "timesignature_confidence  7.450e-01  1.953e-01   3.815 0.000136 ***\n",
       "loudness                  2.999e-01  2.917e-02  10.282  < 2e-16 ***\n",
       "tempo                     3.634e-04  1.691e-03   0.215 0.829889    \n",
       "tempo_confidence          4.732e-01  1.422e-01   3.329 0.000873 ***\n",
       "key                       1.588e-02  1.039e-02   1.529 0.126349    \n",
       "key_confidence            3.087e-01  1.412e-01   2.187 0.028760 *  \n",
       "energy                   -1.502e+00  3.099e-01  -4.847 1.25e-06 ***\n",
       "pitch                    -4.491e+01  6.835e+00  -6.570 5.02e-11 ***\n",
       "timbre_0_min              2.316e-02  4.256e-03   5.441 5.29e-08 ***\n",
       "timbre_0_max             -3.310e-01  2.569e-02 -12.882  < 2e-16 ***\n",
       "timbre_1_min              5.881e-03  7.798e-04   7.542 4.64e-14 ***\n",
       "timbre_1_max             -2.449e-04  7.152e-04  -0.342 0.732087    \n",
       "timbre_2_min             -2.127e-03  1.126e-03  -1.889 0.058843 .  \n",
       "timbre_2_max              6.586e-04  9.066e-04   0.726 0.467571    \n",
       "timbre_3_min              6.920e-04  5.985e-04   1.156 0.247583    \n",
       "timbre_3_max             -2.967e-03  5.815e-04  -5.103 3.34e-07 ***\n",
       "timbre_4_min              1.040e-02  1.985e-03   5.237 1.63e-07 ***\n",
       "timbre_4_max              6.110e-03  1.550e-03   3.942 8.10e-05 ***\n",
       "timbre_5_min             -5.598e-03  1.277e-03  -4.385 1.16e-05 ***\n",
       "timbre_5_max              7.736e-05  7.935e-04   0.097 0.922337    \n",
       "timbre_6_min             -1.686e-02  2.264e-03  -7.445 9.66e-14 ***\n",
       "timbre_6_max              3.668e-03  2.190e-03   1.675 0.093875 .  \n",
       "timbre_7_min             -4.549e-03  1.781e-03  -2.554 0.010661 *  \n",
       "timbre_7_max             -3.774e-03  1.832e-03  -2.060 0.039408 *  \n",
       "timbre_8_min              3.911e-03  2.851e-03   1.372 0.170123    \n",
       "timbre_8_max              4.011e-03  3.003e-03   1.336 0.181620    \n",
       "timbre_9_min              1.367e-03  2.998e-03   0.456 0.648356    \n",
       "timbre_9_max              1.603e-03  2.434e-03   0.659 0.510188    \n",
       "timbre_10_min             4.126e-03  1.839e-03   2.244 0.024852 *  \n",
       "timbre_10_max             5.825e-03  1.769e-03   3.292 0.000995 ***\n",
       "timbre_11_min            -2.625e-02  3.693e-03  -7.108 1.18e-12 ***\n",
       "timbre_11_max             1.967e-02  3.385e-03   5.811 6.21e-09 ***\n",
       "---\n",
       "Signif. codes:  0 '***' 0.001 '**' 0.01 '*' 0.05 '.' 0.1 ' ' 1\n",
       "\n",
       "(Dispersion parameter for binomial family taken to be 1)\n",
       "\n",
       "    Null deviance: 6017.5  on 7200  degrees of freedom\n",
       "Residual deviance: 4759.2  on 7167  degrees of freedom\n",
       "AIC: 4827.2\n",
       "\n",
       "Number of Fisher Scoring iterations: 6\n"
      ]
     },
     "metadata": {},
     "output_type": "display_data"
    }
   ],
   "source": [
    "SongsLog1 = glm(Top10 ~ ., data=SongsTrain, family=binomial)\n",
    "summary(SongsLog1)"
   ]
  },
  {
   "cell_type": "markdown",
   "metadata": {},
   "source": [
    "**Looking at the summary of your model, what is the value of the Akaike Information Criterion (AIC)?**"
   ]
  },
  {
   "cell_type": "code",
   "execution_count": 18,
   "metadata": {},
   "outputs": [
    {
     "data": {
      "text/html": [
       "4827.15410238862"
      ],
      "text/latex": [
       "4827.15410238862"
      ],
      "text/markdown": [
       "4827.15410238862"
      ],
      "text/plain": [
       "[1] 4827.154"
      ]
     },
     "metadata": {},
     "output_type": "display_data"
    }
   ],
   "source": [
    "summary(SongsLog1)$aic"
   ]
  },
  {
   "cell_type": "markdown",
   "metadata": {},
   "source": [
    "### Problem 2.3 - Creating Our Prediction Model\n",
    "\n",
    "Let's now think about the variables in our dataset related to the confidence of the time signature, key and tempo (timesignature_confidence, key_confidence, and tempo_confidence). Our model seems to indicate that these confidence variables are significant (rather than the variables timesignature, key and tempo themselves). **What does the model suggest?**"
   ]
  },
  {
   "cell_type": "markdown",
   "metadata": {},
   "source": [
    "If you look at the output summary(model), where model is the name of your logistic regression model, you can see that the coefficient estimates for the confidence variables (*timesignature_confidence*, *key_confidence*, and *tempo_confidence*) are positive. This means that higher confidence leads to a higher predicted probability of a Top 10 hit."
   ]
  },
  {
   "cell_type": "markdown",
   "metadata": {},
   "source": [
    "### Problem 2.4 - Creating Our Prediction Model\n",
    "\n",
    "In general, if the confidence is low for the time signature, tempo, and key, then the song is more likely to be complex. **What does Model 1 suggest in terms of complexity?**"
   ]
  },
  {
   "cell_type": "markdown",
   "metadata": {},
   "source": [
    "Since the coefficient values for timesignature_confidence, tempo_confidence, and key_confidence are all positive, lower confidence leads to a lower predicted probability of a song being a hit. So mainstream listeners tend to prefer less complex songs."
   ]
  },
  {
   "cell_type": "markdown",
   "metadata": {},
   "source": [
    "### Problem 2.5 - Creating Our Prediction Model\n",
    "\n",
    "Songs with heavier instrumentation tend to be louder (have higher values in the variable \"loudness\") and more energetic (have higher values in the variable \"energy\").\n",
    "\n",
    "**By inspecting the coefficient of the variable \"loudness\", what does Model 1 suggest?**"
   ]
  },
  {
   "cell_type": "markdown",
   "metadata": {},
   "source": [
    "The coefficient estimate for loudness is positive, meaning that mainstream listeners prefer louder songs, which are those with heavier instrumentation. "
   ]
  },
  {
   "cell_type": "markdown",
   "metadata": {},
   "source": [
    "### Problem 3.1 - Beware of Multicollinearity Issues!\n",
    "\n",
    "**What is the correlation between the variables \"loudness\" and \"energy\" in the training set?**"
   ]
  },
  {
   "cell_type": "code",
   "execution_count": 19,
   "metadata": {},
   "outputs": [
    {
     "data": {
      "text/html": [
       "0.739906708455806"
      ],
      "text/latex": [
       "0.739906708455806"
      ],
      "text/markdown": [
       "0.739906708455806"
      ],
      "text/plain": [
       "[1] 0.7399067"
      ]
     },
     "metadata": {},
     "output_type": "display_data"
    }
   ],
   "source": [
    "cor(SongsTrain$loudness,  SongsTrain$energy)"
   ]
  },
  {
   "cell_type": "markdown",
   "metadata": {},
   "source": [
    "Given that these two variables are highly correlated, Model 1 suffers from multicollinearity. To avoid this issue, we will omit one of these two variables and rerun the logistic regression. In the rest of this problem, we'll build two variations of our original model: Model 2, in which we keep \"energy\" and omit \"loudness\", and Model 3, in which we keep \"loudness\" and omit \"energy\"."
   ]
  },
  {
   "cell_type": "markdown",
   "metadata": {},
   "source": [
    "### Problem 3.2 - Beware of Multicollinearity Issues!\n",
    "\n",
    "Create Model 2, which is Model 1 without the independent variable \"loudness\". This can be done with the following command:\n",
    "\n",
    "    SongsLog2 = glm(Top10 ~ . - loudness, data=SongsTrain, family=binomial)\n",
    "\n",
    "We just subtracted the variable loudness. We couldn't do this with the variables \"songtitle\" and \"artistname\", because they are not numeric variables, and we might get different values in the test set that the training set has never seen. But this approach (subtracting the variable from the model formula) will always work when you want to remove numeric variables."
   ]
  },
  {
   "cell_type": "code",
   "execution_count": 20,
   "metadata": {},
   "outputs": [
    {
     "data": {
      "text/plain": [
       "\n",
       "Call:\n",
       "glm(formula = Top10 ~ . - loudness, family = binomial, data = SongsTrain)\n",
       "\n",
       "Deviance Residuals: \n",
       "    Min       1Q   Median       3Q      Max  \n",
       "-2.0983  -0.5607  -0.3602  -0.1902   3.3107  \n",
       "\n",
       "Coefficients:\n",
       "                           Estimate Std. Error z value Pr(>|z|)    \n",
       "(Intercept)              -2.241e+00  7.465e-01  -3.002 0.002686 ** \n",
       "timesignature             1.625e-01  8.734e-02   1.860 0.062873 .  \n",
       "timesignature_confidence  6.885e-01  1.924e-01   3.578 0.000346 ***\n",
       "tempo                     5.521e-04  1.665e-03   0.332 0.740226    \n",
       "tempo_confidence          5.497e-01  1.407e-01   3.906 9.40e-05 ***\n",
       "key                       1.740e-02  1.026e-02   1.697 0.089740 .  \n",
       "key_confidence            2.954e-01  1.394e-01   2.118 0.034163 *  \n",
       "energy                    1.813e-01  2.608e-01   0.695 0.486991    \n",
       "pitch                    -5.150e+01  6.857e+00  -7.511 5.87e-14 ***\n",
       "timbre_0_min              2.479e-02  4.240e-03   5.847 5.01e-09 ***\n",
       "timbre_0_max             -1.007e-01  1.178e-02  -8.551  < 2e-16 ***\n",
       "timbre_1_min              7.143e-03  7.710e-04   9.265  < 2e-16 ***\n",
       "timbre_1_max             -7.830e-04  7.064e-04  -1.108 0.267650    \n",
       "timbre_2_min             -1.579e-03  1.109e-03  -1.424 0.154531    \n",
       "timbre_2_max              3.889e-04  8.964e-04   0.434 0.664427    \n",
       "timbre_3_min              6.500e-04  5.949e-04   1.093 0.274524    \n",
       "timbre_3_max             -2.462e-03  5.674e-04  -4.339 1.43e-05 ***\n",
       "timbre_4_min              9.115e-03  1.952e-03   4.670 3.02e-06 ***\n",
       "timbre_4_max              6.306e-03  1.532e-03   4.115 3.87e-05 ***\n",
       "timbre_5_min             -5.641e-03  1.255e-03  -4.495 6.95e-06 ***\n",
       "timbre_5_max              6.937e-04  7.807e-04   0.889 0.374256    \n",
       "timbre_6_min             -1.612e-02  2.235e-03  -7.214 5.45e-13 ***\n",
       "timbre_6_max              3.814e-03  2.157e-03   1.768 0.076982 .  \n",
       "timbre_7_min             -5.102e-03  1.755e-03  -2.907 0.003644 ** \n",
       "timbre_7_max             -3.158e-03  1.811e-03  -1.744 0.081090 .  \n",
       "timbre_8_min              4.488e-03  2.810e-03   1.597 0.110254    \n",
       "timbre_8_max              6.423e-03  2.950e-03   2.177 0.029497 *  \n",
       "timbre_9_min             -4.282e-04  2.955e-03  -0.145 0.884792    \n",
       "timbre_9_max              3.525e-03  2.377e-03   1.483 0.138017    \n",
       "timbre_10_min             2.993e-03  1.804e-03   1.660 0.097004 .  \n",
       "timbre_10_max             7.367e-03  1.731e-03   4.255 2.09e-05 ***\n",
       "timbre_11_min            -2.837e-02  3.630e-03  -7.815 5.48e-15 ***\n",
       "timbre_11_max             1.829e-02  3.341e-03   5.476 4.34e-08 ***\n",
       "---\n",
       "Signif. codes:  0 '***' 0.001 '**' 0.01 '*' 0.05 '.' 0.1 ' ' 1\n",
       "\n",
       "(Dispersion parameter for binomial family taken to be 1)\n",
       "\n",
       "    Null deviance: 6017.5  on 7200  degrees of freedom\n",
       "Residual deviance: 4871.8  on 7168  degrees of freedom\n",
       "AIC: 4937.8\n",
       "\n",
       "Number of Fisher Scoring iterations: 6\n"
      ]
     },
     "metadata": {},
     "output_type": "display_data"
    }
   ],
   "source": [
    "SongsLog2 = glm(Top10 ~ . - loudness, data=SongsTrain, family=binomial)\n",
    "summary(SongsLog2)"
   ]
  },
  {
   "cell_type": "markdown",
   "metadata": {},
   "source": [
    "**Look at the summary of SongsLog2, and inspect the coefficient of the variable \"energy\". What do you observe?**"
   ]
  },
  {
   "cell_type": "markdown",
   "metadata": {},
   "source": [
    "However, the coefficient estimate for energy is negative, meaning that mainstream listeners prefer songs that are less energetic, which are those with light instrumentation. These coefficients lead us to different conclusions!"
   ]
  },
  {
   "cell_type": "markdown",
   "metadata": {},
   "source": [
    "### Problem 3.3 - Beware of Multicollinearity Issues!\n",
    "\n",
    "Now, create Model 3, which should be exactly like Model 1, but without the variable \"energy\"."
   ]
  },
  {
   "cell_type": "code",
   "execution_count": 21,
   "metadata": {},
   "outputs": [
    {
     "data": {
      "text/plain": [
       "\n",
       "Call:\n",
       "glm(formula = Top10 ~ . - energy, family = binomial, data = SongsTrain)\n",
       "\n",
       "Deviance Residuals: \n",
       "    Min       1Q   Median       3Q      Max  \n",
       "-1.9182  -0.5417  -0.3481  -0.1874   3.4171  \n",
       "\n",
       "Coefficients:\n",
       "                           Estimate Std. Error z value Pr(>|z|)    \n",
       "(Intercept)               1.196e+01  1.714e+00   6.977 3.01e-12 ***\n",
       "timesignature             1.151e-01  8.726e-02   1.319 0.187183    \n",
       "timesignature_confidence  7.143e-01  1.946e-01   3.670 0.000242 ***\n",
       "loudness                  2.306e-01  2.528e-02   9.120  < 2e-16 ***\n",
       "tempo                    -6.460e-04  1.665e-03  -0.388 0.698107    \n",
       "tempo_confidence          3.841e-01  1.398e-01   2.747 0.006019 ** \n",
       "key                       1.649e-02  1.035e-02   1.593 0.111056    \n",
       "key_confidence            3.394e-01  1.409e-01   2.409 0.015984 *  \n",
       "pitch                    -5.328e+01  6.733e+00  -7.914 2.49e-15 ***\n",
       "timbre_0_min              2.205e-02  4.239e-03   5.200 1.99e-07 ***\n",
       "timbre_0_max             -3.105e-01  2.537e-02 -12.240  < 2e-16 ***\n",
       "timbre_1_min              5.416e-03  7.643e-04   7.086 1.38e-12 ***\n",
       "timbre_1_max             -5.115e-04  7.110e-04  -0.719 0.471928    \n",
       "timbre_2_min             -2.254e-03  1.120e-03  -2.012 0.044190 *  \n",
       "timbre_2_max              4.119e-04  9.020e-04   0.457 0.647915    \n",
       "timbre_3_min              3.179e-04  5.869e-04   0.542 0.588083    \n",
       "timbre_3_max             -2.964e-03  5.758e-04  -5.147 2.64e-07 ***\n",
       "timbre_4_min              1.105e-02  1.978e-03   5.585 2.34e-08 ***\n",
       "timbre_4_max              6.467e-03  1.541e-03   4.196 2.72e-05 ***\n",
       "timbre_5_min             -5.135e-03  1.269e-03  -4.046 5.21e-05 ***\n",
       "timbre_5_max              2.979e-04  7.855e-04   0.379 0.704526    \n",
       "timbre_6_min             -1.784e-02  2.246e-03  -7.945 1.94e-15 ***\n",
       "timbre_6_max              3.447e-03  2.182e-03   1.580 0.114203    \n",
       "timbre_7_min             -5.128e-03  1.768e-03  -2.900 0.003733 ** \n",
       "timbre_7_max             -3.394e-03  1.820e-03  -1.865 0.062208 .  \n",
       "timbre_8_min              3.686e-03  2.833e-03   1.301 0.193229    \n",
       "timbre_8_max              4.658e-03  2.988e-03   1.559 0.119022    \n",
       "timbre_9_min             -9.318e-05  2.957e-03  -0.032 0.974859    \n",
       "timbre_9_max              1.342e-03  2.424e-03   0.554 0.579900    \n",
       "timbre_10_min             4.050e-03  1.827e-03   2.217 0.026637 *  \n",
       "timbre_10_max             5.793e-03  1.759e-03   3.294 0.000988 ***\n",
       "timbre_11_min            -2.638e-02  3.683e-03  -7.162 7.96e-13 ***\n",
       "timbre_11_max             1.984e-02  3.365e-03   5.896 3.74e-09 ***\n",
       "---\n",
       "Signif. codes:  0 '***' 0.001 '**' 0.01 '*' 0.05 '.' 0.1 ' ' 1\n",
       "\n",
       "(Dispersion parameter for binomial family taken to be 1)\n",
       "\n",
       "    Null deviance: 6017.5  on 7200  degrees of freedom\n",
       "Residual deviance: 4782.7  on 7168  degrees of freedom\n",
       "AIC: 4848.7\n",
       "\n",
       "Number of Fisher Scoring iterations: 6\n"
      ]
     },
     "metadata": {},
     "output_type": "display_data"
    }
   ],
   "source": [
    "SongsLog3 = glm(Top10 ~ . - energy, data=SongsTrain, family=binomial)\n",
    "summary(SongsLog3)"
   ]
  },
  {
   "cell_type": "markdown",
   "metadata": {},
   "source": [
    "Look at the summary of Model 3 and inspect the coefficient of the variable \"loudness\". Remembering that higher loudness and energy both occur in songs with heavier instrumentation, **do we make the same observation about the popularity of heavy instrumentation as we did with Model 2?**"
   ]
  },
  {
   "cell_type": "markdown",
   "metadata": {},
   "source": [
    "Yes, we can see that loudness has a positive coefficient estimate, meaning that our model predicts that songs with heavier instrumentation tend to be more popular."
   ]
  },
  {
   "cell_type": "markdown",
   "metadata": {},
   "source": [
    "### Problem 4.1 - Validating Our Model\n",
    "\n",
    "Make predictions on the test set using Model 3. **What is the accuracy of Model 3 on the test set, using a threshold of 0.45?** (Compute the accuracy as a number between 0 and 1.)"
   ]
  },
  {
   "cell_type": "code",
   "execution_count": 22,
   "metadata": {},
   "outputs": [
    {
     "data": {
      "text/plain": [
       "       \n",
       "          0   1\n",
       "  FALSE 309  40\n",
       "  TRUE    5  19"
      ]
     },
     "metadata": {},
     "output_type": "display_data"
    }
   ],
   "source": [
    "Predict <- predict(SongsLog3, newdata = SongsTest, type='response')\n",
    "\n",
    "table(Predict >0.45 , SongsTest$Top10)"
   ]
  },
  {
   "cell_type": "markdown",
   "metadata": {},
   "source": [
    "                  Predict 0       Predict 1\n",
    "    Actual 0    True Negative   False Positive\n",
    "    Actual 1    False Negative  True Positive"
   ]
  },
  {
   "cell_type": "code",
   "execution_count": 23,
   "metadata": {},
   "outputs": [
    {
     "data": {
      "text/html": [
       "0.879356568364611"
      ],
      "text/latex": [
       "0.879356568364611"
      ],
      "text/markdown": [
       "0.879356568364611"
      ],
      "text/plain": [
       "[1] 0.8793566"
      ]
     },
     "metadata": {},
     "output_type": "display_data"
    }
   ],
   "source": [
    "sum(diag(table(Predict >0.45 , SongsTest$Top10)))/nrow(SongsTest)"
   ]
  },
  {
   "cell_type": "markdown",
   "metadata": {},
   "source": [
    "Or"
   ]
  },
  {
   "cell_type": "code",
   "execution_count": 24,
   "metadata": {},
   "outputs": [
    {
     "data": {
      "text/html": [
       "0.879356568364611"
      ],
      "text/latex": [
       "0.879356568364611"
      ],
      "text/markdown": [
       "0.879356568364611"
      ],
      "text/plain": [
       "[1] 0.8793566"
      ]
     },
     "metadata": {},
     "output_type": "display_data"
    }
   ],
   "source": [
    "# Compute Accuracy Directly\n",
    "\n",
    "zp <- table(Predict >0.45 , SongsTest$Top10)\n",
    "\n",
    "Accuracy = sum(diag(zp))/sum(zp)\n",
    "Accuracy"
   ]
  },
  {
   "cell_type": "markdown",
   "metadata": {},
   "source": [
    "### Problem 4.2 - Validating Our Model\n",
    "\n",
    "Let's check if there's any incremental benefit in using Model 3 instead of a baseline model. Given the difficulty of guessing which song is going to be a hit, an easier model would be to pick the most frequent outcome (a song is not a Top 10 hit) for all songs. **What would the accuracy of the baseline model be on the test set?** (Give your answer as a number between 0 and 1.)"
   ]
  },
  {
   "cell_type": "code",
   "execution_count": 25,
   "metadata": {},
   "outputs": [
    {
     "data": {
      "text/plain": [
       "\n",
       "  0   1 \n",
       "314  59 "
      ]
     },
     "metadata": {},
     "output_type": "display_data"
    },
    {
     "data": {
      "text/html": [
       "<strong>0:</strong> 0.841823056300268"
      ],
      "text/latex": [
       "\\textbf{0:} 0.841823056300268"
      ],
      "text/markdown": [
       "**0:** 0.841823056300268"
      ],
      "text/plain": [
       "        0 \n",
       "0.8418231 "
      ]
     },
     "metadata": {},
     "output_type": "display_data"
    }
   ],
   "source": [
    "ztest = table(SongsTest$Top10)\n",
    "ztest\n",
    "\n",
    "Accuracy = ztest[1]/sum(ztest)\n",
    "Accuracy"
   ]
  },
  {
   "cell_type": "markdown",
   "metadata": {},
   "source": [
    "Another way:"
   ]
  },
  {
   "cell_type": "code",
   "execution_count": 26,
   "metadata": {},
   "outputs": [
    {
     "data": {
      "text/html": [
       "0.158176943699732"
      ],
      "text/latex": [
       "0.158176943699732"
      ],
      "text/markdown": [
       "0.158176943699732"
      ],
      "text/plain": [
       "[1] 0.1581769"
      ]
     },
     "metadata": {},
     "output_type": "display_data"
    }
   ],
   "source": [
    "mean(SongsTest$Top10)"
   ]
  },
  {
   "cell_type": "code",
   "execution_count": 27,
   "metadata": {},
   "outputs": [
    {
     "data": {
      "text/html": [
       "0.841823056300268"
      ],
      "text/latex": [
       "0.841823056300268"
      ],
      "text/markdown": [
       "0.841823056300268"
      ],
      "text/plain": [
       "[1] 0.8418231"
      ]
     },
     "metadata": {},
     "output_type": "display_data"
    }
   ],
   "source": [
    "1-mean(SongsTest$Top10)"
   ]
  },
  {
   "cell_type": "markdown",
   "metadata": {},
   "source": [
    "### Problem 4.3 - Validating Our Model\n",
    "\n",
    "It seems that Model 3 gives us a small improvement over the baseline model. Still, does it create an edge?\n",
    "\n",
    "Let's view the two models from an investment perspective. A production company is interested in investing in songs that are highly likely to make it to the Top 10. The company's objective is to minimize its risk of financial losses attributed to investing in songs that end up unpopular.\n",
    "\n",
    "A competitive edge can therefore be achieved if we can provide the production company a list of songs that are highly likely to end up in the Top 10. We note that the baseline model does not prove useful, as it simply does not label any song as a hit. Let us see what our model has to offer.\n",
    "\n",
    "**How many songs does Model 3 correctly predict as Top 10 hits in 2010 (remember that all songs in 2010 went into our test set), using a threshold of 0.45?**"
   ]
  },
  {
   "cell_type": "code",
   "execution_count": 28,
   "metadata": {},
   "outputs": [
    {
     "data": {
      "text/plain": [
       "       \n",
       "          0   1\n",
       "  FALSE 309  40\n",
       "  TRUE    5  19"
      ]
     },
     "metadata": {},
     "output_type": "display_data"
    }
   ],
   "source": [
    "Prediction <- table(Predict >0.45 , SongsTest$Top10)\n",
    "Prediction"
   ]
  },
  {
   "cell_type": "markdown",
   "metadata": {},
   "source": [
    "                  Predict 0       Predict 1\n",
    "    Actual 0    True Negative   False Positive\n",
    "    Actual 1    False Negative  True Positive"
   ]
  },
  {
   "cell_type": "code",
   "execution_count": 29,
   "metadata": {},
   "outputs": [
    {
     "data": {
      "text/html": [
       "19"
      ],
      "text/latex": [
       "19"
      ],
      "text/markdown": [
       "19"
      ],
      "text/plain": [
       "[1] 19"
      ]
     },
     "metadata": {},
     "output_type": "display_data"
    }
   ],
   "source": [
    "Prediction[2,2]"
   ]
  },
  {
   "cell_type": "markdown",
   "metadata": {},
   "source": [
    "**How many non-hit songs does Model 3 predict will be Top 10 hits (again, looking at the test set), using a threshold of 0.45?**"
   ]
  },
  {
   "cell_type": "code",
   "execution_count": 30,
   "metadata": {},
   "outputs": [
    {
     "data": {
      "text/plain": [
       "       \n",
       "          0   1\n",
       "  FALSE 309  40\n",
       "  TRUE    5  19"
      ]
     },
     "metadata": {},
     "output_type": "display_data"
    }
   ],
   "source": [
    "table(Predict >0.45 , SongsTest$Top10)"
   ]
  },
  {
   "cell_type": "code",
   "execution_count": 31,
   "metadata": {},
   "outputs": [
    {
     "data": {
      "text/html": [
       "5"
      ],
      "text/latex": [
       "5"
      ],
      "text/markdown": [
       "5"
      ],
      "text/plain": [
       "[1] 5"
      ]
     },
     "metadata": {},
     "output_type": "display_data"
    }
   ],
   "source": [
    "table(Predict >0.45 , SongsTest$Top10)[2,1]"
   ]
  },
  {
   "cell_type": "markdown",
   "metadata": {},
   "source": [
    "### Problem 4.4 - Validating Our Model\n",
    "\n",
    "**What is the sensitivity of Model 3 on the test set, using a threshold of 0.45?**"
   ]
  },
  {
   "cell_type": "markdown",
   "metadata": {},
   "source": [
    "Sensitivity = $\\frac{TP}{TP + FN}$ (measures the percentage of actual poor care cases that we classify correctly)"
   ]
  },
  {
   "cell_type": "markdown",
   "metadata": {},
   "source": [
    "                  Predict 0       Predict 1\n",
    "    Actual 0    True Negative   False Positive\n",
    "    Actual 1    False Negative  True Positive"
   ]
  },
  {
   "cell_type": "code",
   "execution_count": 32,
   "metadata": {},
   "outputs": [
    {
     "data": {
      "text/html": [
       "0.322033898305085"
      ],
      "text/latex": [
       "0.322033898305085"
      ],
      "text/markdown": [
       "0.322033898305085"
      ],
      "text/plain": [
       "[1] 0.3220339"
      ]
     },
     "metadata": {},
     "output_type": "display_data"
    }
   ],
   "source": [
    "Prediction[2,2]/sum(Prediction[,2])"
   ]
  },
  {
   "cell_type": "markdown",
   "metadata": {},
   "source": [
    "**What is the specificity of Model 3 on the test set, using a threshold of 0.45?**"
   ]
  },
  {
   "cell_type": "markdown",
   "metadata": {},
   "source": [
    "Specifity = $\\frac{TN}{TN + FP}$ (measures the percentage of actual good care cases that we classify correctly)"
   ]
  },
  {
   "cell_type": "code",
   "execution_count": 33,
   "metadata": {},
   "outputs": [
    {
     "data": {
      "text/html": [
       "0.984076433121019"
      ],
      "text/latex": [
       "0.984076433121019"
      ],
      "text/markdown": [
       "0.984076433121019"
      ],
      "text/plain": [
       "[1] 0.9840764"
      ]
     },
     "metadata": {},
     "output_type": "display_data"
    }
   ],
   "source": [
    "Prediction[1,1]/sum(Prediction[,1])"
   ]
  },
  {
   "cell_type": "markdown",
   "metadata": {},
   "source": [
    "### Problem 4.5 - Validating Our Model\n",
    "\n",
    "**What conclusions can you make about our model?** (Select all that apply.)"
   ]
  },
  {
   "cell_type": "markdown",
   "metadata": {},
   "source": [
    "Model 3 favors specificity over sensitivity.\n",
    "\n",
    "Model 3 provides conservative predictions, and predicts that a song will make it to the Top 10 very rarely. So while it detects less than half of the Top 10 songs, we can be very confident in the songs that it does predict to be Top 10 hits."
   ]
  }
 ],
 "metadata": {
  "kernelspec": {
   "display_name": "R",
   "language": "R",
   "name": "ir"
  },
  "language_info": {
   "codemirror_mode": "r",
   "file_extension": ".r",
   "mimetype": "text/x-r-source",
   "name": "R",
   "pygments_lexer": "r",
   "version": "3.6.3"
  }
 },
 "nbformat": 4,
 "nbformat_minor": 4
}
