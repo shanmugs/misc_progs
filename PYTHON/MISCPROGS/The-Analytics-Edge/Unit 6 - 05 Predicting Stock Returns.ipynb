{
 "cells": [
  {
   "cell_type": "markdown",
   "metadata": {},
   "source": [
    "# Predicting Stock Returns with Cluster-Then-Predict"
   ]
  },
  {
   "cell_type": "markdown",
   "metadata": {},
   "source": [
    "<img src=\"images/stockreturns.jpg\"/>"
   ]
  },
  {
   "cell_type": "markdown",
   "metadata": {},
   "source": [
    "In the second lecture sequence this week, we heard about cluster-then-predict, a methodology in which you first cluster observations and then build cluster-specific prediction models. In the lecture sequence, we saw how this methodology helped improve the prediction of heart attack risk. In this assignment, we'll use cluster-then-predict to predict future stock prices using historical stock data.\n",
    "\n",
    "When selecting which stocks to invest in, investors seek to obtain good future returns. In this problem, we will first use clustering to identify clusters of stocks that have similar returns over time. Then, we'll use logistic regression to predict whether or not the stocks will have positive future returns.\n",
    "\n",
    "For this problem, we'll use StocksCluster.csv, which contains monthly stock returns from the NASDAQ stock exchange. The NASDAQ is the second-largest stock exchange in the world, and it lists many technology companies. The stock price data used in this problem was obtained from infochimps, a website providing access to many datasets.\n",
    "\n",
    "Each observation in the dataset is the monthly returns of a particular company in a particular year. The years included are 2000-2009. The companies are limited to tickers that were listed on the exchange for the entire period 2000-2009, and whose stock price never fell below $1. So, for example, one observation is for Yahoo in 2000, and another observation is for Yahoo in 2001. Our goal will be to predict whether or not the stock return in December will be positive, using the stock returns for the first 11 months of the year."
   ]
  },
  {
   "cell_type": "markdown",
   "metadata": {},
   "source": [
    "### This dataset contains the following variables:\n",
    "\n",
    "    ReturnJan = the return for the company's stock during January (in the year of the observation). \n",
    "\n",
    "    ReturnFeb = the return for the company's stock during February (in the year of the observation). \n",
    "\n",
    "    ReturnMar = the return for the company's stock during March (in the year of the observation). \n",
    "\n",
    "    ReturnApr = the return for the company's stock during April (in the year of the observation). \n",
    "\n",
    "    ReturnMay = the return for the company's stock during May (in the year of the observation). \n",
    "\n",
    "    ReturnJune = the return for the company's stock during June (in the year of the observation). \n",
    "\n",
    "    ReturnJuly = the return for the company's stock during July (in the year of the observation). \n",
    "\n",
    "    ReturnAug = the return for the company's stock during August (in the year of the observation). \n",
    "\n",
    "    ReturnSep = the return for the company's stock during September (in the year of the observation). \n",
    "\n",
    "    ReturnOct = the return for the company's stock during October (in the year of the observation). \n",
    "\n",
    "    ReturnNov = the return for the company's stock during November (in the year of the observation). \n",
    "\n",
    "    PositiveDec = whether or not the company's stock had a positive return in December (in the year of the observation). This variable takes value 1 if the return was positive, and value 0 if the return was not positive.\n",
    "\n",
    "For the first 11 variables, the value stored is a proportional change in stock value during that month. For instance, a value of 0.05 means the stock increased in value 5% during the month, while a value of -0.02 means the stock decreased in value 2% during the month."
   ]
  },
  {
   "cell_type": "markdown",
   "metadata": {},
   "source": [
    "### Problem 1.1 - Exploring the Dataset\n",
    "Load StocksCluster.csv into a data frame called \"stocks\". **How many observations are in the dataset?**"
   ]
  },
  {
   "cell_type": "code",
   "execution_count": 1,
   "metadata": {},
   "outputs": [
    {
     "data": {
      "text/html": [
       "<table>\n",
       "<caption>A data.frame: 6 × 12</caption>\n",
       "<thead>\n",
       "\t<tr><th></th><th scope=col>ReturnJan</th><th scope=col>ReturnFeb</th><th scope=col>ReturnMar</th><th scope=col>ReturnApr</th><th scope=col>ReturnMay</th><th scope=col>ReturnJune</th><th scope=col>ReturnJuly</th><th scope=col>ReturnAug</th><th scope=col>ReturnSep</th><th scope=col>ReturnOct</th><th scope=col>ReturnNov</th><th scope=col>PositiveDec</th></tr>\n",
       "\t<tr><th></th><th scope=col>&lt;dbl&gt;</th><th scope=col>&lt;dbl&gt;</th><th scope=col>&lt;dbl&gt;</th><th scope=col>&lt;dbl&gt;</th><th scope=col>&lt;dbl&gt;</th><th scope=col>&lt;dbl&gt;</th><th scope=col>&lt;dbl&gt;</th><th scope=col>&lt;dbl&gt;</th><th scope=col>&lt;dbl&gt;</th><th scope=col>&lt;dbl&gt;</th><th scope=col>&lt;dbl&gt;</th><th scope=col>&lt;int&gt;</th></tr>\n",
       "</thead>\n",
       "<tbody>\n",
       "\t<tr><th scope=row>1</th><td> 0.08067797</td><td> 0.06625000</td><td> 0.03294118</td><td> 0.18309859</td><td> 0.130333952</td><td>-0.01764234</td><td>-0.02051703</td><td>0.02467587</td><td>-0.02040816</td><td>-0.17331768</td><td>-0.02538531</td><td>0</td></tr>\n",
       "\t<tr><th scope=row>2</th><td>-0.01067989</td><td> 0.10211539</td><td> 0.14549595</td><td>-0.08442804</td><td>-0.327300392</td><td>-0.35926605</td><td>-0.02532131</td><td>0.21129000</td><td>-0.58000326</td><td>-0.26714125</td><td>-0.15123457</td><td>0</td></tr>\n",
       "\t<tr><th scope=row>3</th><td> 0.04774193</td><td> 0.03598972</td><td> 0.03970223</td><td>-0.16235294</td><td>-0.147426982</td><td> 0.04858934</td><td>-0.13538462</td><td>0.03339192</td><td> 0.00000000</td><td> 0.09169550</td><td>-0.05956113</td><td>0</td></tr>\n",
       "\t<tr><th scope=row>4</th><td>-0.07404022</td><td>-0.04816956</td><td> 0.01821862</td><td>-0.02467917</td><td>-0.006036217</td><td>-0.02530364</td><td>-0.09400000</td><td>0.09529025</td><td> 0.05668016</td><td>-0.09633911</td><td>-0.04051173</td><td>1</td></tr>\n",
       "\t<tr><th scope=row>5</th><td>-0.03104575</td><td>-0.21267723</td><td> 0.09147609</td><td> 0.18933823</td><td>-0.153846154</td><td>-0.10611511</td><td> 0.35530086</td><td>0.05684210</td><td> 0.03360215</td><td> 0.03626943</td><td>-0.08530511</td><td>1</td></tr>\n",
       "\t<tr><th scope=row>6</th><td> 0.57980016</td><td> 0.33225225</td><td>-0.40546095</td><td>-0.06000000</td><td> 0.060732113</td><td>-0.21536106</td><td> 0.27444694</td><td>0.53834395</td><td> 0.12706817</td><td>-0.17142857</td><td>-0.19537452</td><td>1</td></tr>\n",
       "</tbody>\n",
       "</table>\n"
      ],
      "text/latex": [
       "A data.frame: 6 × 12\n",
       "\\begin{tabular}{r|llllllllllll}\n",
       "  & ReturnJan & ReturnFeb & ReturnMar & ReturnApr & ReturnMay & ReturnJune & ReturnJuly & ReturnAug & ReturnSep & ReturnOct & ReturnNov & PositiveDec\\\\\n",
       "  & <dbl> & <dbl> & <dbl> & <dbl> & <dbl> & <dbl> & <dbl> & <dbl> & <dbl> & <dbl> & <dbl> & <int>\\\\\n",
       "\\hline\n",
       "\t1 &  0.08067797 &  0.06625000 &  0.03294118 &  0.18309859 &  0.130333952 & -0.01764234 & -0.02051703 & 0.02467587 & -0.02040816 & -0.17331768 & -0.02538531 & 0\\\\\n",
       "\t2 & -0.01067989 &  0.10211539 &  0.14549595 & -0.08442804 & -0.327300392 & -0.35926605 & -0.02532131 & 0.21129000 & -0.58000326 & -0.26714125 & -0.15123457 & 0\\\\\n",
       "\t3 &  0.04774193 &  0.03598972 &  0.03970223 & -0.16235294 & -0.147426982 &  0.04858934 & -0.13538462 & 0.03339192 &  0.00000000 &  0.09169550 & -0.05956113 & 0\\\\\n",
       "\t4 & -0.07404022 & -0.04816956 &  0.01821862 & -0.02467917 & -0.006036217 & -0.02530364 & -0.09400000 & 0.09529025 &  0.05668016 & -0.09633911 & -0.04051173 & 1\\\\\n",
       "\t5 & -0.03104575 & -0.21267723 &  0.09147609 &  0.18933823 & -0.153846154 & -0.10611511 &  0.35530086 & 0.05684210 &  0.03360215 &  0.03626943 & -0.08530511 & 1\\\\\n",
       "\t6 &  0.57980016 &  0.33225225 & -0.40546095 & -0.06000000 &  0.060732113 & -0.21536106 &  0.27444694 & 0.53834395 &  0.12706817 & -0.17142857 & -0.19537452 & 1\\\\\n",
       "\\end{tabular}\n"
      ],
      "text/markdown": [
       "\n",
       "A data.frame: 6 × 12\n",
       "\n",
       "| <!--/--> | ReturnJan &lt;dbl&gt; | ReturnFeb &lt;dbl&gt; | ReturnMar &lt;dbl&gt; | ReturnApr &lt;dbl&gt; | ReturnMay &lt;dbl&gt; | ReturnJune &lt;dbl&gt; | ReturnJuly &lt;dbl&gt; | ReturnAug &lt;dbl&gt; | ReturnSep &lt;dbl&gt; | ReturnOct &lt;dbl&gt; | ReturnNov &lt;dbl&gt; | PositiveDec &lt;int&gt; |\n",
       "|---|---|---|---|---|---|---|---|---|---|---|---|---|\n",
       "| 1 |  0.08067797 |  0.06625000 |  0.03294118 |  0.18309859 |  0.130333952 | -0.01764234 | -0.02051703 | 0.02467587 | -0.02040816 | -0.17331768 | -0.02538531 | 0 |\n",
       "| 2 | -0.01067989 |  0.10211539 |  0.14549595 | -0.08442804 | -0.327300392 | -0.35926605 | -0.02532131 | 0.21129000 | -0.58000326 | -0.26714125 | -0.15123457 | 0 |\n",
       "| 3 |  0.04774193 |  0.03598972 |  0.03970223 | -0.16235294 | -0.147426982 |  0.04858934 | -0.13538462 | 0.03339192 |  0.00000000 |  0.09169550 | -0.05956113 | 0 |\n",
       "| 4 | -0.07404022 | -0.04816956 |  0.01821862 | -0.02467917 | -0.006036217 | -0.02530364 | -0.09400000 | 0.09529025 |  0.05668016 | -0.09633911 | -0.04051173 | 1 |\n",
       "| 5 | -0.03104575 | -0.21267723 |  0.09147609 |  0.18933823 | -0.153846154 | -0.10611511 |  0.35530086 | 0.05684210 |  0.03360215 |  0.03626943 | -0.08530511 | 1 |\n",
       "| 6 |  0.57980016 |  0.33225225 | -0.40546095 | -0.06000000 |  0.060732113 | -0.21536106 |  0.27444694 | 0.53834395 |  0.12706817 | -0.17142857 | -0.19537452 | 1 |\n",
       "\n"
      ],
      "text/plain": [
       "  ReturnJan   ReturnFeb   ReturnMar   ReturnApr   ReturnMay    ReturnJune \n",
       "1  0.08067797  0.06625000  0.03294118  0.18309859  0.130333952 -0.01764234\n",
       "2 -0.01067989  0.10211539  0.14549595 -0.08442804 -0.327300392 -0.35926605\n",
       "3  0.04774193  0.03598972  0.03970223 -0.16235294 -0.147426982  0.04858934\n",
       "4 -0.07404022 -0.04816956  0.01821862 -0.02467917 -0.006036217 -0.02530364\n",
       "5 -0.03104575 -0.21267723  0.09147609  0.18933823 -0.153846154 -0.10611511\n",
       "6  0.57980016  0.33225225 -0.40546095 -0.06000000  0.060732113 -0.21536106\n",
       "  ReturnJuly  ReturnAug  ReturnSep   ReturnOct   ReturnNov   PositiveDec\n",
       "1 -0.02051703 0.02467587 -0.02040816 -0.17331768 -0.02538531 0          \n",
       "2 -0.02532131 0.21129000 -0.58000326 -0.26714125 -0.15123457 0          \n",
       "3 -0.13538462 0.03339192  0.00000000  0.09169550 -0.05956113 0          \n",
       "4 -0.09400000 0.09529025  0.05668016 -0.09633911 -0.04051173 1          \n",
       "5  0.35530086 0.05684210  0.03360215  0.03626943 -0.08530511 1          \n",
       "6  0.27444694 0.53834395  0.12706817 -0.17142857 -0.19537452 1          "
      ]
     },
     "metadata": {},
     "output_type": "display_data"
    }
   ],
   "source": [
    "# Load the dataset\n",
    "\n",
    "stocks = read.csv(\"data/StocksCluster.csv\")\n",
    "\n",
    "head(stocks)"
   ]
  },
  {
   "cell_type": "code",
   "execution_count": 2,
   "metadata": {},
   "outputs": [
    {
     "name": "stdout",
     "output_type": "stream",
     "text": [
      "'data.frame':\t11580 obs. of  12 variables:\n",
      " $ ReturnJan  : num  0.0807 -0.0107 0.0477 -0.074 -0.031 ...\n",
      " $ ReturnFeb  : num  0.0663 0.1021 0.036 -0.0482 -0.2127 ...\n",
      " $ ReturnMar  : num  0.0329 0.1455 0.0397 0.0182 0.0915 ...\n",
      " $ ReturnApr  : num  0.1831 -0.0844 -0.1624 -0.0247 0.1893 ...\n",
      " $ ReturnMay  : num  0.13033 -0.3273 -0.14743 -0.00604 -0.15385 ...\n",
      " $ ReturnJune : num  -0.0176 -0.3593 0.0486 -0.0253 -0.1061 ...\n",
      " $ ReturnJuly : num  -0.0205 -0.0253 -0.1354 -0.094 0.3553 ...\n",
      " $ ReturnAug  : num  0.0247 0.2113 0.0334 0.0953 0.0568 ...\n",
      " $ ReturnSep  : num  -0.0204 -0.58 0 0.0567 0.0336 ...\n",
      " $ ReturnOct  : num  -0.1733 -0.2671 0.0917 -0.0963 0.0363 ...\n",
      " $ ReturnNov  : num  -0.0254 -0.1512 -0.0596 -0.0405 -0.0853 ...\n",
      " $ PositiveDec: int  0 0 0 1 1 1 1 0 0 0 ...\n"
     ]
    }
   ],
   "source": [
    "str(stocks)"
   ]
  },
  {
   "cell_type": "markdown",
   "metadata": {},
   "source": [
    "Answer: 11.580 observations."
   ]
  },
  {
   "cell_type": "markdown",
   "metadata": {},
   "source": [
    "### Problem 1.2 - Exploring the Dataset\n",
    "**What proportion of the observations have positive returns in December?**"
   ]
  },
  {
   "cell_type": "code",
   "execution_count": 3,
   "metadata": {},
   "outputs": [
    {
     "data": {
      "text/plain": [
       "\n",
       "   0    1 \n",
       "5256 6324 "
      ]
     },
     "metadata": {},
     "output_type": "display_data"
    }
   ],
   "source": [
    "# Tabulate the positive december returns\n",
    "dec = table(stocks$PositiveDec)\n",
    "dec"
   ]
  },
  {
   "cell_type": "code",
   "execution_count": 4,
   "metadata": {},
   "outputs": [
    {
     "data": {
      "text/html": [
       "<strong>1:</strong> 0.5461"
      ],
      "text/latex": [
       "\\textbf{1:} 0.5461"
      ],
      "text/markdown": [
       "**1:** 0.5461"
      ],
      "text/plain": [
       "     1 \n",
       "0.5461 "
      ]
     },
     "metadata": {},
     "output_type": "display_data"
    }
   ],
   "source": [
    "round(dec[2]/(sum(dec)),4)"
   ]
  },
  {
   "cell_type": "markdown",
   "metadata": {},
   "source": [
    "Answer: 54.61%"
   ]
  },
  {
   "cell_type": "markdown",
   "metadata": {},
   "source": [
    "### Problem 1.3 - Exploring the Dataset\n",
    "**What is the maximum correlation between any two return variables in the dataset?** You should look at the pairwise correlations between ReturnJan, ReturnFeb, ReturnMar, ReturnApr, ReturnMay, ReturnJune, ReturnJuly, ReturnAug, ReturnSep, ReturnOct, and ReturnNov."
   ]
  },
  {
   "cell_type": "code",
   "execution_count": 5,
   "metadata": {},
   "outputs": [
    {
     "data": {
      "text/html": [
       "<table>\n",
       "<caption>A matrix: 12 × 12 of type dbl</caption>\n",
       "<thead>\n",
       "\t<tr><th></th><th scope=col>ReturnJan</th><th scope=col>ReturnFeb</th><th scope=col>ReturnMar</th><th scope=col>ReturnApr</th><th scope=col>ReturnMay</th><th scope=col>ReturnJune</th><th scope=col>ReturnJuly</th><th scope=col>ReturnAug</th><th scope=col>ReturnSep</th><th scope=col>ReturnOct</th><th scope=col>ReturnNov</th><th scope=col>PositiveDec</th></tr>\n",
       "</thead>\n",
       "<tbody>\n",
       "\t<tr><th scope=row>ReturnJan</th><td> 1.000000000</td><td> 0.06677458</td><td>-0.090496798</td><td>-0.037678006</td><td>-0.044411417</td><td> 0.09223831</td><td>-0.0814297650</td><td>-0.0227920187</td><td>-0.0264371526</td><td> 0.14297723</td><td> 0.06763233</td><td> 0.004728518</td></tr>\n",
       "\t<tr><th scope=row>ReturnFeb</th><td> 0.066774583</td><td> 1.00000000</td><td>-0.155983263</td><td>-0.191351924</td><td>-0.095520920</td><td> 0.16999448</td><td>-0.0617785094</td><td> 0.1315597863</td><td> 0.0435017706</td><td>-0.08732427</td><td>-0.15465828</td><td>-0.038173184</td></tr>\n",
       "\t<tr><th scope=row>ReturnMar</th><td>-0.090496798</td><td>-0.15598326</td><td> 1.000000000</td><td> 0.009726288</td><td>-0.003892789</td><td>-0.08590549</td><td> 0.0033741597</td><td>-0.0220053995</td><td> 0.0765183267</td><td>-0.01192376</td><td> 0.03732353</td><td> 0.022408661</td></tr>\n",
       "\t<tr><th scope=row>ReturnApr</th><td>-0.037678006</td><td>-0.19135192</td><td> 0.009726288</td><td> 1.000000000</td><td> 0.063822504</td><td>-0.01102775</td><td> 0.0806319317</td><td>-0.0517560510</td><td>-0.0289209718</td><td> 0.04854003</td><td> 0.03176184</td><td> 0.094353528</td></tr>\n",
       "\t<tr><th scope=row>ReturnMay</th><td>-0.044411417</td><td>-0.09552092</td><td>-0.003892789</td><td> 0.063822504</td><td> 1.000000000</td><td>-0.02107454</td><td> 0.0908502642</td><td>-0.0331256580</td><td> 0.0219628623</td><td> 0.01716673</td><td> 0.04804659</td><td> 0.058201934</td></tr>\n",
       "\t<tr><th scope=row>ReturnJune</th><td> 0.092238307</td><td> 0.16999448</td><td>-0.085905486</td><td>-0.011027752</td><td>-0.021074539</td><td> 1.00000000</td><td>-0.0291525996</td><td> 0.0107105260</td><td> 0.0447472692</td><td>-0.02263599</td><td>-0.06527054</td><td> 0.023409745</td></tr>\n",
       "\t<tr><th scope=row>ReturnJuly</th><td>-0.081429765</td><td>-0.06177851</td><td> 0.003374160</td><td> 0.080631932</td><td> 0.090850264</td><td>-0.02915260</td><td> 1.0000000000</td><td> 0.0007137558</td><td> 0.0689478037</td><td>-0.05470891</td><td>-0.04837384</td><td> 0.074364210</td></tr>\n",
       "\t<tr><th scope=row>ReturnAug</th><td>-0.022792019</td><td> 0.13155979</td><td>-0.022005400</td><td>-0.051756051</td><td>-0.033125658</td><td> 0.01071053</td><td> 0.0007137558</td><td> 1.0000000000</td><td> 0.0007407139</td><td>-0.07559456</td><td>-0.11648903</td><td> 0.004166966</td></tr>\n",
       "\t<tr><th scope=row>ReturnSep</th><td>-0.026437153</td><td> 0.04350177</td><td> 0.076518327</td><td>-0.028920972</td><td> 0.021962862</td><td> 0.04474727</td><td> 0.0689478037</td><td> 0.0007407139</td><td> 1.0000000000</td><td>-0.05807924</td><td>-0.01971980</td><td> 0.041630286</td></tr>\n",
       "\t<tr><th scope=row>ReturnOct</th><td> 0.142977229</td><td>-0.08732427</td><td>-0.011923758</td><td> 0.048540025</td><td> 0.017166728</td><td>-0.02263599</td><td>-0.0547089088</td><td>-0.0755945614</td><td>-0.0580792362</td><td> 1.00000000</td><td> 0.19167279</td><td>-0.052574956</td></tr>\n",
       "\t<tr><th scope=row>ReturnNov</th><td> 0.067632333</td><td>-0.15465828</td><td> 0.037323535</td><td> 0.031761837</td><td> 0.048046590</td><td>-0.06527054</td><td>-0.0483738369</td><td>-0.1164890345</td><td>-0.0197197998</td><td> 0.19167279</td><td> 1.00000000</td><td>-0.062346556</td></tr>\n",
       "\t<tr><th scope=row>PositiveDec</th><td> 0.004728518</td><td>-0.03817318</td><td> 0.022408661</td><td> 0.094353528</td><td> 0.058201934</td><td> 0.02340975</td><td> 0.0743642097</td><td> 0.0041669657</td><td> 0.0416302863</td><td>-0.05257496</td><td>-0.06234656</td><td> 1.000000000</td></tr>\n",
       "</tbody>\n",
       "</table>\n"
      ],
      "text/latex": [
       "A matrix: 12 × 12 of type dbl\n",
       "\\begin{tabular}{r|llllllllllll}\n",
       "  & ReturnJan & ReturnFeb & ReturnMar & ReturnApr & ReturnMay & ReturnJune & ReturnJuly & ReturnAug & ReturnSep & ReturnOct & ReturnNov & PositiveDec\\\\\n",
       "\\hline\n",
       "\tReturnJan &  1.000000000 &  0.06677458 & -0.090496798 & -0.037678006 & -0.044411417 &  0.09223831 & -0.0814297650 & -0.0227920187 & -0.0264371526 &  0.14297723 &  0.06763233 &  0.004728518\\\\\n",
       "\tReturnFeb &  0.066774583 &  1.00000000 & -0.155983263 & -0.191351924 & -0.095520920 &  0.16999448 & -0.0617785094 &  0.1315597863 &  0.0435017706 & -0.08732427 & -0.15465828 & -0.038173184\\\\\n",
       "\tReturnMar & -0.090496798 & -0.15598326 &  1.000000000 &  0.009726288 & -0.003892789 & -0.08590549 &  0.0033741597 & -0.0220053995 &  0.0765183267 & -0.01192376 &  0.03732353 &  0.022408661\\\\\n",
       "\tReturnApr & -0.037678006 & -0.19135192 &  0.009726288 &  1.000000000 &  0.063822504 & -0.01102775 &  0.0806319317 & -0.0517560510 & -0.0289209718 &  0.04854003 &  0.03176184 &  0.094353528\\\\\n",
       "\tReturnMay & -0.044411417 & -0.09552092 & -0.003892789 &  0.063822504 &  1.000000000 & -0.02107454 &  0.0908502642 & -0.0331256580 &  0.0219628623 &  0.01716673 &  0.04804659 &  0.058201934\\\\\n",
       "\tReturnJune &  0.092238307 &  0.16999448 & -0.085905486 & -0.011027752 & -0.021074539 &  1.00000000 & -0.0291525996 &  0.0107105260 &  0.0447472692 & -0.02263599 & -0.06527054 &  0.023409745\\\\\n",
       "\tReturnJuly & -0.081429765 & -0.06177851 &  0.003374160 &  0.080631932 &  0.090850264 & -0.02915260 &  1.0000000000 &  0.0007137558 &  0.0689478037 & -0.05470891 & -0.04837384 &  0.074364210\\\\\n",
       "\tReturnAug & -0.022792019 &  0.13155979 & -0.022005400 & -0.051756051 & -0.033125658 &  0.01071053 &  0.0007137558 &  1.0000000000 &  0.0007407139 & -0.07559456 & -0.11648903 &  0.004166966\\\\\n",
       "\tReturnSep & -0.026437153 &  0.04350177 &  0.076518327 & -0.028920972 &  0.021962862 &  0.04474727 &  0.0689478037 &  0.0007407139 &  1.0000000000 & -0.05807924 & -0.01971980 &  0.041630286\\\\\n",
       "\tReturnOct &  0.142977229 & -0.08732427 & -0.011923758 &  0.048540025 &  0.017166728 & -0.02263599 & -0.0547089088 & -0.0755945614 & -0.0580792362 &  1.00000000 &  0.19167279 & -0.052574956\\\\\n",
       "\tReturnNov &  0.067632333 & -0.15465828 &  0.037323535 &  0.031761837 &  0.048046590 & -0.06527054 & -0.0483738369 & -0.1164890345 & -0.0197197998 &  0.19167279 &  1.00000000 & -0.062346556\\\\\n",
       "\tPositiveDec &  0.004728518 & -0.03817318 &  0.022408661 &  0.094353528 &  0.058201934 &  0.02340975 &  0.0743642097 &  0.0041669657 &  0.0416302863 & -0.05257496 & -0.06234656 &  1.000000000\\\\\n",
       "\\end{tabular}\n"
      ],
      "text/markdown": [
       "\n",
       "A matrix: 12 × 12 of type dbl\n",
       "\n",
       "| <!--/--> | ReturnJan | ReturnFeb | ReturnMar | ReturnApr | ReturnMay | ReturnJune | ReturnJuly | ReturnAug | ReturnSep | ReturnOct | ReturnNov | PositiveDec |\n",
       "|---|---|---|---|---|---|---|---|---|---|---|---|---|\n",
       "| ReturnJan |  1.000000000 |  0.06677458 | -0.090496798 | -0.037678006 | -0.044411417 |  0.09223831 | -0.0814297650 | -0.0227920187 | -0.0264371526 |  0.14297723 |  0.06763233 |  0.004728518 |\n",
       "| ReturnFeb |  0.066774583 |  1.00000000 | -0.155983263 | -0.191351924 | -0.095520920 |  0.16999448 | -0.0617785094 |  0.1315597863 |  0.0435017706 | -0.08732427 | -0.15465828 | -0.038173184 |\n",
       "| ReturnMar | -0.090496798 | -0.15598326 |  1.000000000 |  0.009726288 | -0.003892789 | -0.08590549 |  0.0033741597 | -0.0220053995 |  0.0765183267 | -0.01192376 |  0.03732353 |  0.022408661 |\n",
       "| ReturnApr | -0.037678006 | -0.19135192 |  0.009726288 |  1.000000000 |  0.063822504 | -0.01102775 |  0.0806319317 | -0.0517560510 | -0.0289209718 |  0.04854003 |  0.03176184 |  0.094353528 |\n",
       "| ReturnMay | -0.044411417 | -0.09552092 | -0.003892789 |  0.063822504 |  1.000000000 | -0.02107454 |  0.0908502642 | -0.0331256580 |  0.0219628623 |  0.01716673 |  0.04804659 |  0.058201934 |\n",
       "| ReturnJune |  0.092238307 |  0.16999448 | -0.085905486 | -0.011027752 | -0.021074539 |  1.00000000 | -0.0291525996 |  0.0107105260 |  0.0447472692 | -0.02263599 | -0.06527054 |  0.023409745 |\n",
       "| ReturnJuly | -0.081429765 | -0.06177851 |  0.003374160 |  0.080631932 |  0.090850264 | -0.02915260 |  1.0000000000 |  0.0007137558 |  0.0689478037 | -0.05470891 | -0.04837384 |  0.074364210 |\n",
       "| ReturnAug | -0.022792019 |  0.13155979 | -0.022005400 | -0.051756051 | -0.033125658 |  0.01071053 |  0.0007137558 |  1.0000000000 |  0.0007407139 | -0.07559456 | -0.11648903 |  0.004166966 |\n",
       "| ReturnSep | -0.026437153 |  0.04350177 |  0.076518327 | -0.028920972 |  0.021962862 |  0.04474727 |  0.0689478037 |  0.0007407139 |  1.0000000000 | -0.05807924 | -0.01971980 |  0.041630286 |\n",
       "| ReturnOct |  0.142977229 | -0.08732427 | -0.011923758 |  0.048540025 |  0.017166728 | -0.02263599 | -0.0547089088 | -0.0755945614 | -0.0580792362 |  1.00000000 |  0.19167279 | -0.052574956 |\n",
       "| ReturnNov |  0.067632333 | -0.15465828 |  0.037323535 |  0.031761837 |  0.048046590 | -0.06527054 | -0.0483738369 | -0.1164890345 | -0.0197197998 |  0.19167279 |  1.00000000 | -0.062346556 |\n",
       "| PositiveDec |  0.004728518 | -0.03817318 |  0.022408661 |  0.094353528 |  0.058201934 |  0.02340975 |  0.0743642097 |  0.0041669657 |  0.0416302863 | -0.05257496 | -0.06234656 |  1.000000000 |\n",
       "\n"
      ],
      "text/plain": [
       "            ReturnJan    ReturnFeb   ReturnMar    ReturnApr    ReturnMay   \n",
       "ReturnJan    1.000000000  0.06677458 -0.090496798 -0.037678006 -0.044411417\n",
       "ReturnFeb    0.066774583  1.00000000 -0.155983263 -0.191351924 -0.095520920\n",
       "ReturnMar   -0.090496798 -0.15598326  1.000000000  0.009726288 -0.003892789\n",
       "ReturnApr   -0.037678006 -0.19135192  0.009726288  1.000000000  0.063822504\n",
       "ReturnMay   -0.044411417 -0.09552092 -0.003892789  0.063822504  1.000000000\n",
       "ReturnJune   0.092238307  0.16999448 -0.085905486 -0.011027752 -0.021074539\n",
       "ReturnJuly  -0.081429765 -0.06177851  0.003374160  0.080631932  0.090850264\n",
       "ReturnAug   -0.022792019  0.13155979 -0.022005400 -0.051756051 -0.033125658\n",
       "ReturnSep   -0.026437153  0.04350177  0.076518327 -0.028920972  0.021962862\n",
       "ReturnOct    0.142977229 -0.08732427 -0.011923758  0.048540025  0.017166728\n",
       "ReturnNov    0.067632333 -0.15465828  0.037323535  0.031761837  0.048046590\n",
       "PositiveDec  0.004728518 -0.03817318  0.022408661  0.094353528  0.058201934\n",
       "            ReturnJune  ReturnJuly    ReturnAug     ReturnSep     ReturnOct  \n",
       "ReturnJan    0.09223831 -0.0814297650 -0.0227920187 -0.0264371526  0.14297723\n",
       "ReturnFeb    0.16999448 -0.0617785094  0.1315597863  0.0435017706 -0.08732427\n",
       "ReturnMar   -0.08590549  0.0033741597 -0.0220053995  0.0765183267 -0.01192376\n",
       "ReturnApr   -0.01102775  0.0806319317 -0.0517560510 -0.0289209718  0.04854003\n",
       "ReturnMay   -0.02107454  0.0908502642 -0.0331256580  0.0219628623  0.01716673\n",
       "ReturnJune   1.00000000 -0.0291525996  0.0107105260  0.0447472692 -0.02263599\n",
       "ReturnJuly  -0.02915260  1.0000000000  0.0007137558  0.0689478037 -0.05470891\n",
       "ReturnAug    0.01071053  0.0007137558  1.0000000000  0.0007407139 -0.07559456\n",
       "ReturnSep    0.04474727  0.0689478037  0.0007407139  1.0000000000 -0.05807924\n",
       "ReturnOct   -0.02263599 -0.0547089088 -0.0755945614 -0.0580792362  1.00000000\n",
       "ReturnNov   -0.06527054 -0.0483738369 -0.1164890345 -0.0197197998  0.19167279\n",
       "PositiveDec  0.02340975  0.0743642097  0.0041669657  0.0416302863 -0.05257496\n",
       "            ReturnNov   PositiveDec \n",
       "ReturnJan    0.06763233  0.004728518\n",
       "ReturnFeb   -0.15465828 -0.038173184\n",
       "ReturnMar    0.03732353  0.022408661\n",
       "ReturnApr    0.03176184  0.094353528\n",
       "ReturnMay    0.04804659  0.058201934\n",
       "ReturnJune  -0.06527054  0.023409745\n",
       "ReturnJuly  -0.04837384  0.074364210\n",
       "ReturnAug   -0.11648903  0.004166966\n",
       "ReturnSep   -0.01971980  0.041630286\n",
       "ReturnOct    0.19167279 -0.052574956\n",
       "ReturnNov    1.00000000 -0.062346556\n",
       "PositiveDec -0.06234656  1.000000000"
      ]
     },
     "metadata": {},
     "output_type": "display_data"
    }
   ],
   "source": [
    "# Obtain a correlation matrix of the data\n",
    "\n",
    "cor = cor(stocks)\n",
    "cor"
   ]
  },
  {
   "cell_type": "code",
   "execution_count": 6,
   "metadata": {},
   "outputs": [
    {
     "data": {
      "text/html": [
       "<table>\n",
       "<caption>A matrix: 12 × 12 of type dbl</caption>\n",
       "<thead>\n",
       "\t<tr><th></th><th scope=col>ReturnJan</th><th scope=col>ReturnFeb</th><th scope=col>ReturnMar</th><th scope=col>ReturnApr</th><th scope=col>ReturnMay</th><th scope=col>ReturnJune</th><th scope=col>ReturnJuly</th><th scope=col>ReturnAug</th><th scope=col>ReturnSep</th><th scope=col>ReturnOct</th><th scope=col>ReturnNov</th><th scope=col>PositiveDec</th></tr>\n",
       "</thead>\n",
       "<tbody>\n",
       "\t<tr><th scope=row>ReturnJan</th><td> 1.00</td><td> 0.07</td><td>-0.09</td><td>-0.04</td><td>-0.04</td><td> 0.09</td><td>-0.08</td><td>-0.02</td><td>-0.03</td><td> 0.14</td><td> 0.07</td><td> 0.00</td></tr>\n",
       "\t<tr><th scope=row>ReturnFeb</th><td> 0.07</td><td> 1.00</td><td>-0.16</td><td>-0.19</td><td>-0.10</td><td> 0.17</td><td>-0.06</td><td> 0.13</td><td> 0.04</td><td>-0.09</td><td>-0.15</td><td>-0.04</td></tr>\n",
       "\t<tr><th scope=row>ReturnMar</th><td>-0.09</td><td>-0.16</td><td> 1.00</td><td> 0.01</td><td> 0.00</td><td>-0.09</td><td> 0.00</td><td>-0.02</td><td> 0.08</td><td>-0.01</td><td> 0.04</td><td> 0.02</td></tr>\n",
       "\t<tr><th scope=row>ReturnApr</th><td>-0.04</td><td>-0.19</td><td> 0.01</td><td> 1.00</td><td> 0.06</td><td>-0.01</td><td> 0.08</td><td>-0.05</td><td>-0.03</td><td> 0.05</td><td> 0.03</td><td> 0.09</td></tr>\n",
       "\t<tr><th scope=row>ReturnMay</th><td>-0.04</td><td>-0.10</td><td> 0.00</td><td> 0.06</td><td> 1.00</td><td>-0.02</td><td> 0.09</td><td>-0.03</td><td> 0.02</td><td> 0.02</td><td> 0.05</td><td> 0.06</td></tr>\n",
       "\t<tr><th scope=row>ReturnJune</th><td> 0.09</td><td> 0.17</td><td>-0.09</td><td>-0.01</td><td>-0.02</td><td> 1.00</td><td>-0.03</td><td> 0.01</td><td> 0.04</td><td>-0.02</td><td>-0.07</td><td> 0.02</td></tr>\n",
       "\t<tr><th scope=row>ReturnJuly</th><td>-0.08</td><td>-0.06</td><td> 0.00</td><td> 0.08</td><td> 0.09</td><td>-0.03</td><td> 1.00</td><td> 0.00</td><td> 0.07</td><td>-0.05</td><td>-0.05</td><td> 0.07</td></tr>\n",
       "\t<tr><th scope=row>ReturnAug</th><td>-0.02</td><td> 0.13</td><td>-0.02</td><td>-0.05</td><td>-0.03</td><td> 0.01</td><td> 0.00</td><td> 1.00</td><td> 0.00</td><td>-0.08</td><td>-0.12</td><td> 0.00</td></tr>\n",
       "\t<tr><th scope=row>ReturnSep</th><td>-0.03</td><td> 0.04</td><td> 0.08</td><td>-0.03</td><td> 0.02</td><td> 0.04</td><td> 0.07</td><td> 0.00</td><td> 1.00</td><td>-0.06</td><td>-0.02</td><td> 0.04</td></tr>\n",
       "\t<tr><th scope=row>ReturnOct</th><td> 0.14</td><td>-0.09</td><td>-0.01</td><td> 0.05</td><td> 0.02</td><td>-0.02</td><td>-0.05</td><td>-0.08</td><td>-0.06</td><td> 1.00</td><td> 0.19</td><td>-0.05</td></tr>\n",
       "\t<tr><th scope=row>ReturnNov</th><td> 0.07</td><td>-0.15</td><td> 0.04</td><td> 0.03</td><td> 0.05</td><td>-0.07</td><td>-0.05</td><td>-0.12</td><td>-0.02</td><td> 0.19</td><td> 1.00</td><td>-0.06</td></tr>\n",
       "\t<tr><th scope=row>PositiveDec</th><td> 0.00</td><td>-0.04</td><td> 0.02</td><td> 0.09</td><td> 0.06</td><td> 0.02</td><td> 0.07</td><td> 0.00</td><td> 0.04</td><td>-0.05</td><td>-0.06</td><td> 1.00</td></tr>\n",
       "</tbody>\n",
       "</table>\n"
      ],
      "text/latex": [
       "A matrix: 12 × 12 of type dbl\n",
       "\\begin{tabular}{r|llllllllllll}\n",
       "  & ReturnJan & ReturnFeb & ReturnMar & ReturnApr & ReturnMay & ReturnJune & ReturnJuly & ReturnAug & ReturnSep & ReturnOct & ReturnNov & PositiveDec\\\\\n",
       "\\hline\n",
       "\tReturnJan &  1.00 &  0.07 & -0.09 & -0.04 & -0.04 &  0.09 & -0.08 & -0.02 & -0.03 &  0.14 &  0.07 &  0.00\\\\\n",
       "\tReturnFeb &  0.07 &  1.00 & -0.16 & -0.19 & -0.10 &  0.17 & -0.06 &  0.13 &  0.04 & -0.09 & -0.15 & -0.04\\\\\n",
       "\tReturnMar & -0.09 & -0.16 &  1.00 &  0.01 &  0.00 & -0.09 &  0.00 & -0.02 &  0.08 & -0.01 &  0.04 &  0.02\\\\\n",
       "\tReturnApr & -0.04 & -0.19 &  0.01 &  1.00 &  0.06 & -0.01 &  0.08 & -0.05 & -0.03 &  0.05 &  0.03 &  0.09\\\\\n",
       "\tReturnMay & -0.04 & -0.10 &  0.00 &  0.06 &  1.00 & -0.02 &  0.09 & -0.03 &  0.02 &  0.02 &  0.05 &  0.06\\\\\n",
       "\tReturnJune &  0.09 &  0.17 & -0.09 & -0.01 & -0.02 &  1.00 & -0.03 &  0.01 &  0.04 & -0.02 & -0.07 &  0.02\\\\\n",
       "\tReturnJuly & -0.08 & -0.06 &  0.00 &  0.08 &  0.09 & -0.03 &  1.00 &  0.00 &  0.07 & -0.05 & -0.05 &  0.07\\\\\n",
       "\tReturnAug & -0.02 &  0.13 & -0.02 & -0.05 & -0.03 &  0.01 &  0.00 &  1.00 &  0.00 & -0.08 & -0.12 &  0.00\\\\\n",
       "\tReturnSep & -0.03 &  0.04 &  0.08 & -0.03 &  0.02 &  0.04 &  0.07 &  0.00 &  1.00 & -0.06 & -0.02 &  0.04\\\\\n",
       "\tReturnOct &  0.14 & -0.09 & -0.01 &  0.05 &  0.02 & -0.02 & -0.05 & -0.08 & -0.06 &  1.00 &  0.19 & -0.05\\\\\n",
       "\tReturnNov &  0.07 & -0.15 &  0.04 &  0.03 &  0.05 & -0.07 & -0.05 & -0.12 & -0.02 &  0.19 &  1.00 & -0.06\\\\\n",
       "\tPositiveDec &  0.00 & -0.04 &  0.02 &  0.09 &  0.06 &  0.02 &  0.07 &  0.00 &  0.04 & -0.05 & -0.06 &  1.00\\\\\n",
       "\\end{tabular}\n"
      ],
      "text/markdown": [
       "\n",
       "A matrix: 12 × 12 of type dbl\n",
       "\n",
       "| <!--/--> | ReturnJan | ReturnFeb | ReturnMar | ReturnApr | ReturnMay | ReturnJune | ReturnJuly | ReturnAug | ReturnSep | ReturnOct | ReturnNov | PositiveDec |\n",
       "|---|---|---|---|---|---|---|---|---|---|---|---|---|\n",
       "| ReturnJan |  1.00 |  0.07 | -0.09 | -0.04 | -0.04 |  0.09 | -0.08 | -0.02 | -0.03 |  0.14 |  0.07 |  0.00 |\n",
       "| ReturnFeb |  0.07 |  1.00 | -0.16 | -0.19 | -0.10 |  0.17 | -0.06 |  0.13 |  0.04 | -0.09 | -0.15 | -0.04 |\n",
       "| ReturnMar | -0.09 | -0.16 |  1.00 |  0.01 |  0.00 | -0.09 |  0.00 | -0.02 |  0.08 | -0.01 |  0.04 |  0.02 |\n",
       "| ReturnApr | -0.04 | -0.19 |  0.01 |  1.00 |  0.06 | -0.01 |  0.08 | -0.05 | -0.03 |  0.05 |  0.03 |  0.09 |\n",
       "| ReturnMay | -0.04 | -0.10 |  0.00 |  0.06 |  1.00 | -0.02 |  0.09 | -0.03 |  0.02 |  0.02 |  0.05 |  0.06 |\n",
       "| ReturnJune |  0.09 |  0.17 | -0.09 | -0.01 | -0.02 |  1.00 | -0.03 |  0.01 |  0.04 | -0.02 | -0.07 |  0.02 |\n",
       "| ReturnJuly | -0.08 | -0.06 |  0.00 |  0.08 |  0.09 | -0.03 |  1.00 |  0.00 |  0.07 | -0.05 | -0.05 |  0.07 |\n",
       "| ReturnAug | -0.02 |  0.13 | -0.02 | -0.05 | -0.03 |  0.01 |  0.00 |  1.00 |  0.00 | -0.08 | -0.12 |  0.00 |\n",
       "| ReturnSep | -0.03 |  0.04 |  0.08 | -0.03 |  0.02 |  0.04 |  0.07 |  0.00 |  1.00 | -0.06 | -0.02 |  0.04 |\n",
       "| ReturnOct |  0.14 | -0.09 | -0.01 |  0.05 |  0.02 | -0.02 | -0.05 | -0.08 | -0.06 |  1.00 |  0.19 | -0.05 |\n",
       "| ReturnNov |  0.07 | -0.15 |  0.04 |  0.03 |  0.05 | -0.07 | -0.05 | -0.12 | -0.02 |  0.19 |  1.00 | -0.06 |\n",
       "| PositiveDec |  0.00 | -0.04 |  0.02 |  0.09 |  0.06 |  0.02 |  0.07 |  0.00 |  0.04 | -0.05 | -0.06 |  1.00 |\n",
       "\n"
      ],
      "text/plain": [
       "            ReturnJan ReturnFeb ReturnMar ReturnApr ReturnMay ReturnJune\n",
       "ReturnJan    1.00      0.07     -0.09     -0.04     -0.04      0.09     \n",
       "ReturnFeb    0.07      1.00     -0.16     -0.19     -0.10      0.17     \n",
       "ReturnMar   -0.09     -0.16      1.00      0.01      0.00     -0.09     \n",
       "ReturnApr   -0.04     -0.19      0.01      1.00      0.06     -0.01     \n",
       "ReturnMay   -0.04     -0.10      0.00      0.06      1.00     -0.02     \n",
       "ReturnJune   0.09      0.17     -0.09     -0.01     -0.02      1.00     \n",
       "ReturnJuly  -0.08     -0.06      0.00      0.08      0.09     -0.03     \n",
       "ReturnAug   -0.02      0.13     -0.02     -0.05     -0.03      0.01     \n",
       "ReturnSep   -0.03      0.04      0.08     -0.03      0.02      0.04     \n",
       "ReturnOct    0.14     -0.09     -0.01      0.05      0.02     -0.02     \n",
       "ReturnNov    0.07     -0.15      0.04      0.03      0.05     -0.07     \n",
       "PositiveDec  0.00     -0.04      0.02      0.09      0.06      0.02     \n",
       "            ReturnJuly ReturnAug ReturnSep ReturnOct ReturnNov PositiveDec\n",
       "ReturnJan   -0.08      -0.02     -0.03      0.14      0.07      0.00      \n",
       "ReturnFeb   -0.06       0.13      0.04     -0.09     -0.15     -0.04      \n",
       "ReturnMar    0.00      -0.02      0.08     -0.01      0.04      0.02      \n",
       "ReturnApr    0.08      -0.05     -0.03      0.05      0.03      0.09      \n",
       "ReturnMay    0.09      -0.03      0.02      0.02      0.05      0.06      \n",
       "ReturnJune  -0.03       0.01      0.04     -0.02     -0.07      0.02      \n",
       "ReturnJuly   1.00       0.00      0.07     -0.05     -0.05      0.07      \n",
       "ReturnAug    0.00       1.00      0.00     -0.08     -0.12      0.00      \n",
       "ReturnSep    0.07       0.00      1.00     -0.06     -0.02      0.04      \n",
       "ReturnOct   -0.05      -0.08     -0.06      1.00      0.19     -0.05      \n",
       "ReturnNov   -0.05      -0.12     -0.02      0.19      1.00     -0.06      \n",
       "PositiveDec  0.07       0.00      0.04     -0.05     -0.06      1.00      "
      ]
     },
     "metadata": {},
     "output_type": "display_data"
    }
   ],
   "source": [
    "round(cor,2)"
   ]
  },
  {
   "cell_type": "markdown",
   "metadata": {},
   "source": [
    "Answer: \"ReturnOct\" with \"TeturnNov\""
   ]
  },
  {
   "cell_type": "markdown",
   "metadata": {},
   "source": [
    "### Problem 1.4 - Exploring the Dataset\n",
    "**Which month (from January through November) has the largest mean return across all observations in the dataset?**"
   ]
  },
  {
   "cell_type": "code",
   "execution_count": 7,
   "metadata": {},
   "outputs": [
    {
     "data": {
      "text/plain": [
       "   ReturnJan            ReturnFeb           ReturnMar        \n",
       " Min.   :-0.7616205   Min.   :-0.690000   Min.   :-0.712994  \n",
       " 1st Qu.:-0.0691663   1st Qu.:-0.077748   1st Qu.:-0.046389  \n",
       " Median : 0.0009965   Median :-0.010626   Median : 0.009878  \n",
       " Mean   : 0.0126316   Mean   :-0.007605   Mean   : 0.019402  \n",
       " 3rd Qu.: 0.0732606   3rd Qu.: 0.043600   3rd Qu.: 0.077066  \n",
       " Max.   : 3.0683060   Max.   : 6.943694   Max.   : 4.008621  \n",
       "   ReturnApr           ReturnMay          ReturnJune       \n",
       " Min.   :-0.826503   Min.   :-0.92207   Min.   :-0.717920  \n",
       " 1st Qu.:-0.054468   1st Qu.:-0.04640   1st Qu.:-0.063966  \n",
       " Median : 0.009059   Median : 0.01293   Median :-0.000880  \n",
       " Mean   : 0.026308   Mean   : 0.02474   Mean   : 0.005938  \n",
       " 3rd Qu.: 0.085338   3rd Qu.: 0.08396   3rd Qu.: 0.061566  \n",
       " Max.   : 2.528827   Max.   : 6.93013   Max.   : 4.339713  \n",
       "   ReturnJuly           ReturnAug           ReturnSep        \n",
       " Min.   :-0.7613096   Min.   :-0.726800   Min.   :-0.839730  \n",
       " 1st Qu.:-0.0731917   1st Qu.:-0.046272   1st Qu.:-0.074648  \n",
       " Median :-0.0008047   Median : 0.007205   Median :-0.007616  \n",
       " Mean   : 0.0030509   Mean   : 0.016198   Mean   :-0.014721  \n",
       " 3rd Qu.: 0.0718205   3rd Qu.: 0.070783   3rd Qu.: 0.049476  \n",
       " Max.   : 2.5500000   Max.   : 3.626609   Max.   : 5.863980  \n",
       "   ReturnOct           ReturnNov          PositiveDec    \n",
       " Min.   :-0.685504   Min.   :-0.747171   Min.   :0.0000  \n",
       " 1st Qu.:-0.070915   1st Qu.:-0.054890   1st Qu.:0.0000  \n",
       " Median : 0.002115   Median : 0.008522   Median :1.0000  \n",
       " Mean   : 0.005651   Mean   : 0.011387   Mean   :0.5461  \n",
       " 3rd Qu.: 0.074542   3rd Qu.: 0.076576   3rd Qu.:1.0000  \n",
       " Max.   : 5.665138   Max.   : 3.271676   Max.   :1.0000  "
      ]
     },
     "metadata": {},
     "output_type": "display_data"
    }
   ],
   "source": [
    "# Obtain a summary of the data\n",
    "summary(stocks)"
   ]
  },
  {
   "cell_type": "code",
   "execution_count": 8,
   "metadata": {},
   "outputs": [
    {
     "data": {
      "text/html": [
       "<span style=white-space:pre-wrap>'jan:  0.013'</span>"
      ],
      "text/latex": [
       "'jan:  0.013'"
      ],
      "text/markdown": [
       "<span style=white-space:pre-wrap>'jan:  0.013'</span>"
      ],
      "text/plain": [
       "[1] \"jan:  0.013\""
      ]
     },
     "metadata": {},
     "output_type": "display_data"
    },
    {
     "data": {
      "text/html": [
       "<span style=white-space:pre-wrap>'feb:  -0.008'</span>"
      ],
      "text/latex": [
       "'feb:  -0.008'"
      ],
      "text/markdown": [
       "<span style=white-space:pre-wrap>'feb:  -0.008'</span>"
      ],
      "text/plain": [
       "[1] \"feb:  -0.008\""
      ]
     },
     "metadata": {},
     "output_type": "display_data"
    },
    {
     "data": {
      "text/html": [
       "<span style=white-space:pre-wrap>'mar:  0.019'</span>"
      ],
      "text/latex": [
       "'mar:  0.019'"
      ],
      "text/markdown": [
       "<span style=white-space:pre-wrap>'mar:  0.019'</span>"
      ],
      "text/plain": [
       "[1] \"mar:  0.019\""
      ]
     },
     "metadata": {},
     "output_type": "display_data"
    },
    {
     "data": {
      "text/html": [
       "<span style=white-space:pre-wrap>'apr:  0.026'</span>"
      ],
      "text/latex": [
       "'apr:  0.026'"
      ],
      "text/markdown": [
       "<span style=white-space:pre-wrap>'apr:  0.026'</span>"
      ],
      "text/plain": [
       "[1] \"apr:  0.026\""
      ]
     },
     "metadata": {},
     "output_type": "display_data"
    },
    {
     "data": {
      "text/html": [
       "<span style=white-space:pre-wrap>'may:  0.025'</span>"
      ],
      "text/latex": [
       "'may:  0.025'"
      ],
      "text/markdown": [
       "<span style=white-space:pre-wrap>'may:  0.025'</span>"
      ],
      "text/plain": [
       "[1] \"may:  0.025\""
      ]
     },
     "metadata": {},
     "output_type": "display_data"
    },
    {
     "data": {
      "text/html": [
       "<span style=white-space:pre-wrap>'jun:  0.006'</span>"
      ],
      "text/latex": [
       "'jun:  0.006'"
      ],
      "text/markdown": [
       "<span style=white-space:pre-wrap>'jun:  0.006'</span>"
      ],
      "text/plain": [
       "[1] \"jun:  0.006\""
      ]
     },
     "metadata": {},
     "output_type": "display_data"
    },
    {
     "data": {
      "text/html": [
       "<span style=white-space:pre-wrap>'jul:  0.003'</span>"
      ],
      "text/latex": [
       "'jul:  0.003'"
      ],
      "text/markdown": [
       "<span style=white-space:pre-wrap>'jul:  0.003'</span>"
      ],
      "text/plain": [
       "[1] \"jul:  0.003\""
      ]
     },
     "metadata": {},
     "output_type": "display_data"
    },
    {
     "data": {
      "text/html": [
       "<span style=white-space:pre-wrap>'aug:  0.016'</span>"
      ],
      "text/latex": [
       "'aug:  0.016'"
      ],
      "text/markdown": [
       "<span style=white-space:pre-wrap>'aug:  0.016'</span>"
      ],
      "text/plain": [
       "[1] \"aug:  0.016\""
      ]
     },
     "metadata": {},
     "output_type": "display_data"
    },
    {
     "data": {
      "text/html": [
       "<span style=white-space:pre-wrap>'sep:  -0.015'</span>"
      ],
      "text/latex": [
       "'sep:  -0.015'"
      ],
      "text/markdown": [
       "<span style=white-space:pre-wrap>'sep:  -0.015'</span>"
      ],
      "text/plain": [
       "[1] \"sep:  -0.015\""
      ]
     },
     "metadata": {},
     "output_type": "display_data"
    },
    {
     "data": {
      "text/html": [
       "<span style=white-space:pre-wrap>'oct:  0.006'</span>"
      ],
      "text/latex": [
       "'oct:  0.006'"
      ],
      "text/markdown": [
       "<span style=white-space:pre-wrap>'oct:  0.006'</span>"
      ],
      "text/plain": [
       "[1] \"oct:  0.006\""
      ]
     },
     "metadata": {},
     "output_type": "display_data"
    },
    {
     "data": {
      "text/html": [
       "<span style=white-space:pre-wrap>'nov:  0.011'</span>"
      ],
      "text/latex": [
       "'nov:  0.011'"
      ],
      "text/markdown": [
       "<span style=white-space:pre-wrap>'nov:  0.011'</span>"
      ],
      "text/plain": [
       "[1] \"nov:  0.011\""
      ]
     },
     "metadata": {},
     "output_type": "display_data"
    }
   ],
   "source": [
    "jan = round(mean(stocks$ReturnJan),3)\n",
    "feb = round(mean(stocks$ReturnFeb),3)\n",
    "mar = round(mean(stocks$ReturnMar),3)\n",
    "apr = round(mean(stocks$ReturnApr),3)\n",
    "may = round(mean(stocks$ReturnMay),3)\n",
    "jun = round(mean(stocks$ReturnJune),3)\n",
    "jul = round(mean(stocks$ReturnJuly),3)\n",
    "aug = round(mean(stocks$ReturnAug),3)\n",
    "sep = round(mean(stocks$ReturnSep),3)\n",
    "oct = round(mean(stocks$ReturnOct),3)\n",
    "nov = round(mean(stocks$ReturnNov),3)\n",
    "\n",
    "paste(\"jan: \",jan)\n",
    "paste(\"feb: \",feb)\n",
    "paste(\"mar: \",mar)\n",
    "paste(\"apr: \",apr)\n",
    "paste(\"may: \",may)\n",
    "paste(\"jun: \",jun)\n",
    "paste(\"jul: \",jul)\n",
    "paste(\"aug: \",aug)\n",
    "paste(\"sep: \",sep)\n",
    "paste(\"oct: \",oct)\n",
    "paste(\"nov: \",nov)"
   ]
  },
  {
   "cell_type": "markdown",
   "metadata": {},
   "source": [
    "Answer: Largest mean was April with 0.026308"
   ]
  },
  {
   "cell_type": "markdown",
   "metadata": {},
   "source": [
    "**Which month (from January through November) has the smallest mean return across all observations in the dataset?**"
   ]
  },
  {
   "cell_type": "markdown",
   "metadata": {},
   "source": [
    "Answer: Smallest mean was September with -0.014721."
   ]
  },
  {
   "cell_type": "markdown",
   "metadata": {},
   "source": [
    "### Problem 2.1 - Initial Logistic Regression Model\n",
    "Run the following commands to split the data into a training set and testing set, putting 70% of the data in the training set and 30% of the data in the testing set:\n",
    "\n",
    "    set.seed(144)\n",
    "\n",
    "    spl = sample.split(stocks$PositiveDec, SplitRatio = 0.7)\n",
    "\n",
    "    stocksTrain = subset(stocks, spl == TRUE)\n",
    "\n",
    "    stocksTest = subset(stocks, spl == FALSE)\n",
    "\n",
    "Then, use the stocksTrain data frame to train a logistic regression model (name it StocksModel) to predict PositiveDec using all the other variables as independent variables. Don't forget to add the argument family=binomial to your glm command.\n",
    "\n",
    "**What is the overall accuracy on the training set, using a threshold of 0.5?**"
   ]
  },
  {
   "cell_type": "code",
   "execution_count": 9,
   "metadata": {},
   "outputs": [],
   "source": [
    "library(caTools)"
   ]
  },
  {
   "cell_type": "code",
   "execution_count": 10,
   "metadata": {},
   "outputs": [],
   "source": [
    "# Split the dataset -> Training and Testing \n",
    "\n",
    "set.seed(144)\n",
    "\n",
    "spl = sample.split(stocks$PositiveDec, SplitRatio = 0.7)\n",
    "\n",
    "stocksTrain = subset(stocks, spl == TRUE)\n",
    "\n",
    "stocksTest = subset(stocks, spl == FALSE)"
   ]
  },
  {
   "cell_type": "code",
   "execution_count": 11,
   "metadata": {},
   "outputs": [
    {
     "data": {
      "text/plain": [
       "   \n",
       "    FALSE TRUE\n",
       "  0   990 2689\n",
       "  1   787 3640"
      ]
     },
     "metadata": {},
     "output_type": "display_data"
    }
   ],
   "source": [
    "# Create Logistic Regression Model\n",
    "StocksModel= glm(PositiveDec ~ ., data = stocksTrain, family=binomial)\n",
    "\n",
    "# Predict on the training set\n",
    "predictTrain = predict(StocksModel, type=\"response\")\n",
    "\n",
    "# Tabulate the predictions of training set vs our predict function\n",
    "cmTR = table(stocksTrain$PositiveDec, predictTrain > 0.5)\n",
    "cmTR"
   ]
  },
  {
   "cell_type": "markdown",
   "metadata": {},
   "source": [
    "The rows are labeled with the actual outcome, and the columns are labeled with the predicted outcome.\n",
    "\n",
    "                      Predict 0       Predict 1\n",
    "        Actual 0    True Negative   False Positive\n",
    "        Actual 1    False Negative  True Positive\n",
    "\n",
    "        cmTR = [1][3]\n",
    "               [2][4]"
   ]
  },
  {
   "cell_type": "code",
   "execution_count": 12,
   "metadata": {},
   "outputs": [
    {
     "data": {
      "text/html": [
       "'Accuracy Logistic Regression Training Set: 0.5712'"
      ],
      "text/latex": [
       "'Accuracy Logistic Regression Training Set: 0.5712'"
      ],
      "text/markdown": [
       "'Accuracy Logistic Regression Training Set: 0.5712'"
      ],
      "text/plain": [
       "[1] \"Accuracy Logistic Regression Training Set: 0.5712\""
      ]
     },
     "metadata": {},
     "output_type": "display_data"
    }
   ],
   "source": [
    "# Compute Logistic Regression Model Training Set Accuracy\n",
    "accurLGTR = sum(diag(cmTR))/sum(cmTR)\n",
    "paste(\"Accuracy Logistic Regression Training Set:\", round(accurLGTR,digits=4))"
   ]
  },
  {
   "cell_type": "markdown",
   "metadata": {},
   "source": [
    "### Problem 2.2 - Initial Logistic Regression Model\n",
    "Now obtain test set predictions from StocksModel. **What is the overall accuracy of the model on the test, again using a threshold of 0.5?**"
   ]
  },
  {
   "cell_type": "code",
   "execution_count": 13,
   "metadata": {},
   "outputs": [
    {
     "data": {
      "text/plain": [
       "   \n",
       "    FALSE TRUE\n",
       "  0   417 1160\n",
       "  1   344 1553"
      ]
     },
     "metadata": {},
     "output_type": "display_data"
    }
   ],
   "source": [
    "# Predict on the test set\n",
    "predictTest = predict(StocksModel, type=\"response\", newdata=stocksTest)\n",
    "\n",
    "# Tabulate the predictions of test set vs our predict function\n",
    "cmTE = table(stocksTest$PositiveDec, predictTest > 0.5)\n",
    "cmTE"
   ]
  },
  {
   "cell_type": "code",
   "execution_count": 14,
   "metadata": {},
   "outputs": [
    {
     "data": {
      "text/html": [
       "'Accuracy Logistic Regression Test Set: 0.5671'"
      ],
      "text/latex": [
       "'Accuracy Logistic Regression Test Set: 0.5671'"
      ],
      "text/markdown": [
       "'Accuracy Logistic Regression Test Set: 0.5671'"
      ],
      "text/plain": [
       "[1] \"Accuracy Logistic Regression Test Set: 0.5671\""
      ]
     },
     "metadata": {},
     "output_type": "display_data"
    }
   ],
   "source": [
    "# Compute Logistic Regression Model Test Set Accuracy\n",
    "accurLGTE = sum(diag(cmTE))/sum(cmTE)\n",
    "paste(\"Accuracy Logistic Regression Test Set:\", round(accurLGTE,digits=4))"
   ]
  },
  {
   "cell_type": "markdown",
   "metadata": {},
   "source": [
    "### Problem 2.3 - Initial Logistic Regression Model\n",
    "**What is the accuracy on the test set of a baseline model that always predicts the most common outcome (PositiveDec = 1)?**"
   ]
  },
  {
   "cell_type": "code",
   "execution_count": 15,
   "metadata": {},
   "outputs": [
    {
     "data": {
      "text/plain": [
       "\n",
       "   0    1 \n",
       "1577 1897 "
      ]
     },
     "metadata": {},
     "output_type": "display_data"
    }
   ],
   "source": [
    "# Tabulate the test set positive december returns\n",
    "cmPD = table(stocksTest$PositiveDec)\n",
    "cmPD"
   ]
  },
  {
   "cell_type": "code",
   "execution_count": 16,
   "metadata": {},
   "outputs": [
    {
     "data": {
      "text/html": [
       "'Accuracy Baseline: 0.5461'"
      ],
      "text/latex": [
       "'Accuracy Baseline: 0.5461'"
      ],
      "text/markdown": [
       "'Accuracy Baseline: 0.5461'"
      ],
      "text/plain": [
       "[1] \"Accuracy Baseline: 0.5461\""
      ]
     },
     "metadata": {},
     "output_type": "display_data"
    }
   ],
   "source": [
    "# Compute Baseline Model Accuracy\n",
    "accurBL = max(cmPD)/sum(cmPD)\n",
    "paste(\"Accuracy Baseline:\", round(accurBL,digits=4))"
   ]
  },
  {
   "cell_type": "markdown",
   "metadata": {},
   "source": [
    "### Problem 3.1 - Clustering Stocks\n",
    "Now, let's cluster the stocks. The first step in this process is to remove the dependent variable using the following commands:\n",
    "\n",
    "    limitedTrain = stocksTrain\n",
    "\n",
    "    limitedTrain$PositiveDec = NULL\n",
    "\n",
    "    limitedTest = stocksTest\n",
    "\n",
    "    limitedTest$PositiveDec = NULL\n",
    "\n",
    "**Why do we need to remove the dependent variable in the clustering phase of the cluster-then-predict methodology?**"
   ]
  },
  {
   "cell_type": "code",
   "execution_count": 17,
   "metadata": {},
   "outputs": [],
   "source": [
    "#Remove Dependent Variable\n",
    "\n",
    "limitedTrain = stocksTrain\n",
    "\n",
    "limitedTrain$PositiveDec = NULL\n",
    "\n",
    "limitedTest = stocksTest\n",
    "\n",
    "limitedTest$PositiveDec = NULL"
   ]
  },
  {
   "cell_type": "markdown",
   "metadata": {},
   "source": [
    "Answer: In cluster-then-predict, our final goal is to predict the dependent variable, which is unknown to us at the time of prediction. Therefore, if we need to know the outcome value to perform the clustering, the methodology is no longer useful for prediction of an unknown outcome value.\n",
    "\n",
    "This is an important point that is sometimes mistakenly overlooked. If you use the outcome value to cluster, you might conclude your method strongly outperforms a non-clustering alternative. However, this is because it is using the outcome to determine the clusters, which is not valid."
   ]
  },
  {
   "cell_type": "markdown",
   "metadata": {},
   "source": [
    "### Problem 3.2 - Clustering Stocks\n",
    "In the market segmentation assignment in this week's homework, you were introduced to the preProcess command from the caret package, which normalizes variables by subtracting by the mean and dividing by the standard deviation.\n",
    "\n",
    "In cases where we have a training and testing set, we'll want to normalize by the mean and standard deviation of the variables in the training set. We can do this by passing just the training set to the preProcess function:\n",
    "\n",
    "    library(caret)\n",
    "\n",
    "    preproc = preProcess(limitedTrain)\n",
    "\n",
    "    normTrain = predict(preproc, limitedTrain)\n",
    "\n",
    "    normTest = predict(preproc, limitedTest)\n",
    "\n",
    "**What is the mean of the ReturnJan variable in normTrain?**"
   ]
  },
  {
   "cell_type": "code",
   "execution_count": 18,
   "metadata": {},
   "outputs": [
    {
     "name": "stderr",
     "output_type": "stream",
     "text": [
      "Loading required package: lattice\n",
      "\n",
      "Loading required package: ggplot2\n",
      "\n"
     ]
    }
   ],
   "source": [
    "library(caret)"
   ]
  },
  {
   "cell_type": "code",
   "execution_count": 19,
   "metadata": {},
   "outputs": [],
   "source": [
    "#Preprocess the data\n",
    "\n",
    "preproc = preProcess(limitedTrain)\n",
    "\n",
    "normTrain = predict(preproc, limitedTrain)\n",
    "\n",
    "normTest = predict(preproc, limitedTest)"
   ]
  },
  {
   "cell_type": "code",
   "execution_count": 20,
   "metadata": {},
   "outputs": [
    {
     "data": {
      "text/html": [
       "<span style=white-space:pre-wrap>'ReturnJan Mean in normTrain:  2.10058620167752e-17'</span>"
      ],
      "text/latex": [
       "'ReturnJan Mean in normTrain:  2.10058620167752e-17'"
      ],
      "text/markdown": [
       "<span style=white-space:pre-wrap>'ReturnJan Mean in normTrain:  2.10058620167752e-17'</span>"
      ],
      "text/plain": [
       "[1] \"ReturnJan Mean in normTrain:  2.10058620167752e-17\""
      ]
     },
     "metadata": {},
     "output_type": "display_data"
    }
   ],
   "source": [
    "#Obtains the mean of the ReturnJan variable in normTrain\n",
    "mj = mean(normTrain$ReturnJan)\n",
    "paste(\"ReturnJan Mean in normTrain: \", mj)"
   ]
  },
  {
   "cell_type": "markdown",
   "metadata": {},
   "source": [
    "**What is the mean of the ReturnJan variable in normTest?**"
   ]
  },
  {
   "cell_type": "code",
   "execution_count": 21,
   "metadata": {},
   "outputs": [
    {
     "data": {
      "text/html": [
       "<span style=white-space:pre-wrap>'ReturnJan Mean in normTest:  -0.000418588563471001'</span>"
      ],
      "text/latex": [
       "'ReturnJan Mean in normTest:  -0.000418588563471001'"
      ],
      "text/markdown": [
       "<span style=white-space:pre-wrap>'ReturnJan Mean in normTest:  -0.000418588563471001'</span>"
      ],
      "text/plain": [
       "[1] \"ReturnJan Mean in normTest:  -0.000418588563471001\""
      ]
     },
     "metadata": {},
     "output_type": "display_data"
    }
   ],
   "source": [
    "#Obtains the mean of the ReturnJan variable in normTrain\n",
    "mjt = mean(normTest$ReturnJan)\n",
    "paste(\"ReturnJan Mean in normTest: \", mjt)"
   ]
  },
  {
   "cell_type": "markdown",
   "metadata": {},
   "source": [
    "### Problem 3.3 - Clustering Stocks\n",
    "**Why is the mean ReturnJan variable much closer to 0 in normTrain than in normTest?**"
   ]
  },
  {
   "cell_type": "markdown",
   "metadata": {},
   "source": [
    "Answer: From mean(stocksTrain\\\\$ReturnJan) and mean(stocksTest$ReturnJan), we see that the average return in January is slightly higher in the training set than in the testing set. Since normTest was constructed by subtracting by the mean ReturnJan value from the training set, this explains why the mean value of ReturnJan is slightly negative in normTest."
   ]
  },
  {
   "cell_type": "markdown",
   "metadata": {},
   "source": [
    "### Problem 3.4 - Clustering Stocks\n",
    "Set the random seed to 144 (it is important to do this again, even though we did it earlier). Run k-means clustering with 3 clusters on normTrain, storing the result in an object called kmc.\n",
    "\n",
    "**Which cluster has the largest number of observations?**"
   ]
  },
  {
   "cell_type": "code",
   "execution_count": 22,
   "metadata": {},
   "outputs": [],
   "source": [
    "# implemenmt the k-mean cluster\n",
    "set.seed(144)\n",
    "kmc = kmeans(normTrain, centers=3)\n",
    "\n",
    "# Subset the clusters into three different clusters\n",
    "KmeansCluster1 = subset(normTrain, kmc$cluster == 1)\n",
    "KmeansCluster2 = subset(normTrain, kmc$cluster == 2)\n",
    "KmeansCluster3 = subset(normTrain, kmc$cluster == 3)"
   ]
  },
  {
   "cell_type": "code",
   "execution_count": 23,
   "metadata": {},
   "outputs": [
    {
     "data": {
      "text/plain": [
       "\n",
       "   1    2    3 \n",
       "2479 4731  896 "
      ]
     },
     "metadata": {},
     "output_type": "display_data"
    }
   ],
   "source": [
    "# Number of observations\n",
    "no = table(kmc$cluster)\n",
    "no"
   ]
  },
  {
   "cell_type": "code",
   "execution_count": 24,
   "metadata": {},
   "outputs": [
    {
     "data": {
      "text/html": [
       "<strong>2:</strong> 2"
      ],
      "text/latex": [
       "\\textbf{2:} 2"
      ],
      "text/markdown": [
       "**2:** 2"
      ],
      "text/plain": [
       "2 \n",
       "2 "
      ]
     },
     "metadata": {},
     "output_type": "display_data"
    }
   ],
   "source": [
    "# Cluster with the largest number of observations\n",
    "which.max(no)"
   ]
  },
  {
   "cell_type": "markdown",
   "metadata": {},
   "source": [
    "Answer: Cluster 2 with 4731 observations."
   ]
  },
  {
   "cell_type": "markdown",
   "metadata": {},
   "source": [
    "### Problem 3.5 - Clustering Stocks\n",
    "Recall from the recitation that we can use the flexclust package to obtain training set and testing set cluster assignments for our observations (note that the call to as.kcca may take a while to complete):\n",
    "\n",
    "    library(flexclust)\n",
    "\n",
    "    km.kcca = as.kcca(km, normTrain)\n",
    "\n",
    "    clusterTrain = predict(km.kcca)\n",
    "\n",
    "    clusterTest = predict(km.kcca, newdata=normTest)\n",
    "\n",
    "**How many test-set observations were assigned to Cluster 2?**"
   ]
  },
  {
   "cell_type": "code",
   "execution_count": 25,
   "metadata": {},
   "outputs": [
    {
     "name": "stderr",
     "output_type": "stream",
     "text": [
      "Loading required package: grid\n",
      "\n",
      "Loading required package: modeltools\n",
      "\n",
      "Loading required package: stats4\n",
      "\n"
     ]
    }
   ],
   "source": [
    "# Flexclust package\n",
    "library(flexclust)\n",
    "\n",
    "kmc.kcca = as.kcca(kmc, normTrain)"
   ]
  },
  {
   "cell_type": "code",
   "execution_count": 26,
   "metadata": {},
   "outputs": [],
   "source": [
    "# Predict the Training set\n",
    "clusterTrain = predict(kmc.kcca)\n",
    "\n",
    "# Predict the Test set\n",
    "clusterTest = predict(kmc.kcca, newdata=normTest)"
   ]
  },
  {
   "cell_type": "code",
   "execution_count": 27,
   "metadata": {},
   "outputs": [
    {
     "data": {
      "text/plain": [
       "clusterTest\n",
       "   1    2    3 \n",
       "1058 2029  387 "
      ]
     },
     "metadata": {},
     "output_type": "display_data"
    }
   ],
   "source": [
    "# Number of observations \n",
    "notest = table(clusterTest)\n",
    "notest"
   ]
  },
  {
   "cell_type": "code",
   "execution_count": 28,
   "metadata": {},
   "outputs": [
    {
     "data": {
      "text/html": [
       "<strong>2:</strong> 2029"
      ],
      "text/latex": [
       "\\textbf{2:} 2029"
      ],
      "text/markdown": [
       "**2:** 2029"
      ],
      "text/plain": [
       "   2 \n",
       "2029 "
      ]
     },
     "metadata": {},
     "output_type": "display_data"
    }
   ],
   "source": [
    "notest[2]"
   ]
  },
  {
   "cell_type": "markdown",
   "metadata": {},
   "source": [
    "### Problem 4.1 - Cluster-Specific Predictions\n",
    "Using the subset function, build data frames stocksTrain1, stocksTrain2, and stocksTrain3, containing the elements in the stocksTrain data frame assigned to clusters 1, 2, and 3, respectively (be careful to take subsets of stocksTrain, not of normTrain). Similarly build stocksTest1, stocksTest2, and stocksTest3 from the stocksTest data frame.\n",
    "\n",
    "**Which training set data frame has the highest average value of the dependent variable?**"
   ]
  },
  {
   "cell_type": "code",
   "execution_count": 29,
   "metadata": {},
   "outputs": [],
   "source": [
    "# Subsetting stocksTrain into 1, 2, and 3 from the respective clusters\n",
    "stocksTrain1 = subset(stocksTrain, clusterTrain == 1)\n",
    "stocksTrain2 = subset(stocksTrain, clusterTrain == 2)\n",
    "stocksTrain3 = subset(stocksTrain, clusterTrain == 3)\n",
    "\n",
    "# Subsetting stocksTest into 1, 2, and 3 from the respective clusters\n",
    "stocksTest1 = subset(stocksTest, clusterTest == 1)\n",
    "stocksTest2 = subset(stocksTest, clusterTest == 2)\n",
    "stocksTest3 = subset(stocksTest, clusterTest == 3)"
   ]
  },
  {
   "cell_type": "code",
   "execution_count": 30,
   "metadata": {},
   "outputs": [
    {
     "data": {
      "text/html": [
       "<span style=white-space:pre-wrap>'Average Value of Positive December Returns in Cluster Train 1:  0.6103'</span>"
      ],
      "text/latex": [
       "'Average Value of Positive December Returns in Cluster Train 1:  0.6103'"
      ],
      "text/markdown": [
       "<span style=white-space:pre-wrap>'Average Value of Positive December Returns in Cluster Train 1:  0.6103'</span>"
      ],
      "text/plain": [
       "[1] \"Average Value of Positive December Returns in Cluster Train 1:  0.6103\""
      ]
     },
     "metadata": {},
     "output_type": "display_data"
    },
    {
     "data": {
      "text/html": [
       "<span style=white-space:pre-wrap>'Average Value of Positive December Returns in Cluster Train 2:  0.525'</span>"
      ],
      "text/latex": [
       "'Average Value of Positive December Returns in Cluster Train 2:  0.525'"
      ],
      "text/markdown": [
       "<span style=white-space:pre-wrap>'Average Value of Positive December Returns in Cluster Train 2:  0.525'</span>"
      ],
      "text/plain": [
       "[1] \"Average Value of Positive December Returns in Cluster Train 2:  0.525\""
      ]
     },
     "metadata": {},
     "output_type": "display_data"
    },
    {
     "data": {
      "text/html": [
       "<span style=white-space:pre-wrap>'Average Value of Positive December Returns in Cluster Train 3:  0.4799'</span>"
      ],
      "text/latex": [
       "'Average Value of Positive December Returns in Cluster Train 3:  0.4799'"
      ],
      "text/markdown": [
       "<span style=white-space:pre-wrap>'Average Value of Positive December Returns in Cluster Train 3:  0.4799'</span>"
      ],
      "text/plain": [
       "[1] \"Average Value of Positive December Returns in Cluster Train 3:  0.4799\""
      ]
     },
     "metadata": {},
     "output_type": "display_data"
    }
   ],
   "source": [
    "# Compute the average value of the Positive December returns in each respective cluster\n",
    "\n",
    "a = mean(stocksTrain1$PositiveDec)\n",
    "b = mean(stocksTrain2$PositiveDec)\n",
    "c = mean(stocksTrain3$PositiveDec)\n",
    "\n",
    "paste(\"Average Value of Positive December Returns in Cluster Train 1: \",round(a,4))\n",
    "paste(\"Average Value of Positive December Returns in Cluster Train 2: \",round(b,4))\n",
    "paste(\"Average Value of Positive December Returns in Cluster Train 3: \",round(c,4))"
   ]
  },
  {
   "cell_type": "markdown",
   "metadata": {},
   "source": [
    "Answer: Cluster 1."
   ]
  },
  {
   "cell_type": "markdown",
   "metadata": {},
   "source": [
    "### Problem 4.2 - Cluster-Specific Predictions\n",
    "Build logistic regression models StocksModel1, StocksModel2, and StocksModel3, which predict PositiveDec using all the other variables as independent variables. StocksModel1 should be trained on stocksTrain1, StocksModel2 should be trained on stocksTrain2, and StocksModel3 should be trained on stocksTrain3.\n",
    "\n",
    "**Which variables have a positive sign for the coefficient in at least one of StocksModel1, StocksModel2, and StocksModel3 and a negative sign for the coefficient in at least one of StocksModel1, StocksModel2, and StocksModel3?**"
   ]
  },
  {
   "cell_type": "code",
   "execution_count": 31,
   "metadata": {},
   "outputs": [],
   "source": [
    "# Create Logistic Regression Model for each Cluster Training\n",
    "\n",
    "StocksModel1= glm(PositiveDec ~ ., data = stocksTrain1, family=binomial)\n",
    "\n",
    "StocksModel2= glm(PositiveDec ~ ., data = stocksTrain2, family=binomial)\n",
    "\n",
    "StocksModel3= glm(PositiveDec ~ ., data = stocksTrain3, family=binomial)"
   ]
  },
  {
   "cell_type": "code",
   "execution_count": 32,
   "metadata": {},
   "outputs": [
    {
     "data": {
      "text/plain": [
       "\n",
       "Call:\n",
       "glm(formula = PositiveDec ~ ., family = binomial, data = stocksTrain1)\n",
       "\n",
       "Deviance Residuals: \n",
       "    Min       1Q   Median       3Q      Max  \n",
       "-2.7220  -1.2879   0.8679   1.0096   1.7170  \n",
       "\n",
       "Coefficients:\n",
       "            Estimate Std. Error z value Pr(>|z|)    \n",
       "(Intercept)  0.20739    0.08020   2.586  0.00971 ** \n",
       "ReturnJan    0.12448    0.31474   0.396  0.69246    \n",
       "ReturnFeb   -0.46307    0.32713  -1.416  0.15692    \n",
       "ReturnMar    0.55465    0.24804   2.236  0.02534 *  \n",
       "ReturnApr    1.08354    0.25005   4.333 1.47e-05 ***\n",
       "ReturnMay    0.30487    0.24993   1.220  0.22253    \n",
       "ReturnJune   0.00172    0.33525   0.005  0.99591    \n",
       "ReturnJuly  -0.02763    0.30216  -0.091  0.92714    \n",
       "ReturnAug    0.40299    0.34570   1.166  0.24373    \n",
       "ReturnSep    0.70779    0.32611   2.170  0.02998 *  \n",
       "ReturnOct   -1.33254    0.29055  -4.586 4.51e-06 ***\n",
       "ReturnNov   -0.78944    0.30583  -2.581  0.00984 ** \n",
       "---\n",
       "Signif. codes:  0 '***' 0.001 '**' 0.01 '*' 0.05 '.' 0.1 ' ' 1\n",
       "\n",
       "(Dispersion parameter for binomial family taken to be 1)\n",
       "\n",
       "    Null deviance: 3314.9  on 2478  degrees of freedom\n",
       "Residual deviance: 3244.0  on 2467  degrees of freedom\n",
       "AIC: 3268\n",
       "\n",
       "Number of Fisher Scoring iterations: 4\n"
      ]
     },
     "metadata": {},
     "output_type": "display_data"
    }
   ],
   "source": [
    "# Examine the logistic regression models\n",
    "summary(StocksModel1)"
   ]
  },
  {
   "cell_type": "code",
   "execution_count": 33,
   "metadata": {},
   "outputs": [
    {
     "data": {
      "text/plain": [
       "\n",
       "Call:\n",
       "glm(formula = PositiveDec ~ ., family = binomial, data = stocksTrain2)\n",
       "\n",
       "Deviance Residuals: \n",
       "    Min       1Q   Median       3Q      Max  \n",
       "-2.2268  -1.2086   0.9698   1.1294   1.6769  \n",
       "\n",
       "Coefficients:\n",
       "              Estimate Std. Error z value Pr(>|z|)    \n",
       "(Intercept)  0.1165255  0.0335061   3.478 0.000506 ***\n",
       "ReturnJan    0.4489316  0.2414090   1.860 0.062938 .  \n",
       "ReturnFeb   -0.1385458  0.1514734  -0.915 0.360373    \n",
       "ReturnMar    0.4657754  0.2442129   1.907 0.056488 .  \n",
       "ReturnApr    0.7839726  0.2558668   3.064 0.002184 ** \n",
       "ReturnMay    0.7709831  0.2625217   2.937 0.003316 ** \n",
       "ReturnJune   0.5764584  0.2191809   2.630 0.008537 ** \n",
       "ReturnJuly   0.8654737  0.2869778   3.016 0.002563 ** \n",
       "ReturnAug    0.0177313  0.2317020   0.077 0.939001    \n",
       "ReturnSep    1.0464947  0.2684133   3.899 9.67e-05 ***\n",
       "ReturnOct   -0.0001062  0.2426989   0.000 0.999651    \n",
       "ReturnNov   -0.3716212  0.2603210  -1.428 0.153421    \n",
       "---\n",
       "Signif. codes:  0 '***' 0.001 '**' 0.01 '*' 0.05 '.' 0.1 ' ' 1\n",
       "\n",
       "(Dispersion parameter for binomial family taken to be 1)\n",
       "\n",
       "    Null deviance: 6546.7  on 4730  degrees of freedom\n",
       "Residual deviance: 6481.4  on 4719  degrees of freedom\n",
       "AIC: 6505.4\n",
       "\n",
       "Number of Fisher Scoring iterations: 4\n"
      ]
     },
     "metadata": {},
     "output_type": "display_data"
    }
   ],
   "source": [
    "# Examine the logistic regression models\n",
    "summary(StocksModel2)"
   ]
  },
  {
   "cell_type": "code",
   "execution_count": 34,
   "metadata": {},
   "outputs": [
    {
     "data": {
      "text/plain": [
       "\n",
       "Call:\n",
       "glm(formula = PositiveDec ~ ., family = binomial, data = stocksTrain3)\n",
       "\n",
       "Deviance Residuals: \n",
       "    Min       1Q   Median       3Q      Max  \n",
       "-1.8938  -1.0863  -0.5241   1.0874   2.1892  \n",
       "\n",
       "Coefficients:\n",
       "            Estimate Std. Error z value Pr(>|z|)    \n",
       "(Intercept)   0.4504     0.1700   2.649 0.008071 ** \n",
       "ReturnJan     0.3816     0.2742   1.392 0.163927    \n",
       "ReturnFeb     0.3943     0.4612   0.855 0.392490    \n",
       "ReturnMar    -1.7220     0.4372  -3.938 8.20e-05 ***\n",
       "ReturnApr     0.5214     0.3275   1.592 0.111316    \n",
       "ReturnMay     1.1301     0.4274   2.644 0.008194 ** \n",
       "ReturnJune    1.5889     0.4423   3.592 0.000328 ***\n",
       "ReturnJuly    1.3800     0.4602   2.999 0.002709 ** \n",
       "ReturnAug     0.4146     0.4824   0.860 0.390054    \n",
       "ReturnSep    -0.0148     0.4754  -0.031 0.975167    \n",
       "ReturnOct    -0.6820     0.3044  -2.241 0.025039 *  \n",
       "ReturnNov    -1.7175     0.4133  -4.156 3.24e-05 ***\n",
       "---\n",
       "Signif. codes:  0 '***' 0.001 '**' 0.01 '*' 0.05 '.' 0.1 ' ' 1\n",
       "\n",
       "(Dispersion parameter for binomial family taken to be 1)\n",
       "\n",
       "    Null deviance: 1240.7  on 895  degrees of freedom\n",
       "Residual deviance: 1131.5  on 884  degrees of freedom\n",
       "AIC: 1155.5\n",
       "\n",
       "Number of Fisher Scoring iterations: 4\n"
      ]
     },
     "metadata": {},
     "output_type": "display_data"
    }
   ],
   "source": [
    "# Examine the logistic regression models\n",
    "summary(StocksModel3)"
   ]
  },
  {
   "cell_type": "markdown",
   "metadata": {},
   "source": [
    "Answer: ReturnJan, ReturnFeb, ReturnMar, ReturnJune, ReturnAug, and ReturnOct differ in sign between the models."
   ]
  },
  {
   "cell_type": "markdown",
   "metadata": {},
   "source": [
    "### Problem 4.3 - Cluster-Specific Predictions\n",
    "Using StocksModel1, make test-set predictions called PredictTest1 on the data frame stocksTest1. Using StocksModel2, make test-set predictions called PredictTest2 on the data frame stocksTest2. Using StocksModel3, make test-set predictions called PredictTest3 on the data frame stocksTest3.\n",
    "\n",
    "**What is the overall accuracy of StocksModel1 on the test set stocksTest1, using a threshold of 0.5?**"
   ]
  },
  {
   "cell_type": "code",
   "execution_count": 35,
   "metadata": {},
   "outputs": [
    {
     "data": {
      "text/plain": [
       "   \n",
       "    FALSE TRUE\n",
       "  0    43  350\n",
       "  1    26  639"
      ]
     },
     "metadata": {},
     "output_type": "display_data"
    }
   ],
   "source": [
    "# Predict on the test set\n",
    "predictTest1 = predict(StocksModel1, type=\"response\", newdata=stocksTest1)\n",
    "\n",
    "# Tabulate the predictions of test set vs our predict function\n",
    "cmTest1 = table(stocksTest1$PositiveDec, predictTest1 > 0.5)\n",
    "cmTest1"
   ]
  },
  {
   "cell_type": "code",
   "execution_count": 36,
   "metadata": {},
   "outputs": [
    {
     "data": {
      "text/html": [
       "'Accuracy StocksModel1 StocksTest1: 0.6446'"
      ],
      "text/latex": [
       "'Accuracy StocksModel1 StocksTest1: 0.6446'"
      ],
      "text/markdown": [
       "'Accuracy StocksModel1 StocksTest1: 0.6446'"
      ],
      "text/plain": [
       "[1] \"Accuracy StocksModel1 StocksTest1: 0.6446\""
      ]
     },
     "metadata": {},
     "output_type": "display_data"
    }
   ],
   "source": [
    "# Compute StocksModel1 stocksTest1 Accuracy\n",
    "accurS1S1 = sum(diag(cmTest1))/sum(cmTest1)\n",
    "paste(\"Accuracy StocksModel1 StocksTest1:\", round(accurS1S1,digits=4))"
   ]
  },
  {
   "cell_type": "markdown",
   "metadata": {},
   "source": [
    "**What is the overall accuracy of StocksModel2 on the test set stocksTest2, using a threshold of 0.5?**"
   ]
  },
  {
   "cell_type": "code",
   "execution_count": 37,
   "metadata": {},
   "outputs": [
    {
     "data": {
      "text/plain": [
       "   \n",
       "    FALSE TRUE\n",
       "  0   277  719\n",
       "  1   221  812"
      ]
     },
     "metadata": {},
     "output_type": "display_data"
    }
   ],
   "source": [
    "# Predict on the test set\n",
    "predictTest2 = predict(StocksModel2, type=\"response\", newdata=stocksTest2)\n",
    "\n",
    "# Tabulate the predictions of test set vs our predict function\n",
    "cmTest2 = table(stocksTest2$PositiveDec, predictTest2 > 0.5)\n",
    "cmTest2"
   ]
  },
  {
   "cell_type": "code",
   "execution_count": 38,
   "metadata": {},
   "outputs": [
    {
     "data": {
      "text/html": [
       "'Accuracy StocksModel2 StocksTest2: 0.5367'"
      ],
      "text/latex": [
       "'Accuracy StocksModel2 StocksTest2: 0.5367'"
      ],
      "text/markdown": [
       "'Accuracy StocksModel2 StocksTest2: 0.5367'"
      ],
      "text/plain": [
       "[1] \"Accuracy StocksModel2 StocksTest2: 0.5367\""
      ]
     },
     "metadata": {},
     "output_type": "display_data"
    }
   ],
   "source": [
    "# Compute StocksModel2 stocksTest2 Accuracy\n",
    "accurS2S2 = sum(diag(cmTest2))/sum(cmTest2)\n",
    "paste(\"Accuracy StocksModel2 StocksTest2:\", round(accurS2S2,digits=4))"
   ]
  },
  {
   "cell_type": "markdown",
   "metadata": {},
   "source": [
    "**What is the overall accuracy of StocksModel3 on the test set stocksTest3, using a threshold of 0.5?**"
   ]
  },
  {
   "cell_type": "code",
   "execution_count": 39,
   "metadata": {},
   "outputs": [
    {
     "data": {
      "text/plain": [
       "   \n",
       "    FALSE TRUE\n",
       "  0   119   69\n",
       "  1    76  123"
      ]
     },
     "metadata": {},
     "output_type": "display_data"
    }
   ],
   "source": [
    "# Predict on the test set\n",
    "predictTest3 = predict(StocksModel3, type=\"response\", newdata=stocksTest3)\n",
    "\n",
    "# Tabulate the predictions of test set vs our predict function\n",
    "cmTest3 = table(stocksTest3$PositiveDec, predictTest3 > 0.5)\n",
    "cmTest3"
   ]
  },
  {
   "cell_type": "code",
   "execution_count": 40,
   "metadata": {},
   "outputs": [
    {
     "data": {
      "text/html": [
       "'Accuracy StocksModel3 StocksTest3: 0.6253'"
      ],
      "text/latex": [
       "'Accuracy StocksModel3 StocksTest3: 0.6253'"
      ],
      "text/markdown": [
       "'Accuracy StocksModel3 StocksTest3: 0.6253'"
      ],
      "text/plain": [
       "[1] \"Accuracy StocksModel3 StocksTest3: 0.6253\""
      ]
     },
     "metadata": {},
     "output_type": "display_data"
    }
   ],
   "source": [
    "# Compute StocksModel2 stocksTest2 Accuracy\n",
    "accurS3S3 = sum(diag(cmTest3))/sum(cmTest3)\n",
    "paste(\"Accuracy StocksModel3 StocksTest3:\", round(accurS3S3,digits=4))"
   ]
  },
  {
   "cell_type": "markdown",
   "metadata": {},
   "source": [
    "### Problem 4.4 - Cluster-Specific Predictions\n",
    "To compute the overall test-set accuracy of the cluster-then-predict approach, we can combine all the test-set predictions into a single vector and all the true outcomes into a single vector:\n",
    "\n",
    "    AllPredictions = c(PredictTest1, PredictTest2, PredictTest3)\n",
    "\n",
    "    AllOutcomes = c(stocksTest1$PositiveDec, stocksTest2$PositiveDec, stocksTest3$PositiveDec)\n",
    "\n",
    "**What is the overall test-set accuracy of the cluster-then-predict approach, again using a threshold of 0.5?**"
   ]
  },
  {
   "cell_type": "code",
   "execution_count": 41,
   "metadata": {},
   "outputs": [
    {
     "data": {
      "text/plain": [
       "           \n",
       "AllOutcomes FALSE TRUE\n",
       "          0   439 1138\n",
       "          1   323 1574"
      ]
     },
     "metadata": {},
     "output_type": "display_data"
    }
   ],
   "source": [
    "# Combine all test-set predictions and outcomes into a single vector\n",
    "\n",
    "AllPredictions = c(predictTest1, predictTest2, predictTest3)\n",
    "\n",
    "AllOutcomes = c(stocksTest1$PositiveDec, stocksTest2$PositiveDec, stocksTest3$PositiveDec)\n",
    "\n",
    "\n",
    "# Confusion Matrix with All Outcomes and All Predictions\n",
    "\n",
    "cmAA = table(AllOutcomes, AllPredictions > 0.5)\n",
    "cmAA"
   ]
  },
  {
   "cell_type": "code",
   "execution_count": 42,
   "metadata": {},
   "outputs": [
    {
     "data": {
      "text/html": [
       "'Accuracy all the test-set predictions combined: 0.5794'"
      ],
      "text/latex": [
       "'Accuracy all the test-set predictions combined: 0.5794'"
      ],
      "text/markdown": [
       "'Accuracy all the test-set predictions combined: 0.5794'"
      ],
      "text/plain": [
       "[1] \"Accuracy all the test-set predictions combined: 0.5794\""
      ]
     },
     "metadata": {},
     "output_type": "display_data"
    }
   ],
   "source": [
    "# Compute overall test-set accuracy of the cluster-then-predict approach Accuracy\n",
    "accurAA = sum(diag(cmAA))/sum(cmAA)\n",
    "paste(\"Accuracy all the test-set predictions combined:\", round(accurAA,digits=4))"
   ]
  },
  {
   "cell_type": "markdown",
   "metadata": {},
   "source": [
    "We see a modest improvement over the original logistic regression model. Since predicting stock returns is a notoriously hard problem, this is a good increase in accuracy. By investing in stocks for which we are more confident that they will have positive returns (by selecting the ones with higher predicted probabilities), this cluster-then-predict model can give us an edge over the original logistic regression model."
   ]
  }
 ],
 "metadata": {
  "kernelspec": {
   "display_name": "R",
   "language": "R",
   "name": "ir"
  },
  "language_info": {
   "codemirror_mode": "r",
   "file_extension": ".r",
   "mimetype": "text/x-r-source",
   "name": "R",
   "pygments_lexer": "r",
   "version": "3.6.3"
  }
 },
 "nbformat": 4,
 "nbformat_minor": 4
}
