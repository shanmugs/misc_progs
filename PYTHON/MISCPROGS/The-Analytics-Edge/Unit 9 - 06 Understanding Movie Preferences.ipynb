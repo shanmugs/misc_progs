{
 "cells": [
  {
   "cell_type": "markdown",
   "metadata": {},
   "source": [
    "# Understanding Movie Preferences"
   ]
  },
  {
   "cell_type": "markdown",
   "metadata": {},
   "source": [
    "<img src=\"images/cinema.jpg\"/>"
   ]
  },
  {
   "cell_type": "markdown",
   "metadata": {},
   "source": [
    "In Unit 6, we were introduced to a MovieLens dataset containing movies and their associated genres, and clustered movies accordingly. In addition to collecting data on movies and genres, MovieLens collects data on users and their ratings of movies.\n",
    "\n",
    "We collected the “latest” MovieLens dataset in September 2018 from https://grouplens.org/datasets/movielens/, and used it to create a new dataset that aggregates user ratings by the genres of the movies (omitting users who had rated less than 500 or over 2000 movies).\n",
    "\n",
    "Dataset: movielens-user-genre-ratings.csv\n",
    "\n",
    "Our dataset has the following columns:\n",
    "\n",
    "    userId: a unique integer identifying a user\n",
    "\n",
    "    action, adventure, …, *western**: the sum of all the ratings that this user has rated any movies corresponding to these genres. For example, the user with userID = 24 has action = 431, which means that the sum of the ratings of any action movies this user saw is 431. For brevity, we will refer to this “sum of all the ratings” value as the score of the genre for the user. Note that number of movies that a user has watched of the genre as well as the ratings that the user gave to each movie BOTH contribute to the score of a movie.\n",
    "\n",
    "In this problem, we aim to cluster users by the genres of movies they watch."
   ]
  },
  {
   "cell_type": "markdown",
   "metadata": {},
   "source": [
    "### Exploratory Data Analysis\n",
    "Read the dataset movielens-user-genre-ratings.csv into a dataframe called ratings."
   ]
  },
  {
   "cell_type": "code",
   "execution_count": 1,
   "metadata": {},
   "outputs": [
    {
     "data": {
      "text/html": [
       "<table>\n",
       "<caption>A data.frame: 6 × 20</caption>\n",
       "<thead>\n",
       "\t<tr><th></th><th scope=col>userId</th><th scope=col>action</th><th scope=col>adventure</th><th scope=col>animation</th><th scope=col>children</th><th scope=col>comedy</th><th scope=col>crime</th><th scope=col>documentary</th><th scope=col>drama</th><th scope=col>fantasy</th><th scope=col>film.noir</th><th scope=col>horror</th><th scope=col>imax</th><th scope=col>musical</th><th scope=col>mystery</th><th scope=col>romance</th><th scope=col>sci.fi</th><th scope=col>thriller</th><th scope=col>war</th><th scope=col>western</th></tr>\n",
       "\t<tr><th></th><th scope=col>&lt;int&gt;</th><th scope=col>&lt;dbl&gt;</th><th scope=col>&lt;dbl&gt;</th><th scope=col>&lt;dbl&gt;</th><th scope=col>&lt;dbl&gt;</th><th scope=col>&lt;dbl&gt;</th><th scope=col>&lt;dbl&gt;</th><th scope=col>&lt;dbl&gt;</th><th scope=col>&lt;dbl&gt;</th><th scope=col>&lt;dbl&gt;</th><th scope=col>&lt;dbl&gt;</th><th scope=col>&lt;dbl&gt;</th><th scope=col>&lt;dbl&gt;</th><th scope=col>&lt;dbl&gt;</th><th scope=col>&lt;dbl&gt;</th><th scope=col>&lt;dbl&gt;</th><th scope=col>&lt;dbl&gt;</th><th scope=col>&lt;dbl&gt;</th><th scope=col>&lt;dbl&gt;</th><th scope=col>&lt;dbl&gt;</th></tr>\n",
       "</thead>\n",
       "<tbody>\n",
       "\t<tr><th scope=row>1</th><td> 24</td><td>431.0</td><td>384.0</td><td> 40.0</td><td>101</td><td> 917.0</td><td>351.0</td><td> 54</td><td>1085.0</td><td>153.0</td><td>20.0</td><td>151.0</td><td> 8.0</td><td> 64</td><td>108</td><td>407</td><td>199.0</td><td>396.0</td><td>122.0</td><td>69.0</td></tr>\n",
       "\t<tr><th scope=row>2</th><td> 46</td><td>845.0</td><td>532.5</td><td>127.0</td><td>179</td><td> 969.0</td><td>328.5</td><td> 22</td><td> 765.5</td><td>287.5</td><td>14.5</td><td>482.0</td><td>19.5</td><td> 56</td><td>192</td><td>287</td><td>494.0</td><td>779.5</td><td> 87.0</td><td>82.0</td></tr>\n",
       "\t<tr><th scope=row>3</th><td>120</td><td>220.5</td><td>320.0</td><td>120.5</td><td>116</td><td> 849.5</td><td>259.5</td><td> 20</td><td>1034.5</td><td>241.0</td><td>16.5</td><td> 74.5</td><td>19.5</td><td> 71</td><td>139</td><td>413</td><td>209.5</td><td>296.0</td><td>103.5</td><td>30.5</td></tr>\n",
       "\t<tr><th scope=row>4</th><td>132</td><td>292.0</td><td>302.0</td><td> 85.0</td><td>110</td><td> 759.0</td><td>335.0</td><td> 25</td><td>1091.0</td><td>172.0</td><td>35.0</td><td>122.0</td><td> 7.0</td><td> 84</td><td>160</td><td>403</td><td>183.0</td><td>394.0</td><td>100.0</td><td>28.0</td></tr>\n",
       "\t<tr><th scope=row>5</th><td>150</td><td>336.0</td><td>173.0</td><td> 20.0</td><td> 41</td><td> 636.0</td><td>317.0</td><td> 36</td><td> 953.0</td><td>129.0</td><td>22.0</td><td>282.0</td><td> 3.0</td><td> 37</td><td>144</td><td>234</td><td>241.0</td><td>483.0</td><td> 76.0</td><td>28.0</td></tr>\n",
       "\t<tr><th scope=row>6</th><td>229</td><td>580.0</td><td>531.0</td><td>157.0</td><td>230</td><td>1287.0</td><td>480.0</td><td>104</td><td>1964.0</td><td>363.0</td><td>89.0</td><td>359.0</td><td> 9.0</td><td>243</td><td>281</td><td>589</td><td>498.0</td><td>732.0</td><td>173.0</td><td>70.0</td></tr>\n",
       "</tbody>\n",
       "</table>\n"
      ],
      "text/latex": [
       "A data.frame: 6 × 20\n",
       "\\begin{tabular}{r|llllllllllllllllllll}\n",
       "  & userId & action & adventure & animation & children & comedy & crime & documentary & drama & fantasy & film.noir & horror & imax & musical & mystery & romance & sci.fi & thriller & war & western\\\\\n",
       "  & <int> & <dbl> & <dbl> & <dbl> & <dbl> & <dbl> & <dbl> & <dbl> & <dbl> & <dbl> & <dbl> & <dbl> & <dbl> & <dbl> & <dbl> & <dbl> & <dbl> & <dbl> & <dbl> & <dbl>\\\\\n",
       "\\hline\n",
       "\t1 &  24 & 431.0 & 384.0 &  40.0 & 101 &  917.0 & 351.0 &  54 & 1085.0 & 153.0 & 20.0 & 151.0 &  8.0 &  64 & 108 & 407 & 199.0 & 396.0 & 122.0 & 69.0\\\\\n",
       "\t2 &  46 & 845.0 & 532.5 & 127.0 & 179 &  969.0 & 328.5 &  22 &  765.5 & 287.5 & 14.5 & 482.0 & 19.5 &  56 & 192 & 287 & 494.0 & 779.5 &  87.0 & 82.0\\\\\n",
       "\t3 & 120 & 220.5 & 320.0 & 120.5 & 116 &  849.5 & 259.5 &  20 & 1034.5 & 241.0 & 16.5 &  74.5 & 19.5 &  71 & 139 & 413 & 209.5 & 296.0 & 103.5 & 30.5\\\\\n",
       "\t4 & 132 & 292.0 & 302.0 &  85.0 & 110 &  759.0 & 335.0 &  25 & 1091.0 & 172.0 & 35.0 & 122.0 &  7.0 &  84 & 160 & 403 & 183.0 & 394.0 & 100.0 & 28.0\\\\\n",
       "\t5 & 150 & 336.0 & 173.0 &  20.0 &  41 &  636.0 & 317.0 &  36 &  953.0 & 129.0 & 22.0 & 282.0 &  3.0 &  37 & 144 & 234 & 241.0 & 483.0 &  76.0 & 28.0\\\\\n",
       "\t6 & 229 & 580.0 & 531.0 & 157.0 & 230 & 1287.0 & 480.0 & 104 & 1964.0 & 363.0 & 89.0 & 359.0 &  9.0 & 243 & 281 & 589 & 498.0 & 732.0 & 173.0 & 70.0\\\\\n",
       "\\end{tabular}\n"
      ],
      "text/markdown": [
       "\n",
       "A data.frame: 6 × 20\n",
       "\n",
       "| <!--/--> | userId &lt;int&gt; | action &lt;dbl&gt; | adventure &lt;dbl&gt; | animation &lt;dbl&gt; | children &lt;dbl&gt; | comedy &lt;dbl&gt; | crime &lt;dbl&gt; | documentary &lt;dbl&gt; | drama &lt;dbl&gt; | fantasy &lt;dbl&gt; | film.noir &lt;dbl&gt; | horror &lt;dbl&gt; | imax &lt;dbl&gt; | musical &lt;dbl&gt; | mystery &lt;dbl&gt; | romance &lt;dbl&gt; | sci.fi &lt;dbl&gt; | thriller &lt;dbl&gt; | war &lt;dbl&gt; | western &lt;dbl&gt; |\n",
       "|---|---|---|---|---|---|---|---|---|---|---|---|---|---|---|---|---|---|---|---|---|\n",
       "| 1 |  24 | 431.0 | 384.0 |  40.0 | 101 |  917.0 | 351.0 |  54 | 1085.0 | 153.0 | 20.0 | 151.0 |  8.0 |  64 | 108 | 407 | 199.0 | 396.0 | 122.0 | 69.0 |\n",
       "| 2 |  46 | 845.0 | 532.5 | 127.0 | 179 |  969.0 | 328.5 |  22 |  765.5 | 287.5 | 14.5 | 482.0 | 19.5 |  56 | 192 | 287 | 494.0 | 779.5 |  87.0 | 82.0 |\n",
       "| 3 | 120 | 220.5 | 320.0 | 120.5 | 116 |  849.5 | 259.5 |  20 | 1034.5 | 241.0 | 16.5 |  74.5 | 19.5 |  71 | 139 | 413 | 209.5 | 296.0 | 103.5 | 30.5 |\n",
       "| 4 | 132 | 292.0 | 302.0 |  85.0 | 110 |  759.0 | 335.0 |  25 | 1091.0 | 172.0 | 35.0 | 122.0 |  7.0 |  84 | 160 | 403 | 183.0 | 394.0 | 100.0 | 28.0 |\n",
       "| 5 | 150 | 336.0 | 173.0 |  20.0 |  41 |  636.0 | 317.0 |  36 |  953.0 | 129.0 | 22.0 | 282.0 |  3.0 |  37 | 144 | 234 | 241.0 | 483.0 |  76.0 | 28.0 |\n",
       "| 6 | 229 | 580.0 | 531.0 | 157.0 | 230 | 1287.0 | 480.0 | 104 | 1964.0 | 363.0 | 89.0 | 359.0 |  9.0 | 243 | 281 | 589 | 498.0 | 732.0 | 173.0 | 70.0 |\n",
       "\n"
      ],
      "text/plain": [
       "  userId action adventure animation children comedy crime documentary drama \n",
       "1  24    431.0  384.0      40.0     101       917.0 351.0  54         1085.0\n",
       "2  46    845.0  532.5     127.0     179       969.0 328.5  22          765.5\n",
       "3 120    220.5  320.0     120.5     116       849.5 259.5  20         1034.5\n",
       "4 132    292.0  302.0      85.0     110       759.0 335.0  25         1091.0\n",
       "5 150    336.0  173.0      20.0      41       636.0 317.0  36          953.0\n",
       "6 229    580.0  531.0     157.0     230      1287.0 480.0 104         1964.0\n",
       "  fantasy film.noir horror imax musical mystery romance sci.fi thriller war  \n",
       "1 153.0   20.0      151.0   8.0  64     108     407     199.0  396.0    122.0\n",
       "2 287.5   14.5      482.0  19.5  56     192     287     494.0  779.5     87.0\n",
       "3 241.0   16.5       74.5  19.5  71     139     413     209.5  296.0    103.5\n",
       "4 172.0   35.0      122.0   7.0  84     160     403     183.0  394.0    100.0\n",
       "5 129.0   22.0      282.0   3.0  37     144     234     241.0  483.0     76.0\n",
       "6 363.0   89.0      359.0   9.0 243     281     589     498.0  732.0    173.0\n",
       "  western\n",
       "1 69.0   \n",
       "2 82.0   \n",
       "3 30.5   \n",
       "4 28.0   \n",
       "5 28.0   \n",
       "6 70.0   "
      ]
     },
     "metadata": {},
     "output_type": "display_data"
    }
   ],
   "source": [
    "# Load the Dataset\n",
    "\n",
    "ratings = read.csv(\"data/movielens-user-genre-ratings.csv\")\n",
    "\n",
    "head(ratings)"
   ]
  },
  {
   "cell_type": "code",
   "execution_count": 2,
   "metadata": {},
   "outputs": [
    {
     "name": "stdout",
     "output_type": "stream",
     "text": [
      "'data.frame':\t9144 obs. of  20 variables:\n",
      " $ userId     : int  24 46 120 132 150 229 231 251 332 340 ...\n",
      " $ action     : num  431 845 220 292 336 ...\n",
      " $ adventure  : num  384 532 320 302 173 ...\n",
      " $ animation  : num  40 127 120 85 20 ...\n",
      " $ children   : num  101 179 116 110 41 ...\n",
      " $ comedy     : num  917 969 850 759 636 ...\n",
      " $ crime      : num  351 328 260 335 317 ...\n",
      " $ documentary: num  54 22 20 25 36 104 43.5 3.5 80.5 35.5 ...\n",
      " $ drama      : num  1085 766 1034 1091 953 ...\n",
      " $ fantasy    : num  153 288 241 172 129 ...\n",
      " $ film.noir  : num  20 14.5 16.5 35 22 89 23.5 16 10.5 27 ...\n",
      " $ horror     : num  151 482 74.5 122 282 ...\n",
      " $ imax       : num  8 19.5 19.5 7 3 ...\n",
      " $ musical    : num  64 56 71 84 37 ...\n",
      " $ mystery    : num  108 192 139 160 144 ...\n",
      " $ romance    : num  407 287 413 403 234 ...\n",
      " $ sci.fi     : num  199 494 210 183 241 ...\n",
      " $ thriller   : num  396 780 296 394 483 ...\n",
      " $ war        : num  122 87 104 100 76 ...\n",
      " $ western    : num  69 82 30.5 28 28 70 83 28 34 52 ...\n"
     ]
    }
   ],
   "source": [
    "str(ratings)"
   ]
  },
  {
   "cell_type": "code",
   "execution_count": 3,
   "metadata": {},
   "outputs": [
    {
     "data": {
      "text/plain": [
       "     userId           action         adventure        animation     \n",
       " Min.   :    24   Min.   :  41.0   Min.   :  52.0   Min.   :   0.0  \n",
       " 1st Qu.: 67234   1st Qu.: 471.0   1st Qu.: 384.4   1st Qu.:  78.5  \n",
       " Median :136407   Median : 667.5   Median : 521.5   Median : 134.0  \n",
       " Mean   :135573   Mean   : 739.0   Mean   : 561.1   Mean   : 165.0  \n",
       " 3rd Qu.:204038   3rd Qu.: 927.6   3rd Qu.: 687.1   3rd Qu.: 214.5  \n",
       " Max.   :270769   Max.   :3268.0   Max.   :2306.0   Max.   :1629.5  \n",
       "    children          comedy           crime         documentary     \n",
       " Min.   :   0.0   Min.   :  48.0   Min.   :  46.5   Min.   :   0.00  \n",
       " 1st Qu.: 111.0   1st Qu.: 687.9   1st Qu.: 308.5   1st Qu.:  12.00  \n",
       " Median : 175.0   Median : 902.5   Median : 409.0   Median :  28.00  \n",
       " Mean   : 211.9   Mean   :1000.9   Mean   : 452.6   Mean   :  48.69  \n",
       " 3rd Qu.: 274.5   3rd Qu.:1202.5   3rd Qu.: 552.5   3rd Qu.:  60.00  \n",
       " Max.   :1892.0   Max.   :4304.5   Max.   :1558.0   Max.   :1147.00  \n",
       "     drama           fantasy         film.noir          horror      \n",
       " Min.   : 159.5   Min.   :  20.0   Min.   :  0.00   Min.   :   1.5  \n",
       " 1st Qu.: 852.0   1st Qu.: 191.0   1st Qu.: 10.50   1st Qu.: 107.0  \n",
       " Median :1118.2   Median : 264.5   Median : 21.50   Median : 173.5  \n",
       " Mean   :1263.4   Mean   : 291.6   Mean   : 32.81   Mean   : 223.5  \n",
       " 3rd Qu.:1522.2   3rd Qu.: 358.0   3rd Qu.: 43.00   3rd Qu.: 280.0  \n",
       " Max.   :5685.5   Max.   :1543.5   Max.   :568.00   Max.   :2167.0  \n",
       "      imax           musical         mystery         romance      \n",
       " Min.   :  0.00   Min.   :  0.0   Min.   : 12.0   Min.   :  42.0  \n",
       " 1st Qu.: 18.50   1st Qu.: 55.0   1st Qu.:153.0   1st Qu.: 311.5  \n",
       " Median : 54.00   Median : 93.0   Median :204.5   Median : 434.0  \n",
       " Mean   : 88.18   Mean   :109.8   Mean   :226.3   Mean   : 486.3  \n",
       " 3rd Qu.:135.00   3rd Qu.:145.5   3rd Qu.:277.5   3rd Qu.: 601.0  \n",
       " Max.   :574.00   Max.   :828.5   Max.   :866.5   Max.   :2286.0  \n",
       "     sci.fi          thriller           war           western      \n",
       " Min.   :  15.0   Min.   :  44.0   Min.   :  3.0   Min.   :  0.00  \n",
       " 1st Qu.: 259.5   1st Qu.: 487.5   1st Qu.: 82.0   1st Qu.: 28.00  \n",
       " Median : 378.5   Median : 650.0   Median :120.0   Median : 45.50  \n",
       " Mean   : 419.5   Mean   : 724.1   Mean   :136.5   Mean   : 56.18  \n",
       " 3rd Qu.: 532.5   3rd Qu.: 891.0   3rd Qu.:170.5   3rd Qu.: 71.50  \n",
       " Max.   :1860.5   Max.   :2751.5   Max.   :878.5   Max.   :614.00  "
      ]
     },
     "metadata": {},
     "output_type": "display_data"
    }
   ],
   "source": [
    "summary(ratings)"
   ]
  },
  {
   "cell_type": "markdown",
   "metadata": {},
   "source": [
    "**How many users are in the dataset?**"
   ]
  },
  {
   "cell_type": "code",
   "execution_count": 4,
   "metadata": {},
   "outputs": [
    {
     "data": {
      "text/html": [
       "9144"
      ],
      "text/latex": [
       "9144"
      ],
      "text/markdown": [
       "9144"
      ],
      "text/plain": [
       "[1] 9144"
      ]
     },
     "metadata": {},
     "output_type": "display_data"
    }
   ],
   "source": [
    "nrow(ratings)"
   ]
  },
  {
   "cell_type": "markdown",
   "metadata": {},
   "source": [
    "**How many genres are in the dataset?**"
   ]
  },
  {
   "cell_type": "code",
   "execution_count": 5,
   "metadata": {},
   "outputs": [
    {
     "data": {
      "text/html": [
       "<style>\n",
       ".list-inline {list-style: none; margin:0; padding: 0}\n",
       ".list-inline>li {display: inline-block}\n",
       ".list-inline>li:not(:last-child)::after {content: \"\\00b7\"; padding: 0 .5ex}\n",
       "</style>\n",
       "<ol class=list-inline><li>'userId'</li><li>'action'</li><li>'adventure'</li><li>'animation'</li><li>'children'</li><li>'comedy'</li><li>'crime'</li><li>'documentary'</li><li>'drama'</li><li>'fantasy'</li><li>'film.noir'</li><li>'horror'</li><li>'imax'</li><li>'musical'</li><li>'mystery'</li><li>'romance'</li><li>'sci.fi'</li><li>'thriller'</li><li>'war'</li><li>'western'</li></ol>\n"
      ],
      "text/latex": [
       "\\begin{enumerate*}\n",
       "\\item 'userId'\n",
       "\\item 'action'\n",
       "\\item 'adventure'\n",
       "\\item 'animation'\n",
       "\\item 'children'\n",
       "\\item 'comedy'\n",
       "\\item 'crime'\n",
       "\\item 'documentary'\n",
       "\\item 'drama'\n",
       "\\item 'fantasy'\n",
       "\\item 'film.noir'\n",
       "\\item 'horror'\n",
       "\\item 'imax'\n",
       "\\item 'musical'\n",
       "\\item 'mystery'\n",
       "\\item 'romance'\n",
       "\\item 'sci.fi'\n",
       "\\item 'thriller'\n",
       "\\item 'war'\n",
       "\\item 'western'\n",
       "\\end{enumerate*}\n"
      ],
      "text/markdown": [
       "1. 'userId'\n",
       "2. 'action'\n",
       "3. 'adventure'\n",
       "4. 'animation'\n",
       "5. 'children'\n",
       "6. 'comedy'\n",
       "7. 'crime'\n",
       "8. 'documentary'\n",
       "9. 'drama'\n",
       "10. 'fantasy'\n",
       "11. 'film.noir'\n",
       "12. 'horror'\n",
       "13. 'imax'\n",
       "14. 'musical'\n",
       "15. 'mystery'\n",
       "16. 'romance'\n",
       "17. 'sci.fi'\n",
       "18. 'thriller'\n",
       "19. 'war'\n",
       "20. 'western'\n",
       "\n",
       "\n"
      ],
      "text/plain": [
       " [1] \"userId\"      \"action\"      \"adventure\"   \"animation\"   \"children\"   \n",
       " [6] \"comedy\"      \"crime\"       \"documentary\" \"drama\"       \"fantasy\"    \n",
       "[11] \"film.noir\"   \"horror\"      \"imax\"        \"musical\"     \"mystery\"    \n",
       "[16] \"romance\"     \"sci.fi\"      \"thriller\"    \"war\"         \"western\"    "
      ]
     },
     "metadata": {},
     "output_type": "display_data"
    }
   ],
   "source": [
    "names(ratings)"
   ]
  },
  {
   "cell_type": "markdown",
   "metadata": {},
   "source": [
    "Answer: 19 (number of variables - 1)."
   ]
  },
  {
   "cell_type": "markdown",
   "metadata": {},
   "source": [
    "**Which genre has the highest mean score across all users?**"
   ]
  },
  {
   "cell_type": "markdown",
   "metadata": {},
   "source": [
    "Answer: Drama (in summary, mean = 1263.4)."
   ]
  },
  {
   "cell_type": "markdown",
   "metadata": {},
   "source": [
    "**Which of the following pairs of genres are most positively correlated in their user scores?**"
   ]
  },
  {
   "cell_type": "code",
   "execution_count": 6,
   "metadata": {},
   "outputs": [
    {
     "data": {
      "text/html": [
       "'Correlation between action and adventure 0.87'"
      ],
      "text/latex": [
       "'Correlation between action and adventure 0.87'"
      ],
      "text/markdown": [
       "'Correlation between action and adventure 0.87'"
      ],
      "text/plain": [
       "[1] \"Correlation between action and adventure 0.87\""
      ]
     },
     "metadata": {},
     "output_type": "display_data"
    },
    {
     "data": {
      "text/html": [
       "'Correlation between action and crime 0.67'"
      ],
      "text/latex": [
       "'Correlation between action and crime 0.67'"
      ],
      "text/markdown": [
       "'Correlation between action and crime 0.67'"
      ],
      "text/plain": [
       "[1] \"Correlation between action and crime 0.67\""
      ]
     },
     "metadata": {},
     "output_type": "display_data"
    },
    {
     "data": {
      "text/html": [
       "'Correlation between adventure and fantasy 0.88'"
      ],
      "text/latex": [
       "'Correlation between adventure and fantasy 0.88'"
      ],
      "text/markdown": [
       "'Correlation between adventure and fantasy 0.88'"
      ],
      "text/plain": [
       "[1] \"Correlation between adventure and fantasy 0.88\""
      ]
     },
     "metadata": {},
     "output_type": "display_data"
    },
    {
     "data": {
      "text/html": [
       "'Correlation between animation and children 0.84'"
      ],
      "text/latex": [
       "'Correlation between animation and children 0.84'"
      ],
      "text/markdown": [
       "'Correlation between animation and children 0.84'"
      ],
      "text/plain": [
       "[1] \"Correlation between animation and children 0.84\""
      ]
     },
     "metadata": {},
     "output_type": "display_data"
    }
   ],
   "source": [
    "# Correlations amongst variables\n",
    "\n",
    "aa = cor(ratings$action, ratings$adventure)\n",
    "ac = cor(ratings$action, ratings$crime)\n",
    "af = cor(ratings$adventure, ratings$fantasy)\n",
    "ah = cor(ratings$animation, ratings$children)\n",
    "\n",
    "paste(\"Correlation between action and adventure\",round(aa,2))\n",
    "paste(\"Correlation between action and crime\",round(ac,2))\n",
    "paste(\"Correlation between adventure and fantasy\",round(af,2))\n",
    "paste(\"Correlation between animation and children\",round(ah,2))"
   ]
  },
  {
   "cell_type": "markdown",
   "metadata": {},
   "source": [
    "Answer: Adventure & Fantasy"
   ]
  },
  {
   "cell_type": "markdown",
   "metadata": {},
   "source": [
    "### Clustering\n",
    "Remove the first column of the table using the following line of code.\n",
    "\n",
    "    points = ratings[,2:ncol(ratings)]"
   ]
  },
  {
   "cell_type": "code",
   "execution_count": 7,
   "metadata": {},
   "outputs": [],
   "source": [
    "points = ratings[,2:ncol(ratings)]"
   ]
  },
  {
   "cell_type": "markdown",
   "metadata": {},
   "source": [
    "**Why did we remove the first column of our dataframe?**"
   ]
  },
  {
   "cell_type": "markdown",
   "metadata": {},
   "source": [
    "Answer: The values in the first column are not meaningful for clustering correct.\n",
    "\n",
    "In fact, we just mantain the genres in the dataframe. It's the same than:\n",
    "\n",
    "    genres = ratings[,c('action', 'adventure', 'animation', 'children', 'comedy', 'crime','documentary', 'drama', 'fantasy', \n",
    "                        'film.noir', 'horror', 'imax', 'musical', 'mystery', 'romance', 'sci.fi', 'thriller', 'war',\n",
    "                        'western')]"
   ]
  },
  {
   "cell_type": "markdown",
   "metadata": {},
   "source": [
    "**Why do we normalize data when clustering?**"
   ]
  },
  {
   "cell_type": "markdown",
   "metadata": {},
   "source": [
    "Answer: To give all features equal weight."
   ]
  },
  {
   "cell_type": "markdown",
   "metadata": {},
   "source": [
    "**What will the maximum value of action be after normalization? Answer without actually normalizing the data.**"
   ]
  },
  {
   "cell_type": "code",
   "execution_count": 8,
   "metadata": {},
   "outputs": [
    {
     "data": {
      "text/html": [
       "3268"
      ],
      "text/latex": [
       "3268"
      ],
      "text/markdown": [
       "3268"
      ],
      "text/plain": [
       "[1] 3268"
      ]
     },
     "metadata": {},
     "output_type": "display_data"
    }
   ],
   "source": [
    "max(points$action)"
   ]
  },
  {
   "cell_type": "markdown",
   "metadata": {},
   "source": [
    "**Normalize the data using the following code:**\n",
    "\n",
    "    library(caret)\n",
    "    preproc = preProcess(points)\n",
    "    pointsnorm = predict(preproc, points)"
   ]
  },
  {
   "cell_type": "code",
   "execution_count": 9,
   "metadata": {},
   "outputs": [
    {
     "name": "stderr",
     "output_type": "stream",
     "text": [
      "Loading required package: lattice\n",
      "\n",
      "Loading required package: ggplot2\n",
      "\n"
     ]
    }
   ],
   "source": [
    "library(caret)"
   ]
  },
  {
   "cell_type": "code",
   "execution_count": 10,
   "metadata": {},
   "outputs": [],
   "source": [
    "# Normalize the data\n",
    "\n",
    "preproc = preProcess(points)\n",
    "\n",
    "pointsnorm = predict(preproc, points)"
   ]
  },
  {
   "cell_type": "markdown",
   "metadata": {},
   "source": [
    "**What is the maximum value of adventure after the normalization?**"
   ]
  },
  {
   "cell_type": "code",
   "execution_count": 11,
   "metadata": {},
   "outputs": [
    {
     "data": {
      "text/html": [
       "7.01380332345005"
      ],
      "text/latex": [
       "7.01380332345005"
      ],
      "text/markdown": [
       "7.01380332345005"
      ],
      "text/plain": [
       "[1] 7.013803"
      ]
     },
     "metadata": {},
     "output_type": "display_data"
    }
   ],
   "source": [
    "# Maximum value of adventure\n",
    "max(pointsnorm$adventure)"
   ]
  },
  {
   "cell_type": "markdown",
   "metadata": {},
   "source": [
    "**Create a dendrogram using the following code:**\n",
    "\n",
    "    distances = dist(pointsnorm, method = \"euclidean\")\n",
    "    dend = hclust(distances, method = \"ward.D\")\n",
    "    plot(dend, labels = FALSE)"
   ]
  },
  {
   "cell_type": "code",
   "execution_count": 12,
   "metadata": {},
   "outputs": [
    {
     "data": {
      "image/png": "[encoded data removed]",
      "text/plain": [
       "Plot with title \"Cluster Dendrogram\""
      ]
     },
     "metadata": {
      "image/png": {
       "height": 420,
       "width": 420
      },
      "text/plain": {
       "height": 420,
       "width": 420
      }
     },
     "output_type": "display_data"
    }
   ],
   "source": [
    "# Create Dendrogram\n",
    "\n",
    "distances = dist(pointsnorm, method = \"euclidean\")\n",
    "\n",
    "dend = hclust(distances, method = \"ward.D\")\n",
    "\n",
    "plot(dend, labels = FALSE)"
   ]
  },
  {
   "cell_type": "markdown",
   "metadata": {},
   "source": [
    "**What number of clusters is associated with a height of approximately 1500?**"
   ]
  },
  {
   "cell_type": "markdown",
   "metadata": {},
   "source": [
    "Answer: 3 clusters, according to the Dendrogram."
   ]
  },
  {
   "cell_type": "markdown",
   "metadata": {},
   "source": [
    "**In our clustering, we want to set the number of clusters to 5. Which of the following statements is most correct?**"
   ]
  },
  {
   "cell_type": "markdown",
   "metadata": {},
   "source": [
    "Answer: The number of clusters with the most vertical room on the dendogram is less than 5, but we want more specific clusters."
   ]
  },
  {
   "cell_type": "markdown",
   "metadata": {},
   "source": [
    "**Set the random seed to 200, and run the k-means clustering algorithm on your normalized dataset, setting the number of clusters to 5.**"
   ]
  },
  {
   "cell_type": "code",
   "execution_count": 13,
   "metadata": {},
   "outputs": [],
   "source": [
    "# K-means Clustering\n",
    "\n",
    "set.seed(200)\n",
    "\n",
    "kmc = kmeans(pointsnorm, centers = 5)"
   ]
  },
  {
   "cell_type": "code",
   "execution_count": 14,
   "metadata": {},
   "outputs": [],
   "source": [
    "# Divides the dataset into 5 different subsets for each cluster\n",
    "\n",
    "KmeansCluster1 = subset(pointsnorm, kmc$cluster == 1)\n",
    "\n",
    "KmeansCluster2 = subset(pointsnorm, kmc$cluster == 2)\n",
    "\n",
    "KmeansCluster3 = subset(pointsnorm, kmc$cluster == 3)\n",
    "\n",
    "KmeansCluster4 = subset(pointsnorm, kmc$cluster == 4)\n",
    "\n",
    "KmeansCluster5 = subset(pointsnorm, kmc$cluster == 5)"
   ]
  },
  {
   "cell_type": "markdown",
   "metadata": {},
   "source": [
    "**How many observations are in the smallest cluster?**"
   ]
  },
  {
   "cell_type": "code",
   "execution_count": 15,
   "metadata": {},
   "outputs": [
    {
     "data": {
      "text/plain": [
       "\n",
       "   1    2    3    4    5 \n",
       "2086  748 3965 1403  942 "
      ]
     },
     "metadata": {},
     "output_type": "display_data"
    }
   ],
   "source": [
    "table(kmc$cluster)"
   ]
  },
  {
   "cell_type": "code",
   "execution_count": 16,
   "metadata": {},
   "outputs": [
    {
     "data": {
      "text/html": [
       "2086"
      ],
      "text/latex": [
       "2086"
      ],
      "text/markdown": [
       "2086"
      ],
      "text/plain": [
       "[1] 2086"
      ]
     },
     "metadata": {},
     "output_type": "display_data"
    },
    {
     "data": {
      "text/html": [
       "748"
      ],
      "text/latex": [
       "748"
      ],
      "text/markdown": [
       "748"
      ],
      "text/plain": [
       "[1] 748"
      ]
     },
     "metadata": {},
     "output_type": "display_data"
    },
    {
     "data": {
      "text/html": [
       "3965"
      ],
      "text/latex": [
       "3965"
      ],
      "text/markdown": [
       "3965"
      ],
      "text/plain": [
       "[1] 3965"
      ]
     },
     "metadata": {},
     "output_type": "display_data"
    },
    {
     "data": {
      "text/html": [
       "1403"
      ],
      "text/latex": [
       "1403"
      ],
      "text/markdown": [
       "1403"
      ],
      "text/plain": [
       "[1] 1403"
      ]
     },
     "metadata": {},
     "output_type": "display_data"
    },
    {
     "data": {
      "text/html": [
       "942"
      ],
      "text/latex": [
       "942"
      ],
      "text/markdown": [
       "942"
      ],
      "text/plain": [
       "[1] 942"
      ]
     },
     "metadata": {},
     "output_type": "display_data"
    }
   ],
   "source": [
    "# Or\n",
    "nrow(KmeansCluster1)\n",
    "nrow(KmeansCluster2)\n",
    "nrow(KmeansCluster3)\n",
    "nrow(KmeansCluster4)\n",
    "nrow(KmeansCluster5)"
   ]
  },
  {
   "cell_type": "markdown",
   "metadata": {},
   "source": [
    "Answer: 748 observations are present in the smallest cluster, which is Cluster 2."
   ]
  },
  {
   "cell_type": "markdown",
   "metadata": {},
   "source": [
    "### Conceptual Questions\n",
    "**If we ran k-means clustering a second time without making any additional calls to set.seed, we would expect:**"
   ]
  },
  {
   "cell_type": "markdown",
   "metadata": {},
   "source": [
    "Answer: Different results from the first time."
   ]
  },
  {
   "cell_type": "markdown",
   "metadata": {},
   "source": [
    "**If we ran k-means clustering a second time after calling set.seed(200), we would expect:**"
   ]
  },
  {
   "cell_type": "markdown",
   "metadata": {},
   "source": [
    "Answer: The same results from the first time."
   ]
  },
  {
   "cell_type": "markdown",
   "metadata": {},
   "source": [
    "**Why do we typically use cluster centroids to describe the clusters?**"
   ]
  },
  {
   "cell_type": "markdown",
   "metadata": {},
   "source": [
    "Answer: The cluster centroid captures the average behavior in the cluster, and can be used to summarize the general pattern in the cluster."
   ]
  },
  {
   "cell_type": "markdown",
   "metadata": {},
   "source": [
    "**Is “overfitting” a problem in clustering?**"
   ]
  },
  {
   "cell_type": "markdown",
   "metadata": {},
   "source": [
    "Answer: Yes, at the extreme every data point can be assigned to its own cluster."
   ]
  },
  {
   "cell_type": "markdown",
   "metadata": {},
   "source": [
    "**Is “multicollinearity” a problem in clustering?**"
   ]
  },
  {
   "cell_type": "markdown",
   "metadata": {},
   "source": [
    "Answer: Yes, multicollinearity could cause certain features to be overweighted in the distances calculations."
   ]
  },
  {
   "cell_type": "markdown",
   "metadata": {},
   "source": [
    "### Understanding the Clusters"
   ]
  },
  {
   "cell_type": "code",
   "execution_count": 17,
   "metadata": {},
   "outputs": [
    {
     "data": {
      "text/html": [
       "<style>\n",
       ".dl-inline {width: auto; margin:0; padding: 0}\n",
       ".dl-inline>dt, .dl-inline>dd {float: none; width: auto; display: inline-block}\n",
       ".dl-inline>dt::after {content: \":\\0020\"; padding-right: .5ex}\n",
       ".dl-inline>dt:not(:first-of-type) {padding-left: .5ex}\n",
       "</style><dl class=dl-inline><dt>adventure</dt><dd>0.281157440621292</dd><dt>horror</dt><dd>0.336214929241986</dd><dt>imax</dt><dd>0.46923198808288</dd><dt>thriller</dt><dd>0.492484552928463</dd><dt>action</dt><dd>0.548228504954089</dd><dt>sci.fi</dt><dd>0.556770242832897</dd></dl>\n"
      ],
      "text/latex": [
       "\\begin{description*}\n",
       "\\item[adventure] 0.281157440621292\n",
       "\\item[horror] 0.336214929241986\n",
       "\\item[imax] 0.46923198808288\n",
       "\\item[thriller] 0.492484552928463\n",
       "\\item[action] 0.548228504954089\n",
       "\\item[sci.fi] 0.556770242832897\n",
       "\\end{description*}\n"
      ],
      "text/markdown": [
       "adventure\n",
       ":   0.281157440621292horror\n",
       ":   0.336214929241986imax\n",
       ":   0.46923198808288thriller\n",
       ":   0.492484552928463action\n",
       ":   0.548228504954089sci.fi\n",
       ":   0.556770242832897\n",
       "\n"
      ],
      "text/plain": [
       "adventure    horror      imax  thriller    action    sci.fi \n",
       "0.2811574 0.3362149 0.4692320 0.4924846 0.5482285 0.5567702 "
      ]
     },
     "metadata": {},
     "output_type": "display_data"
    }
   ],
   "source": [
    "# Cluster 1\n",
    "tail(sort(colMeans(KmeansCluster1)))"
   ]
  },
  {
   "cell_type": "code",
   "execution_count": 18,
   "metadata": {},
   "outputs": [
    {
     "data": {
      "text/html": [
       "<style>\n",
       ".dl-inline {width: auto; margin:0; padding: 0}\n",
       ".dl-inline>dt, .dl-inline>dd {float: none; width: auto; display: inline-block}\n",
       ".dl-inline>dt::after {content: \":\\0020\"; padding-right: .5ex}\n",
       ".dl-inline>dt:not(:first-of-type) {padding-left: .5ex}\n",
       "</style><dl class=dl-inline><dt>animation</dt><dd>1.62405591597685</dd><dt>thriller</dt><dd>1.76043591564509</dd><dt>sci.fi</dt><dd>1.946085692099</dd><dt>action</dt><dd>1.99826943394282</dd><dt>fantasy</dt><dd>2.0605132870066</dd><dt>adventure</dt><dd>2.1123348801777</dd></dl>\n"
      ],
      "text/latex": [
       "\\begin{description*}\n",
       "\\item[animation] 1.62405591597685\n",
       "\\item[thriller] 1.76043591564509\n",
       "\\item[sci.fi] 1.946085692099\n",
       "\\item[action] 1.99826943394282\n",
       "\\item[fantasy] 2.0605132870066\n",
       "\\item[adventure] 2.1123348801777\n",
       "\\end{description*}\n"
      ],
      "text/markdown": [
       "animation\n",
       ":   1.62405591597685thriller\n",
       ":   1.76043591564509sci.fi\n",
       ":   1.946085692099action\n",
       ":   1.99826943394282fantasy\n",
       ":   2.0605132870066adventure\n",
       ":   2.1123348801777\n",
       "\n"
      ],
      "text/plain": [
       "animation  thriller    sci.fi    action   fantasy adventure \n",
       " 1.624056  1.760436  1.946086  1.998269  2.060513  2.112335 "
      ]
     },
     "metadata": {},
     "output_type": "display_data"
    }
   ],
   "source": [
    "# Cluster 2\n",
    "tail(sort(colMeans(KmeansCluster2)))"
   ]
  },
  {
   "cell_type": "code",
   "execution_count": 19,
   "metadata": {},
   "outputs": [
    {
     "data": {
      "text/html": [
       "<style>\n",
       ".dl-inline {width: auto; margin:0; padding: 0}\n",
       ".dl-inline>dt, .dl-inline>dd {float: none; width: auto; display: inline-block}\n",
       ".dl-inline>dt::after {content: \":\\0020\"; padding-right: .5ex}\n",
       ".dl-inline>dt:not(:first-of-type) {padding-left: .5ex}\n",
       "</style><dl class=dl-inline><dt>musical</dt><dd>-0.364085471388781</dd><dt>war</dt><dd>-0.354532337848835</dd><dt>romance</dt><dd>-0.333999351585041</dd><dt>western</dt><dd>-0.319502792286425</dd><dt>documentary</dt><dd>-0.166411667556645</dd><dt>film.noir</dt><dd>-0.11830196516968</dd></dl>\n"
      ],
      "text/latex": [
       "\\begin{description*}\n",
       "\\item[musical] -0.364085471388781\n",
       "\\item[war] -0.354532337848835\n",
       "\\item[romance] -0.333999351585041\n",
       "\\item[western] -0.319502792286425\n",
       "\\item[documentary] -0.166411667556645\n",
       "\\item[film.noir] -0.11830196516968\n",
       "\\end{description*}\n"
      ],
      "text/markdown": [
       "musical\n",
       ":   -0.364085471388781war\n",
       ":   -0.354532337848835romance\n",
       ":   -0.333999351585041western\n",
       ":   -0.319502792286425documentary\n",
       ":   -0.166411667556645film.noir\n",
       ":   -0.11830196516968\n",
       "\n"
      ],
      "text/plain": [
       "    musical         war     romance     western documentary   film.noir \n",
       " -0.3640855  -0.3545323  -0.3339994  -0.3195028  -0.1664117  -0.1183020 "
      ]
     },
     "metadata": {},
     "output_type": "display_data"
    }
   ],
   "source": [
    "# Cluster 3\n",
    "tail(sort(colMeans(KmeansCluster3)))"
   ]
  },
  {
   "cell_type": "code",
   "execution_count": 20,
   "metadata": {},
   "outputs": [
    {
     "data": {
      "text/html": [
       "<style>\n",
       ".dl-inline {width: auto; margin:0; padding: 0}\n",
       ".dl-inline>dt, .dl-inline>dd {float: none; width: auto; display: inline-block}\n",
       ".dl-inline>dt::after {content: \":\\0020\"; padding-right: .5ex}\n",
       ".dl-inline>dt:not(:first-of-type) {padding-left: .5ex}\n",
       "</style><dl class=dl-inline><dt>comedy</dt><dd>0.277439236701796</dd><dt>adventure</dt><dd>0.380361214622169</dd><dt>fantasy</dt><dd>0.640138855305545</dd><dt>musical</dt><dd>0.853900030200724</dd><dt>animation</dt><dd>0.886181485855574</dd><dt>children</dt><dd>1.10764614551952</dd></dl>\n"
      ],
      "text/latex": [
       "\\begin{description*}\n",
       "\\item[comedy] 0.277439236701796\n",
       "\\item[adventure] 0.380361214622169\n",
       "\\item[fantasy] 0.640138855305545\n",
       "\\item[musical] 0.853900030200724\n",
       "\\item[animation] 0.886181485855574\n",
       "\\item[children] 1.10764614551952\n",
       "\\end{description*}\n"
      ],
      "text/markdown": [
       "comedy\n",
       ":   0.277439236701796adventure\n",
       ":   0.380361214622169fantasy\n",
       ":   0.640138855305545musical\n",
       ":   0.853900030200724animation\n",
       ":   0.886181485855574children\n",
       ":   1.10764614551952\n",
       "\n"
      ],
      "text/plain": [
       "   comedy adventure   fantasy   musical animation  children \n",
       "0.2774392 0.3803612 0.6401389 0.8539000 0.8861815 1.1076461 "
      ]
     },
     "metadata": {},
     "output_type": "display_data"
    }
   ],
   "source": [
    "# Cluster 4\n",
    "tail(sort(colMeans(KmeansCluster4)))"
   ]
  },
  {
   "cell_type": "code",
   "execution_count": 21,
   "metadata": {},
   "outputs": [
    {
     "data": {
      "text/html": [
       "<style>\n",
       ".dl-inline {width: auto; margin:0; padding: 0}\n",
       ".dl-inline>dt, .dl-inline>dd {float: none; width: auto; display: inline-block}\n",
       ".dl-inline>dt::after {content: \":\\0020\"; padding-right: .5ex}\n",
       ".dl-inline>dt:not(:first-of-type) {padding-left: .5ex}\n",
       "</style><dl class=dl-inline><dt>mystery</dt><dd>1.36731834205664</dd><dt>romance</dt><dd>1.373038798095</dd><dt>crime</dt><dd>1.38116962664251</dd><dt>war</dt><dd>1.48458010736675</dd><dt>film.noir</dt><dd>1.57050758781288</dd><dt>drama</dt><dd>1.84201257229883</dd></dl>\n"
      ],
      "text/latex": [
       "\\begin{description*}\n",
       "\\item[mystery] 1.36731834205664\n",
       "\\item[romance] 1.373038798095\n",
       "\\item[crime] 1.38116962664251\n",
       "\\item[war] 1.48458010736675\n",
       "\\item[film.noir] 1.57050758781288\n",
       "\\item[drama] 1.84201257229883\n",
       "\\end{description*}\n"
      ],
      "text/markdown": [
       "mystery\n",
       ":   1.36731834205664romance\n",
       ":   1.373038798095crime\n",
       ":   1.38116962664251war\n",
       ":   1.48458010736675film.noir\n",
       ":   1.57050758781288drama\n",
       ":   1.84201257229883\n",
       "\n"
      ],
      "text/plain": [
       "  mystery   romance     crime       war film.noir     drama \n",
       " 1.367318  1.373039  1.381170  1.484580  1.570508  1.842013 "
      ]
     },
     "metadata": {},
     "output_type": "display_data"
    }
   ],
   "source": [
    "# Cluster 5\n",
    "tail(sort(colMeans(KmeansCluster5)))"
   ]
  },
  {
   "cell_type": "markdown",
   "metadata": {},
   "source": [
    "**Which of the clusters is best described as “users who like dramas, film noir, war movies, and crime movies?”**"
   ]
  },
  {
   "cell_type": "markdown",
   "metadata": {},
   "source": [
    "Answer: Cluster 5."
   ]
  },
  {
   "cell_type": "markdown",
   "metadata": {},
   "source": [
    "**Which of the clusters is best described as “users who like adventure movies, fantasy movies, and action movies?”**"
   ]
  },
  {
   "cell_type": "markdown",
   "metadata": {},
   "source": [
    "Answer: Cluster 2."
   ]
  },
  {
   "cell_type": "markdown",
   "metadata": {},
   "source": [
    "**What genre contributes least to the cluster described as “users who like adventure movies, fantasy movies, and action movies?”**"
   ]
  },
  {
   "cell_type": "code",
   "execution_count": 22,
   "metadata": {},
   "outputs": [
    {
     "data": {
      "text/html": [
       "<style>\n",
       ".dl-inline {width: auto; margin:0; padding: 0}\n",
       ".dl-inline>dt, .dl-inline>dd {float: none; width: auto; display: inline-block}\n",
       ".dl-inline>dt::after {content: \":\\0020\"; padding-right: .5ex}\n",
       ".dl-inline>dt:not(:first-of-type) {padding-left: .5ex}\n",
       "</style><dl class=dl-inline><dt>film.noir</dt><dd>0.077950894544007</dd><dt>documentary</dt><dd>0.407743188451799</dd><dt>western</dt><dd>0.752900850580509</dd><dt>musical</dt><dd>0.816809613692453</dd><dt>war</dt><dd>0.851911373501178</dd><dt>romance</dt><dd>0.912500761264803</dd><dt>drama</dt><dd>1.02087709464152</dd><dt>horror</dt><dd>1.30848370554931</dd><dt>mystery</dt><dd>1.37590769232402</dd><dt>crime</dt><dd>1.41827161186048</dd><dt>children</dt><dd>1.48784813469821</dd><dt>imax</dt><dd>1.53614219186721</dd><dt>comedy</dt><dd>1.59560054496353</dd><dt>animation</dt><dd>1.62405591597685</dd><dt>thriller</dt><dd>1.76043591564509</dd><dt>sci.fi</dt><dd>1.946085692099</dd><dt>action</dt><dd>1.99826943394282</dd><dt>fantasy</dt><dd>2.0605132870066</dd><dt>adventure</dt><dd>2.1123348801777</dd></dl>\n"
      ],
      "text/latex": [
       "\\begin{description*}\n",
       "\\item[film.noir] 0.077950894544007\n",
       "\\item[documentary] 0.407743188451799\n",
       "\\item[western] 0.752900850580509\n",
       "\\item[musical] 0.816809613692453\n",
       "\\item[war] 0.851911373501178\n",
       "\\item[romance] 0.912500761264803\n",
       "\\item[drama] 1.02087709464152\n",
       "\\item[horror] 1.30848370554931\n",
       "\\item[mystery] 1.37590769232402\n",
       "\\item[crime] 1.41827161186048\n",
       "\\item[children] 1.48784813469821\n",
       "\\item[imax] 1.53614219186721\n",
       "\\item[comedy] 1.59560054496353\n",
       "\\item[animation] 1.62405591597685\n",
       "\\item[thriller] 1.76043591564509\n",
       "\\item[sci.fi] 1.946085692099\n",
       "\\item[action] 1.99826943394282\n",
       "\\item[fantasy] 2.0605132870066\n",
       "\\item[adventure] 2.1123348801777\n",
       "\\end{description*}\n"
      ],
      "text/markdown": [
       "film.noir\n",
       ":   0.077950894544007documentary\n",
       ":   0.407743188451799western\n",
       ":   0.752900850580509musical\n",
       ":   0.816809613692453war\n",
       ":   0.851911373501178romance\n",
       ":   0.912500761264803drama\n",
       ":   1.02087709464152horror\n",
       ":   1.30848370554931mystery\n",
       ":   1.37590769232402crime\n",
       ":   1.41827161186048children\n",
       ":   1.48784813469821imax\n",
       ":   1.53614219186721comedy\n",
       ":   1.59560054496353animation\n",
       ":   1.62405591597685thriller\n",
       ":   1.76043591564509sci.fi\n",
       ":   1.946085692099action\n",
       ":   1.99826943394282fantasy\n",
       ":   2.0605132870066adventure\n",
       ":   2.1123348801777\n",
       "\n"
      ],
      "text/plain": [
       "  film.noir documentary     western     musical         war     romance \n",
       " 0.07795089  0.40774319  0.75290085  0.81680961  0.85191137  0.91250076 \n",
       "      drama      horror     mystery       crime    children        imax \n",
       " 1.02087709  1.30848371  1.37590769  1.41827161  1.48784813  1.53614219 \n",
       "     comedy   animation    thriller      sci.fi      action     fantasy \n",
       " 1.59560054  1.62405592  1.76043592  1.94608569  1.99826943  2.06051329 \n",
       "  adventure \n",
       " 2.11233488 "
      ]
     },
     "metadata": {},
     "output_type": "display_data"
    }
   ],
   "source": [
    "# Sort the genres in cluster 2\n",
    "sort(colMeans(KmeansCluster2))"
   ]
  },
  {
   "cell_type": "markdown",
   "metadata": {},
   "source": [
    "Answer: filme.noir."
   ]
  }
 ],
 "metadata": {
  "kernelspec": {
   "display_name": "R",
   "language": "R",
   "name": "ir"
  },
  "language_info": {
   "codemirror_mode": "r",
   "file_extension": ".r",
   "mimetype": "text/x-r-source",
   "name": "R",
   "pygments_lexer": "r",
   "version": "3.6.3"
  }
 },
 "nbformat": 4,
 "nbformat_minor": 4
}
