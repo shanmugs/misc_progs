{
 "cells": [
  {
   "cell_type": "markdown",
   "metadata": {},
   "source": [
    "# Patterns in Renewable Energy Generation"
   ]
  },
  {
   "cell_type": "markdown",
   "metadata": {},
   "source": [
    "<img src=\"images/energy.jpg\"/>"
   ]
  },
  {
   "cell_type": "markdown",
   "metadata": {},
   "source": [
    "The use of coal in the United States peaked in 2005, and since then has decreased by 25%, being replaced by renewable energy sources and more efficient use (Lovins, 2014). As the United States pursues a portfolio of more diverse, sustainable and secure energy sources, there are many questions to consider. What are effective factors in incentivizing states to adopt more environmentally friendly energy generation methods? How do these factors vary by state? How can we direct resources to different places in the country and ensure that they effectively drive renewable energy sources adoption? To derive insights and answer these questions, we take a combination of generation, usage, and greenhouse emission data by state and combine it with macro-economic and political information.\n",
    "\n",
    "For this problem, we gathered data from various sources to include the following information for each state within the U.S. for the years spanning year 2000 to year 2013. The aggregated dataset energy.csv results in a total of 27 variables and 699 observations. Each observation contains one record per state per year. Here's a detailed description of the variables:"
   ]
  },
  {
   "cell_type": "markdown",
   "metadata": {},
   "source": [
    "    GenTotal: Annual generation of energy using all types of energy sources (coal, nuclear, hydroelectric, solar, etc.) normalized by the state population at a given year.\n",
    "\n",
    "    GenTotalRenewable: Annual generation of energy using all renewable energy sources normalized by the state population at a given year.\n",
    "\n",
    "    GenHydro, GenSolar: Annual generation of energy using each type of energy source as a percent of the total energy generation.\n",
    "\n",
    "    GenTotalRenewableBinary, GenSolarBinary: 1 if generation from solar or other renewable energy sources increased between a year n and a year n+1. 0 if it did not increase.\n",
    "\n",
    "    AllSourcesCO2, AllSourcesSO2 and AllSourcesNOx: Annual emissions per state in metric tons, normalized by the respective state population at a given year and caused by all energy generation sources.\n",
    "\n",
    "    EPriceResidential, EPriceCommercial, EPriceIndustrial, EPriceTransportation, EPriceTotal: Average electricity price per state, per sector (residential, industrial, commercial, etc.)\n",
    "\n",
    "    ESalesResidential, ESalesCommercial, ESalesIndustrial, ESalesTransportation, ESalesTotal: Annual normalized sales of electricity per state, per sector.\n",
    "\n",
    "    CumlRegulatory, CumlFinancial: Number of energy-related financial incentives and regulations created by a state per year.\n",
    "\n",
    "    Demographic data such as annual wages per capita and presidential results (0 if a state voted republican, 1 is democrat)."
   ]
  },
  {
   "cell_type": "markdown",
   "metadata": {},
   "source": [
    "### Problem 1 - Total Renewable Energy Generation\n",
    "Load energy.csv into a data frame called energy.\n",
    "\n",
    "Renewable energy sources are considered to include geothermal, hydroelectric, biomass, solar and wind."
   ]
  },
  {
   "cell_type": "code",
   "execution_count": 1,
   "metadata": {},
   "outputs": [
    {
     "data": {
      "text/html": [
       "<table>\n",
       "<caption>A data.frame: 6 × 27</caption>\n",
       "<thead>\n",
       "\t<tr><th></th><th scope=col>STATE</th><th scope=col>YEAR</th><th scope=col>GenTotal</th><th scope=col>GenHydro</th><th scope=col>GenSolar</th><th scope=col>GenTotalRenewable</th><th scope=col>GenSolarBinary</th><th scope=col>GenTotalRenewableBinary</th><th scope=col>AllSourcesCO2</th><th scope=col>AllSourcesSO2</th><th scope=col>⋯</th><th scope=col>EsalesCommercial</th><th scope=col>EsalesIndustrial</th><th scope=col>EsalesTransportation</th><th scope=col>EsalesOther</th><th scope=col>EsalesTotal</th><th scope=col>CumlFinancial</th><th scope=col>CumlRegulatory</th><th scope=col>Total.salary</th><th scope=col>presidential.results</th><th scope=col>Import</th></tr>\n",
       "\t<tr><th></th><th scope=col>&lt;fct&gt;</th><th scope=col>&lt;int&gt;</th><th scope=col>&lt;dbl&gt;</th><th scope=col>&lt;dbl&gt;</th><th scope=col>&lt;dbl&gt;</th><th scope=col>&lt;dbl&gt;</th><th scope=col>&lt;int&gt;</th><th scope=col>&lt;int&gt;</th><th scope=col>&lt;dbl&gt;</th><th scope=col>&lt;dbl&gt;</th><th scope=col>⋯</th><th scope=col>&lt;dbl&gt;</th><th scope=col>&lt;dbl&gt;</th><th scope=col>&lt;dbl&gt;</th><th scope=col>&lt;dbl&gt;</th><th scope=col>&lt;dbl&gt;</th><th scope=col>&lt;int&gt;</th><th scope=col>&lt;int&gt;</th><th scope=col>&lt;dbl&gt;</th><th scope=col>&lt;int&gt;</th><th scope=col>&lt;int&gt;</th></tr>\n",
       "</thead>\n",
       "<tbody>\n",
       "\t<tr><th scope=row>1</th><td>AK</td><td>2000</td><td> 9.807319</td><td>0.1627248</td><td>0</td><td>0.1627248</td><td>0</td><td>1</td><td>7.260627</td><td>0.022395930</td><td>⋯</td><td>0.4211845</td><td>0.1952228</td><td>0</td><td>0.03425594</td><td>8.458761</td><td>1</td><td>1</td><td>17.64609</td><td>0</td><td>0</td></tr>\n",
       "\t<tr><th scope=row>2</th><td>AK</td><td>2001</td><td>10.644612</td><td>0.1995421</td><td>0</td><td>0.1996829</td><td>0</td><td>1</td><td>7.311767</td><td>0.011925094</td><td>⋯</td><td>0.4196878</td><td>0.1979111</td><td>0</td><td>0.03560234</td><td>8.608923</td><td>1</td><td>1</td><td>18.69197</td><td>0</td><td>0</td></tr>\n",
       "\t<tr><th scope=row>3</th><td>AK</td><td>2002</td><td>10.541432</td><td>0.2126913</td><td>0</td><td>0.2143351</td><td>0</td><td>1</td><td>6.938342</td><td>0.011477100</td><td>⋯</td><td>0.4095216</td><td>0.1990407</td><td>0</td><td>0.03790713</td><td>8.513568</td><td>1</td><td>1</td><td>19.64402</td><td>0</td><td>0</td></tr>\n",
       "\t<tr><th scope=row>4</th><td>AK</td><td>2003</td><td> 9.786963</td><td>0.2496613</td><td>0</td><td>0.2504531</td><td>0</td><td>0</td><td>6.153593</td><td>0.006750341</td><td>⋯</td><td>0.4444949</td><td>0.1983659</td><td>0</td><td>0.00000000</td><td>8.590290</td><td>1</td><td>1</td><td>20.39238</td><td>0</td><td>0</td></tr>\n",
       "\t<tr><th scope=row>5</th><td>AK</td><td>2004</td><td> 9.899390</td><td>0.2295212</td><td>0</td><td>0.2308738</td><td>0</td><td>0</td><td>7.246256</td><td>0.006591790</td><td>⋯</td><td>0.4492727</td><td>0.1945192</td><td>0</td><td>0.00000000</td><td>8.779676</td><td>1</td><td>1</td><td>21.44678</td><td>0</td><td>0</td></tr>\n",
       "\t<tr><th scope=row>6</th><td>AK</td><td>2005</td><td> 9.858374</td><td>0.2225966</td><td>0</td><td>0.2234271</td><td>0</td><td>0</td><td>6.541566</td><td>0.006048441</td><td>⋯</td><td>0.4557934</td><td>0.1955170</td><td>0</td><td>        NA</td><td>8.862909</td><td>2</td><td>1</td><td>22.71282</td><td>0</td><td>0</td></tr>\n",
       "</tbody>\n",
       "</table>\n"
      ],
      "text/latex": [
       "A data.frame: 6 × 27\n",
       "\\begin{tabular}{r|lllllllllllllllllllll}\n",
       "  & STATE & YEAR & GenTotal & GenHydro & GenSolar & GenTotalRenewable & GenSolarBinary & GenTotalRenewableBinary & AllSourcesCO2 & AllSourcesSO2 & ⋯ & EsalesCommercial & EsalesIndustrial & EsalesTransportation & EsalesOther & EsalesTotal & CumlFinancial & CumlRegulatory & Total.salary & presidential.results & Import\\\\\n",
       "  & <fct> & <int> & <dbl> & <dbl> & <dbl> & <dbl> & <int> & <int> & <dbl> & <dbl> & ⋯ & <dbl> & <dbl> & <dbl> & <dbl> & <dbl> & <int> & <int> & <dbl> & <int> & <int>\\\\\n",
       "\\hline\n",
       "\t1 & AK & 2000 &  9.807319 & 0.1627248 & 0 & 0.1627248 & 0 & 1 & 7.260627 & 0.022395930 & ⋯ & 0.4211845 & 0.1952228 & 0 & 0.03425594 & 8.458761 & 1 & 1 & 17.64609 & 0 & 0\\\\\n",
       "\t2 & AK & 2001 & 10.644612 & 0.1995421 & 0 & 0.1996829 & 0 & 1 & 7.311767 & 0.011925094 & ⋯ & 0.4196878 & 0.1979111 & 0 & 0.03560234 & 8.608923 & 1 & 1 & 18.69197 & 0 & 0\\\\\n",
       "\t3 & AK & 2002 & 10.541432 & 0.2126913 & 0 & 0.2143351 & 0 & 1 & 6.938342 & 0.011477100 & ⋯ & 0.4095216 & 0.1990407 & 0 & 0.03790713 & 8.513568 & 1 & 1 & 19.64402 & 0 & 0\\\\\n",
       "\t4 & AK & 2003 &  9.786963 & 0.2496613 & 0 & 0.2504531 & 0 & 0 & 6.153593 & 0.006750341 & ⋯ & 0.4444949 & 0.1983659 & 0 & 0.00000000 & 8.590290 & 1 & 1 & 20.39238 & 0 & 0\\\\\n",
       "\t5 & AK & 2004 &  9.899390 & 0.2295212 & 0 & 0.2308738 & 0 & 0 & 7.246256 & 0.006591790 & ⋯ & 0.4492727 & 0.1945192 & 0 & 0.00000000 & 8.779676 & 1 & 1 & 21.44678 & 0 & 0\\\\\n",
       "\t6 & AK & 2005 &  9.858374 & 0.2225966 & 0 & 0.2234271 & 0 & 0 & 6.541566 & 0.006048441 & ⋯ & 0.4557934 & 0.1955170 & 0 &         NA & 8.862909 & 2 & 1 & 22.71282 & 0 & 0\\\\\n",
       "\\end{tabular}\n"
      ],
      "text/markdown": [
       "\n",
       "A data.frame: 6 × 27\n",
       "\n",
       "| <!--/--> | STATE &lt;fct&gt; | YEAR &lt;int&gt; | GenTotal &lt;dbl&gt; | GenHydro &lt;dbl&gt; | GenSolar &lt;dbl&gt; | GenTotalRenewable &lt;dbl&gt; | GenSolarBinary &lt;int&gt; | GenTotalRenewableBinary &lt;int&gt; | AllSourcesCO2 &lt;dbl&gt; | AllSourcesSO2 &lt;dbl&gt; | ⋯ ⋯ | EsalesCommercial &lt;dbl&gt; | EsalesIndustrial &lt;dbl&gt; | EsalesTransportation &lt;dbl&gt; | EsalesOther &lt;dbl&gt; | EsalesTotal &lt;dbl&gt; | CumlFinancial &lt;int&gt; | CumlRegulatory &lt;int&gt; | Total.salary &lt;dbl&gt; | presidential.results &lt;int&gt; | Import &lt;int&gt; |\n",
       "|---|---|---|---|---|---|---|---|---|---|---|---|---|---|---|---|---|---|---|---|---|---|\n",
       "| 1 | AK | 2000 |  9.807319 | 0.1627248 | 0 | 0.1627248 | 0 | 1 | 7.260627 | 0.022395930 | ⋯ | 0.4211845 | 0.1952228 | 0 | 0.03425594 | 8.458761 | 1 | 1 | 17.64609 | 0 | 0 |\n",
       "| 2 | AK | 2001 | 10.644612 | 0.1995421 | 0 | 0.1996829 | 0 | 1 | 7.311767 | 0.011925094 | ⋯ | 0.4196878 | 0.1979111 | 0 | 0.03560234 | 8.608923 | 1 | 1 | 18.69197 | 0 | 0 |\n",
       "| 3 | AK | 2002 | 10.541432 | 0.2126913 | 0 | 0.2143351 | 0 | 1 | 6.938342 | 0.011477100 | ⋯ | 0.4095216 | 0.1990407 | 0 | 0.03790713 | 8.513568 | 1 | 1 | 19.64402 | 0 | 0 |\n",
       "| 4 | AK | 2003 |  9.786963 | 0.2496613 | 0 | 0.2504531 | 0 | 0 | 6.153593 | 0.006750341 | ⋯ | 0.4444949 | 0.1983659 | 0 | 0.00000000 | 8.590290 | 1 | 1 | 20.39238 | 0 | 0 |\n",
       "| 5 | AK | 2004 |  9.899390 | 0.2295212 | 0 | 0.2308738 | 0 | 0 | 7.246256 | 0.006591790 | ⋯ | 0.4492727 | 0.1945192 | 0 | 0.00000000 | 8.779676 | 1 | 1 | 21.44678 | 0 | 0 |\n",
       "| 6 | AK | 2005 |  9.858374 | 0.2225966 | 0 | 0.2234271 | 0 | 0 | 6.541566 | 0.006048441 | ⋯ | 0.4557934 | 0.1955170 | 0 |         NA | 8.862909 | 2 | 1 | 22.71282 | 0 | 0 |\n",
       "\n"
      ],
      "text/plain": [
       "  STATE YEAR GenTotal  GenHydro  GenSolar GenTotalRenewable GenSolarBinary\n",
       "1 AK    2000  9.807319 0.1627248 0        0.1627248         0             \n",
       "2 AK    2001 10.644612 0.1995421 0        0.1996829         0             \n",
       "3 AK    2002 10.541432 0.2126913 0        0.2143351         0             \n",
       "4 AK    2003  9.786963 0.2496613 0        0.2504531         0             \n",
       "5 AK    2004  9.899390 0.2295212 0        0.2308738         0             \n",
       "6 AK    2005  9.858374 0.2225966 0        0.2234271         0             \n",
       "  GenTotalRenewableBinary AllSourcesCO2 AllSourcesSO2 <U+22EF>        EsalesCommercial\n",
       "1 1                       7.260627      0.022395930   <U+22EF> 0.4211845       \n",
       "2 1                       7.311767      0.011925094   <U+22EF> 0.4196878       \n",
       "3 1                       6.938342      0.011477100   <U+22EF> 0.4095216       \n",
       "4 0                       6.153593      0.006750341   <U+22EF> 0.4444949       \n",
       "5 0                       7.246256      0.006591790   <U+22EF> 0.4492727       \n",
       "6 0                       6.541566      0.006048441   <U+22EF> 0.4557934       \n",
       "  EsalesIndustrial EsalesTransportation EsalesOther EsalesTotal CumlFinancial\n",
       "1 0.1952228        0                    0.03425594  8.458761    1            \n",
       "2 0.1979111        0                    0.03560234  8.608923    1            \n",
       "3 0.1990407        0                    0.03790713  8.513568    1            \n",
       "4 0.1983659        0                    0.00000000  8.590290    1            \n",
       "5 0.1945192        0                    0.00000000  8.779676    1            \n",
       "6 0.1955170        0                            NA  8.862909    2            \n",
       "  CumlRegulatory Total.salary presidential.results Import\n",
       "1 1              17.64609     0                    0     \n",
       "2 1              18.69197     0                    0     \n",
       "3 1              19.64402     0                    0     \n",
       "4 1              20.39238     0                    0     \n",
       "5 1              21.44678     0                    0     \n",
       "6 1              22.71282     0                    0     "
      ]
     },
     "metadata": {},
     "output_type": "display_data"
    }
   ],
   "source": [
    "# Load the Dataset\n",
    "\n",
    "energy = read.csv(\"data/energy.csv\")\n",
    "\n",
    "head(energy)"
   ]
  },
  {
   "cell_type": "code",
   "execution_count": 2,
   "metadata": {},
   "outputs": [
    {
     "name": "stdout",
     "output_type": "stream",
     "text": [
      "'data.frame':\t699 obs. of  27 variables:\n",
      " $ STATE                  : Factor w/ 50 levels \"AK\",\"AL\",\"AR\",..: 1 1 1 1 1 1 1 1 1 1 ...\n",
      " $ YEAR                   : int  2000 2001 2002 2003 2004 2005 2006 2007 2008 2009 ...\n",
      " $ GenTotal               : num  9.81 10.64 10.54 9.79 9.9 ...\n",
      " $ GenHydro               : num  0.163 0.2 0.213 0.25 0.23 ...\n",
      " $ GenSolar               : num  0 0 0 0 0 0 0 0 0 0 ...\n",
      " $ GenTotalRenewable      : num  0.163 0.2 0.214 0.25 0.231 ...\n",
      " $ GenSolarBinary         : int  0 0 0 0 0 0 0 0 0 0 ...\n",
      " $ GenTotalRenewableBinary: int  1 1 1 0 0 0 1 0 1 1 ...\n",
      " $ AllSourcesCO2          : num  7.26 7.31 6.94 6.15 7.25 ...\n",
      " $ AllSourcesSO2          : num  0.0224 0.01193 0.01148 0.00675 0.00659 ...\n",
      " $ AllSourcesNOx          : num  0.0289 0.0277 0.0294 0.0242 0.0377 ...\n",
      " $ EPriceResidential      : num  11.4 12.1 12.1 12 12.4 ...\n",
      " $ EPriceCommercial       : num  9.77 10.29 10.13 10.49 10.99 ...\n",
      " $ EPriceIndustrial       : num  7.56 7.61 7.65 7.86 8.33 ...\n",
      " $ EPriceTransportation   : num  0 0 0 0 0 0 0 0 0 0 ...\n",
      " $ EPriceTotal            : num  10.1 10.5 10.5 10.5 11 ...\n",
      " $ EsalesResidential      : num  0.349 0.347 0.354 0.357 0.356 ...\n",
      " $ EsalesCommercial       : num  0.421 0.42 0.41 0.444 0.449 ...\n",
      " $ EsalesIndustrial       : num  0.195 0.198 0.199 0.198 0.195 ...\n",
      " $ EsalesTransportation   : num  0 0 0 0 0 0 0 0 0 0 ...\n",
      " $ EsalesOther            : num  0.0343 0.0356 0.0379 0 0 ...\n",
      " $ EsalesTotal            : num  8.46 8.61 8.51 8.59 8.78 ...\n",
      " $ CumlFinancial          : int  1 1 1 1 1 2 7 7 10 10 ...\n",
      " $ CumlRegulatory         : int  1 1 1 1 1 1 2 2 2 3 ...\n",
      " $ Total.salary           : num  17.6 18.7 19.6 20.4 21.4 ...\n",
      " $ presidential.results   : int  0 0 0 0 0 0 0 0 0 0 ...\n",
      " $ Import                 : int  0 0 0 0 0 0 0 0 0 0 ...\n"
     ]
    }
   ],
   "source": [
    "str(energy)"
   ]
  },
  {
   "cell_type": "code",
   "execution_count": 3,
   "metadata": {},
   "outputs": [
    {
     "data": {
      "text/plain": [
       "     STATE          YEAR         GenTotal         GenHydro      \n",
       " AK     : 14   Min.   :2000   Min.   : 4.591   Min.   :0.00000  \n",
       " AL     : 14   1st Qu.:2003   1st Qu.:10.037   1st Qu.:0.00888  \n",
       " AR     : 14   Median :2006   Median :14.647   Median :0.02291  \n",
       " AZ     : 14   Mean   :2006   Mean   :16.956   Mean   :0.09853  \n",
       " CA     : 14   3rd Qu.:2010   3rd Qu.:18.018   3rd Qu.:0.07041  \n",
       " CO     : 14   Max.   :2013   Max.   :92.097   Max.   :0.92076  \n",
       " (Other):615                                                    \n",
       "    GenSolar          GenTotalRenewable GenSolarBinary  \n",
       " Min.   :-1.300e-08   Min.   :0.00000   Min.   :0.0000  \n",
       " 1st Qu.: 0.000e+00   1st Qu.:0.02027   1st Qu.:0.0000  \n",
       " Median : 0.000e+00   Median :0.04475   Median :0.0000  \n",
       " Mean   : 3.344e-04   Mean   :0.12245   Mean   :0.2318  \n",
       " 3rd Qu.: 0.000e+00   3rd Qu.:0.10771   3rd Qu.:0.0000  \n",
       " Max.   : 2.045e-02   Max.   :0.92076   Max.   :1.0000  \n",
       "                                                        \n",
       " GenTotalRenewableBinary AllSourcesCO2      AllSourcesSO2     AllSourcesNOx    \n",
       " Min.   :0.0000          Min.   : 0.01059   Min.   :0.00003   Min.   :0.00067  \n",
       " 1st Qu.:0.0000          1st Qu.: 4.84645   1st Qu.:0.00925   1st Qu.:0.00604  \n",
       " Median :1.0000          Median : 8.34005   Median :0.02375   Median :0.01428  \n",
       " Mean   :0.5923          Mean   :11.61430   Mean   :0.03687   Mean   :0.02058  \n",
       " 3rd Qu.:1.0000          3rd Qu.:12.99889   3rd Qu.:0.04197   3rd Qu.:0.02288  \n",
       " Max.   :1.0000          Max.   :93.96429   Max.   :0.34568   Max.   :0.35610  \n",
       "                         NA's   :50         NA's   :50        NA's   :50       \n",
       " EPriceResidential EPriceCommercial EPriceIndustrial EPriceTransportation\n",
       " Min.   : 5.130    Min.   : 4.240   Min.   : 3.010   Min.   : 0.000      \n",
       " 1st Qu.: 7.965    1st Qu.: 6.760   1st Qu.: 4.695   1st Qu.: 0.000      \n",
       " Median : 9.490    Median : 8.100   Median : 5.820   Median : 1.615      \n",
       " Mean   :10.424    Mean   : 8.969   Mean   : 6.660   Mean   : 4.131      \n",
       " 3rd Qu.:11.825    3rd Qu.:10.065   3rd Qu.: 7.500   3rd Qu.: 7.940      \n",
       " Max.   :37.340    Max.   :34.880   Max.   :30.820   Max.   :15.440      \n",
       "                                                     NA's   :1           \n",
       "  EPriceTotal     EsalesResidential EsalesCommercial EsalesIndustrial \n",
       " Min.   : 4.170   Min.   :0.1594    Min.   :0.1690   Min.   :0.06372  \n",
       " 1st Qu.: 6.515   1st Qu.:0.3297    1st Qu.:0.2816   1st Qu.:0.21331  \n",
       " Median : 7.860   Median :0.3563    Median :0.3385   Median :0.29978  \n",
       " Mean   : 8.809   Mean   :0.3595    Mean   :0.3411   Mean   :0.29232  \n",
       " 3rd Qu.:10.095   3rd Qu.:0.3926    3rd Qu.:0.3877   3rd Qu.:0.35791  \n",
       " Max.   :34.040   Max.   :0.5287    Max.   :0.5381   Max.   :0.59561  \n",
       "                                                                      \n",
       " EsalesTransportation  EsalesOther      EsalesTotal     CumlFinancial   \n",
       " Min.   :0.0000000    Min.   :0.0000   Min.   : 6.745   Min.   :  0.00  \n",
       " 1st Qu.:0.0000000    1st Qu.:0.0000   1st Qu.:10.336   1st Qu.:  2.00  \n",
       " Median :0.0000000    Median :0.0092   Median :13.153   Median :  8.00  \n",
       " Mean   :0.0010349    Mean   :0.0170   Mean   :13.145   Mean   : 17.58  \n",
       " 3rd Qu.:0.0002786    3rd Qu.:0.0216   3rd Qu.:15.353   3rd Qu.: 23.50  \n",
       " Max.   :0.0229279    Max.   :0.1074   Max.   :31.336   Max.   :154.00  \n",
       "                      NA's   :449                                       \n",
       " CumlRegulatory    Total.salary   presidential.results     Import      \n",
       " Min.   : 0.000   Min.   :10.65   Min.   :0.0000       Min.   :0.0000  \n",
       " 1st Qu.: 3.000   1st Qu.:16.84   1st Qu.:0.0000       1st Qu.:0.0000  \n",
       " Median : 6.000   Median :19.51   Median :0.0000       Median :0.0000  \n",
       " Mean   : 6.838   Mean   :20.01   Mean   :0.4578       Mean   :0.3433  \n",
       " 3rd Qu.:10.000   3rd Qu.:22.83   3rd Qu.:1.0000       3rd Qu.:1.0000  \n",
       " Max.   :42.000   Max.   :33.85   Max.   :1.0000       Max.   :1.0000  \n",
       "                                                                       "
      ]
     },
     "metadata": {},
     "output_type": "display_data"
    }
   ],
   "source": [
    "summary(energy)"
   ]
  },
  {
   "cell_type": "markdown",
   "metadata": {},
   "source": [
    "**Which state in the United States seems to have the highest total generation of energy from renewable sources (use the variable GenTotalRenewable)?**"
   ]
  },
  {
   "cell_type": "code",
   "execution_count": 4,
   "metadata": {},
   "outputs": [
    {
     "data": {
      "text/html": [
       "0.920763058"
      ],
      "text/latex": [
       "0.920763058"
      ],
      "text/markdown": [
       "0.920763058"
      ],
      "text/plain": [
       "[1] 0.9207631"
      ]
     },
     "metadata": {},
     "output_type": "display_data"
    }
   ],
   "source": [
    "max(energy$GenTotalRenewable)"
   ]
  },
  {
   "cell_type": "code",
   "execution_count": 5,
   "metadata": {},
   "outputs": [
    {
     "data": {
      "text/html": [
       "169"
      ],
      "text/latex": [
       "169"
      ],
      "text/markdown": [
       "169"
      ],
      "text/plain": [
       "[1] 169"
      ]
     },
     "metadata": {},
     "output_type": "display_data"
    }
   ],
   "source": [
    "which(energy$GenTotalRenewable == max(energy$GenTotalRenewable))"
   ]
  },
  {
   "cell_type": "code",
   "execution_count": 6,
   "metadata": {},
   "outputs": [
    {
     "data": {
      "text/html": [
       "<table>\n",
       "<caption>A data.frame: 1 × 27</caption>\n",
       "<thead>\n",
       "\t<tr><th></th><th scope=col>STATE</th><th scope=col>YEAR</th><th scope=col>GenTotal</th><th scope=col>GenHydro</th><th scope=col>GenSolar</th><th scope=col>GenTotalRenewable</th><th scope=col>GenSolarBinary</th><th scope=col>GenTotalRenewableBinary</th><th scope=col>AllSourcesCO2</th><th scope=col>AllSourcesSO2</th><th scope=col>⋯</th><th scope=col>EsalesCommercial</th><th scope=col>EsalesIndustrial</th><th scope=col>EsalesTransportation</th><th scope=col>EsalesOther</th><th scope=col>EsalesTotal</th><th scope=col>CumlFinancial</th><th scope=col>CumlRegulatory</th><th scope=col>Total.salary</th><th scope=col>presidential.results</th><th scope=col>Import</th></tr>\n",
       "\t<tr><th></th><th scope=col>&lt;fct&gt;</th><th scope=col>&lt;int&gt;</th><th scope=col>&lt;dbl&gt;</th><th scope=col>&lt;dbl&gt;</th><th scope=col>&lt;dbl&gt;</th><th scope=col>&lt;dbl&gt;</th><th scope=col>&lt;int&gt;</th><th scope=col>&lt;int&gt;</th><th scope=col>&lt;dbl&gt;</th><th scope=col>&lt;dbl&gt;</th><th scope=col>⋯</th><th scope=col>&lt;dbl&gt;</th><th scope=col>&lt;dbl&gt;</th><th scope=col>&lt;dbl&gt;</th><th scope=col>&lt;dbl&gt;</th><th scope=col>&lt;dbl&gt;</th><th scope=col>&lt;int&gt;</th><th scope=col>&lt;int&gt;</th><th scope=col>&lt;dbl&gt;</th><th scope=col>&lt;int&gt;</th><th scope=col>&lt;int&gt;</th></tr>\n",
       "</thead>\n",
       "<tbody>\n",
       "\t<tr><th scope=row>169</th><td>ID</td><td>2000</td><td>9.165016</td><td>0.9207631</td><td>0</td><td>0.9207631</td><td>0</td><td>0</td><td>0.6368657</td><td>0.004590802</td><td>⋯</td><td>0.3095307</td><td>0.368208</td><td>0</td><td>0.01541804</td><td>17.57071</td><td>2</td><td>2</td><td>12.81243</td><td>0</td><td>1</td></tr>\n",
       "</tbody>\n",
       "</table>\n"
      ],
      "text/latex": [
       "A data.frame: 1 × 27\n",
       "\\begin{tabular}{r|lllllllllllllllllllll}\n",
       "  & STATE & YEAR & GenTotal & GenHydro & GenSolar & GenTotalRenewable & GenSolarBinary & GenTotalRenewableBinary & AllSourcesCO2 & AllSourcesSO2 & ⋯ & EsalesCommercial & EsalesIndustrial & EsalesTransportation & EsalesOther & EsalesTotal & CumlFinancial & CumlRegulatory & Total.salary & presidential.results & Import\\\\\n",
       "  & <fct> & <int> & <dbl> & <dbl> & <dbl> & <dbl> & <int> & <int> & <dbl> & <dbl> & ⋯ & <dbl> & <dbl> & <dbl> & <dbl> & <dbl> & <int> & <int> & <dbl> & <int> & <int>\\\\\n",
       "\\hline\n",
       "\t169 & ID & 2000 & 9.165016 & 0.9207631 & 0 & 0.9207631 & 0 & 0 & 0.6368657 & 0.004590802 & ⋯ & 0.3095307 & 0.368208 & 0 & 0.01541804 & 17.57071 & 2 & 2 & 12.81243 & 0 & 1\\\\\n",
       "\\end{tabular}\n"
      ],
      "text/markdown": [
       "\n",
       "A data.frame: 1 × 27\n",
       "\n",
       "| <!--/--> | STATE &lt;fct&gt; | YEAR &lt;int&gt; | GenTotal &lt;dbl&gt; | GenHydro &lt;dbl&gt; | GenSolar &lt;dbl&gt; | GenTotalRenewable &lt;dbl&gt; | GenSolarBinary &lt;int&gt; | GenTotalRenewableBinary &lt;int&gt; | AllSourcesCO2 &lt;dbl&gt; | AllSourcesSO2 &lt;dbl&gt; | ⋯ ⋯ | EsalesCommercial &lt;dbl&gt; | EsalesIndustrial &lt;dbl&gt; | EsalesTransportation &lt;dbl&gt; | EsalesOther &lt;dbl&gt; | EsalesTotal &lt;dbl&gt; | CumlFinancial &lt;int&gt; | CumlRegulatory &lt;int&gt; | Total.salary &lt;dbl&gt; | presidential.results &lt;int&gt; | Import &lt;int&gt; |\n",
       "|---|---|---|---|---|---|---|---|---|---|---|---|---|---|---|---|---|---|---|---|---|---|\n",
       "| 169 | ID | 2000 | 9.165016 | 0.9207631 | 0 | 0.9207631 | 0 | 0 | 0.6368657 | 0.004590802 | ⋯ | 0.3095307 | 0.368208 | 0 | 0.01541804 | 17.57071 | 2 | 2 | 12.81243 | 0 | 1 |\n",
       "\n"
      ],
      "text/plain": [
       "    STATE YEAR GenTotal GenHydro  GenSolar GenTotalRenewable GenSolarBinary\n",
       "169 ID    2000 9.165016 0.9207631 0        0.9207631         0             \n",
       "    GenTotalRenewableBinary AllSourcesCO2 AllSourcesSO2 <U+22EF>       \n",
       "169 0                       0.6368657     0.004590802   <U+22EF>\n",
       "    EsalesCommercial EsalesIndustrial EsalesTransportation EsalesOther\n",
       "169 0.3095307        0.368208         0                    0.01541804 \n",
       "    EsalesTotal CumlFinancial CumlRegulatory Total.salary presidential.results\n",
       "169 17.57071    2             2              12.81243     0                   \n",
       "    Import\n",
       "169 1     "
      ]
     },
     "metadata": {},
     "output_type": "display_data"
    }
   ],
   "source": [
    "energy[169,]"
   ]
  },
  {
   "cell_type": "markdown",
   "metadata": {},
   "source": [
    "Answer: Idaho (ID)."
   ]
  },
  {
   "cell_type": "markdown",
   "metadata": {},
   "source": [
    "**Which year did the above state produce the highest energy generation from renewable resources?**"
   ]
  },
  {
   "cell_type": "markdown",
   "metadata": {},
   "source": [
    "Answer: 2000."
   ]
  },
  {
   "cell_type": "markdown",
   "metadata": {},
   "source": [
    "### Problem 2 - Relationship Between Politics and Greenhouse Emissions\n",
    "What is the average CO2 emissions from all sources of energy for:\n",
    "\n",
    "**states during years in which they voted republican?**"
   ]
  },
  {
   "cell_type": "code",
   "execution_count": 7,
   "metadata": {},
   "outputs": [
    {
     "data": {
      "text/html": [
       "<table>\n",
       "<caption>A data.frame: 6 × 27</caption>\n",
       "<thead>\n",
       "\t<tr><th></th><th scope=col>STATE</th><th scope=col>YEAR</th><th scope=col>GenTotal</th><th scope=col>GenHydro</th><th scope=col>GenSolar</th><th scope=col>GenTotalRenewable</th><th scope=col>GenSolarBinary</th><th scope=col>GenTotalRenewableBinary</th><th scope=col>AllSourcesCO2</th><th scope=col>AllSourcesSO2</th><th scope=col>⋯</th><th scope=col>EsalesCommercial</th><th scope=col>EsalesIndustrial</th><th scope=col>EsalesTransportation</th><th scope=col>EsalesOther</th><th scope=col>EsalesTotal</th><th scope=col>CumlFinancial</th><th scope=col>CumlRegulatory</th><th scope=col>Total.salary</th><th scope=col>presidential.results</th><th scope=col>Import</th></tr>\n",
       "\t<tr><th></th><th scope=col>&lt;fct&gt;</th><th scope=col>&lt;int&gt;</th><th scope=col>&lt;dbl&gt;</th><th scope=col>&lt;dbl&gt;</th><th scope=col>&lt;dbl&gt;</th><th scope=col>&lt;dbl&gt;</th><th scope=col>&lt;int&gt;</th><th scope=col>&lt;int&gt;</th><th scope=col>&lt;dbl&gt;</th><th scope=col>&lt;dbl&gt;</th><th scope=col>⋯</th><th scope=col>&lt;dbl&gt;</th><th scope=col>&lt;dbl&gt;</th><th scope=col>&lt;dbl&gt;</th><th scope=col>&lt;dbl&gt;</th><th scope=col>&lt;dbl&gt;</th><th scope=col>&lt;int&gt;</th><th scope=col>&lt;int&gt;</th><th scope=col>&lt;dbl&gt;</th><th scope=col>&lt;int&gt;</th><th scope=col>&lt;int&gt;</th></tr>\n",
       "</thead>\n",
       "<tbody>\n",
       "\t<tr><th scope=row>1</th><td>AK</td><td>2000</td><td> 9.807319</td><td>0.1627248</td><td>0</td><td>0.1627248</td><td>0</td><td>1</td><td>7.260627</td><td>0.022395930</td><td>⋯</td><td>0.4211845</td><td>0.1952228</td><td>0</td><td>0.03425594</td><td>8.458761</td><td>1</td><td>1</td><td>17.64609</td><td>0</td><td>0</td></tr>\n",
       "\t<tr><th scope=row>2</th><td>AK</td><td>2001</td><td>10.644612</td><td>0.1995421</td><td>0</td><td>0.1996829</td><td>0</td><td>1</td><td>7.311767</td><td>0.011925094</td><td>⋯</td><td>0.4196878</td><td>0.1979111</td><td>0</td><td>0.03560234</td><td>8.608923</td><td>1</td><td>1</td><td>18.69197</td><td>0</td><td>0</td></tr>\n",
       "\t<tr><th scope=row>3</th><td>AK</td><td>2002</td><td>10.541432</td><td>0.2126913</td><td>0</td><td>0.2143351</td><td>0</td><td>1</td><td>6.938342</td><td>0.011477100</td><td>⋯</td><td>0.4095216</td><td>0.1990407</td><td>0</td><td>0.03790713</td><td>8.513568</td><td>1</td><td>1</td><td>19.64402</td><td>0</td><td>0</td></tr>\n",
       "\t<tr><th scope=row>4</th><td>AK</td><td>2003</td><td> 9.786963</td><td>0.2496613</td><td>0</td><td>0.2504531</td><td>0</td><td>0</td><td>6.153593</td><td>0.006750341</td><td>⋯</td><td>0.4444949</td><td>0.1983659</td><td>0</td><td>0.00000000</td><td>8.590290</td><td>1</td><td>1</td><td>20.39238</td><td>0</td><td>0</td></tr>\n",
       "\t<tr><th scope=row>5</th><td>AK</td><td>2004</td><td> 9.899390</td><td>0.2295212</td><td>0</td><td>0.2308738</td><td>0</td><td>0</td><td>7.246256</td><td>0.006591790</td><td>⋯</td><td>0.4492727</td><td>0.1945192</td><td>0</td><td>0.00000000</td><td>8.779676</td><td>1</td><td>1</td><td>21.44678</td><td>0</td><td>0</td></tr>\n",
       "\t<tr><th scope=row>6</th><td>AK</td><td>2005</td><td> 9.858374</td><td>0.2225966</td><td>0</td><td>0.2234271</td><td>0</td><td>0</td><td>6.541566</td><td>0.006048441</td><td>⋯</td><td>0.4557934</td><td>0.1955170</td><td>0</td><td>        NA</td><td>8.862909</td><td>2</td><td>1</td><td>22.71282</td><td>0</td><td>0</td></tr>\n",
       "</tbody>\n",
       "</table>\n"
      ],
      "text/latex": [
       "A data.frame: 6 × 27\n",
       "\\begin{tabular}{r|lllllllllllllllllllll}\n",
       "  & STATE & YEAR & GenTotal & GenHydro & GenSolar & GenTotalRenewable & GenSolarBinary & GenTotalRenewableBinary & AllSourcesCO2 & AllSourcesSO2 & ⋯ & EsalesCommercial & EsalesIndustrial & EsalesTransportation & EsalesOther & EsalesTotal & CumlFinancial & CumlRegulatory & Total.salary & presidential.results & Import\\\\\n",
       "  & <fct> & <int> & <dbl> & <dbl> & <dbl> & <dbl> & <int> & <int> & <dbl> & <dbl> & ⋯ & <dbl> & <dbl> & <dbl> & <dbl> & <dbl> & <int> & <int> & <dbl> & <int> & <int>\\\\\n",
       "\\hline\n",
       "\t1 & AK & 2000 &  9.807319 & 0.1627248 & 0 & 0.1627248 & 0 & 1 & 7.260627 & 0.022395930 & ⋯ & 0.4211845 & 0.1952228 & 0 & 0.03425594 & 8.458761 & 1 & 1 & 17.64609 & 0 & 0\\\\\n",
       "\t2 & AK & 2001 & 10.644612 & 0.1995421 & 0 & 0.1996829 & 0 & 1 & 7.311767 & 0.011925094 & ⋯ & 0.4196878 & 0.1979111 & 0 & 0.03560234 & 8.608923 & 1 & 1 & 18.69197 & 0 & 0\\\\\n",
       "\t3 & AK & 2002 & 10.541432 & 0.2126913 & 0 & 0.2143351 & 0 & 1 & 6.938342 & 0.011477100 & ⋯ & 0.4095216 & 0.1990407 & 0 & 0.03790713 & 8.513568 & 1 & 1 & 19.64402 & 0 & 0\\\\\n",
       "\t4 & AK & 2003 &  9.786963 & 0.2496613 & 0 & 0.2504531 & 0 & 0 & 6.153593 & 0.006750341 & ⋯ & 0.4444949 & 0.1983659 & 0 & 0.00000000 & 8.590290 & 1 & 1 & 20.39238 & 0 & 0\\\\\n",
       "\t5 & AK & 2004 &  9.899390 & 0.2295212 & 0 & 0.2308738 & 0 & 0 & 7.246256 & 0.006591790 & ⋯ & 0.4492727 & 0.1945192 & 0 & 0.00000000 & 8.779676 & 1 & 1 & 21.44678 & 0 & 0\\\\\n",
       "\t6 & AK & 2005 &  9.858374 & 0.2225966 & 0 & 0.2234271 & 0 & 0 & 6.541566 & 0.006048441 & ⋯ & 0.4557934 & 0.1955170 & 0 &         NA & 8.862909 & 2 & 1 & 22.71282 & 0 & 0\\\\\n",
       "\\end{tabular}\n"
      ],
      "text/markdown": [
       "\n",
       "A data.frame: 6 × 27\n",
       "\n",
       "| <!--/--> | STATE &lt;fct&gt; | YEAR &lt;int&gt; | GenTotal &lt;dbl&gt; | GenHydro &lt;dbl&gt; | GenSolar &lt;dbl&gt; | GenTotalRenewable &lt;dbl&gt; | GenSolarBinary &lt;int&gt; | GenTotalRenewableBinary &lt;int&gt; | AllSourcesCO2 &lt;dbl&gt; | AllSourcesSO2 &lt;dbl&gt; | ⋯ ⋯ | EsalesCommercial &lt;dbl&gt; | EsalesIndustrial &lt;dbl&gt; | EsalesTransportation &lt;dbl&gt; | EsalesOther &lt;dbl&gt; | EsalesTotal &lt;dbl&gt; | CumlFinancial &lt;int&gt; | CumlRegulatory &lt;int&gt; | Total.salary &lt;dbl&gt; | presidential.results &lt;int&gt; | Import &lt;int&gt; |\n",
       "|---|---|---|---|---|---|---|---|---|---|---|---|---|---|---|---|---|---|---|---|---|---|\n",
       "| 1 | AK | 2000 |  9.807319 | 0.1627248 | 0 | 0.1627248 | 0 | 1 | 7.260627 | 0.022395930 | ⋯ | 0.4211845 | 0.1952228 | 0 | 0.03425594 | 8.458761 | 1 | 1 | 17.64609 | 0 | 0 |\n",
       "| 2 | AK | 2001 | 10.644612 | 0.1995421 | 0 | 0.1996829 | 0 | 1 | 7.311767 | 0.011925094 | ⋯ | 0.4196878 | 0.1979111 | 0 | 0.03560234 | 8.608923 | 1 | 1 | 18.69197 | 0 | 0 |\n",
       "| 3 | AK | 2002 | 10.541432 | 0.2126913 | 0 | 0.2143351 | 0 | 1 | 6.938342 | 0.011477100 | ⋯ | 0.4095216 | 0.1990407 | 0 | 0.03790713 | 8.513568 | 1 | 1 | 19.64402 | 0 | 0 |\n",
       "| 4 | AK | 2003 |  9.786963 | 0.2496613 | 0 | 0.2504531 | 0 | 0 | 6.153593 | 0.006750341 | ⋯ | 0.4444949 | 0.1983659 | 0 | 0.00000000 | 8.590290 | 1 | 1 | 20.39238 | 0 | 0 |\n",
       "| 5 | AK | 2004 |  9.899390 | 0.2295212 | 0 | 0.2308738 | 0 | 0 | 7.246256 | 0.006591790 | ⋯ | 0.4492727 | 0.1945192 | 0 | 0.00000000 | 8.779676 | 1 | 1 | 21.44678 | 0 | 0 |\n",
       "| 6 | AK | 2005 |  9.858374 | 0.2225966 | 0 | 0.2234271 | 0 | 0 | 6.541566 | 0.006048441 | ⋯ | 0.4557934 | 0.1955170 | 0 |         NA | 8.862909 | 2 | 1 | 22.71282 | 0 | 0 |\n",
       "\n"
      ],
      "text/plain": [
       "  STATE YEAR GenTotal  GenHydro  GenSolar GenTotalRenewable GenSolarBinary\n",
       "1 AK    2000  9.807319 0.1627248 0        0.1627248         0             \n",
       "2 AK    2001 10.644612 0.1995421 0        0.1996829         0             \n",
       "3 AK    2002 10.541432 0.2126913 0        0.2143351         0             \n",
       "4 AK    2003  9.786963 0.2496613 0        0.2504531         0             \n",
       "5 AK    2004  9.899390 0.2295212 0        0.2308738         0             \n",
       "6 AK    2005  9.858374 0.2225966 0        0.2234271         0             \n",
       "  GenTotalRenewableBinary AllSourcesCO2 AllSourcesSO2 <U+22EF>        EsalesCommercial\n",
       "1 1                       7.260627      0.022395930   <U+22EF> 0.4211845       \n",
       "2 1                       7.311767      0.011925094   <U+22EF> 0.4196878       \n",
       "3 1                       6.938342      0.011477100   <U+22EF> 0.4095216       \n",
       "4 0                       6.153593      0.006750341   <U+22EF> 0.4444949       \n",
       "5 0                       7.246256      0.006591790   <U+22EF> 0.4492727       \n",
       "6 0                       6.541566      0.006048441   <U+22EF> 0.4557934       \n",
       "  EsalesIndustrial EsalesTransportation EsalesOther EsalesTotal CumlFinancial\n",
       "1 0.1952228        0                    0.03425594  8.458761    1            \n",
       "2 0.1979111        0                    0.03560234  8.608923    1            \n",
       "3 0.1990407        0                    0.03790713  8.513568    1            \n",
       "4 0.1983659        0                    0.00000000  8.590290    1            \n",
       "5 0.1945192        0                    0.00000000  8.779676    1            \n",
       "6 0.1955170        0                            NA  8.862909    2            \n",
       "  CumlRegulatory Total.salary presidential.results Import\n",
       "1 1              17.64609     0                    0     \n",
       "2 1              18.69197     0                    0     \n",
       "3 1              19.64402     0                    0     \n",
       "4 1              20.39238     0                    0     \n",
       "5 1              21.44678     0                    0     \n",
       "6 1              22.71282     0                    0     "
      ]
     },
     "metadata": {},
     "output_type": "display_data"
    }
   ],
   "source": [
    "republicanset = subset(energy, presidential.results == 0)\n",
    "\n",
    "head(republicanset)"
   ]
  },
  {
   "cell_type": "code",
   "execution_count": 8,
   "metadata": {},
   "outputs": [
    {
     "data": {
      "text/plain": [
       "   Min. 1st Qu.  Median    Mean 3rd Qu.    Max.    NA's \n",
       " 0.5208  8.6963 11.6262 16.4430 14.8901 93.9643      24 "
      ]
     },
     "metadata": {},
     "output_type": "display_data"
    }
   ],
   "source": [
    "summary(republicanset$AllSourcesCO2)"
   ]
  },
  {
   "cell_type": "code",
   "execution_count": 9,
   "metadata": {},
   "outputs": [
    {
     "data": {
      "text/html": [
       "16.4429606285408"
      ],
      "text/latex": [
       "16.4429606285408"
      ],
      "text/markdown": [
       "16.4429606285408"
      ],
      "text/plain": [
       "[1] 16.44296"
      ]
     },
     "metadata": {},
     "output_type": "display_data"
    }
   ],
   "source": [
    "mean(republicanset$AllSourcesCO2, na.rm = TRUE)"
   ]
  },
  {
   "cell_type": "markdown",
   "metadata": {},
   "source": [
    "Answer: 16.44 tons/year."
   ]
  },
  {
   "cell_type": "markdown",
   "metadata": {},
   "source": [
    "**States during years in which they voted democrat?**"
   ]
  },
  {
   "cell_type": "code",
   "execution_count": 10,
   "metadata": {},
   "outputs": [
    {
     "data": {
      "text/plain": [
       "    Min.  1st Qu.   Median     Mean  3rd Qu.     Max.     NA's \n",
       " 0.01059  2.61123  5.42616  5.78378  7.76743 19.51903       26 "
      ]
     },
     "metadata": {},
     "output_type": "display_data"
    }
   ],
   "source": [
    "democraticset = subset(energy, presidential.results == 1)\n",
    "\n",
    "summary(democraticset$AllSourcesCO2)"
   ]
  },
  {
   "cell_type": "code",
   "execution_count": 11,
   "metadata": {},
   "outputs": [
    {
     "data": {
      "text/html": [
       "5.78378094973129"
      ],
      "text/latex": [
       "5.78378094973129"
      ],
      "text/markdown": [
       "5.78378094973129"
      ],
      "text/plain": [
       "[1] 5.783781"
      ]
     },
     "metadata": {},
     "output_type": "display_data"
    }
   ],
   "source": [
    "mean(democraticset$AllSourcesCO2, na.rm = TRUE)"
   ]
  },
  {
   "cell_type": "markdown",
   "metadata": {},
   "source": [
    "Answer: 5.78 tons/year."
   ]
  },
  {
   "cell_type": "markdown",
   "metadata": {},
   "source": [
    "**States that voted democrat have on average higher NOx emissions than states that voted republican across all years. Is this statement true or false?**"
   ]
  },
  {
   "cell_type": "code",
   "execution_count": 12,
   "metadata": {},
   "outputs": [
    {
     "data": {
      "text/html": [
       "'Average NOX in Republican States: 0.03'"
      ],
      "text/latex": [
       "'Average NOX in Republican States: 0.03'"
      ],
      "text/markdown": [
       "'Average NOX in Republican States: 0.03'"
      ],
      "text/plain": [
       "[1] \"Average NOX in Republican States: 0.03\""
      ]
     },
     "metadata": {},
     "output_type": "display_data"
    },
    {
     "data": {
      "text/html": [
       "'Average NOX in Democratic States: 0.01'"
      ],
      "text/latex": [
       "'Average NOX in Democratic States: 0.01'"
      ],
      "text/markdown": [
       "'Average NOX in Democratic States: 0.01'"
      ],
      "text/plain": [
       "[1] \"Average NOX in Democratic States: 0.01\""
      ]
     },
     "metadata": {},
     "output_type": "display_data"
    }
   ],
   "source": [
    "repnox = mean(republicanset$AllSourcesNOx, na.rm = TRUE)\n",
    "\n",
    "demnox = mean(democraticset$AllSourcesNOx, na.rm = TRUE)\n",
    "\n",
    "paste(\"Average NOX in Republican States:\", round(repnox,2))\n",
    "\n",
    "paste(\"Average NOX in Democratic States:\", round(demnox,2))"
   ]
  },
  {
   "cell_type": "markdown",
   "metadata": {},
   "source": [
    "Answer: False."
   ]
  },
  {
   "cell_type": "markdown",
   "metadata": {},
   "source": [
    "### Problem 3 - Relationship Between Greenhouse Emissions and Energy Sales\n",
    "**What is the correlation between overall CO2 emissions and energy sales made to industrial facilities?** Note that the variables AllSourcesCO2 and EsalesIndustrial contain NAs. Use the parameter: use=\"complete\" to handle NAs in this question."
   ]
  },
  {
   "cell_type": "code",
   "execution_count": 13,
   "metadata": {},
   "outputs": [
    {
     "data": {
      "text/html": [
       "0.5386"
      ],
      "text/latex": [
       "0.5386"
      ],
      "text/markdown": [
       "0.5386"
      ],
      "text/plain": [
       "[1] 0.5386"
      ]
     },
     "metadata": {},
     "output_type": "display_data"
    }
   ],
   "source": [
    "round(cor(energy$AllSourcesCO2, energy$EsalesIndustrial, use='complete'),4)"
   ]
  },
  {
   "cell_type": "code",
   "execution_count": 14,
   "metadata": {},
   "outputs": [
    {
     "data": {
      "text/html": [
       "-0.5183"
      ],
      "text/latex": [
       "-0.5183"
      ],
      "text/markdown": [
       "-0.5183"
      ],
      "text/plain": [
       "[1] -0.5183"
      ]
     },
     "metadata": {},
     "output_type": "display_data"
    }
   ],
   "source": [
    "round(cor(energy$AllSourcesCO2, energy$EsalesResidential, use='complete'),4)"
   ]
  },
  {
   "cell_type": "code",
   "execution_count": 15,
   "metadata": {},
   "outputs": [
    {
     "data": {
      "text/html": [
       "-0.3734"
      ],
      "text/latex": [
       "-0.3734"
      ],
      "text/markdown": [
       "-0.3734"
      ],
      "text/plain": [
       "[1] -0.3734"
      ]
     },
     "metadata": {},
     "output_type": "display_data"
    }
   ],
   "source": [
    "round(cor(energy$AllSourcesCO2, energy$EsalesCommercial, use='complete'),4)"
   ]
  },
  {
   "cell_type": "markdown",
   "metadata": {},
   "source": [
    "### Problem 4 - Boxplot of Energy Prices per State\n",
    "Create a boxplot of the total energy price (EPriceTotal) by State across the data, and a table summarizing the mean of EPriceTotal by State."
   ]
  },
  {
   "cell_type": "code",
   "execution_count": 16,
   "metadata": {},
   "outputs": [
    {
     "data": {
      "image/png": "[encoded data removed]",
      "text/plain": [
       "plot without title"
      ]
     },
     "metadata": {
      "image/png": {
       "height": 420,
       "width": 420
      },
      "text/plain": {
       "height": 420,
       "width": 420
      }
     },
     "output_type": "display_data"
    }
   ],
   "source": [
    "boxplot(energy$EPriceTotal ~ energy$STATE)"
   ]
  },
  {
   "cell_type": "code",
   "execution_count": 17,
   "metadata": {},
   "outputs": [
    {
     "data": {
      "text/html": [
       "<style>\n",
       ".dl-inline {width: auto; margin:0; padding: 0}\n",
       ".dl-inline>dt, .dl-inline>dd {float: none; width: auto; display: inline-block}\n",
       ".dl-inline>dt::after {content: \":\\0020\"; padding-right: .5ex}\n",
       ".dl-inline>dt:not(:first-of-type) {padding-left: .5ex}\n",
       "</style><dl class=dl-inline><dt>WY</dt><dd>5.51</dd><dt>KY</dt><dd>5.68857142857143</dd><dt>ID</dt><dd>5.68928571428571</dd><dt>WV</dt><dd>6.04857142857143</dd><dt>WA</dt><dd>6.15714285714286</dd><dt>UT</dt><dd>6.29857142857143</dd><dt>ND</dt><dd>6.43142857142857</dd><dt>NE</dt><dd>6.57928571428571</dd><dt>IN</dt><dd>6.64428571428571</dd><dt>AR</dt><dd>6.73928571428571</dd><dt>OR</dt><dd>6.84928571428571</dd><dt>IA</dt><dd>6.88428571428571</dd><dt>MO</dt><dd>6.93428571428571</dd><dt>OK</dt><dd>6.95714285714286</dd><dt>MT</dt><dd>7.04857142857143</dd><dt>SD</dt><dd>7.11857142857143</dd><dt>MN</dt><dd>7.29857142857143</dd><dt>SC</dt><dd>7.30714285714286</dd><dt>TN</dt><dd>7.31285714285714</dd><dt>KS</dt><dd>7.39571428571429</dd><dt>AL</dt><dd>7.39928571428571</dd><dt>VA</dt><dd>7.44</dd><dt>LA</dt><dd>7.50928571428571</dd><dt>NC</dt><dd>7.73785714285714</dd><dt>NM</dt><dd>7.75357142857143</dd><dt>MS</dt><dd>7.75928571428571</dd><dt>CO</dt><dd>7.81</dd><dt>GA</dt><dd>7.84642857142857</dd><dt>OH</dt><dd>7.85857142857143</dd><dt>IL</dt><dd>7.86142857142857</dd><dt>WI</dt><dd>8.20285714285714</dd><dt>AZ</dt><dd>8.50785714285714</dd><dt>MI</dt><dd>8.54714285714286</dd><dt>TX</dt><dd>8.70928571428571</dd><dt>NV</dt><dd>8.91928571428571</dd><dt>PA</dt><dd>8.94142857142857</dd><dt>FL</dt><dd>9.385</dd><dt>DE</dt><dd>9.53642857142857</dd><dt>MD</dt><dd>9.74142857142857</dd><dt>ME</dt><dd>11.6457142857143</dd><dt>NJ</dt><dd>12.0714285714286</dd><dt>VT</dt><dd>12.0942857142857</dd><dt>CA</dt><dd>12.3471428571429</dd><dt>RI</dt><dd>12.5114285714286</dd><dt>NH</dt><dd>13.0814285714286</dd><dt>MA</dt><dd>13.1121428571429</dd><dt>AK</dt><dd>13.1357142857143</dd><dt>CT</dt><dd>13.815</dd><dt>NY</dt><dd>14.1657142857143</dd><dt>HI</dt><dd>21.8857142857143</dd></dl>\n"
      ],
      "text/latex": [
       "\\begin{description*}\n",
       "\\item[WY] 5.51\n",
       "\\item[KY] 5.68857142857143\n",
       "\\item[ID] 5.68928571428571\n",
       "\\item[WV] 6.04857142857143\n",
       "\\item[WA] 6.15714285714286\n",
       "\\item[UT] 6.29857142857143\n",
       "\\item[ND] 6.43142857142857\n",
       "\\item[NE] 6.57928571428571\n",
       "\\item[IN] 6.64428571428571\n",
       "\\item[AR] 6.73928571428571\n",
       "\\item[OR] 6.84928571428571\n",
       "\\item[IA] 6.88428571428571\n",
       "\\item[MO] 6.93428571428571\n",
       "\\item[OK] 6.95714285714286\n",
       "\\item[MT] 7.04857142857143\n",
       "\\item[SD] 7.11857142857143\n",
       "\\item[MN] 7.29857142857143\n",
       "\\item[SC] 7.30714285714286\n",
       "\\item[TN] 7.31285714285714\n",
       "\\item[KS] 7.39571428571429\n",
       "\\item[AL] 7.39928571428571\n",
       "\\item[VA] 7.44\n",
       "\\item[LA] 7.50928571428571\n",
       "\\item[NC] 7.73785714285714\n",
       "\\item[NM] 7.75357142857143\n",
       "\\item[MS] 7.75928571428571\n",
       "\\item[CO] 7.81\n",
       "\\item[GA] 7.84642857142857\n",
       "\\item[OH] 7.85857142857143\n",
       "\\item[IL] 7.86142857142857\n",
       "\\item[WI] 8.20285714285714\n",
       "\\item[AZ] 8.50785714285714\n",
       "\\item[MI] 8.54714285714286\n",
       "\\item[TX] 8.70928571428571\n",
       "\\item[NV] 8.91928571428571\n",
       "\\item[PA] 8.94142857142857\n",
       "\\item[FL] 9.385\n",
       "\\item[DE] 9.53642857142857\n",
       "\\item[MD] 9.74142857142857\n",
       "\\item[ME] 11.6457142857143\n",
       "\\item[NJ] 12.0714285714286\n",
       "\\item[VT] 12.0942857142857\n",
       "\\item[CA] 12.3471428571429\n",
       "\\item[RI] 12.5114285714286\n",
       "\\item[NH] 13.0814285714286\n",
       "\\item[MA] 13.1121428571429\n",
       "\\item[AK] 13.1357142857143\n",
       "\\item[CT] 13.815\n",
       "\\item[NY] 14.1657142857143\n",
       "\\item[HI] 21.8857142857143\n",
       "\\end{description*}\n"
      ],
      "text/markdown": [
       "WY\n",
       ":   5.51KY\n",
       ":   5.68857142857143ID\n",
       ":   5.68928571428571WV\n",
       ":   6.04857142857143WA\n",
       ":   6.15714285714286UT\n",
       ":   6.29857142857143ND\n",
       ":   6.43142857142857NE\n",
       ":   6.57928571428571IN\n",
       ":   6.64428571428571AR\n",
       ":   6.73928571428571OR\n",
       ":   6.84928571428571IA\n",
       ":   6.88428571428571MO\n",
       ":   6.93428571428571OK\n",
       ":   6.95714285714286MT\n",
       ":   7.04857142857143SD\n",
       ":   7.11857142857143MN\n",
       ":   7.29857142857143SC\n",
       ":   7.30714285714286TN\n",
       ":   7.31285714285714KS\n",
       ":   7.39571428571429AL\n",
       ":   7.39928571428571VA\n",
       ":   7.44LA\n",
       ":   7.50928571428571NC\n",
       ":   7.73785714285714NM\n",
       ":   7.75357142857143MS\n",
       ":   7.75928571428571CO\n",
       ":   7.81GA\n",
       ":   7.84642857142857OH\n",
       ":   7.85857142857143IL\n",
       ":   7.86142857142857WI\n",
       ":   8.20285714285714AZ\n",
       ":   8.50785714285714MI\n",
       ":   8.54714285714286TX\n",
       ":   8.70928571428571NV\n",
       ":   8.91928571428571PA\n",
       ":   8.94142857142857FL\n",
       ":   9.385DE\n",
       ":   9.53642857142857MD\n",
       ":   9.74142857142857ME\n",
       ":   11.6457142857143NJ\n",
       ":   12.0714285714286VT\n",
       ":   12.0942857142857CA\n",
       ":   12.3471428571429RI\n",
       ":   12.5114285714286NH\n",
       ":   13.0814285714286MA\n",
       ":   13.1121428571429AK\n",
       ":   13.1357142857143CT\n",
       ":   13.815NY\n",
       ":   14.1657142857143HI\n",
       ":   21.8857142857143\n",
       "\n"
      ],
      "text/plain": [
       "       WY        KY        ID        WV        WA        UT        ND        NE \n",
       " 5.510000  5.688571  5.689286  6.048571  6.157143  6.298571  6.431429  6.579286 \n",
       "       IN        AR        OR        IA        MO        OK        MT        SD \n",
       " 6.644286  6.739286  6.849286  6.884286  6.934286  6.957143  7.048571  7.118571 \n",
       "       MN        SC        TN        KS        AL        VA        LA        NC \n",
       " 7.298571  7.307143  7.312857  7.395714  7.399286  7.440000  7.509286  7.737857 \n",
       "       NM        MS        CO        GA        OH        IL        WI        AZ \n",
       " 7.753571  7.759286  7.810000  7.846429  7.858571  7.861429  8.202857  8.507857 \n",
       "       MI        TX        NV        PA        FL        DE        MD        ME \n",
       " 8.547143  8.709286  8.919286  8.941429  9.385000  9.536429  9.741429 11.645714 \n",
       "       NJ        VT        CA        RI        NH        MA        AK        CT \n",
       "12.071429 12.094286 12.347143 12.511429 13.081429 13.112143 13.135714 13.815000 \n",
       "       NY        HI \n",
       "14.165714 21.885714 "
      ]
     },
     "metadata": {},
     "output_type": "display_data"
    }
   ],
   "source": [
    "sort(tapply(energy$EPriceTotal, energy$STATE, mean))"
   ]
  },
  {
   "cell_type": "markdown",
   "metadata": {},
   "source": [
    "**What observations do you make?**"
   ]
  },
  {
   "cell_type": "markdown",
   "metadata": {},
   "source": [
    "Answer: Hawaii (HI) has the most expensive energy price."
   ]
  },
  {
   "cell_type": "markdown",
   "metadata": {},
   "source": [
    "**Which state has the lowest average energy price of all?**"
   ]
  },
  {
   "cell_type": "markdown",
   "metadata": {},
   "source": [
    "Answer: Wyoming (WY)."
   ]
  },
  {
   "cell_type": "markdown",
   "metadata": {},
   "source": [
    "**Is this state associated with the highest mean total energy generation (GenTotal)?**"
   ]
  },
  {
   "cell_type": "code",
   "execution_count": 18,
   "metadata": {},
   "outputs": [
    {
     "data": {
      "text/html": [
       "<style>\n",
       ".dl-inline {width: auto; margin:0; padding: 0}\n",
       ".dl-inline>dt, .dl-inline>dd {float: none; width: auto; display: inline-block}\n",
       ".dl-inline>dt::after {content: \":\\0020\"; padding-right: .5ex}\n",
       ".dl-inline>dt:not(:first-of-type) {padding-left: .5ex}\n",
       "</style><dl class=dl-inline><dt>CA</dt><dd>5.57628529978571</dd><dt>MA</dt><dd>6.43429463192857</dd><dt>RI</dt><dd>6.48862803392857</dd><dt>NJ</dt><dd>7.1087000365</dd><dt>NY</dt><dd>7.19738297621429</dd><dt>DE</dt><dd>8.25676093878571</dd><dt>MD</dt><dd>8.35253046321429</dd><dt>ID</dt><dd>8.35847144242857</dd><dt>HI</dt><dd>8.62356251442857</dd><dt>CT</dt><dd>9.35840936864286</dd><dt>VA</dt><dd>9.72036665964286</dd><dt>AK</dt><dd>9.81021785707143</dd><dt>VT</dt><dd>10.1770050477857</dd><dt>MN</dt><dd>10.1992825556429</dd><dt>CO</dt><dd>10.367633712</dd><dt>SD</dt><dd>10.7198634078571</dd><dt>WI</dt><dd>11.0793024935714</dd><dt>MI</dt><dd>11.2010833792857</dd><dt>FL</dt><dd>12.0270889092857</dd><dt>OH</dt><dd>12.6644612892857</dd><dt>ME</dt><dd>13.1487922307143</dd><dt>NC</dt><dd>13.9154436607143</dd><dt>GA</dt><dd>13.9691867157143</dd><dt>NV</dt><dd>14.3116246307143</dd><dt>OR</dt><dd>14.5372625457143</dd><dt>TN</dt><dd>14.7511320535714</dd><dt>MO</dt><dd>15.0627599764286</dd><dt>IL</dt><dd>15.1938577485714</dd><dt>UT</dt><dd>15.5876299071429</dd><dt>NH</dt><dd>15.6710558321429</dd><dt>IA</dt><dd>16.2701490992857</dd><dt>MS</dt><dd>16.3774092992857</dd><dt>WA</dt><dd>16.4263941621429</dd><dt>KS</dt><dd>16.732968485</dd><dt>TX</dt><dd>17.0200817285714</dd><dt>AZ</dt><dd>17.2116043807143</dd><dt>PA</dt><dd>17.3260796735714</dd><dt>NM</dt><dd>18.1305633942857</dd><dt>NE</dt><dd>18.4703521071429</dd><dt>OK</dt><dd>18.7871459471429</dd><dt>AR</dt><dd>19.0901325292857</dd><dt>IN</dt><dd>19.6641502007143</dd><dt>LA</dt><dd>21.3845158942857</dd><dt>KY</dt><dd>22.399998885</dd><dt>SC</dt><dd>22.4765698914286</dd><dt>MT</dt><dd>28.94235057</dd><dt>AL</dt><dd>30.5819996692857</dd><dt>WV</dt><dd>47.4171413371429</dd><dt>ND</dt><dd>49.9094624607143</dd><dt>WY</dt><dd>88.3930826515385</dd></dl>\n"
      ],
      "text/latex": [
       "\\begin{description*}\n",
       "\\item[CA] 5.57628529978571\n",
       "\\item[MA] 6.43429463192857\n",
       "\\item[RI] 6.48862803392857\n",
       "\\item[NJ] 7.1087000365\n",
       "\\item[NY] 7.19738297621429\n",
       "\\item[DE] 8.25676093878571\n",
       "\\item[MD] 8.35253046321429\n",
       "\\item[ID] 8.35847144242857\n",
       "\\item[HI] 8.62356251442857\n",
       "\\item[CT] 9.35840936864286\n",
       "\\item[VA] 9.72036665964286\n",
       "\\item[AK] 9.81021785707143\n",
       "\\item[VT] 10.1770050477857\n",
       "\\item[MN] 10.1992825556429\n",
       "\\item[CO] 10.367633712\n",
       "\\item[SD] 10.7198634078571\n",
       "\\item[WI] 11.0793024935714\n",
       "\\item[MI] 11.2010833792857\n",
       "\\item[FL] 12.0270889092857\n",
       "\\item[OH] 12.6644612892857\n",
       "\\item[ME] 13.1487922307143\n",
       "\\item[NC] 13.9154436607143\n",
       "\\item[GA] 13.9691867157143\n",
       "\\item[NV] 14.3116246307143\n",
       "\\item[OR] 14.5372625457143\n",
       "\\item[TN] 14.7511320535714\n",
       "\\item[MO] 15.0627599764286\n",
       "\\item[IL] 15.1938577485714\n",
       "\\item[UT] 15.5876299071429\n",
       "\\item[NH] 15.6710558321429\n",
       "\\item[IA] 16.2701490992857\n",
       "\\item[MS] 16.3774092992857\n",
       "\\item[WA] 16.4263941621429\n",
       "\\item[KS] 16.732968485\n",
       "\\item[TX] 17.0200817285714\n",
       "\\item[AZ] 17.2116043807143\n",
       "\\item[PA] 17.3260796735714\n",
       "\\item[NM] 18.1305633942857\n",
       "\\item[NE] 18.4703521071429\n",
       "\\item[OK] 18.7871459471429\n",
       "\\item[AR] 19.0901325292857\n",
       "\\item[IN] 19.6641502007143\n",
       "\\item[LA] 21.3845158942857\n",
       "\\item[KY] 22.399998885\n",
       "\\item[SC] 22.4765698914286\n",
       "\\item[MT] 28.94235057\n",
       "\\item[AL] 30.5819996692857\n",
       "\\item[WV] 47.4171413371429\n",
       "\\item[ND] 49.9094624607143\n",
       "\\item[WY] 88.3930826515385\n",
       "\\end{description*}\n"
      ],
      "text/markdown": [
       "CA\n",
       ":   5.57628529978571MA\n",
       ":   6.43429463192857RI\n",
       ":   6.48862803392857NJ\n",
       ":   7.1087000365NY\n",
       ":   7.19738297621429DE\n",
       ":   8.25676093878571MD\n",
       ":   8.35253046321429ID\n",
       ":   8.35847144242857HI\n",
       ":   8.62356251442857CT\n",
       ":   9.35840936864286VA\n",
       ":   9.72036665964286AK\n",
       ":   9.81021785707143VT\n",
       ":   10.1770050477857MN\n",
       ":   10.1992825556429CO\n",
       ":   10.367633712SD\n",
       ":   10.7198634078571WI\n",
       ":   11.0793024935714MI\n",
       ":   11.2010833792857FL\n",
       ":   12.0270889092857OH\n",
       ":   12.6644612892857ME\n",
       ":   13.1487922307143NC\n",
       ":   13.9154436607143GA\n",
       ":   13.9691867157143NV\n",
       ":   14.3116246307143OR\n",
       ":   14.5372625457143TN\n",
       ":   14.7511320535714MO\n",
       ":   15.0627599764286IL\n",
       ":   15.1938577485714UT\n",
       ":   15.5876299071429NH\n",
       ":   15.6710558321429IA\n",
       ":   16.2701490992857MS\n",
       ":   16.3774092992857WA\n",
       ":   16.4263941621429KS\n",
       ":   16.732968485TX\n",
       ":   17.0200817285714AZ\n",
       ":   17.2116043807143PA\n",
       ":   17.3260796735714NM\n",
       ":   18.1305633942857NE\n",
       ":   18.4703521071429OK\n",
       ":   18.7871459471429AR\n",
       ":   19.0901325292857IN\n",
       ":   19.6641502007143LA\n",
       ":   21.3845158942857KY\n",
       ":   22.399998885SC\n",
       ":   22.4765698914286MT\n",
       ":   28.94235057AL\n",
       ":   30.5819996692857WV\n",
       ":   47.4171413371429ND\n",
       ":   49.9094624607143WY\n",
       ":   88.3930826515385\n",
       "\n"
      ],
      "text/plain": [
       "       CA        MA        RI        NJ        NY        DE        MD        ID \n",
       " 5.576285  6.434295  6.488628  7.108700  7.197383  8.256761  8.352530  8.358471 \n",
       "       HI        CT        VA        AK        VT        MN        CO        SD \n",
       " 8.623563  9.358409  9.720367  9.810218 10.177005 10.199283 10.367634 10.719863 \n",
       "       WI        MI        FL        OH        ME        NC        GA        NV \n",
       "11.079302 11.201083 12.027089 12.664461 13.148792 13.915444 13.969187 14.311625 \n",
       "       OR        TN        MO        IL        UT        NH        IA        MS \n",
       "14.537263 14.751132 15.062760 15.193858 15.587630 15.671056 16.270149 16.377409 \n",
       "       WA        KS        TX        AZ        PA        NM        NE        OK \n",
       "16.426394 16.732968 17.020082 17.211604 17.326080 18.130563 18.470352 18.787146 \n",
       "       AR        IN        LA        KY        SC        MT        AL        WV \n",
       "19.090133 19.664150 21.384516 22.399999 22.476570 28.942351 30.582000 47.417141 \n",
       "       ND        WY \n",
       "49.909462 88.393083 "
      ]
     },
     "metadata": {},
     "output_type": "display_data"
    }
   ],
   "source": [
    "sort(tapply(energy$GenTotal, energy$STATE, mean))"
   ]
  },
  {
   "cell_type": "markdown",
   "metadata": {},
   "source": [
    "Answer: Wyoming (WY)."
   ]
  },
  {
   "cell_type": "markdown",
   "metadata": {},
   "source": [
    "### Problem 5 - Prediction Model for Solar Generation\n",
    "We are interested in predicting whether states are going to increase their solar energy generation over the next year. Let's subset our dataset into a training and a testing set by using the following commands:\n",
    "\n",
    "    set.seed(144)\n",
    "\n",
    "    spl = sample(1:nrow(energy), size = 0.7*nrow(energy))\n",
    "\n",
    "    train = energy[spl,]\n",
    "\n",
    "    test = energy[-spl,]\n",
    "\n",
    "Let's build now a logistic regression model \"mod\" using the train set to predict the binary variable GenSolarBinary. To do so, we consider the following as potential predictive variables: GenHydro, GenSolar, CumlFinancial, CumlRegulatory, Total.salary, Import."
   ]
  },
  {
   "cell_type": "code",
   "execution_count": 19,
   "metadata": {},
   "outputs": [],
   "source": [
    "library(caTools)"
   ]
  },
  {
   "cell_type": "code",
   "execution_count": 20,
   "metadata": {},
   "outputs": [],
   "source": [
    "# Split the Data\n",
    "\n",
    "set.seed(144)\n",
    "\n",
    "spl = sample(1:nrow(energy), size=0.7 * nrow(energy))\n",
    "\n",
    "train = energy[spl,]\n",
    "test = energy[-spl,]"
   ]
  },
  {
   "cell_type": "code",
   "execution_count": 21,
   "metadata": {},
   "outputs": [
    {
     "data": {
      "text/html": [
       "<table>\n",
       "<caption>A data.frame: 6 × 27</caption>\n",
       "<thead>\n",
       "\t<tr><th></th><th scope=col>STATE</th><th scope=col>YEAR</th><th scope=col>GenTotal</th><th scope=col>GenHydro</th><th scope=col>GenSolar</th><th scope=col>GenTotalRenewable</th><th scope=col>GenSolarBinary</th><th scope=col>GenTotalRenewableBinary</th><th scope=col>AllSourcesCO2</th><th scope=col>AllSourcesSO2</th><th scope=col>⋯</th><th scope=col>EsalesCommercial</th><th scope=col>EsalesIndustrial</th><th scope=col>EsalesTransportation</th><th scope=col>EsalesOther</th><th scope=col>EsalesTotal</th><th scope=col>CumlFinancial</th><th scope=col>CumlRegulatory</th><th scope=col>Total.salary</th><th scope=col>presidential.results</th><th scope=col>Import</th></tr>\n",
       "\t<tr><th></th><th scope=col>&lt;fct&gt;</th><th scope=col>&lt;int&gt;</th><th scope=col>&lt;dbl&gt;</th><th scope=col>&lt;dbl&gt;</th><th scope=col>&lt;dbl&gt;</th><th scope=col>&lt;dbl&gt;</th><th scope=col>&lt;int&gt;</th><th scope=col>&lt;int&gt;</th><th scope=col>&lt;dbl&gt;</th><th scope=col>&lt;dbl&gt;</th><th scope=col>⋯</th><th scope=col>&lt;dbl&gt;</th><th scope=col>&lt;dbl&gt;</th><th scope=col>&lt;dbl&gt;</th><th scope=col>&lt;dbl&gt;</th><th scope=col>&lt;dbl&gt;</th><th scope=col>&lt;int&gt;</th><th scope=col>&lt;int&gt;</th><th scope=col>&lt;dbl&gt;</th><th scope=col>&lt;int&gt;</th><th scope=col>&lt;int&gt;</th></tr>\n",
       "</thead>\n",
       "<tbody>\n",
       "\t<tr><th scope=row>167</th><td>IA</td><td>2012</td><td>18.425423</td><td>0.013518933</td><td>0.00000000</td><td>0.263776082</td><td>0</td><td>1</td><td>13.416078</td><td>0.031173611</td><td>⋯</td><td>0.2671198</td><td>0.4268665</td><td>0.000000000</td><td>         NA</td><td>14.860229</td><td> 51</td><td>11</td><td>21.24970</td><td>1</td><td>0</td></tr>\n",
       "\t<tr><th scope=row>251</th><td>LA</td><td>2012</td><td>22.456776</td><td>0.006575371</td><td>0.00000000</td><td>0.007191979</td><td>0</td><td>1</td><td>13.069596</td><td>0.023427361</td><td>⋯</td><td>0.2861386</td><td>0.3593600</td><td>0.000124937</td><td>         NA</td><td>18.400750</td><td> 11</td><td> 8</td><td>19.96499</td><td>0</td><td>0</td></tr>\n",
       "\t<tr><th scope=row>520</th><td>PA</td><td>2001</td><td>15.985766</td><td>0.008393695</td><td>0.00000000</td><td>0.015004147</td><td>0</td><td>1</td><td> 9.214357</td><td>0.079670963</td><td>⋯</td><td>0.2997863</td><td>0.3502820</td><td>0.000000000</td><td>0.009654287</td><td>11.000422</td><td>  0</td><td> 3</td><td>16.39322</td><td>1</td><td>0</td></tr>\n",
       "\t<tr><th scope=row>65</th><td>CA</td><td>2008</td><td> 5.692272</td><td>0.116007864</td><td>0.00322371</td><td>0.218421295</td><td>0</td><td>1</td><td> 1.711877</td><td>0.000105096</td><td>⋯</td><td>0.4662461</td><td>0.1903050</td><td>0.003232508</td><td>         NA</td><td> 7.339076</td><td>108</td><td>26</td><td>24.79641</td><td>1</td><td>1</td></tr>\n",
       "\t<tr><th scope=row>347</th><td>MS</td><td>2010</td><td>18.404954</td><td>0.000000000</td><td>0.00000000</td><td>0.000018200</td><td>0</td><td>1</td><td> 9.067929</td><td>0.019943813</td><td>⋯</td><td>0.2778376</td><td>0.3161255</td><td>0.000000000</td><td>         NA</td><td>16.783557</td><td> 19</td><td> 1</td><td>14.45173</td><td>0</td><td>0</td></tr>\n",
       "\t<tr><th scope=row>320</th><td>MN</td><td>2011</td><td> 9.932630</td><td>0.014046445</td><td>0.00000000</td><td>0.158208553</td><td>0</td><td>1</td><td> 6.099099</td><td>0.009809021</td><td>⋯</td><td>0.3264297</td><td>0.3446343</td><td>0.000279399</td><td>         NA</td><td>12.814556</td><td>118</td><td>12</td><td>26.17097</td><td>1</td><td>1</td></tr>\n",
       "</tbody>\n",
       "</table>\n"
      ],
      "text/latex": [
       "A data.frame: 6 × 27\n",
       "\\begin{tabular}{r|lllllllllllllllllllll}\n",
       "  & STATE & YEAR & GenTotal & GenHydro & GenSolar & GenTotalRenewable & GenSolarBinary & GenTotalRenewableBinary & AllSourcesCO2 & AllSourcesSO2 & ⋯ & EsalesCommercial & EsalesIndustrial & EsalesTransportation & EsalesOther & EsalesTotal & CumlFinancial & CumlRegulatory & Total.salary & presidential.results & Import\\\\\n",
       "  & <fct> & <int> & <dbl> & <dbl> & <dbl> & <dbl> & <int> & <int> & <dbl> & <dbl> & ⋯ & <dbl> & <dbl> & <dbl> & <dbl> & <dbl> & <int> & <int> & <dbl> & <int> & <int>\\\\\n",
       "\\hline\n",
       "\t167 & IA & 2012 & 18.425423 & 0.013518933 & 0.00000000 & 0.263776082 & 0 & 1 & 13.416078 & 0.031173611 & ⋯ & 0.2671198 & 0.4268665 & 0.000000000 &          NA & 14.860229 &  51 & 11 & 21.24970 & 1 & 0\\\\\n",
       "\t251 & LA & 2012 & 22.456776 & 0.006575371 & 0.00000000 & 0.007191979 & 0 & 1 & 13.069596 & 0.023427361 & ⋯ & 0.2861386 & 0.3593600 & 0.000124937 &          NA & 18.400750 &  11 &  8 & 19.96499 & 0 & 0\\\\\n",
       "\t520 & PA & 2001 & 15.985766 & 0.008393695 & 0.00000000 & 0.015004147 & 0 & 1 &  9.214357 & 0.079670963 & ⋯ & 0.2997863 & 0.3502820 & 0.000000000 & 0.009654287 & 11.000422 &   0 &  3 & 16.39322 & 1 & 0\\\\\n",
       "\t65 & CA & 2008 &  5.692272 & 0.116007864 & 0.00322371 & 0.218421295 & 0 & 1 &  1.711877 & 0.000105096 & ⋯ & 0.4662461 & 0.1903050 & 0.003232508 &          NA &  7.339076 & 108 & 26 & 24.79641 & 1 & 1\\\\\n",
       "\t347 & MS & 2010 & 18.404954 & 0.000000000 & 0.00000000 & 0.000018200 & 0 & 1 &  9.067929 & 0.019943813 & ⋯ & 0.2778376 & 0.3161255 & 0.000000000 &          NA & 16.783557 &  19 &  1 & 14.45173 & 0 & 0\\\\\n",
       "\t320 & MN & 2011 &  9.932630 & 0.014046445 & 0.00000000 & 0.158208553 & 0 & 1 &  6.099099 & 0.009809021 & ⋯ & 0.3264297 & 0.3446343 & 0.000279399 &          NA & 12.814556 & 118 & 12 & 26.17097 & 1 & 1\\\\\n",
       "\\end{tabular}\n"
      ],
      "text/markdown": [
       "\n",
       "A data.frame: 6 × 27\n",
       "\n",
       "| <!--/--> | STATE &lt;fct&gt; | YEAR &lt;int&gt; | GenTotal &lt;dbl&gt; | GenHydro &lt;dbl&gt; | GenSolar &lt;dbl&gt; | GenTotalRenewable &lt;dbl&gt; | GenSolarBinary &lt;int&gt; | GenTotalRenewableBinary &lt;int&gt; | AllSourcesCO2 &lt;dbl&gt; | AllSourcesSO2 &lt;dbl&gt; | ⋯ ⋯ | EsalesCommercial &lt;dbl&gt; | EsalesIndustrial &lt;dbl&gt; | EsalesTransportation &lt;dbl&gt; | EsalesOther &lt;dbl&gt; | EsalesTotal &lt;dbl&gt; | CumlFinancial &lt;int&gt; | CumlRegulatory &lt;int&gt; | Total.salary &lt;dbl&gt; | presidential.results &lt;int&gt; | Import &lt;int&gt; |\n",
       "|---|---|---|---|---|---|---|---|---|---|---|---|---|---|---|---|---|---|---|---|---|---|\n",
       "| 167 | IA | 2012 | 18.425423 | 0.013518933 | 0.00000000 | 0.263776082 | 0 | 1 | 13.416078 | 0.031173611 | ⋯ | 0.2671198 | 0.4268665 | 0.000000000 |          NA | 14.860229 |  51 | 11 | 21.24970 | 1 | 0 |\n",
       "| 251 | LA | 2012 | 22.456776 | 0.006575371 | 0.00000000 | 0.007191979 | 0 | 1 | 13.069596 | 0.023427361 | ⋯ | 0.2861386 | 0.3593600 | 0.000124937 |          NA | 18.400750 |  11 |  8 | 19.96499 | 0 | 0 |\n",
       "| 520 | PA | 2001 | 15.985766 | 0.008393695 | 0.00000000 | 0.015004147 | 0 | 1 |  9.214357 | 0.079670963 | ⋯ | 0.2997863 | 0.3502820 | 0.000000000 | 0.009654287 | 11.000422 |   0 |  3 | 16.39322 | 1 | 0 |\n",
       "| 65 | CA | 2008 |  5.692272 | 0.116007864 | 0.00322371 | 0.218421295 | 0 | 1 |  1.711877 | 0.000105096 | ⋯ | 0.4662461 | 0.1903050 | 0.003232508 |          NA |  7.339076 | 108 | 26 | 24.79641 | 1 | 1 |\n",
       "| 347 | MS | 2010 | 18.404954 | 0.000000000 | 0.00000000 | 0.000018200 | 0 | 1 |  9.067929 | 0.019943813 | ⋯ | 0.2778376 | 0.3161255 | 0.000000000 |          NA | 16.783557 |  19 |  1 | 14.45173 | 0 | 0 |\n",
       "| 320 | MN | 2011 |  9.932630 | 0.014046445 | 0.00000000 | 0.158208553 | 0 | 1 |  6.099099 | 0.009809021 | ⋯ | 0.3264297 | 0.3446343 | 0.000279399 |          NA | 12.814556 | 118 | 12 | 26.17097 | 1 | 1 |\n",
       "\n"
      ],
      "text/plain": [
       "    STATE YEAR GenTotal  GenHydro    GenSolar   GenTotalRenewable\n",
       "167 IA    2012 18.425423 0.013518933 0.00000000 0.263776082      \n",
       "251 LA    2012 22.456776 0.006575371 0.00000000 0.007191979      \n",
       "520 PA    2001 15.985766 0.008393695 0.00000000 0.015004147      \n",
       "65  CA    2008  5.692272 0.116007864 0.00322371 0.218421295      \n",
       "347 MS    2010 18.404954 0.000000000 0.00000000 0.000018200      \n",
       "320 MN    2011  9.932630 0.014046445 0.00000000 0.158208553      \n",
       "    GenSolarBinary GenTotalRenewableBinary AllSourcesCO2 AllSourcesSO2 <U+22EF>       \n",
       "167 0              1                       13.416078     0.031173611   <U+22EF>\n",
       "251 0              1                       13.069596     0.023427361   <U+22EF>\n",
       "520 0              1                        9.214357     0.079670963   <U+22EF>\n",
       "65  0              1                        1.711877     0.000105096   <U+22EF>\n",
       "347 0              1                        9.067929     0.019943813   <U+22EF>\n",
       "320 0              1                        6.099099     0.009809021   <U+22EF>\n",
       "    EsalesCommercial EsalesIndustrial EsalesTransportation EsalesOther\n",
       "167 0.2671198        0.4268665        0.000000000                   NA\n",
       "251 0.2861386        0.3593600        0.000124937                   NA\n",
       "520 0.2997863        0.3502820        0.000000000          0.009654287\n",
       "65  0.4662461        0.1903050        0.003232508                   NA\n",
       "347 0.2778376        0.3161255        0.000000000                   NA\n",
       "320 0.3264297        0.3446343        0.000279399                   NA\n",
       "    EsalesTotal CumlFinancial CumlRegulatory Total.salary presidential.results\n",
       "167 14.860229    51           11             21.24970     1                   \n",
       "251 18.400750    11            8             19.96499     0                   \n",
       "520 11.000422     0            3             16.39322     1                   \n",
       "65   7.339076   108           26             24.79641     1                   \n",
       "347 16.783557    19            1             14.45173     0                   \n",
       "320 12.814556   118           12             26.17097     1                   \n",
       "    Import\n",
       "167 0     \n",
       "251 0     \n",
       "520 0     \n",
       "65  1     \n",
       "347 0     \n",
       "320 1     "
      ]
     },
     "metadata": {},
     "output_type": "display_data"
    }
   ],
   "source": [
    "head(train)"
   ]
  },
  {
   "cell_type": "code",
   "execution_count": 22,
   "metadata": {},
   "outputs": [
    {
     "data": {
      "text/plain": [
       "\n",
       "Call:\n",
       "glm(formula = GenSolarBinary ~ GenHydro + GenSolar + CumlFinancial + \n",
       "    CumlRegulatory + Total.salary + Import, family = \"binomial\", \n",
       "    data = train)\n",
       "\n",
       "Deviance Residuals: \n",
       "    Min       1Q   Median       3Q      Max  \n",
       "-3.6707  -0.4959  -0.2899  -0.0734   2.7436  \n",
       "\n",
       "Coefficients:\n",
       "                 Estimate Std. Error z value Pr(>|z|)    \n",
       "(Intercept)     -5.581159   0.827827  -6.742 1.56e-11 ***\n",
       "GenHydro        -3.377881   1.010639  -3.342 0.000831 ***\n",
       "GenSolar       860.165947 280.389543   3.068 0.002157 ** \n",
       "CumlFinancial    0.025375   0.008565   2.963 0.003050 ** \n",
       "CumlRegulatory   0.169151   0.045550   3.714 0.000204 ***\n",
       "Total.salary     0.123684   0.040991   3.017 0.002550 ** \n",
       "Import          -0.269544   0.322326  -0.836 0.403017    \n",
       "---\n",
       "Signif. codes:  0 '***' 0.001 '**' 0.01 '*' 0.05 '.' 0.1 ' ' 1\n",
       "\n",
       "(Dispersion parameter for binomial family taken to be 1)\n",
       "\n",
       "    Null deviance: 535.80  on 488  degrees of freedom\n",
       "Residual deviance: 325.67  on 482  degrees of freedom\n",
       "AIC: 339.67\n",
       "\n",
       "Number of Fisher Scoring iterations: 7\n"
      ]
     },
     "metadata": {},
     "output_type": "display_data"
    }
   ],
   "source": [
    "# Create a Logistic Regression Model\n",
    "\n",
    "mod = glm(GenSolarBinary ~ GenHydro + GenSolar + CumlFinancial + CumlRegulatory + Total.salary + Import, data=train,\n",
    "          family='binomial')\n",
    "\n",
    "summary(mod)"
   ]
  },
  {
   "cell_type": "markdown",
   "metadata": {},
   "source": [
    "**Which variable is most predictive in the model?**"
   ]
  },
  {
   "cell_type": "markdown",
   "metadata": {},
   "source": [
    "Answer: CumlRegulatory."
   ]
  },
  {
   "cell_type": "markdown",
   "metadata": {},
   "source": [
    "### Problem 6 - Performance on the Test Set\n",
    "Compute the predictions on the test set. Using a threshold of 0.5, **what is the accuracy of our model on the test set?**"
   ]
  },
  {
   "cell_type": "code",
   "execution_count": 23,
   "metadata": {},
   "outputs": [
    {
     "data": {
      "text/plain": [
       "   \n",
       "    FALSE TRUE\n",
       "  0   159    5\n",
       "  1    20   26"
      ]
     },
     "metadata": {},
     "output_type": "display_data"
    }
   ],
   "source": [
    "# Make Predictions on the Test set\n",
    "predLR = predict(mod, newdata = test, type='response')\n",
    "\n",
    "cmLR = table(test$GenSolarBinary, predLR > 0.5)\n",
    "cmLR"
   ]
  },
  {
   "cell_type": "markdown",
   "metadata": {},
   "source": [
    "The rows are labeled with the actual outcome, and the columns are labeled with the predicted outcome.\n",
    "\n",
    "                      Predict 0       Predict 1\n",
    "        Actual 0    True Negative   False Positive\n",
    "        Actual 1    False Negative  True Positive\n",
    "\n",
    "        cmLR = [1][3]\n",
    "               [2][4]"
   ]
  },
  {
   "cell_type": "code",
   "execution_count": 24,
   "metadata": {},
   "outputs": [
    {
     "data": {
      "text/html": [
       "'Accuracy Logistic Regression: 0.881'"
      ],
      "text/latex": [
       "'Accuracy Logistic Regression: 0.881'"
      ],
      "text/markdown": [
       "'Accuracy Logistic Regression: 0.881'"
      ],
      "text/plain": [
       "[1] \"Accuracy Logistic Regression: 0.881\""
      ]
     },
     "metadata": {},
     "output_type": "display_data"
    }
   ],
   "source": [
    "# Compute Logistic Regression Accuracy\n",
    "accurLR = sum(diag(cmLR))/sum(cmLR)\n",
    "paste(\"Accuracy Logistic Regression:\", round(accurLR,digits=4))"
   ]
  },
  {
   "cell_type": "markdown",
   "metadata": {},
   "source": [
    "**What is the accuracy for states voting republican?**"
   ]
  },
  {
   "cell_type": "code",
   "execution_count": 25,
   "metadata": {},
   "outputs": [],
   "source": [
    "republicantest = subset(test, presidential.results == 0)"
   ]
  },
  {
   "cell_type": "code",
   "execution_count": 26,
   "metadata": {},
   "outputs": [
    {
     "data": {
      "text/plain": [
       "   \n",
       "    FALSE TRUE\n",
       "  0   105    1\n",
       "  1    12    2"
      ]
     },
     "metadata": {},
     "output_type": "display_data"
    }
   ],
   "source": [
    "# Make Predictions with Republicans\n",
    "predRT = predict(mod, newdata = republicantest, type='response')\n",
    "\n",
    "cmRT = table(republicantest$GenSolarBinary, predRT > 0.5)\n",
    "cmRT"
   ]
  },
  {
   "cell_type": "code",
   "execution_count": 27,
   "metadata": {},
   "outputs": [
    {
     "data": {
      "text/html": [
       "'Accuracy Logistic Regression for Republicans: 0.8917'"
      ],
      "text/latex": [
       "'Accuracy Logistic Regression for Republicans: 0.8917'"
      ],
      "text/markdown": [
       "'Accuracy Logistic Regression for Republicans: 0.8917'"
      ],
      "text/plain": [
       "[1] \"Accuracy Logistic Regression for Republicans: 0.8917\""
      ]
     },
     "metadata": {},
     "output_type": "display_data"
    }
   ],
   "source": [
    "# Compute Logistic Regression Accuracy\n",
    "accurRT = sum(diag(cmRT))/sum(cmRT)\n",
    "paste(\"Accuracy Logistic Regression for Republicans:\", round(accurRT,digits=4))"
   ]
  },
  {
   "cell_type": "markdown",
   "metadata": {},
   "source": [
    "**What is the accuracy for states voting democrat?**"
   ]
  },
  {
   "cell_type": "code",
   "execution_count": 28,
   "metadata": {},
   "outputs": [],
   "source": [
    "democratictest = subset(test, presidential.results == 1)"
   ]
  },
  {
   "cell_type": "code",
   "execution_count": 29,
   "metadata": {},
   "outputs": [
    {
     "data": {
      "text/plain": [
       "   \n",
       "    FALSE TRUE\n",
       "  0    54    4\n",
       "  1     8   24"
      ]
     },
     "metadata": {},
     "output_type": "display_data"
    }
   ],
   "source": [
    "# Make Predictions with Democrats\n",
    "predDT = predict(mod, newdata = democratictest, type='response')\n",
    "\n",
    "cmDT = table(democratictest$GenSolarBinary, predDT > 0.5)\n",
    "cmDT"
   ]
  },
  {
   "cell_type": "code",
   "execution_count": 30,
   "metadata": {},
   "outputs": [
    {
     "data": {
      "text/html": [
       "'Accuracy Logistic Regression for Democrats: 0.8667'"
      ],
      "text/latex": [
       "'Accuracy Logistic Regression for Democrats: 0.8667'"
      ],
      "text/markdown": [
       "'Accuracy Logistic Regression for Democrats: 0.8667'"
      ],
      "text/plain": [
       "[1] \"Accuracy Logistic Regression for Democrats: 0.8667\""
      ]
     },
     "metadata": {},
     "output_type": "display_data"
    }
   ],
   "source": [
    "# Compute Logistic Regression Accuracy\n",
    "accurDT = sum(diag(cmDT))/sum(cmDT)\n",
    "paste(\"Accuracy Logistic Regression for Democrats:\", round(accurDT,digits=4))"
   ]
  },
  {
   "cell_type": "markdown",
   "metadata": {},
   "source": [
    "### Problem 7 - Clustering of the Observations\n",
    "We can perhaps improve our accuracy if we implement a cluster-the-predict approach. We are interested in clustering the observations based on information about the regulatory and financial incentives, the elections outcome and the population wealth in each state across the years, in addition to whether the state was an energy importer or not.\n",
    "\n",
    "Let us create a train.limited and test.limited datasets, where we only keep the variables CumlRegulatory, CumlFinancial, presidential.results, Total.salary, and Import.\n",
    "\n",
    "Using the \"preProcess\" function on the train.limited set, we can compute the train.norm and test.norm."
   ]
  },
  {
   "cell_type": "code",
   "execution_count": 31,
   "metadata": {},
   "outputs": [],
   "source": [
    "# Limite the variables\n",
    "\n",
    "train.limited = train[,c('CumlRegulatory', 'CumlFinancial', 'presidential.results', 'Total.salary', 'Import')]\n",
    "\n",
    "test.limited = test[,c('CumlRegulatory', 'CumlFinancial', 'presidential.results', 'Total.salary', 'Import')]"
   ]
  },
  {
   "cell_type": "code",
   "execution_count": 32,
   "metadata": {},
   "outputs": [
    {
     "name": "stderr",
     "output_type": "stream",
     "text": [
      "Loading required package: lattice\n",
      "\n",
      "Loading required package: ggplot2\n",
      "\n"
     ]
    }
   ],
   "source": [
    "library(caret)"
   ]
  },
  {
   "cell_type": "code",
   "execution_count": 33,
   "metadata": {},
   "outputs": [],
   "source": [
    "# Normalizing the data\n",
    "\n",
    "preproc = preProcess(train.limited)\n",
    "\n",
    "train.norm = predict(preproc, train.limited)\n",
    "test.norm = predict(preproc, test.limited)"
   ]
  },
  {
   "cell_type": "markdown",
   "metadata": {},
   "source": [
    "**Why didn't we include the dependent variable GenSolarBinary in this clustering phase?**"
   ]
  },
  {
   "cell_type": "markdown",
   "metadata": {},
   "source": [
    "Answer: We don't want create a cluster using the dependent variable. GenSolarBinary is the result that we want to find."
   ]
  },
  {
   "cell_type": "markdown",
   "metadata": {},
   "source": [
    "Let's use kmeans clustering for this problem with a seed of 144, k=2 and keep the maximum number of iterations at 1,000.\n",
    "\n",
    "Using the flexclust package, identify the clusters and call train1 the subset of train corresponding to the first cluster, and train2 the subset of train corresponding to the second cluster."
   ]
  },
  {
   "cell_type": "code",
   "execution_count": 34,
   "metadata": {},
   "outputs": [],
   "source": [
    "set.seed(144)\n",
    "\n",
    "kmc = kmeans(train.norm, centers = 2, iter.max = 1000)"
   ]
  },
  {
   "cell_type": "code",
   "execution_count": 35,
   "metadata": {},
   "outputs": [
    {
     "data": {
      "text/html": [
       "<table>\n",
       "<caption>A matrix: 2 × 5 of type dbl</caption>\n",
       "<thead>\n",
       "\t<tr><th></th><th scope=col>CumlRegulatory</th><th scope=col>CumlFinancial</th><th scope=col>presidential.results</th><th scope=col>Total.salary</th><th scope=col>Import</th></tr>\n",
       "</thead>\n",
       "<tbody>\n",
       "\t<tr><th scope=row>1</th><td> 0.8482237</td><td> 0.6094620</td><td> 0.8377005</td><td> 0.7759308</td><td> 0.4296188</td></tr>\n",
       "\t<tr><th scope=row>2</th><td>-0.5771419</td><td>-0.4146855</td><td>-0.5699818</td><td>-0.5279529</td><td>-0.2923179</td></tr>\n",
       "</tbody>\n",
       "</table>\n"
      ],
      "text/latex": [
       "A matrix: 2 × 5 of type dbl\n",
       "\\begin{tabular}{r|lllll}\n",
       "  & CumlRegulatory & CumlFinancial & presidential.results & Total.salary & Import\\\\\n",
       "\\hline\n",
       "\t1 &  0.8482237 &  0.6094620 &  0.8377005 &  0.7759308 &  0.4296188\\\\\n",
       "\t2 & -0.5771419 & -0.4146855 & -0.5699818 & -0.5279529 & -0.2923179\\\\\n",
       "\\end{tabular}\n"
      ],
      "text/markdown": [
       "\n",
       "A matrix: 2 × 5 of type dbl\n",
       "\n",
       "| <!--/--> | CumlRegulatory | CumlFinancial | presidential.results | Total.salary | Import |\n",
       "|---|---|---|---|---|---|\n",
       "| 1 |  0.8482237 |  0.6094620 |  0.8377005 |  0.7759308 |  0.4296188 |\n",
       "| 2 | -0.5771419 | -0.4146855 | -0.5699818 | -0.5279529 | -0.2923179 |\n",
       "\n"
      ],
      "text/plain": [
       "  CumlRegulatory CumlFinancial presidential.results Total.salary Import    \n",
       "1  0.8482237      0.6094620     0.8377005            0.7759308    0.4296188\n",
       "2 -0.5771419     -0.4146855    -0.5699818           -0.5279529   -0.2923179"
      ]
     },
     "metadata": {},
     "output_type": "display_data"
    }
   ],
   "source": [
    "# Cluster Centroids (for train.norm)\n",
    "\n",
    "kmc$centers"
   ]
  },
  {
   "cell_type": "code",
   "execution_count": 36,
   "metadata": {},
   "outputs": [
    {
     "name": "stderr",
     "output_type": "stream",
     "text": [
      "Loading required package: grid\n",
      "\n",
      "Loading required package: modeltools\n",
      "\n",
      "Loading required package: stats4\n",
      "\n"
     ]
    }
   ],
   "source": [
    "library(flexclust)"
   ]
  },
  {
   "cell_type": "code",
   "execution_count": 37,
   "metadata": {},
   "outputs": [],
   "source": [
    "# The cluster was created with normalized data, but now, we will work with total train.\n",
    "\n",
    "train1 = subset(train, kmc$cluster == 1)\n",
    "\n",
    "train2 = subset(train, kmc$cluster == 2)"
   ]
  },
  {
   "cell_type": "code",
   "execution_count": 38,
   "metadata": {},
   "outputs": [
    {
     "data": {
      "text/html": [
       "0.888888888888889"
      ],
      "text/latex": [
       "0.888888888888889"
      ],
      "text/markdown": [
       "0.888888888888889"
      ],
      "text/plain": [
       "[1] 0.8888889"
      ]
     },
     "metadata": {},
     "output_type": "display_data"
    }
   ],
   "source": [
    "# Mean of presidential.results in cluster1\n",
    "\n",
    "mean(train1$presidential.results)"
   ]
  },
  {
   "cell_type": "code",
   "execution_count": 39,
   "metadata": {},
   "outputs": [
    {
     "data": {
      "text/html": [
       "0.185567010309278"
      ],
      "text/latex": [
       "0.185567010309278"
      ],
      "text/markdown": [
       "0.185567010309278"
      ],
      "text/plain": [
       "[1] 0.185567"
      ]
     },
     "metadata": {},
     "output_type": "display_data"
    }
   ],
   "source": [
    "# Mean of presidential.results in cluster2\n",
    "\n",
    "mean(train2$presidential.results)"
   ]
  },
  {
   "cell_type": "code",
   "execution_count": 40,
   "metadata": {},
   "outputs": [
    {
     "data": {
      "text/html": [
       "'Mean of presidential.results in cluster 1: 0.89'"
      ],
      "text/latex": [
       "'Mean of presidential.results in cluster 1: 0.89'"
      ],
      "text/markdown": [
       "'Mean of presidential.results in cluster 1: 0.89'"
      ],
      "text/plain": [
       "[1] \"Mean of presidential.results in cluster 1: 0.89\""
      ]
     },
     "metadata": {},
     "output_type": "display_data"
    },
    {
     "data": {
      "text/html": [
       "'Mean of presidential.results in cluster 2: 0.19'"
      ],
      "text/latex": [
       "'Mean of presidential.results in cluster 2: 0.19'"
      ],
      "text/markdown": [
       "'Mean of presidential.results in cluster 2: 0.19'"
      ],
      "text/plain": [
       "[1] \"Mean of presidential.results in cluster 2: 0.19\""
      ]
     },
     "metadata": {},
     "output_type": "display_data"
    },
    {
     "data": {
      "text/html": [
       "'Mean of CumlRegulatory in cluster 1: 11.52'"
      ],
      "text/latex": [
       "'Mean of CumlRegulatory in cluster 1: 11.52'"
      ],
      "text/markdown": [
       "'Mean of CumlRegulatory in cluster 1: 11.52'"
      ],
      "text/plain": [
       "[1] \"Mean of CumlRegulatory in cluster 1: 11.52\""
      ]
     },
     "metadata": {},
     "output_type": "display_data"
    },
    {
     "data": {
      "text/html": [
       "'Mean of CumlRegulatory in cluster 2: 3.79'"
      ],
      "text/latex": [
       "'Mean of CumlRegulatory in cluster 2: 3.79'"
      ],
      "text/markdown": [
       "'Mean of CumlRegulatory in cluster 2: 3.79'"
      ],
      "text/plain": [
       "[1] \"Mean of CumlRegulatory in cluster 2: 3.79\""
      ]
     },
     "metadata": {},
     "output_type": "display_data"
    },
    {
     "data": {
      "text/html": [
       "'Mean of CumlFinancial in cluster 1: 31.37'"
      ],
      "text/latex": [
       "'Mean of CumlFinancial in cluster 1: 31.37'"
      ],
      "text/markdown": [
       "'Mean of CumlFinancial in cluster 1: 31.37'"
      ],
      "text/plain": [
       "[1] \"Mean of CumlFinancial in cluster 1: 31.37\""
      ]
     },
     "metadata": {},
     "output_type": "display_data"
    },
    {
     "data": {
      "text/html": [
       "'Mean of CumlFinancial in cluster 2: 7.79'"
      ],
      "text/latex": [
       "'Mean of CumlFinancial in cluster 2: 7.79'"
      ],
      "text/markdown": [
       "'Mean of CumlFinancial in cluster 2: 7.79'"
      ],
      "text/plain": [
       "[1] \"Mean of CumlFinancial in cluster 2: 7.79\""
      ]
     },
     "metadata": {},
     "output_type": "display_data"
    }
   ],
   "source": [
    "pr1 = mean(train1$presidential.results)\n",
    "pr2 = mean(train2$presidential.results)\n",
    "cr1 = mean(train1$CumlRegulatory)\n",
    "cr2 = mean(train2$CumlRegulatory)\n",
    "cf1 = mean(train1$CumlFinancial)\n",
    "cf2 = mean(train2$CumlFinancial)\n",
    "\n",
    "paste(\"Mean of presidential.results in cluster 1:\",round(pr1,2))\n",
    "paste(\"Mean of presidential.results in cluster 2:\",round(pr2,2))\n",
    "paste(\"Mean of CumlRegulatory in cluster 1:\",round(cr1,2))\n",
    "paste(\"Mean of CumlRegulatory in cluster 2:\",round(cr2,2))\n",
    "paste(\"Mean of CumlFinancial in cluster 1:\",round(cf1,2))\n",
    "paste(\"Mean of CumlFinancial in cluster 2:\",round(cf2,2))"
   ]
  },
  {
   "cell_type": "markdown",
   "metadata": {},
   "source": [
    "### Problem 8 - Creating the Model on the First Cluster\n",
    "Using the variable GenHydro, GenSolar, CumlFinancial, CumlRegulatory, Total.salary and Import, create mod1 using a logistic regression on train1."
   ]
  },
  {
   "cell_type": "code",
   "execution_count": 41,
   "metadata": {},
   "outputs": [
    {
     "data": {
      "text/plain": [
       "\n",
       "Call:\n",
       "glm(formula = GenSolarBinary ~ GenHydro + GenSolar + CumlFinancial + \n",
       "    CumlRegulatory + Total.salary + Import, family = \"binomial\", \n",
       "    data = train1)\n",
       "\n",
       "Deviance Residuals: \n",
       "    Min       1Q   Median       3Q      Max  \n",
       "-3.3077  -0.8122  -0.3257   0.8931   1.7706  \n",
       "\n",
       "Coefficients:\n",
       "                Estimate Std. Error z value Pr(>|z|)    \n",
       "(Intercept)     -3.60680    1.24533  -2.896 0.003776 ** \n",
       "GenHydro        -4.50969    1.20708  -3.736 0.000187 ***\n",
       "GenSolar       835.21718  281.85075   2.963 0.003043 ** \n",
       "CumlFinancial    0.01930    0.00902   2.139 0.032401 *  \n",
       "CumlRegulatory   0.14098    0.05983   2.356 0.018464 *  \n",
       "Total.salary     0.08360    0.05121   1.633 0.102545    \n",
       "Import          -0.91904    0.37450  -2.454 0.014126 *  \n",
       "---\n",
       "Signif. codes:  0 '***' 0.001 '**' 0.01 '*' 0.05 '.' 0.1 ' ' 1\n",
       "\n",
       "(Dispersion parameter for binomial family taken to be 1)\n",
       "\n",
       "    Null deviance: 274.41  on 197  degrees of freedom\n",
       "Residual deviance: 201.55  on 191  degrees of freedom\n",
       "AIC: 215.55\n",
       "\n",
       "Number of Fisher Scoring iterations: 7\n"
      ]
     },
     "metadata": {},
     "output_type": "display_data"
    }
   ],
   "source": [
    "mod1 = glm(GenSolarBinary ~ GenHydro + GenSolar + CumlFinancial + CumlRegulatory + Total.salary + Import, data=train1,\n",
    "           family='binomial')\n",
    "\n",
    "summary(mod1)"
   ]
  },
  {
   "cell_type": "markdown",
   "metadata": {},
   "source": [
    "**What variable is most predictive?**"
   ]
  },
  {
   "cell_type": "markdown",
   "metadata": {},
   "source": [
    "Answer: GenHydro."
   ]
  },
  {
   "cell_type": "markdown",
   "metadata": {},
   "source": [
    "### Problem 9 - Evaluating the Model Obtained Using the First Cluster\n",
    "**What is the accuracy on test1, the subset of test corresponding to the first cluster?**"
   ]
  },
  {
   "cell_type": "code",
   "execution_count": 42,
   "metadata": {},
   "outputs": [],
   "source": [
    "kmc.kcca = as.kcca(kmc, test.norm)\n",
    "\n",
    "cluster.test = predict(kmc.kcca)"
   ]
  },
  {
   "cell_type": "code",
   "execution_count": 43,
   "metadata": {},
   "outputs": [],
   "source": [
    "test1 = subset(test, kmc$cluster == 1)\n",
    "\n",
    "test2 = subset(test, kmc$cluster == 2)"
   ]
  },
  {
   "cell_type": "code",
   "execution_count": 44,
   "metadata": {},
   "outputs": [
    {
     "data": {
      "text/plain": [
       "   \n",
       "    FALSE TRUE\n",
       "  0    66    0\n",
       "  1     9   11"
      ]
     },
     "metadata": {},
     "output_type": "display_data"
    }
   ],
   "source": [
    "# Make Prediction on the Cluster 1\n",
    "pred1 = predict(mod1, type='response', newdata = test1)\n",
    "\n",
    "# Confusion Matrix Cluster 1\n",
    "cmC1 = table(test1$GenSolarBinary, pred1 > 0.5)\n",
    "cmC1"
   ]
  },
  {
   "cell_type": "code",
   "execution_count": 45,
   "metadata": {},
   "outputs": [
    {
     "data": {
      "text/html": [
       "'Accuracy Logistic Regression in Cluster 1: 0.8953'"
      ],
      "text/latex": [
       "'Accuracy Logistic Regression in Cluster 1: 0.8953'"
      ],
      "text/markdown": [
       "'Accuracy Logistic Regression in Cluster 1: 0.8953'"
      ],
      "text/plain": [
       "[1] \"Accuracy Logistic Regression in Cluster 1: 0.8953\""
      ]
     },
     "metadata": {},
     "output_type": "display_data"
    }
   ],
   "source": [
    "# Compute Logistic Regression Accuracy in Cluster 1\n",
    "accurC1 = sum(diag(cmC1))/sum(cmC1)\n",
    "paste(\"Accuracy Logistic Regression in Cluster 1:\", round(accurC1,digits=4))"
   ]
  },
  {
   "cell_type": "markdown",
   "metadata": {},
   "source": [
    "**We would like to know if mod1 gives us an edge over mod on the dataset test1. Using mod, predict GenSolarBinary for the observation in test1 and report the accuracy below:**"
   ]
  },
  {
   "cell_type": "code",
   "execution_count": 46,
   "metadata": {},
   "outputs": [
    {
     "data": {
      "text/plain": [
       "   \n",
       "    FALSE TRUE\n",
       "  0    65    1\n",
       "  1     9   11"
      ]
     },
     "metadata": {},
     "output_type": "display_data"
    }
   ],
   "source": [
    "# Make Prediction on the Cluster 1 in the Old Model\n",
    "pred11 = predict(mod, type='response', newdata = test1)\n",
    "\n",
    "# Confusion Matrix Cluster 1 in the Old Model\n",
    "cmC1O = table(test1$GenSolarBinary, pred11 > 0.5)\n",
    "cmC1O"
   ]
  },
  {
   "cell_type": "code",
   "execution_count": 47,
   "metadata": {},
   "outputs": [
    {
     "data": {
      "text/html": [
       "'Accuracy Logistic Regression in Cluster 1 in the Old Model: 0.8837'"
      ],
      "text/latex": [
       "'Accuracy Logistic Regression in Cluster 1 in the Old Model: 0.8837'"
      ],
      "text/markdown": [
       "'Accuracy Logistic Regression in Cluster 1 in the Old Model: 0.8837'"
      ],
      "text/plain": [
       "[1] \"Accuracy Logistic Regression in Cluster 1 in the Old Model: 0.8837\""
      ]
     },
     "metadata": {},
     "output_type": "display_data"
    }
   ],
   "source": [
    "# Compute Logistic Regression Accuracy Cluster 1 in the Old Model\n",
    "accurC1O = sum(diag(cmC1O))/sum(cmC1O)\n",
    "paste(\"Accuracy Logistic Regression in Cluster 1 in the Old Model:\", round(accurC1O,digits=4))"
   ]
  },
  {
   "cell_type": "markdown",
   "metadata": {},
   "source": [
    "Answer: A small difference, but Mod1 is a little bit better."
   ]
  },
  {
   "cell_type": "markdown",
   "metadata": {},
   "source": [
    "### Problem 10 - Creating the Model on the Second Cluster\n",
    "Using the variables GenHydro, GenSolar, CumlFinancial, CumlRegulatory, Total.salary and Import, create mod2 using a logistic regression on train2."
   ]
  },
  {
   "cell_type": "code",
   "execution_count": 48,
   "metadata": {},
   "outputs": [
    {
     "data": {
      "text/plain": [
       "\n",
       "Call:\n",
       "glm(formula = GenSolarBinary ~ GenHydro + GenSolar + CumlFinancial + \n",
       "    CumlRegulatory + Total.salary + Import, family = \"binomial\", \n",
       "    data = train2)\n",
       "\n",
       "Deviance Residuals: \n",
       "    Min       1Q   Median       3Q      Max  \n",
       "-1.4170  -0.2752  -0.1733  -0.1116   2.9755  \n",
       "\n",
       "Coefficients:\n",
       "                 Estimate Std. Error z value Pr(>|z|)    \n",
       "(Intercept)    -8.219e+00  2.011e+00  -4.088 4.36e-05 ***\n",
       "GenHydro       -1.919e-01  1.492e+00  -0.129 0.897641    \n",
       "GenSolar        1.527e+04  8.168e+03   1.869 0.061587 .  \n",
       "CumlFinancial   7.496e-02  2.033e-02   3.687 0.000227 ***\n",
       "CumlRegulatory  1.657e-01  1.169e-01   1.418 0.156324    \n",
       "Total.salary    1.734e-01  8.929e-02   1.942 0.052110 .  \n",
       "Import          8.734e-01  7.730e-01   1.130 0.258511    \n",
       "---\n",
       "Signif. codes:  0 '***' 0.001 '**' 0.01 '*' 0.05 '.' 0.1 ' ' 1\n",
       "\n",
       "(Dispersion parameter for binomial family taken to be 1)\n",
       "\n",
       "    Null deviance: 140.429  on 290  degrees of freedom\n",
       "Residual deviance:  92.081  on 284  degrees of freedom\n",
       "AIC: 106.08\n",
       "\n",
       "Number of Fisher Scoring iterations: 7\n"
      ]
     },
     "metadata": {},
     "output_type": "display_data"
    }
   ],
   "source": [
    "mod2 = glm(GenSolarBinary ~ GenHydro + GenSolar + CumlFinancial + CumlRegulatory + Total.salary + Import, data=train2,\n",
    "           family='binomial')\n",
    "\n",
    "summary(mod2)"
   ]
  },
  {
   "cell_type": "markdown",
   "metadata": {},
   "source": [
    "### Problem 11 - Evaluating the Model Obtained Using the Second Cluster\n",
    "**Using the threshold of 0.5, what is the accuracy on test2, the subset of test corresponding to the second cluster?**"
   ]
  },
  {
   "cell_type": "code",
   "execution_count": 49,
   "metadata": {},
   "outputs": [
    {
     "data": {
      "text/plain": [
       "   \n",
       "    FALSE TRUE\n",
       "  0    92    6\n",
       "  1     6   20"
      ]
     },
     "metadata": {},
     "output_type": "display_data"
    }
   ],
   "source": [
    "# Make Prediction on the Cluster 2\n",
    "pred2 = predict(mod2, type='response', newdata = test2)\n",
    "\n",
    "# Confusion Matrix Cluster 2\n",
    "cmC2 = table(test2$GenSolarBinary, pred2 > 0.5)\n",
    "cmC2"
   ]
  },
  {
   "cell_type": "code",
   "execution_count": 50,
   "metadata": {},
   "outputs": [
    {
     "data": {
      "text/html": [
       "'Accuracy Logistic Regression in Cluster 2: 0.9032'"
      ],
      "text/latex": [
       "'Accuracy Logistic Regression in Cluster 2: 0.9032'"
      ],
      "text/markdown": [
       "'Accuracy Logistic Regression in Cluster 2: 0.9032'"
      ],
      "text/plain": [
       "[1] \"Accuracy Logistic Regression in Cluster 2: 0.9032\""
      ]
     },
     "metadata": {},
     "output_type": "display_data"
    }
   ],
   "source": [
    "# Compute Logistic Regression Accuracy in Cluster 2\n",
    "accurC2 = sum(diag(cmC2))/sum(cmC2)\n",
    "paste(\"Accuracy Logistic Regression in Cluster 2:\", round(accurC2,digits=4))"
   ]
  },
  {
   "cell_type": "markdown",
   "metadata": {},
   "source": [
    "**We would like to know if mod2 gives us an edge over mod on the dataset test2. Using mod, predict GenSolarBinary for the observation in test2 and report the accuracy below:**"
   ]
  },
  {
   "cell_type": "code",
   "execution_count": 51,
   "metadata": {},
   "outputs": [
    {
     "data": {
      "text/plain": [
       "   \n",
       "    FALSE TRUE\n",
       "  0    94    4\n",
       "  1    11   15"
      ]
     },
     "metadata": {},
     "output_type": "display_data"
    }
   ],
   "source": [
    "# Make Prediction on the Cluster 2 in the Old Model\n",
    "pred21 = predict(mod, type='response', newdata = test2)\n",
    "\n",
    "# Confusion Matrix Cluster 2 in the Old Model\n",
    "cmC2O = table(test2$GenSolarBinary, pred21 > 0.5)\n",
    "cmC2O"
   ]
  },
  {
   "cell_type": "code",
   "execution_count": 52,
   "metadata": {},
   "outputs": [
    {
     "data": {
      "text/html": [
       "'Accuracy Logistic Regression in Cluster 2 in the Old Model: 0.879'"
      ],
      "text/latex": [
       "'Accuracy Logistic Regression in Cluster 2 in the Old Model: 0.879'"
      ],
      "text/markdown": [
       "'Accuracy Logistic Regression in Cluster 2 in the Old Model: 0.879'"
      ],
      "text/plain": [
       "[1] \"Accuracy Logistic Regression in Cluster 2 in the Old Model: 0.879\""
      ]
     },
     "metadata": {},
     "output_type": "display_data"
    }
   ],
   "source": [
    "# Compute Logistic Regression Accuracy Cluster 2 in the Old Model\n",
    "accurC2O = sum(diag(cmC2O))/sum(cmC2O)\n",
    "paste(\"Accuracy Logistic Regression in Cluster 2 in the Old Model:\", round(accurC2O,digits=4))"
   ]
  },
  {
   "cell_type": "markdown",
   "metadata": {},
   "source": [
    "Answer: Again, a small difference, but Mod2 is a little bit better."
   ]
  },
  {
   "cell_type": "markdown",
   "metadata": {},
   "source": [
    "### Problem 12 - Evaluating the Performance of the Cluster-the-Predict Algorithm\n",
    "To compute the overall test-set accuracy of the cluster-the-predict approach, we can combine all the test-set predictions into a single vector \"AllPredictions\" and all the true outcomes into a single vector \"AllOutcomes\"."
   ]
  },
  {
   "cell_type": "code",
   "execution_count": 53,
   "metadata": {},
   "outputs": [],
   "source": [
    "# Vector test-set predictions\n",
    "predall = c(as.vector(pred1), as.vector(pred2))\n",
    "\n",
    "# Vector with all true outcomes\n",
    "outcome = c(test1$GenSolarBinary, test2$GenSolarBinary)"
   ]
  },
  {
   "cell_type": "markdown",
   "metadata": {},
   "source": [
    "**What is the overall accuracy on the test set, using the cluster-then-predict approach, again using a threshold of 0.5?**"
   ]
  },
  {
   "cell_type": "code",
   "execution_count": 54,
   "metadata": {},
   "outputs": [
    {
     "data": {
      "text/plain": [
       "       \n",
       "outcome FALSE TRUE\n",
       "      0   158    6\n",
       "      1    15   31"
      ]
     },
     "metadata": {},
     "output_type": "display_data"
    }
   ],
   "source": [
    "# Confusion Matrix with overall test-set accuracy\n",
    "cmCM = table(outcome, predall > 0.5)\n",
    "cmCM"
   ]
  },
  {
   "cell_type": "code",
   "execution_count": 55,
   "metadata": {},
   "outputs": [
    {
     "data": {
      "text/html": [
       "'Accuracy Logistic Regression Overall: 0.9'"
      ],
      "text/latex": [
       "'Accuracy Logistic Regression Overall: 0.9'"
      ],
      "text/markdown": [
       "'Accuracy Logistic Regression Overall: 0.9'"
      ],
      "text/plain": [
       "[1] \"Accuracy Logistic Regression Overall: 0.9\""
      ]
     },
     "metadata": {},
     "output_type": "display_data"
    }
   ],
   "source": [
    "# Compute Logistic Regression Accuracy Overall\n",
    "accurCM = sum(diag(cmCM))/sum(cmCM)\n",
    "paste(\"Accuracy Logistic Regression Overall:\", round(accurCM,digits=4))"
   ]
  }
 ],
 "metadata": {
  "kernelspec": {
   "display_name": "R",
   "language": "R",
   "name": "ir"
  },
  "language_info": {
   "codemirror_mode": "r",
   "file_extension": ".r",
   "mimetype": "text/x-r-source",
   "name": "R",
   "pygments_lexer": "r",
   "version": "3.6.3"
  }
 },
 "nbformat": 4,
 "nbformat_minor": 4
}
