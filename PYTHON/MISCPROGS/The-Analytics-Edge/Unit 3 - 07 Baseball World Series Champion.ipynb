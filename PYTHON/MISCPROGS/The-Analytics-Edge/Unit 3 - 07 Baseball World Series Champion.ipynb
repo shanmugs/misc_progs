{
 "cells": [
  {
   "cell_type": "markdown",
   "metadata": {},
   "source": [
    "# Predicting the Baseball World Series Champion"
   ]
  },
  {
   "cell_type": "markdown",
   "metadata": {},
   "source": [
    "<img src=\"images/baseball.jpg\"/>"
   ]
  },
  {
   "cell_type": "markdown",
   "metadata": {},
   "source": [
    "Last week, in the Moneyball lecture, we discussed how regular season performance is not strongly correlated with winning the World Series in baseball. In this homework question, we'll use the same data to investigate how well we can predict the World Series winner at the beginning of the playoffs.\n",
    "\n",
    "To begin, load the dataset baseball.csv into R using the read.csv function, and call the data frame \"baseball\". This is the same data file we used during the Moneyball lecture, and the data comes from Baseball-Reference.com.\n",
    "\n",
    "As a reminder, this dataset contains data concerning a baseball team's performance in a given year. It has the following variables:\n",
    "\n",
    "    Team: A code for the name of the team\n",
    "    \n",
    "    League: The Major League Baseball league the team belongs to, either AL (American League) or NL (National League)\n",
    "    \n",
    "    Year: The year of the corresponding record\n",
    "    \n",
    "    RS: The number of runs scored by the team in that year\n",
    "    \n",
    "    RA: The number of runs allowed by the team in that year\n",
    "    \n",
    "    W: The number of regular season wins by the team in that year\n",
    "    \n",
    "    OBP: The on-base percentage of the team in that year\n",
    "    \n",
    "    SLG: The slugging percentage of the team in that year\n",
    "    \n",
    "    BA: The batting average of the team in that year\n",
    "    \n",
    "    Playoffs: Whether the team made the playoffs in that year (1 for yes, 0 for no)\n",
    "    \n",
    "    RankSeason: Among the playoff teams in that year, the ranking of their regular season records (1 is best)\n",
    "    \n",
    "    RankPlayoffs: Among the playoff teams in that year, how well they fared in the playoffs. The team winning the World Series gets a RankPlayoffs of 1.\n",
    "    \n",
    "    G: The number of games a team played in that year\n",
    "    \n",
    "    OOBP: The team's opponents' on-base percentage in that year\n",
    "    \n",
    "    OSLG: The team's opponents' slugging percentage in that year"
   ]
  },
  {
   "cell_type": "markdown",
   "metadata": {},
   "source": [
    "### Load and Exploration the Data"
   ]
  },
  {
   "cell_type": "code",
   "execution_count": 1,
   "metadata": {},
   "outputs": [
    {
     "data": {
      "text/html": [
       "<table>\n",
       "<caption>A data.frame: 6 × 15</caption>\n",
       "<thead>\n",
       "\t<tr><th></th><th scope=col>Team</th><th scope=col>League</th><th scope=col>Year</th><th scope=col>RS</th><th scope=col>RA</th><th scope=col>W</th><th scope=col>OBP</th><th scope=col>SLG</th><th scope=col>BA</th><th scope=col>Playoffs</th><th scope=col>RankSeason</th><th scope=col>RankPlayoffs</th><th scope=col>G</th><th scope=col>OOBP</th><th scope=col>OSLG</th></tr>\n",
       "\t<tr><th></th><th scope=col>&lt;fct&gt;</th><th scope=col>&lt;fct&gt;</th><th scope=col>&lt;int&gt;</th><th scope=col>&lt;int&gt;</th><th scope=col>&lt;int&gt;</th><th scope=col>&lt;int&gt;</th><th scope=col>&lt;dbl&gt;</th><th scope=col>&lt;dbl&gt;</th><th scope=col>&lt;dbl&gt;</th><th scope=col>&lt;int&gt;</th><th scope=col>&lt;int&gt;</th><th scope=col>&lt;int&gt;</th><th scope=col>&lt;int&gt;</th><th scope=col>&lt;dbl&gt;</th><th scope=col>&lt;dbl&gt;</th></tr>\n",
       "</thead>\n",
       "<tbody>\n",
       "\t<tr><th scope=row>1</th><td>ARI</td><td>NL</td><td>2012</td><td>734</td><td>688</td><td>81</td><td>0.328</td><td>0.418</td><td>0.259</td><td>0</td><td>NA</td><td>NA</td><td>162</td><td>0.317</td><td>0.415</td></tr>\n",
       "\t<tr><th scope=row>2</th><td>ATL</td><td>NL</td><td>2012</td><td>700</td><td>600</td><td>94</td><td>0.320</td><td>0.389</td><td>0.247</td><td>1</td><td> 4</td><td> 5</td><td>162</td><td>0.306</td><td>0.378</td></tr>\n",
       "\t<tr><th scope=row>3</th><td>BAL</td><td>AL</td><td>2012</td><td>712</td><td>705</td><td>93</td><td>0.311</td><td>0.417</td><td>0.247</td><td>1</td><td> 5</td><td> 4</td><td>162</td><td>0.315</td><td>0.403</td></tr>\n",
       "\t<tr><th scope=row>4</th><td>BOS</td><td>AL</td><td>2012</td><td>734</td><td>806</td><td>69</td><td>0.315</td><td>0.415</td><td>0.260</td><td>0</td><td>NA</td><td>NA</td><td>162</td><td>0.331</td><td>0.428</td></tr>\n",
       "\t<tr><th scope=row>5</th><td>CHC</td><td>NL</td><td>2012</td><td>613</td><td>759</td><td>61</td><td>0.302</td><td>0.378</td><td>0.240</td><td>0</td><td>NA</td><td>NA</td><td>162</td><td>0.335</td><td>0.424</td></tr>\n",
       "\t<tr><th scope=row>6</th><td>CHW</td><td>AL</td><td>2012</td><td>748</td><td>676</td><td>85</td><td>0.318</td><td>0.422</td><td>0.255</td><td>0</td><td>NA</td><td>NA</td><td>162</td><td>0.319</td><td>0.405</td></tr>\n",
       "</tbody>\n",
       "</table>\n"
      ],
      "text/latex": [
       "A data.frame: 6 × 15\n",
       "\\begin{tabular}{r|lllllllllllllll}\n",
       "  & Team & League & Year & RS & RA & W & OBP & SLG & BA & Playoffs & RankSeason & RankPlayoffs & G & OOBP & OSLG\\\\\n",
       "  & <fct> & <fct> & <int> & <int> & <int> & <int> & <dbl> & <dbl> & <dbl> & <int> & <int> & <int> & <int> & <dbl> & <dbl>\\\\\n",
       "\\hline\n",
       "\t1 & ARI & NL & 2012 & 734 & 688 & 81 & 0.328 & 0.418 & 0.259 & 0 & NA & NA & 162 & 0.317 & 0.415\\\\\n",
       "\t2 & ATL & NL & 2012 & 700 & 600 & 94 & 0.320 & 0.389 & 0.247 & 1 &  4 &  5 & 162 & 0.306 & 0.378\\\\\n",
       "\t3 & BAL & AL & 2012 & 712 & 705 & 93 & 0.311 & 0.417 & 0.247 & 1 &  5 &  4 & 162 & 0.315 & 0.403\\\\\n",
       "\t4 & BOS & AL & 2012 & 734 & 806 & 69 & 0.315 & 0.415 & 0.260 & 0 & NA & NA & 162 & 0.331 & 0.428\\\\\n",
       "\t5 & CHC & NL & 2012 & 613 & 759 & 61 & 0.302 & 0.378 & 0.240 & 0 & NA & NA & 162 & 0.335 & 0.424\\\\\n",
       "\t6 & CHW & AL & 2012 & 748 & 676 & 85 & 0.318 & 0.422 & 0.255 & 0 & NA & NA & 162 & 0.319 & 0.405\\\\\n",
       "\\end{tabular}\n"
      ],
      "text/markdown": [
       "\n",
       "A data.frame: 6 × 15\n",
       "\n",
       "| <!--/--> | Team &lt;fct&gt; | League &lt;fct&gt; | Year &lt;int&gt; | RS &lt;int&gt; | RA &lt;int&gt; | W &lt;int&gt; | OBP &lt;dbl&gt; | SLG &lt;dbl&gt; | BA &lt;dbl&gt; | Playoffs &lt;int&gt; | RankSeason &lt;int&gt; | RankPlayoffs &lt;int&gt; | G &lt;int&gt; | OOBP &lt;dbl&gt; | OSLG &lt;dbl&gt; |\n",
       "|---|---|---|---|---|---|---|---|---|---|---|---|---|---|---|---|\n",
       "| 1 | ARI | NL | 2012 | 734 | 688 | 81 | 0.328 | 0.418 | 0.259 | 0 | NA | NA | 162 | 0.317 | 0.415 |\n",
       "| 2 | ATL | NL | 2012 | 700 | 600 | 94 | 0.320 | 0.389 | 0.247 | 1 |  4 |  5 | 162 | 0.306 | 0.378 |\n",
       "| 3 | BAL | AL | 2012 | 712 | 705 | 93 | 0.311 | 0.417 | 0.247 | 1 |  5 |  4 | 162 | 0.315 | 0.403 |\n",
       "| 4 | BOS | AL | 2012 | 734 | 806 | 69 | 0.315 | 0.415 | 0.260 | 0 | NA | NA | 162 | 0.331 | 0.428 |\n",
       "| 5 | CHC | NL | 2012 | 613 | 759 | 61 | 0.302 | 0.378 | 0.240 | 0 | NA | NA | 162 | 0.335 | 0.424 |\n",
       "| 6 | CHW | AL | 2012 | 748 | 676 | 85 | 0.318 | 0.422 | 0.255 | 0 | NA | NA | 162 | 0.319 | 0.405 |\n",
       "\n"
      ],
      "text/plain": [
       "  Team League Year RS  RA  W  OBP   SLG   BA    Playoffs RankSeason\n",
       "1 ARI  NL     2012 734 688 81 0.328 0.418 0.259 0        NA        \n",
       "2 ATL  NL     2012 700 600 94 0.320 0.389 0.247 1         4        \n",
       "3 BAL  AL     2012 712 705 93 0.311 0.417 0.247 1         5        \n",
       "4 BOS  AL     2012 734 806 69 0.315 0.415 0.260 0        NA        \n",
       "5 CHC  NL     2012 613 759 61 0.302 0.378 0.240 0        NA        \n",
       "6 CHW  AL     2012 748 676 85 0.318 0.422 0.255 0        NA        \n",
       "  RankPlayoffs G   OOBP  OSLG \n",
       "1 NA           162 0.317 0.415\n",
       "2  5           162 0.306 0.378\n",
       "3  4           162 0.315 0.403\n",
       "4 NA           162 0.331 0.428\n",
       "5 NA           162 0.335 0.424\n",
       "6 NA           162 0.319 0.405"
      ]
     },
     "metadata": {},
     "output_type": "display_data"
    }
   ],
   "source": [
    "base = read.csv(\"data/baseball.csv\")\n",
    "head(base)"
   ]
  },
  {
   "cell_type": "code",
   "execution_count": 2,
   "metadata": {},
   "outputs": [
    {
     "name": "stdout",
     "output_type": "stream",
     "text": [
      "'data.frame':\t1232 obs. of  15 variables:\n",
      " $ Team        : Factor w/ 39 levels \"ANA\",\"ARI\",\"ATL\",..: 2 3 4 5 7 8 9 10 11 12 ...\n",
      " $ League      : Factor w/ 2 levels \"AL\",\"NL\": 2 2 1 1 2 1 2 1 2 1 ...\n",
      " $ Year        : int  2012 2012 2012 2012 2012 2012 2012 2012 2012 2012 ...\n",
      " $ RS          : int  734 700 712 734 613 748 669 667 758 726 ...\n",
      " $ RA          : int  688 600 705 806 759 676 588 845 890 670 ...\n",
      " $ W           : int  81 94 93 69 61 85 97 68 64 88 ...\n",
      " $ OBP         : num  0.328 0.32 0.311 0.315 0.302 0.318 0.315 0.324 0.33 0.335 ...\n",
      " $ SLG         : num  0.418 0.389 0.417 0.415 0.378 0.422 0.411 0.381 0.436 0.422 ...\n",
      " $ BA          : num  0.259 0.247 0.247 0.26 0.24 0.255 0.251 0.251 0.274 0.268 ...\n",
      " $ Playoffs    : int  0 1 1 0 0 0 1 0 0 1 ...\n",
      " $ RankSeason  : int  NA 4 5 NA NA NA 2 NA NA 6 ...\n",
      " $ RankPlayoffs: int  NA 5 4 NA NA NA 4 NA NA 2 ...\n",
      " $ G           : int  162 162 162 162 162 162 162 162 162 162 ...\n",
      " $ OOBP        : num  0.317 0.306 0.315 0.331 0.335 0.319 0.305 0.336 0.357 0.314 ...\n",
      " $ OSLG        : num  0.415 0.378 0.403 0.428 0.424 0.405 0.39 0.43 0.47 0.402 ...\n"
     ]
    }
   ],
   "source": [
    "str(base)"
   ]
  },
  {
   "cell_type": "code",
   "execution_count": 3,
   "metadata": {},
   "outputs": [
    {
     "data": {
      "text/plain": [
       "      Team     League        Year            RS               RA        \n",
       " BAL    : 47   AL:616   Min.   :1962   Min.   : 463.0   Min.   : 472.0  \n",
       " BOS    : 47   NL:616   1st Qu.:1977   1st Qu.: 652.0   1st Qu.: 649.8  \n",
       " CHC    : 47            Median :1989   Median : 711.0   Median : 709.0  \n",
       " CHW    : 47            Mean   :1989   Mean   : 715.1   Mean   : 715.1  \n",
       " CIN    : 47            3rd Qu.:2002   3rd Qu.: 775.0   3rd Qu.: 774.2  \n",
       " CLE    : 47            Max.   :2012   Max.   :1009.0   Max.   :1103.0  \n",
       " (Other):950                                                            \n",
       "       W              OBP              SLG               BA        \n",
       " Min.   : 40.0   Min.   :0.2770   Min.   :0.3010   Min.   :0.2140  \n",
       " 1st Qu.: 73.0   1st Qu.:0.3170   1st Qu.:0.3750   1st Qu.:0.2510  \n",
       " Median : 81.0   Median :0.3260   Median :0.3960   Median :0.2600  \n",
       " Mean   : 80.9   Mean   :0.3263   Mean   :0.3973   Mean   :0.2593  \n",
       " 3rd Qu.: 89.0   3rd Qu.:0.3370   3rd Qu.:0.4210   3rd Qu.:0.2680  \n",
       " Max.   :116.0   Max.   :0.3730   Max.   :0.4910   Max.   :0.2940  \n",
       "                                                                   \n",
       "    Playoffs        RankSeason     RankPlayoffs         G        \n",
       " Min.   :0.0000   Min.   :1.000   Min.   :1.000   Min.   :158.0  \n",
       " 1st Qu.:0.0000   1st Qu.:2.000   1st Qu.:2.000   1st Qu.:162.0  \n",
       " Median :0.0000   Median :3.000   Median :3.000   Median :162.0  \n",
       " Mean   :0.1981   Mean   :3.123   Mean   :2.717   Mean   :161.9  \n",
       " 3rd Qu.:0.0000   3rd Qu.:4.000   3rd Qu.:4.000   3rd Qu.:162.0  \n",
       " Max.   :1.0000   Max.   :8.000   Max.   :5.000   Max.   :165.0  \n",
       "                  NA's   :988     NA's   :988                    \n",
       "      OOBP             OSLG       \n",
       " Min.   :0.2940   Min.   :0.3460  \n",
       " 1st Qu.:0.3210   1st Qu.:0.4010  \n",
       " Median :0.3310   Median :0.4190  \n",
       " Mean   :0.3323   Mean   :0.4197  \n",
       " 3rd Qu.:0.3430   3rd Qu.:0.4380  \n",
       " Max.   :0.3840   Max.   :0.4990  \n",
       " NA's   :812      NA's   :812     "
      ]
     },
     "metadata": {},
     "output_type": "display_data"
    }
   ],
   "source": [
    "summary(base)"
   ]
  },
  {
   "cell_type": "markdown",
   "metadata": {},
   "source": [
    "### Problem 1.1 - Limiting to Teams Making the Playoffs\n",
    "\n",
    "Each row in the baseball dataset represents a team in a particular year.\n",
    "\n",
    "How many team/year pairs are there in the whole dataset?"
   ]
  },
  {
   "cell_type": "code",
   "execution_count": 4,
   "metadata": {},
   "outputs": [
    {
     "data": {
      "text/html": [
       "1232"
      ],
      "text/latex": [
       "1232"
      ],
      "text/markdown": [
       "1232"
      ],
      "text/plain": [
       "[1] 1232"
      ]
     },
     "metadata": {},
     "output_type": "display_data"
    }
   ],
   "source": [
    "nrow(base)"
   ]
  },
  {
   "cell_type": "markdown",
   "metadata": {},
   "source": [
    "### Problem 1.2 - Limiting to Teams Making the Playoffs\n",
    "Though the dataset contains data from 1962 until 2012, we removed several years with shorter-than-usual seasons. Using the table() function, identify the total number of years included in this dataset."
   ]
  },
  {
   "cell_type": "code",
   "execution_count": 5,
   "metadata": {},
   "outputs": [
    {
     "data": {
      "text/plain": [
       "\n",
       "1962 1963 1964 1965 1966 1967 1968 1969 1970 1971 1973 1974 1975 1976 1977 1978 \n",
       "  20   20   20   20   20   20   20   24   24   24   24   24   24   24   26   26 \n",
       "1979 1980 1982 1983 1984 1985 1986 1987 1988 1989 1990 1991 1992 1993 1996 1997 \n",
       "  26   26   26   26   26   26   26   26   26   26   26   26   26   28   28   28 \n",
       "1998 1999 2000 2001 2002 2003 2004 2005 2006 2007 2008 2009 2010 2011 2012 \n",
       "  30   30   30   30   30   30   30   30   30   30   30   30   30   30   30 "
      ]
     },
     "metadata": {},
     "output_type": "display_data"
    }
   ],
   "source": [
    "table(base$Year)"
   ]
  },
  {
   "cell_type": "code",
   "execution_count": 6,
   "metadata": {},
   "outputs": [
    {
     "data": {
      "text/html": [
       "47"
      ],
      "text/latex": [
       "47"
      ],
      "text/markdown": [
       "47"
      ],
      "text/plain": [
       "[1] 47"
      ]
     },
     "metadata": {},
     "output_type": "display_data"
    }
   ],
   "source": [
    "length(table(base$Year))"
   ]
  },
  {
   "cell_type": "markdown",
   "metadata": {},
   "source": [
    "### Problem 1.3 - Limiting to Teams Making the Playoffs\n",
    "Because we're only analyzing teams that made the playoffs, use the subset() function to replace baseball with a data frame limited to teams that made the playoffs (so your subsetted data frame should still be called \"baseball\"). How many team/year pairs are included in the new dataset?"
   ]
  },
  {
   "cell_type": "code",
   "execution_count": 7,
   "metadata": {},
   "outputs": [
    {
     "data": {
      "text/html": [
       "<table>\n",
       "<caption>A data.frame: 6 × 15</caption>\n",
       "<thead>\n",
       "\t<tr><th></th><th scope=col>Team</th><th scope=col>League</th><th scope=col>Year</th><th scope=col>RS</th><th scope=col>RA</th><th scope=col>W</th><th scope=col>OBP</th><th scope=col>SLG</th><th scope=col>BA</th><th scope=col>Playoffs</th><th scope=col>RankSeason</th><th scope=col>RankPlayoffs</th><th scope=col>G</th><th scope=col>OOBP</th><th scope=col>OSLG</th></tr>\n",
       "\t<tr><th></th><th scope=col>&lt;fct&gt;</th><th scope=col>&lt;fct&gt;</th><th scope=col>&lt;int&gt;</th><th scope=col>&lt;int&gt;</th><th scope=col>&lt;int&gt;</th><th scope=col>&lt;int&gt;</th><th scope=col>&lt;dbl&gt;</th><th scope=col>&lt;dbl&gt;</th><th scope=col>&lt;dbl&gt;</th><th scope=col>&lt;int&gt;</th><th scope=col>&lt;int&gt;</th><th scope=col>&lt;int&gt;</th><th scope=col>&lt;int&gt;</th><th scope=col>&lt;dbl&gt;</th><th scope=col>&lt;dbl&gt;</th></tr>\n",
       "</thead>\n",
       "<tbody>\n",
       "\t<tr><th scope=row>2</th><td>ATL</td><td>NL</td><td>2012</td><td>700</td><td>600</td><td>94</td><td>0.320</td><td>0.389</td><td>0.247</td><td>1</td><td>4</td><td>5</td><td>162</td><td>0.306</td><td>0.378</td></tr>\n",
       "\t<tr><th scope=row>3</th><td>BAL</td><td>AL</td><td>2012</td><td>712</td><td>705</td><td>93</td><td>0.311</td><td>0.417</td><td>0.247</td><td>1</td><td>5</td><td>4</td><td>162</td><td>0.315</td><td>0.403</td></tr>\n",
       "\t<tr><th scope=row>7</th><td>CIN</td><td>NL</td><td>2012</td><td>669</td><td>588</td><td>97</td><td>0.315</td><td>0.411</td><td>0.251</td><td>1</td><td>2</td><td>4</td><td>162</td><td>0.305</td><td>0.390</td></tr>\n",
       "\t<tr><th scope=row>10</th><td>DET</td><td>AL</td><td>2012</td><td>726</td><td>670</td><td>88</td><td>0.335</td><td>0.422</td><td>0.268</td><td>1</td><td>6</td><td>2</td><td>162</td><td>0.314</td><td>0.402</td></tr>\n",
       "\t<tr><th scope=row>19</th><td>NYY</td><td>AL</td><td>2012</td><td>804</td><td>668</td><td>95</td><td>0.337</td><td>0.453</td><td>0.265</td><td>1</td><td>3</td><td>3</td><td>162</td><td>0.311</td><td>0.419</td></tr>\n",
       "\t<tr><th scope=row>20</th><td>OAK</td><td>AL</td><td>2012</td><td>713</td><td>614</td><td>94</td><td>0.310</td><td>0.404</td><td>0.238</td><td>1</td><td>4</td><td>4</td><td>162</td><td>0.306</td><td>0.378</td></tr>\n",
       "</tbody>\n",
       "</table>\n"
      ],
      "text/latex": [
       "A data.frame: 6 × 15\n",
       "\\begin{tabular}{r|lllllllllllllll}\n",
       "  & Team & League & Year & RS & RA & W & OBP & SLG & BA & Playoffs & RankSeason & RankPlayoffs & G & OOBP & OSLG\\\\\n",
       "  & <fct> & <fct> & <int> & <int> & <int> & <int> & <dbl> & <dbl> & <dbl> & <int> & <int> & <int> & <int> & <dbl> & <dbl>\\\\\n",
       "\\hline\n",
       "\t2 & ATL & NL & 2012 & 700 & 600 & 94 & 0.320 & 0.389 & 0.247 & 1 & 4 & 5 & 162 & 0.306 & 0.378\\\\\n",
       "\t3 & BAL & AL & 2012 & 712 & 705 & 93 & 0.311 & 0.417 & 0.247 & 1 & 5 & 4 & 162 & 0.315 & 0.403\\\\\n",
       "\t7 & CIN & NL & 2012 & 669 & 588 & 97 & 0.315 & 0.411 & 0.251 & 1 & 2 & 4 & 162 & 0.305 & 0.390\\\\\n",
       "\t10 & DET & AL & 2012 & 726 & 670 & 88 & 0.335 & 0.422 & 0.268 & 1 & 6 & 2 & 162 & 0.314 & 0.402\\\\\n",
       "\t19 & NYY & AL & 2012 & 804 & 668 & 95 & 0.337 & 0.453 & 0.265 & 1 & 3 & 3 & 162 & 0.311 & 0.419\\\\\n",
       "\t20 & OAK & AL & 2012 & 713 & 614 & 94 & 0.310 & 0.404 & 0.238 & 1 & 4 & 4 & 162 & 0.306 & 0.378\\\\\n",
       "\\end{tabular}\n"
      ],
      "text/markdown": [
       "\n",
       "A data.frame: 6 × 15\n",
       "\n",
       "| <!--/--> | Team &lt;fct&gt; | League &lt;fct&gt; | Year &lt;int&gt; | RS &lt;int&gt; | RA &lt;int&gt; | W &lt;int&gt; | OBP &lt;dbl&gt; | SLG &lt;dbl&gt; | BA &lt;dbl&gt; | Playoffs &lt;int&gt; | RankSeason &lt;int&gt; | RankPlayoffs &lt;int&gt; | G &lt;int&gt; | OOBP &lt;dbl&gt; | OSLG &lt;dbl&gt; |\n",
       "|---|---|---|---|---|---|---|---|---|---|---|---|---|---|---|---|\n",
       "| 2 | ATL | NL | 2012 | 700 | 600 | 94 | 0.320 | 0.389 | 0.247 | 1 | 4 | 5 | 162 | 0.306 | 0.378 |\n",
       "| 3 | BAL | AL | 2012 | 712 | 705 | 93 | 0.311 | 0.417 | 0.247 | 1 | 5 | 4 | 162 | 0.315 | 0.403 |\n",
       "| 7 | CIN | NL | 2012 | 669 | 588 | 97 | 0.315 | 0.411 | 0.251 | 1 | 2 | 4 | 162 | 0.305 | 0.390 |\n",
       "| 10 | DET | AL | 2012 | 726 | 670 | 88 | 0.335 | 0.422 | 0.268 | 1 | 6 | 2 | 162 | 0.314 | 0.402 |\n",
       "| 19 | NYY | AL | 2012 | 804 | 668 | 95 | 0.337 | 0.453 | 0.265 | 1 | 3 | 3 | 162 | 0.311 | 0.419 |\n",
       "| 20 | OAK | AL | 2012 | 713 | 614 | 94 | 0.310 | 0.404 | 0.238 | 1 | 4 | 4 | 162 | 0.306 | 0.378 |\n",
       "\n"
      ],
      "text/plain": [
       "   Team League Year RS  RA  W  OBP   SLG   BA    Playoffs RankSeason\n",
       "2  ATL  NL     2012 700 600 94 0.320 0.389 0.247 1        4         \n",
       "3  BAL  AL     2012 712 705 93 0.311 0.417 0.247 1        5         \n",
       "7  CIN  NL     2012 669 588 97 0.315 0.411 0.251 1        2         \n",
       "10 DET  AL     2012 726 670 88 0.335 0.422 0.268 1        6         \n",
       "19 NYY  AL     2012 804 668 95 0.337 0.453 0.265 1        3         \n",
       "20 OAK  AL     2012 713 614 94 0.310 0.404 0.238 1        4         \n",
       "   RankPlayoffs G   OOBP  OSLG \n",
       "2  5            162 0.306 0.378\n",
       "3  4            162 0.315 0.403\n",
       "7  4            162 0.305 0.390\n",
       "10 2            162 0.314 0.402\n",
       "19 3            162 0.311 0.419\n",
       "20 4            162 0.306 0.378"
      ]
     },
     "metadata": {},
     "output_type": "display_data"
    }
   ],
   "source": [
    "baseball = subset(base, Playoffs == 1)\n",
    "head(baseball)"
   ]
  },
  {
   "cell_type": "code",
   "execution_count": 8,
   "metadata": {},
   "outputs": [
    {
     "data": {
      "text/html": [
       "244"
      ],
      "text/latex": [
       "244"
      ],
      "text/markdown": [
       "244"
      ],
      "text/plain": [
       "[1] 244"
      ]
     },
     "metadata": {},
     "output_type": "display_data"
    }
   ],
   "source": [
    "nrow(baseball)"
   ]
  },
  {
   "cell_type": "markdown",
   "metadata": {},
   "source": [
    "### Problem 1.4 - Limiting to Teams Making the Playoffs\n",
    "Through the years, different numbers of teams have been invited to the playoffs. Which of the following has been the number of teams making the playoffs in some season? Select all that apply."
   ]
  },
  {
   "cell_type": "code",
   "execution_count": 9,
   "metadata": {},
   "outputs": [
    {
     "data": {
      "text/plain": [
       "\n",
       "1962 1963 1964 1965 1966 1967 1968 1969 1970 1971 1973 1974 1975 1976 1977 1978 \n",
       "   2    2    2    2    2    2    2    4    4    4    4    4    4    4    4    4 \n",
       "1979 1980 1982 1983 1984 1985 1986 1987 1988 1989 1990 1991 1992 1993 1996 1997 \n",
       "   4    4    4    4    4    4    4    4    4    4    4    4    4    4    8    8 \n",
       "1998 1999 2000 2001 2002 2003 2004 2005 2006 2007 2008 2009 2010 2011 2012 \n",
       "   8    8    8    8    8    8    8    8    8    8    8    8    8    8   10 "
      ]
     },
     "metadata": {},
     "output_type": "display_data"
    }
   ],
   "source": [
    "table(baseball$Year)"
   ]
  },
  {
   "cell_type": "markdown",
   "metadata": {},
   "source": [
    "Answer: 2, 4, 8, 10."
   ]
  },
  {
   "cell_type": "markdown",
   "metadata": {},
   "source": [
    "### Problem 2.1 - Adding an Important Predictor\n",
    "It's much harder to win the World Series if there are 10 teams competing for the championship versus just two. Therefore, we will add the predictor variable NumCompetitors to the baseball data frame. NumCompetitors will contain the number of total teams making the playoffs in the year of a particular team/year pair. For instance, NumCompetitors should be 2 for the 1962 New York Yankees, but it should be 8 for the 1998 Boston Red Sox.\n",
    "\n",
    "We start by storing the output of the table() function that counts the number of playoff teams from each year:\n",
    "\n",
    "    PlayoffTable = table(baseball$Year)\n",
    "\n",
    "You can output the table with the following command:\n",
    "\n",
    "    PlayoffTable\n",
    "\n",
    "We will use this stored table to look up the number of teams in the playoffs in the year of each team/year pair.\n",
    "\n",
    "Just as we can use the names() function to get the names of a data frame's columns, we can use it to get the names of the entries in a table. What best describes the output of names(PlayoffTable)?"
   ]
  },
  {
   "cell_type": "code",
   "execution_count": 10,
   "metadata": {},
   "outputs": [
    {
     "data": {
      "text/html": [
       "<style>\n",
       ".list-inline {list-style: none; margin:0; padding: 0}\n",
       ".list-inline>li {display: inline-block}\n",
       ".list-inline>li:not(:last-child)::after {content: \"\\00b7\"; padding: 0 .5ex}\n",
       "</style>\n",
       "<ol class=list-inline><li>'1962'</li><li>'1963'</li><li>'1964'</li><li>'1965'</li><li>'1966'</li><li>'1967'</li><li>'1968'</li><li>'1969'</li><li>'1970'</li><li>'1971'</li><li>'1973'</li><li>'1974'</li><li>'1975'</li><li>'1976'</li><li>'1977'</li><li>'1978'</li><li>'1979'</li><li>'1980'</li><li>'1982'</li><li>'1983'</li><li>'1984'</li><li>'1985'</li><li>'1986'</li><li>'1987'</li><li>'1988'</li><li>'1989'</li><li>'1990'</li><li>'1991'</li><li>'1992'</li><li>'1993'</li><li>'1996'</li><li>'1997'</li><li>'1998'</li><li>'1999'</li><li>'2000'</li><li>'2001'</li><li>'2002'</li><li>'2003'</li><li>'2004'</li><li>'2005'</li><li>'2006'</li><li>'2007'</li><li>'2008'</li><li>'2009'</li><li>'2010'</li><li>'2011'</li><li>'2012'</li></ol>\n"
      ],
      "text/latex": [
       "\\begin{enumerate*}\n",
       "\\item '1962'\n",
       "\\item '1963'\n",
       "\\item '1964'\n",
       "\\item '1965'\n",
       "\\item '1966'\n",
       "\\item '1967'\n",
       "\\item '1968'\n",
       "\\item '1969'\n",
       "\\item '1970'\n",
       "\\item '1971'\n",
       "\\item '1973'\n",
       "\\item '1974'\n",
       "\\item '1975'\n",
       "\\item '1976'\n",
       "\\item '1977'\n",
       "\\item '1978'\n",
       "\\item '1979'\n",
       "\\item '1980'\n",
       "\\item '1982'\n",
       "\\item '1983'\n",
       "\\item '1984'\n",
       "\\item '1985'\n",
       "\\item '1986'\n",
       "\\item '1987'\n",
       "\\item '1988'\n",
       "\\item '1989'\n",
       "\\item '1990'\n",
       "\\item '1991'\n",
       "\\item '1992'\n",
       "\\item '1993'\n",
       "\\item '1996'\n",
       "\\item '1997'\n",
       "\\item '1998'\n",
       "\\item '1999'\n",
       "\\item '2000'\n",
       "\\item '2001'\n",
       "\\item '2002'\n",
       "\\item '2003'\n",
       "\\item '2004'\n",
       "\\item '2005'\n",
       "\\item '2006'\n",
       "\\item '2007'\n",
       "\\item '2008'\n",
       "\\item '2009'\n",
       "\\item '2010'\n",
       "\\item '2011'\n",
       "\\item '2012'\n",
       "\\end{enumerate*}\n"
      ],
      "text/markdown": [
       "1. '1962'\n",
       "2. '1963'\n",
       "3. '1964'\n",
       "4. '1965'\n",
       "5. '1966'\n",
       "6. '1967'\n",
       "7. '1968'\n",
       "8. '1969'\n",
       "9. '1970'\n",
       "10. '1971'\n",
       "11. '1973'\n",
       "12. '1974'\n",
       "13. '1975'\n",
       "14. '1976'\n",
       "15. '1977'\n",
       "16. '1978'\n",
       "17. '1979'\n",
       "18. '1980'\n",
       "19. '1982'\n",
       "20. '1983'\n",
       "21. '1984'\n",
       "22. '1985'\n",
       "23. '1986'\n",
       "24. '1987'\n",
       "25. '1988'\n",
       "26. '1989'\n",
       "27. '1990'\n",
       "28. '1991'\n",
       "29. '1992'\n",
       "30. '1993'\n",
       "31. '1996'\n",
       "32. '1997'\n",
       "33. '1998'\n",
       "34. '1999'\n",
       "35. '2000'\n",
       "36. '2001'\n",
       "37. '2002'\n",
       "38. '2003'\n",
       "39. '2004'\n",
       "40. '2005'\n",
       "41. '2006'\n",
       "42. '2007'\n",
       "43. '2008'\n",
       "44. '2009'\n",
       "45. '2010'\n",
       "46. '2011'\n",
       "47. '2012'\n",
       "\n",
       "\n"
      ],
      "text/plain": [
       " [1] \"1962\" \"1963\" \"1964\" \"1965\" \"1966\" \"1967\" \"1968\" \"1969\" \"1970\" \"1971\"\n",
       "[11] \"1973\" \"1974\" \"1975\" \"1976\" \"1977\" \"1978\" \"1979\" \"1980\" \"1982\" \"1983\"\n",
       "[21] \"1984\" \"1985\" \"1986\" \"1987\" \"1988\" \"1989\" \"1990\" \"1991\" \"1992\" \"1993\"\n",
       "[31] \"1996\" \"1997\" \"1998\" \"1999\" \"2000\" \"2001\" \"2002\" \"2003\" \"2004\" \"2005\"\n",
       "[41] \"2006\" \"2007\" \"2008\" \"2009\" \"2010\" \"2011\" \"2012\""
      ]
     },
     "metadata": {},
     "output_type": "display_data"
    }
   ],
   "source": [
    "PlayoffTable = table(baseball$Year)\n",
    "names(PlayoffTable)"
   ]
  },
  {
   "cell_type": "markdown",
   "metadata": {},
   "source": [
    "### Problem 2.2 - Adding an Important Predictor\n",
    "Given a vector of names, the table will return a vector of frequencies. Which function call returns the number of playoff teams in 1990 and 2001? (HINT: If you are not sure how these commands work, go ahead and try them out in your R console!)"
   ]
  },
  {
   "cell_type": "code",
   "execution_count": 11,
   "metadata": {},
   "outputs": [
    {
     "data": {
      "text/plain": [
       "\n",
       "1990 2001 \n",
       "   4    8 "
      ]
     },
     "metadata": {},
     "output_type": "display_data"
    }
   ],
   "source": [
    "PlayoffTable[c('1990', '2001')]"
   ]
  },
  {
   "cell_type": "markdown",
   "metadata": {},
   "source": [
    "### Problem 2.3 - Adding an Important Predictor\n",
    "Putting it all together, we want to look up the number of teams in the playoffs for each team/year pair in the dataset, and store it as a new variable named NumCompetitors in the baseball data frame. While of the following function calls accomplishes this? (HINT: Test out the functions if you are not sure what they do.)"
   ]
  },
  {
   "cell_type": "code",
   "execution_count": 12,
   "metadata": {},
   "outputs": [
    {
     "data": {
      "text/html": [
       "<table>\n",
       "<caption>A data.frame: 6 × 16</caption>\n",
       "<thead>\n",
       "\t<tr><th></th><th scope=col>Team</th><th scope=col>League</th><th scope=col>Year</th><th scope=col>RS</th><th scope=col>RA</th><th scope=col>W</th><th scope=col>OBP</th><th scope=col>SLG</th><th scope=col>BA</th><th scope=col>Playoffs</th><th scope=col>RankSeason</th><th scope=col>RankPlayoffs</th><th scope=col>G</th><th scope=col>OOBP</th><th scope=col>OSLG</th><th scope=col>NumCompetitors</th></tr>\n",
       "\t<tr><th></th><th scope=col>&lt;fct&gt;</th><th scope=col>&lt;fct&gt;</th><th scope=col>&lt;int&gt;</th><th scope=col>&lt;int&gt;</th><th scope=col>&lt;int&gt;</th><th scope=col>&lt;int&gt;</th><th scope=col>&lt;dbl&gt;</th><th scope=col>&lt;dbl&gt;</th><th scope=col>&lt;dbl&gt;</th><th scope=col>&lt;int&gt;</th><th scope=col>&lt;int&gt;</th><th scope=col>&lt;int&gt;</th><th scope=col>&lt;int&gt;</th><th scope=col>&lt;dbl&gt;</th><th scope=col>&lt;dbl&gt;</th><th scope=col>&lt;table&gt;</th></tr>\n",
       "</thead>\n",
       "<tbody>\n",
       "\t<tr><th scope=row>2</th><td>ATL</td><td>NL</td><td>2012</td><td>700</td><td>600</td><td>94</td><td>0.320</td><td>0.389</td><td>0.247</td><td>1</td><td>4</td><td>5</td><td>162</td><td>0.306</td><td>0.378</td><td>10</td></tr>\n",
       "\t<tr><th scope=row>3</th><td>BAL</td><td>AL</td><td>2012</td><td>712</td><td>705</td><td>93</td><td>0.311</td><td>0.417</td><td>0.247</td><td>1</td><td>5</td><td>4</td><td>162</td><td>0.315</td><td>0.403</td><td>10</td></tr>\n",
       "\t<tr><th scope=row>7</th><td>CIN</td><td>NL</td><td>2012</td><td>669</td><td>588</td><td>97</td><td>0.315</td><td>0.411</td><td>0.251</td><td>1</td><td>2</td><td>4</td><td>162</td><td>0.305</td><td>0.390</td><td>10</td></tr>\n",
       "\t<tr><th scope=row>10</th><td>DET</td><td>AL</td><td>2012</td><td>726</td><td>670</td><td>88</td><td>0.335</td><td>0.422</td><td>0.268</td><td>1</td><td>6</td><td>2</td><td>162</td><td>0.314</td><td>0.402</td><td>10</td></tr>\n",
       "\t<tr><th scope=row>19</th><td>NYY</td><td>AL</td><td>2012</td><td>804</td><td>668</td><td>95</td><td>0.337</td><td>0.453</td><td>0.265</td><td>1</td><td>3</td><td>3</td><td>162</td><td>0.311</td><td>0.419</td><td>10</td></tr>\n",
       "\t<tr><th scope=row>20</th><td>OAK</td><td>AL</td><td>2012</td><td>713</td><td>614</td><td>94</td><td>0.310</td><td>0.404</td><td>0.238</td><td>1</td><td>4</td><td>4</td><td>162</td><td>0.306</td><td>0.378</td><td>10</td></tr>\n",
       "</tbody>\n",
       "</table>\n"
      ],
      "text/latex": [
       "A data.frame: 6 × 16\n",
       "\\begin{tabular}{r|llllllllllllllll}\n",
       "  & Team & League & Year & RS & RA & W & OBP & SLG & BA & Playoffs & RankSeason & RankPlayoffs & G & OOBP & OSLG & NumCompetitors\\\\\n",
       "  & <fct> & <fct> & <int> & <int> & <int> & <int> & <dbl> & <dbl> & <dbl> & <int> & <int> & <int> & <int> & <dbl> & <dbl> & <table>\\\\\n",
       "\\hline\n",
       "\t2 & ATL & NL & 2012 & 700 & 600 & 94 & 0.320 & 0.389 & 0.247 & 1 & 4 & 5 & 162 & 0.306 & 0.378 & 10\\\\\n",
       "\t3 & BAL & AL & 2012 & 712 & 705 & 93 & 0.311 & 0.417 & 0.247 & 1 & 5 & 4 & 162 & 0.315 & 0.403 & 10\\\\\n",
       "\t7 & CIN & NL & 2012 & 669 & 588 & 97 & 0.315 & 0.411 & 0.251 & 1 & 2 & 4 & 162 & 0.305 & 0.390 & 10\\\\\n",
       "\t10 & DET & AL & 2012 & 726 & 670 & 88 & 0.335 & 0.422 & 0.268 & 1 & 6 & 2 & 162 & 0.314 & 0.402 & 10\\\\\n",
       "\t19 & NYY & AL & 2012 & 804 & 668 & 95 & 0.337 & 0.453 & 0.265 & 1 & 3 & 3 & 162 & 0.311 & 0.419 & 10\\\\\n",
       "\t20 & OAK & AL & 2012 & 713 & 614 & 94 & 0.310 & 0.404 & 0.238 & 1 & 4 & 4 & 162 & 0.306 & 0.378 & 10\\\\\n",
       "\\end{tabular}\n"
      ],
      "text/markdown": [
       "\n",
       "A data.frame: 6 × 16\n",
       "\n",
       "| <!--/--> | Team &lt;fct&gt; | League &lt;fct&gt; | Year &lt;int&gt; | RS &lt;int&gt; | RA &lt;int&gt; | W &lt;int&gt; | OBP &lt;dbl&gt; | SLG &lt;dbl&gt; | BA &lt;dbl&gt; | Playoffs &lt;int&gt; | RankSeason &lt;int&gt; | RankPlayoffs &lt;int&gt; | G &lt;int&gt; | OOBP &lt;dbl&gt; | OSLG &lt;dbl&gt; | NumCompetitors &lt;table&gt; |\n",
       "|---|---|---|---|---|---|---|---|---|---|---|---|---|---|---|---|---|\n",
       "| 2 | ATL | NL | 2012 | 700 | 600 | 94 | 0.320 | 0.389 | 0.247 | 1 | 4 | 5 | 162 | 0.306 | 0.378 | 10 |\n",
       "| 3 | BAL | AL | 2012 | 712 | 705 | 93 | 0.311 | 0.417 | 0.247 | 1 | 5 | 4 | 162 | 0.315 | 0.403 | 10 |\n",
       "| 7 | CIN | NL | 2012 | 669 | 588 | 97 | 0.315 | 0.411 | 0.251 | 1 | 2 | 4 | 162 | 0.305 | 0.390 | 10 |\n",
       "| 10 | DET | AL | 2012 | 726 | 670 | 88 | 0.335 | 0.422 | 0.268 | 1 | 6 | 2 | 162 | 0.314 | 0.402 | 10 |\n",
       "| 19 | NYY | AL | 2012 | 804 | 668 | 95 | 0.337 | 0.453 | 0.265 | 1 | 3 | 3 | 162 | 0.311 | 0.419 | 10 |\n",
       "| 20 | OAK | AL | 2012 | 713 | 614 | 94 | 0.310 | 0.404 | 0.238 | 1 | 4 | 4 | 162 | 0.306 | 0.378 | 10 |\n",
       "\n"
      ],
      "text/plain": [
       "   Team League Year RS  RA  W  OBP   SLG   BA    Playoffs RankSeason\n",
       "2  ATL  NL     2012 700 600 94 0.320 0.389 0.247 1        4         \n",
       "3  BAL  AL     2012 712 705 93 0.311 0.417 0.247 1        5         \n",
       "7  CIN  NL     2012 669 588 97 0.315 0.411 0.251 1        2         \n",
       "10 DET  AL     2012 726 670 88 0.335 0.422 0.268 1        6         \n",
       "19 NYY  AL     2012 804 668 95 0.337 0.453 0.265 1        3         \n",
       "20 OAK  AL     2012 713 614 94 0.310 0.404 0.238 1        4         \n",
       "   RankPlayoffs G   OOBP  OSLG  NumCompetitors\n",
       "2  5            162 0.306 0.378 10            \n",
       "3  4            162 0.315 0.403 10            \n",
       "7  4            162 0.305 0.390 10            \n",
       "10 2            162 0.314 0.402 10            \n",
       "19 3            162 0.311 0.419 10            \n",
       "20 4            162 0.306 0.378 10            "
      ]
     },
     "metadata": {},
     "output_type": "display_data"
    }
   ],
   "source": [
    "baseball$NumCompetitors = PlayoffTable[as.character(baseball$Year)]\n",
    "head(baseball)"
   ]
  },
  {
   "cell_type": "markdown",
   "metadata": {},
   "source": [
    "### Problem 2.4 - Adding an Important Predictor\n",
    "Add the NumCompetitors variable to your baseball data frame. How many playoff team/year pairs are there in our dataset from years where 8 teams were invited to the playoffs?"
   ]
  },
  {
   "cell_type": "code",
   "execution_count": 13,
   "metadata": {},
   "outputs": [
    {
     "data": {
      "text/html": [
       "<table>\n",
       "<caption>A data.frame: 6 × 16</caption>\n",
       "<thead>\n",
       "\t<tr><th></th><th scope=col>Team</th><th scope=col>League</th><th scope=col>Year</th><th scope=col>RS</th><th scope=col>RA</th><th scope=col>W</th><th scope=col>OBP</th><th scope=col>SLG</th><th scope=col>BA</th><th scope=col>Playoffs</th><th scope=col>RankSeason</th><th scope=col>RankPlayoffs</th><th scope=col>G</th><th scope=col>OOBP</th><th scope=col>OSLG</th><th scope=col>NumCompetitors</th></tr>\n",
       "\t<tr><th></th><th scope=col>&lt;fct&gt;</th><th scope=col>&lt;fct&gt;</th><th scope=col>&lt;int&gt;</th><th scope=col>&lt;int&gt;</th><th scope=col>&lt;int&gt;</th><th scope=col>&lt;int&gt;</th><th scope=col>&lt;dbl&gt;</th><th scope=col>&lt;dbl&gt;</th><th scope=col>&lt;dbl&gt;</th><th scope=col>&lt;int&gt;</th><th scope=col>&lt;int&gt;</th><th scope=col>&lt;int&gt;</th><th scope=col>&lt;int&gt;</th><th scope=col>&lt;dbl&gt;</th><th scope=col>&lt;dbl&gt;</th><th scope=col>&lt;table&gt;</th></tr>\n",
       "</thead>\n",
       "<tbody>\n",
       "\t<tr><th scope=row>31</th><td>ARI</td><td>NL</td><td>2011</td><td>731</td><td>662</td><td> 94</td><td>0.322</td><td>0.413</td><td>0.250</td><td>1</td><td>5</td><td>4</td><td>162</td><td>0.316</td><td>0.409</td><td>8</td></tr>\n",
       "\t<tr><th scope=row>40</th><td>DET</td><td>AL</td><td>2011</td><td>787</td><td>711</td><td> 95</td><td>0.340</td><td>0.434</td><td>0.277</td><td>1</td><td>4</td><td>3</td><td>162</td><td>0.321</td><td>0.396</td><td>8</td></tr>\n",
       "\t<tr><th scope=row>46</th><td>MIL</td><td>NL</td><td>2011</td><td>721</td><td>638</td><td> 96</td><td>0.325</td><td>0.425</td><td>0.261</td><td>1</td><td>3</td><td>3</td><td>162</td><td>0.304</td><td>0.385</td><td>8</td></tr>\n",
       "\t<tr><th scope=row>49</th><td>NYY</td><td>AL</td><td>2011</td><td>867</td><td>657</td><td> 97</td><td>0.343</td><td>0.444</td><td>0.263</td><td>1</td><td>2</td><td>4</td><td>162</td><td>0.322</td><td>0.399</td><td>8</td></tr>\n",
       "\t<tr><th scope=row>51</th><td>PHI</td><td>NL</td><td>2011</td><td>713</td><td>529</td><td>102</td><td>0.323</td><td>0.395</td><td>0.253</td><td>1</td><td>1</td><td>4</td><td>162</td><td>0.296</td><td>0.361</td><td>8</td></tr>\n",
       "\t<tr><th scope=row>56</th><td>STL</td><td>NL</td><td>2011</td><td>762</td><td>692</td><td> 90</td><td>0.341</td><td>0.425</td><td>0.273</td><td>1</td><td>7</td><td>1</td><td>162</td><td>0.319</td><td>0.398</td><td>8</td></tr>\n",
       "</tbody>\n",
       "</table>\n"
      ],
      "text/latex": [
       "A data.frame: 6 × 16\n",
       "\\begin{tabular}{r|llllllllllllllll}\n",
       "  & Team & League & Year & RS & RA & W & OBP & SLG & BA & Playoffs & RankSeason & RankPlayoffs & G & OOBP & OSLG & NumCompetitors\\\\\n",
       "  & <fct> & <fct> & <int> & <int> & <int> & <int> & <dbl> & <dbl> & <dbl> & <int> & <int> & <int> & <int> & <dbl> & <dbl> & <table>\\\\\n",
       "\\hline\n",
       "\t31 & ARI & NL & 2011 & 731 & 662 &  94 & 0.322 & 0.413 & 0.250 & 1 & 5 & 4 & 162 & 0.316 & 0.409 & 8\\\\\n",
       "\t40 & DET & AL & 2011 & 787 & 711 &  95 & 0.340 & 0.434 & 0.277 & 1 & 4 & 3 & 162 & 0.321 & 0.396 & 8\\\\\n",
       "\t46 & MIL & NL & 2011 & 721 & 638 &  96 & 0.325 & 0.425 & 0.261 & 1 & 3 & 3 & 162 & 0.304 & 0.385 & 8\\\\\n",
       "\t49 & NYY & AL & 2011 & 867 & 657 &  97 & 0.343 & 0.444 & 0.263 & 1 & 2 & 4 & 162 & 0.322 & 0.399 & 8\\\\\n",
       "\t51 & PHI & NL & 2011 & 713 & 529 & 102 & 0.323 & 0.395 & 0.253 & 1 & 1 & 4 & 162 & 0.296 & 0.361 & 8\\\\\n",
       "\t56 & STL & NL & 2011 & 762 & 692 &  90 & 0.341 & 0.425 & 0.273 & 1 & 7 & 1 & 162 & 0.319 & 0.398 & 8\\\\\n",
       "\\end{tabular}\n"
      ],
      "text/markdown": [
       "\n",
       "A data.frame: 6 × 16\n",
       "\n",
       "| <!--/--> | Team &lt;fct&gt; | League &lt;fct&gt; | Year &lt;int&gt; | RS &lt;int&gt; | RA &lt;int&gt; | W &lt;int&gt; | OBP &lt;dbl&gt; | SLG &lt;dbl&gt; | BA &lt;dbl&gt; | Playoffs &lt;int&gt; | RankSeason &lt;int&gt; | RankPlayoffs &lt;int&gt; | G &lt;int&gt; | OOBP &lt;dbl&gt; | OSLG &lt;dbl&gt; | NumCompetitors &lt;table&gt; |\n",
       "|---|---|---|---|---|---|---|---|---|---|---|---|---|---|---|---|---|\n",
       "| 31 | ARI | NL | 2011 | 731 | 662 |  94 | 0.322 | 0.413 | 0.250 | 1 | 5 | 4 | 162 | 0.316 | 0.409 | 8 |\n",
       "| 40 | DET | AL | 2011 | 787 | 711 |  95 | 0.340 | 0.434 | 0.277 | 1 | 4 | 3 | 162 | 0.321 | 0.396 | 8 |\n",
       "| 46 | MIL | NL | 2011 | 721 | 638 |  96 | 0.325 | 0.425 | 0.261 | 1 | 3 | 3 | 162 | 0.304 | 0.385 | 8 |\n",
       "| 49 | NYY | AL | 2011 | 867 | 657 |  97 | 0.343 | 0.444 | 0.263 | 1 | 2 | 4 | 162 | 0.322 | 0.399 | 8 |\n",
       "| 51 | PHI | NL | 2011 | 713 | 529 | 102 | 0.323 | 0.395 | 0.253 | 1 | 1 | 4 | 162 | 0.296 | 0.361 | 8 |\n",
       "| 56 | STL | NL | 2011 | 762 | 692 |  90 | 0.341 | 0.425 | 0.273 | 1 | 7 | 1 | 162 | 0.319 | 0.398 | 8 |\n",
       "\n"
      ],
      "text/plain": [
       "   Team League Year RS  RA  W   OBP   SLG   BA    Playoffs RankSeason\n",
       "31 ARI  NL     2011 731 662  94 0.322 0.413 0.250 1        5         \n",
       "40 DET  AL     2011 787 711  95 0.340 0.434 0.277 1        4         \n",
       "46 MIL  NL     2011 721 638  96 0.325 0.425 0.261 1        3         \n",
       "49 NYY  AL     2011 867 657  97 0.343 0.444 0.263 1        2         \n",
       "51 PHI  NL     2011 713 529 102 0.323 0.395 0.253 1        1         \n",
       "56 STL  NL     2011 762 692  90 0.341 0.425 0.273 1        7         \n",
       "   RankPlayoffs G   OOBP  OSLG  NumCompetitors\n",
       "31 4            162 0.316 0.409 8             \n",
       "40 3            162 0.321 0.396 8             \n",
       "46 3            162 0.304 0.385 8             \n",
       "49 4            162 0.322 0.399 8             \n",
       "51 4            162 0.296 0.361 8             \n",
       "56 1            162 0.319 0.398 8             "
      ]
     },
     "metadata": {},
     "output_type": "display_data"
    }
   ],
   "source": [
    "eightteamsplayoff = subset(baseball, NumCompetitors==8)\n",
    "head(eightteamsplayoff)"
   ]
  },
  {
   "cell_type": "code",
   "execution_count": 14,
   "metadata": {},
   "outputs": [
    {
     "data": {
      "text/html": [
       "128"
      ],
      "text/latex": [
       "128"
      ],
      "text/markdown": [
       "128"
      ],
      "text/plain": [
       "[1] 128"
      ]
     },
     "metadata": {},
     "output_type": "display_data"
    }
   ],
   "source": [
    "nrow(eightteamsplayoff)"
   ]
  },
  {
   "cell_type": "markdown",
   "metadata": {},
   "source": [
    "### Problem 3.1 - Bivariate Models for Predicting World Series Winner\n",
    "In this problem, we seek to predict whether a team won the World Series; in our dataset this is denoted with a RankPlayoffs value of 1. Add a variable named WorldSeries to the baseball data frame, by typing the following command in your R console:\n",
    "\n",
    "    baseball\\\\$WorldSeries = as.numeric(baseball$RankPlayoffs == 1)\n",
    "\n",
    "WorldSeries takes value 1 if a team won the World Series in the indicated year and a 0 otherwise. How many observations do we have in our dataset where a team did NOT win the World Series?"
   ]
  },
  {
   "cell_type": "code",
   "execution_count": 15,
   "metadata": {},
   "outputs": [
    {
     "data": {
      "text/html": [
       "<table>\n",
       "<caption>A data.frame: 6 × 17</caption>\n",
       "<thead>\n",
       "\t<tr><th></th><th scope=col>Team</th><th scope=col>League</th><th scope=col>Year</th><th scope=col>RS</th><th scope=col>RA</th><th scope=col>W</th><th scope=col>OBP</th><th scope=col>SLG</th><th scope=col>BA</th><th scope=col>Playoffs</th><th scope=col>RankSeason</th><th scope=col>RankPlayoffs</th><th scope=col>G</th><th scope=col>OOBP</th><th scope=col>OSLG</th><th scope=col>NumCompetitors</th><th scope=col>WorldSeries</th></tr>\n",
       "\t<tr><th></th><th scope=col>&lt;fct&gt;</th><th scope=col>&lt;fct&gt;</th><th scope=col>&lt;int&gt;</th><th scope=col>&lt;int&gt;</th><th scope=col>&lt;int&gt;</th><th scope=col>&lt;int&gt;</th><th scope=col>&lt;dbl&gt;</th><th scope=col>&lt;dbl&gt;</th><th scope=col>&lt;dbl&gt;</th><th scope=col>&lt;int&gt;</th><th scope=col>&lt;int&gt;</th><th scope=col>&lt;int&gt;</th><th scope=col>&lt;int&gt;</th><th scope=col>&lt;dbl&gt;</th><th scope=col>&lt;dbl&gt;</th><th scope=col>&lt;table&gt;</th><th scope=col>&lt;dbl&gt;</th></tr>\n",
       "</thead>\n",
       "<tbody>\n",
       "\t<tr><th scope=row>2</th><td>ATL</td><td>NL</td><td>2012</td><td>700</td><td>600</td><td>94</td><td>0.320</td><td>0.389</td><td>0.247</td><td>1</td><td>4</td><td>5</td><td>162</td><td>0.306</td><td>0.378</td><td>10</td><td>0</td></tr>\n",
       "\t<tr><th scope=row>3</th><td>BAL</td><td>AL</td><td>2012</td><td>712</td><td>705</td><td>93</td><td>0.311</td><td>0.417</td><td>0.247</td><td>1</td><td>5</td><td>4</td><td>162</td><td>0.315</td><td>0.403</td><td>10</td><td>0</td></tr>\n",
       "\t<tr><th scope=row>7</th><td>CIN</td><td>NL</td><td>2012</td><td>669</td><td>588</td><td>97</td><td>0.315</td><td>0.411</td><td>0.251</td><td>1</td><td>2</td><td>4</td><td>162</td><td>0.305</td><td>0.390</td><td>10</td><td>0</td></tr>\n",
       "\t<tr><th scope=row>10</th><td>DET</td><td>AL</td><td>2012</td><td>726</td><td>670</td><td>88</td><td>0.335</td><td>0.422</td><td>0.268</td><td>1</td><td>6</td><td>2</td><td>162</td><td>0.314</td><td>0.402</td><td>10</td><td>0</td></tr>\n",
       "\t<tr><th scope=row>19</th><td>NYY</td><td>AL</td><td>2012</td><td>804</td><td>668</td><td>95</td><td>0.337</td><td>0.453</td><td>0.265</td><td>1</td><td>3</td><td>3</td><td>162</td><td>0.311</td><td>0.419</td><td>10</td><td>0</td></tr>\n",
       "\t<tr><th scope=row>20</th><td>OAK</td><td>AL</td><td>2012</td><td>713</td><td>614</td><td>94</td><td>0.310</td><td>0.404</td><td>0.238</td><td>1</td><td>4</td><td>4</td><td>162</td><td>0.306</td><td>0.378</td><td>10</td><td>0</td></tr>\n",
       "</tbody>\n",
       "</table>\n"
      ],
      "text/latex": [
       "A data.frame: 6 × 17\n",
       "\\begin{tabular}{r|lllllllllllllllll}\n",
       "  & Team & League & Year & RS & RA & W & OBP & SLG & BA & Playoffs & RankSeason & RankPlayoffs & G & OOBP & OSLG & NumCompetitors & WorldSeries\\\\\n",
       "  & <fct> & <fct> & <int> & <int> & <int> & <int> & <dbl> & <dbl> & <dbl> & <int> & <int> & <int> & <int> & <dbl> & <dbl> & <table> & <dbl>\\\\\n",
       "\\hline\n",
       "\t2 & ATL & NL & 2012 & 700 & 600 & 94 & 0.320 & 0.389 & 0.247 & 1 & 4 & 5 & 162 & 0.306 & 0.378 & 10 & 0\\\\\n",
       "\t3 & BAL & AL & 2012 & 712 & 705 & 93 & 0.311 & 0.417 & 0.247 & 1 & 5 & 4 & 162 & 0.315 & 0.403 & 10 & 0\\\\\n",
       "\t7 & CIN & NL & 2012 & 669 & 588 & 97 & 0.315 & 0.411 & 0.251 & 1 & 2 & 4 & 162 & 0.305 & 0.390 & 10 & 0\\\\\n",
       "\t10 & DET & AL & 2012 & 726 & 670 & 88 & 0.335 & 0.422 & 0.268 & 1 & 6 & 2 & 162 & 0.314 & 0.402 & 10 & 0\\\\\n",
       "\t19 & NYY & AL & 2012 & 804 & 668 & 95 & 0.337 & 0.453 & 0.265 & 1 & 3 & 3 & 162 & 0.311 & 0.419 & 10 & 0\\\\\n",
       "\t20 & OAK & AL & 2012 & 713 & 614 & 94 & 0.310 & 0.404 & 0.238 & 1 & 4 & 4 & 162 & 0.306 & 0.378 & 10 & 0\\\\\n",
       "\\end{tabular}\n"
      ],
      "text/markdown": [
       "\n",
       "A data.frame: 6 × 17\n",
       "\n",
       "| <!--/--> | Team &lt;fct&gt; | League &lt;fct&gt; | Year &lt;int&gt; | RS &lt;int&gt; | RA &lt;int&gt; | W &lt;int&gt; | OBP &lt;dbl&gt; | SLG &lt;dbl&gt; | BA &lt;dbl&gt; | Playoffs &lt;int&gt; | RankSeason &lt;int&gt; | RankPlayoffs &lt;int&gt; | G &lt;int&gt; | OOBP &lt;dbl&gt; | OSLG &lt;dbl&gt; | NumCompetitors &lt;table&gt; | WorldSeries &lt;dbl&gt; |\n",
       "|---|---|---|---|---|---|---|---|---|---|---|---|---|---|---|---|---|---|\n",
       "| 2 | ATL | NL | 2012 | 700 | 600 | 94 | 0.320 | 0.389 | 0.247 | 1 | 4 | 5 | 162 | 0.306 | 0.378 | 10 | 0 |\n",
       "| 3 | BAL | AL | 2012 | 712 | 705 | 93 | 0.311 | 0.417 | 0.247 | 1 | 5 | 4 | 162 | 0.315 | 0.403 | 10 | 0 |\n",
       "| 7 | CIN | NL | 2012 | 669 | 588 | 97 | 0.315 | 0.411 | 0.251 | 1 | 2 | 4 | 162 | 0.305 | 0.390 | 10 | 0 |\n",
       "| 10 | DET | AL | 2012 | 726 | 670 | 88 | 0.335 | 0.422 | 0.268 | 1 | 6 | 2 | 162 | 0.314 | 0.402 | 10 | 0 |\n",
       "| 19 | NYY | AL | 2012 | 804 | 668 | 95 | 0.337 | 0.453 | 0.265 | 1 | 3 | 3 | 162 | 0.311 | 0.419 | 10 | 0 |\n",
       "| 20 | OAK | AL | 2012 | 713 | 614 | 94 | 0.310 | 0.404 | 0.238 | 1 | 4 | 4 | 162 | 0.306 | 0.378 | 10 | 0 |\n",
       "\n"
      ],
      "text/plain": [
       "   Team League Year RS  RA  W  OBP   SLG   BA    Playoffs RankSeason\n",
       "2  ATL  NL     2012 700 600 94 0.320 0.389 0.247 1        4         \n",
       "3  BAL  AL     2012 712 705 93 0.311 0.417 0.247 1        5         \n",
       "7  CIN  NL     2012 669 588 97 0.315 0.411 0.251 1        2         \n",
       "10 DET  AL     2012 726 670 88 0.335 0.422 0.268 1        6         \n",
       "19 NYY  AL     2012 804 668 95 0.337 0.453 0.265 1        3         \n",
       "20 OAK  AL     2012 713 614 94 0.310 0.404 0.238 1        4         \n",
       "   RankPlayoffs G   OOBP  OSLG  NumCompetitors WorldSeries\n",
       "2  5            162 0.306 0.378 10             0          \n",
       "3  4            162 0.315 0.403 10             0          \n",
       "7  4            162 0.305 0.390 10             0          \n",
       "10 2            162 0.314 0.402 10             0          \n",
       "19 3            162 0.311 0.419 10             0          \n",
       "20 4            162 0.306 0.378 10             0          "
      ]
     },
     "metadata": {},
     "output_type": "display_data"
    }
   ],
   "source": [
    "baseball$WorldSeries = as.numeric(baseball$RankPlayoffs == 1)\n",
    "head(baseball)"
   ]
  },
  {
   "cell_type": "code",
   "execution_count": 16,
   "metadata": {},
   "outputs": [
    {
     "data": {
      "text/html": [
       "197"
      ],
      "text/latex": [
       "197"
      ],
      "text/markdown": [
       "197"
      ],
      "text/plain": [
       "[1] 197"
      ]
     },
     "metadata": {},
     "output_type": "display_data"
    }
   ],
   "source": [
    "nrow(subset(baseball, WorldSeries==0))"
   ]
  },
  {
   "cell_type": "markdown",
   "metadata": {},
   "source": [
    "### Problem 3.2 - Bivariate Models for Predicting World Series Winner\n",
    "When we're not sure which of our variables are useful in predicting a particular outcome, it's often helpful to build bivariate models, which are models that predict the outcome using a single independent variable. Which of the following variables is a significant predictor of the WorldSeries variable in a bivariate logistic regression model? To determine significance, remember to look at the stars in the summary output of the model. We'll define an independent variable as significant if there is at least one star at the end of the coefficients row for that variable (this is equivalent to the probability column having a value smaller than 0.05). Note that you have to build 12 models to answer this question! Use the entire dataset baseball to build the models."
   ]
  },
  {
   "cell_type": "code",
   "execution_count": 17,
   "metadata": {},
   "outputs": [
    {
     "data": {
      "text/plain": [
       "\n",
       "Call:\n",
       "glm(formula = WorldSeries ~ Year, family = \"binomial\", data = baseball)\n",
       "\n",
       "Deviance Residuals: \n",
       "    Min       1Q   Median       3Q      Max  \n",
       "-1.0297  -0.6797  -0.5435  -0.4648   2.1504  \n",
       "\n",
       "Coefficients:\n",
       "            Estimate Std. Error z value Pr(>|z|)   \n",
       "(Intercept) 72.23602   22.64409    3.19  0.00142 **\n",
       "Year        -0.03700    0.01138   -3.25  0.00115 **\n",
       "---\n",
       "Signif. codes:  0 '***' 0.001 '**' 0.01 '*' 0.05 '.' 0.1 ' ' 1\n",
       "\n",
       "(Dispersion parameter for binomial family taken to be 1)\n",
       "\n",
       "    Null deviance: 239.12  on 243  degrees of freedom\n",
       "Residual deviance: 228.35  on 242  degrees of freedom\n",
       "AIC: 232.35\n",
       "\n",
       "Number of Fisher Scoring iterations: 4\n"
      ]
     },
     "metadata": {},
     "output_type": "display_data"
    }
   ],
   "source": [
    "model1 = glm(WorldSeries~Year, data=baseball, family=\"binomial\")\n",
    "summary(model1)"
   ]
  },
  {
   "cell_type": "code",
   "execution_count": 18,
   "metadata": {},
   "outputs": [
    {
     "data": {
      "text/plain": [
       "\n",
       "Call:\n",
       "glm(formula = WorldSeries ~ RS, family = \"binomial\", data = baseball)\n",
       "\n",
       "Deviance Residuals: \n",
       "    Min       1Q   Median       3Q      Max  \n",
       "-0.8254  -0.6819  -0.6363  -0.5561   2.0308  \n",
       "\n",
       "Coefficients:\n",
       "             Estimate Std. Error z value Pr(>|z|)\n",
       "(Intercept)  0.661226   1.636494   0.404    0.686\n",
       "RS          -0.002681   0.002098  -1.278    0.201\n",
       "\n",
       "(Dispersion parameter for binomial family taken to be 1)\n",
       "\n",
       "    Null deviance: 239.12  on 243  degrees of freedom\n",
       "Residual deviance: 237.45  on 242  degrees of freedom\n",
       "AIC: 241.45\n",
       "\n",
       "Number of Fisher Scoring iterations: 4\n"
      ]
     },
     "metadata": {},
     "output_type": "display_data"
    }
   ],
   "source": [
    "model2 = glm(WorldSeries~RS, data=baseball, family=\"binomial\")\n",
    "summary(model2)"
   ]
  },
  {
   "cell_type": "code",
   "execution_count": 19,
   "metadata": {},
   "outputs": [
    {
     "data": {
      "text/plain": [
       "\n",
       "Call:\n",
       "glm(formula = WorldSeries ~ RA, family = \"binomial\", data = baseball)\n",
       "\n",
       "Deviance Residuals: \n",
       "    Min       1Q   Median       3Q      Max  \n",
       "-0.9749  -0.6883  -0.6118  -0.4746   2.1577  \n",
       "\n",
       "Coefficients:\n",
       "             Estimate Std. Error z value Pr(>|z|)  \n",
       "(Intercept)  1.888174   1.483831   1.272   0.2032  \n",
       "RA          -0.005053   0.002273  -2.223   0.0262 *\n",
       "---\n",
       "Signif. codes:  0 '***' 0.001 '**' 0.01 '*' 0.05 '.' 0.1 ' ' 1\n",
       "\n",
       "(Dispersion parameter for binomial family taken to be 1)\n",
       "\n",
       "    Null deviance: 239.12  on 243  degrees of freedom\n",
       "Residual deviance: 233.88  on 242  degrees of freedom\n",
       "AIC: 237.88\n",
       "\n",
       "Number of Fisher Scoring iterations: 4\n"
      ]
     },
     "metadata": {},
     "output_type": "display_data"
    }
   ],
   "source": [
    "model3 = glm(WorldSeries~RA, data=baseball, family=\"binomial\")\n",
    "summary(model3)"
   ]
  },
  {
   "cell_type": "code",
   "execution_count": 20,
   "metadata": {},
   "outputs": [
    {
     "data": {
      "text/plain": [
       "\n",
       "Call:\n",
       "glm(formula = WorldSeries ~ W, family = \"binomial\", data = baseball)\n",
       "\n",
       "Deviance Residuals: \n",
       "    Min       1Q   Median       3Q      Max  \n",
       "-1.0623  -0.6777  -0.6117  -0.5367   2.1254  \n",
       "\n",
       "Coefficients:\n",
       "            Estimate Std. Error z value Pr(>|z|)  \n",
       "(Intercept) -6.85568    2.87620  -2.384   0.0171 *\n",
       "W            0.05671    0.02988   1.898   0.0577 .\n",
       "---\n",
       "Signif. codes:  0 '***' 0.001 '**' 0.01 '*' 0.05 '.' 0.1 ' ' 1\n",
       "\n",
       "(Dispersion parameter for binomial family taken to be 1)\n",
       "\n",
       "    Null deviance: 239.12  on 243  degrees of freedom\n",
       "Residual deviance: 235.51  on 242  degrees of freedom\n",
       "AIC: 239.51\n",
       "\n",
       "Number of Fisher Scoring iterations: 4\n"
      ]
     },
     "metadata": {},
     "output_type": "display_data"
    }
   ],
   "source": [
    "model4 = glm(WorldSeries~W, data=baseball, family=\"binomial\")\n",
    "summary(model4)"
   ]
  },
  {
   "cell_type": "code",
   "execution_count": 21,
   "metadata": {},
   "outputs": [
    {
     "data": {
      "text/plain": [
       "\n",
       "Call:\n",
       "glm(formula = WorldSeries ~ OBP, family = \"binomial\", data = baseball)\n",
       "\n",
       "Deviance Residuals: \n",
       "    Min       1Q   Median       3Q      Max  \n",
       "-0.8071  -0.6749  -0.6365  -0.5797   1.9753  \n",
       "\n",
       "Coefficients:\n",
       "            Estimate Std. Error z value Pr(>|z|)\n",
       "(Intercept)    2.741      3.989   0.687    0.492\n",
       "OBP          -12.402     11.865  -1.045    0.296\n",
       "\n",
       "(Dispersion parameter for binomial family taken to be 1)\n",
       "\n",
       "    Null deviance: 239.12  on 243  degrees of freedom\n",
       "Residual deviance: 238.02  on 242  degrees of freedom\n",
       "AIC: 242.02\n",
       "\n",
       "Number of Fisher Scoring iterations: 4\n"
      ]
     },
     "metadata": {},
     "output_type": "display_data"
    }
   ],
   "source": [
    "model5 = glm(WorldSeries~OBP, data=baseball, family=\"binomial\")\n",
    "summary(model5)"
   ]
  },
  {
   "cell_type": "code",
   "execution_count": 22,
   "metadata": {},
   "outputs": [
    {
     "data": {
      "text/plain": [
       "\n",
       "Call:\n",
       "glm(formula = WorldSeries ~ SLG, family = \"binomial\", data = baseball)\n",
       "\n",
       "Deviance Residuals: \n",
       "    Min       1Q   Median       3Q      Max  \n",
       "-0.9498  -0.6953  -0.6088  -0.5197   2.1136  \n",
       "\n",
       "Coefficients:\n",
       "            Estimate Std. Error z value Pr(>|z|)  \n",
       "(Intercept)    3.200      2.358   1.357   0.1748  \n",
       "SLG          -11.130      5.689  -1.956   0.0504 .\n",
       "---\n",
       "Signif. codes:  0 '***' 0.001 '**' 0.01 '*' 0.05 '.' 0.1 ' ' 1\n",
       "\n",
       "(Dispersion parameter for binomial family taken to be 1)\n",
       "\n",
       "    Null deviance: 239.12  on 243  degrees of freedom\n",
       "Residual deviance: 235.23  on 242  degrees of freedom\n",
       "AIC: 239.23\n",
       "\n",
       "Number of Fisher Scoring iterations: 4\n"
      ]
     },
     "metadata": {},
     "output_type": "display_data"
    }
   ],
   "source": [
    "model6 = glm(WorldSeries~SLG, data=baseball, family=\"binomial\")\n",
    "summary(model6)"
   ]
  },
  {
   "cell_type": "code",
   "execution_count": 23,
   "metadata": {},
   "outputs": [
    {
     "data": {
      "text/plain": [
       "\n",
       "Call:\n",
       "glm(formula = WorldSeries ~ BA, family = \"binomial\", data = baseball)\n",
       "\n",
       "Deviance Residuals: \n",
       "    Min       1Q   Median       3Q      Max  \n",
       "-0.6797  -0.6592  -0.6513  -0.6389   1.8431  \n",
       "\n",
       "Coefficients:\n",
       "            Estimate Std. Error z value Pr(>|z|)\n",
       "(Intercept)  -0.6392     3.8988  -0.164    0.870\n",
       "BA           -2.9765    14.6123  -0.204    0.839\n",
       "\n",
       "(Dispersion parameter for binomial family taken to be 1)\n",
       "\n",
       "    Null deviance: 239.12  on 243  degrees of freedom\n",
       "Residual deviance: 239.08  on 242  degrees of freedom\n",
       "AIC: 243.08\n",
       "\n",
       "Number of Fisher Scoring iterations: 4\n"
      ]
     },
     "metadata": {},
     "output_type": "display_data"
    }
   ],
   "source": [
    "model7 = glm(WorldSeries~BA, data=baseball, family=\"binomial\")\n",
    "summary(model7)"
   ]
  },
  {
   "cell_type": "code",
   "execution_count": 24,
   "metadata": {},
   "outputs": [
    {
     "data": {
      "text/plain": [
       "\n",
       "Call:\n",
       "glm(formula = WorldSeries ~ RankSeason, family = \"binomial\", \n",
       "    data = baseball)\n",
       "\n",
       "Deviance Residuals: \n",
       "    Min       1Q   Median       3Q      Max  \n",
       "-0.7805  -0.7131  -0.5918  -0.4882   2.1781  \n",
       "\n",
       "Coefficients:\n",
       "            Estimate Std. Error z value Pr(>|z|)  \n",
       "(Intercept)  -0.8256     0.3268  -2.527   0.0115 *\n",
       "RankSeason   -0.2069     0.1027  -2.016   0.0438 *\n",
       "---\n",
       "Signif. codes:  0 '***' 0.001 '**' 0.01 '*' 0.05 '.' 0.1 ' ' 1\n",
       "\n",
       "(Dispersion parameter for binomial family taken to be 1)\n",
       "\n",
       "    Null deviance: 239.12  on 243  degrees of freedom\n",
       "Residual deviance: 234.75  on 242  degrees of freedom\n",
       "AIC: 238.75\n",
       "\n",
       "Number of Fisher Scoring iterations: 4\n"
      ]
     },
     "metadata": {},
     "output_type": "display_data"
    }
   ],
   "source": [
    "model8 = glm(WorldSeries~RankSeason, data=baseball, family=\"binomial\")\n",
    "summary(model8)"
   ]
  },
  {
   "cell_type": "code",
   "execution_count": 25,
   "metadata": {},
   "outputs": [
    {
     "data": {
      "text/plain": [
       "\n",
       "Call:\n",
       "glm(formula = WorldSeries ~ OOBP, family = \"binomial\", data = baseball)\n",
       "\n",
       "Deviance Residuals: \n",
       "    Min       1Q   Median       3Q      Max  \n",
       "-0.5318  -0.5176  -0.5106  -0.5023   2.0697  \n",
       "\n",
       "Coefficients:\n",
       "            Estimate Std. Error z value Pr(>|z|)\n",
       "(Intercept)  -0.9306     8.3728  -0.111    0.912\n",
       "OOBP         -3.2233    26.0587  -0.124    0.902\n",
       "\n",
       "(Dispersion parameter for binomial family taken to be 1)\n",
       "\n",
       "    Null deviance: 84.926  on 113  degrees of freedom\n",
       "Residual deviance: 84.910  on 112  degrees of freedom\n",
       "  (130 observations deleted due to missingness)\n",
       "AIC: 88.91\n",
       "\n",
       "Number of Fisher Scoring iterations: 4\n"
      ]
     },
     "metadata": {},
     "output_type": "display_data"
    }
   ],
   "source": [
    "model9 = glm(WorldSeries~OOBP, data=baseball, family=\"binomial\")\n",
    "summary(model9)"
   ]
  },
  {
   "cell_type": "code",
   "execution_count": 26,
   "metadata": {},
   "outputs": [
    {
     "data": {
      "text/plain": [
       "\n",
       "Call:\n",
       "glm(formula = WorldSeries ~ OSLG, family = \"binomial\", data = baseball)\n",
       "\n",
       "Deviance Residuals: \n",
       "    Min       1Q   Median       3Q      Max  \n",
       "-0.5610  -0.5209  -0.5088  -0.4902   2.1268  \n",
       "\n",
       "Coefficients:\n",
       "            Estimate Std. Error z value Pr(>|z|)\n",
       "(Intercept) -0.08725    6.07285  -0.014    0.989\n",
       "OSLG        -4.65992   15.06881  -0.309    0.757\n",
       "\n",
       "(Dispersion parameter for binomial family taken to be 1)\n",
       "\n",
       "    Null deviance: 84.926  on 113  degrees of freedom\n",
       "Residual deviance: 84.830  on 112  degrees of freedom\n",
       "  (130 observations deleted due to missingness)\n",
       "AIC: 88.83\n",
       "\n",
       "Number of Fisher Scoring iterations: 4\n"
      ]
     },
     "metadata": {},
     "output_type": "display_data"
    }
   ],
   "source": [
    "model10 = glm(WorldSeries~OSLG, data=baseball, family=\"binomial\")\n",
    "summary(model10)"
   ]
  },
  {
   "cell_type": "code",
   "execution_count": 27,
   "metadata": {},
   "outputs": [
    {
     "data": {
      "text/plain": [
       "\n",
       "Call:\n",
       "glm(formula = WorldSeries ~ NumCompetitors, family = \"binomial\", \n",
       "    data = baseball)\n",
       "\n",
       "Deviance Residuals: \n",
       "    Min       1Q   Median       3Q      Max  \n",
       "-0.9871  -0.8017  -0.5089  -0.5089   2.2643  \n",
       "\n",
       "Coefficients:\n",
       "               Estimate Std. Error z value Pr(>|z|)    \n",
       "(Intercept)     0.03868    0.43750   0.088 0.929559    \n",
       "NumCompetitors -0.25220    0.07422  -3.398 0.000678 ***\n",
       "---\n",
       "Signif. codes:  0 '***' 0.001 '**' 0.01 '*' 0.05 '.' 0.1 ' ' 1\n",
       "\n",
       "(Dispersion parameter for binomial family taken to be 1)\n",
       "\n",
       "    Null deviance: 239.12  on 243  degrees of freedom\n",
       "Residual deviance: 226.96  on 242  degrees of freedom\n",
       "AIC: 230.96\n",
       "\n",
       "Number of Fisher Scoring iterations: 4\n"
      ]
     },
     "metadata": {},
     "output_type": "display_data"
    }
   ],
   "source": [
    "model11 = glm(WorldSeries~NumCompetitors, data=baseball, family=\"binomial\")\n",
    "summary(model11)"
   ]
  },
  {
   "cell_type": "code",
   "execution_count": 28,
   "metadata": {},
   "outputs": [
    {
     "data": {
      "text/plain": [
       "\n",
       "Call:\n",
       "glm(formula = WorldSeries ~ League, family = \"binomial\", data = baseball)\n",
       "\n",
       "Deviance Residuals: \n",
       "    Min       1Q   Median       3Q      Max  \n",
       "-0.6772  -0.6772  -0.6306  -0.6306   1.8509  \n",
       "\n",
       "Coefficients:\n",
       "            Estimate Std. Error z value Pr(>|z|)    \n",
       "(Intercept)  -1.3558     0.2243  -6.045  1.5e-09 ***\n",
       "LeagueNL     -0.1583     0.3252  -0.487    0.626    \n",
       "---\n",
       "Signif. codes:  0 '***' 0.001 '**' 0.01 '*' 0.05 '.' 0.1 ' ' 1\n",
       "\n",
       "(Dispersion parameter for binomial family taken to be 1)\n",
       "\n",
       "    Null deviance: 239.12  on 243  degrees of freedom\n",
       "Residual deviance: 238.88  on 242  degrees of freedom\n",
       "AIC: 242.88\n",
       "\n",
       "Number of Fisher Scoring iterations: 4\n"
      ]
     },
     "metadata": {},
     "output_type": "display_data"
    }
   ],
   "source": [
    "model12 = glm(WorldSeries~League, data=baseball, family=\"binomial\")\n",
    "summary(model12)"
   ]
  },
  {
   "cell_type": "markdown",
   "metadata": {},
   "source": [
    "Answer: Year, RA, RankSeason, NumCompetitors."
   ]
  },
  {
   "cell_type": "markdown",
   "metadata": {},
   "source": [
    "### Problem 4.1 - Multivariate Models for Predicting World Series Winner\n",
    "In this section, we'll consider multivariate models that combine the variables we found to be significant in bivariate models. Build a model using all of the variables that you found to be significant in the bivariate models. How many variables are significant in the combined model?"
   ]
  },
  {
   "cell_type": "code",
   "execution_count": 29,
   "metadata": {},
   "outputs": [
    {
     "data": {
      "text/plain": [
       "\n",
       "Call:\n",
       "glm(formula = WorldSeries ~ Year + RA + RankSeason + NumCompetitors, \n",
       "    family = \"binomial\", data = baseball)\n",
       "\n",
       "Deviance Residuals: \n",
       "    Min       1Q   Median       3Q      Max  \n",
       "-1.0336  -0.7689  -0.5139  -0.4583   2.2195  \n",
       "\n",
       "Coefficients:\n",
       "                 Estimate Std. Error z value Pr(>|z|)\n",
       "(Intercept)    12.5874376 53.6474210   0.235    0.814\n",
       "Year           -0.0061425  0.0274665  -0.224    0.823\n",
       "RA             -0.0008238  0.0027391  -0.301    0.764\n",
       "RankSeason     -0.0685046  0.1203459  -0.569    0.569\n",
       "NumCompetitors -0.1794264  0.1815933  -0.988    0.323\n",
       "\n",
       "(Dispersion parameter for binomial family taken to be 1)\n",
       "\n",
       "    Null deviance: 239.12  on 243  degrees of freedom\n",
       "Residual deviance: 226.37  on 239  degrees of freedom\n",
       "AIC: 236.37\n",
       "\n",
       "Number of Fisher Scoring iterations: 4\n"
      ]
     },
     "metadata": {},
     "output_type": "display_data"
    }
   ],
   "source": [
    "modelmult = glm(WorldSeries ~ Year+RA+RankSeason+NumCompetitors, data=baseball, family=\"binomial\")\n",
    "summary(modelmult)"
   ]
  },
  {
   "cell_type": "markdown",
   "metadata": {},
   "source": [
    "### Problem 4.2 - Multivariate Models for Predicting World Series Winner\n",
    "Often, variables that were significant in bivariate models are no longer significant in multivariate analysis due to correlation between the variables. Which of the following variable pairs have a high degree of correlation (a correlation greater than 0.8 or less than -0.8)?"
   ]
  },
  {
   "cell_type": "code",
   "execution_count": 30,
   "metadata": {},
   "outputs": [
    {
     "data": {
      "text/html": [
       "<table>\n",
       "<caption>A matrix: 4 × 4 of type dbl</caption>\n",
       "<thead>\n",
       "\t<tr><th></th><th scope=col>Year</th><th scope=col>RA</th><th scope=col>RankSeason</th><th scope=col>NumCompetitors</th></tr>\n",
       "</thead>\n",
       "<tbody>\n",
       "\t<tr><th scope=row>Year</th><td>1.0000000</td><td>0.4762422</td><td>0.3852191</td><td>0.9139548</td></tr>\n",
       "\t<tr><th scope=row>RA</th><td>0.4762422</td><td>1.0000000</td><td>0.3991413</td><td>0.5136769</td></tr>\n",
       "\t<tr><th scope=row>RankSeason</th><td>0.3852191</td><td>0.3991413</td><td>1.0000000</td><td>0.4247393</td></tr>\n",
       "\t<tr><th scope=row>NumCompetitors</th><td>0.9139548</td><td>0.5136769</td><td>0.4247393</td><td>1.0000000</td></tr>\n",
       "</tbody>\n",
       "</table>\n"
      ],
      "text/latex": [
       "A matrix: 4 × 4 of type dbl\n",
       "\\begin{tabular}{r|llll}\n",
       "  & Year & RA & RankSeason & NumCompetitors\\\\\n",
       "\\hline\n",
       "\tYear & 1.0000000 & 0.4762422 & 0.3852191 & 0.9139548\\\\\n",
       "\tRA & 0.4762422 & 1.0000000 & 0.3991413 & 0.5136769\\\\\n",
       "\tRankSeason & 0.3852191 & 0.3991413 & 1.0000000 & 0.4247393\\\\\n",
       "\tNumCompetitors & 0.9139548 & 0.5136769 & 0.4247393 & 1.0000000\\\\\n",
       "\\end{tabular}\n"
      ],
      "text/markdown": [
       "\n",
       "A matrix: 4 × 4 of type dbl\n",
       "\n",
       "| <!--/--> | Year | RA | RankSeason | NumCompetitors |\n",
       "|---|---|---|---|---|\n",
       "| Year | 1.0000000 | 0.4762422 | 0.3852191 | 0.9139548 |\n",
       "| RA | 0.4762422 | 1.0000000 | 0.3991413 | 0.5136769 |\n",
       "| RankSeason | 0.3852191 | 0.3991413 | 1.0000000 | 0.4247393 |\n",
       "| NumCompetitors | 0.9139548 | 0.5136769 | 0.4247393 | 1.0000000 |\n",
       "\n"
      ],
      "text/plain": [
       "               Year      RA        RankSeason NumCompetitors\n",
       "Year           1.0000000 0.4762422 0.3852191  0.9139548     \n",
       "RA             0.4762422 1.0000000 0.3991413  0.5136769     \n",
       "RankSeason     0.3852191 0.3991413 1.0000000  0.4247393     \n",
       "NumCompetitors 0.9139548 0.5136769 0.4247393  1.0000000     "
      ]
     },
     "metadata": {},
     "output_type": "display_data"
    }
   ],
   "source": [
    "cor(baseball[c(\"Year\", \"RA\", \"RankSeason\", \"NumCompetitors\")])"
   ]
  },
  {
   "cell_type": "markdown",
   "metadata": {},
   "source": [
    "Answer: Year & NumCompetitors.  "
   ]
  },
  {
   "cell_type": "markdown",
   "metadata": {},
   "source": [
    "### Problem 4.3 - Multivariate Models for Predicting World Series Winner\n",
    "Build all six of the two variable models listed in the previous problem. Together with the four bivariate models, you should have 10 different logistic regression models. Which model has the best AIC value (the minimum AIC value)?"
   ]
  },
  {
   "cell_type": "code",
   "execution_count": 31,
   "metadata": {},
   "outputs": [
    {
     "data": {
      "text/html": [
       "232.350842383295"
      ],
      "text/latex": [
       "232.350842383295"
      ],
      "text/markdown": [
       "232.350842383295"
      ],
      "text/plain": [
       "[1] 232.3508"
      ]
     },
     "metadata": {},
     "output_type": "display_data"
    }
   ],
   "source": [
    "glm(WorldSeries~Year, data=baseball, family=\"binomial\")$aic"
   ]
  },
  {
   "cell_type": "code",
   "execution_count": 32,
   "metadata": {},
   "outputs": [
    {
     "data": {
      "text/html": [
       "237.883932429868"
      ],
      "text/latex": [
       "237.883932429868"
      ],
      "text/markdown": [
       "237.883932429868"
      ],
      "text/plain": [
       "[1] 237.8839"
      ]
     },
     "metadata": {},
     "output_type": "display_data"
    }
   ],
   "source": [
    "glm(WorldSeries~RA, data=baseball, family=\"binomial\")$aic"
   ]
  },
  {
   "cell_type": "code",
   "execution_count": 33,
   "metadata": {},
   "outputs": [
    {
     "data": {
      "text/html": [
       "238.754582973132"
      ],
      "text/latex": [
       "238.754582973132"
      ],
      "text/markdown": [
       "238.754582973132"
      ],
      "text/plain": [
       "[1] 238.7546"
      ]
     },
     "metadata": {},
     "output_type": "display_data"
    }
   ],
   "source": [
    "glm(WorldSeries~RankSeason, data=baseball, family=\"binomial\")$aic "
   ]
  },
  {
   "cell_type": "code",
   "execution_count": 34,
   "metadata": {},
   "outputs": [
    {
     "data": {
      "text/html": [
       "230.95923148786"
      ],
      "text/latex": [
       "230.95923148786"
      ],
      "text/markdown": [
       "230.95923148786"
      ],
      "text/plain": [
       "[1] 230.9592"
      ]
     },
     "metadata": {},
     "output_type": "display_data"
    }
   ],
   "source": [
    "glm(WorldSeries~NumCompetitors, data=baseball, family=\"binomial\")$aic"
   ]
  },
  {
   "cell_type": "code",
   "execution_count": 35,
   "metadata": {},
   "outputs": [
    {
     "data": {
      "text/html": [
       "233.876587091113"
      ],
      "text/latex": [
       "233.876587091113"
      ],
      "text/markdown": [
       "233.876587091113"
      ],
      "text/plain": [
       "[1] 233.8766"
      ]
     },
     "metadata": {},
     "output_type": "display_data"
    }
   ],
   "source": [
    "glm(WorldSeries~Year+RA, data=baseball, family=\"binomial\")$aic"
   ]
  },
  {
   "cell_type": "code",
   "execution_count": 36,
   "metadata": {},
   "outputs": [
    {
     "data": {
      "text/html": [
       "233.5524479584"
      ],
      "text/latex": [
       "233.5524479584"
      ],
      "text/markdown": [
       "233.5524479584"
      ],
      "text/plain": [
       "[1] 233.5524"
      ]
     },
     "metadata": {},
     "output_type": "display_data"
    }
   ],
   "source": [
    "glm(WorldSeries~Year+RankSeason, data=baseball, family=\"binomial\")$aic"
   ]
  },
  {
   "cell_type": "code",
   "execution_count": 37,
   "metadata": {},
   "outputs": [
    {
     "data": {
      "text/html": [
       "232.897168212545"
      ],
      "text/latex": [
       "232.897168212545"
      ],
      "text/markdown": [
       "232.897168212545"
      ],
      "text/plain": [
       "[1] 232.8972"
      ]
     },
     "metadata": {},
     "output_type": "display_data"
    }
   ],
   "source": [
    "glm(WorldSeries~Year+NumCompetitors, data=baseball, family=\"binomial\")$aic"
   ]
  },
  {
   "cell_type": "code",
   "execution_count": 38,
   "metadata": {},
   "outputs": [
    {
     "data": {
      "text/html": [
       "238.217989366883"
      ],
      "text/latex": [
       "238.217989366883"
      ],
      "text/markdown": [
       "238.217989366883"
      ],
      "text/plain": [
       "[1] 238.218"
      ]
     },
     "metadata": {},
     "output_type": "display_data"
    }
   ],
   "source": [
    "glm(WorldSeries~RA+RankSeason, data=baseball, family=\"binomial\")$aic"
   ]
  },
  {
   "cell_type": "code",
   "execution_count": 39,
   "metadata": {},
   "outputs": [
    {
     "data": {
      "text/html": [
       "232.742945386299"
      ],
      "text/latex": [
       "232.742945386299"
      ],
      "text/markdown": [
       "232.742945386299"
      ],
      "text/plain": [
       "[1] 232.7429"
      ]
     },
     "metadata": {},
     "output_type": "display_data"
    }
   ],
   "source": [
    "glm(WorldSeries~RA+NumCompetitors, data=baseball, family=\"binomial\")$aic"
   ]
  },
  {
   "cell_type": "code",
   "execution_count": 40,
   "metadata": {},
   "outputs": [
    {
     "data": {
      "text/html": [
       "232.523952903188"
      ],
      "text/latex": [
       "232.523952903188"
      ],
      "text/markdown": [
       "232.523952903188"
      ],
      "text/plain": [
       "[1] 232.524"
      ]
     },
     "metadata": {},
     "output_type": "display_data"
    }
   ],
   "source": [
    "glm(WorldSeries~RankSeason+NumCompetitors, data=baseball, family=\"binomial\")$aic"
   ]
  },
  {
   "cell_type": "markdown",
   "metadata": {},
   "source": [
    "Answer: The best model it is that use only NumCompetitors, the AIC(NumCompetitors) = 230.96"
   ]
  }
 ],
 "metadata": {
  "kernelspec": {
   "display_name": "R",
   "language": "R",
   "name": "ir"
  },
  "language_info": {
   "codemirror_mode": "r",
   "file_extension": ".r",
   "mimetype": "text/x-r-source",
   "name": "R",
   "pygments_lexer": "r",
   "version": "3.6.3"
  }
 },
 "nbformat": 4,
 "nbformat_minor": 4
}
