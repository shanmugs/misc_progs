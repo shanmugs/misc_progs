{
 "cells": [
  {
   "cell_type": "markdown",
   "metadata": {},
   "source": [
    "# Document Clustering with Daily Kos"
   ]
  },
  {
   "cell_type": "markdown",
   "metadata": {},
   "source": [
    "<img src=\"images/dailykos.png\"/>"
   ]
  },
  {
   "cell_type": "markdown",
   "metadata": {},
   "source": [
    "Document clustering, or text clustering, is a very popular application of clustering algorithms. A web search engine, like Google, often returns thousands of results for a simple query. For example, if you type the search term “jaguar” into Google, around 200 million results are returned. This makes it very difficult to browse or find relevant information, especially if the search term has multiple meanings. If we search for “jaguar”, we might be looking for information about the animal, the car, or the Jacksonville Jaguars football team.\n",
    "\n",
    "Clustering methods can be used to automatically group search results into categories, making it easier to find relevant results. This method is used in the search engines PolyMeta and Helioid, as well as on FirstGov.gov, the official Web portal for the U.S. government. The two most common algorithms used for document clustering are Hierarchical and k-means.\n",
    "\n",
    "In this problem, we’ll be clustering articles published on Daily Kos, an American political blog that publishes news and opinion articles written from a progressive point of view. Daily Kos was founded by Markos Moulitsas in 2002, and as of September 2014, the site had an average weekday traffic of hundreds of thousands of visits.\n",
    "\n",
    "The file dailykos.csv contains data on 3,430 news articles or blogs that have been posted on Daily Kos. These articles were posted in 2004, leading up to the United States Presidential Election. The leading candidates were incumbent President George W. Bush (republican) and John Kerry (democratic). Foreign policy was a dominant topic of the election, specifically, the 2003 invasion of Iraq.\n",
    "\n",
    "Each of the variables in the dataset is a word that has appeared in at least 50 different articles (1,545 words in total). The set of words has been trimmed according to some of the techniques covered in the previous week on text analytics (punctuation has been removed, and stop words have been removed). For each document, the variable values are the number of times that word appeared in the document."
   ]
  },
  {
   "cell_type": "markdown",
   "metadata": {},
   "source": [
    "### Problem 1.1 - Hierarchical Clustering\n",
    "Let's start by building a hierarchical clustering model. First, read the data set into R. Then, compute the distances (using method=\"euclidean\"), and use hclust to build the model (using method=\"ward.D\"). You should cluster on all of the variables.\n",
    "\n",
    "**Running the dist function will probably take you a while. Why?**"
   ]
  },
  {
   "cell_type": "code",
   "execution_count": 1,
   "metadata": {},
   "outputs": [
    {
     "data": {
      "text/html": [
       "<table>\n",
       "<caption>A data.frame: 3 × 1545</caption>\n",
       "<thead>\n",
       "\t<tr><th></th><th scope=col>abandon</th><th scope=col>abc</th><th scope=col>ability</th><th scope=col>abortion</th><th scope=col>absolute</th><th scope=col>abstain</th><th scope=col>abu</th><th scope=col>abuse</th><th scope=col>accept</th><th scope=col>access</th><th scope=col>⋯</th><th scope=col>yeah</th><th scope=col>year</th><th scope=col>yesterday</th><th scope=col>york</th><th scope=col>youll</th><th scope=col>young</th><th scope=col>youre</th><th scope=col>youve</th><th scope=col>zogby</th><th scope=col>zone</th></tr>\n",
       "\t<tr><th></th><th scope=col>&lt;int&gt;</th><th scope=col>&lt;int&gt;</th><th scope=col>&lt;int&gt;</th><th scope=col>&lt;int&gt;</th><th scope=col>&lt;int&gt;</th><th scope=col>&lt;int&gt;</th><th scope=col>&lt;int&gt;</th><th scope=col>&lt;int&gt;</th><th scope=col>&lt;int&gt;</th><th scope=col>&lt;int&gt;</th><th scope=col>⋯</th><th scope=col>&lt;int&gt;</th><th scope=col>&lt;int&gt;</th><th scope=col>&lt;int&gt;</th><th scope=col>&lt;int&gt;</th><th scope=col>&lt;int&gt;</th><th scope=col>&lt;int&gt;</th><th scope=col>&lt;int&gt;</th><th scope=col>&lt;int&gt;</th><th scope=col>&lt;int&gt;</th><th scope=col>&lt;int&gt;</th></tr>\n",
       "</thead>\n",
       "<tbody>\n",
       "\t<tr><th scope=row>1</th><td>0</td><td>0</td><td>0</td><td>0</td><td>0</td><td>0</td><td>0</td><td>0</td><td>0</td><td>0</td><td>⋯</td><td>0</td><td>0</td><td>0</td><td>0</td><td>0</td><td>0</td><td>0</td><td>0</td><td>0</td><td>1</td></tr>\n",
       "\t<tr><th scope=row>2</th><td>0</td><td>0</td><td>0</td><td>0</td><td>0</td><td>0</td><td>0</td><td>0</td><td>0</td><td>0</td><td>⋯</td><td>0</td><td>0</td><td>0</td><td>0</td><td>0</td><td>0</td><td>0</td><td>0</td><td>0</td><td>0</td></tr>\n",
       "\t<tr><th scope=row>3</th><td>0</td><td>0</td><td>0</td><td>0</td><td>0</td><td>1</td><td>0</td><td>0</td><td>0</td><td>0</td><td>⋯</td><td>0</td><td>0</td><td>0</td><td>0</td><td>0</td><td>0</td><td>0</td><td>0</td><td>0</td><td>0</td></tr>\n",
       "</tbody>\n",
       "</table>\n"
      ],
      "text/latex": [
       "A data.frame: 3 × 1545\n",
       "\\begin{tabular}{r|lllllllllllllllllllll}\n",
       "  & abandon & abc & ability & abortion & absolute & abstain & abu & abuse & accept & access & ⋯ & yeah & year & yesterday & york & youll & young & youre & youve & zogby & zone\\\\\n",
       "  & <int> & <int> & <int> & <int> & <int> & <int> & <int> & <int> & <int> & <int> & ⋯ & <int> & <int> & <int> & <int> & <int> & <int> & <int> & <int> & <int> & <int>\\\\\n",
       "\\hline\n",
       "\t1 & 0 & 0 & 0 & 0 & 0 & 0 & 0 & 0 & 0 & 0 & ⋯ & 0 & 0 & 0 & 0 & 0 & 0 & 0 & 0 & 0 & 1\\\\\n",
       "\t2 & 0 & 0 & 0 & 0 & 0 & 0 & 0 & 0 & 0 & 0 & ⋯ & 0 & 0 & 0 & 0 & 0 & 0 & 0 & 0 & 0 & 0\\\\\n",
       "\t3 & 0 & 0 & 0 & 0 & 0 & 1 & 0 & 0 & 0 & 0 & ⋯ & 0 & 0 & 0 & 0 & 0 & 0 & 0 & 0 & 0 & 0\\\\\n",
       "\\end{tabular}\n"
      ],
      "text/markdown": [
       "\n",
       "A data.frame: 3 × 1545\n",
       "\n",
       "| <!--/--> | abandon &lt;int&gt; | abc &lt;int&gt; | ability &lt;int&gt; | abortion &lt;int&gt; | absolute &lt;int&gt; | abstain &lt;int&gt; | abu &lt;int&gt; | abuse &lt;int&gt; | accept &lt;int&gt; | access &lt;int&gt; | ⋯ ⋯ | yeah &lt;int&gt; | year &lt;int&gt; | yesterday &lt;int&gt; | york &lt;int&gt; | youll &lt;int&gt; | young &lt;int&gt; | youre &lt;int&gt; | youve &lt;int&gt; | zogby &lt;int&gt; | zone &lt;int&gt; |\n",
       "|---|---|---|---|---|---|---|---|---|---|---|---|---|---|---|---|---|---|---|---|---|---|\n",
       "| 1 | 0 | 0 | 0 | 0 | 0 | 0 | 0 | 0 | 0 | 0 | ⋯ | 0 | 0 | 0 | 0 | 0 | 0 | 0 | 0 | 0 | 1 |\n",
       "| 2 | 0 | 0 | 0 | 0 | 0 | 0 | 0 | 0 | 0 | 0 | ⋯ | 0 | 0 | 0 | 0 | 0 | 0 | 0 | 0 | 0 | 0 |\n",
       "| 3 | 0 | 0 | 0 | 0 | 0 | 1 | 0 | 0 | 0 | 0 | ⋯ | 0 | 0 | 0 | 0 | 0 | 0 | 0 | 0 | 0 | 0 |\n",
       "\n"
      ],
      "text/plain": [
       "  abandon abc ability abortion absolute abstain abu abuse accept access\n",
       "1 0       0   0       0        0        0       0   0     0      0     \n",
       "2 0       0   0       0        0        0       0   0     0      0     \n",
       "3 0       0   0       0        0        1       0   0     0      0     \n",
       "  <U+22EF>        yeah year yesterday york youll young youre youve zogby zone\n",
       "1 <U+22EF> 0    0    0         0    0     0     0     0     0     1   \n",
       "2 <U+22EF> 0    0    0         0    0     0     0     0     0     0   \n",
       "3 <U+22EF> 0    0    0         0    0     0     0     0     0     0   "
      ]
     },
     "metadata": {},
     "output_type": "display_data"
    }
   ],
   "source": [
    "# Load the dataset\n",
    "dailykos = read.csv(\"data/dailykos.csv\")\n",
    "\n",
    "head(dailykos,3)"
   ]
  },
  {
   "cell_type": "code",
   "execution_count": 2,
   "metadata": {},
   "outputs": [],
   "source": [
    "#str(dailykos)"
   ]
  },
  {
   "cell_type": "code",
   "execution_count": 3,
   "metadata": {},
   "outputs": [],
   "source": [
    "# Hierarchical Cluster algorithm\n",
    "\n",
    "kosDist = dist(dailykos, method=\"euclidean\")\n",
    "\n",
    "kosHierClust = hclust(kosDist, method=\"ward.D\")"
   ]
  },
  {
   "cell_type": "markdown",
   "metadata": {},
   "source": [
    "We have a lot of observations, so it takes a long time to compute the distance between each pair of observations. We have a lot of variables, so the distance computation is long."
   ]
  },
  {
   "cell_type": "markdown",
   "metadata": {},
   "source": [
    "### Problem 1.2 - Hierarchical Clustering\n",
    "Plot the dendrogram of your hierarchical clustering model. Just looking at the dendrogram, **which of the following seem like good choices for the number of clusters?**"
   ]
  },
  {
   "cell_type": "code",
   "execution_count": 4,
   "metadata": {},
   "outputs": [
    {
     "data": {
      "image/png": "[encoded data removed]",
      "text/plain": [
       "Plot with title \"Cluster Dendrogram\""
      ]
     },
     "metadata": {
      "image/png": {
       "height": 420,
       "width": 420
      },
      "text/plain": {
       "height": 420,
       "width": 420
      }
     },
     "output_type": "display_data"
    }
   ],
   "source": [
    "# Plots Dendrogram\n",
    "plot(kosHierClust)"
   ]
  },
  {
   "cell_type": "markdown",
   "metadata": {},
   "source": [
    "Answer: The choices 2 and 3 are good cluster choices according to the dendrogram, because there is a lot of space between the horizontal lines in the dendrogram in those cut off spots (draw a horizontal line across the dendrogram where it crosses 2 or 3 vertical lines)."
   ]
  },
  {
   "cell_type": "markdown",
   "metadata": {},
   "source": [
    "### Problem 1.3 - Hierarchical Clustering\n",
    "In this problem, we are trying to cluster news articles or blog posts into groups. This can be used to show readers categories to choose from when trying to decide what to read. Just thinking about this application, what are good choices for the number of clusters?"
   ]
  },
  {
   "cell_type": "markdown",
   "metadata": {},
   "source": [
    "Answer: Thinking about the application, it is probably better to show the reader more categories than 2 or 3. These categories would probably be too broad to be useful. Seven or eight categories seems more reasonable."
   ]
  },
  {
   "cell_type": "markdown",
   "metadata": {},
   "source": [
    "### Problem 1.4 - Hierarchical Clustering\n",
    "Let's pick 7 clusters. This number is reasonable according to the dendrogram, and also seems reasonable for the application. Use the cutree function to split your data into 7 clusters.\n",
    "\n",
    "Now, we don't really want to run tapply on every single variable when we have over 1,000 different variables. Let's instead use the subset function to subset our data by cluster. Create 7 new datasets, each containing the observations from one of the clusters."
   ]
  },
  {
   "cell_type": "code",
   "execution_count": 5,
   "metadata": {},
   "outputs": [
    {
     "data": {
      "image/png": "[encoded data removed]",
      "text/plain": [
       "Plot with title \"Cluster Dendrogram\""
      ]
     },
     "metadata": {
      "image/png": {
       "height": 420,
       "width": 420
      },
      "text/plain": {
       "height": 420,
       "width": 420
      }
     },
     "output_type": "display_data"
    }
   ],
   "source": [
    "# Plots the dendrogram\n",
    "plot(kosHierClust)\n",
    "\n",
    "# Divides it into 7 clusters\n",
    "rect.hclust(kosHierClust, k = 7, border = \"red\")"
   ]
  },
  {
   "cell_type": "code",
   "execution_count": 6,
   "metadata": {},
   "outputs": [],
   "source": [
    "# Split the data into 7 clusters\n",
    "\n",
    "hierGroups = cutree(kosHierClust, k = 7)\n",
    "\n",
    "# Divides dataset into 7 different subsets\n",
    "\n",
    "HierCluster1 = subset(dailykos, hierGroups == 1)\n",
    "\n",
    "HierCluster2 = subset(dailykos, hierGroups == 2)\n",
    "\n",
    "HierCluster3 = subset(dailykos, hierGroups == 3)\n",
    "\n",
    "HierCluster4 = subset(dailykos, hierGroups == 4)\n",
    "\n",
    "HierCluster5 = subset(dailykos, hierGroups == 5)\n",
    "\n",
    "HierCluster6 = subset(dailykos, hierGroups == 6)\n",
    "\n",
    "HierCluster7 = subset(dailykos, hierGroups == 7)"
   ]
  },
  {
   "cell_type": "markdown",
   "metadata": {},
   "source": [
    "**How many observations are in cluster 3?**"
   ]
  },
  {
   "cell_type": "code",
   "execution_count": 7,
   "metadata": {},
   "outputs": [
    {
     "data": {
      "text/plain": [
       "hierGroups\n",
       "   1    2    3    4    5    6    7 \n",
       "1266  321  374  139  407  714  209 "
      ]
     },
     "metadata": {},
     "output_type": "display_data"
    }
   ],
   "source": [
    "table(hierGroups)"
   ]
  },
  {
   "cell_type": "markdown",
   "metadata": {},
   "source": [
    "Answer: In the cluster 3 there is 374 observations."
   ]
  },
  {
   "cell_type": "markdown",
   "metadata": {},
   "source": [
    "**Which cluster has the most observations?**"
   ]
  },
  {
   "cell_type": "markdown",
   "metadata": {},
   "source": [
    "Answer: Cluster 1, with 1266 observations."
   ]
  },
  {
   "cell_type": "markdown",
   "metadata": {},
   "source": [
    "**Which cluster has the fewest observations?**"
   ]
  },
  {
   "cell_type": "markdown",
   "metadata": {},
   "source": [
    "Answer: Cluster 7, with 209 observations."
   ]
  },
  {
   "cell_type": "markdown",
   "metadata": {},
   "source": [
    "### Problem 1.5 - Hierarchical Clustering\n",
    "Instead of looking at the average value in each variable individually, we'll just look at the top 6 words in each cluster. To do this for cluster 1, type the following in your R console (where \"HierCluster1\" should be replaced with the name of your first cluster subset):\n",
    "\n",
    "    tail(sort(colMeans(HierCluster1)))\n",
    "\n",
    "This computes the mean frequency values of each of the words in cluster 1, and then outputs the 6 words that occur the most frequently. The colMeans function computes the column (word) means, the sort function orders the words in increasing order of the mean values, and the tail function outputs the last 6 words listed, which are the ones with the largest column means.\n",
    "\n",
    "**What is the most frequent word in this cluster, in terms of average value?**"
   ]
  },
  {
   "cell_type": "code",
   "execution_count": 8,
   "metadata": {},
   "outputs": [
    {
     "data": {
      "text/html": [
       "<style>\n",
       ".dl-inline {width: auto; margin:0; padding: 0}\n",
       ".dl-inline>dt, .dl-inline>dd {float: none; width: auto; display: inline-block}\n",
       ".dl-inline>dt::after {content: \":\\0020\"; padding-right: .5ex}\n",
       ".dl-inline>dt:not(:first-of-type) {padding-left: .5ex}\n",
       "</style><dl class=dl-inline><dt>state</dt><dd>0.757503949447077</dd><dt>republican</dt><dd>0.759083728278041</dd><dt>poll</dt><dd>0.903633491311216</dd><dt>democrat</dt><dd>0.919431279620853</dd><dt>kerry</dt><dd>1.06240126382306</dd><dt>bush</dt><dd>1.70537124802528</dd></dl>\n"
      ],
      "text/latex": [
       "\\begin{description*}\n",
       "\\item[state] 0.757503949447077\n",
       "\\item[republican] 0.759083728278041\n",
       "\\item[poll] 0.903633491311216\n",
       "\\item[democrat] 0.919431279620853\n",
       "\\item[kerry] 1.06240126382306\n",
       "\\item[bush] 1.70537124802528\n",
       "\\end{description*}\n"
      ],
      "text/markdown": [
       "state\n",
       ":   0.757503949447077republican\n",
       ":   0.759083728278041poll\n",
       ":   0.903633491311216democrat\n",
       ":   0.919431279620853kerry\n",
       ":   1.06240126382306bush\n",
       ":   1.70537124802528\n",
       "\n"
      ],
      "text/plain": [
       "     state republican       poll   democrat      kerry       bush \n",
       " 0.7575039  0.7590837  0.9036335  0.9194313  1.0624013  1.7053712 "
      ]
     },
     "metadata": {},
     "output_type": "display_data"
    }
   ],
   "source": [
    "# Sorts the words used in the cluster\n",
    "z = tail(sort(colMeans(HierCluster1)))\n",
    "z"
   ]
  },
  {
   "cell_type": "markdown",
   "metadata": {},
   "source": [
    "Answer: Bush"
   ]
  },
  {
   "cell_type": "markdown",
   "metadata": {},
   "source": [
    "### Problem 1.6 - Hierarchical Clustering\n",
    "Now repeat the command given in the previous problem for each of the other clusters, and answer the following questions.\n",
    "\n",
    "**Which words best describe cluster 2?**"
   ]
  },
  {
   "cell_type": "code",
   "execution_count": 9,
   "metadata": {},
   "outputs": [
    {
     "data": {
      "text/html": [
       "<style>\n",
       ".dl-inline {width: auto; margin:0; padding: 0}\n",
       ".dl-inline>dt, .dl-inline>dd {float: none; width: auto; display: inline-block}\n",
       ".dl-inline>dt::after {content: \":\\0020\"; padding-right: .5ex}\n",
       ".dl-inline>dt:not(:first-of-type) {padding-left: .5ex}\n",
       "</style><dl class=dl-inline><dt>bush</dt><dd>2.84735202492212</dd><dt>democrat</dt><dd>2.85046728971963</dd><dt>challenge</dt><dd>4.09657320872274</dd><dt>vote</dt><dd>4.398753894081</dd><dt>poll</dt><dd>4.84735202492212</dd><dt>november</dt><dd>10.3395638629283</dd></dl>\n"
      ],
      "text/latex": [
       "\\begin{description*}\n",
       "\\item[bush] 2.84735202492212\n",
       "\\item[democrat] 2.85046728971963\n",
       "\\item[challenge] 4.09657320872274\n",
       "\\item[vote] 4.398753894081\n",
       "\\item[poll] 4.84735202492212\n",
       "\\item[november] 10.3395638629283\n",
       "\\end{description*}\n"
      ],
      "text/markdown": [
       "bush\n",
       ":   2.84735202492212democrat\n",
       ":   2.85046728971963challenge\n",
       ":   4.09657320872274vote\n",
       ":   4.398753894081poll\n",
       ":   4.84735202492212november\n",
       ":   10.3395638629283\n",
       "\n"
      ],
      "text/plain": [
       "     bush  democrat challenge      vote      poll  november \n",
       " 2.847352  2.850467  4.096573  4.398754  4.847352 10.339564 "
      ]
     },
     "metadata": {},
     "output_type": "display_data"
    }
   ],
   "source": [
    "# Sorts the words used in the cluster\n",
    "b = tail(sort(colMeans(HierCluster2)))\n",
    "b"
   ]
  },
  {
   "cell_type": "markdown",
   "metadata": {},
   "source": [
    "Answer: November"
   ]
  },
  {
   "cell_type": "markdown",
   "metadata": {},
   "source": [
    "**Which cluster could best be described as the cluster related to the Iraq war?**"
   ]
  },
  {
   "cell_type": "code",
   "execution_count": 10,
   "metadata": {},
   "outputs": [
    {
     "data": {
      "text/html": [
       "<style>\n",
       ".dl-inline {width: auto; margin:0; padding: 0}\n",
       ".dl-inline>dt, .dl-inline>dd {float: none; width: auto; display: inline-block}\n",
       ".dl-inline>dt::after {content: \":\\0020\"; padding-right: .5ex}\n",
       ".dl-inline>dt:not(:first-of-type) {padding-left: .5ex}\n",
       "</style><dl class=dl-inline><dt>elect</dt><dd>1.64705882352941</dd><dt>parties</dt><dd>1.66577540106952</dd><dt>state</dt><dd>2.32085561497326</dd><dt>republican</dt><dd>2.52406417112299</dd><dt>democrat</dt><dd>3.82352941176471</dd><dt>bush</dt><dd>4.40641711229947</dd></dl>\n"
      ],
      "text/latex": [
       "\\begin{description*}\n",
       "\\item[elect] 1.64705882352941\n",
       "\\item[parties] 1.66577540106952\n",
       "\\item[state] 2.32085561497326\n",
       "\\item[republican] 2.52406417112299\n",
       "\\item[democrat] 3.82352941176471\n",
       "\\item[bush] 4.40641711229947\n",
       "\\end{description*}\n"
      ],
      "text/markdown": [
       "elect\n",
       ":   1.64705882352941parties\n",
       ":   1.66577540106952state\n",
       ":   2.32085561497326republican\n",
       ":   2.52406417112299democrat\n",
       ":   3.82352941176471bush\n",
       ":   4.40641711229947\n",
       "\n"
      ],
      "text/plain": [
       "     elect    parties      state republican   democrat       bush \n",
       "  1.647059   1.665775   2.320856   2.524064   3.823529   4.406417 "
      ]
     },
     "metadata": {},
     "output_type": "display_data"
    },
    {
     "data": {
      "text/html": [
       "<style>\n",
       ".dl-inline {width: auto; margin:0; padding: 0}\n",
       ".dl-inline>dt, .dl-inline>dd {float: none; width: auto; display: inline-block}\n",
       ".dl-inline>dt::after {content: \":\\0020\"; padding-right: .5ex}\n",
       ".dl-inline>dt:not(:first-of-type) {padding-left: .5ex}\n",
       "</style><dl class=dl-inline><dt>campaign</dt><dd>1.43165467625899</dd><dt>voter</dt><dd>1.53956834532374</dd><dt>presided</dt><dd>1.62589928057554</dd><dt>poll</dt><dd>3.58992805755396</dd><dt>bush</dt><dd>7.83453237410072</dd><dt>kerry</dt><dd>8.43884892086331</dd></dl>\n"
      ],
      "text/latex": [
       "\\begin{description*}\n",
       "\\item[campaign] 1.43165467625899\n",
       "\\item[voter] 1.53956834532374\n",
       "\\item[presided] 1.62589928057554\n",
       "\\item[poll] 3.58992805755396\n",
       "\\item[bush] 7.83453237410072\n",
       "\\item[kerry] 8.43884892086331\n",
       "\\end{description*}\n"
      ],
      "text/markdown": [
       "campaign\n",
       ":   1.43165467625899voter\n",
       ":   1.53956834532374presided\n",
       ":   1.62589928057554poll\n",
       ":   3.58992805755396bush\n",
       ":   7.83453237410072kerry\n",
       ":   8.43884892086331\n",
       "\n"
      ],
      "text/plain": [
       "campaign    voter presided     poll     bush    kerry \n",
       "1.431655 1.539568 1.625899 3.589928 7.834532 8.438849 "
      ]
     },
     "metadata": {},
     "output_type": "display_data"
    },
    {
     "data": {
      "text/html": [
       "<style>\n",
       ".dl-inline {width: auto; margin:0; padding: 0}\n",
       ".dl-inline>dt, .dl-inline>dd {float: none; width: auto; display: inline-block}\n",
       ".dl-inline>dt::after {content: \":\\0020\"; padding-right: .5ex}\n",
       ".dl-inline>dt:not(:first-of-type) {padding-left: .5ex}\n",
       "</style><dl class=dl-inline><dt>american</dt><dd>1.09090909090909</dd><dt>presided</dt><dd>1.12039312039312</dd><dt>administration</dt><dd>1.23095823095823</dd><dt>war</dt><dd>1.77641277641278</dd><dt>iraq</dt><dd>2.42751842751843</dd><dt>bush</dt><dd>3.94103194103194</dd></dl>\n"
      ],
      "text/latex": [
       "\\begin{description*}\n",
       "\\item[american] 1.09090909090909\n",
       "\\item[presided] 1.12039312039312\n",
       "\\item[administration] 1.23095823095823\n",
       "\\item[war] 1.77641277641278\n",
       "\\item[iraq] 2.42751842751843\n",
       "\\item[bush] 3.94103194103194\n",
       "\\end{description*}\n"
      ],
      "text/markdown": [
       "american\n",
       ":   1.09090909090909presided\n",
       ":   1.12039312039312administration\n",
       ":   1.23095823095823war\n",
       ":   1.77641277641278iraq\n",
       ":   2.42751842751843bush\n",
       ":   3.94103194103194\n",
       "\n"
      ],
      "text/plain": [
       "      american       presided administration            war           iraq \n",
       "      1.090909       1.120393       1.230958       1.776413       2.427518 \n",
       "          bush \n",
       "      3.941032 "
      ]
     },
     "metadata": {},
     "output_type": "display_data"
    },
    {
     "data": {
      "text/html": [
       "<style>\n",
       ".dl-inline {width: auto; margin:0; padding: 0}\n",
       ".dl-inline>dt, .dl-inline>dd {float: none; width: auto; display: inline-block}\n",
       ".dl-inline>dt::after {content: \":\\0020\"; padding-right: .5ex}\n",
       ".dl-inline>dt:not(:first-of-type) {padding-left: .5ex}\n",
       "</style><dl class=dl-inline><dt>race</dt><dd>0.457983193277311</dd><dt>bush</dt><dd>0.488795518207283</dd><dt>kerry</dt><dd>0.516806722689076</dd><dt>elect</dt><dd>0.535014005602241</dd><dt>democrat</dt><dd>0.564425770308123</dd><dt>poll</dt><dd>0.581232492997199</dd></dl>\n"
      ],
      "text/latex": [
       "\\begin{description*}\n",
       "\\item[race] 0.457983193277311\n",
       "\\item[bush] 0.488795518207283\n",
       "\\item[kerry] 0.516806722689076\n",
       "\\item[elect] 0.535014005602241\n",
       "\\item[democrat] 0.564425770308123\n",
       "\\item[poll] 0.581232492997199\n",
       "\\end{description*}\n"
      ],
      "text/markdown": [
       "race\n",
       ":   0.457983193277311bush\n",
       ":   0.488795518207283kerry\n",
       ":   0.516806722689076elect\n",
       ":   0.535014005602241democrat\n",
       ":   0.564425770308123poll\n",
       ":   0.581232492997199\n",
       "\n"
      ],
      "text/plain": [
       "     race      bush     kerry     elect  democrat      poll \n",
       "0.4579832 0.4887955 0.5168067 0.5350140 0.5644258 0.5812325 "
      ]
     },
     "metadata": {},
     "output_type": "display_data"
    },
    {
     "data": {
      "text/html": [
       "<style>\n",
       ".dl-inline {width: auto; margin:0; padding: 0}\n",
       ".dl-inline>dt, .dl-inline>dd {float: none; width: auto; display: inline-block}\n",
       ".dl-inline>dt::after {content: \":\\0020\"; padding-right: .5ex}\n",
       ".dl-inline>dt:not(:first-of-type) {padding-left: .5ex}\n",
       "</style><dl class=dl-inline><dt>democrat</dt><dd>2.14832535885167</dd><dt>clark</dt><dd>2.49760765550239</dd><dt>edward</dt><dd>2.60765550239234</dd><dt>poll</dt><dd>2.76555023923445</dd><dt>kerry</dt><dd>3.95215311004785</dd><dt>dean</dt><dd>5.80382775119617</dd></dl>\n"
      ],
      "text/latex": [
       "\\begin{description*}\n",
       "\\item[democrat] 2.14832535885167\n",
       "\\item[clark] 2.49760765550239\n",
       "\\item[edward] 2.60765550239234\n",
       "\\item[poll] 2.76555023923445\n",
       "\\item[kerry] 3.95215311004785\n",
       "\\item[dean] 5.80382775119617\n",
       "\\end{description*}\n"
      ],
      "text/markdown": [
       "democrat\n",
       ":   2.14832535885167clark\n",
       ":   2.49760765550239edward\n",
       ":   2.60765550239234poll\n",
       ":   2.76555023923445kerry\n",
       ":   3.95215311004785dean\n",
       ":   5.80382775119617\n",
       "\n"
      ],
      "text/plain": [
       "democrat    clark   edward     poll    kerry     dean \n",
       "2.148325 2.497608 2.607656 2.765550 3.952153 5.803828 "
      ]
     },
     "metadata": {},
     "output_type": "display_data"
    }
   ],
   "source": [
    "# Sorts the words used in the others clusters\n",
    "\n",
    "c = tail(sort(colMeans(HierCluster3)))\n",
    "c\n",
    "\n",
    "d = tail(sort(colMeans(HierCluster4)))\n",
    "d\n",
    "\n",
    "e = tail(sort(colMeans(HierCluster5)))\n",
    "e\n",
    "\n",
    "f = tail(sort(colMeans(HierCluster6)))\n",
    "f\n",
    "\n",
    "g = tail(sort(colMeans(HierCluster7)))\n",
    "g"
   ]
  },
  {
   "cell_type": "markdown",
   "metadata": {},
   "source": [
    "Answer: Cluster 5 cover more war in Iraq"
   ]
  },
  {
   "cell_type": "markdown",
   "metadata": {},
   "source": [
    "In 2004, one of the candidates for the Democratic nomination for the President of the United States was Howard Dean, John Kerry was the candidate who won the democratic nomination, and John Edwards with the running mate of John Kerry (the Vice President nominee). **Given this information, which cluster best corresponds to the democratic party?**"
   ]
  },
  {
   "cell_type": "markdown",
   "metadata": {},
   "source": [
    "Answer: Cluster 7, with the most common words: dean, kerry, poll, and edward."
   ]
  },
  {
   "cell_type": "markdown",
   "metadata": {},
   "source": [
    "### Problem 2.1 - K-Means Clustering\n",
    "Now, run k-means clustering, setting the seed to 1000 right before you run the kmeans function. Again, pick the number of clusters equal to 7. You don't need to add the iters.max argument.\n",
    "\n",
    "Subset your data into the 7 clusters (7 new datasets) by using the \"cluster\" variable of your kmeans output."
   ]
  },
  {
   "cell_type": "code",
   "execution_count": 11,
   "metadata": {},
   "outputs": [],
   "source": [
    "# K-means algorithm\n",
    "\n",
    "set.seed(1000)\n",
    "\n",
    "kmc = kmeans(dailykos, centers=7)"
   ]
  },
  {
   "cell_type": "code",
   "execution_count": 12,
   "metadata": {},
   "outputs": [],
   "source": [
    "# Divides the dataset into 7 different subsets for each cluster\n",
    "\n",
    "KmeansCluster1 = subset(dailykos, kmc$cluster == 1)\n",
    "\n",
    "KmeansCluster2 = subset(dailykos, kmc$cluster == 2)\n",
    "\n",
    "KmeansCluster3 = subset(dailykos, kmc$cluster == 3)\n",
    "\n",
    "KmeansCluster4 = subset(dailykos, kmc$cluster == 4)\n",
    "\n",
    "KmeansCluster5 = subset(dailykos, kmc$cluster == 5)\n",
    "\n",
    "KmeansCluster6 = subset(dailykos, kmc$cluster == 6)\n",
    "\n",
    "KmeansCluster7 = subset(dailykos, kmc$cluster == 7)"
   ]
  },
  {
   "cell_type": "markdown",
   "metadata": {},
   "source": [
    "**How many observations are in Cluster 3?**"
   ]
  },
  {
   "cell_type": "code",
   "execution_count": 13,
   "metadata": {},
   "outputs": [
    {
     "data": {
      "text/html": [
       "300"
      ],
      "text/latex": [
       "300"
      ],
      "text/markdown": [
       "300"
      ],
      "text/plain": [
       "[1] 300"
      ]
     },
     "metadata": {},
     "output_type": "display_data"
    }
   ],
   "source": [
    "# Outputs the number of row \n",
    "nrow(KmeansCluster3)"
   ]
  },
  {
   "cell_type": "markdown",
   "metadata": {},
   "source": [
    "**Which cluster has the most observations?**"
   ]
  },
  {
   "cell_type": "code",
   "execution_count": 14,
   "metadata": {},
   "outputs": [
    {
     "data": {
      "text/html": [
       "'# Observations Cluster 1: 150'"
      ],
      "text/latex": [
       "'\\# Observations Cluster 1: 150'"
      ],
      "text/markdown": [
       "'# Observations Cluster 1: 150'"
      ],
      "text/plain": [
       "[1] \"# Observations Cluster 1: 150\""
      ]
     },
     "metadata": {},
     "output_type": "display_data"
    },
    {
     "data": {
      "text/html": [
       "'# Observations Cluster 2: 329'"
      ],
      "text/latex": [
       "'\\# Observations Cluster 2: 329'"
      ],
      "text/markdown": [
       "'# Observations Cluster 2: 329'"
      ],
      "text/plain": [
       "[1] \"# Observations Cluster 2: 329\""
      ]
     },
     "metadata": {},
     "output_type": "display_data"
    },
    {
     "data": {
      "text/html": [
       "'# Observations Cluster 3: 300'"
      ],
      "text/latex": [
       "'\\# Observations Cluster 3: 300'"
      ],
      "text/markdown": [
       "'# Observations Cluster 3: 300'"
      ],
      "text/plain": [
       "[1] \"# Observations Cluster 3: 300\""
      ]
     },
     "metadata": {},
     "output_type": "display_data"
    },
    {
     "data": {
      "text/html": [
       "'# Observations Cluster 4: 2027'"
      ],
      "text/latex": [
       "'\\# Observations Cluster 4: 2027'"
      ],
      "text/markdown": [
       "'# Observations Cluster 4: 2027'"
      ],
      "text/plain": [
       "[1] \"# Observations Cluster 4: 2027\""
      ]
     },
     "metadata": {},
     "output_type": "display_data"
    },
    {
     "data": {
      "text/html": [
       "'# Observations Cluster 5: 144'"
      ],
      "text/latex": [
       "'\\# Observations Cluster 5: 144'"
      ],
      "text/markdown": [
       "'# Observations Cluster 5: 144'"
      ],
      "text/plain": [
       "[1] \"# Observations Cluster 5: 144\""
      ]
     },
     "metadata": {},
     "output_type": "display_data"
    },
    {
     "data": {
      "text/html": [
       "'# Observations Cluster 6: 275'"
      ],
      "text/latex": [
       "'\\# Observations Cluster 6: 275'"
      ],
      "text/markdown": [
       "'# Observations Cluster 6: 275'"
      ],
      "text/plain": [
       "[1] \"# Observations Cluster 6: 275\""
      ]
     },
     "metadata": {},
     "output_type": "display_data"
    },
    {
     "data": {
      "text/html": [
       "'# Observations Cluster 7: 205'"
      ],
      "text/latex": [
       "'\\# Observations Cluster 7: 205'"
      ],
      "text/markdown": [
       "'# Observations Cluster 7: 205'"
      ],
      "text/plain": [
       "[1] \"# Observations Cluster 7: 205\""
      ]
     },
     "metadata": {},
     "output_type": "display_data"
    }
   ],
   "source": [
    "paste(\"# Observations Cluster 1:\", nrow(KmeansCluster1))\n",
    "paste(\"# Observations Cluster 2:\", nrow(KmeansCluster2))\n",
    "paste(\"# Observations Cluster 3:\", nrow(KmeansCluster3))\n",
    "paste(\"# Observations Cluster 4:\", nrow(KmeansCluster4))\n",
    "paste(\"# Observations Cluster 5:\", nrow(KmeansCluster5))\n",
    "paste(\"# Observations Cluster 6:\", nrow(KmeansCluster6))\n",
    "paste(\"# Observations Cluster 7:\", nrow(KmeansCluster7))"
   ]
  },
  {
   "cell_type": "markdown",
   "metadata": {},
   "source": [
    "Answer: Cluster 4, with 2027 observations."
   ]
  },
  {
   "cell_type": "markdown",
   "metadata": {},
   "source": [
    "**Which cluster has the fewest number of observations?**"
   ]
  },
  {
   "cell_type": "markdown",
   "metadata": {},
   "source": [
    "Answer: Cluster 5, with 144 observations."
   ]
  },
  {
   "cell_type": "markdown",
   "metadata": {},
   "source": [
    "### Problem 2.2 - K-Means Clustering\n",
    "Now, output the six most frequent words in each cluster, like we did in the previous problem, for each of the k-means clusters.\n",
    "\n",
    "**Which k-means cluster best corresponds to the Iraq War?**"
   ]
  },
  {
   "cell_type": "code",
   "execution_count": 15,
   "metadata": {},
   "outputs": [
    {
     "data": {
      "text/html": [
       "'Most frequent words in Cluster 1:'"
      ],
      "text/latex": [
       "'Most frequent words in Cluster 1:'"
      ],
      "text/markdown": [
       "'Most frequent words in Cluster 1:'"
      ],
      "text/plain": [
       "[1] \"Most frequent words in Cluster 1:\""
      ]
     },
     "metadata": {},
     "output_type": "display_data"
    },
    {
     "data": {
      "text/html": [
       "<style>\n",
       ".dl-inline {width: auto; margin:0; padding: 0}\n",
       ".dl-inline>dt, .dl-inline>dd {float: none; width: auto; display: inline-block}\n",
       ".dl-inline>dt::after {content: \":\\0020\"; padding-right: .5ex}\n",
       ".dl-inline>dt:not(:first-of-type) {padding-left: .5ex}\n",
       "</style><dl class=dl-inline><dt>time</dt><dd>1.58666666666667</dd><dt>iraq</dt><dd>1.64</dd><dt>kerry</dt><dd>1.65333333333333</dd><dt>administration</dt><dd>2.62</dd><dt>presided</dt><dd>2.72666666666667</dd><dt>bush</dt><dd>11.3333333333333</dd></dl>\n"
      ],
      "text/latex": [
       "\\begin{description*}\n",
       "\\item[time] 1.58666666666667\n",
       "\\item[iraq] 1.64\n",
       "\\item[kerry] 1.65333333333333\n",
       "\\item[administration] 2.62\n",
       "\\item[presided] 2.72666666666667\n",
       "\\item[bush] 11.3333333333333\n",
       "\\end{description*}\n"
      ],
      "text/markdown": [
       "time\n",
       ":   1.58666666666667iraq\n",
       ":   1.64kerry\n",
       ":   1.65333333333333administration\n",
       ":   2.62presided\n",
       ":   2.72666666666667bush\n",
       ":   11.3333333333333\n",
       "\n"
      ],
      "text/plain": [
       "          time           iraq          kerry administration       presided \n",
       "      1.586667       1.640000       1.653333       2.620000       2.726667 \n",
       "          bush \n",
       "     11.333333 "
      ]
     },
     "metadata": {},
     "output_type": "display_data"
    },
    {
     "data": {
      "text/html": [
       "'Most frequent words in Cluster 2:'"
      ],
      "text/latex": [
       "'Most frequent words in Cluster 2:'"
      ],
      "text/markdown": [
       "'Most frequent words in Cluster 2:'"
      ],
      "text/plain": [
       "[1] \"Most frequent words in Cluster 2:\""
      ]
     },
     "metadata": {},
     "output_type": "display_data"
    },
    {
     "data": {
      "text/html": [
       "<style>\n",
       ".dl-inline {width: auto; margin:0; padding: 0}\n",
       ".dl-inline>dt, .dl-inline>dd {float: none; width: auto; display: inline-block}\n",
       ".dl-inline>dt::after {content: \":\\0020\"; padding-right: .5ex}\n",
       ".dl-inline>dt:not(:first-of-type) {padding-left: .5ex}\n",
       "</style><dl class=dl-inline><dt>democrat</dt><dd>2.89969604863222</dd><dt>bush</dt><dd>2.96048632218845</dd><dt>challenge</dt><dd>4.12158054711246</dd><dt>vote</dt><dd>4.4468085106383</dd><dt>poll</dt><dd>4.87234042553191</dd><dt>november</dt><dd>10.370820668693</dd></dl>\n"
      ],
      "text/latex": [
       "\\begin{description*}\n",
       "\\item[democrat] 2.89969604863222\n",
       "\\item[bush] 2.96048632218845\n",
       "\\item[challenge] 4.12158054711246\n",
       "\\item[vote] 4.4468085106383\n",
       "\\item[poll] 4.87234042553191\n",
       "\\item[november] 10.370820668693\n",
       "\\end{description*}\n"
      ],
      "text/markdown": [
       "democrat\n",
       ":   2.89969604863222bush\n",
       ":   2.96048632218845challenge\n",
       ":   4.12158054711246vote\n",
       ":   4.4468085106383poll\n",
       ":   4.87234042553191november\n",
       ":   10.370820668693\n",
       "\n"
      ],
      "text/plain": [
       " democrat      bush challenge      vote      poll  november \n",
       " 2.899696  2.960486  4.121581  4.446809  4.872340 10.370821 "
      ]
     },
     "metadata": {},
     "output_type": "display_data"
    },
    {
     "data": {
      "text/html": [
       "'Most frequent words in Cluster 3:'"
      ],
      "text/latex": [
       "'Most frequent words in Cluster 3:'"
      ],
      "text/markdown": [
       "'Most frequent words in Cluster 3:'"
      ],
      "text/plain": [
       "[1] \"Most frequent words in Cluster 3:\""
      ]
     },
     "metadata": {},
     "output_type": "display_data"
    },
    {
     "data": {
      "text/html": [
       "<style>\n",
       ".dl-inline {width: auto; margin:0; padding: 0}\n",
       ".dl-inline>dt, .dl-inline>dd {float: none; width: auto; display: inline-block}\n",
       ".dl-inline>dt::after {content: \":\\0020\"; padding-right: .5ex}\n",
       ".dl-inline>dt:not(:first-of-type) {padding-left: .5ex}\n",
       "</style><dl class=dl-inline><dt>voter</dt><dd>1.32666666666667</dd><dt>presided</dt><dd>1.33666666666667</dd><dt>campaign</dt><dd>1.40333333333333</dd><dt>poll</dt><dd>2.81666666666667</dd><dt>bush</dt><dd>5.96333333333333</dd><dt>kerry</dt><dd>6.61333333333333</dd></dl>\n"
      ],
      "text/latex": [
       "\\begin{description*}\n",
       "\\item[voter] 1.32666666666667\n",
       "\\item[presided] 1.33666666666667\n",
       "\\item[campaign] 1.40333333333333\n",
       "\\item[poll] 2.81666666666667\n",
       "\\item[bush] 5.96333333333333\n",
       "\\item[kerry] 6.61333333333333\n",
       "\\end{description*}\n"
      ],
      "text/markdown": [
       "voter\n",
       ":   1.32666666666667presided\n",
       ":   1.33666666666667campaign\n",
       ":   1.40333333333333poll\n",
       ":   2.81666666666667bush\n",
       ":   5.96333333333333kerry\n",
       ":   6.61333333333333\n",
       "\n"
      ],
      "text/plain": [
       "   voter presided campaign     poll     bush    kerry \n",
       "1.326667 1.336667 1.403333 2.816667 5.963333 6.613333 "
      ]
     },
     "metadata": {},
     "output_type": "display_data"
    },
    {
     "data": {
      "text/html": [
       "'Most frequent words in Cluster 4:'"
      ],
      "text/latex": [
       "'Most frequent words in Cluster 4:'"
      ],
      "text/markdown": [
       "'Most frequent words in Cluster 4:'"
      ],
      "text/plain": [
       "[1] \"Most frequent words in Cluster 4:\""
      ]
     },
     "metadata": {},
     "output_type": "display_data"
    },
    {
     "data": {
      "text/html": [
       "<style>\n",
       ".dl-inline {width: auto; margin:0; padding: 0}\n",
       ".dl-inline>dt, .dl-inline>dd {float: none; width: auto; display: inline-block}\n",
       ".dl-inline>dt::after {content: \":\\0020\"; padding-right: .5ex}\n",
       ".dl-inline>dt:not(:first-of-type) {padding-left: .5ex}\n",
       "</style><dl class=dl-inline><dt>republican</dt><dd>0.577207696102615</dd><dt>elect</dt><dd>0.578687715836211</dd><dt>kerry</dt><dd>0.658115441539221</dd><dt>poll</dt><dd>0.738036507153429</dd><dt>democrat</dt><dd>0.740996546620622</dd><dt>bush</dt><dd>1.15885545140602</dd></dl>\n"
      ],
      "text/latex": [
       "\\begin{description*}\n",
       "\\item[republican] 0.577207696102615\n",
       "\\item[elect] 0.578687715836211\n",
       "\\item[kerry] 0.658115441539221\n",
       "\\item[poll] 0.738036507153429\n",
       "\\item[democrat] 0.740996546620622\n",
       "\\item[bush] 1.15885545140602\n",
       "\\end{description*}\n"
      ],
      "text/markdown": [
       "republican\n",
       ":   0.577207696102615elect\n",
       ":   0.578687715836211kerry\n",
       ":   0.658115441539221poll\n",
       ":   0.738036507153429democrat\n",
       ":   0.740996546620622bush\n",
       ":   1.15885545140602\n",
       "\n"
      ],
      "text/plain": [
       "republican      elect      kerry       poll   democrat       bush \n",
       " 0.5772077  0.5786877  0.6581154  0.7380365  0.7409965  1.1588555 "
      ]
     },
     "metadata": {},
     "output_type": "display_data"
    },
    {
     "data": {
      "text/html": [
       "'Most frequent words in Cluster 5:'"
      ],
      "text/latex": [
       "'Most frequent words in Cluster 5:'"
      ],
      "text/markdown": [
       "'Most frequent words in Cluster 5:'"
      ],
      "text/plain": [
       "[1] \"Most frequent words in Cluster 5:\""
      ]
     },
     "metadata": {},
     "output_type": "display_data"
    },
    {
     "data": {
      "text/html": [
       "<style>\n",
       ".dl-inline {width: auto; margin:0; padding: 0}\n",
       ".dl-inline>dt, .dl-inline>dd {float: none; width: auto; display: inline-block}\n",
       ".dl-inline>dt::after {content: \":\\0020\"; padding-right: .5ex}\n",
       ".dl-inline>dt:not(:first-of-type) {padding-left: .5ex}\n",
       "</style><dl class=dl-inline><dt>primaries</dt><dd>2.33333333333333</dd><dt>democrat</dt><dd>2.70833333333333</dd><dt>edward</dt><dd>2.82638888888889</dd><dt>clark</dt><dd>3.08333333333333</dd><dt>kerry</dt><dd>5.04166666666667</dd><dt>dean</dt><dd>8.23611111111111</dd></dl>\n"
      ],
      "text/latex": [
       "\\begin{description*}\n",
       "\\item[primaries] 2.33333333333333\n",
       "\\item[democrat] 2.70833333333333\n",
       "\\item[edward] 2.82638888888889\n",
       "\\item[clark] 3.08333333333333\n",
       "\\item[kerry] 5.04166666666667\n",
       "\\item[dean] 8.23611111111111\n",
       "\\end{description*}\n"
      ],
      "text/markdown": [
       "primaries\n",
       ":   2.33333333333333democrat\n",
       ":   2.70833333333333edward\n",
       ":   2.82638888888889clark\n",
       ":   3.08333333333333kerry\n",
       ":   5.04166666666667dean\n",
       ":   8.23611111111111\n",
       "\n"
      ],
      "text/plain": [
       "primaries  democrat    edward     clark     kerry      dean \n",
       " 2.333333  2.708333  2.826389  3.083333  5.041667  8.236111 "
      ]
     },
     "metadata": {},
     "output_type": "display_data"
    },
    {
     "data": {
      "text/html": [
       "'Most frequent words in Cluster 6:'"
      ],
      "text/latex": [
       "'Most frequent words in Cluster 6:'"
      ],
      "text/markdown": [
       "'Most frequent words in Cluster 6:'"
      ],
      "text/plain": [
       "[1] \"Most frequent words in Cluster 6:\""
      ]
     },
     "metadata": {},
     "output_type": "display_data"
    },
    {
     "data": {
      "text/html": [
       "<style>\n",
       ".dl-inline {width: auto; margin:0; padding: 0}\n",
       ".dl-inline>dt, .dl-inline>dd {float: none; width: auto; display: inline-block}\n",
       ".dl-inline>dt::after {content: \":\\0020\"; padding-right: .5ex}\n",
       ".dl-inline>dt:not(:first-of-type) {padding-left: .5ex}\n",
       "</style><dl class=dl-inline><dt>administration</dt><dd>1.39636363636364</dd><dt>iraqi</dt><dd>1.62181818181818</dd><dt>american</dt><dd>1.69454545454545</dd><dt>bush</dt><dd>2.60727272727273</dd><dt>war</dt><dd>3.03636363636364</dd><dt>iraq</dt><dd>4.09454545454545</dd></dl>\n"
      ],
      "text/latex": [
       "\\begin{description*}\n",
       "\\item[administration] 1.39636363636364\n",
       "\\item[iraqi] 1.62181818181818\n",
       "\\item[american] 1.69454545454545\n",
       "\\item[bush] 2.60727272727273\n",
       "\\item[war] 3.03636363636364\n",
       "\\item[iraq] 4.09454545454545\n",
       "\\end{description*}\n"
      ],
      "text/markdown": [
       "administration\n",
       ":   1.39636363636364iraqi\n",
       ":   1.62181818181818american\n",
       ":   1.69454545454545bush\n",
       ":   2.60727272727273war\n",
       ":   3.03636363636364iraq\n",
       ":   4.09454545454545\n",
       "\n"
      ],
      "text/plain": [
       "administration          iraqi       american           bush            war \n",
       "      1.396364       1.621818       1.694545       2.607273       3.036364 \n",
       "          iraq \n",
       "      4.094545 "
      ]
     },
     "metadata": {},
     "output_type": "display_data"
    },
    {
     "data": {
      "text/html": [
       "'Most frequent words in Cluster 7:'"
      ],
      "text/latex": [
       "'Most frequent words in Cluster 7:'"
      ],
      "text/markdown": [
       "'Most frequent words in Cluster 7:'"
      ],
      "text/plain": [
       "[1] \"Most frequent words in Cluster 7:\""
      ]
     },
     "metadata": {},
     "output_type": "display_data"
    },
    {
     "data": {
      "text/html": [
       "<style>\n",
       ".dl-inline {width: auto; margin:0; padding: 0}\n",
       ".dl-inline>dt, .dl-inline>dd {float: none; width: auto; display: inline-block}\n",
       ".dl-inline>dt::after {content: \":\\0020\"; padding-right: .5ex}\n",
       ".dl-inline>dt:not(:first-of-type) {padding-left: .5ex}\n",
       "</style><dl class=dl-inline><dt>race</dt><dd>2.34146341463415</dd><dt>senate</dt><dd>2.40975609756098</dd><dt>state</dt><dd>2.99512195121951</dd><dt>parties</dt><dd>3.24390243902439</dd><dt>republican</dt><dd>4.2</dd><dt>democrat</dt><dd>6.18536585365854</dd></dl>\n"
      ],
      "text/latex": [
       "\\begin{description*}\n",
       "\\item[race] 2.34146341463415\n",
       "\\item[senate] 2.40975609756098\n",
       "\\item[state] 2.99512195121951\n",
       "\\item[parties] 3.24390243902439\n",
       "\\item[republican] 4.2\n",
       "\\item[democrat] 6.18536585365854\n",
       "\\end{description*}\n"
      ],
      "text/markdown": [
       "race\n",
       ":   2.34146341463415senate\n",
       ":   2.40975609756098state\n",
       ":   2.99512195121951parties\n",
       ":   3.24390243902439republican\n",
       ":   4.2democrat\n",
       ":   6.18536585365854\n",
       "\n"
      ],
      "text/plain": [
       "      race     senate      state    parties republican   democrat \n",
       "  2.341463   2.409756   2.995122   3.243902   4.200000   6.185366 "
      ]
     },
     "metadata": {},
     "output_type": "display_data"
    }
   ],
   "source": [
    "# Sorts the words used in each clusters\n",
    "\n",
    "a = tail(sort(colMeans(KmeansCluster1)))\n",
    "b = tail(sort(colMeans(KmeansCluster2)))\n",
    "c = tail(sort(colMeans(KmeansCluster3)))\n",
    "d = tail(sort(colMeans(KmeansCluster4)))\n",
    "e = tail(sort(colMeans(KmeansCluster5)))\n",
    "f = tail(sort(colMeans(KmeansCluster6)))\n",
    "g = tail(sort(colMeans(KmeansCluster7)))\n",
    "\n",
    "paste(\"Most frequent words in Cluster 1:\")\n",
    "a\n",
    "paste(\"Most frequent words in Cluster 2:\")\n",
    "b\n",
    "paste(\"Most frequent words in Cluster 3:\")\n",
    "c\n",
    "paste(\"Most frequent words in Cluster 4:\")\n",
    "d\n",
    "paste(\"Most frequent words in Cluster 5:\")\n",
    "e\n",
    "paste(\"Most frequent words in Cluster 6:\")\n",
    "f\n",
    "paste(\"Most frequent words in Cluster 7:\")\n",
    "g"
   ]
  },
  {
   "cell_type": "markdown",
   "metadata": {},
   "source": [
    "Answer: Cluster 6."
   ]
  },
  {
   "cell_type": "markdown",
   "metadata": {},
   "source": [
    "**Which k-means cluster best corresponds to the democratic party? (Remember that we are looking for the names of the key democratic party leaders.)**"
   ]
  },
  {
   "cell_type": "markdown",
   "metadata": {},
   "source": [
    "Answer: Cluster 5."
   ]
  },
  {
   "cell_type": "markdown",
   "metadata": {},
   "source": [
    "### Problem 2.3 - K-Means Clustering\n",
    "For the rest of this problem, we'll ask you to compare how observations were assigned to clusters in the two different methods. Use the table function to compare the cluster assignment of hierarchical clustering to the cluster assignment of k-means clustering."
   ]
  },
  {
   "cell_type": "code",
   "execution_count": 16,
   "metadata": {},
   "outputs": [
    {
     "data": {
      "text/plain": [
       "          \n",
       "hierGroups    1    2    3    4    5    6    7\n",
       "         1    3    0  110 1026   11   62   54\n",
       "         2    0  320    1    0    0    0    0\n",
       "         3   85    8   24   67    9   42  139\n",
       "         4   10    0  123    0    5    0    1\n",
       "         5   52    1   34  141    0  171    8\n",
       "         6    0    0    0  710    2    0    2\n",
       "         7    0    0    8   83  117    0    1"
      ]
     },
     "metadata": {},
     "output_type": "display_data"
    }
   ],
   "source": [
    "# Tabulates the hierarchical cluster group vs the k-means cluster group \n",
    "cp = table(hierGroups, kmc$cluster)\n",
    "cp"
   ]
  },
  {
   "cell_type": "markdown",
   "metadata": {},
   "source": [
    "                      K-Means\n",
    "                      1 ... 7\n",
    "                  1\n",
    "    Hierarchical ...\n",
    "                  7"
   ]
  },
  {
   "cell_type": "markdown",
   "metadata": {},
   "source": [
    "**Which Hierarchical Cluster best corresponds to K-Means Cluster 2?**"
   ]
  },
  {
   "cell_type": "markdown",
   "metadata": {},
   "source": [
    "Answer: Cluster 2 (Hierarchical) with Cluster 2 (K-Means). (320/329 K-Means in 320/321 Hierarchical)"
   ]
  },
  {
   "cell_type": "code",
   "execution_count": 17,
   "metadata": {},
   "outputs": [
    {
     "data": {
      "text/html": [
       "0.972644376899696"
      ],
      "text/latex": [
       "0.972644376899696"
      ],
      "text/markdown": [
       "0.972644376899696"
      ],
      "text/plain": [
       "[1] 0.9726444"
      ]
     },
     "metadata": {},
     "output_type": "display_data"
    }
   ],
   "source": [
    "cp[2,2]/sum(cp[1:7,2])"
   ]
  },
  {
   "cell_type": "code",
   "execution_count": 18,
   "metadata": {},
   "outputs": [
    {
     "data": {
      "text/html": [
       "0.996884735202492"
      ],
      "text/latex": [
       "0.996884735202492"
      ],
      "text/markdown": [
       "0.996884735202492"
      ],
      "text/plain": [
       "[1] 0.9968847"
      ]
     },
     "metadata": {},
     "output_type": "display_data"
    }
   ],
   "source": [
    "cp[2,2]/sum(cp[2,1:7])"
   ]
  },
  {
   "cell_type": "markdown",
   "metadata": {},
   "source": [
    "### Problem 2.4 - K-Means Clustering\n",
    "**Which Hierarchical Cluster best corresponds to K-Means Cluster 3?**"
   ]
  },
  {
   "cell_type": "markdown",
   "metadata": {},
   "source": [
    "Answer: Cluster 4 (Hierarchical) with Cluster 3 (K-Means)"
   ]
  },
  {
   "cell_type": "code",
   "execution_count": 19,
   "metadata": {},
   "outputs": [
    {
     "data": {
      "text/html": [
       "0.41"
      ],
      "text/latex": [
       "0.41"
      ],
      "text/markdown": [
       "0.41"
      ],
      "text/plain": [
       "[1] 0.41"
      ]
     },
     "metadata": {},
     "output_type": "display_data"
    }
   ],
   "source": [
    "cp[4,3]/sum(cp[1:7,3])"
   ]
  },
  {
   "cell_type": "code",
   "execution_count": 20,
   "metadata": {},
   "outputs": [
    {
     "data": {
      "text/html": [
       "0.884892086330935"
      ],
      "text/latex": [
       "0.884892086330935"
      ],
      "text/markdown": [
       "0.884892086330935"
      ],
      "text/plain": [
       "[1] 0.8848921"
      ]
     },
     "metadata": {},
     "output_type": "display_data"
    }
   ],
   "source": [
    "cp[4,3]/sum(cp[4,1:7])"
   ]
  },
  {
   "cell_type": "markdown",
   "metadata": {},
   "source": [
    "### Problem 2.5 - K-Means Clustering\n",
    "**Which Hierarchical Cluster best corresponds to K-Means Cluster 7?**"
   ]
  },
  {
   "cell_type": "markdown",
   "metadata": {},
   "source": [
    "Answer: Cluster 3 (Hierarchical) with Cluster 7 (K-Means), but not exactly."
   ]
  },
  {
   "cell_type": "code",
   "execution_count": 21,
   "metadata": {},
   "outputs": [
    {
     "data": {
      "text/html": [
       "0.678048780487805"
      ],
      "text/latex": [
       "0.678048780487805"
      ],
      "text/markdown": [
       "0.678048780487805"
      ],
      "text/plain": [
       "[1] 0.6780488"
      ]
     },
     "metadata": {},
     "output_type": "display_data"
    }
   ],
   "source": [
    "cp[3,7]/sum(cp[1:7,7])"
   ]
  },
  {
   "cell_type": "code",
   "execution_count": 22,
   "metadata": {},
   "outputs": [
    {
     "data": {
      "text/html": [
       "0.371657754010695"
      ],
      "text/latex": [
       "0.371657754010695"
      ],
      "text/markdown": [
       "0.371657754010695"
      ],
      "text/plain": [
       "[1] 0.3716578"
      ]
     },
     "metadata": {},
     "output_type": "display_data"
    }
   ],
   "source": [
    "cp[3,7]/sum(cp[3,1:7])"
   ]
  },
  {
   "cell_type": "markdown",
   "metadata": {},
   "source": [
    "## Problem 2.6 - K-Means Clustering\n",
    "**Which Hierarchical Cluster best corresponds to K-Means Cluster 6?**"
   ]
  },
  {
   "cell_type": "markdown",
   "metadata": {},
   "source": [
    "Answer: Cluster 5 (Hierarchical) with Cluster 6 (K-Means)"
   ]
  },
  {
   "cell_type": "code",
   "execution_count": 23,
   "metadata": {},
   "outputs": [
    {
     "data": {
      "text/html": [
       "0.621818181818182"
      ],
      "text/latex": [
       "0.621818181818182"
      ],
      "text/markdown": [
       "0.621818181818182"
      ],
      "text/plain": [
       "[1] 0.6218182"
      ]
     },
     "metadata": {},
     "output_type": "display_data"
    }
   ],
   "source": [
    "cp[5,6]/sum(cp[1:7,6])"
   ]
  },
  {
   "cell_type": "code",
   "execution_count": 24,
   "metadata": {},
   "outputs": [
    {
     "data": {
      "text/html": [
       "0.42014742014742"
      ],
      "text/latex": [
       "0.42014742014742"
      ],
      "text/markdown": [
       "0.42014742014742"
      ],
      "text/plain": [
       "[1] 0.4201474"
      ]
     },
     "metadata": {},
     "output_type": "display_data"
    }
   ],
   "source": [
    "cp[5,6]/sum(cp[5,1:7])"
   ]
  }
 ],
 "metadata": {
  "kernelspec": {
   "display_name": "R",
   "language": "R",
   "name": "ir"
  },
  "language_info": {
   "codemirror_mode": "r",
   "file_extension": ".r",
   "mimetype": "text/x-r-source",
   "name": "R",
   "pygments_lexer": "r",
   "version": "3.6.3"
  }
 },
 "nbformat": 4,
 "nbformat_minor": 4
}
