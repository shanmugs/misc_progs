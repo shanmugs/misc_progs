{
 "cells": [
  {
   "cell_type": "markdown",
   "metadata": {},
   "source": [
    "# Detecting Flu Epidemics via Search Engine Query Data"
   ]
  },
  {
   "cell_type": "markdown",
   "metadata": {},
   "source": [
    "Flu epidemics constitute a major public health concern causing respiratory illnesses, hospitalizations, and deaths. According to the National Vital Statistics Reports published in October 2012, influenza ranked as the eighth leading cause of death in 2011 in the United States. Each year, 250,000 to 500,000 deaths are attributed to influenza related diseases throughout the world.\n",
    "\n",
    "The U.S. Centers for Disease Control and Prevention (CDC) and the European Influenza Surveillance Scheme (EISS) detect influenza activity through virologic and clinical data, including Influenza-like Illness (ILI) physician visits. Reporting national and regional data, however, are published with a 1-2 week lag.\n",
    "\n",
    "The *Google Flu Trends* project was initiated to see if faster reporting can be made possible by considering flu-related online search queries -- data that is available almost immediately."
   ]
  },
  {
   "cell_type": "markdown",
   "metadata": {},
   "source": [
    "<img src=\"images/flu.png\"/>"
   ]
  },
  {
   "cell_type": "markdown",
   "metadata": {},
   "source": [
    "### Problem 1.1 - Understanding the Data\n",
    "\n",
    "We would like to estimate influenza-like illness (ILI) activity using Google web search logs. Fortunately, one can easily access this data online:\n",
    "\n",
    "ILI Data - The CDC publishes on its website the official regional and state-level percentage of patient visits to healthcare providers for ILI purposes on a weekly basis.\n",
    "\n",
    "Google Search Queries - Google Trends allows public retrieval of weekly counts for every query searched by users around the world. For each location, the counts are normalized by dividing the count for each query in a particular week by the total number of online search queries submitted in that location during the week. Then, the values are adjusted to be between 0 and 1.\n",
    "\n",
    "The csv file FluTrain.csv aggregates this data from January 1, 2004 until December 31, 2011 as follows:\n",
    "\n",
    "\"Week\" - The range of dates represented by this observation, in year/month/day format.\n",
    "\n",
    "\"ILI\" - This column lists the percentage of ILI-related physician visits for the corresponding week.\n",
    "\n",
    "\"Queries\" - This column lists the fraction of queries that are ILI-related for the corresponding week, adjusted to be between 0 and 1 (higher values correspond to more ILI-related search queries).\n",
    "\n",
    "Before applying analytics tools on the training set, we first need to understand the data at hand. Load \"FluTrain.csv\" into a data frame called FluTrain."
   ]
  },
  {
   "cell_type": "code",
   "execution_count": 1,
   "metadata": {},
   "outputs": [
    {
     "data": {
      "text/html": [
       "<table>\n",
       "<caption>A data.frame: 6 × 3</caption>\n",
       "<thead>\n",
       "\t<tr><th></th><th scope=col>Week</th><th scope=col>ILI</th><th scope=col>Queries</th></tr>\n",
       "\t<tr><th></th><th scope=col>&lt;fct&gt;</th><th scope=col>&lt;dbl&gt;</th><th scope=col>&lt;dbl&gt;</th></tr>\n",
       "</thead>\n",
       "<tbody>\n",
       "\t<tr><th scope=row>1</th><td>2004-01-04 - 2004-01-10</td><td>2.418331</td><td>0.2377158</td></tr>\n",
       "\t<tr><th scope=row>2</th><td>2004-01-11 - 2004-01-17</td><td>1.809056</td><td>0.2204515</td></tr>\n",
       "\t<tr><th scope=row>3</th><td>2004-01-18 - 2004-01-24</td><td>1.712024</td><td>0.2257636</td></tr>\n",
       "\t<tr><th scope=row>4</th><td>2004-01-25 - 2004-01-31</td><td>1.542495</td><td>0.2377158</td></tr>\n",
       "\t<tr><th scope=row>5</th><td>2004-02-01 - 2004-02-07</td><td>1.437868</td><td>0.2244356</td></tr>\n",
       "\t<tr><th scope=row>6</th><td>2004-02-08 - 2004-02-14</td><td>1.324274</td><td>0.2071713</td></tr>\n",
       "</tbody>\n",
       "</table>\n"
      ],
      "text/latex": [
       "A data.frame: 6 × 3\n",
       "\\begin{tabular}{r|lll}\n",
       "  & Week & ILI & Queries\\\\\n",
       "  & <fct> & <dbl> & <dbl>\\\\\n",
       "\\hline\n",
       "\t1 & 2004-01-04 - 2004-01-10 & 2.418331 & 0.2377158\\\\\n",
       "\t2 & 2004-01-11 - 2004-01-17 & 1.809056 & 0.2204515\\\\\n",
       "\t3 & 2004-01-18 - 2004-01-24 & 1.712024 & 0.2257636\\\\\n",
       "\t4 & 2004-01-25 - 2004-01-31 & 1.542495 & 0.2377158\\\\\n",
       "\t5 & 2004-02-01 - 2004-02-07 & 1.437868 & 0.2244356\\\\\n",
       "\t6 & 2004-02-08 - 2004-02-14 & 1.324274 & 0.2071713\\\\\n",
       "\\end{tabular}\n"
      ],
      "text/markdown": [
       "\n",
       "A data.frame: 6 × 3\n",
       "\n",
       "| <!--/--> | Week &lt;fct&gt; | ILI &lt;dbl&gt; | Queries &lt;dbl&gt; |\n",
       "|---|---|---|---|\n",
       "| 1 | 2004-01-04 - 2004-01-10 | 2.418331 | 0.2377158 |\n",
       "| 2 | 2004-01-11 - 2004-01-17 | 1.809056 | 0.2204515 |\n",
       "| 3 | 2004-01-18 - 2004-01-24 | 1.712024 | 0.2257636 |\n",
       "| 4 | 2004-01-25 - 2004-01-31 | 1.542495 | 0.2377158 |\n",
       "| 5 | 2004-02-01 - 2004-02-07 | 1.437868 | 0.2244356 |\n",
       "| 6 | 2004-02-08 - 2004-02-14 | 1.324274 | 0.2071713 |\n",
       "\n"
      ],
      "text/plain": [
       "  Week                    ILI      Queries  \n",
       "1 2004-01-04 - 2004-01-10 2.418331 0.2377158\n",
       "2 2004-01-11 - 2004-01-17 1.809056 0.2204515\n",
       "3 2004-01-18 - 2004-01-24 1.712024 0.2257636\n",
       "4 2004-01-25 - 2004-01-31 1.542495 0.2377158\n",
       "5 2004-02-01 - 2004-02-07 1.437868 0.2244356\n",
       "6 2004-02-08 - 2004-02-14 1.324274 0.2071713"
      ]
     },
     "metadata": {},
     "output_type": "display_data"
    }
   ],
   "source": [
    "FluTrain <- read.csv('data/FluTrain.csv')\n",
    "head(FluTrain)"
   ]
  },
  {
   "cell_type": "code",
   "execution_count": 2,
   "metadata": {},
   "outputs": [
    {
     "name": "stdout",
     "output_type": "stream",
     "text": [
      "'data.frame':\t417 obs. of  3 variables:\n",
      " $ Week   : Factor w/ 417 levels \"2004-01-04 - 2004-01-10\",..: 1 2 3 4 5 6 7 8 9 10 ...\n",
      " $ ILI    : num  2.42 1.81 1.71 1.54 1.44 ...\n",
      " $ Queries: num  0.238 0.22 0.226 0.238 0.224 ...\n"
     ]
    }
   ],
   "source": [
    "str(FluTrain)"
   ]
  },
  {
   "cell_type": "code",
   "execution_count": 3,
   "metadata": {},
   "outputs": [
    {
     "data": {
      "text/plain": [
       "                      Week          ILI            Queries       \n",
       " 2004-01-04 - 2004-01-10:  1   Min.   :0.5341   Min.   :0.04117  \n",
       " 2004-01-11 - 2004-01-17:  1   1st Qu.:0.9025   1st Qu.:0.15671  \n",
       " 2004-01-18 - 2004-01-24:  1   Median :1.2526   Median :0.28154  \n",
       " 2004-01-25 - 2004-01-31:  1   Mean   :1.6769   Mean   :0.28603  \n",
       " 2004-02-01 - 2004-02-07:  1   3rd Qu.:2.0587   3rd Qu.:0.37849  \n",
       " 2004-02-08 - 2004-02-14:  1   Max.   :7.6189   Max.   :1.00000  \n",
       " (Other)                :411                                     "
      ]
     },
     "metadata": {},
     "output_type": "display_data"
    }
   ],
   "source": [
    "summary(FluTrain)"
   ]
  },
  {
   "cell_type": "code",
   "execution_count": 4,
   "metadata": {},
   "outputs": [
    {
     "data": {
      "image/png": "[encoded data removed]",
      "text/plain": [
       "Plot with title \"Week x Influenza-Like Illness\""
      ]
     },
     "metadata": {
      "image/png": {
       "height": 360,
       "width": 720
      },
      "text/plain": {
       "height": 360,
       "width": 720
      }
     },
     "output_type": "display_data"
    }
   ],
   "source": [
    "options(repr.plot.width=12, repr.plot.height=6)\n",
    "plot(FluTrain$Week, FluTrain$ILI, main = \"Week x Influenza-Like Illness\",xlab='Week',ylab='ILI')"
   ]
  },
  {
   "cell_type": "markdown",
   "metadata": {},
   "source": [
    "Looking at the time period 2004-2011, **which week corresponds to the highest percentage of ILI-related physician visits?** Select the day of the month corresponding to the start of this week."
   ]
  },
  {
   "cell_type": "code",
   "execution_count": 5,
   "metadata": {},
   "outputs": [
    {
     "data": {
      "text/html": [
       "<table>\n",
       "<caption>A data.frame: 1 × 3</caption>\n",
       "<thead>\n",
       "\t<tr><th></th><th scope=col>Week</th><th scope=col>ILI</th><th scope=col>Queries</th></tr>\n",
       "\t<tr><th></th><th scope=col>&lt;fct&gt;</th><th scope=col>&lt;dbl&gt;</th><th scope=col>&lt;dbl&gt;</th></tr>\n",
       "</thead>\n",
       "<tbody>\n",
       "\t<tr><th scope=row>303</th><td>2009-10-18 - 2009-10-24</td><td>7.618892</td><td>1</td></tr>\n",
       "</tbody>\n",
       "</table>\n"
      ],
      "text/latex": [
       "A data.frame: 1 × 3\n",
       "\\begin{tabular}{r|lll}\n",
       "  & Week & ILI & Queries\\\\\n",
       "  & <fct> & <dbl> & <dbl>\\\\\n",
       "\\hline\n",
       "\t303 & 2009-10-18 - 2009-10-24 & 7.618892 & 1\\\\\n",
       "\\end{tabular}\n"
      ],
      "text/markdown": [
       "\n",
       "A data.frame: 1 × 3\n",
       "\n",
       "| <!--/--> | Week &lt;fct&gt; | ILI &lt;dbl&gt; | Queries &lt;dbl&gt; |\n",
       "|---|---|---|---|\n",
       "| 303 | 2009-10-18 - 2009-10-24 | 7.618892 | 1 |\n",
       "\n"
      ],
      "text/plain": [
       "    Week                    ILI      Queries\n",
       "303 2009-10-18 - 2009-10-24 7.618892 1      "
      ]
     },
     "metadata": {},
     "output_type": "display_data"
    }
   ],
   "source": [
    "FluTrain[which(FluTrain$ILI==max(FluTrain$ILI)),]"
   ]
  },
  {
   "cell_type": "markdown",
   "metadata": {},
   "source": [
    "**Which week corresponds to the highest percentage of ILI-related query fraction?**"
   ]
  },
  {
   "cell_type": "code",
   "execution_count": 6,
   "metadata": {},
   "outputs": [
    {
     "data": {
      "text/html": [
       "<table>\n",
       "<caption>A data.frame: 1 × 3</caption>\n",
       "<thead>\n",
       "\t<tr><th></th><th scope=col>Week</th><th scope=col>ILI</th><th scope=col>Queries</th></tr>\n",
       "\t<tr><th></th><th scope=col>&lt;fct&gt;</th><th scope=col>&lt;dbl&gt;</th><th scope=col>&lt;dbl&gt;</th></tr>\n",
       "</thead>\n",
       "<tbody>\n",
       "\t<tr><th scope=row>303</th><td>2009-10-18 - 2009-10-24</td><td>7.618892</td><td>1</td></tr>\n",
       "</tbody>\n",
       "</table>\n"
      ],
      "text/latex": [
       "A data.frame: 1 × 3\n",
       "\\begin{tabular}{r|lll}\n",
       "  & Week & ILI & Queries\\\\\n",
       "  & <fct> & <dbl> & <dbl>\\\\\n",
       "\\hline\n",
       "\t303 & 2009-10-18 - 2009-10-24 & 7.618892 & 1\\\\\n",
       "\\end{tabular}\n"
      ],
      "text/markdown": [
       "\n",
       "A data.frame: 1 × 3\n",
       "\n",
       "| <!--/--> | Week &lt;fct&gt; | ILI &lt;dbl&gt; | Queries &lt;dbl&gt; |\n",
       "|---|---|---|---|\n",
       "| 303 | 2009-10-18 - 2009-10-24 | 7.618892 | 1 |\n",
       "\n"
      ],
      "text/plain": [
       "    Week                    ILI      Queries\n",
       "303 2009-10-18 - 2009-10-24 7.618892 1      "
      ]
     },
     "metadata": {},
     "output_type": "display_data"
    }
   ],
   "source": [
    "FluTrain[which(FluTrain$Queries==max(FluTrain$Queries)),]"
   ]
  },
  {
   "cell_type": "markdown",
   "metadata": {},
   "source": [
    "### Problem 1.2 - Understanding the Data\n",
    "\n",
    "Let us now understand the data at an aggregate level. Plot the histogram of the dependent variable, ILI. "
   ]
  },
  {
   "cell_type": "code",
   "execution_count": 7,
   "metadata": {},
   "outputs": [
    {
     "data": {
      "image/png": "[encoded data removed]",
      "text/plain": [
       "Plot with title \"Influenza-Like Illness\""
      ]
     },
     "metadata": {
      "image/png": {
       "height": 360,
       "width": 720
      },
      "text/plain": {
       "height": 360,
       "width": 720
      }
     },
     "output_type": "display_data"
    }
   ],
   "source": [
    "hist(FluTrain$ILI, main = \"Influenza-Like Illness\")"
   ]
  },
  {
   "cell_type": "markdown",
   "metadata": {},
   "source": [
    "**What best describes the distribution of values of ILI?**"
   ]
  },
  {
   "cell_type": "markdown",
   "metadata": {},
   "source": [
    "Visually, the data is skew right."
   ]
  },
  {
   "cell_type": "markdown",
   "metadata": {},
   "source": [
    "### Problem 1.3 - Understanding the Data\n",
    "\n",
    "When handling a skewed dependent variable, it is often useful to predict the logarithm of the dependent variable instead of the dependent variable itself -- this prevents the small number of unusually large or small observations from having an undue influence on the sum of squared errors of predictive models. In this problem, we will predict the natural log of the ILI variable, which can be computed in R using the log() function.\n",
    "\n",
    "Plot the natural logarithm of ILI versus Queries."
   ]
  },
  {
   "cell_type": "code",
   "execution_count": 8,
   "metadata": {},
   "outputs": [
    {
     "data": {
      "image/png": "[encoded data removed]",
      "text/plain": [
       "plot without title"
      ]
     },
     "metadata": {
      "image/png": {
       "height": 360,
       "width": 720
      },
      "text/plain": {
       "height": 360,
       "width": 720
      }
     },
     "output_type": "display_data"
    }
   ],
   "source": [
    "plot(log(FluTrain$ILI), FluTrain$Queries)"
   ]
  },
  {
   "cell_type": "markdown",
   "metadata": {},
   "source": [
    "**What does the plot suggest?**"
   ]
  },
  {
   "cell_type": "markdown",
   "metadata": {},
   "source": [
    "Visually, there is a positive, linear relationship between log(ILI) and Queries."
   ]
  },
  {
   "cell_type": "markdown",
   "metadata": {},
   "source": [
    "Problem 2.1 - Linear Regression Model\n",
    "\n",
    "Based on the plot we just made, it seems that a linear regression model could be a good modeling choice. Based on our understanding of the data from the previous subproblem, **which model best describes our estimation problem?**"
   ]
  },
  {
   "cell_type": "markdown",
   "metadata": {},
   "source": [
    "log(ILI) = intercept + coefficient x Queries, where the coefficient is positive"
   ]
  },
  {
   "cell_type": "markdown",
   "metadata": {},
   "source": [
    "### Problem 2.2 - Linear Regression Model\n",
    "\n",
    "Let's call the regression model from the previous problem (Problem 2.1) FluTrend1 and run it in R. Hint: to take the logarithm of a variable Var in a regression equation, you simply use log(Var) when specifying the formula to the lm() function."
   ]
  },
  {
   "cell_type": "code",
   "execution_count": 9,
   "metadata": {},
   "outputs": [
    {
     "data": {
      "text/plain": [
       "\n",
       "Call:\n",
       "lm(formula = log(ILI) ~ Queries, data = FluTrain)\n",
       "\n",
       "Residuals:\n",
       "     Min       1Q   Median       3Q      Max \n",
       "-0.76003 -0.19696 -0.01657  0.18685  1.06450 \n",
       "\n",
       "Coefficients:\n",
       "            Estimate Std. Error t value Pr(>|t|)    \n",
       "(Intercept) -0.49934    0.03041  -16.42   <2e-16 ***\n",
       "Queries      2.96129    0.09312   31.80   <2e-16 ***\n",
       "---\n",
       "Signif. codes:  0 '***' 0.001 '**' 0.01 '*' 0.05 '.' 0.1 ' ' 1\n",
       "\n",
       "Residual standard error: 0.2995 on 415 degrees of freedom\n",
       "Multiple R-squared:  0.709,\tAdjusted R-squared:  0.7083 \n",
       "F-statistic:  1011 on 1 and 415 DF,  p-value: < 2.2e-16\n"
      ]
     },
     "metadata": {},
     "output_type": "display_data"
    }
   ],
   "source": [
    "FluTrend1 = lm(log(ILI) ~ Queries, data=FluTrain)\n",
    "summary(FluTrend1)"
   ]
  },
  {
   "cell_type": "markdown",
   "metadata": {},
   "source": [
    "**What is the training set R-squared value for FluTrend1 model (the \"Multiple R-squared\")?**"
   ]
  },
  {
   "cell_type": "code",
   "execution_count": 10,
   "metadata": {},
   "outputs": [
    {
     "data": {
      "text/html": [
       "0.709020055348186"
      ],
      "text/latex": [
       "0.709020055348186"
      ],
      "text/markdown": [
       "0.709020055348186"
      ],
      "text/plain": [
       "[1] 0.7090201"
      ]
     },
     "metadata": {},
     "output_type": "display_data"
    }
   ],
   "source": [
    "summary(FluTrend1)$r.squared"
   ]
  },
  {
   "cell_type": "markdown",
   "metadata": {},
   "source": [
    "### Problem 2.3 - Linear Regression Model\n",
    "\n",
    "For a single variable linear regression model, there is a direct relationship between the R-squared and the correlation between the independent and the dependent variables. **What is the relationship we infer from our problem?** (Don't forget that you can use the cor function to compute the correlation between two variables.)"
   ]
  },
  {
   "cell_type": "code",
   "execution_count": 11,
   "metadata": {},
   "outputs": [
    {
     "data": {
      "text/html": [
       "0.842033286365917"
      ],
      "text/latex": [
       "0.842033286365917"
      ],
      "text/markdown": [
       "0.842033286365917"
      ],
      "text/plain": [
       "[1] 0.8420333"
      ]
     },
     "metadata": {},
     "output_type": "display_data"
    }
   ],
   "source": [
    "x <- cor(log(FluTrain$ILI), FluTrain$Queries)\n",
    "x"
   ]
  },
  {
   "cell_type": "code",
   "execution_count": 12,
   "metadata": {},
   "outputs": [
    {
     "data": {
      "text/html": [
       "0.709020055348187"
      ],
      "text/latex": [
       "0.709020055348187"
      ],
      "text/markdown": [
       "0.709020055348187"
      ],
      "text/plain": [
       "[1] 0.7090201"
      ]
     },
     "metadata": {},
     "output_type": "display_data"
    }
   ],
   "source": [
    "x^2"
   ]
  },
  {
   "cell_type": "code",
   "execution_count": 13,
   "metadata": {},
   "outputs": [
    {
     "data": {
      "text/html": [
       "0.17193573302011"
      ],
      "text/latex": [
       "0.17193573302011"
      ],
      "text/markdown": [
       "0.17193573302011"
      ],
      "text/plain": [
       "[1] 0.1719357"
      ]
     },
     "metadata": {},
     "output_type": "display_data"
    }
   ],
   "source": [
    "log(1/x)"
   ]
  },
  {
   "cell_type": "code",
   "execution_count": 14,
   "metadata": {},
   "outputs": [
    {
     "data": {
      "text/html": [
       "0.656379177079529"
      ],
      "text/latex": [
       "0.656379177079529"
      ],
      "text/markdown": [
       "0.656379177079529"
      ],
      "text/plain": [
       "[1] 0.6563792"
      ]
     },
     "metadata": {},
     "output_type": "display_data"
    }
   ],
   "source": [
    "exp(-0.5*x)"
   ]
  },
  {
   "cell_type": "markdown",
   "metadata": {},
   "source": [
    "### Problem 3.1 - Performance on the Test Set\n",
    "\n",
    "The csv file FluTest.csv provides the 2012 weekly data of the ILI-related search queries and the observed weekly percentage of ILI-related physician visits. Load this data into a data frame called FluTest.\n",
    "\n",
    "Normally, we would obtain test-set predictions from the model FluTrend1 using the code\n",
    "\n",
    "    PredTest1 = predict(FluTrend1, newdata=FluTest)\n",
    "\n",
    "However, the dependent variable in our model is log(ILI), so PredTest1 would contain predictions of the log(ILI) value. We are instead interested in obtaining predictions of the ILI value. We can convert from predictions of log(ILI) to predictions of ILI via exponentiation, or the exp() function. The new code, which predicts the ILI value, is\n",
    "\n",
    "    PredTest1 = exp(predict(FluTrend1, newdata=FluTest))"
   ]
  },
  {
   "cell_type": "code",
   "execution_count": 15,
   "metadata": {},
   "outputs": [
    {
     "data": {
      "text/html": [
       "<table>\n",
       "<caption>A data.frame: 6 × 3</caption>\n",
       "<thead>\n",
       "\t<tr><th></th><th scope=col>Week</th><th scope=col>ILI</th><th scope=col>Queries</th></tr>\n",
       "\t<tr><th></th><th scope=col>&lt;fct&gt;</th><th scope=col>&lt;dbl&gt;</th><th scope=col>&lt;dbl&gt;</th></tr>\n",
       "</thead>\n",
       "<tbody>\n",
       "\t<tr><th scope=row>1</th><td>2012-01-01 - 2012-01-07</td><td>1.766707</td><td>0.5936255</td></tr>\n",
       "\t<tr><th scope=row>2</th><td>2012-01-08 - 2012-01-14</td><td>1.543401</td><td>0.4993360</td></tr>\n",
       "\t<tr><th scope=row>3</th><td>2012-01-15 - 2012-01-21</td><td>1.647615</td><td>0.5006640</td></tr>\n",
       "\t<tr><th scope=row>4</th><td>2012-01-22 - 2012-01-28</td><td>1.684297</td><td>0.4794157</td></tr>\n",
       "\t<tr><th scope=row>5</th><td>2012-01-29 - 2012-02-04</td><td>1.863542</td><td>0.4714475</td></tr>\n",
       "\t<tr><th scope=row>6</th><td>2012-02-05 - 2012-02-11</td><td>1.864079</td><td>0.5033201</td></tr>\n",
       "</tbody>\n",
       "</table>\n"
      ],
      "text/latex": [
       "A data.frame: 6 × 3\n",
       "\\begin{tabular}{r|lll}\n",
       "  & Week & ILI & Queries\\\\\n",
       "  & <fct> & <dbl> & <dbl>\\\\\n",
       "\\hline\n",
       "\t1 & 2012-01-01 - 2012-01-07 & 1.766707 & 0.5936255\\\\\n",
       "\t2 & 2012-01-08 - 2012-01-14 & 1.543401 & 0.4993360\\\\\n",
       "\t3 & 2012-01-15 - 2012-01-21 & 1.647615 & 0.5006640\\\\\n",
       "\t4 & 2012-01-22 - 2012-01-28 & 1.684297 & 0.4794157\\\\\n",
       "\t5 & 2012-01-29 - 2012-02-04 & 1.863542 & 0.4714475\\\\\n",
       "\t6 & 2012-02-05 - 2012-02-11 & 1.864079 & 0.5033201\\\\\n",
       "\\end{tabular}\n"
      ],
      "text/markdown": [
       "\n",
       "A data.frame: 6 × 3\n",
       "\n",
       "| <!--/--> | Week &lt;fct&gt; | ILI &lt;dbl&gt; | Queries &lt;dbl&gt; |\n",
       "|---|---|---|---|\n",
       "| 1 | 2012-01-01 - 2012-01-07 | 1.766707 | 0.5936255 |\n",
       "| 2 | 2012-01-08 - 2012-01-14 | 1.543401 | 0.4993360 |\n",
       "| 3 | 2012-01-15 - 2012-01-21 | 1.647615 | 0.5006640 |\n",
       "| 4 | 2012-01-22 - 2012-01-28 | 1.684297 | 0.4794157 |\n",
       "| 5 | 2012-01-29 - 2012-02-04 | 1.863542 | 0.4714475 |\n",
       "| 6 | 2012-02-05 - 2012-02-11 | 1.864079 | 0.5033201 |\n",
       "\n"
      ],
      "text/plain": [
       "  Week                    ILI      Queries  \n",
       "1 2012-01-01 - 2012-01-07 1.766707 0.5936255\n",
       "2 2012-01-08 - 2012-01-14 1.543401 0.4993360\n",
       "3 2012-01-15 - 2012-01-21 1.647615 0.5006640\n",
       "4 2012-01-22 - 2012-01-28 1.684297 0.4794157\n",
       "5 2012-01-29 - 2012-02-04 1.863542 0.4714475\n",
       "6 2012-02-05 - 2012-02-11 1.864079 0.5033201"
      ]
     },
     "metadata": {},
     "output_type": "display_data"
    }
   ],
   "source": [
    "FluTest <- read.csv('data/FluTest.csv')\n",
    "head(FluTest)"
   ]
  },
  {
   "cell_type": "code",
   "execution_count": 16,
   "metadata": {},
   "outputs": [
    {
     "data": {
      "text/html": [
       "<style>\n",
       ".dl-inline {width: auto; margin:0; padding: 0}\n",
       ".dl-inline>dt, .dl-inline>dd {float: none; width: auto; display: inline-block}\n",
       ".dl-inline>dt::after {content: \":\\0020\"; padding-right: .5ex}\n",
       ".dl-inline>dt:not(:first-of-type) {padding-left: .5ex}\n",
       "</style><dl class=dl-inline><dt>1</dt><dd>3.52033171375606</dd><dt>2</dt><dd>2.6626887234844</dd><dt>3</dt><dd>2.67318077862358</dd><dt>4</dt><dd>2.51016005898651</dd><dt>5</dt><dd>2.45162375473689</dd><dt>6</dt><dd>2.69428910438586</dd></dl>\n"
      ],
      "text/latex": [
       "\\begin{description*}\n",
       "\\item[1] 3.52033171375606\n",
       "\\item[2] 2.6626887234844\n",
       "\\item[3] 2.67318077862358\n",
       "\\item[4] 2.51016005898651\n",
       "\\item[5] 2.45162375473689\n",
       "\\item[6] 2.69428910438586\n",
       "\\end{description*}\n"
      ],
      "text/markdown": [
       "1\n",
       ":   3.520331713756062\n",
       ":   2.66268872348443\n",
       ":   2.673180778623584\n",
       ":   2.510160058986515\n",
       ":   2.451623754736896\n",
       ":   2.69428910438586\n",
       "\n"
      ],
      "text/plain": [
       "       1        2        3        4        5        6 \n",
       "3.520332 2.662689 2.673181 2.510160 2.451624 2.694289 "
      ]
     },
     "metadata": {},
     "output_type": "display_data"
    }
   ],
   "source": [
    "PredTest1 = exp(predict(FluTrend1, newdata=FluTest))\n",
    "head(PredTest1)"
   ]
  },
  {
   "cell_type": "markdown",
   "metadata": {},
   "source": [
    "**What is our estimate for the percentage of ILI-related physician visits for the week of March 11, 2012?** (HINT: You can either just output FluTest$Week to find which element corresponds to March 11, 2012, or you can use the \"which\" function in R. To learn more about the which function, type ?which in your R console.)"
   ]
  },
  {
   "cell_type": "code",
   "execution_count": 17,
   "metadata": {},
   "outputs": [
    {
     "data": {
      "text/html": [
       "<strong>11:</strong> 2.18737772111455"
      ],
      "text/latex": [
       "\\textbf{11:} 2.18737772111455"
      ],
      "text/markdown": [
       "**11:** 2.18737772111455"
      ],
      "text/plain": [
       "      11 \n",
       "2.187378 "
      ]
     },
     "metadata": {},
     "output_type": "display_data"
    }
   ],
   "source": [
    "PredTest1[which(FluTest$Week == \"2012-03-11 - 2012-03-17\") ]"
   ]
  },
  {
   "cell_type": "code",
   "execution_count": 18,
   "metadata": {},
   "outputs": [
    {
     "data": {
      "text/html": [
       "<table>\n",
       "<caption>A data.frame: 1 × 4</caption>\n",
       "<thead>\n",
       "\t<tr><th></th><th scope=col>Week</th><th scope=col>ILI</th><th scope=col>Queries</th><th scope=col>PredTest1</th></tr>\n",
       "\t<tr><th></th><th scope=col>&lt;fct&gt;</th><th scope=col>&lt;dbl&gt;</th><th scope=col>&lt;dbl&gt;</th><th scope=col>&lt;dbl&gt;</th></tr>\n",
       "</thead>\n",
       "<tbody>\n",
       "\t<tr><th scope=row>11</th><td>2012-03-11 - 2012-03-17</td><td>2.293422</td><td>0.4329349</td><td>2.187378</td></tr>\n",
       "</tbody>\n",
       "</table>\n"
      ],
      "text/latex": [
       "A data.frame: 1 × 4\n",
       "\\begin{tabular}{r|llll}\n",
       "  & Week & ILI & Queries & PredTest1\\\\\n",
       "  & <fct> & <dbl> & <dbl> & <dbl>\\\\\n",
       "\\hline\n",
       "\t11 & 2012-03-11 - 2012-03-17 & 2.293422 & 0.4329349 & 2.187378\\\\\n",
       "\\end{tabular}\n"
      ],
      "text/markdown": [
       "\n",
       "A data.frame: 1 × 4\n",
       "\n",
       "| <!--/--> | Week &lt;fct&gt; | ILI &lt;dbl&gt; | Queries &lt;dbl&gt; | PredTest1 &lt;dbl&gt; |\n",
       "|---|---|---|---|---|\n",
       "| 11 | 2012-03-11 - 2012-03-17 | 2.293422 | 0.4329349 | 2.187378 |\n",
       "\n"
      ],
      "text/plain": [
       "   Week                    ILI      Queries   PredTest1\n",
       "11 2012-03-11 - 2012-03-17 2.293422 0.4329349 2.187378 "
      ]
     },
     "metadata": {},
     "output_type": "display_data"
    }
   ],
   "source": [
    "#Other way:\n",
    "\n",
    "both = cbind(FluTest, PredTest1)\n",
    "subset(both, Week=='2012-03-11 - 2012-03-17')"
   ]
  },
  {
   "cell_type": "markdown",
   "metadata": {},
   "source": [
    "### Problem 3.2 - Performance on the Test Set\n",
    "\n",
    "**What is the relative error betweeen the estimate (our prediction) and the observed value for the week of March 11, 2012?** Note that the relative error is calculated as\n",
    "\n",
    "    (Observed ILI - Estimated ILI)/Observed ILI"
   ]
  },
  {
   "cell_type": "code",
   "execution_count": 19,
   "metadata": {},
   "outputs": [
    {
     "data": {
      "text/html": [
       "<strong>11:</strong> 0.0462382663647449"
      ],
      "text/latex": [
       "\\textbf{11:} 0.0462382663647449"
      ],
      "text/markdown": [
       "**11:** 0.0462382663647449"
      ],
      "text/plain": [
       "        11 \n",
       "0.04623827 "
      ]
     },
     "metadata": {},
     "output_type": "display_data"
    }
   ],
   "source": [
    "(FluTest$ILI[11]-PredTest1[11])/(FluTest$ILI[11])"
   ]
  },
  {
   "cell_type": "markdown",
   "metadata": {},
   "source": [
    "### Problem 4.1 - Training a Time Series Model\n",
    "\n",
    "The observations in this dataset are consecutive weekly measurements of the dependent and independent variables. This sort of dataset is called a *\"time series\"*. Often, statistical models can be improved by predicting the current value of the dependent variable using the value of the dependent variable from earlier weeks. In our models, this means we will predict the ILI variable in the current week using values of the ILI variable from previous weeks.\n",
    "\n",
    "First, we need to decide the amount of time to lag the observations. Because the ILI variable is reported with a 1- or 2-week lag, a decision maker cannot rely on the previous week's ILI value to predict the current week's value. Instead, the decision maker will only have data available from 2 or more weeks ago. We will build a variable called ILILag2 that contains the ILI value from 2 weeks before the current observation.\n",
    "\n",
    "To do so, we will use the \"zoo\" package, which provides a number of helpful methods for time series models. While many functions are built into R, you need to add new packages to use some functions. New packages can be installed and loaded easily in R, and we will do this many times in this class. Run the following two commands to install and load the zoo package. In the first command, you will be prompted to select a CRAN mirror to use for your download. Select a mirror near you geographically.\n",
    "\n",
    "    install.packages(\"zoo\")\n",
    "\n",
    "    library(zoo)\n",
    "\n",
    "After installing and loading the zoo package, run the following commands to create the ILILag2 variable in the training set:\n",
    "\n",
    "    ILILag2 = lag(zoo(FluTrain$ILI), -2, na.pad=TRUE)\n",
    "\n",
    "    FluTrain$ILILag2 = coredata(ILILag2)\n",
    "\n",
    "In these commands, the value of -2 passed to lag means to return 2 observations before the current one; a positive value would have returned future observations. The parameter na.pad=TRUE means to add missing values for the first two weeks of our dataset, where we can't compute the data from 2 weeks earlier.\n",
    "\n",
    "**How many values are missing in the new ILILag2 variable?**"
   ]
  },
  {
   "cell_type": "code",
   "execution_count": 20,
   "metadata": {},
   "outputs": [
    {
     "name": "stderr",
     "output_type": "stream",
     "text": [
      "\n",
      "Attaching package: 'zoo'\n",
      "\n",
      "\n",
      "The following objects are masked from 'package:base':\n",
      "\n",
      "    as.Date, as.Date.numeric\n",
      "\n",
      "\n"
     ]
    }
   ],
   "source": [
    "library(zoo)"
   ]
  },
  {
   "cell_type": "code",
   "execution_count": 21,
   "metadata": {},
   "outputs": [
    {
     "data": {
      "text/plain": [
       "     Index        ILILag2      \n",
       " Min.   :  1   Min.   :0.5341  \n",
       " 1st Qu.:105   1st Qu.:0.9010  \n",
       " Median :209   Median :1.2519  \n",
       " Mean   :209   Mean   :1.6754  \n",
       " 3rd Qu.:313   3rd Qu.:2.0580  \n",
       " Max.   :417   Max.   :7.6189  \n",
       "               NA's   :2       "
      ]
     },
     "metadata": {},
     "output_type": "display_data"
    }
   ],
   "source": [
    "ILILag2 = lag(zoo(FluTrain$ILI), -2, na.pad=TRUE)\n",
    "summary(ILILag2)"
   ]
  },
  {
   "cell_type": "markdown",
   "metadata": {},
   "source": [
    "Answer: 2"
   ]
  },
  {
   "cell_type": "code",
   "execution_count": 22,
   "metadata": {},
   "outputs": [
    {
     "data": {
      "text/html": [
       "<table>\n",
       "<caption>A data.frame: 6 × 4</caption>\n",
       "<thead>\n",
       "\t<tr><th></th><th scope=col>Week</th><th scope=col>ILI</th><th scope=col>Queries</th><th scope=col>ILILag2</th></tr>\n",
       "\t<tr><th></th><th scope=col>&lt;fct&gt;</th><th scope=col>&lt;dbl&gt;</th><th scope=col>&lt;dbl&gt;</th><th scope=col>&lt;dbl&gt;</th></tr>\n",
       "</thead>\n",
       "<tbody>\n",
       "\t<tr><th scope=row>1</th><td>2004-01-04 - 2004-01-10</td><td>2.418331</td><td>0.2377158</td><td>      NA</td></tr>\n",
       "\t<tr><th scope=row>2</th><td>2004-01-11 - 2004-01-17</td><td>1.809056</td><td>0.2204515</td><td>      NA</td></tr>\n",
       "\t<tr><th scope=row>3</th><td>2004-01-18 - 2004-01-24</td><td>1.712024</td><td>0.2257636</td><td>2.418331</td></tr>\n",
       "\t<tr><th scope=row>4</th><td>2004-01-25 - 2004-01-31</td><td>1.542495</td><td>0.2377158</td><td>1.809056</td></tr>\n",
       "\t<tr><th scope=row>5</th><td>2004-02-01 - 2004-02-07</td><td>1.437868</td><td>0.2244356</td><td>1.712024</td></tr>\n",
       "\t<tr><th scope=row>6</th><td>2004-02-08 - 2004-02-14</td><td>1.324274</td><td>0.2071713</td><td>1.542495</td></tr>\n",
       "</tbody>\n",
       "</table>\n"
      ],
      "text/latex": [
       "A data.frame: 6 × 4\n",
       "\\begin{tabular}{r|llll}\n",
       "  & Week & ILI & Queries & ILILag2\\\\\n",
       "  & <fct> & <dbl> & <dbl> & <dbl>\\\\\n",
       "\\hline\n",
       "\t1 & 2004-01-04 - 2004-01-10 & 2.418331 & 0.2377158 &       NA\\\\\n",
       "\t2 & 2004-01-11 - 2004-01-17 & 1.809056 & 0.2204515 &       NA\\\\\n",
       "\t3 & 2004-01-18 - 2004-01-24 & 1.712024 & 0.2257636 & 2.418331\\\\\n",
       "\t4 & 2004-01-25 - 2004-01-31 & 1.542495 & 0.2377158 & 1.809056\\\\\n",
       "\t5 & 2004-02-01 - 2004-02-07 & 1.437868 & 0.2244356 & 1.712024\\\\\n",
       "\t6 & 2004-02-08 - 2004-02-14 & 1.324274 & 0.2071713 & 1.542495\\\\\n",
       "\\end{tabular}\n"
      ],
      "text/markdown": [
       "\n",
       "A data.frame: 6 × 4\n",
       "\n",
       "| <!--/--> | Week &lt;fct&gt; | ILI &lt;dbl&gt; | Queries &lt;dbl&gt; | ILILag2 &lt;dbl&gt; |\n",
       "|---|---|---|---|---|\n",
       "| 1 | 2004-01-04 - 2004-01-10 | 2.418331 | 0.2377158 |       NA |\n",
       "| 2 | 2004-01-11 - 2004-01-17 | 1.809056 | 0.2204515 |       NA |\n",
       "| 3 | 2004-01-18 - 2004-01-24 | 1.712024 | 0.2257636 | 2.418331 |\n",
       "| 4 | 2004-01-25 - 2004-01-31 | 1.542495 | 0.2377158 | 1.809056 |\n",
       "| 5 | 2004-02-01 - 2004-02-07 | 1.437868 | 0.2244356 | 1.712024 |\n",
       "| 6 | 2004-02-08 - 2004-02-14 | 1.324274 | 0.2071713 | 1.542495 |\n",
       "\n"
      ],
      "text/plain": [
       "  Week                    ILI      Queries   ILILag2 \n",
       "1 2004-01-04 - 2004-01-10 2.418331 0.2377158       NA\n",
       "2 2004-01-11 - 2004-01-17 1.809056 0.2204515       NA\n",
       "3 2004-01-18 - 2004-01-24 1.712024 0.2257636 2.418331\n",
       "4 2004-01-25 - 2004-01-31 1.542495 0.2377158 1.809056\n",
       "5 2004-02-01 - 2004-02-07 1.437868 0.2244356 1.712024\n",
       "6 2004-02-08 - 2004-02-14 1.324274 0.2071713 1.542495"
      ]
     },
     "metadata": {},
     "output_type": "display_data"
    }
   ],
   "source": [
    "FluTrain$ILILag2 = coredata(ILILag2)\n",
    "head(FluTrain)"
   ]
  },
  {
   "cell_type": "markdown",
   "metadata": {},
   "source": [
    "### Problem 4.2 - Training a Time Series Model\n",
    "\n",
    "Use the plot() function to plot the log of ILILag2 against the log of ILI."
   ]
  },
  {
   "cell_type": "code",
   "execution_count": 23,
   "metadata": {},
   "outputs": [
    {
     "data": {
      "image/png": "[encoded data removed]",
      "text/plain": [
       "Plot with title \"ILI 2 weaks ago x ILI atual\""
      ]
     },
     "metadata": {
      "image/png": {
       "height": 360,
       "width": 720
      },
      "text/plain": {
       "height": 360,
       "width": 720
      }
     },
     "output_type": "display_data"
    }
   ],
   "source": [
    "plot(log(FluTrain$ILILag2), log(FluTrain$ILI), main = \"ILI 2 weaks ago x ILI atual\")"
   ]
  },
  {
   "cell_type": "markdown",
   "metadata": {},
   "source": [
    "**Which best describes the relationship between these two variables?**"
   ]
  },
  {
   "cell_type": "markdown",
   "metadata": {},
   "source": [
    "There is a strong positive relationship between log(ILILag2) and log(ILI)."
   ]
  },
  {
   "cell_type": "markdown",
   "metadata": {},
   "source": [
    "### Problem 4.3 - Training a Time Series Model\n",
    "\n",
    "Train a linear regression model on the FluTrain dataset to predict the log of the ILI variable using the Queries variable as well as the log of the ILILag2 variable. Call this model FluTrend2."
   ]
  },
  {
   "cell_type": "code",
   "execution_count": 24,
   "metadata": {},
   "outputs": [
    {
     "data": {
      "text/plain": [
       "\n",
       "Call:\n",
       "lm(formula = log(ILI) ~ Queries + log(ILILag2), data = FluTrain)\n",
       "\n",
       "Residuals:\n",
       "     Min       1Q   Median       3Q      Max \n",
       "-0.52209 -0.11082 -0.01819  0.08143  0.76785 \n",
       "\n",
       "Coefficients:\n",
       "             Estimate Std. Error t value Pr(>|t|)    \n",
       "(Intercept)  -0.24064    0.01953  -12.32   <2e-16 ***\n",
       "Queries       1.25578    0.07910   15.88   <2e-16 ***\n",
       "log(ILILag2)  0.65569    0.02251   29.14   <2e-16 ***\n",
       "---\n",
       "Signif. codes:  0 '***' 0.001 '**' 0.01 '*' 0.05 '.' 0.1 ' ' 1\n",
       "\n",
       "Residual standard error: 0.1703 on 412 degrees of freedom\n",
       "  (2 observations deleted due to missingness)\n",
       "Multiple R-squared:  0.9063,\tAdjusted R-squared:  0.9059 \n",
       "F-statistic:  1993 on 2 and 412 DF,  p-value: < 2.2e-16\n"
      ]
     },
     "metadata": {},
     "output_type": "display_data"
    }
   ],
   "source": [
    "FluTrend2 = lm(log(ILI)~Queries+log(ILILag2), data=FluTrain)\n",
    "summary(FluTrend2)"
   ]
  },
  {
   "cell_type": "markdown",
   "metadata": {},
   "source": [
    "**Which coefficients are significant at the p=0.05 level in this regression model?**"
   ]
  },
  {
   "cell_type": "markdown",
   "metadata": {},
   "source": [
    "Both: Intercept, Queries, and log(ILIlag2)"
   ]
  },
  {
   "cell_type": "markdown",
   "metadata": {},
   "source": [
    "**What is the R^2 value of the FluTrend2 model?**"
   ]
  },
  {
   "cell_type": "code",
   "execution_count": 25,
   "metadata": {},
   "outputs": [
    {
     "data": {
      "text/html": [
       "0.906341444549068"
      ],
      "text/latex": [
       "0.906341444549068"
      ],
      "text/markdown": [
       "0.906341444549068"
      ],
      "text/plain": [
       "[1] 0.9063414"
      ]
     },
     "metadata": {},
     "output_type": "display_data"
    }
   ],
   "source": [
    "summary(FluTrend2)$r.squared"
   ]
  },
  {
   "cell_type": "markdown",
   "metadata": {},
   "source": [
    "### Problem 4.4 - Training a Time Series Model\n",
    "\n",
    "**On the basis of R-squared value and significance of coefficients, which statement is the most accurate?**"
   ]
  },
  {
   "cell_type": "markdown",
   "metadata": {},
   "source": [
    "FluTrend2 is a stronger model than FluTrend1 on the training set. Moving from FluTrend1 to FluTrend2, in-sample R^2^ improved from 0.709 to 0.9063, and the new variable is highly significant. As a result, there is no sign of overfitting, and FluTrend2 is superior to FluTrend1 on the training set. "
   ]
  },
  {
   "cell_type": "markdown",
   "metadata": {},
   "source": [
    "### Problem 5.1 - Evaluating the Time Series Model in the Test Set\n",
    "\n",
    "So far, we have only added the ILILag2 variable to the FluTrain data frame. To make predictions with our FluTrend2 model, we will also need to add ILILag2 to the FluTest data frame (note that adding variables before splitting into a training and testing set can prevent this duplication of effort).\n",
    "\n",
    "Modify the code from the previous subproblem to add an ILILag2 variable to the FluTest data frame."
   ]
  },
  {
   "cell_type": "code",
   "execution_count": 26,
   "metadata": {},
   "outputs": [
    {
     "data": {
      "text/html": [
       "<table>\n",
       "<caption>A data.frame: 6 × 4</caption>\n",
       "<thead>\n",
       "\t<tr><th></th><th scope=col>Week</th><th scope=col>ILI</th><th scope=col>Queries</th><th scope=col>ILILag2</th></tr>\n",
       "\t<tr><th></th><th scope=col>&lt;fct&gt;</th><th scope=col>&lt;dbl&gt;</th><th scope=col>&lt;dbl&gt;</th><th scope=col>&lt;dbl&gt;</th></tr>\n",
       "</thead>\n",
       "<tbody>\n",
       "\t<tr><th scope=row>1</th><td>2012-01-01 - 2012-01-07</td><td>1.766707</td><td>0.5936255</td><td>      NA</td></tr>\n",
       "\t<tr><th scope=row>2</th><td>2012-01-08 - 2012-01-14</td><td>1.543401</td><td>0.4993360</td><td>      NA</td></tr>\n",
       "\t<tr><th scope=row>3</th><td>2012-01-15 - 2012-01-21</td><td>1.647615</td><td>0.5006640</td><td>1.766707</td></tr>\n",
       "\t<tr><th scope=row>4</th><td>2012-01-22 - 2012-01-28</td><td>1.684297</td><td>0.4794157</td><td>1.543401</td></tr>\n",
       "\t<tr><th scope=row>5</th><td>2012-01-29 - 2012-02-04</td><td>1.863542</td><td>0.4714475</td><td>1.647615</td></tr>\n",
       "\t<tr><th scope=row>6</th><td>2012-02-05 - 2012-02-11</td><td>1.864079</td><td>0.5033201</td><td>1.684297</td></tr>\n",
       "</tbody>\n",
       "</table>\n"
      ],
      "text/latex": [
       "A data.frame: 6 × 4\n",
       "\\begin{tabular}{r|llll}\n",
       "  & Week & ILI & Queries & ILILag2\\\\\n",
       "  & <fct> & <dbl> & <dbl> & <dbl>\\\\\n",
       "\\hline\n",
       "\t1 & 2012-01-01 - 2012-01-07 & 1.766707 & 0.5936255 &       NA\\\\\n",
       "\t2 & 2012-01-08 - 2012-01-14 & 1.543401 & 0.4993360 &       NA\\\\\n",
       "\t3 & 2012-01-15 - 2012-01-21 & 1.647615 & 0.5006640 & 1.766707\\\\\n",
       "\t4 & 2012-01-22 - 2012-01-28 & 1.684297 & 0.4794157 & 1.543401\\\\\n",
       "\t5 & 2012-01-29 - 2012-02-04 & 1.863542 & 0.4714475 & 1.647615\\\\\n",
       "\t6 & 2012-02-05 - 2012-02-11 & 1.864079 & 0.5033201 & 1.684297\\\\\n",
       "\\end{tabular}\n"
      ],
      "text/markdown": [
       "\n",
       "A data.frame: 6 × 4\n",
       "\n",
       "| <!--/--> | Week &lt;fct&gt; | ILI &lt;dbl&gt; | Queries &lt;dbl&gt; | ILILag2 &lt;dbl&gt; |\n",
       "|---|---|---|---|---|\n",
       "| 1 | 2012-01-01 - 2012-01-07 | 1.766707 | 0.5936255 |       NA |\n",
       "| 2 | 2012-01-08 - 2012-01-14 | 1.543401 | 0.4993360 |       NA |\n",
       "| 3 | 2012-01-15 - 2012-01-21 | 1.647615 | 0.5006640 | 1.766707 |\n",
       "| 4 | 2012-01-22 - 2012-01-28 | 1.684297 | 0.4794157 | 1.543401 |\n",
       "| 5 | 2012-01-29 - 2012-02-04 | 1.863542 | 0.4714475 | 1.647615 |\n",
       "| 6 | 2012-02-05 - 2012-02-11 | 1.864079 | 0.5033201 | 1.684297 |\n",
       "\n"
      ],
      "text/plain": [
       "  Week                    ILI      Queries   ILILag2 \n",
       "1 2012-01-01 - 2012-01-07 1.766707 0.5936255       NA\n",
       "2 2012-01-08 - 2012-01-14 1.543401 0.4993360       NA\n",
       "3 2012-01-15 - 2012-01-21 1.647615 0.5006640 1.766707\n",
       "4 2012-01-22 - 2012-01-28 1.684297 0.4794157 1.543401\n",
       "5 2012-01-29 - 2012-02-04 1.863542 0.4714475 1.647615\n",
       "6 2012-02-05 - 2012-02-11 1.864079 0.5033201 1.684297"
      ]
     },
     "metadata": {},
     "output_type": "display_data"
    }
   ],
   "source": [
    "ILILag2 = lag(zoo(FluTest$ILI), -2, na.pad=TRUE)\n",
    "FluTest$ILILag2 = coredata(ILILag2)\n",
    "head(FluTest)"
   ]
  },
  {
   "cell_type": "markdown",
   "metadata": {},
   "source": [
    "**How many missing values are there in this new variable?**"
   ]
  },
  {
   "cell_type": "code",
   "execution_count": 27,
   "metadata": {},
   "outputs": [
    {
     "data": {
      "text/plain": [
       "                      Week         ILI            Queries      \n",
       " 2012-01-01 - 2012-01-07: 1   Min.   :0.9018   Min.   :0.2390  \n",
       " 2012-01-08 - 2012-01-14: 1   1st Qu.:1.1535   1st Qu.:0.2772  \n",
       " 2012-01-15 - 2012-01-21: 1   Median :1.3592   Median :0.3924  \n",
       " 2012-01-22 - 2012-01-28: 1   Mean   :1.6638   Mean   :0.4094  \n",
       " 2012-01-29 - 2012-02-04: 1   3rd Qu.:1.8637   3rd Qu.:0.4874  \n",
       " 2012-02-05 - 2012-02-11: 1   Max.   :6.0336   Max.   :0.8054  \n",
       " (Other)                :46                                    \n",
       "    ILILag2      \n",
       " Min.   :0.9018  \n",
       " 1st Qu.:1.1359  \n",
       " Median :1.3409  \n",
       " Mean   :1.5188  \n",
       " 3rd Qu.:1.7606  \n",
       " Max.   :3.6002  \n",
       " NA's   :2       "
      ]
     },
     "metadata": {},
     "output_type": "display_data"
    }
   ],
   "source": [
    "summary(FluTest)"
   ]
  },
  {
   "cell_type": "markdown",
   "metadata": {},
   "source": [
    "Answer: 2"
   ]
  },
  {
   "cell_type": "markdown",
   "metadata": {},
   "source": [
    "### Problem 5.2 - Evaluating the Time Series Model in the Test Set\n",
    "\n",
    "In this problem, the training and testing sets are split sequentially -- the training set contains all observations from 2004-2011 and the testing set contains all observations from 2012. There is no time gap between the two datasets, meaning the first observation in FluTest was recorded one week after the last observation in FluTrain. From this, we can identify how to fill in the missing values for the ILILag2 variable in FluTest.\n",
    "\n",
    "**Which value should be used to fill in the ILILag2 variable for the first observation in FluTest?**"
   ]
  },
  {
   "cell_type": "markdown",
   "metadata": {},
   "source": [
    "The ILI value of the second-to-last observation in the FluTrain data frame. The time two weeks before the first week of 2012 is the second-to-last week of 2011.\n"
   ]
  },
  {
   "cell_type": "markdown",
   "metadata": {},
   "source": [
    "**Which value should be used to fill in the ILILag2 variable for the second observation in FluTest?**"
   ]
  },
  {
   "cell_type": "markdown",
   "metadata": {},
   "source": [
    "The ILI value of the last observation in the FluTrain data frame. The time two weeks before the second week of 2012 is the last week of 2011."
   ]
  },
  {
   "cell_type": "markdown",
   "metadata": {},
   "source": [
    "### Problem 5.3 - Evaluating the Time Series Model in the Test Set\n",
    "\n",
    "Fill in the missing values for ILILag2 in FluTest. In terms of syntax, you could set the value of ILILag2 in row \"x\" of the FluTest data frame to the value of ILI in row \"y\" of the FluTrain data frame with \n",
    "    \n",
    "    \"FluTest$ILILag2[x] = FluTrain$ILI[y]\" \n",
    "    \n",
    "Use the answer to the previous questions to determine the appropriate values of \"x\" and \"y\". It may be helpful to check the total number of rows in FluTrain using str(FluTrain) or nrow(FluTrain)."
   ]
  },
  {
   "cell_type": "code",
   "execution_count": 28,
   "metadata": {},
   "outputs": [
    {
     "data": {
      "text/html": [
       "417"
      ],
      "text/latex": [
       "417"
      ],
      "text/markdown": [
       "417"
      ],
      "text/plain": [
       "[1] 417"
      ]
     },
     "metadata": {},
     "output_type": "display_data"
    }
   ],
   "source": [
    "nrow(FluTrain)"
   ]
  },
  {
   "cell_type": "code",
   "execution_count": 29,
   "metadata": {},
   "outputs": [],
   "source": [
    "FluTest$ILILag2[1] = FluTrain$ILI[416]"
   ]
  },
  {
   "cell_type": "code",
   "execution_count": 30,
   "metadata": {},
   "outputs": [],
   "source": [
    "FluTest$ILILag2[2] = FluTrain$ILI[417]"
   ]
  },
  {
   "cell_type": "markdown",
   "metadata": {},
   "source": [
    "**What is the new value of the ILILag2 variable in the first row of FluTest?**"
   ]
  },
  {
   "cell_type": "code",
   "execution_count": 31,
   "metadata": {},
   "outputs": [
    {
     "data": {
      "text/html": [
       "1.852735566"
      ],
      "text/latex": [
       "1.852735566"
      ],
      "text/markdown": [
       "1.852735566"
      ],
      "text/plain": [
       "[1] 1.852736"
      ]
     },
     "metadata": {},
     "output_type": "display_data"
    }
   ],
   "source": [
    "FluTest$ILILag2[1]"
   ]
  },
  {
   "cell_type": "markdown",
   "metadata": {},
   "source": [
    "**What is the new value of the ILILag2 variable in the second row of FluTest?**"
   ]
  },
  {
   "cell_type": "code",
   "execution_count": 32,
   "metadata": {},
   "outputs": [
    {
     "data": {
      "text/html": [
       "2.124129916"
      ],
      "text/latex": [
       "2.124129916"
      ],
      "text/markdown": [
       "2.124129916"
      ],
      "text/plain": [
       "[1] 2.12413"
      ]
     },
     "metadata": {},
     "output_type": "display_data"
    }
   ],
   "source": [
    "FluTest$ILILag2[2]"
   ]
  },
  {
   "cell_type": "markdown",
   "metadata": {},
   "source": [
    "### Problem 5.4 - Evaluating the Time Series Model in the Test Set\n",
    "\n",
    "Obtain test set predictions of the ILI variable from the FluTrend2 model, again remembering to call the exp() function on the result of the predict() function to obtain predictions for ILI instead of log(ILI)."
   ]
  },
  {
   "cell_type": "code",
   "execution_count": 33,
   "metadata": {},
   "outputs": [],
   "source": [
    "PredTest2 = exp(predict(FluTrend2, newdata=FluTest))"
   ]
  },
  {
   "cell_type": "markdown",
   "metadata": {},
   "source": [
    "**What is the test-set RMSE of the FluTrend2 model?**"
   ]
  },
  {
   "cell_type": "code",
   "execution_count": 34,
   "metadata": {},
   "outputs": [
    {
     "data": {
      "text/html": [
       "0.294202853586669"
      ],
      "text/latex": [
       "0.294202853586669"
      ],
      "text/markdown": [
       "0.294202853586669"
      ],
      "text/plain": [
       "[1] 0.2942029"
      ]
     },
     "metadata": {},
     "output_type": "display_data"
    }
   ],
   "source": [
    "SSE = sum((PredTest2-FluTest$ILI)^2)\n",
    "RMSE = sqrt(SSE / nrow(FluTest))\n",
    "RMSE"
   ]
  },
  {
   "cell_type": "markdown",
   "metadata": {},
   "source": [
    "### Problem 5.5 - Evaluating the Time Series Model in the Test Set\n",
    "\n",
    "**Which model obtained the best test-set RMSE?**"
   ]
  },
  {
   "cell_type": "markdown",
   "metadata": {},
   "source": [
    "The test-set RMSE of FluTrend2 is 0.294, as opposed to the 0.749 value obtained by the FluTrend1 model."
   ]
  }
 ],
 "metadata": {
  "kernelspec": {
   "display_name": "R",
   "language": "R",
   "name": "ir"
  },
  "language_info": {
   "codemirror_mode": "r",
   "file_extension": ".r",
   "mimetype": "text/x-r-source",
   "name": "R",
   "pygments_lexer": "r",
   "version": "3.6.3"
  }
 },
 "nbformat": 4,
 "nbformat_minor": 4
}
