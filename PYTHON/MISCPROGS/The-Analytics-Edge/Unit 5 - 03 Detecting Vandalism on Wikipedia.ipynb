{
 "cells": [
  {
   "cell_type": "markdown",
   "metadata": {},
   "source": [
    "# Detecting Vandalism on Wikipedia"
   ]
  },
  {
   "cell_type": "markdown",
   "metadata": {},
   "source": [
    "<img src=\"images/wikipedia.jpg\"/>"
   ]
  },
  {
   "cell_type": "markdown",
   "metadata": {},
   "source": [
    "Wikipedia is a free online encyclopedia that anyone can edit and contribute to. It is available in many languages and is growing all the time. On the English language version of Wikipedia:\n",
    "\n",
    "    There are currently 4.7 million pages.\n",
    "\n",
    "    There have been a total over 760 million edits (also called revisions) over its lifetime.\n",
    "\n",
    "    There are approximately 130,000 edits per day.\n",
    "\n",
    "One of the consequences of being editable by anyone is that some people vandalize pages. This can take the form of removing content, adding promotional or inappropriate content, or more subtle shifts that change the meaning of the article. With this many articles and edits per day it is difficult for humans to detect all instances of vandalism and revert (undo) them. As a result, Wikipedia uses bots - computer programs that automatically revert edits that look like vandalism. In this assignment we will attempt to develop a vandalism detector that uses machine learning to distinguish between a valid edit and vandalism.\n",
    "\n",
    "The data for this problem is based on the revision history of the page Language. Wikipedia provides a history for each page that consists of the state of the page at each revision. Rather than manually considering each revision, a script was run that checked whether edits stayed or were reverted. If a change was eventually reverted then that revision is marked as vandalism. This may result in some misclassifications, but the script performs well enough for our needs."
   ]
  },
  {
   "cell_type": "markdown",
   "metadata": {},
   "source": [
    "As a result of this preprocessing, some common processing tasks have already been done, including lower-casing and punctuation removal. The columns in the dataset are:\n",
    "\n",
    "    Vandal = 1 if this edit was vandalism, 0 if not.\n",
    "\n",
    "    Minor = 1 if the user marked this edit as a \"minor edit\", 0 if not.\n",
    "\n",
    "    Loggedin = 1 if the user made this edit while using a Wikipedia account, 0 if they did not.\n",
    "\n",
    "    Added = The unique words added.\n",
    "\n",
    "    Removed = The unique words removed.\n",
    "\n",
    "Notice the repeated use of unique. The data we have available is not the traditional bag of words - rather it is the set of words that were removed or added. For example, if a word was removed multiple times in a revision it will only appear one time in the \"Removed\" column."
   ]
  },
  {
   "cell_type": "markdown",
   "metadata": {},
   "source": [
    "## Problem 1.1 - Bags of Words\n",
    "\n",
    "Load the data wiki.csv with the option \n",
    "\n",
    "    stringsAsFactors=FALSE\n",
    "    \n",
    "calling the data frame \"wiki\". Convert the \"Vandal\" column to a factor using the command \n",
    "\n",
    "    wiki$Vandal = as.factor(wiki$Vandal).\n",
    "\n",
    "**How many cases of vandalism were detected in the history of this page?**"
   ]
  },
  {
   "cell_type": "code",
   "execution_count": 1,
   "metadata": {},
   "outputs": [],
   "source": [
    "# Load the dataset\n",
    "wiki = read.csv(\"data/wiki.csv\", stringsAsFactors=FALSE)\n",
    "\n",
    "# Convert the column to a factor\n",
    "wiki$Vandal = as.factor(wiki$Vandal)"
   ]
  },
  {
   "cell_type": "code",
   "execution_count": 2,
   "metadata": {},
   "outputs": [
    {
     "data": {
      "text/html": [
       "<table>\n",
       "<caption>A data.frame: 3 × 7</caption>\n",
       "<thead>\n",
       "\t<tr><th></th><th scope=col>X.1</th><th scope=col>X</th><th scope=col>Vandal</th><th scope=col>Minor</th><th scope=col>Loggedin</th><th scope=col>Added</th><th scope=col>Removed</th></tr>\n",
       "\t<tr><th></th><th scope=col>&lt;int&gt;</th><th scope=col>&lt;int&gt;</th><th scope=col>&lt;fct&gt;</th><th scope=col>&lt;int&gt;</th><th scope=col>&lt;int&gt;</th><th scope=col>&lt;chr&gt;</th><th scope=col>&lt;chr&gt;</th></tr>\n",
       "</thead>\n",
       "<tbody>\n",
       "\t<tr><th scope=row>1</th><td>1</td><td>1</td><td>0</td><td>1</td><td>1</td><td>  represent psycholinguisticspsycholinguistics orthographyorthography help text all actions through human ethnologue relationships linguistics regarded writing languages to other listing xmlspacepreservelanguages metaverse formal term philology common each including phonologyphonology often ten list humans affiliation see computer are speechpathologyspeech our what for ways dialects please artificial written body be of quite hypothesis found alone refers by about language profanity study programming priorities rosenfelders technologytechnologies makes or first among useful languagephilosophy one sounds use area create phrases mark their genetic basic families complete but sapirwhorfhypothesissapirwhorf with talklanguagetalk population animals this science up vocal can concepts called at and topics locations as numbers have in pathology different develop 4000 things ideas grouped complex animal mathematics fairly literature httpwwwzompistcom philosophy most important meaningful a historicallinguisticsorphilologyhistorical semanticssemantics patterns the oral</td><td>                                               </td></tr>\n",
       "\t<tr><th scope=row>2</th><td>2</td><td>2</td><td>0</td><td>1</td><td>1</td><td> website external links                                                                                                                                                                                                                                                                                                                                                                                                                                                                                                                                                                                                                                                                                                                                                                                                                                                                                                                                                                                                                                                                                          </td><td> talklanguagetalk                              </td></tr>\n",
       "\t<tr><th scope=row>3</th><td>3</td><td>3</td><td>0</td><td>0</td><td>1</td><td>                                                                                                                                                                                                                                                                                                                                                                                                                                                                                                                                                                                                                                                                                                                                                                                                                                                                                                                                                                                                                                                                                                                 </td><td> regarded as technologytechnologies human first</td></tr>\n",
       "</tbody>\n",
       "</table>\n"
      ],
      "text/latex": [
       "A data.frame: 3 × 7\n",
       "\\begin{tabular}{r|lllllll}\n",
       "  & X.1 & X & Vandal & Minor & Loggedin & Added & Removed\\\\\n",
       "  & <int> & <int> & <fct> & <int> & <int> & <chr> & <chr>\\\\\n",
       "\\hline\n",
       "\t1 & 1 & 1 & 0 & 1 & 1 &   represent psycholinguisticspsycholinguistics orthographyorthography help text all actions through human ethnologue relationships linguistics regarded writing languages to other listing xmlspacepreservelanguages metaverse formal term philology common each including phonologyphonology often ten list humans affiliation see computer are speechpathologyspeech our what for ways dialects please artificial written body be of quite hypothesis found alone refers by about language profanity study programming priorities rosenfelders technologytechnologies makes or first among useful languagephilosophy one sounds use area create phrases mark their genetic basic families complete but sapirwhorfhypothesissapirwhorf with talklanguagetalk population animals this science up vocal can concepts called at and topics locations as numbers have in pathology different develop 4000 things ideas grouped complex animal mathematics fairly literature httpwwwzompistcom philosophy most important meaningful a historicallinguisticsorphilologyhistorical semanticssemantics patterns the oral &                                                \\\\\n",
       "\t2 & 2 & 2 & 0 & 1 & 1 &  website external links                                                                                                                                                                                                                                                                                                                                                                                                                                                                                                                                                                                                                                                                                                                                                                                                                                                                                                                                                                                                                                                                                           &  talklanguagetalk                              \\\\\n",
       "\t3 & 3 & 3 & 0 & 0 & 1 &                                                                                                                                                                                                                                                                                                                                                                                                                                                                                                                                                                                                                                                                                                                                                                                                                                                                                                                                                                                                                                                                                                                   &  regarded as technologytechnologies human first\\\\\n",
       "\\end{tabular}\n"
      ],
      "text/markdown": [
       "\n",
       "A data.frame: 3 × 7\n",
       "\n",
       "| <!--/--> | X.1 &lt;int&gt; | X &lt;int&gt; | Vandal &lt;fct&gt; | Minor &lt;int&gt; | Loggedin &lt;int&gt; | Added &lt;chr&gt; | Removed &lt;chr&gt; |\n",
       "|---|---|---|---|---|---|---|---|\n",
       "| 1 | 1 | 1 | 0 | 1 | 1 |   represent psycholinguisticspsycholinguistics orthographyorthography help text all actions through human ethnologue relationships linguistics regarded writing languages to other listing xmlspacepreservelanguages metaverse formal term philology common each including phonologyphonology often ten list humans affiliation see computer are speechpathologyspeech our what for ways dialects please artificial written body be of quite hypothesis found alone refers by about language profanity study programming priorities rosenfelders technologytechnologies makes or first among useful languagephilosophy one sounds use area create phrases mark their genetic basic families complete but sapirwhorfhypothesissapirwhorf with talklanguagetalk population animals this science up vocal can concepts called at and topics locations as numbers have in pathology different develop 4000 things ideas grouped complex animal mathematics fairly literature httpwwwzompistcom philosophy most important meaningful a historicallinguisticsorphilologyhistorical semanticssemantics patterns the oral | <!----> |\n",
       "| 2 | 2 | 2 | 0 | 1 | 1 |  website external links                                                                                                                                                                                                                                                                                                                                                                                                                                                                                                                                                                                                                                                                                                                                                                                                                                                                                                                                                                                                                                                                                           |  talklanguagetalk                               |\n",
       "| 3 | 3 | 3 | 0 | 0 | 1 | <!----> |  regarded as technologytechnologies human first |\n",
       "\n"
      ],
      "text/plain": [
       "  X.1 X Vandal Minor Loggedin\n",
       "1 1   1 0      1     1       \n",
       "2 2   2 0      1     1       \n",
       "3 3   3 0      0     1       \n",
       "  Added                                                                                                                                                                                                                                                                                                                                                                                                                                                                                                                                                                                                                                                                                                                                                                                                                                                                                                                                                                                                                                                                                                            \n",
       "1   represent psycholinguisticspsycholinguistics orthographyorthography help text all actions through human ethnologue relationships linguistics regarded writing languages to other listing xmlspacepreservelanguages metaverse formal term philology common each including phonologyphonology often ten list humans affiliation see computer are speechpathologyspeech our what for ways dialects please artificial written body be of quite hypothesis found alone refers by about language profanity study programming priorities rosenfelders technologytechnologies makes or first among useful languagephilosophy one sounds use area create phrases mark their genetic basic families complete but sapirwhorfhypothesissapirwhorf with talklanguagetalk population animals this science up vocal can concepts called at and topics locations as numbers have in pathology different develop 4000 things ideas grouped complex animal mathematics fairly literature httpwwwzompistcom philosophy most important meaningful a historicallinguisticsorphilologyhistorical semanticssemantics patterns the oral\n",
       "2  website external links                                                                                                                                                                                                                                                                                                                                                                                                                                                                                                                                                                                                                                                                                                                                                                                                                                                                                                                                                                                                                                                                                          \n",
       "3                                                                                                                                                                                                                                                                                                                                                                                                                                                                                                                                                                                                                                                                                                                                                                                                                                                                                                                                                                                                                                                                                                                  \n",
       "  Removed                                        \n",
       "1                                                \n",
       "2  talklanguagetalk                              \n",
       "3  regarded as technologytechnologies human first"
      ]
     },
     "metadata": {},
     "output_type": "display_data"
    }
   ],
   "source": [
    "head(wiki,3)"
   ]
  },
  {
   "cell_type": "code",
   "execution_count": 3,
   "metadata": {},
   "outputs": [
    {
     "name": "stdout",
     "output_type": "stream",
     "text": [
      "'data.frame':\t3876 obs. of  7 variables:\n",
      " $ X.1     : int  1 2 3 4 5 6 7 8 9 10 ...\n",
      " $ X       : int  1 2 3 4 5 6 7 8 9 10 ...\n",
      " $ Vandal  : Factor w/ 2 levels \"0\",\"1\": 1 1 1 1 1 1 1 1 1 1 ...\n",
      " $ Minor   : int  1 1 0 1 1 0 0 0 1 0 ...\n",
      " $ Loggedin: int  1 1 1 0 1 1 1 1 1 0 ...\n",
      " $ Added   : chr  \"  represent psycholinguisticspsycholinguistics orthographyorthography help text all actions through human ethno\"| __truncated__ \" website external links\" \" \" \" afghanistan used iran mostly that farsiis is countries some xmlspacepreservepersian parts tajikestan region\" ...\n",
      " $ Removed : chr  \" \" \" talklanguagetalk\" \" regarded as technologytechnologies human first\" \"  represent psycholinguisticspsycholinguistics orthographyorthography help all actions through ethnologue relat\"| __truncated__ ...\n"
     ]
    }
   ],
   "source": [
    "str(wiki)"
   ]
  },
  {
   "cell_type": "code",
   "execution_count": 4,
   "metadata": {},
   "outputs": [
    {
     "data": {
      "text/plain": [
       "\n",
       "   0    1 \n",
       "2061 1815 "
      ]
     },
     "metadata": {},
     "output_type": "display_data"
    }
   ],
   "source": [
    "# Tabulates the vandalism cases\n",
    "table(wiki$Vandal)"
   ]
  },
  {
   "cell_type": "markdown",
   "metadata": {},
   "source": [
    "Answer: There are 1815 observations with value 1, which denotes vandalism."
   ]
  },
  {
   "cell_type": "markdown",
   "metadata": {},
   "source": [
    "### Problem 1.2 - Bags of Words\n",
    "We will now use the bag of words approach to build a model. We have two columns of textual data, with different meanings. For example, adding rude words has a different meaning to removing rude words. We'll start like we did in class by building a document term matrix from the Added column. The text already is lowercase and stripped of punctuation. So to pre-process the data, just complete the following four steps:\n",
    "\n",
    "    1) Create the corpus for the Added column, and call it \"corpusAdded\".\n",
    "\n",
    "    2) Remove the English-language stopwords.\n",
    "\n",
    "    3) Stem the words.\n",
    "\n",
    "    4) Build the DocumentTermMatrix, and call it dtmAdded.\n",
    "\n",
    "If the code length(stopwords(\"english\")) does not return 174 for you, then please run the line of code in this file, which will store the standard stop words in a variable called sw. When removing stop words, use tm_map(corpusAdded, removeWords, sw) instead of tm_map(corpusAdded, removeWords, stopwords(\"english\")).\n",
    "\n",
    "**How many terms appear in dtmAdded?**"
   ]
  },
  {
   "cell_type": "code",
   "execution_count": 5,
   "metadata": {},
   "outputs": [
    {
     "name": "stderr",
     "output_type": "stream",
     "text": [
      "Loading required package: NLP\n",
      "\n"
     ]
    }
   ],
   "source": [
    "library(tm)"
   ]
  },
  {
   "cell_type": "code",
   "execution_count": 6,
   "metadata": {},
   "outputs": [
    {
     "data": {
      "text/plain": [
       "<<DocumentTermMatrix (documents: 3876, terms: 6675)>>\n",
       "Non-/sparse entries: 15368/25856932\n",
       "Sparsity           : 100%\n",
       "Maximal term length: 784\n",
       "Weighting          : term frequency (tf)"
      ]
     },
     "metadata": {},
     "output_type": "display_data"
    }
   ],
   "source": [
    "# Create the corpus for the Added column, and call it \"corpusAdded\"\n",
    "corpusAdded = VCorpus(VectorSource(wiki$Added))\n",
    "\n",
    "# Remove the English-language stopwords\n",
    "corpusAdded = tm_map(corpusAdded, removeWords, stopwords(\"english\"))\n",
    "\n",
    "# Stem the words\n",
    "corpusAdded = tm_map(corpusAdded, stemDocument)\n",
    "\n",
    "# Build the DocumentTermMatrix, and call it dtmAdded\n",
    "dtmAdded = DocumentTermMatrix(corpusAdded)\n",
    "dtmAdded"
   ]
  },
  {
   "cell_type": "markdown",
   "metadata": {},
   "source": [
    "Answer: 6675."
   ]
  },
  {
   "cell_type": "markdown",
   "metadata": {},
   "source": [
    "### Problem 1.3 - Bags of Words\n",
    "Filter out sparse terms by keeping only terms that appear in 0.3% or more of the revisions, and call the new matrix sparseAdded.\n",
    "\n",
    "**How many terms appear in sparseAdded?**"
   ]
  },
  {
   "cell_type": "code",
   "execution_count": 7,
   "metadata": {},
   "outputs": [
    {
     "data": {
      "text/plain": [
       "<<DocumentTermMatrix (documents: 3876, terms: 166)>>\n",
       "Non-/sparse entries: 2681/640735\n",
       "Sparsity           : 100%\n",
       "Maximal term length: 28\n",
       "Weighting          : term frequency (tf)"
      ]
     },
     "metadata": {},
     "output_type": "display_data"
    }
   ],
   "source": [
    "# Filter out the sparse terms\n",
    "sparseAdded = removeSparseTerms(dtmAdded, 0.997)\n",
    "sparseAdded"
   ]
  },
  {
   "cell_type": "markdown",
   "metadata": {},
   "source": [
    "Answer: 166."
   ]
  },
  {
   "cell_type": "markdown",
   "metadata": {},
   "source": [
    "### Problem 1.4 - Bags of Words\n",
    "Convert sparseAdded to a data frame called wordsAdded, and then prepend all the words with the letter A, by using the command:\n",
    "\n",
    "    colnames(wordsAdded) = paste(\"A\", colnames(wordsAdded))\n",
    "\n",
    "Now repeat all of the steps we've done so far (create a corpus, remove stop words, stem the document, create a sparse document term matrix, and convert it to a data frame) to create a Removed bag-of-words dataframe, called wordsRemoved, except this time, prepend all of the words with the letter R:\n",
    "\n",
    "    colnames(wordsRemoved) = paste(\"R\", colnames(wordsRemoved))\n",
    "\n",
    "**How many words are in the wordsRemoved data frame?**"
   ]
  },
  {
   "cell_type": "code",
   "execution_count": 8,
   "metadata": {},
   "outputs": [],
   "source": [
    "#Convert sparseAdded into a dataframe wordAdded\n",
    "wordsAdded = as.data.frame(as.matrix(sparseAdded))\n",
    "\n",
    "# Prepend all the words with letter A\n",
    "colnames(wordsAdded) = paste(\"A\", colnames(wordsAdded))"
   ]
  },
  {
   "cell_type": "code",
   "execution_count": 9,
   "metadata": {},
   "outputs": [],
   "source": [
    "# Create the corpus for the Added column, and call it \"corpusRemoved\"\n",
    "corpusRemoved <- Corpus(VectorSource(wiki$Removed))"
   ]
  },
  {
   "cell_type": "code",
   "execution_count": 10,
   "metadata": {},
   "outputs": [
    {
     "name": "stderr",
     "output_type": "stream",
     "text": [
      "Warning message in tm_map.SimpleCorpus(corpusRemoved, removeWords, stopwords(\"english\")):\n",
      "\"transformation drops documents\"\n",
      "Warning message in tm_map.SimpleCorpus(corpusRemoved, stemDocument):\n",
      "\"transformation drops documents\"\n"
     ]
    }
   ],
   "source": [
    "# Remove the English-language stopwords\n",
    "corpusRemoved <- tm_map(corpusRemoved, removeWords, stopwords(\"english\"))\n",
    "\n",
    "# Stem the words\n",
    "corpusRemoved <- tm_map(corpusRemoved, stemDocument)"
   ]
  },
  {
   "cell_type": "code",
   "execution_count": 11,
   "metadata": {},
   "outputs": [
    {
     "data": {
      "text/html": [
       "162"
      ],
      "text/latex": [
       "162"
      ],
      "text/markdown": [
       "162"
      ],
      "text/plain": [
       "[1] 162"
      ]
     },
     "metadata": {},
     "output_type": "display_data"
    }
   ],
   "source": [
    "# Build the DocumentTermMatrix, and call it dtmRemoved\n",
    "dtmRemoved <- DocumentTermMatrix(corpusRemoved)\n",
    "\n",
    "sparseRemoved <- removeSparseTerms(dtmRemoved, 0.997)\n",
    "\n",
    "wordsRemoved <- as.data.frame(as.matrix(sparseRemoved))\n",
    "\n",
    "colnames(wordsRemoved) = paste(\"R\", colnames(wordsRemoved))\n",
    "\n",
    "ncol(wordsRemoved)"
   ]
  },
  {
   "cell_type": "markdown",
   "metadata": {},
   "source": [
    "Answer: 162 words are in wordsRemoved."
   ]
  },
  {
   "cell_type": "markdown",
   "metadata": {},
   "source": [
    "### Problem 1.5 - Bags of Words\n",
    "Combine the two data frames into a data frame called wikiWords with the following line of code:\n",
    "\n",
    "    wikiWords = cbind(wordsAdded, wordsRemoved)\n",
    "\n",
    "The cbind function combines two sets of variables for the same observations into one data frame. Then add the Vandal column (HINT: remember how we added the dependent variable back into our data frame in the Twitter lecture). Set the random seed to 123 and then split the data set using sample.split from the \"caTools\" package to put 70% in the training set.\n",
    "\n",
    "**What is the accuracy on the test set of a baseline method that always predicts \"not vandalism\" (the most frequent outcome)?**"
   ]
  },
  {
   "cell_type": "code",
   "execution_count": 12,
   "metadata": {},
   "outputs": [
    {
     "data": {
      "text/html": [
       "<table>\n",
       "<caption>A data.frame: 3 × 329</caption>\n",
       "<thead>\n",
       "\t<tr><th></th><th scope=col>A accord</th><th scope=col>A actual</th><th scope=col>A ago</th><th scope=col>A agre</th><th scope=col>A analog</th><th scope=col>A appar</th><th scope=col>A arbitrari</th><th scope=col>A believ</th><th scope=col>A biolog</th><th scope=col>A biologyanalog</th><th scope=col>⋯</th><th scope=col>R homo</th><th scope=col>R thousand</th><th scope=col>R icon</th><th scope=col>R just</th><th scope=col>R langesnada</th><th scope=col>R onto</th><th scope=col>R quothopequot</th><th scope=col>R quotmeowquot</th><th scope=col>R xmlspacepreserveotheruses4th</th><th scope=col>Vandal</th></tr>\n",
       "\t<tr><th></th><th scope=col>&lt;dbl&gt;</th><th scope=col>&lt;dbl&gt;</th><th scope=col>&lt;dbl&gt;</th><th scope=col>&lt;dbl&gt;</th><th scope=col>&lt;dbl&gt;</th><th scope=col>&lt;dbl&gt;</th><th scope=col>&lt;dbl&gt;</th><th scope=col>&lt;dbl&gt;</th><th scope=col>&lt;dbl&gt;</th><th scope=col>&lt;dbl&gt;</th><th scope=col>⋯</th><th scope=col>&lt;dbl&gt;</th><th scope=col>&lt;dbl&gt;</th><th scope=col>&lt;dbl&gt;</th><th scope=col>&lt;dbl&gt;</th><th scope=col>&lt;dbl&gt;</th><th scope=col>&lt;dbl&gt;</th><th scope=col>&lt;dbl&gt;</th><th scope=col>&lt;dbl&gt;</th><th scope=col>&lt;dbl&gt;</th><th scope=col>&lt;fct&gt;</th></tr>\n",
       "</thead>\n",
       "<tbody>\n",
       "\t<tr><th scope=row>1</th><td>0</td><td>0</td><td>0</td><td>0</td><td>0</td><td>0</td><td>0</td><td>0</td><td>0</td><td>0</td><td>⋯</td><td>0</td><td>0</td><td>0</td><td>0</td><td>0</td><td>0</td><td>0</td><td>0</td><td>0</td><td>0</td></tr>\n",
       "\t<tr><th scope=row>2</th><td>0</td><td>0</td><td>0</td><td>0</td><td>0</td><td>0</td><td>0</td><td>0</td><td>0</td><td>0</td><td>⋯</td><td>0</td><td>0</td><td>0</td><td>0</td><td>0</td><td>0</td><td>0</td><td>0</td><td>0</td><td>0</td></tr>\n",
       "\t<tr><th scope=row>3</th><td>0</td><td>0</td><td>0</td><td>0</td><td>0</td><td>0</td><td>0</td><td>0</td><td>0</td><td>0</td><td>⋯</td><td>0</td><td>0</td><td>0</td><td>0</td><td>0</td><td>0</td><td>0</td><td>0</td><td>0</td><td>0</td></tr>\n",
       "</tbody>\n",
       "</table>\n"
      ],
      "text/latex": [
       "A data.frame: 3 × 329\n",
       "\\begin{tabular}{r|lllllllllllllllllllll}\n",
       "  & A accord & A actual & A ago & A agre & A analog & A appar & A arbitrari & A believ & A biolog & A biologyanalog & ⋯ & R homo & R thousand & R icon & R just & R langesnada & R onto & R quothopequot & R quotmeowquot & R xmlspacepreserveotheruses4th & Vandal\\\\\n",
       "  & <dbl> & <dbl> & <dbl> & <dbl> & <dbl> & <dbl> & <dbl> & <dbl> & <dbl> & <dbl> & ⋯ & <dbl> & <dbl> & <dbl> & <dbl> & <dbl> & <dbl> & <dbl> & <dbl> & <dbl> & <fct>\\\\\n",
       "\\hline\n",
       "\t1 & 0 & 0 & 0 & 0 & 0 & 0 & 0 & 0 & 0 & 0 & ⋯ & 0 & 0 & 0 & 0 & 0 & 0 & 0 & 0 & 0 & 0\\\\\n",
       "\t2 & 0 & 0 & 0 & 0 & 0 & 0 & 0 & 0 & 0 & 0 & ⋯ & 0 & 0 & 0 & 0 & 0 & 0 & 0 & 0 & 0 & 0\\\\\n",
       "\t3 & 0 & 0 & 0 & 0 & 0 & 0 & 0 & 0 & 0 & 0 & ⋯ & 0 & 0 & 0 & 0 & 0 & 0 & 0 & 0 & 0 & 0\\\\\n",
       "\\end{tabular}\n"
      ],
      "text/markdown": [
       "\n",
       "A data.frame: 3 × 329\n",
       "\n",
       "| <!--/--> | A accord &lt;dbl&gt; | A actual &lt;dbl&gt; | A ago &lt;dbl&gt; | A agre &lt;dbl&gt; | A analog &lt;dbl&gt; | A appar &lt;dbl&gt; | A arbitrari &lt;dbl&gt; | A believ &lt;dbl&gt; | A biolog &lt;dbl&gt; | A biologyanalog &lt;dbl&gt; | ⋯ ⋯ | R homo &lt;dbl&gt; | R thousand &lt;dbl&gt; | R icon &lt;dbl&gt; | R just &lt;dbl&gt; | R langesnada &lt;dbl&gt; | R onto &lt;dbl&gt; | R quothopequot &lt;dbl&gt; | R quotmeowquot &lt;dbl&gt; | R xmlspacepreserveotheruses4th &lt;dbl&gt; | Vandal &lt;fct&gt; |\n",
       "|---|---|---|---|---|---|---|---|---|---|---|---|---|---|---|---|---|---|---|---|---|---|\n",
       "| 1 | 0 | 0 | 0 | 0 | 0 | 0 | 0 | 0 | 0 | 0 | ⋯ | 0 | 0 | 0 | 0 | 0 | 0 | 0 | 0 | 0 | 0 |\n",
       "| 2 | 0 | 0 | 0 | 0 | 0 | 0 | 0 | 0 | 0 | 0 | ⋯ | 0 | 0 | 0 | 0 | 0 | 0 | 0 | 0 | 0 | 0 |\n",
       "| 3 | 0 | 0 | 0 | 0 | 0 | 0 | 0 | 0 | 0 | 0 | ⋯ | 0 | 0 | 0 | 0 | 0 | 0 | 0 | 0 | 0 | 0 |\n",
       "\n"
      ],
      "text/plain": [
       "  A accord A actual A ago A agre A analog A appar A arbitrari A believ A biolog\n",
       "1 0        0        0     0      0        0       0           0        0       \n",
       "2 0        0        0     0      0        0       0           0        0       \n",
       "3 0        0        0     0      0        0       0           0        0       \n",
       "  A biologyanalog <U+22EF>        R homo R thousand R icon R just R langesnada R onto\n",
       "1 0               <U+22EF> 0      0          0      0      0            0     \n",
       "2 0               <U+22EF> 0      0          0      0      0            0     \n",
       "3 0               <U+22EF> 0      0          0      0      0            0     \n",
       "  R quothopequot R quotmeowquot R xmlspacepreserveotheruses4th Vandal\n",
       "1 0              0              0                              0     \n",
       "2 0              0              0                              0     \n",
       "3 0              0              0                              0     "
      ]
     },
     "metadata": {},
     "output_type": "display_data"
    }
   ],
   "source": [
    "# Combine the data frame\n",
    "wikiWords = cbind(wordsAdded, wordsRemoved)\n",
    "\n",
    "wikiWords$Vandal = wiki$Vandal\n",
    "\n",
    "head(wikiWords,3)"
   ]
  },
  {
   "cell_type": "markdown",
   "metadata": {},
   "source": [
    "Split the dataset into a training and testing set:"
   ]
  },
  {
   "cell_type": "code",
   "execution_count": 13,
   "metadata": {},
   "outputs": [],
   "source": [
    "library(caTools)"
   ]
  },
  {
   "cell_type": "code",
   "execution_count": 14,
   "metadata": {},
   "outputs": [],
   "source": [
    "set.seed(123)\n",
    "\n",
    "# Split\n",
    "spl = sample.split(wikiWords$Vandal, SplitRatio = 0.7)\n",
    "\n",
    "wikiTrain = subset(wikiWords, spl==TRUE)\n",
    "wikiTest = subset(wikiWords, spl==FALSE)"
   ]
  },
  {
   "cell_type": "code",
   "execution_count": 15,
   "metadata": {},
   "outputs": [
    {
     "data": {
      "text/plain": [
       "\n",
       "  0   1 \n",
       "618 545 "
      ]
     },
     "metadata": {},
     "output_type": "display_data"
    }
   ],
   "source": [
    "# Tabulates the amount of vandalism in cases\n",
    "Bl = table(wikiTest$Vandal)\n",
    "Bl"
   ]
  },
  {
   "cell_type": "code",
   "execution_count": 16,
   "metadata": {},
   "outputs": [
    {
     "data": {
      "text/html": [
       "'Accuracy Baseline: 0.5314'"
      ],
      "text/latex": [
       "'Accuracy Baseline: 0.5314'"
      ],
      "text/markdown": [
       "'Accuracy Baseline: 0.5314'"
      ],
      "text/plain": [
       "[1] \"Accuracy Baseline: 0.5314\""
      ]
     },
     "metadata": {},
     "output_type": "display_data"
    }
   ],
   "source": [
    "accurBl = max(Bl)/sum(Bl)\n",
    "paste(\"Accuracy Baseline:\", round(accurBl,digits=4))"
   ]
  },
  {
   "cell_type": "markdown",
   "metadata": {},
   "source": [
    "### Problem 1.6 - Bags of Words\n",
    "Build a CART model to predict Vandal, using all of the other variables as independent variables. Use the training set to build the model and the default parameters (don't set values for minbucket or cp).\n",
    "\n",
    "**What is the accuracy of the model on the test set, using a threshold of 0.5?** (Remember that if you add the argument type=\"class\" when making predictions, the output of predict will automatically use a threshold of 0.5.)"
   ]
  },
  {
   "cell_type": "code",
   "execution_count": 17,
   "metadata": {},
   "outputs": [],
   "source": [
    "library(rpart)\n",
    "library(rpart.plot)"
   ]
  },
  {
   "cell_type": "code",
   "execution_count": 18,
   "metadata": {},
   "outputs": [],
   "source": [
    "# Classification and Regression Trees (CART)\n",
    "wikiCART = rpart(Vandal ~ ., data=wikiTrain, method=\"class\")"
   ]
  },
  {
   "cell_type": "code",
   "execution_count": 19,
   "metadata": {},
   "outputs": [],
   "source": [
    "# Make predictions using the CART model\n",
    "testPredictCART = predict(wikiCART, newdata=wikiTest, type=\"class\")\n",
    "\n",
    "# Confusion Matrix CART model\n",
    "cmCA = table(wikiTest$Vandal, testPredictCART)"
   ]
  },
  {
   "cell_type": "markdown",
   "metadata": {},
   "source": [
    "The rows are labeled with the actual outcome, and the columns are labeled with the predicted outcome.\n",
    "\n",
    "                      Predict 0       Predict 1\n",
    "        Actual 0    True Negative   False Positive\n",
    "        Actual 1    False Negative  True Positive\n",
    "\n",
    "        cmCA = [1][3]\n",
    "               [2][4]"
   ]
  },
  {
   "cell_type": "code",
   "execution_count": 20,
   "metadata": {},
   "outputs": [
    {
     "data": {
      "text/html": [
       "'Accuracy CART: 0.5443'"
      ],
      "text/latex": [
       "'Accuracy CART: 0.5443'"
      ],
      "text/markdown": [
       "'Accuracy CART: 0.5443'"
      ],
      "text/plain": [
       "[1] \"Accuracy CART: 0.5443\""
      ]
     },
     "metadata": {},
     "output_type": "display_data"
    }
   ],
   "source": [
    "# Compute Classification and Regression Trees Accuracy\n",
    "accurCA = sum(diag(cmCA))/sum(cmCA)\n",
    "paste(\"Accuracy CART:\", round(accurCA,digits=4))"
   ]
  },
  {
   "cell_type": "markdown",
   "metadata": {},
   "source": [
    "### Problem 1.7 - Bags of Words\n",
    "**Plot the CART tree. How many word stems does the CART model use?**"
   ]
  },
  {
   "cell_type": "code",
   "execution_count": 21,
   "metadata": {},
   "outputs": [
    {
     "data": {
      "image/png": "[encoded data removed]",
      "text/plain": [
       "plot without title"
      ]
     },
     "metadata": {
      "image/png": {
       "height": 420,
       "width": 420
      },
      "text/plain": {
       "height": 420,
       "width": 420
      }
     },
     "output_type": "display_data"
    }
   ],
   "source": [
    "# Plot Tree\n",
    "prp(wikiCART)"
   ]
  },
  {
   "cell_type": "markdown",
   "metadata": {},
   "source": [
    "Answer: Thousa, set, fuck (3)."
   ]
  },
  {
   "cell_type": "markdown",
   "metadata": {},
   "source": [
    "### Problem 1.8 - Bags of Words\n",
    "**Given the performance of the CART model relative to the baseline, what is the best explanation of these results?**"
   ]
  },
  {
   "cell_type": "code",
   "execution_count": 22,
   "metadata": {},
   "outputs": [
    {
     "data": {
      "text/html": [
       "'Accuracy Baseline: 0.5314'"
      ],
      "text/latex": [
       "'Accuracy Baseline: 0.5314'"
      ],
      "text/markdown": [
       "'Accuracy Baseline: 0.5314'"
      ],
      "text/plain": [
       "[1] \"Accuracy Baseline: 0.5314\""
      ]
     },
     "metadata": {},
     "output_type": "display_data"
    },
    {
     "data": {
      "text/html": [
       "'Accuracy CART: 0.5443'"
      ],
      "text/latex": [
       "'Accuracy CART: 0.5443'"
      ],
      "text/markdown": [
       "'Accuracy CART: 0.5443'"
      ],
      "text/plain": [
       "[1] \"Accuracy CART: 0.5443\""
      ]
     },
     "metadata": {},
     "output_type": "display_data"
    }
   ],
   "source": [
    "paste(\"Accuracy Baseline:\", round(accurBl,digits=4))\n",
    "paste(\"Accuracy CART:\", round(accurCA,digits=4))"
   ]
  },
  {
   "cell_type": "markdown",
   "metadata": {},
   "source": [
    "Answer: Few words as a training set, problably model overfit."
   ]
  },
  {
   "cell_type": "markdown",
   "metadata": {},
   "source": [
    "### Problem 2.1 - Problem-specific Knowledge\n",
    "We weren't able to improve on the baseline using the raw textual information. More specifically, the words themselves were not useful. There are other options though, and in this section we will try two techniques - identifying a key class of words, and counting words.\n",
    "\n",
    "The key class of words we will use are website addresses. \"Website addresses\" (also known as URLs - Uniform Resource Locators) are comprised of two main parts. An example would be \"http://www.google.com\". The first part is the protocol, which is usually \"http\" (HyperText Transfer Protocol). The second part is the address of the site, e.g. \"www.google.com\". We have stripped all punctuation so links to websites appear in the data as one word, e.g. \"httpwwwgooglecom\". We hypothesize that given that a lot of vandalism seems to be adding links to promotional or irrelevant websites, the presence of a web address is a sign of vandalism.\n",
    "\n",
    "We can search for the presence of a web address in the words added by searching for \"http\" in the Added column. The grepl function returns TRUE if a string is found in another string, e.g.\n",
    "\n",
    "    grepl(\"cat\",\"dogs and cats\",fixed=TRUE) # TRUE\n",
    "\n",
    "    grepl(\"cat\",\"dogs and rats\",fixed=TRUE) # FALSE\n",
    "\n",
    "Create a copy of your dataframe from the previous question:\n",
    "\n",
    "    wikiWords2 = wikiWords\n",
    "    \n",
    "Make a new column in wikiWords2 that is 1 if \"http\" was in Added:\n",
    "\n",
    "    wikiWords2$HTTP = ifelse(grepl(\"http\",wiki$Added,fixed=TRUE), 1, 0)\n",
    "\n",
    "**Based on this new column, how many revisions added a link?**"
   ]
  },
  {
   "cell_type": "code",
   "execution_count": 23,
   "metadata": {},
   "outputs": [],
   "source": [
    "# Create a copy of your data frame with http added\n",
    "wikiWords2 = wikiWords\n",
    "\n",
    "wikiWords2$HTTP = ifelse(grepl(\"http\",wiki$Added,fixed=TRUE), 1, 0)"
   ]
  },
  {
   "cell_type": "code",
   "execution_count": 24,
   "metadata": {},
   "outputs": [
    {
     "data": {
      "text/plain": [
       "\n",
       "   0    1 \n",
       "3659  217 "
      ]
     },
     "metadata": {},
     "output_type": "display_data"
    }
   ],
   "source": [
    "# Tabulates the amount of words with http\n",
    "z = table(wikiWords2$HTTP)\n",
    "z"
   ]
  },
  {
   "cell_type": "markdown",
   "metadata": {},
   "source": [
    "Answer: 217 revisions added a link."
   ]
  },
  {
   "cell_type": "markdown",
   "metadata": {},
   "source": [
    "### Problem 2.2 - Problem-Specific Knowledge\n",
    "In problem 1.5, you computed a vector called \"spl\" that identified the observations to put in the training and testing sets. Use that variable (do not recompute it with sample.split) to make new training and testing sets:\n",
    "\n",
    "    wikiTrain2 = subset(wikiWords2, spl==TRUE)\n",
    "\n",
    "    wikiTest2 = subset(wikiWords2, spl==FALSE)\n",
    "\n",
    "Then create a new CART model using this new variable as one of the independent variables.\n",
    "\n",
    "**What is the new accuracy of the CART model on the test set, using a threshold of 0.5?**"
   ]
  },
  {
   "cell_type": "code",
   "execution_count": 25,
   "metadata": {},
   "outputs": [],
   "source": [
    "#Subsetting the data into training and test sets\n",
    "\n",
    "wikiTrain2 = subset(wikiWords2, spl==TRUE)\n",
    "wikiTest2 = subset(wikiWords2, spl==FALSE)"
   ]
  },
  {
   "cell_type": "code",
   "execution_count": 26,
   "metadata": {},
   "outputs": [
    {
     "data": {
      "image/png": "[encoded data removed]",
      "text/plain": [
       "plot without title"
      ]
     },
     "metadata": {
      "image/png": {
       "height": 420,
       "width": 420
      },
      "text/plain": {
       "height": 420,
       "width": 420
      }
     },
     "output_type": "display_data"
    }
   ],
   "source": [
    "# Create the CART2 model\n",
    "wikiCART2 = rpart(Vandal ~ ., data=wikiTrain2, method=\"class\")\n",
    "\n",
    "# Plot CART2\n",
    "prp(wikiCART2)"
   ]
  },
  {
   "cell_type": "code",
   "execution_count": 27,
   "metadata": {},
   "outputs": [
    {
     "data": {
      "text/plain": [
       "   testPredictCART2\n",
       "      0   1\n",
       "  0 605  13\n",
       "  1 481  64"
      ]
     },
     "metadata": {},
     "output_type": "display_data"
    }
   ],
   "source": [
    "# Make Prediction CART2\n",
    "testPredictCART2 = predict(wikiCART2, newdata=wikiTest2, type=\"class\")\n",
    "\n",
    "# Confusion Matrix CART2\n",
    "cmCA2 = table(wikiTest2$Vandal, testPredictCART2)\n",
    "cmCA2"
   ]
  },
  {
   "cell_type": "code",
   "execution_count": 28,
   "metadata": {},
   "outputs": [
    {
     "data": {
      "text/html": [
       "'Accuracy CART2: 0.5752'"
      ],
      "text/latex": [
       "'Accuracy CART2: 0.5752'"
      ],
      "text/markdown": [
       "'Accuracy CART2: 0.5752'"
      ],
      "text/plain": [
       "[1] \"Accuracy CART2: 0.5752\""
      ]
     },
     "metadata": {},
     "output_type": "display_data"
    }
   ],
   "source": [
    "# Compute CART2 Accuracy\n",
    "accurCA2 = sum(diag(cmCA2))/sum(cmCA2)\n",
    "paste(\"Accuracy CART2:\", round(accurCA2,digits=4))"
   ]
  },
  {
   "cell_type": "markdown",
   "metadata": {},
   "source": [
    "### Problem 2.3 - Problem-Specific Knowledge\n",
    "Another possibility is that the number of words added and removed is predictive, perhaps more so than the actual words themselves. We already have a word count available in the form of the document-term matrices (DTMs).\n",
    "\n",
    "Sum the rows of dtmAdded and dtmRemoved and add them as new variables in your data frame wikiWords2 (called NumWordsAdded and NumWordsRemoved) by using the following commands:\n",
    "\n",
    "    wikiWords2$NumWordsAdded = rowSums(as.matrix(dtmAdded))\n",
    "\n",
    "    wikiWords2$NumWordsRemoved = rowSums(as.matrix(dtmRemoved))\n",
    "\n",
    "**What is the average number of words added?**"
   ]
  },
  {
   "cell_type": "code",
   "execution_count": 29,
   "metadata": {},
   "outputs": [
    {
     "data": {
      "text/plain": [
       "   Min. 1st Qu.  Median    Mean 3rd Qu.    Max. \n",
       "   0.00    0.00    1.00    4.05    3.00  259.00 "
      ]
     },
     "metadata": {},
     "output_type": "display_data"
    }
   ],
   "source": [
    "# Sum the rows and add them as new variables\n",
    "wikiWords2$NumWordsAdded = rowSums(as.matrix(dtmAdded))\n",
    "wikiWords2$NumWordsRemoved = rowSums(as.matrix(dtmRemoved))\n",
    "\n",
    "# Output a summary\n",
    "summary(wikiWords2$NumWordsAdded)"
   ]
  },
  {
   "cell_type": "markdown",
   "metadata": {},
   "source": [
    "Answer: 4.05 average number of words are added."
   ]
  },
  {
   "cell_type": "markdown",
   "metadata": {},
   "source": [
    "### Problem 2.4 - Problem-Specific Knowledge\n",
    "In problem 1.5, you computed a vector called \"spl\" that identified the observations to put in the training and testing sets. Use that variable (do not recompute it with sample.split) to make new training and testing sets with wikiWords2. Create the CART model again (using the training set and the default parameters).\n",
    "\n",
    "**What is the new accuracy of the CART model on the test set?**"
   ]
  },
  {
   "cell_type": "code",
   "execution_count": 30,
   "metadata": {},
   "outputs": [],
   "source": [
    "# Split the data into a training set and testing set\n",
    "wikiTrain3 = subset(wikiWords2, spl==TRUE)\n",
    "wikiTest3 = subset(wikiWords2, spl==FALSE)"
   ]
  },
  {
   "cell_type": "code",
   "execution_count": 31,
   "metadata": {},
   "outputs": [
    {
     "data": {
      "image/png": "[encoded data removed]",
      "text/plain": [
       "plot without title"
      ]
     },
     "metadata": {
      "image/png": {
       "height": 420,
       "width": 420
      },
      "text/plain": {
       "height": 420,
       "width": 420
      }
     },
     "output_type": "display_data"
    }
   ],
   "source": [
    "# Implement the CART3 Model\n",
    "wikiCART3 = rpart(Vandal ~ ., data=wikiTrain3, method=\"class\")\n",
    "\n",
    "# Plot CART3\n",
    "prp(wikiCART3)"
   ]
  },
  {
   "cell_type": "code",
   "execution_count": 32,
   "metadata": {},
   "outputs": [
    {
     "data": {
      "text/plain": [
       "   testPredictCART3\n",
       "      0   1\n",
       "  0 514 104\n",
       "  1 297 248"
      ]
     },
     "metadata": {},
     "output_type": "display_data"
    }
   ],
   "source": [
    "# Predict using the testing set\n",
    "testPredictCART3 = predict(wikiCART3, newdata=wikiTest3, type=\"class\")\n",
    "\n",
    "# Tabulates the testing set vs the predictions\n",
    "cmCA3 = table(wikiTest3$Vandal, testPredictCART3)\n",
    "cmCA3"
   ]
  },
  {
   "cell_type": "code",
   "execution_count": 33,
   "metadata": {},
   "outputs": [
    {
     "data": {
      "text/html": [
       "'Accuracy CART3: 0.6552'"
      ],
      "text/latex": [
       "'Accuracy CART3: 0.6552'"
      ],
      "text/markdown": [
       "'Accuracy CART3: 0.6552'"
      ],
      "text/plain": [
       "[1] \"Accuracy CART3: 0.6552\""
      ]
     },
     "metadata": {},
     "output_type": "display_data"
    }
   ],
   "source": [
    "# Compute CART3 Accuracy\n",
    "accurCA3 = sum(diag(cmCA3))/sum(cmCA3)\n",
    "paste(\"Accuracy CART3:\", round(accurCA3,digits=4))"
   ]
  },
  {
   "cell_type": "markdown",
   "metadata": {},
   "source": [
    "### Problem 3.1 - Using Non-Textual Data\n",
    "We have two pieces of \"metadata\" (data about data) that we haven't yet used. Make a copy of wikiWords2, and call it wikiWords3:\n",
    "\n",
    "    wikiWords3 = wikiWords2\n",
    "\n",
    "Then add the two original variables Minor and Loggedin to this new data frame:\n",
    "\n",
    "    wikiWords3$Minor = wiki$Minor\n",
    "\n",
    "    wikiWords3$Loggedin = wiki$Loggedin\n",
    "\n",
    "In problem 1.5, you computed a vector called \"spl\" that identified the observations to put in the training and testing sets. Use that variable (do not recompute it with sample.split) to make new training and testing sets with wikiWords3.\n",
    "\n",
    "**Build a CART model using all the training data. What is the accuracy of the model on the test set?**"
   ]
  },
  {
   "cell_type": "code",
   "execution_count": 34,
   "metadata": {},
   "outputs": [],
   "source": [
    "# Create a copy of the data and then add the two original variables\n",
    "wikiWords3 = wikiWords2\n",
    "wikiWords3$Minor = wiki$Minor\n",
    "wikiWords3$Loggedin = wiki$Loggedin"
   ]
  },
  {
   "cell_type": "code",
   "execution_count": 35,
   "metadata": {},
   "outputs": [],
   "source": [
    "# Subset the training and test sets\n",
    "wikiTrain4 = subset(wikiWords3, spl==TRUE)\n",
    "wikiTest4 = subset(wikiWords3, spl==FALSE)"
   ]
  },
  {
   "cell_type": "code",
   "execution_count": 36,
   "metadata": {},
   "outputs": [],
   "source": [
    "# Create the CART4 Model\n",
    "wikiCART4 = rpart(Vandal ~ ., data=wikiTrain4, method=\"class\")"
   ]
  },
  {
   "cell_type": "code",
   "execution_count": 37,
   "metadata": {},
   "outputs": [
    {
     "data": {
      "text/plain": [
       "   testPredictCART4\n",
       "      0   1\n",
       "  0 595  23\n",
       "  1 304 241"
      ]
     },
     "metadata": {},
     "output_type": "display_data"
    }
   ],
   "source": [
    "# Make predictions CART4 Model\n",
    "testPredictCART4 = predict(wikiCART4, newdata=wikiTest4, type=\"class\")\n",
    "\n",
    "# Confusion Matrix CART4\n",
    "cmCA4 = table(wikiTest4$Vandal, testPredictCART4)\n",
    "cmCA4"
   ]
  },
  {
   "cell_type": "code",
   "execution_count": 38,
   "metadata": {},
   "outputs": [
    {
     "data": {
      "text/html": [
       "'Accuracy CART4: 0.7188'"
      ],
      "text/latex": [
       "'Accuracy CART4: 0.7188'"
      ],
      "text/markdown": [
       "'Accuracy CART4: 0.7188'"
      ],
      "text/plain": [
       "[1] \"Accuracy CART4: 0.7188\""
      ]
     },
     "metadata": {},
     "output_type": "display_data"
    }
   ],
   "source": [
    "# Compute CART4 Accuracy\n",
    "accurCA4 = sum(diag(cmCA4))/sum(cmCA4)\n",
    "paste(\"Accuracy CART4:\", round(accurCA4,digits=4))"
   ]
  },
  {
   "cell_type": "markdown",
   "metadata": {},
   "source": [
    "### Problem 3.2 - Using Non-Textual Data\n",
    "There is a substantial difference in the accuracy of the model using the meta data. **Is this because we made a more complicated model?**"
   ]
  },
  {
   "cell_type": "code",
   "execution_count": 39,
   "metadata": {},
   "outputs": [
    {
     "data": {
      "text/html": [
       "'Accuracy Baseline: 0.5314'"
      ],
      "text/latex": [
       "'Accuracy Baseline: 0.5314'"
      ],
      "text/markdown": [
       "'Accuracy Baseline: 0.5314'"
      ],
      "text/plain": [
       "[1] \"Accuracy Baseline: 0.5314\""
      ]
     },
     "metadata": {},
     "output_type": "display_data"
    },
    {
     "data": {
      "text/html": [
       "'Accuracy CART: 0.5443'"
      ],
      "text/latex": [
       "'Accuracy CART: 0.5443'"
      ],
      "text/markdown": [
       "'Accuracy CART: 0.5443'"
      ],
      "text/plain": [
       "[1] \"Accuracy CART: 0.5443\""
      ]
     },
     "metadata": {},
     "output_type": "display_data"
    },
    {
     "data": {
      "text/html": [
       "'Accuracy CART2: 0.5752'"
      ],
      "text/latex": [
       "'Accuracy CART2: 0.5752'"
      ],
      "text/markdown": [
       "'Accuracy CART2: 0.5752'"
      ],
      "text/plain": [
       "[1] \"Accuracy CART2: 0.5752\""
      ]
     },
     "metadata": {},
     "output_type": "display_data"
    },
    {
     "data": {
      "text/html": [
       "'Accuracy CART3: 0.6552'"
      ],
      "text/latex": [
       "'Accuracy CART3: 0.6552'"
      ],
      "text/markdown": [
       "'Accuracy CART3: 0.6552'"
      ],
      "text/plain": [
       "[1] \"Accuracy CART3: 0.6552\""
      ]
     },
     "metadata": {},
     "output_type": "display_data"
    },
    {
     "data": {
      "text/html": [
       "'Accuracy CART4: 0.7188'"
      ],
      "text/latex": [
       "'Accuracy CART4: 0.7188'"
      ],
      "text/markdown": [
       "'Accuracy CART4: 0.7188'"
      ],
      "text/plain": [
       "[1] \"Accuracy CART4: 0.7188\""
      ]
     },
     "metadata": {},
     "output_type": "display_data"
    }
   ],
   "source": [
    "paste(\"Accuracy Baseline:\", round(accurBl,digits=4))\n",
    "paste(\"Accuracy CART:\", round(accurCA,digits=4))\n",
    "paste(\"Accuracy CART2:\", round(accurCA2,digits=4))\n",
    "paste(\"Accuracy CART3:\", round(accurCA3,digits=4))\n",
    "paste(\"Accuracy CART4:\", round(accurCA4,digits=4))"
   ]
  },
  {
   "cell_type": "markdown",
   "metadata": {},
   "source": [
    "**Plot the CART tree. How many splits are there in the tree?**"
   ]
  },
  {
   "cell_type": "code",
   "execution_count": 40,
   "metadata": {},
   "outputs": [
    {
     "data": {
      "image/png": "[encoded data removed]",
      "text/plain": [
       "plot without title"
      ]
     },
     "metadata": {
      "image/png": {
       "height": 420,
       "width": 420
      },
      "text/plain": {
       "height": 420,
       "width": 420
      }
     },
     "output_type": "display_data"
    }
   ],
   "source": [
    "# Plot CART4\n",
    "prp(wikiCART4)"
   ]
  }
 ],
 "metadata": {
  "kernelspec": {
   "display_name": "R",
   "language": "R",
   "name": "ir"
  },
  "language_info": {
   "codemirror_mode": "r",
   "file_extension": ".r",
   "mimetype": "text/x-r-source",
   "name": "R",
   "pygments_lexer": "r",
   "version": "3.6.3"
  }
 },
 "nbformat": 4,
 "nbformat_minor": 4
}
