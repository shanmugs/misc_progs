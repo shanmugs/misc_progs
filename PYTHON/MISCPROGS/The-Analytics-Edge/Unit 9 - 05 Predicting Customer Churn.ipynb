{
 "cells": [
  {
   "cell_type": "markdown",
   "metadata": {},
   "source": [
    "# Predicting Customer Churn"
   ]
  },
  {
   "cell_type": "markdown",
   "metadata": {},
   "source": [
    "<img src=\"images/customer-churn.jpeg\"/>"
   ]
  },
  {
   "cell_type": "markdown",
   "metadata": {},
   "source": [
    "Customer churn is the loss of customers. Many businesses use predictions of customer churn as a key business metric because the cost of acquiring new customers is much higher than the cost of retaining existing customers.\n",
    "\n",
    "We obtained a dataset from a telecommunications company (downloaded in October 2018 from https://www.ibm.com/communities/analytics/watson-analytics-blog/predictive-insights-in-the-telco-customer-churn-data-set/), which comprised demographic and account information on 7,032 customers. A subset of the variables are included in the dataset below.\n",
    "\n",
    "Dataset: telco-churn.csv"
   ]
  },
  {
   "cell_type": "markdown",
   "metadata": {},
   "source": [
    "Here is a detailed description of the variables:\n",
    "\n",
    "    gender: the gender of the customer (Female or Male).\n",
    "\n",
    "    SeniorCitizen: 1 if the customer is a senior citizen, 0 otherwise\n",
    "\n",
    "    Partner: whether the customer has a partner\n",
    "\n",
    "    Dependents: whether the customer has dependents tenure: how long the customer has been with the company (in months)\n",
    "\n",
    "    PhoneService: whether the customer has phone service\n",
    "\n",
    "    InternetService: what type of internet service the customer has (DSL, Fiber optic, or No)\n",
    "\n",
    "    Contract: what type of contract the customer has (Month-to-month, One year, Two year)\n",
    "\n",
    "    PaperlessBilling: whether the customer has set up paperless billing\n",
    "\n",
    "    PaymentType: how the customer makes payments (Bank transfer (automatic), Credit card (automatic), Electronic check, Mailed check)\n",
    "\n",
    "    MonthlyCharges: how much money the customer is charged a month\n",
    "\n",
    "    TotalCharges: how much the customer has been charged over their tenure\n",
    "\n",
    "    Churn: 1 if the customer has left the business, 0 otherwise\n",
    "\n",
    "In this problem, we will use various classification methods to try to predict customer churn."
   ]
  },
  {
   "cell_type": "markdown",
   "metadata": {},
   "source": [
    "### Exploratory Data Analysis\n",
    "Use the read.csv function to load the contents of telco-churn.csv into a data frame called customers."
   ]
  },
  {
   "cell_type": "code",
   "execution_count": 1,
   "metadata": {},
   "outputs": [
    {
     "data": {
      "text/html": [
       "<table>\n",
       "<caption>A data.frame: 6 × 13</caption>\n",
       "<thead>\n",
       "\t<tr><th></th><th scope=col>gender</th><th scope=col>SeniorCitizen</th><th scope=col>Partner</th><th scope=col>Dependents</th><th scope=col>tenure</th><th scope=col>PhoneService</th><th scope=col>InternetService</th><th scope=col>Contract</th><th scope=col>PaperlessBilling</th><th scope=col>PaymentMethod</th><th scope=col>MonthlyCharges</th><th scope=col>TotalCharges</th><th scope=col>Churn</th></tr>\n",
       "\t<tr><th></th><th scope=col>&lt;fct&gt;</th><th scope=col>&lt;int&gt;</th><th scope=col>&lt;fct&gt;</th><th scope=col>&lt;fct&gt;</th><th scope=col>&lt;int&gt;</th><th scope=col>&lt;fct&gt;</th><th scope=col>&lt;fct&gt;</th><th scope=col>&lt;fct&gt;</th><th scope=col>&lt;fct&gt;</th><th scope=col>&lt;fct&gt;</th><th scope=col>&lt;dbl&gt;</th><th scope=col>&lt;dbl&gt;</th><th scope=col>&lt;int&gt;</th></tr>\n",
       "</thead>\n",
       "<tbody>\n",
       "\t<tr><th scope=row>1</th><td>Female</td><td>0</td><td>Yes</td><td>No</td><td> 1</td><td>No </td><td>DSL        </td><td>Month-to-month</td><td>Yes</td><td>Electronic check         </td><td>29.85</td><td>  29.85</td><td>0</td></tr>\n",
       "\t<tr><th scope=row>2</th><td>Male  </td><td>0</td><td>No </td><td>No</td><td>34</td><td>Yes</td><td>DSL        </td><td>One year      </td><td>No </td><td>Mailed check             </td><td>56.95</td><td>1889.50</td><td>0</td></tr>\n",
       "\t<tr><th scope=row>3</th><td>Male  </td><td>0</td><td>No </td><td>No</td><td> 2</td><td>Yes</td><td>DSL        </td><td>Month-to-month</td><td>Yes</td><td>Mailed check             </td><td>53.85</td><td> 108.15</td><td>1</td></tr>\n",
       "\t<tr><th scope=row>4</th><td>Male  </td><td>0</td><td>No </td><td>No</td><td>45</td><td>No </td><td>DSL        </td><td>One year      </td><td>No </td><td>Bank transfer (automatic)</td><td>42.30</td><td>1840.75</td><td>0</td></tr>\n",
       "\t<tr><th scope=row>5</th><td>Female</td><td>0</td><td>No </td><td>No</td><td> 2</td><td>Yes</td><td>Fiber optic</td><td>Month-to-month</td><td>Yes</td><td>Electronic check         </td><td>70.70</td><td> 151.65</td><td>1</td></tr>\n",
       "\t<tr><th scope=row>6</th><td>Female</td><td>0</td><td>No </td><td>No</td><td> 8</td><td>Yes</td><td>Fiber optic</td><td>Month-to-month</td><td>Yes</td><td>Electronic check         </td><td>99.65</td><td> 820.50</td><td>1</td></tr>\n",
       "</tbody>\n",
       "</table>\n"
      ],
      "text/latex": [
       "A data.frame: 6 × 13\n",
       "\\begin{tabular}{r|lllllllllllll}\n",
       "  & gender & SeniorCitizen & Partner & Dependents & tenure & PhoneService & InternetService & Contract & PaperlessBilling & PaymentMethod & MonthlyCharges & TotalCharges & Churn\\\\\n",
       "  & <fct> & <int> & <fct> & <fct> & <int> & <fct> & <fct> & <fct> & <fct> & <fct> & <dbl> & <dbl> & <int>\\\\\n",
       "\\hline\n",
       "\t1 & Female & 0 & Yes & No &  1 & No  & DSL         & Month-to-month & Yes & Electronic check          & 29.85 &   29.85 & 0\\\\\n",
       "\t2 & Male   & 0 & No  & No & 34 & Yes & DSL         & One year       & No  & Mailed check              & 56.95 & 1889.50 & 0\\\\\n",
       "\t3 & Male   & 0 & No  & No &  2 & Yes & DSL         & Month-to-month & Yes & Mailed check              & 53.85 &  108.15 & 1\\\\\n",
       "\t4 & Male   & 0 & No  & No & 45 & No  & DSL         & One year       & No  & Bank transfer (automatic) & 42.30 & 1840.75 & 0\\\\\n",
       "\t5 & Female & 0 & No  & No &  2 & Yes & Fiber optic & Month-to-month & Yes & Electronic check          & 70.70 &  151.65 & 1\\\\\n",
       "\t6 & Female & 0 & No  & No &  8 & Yes & Fiber optic & Month-to-month & Yes & Electronic check          & 99.65 &  820.50 & 1\\\\\n",
       "\\end{tabular}\n"
      ],
      "text/markdown": [
       "\n",
       "A data.frame: 6 × 13\n",
       "\n",
       "| <!--/--> | gender &lt;fct&gt; | SeniorCitizen &lt;int&gt; | Partner &lt;fct&gt; | Dependents &lt;fct&gt; | tenure &lt;int&gt; | PhoneService &lt;fct&gt; | InternetService &lt;fct&gt; | Contract &lt;fct&gt; | PaperlessBilling &lt;fct&gt; | PaymentMethod &lt;fct&gt; | MonthlyCharges &lt;dbl&gt; | TotalCharges &lt;dbl&gt; | Churn &lt;int&gt; |\n",
       "|---|---|---|---|---|---|---|---|---|---|---|---|---|---|\n",
       "| 1 | Female | 0 | Yes | No |  1 | No  | DSL         | Month-to-month | Yes | Electronic check          | 29.85 |   29.85 | 0 |\n",
       "| 2 | Male   | 0 | No  | No | 34 | Yes | DSL         | One year       | No  | Mailed check              | 56.95 | 1889.50 | 0 |\n",
       "| 3 | Male   | 0 | No  | No |  2 | Yes | DSL         | Month-to-month | Yes | Mailed check              | 53.85 |  108.15 | 1 |\n",
       "| 4 | Male   | 0 | No  | No | 45 | No  | DSL         | One year       | No  | Bank transfer (automatic) | 42.30 | 1840.75 | 0 |\n",
       "| 5 | Female | 0 | No  | No |  2 | Yes | Fiber optic | Month-to-month | Yes | Electronic check          | 70.70 |  151.65 | 1 |\n",
       "| 6 | Female | 0 | No  | No |  8 | Yes | Fiber optic | Month-to-month | Yes | Electronic check          | 99.65 |  820.50 | 1 |\n",
       "\n"
      ],
      "text/plain": [
       "  gender SeniorCitizen Partner Dependents tenure PhoneService InternetService\n",
       "1 Female 0             Yes     No          1     No           DSL            \n",
       "2 Male   0             No      No         34     Yes          DSL            \n",
       "3 Male   0             No      No          2     Yes          DSL            \n",
       "4 Male   0             No      No         45     No           DSL            \n",
       "5 Female 0             No      No          2     Yes          Fiber optic    \n",
       "6 Female 0             No      No          8     Yes          Fiber optic    \n",
       "  Contract       PaperlessBilling PaymentMethod             MonthlyCharges\n",
       "1 Month-to-month Yes              Electronic check          29.85         \n",
       "2 One year       No               Mailed check              56.95         \n",
       "3 Month-to-month Yes              Mailed check              53.85         \n",
       "4 One year       No               Bank transfer (automatic) 42.30         \n",
       "5 Month-to-month Yes              Electronic check          70.70         \n",
       "6 Month-to-month Yes              Electronic check          99.65         \n",
       "  TotalCharges Churn\n",
       "1   29.85      0    \n",
       "2 1889.50      0    \n",
       "3  108.15      1    \n",
       "4 1840.75      0    \n",
       "5  151.65      1    \n",
       "6  820.50      1    "
      ]
     },
     "metadata": {},
     "output_type": "display_data"
    }
   ],
   "source": [
    "# Load the Dataset\n",
    "\n",
    "customers = read.csv(\"data/telco-churn.csv\")\n",
    "\n",
    "head(customers)"
   ]
  },
  {
   "cell_type": "code",
   "execution_count": 2,
   "metadata": {},
   "outputs": [
    {
     "name": "stdout",
     "output_type": "stream",
     "text": [
      "'data.frame':\t7032 obs. of  13 variables:\n",
      " $ gender          : Factor w/ 2 levels \"Female\",\"Male\": 1 2 2 2 1 1 2 1 1 2 ...\n",
      " $ SeniorCitizen   : int  0 0 0 0 0 0 0 0 0 0 ...\n",
      " $ Partner         : Factor w/ 2 levels \"No\",\"Yes\": 2 1 1 1 1 1 1 1 2 1 ...\n",
      " $ Dependents      : Factor w/ 2 levels \"No\",\"Yes\": 1 1 1 1 1 1 2 1 1 2 ...\n",
      " $ tenure          : int  1 34 2 45 2 8 22 10 28 62 ...\n",
      " $ PhoneService    : Factor w/ 2 levels \"No\",\"Yes\": 1 2 2 1 2 2 2 1 2 2 ...\n",
      " $ InternetService : Factor w/ 3 levels \"DSL\",\"Fiber optic\",..: 1 1 1 1 2 2 2 1 2 1 ...\n",
      " $ Contract        : Factor w/ 3 levels \"Month-to-month\",..: 1 2 1 2 1 1 1 1 1 2 ...\n",
      " $ PaperlessBilling: Factor w/ 2 levels \"No\",\"Yes\": 2 1 2 1 2 2 2 1 2 1 ...\n",
      " $ PaymentMethod   : Factor w/ 4 levels \"Bank transfer (automatic)\",..: 3 4 4 1 3 3 2 4 3 1 ...\n",
      " $ MonthlyCharges  : num  29.9 57 53.9 42.3 70.7 ...\n",
      " $ TotalCharges    : num  29.9 1889.5 108.2 1840.8 151.7 ...\n",
      " $ Churn           : int  0 0 1 0 1 1 0 0 1 0 ...\n"
     ]
    }
   ],
   "source": [
    "str(customers)"
   ]
  },
  {
   "cell_type": "code",
   "execution_count": 3,
   "metadata": {},
   "outputs": [
    {
     "data": {
      "text/plain": [
       "    gender     SeniorCitizen    Partner    Dependents     tenure     \n",
       " Female:3483   Min.   :0.0000   No :3639   No :4933   Min.   : 1.00  \n",
       " Male  :3549   1st Qu.:0.0000   Yes:3393   Yes:2099   1st Qu.: 9.00  \n",
       "               Median :0.0000                         Median :29.00  \n",
       "               Mean   :0.1624                         Mean   :32.42  \n",
       "               3rd Qu.:0.0000                         3rd Qu.:55.00  \n",
       "               Max.   :1.0000                         Max.   :72.00  \n",
       " PhoneService    InternetService           Contract    PaperlessBilling\n",
       " No : 680     DSL        :2416   Month-to-month:3875   No :2864        \n",
       " Yes:6352     Fiber optic:3096   One year      :1472   Yes:4168        \n",
       "              No         :1520   Two year      :1685                   \n",
       "                                                                       \n",
       "                                                                       \n",
       "                                                                       \n",
       "                   PaymentMethod  MonthlyCharges    TotalCharges   \n",
       " Bank transfer (automatic):1542   Min.   : 18.25   Min.   :  18.8  \n",
       " Credit card (automatic)  :1521   1st Qu.: 35.59   1st Qu.: 401.4  \n",
       " Electronic check         :2365   Median : 70.35   Median :1397.5  \n",
       " Mailed check             :1604   Mean   : 64.80   Mean   :2283.3  \n",
       "                                  3rd Qu.: 89.86   3rd Qu.:3794.7  \n",
       "                                  Max.   :118.75   Max.   :8684.8  \n",
       "     Churn       \n",
       " Min.   :0.0000  \n",
       " 1st Qu.:0.0000  \n",
       " Median :0.0000  \n",
       " Mean   :0.2658  \n",
       " 3rd Qu.:1.0000  \n",
       " Max.   :1.0000  "
      ]
     },
     "metadata": {},
     "output_type": "display_data"
    }
   ],
   "source": [
    "summary(customers)"
   ]
  },
  {
   "cell_type": "markdown",
   "metadata": {},
   "source": [
    "**How many customers churned?**"
   ]
  },
  {
   "cell_type": "code",
   "execution_count": 4,
   "metadata": {},
   "outputs": [
    {
     "data": {
      "text/plain": [
       "\n",
       "   0    1 \n",
       "5163 1869 "
      ]
     },
     "metadata": {},
     "output_type": "display_data"
    }
   ],
   "source": [
    "# Calculate the number of customers that have churned\n",
    "table(customers$Churn)"
   ]
  },
  {
   "cell_type": "markdown",
   "metadata": {},
   "source": [
    "Answer: 1869 customers have churned."
   ]
  },
  {
   "cell_type": "markdown",
   "metadata": {},
   "source": [
    "**What is the most common type of internet service in the dataset?**"
   ]
  },
  {
   "cell_type": "code",
   "execution_count": 5,
   "metadata": {},
   "outputs": [
    {
     "data": {
      "text/plain": [
       "\n",
       "        DSL Fiber optic          No \n",
       "       2416        3096        1520 "
      ]
     },
     "metadata": {},
     "output_type": "display_data"
    }
   ],
   "source": [
    "# Tabulate the amount of customers for each internet service\n",
    "table(customers$InternetService)"
   ]
  },
  {
   "cell_type": "markdown",
   "metadata": {},
   "source": [
    "Answer: Fiber optic is the most common type of internet service in the dataset."
   ]
  },
  {
   "cell_type": "markdown",
   "metadata": {},
   "source": [
    "**What is the mean monthly charges amongst customers with month-to-month contracts?**"
   ]
  },
  {
   "cell_type": "code",
   "execution_count": 6,
   "metadata": {},
   "outputs": [
    {
     "data": {
      "text/html": [
       "<style>\n",
       ".dl-inline {width: auto; margin:0; padding: 0}\n",
       ".dl-inline>dt, .dl-inline>dd {float: none; width: auto; display: inline-block}\n",
       ".dl-inline>dt::after {content: \":\\0020\"; padding-right: .5ex}\n",
       ".dl-inline>dt:not(:first-of-type) {padding-left: .5ex}\n",
       "</style><dl class=dl-inline><dt>FALSE</dt><dd>62.8339721254355</dd><dt>TRUE</dt><dd>66.3984903225806</dd></dl>\n"
      ],
      "text/latex": [
       "\\begin{description*}\n",
       "\\item[FALSE] 62.8339721254355\n",
       "\\item[TRUE] 66.3984903225806\n",
       "\\end{description*}\n"
      ],
      "text/markdown": [
       "FALSE\n",
       ":   62.8339721254355TRUE\n",
       ":   66.3984903225806\n",
       "\n"
      ],
      "text/plain": [
       "   FALSE     TRUE \n",
       "62.83397 66.39849 "
      ]
     },
     "metadata": {},
     "output_type": "display_data"
    }
   ],
   "source": [
    "# Tabulate the mean monthly chargers amongst customers with month-to-month contracts\n",
    "tapply(customers$MonthlyCharges, customers$Contract ==\"Month-to-month\", mean)"
   ]
  },
  {
   "cell_type": "markdown",
   "metadata": {},
   "source": [
    "Answer: 66.39849 is the mean monthly charges amongst customers with month-to-month contracts."
   ]
  },
  {
   "cell_type": "markdown",
   "metadata": {},
   "source": [
    "### Simple Logistic Regression\n",
    "Set your random seed to 1 and create a training and test split using the sample.split() function in the caTools library, with 70% of the observations in the training set and 30% in the testing set."
   ]
  },
  {
   "cell_type": "code",
   "execution_count": 7,
   "metadata": {},
   "outputs": [],
   "source": [
    "library(caTools)"
   ]
  },
  {
   "cell_type": "code",
   "execution_count": 8,
   "metadata": {},
   "outputs": [],
   "source": [
    "set.seed(1)\n",
    "\n",
    "split = sample.split(customers$Churn, SplitRatio = 0.7)\n",
    "\n",
    "train = subset(customers, split ==TRUE)\n",
    "test = subset(customers, split == FALSE)"
   ]
  },
  {
   "cell_type": "markdown",
   "metadata": {},
   "source": [
    "**Why do we use the sample.split() function?**"
   ]
  },
  {
   "cell_type": "markdown",
   "metadata": {},
   "source": [
    "Answer: It balances the dependent variable between the training and testing sets"
   ]
  },
  {
   "cell_type": "markdown",
   "metadata": {},
   "source": [
    "**What is the (test) accuracy of this baseline model?**"
   ]
  },
  {
   "cell_type": "code",
   "execution_count": 9,
   "metadata": {},
   "outputs": [
    {
     "data": {
      "text/plain": [
       "\n",
       "   0    1 \n",
       "1549  561 "
      ]
     },
     "metadata": {},
     "output_type": "display_data"
    }
   ],
   "source": [
    "# Compute Baseline\n",
    "\n",
    "Bl = table(test$Churn)\n",
    "Bl"
   ]
  },
  {
   "cell_type": "code",
   "execution_count": 10,
   "metadata": {},
   "outputs": [
    {
     "data": {
      "text/html": [
       "'Accuracy Baseline: 0.7341'"
      ],
      "text/latex": [
       "'Accuracy Baseline: 0.7341'"
      ],
      "text/markdown": [
       "'Accuracy Baseline: 0.7341'"
      ],
      "text/plain": [
       "[1] \"Accuracy Baseline: 0.7341\""
      ]
     },
     "metadata": {},
     "output_type": "display_data"
    }
   ],
   "source": [
    "# Compute Baseline Accuracy\n",
    "\n",
    "accurBl = max(Bl)/sum(Bl)\n",
    "paste(\"Accuracy Baseline:\", round(accurBl,digits=4))"
   ]
  },
  {
   "cell_type": "markdown",
   "metadata": {},
   "source": [
    "**What is the (test) true positive rate of this baseline model?**"
   ]
  },
  {
   "cell_type": "code",
   "execution_count": 11,
   "metadata": {},
   "outputs": [
    {
     "data": {
      "text/html": [
       "'True Positive Baseline: 0.2659'"
      ],
      "text/latex": [
       "'True Positive Baseline: 0.2659'"
      ],
      "text/markdown": [
       "'True Positive Baseline: 0.2659'"
      ],
      "text/plain": [
       "[1] \"True Positive Baseline: 0.2659\""
      ]
     },
     "metadata": {},
     "output_type": "display_data"
    }
   ],
   "source": [
    "# Compute True Positive Baseline\n",
    "\n",
    "TP = Bl[2]/sum(Bl)\n",
    "paste(\"True Positive Baseline:\", round(TP,digits=4))"
   ]
  },
  {
   "cell_type": "markdown",
   "metadata": {},
   "source": [
    "**Train a logistic regression model using tenure as the independent variable. What is the coefficient of tenure?**"
   ]
  },
  {
   "cell_type": "code",
   "execution_count": 12,
   "metadata": {},
   "outputs": [
    {
     "data": {
      "text/plain": [
       "\n",
       "Call:\n",
       "glm(formula = Churn ~ tenure, family = binomial, data = train)\n",
       "\n",
       "Deviance Residuals: \n",
       "    Min       1Q   Median       3Q      Max  \n",
       "-1.1858  -0.8440  -0.4689   1.1690   2.3850  \n",
       "\n",
       "Coefficients:\n",
       "             Estimate Std. Error z value Pr(>|z|)    \n",
       "(Intercept)  0.059313   0.050868   1.166    0.244    \n",
       "tenure      -0.039493   0.001685 -23.435   <2e-16 ***\n",
       "---\n",
       "Signif. codes:  0 '***' 0.001 '**' 0.01 '*' 0.05 '.' 0.1 ' ' 1\n",
       "\n",
       "(Dispersion parameter for binomial family taken to be 1)\n",
       "\n",
       "    Null deviance: 5699.5  on 4921  degrees of freedom\n",
       "Residual deviance: 5005.1  on 4920  degrees of freedom\n",
       "AIC: 5009.1\n",
       "\n",
       "Number of Fisher Scoring iterations: 4\n"
      ]
     },
     "metadata": {},
     "output_type": "display_data"
    }
   ],
   "source": [
    "# Logistic Regression Model with tenure \n",
    "ChurnLog = glm(Churn ~ tenure,  data=train, family=binomial)\n",
    "\n",
    "summary(ChurnLog)"
   ]
  },
  {
   "cell_type": "markdown",
   "metadata": {},
   "source": [
    "Answer: tenure (coefficient) = -0.039493."
   ]
  },
  {
   "cell_type": "markdown",
   "metadata": {},
   "source": [
    "**Using your logistic regression model, obtain predictions on the test set. Then, using a probability threshold of 0.5, create a confusion matrix for the test set. What is the accuracy of your logistic regression model?**"
   ]
  },
  {
   "cell_type": "code",
   "execution_count": 13,
   "metadata": {},
   "outputs": [
    {
     "data": {
      "text/plain": [
       "   \n",
       "    FALSE TRUE\n",
       "  0  1478   71\n",
       "  1   442  119"
      ]
     },
     "metadata": {},
     "output_type": "display_data"
    }
   ],
   "source": [
    "# Make predictions\n",
    "predictTrain = predict(ChurnLog, newdata = test, type=\"response\")\n",
    "\n",
    "# Confusion matrix\n",
    "cmLR = table(test$Churn, predictTrain > 0.5)\n",
    "cmLR"
   ]
  },
  {
   "cell_type": "markdown",
   "metadata": {},
   "source": [
    "The rows are labeled with the actual outcome, and the columns are labeled with the predicted outcome.\n",
    "\n",
    "                      Predict 0       Predict 1\n",
    "        Actual 0    True Negative   False Positive\n",
    "        Actual 1    False Negative  True Positive\n",
    "\n",
    "        cmLR = [1][3]\n",
    "               [2][4]"
   ]
  },
  {
   "cell_type": "code",
   "execution_count": 14,
   "metadata": {},
   "outputs": [
    {
     "data": {
      "text/html": [
       "'Accuracy Logistic Regression: 0.7569'"
      ],
      "text/latex": [
       "'Accuracy Logistic Regression: 0.7569'"
      ],
      "text/markdown": [
       "'Accuracy Logistic Regression: 0.7569'"
      ],
      "text/plain": [
       "[1] \"Accuracy Logistic Regression: 0.7569\""
      ]
     },
     "metadata": {},
     "output_type": "display_data"
    }
   ],
   "source": [
    "# Compute Logistic Regression Accuracy\n",
    "\n",
    "accurLR = sum(diag(cmLR))/sum(cmLR)\n",
    "paste(\"Accuracy Logistic Regression:\", round(accurLR,digits=4))"
   ]
  },
  {
   "cell_type": "markdown",
   "metadata": {},
   "source": [
    "**What is the true positive rate of your logistic regression model?**"
   ]
  },
  {
   "cell_type": "code",
   "execution_count": 15,
   "metadata": {},
   "outputs": [
    {
     "data": {
      "text/html": [
       "'True Positive Rate in the Logistic Regression Model: 0.2121'"
      ],
      "text/latex": [
       "'True Positive Rate in the Logistic Regression Model: 0.2121'"
      ],
      "text/markdown": [
       "'True Positive Rate in the Logistic Regression Model: 0.2121'"
      ],
      "text/plain": [
       "[1] \"True Positive Rate in the Logistic Regression Model: 0.2121\""
      ]
     },
     "metadata": {},
     "output_type": "display_data"
    }
   ],
   "source": [
    "# True Positive Rate = True Positive / All Real Posisitve\n",
    "\n",
    "TPR = cmLR[4]/(cmLR[4]+cmLR[2])\n",
    "paste(\"True Positive Rate in the Logistic Regression Model:\", round(TPR,digits=4))"
   ]
  },
  {
   "cell_type": "markdown",
   "metadata": {},
   "source": [
    "**What is the false positive rate of your logistic regression model?**"
   ]
  },
  {
   "cell_type": "code",
   "execution_count": 16,
   "metadata": {},
   "outputs": [
    {
     "data": {
      "text/html": [
       "'False Positive Rate in the Logistic Regression Model: 0.0458'"
      ],
      "text/latex": [
       "'False Positive Rate in the Logistic Regression Model: 0.0458'"
      ],
      "text/markdown": [
       "'False Positive Rate in the Logistic Regression Model: 0.0458'"
      ],
      "text/plain": [
       "[1] \"False Positive Rate in the Logistic Regression Model: 0.0458\""
      ]
     },
     "metadata": {},
     "output_type": "display_data"
    }
   ],
   "source": [
    "# False Positive Rate = False Positive / All Real Negative\n",
    "\n",
    "FPR = cmLR[3]/(cmLR[3]+cmLR[1])\n",
    "paste(\"False Positive Rate in the Logistic Regression Model:\", round(FPR,digits=4))"
   ]
  },
  {
   "cell_type": "markdown",
   "metadata": {},
   "source": [
    "**Suppose we wanted to to lower the prediction threshold (currently 0.5). Which metrics would be guaranteed to either improve or stay the same?**"
   ]
  },
  {
   "cell_type": "markdown",
   "metadata": {},
   "source": [
    "Answer: False Positive Rate. With a lower prediction threshold, we will increase the number of Real Positive cases, and decrease the number of Real Negative cases, that is inversely proportional to the False Positive Rate. \n",
    "\n",
    "When we decrease the threshold, we get more positive values thus it increases the sensitivity and decreasing the specificity."
   ]
  },
  {
   "cell_type": "markdown",
   "metadata": {},
   "source": [
    "### Adding more variables\n",
    "Train a logistic regression model now using all of the variables in the training set."
   ]
  },
  {
   "cell_type": "code",
   "execution_count": 17,
   "metadata": {},
   "outputs": [
    {
     "data": {
      "text/plain": [
       "\n",
       "Call:\n",
       "glm(formula = Churn ~ ., family = binomial, data = train)\n",
       "\n",
       "Deviance Residuals: \n",
       "    Min       1Q   Median       3Q      Max  \n",
       "-1.7135  -0.7003  -0.2996   0.7876   3.4895  \n",
       "\n",
       "Coefficients:\n",
       "                                       Estimate Std. Error z value Pr(>|z|)    \n",
       "(Intercept)                           1.103e-02  2.635e-01   0.042 0.966607    \n",
       "genderMale                            4.286e-03  7.673e-02   0.056 0.955452    \n",
       "SeniorCitizen                         1.721e-01  9.934e-02   1.733 0.083150 .  \n",
       "PartnerYes                            9.759e-02  9.190e-02   1.062 0.288272    \n",
       "DependentsYes                        -1.386e-01  1.054e-01  -1.316 0.188341    \n",
       "tenure                               -6.070e-02  7.372e-03  -8.234  < 2e-16 ***\n",
       "PhoneServiceYes                      -7.686e-01  1.716e-01  -4.480 7.47e-06 ***\n",
       "InternetServiceFiber optic            9.785e-01  1.591e-01   6.150 7.77e-10 ***\n",
       "InternetServiceNo                    -4.057e-01  2.247e-01  -1.806 0.070995 .  \n",
       "ContractOne year                     -7.659e-01  1.266e-01  -6.048 1.46e-09 ***\n",
       "ContractTwo year                     -1.605e+00  2.104e-01  -7.627 2.40e-14 ***\n",
       "PaperlessBillingYes                   3.390e-01  8.796e-02   3.854 0.000116 ***\n",
       "PaymentMethodCredit card (automatic) -2.144e-01  1.350e-01  -1.589 0.112128    \n",
       "PaymentMethodElectronic check         2.974e-01  1.110e-01   2.680 0.007368 ** \n",
       "PaymentMethodMailed check            -1.325e-01  1.349e-01  -0.982 0.325895    \n",
       "MonthlyCharges                        2.039e-03  4.805e-03   0.424 0.671265    \n",
       "TotalCharges                          3.202e-04  8.358e-05   3.831 0.000128 ***\n",
       "---\n",
       "Signif. codes:  0 '***' 0.001 '**' 0.01 '*' 0.05 '.' 0.1 ' ' 1\n",
       "\n",
       "(Dispersion parameter for binomial family taken to be 1)\n",
       "\n",
       "    Null deviance: 5699.5  on 4921  degrees of freedom\n",
       "Residual deviance: 4139.3  on 4905  degrees of freedom\n",
       "AIC: 4173.3\n",
       "\n",
       "Number of Fisher Scoring iterations: 6\n"
      ]
     },
     "metadata": {},
     "output_type": "display_data"
    }
   ],
   "source": [
    "# Logistic Regression Model with all variables\n",
    "\n",
    "ChurnLog2 = glm(Churn ~ .,  data=train, family=binomial)\n",
    "\n",
    "summary(ChurnLog2)"
   ]
  },
  {
   "cell_type": "markdown",
   "metadata": {},
   "source": [
    "**Which of the following variables are significant at a level of 0.05 or less?**"
   ]
  },
  {
   "cell_type": "markdown",
   "metadata": {},
   "source": [
    "Answer:\n",
    "\n",
    "    tenure\n",
    "    PhoneServiceYes\n",
    "    InternetServiceFiber optic\n",
    "    ContractOne year\n",
    "    ContractTwo year\n",
    "    PaperlessBillingYes\n",
    "    TotalCharges"
   ]
  },
  {
   "cell_type": "markdown",
   "metadata": {},
   "source": [
    "**How would you interpret the coefficient of SeniorCitizen in the model?**"
   ]
  },
  {
   "cell_type": "markdown",
   "metadata": {},
   "source": [
    "Answer: When the customer is a senior citizen, the odds of the customer churning are 17.2% higher than if the customer is not."
   ]
  },
  {
   "cell_type": "markdown",
   "metadata": {},
   "source": [
    "**Using your new logistic regression model, obtain predictions on the test set. Then, using a probability threshold of 0.5, create a confusion matrix for the test set. What is the accuracy of your logistic regression model?**"
   ]
  },
  {
   "cell_type": "code",
   "execution_count": 18,
   "metadata": {},
   "outputs": [
    {
     "data": {
      "text/plain": [
       "   \n",
       "    FALSE TRUE\n",
       "  0  1398  151\n",
       "  1   251  310"
      ]
     },
     "metadata": {},
     "output_type": "display_data"
    }
   ],
   "source": [
    "# Make predictions with test set\n",
    "predictTrain = predict(ChurnLog2, newdata = test, type=\"response\")\n",
    "\n",
    "# Confusion matrix\n",
    "cmLT = table(test$Churn, predictTrain > 0.5)\n",
    "cmLT"
   ]
  },
  {
   "cell_type": "code",
   "execution_count": 19,
   "metadata": {},
   "outputs": [
    {
     "data": {
      "text/html": [
       "'Accuracy Logistic Regression all variables: 0.8095'"
      ],
      "text/latex": [
       "'Accuracy Logistic Regression all variables: 0.8095'"
      ],
      "text/markdown": [
       "'Accuracy Logistic Regression all variables: 0.8095'"
      ],
      "text/plain": [
       "[1] \"Accuracy Logistic Regression all variables: 0.8095\""
      ]
     },
     "metadata": {},
     "output_type": "display_data"
    }
   ],
   "source": [
    "# Compute Logistic Regression Test Set Accuracy with all variables\n",
    "\n",
    "accurLT = sum(diag(cmLT))/sum(cmLT)\n",
    "paste(\"Accuracy Logistic Regression all variables:\", round(accurLT,digits=4))"
   ]
  },
  {
   "cell_type": "markdown",
   "metadata": {},
   "source": [
    "**AUC?**"
   ]
  },
  {
   "cell_type": "code",
   "execution_count": 20,
   "metadata": {},
   "outputs": [],
   "source": [
    "library(ROCR)"
   ]
  },
  {
   "cell_type": "code",
   "execution_count": 21,
   "metadata": {},
   "outputs": [
    {
     "data": {
      "text/html": [
       "'AUC Logistic Regression all variables: 0.8436'"
      ],
      "text/latex": [
       "'AUC Logistic Regression all variables: 0.8436'"
      ],
      "text/markdown": [
       "'AUC Logistic Regression all variables: 0.8436'"
      ],
      "text/plain": [
       "[1] \"AUC Logistic Regression all variables: 0.8436\""
      ]
     },
     "metadata": {},
     "output_type": "display_data"
    }
   ],
   "source": [
    "# Logistic Regression Prediction\n",
    "ROCRpred = prediction(predictTrain, test$Churn)\n",
    "\n",
    "# Area Under the ROC Curve (AUC)\n",
    "AUC = as.numeric(performance(ROCRpred, \"auc\")@y.values)\n",
    "\n",
    "paste(\"AUC Logistic Regression all variables:\", round(AUC,digits=4))"
   ]
  },
  {
   "cell_type": "markdown",
   "metadata": {},
   "source": [
    "### CART\n",
    "Set the random seed to 2.\n",
    "\n",
    "Then use the caret package and the train function to perform 10-fold cross validation with the training data set to select the best cp value for a CART model that predicts the dependent variable Churn using all of the possible independent variables. Select the cp value from a grid consisting of the 50 values 0.001, 0.002, …, 0.05.\n",
    "\n",
    "Remember to convert the Churn column to a factor variable. If you have called your training set trainset, use the following code:\n",
    "\n",
    "    trainset\\\\$Churn = as.factor(trainset$Churn) \n",
    "\n",
    "Important Note: The train() function in caret does not handle factor variables well when they are used in a formula via the method that was shown in the recitation (e.g. Churn ~ . ). Because there are many factor variables in this dataset, please use the following workaround (assuming you have called your training set trainset) to cross-validate properly:\n",
    "\n",
    "    cv = train(y = trainset$Churn, x = subset(trainset, select=-c(Churn)), method = “rpart”, trControl = …, tuneGrid = …)\n",
    "\n",
    "where the trControl and tuneGrid arguments can be handled as you have done throughout the course (recall that we are performing 10-fold cross-validation on cp values 0.001, 0.002, …, 0.05)."
   ]
  },
  {
   "cell_type": "code",
   "execution_count": 22,
   "metadata": {},
   "outputs": [],
   "source": [
    "# Set random seed\n",
    "set.seed(2)\n",
    "\n",
    "# Convert to a factor variable\n",
    "train$Churn = as.factor(train$Churn)"
   ]
  },
  {
   "cell_type": "code",
   "execution_count": 23,
   "metadata": {},
   "outputs": [
    {
     "name": "stderr",
     "output_type": "stream",
     "text": [
      "Loading required package: lattice\n",
      "\n",
      "Loading required package: ggplot2\n",
      "\n"
     ]
    }
   ],
   "source": [
    "# Cross-Validation\n",
    "\n",
    "library(caret)\n",
    "library(e1071)\n",
    "\n",
    "library(rpart)\n",
    "library(rpart.plot)"
   ]
  },
  {
   "cell_type": "code",
   "execution_count": 24,
   "metadata": {},
   "outputs": [],
   "source": [
    "# Define cross-validation experiment\n",
    "numFolds = trainControl( method = \"cv\", number = 10 )\n",
    "\n",
    "cpGrid = expand.grid( .cp = seq(0.001,0.05,0.001)) \n",
    "\n",
    "# Perform the cross validation\n",
    "cv = train(y = train$Churn, x = subset(train, select=-c(Churn)), method = \"rpart\", trControl = numFolds, tuneGrid = cpGrid)\n",
    "\n",
    "# Create a new CART model\n",
    "ChurnTreeCV = rpart(Churn ~ ., data = train, method=\"class\", cp = 0.005)"
   ]
  },
  {
   "cell_type": "markdown",
   "metadata": {},
   "source": [
    "**Which of the following variables appear in the tree?**"
   ]
  },
  {
   "cell_type": "code",
   "execution_count": 25,
   "metadata": {},
   "outputs": [
    {
     "data": {
      "image/png": "[encoded data removed]",
      "text/plain": [
       "plot without title"
      ]
     },
     "metadata": {
      "image/png": {
       "height": 420,
       "width": 420
      },
      "text/plain": {
       "height": 420,
       "width": 420
      }
     },
     "output_type": "display_data"
    }
   ],
   "source": [
    "# CART Tree\n",
    "prp(ChurnTreeCV)"
   ]
  },
  {
   "cell_type": "markdown",
   "metadata": {},
   "source": [
    "Answer: Contract, Internet, tenure, PaymentM, MonthlyC, and Paperles."
   ]
  },
  {
   "cell_type": "markdown",
   "metadata": {},
   "source": [
    "**What is the (test) accuracy of your CART model?**"
   ]
  },
  {
   "cell_type": "code",
   "execution_count": 26,
   "metadata": {},
   "outputs": [
    {
     "data": {
      "text/plain": [
       "   PredictCV\n",
       "       0    1\n",
       "  0 1340  209\n",
       "  1  233  328"
      ]
     },
     "metadata": {},
     "output_type": "display_data"
    }
   ],
   "source": [
    "# Make predictions with CART model\n",
    "PredictCV = predict(ChurnTreeCV, newdata = test, type = \"class\")\n",
    "\n",
    "# Confusion Matrix\n",
    "cmCV = table(test$Churn, PredictCV)\n",
    "cmCV"
   ]
  },
  {
   "cell_type": "code",
   "execution_count": 27,
   "metadata": {},
   "outputs": [
    {
     "data": {
      "text/html": [
       "'Accuracy CART model: 0.7905'"
      ],
      "text/latex": [
       "'Accuracy CART model: 0.7905'"
      ],
      "text/markdown": [
       "'Accuracy CART model: 0.7905'"
      ],
      "text/plain": [
       "[1] \"Accuracy CART model: 0.7905\""
      ]
     },
     "metadata": {},
     "output_type": "display_data"
    }
   ],
   "source": [
    "# Compute CART model accuracy\n",
    "\n",
    "accurCV = sum(diag(cmCV))/sum(cmCV)\n",
    "paste(\"Accuracy CART model:\", round(accurCV,digits=4))"
   ]
  },
  {
   "cell_type": "markdown",
   "metadata": {},
   "source": [
    "**What is the (test) true positive rate of your CART model?**"
   ]
  },
  {
   "cell_type": "code",
   "execution_count": 28,
   "metadata": {},
   "outputs": [
    {
     "data": {
      "text/html": [
       "'True Positive Rate in the CART Model: 0.5847'"
      ],
      "text/latex": [
       "'True Positive Rate in the CART Model: 0.5847'"
      ],
      "text/markdown": [
       "'True Positive Rate in the CART Model: 0.5847'"
      ],
      "text/plain": [
       "[1] \"True Positive Rate in the CART Model: 0.5847\""
      ]
     },
     "metadata": {},
     "output_type": "display_data"
    }
   ],
   "source": [
    "# True Positive Rate = True Positive / All Real Posisitve\n",
    "\n",
    "TPRCA = cmCV[4]/(cmCV[4]+cmCV[2])\n",
    "paste(\"True Positive Rate in the CART Model:\", round(TPRCA,digits=4))"
   ]
  },
  {
   "cell_type": "markdown",
   "metadata": {},
   "source": [
    "**What is the (test) false positive rate of your CART model?**"
   ]
  },
  {
   "cell_type": "code",
   "execution_count": 29,
   "metadata": {},
   "outputs": [
    {
     "data": {
      "text/html": [
       "'False Positive Rate in the CART Model: 0.1349'"
      ],
      "text/latex": [
       "'False Positive Rate in the CART Model: 0.1349'"
      ],
      "text/markdown": [
       "'False Positive Rate in the CART Model: 0.1349'"
      ],
      "text/plain": [
       "[1] \"False Positive Rate in the CART Model: 0.1349\""
      ]
     },
     "metadata": {},
     "output_type": "display_data"
    }
   ],
   "source": [
    "# False Positive Rate = False Positive / All Real Negative\n",
    "\n",
    "FPRCA = cmCV[3]/(cmCV[3]+cmCV[1])\n",
    "paste(\"False Positive Rate in the CART Model:\", round(FPRCA,digits=4))"
   ]
  },
  {
   "cell_type": "markdown",
   "metadata": {},
   "source": [
    "**What does the CART model predict for customer with a one-year contract and a tenure of 12?**"
   ]
  },
  {
   "cell_type": "markdown",
   "metadata": {},
   "source": [
    "Answer: From the CART tree, the customer doesn’t churn (0)."
   ]
  }
 ],
 "metadata": {
  "kernelspec": {
   "display_name": "R",
   "language": "R",
   "name": "ir"
  },
  "language_info": {
   "codemirror_mode": "r",
   "file_extension": ".r",
   "mimetype": "text/x-r-source",
   "name": "R",
   "pygments_lexer": "r",
   "version": "3.6.3"
  }
 },
 "nbformat": 4,
 "nbformat_minor": 4
}
