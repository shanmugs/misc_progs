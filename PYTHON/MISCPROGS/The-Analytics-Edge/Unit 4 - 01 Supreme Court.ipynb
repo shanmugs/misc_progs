{
 "cells": [
  {
   "cell_type": "markdown",
   "metadata": {},
   "source": [
    "# Judge, Jury, and Classifier: An Introduction to Trees"
   ]
  },
  {
   "cell_type": "markdown",
   "metadata": {},
   "source": [
    "<img src=\"images/CourtBuilding.jpg\"/>"
   ]
  },
  {
   "cell_type": "markdown",
   "metadata": {},
   "source": [
    "Last week, in the Moneyball lecture, we discussed how regular season performance is not strongly correlated with winning the World Series in baseball. In this homework question, we'll use the same data to investigate how well we can predict the World Series winner at the beginning of the playoffs.\n",
    "\n",
    "To begin, load the dataset baseball.csv into R using the read.csv function, and call the data frame \"baseball\". This is the same data file we used during the Moneyball lecture, and the data comes from Baseball-Reference.com.\n",
    "\n",
    "As a reminder, this dataset contains data concerning a baseball team's performance in a given year. It has the following variables:\n",
    "\n",
    "    Team: A code for the name of the team\n",
    "    \n",
    "    League: The Major League Baseball league the team belongs to, either AL (American League) or NL (National League)\n",
    "    \n",
    "    Year: The year of the corresponding record\n",
    "    \n",
    "    RS: The number of runs scored by the team in that year\n",
    "    \n",
    "    RA: The number of runs allowed by the team in that year\n",
    "    \n",
    "    W: The number of regular season wins by the team in that year\n",
    "    \n",
    "    OBP: The on-base percentage of the team in that year\n",
    "    \n",
    "    SLG: The slugging percentage of the team in that year\n",
    "    \n",
    "    BA: The batting average of the team in that year\n",
    "    \n",
    "    Playoffs: Whether the team made the playoffs in that year (1 for yes, 0 for no)\n",
    "    \n",
    "    RankSeason: Among the playoff teams in that year, the ranking of their regular season records (1 is best)\n",
    "    \n",
    "    RankPlayoffs: Among the playoff teams in that year, how well they fared in the playoffs. The team winning the World Series gets a RankPlayoffs of 1.\n",
    "    \n",
    "    G: The number of games a team played in that year\n",
    "    \n",
    "    OOBP: The team's opponents' on-base percentage in that year\n",
    "    \n",
    "    OSLG: The team's opponents' slugging percentage in that year"
   ]
  },
  {
   "cell_type": "markdown",
   "metadata": {},
   "source": [
    "### Data\n",
    "\n",
    "Cases from 1994 through 2001\n",
    "\n",
    "In this period, same nine justices presided SCOTUS\n",
    "\n",
    "    Breyer, Ginsburg, Kennedy, O’Connor, Rehnquist (Chief Justice), Scalia, Souter, Stevens, Thomas\n",
    "    Rare data set - longest period of time with the same set of justices in over 180 years\n",
    "\n",
    "We will focus on predicting Justice Stevens’ decisions\n",
    "\n",
    "    Started out moderate, but became more liberal\n",
    "    Self-proclaimed conservative\n",
    "\n",
    "### Variables\n",
    "\n",
    "    * Dependent Variable: Did Justice Stevens vote to reverse the lower court decision? 1 = reverse, 0 = affirm\n",
    "\n",
    "    * Indepedent Variable: Properties of the case\n",
    "                           Circuit court of origin\n",
    "                           Issue area of case\n",
    "                           Type of petitioner, type of respondent\n",
    "                           Ideological direction of lower court decision\n",
    "                           Whether petitioner argued that a law/practice was unconstitutional\n",
    "\n",
    "### Logistic Regression for Justice Stevens\n",
    "\n",
    "Some significant variables and their coefficients\n",
    "\n",
    "    Case is from 2nd circuit court: +1.66\n",
    "    Case is from 4th circuit court: +2.82\n",
    "    Lower court decision is liberal: -1.22\n",
    "\n",
    "This is complicated\n",
    "\n",
    "    Difficult to understand which factors are important\n",
    "    Difficult to quickly evaluate what prediction is for a new case\n",
    "\n",
    "### Classification and Regression Trees\n",
    "\n",
    "    Build a tree by splitting on variables\n",
    "    To predict the outcome for an observation, follow the splits and at the end, predict the most frequent outcome\n",
    "    Does not assume a linear model\n",
    "    Interpret able"
   ]
  },
  {
   "cell_type": "markdown",
   "metadata": {},
   "source": [
    "### Load and Exploration the Data"
   ]
  },
  {
   "cell_type": "code",
   "execution_count": 1,
   "metadata": {},
   "outputs": [
    {
     "data": {
      "text/html": [
       "<table>\n",
       "<caption>A data.frame: 6 × 9</caption>\n",
       "<thead>\n",
       "\t<tr><th></th><th scope=col>Docket</th><th scope=col>Term</th><th scope=col>Circuit</th><th scope=col>Issue</th><th scope=col>Petitioner</th><th scope=col>Respondent</th><th scope=col>LowerCourt</th><th scope=col>Unconst</th><th scope=col>Reverse</th></tr>\n",
       "\t<tr><th></th><th scope=col>&lt;fct&gt;</th><th scope=col>&lt;int&gt;</th><th scope=col>&lt;fct&gt;</th><th scope=col>&lt;fct&gt;</th><th scope=col>&lt;fct&gt;</th><th scope=col>&lt;fct&gt;</th><th scope=col>&lt;fct&gt;</th><th scope=col>&lt;int&gt;</th><th scope=col>&lt;int&gt;</th></tr>\n",
       "</thead>\n",
       "<tbody>\n",
       "\t<tr><th scope=row>1</th><td>93-1408</td><td>1994</td><td>2nd</td><td>EconomicActivity</td><td>BUSINESS</td><td>BUSINESS</td><td>liberal</td><td>0</td><td>1</td></tr>\n",
       "\t<tr><th scope=row>2</th><td>93-1577</td><td>1994</td><td>9th</td><td>EconomicActivity</td><td>BUSINESS</td><td>BUSINESS</td><td>liberal</td><td>0</td><td>1</td></tr>\n",
       "\t<tr><th scope=row>3</th><td>93-1612</td><td>1994</td><td>5th</td><td>EconomicActivity</td><td>BUSINESS</td><td>BUSINESS</td><td>liberal</td><td>0</td><td>1</td></tr>\n",
       "\t<tr><th scope=row>4</th><td>94-623 </td><td>1994</td><td>1st</td><td>EconomicActivity</td><td>BUSINESS</td><td>BUSINESS</td><td>conser </td><td>0</td><td>1</td></tr>\n",
       "\t<tr><th scope=row>5</th><td>94-1175</td><td>1995</td><td>7th</td><td>JudicialPower   </td><td>BUSINESS</td><td>BUSINESS</td><td>conser </td><td>0</td><td>1</td></tr>\n",
       "\t<tr><th scope=row>6</th><td>95-129 </td><td>1995</td><td>9th</td><td>EconomicActivity</td><td>BUSINESS</td><td>BUSINESS</td><td>conser </td><td>1</td><td>0</td></tr>\n",
       "</tbody>\n",
       "</table>\n"
      ],
      "text/latex": [
       "A data.frame: 6 × 9\n",
       "\\begin{tabular}{r|lllllllll}\n",
       "  & Docket & Term & Circuit & Issue & Petitioner & Respondent & LowerCourt & Unconst & Reverse\\\\\n",
       "  & <fct> & <int> & <fct> & <fct> & <fct> & <fct> & <fct> & <int> & <int>\\\\\n",
       "\\hline\n",
       "\t1 & 93-1408 & 1994 & 2nd & EconomicActivity & BUSINESS & BUSINESS & liberal & 0 & 1\\\\\n",
       "\t2 & 93-1577 & 1994 & 9th & EconomicActivity & BUSINESS & BUSINESS & liberal & 0 & 1\\\\\n",
       "\t3 & 93-1612 & 1994 & 5th & EconomicActivity & BUSINESS & BUSINESS & liberal & 0 & 1\\\\\n",
       "\t4 & 94-623  & 1994 & 1st & EconomicActivity & BUSINESS & BUSINESS & conser  & 0 & 1\\\\\n",
       "\t5 & 94-1175 & 1995 & 7th & JudicialPower    & BUSINESS & BUSINESS & conser  & 0 & 1\\\\\n",
       "\t6 & 95-129  & 1995 & 9th & EconomicActivity & BUSINESS & BUSINESS & conser  & 1 & 0\\\\\n",
       "\\end{tabular}\n"
      ],
      "text/markdown": [
       "\n",
       "A data.frame: 6 × 9\n",
       "\n",
       "| <!--/--> | Docket &lt;fct&gt; | Term &lt;int&gt; | Circuit &lt;fct&gt; | Issue &lt;fct&gt; | Petitioner &lt;fct&gt; | Respondent &lt;fct&gt; | LowerCourt &lt;fct&gt; | Unconst &lt;int&gt; | Reverse &lt;int&gt; |\n",
       "|---|---|---|---|---|---|---|---|---|---|\n",
       "| 1 | 93-1408 | 1994 | 2nd | EconomicActivity | BUSINESS | BUSINESS | liberal | 0 | 1 |\n",
       "| 2 | 93-1577 | 1994 | 9th | EconomicActivity | BUSINESS | BUSINESS | liberal | 0 | 1 |\n",
       "| 3 | 93-1612 | 1994 | 5th | EconomicActivity | BUSINESS | BUSINESS | liberal | 0 | 1 |\n",
       "| 4 | 94-623  | 1994 | 1st | EconomicActivity | BUSINESS | BUSINESS | conser  | 0 | 1 |\n",
       "| 5 | 94-1175 | 1995 | 7th | JudicialPower    | BUSINESS | BUSINESS | conser  | 0 | 1 |\n",
       "| 6 | 95-129  | 1995 | 9th | EconomicActivity | BUSINESS | BUSINESS | conser  | 1 | 0 |\n",
       "\n"
      ],
      "text/plain": [
       "  Docket  Term Circuit Issue            Petitioner Respondent LowerCourt\n",
       "1 93-1408 1994 2nd     EconomicActivity BUSINESS   BUSINESS   liberal   \n",
       "2 93-1577 1994 9th     EconomicActivity BUSINESS   BUSINESS   liberal   \n",
       "3 93-1612 1994 5th     EconomicActivity BUSINESS   BUSINESS   liberal   \n",
       "4 94-623  1994 1st     EconomicActivity BUSINESS   BUSINESS   conser    \n",
       "5 94-1175 1995 7th     JudicialPower    BUSINESS   BUSINESS   conser    \n",
       "6 95-129  1995 9th     EconomicActivity BUSINESS   BUSINESS   conser    \n",
       "  Unconst Reverse\n",
       "1 0       1      \n",
       "2 0       1      \n",
       "3 0       1      \n",
       "4 0       1      \n",
       "5 0       1      \n",
       "6 1       0      "
      ]
     },
     "metadata": {},
     "output_type": "display_data"
    }
   ],
   "source": [
    "stevens = read.csv(\"data/stevens.csv\")\n",
    "head(stevens)"
   ]
  },
  {
   "cell_type": "code",
   "execution_count": 2,
   "metadata": {},
   "outputs": [
    {
     "name": "stdout",
     "output_type": "stream",
     "text": [
      "'data.frame':\t566 obs. of  9 variables:\n",
      " $ Docket    : Factor w/ 566 levels \"00-1011\",\"00-1045\",..: 63 69 70 145 97 181 242 289 334 436 ...\n",
      " $ Term      : int  1994 1994 1994 1994 1995 1995 1996 1997 1997 1999 ...\n",
      " $ Circuit   : Factor w/ 13 levels \"10th\",\"11th\",..: 4 11 7 3 9 11 13 11 12 2 ...\n",
      " $ Issue     : Factor w/ 11 levels \"Attorneys\",\"CivilRights\",..: 5 5 5 5 9 5 5 5 5 3 ...\n",
      " $ Petitioner: Factor w/ 12 levels \"AMERICAN.INDIAN\",..: 2 2 2 2 2 2 2 2 2 2 ...\n",
      " $ Respondent: Factor w/ 12 levels \"AMERICAN.INDIAN\",..: 2 2 2 2 2 2 2 2 2 2 ...\n",
      " $ LowerCourt: Factor w/ 2 levels \"conser\",\"liberal\": 2 2 2 1 1 1 1 1 1 1 ...\n",
      " $ Unconst   : int  0 0 0 0 0 1 0 1 0 0 ...\n",
      " $ Reverse   : int  1 1 1 1 1 0 1 1 1 1 ...\n"
     ]
    }
   ],
   "source": [
    "str(stevens)"
   ]
  },
  {
   "cell_type": "code",
   "execution_count": 3,
   "metadata": {},
   "outputs": [
    {
     "data": {
      "text/plain": [
       "     Docket         Term         Circuit                  Issue    \n",
       " 00-1011:  1   Min.   :1994   9th    :122   CriminalProcedure:132  \n",
       " 00-1045:  1   1st Qu.:1995   5th    : 53   JudicialPower    :102  \n",
       " 00-1072:  1   Median :1997   11th   : 49   EconomicActivity : 98  \n",
       " 00-1073:  1   Mean   :1997   7th    : 47   CivilRights      : 74  \n",
       " 00-1089:  1   3rd Qu.:1999   4th    : 46   DueProcess       : 43  \n",
       " 00-121 :  1   Max.   :2001   8th    : 44   FirstAmendment   : 39  \n",
       " (Other):560                  (Other):205   (Other)          : 78  \n",
       "               Petitioner               Respondent    LowerCourt \n",
       " OTHER              :175   OTHER             :177   conser :293  \n",
       " CRIMINAL.DEFENDENT : 89   BUSINESS          : 80   liberal:273  \n",
       " BUSINESS           : 79   US                : 69                \n",
       " STATE              : 48   CRIMINAL.DEFENDENT: 58                \n",
       " US                 : 48   STATE             : 56                \n",
       " GOVERNMENT.OFFICIAL: 38   EMPLOYEE          : 28                \n",
       " (Other)            : 89   (Other)           : 98                \n",
       "    Unconst          Reverse      \n",
       " Min.   :0.0000   Min.   :0.0000  \n",
       " 1st Qu.:0.0000   1st Qu.:0.0000  \n",
       " Median :0.0000   Median :1.0000  \n",
       " Mean   :0.2473   Mean   :0.5459  \n",
       " 3rd Qu.:0.0000   3rd Qu.:1.0000  \n",
       " Max.   :1.0000   Max.   :1.0000  \n",
       "                                  "
      ]
     },
     "metadata": {},
     "output_type": "display_data"
    }
   ],
   "source": [
    "summary(stevens)"
   ]
  },
  {
   "cell_type": "markdown",
   "metadata": {},
   "source": [
    "## Split the data"
   ]
  },
  {
   "cell_type": "markdown",
   "metadata": {},
   "source": [
    "Now before building models, we need to split our data into a training set and a testing set. We'll do this using the sample.split function, like we did last week for logistic regression."
   ]
  },
  {
   "cell_type": "code",
   "execution_count": 4,
   "metadata": {},
   "outputs": [],
   "source": [
    "#install.packages(\"caTools\")\n",
    "library(caTools)"
   ]
  },
  {
   "cell_type": "code",
   "execution_count": 5,
   "metadata": {},
   "outputs": [],
   "source": [
    "set.seed(3000) # For all students have the same results\n",
    "\n",
    "spl = sample.split(stevens$Reverse, SplitRatio = 0.7) "
   ]
  },
  {
   "cell_type": "markdown",
   "metadata": {},
   "source": [
    "Where the first argument needs to be our outcome variable, stevens$Reverse, and then the second argument is the SplitRatio, or the percentage of data that we want to put in the training set. In this case, we'll put 70\\% of the data in the training set."
   ]
  },
  {
   "cell_type": "code",
   "execution_count": 6,
   "metadata": {},
   "outputs": [],
   "source": [
    "Train = subset(stevens, spl==TRUE)  #70%\n",
    "Test = subset(stevens, spl==FALSE)  #30%"
   ]
  },
  {
   "cell_type": "markdown",
   "metadata": {},
   "source": [
    "### Install rpart library"
   ]
  },
  {
   "cell_type": "code",
   "execution_count": 7,
   "metadata": {},
   "outputs": [],
   "source": [
    "#install.packages(\"rpart\")\n",
    "library(rpart)\n",
    "\n",
    "#install.packages(\"rpart.plot\")\n",
    "library(rpart.plot)"
   ]
  },
  {
   "cell_type": "markdown",
   "metadata": {},
   "source": [
    "### CART model"
   ]
  },
  {
   "cell_type": "markdown",
   "metadata": {},
   "source": [
    "We'll call our model StevensTree, and we'll use the *rpart* function, where the first argument is the same as if we were building a linear or logistic regression model.\n",
    "\n",
    "We give our dependent variable, in our case, *Reverse*, followed by a tilde sign, and then the independent variables separated by plus signs. So Circuit + Issue + Petitioner + Respondent + LowerCourt + Unconst. We also need to give our data set that should be used to build our model, which in our case is *Train*.\n",
    "\n",
    "Now we'll give two additional arguments here. The first one is method = \"class\". This tells rpart to build a classification tree, instead of a regression tree. You'll see how we can create regression trees in recitation. \n",
    "\n",
    "The last argument we'll give is *minbucket* = 25. This limits the tree so that it doesn't overfit to our training set."
   ]
  },
  {
   "cell_type": "code",
   "execution_count": 8,
   "metadata": {},
   "outputs": [],
   "source": [
    "StevensTree = rpart(Reverse ~ Circuit + Issue + Petitioner + Respondent + LowerCourt + Unconst, data = Train, \n",
    "                    method=\"class\", minbucket=25)"
   ]
  },
  {
   "cell_type": "code",
   "execution_count": 9,
   "metadata": {},
   "outputs": [
    {
     "data": {
      "image/png": "[encoded data removed]",
      "text/plain": [
       "plot without title"
      ]
     },
     "metadata": {
      "image/png": {
       "height": 420,
       "width": 420
      },
      "text/plain": {
       "height": 420,
       "width": 420
      }
     },
     "output_type": "display_data"
    }
   ],
   "source": [
    "prp(StevensTree) # Plot the Tree"
   ]
  },
  {
   "cell_type": "markdown",
   "metadata": {},
   "source": [
    "### Make predictions"
   ]
  },
  {
   "cell_type": "code",
   "execution_count": 10,
   "metadata": {},
   "outputs": [],
   "source": [
    "PredictCART = predict(StevensTree, newdata = Test, type = \"class\")"
   ]
  },
  {
   "cell_type": "markdown",
   "metadata": {},
   "source": [
    "We need to give the argument \"class\" when making predictions for our CART model if we want the majority class predictions. This is like using a threshold of 0.5."
   ]
  },
  {
   "cell_type": "code",
   "execution_count": 11,
   "metadata": {},
   "outputs": [
    {
     "data": {
      "text/plain": [
       "   PredictCART\n",
       "     0  1\n",
       "  0 41 36\n",
       "  1 22 71"
      ]
     },
     "metadata": {},
     "output_type": "display_data"
    }
   ],
   "source": [
    "# Confusion Matrix\n",
    "z = table(Test$Reverse, PredictCART)\n",
    "z"
   ]
  },
  {
   "cell_type": "markdown",
   "metadata": {},
   "source": [
    "The rows are labeled with the actual outcome, and the columns are labeled with the predicted outcome.\n",
    "\n",
    "                  Predict 0       Predict 1\n",
    "    Actual 0    True Negative   False Positive\n",
    "    Actual 1    False Negative  True Positive\n",
    "\n",
    "    z = [1][3]\n",
    "        [2][4]"
   ]
  },
  {
   "cell_type": "code",
   "execution_count": 12,
   "metadata": {},
   "outputs": [
    {
     "data": {
      "text/html": [
       "<span style=white-space:pre-wrap>'Accuracy CART:  0.6588'</span>"
      ],
      "text/latex": [
       "'Accuracy CART:  0.6588'"
      ],
      "text/markdown": [
       "<span style=white-space:pre-wrap>'Accuracy CART:  0.6588'</span>"
      ],
      "text/plain": [
       "[1] \"Accuracy CART:  0.6588\""
      ]
     },
     "metadata": {},
     "output_type": "display_data"
    }
   ],
   "source": [
    "# Calculate accuracy                        # (TN+TP)/(TN+FN+TP+FP)\n",
    "accur <- (z[1]+z[4])/(z[1]+z[2]+z[3]+z[4])  # Another way: sum(diag(z))/sum(z)\n",
    "paste(\"Accuracy CART: \", round(accur,digits=4))"
   ]
  },
  {
   "cell_type": "markdown",
   "metadata": {},
   "source": [
    "So the accuracy of our CART model is 0.659. If you were to build a logistic regression model, you would get an accuracy of 0.665 and a baseline model that always predicts Reverse, the most common outcome, has an accuracy of 0.547. So our CART model significantly beats the baseline and is competitive with logistic regression.\n",
    "\n",
    "It's also much more interpretable than a logistic regression model would be."
   ]
  },
  {
   "cell_type": "markdown",
   "metadata": {},
   "source": [
    "###  Receiver Operator Characteristic (ROC) curve"
   ]
  },
  {
   "cell_type": "code",
   "execution_count": 13,
   "metadata": {},
   "outputs": [],
   "source": [
    "#install.packages(\"ROCR\")\n",
    "library(ROCR)"
   ]
  },
  {
   "cell_type": "code",
   "execution_count": 14,
   "metadata": {},
   "outputs": [
    {
     "data": {
      "text/html": [
       "<table>\n",
       "<caption>A matrix: 6 × 2 of type dbl</caption>\n",
       "<thead>\n",
       "\t<tr><th></th><th scope=col>0</th><th scope=col>1</th></tr>\n",
       "</thead>\n",
       "<tbody>\n",
       "\t<tr><th scope=row>1</th><td>0.3035714</td><td>0.6964286</td></tr>\n",
       "\t<tr><th scope=row>3</th><td>0.3035714</td><td>0.6964286</td></tr>\n",
       "\t<tr><th scope=row>4</th><td>0.4000000</td><td>0.6000000</td></tr>\n",
       "\t<tr><th scope=row>6</th><td>0.4000000</td><td>0.6000000</td></tr>\n",
       "\t<tr><th scope=row>8</th><td>0.4000000</td><td>0.6000000</td></tr>\n",
       "\t<tr><th scope=row>21</th><td>0.3035714</td><td>0.6964286</td></tr>\n",
       "</tbody>\n",
       "</table>\n"
      ],
      "text/latex": [
       "A matrix: 6 × 2 of type dbl\n",
       "\\begin{tabular}{r|ll}\n",
       "  & 0 & 1\\\\\n",
       "\\hline\n",
       "\t1 & 0.3035714 & 0.6964286\\\\\n",
       "\t3 & 0.3035714 & 0.6964286\\\\\n",
       "\t4 & 0.4000000 & 0.6000000\\\\\n",
       "\t6 & 0.4000000 & 0.6000000\\\\\n",
       "\t8 & 0.4000000 & 0.6000000\\\\\n",
       "\t21 & 0.3035714 & 0.6964286\\\\\n",
       "\\end{tabular}\n"
      ],
      "text/markdown": [
       "\n",
       "A matrix: 6 × 2 of type dbl\n",
       "\n",
       "| <!--/--> | 0 | 1 |\n",
       "|---|---|---|\n",
       "| 1 | 0.3035714 | 0.6964286 |\n",
       "| 3 | 0.3035714 | 0.6964286 |\n",
       "| 4 | 0.4000000 | 0.6000000 |\n",
       "| 6 | 0.4000000 | 0.6000000 |\n",
       "| 8 | 0.4000000 | 0.6000000 |\n",
       "| 21 | 0.3035714 | 0.6964286 |\n",
       "\n"
      ],
      "text/plain": [
       "   0         1        \n",
       "1  0.3035714 0.6964286\n",
       "3  0.3035714 0.6964286\n",
       "4  0.4000000 0.6000000\n",
       "6  0.4000000 0.6000000\n",
       "8  0.4000000 0.6000000\n",
       "21 0.3035714 0.6964286"
      ]
     },
     "metadata": {},
     "output_type": "display_data"
    },
    {
     "data": {
      "text/html": [
       "170"
      ],
      "text/latex": [
       "170"
      ],
      "text/markdown": [
       "170"
      ],
      "text/plain": [
       "[1] 170"
      ]
     },
     "metadata": {},
     "output_type": "display_data"
    }
   ],
   "source": [
    "PredictROC = predict(StevensTree, newdata = Test)\n",
    "head(PredictROC)\n",
    "nrow(PredictROC)"
   ]
  },
  {
   "cell_type": "markdown",
   "metadata": {},
   "source": [
    "For each observation in the test set, it gives two numbers which can be thought of as the probability of outcome 0 and the probability of outcome 1.\n",
    "\n",
    "More concretely, each test set observation is classified into a subset, or bucket, of our CART tree. These numbers give the percentage of training set data in that subset with outcome 0 and the percentage of data in the training set in that subset with outcome 1."
   ]
  },
  {
   "cell_type": "markdown",
   "metadata": {},
   "source": [
    "**We'll use the second column as our probabilities to generate an ROC curve.** So just like we did last week for logistic regression, we'll start by using the prediction function. We'll call the output pred, and then use prediction, where the first argument is the second column of PredictROC, which we can access with square brackets, and the second argument is the true outcome values, Test\\\\$Reverse."
   ]
  },
  {
   "cell_type": "code",
   "execution_count": 15,
   "metadata": {},
   "outputs": [],
   "source": [
    "pred = prediction(PredictROC[,2], Test$Reverse)"
   ]
  },
  {
   "cell_type": "markdown",
   "metadata": {},
   "source": [
    "Now we need to use the performance function, where the first argument is the outcome of the prediction function, and then the next two arguments are true positive rate and false positive rate, what we want on the x and y-axes of our ROC curve."
   ]
  },
  {
   "cell_type": "code",
   "execution_count": 16,
   "metadata": {},
   "outputs": [],
   "source": [
    "perf = performance(pred, \"tpr\", \"fpr\")"
   ]
  },
  {
   "cell_type": "code",
   "execution_count": 17,
   "metadata": {},
   "outputs": [
    {
     "data": {
      "image/png": "[encoded data removed]",
      "text/plain": [
       "plot without title"
      ]
     },
     "metadata": {
      "image/png": {
       "height": 420,
       "width": 420
      },
      "text/plain": {
       "height": 420,
       "width": 420
      }
     },
     "output_type": "display_data"
    }
   ],
   "source": [
    "plot(perf)"
   ]
  },
  {
   "cell_type": "markdown",
   "metadata": {},
   "source": [
    "Another method that is similar to CART is called **Random Forests**. This method was designed to improve the prediction accuracy of CART and works by building a large number of CART trees. Unfortunately, this makes the method less interpretable than CART, so often you need to decide if you value the interpretability or the increase in accuracy more.\n",
    "\n",
    "To make a prediction for a new observation, each tree in the forest votes on the outcome and we pick the outcome that receives\n",
    "the majority of the votes."
   ]
  },
  {
   "cell_type": "markdown",
   "metadata": {},
   "source": [
    "### Install RandomForest package"
   ]
  },
  {
   "cell_type": "code",
   "execution_count": 18,
   "metadata": {},
   "outputs": [
    {
     "name": "stderr",
     "output_type": "stream",
     "text": [
      "randomForest 4.6-14\n",
      "\n",
      "Type rfNews() to see new features/changes/bug fixes.\n",
      "\n"
     ]
    }
   ],
   "source": [
    "#install.packages(\"randomForest\")\n",
    "library(randomForest)"
   ]
  },
  {
   "cell_type": "markdown",
   "metadata": {},
   "source": [
    "So how does random forests build many CART trees? We can't just run CART multiple times because it would create the same tree every time. To prevent this, random forests only allows each tree to split on a random subset of the available independent variables, and each tree is built from what we call a bagged or bootstrapped sample of the data. This just means that the data used as the training data for each tree is selected randomly with replacement."
   ]
  },
  {
   "cell_type": "code",
   "execution_count": 19,
   "metadata": {},
   "outputs": [
    {
     "name": "stderr",
     "output_type": "stream",
     "text": [
      "Warning message in randomForest.default(m, y, ...):\n",
      "\"The response has five or fewer unique values.  Are you sure you want to do regression?\"\n"
     ]
    }
   ],
   "source": [
    "# Build random forest model\n",
    "StevensForest = randomForest(Reverse ~ Circuit + Issue + Petitioner + Respondent + LowerCourt + Unconst, \n",
    "                             data = Train, ntree=200, nodesize=25 )"
   ]
  },
  {
   "cell_type": "markdown",
   "metadata": {},
   "source": [
    "Just like CART, random forests has some parameter values that need to be selected. The first is the minimum number of observations in a subset, or the minbucket parameter from CART. When we create a random forest in R, this will be called nodesize. A smaller value of nodesize, which leads to bigger trees, may take longer in R. Random forests is much more computationally intensive than CART.\n",
    "\n",
    "The second parameter is the number of trees to build, which is called ntree in R. This should not be set too small, but the larger it is the longer it will take. A couple hundred trees is typically plenty. A nice thing about random forests is that it's not as sensitive to the parameter values as CART is."
   ]
  },
  {
   "cell_type": "markdown",
   "metadata": {},
   "source": [
    "**The RandomForest function does not have a method argument.** So when we want to do a classification problem, we need to make sure outcome is a factor. Let's convert the variable Reverse to a factor variable in both our training and our testing sets."
   ]
  },
  {
   "cell_type": "code",
   "execution_count": 20,
   "metadata": {},
   "outputs": [],
   "source": [
    "# Convert outcome to factor\n",
    "Train$Reverse = as.factor(Train$Reverse)\n",
    "Test$Reverse = as.factor(Test$Reverse)"
   ]
  },
  {
   "cell_type": "code",
   "execution_count": 21,
   "metadata": {},
   "outputs": [
    {
     "name": "stdout",
     "output_type": "stream",
     "text": [
      "'data.frame':\t396 obs. of  9 variables:\n",
      " $ Docket    : Factor w/ 566 levels \"00-1011\",\"00-1045\",..: 69 97 242 334 436 505 508 527 155 426 ...\n",
      " $ Term      : int  1994 1995 1996 1997 1999 1999 2000 2000 1994 1999 ...\n",
      " $ Circuit   : Factor w/ 13 levels \"10th\",\"11th\",..: 11 9 13 12 2 4 8 11 9 5 ...\n",
      " $ Issue     : Factor w/ 11 levels \"Attorneys\",\"CivilRights\",..: 5 9 5 5 3 5 5 4 5 6 ...\n",
      " $ Petitioner: Factor w/ 12 levels \"AMERICAN.INDIAN\",..: 2 2 2 2 2 2 2 2 3 3 ...\n",
      " $ Respondent: Factor w/ 12 levels \"AMERICAN.INDIAN\",..: 2 2 2 2 2 2 2 2 2 2 ...\n",
      " $ LowerCourt: Factor w/ 2 levels \"conser\",\"liberal\": 2 1 1 1 1 1 1 2 2 2 ...\n",
      " $ Unconst   : int  0 0 0 0 0 0 1 1 0 0 ...\n",
      " $ Reverse   : Factor w/ 2 levels \"0\",\"1\": 2 2 2 2 2 2 2 2 1 1 ...\n"
     ]
    }
   ],
   "source": [
    "str(Train)"
   ]
  },
  {
   "cell_type": "code",
   "execution_count": 22,
   "metadata": {},
   "outputs": [
    {
     "name": "stdout",
     "output_type": "stream",
     "text": [
      "'data.frame':\t170 obs. of  9 variables:\n",
      " $ Docket    : Factor w/ 566 levels \"00-1011\",\"00-1045\",..: 63 70 145 181 289 366 71 110 169 190 ...\n",
      " $ Term      : int  1994 1994 1994 1995 1997 1998 1994 1995 1996 1996 ...\n",
      " $ Circuit   : Factor w/ 13 levels \"10th\",\"11th\",..: 4 7 3 11 11 7 1 1 4 12 ...\n",
      " $ Issue     : Factor w/ 11 levels \"Attorneys\",\"CivilRights\",..: 5 5 5 5 5 9 8 5 8 9 ...\n",
      " $ Petitioner: Factor w/ 12 levels \"AMERICAN.INDIAN\",..: 2 2 2 2 2 8 9 9 9 9 ...\n",
      " $ Respondent: Factor w/ 12 levels \"AMERICAN.INDIAN\",..: 2 2 2 2 2 2 2 2 2 2 ...\n",
      " $ LowerCourt: Factor w/ 2 levels \"conser\",\"liberal\": 2 2 1 1 1 2 2 2 2 2 ...\n",
      " $ Unconst   : int  0 0 0 1 1 1 0 0 1 0 ...\n",
      " $ Reverse   : Factor w/ 2 levels \"0\",\"1\": 2 2 2 1 2 1 1 1 1 2 ...\n"
     ]
    }
   ],
   "source": [
    "str(Test)"
   ]
  },
  {
   "cell_type": "code",
   "execution_count": 23,
   "metadata": {},
   "outputs": [],
   "source": [
    "# Try again\n",
    "StevensForest = randomForest(Reverse ~ Circuit + Issue + Petitioner + Respondent + LowerCourt + Unconst, \n",
    "                             data = Train, ntree=200, nodesize=25 )"
   ]
  },
  {
   "cell_type": "markdown",
   "metadata": {},
   "source": [
    "###  Make predictions"
   ]
  },
  {
   "cell_type": "code",
   "execution_count": 24,
   "metadata": {},
   "outputs": [
    {
     "data": {
      "text/plain": [
       "   PredictForest\n",
       "     0  1\n",
       "  0 43 34\n",
       "  1 17 76"
      ]
     },
     "metadata": {},
     "output_type": "display_data"
    }
   ],
   "source": [
    "PredictForest = predict(StevensForest, newdata = Test)\n",
    "zf = table(Test$Reverse, PredictForest)\n",
    "zf"
   ]
  },
  {
   "cell_type": "markdown",
   "metadata": {},
   "source": [
    "The rows are labeled with the actual outcome, and the columns are labeled with the predicted outcome.\n",
    "\n",
    "                  Predict 0       Predict 1\n",
    "    Actual 0    True Negative   False Positive\n",
    "    Actual 1    False Negative  True Positive\n",
    "\n",
    "    z = [1][3]\n",
    "        [2][4]"
   ]
  },
  {
   "cell_type": "code",
   "execution_count": 25,
   "metadata": {},
   "outputs": [
    {
     "data": {
      "text/html": [
       "<span style=white-space:pre-wrap>'Accuracy RandomForest:  0.7'</span>"
      ],
      "text/latex": [
       "'Accuracy RandomForest:  0.7'"
      ],
      "text/markdown": [
       "<span style=white-space:pre-wrap>'Accuracy RandomForest:  0.7'</span>"
      ],
      "text/plain": [
       "[1] \"Accuracy RandomForest:  0.7\""
      ]
     },
     "metadata": {},
     "output_type": "display_data"
    }
   ],
   "source": [
    "# Calculate accuracy                        # (TN+TP)/(TN+FN+TP+FP)\n",
    "accur <- (zf[1]+zf[4])/(zf[1]+zf[2]+zf[3]+zf[4])  # Another way: sum(diag(zf))/sum(zf)\n",
    "paste(\"Accuracy RandomForest: \", round(accur,digits=4))"
   ]
  },
  {
   "cell_type": "markdown",
   "metadata": {},
   "source": [
    "So the accuracy of our Random Forest model is about 69\\\\%. Recall that our logistic regression model had an accuracy of 66.5% and our CART model had an accuracy of 65.9%. So our random forest model improved our accuracy a little bit over CART.\n",
    "\n",
    "Keep in mind that Random Forests has a random component. You may have gotten a different confusion matrix than me because there's a random component to this method."
   ]
  },
  {
   "cell_type": "markdown",
   "metadata": {},
   "source": [
    "### Cross-Validation"
   ]
  },
  {
   "cell_type": "markdown",
   "metadata": {},
   "source": [
    "In CART, the value of minbucket can affect the model's out-of-sample accuracy. As we discussed earlier in the lecture, if minbucket is too small, over-fitting might occur. But if minbucket is too large, the model might be too simple. So how should we set this parameter value?\n",
    "\n",
    "We could select the value that gives the best testing set accuracy, but this isn't right. The idea of the testing set is to measure model performance on data the model has never seen before. By picking the value of minbucket to get the best test set performance, the testing set was implicitly used to generate the model. Instead, we'll use a method called K-fold Cross Validation, which is one way to properly select the parameter value."
   ]
  },
  {
   "cell_type": "code",
   "execution_count": 26,
   "metadata": {},
   "outputs": [
    {
     "name": "stderr",
     "output_type": "stream",
     "text": [
      "Loading required package: lattice\n",
      "\n",
      "Loading required package: ggplot2\n",
      "\n",
      "\n",
      "Attaching package: 'ggplot2'\n",
      "\n",
      "\n",
      "The following object is masked from 'package:randomForest':\n",
      "\n",
      "    margin\n",
      "\n",
      "\n"
     ]
    }
   ],
   "source": [
    "# Install cross-validation packages\n",
    "#install.packages(\"caret\")\n",
    "library(caret)\n",
    "#install.packages(\"e1071\")\n",
    "library(e1071)"
   ]
  },
  {
   "cell_type": "markdown",
   "metadata": {},
   "source": [
    "First, we split the training set into k equally sized subsets, or folds. In this example, k equals 5. Then we select k - 1, or four folds, to estimate the model, and compute predictions on the remaining one fold, which is often referred to as the validation set. We build a model and make predictions for each possible parameter value we're considering. Then we repeat this for each of the other folds, or pieces of our training set.\n",
    "\n",
    "We'll use a parameter called cp (complexity parameter), it's like Adjusted R-squared for linear regression, and AIC for logistic regression, in that it measures the trade-off between model complexity and accuracy on the training set."
   ]
  },
  {
   "cell_type": "code",
   "execution_count": 27,
   "metadata": {},
   "outputs": [],
   "source": [
    "# Define cross-validation experiment\n",
    "numFolds = trainControl( method = \"cv\", number = 10 ) # Method cross-validation, number of folds = 10\n",
    "cpGrid = expand.grid( .cp = seq(0.01,0.5,0.01))       # Possible values for our cp: from 0.01 until 0.5, pass 0.01"
   ]
  },
  {
   "cell_type": "code",
   "execution_count": 28,
   "metadata": {},
   "outputs": [
    {
     "data": {
      "text/plain": [
       "CART \n",
       "\n",
       "396 samples\n",
       "  6 predictor\n",
       "  2 classes: '0', '1' \n",
       "\n",
       "No pre-processing\n",
       "Resampling: Cross-Validated (10 fold) \n",
       "Summary of sample sizes: 357, 356, 357, 356, 356, 356, ... \n",
       "Resampling results across tuning parameters:\n",
       "\n",
       "  cp    Accuracy   Kappa     \n",
       "  0.01  0.6487821  0.27459735\n",
       "  0.02  0.6385897  0.26041057\n",
       "  0.03  0.6335256  0.25398134\n",
       "  0.04  0.6385897  0.27124007\n",
       "  0.05  0.6435897  0.28289264\n",
       "  0.06  0.6435897  0.28289264\n",
       "  0.07  0.6435897  0.28289264\n",
       "  0.08  0.6435897  0.28289264\n",
       "  0.09  0.6435897  0.28289264\n",
       "  0.10  0.6435897  0.28289264\n",
       "  0.11  0.6435897  0.28289264\n",
       "  0.12  0.6435897  0.28289264\n",
       "  0.13  0.6435897  0.28289264\n",
       "  0.14  0.6435897  0.28289264\n",
       "  0.15  0.6435897  0.28289264\n",
       "  0.16  0.6435897  0.28289264\n",
       "  0.17  0.6435897  0.28289264\n",
       "  0.18  0.6435897  0.28289264\n",
       "  0.19  0.6435897  0.28289264\n",
       "  0.20  0.6085897  0.19402926\n",
       "  0.21  0.5835897  0.12602256\n",
       "  0.22  0.5530769  0.04021599\n",
       "  0.23  0.5453846  0.01729109\n",
       "  0.24  0.5453846  0.01729109\n",
       "  0.25  0.5453846  0.00000000\n",
       "  0.26  0.5453846  0.00000000\n",
       "  0.27  0.5453846  0.00000000\n",
       "  0.28  0.5453846  0.00000000\n",
       "  0.29  0.5453846  0.00000000\n",
       "  0.30  0.5453846  0.00000000\n",
       "  0.31  0.5453846  0.00000000\n",
       "  0.32  0.5453846  0.00000000\n",
       "  0.33  0.5453846  0.00000000\n",
       "  0.34  0.5453846  0.00000000\n",
       "  0.35  0.5453846  0.00000000\n",
       "  0.36  0.5453846  0.00000000\n",
       "  0.37  0.5453846  0.00000000\n",
       "  0.38  0.5453846  0.00000000\n",
       "  0.39  0.5453846  0.00000000\n",
       "  0.40  0.5453846  0.00000000\n",
       "  0.41  0.5453846  0.00000000\n",
       "  0.42  0.5453846  0.00000000\n",
       "  0.43  0.5453846  0.00000000\n",
       "  0.44  0.5453846  0.00000000\n",
       "  0.45  0.5453846  0.00000000\n",
       "  0.46  0.5453846  0.00000000\n",
       "  0.47  0.5453846  0.00000000\n",
       "  0.48  0.5453846  0.00000000\n",
       "  0.49  0.5453846  0.00000000\n",
       "  0.50  0.5453846  0.00000000\n",
       "\n",
       "Accuracy was used to select the optimal model using the largest value.\n",
       "The final value used for the model was cp = 0.01."
      ]
     },
     "metadata": {},
     "output_type": "display_data"
    }
   ],
   "source": [
    "# Perform the cross validation\n",
    "train(Reverse ~ Circuit + Issue + Petitioner + Respondent + LowerCourt + Unconst, \n",
    "      data = Train, method = \"rpart\", trControl = numFolds, tuneGrid = cpGrid )"
   ]
  },
  {
   "cell_type": "code",
   "execution_count": 29,
   "metadata": {},
   "outputs": [],
   "source": [
    "# Create a new CART model\n",
    "StevensTreeCV = rpart(Reverse ~ Circuit + Issue + Petitioner + Respondent + LowerCourt + Unconst, \n",
    "                      data = Train, method=\"class\", cp = 0.18)"
   ]
  },
  {
   "cell_type": "code",
   "execution_count": 30,
   "metadata": {},
   "outputs": [
    {
     "data": {
      "text/plain": [
       "   PredictCV\n",
       "     0  1\n",
       "  0 59 18\n",
       "  1 29 64"
      ]
     },
     "metadata": {},
     "output_type": "display_data"
    }
   ],
   "source": [
    "# Make predictions\n",
    "PredictCV = predict(StevensTreeCV, newdata = Test, type = \"class\")\n",
    "zcv = table(Test$Reverse, PredictCV)\n",
    "zcv"
   ]
  },
  {
   "cell_type": "markdown",
   "metadata": {},
   "source": [
    "The rows are labeled with the actual outcome, and the columns are labeled with the predicted outcome.\n",
    "\n",
    "                  Predict 0       Predict 1\n",
    "    Actual 0    True Negative   False Positive\n",
    "    Actual 1    False Negative  True Positive\n",
    "\n",
    "    z = [1][3]\n",
    "        [2][4]"
   ]
  },
  {
   "cell_type": "code",
   "execution_count": 31,
   "metadata": {},
   "outputs": [
    {
     "data": {
      "text/html": [
       "<span style=white-space:pre-wrap>'Accuracy Cross-Validation:  0.7235'</span>"
      ],
      "text/latex": [
       "'Accuracy Cross-Validation:  0.7235'"
      ],
      "text/markdown": [
       "<span style=white-space:pre-wrap>'Accuracy Cross-Validation:  0.7235'</span>"
      ],
      "text/plain": [
       "[1] \"Accuracy Cross-Validation:  0.7235\""
      ]
     },
     "metadata": {},
     "output_type": "display_data"
    }
   ],
   "source": [
    "# Calculate accuracy                                    # (TN+TP)/(TN+FN+TP+FP)\n",
    "accur <- (zcv[1]+zcv[4])/(zcv[1]+zcv[2]+zcv[3]+zcv[4])  # Another way: sum(diag(zf))/sum(zf)\n",
    "paste(\"Accuracy Cross-Validation: \", round(accur,digits=4))"
   ]
  },
  {
   "cell_type": "markdown",
   "metadata": {},
   "source": [
    "So the accuracy of this model is 0.724. Remember that the accuracy of our previous CART model was 0.659. Cross validation helps us make sure we're selecting a good parameter value, and often this will significantly increase the accuracy. If we had already happened to select a good parameter value, then the accuracy might not of increased that much. But by using cross validation, we can be sure that we're selecting a smart parameter value."
   ]
  },
  {
   "cell_type": "markdown",
   "metadata": {},
   "source": [
    "### History"
   ]
  },
  {
   "cell_type": "markdown",
   "metadata": {},
   "source": [
    "Martin and his colleagues used 628 previous Supreme Court cases between 1994 and 2001 to build their model. They made predictions for the 68 cases that would be decided in October, 2002, before the term started.\n",
    "\n",
    "artin and his colleagues also recruited 83 legal experts, 71 academics, and 12 attorneys. 38 had previously clerked for a Supreme Court Justice, 33 were chaired professors, and five were current or former law school deans. So this was really a dream team of experts. Additionally, the experts were only asked to predict within their area of expertise. So not all experts predicted all cases, but there was more than one expert making predictions for each case.\n",
    "\n",
    "For the 68 cases in October 2002, the predictions were made, and at the end of the month the results were computed.\n",
    "\n",
    "For predicting the overall decision that was made by the Supreme Court, the models had an accuracy of 75%, while the experts only had an accuracy of 59%. So the models had a significant edge over the experts in predicting the overall case outcomes."
   ]
  }
 ],
 "metadata": {
  "kernelspec": {
   "display_name": "R",
   "language": "R",
   "name": "ir"
  },
  "language_info": {
   "codemirror_mode": "r",
   "file_extension": ".r",
   "mimetype": "text/x-r-source",
   "name": "R",
   "pygments_lexer": "r",
   "version": "3.6.3"
  }
 },
 "nbformat": 4,
 "nbformat_minor": 4
}
