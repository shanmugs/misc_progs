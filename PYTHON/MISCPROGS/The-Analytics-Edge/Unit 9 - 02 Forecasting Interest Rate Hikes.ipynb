{
 "cells": [
  {
   "cell_type": "markdown",
   "metadata": {},
   "source": [
    "# Forecasting Interest Rate Hikes by the U.S. Federal Reserve"
   ]
  },
  {
   "cell_type": "markdown",
   "metadata": {},
   "source": [
    "<img src=\"images/federal-reserve.png\"/>"
   ]
  },
  {
   "cell_type": "markdown",
   "metadata": {},
   "source": [
    "The federal funds rate is the key interest rate that the U.S. Federal Reserve uses to influence economic growth. The Federal Open Market Committee meets regularly to decide whether to increase, decrease, or maintain the target interest rate. Their choice has important ramifications that cascade through the economy, so the announcement of the interest rates is eagerly awaited each month.\n",
    "\n",
    "In this problem, we will use analytics to try to predict when the Federal Reserve will raise interest rates. We will look at monthly economic and political data dating back to the mid-1960's. In this analysis, the dependent variable will be the binary outcome variable RaisedFedFunds, which takes value 1 if the federal funds rate was increased that month and 0 if it was lowered or stayed the same. For each month, the file federalFundsRate.csv contains the following independent variables:"
   ]
  },
  {
   "cell_type": "markdown",
   "metadata": {},
   "source": [
    "    Date: The date the change was announced.\n",
    "\n",
    "    Chairman: The name of the Federal Reserve Chairman at the time the change was announced.\n",
    "\n",
    "    PreviousRate: The federal funds rate in the prior month.\n",
    "    \n",
    "    Streak: The current streak of raising or not raising the rate, e.g. +8 indicates the rate has been increased 8 months in a row, \n",
    "\n",
    "    whereas -3 indicates the rate has been lowered or stayed the same for 3 months in a row.\n",
    "\n",
    "    GDP: The U.S. Gross Domestic Product, in Billions of Chained 2009 US Dollars.\n",
    "\n",
    "    Unemployment: The unemployment rate in the U.S.\n",
    "\n",
    "    CPI: The Consumer Price Index, an indicator of inflation, in the U.S.\n",
    "\n",
    "    HomeownershipRate: The rate of homeownership in the U.S.\n",
    "\n",
    "    DebtAsPctGDP: The U.S. national debt as a percentage of GDP\n",
    "\n",
    "    DemocraticPres: Whether the sitting U.S. President is a Democrat (DemocraticPres=1) or a Republican (DemocraticPres=0)\n",
    "\n",
    "    MonthsUntilElection: The number of remaining months until the next U.S. presidential election."
   ]
  },
  {
   "cell_type": "markdown",
   "metadata": {},
   "source": [
    "### Problem 1 - Loading the Data\n",
    "Use the read.csv function to load the contents of *federalFundsRate.csv* into a data frame called *fedFunds*, using *stringsAsFactors=FALSE*. "
   ]
  },
  {
   "cell_type": "code",
   "execution_count": 1,
   "metadata": {},
   "outputs": [
    {
     "data": {
      "text/html": [
       "<table>\n",
       "<caption>A data.frame: 6 × 12</caption>\n",
       "<thead>\n",
       "\t<tr><th></th><th scope=col>Date</th><th scope=col>Chairman</th><th scope=col>PreviousRate</th><th scope=col>Streak</th><th scope=col>GDP</th><th scope=col>Unemployment</th><th scope=col>CPI</th><th scope=col>HomeownershipRate</th><th scope=col>DebtAsPctGDP</th><th scope=col>DemocraticPres</th><th scope=col>MonthsUntilElection</th><th scope=col>RaisedFedFunds</th></tr>\n",
       "\t<tr><th></th><th scope=col>&lt;chr&gt;</th><th scope=col>&lt;chr&gt;</th><th scope=col>&lt;dbl&gt;</th><th scope=col>&lt;int&gt;</th><th scope=col>&lt;dbl&gt;</th><th scope=col>&lt;dbl&gt;</th><th scope=col>&lt;dbl&gt;</th><th scope=col>&lt;dbl&gt;</th><th scope=col>&lt;dbl&gt;</th><th scope=col>&lt;int&gt;</th><th scope=col>&lt;int&gt;</th><th scope=col>&lt;int&gt;</th></tr>\n",
       "</thead>\n",
       "<tbody>\n",
       "\t<tr><th scope=row>1</th><td>1966-02-01</td><td>Martin, William M.</td><td>4.42</td><td>4</td><td>4201.891</td><td>4.0</td><td>31.88</td><td>63.5</td><td>  40.26076</td><td>1</td><td>33</td><td>1</td></tr>\n",
       "\t<tr><th scope=row>2</th><td>1966-03-01</td><td>Martin, William M.</td><td>4.60</td><td>5</td><td>4201.891</td><td>3.8</td><td>32.08</td><td>63.5</td><td>4201.89100</td><td>1</td><td>32</td><td>1</td></tr>\n",
       "\t<tr><th scope=row>3</th><td>1966-04-01</td><td>Martin, William M.</td><td>4.65</td><td>6</td><td>4201.891</td><td>3.8</td><td>32.18</td><td>63.5</td><td>4201.89100</td><td>1</td><td>31</td><td>1</td></tr>\n",
       "\t<tr><th scope=row>4</th><td>1966-05-01</td><td>Martin, William M.</td><td>4.67</td><td>7</td><td>4219.097</td><td>3.8</td><td>32.28</td><td>63.2</td><td>  39.15969</td><td>1</td><td>30</td><td>1</td></tr>\n",
       "\t<tr><th scope=row>5</th><td>1966-06-01</td><td>Martin, William M.</td><td>4.90</td><td>8</td><td>4219.097</td><td>3.9</td><td>32.35</td><td>63.2</td><td>4219.09700</td><td>1</td><td>29</td><td>1</td></tr>\n",
       "\t<tr><th scope=row>6</th><td>1966-07-01</td><td>Martin, William M.</td><td>5.17</td><td>9</td><td>4219.097</td><td>3.8</td><td>32.38</td><td>63.2</td><td>4219.09700</td><td>1</td><td>28</td><td>1</td></tr>\n",
       "</tbody>\n",
       "</table>\n"
      ],
      "text/latex": [
       "A data.frame: 6 × 12\n",
       "\\begin{tabular}{r|llllllllllll}\n",
       "  & Date & Chairman & PreviousRate & Streak & GDP & Unemployment & CPI & HomeownershipRate & DebtAsPctGDP & DemocraticPres & MonthsUntilElection & RaisedFedFunds\\\\\n",
       "  & <chr> & <chr> & <dbl> & <int> & <dbl> & <dbl> & <dbl> & <dbl> & <dbl> & <int> & <int> & <int>\\\\\n",
       "\\hline\n",
       "\t1 & 1966-02-01 & Martin, William M. & 4.42 & 4 & 4201.891 & 4.0 & 31.88 & 63.5 &   40.26076 & 1 & 33 & 1\\\\\n",
       "\t2 & 1966-03-01 & Martin, William M. & 4.60 & 5 & 4201.891 & 3.8 & 32.08 & 63.5 & 4201.89100 & 1 & 32 & 1\\\\\n",
       "\t3 & 1966-04-01 & Martin, William M. & 4.65 & 6 & 4201.891 & 3.8 & 32.18 & 63.5 & 4201.89100 & 1 & 31 & 1\\\\\n",
       "\t4 & 1966-05-01 & Martin, William M. & 4.67 & 7 & 4219.097 & 3.8 & 32.28 & 63.2 &   39.15969 & 1 & 30 & 1\\\\\n",
       "\t5 & 1966-06-01 & Martin, William M. & 4.90 & 8 & 4219.097 & 3.9 & 32.35 & 63.2 & 4219.09700 & 1 & 29 & 1\\\\\n",
       "\t6 & 1966-07-01 & Martin, William M. & 5.17 & 9 & 4219.097 & 3.8 & 32.38 & 63.2 & 4219.09700 & 1 & 28 & 1\\\\\n",
       "\\end{tabular}\n"
      ],
      "text/markdown": [
       "\n",
       "A data.frame: 6 × 12\n",
       "\n",
       "| <!--/--> | Date &lt;chr&gt; | Chairman &lt;chr&gt; | PreviousRate &lt;dbl&gt; | Streak &lt;int&gt; | GDP &lt;dbl&gt; | Unemployment &lt;dbl&gt; | CPI &lt;dbl&gt; | HomeownershipRate &lt;dbl&gt; | DebtAsPctGDP &lt;dbl&gt; | DemocraticPres &lt;int&gt; | MonthsUntilElection &lt;int&gt; | RaisedFedFunds &lt;int&gt; |\n",
       "|---|---|---|---|---|---|---|---|---|---|---|---|---|\n",
       "| 1 | 1966-02-01 | Martin, William M. | 4.42 | 4 | 4201.891 | 4.0 | 31.88 | 63.5 |   40.26076 | 1 | 33 | 1 |\n",
       "| 2 | 1966-03-01 | Martin, William M. | 4.60 | 5 | 4201.891 | 3.8 | 32.08 | 63.5 | 4201.89100 | 1 | 32 | 1 |\n",
       "| 3 | 1966-04-01 | Martin, William M. | 4.65 | 6 | 4201.891 | 3.8 | 32.18 | 63.5 | 4201.89100 | 1 | 31 | 1 |\n",
       "| 4 | 1966-05-01 | Martin, William M. | 4.67 | 7 | 4219.097 | 3.8 | 32.28 | 63.2 |   39.15969 | 1 | 30 | 1 |\n",
       "| 5 | 1966-06-01 | Martin, William M. | 4.90 | 8 | 4219.097 | 3.9 | 32.35 | 63.2 | 4219.09700 | 1 | 29 | 1 |\n",
       "| 6 | 1966-07-01 | Martin, William M. | 5.17 | 9 | 4219.097 | 3.8 | 32.38 | 63.2 | 4219.09700 | 1 | 28 | 1 |\n",
       "\n"
      ],
      "text/plain": [
       "  Date       Chairman           PreviousRate Streak GDP      Unemployment CPI  \n",
       "1 1966-02-01 Martin, William M. 4.42         4      4201.891 4.0          31.88\n",
       "2 1966-03-01 Martin, William M. 4.60         5      4201.891 3.8          32.08\n",
       "3 1966-04-01 Martin, William M. 4.65         6      4201.891 3.8          32.18\n",
       "4 1966-05-01 Martin, William M. 4.67         7      4219.097 3.8          32.28\n",
       "5 1966-06-01 Martin, William M. 4.90         8      4219.097 3.9          32.35\n",
       "6 1966-07-01 Martin, William M. 5.17         9      4219.097 3.8          32.38\n",
       "  HomeownershipRate DebtAsPctGDP DemocraticPres MonthsUntilElection\n",
       "1 63.5                40.26076   1              33                 \n",
       "2 63.5              4201.89100   1              32                 \n",
       "3 63.5              4201.89100   1              31                 \n",
       "4 63.2                39.15969   1              30                 \n",
       "5 63.2              4219.09700   1              29                 \n",
       "6 63.2              4219.09700   1              28                 \n",
       "  RaisedFedFunds\n",
       "1 1             \n",
       "2 1             \n",
       "3 1             \n",
       "4 1             \n",
       "5 1             \n",
       "6 1             "
      ]
     },
     "metadata": {},
     "output_type": "display_data"
    }
   ],
   "source": [
    "# Load the Dataset\n",
    "\n",
    "fedFunds = read.csv(\"data/federalFundsRate.csv\", stringsAsFactors=FALSE)\n",
    "\n",
    "head(fedFunds)"
   ]
  },
  {
   "cell_type": "code",
   "execution_count": 2,
   "metadata": {},
   "outputs": [
    {
     "name": "stdout",
     "output_type": "stream",
     "text": [
      "'data.frame':\t585 obs. of  12 variables:\n",
      " $ Date               : chr  \"1966-02-01\" \"1966-03-01\" \"1966-04-01\" \"1966-05-01\" ...\n",
      " $ Chairman           : chr  \"Martin, William M.\" \"Martin, William M.\" \"Martin, William M.\" \"Martin, William M.\" ...\n",
      " $ PreviousRate       : num  4.42 4.6 4.65 4.67 4.9 5.17 5.3 5.53 5.4 5.53 ...\n",
      " $ Streak             : int  4 5 6 7 8 9 10 11 -1 1 ...\n",
      " $ GDP                : num  4202 4202 4202 4219 4219 ...\n",
      " $ Unemployment       : num  4 3.8 3.8 3.8 3.9 3.8 3.8 3.8 3.7 3.7 ...\n",
      " $ CPI                : num  31.9 32.1 32.2 32.3 32.4 ...\n",
      " $ HomeownershipRate  : num  63.5 63.5 63.5 63.2 63.2 63.2 63.3 63.3 63.3 63.8 ...\n",
      " $ DebtAsPctGDP       : num  40.3 4201.9 4201.9 39.2 4219.1 ...\n",
      " $ DemocraticPres     : int  1 1 1 1 1 1 1 1 1 1 ...\n",
      " $ MonthsUntilElection: int  33 32 31 30 29 28 27 26 25 24 ...\n",
      " $ RaisedFedFunds     : int  1 1 1 1 1 1 1 0 1 1 ...\n"
     ]
    }
   ],
   "source": [
    "str(fedFunds)"
   ]
  },
  {
   "cell_type": "code",
   "execution_count": 3,
   "metadata": {},
   "outputs": [
    {
     "data": {
      "text/plain": [
       "     Date             Chairman          PreviousRate        Streak       \n",
       " Length:585         Length:585         Min.   : 0.070   Min.   :-16.000  \n",
       " Class :character   Class :character   1st Qu.: 3.290   1st Qu.: -2.000  \n",
       " Mode  :character   Mode  :character   Median : 5.390   Median :  1.000  \n",
       "                                       Mean   : 5.651   Mean   :  1.094  \n",
       "                                       3rd Qu.: 7.880   3rd Qu.:  3.000  \n",
       "                                       Max.   :19.100   Max.   : 27.000  \n",
       "      GDP         Unemployment         CPI         HomeownershipRate\n",
       " Min.   : 4202   Min.   : 3.400   Min.   : 31.88   Min.   :63.20    \n",
       " 1st Qu.: 6039   1st Qu.: 5.000   1st Qu.: 63.40   1st Qu.:64.20    \n",
       " Median : 8907   Median : 5.900   Median :129.10   Median :64.80    \n",
       " Mean   : 9450   Mean   : 6.181   Mean   :127.71   Mean   :65.41    \n",
       " 3rd Qu.:12956   3rd Qu.: 7.300   3rd Qu.:180.00   3rd Qu.:66.50    \n",
       " Max.   :16206   Max.   :10.800   Max.   :237.63   Max.   :69.20    \n",
       "  DebtAsPctGDP      DemocraticPres   MonthsUntilElection RaisedFedFunds  \n",
       " Min.   :   30.60   Min.   :0.0000   Min.   : 0.00       Min.   :0.0000  \n",
       " 1st Qu.:   62.35   1st Qu.:0.0000   1st Qu.:12.00       1st Qu.:0.0000  \n",
       " Median : 6039.16   Median :0.0000   Median :24.00       Median :1.0000  \n",
       " Mean   : 6317.32   Mean   :0.4256   Mean   :23.58       Mean   :0.5026  \n",
       " 3rd Qu.:10529.38   3rd Qu.:1.0000   3rd Qu.:35.00       3rd Qu.:1.0000  \n",
       " Max.   :16205.59   Max.   :1.0000   Max.   :47.00       Max.   :1.0000  "
      ]
     },
     "metadata": {},
     "output_type": "display_data"
    }
   ],
   "source": [
    "summary(fedFunds)"
   ]
  },
  {
   "cell_type": "markdown",
   "metadata": {},
   "source": [
    "**What proportion of months did the Fed raise the interest rate?**"
   ]
  },
  {
   "cell_type": "code",
   "execution_count": 4,
   "metadata": {},
   "outputs": [
    {
     "data": {
      "text/plain": [
       "\n",
       "        0         1 \n",
       "0.4974359 0.5025641 "
      ]
     },
     "metadata": {},
     "output_type": "display_data"
    }
   ],
   "source": [
    "prop.table(table(fedFunds$RaisedFedFunds))"
   ]
  },
  {
   "cell_type": "markdown",
   "metadata": {},
   "source": [
    "Answer: 50.26%"
   ]
  },
  {
   "cell_type": "markdown",
   "metadata": {},
   "source": [
    "### Problem 2 - The Longest-Serving Fed Chair\n",
    "**Which Federal Reserve Chair has presided over the most interest rate decisions?**"
   ]
  },
  {
   "cell_type": "code",
   "execution_count": 5,
   "metadata": {},
   "outputs": [
    {
     "data": {
      "text/plain": [
       "\n",
       "     Bernanke, Ben      Burns, Arthur    Greenspan, Alan Martin, William M. \n",
       "                96                 96                221                 48 \n",
       "Miller, G. William                N/A      Volcker, Paul      Yellen, Janet \n",
       "                17                  2                 96                  9 "
      ]
     },
     "metadata": {},
     "output_type": "display_data"
    }
   ],
   "source": [
    "table(fedFunds$Chairman)"
   ]
  },
  {
   "cell_type": "markdown",
   "metadata": {},
   "source": [
    "Answer: Alan Greenspan."
   ]
  },
  {
   "cell_type": "markdown",
   "metadata": {},
   "source": [
    "### Problem 3 - Converting Variables to Factors\n",
    "Convert the following variables to factors using the as.factor function:\n",
    "\n",
    "    Chairman\n",
    "\n",
    "    DemocraticPres\n",
    "\n",
    "    RaisedFedFunds"
   ]
  },
  {
   "cell_type": "code",
   "execution_count": 6,
   "metadata": {},
   "outputs": [],
   "source": [
    "# Convert the following variables to factors\n",
    "\n",
    "fedFunds$Chairman = as.factor(fedFunds$Chairman)\n",
    "\n",
    "fedFunds$DemocraticPres = as.factor(fedFunds$DemocraticPres)\n",
    "\n",
    "fedFunds$RaisedFedFunds = as.factor(fedFunds$RaisedFedFunds)"
   ]
  },
  {
   "cell_type": "code",
   "execution_count": 7,
   "metadata": {},
   "outputs": [
    {
     "data": {
      "text/html": [
       "<table>\n",
       "<caption>A data.frame: 6 × 12</caption>\n",
       "<thead>\n",
       "\t<tr><th></th><th scope=col>Date</th><th scope=col>Chairman</th><th scope=col>PreviousRate</th><th scope=col>Streak</th><th scope=col>GDP</th><th scope=col>Unemployment</th><th scope=col>CPI</th><th scope=col>HomeownershipRate</th><th scope=col>DebtAsPctGDP</th><th scope=col>DemocraticPres</th><th scope=col>MonthsUntilElection</th><th scope=col>RaisedFedFunds</th></tr>\n",
       "\t<tr><th></th><th scope=col>&lt;chr&gt;</th><th scope=col>&lt;fct&gt;</th><th scope=col>&lt;dbl&gt;</th><th scope=col>&lt;int&gt;</th><th scope=col>&lt;dbl&gt;</th><th scope=col>&lt;dbl&gt;</th><th scope=col>&lt;dbl&gt;</th><th scope=col>&lt;dbl&gt;</th><th scope=col>&lt;dbl&gt;</th><th scope=col>&lt;fct&gt;</th><th scope=col>&lt;int&gt;</th><th scope=col>&lt;fct&gt;</th></tr>\n",
       "</thead>\n",
       "<tbody>\n",
       "\t<tr><th scope=row>1</th><td>1966-02-01</td><td>Martin, William M.</td><td>4.42</td><td>4</td><td>4201.891</td><td>4.0</td><td>31.88</td><td>63.5</td><td>  40.26076</td><td>1</td><td>33</td><td>1</td></tr>\n",
       "\t<tr><th scope=row>2</th><td>1966-03-01</td><td>Martin, William M.</td><td>4.60</td><td>5</td><td>4201.891</td><td>3.8</td><td>32.08</td><td>63.5</td><td>4201.89100</td><td>1</td><td>32</td><td>1</td></tr>\n",
       "\t<tr><th scope=row>3</th><td>1966-04-01</td><td>Martin, William M.</td><td>4.65</td><td>6</td><td>4201.891</td><td>3.8</td><td>32.18</td><td>63.5</td><td>4201.89100</td><td>1</td><td>31</td><td>1</td></tr>\n",
       "\t<tr><th scope=row>4</th><td>1966-05-01</td><td>Martin, William M.</td><td>4.67</td><td>7</td><td>4219.097</td><td>3.8</td><td>32.28</td><td>63.2</td><td>  39.15969</td><td>1</td><td>30</td><td>1</td></tr>\n",
       "\t<tr><th scope=row>5</th><td>1966-06-01</td><td>Martin, William M.</td><td>4.90</td><td>8</td><td>4219.097</td><td>3.9</td><td>32.35</td><td>63.2</td><td>4219.09700</td><td>1</td><td>29</td><td>1</td></tr>\n",
       "\t<tr><th scope=row>6</th><td>1966-07-01</td><td>Martin, William M.</td><td>5.17</td><td>9</td><td>4219.097</td><td>3.8</td><td>32.38</td><td>63.2</td><td>4219.09700</td><td>1</td><td>28</td><td>1</td></tr>\n",
       "</tbody>\n",
       "</table>\n"
      ],
      "text/latex": [
       "A data.frame: 6 × 12\n",
       "\\begin{tabular}{r|llllllllllll}\n",
       "  & Date & Chairman & PreviousRate & Streak & GDP & Unemployment & CPI & HomeownershipRate & DebtAsPctGDP & DemocraticPres & MonthsUntilElection & RaisedFedFunds\\\\\n",
       "  & <chr> & <fct> & <dbl> & <int> & <dbl> & <dbl> & <dbl> & <dbl> & <dbl> & <fct> & <int> & <fct>\\\\\n",
       "\\hline\n",
       "\t1 & 1966-02-01 & Martin, William M. & 4.42 & 4 & 4201.891 & 4.0 & 31.88 & 63.5 &   40.26076 & 1 & 33 & 1\\\\\n",
       "\t2 & 1966-03-01 & Martin, William M. & 4.60 & 5 & 4201.891 & 3.8 & 32.08 & 63.5 & 4201.89100 & 1 & 32 & 1\\\\\n",
       "\t3 & 1966-04-01 & Martin, William M. & 4.65 & 6 & 4201.891 & 3.8 & 32.18 & 63.5 & 4201.89100 & 1 & 31 & 1\\\\\n",
       "\t4 & 1966-05-01 & Martin, William M. & 4.67 & 7 & 4219.097 & 3.8 & 32.28 & 63.2 &   39.15969 & 1 & 30 & 1\\\\\n",
       "\t5 & 1966-06-01 & Martin, William M. & 4.90 & 8 & 4219.097 & 3.9 & 32.35 & 63.2 & 4219.09700 & 1 & 29 & 1\\\\\n",
       "\t6 & 1966-07-01 & Martin, William M. & 5.17 & 9 & 4219.097 & 3.8 & 32.38 & 63.2 & 4219.09700 & 1 & 28 & 1\\\\\n",
       "\\end{tabular}\n"
      ],
      "text/markdown": [
       "\n",
       "A data.frame: 6 × 12\n",
       "\n",
       "| <!--/--> | Date &lt;chr&gt; | Chairman &lt;fct&gt; | PreviousRate &lt;dbl&gt; | Streak &lt;int&gt; | GDP &lt;dbl&gt; | Unemployment &lt;dbl&gt; | CPI &lt;dbl&gt; | HomeownershipRate &lt;dbl&gt; | DebtAsPctGDP &lt;dbl&gt; | DemocraticPres &lt;fct&gt; | MonthsUntilElection &lt;int&gt; | RaisedFedFunds &lt;fct&gt; |\n",
       "|---|---|---|---|---|---|---|---|---|---|---|---|---|\n",
       "| 1 | 1966-02-01 | Martin, William M. | 4.42 | 4 | 4201.891 | 4.0 | 31.88 | 63.5 |   40.26076 | 1 | 33 | 1 |\n",
       "| 2 | 1966-03-01 | Martin, William M. | 4.60 | 5 | 4201.891 | 3.8 | 32.08 | 63.5 | 4201.89100 | 1 | 32 | 1 |\n",
       "| 3 | 1966-04-01 | Martin, William M. | 4.65 | 6 | 4201.891 | 3.8 | 32.18 | 63.5 | 4201.89100 | 1 | 31 | 1 |\n",
       "| 4 | 1966-05-01 | Martin, William M. | 4.67 | 7 | 4219.097 | 3.8 | 32.28 | 63.2 |   39.15969 | 1 | 30 | 1 |\n",
       "| 5 | 1966-06-01 | Martin, William M. | 4.90 | 8 | 4219.097 | 3.9 | 32.35 | 63.2 | 4219.09700 | 1 | 29 | 1 |\n",
       "| 6 | 1966-07-01 | Martin, William M. | 5.17 | 9 | 4219.097 | 3.8 | 32.38 | 63.2 | 4219.09700 | 1 | 28 | 1 |\n",
       "\n"
      ],
      "text/plain": [
       "  Date       Chairman           PreviousRate Streak GDP      Unemployment CPI  \n",
       "1 1966-02-01 Martin, William M. 4.42         4      4201.891 4.0          31.88\n",
       "2 1966-03-01 Martin, William M. 4.60         5      4201.891 3.8          32.08\n",
       "3 1966-04-01 Martin, William M. 4.65         6      4201.891 3.8          32.18\n",
       "4 1966-05-01 Martin, William M. 4.67         7      4219.097 3.8          32.28\n",
       "5 1966-06-01 Martin, William M. 4.90         8      4219.097 3.9          32.35\n",
       "6 1966-07-01 Martin, William M. 5.17         9      4219.097 3.8          32.38\n",
       "  HomeownershipRate DebtAsPctGDP DemocraticPres MonthsUntilElection\n",
       "1 63.5                40.26076   1              33                 \n",
       "2 63.5              4201.89100   1              32                 \n",
       "3 63.5              4201.89100   1              31                 \n",
       "4 63.2                39.15969   1              30                 \n",
       "5 63.2              4219.09700   1              29                 \n",
       "6 63.2              4219.09700   1              28                 \n",
       "  RaisedFedFunds\n",
       "1 1             \n",
       "2 1             \n",
       "3 1             \n",
       "4 1             \n",
       "5 1             \n",
       "6 1             "
      ]
     },
     "metadata": {},
     "output_type": "display_data"
    }
   ],
   "source": [
    "head(fedFunds)"
   ]
  },
  {
   "cell_type": "markdown",
   "metadata": {},
   "source": [
    "### Problem 4 - Splitting into a Training and Testing Set\n",
    "Obtain a random training/testing set split with:\n",
    "\n",
    "    set.seed(201)\n",
    "\n",
    "    library(caTools)\n",
    "\n",
    "    spl = sample.split(fedFunds$RaisedFedFunds, 0.7)\n",
    "\n",
    "Split months into a training data frame called \"training\" using the observations for which spl is TRUE and a testing data frame called \"testing\" using the observations for which spl is FALSE."
   ]
  },
  {
   "cell_type": "code",
   "execution_count": 8,
   "metadata": {},
   "outputs": [],
   "source": [
    "library(caTools)"
   ]
  },
  {
   "cell_type": "code",
   "execution_count": 9,
   "metadata": {},
   "outputs": [],
   "source": [
    "# Split the Data\n",
    "\n",
    "set.seed(201)\n",
    "\n",
    "spl = sample.split(fedFunds$RaisedFedFunds, 0.7)\n",
    "\n",
    "train = subset(fedFunds, spl==T)\n",
    "test = subset(fedFunds, spl==F)"
   ]
  },
  {
   "cell_type": "markdown",
   "metadata": {},
   "source": [
    "**Why do we use the sample.split() function to split into a training and testing set?**"
   ]
  },
  {
   "cell_type": "markdown",
   "metadata": {},
   "source": [
    "Answer: Typically, when you separate a data set into a training set and testing set, most of the data is used for training, and a smaller portion of the data is used for testing. Analysis Services randomly samples the data to help ensure that the testing and training sets are similar. By using similar data for training and testing, you can minimize the effects of data discrepancies and better understand the characteristics of the model."
   ]
  },
  {
   "cell_type": "markdown",
   "metadata": {},
   "source": [
    "### Problem 5 - Training a Logistic Regression Model\n",
    "Train a logistic regression model using independent variables \"PreviousRate\", \"Streak\", \"Unemployment\", \"HomeownershipRate\", \"DemocraticPres\", and \"MonthsUntilElection\", using the training set to obtain the model."
   ]
  },
  {
   "cell_type": "code",
   "execution_count": 10,
   "metadata": {},
   "outputs": [
    {
     "data": {
      "text/plain": [
       "\n",
       "Call:\n",
       "glm(formula = RaisedFedFunds ~ PreviousRate + Streak + Unemployment + \n",
       "    HomeownershipRate + DemocraticPres + MonthsUntilElection, \n",
       "    family = \"binomial\", data = train)\n",
       "\n",
       "Deviance Residuals: \n",
       "    Min       1Q   Median       3Q      Max  \n",
       "-2.8177  -1.0121   0.2301   1.0491   2.5297  \n",
       "\n",
       "Coefficients:\n",
       "                     Estimate Std. Error z value Pr(>|z|)    \n",
       "(Intercept)          9.121012   5.155774   1.769   0.0769 .  \n",
       "PreviousRate        -0.003427   0.032350  -0.106   0.9156    \n",
       "Streak               0.157658   0.025147   6.270 3.62e-10 ***\n",
       "Unemployment        -0.047449   0.065438  -0.725   0.4684    \n",
       "HomeownershipRate   -0.136451   0.076872  -1.775   0.0759 .  \n",
       "DemocraticPres1      0.347829   0.233200   1.492   0.1358    \n",
       "MonthsUntilElection -0.006931   0.007678  -0.903   0.3666    \n",
       "---\n",
       "Signif. codes:  0 '***' 0.001 '**' 0.01 '*' 0.05 '.' 0.1 ' ' 1\n",
       "\n",
       "(Dispersion parameter for binomial family taken to be 1)\n",
       "\n",
       "    Null deviance: 568.37  on 409  degrees of freedom\n",
       "Residual deviance: 492.69  on 403  degrees of freedom\n",
       "AIC: 506.69\n",
       "\n",
       "Number of Fisher Scoring iterations: 4\n"
      ]
     },
     "metadata": {},
     "output_type": "display_data"
    }
   ],
   "source": [
    "# Logistic Regression Model\n",
    "\n",
    "modelLR = glm(RaisedFedFunds ~ PreviousRate + Streak + Unemployment + HomeownershipRate + DemocraticPres + MonthsUntilElection,\n",
    "            data=train, family='binomial')\n",
    "\n",
    "summary(modelLR)"
   ]
  },
  {
   "cell_type": "markdown",
   "metadata": {},
   "source": [
    "**Which of the following characteristics is the most statistically significant associated with an increased chance of the federal funds rate being raised?**"
   ]
  },
  {
   "cell_type": "markdown",
   "metadata": {},
   "source": [
    "Answer: Streak."
   ]
  },
  {
   "cell_type": "markdown",
   "metadata": {},
   "source": [
    "### Problem 6 - Predicting Using a Logistic Regression Model\n",
    "Imagine you are an analyst at a bank and your manager has asked you to predict whether the federal funds rate will be raised next month. You know that the rate has been lowered for 3 straight months (Streak = -3) and that the previous month's rate was 1.7%. The unemployment rate is 5.1% and the homeownership rate is 65.3%. The current U.S. president is a Republican and the next election will be held in 18 months. \n",
    "\n",
    "**According to the logistic regression model you built in Problem 5, what is the predicted probability that the interest rate will be raised?**"
   ]
  },
  {
   "cell_type": "markdown",
   "metadata": {},
   "source": [
    "    (Intercept)          9.121012     \n",
    "    PreviousRate        -0.003427 * (1.7)   \n",
    "    Streak               0.157658 * (-3)\n",
    "    Unemployment        -0.047449 * (5.1)    \n",
    "    HomeownershipRate   -0.136451 * (65.3)   \n",
    "    DemocraticPres1      0.347829 * (0) \n",
    "    MonthsUntilElection -0.006931 * (18)"
   ]
  },
  {
   "cell_type": "code",
   "execution_count": 11,
   "metadata": {},
   "outputs": [
    {
     "data": {
      "text/html": [
       "<table>\n",
       "<caption>A data.frame: 1 × 12</caption>\n",
       "<thead>\n",
       "\t<tr><th></th><th scope=col>Date</th><th scope=col>Chairman</th><th scope=col>PreviousRate</th><th scope=col>Streak</th><th scope=col>GDP</th><th scope=col>Unemployment</th><th scope=col>CPI</th><th scope=col>HomeownershipRate</th><th scope=col>DebtAsPctGDP</th><th scope=col>DemocraticPres</th><th scope=col>MonthsUntilElection</th><th scope=col>RaisedFedFunds</th></tr>\n",
       "\t<tr><th></th><th scope=col>&lt;chr&gt;</th><th scope=col>&lt;fct&gt;</th><th scope=col>&lt;dbl&gt;</th><th scope=col>&lt;int&gt;</th><th scope=col>&lt;dbl&gt;</th><th scope=col>&lt;dbl&gt;</th><th scope=col>&lt;dbl&gt;</th><th scope=col>&lt;dbl&gt;</th><th scope=col>&lt;dbl&gt;</th><th scope=col>&lt;fct&gt;</th><th scope=col>&lt;int&gt;</th><th scope=col>&lt;fct&gt;</th></tr>\n",
       "</thead>\n",
       "<tbody>\n",
       "\t<tr><th scope=row>1</th><td>1966-02-01</td><td>Martin, William M.</td><td>4.42</td><td>4</td><td>4201.891</td><td>4</td><td>31.88</td><td>63.5</td><td>40.26076</td><td>1</td><td>33</td><td>1</td></tr>\n",
       "</tbody>\n",
       "</table>\n"
      ],
      "text/latex": [
       "A data.frame: 1 × 12\n",
       "\\begin{tabular}{r|llllllllllll}\n",
       "  & Date & Chairman & PreviousRate & Streak & GDP & Unemployment & CPI & HomeownershipRate & DebtAsPctGDP & DemocraticPres & MonthsUntilElection & RaisedFedFunds\\\\\n",
       "  & <chr> & <fct> & <dbl> & <int> & <dbl> & <dbl> & <dbl> & <dbl> & <dbl> & <fct> & <int> & <fct>\\\\\n",
       "\\hline\n",
       "\t1 & 1966-02-01 & Martin, William M. & 4.42 & 4 & 4201.891 & 4 & 31.88 & 63.5 & 40.26076 & 1 & 33 & 1\\\\\n",
       "\\end{tabular}\n"
      ],
      "text/markdown": [
       "\n",
       "A data.frame: 1 × 12\n",
       "\n",
       "| <!--/--> | Date &lt;chr&gt; | Chairman &lt;fct&gt; | PreviousRate &lt;dbl&gt; | Streak &lt;int&gt; | GDP &lt;dbl&gt; | Unemployment &lt;dbl&gt; | CPI &lt;dbl&gt; | HomeownershipRate &lt;dbl&gt; | DebtAsPctGDP &lt;dbl&gt; | DemocraticPres &lt;fct&gt; | MonthsUntilElection &lt;int&gt; | RaisedFedFunds &lt;fct&gt; |\n",
       "|---|---|---|---|---|---|---|---|---|---|---|---|---|\n",
       "| 1 | 1966-02-01 | Martin, William M. | 4.42 | 4 | 4201.891 | 4 | 31.88 | 63.5 | 40.26076 | 1 | 33 | 1 |\n",
       "\n"
      ],
      "text/plain": [
       "  Date       Chairman           PreviousRate Streak GDP      Unemployment CPI  \n",
       "1 1966-02-01 Martin, William M. 4.42         4      4201.891 4            31.88\n",
       "  HomeownershipRate DebtAsPctGDP DemocraticPres MonthsUntilElection\n",
       "1 63.5              40.26076     1              33                 \n",
       "  RaisedFedFunds\n",
       "1 1             "
      ]
     },
     "metadata": {},
     "output_type": "display_data"
    }
   ],
   "source": [
    "single = train[1,]\n",
    "single"
   ]
  },
  {
   "cell_type": "code",
   "execution_count": 12,
   "metadata": {},
   "outputs": [],
   "source": [
    "single$Streak = -3\n",
    "single$PreviousRate = 1.7\n",
    "single$Unemployment = 5.1\n",
    "single$HomeownershipRate = 65.3\n",
    "single$DemocraticPres = 0\n",
    "single$DemocraticPres = as.factor(single$DemocraticPres)\n",
    "single$MonthsUntilElection = 18"
   ]
  },
  {
   "cell_type": "code",
   "execution_count": 13,
   "metadata": {},
   "outputs": [
    {
     "data": {
      "text/html": [
       "<strong>1:</strong> 0.346429739708453"
      ],
      "text/latex": [
       "\\textbf{1:} 0.346429739708453"
      ],
      "text/markdown": [
       "**1:** 0.346429739708453"
      ],
      "text/plain": [
       "        1 \n",
       "0.3464297 "
      ]
     },
     "metadata": {},
     "output_type": "display_data"
    }
   ],
   "source": [
    "# Predict with Logistic Regression Model\n",
    "predsingle = predict(modelLR, type='response', newdata = single)\n",
    "predsingle"
   ]
  },
  {
   "cell_type": "markdown",
   "metadata": {},
   "source": [
    "Answer: **34,64%**."
   ]
  },
  {
   "cell_type": "markdown",
   "metadata": {},
   "source": [
    "### Problem 7 - Interpreting Model Coefficients\n",
    "**What is the meaning of the coefficient labeled \"DemocraticPres1\" in the logistic regression summary output?**"
   ]
  },
  {
   "cell_type": "markdown",
   "metadata": {},
   "source": [
    "Answer: The probability of the president being from the Democratic party."
   ]
  },
  {
   "cell_type": "markdown",
   "metadata": {},
   "source": [
    "### Problem 8 - Obtaining Test Set Predictions\n",
    "Using your logistic regression model, obtain predictions on the test set. Then, using a probability threshold of 0.5, create a confusion matrix for the test set.\n",
    "\n",
    "We would like to compare the predictions obtained by the logistic regression model and those obtained by a naive baseline model. Remember that the naive baseline model we use in this class always predicts the most frequent outcome in the training set for all observations in the test set."
   ]
  },
  {
   "cell_type": "code",
   "execution_count": 14,
   "metadata": {},
   "outputs": [
    {
     "data": {
      "text/plain": [
       "   \n",
       "    FALSE TRUE\n",
       "  0    60   27\n",
       "  1    31   57"
      ]
     },
     "metadata": {},
     "output_type": "display_data"
    }
   ],
   "source": [
    "# Make Predictions with Logistic Regression Model\n",
    "predLR = predict(modelLR, type='response', newdata=test)\n",
    "\n",
    "# Confusion Matrix for the Logistic Regression Model\n",
    "cmLR = table(test$RaisedFedFunds, predLR > 0.5)\n",
    "cmLR"
   ]
  },
  {
   "cell_type": "markdown",
   "metadata": {},
   "source": [
    "The rows are labeled with the actual outcome, and the columns are labeled with the predicted outcome.\n",
    "\n",
    "                      Predict 0       Predict 1\n",
    "        Actual 0    True Negative   False Positive\n",
    "        Actual 1    False Negative  True Positive\n",
    "\n",
    "        cmLR = [1][3]\n",
    "               [2][4]"
   ]
  },
  {
   "cell_type": "code",
   "execution_count": 15,
   "metadata": {},
   "outputs": [
    {
     "data": {
      "text/html": [
       "'Accuracy Logistic Regression: 0.6686'"
      ],
      "text/latex": [
       "'Accuracy Logistic Regression: 0.6686'"
      ],
      "text/markdown": [
       "'Accuracy Logistic Regression: 0.6686'"
      ],
      "text/plain": [
       "[1] \"Accuracy Logistic Regression: 0.6686\""
      ]
     },
     "metadata": {},
     "output_type": "display_data"
    }
   ],
   "source": [
    "# Compute Logistic Regression Accuracy\n",
    "accurLR = sum(diag(cmLR))/sum(cmLR)\n",
    "paste(\"Accuracy Logistic Regression:\", round(accurLR,digits=4))"
   ]
  },
  {
   "cell_type": "code",
   "execution_count": 16,
   "metadata": {},
   "outputs": [
    {
     "data": {
      "text/plain": [
       "\n",
       " 0  1 \n",
       "87 88 "
      ]
     },
     "metadata": {},
     "output_type": "display_data"
    }
   ],
   "source": [
    "Bl = table(test$RaisedFedFunds)\n",
    "Bl"
   ]
  },
  {
   "cell_type": "code",
   "execution_count": 17,
   "metadata": {},
   "outputs": [
    {
     "data": {
      "text/html": [
       "'Accuracy Baseline: 0.5029'"
      ],
      "text/latex": [
       "'Accuracy Baseline: 0.5029'"
      ],
      "text/markdown": [
       "'Accuracy Baseline: 0.5029'"
      ],
      "text/plain": [
       "[1] \"Accuracy Baseline: 0.5029\""
      ]
     },
     "metadata": {},
     "output_type": "display_data"
    }
   ],
   "source": [
    "# Compute Baseline Accuracy\n",
    "accurBl = max(Bl)/sum(Bl)\n",
    "paste(\"Accuracy Baseline:\", round(accurBl,digits=4))"
   ]
  },
  {
   "cell_type": "markdown",
   "metadata": {},
   "source": [
    "### Problem 9 - Computing Test-Set AUC\n",
    "**What is the test-set AUC of the logistic regression model?**"
   ]
  },
  {
   "cell_type": "code",
   "execution_count": 18,
   "metadata": {},
   "outputs": [],
   "source": [
    "library(ROCR)"
   ]
  },
  {
   "cell_type": "code",
   "execution_count": 19,
   "metadata": {},
   "outputs": [
    {
     "data": {
      "text/html": [
       "'AUC Logistic Regression: 0.704'"
      ],
      "text/latex": [
       "'AUC Logistic Regression: 0.704'"
      ],
      "text/markdown": [
       "'AUC Logistic Regression: 0.704'"
      ],
      "text/plain": [
       "[1] \"AUC Logistic Regression: 0.704\""
      ]
     },
     "metadata": {},
     "output_type": "display_data"
    }
   ],
   "source": [
    "# Logistic Regression Prediction\n",
    "ROCRpred = prediction(predLR, test$RaisedFedFunds)\n",
    "\n",
    "# Area Under the ROC Curve (AUC)\n",
    "AUC = as.numeric(performance(ROCRpred, \"auc\")@y.values)\n",
    "\n",
    "paste(\"AUC Logistic Regression:\", round(AUC,digits=4))"
   ]
  },
  {
   "cell_type": "markdown",
   "metadata": {},
   "source": [
    "### Problem 10 - Interpreting AUC\n",
    "**What is the meaning of the AUC?**"
   ]
  },
  {
   "cell_type": "markdown",
   "metadata": {},
   "source": [
    "Answer: ROC curve is a performance measurement for classification problem at various thresholds settings. ROC is a probability curve and AUC represents degree or measure of separability. It tells how much model is capable of distinguishing between classes. Higher the AUC, better the model is at predicting 0s as 0s and 1s as 1s."
   ]
  },
  {
   "cell_type": "markdown",
   "metadata": {},
   "source": [
    "### Problem 11 - ROC Curves\n",
    "**Which logistic regression threshold is associated with the upper-right corner of the ROC plot (true positive rate 1 and false positive rate 1)?**"
   ]
  },
  {
   "cell_type": "markdown",
   "metadata": {},
   "source": [
    "Answer: In the ROC curve (Receiver Operating Characteristics curve), upper-right corner is associated with high cases positives, i.e., high cases of True Positives and high cases of False Positives."
   ]
  },
  {
   "cell_type": "markdown",
   "metadata": {},
   "source": [
    "### Problem 12 - ROC Curves\n",
    "**Plot the colorized ROC curve for the logistic regression model's performance on the test set.**"
   ]
  },
  {
   "cell_type": "code",
   "execution_count": 20,
   "metadata": {},
   "outputs": [
    {
     "data": {
      "image/png": "[encoded data removed]",
      "text/plain": [
       "plot without title"
      ]
     },
     "metadata": {
      "image/png": {
       "height": 420,
       "width": 420
      },
      "text/plain": {
       "height": 420,
       "width": 420
      }
     },
     "output_type": "display_data"
    }
   ],
   "source": [
    "ROCRperf = performance(ROCRpred, 'tpr', 'fpr')\n",
    "\n",
    "#plot(ROCRperf, colorize=T)\n",
    "plot(ROCRperf, colorize=TRUE, print.cutoffs.at=seq(0,1,by=0.05), text.adj=c(-0.2,1.7))"
   ]
  },
  {
   "cell_type": "markdown",
   "metadata": {},
   "source": [
    "**At roughly which logistic regression cutoff does the model achieve a true positive rate of 85% and a false positive rate of 60%?**"
   ]
  },
  {
   "cell_type": "markdown",
   "metadata": {},
   "source": [
    "Answer: Approx. 0.37."
   ]
  },
  {
   "cell_type": "markdown",
   "metadata": {},
   "source": [
    "### Problem 13 - Cross-Validation to Select Parameters\n",
    "**Which of the following best describes how 10-fold cross-validation works when selecting between 2 different parameter values?**"
   ]
  },
  {
   "cell_type": "markdown",
   "metadata": {},
   "source": [
    "Answer: \n",
    "    \n",
    "    numFolds = trainControl(method='cv', number=10)"
   ]
  },
  {
   "cell_type": "markdown",
   "metadata": {},
   "source": [
    "### Problem 14 - Cross-Validation for a CART Model\n",
    "Set the random seed to 201 (even though you have already done so earlier in the problem). Then use the caret package and the train function to perform 10-fold cross validation with the training data set to select the best cp value for a CART model that predicts the dependent variable \"RaisedFedFunds\" using the independent variables \"PreviousRate,\" \"Streak,\" \"Unemployment,\" \"HomeownershipRate,\" \"DemocraticPres,\" and \"MonthsUntilElection.\" Select the cp value from a grid consisting of the 50 values 0.001, 0.002, ..., 0.05."
   ]
  },
  {
   "cell_type": "code",
   "execution_count": 21,
   "metadata": {},
   "outputs": [
    {
     "name": "stderr",
     "output_type": "stream",
     "text": [
      "Loading required package: lattice\n",
      "\n",
      "Loading required package: ggplot2\n",
      "\n"
     ]
    }
   ],
   "source": [
    "library(caret)\n",
    "library(e1071)\n",
    "library(rpart)\n",
    "library(rpart.plot)"
   ]
  },
  {
   "cell_type": "code",
   "execution_count": 22,
   "metadata": {},
   "outputs": [
    {
     "data": {
      "text/plain": [
       "CART \n",
       "\n",
       "410 samples\n",
       "  6 predictor\n",
       "  2 classes: '0', '1' \n",
       "\n",
       "No pre-processing\n",
       "Resampling: Cross-Validated (10 fold) \n",
       "Summary of sample sizes: 369, 369, 369, 370, 368, 369, ... \n",
       "Resampling results across tuning parameters:\n",
       "\n",
       "  cp     Accuracy   Kappa    \n",
       "  0.001  0.6265941  0.2526691\n",
       "  0.002  0.6337979  0.2671836\n",
       "  0.003  0.6436121  0.2868450\n",
       "  0.004  0.6436121  0.2868450\n",
       "  0.005  0.6436121  0.2868450\n",
       "  0.006  0.6533740  0.3064931\n",
       "  0.007  0.6533740  0.3064931\n",
       "  0.008  0.6533740  0.3064931\n",
       "  0.009  0.6509350  0.3014898\n",
       "  0.010  0.6484959  0.2965688\n",
       "  0.011  0.6509959  0.3026313\n",
       "  0.012  0.6509959  0.3026313\n",
       "  0.013  0.6509959  0.3026313\n",
       "  0.014  0.6534350  0.3074360\n",
       "  0.015  0.6534350  0.3078892\n",
       "  0.016  0.6534350  0.3078892\n",
       "  0.017  0.6412398  0.2838340\n",
       "  0.018  0.6412398  0.2838340\n",
       "  0.019  0.6315999  0.2651432\n",
       "  0.020  0.6364779  0.2736764\n",
       "  0.021  0.6364779  0.2736764\n",
       "  0.022  0.6340389  0.2686034\n",
       "  0.023  0.6340389  0.2686034\n",
       "  0.024  0.6413560  0.2829661\n",
       "  0.025  0.6413560  0.2829661\n",
       "  0.026  0.6413560  0.2829661\n",
       "  0.027  0.6413560  0.2829661\n",
       "  0.028  0.6413560  0.2831144\n",
       "  0.029  0.6486731  0.2981422\n",
       "  0.030  0.6584292  0.3183290\n",
       "  0.031  0.6706243  0.3422956\n",
       "  0.032  0.6706243  0.3422956\n",
       "  0.033  0.6731243  0.3472956\n",
       "  0.034  0.6731243  0.3472956\n",
       "  0.035  0.6731243  0.3472956\n",
       "  0.036  0.6731243  0.3472956\n",
       "  0.037  0.6731243  0.3472956\n",
       "  0.038  0.6731243  0.3472956\n",
       "  0.039  0.6731243  0.3472956\n",
       "  0.040  0.6731243  0.3472956\n",
       "  0.041  0.6731243  0.3472956\n",
       "  0.042  0.6731243  0.3472956\n",
       "  0.043  0.6731243  0.3472956\n",
       "  0.044  0.6731243  0.3472956\n",
       "  0.045  0.6731243  0.3472956\n",
       "  0.046  0.6731243  0.3472956\n",
       "  0.047  0.6731243  0.3472956\n",
       "  0.048  0.6731243  0.3472956\n",
       "  0.049  0.6731243  0.3472956\n",
       "  0.050  0.6731243  0.3472956\n",
       "\n",
       "Accuracy was used to select the optimal model using the largest value.\n",
       "The final value used for the model was cp = 0.05."
      ]
     },
     "metadata": {},
     "output_type": "display_data"
    }
   ],
   "source": [
    "# Cross-Validation\n",
    "\n",
    "set.seed(201)\n",
    "\n",
    "numFolds = trainControl(method='cv', number=10)\n",
    "\n",
    "cpGrid = expand.grid(.cp=seq(0.001, 0.05, length.out = 50))\n",
    "\n",
    "train(RaisedFedFunds ~ PreviousRate + Streak + Unemployment + HomeownershipRate + DemocraticPres + MonthsUntilElection,\n",
    "                       data=train, method='rpart', trControl=numFolds, tuneGrid=cpGrid)"
   ]
  },
  {
   "cell_type": "markdown",
   "metadata": {},
   "source": [
    "**What cp value maximizes the cross-validation accuracy?**"
   ]
  },
  {
   "cell_type": "markdown",
   "metadata": {},
   "source": [
    "Answer: cp = 0.05."
   ]
  },
  {
   "cell_type": "markdown",
   "metadata": {},
   "source": [
    "### Problem 15 - Train CART Model\n",
    "Build and plot the CART model trained with the parameter identified in Problem 14, again predicting the dependent variable using \"PreviousRate\", \"Streak\", \"Unemployment\", \"HomeownershipRate\", \"DemocraticPres\", and \"MonthsUntilElection\". "
   ]
  },
  {
   "cell_type": "code",
   "execution_count": 23,
   "metadata": {},
   "outputs": [],
   "source": [
    "# Classification And Regression Trees (CART) Model\n",
    "tree = rpart(RaisedFedFunds ~ PreviousRate + Streak + Unemployment + HomeownershipRate + DemocraticPres + MonthsUntilElection,\n",
    "             data=train, method='class', cp=0.05)"
   ]
  },
  {
   "cell_type": "code",
   "execution_count": 24,
   "metadata": {},
   "outputs": [
    {
     "data": {
      "image/png": "[encoded data removed]",
      "text/plain": [
       "plot without title"
      ]
     },
     "metadata": {
      "image/png": {
       "height": 420,
       "width": 420
      },
      "text/plain": {
       "height": 420,
       "width": 420
      }
     },
     "output_type": "display_data"
    }
   ],
   "source": [
    "# Plot Tree (rpart.plot)\n",
    "prp(tree)"
   ]
  },
  {
   "cell_type": "markdown",
   "metadata": {},
   "source": [
    "**What variable is used as the first (upper-most) split in the tree?**"
   ]
  },
  {
   "cell_type": "markdown",
   "metadata": {},
   "source": [
    "Answer: Streak."
   ]
  },
  {
   "cell_type": "markdown",
   "metadata": {},
   "source": [
    "### Problem 16 - Predicting Using a CART Model\n",
    "If you were to use the CART model you created in Problem 15 to answer the question asked of the analyst in Problem 6, **what would you predict for next month?**\n",
    "\n",
    "Remember: The rate has been lowered for 3 straight months (Streak = -3). The previous month's rate was 1.7%. The unemployment rate is 5.1%. The homeownership rate is 65.3%. The current U.S. president is a Republican and the next election will be held in 18 months."
   ]
  },
  {
   "cell_type": "code",
   "execution_count": 25,
   "metadata": {},
   "outputs": [
    {
     "data": {
      "text/html": [
       "<table>\n",
       "<caption>A data.frame: 1 × 12</caption>\n",
       "<thead>\n",
       "\t<tr><th></th><th scope=col>Date</th><th scope=col>Chairman</th><th scope=col>PreviousRate</th><th scope=col>Streak</th><th scope=col>GDP</th><th scope=col>Unemployment</th><th scope=col>CPI</th><th scope=col>HomeownershipRate</th><th scope=col>DebtAsPctGDP</th><th scope=col>DemocraticPres</th><th scope=col>MonthsUntilElection</th><th scope=col>RaisedFedFunds</th></tr>\n",
       "\t<tr><th></th><th scope=col>&lt;chr&gt;</th><th scope=col>&lt;fct&gt;</th><th scope=col>&lt;dbl&gt;</th><th scope=col>&lt;int&gt;</th><th scope=col>&lt;dbl&gt;</th><th scope=col>&lt;dbl&gt;</th><th scope=col>&lt;dbl&gt;</th><th scope=col>&lt;dbl&gt;</th><th scope=col>&lt;dbl&gt;</th><th scope=col>&lt;fct&gt;</th><th scope=col>&lt;int&gt;</th><th scope=col>&lt;fct&gt;</th></tr>\n",
       "</thead>\n",
       "<tbody>\n",
       "\t<tr><th scope=row>1</th><td>1966-02-01</td><td>Martin, William M.</td><td>4.42</td><td>4</td><td>4201.891</td><td>4</td><td>31.88</td><td>63.5</td><td>40.26076</td><td>1</td><td>33</td><td>1</td></tr>\n",
       "</tbody>\n",
       "</table>\n"
      ],
      "text/latex": [
       "A data.frame: 1 × 12\n",
       "\\begin{tabular}{r|llllllllllll}\n",
       "  & Date & Chairman & PreviousRate & Streak & GDP & Unemployment & CPI & HomeownershipRate & DebtAsPctGDP & DemocraticPres & MonthsUntilElection & RaisedFedFunds\\\\\n",
       "  & <chr> & <fct> & <dbl> & <int> & <dbl> & <dbl> & <dbl> & <dbl> & <dbl> & <fct> & <int> & <fct>\\\\\n",
       "\\hline\n",
       "\t1 & 1966-02-01 & Martin, William M. & 4.42 & 4 & 4201.891 & 4 & 31.88 & 63.5 & 40.26076 & 1 & 33 & 1\\\\\n",
       "\\end{tabular}\n"
      ],
      "text/markdown": [
       "\n",
       "A data.frame: 1 × 12\n",
       "\n",
       "| <!--/--> | Date &lt;chr&gt; | Chairman &lt;fct&gt; | PreviousRate &lt;dbl&gt; | Streak &lt;int&gt; | GDP &lt;dbl&gt; | Unemployment &lt;dbl&gt; | CPI &lt;dbl&gt; | HomeownershipRate &lt;dbl&gt; | DebtAsPctGDP &lt;dbl&gt; | DemocraticPres &lt;fct&gt; | MonthsUntilElection &lt;int&gt; | RaisedFedFunds &lt;fct&gt; |\n",
       "|---|---|---|---|---|---|---|---|---|---|---|---|---|\n",
       "| 1 | 1966-02-01 | Martin, William M. | 4.42 | 4 | 4201.891 | 4 | 31.88 | 63.5 | 40.26076 | 1 | 33 | 1 |\n",
       "\n"
      ],
      "text/plain": [
       "  Date       Chairman           PreviousRate Streak GDP      Unemployment CPI  \n",
       "1 1966-02-01 Martin, William M. 4.42         4      4201.891 4            31.88\n",
       "  HomeownershipRate DebtAsPctGDP DemocraticPres MonthsUntilElection\n",
       "1 63.5              40.26076     1              33                 \n",
       "  RaisedFedFunds\n",
       "1 1             "
      ]
     },
     "metadata": {},
     "output_type": "display_data"
    }
   ],
   "source": [
    "single = train[1,]\n",
    "single"
   ]
  },
  {
   "cell_type": "code",
   "execution_count": 26,
   "metadata": {},
   "outputs": [],
   "source": [
    "single$Streak = -3\n",
    "single$PreviousRate = 1.7\n",
    "single$Unemployment = 5.1\n",
    "single$HomeownershipRate = 65.3\n",
    "single$DemocraticPres = 0\n",
    "single$DemocraticPres = as.factor(single$DemocraticPres)\n",
    "single$MonthsUntilElection = 18"
   ]
  },
  {
   "cell_type": "code",
   "execution_count": 27,
   "metadata": {},
   "outputs": [
    {
     "data": {
      "text/html": [
       "<table>\n",
       "<caption>A matrix: 1 × 2 of type dbl</caption>\n",
       "<thead>\n",
       "\t<tr><th></th><th scope=col>0</th><th scope=col>1</th></tr>\n",
       "</thead>\n",
       "<tbody>\n",
       "\t<tr><th scope=row>1</th><td>0.6166667</td><td>0.3833333</td></tr>\n",
       "</tbody>\n",
       "</table>\n"
      ],
      "text/latex": [
       "A matrix: 1 × 2 of type dbl\n",
       "\\begin{tabular}{r|ll}\n",
       "  & 0 & 1\\\\\n",
       "\\hline\n",
       "\t1 & 0.6166667 & 0.3833333\\\\\n",
       "\\end{tabular}\n"
      ],
      "text/markdown": [
       "\n",
       "A matrix: 1 × 2 of type dbl\n",
       "\n",
       "| <!--/--> | 0 | 1 |\n",
       "|---|---|---|\n",
       "| 1 | 0.6166667 | 0.3833333 |\n",
       "\n"
      ],
      "text/plain": [
       "  0         1        \n",
       "1 0.6166667 0.3833333"
      ]
     },
     "metadata": {},
     "output_type": "display_data"
    }
   ],
   "source": [
    "# Predicting with CART Model\n",
    "predCVSingle = predict(tree, newdata = single, type='prob')\n",
    "predCVSingle"
   ]
  },
  {
   "cell_type": "markdown",
   "metadata": {},
   "source": [
    "Answer: **38.33%**."
   ]
  },
  {
   "cell_type": "markdown",
   "metadata": {},
   "source": [
    "### Problem 17 - Test-Set Accuracy for CART Model\n",
    "Using the CART model you created in Problem 15, obtain predictions on the test set (using the parameter type=\"class\" with the predict function). Then, create a confusion matrix for the test set.\n",
    "\n",
    "**What is the accuracy of your CART model?**"
   ]
  },
  {
   "cell_type": "code",
   "execution_count": 28,
   "metadata": {},
   "outputs": [
    {
     "data": {
      "text/plain": [
       "   predCV\n",
       "     0  1\n",
       "  0 79  8\n",
       "  1 52 36"
      ]
     },
     "metadata": {},
     "output_type": "display_data"
    }
   ],
   "source": [
    "# Make Predictions with Cross-Validation Tree\n",
    "predCV = predict(tree, newdata = test, type='class')\n",
    "\n",
    "# Confusion Matrix\n",
    "cmCV = table(test$RaisedFedFunds, predCV)\n",
    "cmCV"
   ]
  },
  {
   "cell_type": "code",
   "execution_count": 29,
   "metadata": {},
   "outputs": [
    {
     "data": {
      "text/html": [
       "'Accuracy Cross-Validation Tree: 0.6571'"
      ],
      "text/latex": [
       "'Accuracy Cross-Validation Tree: 0.6571'"
      ],
      "text/markdown": [
       "'Accuracy Cross-Validation Tree: 0.6571'"
      ],
      "text/plain": [
       "[1] \"Accuracy Cross-Validation Tree: 0.6571\""
      ]
     },
     "metadata": {},
     "output_type": "display_data"
    }
   ],
   "source": [
    "# Compute Cross-Validation Tree Accuracy\n",
    "accurCV = sum(diag(cmCV))/sum(cmCV)\n",
    "paste(\"Accuracy Cross-Validation Tree:\", round(accurCV,digits=4))"
   ]
  },
  {
   "cell_type": "markdown",
   "metadata": {},
   "source": [
    "### Comparison between models"
   ]
  },
  {
   "cell_type": "code",
   "execution_count": 30,
   "metadata": {},
   "outputs": [
    {
     "data": {
      "text/html": [
       "'Accuracy Baseline: 0.5029'"
      ],
      "text/latex": [
       "'Accuracy Baseline: 0.5029'"
      ],
      "text/markdown": [
       "'Accuracy Baseline: 0.5029'"
      ],
      "text/plain": [
       "[1] \"Accuracy Baseline: 0.5029\""
      ]
     },
     "metadata": {},
     "output_type": "display_data"
    },
    {
     "data": {
      "text/html": [
       "'Accuracy Logistic Regression: 0.6686'"
      ],
      "text/latex": [
       "'Accuracy Logistic Regression: 0.6686'"
      ],
      "text/markdown": [
       "'Accuracy Logistic Regression: 0.6686'"
      ],
      "text/plain": [
       "[1] \"Accuracy Logistic Regression: 0.6686\""
      ]
     },
     "metadata": {},
     "output_type": "display_data"
    },
    {
     "data": {
      "text/html": [
       "'Accuracy Cross-Validation Tree: 0.6571'"
      ],
      "text/latex": [
       "'Accuracy Cross-Validation Tree: 0.6571'"
      ],
      "text/markdown": [
       "'Accuracy Cross-Validation Tree: 0.6571'"
      ],
      "text/plain": [
       "[1] \"Accuracy Cross-Validation Tree: 0.6571\""
      ]
     },
     "metadata": {},
     "output_type": "display_data"
    }
   ],
   "source": [
    "paste(\"Accuracy Baseline:\", round(accurBl,digits=4))\n",
    "\n",
    "paste(\"Accuracy Logistic Regression:\", round(accurLR,digits=4))\n",
    "\n",
    "paste(\"Accuracy Cross-Validation Tree:\", round(accurCV,digits=4))"
   ]
  }
 ],
 "metadata": {
  "kernelspec": {
   "display_name": "R",
   "language": "R",
   "name": "ir"
  },
  "language_info": {
   "codemirror_mode": "r",
   "file_extension": ".r",
   "mimetype": "text/x-r-source",
   "name": "R",
   "pygments_lexer": "r",
   "version": "3.6.3"
  }
 },
 "nbformat": 4,
 "nbformat_minor": 4
}
