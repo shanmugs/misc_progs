{
 "cells": [
  {
   "cell_type": "markdown",
   "metadata": {},
   "source": [
    "# Estimating AirBnB Prices"
   ]
  },
  {
   "cell_type": "markdown",
   "metadata": {},
   "source": [
    "<img src=\"images/airbnb.jpg\"/>"
   ]
  },
  {
   "cell_type": "markdown",
   "metadata": {},
   "source": [
    "## Background Information on the Dataset\n",
    "\n",
    "AirBnB is an online marketplace that allows members to offer or arrange lodging (primarily homestays) or tourism experiences. There are millions of listings across in cities across the world, such as London, Paris, and New York. In this problem, we would like to understand the factors that influence the price of a listing.\n",
    "\n",
    "To derive insights and answer these questions, we take a look at listing data released by AirBnB (downloaded in September 2018 from http://insideairbnb.com/get-the-data.html). We specifically focus on apartments listed in six representative neighborhoods of Boston, MA. Our data has a total of 12 columns and 1693 observations, split across a training set (1187 observations) and a test set (506 observations). Each observation corresponds to a different listing.\n",
    "\n",
    "    Training data: airbnb-train.csv \n",
    "\n",
    "    Test data: airbnb-test.csv"
   ]
  },
  {
   "cell_type": "markdown",
   "metadata": {},
   "source": [
    "### Here is a detailed description of the variables:\n",
    "\n",
    "    id: A number that uniquely identifies the listing.\n",
    "\n",
    "    host_is_superhost: Whether a host is a “superhost,” meaning they satisfy AirBnB’s criteria for high-quality listings, high response rate, and reliability.\n",
    "\n",
    "    host_identity_verified: Whether the host has verified their identity with AirBnB, which is intended to promote trust between hosts and guests. neighborhood: The neighborhood that the listing is located in (Allston, Back Bay, Beacon Hill, Brighton Downtown, or South End).\n",
    "\n",
    "    room_type: The type of room provided in the listing (Entire home/apt, Private room, or Shared room).\n",
    "\n",
    "    accommodates: The number of people that the listing can accommodate.\n",
    "    \n",
    "    bathrooms: The number of bathrooms in the listing.\n",
    "\n",
    "    bedrooms: The number of bedrooms in the listing.\n",
    "\n",
    "    beds: The number of beds in the listing. price: The price to stay in the listing for one night.\n",
    "\n",
    "    logprice: The natural logarithm of the price variable.\n",
    "\n",
    "    logacc: The natural logarithm of the accommodates variable."
   ]
  },
  {
   "cell_type": "markdown",
   "metadata": {},
   "source": [
    "### Exploratory Data Analysis\n",
    "Load *airbnb-train.csv* into a data frame called train."
   ]
  },
  {
   "cell_type": "code",
   "execution_count": 1,
   "metadata": {},
   "outputs": [
    {
     "data": {
      "text/html": [
       "<table>\n",
       "<caption>A data.frame: 6 × 12</caption>\n",
       "<thead>\n",
       "\t<tr><th></th><th scope=col>id</th><th scope=col>host_is_superhost</th><th scope=col>host_identity_verified</th><th scope=col>neighborhood</th><th scope=col>room_type</th><th scope=col>accommodates</th><th scope=col>bathrooms</th><th scope=col>bedrooms</th><th scope=col>beds</th><th scope=col>price</th><th scope=col>logprice</th><th scope=col>logacc</th></tr>\n",
       "\t<tr><th></th><th scope=col>&lt;int&gt;</th><th scope=col>&lt;int&gt;</th><th scope=col>&lt;int&gt;</th><th scope=col>&lt;fct&gt;</th><th scope=col>&lt;fct&gt;</th><th scope=col>&lt;int&gt;</th><th scope=col>&lt;dbl&gt;</th><th scope=col>&lt;int&gt;</th><th scope=col>&lt;int&gt;</th><th scope=col>&lt;int&gt;</th><th scope=col>&lt;dbl&gt;</th><th scope=col>&lt;dbl&gt;</th></tr>\n",
       "</thead>\n",
       "<tbody>\n",
       "\t<tr><th scope=row>1</th><td> 8792</td><td>0</td><td>0</td><td>Downtown</td><td>Entirehome/apt</td><td>2</td><td>1</td><td>1</td><td>1</td><td>154</td><td>5.036953</td><td>0.6931472</td></tr>\n",
       "\t<tr><th scope=row>2</th><td>10810</td><td>0</td><td>0</td><td>Allston </td><td>Entirehome/apt</td><td>5</td><td>1</td><td>2</td><td>4</td><td>250</td><td>5.521461</td><td>1.6094379</td></tr>\n",
       "\t<tr><th scope=row>3</th><td>10811</td><td>0</td><td>0</td><td>BackBay </td><td>Entirehome/apt</td><td>3</td><td>1</td><td>0</td><td>2</td><td>189</td><td>5.241747</td><td>1.0986123</td></tr>\n",
       "\t<tr><th scope=row>4</th><td>22212</td><td>0</td><td>1</td><td>BackBay </td><td>Entirehome/apt</td><td>4</td><td>1</td><td>2</td><td>2</td><td>285</td><td>5.652489</td><td>1.3862944</td></tr>\n",
       "\t<tr><th scope=row>5</th><td>28150</td><td>0</td><td>1</td><td>BackBay </td><td>Entirehome/apt</td><td>2</td><td>1</td><td>1</td><td>1</td><td>184</td><td>5.214936</td><td>0.6931472</td></tr>\n",
       "\t<tr><th scope=row>6</th><td>47722</td><td>0</td><td>1</td><td>BackBay </td><td>Privateroom   </td><td>2</td><td>1</td><td>1</td><td>1</td><td>479</td><td>6.171701</td><td>0.6931472</td></tr>\n",
       "</tbody>\n",
       "</table>\n"
      ],
      "text/latex": [
       "A data.frame: 6 × 12\n",
       "\\begin{tabular}{r|llllllllllll}\n",
       "  & id & host\\_is\\_superhost & host\\_identity\\_verified & neighborhood & room\\_type & accommodates & bathrooms & bedrooms & beds & price & logprice & logacc\\\\\n",
       "  & <int> & <int> & <int> & <fct> & <fct> & <int> & <dbl> & <int> & <int> & <int> & <dbl> & <dbl>\\\\\n",
       "\\hline\n",
       "\t1 &  8792 & 0 & 0 & Downtown & Entirehome/apt & 2 & 1 & 1 & 1 & 154 & 5.036953 & 0.6931472\\\\\n",
       "\t2 & 10810 & 0 & 0 & Allston  & Entirehome/apt & 5 & 1 & 2 & 4 & 250 & 5.521461 & 1.6094379\\\\\n",
       "\t3 & 10811 & 0 & 0 & BackBay  & Entirehome/apt & 3 & 1 & 0 & 2 & 189 & 5.241747 & 1.0986123\\\\\n",
       "\t4 & 22212 & 0 & 1 & BackBay  & Entirehome/apt & 4 & 1 & 2 & 2 & 285 & 5.652489 & 1.3862944\\\\\n",
       "\t5 & 28150 & 0 & 1 & BackBay  & Entirehome/apt & 2 & 1 & 1 & 1 & 184 & 5.214936 & 0.6931472\\\\\n",
       "\t6 & 47722 & 0 & 1 & BackBay  & Privateroom    & 2 & 1 & 1 & 1 & 479 & 6.171701 & 0.6931472\\\\\n",
       "\\end{tabular}\n"
      ],
      "text/markdown": [
       "\n",
       "A data.frame: 6 × 12\n",
       "\n",
       "| <!--/--> | id &lt;int&gt; | host_is_superhost &lt;int&gt; | host_identity_verified &lt;int&gt; | neighborhood &lt;fct&gt; | room_type &lt;fct&gt; | accommodates &lt;int&gt; | bathrooms &lt;dbl&gt; | bedrooms &lt;int&gt; | beds &lt;int&gt; | price &lt;int&gt; | logprice &lt;dbl&gt; | logacc &lt;dbl&gt; |\n",
       "|---|---|---|---|---|---|---|---|---|---|---|---|---|\n",
       "| 1 |  8792 | 0 | 0 | Downtown | Entirehome/apt | 2 | 1 | 1 | 1 | 154 | 5.036953 | 0.6931472 |\n",
       "| 2 | 10810 | 0 | 0 | Allston  | Entirehome/apt | 5 | 1 | 2 | 4 | 250 | 5.521461 | 1.6094379 |\n",
       "| 3 | 10811 | 0 | 0 | BackBay  | Entirehome/apt | 3 | 1 | 0 | 2 | 189 | 5.241747 | 1.0986123 |\n",
       "| 4 | 22212 | 0 | 1 | BackBay  | Entirehome/apt | 4 | 1 | 2 | 2 | 285 | 5.652489 | 1.3862944 |\n",
       "| 5 | 28150 | 0 | 1 | BackBay  | Entirehome/apt | 2 | 1 | 1 | 1 | 184 | 5.214936 | 0.6931472 |\n",
       "| 6 | 47722 | 0 | 1 | BackBay  | Privateroom    | 2 | 1 | 1 | 1 | 479 | 6.171701 | 0.6931472 |\n",
       "\n"
      ],
      "text/plain": [
       "  id    host_is_superhost host_identity_verified neighborhood room_type     \n",
       "1  8792 0                 0                      Downtown     Entirehome/apt\n",
       "2 10810 0                 0                      Allston      Entirehome/apt\n",
       "3 10811 0                 0                      BackBay      Entirehome/apt\n",
       "4 22212 0                 1                      BackBay      Entirehome/apt\n",
       "5 28150 0                 1                      BackBay      Entirehome/apt\n",
       "6 47722 0                 1                      BackBay      Privateroom   \n",
       "  accommodates bathrooms bedrooms beds price logprice logacc   \n",
       "1 2            1         1        1    154   5.036953 0.6931472\n",
       "2 5            1         2        4    250   5.521461 1.6094379\n",
       "3 3            1         0        2    189   5.241747 1.0986123\n",
       "4 4            1         2        2    285   5.652489 1.3862944\n",
       "5 2            1         1        1    184   5.214936 0.6931472\n",
       "6 2            1         1        1    479   6.171701 0.6931472"
      ]
     },
     "metadata": {},
     "output_type": "display_data"
    }
   ],
   "source": [
    "# Read in the  training dataset\n",
    "\n",
    "train = read.csv(\"data/airbnb-train.csv\")\n",
    "\n",
    "head(train)"
   ]
  },
  {
   "cell_type": "code",
   "execution_count": 2,
   "metadata": {},
   "outputs": [
    {
     "name": "stdout",
     "output_type": "stream",
     "text": [
      "'data.frame':\t1187 obs. of  12 variables:\n",
      " $ id                    : int  8792 10810 10811 22212 28150 47722 60356 170715 307571 311240 ...\n",
      " $ host_is_superhost     : int  0 0 0 0 0 0 0 0 0 0 ...\n",
      " $ host_identity_verified: int  0 0 0 1 1 1 0 0 0 1 ...\n",
      " $ neighborhood          : Factor w/ 6 levels \"Allston\",\"BackBay\",..: 5 1 2 2 2 2 5 2 3 2 ...\n",
      " $ room_type             : Factor w/ 3 levels \"Entirehome/apt\",..: 1 1 1 1 1 2 1 1 1 1 ...\n",
      " $ accommodates          : int  2 5 3 4 2 2 2 4 2 2 ...\n",
      " $ bathrooms             : num  1 1 1 1 1 1 1 1 1 1 ...\n",
      " $ bedrooms              : int  1 2 0 2 1 1 1 1 1 0 ...\n",
      " $ beds                  : int  1 4 2 2 1 1 1 2 1 1 ...\n",
      " $ price                 : int  154 250 189 285 184 479 175 200 150 185 ...\n",
      " $ logprice              : num  5.04 5.52 5.24 5.65 5.21 ...\n",
      " $ logacc                : num  0.693 1.609 1.099 1.386 0.693 ...\n"
     ]
    }
   ],
   "source": [
    "str(train)"
   ]
  },
  {
   "cell_type": "markdown",
   "metadata": {},
   "source": [
    "**How many rows are in the training dataset?**"
   ]
  },
  {
   "cell_type": "code",
   "execution_count": 3,
   "metadata": {},
   "outputs": [
    {
     "data": {
      "text/html": [
       "1187"
      ],
      "text/latex": [
       "1187"
      ],
      "text/markdown": [
       "1187"
      ],
      "text/plain": [
       "[1] 1187"
      ]
     },
     "metadata": {},
     "output_type": "display_data"
    }
   ],
   "source": [
    "# Calculate the number of rows in the training dataset\n",
    "nrow(train)"
   ]
  },
  {
   "cell_type": "markdown",
   "metadata": {},
   "source": [
    "**What is the mean price in the training dataset?**"
   ]
  },
  {
   "cell_type": "code",
   "execution_count": 4,
   "metadata": {},
   "outputs": [
    {
     "data": {
      "text/html": [
       "212.09"
      ],
      "text/latex": [
       "212.09"
      ],
      "text/markdown": [
       "212.09"
      ],
      "text/plain": [
       "[1] 212.09"
      ]
     },
     "metadata": {},
     "output_type": "display_data"
    }
   ],
   "source": [
    "# Find the mean price in the training set\n",
    "mtp = mean(train$price)\n",
    "round(mtp,2)"
   ]
  },
  {
   "cell_type": "markdown",
   "metadata": {},
   "source": [
    "**What is the maximum price in the training dataset?**"
   ]
  },
  {
   "cell_type": "code",
   "execution_count": 5,
   "metadata": {},
   "outputs": [
    {
     "data": {
      "text/html": [
       "999"
      ],
      "text/latex": [
       "999"
      ],
      "text/markdown": [
       "999"
      ],
      "text/plain": [
       "[1] 999"
      ]
     },
     "metadata": {},
     "output_type": "display_data"
    }
   ],
   "source": [
    "# Find the max price in the training set\n",
    "maxp = max(train$price)\n",
    "round(maxp,2)"
   ]
  },
  {
   "cell_type": "markdown",
   "metadata": {},
   "source": [
    "**What is the neighborhood with the highest number of listings in the training dataset?**"
   ]
  },
  {
   "cell_type": "code",
   "execution_count": 6,
   "metadata": {},
   "outputs": [
    {
     "data": {
      "text/plain": [
       "\n",
       "   Allston    BackBay BeaconHill   Brighton   Downtown   SouthEnd \n",
       "       176        279        155        135        208        234 "
      ]
     },
     "metadata": {},
     "output_type": "display_data"
    }
   ],
   "source": [
    "# Tabulate the number of listings for each neighborhood\n",
    "table(train$neighborhood)"
   ]
  },
  {
   "cell_type": "code",
   "execution_count": 7,
   "metadata": {},
   "outputs": [
    {
     "data": {
      "text/html": [
       "279"
      ],
      "text/latex": [
       "279"
      ],
      "text/markdown": [
       "279"
      ],
      "text/plain": [
       "[1] 279"
      ]
     },
     "metadata": {},
     "output_type": "display_data"
    }
   ],
   "source": [
    "max(table(train$neighborhood))"
   ]
  },
  {
   "cell_type": "markdown",
   "metadata": {},
   "source": [
    "Answer: BackBay."
   ]
  },
  {
   "cell_type": "markdown",
   "metadata": {},
   "source": [
    "**What is the neighborhood with the highest average price in the training dataset?**"
   ]
  },
  {
   "cell_type": "code",
   "execution_count": 8,
   "metadata": {},
   "outputs": [
    {
     "data": {
      "text/html": [
       "<style>\n",
       ".dl-inline {width: auto; margin:0; padding: 0}\n",
       ".dl-inline>dt, .dl-inline>dd {float: none; width: auto; display: inline-block}\n",
       ".dl-inline>dt::after {content: \":\\0020\"; padding-right: .5ex}\n",
       ".dl-inline>dt:not(:first-of-type) {padding-left: .5ex}\n",
       "</style><dl class=dl-inline><dt>Allston</dt><dd>142.732954545455</dd><dt>BackBay</dt><dd>248.569892473118</dd><dt>BeaconHill</dt><dd>187.290322580645</dd><dt>Brighton</dt><dd>113.844444444444</dd><dt>Downtown</dt><dd>289.466346153846</dd><dt>SouthEnd</dt><dd>225.07264957265</dd></dl>\n"
      ],
      "text/latex": [
       "\\begin{description*}\n",
       "\\item[Allston] 142.732954545455\n",
       "\\item[BackBay] 248.569892473118\n",
       "\\item[BeaconHill] 187.290322580645\n",
       "\\item[Brighton] 113.844444444444\n",
       "\\item[Downtown] 289.466346153846\n",
       "\\item[SouthEnd] 225.07264957265\n",
       "\\end{description*}\n"
      ],
      "text/markdown": [
       "Allston\n",
       ":   142.732954545455BackBay\n",
       ":   248.569892473118BeaconHill\n",
       ":   187.290322580645Brighton\n",
       ":   113.844444444444Downtown\n",
       ":   289.466346153846SouthEnd\n",
       ":   225.07264957265\n",
       "\n"
      ],
      "text/plain": [
       "   Allston    BackBay BeaconHill   Brighton   Downtown   SouthEnd \n",
       "  142.7330   248.5699   187.2903   113.8444   289.4663   225.0726 "
      ]
     },
     "metadata": {},
     "output_type": "display_data"
    }
   ],
   "source": [
    "# Tabulate the neighborhood with the highest average price in the training dataset\n",
    "tapply(train$price, train$neighborhood, mean)"
   ]
  },
  {
   "cell_type": "markdown",
   "metadata": {},
   "source": [
    "Answer: Downtown."
   ]
  },
  {
   "cell_type": "markdown",
   "metadata": {},
   "source": [
    "### Simple Linear Regression\n",
    "For the rest of this problem, we will be working with log(price) and log(accommodates), which helps us manage the outliers with excessively large prices and accommodations. The values of log(price) and log(accommodates) are found in the columns logprice and logacc, respectively.\n",
    "\n",
    "Load *airbnb-test.csv* into a data frame called test."
   ]
  },
  {
   "cell_type": "code",
   "execution_count": 9,
   "metadata": {},
   "outputs": [
    {
     "data": {
      "text/html": [
       "<table>\n",
       "<caption>A data.frame: 6 × 12</caption>\n",
       "<thead>\n",
       "\t<tr><th></th><th scope=col>id</th><th scope=col>host_is_superhost</th><th scope=col>host_identity_verified</th><th scope=col>neighborhood</th><th scope=col>room_type</th><th scope=col>accommodates</th><th scope=col>bathrooms</th><th scope=col>bedrooms</th><th scope=col>beds</th><th scope=col>price</th><th scope=col>logprice</th><th scope=col>logacc</th></tr>\n",
       "\t<tr><th></th><th scope=col>&lt;int&gt;</th><th scope=col>&lt;int&gt;</th><th scope=col>&lt;int&gt;</th><th scope=col>&lt;fct&gt;</th><th scope=col>&lt;fct&gt;</th><th scope=col>&lt;int&gt;</th><th scope=col>&lt;dbl&gt;</th><th scope=col>&lt;int&gt;</th><th scope=col>&lt;int&gt;</th><th scope=col>&lt;int&gt;</th><th scope=col>&lt;dbl&gt;</th><th scope=col>&lt;dbl&gt;</th></tr>\n",
       "</thead>\n",
       "<tbody>\n",
       "\t<tr><th scope=row>1</th><td>  8789</td><td>0</td><td>0</td><td>Downtown</td><td>Entirehome/apt</td><td>2</td><td>1</td><td>1</td><td>1</td><td> 99</td><td>4.595120</td><td>0.6931472</td></tr>\n",
       "\t<tr><th scope=row>2</th><td> 10809</td><td>0</td><td>0</td><td>Allston </td><td>Privateroom   </td><td>4</td><td>0</td><td>1</td><td>2</td><td>100</td><td>4.605170</td><td>1.3862944</td></tr>\n",
       "\t<tr><th scope=row>3</th><td> 10813</td><td>0</td><td>0</td><td>BackBay </td><td>Entirehome/apt</td><td>3</td><td>1</td><td>0</td><td>1</td><td>190</td><td>5.247024</td><td>1.0986123</td></tr>\n",
       "\t<tr><th scope=row>4</th><td> 95453</td><td>1</td><td>0</td><td>Allston </td><td>Entirehome/apt</td><td>2</td><td>1</td><td>1</td><td>1</td><td>175</td><td>5.164786</td><td>0.6931472</td></tr>\n",
       "\t<tr><th scope=row>5</th><td>217498</td><td>1</td><td>1</td><td>Brighton</td><td>Privateroom   </td><td>2</td><td>1</td><td>1</td><td>1</td><td> 99</td><td>4.595120</td><td>0.6931472</td></tr>\n",
       "\t<tr><th scope=row>6</th><td>318050</td><td>1</td><td>1</td><td>SouthEnd</td><td>Privateroom   </td><td>2</td><td>1</td><td>1</td><td>1</td><td> 99</td><td>4.595120</td><td>0.6931472</td></tr>\n",
       "</tbody>\n",
       "</table>\n"
      ],
      "text/latex": [
       "A data.frame: 6 × 12\n",
       "\\begin{tabular}{r|llllllllllll}\n",
       "  & id & host\\_is\\_superhost & host\\_identity\\_verified & neighborhood & room\\_type & accommodates & bathrooms & bedrooms & beds & price & logprice & logacc\\\\\n",
       "  & <int> & <int> & <int> & <fct> & <fct> & <int> & <dbl> & <int> & <int> & <int> & <dbl> & <dbl>\\\\\n",
       "\\hline\n",
       "\t1 &   8789 & 0 & 0 & Downtown & Entirehome/apt & 2 & 1 & 1 & 1 &  99 & 4.595120 & 0.6931472\\\\\n",
       "\t2 &  10809 & 0 & 0 & Allston  & Privateroom    & 4 & 0 & 1 & 2 & 100 & 4.605170 & 1.3862944\\\\\n",
       "\t3 &  10813 & 0 & 0 & BackBay  & Entirehome/apt & 3 & 1 & 0 & 1 & 190 & 5.247024 & 1.0986123\\\\\n",
       "\t4 &  95453 & 1 & 0 & Allston  & Entirehome/apt & 2 & 1 & 1 & 1 & 175 & 5.164786 & 0.6931472\\\\\n",
       "\t5 & 217498 & 1 & 1 & Brighton & Privateroom    & 2 & 1 & 1 & 1 &  99 & 4.595120 & 0.6931472\\\\\n",
       "\t6 & 318050 & 1 & 1 & SouthEnd & Privateroom    & 2 & 1 & 1 & 1 &  99 & 4.595120 & 0.6931472\\\\\n",
       "\\end{tabular}\n"
      ],
      "text/markdown": [
       "\n",
       "A data.frame: 6 × 12\n",
       "\n",
       "| <!--/--> | id &lt;int&gt; | host_is_superhost &lt;int&gt; | host_identity_verified &lt;int&gt; | neighborhood &lt;fct&gt; | room_type &lt;fct&gt; | accommodates &lt;int&gt; | bathrooms &lt;dbl&gt; | bedrooms &lt;int&gt; | beds &lt;int&gt; | price &lt;int&gt; | logprice &lt;dbl&gt; | logacc &lt;dbl&gt; |\n",
       "|---|---|---|---|---|---|---|---|---|---|---|---|---|\n",
       "| 1 |   8789 | 0 | 0 | Downtown | Entirehome/apt | 2 | 1 | 1 | 1 |  99 | 4.595120 | 0.6931472 |\n",
       "| 2 |  10809 | 0 | 0 | Allston  | Privateroom    | 4 | 0 | 1 | 2 | 100 | 4.605170 | 1.3862944 |\n",
       "| 3 |  10813 | 0 | 0 | BackBay  | Entirehome/apt | 3 | 1 | 0 | 1 | 190 | 5.247024 | 1.0986123 |\n",
       "| 4 |  95453 | 1 | 0 | Allston  | Entirehome/apt | 2 | 1 | 1 | 1 | 175 | 5.164786 | 0.6931472 |\n",
       "| 5 | 217498 | 1 | 1 | Brighton | Privateroom    | 2 | 1 | 1 | 1 |  99 | 4.595120 | 0.6931472 |\n",
       "| 6 | 318050 | 1 | 1 | SouthEnd | Privateroom    | 2 | 1 | 1 | 1 |  99 | 4.595120 | 0.6931472 |\n",
       "\n"
      ],
      "text/plain": [
       "  id     host_is_superhost host_identity_verified neighborhood room_type     \n",
       "1   8789 0                 0                      Downtown     Entirehome/apt\n",
       "2  10809 0                 0                      Allston      Privateroom   \n",
       "3  10813 0                 0                      BackBay      Entirehome/apt\n",
       "4  95453 1                 0                      Allston      Entirehome/apt\n",
       "5 217498 1                 1                      Brighton     Privateroom   \n",
       "6 318050 1                 1                      SouthEnd     Privateroom   \n",
       "  accommodates bathrooms bedrooms beds price logprice logacc   \n",
       "1 2            1         1        1     99   4.595120 0.6931472\n",
       "2 4            0         1        2    100   4.605170 1.3862944\n",
       "3 3            1         0        1    190   5.247024 1.0986123\n",
       "4 2            1         1        1    175   5.164786 0.6931472\n",
       "5 2            1         1        1     99   4.595120 0.6931472\n",
       "6 2            1         1        1     99   4.595120 0.6931472"
      ]
     },
     "metadata": {},
     "output_type": "display_data"
    }
   ],
   "source": [
    "# Load testing dataset\n",
    "test = read.csv(\"data/airbnb-test.csv\")\n",
    "\n",
    "head(test)"
   ]
  },
  {
   "cell_type": "code",
   "execution_count": 10,
   "metadata": {},
   "outputs": [
    {
     "name": "stdout",
     "output_type": "stream",
     "text": [
      "'data.frame':\t506 obs. of  12 variables:\n",
      " $ id                    : int  8789 10809 10813 95453 217498 318050 851927 1055627 1214214 1860279 ...\n",
      " $ host_is_superhost     : int  0 0 0 1 1 1 1 0 0 0 ...\n",
      " $ host_identity_verified: int  0 0 0 0 1 1 1 0 1 1 ...\n",
      " $ neighborhood          : Factor w/ 6 levels \"Allston\",\"BackBay\",..: 5 1 2 1 4 6 6 3 6 2 ...\n",
      " $ room_type             : Factor w/ 3 levels \"Entirehome/apt\",..: 1 2 1 1 2 2 1 1 1 1 ...\n",
      " $ accommodates          : int  2 4 3 2 2 2 1 3 3 2 ...\n",
      " $ bathrooms             : num  1 0 1 1 1 1 1 1 2 1 ...\n",
      " $ bedrooms              : int  1 1 0 1 1 1 1 1 2 1 ...\n",
      " $ beds                  : int  1 2 1 1 1 1 1 1 2 1 ...\n",
      " $ price                 : int  99 100 190 175 99 99 150 125 450 285 ...\n",
      " $ logprice              : num  4.6 4.61 5.25 5.16 4.6 ...\n",
      " $ logacc                : num  0.693 1.386 1.099 0.693 0.693 ...\n"
     ]
    }
   ],
   "source": [
    "str(test)"
   ]
  },
  {
   "cell_type": "markdown",
   "metadata": {},
   "source": [
    "**What is our “baseline” linear regression model?**"
   ]
  },
  {
   "cell_type": "markdown",
   "metadata": {},
   "source": [
    "Answer: Our baseline model is the mean log(price) of the training set."
   ]
  },
  {
   "cell_type": "markdown",
   "metadata": {},
   "source": [
    "**What is the value of log(price) that our baseline model predicts?**"
   ]
  },
  {
   "cell_type": "code",
   "execution_count": 11,
   "metadata": {},
   "outputs": [
    {
     "data": {
      "text/html": [
       "5.1581"
      ],
      "text/latex": [
       "5.1581"
      ],
      "text/markdown": [
       "5.1581"
      ],
      "text/plain": [
       "[1] 5.1581"
      ]
     },
     "metadata": {},
     "output_type": "display_data"
    }
   ],
   "source": [
    "# Baseline model prediction\n",
    "baseline = mean(train$logprice)\n",
    "round(baseline,4)"
   ]
  },
  {
   "cell_type": "markdown",
   "metadata": {},
   "source": [
    "**What is the correlation between log(price) and log(accommodates) in the training set?**"
   ]
  },
  {
   "cell_type": "code",
   "execution_count": 12,
   "metadata": {},
   "outputs": [
    {
     "data": {
      "text/html": [
       "0.5366"
      ],
      "text/latex": [
       "0.5366"
      ],
      "text/markdown": [
       "0.5366"
      ],
      "text/plain": [
       "[1] 0.5366"
      ]
     },
     "metadata": {},
     "output_type": "display_data"
    }
   ],
   "source": [
    "# Compute the correlation between log(price) and log(accomodates)\n",
    "round(cor(train$logacc, train$logprice),4)"
   ]
  },
  {
   "cell_type": "markdown",
   "metadata": {},
   "source": [
    "### Create a linear model that predicts log(price) using log(accommodates). \n",
    "**What is the coefficient of log(accommodates)?**"
   ]
  },
  {
   "cell_type": "code",
   "execution_count": 13,
   "metadata": {},
   "outputs": [
    {
     "data": {
      "text/plain": [
       "\n",
       "Call:\n",
       "lm(formula = logprice ~ logacc, data = train)\n",
       "\n",
       "Residuals:\n",
       "    Min      1Q  Median      3Q     Max \n",
       "-3.3773 -0.3531  0.0431  0.3902  2.1317 \n",
       "\n",
       "Coefficients:\n",
       "            Estimate Std. Error t value Pr(>|t|)    \n",
       "(Intercept)  4.41943    0.03738  118.22   <2e-16 ***\n",
       "logacc       0.70348    0.03213   21.89   <2e-16 ***\n",
       "---\n",
       "Signif. codes:  0 '***' 0.001 '**' 0.01 '*' 0.05 '.' 0.1 ' ' 1\n",
       "\n",
       "Residual standard error: 0.5544 on 1185 degrees of freedom\n",
       "Multiple R-squared:  0.288,\tAdjusted R-squared:  0.2874 \n",
       "F-statistic: 479.3 on 1 and 1185 DF,  p-value: < 2.2e-16\n"
      ]
     },
     "metadata": {},
     "output_type": "display_data"
    }
   ],
   "source": [
    "# Linear Regression Model with logacc\n",
    "lreg1 = lm(logprice ~ logacc, data = train)\n",
    "\n",
    "# Summary of Linear Regression Model\n",
    "summary(lreg1)"
   ]
  },
  {
   "cell_type": "markdown",
   "metadata": {},
   "source": [
    "Answer: 0.70348 is the coefficient of log(accommodates)."
   ]
  },
  {
   "cell_type": "markdown",
   "metadata": {},
   "source": [
    "### What is the R2 on the test set?"
   ]
  },
  {
   "cell_type": "code",
   "execution_count": 14,
   "metadata": {},
   "outputs": [],
   "source": [
    "# Make predictions using the Linear Regression Model on the test set\n",
    "predTest = predict(lreg1, newdata = test)"
   ]
  },
  {
   "cell_type": "code",
   "execution_count": 15,
   "metadata": {},
   "outputs": [
    {
     "data": {
      "text/html": [
       "148.364818111828"
      ],
      "text/latex": [
       "148.364818111828"
      ],
      "text/markdown": [
       "148.364818111828"
      ],
      "text/plain": [
       "[1] 148.3648"
      ]
     },
     "metadata": {},
     "output_type": "display_data"
    }
   ],
   "source": [
    "# SSE\n",
    "SSE = sum((predTest - test$logprice)^2)\n",
    "SSE"
   ]
  },
  {
   "cell_type": "code",
   "execution_count": 16,
   "metadata": {},
   "outputs": [
    {
     "data": {
      "text/html": [
       "0.541489707185467"
      ],
      "text/latex": [
       "0.541489707185467"
      ],
      "text/markdown": [
       "0.541489707185467"
      ],
      "text/plain": [
       "[1] 0.5414897"
      ]
     },
     "metadata": {},
     "output_type": "display_data"
    }
   ],
   "source": [
    "# RMSE\n",
    "RMSE = sqrt(mean((predTest - test$logprice)^2))\n",
    "RMSE"
   ]
  },
  {
   "cell_type": "code",
   "execution_count": 17,
   "metadata": {},
   "outputs": [
    {
     "data": {
      "text/html": [
       "5.1581131775666"
      ],
      "text/latex": [
       "5.1581131775666"
      ],
      "text/markdown": [
       "5.1581131775666"
      ],
      "text/plain": [
       "[1] 5.158113"
      ]
     },
     "metadata": {},
     "output_type": "display_data"
    }
   ],
   "source": [
    "# Baseline\n",
    "baseline = mean(train$logprice)\n",
    "baseline"
   ]
  },
  {
   "cell_type": "code",
   "execution_count": 18,
   "metadata": {},
   "outputs": [
    {
     "data": {
      "text/html": [
       "210.651596195656"
      ],
      "text/latex": [
       "210.651596195656"
      ],
      "text/markdown": [
       "210.651596195656"
      ],
      "text/plain": [
       "[1] 210.6516"
      ]
     },
     "metadata": {},
     "output_type": "display_data"
    }
   ],
   "source": [
    "# SSE of baseline model on testing set\n",
    "SSEb = sum((baseline - test$logprice)^2)\n",
    "SSEb"
   ]
  },
  {
   "cell_type": "code",
   "execution_count": 19,
   "metadata": {},
   "outputs": [
    {
     "data": {
      "text/html": [
       "'R^2 Linear Regression (logacc): 0.2957'"
      ],
      "text/latex": [
       "'R\\textasciicircum{}2 Linear Regression (logacc): 0.2957'"
      ],
      "text/markdown": [
       "'R^2 Linear Regression (logacc): 0.2957'"
      ],
      "text/plain": [
       "[1] \"R^2 Linear Regression (logacc): 0.2957\""
      ]
     },
     "metadata": {},
     "output_type": "display_data"
    }
   ],
   "source": [
    "# R^2\n",
    "RsquaredLRl = 1 - SSE/SSEb\n",
    "paste(\"R^2 Linear Regression (logacc):\",round(RsquaredLRl,4))"
   ]
  },
  {
   "cell_type": "markdown",
   "metadata": {},
   "source": [
    "### Adding More Variables\n",
    "As good practice, it is always helpful to first check for multicollinearity before running larger models.\n",
    "\n",
    "Examine the correlation between the following variables:"
   ]
  },
  {
   "cell_type": "code",
   "execution_count": 20,
   "metadata": {},
   "outputs": [
    {
     "data": {
      "text/html": [
       "0.1735"
      ],
      "text/latex": [
       "0.1735"
      ],
      "text/markdown": [
       "0.1735"
      ],
      "text/plain": [
       "[1] 0.1735"
      ]
     },
     "metadata": {},
     "output_type": "display_data"
    }
   ],
   "source": [
    "hishiv = cor(train$host_is_superhost, train$host_identity_verified)\n",
    "round(hishiv,4)"
   ]
  },
  {
   "cell_type": "code",
   "execution_count": 21,
   "metadata": {},
   "outputs": [
    {
     "data": {
      "text/html": [
       "-0.0151"
      ],
      "text/latex": [
       "-0.0151"
      ],
      "text/markdown": [
       "-0.0151"
      ],
      "text/plain": [
       "[1] -0.0151"
      ]
     },
     "metadata": {},
     "output_type": "display_data"
    }
   ],
   "source": [
    "hisber = cor(train$host_is_superhost, train$bedrooms)\n",
    "round(hisber,4)"
   ]
  },
  {
   "cell_type": "code",
   "execution_count": 22,
   "metadata": {},
   "outputs": [
    {
     "data": {
      "text/html": [
       "0.6515"
      ],
      "text/latex": [
       "0.6515"
      ],
      "text/markdown": [
       "0.6515"
      ],
      "text/plain": [
       "[1] 0.6515"
      ]
     },
     "metadata": {},
     "output_type": "display_data"
    }
   ],
   "source": [
    "berloga = cor(train$bedrooms, train$logacc)\n",
    "round(berloga,4)"
   ]
  },
  {
   "cell_type": "code",
   "execution_count": 23,
   "metadata": {},
   "outputs": [
    {
     "data": {
      "text/html": [
       "0.7782"
      ],
      "text/latex": [
       "0.7782"
      ],
      "text/markdown": [
       "0.7782"
      ],
      "text/plain": [
       "[1] 0.7782"
      ]
     },
     "metadata": {},
     "output_type": "display_data"
    }
   ],
   "source": [
    "bedloga = cor(train$beds, train$logacc)\n",
    "round(bedloga,4)"
   ]
  },
  {
   "cell_type": "code",
   "execution_count": 24,
   "metadata": {},
   "outputs": [
    {
     "data": {
      "text/html": [
       "0.3859"
      ],
      "text/latex": [
       "0.3859"
      ],
      "text/markdown": [
       "0.3859"
      ],
      "text/plain": [
       "[1] 0.3859"
      ]
     },
     "metadata": {},
     "output_type": "display_data"
    }
   ],
   "source": [
    "batloga = cor(train$bathrooms, train$logacc)\n",
    "round(batloga,4)"
   ]
  },
  {
   "cell_type": "code",
   "execution_count": 25,
   "metadata": {},
   "outputs": [
    {
     "data": {
      "text/html": [
       "0.5155"
      ],
      "text/latex": [
       "0.5155"
      ],
      "text/markdown": [
       "0.5155"
      ],
      "text/plain": [
       "[1] 0.5155"
      ]
     },
     "metadata": {},
     "output_type": "display_data"
    }
   ],
   "source": [
    "bedbat = cor(train$bedrooms, train$bathrooms)\n",
    "round(bedbat,4)"
   ]
  },
  {
   "cell_type": "code",
   "execution_count": 26,
   "metadata": {},
   "outputs": [
    {
     "data": {
      "text/html": [
       "0.7245"
      ],
      "text/latex": [
       "0.7245"
      ],
      "text/markdown": [
       "0.7245"
      ],
      "text/plain": [
       "[1] 0.7245"
      ]
     },
     "metadata": {},
     "output_type": "display_data"
    }
   ],
   "source": [
    "berbe = cor(train$bedrooms, train$beds)\n",
    "round(berbe,4)"
   ]
  },
  {
   "cell_type": "markdown",
   "metadata": {},
   "source": [
    "Create a linear model that predicts log(price) using the following variables:\n",
    "\n",
    "log(accommodates), host_identity_verified, host_is_superhost, bedrooms, bathrooms, room_type, and neighborhood.\n",
    "\n",
    "We have removed beds because of concerns about multicollinearity."
   ]
  },
  {
   "cell_type": "code",
   "execution_count": 27,
   "metadata": {},
   "outputs": [
    {
     "data": {
      "text/plain": [
       "\n",
       "Call:\n",
       "lm(formula = logprice ~ logacc + host_identity_verified + host_is_superhost + \n",
       "    bedrooms + bathrooms + room_type + neighborhood, data = train)\n",
       "\n",
       "Residuals:\n",
       "     Min       1Q   Median       3Q      Max \n",
       "-2.85657 -0.24703  0.01275  0.26600  2.10264 \n",
       "\n",
       "Coefficients:\n",
       "                       Estimate Std. Error t value Pr(>|t|)    \n",
       "(Intercept)             4.45230    0.06094  73.057  < 2e-16 ***\n",
       "logacc                  0.04371    0.03963   1.103 0.270240    \n",
       "host_identity_verified -0.09107    0.02632  -3.460 0.000559 ***\n",
       "host_is_superhost      -0.09784    0.03568  -2.742 0.006190 ** \n",
       "bedrooms                0.21591    0.02205   9.791  < 2e-16 ***\n",
       "bathrooms               0.19670    0.03696   5.323 1.22e-07 ***\n",
       "room_typePrivateroom   -0.64155    0.04028 -15.926  < 2e-16 ***\n",
       "room_typeSharedroom    -0.82158    0.15035  -5.464 5.67e-08 ***\n",
       "neighborhoodBackBay     0.52385    0.04311  12.151  < 2e-16 ***\n",
       "neighborhoodBeaconHill  0.31858    0.04886   6.520 1.04e-10 ***\n",
       "neighborhoodBrighton   -0.04643    0.04851  -0.957 0.338716    \n",
       "neighborhoodDowntown    0.59520    0.04610  12.912  < 2e-16 ***\n",
       "neighborhoodSouthEnd    0.44098    0.04444   9.922  < 2e-16 ***\n",
       "---\n",
       "Signif. codes:  0 '***' 0.001 '**' 0.01 '*' 0.05 '.' 0.1 ' ' 1\n",
       "\n",
       "Residual standard error: 0.4173 on 1174 degrees of freedom\n",
       "Multiple R-squared:  0.6003,\tAdjusted R-squared:  0.5962 \n",
       "F-statistic: 146.9 on 12 and 1174 DF,  p-value: < 2.2e-16\n"
      ]
     },
     "metadata": {},
     "output_type": "display_data"
    }
   ],
   "source": [
    "# Create Linear Regression Model with:\n",
    "# log(accommodates), host_identity_verified, host_is_superhost, bedrooms, bathrooms, room_type, and neighborhood\n",
    "\n",
    "lreg2 = lm(logprice ~ logacc + host_identity_verified + host_is_superhost + bedrooms + bathrooms + room_type + \n",
    "                                                                                                   neighborhood, data = train)\n",
    "\n",
    "# Summary of Linear Regression Model\n",
    "summary(lreg2)"
   ]
  },
  {
   "cell_type": "markdown",
   "metadata": {},
   "source": [
    "**What is the value of the intercept?**"
   ]
  },
  {
   "cell_type": "markdown",
   "metadata": {},
   "source": [
    "Answer: 4.45230 is the value of the intercept."
   ]
  },
  {
   "cell_type": "markdown",
   "metadata": {},
   "source": [
    "### What is the R2 on the test set?"
   ]
  },
  {
   "cell_type": "code",
   "execution_count": 28,
   "metadata": {},
   "outputs": [],
   "source": [
    "# Make predictions using the Linear Regression Model (various variables) on the test set\n",
    "predTest2 = predict(lreg2, newdata = test)"
   ]
  },
  {
   "cell_type": "code",
   "execution_count": 29,
   "metadata": {},
   "outputs": [
    {
     "data": {
      "text/html": [
       "82.7245813650493"
      ],
      "text/latex": [
       "82.7245813650493"
      ],
      "text/markdown": [
       "82.7245813650493"
      ],
      "text/plain": [
       "[1] 82.72458"
      ]
     },
     "metadata": {},
     "output_type": "display_data"
    }
   ],
   "source": [
    "# SSE\n",
    "SSE = sum((predTest2 - test$logprice)^2)\n",
    "SSE"
   ]
  },
  {
   "cell_type": "code",
   "execution_count": 30,
   "metadata": {},
   "outputs": [
    {
     "data": {
      "text/html": [
       "0.404335646401217"
      ],
      "text/latex": [
       "0.404335646401217"
      ],
      "text/markdown": [
       "0.404335646401217"
      ],
      "text/plain": [
       "[1] 0.4043356"
      ]
     },
     "metadata": {},
     "output_type": "display_data"
    }
   ],
   "source": [
    "# RMSE\n",
    "RMSE = sqrt(mean((predTest2 - test$logprice)^2))\n",
    "RMSE"
   ]
  },
  {
   "cell_type": "code",
   "execution_count": 31,
   "metadata": {},
   "outputs": [
    {
     "data": {
      "text/html": [
       "5.1581131775666"
      ],
      "text/latex": [
       "5.1581131775666"
      ],
      "text/markdown": [
       "5.1581131775666"
      ],
      "text/plain": [
       "[1] 5.158113"
      ]
     },
     "metadata": {},
     "output_type": "display_data"
    }
   ],
   "source": [
    "# Baseline\n",
    "baseline = mean(train$logprice)\n",
    "baseline"
   ]
  },
  {
   "cell_type": "code",
   "execution_count": 32,
   "metadata": {},
   "outputs": [
    {
     "data": {
      "text/html": [
       "210.651596195656"
      ],
      "text/latex": [
       "210.651596195656"
      ],
      "text/markdown": [
       "210.651596195656"
      ],
      "text/plain": [
       "[1] 210.6516"
      ]
     },
     "metadata": {},
     "output_type": "display_data"
    }
   ],
   "source": [
    "# SSE of baseline model on testing set\n",
    "SSEb = sum((baseline - test$logprice)^2)\n",
    "SSEb"
   ]
  },
  {
   "cell_type": "code",
   "execution_count": 33,
   "metadata": {},
   "outputs": [
    {
     "data": {
      "text/html": [
       "'R^2 Linear Regression (various variables): 0.6073'"
      ],
      "text/latex": [
       "'R\\textasciicircum{}2 Linear Regression (various variables): 0.6073'"
      ],
      "text/markdown": [
       "'R^2 Linear Regression (various variables): 0.6073'"
      ],
      "text/plain": [
       "[1] \"R^2 Linear Regression (various variables): 0.6073\""
      ]
     },
     "metadata": {},
     "output_type": "display_data"
    }
   ],
   "source": [
    "# R^2\n",
    "RsquaredLRv = 1 - SSE/SSEb\n",
    "paste(\"R^2 Linear Regression (various variables):\",round(RsquaredLRv,4))"
   ]
  },
  {
   "cell_type": "markdown",
   "metadata": {},
   "source": [
    "### Interpreting Linear Regression\n",
    "**Which of the following variables are significant at a level of 0.001 (p-value below 0.001)?**"
   ]
  },
  {
   "cell_type": "markdown",
   "metadata": {},
   "source": [
    "Answer: \n",
    "\n",
    "    host_identity_verified\n",
    "    bedrooms\n",
    "    bathrooms\n",
    "    room_typePrivateroom\n",
    "    room_typeSharedroom\n",
    "    neighborhoodBackBay\n",
    "    neighborhoodBeaconHill   \n",
    "    neighborhoodDowntown\n",
    "    neighborhoodSouthEnd"
   ]
  },
  {
   "cell_type": "markdown",
   "metadata": {},
   "source": [
    "**How would you interpret the coefficient of “host_is_superhost”?**"
   ]
  },
  {
   "cell_type": "markdown",
   "metadata": {},
   "source": [
    "Answer: All else being equal, being a superhost is associated with a 0.09784 decrease in log(price)."
   ]
  },
  {
   "cell_type": "markdown",
   "metadata": {},
   "source": [
    "**Which of the three room types will be predicted to have the highest price, all else being equal?**"
   ]
  },
  {
   "cell_type": "markdown",
   "metadata": {},
   "source": [
    "Answer: Entire home/apt."
   ]
  },
  {
   "cell_type": "markdown",
   "metadata": {},
   "source": [
    "**How would you interpret the coefficient of “neighborhoodBackBay”?**"
   ]
  },
  {
   "cell_type": "markdown",
   "metadata": {},
   "source": [
    "Answer: Compared to a listing that is in Allston but is otherwise identical, a Back Bay apartment will have a higher log(price) by 0.52385."
   ]
  },
  {
   "cell_type": "markdown",
   "metadata": {},
   "source": [
    "### CART and Random Forest\n",
    "Create a simple CART model using bedrooms to predict log(price), with a cp value of 0.001."
   ]
  },
  {
   "cell_type": "code",
   "execution_count": 34,
   "metadata": {},
   "outputs": [],
   "source": [
    "library(rpart)\n",
    "library(rpart.plot)"
   ]
  },
  {
   "cell_type": "code",
   "execution_count": 35,
   "metadata": {},
   "outputs": [
    {
     "data": {
      "image/png": "[encoded data removed]",
      "text/plain": [
       "plot without title"
      ]
     },
     "metadata": {
      "image/png": {
       "height": 420,
       "width": 420
      },
      "text/plain": {
       "height": 420,
       "width": 420
      }
     },
     "output_type": "display_data"
    }
   ],
   "source": [
    "# Classification and Regression Trees (CART) - 1\n",
    "\n",
    "CARTmodel1 = rpart(logprice ~ bedrooms, data = train, cp =0.001)\n",
    "\n",
    "prp(CARTmodel1)"
   ]
  },
  {
   "cell_type": "markdown",
   "metadata": {},
   "source": [
    "**What value of log(price) would this model predict for a two-bedroom listing?**"
   ]
  },
  {
   "cell_type": "markdown",
   "metadata": {},
   "source": [
    "Answer: By CART tree, **5.6**."
   ]
  },
  {
   "cell_type": "markdown",
   "metadata": {},
   "source": [
    "**What is the R^2 of this model on the test set?**"
   ]
  },
  {
   "cell_type": "code",
   "execution_count": 36,
   "metadata": {},
   "outputs": [],
   "source": [
    "# Make predictions\n",
    "predTestC1 = predict(CARTmodel1, newdata = test)"
   ]
  },
  {
   "cell_type": "code",
   "execution_count": 37,
   "metadata": {},
   "outputs": [
    {
     "data": {
      "text/html": [
       "163.580930321236"
      ],
      "text/latex": [
       "163.580930321236"
      ],
      "text/markdown": [
       "163.580930321236"
      ],
      "text/plain": [
       "[1] 163.5809"
      ]
     },
     "metadata": {},
     "output_type": "display_data"
    }
   ],
   "source": [
    "# SSE\n",
    "SSE = sum((predTestC1 - test$logprice)^2)\n",
    "SSE"
   ]
  },
  {
   "cell_type": "code",
   "execution_count": 38,
   "metadata": {},
   "outputs": [
    {
     "data": {
      "text/html": [
       "0.568579344498712"
      ],
      "text/latex": [
       "0.568579344498712"
      ],
      "text/markdown": [
       "0.568579344498712"
      ],
      "text/plain": [
       "[1] 0.5685793"
      ]
     },
     "metadata": {},
     "output_type": "display_data"
    }
   ],
   "source": [
    "# RMSE\n",
    "RMSE = sqrt(mean((predTestC1 - test$logprice)^2))\n",
    "RMSE"
   ]
  },
  {
   "cell_type": "code",
   "execution_count": 39,
   "metadata": {},
   "outputs": [
    {
     "data": {
      "text/html": [
       "5.1581131775666"
      ],
      "text/latex": [
       "5.1581131775666"
      ],
      "text/markdown": [
       "5.1581131775666"
      ],
      "text/plain": [
       "[1] 5.158113"
      ]
     },
     "metadata": {},
     "output_type": "display_data"
    }
   ],
   "source": [
    "# Baseline\n",
    "baseline = mean(train$logprice)\n",
    "baseline"
   ]
  },
  {
   "cell_type": "code",
   "execution_count": 40,
   "metadata": {},
   "outputs": [
    {
     "data": {
      "text/html": [
       "210.651596195656"
      ],
      "text/latex": [
       "210.651596195656"
      ],
      "text/markdown": [
       "210.651596195656"
      ],
      "text/plain": [
       "[1] 210.6516"
      ]
     },
     "metadata": {},
     "output_type": "display_data"
    }
   ],
   "source": [
    "# SSE of baseline model on testing set\n",
    "SSEb = sum((baseline - test$logprice)^2)\n",
    "SSEb"
   ]
  },
  {
   "cell_type": "code",
   "execution_count": 41,
   "metadata": {},
   "outputs": [
    {
     "data": {
      "text/html": [
       "'R^2 CART (bedrooms): 0.2235'"
      ],
      "text/latex": [
       "'R\\textasciicircum{}2 CART (bedrooms): 0.2235'"
      ],
      "text/markdown": [
       "'R^2 CART (bedrooms): 0.2235'"
      ],
      "text/plain": [
       "[1] \"R^2 CART (bedrooms): 0.2235\""
      ]
     },
     "metadata": {},
     "output_type": "display_data"
    }
   ],
   "source": [
    "# R^2\n",
    "RsquaredC1 = 1 - SSE/SSEb\n",
    "paste(\"R^2 CART (bedrooms):\",round(RsquaredC1,4))"
   ]
  },
  {
   "cell_type": "markdown",
   "metadata": {},
   "source": [
    "### Classification and Regression Trees (CART) - 2\n",
    "\n",
    "Create a CART model that predicts log(price) using the following variables: log(accommodates), host_identity_verified, host_is_superhost, bedrooms, bathrooms, room_type, and neighborhood. Again, use cp = 0.001."
   ]
  },
  {
   "cell_type": "code",
   "execution_count": 42,
   "metadata": {},
   "outputs": [
    {
     "data": {
      "image/png": "[encoded data removed]",
      "text/plain": [
       "plot without title"
      ]
     },
     "metadata": {
      "image/png": {
       "height": 420,
       "width": 420
      },
      "text/plain": {
       "height": 420,
       "width": 420
      }
     },
     "output_type": "display_data"
    }
   ],
   "source": [
    "# Classification and Regression Trees (CART) - 2\n",
    "\n",
    "CARTmodel2 = rpart(logprice ~ logacc + host_identity_verified + host_is_superhost + bedrooms + bathrooms + room_type + \n",
    "                              neighborhood, data = train, cp =0.001)\n",
    "\n",
    "prp(CARTmodel1)"
   ]
  },
  {
   "cell_type": "markdown",
   "metadata": {},
   "source": [
    "### What is the R^2 of this new model on the test set?"
   ]
  },
  {
   "cell_type": "code",
   "execution_count": 43,
   "metadata": {},
   "outputs": [],
   "source": [
    "# Make predictions\n",
    "predTestC2 = predict(CARTmodel2, newdata = test)"
   ]
  },
  {
   "cell_type": "code",
   "execution_count": 44,
   "metadata": {},
   "outputs": [
    {
     "data": {
      "text/html": [
       "82.4718796046848"
      ],
      "text/latex": [
       "82.4718796046848"
      ],
      "text/markdown": [
       "82.4718796046848"
      ],
      "text/plain": [
       "[1] 82.47188"
      ]
     },
     "metadata": {},
     "output_type": "display_data"
    }
   ],
   "source": [
    "# SSE\n",
    "SSE = sum((predTestC2 - test$logprice)^2)\n",
    "SSE"
   ]
  },
  {
   "cell_type": "code",
   "execution_count": 45,
   "metadata": {},
   "outputs": [
    {
     "data": {
      "text/html": [
       "0.403717604715332"
      ],
      "text/latex": [
       "0.403717604715332"
      ],
      "text/markdown": [
       "0.403717604715332"
      ],
      "text/plain": [
       "[1] 0.4037176"
      ]
     },
     "metadata": {},
     "output_type": "display_data"
    }
   ],
   "source": [
    "# RMSE\n",
    "RMSE = sqrt(mean((predTestC2 - test$logprice)^2))\n",
    "RMSE"
   ]
  },
  {
   "cell_type": "code",
   "execution_count": 46,
   "metadata": {},
   "outputs": [
    {
     "data": {
      "text/html": [
       "5.1581131775666"
      ],
      "text/latex": [
       "5.1581131775666"
      ],
      "text/markdown": [
       "5.1581131775666"
      ],
      "text/plain": [
       "[1] 5.158113"
      ]
     },
     "metadata": {},
     "output_type": "display_data"
    }
   ],
   "source": [
    "# Baseline\n",
    "baseline = mean(train$logprice)\n",
    "baseline"
   ]
  },
  {
   "cell_type": "code",
   "execution_count": 47,
   "metadata": {},
   "outputs": [
    {
     "data": {
      "text/html": [
       "210.651596195656"
      ],
      "text/latex": [
       "210.651596195656"
      ],
      "text/markdown": [
       "210.651596195656"
      ],
      "text/plain": [
       "[1] 210.6516"
      ]
     },
     "metadata": {},
     "output_type": "display_data"
    }
   ],
   "source": [
    "# SSE of baseline model on testing set\n",
    "SSEb = sum((baseline - test$logprice)^2)\n",
    "SSEb"
   ]
  },
  {
   "cell_type": "code",
   "execution_count": 48,
   "metadata": {},
   "outputs": [
    {
     "data": {
      "text/html": [
       "'R^2 CART (various variables): 0.6085'"
      ],
      "text/latex": [
       "'R\\textasciicircum{}2 CART (various variables): 0.6085'"
      ],
      "text/markdown": [
       "'R^2 CART (various variables): 0.6085'"
      ],
      "text/plain": [
       "[1] \"R^2 CART (various variables): 0.6085\""
      ]
     },
     "metadata": {},
     "output_type": "display_data"
    }
   ],
   "source": [
    "# R^2\n",
    "RsquaredC2 = 1 - SSE/SSEb\n",
    "paste(\"R^2 CART (various variables):\",round(RsquaredC2,4))"
   ]
  },
  {
   "cell_type": "markdown",
   "metadata": {},
   "source": [
    "### Random Forest\n",
    "\n",
    "Create a random forest model that predicts log(price) using the same variables as the CART model, with nodesize = 20 and ntree = 200. Set the random seed to 1."
   ]
  },
  {
   "cell_type": "code",
   "execution_count": 49,
   "metadata": {},
   "outputs": [
    {
     "name": "stderr",
     "output_type": "stream",
     "text": [
      "randomForest 4.6-14\n",
      "\n",
      "Type rfNews() to see new features/changes/bug fixes.\n",
      "\n"
     ]
    }
   ],
   "source": [
    "library(randomForest)"
   ]
  },
  {
   "cell_type": "code",
   "execution_count": 50,
   "metadata": {},
   "outputs": [],
   "source": [
    "# Implement Random Forest Model\n",
    "\n",
    "set.seed(1)\n",
    "\n",
    "RFmodel1 = randomForest(logprice ~ logacc + host_identity_verified + host_is_superhost + bedrooms + bathrooms + room_type + \n",
    "                                   neighborhood, data = train, nodesize = 20, ntree = 200)"
   ]
  },
  {
   "cell_type": "markdown",
   "metadata": {},
   "source": [
    "**What is the R^2 of this new model on the test set?**"
   ]
  },
  {
   "cell_type": "code",
   "execution_count": 51,
   "metadata": {},
   "outputs": [],
   "source": [
    "# Make predictions\n",
    "predTestRF = predict(RFmodel1, newdata = test)"
   ]
  },
  {
   "cell_type": "code",
   "execution_count": 52,
   "metadata": {},
   "outputs": [
    {
     "data": {
      "text/html": [
       "74.7196777009114"
      ],
      "text/latex": [
       "74.7196777009114"
      ],
      "text/markdown": [
       "74.7196777009114"
      ],
      "text/plain": [
       "[1] 74.71968"
      ]
     },
     "metadata": {},
     "output_type": "display_data"
    }
   ],
   "source": [
    "# SSE\n",
    "SSE = sum((predTestRF - test$logprice)^2)\n",
    "SSE"
   ]
  },
  {
   "cell_type": "code",
   "execution_count": 53,
   "metadata": {},
   "outputs": [
    {
     "data": {
      "text/html": [
       "0.384275093175453"
      ],
      "text/latex": [
       "0.384275093175453"
      ],
      "text/markdown": [
       "0.384275093175453"
      ],
      "text/plain": [
       "[1] 0.3842751"
      ]
     },
     "metadata": {},
     "output_type": "display_data"
    }
   ],
   "source": [
    "# RMSE\n",
    "RMSE = sqrt(mean((predTestRF - test$logprice)^2))\n",
    "RMSE"
   ]
  },
  {
   "cell_type": "code",
   "execution_count": 54,
   "metadata": {},
   "outputs": [
    {
     "data": {
      "text/html": [
       "5.1581131775666"
      ],
      "text/latex": [
       "5.1581131775666"
      ],
      "text/markdown": [
       "5.1581131775666"
      ],
      "text/plain": [
       "[1] 5.158113"
      ]
     },
     "metadata": {},
     "output_type": "display_data"
    }
   ],
   "source": [
    "# Baseline\n",
    "baseline = mean(train$logprice)\n",
    "baseline"
   ]
  },
  {
   "cell_type": "code",
   "execution_count": 55,
   "metadata": {},
   "outputs": [
    {
     "data": {
      "text/html": [
       "210.651596195656"
      ],
      "text/latex": [
       "210.651596195656"
      ],
      "text/markdown": [
       "210.651596195656"
      ],
      "text/plain": [
       "[1] 210.6516"
      ]
     },
     "metadata": {},
     "output_type": "display_data"
    }
   ],
   "source": [
    "# SSE of baseline model on testing set\n",
    "SSEb = sum((baseline - test$logprice)^2)\n",
    "SSEb"
   ]
  },
  {
   "cell_type": "code",
   "execution_count": 56,
   "metadata": {},
   "outputs": [
    {
     "data": {
      "text/html": [
       "'R^2 Random Forest: 0.6453'"
      ],
      "text/latex": [
       "'R\\textasciicircum{}2 Random Forest: 0.6453'"
      ],
      "text/markdown": [
       "'R^2 Random Forest: 0.6453'"
      ],
      "text/plain": [
       "[1] \"R^2 Random Forest: 0.6453\""
      ]
     },
     "metadata": {},
     "output_type": "display_data"
    }
   ],
   "source": [
    "# R^2\n",
    "RsquaredRF = 1 - SSE/SSEb\n",
    "paste(\"R^2 Random Forest:\",round(RsquaredRF,4))"
   ]
  },
  {
   "cell_type": "markdown",
   "metadata": {},
   "source": [
    "### Comparison between models"
   ]
  },
  {
   "cell_type": "code",
   "execution_count": 57,
   "metadata": {},
   "outputs": [
    {
     "data": {
      "text/html": [
       "'R^2 Linear Regression (logacc): 0.2957'"
      ],
      "text/latex": [
       "'R\\textasciicircum{}2 Linear Regression (logacc): 0.2957'"
      ],
      "text/markdown": [
       "'R^2 Linear Regression (logacc): 0.2957'"
      ],
      "text/plain": [
       "[1] \"R^2 Linear Regression (logacc): 0.2957\""
      ]
     },
     "metadata": {},
     "output_type": "display_data"
    },
    {
     "data": {
      "text/html": [
       "'R^2 Linear Regression (various variables): 0.6073'"
      ],
      "text/latex": [
       "'R\\textasciicircum{}2 Linear Regression (various variables): 0.6073'"
      ],
      "text/markdown": [
       "'R^2 Linear Regression (various variables): 0.6073'"
      ],
      "text/plain": [
       "[1] \"R^2 Linear Regression (various variables): 0.6073\""
      ]
     },
     "metadata": {},
     "output_type": "display_data"
    },
    {
     "data": {
      "text/html": [
       "'R^2 CART (bedrooms): 0.2235'"
      ],
      "text/latex": [
       "'R\\textasciicircum{}2 CART (bedrooms): 0.2235'"
      ],
      "text/markdown": [
       "'R^2 CART (bedrooms): 0.2235'"
      ],
      "text/plain": [
       "[1] \"R^2 CART (bedrooms): 0.2235\""
      ]
     },
     "metadata": {},
     "output_type": "display_data"
    },
    {
     "data": {
      "text/html": [
       "'R^2 CART (various variables): 0.6085'"
      ],
      "text/latex": [
       "'R\\textasciicircum{}2 CART (various variables): 0.6085'"
      ],
      "text/markdown": [
       "'R^2 CART (various variables): 0.6085'"
      ],
      "text/plain": [
       "[1] \"R^2 CART (various variables): 0.6085\""
      ]
     },
     "metadata": {},
     "output_type": "display_data"
    },
    {
     "data": {
      "text/html": [
       "'R^2 Random Forest: 0.6453'"
      ],
      "text/latex": [
       "'R\\textasciicircum{}2 Random Forest: 0.6453'"
      ],
      "text/markdown": [
       "'R^2 Random Forest: 0.6453'"
      ],
      "text/plain": [
       "[1] \"R^2 Random Forest: 0.6453\""
      ]
     },
     "metadata": {},
     "output_type": "display_data"
    }
   ],
   "source": [
    "paste(\"R^2 Linear Regression (logacc):\",round(RsquaredLRl,4))\n",
    "\n",
    "paste(\"R^2 Linear Regression (various variables):\",round(RsquaredLRv,4))\n",
    "\n",
    "paste(\"R^2 CART (bedrooms):\",round(RsquaredC1,4))\n",
    "\n",
    "paste(\"R^2 CART (various variables):\",round(RsquaredC2,4))\n",
    "\n",
    "paste(\"R^2 Random Forest:\",round(RsquaredRF,4))"
   ]
  }
 ],
 "metadata": {
  "kernelspec": {
   "display_name": "R",
   "language": "R",
   "name": "ir"
  },
  "language_info": {
   "codemirror_mode": "r",
   "file_extension": ".r",
   "mimetype": "text/x-r-source",
   "name": "R",
   "pygments_lexer": "r",
   "version": "3.6.3"
  }
 },
 "nbformat": 4,
 "nbformat_minor": 4
}
