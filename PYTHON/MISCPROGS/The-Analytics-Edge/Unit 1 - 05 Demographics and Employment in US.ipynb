{
 "cells": [
  {
   "cell_type": "markdown",
   "metadata": {},
   "source": [
    "# Demographics and Employment in the United States"
   ]
  },
  {
   "cell_type": "markdown",
   "metadata": {},
   "source": [
    "In the wake of the Great Recession of 2009, there has been a good deal of focus on employment statistics, one of the most important metrics policymakers use to gauge the overall strength of the economy. In the United States, the government measures unemployment using the **Current Population Survey (CPS)**, which collects demographic and employment information from a wide range of Americans each month. In this exercise, we will employ the topics reviewed in the lectures as well as a few new techniques using the September 2013 version of this rich, nationally representative dataset."
   ]
  },
  {
   "cell_type": "markdown",
   "metadata": {},
   "source": [
    "The observations in the dataset represent people surveyed in the September 2013 CPS who actually completed a survey. While the full dataset has 385 variables, in this exercise we will use a more compact version of the dataset, CPSData.csv. How many interviewees are in the dataset?"
   ]
  },
  {
   "cell_type": "code",
   "execution_count": 1,
   "metadata": {},
   "outputs": [
    {
     "data": {
      "text/html": [
       "<table>\n",
       "<caption>A data.frame: 6 × 14</caption>\n",
       "<thead>\n",
       "\t<tr><th></th><th scope=col>PeopleInHousehold</th><th scope=col>Region</th><th scope=col>State</th><th scope=col>MetroAreaCode</th><th scope=col>Age</th><th scope=col>Married</th><th scope=col>Sex</th><th scope=col>Education</th><th scope=col>Race</th><th scope=col>Hispanic</th><th scope=col>CountryOfBirthCode</th><th scope=col>Citizenship</th><th scope=col>EmploymentStatus</th><th scope=col>Industry</th></tr>\n",
       "\t<tr><th></th><th scope=col>&lt;int&gt;</th><th scope=col>&lt;fct&gt;</th><th scope=col>&lt;fct&gt;</th><th scope=col>&lt;int&gt;</th><th scope=col>&lt;int&gt;</th><th scope=col>&lt;fct&gt;</th><th scope=col>&lt;fct&gt;</th><th scope=col>&lt;fct&gt;</th><th scope=col>&lt;fct&gt;</th><th scope=col>&lt;int&gt;</th><th scope=col>&lt;int&gt;</th><th scope=col>&lt;fct&gt;</th><th scope=col>&lt;fct&gt;</th><th scope=col>&lt;fct&gt;</th></tr>\n",
       "</thead>\n",
       "<tbody>\n",
       "\t<tr><th scope=row>1</th><td>1</td><td>South</td><td>Alabama</td><td>26620</td><td>85</td><td>Widowed      </td><td>Female</td><td>Associate degree      </td><td>White</td><td>0</td><td>57</td><td>Citizen, Native</td><td>Retired           </td><td>NA                                </td></tr>\n",
       "\t<tr><th scope=row>2</th><td>3</td><td>South</td><td>Alabama</td><td>13820</td><td>21</td><td>Never Married</td><td>Male  </td><td>High school           </td><td>Black</td><td>0</td><td>57</td><td>Citizen, Native</td><td>Unemployed        </td><td>Professional and business services</td></tr>\n",
       "\t<tr><th scope=row>3</th><td>3</td><td>South</td><td>Alabama</td><td>13820</td><td>37</td><td>Never Married</td><td>Female</td><td>High school           </td><td>Black</td><td>0</td><td>57</td><td>Citizen, Native</td><td>Disabled          </td><td>NA                                </td></tr>\n",
       "\t<tr><th scope=row>4</th><td>3</td><td>South</td><td>Alabama</td><td>13820</td><td>18</td><td>Never Married</td><td>Male  </td><td>No high school diploma</td><td>Black</td><td>0</td><td>57</td><td>Citizen, Native</td><td>Not in Labor Force</td><td>NA                                </td></tr>\n",
       "\t<tr><th scope=row>5</th><td>3</td><td>South</td><td>Alabama</td><td>26620</td><td>52</td><td>Widowed      </td><td>Female</td><td>Associate degree      </td><td>White</td><td>0</td><td>57</td><td>Citizen, Native</td><td>Employed          </td><td>Professional and business services</td></tr>\n",
       "\t<tr><th scope=row>6</th><td>3</td><td>South</td><td>Alabama</td><td>26620</td><td>24</td><td>Never Married</td><td>Male  </td><td>Bachelor's degree     </td><td>White</td><td>0</td><td>57</td><td>Citizen, Native</td><td>Employed          </td><td>Educational and health services   </td></tr>\n",
       "</tbody>\n",
       "</table>\n"
      ],
      "text/latex": [
       "A data.frame: 6 × 14\n",
       "\\begin{tabular}{r|llllllllllllll}\n",
       "  & PeopleInHousehold & Region & State & MetroAreaCode & Age & Married & Sex & Education & Race & Hispanic & CountryOfBirthCode & Citizenship & EmploymentStatus & Industry\\\\\n",
       "  & <int> & <fct> & <fct> & <int> & <int> & <fct> & <fct> & <fct> & <fct> & <int> & <int> & <fct> & <fct> & <fct>\\\\\n",
       "\\hline\n",
       "\t1 & 1 & South & Alabama & 26620 & 85 & Widowed       & Female & Associate degree       & White & 0 & 57 & Citizen, Native & Retired            & NA                                \\\\\n",
       "\t2 & 3 & South & Alabama & 13820 & 21 & Never Married & Male   & High school            & Black & 0 & 57 & Citizen, Native & Unemployed         & Professional and business services\\\\\n",
       "\t3 & 3 & South & Alabama & 13820 & 37 & Never Married & Female & High school            & Black & 0 & 57 & Citizen, Native & Disabled           & NA                                \\\\\n",
       "\t4 & 3 & South & Alabama & 13820 & 18 & Never Married & Male   & No high school diploma & Black & 0 & 57 & Citizen, Native & Not in Labor Force & NA                                \\\\\n",
       "\t5 & 3 & South & Alabama & 26620 & 52 & Widowed       & Female & Associate degree       & White & 0 & 57 & Citizen, Native & Employed           & Professional and business services\\\\\n",
       "\t6 & 3 & South & Alabama & 26620 & 24 & Never Married & Male   & Bachelor's degree      & White & 0 & 57 & Citizen, Native & Employed           & Educational and health services   \\\\\n",
       "\\end{tabular}\n"
      ],
      "text/markdown": [
       "\n",
       "A data.frame: 6 × 14\n",
       "\n",
       "| <!--/--> | PeopleInHousehold &lt;int&gt; | Region &lt;fct&gt; | State &lt;fct&gt; | MetroAreaCode &lt;int&gt; | Age &lt;int&gt; | Married &lt;fct&gt; | Sex &lt;fct&gt; | Education &lt;fct&gt; | Race &lt;fct&gt; | Hispanic &lt;int&gt; | CountryOfBirthCode &lt;int&gt; | Citizenship &lt;fct&gt; | EmploymentStatus &lt;fct&gt; | Industry &lt;fct&gt; |\n",
       "|---|---|---|---|---|---|---|---|---|---|---|---|---|---|---|\n",
       "| 1 | 1 | South | Alabama | 26620 | 85 | Widowed       | Female | Associate degree       | White | 0 | 57 | Citizen, Native | Retired            | NA                                 |\n",
       "| 2 | 3 | South | Alabama | 13820 | 21 | Never Married | Male   | High school            | Black | 0 | 57 | Citizen, Native | Unemployed         | Professional and business services |\n",
       "| 3 | 3 | South | Alabama | 13820 | 37 | Never Married | Female | High school            | Black | 0 | 57 | Citizen, Native | Disabled           | NA                                 |\n",
       "| 4 | 3 | South | Alabama | 13820 | 18 | Never Married | Male   | No high school diploma | Black | 0 | 57 | Citizen, Native | Not in Labor Force | NA                                 |\n",
       "| 5 | 3 | South | Alabama | 26620 | 52 | Widowed       | Female | Associate degree       | White | 0 | 57 | Citizen, Native | Employed           | Professional and business services |\n",
       "| 6 | 3 | South | Alabama | 26620 | 24 | Never Married | Male   | Bachelor's degree      | White | 0 | 57 | Citizen, Native | Employed           | Educational and health services    |\n",
       "\n"
      ],
      "text/plain": [
       "  PeopleInHousehold Region State   MetroAreaCode Age Married       Sex   \n",
       "1 1                 South  Alabama 26620         85  Widowed       Female\n",
       "2 3                 South  Alabama 13820         21  Never Married Male  \n",
       "3 3                 South  Alabama 13820         37  Never Married Female\n",
       "4 3                 South  Alabama 13820         18  Never Married Male  \n",
       "5 3                 South  Alabama 26620         52  Widowed       Female\n",
       "6 3                 South  Alabama 26620         24  Never Married Male  \n",
       "  Education              Race  Hispanic CountryOfBirthCode Citizenship    \n",
       "1 Associate degree       White 0        57                 Citizen, Native\n",
       "2 High school            Black 0        57                 Citizen, Native\n",
       "3 High school            Black 0        57                 Citizen, Native\n",
       "4 No high school diploma Black 0        57                 Citizen, Native\n",
       "5 Associate degree       White 0        57                 Citizen, Native\n",
       "6 Bachelor's degree      White 0        57                 Citizen, Native\n",
       "  EmploymentStatus   Industry                          \n",
       "1 Retired            NA                                \n",
       "2 Unemployed         Professional and business services\n",
       "3 Disabled           NA                                \n",
       "4 Not in Labor Force NA                                \n",
       "5 Employed           Professional and business services\n",
       "6 Employed           Educational and health services   "
      ]
     },
     "metadata": {},
     "output_type": "display_data"
    }
   ],
   "source": [
    "CPS <- read.csv('data/CPSData.csv')\n",
    "head(CPS)"
   ]
  },
  {
   "cell_type": "code",
   "execution_count": 2,
   "metadata": {},
   "outputs": [
    {
     "name": "stdout",
     "output_type": "stream",
     "text": [
      "'data.frame':\t131302 obs. of  14 variables:\n",
      " $ PeopleInHousehold : int  1 3 3 3 3 3 3 2 2 2 ...\n",
      " $ Region            : Factor w/ 4 levels \"Midwest\",\"Northeast\",..: 3 3 3 3 3 3 3 3 3 3 ...\n",
      " $ State             : Factor w/ 51 levels \"Alabama\",\"Alaska\",..: 1 1 1 1 1 1 1 1 1 1 ...\n",
      " $ MetroAreaCode     : int  26620 13820 13820 13820 26620 26620 26620 33660 33660 26620 ...\n",
      " $ Age               : int  85 21 37 18 52 24 26 71 43 52 ...\n",
      " $ Married           : Factor w/ 5 levels \"Divorced\",\"Married\",..: 5 3 3 3 5 3 3 1 1 3 ...\n",
      " $ Sex               : Factor w/ 2 levels \"Female\",\"Male\": 1 2 1 2 1 2 2 1 2 2 ...\n",
      " $ Education         : Factor w/ 8 levels \"Associate degree\",..: 1 4 4 6 1 2 4 4 4 2 ...\n",
      " $ Race              : Factor w/ 6 levels \"American Indian\",..: 6 3 3 3 6 6 6 6 6 6 ...\n",
      " $ Hispanic          : int  0 0 0 0 0 0 0 0 0 0 ...\n",
      " $ CountryOfBirthCode: int  57 57 57 57 57 57 57 57 57 57 ...\n",
      " $ Citizenship       : Factor w/ 3 levels \"Citizen, Native\",..: 1 1 1 1 1 1 1 1 1 1 ...\n",
      " $ EmploymentStatus  : Factor w/ 5 levels \"Disabled\",\"Employed\",..: 4 5 1 3 2 2 2 2 3 2 ...\n",
      " $ Industry          : Factor w/ 14 levels \"Agriculture, forestry, fishing, and hunting\",..: NA 11 NA NA 11 4 14 4 NA 12 ...\n"
     ]
    }
   ],
   "source": [
    "str(CPS)"
   ]
  },
  {
   "cell_type": "code",
   "execution_count": 3,
   "metadata": {},
   "outputs": [
    {
     "data": {
      "text/plain": [
       " PeopleInHousehold       Region               State       MetroAreaCode  \n",
       " Min.   : 1.000    Midwest  :30684   California  :11570   Min.   :10420  \n",
       " 1st Qu.: 2.000    Northeast:25939   Texas       : 7077   1st Qu.:21780  \n",
       " Median : 3.000    South    :41502   New York    : 5595   Median :34740  \n",
       " Mean   : 3.284    West     :33177   Florida     : 5149   Mean   :35075  \n",
       " 3rd Qu.: 4.000                      Pennsylvania: 3930   3rd Qu.:41860  \n",
       " Max.   :15.000                      Illinois    : 3912   Max.   :79600  \n",
       "                                     (Other)     :94069   NA's   :34238  \n",
       "      Age                 Married          Sex       \n",
       " Min.   : 0.00   Divorced     :11151   Female:67481  \n",
       " 1st Qu.:19.00   Married      :55509   Male  :63821  \n",
       " Median :39.00   Never Married:30772                 \n",
       " Mean   :38.83   Separated    : 2027                 \n",
       " 3rd Qu.:57.00   Widowed      : 6505                 \n",
       " Max.   :85.00   NA's         :25338                 \n",
       "                                                     \n",
       "                   Education                   Race           Hispanic     \n",
       " High school            :30906   American Indian :  1433   Min.   :0.0000  \n",
       " Bachelor's degree      :19443   Asian           :  6520   1st Qu.:0.0000  \n",
       " Some college, no degree:18863   Black           : 13913   Median :0.0000  \n",
       " No high school diploma :16095   Multiracial     :  2897   Mean   :0.1393  \n",
       " Associate degree       : 9913   Pacific Islander:   618   3rd Qu.:0.0000  \n",
       " (Other)                :10744   White           :105921   Max.   :1.0000  \n",
       " NA's                   :25338                                             \n",
       " CountryOfBirthCode               Citizenship               EmploymentStatus\n",
       " Min.   : 57.00     Citizen, Native     :116639   Disabled          : 5712  \n",
       " 1st Qu.: 57.00     Citizen, Naturalized:  7073   Employed          :61733  \n",
       " Median : 57.00     Non-Citizen         :  7590   Not in Labor Force:15246  \n",
       " Mean   : 82.68                                   Retired           :18619  \n",
       " 3rd Qu.: 57.00                                   Unemployed        : 4203  \n",
       " Max.   :555.00                                   NA's              :25789  \n",
       "                                                                            \n",
       "                               Industry    \n",
       " Educational and health services   :15017  \n",
       " Trade                             : 8933  \n",
       " Professional and business services: 7519  \n",
       " Manufacturing                     : 6791  \n",
       " Leisure and hospitality           : 6364  \n",
       " (Other)                           :21618  \n",
       " NA's                              :65060  "
      ]
     },
     "metadata": {},
     "output_type": "display_data"
    }
   ],
   "source": [
    "summary(CPS)"
   ]
  },
  {
   "cell_type": "markdown",
   "metadata": {},
   "source": [
    "**Among the interviewees with a value reported for the Industry variable, what is the most common industry of employment?**"
   ]
  },
  {
   "cell_type": "markdown",
   "metadata": {},
   "source": [
    "Educational and health services"
   ]
  },
  {
   "cell_type": "markdown",
   "metadata": {},
   "source": [
    "**Which state has the fewest interviewees?**"
   ]
  },
  {
   "cell_type": "code",
   "execution_count": 4,
   "metadata": {},
   "outputs": [
    {
     "data": {
      "text/plain": [
       "\n",
       "          California                Texas             New York \n",
       "               11570                 7077                 5595 \n",
       "             Florida         Pennsylvania             Illinois \n",
       "                5149                 3930                 3912 \n",
       "                Ohio             Maryland            Minnesota \n",
       "                3678                 3200                 3139 \n",
       "            Michigan             Virginia             Colorado \n",
       "                3063                 2953                 2925 \n",
       "         Connecticut              Georgia            Wisconsin \n",
       "                2836                 2807                 2686 \n",
       "       New Hampshire       North Carolina           New Jersey \n",
       "                2662                 2619                 2567 \n",
       "                Iowa           Washington                Maine \n",
       "                2528                 2366                 2263 \n",
       "            Delaware         Rhode Island             Missouri \n",
       "                2214                 2209                 2145 \n",
       "              Hawaii              Indiana         South Dakota \n",
       "                2099                 2004                 2000 \n",
       "       Massachusetts             Nebraska               Oregon \n",
       "                1987                 1949                 1943 \n",
       "              Kansas              Vermont               Nevada \n",
       "                1935                 1890                 1856 \n",
       "                Utah             Kentucky District of Columbia \n",
       "                1842                 1841                 1791 \n",
       "           Tennessee       South Carolina         North Dakota \n",
       "                1784                 1658                 1645 \n",
       "             Wyoming               Alaska              Arizona \n",
       "                1624                 1590                 1528 \n",
       "            Oklahoma                Idaho            Louisiana \n",
       "                1523                 1518                 1450 \n",
       "            Arkansas        West Virginia              Alabama \n",
       "                1421                 1409                 1376 \n",
       "         Mississippi              Montana           New Mexico \n",
       "                1230                 1214                 1102 "
      ]
     },
     "metadata": {},
     "output_type": "display_data"
    }
   ],
   "source": [
    "sort(table(CPS$State), decreasing = T)"
   ]
  },
  {
   "cell_type": "markdown",
   "metadata": {},
   "source": [
    "New Mexico"
   ]
  },
  {
   "cell_type": "markdown",
   "metadata": {},
   "source": [
    "**Which state has the largest number of interviewees?**"
   ]
  },
  {
   "cell_type": "markdown",
   "metadata": {},
   "source": [
    "California"
   ]
  },
  {
   "cell_type": "markdown",
   "metadata": {},
   "source": [
    "**What proportion of interviewees are citizens of the United States?**"
   ]
  },
  {
   "cell_type": "code",
   "execution_count": 5,
   "metadata": {},
   "outputs": [
    {
     "data": {
      "text/plain": [
       "\n",
       "     Citizen, Native Citizen, Naturalized          Non-Citizen \n",
       "          0.88832615           0.05386818           0.05780567 "
      ]
     },
     "metadata": {},
     "output_type": "display_data"
    }
   ],
   "source": [
    "table(CPS$Citizenship)/nrow(CPS)"
   ]
  },
  {
   "cell_type": "code",
   "execution_count": 6,
   "metadata": {},
   "outputs": [
    {
     "data": {
      "text/plain": [
       "\n",
       "     FALSE       TRUE \n",
       "0.05780567 0.94219433 "
      ]
     },
     "metadata": {},
     "output_type": "display_data"
    }
   ],
   "source": [
    "1 - table(CPS$Citizenship=='Non-Citizen')/nrow(CPS)"
   ]
  },
  {
   "cell_type": "code",
   "execution_count": 7,
   "metadata": {},
   "outputs": [
    {
     "data": {
      "text/plain": [
       "\n",
       " FALSE   TRUE \n",
       "123712   7590 "
      ]
     },
     "metadata": {},
     "output_type": "display_data"
    }
   ],
   "source": [
    "table(CPS$Citizenship=='Non-Citizen')"
   ]
  },
  {
   "cell_type": "markdown",
   "metadata": {},
   "source": [
    "The CPS differentiates between race (with possible values American Indian, Asian, Black, Pacific Islander, White, or Multiracial) and ethnicity. A number of interviewees are of Hispanic ethnicity, as captured by the Hispanic variable. For which races are there at least 250 interviewees in the CPS dataset of Hispanic ethnicity? (Select all that apply.)"
   ]
  },
  {
   "cell_type": "code",
   "execution_count": 8,
   "metadata": {},
   "outputs": [
    {
     "data": {
      "text/plain": [
       "   \n",
       "    American Indian Asian Black Multiracial Pacific Islander White\n",
       "  0            1129  6407 13292        2449              541 89190\n",
       "  1             304   113   621         448               77 16731"
      ]
     },
     "metadata": {},
     "output_type": "display_data"
    }
   ],
   "source": [
    "table(CPS$Hispanic, CPS$Race)"
   ]
  },
  {
   "cell_type": "code",
   "execution_count": 9,
   "metadata": {},
   "outputs": [
    {
     "data": {
      "text/html": [
       "<table>\n",
       "<caption>A matrix: 2 × 6 of type lgl</caption>\n",
       "<thead>\n",
       "\t<tr><th></th><th scope=col>American Indian</th><th scope=col>Asian</th><th scope=col>Black</th><th scope=col>Multiracial</th><th scope=col>Pacific Islander</th><th scope=col>White</th></tr>\n",
       "</thead>\n",
       "<tbody>\n",
       "\t<tr><th scope=row>0</th><td>TRUE</td><td> TRUE</td><td>TRUE</td><td>TRUE</td><td> TRUE</td><td>TRUE</td></tr>\n",
       "\t<tr><th scope=row>1</th><td>TRUE</td><td>FALSE</td><td>TRUE</td><td>TRUE</td><td>FALSE</td><td>TRUE</td></tr>\n",
       "</tbody>\n",
       "</table>\n"
      ],
      "text/latex": [
       "A matrix: 2 × 6 of type lgl\n",
       "\\begin{tabular}{r|llllll}\n",
       "  & American Indian & Asian & Black & Multiracial & Pacific Islander & White\\\\\n",
       "\\hline\n",
       "\t0 & TRUE &  TRUE & TRUE & TRUE &  TRUE & TRUE\\\\\n",
       "\t1 & TRUE & FALSE & TRUE & TRUE & FALSE & TRUE\\\\\n",
       "\\end{tabular}\n"
      ],
      "text/markdown": [
       "\n",
       "A matrix: 2 × 6 of type lgl\n",
       "\n",
       "| <!--/--> | American Indian | Asian | Black | Multiracial | Pacific Islander | White |\n",
       "|---|---|---|---|---|---|---|\n",
       "| 0 | TRUE |  TRUE | TRUE | TRUE |  TRUE | TRUE |\n",
       "| 1 | TRUE | FALSE | TRUE | TRUE | FALSE | TRUE |\n",
       "\n"
      ],
      "text/plain": [
       "   \n",
       "    American Indian Asian Black Multiracial Pacific Islander White\n",
       "  0 TRUE             TRUE TRUE  TRUE         TRUE            TRUE \n",
       "  1 TRUE            FALSE TRUE  TRUE        FALSE            TRUE "
      ]
     },
     "metadata": {},
     "output_type": "display_data"
    }
   ],
   "source": [
    "table(CPS$Hispanic, CPS$Race) > 250"
   ]
  },
  {
   "cell_type": "markdown",
   "metadata": {},
   "source": [
    "**Which variables have at least one interviewee with a missing (NA) value?**"
   ]
  },
  {
   "cell_type": "code",
   "execution_count": 10,
   "metadata": {},
   "outputs": [
    {
     "data": {
      "text/html": [
       "<style>\n",
       ".dl-inline {width: auto; margin:0; padding: 0}\n",
       ".dl-inline>dt, .dl-inline>dd {float: none; width: auto; display: inline-block}\n",
       ".dl-inline>dt::after {content: \":\\0020\"; padding-right: .5ex}\n",
       ".dl-inline>dt:not(:first-of-type) {padding-left: .5ex}\n",
       "</style><dl class=dl-inline><dt>PeopleInHousehold</dt><dd>0</dd><dt>Region</dt><dd>0</dd><dt>State</dt><dd>0</dd><dt>MetroAreaCode</dt><dd>34238</dd><dt>Age</dt><dd>0</dd><dt>Married</dt><dd>25338</dd><dt>Sex</dt><dd>0</dd><dt>Education</dt><dd>25338</dd><dt>Race</dt><dd>0</dd><dt>Hispanic</dt><dd>0</dd><dt>CountryOfBirthCode</dt><dd>0</dd><dt>Citizenship</dt><dd>0</dd><dt>EmploymentStatus</dt><dd>25789</dd><dt>Industry</dt><dd>65060</dd></dl>\n"
      ],
      "text/latex": [
       "\\begin{description*}\n",
       "\\item[PeopleInHousehold] 0\n",
       "\\item[Region] 0\n",
       "\\item[State] 0\n",
       "\\item[MetroAreaCode] 34238\n",
       "\\item[Age] 0\n",
       "\\item[Married] 25338\n",
       "\\item[Sex] 0\n",
       "\\item[Education] 25338\n",
       "\\item[Race] 0\n",
       "\\item[Hispanic] 0\n",
       "\\item[CountryOfBirthCode] 0\n",
       "\\item[Citizenship] 0\n",
       "\\item[EmploymentStatus] 25789\n",
       "\\item[Industry] 65060\n",
       "\\end{description*}\n"
      ],
      "text/markdown": [
       "PeopleInHousehold\n",
       ":   0Region\n",
       ":   0State\n",
       ":   0MetroAreaCode\n",
       ":   34238Age\n",
       ":   0Married\n",
       ":   25338Sex\n",
       ":   0Education\n",
       ":   25338Race\n",
       ":   0Hispanic\n",
       ":   0CountryOfBirthCode\n",
       ":   0Citizenship\n",
       ":   0EmploymentStatus\n",
       ":   25789Industry\n",
       ":   65060\n",
       "\n"
      ],
      "text/plain": [
       " PeopleInHousehold             Region              State      MetroAreaCode \n",
       "                 0                  0                  0              34238 \n",
       "               Age            Married                Sex          Education \n",
       "                 0              25338                  0              25338 \n",
       "              Race           Hispanic CountryOfBirthCode        Citizenship \n",
       "                 0                  0                  0                  0 \n",
       "  EmploymentStatus           Industry \n",
       "             25789              65060 "
      ]
     },
     "metadata": {},
     "output_type": "display_data"
    }
   ],
   "source": [
    "apply(CPS, 2, function(col) sum(is.na(col)))"
   ]
  },
  {
   "cell_type": "markdown",
   "metadata": {},
   "source": [
    "Often when evaluating a new dataset, we try to identify if there is a pattern in the missing values in the dataset. We will try to determine if there is a pattern in the missing values of the Married variable. The function is.na(CPS$Married) returns a vector of TRUE/FALSE values for whether the Married variable is missing. We can see the breakdown of whether Married is missing based on the reported value of the Region variable with the function table(CPS$Region, is.na(CPS$Married)). Which is the most accurate:"
   ]
  },
  {
   "cell_type": "code",
   "execution_count": 11,
   "metadata": {},
   "outputs": [
    {
     "data": {
      "text/plain": [
       "           \n",
       "            FALSE  TRUE\n",
       "  Midwest   24609  6075\n",
       "  Northeast 21432  4507\n",
       "  South     33535  7967\n",
       "  West      26388  6789"
      ]
     },
     "metadata": {},
     "output_type": "display_data"
    }
   ],
   "source": [
    "table(CPS$Region, is.na(CPS$Married))"
   ]
  },
  {
   "cell_type": "code",
   "execution_count": 12,
   "metadata": {},
   "outputs": [
    {
     "data": {
      "image/png": "[encoded data removed]",
      "text/plain": [
       "plot without title"
      ]
     },
     "metadata": {
      "image/png": {
       "height": 420,
       "width": 420
      },
      "text/plain": {
       "height": 420,
       "width": 420
      }
     },
     "output_type": "display_data"
    }
   ],
   "source": [
    "barplot(prop.table(table(is.na(CPS$Married), CPS$Region),margin=2 ))"
   ]
  },
  {
   "cell_type": "code",
   "execution_count": 13,
   "metadata": {},
   "outputs": [
    {
     "data": {
      "text/plain": [
       "        \n",
       "         FALSE  TRUE\n",
       "  Female 55264 12217\n",
       "  Male   50700 13121"
      ]
     },
     "metadata": {},
     "output_type": "display_data"
    }
   ],
   "source": [
    "table(CPS$Sex, is.na(CPS$Married))"
   ]
  },
  {
   "cell_type": "code",
   "execution_count": 14,
   "metadata": {},
   "outputs": [
    {
     "data": {
      "image/png": "[encoded data removed]",
      "text/plain": [
       "plot without title"
      ]
     },
     "metadata": {
      "image/png": {
       "height": 420,
       "width": 420
      },
      "text/plain": {
       "height": 420,
       "width": 420
      }
     },
     "output_type": "display_data"
    }
   ],
   "source": [
    "barplot(prop.table(table(is.na(CPS$Married), CPS$Sex),margin=2 ))"
   ]
  },
  {
   "cell_type": "code",
   "execution_count": 15,
   "metadata": {},
   "outputs": [
    {
     "data": {
      "text/plain": [
       "    \n",
       "     FALSE TRUE\n",
       "  0      0 1283\n",
       "  1      0 1559\n",
       "  2      0 1574\n",
       "  3      0 1693\n",
       "  4      0 1695\n",
       "  5      0 1795\n",
       "  6      0 1721\n",
       "  7      0 1681\n",
       "  8      0 1729\n",
       "  9      0 1748\n",
       "  10     0 1750\n",
       "  11     0 1721\n",
       "  12     0 1797\n",
       "  13     0 1802\n",
       "  14     0 1790\n",
       "  15  1795    0\n",
       "  16  1751    0\n",
       "  17  1764    0\n",
       "  18  1596    0\n",
       "  19  1517    0\n",
       "  20  1398    0\n",
       "  21  1525    0\n",
       "  22  1536    0\n",
       "  23  1638    0\n",
       "  24  1627    0\n",
       "  25  1604    0\n",
       "  26  1643    0\n",
       "  27  1657    0\n",
       "  28  1736    0\n",
       "  29  1645    0\n",
       "  30  1854    0\n",
       "  31  1762    0\n",
       "  32  1790    0\n",
       "  33  1804    0\n",
       "  34  1653    0\n",
       "  35  1716    0\n",
       "  36  1663    0\n",
       "  37  1531    0\n",
       "  38  1530    0\n",
       "  39  1542    0\n",
       "  40  1571    0\n",
       "  41  1673    0\n",
       "  42  1711    0\n",
       "  43  1819    0\n",
       "  44  1764    0\n",
       "  45  1749    0\n",
       "  46  1665    0\n",
       "  47  1647    0\n",
       "  48  1791    0\n",
       "  49  1989    0\n",
       "  50  1966    0\n",
       "  51  1931    0\n",
       "  52  1935    0\n",
       "  53  1994    0\n",
       "  54  1912    0\n",
       "  55  1895    0\n",
       "  56  1935    0\n",
       "  57  1827    0\n",
       "  58  1874    0\n",
       "  59  1758    0\n",
       "  60  1746    0\n",
       "  61  1735    0\n",
       "  62  1595    0\n",
       "  63  1596    0\n",
       "  64  1519    0\n",
       "  65  1569    0\n",
       "  66  1577    0\n",
       "  67  1227    0\n",
       "  68  1130    0\n",
       "  69  1062    0\n",
       "  70  1195    0\n",
       "  71  1031    0\n",
       "  72   941    0\n",
       "  73   896    0\n",
       "  74   842    0\n",
       "  75   763    0\n",
       "  76   729    0\n",
       "  77   698    0\n",
       "  78   659    0\n",
       "  79   661    0\n",
       "  80  2664    0\n",
       "  85  2446    0"
      ]
     },
     "metadata": {},
     "output_type": "display_data"
    }
   ],
   "source": [
    "table(CPS$Age, is.na(CPS$Married))"
   ]
  },
  {
   "cell_type": "code",
   "execution_count": 16,
   "metadata": {},
   "outputs": [
    {
     "data": {
      "text/plain": [
       "       \n",
       "         FALSE   TRUE\n",
       "  FALSE      0  25338\n",
       "  TRUE  105964      0"
      ]
     },
     "metadata": {},
     "output_type": "display_data"
    }
   ],
   "source": [
    "table(CPS$Age >14, is.na(CPS$Married))"
   ]
  },
  {
   "cell_type": "code",
   "execution_count": 17,
   "metadata": {},
   "outputs": [
    {
     "data": {
      "image/png": "[encoded data removed]",
      "text/plain": [
       "plot without title"
      ]
     },
     "metadata": {
      "image/png": {
       "height": 420,
       "width": 420
      },
      "text/plain": {
       "height": 420,
       "width": 420
      }
     },
     "output_type": "display_data"
    }
   ],
   "source": [
    "barplot(prop.table(table(is.na(CPS$Married), CPS$Age >14),margin=2 ))"
   ]
  },
  {
   "cell_type": "code",
   "execution_count": 18,
   "metadata": {},
   "outputs": [
    {
     "data": {
      "text/plain": [
       "                      \n",
       "                       FALSE  TRUE\n",
       "  Citizen, Native      91956 24683\n",
       "  Citizen, Naturalized  6910   163\n",
       "  Non-Citizen           7098   492"
      ]
     },
     "metadata": {},
     "output_type": "display_data"
    }
   ],
   "source": [
    "table(CPS$Citizenship, is.na(CPS$Married))"
   ]
  },
  {
   "cell_type": "code",
   "execution_count": 19,
   "metadata": {},
   "outputs": [
    {
     "data": {
      "image/png": "[encoded data removed]",
      "text/plain": [
       "plot without title"
      ]
     },
     "metadata": {
      "image/png": {
       "height": 420,
       "width": 420
      },
      "text/plain": {
       "height": 420,
       "width": 420
      }
     },
     "output_type": "display_data"
    }
   ],
   "source": [
    "barplot(prop.table(table(is.na(CPS$Married), CPS$Citizenship),margin=2))"
   ]
  },
  {
   "cell_type": "markdown",
   "metadata": {},
   "source": [
    "**How many states had all interviewees living in a non-metropolitan area (aka they have a missing MetroAreaCode value)?**"
   ]
  },
  {
   "cell_type": "code",
   "execution_count": 20,
   "metadata": {},
   "outputs": [
    {
     "data": {
      "text/plain": [
       "                      \n",
       "                       FALSE  TRUE\n",
       "  Alabama               1020   356\n",
       "  Alaska                   0  1590\n",
       "  Arizona               1327   201\n",
       "  Arkansas               724   697\n",
       "  California           11333   237\n",
       "  Colorado              2545   380\n",
       "  Connecticut           2593   243\n",
       "  Delaware              1696   518\n",
       "  District of Columbia  1791     0\n",
       "  Florida               4947   202\n",
       "  Georgia               2250   557\n",
       "  Hawaii                1576   523\n",
       "  Idaho                  761   757\n",
       "  Illinois              3473   439\n",
       "  Indiana               1420   584\n",
       "  Iowa                  1297  1231\n",
       "  Kansas                1234   701\n",
       "  Kentucky               908   933\n",
       "  Louisiana             1216   234\n",
       "  Maine                  909  1354\n",
       "  Maryland              2978   222\n",
       "  Massachusetts         1858   129\n",
       "  Michigan              2517   546\n",
       "  Minnesota             2150   989\n",
       "  Mississippi            376   854\n",
       "  Missouri              1440   705\n",
       "  Montana                199  1015\n",
       "  Nebraska               816  1133\n",
       "  Nevada                1609   247\n",
       "  New Hampshire         1148  1514\n",
       "  New Jersey            2567     0\n",
       "  New Mexico             832   270\n",
       "  New York              5144   451\n",
       "  North Carolina        1642   977\n",
       "  North Dakota           432  1213\n",
       "  Ohio                  2754   924\n",
       "  Oklahoma              1024   499\n",
       "  Oregon                1519   424\n",
       "  Pennsylvania          3245   685\n",
       "  Rhode Island          2209     0\n",
       "  South Carolina        1139   519\n",
       "  South Dakota           595  1405\n",
       "  Tennessee             1149   635\n",
       "  Texas                 6060  1017\n",
       "  Utah                  1455   387\n",
       "  Vermont                657  1233\n",
       "  Virginia              2367   586\n",
       "  Washington            1937   429\n",
       "  West Virginia          344  1065\n",
       "  Wisconsin             1882   804\n",
       "  Wyoming                  0  1624"
      ]
     },
     "metadata": {},
     "output_type": "display_data"
    }
   ],
   "source": [
    "table(CPS$State , is.na(CPS$MetroAreaCode))"
   ]
  },
  {
   "cell_type": "markdown",
   "metadata": {},
   "source": [
    "Alaska, Wyoming."
   ]
  },
  {
   "cell_type": "markdown",
   "metadata": {},
   "source": [
    "**How many states had all interviewees living in a metropolitan area? Again, treat the District of Columbia as a state.**"
   ]
  },
  {
   "cell_type": "markdown",
   "metadata": {},
   "source": [
    "District of Columbia, New Jersey, Rhode Island."
   ]
  },
  {
   "cell_type": "markdown",
   "metadata": {},
   "source": [
    "**Which region of the United States has the largest proportion of interviewees living in a non-metropolitan area?**"
   ]
  },
  {
   "cell_type": "code",
   "execution_count": 21,
   "metadata": {},
   "outputs": [
    {
     "data": {
      "text/plain": [
       "           \n",
       "                FALSE      TRUE\n",
       "  Midwest   0.6521314 0.3478686\n",
       "  Northeast 0.7837619 0.2162381\n",
       "  South     0.7621560 0.2378440\n",
       "  West      0.7563372 0.2436628"
      ]
     },
     "metadata": {},
     "output_type": "display_data"
    }
   ],
   "source": [
    "prop.table(table(CPS$Region , is.na(CPS$MetroAreaCode)), margin=1)"
   ]
  },
  {
   "cell_type": "markdown",
   "metadata": {},
   "source": [
    "Midwest"
   ]
  },
  {
   "cell_type": "markdown",
   "metadata": {},
   "source": [
    "**Which state has a proportion of interviewees living in a non-metropolitan area closest to 30%?**"
   ]
  },
  {
   "cell_type": "code",
   "execution_count": 22,
   "metadata": {
    "scrolled": true
   },
   "outputs": [
    {
     "data": {
      "text/html": [
       "<style>\n",
       ".dl-inline {width: auto; margin:0; padding: 0}\n",
       ".dl-inline>dt, .dl-inline>dd {float: none; width: auto; display: inline-block}\n",
       ".dl-inline>dt::after {content: \":\\0020\"; padding-right: .5ex}\n",
       ".dl-inline>dt:not(:first-of-type) {padding-left: .5ex}\n",
       "</style><dl class=dl-inline><dt>Alabama</dt><dd>0.258720930232558</dd><dt>Alaska</dt><dd>1</dd><dt>Arizona</dt><dd>0.131544502617801</dd><dt>Arkansas</dt><dd>0.490499648135116</dd><dt>California</dt><dd>0.0204840103716508</dd><dt>Colorado</dt><dd>0.12991452991453</dd><dt>Connecticut</dt><dd>0.0856840620592384</dd><dt>Delaware</dt><dd>0.233965672990063</dd><dt>District of Columbia</dt><dd>0</dd><dt>Florida</dt><dd>0.0392309186249757</dd><dt>Georgia</dt><dd>0.198432490203064</dd><dt>Hawaii</dt><dd>0.249166269652215</dd><dt>Idaho</dt><dd>0.498682476943346</dd><dt>Illinois</dt><dd>0.11221881390593</dd><dt>Indiana</dt><dd>0.291417165668663</dd><dt>Iowa</dt><dd>0.486946202531646</dd><dt>Kansas</dt><dd>0.362273901808786</dd><dt>Kentucky</dt><dd>0.506789788158609</dd><dt>Louisiana</dt><dd>0.161379310344828</dd><dt>Maine</dt><dd>0.598320813079982</dd><dt>Maryland</dt><dd>0.069375</dd><dt>Massachusetts</dt><dd>0.0649219929542023</dd><dt>Michigan</dt><dd>0.178256611165524</dd><dt>Minnesota</dt><dd>0.315068493150685</dd><dt>Mississippi</dt><dd>0.694308943089431</dd><dt>Missouri</dt><dd>0.328671328671329</dd><dt>Montana</dt><dd>0.836079077429984</dd><dt>Nebraska</dt><dd>0.581323755772191</dd><dt>Nevada</dt><dd>0.133081896551724</dd><dt>New Hampshire</dt><dd>0.568745304282494</dd><dt>New Jersey</dt><dd>0</dd><dt>New Mexico</dt><dd>0.245009074410163</dd><dt>New York</dt><dd>0.0806076854334227</dd><dt>North Carolina</dt><dd>0.373043146239023</dd><dt>North Dakota</dt><dd>0.737386018237082</dd><dt>Ohio</dt><dd>0.251223491027732</dd><dt>Oklahoma</dt><dd>0.327642810242942</dd><dt>Oregon</dt><dd>0.218219248584663</dd><dt>Pennsylvania</dt><dd>0.174300254452926</dd><dt>Rhode Island</dt><dd>0</dd><dt>South Carolina</dt><dd>0.313027744270205</dd><dt>South Dakota</dt><dd>0.7025</dd><dt>Tennessee</dt><dd>0.355941704035874</dd><dt>Texas</dt><dd>0.143704959728699</dd><dt>Utah</dt><dd>0.210097719869707</dd><dt>Vermont</dt><dd>0.652380952380952</dd><dt>Virginia</dt><dd>0.198442262106333</dd><dt>Washington</dt><dd>0.181318681318681</dd><dt>West Virginia</dt><dd>0.755855216465578</dd><dt>Wisconsin</dt><dd>0.299329858525689</dd><dt>Wyoming</dt><dd>1</dd></dl>\n"
      ],
      "text/latex": [
       "\\begin{description*}\n",
       "\\item[Alabama] 0.258720930232558\n",
       "\\item[Alaska] 1\n",
       "\\item[Arizona] 0.131544502617801\n",
       "\\item[Arkansas] 0.490499648135116\n",
       "\\item[California] 0.0204840103716508\n",
       "\\item[Colorado] 0.12991452991453\n",
       "\\item[Connecticut] 0.0856840620592384\n",
       "\\item[Delaware] 0.233965672990063\n",
       "\\item[District of Columbia] 0\n",
       "\\item[Florida] 0.0392309186249757\n",
       "\\item[Georgia] 0.198432490203064\n",
       "\\item[Hawaii] 0.249166269652215\n",
       "\\item[Idaho] 0.498682476943346\n",
       "\\item[Illinois] 0.11221881390593\n",
       "\\item[Indiana] 0.291417165668663\n",
       "\\item[Iowa] 0.486946202531646\n",
       "\\item[Kansas] 0.362273901808786\n",
       "\\item[Kentucky] 0.506789788158609\n",
       "\\item[Louisiana] 0.161379310344828\n",
       "\\item[Maine] 0.598320813079982\n",
       "\\item[Maryland] 0.069375\n",
       "\\item[Massachusetts] 0.0649219929542023\n",
       "\\item[Michigan] 0.178256611165524\n",
       "\\item[Minnesota] 0.315068493150685\n",
       "\\item[Mississippi] 0.694308943089431\n",
       "\\item[Missouri] 0.328671328671329\n",
       "\\item[Montana] 0.836079077429984\n",
       "\\item[Nebraska] 0.581323755772191\n",
       "\\item[Nevada] 0.133081896551724\n",
       "\\item[New Hampshire] 0.568745304282494\n",
       "\\item[New Jersey] 0\n",
       "\\item[New Mexico] 0.245009074410163\n",
       "\\item[New York] 0.0806076854334227\n",
       "\\item[North Carolina] 0.373043146239023\n",
       "\\item[North Dakota] 0.737386018237082\n",
       "\\item[Ohio] 0.251223491027732\n",
       "\\item[Oklahoma] 0.327642810242942\n",
       "\\item[Oregon] 0.218219248584663\n",
       "\\item[Pennsylvania] 0.174300254452926\n",
       "\\item[Rhode Island] 0\n",
       "\\item[South Carolina] 0.313027744270205\n",
       "\\item[South Dakota] 0.7025\n",
       "\\item[Tennessee] 0.355941704035874\n",
       "\\item[Texas] 0.143704959728699\n",
       "\\item[Utah] 0.210097719869707\n",
       "\\item[Vermont] 0.652380952380952\n",
       "\\item[Virginia] 0.198442262106333\n",
       "\\item[Washington] 0.181318681318681\n",
       "\\item[West Virginia] 0.755855216465578\n",
       "\\item[Wisconsin] 0.299329858525689\n",
       "\\item[Wyoming] 1\n",
       "\\end{description*}\n"
      ],
      "text/markdown": [
       "Alabama\n",
       ":   0.258720930232558Alaska\n",
       ":   1Arizona\n",
       ":   0.131544502617801Arkansas\n",
       ":   0.490499648135116California\n",
       ":   0.0204840103716508Colorado\n",
       ":   0.12991452991453Connecticut\n",
       ":   0.0856840620592384Delaware\n",
       ":   0.233965672990063District of Columbia\n",
       ":   0Florida\n",
       ":   0.0392309186249757Georgia\n",
       ":   0.198432490203064Hawaii\n",
       ":   0.249166269652215Idaho\n",
       ":   0.498682476943346Illinois\n",
       ":   0.11221881390593Indiana\n",
       ":   0.291417165668663Iowa\n",
       ":   0.486946202531646Kansas\n",
       ":   0.362273901808786Kentucky\n",
       ":   0.506789788158609Louisiana\n",
       ":   0.161379310344828Maine\n",
       ":   0.598320813079982Maryland\n",
       ":   0.069375Massachusetts\n",
       ":   0.0649219929542023Michigan\n",
       ":   0.178256611165524Minnesota\n",
       ":   0.315068493150685Mississippi\n",
       ":   0.694308943089431Missouri\n",
       ":   0.328671328671329Montana\n",
       ":   0.836079077429984Nebraska\n",
       ":   0.581323755772191Nevada\n",
       ":   0.133081896551724New Hampshire\n",
       ":   0.568745304282494New Jersey\n",
       ":   0New Mexico\n",
       ":   0.245009074410163New York\n",
       ":   0.0806076854334227North Carolina\n",
       ":   0.373043146239023North Dakota\n",
       ":   0.737386018237082Ohio\n",
       ":   0.251223491027732Oklahoma\n",
       ":   0.327642810242942Oregon\n",
       ":   0.218219248584663Pennsylvania\n",
       ":   0.174300254452926Rhode Island\n",
       ":   0South Carolina\n",
       ":   0.313027744270205South Dakota\n",
       ":   0.7025Tennessee\n",
       ":   0.355941704035874Texas\n",
       ":   0.143704959728699Utah\n",
       ":   0.210097719869707Vermont\n",
       ":   0.652380952380952Virginia\n",
       ":   0.198442262106333Washington\n",
       ":   0.181318681318681West Virginia\n",
       ":   0.755855216465578Wisconsin\n",
       ":   0.299329858525689Wyoming\n",
       ":   1\n",
       "\n"
      ],
      "text/plain": [
       "             Alabama               Alaska              Arizona \n",
       "          0.25872093           1.00000000           0.13154450 \n",
       "            Arkansas           California             Colorado \n",
       "          0.49049965           0.02048401           0.12991453 \n",
       "         Connecticut             Delaware District of Columbia \n",
       "          0.08568406           0.23396567           0.00000000 \n",
       "             Florida              Georgia               Hawaii \n",
       "          0.03923092           0.19843249           0.24916627 \n",
       "               Idaho             Illinois              Indiana \n",
       "          0.49868248           0.11221881           0.29141717 \n",
       "                Iowa               Kansas             Kentucky \n",
       "          0.48694620           0.36227390           0.50678979 \n",
       "           Louisiana                Maine             Maryland \n",
       "          0.16137931           0.59832081           0.06937500 \n",
       "       Massachusetts             Michigan            Minnesota \n",
       "          0.06492199           0.17825661           0.31506849 \n",
       "         Mississippi             Missouri              Montana \n",
       "          0.69430894           0.32867133           0.83607908 \n",
       "            Nebraska               Nevada        New Hampshire \n",
       "          0.58132376           0.13308190           0.56874530 \n",
       "          New Jersey           New Mexico             New York \n",
       "          0.00000000           0.24500907           0.08060769 \n",
       "      North Carolina         North Dakota                 Ohio \n",
       "          0.37304315           0.73738602           0.25122349 \n",
       "            Oklahoma               Oregon         Pennsylvania \n",
       "          0.32764281           0.21821925           0.17430025 \n",
       "        Rhode Island       South Carolina         South Dakota \n",
       "          0.00000000           0.31302774           0.70250000 \n",
       "           Tennessee                Texas                 Utah \n",
       "          0.35594170           0.14370496           0.21009772 \n",
       "             Vermont             Virginia           Washington \n",
       "          0.65238095           0.19844226           0.18131868 \n",
       "       West Virginia            Wisconsin              Wyoming \n",
       "          0.75585522           0.29932986           1.00000000 "
      ]
     },
     "metadata": {},
     "output_type": "display_data"
    }
   ],
   "source": [
    "tapply(is.na(CPS$MetroAreaCode) , CPS$State, mean )"
   ]
  },
  {
   "cell_type": "markdown",
   "metadata": {},
   "source": [
    "Wisconsin"
   ]
  },
  {
   "cell_type": "markdown",
   "metadata": {},
   "source": [
    "**Which state has the largest proportion of non-metropolitan interviewees, ignoring states where all interviewees were non-metropolitan?**"
   ]
  },
  {
   "cell_type": "markdown",
   "metadata": {},
   "source": [
    "Montana"
   ]
  },
  {
   "cell_type": "markdown",
   "metadata": {},
   "source": [
    "## Integrating Metropolitan Area Data\n",
    "\n",
    "Codes like MetroAreaCode and CountryOfBirthCode are a compact way to encode factor variables with text as their possible values, and they are therefore quite common in survey datasets. In fact, all but one of the variables in this dataset were actually stored by a numeric code in the original CPS datafile.\n",
    "\n",
    "When analyzing a variable stored by a numeric code, we will often want to convert it into the values the codes represent. To do this, we will use a dictionary, which maps the the code to the actual value of the variable. We have provided dictionaries **MetroAreaCodes.csv** and **CountryCodes.csv**, which respectively map MetroAreaCode and CountryOfBirthCode into their true values. Read these two dictionaries into data frames MetroAreaMap and CountryMap."
   ]
  },
  {
   "cell_type": "code",
   "execution_count": 23,
   "metadata": {},
   "outputs": [],
   "source": [
    "MetroAreaMap <- read.csv('data/MetroAreaCodes.csv')\n",
    "CountryMap <- read.csv('data/CountryCodes.csv')"
   ]
  },
  {
   "cell_type": "markdown",
   "metadata": {},
   "source": [
    "How many observations (codes for metropolitan areas) are there in MetroAreaMap?"
   ]
  },
  {
   "cell_type": "code",
   "execution_count": 24,
   "metadata": {},
   "outputs": [
    {
     "name": "stdout",
     "output_type": "stream",
     "text": [
      "'data.frame':\t271 obs. of  2 variables:\n",
      " $ Code     : int  460 3000 3160 3610 3720 6450 10420 10500 10580 10740 ...\n",
      " $ MetroArea: Factor w/ 271 levels \"Akron, OH\",\"Albany-Schenectady-Troy, NY\",..: 12 92 97 117 122 195 1 3 2 4 ...\n"
     ]
    }
   ],
   "source": [
    "str(MetroAreaMap)"
   ]
  },
  {
   "cell_type": "code",
   "execution_count": 25,
   "metadata": {},
   "outputs": [
    {
     "data": {
      "text/html": [
       "<table>\n",
       "<caption>A data.frame: 6 × 2</caption>\n",
       "<thead>\n",
       "\t<tr><th></th><th scope=col>Code</th><th scope=col>MetroArea</th></tr>\n",
       "\t<tr><th></th><th scope=col>&lt;int&gt;</th><th scope=col>&lt;fct&gt;</th></tr>\n",
       "</thead>\n",
       "<tbody>\n",
       "\t<tr><th scope=row>1</th><td> 460</td><td>Appleton-Oshkosh-Neenah, WI        </td></tr>\n",
       "\t<tr><th scope=row>2</th><td>3000</td><td>Grand Rapids-Muskegon-Holland, MI  </td></tr>\n",
       "\t<tr><th scope=row>3</th><td>3160</td><td>Greenville-Spartanburg-Anderson, SC</td></tr>\n",
       "\t<tr><th scope=row>4</th><td>3610</td><td>Jamestown, NY                      </td></tr>\n",
       "\t<tr><th scope=row>5</th><td>3720</td><td>Kalamazoo-Battle Creek, MI         </td></tr>\n",
       "\t<tr><th scope=row>6</th><td>6450</td><td>Portsmouth-Rochester, NH-ME        </td></tr>\n",
       "</tbody>\n",
       "</table>\n"
      ],
      "text/latex": [
       "A data.frame: 6 × 2\n",
       "\\begin{tabular}{r|ll}\n",
       "  & Code & MetroArea\\\\\n",
       "  & <int> & <fct>\\\\\n",
       "\\hline\n",
       "\t1 &  460 & Appleton-Oshkosh-Neenah, WI        \\\\\n",
       "\t2 & 3000 & Grand Rapids-Muskegon-Holland, MI  \\\\\n",
       "\t3 & 3160 & Greenville-Spartanburg-Anderson, SC\\\\\n",
       "\t4 & 3610 & Jamestown, NY                      \\\\\n",
       "\t5 & 3720 & Kalamazoo-Battle Creek, MI         \\\\\n",
       "\t6 & 6450 & Portsmouth-Rochester, NH-ME        \\\\\n",
       "\\end{tabular}\n"
      ],
      "text/markdown": [
       "\n",
       "A data.frame: 6 × 2\n",
       "\n",
       "| <!--/--> | Code &lt;int&gt; | MetroArea &lt;fct&gt; |\n",
       "|---|---|---|\n",
       "| 1 |  460 | Appleton-Oshkosh-Neenah, WI         |\n",
       "| 2 | 3000 | Grand Rapids-Muskegon-Holland, MI   |\n",
       "| 3 | 3160 | Greenville-Spartanburg-Anderson, SC |\n",
       "| 4 | 3610 | Jamestown, NY                       |\n",
       "| 5 | 3720 | Kalamazoo-Battle Creek, MI          |\n",
       "| 6 | 6450 | Portsmouth-Rochester, NH-ME         |\n",
       "\n"
      ],
      "text/plain": [
       "  Code MetroArea                          \n",
       "1  460 Appleton-Oshkosh-Neenah, WI        \n",
       "2 3000 Grand Rapids-Muskegon-Holland, MI  \n",
       "3 3160 Greenville-Spartanburg-Anderson, SC\n",
       "4 3610 Jamestown, NY                      \n",
       "5 3720 Kalamazoo-Battle Creek, MI         \n",
       "6 6450 Portsmouth-Rochester, NH-ME        "
      ]
     },
     "metadata": {},
     "output_type": "display_data"
    }
   ],
   "source": [
    "head(MetroAreaMap)"
   ]
  },
  {
   "cell_type": "markdown",
   "metadata": {},
   "source": [
    "How many observations (codes for countries) are there in CountryMap?"
   ]
  },
  {
   "cell_type": "code",
   "execution_count": 26,
   "metadata": {},
   "outputs": [
    {
     "name": "stdout",
     "output_type": "stream",
     "text": [
      "'data.frame':\t149 obs. of  2 variables:\n",
      " $ Code   : int  57 66 73 78 96 100 102 103 104 105 ...\n",
      " $ Country: Factor w/ 149 levels \"Afghanistan\",..: 139 57 105 135 97 3 11 18 24 37 ...\n"
     ]
    }
   ],
   "source": [
    "str(CountryMap)"
   ]
  },
  {
   "cell_type": "code",
   "execution_count": 27,
   "metadata": {},
   "outputs": [
    {
     "data": {
      "text/html": [
       "<table>\n",
       "<caption>A data.frame: 6 × 2</caption>\n",
       "<thead>\n",
       "\t<tr><th></th><th scope=col>Code</th><th scope=col>Country</th></tr>\n",
       "\t<tr><th></th><th scope=col>&lt;int&gt;</th><th scope=col>&lt;fct&gt;</th></tr>\n",
       "</thead>\n",
       "<tbody>\n",
       "\t<tr><th scope=row>1</th><td> 57</td><td>United States           </td></tr>\n",
       "\t<tr><th scope=row>2</th><td> 66</td><td>Guam                    </td></tr>\n",
       "\t<tr><th scope=row>3</th><td> 73</td><td>Puerto Rico             </td></tr>\n",
       "\t<tr><th scope=row>4</th><td> 78</td><td>U. S. Virgin Islands    </td></tr>\n",
       "\t<tr><th scope=row>5</th><td> 96</td><td>Other U. S. Island Areas</td></tr>\n",
       "\t<tr><th scope=row>6</th><td>100</td><td>Albania                 </td></tr>\n",
       "</tbody>\n",
       "</table>\n"
      ],
      "text/latex": [
       "A data.frame: 6 × 2\n",
       "\\begin{tabular}{r|ll}\n",
       "  & Code & Country\\\\\n",
       "  & <int> & <fct>\\\\\n",
       "\\hline\n",
       "\t1 &  57 & United States           \\\\\n",
       "\t2 &  66 & Guam                    \\\\\n",
       "\t3 &  73 & Puerto Rico             \\\\\n",
       "\t4 &  78 & U. S. Virgin Islands    \\\\\n",
       "\t5 &  96 & Other U. S. Island Areas\\\\\n",
       "\t6 & 100 & Albania                 \\\\\n",
       "\\end{tabular}\n"
      ],
      "text/markdown": [
       "\n",
       "A data.frame: 6 × 2\n",
       "\n",
       "| <!--/--> | Code &lt;int&gt; | Country &lt;fct&gt; |\n",
       "|---|---|---|\n",
       "| 1 |  57 | United States            |\n",
       "| 2 |  66 | Guam                     |\n",
       "| 3 |  73 | Puerto Rico              |\n",
       "| 4 |  78 | U. S. Virgin Islands     |\n",
       "| 5 |  96 | Other U. S. Island Areas |\n",
       "| 6 | 100 | Albania                  |\n",
       "\n"
      ],
      "text/plain": [
       "  Code Country                 \n",
       "1  57  United States           \n",
       "2  66  Guam                    \n",
       "3  73  Puerto Rico             \n",
       "4  78  U. S. Virgin Islands    \n",
       "5  96  Other U. S. Island Areas\n",
       "6 100  Albania                 "
      ]
     },
     "metadata": {},
     "output_type": "display_data"
    }
   ],
   "source": [
    "head(CountryMap)"
   ]
  },
  {
   "cell_type": "markdown",
   "metadata": {},
   "source": [
    "To merge in the metropolitan areas, we want to connect the field MetroAreaCode from the CPS data frame with the field Code in MetroAreaMap. The following command merges the two data frames on these columns, overwriting the CPS data frame with the result:\n",
    "\n",
    "CPS = merge(CPS, MetroAreaMap, by.x=\"MetroAreaCode\", by.y=\"Code\", all.x=TRUE)\n",
    "\n",
    "The first two arguments determine the data frames to be merged (they are called \"x\" and \"y\", respectively, in the subsequent parameters to the merge function). by.x=\"MetroAreaCode\" means we're matching on the MetroAreaCode variable from the \"x\" data frame (CPS), while by.y=\"Code\" means we're matching on the Code variable from the \"y\" data frame (MetroAreaMap). Finally, all.x=TRUE means we want to keep all rows from the \"x\" data frame (CPS), even if some of the rows' MetroAreaCode doesn't match any codes in MetroAreaMap (for those familiar with database terminology, this parameter makes the operation a left outer join instead of an inner join)."
   ]
  },
  {
   "cell_type": "code",
   "execution_count": 28,
   "metadata": {},
   "outputs": [
    {
     "data": {
      "text/html": [
       "<table>\n",
       "<caption>A data.frame: 6 × 14</caption>\n",
       "<thead>\n",
       "\t<tr><th></th><th scope=col>PeopleInHousehold</th><th scope=col>Region</th><th scope=col>State</th><th scope=col>MetroAreaCode</th><th scope=col>Age</th><th scope=col>Married</th><th scope=col>Sex</th><th scope=col>Education</th><th scope=col>Race</th><th scope=col>Hispanic</th><th scope=col>CountryOfBirthCode</th><th scope=col>Citizenship</th><th scope=col>EmploymentStatus</th><th scope=col>Industry</th></tr>\n",
       "\t<tr><th></th><th scope=col>&lt;int&gt;</th><th scope=col>&lt;fct&gt;</th><th scope=col>&lt;fct&gt;</th><th scope=col>&lt;int&gt;</th><th scope=col>&lt;int&gt;</th><th scope=col>&lt;fct&gt;</th><th scope=col>&lt;fct&gt;</th><th scope=col>&lt;fct&gt;</th><th scope=col>&lt;fct&gt;</th><th scope=col>&lt;int&gt;</th><th scope=col>&lt;int&gt;</th><th scope=col>&lt;fct&gt;</th><th scope=col>&lt;fct&gt;</th><th scope=col>&lt;fct&gt;</th></tr>\n",
       "</thead>\n",
       "<tbody>\n",
       "\t<tr><th scope=row>1</th><td>1</td><td>South</td><td>Alabama</td><td>26620</td><td>85</td><td>Widowed      </td><td>Female</td><td>Associate degree      </td><td>White</td><td>0</td><td>57</td><td>Citizen, Native</td><td>Retired           </td><td>NA                                </td></tr>\n",
       "\t<tr><th scope=row>2</th><td>3</td><td>South</td><td>Alabama</td><td>13820</td><td>21</td><td>Never Married</td><td>Male  </td><td>High school           </td><td>Black</td><td>0</td><td>57</td><td>Citizen, Native</td><td>Unemployed        </td><td>Professional and business services</td></tr>\n",
       "\t<tr><th scope=row>3</th><td>3</td><td>South</td><td>Alabama</td><td>13820</td><td>37</td><td>Never Married</td><td>Female</td><td>High school           </td><td>Black</td><td>0</td><td>57</td><td>Citizen, Native</td><td>Disabled          </td><td>NA                                </td></tr>\n",
       "\t<tr><th scope=row>4</th><td>3</td><td>South</td><td>Alabama</td><td>13820</td><td>18</td><td>Never Married</td><td>Male  </td><td>No high school diploma</td><td>Black</td><td>0</td><td>57</td><td>Citizen, Native</td><td>Not in Labor Force</td><td>NA                                </td></tr>\n",
       "\t<tr><th scope=row>5</th><td>3</td><td>South</td><td>Alabama</td><td>26620</td><td>52</td><td>Widowed      </td><td>Female</td><td>Associate degree      </td><td>White</td><td>0</td><td>57</td><td>Citizen, Native</td><td>Employed          </td><td>Professional and business services</td></tr>\n",
       "\t<tr><th scope=row>6</th><td>3</td><td>South</td><td>Alabama</td><td>26620</td><td>24</td><td>Never Married</td><td>Male  </td><td>Bachelor's degree     </td><td>White</td><td>0</td><td>57</td><td>Citizen, Native</td><td>Employed          </td><td>Educational and health services   </td></tr>\n",
       "</tbody>\n",
       "</table>\n"
      ],
      "text/latex": [
       "A data.frame: 6 × 14\n",
       "\\begin{tabular}{r|llllllllllllll}\n",
       "  & PeopleInHousehold & Region & State & MetroAreaCode & Age & Married & Sex & Education & Race & Hispanic & CountryOfBirthCode & Citizenship & EmploymentStatus & Industry\\\\\n",
       "  & <int> & <fct> & <fct> & <int> & <int> & <fct> & <fct> & <fct> & <fct> & <int> & <int> & <fct> & <fct> & <fct>\\\\\n",
       "\\hline\n",
       "\t1 & 1 & South & Alabama & 26620 & 85 & Widowed       & Female & Associate degree       & White & 0 & 57 & Citizen, Native & Retired            & NA                                \\\\\n",
       "\t2 & 3 & South & Alabama & 13820 & 21 & Never Married & Male   & High school            & Black & 0 & 57 & Citizen, Native & Unemployed         & Professional and business services\\\\\n",
       "\t3 & 3 & South & Alabama & 13820 & 37 & Never Married & Female & High school            & Black & 0 & 57 & Citizen, Native & Disabled           & NA                                \\\\\n",
       "\t4 & 3 & South & Alabama & 13820 & 18 & Never Married & Male   & No high school diploma & Black & 0 & 57 & Citizen, Native & Not in Labor Force & NA                                \\\\\n",
       "\t5 & 3 & South & Alabama & 26620 & 52 & Widowed       & Female & Associate degree       & White & 0 & 57 & Citizen, Native & Employed           & Professional and business services\\\\\n",
       "\t6 & 3 & South & Alabama & 26620 & 24 & Never Married & Male   & Bachelor's degree      & White & 0 & 57 & Citizen, Native & Employed           & Educational and health services   \\\\\n",
       "\\end{tabular}\n"
      ],
      "text/markdown": [
       "\n",
       "A data.frame: 6 × 14\n",
       "\n",
       "| <!--/--> | PeopleInHousehold &lt;int&gt; | Region &lt;fct&gt; | State &lt;fct&gt; | MetroAreaCode &lt;int&gt; | Age &lt;int&gt; | Married &lt;fct&gt; | Sex &lt;fct&gt; | Education &lt;fct&gt; | Race &lt;fct&gt; | Hispanic &lt;int&gt; | CountryOfBirthCode &lt;int&gt; | Citizenship &lt;fct&gt; | EmploymentStatus &lt;fct&gt; | Industry &lt;fct&gt; |\n",
       "|---|---|---|---|---|---|---|---|---|---|---|---|---|---|---|\n",
       "| 1 | 1 | South | Alabama | 26620 | 85 | Widowed       | Female | Associate degree       | White | 0 | 57 | Citizen, Native | Retired            | NA                                 |\n",
       "| 2 | 3 | South | Alabama | 13820 | 21 | Never Married | Male   | High school            | Black | 0 | 57 | Citizen, Native | Unemployed         | Professional and business services |\n",
       "| 3 | 3 | South | Alabama | 13820 | 37 | Never Married | Female | High school            | Black | 0 | 57 | Citizen, Native | Disabled           | NA                                 |\n",
       "| 4 | 3 | South | Alabama | 13820 | 18 | Never Married | Male   | No high school diploma | Black | 0 | 57 | Citizen, Native | Not in Labor Force | NA                                 |\n",
       "| 5 | 3 | South | Alabama | 26620 | 52 | Widowed       | Female | Associate degree       | White | 0 | 57 | Citizen, Native | Employed           | Professional and business services |\n",
       "| 6 | 3 | South | Alabama | 26620 | 24 | Never Married | Male   | Bachelor's degree      | White | 0 | 57 | Citizen, Native | Employed           | Educational and health services    |\n",
       "\n"
      ],
      "text/plain": [
       "  PeopleInHousehold Region State   MetroAreaCode Age Married       Sex   \n",
       "1 1                 South  Alabama 26620         85  Widowed       Female\n",
       "2 3                 South  Alabama 13820         21  Never Married Male  \n",
       "3 3                 South  Alabama 13820         37  Never Married Female\n",
       "4 3                 South  Alabama 13820         18  Never Married Male  \n",
       "5 3                 South  Alabama 26620         52  Widowed       Female\n",
       "6 3                 South  Alabama 26620         24  Never Married Male  \n",
       "  Education              Race  Hispanic CountryOfBirthCode Citizenship    \n",
       "1 Associate degree       White 0        57                 Citizen, Native\n",
       "2 High school            Black 0        57                 Citizen, Native\n",
       "3 High school            Black 0        57                 Citizen, Native\n",
       "4 No high school diploma Black 0        57                 Citizen, Native\n",
       "5 Associate degree       White 0        57                 Citizen, Native\n",
       "6 Bachelor's degree      White 0        57                 Citizen, Native\n",
       "  EmploymentStatus   Industry                          \n",
       "1 Retired            NA                                \n",
       "2 Unemployed         Professional and business services\n",
       "3 Disabled           NA                                \n",
       "4 Not in Labor Force NA                                \n",
       "5 Employed           Professional and business services\n",
       "6 Employed           Educational and health services   "
      ]
     },
     "metadata": {},
     "output_type": "display_data"
    }
   ],
   "source": [
    "head(CPS)"
   ]
  },
  {
   "cell_type": "code",
   "execution_count": 29,
   "metadata": {},
   "outputs": [
    {
     "name": "stdout",
     "output_type": "stream",
     "text": [
      "'data.frame':\t131302 obs. of  14 variables:\n",
      " $ PeopleInHousehold : int  1 3 3 3 3 3 3 2 2 2 ...\n",
      " $ Region            : Factor w/ 4 levels \"Midwest\",\"Northeast\",..: 3 3 3 3 3 3 3 3 3 3 ...\n",
      " $ State             : Factor w/ 51 levels \"Alabama\",\"Alaska\",..: 1 1 1 1 1 1 1 1 1 1 ...\n",
      " $ MetroAreaCode     : int  26620 13820 13820 13820 26620 26620 26620 33660 33660 26620 ...\n",
      " $ Age               : int  85 21 37 18 52 24 26 71 43 52 ...\n",
      " $ Married           : Factor w/ 5 levels \"Divorced\",\"Married\",..: 5 3 3 3 5 3 3 1 1 3 ...\n",
      " $ Sex               : Factor w/ 2 levels \"Female\",\"Male\": 1 2 1 2 1 2 2 1 2 2 ...\n",
      " $ Education         : Factor w/ 8 levels \"Associate degree\",..: 1 4 4 6 1 2 4 4 4 2 ...\n",
      " $ Race              : Factor w/ 6 levels \"American Indian\",..: 6 3 3 3 6 6 6 6 6 6 ...\n",
      " $ Hispanic          : int  0 0 0 0 0 0 0 0 0 0 ...\n",
      " $ CountryOfBirthCode: int  57 57 57 57 57 57 57 57 57 57 ...\n",
      " $ Citizenship       : Factor w/ 3 levels \"Citizen, Native\",..: 1 1 1 1 1 1 1 1 1 1 ...\n",
      " $ EmploymentStatus  : Factor w/ 5 levels \"Disabled\",\"Employed\",..: 4 5 1 3 2 2 2 2 3 2 ...\n",
      " $ Industry          : Factor w/ 14 levels \"Agriculture, forestry, fishing, and hunting\",..: NA 11 NA NA 11 4 14 4 NA 12 ...\n"
     ]
    }
   ],
   "source": [
    "str(CPS)"
   ]
  },
  {
   "cell_type": "code",
   "execution_count": 30,
   "metadata": {},
   "outputs": [],
   "source": [
    "CPS = merge(CPS, MetroAreaMap, by.x=\"MetroAreaCode\", by.y=\"Code\", all.x=TRUE)"
   ]
  },
  {
   "cell_type": "code",
   "execution_count": 31,
   "metadata": {},
   "outputs": [
    {
     "data": {
      "text/html": [
       "<table>\n",
       "<caption>A data.frame: 6 × 15</caption>\n",
       "<thead>\n",
       "\t<tr><th></th><th scope=col>MetroAreaCode</th><th scope=col>PeopleInHousehold</th><th scope=col>Region</th><th scope=col>State</th><th scope=col>Age</th><th scope=col>Married</th><th scope=col>Sex</th><th scope=col>Education</th><th scope=col>Race</th><th scope=col>Hispanic</th><th scope=col>CountryOfBirthCode</th><th scope=col>Citizenship</th><th scope=col>EmploymentStatus</th><th scope=col>Industry</th><th scope=col>MetroArea</th></tr>\n",
       "\t<tr><th></th><th scope=col>&lt;int&gt;</th><th scope=col>&lt;int&gt;</th><th scope=col>&lt;fct&gt;</th><th scope=col>&lt;fct&gt;</th><th scope=col>&lt;int&gt;</th><th scope=col>&lt;fct&gt;</th><th scope=col>&lt;fct&gt;</th><th scope=col>&lt;fct&gt;</th><th scope=col>&lt;fct&gt;</th><th scope=col>&lt;int&gt;</th><th scope=col>&lt;int&gt;</th><th scope=col>&lt;fct&gt;</th><th scope=col>&lt;fct&gt;</th><th scope=col>&lt;fct&gt;</th><th scope=col>&lt;fct&gt;</th></tr>\n",
       "</thead>\n",
       "<tbody>\n",
       "\t<tr><th scope=row>1</th><td>10420</td><td>4</td><td>Midwest</td><td>Ohio</td><td> 2</td><td>NA           </td><td>Male  </td><td>NA                     </td><td>White</td><td>0</td><td> 57</td><td>Citizen, Native     </td><td>NA                </td><td>NA                     </td><td>Akron, OH</td></tr>\n",
       "\t<tr><th scope=row>2</th><td>10420</td><td>4</td><td>Midwest</td><td>Ohio</td><td> 9</td><td>NA           </td><td>Male  </td><td>NA                     </td><td>White</td><td>0</td><td> 57</td><td>Citizen, Native     </td><td>NA                </td><td>NA                     </td><td>Akron, OH</td></tr>\n",
       "\t<tr><th scope=row>3</th><td>10420</td><td>2</td><td>Midwest</td><td>Ohio</td><td>73</td><td>Married      </td><td>Female</td><td>Some college, no degree</td><td>White</td><td>0</td><td> 57</td><td>Citizen, Native     </td><td>Retired           </td><td>NA                     </td><td>Akron, OH</td></tr>\n",
       "\t<tr><th scope=row>4</th><td>10420</td><td>4</td><td>Midwest</td><td>Ohio</td><td>40</td><td>Married      </td><td>Female</td><td>High school            </td><td>White</td><td>0</td><td>362</td><td>Citizen, Naturalized</td><td>Not in Labor Force</td><td>NA                     </td><td>Akron, OH</td></tr>\n",
       "\t<tr><th scope=row>5</th><td>10420</td><td>1</td><td>Midwest</td><td>Ohio</td><td>63</td><td>Never Married</td><td>Male  </td><td>No high school diploma </td><td>White</td><td>0</td><td> 57</td><td>Citizen, Native     </td><td>Disabled          </td><td>NA                     </td><td>Akron, OH</td></tr>\n",
       "\t<tr><th scope=row>6</th><td>10420</td><td>3</td><td>Midwest</td><td>Ohio</td><td>19</td><td>Never Married</td><td>Female</td><td>High school            </td><td>White</td><td>0</td><td> 57</td><td>Citizen, Native     </td><td>Employed          </td><td>Leisure and hospitality</td><td>Akron, OH</td></tr>\n",
       "</tbody>\n",
       "</table>\n"
      ],
      "text/latex": [
       "A data.frame: 6 × 15\n",
       "\\begin{tabular}{r|lllllllllllllll}\n",
       "  & MetroAreaCode & PeopleInHousehold & Region & State & Age & Married & Sex & Education & Race & Hispanic & CountryOfBirthCode & Citizenship & EmploymentStatus & Industry & MetroArea\\\\\n",
       "  & <int> & <int> & <fct> & <fct> & <int> & <fct> & <fct> & <fct> & <fct> & <int> & <int> & <fct> & <fct> & <fct> & <fct>\\\\\n",
       "\\hline\n",
       "\t1 & 10420 & 4 & Midwest & Ohio &  2 & NA            & Male   & NA                      & White & 0 &  57 & Citizen, Native      & NA                 & NA                      & Akron, OH\\\\\n",
       "\t2 & 10420 & 4 & Midwest & Ohio &  9 & NA            & Male   & NA                      & White & 0 &  57 & Citizen, Native      & NA                 & NA                      & Akron, OH\\\\\n",
       "\t3 & 10420 & 2 & Midwest & Ohio & 73 & Married       & Female & Some college, no degree & White & 0 &  57 & Citizen, Native      & Retired            & NA                      & Akron, OH\\\\\n",
       "\t4 & 10420 & 4 & Midwest & Ohio & 40 & Married       & Female & High school             & White & 0 & 362 & Citizen, Naturalized & Not in Labor Force & NA                      & Akron, OH\\\\\n",
       "\t5 & 10420 & 1 & Midwest & Ohio & 63 & Never Married & Male   & No high school diploma  & White & 0 &  57 & Citizen, Native      & Disabled           & NA                      & Akron, OH\\\\\n",
       "\t6 & 10420 & 3 & Midwest & Ohio & 19 & Never Married & Female & High school             & White & 0 &  57 & Citizen, Native      & Employed           & Leisure and hospitality & Akron, OH\\\\\n",
       "\\end{tabular}\n"
      ],
      "text/markdown": [
       "\n",
       "A data.frame: 6 × 15\n",
       "\n",
       "| <!--/--> | MetroAreaCode &lt;int&gt; | PeopleInHousehold &lt;int&gt; | Region &lt;fct&gt; | State &lt;fct&gt; | Age &lt;int&gt; | Married &lt;fct&gt; | Sex &lt;fct&gt; | Education &lt;fct&gt; | Race &lt;fct&gt; | Hispanic &lt;int&gt; | CountryOfBirthCode &lt;int&gt; | Citizenship &lt;fct&gt; | EmploymentStatus &lt;fct&gt; | Industry &lt;fct&gt; | MetroArea &lt;fct&gt; |\n",
       "|---|---|---|---|---|---|---|---|---|---|---|---|---|---|---|---|\n",
       "| 1 | 10420 | 4 | Midwest | Ohio |  2 | NA            | Male   | NA                      | White | 0 |  57 | Citizen, Native      | NA                 | NA                      | Akron, OH |\n",
       "| 2 | 10420 | 4 | Midwest | Ohio |  9 | NA            | Male   | NA                      | White | 0 |  57 | Citizen, Native      | NA                 | NA                      | Akron, OH |\n",
       "| 3 | 10420 | 2 | Midwest | Ohio | 73 | Married       | Female | Some college, no degree | White | 0 |  57 | Citizen, Native      | Retired            | NA                      | Akron, OH |\n",
       "| 4 | 10420 | 4 | Midwest | Ohio | 40 | Married       | Female | High school             | White | 0 | 362 | Citizen, Naturalized | Not in Labor Force | NA                      | Akron, OH |\n",
       "| 5 | 10420 | 1 | Midwest | Ohio | 63 | Never Married | Male   | No high school diploma  | White | 0 |  57 | Citizen, Native      | Disabled           | NA                      | Akron, OH |\n",
       "| 6 | 10420 | 3 | Midwest | Ohio | 19 | Never Married | Female | High school             | White | 0 |  57 | Citizen, Native      | Employed           | Leisure and hospitality | Akron, OH |\n",
       "\n"
      ],
      "text/plain": [
       "  MetroAreaCode PeopleInHousehold Region  State Age Married       Sex   \n",
       "1 10420         4                 Midwest Ohio   2  NA            Male  \n",
       "2 10420         4                 Midwest Ohio   9  NA            Male  \n",
       "3 10420         2                 Midwest Ohio  73  Married       Female\n",
       "4 10420         4                 Midwest Ohio  40  Married       Female\n",
       "5 10420         1                 Midwest Ohio  63  Never Married Male  \n",
       "6 10420         3                 Midwest Ohio  19  Never Married Female\n",
       "  Education               Race  Hispanic CountryOfBirthCode\n",
       "1 NA                      White 0         57               \n",
       "2 NA                      White 0         57               \n",
       "3 Some college, no degree White 0         57               \n",
       "4 High school             White 0        362               \n",
       "5 No high school diploma  White 0         57               \n",
       "6 High school             White 0         57               \n",
       "  Citizenship          EmploymentStatus   Industry                MetroArea\n",
       "1 Citizen, Native      NA                 NA                      Akron, OH\n",
       "2 Citizen, Native      NA                 NA                      Akron, OH\n",
       "3 Citizen, Native      Retired            NA                      Akron, OH\n",
       "4 Citizen, Naturalized Not in Labor Force NA                      Akron, OH\n",
       "5 Citizen, Native      Disabled           NA                      Akron, OH\n",
       "6 Citizen, Native      Employed           Leisure and hospitality Akron, OH"
      ]
     },
     "metadata": {},
     "output_type": "display_data"
    }
   ],
   "source": [
    "head(CPS)"
   ]
  },
  {
   "cell_type": "code",
   "execution_count": 32,
   "metadata": {},
   "outputs": [
    {
     "name": "stdout",
     "output_type": "stream",
     "text": [
      "'data.frame':\t131302 obs. of  15 variables:\n",
      " $ MetroAreaCode     : int  10420 10420 10420 10420 10420 10420 10420 10420 10420 10420 ...\n",
      " $ PeopleInHousehold : int  4 4 2 4 1 3 4 4 2 3 ...\n",
      " $ Region            : Factor w/ 4 levels \"Midwest\",\"Northeast\",..: 1 1 1 1 1 1 1 1 1 1 ...\n",
      " $ State             : Factor w/ 51 levels \"Alabama\",\"Alaska\",..: 36 36 36 36 36 36 36 36 36 36 ...\n",
      " $ Age               : int  2 9 73 40 63 19 30 6 60 32 ...\n",
      " $ Married           : Factor w/ 5 levels \"Divorced\",\"Married\",..: NA NA 2 2 3 3 2 NA 2 2 ...\n",
      " $ Sex               : Factor w/ 2 levels \"Female\",\"Male\": 2 2 1 1 2 1 1 1 1 2 ...\n",
      " $ Education         : Factor w/ 8 levels \"Associate degree\",..: NA NA 8 4 6 4 2 NA 4 4 ...\n",
      " $ Race              : Factor w/ 6 levels \"American Indian\",..: 6 6 6 6 6 6 2 6 6 6 ...\n",
      " $ Hispanic          : int  0 0 0 0 0 0 0 1 0 0 ...\n",
      " $ CountryOfBirthCode: int  57 57 57 362 57 57 203 57 57 57 ...\n",
      " $ Citizenship       : Factor w/ 3 levels \"Citizen, Native\",..: 1 1 1 2 1 1 3 1 1 1 ...\n",
      " $ EmploymentStatus  : Factor w/ 5 levels \"Disabled\",\"Employed\",..: NA NA 4 3 1 2 3 NA 2 2 ...\n",
      " $ Industry          : Factor w/ 14 levels \"Agriculture, forestry, fishing, and hunting\",..: NA NA NA NA NA 7 NA NA 4 13 ...\n",
      " $ MetroArea         : Factor w/ 271 levels \"Akron, OH\",\"Albany-Schenectady-Troy, NY\",..: 1 1 1 1 1 1 1 1 1 1 ...\n"
     ]
    }
   ],
   "source": [
    "str(CPS)"
   ]
  },
  {
   "cell_type": "code",
   "execution_count": 33,
   "metadata": {},
   "outputs": [
    {
     "data": {
      "text/plain": [
       " MetroAreaCode   PeopleInHousehold       Region               State      \n",
       " Min.   :10420   Min.   : 1.000    Midwest  :30684   California  :11570  \n",
       " 1st Qu.:21780   1st Qu.: 2.000    Northeast:25939   Texas       : 7077  \n",
       " Median :34740   Median : 3.000    South    :41502   New York    : 5595  \n",
       " Mean   :35075   Mean   : 3.284    West     :33177   Florida     : 5149  \n",
       " 3rd Qu.:41860   3rd Qu.: 4.000                      Pennsylvania: 3930  \n",
       " Max.   :79600   Max.   :15.000                      Illinois    : 3912  \n",
       " NA's   :34238                                       (Other)     :94069  \n",
       "      Age                 Married          Sex       \n",
       " Min.   : 0.00   Divorced     :11151   Female:67481  \n",
       " 1st Qu.:19.00   Married      :55509   Male  :63821  \n",
       " Median :39.00   Never Married:30772                 \n",
       " Mean   :38.83   Separated    : 2027                 \n",
       " 3rd Qu.:57.00   Widowed      : 6505                 \n",
       " Max.   :85.00   NA's         :25338                 \n",
       "                                                     \n",
       "                   Education                   Race           Hispanic     \n",
       " High school            :30906   American Indian :  1433   Min.   :0.0000  \n",
       " Bachelor's degree      :19443   Asian           :  6520   1st Qu.:0.0000  \n",
       " Some college, no degree:18863   Black           : 13913   Median :0.0000  \n",
       " No high school diploma :16095   Multiracial     :  2897   Mean   :0.1393  \n",
       " Associate degree       : 9913   Pacific Islander:   618   3rd Qu.:0.0000  \n",
       " (Other)                :10744   White           :105921   Max.   :1.0000  \n",
       " NA's                   :25338                                             \n",
       " CountryOfBirthCode               Citizenship               EmploymentStatus\n",
       " Min.   : 57.00     Citizen, Native     :116639   Disabled          : 5712  \n",
       " 1st Qu.: 57.00     Citizen, Naturalized:  7073   Employed          :61733  \n",
       " Median : 57.00     Non-Citizen         :  7590   Not in Labor Force:15246  \n",
       " Mean   : 82.68                                   Retired           :18619  \n",
       " 3rd Qu.: 57.00                                   Unemployed        : 4203  \n",
       " Max.   :555.00                                   NA's              :25789  \n",
       "                                                                            \n",
       "                               Industry    \n",
       " Educational and health services   :15017  \n",
       " Trade                             : 8933  \n",
       " Professional and business services: 7519  \n",
       " Manufacturing                     : 6791  \n",
       " Leisure and hospitality           : 6364  \n",
       " (Other)                           :21618  \n",
       " NA's                              :65060  \n",
       "                                              MetroArea    \n",
       " New York-Northern New Jersey-Long Island, NY-NJ-PA: 5409  \n",
       " Washington-Arlington-Alexandria, DC-VA-MD-WV      : 4177  \n",
       " Los Angeles-Long Beach-Santa Ana, CA              : 4102  \n",
       " Philadelphia-Camden-Wilmington, PA-NJ-DE          : 2855  \n",
       " Chicago-Naperville-Joliet, IN-IN-WI               : 2772  \n",
       " (Other)                                           :77749  \n",
       " NA's                                              :34238  "
      ]
     },
     "metadata": {},
     "output_type": "display_data"
    }
   ],
   "source": [
    "summary(CPS)"
   ]
  },
  {
   "cell_type": "markdown",
   "metadata": {},
   "source": [
    "**How many interviewees have a missing value for the new metropolitan area variable?**"
   ]
  },
  {
   "cell_type": "markdown",
   "metadata": {},
   "source": [
    "34238"
   ]
  },
  {
   "cell_type": "markdown",
   "metadata": {},
   "source": [
    "**Which of the following metropolitan areas has the largest number of interviewees?**"
   ]
  },
  {
   "cell_type": "code",
   "execution_count": 34,
   "metadata": {},
   "outputs": [
    {
     "data": {
      "text/plain": [
       "\n",
       "New York-Northern New Jersey-Long Island, NY-NJ-PA \n",
       "                                              5409 \n",
       "      Washington-Arlington-Alexandria, DC-VA-MD-WV \n",
       "                                              4177 \n",
       "              Los Angeles-Long Beach-Santa Ana, CA \n",
       "                                              4102 \n",
       "          Philadelphia-Camden-Wilmington, PA-NJ-DE \n",
       "                                              2855 \n",
       "               Chicago-Naperville-Joliet, IN-IN-WI \n",
       "                                              2772 "
      ]
     },
     "metadata": {},
     "output_type": "display_data"
    }
   ],
   "source": [
    "head(sort(table(CPS$MetroArea), decreasing = T), 5)"
   ]
  },
  {
   "cell_type": "markdown",
   "metadata": {},
   "source": [
    "New York-Northern New Jersey-Long Island, NY-NJ-PA "
   ]
  },
  {
   "cell_type": "markdown",
   "metadata": {},
   "source": [
    "**Which metropolitan area has the highest proportion of interviewees of Hispanic ethnicity?**"
   ]
  },
  {
   "cell_type": "code",
   "execution_count": 35,
   "metadata": {},
   "outputs": [
    {
     "data": {
      "text/html": [
       "<style>\n",
       ".dl-inline {width: auto; margin:0; padding: 0}\n",
       ".dl-inline>dt, .dl-inline>dd {float: none; width: auto; display: inline-block}\n",
       ".dl-inline>dt::after {content: \":\\0020\"; padding-right: .5ex}\n",
       ".dl-inline>dt:not(:first-of-type) {padding-left: .5ex}\n",
       "</style><dl class=dl-inline><dt>Laredo, TX</dt><dd>0.966292134831461</dd><dt>McAllen-Edinburg-Pharr, TX</dt><dd>0.948717948717949</dd><dt>Brownsville-Harlingen, TX</dt><dd>0.79746835443038</dd><dt>El Paso, TX</dt><dd>0.790983606557377</dd><dt>El Centro, CA</dt><dd>0.686868686868687</dd></dl>\n"
      ],
      "text/latex": [
       "\\begin{description*}\n",
       "\\item[Laredo, TX] 0.966292134831461\n",
       "\\item[McAllen-Edinburg-Pharr, TX] 0.948717948717949\n",
       "\\item[Brownsville-Harlingen, TX] 0.79746835443038\n",
       "\\item[El Paso, TX] 0.790983606557377\n",
       "\\item[El Centro, CA] 0.686868686868687\n",
       "\\end{description*}\n"
      ],
      "text/markdown": [
       "Laredo, TX\n",
       ":   0.966292134831461McAllen-Edinburg-Pharr, TX\n",
       ":   0.948717948717949Brownsville-Harlingen, TX\n",
       ":   0.79746835443038El Paso, TX\n",
       ":   0.790983606557377El Centro, CA\n",
       ":   0.686868686868687\n",
       "\n"
      ],
      "text/plain": [
       "                Laredo, TX McAllen-Edinburg-Pharr, TX \n",
       "                 0.9662921                  0.9487179 \n",
       " Brownsville-Harlingen, TX                El Paso, TX \n",
       "                 0.7974684                  0.7909836 \n",
       "             El Centro, CA \n",
       "                 0.6868687 "
      ]
     },
     "metadata": {},
     "output_type": "display_data"
    }
   ],
   "source": [
    "head(sort(tapply(CPS$Hispanic, CPS$MetroArea, mean), decreasing = T), 5)"
   ]
  },
  {
   "cell_type": "markdown",
   "metadata": {},
   "source": [
    "Laredo, TX"
   ]
  },
  {
   "cell_type": "markdown",
   "metadata": {},
   "source": [
    "**Determine the number of metropolitan areas in the United States from which at least 20% of interviewees are Asian.**"
   ]
  },
  {
   "cell_type": "code",
   "execution_count": 36,
   "metadata": {},
   "outputs": [
    {
     "data": {
      "text/html": [
       "<style>\n",
       ".dl-inline {width: auto; margin:0; padding: 0}\n",
       ".dl-inline>dt, .dl-inline>dd {float: none; width: auto; display: inline-block}\n",
       ".dl-inline>dt::after {content: \":\\0020\"; padding-right: .5ex}\n",
       ".dl-inline>dt:not(:first-of-type) {padding-left: .5ex}\n",
       "</style><dl class=dl-inline><dt>Honolulu, HI</dt><dd>0.501903553299492</dd><dt>San Francisco-Oakland-Fremont, CA</dt><dd>0.246753246753247</dd><dt>San Jose-Sunnyvale-Santa Clara, CA</dt><dd>0.241791044776119</dd><dt>Vallejo-Fairfield, CA</dt><dd>0.203007518796992</dd><dt>Fresno, CA</dt><dd>0.184818481848185</dd><dt>Warner Robins, GA</dt><dd>0.166666666666667</dd><dt>Stockton, CA</dt><dd>0.155440414507772</dd><dt>Atlantic City, NJ</dt><dd>0.144144144144144</dd><dt>Sacramento-Arden-Arcade-Roseville, CA</dt><dd>0.142428785607196</dd><dt>San Diego-Carlsbad-San Marcos, CA</dt><dd>0.142227122381477</dd></dl>\n"
      ],
      "text/latex": [
       "\\begin{description*}\n",
       "\\item[Honolulu, HI] 0.501903553299492\n",
       "\\item[San Francisco-Oakland-Fremont, CA] 0.246753246753247\n",
       "\\item[San Jose-Sunnyvale-Santa Clara, CA] 0.241791044776119\n",
       "\\item[Vallejo-Fairfield, CA] 0.203007518796992\n",
       "\\item[Fresno, CA] 0.184818481848185\n",
       "\\item[Warner Robins, GA] 0.166666666666667\n",
       "\\item[Stockton, CA] 0.155440414507772\n",
       "\\item[Atlantic City, NJ] 0.144144144144144\n",
       "\\item[Sacramento-Arden-Arcade-Roseville, CA] 0.142428785607196\n",
       "\\item[San Diego-Carlsbad-San Marcos, CA] 0.142227122381477\n",
       "\\end{description*}\n"
      ],
      "text/markdown": [
       "Honolulu, HI\n",
       ":   0.501903553299492San Francisco-Oakland-Fremont, CA\n",
       ":   0.246753246753247San Jose-Sunnyvale-Santa Clara, CA\n",
       ":   0.241791044776119Vallejo-Fairfield, CA\n",
       ":   0.203007518796992Fresno, CA\n",
       ":   0.184818481848185Warner Robins, GA\n",
       ":   0.166666666666667Stockton, CA\n",
       ":   0.155440414507772Atlantic City, NJ\n",
       ":   0.144144144144144Sacramento-Arden-Arcade-Roseville, CA\n",
       ":   0.142428785607196San Diego-Carlsbad-San Marcos, CA\n",
       ":   0.142227122381477\n",
       "\n"
      ],
      "text/plain": [
       "                         Honolulu, HI     San Francisco-Oakland-Fremont, CA \n",
       "                            0.5019036                             0.2467532 \n",
       "   San Jose-Sunnyvale-Santa Clara, CA                 Vallejo-Fairfield, CA \n",
       "                            0.2417910                             0.2030075 \n",
       "                           Fresno, CA                     Warner Robins, GA \n",
       "                            0.1848185                             0.1666667 \n",
       "                         Stockton, CA                     Atlantic City, NJ \n",
       "                            0.1554404                             0.1441441 \n",
       "Sacramento-Arden-Arcade-Roseville, CA     San Diego-Carlsbad-San Marcos, CA \n",
       "                            0.1424288                             0.1422271 "
      ]
     },
     "metadata": {},
     "output_type": "display_data"
    }
   ],
   "source": [
    "head(sort(tapply(CPS$Race == \"Asian\", CPS$MetroArea, mean), decreasing = T), 10)"
   ]
  },
  {
   "cell_type": "code",
   "execution_count": 37,
   "metadata": {},
   "outputs": [
    {
     "data": {
      "text/html": [
       "4"
      ],
      "text/latex": [
       "4"
      ],
      "text/markdown": [
       "4"
      ],
      "text/plain": [
       "[1] 4"
      ]
     },
     "metadata": {},
     "output_type": "display_data"
    }
   ],
   "source": [
    "sum( sort(tapply(CPS$Race == \"Asian\", CPS$MetroArea, mean), decreasing = T) > 0.2)"
   ]
  },
  {
   "cell_type": "markdown",
   "metadata": {},
   "source": [
    "Normally, we would look at the sorted proportion of interviewees from each metropolitan area who have not received a high school diploma with the command:\n",
    "\n",
    "sort(tapply(CPS$Education == \"No high school diploma\", CPS$MetroArea, mean))\n",
    "\n",
    "However, none of the interviewees aged 14 and younger have an education value reported, so the mean value is reported as NA for each metropolitan area. To get mean (and related functions, like sum) to ignore missing values, you can pass the parameter na.rm=TRUE. Passing na.rm=TRUE to the tapply function, **determine which metropolitan area has the smallest proportion of interviewees who have received no high school diploma.**"
   ]
  },
  {
   "cell_type": "code",
   "execution_count": 38,
   "metadata": {},
   "outputs": [
    {
     "data": {
      "text/html": [
       "<style>\n",
       ".dl-inline {width: auto; margin:0; padding: 0}\n",
       ".dl-inline>dt, .dl-inline>dd {float: none; width: auto; display: inline-block}\n",
       ".dl-inline>dt::after {content: \":\\0020\"; padding-right: .5ex}\n",
       ".dl-inline>dt:not(:first-of-type) {padding-left: .5ex}\n",
       "</style><dl class=dl-inline><dt>Iowa City, IA</dt><dd>0.029126213592233</dd><dt>Bowling Green, KY</dt><dd>0.037037037037037</dd><dt>Kalamazoo-Portage, MI</dt><dd>0.0505050505050505</dd><dt>Champaign-Urbana, IL</dt><dd>0.0515463917525773</dd><dt>Bremerton-Silverdale, WA</dt><dd>0.0540540540540541</dd></dl>\n"
      ],
      "text/latex": [
       "\\begin{description*}\n",
       "\\item[Iowa City, IA] 0.029126213592233\n",
       "\\item[Bowling Green, KY] 0.037037037037037\n",
       "\\item[Kalamazoo-Portage, MI] 0.0505050505050505\n",
       "\\item[Champaign-Urbana, IL] 0.0515463917525773\n",
       "\\item[Bremerton-Silverdale, WA] 0.0540540540540541\n",
       "\\end{description*}\n"
      ],
      "text/markdown": [
       "Iowa City, IA\n",
       ":   0.029126213592233Bowling Green, KY\n",
       ":   0.037037037037037Kalamazoo-Portage, MI\n",
       ":   0.0505050505050505Champaign-Urbana, IL\n",
       ":   0.0515463917525773Bremerton-Silverdale, WA\n",
       ":   0.0540540540540541\n",
       "\n"
      ],
      "text/plain": [
       "           Iowa City, IA        Bowling Green, KY    Kalamazoo-Portage, MI \n",
       "              0.02912621               0.03703704               0.05050505 \n",
       "    Champaign-Urbana, IL Bremerton-Silverdale, WA \n",
       "              0.05154639               0.05405405 "
      ]
     },
     "metadata": {},
     "output_type": "display_data"
    }
   ],
   "source": [
    "head(sort(tapply(CPS$Education == \"No high school diploma\", CPS$MetroArea, mean, na.rm=T)), 5)"
   ]
  },
  {
   "cell_type": "markdown",
   "metadata": {},
   "source": [
    "Iowa City, IA"
   ]
  },
  {
   "cell_type": "markdown",
   "metadata": {},
   "source": [
    "Just as we did with the metropolitan area information, merge in the country of birth information from the CountryMap data frame, replacing the CPS data frame with the result. If you accidentally overwrite CPS with the wrong values, remember that you can restore it by re-loading the data frame from CPSData.csv and then merging in the metropolitan area information using the command provided in the previous subproblem.\n",
    "\n",
    "**What is the name of the variable added to the CPS data frame by this merge operation?**"
   ]
  },
  {
   "cell_type": "code",
   "execution_count": 39,
   "metadata": {},
   "outputs": [
    {
     "name": "stdout",
     "output_type": "stream",
     "text": [
      "'data.frame':\t149 obs. of  2 variables:\n",
      " $ Code   : int  57 66 73 78 96 100 102 103 104 105 ...\n",
      " $ Country: Factor w/ 149 levels \"Afghanistan\",..: 139 57 105 135 97 3 11 18 24 37 ...\n"
     ]
    }
   ],
   "source": [
    "CountryMap <- read.csv('data/CountryCodes.csv')\n",
    "str(CountryMap)"
   ]
  },
  {
   "cell_type": "code",
   "execution_count": 40,
   "metadata": {},
   "outputs": [
    {
     "name": "stdout",
     "output_type": "stream",
     "text": [
      "'data.frame':\t131302 obs. of  15 variables:\n",
      " $ MetroAreaCode     : int  10420 10420 10420 10420 10420 10420 10420 10420 10420 10420 ...\n",
      " $ PeopleInHousehold : int  4 4 2 4 1 3 4 4 2 3 ...\n",
      " $ Region            : Factor w/ 4 levels \"Midwest\",\"Northeast\",..: 1 1 1 1 1 1 1 1 1 1 ...\n",
      " $ State             : Factor w/ 51 levels \"Alabama\",\"Alaska\",..: 36 36 36 36 36 36 36 36 36 36 ...\n",
      " $ Age               : int  2 9 73 40 63 19 30 6 60 32 ...\n",
      " $ Married           : Factor w/ 5 levels \"Divorced\",\"Married\",..: NA NA 2 2 3 3 2 NA 2 2 ...\n",
      " $ Sex               : Factor w/ 2 levels \"Female\",\"Male\": 2 2 1 1 2 1 1 1 1 2 ...\n",
      " $ Education         : Factor w/ 8 levels \"Associate degree\",..: NA NA 8 4 6 4 2 NA 4 4 ...\n",
      " $ Race              : Factor w/ 6 levels \"American Indian\",..: 6 6 6 6 6 6 2 6 6 6 ...\n",
      " $ Hispanic          : int  0 0 0 0 0 0 0 1 0 0 ...\n",
      " $ CountryOfBirthCode: int  57 57 57 362 57 57 203 57 57 57 ...\n",
      " $ Citizenship       : Factor w/ 3 levels \"Citizen, Native\",..: 1 1 1 2 1 1 3 1 1 1 ...\n",
      " $ EmploymentStatus  : Factor w/ 5 levels \"Disabled\",\"Employed\",..: NA NA 4 3 1 2 3 NA 2 2 ...\n",
      " $ Industry          : Factor w/ 14 levels \"Agriculture, forestry, fishing, and hunting\",..: NA NA NA NA NA 7 NA NA 4 13 ...\n",
      " $ MetroArea         : Factor w/ 271 levels \"Akron, OH\",\"Albany-Schenectady-Troy, NY\",..: 1 1 1 1 1 1 1 1 1 1 ...\n"
     ]
    }
   ],
   "source": [
    "str(CPS)"
   ]
  },
  {
   "cell_type": "code",
   "execution_count": 41,
   "metadata": {},
   "outputs": [],
   "source": [
    "CPS = merge(CPS, CountryMap, by.x=\"CountryOfBirthCode\", by.y=\"Code\", all.x=TRUE)"
   ]
  },
  {
   "cell_type": "code",
   "execution_count": 42,
   "metadata": {},
   "outputs": [
    {
     "name": "stdout",
     "output_type": "stream",
     "text": [
      "'data.frame':\t131302 obs. of  16 variables:\n",
      " $ CountryOfBirthCode: int  57 57 57 57 57 57 57 57 57 57 ...\n",
      " $ MetroAreaCode     : int  10420 71650 10420 10420 10420 10420 10420 10420 10420 10420 ...\n",
      " $ PeopleInHousehold : int  2 4 5 2 2 3 1 3 4 4 ...\n",
      " $ Region            : Factor w/ 4 levels \"Midwest\",\"Northeast\",..: 1 2 1 1 1 1 1 1 1 1 ...\n",
      " $ State             : Factor w/ 51 levels \"Alabama\",\"Alaska\",..: 36 30 36 36 36 36 36 36 36 36 ...\n",
      " $ Age               : int  73 5 10 30 30 0 34 32 6 9 ...\n",
      " $ Married           : Factor w/ 5 levels \"Divorced\",\"Married\",..: 2 NA NA 2 2 NA 1 2 NA NA ...\n",
      " $ Sex               : Factor w/ 2 levels \"Female\",\"Male\": 1 1 1 1 1 2 2 2 1 2 ...\n",
      " $ Education         : Factor w/ 8 levels \"Associate degree\",..: 8 NA NA 1 2 NA 4 4 NA NA ...\n",
      " $ Race              : Factor w/ 6 levels \"American Indian\",..: 6 6 6 6 6 6 6 6 6 6 ...\n",
      " $ Hispanic          : int  0 0 0 0 0 0 0 0 1 0 ...\n",
      " $ Citizenship       : Factor w/ 3 levels \"Citizen, Native\",..: 1 1 1 1 1 1 1 1 1 1 ...\n",
      " $ EmploymentStatus  : Factor w/ 5 levels \"Disabled\",\"Employed\",..: 4 NA NA 2 2 NA 2 2 NA NA ...\n",
      " $ Industry          : Factor w/ 14 levels \"Agriculture, forestry, fishing, and hunting\",..: NA NA NA 13 9 NA 3 13 NA NA ...\n",
      " $ MetroArea         : Factor w/ 271 levels \"Akron, OH\",\"Albany-Schenectady-Troy, NY\",..: 1 34 1 1 1 1 1 1 1 1 ...\n",
      " $ Country           : Factor w/ 149 levels \"Afghanistan\",..: 139 139 139 139 139 139 139 139 139 139 ...\n"
     ]
    }
   ],
   "source": [
    "str(CPS)"
   ]
  },
  {
   "cell_type": "code",
   "execution_count": 43,
   "metadata": {},
   "outputs": [
    {
     "data": {
      "text/html": [
       "<table>\n",
       "<caption>A data.frame: 6 × 16</caption>\n",
       "<thead>\n",
       "\t<tr><th></th><th scope=col>CountryOfBirthCode</th><th scope=col>MetroAreaCode</th><th scope=col>PeopleInHousehold</th><th scope=col>Region</th><th scope=col>State</th><th scope=col>Age</th><th scope=col>Married</th><th scope=col>Sex</th><th scope=col>Education</th><th scope=col>Race</th><th scope=col>Hispanic</th><th scope=col>Citizenship</th><th scope=col>EmploymentStatus</th><th scope=col>Industry</th><th scope=col>MetroArea</th><th scope=col>Country</th></tr>\n",
       "\t<tr><th></th><th scope=col>&lt;int&gt;</th><th scope=col>&lt;int&gt;</th><th scope=col>&lt;int&gt;</th><th scope=col>&lt;fct&gt;</th><th scope=col>&lt;fct&gt;</th><th scope=col>&lt;int&gt;</th><th scope=col>&lt;fct&gt;</th><th scope=col>&lt;fct&gt;</th><th scope=col>&lt;fct&gt;</th><th scope=col>&lt;fct&gt;</th><th scope=col>&lt;int&gt;</th><th scope=col>&lt;fct&gt;</th><th scope=col>&lt;fct&gt;</th><th scope=col>&lt;fct&gt;</th><th scope=col>&lt;fct&gt;</th><th scope=col>&lt;fct&gt;</th></tr>\n",
       "</thead>\n",
       "<tbody>\n",
       "\t<tr><th scope=row>1</th><td>57</td><td>10420</td><td>2</td><td>Midwest  </td><td>Ohio         </td><td>73</td><td>Married</td><td>Female</td><td>Some college, no degree</td><td>White</td><td>0</td><td>Citizen, Native</td><td>Retired </td><td>NA    </td><td>Akron, OH                     </td><td>United States</td></tr>\n",
       "\t<tr><th scope=row>2</th><td>57</td><td>71650</td><td>4</td><td>Northeast</td><td>New Hampshire</td><td> 5</td><td>NA     </td><td>Female</td><td>NA                     </td><td>White</td><td>0</td><td>Citizen, Native</td><td>NA      </td><td>NA    </td><td>Boston-Cambridge-Quincy, MA-NH</td><td>United States</td></tr>\n",
       "\t<tr><th scope=row>3</th><td>57</td><td>10420</td><td>5</td><td>Midwest  </td><td>Ohio         </td><td>10</td><td>NA     </td><td>Female</td><td>NA                     </td><td>White</td><td>0</td><td>Citizen, Native</td><td>NA      </td><td>NA    </td><td>Akron, OH                     </td><td>United States</td></tr>\n",
       "\t<tr><th scope=row>4</th><td>57</td><td>10420</td><td>2</td><td>Midwest  </td><td>Ohio         </td><td>30</td><td>Married</td><td>Female</td><td>Associate degree       </td><td>White</td><td>0</td><td>Citizen, Native</td><td>Employed</td><td>Trade </td><td>Akron, OH                     </td><td>United States</td></tr>\n",
       "\t<tr><th scope=row>5</th><td>57</td><td>10420</td><td>2</td><td>Midwest  </td><td>Ohio         </td><td>30</td><td>Married</td><td>Female</td><td>Bachelor's degree      </td><td>White</td><td>0</td><td>Citizen, Native</td><td>Employed</td><td>Mining</td><td>Akron, OH                     </td><td>United States</td></tr>\n",
       "\t<tr><th scope=row>6</th><td>57</td><td>10420</td><td>3</td><td>Midwest  </td><td>Ohio         </td><td> 0</td><td>NA     </td><td>Male  </td><td>NA                     </td><td>White</td><td>0</td><td>Citizen, Native</td><td>NA      </td><td>NA    </td><td>Akron, OH                     </td><td>United States</td></tr>\n",
       "</tbody>\n",
       "</table>\n"
      ],
      "text/latex": [
       "A data.frame: 6 × 16\n",
       "\\begin{tabular}{r|llllllllllllllll}\n",
       "  & CountryOfBirthCode & MetroAreaCode & PeopleInHousehold & Region & State & Age & Married & Sex & Education & Race & Hispanic & Citizenship & EmploymentStatus & Industry & MetroArea & Country\\\\\n",
       "  & <int> & <int> & <int> & <fct> & <fct> & <int> & <fct> & <fct> & <fct> & <fct> & <int> & <fct> & <fct> & <fct> & <fct> & <fct>\\\\\n",
       "\\hline\n",
       "\t1 & 57 & 10420 & 2 & Midwest   & Ohio          & 73 & Married & Female & Some college, no degree & White & 0 & Citizen, Native & Retired  & NA     & Akron, OH                      & United States\\\\\n",
       "\t2 & 57 & 71650 & 4 & Northeast & New Hampshire &  5 & NA      & Female & NA                      & White & 0 & Citizen, Native & NA       & NA     & Boston-Cambridge-Quincy, MA-NH & United States\\\\\n",
       "\t3 & 57 & 10420 & 5 & Midwest   & Ohio          & 10 & NA      & Female & NA                      & White & 0 & Citizen, Native & NA       & NA     & Akron, OH                      & United States\\\\\n",
       "\t4 & 57 & 10420 & 2 & Midwest   & Ohio          & 30 & Married & Female & Associate degree        & White & 0 & Citizen, Native & Employed & Trade  & Akron, OH                      & United States\\\\\n",
       "\t5 & 57 & 10420 & 2 & Midwest   & Ohio          & 30 & Married & Female & Bachelor's degree       & White & 0 & Citizen, Native & Employed & Mining & Akron, OH                      & United States\\\\\n",
       "\t6 & 57 & 10420 & 3 & Midwest   & Ohio          &  0 & NA      & Male   & NA                      & White & 0 & Citizen, Native & NA       & NA     & Akron, OH                      & United States\\\\\n",
       "\\end{tabular}\n"
      ],
      "text/markdown": [
       "\n",
       "A data.frame: 6 × 16\n",
       "\n",
       "| <!--/--> | CountryOfBirthCode &lt;int&gt; | MetroAreaCode &lt;int&gt; | PeopleInHousehold &lt;int&gt; | Region &lt;fct&gt; | State &lt;fct&gt; | Age &lt;int&gt; | Married &lt;fct&gt; | Sex &lt;fct&gt; | Education &lt;fct&gt; | Race &lt;fct&gt; | Hispanic &lt;int&gt; | Citizenship &lt;fct&gt; | EmploymentStatus &lt;fct&gt; | Industry &lt;fct&gt; | MetroArea &lt;fct&gt; | Country &lt;fct&gt; |\n",
       "|---|---|---|---|---|---|---|---|---|---|---|---|---|---|---|---|---|\n",
       "| 1 | 57 | 10420 | 2 | Midwest   | Ohio          | 73 | Married | Female | Some college, no degree | White | 0 | Citizen, Native | Retired  | NA     | Akron, OH                      | United States |\n",
       "| 2 | 57 | 71650 | 4 | Northeast | New Hampshire |  5 | NA      | Female | NA                      | White | 0 | Citizen, Native | NA       | NA     | Boston-Cambridge-Quincy, MA-NH | United States |\n",
       "| 3 | 57 | 10420 | 5 | Midwest   | Ohio          | 10 | NA      | Female | NA                      | White | 0 | Citizen, Native | NA       | NA     | Akron, OH                      | United States |\n",
       "| 4 | 57 | 10420 | 2 | Midwest   | Ohio          | 30 | Married | Female | Associate degree        | White | 0 | Citizen, Native | Employed | Trade  | Akron, OH                      | United States |\n",
       "| 5 | 57 | 10420 | 2 | Midwest   | Ohio          | 30 | Married | Female | Bachelor's degree       | White | 0 | Citizen, Native | Employed | Mining | Akron, OH                      | United States |\n",
       "| 6 | 57 | 10420 | 3 | Midwest   | Ohio          |  0 | NA      | Male   | NA                      | White | 0 | Citizen, Native | NA       | NA     | Akron, OH                      | United States |\n",
       "\n"
      ],
      "text/plain": [
       "  CountryOfBirthCode MetroAreaCode PeopleInHousehold Region    State        \n",
       "1 57                 10420         2                 Midwest   Ohio         \n",
       "2 57                 71650         4                 Northeast New Hampshire\n",
       "3 57                 10420         5                 Midwest   Ohio         \n",
       "4 57                 10420         2                 Midwest   Ohio         \n",
       "5 57                 10420         2                 Midwest   Ohio         \n",
       "6 57                 10420         3                 Midwest   Ohio         \n",
       "  Age Married Sex    Education               Race  Hispanic Citizenship    \n",
       "1 73  Married Female Some college, no degree White 0        Citizen, Native\n",
       "2  5  NA      Female NA                      White 0        Citizen, Native\n",
       "3 10  NA      Female NA                      White 0        Citizen, Native\n",
       "4 30  Married Female Associate degree        White 0        Citizen, Native\n",
       "5 30  Married Female Bachelor's degree       White 0        Citizen, Native\n",
       "6  0  NA      Male   NA                      White 0        Citizen, Native\n",
       "  EmploymentStatus Industry MetroArea                      Country      \n",
       "1 Retired          NA       Akron, OH                      United States\n",
       "2 NA               NA       Boston-Cambridge-Quincy, MA-NH United States\n",
       "3 NA               NA       Akron, OH                      United States\n",
       "4 Employed         Trade    Akron, OH                      United States\n",
       "5 Employed         Mining   Akron, OH                      United States\n",
       "6 NA               NA       Akron, OH                      United States"
      ]
     },
     "metadata": {},
     "output_type": "display_data"
    }
   ],
   "source": [
    "head(CPS)"
   ]
  },
  {
   "cell_type": "markdown",
   "metadata": {},
   "source": [
    "CountryOfBirthCode & Country"
   ]
  },
  {
   "cell_type": "markdown",
   "metadata": {},
   "source": [
    "**How many interviewees have a missing value for the new country of birth variable?**"
   ]
  },
  {
   "cell_type": "code",
   "execution_count": 44,
   "metadata": {},
   "outputs": [
    {
     "data": {
      "text/html": [
       "176"
      ],
      "text/latex": [
       "176"
      ],
      "text/markdown": [
       "176"
      ],
      "text/plain": [
       "[1] 176"
      ]
     },
     "metadata": {},
     "output_type": "display_data"
    }
   ],
   "source": [
    "sum(is.na(CPS$Country))"
   ]
  },
  {
   "cell_type": "markdown",
   "metadata": {},
   "source": [
    "**Among all interviewees born outside of North America, which country was the most common place of birth?**"
   ]
  },
  {
   "cell_type": "code",
   "execution_count": 45,
   "metadata": {},
   "outputs": [
    {
     "data": {
      "text/plain": [
       "\n",
       "United States        Mexico   Philippines         India         China \n",
       "       115063          3921           839           770           581 \n",
       "  Puerto Rico   El Salvador       Vietnam       Germany          Cuba \n",
       "          518           477           458           438           426 "
      ]
     },
     "metadata": {},
     "output_type": "display_data"
    }
   ],
   "source": [
    "head(sort(table(CPS$Country), decreasing = T) , 10)"
   ]
  },
  {
   "cell_type": "markdown",
   "metadata": {},
   "source": [
    "United States"
   ]
  },
  {
   "cell_type": "markdown",
   "metadata": {},
   "source": [
    "**What proportion of the interviewees from the \"New York-Northern New Jersey-Long Island, NY-NJ-PA\" metropolitan area have a country of birth that is not the United States?** For this computation, don't include people from this metropolitan area who have a missing country of birth."
   ]
  },
  {
   "cell_type": "code",
   "execution_count": 46,
   "metadata": {},
   "outputs": [
    {
     "data": {
      "text/plain": [
       "       \n",
       "        FALSE  TRUE\n",
       "  FALSE 78757 12744\n",
       "  TRUE   3736  1668"
      ]
     },
     "metadata": {},
     "output_type": "display_data"
    }
   ],
   "source": [
    "table(CPS$MetroArea=='New York-Northern New Jersey-Long Island, NY-NJ-PA' , CPS$Country!='United States')"
   ]
  },
  {
   "cell_type": "code",
   "execution_count": 47,
   "metadata": {},
   "outputs": [
    {
     "data": {
      "text/plain": [
       "       \n",
       "            FALSE      TRUE\n",
       "  FALSE 0.8607228 0.1392772\n",
       "  TRUE  0.6913397 0.3086603"
      ]
     },
     "metadata": {},
     "output_type": "display_data"
    }
   ],
   "source": [
    "prop.table(table( CPS$MetroArea=='New York-Northern New Jersey-Long Island, NY-NJ-PA' , CPS$Country!='United States'), margin=1)"
   ]
  },
  {
   "cell_type": "markdown",
   "metadata": {},
   "source": [
    "we can see that 1668 of interviewees from this metropolitan area were born outside the United States and 3736 were born in the United States (it turns out an additional 5 have a missing country of origin). Therefore, the proportion is 1668/(1668+3736)=0.309."
   ]
  },
  {
   "cell_type": "markdown",
   "metadata": {},
   "source": [
    "**Which metropolitan area has the largest number (note -- not proportion) of interviewees with a country of birth in India?**"
   ]
  },
  {
   "cell_type": "code",
   "execution_count": 48,
   "metadata": {},
   "outputs": [
    {
     "data": {
      "text/html": [
       "<style>\n",
       ".dl-inline {width: auto; margin:0; padding: 0}\n",
       ".dl-inline>dt, .dl-inline>dd {float: none; width: auto; display: inline-block}\n",
       ".dl-inline>dt::after {content: \":\\0020\"; padding-right: .5ex}\n",
       ".dl-inline>dt:not(:first-of-type) {padding-left: .5ex}\n",
       "</style><dl class=dl-inline><dt>New York-Northern New Jersey-Long Island, NY-NJ-PA</dt><dd>96</dd><dt>Washington-Arlington-Alexandria, DC-VA-MD-WV</dt><dd>50</dd><dt>Philadelphia-Camden-Wilmington, PA-NJ-DE</dt><dd>32</dd><dt>Chicago-Naperville-Joliet, IN-IN-WI</dt><dd>31</dd><dt>Detroit-Warren-Livonia, MI</dt><dd>30</dd></dl>\n"
      ],
      "text/latex": [
       "\\begin{description*}\n",
       "\\item[New York-Northern New Jersey-Long Island, NY-NJ-PA] 96\n",
       "\\item[Washington-Arlington-Alexandria, DC-VA-MD-WV] 50\n",
       "\\item[Philadelphia-Camden-Wilmington, PA-NJ-DE] 32\n",
       "\\item[Chicago-Naperville-Joliet, IN-IN-WI] 31\n",
       "\\item[Detroit-Warren-Livonia, MI] 30\n",
       "\\end{description*}\n"
      ],
      "text/markdown": [
       "New York-Northern New Jersey-Long Island, NY-NJ-PA\n",
       ":   96Washington-Arlington-Alexandria, DC-VA-MD-WV\n",
       ":   50Philadelphia-Camden-Wilmington, PA-NJ-DE\n",
       ":   32Chicago-Naperville-Joliet, IN-IN-WI\n",
       ":   31Detroit-Warren-Livonia, MI\n",
       ":   30\n",
       "\n"
      ],
      "text/plain": [
       "New York-Northern New Jersey-Long Island, NY-NJ-PA \n",
       "                                                96 \n",
       "      Washington-Arlington-Alexandria, DC-VA-MD-WV \n",
       "                                                50 \n",
       "          Philadelphia-Camden-Wilmington, PA-NJ-DE \n",
       "                                                32 \n",
       "               Chicago-Naperville-Joliet, IN-IN-WI \n",
       "                                                31 \n",
       "                        Detroit-Warren-Livonia, MI \n",
       "                                                30 "
      ]
     },
     "metadata": {},
     "output_type": "display_data"
    }
   ],
   "source": [
    "head(sort(tapply(CPS$Country == \"India\", CPS$MetroArea, sum, na.rm=T), decreasing = T), 5)"
   ]
  },
  {
   "cell_type": "markdown",
   "metadata": {},
   "source": [
    "New York-Northern New Jersey-Long Island, NY-NJ-PA"
   ]
  },
  {
   "cell_type": "markdown",
   "metadata": {},
   "source": [
    "**In Brazil?**"
   ]
  },
  {
   "cell_type": "code",
   "execution_count": 49,
   "metadata": {},
   "outputs": [
    {
     "data": {
      "text/html": [
       "<style>\n",
       ".dl-inline {width: auto; margin:0; padding: 0}\n",
       ".dl-inline>dt, .dl-inline>dd {float: none; width: auto; display: inline-block}\n",
       ".dl-inline>dt::after {content: \":\\0020\"; padding-right: .5ex}\n",
       ".dl-inline>dt:not(:first-of-type) {padding-left: .5ex}\n",
       "</style><dl class=dl-inline><dt>Boston-Cambridge-Quincy, MA-NH</dt><dd>18</dd><dt>Miami-Fort Lauderdale-Miami Beach, FL</dt><dd>16</dd><dt>Los Angeles-Long Beach-Santa Ana, CA</dt><dd>9</dd><dt>Washington-Arlington-Alexandria, DC-VA-MD-WV</dt><dd>8</dd><dt>Bridgeport-Stamford-Norwalk, CT</dt><dd>7</dd></dl>\n"
      ],
      "text/latex": [
       "\\begin{description*}\n",
       "\\item[Boston-Cambridge-Quincy, MA-NH] 18\n",
       "\\item[Miami-Fort Lauderdale-Miami Beach, FL] 16\n",
       "\\item[Los Angeles-Long Beach-Santa Ana, CA] 9\n",
       "\\item[Washington-Arlington-Alexandria, DC-VA-MD-WV] 8\n",
       "\\item[Bridgeport-Stamford-Norwalk, CT] 7\n",
       "\\end{description*}\n"
      ],
      "text/markdown": [
       "Boston-Cambridge-Quincy, MA-NH\n",
       ":   18Miami-Fort Lauderdale-Miami Beach, FL\n",
       ":   16Los Angeles-Long Beach-Santa Ana, CA\n",
       ":   9Washington-Arlington-Alexandria, DC-VA-MD-WV\n",
       ":   8Bridgeport-Stamford-Norwalk, CT\n",
       ":   7\n",
       "\n"
      ],
      "text/plain": [
       "              Boston-Cambridge-Quincy, MA-NH \n",
       "                                          18 \n",
       "       Miami-Fort Lauderdale-Miami Beach, FL \n",
       "                                          16 \n",
       "        Los Angeles-Long Beach-Santa Ana, CA \n",
       "                                           9 \n",
       "Washington-Arlington-Alexandria, DC-VA-MD-WV \n",
       "                                           8 \n",
       "             Bridgeport-Stamford-Norwalk, CT \n",
       "                                           7 "
      ]
     },
     "metadata": {},
     "output_type": "display_data"
    }
   ],
   "source": [
    "head(sort(tapply(CPS$Country == \"Brazil\", CPS$MetroArea, sum, na.rm=T), decreasing = T), 5)"
   ]
  },
  {
   "cell_type": "markdown",
   "metadata": {},
   "source": [
    "Boston-Cambridge-Quincy, MA-NH"
   ]
  },
  {
   "cell_type": "markdown",
   "metadata": {},
   "source": [
    "**In Somalia?**"
   ]
  },
  {
   "cell_type": "code",
   "execution_count": 50,
   "metadata": {},
   "outputs": [
    {
     "data": {
      "text/html": [
       "<style>\n",
       ".dl-inline {width: auto; margin:0; padding: 0}\n",
       ".dl-inline>dt, .dl-inline>dd {float: none; width: auto; display: inline-block}\n",
       ".dl-inline>dt::after {content: \":\\0020\"; padding-right: .5ex}\n",
       ".dl-inline>dt:not(:first-of-type) {padding-left: .5ex}\n",
       "</style><dl class=dl-inline><dt>Minneapolis-St Paul-Bloomington, MN-WI</dt><dd>17</dd><dt>Phoenix-Mesa-Scottsdale, AZ</dt><dd>7</dd><dt>Seattle-Tacoma-Bellevue, WA</dt><dd>7</dd><dt>St. Cloud, MN</dt><dd>7</dd><dt>Columbus, OH</dt><dd>5</dd></dl>\n"
      ],
      "text/latex": [
       "\\begin{description*}\n",
       "\\item[Minneapolis-St Paul-Bloomington, MN-WI] 17\n",
       "\\item[Phoenix-Mesa-Scottsdale, AZ] 7\n",
       "\\item[Seattle-Tacoma-Bellevue, WA] 7\n",
       "\\item[St. Cloud, MN] 7\n",
       "\\item[Columbus, OH] 5\n",
       "\\end{description*}\n"
      ],
      "text/markdown": [
       "Minneapolis-St Paul-Bloomington, MN-WI\n",
       ":   17Phoenix-Mesa-Scottsdale, AZ\n",
       ":   7Seattle-Tacoma-Bellevue, WA\n",
       ":   7St. Cloud, MN\n",
       ":   7Columbus, OH\n",
       ":   5\n",
       "\n"
      ],
      "text/plain": [
       "Minneapolis-St Paul-Bloomington, MN-WI            Phoenix-Mesa-Scottsdale, AZ \n",
       "                                    17                                      7 \n",
       "           Seattle-Tacoma-Bellevue, WA                          St. Cloud, MN \n",
       "                                     7                                      7 \n",
       "                          Columbus, OH \n",
       "                                     5 "
      ]
     },
     "metadata": {},
     "output_type": "display_data"
    }
   ],
   "source": [
    "head(sort(tapply(CPS$Country == \"Somalia\", CPS$MetroArea, sum, na.rm=T), decreasing = T), 5)"
   ]
  },
  {
   "cell_type": "markdown",
   "metadata": {},
   "source": [
    "Minneapolis-St Paul-Bloomington, MN-WI"
   ]
  }
 ],
 "metadata": {
  "kernelspec": {
   "display_name": "R",
   "language": "R",
   "name": "ir"
  },
  "language_info": {
   "codemirror_mode": "r",
   "file_extension": ".r",
   "mimetype": "text/x-r-source",
   "name": "R",
   "pygments_lexer": "r",
   "version": "3.6.3"
  }
 },
 "nbformat": 4,
 "nbformat_minor": 4
}
