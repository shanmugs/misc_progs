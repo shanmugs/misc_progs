{
 "cells": [
  {
   "cell_type": "markdown",
   "metadata": {},
   "source": [
    "# Predicting Loan Repayment"
   ]
  },
  {
   "cell_type": "markdown",
   "metadata": {},
   "source": [
    "<img src=\"images/loan-repayment.jpg\"/>"
   ]
  },
  {
   "cell_type": "markdown",
   "metadata": {},
   "source": [
    "In the lending industry, investors provide loans to borrowers in exchange for the promise of repayment with interest. If the borrower repays the loan, then the lender profits from the interest. However, if the borrower is unable to repay the loan, then the lender loses money. Therefore, lenders face the problem of predicting the risk of a borrower being unable to repay a loan.\n",
    "\n",
    "To address this problem, we will use publicly available data from *LendingClub.com*, a website that connects borrowers and investors over the Internet. This dataset represents 9,578 3-year loans that were funded through the LendingClub.com platform between May 2007 and February 2010. The binary dependent variable *not_fully_paid* indicates that the loan was not paid back in full (the borrower either defaulted or the loan was \"charged off,\" meaning the borrower was deemed unlikely to ever pay it back).\n",
    "\n",
    "To predict this dependent variable, we will use the following independent variables available to the investor when deciding whether to fund a loan:"
   ]
  },
  {
   "cell_type": "markdown",
   "metadata": {},
   "source": [
    "    credit.policy: 1 if the customer meets the credit underwriting criteria of LendingClub.com, and 0 otherwise.\n",
    "\n",
    "    purpose: The purpose of the loan (takes values \"credit_card\", \"debt_consolidation\", \"educational\", \"major_purchase\", \"small_business\", and \"all_other\").\n",
    "\n",
    "    int.rate: The interest rate of the loan, as a proportion (a rate of 11% would be stored as 0.11). Borrowers judged by LendingClub.com to be more risky are assigned higher interest rates.\n",
    "\n",
    "    installment: The monthly installments ($) owed by the borrower if the loan is funded.\n",
    "\n",
    "    log.annual.inc: The natural log of the self-reported annual income of the borrower.\n",
    "\n",
    "    dti: The debt-to-income ratio of the borrower (amount of debt divided by annual income).\n",
    "\n",
    "    fico: The FICO credit score of the borrower.\n",
    "\n",
    "    days.with.cr.line: The number of days the borrower has had a credit line.\n",
    "\n",
    "    revol.bal: The borrower's revolving balance (amount unpaid at the end of the credit card billing cycle).\n",
    "\n",
    "    revol.util: The borrower's revolving line utilization rate (the amount of the credit line used relative to total credit available).\n",
    "\n",
    "    inq.last.6mths: The borrower's number of inquiries by creditors in the last 6 months.\n",
    "\n",
    "    delinq.2yrs: The number of times the borrower had been 30+ days past due on a payment in the past 2 years.\n",
    "\n",
    "    pub.rec: The borrower's number of derogatory public records (bankruptcy filings, tax liens, or judgments)."
   ]
  },
  {
   "cell_type": "markdown",
   "metadata": {},
   "source": [
    "### Problem 1.1 - Preparing the Dataset\n",
    "\n",
    "Load the dataset loans.csv into a data frame called loans, and explore it using the str() and summary() functions.\n",
    "\n",
    "**What proportion of the loans in the dataset were not paid in full? Please input a number between 0 and 1.**"
   ]
  },
  {
   "cell_type": "code",
   "execution_count": 1,
   "metadata": {},
   "outputs": [
    {
     "data": {
      "text/html": [
       "<table>\n",
       "<caption>A data.frame: 6 × 14</caption>\n",
       "<thead>\n",
       "\t<tr><th></th><th scope=col>credit.policy</th><th scope=col>purpose</th><th scope=col>int.rate</th><th scope=col>installment</th><th scope=col>log.annual.inc</th><th scope=col>dti</th><th scope=col>fico</th><th scope=col>days.with.cr.line</th><th scope=col>revol.bal</th><th scope=col>revol.util</th><th scope=col>inq.last.6mths</th><th scope=col>delinq.2yrs</th><th scope=col>pub.rec</th><th scope=col>not.fully.paid</th></tr>\n",
       "\t<tr><th></th><th scope=col>&lt;int&gt;</th><th scope=col>&lt;fct&gt;</th><th scope=col>&lt;dbl&gt;</th><th scope=col>&lt;dbl&gt;</th><th scope=col>&lt;dbl&gt;</th><th scope=col>&lt;dbl&gt;</th><th scope=col>&lt;int&gt;</th><th scope=col>&lt;dbl&gt;</th><th scope=col>&lt;int&gt;</th><th scope=col>&lt;dbl&gt;</th><th scope=col>&lt;int&gt;</th><th scope=col>&lt;int&gt;</th><th scope=col>&lt;int&gt;</th><th scope=col>&lt;int&gt;</th></tr>\n",
       "</thead>\n",
       "<tbody>\n",
       "\t<tr><th scope=row>1</th><td>1</td><td>debt_consolidation</td><td>0.1189</td><td>829.10</td><td>11.35041</td><td>19.48</td><td>737</td><td>5639.958</td><td>28854</td><td>52.1</td><td>0</td><td>0</td><td>0</td><td>0</td></tr>\n",
       "\t<tr><th scope=row>2</th><td>1</td><td>credit_card       </td><td>0.1071</td><td>228.22</td><td>11.08214</td><td>14.29</td><td>707</td><td>2760.000</td><td>33623</td><td>76.7</td><td>0</td><td>0</td><td>0</td><td>0</td></tr>\n",
       "\t<tr><th scope=row>3</th><td>1</td><td>debt_consolidation</td><td>0.1357</td><td>366.86</td><td>10.37349</td><td>11.63</td><td>682</td><td>4710.000</td><td> 3511</td><td>25.6</td><td>1</td><td>0</td><td>0</td><td>0</td></tr>\n",
       "\t<tr><th scope=row>4</th><td>1</td><td>debt_consolidation</td><td>0.1008</td><td>162.34</td><td>11.35041</td><td> 8.10</td><td>712</td><td>2699.958</td><td>33667</td><td>73.2</td><td>1</td><td>0</td><td>0</td><td>0</td></tr>\n",
       "\t<tr><th scope=row>5</th><td>1</td><td>credit_card       </td><td>0.1426</td><td>102.92</td><td>11.29973</td><td>14.97</td><td>667</td><td>4066.000</td><td> 4740</td><td>39.5</td><td>0</td><td>1</td><td>0</td><td>0</td></tr>\n",
       "\t<tr><th scope=row>6</th><td>1</td><td>credit_card       </td><td>0.0788</td><td>125.13</td><td>11.90497</td><td>16.98</td><td>727</td><td>6120.042</td><td>50807</td><td>51.0</td><td>0</td><td>0</td><td>0</td><td>0</td></tr>\n",
       "</tbody>\n",
       "</table>\n"
      ],
      "text/latex": [
       "A data.frame: 6 × 14\n",
       "\\begin{tabular}{r|llllllllllllll}\n",
       "  & credit.policy & purpose & int.rate & installment & log.annual.inc & dti & fico & days.with.cr.line & revol.bal & revol.util & inq.last.6mths & delinq.2yrs & pub.rec & not.fully.paid\\\\\n",
       "  & <int> & <fct> & <dbl> & <dbl> & <dbl> & <dbl> & <int> & <dbl> & <int> & <dbl> & <int> & <int> & <int> & <int>\\\\\n",
       "\\hline\n",
       "\t1 & 1 & debt\\_consolidation & 0.1189 & 829.10 & 11.35041 & 19.48 & 737 & 5639.958 & 28854 & 52.1 & 0 & 0 & 0 & 0\\\\\n",
       "\t2 & 1 & credit\\_card        & 0.1071 & 228.22 & 11.08214 & 14.29 & 707 & 2760.000 & 33623 & 76.7 & 0 & 0 & 0 & 0\\\\\n",
       "\t3 & 1 & debt\\_consolidation & 0.1357 & 366.86 & 10.37349 & 11.63 & 682 & 4710.000 &  3511 & 25.6 & 1 & 0 & 0 & 0\\\\\n",
       "\t4 & 1 & debt\\_consolidation & 0.1008 & 162.34 & 11.35041 &  8.10 & 712 & 2699.958 & 33667 & 73.2 & 1 & 0 & 0 & 0\\\\\n",
       "\t5 & 1 & credit\\_card        & 0.1426 & 102.92 & 11.29973 & 14.97 & 667 & 4066.000 &  4740 & 39.5 & 0 & 1 & 0 & 0\\\\\n",
       "\t6 & 1 & credit\\_card        & 0.0788 & 125.13 & 11.90497 & 16.98 & 727 & 6120.042 & 50807 & 51.0 & 0 & 0 & 0 & 0\\\\\n",
       "\\end{tabular}\n"
      ],
      "text/markdown": [
       "\n",
       "A data.frame: 6 × 14\n",
       "\n",
       "| <!--/--> | credit.policy &lt;int&gt; | purpose &lt;fct&gt; | int.rate &lt;dbl&gt; | installment &lt;dbl&gt; | log.annual.inc &lt;dbl&gt; | dti &lt;dbl&gt; | fico &lt;int&gt; | days.with.cr.line &lt;dbl&gt; | revol.bal &lt;int&gt; | revol.util &lt;dbl&gt; | inq.last.6mths &lt;int&gt; | delinq.2yrs &lt;int&gt; | pub.rec &lt;int&gt; | not.fully.paid &lt;int&gt; |\n",
       "|---|---|---|---|---|---|---|---|---|---|---|---|---|---|---|\n",
       "| 1 | 1 | debt_consolidation | 0.1189 | 829.10 | 11.35041 | 19.48 | 737 | 5639.958 | 28854 | 52.1 | 0 | 0 | 0 | 0 |\n",
       "| 2 | 1 | credit_card        | 0.1071 | 228.22 | 11.08214 | 14.29 | 707 | 2760.000 | 33623 | 76.7 | 0 | 0 | 0 | 0 |\n",
       "| 3 | 1 | debt_consolidation | 0.1357 | 366.86 | 10.37349 | 11.63 | 682 | 4710.000 |  3511 | 25.6 | 1 | 0 | 0 | 0 |\n",
       "| 4 | 1 | debt_consolidation | 0.1008 | 162.34 | 11.35041 |  8.10 | 712 | 2699.958 | 33667 | 73.2 | 1 | 0 | 0 | 0 |\n",
       "| 5 | 1 | credit_card        | 0.1426 | 102.92 | 11.29973 | 14.97 | 667 | 4066.000 |  4740 | 39.5 | 0 | 1 | 0 | 0 |\n",
       "| 6 | 1 | credit_card        | 0.0788 | 125.13 | 11.90497 | 16.98 | 727 | 6120.042 | 50807 | 51.0 | 0 | 0 | 0 | 0 |\n",
       "\n"
      ],
      "text/plain": [
       "  credit.policy purpose            int.rate installment log.annual.inc dti  \n",
       "1 1             debt_consolidation 0.1189   829.10      11.35041       19.48\n",
       "2 1             credit_card        0.1071   228.22      11.08214       14.29\n",
       "3 1             debt_consolidation 0.1357   366.86      10.37349       11.63\n",
       "4 1             debt_consolidation 0.1008   162.34      11.35041        8.10\n",
       "5 1             credit_card        0.1426   102.92      11.29973       14.97\n",
       "6 1             credit_card        0.0788   125.13      11.90497       16.98\n",
       "  fico days.with.cr.line revol.bal revol.util inq.last.6mths delinq.2yrs\n",
       "1 737  5639.958          28854     52.1       0              0          \n",
       "2 707  2760.000          33623     76.7       0              0          \n",
       "3 682  4710.000           3511     25.6       1              0          \n",
       "4 712  2699.958          33667     73.2       1              0          \n",
       "5 667  4066.000           4740     39.5       0              1          \n",
       "6 727  6120.042          50807     51.0       0              0          \n",
       "  pub.rec not.fully.paid\n",
       "1 0       0             \n",
       "2 0       0             \n",
       "3 0       0             \n",
       "4 0       0             \n",
       "5 0       0             \n",
       "6 0       0             "
      ]
     },
     "metadata": {},
     "output_type": "display_data"
    }
   ],
   "source": [
    "loans = read.csv(\"data/loans.csv\")\n",
    "head(loans)"
   ]
  },
  {
   "cell_type": "code",
   "execution_count": 2,
   "metadata": {},
   "outputs": [
    {
     "name": "stdout",
     "output_type": "stream",
     "text": [
      "'data.frame':\t9578 obs. of  14 variables:\n",
      " $ credit.policy    : int  1 1 1 1 1 1 1 1 1 1 ...\n",
      " $ purpose          : Factor w/ 7 levels \"all_other\",\"credit_card\",..: 3 2 3 3 2 2 3 1 5 3 ...\n",
      " $ int.rate         : num  0.119 0.107 0.136 0.101 0.143 ...\n",
      " $ installment      : num  829 228 367 162 103 ...\n",
      " $ log.annual.inc   : num  11.4 11.1 10.4 11.4 11.3 ...\n",
      " $ dti              : num  19.5 14.3 11.6 8.1 15 ...\n",
      " $ fico             : int  737 707 682 712 667 727 667 722 682 707 ...\n",
      " $ days.with.cr.line: num  5640 2760 4710 2700 4066 ...\n",
      " $ revol.bal        : int  28854 33623 3511 33667 4740 50807 3839 24220 69909 5630 ...\n",
      " $ revol.util       : num  52.1 76.7 25.6 73.2 39.5 51 76.8 68.6 51.1 23 ...\n",
      " $ inq.last.6mths   : int  0 0 1 1 0 0 0 0 1 1 ...\n",
      " $ delinq.2yrs      : int  0 0 0 0 1 0 0 0 0 0 ...\n",
      " $ pub.rec          : int  0 0 0 0 0 0 1 0 0 0 ...\n",
      " $ not.fully.paid   : int  0 0 0 0 0 0 1 1 0 0 ...\n"
     ]
    }
   ],
   "source": [
    "str(loans)"
   ]
  },
  {
   "cell_type": "code",
   "execution_count": 3,
   "metadata": {},
   "outputs": [
    {
     "data": {
      "text/plain": [
       " credit.policy                 purpose        int.rate       installment    \n",
       " Min.   :0.000   all_other         :2331   Min.   :0.0600   Min.   : 15.67  \n",
       " 1st Qu.:1.000   credit_card       :1262   1st Qu.:0.1039   1st Qu.:163.77  \n",
       " Median :1.000   debt_consolidation:3957   Median :0.1221   Median :268.95  \n",
       " Mean   :0.805   educational       : 343   Mean   :0.1226   Mean   :319.09  \n",
       " 3rd Qu.:1.000   home_improvement  : 629   3rd Qu.:0.1407   3rd Qu.:432.76  \n",
       " Max.   :1.000   major_purchase    : 437   Max.   :0.2164   Max.   :940.14  \n",
       "                 small_business    : 619                                    \n",
       " log.annual.inc        dti              fico       days.with.cr.line\n",
       " Min.   : 7.548   Min.   : 0.000   Min.   :612.0   Min.   :  179    \n",
       " 1st Qu.:10.558   1st Qu.: 7.213   1st Qu.:682.0   1st Qu.: 2820    \n",
       " Median :10.928   Median :12.665   Median :707.0   Median : 4140    \n",
       " Mean   :10.932   Mean   :12.607   Mean   :710.8   Mean   : 4562    \n",
       " 3rd Qu.:11.290   3rd Qu.:17.950   3rd Qu.:737.0   3rd Qu.: 5730    \n",
       " Max.   :14.528   Max.   :29.960   Max.   :827.0   Max.   :17640    \n",
       " NA's   :4                                         NA's   :29       \n",
       "   revol.bal         revol.util     inq.last.6mths    delinq.2yrs     \n",
       " Min.   :      0   Min.   :  0.00   Min.   : 0.000   Min.   : 0.0000  \n",
       " 1st Qu.:   3187   1st Qu.: 22.70   1st Qu.: 0.000   1st Qu.: 0.0000  \n",
       " Median :   8596   Median : 46.40   Median : 1.000   Median : 0.0000  \n",
       " Mean   :  16914   Mean   : 46.87   Mean   : 1.572   Mean   : 0.1638  \n",
       " 3rd Qu.:  18250   3rd Qu.: 71.00   3rd Qu.: 2.000   3rd Qu.: 0.0000  \n",
       " Max.   :1207359   Max.   :119.00   Max.   :33.000   Max.   :13.0000  \n",
       "                   NA's   :62       NA's   :29       NA's   :29       \n",
       "    pub.rec       not.fully.paid  \n",
       " Min.   :0.0000   Min.   :0.0000  \n",
       " 1st Qu.:0.0000   1st Qu.:0.0000  \n",
       " Median :0.0000   Median :0.0000  \n",
       " Mean   :0.0621   Mean   :0.1601  \n",
       " 3rd Qu.:0.0000   3rd Qu.:0.0000  \n",
       " Max.   :5.0000   Max.   :1.0000  \n",
       " NA's   :29                       "
      ]
     },
     "metadata": {},
     "output_type": "display_data"
    }
   ],
   "source": [
    "summary(loans)"
   ]
  },
  {
   "cell_type": "code",
   "execution_count": 4,
   "metadata": {},
   "outputs": [
    {
     "data": {
      "text/plain": [
       "\n",
       "   0    1 \n",
       "8045 1533 "
      ]
     },
     "metadata": {},
     "output_type": "display_data"
    }
   ],
   "source": [
    "# Table for people that pay full and not pay full.\n",
    "z = table(loans$not.fully.paid)\n",
    "z"
   ]
  },
  {
   "cell_type": "markdown",
   "metadata": {},
   "source": [
    "8,045 people pay full;\n",
    "1,533 not pay full"
   ]
  },
  {
   "cell_type": "code",
   "execution_count": 5,
   "metadata": {},
   "outputs": [
    {
     "data": {
      "text/html": [
       "<strong>1:</strong> 0.160054291083734"
      ],
      "text/latex": [
       "\\textbf{1:} 0.160054291083734"
      ],
      "text/markdown": [
       "**1:** 0.160054291083734"
      ],
      "text/plain": [
       "        1 \n",
       "0.1600543 "
      ]
     },
     "metadata": {},
     "output_type": "display_data"
    }
   ],
   "source": [
    "# Proportion of the loans in the dataset were not paid in full.\n",
    "z[2]/sum(z)"
   ]
  },
  {
   "cell_type": "markdown",
   "metadata": {},
   "source": [
    "1533/9578 = 16%"
   ]
  },
  {
   "cell_type": "markdown",
   "metadata": {},
   "source": [
    "### Problem 1.2 - Preparing the Dataset\n",
    "\n",
    "**Which of the following variables has at least one missing observation?**"
   ]
  },
  {
   "cell_type": "code",
   "execution_count": 6,
   "metadata": {},
   "outputs": [
    {
     "data": {
      "text/plain": [
       " credit.policy                 purpose        int.rate       installment    \n",
       " Min.   :0.000   all_other         :2331   Min.   :0.0600   Min.   : 15.67  \n",
       " 1st Qu.:1.000   credit_card       :1262   1st Qu.:0.1039   1st Qu.:163.77  \n",
       " Median :1.000   debt_consolidation:3957   Median :0.1221   Median :268.95  \n",
       " Mean   :0.805   educational       : 343   Mean   :0.1226   Mean   :319.09  \n",
       " 3rd Qu.:1.000   home_improvement  : 629   3rd Qu.:0.1407   3rd Qu.:432.76  \n",
       " Max.   :1.000   major_purchase    : 437   Max.   :0.2164   Max.   :940.14  \n",
       "                 small_business    : 619                                    \n",
       " log.annual.inc        dti              fico       days.with.cr.line\n",
       " Min.   : 7.548   Min.   : 0.000   Min.   :612.0   Min.   :  179    \n",
       " 1st Qu.:10.558   1st Qu.: 7.213   1st Qu.:682.0   1st Qu.: 2820    \n",
       " Median :10.928   Median :12.665   Median :707.0   Median : 4140    \n",
       " Mean   :10.932   Mean   :12.607   Mean   :710.8   Mean   : 4562    \n",
       " 3rd Qu.:11.290   3rd Qu.:17.950   3rd Qu.:737.0   3rd Qu.: 5730    \n",
       " Max.   :14.528   Max.   :29.960   Max.   :827.0   Max.   :17640    \n",
       " NA's   :4                                         NA's   :29       \n",
       "   revol.bal         revol.util     inq.last.6mths    delinq.2yrs     \n",
       " Min.   :      0   Min.   :  0.00   Min.   : 0.000   Min.   : 0.0000  \n",
       " 1st Qu.:   3187   1st Qu.: 22.70   1st Qu.: 0.000   1st Qu.: 0.0000  \n",
       " Median :   8596   Median : 46.40   Median : 1.000   Median : 0.0000  \n",
       " Mean   :  16914   Mean   : 46.87   Mean   : 1.572   Mean   : 0.1638  \n",
       " 3rd Qu.:  18250   3rd Qu.: 71.00   3rd Qu.: 2.000   3rd Qu.: 0.0000  \n",
       " Max.   :1207359   Max.   :119.00   Max.   :33.000   Max.   :13.0000  \n",
       "                   NA's   :62       NA's   :29       NA's   :29       \n",
       "    pub.rec       not.fully.paid  \n",
       " Min.   :0.0000   Min.   :0.0000  \n",
       " 1st Qu.:0.0000   1st Qu.:0.0000  \n",
       " Median :0.0000   Median :0.0000  \n",
       " Mean   :0.0621   Mean   :0.1601  \n",
       " 3rd Qu.:0.0000   3rd Qu.:0.0000  \n",
       " Max.   :5.0000   Max.   :1.0000  \n",
       " NA's   :29                       "
      ]
     },
     "metadata": {},
     "output_type": "display_data"
    }
   ],
   "source": [
    "summary(loans)"
   ]
  },
  {
   "cell_type": "markdown",
   "metadata": {},
   "source": [
    "Series with NA's: log.annual.inc; days.with.cr.line; revol.util; inq.last.6mths; delinq.2yrs; pub.rec."
   ]
  },
  {
   "cell_type": "markdown",
   "metadata": {},
   "source": [
    "### Problem 1.3 - Preparing the Dataset\n",
    "\n",
    "**Which of the following is the best reason to fill in the missing values for these variables instead of removing observations with missing data?** \n",
    "\n",
    "Hint: you can use the subset() function to build a data frame with the observations missing at least one value. To test if a variable, for example pub.rec, is missing a value, use is.na(pub.rec)."
   ]
  },
  {
   "cell_type": "markdown",
   "metadata": {},
   "source": [
    "We want to be able to predict risk for all borrowers, instead of just the ones with all data reported."
   ]
  },
  {
   "cell_type": "markdown",
   "metadata": {},
   "source": [
    "### Problem 1.4 - Preparing the Dataset\n",
    "\n",
    "For the rest of this problem, we'll be using a revised version of the dataset that has the missing values filled in with multiple imputation (which was discussed in the Recitation of this Unit). To ensure everybody has the same data frame going forward, you can either run the commands below in your R console (if you haven't already, run the command install.packages(\"mice\") first), or you can download and load into R the dataset we created after running the imputation: loans_imputed.csv.\n",
    "\n",
    "IMPORTANT NOTE: On certain operating systems, the imputation results are not the same even if you set the random seed. If you decide to do the imputation yourself, please still read the provided imputed dataset (loans_imputed.csv) into R and compare your results, using the summary function. If the results are different, please make sure to use the data in loans_imputed.csv for the rest of the problem.\n",
    "\n",
    "    library(mice)\n",
    "\n",
    "    set.seed(144)\n",
    "\n",
    "    vars.for.imputation = setdiff(names(loans), \"not.fully.paid\")\n",
    "\n",
    "    imputed = complete(mice(loans[vars.for.imputation]))\n",
    "\n",
    "    loans[vars.for.imputation] = imputed\n",
    "\n",
    "Note that to do this imputation, we set vars.for.imputation to all variables in the data frame except for not.fully.paid, to impute the values using all of the other independent variables.\n",
    "\n",
    "**What best describes the process we just used to handle missing values?**"
   ]
  },
  {
   "cell_type": "code",
   "execution_count": 7,
   "metadata": {},
   "outputs": [
    {
     "name": "stderr",
     "output_type": "stream",
     "text": [
      "\n",
      "Attaching package: 'mice'\n",
      "\n",
      "\n",
      "The following objects are masked from 'package:base':\n",
      "\n",
      "    cbind, rbind\n",
      "\n",
      "\n"
     ]
    }
   ],
   "source": [
    "#install.packages(\"mice\")\n",
    "library(mice)"
   ]
  },
  {
   "cell_type": "code",
   "execution_count": 8,
   "metadata": {},
   "outputs": [
    {
     "name": "stdout",
     "output_type": "stream",
     "text": [
      "\n",
      " iter imp variable\n",
      "  1   1  log.annual.inc  days.with.cr.line  revol.util  inq.last.6mths  delinq.2yrs  pub.rec\n",
      "  1   2  log.annual.inc  days.with.cr.line  revol.util  inq.last.6mths  delinq.2yrs  pub.rec\n",
      "  1   3  log.annual.inc  days.with.cr.line  revol.util  inq.last.6mths  delinq.2yrs  pub.rec\n",
      "  1   4  log.annual.inc  days.with.cr.line  revol.util  inq.last.6mths  delinq.2yrs  pub.rec\n",
      "  1   5  log.annual.inc  days.with.cr.line  revol.util  inq.last.6mths  delinq.2yrs  pub.rec\n",
      "  2   1  log.annual.inc  days.with.cr.line  revol.util  inq.last.6mths  delinq.2yrs  pub.rec\n",
      "  2   2  log.annual.inc  days.with.cr.line  revol.util  inq.last.6mths  delinq.2yrs  pub.rec\n",
      "  2   3  log.annual.inc  days.with.cr.line  revol.util  inq.last.6mths  delinq.2yrs  pub.rec\n",
      "  2   4  log.annual.inc  days.with.cr.line  revol.util  inq.last.6mths  delinq.2yrs  pub.rec\n",
      "  2   5  log.annual.inc  days.with.cr.line  revol.util  inq.last.6mths  delinq.2yrs  pub.rec\n",
      "  3   1  log.annual.inc  days.with.cr.line  revol.util  inq.last.6mths  delinq.2yrs  pub.rec\n",
      "  3   2  log.annual.inc  days.with.cr.line  revol.util  inq.last.6mths  delinq.2yrs  pub.rec\n",
      "  3   3  log.annual.inc  days.with.cr.line  revol.util  inq.last.6mths  delinq.2yrs  pub.rec\n",
      "  3   4  log.annual.inc  days.with.cr.line  revol.util  inq.last.6mths  delinq.2yrs  pub.rec\n",
      "  3   5  log.annual.inc  days.with.cr.line  revol.util  inq.last.6mths  delinq.2yrs  pub.rec\n",
      "  4   1  log.annual.inc  days.with.cr.line  revol.util  inq.last.6mths  delinq.2yrs  pub.rec\n",
      "  4   2  log.annual.inc  days.with.cr.line  revol.util  inq.last.6mths  delinq.2yrs  pub.rec\n",
      "  4   3  log.annual.inc  days.with.cr.line  revol.util  inq.last.6mths  delinq.2yrs  pub.rec\n",
      "  4   4  log.annual.inc  days.with.cr.line  revol.util  inq.last.6mths  delinq.2yrs  pub.rec\n",
      "  4   5  log.annual.inc  days.with.cr.line  revol.util  inq.last.6mths  delinq.2yrs  pub.rec\n",
      "  5   1  log.annual.inc  days.with.cr.line  revol.util  inq.last.6mths  delinq.2yrs  pub.rec\n",
      "  5   2  log.annual.inc  days.with.cr.line  revol.util  inq.last.6mths  delinq.2yrs  pub.rec\n",
      "  5   3  log.annual.inc  days.with.cr.line  revol.util  inq.last.6mths  delinq.2yrs  pub.rec\n",
      "  5   4  log.annual.inc  days.with.cr.line  revol.util  inq.last.6mths  delinq.2yrs  pub.rec\n",
      "  5   5  log.annual.inc  days.with.cr.line  revol.util  inq.last.6mths  delinq.2yrs  pub.rec\n"
     ]
    }
   ],
   "source": [
    "set.seed(144)\n",
    "\n",
    "vars.for.imputation = setdiff(names(loans), \"not.fully.paid\")\n",
    "\n",
    "imputed = complete(mice(loans[vars.for.imputation]))"
   ]
  },
  {
   "cell_type": "code",
   "execution_count": 9,
   "metadata": {},
   "outputs": [],
   "source": [
    "loans[vars.for.imputation] = imputed"
   ]
  },
  {
   "cell_type": "markdown",
   "metadata": {},
   "source": [
    "We predicted missing variable values using the available independent variables for each observation."
   ]
  },
  {
   "cell_type": "markdown",
   "metadata": {},
   "source": [
    "### Problem 2.1 - Prediction Models\n",
    "Now that we have prepared the dataset, we need to split it into a training and testing set. To ensure everybody obtains the same split, set the random seed to 144 (even though you already did so earlier in the problem) and use the sample.split function to select the 70% of observations for the training set (the dependent variable for sample.split is not.fully.paid). Name the data frames train and test.\n",
    "\n",
    "Now, use logistic regression trained on the training set to predict the dependent variable not.fully.paid using all the independent variables.\n",
    "\n",
    "**Which independent variables are significant in our model?** (Significant variables have at least one star, or a Pr(>|z|) value less than 0.05."
   ]
  },
  {
   "cell_type": "code",
   "execution_count": 10,
   "metadata": {},
   "outputs": [],
   "source": [
    "#install.packages(\"caTools\")\n",
    "library(caTools)"
   ]
  },
  {
   "cell_type": "code",
   "execution_count": 11,
   "metadata": {},
   "outputs": [],
   "source": [
    "# Split the data\n",
    "set.seed(144)\n",
    "\n",
    "spl = sample.split(loans$not.fully.paid, 0.7)\n",
    "\n",
    "train = subset(loans, spl == TRUE)\n",
    "test = subset(loans, spl == FALSE)"
   ]
  },
  {
   "cell_type": "code",
   "execution_count": 12,
   "metadata": {},
   "outputs": [
    {
     "data": {
      "text/plain": [
       "\n",
       "Call:\n",
       "glm(formula = not.fully.paid ~ ., family = \"binomial\", data = train)\n",
       "\n",
       "Deviance Residuals: \n",
       "    Min       1Q   Median       3Q      Max  \n",
       "-2.2008  -0.6213  -0.4953  -0.3609   2.6389  \n",
       "\n",
       "Coefficients:\n",
       "                            Estimate Std. Error z value Pr(>|z|)    \n",
       "(Intercept)                9.250e+00  1.552e+00   5.959 2.54e-09 ***\n",
       "credit.policy             -3.417e-01  1.009e-01  -3.388 0.000704 ***\n",
       "purposecredit_card        -6.124e-01  1.344e-01  -4.557 5.18e-06 ***\n",
       "purposedebt_consolidation -3.199e-01  9.179e-02  -3.485 0.000493 ***\n",
       "purposeeducational         1.351e-01  1.753e-01   0.771 0.440814    \n",
       "purposehome_improvement    1.728e-01  1.479e-01   1.168 0.242901    \n",
       "purposemajor_purchase     -4.828e-01  2.008e-01  -2.404 0.016215 *  \n",
       "purposesmall_business      4.123e-01  1.418e-01   2.907 0.003653 ** \n",
       "int.rate                   6.434e-01  2.085e+00   0.309 0.757592    \n",
       "installment                1.274e-03  2.092e-04   6.091 1.12e-09 ***\n",
       "log.annual.inc            -4.328e-01  7.145e-02  -6.058 1.38e-09 ***\n",
       "dti                        4.781e-03  5.499e-03   0.869 0.384626    \n",
       "fico                      -9.408e-03  1.706e-03  -5.513 3.53e-08 ***\n",
       "days.with.cr.line          2.967e-06  1.586e-05   0.187 0.851551    \n",
       "revol.bal                  3.082e-06  1.167e-06   2.641 0.008276 ** \n",
       "revol.util                 1.632e-03  1.531e-03   1.066 0.286415    \n",
       "inq.last.6mths             8.227e-02  1.594e-02   5.160 2.48e-07 ***\n",
       "delinq.2yrs               -8.334e-02  6.551e-02  -1.272 0.203280    \n",
       "pub.rec                    3.299e-01  1.138e-01   2.899 0.003740 ** \n",
       "---\n",
       "Signif. codes:  0 '***' 0.001 '**' 0.01 '*' 0.05 '.' 0.1 ' ' 1\n",
       "\n",
       "(Dispersion parameter for binomial family taken to be 1)\n",
       "\n",
       "    Null deviance: 5896.6  on 6704  degrees of freedom\n",
       "Residual deviance: 5486.9  on 6686  degrees of freedom\n",
       "AIC: 5524.9\n",
       "\n",
       "Number of Fisher Scoring iterations: 5\n"
      ]
     },
     "metadata": {},
     "output_type": "display_data"
    }
   ],
   "source": [
    "# Logistic Regression\n",
    "mod = glm(not.fully.paid~., data=train, family=\"binomial\")\n",
    "summary(mod)"
   ]
  },
  {
   "cell_type": "markdown",
   "metadata": {},
   "source": [
    "Answer: credit.policy, purpose2 (credit card), purpose3 (debt consolidation), purpose 6 (major purchase), purpose 7 (small business), installment, log.annual.inc, fico, revol.bal, inq.last.6mths, pub.rec"
   ]
  },
  {
   "cell_type": "markdown",
   "metadata": {},
   "source": [
    "### Problem 2.2 - Prediction Models\n",
    "Consider two loan applications, which are identical other than the fact that the borrower in Application A has FICO credit score 700 while the borrower in Application B has FICO credit score 710.\n",
    "\n",
    "Let Logit(A) be the log odds of loan A not being paid back in full, according to our logistic regression model, and define Logit(B) similarly for loan B. **What is the value of Logit(A) - Logit(B)?**"
   ]
  },
  {
   "cell_type": "markdown",
   "metadata": {},
   "source": [
    "Because Application A is identical to Application B other than having a FICO score 10 lower, its predicted log odds differ by --9.408e-03 * -10 from the predicted log odds of Application B."
   ]
  },
  {
   "cell_type": "code",
   "execution_count": 13,
   "metadata": {},
   "outputs": [
    {
     "data": {
      "text/html": [
       "0.09408"
      ],
      "text/latex": [
       "0.09408"
      ],
      "text/markdown": [
       "0.09408"
      ],
      "text/plain": [
       "[1] 0.09408"
      ]
     },
     "metadata": {},
     "output_type": "display_data"
    }
   ],
   "source": [
    "-9.408e-03 * -10"
   ]
  },
  {
   "cell_type": "markdown",
   "metadata": {},
   "source": [
    "Because Application A is identical to Application B other than having a FICO score 10 lower, its predicted log odds differ by -9.408e-03 * -10 = 0.09408 from the predicted log odds of Application B."
   ]
  },
  {
   "cell_type": "markdown",
   "metadata": {},
   "source": [
    "**Now, let O(A) be the odds of loan A not being paid back in full, according to our logistic regression model, and define O(B) similarly for loan B. What is the value of O(A)/O(B)?** (HINT: Use the mathematical rule that exp(A + B + C) = exp(A)exp(B)exp(C). Also, remember that exp() is the exponential function in R.)"
   ]
  },
  {
   "cell_type": "code",
   "execution_count": 14,
   "metadata": {},
   "outputs": [
    {
     "data": {
      "text/html": [
       "1.09864763421233"
      ],
      "text/latex": [
       "1.09864763421233"
      ],
      "text/markdown": [
       "1.09864763421233"
      ],
      "text/plain": [
       "[1] 1.098648"
      ]
     },
     "metadata": {},
     "output_type": "display_data"
    }
   ],
   "source": [
    "exp(0.09408)"
   ]
  },
  {
   "cell_type": "markdown",
   "metadata": {},
   "source": [
    "The predicted odds of loan A not being paid back in full are 1.0986 times larger than the predicted odds for loan B. Intuitively, it makes sense that loan A should have higher odds of non-payment than loan B, since the borrower has a worse credit score."
   ]
  },
  {
   "cell_type": "markdown",
   "metadata": {},
   "source": [
    "### Problem 2.3 - Prediction Models\n",
    "Predict the probability of the test set loans not being paid back in full (remember type=\"response\" for the predict function). Store these predicted probabilities in a variable named predicted.risk and add it to your test set (we will use this variable in later parts of the problem). Compute the confusion matrix using a threshold of 0.5.\n",
    "\n",
    "**What is the accuracy of the logistic regression model?** Input the accuracy as a number between 0 and 1."
   ]
  },
  {
   "cell_type": "code",
   "execution_count": 15,
   "metadata": {},
   "outputs": [
    {
     "data": {
      "text/plain": [
       "   \n",
       "    FALSE TRUE\n",
       "  0  2400   13\n",
       "  1   457    3"
      ]
     },
     "metadata": {},
     "output_type": "display_data"
    }
   ],
   "source": [
    "# Make predictions\n",
    "test$predicted.risk = predict(mod, newdata=test, type=\"response\")\n",
    "\n",
    "# Tabulate not fully with threshold\n",
    "z = table(test$not.fully.paid, test$predicted.risk > 0.5)\n",
    "z"
   ]
  },
  {
   "cell_type": "markdown",
   "metadata": {},
   "source": [
    "The rows are labeled with the actual outcome, and the columns are labeled with the predicted outcome.\n",
    "\n",
    "            Predict 0       Predict 1\n",
    "Actual 0    True Negative   False Positive\n",
    "Actual 1    False Negative  True Positive\n",
    "\n",
    "  z = [1][3]\n",
    "      [2][4]"
   ]
  },
  {
   "cell_type": "markdown",
   "metadata": {},
   "source": [
    "The **rows** are labeled with the actual outcome, and the **columns** are labeled with the predicted outcome.\n",
    "\n",
    "                Predict 0       Predict 1\n",
    "    Actual 0    True Negative   False Positive\n",
    "    Actual 1    False Negative  True Positive\n",
    "    \n",
    "    z = [1][3]\n",
    "        [2][4]"
   ]
  },
  {
   "cell_type": "code",
   "execution_count": 16,
   "metadata": {},
   "outputs": [
    {
     "data": {
      "text/html": [
       "<span style=white-space:pre-wrap>'Accuracy Logistic Regression:  0.8364'</span>"
      ],
      "text/latex": [
       "'Accuracy Logistic Regression:  0.8364'"
      ],
      "text/markdown": [
       "<span style=white-space:pre-wrap>'Accuracy Logistic Regression:  0.8364'</span>"
      ],
      "text/plain": [
       "[1] \"Accuracy Logistic Regression:  0.8364\""
      ]
     },
     "metadata": {},
     "output_type": "display_data"
    }
   ],
   "source": [
    "# Calculate accuracy                        # (TN+TP)/(TN+FN+TP+FP)\n",
    "accur <- (z[1]+z[4])/(z[1]+z[2]+z[3]+z[4])  # sum(diag(z))/sum(z)\n",
    "paste(\"Accuracy Logistic Regression: \", round(accur,digits=4))              "
   ]
  },
  {
   "cell_type": "markdown",
   "metadata": {},
   "source": [
    "**What is the accuracy of the baseline model?** Input the accuracy as a number between 0 and 1."
   ]
  },
  {
   "cell_type": "code",
   "execution_count": 17,
   "metadata": {},
   "outputs": [
    {
     "data": {
      "text/plain": [
       "\n",
       "   0    1 \n",
       "2413  460 "
      ]
     },
     "metadata": {},
     "output_type": "display_data"
    }
   ],
   "source": [
    "z2 = table(test$not.fully.paid)\n",
    "z2"
   ]
  },
  {
   "cell_type": "code",
   "execution_count": 18,
   "metadata": {},
   "outputs": [
    {
     "data": {
      "text/html": [
       "0.839888618169161"
      ],
      "text/latex": [
       "0.839888618169161"
      ],
      "text/markdown": [
       "0.839888618169161"
      ],
      "text/plain": [
       "[1] 0.8398886"
      ]
     },
     "metadata": {},
     "output_type": "display_data"
    }
   ],
   "source": [
    "2413/(2413+460)"
   ]
  },
  {
   "cell_type": "markdown",
   "metadata": {},
   "source": [
    "Or, in another way..."
   ]
  },
  {
   "cell_type": "code",
   "execution_count": 19,
   "metadata": {},
   "outputs": [
    {
     "data": {
      "text/html": [
       "<span style=white-space:pre-wrap>'Accuracy Baseline:  0.8399'</span>"
      ],
      "text/latex": [
       "'Accuracy Baseline:  0.8399'"
      ],
      "text/markdown": [
       "<span style=white-space:pre-wrap>'Accuracy Baseline:  0.8399'</span>"
      ],
      "text/plain": [
       "[1] \"Accuracy Baseline:  0.8399\""
      ]
     },
     "metadata": {},
     "output_type": "display_data"
    }
   ],
   "source": [
    "# Calculate accuracy                        # (TN+TP)/(TN+FN+TP+FP)\n",
    "accur2 <- z2[1]/(z2[1]+z2[2])               # z[1]/sum(z)\n",
    "paste(\"Accuracy Baseline: \", round(accur2,digits=4))                  "
   ]
  },
  {
   "cell_type": "markdown",
   "metadata": {},
   "source": [
    "### Problem 2.4 - Prediction Models\n",
    "Use the ROCR package to compute the test set AUC."
   ]
  },
  {
   "cell_type": "code",
   "execution_count": 20,
   "metadata": {},
   "outputs": [
    {
     "data": {
      "text/html": [
       "<span style=white-space:pre-wrap>'Test set AUC:  0.6721'</span>"
      ],
      "text/latex": [
       "'Test set AUC:  0.6721'"
      ],
      "text/markdown": [
       "<span style=white-space:pre-wrap>'Test set AUC:  0.6721'</span>"
      ],
      "text/plain": [
       "[1] \"Test set AUC:  0.6721\""
      ]
     },
     "metadata": {},
     "output_type": "display_data"
    }
   ],
   "source": [
    "# Calculate AUC\n",
    "#install.packages(\"ROCR\")\n",
    "library(ROCR)\n",
    "\n",
    "pred = prediction(test$predicted.risk, test$not.fully.paid)\n",
    "\n",
    "AUCt = as.numeric(performance(pred, \"auc\")@y.values)\n",
    "\n",
    "paste(\"Test set AUC: \", round(AUCt,digits=4))"
   ]
  },
  {
   "cell_type": "markdown",
   "metadata": {},
   "source": [
    "The model has poor accuracy at the threshold 0.5. But despite the poor accuracy, we will see later how an investor can still leverage this logistic regression model to make profitable investments."
   ]
  },
  {
   "cell_type": "markdown",
   "metadata": {},
   "source": [
    "### Problem 3.1 - A \"Smart Baseline\"\n",
    "In the previous problem, we built a logistic regression model that has an AUC significantly higher than the AUC of 0.5 that would be obtained by randomly ordering observations.\n",
    "\n",
    "However, LendingClub.com assigns the interest rate to a loan based on their estimate of that loan's risk. This variable, *int.rate*, is an independent variable in our dataset. In this part, we will investigate using the loan's interest rate as a \"smart baseline\" to order the loans according to risk.\n",
    "\n",
    "Using the training set, build a bivariate logistic regression model (aka a logistic regression model with a single independent variable) that predicts the dependent variable *not.fully.paid* using only the variable *int.rate*.\n",
    "\n",
    "The variable int.rate is highly significant in the bivariate model, but it is not significant at the 0.05 level in the model trained with all the independent variables. **What is the most likely explanation for this difference?**"
   ]
  },
  {
   "cell_type": "code",
   "execution_count": 21,
   "metadata": {},
   "outputs": [
    {
     "data": {
      "text/plain": [
       "\n",
       "Call:\n",
       "glm(formula = not.fully.paid ~ int.rate, family = \"binomial\", \n",
       "    data = train)\n",
       "\n",
       "Deviance Residuals: \n",
       "    Min       1Q   Median       3Q      Max  \n",
       "-1.0547  -0.6271  -0.5442  -0.4361   2.2914  \n",
       "\n",
       "Coefficients:\n",
       "            Estimate Std. Error z value Pr(>|z|)    \n",
       "(Intercept)  -3.6726     0.1688  -21.76   <2e-16 ***\n",
       "int.rate     15.9214     1.2702   12.54   <2e-16 ***\n",
       "---\n",
       "Signif. codes:  0 '***' 0.001 '**' 0.01 '*' 0.05 '.' 0.1 ' ' 1\n",
       "\n",
       "(Dispersion parameter for binomial family taken to be 1)\n",
       "\n",
       "    Null deviance: 5896.6  on 6704  degrees of freedom\n",
       "Residual deviance: 5734.8  on 6703  degrees of freedom\n",
       "AIC: 5738.8\n",
       "\n",
       "Number of Fisher Scoring iterations: 4\n"
      ]
     },
     "metadata": {},
     "output_type": "display_data"
    }
   ],
   "source": [
    "# Logistic Regression\n",
    "bivariate = glm(not.fully.paid~int.rate, data=train, family=\"binomial\")\n",
    "summary(bivariate)"
   ]
  },
  {
   "cell_type": "markdown",
   "metadata": {},
   "source": [
    "Decreased significance between a bivariate and multivariate model is typically due to correlation. From cor(trainint.rate,trainfico), we can see that the interest rate is moderately well correlated with a borrower’s credit score.\n",
    "\n",
    "Training/testing set split rarely has a large effect on the significance of variables (this can be verified in this case by trying out a few other training/testing splits), and the models were trained on the same observations."
   ]
  },
  {
   "cell_type": "markdown",
   "metadata": {},
   "source": [
    "### Problem 3.2 - A \"Smart Baseline\"\n",
    "Make test set predictions for the bivariate model. **What is the highest predicted probability of a loan not being paid in full on the testing set?**"
   ]
  },
  {
   "cell_type": "code",
   "execution_count": 22,
   "metadata": {},
   "outputs": [
    {
     "data": {
      "text/plain": [
       "   Min. 1st Qu.  Median    Mean 3rd Qu.    Max. \n",
       "0.06196 0.11549 0.15077 0.15963 0.18928 0.42662 "
      ]
     },
     "metadata": {},
     "output_type": "display_data"
    }
   ],
   "source": [
    "# Make predictions\n",
    "pred.bivariate = predict(bivariate, newdata=test, type=\"response\")\n",
    "# Max Probability\n",
    "summary(pred.bivariate)"
   ]
  },
  {
   "cell_type": "markdown",
   "metadata": {},
   "source": [
    "Highest Predicted Probability = 0.4266"
   ]
  },
  {
   "cell_type": "markdown",
   "metadata": {},
   "source": [
    "**With a logistic regression cutoff of 0.5, how many loans would be predicted as not being paid in full on the testing set?**"
   ]
  },
  {
   "cell_type": "markdown",
   "metadata": {},
   "source": [
    "The maximum predicted probability of the loan not being paid back is 0.4266, which means no loans would be flagged at a logistic regression cutoff of 0.5."
   ]
  },
  {
   "cell_type": "markdown",
   "metadata": {},
   "source": [
    "### Problem 3.3 - A \"Smart Baseline\"\n",
    "What is the test set AUC of the bivariate model?"
   ]
  },
  {
   "cell_type": "code",
   "execution_count": 23,
   "metadata": {},
   "outputs": [
    {
     "data": {
      "text/html": [
       "<span style=white-space:pre-wrap>'Test set AUC:  0.6239'</span>"
      ],
      "text/latex": [
       "'Test set AUC:  0.6239'"
      ],
      "text/markdown": [
       "<span style=white-space:pre-wrap>'Test set AUC:  0.6239'</span>"
      ],
      "text/plain": [
       "[1] \"Test set AUC:  0.6239\""
      ]
     },
     "metadata": {},
     "output_type": "display_data"
    }
   ],
   "source": [
    "# Calculate AUC\n",
    "prediction.bivariate = prediction(pred.bivariate, test$not.fully.paid)\n",
    "\n",
    "AUCb = as.numeric(performance(prediction.bivariate, \"auc\")@y.values)\n",
    "\n",
    "paste(\"Test set AUC: \", round(AUCb,digits=4))"
   ]
  },
  {
   "cell_type": "markdown",
   "metadata": {},
   "source": [
    "### Problem 4.1 - Computing the Profitability of an Investment\n",
    "While thus far we have predicted if a loan will be paid back or not, an investor needs to identify loans that are expected to be profitable. If the loan is paid back in full, then the investor makes interest on the loan. However, if the loan is not paid back, the investor loses the money invested. Therefore, the investor should seek loans that best balance this risk and reward.\n",
    "\n",
    "To compute interest revenue, consider a $c investment in a loan that has an annual interest rate r over a period of t years. Using continuous compounding of interest, this investment pays back c exp(rt) dollars by the end of the t years, where exp(rt) is e raised to the rt power.\n",
    "\n",
    "How much does a \\\\$10 investment with an annual interest rate of 6% pay back after 3 years, using continuous compounding of interest? Hint: remember to convert the percentage to a proportion before doing the math. Enter the number of dollars, without the $ sign."
   ]
  },
  {
   "cell_type": "code",
   "execution_count": 24,
   "metadata": {},
   "outputs": [
    {
     "data": {
      "text/html": [
       "11.97"
      ],
      "text/latex": [
       "11.97"
      ],
      "text/markdown": [
       "11.97"
      ],
      "text/plain": [
       "[1] 11.97"
      ]
     },
     "metadata": {},
     "output_type": "display_data"
    }
   ],
   "source": [
    "c = 10\n",
    "r = 0.06\n",
    "t = 3\n",
    "\n",
    "round(c*exp(r*t),2)"
   ]
  },
  {
   "cell_type": "markdown",
   "metadata": {},
   "source": [
    "### Problem 4.2 - Computing the Profitability of an Investment\n",
    "While the investment has value c * exp(rt) dollars after collecting interest, the investor had to pay $c for the investment. What is the profit to the investor if the investment is paid back in full?"
   ]
  },
  {
   "cell_type": "markdown",
   "metadata": {},
   "source": [
    "Answer: c\\*exp(rt) - c"
   ]
  },
  {
   "cell_type": "markdown",
   "metadata": {},
   "source": [
    "### Problem 4.3 - Computing the Profitability of an Investment\n",
    "Now, consider the case where the investor made a $c investment, but it was not paid back in full. Assume, conservatively, that no money was received from the borrower (often a lender will receive some but not all of the value of the loan, making this a pessimistic assumption of how much is received). What is the profit to the investor in this scenario?"
   ]
  },
  {
   "cell_type": "markdown",
   "metadata": {},
   "source": [
    "Answer: c"
   ]
  },
  {
   "cell_type": "markdown",
   "metadata": {},
   "source": [
    "### Problem 5.1 - A Simple Investment Strategy\n",
    "In the previous subproblem, we concluded that an investor who invested c dollars in a loan with interest rate r for t years makes c * (exp(rt) - 1) dollars of profit if the loan is paid back in full and -c dollars of profit if the loan is not paid back in full (pessimistically).\n",
    "\n",
    "In order to evaluate the quality of an investment strategy, we need to compute this profit for each loan in the test set. For this variable, we will assume a $1 investment (aka c=1). To create the variable, we first assign to the profit for a fully paid loan, exp(rt)-1, to every observation, and we then replace this value with -1 in the cases where the loan was not paid in full. All the loans in our dataset are 3-year loans, meaning t=3 in our calculations. Enter the following commands in your R console to create this new variable:\n",
    "\n",
    "    test$profit = exp(test$int.rate*3) - 1\n",
    "\n",
    "    test$profit[test$not.fully.paid == 1] = -1\n",
    "\n",
    "**What is the maximum profit of a \\\\$10 investment in any loan in the testing set (do not include the $ sign in your answer)?**"
   ]
  },
  {
   "cell_type": "code",
   "execution_count": 25,
   "metadata": {},
   "outputs": [
    {
     "data": {
      "text/plain": [
       "   Min. 1st Qu.  Median    Mean 3rd Qu.    Max. \n",
       "-1.0000  0.2858  0.4111  0.2094  0.4980  0.8895 "
      ]
     },
     "metadata": {},
     "output_type": "display_data"
    }
   ],
   "source": [
    "# Create a new variable\n",
    "test$profit = exp(test$int.rate*3) - 1\n",
    "test$profit[test$not.fully.paid == 1] = -1\n",
    "\n",
    "# Maximum profit\n",
    "summary(test$profit)"
   ]
  },
  {
   "cell_type": "markdown",
   "metadata": {},
   "source": [
    "Maximum profit = 8.895"
   ]
  },
  {
   "cell_type": "code",
   "execution_count": 26,
   "metadata": {},
   "outputs": [
    {
     "data": {
      "text/html": [
       "<table>\n",
       "<caption>A data.frame: 6 × 16</caption>\n",
       "<thead>\n",
       "\t<tr><th></th><th scope=col>credit.policy</th><th scope=col>purpose</th><th scope=col>int.rate</th><th scope=col>installment</th><th scope=col>log.annual.inc</th><th scope=col>dti</th><th scope=col>fico</th><th scope=col>days.with.cr.line</th><th scope=col>revol.bal</th><th scope=col>revol.util</th><th scope=col>inq.last.6mths</th><th scope=col>delinq.2yrs</th><th scope=col>pub.rec</th><th scope=col>not.fully.paid</th><th scope=col>predicted.risk</th><th scope=col>profit</th></tr>\n",
       "\t<tr><th></th><th scope=col>&lt;int&gt;</th><th scope=col>&lt;fct&gt;</th><th scope=col>&lt;dbl&gt;</th><th scope=col>&lt;dbl&gt;</th><th scope=col>&lt;dbl&gt;</th><th scope=col>&lt;dbl&gt;</th><th scope=col>&lt;int&gt;</th><th scope=col>&lt;dbl&gt;</th><th scope=col>&lt;int&gt;</th><th scope=col>&lt;dbl&gt;</th><th scope=col>&lt;int&gt;</th><th scope=col>&lt;int&gt;</th><th scope=col>&lt;int&gt;</th><th scope=col>&lt;int&gt;</th><th scope=col>&lt;dbl&gt;</th><th scope=col>&lt;dbl&gt;</th></tr>\n",
       "</thead>\n",
       "<tbody>\n",
       "\t<tr><th scope=row>2</th><td>1</td><td>credit_card       </td><td>0.1071</td><td>228.22</td><td>11.082143</td><td>14.29</td><td>707</td><td>2760.000</td><td>33623</td><td>76.7</td><td>0</td><td>0</td><td>0</td><td>0</td><td>0.07681532</td><td>0.3789192</td></tr>\n",
       "\t<tr><th scope=row>3</th><td>1</td><td>debt_consolidation</td><td>0.1357</td><td>366.86</td><td>10.373491</td><td>11.63</td><td>682</td><td>4710.000</td><td> 3511</td><td>25.6</td><td>1</td><td>0</td><td>0</td><td>0</td><td>0.17397147</td><td>0.5024543</td></tr>\n",
       "\t<tr><th scope=row>10</th><td>1</td><td>debt_consolidation</td><td>0.1221</td><td> 84.12</td><td>10.203592</td><td>10.00</td><td>707</td><td>2730.042</td><td> 5630</td><td>23.0</td><td>1</td><td>0</td><td>0</td><td>0</td><td>0.10911169</td><td>0.4423879</td></tr>\n",
       "\t<tr><th scope=row>12</th><td>1</td><td>debt_consolidation</td><td>0.1324</td><td>253.58</td><td>11.835009</td><td> 9.16</td><td>662</td><td>4298.000</td><td> 5122</td><td>18.2</td><td>2</td><td>1</td><td>0</td><td>0</td><td>0.10249433</td><td>0.4876534</td></tr>\n",
       "\t<tr><th scope=row>21</th><td>1</td><td>all_other         </td><td>0.0800</td><td>188.02</td><td>11.225243</td><td>16.08</td><td>772</td><td>4888.958</td><td>29797</td><td>23.2</td><td>1</td><td>0</td><td>0</td><td>0</td><td>0.06798512</td><td>0.2712492</td></tr>\n",
       "\t<tr><th scope=row>28</th><td>1</td><td>debt_consolidation</td><td>0.1375</td><td>255.43</td><td> 9.998798</td><td>14.29</td><td>662</td><td>1318.958</td><td> 4175</td><td>51.5</td><td>0</td><td>1</td><td>0</td><td>0</td><td>0.18741271</td><td>0.5105895</td></tr>\n",
       "</tbody>\n",
       "</table>\n"
      ],
      "text/latex": [
       "A data.frame: 6 × 16\n",
       "\\begin{tabular}{r|llllllllllllllll}\n",
       "  & credit.policy & purpose & int.rate & installment & log.annual.inc & dti & fico & days.with.cr.line & revol.bal & revol.util & inq.last.6mths & delinq.2yrs & pub.rec & not.fully.paid & predicted.risk & profit\\\\\n",
       "  & <int> & <fct> & <dbl> & <dbl> & <dbl> & <dbl> & <int> & <dbl> & <int> & <dbl> & <int> & <int> & <int> & <int> & <dbl> & <dbl>\\\\\n",
       "\\hline\n",
       "\t2 & 1 & credit\\_card        & 0.1071 & 228.22 & 11.082143 & 14.29 & 707 & 2760.000 & 33623 & 76.7 & 0 & 0 & 0 & 0 & 0.07681532 & 0.3789192\\\\\n",
       "\t3 & 1 & debt\\_consolidation & 0.1357 & 366.86 & 10.373491 & 11.63 & 682 & 4710.000 &  3511 & 25.6 & 1 & 0 & 0 & 0 & 0.17397147 & 0.5024543\\\\\n",
       "\t10 & 1 & debt\\_consolidation & 0.1221 &  84.12 & 10.203592 & 10.00 & 707 & 2730.042 &  5630 & 23.0 & 1 & 0 & 0 & 0 & 0.10911169 & 0.4423879\\\\\n",
       "\t12 & 1 & debt\\_consolidation & 0.1324 & 253.58 & 11.835009 &  9.16 & 662 & 4298.000 &  5122 & 18.2 & 2 & 1 & 0 & 0 & 0.10249433 & 0.4876534\\\\\n",
       "\t21 & 1 & all\\_other          & 0.0800 & 188.02 & 11.225243 & 16.08 & 772 & 4888.958 & 29797 & 23.2 & 1 & 0 & 0 & 0 & 0.06798512 & 0.2712492\\\\\n",
       "\t28 & 1 & debt\\_consolidation & 0.1375 & 255.43 &  9.998798 & 14.29 & 662 & 1318.958 &  4175 & 51.5 & 0 & 1 & 0 & 0 & 0.18741271 & 0.5105895\\\\\n",
       "\\end{tabular}\n"
      ],
      "text/markdown": [
       "\n",
       "A data.frame: 6 × 16\n",
       "\n",
       "| <!--/--> | credit.policy &lt;int&gt; | purpose &lt;fct&gt; | int.rate &lt;dbl&gt; | installment &lt;dbl&gt; | log.annual.inc &lt;dbl&gt; | dti &lt;dbl&gt; | fico &lt;int&gt; | days.with.cr.line &lt;dbl&gt; | revol.bal &lt;int&gt; | revol.util &lt;dbl&gt; | inq.last.6mths &lt;int&gt; | delinq.2yrs &lt;int&gt; | pub.rec &lt;int&gt; | not.fully.paid &lt;int&gt; | predicted.risk &lt;dbl&gt; | profit &lt;dbl&gt; |\n",
       "|---|---|---|---|---|---|---|---|---|---|---|---|---|---|---|---|---|\n",
       "| 2 | 1 | credit_card        | 0.1071 | 228.22 | 11.082143 | 14.29 | 707 | 2760.000 | 33623 | 76.7 | 0 | 0 | 0 | 0 | 0.07681532 | 0.3789192 |\n",
       "| 3 | 1 | debt_consolidation | 0.1357 | 366.86 | 10.373491 | 11.63 | 682 | 4710.000 |  3511 | 25.6 | 1 | 0 | 0 | 0 | 0.17397147 | 0.5024543 |\n",
       "| 10 | 1 | debt_consolidation | 0.1221 |  84.12 | 10.203592 | 10.00 | 707 | 2730.042 |  5630 | 23.0 | 1 | 0 | 0 | 0 | 0.10911169 | 0.4423879 |\n",
       "| 12 | 1 | debt_consolidation | 0.1324 | 253.58 | 11.835009 |  9.16 | 662 | 4298.000 |  5122 | 18.2 | 2 | 1 | 0 | 0 | 0.10249433 | 0.4876534 |\n",
       "| 21 | 1 | all_other          | 0.0800 | 188.02 | 11.225243 | 16.08 | 772 | 4888.958 | 29797 | 23.2 | 1 | 0 | 0 | 0 | 0.06798512 | 0.2712492 |\n",
       "| 28 | 1 | debt_consolidation | 0.1375 | 255.43 |  9.998798 | 14.29 | 662 | 1318.958 |  4175 | 51.5 | 0 | 1 | 0 | 0 | 0.18741271 | 0.5105895 |\n",
       "\n"
      ],
      "text/plain": [
       "   credit.policy purpose            int.rate installment log.annual.inc dti  \n",
       "2  1             credit_card        0.1071   228.22      11.082143      14.29\n",
       "3  1             debt_consolidation 0.1357   366.86      10.373491      11.63\n",
       "10 1             debt_consolidation 0.1221    84.12      10.203592      10.00\n",
       "12 1             debt_consolidation 0.1324   253.58      11.835009       9.16\n",
       "21 1             all_other          0.0800   188.02      11.225243      16.08\n",
       "28 1             debt_consolidation 0.1375   255.43       9.998798      14.29\n",
       "   fico days.with.cr.line revol.bal revol.util inq.last.6mths delinq.2yrs\n",
       "2  707  2760.000          33623     76.7       0              0          \n",
       "3  682  4710.000           3511     25.6       1              0          \n",
       "10 707  2730.042           5630     23.0       1              0          \n",
       "12 662  4298.000           5122     18.2       2              1          \n",
       "21 772  4888.958          29797     23.2       1              0          \n",
       "28 662  1318.958           4175     51.5       0              1          \n",
       "   pub.rec not.fully.paid predicted.risk profit   \n",
       "2  0       0              0.07681532     0.3789192\n",
       "3  0       0              0.17397147     0.5024543\n",
       "10 0       0              0.10911169     0.4423879\n",
       "12 0       0              0.10249433     0.4876534\n",
       "21 0       0              0.06798512     0.2712492\n",
       "28 0       0              0.18741271     0.5105895"
      ]
     },
     "metadata": {},
     "output_type": "display_data"
    }
   ],
   "source": [
    "head(test)"
   ]
  },
  {
   "cell_type": "markdown",
   "metadata": {},
   "source": [
    "### Problem 6.1 - An Investment Strategy Based on Risk\n",
    "A simple investment strategy of equally investing in all the loans would yield profit \\\\$20.94 for a $100 investment. But this simple investment strategy does not leverage the prediction model we built earlier in this problem. As stated earlier, investors seek loans that balance reward with risk, in that they simultaneously have high interest rates and a low risk of not being paid back.\n",
    "\n",
    "To meet this objective, we will analyze an investment strategy in which the investor only purchases loans with a high interest rate (a rate of at least 15%), but amongst these loans selects the ones with the lowest predicted risk of not being paid back in full. We will model an investor who invests $1 in each of the most promising 100 loans.\n",
    "\n",
    "First, use the subset() function to build a data frame called highInterest consisting of the test set loans with an interest rate of at least 15%.\n",
    "\n",
    "**What is the average profit of a \\\\$1 investment in one of these high-interest loans (do not include the $ sign in your answer)?**"
   ]
  },
  {
   "cell_type": "code",
   "execution_count": 27,
   "metadata": {},
   "outputs": [
    {
     "data": {
      "text/html": [
       "0.225101533115684"
      ],
      "text/latex": [
       "0.225101533115684"
      ],
      "text/markdown": [
       "0.225101533115684"
      ],
      "text/plain": [
       "[1] 0.2251015"
      ]
     },
     "metadata": {},
     "output_type": "display_data"
    }
   ],
   "source": [
    "# Subset the data\n",
    "highInterest = subset(test, int.rate >= 0.15)\n",
    "\n",
    "# Find the average\n",
    "mean(highInterest$profit)"
   ]
  },
  {
   "cell_type": "markdown",
   "metadata": {},
   "source": [
    "**What proportion of the high-interest loans were not paid back in full?**"
   ]
  },
  {
   "cell_type": "code",
   "execution_count": 28,
   "metadata": {},
   "outputs": [
    {
     "data": {
      "text/plain": [
       "\n",
       "  0   1 \n",
       "327 110 "
      ]
     },
     "metadata": {},
     "output_type": "display_data"
    }
   ],
   "source": [
    "# Tabulate high interest loans not fully paid\n",
    "z3 = table(highInterest$not.fully.paid)\n",
    "z3"
   ]
  },
  {
   "cell_type": "markdown",
   "metadata": {},
   "source": [
    "327 people pay full;\n",
    "110 not pay full"
   ]
  },
  {
   "cell_type": "code",
   "execution_count": 29,
   "metadata": {},
   "outputs": [
    {
     "data": {
      "text/html": [
       "'25 %'"
      ],
      "text/latex": [
       "'25 \\%'"
      ],
      "text/markdown": [
       "'25 %'"
      ],
      "text/plain": [
       "[1] \"25 %\""
      ]
     },
     "metadata": {},
     "output_type": "display_data"
    }
   ],
   "source": [
    "# Compute proportion\n",
    "paste(round(z3[2]/sum(z3),2)*100,\"%\")"
   ]
  },
  {
   "cell_type": "markdown",
   "metadata": {},
   "source": [
    "### Problem 6.2 - An Investment Strategy Based on Risk\n",
    "Next, we will determine the 100th smallest predicted probability of not paying in full by sorting the predicted risks in increasing order and selecting the 100th element of this sorted list. Find the highest predicted risk that we will include by typing the following command into your R console:\n",
    "\n",
    "    cutoff = sort(highInterest$predicted.risk, decreasing=FALSE)[100]\n",
    "\n",
    "Use the subset() function to build a data frame called selectedLoans consisting of the high-interest loans with predicted risk not exceeding the cutoff we just computed. Check to make sure you have selected 100 loans for investment.\n",
    "\n",
    "**What is the profit of the investor, who invested \\\\$1 in each of these 100 loans (do not include the $ sign in your answer)?**"
   ]
  },
  {
   "cell_type": "code",
   "execution_count": 30,
   "metadata": {},
   "outputs": [
    {
     "data": {
      "text/html": [
       "0.17708810055236"
      ],
      "text/latex": [
       "0.17708810055236"
      ],
      "text/markdown": [
       "0.17708810055236"
      ],
      "text/plain": [
       "[1] 0.1770881"
      ]
     },
     "metadata": {},
     "output_type": "display_data"
    }
   ],
   "source": [
    "# Implement cutoff\n",
    "cutoff = sort(highInterest$predicted.risk, decreasing=FALSE)[100]\n",
    "cutoff"
   ]
  },
  {
   "cell_type": "code",
   "execution_count": 31,
   "metadata": {},
   "outputs": [
    {
     "data": {
      "text/html": [
       "<table>\n",
       "<caption>A data.frame: 6 × 16</caption>\n",
       "<thead>\n",
       "\t<tr><th></th><th scope=col>credit.policy</th><th scope=col>purpose</th><th scope=col>int.rate</th><th scope=col>installment</th><th scope=col>log.annual.inc</th><th scope=col>dti</th><th scope=col>fico</th><th scope=col>days.with.cr.line</th><th scope=col>revol.bal</th><th scope=col>revol.util</th><th scope=col>inq.last.6mths</th><th scope=col>delinq.2yrs</th><th scope=col>pub.rec</th><th scope=col>not.fully.paid</th><th scope=col>predicted.risk</th><th scope=col>profit</th></tr>\n",
       "\t<tr><th></th><th scope=col>&lt;int&gt;</th><th scope=col>&lt;fct&gt;</th><th scope=col>&lt;dbl&gt;</th><th scope=col>&lt;dbl&gt;</th><th scope=col>&lt;dbl&gt;</th><th scope=col>&lt;dbl&gt;</th><th scope=col>&lt;int&gt;</th><th scope=col>&lt;dbl&gt;</th><th scope=col>&lt;int&gt;</th><th scope=col>&lt;dbl&gt;</th><th scope=col>&lt;int&gt;</th><th scope=col>&lt;int&gt;</th><th scope=col>&lt;int&gt;</th><th scope=col>&lt;int&gt;</th><th scope=col>&lt;dbl&gt;</th><th scope=col>&lt;dbl&gt;</th></tr>\n",
       "</thead>\n",
       "<tbody>\n",
       "\t<tr><th scope=row>74</th><td>1</td><td>small_business    </td><td>0.1501</td><td>225.37</td><td>12.26905</td><td> 6.45</td><td>677</td><td>6240.000</td><td>56411</td><td>75.3</td><td>0</td><td>0</td><td>0</td><td>1</td><td>0.1640581</td><td>-1.0000000</td></tr>\n",
       "\t<tr><th scope=row>87</th><td>1</td><td>credit_card       </td><td>0.1533</td><td>444.05</td><td>11.00210</td><td>19.52</td><td>667</td><td>2700.958</td><td>33074</td><td>68.8</td><td>2</td><td>0</td><td>0</td><td>0</td><td>0.1685521</td><td> 0.5839156</td></tr>\n",
       "\t<tr><th scope=row>624</th><td>1</td><td>debt_consolidation</td><td>0.1576</td><td>420.47</td><td>11.51293</td><td>18.55</td><td>667</td><td>4560.042</td><td>34841</td><td>89.6</td><td>0</td><td>0</td><td>0</td><td>0</td><td>0.1576252</td><td> 0.6044805</td></tr>\n",
       "\t<tr><th scope=row>1361</th><td>1</td><td>all_other         </td><td>0.1588</td><td>245.69</td><td>11.46163</td><td>24.19</td><td>667</td><td>5375.958</td><td>  590</td><td>84.3</td><td>0</td><td>0</td><td>0</td><td>0</td><td>0.1623675</td><td> 0.6102670</td></tr>\n",
       "\t<tr><th scope=row>1524</th><td>1</td><td>debt_consolidation</td><td>0.1557</td><td>244.62</td><td>10.78932</td><td> 2.72</td><td>672</td><td>3010.042</td><td> 3273</td><td>69.6</td><td>1</td><td>0</td><td>0</td><td>1</td><td>0.1464001</td><td>-1.0000000</td></tr>\n",
       "\t<tr><th scope=row>1617</th><td>1</td><td>home_improvement  </td><td>0.1525</td><td>347.88</td><td>11.00210</td><td> 1.28</td><td>702</td><td>1290.042</td><td> 4980</td><td>55.3</td><td>1</td><td>0</td><td>0</td><td>0</td><td>0.1757593</td><td> 0.5801187</td></tr>\n",
       "</tbody>\n",
       "</table>\n"
      ],
      "text/latex": [
       "A data.frame: 6 × 16\n",
       "\\begin{tabular}{r|llllllllllllllll}\n",
       "  & credit.policy & purpose & int.rate & installment & log.annual.inc & dti & fico & days.with.cr.line & revol.bal & revol.util & inq.last.6mths & delinq.2yrs & pub.rec & not.fully.paid & predicted.risk & profit\\\\\n",
       "  & <int> & <fct> & <dbl> & <dbl> & <dbl> & <dbl> & <int> & <dbl> & <int> & <dbl> & <int> & <int> & <int> & <int> & <dbl> & <dbl>\\\\\n",
       "\\hline\n",
       "\t74 & 1 & small\\_business     & 0.1501 & 225.37 & 12.26905 &  6.45 & 677 & 6240.000 & 56411 & 75.3 & 0 & 0 & 0 & 1 & 0.1640581 & -1.0000000\\\\\n",
       "\t87 & 1 & credit\\_card        & 0.1533 & 444.05 & 11.00210 & 19.52 & 667 & 2700.958 & 33074 & 68.8 & 2 & 0 & 0 & 0 & 0.1685521 &  0.5839156\\\\\n",
       "\t624 & 1 & debt\\_consolidation & 0.1576 & 420.47 & 11.51293 & 18.55 & 667 & 4560.042 & 34841 & 89.6 & 0 & 0 & 0 & 0 & 0.1576252 &  0.6044805\\\\\n",
       "\t1361 & 1 & all\\_other          & 0.1588 & 245.69 & 11.46163 & 24.19 & 667 & 5375.958 &   590 & 84.3 & 0 & 0 & 0 & 0 & 0.1623675 &  0.6102670\\\\\n",
       "\t1524 & 1 & debt\\_consolidation & 0.1557 & 244.62 & 10.78932 &  2.72 & 672 & 3010.042 &  3273 & 69.6 & 1 & 0 & 0 & 1 & 0.1464001 & -1.0000000\\\\\n",
       "\t1617 & 1 & home\\_improvement   & 0.1525 & 347.88 & 11.00210 &  1.28 & 702 & 1290.042 &  4980 & 55.3 & 1 & 0 & 0 & 0 & 0.1757593 &  0.5801187\\\\\n",
       "\\end{tabular}\n"
      ],
      "text/markdown": [
       "\n",
       "A data.frame: 6 × 16\n",
       "\n",
       "| <!--/--> | credit.policy &lt;int&gt; | purpose &lt;fct&gt; | int.rate &lt;dbl&gt; | installment &lt;dbl&gt; | log.annual.inc &lt;dbl&gt; | dti &lt;dbl&gt; | fico &lt;int&gt; | days.with.cr.line &lt;dbl&gt; | revol.bal &lt;int&gt; | revol.util &lt;dbl&gt; | inq.last.6mths &lt;int&gt; | delinq.2yrs &lt;int&gt; | pub.rec &lt;int&gt; | not.fully.paid &lt;int&gt; | predicted.risk &lt;dbl&gt; | profit &lt;dbl&gt; |\n",
       "|---|---|---|---|---|---|---|---|---|---|---|---|---|---|---|---|---|\n",
       "| 74 | 1 | small_business     | 0.1501 | 225.37 | 12.26905 |  6.45 | 677 | 6240.000 | 56411 | 75.3 | 0 | 0 | 0 | 1 | 0.1640581 | -1.0000000 |\n",
       "| 87 | 1 | credit_card        | 0.1533 | 444.05 | 11.00210 | 19.52 | 667 | 2700.958 | 33074 | 68.8 | 2 | 0 | 0 | 0 | 0.1685521 |  0.5839156 |\n",
       "| 624 | 1 | debt_consolidation | 0.1576 | 420.47 | 11.51293 | 18.55 | 667 | 4560.042 | 34841 | 89.6 | 0 | 0 | 0 | 0 | 0.1576252 |  0.6044805 |\n",
       "| 1361 | 1 | all_other          | 0.1588 | 245.69 | 11.46163 | 24.19 | 667 | 5375.958 |   590 | 84.3 | 0 | 0 | 0 | 0 | 0.1623675 |  0.6102670 |\n",
       "| 1524 | 1 | debt_consolidation | 0.1557 | 244.62 | 10.78932 |  2.72 | 672 | 3010.042 |  3273 | 69.6 | 1 | 0 | 0 | 1 | 0.1464001 | -1.0000000 |\n",
       "| 1617 | 1 | home_improvement   | 0.1525 | 347.88 | 11.00210 |  1.28 | 702 | 1290.042 |  4980 | 55.3 | 1 | 0 | 0 | 0 | 0.1757593 |  0.5801187 |\n",
       "\n"
      ],
      "text/plain": [
       "     credit.policy purpose            int.rate installment log.annual.inc dti  \n",
       "74   1             small_business     0.1501   225.37      12.26905        6.45\n",
       "87   1             credit_card        0.1533   444.05      11.00210       19.52\n",
       "624  1             debt_consolidation 0.1576   420.47      11.51293       18.55\n",
       "1361 1             all_other          0.1588   245.69      11.46163       24.19\n",
       "1524 1             debt_consolidation 0.1557   244.62      10.78932        2.72\n",
       "1617 1             home_improvement   0.1525   347.88      11.00210        1.28\n",
       "     fico days.with.cr.line revol.bal revol.util inq.last.6mths delinq.2yrs\n",
       "74   677  6240.000          56411     75.3       0              0          \n",
       "87   667  2700.958          33074     68.8       2              0          \n",
       "624  667  4560.042          34841     89.6       0              0          \n",
       "1361 667  5375.958            590     84.3       0              0          \n",
       "1524 672  3010.042           3273     69.6       1              0          \n",
       "1617 702  1290.042           4980     55.3       1              0          \n",
       "     pub.rec not.fully.paid predicted.risk profit    \n",
       "74   0       1              0.1640581      -1.0000000\n",
       "87   0       0              0.1685521       0.5839156\n",
       "624  0       0              0.1576252       0.6044805\n",
       "1361 0       0              0.1623675       0.6102670\n",
       "1524 0       1              0.1464001      -1.0000000\n",
       "1617 0       0              0.1757593       0.5801187"
      ]
     },
     "metadata": {},
     "output_type": "display_data"
    },
    {
     "data": {
      "text/html": [
       "100"
      ],
      "text/latex": [
       "100"
      ],
      "text/markdown": [
       "100"
      ],
      "text/plain": [
       "[1] 100"
      ]
     },
     "metadata": {},
     "output_type": "display_data"
    }
   ],
   "source": [
    "# Subset the data\n",
    "selectedLoans = subset(highInterest, predicted.risk <= cutoff)\n",
    "head(selectedLoans)\n",
    "nrow(selectedLoans)"
   ]
  },
  {
   "cell_type": "code",
   "execution_count": 32,
   "metadata": {},
   "outputs": [
    {
     "data": {
      "text/html": [
       "31.2782492792533"
      ],
      "text/latex": [
       "31.2782492792533"
      ],
      "text/markdown": [
       "31.2782492792533"
      ],
      "text/plain": [
       "[1] 31.27825"
      ]
     },
     "metadata": {},
     "output_type": "display_data"
    }
   ],
   "source": [
    "# Calculate the profit\n",
    "sum(selectedLoans$profit)"
   ]
  },
  {
   "cell_type": "markdown",
   "metadata": {},
   "source": [
    "**How many of 100 selected loans were not paid back in full?**"
   ]
  },
  {
   "cell_type": "code",
   "execution_count": 33,
   "metadata": {},
   "outputs": [
    {
     "data": {
      "text/plain": [
       "\n",
       " 0  1 \n",
       "81 19 "
      ]
     },
     "metadata": {},
     "output_type": "display_data"
    }
   ],
   "source": [
    "# Tabulate how many selected loans were not paid back in full\n",
    "z4 = table(selectedLoans$not.fully.paid) \n",
    "z4"
   ]
  },
  {
   "cell_type": "markdown",
   "metadata": {},
   "source": [
    "81 people pay full;\n",
    "19 not pay full"
   ]
  },
  {
   "cell_type": "markdown",
   "metadata": {},
   "source": [
    "We have now seen how analytics can be used to select a subset of the high-interest loans that were paid back at only a slightly lower rate than average, resulting in a significant increase in the profit from our investor's $100 investment. Although the logistic regression models developed in this problem did not have large AUC values, we see that they still provided the edge needed to improve the profitability of an investment portfolio.\n",
    "\n",
    "We conclude with a note of warning. Throughout this analysis we assume that the loans we invest in will perform in the same way as the loans we used to train our model, even though our training set covers a relatively short period of time. If there is an economic shock like a large financial downturn, default rates might be significantly higher than those observed in the training set and we might end up losing money instead of profiting. Investors must pay careful attention to such risk when making investment decisions."
   ]
  }
 ],
 "metadata": {
  "kernelspec": {
   "display_name": "R",
   "language": "R",
   "name": "ir"
  },
  "language_info": {
   "codemirror_mode": "r",
   "file_extension": ".r",
   "mimetype": "text/x-r-source",
   "name": "R",
   "pygments_lexer": "r",
   "version": "3.6.3"
  }
 },
 "nbformat": 4,
 "nbformat_minor": 4
}
