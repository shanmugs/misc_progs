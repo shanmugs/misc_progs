{
 "cells": [
  {
   "cell_type": "markdown",
   "metadata": {},
   "source": [
    "# NBA"
   ]
  },
  {
   "cell_type": "markdown",
   "metadata": {},
   "source": [
    "<img src=\"images/NBA1920.png\"/>"
   ]
  },
  {
   "cell_type": "markdown",
   "metadata": {},
   "source": [
    "### Read in data"
   ]
  },
  {
   "cell_type": "code",
   "execution_count": 1,
   "metadata": {},
   "outputs": [
    {
     "data": {
      "text/html": [
       "<table>\n",
       "<caption>A data.frame: 6 × 20</caption>\n",
       "<thead>\n",
       "\t<tr><th></th><th scope=col>SeasonEnd</th><th scope=col>Team</th><th scope=col>Playoffs</th><th scope=col>W</th><th scope=col>PTS</th><th scope=col>oppPTS</th><th scope=col>FG</th><th scope=col>FGA</th><th scope=col>X2P</th><th scope=col>X2PA</th><th scope=col>X3P</th><th scope=col>X3PA</th><th scope=col>FT</th><th scope=col>FTA</th><th scope=col>ORB</th><th scope=col>DRB</th><th scope=col>AST</th><th scope=col>STL</th><th scope=col>BLK</th><th scope=col>TOV</th></tr>\n",
       "\t<tr><th></th><th scope=col>&lt;int&gt;</th><th scope=col>&lt;fct&gt;</th><th scope=col>&lt;int&gt;</th><th scope=col>&lt;int&gt;</th><th scope=col>&lt;int&gt;</th><th scope=col>&lt;int&gt;</th><th scope=col>&lt;int&gt;</th><th scope=col>&lt;int&gt;</th><th scope=col>&lt;int&gt;</th><th scope=col>&lt;int&gt;</th><th scope=col>&lt;int&gt;</th><th scope=col>&lt;int&gt;</th><th scope=col>&lt;int&gt;</th><th scope=col>&lt;int&gt;</th><th scope=col>&lt;int&gt;</th><th scope=col>&lt;int&gt;</th><th scope=col>&lt;int&gt;</th><th scope=col>&lt;int&gt;</th><th scope=col>&lt;int&gt;</th><th scope=col>&lt;int&gt;</th></tr>\n",
       "</thead>\n",
       "<tbody>\n",
       "\t<tr><th scope=row>1</th><td>1980</td><td>Atlanta Hawks      </td><td>1</td><td>50</td><td>8573</td><td>8334</td><td>3261</td><td>7027</td><td>3248</td><td>6952</td><td> 13</td><td> 75</td><td>2038</td><td>2645</td><td>1369</td><td>2406</td><td>1913</td><td>782</td><td>539</td><td>1495</td></tr>\n",
       "\t<tr><th scope=row>2</th><td>1980</td><td>Boston Celtics     </td><td>1</td><td>61</td><td>9303</td><td>8664</td><td>3617</td><td>7387</td><td>3455</td><td>6965</td><td>162</td><td>422</td><td>1907</td><td>2449</td><td>1227</td><td>2457</td><td>2198</td><td>809</td><td>308</td><td>1539</td></tr>\n",
       "\t<tr><th scope=row>3</th><td>1980</td><td>Chicago Bulls      </td><td>0</td><td>30</td><td>8813</td><td>9035</td><td>3362</td><td>6943</td><td>3292</td><td>6668</td><td> 70</td><td>275</td><td>2019</td><td>2592</td><td>1115</td><td>2465</td><td>2152</td><td>704</td><td>392</td><td>1684</td></tr>\n",
       "\t<tr><th scope=row>4</th><td>1980</td><td>Cleveland Cavaliers</td><td>0</td><td>37</td><td>9360</td><td>9332</td><td>3811</td><td>8041</td><td>3775</td><td>7854</td><td> 36</td><td>187</td><td>1702</td><td>2205</td><td>1307</td><td>2381</td><td>2108</td><td>764</td><td>342</td><td>1370</td></tr>\n",
       "\t<tr><th scope=row>5</th><td>1980</td><td>Denver Nuggets     </td><td>0</td><td>30</td><td>8878</td><td>9240</td><td>3462</td><td>7470</td><td>3379</td><td>7215</td><td> 83</td><td>255</td><td>1871</td><td>2539</td><td>1311</td><td>2524</td><td>2079</td><td>746</td><td>404</td><td>1533</td></tr>\n",
       "\t<tr><th scope=row>6</th><td>1980</td><td>Detroit Pistons    </td><td>0</td><td>16</td><td>8933</td><td>9609</td><td>3643</td><td>7596</td><td>3586</td><td>7377</td><td> 57</td><td>219</td><td>1590</td><td>2149</td><td>1226</td><td>2415</td><td>1950</td><td>783</td><td>562</td><td>1742</td></tr>\n",
       "</tbody>\n",
       "</table>\n"
      ],
      "text/latex": [
       "A data.frame: 6 × 20\n",
       "\\begin{tabular}{r|llllllllllllllllllll}\n",
       "  & SeasonEnd & Team & Playoffs & W & PTS & oppPTS & FG & FGA & X2P & X2PA & X3P & X3PA & FT & FTA & ORB & DRB & AST & STL & BLK & TOV\\\\\n",
       "  & <int> & <fct> & <int> & <int> & <int> & <int> & <int> & <int> & <int> & <int> & <int> & <int> & <int> & <int> & <int> & <int> & <int> & <int> & <int> & <int>\\\\\n",
       "\\hline\n",
       "\t1 & 1980 & Atlanta Hawks       & 1 & 50 & 8573 & 8334 & 3261 & 7027 & 3248 & 6952 &  13 &  75 & 2038 & 2645 & 1369 & 2406 & 1913 & 782 & 539 & 1495\\\\\n",
       "\t2 & 1980 & Boston Celtics      & 1 & 61 & 9303 & 8664 & 3617 & 7387 & 3455 & 6965 & 162 & 422 & 1907 & 2449 & 1227 & 2457 & 2198 & 809 & 308 & 1539\\\\\n",
       "\t3 & 1980 & Chicago Bulls       & 0 & 30 & 8813 & 9035 & 3362 & 6943 & 3292 & 6668 &  70 & 275 & 2019 & 2592 & 1115 & 2465 & 2152 & 704 & 392 & 1684\\\\\n",
       "\t4 & 1980 & Cleveland Cavaliers & 0 & 37 & 9360 & 9332 & 3811 & 8041 & 3775 & 7854 &  36 & 187 & 1702 & 2205 & 1307 & 2381 & 2108 & 764 & 342 & 1370\\\\\n",
       "\t5 & 1980 & Denver Nuggets      & 0 & 30 & 8878 & 9240 & 3462 & 7470 & 3379 & 7215 &  83 & 255 & 1871 & 2539 & 1311 & 2524 & 2079 & 746 & 404 & 1533\\\\\n",
       "\t6 & 1980 & Detroit Pistons     & 0 & 16 & 8933 & 9609 & 3643 & 7596 & 3586 & 7377 &  57 & 219 & 1590 & 2149 & 1226 & 2415 & 1950 & 783 & 562 & 1742\\\\\n",
       "\\end{tabular}\n"
      ],
      "text/markdown": [
       "\n",
       "A data.frame: 6 × 20\n",
       "\n",
       "| <!--/--> | SeasonEnd &lt;int&gt; | Team &lt;fct&gt; | Playoffs &lt;int&gt; | W &lt;int&gt; | PTS &lt;int&gt; | oppPTS &lt;int&gt; | FG &lt;int&gt; | FGA &lt;int&gt; | X2P &lt;int&gt; | X2PA &lt;int&gt; | X3P &lt;int&gt; | X3PA &lt;int&gt; | FT &lt;int&gt; | FTA &lt;int&gt; | ORB &lt;int&gt; | DRB &lt;int&gt; | AST &lt;int&gt; | STL &lt;int&gt; | BLK &lt;int&gt; | TOV &lt;int&gt; |\n",
       "|---|---|---|---|---|---|---|---|---|---|---|---|---|---|---|---|---|---|---|---|---|\n",
       "| 1 | 1980 | Atlanta Hawks       | 1 | 50 | 8573 | 8334 | 3261 | 7027 | 3248 | 6952 |  13 |  75 | 2038 | 2645 | 1369 | 2406 | 1913 | 782 | 539 | 1495 |\n",
       "| 2 | 1980 | Boston Celtics      | 1 | 61 | 9303 | 8664 | 3617 | 7387 | 3455 | 6965 | 162 | 422 | 1907 | 2449 | 1227 | 2457 | 2198 | 809 | 308 | 1539 |\n",
       "| 3 | 1980 | Chicago Bulls       | 0 | 30 | 8813 | 9035 | 3362 | 6943 | 3292 | 6668 |  70 | 275 | 2019 | 2592 | 1115 | 2465 | 2152 | 704 | 392 | 1684 |\n",
       "| 4 | 1980 | Cleveland Cavaliers | 0 | 37 | 9360 | 9332 | 3811 | 8041 | 3775 | 7854 |  36 | 187 | 1702 | 2205 | 1307 | 2381 | 2108 | 764 | 342 | 1370 |\n",
       "| 5 | 1980 | Denver Nuggets      | 0 | 30 | 8878 | 9240 | 3462 | 7470 | 3379 | 7215 |  83 | 255 | 1871 | 2539 | 1311 | 2524 | 2079 | 746 | 404 | 1533 |\n",
       "| 6 | 1980 | Detroit Pistons     | 0 | 16 | 8933 | 9609 | 3643 | 7596 | 3586 | 7377 |  57 | 219 | 1590 | 2149 | 1226 | 2415 | 1950 | 783 | 562 | 1742 |\n",
       "\n"
      ],
      "text/plain": [
       "  SeasonEnd Team                Playoffs W  PTS  oppPTS FG   FGA  X2P  X2PA X3P\n",
       "1 1980      Atlanta Hawks       1        50 8573 8334   3261 7027 3248 6952  13\n",
       "2 1980      Boston Celtics      1        61 9303 8664   3617 7387 3455 6965 162\n",
       "3 1980      Chicago Bulls       0        30 8813 9035   3362 6943 3292 6668  70\n",
       "4 1980      Cleveland Cavaliers 0        37 9360 9332   3811 8041 3775 7854  36\n",
       "5 1980      Denver Nuggets      0        30 8878 9240   3462 7470 3379 7215  83\n",
       "6 1980      Detroit Pistons     0        16 8933 9609   3643 7596 3586 7377  57\n",
       "  X3PA FT   FTA  ORB  DRB  AST  STL BLK TOV \n",
       "1  75  2038 2645 1369 2406 1913 782 539 1495\n",
       "2 422  1907 2449 1227 2457 2198 809 308 1539\n",
       "3 275  2019 2592 1115 2465 2152 704 392 1684\n",
       "4 187  1702 2205 1307 2381 2108 764 342 1370\n",
       "5 255  1871 2539 1311 2524 2079 746 404 1533\n",
       "6 219  1590 2149 1226 2415 1950 783 562 1742"
      ]
     },
     "metadata": {},
     "output_type": "display_data"
    }
   ],
   "source": [
    "NBA = read.csv(\"data/NBA_train.csv\")\n",
    "head(NBA)"
   ]
  },
  {
   "cell_type": "code",
   "execution_count": 2,
   "metadata": {},
   "outputs": [
    {
     "name": "stdout",
     "output_type": "stream",
     "text": [
      "'data.frame':\t835 obs. of  20 variables:\n",
      " $ SeasonEnd: int  1980 1980 1980 1980 1980 1980 1980 1980 1980 1980 ...\n",
      " $ Team     : Factor w/ 37 levels \"Atlanta Hawks\",..: 1 2 5 6 8 9 10 11 12 13 ...\n",
      " $ Playoffs : int  1 1 0 0 0 0 0 1 0 1 ...\n",
      " $ W        : int  50 61 30 37 30 16 24 41 37 47 ...\n",
      " $ PTS      : int  8573 9303 8813 9360 8878 8933 8493 9084 9119 8860 ...\n",
      " $ oppPTS   : int  8334 8664 9035 9332 9240 9609 8853 9070 9176 8603 ...\n",
      " $ FG       : int  3261 3617 3362 3811 3462 3643 3527 3599 3639 3582 ...\n",
      " $ FGA      : int  7027 7387 6943 8041 7470 7596 7318 7496 7689 7489 ...\n",
      " $ X2P      : int  3248 3455 3292 3775 3379 3586 3500 3495 3551 3557 ...\n",
      " $ X2PA     : int  6952 6965 6668 7854 7215 7377 7197 7117 7375 7375 ...\n",
      " $ X3P      : int  13 162 70 36 83 57 27 104 88 25 ...\n",
      " $ X3PA     : int  75 422 275 187 255 219 121 379 314 114 ...\n",
      " $ FT       : int  2038 1907 2019 1702 1871 1590 1412 1782 1753 1671 ...\n",
      " $ FTA      : int  2645 2449 2592 2205 2539 2149 1914 2326 2333 2250 ...\n",
      " $ ORB      : int  1369 1227 1115 1307 1311 1226 1155 1394 1398 1187 ...\n",
      " $ DRB      : int  2406 2457 2465 2381 2524 2415 2437 2217 2326 2429 ...\n",
      " $ AST      : int  1913 2198 2152 2108 2079 1950 2028 2149 2148 2123 ...\n",
      " $ STL      : int  782 809 704 764 746 783 779 782 900 863 ...\n",
      " $ BLK      : int  539 308 392 342 404 562 339 373 530 356 ...\n",
      " $ TOV      : int  1495 1539 1684 1370 1533 1742 1492 1565 1517 1439 ...\n"
     ]
    }
   ],
   "source": [
    "str(NBA)"
   ]
  },
  {
   "cell_type": "code",
   "execution_count": 3,
   "metadata": {},
   "outputs": [
    {
     "data": {
      "text/plain": [
       "   SeasonEnd                     Team        Playoffs            W       \n",
       " Min.   :1980   Atlanta Hawks      : 31   Min.   :0.0000   Min.   :11.0  \n",
       " 1st Qu.:1989   Boston Celtics     : 31   1st Qu.:0.0000   1st Qu.:31.0  \n",
       " Median :1996   Chicago Bulls      : 31   Median :1.0000   Median :42.0  \n",
       " Mean   :1996   Cleveland Cavaliers: 31   Mean   :0.5749   Mean   :41.0  \n",
       " 3rd Qu.:2005   Denver Nuggets     : 31   3rd Qu.:1.0000   3rd Qu.:50.5  \n",
       " Max.   :2011   Detroit Pistons    : 31   Max.   :1.0000   Max.   :72.0  \n",
       "                (Other)            :649                                  \n",
       "      PTS            oppPTS            FG            FGA            X2P      \n",
       " Min.   : 6901   Min.   : 6909   Min.   :2565   Min.   :5972   Min.   :1981  \n",
       " 1st Qu.: 7934   1st Qu.: 7934   1st Qu.:2974   1st Qu.:6564   1st Qu.:2510  \n",
       " Median : 8312   Median : 8365   Median :3150   Median :6831   Median :2718  \n",
       " Mean   : 8370   Mean   : 8370   Mean   :3200   Mean   :6873   Mean   :2881  \n",
       " 3rd Qu.: 8784   3rd Qu.: 8768   3rd Qu.:3434   3rd Qu.:7157   3rd Qu.:3296  \n",
       " Max.   :10371   Max.   :10723   Max.   :3980   Max.   :8868   Max.   :3954  \n",
       "                                                                             \n",
       "      X2PA           X3P             X3PA              FT            FTA      \n",
       " Min.   :4153   Min.   : 10.0   Min.   :  75.0   Min.   :1189   Min.   :1475  \n",
       " 1st Qu.:5269   1st Qu.:131.5   1st Qu.: 413.0   1st Qu.:1502   1st Qu.:2008  \n",
       " Median :5706   Median :329.0   Median : 942.0   Median :1628   Median :2176  \n",
       " Mean   :5956   Mean   :319.0   Mean   : 916.9   Mean   :1650   Mean   :2190  \n",
       " 3rd Qu.:6754   3rd Qu.:481.5   3rd Qu.:1347.5   3rd Qu.:1781   3rd Qu.:2352  \n",
       " Max.   :7873   Max.   :841.0   Max.   :2284.0   Max.   :2388   Max.   :3051  \n",
       "                                                                              \n",
       "      ORB              DRB            AST            STL        \n",
       " Min.   : 639.0   Min.   :2044   Min.   :1423   Min.   : 455.0  \n",
       " 1st Qu.: 953.5   1st Qu.:2346   1st Qu.:1735   1st Qu.: 599.0  \n",
       " Median :1055.0   Median :2433   Median :1899   Median : 658.0  \n",
       " Mean   :1061.6   Mean   :2427   Mean   :1912   Mean   : 668.4  \n",
       " 3rd Qu.:1167.0   3rd Qu.:2516   3rd Qu.:2078   3rd Qu.: 729.0  \n",
       " Max.   :1520.0   Max.   :2753   Max.   :2575   Max.   :1053.0  \n",
       "                                                                \n",
       "      BLK             TOV      \n",
       " Min.   :204.0   Min.   : 931  \n",
       " 1st Qu.:359.0   1st Qu.:1192  \n",
       " Median :410.0   Median :1289  \n",
       " Mean   :419.8   Mean   :1303  \n",
       " 3rd Qu.:469.5   3rd Qu.:1396  \n",
       " Max.   :716.0   Max.   :1873  \n",
       "                               "
      ]
     },
     "metadata": {},
     "output_type": "display_data"
    }
   ],
   "source": [
    "summary(NBA)"
   ]
  },
  {
   "cell_type": "markdown",
   "metadata": {},
   "source": [
    "#### How many wins to make the playoffs?"
   ]
  },
  {
   "cell_type": "code",
   "execution_count": 4,
   "metadata": {},
   "outputs": [
    {
     "data": {
      "text/plain": [
       "    \n",
       "      0  1\n",
       "  11  2  0\n",
       "  12  2  0\n",
       "  13  2  0\n",
       "  14  2  0\n",
       "  15 10  0\n",
       "  16  2  0\n",
       "  17 11  0\n",
       "  18  5  0\n",
       "  19 10  0\n",
       "  20 10  0\n",
       "  21 12  0\n",
       "  22 11  0\n",
       "  23 11  0\n",
       "  24 18  0\n",
       "  25 11  0\n",
       "  26 17  0\n",
       "  27 10  0\n",
       "  28 18  0\n",
       "  29 12  0\n",
       "  30 19  1\n",
       "  31 15  1\n",
       "  32 12  0\n",
       "  33 17  0\n",
       "  34 16  0\n",
       "  35 13  3\n",
       "  36 17  4\n",
       "  37 15  4\n",
       "  38  8  7\n",
       "  39 10 10\n",
       "  40  9 13\n",
       "  41 11 26\n",
       "  42  8 29\n",
       "  43  2 18\n",
       "  44  2 27\n",
       "  45  3 22\n",
       "  46  1 15\n",
       "  47  0 28\n",
       "  48  1 14\n",
       "  49  0 17\n",
       "  50  0 32\n",
       "  51  0 12\n",
       "  52  0 20\n",
       "  53  0 17\n",
       "  54  0 18\n",
       "  55  0 24\n",
       "  56  0 16\n",
       "  57  0 23\n",
       "  58  0 13\n",
       "  59  0 14\n",
       "  60  0  8\n",
       "  61  0 10\n",
       "  62  0 13\n",
       "  63  0  7\n",
       "  64  0  3\n",
       "  65  0  3\n",
       "  66  0  2\n",
       "  67  0  4\n",
       "  69  0  1\n",
       "  72  0  1"
      ]
     },
     "metadata": {},
     "output_type": "display_data"
    }
   ],
   "source": [
    "table(NBA$W, NBA$Playoffs)"
   ]
  },
  {
   "cell_type": "markdown",
   "metadata": {},
   "source": [
    "#### Compute Points Difference"
   ]
  },
  {
   "cell_type": "code",
   "execution_count": 5,
   "metadata": {},
   "outputs": [
    {
     "data": {
      "text/html": [
       "<table>\n",
       "<caption>A data.frame: 6 × 21</caption>\n",
       "<thead>\n",
       "\t<tr><th></th><th scope=col>SeasonEnd</th><th scope=col>Team</th><th scope=col>Playoffs</th><th scope=col>W</th><th scope=col>PTS</th><th scope=col>oppPTS</th><th scope=col>FG</th><th scope=col>FGA</th><th scope=col>X2P</th><th scope=col>X2PA</th><th scope=col>⋯</th><th scope=col>X3PA</th><th scope=col>FT</th><th scope=col>FTA</th><th scope=col>ORB</th><th scope=col>DRB</th><th scope=col>AST</th><th scope=col>STL</th><th scope=col>BLK</th><th scope=col>TOV</th><th scope=col>PTSdiff</th></tr>\n",
       "\t<tr><th></th><th scope=col>&lt;int&gt;</th><th scope=col>&lt;fct&gt;</th><th scope=col>&lt;int&gt;</th><th scope=col>&lt;int&gt;</th><th scope=col>&lt;int&gt;</th><th scope=col>&lt;int&gt;</th><th scope=col>&lt;int&gt;</th><th scope=col>&lt;int&gt;</th><th scope=col>&lt;int&gt;</th><th scope=col>&lt;int&gt;</th><th scope=col>⋯</th><th scope=col>&lt;int&gt;</th><th scope=col>&lt;int&gt;</th><th scope=col>&lt;int&gt;</th><th scope=col>&lt;int&gt;</th><th scope=col>&lt;int&gt;</th><th scope=col>&lt;int&gt;</th><th scope=col>&lt;int&gt;</th><th scope=col>&lt;int&gt;</th><th scope=col>&lt;int&gt;</th><th scope=col>&lt;int&gt;</th></tr>\n",
       "</thead>\n",
       "<tbody>\n",
       "\t<tr><th scope=row>1</th><td>1980</td><td>Atlanta Hawks      </td><td>1</td><td>50</td><td>8573</td><td>8334</td><td>3261</td><td>7027</td><td>3248</td><td>6952</td><td>⋯</td><td> 75</td><td>2038</td><td>2645</td><td>1369</td><td>2406</td><td>1913</td><td>782</td><td>539</td><td>1495</td><td> 239</td></tr>\n",
       "\t<tr><th scope=row>2</th><td>1980</td><td>Boston Celtics     </td><td>1</td><td>61</td><td>9303</td><td>8664</td><td>3617</td><td>7387</td><td>3455</td><td>6965</td><td>⋯</td><td>422</td><td>1907</td><td>2449</td><td>1227</td><td>2457</td><td>2198</td><td>809</td><td>308</td><td>1539</td><td> 639</td></tr>\n",
       "\t<tr><th scope=row>3</th><td>1980</td><td>Chicago Bulls      </td><td>0</td><td>30</td><td>8813</td><td>9035</td><td>3362</td><td>6943</td><td>3292</td><td>6668</td><td>⋯</td><td>275</td><td>2019</td><td>2592</td><td>1115</td><td>2465</td><td>2152</td><td>704</td><td>392</td><td>1684</td><td>-222</td></tr>\n",
       "\t<tr><th scope=row>4</th><td>1980</td><td>Cleveland Cavaliers</td><td>0</td><td>37</td><td>9360</td><td>9332</td><td>3811</td><td>8041</td><td>3775</td><td>7854</td><td>⋯</td><td>187</td><td>1702</td><td>2205</td><td>1307</td><td>2381</td><td>2108</td><td>764</td><td>342</td><td>1370</td><td>  28</td></tr>\n",
       "\t<tr><th scope=row>5</th><td>1980</td><td>Denver Nuggets     </td><td>0</td><td>30</td><td>8878</td><td>9240</td><td>3462</td><td>7470</td><td>3379</td><td>7215</td><td>⋯</td><td>255</td><td>1871</td><td>2539</td><td>1311</td><td>2524</td><td>2079</td><td>746</td><td>404</td><td>1533</td><td>-362</td></tr>\n",
       "\t<tr><th scope=row>6</th><td>1980</td><td>Detroit Pistons    </td><td>0</td><td>16</td><td>8933</td><td>9609</td><td>3643</td><td>7596</td><td>3586</td><td>7377</td><td>⋯</td><td>219</td><td>1590</td><td>2149</td><td>1226</td><td>2415</td><td>1950</td><td>783</td><td>562</td><td>1742</td><td>-676</td></tr>\n",
       "</tbody>\n",
       "</table>\n"
      ],
      "text/latex": [
       "A data.frame: 6 × 21\n",
       "\\begin{tabular}{r|lllllllllllllllllllll}\n",
       "  & SeasonEnd & Team & Playoffs & W & PTS & oppPTS & FG & FGA & X2P & X2PA & ⋯ & X3PA & FT & FTA & ORB & DRB & AST & STL & BLK & TOV & PTSdiff\\\\\n",
       "  & <int> & <fct> & <int> & <int> & <int> & <int> & <int> & <int> & <int> & <int> & ⋯ & <int> & <int> & <int> & <int> & <int> & <int> & <int> & <int> & <int> & <int>\\\\\n",
       "\\hline\n",
       "\t1 & 1980 & Atlanta Hawks       & 1 & 50 & 8573 & 8334 & 3261 & 7027 & 3248 & 6952 & ⋯ &  75 & 2038 & 2645 & 1369 & 2406 & 1913 & 782 & 539 & 1495 &  239\\\\\n",
       "\t2 & 1980 & Boston Celtics      & 1 & 61 & 9303 & 8664 & 3617 & 7387 & 3455 & 6965 & ⋯ & 422 & 1907 & 2449 & 1227 & 2457 & 2198 & 809 & 308 & 1539 &  639\\\\\n",
       "\t3 & 1980 & Chicago Bulls       & 0 & 30 & 8813 & 9035 & 3362 & 6943 & 3292 & 6668 & ⋯ & 275 & 2019 & 2592 & 1115 & 2465 & 2152 & 704 & 392 & 1684 & -222\\\\\n",
       "\t4 & 1980 & Cleveland Cavaliers & 0 & 37 & 9360 & 9332 & 3811 & 8041 & 3775 & 7854 & ⋯ & 187 & 1702 & 2205 & 1307 & 2381 & 2108 & 764 & 342 & 1370 &   28\\\\\n",
       "\t5 & 1980 & Denver Nuggets      & 0 & 30 & 8878 & 9240 & 3462 & 7470 & 3379 & 7215 & ⋯ & 255 & 1871 & 2539 & 1311 & 2524 & 2079 & 746 & 404 & 1533 & -362\\\\\n",
       "\t6 & 1980 & Detroit Pistons     & 0 & 16 & 8933 & 9609 & 3643 & 7596 & 3586 & 7377 & ⋯ & 219 & 1590 & 2149 & 1226 & 2415 & 1950 & 783 & 562 & 1742 & -676\\\\\n",
       "\\end{tabular}\n"
      ],
      "text/markdown": [
       "\n",
       "A data.frame: 6 × 21\n",
       "\n",
       "| <!--/--> | SeasonEnd &lt;int&gt; | Team &lt;fct&gt; | Playoffs &lt;int&gt; | W &lt;int&gt; | PTS &lt;int&gt; | oppPTS &lt;int&gt; | FG &lt;int&gt; | FGA &lt;int&gt; | X2P &lt;int&gt; | X2PA &lt;int&gt; | ⋯ ⋯ | X3PA &lt;int&gt; | FT &lt;int&gt; | FTA &lt;int&gt; | ORB &lt;int&gt; | DRB &lt;int&gt; | AST &lt;int&gt; | STL &lt;int&gt; | BLK &lt;int&gt; | TOV &lt;int&gt; | PTSdiff &lt;int&gt; |\n",
       "|---|---|---|---|---|---|---|---|---|---|---|---|---|---|---|---|---|---|---|---|---|---|\n",
       "| 1 | 1980 | Atlanta Hawks       | 1 | 50 | 8573 | 8334 | 3261 | 7027 | 3248 | 6952 | ⋯ |  75 | 2038 | 2645 | 1369 | 2406 | 1913 | 782 | 539 | 1495 |  239 |\n",
       "| 2 | 1980 | Boston Celtics      | 1 | 61 | 9303 | 8664 | 3617 | 7387 | 3455 | 6965 | ⋯ | 422 | 1907 | 2449 | 1227 | 2457 | 2198 | 809 | 308 | 1539 |  639 |\n",
       "| 3 | 1980 | Chicago Bulls       | 0 | 30 | 8813 | 9035 | 3362 | 6943 | 3292 | 6668 | ⋯ | 275 | 2019 | 2592 | 1115 | 2465 | 2152 | 704 | 392 | 1684 | -222 |\n",
       "| 4 | 1980 | Cleveland Cavaliers | 0 | 37 | 9360 | 9332 | 3811 | 8041 | 3775 | 7854 | ⋯ | 187 | 1702 | 2205 | 1307 | 2381 | 2108 | 764 | 342 | 1370 |   28 |\n",
       "| 5 | 1980 | Denver Nuggets      | 0 | 30 | 8878 | 9240 | 3462 | 7470 | 3379 | 7215 | ⋯ | 255 | 1871 | 2539 | 1311 | 2524 | 2079 | 746 | 404 | 1533 | -362 |\n",
       "| 6 | 1980 | Detroit Pistons     | 0 | 16 | 8933 | 9609 | 3643 | 7596 | 3586 | 7377 | ⋯ | 219 | 1590 | 2149 | 1226 | 2415 | 1950 | 783 | 562 | 1742 | -676 |\n",
       "\n"
      ],
      "text/plain": [
       "  SeasonEnd Team                Playoffs W  PTS  oppPTS FG   FGA  X2P  X2PA\n",
       "1 1980      Atlanta Hawks       1        50 8573 8334   3261 7027 3248 6952\n",
       "2 1980      Boston Celtics      1        61 9303 8664   3617 7387 3455 6965\n",
       "3 1980      Chicago Bulls       0        30 8813 9035   3362 6943 3292 6668\n",
       "4 1980      Cleveland Cavaliers 0        37 9360 9332   3811 8041 3775 7854\n",
       "5 1980      Denver Nuggets      0        30 8878 9240   3462 7470 3379 7215\n",
       "6 1980      Detroit Pistons     0        16 8933 9609   3643 7596 3586 7377\n",
       "  <U+22EF>        X3PA FT   FTA  ORB  DRB  AST  STL BLK TOV  PTSdiff\n",
       "1 <U+22EF>  75  2038 2645 1369 2406 1913 782 539 1495  239   \n",
       "2 <U+22EF> 422  1907 2449 1227 2457 2198 809 308 1539  639   \n",
       "3 <U+22EF> 275  2019 2592 1115 2465 2152 704 392 1684 -222   \n",
       "4 <U+22EF> 187  1702 2205 1307 2381 2108 764 342 1370   28   \n",
       "5 <U+22EF> 255  1871 2539 1311 2524 2079 746 404 1533 -362   \n",
       "6 <U+22EF> 219  1590 2149 1226 2415 1950 783 562 1742 -676   "
      ]
     },
     "metadata": {},
     "output_type": "display_data"
    }
   ],
   "source": [
    "NBA$PTSdiff = NBA$PTS - NBA$oppPTS\n",
    "head(NBA)"
   ]
  },
  {
   "cell_type": "markdown",
   "metadata": {},
   "source": [
    "#### Check for linear relationship"
   ]
  },
  {
   "cell_type": "code",
   "execution_count": 6,
   "metadata": {},
   "outputs": [
    {
     "data": {
      "image/png": "[encoded data removed]",
      "text/plain": [
       "Plot with title \"Point Difference x Wins\""
      ]
     },
     "metadata": {
      "image/png": {
       "height": 420,
       "width": 420
      },
      "text/plain": {
       "height": 420,
       "width": 420
      }
     },
     "output_type": "display_data"
    }
   ],
   "source": [
    "plot(NBA$PTSdiff, NBA$W, main = \"Point Difference x Wins\",xlab='Point Difference',ylab='Wins')"
   ]
  },
  {
   "cell_type": "markdown",
   "metadata": {},
   "source": [
    "#### Linear regression model for wins"
   ]
  },
  {
   "cell_type": "code",
   "execution_count": 7,
   "metadata": {},
   "outputs": [
    {
     "data": {
      "text/plain": [
       "\n",
       "Call:\n",
       "lm(formula = W ~ PTSdiff, data = NBA)\n",
       "\n",
       "Residuals:\n",
       "    Min      1Q  Median      3Q     Max \n",
       "-9.7393 -2.1018 -0.0672  2.0265 10.6026 \n",
       "\n",
       "Coefficients:\n",
       "             Estimate Std. Error t value Pr(>|t|)    \n",
       "(Intercept) 4.100e+01  1.059e-01   387.0   <2e-16 ***\n",
       "PTSdiff     3.259e-02  2.793e-04   116.7   <2e-16 ***\n",
       "---\n",
       "Signif. codes:  0 '***' 0.001 '**' 0.01 '*' 0.05 '.' 0.1 ' ' 1\n",
       "\n",
       "Residual standard error: 3.061 on 833 degrees of freedom\n",
       "Multiple R-squared:  0.9423,\tAdjusted R-squared:  0.9423 \n",
       "F-statistic: 1.361e+04 on 1 and 833 DF,  p-value: < 2.2e-16\n"
      ]
     },
     "metadata": {},
     "output_type": "display_data"
    }
   ],
   "source": [
    "WinsReg = lm(W ~ PTSdiff, data=NBA)\n",
    "summary(WinsReg)"
   ]
  },
  {
   "cell_type": "markdown",
   "metadata": {},
   "source": [
    "**Wins = 41 + 0.0326*(PTSDifference)**"
   ]
  },
  {
   "cell_type": "markdown",
   "metadata": {},
   "source": [
    "### Linear regression model for Points Scored"
   ]
  },
  {
   "cell_type": "markdown",
   "metadata": {},
   "source": [
    "So now let's build an equation to predict points scored using some common basketball statistics. So our dependent variable would now be PTS, and our independent variables would be some of the common basketball statistics that we have in our data set."
   ]
  },
  {
   "cell_type": "code",
   "execution_count": 8,
   "metadata": {},
   "outputs": [
    {
     "data": {
      "text/plain": [
       "\n",
       "Call:\n",
       "lm(formula = PTS ~ X2PA + X3PA + FTA + AST + ORB + DRB + TOV + \n",
       "    STL + BLK, data = NBA)\n",
       "\n",
       "Residuals:\n",
       "    Min      1Q  Median      3Q     Max \n",
       "-527.40 -119.83    7.83  120.67  564.71 \n",
       "\n",
       "Coefficients:\n",
       "              Estimate Std. Error t value Pr(>|t|)    \n",
       "(Intercept) -2.051e+03  2.035e+02 -10.078   <2e-16 ***\n",
       "X2PA         1.043e+00  2.957e-02  35.274   <2e-16 ***\n",
       "X3PA         1.259e+00  3.843e-02  32.747   <2e-16 ***\n",
       "FTA          1.128e+00  3.373e-02  33.440   <2e-16 ***\n",
       "AST          8.858e-01  4.396e-02  20.150   <2e-16 ***\n",
       "ORB         -9.554e-01  7.792e-02 -12.261   <2e-16 ***\n",
       "DRB          3.883e-02  6.157e-02   0.631   0.5285    \n",
       "TOV         -2.475e-02  6.118e-02  -0.405   0.6859    \n",
       "STL         -1.992e-01  9.181e-02  -2.169   0.0303 *  \n",
       "BLK         -5.576e-02  8.782e-02  -0.635   0.5256    \n",
       "---\n",
       "Signif. codes:  0 '***' 0.001 '**' 0.01 '*' 0.05 '.' 0.1 ' ' 1\n",
       "\n",
       "Residual standard error: 185.5 on 825 degrees of freedom\n",
       "Multiple R-squared:  0.8992,\tAdjusted R-squared:  0.8981 \n",
       "F-statistic: 817.3 on 9 and 825 DF,  p-value: < 2.2e-16\n"
      ]
     },
     "metadata": {},
     "output_type": "display_data"
    }
   ],
   "source": [
    "PointsReg = lm(PTS ~ X2PA + X3PA + FTA + AST + ORB + DRB + TOV + STL + BLK, data=NBA)\n",
    "summary(PointsReg)"
   ]
  },
  {
   "cell_type": "markdown",
   "metadata": {},
   "source": [
    "#### Sum of Squared Errors"
   ]
  },
  {
   "cell_type": "code",
   "execution_count": 9,
   "metadata": {},
   "outputs": [
    {
     "data": {
      "text/html": [
       "<style>\n",
       ".dl-inline {width: auto; margin:0; padding: 0}\n",
       ".dl-inline>dt, .dl-inline>dd {float: none; width: auto; display: inline-block}\n",
       ".dl-inline>dt::after {content: \":\\0020\"; padding-right: .5ex}\n",
       ".dl-inline>dt:not(:first-of-type) {padding-left: .5ex}\n",
       "</style><dl class=dl-inline><dt>1</dt><dd>38.572271306656</dd><dt>2</dt><dd>142.87200400526</dd><dt>3</dt><dd>-92.8957180406697</dd><dt>4</dt><dd>-8.39134727073477</dd><dt>5</dt><dd>-258.470561467078</dd><dt>6</dt><dd>171.460832529565</dd></dl>\n"
      ],
      "text/latex": [
       "\\begin{description*}\n",
       "\\item[1] 38.572271306656\n",
       "\\item[2] 142.87200400526\n",
       "\\item[3] -92.8957180406697\n",
       "\\item[4] -8.39134727073477\n",
       "\\item[5] -258.470561467078\n",
       "\\item[6] 171.460832529565\n",
       "\\end{description*}\n"
      ],
      "text/markdown": [
       "1\n",
       ":   38.5722713066562\n",
       ":   142.872004005263\n",
       ":   -92.89571804066974\n",
       ":   -8.391347270734775\n",
       ":   -258.4705614670786\n",
       ":   171.460832529565\n",
       "\n"
      ],
      "text/plain": [
       "          1           2           3           4           5           6 \n",
       "  38.572271  142.872004  -92.895718   -8.391347 -258.470561  171.460833 "
      ]
     },
     "metadata": {},
     "output_type": "display_data"
    }
   ],
   "source": [
    "head(PointsReg$residuals)"
   ]
  },
  {
   "cell_type": "code",
   "execution_count": 10,
   "metadata": {},
   "outputs": [
    {
     "data": {
      "text/html": [
       "28394313.9947566"
      ],
      "text/latex": [
       "28394313.9947566"
      ],
      "text/markdown": [
       "28394313.9947566"
      ],
      "text/plain": [
       "[1] 28394314"
      ]
     },
     "metadata": {},
     "output_type": "display_data"
    }
   ],
   "source": [
    "SSE = sum(PointsReg$residuals^2)\n",
    "SSE"
   ]
  },
  {
   "cell_type": "markdown",
   "metadata": {},
   "source": [
    "#### Root mean squared error"
   ]
  },
  {
   "cell_type": "code",
   "execution_count": 11,
   "metadata": {},
   "outputs": [
    {
     "data": {
      "text/html": [
       "184.404898147491"
      ],
      "text/latex": [
       "184.404898147491"
      ],
      "text/markdown": [
       "184.404898147491"
      ],
      "text/plain": [
       "[1] 184.4049"
      ]
     },
     "metadata": {},
     "output_type": "display_data"
    }
   ],
   "source": [
    "RMSE = sqrt(SSE/nrow(NBA))\n",
    "RMSE"
   ]
  },
  {
   "cell_type": "markdown",
   "metadata": {},
   "source": [
    "#### Average number of points in a season"
   ]
  },
  {
   "cell_type": "code",
   "execution_count": 12,
   "metadata": {},
   "outputs": [
    {
     "data": {
      "text/html": [
       "8370.23952095808"
      ],
      "text/latex": [
       "8370.23952095808"
      ],
      "text/markdown": [
       "8370.23952095808"
      ],
      "text/plain": [
       "[1] 8370.24"
      ]
     },
     "metadata": {},
     "output_type": "display_data"
    }
   ],
   "source": [
    "mean(NBA$PTS)"
   ]
  },
  {
   "cell_type": "markdown",
   "metadata": {},
   "source": [
    "#### Remove insignifcant variables"
   ]
  },
  {
   "cell_type": "code",
   "execution_count": 13,
   "metadata": {},
   "outputs": [
    {
     "data": {
      "text/plain": [
       "\n",
       "Call:\n",
       "lm(formula = PTS ~ X2PA + X3PA + FTA + AST + ORB + DRB + TOV + \n",
       "    STL + BLK, data = NBA)\n",
       "\n",
       "Residuals:\n",
       "    Min      1Q  Median      3Q     Max \n",
       "-527.40 -119.83    7.83  120.67  564.71 \n",
       "\n",
       "Coefficients:\n",
       "              Estimate Std. Error t value Pr(>|t|)    \n",
       "(Intercept) -2.051e+03  2.035e+02 -10.078   <2e-16 ***\n",
       "X2PA         1.043e+00  2.957e-02  35.274   <2e-16 ***\n",
       "X3PA         1.259e+00  3.843e-02  32.747   <2e-16 ***\n",
       "FTA          1.128e+00  3.373e-02  33.440   <2e-16 ***\n",
       "AST          8.858e-01  4.396e-02  20.150   <2e-16 ***\n",
       "ORB         -9.554e-01  7.792e-02 -12.261   <2e-16 ***\n",
       "DRB          3.883e-02  6.157e-02   0.631   0.5285    \n",
       "TOV         -2.475e-02  6.118e-02  -0.405   0.6859    \n",
       "STL         -1.992e-01  9.181e-02  -2.169   0.0303 *  \n",
       "BLK         -5.576e-02  8.782e-02  -0.635   0.5256    \n",
       "---\n",
       "Signif. codes:  0 '***' 0.001 '**' 0.01 '*' 0.05 '.' 0.1 ' ' 1\n",
       "\n",
       "Residual standard error: 185.5 on 825 degrees of freedom\n",
       "Multiple R-squared:  0.8992,\tAdjusted R-squared:  0.8981 \n",
       "F-statistic: 817.3 on 9 and 825 DF,  p-value: < 2.2e-16\n"
      ]
     },
     "metadata": {},
     "output_type": "display_data"
    }
   ],
   "source": [
    "summary(PointsReg)"
   ]
  },
  {
   "cell_type": "markdown",
   "metadata": {},
   "source": [
    "The first variable we would want to remove is probably **turnovers (TOV)**. And why do I say turnovers? It's because the **p value** for turnovers, which you see here in this column, 0.6859, **is the highest of all of the p values**. So that means that turnovers is the least statistically significant variable in our model."
   ]
  },
  {
   "cell_type": "code",
   "execution_count": 14,
   "metadata": {},
   "outputs": [
    {
     "data": {
      "text/plain": [
       "\n",
       "Call:\n",
       "lm(formula = PTS ~ X2PA + X3PA + FTA + AST + ORB + DRB + STL + \n",
       "    BLK, data = NBA)\n",
       "\n",
       "Residuals:\n",
       "    Min      1Q  Median      3Q     Max \n",
       "-526.79 -121.09    6.37  120.74  565.94 \n",
       "\n",
       "Coefficients:\n",
       "              Estimate Std. Error t value Pr(>|t|)    \n",
       "(Intercept) -2.077e+03  1.931e+02 -10.755   <2e-16 ***\n",
       "X2PA         1.044e+00  2.951e-02  35.366   <2e-16 ***\n",
       "X3PA         1.263e+00  3.703e-02  34.099   <2e-16 ***\n",
       "FTA          1.125e+00  3.308e-02  34.023   <2e-16 ***\n",
       "AST          8.861e-01  4.393e-02  20.173   <2e-16 ***\n",
       "ORB         -9.581e-01  7.758e-02 -12.350   <2e-16 ***\n",
       "DRB          3.892e-02  6.154e-02   0.632   0.5273    \n",
       "STL         -2.068e-01  8.984e-02  -2.301   0.0216 *  \n",
       "BLK         -5.863e-02  8.749e-02  -0.670   0.5029    \n",
       "---\n",
       "Signif. codes:  0 '***' 0.001 '**' 0.01 '*' 0.05 '.' 0.1 ' ' 1\n",
       "\n",
       "Residual standard error: 185.4 on 826 degrees of freedom\n",
       "Multiple R-squared:  0.8991,\tAdjusted R-squared:  0.8982 \n",
       "F-statistic: 920.4 on 8 and 826 DF,  p-value: < 2.2e-16\n"
      ]
     },
     "metadata": {},
     "output_type": "display_data"
    }
   ],
   "source": [
    "PointsReg2 = lm(PTS ~ X2PA + X3PA + FTA + AST + ORB + DRB + STL + BLK, data=NBA)\n",
    "summary(PointsReg2)"
   ]
  },
  {
   "cell_type": "markdown",
   "metadata": {},
   "source": [
    "PointsReg -> Adjusted R-squared: 0.8981\n",
    "\n",
    "PointsReg2 -> Adjusted R-squared: 0.8982 -> **A little bit better!**"
   ]
  },
  {
   "cell_type": "markdown",
   "metadata": {},
   "source": [
    "Now, let's remove **defensive rebounds (DRB)**, based on **p-value**."
   ]
  },
  {
   "cell_type": "code",
   "execution_count": 15,
   "metadata": {},
   "outputs": [
    {
     "data": {
      "text/plain": [
       "\n",
       "Call:\n",
       "lm(formula = PTS ~ X2PA + X3PA + FTA + AST + ORB + STL + BLK, \n",
       "    data = NBA)\n",
       "\n",
       "Residuals:\n",
       "    Min      1Q  Median      3Q     Max \n",
       "-523.79 -121.64    6.07  120.81  573.64 \n",
       "\n",
       "Coefficients:\n",
       "              Estimate Std. Error t value Pr(>|t|)    \n",
       "(Intercept) -2.015e+03  1.670e+02 -12.068  < 2e-16 ***\n",
       "X2PA         1.048e+00  2.852e-02  36.753  < 2e-16 ***\n",
       "X3PA         1.271e+00  3.475e-02  36.568  < 2e-16 ***\n",
       "FTA          1.128e+00  3.270e-02  34.506  < 2e-16 ***\n",
       "AST          8.909e-01  4.326e-02  20.597  < 2e-16 ***\n",
       "ORB         -9.702e-01  7.519e-02 -12.903  < 2e-16 ***\n",
       "STL         -2.276e-01  8.356e-02  -2.724  0.00659 ** \n",
       "BLK         -3.882e-02  8.165e-02  -0.475  0.63462    \n",
       "---\n",
       "Signif. codes:  0 '***' 0.001 '**' 0.01 '*' 0.05 '.' 0.1 ' ' 1\n",
       "\n",
       "Residual standard error: 185.4 on 827 degrees of freedom\n",
       "Multiple R-squared:  0.8991,\tAdjusted R-squared:  0.8982 \n",
       "F-statistic:  1053 on 7 and 827 DF,  p-value: < 2.2e-16\n"
      ]
     },
     "metadata": {},
     "output_type": "display_data"
    }
   ],
   "source": [
    "PointsReg3 = lm(PTS ~ X2PA + X3PA + FTA + AST + ORB + STL + BLK, data=NBA)\n",
    "summary(PointsReg3)"
   ]
  },
  {
   "cell_type": "markdown",
   "metadata": {},
   "source": [
    "PointsReg -> Adjusted R-squared: 0.8981\n",
    "\n",
    "PointsReg2 -> Adjusted R-squared: 0.8982\n",
    "\n",
    "PointsReg3 -> Adjusted R-squared: 0.8982 -> The same!\n",
    "\n",
    "**But a better model, because there is one variable less.**\n",
    "\n",
    "Now, let's remove **blocks (BLK)**, based on **p-value**."
   ]
  },
  {
   "cell_type": "code",
   "execution_count": 16,
   "metadata": {},
   "outputs": [
    {
     "data": {
      "text/plain": [
       "\n",
       "Call:\n",
       "lm(formula = PTS ~ X2PA + X3PA + FTA + AST + ORB + STL, data = NBA)\n",
       "\n",
       "Residuals:\n",
       "    Min      1Q  Median      3Q     Max \n",
       "-523.33 -122.02    6.93  120.68  568.26 \n",
       "\n",
       "Coefficients:\n",
       "              Estimate Std. Error t value Pr(>|t|)    \n",
       "(Intercept) -2.033e+03  1.629e+02 -12.475  < 2e-16 ***\n",
       "X2PA         1.050e+00  2.829e-02  37.117  < 2e-16 ***\n",
       "X3PA         1.273e+00  3.441e-02  37.001  < 2e-16 ***\n",
       "FTA          1.127e+00  3.260e-02  34.581  < 2e-16 ***\n",
       "AST          8.884e-01  4.292e-02  20.701  < 2e-16 ***\n",
       "ORB         -9.743e-01  7.465e-02 -13.051  < 2e-16 ***\n",
       "STL         -2.268e-01  8.350e-02  -2.717  0.00673 ** \n",
       "---\n",
       "Signif. codes:  0 '***' 0.001 '**' 0.01 '*' 0.05 '.' 0.1 ' ' 1\n",
       "\n",
       "Residual standard error: 185.3 on 828 degrees of freedom\n",
       "Multiple R-squared:  0.8991,\tAdjusted R-squared:  0.8983 \n",
       "F-statistic:  1229 on 6 and 828 DF,  p-value: < 2.2e-16\n"
      ]
     },
     "metadata": {},
     "output_type": "display_data"
    }
   ],
   "source": [
    "PointsReg4 = lm(PTS ~ X2PA + X3PA + FTA + AST + ORB + STL, data=NBA)\n",
    "summary(PointsReg4)"
   ]
  },
  {
   "cell_type": "markdown",
   "metadata": {},
   "source": [
    "PointsReg -> Adjusted R-squared: 0.8981\n",
    "\n",
    "PointsReg2 -> Adjusted R-squared: 0.8982\n",
    "\n",
    "PointsReg3 -> Adjusted R-squared: 0.8982\n",
    "\n",
    "PointsReg4 -> Adjusted R-squared: 0.8983 -> A little bit better!\n",
    "\n",
    "But **a better model, with less variables**."
   ]
  },
  {
   "cell_type": "markdown",
   "metadata": {},
   "source": [
    "#### Compute SSE and RMSE for new model"
   ]
  },
  {
   "cell_type": "code",
   "execution_count": 17,
   "metadata": {},
   "outputs": [
    {
     "data": {
      "text/html": [
       "28421464.8626235"
      ],
      "text/latex": [
       "28421464.8626235"
      ],
      "text/markdown": [
       "28421464.8626235"
      ],
      "text/plain": [
       "[1] 28421465"
      ]
     },
     "metadata": {},
     "output_type": "display_data"
    }
   ],
   "source": [
    "SSE_4 = sum(PointsReg4$residuals^2)\n",
    "SSE_4"
   ]
  },
  {
   "cell_type": "code",
   "execution_count": 18,
   "metadata": {},
   "outputs": [
    {
     "data": {
      "text/html": [
       "184.493041793472"
      ],
      "text/latex": [
       "184.493041793472"
      ],
      "text/markdown": [
       "184.493041793472"
      ],
      "text/plain": [
       "[1] 184.493"
      ]
     },
     "metadata": {},
     "output_type": "display_data"
    }
   ],
   "source": [
    "RMSE_4 = sqrt(SSE_4/nrow(NBA))\n",
    "RMSE_4"
   ]
  },
  {
   "cell_type": "markdown",
   "metadata": {},
   "source": [
    "First model: SSE = 28394313.9947566\n",
    "\n",
    "New model: SEE4 = 28421464.8626235\n",
    "\n",
    "\n",
    "First model: RMSE = 184.404898147491\n",
    "\n",
    "New model: RMSE_4 = 184.493041793472"
   ]
  },
  {
   "cell_type": "markdown",
   "metadata": {},
   "source": [
    "**Conclusion**\n",
    "\n",
    "So it seems like we've narrowed down on a much better model because it's simpler, it's more interpretable,and it's got just about the same amount of error."
   ]
  },
  {
   "cell_type": "markdown",
   "metadata": {},
   "source": [
    "## Making Predictions"
   ]
  },
  {
   "cell_type": "code",
   "execution_count": 19,
   "metadata": {},
   "outputs": [
    {
     "data": {
      "text/html": [
       "<table>\n",
       "<caption>A data.frame: 6 × 20</caption>\n",
       "<thead>\n",
       "\t<tr><th></th><th scope=col>SeasonEnd</th><th scope=col>Team</th><th scope=col>Playoffs</th><th scope=col>W</th><th scope=col>PTS</th><th scope=col>oppPTS</th><th scope=col>FG</th><th scope=col>FGA</th><th scope=col>X2P</th><th scope=col>X2PA</th><th scope=col>X3P</th><th scope=col>X3PA</th><th scope=col>FT</th><th scope=col>FTA</th><th scope=col>ORB</th><th scope=col>DRB</th><th scope=col>AST</th><th scope=col>STL</th><th scope=col>BLK</th><th scope=col>TOV</th></tr>\n",
       "\t<tr><th></th><th scope=col>&lt;int&gt;</th><th scope=col>&lt;fct&gt;</th><th scope=col>&lt;int&gt;</th><th scope=col>&lt;int&gt;</th><th scope=col>&lt;int&gt;</th><th scope=col>&lt;int&gt;</th><th scope=col>&lt;int&gt;</th><th scope=col>&lt;int&gt;</th><th scope=col>&lt;int&gt;</th><th scope=col>&lt;int&gt;</th><th scope=col>&lt;int&gt;</th><th scope=col>&lt;int&gt;</th><th scope=col>&lt;int&gt;</th><th scope=col>&lt;int&gt;</th><th scope=col>&lt;int&gt;</th><th scope=col>&lt;int&gt;</th><th scope=col>&lt;int&gt;</th><th scope=col>&lt;int&gt;</th><th scope=col>&lt;int&gt;</th><th scope=col>&lt;int&gt;</th></tr>\n",
       "</thead>\n",
       "<tbody>\n",
       "\t<tr><th scope=row>1</th><td>2013</td><td>Atlanta Hawks      </td><td>1</td><td>44</td><td>8032</td><td>7999</td><td>3084</td><td>6644</td><td>2378</td><td>4743</td><td>706</td><td>1901</td><td>1158</td><td>1619</td><td> 758</td><td>2593</td><td>2007</td><td>664</td><td>369</td><td>1219</td></tr>\n",
       "\t<tr><th scope=row>2</th><td>2013</td><td>Brooklyn Nets      </td><td>1</td><td>49</td><td>7944</td><td>7798</td><td>2942</td><td>6544</td><td>2314</td><td>4784</td><td>628</td><td>1760</td><td>1432</td><td>1958</td><td>1047</td><td>2460</td><td>1668</td><td>599</td><td>391</td><td>1206</td></tr>\n",
       "\t<tr><th scope=row>3</th><td>2013</td><td>Charlotte Bobcats  </td><td>0</td><td>21</td><td>7661</td><td>8418</td><td>2823</td><td>6649</td><td>2354</td><td>5250</td><td>469</td><td>1399</td><td>1546</td><td>2060</td><td> 917</td><td>2389</td><td>1587</td><td>591</td><td>479</td><td>1153</td></tr>\n",
       "\t<tr><th scope=row>4</th><td>2013</td><td>Chicago Bulls      </td><td>1</td><td>45</td><td>7641</td><td>7615</td><td>2926</td><td>6698</td><td>2480</td><td>5433</td><td>446</td><td>1265</td><td>1343</td><td>1738</td><td>1026</td><td>2514</td><td>1886</td><td>588</td><td>417</td><td>1171</td></tr>\n",
       "\t<tr><th scope=row>5</th><td>2013</td><td>Cleveland Cavaliers</td><td>0</td><td>24</td><td>7913</td><td>8297</td><td>2993</td><td>6901</td><td>2446</td><td>5320</td><td>547</td><td>1581</td><td>1380</td><td>1826</td><td>1004</td><td>2359</td><td>1694</td><td>647</td><td>334</td><td>1149</td></tr>\n",
       "\t<tr><th scope=row>6</th><td>2013</td><td>Dallas Mavericks   </td><td>0</td><td>41</td><td>8293</td><td>8342</td><td>3182</td><td>6892</td><td>2576</td><td>5264</td><td>606</td><td>1628</td><td>1323</td><td>1669</td><td> 767</td><td>2670</td><td>1906</td><td>648</td><td>454</td><td>1144</td></tr>\n",
       "</tbody>\n",
       "</table>\n"
      ],
      "text/latex": [
       "A data.frame: 6 × 20\n",
       "\\begin{tabular}{r|llllllllllllllllllll}\n",
       "  & SeasonEnd & Team & Playoffs & W & PTS & oppPTS & FG & FGA & X2P & X2PA & X3P & X3PA & FT & FTA & ORB & DRB & AST & STL & BLK & TOV\\\\\n",
       "  & <int> & <fct> & <int> & <int> & <int> & <int> & <int> & <int> & <int> & <int> & <int> & <int> & <int> & <int> & <int> & <int> & <int> & <int> & <int> & <int>\\\\\n",
       "\\hline\n",
       "\t1 & 2013 & Atlanta Hawks       & 1 & 44 & 8032 & 7999 & 3084 & 6644 & 2378 & 4743 & 706 & 1901 & 1158 & 1619 &  758 & 2593 & 2007 & 664 & 369 & 1219\\\\\n",
       "\t2 & 2013 & Brooklyn Nets       & 1 & 49 & 7944 & 7798 & 2942 & 6544 & 2314 & 4784 & 628 & 1760 & 1432 & 1958 & 1047 & 2460 & 1668 & 599 & 391 & 1206\\\\\n",
       "\t3 & 2013 & Charlotte Bobcats   & 0 & 21 & 7661 & 8418 & 2823 & 6649 & 2354 & 5250 & 469 & 1399 & 1546 & 2060 &  917 & 2389 & 1587 & 591 & 479 & 1153\\\\\n",
       "\t4 & 2013 & Chicago Bulls       & 1 & 45 & 7641 & 7615 & 2926 & 6698 & 2480 & 5433 & 446 & 1265 & 1343 & 1738 & 1026 & 2514 & 1886 & 588 & 417 & 1171\\\\\n",
       "\t5 & 2013 & Cleveland Cavaliers & 0 & 24 & 7913 & 8297 & 2993 & 6901 & 2446 & 5320 & 547 & 1581 & 1380 & 1826 & 1004 & 2359 & 1694 & 647 & 334 & 1149\\\\\n",
       "\t6 & 2013 & Dallas Mavericks    & 0 & 41 & 8293 & 8342 & 3182 & 6892 & 2576 & 5264 & 606 & 1628 & 1323 & 1669 &  767 & 2670 & 1906 & 648 & 454 & 1144\\\\\n",
       "\\end{tabular}\n"
      ],
      "text/markdown": [
       "\n",
       "A data.frame: 6 × 20\n",
       "\n",
       "| <!--/--> | SeasonEnd &lt;int&gt; | Team &lt;fct&gt; | Playoffs &lt;int&gt; | W &lt;int&gt; | PTS &lt;int&gt; | oppPTS &lt;int&gt; | FG &lt;int&gt; | FGA &lt;int&gt; | X2P &lt;int&gt; | X2PA &lt;int&gt; | X3P &lt;int&gt; | X3PA &lt;int&gt; | FT &lt;int&gt; | FTA &lt;int&gt; | ORB &lt;int&gt; | DRB &lt;int&gt; | AST &lt;int&gt; | STL &lt;int&gt; | BLK &lt;int&gt; | TOV &lt;int&gt; |\n",
       "|---|---|---|---|---|---|---|---|---|---|---|---|---|---|---|---|---|---|---|---|---|\n",
       "| 1 | 2013 | Atlanta Hawks       | 1 | 44 | 8032 | 7999 | 3084 | 6644 | 2378 | 4743 | 706 | 1901 | 1158 | 1619 |  758 | 2593 | 2007 | 664 | 369 | 1219 |\n",
       "| 2 | 2013 | Brooklyn Nets       | 1 | 49 | 7944 | 7798 | 2942 | 6544 | 2314 | 4784 | 628 | 1760 | 1432 | 1958 | 1047 | 2460 | 1668 | 599 | 391 | 1206 |\n",
       "| 3 | 2013 | Charlotte Bobcats   | 0 | 21 | 7661 | 8418 | 2823 | 6649 | 2354 | 5250 | 469 | 1399 | 1546 | 2060 |  917 | 2389 | 1587 | 591 | 479 | 1153 |\n",
       "| 4 | 2013 | Chicago Bulls       | 1 | 45 | 7641 | 7615 | 2926 | 6698 | 2480 | 5433 | 446 | 1265 | 1343 | 1738 | 1026 | 2514 | 1886 | 588 | 417 | 1171 |\n",
       "| 5 | 2013 | Cleveland Cavaliers | 0 | 24 | 7913 | 8297 | 2993 | 6901 | 2446 | 5320 | 547 | 1581 | 1380 | 1826 | 1004 | 2359 | 1694 | 647 | 334 | 1149 |\n",
       "| 6 | 2013 | Dallas Mavericks    | 0 | 41 | 8293 | 8342 | 3182 | 6892 | 2576 | 5264 | 606 | 1628 | 1323 | 1669 |  767 | 2670 | 1906 | 648 | 454 | 1144 |\n",
       "\n"
      ],
      "text/plain": [
       "  SeasonEnd Team                Playoffs W  PTS  oppPTS FG   FGA  X2P  X2PA X3P\n",
       "1 2013      Atlanta Hawks       1        44 8032 7999   3084 6644 2378 4743 706\n",
       "2 2013      Brooklyn Nets       1        49 7944 7798   2942 6544 2314 4784 628\n",
       "3 2013      Charlotte Bobcats   0        21 7661 8418   2823 6649 2354 5250 469\n",
       "4 2013      Chicago Bulls       1        45 7641 7615   2926 6698 2480 5433 446\n",
       "5 2013      Cleveland Cavaliers 0        24 7913 8297   2993 6901 2446 5320 547\n",
       "6 2013      Dallas Mavericks    0        41 8293 8342   3182 6892 2576 5264 606\n",
       "  X3PA FT   FTA  ORB  DRB  AST  STL BLK TOV \n",
       "1 1901 1158 1619  758 2593 2007 664 369 1219\n",
       "2 1760 1432 1958 1047 2460 1668 599 391 1206\n",
       "3 1399 1546 2060  917 2389 1587 591 479 1153\n",
       "4 1265 1343 1738 1026 2514 1886 588 417 1171\n",
       "5 1581 1380 1826 1004 2359 1694 647 334 1149\n",
       "6 1628 1323 1669  767 2670 1906 648 454 1144"
      ]
     },
     "metadata": {},
     "output_type": "display_data"
    }
   ],
   "source": [
    "# Read in test set\n",
    "\n",
    "NBA_test = read.csv(\"data/NBA_test.csv\")\n",
    "head(NBA_test)"
   ]
  },
  {
   "cell_type": "markdown",
   "metadata": {},
   "source": [
    "### Make predictions on test set"
   ]
  },
  {
   "cell_type": "code",
   "execution_count": 20,
   "metadata": {},
   "outputs": [],
   "source": [
    "PointsPredictions = predict(PointsReg4, newdata=NBA_test)"
   ]
  },
  {
   "cell_type": "markdown",
   "metadata": {},
   "source": [
    "### Compute out-of-sample R^2"
   ]
  },
  {
   "cell_type": "code",
   "execution_count": 21,
   "metadata": {},
   "outputs": [
    {
     "data": {
      "text/html": [
       "0.812714185277128"
      ],
      "text/latex": [
       "0.812714185277128"
      ],
      "text/markdown": [
       "0.812714185277128"
      ],
      "text/plain": [
       "[1] 0.8127142"
      ]
     },
     "metadata": {},
     "output_type": "display_data"
    }
   ],
   "source": [
    "SSE = sum((PointsPredictions - NBA_test$PTS)^2)\n",
    "SST = sum((mean(NBA$PTS) - NBA_test$PTS)^2)\n",
    "R2 = 1 - SSE/SST\n",
    "R2"
   ]
  },
  {
   "cell_type": "markdown",
   "metadata": {},
   "source": [
    "### Compute the RMSE"
   ]
  },
  {
   "cell_type": "code",
   "execution_count": 22,
   "metadata": {},
   "outputs": [
    {
     "data": {
      "text/html": [
       "196.372343964266"
      ],
      "text/latex": [
       "196.372343964266"
      ],
      "text/markdown": [
       "196.372343964266"
      ],
      "text/plain": [
       "[1] 196.3723"
      ]
     },
     "metadata": {},
     "output_type": "display_data"
    }
   ],
   "source": [
    "RMSE = sqrt(SSE/nrow(NBA_test))\n",
    "RMSE"
   ]
  }
 ],
 "metadata": {
  "kernelspec": {
   "display_name": "R",
   "language": "R",
   "name": "ir"
  },
  "language_info": {
   "codemirror_mode": "r",
   "file_extension": ".r",
   "mimetype": "text/x-r-source",
   "name": "R",
   "pygments_lexer": "r",
   "version": "3.6.3"
  }
 },
 "nbformat": 4,
 "nbformat_minor": 4
}
