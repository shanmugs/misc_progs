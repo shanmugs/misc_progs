{
 "cells": [
  {
   "cell_type": "markdown",
   "metadata": {},
   "source": [
    "# Election Forecasting: Predicting the Winner Before any Votes are Cast"
   ]
  },
  {
   "cell_type": "markdown",
   "metadata": {},
   "source": [
    "<img src=\"images/donkey-and-elephant.jpg\"/>"
   ]
  },
  {
   "cell_type": "markdown",
   "metadata": {},
   "source": [
    "### Election Prediction\n",
    "\n",
    "    Goal: Use polling data to predict state winners\n",
    "    \n",
    "### The Dataset\n",
    "\n",
    "Data from RealClearPolitics.com\n",
    "\n",
    "Instances represent a state in a given election\n",
    "\n",
    "    State: Name of state\n",
    "\n",
    "    Year: Election year (2004, 2008, 20012)\n",
    "\n",
    "Dependent variable\n",
    "\n",
    "    Republican: 1 if Republican won state, 0 if Democrat won\n",
    "\n",
    "Independent variables\n",
    "\n",
    "    Rasmussen, SurveyUSA: Polled R% - Polled D%\n",
    "\n",
    "    DiffCount: Polls with R winner - Polls with D winner\n",
    "\n",
    "    PrepR: Polls with R winner / # polls\n",
    "\n",
    "### Simple Approaches to Missing Data\n",
    "\n",
    "    Delete the missing observations\n",
    "\n",
    "        We would be throwing away more than 50% of the data\n",
    "\n",
    "        We want to predict for all states\n",
    "\n",
    "    Delete variables with missing values\n",
    "\n",
    "        We want to retain data from Rasmussen/SurveyUSA\n",
    "\n",
    "    Fill missing data points with average values\n",
    "\n",
    "        The average value for a poll will be close to 0 (tie between Democrat and Republican)\n",
    "\n",
    "        If other polls in a state favor one candidate, the missing one probably would have, too\n",
    "\n",
    "### Multiple Imputation\n",
    "\n",
    "    Fill in missing values based on non-missing values\n",
    "\n",
    "        If Rasmussen is very negative, then a missing SurveyUSA value will likely be negative\n",
    "\n",
    "        Just like sample.split results will differ between runs unless you fix the random seed\n",
    "\n",
    "    Although the method is complicated, we can use it easily through R’s libraries\n",
    "\n",
    "    We will use Multiple Imputation by Chained Equations (mice) package"
   ]
  },
  {
   "cell_type": "markdown",
   "metadata": {},
   "source": [
    "### Read in Dataset"
   ]
  },
  {
   "cell_type": "code",
   "execution_count": 1,
   "metadata": {},
   "outputs": [
    {
     "data": {
      "text/html": [
       "<table>\n",
       "<caption>A data.frame: 6 × 7</caption>\n",
       "<thead>\n",
       "\t<tr><th></th><th scope=col>State</th><th scope=col>Year</th><th scope=col>Rasmussen</th><th scope=col>SurveyUSA</th><th scope=col>DiffCount</th><th scope=col>PropR</th><th scope=col>Republican</th></tr>\n",
       "\t<tr><th></th><th scope=col>&lt;fct&gt;</th><th scope=col>&lt;int&gt;</th><th scope=col>&lt;int&gt;</th><th scope=col>&lt;int&gt;</th><th scope=col>&lt;int&gt;</th><th scope=col>&lt;dbl&gt;</th><th scope=col>&lt;int&gt;</th></tr>\n",
       "</thead>\n",
       "<tbody>\n",
       "\t<tr><th scope=row>1</th><td>Alabama</td><td>2004</td><td>11</td><td>18</td><td>5</td><td>1</td><td>1</td></tr>\n",
       "\t<tr><th scope=row>2</th><td>Alabama</td><td>2008</td><td>21</td><td>25</td><td>5</td><td>1</td><td>1</td></tr>\n",
       "\t<tr><th scope=row>3</th><td>Alaska </td><td>2004</td><td>NA</td><td>NA</td><td>1</td><td>1</td><td>1</td></tr>\n",
       "\t<tr><th scope=row>4</th><td>Alaska </td><td>2008</td><td>16</td><td>NA</td><td>6</td><td>1</td><td>1</td></tr>\n",
       "\t<tr><th scope=row>5</th><td>Arizona</td><td>2004</td><td> 5</td><td>15</td><td>8</td><td>1</td><td>1</td></tr>\n",
       "\t<tr><th scope=row>6</th><td>Arizona</td><td>2008</td><td> 5</td><td>NA</td><td>9</td><td>1</td><td>1</td></tr>\n",
       "</tbody>\n",
       "</table>\n"
      ],
      "text/latex": [
       "A data.frame: 6 × 7\n",
       "\\begin{tabular}{r|lllllll}\n",
       "  & State & Year & Rasmussen & SurveyUSA & DiffCount & PropR & Republican\\\\\n",
       "  & <fct> & <int> & <int> & <int> & <int> & <dbl> & <int>\\\\\n",
       "\\hline\n",
       "\t1 & Alabama & 2004 & 11 & 18 & 5 & 1 & 1\\\\\n",
       "\t2 & Alabama & 2008 & 21 & 25 & 5 & 1 & 1\\\\\n",
       "\t3 & Alaska  & 2004 & NA & NA & 1 & 1 & 1\\\\\n",
       "\t4 & Alaska  & 2008 & 16 & NA & 6 & 1 & 1\\\\\n",
       "\t5 & Arizona & 2004 &  5 & 15 & 8 & 1 & 1\\\\\n",
       "\t6 & Arizona & 2008 &  5 & NA & 9 & 1 & 1\\\\\n",
       "\\end{tabular}\n"
      ],
      "text/markdown": [
       "\n",
       "A data.frame: 6 × 7\n",
       "\n",
       "| <!--/--> | State &lt;fct&gt; | Year &lt;int&gt; | Rasmussen &lt;int&gt; | SurveyUSA &lt;int&gt; | DiffCount &lt;int&gt; | PropR &lt;dbl&gt; | Republican &lt;int&gt; |\n",
       "|---|---|---|---|---|---|---|---|\n",
       "| 1 | Alabama | 2004 | 11 | 18 | 5 | 1 | 1 |\n",
       "| 2 | Alabama | 2008 | 21 | 25 | 5 | 1 | 1 |\n",
       "| 3 | Alaska  | 2004 | NA | NA | 1 | 1 | 1 |\n",
       "| 4 | Alaska  | 2008 | 16 | NA | 6 | 1 | 1 |\n",
       "| 5 | Arizona | 2004 |  5 | 15 | 8 | 1 | 1 |\n",
       "| 6 | Arizona | 2008 |  5 | NA | 9 | 1 | 1 |\n",
       "\n"
      ],
      "text/plain": [
       "  State   Year Rasmussen SurveyUSA DiffCount PropR Republican\n",
       "1 Alabama 2004 11        18        5         1     1         \n",
       "2 Alabama 2008 21        25        5         1     1         \n",
       "3 Alaska  2004 NA        NA        1         1     1         \n",
       "4 Alaska  2008 16        NA        6         1     1         \n",
       "5 Arizona 2004  5        15        8         1     1         \n",
       "6 Arizona 2008  5        NA        9         1     1         "
      ]
     },
     "metadata": {},
     "output_type": "display_data"
    }
   ],
   "source": [
    "polling = read.csv(\"data/PollingData.csv\")\n",
    "head(polling)"
   ]
  },
  {
   "cell_type": "code",
   "execution_count": 2,
   "metadata": {},
   "outputs": [
    {
     "name": "stdout",
     "output_type": "stream",
     "text": [
      "'data.frame':\t145 obs. of  7 variables:\n",
      " $ State     : Factor w/ 50 levels \"Alabama\",\"Alaska\",..: 1 1 2 2 3 3 3 4 4 4 ...\n",
      " $ Year      : int  2004 2008 2004 2008 2004 2008 2012 2004 2008 2012 ...\n",
      " $ Rasmussen : int  11 21 NA 16 5 5 8 7 10 NA ...\n",
      " $ SurveyUSA : int  18 25 NA NA 15 NA NA 5 NA NA ...\n",
      " $ DiffCount : int  5 5 1 6 8 9 4 8 5 2 ...\n",
      " $ PropR     : num  1 1 1 1 1 ...\n",
      " $ Republican: int  1 1 1 1 1 1 1 1 1 1 ...\n"
     ]
    }
   ],
   "source": [
    "str(polling)"
   ]
  },
  {
   "cell_type": "code",
   "execution_count": 3,
   "metadata": {},
   "outputs": [
    {
     "data": {
      "text/plain": [
       "         State          Year        Rasmussen          SurveyUSA       \n",
       " Arizona    :  3   Min.   :2004   Min.   :-41.0000   Min.   :-33.0000  \n",
       " Arkansas   :  3   1st Qu.:2004   1st Qu.: -8.0000   1st Qu.:-11.7500  \n",
       " California :  3   Median :2008   Median :  1.0000   Median : -2.0000  \n",
       " Colorado   :  3   Mean   :2008   Mean   :  0.0404   Mean   : -0.8243  \n",
       " Connecticut:  3   3rd Qu.:2012   3rd Qu.:  8.5000   3rd Qu.:  8.0000  \n",
       " Florida    :  3   Max.   :2012   Max.   : 39.0000   Max.   : 30.0000  \n",
       " (Other)    :127                  NA's   :46         NA's   :71        \n",
       "   DiffCount           PropR          Republican    \n",
       " Min.   :-19.000   Min.   :0.0000   Min.   :0.0000  \n",
       " 1st Qu.: -6.000   1st Qu.:0.0000   1st Qu.:0.0000  \n",
       " Median :  1.000   Median :0.6250   Median :1.0000  \n",
       " Mean   : -1.269   Mean   :0.5259   Mean   :0.5103  \n",
       " 3rd Qu.:  4.000   3rd Qu.:1.0000   3rd Qu.:1.0000  \n",
       " Max.   : 11.000   Max.   :1.0000   Max.   :1.0000  \n",
       "                                                    "
      ]
     },
     "metadata": {},
     "output_type": "display_data"
    }
   ],
   "source": [
    "summary(polling)"
   ]
  },
  {
   "cell_type": "code",
   "execution_count": 4,
   "metadata": {},
   "outputs": [
    {
     "data": {
      "text/plain": [
       "\n",
       "2004 2008 2012 \n",
       "  50   50   45 "
      ]
     },
     "metadata": {},
     "output_type": "display_data"
    }
   ],
   "source": [
    "table(polling$Year)"
   ]
  },
  {
   "cell_type": "markdown",
   "metadata": {},
   "source": [
    "A approach would be to fill the missing data points with average values. So for Rasmussen and SurveyUSA, the average value for a poll would be very close to zero across all the times with it reported, which is roughly a tie between the Democrat and Republican candidate.\n",
    "\n",
    "However, if PropR is very close to one or zero, we would expect the Rasmussen or SurveyUSA values that are currently missing\n",
    "to be positive or negative, respectively. This leads to a more complicated approach called multiple imputation in which we fill in the missing values based on the non-missing values for an observation."
   ]
  },
  {
   "cell_type": "markdown",
   "metadata": {},
   "source": [
    "### Install and load mice package"
   ]
  },
  {
   "cell_type": "code",
   "execution_count": 5,
   "metadata": {},
   "outputs": [
    {
     "name": "stderr",
     "output_type": "stream",
     "text": [
      "\n",
      "Attaching package: 'mice'\n",
      "\n",
      "\n",
      "The following objects are masked from 'package:base':\n",
      "\n",
      "    cbind, rbind\n",
      "\n",
      "\n"
     ]
    }
   ],
   "source": [
    "# install.packages(\"mice\")\n",
    "library(mice)"
   ]
  },
  {
   "cell_type": "markdown",
   "metadata": {},
   "source": [
    "### Multiple imputation"
   ]
  },
  {
   "cell_type": "code",
   "execution_count": 6,
   "metadata": {},
   "outputs": [
    {
     "data": {
      "text/html": [
       "<table>\n",
       "<caption>A data.frame: 6 × 4</caption>\n",
       "<thead>\n",
       "\t<tr><th></th><th scope=col>Rasmussen</th><th scope=col>SurveyUSA</th><th scope=col>PropR</th><th scope=col>DiffCount</th></tr>\n",
       "\t<tr><th></th><th scope=col>&lt;int&gt;</th><th scope=col>&lt;int&gt;</th><th scope=col>&lt;dbl&gt;</th><th scope=col>&lt;int&gt;</th></tr>\n",
       "</thead>\n",
       "<tbody>\n",
       "\t<tr><th scope=row>1</th><td>11</td><td>18</td><td>1</td><td>5</td></tr>\n",
       "\t<tr><th scope=row>2</th><td>21</td><td>25</td><td>1</td><td>5</td></tr>\n",
       "\t<tr><th scope=row>3</th><td>NA</td><td>NA</td><td>1</td><td>1</td></tr>\n",
       "\t<tr><th scope=row>4</th><td>16</td><td>NA</td><td>1</td><td>6</td></tr>\n",
       "\t<tr><th scope=row>5</th><td> 5</td><td>15</td><td>1</td><td>8</td></tr>\n",
       "\t<tr><th scope=row>6</th><td> 5</td><td>NA</td><td>1</td><td>9</td></tr>\n",
       "</tbody>\n",
       "</table>\n"
      ],
      "text/latex": [
       "A data.frame: 6 × 4\n",
       "\\begin{tabular}{r|llll}\n",
       "  & Rasmussen & SurveyUSA & PropR & DiffCount\\\\\n",
       "  & <int> & <int> & <dbl> & <int>\\\\\n",
       "\\hline\n",
       "\t1 & 11 & 18 & 1 & 5\\\\\n",
       "\t2 & 21 & 25 & 1 & 5\\\\\n",
       "\t3 & NA & NA & 1 & 1\\\\\n",
       "\t4 & 16 & NA & 1 & 6\\\\\n",
       "\t5 &  5 & 15 & 1 & 8\\\\\n",
       "\t6 &  5 & NA & 1 & 9\\\\\n",
       "\\end{tabular}\n"
      ],
      "text/markdown": [
       "\n",
       "A data.frame: 6 × 4\n",
       "\n",
       "| <!--/--> | Rasmussen &lt;int&gt; | SurveyUSA &lt;int&gt; | PropR &lt;dbl&gt; | DiffCount &lt;int&gt; |\n",
       "|---|---|---|---|---|\n",
       "| 1 | 11 | 18 | 1 | 5 |\n",
       "| 2 | 21 | 25 | 1 | 5 |\n",
       "| 3 | NA | NA | 1 | 1 |\n",
       "| 4 | 16 | NA | 1 | 6 |\n",
       "| 5 |  5 | 15 | 1 | 8 |\n",
       "| 6 |  5 | NA | 1 | 9 |\n",
       "\n"
      ],
      "text/plain": [
       "  Rasmussen SurveyUSA PropR DiffCount\n",
       "1 11        18        1     5        \n",
       "2 21        25        1     5        \n",
       "3 NA        NA        1     1        \n",
       "4 16        NA        1     6        \n",
       "5  5        15        1     8        \n",
       "6  5        NA        1     9        "
      ]
     },
     "metadata": {},
     "output_type": "display_data"
    }
   ],
   "source": [
    "simple = polling[c(\"Rasmussen\", \"SurveyUSA\", \"PropR\", \"DiffCount\")]\n",
    "head(simple)"
   ]
  },
  {
   "cell_type": "code",
   "execution_count": 7,
   "metadata": {},
   "outputs": [
    {
     "data": {
      "text/plain": [
       "   Rasmussen          SurveyUSA            PropR          DiffCount      \n",
       " Min.   :-41.0000   Min.   :-33.0000   Min.   :0.0000   Min.   :-19.000  \n",
       " 1st Qu.: -8.0000   1st Qu.:-11.7500   1st Qu.:0.0000   1st Qu.: -6.000  \n",
       " Median :  1.0000   Median : -2.0000   Median :0.6250   Median :  1.000  \n",
       " Mean   :  0.0404   Mean   : -0.8243   Mean   :0.5259   Mean   : -1.269  \n",
       " 3rd Qu.:  8.5000   3rd Qu.:  8.0000   3rd Qu.:1.0000   3rd Qu.:  4.000  \n",
       " Max.   : 39.0000   Max.   : 30.0000   Max.   :1.0000   Max.   : 11.000  \n",
       " NA's   :46         NA's   :71                                           "
      ]
     },
     "metadata": {},
     "output_type": "display_data"
    }
   ],
   "source": [
    "summary(simple)"
   ]
  },
  {
   "cell_type": "code",
   "execution_count": 8,
   "metadata": {},
   "outputs": [
    {
     "name": "stdout",
     "output_type": "stream",
     "text": [
      "\n",
      " iter imp variable\n",
      "  1   1  Rasmussen  SurveyUSA\n",
      "  1   2  Rasmussen  SurveyUSA\n",
      "  1   3  Rasmussen  SurveyUSA\n",
      "  1   4  Rasmussen  SurveyUSA\n",
      "  1   5  Rasmussen  SurveyUSA\n",
      "  2   1  Rasmussen  SurveyUSA\n",
      "  2   2  Rasmussen  SurveyUSA\n",
      "  2   3  Rasmussen  SurveyUSA\n",
      "  2   4  Rasmussen  SurveyUSA\n",
      "  2   5  Rasmussen  SurveyUSA\n",
      "  3   1  Rasmussen  SurveyUSA\n",
      "  3   2  Rasmussen  SurveyUSA\n",
      "  3   3  Rasmussen  SurveyUSA\n",
      "  3   4  Rasmussen  SurveyUSA\n",
      "  3   5  Rasmussen  SurveyUSA\n",
      "  4   1  Rasmussen  SurveyUSA\n",
      "  4   2  Rasmussen  SurveyUSA\n",
      "  4   3  Rasmussen  SurveyUSA\n",
      "  4   4  Rasmussen  SurveyUSA\n",
      "  4   5  Rasmussen  SurveyUSA\n",
      "  5   1  Rasmussen  SurveyUSA\n",
      "  5   2  Rasmussen  SurveyUSA\n",
      "  5   3  Rasmussen  SurveyUSA\n",
      "  5   4  Rasmussen  SurveyUSA\n",
      "  5   5  Rasmussen  SurveyUSA\n"
     ]
    },
    {
     "data": {
      "text/plain": [
       "   Rasmussen         SurveyUSA           PropR          DiffCount      \n",
       " Min.   :-41.000   Min.   :-33.000   Min.   :0.0000   Min.   :-19.000  \n",
       " 1st Qu.: -8.000   1st Qu.:-11.000   1st Qu.:0.0000   1st Qu.: -6.000  \n",
       " Median :  3.000   Median :  1.000   Median :0.6250   Median :  1.000  \n",
       " Mean   :  2.786   Mean   :  2.014   Mean   :0.5259   Mean   : -1.269  \n",
       " 3rd Qu.: 13.000   3rd Qu.: 18.000   3rd Qu.:1.0000   3rd Qu.:  4.000  \n",
       " Max.   : 39.000   Max.   : 30.000   Max.   :1.0000   Max.   : 11.000  "
      ]
     },
     "metadata": {},
     "output_type": "display_data"
    }
   ],
   "source": [
    "set.seed(144)\n",
    "\n",
    "imputed = complete(mice(simple))\n",
    "summary(imputed)"
   ]
  },
  {
   "cell_type": "markdown",
   "metadata": {},
   "source": [
    "So the output here shows us that five rounds of imputation have been run, and now all of the variables have been filled in.\n",
    "\n",
    "So there's no more missing values."
   ]
  },
  {
   "cell_type": "markdown",
   "metadata": {},
   "source": [
    "The last step in this imputation process is to actually copy the Rasmussen and SurveyUSA variables back into our original polling data frame, which has all the variables for the problem."
   ]
  },
  {
   "cell_type": "code",
   "execution_count": 9,
   "metadata": {},
   "outputs": [
    {
     "data": {
      "text/plain": [
       "         State          Year        Rasmussen         SurveyUSA      \n",
       " Arizona    :  3   Min.   :2004   Min.   :-41.000   Min.   :-33.000  \n",
       " Arkansas   :  3   1st Qu.:2004   1st Qu.: -8.000   1st Qu.:-11.000  \n",
       " California :  3   Median :2008   Median :  3.000   Median :  1.000  \n",
       " Colorado   :  3   Mean   :2008   Mean   :  2.786   Mean   :  2.014  \n",
       " Connecticut:  3   3rd Qu.:2012   3rd Qu.: 13.000   3rd Qu.: 18.000  \n",
       " Florida    :  3   Max.   :2012   Max.   : 39.000   Max.   : 30.000  \n",
       " (Other)    :127                                                     \n",
       "   DiffCount           PropR          Republican    \n",
       " Min.   :-19.000   Min.   :0.0000   Min.   :0.0000  \n",
       " 1st Qu.: -6.000   1st Qu.:0.0000   1st Qu.:0.0000  \n",
       " Median :  1.000   Median :0.6250   Median :1.0000  \n",
       " Mean   : -1.269   Mean   :0.5259   Mean   :0.5103  \n",
       " 3rd Qu.:  4.000   3rd Qu.:1.0000   3rd Qu.:1.0000  \n",
       " Max.   : 11.000   Max.   :1.0000   Max.   :1.0000  \n",
       "                                                    "
      ]
     },
     "metadata": {},
     "output_type": "display_data"
    }
   ],
   "source": [
    "polling$Rasmussen = imputed$Rasmussen\n",
    "polling$SurveyUSA = imputed$SurveyUSA\n",
    "summary(polling)"
   ]
  },
  {
   "cell_type": "markdown",
   "metadata": {},
   "source": [
    "### Split the set"
   ]
  },
  {
   "cell_type": "code",
   "execution_count": 10,
   "metadata": {},
   "outputs": [],
   "source": [
    "# Subset data into training set and test set\n",
    "Train = subset(polling, Year == 2004 | Year == 2008)\n",
    "Test = subset(polling, Year == 2012)"
   ]
  },
  {
   "cell_type": "code",
   "execution_count": 11,
   "metadata": {},
   "outputs": [
    {
     "data": {
      "text/html": [
       "<table>\n",
       "<caption>A data.frame: 6 × 7</caption>\n",
       "<thead>\n",
       "\t<tr><th></th><th scope=col>State</th><th scope=col>Year</th><th scope=col>Rasmussen</th><th scope=col>SurveyUSA</th><th scope=col>DiffCount</th><th scope=col>PropR</th><th scope=col>Republican</th></tr>\n",
       "\t<tr><th></th><th scope=col>&lt;fct&gt;</th><th scope=col>&lt;int&gt;</th><th scope=col>&lt;int&gt;</th><th scope=col>&lt;int&gt;</th><th scope=col>&lt;int&gt;</th><th scope=col>&lt;dbl&gt;</th><th scope=col>&lt;int&gt;</th></tr>\n",
       "</thead>\n",
       "<tbody>\n",
       "\t<tr><th scope=row>1</th><td>Alabama</td><td>2004</td><td>11</td><td>18</td><td>5</td><td>1</td><td>1</td></tr>\n",
       "\t<tr><th scope=row>2</th><td>Alabama</td><td>2008</td><td>21</td><td>25</td><td>5</td><td>1</td><td>1</td></tr>\n",
       "\t<tr><th scope=row>3</th><td>Alaska </td><td>2004</td><td>39</td><td>24</td><td>1</td><td>1</td><td>1</td></tr>\n",
       "\t<tr><th scope=row>4</th><td>Alaska </td><td>2008</td><td>16</td><td>19</td><td>6</td><td>1</td><td>1</td></tr>\n",
       "\t<tr><th scope=row>5</th><td>Arizona</td><td>2004</td><td> 5</td><td>15</td><td>8</td><td>1</td><td>1</td></tr>\n",
       "\t<tr><th scope=row>6</th><td>Arizona</td><td>2008</td><td> 5</td><td> 3</td><td>9</td><td>1</td><td>1</td></tr>\n",
       "</tbody>\n",
       "</table>\n"
      ],
      "text/latex": [
       "A data.frame: 6 × 7\n",
       "\\begin{tabular}{r|lllllll}\n",
       "  & State & Year & Rasmussen & SurveyUSA & DiffCount & PropR & Republican\\\\\n",
       "  & <fct> & <int> & <int> & <int> & <int> & <dbl> & <int>\\\\\n",
       "\\hline\n",
       "\t1 & Alabama & 2004 & 11 & 18 & 5 & 1 & 1\\\\\n",
       "\t2 & Alabama & 2008 & 21 & 25 & 5 & 1 & 1\\\\\n",
       "\t3 & Alaska  & 2004 & 39 & 24 & 1 & 1 & 1\\\\\n",
       "\t4 & Alaska  & 2008 & 16 & 19 & 6 & 1 & 1\\\\\n",
       "\t5 & Arizona & 2004 &  5 & 15 & 8 & 1 & 1\\\\\n",
       "\t6 & Arizona & 2008 &  5 &  3 & 9 & 1 & 1\\\\\n",
       "\\end{tabular}\n"
      ],
      "text/markdown": [
       "\n",
       "A data.frame: 6 × 7\n",
       "\n",
       "| <!--/--> | State &lt;fct&gt; | Year &lt;int&gt; | Rasmussen &lt;int&gt; | SurveyUSA &lt;int&gt; | DiffCount &lt;int&gt; | PropR &lt;dbl&gt; | Republican &lt;int&gt; |\n",
       "|---|---|---|---|---|---|---|---|\n",
       "| 1 | Alabama | 2004 | 11 | 18 | 5 | 1 | 1 |\n",
       "| 2 | Alabama | 2008 | 21 | 25 | 5 | 1 | 1 |\n",
       "| 3 | Alaska  | 2004 | 39 | 24 | 1 | 1 | 1 |\n",
       "| 4 | Alaska  | 2008 | 16 | 19 | 6 | 1 | 1 |\n",
       "| 5 | Arizona | 2004 |  5 | 15 | 8 | 1 | 1 |\n",
       "| 6 | Arizona | 2008 |  5 |  3 | 9 | 1 | 1 |\n",
       "\n"
      ],
      "text/plain": [
       "  State   Year Rasmussen SurveyUSA DiffCount PropR Republican\n",
       "1 Alabama 2004 11        18        5         1     1         \n",
       "2 Alabama 2008 21        25        5         1     1         \n",
       "3 Alaska  2004 39        24        1         1     1         \n",
       "4 Alaska  2008 16        19        6         1     1         \n",
       "5 Arizona 2004  5        15        8         1     1         \n",
       "6 Arizona 2008  5         3        9         1     1         "
      ]
     },
     "metadata": {},
     "output_type": "display_data"
    }
   ],
   "source": [
    "head(Train)"
   ]
  },
  {
   "cell_type": "code",
   "execution_count": 12,
   "metadata": {},
   "outputs": [
    {
     "data": {
      "text/html": [
       "<table>\n",
       "<caption>A data.frame: 6 × 7</caption>\n",
       "<thead>\n",
       "\t<tr><th></th><th scope=col>State</th><th scope=col>Year</th><th scope=col>Rasmussen</th><th scope=col>SurveyUSA</th><th scope=col>DiffCount</th><th scope=col>PropR</th><th scope=col>Republican</th></tr>\n",
       "\t<tr><th></th><th scope=col>&lt;fct&gt;</th><th scope=col>&lt;int&gt;</th><th scope=col>&lt;int&gt;</th><th scope=col>&lt;int&gt;</th><th scope=col>&lt;int&gt;</th><th scope=col>&lt;dbl&gt;</th><th scope=col>&lt;int&gt;</th></tr>\n",
       "</thead>\n",
       "<tbody>\n",
       "\t<tr><th scope=row>7</th><td>Arizona    </td><td>2012</td><td> 8</td><td> 15</td><td> 4</td><td>0.8333333</td><td>1</td></tr>\n",
       "\t<tr><th scope=row>10</th><td>Arkansas   </td><td>2012</td><td>16</td><td> 21</td><td> 2</td><td>1.0000000</td><td>1</td></tr>\n",
       "\t<tr><th scope=row>13</th><td>California </td><td>2012</td><td>-8</td><td>-14</td><td>-6</td><td>0.0000000</td><td>0</td></tr>\n",
       "\t<tr><th scope=row>16</th><td>Colorado   </td><td>2012</td><td> 3</td><td> -2</td><td>-5</td><td>0.3076923</td><td>0</td></tr>\n",
       "\t<tr><th scope=row>19</th><td>Connecticut</td><td>2012</td><td>-7</td><td>-13</td><td>-8</td><td>0.0000000</td><td>0</td></tr>\n",
       "\t<tr><th scope=row>24</th><td>Florida    </td><td>2012</td><td> 2</td><td>  0</td><td> 6</td><td>0.6666667</td><td>0</td></tr>\n",
       "</tbody>\n",
       "</table>\n"
      ],
      "text/latex": [
       "A data.frame: 6 × 7\n",
       "\\begin{tabular}{r|lllllll}\n",
       "  & State & Year & Rasmussen & SurveyUSA & DiffCount & PropR & Republican\\\\\n",
       "  & <fct> & <int> & <int> & <int> & <int> & <dbl> & <int>\\\\\n",
       "\\hline\n",
       "\t7 & Arizona     & 2012 &  8 &  15 &  4 & 0.8333333 & 1\\\\\n",
       "\t10 & Arkansas    & 2012 & 16 &  21 &  2 & 1.0000000 & 1\\\\\n",
       "\t13 & California  & 2012 & -8 & -14 & -6 & 0.0000000 & 0\\\\\n",
       "\t16 & Colorado    & 2012 &  3 &  -2 & -5 & 0.3076923 & 0\\\\\n",
       "\t19 & Connecticut & 2012 & -7 & -13 & -8 & 0.0000000 & 0\\\\\n",
       "\t24 & Florida     & 2012 &  2 &   0 &  6 & 0.6666667 & 0\\\\\n",
       "\\end{tabular}\n"
      ],
      "text/markdown": [
       "\n",
       "A data.frame: 6 × 7\n",
       "\n",
       "| <!--/--> | State &lt;fct&gt; | Year &lt;int&gt; | Rasmussen &lt;int&gt; | SurveyUSA &lt;int&gt; | DiffCount &lt;int&gt; | PropR &lt;dbl&gt; | Republican &lt;int&gt; |\n",
       "|---|---|---|---|---|---|---|---|\n",
       "| 7 | Arizona     | 2012 |  8 |  15 |  4 | 0.8333333 | 1 |\n",
       "| 10 | Arkansas    | 2012 | 16 |  21 |  2 | 1.0000000 | 1 |\n",
       "| 13 | California  | 2012 | -8 | -14 | -6 | 0.0000000 | 0 |\n",
       "| 16 | Colorado    | 2012 |  3 |  -2 | -5 | 0.3076923 | 0 |\n",
       "| 19 | Connecticut | 2012 | -7 | -13 | -8 | 0.0000000 | 0 |\n",
       "| 24 | Florida     | 2012 |  2 |   0 |  6 | 0.6666667 | 0 |\n",
       "\n"
      ],
      "text/plain": [
       "   State       Year Rasmussen SurveyUSA DiffCount PropR     Republican\n",
       "7  Arizona     2012  8         15        4        0.8333333 1         \n",
       "10 Arkansas    2012 16         21        2        1.0000000 1         \n",
       "13 California  2012 -8        -14       -6        0.0000000 0         \n",
       "16 Colorado    2012  3         -2       -5        0.3076923 0         \n",
       "19 Connecticut 2012 -7        -13       -8        0.0000000 0         \n",
       "24 Florida     2012  2          0        6        0.6666667 0         "
      ]
     },
     "metadata": {},
     "output_type": "display_data"
    }
   ],
   "source": [
    "head(Test)"
   ]
  },
  {
   "cell_type": "markdown",
   "metadata": {},
   "source": [
    "### Simple Baseline"
   ]
  },
  {
   "cell_type": "code",
   "execution_count": 13,
   "metadata": {},
   "outputs": [
    {
     "data": {
      "text/plain": [
       "\n",
       " 0  1 \n",
       "47 53 "
      ]
     },
     "metadata": {},
     "output_type": "display_data"
    }
   ],
   "source": [
    "table(Train$Republican)"
   ]
  },
  {
   "cell_type": "markdown",
   "metadata": {},
   "source": [
    "What we can see here is that in 47 of the 100 training observations, the Democrat won the state, and in 53 of the observations, the Republican won the state. \n",
    "\n",
    "Our simple baseline model is always going to predict the more common outcome, which is that the Republican is going to win the state. The simple baseline model will have accuracy of 53% on the training set."
   ]
  },
  {
   "cell_type": "markdown",
   "metadata": {},
   "source": [
    "### Smart Baseline"
   ]
  },
  {
   "cell_type": "markdown",
   "metadata": {},
   "source": [
    "So to compute a smart baseline, we're going to use a new function called the sign function. This function does is, if it's\n",
    "passed a positive number, it returns the value 1. If it's passed a negative number, it returns negative 1. And if it's passed 0, it returns 0.\n",
    "\n",
    "So if we passed the Rasmussen variable into sign, whenever the Republican was winning the state, meaning Rasmussen is positive, it's going to return a 1."
   ]
  },
  {
   "cell_type": "code",
   "execution_count": 14,
   "metadata": {},
   "outputs": [
    {
     "data": {
      "text/html": [
       "1"
      ],
      "text/latex": [
       "1"
      ],
      "text/markdown": [
       "1"
      ],
      "text/plain": [
       "[1] 1"
      ]
     },
     "metadata": {},
     "output_type": "display_data"
    }
   ],
   "source": [
    "sign(20)"
   ]
  },
  {
   "cell_type": "code",
   "execution_count": 15,
   "metadata": {},
   "outputs": [
    {
     "data": {
      "text/html": [
       "-1"
      ],
      "text/latex": [
       "-1"
      ],
      "text/markdown": [
       "-1"
      ],
      "text/plain": [
       "[1] -1"
      ]
     },
     "metadata": {},
     "output_type": "display_data"
    }
   ],
   "source": [
    "sign(-10)"
   ]
  },
  {
   "cell_type": "code",
   "execution_count": 16,
   "metadata": {},
   "outputs": [
    {
     "data": {
      "text/html": [
       "0"
      ],
      "text/latex": [
       "0"
      ],
      "text/markdown": [
       "0"
      ],
      "text/plain": [
       "[1] 0"
      ]
     },
     "metadata": {},
     "output_type": "display_data"
    }
   ],
   "source": [
    "sign(0)"
   ]
  },
  {
   "cell_type": "markdown",
   "metadata": {},
   "source": [
    "So 1 signifies that the Republican is predicted to win, -1 means this smart baseline is predicting that the Democrat won the state. If we took the sign of 0, meaning that the Rasmussen poll had a tie, saying that the model is inconclusive about who's going to win the state.\n",
    "\n",
    "So now, we're ready to actually compute this prediction for all of our training set."
   ]
  },
  {
   "cell_type": "code",
   "execution_count": 17,
   "metadata": {},
   "outputs": [
    {
     "data": {
      "text/plain": [
       "\n",
       "-1  0  1 \n",
       "42  2 56 "
      ]
     },
     "metadata": {},
     "output_type": "display_data"
    }
   ],
   "source": [
    "table(sign(Train$Rasmussen))"
   ]
  },
  {
   "cell_type": "markdown",
   "metadata": {},
   "source": [
    "    In 56 of the 100 training set observations, the smart baseline predicted that the Republican was going to win.\n",
    "\n",
    "    In 42 instances, it predicted the Democrat.\n",
    "\n",
    "    And in two instances, it was inconclusive.\n",
    "    \n",
    "We really want to do is to see the breakdown of how the smart baseline model does, compared to the actual result who actually won the state.  we want to compare the training set's outcome against the sign of the polling data."
   ]
  },
  {
   "cell_type": "code",
   "execution_count": 18,
   "metadata": {},
   "outputs": [
    {
     "data": {
      "text/plain": [
       "   \n",
       "    -1  0  1\n",
       "  0 42  1  4\n",
       "  1  0  1 52"
      ]
     },
     "metadata": {},
     "output_type": "display_data"
    }
   ],
   "source": [
    "table(Train$Republican, sign(Train$Rasmussen))"
   ]
  },
  {
   "cell_type": "markdown",
   "metadata": {},
   "source": [
    "                 Democrat      Tie     Republican \n",
    "    Democrat     42 obs         1       4 erros\n",
    "    Republican   0 errors       1       52 obs\n",
    "\n",
    ".\n",
    "\n",
    "We have 42 observations where the Rasmussen smart baseline predicted the Democrat would win, and the Democrat actually did win.\n",
    "\n",
    "There were 52 observations where the smart baseline predicted the Republican would win, and the Republican actually did win.\n",
    "\n",
    "There were those 2 inconclusive observations.\n",
    "\n",
    "And finally, there were 4 mistakes, four times where the smart baseline model predicted that the Republican would win, but actually the Democrat won the state."
   ]
  },
  {
   "cell_type": "markdown",
   "metadata": {},
   "source": [
    "### Multicollinearity"
   ]
  },
  {
   "cell_type": "code",
   "execution_count": 19,
   "metadata": {},
   "outputs": [
    {
     "data": {
      "text/html": [
       "<table>\n",
       "<caption>A matrix: 5 × 5 of type dbl</caption>\n",
       "<thead>\n",
       "\t<tr><th></th><th scope=col>Rasmussen</th><th scope=col>SurveyUSA</th><th scope=col>PropR</th><th scope=col>DiffCount</th><th scope=col>Republican</th></tr>\n",
       "</thead>\n",
       "<tbody>\n",
       "\t<tr><th scope=row>Rasmussen</th><td>1.0000000</td><td>0.9127481</td><td>0.8356056</td><td>0.4926308</td><td>0.7908133</td></tr>\n",
       "\t<tr><th scope=row>SurveyUSA</th><td>0.9127481</td><td>1.0000000</td><td>0.8869625</td><td>0.5695477</td><td>0.8418046</td></tr>\n",
       "\t<tr><th scope=row>PropR</th><td>0.8356056</td><td>0.8869625</td><td>1.0000000</td><td>0.8273785</td><td>0.9484204</td></tr>\n",
       "\t<tr><th scope=row>DiffCount</th><td>0.4926308</td><td>0.5695477</td><td>0.8273785</td><td>1.0000000</td><td>0.8092777</td></tr>\n",
       "\t<tr><th scope=row>Republican</th><td>0.7908133</td><td>0.8418046</td><td>0.9484204</td><td>0.8092777</td><td>1.0000000</td></tr>\n",
       "</tbody>\n",
       "</table>\n"
      ],
      "text/latex": [
       "A matrix: 5 × 5 of type dbl\n",
       "\\begin{tabular}{r|lllll}\n",
       "  & Rasmussen & SurveyUSA & PropR & DiffCount & Republican\\\\\n",
       "\\hline\n",
       "\tRasmussen & 1.0000000 & 0.9127481 & 0.8356056 & 0.4926308 & 0.7908133\\\\\n",
       "\tSurveyUSA & 0.9127481 & 1.0000000 & 0.8869625 & 0.5695477 & 0.8418046\\\\\n",
       "\tPropR & 0.8356056 & 0.8869625 & 1.0000000 & 0.8273785 & 0.9484204\\\\\n",
       "\tDiffCount & 0.4926308 & 0.5695477 & 0.8273785 & 1.0000000 & 0.8092777\\\\\n",
       "\tRepublican & 0.7908133 & 0.8418046 & 0.9484204 & 0.8092777 & 1.0000000\\\\\n",
       "\\end{tabular}\n"
      ],
      "text/markdown": [
       "\n",
       "A matrix: 5 × 5 of type dbl\n",
       "\n",
       "| <!--/--> | Rasmussen | SurveyUSA | PropR | DiffCount | Republican |\n",
       "|---|---|---|---|---|---|\n",
       "| Rasmussen | 1.0000000 | 0.9127481 | 0.8356056 | 0.4926308 | 0.7908133 |\n",
       "| SurveyUSA | 0.9127481 | 1.0000000 | 0.8869625 | 0.5695477 | 0.8418046 |\n",
       "| PropR | 0.8356056 | 0.8869625 | 1.0000000 | 0.8273785 | 0.9484204 |\n",
       "| DiffCount | 0.4926308 | 0.5695477 | 0.8273785 | 1.0000000 | 0.8092777 |\n",
       "| Republican | 0.7908133 | 0.8418046 | 0.9484204 | 0.8092777 | 1.0000000 |\n",
       "\n"
      ],
      "text/plain": [
       "           Rasmussen SurveyUSA PropR     DiffCount Republican\n",
       "Rasmussen  1.0000000 0.9127481 0.8356056 0.4926308 0.7908133 \n",
       "SurveyUSA  0.9127481 1.0000000 0.8869625 0.5695477 0.8418046 \n",
       "PropR      0.8356056 0.8869625 1.0000000 0.8273785 0.9484204 \n",
       "DiffCount  0.4926308 0.5695477 0.8273785 1.0000000 0.8092777 \n",
       "Republican 0.7908133 0.8418046 0.9484204 0.8092777 1.0000000 "
      ]
     },
     "metadata": {},
     "output_type": "display_data"
    }
   ],
   "source": [
    "#cor(Train) not possible, because Train$State is `Factor` type.\n",
    "\n",
    "cor(Train[c(\"Rasmussen\", \"SurveyUSA\", \"PropR\", \"DiffCount\", \"Republican\")])"
   ]
  },
  {
   "cell_type": "markdown",
   "metadata": {},
   "source": [
    "The varivable PropR have the best correlation with our wanted varivable. So, PropR is the best candidate for our Logisti Regression Model."
   ]
  },
  {
   "cell_type": "markdown",
   "metadata": {},
   "source": [
    "### Logistic Regression Model"
   ]
  },
  {
   "cell_type": "code",
   "execution_count": 20,
   "metadata": {},
   "outputs": [
    {
     "data": {
      "text/plain": [
       "\n",
       "Call:\n",
       "glm(formula = Republican ~ PropR, family = \"binomial\", data = Train)\n",
       "\n",
       "Deviance Residuals: \n",
       "     Min        1Q    Median        3Q       Max  \n",
       "-2.22880  -0.06541   0.10260   0.10260   1.37392  \n",
       "\n",
       "Coefficients:\n",
       "            Estimate Std. Error z value Pr(>|z|)    \n",
       "(Intercept)   -6.146      1.977  -3.108 0.001882 ** \n",
       "PropR         11.390      3.153   3.613 0.000303 ***\n",
       "---\n",
       "Signif. codes:  0 '***' 0.001 '**' 0.01 '*' 0.05 '.' 0.1 ' ' 1\n",
       "\n",
       "(Dispersion parameter for binomial family taken to be 1)\n",
       "\n",
       "    Null deviance: 138.269  on 99  degrees of freedom\n",
       "Residual deviance:  15.772  on 98  degrees of freedom\n",
       "AIC: 19.772\n",
       "\n",
       "Number of Fisher Scoring iterations: 8\n"
      ]
     },
     "metadata": {},
     "output_type": "display_data"
    }
   ],
   "source": [
    "mod1 = glm(Republican~PropR, data=Train, family=\"binomial\")\n",
    "summary(mod1)"
   ]
  },
  {
   "cell_type": "markdown",
   "metadata": {},
   "source": [
    "### Training set predictions"
   ]
  },
  {
   "cell_type": "markdown",
   "metadata": {},
   "source": [
    "First, we want to compute the predictions, the predicted probabilities that the Republican is going to win on the training set."
   ]
  },
  {
   "cell_type": "code",
   "execution_count": 21,
   "metadata": {},
   "outputs": [
    {
     "data": {
      "text/plain": [
       "   \n",
       "    FALSE TRUE\n",
       "  0    45    2\n",
       "  1     2   51"
      ]
     },
     "metadata": {},
     "output_type": "display_data"
    }
   ],
   "source": [
    "pred1 = predict(mod1, type=\"response\")\n",
    "table(Train$Republican, pred1 >= 0.5)"
   ]
  },
  {
   "cell_type": "markdown",
   "metadata": {},
   "source": [
    "                      Predict Democrat   Predict Republican\n",
    "\n",
    "    Real Democrat            45                2\n",
    "\n",
    "    Real Republican           2                51\n",
    "    \n",
    "\n",
    ". \n",
    "\n",
    "4 mistakes."
   ]
  },
  {
   "cell_type": "markdown",
   "metadata": {},
   "source": [
    "### Two-variable model"
   ]
  },
  {
   "cell_type": "code",
   "execution_count": 22,
   "metadata": {},
   "outputs": [
    {
     "data": {
      "text/plain": [
       "\n",
       "Call:\n",
       "glm(formula = Republican ~ SurveyUSA + DiffCount, family = \"binomial\", \n",
       "    data = Train)\n",
       "\n",
       "Deviance Residuals: \n",
       "     Min        1Q    Median        3Q       Max  \n",
       "-1.96335  -0.01207   0.01526   0.06363   1.50373  \n",
       "\n",
       "Coefficients:\n",
       "            Estimate Std. Error z value Pr(>|z|)  \n",
       "(Intercept)  -0.9991     1.2437  -0.803   0.4218  \n",
       "SurveyUSA     0.2583     0.1454   1.777   0.0756 .\n",
       "DiffCount     0.7388     0.4464   1.655   0.0979 .\n",
       "---\n",
       "Signif. codes:  0 '***' 0.001 '**' 0.01 '*' 0.05 '.' 0.1 ' ' 1\n",
       "\n",
       "(Dispersion parameter for binomial family taken to be 1)\n",
       "\n",
       "    Null deviance: 138.269  on 99  degrees of freedom\n",
       "Residual deviance:  10.749  on 97  degrees of freedom\n",
       "AIC: 16.749\n",
       "\n",
       "Number of Fisher Scoring iterations: 9\n"
      ]
     },
     "metadata": {},
     "output_type": "display_data"
    }
   ],
   "source": [
    "mod2 = glm(Republican~SurveyUSA+DiffCount, data=Train, family=\"binomial\")\n",
    "summary(mod2)"
   ]
  },
  {
   "cell_type": "markdown",
   "metadata": {},
   "source": [
    "The AIC value is a measure of the quality of the model. The preferred model is the one with the minimum AIC.\n",
    "\n",
    "mod1 -> AIC: 19.772\n",
    "\n",
    "mod2 -> AIC: 16.749 (Better!)"
   ]
  },
  {
   "cell_type": "code",
   "execution_count": 23,
   "metadata": {},
   "outputs": [
    {
     "data": {
      "text/plain": [
       "   \n",
       "    FALSE TRUE\n",
       "  0    45    2\n",
       "  1     1   52"
      ]
     },
     "metadata": {},
     "output_type": "display_data"
    }
   ],
   "source": [
    "pred2 = predict(mod2, type=\"response\")\n",
    "table(Train$Republican, pred2 >= 0.5)"
   ]
  },
  {
   "cell_type": "markdown",
   "metadata": {},
   "source": [
    "                      Predict Democrat   Predict Republican\n",
    "\n",
    "    Real Democrat            45                2\n",
    "\n",
    "    Real Republican           1                52\n",
    "    \n",
    "\n",
    ". \n",
    "\n",
    "3 mistakes."
   ]
  },
  {
   "cell_type": "markdown",
   "metadata": {},
   "source": [
    "### Smart baseline accuracy"
   ]
  },
  {
   "cell_type": "code",
   "execution_count": 24,
   "metadata": {},
   "outputs": [
    {
     "data": {
      "text/plain": [
       "   \n",
       "    -1  0  1\n",
       "  0 18  2  4\n",
       "  1  0  0 21"
      ]
     },
     "metadata": {},
     "output_type": "display_data"
    }
   ],
   "source": [
    "table(Test$Republican, sign(Test$Rasmussen))"
   ]
  },
  {
   "cell_type": "markdown",
   "metadata": {},
   "source": [
    "                 Democrat      Tie     Republican \n",
    "    Democrat     18 obs         2       4 erros\n",
    "    Republican   0 errors       0       21 obs"
   ]
  },
  {
   "cell_type": "markdown",
   "metadata": {},
   "source": [
    "### Test set predictions"
   ]
  },
  {
   "cell_type": "code",
   "execution_count": 25,
   "metadata": {},
   "outputs": [
    {
     "data": {
      "text/plain": [
       "   \n",
       "    FALSE TRUE\n",
       "  0    23    1\n",
       "  1     0   21"
      ]
     },
     "metadata": {},
     "output_type": "display_data"
    }
   ],
   "source": [
    "TestPrediction = predict(mod2, newdata=Test, type=\"response\")\n",
    "table(Test$Republican, TestPrediction >= 0.5)"
   ]
  },
  {
   "cell_type": "markdown",
   "metadata": {},
   "source": [
    "                      Predict Democrat   Predict Republican\n",
    "\n",
    "    Real Democrat            23                1\n",
    "\n",
    "    Real Republican           0               21"
   ]
  },
  {
   "cell_type": "markdown",
   "metadata": {},
   "source": [
    "### Analyze Mistake"
   ]
  },
  {
   "cell_type": "code",
   "execution_count": 26,
   "metadata": {},
   "outputs": [
    {
     "data": {
      "text/html": [
       "<table>\n",
       "<caption>A data.frame: 1 × 7</caption>\n",
       "<thead>\n",
       "\t<tr><th></th><th scope=col>State</th><th scope=col>Year</th><th scope=col>Rasmussen</th><th scope=col>SurveyUSA</th><th scope=col>DiffCount</th><th scope=col>PropR</th><th scope=col>Republican</th></tr>\n",
       "\t<tr><th></th><th scope=col>&lt;fct&gt;</th><th scope=col>&lt;int&gt;</th><th scope=col>&lt;int&gt;</th><th scope=col>&lt;int&gt;</th><th scope=col>&lt;int&gt;</th><th scope=col>&lt;dbl&gt;</th><th scope=col>&lt;int&gt;</th></tr>\n",
       "</thead>\n",
       "<tbody>\n",
       "\t<tr><th scope=row>24</th><td>Florida</td><td>2012</td><td>2</td><td>0</td><td>6</td><td>0.6666667</td><td>0</td></tr>\n",
       "</tbody>\n",
       "</table>\n"
      ],
      "text/latex": [
       "A data.frame: 1 × 7\n",
       "\\begin{tabular}{r|lllllll}\n",
       "  & State & Year & Rasmussen & SurveyUSA & DiffCount & PropR & Republican\\\\\n",
       "  & <fct> & <int> & <int> & <int> & <int> & <dbl> & <int>\\\\\n",
       "\\hline\n",
       "\t24 & Florida & 2012 & 2 & 0 & 6 & 0.6666667 & 0\\\\\n",
       "\\end{tabular}\n"
      ],
      "text/markdown": [
       "\n",
       "A data.frame: 1 × 7\n",
       "\n",
       "| <!--/--> | State &lt;fct&gt; | Year &lt;int&gt; | Rasmussen &lt;int&gt; | SurveyUSA &lt;int&gt; | DiffCount &lt;int&gt; | PropR &lt;dbl&gt; | Republican &lt;int&gt; |\n",
       "|---|---|---|---|---|---|---|---|\n",
       "| 24 | Florida | 2012 | 2 | 0 | 6 | 0.6666667 | 0 |\n",
       "\n"
      ],
      "text/plain": [
       "   State   Year Rasmussen SurveyUSA DiffCount PropR     Republican\n",
       "24 Florida 2012 2         0         6         0.6666667 0         "
      ]
     },
     "metadata": {},
     "output_type": "display_data"
    }
   ],
   "source": [
    "subset(Test, TestPrediction >= 0.5 & Republican == 0)"
   ]
  }
 ],
 "metadata": {
  "kernelspec": {
   "display_name": "R",
   "language": "R",
   "name": "ir"
  },
  "language_info": {
   "codemirror_mode": "r",
   "file_extension": ".r",
   "mimetype": "text/x-r-source",
   "name": "R",
   "pygments_lexer": "r",
   "version": "3.6.3"
  }
 },
 "nbformat": 4,
 "nbformat_minor": 4
}
