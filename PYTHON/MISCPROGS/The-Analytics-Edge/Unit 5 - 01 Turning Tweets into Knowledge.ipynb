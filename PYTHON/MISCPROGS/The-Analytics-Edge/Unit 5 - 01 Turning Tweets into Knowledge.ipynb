{
 "cells": [
  {
   "cell_type": "markdown",
   "metadata": {},
   "source": [
    "# Turning Tweets into Knowledge: An Introduction to Text Analytics"
   ]
  },
  {
   "cell_type": "markdown",
   "metadata": {},
   "source": [
    "<img src=\"images/twitter.png\"/>"
   ]
  },
  {
   "cell_type": "markdown",
   "metadata": {},
   "source": [
    "### Load and Exploration the Data"
   ]
  },
  {
   "cell_type": "markdown",
   "metadata": {},
   "source": [
    "We need add this extra argument when working on a text analytics problem so that the text is read in properly:\n",
    "\n",
    "    stringsAsFactors=FALSE."
   ]
  },
  {
   "cell_type": "code",
   "execution_count": 1,
   "metadata": {},
   "outputs": [
    {
     "data": {
      "text/html": [
       "<table>\n",
       "<caption>A data.frame: 6 × 2</caption>\n",
       "<thead>\n",
       "\t<tr><th></th><th scope=col>Tweet</th><th scope=col>Avg</th></tr>\n",
       "\t<tr><th></th><th scope=col>&lt;chr&gt;</th><th scope=col>&lt;dbl&gt;</th></tr>\n",
       "</thead>\n",
       "<tbody>\n",
       "\t<tr><th scope=row>1</th><td>I have to say, Apple has by far the best customer care service I have ever received! @Apple @AppStore</td><td>2.0</td></tr>\n",
       "\t<tr><th scope=row>2</th><td><span style=white-space:pre-wrap>iOS 7 is so fricking smooth &amp; beautiful!! #ThanxApple @Apple                                         </span></td><td>2.0</td></tr>\n",
       "\t<tr><th scope=row>3</th><td>LOVE U @APPLE                                                                                        </td><td>1.8</td></tr>\n",
       "\t<tr><th scope=row>4</th><td>Thank you @apple, loving my new iPhone 5S!!!!!  #apple #iphone5S pic.twitter.com/XmHJCU4pcb          </td><td>1.8</td></tr>\n",
       "\t<tr><th scope=row>5</th><td>.@apple has the best customer service. In and out with a new phone in under 10min!                   </td><td>1.8</td></tr>\n",
       "\t<tr><th scope=row>6</th><td>@apple ear pods are AMAZING! Best sound from in-ear headphones I've ever had!                        </td><td>1.8</td></tr>\n",
       "</tbody>\n",
       "</table>\n"
      ],
      "text/latex": [
       "A data.frame: 6 × 2\n",
       "\\begin{tabular}{r|ll}\n",
       "  & Tweet & Avg\\\\\n",
       "  & <chr> & <dbl>\\\\\n",
       "\\hline\n",
       "\t1 & I have to say, Apple has by far the best customer care service I have ever received! @Apple @AppStore & 2.0\\\\\n",
       "\t2 & iOS 7 is so fricking smooth \\& beautiful!! \\#ThanxApple @Apple                                          & 2.0\\\\\n",
       "\t3 & LOVE U @APPLE                                                                                         & 1.8\\\\\n",
       "\t4 & Thank you @apple, loving my new iPhone 5S!!!!!  \\#apple \\#iphone5S pic.twitter.com/XmHJCU4pcb           & 1.8\\\\\n",
       "\t5 & .@apple has the best customer service. In and out with a new phone in under 10min!                    & 1.8\\\\\n",
       "\t6 & @apple ear pods are AMAZING! Best sound from in-ear headphones I've ever had!                         & 1.8\\\\\n",
       "\\end{tabular}\n"
      ],
      "text/markdown": [
       "\n",
       "A data.frame: 6 × 2\n",
       "\n",
       "| <!--/--> | Tweet &lt;chr&gt; | Avg &lt;dbl&gt; |\n",
       "|---|---|---|\n",
       "| 1 | I have to say, Apple has by far the best customer care service I have ever received! @Apple @AppStore | 2.0 |\n",
       "| 2 | iOS 7 is so fricking smooth &amp; beautiful!! #ThanxApple @Apple                                          | 2.0 |\n",
       "| 3 | LOVE U @APPLE                                                                                         | 1.8 |\n",
       "| 4 | Thank you @apple, loving my new iPhone 5S!!!!!  #apple #iphone5S pic.twitter.com/XmHJCU4pcb           | 1.8 |\n",
       "| 5 | .@apple has the best customer service. In and out with a new phone in under 10min!                    | 1.8 |\n",
       "| 6 | @apple ear pods are AMAZING! Best sound from in-ear headphones I've ever had!                         | 1.8 |\n",
       "\n"
      ],
      "text/plain": [
       "  Tweet                                                                                                \n",
       "1 I have to say, Apple has by far the best customer care service I have ever received! @Apple @AppStore\n",
       "2 iOS 7 is so fricking smooth & beautiful!! #ThanxApple @Apple                                         \n",
       "3 LOVE U @APPLE                                                                                        \n",
       "4 Thank you @apple, loving my new iPhone 5S!!!!!  #apple #iphone5S pic.twitter.com/XmHJCU4pcb          \n",
       "5 .@apple has the best customer service. In and out with a new phone in under 10min!                   \n",
       "6 @apple ear pods are AMAZING! Best sound from in-ear headphones I've ever had!                        \n",
       "  Avg\n",
       "1 2.0\n",
       "2 2.0\n",
       "3 1.8\n",
       "4 1.8\n",
       "5 1.8\n",
       "6 1.8"
      ]
     },
     "metadata": {},
     "output_type": "display_data"
    }
   ],
   "source": [
    "tweets = read.csv(\"data/tweets.csv\", stringsAsFactors=FALSE)\n",
    "\n",
    "head(tweets)"
   ]
  },
  {
   "cell_type": "code",
   "execution_count": 2,
   "metadata": {},
   "outputs": [
    {
     "name": "stdout",
     "output_type": "stream",
     "text": [
      "'data.frame':\t1181 obs. of  2 variables:\n",
      " $ Tweet: chr  \"I have to say, Apple has by far the best customer care service I have ever received! @Apple @AppStore\" \"iOS 7 is so fricking smooth & beautiful!! #ThanxApple @Apple\" \"LOVE U @APPLE\" \"Thank you @apple, loving my new iPhone 5S!!!!!  #apple #iphone5S pic.twitter.com/XmHJCU4pcb\" ...\n",
      " $ Avg  : num  2 2 1.8 1.8 1.8 1.8 1.8 1.6 1.6 1.6 ...\n"
     ]
    }
   ],
   "source": [
    "str(tweets)"
   ]
  },
  {
   "cell_type": "markdown",
   "metadata": {},
   "source": [
    "We can see that we have 1,181 observations of two variables, the text of the tweet, called Tweet, and the average sentiment score, called Avg for average. The tweet texts are real tweets that we found on the internet directed to Apple with a few cleaned up words."
   ]
  },
  {
   "cell_type": "markdown",
   "metadata": {},
   "source": [
    "### Create dependent variable"
   ]
  },
  {
   "cell_type": "markdown",
   "metadata": {},
   "source": [
    "We're more interested in being able to detect the tweets with clear negative sentiment,so let's define a new variable in our data set tweets called Negative."
   ]
  },
  {
   "cell_type": "code",
   "execution_count": 3,
   "metadata": {},
   "outputs": [
    {
     "data": {
      "text/html": [
       "<table>\n",
       "<caption>A data.frame: 6 × 3</caption>\n",
       "<thead>\n",
       "\t<tr><th></th><th scope=col>Tweet</th><th scope=col>Avg</th><th scope=col>Negative</th></tr>\n",
       "\t<tr><th></th><th scope=col>&lt;chr&gt;</th><th scope=col>&lt;dbl&gt;</th><th scope=col>&lt;fct&gt;</th></tr>\n",
       "</thead>\n",
       "<tbody>\n",
       "\t<tr><th scope=row>1</th><td>I have to say, Apple has by far the best customer care service I have ever received! @Apple @AppStore</td><td>2.0</td><td>FALSE</td></tr>\n",
       "\t<tr><th scope=row>2</th><td><span style=white-space:pre-wrap>iOS 7 is so fricking smooth &amp; beautiful!! #ThanxApple @Apple                                         </span></td><td>2.0</td><td>FALSE</td></tr>\n",
       "\t<tr><th scope=row>3</th><td>LOVE U @APPLE                                                                                        </td><td>1.8</td><td>FALSE</td></tr>\n",
       "\t<tr><th scope=row>4</th><td>Thank you @apple, loving my new iPhone 5S!!!!!  #apple #iphone5S pic.twitter.com/XmHJCU4pcb          </td><td>1.8</td><td>FALSE</td></tr>\n",
       "\t<tr><th scope=row>5</th><td>.@apple has the best customer service. In and out with a new phone in under 10min!                   </td><td>1.8</td><td>FALSE</td></tr>\n",
       "\t<tr><th scope=row>6</th><td>@apple ear pods are AMAZING! Best sound from in-ear headphones I've ever had!                        </td><td>1.8</td><td>FALSE</td></tr>\n",
       "</tbody>\n",
       "</table>\n"
      ],
      "text/latex": [
       "A data.frame: 6 × 3\n",
       "\\begin{tabular}{r|lll}\n",
       "  & Tweet & Avg & Negative\\\\\n",
       "  & <chr> & <dbl> & <fct>\\\\\n",
       "\\hline\n",
       "\t1 & I have to say, Apple has by far the best customer care service I have ever received! @Apple @AppStore & 2.0 & FALSE\\\\\n",
       "\t2 & iOS 7 is so fricking smooth \\& beautiful!! \\#ThanxApple @Apple                                          & 2.0 & FALSE\\\\\n",
       "\t3 & LOVE U @APPLE                                                                                         & 1.8 & FALSE\\\\\n",
       "\t4 & Thank you @apple, loving my new iPhone 5S!!!!!  \\#apple \\#iphone5S pic.twitter.com/XmHJCU4pcb           & 1.8 & FALSE\\\\\n",
       "\t5 & .@apple has the best customer service. In and out with a new phone in under 10min!                    & 1.8 & FALSE\\\\\n",
       "\t6 & @apple ear pods are AMAZING! Best sound from in-ear headphones I've ever had!                         & 1.8 & FALSE\\\\\n",
       "\\end{tabular}\n"
      ],
      "text/markdown": [
       "\n",
       "A data.frame: 6 × 3\n",
       "\n",
       "| <!--/--> | Tweet &lt;chr&gt; | Avg &lt;dbl&gt; | Negative &lt;fct&gt; |\n",
       "|---|---|---|---|\n",
       "| 1 | I have to say, Apple has by far the best customer care service I have ever received! @Apple @AppStore | 2.0 | FALSE |\n",
       "| 2 | iOS 7 is so fricking smooth &amp; beautiful!! #ThanxApple @Apple                                          | 2.0 | FALSE |\n",
       "| 3 | LOVE U @APPLE                                                                                         | 1.8 | FALSE |\n",
       "| 4 | Thank you @apple, loving my new iPhone 5S!!!!!  #apple #iphone5S pic.twitter.com/XmHJCU4pcb           | 1.8 | FALSE |\n",
       "| 5 | .@apple has the best customer service. In and out with a new phone in under 10min!                    | 1.8 | FALSE |\n",
       "| 6 | @apple ear pods are AMAZING! Best sound from in-ear headphones I've ever had!                         | 1.8 | FALSE |\n",
       "\n"
      ],
      "text/plain": [
       "  Tweet                                                                                                \n",
       "1 I have to say, Apple has by far the best customer care service I have ever received! @Apple @AppStore\n",
       "2 iOS 7 is so fricking smooth & beautiful!! #ThanxApple @Apple                                         \n",
       "3 LOVE U @APPLE                                                                                        \n",
       "4 Thank you @apple, loving my new iPhone 5S!!!!!  #apple #iphone5S pic.twitter.com/XmHJCU4pcb          \n",
       "5 .@apple has the best customer service. In and out with a new phone in under 10min!                   \n",
       "6 @apple ear pods are AMAZING! Best sound from in-ear headphones I've ever had!                        \n",
       "  Avg Negative\n",
       "1 2.0 FALSE   \n",
       "2 2.0 FALSE   \n",
       "3 1.8 FALSE   \n",
       "4 1.8 FALSE   \n",
       "5 1.8 FALSE   \n",
       "6 1.8 FALSE   "
      ]
     },
     "metadata": {},
     "output_type": "display_data"
    }
   ],
   "source": [
    "tweets$Negative = as.factor(tweets$Avg <= -1)\n",
    "\n",
    "head(tweets)"
   ]
  },
  {
   "cell_type": "code",
   "execution_count": 4,
   "metadata": {},
   "outputs": [
    {
     "data": {
      "text/plain": [
       "\n",
       "FALSE  TRUE \n",
       "  999   182 "
      ]
     },
     "metadata": {},
     "output_type": "display_data"
    }
   ],
   "source": [
    "# See how many tweets are negative feeling\n",
    "table(tweets$Negative)"
   ]
  },
  {
   "cell_type": "markdown",
   "metadata": {},
   "source": [
    "There is 182 tweets with negative feeling."
   ]
  },
  {
   "cell_type": "markdown",
   "metadata": {},
   "source": [
    "## Pre-Processing in R"
   ]
  },
  {
   "cell_type": "markdown",
   "metadata": {},
   "source": [
    "### Necessary Libraries"
   ]
  },
  {
   "cell_type": "code",
   "execution_count": 5,
   "metadata": {},
   "outputs": [],
   "source": [
    "#install.packages(\"tm\")\n",
    "#install.packages(\"SnowballC\")"
   ]
  },
  {
   "cell_type": "code",
   "execution_count": 6,
   "metadata": {},
   "outputs": [
    {
     "name": "stderr",
     "output_type": "stream",
     "text": [
      "Loading required package: NLP\n",
      "\n"
     ]
    }
   ],
   "source": [
    "library(tm)\n",
    "library(SnowballC)"
   ]
  },
  {
   "cell_type": "markdown",
   "metadata": {},
   "source": [
    "One of the concepts introduced by the tm package is that of a corpus. A corpus is a collection of documents. We'll need to convert our tweets to a corpus for pre-processing. Tm can create a corpus in many different ways, but we'll create it from the tweet column of our data frame using two functions, Corpus and VectorSource."
   ]
  },
  {
   "cell_type": "code",
   "execution_count": 7,
   "metadata": {},
   "outputs": [
    {
     "data": {
      "text/plain": [
       "<<VCorpus>>\n",
       "Metadata:  corpus specific: 0, document level (indexed): 0\n",
       "Content:  documents: 1181"
      ]
     },
     "metadata": {},
     "output_type": "display_data"
    }
   ],
   "source": [
    "# Create Corpus\n",
    "corpus = VCorpus(VectorSource(tweets$Tweet))\n",
    "corpus"
   ]
  },
  {
   "cell_type": "code",
   "execution_count": 8,
   "metadata": {},
   "outputs": [
    {
     "data": {
      "text/html": [
       "'I have to say, Apple has by far the best customer care service I have ever received! @Apple @AppStore'"
      ],
      "text/latex": [
       "'I have to say, Apple has by far the best customer care service I have ever received! @Apple @AppStore'"
      ],
      "text/markdown": [
       "'I have to say, Apple has by far the best customer care service I have ever received! @Apple @AppStore'"
      ],
      "text/plain": [
       "[1] \"I have to say, Apple has by far the best customer care service I have ever received! @Apple @AppStore\""
      ]
     },
     "metadata": {},
     "output_type": "display_data"
    }
   ],
   "source": [
    "# Test Corpus\n",
    "corpus[[1]]$content"
   ]
  },
  {
   "cell_type": "markdown",
   "metadata": {},
   "source": [
    "### Convert to lower-case"
   ]
  },
  {
   "cell_type": "code",
   "execution_count": 9,
   "metadata": {},
   "outputs": [
    {
     "data": {
      "text/html": [
       "'i have to say, apple has by far the best customer care service i have ever received! @apple @appstore'"
      ],
      "text/latex": [
       "'i have to say, apple has by far the best customer care service i have ever received! @apple @appstore'"
      ],
      "text/markdown": [
       "'i have to say, apple has by far the best customer care service i have ever received! @apple @appstore'"
      ],
      "text/plain": [
       "[1] \"i have to say, apple has by far the best customer care service i have ever received! @apple @appstore\""
      ]
     },
     "metadata": {},
     "output_type": "display_data"
    }
   ],
   "source": [
    "# Convert to lower-case\n",
    "corpus = tm_map(corpus, tolower)\n",
    "\n",
    "# For the latest version of the tm package\n",
    "corpus = tm_map(corpus, PlainTextDocument)\n",
    "\n",
    "# Test Corpus\n",
    "corpus[[1]]$content"
   ]
  },
  {
   "cell_type": "markdown",
   "metadata": {},
   "source": [
    "### Remove punctuation"
   ]
  },
  {
   "cell_type": "code",
   "execution_count": 10,
   "metadata": {},
   "outputs": [
    {
     "data": {
      "text/html": [
       "'i have to say apple has by far the best customer care service i have ever received apple appstore'"
      ],
      "text/latex": [
       "'i have to say apple has by far the best customer care service i have ever received apple appstore'"
      ],
      "text/markdown": [
       "'i have to say apple has by far the best customer care service i have ever received apple appstore'"
      ],
      "text/plain": [
       "[1] \"i have to say apple has by far the best customer care service i have ever received apple appstore\""
      ]
     },
     "metadata": {},
     "output_type": "display_data"
    }
   ],
   "source": [
    "# Remove punctuation\n",
    "corpus = tm_map(corpus, removePunctuation)\n",
    "\n",
    "corpus[[1]]$content"
   ]
  },
  {
   "cell_type": "markdown",
   "metadata": {},
   "source": [
    "### Stop Words"
   ]
  },
  {
   "cell_type": "code",
   "execution_count": 11,
   "metadata": {},
   "outputs": [
    {
     "data": {
      "text/html": [
       "<style>\n",
       ".list-inline {list-style: none; margin:0; padding: 0}\n",
       ".list-inline>li {display: inline-block}\n",
       ".list-inline>li:not(:last-child)::after {content: \"\\00b7\"; padding: 0 .5ex}\n",
       "</style>\n",
       "<ol class=list-inline><li>'i'</li><li>'me'</li><li>'my'</li><li>'myself'</li><li>'we'</li><li>'our'</li><li>'ours'</li><li>'ourselves'</li><li>'you'</li><li>'your'</li></ol>\n"
      ],
      "text/latex": [
       "\\begin{enumerate*}\n",
       "\\item 'i'\n",
       "\\item 'me'\n",
       "\\item 'my'\n",
       "\\item 'myself'\n",
       "\\item 'we'\n",
       "\\item 'our'\n",
       "\\item 'ours'\n",
       "\\item 'ourselves'\n",
       "\\item 'you'\n",
       "\\item 'your'\n",
       "\\end{enumerate*}\n"
      ],
      "text/markdown": [
       "1. 'i'\n",
       "2. 'me'\n",
       "3. 'my'\n",
       "4. 'myself'\n",
       "5. 'we'\n",
       "6. 'our'\n",
       "7. 'ours'\n",
       "8. 'ourselves'\n",
       "9. 'you'\n",
       "10. 'your'\n",
       "\n",
       "\n"
      ],
      "text/plain": [
       " [1] \"i\"         \"me\"        \"my\"        \"myself\"    \"we\"        \"our\"      \n",
       " [7] \"ours\"      \"ourselves\" \"you\"       \"your\"     "
      ]
     },
     "metadata": {},
     "output_type": "display_data"
    }
   ],
   "source": [
    "# Look at stop words\n",
    "stopwords(\"english\")[1:10]"
   ]
  },
  {
   "cell_type": "code",
   "execution_count": 12,
   "metadata": {},
   "outputs": [
    {
     "data": {
      "text/html": [
       "<span style=white-space:pre-wrap>'   say    far  best customer care service   ever received  appstore'</span>"
      ],
      "text/latex": [
       "'   say    far  best customer care service   ever received  appstore'"
      ],
      "text/markdown": [
       "<span style=white-space:pre-wrap>'   say    far  best customer care service   ever received  appstore'</span>"
      ],
      "text/plain": [
       "[1] \"   say    far  best customer care service   ever received  appstore\""
      ]
     },
     "metadata": {},
     "output_type": "display_data"
    }
   ],
   "source": [
    "# Remove stopwords and apple\n",
    "corpus = tm_map(corpus, removeWords, c(\"apple\", stopwords(\"english\")))\n",
    "\n",
    "corpus[[1]]$content"
   ]
  },
  {
   "cell_type": "code",
   "execution_count": 13,
   "metadata": {},
   "outputs": [
    {
     "data": {
      "text/html": [
       "'say far best custom care servic ever receiv appstor'"
      ],
      "text/latex": [
       "'say far best custom care servic ever receiv appstor'"
      ],
      "text/markdown": [
       "'say far best custom care servic ever receiv appstor'"
      ],
      "text/plain": [
       "[1] \"say far best custom care servic ever receiv appstor\""
      ]
     },
     "metadata": {},
     "output_type": "display_data"
    }
   ],
   "source": [
    "# Stem document \n",
    "corpus = tm_map(corpus, stemDocument)\n",
    "\n",
    "corpus[[1]]$content"
   ]
  },
  {
   "cell_type": "markdown",
   "metadata": {},
   "source": [
    "### Create Matrix"
   ]
  },
  {
   "cell_type": "markdown",
   "metadata": {},
   "source": [
    "The tm package provides a function called *DocumentTermMatrix* that generates a matrix where the rows correspond to documents, in our case tweets, and the columns correspond to words in those tweets. The values in the matrix are the number of times that word appears in each document"
   ]
  },
  {
   "cell_type": "code",
   "execution_count": 14,
   "metadata": {},
   "outputs": [
    {
     "data": {
      "text/plain": [
       "<<DocumentTermMatrix (documents: 1181, terms: 3289)>>\n",
       "Non-/sparse entries: 8980/3875329\n",
       "Sparsity           : 100%\n",
       "Maximal term length: 115\n",
       "Weighting          : term frequency (tf)"
      ]
     },
     "metadata": {},
     "output_type": "display_data"
    }
   ],
   "source": [
    "frequencies = DocumentTermMatrix(corpus)\n",
    "frequencies"
   ]
  },
  {
   "cell_type": "code",
   "execution_count": 15,
   "metadata": {},
   "outputs": [],
   "source": [
    "# Look at matrix\n",
    "# inspect(frequencies[1000:1005,505:515])"
   ]
  },
  {
   "cell_type": "code",
   "execution_count": 16,
   "metadata": {},
   "outputs": [
    {
     "data": {
      "text/html": [
       "<style>\n",
       ".list-inline {list-style: none; margin:0; padding: 0}\n",
       ".list-inline>li {display: inline-block}\n",
       ".list-inline>li:not(:last-child)::after {content: \"\\00b7\"; padding: 0 .5ex}\n",
       "</style>\n",
       "<ol class=list-inline><li>'android'</li><li>'anyon'</li><li>'app'</li><li>'appl'</li><li>'back'</li><li>'batteri'</li><li>'better'</li><li>'buy'</li><li>'can'</li><li>'cant'</li><li>'come'</li><li>'dont'</li><li>'fingerprint'</li><li>'freak'</li><li>'get'</li><li>'googl'</li><li>'ios7'</li><li>'ipad'</li><li>'iphon'</li><li>'iphone5'</li><li>'iphone5c'</li><li>'ipod'</li><li>'ipodplayerpromo'</li><li>'itun'</li><li>'just'</li><li>'like'</li><li>'lol'</li><li>'look'</li><li>'love'</li><li>'make'</li><li>'market'</li><li>'microsoft'</li><li>'need'</li><li>'new'</li><li>'now'</li><li>'one'</li><li>'phone'</li><li>'pleas'</li><li>'promo'</li><li>'promoipodplayerpromo'</li><li>'realli'</li><li>'releas'</li><li>'samsung'</li><li>'say'</li><li>'store'</li><li>'thank'</li><li>'think'</li><li>'time'</li><li>'twitter'</li><li>'updat'</li><li>'use'</li><li>'via'</li><li>'want'</li><li>'well'</li><li>'will'</li><li>'work'</li></ol>\n"
      ],
      "text/latex": [
       "\\begin{enumerate*}\n",
       "\\item 'android'\n",
       "\\item 'anyon'\n",
       "\\item 'app'\n",
       "\\item 'appl'\n",
       "\\item 'back'\n",
       "\\item 'batteri'\n",
       "\\item 'better'\n",
       "\\item 'buy'\n",
       "\\item 'can'\n",
       "\\item 'cant'\n",
       "\\item 'come'\n",
       "\\item 'dont'\n",
       "\\item 'fingerprint'\n",
       "\\item 'freak'\n",
       "\\item 'get'\n",
       "\\item 'googl'\n",
       "\\item 'ios7'\n",
       "\\item 'ipad'\n",
       "\\item 'iphon'\n",
       "\\item 'iphone5'\n",
       "\\item 'iphone5c'\n",
       "\\item 'ipod'\n",
       "\\item 'ipodplayerpromo'\n",
       "\\item 'itun'\n",
       "\\item 'just'\n",
       "\\item 'like'\n",
       "\\item 'lol'\n",
       "\\item 'look'\n",
       "\\item 'love'\n",
       "\\item 'make'\n",
       "\\item 'market'\n",
       "\\item 'microsoft'\n",
       "\\item 'need'\n",
       "\\item 'new'\n",
       "\\item 'now'\n",
       "\\item 'one'\n",
       "\\item 'phone'\n",
       "\\item 'pleas'\n",
       "\\item 'promo'\n",
       "\\item 'promoipodplayerpromo'\n",
       "\\item 'realli'\n",
       "\\item 'releas'\n",
       "\\item 'samsung'\n",
       "\\item 'say'\n",
       "\\item 'store'\n",
       "\\item 'thank'\n",
       "\\item 'think'\n",
       "\\item 'time'\n",
       "\\item 'twitter'\n",
       "\\item 'updat'\n",
       "\\item 'use'\n",
       "\\item 'via'\n",
       "\\item 'want'\n",
       "\\item 'well'\n",
       "\\item 'will'\n",
       "\\item 'work'\n",
       "\\end{enumerate*}\n"
      ],
      "text/markdown": [
       "1. 'android'\n",
       "2. 'anyon'\n",
       "3. 'app'\n",
       "4. 'appl'\n",
       "5. 'back'\n",
       "6. 'batteri'\n",
       "7. 'better'\n",
       "8. 'buy'\n",
       "9. 'can'\n",
       "10. 'cant'\n",
       "11. 'come'\n",
       "12. 'dont'\n",
       "13. 'fingerprint'\n",
       "14. 'freak'\n",
       "15. 'get'\n",
       "16. 'googl'\n",
       "17. 'ios7'\n",
       "18. 'ipad'\n",
       "19. 'iphon'\n",
       "20. 'iphone5'\n",
       "21. 'iphone5c'\n",
       "22. 'ipod'\n",
       "23. 'ipodplayerpromo'\n",
       "24. 'itun'\n",
       "25. 'just'\n",
       "26. 'like'\n",
       "27. 'lol'\n",
       "28. 'look'\n",
       "29. 'love'\n",
       "30. 'make'\n",
       "31. 'market'\n",
       "32. 'microsoft'\n",
       "33. 'need'\n",
       "34. 'new'\n",
       "35. 'now'\n",
       "36. 'one'\n",
       "37. 'phone'\n",
       "38. 'pleas'\n",
       "39. 'promo'\n",
       "40. 'promoipodplayerpromo'\n",
       "41. 'realli'\n",
       "42. 'releas'\n",
       "43. 'samsung'\n",
       "44. 'say'\n",
       "45. 'store'\n",
       "46. 'thank'\n",
       "47. 'think'\n",
       "48. 'time'\n",
       "49. 'twitter'\n",
       "50. 'updat'\n",
       "51. 'use'\n",
       "52. 'via'\n",
       "53. 'want'\n",
       "54. 'well'\n",
       "55. 'will'\n",
       "56. 'work'\n",
       "\n",
       "\n"
      ],
      "text/plain": [
       " [1] \"android\"              \"anyon\"                \"app\"                 \n",
       " [4] \"appl\"                 \"back\"                 \"batteri\"             \n",
       " [7] \"better\"               \"buy\"                  \"can\"                 \n",
       "[10] \"cant\"                 \"come\"                 \"dont\"                \n",
       "[13] \"fingerprint\"          \"freak\"                \"get\"                 \n",
       "[16] \"googl\"                \"ios7\"                 \"ipad\"                \n",
       "[19] \"iphon\"                \"iphone5\"              \"iphone5c\"            \n",
       "[22] \"ipod\"                 \"ipodplayerpromo\"      \"itun\"                \n",
       "[25] \"just\"                 \"like\"                 \"lol\"                 \n",
       "[28] \"look\"                 \"love\"                 \"make\"                \n",
       "[31] \"market\"               \"microsoft\"            \"need\"                \n",
       "[34] \"new\"                  \"now\"                  \"one\"                 \n",
       "[37] \"phone\"                \"pleas\"                \"promo\"               \n",
       "[40] \"promoipodplayerpromo\" \"realli\"               \"releas\"              \n",
       "[43] \"samsung\"              \"say\"                  \"store\"               \n",
       "[46] \"thank\"                \"think\"                \"time\"                \n",
       "[49] \"twitter\"              \"updat\"                \"use\"                 \n",
       "[52] \"via\"                  \"want\"                 \"well\"                \n",
       "[55] \"will\"                 \"work\"                "
      ]
     },
     "metadata": {},
     "output_type": "display_data"
    }
   ],
   "source": [
    "# Check for sparsity\n",
    "findFreqTerms(frequencies, lowfreq=20)"
   ]
  },
  {
   "cell_type": "code",
   "execution_count": 17,
   "metadata": {},
   "outputs": [
    {
     "data": {
      "text/plain": [
       "<<DocumentTermMatrix (documents: 1181, terms: 309)>>\n",
       "Non-/sparse entries: 4669/360260\n",
       "Sparsity           : 99%\n",
       "Maximal term length: 20\n",
       "Weighting          : term frequency (tf)"
      ]
     },
     "metadata": {},
     "output_type": "display_data"
    }
   ],
   "source": [
    "# Remove sparse terms\n",
    "sparse = removeSparseTerms(frequencies, 0.995)\n",
    "sparse"
   ]
  },
  {
   "cell_type": "markdown",
   "metadata": {},
   "source": [
    "Now let's convert the sparse matrix into a data frame that we'll be able to use for our predictive models."
   ]
  },
  {
   "cell_type": "code",
   "execution_count": 18,
   "metadata": {},
   "outputs": [
    {
     "data": {
      "text/html": [
       "<table>\n",
       "<caption>A data.frame: 6 × 309</caption>\n",
       "<thead>\n",
       "\t<tr><th></th><th scope=col>244tsuyoponzu</th><th scope=col>7evenstarz</th><th scope=col>actual</th><th scope=col>add</th><th scope=col>alreadi</th><th scope=col>alway</th><th scope=col>amaz</th><th scope=col>amazon</th><th scope=col>android</th><th scope=col>announc</th><th scope=col>⋯</th><th scope=col>world</th><th scope=col>worst</th><th scope=col>wow</th><th scope=col>wtf</th><th scope=col>yall</th><th scope=col>year</th><th scope=col>yes</th><th scope=col>yet</th><th scope=col>yooo</th><th scope=col>your</th></tr>\n",
       "\t<tr><th></th><th scope=col>&lt;dbl&gt;</th><th scope=col>&lt;dbl&gt;</th><th scope=col>&lt;dbl&gt;</th><th scope=col>&lt;dbl&gt;</th><th scope=col>&lt;dbl&gt;</th><th scope=col>&lt;dbl&gt;</th><th scope=col>&lt;dbl&gt;</th><th scope=col>&lt;dbl&gt;</th><th scope=col>&lt;dbl&gt;</th><th scope=col>&lt;dbl&gt;</th><th scope=col>⋯</th><th scope=col>&lt;dbl&gt;</th><th scope=col>&lt;dbl&gt;</th><th scope=col>&lt;dbl&gt;</th><th scope=col>&lt;dbl&gt;</th><th scope=col>&lt;dbl&gt;</th><th scope=col>&lt;dbl&gt;</th><th scope=col>&lt;dbl&gt;</th><th scope=col>&lt;dbl&gt;</th><th scope=col>&lt;dbl&gt;</th><th scope=col>&lt;dbl&gt;</th></tr>\n",
       "</thead>\n",
       "<tbody>\n",
       "\t<tr><th scope=row>character.0.</th><td>0</td><td>0</td><td>0</td><td>0</td><td>0</td><td>0</td><td>0</td><td>0</td><td>0</td><td>0</td><td>⋯</td><td>0</td><td>0</td><td>0</td><td>0</td><td>0</td><td>0</td><td>0</td><td>0</td><td>0</td><td>0</td></tr>\n",
       "\t<tr><th scope=row>character.0..1</th><td>0</td><td>0</td><td>0</td><td>0</td><td>0</td><td>0</td><td>0</td><td>0</td><td>0</td><td>0</td><td>⋯</td><td>0</td><td>0</td><td>0</td><td>0</td><td>0</td><td>0</td><td>0</td><td>0</td><td>0</td><td>0</td></tr>\n",
       "\t<tr><th scope=row>character.0..2</th><td>0</td><td>0</td><td>0</td><td>0</td><td>0</td><td>0</td><td>0</td><td>0</td><td>0</td><td>0</td><td>⋯</td><td>0</td><td>0</td><td>0</td><td>0</td><td>0</td><td>0</td><td>0</td><td>0</td><td>0</td><td>0</td></tr>\n",
       "\t<tr><th scope=row>character.0..3</th><td>0</td><td>0</td><td>0</td><td>0</td><td>0</td><td>0</td><td>0</td><td>0</td><td>0</td><td>0</td><td>⋯</td><td>0</td><td>0</td><td>0</td><td>0</td><td>0</td><td>0</td><td>0</td><td>0</td><td>0</td><td>0</td></tr>\n",
       "\t<tr><th scope=row>character.0..4</th><td>0</td><td>0</td><td>0</td><td>0</td><td>0</td><td>0</td><td>0</td><td>0</td><td>0</td><td>0</td><td>⋯</td><td>0</td><td>0</td><td>0</td><td>0</td><td>0</td><td>0</td><td>0</td><td>0</td><td>0</td><td>0</td></tr>\n",
       "\t<tr><th scope=row>character.0..5</th><td>0</td><td>0</td><td>0</td><td>0</td><td>0</td><td>0</td><td>1</td><td>0</td><td>0</td><td>0</td><td>⋯</td><td>0</td><td>0</td><td>0</td><td>0</td><td>0</td><td>0</td><td>0</td><td>0</td><td>0</td><td>0</td></tr>\n",
       "</tbody>\n",
       "</table>\n"
      ],
      "text/latex": [
       "A data.frame: 6 × 309\n",
       "\\begin{tabular}{r|lllllllllllllllllllll}\n",
       "  & 244tsuyoponzu & 7evenstarz & actual & add & alreadi & alway & amaz & amazon & android & announc & ⋯ & world & worst & wow & wtf & yall & year & yes & yet & yooo & your\\\\\n",
       "  & <dbl> & <dbl> & <dbl> & <dbl> & <dbl> & <dbl> & <dbl> & <dbl> & <dbl> & <dbl> & ⋯ & <dbl> & <dbl> & <dbl> & <dbl> & <dbl> & <dbl> & <dbl> & <dbl> & <dbl> & <dbl>\\\\\n",
       "\\hline\n",
       "\tcharacter.0. & 0 & 0 & 0 & 0 & 0 & 0 & 0 & 0 & 0 & 0 & ⋯ & 0 & 0 & 0 & 0 & 0 & 0 & 0 & 0 & 0 & 0\\\\\n",
       "\tcharacter.0..1 & 0 & 0 & 0 & 0 & 0 & 0 & 0 & 0 & 0 & 0 & ⋯ & 0 & 0 & 0 & 0 & 0 & 0 & 0 & 0 & 0 & 0\\\\\n",
       "\tcharacter.0..2 & 0 & 0 & 0 & 0 & 0 & 0 & 0 & 0 & 0 & 0 & ⋯ & 0 & 0 & 0 & 0 & 0 & 0 & 0 & 0 & 0 & 0\\\\\n",
       "\tcharacter.0..3 & 0 & 0 & 0 & 0 & 0 & 0 & 0 & 0 & 0 & 0 & ⋯ & 0 & 0 & 0 & 0 & 0 & 0 & 0 & 0 & 0 & 0\\\\\n",
       "\tcharacter.0..4 & 0 & 0 & 0 & 0 & 0 & 0 & 0 & 0 & 0 & 0 & ⋯ & 0 & 0 & 0 & 0 & 0 & 0 & 0 & 0 & 0 & 0\\\\\n",
       "\tcharacter.0..5 & 0 & 0 & 0 & 0 & 0 & 0 & 1 & 0 & 0 & 0 & ⋯ & 0 & 0 & 0 & 0 & 0 & 0 & 0 & 0 & 0 & 0\\\\\n",
       "\\end{tabular}\n"
      ],
      "text/markdown": [
       "\n",
       "A data.frame: 6 × 309\n",
       "\n",
       "| <!--/--> | 244tsuyoponzu &lt;dbl&gt; | 7evenstarz &lt;dbl&gt; | actual &lt;dbl&gt; | add &lt;dbl&gt; | alreadi &lt;dbl&gt; | alway &lt;dbl&gt; | amaz &lt;dbl&gt; | amazon &lt;dbl&gt; | android &lt;dbl&gt; | announc &lt;dbl&gt; | ⋯ ⋯ | world &lt;dbl&gt; | worst &lt;dbl&gt; | wow &lt;dbl&gt; | wtf &lt;dbl&gt; | yall &lt;dbl&gt; | year &lt;dbl&gt; | yes &lt;dbl&gt; | yet &lt;dbl&gt; | yooo &lt;dbl&gt; | your &lt;dbl&gt; |\n",
       "|---|---|---|---|---|---|---|---|---|---|---|---|---|---|---|---|---|---|---|---|---|---|\n",
       "| character.0. | 0 | 0 | 0 | 0 | 0 | 0 | 0 | 0 | 0 | 0 | ⋯ | 0 | 0 | 0 | 0 | 0 | 0 | 0 | 0 | 0 | 0 |\n",
       "| character.0..1 | 0 | 0 | 0 | 0 | 0 | 0 | 0 | 0 | 0 | 0 | ⋯ | 0 | 0 | 0 | 0 | 0 | 0 | 0 | 0 | 0 | 0 |\n",
       "| character.0..2 | 0 | 0 | 0 | 0 | 0 | 0 | 0 | 0 | 0 | 0 | ⋯ | 0 | 0 | 0 | 0 | 0 | 0 | 0 | 0 | 0 | 0 |\n",
       "| character.0..3 | 0 | 0 | 0 | 0 | 0 | 0 | 0 | 0 | 0 | 0 | ⋯ | 0 | 0 | 0 | 0 | 0 | 0 | 0 | 0 | 0 | 0 |\n",
       "| character.0..4 | 0 | 0 | 0 | 0 | 0 | 0 | 0 | 0 | 0 | 0 | ⋯ | 0 | 0 | 0 | 0 | 0 | 0 | 0 | 0 | 0 | 0 |\n",
       "| character.0..5 | 0 | 0 | 0 | 0 | 0 | 0 | 1 | 0 | 0 | 0 | ⋯ | 0 | 0 | 0 | 0 | 0 | 0 | 0 | 0 | 0 | 0 |\n",
       "\n"
      ],
      "text/plain": [
       "               244tsuyoponzu 7evenstarz actual add alreadi alway amaz amazon\n",
       "character.0.   0             0          0      0   0       0     0    0     \n",
       "character.0..1 0             0          0      0   0       0     0    0     \n",
       "character.0..2 0             0          0      0   0       0     0    0     \n",
       "character.0..3 0             0          0      0   0       0     0    0     \n",
       "character.0..4 0             0          0      0   0       0     0    0     \n",
       "character.0..5 0             0          0      0   0       0     1    0     \n",
       "               android announc <U+22EF>        world worst wow wtf yall year yes yet\n",
       "character.0.   0       0       <U+22EF> 0     0     0   0   0    0    0   0  \n",
       "character.0..1 0       0       <U+22EF> 0     0     0   0   0    0    0   0  \n",
       "character.0..2 0       0       <U+22EF> 0     0     0   0   0    0    0   0  \n",
       "character.0..3 0       0       <U+22EF> 0     0     0   0   0    0    0   0  \n",
       "character.0..4 0       0       <U+22EF> 0     0     0   0   0    0    0   0  \n",
       "character.0..5 0       0       <U+22EF> 0     0     0   0   0    0    0   0  \n",
       "               yooo your\n",
       "character.0.   0    0   \n",
       "character.0..1 0    0   \n",
       "character.0..2 0    0   \n",
       "character.0..3 0    0   \n",
       "character.0..4 0    0   \n",
       "character.0..5 0    0   "
      ]
     },
     "metadata": {},
     "output_type": "display_data"
    }
   ],
   "source": [
    "# Convert to a data frame\n",
    "tweetsSparse = as.data.frame(as.matrix(sparse))\n",
    "head(tweetsSparse)"
   ]
  },
  {
   "cell_type": "markdown",
   "metadata": {},
   "source": [
    "Since R struggles with variable names that start with a number, and we probably have some words here that start with a number,\n",
    "let's run the *make.names* function to make sure all of our words are appropriate variable names."
   ]
  },
  {
   "cell_type": "code",
   "execution_count": 19,
   "metadata": {},
   "outputs": [
    {
     "data": {
      "text/html": [
       "<table>\n",
       "<caption>A data.frame: 6 × 309</caption>\n",
       "<thead>\n",
       "\t<tr><th></th><th scope=col>X244tsuyoponzu</th><th scope=col>X7evenstarz</th><th scope=col>actual</th><th scope=col>add</th><th scope=col>alreadi</th><th scope=col>alway</th><th scope=col>amaz</th><th scope=col>amazon</th><th scope=col>android</th><th scope=col>announc</th><th scope=col>⋯</th><th scope=col>world</th><th scope=col>worst</th><th scope=col>wow</th><th scope=col>wtf</th><th scope=col>yall</th><th scope=col>year</th><th scope=col>yes</th><th scope=col>yet</th><th scope=col>yooo</th><th scope=col>your</th></tr>\n",
       "\t<tr><th></th><th scope=col>&lt;dbl&gt;</th><th scope=col>&lt;dbl&gt;</th><th scope=col>&lt;dbl&gt;</th><th scope=col>&lt;dbl&gt;</th><th scope=col>&lt;dbl&gt;</th><th scope=col>&lt;dbl&gt;</th><th scope=col>&lt;dbl&gt;</th><th scope=col>&lt;dbl&gt;</th><th scope=col>&lt;dbl&gt;</th><th scope=col>&lt;dbl&gt;</th><th scope=col>⋯</th><th scope=col>&lt;dbl&gt;</th><th scope=col>&lt;dbl&gt;</th><th scope=col>&lt;dbl&gt;</th><th scope=col>&lt;dbl&gt;</th><th scope=col>&lt;dbl&gt;</th><th scope=col>&lt;dbl&gt;</th><th scope=col>&lt;dbl&gt;</th><th scope=col>&lt;dbl&gt;</th><th scope=col>&lt;dbl&gt;</th><th scope=col>&lt;dbl&gt;</th></tr>\n",
       "</thead>\n",
       "<tbody>\n",
       "\t<tr><th scope=row>character.0.</th><td>0</td><td>0</td><td>0</td><td>0</td><td>0</td><td>0</td><td>0</td><td>0</td><td>0</td><td>0</td><td>⋯</td><td>0</td><td>0</td><td>0</td><td>0</td><td>0</td><td>0</td><td>0</td><td>0</td><td>0</td><td>0</td></tr>\n",
       "\t<tr><th scope=row>character.0..1</th><td>0</td><td>0</td><td>0</td><td>0</td><td>0</td><td>0</td><td>0</td><td>0</td><td>0</td><td>0</td><td>⋯</td><td>0</td><td>0</td><td>0</td><td>0</td><td>0</td><td>0</td><td>0</td><td>0</td><td>0</td><td>0</td></tr>\n",
       "\t<tr><th scope=row>character.0..2</th><td>0</td><td>0</td><td>0</td><td>0</td><td>0</td><td>0</td><td>0</td><td>0</td><td>0</td><td>0</td><td>⋯</td><td>0</td><td>0</td><td>0</td><td>0</td><td>0</td><td>0</td><td>0</td><td>0</td><td>0</td><td>0</td></tr>\n",
       "\t<tr><th scope=row>character.0..3</th><td>0</td><td>0</td><td>0</td><td>0</td><td>0</td><td>0</td><td>0</td><td>0</td><td>0</td><td>0</td><td>⋯</td><td>0</td><td>0</td><td>0</td><td>0</td><td>0</td><td>0</td><td>0</td><td>0</td><td>0</td><td>0</td></tr>\n",
       "\t<tr><th scope=row>character.0..4</th><td>0</td><td>0</td><td>0</td><td>0</td><td>0</td><td>0</td><td>0</td><td>0</td><td>0</td><td>0</td><td>⋯</td><td>0</td><td>0</td><td>0</td><td>0</td><td>0</td><td>0</td><td>0</td><td>0</td><td>0</td><td>0</td></tr>\n",
       "\t<tr><th scope=row>character.0..5</th><td>0</td><td>0</td><td>0</td><td>0</td><td>0</td><td>0</td><td>1</td><td>0</td><td>0</td><td>0</td><td>⋯</td><td>0</td><td>0</td><td>0</td><td>0</td><td>0</td><td>0</td><td>0</td><td>0</td><td>0</td><td>0</td></tr>\n",
       "</tbody>\n",
       "</table>\n"
      ],
      "text/latex": [
       "A data.frame: 6 × 309\n",
       "\\begin{tabular}{r|lllllllllllllllllllll}\n",
       "  & X244tsuyoponzu & X7evenstarz & actual & add & alreadi & alway & amaz & amazon & android & announc & ⋯ & world & worst & wow & wtf & yall & year & yes & yet & yooo & your\\\\\n",
       "  & <dbl> & <dbl> & <dbl> & <dbl> & <dbl> & <dbl> & <dbl> & <dbl> & <dbl> & <dbl> & ⋯ & <dbl> & <dbl> & <dbl> & <dbl> & <dbl> & <dbl> & <dbl> & <dbl> & <dbl> & <dbl>\\\\\n",
       "\\hline\n",
       "\tcharacter.0. & 0 & 0 & 0 & 0 & 0 & 0 & 0 & 0 & 0 & 0 & ⋯ & 0 & 0 & 0 & 0 & 0 & 0 & 0 & 0 & 0 & 0\\\\\n",
       "\tcharacter.0..1 & 0 & 0 & 0 & 0 & 0 & 0 & 0 & 0 & 0 & 0 & ⋯ & 0 & 0 & 0 & 0 & 0 & 0 & 0 & 0 & 0 & 0\\\\\n",
       "\tcharacter.0..2 & 0 & 0 & 0 & 0 & 0 & 0 & 0 & 0 & 0 & 0 & ⋯ & 0 & 0 & 0 & 0 & 0 & 0 & 0 & 0 & 0 & 0\\\\\n",
       "\tcharacter.0..3 & 0 & 0 & 0 & 0 & 0 & 0 & 0 & 0 & 0 & 0 & ⋯ & 0 & 0 & 0 & 0 & 0 & 0 & 0 & 0 & 0 & 0\\\\\n",
       "\tcharacter.0..4 & 0 & 0 & 0 & 0 & 0 & 0 & 0 & 0 & 0 & 0 & ⋯ & 0 & 0 & 0 & 0 & 0 & 0 & 0 & 0 & 0 & 0\\\\\n",
       "\tcharacter.0..5 & 0 & 0 & 0 & 0 & 0 & 0 & 1 & 0 & 0 & 0 & ⋯ & 0 & 0 & 0 & 0 & 0 & 0 & 0 & 0 & 0 & 0\\\\\n",
       "\\end{tabular}\n"
      ],
      "text/markdown": [
       "\n",
       "A data.frame: 6 × 309\n",
       "\n",
       "| <!--/--> | X244tsuyoponzu &lt;dbl&gt; | X7evenstarz &lt;dbl&gt; | actual &lt;dbl&gt; | add &lt;dbl&gt; | alreadi &lt;dbl&gt; | alway &lt;dbl&gt; | amaz &lt;dbl&gt; | amazon &lt;dbl&gt; | android &lt;dbl&gt; | announc &lt;dbl&gt; | ⋯ ⋯ | world &lt;dbl&gt; | worst &lt;dbl&gt; | wow &lt;dbl&gt; | wtf &lt;dbl&gt; | yall &lt;dbl&gt; | year &lt;dbl&gt; | yes &lt;dbl&gt; | yet &lt;dbl&gt; | yooo &lt;dbl&gt; | your &lt;dbl&gt; |\n",
       "|---|---|---|---|---|---|---|---|---|---|---|---|---|---|---|---|---|---|---|---|---|---|\n",
       "| character.0. | 0 | 0 | 0 | 0 | 0 | 0 | 0 | 0 | 0 | 0 | ⋯ | 0 | 0 | 0 | 0 | 0 | 0 | 0 | 0 | 0 | 0 |\n",
       "| character.0..1 | 0 | 0 | 0 | 0 | 0 | 0 | 0 | 0 | 0 | 0 | ⋯ | 0 | 0 | 0 | 0 | 0 | 0 | 0 | 0 | 0 | 0 |\n",
       "| character.0..2 | 0 | 0 | 0 | 0 | 0 | 0 | 0 | 0 | 0 | 0 | ⋯ | 0 | 0 | 0 | 0 | 0 | 0 | 0 | 0 | 0 | 0 |\n",
       "| character.0..3 | 0 | 0 | 0 | 0 | 0 | 0 | 0 | 0 | 0 | 0 | ⋯ | 0 | 0 | 0 | 0 | 0 | 0 | 0 | 0 | 0 | 0 |\n",
       "| character.0..4 | 0 | 0 | 0 | 0 | 0 | 0 | 0 | 0 | 0 | 0 | ⋯ | 0 | 0 | 0 | 0 | 0 | 0 | 0 | 0 | 0 | 0 |\n",
       "| character.0..5 | 0 | 0 | 0 | 0 | 0 | 0 | 1 | 0 | 0 | 0 | ⋯ | 0 | 0 | 0 | 0 | 0 | 0 | 0 | 0 | 0 | 0 |\n",
       "\n"
      ],
      "text/plain": [
       "               X244tsuyoponzu X7evenstarz actual add alreadi alway amaz amazon\n",
       "character.0.   0              0           0      0   0       0     0    0     \n",
       "character.0..1 0              0           0      0   0       0     0    0     \n",
       "character.0..2 0              0           0      0   0       0     0    0     \n",
       "character.0..3 0              0           0      0   0       0     0    0     \n",
       "character.0..4 0              0           0      0   0       0     0    0     \n",
       "character.0..5 0              0           0      0   0       0     1    0     \n",
       "               android announc <U+22EF>        world worst wow wtf yall year yes yet\n",
       "character.0.   0       0       <U+22EF> 0     0     0   0   0    0    0   0  \n",
       "character.0..1 0       0       <U+22EF> 0     0     0   0   0    0    0   0  \n",
       "character.0..2 0       0       <U+22EF> 0     0     0   0   0    0    0   0  \n",
       "character.0..3 0       0       <U+22EF> 0     0     0   0   0    0    0   0  \n",
       "character.0..4 0       0       <U+22EF> 0     0     0   0   0    0    0   0  \n",
       "character.0..5 0       0       <U+22EF> 0     0     0   0   0    0    0   0  \n",
       "               yooo your\n",
       "character.0.   0    0   \n",
       "character.0..1 0    0   \n",
       "character.0..2 0    0   \n",
       "character.0..3 0    0   \n",
       "character.0..4 0    0   \n",
       "character.0..5 0    0   "
      ]
     },
     "metadata": {},
     "output_type": "display_data"
    }
   ],
   "source": [
    "# Make all variable names R-friendly\n",
    "colnames(tweetsSparse) = make.names(colnames(tweetsSparse))\n",
    "\n",
    "head(tweetsSparse)"
   ]
  },
  {
   "cell_type": "markdown",
   "metadata": {},
   "source": [
    "This will just convert our variable names to make sure they're all appropriate names before we build our predictive models.\n",
    "\n",
    "Now let's add our dependent variable to this data set."
   ]
  },
  {
   "cell_type": "code",
   "execution_count": 20,
   "metadata": {},
   "outputs": [
    {
     "data": {
      "text/html": [
       "<table>\n",
       "<caption>A data.frame: 6 × 310</caption>\n",
       "<thead>\n",
       "\t<tr><th></th><th scope=col>X244tsuyoponzu</th><th scope=col>X7evenstarz</th><th scope=col>actual</th><th scope=col>add</th><th scope=col>alreadi</th><th scope=col>alway</th><th scope=col>amaz</th><th scope=col>amazon</th><th scope=col>android</th><th scope=col>announc</th><th scope=col>⋯</th><th scope=col>worst</th><th scope=col>wow</th><th scope=col>wtf</th><th scope=col>yall</th><th scope=col>year</th><th scope=col>yes</th><th scope=col>yet</th><th scope=col>yooo</th><th scope=col>your</th><th scope=col>Negative</th></tr>\n",
       "\t<tr><th></th><th scope=col>&lt;dbl&gt;</th><th scope=col>&lt;dbl&gt;</th><th scope=col>&lt;dbl&gt;</th><th scope=col>&lt;dbl&gt;</th><th scope=col>&lt;dbl&gt;</th><th scope=col>&lt;dbl&gt;</th><th scope=col>&lt;dbl&gt;</th><th scope=col>&lt;dbl&gt;</th><th scope=col>&lt;dbl&gt;</th><th scope=col>&lt;dbl&gt;</th><th scope=col>⋯</th><th scope=col>&lt;dbl&gt;</th><th scope=col>&lt;dbl&gt;</th><th scope=col>&lt;dbl&gt;</th><th scope=col>&lt;dbl&gt;</th><th scope=col>&lt;dbl&gt;</th><th scope=col>&lt;dbl&gt;</th><th scope=col>&lt;dbl&gt;</th><th scope=col>&lt;dbl&gt;</th><th scope=col>&lt;dbl&gt;</th><th scope=col>&lt;fct&gt;</th></tr>\n",
       "</thead>\n",
       "<tbody>\n",
       "\t<tr><th scope=row>character.0.</th><td>0</td><td>0</td><td>0</td><td>0</td><td>0</td><td>0</td><td>0</td><td>0</td><td>0</td><td>0</td><td>⋯</td><td>0</td><td>0</td><td>0</td><td>0</td><td>0</td><td>0</td><td>0</td><td>0</td><td>0</td><td>FALSE</td></tr>\n",
       "\t<tr><th scope=row>character.0..1</th><td>0</td><td>0</td><td>0</td><td>0</td><td>0</td><td>0</td><td>0</td><td>0</td><td>0</td><td>0</td><td>⋯</td><td>0</td><td>0</td><td>0</td><td>0</td><td>0</td><td>0</td><td>0</td><td>0</td><td>0</td><td>FALSE</td></tr>\n",
       "\t<tr><th scope=row>character.0..2</th><td>0</td><td>0</td><td>0</td><td>0</td><td>0</td><td>0</td><td>0</td><td>0</td><td>0</td><td>0</td><td>⋯</td><td>0</td><td>0</td><td>0</td><td>0</td><td>0</td><td>0</td><td>0</td><td>0</td><td>0</td><td>FALSE</td></tr>\n",
       "\t<tr><th scope=row>character.0..3</th><td>0</td><td>0</td><td>0</td><td>0</td><td>0</td><td>0</td><td>0</td><td>0</td><td>0</td><td>0</td><td>⋯</td><td>0</td><td>0</td><td>0</td><td>0</td><td>0</td><td>0</td><td>0</td><td>0</td><td>0</td><td>FALSE</td></tr>\n",
       "\t<tr><th scope=row>character.0..4</th><td>0</td><td>0</td><td>0</td><td>0</td><td>0</td><td>0</td><td>0</td><td>0</td><td>0</td><td>0</td><td>⋯</td><td>0</td><td>0</td><td>0</td><td>0</td><td>0</td><td>0</td><td>0</td><td>0</td><td>0</td><td>FALSE</td></tr>\n",
       "\t<tr><th scope=row>character.0..5</th><td>0</td><td>0</td><td>0</td><td>0</td><td>0</td><td>0</td><td>1</td><td>0</td><td>0</td><td>0</td><td>⋯</td><td>0</td><td>0</td><td>0</td><td>0</td><td>0</td><td>0</td><td>0</td><td>0</td><td>0</td><td>FALSE</td></tr>\n",
       "</tbody>\n",
       "</table>\n"
      ],
      "text/latex": [
       "A data.frame: 6 × 310\n",
       "\\begin{tabular}{r|lllllllllllllllllllll}\n",
       "  & X244tsuyoponzu & X7evenstarz & actual & add & alreadi & alway & amaz & amazon & android & announc & ⋯ & worst & wow & wtf & yall & year & yes & yet & yooo & your & Negative\\\\\n",
       "  & <dbl> & <dbl> & <dbl> & <dbl> & <dbl> & <dbl> & <dbl> & <dbl> & <dbl> & <dbl> & ⋯ & <dbl> & <dbl> & <dbl> & <dbl> & <dbl> & <dbl> & <dbl> & <dbl> & <dbl> & <fct>\\\\\n",
       "\\hline\n",
       "\tcharacter.0. & 0 & 0 & 0 & 0 & 0 & 0 & 0 & 0 & 0 & 0 & ⋯ & 0 & 0 & 0 & 0 & 0 & 0 & 0 & 0 & 0 & FALSE\\\\\n",
       "\tcharacter.0..1 & 0 & 0 & 0 & 0 & 0 & 0 & 0 & 0 & 0 & 0 & ⋯ & 0 & 0 & 0 & 0 & 0 & 0 & 0 & 0 & 0 & FALSE\\\\\n",
       "\tcharacter.0..2 & 0 & 0 & 0 & 0 & 0 & 0 & 0 & 0 & 0 & 0 & ⋯ & 0 & 0 & 0 & 0 & 0 & 0 & 0 & 0 & 0 & FALSE\\\\\n",
       "\tcharacter.0..3 & 0 & 0 & 0 & 0 & 0 & 0 & 0 & 0 & 0 & 0 & ⋯ & 0 & 0 & 0 & 0 & 0 & 0 & 0 & 0 & 0 & FALSE\\\\\n",
       "\tcharacter.0..4 & 0 & 0 & 0 & 0 & 0 & 0 & 0 & 0 & 0 & 0 & ⋯ & 0 & 0 & 0 & 0 & 0 & 0 & 0 & 0 & 0 & FALSE\\\\\n",
       "\tcharacter.0..5 & 0 & 0 & 0 & 0 & 0 & 0 & 1 & 0 & 0 & 0 & ⋯ & 0 & 0 & 0 & 0 & 0 & 0 & 0 & 0 & 0 & FALSE\\\\\n",
       "\\end{tabular}\n"
      ],
      "text/markdown": [
       "\n",
       "A data.frame: 6 × 310\n",
       "\n",
       "| <!--/--> | X244tsuyoponzu &lt;dbl&gt; | X7evenstarz &lt;dbl&gt; | actual &lt;dbl&gt; | add &lt;dbl&gt; | alreadi &lt;dbl&gt; | alway &lt;dbl&gt; | amaz &lt;dbl&gt; | amazon &lt;dbl&gt; | android &lt;dbl&gt; | announc &lt;dbl&gt; | ⋯ ⋯ | worst &lt;dbl&gt; | wow &lt;dbl&gt; | wtf &lt;dbl&gt; | yall &lt;dbl&gt; | year &lt;dbl&gt; | yes &lt;dbl&gt; | yet &lt;dbl&gt; | yooo &lt;dbl&gt; | your &lt;dbl&gt; | Negative &lt;fct&gt; |\n",
       "|---|---|---|---|---|---|---|---|---|---|---|---|---|---|---|---|---|---|---|---|---|---|\n",
       "| character.0. | 0 | 0 | 0 | 0 | 0 | 0 | 0 | 0 | 0 | 0 | ⋯ | 0 | 0 | 0 | 0 | 0 | 0 | 0 | 0 | 0 | FALSE |\n",
       "| character.0..1 | 0 | 0 | 0 | 0 | 0 | 0 | 0 | 0 | 0 | 0 | ⋯ | 0 | 0 | 0 | 0 | 0 | 0 | 0 | 0 | 0 | FALSE |\n",
       "| character.0..2 | 0 | 0 | 0 | 0 | 0 | 0 | 0 | 0 | 0 | 0 | ⋯ | 0 | 0 | 0 | 0 | 0 | 0 | 0 | 0 | 0 | FALSE |\n",
       "| character.0..3 | 0 | 0 | 0 | 0 | 0 | 0 | 0 | 0 | 0 | 0 | ⋯ | 0 | 0 | 0 | 0 | 0 | 0 | 0 | 0 | 0 | FALSE |\n",
       "| character.0..4 | 0 | 0 | 0 | 0 | 0 | 0 | 0 | 0 | 0 | 0 | ⋯ | 0 | 0 | 0 | 0 | 0 | 0 | 0 | 0 | 0 | FALSE |\n",
       "| character.0..5 | 0 | 0 | 0 | 0 | 0 | 0 | 1 | 0 | 0 | 0 | ⋯ | 0 | 0 | 0 | 0 | 0 | 0 | 0 | 0 | 0 | FALSE |\n",
       "\n"
      ],
      "text/plain": [
       "               X244tsuyoponzu X7evenstarz actual add alreadi alway amaz amazon\n",
       "character.0.   0              0           0      0   0       0     0    0     \n",
       "character.0..1 0              0           0      0   0       0     0    0     \n",
       "character.0..2 0              0           0      0   0       0     0    0     \n",
       "character.0..3 0              0           0      0   0       0     0    0     \n",
       "character.0..4 0              0           0      0   0       0     0    0     \n",
       "character.0..5 0              0           0      0   0       0     1    0     \n",
       "               android announc <U+22EF>        worst wow wtf yall year yes yet yooo\n",
       "character.0.   0       0       <U+22EF> 0     0   0   0    0    0   0   0   \n",
       "character.0..1 0       0       <U+22EF> 0     0   0   0    0    0   0   0   \n",
       "character.0..2 0       0       <U+22EF> 0     0   0   0    0    0   0   0   \n",
       "character.0..3 0       0       <U+22EF> 0     0   0   0    0    0   0   0   \n",
       "character.0..4 0       0       <U+22EF> 0     0   0   0    0    0   0   0   \n",
       "character.0..5 0       0       <U+22EF> 0     0   0   0    0    0   0   0   \n",
       "               your Negative\n",
       "character.0.   0    FALSE   \n",
       "character.0..1 0    FALSE   \n",
       "character.0..2 0    FALSE   \n",
       "character.0..3 0    FALSE   \n",
       "character.0..4 0    FALSE   \n",
       "character.0..5 0    FALSE   "
      ]
     },
     "metadata": {},
     "output_type": "display_data"
    }
   ],
   "source": [
    "# Add dependent variable\n",
    "tweetsSparse$Negative = tweets$Negative\n",
    "\n",
    "head(tweetsSparse)"
   ]
  },
  {
   "cell_type": "markdown",
   "metadata": {},
   "source": [
    "### Split the data"
   ]
  },
  {
   "cell_type": "code",
   "execution_count": 21,
   "metadata": {},
   "outputs": [],
   "source": [
    "library(caTools)"
   ]
  },
  {
   "cell_type": "markdown",
   "metadata": {},
   "source": [
    "Let's split our data into a training set and a testing set, putting 70% of the data in the training set."
   ]
  },
  {
   "cell_type": "code",
   "execution_count": 22,
   "metadata": {},
   "outputs": [],
   "source": [
    "set.seed(123)\n",
    "\n",
    "split = sample.split(tweetsSparse$Negative, SplitRatio = 0.7)\n",
    "\n",
    "trainSparse = subset(tweetsSparse, split==TRUE)\n",
    "testSparse = subset(tweetsSparse, split==FALSE)"
   ]
  },
  {
   "cell_type": "markdown",
   "metadata": {},
   "source": [
    "### Build a CART model"
   ]
  },
  {
   "cell_type": "code",
   "execution_count": 23,
   "metadata": {},
   "outputs": [],
   "source": [
    "library(rpart)\n",
    "library(rpart.plot)"
   ]
  },
  {
   "cell_type": "code",
   "execution_count": 24,
   "metadata": {},
   "outputs": [
    {
     "data": {
      "image/png": "[encoded data removed]",
      "text/plain": [
       "plot without title"
      ]
     },
     "metadata": {
      "image/png": {
       "height": 420,
       "width": 420
      },
      "text/plain": {
       "height": 420,
       "width": 420
      }
     },
     "output_type": "display_data"
    }
   ],
   "source": [
    "# Classification and Regression Trees (CART)\n",
    "tweetCART = rpart(Negative ~ ., data=trainSparse, method=\"class\")\n",
    "\n",
    "# Plot Tree\n",
    "prp(tweetCART)"
   ]
  },
  {
   "cell_type": "markdown",
   "metadata": {},
   "source": [
    "Our tree says that if the word \"freak\" is in the tweet, then predict TRUE, or negative sentiment. If the word \"freak\" is not in the tweet, but the word \"hate\" is, again predict TRUE. If neither of these two words are in the tweet, but the word \"wtf\" is, also predict TRUE, or negative sentiment. If none of these three words are in the tweet, then predict FALSE, or non-negative sentiment."
   ]
  },
  {
   "cell_type": "markdown",
   "metadata": {},
   "source": [
    "### Evaluate the performance of the model"
   ]
  },
  {
   "cell_type": "code",
   "execution_count": 25,
   "metadata": {},
   "outputs": [
    {
     "data": {
      "text/plain": [
       "       predictCART\n",
       "        FALSE TRUE\n",
       "  FALSE   294    6\n",
       "  TRUE     37   18"
      ]
     },
     "metadata": {},
     "output_type": "display_data"
    }
   ],
   "source": [
    "# Make Predictions\n",
    "predictCART = predict(tweetCART, newdata=testSparse, type=\"class\")\n",
    "\n",
    "# Confusion Matrix\n",
    "cmCA = table(testSparse$Negative, predictCART)\n",
    "cmCA"
   ]
  },
  {
   "cell_type": "markdown",
   "metadata": {},
   "source": [
    "The rows are labeled with the actual outcome, and the columns are labeled with the predicted outcome.\n",
    "\n",
    "                      Predict 0       Predict 1\n",
    "        Actual 0    True Negative   False Positive\n",
    "        Actual 1    False Negative  True Positive\n",
    "\n",
    "        cmCA = [1][3]\n",
    "               [2][4]"
   ]
  },
  {
   "cell_type": "code",
   "execution_count": 26,
   "metadata": {},
   "outputs": [
    {
     "data": {
      "text/html": [
       "'Accuracy CART: 0.8789'"
      ],
      "text/latex": [
       "'Accuracy CART: 0.8789'"
      ],
      "text/markdown": [
       "'Accuracy CART: 0.8789'"
      ],
      "text/plain": [
       "[1] \"Accuracy CART: 0.8789\""
      ]
     },
     "metadata": {},
     "output_type": "display_data"
    }
   ],
   "source": [
    "# Compute Classification and Regression Trees Accuracy\n",
    "accurCA = sum(diag(cmCA))/sum(cmCA)\n",
    "paste(\"Accuracy CART:\", round(accurCA,digits=4))"
   ]
  },
  {
   "cell_type": "code",
   "execution_count": 27,
   "metadata": {},
   "outputs": [
    {
     "data": {
      "text/html": [
       "'Accuracy Baseline: 0.8451'"
      ],
      "text/latex": [
       "'Accuracy Baseline: 0.8451'"
      ],
      "text/markdown": [
       "'Accuracy Baseline: 0.8451'"
      ],
      "text/plain": [
       "[1] \"Accuracy Baseline: 0.8451\""
      ]
     },
     "metadata": {},
     "output_type": "display_data"
    }
   ],
   "source": [
    "# Compute Baseline Accuracy\n",
    "Bl = table(testSparse$Negative)\n",
    "\n",
    "accurBl = max(Bl)/sum(Bl)\n",
    "paste(\"Accuracy Baseline:\", round(accurBl,digits=4))"
   ]
  },
  {
   "cell_type": "markdown",
   "metadata": {},
   "source": [
    "### Random Forest model"
   ]
  },
  {
   "cell_type": "code",
   "execution_count": 28,
   "metadata": {},
   "outputs": [
    {
     "name": "stderr",
     "output_type": "stream",
     "text": [
      "randomForest 4.6-14\n",
      "\n",
      "Type rfNews() to see new features/changes/bug fixes.\n",
      "\n"
     ]
    }
   ],
   "source": [
    "library(randomForest)"
   ]
  },
  {
   "cell_type": "code",
   "execution_count": 29,
   "metadata": {},
   "outputs": [],
   "source": [
    "set.seed(123)\n",
    "\n",
    "# Random Forrest Model\n",
    "tweetRF = randomForest(Negative ~ ., data=trainSparse)"
   ]
  },
  {
   "cell_type": "code",
   "execution_count": 30,
   "metadata": {},
   "outputs": [
    {
     "data": {
      "text/plain": [
       "       predictRF\n",
       "        FALSE TRUE\n",
       "  FALSE   293    7\n",
       "  TRUE     34   21"
      ]
     },
     "metadata": {},
     "output_type": "display_data"
    }
   ],
   "source": [
    "# Make predictions:\n",
    "predictRF = predict(tweetRF, newdata=testSparse)\n",
    "\n",
    "# Confusion Matrix\n",
    "cmRF = table(testSparse$Negative, predictRF)\n",
    "cmRF"
   ]
  },
  {
   "cell_type": "code",
   "execution_count": 31,
   "metadata": {},
   "outputs": [
    {
     "data": {
      "text/html": [
       "'Accuracy Random Forrest: 0.8845'"
      ],
      "text/latex": [
       "'Accuracy Random Forrest: 0.8845'"
      ],
      "text/markdown": [
       "'Accuracy Random Forrest: 0.8845'"
      ],
      "text/plain": [
       "[1] \"Accuracy Random Forrest: 0.8845\""
      ]
     },
     "metadata": {},
     "output_type": "display_data"
    }
   ],
   "source": [
    "# Compute Classification and Regression Trees Accuracy\n",
    "accurRF = sum(diag(cmRF))/sum(cmRF)\n",
    "paste(\"Accuracy Random Forrest:\", round(accurRF,digits=4))"
   ]
  },
  {
   "cell_type": "markdown",
   "metadata": {},
   "source": [
    "### Comparation"
   ]
  },
  {
   "cell_type": "code",
   "execution_count": 32,
   "metadata": {},
   "outputs": [
    {
     "data": {
      "text/html": [
       "'Accuracy Baseline: 0.8451'"
      ],
      "text/latex": [
       "'Accuracy Baseline: 0.8451'"
      ],
      "text/markdown": [
       "'Accuracy Baseline: 0.8451'"
      ],
      "text/plain": [
       "[1] \"Accuracy Baseline: 0.8451\""
      ]
     },
     "metadata": {},
     "output_type": "display_data"
    },
    {
     "data": {
      "text/html": [
       "'Accuracy CART: 0.8789'"
      ],
      "text/latex": [
       "'Accuracy CART: 0.8789'"
      ],
      "text/markdown": [
       "'Accuracy CART: 0.8789'"
      ],
      "text/plain": [
       "[1] \"Accuracy CART: 0.8789\""
      ]
     },
     "metadata": {},
     "output_type": "display_data"
    },
    {
     "data": {
      "text/html": [
       "'Accuracy Random Forrest: 0.8845'"
      ],
      "text/latex": [
       "'Accuracy Random Forrest: 0.8845'"
      ],
      "text/markdown": [
       "'Accuracy Random Forrest: 0.8845'"
      ],
      "text/plain": [
       "[1] \"Accuracy Random Forrest: 0.8845\""
      ]
     },
     "metadata": {},
     "output_type": "display_data"
    }
   ],
   "source": [
    "paste(\"Accuracy Baseline:\", round(accurBl,digits=4))\n",
    "paste(\"Accuracy CART:\", round(accurCA,digits=4))\n",
    "paste(\"Accuracy Random Forrest:\", round(accurRF,digits=4))"
   ]
  },
  {
   "cell_type": "markdown",
   "metadata": {},
   "source": [
    "I'd probably prefer it over the Random Forest model. If you were to use Cross-Validation to pick the cp parameter for the CART model, the accuracy would increase to about the same as the random forest model. So by using a bag-of-words approach and these models, we can reasonably predict sentiment even with a relatively small data set of tweets."
   ]
  }
 ],
 "metadata": {
  "kernelspec": {
   "display_name": "R",
   "language": "R",
   "name": "ir"
  },
  "language_info": {
   "codemirror_mode": "r",
   "file_extension": ".r",
   "mimetype": "text/x-r-source",
   "name": "R",
   "pygments_lexer": "r",
   "version": "3.6.3"
  }
 },
 "nbformat": 4,
 "nbformat_minor": 4
}
