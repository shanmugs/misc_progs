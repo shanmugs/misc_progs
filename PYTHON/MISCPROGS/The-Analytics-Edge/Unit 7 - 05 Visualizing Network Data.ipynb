{
 "cells": [
  {
   "cell_type": "markdown",
   "metadata": {},
   "source": [
    "# Visualizing Network Data"
   ]
  },
  {
   "cell_type": "markdown",
   "metadata": {},
   "source": [
    "The cliche goes that the world is an increasingly interconnected place, and the connections between different entities are often best represented with a graph. Graphs are comprised of vertices (also often called \"nodes\") and edges connecting those nodes. In this assignment, we will learn how to visualize networks using the igraph package in R.\n",
    "\n",
    "For this assignment, we will visualize social networking data using anonymized data from Facebook; this data was originally curated in a recent paper about computing social circles in social networks. In our visualizations, the vertices in our network will represent Facebook users and the edges will represent these users being Facebook friends with each other.\n",
    "\n",
    "The first file we will use, edges.csv, contains variables V1 and V2, which label the endpoints of edges in our network. Each row represents a pair of users in our graph who are Facebook friends. For a pair of friends A and B, edges.csv will only contain a single row -- the smaller identifier will be listed first in this row. From this row, we will know that A is friends with B and B is friends with A.\n",
    "\n",
    "The second file, users.csv, contains information about the Facebook users, who are the vertices in our network. This file contains the following variables:\n",
    "\n",
    "    id: A unique identifier for this user; this is the value that appears in the rows of edges.csv\n",
    "\n",
    "    gender: An identifier for the gender of a user taking the values A and B. Because the data is anonymized, we don't know which value refers to males and which value refers to females.\n",
    "\n",
    "    school: An identifier for the school the user attended taking the values A and AB (users with AB attended school A as well as another school B). Because the data is anonymized, we don't know the schools represented by A and B.\n",
    "\n",
    "    locale: An identifier for the locale of the user taking the values A and B. Because the data is anonymized, we don't know which value refers to what locale."
   ]
  },
  {
   "cell_type": "markdown",
   "metadata": {},
   "source": [
    "### Problem 1.1 - Summarizing the Data\n",
    "Load the data from edges.csv into a data frame called edges, and load the data from users.csv into a data frame called users.\n",
    "\n",
    "**How many Facebook users are there in our dataset?**"
   ]
  },
  {
   "cell_type": "code",
   "execution_count": 1,
   "metadata": {},
   "outputs": [
    {
     "data": {
      "text/html": [
       "<table>\n",
       "<caption>A data.frame: 6 × 2</caption>\n",
       "<thead>\n",
       "\t<tr><th></th><th scope=col>V1</th><th scope=col>V2</th></tr>\n",
       "\t<tr><th></th><th scope=col>&lt;int&gt;</th><th scope=col>&lt;int&gt;</th></tr>\n",
       "</thead>\n",
       "<tbody>\n",
       "\t<tr><th scope=row>1</th><td>4019</td><td>4026</td></tr>\n",
       "\t<tr><th scope=row>2</th><td>4023</td><td>4031</td></tr>\n",
       "\t<tr><th scope=row>3</th><td>4023</td><td>4030</td></tr>\n",
       "\t<tr><th scope=row>4</th><td>4027</td><td>4032</td></tr>\n",
       "\t<tr><th scope=row>5</th><td>3988</td><td>4021</td></tr>\n",
       "\t<tr><th scope=row>6</th><td>3982</td><td>3986</td></tr>\n",
       "</tbody>\n",
       "</table>\n"
      ],
      "text/latex": [
       "A data.frame: 6 × 2\n",
       "\\begin{tabular}{r|ll}\n",
       "  & V1 & V2\\\\\n",
       "  & <int> & <int>\\\\\n",
       "\\hline\n",
       "\t1 & 4019 & 4026\\\\\n",
       "\t2 & 4023 & 4031\\\\\n",
       "\t3 & 4023 & 4030\\\\\n",
       "\t4 & 4027 & 4032\\\\\n",
       "\t5 & 3988 & 4021\\\\\n",
       "\t6 & 3982 & 3986\\\\\n",
       "\\end{tabular}\n"
      ],
      "text/markdown": [
       "\n",
       "A data.frame: 6 × 2\n",
       "\n",
       "| <!--/--> | V1 &lt;int&gt; | V2 &lt;int&gt; |\n",
       "|---|---|---|\n",
       "| 1 | 4019 | 4026 |\n",
       "| 2 | 4023 | 4031 |\n",
       "| 3 | 4023 | 4030 |\n",
       "| 4 | 4027 | 4032 |\n",
       "| 5 | 3988 | 4021 |\n",
       "| 6 | 3982 | 3986 |\n",
       "\n"
      ],
      "text/plain": [
       "  V1   V2  \n",
       "1 4019 4026\n",
       "2 4023 4031\n",
       "3 4023 4030\n",
       "4 4027 4032\n",
       "5 3988 4021\n",
       "6 3982 3986"
      ]
     },
     "metadata": {},
     "output_type": "display_data"
    }
   ],
   "source": [
    "# Load data\n",
    "\n",
    "edges = read.csv(\"data/edges.csv\")\n",
    "\n",
    "head(edges)"
   ]
  },
  {
   "cell_type": "code",
   "execution_count": 2,
   "metadata": {},
   "outputs": [
    {
     "data": {
      "text/html": [
       "<table>\n",
       "<caption>A data.frame: 6 × 4</caption>\n",
       "<thead>\n",
       "\t<tr><th></th><th scope=col>id</th><th scope=col>gender</th><th scope=col>school</th><th scope=col>locale</th></tr>\n",
       "\t<tr><th></th><th scope=col>&lt;int&gt;</th><th scope=col>&lt;fct&gt;</th><th scope=col>&lt;fct&gt;</th><th scope=col>&lt;fct&gt;</th></tr>\n",
       "</thead>\n",
       "<tbody>\n",
       "\t<tr><th scope=row>1</th><td>3981</td><td>A</td><td>A</td><td>B</td></tr>\n",
       "\t<tr><th scope=row>2</th><td>3982</td><td>B</td><td> </td><td>B</td></tr>\n",
       "\t<tr><th scope=row>3</th><td>3983</td><td>B</td><td> </td><td>B</td></tr>\n",
       "\t<tr><th scope=row>4</th><td>3984</td><td>B</td><td> </td><td>B</td></tr>\n",
       "\t<tr><th scope=row>5</th><td>3985</td><td>B</td><td> </td><td>B</td></tr>\n",
       "\t<tr><th scope=row>6</th><td>3986</td><td>B</td><td>A</td><td>B</td></tr>\n",
       "</tbody>\n",
       "</table>\n"
      ],
      "text/latex": [
       "A data.frame: 6 × 4\n",
       "\\begin{tabular}{r|llll}\n",
       "  & id & gender & school & locale\\\\\n",
       "  & <int> & <fct> & <fct> & <fct>\\\\\n",
       "\\hline\n",
       "\t1 & 3981 & A & A & B\\\\\n",
       "\t2 & 3982 & B &   & B\\\\\n",
       "\t3 & 3983 & B &   & B\\\\\n",
       "\t4 & 3984 & B &   & B\\\\\n",
       "\t5 & 3985 & B &   & B\\\\\n",
       "\t6 & 3986 & B & A & B\\\\\n",
       "\\end{tabular}\n"
      ],
      "text/markdown": [
       "\n",
       "A data.frame: 6 × 4\n",
       "\n",
       "| <!--/--> | id &lt;int&gt; | gender &lt;fct&gt; | school &lt;fct&gt; | locale &lt;fct&gt; |\n",
       "|---|---|---|---|---|\n",
       "| 1 | 3981 | A | A | B |\n",
       "| 2 | 3982 | B | <!----> | B |\n",
       "| 3 | 3983 | B | <!----> | B |\n",
       "| 4 | 3984 | B | <!----> | B |\n",
       "| 5 | 3985 | B | <!----> | B |\n",
       "| 6 | 3986 | B | A | B |\n",
       "\n"
      ],
      "text/plain": [
       "  id   gender school locale\n",
       "1 3981 A      A      B     \n",
       "2 3982 B             B     \n",
       "3 3983 B             B     \n",
       "4 3984 B             B     \n",
       "5 3985 B             B     \n",
       "6 3986 B      A      B     "
      ]
     },
     "metadata": {},
     "output_type": "display_data"
    }
   ],
   "source": [
    "# Load data\n",
    "\n",
    "users = read.csv(\"data/users.csv\")\n",
    "\n",
    "head(users)"
   ]
  },
  {
   "cell_type": "code",
   "execution_count": 3,
   "metadata": {},
   "outputs": [
    {
     "name": "stdout",
     "output_type": "stream",
     "text": [
      "'data.frame':\t59 obs. of  4 variables:\n",
      " $ id    : int  3981 3982 3983 3984 3985 3986 3987 3988 3989 3990 ...\n",
      " $ gender: Factor w/ 3 levels \"\",\"A\",\"B\": 2 3 3 3 3 3 2 3 3 2 ...\n",
      " $ school: Factor w/ 3 levels \"\",\"A\",\"AB\": 2 1 1 1 1 2 1 1 2 1 ...\n",
      " $ locale: Factor w/ 3 levels \"\",\"A\",\"B\": 3 3 3 3 3 3 2 3 3 2 ...\n"
     ]
    }
   ],
   "source": [
    "str(users)"
   ]
  },
  {
   "cell_type": "code",
   "execution_count": 4,
   "metadata": {},
   "outputs": [
    {
     "data": {
      "text/html": [
       "59"
      ],
      "text/latex": [
       "59"
      ],
      "text/markdown": [
       "59"
      ],
      "text/plain": [
       "[1] 59"
      ]
     },
     "metadata": {},
     "output_type": "display_data"
    }
   ],
   "source": [
    "nrow(users)"
   ]
  },
  {
   "cell_type": "markdown",
   "metadata": {},
   "source": [
    "**In our dataset, what is the average number of friends per user?** Hint: this question is tricky, and it might help to start by thinking about a small example with two users who are friends."
   ]
  },
  {
   "cell_type": "code",
   "execution_count": 5,
   "metadata": {},
   "outputs": [
    {
     "data": {
      "text/html": [
       "4.94915254237288"
      ],
      "text/latex": [
       "4.94915254237288"
      ],
      "text/markdown": [
       "4.94915254237288"
      ],
      "text/plain": [
       "[1] 4.949153"
      ]
     },
     "metadata": {},
     "output_type": "display_data"
    }
   ],
   "source": [
    "# Output summary\n",
    "avg = (nrow(edges)*2)/nrow(users)\n",
    "avg"
   ]
  },
  {
   "cell_type": "code",
   "execution_count": 6,
   "metadata": {},
   "outputs": [
    {
     "data": {
      "text/html": [
       "4.95"
      ],
      "text/latex": [
       "4.95"
      ],
      "text/markdown": [
       "4.95"
      ],
      "text/plain": [
       "[1] 4.95"
      ]
     },
     "metadata": {},
     "output_type": "display_data"
    }
   ],
   "source": [
    "round(avg,2)"
   ]
  },
  {
   "cell_type": "markdown",
   "metadata": {},
   "source": [
    "### Problem 1.2 - Summarizing the Data\n",
    "**Out of all the students who listed a school, what was the most common locale?**"
   ]
  },
  {
   "cell_type": "code",
   "execution_count": 7,
   "metadata": {},
   "outputs": [
    {
     "data": {
      "text/plain": [
       "   \n",
       "        A AB\n",
       "     3  0  0\n",
       "  A  6  0  0\n",
       "  B 31 17  2"
      ]
     },
     "metadata": {},
     "output_type": "display_data"
    }
   ],
   "source": [
    "# Most common locale\n",
    "table(users$locale, users$school)"
   ]
  },
  {
   "cell_type": "code",
   "execution_count": 8,
   "metadata": {},
   "outputs": [
    {
     "data": {
      "text/html": [
       "31"
      ],
      "text/latex": [
       "31"
      ],
      "text/markdown": [
       "31"
      ],
      "text/plain": [
       "[1] 31"
      ]
     },
     "metadata": {},
     "output_type": "display_data"
    }
   ],
   "source": [
    "max(table(users$locale, users$school))"
   ]
  },
  {
   "cell_type": "markdown",
   "metadata": {},
   "source": [
    "Answer: Locale B."
   ]
  },
  {
   "cell_type": "markdown",
   "metadata": {},
   "source": [
    "### Problem 1.3 - Summarizing the Data\n",
    "**Is it possible that either school A or B is an all-girls or all-boys school?**"
   ]
  },
  {
   "cell_type": "code",
   "execution_count": 9,
   "metadata": {},
   "outputs": [
    {
     "data": {
      "text/plain": [
       "   \n",
       "        A AB\n",
       "     1  1  0\n",
       "  A 11  3  1\n",
       "  B 28 13  1"
      ]
     },
     "metadata": {},
     "output_type": "display_data"
    }
   ],
   "source": [
    "# Tabulate if AB or B is gender specific school\n",
    "table(users$gender, users$school)"
   ]
  },
  {
   "cell_type": "markdown",
   "metadata": {},
   "source": [
    "Answer: Both genders A and B have attended schools A and B."
   ]
  },
  {
   "cell_type": "markdown",
   "metadata": {},
   "source": [
    "### Problem 2.1 - Creating a Network\n",
    "We will be using the igraph package to visualize networks; install and load this package using the install.packages and library commands.\n",
    "\n",
    "We can create a new graph object using the graph.data.frame() function. Based on ?graph.data.frame, **which of the following commands will create a graph g describing our social network, with the attributes of each user correctly loaded?**\n",
    "\n",
    "Note: A directed graph is one where the edges only go one way -- they point from one vertex to another. The other option is an undirected graph, which means that the relations between the vertices are symmetric."
   ]
  },
  {
   "cell_type": "code",
   "execution_count": 10,
   "metadata": {},
   "outputs": [
    {
     "name": "stderr",
     "output_type": "stream",
     "text": [
      "\n",
      "Attaching package: 'igraph'\n",
      "\n",
      "\n",
      "The following objects are masked from 'package:stats':\n",
      "\n",
      "    decompose, spectrum\n",
      "\n",
      "\n",
      "The following object is masked from 'package:base':\n",
      "\n",
      "    union\n",
      "\n",
      "\n"
     ]
    }
   ],
   "source": [
    "#install.packages(\"igraph\")\n",
    "library(\"igraph\")"
   ]
  },
  {
   "cell_type": "code",
   "execution_count": 11,
   "metadata": {},
   "outputs": [],
   "source": [
    "# Set graph object\n",
    "g = graph.data.frame(edges, FALSE, users) "
   ]
  },
  {
   "cell_type": "markdown",
   "metadata": {},
   "source": [
    "Answer: g = graph.data.frame(edges, FALSE, users)"
   ]
  },
  {
   "cell_type": "markdown",
   "metadata": {},
   "source": [
    "### Problem 2.2 - Creating a Network\n",
    "Use the correct command from Problem 2.1 to load the graph g.\n",
    "\n",
    "Now, we want to plot our graph. By default, the vertices are large and have text labels of a user's identifier. Because this would clutter the output, we will plot with no text labels and smaller vertices:\n",
    "\n",
    "    plot(g, vertex.size=5, vertex.label=NA)\n",
    "\n",
    "In this graph, there are a number of groups of nodes where all the nodes in each group are connected but the groups are disjoint from one another, forming \"islands\" in the graph. Such groups are called \"connected components,\" or \"components\" for short. **How many connected components with at least 2 nodes are there in the graph?**"
   ]
  },
  {
   "cell_type": "code",
   "execution_count": 12,
   "metadata": {},
   "outputs": [
    {
     "data": {
      "image/png": "[encoded data removed]",
      "text/plain": [
       "Plot with title \"\""
      ]
     },
     "metadata": {
      "image/png": {
       "height": 420,
       "width": 420
      },
      "text/plain": {
       "height": 420,
       "width": 420
      }
     },
     "output_type": "display_data"
    }
   ],
   "source": [
    "# Plot Graph\n",
    "plot(g, vertex.size=5, vertex.label=NA)"
   ]
  },
  {
   "cell_type": "markdown",
   "metadata": {},
   "source": [
    "Answer: There are 4 connected components with at least 2 node."
   ]
  },
  {
   "cell_type": "markdown",
   "metadata": {},
   "source": [
    "**How many users are there with no friends in the network?**"
   ]
  },
  {
   "cell_type": "markdown",
   "metadata": {},
   "source": [
    "Answer: There are 7 users are there with no friends in the network."
   ]
  },
  {
   "cell_type": "markdown",
   "metadata": {},
   "source": [
    "### Problem 2.3 - Creating a Network\n",
    "In our graph, the \"degree\" of a node is its number of friends. We have already seen that some nodes in our graph have degree 0 (these are the nodes with no friends), while others have much higher degree. We can use degree(g) to compute the degree of all the nodes in our graph g.\n",
    "\n",
    "**How many users are friends with 10 or more other Facebook users in this network?**"
   ]
  },
  {
   "cell_type": "code",
   "execution_count": 13,
   "metadata": {},
   "outputs": [
    {
     "data": {
      "text/plain": [
       "\n",
       "FALSE  TRUE \n",
       "   50     9 "
      ]
     },
     "metadata": {},
     "output_type": "display_data"
    }
   ],
   "source": [
    "# Compute the Degree\n",
    "\n",
    "deg = degree(g)\n",
    "\n",
    "table(deg >=10)"
   ]
  },
  {
   "cell_type": "markdown",
   "metadata": {},
   "source": [
    "Answer: There are 9 users with 10 more friends in this network."
   ]
  },
  {
   "cell_type": "code",
   "execution_count": 14,
   "metadata": {},
   "outputs": [
    {
     "name": "stdout",
     "output_type": "stream",
     "text": [
      "\n",
      "FALSE  TRUE \n",
      "   31    28 \n",
      "\n",
      "FALSE  TRUE \n",
      "   35    24 \n",
      "\n",
      "FALSE  TRUE \n",
      "   39    20 \n",
      "\n",
      "FALSE  TRUE \n",
      "   42    17 \n",
      "\n",
      "FALSE  TRUE \n",
      "   48    11 \n",
      "\n",
      "FALSE  TRUE \n",
      "   50     9 \n"
     ]
    }
   ],
   "source": [
    "# Let's see the connections 5 to 10\n",
    "\n",
    "for (i in 5:10) {\n",
    "\n",
    "    deg = degree(g)\n",
    "    \n",
    "    print(table(deg >=i))\n",
    "}"
   ]
  },
  {
   "cell_type": "markdown",
   "metadata": {},
   "source": [
    "### Problem 2.4 - Creating a Network\n",
    "In a network, it's often visually useful to draw attention to \"important\" nodes in the network. While this might mean different things in different contexts, in a social network we might consider a user with a large number of friends to be an important user. From the previous problem, we know this is the same as saying that nodes with a high degree are important users.\n",
    "\n",
    "To visually draw attention to these nodes, we will change the size of the vertices so the vertices with high degrees are larger. To do this, we will change the \"size\" attribute of the vertices of our graph to be an increasing function of their degrees:\n",
    "\n",
    "    V(g)$size = degree(g)/2+2"
   ]
  },
  {
   "cell_type": "code",
   "execution_count": 15,
   "metadata": {},
   "outputs": [],
   "source": [
    "# Change the size attribute\n",
    "V(g)$size = degree(g)/2+2"
   ]
  },
  {
   "cell_type": "markdown",
   "metadata": {},
   "source": [
    "Now that we have specified the vertex size of each vertex, we will no longer use the vertex.size parameter when we plot our graph:\n",
    "\n",
    "    plot(g, vertex.label=NA)"
   ]
  },
  {
   "cell_type": "code",
   "execution_count": 16,
   "metadata": {},
   "outputs": [
    {
     "data": {
      "image/png": "[encoded data removed]",
      "text/plain": [
       "Plot with title \"\""
      ]
     },
     "metadata": {
      "image/png": {
       "height": 420,
       "width": 420
      },
      "text/plain": {
       "height": 420,
       "width": 420
      }
     },
     "output_type": "display_data"
    }
   ],
   "source": [
    "# Plot new graph\n",
    "plot(g, vertex.label=NA)"
   ]
  },
  {
   "cell_type": "markdown",
   "metadata": {},
   "source": [
    "**What is the largest size we assigned to any node in our graph?**"
   ]
  },
  {
   "cell_type": "code",
   "execution_count": 17,
   "metadata": {},
   "outputs": [
    {
     "data": {
      "text/html": [
       "11"
      ],
      "text/latex": [
       "11"
      ],
      "text/markdown": [
       "11"
      ],
      "text/plain": [
       "[1] 11"
      ]
     },
     "metadata": {},
     "output_type": "display_data"
    }
   ],
   "source": [
    "# Maximum degree of g\n",
    "max(V(g)$size)"
   ]
  },
  {
   "cell_type": "markdown",
   "metadata": {},
   "source": [
    "**What is the smallest size we assigned to any node in our graph?**"
   ]
  },
  {
   "cell_type": "code",
   "execution_count": 18,
   "metadata": {},
   "outputs": [
    {
     "data": {
      "text/html": [
       "2"
      ],
      "text/latex": [
       "2"
      ],
      "text/markdown": [
       "2"
      ],
      "text/plain": [
       "[1] 2"
      ]
     },
     "metadata": {},
     "output_type": "display_data"
    }
   ],
   "source": [
    "# Minimum degree of g\n",
    "min(V(g)$size)"
   ]
  },
  {
   "cell_type": "markdown",
   "metadata": {},
   "source": [
    "### Problem 3.1 - Coloring Vertices\n",
    "Thus far, we have changed the \"size\" attributes of our vertices. However, we can also change the colors of vertices to capture additional information about the Facebook users we are depicting.\n",
    "\n",
    "When changing the size of nodes, we first obtained the vertices of our graph with V(g) and then accessed the the size attribute with V(g)\\\\$size. To change the color, we will update the attribute V(g)$color.\n",
    "\n",
    "To color the vertices based on the gender of the user, we will need access to that variable. When we created our graph g, we provided it with the data frame users, which had variables gender, school, and locale. These are now stored as attributes V(g)\\\\$gender, V(g)\\\\$school, and V(g)\\\\$locale.\n",
    "\n",
    "We can update the colors by setting the color to black for all vertices, than setting it to red for the vertices with gender A and setting it to gray for the vertices with gender B:\n",
    "\n",
    "    V(g)$color = \"black\"\n",
    "\n",
    "    V(g)$color[V(g)$gender == \"A\"] = \"red\"\n",
    "\n",
    "    V(g)$color[V(g)$gender == \"B\"] = \"gray\""
   ]
  },
  {
   "cell_type": "code",
   "execution_count": 19,
   "metadata": {},
   "outputs": [],
   "source": [
    "# Update the Colors\n",
    "V(g)$color = \"black\"\n",
    "V(g)$color[V(g)$gender == \"A\"] = \"red\"\n",
    "V(g)$color[V(g)$gender == \"B\"] = \"gray\""
   ]
  },
  {
   "cell_type": "code",
   "execution_count": 20,
   "metadata": {},
   "outputs": [
    {
     "data": {
      "image/png": "[encoded data removed]",
      "text/plain": [
       "Plot with title \"\""
      ]
     },
     "metadata": {
      "image/png": {
       "height": 420,
       "width": 420
      },
      "text/plain": {
       "height": 420,
       "width": 420
      }
     },
     "output_type": "display_data"
    }
   ],
   "source": [
    "# Plot the Graph\n",
    "plot(g, vertex.label=NA)"
   ]
  },
  {
   "cell_type": "markdown",
   "metadata": {},
   "source": [
    "**Plot the resulting graph. What is the gender of the users with the highest degree in the graph?**"
   ]
  },
  {
   "cell_type": "markdown",
   "metadata": {},
   "source": [
    "Answer: Gender B is the gender of the users with the highest degree."
   ]
  },
  {
   "cell_type": "markdown",
   "metadata": {},
   "source": [
    "### Problem 3.2 - Coloring Vertices\n",
    "Now, color the vertices based on the school that each user in our network attended."
   ]
  },
  {
   "cell_type": "code",
   "execution_count": 21,
   "metadata": {},
   "outputs": [
    {
     "data": {
      "image/png": "[encoded data removed]",
      "text/plain": [
       "Plot with title \"\""
      ]
     },
     "metadata": {
      "image/png": {
       "height": 420,
       "width": 420
      },
      "text/plain": {
       "height": 420,
       "width": 420
      }
     },
     "output_type": "display_data"
    }
   ],
   "source": [
    "# Update colors for school\n",
    "V(g)$color = \"black\"\n",
    "V(g)$color[V(g)$school == \"A\"] = \"red\"\n",
    "V(g)$color[V(g)$school == \"AB\"] = \"gray\"\n",
    "\n",
    "# Plot graph\n",
    "plot(g, vertex.label=NA)"
   ]
  },
  {
   "cell_type": "markdown",
   "metadata": {},
   "source": [
    "**Are the two users who attended both schools A and B Facebook friends with each other?**"
   ]
  },
  {
   "cell_type": "markdown",
   "metadata": {},
   "source": [
    "Answer: Yes."
   ]
  },
  {
   "cell_type": "markdown",
   "metadata": {},
   "source": [
    "**What best describes the users with highest degree?**"
   ]
  },
  {
   "cell_type": "markdown",
   "metadata": {},
   "source": [
    "Answer: Some, but not all, of the high-degree users attended school A."
   ]
  },
  {
   "cell_type": "markdown",
   "metadata": {},
   "source": [
    "### Problem 3.3 - Coloring Vertices\n",
    "Now, color the vertices based on the locale of the user."
   ]
  },
  {
   "cell_type": "code",
   "execution_count": 22,
   "metadata": {},
   "outputs": [
    {
     "data": {
      "image/png": "[encoded data removed]",
      "text/plain": [
       "Plot with title \"\""
      ]
     },
     "metadata": {
      "image/png": {
       "height": 420,
       "width": 420
      },
      "text/plain": {
       "height": 420,
       "width": 420
      }
     },
     "output_type": "display_data"
    }
   ],
   "source": [
    "# Update colors of locale\n",
    "V(g)$color <- \"black\"\n",
    "V(g)$color[V(g)$locale == \"A\"] <- \"red\"\n",
    "V(g)$color[V(g)$locale == \"B\"] <- \"green\"\n",
    "\n",
    "# Plot graph\n",
    "plot(g, vertex.label=NA)"
   ]
  },
  {
   "cell_type": "markdown",
   "metadata": {},
   "source": [
    "**The large connected component is most associated with which locale?**"
   ]
  },
  {
   "cell_type": "markdown",
   "metadata": {},
   "source": [
    "Answer: Locale B."
   ]
  },
  {
   "cell_type": "markdown",
   "metadata": {},
   "source": [
    "**The 4-user connected component is most associated with which locale?**"
   ]
  },
  {
   "cell_type": "markdown",
   "metadata": {},
   "source": [
    "Answer: Locale A."
   ]
  },
  {
   "cell_type": "markdown",
   "metadata": {},
   "source": [
    "### Problem 4 - Other Plotting Options\n",
    "The help page is a helpful tool when making visualizations. Answer the following questions with the help of *?igraph.plotting* and experimentation in your R console."
   ]
  },
  {
   "cell_type": "code",
   "execution_count": 23,
   "metadata": {},
   "outputs": [],
   "source": [
    "?igraph.plotting"
   ]
  },
  {
   "cell_type": "markdown",
   "metadata": {},
   "source": [
    "**Which igraph plotting function would enable us to plot our graph in 3-D?**"
   ]
  },
  {
   "cell_type": "markdown",
   "metadata": {},
   "source": [
    "Answer: rglplot."
   ]
  },
  {
   "cell_type": "markdown",
   "metadata": {},
   "source": [
    "**What parameter to the plot() function would we use to change the edge width when plotting g?**"
   ]
  },
  {
   "cell_type": "markdown",
   "metadata": {},
   "source": [
    "Answer: edge.width."
   ]
  }
 ],
 "metadata": {
  "kernelspec": {
   "display_name": "R",
   "language": "R",
   "name": "ir"
  },
  "language_info": {
   "codemirror_mode": "r",
   "file_extension": ".r",
   "mimetype": "text/x-r-source",
   "name": "R",
   "pygments_lexer": "r",
   "version": "3.6.3"
  }
 },
 "nbformat": 4,
 "nbformat_minor": 4
}
