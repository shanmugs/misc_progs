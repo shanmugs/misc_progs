{
 "cells": [
  {
   "cell_type": "markdown",
   "metadata": {},
   "source": [
    "# State Data Revisted"
   ]
  },
  {
   "cell_type": "markdown",
   "metadata": {},
   "source": [
    "<img src=\"images/all_states_lrg.png\"/>"
   ]
  },
  {
   "cell_type": "markdown",
   "metadata": {},
   "source": [
    "We will be revisiting the \"state\" dataset from one of the optional problems in Unit 2. This dataset has, for each of the fifty U.S. states, the population, per capita income, illiteracy rate, murder rate, high school graduation rate, average number of frost days, area, latitude and longitude, division the state belongs to, region the state belongs to, and two-letter abbreviation. This dataset comes from the U.S. Department of Commerce, Bureau of the Census.\n",
    "\n",
    "Load the dataset into R and convert it to a data frame by running the following two commands in R:\n",
    "\n",
    "    data(state)\n",
    "\n",
    "    statedata = data.frame(state.x77)\n",
    "\n",
    "If you can't access the state dataset in R, here is a CSV file with the same data that you can load into R using the read.csv function: statedataSimple.csv.  Be sure to call the output of the read.csv function \"statedata\".\n",
    "\n",
    "After you have loaded the data into R, inspect the data set using the command: str(statedata)"
   ]
  },
  {
   "cell_type": "markdown",
   "metadata": {},
   "source": [
    "### The Data\n",
    "\n",
    "This dataset has 50 observations (one for each US state) and the following 8 variables:\n",
    "\n",
    "    Population - the population estimate of the state in 1975\n",
    "    \n",
    "    Income - per capita income in 1974\n",
    "    \n",
    "    Illiteracy - illiteracy rates in 1970, as a percent of the population\n",
    "    \n",
    "    Life.Exp - the life expectancy in years of residents of the state in 1970\n",
    "    \n",
    "    Murder - the murder and non-negligent manslaughter rate per 100,000 population in 1976 \n",
    "    \n",
    "    HS.Grad - percent of high-school graduates in 1970\n",
    "    \n",
    "    Frost - the mean number of days with minimum temperature below freezing from 1931–1960 in the capital or a large city of the state\n",
    "    \n",
    "    Area - the land area (in square miles) of the state\n",
    "\n",
    "We will try to build a model for life expectancy using regression trees, and employ cross-validation to improve our tree's performance."
   ]
  },
  {
   "cell_type": "markdown",
   "metadata": {},
   "source": [
    "### Load and Exploration the Data"
   ]
  },
  {
   "cell_type": "code",
   "execution_count": 1,
   "metadata": {},
   "outputs": [
    {
     "data": {
      "text/html": [
       "<table>\n",
       "<caption>A data.frame: 6 × 15</caption>\n",
       "<thead>\n",
       "\t<tr><th></th><th scope=col>Population</th><th scope=col>Income</th><th scope=col>Illiteracy</th><th scope=col>Life.Exp</th><th scope=col>Murder</th><th scope=col>HS.Grad</th><th scope=col>Frost</th><th scope=col>Area</th><th scope=col>state.abb</th><th scope=col>state.area</th><th scope=col>x</th><th scope=col>y</th><th scope=col>state.division</th><th scope=col>state.name</th><th scope=col>state.region</th></tr>\n",
       "\t<tr><th></th><th scope=col>&lt;dbl&gt;</th><th scope=col>&lt;dbl&gt;</th><th scope=col>&lt;dbl&gt;</th><th scope=col>&lt;dbl&gt;</th><th scope=col>&lt;dbl&gt;</th><th scope=col>&lt;dbl&gt;</th><th scope=col>&lt;dbl&gt;</th><th scope=col>&lt;dbl&gt;</th><th scope=col>&lt;fct&gt;</th><th scope=col>&lt;dbl&gt;</th><th scope=col>&lt;dbl&gt;</th><th scope=col>&lt;dbl&gt;</th><th scope=col>&lt;fct&gt;</th><th scope=col>&lt;fct&gt;</th><th scope=col>&lt;fct&gt;</th></tr>\n",
       "</thead>\n",
       "<tbody>\n",
       "\t<tr><th scope=row>Alabama</th><td> 3615</td><td>3624</td><td>2.1</td><td>69.05</td><td>15.1</td><td>41.3</td><td> 20</td><td> 50708</td><td>AL</td><td> 51609</td><td> -86.7509</td><td>32.5901</td><td>East South Central</td><td>Alabama   </td><td>South</td></tr>\n",
       "\t<tr><th scope=row>Alaska</th><td>  365</td><td>6315</td><td>1.5</td><td>69.31</td><td>11.3</td><td>66.7</td><td>152</td><td>566432</td><td>AK</td><td>589757</td><td>-127.2500</td><td>49.2500</td><td>Pacific           </td><td>Alaska    </td><td>West </td></tr>\n",
       "\t<tr><th scope=row>Arizona</th><td> 2212</td><td>4530</td><td>1.8</td><td>70.55</td><td> 7.8</td><td>58.1</td><td> 15</td><td>113417</td><td>AZ</td><td>113909</td><td>-111.6250</td><td>34.2192</td><td>Mountain          </td><td>Arizona   </td><td>West </td></tr>\n",
       "\t<tr><th scope=row>Arkansas</th><td> 2110</td><td>3378</td><td>1.9</td><td>70.66</td><td>10.1</td><td>39.9</td><td> 65</td><td> 51945</td><td>AR</td><td> 53104</td><td> -92.2992</td><td>34.7336</td><td>West South Central</td><td>Arkansas  </td><td>South</td></tr>\n",
       "\t<tr><th scope=row>California</th><td>21198</td><td>5114</td><td>1.1</td><td>71.71</td><td>10.3</td><td>62.6</td><td> 20</td><td>156361</td><td>CA</td><td>158693</td><td>-119.7730</td><td>36.5341</td><td>Pacific           </td><td>California</td><td>West </td></tr>\n",
       "\t<tr><th scope=row>Colorado</th><td> 2541</td><td>4884</td><td>0.7</td><td>72.06</td><td> 6.8</td><td>63.9</td><td>166</td><td>103766</td><td>CO</td><td>104247</td><td>-105.5130</td><td>38.6777</td><td>Mountain          </td><td>Colorado  </td><td>West </td></tr>\n",
       "</tbody>\n",
       "</table>\n"
      ],
      "text/latex": [
       "A data.frame: 6 × 15\n",
       "\\begin{tabular}{r|lllllllllllllll}\n",
       "  & Population & Income & Illiteracy & Life.Exp & Murder & HS.Grad & Frost & Area & state.abb & state.area & x & y & state.division & state.name & state.region\\\\\n",
       "  & <dbl> & <dbl> & <dbl> & <dbl> & <dbl> & <dbl> & <dbl> & <dbl> & <fct> & <dbl> & <dbl> & <dbl> & <fct> & <fct> & <fct>\\\\\n",
       "\\hline\n",
       "\tAlabama &  3615 & 3624 & 2.1 & 69.05 & 15.1 & 41.3 &  20 &  50708 & AL &  51609 &  -86.7509 & 32.5901 & East South Central & Alabama    & South\\\\\n",
       "\tAlaska &   365 & 6315 & 1.5 & 69.31 & 11.3 & 66.7 & 152 & 566432 & AK & 589757 & -127.2500 & 49.2500 & Pacific            & Alaska     & West \\\\\n",
       "\tArizona &  2212 & 4530 & 1.8 & 70.55 &  7.8 & 58.1 &  15 & 113417 & AZ & 113909 & -111.6250 & 34.2192 & Mountain           & Arizona    & West \\\\\n",
       "\tArkansas &  2110 & 3378 & 1.9 & 70.66 & 10.1 & 39.9 &  65 &  51945 & AR &  53104 &  -92.2992 & 34.7336 & West South Central & Arkansas   & South\\\\\n",
       "\tCalifornia & 21198 & 5114 & 1.1 & 71.71 & 10.3 & 62.6 &  20 & 156361 & CA & 158693 & -119.7730 & 36.5341 & Pacific            & California & West \\\\\n",
       "\tColorado &  2541 & 4884 & 0.7 & 72.06 &  6.8 & 63.9 & 166 & 103766 & CO & 104247 & -105.5130 & 38.6777 & Mountain           & Colorado   & West \\\\\n",
       "\\end{tabular}\n"
      ],
      "text/markdown": [
       "\n",
       "A data.frame: 6 × 15\n",
       "\n",
       "| <!--/--> | Population &lt;dbl&gt; | Income &lt;dbl&gt; | Illiteracy &lt;dbl&gt; | Life.Exp &lt;dbl&gt; | Murder &lt;dbl&gt; | HS.Grad &lt;dbl&gt; | Frost &lt;dbl&gt; | Area &lt;dbl&gt; | state.abb &lt;fct&gt; | state.area &lt;dbl&gt; | x &lt;dbl&gt; | y &lt;dbl&gt; | state.division &lt;fct&gt; | state.name &lt;fct&gt; | state.region &lt;fct&gt; |\n",
       "|---|---|---|---|---|---|---|---|---|---|---|---|---|---|---|---|\n",
       "| Alabama |  3615 | 3624 | 2.1 | 69.05 | 15.1 | 41.3 |  20 |  50708 | AL |  51609 |  -86.7509 | 32.5901 | East South Central | Alabama    | South |\n",
       "| Alaska |   365 | 6315 | 1.5 | 69.31 | 11.3 | 66.7 | 152 | 566432 | AK | 589757 | -127.2500 | 49.2500 | Pacific            | Alaska     | West  |\n",
       "| Arizona |  2212 | 4530 | 1.8 | 70.55 |  7.8 | 58.1 |  15 | 113417 | AZ | 113909 | -111.6250 | 34.2192 | Mountain           | Arizona    | West  |\n",
       "| Arkansas |  2110 | 3378 | 1.9 | 70.66 | 10.1 | 39.9 |  65 |  51945 | AR |  53104 |  -92.2992 | 34.7336 | West South Central | Arkansas   | South |\n",
       "| California | 21198 | 5114 | 1.1 | 71.71 | 10.3 | 62.6 |  20 | 156361 | CA | 158693 | -119.7730 | 36.5341 | Pacific            | California | West  |\n",
       "| Colorado |  2541 | 4884 | 0.7 | 72.06 |  6.8 | 63.9 | 166 | 103766 | CO | 104247 | -105.5130 | 38.6777 | Mountain           | Colorado   | West  |\n",
       "\n"
      ],
      "text/plain": [
       "           Population Income Illiteracy Life.Exp Murder HS.Grad Frost Area  \n",
       "Alabama     3615      3624   2.1        69.05    15.1   41.3     20    50708\n",
       "Alaska       365      6315   1.5        69.31    11.3   66.7    152   566432\n",
       "Arizona     2212      4530   1.8        70.55     7.8   58.1     15   113417\n",
       "Arkansas    2110      3378   1.9        70.66    10.1   39.9     65    51945\n",
       "California 21198      5114   1.1        71.71    10.3   62.6     20   156361\n",
       "Colorado    2541      4884   0.7        72.06     6.8   63.9    166   103766\n",
       "           state.abb state.area x         y       state.division     state.name\n",
       "Alabama    AL         51609      -86.7509 32.5901 East South Central Alabama   \n",
       "Alaska     AK        589757     -127.2500 49.2500 Pacific            Alaska    \n",
       "Arizona    AZ        113909     -111.6250 34.2192 Mountain           Arizona   \n",
       "Arkansas   AR         53104      -92.2992 34.7336 West South Central Arkansas  \n",
       "California CA        158693     -119.7730 36.5341 Pacific            California\n",
       "Colorado   CO        104247     -105.5130 38.6777 Mountain           Colorado  \n",
       "           state.region\n",
       "Alabama    South       \n",
       "Alaska     West        \n",
       "Arizona    West        \n",
       "Arkansas   South       \n",
       "California West        \n",
       "Colorado   West        "
      ]
     },
     "metadata": {},
     "output_type": "display_data"
    }
   ],
   "source": [
    "data(state)\n",
    "\n",
    "statedata = cbind(data.frame(state.x77), state.abb, state.area, state.center,  state.division, state.name, state.region)\n",
    "\n",
    "\n",
    "head(statedata)"
   ]
  },
  {
   "cell_type": "code",
   "execution_count": 2,
   "metadata": {},
   "outputs": [
    {
     "name": "stdout",
     "output_type": "stream",
     "text": [
      "'data.frame':\t50 obs. of  15 variables:\n",
      " $ Population    : num  3615 365 2212 2110 21198 ...\n",
      " $ Income        : num  3624 6315 4530 3378 5114 ...\n",
      " $ Illiteracy    : num  2.1 1.5 1.8 1.9 1.1 0.7 1.1 0.9 1.3 2 ...\n",
      " $ Life.Exp      : num  69 69.3 70.5 70.7 71.7 ...\n",
      " $ Murder        : num  15.1 11.3 7.8 10.1 10.3 6.8 3.1 6.2 10.7 13.9 ...\n",
      " $ HS.Grad       : num  41.3 66.7 58.1 39.9 62.6 63.9 56 54.6 52.6 40.6 ...\n",
      " $ Frost         : num  20 152 15 65 20 166 139 103 11 60 ...\n",
      " $ Area          : num  50708 566432 113417 51945 156361 ...\n",
      " $ state.abb     : Factor w/ 50 levels \"AK\",\"AL\",\"AR\",..: 2 1 4 3 5 6 7 8 9 10 ...\n",
      " $ state.area    : num  51609 589757 113909 53104 158693 ...\n",
      " $ x             : num  -86.8 -127.2 -111.6 -92.3 -119.8 ...\n",
      " $ y             : num  32.6 49.2 34.2 34.7 36.5 ...\n",
      " $ state.division: Factor w/ 9 levels \"New England\",..: 4 9 8 5 9 8 1 3 3 3 ...\n",
      " $ state.name    : Factor w/ 50 levels \"Alabama\",\"Alaska\",..: 1 2 3 4 5 6 7 8 9 10 ...\n",
      " $ state.region  : Factor w/ 4 levels \"Northeast\",\"South\",..: 2 4 4 2 4 4 1 2 2 2 ...\n"
     ]
    }
   ],
   "source": [
    "str(statedata)"
   ]
  },
  {
   "cell_type": "code",
   "execution_count": 3,
   "metadata": {},
   "outputs": [
    {
     "data": {
      "text/plain": [
       "   Population        Income       Illiteracy       Life.Exp    \n",
       " Min.   :  365   Min.   :3098   Min.   :0.500   Min.   :67.96  \n",
       " 1st Qu.: 1080   1st Qu.:3993   1st Qu.:0.625   1st Qu.:70.12  \n",
       " Median : 2838   Median :4519   Median :0.950   Median :70.67  \n",
       " Mean   : 4246   Mean   :4436   Mean   :1.170   Mean   :70.88  \n",
       " 3rd Qu.: 4968   3rd Qu.:4814   3rd Qu.:1.575   3rd Qu.:71.89  \n",
       " Max.   :21198   Max.   :6315   Max.   :2.800   Max.   :73.60  \n",
       "                                                               \n",
       "     Murder          HS.Grad          Frost             Area       \n",
       " Min.   : 1.400   Min.   :37.80   Min.   :  0.00   Min.   :  1049  \n",
       " 1st Qu.: 4.350   1st Qu.:48.05   1st Qu.: 66.25   1st Qu.: 36985  \n",
       " Median : 6.850   Median :53.25   Median :114.50   Median : 54277  \n",
       " Mean   : 7.378   Mean   :53.11   Mean   :104.46   Mean   : 70736  \n",
       " 3rd Qu.:10.675   3rd Qu.:59.15   3rd Qu.:139.75   3rd Qu.: 81163  \n",
       " Max.   :15.100   Max.   :67.30   Max.   :188.00   Max.   :566432  \n",
       "                                                                   \n",
       "   state.abb    state.area           x                 y        \n",
       " AK     : 1   Min.   :  1214   Min.   :-127.25   Min.   :27.87  \n",
       " AL     : 1   1st Qu.: 37317   1st Qu.:-104.16   1st Qu.:35.55  \n",
       " AR     : 1   Median : 56222   Median : -89.90   Median :39.62  \n",
       " AZ     : 1   Mean   : 72368   Mean   : -92.46   Mean   :39.41  \n",
       " CA     : 1   3rd Qu.: 83234   3rd Qu.: -78.98   3rd Qu.:43.14  \n",
       " CO     : 1   Max.   :589757   Max.   : -68.98   Max.   :49.25  \n",
       " (Other):44                                                     \n",
       "            state.division      state.name        state.region\n",
       " South Atlantic    : 8     Alabama   : 1   Northeast    : 9   \n",
       " Mountain          : 8     Alaska    : 1   South        :16   \n",
       " West North Central: 7     Arizona   : 1   North Central:12   \n",
       " New England       : 6     Arkansas  : 1   West         :13   \n",
       " East North Central: 5     California: 1                      \n",
       " Pacific           : 5     Colorado  : 1                      \n",
       " (Other)           :11     (Other)   :44                      "
      ]
     },
     "metadata": {},
     "output_type": "display_data"
    }
   ],
   "source": [
    "summary(statedata)"
   ]
  },
  {
   "cell_type": "markdown",
   "metadata": {},
   "source": [
    "### Problem 1.1 - Linear Regression Models\n",
    "Let's recreate the linear regression models we made in the previous homework question. First, predict Life.Exp using all of the other variables as the independent variables (Population, Income, Illiteracy, Murder, HS.Grad, Frost, Area ). Use the entire dataset to build the model.\n",
    "\n",
    "What is the adjusted R-squared of the model?"
   ]
  },
  {
   "cell_type": "code",
   "execution_count": 4,
   "metadata": {},
   "outputs": [
    {
     "data": {
      "text/plain": [
       "\n",
       "Call:\n",
       "lm(formula = Life.Exp ~ Population + Income + Illiteracy + Murder + \n",
       "    HS.Grad + Frost + Area, data = statedata)\n",
       "\n",
       "Residuals:\n",
       "     Min       1Q   Median       3Q      Max \n",
       "-1.48895 -0.51232 -0.02747  0.57002  1.49447 \n",
       "\n",
       "Coefficients:\n",
       "              Estimate Std. Error t value Pr(>|t|)    \n",
       "(Intercept)  7.094e+01  1.748e+00  40.586  < 2e-16 ***\n",
       "Population   5.180e-05  2.919e-05   1.775   0.0832 .  \n",
       "Income      -2.180e-05  2.444e-04  -0.089   0.9293    \n",
       "Illiteracy   3.382e-02  3.663e-01   0.092   0.9269    \n",
       "Murder      -3.011e-01  4.662e-02  -6.459 8.68e-08 ***\n",
       "HS.Grad      4.893e-02  2.332e-02   2.098   0.0420 *  \n",
       "Frost       -5.735e-03  3.143e-03  -1.825   0.0752 .  \n",
       "Area        -7.383e-08  1.668e-06  -0.044   0.9649    \n",
       "---\n",
       "Signif. codes:  0 '***' 0.001 '**' 0.01 '*' 0.05 '.' 0.1 ' ' 1\n",
       "\n",
       "Residual standard error: 0.7448 on 42 degrees of freedom\n",
       "Multiple R-squared:  0.7362,\tAdjusted R-squared:  0.6922 \n",
       "F-statistic: 16.74 on 7 and 42 DF,  p-value: 2.534e-10\n"
      ]
     },
     "metadata": {},
     "output_type": "display_data"
    }
   ],
   "source": [
    "# Linear Regression\n",
    "linReg = lm(Life.Exp ~ Population + Income + Illiteracy + Murder + HS.Grad + Frost + Area, data=statedata)\n",
    "summary(linReg)"
   ]
  },
  {
   "cell_type": "markdown",
   "metadata": {},
   "source": [
    "Answer: Adjusted R-squared:  0.6922"
   ]
  },
  {
   "cell_type": "markdown",
   "metadata": {},
   "source": [
    "### Problem 1.2 - Linear Regression Models\n",
    "Calculate the sum of squared errors (SSE) between the predicted life expectancies using this model and the actual life expectancies:"
   ]
  },
  {
   "cell_type": "code",
   "execution_count": 5,
   "metadata": {},
   "outputs": [
    {
     "data": {
      "text/html": [
       "23.2971"
      ],
      "text/latex": [
       "23.2971"
      ],
      "text/markdown": [
       "23.2971"
      ],
      "text/plain": [
       "[1] 23.2971"
      ]
     },
     "metadata": {},
     "output_type": "display_data"
    }
   ],
   "source": [
    "# Make Predictions\n",
    "pred = predict(linReg)\n",
    "\n",
    "# Sum of Squared Errors\n",
    "sse = sum((pred - statedata$Life.Exp)^2)\n",
    "round(sse,4)"
   ]
  },
  {
   "cell_type": "code",
   "execution_count": 6,
   "metadata": {},
   "outputs": [
    {
     "data": {
      "text/html": [
       "23.2971"
      ],
      "text/latex": [
       "23.2971"
      ],
      "text/markdown": [
       "23.2971"
      ],
      "text/plain": [
       "[1] 23.2971"
      ]
     },
     "metadata": {},
     "output_type": "display_data"
    }
   ],
   "source": [
    "# Alternatively\n",
    "s = sum(linReg$residuals^2)\n",
    "round(s,4)"
   ]
  },
  {
   "cell_type": "markdown",
   "metadata": {},
   "source": [
    "### Problem 1.3 - Linear Regression Models\n",
    "Build a second linear regression model using just Population, Murder, Frost, and HS.Grad as independent variables (the best 4 variable model from the previous homework). What is the adjusted R-squared for this model?"
   ]
  },
  {
   "cell_type": "code",
   "execution_count": 7,
   "metadata": {},
   "outputs": [
    {
     "data": {
      "text/plain": [
       "\n",
       "Call:\n",
       "lm(formula = Life.Exp ~ Population + Murder + HS.Grad + Frost, \n",
       "    data = statedata)\n",
       "\n",
       "Residuals:\n",
       "     Min       1Q   Median       3Q      Max \n",
       "-1.47095 -0.53464 -0.03701  0.57621  1.50683 \n",
       "\n",
       "Coefficients:\n",
       "              Estimate Std. Error t value Pr(>|t|)    \n",
       "(Intercept)  7.103e+01  9.529e-01  74.542  < 2e-16 ***\n",
       "Population   5.014e-05  2.512e-05   1.996  0.05201 .  \n",
       "Murder      -3.001e-01  3.661e-02  -8.199 1.77e-10 ***\n",
       "HS.Grad      4.658e-02  1.483e-02   3.142  0.00297 ** \n",
       "Frost       -5.943e-03  2.421e-03  -2.455  0.01802 *  \n",
       "---\n",
       "Signif. codes:  0 '***' 0.001 '**' 0.01 '*' 0.05 '.' 0.1 ' ' 1\n",
       "\n",
       "Residual standard error: 0.7197 on 45 degrees of freedom\n",
       "Multiple R-squared:  0.736,\tAdjusted R-squared:  0.7126 \n",
       "F-statistic: 31.37 on 4 and 45 DF,  p-value: 1.696e-12\n"
      ]
     },
     "metadata": {},
     "output_type": "display_data"
    }
   ],
   "source": [
    "# Linear Regression with the best 4 variable\n",
    "linReg2 = lm(Life.Exp ~ Population + Murder + HS.Grad + Frost, data=statedata)\n",
    "summary(linReg2)"
   ]
  },
  {
   "cell_type": "markdown",
   "metadata": {},
   "source": [
    "Answer: Adjusted R-squared:  0.7126"
   ]
  },
  {
   "cell_type": "markdown",
   "metadata": {},
   "source": [
    "### Problem 1.4 - Linear Regression Models\n",
    "Calculate the sum of squared errors again, using this reduced model:"
   ]
  },
  {
   "cell_type": "code",
   "execution_count": 8,
   "metadata": {},
   "outputs": [
    {
     "data": {
      "text/html": [
       "23.308"
      ],
      "text/latex": [
       "23.308"
      ],
      "text/markdown": [
       "23.308"
      ],
      "text/plain": [
       "[1] 23.308"
      ]
     },
     "metadata": {},
     "output_type": "display_data"
    }
   ],
   "source": [
    "# Make Predictions\n",
    "pred2 = predict(linReg2)\n",
    "\n",
    "# Sum of Squared Errors\n",
    "sse2 = sum((pred2 - statedata$Life.Exp)^2)\n",
    "round(sse2,4)"
   ]
  },
  {
   "cell_type": "code",
   "execution_count": 9,
   "metadata": {},
   "outputs": [
    {
     "data": {
      "text/html": [
       "23.308"
      ],
      "text/latex": [
       "23.308"
      ],
      "text/markdown": [
       "23.308"
      ],
      "text/plain": [
       "[1] 23.308"
      ]
     },
     "metadata": {},
     "output_type": "display_data"
    }
   ],
   "source": [
    "# Alternatively\n",
    "s2 = sum(linReg2$residuals^2)\n",
    "round(s2,4)"
   ]
  },
  {
   "cell_type": "markdown",
   "metadata": {},
   "source": [
    "### Problem 1.5 - Linear Regression Models\n",
    "Which of the following is correct?"
   ]
  },
  {
   "cell_type": "markdown",
   "metadata": {},
   "source": [
    "Answer:\n",
    "\n",
    "    LinReg -> Adjusted R-squared: 0.6922\n",
    "\n",
    "    LinReg2 -> Adjusted R-squared: 0.7126 (Therefore, a better model.)"
   ]
  },
  {
   "cell_type": "markdown",
   "metadata": {},
   "source": [
    "### Problem 2.1 - CART Models\n",
    "Let's now build a CART model to predict Life.Exp using all of the other variables as independent variables (Population, Income, Illiteracy, Murder, HS.Grad, Frost, Area). We'll use the default minbucket parameter, so don't add the minbucket argument. Remember that in this problem we are not as interested in predicting life expectancies for new observations as we are understanding how they relate to the other variables we have, so we'll use all of the data to build our model. You shouldn't use the method=\"class\" argument since this is a regression tree.\n",
    "\n",
    "Plot the tree. Which of these variables appear in the tree?"
   ]
  },
  {
   "cell_type": "code",
   "execution_count": 10,
   "metadata": {},
   "outputs": [],
   "source": [
    "library(rpart)\n",
    "library(rpart.plot)"
   ]
  },
  {
   "cell_type": "code",
   "execution_count": 11,
   "metadata": {},
   "outputs": [
    {
     "data": {
      "image/png": "[encoded data removed]",
      "text/plain": [
       "plot without title"
      ]
     },
     "metadata": {
      "image/png": {
       "height": 420,
       "width": 420
      },
      "text/plain": {
       "height": 420,
       "width": 420
      }
     },
     "output_type": "display_data"
    }
   ],
   "source": [
    "# Classification and Regression Trees (CART)\n",
    "tree = rpart(Life.Exp ~ Population + Income + Illiteracy + Murder + HS.Grad + Frost + Area, data=statedata)\n",
    "\n",
    "# options(repr.plot.width=7, repr.plot.height=7)\n",
    "\n",
    "# Plot Tree\n",
    "prp(tree)"
   ]
  },
  {
   "cell_type": "markdown",
   "metadata": {},
   "source": [
    "Answer: Murder"
   ]
  },
  {
   "cell_type": "markdown",
   "metadata": {},
   "source": [
    "### Problem 2.2 - CART Models\n",
    "Use the regression tree you just built to predict life expectancies (using the predict function), and calculate the sum-of-squared-errors (SSE) like you did for linear regression. What is the SSE?"
   ]
  },
  {
   "cell_type": "code",
   "execution_count": 12,
   "metadata": {},
   "outputs": [
    {
     "data": {
      "text/html": [
       "28.9985"
      ],
      "text/latex": [
       "28.9985"
      ],
      "text/markdown": [
       "28.9985"
      ],
      "text/plain": [
       "[1] 28.9985"
      ]
     },
     "metadata": {},
     "output_type": "display_data"
    }
   ],
   "source": [
    "# Make Predictions\n",
    "pred3 = predict(tree)\n",
    "\n",
    "# Sum of Squared Errors\n",
    "sse3 = sum((pred3 - statedata$Life.Exp)^2)\n",
    "round(sse3,4)"
   ]
  },
  {
   "cell_type": "markdown",
   "metadata": {},
   "source": [
    "### Problem 2.3 - CART Models\n",
    "The error is higher than for the linear regression models. One reason might be that we haven't made the tree big enough. Set the minbucket parameter to 5, and recreate the tree.\n",
    "\n",
    "Which variables appear in this new tree?"
   ]
  },
  {
   "cell_type": "code",
   "execution_count": 13,
   "metadata": {},
   "outputs": [
    {
     "data": {
      "image/png": "[encoded data removed]",
      "text/plain": [
       "plot without title"
      ]
     },
     "metadata": {
      "image/png": {
       "height": 420,
       "width": 420
      },
      "text/plain": {
       "height": 420,
       "width": 420
      }
     },
     "output_type": "display_data"
    }
   ],
   "source": [
    "# Classification and Regression Trees (CART) with minbucket = 5\n",
    "tree2 = rpart(Life.Exp ~ Population + Income + Illiteracy + Murder + HS.Grad + Frost + Area, data=statedata, minbucket=5)\n",
    "\n",
    "# options(repr.plot.width=7, repr.plot.height=7)\n",
    "\n",
    "# Plot Tree\n",
    "prp(tree2)"
   ]
  },
  {
   "cell_type": "markdown",
   "metadata": {},
   "source": [
    "Answer: Murder, HS.Grad, Area."
   ]
  },
  {
   "cell_type": "markdown",
   "metadata": {},
   "source": [
    "### Problem 2.4 - CART Models\n",
    "Do you think the default minbucket parameter is smaller or larger than 5 based on the tree that was built?"
   ]
  },
  {
   "cell_type": "markdown",
   "metadata": {},
   "source": [
    "Answer:  If you set a minibucket value, say 3, then it would mean that every leaf node would have at least 3 observations in that bucket (more leafs than 5). Less value in the minibucket, more leafs, more value in the minibucket, less leafs. For sure, the default minibucket parameter are **larger** than 5. "
   ]
  },
  {
   "cell_type": "markdown",
   "metadata": {},
   "source": [
    "### Problem 2.5 - CART Models\n",
    "What is the SSE of this tree?"
   ]
  },
  {
   "cell_type": "code",
   "execution_count": 14,
   "metadata": {},
   "outputs": [
    {
     "data": {
      "text/html": [
       "23.6428"
      ],
      "text/latex": [
       "23.6428"
      ],
      "text/markdown": [
       "23.6428"
      ],
      "text/plain": [
       "[1] 23.6428"
      ]
     },
     "metadata": {},
     "output_type": "display_data"
    }
   ],
   "source": [
    "# Make Predictions\n",
    "pred4 = predict(tree2)\n",
    "\n",
    "# Sum of Squared Errors\n",
    "sse4 = sum((pred4 - statedata$Life.Exp)^2)\n",
    "round(sse4,4)"
   ]
  },
  {
   "cell_type": "markdown",
   "metadata": {},
   "source": [
    "This is much closer to the linear regression model's error. By changing the parameters we have improved the fit of our model."
   ]
  },
  {
   "cell_type": "markdown",
   "metadata": {},
   "source": [
    "### Problem 2.6 - CART Models\n",
    "Can we do even better? Create a tree that predicts Life.Exp using only Area, with the minbucket parameter to 1. What is the SSE of this newest tree?"
   ]
  },
  {
   "cell_type": "code",
   "execution_count": 15,
   "metadata": {},
   "outputs": [
    {
     "data": {
      "image/png": "[encoded data removed]",
      "text/plain": [
       "plot without title"
      ]
     },
     "metadata": {
      "image/png": {
       "height": 420,
       "width": 420
      },
      "text/plain": {
       "height": 420,
       "width": 420
      }
     },
     "output_type": "display_data"
    }
   ],
   "source": [
    "# Classification and Regression Trees (CART), using only Area and with minbucket = 1\n",
    "tree3 = rpart(Life.Exp ~ Area, data=statedata, minbucket=1)\n",
    "\n",
    "# Plot Tree\n",
    "prp(tree3)"
   ]
  },
  {
   "cell_type": "code",
   "execution_count": 16,
   "metadata": {},
   "outputs": [
    {
     "data": {
      "text/html": [
       "9.3124"
      ],
      "text/latex": [
       "9.3124"
      ],
      "text/markdown": [
       "9.3124"
      ],
      "text/plain": [
       "[1] 9.3124"
      ]
     },
     "metadata": {},
     "output_type": "display_data"
    }
   ],
   "source": [
    "# Make Predictions\n",
    "pred5 = predict(tree3)\n",
    "\n",
    "# Sum of Squared Errors\n",
    "sse5 = sum((pred5 - statedata$Life.Exp)^2)\n",
    "round(sse5,4)"
   ]
  },
  {
   "cell_type": "markdown",
   "metadata": {},
   "source": [
    "### Problem 2.7 - CART Models\n",
    "This is the lowest error we have seen so far. What would be the best interpretation of this result?"
   ]
  },
  {
   "cell_type": "markdown",
   "metadata": {},
   "source": [
    "Answer: Overfiting"
   ]
  },
  {
   "cell_type": "markdown",
   "metadata": {},
   "source": [
    "### Problem 3.1 - Cross-validation\n",
    "Adjusting the variables included in a linear regression model is a form of model tuning. In Problem 1 we showed that by removing variables in our linear regression model (tuning the model), we were able to maintain the fit of the model while using a simpler model. A rule of thumb is that simpler models are more interpretable and generalizeable. We will now tune our regression tree to see if we can improve the fit of our tree while keeping it as simple as possible.\n",
    "\n",
    "Load the caret library, and set the seed to 111. Set up the controls exactly like we did in the lecture (10-fold cross-validation) with cp varying over the range 0.01 to 0.50 in increments of 0.01. Use the train function to determine the best cp value for a CART model using all of the available independent variables, and the entire dataset statedata. What value of cp does the train function recommend? (Remember that the train function tells you to pick the largest value of cp with the lowest error when there are ties, and explains this at the bottom of the output.)"
   ]
  },
  {
   "cell_type": "code",
   "execution_count": 17,
   "metadata": {},
   "outputs": [
    {
     "name": "stderr",
     "output_type": "stream",
     "text": [
      "Loading required package: lattice\n",
      "\n",
      "Loading required package: ggplot2\n",
      "\n"
     ]
    }
   ],
   "source": [
    "library(caret)"
   ]
  },
  {
   "cell_type": "code",
   "execution_count": 18,
   "metadata": {},
   "outputs": [
    {
     "name": "stderr",
     "output_type": "stream",
     "text": [
      "Warning message in nominalTrainWorkflow(x = x, y = y, wts = weights, info = trainInfo, :\n",
      "\"There were missing values in resampled performance measures.\"\n"
     ]
    },
    {
     "data": {
      "text/plain": [
       "CART \n",
       "\n",
       "50 samples\n",
       " 7 predictor\n",
       "\n",
       "No pre-processing\n",
       "Resampling: Cross-Validated (10 fold) \n",
       "Summary of sample sizes: 44, 45, 45, 46, 44, 45, ... \n",
       "Resampling results across tuning parameters:\n",
       "\n",
       "  cp    RMSE      Rsquared   MAE      \n",
       "  0.01  1.042909  0.5206939  0.8299237\n",
       "  0.02  1.042909  0.5206939  0.8299237\n",
       "  0.03  1.027748  0.5338091  0.8173654\n",
       "  0.04  1.032567  0.5338091  0.8173654\n",
       "  0.05  1.032567  0.5338091  0.8173654\n",
       "  0.06  1.033866  0.5206565  0.8320776\n",
       "  0.07  1.029830  0.5285854  0.8252412\n",
       "  0.08  1.029830  0.5285854  0.8252412\n",
       "  0.09  1.029830  0.5285854  0.8252412\n",
       "  0.10  1.005814  0.5512315  0.8079269\n",
       "  0.11  1.005814  0.5512315  0.8079269\n",
       "  0.12  1.005814  0.5512315  0.8079269\n",
       "  0.13  1.032234  0.5238042  0.8262453\n",
       "  0.14  1.083214  0.5041955  0.8725504\n",
       "  0.15  1.106834  0.4822947  0.9050228\n",
       "  0.16  1.138118  0.4775423  0.9422217\n",
       "  0.17  1.174001  0.4287787  0.9676503\n",
       "  0.18  1.192122  0.3990629  0.9942598\n",
       "  0.19  1.192122  0.3990629  0.9942598\n",
       "  0.20  1.192122  0.3990629  0.9942598\n",
       "  0.21  1.192122  0.3990629  0.9942598\n",
       "  0.22  1.192122  0.3990629  0.9942598\n",
       "  0.23  1.192122  0.3990629  0.9942598\n",
       "  0.24  1.192122  0.3990629  0.9942598\n",
       "  0.25  1.192122  0.3990629  0.9942598\n",
       "  0.26  1.192122  0.3990629  0.9942598\n",
       "  0.27  1.192122  0.3990629  0.9942598\n",
       "  0.28  1.192122  0.3990629  0.9942598\n",
       "  0.29  1.192122  0.3990629  0.9942598\n",
       "  0.30  1.192122  0.3990629  0.9942598\n",
       "  0.31  1.192122  0.3990629  0.9942598\n",
       "  0.32  1.192122  0.3990629  0.9942598\n",
       "  0.33  1.192122  0.3990629  0.9942598\n",
       "  0.34  1.192122  0.3990629  0.9942598\n",
       "  0.35  1.192122  0.3990629  0.9942598\n",
       "  0.36  1.192122  0.3990629  0.9942598\n",
       "  0.37  1.192122  0.3990629  0.9942598\n",
       "  0.38  1.192122  0.3990629  0.9942598\n",
       "  0.39  1.192122  0.3990629  0.9942598\n",
       "  0.40  1.192122  0.3990629  0.9942598\n",
       "  0.41  1.192122  0.3990629  0.9942598\n",
       "  0.42  1.192122  0.3990629  0.9942598\n",
       "  0.43  1.192122  0.3990629  0.9942598\n",
       "  0.44  1.192122  0.3990629  0.9942598\n",
       "  0.45  1.192122  0.3990629  0.9942598\n",
       "  0.46  1.308759  0.3091923  1.0963695\n",
       "  0.47  1.309534  0.3328614  1.0922317\n",
       "  0.48  1.358580  0.2908310  1.1126138\n",
       "  0.49  1.335777  0.3552299  1.0771938\n",
       "  0.50  1.361946  0.2358921  1.1229974\n",
       "\n",
       "RMSE was used to select the optimal model using the smallest value.\n",
       "The final value used for the model was cp = 0.12."
      ]
     },
     "metadata": {},
     "output_type": "display_data"
    }
   ],
   "source": [
    "# To found Complexity Parameter\n",
    "\n",
    "set.seed(111)\n",
    "\n",
    "tr.control = trainControl(method='cv', number=10)\n",
    "\n",
    "cp.grid = expand.grid(.cp=seq(0.01, 0.50, 0.01))\n",
    "\n",
    "train(Life.Exp ~ Population + Income + Illiteracy + Murder + HS.Grad + Frost + Area, \n",
    "      data=statedata, method='rpart', trControl=tr.control, tuneGrid=cp.grid)"
   ]
  },
  {
   "cell_type": "markdown",
   "metadata": {},
   "source": [
    "Answer: Recomended cp = 0.12"
   ]
  },
  {
   "cell_type": "markdown",
   "metadata": {},
   "source": [
    "### Problem 3.2 - Cross-Validation\n",
    "Create a tree with the value of cp you found in the previous problem, all of the available independent variables, and the entire dataset \"statedata\" as the training data. Then plot the tree. You'll notice that this is actually quite similar to the first tree we created with the initial model. Interpret the tree: we predict the life expectancy to be 70 if the murder rate is greater than or equal to ... and is less than..."
   ]
  },
  {
   "cell_type": "code",
   "execution_count": 19,
   "metadata": {},
   "outputs": [
    {
     "data": {
      "image/png": "[encoded data removed]",
      "text/plain": [
       "plot without title"
      ]
     },
     "metadata": {
      "image/png": {
       "height": 420,
       "width": 420
      },
      "text/plain": {
       "height": 420,
       "width": 420
      }
     },
     "output_type": "display_data"
    }
   ],
   "source": [
    "# Classification and Regression Trees (CART), with Complexity Parameter = 0.12\n",
    "tree4 = rpart(Life.Exp ~ Population + Income + Illiteracy + Murder + HS.Grad + Frost + Area, data=statedata, cp=0.12)\n",
    "\n",
    "#options(repr.plot.width=7, repr.plot.height=7)\n",
    "\n",
    "# Plot Tree\n",
    "prp(tree4)"
   ]
  },
  {
   "cell_type": "markdown",
   "metadata": {},
   "source": [
    "Answer:  We predict the life expectancy to be 70 if the murder rate is greater than or equal to 6.6 and is less than 11."
   ]
  },
  {
   "cell_type": "markdown",
   "metadata": {},
   "source": [
    "### Problem 3.3 - Cross-Validation\n",
    "Calculate the SSE of this tree:"
   ]
  },
  {
   "cell_type": "code",
   "execution_count": 20,
   "metadata": {},
   "outputs": [
    {
     "data": {
      "text/html": [
       "32.8655"
      ],
      "text/latex": [
       "32.8655"
      ],
      "text/markdown": [
       "32.8655"
      ],
      "text/plain": [
       "[1] 32.8655"
      ]
     },
     "metadata": {},
     "output_type": "display_data"
    }
   ],
   "source": [
    "# Make Predictions\n",
    "pred6 = predict(tree4)\n",
    "\n",
    "# Sum of Squared Errors\n",
    "sse6 = sum((pred6 - statedata$Life.Exp)^2)\n",
    "round(sse6,4)"
   ]
  },
  {
   "cell_type": "markdown",
   "metadata": {},
   "source": [
    "### Problem 3.4 - Cross-Validation\n",
    "Recall the first tree (default parameters), second tree (minbucket = 5), and the third tree (selected with cross validation) we made. Given what you have learned about cross-validation, which of the three models would you expect to be better if we did use it for prediction on a test set? For this question, suppose we had actually set aside a few observations (states) in a test set, and we want to make predictions on those states."
   ]
  },
  {
   "cell_type": "code",
   "execution_count": 21,
   "metadata": {},
   "outputs": [
    {
     "data": {
      "text/html": [
       "'Sum of Squared Errors for Tree1: 28.9985'"
      ],
      "text/latex": [
       "'Sum of Squared Errors for Tree1: 28.9985'"
      ],
      "text/markdown": [
       "'Sum of Squared Errors for Tree1: 28.9985'"
      ],
      "text/plain": [
       "[1] \"Sum of Squared Errors for Tree1: 28.9985\""
      ]
     },
     "metadata": {},
     "output_type": "display_data"
    },
    {
     "data": {
      "text/html": [
       "'Sum of Squared Errors for Tree2: 23.6428'"
      ],
      "text/latex": [
       "'Sum of Squared Errors for Tree2: 23.6428'"
      ],
      "text/markdown": [
       "'Sum of Squared Errors for Tree2: 23.6428'"
      ],
      "text/plain": [
       "[1] \"Sum of Squared Errors for Tree2: 23.6428\""
      ]
     },
     "metadata": {},
     "output_type": "display_data"
    },
    {
     "data": {
      "text/html": [
       "'Sum of Squared Errors for Tree3: 32.8655'"
      ],
      "text/latex": [
       "'Sum of Squared Errors for Tree3: 32.8655'"
      ],
      "text/markdown": [
       "'Sum of Squared Errors for Tree3: 32.8655'"
      ],
      "text/plain": [
       "[1] \"Sum of Squared Errors for Tree3: 32.8655\""
      ]
     },
     "metadata": {},
     "output_type": "display_data"
    }
   ],
   "source": [
    "# Classification and Regression Trees (CART)\n",
    "# tree = rpart(Life.Exp ~ Population + Income + Illiteracy + Murder + HS.Grad + Frost + Area, data=statedata)\n",
    "t1 = round(sse3,4)\n",
    "paste(\"Sum of Squared Errors for Tree1:\",t1)\n",
    "\n",
    "# Classification and Regression Trees (CART) with minbucket = 5\n",
    "# tree2 = rpart(Life.Exp ~ Population + Income + Illiteracy + Murder + HS.Grad + Frost + Area, data=statedata, minbucket=5)\n",
    "t2 = round(sse4,4)\n",
    "paste(\"Sum of Squared Errors for Tree2:\",t2)\n",
    "\n",
    "# Classification and Regression Trees (CART), with Complexity Parameter = 0.12\n",
    "# tree4 = rpart(Life.Exp ~ Population + Income + Illiteracy + Murder + HS.Grad + Frost + Area, data=statedata, cp=0.12)\n",
    "t3 = round(sse6,4)\n",
    "paste(\"Sum of Squared Errors for Tree3:\",t3)"
   ]
  },
  {
   "cell_type": "markdown",
   "metadata": {},
   "source": [
    "### Problem 3.5 - Cross-Validation\n",
    "At the end of Problem 2 we made a very complex tree using just Area. Use train with the same parameters as before but just using Area as an independent variable to find the best cp value (set the seed to 111 first). Then build a new tree using just Area and this value of cp.\n",
    "\n",
    "How many splits does the tree have?"
   ]
  },
  {
   "cell_type": "code",
   "execution_count": 22,
   "metadata": {},
   "outputs": [
    {
     "name": "stderr",
     "output_type": "stream",
     "text": [
      "Warning message in nominalTrainWorkflow(x = x, y = y, wts = weights, info = trainInfo, :\n",
      "\"There were missing values in resampled performance measures.\"\n"
     ]
    },
    {
     "data": {
      "text/plain": [
       "CART \n",
       "\n",
       "50 samples\n",
       " 1 predictor\n",
       "\n",
       "No pre-processing\n",
       "Resampling: Cross-Validated (10 fold) \n",
       "Summary of sample sizes: 44, 45, 45, 46, 44, 45, ... \n",
       "Resampling results across tuning parameters:\n",
       "\n",
       "  cp    RMSE      Rsquared     MAE     \n",
       "  0.01  1.285085  0.242889993  1.068979\n",
       "  0.02  1.297420  0.227958081  1.077964\n",
       "  0.03  1.297420  0.227958081  1.077964\n",
       "  0.04  1.297420  0.227958081  1.077964\n",
       "  0.05  1.297420  0.227958081  1.077964\n",
       "  0.06  1.283241  0.255224868  1.071996\n",
       "  0.07  1.283241  0.255224868  1.071996\n",
       "  0.08  1.277535  0.253025061  1.054684\n",
       "  0.09  1.286127  0.239816630  1.060619\n",
       "  0.10  1.286127  0.239816630  1.060619\n",
       "  0.11  1.286127  0.239816630  1.060619\n",
       "  0.12  1.278550  0.239816630  1.060619\n",
       "  0.13  1.336117  0.205007172  1.116064\n",
       "  0.14  1.364618  0.132092640  1.125916\n",
       "  0.15  1.364016  0.272311296  1.124202\n",
       "  0.16  1.348422  0.216040174  1.128918\n",
       "  0.17  1.365452  0.125811897  1.110581\n",
       "  0.18  1.334937  0.006222148  1.103295\n",
       "  0.19  1.328891          NaN  1.099663\n",
       "  0.20  1.328891          NaN  1.099663\n",
       "  0.21  1.328891          NaN  1.099663\n",
       "  0.22  1.328891          NaN  1.099663\n",
       "  0.23  1.328891          NaN  1.099663\n",
       "  0.24  1.328891          NaN  1.099663\n",
       "  0.25  1.328891          NaN  1.099663\n",
       "  0.26  1.328891          NaN  1.099663\n",
       "  0.27  1.328891          NaN  1.099663\n",
       "  0.28  1.328891          NaN  1.099663\n",
       "  0.29  1.328891          NaN  1.099663\n",
       "  0.30  1.328891          NaN  1.099663\n",
       "  0.31  1.328891          NaN  1.099663\n",
       "  0.32  1.328891          NaN  1.099663\n",
       "  0.33  1.328891          NaN  1.099663\n",
       "  0.34  1.328891          NaN  1.099663\n",
       "  0.35  1.328891          NaN  1.099663\n",
       "  0.36  1.328891          NaN  1.099663\n",
       "  0.37  1.328891          NaN  1.099663\n",
       "  0.38  1.328891          NaN  1.099663\n",
       "  0.39  1.328891          NaN  1.099663\n",
       "  0.40  1.328891          NaN  1.099663\n",
       "  0.41  1.328891          NaN  1.099663\n",
       "  0.42  1.328891          NaN  1.099663\n",
       "  0.43  1.328891          NaN  1.099663\n",
       "  0.44  1.328891          NaN  1.099663\n",
       "  0.45  1.328891          NaN  1.099663\n",
       "  0.46  1.328891          NaN  1.099663\n",
       "  0.47  1.328891          NaN  1.099663\n",
       "  0.48  1.328891          NaN  1.099663\n",
       "  0.49  1.328891          NaN  1.099663\n",
       "  0.50  1.328891          NaN  1.099663\n",
       "\n",
       "RMSE was used to select the optimal model using the smallest value.\n",
       "The final value used for the model was cp = 0.08."
      ]
     },
     "metadata": {},
     "output_type": "display_data"
    }
   ],
   "source": [
    "# Found Complexity Parameter for a Tree with only Area\n",
    "\n",
    "set.seed(111)\n",
    "\n",
    "train(Life.Exp ~ Area, data = statedata, method = \"rpart\", trControl = tr.control, tuneGrid = cp.grid)"
   ]
  },
  {
   "cell_type": "code",
   "execution_count": 23,
   "metadata": {},
   "outputs": [
    {
     "data": {
      "image/png": "[encoded data removed]",
      "text/plain": [
       "plot without title"
      ]
     },
     "metadata": {
      "image/png": {
       "height": 420,
       "width": 420
      },
      "text/plain": {
       "height": 420,
       "width": 420
      }
     },
     "output_type": "display_data"
    }
   ],
   "source": [
    "# New Tree using only Area and \n",
    "tree5 = rpart(Life.Exp ~ Area, data = statedata,cp=0.08)\n",
    "\n",
    "# Plot Tree5\n",
    "prp(tree5)"
   ]
  },
  {
   "cell_type": "markdown",
   "metadata": {},
   "source": [
    "Answer: 3 splits"
   ]
  },
  {
   "cell_type": "markdown",
   "metadata": {},
   "source": [
    "### Problem 3.6 - Cross-Validation\n",
    "The lower left leaf (or bucket) corresponds to the lowest predicted Life.Exp of 70. Observations in this leaf correspond to states with area greater than or equal to ... and area less than ..."
   ]
  },
  {
   "cell_type": "markdown",
   "metadata": {},
   "source": [
    "Answer: We predict the life expectancy to be 70 if the Area is greater than 9579."
   ]
  },
  {
   "cell_type": "markdown",
   "metadata": {},
   "source": [
    "### Problem 3.7 - Cross-Validation\n",
    "We have simplified the previous \"Area tree\" considerably by using cross-validation. Calculate the SSE of the cross-validated \"Area tree\"."
   ]
  },
  {
   "cell_type": "code",
   "execution_count": 24,
   "metadata": {},
   "outputs": [
    {
     "data": {
      "text/html": [
       "49.7121"
      ],
      "text/latex": [
       "49.7121"
      ],
      "text/markdown": [
       "49.7121"
      ],
      "text/plain": [
       "[1] 49.7121"
      ]
     },
     "metadata": {},
     "output_type": "display_data"
    }
   ],
   "source": [
    "# Make Predictions\n",
    "pred7 = predict(tree5)\n",
    "\n",
    "# Sum of Squared Errors\n",
    "sse7 = sum((pred7 - statedata$Life.Exp)^2)\n",
    "round(sse7,4)"
   ]
  }
 ],
 "metadata": {
  "kernelspec": {
   "display_name": "R",
   "language": "R",
   "name": "ir"
  },
  "language_info": {
   "codemirror_mode": "r",
   "file_extension": ".r",
   "mimetype": "text/x-r-source",
   "name": "R",
   "pygments_lexer": "r",
   "version": "3.6.3"
  }
 },
 "nbformat": 4,
 "nbformat_minor": 4
}
