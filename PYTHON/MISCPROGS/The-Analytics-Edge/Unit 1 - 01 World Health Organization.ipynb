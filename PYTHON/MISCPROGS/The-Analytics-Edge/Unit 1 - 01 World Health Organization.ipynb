{
 "cells": [
  {
   "cell_type": "markdown",
   "metadata": {},
   "source": [
    "# WHO & Basic Analysis"
   ]
  },
  {
   "cell_type": "markdown",
   "metadata": {},
   "source": [
    "**Basic DataFrames**"
   ]
  },
  {
   "cell_type": "code",
   "execution_count": 1,
   "metadata": {},
   "outputs": [],
   "source": [
    "Country = c(\"Brazil\", \"China\", \"India\",\"Switzerland\",\"USA\")\n",
    "LifeExpectancy = c(74,76,65,83,79)"
   ]
  },
  {
   "cell_type": "code",
   "execution_count": 2,
   "metadata": {},
   "outputs": [
    {
     "data": {
      "text/html": [
       "<table>\n",
       "<caption>A data.frame: 5 × 2</caption>\n",
       "<thead>\n",
       "\t<tr><th scope=col>Country</th><th scope=col>LifeExpectancy</th></tr>\n",
       "\t<tr><th scope=col>&lt;fct&gt;</th><th scope=col>&lt;dbl&gt;</th></tr>\n",
       "</thead>\n",
       "<tbody>\n",
       "\t<tr><td>Brazil     </td><td>74</td></tr>\n",
       "\t<tr><td>China      </td><td>76</td></tr>\n",
       "\t<tr><td>India      </td><td>65</td></tr>\n",
       "\t<tr><td>Switzerland</td><td>83</td></tr>\n",
       "\t<tr><td>USA        </td><td>79</td></tr>\n",
       "</tbody>\n",
       "</table>\n"
      ],
      "text/latex": [
       "A data.frame: 5 × 2\n",
       "\\begin{tabular}{ll}\n",
       " Country & LifeExpectancy\\\\\n",
       " <fct> & <dbl>\\\\\n",
       "\\hline\n",
       "\t Brazil      & 74\\\\\n",
       "\t China       & 76\\\\\n",
       "\t India       & 65\\\\\n",
       "\t Switzerland & 83\\\\\n",
       "\t USA         & 79\\\\\n",
       "\\end{tabular}\n"
      ],
      "text/markdown": [
       "\n",
       "A data.frame: 5 × 2\n",
       "\n",
       "| Country &lt;fct&gt; | LifeExpectancy &lt;dbl&gt; |\n",
       "|---|---|\n",
       "| Brazil      | 74 |\n",
       "| China       | 76 |\n",
       "| India       | 65 |\n",
       "| Switzerland | 83 |\n",
       "| USA         | 79 |\n",
       "\n"
      ],
      "text/plain": [
       "  Country     LifeExpectancy\n",
       "1 Brazil      74            \n",
       "2 China       76            \n",
       "3 India       65            \n",
       "4 Switzerland 83            \n",
       "5 USA         79            "
      ]
     },
     "metadata": {},
     "output_type": "display_data"
    }
   ],
   "source": [
    "CountryData = data.frame(Country, LifeExpectancy)\n",
    "CountryData"
   ]
  },
  {
   "cell_type": "markdown",
   "metadata": {},
   "source": [
    "**Add New Column to the DataFrame**"
   ]
  },
  {
   "cell_type": "code",
   "execution_count": 3,
   "metadata": {},
   "outputs": [
    {
     "data": {
      "text/html": [
       "<table>\n",
       "<caption>A data.frame: 5 × 3</caption>\n",
       "<thead>\n",
       "\t<tr><th scope=col>Country</th><th scope=col>LifeExpectancy</th><th scope=col>Population</th></tr>\n",
       "\t<tr><th scope=col>&lt;fct&gt;</th><th scope=col>&lt;dbl&gt;</th><th scope=col>&lt;dbl&gt;</th></tr>\n",
       "</thead>\n",
       "<tbody>\n",
       "\t<tr><td>Brazil     </td><td>74</td><td> 199000</td></tr>\n",
       "\t<tr><td>China      </td><td>76</td><td>1390000</td></tr>\n",
       "\t<tr><td>India      </td><td>65</td><td>1240000</td></tr>\n",
       "\t<tr><td>Switzerland</td><td>83</td><td>   7997</td></tr>\n",
       "\t<tr><td>USA        </td><td>79</td><td> 318000</td></tr>\n",
       "</tbody>\n",
       "</table>\n"
      ],
      "text/latex": [
       "A data.frame: 5 × 3\n",
       "\\begin{tabular}{lll}\n",
       " Country & LifeExpectancy & Population\\\\\n",
       " <fct> & <dbl> & <dbl>\\\\\n",
       "\\hline\n",
       "\t Brazil      & 74 &  199000\\\\\n",
       "\t China       & 76 & 1390000\\\\\n",
       "\t India       & 65 & 1240000\\\\\n",
       "\t Switzerland & 83 &    7997\\\\\n",
       "\t USA         & 79 &  318000\\\\\n",
       "\\end{tabular}\n"
      ],
      "text/markdown": [
       "\n",
       "A data.frame: 5 × 3\n",
       "\n",
       "| Country &lt;fct&gt; | LifeExpectancy &lt;dbl&gt; | Population &lt;dbl&gt; |\n",
       "|---|---|---|\n",
       "| Brazil      | 74 |  199000 |\n",
       "| China       | 76 | 1390000 |\n",
       "| India       | 65 | 1240000 |\n",
       "| Switzerland | 83 |    7997 |\n",
       "| USA         | 79 |  318000 |\n",
       "\n"
      ],
      "text/plain": [
       "  Country     LifeExpectancy Population\n",
       "1 Brazil      74              199000   \n",
       "2 China       76             1390000   \n",
       "3 India       65             1240000   \n",
       "4 Switzerland 83                7997   \n",
       "5 USA         79              318000   "
      ]
     },
     "metadata": {},
     "output_type": "display_data"
    }
   ],
   "source": [
    "CountryData$Population = c(199000,1390000,1240000,7997,318000)\n",
    "CountryData"
   ]
  },
  {
   "cell_type": "markdown",
   "metadata": {},
   "source": [
    "**Loading csv files**"
   ]
  },
  {
   "cell_type": "code",
   "execution_count": 4,
   "metadata": {},
   "outputs": [
    {
     "data": {
      "text/html": [
       "<table>\n",
       "<caption>A data.frame: 6 × 13</caption>\n",
       "<thead>\n",
       "\t<tr><th></th><th scope=col>Country</th><th scope=col>Region</th><th scope=col>Population</th><th scope=col>Under15</th><th scope=col>Over60</th><th scope=col>FertilityRate</th><th scope=col>LifeExpectancy</th><th scope=col>ChildMortality</th><th scope=col>CellularSubscribers</th><th scope=col>LiteracyRate</th><th scope=col>GNI</th><th scope=col>PrimarySchoolEnrollmentMale</th><th scope=col>PrimarySchoolEnrollmentFemale</th></tr>\n",
       "\t<tr><th></th><th scope=col>&lt;fct&gt;</th><th scope=col>&lt;fct&gt;</th><th scope=col>&lt;int&gt;</th><th scope=col>&lt;dbl&gt;</th><th scope=col>&lt;dbl&gt;</th><th scope=col>&lt;dbl&gt;</th><th scope=col>&lt;int&gt;</th><th scope=col>&lt;dbl&gt;</th><th scope=col>&lt;dbl&gt;</th><th scope=col>&lt;dbl&gt;</th><th scope=col>&lt;dbl&gt;</th><th scope=col>&lt;dbl&gt;</th><th scope=col>&lt;dbl&gt;</th></tr>\n",
       "</thead>\n",
       "<tbody>\n",
       "\t<tr><th scope=row>1</th><td>Afghanistan        </td><td>Eastern Mediterranean</td><td>29825</td><td>47.42</td><td> 3.82</td><td>5.40</td><td>60</td><td> 98.5</td><td> 54.26</td><td>  NA</td><td> 1140</td><td>  NA</td><td>  NA</td></tr>\n",
       "\t<tr><th scope=row>2</th><td>Albania            </td><td>Europe               </td><td> 3162</td><td>21.33</td><td>14.93</td><td>1.75</td><td>74</td><td> 16.7</td><td> 96.39</td><td>  NA</td><td> 8820</td><td>  NA</td><td>  NA</td></tr>\n",
       "\t<tr><th scope=row>3</th><td>Algeria            </td><td>Africa               </td><td>38482</td><td>27.42</td><td> 7.17</td><td>2.83</td><td>73</td><td> 20.0</td><td> 98.99</td><td>  NA</td><td> 8310</td><td>98.2</td><td>96.4</td></tr>\n",
       "\t<tr><th scope=row>4</th><td>Andorra            </td><td>Europe               </td><td>   78</td><td>15.20</td><td>22.86</td><td>  NA</td><td>82</td><td>  3.2</td><td> 75.49</td><td>  NA</td><td>   NA</td><td>78.4</td><td>79.4</td></tr>\n",
       "\t<tr><th scope=row>5</th><td>Angola             </td><td>Africa               </td><td>20821</td><td>47.58</td><td> 3.84</td><td>6.10</td><td>51</td><td>163.5</td><td> 48.38</td><td>70.1</td><td> 5230</td><td>93.1</td><td>78.2</td></tr>\n",
       "\t<tr><th scope=row>6</th><td>Antigua and Barbuda</td><td>Americas             </td><td>   89</td><td>25.96</td><td>12.35</td><td>2.12</td><td>75</td><td>  9.9</td><td>196.41</td><td>99.0</td><td>17900</td><td>91.1</td><td>84.5</td></tr>\n",
       "</tbody>\n",
       "</table>\n"
      ],
      "text/latex": [
       "A data.frame: 6 × 13\n",
       "\\begin{tabular}{r|lllllllllllll}\n",
       "  & Country & Region & Population & Under15 & Over60 & FertilityRate & LifeExpectancy & ChildMortality & CellularSubscribers & LiteracyRate & GNI & PrimarySchoolEnrollmentMale & PrimarySchoolEnrollmentFemale\\\\\n",
       "  & <fct> & <fct> & <int> & <dbl> & <dbl> & <dbl> & <int> & <dbl> & <dbl> & <dbl> & <dbl> & <dbl> & <dbl>\\\\\n",
       "\\hline\n",
       "\t1 & Afghanistan         & Eastern Mediterranean & 29825 & 47.42 &  3.82 & 5.40 & 60 &  98.5 &  54.26 &   NA &  1140 &   NA &   NA\\\\\n",
       "\t2 & Albania             & Europe                &  3162 & 21.33 & 14.93 & 1.75 & 74 &  16.7 &  96.39 &   NA &  8820 &   NA &   NA\\\\\n",
       "\t3 & Algeria             & Africa                & 38482 & 27.42 &  7.17 & 2.83 & 73 &  20.0 &  98.99 &   NA &  8310 & 98.2 & 96.4\\\\\n",
       "\t4 & Andorra             & Europe                &    78 & 15.20 & 22.86 &   NA & 82 &   3.2 &  75.49 &   NA &    NA & 78.4 & 79.4\\\\\n",
       "\t5 & Angola              & Africa                & 20821 & 47.58 &  3.84 & 6.10 & 51 & 163.5 &  48.38 & 70.1 &  5230 & 93.1 & 78.2\\\\\n",
       "\t6 & Antigua and Barbuda & Americas              &    89 & 25.96 & 12.35 & 2.12 & 75 &   9.9 & 196.41 & 99.0 & 17900 & 91.1 & 84.5\\\\\n",
       "\\end{tabular}\n"
      ],
      "text/markdown": [
       "\n",
       "A data.frame: 6 × 13\n",
       "\n",
       "| <!--/--> | Country &lt;fct&gt; | Region &lt;fct&gt; | Population &lt;int&gt; | Under15 &lt;dbl&gt; | Over60 &lt;dbl&gt; | FertilityRate &lt;dbl&gt; | LifeExpectancy &lt;int&gt; | ChildMortality &lt;dbl&gt; | CellularSubscribers &lt;dbl&gt; | LiteracyRate &lt;dbl&gt; | GNI &lt;dbl&gt; | PrimarySchoolEnrollmentMale &lt;dbl&gt; | PrimarySchoolEnrollmentFemale &lt;dbl&gt; |\n",
       "|---|---|---|---|---|---|---|---|---|---|---|---|---|---|\n",
       "| 1 | Afghanistan         | Eastern Mediterranean | 29825 | 47.42 |  3.82 | 5.40 | 60 |  98.5 |  54.26 |   NA |  1140 |   NA |   NA |\n",
       "| 2 | Albania             | Europe                |  3162 | 21.33 | 14.93 | 1.75 | 74 |  16.7 |  96.39 |   NA |  8820 |   NA |   NA |\n",
       "| 3 | Algeria             | Africa                | 38482 | 27.42 |  7.17 | 2.83 | 73 |  20.0 |  98.99 |   NA |  8310 | 98.2 | 96.4 |\n",
       "| 4 | Andorra             | Europe                |    78 | 15.20 | 22.86 |   NA | 82 |   3.2 |  75.49 |   NA |    NA | 78.4 | 79.4 |\n",
       "| 5 | Angola              | Africa                | 20821 | 47.58 |  3.84 | 6.10 | 51 | 163.5 |  48.38 | 70.1 |  5230 | 93.1 | 78.2 |\n",
       "| 6 | Antigua and Barbuda | Americas              |    89 | 25.96 | 12.35 | 2.12 | 75 |   9.9 | 196.41 | 99.0 | 17900 | 91.1 | 84.5 |\n",
       "\n"
      ],
      "text/plain": [
       "  Country             Region                Population Under15 Over60\n",
       "1 Afghanistan         Eastern Mediterranean 29825      47.42    3.82 \n",
       "2 Albania             Europe                 3162      21.33   14.93 \n",
       "3 Algeria             Africa                38482      27.42    7.17 \n",
       "4 Andorra             Europe                   78      15.20   22.86 \n",
       "5 Angola              Africa                20821      47.58    3.84 \n",
       "6 Antigua and Barbuda Americas                 89      25.96   12.35 \n",
       "  FertilityRate LifeExpectancy ChildMortality CellularSubscribers LiteracyRate\n",
       "1 5.40          60              98.5           54.26                NA        \n",
       "2 1.75          74              16.7           96.39                NA        \n",
       "3 2.83          73              20.0           98.99                NA        \n",
       "4   NA          82               3.2           75.49                NA        \n",
       "5 6.10          51             163.5           48.38              70.1        \n",
       "6 2.12          75               9.9          196.41              99.0        \n",
       "  GNI   PrimarySchoolEnrollmentMale PrimarySchoolEnrollmentFemale\n",
       "1  1140   NA                          NA                         \n",
       "2  8820   NA                          NA                         \n",
       "3  8310 98.2                        96.4                         \n",
       "4    NA 78.4                        79.4                         \n",
       "5  5230 93.1                        78.2                         \n",
       "6 17900 91.1                        84.5                         "
      ]
     },
     "metadata": {},
     "output_type": "display_data"
    }
   ],
   "source": [
    "WHO <- read.csv(\"data/WHO.csv\")\n",
    "head(WHO)"
   ]
  },
  {
   "cell_type": "markdown",
   "metadata": {},
   "source": [
    "**Exploring the file**"
   ]
  },
  {
   "cell_type": "code",
   "execution_count": 5,
   "metadata": {},
   "outputs": [
    {
     "name": "stdout",
     "output_type": "stream",
     "text": [
      "'data.frame':\t194 obs. of  13 variables:\n",
      " $ Country                      : Factor w/ 194 levels \"Afghanistan\",..: 1 2 3 4 5 6 7 8 9 10 ...\n",
      " $ Region                       : Factor w/ 6 levels \"Africa\",\"Americas\",..: 3 4 1 4 1 2 2 4 6 4 ...\n",
      " $ Population                   : int  29825 3162 38482 78 20821 89 41087 2969 23050 8464 ...\n",
      " $ Under15                      : num  47.4 21.3 27.4 15.2 47.6 ...\n",
      " $ Over60                       : num  3.82 14.93 7.17 22.86 3.84 ...\n",
      " $ FertilityRate                : num  5.4 1.75 2.83 NA 6.1 2.12 2.2 1.74 1.89 1.44 ...\n",
      " $ LifeExpectancy               : int  60 74 73 82 51 75 76 71 82 81 ...\n",
      " $ ChildMortality               : num  98.5 16.7 20 3.2 163.5 ...\n",
      " $ CellularSubscribers          : num  54.3 96.4 99 75.5 48.4 ...\n",
      " $ LiteracyRate                 : num  NA NA NA NA 70.1 99 97.8 99.6 NA NA ...\n",
      " $ GNI                          : num  1140 8820 8310 NA 5230 ...\n",
      " $ PrimarySchoolEnrollmentMale  : num  NA NA 98.2 78.4 93.1 91.1 NA NA 96.9 NA ...\n",
      " $ PrimarySchoolEnrollmentFemale: num  NA NA 96.4 79.4 78.2 84.5 NA NA 97.5 NA ...\n"
     ]
    }
   ],
   "source": [
    "str(WHO)"
   ]
  },
  {
   "cell_type": "code",
   "execution_count": 6,
   "metadata": {},
   "outputs": [
    {
     "data": {
      "text/plain": [
       "                Country                      Region     Population     \n",
       " Afghanistan        :  1   Africa               :46   Min.   :      1  \n",
       " Albania            :  1   Americas             :35   1st Qu.:   1696  \n",
       " Algeria            :  1   Eastern Mediterranean:22   Median :   7790  \n",
       " Andorra            :  1   Europe               :53   Mean   :  36360  \n",
       " Angola             :  1   South-East Asia      :11   3rd Qu.:  24535  \n",
       " Antigua and Barbuda:  1   Western Pacific      :27   Max.   :1390000  \n",
       " (Other)            :188                                               \n",
       "    Under15          Over60      FertilityRate   LifeExpectancy \n",
       " Min.   :13.12   Min.   : 0.81   Min.   :1.260   Min.   :47.00  \n",
       " 1st Qu.:18.72   1st Qu.: 5.20   1st Qu.:1.835   1st Qu.:64.00  \n",
       " Median :28.65   Median : 8.53   Median :2.400   Median :72.50  \n",
       " Mean   :28.73   Mean   :11.16   Mean   :2.941   Mean   :70.01  \n",
       " 3rd Qu.:37.75   3rd Qu.:16.69   3rd Qu.:3.905   3rd Qu.:76.00  \n",
       " Max.   :49.99   Max.   :31.92   Max.   :7.580   Max.   :83.00  \n",
       "                                 NA's   :11                     \n",
       " ChildMortality    CellularSubscribers  LiteracyRate        GNI       \n",
       " Min.   :  2.200   Min.   :  2.57      Min.   :31.10   Min.   :  340  \n",
       " 1st Qu.:  8.425   1st Qu.: 63.57      1st Qu.:71.60   1st Qu.: 2335  \n",
       " Median : 18.600   Median : 97.75      Median :91.80   Median : 7870  \n",
       " Mean   : 36.149   Mean   : 93.64      Mean   :83.71   Mean   :13321  \n",
       " 3rd Qu.: 55.975   3rd Qu.:120.81      3rd Qu.:97.85   3rd Qu.:17558  \n",
       " Max.   :181.600   Max.   :196.41      Max.   :99.80   Max.   :86440  \n",
       "                   NA's   :10          NA's   :91      NA's   :32     \n",
       " PrimarySchoolEnrollmentMale PrimarySchoolEnrollmentFemale\n",
       " Min.   : 37.20              Min.   : 32.50               \n",
       " 1st Qu.: 87.70              1st Qu.: 87.30               \n",
       " Median : 94.70              Median : 95.10               \n",
       " Mean   : 90.85              Mean   : 89.63               \n",
       " 3rd Qu.: 98.10              3rd Qu.: 97.90               \n",
       " Max.   :100.00              Max.   :100.00               \n",
       " NA's   :93                  NA's   :93                   "
      ]
     },
     "metadata": {},
     "output_type": "display_data"
    }
   ],
   "source": [
    "summary(WHO)"
   ]
  },
  {
   "cell_type": "markdown",
   "metadata": {},
   "source": [
    "**Subsetting**"
   ]
  },
  {
   "cell_type": "code",
   "execution_count": 7,
   "metadata": {},
   "outputs": [
    {
     "name": "stdout",
     "output_type": "stream",
     "text": [
      "'data.frame':\t53 obs. of  13 variables:\n",
      " $ Country                      : Factor w/ 194 levels \"Afghanistan\",..: 2 4 8 10 11 16 17 22 26 42 ...\n",
      " $ Region                       : Factor w/ 6 levels \"Africa\",\"Americas\",..: 4 4 4 4 4 4 4 4 4 4 ...\n",
      " $ Population                   : int  3162 78 2969 8464 9309 9405 11060 3834 7278 4307 ...\n",
      " $ Under15                      : num  21.3 15.2 20.3 14.5 22.2 ...\n",
      " $ Over60                       : num  14.93 22.86 14.06 23.52 8.24 ...\n",
      " $ FertilityRate                : num  1.75 NA 1.74 1.44 1.96 1.47 1.85 1.26 1.51 1.48 ...\n",
      " $ LifeExpectancy               : int  74 82 71 81 71 71 80 76 74 77 ...\n",
      " $ ChildMortality               : num  16.7 3.2 16.4 4 35.2 5.2 4.2 6.7 12.1 4.7 ...\n",
      " $ CellularSubscribers          : num  96.4 75.5 103.6 154.8 108.8 ...\n",
      " $ LiteracyRate                 : num  NA NA 99.6 NA NA NA NA 97.9 NA 98.8 ...\n",
      " $ GNI                          : num  8820 NA 6100 42050 8960 ...\n",
      " $ PrimarySchoolEnrollmentMale  : num  NA 78.4 NA NA 85.3 NA 98.9 86.5 99.3 94.8 ...\n",
      " $ PrimarySchoolEnrollmentFemale: num  NA 79.4 NA NA 84.1 NA 99.2 88.4 99.7 97 ...\n"
     ]
    }
   ],
   "source": [
    "WHO_Europe = subset(WHO, Region == \"Europe\")\n",
    "str(WHO_Europe)"
   ]
  },
  {
   "cell_type": "markdown",
   "metadata": {},
   "source": [
    "**Writing csv files**"
   ]
  },
  {
   "cell_type": "code",
   "execution_count": 8,
   "metadata": {},
   "outputs": [],
   "source": [
    "write.csv(WHO_Europe, \"data/WHO_Europe.csv\")"
   ]
  },
  {
   "cell_type": "markdown",
   "metadata": {},
   "source": [
    "**List of Variables**"
   ]
  },
  {
   "cell_type": "code",
   "execution_count": 9,
   "metadata": {},
   "outputs": [
    {
     "data": {
      "text/html": [
       "<style>\n",
       ".list-inline {list-style: none; margin:0; padding: 0}\n",
       ".list-inline>li {display: inline-block}\n",
       ".list-inline>li:not(:last-child)::after {content: \"\\00b7\"; padding: 0 .5ex}\n",
       "</style>\n",
       "<ol class=list-inline><li>'Country'</li><li>'CountryData'</li><li>'LifeExpectancy'</li><li>'WHO'</li><li>'WHO_Europe'</li></ol>\n"
      ],
      "text/latex": [
       "\\begin{enumerate*}\n",
       "\\item 'Country'\n",
       "\\item 'CountryData'\n",
       "\\item 'LifeExpectancy'\n",
       "\\item 'WHO'\n",
       "\\item 'WHO\\_Europe'\n",
       "\\end{enumerate*}\n"
      ],
      "text/markdown": [
       "1. 'Country'\n",
       "2. 'CountryData'\n",
       "3. 'LifeExpectancy'\n",
       "4. 'WHO'\n",
       "5. 'WHO_Europe'\n",
       "\n",
       "\n"
      ],
      "text/plain": [
       "[1] \"Country\"        \"CountryData\"    \"LifeExpectancy\" \"WHO\"           \n",
       "[5] \"WHO_Europe\"    "
      ]
     },
     "metadata": {},
     "output_type": "display_data"
    }
   ],
   "source": [
    "ls()"
   ]
  },
  {
   "cell_type": "markdown",
   "metadata": {},
   "source": [
    "**Remove a Variable**"
   ]
  },
  {
   "cell_type": "code",
   "execution_count": 10,
   "metadata": {},
   "outputs": [
    {
     "data": {
      "text/html": [
       "<style>\n",
       ".list-inline {list-style: none; margin:0; padding: 0}\n",
       ".list-inline>li {display: inline-block}\n",
       ".list-inline>li:not(:last-child)::after {content: \"\\00b7\"; padding: 0 .5ex}\n",
       "</style>\n",
       "<ol class=list-inline><li>'Country'</li><li>'CountryData'</li><li>'LifeExpectancy'</li><li>'WHO'</li></ol>\n"
      ],
      "text/latex": [
       "\\begin{enumerate*}\n",
       "\\item 'Country'\n",
       "\\item 'CountryData'\n",
       "\\item 'LifeExpectancy'\n",
       "\\item 'WHO'\n",
       "\\end{enumerate*}\n"
      ],
      "text/markdown": [
       "1. 'Country'\n",
       "2. 'CountryData'\n",
       "3. 'LifeExpectancy'\n",
       "4. 'WHO'\n",
       "\n",
       "\n"
      ],
      "text/plain": [
       "[1] \"Country\"        \"CountryData\"    \"LifeExpectancy\" \"WHO\"           "
      ]
     },
     "metadata": {},
     "output_type": "display_data"
    }
   ],
   "source": [
    "rm(WHO_Europe)\n",
    "ls()"
   ]
  },
  {
   "cell_type": "markdown",
   "metadata": {},
   "source": [
    "**Accessing a Series**"
   ]
  },
  {
   "cell_type": "code",
   "execution_count": 11,
   "metadata": {},
   "outputs": [
    {
     "data": {
      "text/html": [
       "<style>\n",
       ".list-inline {list-style: none; margin:0; padding: 0}\n",
       ".list-inline>li {display: inline-block}\n",
       ".list-inline>li:not(:last-child)::after {content: \"\\00b7\"; padding: 0 .5ex}\n",
       "</style>\n",
       "<ol class=list-inline><li>47.42</li><li>21.33</li><li>27.42</li><li>15.2</li><li>47.58</li><li>25.96</li></ol>\n"
      ],
      "text/latex": [
       "\\begin{enumerate*}\n",
       "\\item 47.42\n",
       "\\item 21.33\n",
       "\\item 27.42\n",
       "\\item 15.2\n",
       "\\item 47.58\n",
       "\\item 25.96\n",
       "\\end{enumerate*}\n"
      ],
      "text/markdown": [
       "1. 47.42\n",
       "2. 21.33\n",
       "3. 27.42\n",
       "4. 15.2\n",
       "5. 47.58\n",
       "6. 25.96\n",
       "\n",
       "\n"
      ],
      "text/plain": [
       "[1] 47.42 21.33 27.42 15.20 47.58 25.96"
      ]
     },
     "metadata": {},
     "output_type": "display_data"
    }
   ],
   "source": [
    "head(WHO$Under15)"
   ]
  },
  {
   "cell_type": "markdown",
   "metadata": {},
   "source": [
    "**Basic Statistics**"
   ]
  },
  {
   "cell_type": "code",
   "execution_count": 12,
   "metadata": {},
   "outputs": [
    {
     "data": {
      "text/html": [
       "28.7324226804124"
      ],
      "text/latex": [
       "28.7324226804124"
      ],
      "text/markdown": [
       "28.7324226804124"
      ],
      "text/plain": [
       "[1] 28.73242"
      ]
     },
     "metadata": {},
     "output_type": "display_data"
    }
   ],
   "source": [
    "mean(WHO$Under15)"
   ]
  },
  {
   "cell_type": "code",
   "execution_count": 13,
   "metadata": {},
   "outputs": [
    {
     "data": {
      "text/html": [
       "10.5345733199238"
      ],
      "text/latex": [
       "10.5345733199238"
      ],
      "text/markdown": [
       "10.5345733199238"
      ],
      "text/plain": [
       "[1] 10.53457"
      ]
     },
     "metadata": {},
     "output_type": "display_data"
    }
   ],
   "source": [
    "sd(WHO$Under15)"
   ]
  },
  {
   "cell_type": "code",
   "execution_count": 14,
   "metadata": {},
   "outputs": [
    {
     "data": {
      "text/plain": [
       "   Min. 1st Qu.  Median    Mean 3rd Qu.    Max. \n",
       "  13.12   18.72   28.65   28.73   37.75   49.99 "
      ]
     },
     "metadata": {},
     "output_type": "display_data"
    }
   ],
   "source": [
    "summary(WHO$Under15)"
   ]
  },
  {
   "cell_type": "markdown",
   "metadata": {},
   "source": [
    "**There is a country in the Dataframe with only 13.2% of the population under 15. Where is this country in the Dataframe?**"
   ]
  },
  {
   "cell_type": "code",
   "execution_count": 15,
   "metadata": {},
   "outputs": [
    {
     "data": {
      "text/html": [
       "86"
      ],
      "text/latex": [
       "86"
      ],
      "text/markdown": [
       "86"
      ],
      "text/plain": [
       "[1] 86"
      ]
     },
     "metadata": {},
     "output_type": "display_data"
    }
   ],
   "source": [
    "which.min(WHO$Under15)"
   ]
  },
  {
   "cell_type": "markdown",
   "metadata": {},
   "source": [
    "**What is this country?**"
   ]
  },
  {
   "cell_type": "code",
   "execution_count": 16,
   "metadata": {},
   "outputs": [
    {
     "data": {
      "text/html": [
       "Japan\n",
       "<details>\n",
       "\t<summary style=display:list-item;cursor:pointer>\n",
       "\t\t<strong>Levels</strong>:\n",
       "\t</summary>\n",
       "\t<style>\n",
       "\t.list-inline {list-style: none; margin:0; padding: 0}\n",
       "\t.list-inline>li {display: inline-block}\n",
       "\t.list-inline>li:not(:last-child)::after {content: \"\\00b7\"; padding: 0 .5ex}\n",
       "\t</style>\n",
       "\t<ol class=list-inline><li>'Afghanistan'</li><li>'Albania'</li><li>'Algeria'</li><li>'Andorra'</li><li>'Angola'</li><li>'Antigua and Barbuda'</li><li>'Argentina'</li><li>'Armenia'</li><li>'Australia'</li><li>'Austria'</li><li>'Azerbaijan'</li><li>'Bahamas'</li><li>'Bahrain'</li><li>'Bangladesh'</li><li>'Barbados'</li><li>'Belarus'</li><li>'Belgium'</li><li>'Belize'</li><li>'Benin'</li><li>'Bhutan'</li><li>'Bolivia (Plurinational State of)'</li><li>'Bosnia and Herzegovina'</li><li>'Botswana'</li><li>'Brazil'</li><li>'Brunei Darussalam'</li><li>'Bulgaria'</li><li>'Burkina Faso'</li><li>'Burundi'</li><li>'Cambodia'</li><li>'Cameroon'</li><li>'Canada'</li><li>'Cape Verde'</li><li>'Central African Republic'</li><li>'Chad'</li><li>'Chile'</li><li>'China'</li><li>'Colombia'</li><li>'Comoros'</li><li>'Congo'</li><li>'Cook Islands'</li><li>'Costa Rica'</li><li>'Croatia'</li><li>'Cuba'</li><li>'Cyprus'</li><li>'Czech Republic'</li><li>'Democratic People\\'s Republic of Korea'</li><li>'Democratic Republic of the Congo'</li><li>'Denmark'</li><li>'Djibouti'</li><li>'Dominica'</li><li>'Dominican Republic'</li><li>'Ecuador'</li><li>'Egypt'</li><li>'El Salvador'</li><li>'Equatorial Guinea'</li><li>'Eritrea'</li><li>'Estonia'</li><li>'Ethiopia'</li><li>'Fiji'</li><li>'Finland'</li><li>'France'</li><li>'Gabon'</li><li>'Gambia'</li><li>'Georgia'</li><li>'Germany'</li><li>'Ghana'</li><li>'Greece'</li><li>'Grenada'</li><li>'Guatemala'</li><li>'Guinea'</li><li>'Guinea-Bissau'</li><li>'Guyana'</li><li>'Haiti'</li><li>'Honduras'</li><li>'Hungary'</li><li>'Iceland'</li><li>'India'</li><li>'Indonesia'</li><li>'Iran (Islamic Republic of)'</li><li>'Iraq'</li><li>'Ireland'</li><li>'Israel'</li><li>'Italy'</li><li>'Ivory Coast'</li><li>'Jamaica'</li><li>'Japan'</li><li>'Jordan'</li><li>'Kazakhstan'</li><li>'Kenya'</li><li>'Kiribati'</li><li>'Kuwait'</li><li>'Kyrgyzstan'</li><li>'Lao People\\'s Democratic Republic'</li><li>'Latvia'</li><li>'Lebanon'</li><li>'Lesotho'</li><li>'Liberia'</li><li>'Libya'</li><li>'Lithuania'</li><li>'Luxembourg'</li><li>'Madagascar'</li><li>'Malawi'</li><li>'Malaysia'</li><li>'Maldives'</li><li>'Mali'</li><li>'Malta'</li><li>'Marshall Islands'</li><li>'Mauritania'</li><li>'Mauritius'</li><li>'Mexico'</li><li>'Micronesia (Federated States of)'</li><li>'Monaco'</li><li>'Mongolia'</li><li>'Montenegro'</li><li>'Morocco'</li><li>'Mozambique'</li><li>'Myanmar'</li><li>'Namibia'</li><li>'Nauru'</li><li>'Nepal'</li><li>'Netherlands'</li><li>'New Zealand'</li><li>'Nicaragua'</li><li>'Niger'</li><li>'Nigeria'</li><li>'Niue'</li><li>'Norway'</li><li>'Oman'</li><li>'Pakistan'</li><li>'Palau'</li><li>'Panama'</li><li>'Papua New Guinea'</li><li>'Paraguay'</li><li>'Peru'</li><li>'Philippines'</li><li>'Poland'</li><li>'Portugal'</li><li>'Qatar'</li><li>'Republic of Korea'</li><li>'Republic of Moldova'</li><li>'Romania'</li><li>'Russian Federation'</li><li>'Rwanda'</li><li>'Saint Kitts and Nevis'</li><li>'Saint Lucia'</li><li>'Saint Vincent and the Grenadines'</li><li>'Samoa'</li><li>'San Marino'</li><li>'Sao Tome and Principe'</li><li>'Saudi Arabia'</li><li>'Senegal'</li><li>'Serbia'</li><li>'Seychelles'</li><li>'Sierra Leone'</li><li>'Singapore'</li><li>'Slovakia'</li><li>'Slovenia'</li><li>'Solomon Islands'</li><li>'Somalia'</li><li>'South Africa'</li><li>'South Sudan'</li><li>'Spain'</li><li>'Sri Lanka'</li><li>'Sudan'</li><li>'Suriname'</li><li>'Swaziland'</li><li>'Sweden'</li><li>'Switzerland'</li><li>'Syrian Arab Republic'</li><li>'Tajikistan'</li><li>'Thailand'</li><li>'The former Yugoslav Republic of Macedonia'</li><li>'Timor-Leste'</li><li>'Togo'</li><li>'Tonga'</li><li>'Trinidad and Tobago'</li><li>'Tunisia'</li><li>'Turkey'</li><li>'Turkmenistan'</li><li>'Tuvalu'</li><li>'Uganda'</li><li>'Ukraine'</li><li>'United Arab Emirates'</li><li>'United Kingdom'</li><li>'United Republic of Tanzania'</li><li>'United States of America'</li><li>'Uruguay'</li><li>'Uzbekistan'</li><li>'Vanuatu'</li><li>'Venezuela (Bolivarian Republic of)'</li><li>'Viet Nam'</li><li>'Yemen'</li><li>'Zambia'</li><li>'Zimbabwe'</li></ol>\n",
       "</details>"
      ],
      "text/latex": [
       "Japan\n",
       "\\emph{Levels}: \\begin{enumerate*}\n",
       "\\item 'Afghanistan'\n",
       "\\item 'Albania'\n",
       "\\item 'Algeria'\n",
       "\\item 'Andorra'\n",
       "\\item 'Angola'\n",
       "\\item 'Antigua and Barbuda'\n",
       "\\item 'Argentina'\n",
       "\\item 'Armenia'\n",
       "\\item 'Australia'\n",
       "\\item 'Austria'\n",
       "\\item 'Azerbaijan'\n",
       "\\item 'Bahamas'\n",
       "\\item 'Bahrain'\n",
       "\\item 'Bangladesh'\n",
       "\\item 'Barbados'\n",
       "\\item 'Belarus'\n",
       "\\item 'Belgium'\n",
       "\\item 'Belize'\n",
       "\\item 'Benin'\n",
       "\\item 'Bhutan'\n",
       "\\item 'Bolivia (Plurinational State of)'\n",
       "\\item 'Bosnia and Herzegovina'\n",
       "\\item 'Botswana'\n",
       "\\item 'Brazil'\n",
       "\\item 'Brunei Darussalam'\n",
       "\\item 'Bulgaria'\n",
       "\\item 'Burkina Faso'\n",
       "\\item 'Burundi'\n",
       "\\item 'Cambodia'\n",
       "\\item 'Cameroon'\n",
       "\\item 'Canada'\n",
       "\\item 'Cape Verde'\n",
       "\\item 'Central African Republic'\n",
       "\\item 'Chad'\n",
       "\\item 'Chile'\n",
       "\\item 'China'\n",
       "\\item 'Colombia'\n",
       "\\item 'Comoros'\n",
       "\\item 'Congo'\n",
       "\\item 'Cook Islands'\n",
       "\\item 'Costa Rica'\n",
       "\\item 'Croatia'\n",
       "\\item 'Cuba'\n",
       "\\item 'Cyprus'\n",
       "\\item 'Czech Republic'\n",
       "\\item 'Democratic People\\textbackslash{}'s Republic of Korea'\n",
       "\\item 'Democratic Republic of the Congo'\n",
       "\\item 'Denmark'\n",
       "\\item 'Djibouti'\n",
       "\\item 'Dominica'\n",
       "\\item 'Dominican Republic'\n",
       "\\item 'Ecuador'\n",
       "\\item 'Egypt'\n",
       "\\item 'El Salvador'\n",
       "\\item 'Equatorial Guinea'\n",
       "\\item 'Eritrea'\n",
       "\\item 'Estonia'\n",
       "\\item 'Ethiopia'\n",
       "\\item 'Fiji'\n",
       "\\item 'Finland'\n",
       "\\item 'France'\n",
       "\\item 'Gabon'\n",
       "\\item 'Gambia'\n",
       "\\item 'Georgia'\n",
       "\\item 'Germany'\n",
       "\\item 'Ghana'\n",
       "\\item 'Greece'\n",
       "\\item 'Grenada'\n",
       "\\item 'Guatemala'\n",
       "\\item 'Guinea'\n",
       "\\item 'Guinea-Bissau'\n",
       "\\item 'Guyana'\n",
       "\\item 'Haiti'\n",
       "\\item 'Honduras'\n",
       "\\item 'Hungary'\n",
       "\\item 'Iceland'\n",
       "\\item 'India'\n",
       "\\item 'Indonesia'\n",
       "\\item 'Iran (Islamic Republic of)'\n",
       "\\item 'Iraq'\n",
       "\\item 'Ireland'\n",
       "\\item 'Israel'\n",
       "\\item 'Italy'\n",
       "\\item 'Ivory Coast'\n",
       "\\item 'Jamaica'\n",
       "\\item 'Japan'\n",
       "\\item 'Jordan'\n",
       "\\item 'Kazakhstan'\n",
       "\\item 'Kenya'\n",
       "\\item 'Kiribati'\n",
       "\\item 'Kuwait'\n",
       "\\item 'Kyrgyzstan'\n",
       "\\item 'Lao People\\textbackslash{}'s Democratic Republic'\n",
       "\\item 'Latvia'\n",
       "\\item 'Lebanon'\n",
       "\\item 'Lesotho'\n",
       "\\item 'Liberia'\n",
       "\\item 'Libya'\n",
       "\\item 'Lithuania'\n",
       "\\item 'Luxembourg'\n",
       "\\item 'Madagascar'\n",
       "\\item 'Malawi'\n",
       "\\item 'Malaysia'\n",
       "\\item 'Maldives'\n",
       "\\item 'Mali'\n",
       "\\item 'Malta'\n",
       "\\item 'Marshall Islands'\n",
       "\\item 'Mauritania'\n",
       "\\item 'Mauritius'\n",
       "\\item 'Mexico'\n",
       "\\item 'Micronesia (Federated States of)'\n",
       "\\item 'Monaco'\n",
       "\\item 'Mongolia'\n",
       "\\item 'Montenegro'\n",
       "\\item 'Morocco'\n",
       "\\item 'Mozambique'\n",
       "\\item 'Myanmar'\n",
       "\\item 'Namibia'\n",
       "\\item 'Nauru'\n",
       "\\item 'Nepal'\n",
       "\\item 'Netherlands'\n",
       "\\item 'New Zealand'\n",
       "\\item 'Nicaragua'\n",
       "\\item 'Niger'\n",
       "\\item 'Nigeria'\n",
       "\\item 'Niue'\n",
       "\\item 'Norway'\n",
       "\\item 'Oman'\n",
       "\\item 'Pakistan'\n",
       "\\item 'Palau'\n",
       "\\item 'Panama'\n",
       "\\item 'Papua New Guinea'\n",
       "\\item 'Paraguay'\n",
       "\\item 'Peru'\n",
       "\\item 'Philippines'\n",
       "\\item 'Poland'\n",
       "\\item 'Portugal'\n",
       "\\item 'Qatar'\n",
       "\\item 'Republic of Korea'\n",
       "\\item 'Republic of Moldova'\n",
       "\\item 'Romania'\n",
       "\\item 'Russian Federation'\n",
       "\\item 'Rwanda'\n",
       "\\item 'Saint Kitts and Nevis'\n",
       "\\item 'Saint Lucia'\n",
       "\\item 'Saint Vincent and the Grenadines'\n",
       "\\item 'Samoa'\n",
       "\\item 'San Marino'\n",
       "\\item 'Sao Tome and Principe'\n",
       "\\item 'Saudi Arabia'\n",
       "\\item 'Senegal'\n",
       "\\item 'Serbia'\n",
       "\\item 'Seychelles'\n",
       "\\item 'Sierra Leone'\n",
       "\\item 'Singapore'\n",
       "\\item 'Slovakia'\n",
       "\\item 'Slovenia'\n",
       "\\item 'Solomon Islands'\n",
       "\\item 'Somalia'\n",
       "\\item 'South Africa'\n",
       "\\item 'South Sudan'\n",
       "\\item 'Spain'\n",
       "\\item 'Sri Lanka'\n",
       "\\item 'Sudan'\n",
       "\\item 'Suriname'\n",
       "\\item 'Swaziland'\n",
       "\\item 'Sweden'\n",
       "\\item 'Switzerland'\n",
       "\\item 'Syrian Arab Republic'\n",
       "\\item 'Tajikistan'\n",
       "\\item 'Thailand'\n",
       "\\item 'The former Yugoslav Republic of Macedonia'\n",
       "\\item 'Timor-Leste'\n",
       "\\item 'Togo'\n",
       "\\item 'Tonga'\n",
       "\\item 'Trinidad and Tobago'\n",
       "\\item 'Tunisia'\n",
       "\\item 'Turkey'\n",
       "\\item 'Turkmenistan'\n",
       "\\item 'Tuvalu'\n",
       "\\item 'Uganda'\n",
       "\\item 'Ukraine'\n",
       "\\item 'United Arab Emirates'\n",
       "\\item 'United Kingdom'\n",
       "\\item 'United Republic of Tanzania'\n",
       "\\item 'United States of America'\n",
       "\\item 'Uruguay'\n",
       "\\item 'Uzbekistan'\n",
       "\\item 'Vanuatu'\n",
       "\\item 'Venezuela (Bolivarian Republic of)'\n",
       "\\item 'Viet Nam'\n",
       "\\item 'Yemen'\n",
       "\\item 'Zambia'\n",
       "\\item 'Zimbabwe'\n",
       "\\end{enumerate*}\n"
      ],
      "text/markdown": [
       "Japan\n",
       "**Levels**: 1. 'Afghanistan'\n",
       "2. 'Albania'\n",
       "3. 'Algeria'\n",
       "4. 'Andorra'\n",
       "5. 'Angola'\n",
       "6. 'Antigua and Barbuda'\n",
       "7. 'Argentina'\n",
       "8. 'Armenia'\n",
       "9. 'Australia'\n",
       "10. 'Austria'\n",
       "11. 'Azerbaijan'\n",
       "12. 'Bahamas'\n",
       "13. 'Bahrain'\n",
       "14. 'Bangladesh'\n",
       "15. 'Barbados'\n",
       "16. 'Belarus'\n",
       "17. 'Belgium'\n",
       "18. 'Belize'\n",
       "19. 'Benin'\n",
       "20. 'Bhutan'\n",
       "21. 'Bolivia (Plurinational State of)'\n",
       "22. 'Bosnia and Herzegovina'\n",
       "23. 'Botswana'\n",
       "24. 'Brazil'\n",
       "25. 'Brunei Darussalam'\n",
       "26. 'Bulgaria'\n",
       "27. 'Burkina Faso'\n",
       "28. 'Burundi'\n",
       "29. 'Cambodia'\n",
       "30. 'Cameroon'\n",
       "31. 'Canada'\n",
       "32. 'Cape Verde'\n",
       "33. 'Central African Republic'\n",
       "34. 'Chad'\n",
       "35. 'Chile'\n",
       "36. 'China'\n",
       "37. 'Colombia'\n",
       "38. 'Comoros'\n",
       "39. 'Congo'\n",
       "40. 'Cook Islands'\n",
       "41. 'Costa Rica'\n",
       "42. 'Croatia'\n",
       "43. 'Cuba'\n",
       "44. 'Cyprus'\n",
       "45. 'Czech Republic'\n",
       "46. 'Democratic People\\'s Republic of Korea'\n",
       "47. 'Democratic Republic of the Congo'\n",
       "48. 'Denmark'\n",
       "49. 'Djibouti'\n",
       "50. 'Dominica'\n",
       "51. 'Dominican Republic'\n",
       "52. 'Ecuador'\n",
       "53. 'Egypt'\n",
       "54. 'El Salvador'\n",
       "55. 'Equatorial Guinea'\n",
       "56. 'Eritrea'\n",
       "57. 'Estonia'\n",
       "58. 'Ethiopia'\n",
       "59. 'Fiji'\n",
       "60. 'Finland'\n",
       "61. 'France'\n",
       "62. 'Gabon'\n",
       "63. 'Gambia'\n",
       "64. 'Georgia'\n",
       "65. 'Germany'\n",
       "66. 'Ghana'\n",
       "67. 'Greece'\n",
       "68. 'Grenada'\n",
       "69. 'Guatemala'\n",
       "70. 'Guinea'\n",
       "71. 'Guinea-Bissau'\n",
       "72. 'Guyana'\n",
       "73. 'Haiti'\n",
       "74. 'Honduras'\n",
       "75. 'Hungary'\n",
       "76. 'Iceland'\n",
       "77. 'India'\n",
       "78. 'Indonesia'\n",
       "79. 'Iran (Islamic Republic of)'\n",
       "80. 'Iraq'\n",
       "81. 'Ireland'\n",
       "82. 'Israel'\n",
       "83. 'Italy'\n",
       "84. 'Ivory Coast'\n",
       "85. 'Jamaica'\n",
       "86. 'Japan'\n",
       "87. 'Jordan'\n",
       "88. 'Kazakhstan'\n",
       "89. 'Kenya'\n",
       "90. 'Kiribati'\n",
       "91. 'Kuwait'\n",
       "92. 'Kyrgyzstan'\n",
       "93. 'Lao People\\'s Democratic Republic'\n",
       "94. 'Latvia'\n",
       "95. 'Lebanon'\n",
       "96. 'Lesotho'\n",
       "97. 'Liberia'\n",
       "98. 'Libya'\n",
       "99. 'Lithuania'\n",
       "100. 'Luxembourg'\n",
       "101. 'Madagascar'\n",
       "102. 'Malawi'\n",
       "103. 'Malaysia'\n",
       "104. 'Maldives'\n",
       "105. 'Mali'\n",
       "106. 'Malta'\n",
       "107. 'Marshall Islands'\n",
       "108. 'Mauritania'\n",
       "109. 'Mauritius'\n",
       "110. 'Mexico'\n",
       "111. 'Micronesia (Federated States of)'\n",
       "112. 'Monaco'\n",
       "113. 'Mongolia'\n",
       "114. 'Montenegro'\n",
       "115. 'Morocco'\n",
       "116. 'Mozambique'\n",
       "117. 'Myanmar'\n",
       "118. 'Namibia'\n",
       "119. 'Nauru'\n",
       "120. 'Nepal'\n",
       "121. 'Netherlands'\n",
       "122. 'New Zealand'\n",
       "123. 'Nicaragua'\n",
       "124. 'Niger'\n",
       "125. 'Nigeria'\n",
       "126. 'Niue'\n",
       "127. 'Norway'\n",
       "128. 'Oman'\n",
       "129. 'Pakistan'\n",
       "130. 'Palau'\n",
       "131. 'Panama'\n",
       "132. 'Papua New Guinea'\n",
       "133. 'Paraguay'\n",
       "134. 'Peru'\n",
       "135. 'Philippines'\n",
       "136. 'Poland'\n",
       "137. 'Portugal'\n",
       "138. 'Qatar'\n",
       "139. 'Republic of Korea'\n",
       "140. 'Republic of Moldova'\n",
       "141. 'Romania'\n",
       "142. 'Russian Federation'\n",
       "143. 'Rwanda'\n",
       "144. 'Saint Kitts and Nevis'\n",
       "145. 'Saint Lucia'\n",
       "146. 'Saint Vincent and the Grenadines'\n",
       "147. 'Samoa'\n",
       "148. 'San Marino'\n",
       "149. 'Sao Tome and Principe'\n",
       "150. 'Saudi Arabia'\n",
       "151. 'Senegal'\n",
       "152. 'Serbia'\n",
       "153. 'Seychelles'\n",
       "154. 'Sierra Leone'\n",
       "155. 'Singapore'\n",
       "156. 'Slovakia'\n",
       "157. 'Slovenia'\n",
       "158. 'Solomon Islands'\n",
       "159. 'Somalia'\n",
       "160. 'South Africa'\n",
       "161. 'South Sudan'\n",
       "162. 'Spain'\n",
       "163. 'Sri Lanka'\n",
       "164. 'Sudan'\n",
       "165. 'Suriname'\n",
       "166. 'Swaziland'\n",
       "167. 'Sweden'\n",
       "168. 'Switzerland'\n",
       "169. 'Syrian Arab Republic'\n",
       "170. 'Tajikistan'\n",
       "171. 'Thailand'\n",
       "172. 'The former Yugoslav Republic of Macedonia'\n",
       "173. 'Timor-Leste'\n",
       "174. 'Togo'\n",
       "175. 'Tonga'\n",
       "176. 'Trinidad and Tobago'\n",
       "177. 'Tunisia'\n",
       "178. 'Turkey'\n",
       "179. 'Turkmenistan'\n",
       "180. 'Tuvalu'\n",
       "181. 'Uganda'\n",
       "182. 'Ukraine'\n",
       "183. 'United Arab Emirates'\n",
       "184. 'United Kingdom'\n",
       "185. 'United Republic of Tanzania'\n",
       "186. 'United States of America'\n",
       "187. 'Uruguay'\n",
       "188. 'Uzbekistan'\n",
       "189. 'Vanuatu'\n",
       "190. 'Venezuela (Bolivarian Republic of)'\n",
       "191. 'Viet Nam'\n",
       "192. 'Yemen'\n",
       "193. 'Zambia'\n",
       "194. 'Zimbabwe'\n",
       "\n",
       "\n"
      ],
      "text/plain": [
       "[1] Japan\n",
       "194 Levels: Afghanistan Albania Algeria Andorra Angola ... Zimbabwe"
      ]
     },
     "metadata": {},
     "output_type": "display_data"
    }
   ],
   "source": [
    "WHO$Country[86]"
   ]
  },
  {
   "cell_type": "markdown",
   "metadata": {},
   "source": [
    "**Now let's see which country has the maximum percentage of the population under 15.**"
   ]
  },
  {
   "cell_type": "code",
   "execution_count": 17,
   "metadata": {},
   "outputs": [
    {
     "data": {
      "text/html": [
       "Niger\n",
       "<details>\n",
       "\t<summary style=display:list-item;cursor:pointer>\n",
       "\t\t<strong>Levels</strong>:\n",
       "\t</summary>\n",
       "\t<style>\n",
       "\t.list-inline {list-style: none; margin:0; padding: 0}\n",
       "\t.list-inline>li {display: inline-block}\n",
       "\t.list-inline>li:not(:last-child)::after {content: \"\\00b7\"; padding: 0 .5ex}\n",
       "\t</style>\n",
       "\t<ol class=list-inline><li>'Afghanistan'</li><li>'Albania'</li><li>'Algeria'</li><li>'Andorra'</li><li>'Angola'</li><li>'Antigua and Barbuda'</li><li>'Argentina'</li><li>'Armenia'</li><li>'Australia'</li><li>'Austria'</li><li>'Azerbaijan'</li><li>'Bahamas'</li><li>'Bahrain'</li><li>'Bangladesh'</li><li>'Barbados'</li><li>'Belarus'</li><li>'Belgium'</li><li>'Belize'</li><li>'Benin'</li><li>'Bhutan'</li><li>'Bolivia (Plurinational State of)'</li><li>'Bosnia and Herzegovina'</li><li>'Botswana'</li><li>'Brazil'</li><li>'Brunei Darussalam'</li><li>'Bulgaria'</li><li>'Burkina Faso'</li><li>'Burundi'</li><li>'Cambodia'</li><li>'Cameroon'</li><li>'Canada'</li><li>'Cape Verde'</li><li>'Central African Republic'</li><li>'Chad'</li><li>'Chile'</li><li>'China'</li><li>'Colombia'</li><li>'Comoros'</li><li>'Congo'</li><li>'Cook Islands'</li><li>'Costa Rica'</li><li>'Croatia'</li><li>'Cuba'</li><li>'Cyprus'</li><li>'Czech Republic'</li><li>'Democratic People\\'s Republic of Korea'</li><li>'Democratic Republic of the Congo'</li><li>'Denmark'</li><li>'Djibouti'</li><li>'Dominica'</li><li>'Dominican Republic'</li><li>'Ecuador'</li><li>'Egypt'</li><li>'El Salvador'</li><li>'Equatorial Guinea'</li><li>'Eritrea'</li><li>'Estonia'</li><li>'Ethiopia'</li><li>'Fiji'</li><li>'Finland'</li><li>'France'</li><li>'Gabon'</li><li>'Gambia'</li><li>'Georgia'</li><li>'Germany'</li><li>'Ghana'</li><li>'Greece'</li><li>'Grenada'</li><li>'Guatemala'</li><li>'Guinea'</li><li>'Guinea-Bissau'</li><li>'Guyana'</li><li>'Haiti'</li><li>'Honduras'</li><li>'Hungary'</li><li>'Iceland'</li><li>'India'</li><li>'Indonesia'</li><li>'Iran (Islamic Republic of)'</li><li>'Iraq'</li><li>'Ireland'</li><li>'Israel'</li><li>'Italy'</li><li>'Ivory Coast'</li><li>'Jamaica'</li><li>'Japan'</li><li>'Jordan'</li><li>'Kazakhstan'</li><li>'Kenya'</li><li>'Kiribati'</li><li>'Kuwait'</li><li>'Kyrgyzstan'</li><li>'Lao People\\'s Democratic Republic'</li><li>'Latvia'</li><li>'Lebanon'</li><li>'Lesotho'</li><li>'Liberia'</li><li>'Libya'</li><li>'Lithuania'</li><li>'Luxembourg'</li><li>'Madagascar'</li><li>'Malawi'</li><li>'Malaysia'</li><li>'Maldives'</li><li>'Mali'</li><li>'Malta'</li><li>'Marshall Islands'</li><li>'Mauritania'</li><li>'Mauritius'</li><li>'Mexico'</li><li>'Micronesia (Federated States of)'</li><li>'Monaco'</li><li>'Mongolia'</li><li>'Montenegro'</li><li>'Morocco'</li><li>'Mozambique'</li><li>'Myanmar'</li><li>'Namibia'</li><li>'Nauru'</li><li>'Nepal'</li><li>'Netherlands'</li><li>'New Zealand'</li><li>'Nicaragua'</li><li>'Niger'</li><li>'Nigeria'</li><li>'Niue'</li><li>'Norway'</li><li>'Oman'</li><li>'Pakistan'</li><li>'Palau'</li><li>'Panama'</li><li>'Papua New Guinea'</li><li>'Paraguay'</li><li>'Peru'</li><li>'Philippines'</li><li>'Poland'</li><li>'Portugal'</li><li>'Qatar'</li><li>'Republic of Korea'</li><li>'Republic of Moldova'</li><li>'Romania'</li><li>'Russian Federation'</li><li>'Rwanda'</li><li>'Saint Kitts and Nevis'</li><li>'Saint Lucia'</li><li>'Saint Vincent and the Grenadines'</li><li>'Samoa'</li><li>'San Marino'</li><li>'Sao Tome and Principe'</li><li>'Saudi Arabia'</li><li>'Senegal'</li><li>'Serbia'</li><li>'Seychelles'</li><li>'Sierra Leone'</li><li>'Singapore'</li><li>'Slovakia'</li><li>'Slovenia'</li><li>'Solomon Islands'</li><li>'Somalia'</li><li>'South Africa'</li><li>'South Sudan'</li><li>'Spain'</li><li>'Sri Lanka'</li><li>'Sudan'</li><li>'Suriname'</li><li>'Swaziland'</li><li>'Sweden'</li><li>'Switzerland'</li><li>'Syrian Arab Republic'</li><li>'Tajikistan'</li><li>'Thailand'</li><li>'The former Yugoslav Republic of Macedonia'</li><li>'Timor-Leste'</li><li>'Togo'</li><li>'Tonga'</li><li>'Trinidad and Tobago'</li><li>'Tunisia'</li><li>'Turkey'</li><li>'Turkmenistan'</li><li>'Tuvalu'</li><li>'Uganda'</li><li>'Ukraine'</li><li>'United Arab Emirates'</li><li>'United Kingdom'</li><li>'United Republic of Tanzania'</li><li>'United States of America'</li><li>'Uruguay'</li><li>'Uzbekistan'</li><li>'Vanuatu'</li><li>'Venezuela (Bolivarian Republic of)'</li><li>'Viet Nam'</li><li>'Yemen'</li><li>'Zambia'</li><li>'Zimbabwe'</li></ol>\n",
       "</details>"
      ],
      "text/latex": [
       "Niger\n",
       "\\emph{Levels}: \\begin{enumerate*}\n",
       "\\item 'Afghanistan'\n",
       "\\item 'Albania'\n",
       "\\item 'Algeria'\n",
       "\\item 'Andorra'\n",
       "\\item 'Angola'\n",
       "\\item 'Antigua and Barbuda'\n",
       "\\item 'Argentina'\n",
       "\\item 'Armenia'\n",
       "\\item 'Australia'\n",
       "\\item 'Austria'\n",
       "\\item 'Azerbaijan'\n",
       "\\item 'Bahamas'\n",
       "\\item 'Bahrain'\n",
       "\\item 'Bangladesh'\n",
       "\\item 'Barbados'\n",
       "\\item 'Belarus'\n",
       "\\item 'Belgium'\n",
       "\\item 'Belize'\n",
       "\\item 'Benin'\n",
       "\\item 'Bhutan'\n",
       "\\item 'Bolivia (Plurinational State of)'\n",
       "\\item 'Bosnia and Herzegovina'\n",
       "\\item 'Botswana'\n",
       "\\item 'Brazil'\n",
       "\\item 'Brunei Darussalam'\n",
       "\\item 'Bulgaria'\n",
       "\\item 'Burkina Faso'\n",
       "\\item 'Burundi'\n",
       "\\item 'Cambodia'\n",
       "\\item 'Cameroon'\n",
       "\\item 'Canada'\n",
       "\\item 'Cape Verde'\n",
       "\\item 'Central African Republic'\n",
       "\\item 'Chad'\n",
       "\\item 'Chile'\n",
       "\\item 'China'\n",
       "\\item 'Colombia'\n",
       "\\item 'Comoros'\n",
       "\\item 'Congo'\n",
       "\\item 'Cook Islands'\n",
       "\\item 'Costa Rica'\n",
       "\\item 'Croatia'\n",
       "\\item 'Cuba'\n",
       "\\item 'Cyprus'\n",
       "\\item 'Czech Republic'\n",
       "\\item 'Democratic People\\textbackslash{}'s Republic of Korea'\n",
       "\\item 'Democratic Republic of the Congo'\n",
       "\\item 'Denmark'\n",
       "\\item 'Djibouti'\n",
       "\\item 'Dominica'\n",
       "\\item 'Dominican Republic'\n",
       "\\item 'Ecuador'\n",
       "\\item 'Egypt'\n",
       "\\item 'El Salvador'\n",
       "\\item 'Equatorial Guinea'\n",
       "\\item 'Eritrea'\n",
       "\\item 'Estonia'\n",
       "\\item 'Ethiopia'\n",
       "\\item 'Fiji'\n",
       "\\item 'Finland'\n",
       "\\item 'France'\n",
       "\\item 'Gabon'\n",
       "\\item 'Gambia'\n",
       "\\item 'Georgia'\n",
       "\\item 'Germany'\n",
       "\\item 'Ghana'\n",
       "\\item 'Greece'\n",
       "\\item 'Grenada'\n",
       "\\item 'Guatemala'\n",
       "\\item 'Guinea'\n",
       "\\item 'Guinea-Bissau'\n",
       "\\item 'Guyana'\n",
       "\\item 'Haiti'\n",
       "\\item 'Honduras'\n",
       "\\item 'Hungary'\n",
       "\\item 'Iceland'\n",
       "\\item 'India'\n",
       "\\item 'Indonesia'\n",
       "\\item 'Iran (Islamic Republic of)'\n",
       "\\item 'Iraq'\n",
       "\\item 'Ireland'\n",
       "\\item 'Israel'\n",
       "\\item 'Italy'\n",
       "\\item 'Ivory Coast'\n",
       "\\item 'Jamaica'\n",
       "\\item 'Japan'\n",
       "\\item 'Jordan'\n",
       "\\item 'Kazakhstan'\n",
       "\\item 'Kenya'\n",
       "\\item 'Kiribati'\n",
       "\\item 'Kuwait'\n",
       "\\item 'Kyrgyzstan'\n",
       "\\item 'Lao People\\textbackslash{}'s Democratic Republic'\n",
       "\\item 'Latvia'\n",
       "\\item 'Lebanon'\n",
       "\\item 'Lesotho'\n",
       "\\item 'Liberia'\n",
       "\\item 'Libya'\n",
       "\\item 'Lithuania'\n",
       "\\item 'Luxembourg'\n",
       "\\item 'Madagascar'\n",
       "\\item 'Malawi'\n",
       "\\item 'Malaysia'\n",
       "\\item 'Maldives'\n",
       "\\item 'Mali'\n",
       "\\item 'Malta'\n",
       "\\item 'Marshall Islands'\n",
       "\\item 'Mauritania'\n",
       "\\item 'Mauritius'\n",
       "\\item 'Mexico'\n",
       "\\item 'Micronesia (Federated States of)'\n",
       "\\item 'Monaco'\n",
       "\\item 'Mongolia'\n",
       "\\item 'Montenegro'\n",
       "\\item 'Morocco'\n",
       "\\item 'Mozambique'\n",
       "\\item 'Myanmar'\n",
       "\\item 'Namibia'\n",
       "\\item 'Nauru'\n",
       "\\item 'Nepal'\n",
       "\\item 'Netherlands'\n",
       "\\item 'New Zealand'\n",
       "\\item 'Nicaragua'\n",
       "\\item 'Niger'\n",
       "\\item 'Nigeria'\n",
       "\\item 'Niue'\n",
       "\\item 'Norway'\n",
       "\\item 'Oman'\n",
       "\\item 'Pakistan'\n",
       "\\item 'Palau'\n",
       "\\item 'Panama'\n",
       "\\item 'Papua New Guinea'\n",
       "\\item 'Paraguay'\n",
       "\\item 'Peru'\n",
       "\\item 'Philippines'\n",
       "\\item 'Poland'\n",
       "\\item 'Portugal'\n",
       "\\item 'Qatar'\n",
       "\\item 'Republic of Korea'\n",
       "\\item 'Republic of Moldova'\n",
       "\\item 'Romania'\n",
       "\\item 'Russian Federation'\n",
       "\\item 'Rwanda'\n",
       "\\item 'Saint Kitts and Nevis'\n",
       "\\item 'Saint Lucia'\n",
       "\\item 'Saint Vincent and the Grenadines'\n",
       "\\item 'Samoa'\n",
       "\\item 'San Marino'\n",
       "\\item 'Sao Tome and Principe'\n",
       "\\item 'Saudi Arabia'\n",
       "\\item 'Senegal'\n",
       "\\item 'Serbia'\n",
       "\\item 'Seychelles'\n",
       "\\item 'Sierra Leone'\n",
       "\\item 'Singapore'\n",
       "\\item 'Slovakia'\n",
       "\\item 'Slovenia'\n",
       "\\item 'Solomon Islands'\n",
       "\\item 'Somalia'\n",
       "\\item 'South Africa'\n",
       "\\item 'South Sudan'\n",
       "\\item 'Spain'\n",
       "\\item 'Sri Lanka'\n",
       "\\item 'Sudan'\n",
       "\\item 'Suriname'\n",
       "\\item 'Swaziland'\n",
       "\\item 'Sweden'\n",
       "\\item 'Switzerland'\n",
       "\\item 'Syrian Arab Republic'\n",
       "\\item 'Tajikistan'\n",
       "\\item 'Thailand'\n",
       "\\item 'The former Yugoslav Republic of Macedonia'\n",
       "\\item 'Timor-Leste'\n",
       "\\item 'Togo'\n",
       "\\item 'Tonga'\n",
       "\\item 'Trinidad and Tobago'\n",
       "\\item 'Tunisia'\n",
       "\\item 'Turkey'\n",
       "\\item 'Turkmenistan'\n",
       "\\item 'Tuvalu'\n",
       "\\item 'Uganda'\n",
       "\\item 'Ukraine'\n",
       "\\item 'United Arab Emirates'\n",
       "\\item 'United Kingdom'\n",
       "\\item 'United Republic of Tanzania'\n",
       "\\item 'United States of America'\n",
       "\\item 'Uruguay'\n",
       "\\item 'Uzbekistan'\n",
       "\\item 'Vanuatu'\n",
       "\\item 'Venezuela (Bolivarian Republic of)'\n",
       "\\item 'Viet Nam'\n",
       "\\item 'Yemen'\n",
       "\\item 'Zambia'\n",
       "\\item 'Zimbabwe'\n",
       "\\end{enumerate*}\n"
      ],
      "text/markdown": [
       "Niger\n",
       "**Levels**: 1. 'Afghanistan'\n",
       "2. 'Albania'\n",
       "3. 'Algeria'\n",
       "4. 'Andorra'\n",
       "5. 'Angola'\n",
       "6. 'Antigua and Barbuda'\n",
       "7. 'Argentina'\n",
       "8. 'Armenia'\n",
       "9. 'Australia'\n",
       "10. 'Austria'\n",
       "11. 'Azerbaijan'\n",
       "12. 'Bahamas'\n",
       "13. 'Bahrain'\n",
       "14. 'Bangladesh'\n",
       "15. 'Barbados'\n",
       "16. 'Belarus'\n",
       "17. 'Belgium'\n",
       "18. 'Belize'\n",
       "19. 'Benin'\n",
       "20. 'Bhutan'\n",
       "21. 'Bolivia (Plurinational State of)'\n",
       "22. 'Bosnia and Herzegovina'\n",
       "23. 'Botswana'\n",
       "24. 'Brazil'\n",
       "25. 'Brunei Darussalam'\n",
       "26. 'Bulgaria'\n",
       "27. 'Burkina Faso'\n",
       "28. 'Burundi'\n",
       "29. 'Cambodia'\n",
       "30. 'Cameroon'\n",
       "31. 'Canada'\n",
       "32. 'Cape Verde'\n",
       "33. 'Central African Republic'\n",
       "34. 'Chad'\n",
       "35. 'Chile'\n",
       "36. 'China'\n",
       "37. 'Colombia'\n",
       "38. 'Comoros'\n",
       "39. 'Congo'\n",
       "40. 'Cook Islands'\n",
       "41. 'Costa Rica'\n",
       "42. 'Croatia'\n",
       "43. 'Cuba'\n",
       "44. 'Cyprus'\n",
       "45. 'Czech Republic'\n",
       "46. 'Democratic People\\'s Republic of Korea'\n",
       "47. 'Democratic Republic of the Congo'\n",
       "48. 'Denmark'\n",
       "49. 'Djibouti'\n",
       "50. 'Dominica'\n",
       "51. 'Dominican Republic'\n",
       "52. 'Ecuador'\n",
       "53. 'Egypt'\n",
       "54. 'El Salvador'\n",
       "55. 'Equatorial Guinea'\n",
       "56. 'Eritrea'\n",
       "57. 'Estonia'\n",
       "58. 'Ethiopia'\n",
       "59. 'Fiji'\n",
       "60. 'Finland'\n",
       "61. 'France'\n",
       "62. 'Gabon'\n",
       "63. 'Gambia'\n",
       "64. 'Georgia'\n",
       "65. 'Germany'\n",
       "66. 'Ghana'\n",
       "67. 'Greece'\n",
       "68. 'Grenada'\n",
       "69. 'Guatemala'\n",
       "70. 'Guinea'\n",
       "71. 'Guinea-Bissau'\n",
       "72. 'Guyana'\n",
       "73. 'Haiti'\n",
       "74. 'Honduras'\n",
       "75. 'Hungary'\n",
       "76. 'Iceland'\n",
       "77. 'India'\n",
       "78. 'Indonesia'\n",
       "79. 'Iran (Islamic Republic of)'\n",
       "80. 'Iraq'\n",
       "81. 'Ireland'\n",
       "82. 'Israel'\n",
       "83. 'Italy'\n",
       "84. 'Ivory Coast'\n",
       "85. 'Jamaica'\n",
       "86. 'Japan'\n",
       "87. 'Jordan'\n",
       "88. 'Kazakhstan'\n",
       "89. 'Kenya'\n",
       "90. 'Kiribati'\n",
       "91. 'Kuwait'\n",
       "92. 'Kyrgyzstan'\n",
       "93. 'Lao People\\'s Democratic Republic'\n",
       "94. 'Latvia'\n",
       "95. 'Lebanon'\n",
       "96. 'Lesotho'\n",
       "97. 'Liberia'\n",
       "98. 'Libya'\n",
       "99. 'Lithuania'\n",
       "100. 'Luxembourg'\n",
       "101. 'Madagascar'\n",
       "102. 'Malawi'\n",
       "103. 'Malaysia'\n",
       "104. 'Maldives'\n",
       "105. 'Mali'\n",
       "106. 'Malta'\n",
       "107. 'Marshall Islands'\n",
       "108. 'Mauritania'\n",
       "109. 'Mauritius'\n",
       "110. 'Mexico'\n",
       "111. 'Micronesia (Federated States of)'\n",
       "112. 'Monaco'\n",
       "113. 'Mongolia'\n",
       "114. 'Montenegro'\n",
       "115. 'Morocco'\n",
       "116. 'Mozambique'\n",
       "117. 'Myanmar'\n",
       "118. 'Namibia'\n",
       "119. 'Nauru'\n",
       "120. 'Nepal'\n",
       "121. 'Netherlands'\n",
       "122. 'New Zealand'\n",
       "123. 'Nicaragua'\n",
       "124. 'Niger'\n",
       "125. 'Nigeria'\n",
       "126. 'Niue'\n",
       "127. 'Norway'\n",
       "128. 'Oman'\n",
       "129. 'Pakistan'\n",
       "130. 'Palau'\n",
       "131. 'Panama'\n",
       "132. 'Papua New Guinea'\n",
       "133. 'Paraguay'\n",
       "134. 'Peru'\n",
       "135. 'Philippines'\n",
       "136. 'Poland'\n",
       "137. 'Portugal'\n",
       "138. 'Qatar'\n",
       "139. 'Republic of Korea'\n",
       "140. 'Republic of Moldova'\n",
       "141. 'Romania'\n",
       "142. 'Russian Federation'\n",
       "143. 'Rwanda'\n",
       "144. 'Saint Kitts and Nevis'\n",
       "145. 'Saint Lucia'\n",
       "146. 'Saint Vincent and the Grenadines'\n",
       "147. 'Samoa'\n",
       "148. 'San Marino'\n",
       "149. 'Sao Tome and Principe'\n",
       "150. 'Saudi Arabia'\n",
       "151. 'Senegal'\n",
       "152. 'Serbia'\n",
       "153. 'Seychelles'\n",
       "154. 'Sierra Leone'\n",
       "155. 'Singapore'\n",
       "156. 'Slovakia'\n",
       "157. 'Slovenia'\n",
       "158. 'Solomon Islands'\n",
       "159. 'Somalia'\n",
       "160. 'South Africa'\n",
       "161. 'South Sudan'\n",
       "162. 'Spain'\n",
       "163. 'Sri Lanka'\n",
       "164. 'Sudan'\n",
       "165. 'Suriname'\n",
       "166. 'Swaziland'\n",
       "167. 'Sweden'\n",
       "168. 'Switzerland'\n",
       "169. 'Syrian Arab Republic'\n",
       "170. 'Tajikistan'\n",
       "171. 'Thailand'\n",
       "172. 'The former Yugoslav Republic of Macedonia'\n",
       "173. 'Timor-Leste'\n",
       "174. 'Togo'\n",
       "175. 'Tonga'\n",
       "176. 'Trinidad and Tobago'\n",
       "177. 'Tunisia'\n",
       "178. 'Turkey'\n",
       "179. 'Turkmenistan'\n",
       "180. 'Tuvalu'\n",
       "181. 'Uganda'\n",
       "182. 'Ukraine'\n",
       "183. 'United Arab Emirates'\n",
       "184. 'United Kingdom'\n",
       "185. 'United Republic of Tanzania'\n",
       "186. 'United States of America'\n",
       "187. 'Uruguay'\n",
       "188. 'Uzbekistan'\n",
       "189. 'Vanuatu'\n",
       "190. 'Venezuela (Bolivarian Republic of)'\n",
       "191. 'Viet Nam'\n",
       "192. 'Yemen'\n",
       "193. 'Zambia'\n",
       "194. 'Zimbabwe'\n",
       "\n",
       "\n"
      ],
      "text/plain": [
       "[1] Niger\n",
       "194 Levels: Afghanistan Albania Algeria Andorra Angola ... Zimbabwe"
      ]
     },
     "metadata": {},
     "output_type": "display_data"
    }
   ],
   "source": [
    "WHO$Country[which.max(WHO$Under15)]"
   ]
  },
  {
   "cell_type": "markdown",
   "metadata": {},
   "source": [
    "**Create a scatter plot of GNI versus fertility rate.**"
   ]
  },
  {
   "cell_type": "code",
   "execution_count": 18,
   "metadata": {},
   "outputs": [
    {
     "data": {
      "image/png": "[encoded data removed]",
      "text/plain": [
       "plot without title"
      ]
     },
     "metadata": {
      "image/png": {
       "height": 420,
       "width": 420
      },
      "text/plain": {
       "height": 420,
       "width": 420
      }
     },
     "output_type": "display_data"
    }
   ],
   "source": [
    "plot(WHO$GNI, WHO$FertilityRate)"
   ]
  },
  {
   "cell_type": "markdown",
   "metadata": {},
   "source": [
    "**Create a subset to identify the countries with a GNI greater than 10,000, and a fertility rate greater than 2.5.**"
   ]
  },
  {
   "cell_type": "code",
   "execution_count": 19,
   "metadata": {},
   "outputs": [],
   "source": [
    "Outliers = subset(WHO, GNI > 10000 & FertilityRate > 2.5)"
   ]
  },
  {
   "cell_type": "markdown",
   "metadata": {},
   "source": [
    "**Number of rows of Outliers**"
   ]
  },
  {
   "cell_type": "code",
   "execution_count": 20,
   "metadata": {},
   "outputs": [
    {
     "data": {
      "text/html": [
       "7"
      ],
      "text/latex": [
       "7"
      ],
      "text/markdown": [
       "7"
      ],
      "text/plain": [
       "[1] 7"
      ]
     },
     "metadata": {},
     "output_type": "display_data"
    }
   ],
   "source": [
    "nrow(Outliers)"
   ]
  },
  {
   "cell_type": "markdown",
   "metadata": {},
   "source": [
    "There are seven countries for which the GNI is greater than 10,000 and the fertility rate is greater than 2.5."
   ]
  },
  {
   "cell_type": "code",
   "execution_count": 21,
   "metadata": {},
   "outputs": [
    {
     "data": {
      "text/html": [
       "<table>\n",
       "<caption>A data.frame: 7 × 3</caption>\n",
       "<thead>\n",
       "\t<tr><th></th><th scope=col>Country</th><th scope=col>GNI</th><th scope=col>FertilityRate</th></tr>\n",
       "\t<tr><th></th><th scope=col>&lt;fct&gt;</th><th scope=col>&lt;dbl&gt;</th><th scope=col>&lt;dbl&gt;</th></tr>\n",
       "</thead>\n",
       "<tbody>\n",
       "\t<tr><th scope=row>23</th><td>Botswana         </td><td>14550</td><td>2.71</td></tr>\n",
       "\t<tr><th scope=row>56</th><td>Equatorial Guinea</td><td>25620</td><td>5.04</td></tr>\n",
       "\t<tr><th scope=row>63</th><td>Gabon            </td><td>13740</td><td>4.18</td></tr>\n",
       "\t<tr><th scope=row>83</th><td>Israel           </td><td>27110</td><td>2.92</td></tr>\n",
       "\t<tr><th scope=row>88</th><td>Kazakhstan       </td><td>11250</td><td>2.52</td></tr>\n",
       "\t<tr><th scope=row>131</th><td>Panama           </td><td>14510</td><td>2.52</td></tr>\n",
       "\t<tr><th scope=row>150</th><td>Saudi Arabia     </td><td>24700</td><td>2.76</td></tr>\n",
       "</tbody>\n",
       "</table>\n"
      ],
      "text/latex": [
       "A data.frame: 7 × 3\n",
       "\\begin{tabular}{r|lll}\n",
       "  & Country & GNI & FertilityRate\\\\\n",
       "  & <fct> & <dbl> & <dbl>\\\\\n",
       "\\hline\n",
       "\t23 & Botswana          & 14550 & 2.71\\\\\n",
       "\t56 & Equatorial Guinea & 25620 & 5.04\\\\\n",
       "\t63 & Gabon             & 13740 & 4.18\\\\\n",
       "\t83 & Israel            & 27110 & 2.92\\\\\n",
       "\t88 & Kazakhstan        & 11250 & 2.52\\\\\n",
       "\t131 & Panama            & 14510 & 2.52\\\\\n",
       "\t150 & Saudi Arabia      & 24700 & 2.76\\\\\n",
       "\\end{tabular}\n"
      ],
      "text/markdown": [
       "\n",
       "A data.frame: 7 × 3\n",
       "\n",
       "| <!--/--> | Country &lt;fct&gt; | GNI &lt;dbl&gt; | FertilityRate &lt;dbl&gt; |\n",
       "|---|---|---|---|\n",
       "| 23 | Botswana          | 14550 | 2.71 |\n",
       "| 56 | Equatorial Guinea | 25620 | 5.04 |\n",
       "| 63 | Gabon             | 13740 | 4.18 |\n",
       "| 83 | Israel            | 27110 | 2.92 |\n",
       "| 88 | Kazakhstan        | 11250 | 2.52 |\n",
       "| 131 | Panama            | 14510 | 2.52 |\n",
       "| 150 | Saudi Arabia      | 24700 | 2.76 |\n",
       "\n"
      ],
      "text/plain": [
       "    Country           GNI   FertilityRate\n",
       "23  Botswana          14550 2.71         \n",
       "56  Equatorial Guinea 25620 5.04         \n",
       "63  Gabon             13740 4.18         \n",
       "83  Israel            27110 2.92         \n",
       "88  Kazakhstan        11250 2.52         \n",
       "131 Panama            14510 2.52         \n",
       "150 Saudi Arabia      24700 2.76         "
      ]
     },
     "metadata": {},
     "output_type": "display_data"
    }
   ],
   "source": [
    "Outliers[c(\"Country\",\"GNI\",\"FertilityRate\")]"
   ]
  },
  {
   "cell_type": "markdown",
   "metadata": {},
   "source": [
    "**Histograms**"
   ]
  },
  {
   "cell_type": "code",
   "execution_count": 22,
   "metadata": {},
   "outputs": [
    {
     "data": {
      "image/png": "[encoded data removed]",
      "text/plain": [
       "Plot with title \"Histogram of WHO$CellularSubscribers\""
      ]
     },
     "metadata": {
      "image/png": {
       "height": 420,
       "width": 420
      },
      "text/plain": {
       "height": 420,
       "width": 420
      }
     },
     "output_type": "display_data"
    }
   ],
   "source": [
    "hist(WHO$CellularSubscribers)"
   ]
  },
  {
   "cell_type": "markdown",
   "metadata": {},
   "source": [
    "**Boxplot**"
   ]
  },
  {
   "cell_type": "code",
   "execution_count": 23,
   "metadata": {},
   "outputs": [
    {
     "data": {
      "image/png": "[encoded data removed]",
      "text/plain": [
       "plot without title"
      ]
     },
     "metadata": {
      "image/png": {
       "height": 420,
       "width": 420
      },
      "text/plain": {
       "height": 420,
       "width": 420
      }
     },
     "output_type": "display_data"
    }
   ],
   "source": [
    "boxplot(WHO$LifeExpectancy ~ WHO$Region)"
   ]
  },
  {
   "cell_type": "markdown",
   "metadata": {},
   "source": [
    "**Inserting Labels & Title**"
   ]
  },
  {
   "cell_type": "code",
   "execution_count": 24,
   "metadata": {},
   "outputs": [
    {
     "data": {
      "image/png": "[encoded data removed]",
      "text/plain": [
       "Plot with title \"Life Expectancy of Countries by Region\""
      ]
     },
     "metadata": {
      "image/png": {
       "height": 420,
       "width": 420
      },
      "text/plain": {
       "height": 420,
       "width": 420
      }
     },
     "output_type": "display_data"
    }
   ],
   "source": [
    "boxplot(WHO$LifeExpectancy ~ WHO$Region, xlab = \"\", ylab = \"Life Expectancy\", main = \"Life Expectancy of Countries by Region\")"
   ]
  },
  {
   "cell_type": "markdown",
   "metadata": {},
   "source": [
    "**Summary Tables**"
   ]
  },
  {
   "cell_type": "code",
   "execution_count": 25,
   "metadata": {},
   "outputs": [
    {
     "data": {
      "text/plain": [
       "\n",
       "               Africa              Americas Eastern Mediterranean \n",
       "                   46                    35                    22 \n",
       "               Europe       South-East Asia       Western Pacific \n",
       "                   53                    11                    27 "
      ]
     },
     "metadata": {},
     "output_type": "display_data"
    }
   ],
   "source": [
    "table(WHO$Region)"
   ]
  },
  {
   "cell_type": "markdown",
   "metadata": {},
   "source": [
    "**Tapply Function**"
   ]
  },
  {
   "cell_type": "code",
   "execution_count": 26,
   "metadata": {},
   "outputs": [
    {
     "data": {
      "text/html": [
       "<style>\n",
       ".dl-inline {width: auto; margin:0; padding: 0}\n",
       ".dl-inline>dt, .dl-inline>dd {float: none; width: auto; display: inline-block}\n",
       ".dl-inline>dt::after {content: \":\\0020\"; padding-right: .5ex}\n",
       ".dl-inline>dt:not(:first-of-type) {padding-left: .5ex}\n",
       "</style><dl class=dl-inline><dt>Africa</dt><dd>5.22065217391304</dd><dt>Americas</dt><dd>10.9437142857143</dd><dt>Eastern Mediterranean</dt><dd>5.62</dd><dt>Europe</dt><dd>19.7749056603774</dd><dt>South-East Asia</dt><dd>8.76909090909091</dd><dt>Western Pacific</dt><dd>10.162962962963</dd></dl>\n"
      ],
      "text/latex": [
       "\\begin{description*}\n",
       "\\item[Africa] 5.22065217391304\n",
       "\\item[Americas] 10.9437142857143\n",
       "\\item[Eastern Mediterranean] 5.62\n",
       "\\item[Europe] 19.7749056603774\n",
       "\\item[South-East Asia] 8.76909090909091\n",
       "\\item[Western Pacific] 10.162962962963\n",
       "\\end{description*}\n"
      ],
      "text/markdown": [
       "Africa\n",
       ":   5.22065217391304Americas\n",
       ":   10.9437142857143Eastern Mediterranean\n",
       ":   5.62Europe\n",
       ":   19.7749056603774South-East Asia\n",
       ":   8.76909090909091Western Pacific\n",
       ":   10.162962962963\n",
       "\n"
      ],
      "text/plain": [
       "               Africa              Americas Eastern Mediterranean \n",
       "             5.220652             10.943714              5.620000 \n",
       "               Europe       South-East Asia       Western Pacific \n",
       "            19.774906              8.769091             10.162963 "
      ]
     },
     "metadata": {},
     "output_type": "display_data"
    }
   ],
   "source": [
    "tapply(WHO$Over60, WHO$Region, mean)"
   ]
  },
  {
   "cell_type": "markdown",
   "metadata": {},
   "source": [
    "*Tapply* splits the data by the second argument you give, and then applies the third argument function to the variable given as the first argument. This result tells us that the average percentage of the population over 60 in African countries is about 5%."
   ]
  },
  {
   "cell_type": "code",
   "execution_count": 27,
   "metadata": {},
   "outputs": [
    {
     "data": {
      "text/html": [
       "<style>\n",
       ".dl-inline {width: auto; margin:0; padding: 0}\n",
       ".dl-inline>dt, .dl-inline>dd {float: none; width: auto; display: inline-block}\n",
       ".dl-inline>dt::after {content: \":\\0020\"; padding-right: .5ex}\n",
       ".dl-inline>dt:not(:first-of-type) {padding-left: .5ex}\n",
       "</style><dl class=dl-inline><dt>Africa</dt><dd>&lt;NA&gt;</dd><dt>Americas</dt><dd>&lt;NA&gt;</dd><dt>Eastern Mediterranean</dt><dd>&lt;NA&gt;</dd><dt>Europe</dt><dd>&lt;NA&gt;</dd><dt>South-East Asia</dt><dd>&lt;NA&gt;</dd><dt>Western Pacific</dt><dd>&lt;NA&gt;</dd></dl>\n"
      ],
      "text/latex": [
       "\\begin{description*}\n",
       "\\item[Africa] <NA>\n",
       "\\item[Americas] <NA>\n",
       "\\item[Eastern Mediterranean] <NA>\n",
       "\\item[Europe] <NA>\n",
       "\\item[South-East Asia] <NA>\n",
       "\\item[Western Pacific] <NA>\n",
       "\\end{description*}\n"
      ],
      "text/markdown": [
       "Africa\n",
       ":   &lt;NA&gt;Americas\n",
       ":   &lt;NA&gt;Eastern Mediterranean\n",
       ":   &lt;NA&gt;Europe\n",
       ":   &lt;NA&gt;South-East Asia\n",
       ":   &lt;NA&gt;Western Pacific\n",
       ":   &lt;NA&gt;\n",
       "\n"
      ],
      "text/plain": [
       "               Africa              Americas Eastern Mediterranean \n",
       "                   NA                    NA                    NA \n",
       "               Europe       South-East Asia       Western Pacific \n",
       "                   NA                    NA                    NA "
      ]
     },
     "metadata": {},
     "output_type": "display_data"
    }
   ],
   "source": [
    "tapply(WHO$LiteracyRate, WHO$Region, min)"
   ]
  },
  {
   "cell_type": "markdown",
   "metadata": {},
   "source": [
    "We have the value NA for all of the regions. This is because we have some missing values in our data."
   ]
  },
  {
   "cell_type": "code",
   "execution_count": 28,
   "metadata": {},
   "outputs": [
    {
     "data": {
      "text/html": [
       "<style>\n",
       ".dl-inline {width: auto; margin:0; padding: 0}\n",
       ".dl-inline>dt, .dl-inline>dd {float: none; width: auto; display: inline-block}\n",
       ".dl-inline>dt::after {content: \":\\0020\"; padding-right: .5ex}\n",
       ".dl-inline>dt:not(:first-of-type) {padding-left: .5ex}\n",
       "</style><dl class=dl-inline><dt>Africa</dt><dd>31.1</dd><dt>Americas</dt><dd>75.2</dd><dt>Eastern Mediterranean</dt><dd>63.9</dd><dt>Europe</dt><dd>95.2</dd><dt>South-East Asia</dt><dd>56.8</dd><dt>Western Pacific</dt><dd>60.6</dd></dl>\n"
      ],
      "text/latex": [
       "\\begin{description*}\n",
       "\\item[Africa] 31.1\n",
       "\\item[Americas] 75.2\n",
       "\\item[Eastern Mediterranean] 63.9\n",
       "\\item[Europe] 95.2\n",
       "\\item[South-East Asia] 56.8\n",
       "\\item[Western Pacific] 60.6\n",
       "\\end{description*}\n"
      ],
      "text/markdown": [
       "Africa\n",
       ":   31.1Americas\n",
       ":   75.2Eastern Mediterranean\n",
       ":   63.9Europe\n",
       ":   95.2South-East Asia\n",
       ":   56.8Western Pacific\n",
       ":   60.6\n",
       "\n"
      ],
      "text/plain": [
       "               Africa              Americas Eastern Mediterranean \n",
       "                 31.1                  75.2                  63.9 \n",
       "               Europe       South-East Asia       Western Pacific \n",
       "                 95.2                  56.8                  60.6 "
      ]
     },
     "metadata": {},
     "output_type": "display_data"
    }
   ],
   "source": [
    "tapply(WHO$LiteracyRate, WHO$Region, min, na.rm=TRUE)"
   ]
  },
  {
   "cell_type": "markdown",
   "metadata": {},
   "source": [
    "*na.rm = TRUE* removes all of the countries that are missing a value for LiteracyRate before doing the computation."
   ]
  }
 ],
 "metadata": {
  "kernelspec": {
   "display_name": "R",
   "language": "R",
   "name": "ir"
  },
  "language_info": {
   "codemirror_mode": "r",
   "file_extension": ".r",
   "mimetype": "text/x-r-source",
   "name": "R",
   "pygments_lexer": "r",
   "version": "3.6.3"
  }
 },
 "nbformat": 4,
 "nbformat_minor": 4
}
