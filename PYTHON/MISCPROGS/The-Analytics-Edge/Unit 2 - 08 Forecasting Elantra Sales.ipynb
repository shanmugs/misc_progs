{
 "cells": [
  {
   "cell_type": "markdown",
   "metadata": {},
   "source": [
    "# Forecasting Elantra Sales"
   ]
  },
  {
   "cell_type": "markdown",
   "metadata": {},
   "source": [
    "An important application of linear regression is understanding sales. Consider a company that produces and sells a product. In a given period, if the company produces more units than how many consumers will buy, the company will not earn money on the unsold units and will incur additional costs due to having to store those units in inventory before they can be sold. If it produces fewer units than how many consumers will buy, the company will earn less than it potentially could have earned. Being able to predict consumer sales, therefore, is of first order importance to the company.\n",
    "\n",
    "In this problem, we will try to predict monthly sales of the Hyundai Elantra in the United States. The Hyundai Motor Company is a major automobile manufacturer based in South Korea. The Elantra is a car model that has been produced by Hyundai since 1990 and is sold all over the world, including the United States. We will build a linear regression model to predict monthly sales using economic indicators of the United States as well as Google search queries."
   ]
  },
  {
   "cell_type": "markdown",
   "metadata": {},
   "source": [
    "<img src=\"images/hyundai.jpg\"/>"
   ]
  },
  {
   "cell_type": "markdown",
   "metadata": {},
   "source": [
    "The file elantra.csv contains data for the problem. Each observation is a month, from January 2010 to February 2014. For each month, we have the following variables:\n",
    "\n",
    "    Month = the month of the year for the observation (1 = January, 2 = February, 3 = March, ...).\n",
    "\n",
    "    Year = the year of the observation.\n",
    "\n",
    "    ElantraSales = the number of units of the Hyundai Elantra sold in the United States in the given month.\n",
    "\n",
    "    Unemployment = the estimated unemployment percentage in the United States in the given month.\n",
    "\n",
    "    Queries = a (normalized) approximation of the number of Google searches for \"hyundai elantra\" in the given month.\n",
    "\n",
    "    CPI_energy = the monthly consumer price index (CPI) for energy for the given month.\n",
    "\n",
    "    CPI_all = the consumer price index (CPI) for all products for the given month; this is a measure of the magnitude of the prices paid by consumer households for goods and services (e.g., food, clothing, electricity, etc.)."
   ]
  },
  {
   "cell_type": "markdown",
   "metadata": {},
   "source": [
    "### Problem 1 - Loading the Data\n",
    "\n",
    "Load the data set. Split the data set into training and testing sets as follows: place all observations for 2012 and earlier in the training set, and all observations for 2013 and 2014 into the testing set.\n",
    "\n",
    "How many observations are in the training set?"
   ]
  },
  {
   "cell_type": "code",
   "execution_count": 1,
   "metadata": {},
   "outputs": [
    {
     "data": {
      "text/html": [
       "<table>\n",
       "<caption>A data.frame: 6 × 7</caption>\n",
       "<thead>\n",
       "\t<tr><th></th><th scope=col>Month</th><th scope=col>Year</th><th scope=col>ElantraSales</th><th scope=col>Unemployment</th><th scope=col>Queries</th><th scope=col>CPI_energy</th><th scope=col>CPI_all</th></tr>\n",
       "\t<tr><th></th><th scope=col>&lt;int&gt;</th><th scope=col>&lt;int&gt;</th><th scope=col>&lt;int&gt;</th><th scope=col>&lt;dbl&gt;</th><th scope=col>&lt;int&gt;</th><th scope=col>&lt;dbl&gt;</th><th scope=col>&lt;dbl&gt;</th></tr>\n",
       "</thead>\n",
       "<tbody>\n",
       "\t<tr><th scope=row>1</th><td>1</td><td>2010</td><td> 7690</td><td>9.7</td><td>153</td><td>213.377</td><td>217.466</td></tr>\n",
       "\t<tr><th scope=row>2</th><td>1</td><td>2011</td><td> 9659</td><td>9.1</td><td>259</td><td>229.353</td><td>221.082</td></tr>\n",
       "\t<tr><th scope=row>3</th><td>1</td><td>2012</td><td>10900</td><td>8.2</td><td>354</td><td>244.178</td><td>227.666</td></tr>\n",
       "\t<tr><th scope=row>4</th><td>1</td><td>2013</td><td>12174</td><td>7.9</td><td>230</td><td>242.560</td><td>231.321</td></tr>\n",
       "\t<tr><th scope=row>5</th><td>1</td><td>2014</td><td>15326</td><td>6.6</td><td>232</td><td>247.575</td><td>234.933</td></tr>\n",
       "\t<tr><th scope=row>6</th><td>2</td><td>2010</td><td> 7966</td><td>9.8</td><td>130</td><td>209.924</td><td>217.251</td></tr>\n",
       "</tbody>\n",
       "</table>\n"
      ],
      "text/latex": [
       "A data.frame: 6 × 7\n",
       "\\begin{tabular}{r|lllllll}\n",
       "  & Month & Year & ElantraSales & Unemployment & Queries & CPI\\_energy & CPI\\_all\\\\\n",
       "  & <int> & <int> & <int> & <dbl> & <int> & <dbl> & <dbl>\\\\\n",
       "\\hline\n",
       "\t1 & 1 & 2010 &  7690 & 9.7 & 153 & 213.377 & 217.466\\\\\n",
       "\t2 & 1 & 2011 &  9659 & 9.1 & 259 & 229.353 & 221.082\\\\\n",
       "\t3 & 1 & 2012 & 10900 & 8.2 & 354 & 244.178 & 227.666\\\\\n",
       "\t4 & 1 & 2013 & 12174 & 7.9 & 230 & 242.560 & 231.321\\\\\n",
       "\t5 & 1 & 2014 & 15326 & 6.6 & 232 & 247.575 & 234.933\\\\\n",
       "\t6 & 2 & 2010 &  7966 & 9.8 & 130 & 209.924 & 217.251\\\\\n",
       "\\end{tabular}\n"
      ],
      "text/markdown": [
       "\n",
       "A data.frame: 6 × 7\n",
       "\n",
       "| <!--/--> | Month &lt;int&gt; | Year &lt;int&gt; | ElantraSales &lt;int&gt; | Unemployment &lt;dbl&gt; | Queries &lt;int&gt; | CPI_energy &lt;dbl&gt; | CPI_all &lt;dbl&gt; |\n",
       "|---|---|---|---|---|---|---|---|\n",
       "| 1 | 1 | 2010 |  7690 | 9.7 | 153 | 213.377 | 217.466 |\n",
       "| 2 | 1 | 2011 |  9659 | 9.1 | 259 | 229.353 | 221.082 |\n",
       "| 3 | 1 | 2012 | 10900 | 8.2 | 354 | 244.178 | 227.666 |\n",
       "| 4 | 1 | 2013 | 12174 | 7.9 | 230 | 242.560 | 231.321 |\n",
       "| 5 | 1 | 2014 | 15326 | 6.6 | 232 | 247.575 | 234.933 |\n",
       "| 6 | 2 | 2010 |  7966 | 9.8 | 130 | 209.924 | 217.251 |\n",
       "\n"
      ],
      "text/plain": [
       "  Month Year ElantraSales Unemployment Queries CPI_energy CPI_all\n",
       "1 1     2010  7690        9.7          153     213.377    217.466\n",
       "2 1     2011  9659        9.1          259     229.353    221.082\n",
       "3 1     2012 10900        8.2          354     244.178    227.666\n",
       "4 1     2013 12174        7.9          230     242.560    231.321\n",
       "5 1     2014 15326        6.6          232     247.575    234.933\n",
       "6 2     2010  7966        9.8          130     209.924    217.251"
      ]
     },
     "metadata": {},
     "output_type": "display_data"
    }
   ],
   "source": [
    "elantra <-read.csv(\"data/elantra.csv\")\n",
    "head(elantra)"
   ]
  },
  {
   "cell_type": "code",
   "execution_count": 2,
   "metadata": {},
   "outputs": [
    {
     "name": "stdout",
     "output_type": "stream",
     "text": [
      "'data.frame':\t50 obs. of  7 variables:\n",
      " $ Month       : int  1 1 1 1 1 2 2 2 2 2 ...\n",
      " $ Year        : int  2010 2011 2012 2013 2014 2010 2011 2012 2013 2014 ...\n",
      " $ ElantraSales: int  7690 9659 10900 12174 15326 7966 12289 13820 16219 16393 ...\n",
      " $ Unemployment: num  9.7 9.1 8.2 7.9 6.6 9.8 9 8.3 7.7 6.7 ...\n",
      " $ Queries     : int  153 259 354 230 232 130 266 296 239 240 ...\n",
      " $ CPI_energy  : num  213 229 244 243 248 ...\n",
      " $ CPI_all     : num  217 221 228 231 235 ...\n"
     ]
    }
   ],
   "source": [
    "str(elantra)"
   ]
  },
  {
   "cell_type": "code",
   "execution_count": 3,
   "metadata": {},
   "outputs": [
    {
     "data": {
      "text/plain": [
       "     Month           Year       ElantraSales    Unemployment      Queries     \n",
       " Min.   : 1.0   Min.   :2010   Min.   : 7690   Min.   :6.600   Min.   :130.0  \n",
       " 1st Qu.: 3.0   1st Qu.:2011   1st Qu.:12560   1st Qu.:7.725   1st Qu.:224.8  \n",
       " Median : 6.0   Median :2012   Median :15624   Median :8.250   Median :262.5  \n",
       " Mean   : 6.3   Mean   :2012   Mean   :16005   Mean   :8.422   Mean   :263.5  \n",
       " 3rd Qu.: 9.0   3rd Qu.:2013   3rd Qu.:19197   3rd Qu.:9.100   3rd Qu.:311.0  \n",
       " Max.   :12.0   Max.   :2014   Max.   :26153   Max.   :9.900   Max.   :427.0  \n",
       "   CPI_energy       CPI_all     \n",
       " Min.   :204.2   Min.   :217.3  \n",
       " 1st Qu.:230.1   1st Qu.:221.3  \n",
       " Median :244.4   Median :227.9  \n",
       " Mean   :236.9   Mean   :226.7  \n",
       " 3rd Qu.:247.1   3rd Qu.:231.7  \n",
       " Max.   :256.4   Max.   :235.2  "
      ]
     },
     "metadata": {},
     "output_type": "display_data"
    }
   ],
   "source": [
    "summary(elantra)"
   ]
  },
  {
   "cell_type": "code",
   "execution_count": 4,
   "metadata": {},
   "outputs": [],
   "source": [
    "elantraTrain<-subset(elantra, Year<=2012)\n",
    "elantraTest<-subset(elantra, Year>2012)"
   ]
  },
  {
   "cell_type": "code",
   "execution_count": 5,
   "metadata": {},
   "outputs": [
    {
     "name": "stdout",
     "output_type": "stream",
     "text": [
      "'data.frame':\t36 obs. of  7 variables:\n",
      " $ Month       : int  1 1 1 2 2 2 3 3 3 4 ...\n",
      " $ Year        : int  2010 2011 2012 2010 2011 2012 2010 2011 2012 2010 ...\n",
      " $ ElantraSales: int  7690 9659 10900 7966 12289 13820 8225 19255 19681 9657 ...\n",
      " $ Unemployment: num  9.7 9.1 8.2 9.8 9 8.3 9.9 9 8.2 9.9 ...\n",
      " $ Queries     : int  153 259 354 130 266 296 138 281 303 132 ...\n",
      " $ CPI_energy  : num  213 229 244 210 232 ...\n",
      " $ CPI_all     : num  217 221 228 217 222 ...\n"
     ]
    }
   ],
   "source": [
    "str(elantraTrain)"
   ]
  },
  {
   "cell_type": "code",
   "execution_count": 6,
   "metadata": {},
   "outputs": [
    {
     "name": "stdout",
     "output_type": "stream",
     "text": [
      "'data.frame':\t14 obs. of  7 variables:\n",
      " $ Month       : int  1 1 2 2 3 4 5 6 7 8 ...\n",
      " $ Year        : int  2013 2014 2013 2014 2013 2013 2013 2013 2013 2013 ...\n",
      " $ ElantraSales: int  12174 15326 16219 16393 26153 24445 25090 22163 23958 24700 ...\n",
      " $ Unemployment: num  7.9 6.6 7.7 6.7 7.5 7.5 7.5 7.5 7.3 7.2 ...\n",
      " $ Queries     : int  230 232 239 240 313 248 252 320 274 271 ...\n",
      " $ CPI_energy  : num  243 248 253 246 245 ...\n",
      " $ CPI_all     : num  231 235 233 235 232 ...\n"
     ]
    }
   ],
   "source": [
    "str(elantraTest)"
   ]
  },
  {
   "cell_type": "code",
   "execution_count": 7,
   "metadata": {},
   "outputs": [
    {
     "data": {
      "text/html": [
       "36"
      ],
      "text/latex": [
       "36"
      ],
      "text/markdown": [
       "36"
      ],
      "text/plain": [
       "[1] 36"
      ]
     },
     "metadata": {},
     "output_type": "display_data"
    }
   ],
   "source": [
    "nrow(elantraTrain)"
   ]
  },
  {
   "cell_type": "markdown",
   "metadata": {},
   "source": [
    "### Problem 2.1 - A Linear Regression Model\n",
    "\n",
    "Build a linear regression model to predict monthly Elantra sales using Unemployment, CPI_all, CPI_energy and Queries as the independent variables. Use all of the training set data to do this.\n",
    "\n",
    "What is the model R-squared? Note: In this problem, we will always be asking for the \"Multiple R-Squared\" of the model."
   ]
  },
  {
   "cell_type": "code",
   "execution_count": 8,
   "metadata": {},
   "outputs": [
    {
     "data": {
      "text/plain": [
       "\n",
       "Call:\n",
       "lm(formula = ElantraSales ~ Unemployment + CPI_energy + CPI_all + \n",
       "    Queries, data = elantraTrain)\n",
       "\n",
       "Residuals:\n",
       "    Min      1Q  Median      3Q     Max \n",
       "-6785.2 -2101.8  -562.5  2901.7  7021.0 \n",
       "\n",
       "Coefficients:\n",
       "              Estimate Std. Error t value Pr(>|t|)\n",
       "(Intercept)   95385.36  170663.81   0.559    0.580\n",
       "Unemployment  -3179.90    3610.26  -0.881    0.385\n",
       "CPI_energy       38.51     109.60   0.351    0.728\n",
       "CPI_all        -297.65     704.84  -0.422    0.676\n",
       "Queries          19.03      11.26   1.690    0.101\n",
       "\n",
       "Residual standard error: 3295 on 31 degrees of freedom\n",
       "Multiple R-squared:  0.4282,\tAdjusted R-squared:  0.3544 \n",
       "F-statistic: 5.803 on 4 and 31 DF,  p-value: 0.00132\n"
      ]
     },
     "metadata": {},
     "output_type": "display_data"
    }
   ],
   "source": [
    "lmSale<-lm(ElantraSales ~ Unemployment + CPI_energy + CPI_all + Queries, data=elantraTrain)\n",
    "summary(lmSale)"
   ]
  },
  {
   "cell_type": "code",
   "execution_count": 9,
   "metadata": {},
   "outputs": [
    {
     "data": {
      "text/html": [
       "0.428156766860827"
      ],
      "text/latex": [
       "0.428156766860827"
      ],
      "text/markdown": [
       "0.428156766860827"
      ],
      "text/plain": [
       "[1] 0.4281568"
      ]
     },
     "metadata": {},
     "output_type": "display_data"
    }
   ],
   "source": [
    "summary(lmSale)$r.square"
   ]
  },
  {
   "cell_type": "markdown",
   "metadata": {},
   "source": [
    "### Problem 2.2 - Significant Variables\n",
    "\n",
    "How many variables are significant, or have levels that are significant? Use 0.10 as your p-value cutoff."
   ]
  },
  {
   "cell_type": "markdown",
   "metadata": {},
   "source": [
    "Answer: One, \"Queries\"."
   ]
  },
  {
   "cell_type": "markdown",
   "metadata": {},
   "source": [
    "### Problem 2.3 - Coefficients\n",
    "\n",
    "What is the coefficient of the Unemployment variable?"
   ]
  },
  {
   "cell_type": "markdown",
   "metadata": {},
   "source": [
    "Answer: -3179.90"
   ]
  },
  {
   "cell_type": "markdown",
   "metadata": {},
   "source": [
    "### Problem 2.4 - Interpreting the Coefficient\n",
    "\n",
    "What is the interpretation of this coefficient?"
   ]
  },
  {
   "cell_type": "markdown",
   "metadata": {},
   "source": [
    "Answer: For an increase of 1 in predicted Elantra sales, Unemployment decreases by approximately 3000."
   ]
  },
  {
   "cell_type": "markdown",
   "metadata": {},
   "source": [
    "### Problem 3.1 - Modeling Seasonality\n",
    "\n",
    "Our model R-Squared is relatively low, so we would now like to improve our model. In modeling demand and sales, it is often useful to model seasonality. Seasonality refers to the fact that demand is often cyclical/periodic in time. For example, in countries with different seasons, demand for warm outerwear (like jackets and coats) is higher in fall/autumn and winter (due to the colder weather) than in spring and summer. (In contrast, demand for swimsuits and sunscreen is higher in the summer than in the other seasons.) Another example is the \"back to school\" period in North America: demand for stationary (pencils, notebooks and so on) in late July and all of August is higher than the rest of the year due to the start of the school year in September.\n",
    "\n",
    "In our problem, since our data includes the month of the year in which the units were sold, it is feasible for us to incorporate monthly seasonality. From a modeling point of view, it may be reasonable that the month plays an effect in how many Elantra units are sold.\n",
    "\n",
    "To incorporate the seasonal effect due to the month, build a new linear regression model that predicts monthly Elantra sales using Month as well as Unemployment, CPI_all, CPI_energy and Queries. Do not modify the training and testing data frames before building the model.\n",
    "\n",
    "What is the model R-Squared?"
   ]
  },
  {
   "cell_type": "code",
   "execution_count": 10,
   "metadata": {},
   "outputs": [
    {
     "data": {
      "text/plain": [
       "\n",
       "Call:\n",
       "lm(formula = ElantraSales ~ Month + Unemployment + CPI_all + \n",
       "    CPI_energy + Queries, data = elantraTrain)\n",
       "\n",
       "Residuals:\n",
       "    Min      1Q  Median      3Q     Max \n",
       "-6416.6 -2068.7  -597.1  2616.3  7183.2 \n",
       "\n",
       "Coefficients:\n",
       "              Estimate Std. Error t value Pr(>|t|)  \n",
       "(Intercept)  148330.49  195373.51   0.759   0.4536  \n",
       "Month           110.69     191.66   0.578   0.5679  \n",
       "Unemployment  -4137.28    4008.56  -1.032   0.3103  \n",
       "CPI_all        -517.99     808.26  -0.641   0.5265  \n",
       "CPI_energy       54.18     114.08   0.475   0.6382  \n",
       "Queries          21.19      11.98   1.769   0.0871 .\n",
       "---\n",
       "Signif. codes:  0 '***' 0.001 '**' 0.01 '*' 0.05 '.' 0.1 ' ' 1\n",
       "\n",
       "Residual standard error: 3331 on 30 degrees of freedom\n",
       "Multiple R-squared:  0.4344,\tAdjusted R-squared:  0.3402 \n",
       "F-statistic: 4.609 on 5 and 30 DF,  p-value: 0.003078\n"
      ]
     },
     "metadata": {},
     "output_type": "display_data"
    }
   ],
   "source": [
    "lmSale2 <- lm(ElantraSales ~ Month + Unemployment + CPI_all + CPI_energy + Queries, data=elantraTrain)\n",
    "summary(lmSale2)"
   ]
  },
  {
   "cell_type": "code",
   "execution_count": 11,
   "metadata": {},
   "outputs": [
    {
     "data": {
      "text/html": [
       "0.434444334122361"
      ],
      "text/latex": [
       "0.434444334122361"
      ],
      "text/markdown": [
       "0.434444334122361"
      ],
      "text/plain": [
       "[1] 0.4344443"
      ]
     },
     "metadata": {},
     "output_type": "display_data"
    }
   ],
   "source": [
    "summary(lmSale2)$r.square"
   ]
  },
  {
   "cell_type": "markdown",
   "metadata": {},
   "source": [
    "### Problem 3.2 - Effect of Adding a New Variable\n",
    "\n",
    "Which of the following best describes the effect of adding Month?"
   ]
  },
  {
   "cell_type": "markdown",
   "metadata": {},
   "source": [
    "Answer: The model is not better because the adjusted R-squared has gone down and none of the variables (including the new one) are very significant."
   ]
  },
  {
   "cell_type": "markdown",
   "metadata": {},
   "source": [
    "### Problem 3.3 - Understanding the Model\n",
    "\n",
    "Let us try to understand our model.\n",
    "\n",
    "In the new model, given two monthly periods that are otherwise identical in Unemployment, CPI_all, CPI_energy and Queries, what is the absolute difference in predicted Elantra sales given that one period is in January and one is in March?"
   ]
  },
  {
   "cell_type": "code",
   "execution_count": 12,
   "metadata": {},
   "outputs": [
    {
     "data": {
      "text/html": [
       "221.38"
      ],
      "text/latex": [
       "221.38"
      ],
      "text/markdown": [
       "221.38"
      ],
      "text/plain": [
       "[1] 221.38"
      ]
     },
     "metadata": {},
     "output_type": "display_data"
    }
   ],
   "source": [
    "110.69 * 2"
   ]
  },
  {
   "cell_type": "markdown",
   "metadata": {},
   "source": [
    "In the new model, given two monthly periods that are otherwise identical in Unemployment, CPI_all, CPI_energy and Queries, what is the absolute difference in predicted Elantra sales given that one period is in January and one is in May?"
   ]
  },
  {
   "cell_type": "code",
   "execution_count": 13,
   "metadata": {},
   "outputs": [
    {
     "data": {
      "text/html": [
       "442.76"
      ],
      "text/latex": [
       "442.76"
      ],
      "text/markdown": [
       "442.76"
      ],
      "text/plain": [
       "[1] 442.76"
      ]
     },
     "metadata": {},
     "output_type": "display_data"
    }
   ],
   "source": [
    "110.69 * 4"
   ]
  },
  {
   "cell_type": "markdown",
   "metadata": {},
   "source": [
    "### Problem 3.4 - Numeric vs. Factors\n",
    "\n",
    "You may be experiencing an uneasy feeling that there is something not quite right in how we have modeled the effect of the calendar month on the monthly sales of Elantras. If so, you are right. In particular, we added Month as a variable, but Month is an ordinary numeric variable. In fact, we must convert Month to a factor variable before adding it to the model.\n",
    "\n",
    "What is the best explanation for why we must do this?"
   ]
  },
  {
   "cell_type": "markdown",
   "metadata": {},
   "source": [
    "Answer: By converting Month to a factor variable, we will effectively increase the number of coefficients we need to estimate, which will boost our model's R-Squared."
   ]
  },
  {
   "cell_type": "markdown",
   "metadata": {},
   "source": [
    "### Problem 4.1 - A New Model\n",
    "\n",
    "Re-run the regression with the Month variable modeled as a factor variable. (Create a new variable that models the Month as a factor (using the as.factor function) instead of overwriting the current Month variable. We'll still use the numeric version of Month later in the problem.)\n",
    "\n",
    "What is the model R-Squared?"
   ]
  },
  {
   "cell_type": "code",
   "execution_count": 14,
   "metadata": {},
   "outputs": [
    {
     "data": {
      "text/html": [
       "<table>\n",
       "<caption>A data.frame: 6 × 8</caption>\n",
       "<thead>\n",
       "\t<tr><th></th><th scope=col>Month</th><th scope=col>Year</th><th scope=col>ElantraSales</th><th scope=col>Unemployment</th><th scope=col>Queries</th><th scope=col>CPI_energy</th><th scope=col>CPI_all</th><th scope=col>MonthFactor</th></tr>\n",
       "\t<tr><th></th><th scope=col>&lt;int&gt;</th><th scope=col>&lt;int&gt;</th><th scope=col>&lt;int&gt;</th><th scope=col>&lt;dbl&gt;</th><th scope=col>&lt;int&gt;</th><th scope=col>&lt;dbl&gt;</th><th scope=col>&lt;dbl&gt;</th><th scope=col>&lt;fct&gt;</th></tr>\n",
       "</thead>\n",
       "<tbody>\n",
       "\t<tr><th scope=row>1</th><td>1</td><td>2010</td><td> 7690</td><td>9.7</td><td>153</td><td>213.377</td><td>217.466</td><td>1</td></tr>\n",
       "\t<tr><th scope=row>2</th><td>1</td><td>2011</td><td> 9659</td><td>9.1</td><td>259</td><td>229.353</td><td>221.082</td><td>1</td></tr>\n",
       "\t<tr><th scope=row>3</th><td>1</td><td>2012</td><td>10900</td><td>8.2</td><td>354</td><td>244.178</td><td>227.666</td><td>1</td></tr>\n",
       "\t<tr><th scope=row>6</th><td>2</td><td>2010</td><td> 7966</td><td>9.8</td><td>130</td><td>209.924</td><td>217.251</td><td>2</td></tr>\n",
       "\t<tr><th scope=row>7</th><td>2</td><td>2011</td><td>12289</td><td>9.0</td><td>266</td><td>232.188</td><td>221.816</td><td>2</td></tr>\n",
       "\t<tr><th scope=row>8</th><td>2</td><td>2012</td><td>13820</td><td>8.3</td><td>296</td><td>247.615</td><td>228.138</td><td>2</td></tr>\n",
       "</tbody>\n",
       "</table>\n"
      ],
      "text/latex": [
       "A data.frame: 6 × 8\n",
       "\\begin{tabular}{r|llllllll}\n",
       "  & Month & Year & ElantraSales & Unemployment & Queries & CPI\\_energy & CPI\\_all & MonthFactor\\\\\n",
       "  & <int> & <int> & <int> & <dbl> & <int> & <dbl> & <dbl> & <fct>\\\\\n",
       "\\hline\n",
       "\t1 & 1 & 2010 &  7690 & 9.7 & 153 & 213.377 & 217.466 & 1\\\\\n",
       "\t2 & 1 & 2011 &  9659 & 9.1 & 259 & 229.353 & 221.082 & 1\\\\\n",
       "\t3 & 1 & 2012 & 10900 & 8.2 & 354 & 244.178 & 227.666 & 1\\\\\n",
       "\t6 & 2 & 2010 &  7966 & 9.8 & 130 & 209.924 & 217.251 & 2\\\\\n",
       "\t7 & 2 & 2011 & 12289 & 9.0 & 266 & 232.188 & 221.816 & 2\\\\\n",
       "\t8 & 2 & 2012 & 13820 & 8.3 & 296 & 247.615 & 228.138 & 2\\\\\n",
       "\\end{tabular}\n"
      ],
      "text/markdown": [
       "\n",
       "A data.frame: 6 × 8\n",
       "\n",
       "| <!--/--> | Month &lt;int&gt; | Year &lt;int&gt; | ElantraSales &lt;int&gt; | Unemployment &lt;dbl&gt; | Queries &lt;int&gt; | CPI_energy &lt;dbl&gt; | CPI_all &lt;dbl&gt; | MonthFactor &lt;fct&gt; |\n",
       "|---|---|---|---|---|---|---|---|---|\n",
       "| 1 | 1 | 2010 |  7690 | 9.7 | 153 | 213.377 | 217.466 | 1 |\n",
       "| 2 | 1 | 2011 |  9659 | 9.1 | 259 | 229.353 | 221.082 | 1 |\n",
       "| 3 | 1 | 2012 | 10900 | 8.2 | 354 | 244.178 | 227.666 | 1 |\n",
       "| 6 | 2 | 2010 |  7966 | 9.8 | 130 | 209.924 | 217.251 | 2 |\n",
       "| 7 | 2 | 2011 | 12289 | 9.0 | 266 | 232.188 | 221.816 | 2 |\n",
       "| 8 | 2 | 2012 | 13820 | 8.3 | 296 | 247.615 | 228.138 | 2 |\n",
       "\n"
      ],
      "text/plain": [
       "  Month Year ElantraSales Unemployment Queries CPI_energy CPI_all MonthFactor\n",
       "1 1     2010  7690        9.7          153     213.377    217.466 1          \n",
       "2 1     2011  9659        9.1          259     229.353    221.082 1          \n",
       "3 1     2012 10900        8.2          354     244.178    227.666 1          \n",
       "6 2     2010  7966        9.8          130     209.924    217.251 2          \n",
       "7 2     2011 12289        9.0          266     232.188    221.816 2          \n",
       "8 2     2012 13820        8.3          296     247.615    228.138 2          "
      ]
     },
     "metadata": {},
     "output_type": "display_data"
    }
   ],
   "source": [
    "elantraTrain$MonthFactor = as.factor(elantraTrain$Month)\n",
    "elantraTest$MonthFactor = as.factor(elantraTest$Month)\n",
    "head(elantraTrain)"
   ]
  },
  {
   "cell_type": "code",
   "execution_count": 15,
   "metadata": {},
   "outputs": [
    {
     "data": {
      "text/plain": [
       "\n",
       "Call:\n",
       "lm(formula = ElantraSales ~ MonthFactor + Unemployment + CPI_all + \n",
       "    CPI_energy + Queries, data = elantraTrain)\n",
       "\n",
       "Residuals:\n",
       "    Min      1Q  Median      3Q     Max \n",
       "-3865.1 -1211.7   -77.1  1207.5  3562.2 \n",
       "\n",
       "Coefficients:\n",
       "                Estimate Std. Error t value Pr(>|t|)    \n",
       "(Intercept)   312509.280 144061.867   2.169 0.042288 *  \n",
       "MonthFactor2    2254.998   1943.249   1.160 0.259540    \n",
       "MonthFactor3    6696.557   1991.635   3.362 0.003099 ** \n",
       "MonthFactor4    7556.607   2038.022   3.708 0.001392 ** \n",
       "MonthFactor5    7420.249   1950.139   3.805 0.001110 ** \n",
       "MonthFactor6    9215.833   1995.230   4.619 0.000166 ***\n",
       "MonthFactor7    9929.464   2238.800   4.435 0.000254 ***\n",
       "MonthFactor8    7939.447   2064.629   3.845 0.001010 ** \n",
       "MonthFactor9    5013.287   2010.745   2.493 0.021542 *  \n",
       "MonthFactor10   2500.184   2084.057   1.200 0.244286    \n",
       "MonthFactor11   3238.932   2397.231   1.351 0.191747    \n",
       "MonthFactor12   5293.911   2228.310   2.376 0.027621 *  \n",
       "Unemployment   -7739.381   2968.747  -2.607 0.016871 *  \n",
       "CPI_all        -1343.307    592.919  -2.266 0.034732 *  \n",
       "CPI_energy       288.631     97.974   2.946 0.007988 ** \n",
       "Queries           -4.764     12.938  -0.368 0.716598    \n",
       "---\n",
       "Signif. codes:  0 '***' 0.001 '**' 0.01 '*' 0.05 '.' 0.1 ' ' 1\n",
       "\n",
       "Residual standard error: 2306 on 20 degrees of freedom\n",
       "Multiple R-squared:  0.8193,\tAdjusted R-squared:  0.6837 \n",
       "F-statistic: 6.044 on 15 and 20 DF,  p-value: 0.0001469\n"
      ]
     },
     "metadata": {},
     "output_type": "display_data"
    }
   ],
   "source": [
    "modelSalesM <- lm(ElantraSales ~ MonthFactor + Unemployment + CPI_all + CPI_energy + Queries, data=elantraTrain)\n",
    "summary(modelSalesM)"
   ]
  },
  {
   "cell_type": "code",
   "execution_count": 16,
   "metadata": {},
   "outputs": [
    {
     "data": {
      "text/html": [
       "0.819264200601825"
      ],
      "text/latex": [
       "0.819264200601825"
      ],
      "text/markdown": [
       "0.819264200601825"
      ],
      "text/plain": [
       "[1] 0.8192642"
      ]
     },
     "metadata": {},
     "output_type": "display_data"
    }
   ],
   "source": [
    "summary(modelSalesM)$r.square"
   ]
  },
  {
   "cell_type": "markdown",
   "metadata": {},
   "source": [
    "### Problem 4.2 - Significant Variables\n",
    "\n",
    "Which variables are significant, or have levels that are significant? Use 0.10 as your p-value cutoff."
   ]
  },
  {
   "cell_type": "markdown",
   "metadata": {},
   "source": [
    "Answer: MonthFactor & CPI_energy"
   ]
  },
  {
   "cell_type": "markdown",
   "metadata": {},
   "source": [
    "### Problem 5.1 - Multicolinearity\n",
    "\n",
    "Another peculiar observation about the regression is that the sign of the Queries variable has changed. In particular, when we naively modeled Month as a numeric variable, Queries had a positive coefficient. Now, Queries has a negative coefficient. Furthermore, CPI_energy has a positive coefficient -- as the overall price of energy increases, we expect Elantra sales to increase, which seems counter-intuitive (if the price of energy increases, we'd expect consumers to have less funds to purchase automobiles, leading to lower Elantra sales).\n",
    "\n",
    "As we have seen before, changes in coefficient signs and signs that are counter to our intuition may be due to a multicolinearity problem. To check, compute the correlations of the variables in the training set.\n",
    "\n",
    "Which of the following variables is CPI_energy highly correlated with? Select all that apply. (Include only variables where the absolute value of the correlation exceeds 0.6. For the purpose of this question, treat Month as a numeric variable, not a factor variable.)"
   ]
  },
  {
   "cell_type": "code",
   "execution_count": 17,
   "metadata": {},
   "outputs": [
    {
     "data": {
      "text/html": [
       "<table>\n",
       "<caption>A matrix: 5 × 5 of type dbl</caption>\n",
       "<thead>\n",
       "\t<tr><th></th><th scope=col>Unemployment</th><th scope=col>Month</th><th scope=col>Queries</th><th scope=col>CPI_energy</th><th scope=col>CPI_all</th></tr>\n",
       "</thead>\n",
       "<tbody>\n",
       "\t<tr><th scope=row>Unemployment</th><td> 1.0000000</td><td>-0.2036029</td><td>-0.6411093</td><td>-0.8007188</td><td>-0.9562123</td></tr>\n",
       "\t<tr><th scope=row>Month</th><td>-0.2036029</td><td> 1.0000000</td><td> 0.0158443</td><td> 0.1760198</td><td> 0.2667883</td></tr>\n",
       "\t<tr><th scope=row>Queries</th><td>-0.6411093</td><td> 0.0158443</td><td> 1.0000000</td><td> 0.8328381</td><td> 0.7536732</td></tr>\n",
       "\t<tr><th scope=row>CPI_energy</th><td>-0.8007188</td><td> 0.1760198</td><td> 0.8328381</td><td> 1.0000000</td><td> 0.9132259</td></tr>\n",
       "\t<tr><th scope=row>CPI_all</th><td>-0.9562123</td><td> 0.2667883</td><td> 0.7536732</td><td> 0.9132259</td><td> 1.0000000</td></tr>\n",
       "</tbody>\n",
       "</table>\n"
      ],
      "text/latex": [
       "A matrix: 5 × 5 of type dbl\n",
       "\\begin{tabular}{r|lllll}\n",
       "  & Unemployment & Month & Queries & CPI\\_energy & CPI\\_all\\\\\n",
       "\\hline\n",
       "\tUnemployment &  1.0000000 & -0.2036029 & -0.6411093 & -0.8007188 & -0.9562123\\\\\n",
       "\tMonth & -0.2036029 &  1.0000000 &  0.0158443 &  0.1760198 &  0.2667883\\\\\n",
       "\tQueries & -0.6411093 &  0.0158443 &  1.0000000 &  0.8328381 &  0.7536732\\\\\n",
       "\tCPI\\_energy & -0.8007188 &  0.1760198 &  0.8328381 &  1.0000000 &  0.9132259\\\\\n",
       "\tCPI\\_all & -0.9562123 &  0.2667883 &  0.7536732 &  0.9132259 &  1.0000000\\\\\n",
       "\\end{tabular}\n"
      ],
      "text/markdown": [
       "\n",
       "A matrix: 5 × 5 of type dbl\n",
       "\n",
       "| <!--/--> | Unemployment | Month | Queries | CPI_energy | CPI_all |\n",
       "|---|---|---|---|---|---|\n",
       "| Unemployment |  1.0000000 | -0.2036029 | -0.6411093 | -0.8007188 | -0.9562123 |\n",
       "| Month | -0.2036029 |  1.0000000 |  0.0158443 |  0.1760198 |  0.2667883 |\n",
       "| Queries | -0.6411093 |  0.0158443 |  1.0000000 |  0.8328381 |  0.7536732 |\n",
       "| CPI_energy | -0.8007188 |  0.1760198 |  0.8328381 |  1.0000000 |  0.9132259 |\n",
       "| CPI_all | -0.9562123 |  0.2667883 |  0.7536732 |  0.9132259 |  1.0000000 |\n",
       "\n"
      ],
      "text/plain": [
       "             Unemployment Month      Queries    CPI_energy CPI_all   \n",
       "Unemployment  1.0000000   -0.2036029 -0.6411093 -0.8007188 -0.9562123\n",
       "Month        -0.2036029    1.0000000  0.0158443  0.1760198  0.2667883\n",
       "Queries      -0.6411093    0.0158443  1.0000000  0.8328381  0.7536732\n",
       "CPI_energy   -0.8007188    0.1760198  0.8328381  1.0000000  0.9132259\n",
       "CPI_all      -0.9562123    0.2667883  0.7536732  0.9132259  1.0000000"
      ]
     },
     "metadata": {},
     "output_type": "display_data"
    }
   ],
   "source": [
    "cor(elantraTrain[c(\"Unemployment\",\"Month\",\"Queries\",\"CPI_energy\",\"CPI_all\")])"
   ]
  },
  {
   "cell_type": "markdown",
   "metadata": {},
   "source": [
    "Answer: CPI_energy, Queries, CPI_all."
   ]
  },
  {
   "cell_type": "markdown",
   "metadata": {},
   "source": [
    "### Problem 5.2 - Correlations\n",
    "\n",
    "Which of the following variables is Queries highly correlated with? Again, compute the correlations on the training set. Select all that apply. (Include only variables where the absolute value of the correlation exceeds 0.6. For the purpose of this question, treat Month as a numeric variable, not a factor variable.)"
   ]
  },
  {
   "cell_type": "markdown",
   "metadata": {},
   "source": [
    "Answer: Unemployment, CPI_energy, CPI_all."
   ]
  },
  {
   "cell_type": "markdown",
   "metadata": {},
   "source": [
    "### Problem 6.1 - A Reduced Model\n",
    "\n",
    "Let us now simplify our model (the model using the factor version of the Month variable). We will do this by iteratively removing variables, one at a time. Remove the variable with the highest p-value (i.e., the least statistically significant variable) from the model. Repeat this until there are no variables that are insignificant or variables for which all of the factor levels are insignificant. Use a threshold of 0.10 to determine whether a variable is significant.\n",
    "\n",
    "Which variables, and in what order, are removed by this process?"
   ]
  },
  {
   "cell_type": "code",
   "execution_count": 18,
   "metadata": {},
   "outputs": [
    {
     "data": {
      "text/plain": [
       "\n",
       "Call:\n",
       "lm(formula = ElantraSales ~ MonthFactor + Queries + Unemployment + \n",
       "    CPI_energy + CPI_all, data = elantraTrain)\n",
       "\n",
       "Residuals:\n",
       "    Min      1Q  Median      3Q     Max \n",
       "-3865.1 -1211.7   -77.1  1207.5  3562.2 \n",
       "\n",
       "Coefficients:\n",
       "                Estimate Std. Error t value Pr(>|t|)    \n",
       "(Intercept)   312509.280 144061.867   2.169 0.042288 *  \n",
       "MonthFactor2    2254.998   1943.249   1.160 0.259540    \n",
       "MonthFactor3    6696.557   1991.635   3.362 0.003099 ** \n",
       "MonthFactor4    7556.607   2038.022   3.708 0.001392 ** \n",
       "MonthFactor5    7420.249   1950.139   3.805 0.001110 ** \n",
       "MonthFactor6    9215.833   1995.230   4.619 0.000166 ***\n",
       "MonthFactor7    9929.464   2238.800   4.435 0.000254 ***\n",
       "MonthFactor8    7939.447   2064.629   3.845 0.001010 ** \n",
       "MonthFactor9    5013.287   2010.745   2.493 0.021542 *  \n",
       "MonthFactor10   2500.184   2084.057   1.200 0.244286    \n",
       "MonthFactor11   3238.932   2397.231   1.351 0.191747    \n",
       "MonthFactor12   5293.911   2228.310   2.376 0.027621 *  \n",
       "Queries           -4.764     12.938  -0.368 0.716598    \n",
       "Unemployment   -7739.381   2968.747  -2.607 0.016871 *  \n",
       "CPI_energy       288.631     97.974   2.946 0.007988 ** \n",
       "CPI_all        -1343.307    592.919  -2.266 0.034732 *  \n",
       "---\n",
       "Signif. codes:  0 '***' 0.001 '**' 0.01 '*' 0.05 '.' 0.1 ' ' 1\n",
       "\n",
       "Residual standard error: 2306 on 20 degrees of freedom\n",
       "Multiple R-squared:  0.8193,\tAdjusted R-squared:  0.6837 \n",
       "F-statistic: 6.044 on 15 and 20 DF,  p-value: 0.0001469\n"
      ]
     },
     "metadata": {},
     "output_type": "display_data"
    }
   ],
   "source": [
    "lmSaleMon3<-lm(ElantraSales ~ MonthFactor + Queries + Unemployment + CPI_energy + CPI_all, data=elantraTrain)\n",
    "summary(lmSaleMon3)"
   ]
  },
  {
   "cell_type": "code",
   "execution_count": 19,
   "metadata": {},
   "outputs": [
    {
     "data": {
      "text/plain": [
       "\n",
       "Call:\n",
       "lm(formula = ElantraSales ~ MonthFactor + Unemployment + CPI_energy + \n",
       "    CPI_all, data = elantraTrain)\n",
       "\n",
       "Residuals:\n",
       "    Min      1Q  Median      3Q     Max \n",
       "-3866.0 -1283.3  -107.2  1098.3  3650.1 \n",
       "\n",
       "Coefficients:\n",
       "               Estimate Std. Error t value Pr(>|t|)    \n",
       "(Intercept)   325709.15  136627.85   2.384 0.026644 *  \n",
       "MonthFactor2    2410.91    1857.10   1.298 0.208292    \n",
       "MonthFactor3    6880.09    1888.15   3.644 0.001517 ** \n",
       "MonthFactor4    7697.36    1960.21   3.927 0.000774 ***\n",
       "MonthFactor5    7444.64    1908.48   3.901 0.000823 ***\n",
       "MonthFactor6    9223.13    1953.64   4.721 0.000116 ***\n",
       "MonthFactor7    9602.72    2012.66   4.771 0.000103 ***\n",
       "MonthFactor8    7919.50    2020.99   3.919 0.000789 ***\n",
       "MonthFactor9    5074.29    1962.23   2.586 0.017237 *  \n",
       "MonthFactor10   2724.24    1951.78   1.396 0.177366    \n",
       "MonthFactor11   3665.08    2055.66   1.783 0.089062 .  \n",
       "MonthFactor12   5643.19    1974.36   2.858 0.009413 ** \n",
       "Unemployment   -7971.34    2840.79  -2.806 0.010586 *  \n",
       "CPI_energy       268.03      78.75   3.403 0.002676 ** \n",
       "CPI_all        -1377.58     573.39  -2.403 0.025610 *  \n",
       "---\n",
       "Signif. codes:  0 '***' 0.001 '**' 0.01 '*' 0.05 '.' 0.1 ' ' 1\n",
       "\n",
       "Residual standard error: 2258 on 21 degrees of freedom\n",
       "Multiple R-squared:  0.818,\tAdjusted R-squared:  0.6967 \n",
       "F-statistic: 6.744 on 14 and 21 DF,  p-value: 5.73e-05\n"
      ]
     },
     "metadata": {},
     "output_type": "display_data"
    }
   ],
   "source": [
    "lmSaleMon4<-lm(ElantraSales ~ MonthFactor + Unemployment + CPI_energy + CPI_all, data=elantraTrain)\n",
    "summary(lmSaleMon4)"
   ]
  },
  {
   "cell_type": "markdown",
   "metadata": {},
   "source": [
    "Answer: Queries."
   ]
  },
  {
   "cell_type": "markdown",
   "metadata": {},
   "source": [
    "### Problem 6.2 - Test Set Predictions\n",
    "\n",
    "Using the model from Problem 6.1, make predictions on the test set. What is the sum of squared errors of the model on the test set?"
   ]
  },
  {
   "cell_type": "code",
   "execution_count": 20,
   "metadata": {},
   "outputs": [
    {
     "data": {
      "text/html": [
       "190757747.444357"
      ],
      "text/latex": [
       "190757747.444357"
      ],
      "text/markdown": [
       "190757747.444357"
      ],
      "text/plain": [
       "[1] 190757747"
      ]
     },
     "metadata": {},
     "output_type": "display_data"
    }
   ],
   "source": [
    "predictions = predict(lmSaleMon4, newdata = elantraTest)\n",
    "SSE = sum((predictions - elantraTest$ElantraSales)^2)\n",
    "SSE"
   ]
  },
  {
   "cell_type": "markdown",
   "metadata": {},
   "source": [
    "### Problem 6.3 - Comparing to a Baseline\n",
    "\n",
    "What would the baseline method predict for all observations in the test set? Remember that the baseline method we use predicts the average outcome of all observations in the training set."
   ]
  },
  {
   "cell_type": "code",
   "execution_count": 21,
   "metadata": {},
   "outputs": [
    {
     "data": {
      "text/html": [
       "14462.25"
      ],
      "text/latex": [
       "14462.25"
      ],
      "text/markdown": [
       "14462.25"
      ],
      "text/plain": [
       "[1] 14462.25"
      ]
     },
     "metadata": {},
     "output_type": "display_data"
    }
   ],
   "source": [
    "baseline = mean(elantraTrain$ElantraSales)\n",
    "baseline"
   ]
  },
  {
   "cell_type": "markdown",
   "metadata": {},
   "source": [
    "### Problem 6.4 - Test Set R-Squared\n",
    "\n",
    "What is the test set R-Squared?"
   ]
  },
  {
   "cell_type": "code",
   "execution_count": 22,
   "metadata": {},
   "outputs": [
    {
     "data": {
      "text/html": [
       "0.728023227629066"
      ],
      "text/latex": [
       "0.728023227629066"
      ],
      "text/markdown": [
       "0.728023227629066"
      ],
      "text/plain": [
       "[1] 0.7280232"
      ]
     },
     "metadata": {},
     "output_type": "display_data"
    }
   ],
   "source": [
    "SST = sum((baseline - elantraTest$ElantraSales)^2)\n",
    "R2 = 1 - SSE/SST\n",
    "R2"
   ]
  },
  {
   "cell_type": "markdown",
   "metadata": {},
   "source": [
    "### Problem 6.5 - Absolute Errors\n",
    "\n",
    "What is the largest absolute error that we make in our test set predictions?"
   ]
  },
  {
   "cell_type": "code",
   "execution_count": 23,
   "metadata": {},
   "outputs": [
    {
     "data": {
      "text/html": [
       "7491.48769271158"
      ],
      "text/latex": [
       "7491.48769271158"
      ],
      "text/markdown": [
       "7491.48769271158"
      ],
      "text/plain": [
       "[1] 7491.488"
      ]
     },
     "metadata": {},
     "output_type": "display_data"
    }
   ],
   "source": [
    "abs_errors = abs(predictions - elantraTest$ElantraSales)\n",
    "max(abs_errors)"
   ]
  },
  {
   "cell_type": "markdown",
   "metadata": {},
   "source": [
    "### Problem 6.6 - Month of Largest Error\n",
    "\n",
    "In which period (Month,Year pair) do we make the largest absolute error in our prediction?"
   ]
  },
  {
   "cell_type": "code",
   "execution_count": 24,
   "metadata": {},
   "outputs": [
    {
     "data": {
      "text/html": [
       "<strong>14:</strong> 5"
      ],
      "text/latex": [
       "\\textbf{14:} 5"
      ],
      "text/markdown": [
       "**14:** 5"
      ],
      "text/plain": [
       "14 \n",
       " 5 "
      ]
     },
     "metadata": {},
     "output_type": "display_data"
    }
   ],
   "source": [
    "which.max(abs(abs_errors))"
   ]
  },
  {
   "cell_type": "code",
   "execution_count": 25,
   "metadata": {},
   "outputs": [
    {
     "data": {
      "text/html": [
       "<table>\n",
       "<caption>A data.frame: 1 × 8</caption>\n",
       "<thead>\n",
       "\t<tr><th></th><th scope=col>Month</th><th scope=col>Year</th><th scope=col>ElantraSales</th><th scope=col>Unemployment</th><th scope=col>Queries</th><th scope=col>CPI_energy</th><th scope=col>CPI_all</th><th scope=col>MonthFactor</th></tr>\n",
       "\t<tr><th></th><th scope=col>&lt;int&gt;</th><th scope=col>&lt;int&gt;</th><th scope=col>&lt;int&gt;</th><th scope=col>&lt;dbl&gt;</th><th scope=col>&lt;int&gt;</th><th scope=col>&lt;dbl&gt;</th><th scope=col>&lt;dbl&gt;</th><th scope=col>&lt;fct&gt;</th></tr>\n",
       "</thead>\n",
       "<tbody>\n",
       "\t<tr><th scope=row>14</th><td>3</td><td>2013</td><td>26153</td><td>7.5</td><td>313</td><td>244.598</td><td>232.075</td><td>3</td></tr>\n",
       "</tbody>\n",
       "</table>\n"
      ],
      "text/latex": [
       "A data.frame: 1 × 8\n",
       "\\begin{tabular}{r|llllllll}\n",
       "  & Month & Year & ElantraSales & Unemployment & Queries & CPI\\_energy & CPI\\_all & MonthFactor\\\\\n",
       "  & <int> & <int> & <int> & <dbl> & <int> & <dbl> & <dbl> & <fct>\\\\\n",
       "\\hline\n",
       "\t14 & 3 & 2013 & 26153 & 7.5 & 313 & 244.598 & 232.075 & 3\\\\\n",
       "\\end{tabular}\n"
      ],
      "text/markdown": [
       "\n",
       "A data.frame: 1 × 8\n",
       "\n",
       "| <!--/--> | Month &lt;int&gt; | Year &lt;int&gt; | ElantraSales &lt;int&gt; | Unemployment &lt;dbl&gt; | Queries &lt;int&gt; | CPI_energy &lt;dbl&gt; | CPI_all &lt;dbl&gt; | MonthFactor &lt;fct&gt; |\n",
       "|---|---|---|---|---|---|---|---|---|\n",
       "| 14 | 3 | 2013 | 26153 | 7.5 | 313 | 244.598 | 232.075 | 3 |\n",
       "\n"
      ],
      "text/plain": [
       "   Month Year ElantraSales Unemployment Queries CPI_energy CPI_all MonthFactor\n",
       "14 3     2013 26153        7.5          313     244.598    232.075 3          "
      ]
     },
     "metadata": {},
     "output_type": "display_data"
    }
   ],
   "source": [
    "elantraTest[which.max(abs(abs_errors)),]"
   ]
  },
  {
   "cell_type": "markdown",
   "metadata": {},
   "source": [
    "Answer: March, 2013."
   ]
  }
 ],
 "metadata": {
  "kernelspec": {
   "display_name": "R",
   "language": "R",
   "name": "ir"
  },
  "language_info": {
   "codemirror_mode": "r",
   "file_extension": ".r",
   "mimetype": "text/x-r-source",
   "name": "R",
   "pygments_lexer": "r",
   "version": "3.6.3"
  }
 },
 "nbformat": 4,
 "nbformat_minor": 4
}
