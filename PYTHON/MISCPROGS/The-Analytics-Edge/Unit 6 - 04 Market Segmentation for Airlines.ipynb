{
 "cells": [
  {
   "cell_type": "markdown",
   "metadata": {},
   "source": [
    "# Market Segmentation for Airlines"
   ]
  },
  {
   "cell_type": "markdown",
   "metadata": {},
   "source": [
    "<img src=\"images/airlines.jpg\"/>"
   ]
  },
  {
   "cell_type": "markdown",
   "metadata": {},
   "source": [
    "Background Information on the Dataset\n",
    "Market segmentation is a strategy that divides a broad target market of customers into smaller, more similar groups, and then designs a marketing strategy specifically for each group. Clustering is a common technique for market segmentation since it automatically finds similar groups given a data set.\n",
    "\n",
    "In this problem, we’ll see how clustering can be used to find similar groups of customers who belong to an airline’s frequent flyer program. The airline is trying to learn more about its customers so that it can target different customer segments with different types of mileage offers.\n",
    "\n",
    "The file AirlinesCluster.csv contains information on 3,999 members of the frequent flyer program. This data comes from the textbook “Data Mining for Business Intelligence,” by Galit Shmueli, Nitin R. Patel, and Peter C. Bruce. For more information, see the website for the book."
   ]
  },
  {
   "cell_type": "markdown",
   "metadata": {},
   "source": [
    "There are seven different variables in the dataset, described below:\n",
    "\n",
    "    Balance = number of miles eligible for award travel\n",
    "    \n",
    "    QualMiles = number of miles qualifying for TopFlight status\n",
    "    \n",
    "    BonusMiles = number of miles earned from non-flight bonus transactions in the past 12 months\n",
    "    \n",
    "    BonusTrans = number of non-flight bonus transactions in the past 12 months\n",
    "    \n",
    "    FlightMiles = number of flight miles in the past 12 months\n",
    "    \n",
    "    FlightTrans = number of flight transactions in the past 12 months\n",
    "    \n",
    "    DaysSinceEnroll = number of days since enrolled in the frequent flyer program"
   ]
  },
  {
   "cell_type": "markdown",
   "metadata": {},
   "source": [
    "### Problem 1.1 - Normalizing the Data\n",
    "Read the dataset AirlinesCluster.csv into R and call it \"airlines\".\n",
    "\n",
    "**Looking at the summary of airlines, which TWO variables have (on average) the smallest values?**"
   ]
  },
  {
   "cell_type": "code",
   "execution_count": 1,
   "metadata": {},
   "outputs": [
    {
     "data": {
      "text/html": [
       "<table>\n",
       "<caption>A data.frame: 6 × 7</caption>\n",
       "<thead>\n",
       "\t<tr><th></th><th scope=col>Balance</th><th scope=col>QualMiles</th><th scope=col>BonusMiles</th><th scope=col>BonusTrans</th><th scope=col>FlightMiles</th><th scope=col>FlightTrans</th><th scope=col>DaysSinceEnroll</th></tr>\n",
       "\t<tr><th></th><th scope=col>&lt;int&gt;</th><th scope=col>&lt;int&gt;</th><th scope=col>&lt;int&gt;</th><th scope=col>&lt;int&gt;</th><th scope=col>&lt;int&gt;</th><th scope=col>&lt;int&gt;</th><th scope=col>&lt;int&gt;</th></tr>\n",
       "</thead>\n",
       "<tbody>\n",
       "\t<tr><th scope=row>1</th><td>28143</td><td>0</td><td>  174</td><td> 1</td><td>   0</td><td>0</td><td>7000</td></tr>\n",
       "\t<tr><th scope=row>2</th><td>19244</td><td>0</td><td>  215</td><td> 2</td><td>   0</td><td>0</td><td>6968</td></tr>\n",
       "\t<tr><th scope=row>3</th><td>41354</td><td>0</td><td> 4123</td><td> 4</td><td>   0</td><td>0</td><td>7034</td></tr>\n",
       "\t<tr><th scope=row>4</th><td>14776</td><td>0</td><td>  500</td><td> 1</td><td>   0</td><td>0</td><td>6952</td></tr>\n",
       "\t<tr><th scope=row>5</th><td>97752</td><td>0</td><td>43300</td><td>26</td><td>2077</td><td>4</td><td>6935</td></tr>\n",
       "\t<tr><th scope=row>6</th><td>16420</td><td>0</td><td>    0</td><td> 0</td><td>   0</td><td>0</td><td>6942</td></tr>\n",
       "</tbody>\n",
       "</table>\n"
      ],
      "text/latex": [
       "A data.frame: 6 × 7\n",
       "\\begin{tabular}{r|lllllll}\n",
       "  & Balance & QualMiles & BonusMiles & BonusTrans & FlightMiles & FlightTrans & DaysSinceEnroll\\\\\n",
       "  & <int> & <int> & <int> & <int> & <int> & <int> & <int>\\\\\n",
       "\\hline\n",
       "\t1 & 28143 & 0 &   174 &  1 &    0 & 0 & 7000\\\\\n",
       "\t2 & 19244 & 0 &   215 &  2 &    0 & 0 & 6968\\\\\n",
       "\t3 & 41354 & 0 &  4123 &  4 &    0 & 0 & 7034\\\\\n",
       "\t4 & 14776 & 0 &   500 &  1 &    0 & 0 & 6952\\\\\n",
       "\t5 & 97752 & 0 & 43300 & 26 & 2077 & 4 & 6935\\\\\n",
       "\t6 & 16420 & 0 &     0 &  0 &    0 & 0 & 6942\\\\\n",
       "\\end{tabular}\n"
      ],
      "text/markdown": [
       "\n",
       "A data.frame: 6 × 7\n",
       "\n",
       "| <!--/--> | Balance &lt;int&gt; | QualMiles &lt;int&gt; | BonusMiles &lt;int&gt; | BonusTrans &lt;int&gt; | FlightMiles &lt;int&gt; | FlightTrans &lt;int&gt; | DaysSinceEnroll &lt;int&gt; |\n",
       "|---|---|---|---|---|---|---|---|\n",
       "| 1 | 28143 | 0 |   174 |  1 |    0 | 0 | 7000 |\n",
       "| 2 | 19244 | 0 |   215 |  2 |    0 | 0 | 6968 |\n",
       "| 3 | 41354 | 0 |  4123 |  4 |    0 | 0 | 7034 |\n",
       "| 4 | 14776 | 0 |   500 |  1 |    0 | 0 | 6952 |\n",
       "| 5 | 97752 | 0 | 43300 | 26 | 2077 | 4 | 6935 |\n",
       "| 6 | 16420 | 0 |     0 |  0 |    0 | 0 | 6942 |\n",
       "\n"
      ],
      "text/plain": [
       "  Balance QualMiles BonusMiles BonusTrans FlightMiles FlightTrans\n",
       "1 28143   0           174       1            0        0          \n",
       "2 19244   0           215       2            0        0          \n",
       "3 41354   0          4123       4            0        0          \n",
       "4 14776   0           500       1            0        0          \n",
       "5 97752   0         43300      26         2077        4          \n",
       "6 16420   0             0       0            0        0          \n",
       "  DaysSinceEnroll\n",
       "1 7000           \n",
       "2 6968           \n",
       "3 7034           \n",
       "4 6952           \n",
       "5 6935           \n",
       "6 6942           "
      ]
     },
     "metadata": {},
     "output_type": "display_data"
    }
   ],
   "source": [
    "# Load the dataset\n",
    "\n",
    "airlines = read.csv(\"data/AirlinesCluster.csv\")\n",
    "\n",
    "head(airlines)"
   ]
  },
  {
   "cell_type": "code",
   "execution_count": 2,
   "metadata": {},
   "outputs": [
    {
     "name": "stdout",
     "output_type": "stream",
     "text": [
      "'data.frame':\t3999 obs. of  7 variables:\n",
      " $ Balance        : int  28143 19244 41354 14776 97752 16420 84914 20856 443003 104860 ...\n",
      " $ QualMiles      : int  0 0 0 0 0 0 0 0 0 0 ...\n",
      " $ BonusMiles     : int  174 215 4123 500 43300 0 27482 5250 1753 28426 ...\n",
      " $ BonusTrans     : int  1 2 4 1 26 0 25 4 43 28 ...\n",
      " $ FlightMiles    : int  0 0 0 0 2077 0 0 250 3850 1150 ...\n",
      " $ FlightTrans    : int  0 0 0 0 4 0 0 1 12 3 ...\n",
      " $ DaysSinceEnroll: int  7000 6968 7034 6952 6935 6942 6994 6938 6948 6931 ...\n"
     ]
    }
   ],
   "source": [
    "str(airlines)"
   ]
  },
  {
   "cell_type": "code",
   "execution_count": 3,
   "metadata": {},
   "outputs": [
    {
     "data": {
      "text/plain": [
       "    Balance          QualMiles         BonusMiles       BonusTrans  \n",
       " Min.   :      0   Min.   :    0.0   Min.   :     0   Min.   : 0.0  \n",
       " 1st Qu.:  18528   1st Qu.:    0.0   1st Qu.:  1250   1st Qu.: 3.0  \n",
       " Median :  43097   Median :    0.0   Median :  7171   Median :12.0  \n",
       " Mean   :  73601   Mean   :  144.1   Mean   : 17145   Mean   :11.6  \n",
       " 3rd Qu.:  92404   3rd Qu.:    0.0   3rd Qu.: 23801   3rd Qu.:17.0  \n",
       " Max.   :1704838   Max.   :11148.0   Max.   :263685   Max.   :86.0  \n",
       "  FlightMiles       FlightTrans     DaysSinceEnroll\n",
       " Min.   :    0.0   Min.   : 0.000   Min.   :   2   \n",
       " 1st Qu.:    0.0   1st Qu.: 0.000   1st Qu.:2330   \n",
       " Median :    0.0   Median : 0.000   Median :4096   \n",
       " Mean   :  460.1   Mean   : 1.374   Mean   :4119   \n",
       " 3rd Qu.:  311.0   3rd Qu.: 1.000   3rd Qu.:5790   \n",
       " Max.   :30817.0   Max.   :53.000   Max.   :8296   "
      ]
     },
     "metadata": {},
     "output_type": "display_data"
    }
   ],
   "source": [
    "summary(airlines)"
   ]
  },
  {
   "cell_type": "code",
   "execution_count": 4,
   "metadata": {},
   "outputs": [
    {
     "data": {
      "text/html": [
       "<style>\n",
       ".list-inline {list-style: none; margin:0; padding: 0}\n",
       ".list-inline>li {display: inline-block}\n",
       ".list-inline>li:not(:last-child)::after {content: \"\\00b7\"; padding: 0 .5ex}\n",
       "</style>\n",
       "<ol class=list-inline><li>'73601.33'</li><li>'144.11'</li><li>'17144.85'</li><li>'11.6'</li><li>'460.06'</li><li>'1.37'</li><li>'4118.56'</li></ol>\n"
      ],
      "text/latex": [
       "\\begin{enumerate*}\n",
       "\\item '73601.33'\n",
       "\\item '144.11'\n",
       "\\item '17144.85'\n",
       "\\item '11.6'\n",
       "\\item '460.06'\n",
       "\\item '1.37'\n",
       "\\item '4118.56'\n",
       "\\end{enumerate*}\n"
      ],
      "text/markdown": [
       "1. '73601.33'\n",
       "2. '144.11'\n",
       "3. '17144.85'\n",
       "4. '11.6'\n",
       "5. '460.06'\n",
       "6. '1.37'\n",
       "7. '4118.56'\n",
       "\n",
       "\n"
      ],
      "text/plain": [
       "[1] \"73601.33\" \"144.11\"   \"17144.85\" \"11.6\"     \"460.06\"   \"1.37\"     \"4118.56\" "
      ]
     },
     "metadata": {},
     "output_type": "display_data"
    }
   ],
   "source": [
    "a = round(mean(airlines$Balance),2)\n",
    "b = round(mean(airlines$QualMiles),2)\n",
    "c = round(mean(airlines$BonusMiles),2)\n",
    "d = round(mean(airlines$BonusTrans),2)\n",
    "e = round(mean(airlines$FlightMiles),2)\n",
    "f = round(mean(airlines$FlightTrans),2)\n",
    "g = round(mean(airlines$DaysSinceEnroll),2)\n",
    "\n",
    "var = c(a,b,c,d,e,f,g)\n",
    "\n",
    "paste(var)"
   ]
  },
  {
   "cell_type": "markdown",
   "metadata": {},
   "source": [
    "Answer: \"BonusTrans\" and \"FlightTrans\"."
   ]
  },
  {
   "cell_type": "markdown",
   "metadata": {},
   "source": [
    "**Which TWO variables have (on average) the largest values?**"
   ]
  },
  {
   "cell_type": "markdown",
   "metadata": {},
   "source": [
    "Answer: \"Balance\" and \"BonusMiles\"."
   ]
  },
  {
   "cell_type": "markdown",
   "metadata": {},
   "source": [
    "### Problem 1.2 - Normalizing the Data\n",
    "In this problem, we will normalize our data before we run the clustering algorithms. **Why is it important to normalize the data before clustering?**"
   ]
  },
  {
   "cell_type": "markdown",
   "metadata": {},
   "source": [
    "Answer: If we don’t normalize the data, the clustering will be dominated by the variables that are on a larger scale."
   ]
  },
  {
   "cell_type": "markdown",
   "metadata": {},
   "source": [
    "### Problem 1.3 - Normalizing the Data\n",
    "Let's go ahead and normalize our data. You can normalize the variables in a data frame by using the preProcess function in the \"caret\" package. You should already have this package installed from Week 4, but if not, go ahead and install it with install.packages(\"caret\"). Then load the package with library(caret).\n",
    "\n",
    "Now, create a normalized data frame called \"airlinesNorm\" by running the following commands:\n",
    "\n",
    "    preproc = preProcess(airlines)\n",
    "\n",
    "    airlinesNorm = predict(preproc, airlines)\n",
    "\n",
    "The first command pre-processes the data, and the second command performs the normalization. If you look at the summary of airlinesNorm, you should see that all of the variables now have mean zero. You can also see that each of the variables has standard deviation 1 by using the sd() function.\n",
    "\n",
    "**In the normalized data, which variable has the largest maximum value?**"
   ]
  },
  {
   "cell_type": "code",
   "execution_count": 5,
   "metadata": {},
   "outputs": [
    {
     "name": "stderr",
     "output_type": "stream",
     "text": [
      "Loading required package: lattice\n",
      "\n",
      "Loading required package: ggplot2\n",
      "\n"
     ]
    }
   ],
   "source": [
    "library(caret)"
   ]
  },
  {
   "cell_type": "code",
   "execution_count": 6,
   "metadata": {},
   "outputs": [],
   "source": [
    "# Preprocess the data\n",
    "\n",
    "preproc = preProcess(airlines)\n",
    "\n",
    "airlinesNorm = predict(preproc, airlines)"
   ]
  },
  {
   "cell_type": "markdown",
   "metadata": {},
   "source": [
    "**The caret package** (short for Classification And REgression Training) is a set of functions that attempt to streamline the process for creating predictive models.\n",
    "\n",
    "Pre-processing transformation (centering, scaling etc.) can be estimated from the training data and applied to any data set with the same variables.\n",
    "\n",
    "Example, **Train** function:"
   ]
  },
  {
   "cell_type": "markdown",
   "metadata": {},
   "source": [
    "<img src=\"images/carettrain.png\"/>"
   ]
  },
  {
   "cell_type": "code",
   "execution_count": 7,
   "metadata": {},
   "outputs": [
    {
     "data": {
      "text/plain": [
       "    Balance          QualMiles         BonusMiles        BonusTrans      \n",
       " Min.   :-0.7303   Min.   :-0.1863   Min.   :-0.7099   Min.   :-1.20805  \n",
       " 1st Qu.:-0.5465   1st Qu.:-0.1863   1st Qu.:-0.6581   1st Qu.:-0.89568  \n",
       " Median :-0.3027   Median :-0.1863   Median :-0.4130   Median : 0.04145  \n",
       " Mean   : 0.0000   Mean   : 0.0000   Mean   : 0.0000   Mean   : 0.00000  \n",
       " 3rd Qu.: 0.1866   3rd Qu.:-0.1863   3rd Qu.: 0.2756   3rd Qu.: 0.56208  \n",
       " Max.   :16.1868   Max.   :14.2231   Max.   :10.2083   Max.   : 7.74673  \n",
       "  FlightMiles       FlightTrans       DaysSinceEnroll   \n",
       " Min.   :-0.3286   Min.   :-0.36212   Min.   :-1.99336  \n",
       " 1st Qu.:-0.3286   1st Qu.:-0.36212   1st Qu.:-0.86607  \n",
       " Median :-0.3286   Median :-0.36212   Median :-0.01092  \n",
       " Mean   : 0.0000   Mean   : 0.00000   Mean   : 0.00000  \n",
       " 3rd Qu.:-0.1065   3rd Qu.:-0.09849   3rd Qu.: 0.80960  \n",
       " Max.   :21.6803   Max.   :13.61035   Max.   : 2.02284  "
      ]
     },
     "metadata": {},
     "output_type": "display_data"
    }
   ],
   "source": [
    "summary(airlinesNorm)"
   ]
  },
  {
   "cell_type": "markdown",
   "metadata": {},
   "source": [
    "Answer: \"FlightMiles\" now has the largest maximum value."
   ]
  },
  {
   "cell_type": "markdown",
   "metadata": {},
   "source": [
    "**In the normalized data, which variable has the smallest minimum value?**"
   ]
  },
  {
   "cell_type": "markdown",
   "metadata": {},
   "source": [
    "Answer: \"DaysSinceEnroll\" now has the smallest minimum value."
   ]
  },
  {
   "cell_type": "markdown",
   "metadata": {},
   "source": [
    "### Problem 2.1 - Hierarchical Clustering\n",
    "Compute the distances between data points (using euclidean distance) and then run the Hierarchical clustering algorithm (using method=\"ward.D\") on the normalized data. It may take a few minutes for the commands to finish since the dataset has a large number of observations for hierarchical clustering.\n",
    "\n",
    "Then, plot the dendrogram of the hierarchical clustering process. Suppose the airline is looking for somewhere between 2 and 10 clusters. **According to the dendrogram, which of the following is NOT a good choice for the number of clusters?**"
   ]
  },
  {
   "cell_type": "code",
   "execution_count": 8,
   "metadata": {},
   "outputs": [
    {
     "data": {
      "image/png": "[encoded data removed]",
      "text/plain": [
       "Plot with title \"Cluster Dendrogram\""
      ]
     },
     "metadata": {
      "image/png": {
       "height": 420,
       "width": 420
      },
      "text/plain": {
       "height": 420,
       "width": 420
      }
     },
     "output_type": "display_data"
    }
   ],
   "source": [
    "# Hierarchical clustering algorithm\n",
    "\n",
    "airlinesNormDist = dist(airlinesNorm, method=\"euclidean\")\n",
    "\n",
    "airlinesNormHierClust = hclust(airlinesNormDist, method=\"ward.D\")\n",
    "\n",
    "# Plot Dendrogram\n",
    "\n",
    "plot(airlinesNormHierClust)"
   ]
  },
  {
   "cell_type": "markdown",
   "metadata": {},
   "source": [
    "Answer: If you run a horizontal line down the dendrogram, you can see that there is a long time that the line crosses 2 clusters, 3 clusters, or 7 clusters. However, it it hard to see the horizontal line cross 6 clusters. This means that 6 clusters is probably not a good choice."
   ]
  },
  {
   "cell_type": "markdown",
   "metadata": {},
   "source": [
    "### Problem 2.2 - Hierarchical Clustering\n",
    "Suppose that after looking at the dendrogram and discussing with the marketing department, the airline decides to proceed with 5 clusters. Divide the data points into 5 clusters by using the cutree function. **How many data points are in Cluster 1?**"
   ]
  },
  {
   "cell_type": "code",
   "execution_count": 9,
   "metadata": {},
   "outputs": [
    {
     "data": {
      "image/png": "[encoded data removed]",
      "text/plain": [
       "Plot with title \"Cluster Dendrogram\""
      ]
     },
     "metadata": {
      "image/png": {
       "height": 420,
       "width": 420
      },
      "text/plain": {
       "height": 420,
       "width": 420
      }
     },
     "output_type": "display_data"
    }
   ],
   "source": [
    "# Plot a dendrogram and divide it into 5 clusters\n",
    "\n",
    "plot(airlinesNormHierClust)\n",
    "\n",
    "rect.hclust(airlinesNormHierClust, k = 5, border = \"red\")"
   ]
  },
  {
   "cell_type": "code",
   "execution_count": 10,
   "metadata": {},
   "outputs": [],
   "source": [
    "hierGroups = cutree(airlinesNormHierClust, k = 5)\n",
    "\n",
    "# Subset the clusters into 5 different groups\n",
    "\n",
    "HierCluster1 = subset(airlinesNorm, hierGroups == 1)\n",
    "HierCluster2 = subset(airlinesNorm, hierGroups == 2)\n",
    "HierCluster3 = subset(airlinesNorm, hierGroups == 3)\n",
    "HierCluster4 = subset(airlinesNorm, hierGroups == 4)\n",
    "HierCluster5 = subset(airlinesNorm, hierGroups == 5)"
   ]
  },
  {
   "cell_type": "code",
   "execution_count": 11,
   "metadata": {},
   "outputs": [
    {
     "data": {
      "text/html": [
       "776"
      ],
      "text/latex": [
       "776"
      ],
      "text/markdown": [
       "776"
      ],
      "text/plain": [
       "[1] 776"
      ]
     },
     "metadata": {},
     "output_type": "display_data"
    }
   ],
   "source": [
    "# How many data points are in Cluster 1\n",
    "\n",
    "nrow(HierCluster1)"
   ]
  },
  {
   "cell_type": "markdown",
   "metadata": {},
   "source": [
    "### Problem 2.3 - Hierarchical Clustering\n",
    "Now, use tapply to compare the average values in each of the variables for the 5 clusters (the centroids of the clusters). You may want to compute the average values of the unnormalized data so that it is easier to interpret. You can do this for the variable \"Balance\" with the following command:\n",
    "\n",
    "    tapply(airlines$Balance, clusterGroups, mean)\n",
    "\n",
    "**Compared to the other clusters, Cluster 1 has the largest average values in which variables (if any)?**"
   ]
  },
  {
   "cell_type": "code",
   "execution_count": 12,
   "metadata": {},
   "outputs": [
    {
     "data": {
      "text/html": [
       "<style>\n",
       ".dl-inline {width: auto; margin:0; padding: 0}\n",
       ".dl-inline>dt, .dl-inline>dd {float: none; width: auto; display: inline-block}\n",
       ".dl-inline>dt::after {content: \":\\0020\"; padding-right: .5ex}\n",
       ".dl-inline>dt:not(:first-of-type) {padding-left: .5ex}\n",
       "</style><dl class=dl-inline><dt>1</dt><dd>57866.9046391753</dd><dt>2</dt><dd>110669.265895954</dd><dt>3</dt><dd>198191.574898785</dd><dt>4</dt><dd>52335.91359447</dd><dt>5</dt><dd>36255.9098360656</dd></dl>\n"
      ],
      "text/latex": [
       "\\begin{description*}\n",
       "\\item[1] 57866.9046391753\n",
       "\\item[2] 110669.265895954\n",
       "\\item[3] 198191.574898785\n",
       "\\item[4] 52335.91359447\n",
       "\\item[5] 36255.9098360656\n",
       "\\end{description*}\n"
      ],
      "text/markdown": [
       "1\n",
       ":   57866.90463917532\n",
       ":   110669.2658959543\n",
       ":   198191.5748987854\n",
       ":   52335.913594475\n",
       ":   36255.9098360656\n",
       "\n"
      ],
      "text/plain": [
       "        1         2         3         4         5 \n",
       " 57866.90 110669.27 198191.57  52335.91  36255.91 "
      ]
     },
     "metadata": {},
     "output_type": "display_data"
    }
   ],
   "source": [
    "# Compares two different groups using a statistical measure\n",
    "\n",
    "tapply(airlines$Balance, hierGroups, mean)"
   ]
  },
  {
   "cell_type": "code",
   "execution_count": 13,
   "metadata": {},
   "outputs": [
    {
     "data": {
      "text/html": [
       "<style>\n",
       ".dl-inline {width: auto; margin:0; padding: 0}\n",
       ".dl-inline>dt, .dl-inline>dd {float: none; width: auto; display: inline-block}\n",
       ".dl-inline>dt::after {content: \":\\0020\"; padding-right: .5ex}\n",
       ".dl-inline>dt:not(:first-of-type) {padding-left: .5ex}\n",
       "</style><dl class=dl-inline><dt>1</dt><dd>0.644329896907217</dd><dt>2</dt><dd>1065.98265895954</dd><dt>3</dt><dd>30.3461538461538</dd><dt>4</dt><dd>4.84792626728111</dd><dt>5</dt><dd>2.51117734724292</dd></dl>\n"
      ],
      "text/latex": [
       "\\begin{description*}\n",
       "\\item[1] 0.644329896907217\n",
       "\\item[2] 1065.98265895954\n",
       "\\item[3] 30.3461538461538\n",
       "\\item[4] 4.84792626728111\n",
       "\\item[5] 2.51117734724292\n",
       "\\end{description*}\n"
      ],
      "text/markdown": [
       "1\n",
       ":   0.6443298969072172\n",
       ":   1065.982658959543\n",
       ":   30.34615384615384\n",
       ":   4.847926267281115\n",
       ":   2.51117734724292\n",
       "\n"
      ],
      "text/plain": [
       "           1            2            3            4            5 \n",
       "   0.6443299 1065.9826590   30.3461538    4.8479263    2.5111773 "
      ]
     },
     "metadata": {},
     "output_type": "display_data"
    }
   ],
   "source": [
    "# Compares two different groups using a statistical measure\n",
    "\n",
    "tapply(airlines$QualMiles, hierGroups, mean)"
   ]
  },
  {
   "cell_type": "code",
   "execution_count": 14,
   "metadata": {},
   "outputs": [
    {
     "data": {
      "text/html": [
       "<style>\n",
       ".dl-inline {width: auto; margin:0; padding: 0}\n",
       ".dl-inline>dt, .dl-inline>dd {float: none; width: auto; display: inline-block}\n",
       ".dl-inline>dt::after {content: \":\\0020\"; padding-right: .5ex}\n",
       ".dl-inline>dt:not(:first-of-type) {padding-left: .5ex}\n",
       "</style><dl class=dl-inline><dt>1</dt><dd>10360.1237113402</dd><dt>2</dt><dd>22881.7630057803</dd><dt>3</dt><dd>55795.8603238866</dd><dt>4</dt><dd>20788.7661290323</dd><dt>5</dt><dd>2264.78763040238</dd></dl>\n"
      ],
      "text/latex": [
       "\\begin{description*}\n",
       "\\item[1] 10360.1237113402\n",
       "\\item[2] 22881.7630057803\n",
       "\\item[3] 55795.8603238866\n",
       "\\item[4] 20788.7661290323\n",
       "\\item[5] 2264.78763040238\n",
       "\\end{description*}\n"
      ],
      "text/markdown": [
       "1\n",
       ":   10360.12371134022\n",
       ":   22881.76300578033\n",
       ":   55795.86032388664\n",
       ":   20788.76612903235\n",
       ":   2264.78763040238\n",
       "\n"
      ],
      "text/plain": [
       "        1         2         3         4         5 \n",
       "10360.124 22881.763 55795.860 20788.766  2264.788 "
      ]
     },
     "metadata": {},
     "output_type": "display_data"
    }
   ],
   "source": [
    "# Compares two different groups using a statistical measure\n",
    "\n",
    "tapply(airlines$BonusMiles, hierGroups, mean)"
   ]
  },
  {
   "cell_type": "code",
   "execution_count": 15,
   "metadata": {},
   "outputs": [
    {
     "data": {
      "text/html": [
       "<style>\n",
       ".dl-inline {width: auto; margin:0; padding: 0}\n",
       ".dl-inline>dt, .dl-inline>dd {float: none; width: auto; display: inline-block}\n",
       ".dl-inline>dt::after {content: \":\\0020\"; padding-right: .5ex}\n",
       ".dl-inline>dt:not(:first-of-type) {padding-left: .5ex}\n",
       "</style><dl class=dl-inline><dt>1</dt><dd>10.8234536082474</dd><dt>2</dt><dd>18.2292870905588</dd><dt>3</dt><dd>19.663967611336</dd><dt>4</dt><dd>17.0875576036866</dd><dt>5</dt><dd>2.97317436661699</dd></dl>\n"
      ],
      "text/latex": [
       "\\begin{description*}\n",
       "\\item[1] 10.8234536082474\n",
       "\\item[2] 18.2292870905588\n",
       "\\item[3] 19.663967611336\n",
       "\\item[4] 17.0875576036866\n",
       "\\item[5] 2.97317436661699\n",
       "\\end{description*}\n"
      ],
      "text/markdown": [
       "1\n",
       ":   10.82345360824742\n",
       ":   18.22928709055883\n",
       ":   19.6639676113364\n",
       ":   17.08755760368665\n",
       ":   2.97317436661699\n",
       "\n"
      ],
      "text/plain": [
       "        1         2         3         4         5 \n",
       "10.823454 18.229287 19.663968 17.087558  2.973174 "
      ]
     },
     "metadata": {},
     "output_type": "display_data"
    }
   ],
   "source": [
    "# Compares two different groups using a statistical measure\n",
    "\n",
    "tapply(airlines$BonusTrans, hierGroups, mean)"
   ]
  },
  {
   "cell_type": "code",
   "execution_count": 16,
   "metadata": {},
   "outputs": [
    {
     "data": {
      "text/html": [
       "<style>\n",
       ".dl-inline {width: auto; margin:0; padding: 0}\n",
       ".dl-inline>dt, .dl-inline>dd {float: none; width: auto; display: inline-block}\n",
       ".dl-inline>dt::after {content: \":\\0020\"; padding-right: .5ex}\n",
       ".dl-inline>dt:not(:first-of-type) {padding-left: .5ex}\n",
       "</style><dl class=dl-inline><dt>1</dt><dd>83.1842783505155</dd><dt>2</dt><dd>2613.41811175337</dd><dt>3</dt><dd>327.676113360324</dd><dt>4</dt><dd>111.573732718894</dd><dt>5</dt><dd>119.321907600596</dd></dl>\n"
      ],
      "text/latex": [
       "\\begin{description*}\n",
       "\\item[1] 83.1842783505155\n",
       "\\item[2] 2613.41811175337\n",
       "\\item[3] 327.676113360324\n",
       "\\item[4] 111.573732718894\n",
       "\\item[5] 119.321907600596\n",
       "\\end{description*}\n"
      ],
      "text/markdown": [
       "1\n",
       ":   83.18427835051552\n",
       ":   2613.418111753373\n",
       ":   327.6761133603244\n",
       ":   111.5737327188945\n",
       ":   119.321907600596\n",
       "\n"
      ],
      "text/plain": [
       "         1          2          3          4          5 \n",
       "  83.18428 2613.41811  327.67611  111.57373  119.32191 "
      ]
     },
     "metadata": {},
     "output_type": "display_data"
    }
   ],
   "source": [
    "# Compares two different groups using a statistical measure\n",
    "\n",
    "tapply(airlines$FlightMiles, hierGroups, mean)"
   ]
  },
  {
   "cell_type": "code",
   "execution_count": 17,
   "metadata": {},
   "outputs": [
    {
     "data": {
      "text/html": [
       "<style>\n",
       ".dl-inline {width: auto; margin:0; padding: 0}\n",
       ".dl-inline>dt, .dl-inline>dd {float: none; width: auto; display: inline-block}\n",
       ".dl-inline>dt::after {content: \":\\0020\"; padding-right: .5ex}\n",
       ".dl-inline>dt:not(:first-of-type) {padding-left: .5ex}\n",
       "</style><dl class=dl-inline><dt>1</dt><dd>0.302835051546392</dd><dt>2</dt><dd>7.40269749518304</dd><dt>3</dt><dd>1.06882591093117</dd><dt>4</dt><dd>0.344470046082949</dd><dt>5</dt><dd>0.438897168405365</dd></dl>\n"
      ],
      "text/latex": [
       "\\begin{description*}\n",
       "\\item[1] 0.302835051546392\n",
       "\\item[2] 7.40269749518304\n",
       "\\item[3] 1.06882591093117\n",
       "\\item[4] 0.344470046082949\n",
       "\\item[5] 0.438897168405365\n",
       "\\end{description*}\n"
      ],
      "text/markdown": [
       "1\n",
       ":   0.3028350515463922\n",
       ":   7.402697495183043\n",
       ":   1.068825910931174\n",
       ":   0.3444700460829495\n",
       ":   0.438897168405365\n",
       "\n"
      ],
      "text/plain": [
       "        1         2         3         4         5 \n",
       "0.3028351 7.4026975 1.0688259 0.3444700 0.4388972 "
      ]
     },
     "metadata": {},
     "output_type": "display_data"
    }
   ],
   "source": [
    "# Compares two different groups using a statistical measure\n",
    "\n",
    "tapply(airlines$FlightTrans, hierGroups, mean)"
   ]
  },
  {
   "cell_type": "code",
   "execution_count": 18,
   "metadata": {},
   "outputs": [
    {
     "data": {
      "text/html": [
       "<style>\n",
       ".dl-inline {width: auto; margin:0; padding: 0}\n",
       ".dl-inline>dt, .dl-inline>dd {float: none; width: auto; display: inline-block}\n",
       ".dl-inline>dt::after {content: \":\\0020\"; padding-right: .5ex}\n",
       ".dl-inline>dt:not(:first-of-type) {padding-left: .5ex}\n",
       "</style><dl class=dl-inline><dt>1</dt><dd>6235.36469072165</dd><dt>2</dt><dd>4402.41425818882</dd><dt>3</dt><dd>5615.70850202429</dd><dt>4</dt><dd>2840.82258064516</dd><dt>5</dt><dd>3060.08122205663</dd></dl>\n"
      ],
      "text/latex": [
       "\\begin{description*}\n",
       "\\item[1] 6235.36469072165\n",
       "\\item[2] 4402.41425818882\n",
       "\\item[3] 5615.70850202429\n",
       "\\item[4] 2840.82258064516\n",
       "\\item[5] 3060.08122205663\n",
       "\\end{description*}\n"
      ],
      "text/markdown": [
       "1\n",
       ":   6235.364690721652\n",
       ":   4402.414258188823\n",
       ":   5615.708502024294\n",
       ":   2840.822580645165\n",
       ":   3060.08122205663\n",
       "\n"
      ],
      "text/plain": [
       "       1        2        3        4        5 \n",
       "6235.365 4402.414 5615.709 2840.823 3060.081 "
      ]
     },
     "metadata": {},
     "output_type": "display_data"
    }
   ],
   "source": [
    "# Compares two different groups using a statistical measure\n",
    "\n",
    "tapply(airlines$DaysSinceEnroll, hierGroups, mean)"
   ]
  },
  {
   "cell_type": "markdown",
   "metadata": {},
   "source": [
    "Answer: \"DaysSinceEnroll\"."
   ]
  },
  {
   "cell_type": "markdown",
   "metadata": {},
   "source": [
    "**How would you describe the customers in Cluster 1?**"
   ]
  },
  {
   "cell_type": "markdown",
   "metadata": {},
   "source": [
    "Answer: Customers in Cluster 1 are infrequent but loyal customers."
   ]
  },
  {
   "cell_type": "markdown",
   "metadata": {},
   "source": [
    "### Problem 2.4 - Hierarchical Clustering\n",
    "**Compared to the other clusters, Cluster 2 has the largest average values in which variables (if any)?**"
   ]
  },
  {
   "cell_type": "markdown",
   "metadata": {},
   "source": [
    "Answer: Cluster 2 has the largest average values in the variables \"QualMiles\", \"FlightMiles\" and \"FlightTrans\". This cluster also has relatively large values in \"BonusTrans\" and \"Balance\"."
   ]
  },
  {
   "cell_type": "markdown",
   "metadata": {},
   "source": [
    "**How would you describe the customers in Cluster 2?**"
   ]
  },
  {
   "cell_type": "markdown",
   "metadata": {},
   "source": [
    "Anwer: Cluster 2 contains customers with a large amount of miles, mostly accumulated through flight transactions."
   ]
  },
  {
   "cell_type": "markdown",
   "metadata": {},
   "source": [
    "### Problem 2.5 - Hierarchical Clustering\n",
    "**Compared to the other clusters, Cluster 3 has the largest average values in which variables (if any)?**"
   ]
  },
  {
   "cell_type": "markdown",
   "metadata": {},
   "source": [
    "Answer: Cluster 3 has the largest values in Balance, BonusMiles, and BonusTrans. While it also has relatively large values in other variables, these are the three for which it has the largest values."
   ]
  },
  {
   "cell_type": "markdown",
   "metadata": {},
   "source": [
    "**How would you describe the customers in Cluster 3?**"
   ]
  },
  {
   "cell_type": "markdown",
   "metadata": {},
   "source": [
    "Answer: Cluster 3 mostly contains customers with a lot of miles, and who have earned the miles mostly through bonus transactions."
   ]
  },
  {
   "cell_type": "markdown",
   "metadata": {},
   "source": [
    "### Problem 2.6 - Hierarchical Clustering\n",
    "**Compared to the other clusters, Cluster 4 has the largest average values in which variables (if any)?**"
   ]
  },
  {
   "cell_type": "markdown",
   "metadata": {},
   "source": [
    "Answer: Cluster 4 does not have the largest values in any of the variables."
   ]
  },
  {
   "cell_type": "markdown",
   "metadata": {},
   "source": [
    "**How would you describe the customers in Cluster 4?**"
   ]
  },
  {
   "cell_type": "markdown",
   "metadata": {},
   "source": [
    "Answer: Cluster 4 customers have the smallest value in DaysSinceEnroll, but they are already accumulating a reasonable number of miles."
   ]
  },
  {
   "cell_type": "markdown",
   "metadata": {},
   "source": [
    "### Problem 2.7 - Hierarchical Clustering\n",
    "**Compared to the other clusters, Cluster 5 has the largest average values in which variables (if any)?**"
   ]
  },
  {
   "cell_type": "markdown",
   "metadata": {},
   "source": [
    "Answer: Cluster 5 does not have the largest values in any of the variables."
   ]
  },
  {
   "cell_type": "markdown",
   "metadata": {},
   "source": [
    "**How would you describe the customers in Cluster 5?**"
   ]
  },
  {
   "cell_type": "markdown",
   "metadata": {},
   "source": [
    "Answer: Cluster 5 customers have lower than average values in all variables."
   ]
  },
  {
   "cell_type": "markdown",
   "metadata": {},
   "source": [
    "### Problem 3.1 - K-Means Clustering\n",
    "Now run the k-means clustering algorithm on the normalized data, again creating 5 clusters. Set the seed to 88 right before running the clustering algorithm, and set the argument iter.max to 1000.\n",
    "\n",
    "**How many clusters have more than 1,000 observations?**"
   ]
  },
  {
   "cell_type": "code",
   "execution_count": 19,
   "metadata": {},
   "outputs": [],
   "source": [
    "# k-means algorithm\n",
    "\n",
    "set.seed(88)\n",
    "\n",
    "kmc = kmeans(airlinesNorm, centers=5, iter.max = 1000)\n",
    "\n",
    "# Subset into 5 different cluster datasets\n",
    "\n",
    "KmeansCluster1 = subset(airlinesNorm, kmc$cluster == 1)\n",
    "\n",
    "KmeansCluster2 = subset(airlinesNorm, kmc$cluster == 2)\n",
    "\n",
    "KmeansCluster3 = subset(airlinesNorm, kmc$cluster == 3)\n",
    "\n",
    "KmeansCluster4 = subset(airlinesNorm, kmc$cluster == 4)\n",
    "\n",
    "KmeansCluster5 = subset(airlinesNorm, kmc$cluster == 5)"
   ]
  },
  {
   "cell_type": "code",
   "execution_count": 20,
   "metadata": {},
   "outputs": [
    {
     "data": {
      "text/html": [
       "'# Observations Cluster 1: 776'"
      ],
      "text/latex": [
       "'\\# Observations Cluster 1: 776'"
      ],
      "text/markdown": [
       "'# Observations Cluster 1: 776'"
      ],
      "text/plain": [
       "[1] \"# Observations Cluster 1: 776\""
      ]
     },
     "metadata": {},
     "output_type": "display_data"
    },
    {
     "data": {
      "text/html": [
       "'# Observations Cluster 2: 57'"
      ],
      "text/latex": [
       "'\\# Observations Cluster 2: 57'"
      ],
      "text/markdown": [
       "'# Observations Cluster 2: 57'"
      ],
      "text/plain": [
       "[1] \"# Observations Cluster 2: 57\""
      ]
     },
     "metadata": {},
     "output_type": "display_data"
    },
    {
     "data": {
      "text/html": [
       "'# Observations Cluster 3: 143'"
      ],
      "text/latex": [
       "'\\# Observations Cluster 3: 143'"
      ],
      "text/markdown": [
       "'# Observations Cluster 3: 143'"
      ],
      "text/plain": [
       "[1] \"# Observations Cluster 3: 143\""
      ]
     },
     "metadata": {},
     "output_type": "display_data"
    },
    {
     "data": {
      "text/html": [
       "'# Observations Cluster 4: 1373'"
      ],
      "text/latex": [
       "'\\# Observations Cluster 4: 1373'"
      ],
      "text/markdown": [
       "'# Observations Cluster 4: 1373'"
      ],
      "text/plain": [
       "[1] \"# Observations Cluster 4: 1373\""
      ]
     },
     "metadata": {},
     "output_type": "display_data"
    },
    {
     "data": {
      "text/html": [
       "'# Observations Cluster 5: 1650'"
      ],
      "text/latex": [
       "'\\# Observations Cluster 5: 1650'"
      ],
      "text/markdown": [
       "'# Observations Cluster 5: 1650'"
      ],
      "text/plain": [
       "[1] \"# Observations Cluster 5: 1650\""
      ]
     },
     "metadata": {},
     "output_type": "display_data"
    }
   ],
   "source": [
    "# Calculates the number of rows in each cluster dataset\n",
    "\n",
    "paste(\"# Observations Cluster 1:\", nrow(KmeansCluster1))\n",
    "paste(\"# Observations Cluster 2:\", nrow(KmeansCluster2))\n",
    "paste(\"# Observations Cluster 3:\", nrow(KmeansCluster3))\n",
    "paste(\"# Observations Cluster 4:\", nrow(KmeansCluster4))\n",
    "paste(\"# Observations Cluster 5:\", nrow(KmeansCluster5))"
   ]
  },
  {
   "cell_type": "markdown",
   "metadata": {},
   "source": [
    "Answer: 2 Clusters: \"Cluster 4\" and \"Cluster 5\"."
   ]
  },
  {
   "cell_type": "markdown",
   "metadata": {},
   "source": [
    "### Problem 3.2 - K-Means Clustering\n",
    "Now, compare the cluster centroids to each other either by dividing the data points into groups and then using tapply, or by looking at the output of kmeansClust\\\\$centers, where \"kmeansClust\" is the name of the output of the kmeans function. (Note that the output of kmeansClust$centers will be for the normalized data. If you want to look at the average values for the unnormalized data, you need to use tapply like we did for hierarchical clustering.)\n",
    "\n",
    "**Do you expect Cluster 1 of the K-Means clustering output to necessarily be similar to Cluster 1 of the Hierarchical clustering output?**"
   ]
  },
  {
   "cell_type": "code",
   "execution_count": 21,
   "metadata": {},
   "outputs": [
    {
     "data": {
      "text/html": [
       "'Balance'"
      ],
      "text/latex": [
       "'Balance'"
      ],
      "text/markdown": [
       "'Balance'"
      ],
      "text/plain": [
       "[1] \"Balance\""
      ]
     },
     "metadata": {},
     "output_type": "display_data"
    },
    {
     "data": {
      "text/html": [
       "<style>\n",
       ".dl-inline {width: auto; margin:0; padding: 0}\n",
       ".dl-inline>dt, .dl-inline>dd {float: none; width: auto; display: inline-block}\n",
       ".dl-inline>dt::after {content: \":\\0020\"; padding-right: .5ex}\n",
       ".dl-inline>dt:not(:first-of-type) {padding-left: .5ex}\n",
       "</style><dl class=dl-inline><dt>1</dt><dd>152879.304123711</dd><dt>2</dt><dd>114012.175438596</dd><dt>3</dt><dd>191736.335664336</dd><dt>4</dt><dd>57416.1442097597</dd><dt>5</dt><dd>38150.3109090909</dd></dl>\n"
      ],
      "text/latex": [
       "\\begin{description*}\n",
       "\\item[1] 152879.304123711\n",
       "\\item[2] 114012.175438596\n",
       "\\item[3] 191736.335664336\n",
       "\\item[4] 57416.1442097597\n",
       "\\item[5] 38150.3109090909\n",
       "\\end{description*}\n"
      ],
      "text/markdown": [
       "1\n",
       ":   152879.3041237112\n",
       ":   114012.1754385963\n",
       ":   191736.3356643364\n",
       ":   57416.14420975975\n",
       ":   38150.3109090909\n",
       "\n"
      ],
      "text/plain": [
       "        1         2         3         4         5 \n",
       "152879.30 114012.18 191736.34  57416.14  38150.31 "
      ]
     },
     "metadata": {},
     "output_type": "display_data"
    },
    {
     "data": {
      "text/html": [
       "'QualMiles'"
      ],
      "text/latex": [
       "'QualMiles'"
      ],
      "text/markdown": [
       "'QualMiles'"
      ],
      "text/plain": [
       "[1] \"QualMiles\""
      ]
     },
     "metadata": {},
     "output_type": "display_data"
    },
    {
     "data": {
      "text/html": [
       "<style>\n",
       ".dl-inline {width: auto; margin:0; padding: 0}\n",
       ".dl-inline>dt, .dl-inline>dd {float: none; width: auto; display: inline-block}\n",
       ".dl-inline>dt::after {content: \":\\0020\"; padding-right: .5ex}\n",
       ".dl-inline>dt:not(:first-of-type) {padding-left: .5ex}\n",
       "</style><dl class=dl-inline><dt>1</dt><dd>77.9871134020619</dd><dt>2</dt><dd>5543.33333333333</dd><dt>3</dt><dd>471.566433566434</dd><dt>4</dt><dd>55.1041514930808</dd><dt>5</dt><dd>34.3842424242424</dd></dl>\n"
      ],
      "text/latex": [
       "\\begin{description*}\n",
       "\\item[1] 77.9871134020619\n",
       "\\item[2] 5543.33333333333\n",
       "\\item[3] 471.566433566434\n",
       "\\item[4] 55.1041514930808\n",
       "\\item[5] 34.3842424242424\n",
       "\\end{description*}\n"
      ],
      "text/markdown": [
       "1\n",
       ":   77.98711340206192\n",
       ":   5543.333333333333\n",
       ":   471.5664335664344\n",
       ":   55.10415149308085\n",
       ":   34.3842424242424\n",
       "\n"
      ],
      "text/plain": [
       "         1          2          3          4          5 \n",
       "  77.98711 5543.33333  471.56643   55.10415   34.38424 "
      ]
     },
     "metadata": {},
     "output_type": "display_data"
    },
    {
     "data": {
      "text/html": [
       "'BonusMiles'"
      ],
      "text/latex": [
       "'BonusMiles'"
      ],
      "text/markdown": [
       "'BonusMiles'"
      ],
      "text/plain": [
       "[1] \"BonusMiles\""
      ]
     },
     "metadata": {},
     "output_type": "display_data"
    },
    {
     "data": {
      "text/html": [
       "<style>\n",
       ".dl-inline {width: auto; margin:0; padding: 0}\n",
       ".dl-inline>dt, .dl-inline>dd {float: none; width: auto; display: inline-block}\n",
       ".dl-inline>dt::after {content: \":\\0020\"; padding-right: .5ex}\n",
       ".dl-inline>dt:not(:first-of-type) {padding-left: .5ex}\n",
       "</style><dl class=dl-inline><dt>1</dt><dd>51008.0889175258</dd><dt>2</dt><dd>19196.6842105263</dd><dt>3</dt><dd>33093.3356643357</dd><dt>4</dt><dd>8756.78732702112</dd><dt>5</dt><dd>6745.65818181818</dd></dl>\n"
      ],
      "text/latex": [
       "\\begin{description*}\n",
       "\\item[1] 51008.0889175258\n",
       "\\item[2] 19196.6842105263\n",
       "\\item[3] 33093.3356643357\n",
       "\\item[4] 8756.78732702112\n",
       "\\item[5] 6745.65818181818\n",
       "\\end{description*}\n"
      ],
      "text/markdown": [
       "1\n",
       ":   51008.08891752582\n",
       ":   19196.68421052633\n",
       ":   33093.33566433574\n",
       ":   8756.787327021125\n",
       ":   6745.65818181818\n",
       "\n"
      ],
      "text/plain": [
       "        1         2         3         4         5 \n",
       "51008.089 19196.684 33093.336  8756.787  6745.658 "
      ]
     },
     "metadata": {},
     "output_type": "display_data"
    },
    {
     "data": {
      "text/html": [
       "'BonusTrans'"
      ],
      "text/latex": [
       "'BonusTrans'"
      ],
      "text/markdown": [
       "'BonusTrans'"
      ],
      "text/plain": [
       "[1] \"BonusTrans\""
      ]
     },
     "metadata": {},
     "output_type": "display_data"
    },
    {
     "data": {
      "text/html": [
       "<style>\n",
       ".dl-inline {width: auto; margin:0; padding: 0}\n",
       ".dl-inline>dt, .dl-inline>dd {float: none; width: auto; display: inline-block}\n",
       ".dl-inline>dt::after {content: \":\\0020\"; padding-right: .5ex}\n",
       ".dl-inline>dt:not(:first-of-type) {padding-left: .5ex}\n",
       "</style><dl class=dl-inline><dt>1</dt><dd>21.3157216494845</dd><dt>2</dt><dd>12.2982456140351</dd><dt>3</dt><dd>28.3566433566434</dd><dt>4</dt><dd>9.10123816460306</dd><dt>5</dt><dd>7.63818181818182</dd></dl>\n"
      ],
      "text/latex": [
       "\\begin{description*}\n",
       "\\item[1] 21.3157216494845\n",
       "\\item[2] 12.2982456140351\n",
       "\\item[3] 28.3566433566434\n",
       "\\item[4] 9.10123816460306\n",
       "\\item[5] 7.63818181818182\n",
       "\\end{description*}\n"
      ],
      "text/markdown": [
       "1\n",
       ":   21.31572164948452\n",
       ":   12.29824561403513\n",
       ":   28.35664335664344\n",
       ":   9.101238164603065\n",
       ":   7.63818181818182\n",
       "\n"
      ],
      "text/plain": [
       "        1         2         3         4         5 \n",
       "21.315722 12.298246 28.356643  9.101238  7.638182 "
      ]
     },
     "metadata": {},
     "output_type": "display_data"
    },
    {
     "data": {
      "text/html": [
       "'FlightMiles'"
      ],
      "text/latex": [
       "'FlightMiles'"
      ],
      "text/markdown": [
       "'FlightMiles'"
      ],
      "text/plain": [
       "[1] \"FlightMiles\""
      ]
     },
     "metadata": {},
     "output_type": "display_data"
    },
    {
     "data": {
      "text/html": [
       "<style>\n",
       ".dl-inline {width: auto; margin:0; padding: 0}\n",
       ".dl-inline>dt, .dl-inline>dd {float: none; width: auto; display: inline-block}\n",
       ".dl-inline>dt::after {content: \":\\0020\"; padding-right: .5ex}\n",
       ".dl-inline>dt:not(:first-of-type) {padding-left: .5ex}\n",
       "</style><dl class=dl-inline><dt>1</dt><dd>479.907216494845</dd><dt>2</dt><dd>939.771929824561</dd><dt>3</dt><dd>5763.13286713287</dd><dt>4</dt><dd>213.580480699199</dd><dt>5</dt><dd>179.644848484848</dd></dl>\n"
      ],
      "text/latex": [
       "\\begin{description*}\n",
       "\\item[1] 479.907216494845\n",
       "\\item[2] 939.771929824561\n",
       "\\item[3] 5763.13286713287\n",
       "\\item[4] 213.580480699199\n",
       "\\item[5] 179.644848484848\n",
       "\\end{description*}\n"
      ],
      "text/markdown": [
       "1\n",
       ":   479.9072164948452\n",
       ":   939.7719298245613\n",
       ":   5763.132867132874\n",
       ":   213.5804806991995\n",
       ":   179.644848484848\n",
       "\n"
      ],
      "text/plain": [
       "        1         2         3         4         5 \n",
       " 479.9072  939.7719 5763.1329  213.5805  179.6448 "
      ]
     },
     "metadata": {},
     "output_type": "display_data"
    },
    {
     "data": {
      "text/html": [
       "'FlightTrans'"
      ],
      "text/latex": [
       "'FlightTrans'"
      ],
      "text/markdown": [
       "'FlightTrans'"
      ],
      "text/plain": [
       "[1] \"FlightTrans\""
      ]
     },
     "metadata": {},
     "output_type": "display_data"
    },
    {
     "data": {
      "text/html": [
       "<style>\n",
       ".dl-inline {width: auto; margin:0; padding: 0}\n",
       ".dl-inline>dt, .dl-inline>dd {float: none; width: auto; display: inline-block}\n",
       ".dl-inline>dt::after {content: \":\\0020\"; padding-right: .5ex}\n",
       ".dl-inline>dt:not(:first-of-type) {padding-left: .5ex}\n",
       "</style><dl class=dl-inline><dt>1</dt><dd>1.45747422680412</dd><dt>2</dt><dd>2.82456140350877</dd><dt>3</dt><dd>16.7692307692308</dd><dt>4</dt><dd>0.646030589949017</dd><dt>5</dt><dd>0.555151515151515</dd></dl>\n"
      ],
      "text/latex": [
       "\\begin{description*}\n",
       "\\item[1] 1.45747422680412\n",
       "\\item[2] 2.82456140350877\n",
       "\\item[3] 16.7692307692308\n",
       "\\item[4] 0.646030589949017\n",
       "\\item[5] 0.555151515151515\n",
       "\\end{description*}\n"
      ],
      "text/markdown": [
       "1\n",
       ":   1.457474226804122\n",
       ":   2.824561403508773\n",
       ":   16.76923076923084\n",
       ":   0.6460305899490175\n",
       ":   0.555151515151515\n",
       "\n"
      ],
      "text/plain": [
       "         1          2          3          4          5 \n",
       " 1.4574742  2.8245614 16.7692308  0.6460306  0.5551515 "
      ]
     },
     "metadata": {},
     "output_type": "display_data"
    },
    {
     "data": {
      "text/html": [
       "'DaysSinceEnroll'"
      ],
      "text/latex": [
       "'DaysSinceEnroll'"
      ],
      "text/markdown": [
       "'DaysSinceEnroll'"
      ],
      "text/plain": [
       "[1] \"DaysSinceEnroll\""
      ]
     },
     "metadata": {},
     "output_type": "display_data"
    },
    {
     "data": {
      "text/html": [
       "<style>\n",
       ".dl-inline {width: auto; margin:0; padding: 0}\n",
       ".dl-inline>dt, .dl-inline>dd {float: none; width: auto; display: inline-block}\n",
       ".dl-inline>dt::after {content: \":\\0020\"; padding-right: .5ex}\n",
       ".dl-inline>dt:not(:first-of-type) {padding-left: .5ex}\n",
       "</style><dl class=dl-inline><dt>1</dt><dd>4915.53350515464</dd><dt>2</dt><dd>3872.17543859649</dd><dt>3</dt><dd>4666.41258741259</dd><dt>4</dt><dd>5826.59796067007</dd><dt>5</dt><dd>2283.47575757576</dd></dl>\n"
      ],
      "text/latex": [
       "\\begin{description*}\n",
       "\\item[1] 4915.53350515464\n",
       "\\item[2] 3872.17543859649\n",
       "\\item[3] 4666.41258741259\n",
       "\\item[4] 5826.59796067007\n",
       "\\item[5] 2283.47575757576\n",
       "\\end{description*}\n"
      ],
      "text/markdown": [
       "1\n",
       ":   4915.533505154642\n",
       ":   3872.175438596493\n",
       ":   4666.412587412594\n",
       ":   5826.597960670075\n",
       ":   2283.47575757576\n",
       "\n"
      ],
      "text/plain": [
       "       1        2        3        4        5 \n",
       "4915.534 3872.175 4666.413 5826.598 2283.476 "
      ]
     },
     "metadata": {},
     "output_type": "display_data"
    }
   ],
   "source": [
    "# Compares two different groups using a statistical measure\n",
    "\n",
    "paste(\"Balance\")\n",
    "tapply(airlines$Balance, kmc$cluster, mean)\n",
    "paste(\"QualMiles\")\n",
    "tapply(airlines$QualMiles, kmc$cluster, mean)\n",
    "paste(\"BonusMiles\")\n",
    "tapply(airlines$BonusMiles, kmc$cluster, mean)\n",
    "paste(\"BonusTrans\")\n",
    "tapply(airlines$BonusTrans, kmc$cluster, mean)\n",
    "paste(\"FlightMiles\")\n",
    "tapply(airlines$FlightMiles, kmc$cluster, mean)\n",
    "paste(\"FlightTrans\")\n",
    "tapply(airlines$FlightTrans, kmc$cluster, mean)\n",
    "paste(\"DaysSinceEnroll\")\n",
    "tapply(airlines$DaysSinceEnroll, kmc$cluster, mean)"
   ]
  },
  {
   "cell_type": "markdown",
   "metadata": {},
   "source": [
    "Answer: The clusters are not displayed in a meaningful order, so while there may be a cluster produced by the k-means algorithm that is similar to Cluster 1 produced by the Hierarchical method, it will not necessarily be shown first."
   ]
  }
 ],
 "metadata": {
  "kernelspec": {
   "display_name": "R",
   "language": "R",
   "name": "ir"
  },
  "language_info": {
   "codemirror_mode": "r",
   "file_extension": ".r",
   "mimetype": "text/x-r-source",
   "name": "R",
   "pygments_lexer": "r",
   "version": "3.6.3"
  }
 },
 "nbformat": 4,
 "nbformat_minor": 4
}
