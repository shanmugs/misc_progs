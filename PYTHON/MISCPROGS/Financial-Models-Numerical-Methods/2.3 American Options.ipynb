{
 "cells": [
  {
   "cell_type": "markdown",
   "metadata": {},
   "source": [
    "# American options\n",
    "\n",
    "\n",
    "## Contents\n",
    "   - [Binomial tree](#sec1)\n",
    "   - [Longstaff - Schwartz](#sec2)\n",
    "   \n",
    "   \n",
    "The American option problem is an optimal stopping problem formulated as follows:\n",
    "\n",
    "$$ V(t,s) =  \\sup_{\\tau \\in [t,T]} \\mathbb{E}^{\\mathbb{Q}}\\biggl[ e^{-r(T-\\tau)} \\Phi(S_{\\tau}) \\bigg| S_t=s \\biggr]$$\n",
    "\n",
    "where $\\Phi(\\cdot)$ is the payoff, also called *intrinsic value*.    \n",
    "This formula resembles the formula of a European option, except that in this case the option can be exercised at any time. But... at which time? The problem is to find the best exercise time $\\tau$ that maximizes the expectation.\n",
    "\n",
    "Notice that the time $\\tau$ is a random variable! It can be different for different paths of the stock process.   \n",
    "The solution of the problem provides a strategy, that at each time assesses if it is optimal to exercise the option or not, depending on the current value of the underlying stock.\n",
    "\n",
    "This notebook is dedicated only to the pricing problem, i.e. just to find $V(t,s)$, and not to find $\\tau$.\n",
    "\n",
    "It can be proved that the function $V(t,s)$ is the (weak) solution of the following PDE:\n",
    "\n",
    "\\begin{equation}\n",
    "\\max \\biggl\\{  \\frac{\\partial  V(t,s)}{\\partial t}  \n",
    "          + r\\,s \\frac{\\partial V(t,s)}{\\partial s}\n",
    "          + \\frac{1}{2} \\sigma^2 s^2 \\frac{\\partial^2  V(t,s)}{\\partial s^2} - r  V(t,s), \\;  \n",
    "          \\Phi(s) - V(t,s) \\biggr\\}  = 0.\n",
    "\\end{equation}\n",
    "\n",
    "$$ V(T,s) = \\Phi(s) $$\n",
    "\n",
    "The numerical algorithm for solving this PDE is almost identical to the algorithm proposed in the notebook **2.1** for the Black-Scholes PDE. \n",
    "\n",
    "Let us have a look at the differences between the implementation of the European and the American algorithm, in the class `BS_pricer`:\n",
    "\n",
    "```python\n",
    "if self.exercise==\"European\":        \n",
    "    for i in range(Ntime-2,-1,-1):\n",
    "        offset[0] = a * V[0,i]  \n",
    "        offset[-1] = c * V[-1,i]\n",
    "        V[1:-1,i] = spsolve( D, (V[1:-1,i+1] - offset) )\n",
    "elif self.exercise==\"American\":\n",
    "    for i in range(Ntime-2,-1,-1):\n",
    "        offset[0] = a * V[0,i]\n",
    "        offset[-1] = c * V[-1,i]\n",
    "        V[1:-1,i] = np.maximum( spsolve( D, (V[1:-1,i+1] - offset) ), Payoff[1:-1])\n",
    "```\n",
    "\n",
    "The European and the American algorithms just differ in one line!!    \n",
    "\n",
    "I don't consider dividends in the notebook. In absence of dividends the American call has the same value of the European call. For this reason, I'm going to consider only the pricing problem of a put option\n",
    "\n",
    "$$ \\Phi(S_{\\tau}) = ( K - S_{\\tau} )^+ $$\n"
   ]
  },
  {
   "cell_type": "code",
   "execution_count": 1,
   "metadata": {},
   "outputs": [],
   "source": [
    "from functions.BS_pricer import BS_pricer\n",
    "from functions.Parameters import Option_param\n",
    "from functions.Processes import Diffusion_process\n",
    "\n",
    "import numpy as np\n",
    "import scipy.stats as ss\n",
    "\n",
    "import matplotlib.pyplot as plt\n",
    "%matplotlib inline\n",
    "from IPython.display import display\n",
    "import sympy; sympy.init_printing()\n",
    "\n",
    "def display_matrix(m):\n",
    "    display(sympy.Matrix(m))"
   ]
  },
  {
   "cell_type": "code",
   "execution_count": 5,
   "metadata": {},
   "outputs": [],
   "source": [
    "# Creates the object with the parameters of the option\n",
    "opt_param = Option_param(S0=100, K=100, T=1, exercise=\"American\", payoff=\"put\" )\n",
    "# Creates the object with the parameters of the process\n",
    "diff_param = Diffusion_process(r=0.1, sig=0.2)\n",
    "# Creates the pricer object\n",
    "BS = BS_pricer(opt_param, diff_param)"
   ]
  },
  {
   "cell_type": "markdown",
   "metadata": {},
   "source": [
    "The class `BS_pricer` implements two algorithms to price American options:\n",
    "- the Longstaff-Schwartz Method (see section [below](#sec2))\n",
    "- the PDE method"
   ]
  },
  {
   "cell_type": "code",
   "execution_count": 24,
   "metadata": {},
   "outputs": [
    {
     "data": {
      "image/png": "[encoded data removed]",
      "text/latex": [
       "$\\displaystyle 4.834259780628$"
      ],
      "text/plain": [
       "4.834259780628"
      ]
     },
     "execution_count": 24,
     "metadata": {},
     "output_type": "execute_result"
    }
   ],
   "source": [
    "BS.LSM(N=10000, paths=10000, order=2)  # Longstaff Schwartz Method"
   ]
  },
  {
   "cell_type": "code",
   "execution_count": 4,
   "metadata": {},
   "outputs": [
    {
     "data": {
      "image/png": "[encoded data removed]",
      "text/latex": [
       "$\\displaystyle 4.815639714559457$"
      ],
      "text/plain": [
       "4.815639714559457"
      ]
     },
     "execution_count": 4,
     "metadata": {},
     "output_type": "execute_result"
    }
   ],
   "source": [
    "BS.PDE_price((7000,5000))"
   ]
  },
  {
   "cell_type": "code",
   "execution_count": 10,
   "metadata": {},
   "outputs": [
    {
     "data": {
      "image/png": "[encoded data removed]",
      "text/plain": [
       "<Figure size 432x288 with 1 Axes>"
      ]
     },
     "metadata": {
      "needs_background": "light"
     },
     "output_type": "display_data"
    }
   ],
   "source": [
    "BS.plot([60,140,0,50])"
   ]
  },
  {
   "cell_type": "markdown",
   "metadata": {},
   "source": [
    "<a id='sec1'></a>\n",
    "## Binomial tree\n",
    "\n",
    "One of the most used methods for pricing American options is the Binomial tree. \n",
    "\n",
    "We have already encountered the binomial tree in the notebook **1.1**. The following algorithm is almost a copy/paste from that notebook.     \n",
    "There are just two additional lines:\n",
    "- `S_T = S_T * u`. This an efficient method to retrive the price vector at each time steps.  \n",
    "- `V = np.maximum( V, K-S_T )`. This line computes the maximum between the conditional expectation V and the intrisic value. "
   ]
  },
  {
   "cell_type": "code",
   "execution_count": 2,
   "metadata": {},
   "outputs": [],
   "source": [
    "S0=100.0    # spot stock price\n",
    "K=100.0     # strike\n",
    "T=1.0       # maturity \n",
    "r=0.1       # risk free rate \n",
    "sig=0.2     # diffusion coefficient or volatility"
   ]
  },
  {
   "cell_type": "code",
   "execution_count": 15,
   "metadata": {},
   "outputs": [
    {
     "name": "stdout",
     "output_type": "stream",
     "text": [
      "American BS Tree Price:  4.81624866310944\n"
     ]
    }
   ],
   "source": [
    "N = 25000              # number of periods or number of time steps  \n",
    "payoff = \"put\"        # payoff \n",
    "\n",
    "dT = float(T) / N                             # Delta t\n",
    "u = np.exp(sig * np.sqrt(dT))                 # up factor\n",
    "d = 1.0 / u                                   # down factor \n",
    "\n",
    "V = np.zeros(N+1)                             # initialize the price vector\n",
    "S_T = np.array( [(S0 * u**j * d**(N - j)) for j in range(N + 1)] )  # price S_T at time T\n",
    "\n",
    "a = np.exp(r * dT)    # risk free compound return\n",
    "p = (a - d)/ (u - d)  # risk neutral up probability\n",
    "q = 1.0 - p           # risk neutral down probability   \n",
    "\n",
    "if payoff ==\"call\":\n",
    "    V[:] = np.maximum(S_T-K, 0.0)\n",
    "elif payoff ==\"put\":\n",
    "    V[:] = np.maximum(K-S_T, 0.0)\n",
    "\n",
    "for i in range(N-1, -1, -1):\n",
    "    V[:-1] = np.exp(-r*dT) * (p * V[1:] + q * V[:-1])    # the price vector is overwritten at each step\n",
    "    S_T = S_T * u                    # it is a tricky way to obtain the price at the previous time step\n",
    "    if payoff==\"call\":\n",
    "        V = np.maximum( V, S_T-K )\n",
    "    elif payoff==\"put\":\n",
    "        V = np.maximum( V, K-S_T )\n",
    "    \n",
    "print(\"American BS Tree Price: \", V[0])"
   ]
  },
  {
   "cell_type": "markdown",
   "metadata": {},
   "source": [
    "<a id='sec2'></a>\n",
    "## Longstaff - Schwartz Method\n",
    "\n",
    "This is a Monte Carlo algorithm proposed by Longstaff and Schwartz in the paper [1]:\n",
    "[LS Method](https://people.math.ethz.ch/~hjfurrer/teaching/LongstaffSchwartzAmericanOptionsLeastSquareMonteCarlo.pdf)\n",
    "\n",
    "The algorithm is not difficult to implement, but it can be difficult to understand.  I think this is the reason the authors started the paper with an example.    \n",
    "Well. I think they had a good idea, and for this reason I want to reproduce their example here. \n",
    "\n",
    "The same code is copied in the class `BS_pricer` where the function `LSM` is implemented.\n",
    "\n",
    "**If in the following code you feel that something is unclear, I suggest you to follow the steps (not in python) proposed in the original paper**."
   ]
  },
  {
   "cell_type": "code",
   "execution_count": 6,
   "metadata": {},
   "outputs": [],
   "source": [
    "N = 4          # number of time steps\n",
    "r = 0.06       # interest rate\n",
    "K = 1.1        # strike \n",
    "T = 3          # Maturity\n",
    "\n",
    "dt = T/(N-1)          # time interval\n",
    "df = np.exp(-r * dt)  # discount factor per time interval"
   ]
  },
  {
   "cell_type": "code",
   "execution_count": 9,
   "metadata": {},
   "outputs": [],
   "source": [
    "S = np.array([\n",
    "            [1.00, 1.09, 1.08, 1.34],\n",
    "            [1.00, 1.16, 1.26, 1.54],\n",
    "            [1.00, 1.22, 1.07, 1.03],\n",
    "            [1.00, 0.93, 0.97, 0.92],\n",
    "            [1.00, 1.11, 1.56, 1.52],\n",
    "            [1.00, 0.76, 0.77, 0.90],\n",
    "            [1.00, 0.92, 0.84, 1.01],\n",
    "            [1.00, 0.88, 1.22, 1.34]])"
   ]
  },
  {
   "cell_type": "code",
   "execution_count": 10,
   "metadata": {},
   "outputs": [
    {
     "data": {
      "text/latex": [
       "$\\displaystyle \\left[\\begin{matrix}1.0 & 1.09 & 1.08 & 1.34\\\\1.0 & 1.16 & 1.26 & 1.54\\\\1.0 & 1.22 & 1.07 & 1.03\\\\1.0 & 0.93 & 0.97 & 0.92\\\\1.0 & 1.11 & 1.56 & 1.52\\\\1.0 & 0.76 & 0.77 & 0.9\\\\1.0 & 0.92 & 0.84 & 1.01\\\\1.0 & 0.88 & 1.22 & 1.34\\end{matrix}\\right]$"
      ],
      "text/plain": [
       "⎡1.0  1.09  1.08  1.34⎤\n",
       "⎢                     ⎥\n",
       "⎢1.0  1.16  1.26  1.54⎥\n",
       "⎢                     ⎥\n",
       "⎢1.0  1.22  1.07  1.03⎥\n",
       "⎢                     ⎥\n",
       "⎢1.0  0.93  0.97  0.92⎥\n",
       "⎢                     ⎥\n",
       "⎢1.0  1.11  1.56  1.52⎥\n",
       "⎢                     ⎥\n",
       "⎢1.0  0.76  0.77  0.9 ⎥\n",
       "⎢                     ⎥\n",
       "⎢1.0  0.92  0.84  1.01⎥\n",
       "⎢                     ⎥\n",
       "⎣1.0  0.88  1.22  1.34⎦"
      ]
     },
     "metadata": {},
     "output_type": "display_data"
    }
   ],
   "source": [
    "display_matrix(S)"
   ]
  },
  {
   "cell_type": "markdown",
   "metadata": {},
   "source": [
    "In the previous cell we defined the stock matrix S.   \n",
    "It has 8 rows that correspond to the number of paths.  \n",
    "The 4 columns correspond to the 4 time steps, i.e. each row is a path with 4 time steps."
   ]
  },
  {
   "cell_type": "code",
   "execution_count": 13,
   "metadata": {},
   "outputs": [
    {
     "name": "stdout",
     "output_type": "stream",
     "text": [
      "Example price=  0.11443433004505696\n"
     ]
    }
   ],
   "source": [
    "H = np.maximum(K - S, 0)           # intrinsic values for put option\n",
    "V = np.zeros_like(H)               # value matrix\n",
    "V[:,-1] = H[:,-1]\n",
    "\n",
    "# Valuation by LS Method\n",
    "for t in range(N-2, 0, -1):\n",
    "\n",
    "    good_paths = H[:,t] > 0        # paths where the intrinsic value is positive \n",
    "                                   # the regression is performed only on these paths \n",
    "    \n",
    "    rg = np.polyfit( S[good_paths, t], V[good_paths, t+1] * df, 2)    # polynomial regression\n",
    "    C = np.polyval( rg, S[good_paths,t] )                             # evaluation of regression  \n",
    "    \n",
    "    exercise = np.zeros( len(good_paths), dtype=bool)    # initialize\n",
    "    exercise[good_paths] = H[good_paths,t] > C           # paths where it is optimal to exercise\n",
    "    \n",
    "    V[exercise,t] = H[exercise,t]                        # set V equal to H where it is optimal to exercise \n",
    "    V[exercise,t+1:] = 0                                 # set future cash flows, for that path, equal to zero  \n",
    "    discount_path = (V[:,t] == 0)                        # paths where we didn't exercise \n",
    "    V[discount_path,t] = V[discount_path,t+1] * df       # set V[t] in continuation region\n",
    "    \n",
    "V0 = np.mean(V[:,1]) * df  # discounted expectation of V[t=1]\n",
    "print(\"Example price= \", V0)"
   ]
  },
  {
   "cell_type": "markdown",
   "metadata": {},
   "source": [
    "The matrix `H = np.maximum(K - S, 0)`, is the matrix of intrinsic values:"
   ]
  },
  {
   "cell_type": "code",
   "execution_count": 15,
   "metadata": {},
   "outputs": [
    {
     "data": {
      "text/latex": [
       "$\\displaystyle \\left[\\begin{matrix}0.1 & 0.01 & 0.02 & 0.0\\\\0.1 & 0.0 & 0.0 & 0.0\\\\0.1 & 0.0 & 0.03 & 0.07\\\\0.1 & 0.17 & 0.13 & 0.18\\\\0.1 & 0.0 & 0.0 & 0.0\\\\0.1 & 0.34 & 0.33 & 0.2\\\\0.1 & 0.18 & 0.26 & 0.09\\\\0.1 & 0.22 & 0.0 & 0.0\\end{matrix}\\right]$"
      ],
      "text/plain": [
       "⎡0.1  0.01  0.02  0.0 ⎤\n",
       "⎢                     ⎥\n",
       "⎢0.1  0.0   0.0   0.0 ⎥\n",
       "⎢                     ⎥\n",
       "⎢0.1  0.0   0.03  0.07⎥\n",
       "⎢                     ⎥\n",
       "⎢0.1  0.17  0.13  0.18⎥\n",
       "⎢                     ⎥\n",
       "⎢0.1  0.0   0.0   0.0 ⎥\n",
       "⎢                     ⎥\n",
       "⎢0.1  0.34  0.33  0.2 ⎥\n",
       "⎢                     ⎥\n",
       "⎢0.1  0.18  0.26  0.09⎥\n",
       "⎢                     ⎥\n",
       "⎣0.1  0.22  0.0   0.0 ⎦"
      ]
     },
     "metadata": {},
     "output_type": "display_data"
    }
   ],
   "source": [
    "display_matrix(H.round(2))"
   ]
  },
  {
   "cell_type": "markdown",
   "metadata": {},
   "source": [
    "The matrix V contains the cash flows.\n",
    "\n",
    "**Important**    \n",
    "To simplify the computations, the discounted cashflows are reported at every time steps. \n",
    "\n",
    "For instance:    \n",
    "In the third row the final cashflow (0.07) is discounted at every time step, till t=1.    \n",
    "In the paper, the authors just consider the cashflow (0.07) at time t=3 and the discount is performed at the end of the algorithm."
   ]
  },
  {
   "cell_type": "code",
   "execution_count": 18,
   "metadata": {},
   "outputs": [
    {
     "data": {
      "text/latex": [
       "$\\displaystyle \\left[\\begin{matrix}0.0 & 0.0 & 0.0 & 0.0\\\\0.0 & 0.0 & 0.0 & 0.0\\\\0.0 & 0.0621 & 0.0659 & 0.07\\\\0.0 & 0.17 & 0.0 & 0.0\\\\0.0 & 0.0 & 0.0 & 0.0\\\\0.0 & 0.34 & 0.0 & 0.0\\\\0.0 & 0.18 & 0.0 & 0.0\\\\0.0 & 0.22 & 0.0 & 0.0\\end{matrix}\\right]$"
      ],
      "text/plain": [
       "⎡0.0   0.0     0.0    0.0 ⎤\n",
       "⎢                         ⎥\n",
       "⎢0.0   0.0     0.0    0.0 ⎥\n",
       "⎢                         ⎥\n",
       "⎢0.0  0.0621  0.0659  0.07⎥\n",
       "⎢                         ⎥\n",
       "⎢0.0   0.17    0.0    0.0 ⎥\n",
       "⎢                         ⎥\n",
       "⎢0.0   0.0     0.0    0.0 ⎥\n",
       "⎢                         ⎥\n",
       "⎢0.0   0.34    0.0    0.0 ⎥\n",
       "⎢                         ⎥\n",
       "⎢0.0   0.18    0.0    0.0 ⎥\n",
       "⎢                         ⎥\n",
       "⎣0.0   0.22    0.0    0.0 ⎦"
      ]
     },
     "metadata": {},
     "output_type": "display_data"
    }
   ],
   "source": [
    "display_matrix(V.round(4))"
   ]
  },
  {
   "cell_type": "markdown",
   "metadata": {},
   "source": [
    "## References\n",
    "\n",
    "[1] F. Longstaff, E. Schwartz (2001) \"Valuing American Options by Simulation: A Simple Least-Squares Approach\", The Review of Financial Studies, vol 14-1, pag 113-147.   "
   ]
  }
 ],
 "metadata": {
  "kernelspec": {
   "display_name": "Python 3",
   "language": "python",
   "name": "python3"
  },
  "language_info": {
   "codemirror_mode": {
    "name": "ipython",
    "version": 3
   },
   "file_extension": ".py",
   "mimetype": "text/x-python",
   "name": "python",
   "nbconvert_exporter": "python",
   "pygments_lexer": "ipython3",
   "version": "3.7.3"
  }
 },
 "nbformat": 4,
 "nbformat_minor": 2
}
