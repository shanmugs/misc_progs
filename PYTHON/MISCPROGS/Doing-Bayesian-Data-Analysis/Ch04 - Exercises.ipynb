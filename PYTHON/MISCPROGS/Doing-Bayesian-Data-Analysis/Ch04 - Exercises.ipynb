{
 "cells": [
  {
   "cell_type": "markdown",
   "metadata": {},
   "source": [
    "# Chapter 04"
   ]
  },
  {
   "cell_type": "markdown",
   "metadata": {},
   "source": [
    "<img src=\"images/basicprob.jpg\"/>"
   ]
  },
  {
   "cell_type": "code",
   "execution_count": 1,
   "metadata": {},
   "outputs": [],
   "source": [
    "import random\n",
    "import numpy as np\n",
    "import pandas as pd\n",
    "import matplotlib.pyplot as plt\n",
    "from scipy.stats import norm"
   ]
  },
  {
   "cell_type": "markdown",
   "metadata": {},
   "source": [
    "**Exercise 4.1. Conditional Probability - Computing the probabilities of the hair colors given Brown eye, and the probabilities the eye colors given Brown hair**"
   ]
  },
  {
   "cell_type": "code",
   "execution_count": 2,
   "metadata": {},
   "outputs": [],
   "source": [
    "# p's(hairs)/p(brown eyes)\n",
    "\n",
    "# p's(eyes)/p(brown hair)"
   ]
  },
  {
   "cell_type": "code",
   "execution_count": 3,
   "metadata": {},
   "outputs": [
    {
     "data": {
      "text/html": [
       "<div>\n",
       "<style scoped>\n",
       "    .dataframe tbody tr th:only-of-type {\n",
       "        vertical-align: middle;\n",
       "    }\n",
       "\n",
       "    .dataframe tbody tr th {\n",
       "        vertical-align: top;\n",
       "    }\n",
       "\n",
       "    .dataframe thead th {\n",
       "        text-align: right;\n",
       "    }\n",
       "</style>\n",
       "<table border=\"1\" class=\"dataframe\">\n",
       "  <thead>\n",
       "    <tr style=\"text-align: right;\">\n",
       "      <th></th>\n",
       "      <th>Gender</th>\n",
       "      <th>Eye</th>\n",
       "      <th>Black</th>\n",
       "      <th>Brown</th>\n",
       "      <th>Red</th>\n",
       "      <th>Blond</th>\n",
       "    </tr>\n",
       "  </thead>\n",
       "  <tbody>\n",
       "    <tr>\n",
       "      <th>0</th>\n",
       "      <td>M</td>\n",
       "      <td>Brown</td>\n",
       "      <td>32</td>\n",
       "      <td>53</td>\n",
       "      <td>10</td>\n",
       "      <td>3</td>\n",
       "    </tr>\n",
       "    <tr>\n",
       "      <th>1</th>\n",
       "      <td>M</td>\n",
       "      <td>Blue</td>\n",
       "      <td>11</td>\n",
       "      <td>50</td>\n",
       "      <td>10</td>\n",
       "      <td>30</td>\n",
       "    </tr>\n",
       "    <tr>\n",
       "      <th>2</th>\n",
       "      <td>M</td>\n",
       "      <td>Hazel</td>\n",
       "      <td>10</td>\n",
       "      <td>25</td>\n",
       "      <td>7</td>\n",
       "      <td>5</td>\n",
       "    </tr>\n",
       "    <tr>\n",
       "      <th>3</th>\n",
       "      <td>M</td>\n",
       "      <td>Green</td>\n",
       "      <td>3</td>\n",
       "      <td>15</td>\n",
       "      <td>7</td>\n",
       "      <td>8</td>\n",
       "    </tr>\n",
       "    <tr>\n",
       "      <th>4</th>\n",
       "      <td>F</td>\n",
       "      <td>Brown</td>\n",
       "      <td>36</td>\n",
       "      <td>66</td>\n",
       "      <td>16</td>\n",
       "      <td>4</td>\n",
       "    </tr>\n",
       "    <tr>\n",
       "      <th>5</th>\n",
       "      <td>F</td>\n",
       "      <td>Blue</td>\n",
       "      <td>9</td>\n",
       "      <td>34</td>\n",
       "      <td>7</td>\n",
       "      <td>64</td>\n",
       "    </tr>\n",
       "    <tr>\n",
       "      <th>6</th>\n",
       "      <td>F</td>\n",
       "      <td>Hazel</td>\n",
       "      <td>5</td>\n",
       "      <td>29</td>\n",
       "      <td>7</td>\n",
       "      <td>5</td>\n",
       "    </tr>\n",
       "    <tr>\n",
       "      <th>7</th>\n",
       "      <td>F</td>\n",
       "      <td>Green</td>\n",
       "      <td>2</td>\n",
       "      <td>14</td>\n",
       "      <td>7</td>\n",
       "      <td>8</td>\n",
       "    </tr>\n",
       "  </tbody>\n",
       "</table>\n",
       "</div>"
      ],
      "text/plain": [
       "  Gender    Eye  Black  Brown  Red  Blond\n",
       "0      M  Brown     32     53   10      3\n",
       "1      M   Blue     11     50   10     30\n",
       "2      M  Hazel     10     25    7      5\n",
       "3      M  Green      3     15    7      8\n",
       "4      F  Brown     36     66   16      4\n",
       "5      F   Blue      9     34    7     64\n",
       "6      F  Hazel      5     29    7      5\n",
       "7      F  Green      2     14    7      8"
      ]
     },
     "execution_count": 3,
     "metadata": {},
     "output_type": "execute_result"
    }
   ],
   "source": [
    "df = pd.read_csv('data/hair_eye_color.csv')\n",
    "\n",
    "df"
   ]
  },
  {
   "cell_type": "code",
   "execution_count": 4,
   "metadata": {},
   "outputs": [
    {
     "data": {
      "text/html": [
       "<div>\n",
       "<style scoped>\n",
       "    .dataframe tbody tr th:only-of-type {\n",
       "        vertical-align: middle;\n",
       "    }\n",
       "\n",
       "    .dataframe tbody tr th {\n",
       "        vertical-align: top;\n",
       "    }\n",
       "\n",
       "    .dataframe thead th {\n",
       "        text-align: right;\n",
       "    }\n",
       "</style>\n",
       "<table border=\"1\" class=\"dataframe\">\n",
       "  <thead>\n",
       "    <tr style=\"text-align: right;\">\n",
       "      <th></th>\n",
       "      <th>Black</th>\n",
       "      <th>Brown</th>\n",
       "      <th>Red</th>\n",
       "      <th>Blond</th>\n",
       "    </tr>\n",
       "    <tr>\n",
       "      <th>Eye</th>\n",
       "      <th></th>\n",
       "      <th></th>\n",
       "      <th></th>\n",
       "      <th></th>\n",
       "    </tr>\n",
       "  </thead>\n",
       "  <tbody>\n",
       "    <tr>\n",
       "      <th>Blue</th>\n",
       "      <td>20</td>\n",
       "      <td>84</td>\n",
       "      <td>17</td>\n",
       "      <td>94</td>\n",
       "    </tr>\n",
       "    <tr>\n",
       "      <th>Brown</th>\n",
       "      <td>68</td>\n",
       "      <td>119</td>\n",
       "      <td>26</td>\n",
       "      <td>7</td>\n",
       "    </tr>\n",
       "    <tr>\n",
       "      <th>Green</th>\n",
       "      <td>5</td>\n",
       "      <td>29</td>\n",
       "      <td>14</td>\n",
       "      <td>16</td>\n",
       "    </tr>\n",
       "    <tr>\n",
       "      <th>Hazel</th>\n",
       "      <td>15</td>\n",
       "      <td>54</td>\n",
       "      <td>14</td>\n",
       "      <td>10</td>\n",
       "    </tr>\n",
       "  </tbody>\n",
       "</table>\n",
       "</div>"
      ],
      "text/plain": [
       "       Black  Brown  Red  Blond\n",
       "Eye                            \n",
       "Blue      20     84   17     94\n",
       "Brown     68    119   26      7\n",
       "Green      5     29   14     16\n",
       "Hazel     15     54   14     10"
      ]
     },
     "execution_count": 4,
     "metadata": {},
     "output_type": "execute_result"
    }
   ],
   "source": [
    "hairs = ['Black','Brown','Red','Blond']\n",
    "\n",
    "table = df.groupby(['Eye'])[hairs].sum()\n",
    "\n",
    "table.head()"
   ]
  },
  {
   "cell_type": "code",
   "execution_count": 5,
   "metadata": {},
   "outputs": [
    {
     "data": {
      "text/html": [
       "<div>\n",
       "<style scoped>\n",
       "    .dataframe tbody tr th:only-of-type {\n",
       "        vertical-align: middle;\n",
       "    }\n",
       "\n",
       "    .dataframe tbody tr th {\n",
       "        vertical-align: top;\n",
       "    }\n",
       "\n",
       "    .dataframe thead th {\n",
       "        text-align: right;\n",
       "    }\n",
       "</style>\n",
       "<table border=\"1\" class=\"dataframe\">\n",
       "  <thead>\n",
       "    <tr style=\"text-align: right;\">\n",
       "      <th></th>\n",
       "      <th>Black</th>\n",
       "      <th>Brown</th>\n",
       "      <th>Red</th>\n",
       "      <th>Blond</th>\n",
       "      <th>Marg (Eye Color)</th>\n",
       "    </tr>\n",
       "    <tr>\n",
       "      <th>Eye</th>\n",
       "      <th></th>\n",
       "      <th></th>\n",
       "      <th></th>\n",
       "      <th></th>\n",
       "      <th></th>\n",
       "    </tr>\n",
       "  </thead>\n",
       "  <tbody>\n",
       "    <tr>\n",
       "      <th>Blue</th>\n",
       "      <td>20</td>\n",
       "      <td>84</td>\n",
       "      <td>17</td>\n",
       "      <td>94</td>\n",
       "      <td>215</td>\n",
       "    </tr>\n",
       "    <tr>\n",
       "      <th>Brown</th>\n",
       "      <td>68</td>\n",
       "      <td>119</td>\n",
       "      <td>26</td>\n",
       "      <td>7</td>\n",
       "      <td>220</td>\n",
       "    </tr>\n",
       "    <tr>\n",
       "      <th>Green</th>\n",
       "      <td>5</td>\n",
       "      <td>29</td>\n",
       "      <td>14</td>\n",
       "      <td>16</td>\n",
       "      <td>64</td>\n",
       "    </tr>\n",
       "    <tr>\n",
       "      <th>Hazel</th>\n",
       "      <td>15</td>\n",
       "      <td>54</td>\n",
       "      <td>14</td>\n",
       "      <td>10</td>\n",
       "      <td>93</td>\n",
       "    </tr>\n",
       "    <tr>\n",
       "      <th>Marg (Hair Color)</th>\n",
       "      <td>108</td>\n",
       "      <td>286</td>\n",
       "      <td>71</td>\n",
       "      <td>127</td>\n",
       "      <td>592</td>\n",
       "    </tr>\n",
       "  </tbody>\n",
       "</table>\n",
       "</div>"
      ],
      "text/plain": [
       "                   Black  Brown  Red  Blond  Marg (Eye Color)\n",
       "Eye                                                          \n",
       "Blue                  20     84   17     94               215\n",
       "Brown                 68    119   26      7               220\n",
       "Green                  5     29   14     16                64\n",
       "Hazel                 15     54   14     10                93\n",
       "Marg (Hair Color)    108    286   71    127               592"
      ]
     },
     "execution_count": 5,
     "metadata": {},
     "output_type": "execute_result"
    }
   ],
   "source": [
    "#Total sum per column:\n",
    "table.loc['Marg (Hair Color)'] = table.sum(axis=0)\n",
    "\n",
    "#Total sum per row:\n",
    "table.loc[:,'Marg (Eye Color)'] = table.sum(axis=1)\n",
    "\n",
    "table"
   ]
  },
  {
   "cell_type": "code",
   "execution_count": 6,
   "metadata": {},
   "outputs": [
    {
     "name": "stdout",
     "output_type": "stream",
     "text": [
      "P(black hair|brown eyes): 0.31\n",
      "P(brown hair|brown eyes): 0.54\n",
      "P(red hair|brown eyes): 0.12\n",
      "P(bloond hair|brown eyes): 0.03\n",
      "\n",
      "Check sanity: 1.0\n"
     ]
    }
   ],
   "source": [
    "# p's(hairs)/p(brown eyes)\n",
    "\n",
    "# Total Brown Eyes: table.iloc[1][4]\n",
    "\n",
    "p_blackh_browne = table.iloc[1][0] / table.iloc[1][4]\n",
    "p_brownh_browne = table.iloc[1][1] / table.iloc[1][4]\n",
    "p_redh_browne = table.iloc[1][2] / table.iloc[1][4]\n",
    "p_bloondh_browne = table.iloc[1][3] / table.iloc[1][4]\n",
    "\n",
    "check = p_blackh_browne + p_brownh_browne + p_redh_browne + p_bloondh_browne\n",
    "\n",
    "print(f'P(black hair|brown eyes): {round(p_blackh_browne,2)}')\n",
    "print(f'P(brown hair|brown eyes): {round(p_brownh_browne,2)}')\n",
    "print(f'P(red hair|brown eyes): {round(p_redh_browne,2)}')\n",
    "print(f'P(bloond hair|brown eyes): {round(p_bloondh_browne,2)}')\n",
    "print()\n",
    "print(f'Check sanity: {round(check,2)}')"
   ]
  },
  {
   "cell_type": "code",
   "execution_count": 7,
   "metadata": {},
   "outputs": [
    {
     "name": "stdout",
     "output_type": "stream",
     "text": [
      "P(blue eyes|brown hair): 0.29\n",
      "P(brown eyes|brown hair): 0.42\n",
      "P(green eyes|brown hair): 0.1\n",
      "P(hazel eyes|brown hair): 0.19\n",
      "\n",
      "Check sanity: 1.0\n"
     ]
    }
   ],
   "source": [
    "# p's(eyes)/p(brown hair)\n",
    "\n",
    "# Total Brown Hair: table.iloc[4][1]\n",
    "\n",
    "p_bluee_brownh = table.iloc[0][1] / table.iloc[4][1]\n",
    "p_browne_brownh = table.iloc[1][1] / table.iloc[4][1]\n",
    "p_greene_brownh = table.iloc[2][1] / table.iloc[4][1]\n",
    "p_hazele_brownh = table.iloc[3][1] / table.iloc[4][1]\n",
    "\n",
    "check = p_bluee_brownh + p_browne_brownh + p_greene_brownh + p_hazele_brownh\n",
    "\n",
    "print(f'P(blue eyes|brown hair): {round(p_bluee_brownh,2)}')\n",
    "print(f'P(brown eyes|brown hair): {round(p_browne_brownh,2)}')\n",
    "print(f'P(green eyes|brown hair): {round(p_greene_brownh,2)}')\n",
    "print(f'P(hazel eyes|brown hair): {round(p_hazele_brownh,2)}')\n",
    "print()\n",
    "print(f'Check sanity: {round(check,2)}')"
   ]
  },
  {
   "cell_type": "code",
   "execution_count": 8,
   "metadata": {},
   "outputs": [
    {
     "data": {
      "text/html": [
       "<div>\n",
       "<style scoped>\n",
       "    .dataframe tbody tr th:only-of-type {\n",
       "        vertical-align: middle;\n",
       "    }\n",
       "\n",
       "    .dataframe tbody tr th {\n",
       "        vertical-align: top;\n",
       "    }\n",
       "\n",
       "    .dataframe thead th {\n",
       "        text-align: right;\n",
       "    }\n",
       "</style>\n",
       "<table border=\"1\" class=\"dataframe\">\n",
       "  <thead>\n",
       "    <tr style=\"text-align: right;\">\n",
       "      <th></th>\n",
       "      <th>Black</th>\n",
       "      <th>Brown</th>\n",
       "      <th>Red</th>\n",
       "      <th>Blond</th>\n",
       "      <th>Marg (Eye Color)</th>\n",
       "    </tr>\n",
       "    <tr>\n",
       "      <th>Eye</th>\n",
       "      <th></th>\n",
       "      <th></th>\n",
       "      <th></th>\n",
       "      <th></th>\n",
       "      <th></th>\n",
       "    </tr>\n",
       "  </thead>\n",
       "  <tbody>\n",
       "    <tr>\n",
       "      <th>Blue</th>\n",
       "      <td>0.033784</td>\n",
       "      <td>0.141892</td>\n",
       "      <td>0.028716</td>\n",
       "      <td>0.158784</td>\n",
       "      <td>0.363176</td>\n",
       "    </tr>\n",
       "    <tr>\n",
       "      <th>Brown</th>\n",
       "      <td>0.114865</td>\n",
       "      <td>0.201014</td>\n",
       "      <td>0.043919</td>\n",
       "      <td>0.011824</td>\n",
       "      <td>0.371622</td>\n",
       "    </tr>\n",
       "    <tr>\n",
       "      <th>Green</th>\n",
       "      <td>0.008446</td>\n",
       "      <td>0.048986</td>\n",
       "      <td>0.023649</td>\n",
       "      <td>0.027027</td>\n",
       "      <td>0.108108</td>\n",
       "    </tr>\n",
       "    <tr>\n",
       "      <th>Hazel</th>\n",
       "      <td>0.025338</td>\n",
       "      <td>0.091216</td>\n",
       "      <td>0.023649</td>\n",
       "      <td>0.016892</td>\n",
       "      <td>0.157095</td>\n",
       "    </tr>\n",
       "    <tr>\n",
       "      <th>Marg (Hair Color)</th>\n",
       "      <td>0.182432</td>\n",
       "      <td>0.483108</td>\n",
       "      <td>0.119932</td>\n",
       "      <td>0.214527</td>\n",
       "      <td>1.000000</td>\n",
       "    </tr>\n",
       "  </tbody>\n",
       "</table>\n",
       "</div>"
      ],
      "text/plain": [
       "                      Black     Brown       Red     Blond  Marg (Eye Color)\n",
       "Eye                                                                        \n",
       "Blue               0.033784  0.141892  0.028716  0.158784          0.363176\n",
       "Brown              0.114865  0.201014  0.043919  0.011824          0.371622\n",
       "Green              0.008446  0.048986  0.023649  0.027027          0.108108\n",
       "Hazel              0.025338  0.091216  0.023649  0.016892          0.157095\n",
       "Marg (Hair Color)  0.182432  0.483108  0.119932  0.214527          1.000000"
      ]
     },
     "execution_count": 8,
     "metadata": {},
     "output_type": "execute_result"
    }
   ],
   "source": [
    "# let's see each probability normalized\n",
    "\n",
    "table_norm = table/592\n",
    "\n",
    "table_norm"
   ]
  },
  {
   "cell_type": "markdown",
   "metadata": {},
   "source": [
    "**Exercise 4.2. Simulate a biased coin that has p(H) = 0.8. Change the\n",
    "height of the reference line in the plot to match p(H).**"
   ]
  },
  {
   "cell_type": "code",
   "execution_count": 9,
   "metadata": {},
   "outputs": [
    {
     "name": "stdout",
     "output_type": "stream",
     "text": [
      "End proportion: 0.786\n"
     ]
    },
    {
     "data": {
      "image/png": "[encoded data removed]",
      "text/plain": [
       "<Figure size 432x288 with 1 Axes>"
      ]
     },
     "metadata": {
      "needs_background": "light"
     },
     "output_type": "display_data"
    }
   ],
   "source": [
    "N = 1000\n",
    "p_head = 0.8\n",
    "\n",
    "# Generate a random sample of N flips (heads=1, tails=0):\n",
    "coin_flips = np.random.rand(N) < p_head\n",
    "\n",
    "# Compute the running proportion of heads:\n",
    "running_avarage = np.cumsum(coin_flips) / (np.arange(N) + 1)\n",
    "\n",
    "print('End proportion: {}'.format(running_avarage[-1]))\n",
    "\n",
    "# Plot\n",
    "plt.title('Running Proportion of Heads')\n",
    "plt.gca().set(xscale='log')\n",
    "plt.plot(running_avarage)\n",
    "plt.ylim(0, 1.1)\n",
    "plt.xlabel('Flip Number')\n",
    "plt.ylabel('Proportion Heads')\n",
    "\n",
    "# Plot proportion line\n",
    "plt.plot((0, N), (p_head, p_head), linestyle='dashed');"
   ]
  },
  {
   "cell_type": "markdown",
   "metadata": {},
   "source": [
    "**Exercise 4.3. Determine the exact probability of drawing a 10 from a shuffled pinochle deck. (In a pinochle deck, there are 48 cards. There are six values: 9, 10, Jack, Queen, King, Ace. There are two copies of each value in each of the standard four suits: hearts, diamonds, clubs, spades.)**\n",
    "\n",
    "    (A) What is the probability of getting a 10?\n",
    "    (B) What is the probability of getting a 10 or Jack?"
   ]
  },
  {
   "cell_type": "code",
   "execution_count": 10,
   "metadata": {},
   "outputs": [
    {
     "name": "stdout",
     "output_type": "stream",
     "text": [
      "Answer(A): 0.1667\n",
      "Answer(A): 0.3333\n"
     ]
    }
   ],
   "source": [
    "# Answer A\n",
    "\n",
    "# There are 8 cards of value 10. Total of carts is 48.\n",
    "\n",
    "a = round(8/48,4)\n",
    "\n",
    "print(f'Answer(A): {a}')\n",
    "\n",
    "# Answer B\n",
    "\n",
    "# There are 8 cards of value 10. Total of carts is 48.\n",
    "\n",
    "b = round(16/48,4)\n",
    "\n",
    "print(f'Answer(A): {b}')"
   ]
  },
  {
   "cell_type": "markdown",
   "metadata": {},
   "source": [
    "**Exercise 4.4. Consider a spinner with a [0,1] scale on its circumference. Suppose that the spinner is slanted or magnetized or bent in some way such that it is biased, and its probability density function is p(x) = 6x(1 − x) over the interval x ∈ [0, 1].**\n",
    "\n",
    "    (A) Adapt the program IntegralOfDensity.R to plot this density function and approximate its integral. Comment your code. Be careful to consider values of x only in the interval [0, 1].\n",
    "    (B) Derive the exact integral using calculus.\n",
    "    (C) Does this function satisfy Equation 4.3?\n",
    "    (D) From inspecting the graph, what is the maximal value of p(x)?"
   ]
  },
  {
   "cell_type": "code",
   "execution_count": 11,
   "metadata": {},
   "outputs": [
    {
     "data": {
      "image/png": "[encoded data removed]",
      "text/plain": [
       "<Figure size 432x288 with 1 Axes>"
      ]
     },
     "metadata": {
      "needs_background": "light"
     },
     "output_type": "display_data"
    }
   ],
   "source": [
    "# Answer (A)\n",
    "\n",
    "def p(x):\n",
    "    return 6 * x * (1 - x)\n",
    "\n",
    "dx = 0.01\n",
    "x = np.arange(0, 1, dx)\n",
    "\n",
    "plt.plot(x, p(x))\n",
    "plt.xlabel('$X$')\n",
    "plt.ylabel('$Y = 6x(1 - x)$')\n",
    "plt.title('Probability Density Function');"
   ]
  },
  {
   "cell_type": "markdown",
   "metadata": {},
   "source": [
    "Answer (B):\n",
    "\n",
    "$$\\int_{0}^{1}dx\\ 6x(1 - x) = \\int_{0}^{1}dx\\ 6x - 6x ^ 2 = 3x ^ 2 - 2x ^ 3 \\biggr\\rvert_ {0}^{1} = 3 - 2 = 1$$\n"
   ]
  },
  {
   "cell_type": "markdown",
   "metadata": {},
   "source": [
    "Answer (C):\n",
    "    \n",
    "Yes! $$\\int_{}^{}dx*p(x) = 1$$\n",
    "\n"
   ]
  },
  {
   "cell_type": "markdown",
   "metadata": {},
   "source": [
    "Answer (D):\n",
    "    \n",
    "    From the graph, it appears that the maximum density is 1.5 when x-0.5. \n",
    "    Indeed, 6*0.5*(1 - 0.5) = 1.5."
   ]
  },
  {
   "cell_type": "markdown",
   "metadata": {},
   "source": [
    "**Exercise 4.5.**\n",
    "\n",
    "    (A) Adapt the code from IntegralOfDensity.R to determine (approximately) the probability mass under the normal curve from x = μ−σ to x = μ+σ. Comment your code.\n",
    "    (B) Now use the normal curve to describe the following belief. Suppose you believe that women’s heights follow a bell-shaped distribution, centered at 162 cm with about two-thirds of all women having heights between 147 and 177 cm. What should be the μ and σ parameter values?"
   ]
  },
  {
   "cell_type": "code",
   "execution_count": 12,
   "metadata": {},
   "outputs": [
    {
     "data": {
      "image/png": "[encoded data removed]",
      "text/plain": [
       "<Figure size 432x288 with 1 Axes>"
      ]
     },
     "metadata": {
      "needs_background": "light"
     },
     "output_type": "display_data"
    }
   ],
   "source": [
    "# Answer (A)\n",
    "\n",
    "mu = 0\n",
    "alpha = 1\n",
    "norm_pdf = norm(mu, alpha).pdf\n",
    "\n",
    "dx = 0.01\n",
    "base = np.arange(-3, 3, dx)\n",
    "\n",
    "x = np.arange(-alpha, alpha, dx)\n",
    "\n",
    "plt.plot(base, norm_pdf(base))\n",
    "plt.fill_between(x, 0, norm_pdf(x), alpha=0.3)\n",
    "plt.title('Normal distribution probability density function')\n",
    "plt.xticks([-1, 0, 1], [\"$\\mu - alpha$\", \"$\\mu$\", \"$\\mu + alpha$\"])\n",
    "plt.yticks([], []);"
   ]
  },
  {
   "cell_type": "code",
   "execution_count": 13,
   "metadata": {},
   "outputs": [
    {
     "name": "stdout",
     "output_type": "stream",
     "text": [
      "Approximated integral = 0.683\n"
     ]
    }
   ],
   "source": [
    "integral = np.sum(norm_pdf(x) * dx)\n",
    "\n",
    "print('Approximated integral = {:.3}'.format(integral))"
   ]
  },
  {
   "cell_type": "markdown",
   "metadata": {},
   "source": [
    "Answer (B): If women's heights are normally distributed, centered at 162cm and with 2/3 of them between 147 and 177cm, then $\\mu = 162$ and $\\alpha = 177 - 162 = 15$."
   ]
  },
  {
   "cell_type": "markdown",
   "metadata": {},
   "source": [
    "**Exercise 4.6. School children were surveyed regarding their favorite foods. Of the total sample, 20% were 1st graders, 20% were 6th graders, and 60% were 11th graders. For each grade, the following table shows the proportion of respondents that chose each of three foods as their favorite:**\n",
    "\n",
    "|  | Ice cream | Fruit | French fries |\n",
    "| --- | --- | --- | --- |\n",
    "| 1st graders | 0.3 | 0.6 | 0.1 |\n",
    "| 6th graders | 0.6 | 0.3 | 0.1 |\n",
    "| 11th graders | 0.3 | 0.1 | 0.6 |\n",
    "\n",
    "**From that information, construct a table of joint probabilities of grade and favorite food. Also, say whether grade and favorite food are independent or not, and how you ascertained the answer. Hint: You are given p(grade) and p(food|grade). You need to determine p(grade,food).**"
   ]
  },
  {
   "cell_type": "code",
   "execution_count": 14,
   "metadata": {},
   "outputs": [
    {
     "data": {
      "text/html": [
       "<div>\n",
       "<style scoped>\n",
       "    .dataframe tbody tr th:only-of-type {\n",
       "        vertical-align: middle;\n",
       "    }\n",
       "\n",
       "    .dataframe tbody tr th {\n",
       "        vertical-align: top;\n",
       "    }\n",
       "\n",
       "    .dataframe thead th {\n",
       "        text-align: right;\n",
       "    }\n",
       "</style>\n",
       "<table border=\"1\" class=\"dataframe\">\n",
       "  <thead>\n",
       "    <tr style=\"text-align: right;\">\n",
       "      <th></th>\n",
       "      <th>ice cream</th>\n",
       "      <th>fruit</th>\n",
       "      <th>french fries</th>\n",
       "    </tr>\n",
       "  </thead>\n",
       "  <tbody>\n",
       "    <tr>\n",
       "      <th>graders1</th>\n",
       "      <td>0.3</td>\n",
       "      <td>0.6</td>\n",
       "      <td>0.1</td>\n",
       "    </tr>\n",
       "    <tr>\n",
       "      <th>graders6</th>\n",
       "      <td>0.6</td>\n",
       "      <td>0.3</td>\n",
       "      <td>0.1</td>\n",
       "    </tr>\n",
       "    <tr>\n",
       "      <th>graders11</th>\n",
       "      <td>0.3</td>\n",
       "      <td>0.1</td>\n",
       "      <td>0.6</td>\n",
       "    </tr>\n",
       "  </tbody>\n",
       "</table>\n",
       "</div>"
      ],
      "text/plain": [
       "           ice cream  fruit  french fries\n",
       "graders1         0.3    0.6           0.1\n",
       "graders6         0.6    0.3           0.1\n",
       "graders11        0.3    0.1           0.6"
      ]
     },
     "execution_count": 14,
     "metadata": {},
     "output_type": "execute_result"
    }
   ],
   "source": [
    "icecream = np.array([0.3,0.6,0.3])\n",
    "fruit = np.array([0.6,0.3,0.1])\n",
    "frenchfries = np.array([0.1,0.1,0.6])\n",
    "\n",
    "data = {'ice cream':icecream,\n",
    "        'fruit':fruit, \n",
    "        'french fries':frenchfries}\n",
    "\n",
    "favorite = pd.DataFrame(data)\n",
    "\n",
    "favorite.index = ['graders1', 'graders6', 'graders11']\n",
    "\n",
    "favorite.head()"
   ]
  },
  {
   "cell_type": "markdown",
   "metadata": {},
   "source": [
    "    p(food|grade) = p(food,grade)/p(grade)\n",
    "    \n",
    "Which implies that:\n",
    "\n",
    "    p(food,grade) = p(food|grade) * p(grade)"
   ]
  },
  {
   "cell_type": "code",
   "execution_count": 15,
   "metadata": {},
   "outputs": [
    {
     "data": {
      "text/html": [
       "<div>\n",
       "<style scoped>\n",
       "    .dataframe tbody tr th:only-of-type {\n",
       "        vertical-align: middle;\n",
       "    }\n",
       "\n",
       "    .dataframe tbody tr th {\n",
       "        vertical-align: top;\n",
       "    }\n",
       "\n",
       "    .dataframe thead th {\n",
       "        text-align: right;\n",
       "    }\n",
       "</style>\n",
       "<table border=\"1\" class=\"dataframe\">\n",
       "  <thead>\n",
       "    <tr style=\"text-align: right;\">\n",
       "      <th></th>\n",
       "      <th>ice cream</th>\n",
       "      <th>fruit</th>\n",
       "      <th>french fries</th>\n",
       "    </tr>\n",
       "  </thead>\n",
       "  <tbody>\n",
       "    <tr>\n",
       "      <th>graders1</th>\n",
       "      <td>0.06</td>\n",
       "      <td>0.12</td>\n",
       "      <td>0.02</td>\n",
       "    </tr>\n",
       "    <tr>\n",
       "      <th>graders6</th>\n",
       "      <td>0.12</td>\n",
       "      <td>0.06</td>\n",
       "      <td>0.02</td>\n",
       "    </tr>\n",
       "    <tr>\n",
       "      <th>graders11</th>\n",
       "      <td>0.18</td>\n",
       "      <td>0.06</td>\n",
       "      <td>0.36</td>\n",
       "    </tr>\n",
       "  </tbody>\n",
       "</table>\n",
       "</div>"
      ],
      "text/plain": [
       "           ice cream  fruit  french fries\n",
       "graders1        0.06   0.12          0.02\n",
       "graders6        0.12   0.06          0.02\n",
       "graders11       0.18   0.06          0.36"
      ]
     },
     "execution_count": 15,
     "metadata": {},
     "output_type": "execute_result"
    }
   ],
   "source": [
    "grades_proportions = np.array([.2, .2, .6])\n",
    "\n",
    "join_prob = favorite.mul(grades_proportions, axis=0)\n",
    "join_prob"
   ]
  },
  {
   "cell_type": "code",
   "execution_count": 16,
   "metadata": {},
   "outputs": [
    {
     "data": {
      "text/html": [
       "<div>\n",
       "<style scoped>\n",
       "    .dataframe tbody tr th:only-of-type {\n",
       "        vertical-align: middle;\n",
       "    }\n",
       "\n",
       "    .dataframe tbody tr th {\n",
       "        vertical-align: top;\n",
       "    }\n",
       "\n",
       "    .dataframe thead th {\n",
       "        text-align: right;\n",
       "    }\n",
       "</style>\n",
       "<table border=\"1\" class=\"dataframe\">\n",
       "  <thead>\n",
       "    <tr style=\"text-align: right;\">\n",
       "      <th></th>\n",
       "      <th>ice cream</th>\n",
       "      <th>fruit</th>\n",
       "      <th>french fries</th>\n",
       "      <th>Marg (grade)</th>\n",
       "    </tr>\n",
       "  </thead>\n",
       "  <tbody>\n",
       "    <tr>\n",
       "      <th>graders1</th>\n",
       "      <td>0.06</td>\n",
       "      <td>0.12</td>\n",
       "      <td>0.02</td>\n",
       "      <td>0.2</td>\n",
       "    </tr>\n",
       "    <tr>\n",
       "      <th>graders6</th>\n",
       "      <td>0.12</td>\n",
       "      <td>0.06</td>\n",
       "      <td>0.02</td>\n",
       "      <td>0.2</td>\n",
       "    </tr>\n",
       "    <tr>\n",
       "      <th>graders11</th>\n",
       "      <td>0.18</td>\n",
       "      <td>0.06</td>\n",
       "      <td>0.36</td>\n",
       "      <td>0.6</td>\n",
       "    </tr>\n",
       "    <tr>\n",
       "      <th>Marg (food)</th>\n",
       "      <td>0.36</td>\n",
       "      <td>0.24</td>\n",
       "      <td>0.40</td>\n",
       "      <td>1.0</td>\n",
       "    </tr>\n",
       "  </tbody>\n",
       "</table>\n",
       "</div>"
      ],
      "text/plain": [
       "             ice cream  fruit  french fries  Marg (grade)\n",
       "graders1          0.06   0.12          0.02           0.2\n",
       "graders6          0.12   0.06          0.02           0.2\n",
       "graders11         0.18   0.06          0.36           0.6\n",
       "Marg (food)       0.36   0.24          0.40           1.0"
      ]
     },
     "execution_count": 16,
     "metadata": {},
     "output_type": "execute_result"
    }
   ],
   "source": [
    "#Total sum per column:\n",
    "join_prob.loc['Marg (food)'] = join_prob.sum(axis=0)\n",
    "\n",
    "#Total sum per row:\n",
    "join_prob.loc[:,'Marg (grade)'] = join_prob.sum(axis=1)\n",
    "\n",
    "join_prob"
   ]
  },
  {
   "cell_type": "markdown",
   "metadata": {},
   "source": [
    "The sum of the joint probabilities across the nine cells is 1.0, as it should be."
   ]
  },
  {
   "cell_type": "code",
   "execution_count": 17,
   "metadata": {},
   "outputs": [
    {
     "name": "stdout",
     "output_type": "stream",
     "text": [
      "p(ice cream and graders1) = 0.06\n",
      "p(ice cream)*p(graders1) = 0.36*0.2 = 0.072\n"
     ]
    }
   ],
   "source": [
    "# Are independent if for all values: p(food,grade) = p(food) * p(grade)\n",
    "\n",
    "# Just one of these equations is not the same to ensure that they are \n",
    "# not independent\n",
    "\n",
    "# p(ice cream,graders1)\n",
    "p_iceand1grd = join_prob.iloc[0][0]\n",
    "\n",
    "# p(ice cream) * p(graders1)\n",
    "p_ice = join_prob.iloc[3][0]\n",
    "p_graders1 = join_prob.iloc[0][3]\n",
    "\n",
    "print(f'p(ice cream and graders1) = {p_iceand1grd}')\n",
    "print(f'p(ice cream)*p(graders1) = {p_ice}*{p_graders1} = {p_ice*p_graders1}')"
   ]
  },
  {
   "cell_type": "markdown",
   "metadata": {},
   "source": [
    "Grade and food are not independent."
   ]
  },
  {
   "cell_type": "code",
   "execution_count": 18,
   "metadata": {},
   "outputs": [],
   "source": [
    "# Obs: Another way to construct a DataFrame\n",
    "\n",
    "matrix = [[.3, .6, .1],\n",
    "          [.6, .3, .1],\n",
    "          [.3, .1, .6]]\n",
    "\n",
    "df = pd.DataFrame(matrix, columns=['IceCream', 'Fruit', 'FrenchFries'], \n",
    "                  index=['1st', '6th', '11th'])"
   ]
  }
 ],
 "metadata": {
  "kernelspec": {
   "display_name": "Python 3",
   "language": "python",
   "name": "python3"
  },
  "language_info": {
   "codemirror_mode": {
    "name": "ipython",
    "version": 3
   },
   "file_extension": ".py",
   "mimetype": "text/x-python",
   "name": "python",
   "nbconvert_exporter": "python",
   "pygments_lexer": "ipython3",
   "version": "3.8.5"
  }
 },
 "nbformat": 4,
 "nbformat_minor": 4
}
