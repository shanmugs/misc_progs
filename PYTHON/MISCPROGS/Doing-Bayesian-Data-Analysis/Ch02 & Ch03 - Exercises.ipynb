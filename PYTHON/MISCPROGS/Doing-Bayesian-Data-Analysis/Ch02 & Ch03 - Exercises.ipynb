{
 "cells": [
  {
   "cell_type": "markdown",
   "metadata": {},
   "source": [
    "<img src=\"images/puppies.png\"/>"
   ]
  },
  {
   "cell_type": "markdown",
   "metadata": {},
   "source": [
    "# Chapter 02"
   ]
  },
  {
   "cell_type": "markdown",
   "metadata": {},
   "source": [
    "**Exercise 2.1.Suppose we have a four-sided die from a board game. On a tetrahedral die, each face is an equilateral triangle. When you roll the die, it lands with one face down and the other three faces visible as a three-sided pyramid. The faces are numbered 1-4, with the value of the bottom face printed (as clustered dots) at the bottom edges of all three visible faces. Denote the value of the bottom face as x. Consider the following three mathematical descriptions of the probabilities of x.**\n",
    "\n",
    "    Model A: p(x) = 1/4\n",
    "    Model B: p(x) = x/10 \n",
    "    Model C: p(x) = 12/(25x) \n",
    "    \n",
    "**For each model, determine the value of p(x) for each value of x. Describe in words what kind of bias (or lack of bias) is expressed by each model.**"
   ]
  },
  {
   "cell_type": "code",
   "execution_count": 1,
   "metadata": {},
   "outputs": [],
   "source": [
    "import random\n",
    "import numpy as np"
   ]
  },
  {
   "cell_type": "code",
   "execution_count": 2,
   "metadata": {},
   "outputs": [
    {
     "name": "stdout",
     "output_type": "stream",
     "text": [
      "---Model A---\n",
      "1.0  :  0.25\n",
      "2.0  :  0.25\n",
      "3.0  :  0.25\n",
      "4.0  :  0.25\n",
      "\n",
      "---Model B---\n",
      "1.0  :  0.1\n",
      "2.0  :  0.2\n",
      "3.0  :  0.3\n",
      "4.0  :  0.4\n",
      "\n",
      "---Model C---\n",
      "1.0  :  0.48\n",
      "2.0  :  0.24\n",
      "3.0  :  0.16\n",
      "4.0  :  0.12\n"
     ]
    }
   ],
   "source": [
    "population = [1,2,3,4]\n",
    "\n",
    "tossesA = np.array([])\n",
    "tossesB = np.array([])\n",
    "tossesC = np.array([])\n",
    "\n",
    "####### Model A\n",
    "for i in range(0,100000):\n",
    "    tossA = random.choices(population, weights=(0.25, 0.25, 0.25, 0.25))\n",
    "    tossesA = np.append(tossesA,tossA)\n",
    "\n",
    "unique, counts = np.unique(tossesA, return_counts=True)\n",
    "\n",
    "booka = dict(zip(unique, counts/len(tossesA)))\n",
    "\n",
    "print('---Model A---')\n",
    "for keya, valuea in booka.items():\n",
    "    print(keya, ' : ', round(valuea,2))\n",
    "    \n",
    "print()    \n",
    "    \n",
    "####### Model B\n",
    "for i in range(0,100000):\n",
    "    tossB = random.choices(population, weights=(1/10, 2/10, 3/10, 4/10))\n",
    "    tossesB = np.append(tossesB,tossB)\n",
    "\n",
    "unique, counts = np.unique(tossesB, return_counts=True)\n",
    "\n",
    "bookb = dict(zip(unique, counts/len(tossesB)))\n",
    "\n",
    "print('---Model B---')\n",
    "for keyb, valueb in bookb.items():\n",
    "    print(keyb, ' : ', round(valueb,2))\n",
    "    \n",
    "print()    \n",
    "    \n",
    "####### Model C\n",
    "for i in range(0,100000):\n",
    "    tossC = random.choices(population, weights=(12/25, 12/50, 12/75, 12/100))\n",
    "    tossesC = np.append(tossesC,tossC)\n",
    "\n",
    "unique, counts = np.unique(tossesC, return_counts=True)\n",
    "\n",
    "bookc = dict(zip(unique, counts/len(tossesC)))\n",
    "\n",
    "print('---Model C---')\n",
    "for keyc, valuec in bookc.items():\n",
    "    print(keyc, ' : ', round(valuec,2))"
   ]
  },
  {
   "cell_type": "markdown",
   "metadata": {},
   "source": [
    "**Answer:**\n",
    "    \n",
    "    Model A: p(x) = 1/4\n",
    "\n",
    "The interpretation of this model is that it has no bias; each side of the tetrahedral die (4-sided) are equally likely to land face down.\n",
    "\n",
    "    Model B: p(x) = x/10\n",
    "\n",
    "This model is biased towards larger numbers on the die. The higher the number, the more probable it is to be rolled.\n",
    "    \n",
    "    Model C: p(x) = 12/25*x\n",
    "\n",
    "This model is biased towards smaller numbers on the die. The lower the number, the more probable it is to be rolled."
   ]
  },
  {
   "cell_type": "markdown",
   "metadata": {},
   "source": [
    "**Suppose we have the tetrahedral die introduced in the previous exercise, along with the three candidate models of the die’s probabilities. Suppose that initially, we are not sure what to believe about the die. On the one hand, the die might be fair, with each face landing with the same probability. On the other hand, the die might be biased, with the faces that have more dots landing down more often (because the dots are created by embedding heavy jewels in the die, so that the sides with more dots are more likely to land on the bottom). On yet another hand, the die might bebiased such that more dots on a face make it less likely to land down (because maybe the dots are bouncy rubber or protrude from the surface). So, initially, our beliefs about the three models can be described as p(A) = p(B) = p(C) = 1/3. Now we roll the die 100 times and find these results: #1’s = 25, #2’s = 25, #3’s = 25, #4’s = 25. Do these data change our beliefs about the models? Which model now seems most likely? Suppose when we rolled the die 100 times we found these results: #1’s = 48, #2’s = 24,#3’s = 16, #4’s = 12. Now which model seems most likely?**"
   ]
  },
  {
   "cell_type": "markdown",
   "metadata": {},
   "source": [
    "**Answer:** Keeping with the same models from before with the tetrahedral die, and presume we start out thinking that each model is equally credible. p(A) = p(B) = p(C) = 1/3.\n",
    "\n",
    "What happens when we introduce data of 100 rolls, and each side is rolled face down, 25 times? What is the most credible model then? Probably Model A, where we posited p(x) = 1/4.\n",
    "\n",
    "What if we rolled the die 100 times but found these results instead: #1's = 48, #2's = 24, #3's = 16, #4's = 12. With this new data introduced, Model C appears most credible as smaller numbers appear to be rolled more frequently, as represented by Model C p(x) = 12 / 25x."
   ]
  },
  {
   "cell_type": "markdown",
   "metadata": {},
   "source": [
    "# Chapter 03"
   ]
  },
  {
   "cell_type": "code",
   "execution_count": 3,
   "metadata": {},
   "outputs": [],
   "source": [
    "import matplotlib.pyplot as plt\n",
    "import numpy as np\n",
    "plt.style.use('seaborn-darkgrid')"
   ]
  },
  {
   "cell_type": "markdown",
   "metadata": {},
   "source": [
    "**Exercise 3.1.Plot a Quadratic Function.**"
   ]
  },
  {
   "cell_type": "code",
   "execution_count": 4,
   "metadata": {},
   "outputs": [
    {
     "data": {
      "image/png": "[encoded data removed]",
      "text/plain": [
       "<Figure size 432x288 with 1 Axes>"
      ]
     },
     "metadata": {},
     "output_type": "display_data"
    }
   ],
   "source": [
    "x = np.linspace(-2, 2, 40)\n",
    "y = x**2\n",
    "\n",
    "plt.plot(x, y)\n",
    "plt.show()\n",
    "#plt.savefig('Figure_2.2.png')"
   ]
  },
  {
   "cell_type": "markdown",
   "metadata": {},
   "source": [
    "**Exercise 3.2.Plot a Cubic Function.**"
   ]
  },
  {
   "cell_type": "code",
   "execution_count": 5,
   "metadata": {},
   "outputs": [
    {
     "data": {
      "image/png": "[encoded data removed]",
      "text/plain": [
       "<Figure size 432x288 with 1 Axes>"
      ]
     },
     "metadata": {},
     "output_type": "display_data"
    }
   ],
   "source": [
    "x = np.linspace(-3, 3, 100)\n",
    "y = x ** 3\n",
    "\n",
    "plt.plot(x, y)\n",
    "plt.xlabel('$x$')\n",
    "plt.ylabel('$y = x ^ 3$')\n",
    "plt.title('Cubic Function');"
   ]
  }
 ],
 "metadata": {
  "kernelspec": {
   "display_name": "Python 3",
   "language": "python",
   "name": "python3"
  },
  "language_info": {
   "codemirror_mode": {
    "name": "ipython",
    "version": 3
   },
   "file_extension": ".py",
   "mimetype": "text/x-python",
   "name": "python",
   "nbconvert_exporter": "python",
   "pygments_lexer": "ipython3",
   "version": "3.8.5"
  }
 },
 "nbformat": 4,
 "nbformat_minor": 4
}
