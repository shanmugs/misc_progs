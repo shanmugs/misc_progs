{
 "cells": [
  {
   "cell_type": "markdown",
   "metadata": {},
   "source": [
    "## Foundations of Data Analysis 1 - Week 6 - Worldwide Trends in Internet Usage"
   ]
  },
  {
   "cell_type": "markdown",
   "metadata": {},
   "source": [
    "![title](images/week16.jpg)"
   ]
  },
  {
   "cell_type": "markdown",
   "metadata": {},
   "source": [
    "The World Bank is a data collection of information on all the world’s countries. Data is collected by country, and include items such as total population, CO2 emissions, and the number of mobile device subscriptions. We will examine some of the trends in this dataset and interpret the parameters of the fitted models to best describe the change over time."
   ]
  },
  {
   "cell_type": "markdown",
   "metadata": {},
   "source": [
    "**What model best describes the first decade of internet usage (1990-1999) in the United States? Which model is a better long-term fit?**"
   ]
  },
  {
   "cell_type": "code",
   "execution_count": 1,
   "metadata": {},
   "outputs": [
    {
     "data": {
      "text/html": [
       "<table>\n",
       "<caption>A data.frame: 6 × 14</caption>\n",
       "<thead>\n",
       "\t<tr><th></th><th scope=col>Country</th><th scope=col>Country.Code</th><th scope=col>year</th><th scope=col>Region</th><th scope=col>IncomeGroup</th><th scope=col>population</th><th scope=col>rural.population</th><th scope=col>hiv.cases</th><th scope=col>san.access</th><th scope=col>motor.vehicles</th><th scope=col>gas.price</th><th scope=col>co2.emission</th><th scope=col>mobile.users</th><th scope=col>internet.users</th></tr>\n",
       "\t<tr><th></th><th scope=col>&lt;fct&gt;</th><th scope=col>&lt;fct&gt;</th><th scope=col>&lt;int&gt;</th><th scope=col>&lt;fct&gt;</th><th scope=col>&lt;fct&gt;</th><th scope=col>&lt;dbl&gt;</th><th scope=col>&lt;dbl&gt;</th><th scope=col>&lt;int&gt;</th><th scope=col>&lt;dbl&gt;</th><th scope=col>&lt;int&gt;</th><th scope=col>&lt;dbl&gt;</th><th scope=col>&lt;dbl&gt;</th><th scope=col>&lt;dbl&gt;</th><th scope=col>&lt;dbl&gt;</th></tr>\n",
       "</thead>\n",
       "<tbody>\n",
       "\t<tr><th scope=row>1</th><td>Aruba</td><td>ABW</td><td>1960</td><td>Latin America &amp; Caribbean</td><td>High income</td><td>54208</td><td>26683</td><td>NA</td><td>NA</td><td>NA</td><td>NA</td><td>NA</td><td> 0</td><td>NA</td></tr>\n",
       "\t<tr><th scope=row>2</th><td>Aruba</td><td>ABW</td><td>1961</td><td>Latin America &amp; Caribbean</td><td>High income</td><td>55435</td><td>27296</td><td>NA</td><td>NA</td><td>NA</td><td>NA</td><td>NA</td><td>NA</td><td>NA</td></tr>\n",
       "\t<tr><th scope=row>3</th><td>Aruba</td><td>ABW</td><td>1962</td><td>Latin America &amp; Caribbean</td><td>High income</td><td>56226</td><td>27694</td><td>NA</td><td>NA</td><td>NA</td><td>NA</td><td>NA</td><td>NA</td><td>NA</td></tr>\n",
       "\t<tr><th scope=row>4</th><td>Aruba</td><td>ABW</td><td>1963</td><td>Latin America &amp; Caribbean</td><td>High income</td><td>56697</td><td>27934</td><td>NA</td><td>NA</td><td>NA</td><td>NA</td><td>NA</td><td>NA</td><td>NA</td></tr>\n",
       "\t<tr><th scope=row>5</th><td>Aruba</td><td>ABW</td><td>1964</td><td>Latin America &amp; Caribbean</td><td>High income</td><td>57029</td><td>28107</td><td>NA</td><td>NA</td><td>NA</td><td>NA</td><td>NA</td><td>NA</td><td>NA</td></tr>\n",
       "\t<tr><th scope=row>6</th><td>Aruba</td><td>ABW</td><td>1965</td><td>Latin America &amp; Caribbean</td><td>High income</td><td>57360</td><td>28278</td><td>NA</td><td>NA</td><td>NA</td><td>NA</td><td>NA</td><td> 0</td><td>NA</td></tr>\n",
       "</tbody>\n",
       "</table>\n"
      ],
      "text/latex": [
       "A data.frame: 6 × 14\n",
       "\\begin{tabular}{r|llllllllllllll}\n",
       "  & Country & Country.Code & year & Region & IncomeGroup & population & rural.population & hiv.cases & san.access & motor.vehicles & gas.price & co2.emission & mobile.users & internet.users\\\\\n",
       "  & <fct> & <fct> & <int> & <fct> & <fct> & <dbl> & <dbl> & <int> & <dbl> & <int> & <dbl> & <dbl> & <dbl> & <dbl>\\\\\n",
       "\\hline\n",
       "\t1 & Aruba & ABW & 1960 & Latin America \\& Caribbean & High income & 54208 & 26683 & NA & NA & NA & NA & NA &  0 & NA\\\\\n",
       "\t2 & Aruba & ABW & 1961 & Latin America \\& Caribbean & High income & 55435 & 27296 & NA & NA & NA & NA & NA & NA & NA\\\\\n",
       "\t3 & Aruba & ABW & 1962 & Latin America \\& Caribbean & High income & 56226 & 27694 & NA & NA & NA & NA & NA & NA & NA\\\\\n",
       "\t4 & Aruba & ABW & 1963 & Latin America \\& Caribbean & High income & 56697 & 27934 & NA & NA & NA & NA & NA & NA & NA\\\\\n",
       "\t5 & Aruba & ABW & 1964 & Latin America \\& Caribbean & High income & 57029 & 28107 & NA & NA & NA & NA & NA & NA & NA\\\\\n",
       "\t6 & Aruba & ABW & 1965 & Latin America \\& Caribbean & High income & 57360 & 28278 & NA & NA & NA & NA & NA &  0 & NA\\\\\n",
       "\\end{tabular}\n"
      ],
      "text/markdown": [
       "\n",
       "A data.frame: 6 × 14\n",
       "\n",
       "| <!--/--> | Country &lt;fct&gt; | Country.Code &lt;fct&gt; | year &lt;int&gt; | Region &lt;fct&gt; | IncomeGroup &lt;fct&gt; | population &lt;dbl&gt; | rural.population &lt;dbl&gt; | hiv.cases &lt;int&gt; | san.access &lt;dbl&gt; | motor.vehicles &lt;int&gt; | gas.price &lt;dbl&gt; | co2.emission &lt;dbl&gt; | mobile.users &lt;dbl&gt; | internet.users &lt;dbl&gt; |\n",
       "|---|---|---|---|---|---|---|---|---|---|---|---|---|---|---|\n",
       "| 1 | Aruba | ABW | 1960 | Latin America &amp; Caribbean | High income | 54208 | 26683 | NA | NA | NA | NA | NA |  0 | NA |\n",
       "| 2 | Aruba | ABW | 1961 | Latin America &amp; Caribbean | High income | 55435 | 27296 | NA | NA | NA | NA | NA | NA | NA |\n",
       "| 3 | Aruba | ABW | 1962 | Latin America &amp; Caribbean | High income | 56226 | 27694 | NA | NA | NA | NA | NA | NA | NA |\n",
       "| 4 | Aruba | ABW | 1963 | Latin America &amp; Caribbean | High income | 56697 | 27934 | NA | NA | NA | NA | NA | NA | NA |\n",
       "| 5 | Aruba | ABW | 1964 | Latin America &amp; Caribbean | High income | 57029 | 28107 | NA | NA | NA | NA | NA | NA | NA |\n",
       "| 6 | Aruba | ABW | 1965 | Latin America &amp; Caribbean | High income | 57360 | 28278 | NA | NA | NA | NA | NA |  0 | NA |\n",
       "\n"
      ],
      "text/plain": [
       "  Country Country.Code year Region                    IncomeGroup population\n",
       "1 Aruba   ABW          1960 Latin America & Caribbean High income 54208     \n",
       "2 Aruba   ABW          1961 Latin America & Caribbean High income 55435     \n",
       "3 Aruba   ABW          1962 Latin America & Caribbean High income 56226     \n",
       "4 Aruba   ABW          1963 Latin America & Caribbean High income 56697     \n",
       "5 Aruba   ABW          1964 Latin America & Caribbean High income 57029     \n",
       "6 Aruba   ABW          1965 Latin America & Caribbean High income 57360     \n",
       "  rural.population hiv.cases san.access motor.vehicles gas.price co2.emission\n",
       "1 26683            NA        NA         NA             NA        NA          \n",
       "2 27296            NA        NA         NA             NA        NA          \n",
       "3 27694            NA        NA         NA             NA        NA          \n",
       "4 27934            NA        NA         NA             NA        NA          \n",
       "5 28107            NA        NA         NA             NA        NA          \n",
       "6 28278            NA        NA         NA             NA        NA          \n",
       "  mobile.users internet.users\n",
       "1  0           NA            \n",
       "2 NA           NA            \n",
       "3 NA           NA            \n",
       "4 NA           NA            \n",
       "5 NA           NA            \n",
       "6  0           NA            "
      ]
     },
     "metadata": {},
     "output_type": "display_data"
    }
   ],
   "source": [
    "world <- read.csv(\"data/WorldBankData.csv\")\n",
    "head(world)"
   ]
  },
  {
   "cell_type": "code",
   "execution_count": 2,
   "metadata": {
    "scrolled": true
   },
   "outputs": [
    {
     "name": "stdout",
     "output_type": "stream",
     "text": [
      "'data.frame':\t13303 obs. of  14 variables:\n",
      " $ Country         : Factor w/ 251 levels \"Afghanistan\",..: 11 11 11 11 11 11 11 11 11 11 ...\n",
      " $ Country.Code    : Factor w/ 251 levels \"ABW\",\"AFG\",\"AGO\",..: 1 1 1 1 1 1 1 1 1 1 ...\n",
      " $ year            : int  1960 1961 1962 1963 1964 1965 1966 1967 1968 1969 ...\n",
      " $ Region          : Factor w/ 8 levels \"\",\"East Asia & Pacific\",..: 4 4 4 4 4 4 4 4 4 4 ...\n",
      " $ IncomeGroup     : Factor w/ 5 levels \"\",\"High income\",..: 2 2 2 2 2 2 2 2 2 2 ...\n",
      " $ population      : num  54208 55435 56226 56697 57029 ...\n",
      " $ rural.population: num  26683 27296 27694 27934 28107 ...\n",
      " $ hiv.cases       : int  NA NA NA NA NA NA NA NA NA NA ...\n",
      " $ san.access      : num  NA NA NA NA NA NA NA NA NA NA ...\n",
      " $ motor.vehicles  : int  NA NA NA NA NA NA NA NA NA NA ...\n",
      " $ gas.price       : num  NA NA NA NA NA NA NA NA NA NA ...\n",
      " $ co2.emission    : num  NA NA NA NA NA NA NA NA NA NA ...\n",
      " $ mobile.users    : num  0 NA NA NA NA 0 NA NA NA NA ...\n",
      " $ internet.users  : num  NA NA NA NA NA NA NA NA NA NA ...\n"
     ]
    }
   ],
   "source": [
    "str(world)"
   ]
  },
  {
   "cell_type": "markdown",
   "metadata": {},
   "source": [
    "**What is the first “Low Income” country in the dataset?**"
   ]
  },
  {
   "cell_type": "code",
   "execution_count": 3,
   "metadata": {},
   "outputs": [
    {
     "data": {
      "text/plain": [
       "\n",
       "                            High income          Low income Lower middle income \n",
       "               1961                3975                1908                2544 \n",
       "Upper middle income \n",
       "               2915 "
      ]
     },
     "metadata": {},
     "output_type": "display_data"
    }
   ],
   "source": [
    "worincome <- table(world$IncomeGroup)\n",
    "worincome"
   ]
  },
  {
   "cell_type": "code",
   "execution_count": 4,
   "metadata": {},
   "outputs": [
    {
     "data": {
      "text/html": [
       "<table>\n",
       "<caption>A data.frame: 6 × 14</caption>\n",
       "<thead>\n",
       "\t<tr><th></th><th scope=col>Country</th><th scope=col>Country.Code</th><th scope=col>year</th><th scope=col>Region</th><th scope=col>IncomeGroup</th><th scope=col>population</th><th scope=col>rural.population</th><th scope=col>hiv.cases</th><th scope=col>san.access</th><th scope=col>motor.vehicles</th><th scope=col>gas.price</th><th scope=col>co2.emission</th><th scope=col>mobile.users</th><th scope=col>internet.users</th></tr>\n",
       "\t<tr><th></th><th scope=col>&lt;fct&gt;</th><th scope=col>&lt;fct&gt;</th><th scope=col>&lt;int&gt;</th><th scope=col>&lt;fct&gt;</th><th scope=col>&lt;fct&gt;</th><th scope=col>&lt;dbl&gt;</th><th scope=col>&lt;dbl&gt;</th><th scope=col>&lt;int&gt;</th><th scope=col>&lt;dbl&gt;</th><th scope=col>&lt;int&gt;</th><th scope=col>&lt;dbl&gt;</th><th scope=col>&lt;dbl&gt;</th><th scope=col>&lt;dbl&gt;</th><th scope=col>&lt;dbl&gt;</th></tr>\n",
       "</thead>\n",
       "<tbody>\n",
       "\t<tr><th scope=row>54</th><td>Afghanistan</td><td>AFG</td><td>1960</td><td>South Asia</td><td>Low income</td><td>8774440</td><td>8073099</td><td>NA</td><td>NA</td><td>NA</td><td>NA</td><td> 414.371</td><td> 0</td><td>NA</td></tr>\n",
       "\t<tr><th scope=row>55</th><td>Afghanistan</td><td>AFG</td><td>1961</td><td>South Asia</td><td>Low income</td><td>8953544</td><td>8213534</td><td>NA</td><td>NA</td><td>NA</td><td>NA</td><td> 491.378</td><td>NA</td><td>NA</td></tr>\n",
       "\t<tr><th scope=row>56</th><td>Afghanistan</td><td>AFG</td><td>1962</td><td>South Asia</td><td>Low income</td><td>9141783</td><td>8361349</td><td>NA</td><td>NA</td><td>NA</td><td>NA</td><td> 689.396</td><td>NA</td><td>NA</td></tr>\n",
       "\t<tr><th scope=row>57</th><td>Afghanistan</td><td>AFG</td><td>1963</td><td>South Asia</td><td>Low income</td><td>9339507</td><td>8516790</td><td>NA</td><td>NA</td><td>NA</td><td>NA</td><td> 707.731</td><td>NA</td><td>NA</td></tr>\n",
       "\t<tr><th scope=row>58</th><td>Afghanistan</td><td>AFG</td><td>1964</td><td>South Asia</td><td>Low income</td><td>9547131</td><td>8680156</td><td>NA</td><td>NA</td><td>NA</td><td>NA</td><td> 839.743</td><td>NA</td><td>NA</td></tr>\n",
       "\t<tr><th scope=row>59</th><td>Afghanistan</td><td>AFG</td><td>1965</td><td>South Asia</td><td>Low income</td><td>9765015</td><td>8851693</td><td>NA</td><td>NA</td><td>NA</td><td>NA</td><td>1008.425</td><td> 0</td><td>NA</td></tr>\n",
       "</tbody>\n",
       "</table>\n"
      ],
      "text/latex": [
       "A data.frame: 6 × 14\n",
       "\\begin{tabular}{r|llllllllllllll}\n",
       "  & Country & Country.Code & year & Region & IncomeGroup & population & rural.population & hiv.cases & san.access & motor.vehicles & gas.price & co2.emission & mobile.users & internet.users\\\\\n",
       "  & <fct> & <fct> & <int> & <fct> & <fct> & <dbl> & <dbl> & <int> & <dbl> & <int> & <dbl> & <dbl> & <dbl> & <dbl>\\\\\n",
       "\\hline\n",
       "\t54 & Afghanistan & AFG & 1960 & South Asia & Low income & 8774440 & 8073099 & NA & NA & NA & NA &  414.371 &  0 & NA\\\\\n",
       "\t55 & Afghanistan & AFG & 1961 & South Asia & Low income & 8953544 & 8213534 & NA & NA & NA & NA &  491.378 & NA & NA\\\\\n",
       "\t56 & Afghanistan & AFG & 1962 & South Asia & Low income & 9141783 & 8361349 & NA & NA & NA & NA &  689.396 & NA & NA\\\\\n",
       "\t57 & Afghanistan & AFG & 1963 & South Asia & Low income & 9339507 & 8516790 & NA & NA & NA & NA &  707.731 & NA & NA\\\\\n",
       "\t58 & Afghanistan & AFG & 1964 & South Asia & Low income & 9547131 & 8680156 & NA & NA & NA & NA &  839.743 & NA & NA\\\\\n",
       "\t59 & Afghanistan & AFG & 1965 & South Asia & Low income & 9765015 & 8851693 & NA & NA & NA & NA & 1008.425 &  0 & NA\\\\\n",
       "\\end{tabular}\n"
      ],
      "text/markdown": [
       "\n",
       "A data.frame: 6 × 14\n",
       "\n",
       "| <!--/--> | Country &lt;fct&gt; | Country.Code &lt;fct&gt; | year &lt;int&gt; | Region &lt;fct&gt; | IncomeGroup &lt;fct&gt; | population &lt;dbl&gt; | rural.population &lt;dbl&gt; | hiv.cases &lt;int&gt; | san.access &lt;dbl&gt; | motor.vehicles &lt;int&gt; | gas.price &lt;dbl&gt; | co2.emission &lt;dbl&gt; | mobile.users &lt;dbl&gt; | internet.users &lt;dbl&gt; |\n",
       "|---|---|---|---|---|---|---|---|---|---|---|---|---|---|---|\n",
       "| 54 | Afghanistan | AFG | 1960 | South Asia | Low income | 8774440 | 8073099 | NA | NA | NA | NA |  414.371 |  0 | NA |\n",
       "| 55 | Afghanistan | AFG | 1961 | South Asia | Low income | 8953544 | 8213534 | NA | NA | NA | NA |  491.378 | NA | NA |\n",
       "| 56 | Afghanistan | AFG | 1962 | South Asia | Low income | 9141783 | 8361349 | NA | NA | NA | NA |  689.396 | NA | NA |\n",
       "| 57 | Afghanistan | AFG | 1963 | South Asia | Low income | 9339507 | 8516790 | NA | NA | NA | NA |  707.731 | NA | NA |\n",
       "| 58 | Afghanistan | AFG | 1964 | South Asia | Low income | 9547131 | 8680156 | NA | NA | NA | NA |  839.743 | NA | NA |\n",
       "| 59 | Afghanistan | AFG | 1965 | South Asia | Low income | 9765015 | 8851693 | NA | NA | NA | NA | 1008.425 |  0 | NA |\n",
       "\n"
      ],
      "text/plain": [
       "   Country     Country.Code year Region     IncomeGroup population\n",
       "54 Afghanistan AFG          1960 South Asia Low income  8774440   \n",
       "55 Afghanistan AFG          1961 South Asia Low income  8953544   \n",
       "56 Afghanistan AFG          1962 South Asia Low income  9141783   \n",
       "57 Afghanistan AFG          1963 South Asia Low income  9339507   \n",
       "58 Afghanistan AFG          1964 South Asia Low income  9547131   \n",
       "59 Afghanistan AFG          1965 South Asia Low income  9765015   \n",
       "   rural.population hiv.cases san.access motor.vehicles gas.price co2.emission\n",
       "54 8073099          NA        NA         NA             NA         414.371    \n",
       "55 8213534          NA        NA         NA             NA         491.378    \n",
       "56 8361349          NA        NA         NA             NA         689.396    \n",
       "57 8516790          NA        NA         NA             NA         707.731    \n",
       "58 8680156          NA        NA         NA             NA         839.743    \n",
       "59 8851693          NA        NA         NA             NA        1008.425    \n",
       "   mobile.users internet.users\n",
       "54  0           NA            \n",
       "55 NA           NA            \n",
       "56 NA           NA            \n",
       "57 NA           NA            \n",
       "58 NA           NA            \n",
       "59  0           NA            "
      ]
     },
     "metadata": {},
     "output_type": "display_data"
    }
   ],
   "source": [
    "worldlow <-world[world$IncomeGroup == \"Low income\",]\n",
    "head(worldlow)"
   ]
  },
  {
   "cell_type": "markdown",
   "metadata": {},
   "source": [
    "**What was the rural population of Aruba in 1970?**"
   ]
  },
  {
   "cell_type": "code",
   "execution_count": 5,
   "metadata": {},
   "outputs": [
    {
     "data": {
      "text/html": [
       "11"
      ],
      "text/latex": [
       "11"
      ],
      "text/markdown": [
       "11"
      ],
      "text/plain": [
       "[1] 11"
      ]
     },
     "metadata": {},
     "output_type": "display_data"
    }
   ],
   "source": [
    "which(world$Country == \"Aruba\" & world$year == 1970)"
   ]
  },
  {
   "cell_type": "code",
   "execution_count": 6,
   "metadata": {},
   "outputs": [
    {
     "data": {
      "text/html": [
       "<table>\n",
       "<caption>A data.frame: 1 × 14</caption>\n",
       "<thead>\n",
       "\t<tr><th></th><th scope=col>Country</th><th scope=col>Country.Code</th><th scope=col>year</th><th scope=col>Region</th><th scope=col>IncomeGroup</th><th scope=col>population</th><th scope=col>rural.population</th><th scope=col>hiv.cases</th><th scope=col>san.access</th><th scope=col>motor.vehicles</th><th scope=col>gas.price</th><th scope=col>co2.emission</th><th scope=col>mobile.users</th><th scope=col>internet.users</th></tr>\n",
       "\t<tr><th></th><th scope=col>&lt;fct&gt;</th><th scope=col>&lt;fct&gt;</th><th scope=col>&lt;int&gt;</th><th scope=col>&lt;fct&gt;</th><th scope=col>&lt;fct&gt;</th><th scope=col>&lt;dbl&gt;</th><th scope=col>&lt;dbl&gt;</th><th scope=col>&lt;int&gt;</th><th scope=col>&lt;dbl&gt;</th><th scope=col>&lt;int&gt;</th><th scope=col>&lt;dbl&gt;</th><th scope=col>&lt;dbl&gt;</th><th scope=col>&lt;dbl&gt;</th><th scope=col>&lt;dbl&gt;</th></tr>\n",
       "</thead>\n",
       "<tbody>\n",
       "\t<tr><th scope=row>11</th><td>Aruba</td><td>ABW</td><td>1970</td><td>Latin America &amp; Caribbean</td><td>High income</td><td>59065</td><td>29164</td><td>NA</td><td>NA</td><td>NA</td><td>NA</td><td>NA</td><td>0</td><td>NA</td></tr>\n",
       "</tbody>\n",
       "</table>\n"
      ],
      "text/latex": [
       "A data.frame: 1 × 14\n",
       "\\begin{tabular}{r|llllllllllllll}\n",
       "  & Country & Country.Code & year & Region & IncomeGroup & population & rural.population & hiv.cases & san.access & motor.vehicles & gas.price & co2.emission & mobile.users & internet.users\\\\\n",
       "  & <fct> & <fct> & <int> & <fct> & <fct> & <dbl> & <dbl> & <int> & <dbl> & <int> & <dbl> & <dbl> & <dbl> & <dbl>\\\\\n",
       "\\hline\n",
       "\t11 & Aruba & ABW & 1970 & Latin America \\& Caribbean & High income & 59065 & 29164 & NA & NA & NA & NA & NA & 0 & NA\\\\\n",
       "\\end{tabular}\n"
      ],
      "text/markdown": [
       "\n",
       "A data.frame: 1 × 14\n",
       "\n",
       "| <!--/--> | Country &lt;fct&gt; | Country.Code &lt;fct&gt; | year &lt;int&gt; | Region &lt;fct&gt; | IncomeGroup &lt;fct&gt; | population &lt;dbl&gt; | rural.population &lt;dbl&gt; | hiv.cases &lt;int&gt; | san.access &lt;dbl&gt; | motor.vehicles &lt;int&gt; | gas.price &lt;dbl&gt; | co2.emission &lt;dbl&gt; | mobile.users &lt;dbl&gt; | internet.users &lt;dbl&gt; |\n",
       "|---|---|---|---|---|---|---|---|---|---|---|---|---|---|---|\n",
       "| 11 | Aruba | ABW | 1970 | Latin America &amp; Caribbean | High income | 59065 | 29164 | NA | NA | NA | NA | NA | 0 | NA |\n",
       "\n"
      ],
      "text/plain": [
       "   Country Country.Code year Region                    IncomeGroup population\n",
       "11 Aruba   ABW          1970 Latin America & Caribbean High income 59065     \n",
       "   rural.population hiv.cases san.access motor.vehicles gas.price co2.emission\n",
       "11 29164            NA        NA         NA             NA        NA          \n",
       "   mobile.users internet.users\n",
       "11 0            NA            "
      ]
     },
     "metadata": {},
     "output_type": "display_data"
    }
   ],
   "source": [
    "world[11,]"
   ]
  },
  {
   "cell_type": "markdown",
   "metadata": {},
   "source": [
    "**When was the first year Australia had data on the number of mobile device subscriptions?**"
   ]
  },
  {
   "cell_type": "code",
   "execution_count": 7,
   "metadata": {},
   "outputs": [
    {
     "data": {
      "text/html": [
       "<table>\n",
       "<caption>A data.frame: 6 × 14</caption>\n",
       "<thead>\n",
       "\t<tr><th></th><th scope=col>Country</th><th scope=col>Country.Code</th><th scope=col>year</th><th scope=col>Region</th><th scope=col>IncomeGroup</th><th scope=col>population</th><th scope=col>rural.population</th><th scope=col>hiv.cases</th><th scope=col>san.access</th><th scope=col>motor.vehicles</th><th scope=col>gas.price</th><th scope=col>co2.emission</th><th scope=col>mobile.users</th><th scope=col>internet.users</th></tr>\n",
       "\t<tr><th></th><th scope=col>&lt;fct&gt;</th><th scope=col>&lt;fct&gt;</th><th scope=col>&lt;int&gt;</th><th scope=col>&lt;fct&gt;</th><th scope=col>&lt;fct&gt;</th><th scope=col>&lt;dbl&gt;</th><th scope=col>&lt;dbl&gt;</th><th scope=col>&lt;int&gt;</th><th scope=col>&lt;dbl&gt;</th><th scope=col>&lt;int&gt;</th><th scope=col>&lt;dbl&gt;</th><th scope=col>&lt;dbl&gt;</th><th scope=col>&lt;dbl&gt;</th><th scope=col>&lt;dbl&gt;</th></tr>\n",
       "</thead>\n",
       "<tbody>\n",
       "\t<tr><th scope=row>NA.9</th><td>NA       </td><td>NA </td><td>  NA</td><td>NA                 </td><td>NA         </td><td>      NA</td><td>     NA</td><td>NA</td><td>NA</td><td>NA</td><td>NA</td><td>      NA</td><td>   NA</td><td>NA</td></tr>\n",
       "\t<tr><th scope=row>NA.10</th><td>NA       </td><td>NA </td><td>  NA</td><td>NA                 </td><td>NA         </td><td>      NA</td><td>     NA</td><td>NA</td><td>NA</td><td>NA</td><td>NA</td><td>      NA</td><td>   NA</td><td>NA</td></tr>\n",
       "\t<tr><th scope=row>NA.11</th><td>NA       </td><td>NA </td><td>  NA</td><td>NA                 </td><td>NA         </td><td>      NA</td><td>     NA</td><td>NA</td><td>NA</td><td>NA</td><td>NA</td><td>      NA</td><td>   NA</td><td>NA</td></tr>\n",
       "\t<tr><th scope=row>611</th><td>Australia</td><td>AUS</td><td>1987</td><td>East Asia &amp; Pacific</td><td>High income</td><td>16263900</td><td>2368674</td><td>NA</td><td>NA</td><td>NA</td><td>NA</td><td>256106.9</td><td> 4409</td><td>NA</td></tr>\n",
       "\t<tr><th scope=row>612</th><td>Australia</td><td>AUS</td><td>1988</td><td>East Asia &amp; Pacific</td><td>High income</td><td>16532200</td><td>2409733</td><td>NA</td><td>NA</td><td>NA</td><td>NA</td><td>261145.4</td><td>31516</td><td>NA</td></tr>\n",
       "\t<tr><th scope=row>613</th><td>Australia</td><td>AUS</td><td>1989</td><td>East Asia &amp; Pacific</td><td>High income</td><td>16814400</td><td>2452885</td><td>NA</td><td>NA</td><td>NA</td><td>NA</td><td>277771.6</td><td>94323</td><td>NA</td></tr>\n",
       "</tbody>\n",
       "</table>\n"
      ],
      "text/latex": [
       "A data.frame: 6 × 14\n",
       "\\begin{tabular}{r|llllllllllllll}\n",
       "  & Country & Country.Code & year & Region & IncomeGroup & population & rural.population & hiv.cases & san.access & motor.vehicles & gas.price & co2.emission & mobile.users & internet.users\\\\\n",
       "  & <fct> & <fct> & <int> & <fct> & <fct> & <dbl> & <dbl> & <int> & <dbl> & <int> & <dbl> & <dbl> & <dbl> & <dbl>\\\\\n",
       "\\hline\n",
       "\tNA.9 & NA        & NA  &   NA & NA                  & NA          &       NA &      NA & NA & NA & NA & NA &       NA &    NA & NA\\\\\n",
       "\tNA.10 & NA        & NA  &   NA & NA                  & NA          &       NA &      NA & NA & NA & NA & NA &       NA &    NA & NA\\\\\n",
       "\tNA.11 & NA        & NA  &   NA & NA                  & NA          &       NA &      NA & NA & NA & NA & NA &       NA &    NA & NA\\\\\n",
       "\t611 & Australia & AUS & 1987 & East Asia \\& Pacific & High income & 16263900 & 2368674 & NA & NA & NA & NA & 256106.9 &  4409 & NA\\\\\n",
       "\t612 & Australia & AUS & 1988 & East Asia \\& Pacific & High income & 16532200 & 2409733 & NA & NA & NA & NA & 261145.4 & 31516 & NA\\\\\n",
       "\t613 & Australia & AUS & 1989 & East Asia \\& Pacific & High income & 16814400 & 2452885 & NA & NA & NA & NA & 277771.6 & 94323 & NA\\\\\n",
       "\\end{tabular}\n"
      ],
      "text/markdown": [
       "\n",
       "A data.frame: 6 × 14\n",
       "\n",
       "| <!--/--> | Country &lt;fct&gt; | Country.Code &lt;fct&gt; | year &lt;int&gt; | Region &lt;fct&gt; | IncomeGroup &lt;fct&gt; | population &lt;dbl&gt; | rural.population &lt;dbl&gt; | hiv.cases &lt;int&gt; | san.access &lt;dbl&gt; | motor.vehicles &lt;int&gt; | gas.price &lt;dbl&gt; | co2.emission &lt;dbl&gt; | mobile.users &lt;dbl&gt; | internet.users &lt;dbl&gt; |\n",
       "|---|---|---|---|---|---|---|---|---|---|---|---|---|---|---|\n",
       "| NA.9 | NA        | NA  |   NA | NA                  | NA          |       NA |      NA | NA | NA | NA | NA |       NA |    NA | NA |\n",
       "| NA.10 | NA        | NA  |   NA | NA                  | NA          |       NA |      NA | NA | NA | NA | NA |       NA |    NA | NA |\n",
       "| NA.11 | NA        | NA  |   NA | NA                  | NA          |       NA |      NA | NA | NA | NA | NA |       NA |    NA | NA |\n",
       "| 611 | Australia | AUS | 1987 | East Asia &amp; Pacific | High income | 16263900 | 2368674 | NA | NA | NA | NA | 256106.9 |  4409 | NA |\n",
       "| 612 | Australia | AUS | 1988 | East Asia &amp; Pacific | High income | 16532200 | 2409733 | NA | NA | NA | NA | 261145.4 | 31516 | NA |\n",
       "| 613 | Australia | AUS | 1989 | East Asia &amp; Pacific | High income | 16814400 | 2452885 | NA | NA | NA | NA | 277771.6 | 94323 | NA |\n",
       "\n"
      ],
      "text/plain": [
       "      Country   Country.Code year Region              IncomeGroup population\n",
       "NA.9  NA        NA             NA NA                  NA                NA  \n",
       "NA.10 NA        NA             NA NA                  NA                NA  \n",
       "NA.11 NA        NA             NA NA                  NA                NA  \n",
       "611   Australia AUS          1987 East Asia & Pacific High income 16263900  \n",
       "612   Australia AUS          1988 East Asia & Pacific High income 16532200  \n",
       "613   Australia AUS          1989 East Asia & Pacific High income 16814400  \n",
       "      rural.population hiv.cases san.access motor.vehicles gas.price\n",
       "NA.9       NA          NA        NA         NA             NA       \n",
       "NA.10      NA          NA        NA         NA             NA       \n",
       "NA.11      NA          NA        NA         NA             NA       \n",
       "611   2368674          NA        NA         NA             NA       \n",
       "612   2409733          NA        NA         NA             NA       \n",
       "613   2452885          NA        NA         NA             NA       \n",
       "      co2.emission mobile.users internet.users\n",
       "NA.9        NA        NA        NA            \n",
       "NA.10       NA        NA        NA            \n",
       "NA.11       NA        NA        NA            \n",
       "611   256106.9      4409        NA            \n",
       "612   261145.4     31516        NA            \n",
       "613   277771.6     94323        NA            "
      ]
     },
     "metadata": {},
     "output_type": "display_data"
    }
   ],
   "source": [
    "Australia <-world[world$Country == \"Australia\",]\n",
    "numberaust <-Australia[Australia$mobile.users > 0,]\n",
    "numberaust[10:15,]"
   ]
  },
  {
   "cell_type": "markdown",
   "metadata": {},
   "source": [
    "## Prepare for the Analysis"
   ]
  },
  {
   "cell_type": "markdown",
   "metadata": {},
   "source": [
    "Create a subset of the dataset that contains only the information for the United States."
   ]
  },
  {
   "cell_type": "code",
   "execution_count": 8,
   "metadata": {},
   "outputs": [
    {
     "data": {
      "text/html": [
       "<table>\n",
       "<caption>A data.frame: 6 × 14</caption>\n",
       "<thead>\n",
       "\t<tr><th></th><th scope=col>Country</th><th scope=col>Country.Code</th><th scope=col>year</th><th scope=col>Region</th><th scope=col>IncomeGroup</th><th scope=col>population</th><th scope=col>rural.population</th><th scope=col>hiv.cases</th><th scope=col>san.access</th><th scope=col>motor.vehicles</th><th scope=col>gas.price</th><th scope=col>co2.emission</th><th scope=col>mobile.users</th><th scope=col>internet.users</th></tr>\n",
       "\t<tr><th></th><th scope=col>&lt;fct&gt;</th><th scope=col>&lt;fct&gt;</th><th scope=col>&lt;int&gt;</th><th scope=col>&lt;fct&gt;</th><th scope=col>&lt;fct&gt;</th><th scope=col>&lt;dbl&gt;</th><th scope=col>&lt;dbl&gt;</th><th scope=col>&lt;int&gt;</th><th scope=col>&lt;dbl&gt;</th><th scope=col>&lt;int&gt;</th><th scope=col>&lt;dbl&gt;</th><th scope=col>&lt;dbl&gt;</th><th scope=col>&lt;dbl&gt;</th><th scope=col>&lt;dbl&gt;</th></tr>\n",
       "</thead>\n",
       "<tbody>\n",
       "\t<tr><th scope=row>12615</th><td>United States</td><td>USA</td><td>1960</td><td>North America</td><td>High income</td><td>180671000</td><td>54208527</td><td>NA</td><td>NA</td><td>NA</td><td>NA</td><td>2890696</td><td> 0</td><td>NA</td></tr>\n",
       "\t<tr><th scope=row>12616</th><td>United States</td><td>USA</td><td>1961</td><td>North America</td><td>High income</td><td>183691000</td><td>54422867</td><td>NA</td><td>NA</td><td>NA</td><td>NA</td><td>2880506</td><td>NA</td><td>NA</td></tr>\n",
       "\t<tr><th scope=row>12617</th><td>United States</td><td>USA</td><td>1962</td><td>North America</td><td>High income</td><td>186538000</td><td>54563857</td><td>NA</td><td>NA</td><td>NA</td><td>NA</td><td>2987208</td><td>NA</td><td>NA</td></tr>\n",
       "\t<tr><th scope=row>12618</th><td>United States</td><td>USA</td><td>1963</td><td>North America</td><td>High income</td><td>189242000</td><td>54642114</td><td>NA</td><td>NA</td><td>NA</td><td>NA</td><td>3119231</td><td>NA</td><td>NA</td></tr>\n",
       "\t<tr><th scope=row>12619</th><td>United States</td><td>USA</td><td>1964</td><td>North America</td><td>High income</td><td>191889000</td><td>54683760</td><td>NA</td><td>NA</td><td>NA</td><td>NA</td><td>3255995</td><td>NA</td><td>NA</td></tr>\n",
       "\t<tr><th scope=row>12620</th><td>United States</td><td>USA</td><td>1965</td><td>North America</td><td>High income</td><td>194303000</td><td>54639947</td><td>NA</td><td>NA</td><td>NA</td><td>NA</td><td>3390923</td><td> 0</td><td>NA</td></tr>\n",
       "</tbody>\n",
       "</table>\n"
      ],
      "text/latex": [
       "A data.frame: 6 × 14\n",
       "\\begin{tabular}{r|llllllllllllll}\n",
       "  & Country & Country.Code & year & Region & IncomeGroup & population & rural.population & hiv.cases & san.access & motor.vehicles & gas.price & co2.emission & mobile.users & internet.users\\\\\n",
       "  & <fct> & <fct> & <int> & <fct> & <fct> & <dbl> & <dbl> & <int> & <dbl> & <int> & <dbl> & <dbl> & <dbl> & <dbl>\\\\\n",
       "\\hline\n",
       "\t12615 & United States & USA & 1960 & North America & High income & 180671000 & 54208527 & NA & NA & NA & NA & 2890696 &  0 & NA\\\\\n",
       "\t12616 & United States & USA & 1961 & North America & High income & 183691000 & 54422867 & NA & NA & NA & NA & 2880506 & NA & NA\\\\\n",
       "\t12617 & United States & USA & 1962 & North America & High income & 186538000 & 54563857 & NA & NA & NA & NA & 2987208 & NA & NA\\\\\n",
       "\t12618 & United States & USA & 1963 & North America & High income & 189242000 & 54642114 & NA & NA & NA & NA & 3119231 & NA & NA\\\\\n",
       "\t12619 & United States & USA & 1964 & North America & High income & 191889000 & 54683760 & NA & NA & NA & NA & 3255995 & NA & NA\\\\\n",
       "\t12620 & United States & USA & 1965 & North America & High income & 194303000 & 54639947 & NA & NA & NA & NA & 3390923 &  0 & NA\\\\\n",
       "\\end{tabular}\n"
      ],
      "text/markdown": [
       "\n",
       "A data.frame: 6 × 14\n",
       "\n",
       "| <!--/--> | Country &lt;fct&gt; | Country.Code &lt;fct&gt; | year &lt;int&gt; | Region &lt;fct&gt; | IncomeGroup &lt;fct&gt; | population &lt;dbl&gt; | rural.population &lt;dbl&gt; | hiv.cases &lt;int&gt; | san.access &lt;dbl&gt; | motor.vehicles &lt;int&gt; | gas.price &lt;dbl&gt; | co2.emission &lt;dbl&gt; | mobile.users &lt;dbl&gt; | internet.users &lt;dbl&gt; |\n",
       "|---|---|---|---|---|---|---|---|---|---|---|---|---|---|---|\n",
       "| 12615 | United States | USA | 1960 | North America | High income | 180671000 | 54208527 | NA | NA | NA | NA | 2890696 |  0 | NA |\n",
       "| 12616 | United States | USA | 1961 | North America | High income | 183691000 | 54422867 | NA | NA | NA | NA | 2880506 | NA | NA |\n",
       "| 12617 | United States | USA | 1962 | North America | High income | 186538000 | 54563857 | NA | NA | NA | NA | 2987208 | NA | NA |\n",
       "| 12618 | United States | USA | 1963 | North America | High income | 189242000 | 54642114 | NA | NA | NA | NA | 3119231 | NA | NA |\n",
       "| 12619 | United States | USA | 1964 | North America | High income | 191889000 | 54683760 | NA | NA | NA | NA | 3255995 | NA | NA |\n",
       "| 12620 | United States | USA | 1965 | North America | High income | 194303000 | 54639947 | NA | NA | NA | NA | 3390923 |  0 | NA |\n",
       "\n"
      ],
      "text/plain": [
       "      Country       Country.Code year Region        IncomeGroup population\n",
       "12615 United States USA          1960 North America High income 180671000 \n",
       "12616 United States USA          1961 North America High income 183691000 \n",
       "12617 United States USA          1962 North America High income 186538000 \n",
       "12618 United States USA          1963 North America High income 189242000 \n",
       "12619 United States USA          1964 North America High income 191889000 \n",
       "12620 United States USA          1965 North America High income 194303000 \n",
       "      rural.population hiv.cases san.access motor.vehicles gas.price\n",
       "12615 54208527         NA        NA         NA             NA       \n",
       "12616 54422867         NA        NA         NA             NA       \n",
       "12617 54563857         NA        NA         NA             NA       \n",
       "12618 54642114         NA        NA         NA             NA       \n",
       "12619 54683760         NA        NA         NA             NA       \n",
       "12620 54639947         NA        NA         NA             NA       \n",
       "      co2.emission mobile.users internet.users\n",
       "12615 2890696       0           NA            \n",
       "12616 2880506      NA           NA            \n",
       "12617 2987208      NA           NA            \n",
       "12618 3119231      NA           NA            \n",
       "12619 3255995      NA           NA            \n",
       "12620 3390923       0           NA            "
      ]
     },
     "metadata": {},
     "output_type": "display_data"
    }
   ],
   "source": [
    "us <- world[world$Country.Code == \"USA\",]\n",
    "head(us)"
   ]
  },
  {
   "cell_type": "markdown",
   "metadata": {},
   "source": [
    "Create a subset that contains only the USA data for the years 1990 and beyond ."
   ]
  },
  {
   "cell_type": "code",
   "execution_count": 9,
   "metadata": {},
   "outputs": [
    {
     "data": {
      "text/html": [
       "<table>\n",
       "<caption>A data.frame: 6 × 14</caption>\n",
       "<thead>\n",
       "\t<tr><th></th><th scope=col>Country</th><th scope=col>Country.Code</th><th scope=col>year</th><th scope=col>Region</th><th scope=col>IncomeGroup</th><th scope=col>population</th><th scope=col>rural.population</th><th scope=col>hiv.cases</th><th scope=col>san.access</th><th scope=col>motor.vehicles</th><th scope=col>gas.price</th><th scope=col>co2.emission</th><th scope=col>mobile.users</th><th scope=col>internet.users</th></tr>\n",
       "\t<tr><th></th><th scope=col>&lt;fct&gt;</th><th scope=col>&lt;fct&gt;</th><th scope=col>&lt;int&gt;</th><th scope=col>&lt;fct&gt;</th><th scope=col>&lt;fct&gt;</th><th scope=col>&lt;dbl&gt;</th><th scope=col>&lt;dbl&gt;</th><th scope=col>&lt;int&gt;</th><th scope=col>&lt;dbl&gt;</th><th scope=col>&lt;int&gt;</th><th scope=col>&lt;dbl&gt;</th><th scope=col>&lt;dbl&gt;</th><th scope=col>&lt;dbl&gt;</th><th scope=col>&lt;dbl&gt;</th></tr>\n",
       "</thead>\n",
       "<tbody>\n",
       "\t<tr><th scope=row>12645</th><td>United States</td><td>USA</td><td>1990</td><td>North America</td><td>High income</td><td>249623000</td><td>61656881</td><td>NA</td><td>248382203</td><td>NA</td><td>  NA</td><td>4768138</td><td> 5181680</td><td> 1958863</td></tr>\n",
       "\t<tr><th scope=row>12646</th><td>United States</td><td>USA</td><td>1991</td><td>North America</td><td>High income</td><td>252981000</td><td>61499681</td><td>NA</td><td>       NA</td><td>NA</td><td>  NA</td><td>4826703</td><td> 7436741</td><td> 2942659</td></tr>\n",
       "\t<tr><th scope=row>12647</th><td>United States</td><td>USA</td><td>1992</td><td>North America</td><td>High income</td><td>256514000</td><td>61358149</td><td>NA</td><td>       NA</td><td>NA</td><td>0.32</td><td>4922196</td><td>10899406</td><td> 4422821</td></tr>\n",
       "\t<tr><th scope=row>12648</th><td>United States</td><td>USA</td><td>1993</td><td>North America</td><td>High income</td><td>259919000</td><td>61158941</td><td>NA</td><td>       NA</td><td>NA</td><td>  NA</td><td>5029767</td><td>15864719</td><td> 5904511</td></tr>\n",
       "\t<tr><th scope=row>12649</th><td>United States</td><td>USA</td><td>1994</td><td>North America</td><td>High income</td><td>263126000</td><td>60887356</td><td>NA</td><td>       NA</td><td>NA</td><td>  NA</td><td>5121560</td><td>23957416</td><td>12795240</td></tr>\n",
       "\t<tr><th scope=row>12650</th><td>United States</td><td>USA</td><td>1995</td><td>North America</td><td>High income</td><td>266278000</td><td>60578245</td><td>NA</td><td>265291863</td><td>NA</td><td>0.34</td><td>5156169</td><td>33563609</td><td>24596334</td></tr>\n",
       "</tbody>\n",
       "</table>\n"
      ],
      "text/latex": [
       "A data.frame: 6 × 14\n",
       "\\begin{tabular}{r|llllllllllllll}\n",
       "  & Country & Country.Code & year & Region & IncomeGroup & population & rural.population & hiv.cases & san.access & motor.vehicles & gas.price & co2.emission & mobile.users & internet.users\\\\\n",
       "  & <fct> & <fct> & <int> & <fct> & <fct> & <dbl> & <dbl> & <int> & <dbl> & <int> & <dbl> & <dbl> & <dbl> & <dbl>\\\\\n",
       "\\hline\n",
       "\t12645 & United States & USA & 1990 & North America & High income & 249623000 & 61656881 & NA & 248382203 & NA &   NA & 4768138 &  5181680 &  1958863\\\\\n",
       "\t12646 & United States & USA & 1991 & North America & High income & 252981000 & 61499681 & NA &        NA & NA &   NA & 4826703 &  7436741 &  2942659\\\\\n",
       "\t12647 & United States & USA & 1992 & North America & High income & 256514000 & 61358149 & NA &        NA & NA & 0.32 & 4922196 & 10899406 &  4422821\\\\\n",
       "\t12648 & United States & USA & 1993 & North America & High income & 259919000 & 61158941 & NA &        NA & NA &   NA & 5029767 & 15864719 &  5904511\\\\\n",
       "\t12649 & United States & USA & 1994 & North America & High income & 263126000 & 60887356 & NA &        NA & NA &   NA & 5121560 & 23957416 & 12795240\\\\\n",
       "\t12650 & United States & USA & 1995 & North America & High income & 266278000 & 60578245 & NA & 265291863 & NA & 0.34 & 5156169 & 33563609 & 24596334\\\\\n",
       "\\end{tabular}\n"
      ],
      "text/markdown": [
       "\n",
       "A data.frame: 6 × 14\n",
       "\n",
       "| <!--/--> | Country &lt;fct&gt; | Country.Code &lt;fct&gt; | year &lt;int&gt; | Region &lt;fct&gt; | IncomeGroup &lt;fct&gt; | population &lt;dbl&gt; | rural.population &lt;dbl&gt; | hiv.cases &lt;int&gt; | san.access &lt;dbl&gt; | motor.vehicles &lt;int&gt; | gas.price &lt;dbl&gt; | co2.emission &lt;dbl&gt; | mobile.users &lt;dbl&gt; | internet.users &lt;dbl&gt; |\n",
       "|---|---|---|---|---|---|---|---|---|---|---|---|---|---|---|\n",
       "| 12645 | United States | USA | 1990 | North America | High income | 249623000 | 61656881 | NA | 248382203 | NA |   NA | 4768138 |  5181680 |  1958863 |\n",
       "| 12646 | United States | USA | 1991 | North America | High income | 252981000 | 61499681 | NA |        NA | NA |   NA | 4826703 |  7436741 |  2942659 |\n",
       "| 12647 | United States | USA | 1992 | North America | High income | 256514000 | 61358149 | NA |        NA | NA | 0.32 | 4922196 | 10899406 |  4422821 |\n",
       "| 12648 | United States | USA | 1993 | North America | High income | 259919000 | 61158941 | NA |        NA | NA |   NA | 5029767 | 15864719 |  5904511 |\n",
       "| 12649 | United States | USA | 1994 | North America | High income | 263126000 | 60887356 | NA |        NA | NA |   NA | 5121560 | 23957416 | 12795240 |\n",
       "| 12650 | United States | USA | 1995 | North America | High income | 266278000 | 60578245 | NA | 265291863 | NA | 0.34 | 5156169 | 33563609 | 24596334 |\n",
       "\n"
      ],
      "text/plain": [
       "      Country       Country.Code year Region        IncomeGroup population\n",
       "12645 United States USA          1990 North America High income 249623000 \n",
       "12646 United States USA          1991 North America High income 252981000 \n",
       "12647 United States USA          1992 North America High income 256514000 \n",
       "12648 United States USA          1993 North America High income 259919000 \n",
       "12649 United States USA          1994 North America High income 263126000 \n",
       "12650 United States USA          1995 North America High income 266278000 \n",
       "      rural.population hiv.cases san.access motor.vehicles gas.price\n",
       "12645 61656881         NA        248382203  NA               NA     \n",
       "12646 61499681         NA               NA  NA               NA     \n",
       "12647 61358149         NA               NA  NA             0.32     \n",
       "12648 61158941         NA               NA  NA               NA     \n",
       "12649 60887356         NA               NA  NA               NA     \n",
       "12650 60578245         NA        265291863  NA             0.34     \n",
       "      co2.emission mobile.users internet.users\n",
       "12645 4768138       5181680      1958863      \n",
       "12646 4826703       7436741      2942659      \n",
       "12647 4922196      10899406      4422821      \n",
       "12648 5029767      15864719      5904511      \n",
       "12649 5121560      23957416     12795240      \n",
       "12650 5156169      33563609     24596334      "
      ]
     },
     "metadata": {},
     "output_type": "display_data"
    }
   ],
   "source": [
    "us_select <- us[us$year >= 1990, ]\n",
    "head(us_select)"
   ]
  },
  {
   "cell_type": "markdown",
   "metadata": {},
   "source": [
    "Create a new variable in our datset called internet.mil to make the number of users more interpretable (into millions)."
   ]
  },
  {
   "cell_type": "code",
   "execution_count": 10,
   "metadata": {},
   "outputs": [
    {
     "data": {
      "text/html": [
       "<style>\n",
       ".list-inline {list-style: none; margin:0; padding: 0}\n",
       ".list-inline>li {display: inline-block}\n",
       ".list-inline>li:not(:last-child)::after {content: \"\\00b7\"; padding: 0 .5ex}\n",
       "</style>\n",
       "<ol class=list-inline><li>1.958863</li><li>2.942659</li><li>4.422821</li><li>5.904511</li><li>12.79524</li><li>24.596334</li></ol>\n"
      ],
      "text/latex": [
       "\\begin{enumerate*}\n",
       "\\item 1.958863\n",
       "\\item 2.942659\n",
       "\\item 4.422821\n",
       "\\item 5.904511\n",
       "\\item 12.79524\n",
       "\\item 24.596334\n",
       "\\end{enumerate*}\n"
      ],
      "text/markdown": [
       "1. 1.958863\n",
       "2. 2.942659\n",
       "3. 4.422821\n",
       "4. 5.904511\n",
       "5. 12.79524\n",
       "6. 24.596334\n",
       "\n",
       "\n"
      ],
      "text/plain": [
       "[1]  1.958863  2.942659  4.422821  5.904511 12.795240 24.596334"
      ]
     },
     "metadata": {},
     "output_type": "display_data"
    }
   ],
   "source": [
    "us_select$internet.mil <- us_select$internet.users / 1000000\n",
    "head(us_select$internet.mil)"
   ]
  },
  {
   "cell_type": "markdown",
   "metadata": {},
   "source": [
    "Create a new variable in our dataset called time that represents \"years since 1990\"."
   ]
  },
  {
   "cell_type": "code",
   "execution_count": 11,
   "metadata": {},
   "outputs": [
    {
     "data": {
      "text/html": [
       "<style>\n",
       ".list-inline {list-style: none; margin:0; padding: 0}\n",
       ".list-inline>li {display: inline-block}\n",
       ".list-inline>li:not(:last-child)::after {content: \"\\00b7\"; padding: 0 .5ex}\n",
       "</style>\n",
       "<ol class=list-inline><li>0</li><li>1</li><li>2</li><li>3</li><li>4</li><li>5</li></ol>\n"
      ],
      "text/latex": [
       "\\begin{enumerate*}\n",
       "\\item 0\n",
       "\\item 1\n",
       "\\item 2\n",
       "\\item 3\n",
       "\\item 4\n",
       "\\item 5\n",
       "\\end{enumerate*}\n"
      ],
      "text/markdown": [
       "1. 0\n",
       "2. 1\n",
       "3. 2\n",
       "4. 3\n",
       "5. 4\n",
       "6. 5\n",
       "\n",
       "\n"
      ],
      "text/plain": [
       "[1] 0 1 2 3 4 5"
      ]
     },
     "metadata": {},
     "output_type": "display_data"
    }
   ],
   "source": [
    "us_select$time <- us_select$year - 1990\n",
    "head(us_select$time)"
   ]
  },
  {
   "cell_type": "markdown",
   "metadata": {},
   "source": [
    "Select the first 10 years (from 1990 to 1999) and name the new data frame \"us_select_10\"​."
   ]
  },
  {
   "cell_type": "code",
   "execution_count": 12,
   "metadata": {},
   "outputs": [
    {
     "data": {
      "text/html": [
       "<table>\n",
       "<caption>A data.frame: 10 × 16</caption>\n",
       "<thead>\n",
       "\t<tr><th></th><th scope=col>Country</th><th scope=col>Country.Code</th><th scope=col>year</th><th scope=col>Region</th><th scope=col>IncomeGroup</th><th scope=col>population</th><th scope=col>rural.population</th><th scope=col>hiv.cases</th><th scope=col>san.access</th><th scope=col>motor.vehicles</th><th scope=col>gas.price</th><th scope=col>co2.emission</th><th scope=col>mobile.users</th><th scope=col>internet.users</th><th scope=col>internet.mil</th><th scope=col>time</th></tr>\n",
       "\t<tr><th></th><th scope=col>&lt;fct&gt;</th><th scope=col>&lt;fct&gt;</th><th scope=col>&lt;int&gt;</th><th scope=col>&lt;fct&gt;</th><th scope=col>&lt;fct&gt;</th><th scope=col>&lt;dbl&gt;</th><th scope=col>&lt;dbl&gt;</th><th scope=col>&lt;int&gt;</th><th scope=col>&lt;dbl&gt;</th><th scope=col>&lt;int&gt;</th><th scope=col>&lt;dbl&gt;</th><th scope=col>&lt;dbl&gt;</th><th scope=col>&lt;dbl&gt;</th><th scope=col>&lt;dbl&gt;</th><th scope=col>&lt;dbl&gt;</th><th scope=col>&lt;dbl&gt;</th></tr>\n",
       "</thead>\n",
       "<tbody>\n",
       "\t<tr><th scope=row>12645</th><td>United States</td><td>USA</td><td>1990</td><td>North America</td><td>High income</td><td>249623000</td><td>61656881</td><td>NA</td><td>248382203</td><td>NA</td><td>  NA</td><td>4768138</td><td> 5181680</td><td>  1958863</td><td>  1.958863</td><td>0</td></tr>\n",
       "\t<tr><th scope=row>12646</th><td>United States</td><td>USA</td><td>1991</td><td>North America</td><td>High income</td><td>252981000</td><td>61499681</td><td>NA</td><td>       NA</td><td>NA</td><td>  NA</td><td>4826703</td><td> 7436741</td><td>  2942659</td><td>  2.942659</td><td>1</td></tr>\n",
       "\t<tr><th scope=row>12647</th><td>United States</td><td>USA</td><td>1992</td><td>North America</td><td>High income</td><td>256514000</td><td>61358149</td><td>NA</td><td>       NA</td><td>NA</td><td>0.32</td><td>4922196</td><td>10899406</td><td>  4422821</td><td>  4.422821</td><td>2</td></tr>\n",
       "\t<tr><th scope=row>12648</th><td>United States</td><td>USA</td><td>1993</td><td>North America</td><td>High income</td><td>259919000</td><td>61158941</td><td>NA</td><td>       NA</td><td>NA</td><td>  NA</td><td>5029767</td><td>15864719</td><td>  5904511</td><td>  5.904511</td><td>3</td></tr>\n",
       "\t<tr><th scope=row>12649</th><td>United States</td><td>USA</td><td>1994</td><td>North America</td><td>High income</td><td>263126000</td><td>60887356</td><td>NA</td><td>       NA</td><td>NA</td><td>  NA</td><td>5121560</td><td>23957416</td><td> 12795240</td><td> 12.795240</td><td>4</td></tr>\n",
       "\t<tr><th scope=row>12650</th><td>United States</td><td>USA</td><td>1995</td><td>North America</td><td>High income</td><td>266278000</td><td>60578245</td><td>NA</td><td>265291863</td><td>NA</td><td>0.34</td><td>5156169</td><td>33563609</td><td> 24596334</td><td> 24.596334</td><td>5</td></tr>\n",
       "\t<tr><th scope=row>12651</th><td>United States</td><td>USA</td><td>1996</td><td>North America</td><td>High income</td><td>269394000</td><td>60296304</td><td>NA</td><td>       NA</td><td>NA</td><td>  NA</td><td>5286047</td><td>43744608</td><td> 44232752</td><td> 44.232752</td><td>6</td></tr>\n",
       "\t<tr><th scope=row>12652</th><td>United States</td><td>USA</td><td>1997</td><td>North America</td><td>High income</td><td>272657000</td><td>60023803</td><td>NA</td><td>       NA</td><td>NA</td><td>  NA</td><td>5419441</td><td>54919622</td><td> 58938630</td><td> 58.938630</td><td>7</td></tr>\n",
       "\t<tr><th scope=row>12653</th><td>United States</td><td>USA</td><td>1998</td><td>North America</td><td>High income</td><td>275854000</td><td>59713012</td><td>NA</td><td>       NA</td><td>NA</td><td>0.32</td><td>5456093</td><td>68661825</td><td> 83013287</td><td> 83.013287</td><td>8</td></tr>\n",
       "\t<tr><th scope=row>12654</th><td>United States</td><td>USA</td><td>1999</td><td>North America</td><td>High income</td><td>279040000</td><td>59376364</td><td>NA</td><td>       NA</td><td>NA</td><td>  NA</td><td>5531692</td><td>85319558</td><td>100032281</td><td>100.032281</td><td>9</td></tr>\n",
       "</tbody>\n",
       "</table>\n"
      ],
      "text/latex": [
       "A data.frame: 10 × 16\n",
       "\\begin{tabular}{r|llllllllllllllll}\n",
       "  & Country & Country.Code & year & Region & IncomeGroup & population & rural.population & hiv.cases & san.access & motor.vehicles & gas.price & co2.emission & mobile.users & internet.users & internet.mil & time\\\\\n",
       "  & <fct> & <fct> & <int> & <fct> & <fct> & <dbl> & <dbl> & <int> & <dbl> & <int> & <dbl> & <dbl> & <dbl> & <dbl> & <dbl> & <dbl>\\\\\n",
       "\\hline\n",
       "\t12645 & United States & USA & 1990 & North America & High income & 249623000 & 61656881 & NA & 248382203 & NA &   NA & 4768138 &  5181680 &   1958863 &   1.958863 & 0\\\\\n",
       "\t12646 & United States & USA & 1991 & North America & High income & 252981000 & 61499681 & NA &        NA & NA &   NA & 4826703 &  7436741 &   2942659 &   2.942659 & 1\\\\\n",
       "\t12647 & United States & USA & 1992 & North America & High income & 256514000 & 61358149 & NA &        NA & NA & 0.32 & 4922196 & 10899406 &   4422821 &   4.422821 & 2\\\\\n",
       "\t12648 & United States & USA & 1993 & North America & High income & 259919000 & 61158941 & NA &        NA & NA &   NA & 5029767 & 15864719 &   5904511 &   5.904511 & 3\\\\\n",
       "\t12649 & United States & USA & 1994 & North America & High income & 263126000 & 60887356 & NA &        NA & NA &   NA & 5121560 & 23957416 &  12795240 &  12.795240 & 4\\\\\n",
       "\t12650 & United States & USA & 1995 & North America & High income & 266278000 & 60578245 & NA & 265291863 & NA & 0.34 & 5156169 & 33563609 &  24596334 &  24.596334 & 5\\\\\n",
       "\t12651 & United States & USA & 1996 & North America & High income & 269394000 & 60296304 & NA &        NA & NA &   NA & 5286047 & 43744608 &  44232752 &  44.232752 & 6\\\\\n",
       "\t12652 & United States & USA & 1997 & North America & High income & 272657000 & 60023803 & NA &        NA & NA &   NA & 5419441 & 54919622 &  58938630 &  58.938630 & 7\\\\\n",
       "\t12653 & United States & USA & 1998 & North America & High income & 275854000 & 59713012 & NA &        NA & NA & 0.32 & 5456093 & 68661825 &  83013287 &  83.013287 & 8\\\\\n",
       "\t12654 & United States & USA & 1999 & North America & High income & 279040000 & 59376364 & NA &        NA & NA &   NA & 5531692 & 85319558 & 100032281 & 100.032281 & 9\\\\\n",
       "\\end{tabular}\n"
      ],
      "text/markdown": [
       "\n",
       "A data.frame: 10 × 16\n",
       "\n",
       "| <!--/--> | Country &lt;fct&gt; | Country.Code &lt;fct&gt; | year &lt;int&gt; | Region &lt;fct&gt; | IncomeGroup &lt;fct&gt; | population &lt;dbl&gt; | rural.population &lt;dbl&gt; | hiv.cases &lt;int&gt; | san.access &lt;dbl&gt; | motor.vehicles &lt;int&gt; | gas.price &lt;dbl&gt; | co2.emission &lt;dbl&gt; | mobile.users &lt;dbl&gt; | internet.users &lt;dbl&gt; | internet.mil &lt;dbl&gt; | time &lt;dbl&gt; |\n",
       "|---|---|---|---|---|---|---|---|---|---|---|---|---|---|---|---|---|\n",
       "| 12645 | United States | USA | 1990 | North America | High income | 249623000 | 61656881 | NA | 248382203 | NA |   NA | 4768138 |  5181680 |   1958863 |   1.958863 | 0 |\n",
       "| 12646 | United States | USA | 1991 | North America | High income | 252981000 | 61499681 | NA |        NA | NA |   NA | 4826703 |  7436741 |   2942659 |   2.942659 | 1 |\n",
       "| 12647 | United States | USA | 1992 | North America | High income | 256514000 | 61358149 | NA |        NA | NA | 0.32 | 4922196 | 10899406 |   4422821 |   4.422821 | 2 |\n",
       "| 12648 | United States | USA | 1993 | North America | High income | 259919000 | 61158941 | NA |        NA | NA |   NA | 5029767 | 15864719 |   5904511 |   5.904511 | 3 |\n",
       "| 12649 | United States | USA | 1994 | North America | High income | 263126000 | 60887356 | NA |        NA | NA |   NA | 5121560 | 23957416 |  12795240 |  12.795240 | 4 |\n",
       "| 12650 | United States | USA | 1995 | North America | High income | 266278000 | 60578245 | NA | 265291863 | NA | 0.34 | 5156169 | 33563609 |  24596334 |  24.596334 | 5 |\n",
       "| 12651 | United States | USA | 1996 | North America | High income | 269394000 | 60296304 | NA |        NA | NA |   NA | 5286047 | 43744608 |  44232752 |  44.232752 | 6 |\n",
       "| 12652 | United States | USA | 1997 | North America | High income | 272657000 | 60023803 | NA |        NA | NA |   NA | 5419441 | 54919622 |  58938630 |  58.938630 | 7 |\n",
       "| 12653 | United States | USA | 1998 | North America | High income | 275854000 | 59713012 | NA |        NA | NA | 0.32 | 5456093 | 68661825 |  83013287 |  83.013287 | 8 |\n",
       "| 12654 | United States | USA | 1999 | North America | High income | 279040000 | 59376364 | NA |        NA | NA |   NA | 5531692 | 85319558 | 100032281 | 100.032281 | 9 |\n",
       "\n"
      ],
      "text/plain": [
       "      Country       Country.Code year Region        IncomeGroup population\n",
       "12645 United States USA          1990 North America High income 249623000 \n",
       "12646 United States USA          1991 North America High income 252981000 \n",
       "12647 United States USA          1992 North America High income 256514000 \n",
       "12648 United States USA          1993 North America High income 259919000 \n",
       "12649 United States USA          1994 North America High income 263126000 \n",
       "12650 United States USA          1995 North America High income 266278000 \n",
       "12651 United States USA          1996 North America High income 269394000 \n",
       "12652 United States USA          1997 North America High income 272657000 \n",
       "12653 United States USA          1998 North America High income 275854000 \n",
       "12654 United States USA          1999 North America High income 279040000 \n",
       "      rural.population hiv.cases san.access motor.vehicles gas.price\n",
       "12645 61656881         NA        248382203  NA               NA     \n",
       "12646 61499681         NA               NA  NA               NA     \n",
       "12647 61358149         NA               NA  NA             0.32     \n",
       "12648 61158941         NA               NA  NA               NA     \n",
       "12649 60887356         NA               NA  NA               NA     \n",
       "12650 60578245         NA        265291863  NA             0.34     \n",
       "12651 60296304         NA               NA  NA               NA     \n",
       "12652 60023803         NA               NA  NA               NA     \n",
       "12653 59713012         NA               NA  NA             0.32     \n",
       "12654 59376364         NA               NA  NA               NA     \n",
       "      co2.emission mobile.users internet.users internet.mil time\n",
       "12645 4768138       5181680       1958863        1.958863   0   \n",
       "12646 4826703       7436741       2942659        2.942659   1   \n",
       "12647 4922196      10899406       4422821        4.422821   2   \n",
       "12648 5029767      15864719       5904511        5.904511   3   \n",
       "12649 5121560      23957416      12795240       12.795240   4   \n",
       "12650 5156169      33563609      24596334       24.596334   5   \n",
       "12651 5286047      43744608      44232752       44.232752   6   \n",
       "12652 5419441      54919622      58938630       58.938630   7   \n",
       "12653 5456093      68661825      83013287       83.013287   8   \n",
       "12654 5531692      85319558     100032281      100.032281   9   "
      ]
     },
     "metadata": {},
     "output_type": "display_data"
    }
   ],
   "source": [
    "us_select_10 <- us_select[us_select$time < 10,]\n",
    "us_select_10"
   ]
  },
  {
   "cell_type": "markdown",
   "metadata": {},
   "source": [
    "**Use a function to fit an exponential and logistic model for 1990-1999.**"
   ]
  },
  {
   "cell_type": "code",
   "execution_count": 13,
   "metadata": {},
   "outputs": [
    {
     "data": {
      "image/png": "[encoded data removed]",
      "text/plain": [
       "Plot with title \"Internet Users in millions\""
      ]
     },
     "metadata": {
      "image/png": {
       "height": 420,
       "width": 420
      },
      "text/plain": {
       "height": 420,
       "width": 420
      }
     },
     "output_type": "display_data"
    }
   ],
   "source": [
    "plot(us_select_10$time,us_select_10$internet.mil,main='Internet Users in millions',xlab='Year',ylab='Users in millions)',pch=16)"
   ]
  },
  {
   "cell_type": "markdown",
   "metadata": {},
   "source": [
    "### Exponential Model"
   ]
  },
  {
   "cell_type": "code",
   "execution_count": 14,
   "metadata": {},
   "outputs": [
    {
     "data": {
      "text/plain": [
       "\n",
       "Call:\n",
       "lm(formula = log(us_select_10$internet.mil) ~ us_select_10$time)\n",
       "\n",
       "Residuals:\n",
       "      Min        1Q    Median        3Q       Max \n",
       "-0.298846 -0.073729  0.005504  0.103382  0.310933 \n",
       "\n",
       "Coefficients:\n",
       "                  Estimate Std. Error t value Pr(>|t|)    \n",
       "(Intercept)        0.62692    0.11917   5.261 0.000764 ***\n",
       "us_select_10$time  0.47527    0.02232  21.291 2.49e-08 ***\n",
       "---\n",
       "Signif. codes:  0 '***' 0.001 '**' 0.01 '*' 0.05 '.' 0.1 ' ' 1\n",
       "\n",
       "Residual standard error: 0.2028 on 8 degrees of freedom\n",
       "Multiple R-squared:  0.9827,\tAdjusted R-squared:  0.9805 \n",
       "F-statistic: 453.3 on 1 and 8 DF,  p-value: 2.49e-08\n"
      ]
     },
     "metadata": {},
     "output_type": "display_data"
    }
   ],
   "source": [
    "#expFit(us_select_10$time, us_select_10$internet.mil)\n",
    "\n",
    "exponential.model <- lm(log(us_select_10$internet.mil)~ us_select_10$time)\n",
    "summary(exponential.model)"
   ]
  },
  {
   "cell_type": "markdown",
   "metadata": {},
   "source": [
    "This model is pretty good, though it explains about 98% of the variance."
   ]
  },
  {
   "cell_type": "code",
   "execution_count": 15,
   "metadata": {},
   "outputs": [
    {
     "data": {
      "image/png": "[encoded data removed]",
      "text/plain": [
       "plot without title"
      ]
     },
     "metadata": {
      "image/png": {
       "height": 420,
       "width": 420
      },
      "text/plain": {
       "height": 420,
       "width": 420
      }
     },
     "output_type": "display_data"
    }
   ],
   "source": [
    "us_select_10$internet.mil.exponential2 <- exp(predict(exponential.model,list(us_select_10$time)))\n",
    "plot(us_select_10$time, us_select_10$internet.mil,pch=16)\n",
    "lines(us_select_10$time, us_select_10$internet.mil.exponential2,lwd=2, col = \"red\")"
   ]
  },
  {
   "cell_type": "markdown",
   "metadata": {},
   "source": [
    "### Logistic Model"
   ]
  },
  {
   "cell_type": "code",
   "execution_count": 16,
   "metadata": {},
   "outputs": [
    {
     "data": {
      "text/html": [
       "<style>\n",
       ".list-inline {list-style: none; margin:0; padding: 0}\n",
       ".list-inline>li {display: inline-block}\n",
       ".list-inline>li:not(:last-child)::after {content: \"\\00b7\"; padding: 0 .5ex}\n",
       "</style>\n",
       "<ol class=list-inline><li>1.958863</li><li>2.942659</li><li>4.422821</li><li>5.904511</li><li>12.79524</li><li>24.596334</li><li>44.232752</li><li>58.93863</li><li>83.013287</li><li>100.032281</li></ol>\n"
      ],
      "text/latex": [
       "\\begin{enumerate*}\n",
       "\\item 1.958863\n",
       "\\item 2.942659\n",
       "\\item 4.422821\n",
       "\\item 5.904511\n",
       "\\item 12.79524\n",
       "\\item 24.596334\n",
       "\\item 44.232752\n",
       "\\item 58.93863\n",
       "\\item 83.013287\n",
       "\\item 100.032281\n",
       "\\end{enumerate*}\n"
      ],
      "text/markdown": [
       "1. 1.958863\n",
       "2. 2.942659\n",
       "3. 4.422821\n",
       "4. 5.904511\n",
       "5. 12.79524\n",
       "6. 24.596334\n",
       "7. 44.232752\n",
       "8. 58.93863\n",
       "9. 83.013287\n",
       "10. 100.032281\n",
       "\n",
       "\n"
      ],
      "text/plain": [
       " [1]   1.958863   2.942659   4.422821   5.904511  12.795240  24.596334\n",
       " [7]  44.232752  58.938630  83.013287 100.032281"
      ]
     },
     "metadata": {},
     "output_type": "display_data"
    }
   ],
   "source": [
    "us_select_10$internet.mil"
   ]
  },
  {
   "cell_type": "code",
   "execution_count": 17,
   "metadata": {},
   "outputs": [
    {
     "data": {
      "text/plain": [
       "   Min. 1st Qu.  Median    Mean 3rd Qu.    Max. \n",
       "  1.959   4.793  18.696  33.884  55.262 100.032 "
      ]
     },
     "metadata": {},
     "output_type": "display_data"
    }
   ],
   "source": [
    "summary(us_select_10$internet.mil)"
   ]
  },
  {
   "cell_type": "code",
   "execution_count": 18,
   "metadata": {},
   "outputs": [],
   "source": [
    "ming <- 1.04406\n",
    "mingy <- c(ming,us_select_10$internet.mil)\n",
    "maxg <- 127.7935 \n",
    "y <- c(mingy,maxg)\n",
    "\n",
    "minh <- -4\n",
    "minhx <- c(minh,us_select_10$time)\n",
    "maxh <- 20 \n",
    "x <- c(minhx,maxh)"
   ]
  },
  {
   "cell_type": "code",
   "execution_count": 19,
   "metadata": {},
   "outputs": [
    {
     "data": {
      "text/html": [
       "<style>\n",
       ".list-inline {list-style: none; margin:0; padding: 0}\n",
       ".list-inline>li {display: inline-block}\n",
       ".list-inline>li:not(:last-child)::after {content: \"\\00b7\"; padding: 0 .5ex}\n",
       "</style>\n",
       "<ol class=list-inline><li>0</li><li>0.00721741255819355</li><li>0.0149791509926987</li><li>0.0266570092932955</li><li>0.0383469228739788</li><li>0.0927118889045979</li><li>0.185817578365632</li><li>0.34074069281884</li><li>0.456763911540753</li><li>0.646702873006776</li><li>0.780975608255153</li><li>1</li></ol>\n"
      ],
      "text/latex": [
       "\\begin{enumerate*}\n",
       "\\item 0\n",
       "\\item 0.00721741255819355\n",
       "\\item 0.0149791509926987\n",
       "\\item 0.0266570092932955\n",
       "\\item 0.0383469228739788\n",
       "\\item 0.0927118889045979\n",
       "\\item 0.185817578365632\n",
       "\\item 0.34074069281884\n",
       "\\item 0.456763911540753\n",
       "\\item 0.646702873006776\n",
       "\\item 0.780975608255153\n",
       "\\item 1\n",
       "\\end{enumerate*}\n"
      ],
      "text/markdown": [
       "1. 0\n",
       "2. 0.00721741255819355\n",
       "3. 0.0149791509926987\n",
       "4. 0.0266570092932955\n",
       "5. 0.0383469228739788\n",
       "6. 0.0927118889045979\n",
       "7. 0.185817578365632\n",
       "8. 0.34074069281884\n",
       "9. 0.456763911540753\n",
       "10. 0.646702873006776\n",
       "11. 0.780975608255153\n",
       "12. 1\n",
       "\n",
       "\n"
      ],
      "text/plain": [
       " [1] 0.000000000 0.007217413 0.014979151 0.026657009 0.038346923 0.092711889\n",
       " [7] 0.185817578 0.340740693 0.456763912 0.646702873 0.780975608 1.000000000"
      ]
     },
     "metadata": {},
     "output_type": "display_data"
    }
   ],
   "source": [
    "# Normalize y with Min-Max\n",
    "\n",
    "normalize <- function(y) {\n",
    "return ((y - min(y)) / (max(y) - min(y)))\n",
    "}\n",
    "\n",
    "y <- normalize(y)\n",
    "y"
   ]
  },
  {
   "cell_type": "code",
   "execution_count": 20,
   "metadata": {},
   "outputs": [
    {
     "name": "stderr",
     "output_type": "stream",
     "text": [
      "Warning message in eval(family$initialize):\n",
      "\"non-integer #successes in a binomial glm!\"\n"
     ]
    },
    {
     "data": {
      "text/plain": [
       "\n",
       "Call:\n",
       "glm(formula = y ~ x, family = binomial(link = \"logit\"), data = us_select_10)\n",
       "\n",
       "Deviance Residuals: \n",
       "      Min         1Q     Median         3Q        Max  \n",
       "-0.060687  -0.021181   0.003064   0.013869   0.069431  \n",
       "\n",
       "Coefficients:\n",
       "            Estimate Std. Error z value Pr(>|z|)\n",
       "(Intercept)  -5.0333     3.2099  -1.568    0.117\n",
       "x             0.7043     0.4771   1.476    0.140\n",
       "\n",
       "(Dispersion parameter for binomial family taken to be 1)\n",
       "\n",
       "    Null deviance: 7.243138  on 11  degrees of freedom\n",
       "Residual deviance: 0.011858  on 10  degrees of freedom\n",
       "AIC: 8.1804\n",
       "\n",
       "Number of Fisher Scoring iterations: 7\n"
      ]
     },
     "metadata": {},
     "output_type": "display_data"
    }
   ],
   "source": [
    "#logisticFit(us_select_10$time, us_select_10$internet.mil)\n",
    "#fit_glm = glm(y ~ x, data = example_data, family = binomial)\n",
    "\n",
    "logistic.model <- glm(y ~ x, data = us_select_10, family = binomial(link = \"logit\"))\n",
    "summary(logistic.model)"
   ]
  },
  {
   "cell_type": "markdown",
   "metadata": {},
   "source": [
    "### Based on the prior model parameters, predict the number of internet users in 2006."
   ]
  },
  {
   "cell_type": "markdown",
   "metadata": {},
   "source": [
    "Exponential Fit:\n",
    "\n",
    "    a = 1.87184\n",
    "\n",
    "    b = 1.60845\n",
    "\n",
    "Logistic Fit:\n",
    "\n",
    "    C = 127.7935\n",
    "\n",
    "    a = 121.4"
   ]
  },
  {
   "cell_type": "code",
   "execution_count": 21,
   "metadata": {},
   "outputs": [
    {
     "data": {
      "text/html": [
       "3756.55510879256"
      ],
      "text/latex": [
       "3756.55510879256"
      ],
      "text/markdown": [
       "3756.55510879256"
      ],
      "text/plain": [
       "[1] 3756.555"
      ]
     },
     "metadata": {},
     "output_type": "display_data"
    }
   ],
   "source": [
    "predicuserExp <- 1.87184*(1.60845)^16\n",
    "predicuserExp"
   ]
  },
  {
   "cell_type": "code",
   "execution_count": 22,
   "metadata": {},
   "outputs": [
    {
     "data": {
      "text/html": [
       "127.7935"
      ],
      "text/latex": [
       "127.7935"
      ],
      "text/markdown": [
       "127.7935"
      ],
      "text/plain": [
       "[1] 127.7935"
      ]
     },
     "metadata": {},
     "output_type": "display_data"
    }
   ],
   "source": [
    "predicuserLog <- (127.7935)/(1+(121.4)^(-16))\n",
    "predicuserLog"
   ]
  },
  {
   "cell_type": "markdown",
   "metadata": {},
   "source": [
    "Real value US internet users in 2006 = 205.7 (in million)\n",
    "\n",
    "**Exponential Model** = 3756.6 million\n",
    "\n",
    "R-squared = 0.98266\n",
    "\n",
    "Residual = 205.7 - 3756.6 = -3550.9 million\n",
    "\n",
    "**Logistic Model** = 127.8 million\n",
    "\n",
    "R-squared = 0.99802\n",
    "\n",
    "Residual = 205.7 - 127.8 = 77.9 million\n",
    "\n",
    "The logistic model make a better job because it's residual was actually smaller than the exponential function."
   ]
  },
  {
   "cell_type": "markdown",
   "metadata": {},
   "source": [
    "**Conclusion:**"
   ]
  },
  {
   "cell_type": "markdown",
   "metadata": {},
   "source": [
    "**Both the logistic and exponential models** do/does a fairly good job of fitting the pattern of internet usage in the United States from 1990-1999, as shown by R-squared values **greater** than 0.95. If we look ahead to 2006, however, we see that **the \n",
    "logistic** model has a better long-term fit. This model predicted **127.5** million users in 2006, with a smaller residual of \n",
    "**77.9** million. The **exponential** model predicted far more users than there really were. It appears that the number of new internet users grew rapidly at first but then began to level off over time."
   ]
  }
 ],
 "metadata": {
  "kernelspec": {
   "display_name": "R",
   "language": "R",
   "name": "ir"
  },
  "language_info": {
   "codemirror_mode": "r",
   "file_extension": ".r",
   "mimetype": "text/x-r-source",
   "name": "R",
   "pygments_lexer": "r",
   "version": "3.6.3"
  }
 },
 "nbformat": 4,
 "nbformat_minor": 4
}
