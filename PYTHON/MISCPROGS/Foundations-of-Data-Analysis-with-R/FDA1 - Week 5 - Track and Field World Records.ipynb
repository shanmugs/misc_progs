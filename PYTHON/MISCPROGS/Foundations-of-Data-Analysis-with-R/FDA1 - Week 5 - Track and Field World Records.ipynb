{
 "cells": [
  {
   "cell_type": "markdown",
   "metadata": {},
   "source": [
    "# Foundations of Data Analysis 1 - Week 5 - Track and Field World Records"
   ]
  },
  {
   "cell_type": "markdown",
   "metadata": {},
   "source": [
    "<img src=\"images/week15.jpg\">"
   ]
  },
  {
   "cell_type": "markdown",
   "metadata": {},
   "source": [
    "Every four years, track and field athletes take the world stage at the Summer Olympics.  Some of the most exciting events during each Olympics are those in which athletes push the limits of their sport, breaking their own personal best records, national records, or even world records.  We have compiled the world record times for track events like the 100m dash and record distances for field events like the shotput into a single dataset.  This dataset includes information on the person who broke the record, his/her nationality, where the record was broken, and the year it was broken.  Note that not all world records are broken during the Olympics, with many occurring in regional or national competitions."
   ]
  },
  {
   "cell_type": "markdown",
   "metadata": {},
   "source": [
    "**How has the men’s shotput world record changed over time?  What about the women’s world record?**"
   ]
  },
  {
   "cell_type": "code",
   "execution_count": 1,
   "metadata": {},
   "outputs": [
    {
     "data": {
      "text/html": [
       "<table>\n",
       "<caption>A data.frame: 6 × 7</caption>\n",
       "<thead>\n",
       "\t<tr><th></th><th scope=col>Event</th><th scope=col>Type</th><th scope=col>Record</th><th scope=col>Athlete</th><th scope=col>Nationality</th><th scope=col>Location</th><th scope=col>Year</th></tr>\n",
       "\t<tr><th></th><th scope=col>&lt;fct&gt;</th><th scope=col>&lt;fct&gt;</th><th scope=col>&lt;dbl&gt;</th><th scope=col>&lt;fct&gt;</th><th scope=col>&lt;fct&gt;</th><th scope=col>&lt;fct&gt;</th><th scope=col>&lt;int&gt;</th></tr>\n",
       "</thead>\n",
       "<tbody>\n",
       "\t<tr><th scope=row>1</th><td>Mens 100m</td><td>time</td><td>10.06</td><td>Bob Hayes     </td><td>United States</td><td>Tokyo, Japan         </td><td>1964</td></tr>\n",
       "\t<tr><th scope=row>2</th><td>Mens 100m</td><td>time</td><td>10.03</td><td>Jim Hines     </td><td>United States</td><td>Sacramento, USA      </td><td>1968</td></tr>\n",
       "\t<tr><th scope=row>3</th><td>Mens 100m</td><td>time</td><td>10.02</td><td>Charles Greene</td><td>United States</td><td>Mexico City, Mexico  </td><td>1968</td></tr>\n",
       "\t<tr><th scope=row>4</th><td>Mens 100m</td><td>time</td><td> 9.95</td><td>Jim Hines     </td><td>United States</td><td>Mexico City, Mexico  </td><td>1968</td></tr>\n",
       "\t<tr><th scope=row>5</th><td>Mens 100m</td><td>time</td><td> 9.93</td><td>Calvin Smith  </td><td>United States</td><td>Colorado Springs, USA</td><td>1983</td></tr>\n",
       "\t<tr><th scope=row>6</th><td>Mens 100m</td><td>time</td><td> 9.92</td><td>Carl Lewis    </td><td>United States</td><td>Seoul, South Korea   </td><td>1988</td></tr>\n",
       "</tbody>\n",
       "</table>\n"
      ],
      "text/latex": [
       "A data.frame: 6 × 7\n",
       "\\begin{tabular}{r|lllllll}\n",
       "  & Event & Type & Record & Athlete & Nationality & Location & Year\\\\\n",
       "  & <fct> & <fct> & <dbl> & <fct> & <fct> & <fct> & <int>\\\\\n",
       "\\hline\n",
       "\t1 & Mens 100m & time & 10.06 & Bob Hayes      & United States & Tokyo, Japan          & 1964\\\\\n",
       "\t2 & Mens 100m & time & 10.03 & Jim Hines      & United States & Sacramento, USA       & 1968\\\\\n",
       "\t3 & Mens 100m & time & 10.02 & Charles Greene & United States & Mexico City, Mexico   & 1968\\\\\n",
       "\t4 & Mens 100m & time &  9.95 & Jim Hines      & United States & Mexico City, Mexico   & 1968\\\\\n",
       "\t5 & Mens 100m & time &  9.93 & Calvin Smith   & United States & Colorado Springs, USA & 1983\\\\\n",
       "\t6 & Mens 100m & time &  9.92 & Carl Lewis     & United States & Seoul, South Korea    & 1988\\\\\n",
       "\\end{tabular}\n"
      ],
      "text/markdown": [
       "\n",
       "A data.frame: 6 × 7\n",
       "\n",
       "| <!--/--> | Event &lt;fct&gt; | Type &lt;fct&gt; | Record &lt;dbl&gt; | Athlete &lt;fct&gt; | Nationality &lt;fct&gt; | Location &lt;fct&gt; | Year &lt;int&gt; |\n",
       "|---|---|---|---|---|---|---|---|\n",
       "| 1 | Mens 100m | time | 10.06 | Bob Hayes      | United States | Tokyo, Japan          | 1964 |\n",
       "| 2 | Mens 100m | time | 10.03 | Jim Hines      | United States | Sacramento, USA       | 1968 |\n",
       "| 3 | Mens 100m | time | 10.02 | Charles Greene | United States | Mexico City, Mexico   | 1968 |\n",
       "| 4 | Mens 100m | time |  9.95 | Jim Hines      | United States | Mexico City, Mexico   | 1968 |\n",
       "| 5 | Mens 100m | time |  9.93 | Calvin Smith   | United States | Colorado Springs, USA | 1983 |\n",
       "| 6 | Mens 100m | time |  9.92 | Carl Lewis     | United States | Seoul, South Korea    | 1988 |\n",
       "\n"
      ],
      "text/plain": [
       "  Event     Type Record Athlete        Nationality   Location              Year\n",
       "1 Mens 100m time 10.06  Bob Hayes      United States Tokyo, Japan          1964\n",
       "2 Mens 100m time 10.03  Jim Hines      United States Sacramento, USA       1968\n",
       "3 Mens 100m time 10.02  Charles Greene United States Mexico City, Mexico   1968\n",
       "4 Mens 100m time  9.95  Jim Hines      United States Mexico City, Mexico   1968\n",
       "5 Mens 100m time  9.93  Calvin Smith   United States Colorado Springs, USA 1983\n",
       "6 Mens 100m time  9.92  Carl Lewis     United States Seoul, South Korea    1988"
      ]
     },
     "metadata": {},
     "output_type": "display_data"
    }
   ],
   "source": [
    "worldrec <- read.csv(\"data/WorldRecords.csv\")\n",
    "head(worldrec)"
   ]
  },
  {
   "cell_type": "code",
   "execution_count": 2,
   "metadata": {
    "scrolled": true
   },
   "outputs": [
    {
     "name": "stdout",
     "output_type": "stream",
     "text": [
      "'data.frame':\t285 obs. of  7 variables:\n",
      " $ Event      : Factor w/ 10 levels \"Mens 100m\",\"Mens 800m\",..: 1 1 1 1 1 1 1 1 1 1 ...\n",
      " $ Type       : Factor w/ 2 levels \"distance\",\"time\": 2 2 2 2 2 2 2 2 2 2 ...\n",
      " $ Record     : num  10.06 10.03 10.02 9.95 9.93 ...\n",
      " $ Athlete    : Factor w/ 156 levels \" Adhemar da Silva \",..: 87 112 92 112 90 91 121 91 121 98 ...\n",
      " $ Nationality: Factor w/ 44 levels \" Algeria\",\" Australia\",..: 41 41 41 41 41 41 41 41 41 25 ...\n",
      " $ Location   : Factor w/ 147 levels \"Albuquerque, U.S.\",..: 135 114 77 77 30 121 87 135 62 5 ...\n",
      " $ Year       : int  1964 1968 1968 1968 1983 1988 1991 1991 1994 1996 ...\n"
     ]
    }
   ],
   "source": [
    "str(worldrec)"
   ]
  },
  {
   "cell_type": "markdown",
   "metadata": {},
   "source": [
    "How many different types of events (e.g. \"Mens 100m,\" \"Womens shotput,\" etc.) are represented in the dataset?"
   ]
  },
  {
   "cell_type": "code",
   "execution_count": 3,
   "metadata": {},
   "outputs": [
    {
     "data": {
      "text/plain": [
       "\n",
       "      Mens 100m       Mens 800m       Mens Mile  Mens Polevault    Mens Shotput \n",
       "             17              24              32              55              39 \n",
       "Mens TripleJump     Womens 100m     Womens 800m     Womens Mile  Womens Shotput \n",
       "             25              10              29              13              41 "
      ]
     },
     "metadata": {},
     "output_type": "display_data"
    }
   ],
   "source": [
    "event <- table(worldrec$Event)\n",
    "event"
   ]
  },
  {
   "cell_type": "markdown",
   "metadata": {},
   "source": [
    "In what year did Usain Bolt first break the world record for the men's 100m dash?"
   ]
  },
  {
   "cell_type": "code",
   "execution_count": 4,
   "metadata": {},
   "outputs": [
    {
     "data": {
      "text/html": [
       "<table>\n",
       "<caption>A data.frame: 17 × 7</caption>\n",
       "<thead>\n",
       "\t<tr><th></th><th scope=col>Event</th><th scope=col>Type</th><th scope=col>Record</th><th scope=col>Athlete</th><th scope=col>Nationality</th><th scope=col>Location</th><th scope=col>Year</th></tr>\n",
       "\t<tr><th></th><th scope=col>&lt;fct&gt;</th><th scope=col>&lt;fct&gt;</th><th scope=col>&lt;dbl&gt;</th><th scope=col>&lt;fct&gt;</th><th scope=col>&lt;fct&gt;</th><th scope=col>&lt;fct&gt;</th><th scope=col>&lt;int&gt;</th></tr>\n",
       "</thead>\n",
       "<tbody>\n",
       "\t<tr><th scope=row>1</th><td>Mens 100m</td><td>time</td><td>10.06</td><td>Bob Hayes     </td><td>United States</td><td>Tokyo, Japan         </td><td>1964</td></tr>\n",
       "\t<tr><th scope=row>2</th><td>Mens 100m</td><td>time</td><td>10.03</td><td>Jim Hines     </td><td>United States</td><td>Sacramento, USA      </td><td>1968</td></tr>\n",
       "\t<tr><th scope=row>3</th><td>Mens 100m</td><td>time</td><td>10.02</td><td>Charles Greene</td><td>United States</td><td>Mexico City, Mexico  </td><td>1968</td></tr>\n",
       "\t<tr><th scope=row>4</th><td>Mens 100m</td><td>time</td><td> 9.95</td><td>Jim Hines     </td><td>United States</td><td>Mexico City, Mexico  </td><td>1968</td></tr>\n",
       "\t<tr><th scope=row>5</th><td>Mens 100m</td><td>time</td><td> 9.93</td><td>Calvin Smith  </td><td>United States</td><td>Colorado Springs, USA</td><td>1983</td></tr>\n",
       "\t<tr><th scope=row>6</th><td>Mens 100m</td><td>time</td><td> 9.92</td><td>Carl Lewis    </td><td>United States</td><td>Seoul, South Korea   </td><td>1988</td></tr>\n",
       "\t<tr><th scope=row>7</th><td>Mens 100m</td><td>time</td><td> 9.90</td><td>Leroy Burrell </td><td>United States</td><td>New York, USA        </td><td>1991</td></tr>\n",
       "\t<tr><th scope=row>8</th><td>Mens 100m</td><td>time</td><td> 9.86</td><td>Carl Lewis    </td><td>United States</td><td>Tokyo, Japan         </td><td>1991</td></tr>\n",
       "\t<tr><th scope=row>9</th><td>Mens 100m</td><td>time</td><td> 9.85</td><td>Leroy Burrell </td><td>United States</td><td>Lausanne, Switzerland</td><td>1994</td></tr>\n",
       "\t<tr><th scope=row>10</th><td>Mens 100m</td><td>time</td><td> 9.84</td><td>Donovan Bailey</td><td>Canada       </td><td>Atlanta, USA         </td><td>1996</td></tr>\n",
       "\t<tr><th scope=row>11</th><td>Mens 100m</td><td>time</td><td> 9.79</td><td>Maurice Greene</td><td>United States</td><td>Athens, Greece       </td><td>1999</td></tr>\n",
       "\t<tr><th scope=row>12</th><td>Mens 100m</td><td>time</td><td> 9.78</td><td>Tim Montgomery</td><td>United States</td><td>Paris, France        </td><td>2002</td></tr>\n",
       "\t<tr><th scope=row>13</th><td>Mens 100m</td><td>time</td><td> 9.77</td><td>Asafa Powell  </td><td>Jamaica      </td><td>Athens, Greece       </td><td>2005</td></tr>\n",
       "\t<tr><th scope=row>14</th><td>Mens 100m</td><td>time</td><td> 9.74</td><td>Asafa Powell  </td><td>Jamaica      </td><td>Rieti, Italy         </td><td>2007</td></tr>\n",
       "\t<tr><th scope=row>15</th><td>Mens 100m</td><td>time</td><td> 9.72</td><td>Usain Bolt    </td><td>Jamaica      </td><td>New York, USA        </td><td>2008</td></tr>\n",
       "\t<tr><th scope=row>16</th><td>Mens 100m</td><td>time</td><td> 9.69</td><td>Usain Bolt    </td><td>Jamaica      </td><td>Beijing, China       </td><td>2008</td></tr>\n",
       "\t<tr><th scope=row>17</th><td>Mens 100m</td><td>time</td><td> 9.58</td><td>Usain Bolt    </td><td>Jamaica      </td><td>Berlin, Germany      </td><td>2009</td></tr>\n",
       "</tbody>\n",
       "</table>\n"
      ],
      "text/latex": [
       "A data.frame: 17 × 7\n",
       "\\begin{tabular}{r|lllllll}\n",
       "  & Event & Type & Record & Athlete & Nationality & Location & Year\\\\\n",
       "  & <fct> & <fct> & <dbl> & <fct> & <fct> & <fct> & <int>\\\\\n",
       "\\hline\n",
       "\t1 & Mens 100m & time & 10.06 & Bob Hayes      & United States & Tokyo, Japan          & 1964\\\\\n",
       "\t2 & Mens 100m & time & 10.03 & Jim Hines      & United States & Sacramento, USA       & 1968\\\\\n",
       "\t3 & Mens 100m & time & 10.02 & Charles Greene & United States & Mexico City, Mexico   & 1968\\\\\n",
       "\t4 & Mens 100m & time &  9.95 & Jim Hines      & United States & Mexico City, Mexico   & 1968\\\\\n",
       "\t5 & Mens 100m & time &  9.93 & Calvin Smith   & United States & Colorado Springs, USA & 1983\\\\\n",
       "\t6 & Mens 100m & time &  9.92 & Carl Lewis     & United States & Seoul, South Korea    & 1988\\\\\n",
       "\t7 & Mens 100m & time &  9.90 & Leroy Burrell  & United States & New York, USA         & 1991\\\\\n",
       "\t8 & Mens 100m & time &  9.86 & Carl Lewis     & United States & Tokyo, Japan          & 1991\\\\\n",
       "\t9 & Mens 100m & time &  9.85 & Leroy Burrell  & United States & Lausanne, Switzerland & 1994\\\\\n",
       "\t10 & Mens 100m & time &  9.84 & Donovan Bailey & Canada        & Atlanta, USA          & 1996\\\\\n",
       "\t11 & Mens 100m & time &  9.79 & Maurice Greene & United States & Athens, Greece        & 1999\\\\\n",
       "\t12 & Mens 100m & time &  9.78 & Tim Montgomery & United States & Paris, France         & 2002\\\\\n",
       "\t13 & Mens 100m & time &  9.77 & Asafa Powell   & Jamaica       & Athens, Greece        & 2005\\\\\n",
       "\t14 & Mens 100m & time &  9.74 & Asafa Powell   & Jamaica       & Rieti, Italy          & 2007\\\\\n",
       "\t15 & Mens 100m & time &  9.72 & Usain Bolt     & Jamaica       & New York, USA         & 2008\\\\\n",
       "\t16 & Mens 100m & time &  9.69 & Usain Bolt     & Jamaica       & Beijing, China        & 2008\\\\\n",
       "\t17 & Mens 100m & time &  9.58 & Usain Bolt     & Jamaica       & Berlin, Germany       & 2009\\\\\n",
       "\\end{tabular}\n"
      ],
      "text/markdown": [
       "\n",
       "A data.frame: 17 × 7\n",
       "\n",
       "| <!--/--> | Event &lt;fct&gt; | Type &lt;fct&gt; | Record &lt;dbl&gt; | Athlete &lt;fct&gt; | Nationality &lt;fct&gt; | Location &lt;fct&gt; | Year &lt;int&gt; |\n",
       "|---|---|---|---|---|---|---|---|\n",
       "| 1 | Mens 100m | time | 10.06 | Bob Hayes      | United States | Tokyo, Japan          | 1964 |\n",
       "| 2 | Mens 100m | time | 10.03 | Jim Hines      | United States | Sacramento, USA       | 1968 |\n",
       "| 3 | Mens 100m | time | 10.02 | Charles Greene | United States | Mexico City, Mexico   | 1968 |\n",
       "| 4 | Mens 100m | time |  9.95 | Jim Hines      | United States | Mexico City, Mexico   | 1968 |\n",
       "| 5 | Mens 100m | time |  9.93 | Calvin Smith   | United States | Colorado Springs, USA | 1983 |\n",
       "| 6 | Mens 100m | time |  9.92 | Carl Lewis     | United States | Seoul, South Korea    | 1988 |\n",
       "| 7 | Mens 100m | time |  9.90 | Leroy Burrell  | United States | New York, USA         | 1991 |\n",
       "| 8 | Mens 100m | time |  9.86 | Carl Lewis     | United States | Tokyo, Japan          | 1991 |\n",
       "| 9 | Mens 100m | time |  9.85 | Leroy Burrell  | United States | Lausanne, Switzerland | 1994 |\n",
       "| 10 | Mens 100m | time |  9.84 | Donovan Bailey | Canada        | Atlanta, USA          | 1996 |\n",
       "| 11 | Mens 100m | time |  9.79 | Maurice Greene | United States | Athens, Greece        | 1999 |\n",
       "| 12 | Mens 100m | time |  9.78 | Tim Montgomery | United States | Paris, France         | 2002 |\n",
       "| 13 | Mens 100m | time |  9.77 | Asafa Powell   | Jamaica       | Athens, Greece        | 2005 |\n",
       "| 14 | Mens 100m | time |  9.74 | Asafa Powell   | Jamaica       | Rieti, Italy          | 2007 |\n",
       "| 15 | Mens 100m | time |  9.72 | Usain Bolt     | Jamaica       | New York, USA         | 2008 |\n",
       "| 16 | Mens 100m | time |  9.69 | Usain Bolt     | Jamaica       | Beijing, China        | 2008 |\n",
       "| 17 | Mens 100m | time |  9.58 | Usain Bolt     | Jamaica       | Berlin, Germany       | 2009 |\n",
       "\n"
      ],
      "text/plain": [
       "   Event     Type Record Athlete        Nationality   Location             \n",
       "1  Mens 100m time 10.06  Bob Hayes      United States Tokyo, Japan         \n",
       "2  Mens 100m time 10.03  Jim Hines      United States Sacramento, USA      \n",
       "3  Mens 100m time 10.02  Charles Greene United States Mexico City, Mexico  \n",
       "4  Mens 100m time  9.95  Jim Hines      United States Mexico City, Mexico  \n",
       "5  Mens 100m time  9.93  Calvin Smith   United States Colorado Springs, USA\n",
       "6  Mens 100m time  9.92  Carl Lewis     United States Seoul, South Korea   \n",
       "7  Mens 100m time  9.90  Leroy Burrell  United States New York, USA        \n",
       "8  Mens 100m time  9.86  Carl Lewis     United States Tokyo, Japan         \n",
       "9  Mens 100m time  9.85  Leroy Burrell  United States Lausanne, Switzerland\n",
       "10 Mens 100m time  9.84  Donovan Bailey Canada        Atlanta, USA         \n",
       "11 Mens 100m time  9.79  Maurice Greene United States Athens, Greece       \n",
       "12 Mens 100m time  9.78  Tim Montgomery United States Paris, France        \n",
       "13 Mens 100m time  9.77  Asafa Powell   Jamaica       Athens, Greece       \n",
       "14 Mens 100m time  9.74  Asafa Powell   Jamaica       Rieti, Italy         \n",
       "15 Mens 100m time  9.72  Usain Bolt     Jamaica       New York, USA        \n",
       "16 Mens 100m time  9.69  Usain Bolt     Jamaica       Beijing, China       \n",
       "17 Mens 100m time  9.58  Usain Bolt     Jamaica       Berlin, Germany      \n",
       "   Year\n",
       "1  1964\n",
       "2  1968\n",
       "3  1968\n",
       "4  1968\n",
       "5  1983\n",
       "6  1988\n",
       "7  1991\n",
       "8  1991\n",
       "9  1994\n",
       "10 1996\n",
       "11 1999\n",
       "12 2002\n",
       "13 2005\n",
       "14 2007\n",
       "15 2008\n",
       "16 2008\n",
       "17 2009"
      ]
     },
     "metadata": {},
     "output_type": "display_data"
    }
   ],
   "source": [
    "mens100m <-worldrec[worldrec$Event == \"Mens 100m\",]\n",
    "mens100m"
   ]
  },
  {
   "cell_type": "markdown",
   "metadata": {},
   "source": [
    "Who was the first woman to break the women’s 1 mile world record with a time of less than 260 seconds?"
   ]
  },
  {
   "cell_type": "code",
   "execution_count": 5,
   "metadata": {},
   "outputs": [
    {
     "data": {
      "text/html": [
       "<table>\n",
       "<caption>A data.frame: 13 × 7</caption>\n",
       "<thead>\n",
       "\t<tr><th></th><th scope=col>Event</th><th scope=col>Type</th><th scope=col>Record</th><th scope=col>Athlete</th><th scope=col>Nationality</th><th scope=col>Location</th><th scope=col>Year</th></tr>\n",
       "\t<tr><th></th><th scope=col>&lt;fct&gt;</th><th scope=col>&lt;fct&gt;</th><th scope=col>&lt;dbl&gt;</th><th scope=col>&lt;fct&gt;</th><th scope=col>&lt;fct&gt;</th><th scope=col>&lt;fct&gt;</th><th scope=col>&lt;int&gt;</th></tr>\n",
       "</thead>\n",
       "<tbody>\n",
       "\t<tr><th scope=row>138</th><td>Womens Mile</td><td>time</td><td>277.0</td><td>Anne Rosemary Smith</td><td> United Kingdom</td><td>London   </td><td>1967</td></tr>\n",
       "\t<tr><th scope=row>139</th><td>Womens Mile</td><td>time</td><td>276.8</td><td>Maria Gommers      </td><td> Netherlands   </td><td>Leicester</td><td>1969</td></tr>\n",
       "\t<tr><th scope=row>140</th><td>Womens Mile</td><td>time</td><td>275.3</td><td>Ellen Tittel       </td><td> West Germany  </td><td>Sittard  </td><td>1971</td></tr>\n",
       "\t<tr><th scope=row>141</th><td>Womens Mile</td><td>time</td><td>269.5</td><td>Paola Pigni        </td><td> Italy         </td><td>Viareggio</td><td>1973</td></tr>\n",
       "\t<tr><th scope=row>142</th><td>Womens Mile</td><td>time</td><td>263.8</td><td>Natalia Marasescu  </td><td> Romania       </td><td>Bucharest</td><td>1977</td></tr>\n",
       "\t<tr><th scope=row>143</th><td>Womens Mile</td><td>time</td><td>262.1</td><td>Natalia Marasescu  </td><td> Romania       </td><td>Auckland </td><td>1979</td></tr>\n",
       "\t<tr><th scope=row>144</th><td>Womens Mile</td><td>time</td><td>261.7</td><td>Mary Slaney        </td><td> United States </td><td>Auckland </td><td>1980</td></tr>\n",
       "\t<tr><th scope=row>145</th><td>Womens Mile</td><td>time</td><td>260.9</td><td>Lyudmila Veselkova </td><td> Soviet Union  </td><td>Bologna  </td><td>1981</td></tr>\n",
       "\t<tr><th scope=row>146</th><td>Womens Mile</td><td>time</td><td>258.1</td><td>Mary Slaney        </td><td> United States </td><td>Paris    </td><td>1982</td></tr>\n",
       "\t<tr><th scope=row>147</th><td>Womens Mile</td><td>time</td><td>257.4</td><td>Maricica Puic?     </td><td> Romania       </td><td>Rieti    </td><td>1982</td></tr>\n",
       "\t<tr><th scope=row>148</th><td>Womens Mile</td><td>time</td><td>256.7</td><td>Mary Slaney        </td><td> United States </td><td>Zürich   </td><td>1985</td></tr>\n",
       "\t<tr><th scope=row>149</th><td>Womens Mile</td><td>time</td><td>255.6</td><td>Paula Ivan         </td><td> Romania       </td><td>Nice     </td><td>1989</td></tr>\n",
       "\t<tr><th scope=row>150</th><td>Womens Mile</td><td>time</td><td>252.6</td><td>Svetlana Masterkova</td><td> Russia        </td><td>Zürich   </td><td>1996</td></tr>\n",
       "</tbody>\n",
       "</table>\n"
      ],
      "text/latex": [
       "A data.frame: 13 × 7\n",
       "\\begin{tabular}{r|lllllll}\n",
       "  & Event & Type & Record & Athlete & Nationality & Location & Year\\\\\n",
       "  & <fct> & <fct> & <dbl> & <fct> & <fct> & <fct> & <int>\\\\\n",
       "\\hline\n",
       "\t138 & Womens Mile & time & 277.0 & Anne Rosemary Smith &  United Kingdom & London    & 1967\\\\\n",
       "\t139 & Womens Mile & time & 276.8 & Maria Gommers       &  Netherlands    & Leicester & 1969\\\\\n",
       "\t140 & Womens Mile & time & 275.3 & Ellen Tittel        &  West Germany   & Sittard   & 1971\\\\\n",
       "\t141 & Womens Mile & time & 269.5 & Paola Pigni         &  Italy          & Viareggio & 1973\\\\\n",
       "\t142 & Womens Mile & time & 263.8 & Natalia Marasescu   &  Romania        & Bucharest & 1977\\\\\n",
       "\t143 & Womens Mile & time & 262.1 & Natalia Marasescu   &  Romania        & Auckland  & 1979\\\\\n",
       "\t144 & Womens Mile & time & 261.7 & Mary Slaney         &  United States  & Auckland  & 1980\\\\\n",
       "\t145 & Womens Mile & time & 260.9 & Lyudmila Veselkova  &  Soviet Union   & Bologna   & 1981\\\\\n",
       "\t146 & Womens Mile & time & 258.1 & Mary Slaney         &  United States  & Paris     & 1982\\\\\n",
       "\t147 & Womens Mile & time & 257.4 & Maricica Puic?      &  Romania        & Rieti     & 1982\\\\\n",
       "\t148 & Womens Mile & time & 256.7 & Mary Slaney         &  United States  & Zürich    & 1985\\\\\n",
       "\t149 & Womens Mile & time & 255.6 & Paula Ivan          &  Romania        & Nice      & 1989\\\\\n",
       "\t150 & Womens Mile & time & 252.6 & Svetlana Masterkova &  Russia         & Zürich    & 1996\\\\\n",
       "\\end{tabular}\n"
      ],
      "text/markdown": [
       "\n",
       "A data.frame: 13 × 7\n",
       "\n",
       "| <!--/--> | Event &lt;fct&gt; | Type &lt;fct&gt; | Record &lt;dbl&gt; | Athlete &lt;fct&gt; | Nationality &lt;fct&gt; | Location &lt;fct&gt; | Year &lt;int&gt; |\n",
       "|---|---|---|---|---|---|---|---|\n",
       "| 138 | Womens Mile | time | 277.0 | Anne Rosemary Smith |  United Kingdom | London    | 1967 |\n",
       "| 139 | Womens Mile | time | 276.8 | Maria Gommers       |  Netherlands    | Leicester | 1969 |\n",
       "| 140 | Womens Mile | time | 275.3 | Ellen Tittel        |  West Germany   | Sittard   | 1971 |\n",
       "| 141 | Womens Mile | time | 269.5 | Paola Pigni         |  Italy          | Viareggio | 1973 |\n",
       "| 142 | Womens Mile | time | 263.8 | Natalia Marasescu   |  Romania        | Bucharest | 1977 |\n",
       "| 143 | Womens Mile | time | 262.1 | Natalia Marasescu   |  Romania        | Auckland  | 1979 |\n",
       "| 144 | Womens Mile | time | 261.7 | Mary Slaney         |  United States  | Auckland  | 1980 |\n",
       "| 145 | Womens Mile | time | 260.9 | Lyudmila Veselkova  |  Soviet Union   | Bologna   | 1981 |\n",
       "| 146 | Womens Mile | time | 258.1 | Mary Slaney         |  United States  | Paris     | 1982 |\n",
       "| 147 | Womens Mile | time | 257.4 | Maricica Puic?      |  Romania        | Rieti     | 1982 |\n",
       "| 148 | Womens Mile | time | 256.7 | Mary Slaney         |  United States  | Zürich    | 1985 |\n",
       "| 149 | Womens Mile | time | 255.6 | Paula Ivan          |  Romania        | Nice      | 1989 |\n",
       "| 150 | Womens Mile | time | 252.6 | Svetlana Masterkova |  Russia         | Zürich    | 1996 |\n",
       "\n"
      ],
      "text/plain": [
       "    Event       Type Record Athlete             Nationality     Location  Year\n",
       "138 Womens Mile time 277.0  Anne Rosemary Smith  United Kingdom London    1967\n",
       "139 Womens Mile time 276.8  Maria Gommers        Netherlands    Leicester 1969\n",
       "140 Womens Mile time 275.3  Ellen Tittel         West Germany   Sittard   1971\n",
       "141 Womens Mile time 269.5  Paola Pigni          Italy          Viareggio 1973\n",
       "142 Womens Mile time 263.8  Natalia Marasescu    Romania        Bucharest 1977\n",
       "143 Womens Mile time 262.1  Natalia Marasescu    Romania        Auckland  1979\n",
       "144 Womens Mile time 261.7  Mary Slaney          United States  Auckland  1980\n",
       "145 Womens Mile time 260.9  Lyudmila Veselkova   Soviet Union   Bologna   1981\n",
       "146 Womens Mile time 258.1  Mary Slaney          United States  Paris     1982\n",
       "147 Womens Mile time 257.4  Maricica Puic?       Romania        Rieti     1982\n",
       "148 Womens Mile time 256.7  Mary Slaney          United States  Zürich    1985\n",
       "149 Womens Mile time 255.6  Paula Ivan           Romania        Nice      1989\n",
       "150 Womens Mile time 252.6  Svetlana Masterkova  Russia         Zürich    1996"
      ]
     },
     "metadata": {},
     "output_type": "display_data"
    }
   ],
   "source": [
    "women1mile <-worldrec[worldrec$Event == \"Womens Mile\",]\n",
    "women1mile"
   ]
  },
  {
   "cell_type": "markdown",
   "metadata": {},
   "source": [
    "How have the world record times for the men's and the women’s mile event changed over the years?"
   ]
  },
  {
   "cell_type": "code",
   "execution_count": 6,
   "metadata": {},
   "outputs": [],
   "source": [
    "mens<- worldrec[worldrec$Event=='Mens Mile',]\n",
    "womens <- worldrec[worldrec$Event=='Womens Mile',] "
   ]
  },
  {
   "cell_type": "code",
   "execution_count": 7,
   "metadata": {},
   "outputs": [
    {
     "data": {
      "image/png": "[encoded data removed]",
      "text/plain": [
       "Plot with title \"Mens Mile World Records\""
      ]
     },
     "metadata": {
      "image/png": {
       "height": 420,
       "width": 420
      },
      "text/plain": {
       "height": 420,
       "width": 420
      }
     },
     "output_type": "display_data"
    },
    {
     "data": {
      "image/png": "[encoded data removed]",
      "text/plain": [
       "Plot with title \"Womens Mile World Records\""
      ]
     },
     "metadata": {
      "image/png": {
       "height": 420,
       "width": 420
      },
      "text/plain": {
       "height": 420,
       "width": 420
      }
     },
     "output_type": "display_data"
    }
   ],
   "source": [
    "plot(mens$Year,mens$Record,main='Mens Mile World Records',xlab='Year',ylab='World Record Distance (m)',pch=16)\n",
    "plot(womens$Year,womens$Record,main='Womens Mile World Records',xlab='Year',ylab='World Record Distance (m)',pch=16)"
   ]
  },
  {
   "cell_type": "code",
   "execution_count": 8,
   "metadata": {},
   "outputs": [],
   "source": [
    "menshot <- worldrec[worldrec$Event=='Mens Shotput',]\n",
    "womenshot <- worldrec[worldrec$Event=='Womens Shotput',]"
   ]
  },
  {
   "cell_type": "code",
   "execution_count": 9,
   "metadata": {},
   "outputs": [
    {
     "data": {
      "image/png": "[encoded data removed]",
      "text/plain": [
       "Plot with title \"Mens Shotput World Records\""
      ]
     },
     "metadata": {
      "image/png": {
       "height": 420,
       "width": 420
      },
      "text/plain": {
       "height": 420,
       "width": 420
      }
     },
     "output_type": "display_data"
    },
    {
     "data": {
      "image/png": "[encoded data removed]",
      "text/plain": [
       "Plot with title \"Womens Shotput World Records\""
      ]
     },
     "metadata": {
      "image/png": {
       "height": 420,
       "width": 420
      },
      "text/plain": {
       "height": 420,
       "width": 420
      }
     },
     "output_type": "display_data"
    }
   ],
   "source": [
    "plot(menshot$Year,menshot$Record,main='Mens Shotput World Records',xlab='Year',ylab='World Record Distance (m)',pch=16)\n",
    "plot(womenshot$Year,womenshot$Record,main='Womens Shotput World Records',xlab='Year',ylab='World Record Distance (m)',pch=16)"
   ]
  },
  {
   "cell_type": "markdown",
   "metadata": {},
   "source": [
    "### Linear Model"
   ]
  },
  {
   "cell_type": "code",
   "execution_count": 10,
   "metadata": {},
   "outputs": [
    {
     "name": "stdout",
     "output_type": "stream",
     "text": [
      "\n",
      "Call:\n",
      "lm(formula = menshot$Record ~ menshot$Year, data = menshot)\n",
      "\n",
      "Coefficients:\n",
      " (Intercept)  menshot$Year  \n",
      "   -243.3384        0.1341  \n",
      "\n"
     ]
    },
    {
     "data": {
      "image/png": "[encoded data removed]",
      "text/plain": [
       "Plot with title \"Mens Shotput World Records\""
      ]
     },
     "metadata": {
      "image/png": {
       "height": 420,
       "width": 420
      },
      "text/plain": {
       "height": 420,
       "width": 420
      }
     },
     "output_type": "display_data"
    }
   ],
   "source": [
    "plot(menshot$Year,menshot$Record,main='Mens Shotput World Records',xlab='Year',ylab='World Record Distance (m)',pch=16)\n",
    "\n",
    "linearMod <- lm(menshot$Record ~ menshot$Year, data=menshot)  # build linear regression model on full data\n",
    "print(linearMod)"
   ]
  },
  {
   "cell_type": "code",
   "execution_count": 13,
   "metadata": {},
   "outputs": [
    {
     "name": "stderr",
     "output_type": "stream",
     "text": [
      "-- \u001b[1mAttaching packages\u001b[22m --------------------------------------- tidyverse 1.3.0 --\n",
      "\n",
      "\u001b[32mv\u001b[39m \u001b[34mggplot2\u001b[39m 3.3.2     \u001b[32mv\u001b[39m \u001b[34mpurrr  \u001b[39m 0.3.4\n",
      "\u001b[32mv\u001b[39m \u001b[34mtibble \u001b[39m 3.0.3     \u001b[32mv\u001b[39m \u001b[34mdplyr  \u001b[39m 1.0.0\n",
      "\u001b[32mv\u001b[39m \u001b[34mtidyr  \u001b[39m 1.1.0     \u001b[32mv\u001b[39m \u001b[34mstringr\u001b[39m 1.4.0\n",
      "\u001b[32mv\u001b[39m \u001b[34mreadr  \u001b[39m 1.3.1     \u001b[32mv\u001b[39m \u001b[34mforcats\u001b[39m 0.5.0\n",
      "\n",
      "-- \u001b[1mConflicts\u001b[22m ------------------------------------------ tidyverse_conflicts() --\n",
      "\u001b[31mx\u001b[39m \u001b[34mdplyr\u001b[39m::\u001b[32mfilter()\u001b[39m masks \u001b[34mstats\u001b[39m::filter()\n",
      "\u001b[31mx\u001b[39m \u001b[34mdplyr\u001b[39m::\u001b[32mlag()\u001b[39m    masks \u001b[34mstats\u001b[39m::lag()\n",
      "\n"
     ]
    }
   ],
   "source": [
    "library(tidyverse)"
   ]
  },
  {
   "cell_type": "code",
   "execution_count": 14,
   "metadata": {},
   "outputs": [
    {
     "name": "stderr",
     "output_type": "stream",
     "text": [
      "`geom_smooth()` using formula 'y ~ x'\n",
      "\n"
     ]
    },
    {
     "data": {
      "image/png": "[encoded data removed]",
      "text/plain": [
       "plot without title"
      ]
     },
     "metadata": {
      "image/png": {
       "height": 420,
       "width": 420
      },
      "text/plain": {
       "height": 420,
       "width": 420
      }
     },
     "output_type": "display_data"
    }
   ],
   "source": [
    "Record2 <- menshot$Record\n",
    "Year2 <- menshot$Year\n",
    "\n",
    "ggplot(menshot, aes(Year2, Record2)) +\n",
    "  geom_point() +\n",
    "  stat_smooth(method = lm)"
   ]
  },
  {
   "cell_type": "code",
   "execution_count": 15,
   "metadata": {},
   "outputs": [
    {
     "data": {
      "text/plain": [
       "\n",
       "Call:\n",
       "lm(formula = menshot$Record ~ menshot$Year, data = menshot)\n",
       "\n",
       "Residuals:\n",
       "    Min      1Q  Median      3Q     Max \n",
       "-0.5718 -0.2851 -0.1659  0.2096  1.3389 \n",
       "\n",
       "Coefficients:\n",
       "               Estimate Std. Error t value Pr(>|t|)    \n",
       "(Intercept)  -2.433e+02  1.084e+01  -22.45   <2e-16 ***\n",
       "menshot$Year  1.341e-01  5.515e-03   24.32   <2e-16 ***\n",
       "---\n",
       "Signif. codes:  0 '***' 0.001 '**' 0.01 '*' 0.05 '.' 0.1 ' ' 1\n",
       "\n",
       "Residual standard error: 0.4499 on 37 degrees of freedom\n",
       "Multiple R-squared:  0.9411,\tAdjusted R-squared:  0.9395 \n",
       "F-statistic: 591.2 on 1 and 37 DF,  p-value: < 2.2e-16\n"
      ]
     },
     "metadata": {},
     "output_type": "display_data"
    }
   ],
   "source": [
    "summary(linearMod)"
   ]
  },
  {
   "cell_type": "code",
   "execution_count": 16,
   "metadata": {},
   "outputs": [
    {
     "data": {
      "image/png": "[encoded data removed]",
      "text/plain": [
       "Plot with title \"\""
      ]
     },
     "metadata": {
      "image/png": {
       "height": 420,
       "width": 420
      },
      "text/plain": {
       "height": 420,
       "width": 420
      }
     },
     "output_type": "display_data"
    },
    {
     "data": {
      "image/png": "[encoded data removed]",
      "text/plain": [
       "Plot with title \"\""
      ]
     },
     "metadata": {
      "image/png": {
       "height": 420,
       "width": 420
      },
      "text/plain": {
       "height": 420,
       "width": 420
      }
     },
     "output_type": "display_data"
    },
    {
     "data": {
      "image/png": "[encoded data removed]",
      "text/plain": [
       "Plot with title \"\""
      ]
     },
     "metadata": {
      "image/png": {
       "height": 420,
       "width": 420
      },
      "text/plain": {
       "height": 420,
       "width": 420
      }
     },
     "output_type": "display_data"
    },
    {
     "data": {
      "image/png": "[encoded data removed]",
      "text/plain": [
       "Plot with title \"\""
      ]
     },
     "metadata": {
      "image/png": {
       "height": 420,
       "width": 420
      },
      "text/plain": {
       "height": 420,
       "width": 420
      }
     },
     "output_type": "display_data"
    }
   ],
   "source": [
    "plot(linearMod)"
   ]
  },
  {
   "cell_type": "markdown",
   "metadata": {},
   "source": [
    "**How has the men’s shotput world record changed over time?  What about the women’s world record?**"
   ]
  },
  {
   "cell_type": "markdown",
   "metadata": {},
   "source": [
    "How many records are in the menshot data frame?"
   ]
  },
  {
   "cell_type": "code",
   "execution_count": 17,
   "metadata": {},
   "outputs": [
    {
     "name": "stdout",
     "output_type": "stream",
     "text": [
      "'data.frame':\t39 obs. of  7 variables:\n",
      " $ Event      : Factor w/ 10 levels \"Mens 100m\",\"Mens 800m\",..: 5 5 5 5 5 5 5 5 5 5 ...\n",
      " $ Type       : Factor w/ 2 levels \"distance\",\"time\": 1 1 1 1 1 1 1 1 1 1 ...\n",
      " $ Record     : num  17.7 17.8 17.8 17.9 17.9 ...\n",
      " $ Athlete    : Factor w/ 156 levels \" Adhemar da Silva \",..: 12 31 31 31 31 56 56 56 56 56 ...\n",
      " $ Nationality: Factor w/ 44 levels \" Algeria\",\" Australia\",..: 43 43 43 43 43 43 43 43 43 43 ...\n",
      " $ Location   : Factor w/ 147 levels \"Albuquerque, U.S.\",..: 63 94 71 141 37 43 32 71 71 71 ...\n",
      " $ Year       : int  1948 1949 1950 1950 1950 1953 1953 1954 1954 1954 ...\n"
     ]
    }
   ],
   "source": [
    "str(menshot)"
   ]
  },
  {
   "cell_type": "markdown",
   "metadata": {},
   "source": [
    "How many records in the womenshot data frame?"
   ]
  },
  {
   "cell_type": "code",
   "execution_count": 18,
   "metadata": {},
   "outputs": [
    {
     "name": "stdout",
     "output_type": "stream",
     "text": [
      "'data.frame':\t41 obs. of  7 variables:\n",
      " $ Event      : Factor w/ 10 levels \"Mens 100m\",\"Mens 800m\",..: 10 10 10 10 10 10 10 10 10 10 ...\n",
      " $ Type       : Factor w/ 2 levels \"distance\",\"time\": 1 1 1 1 1 1 1 1 1 1 ...\n",
      " $ Record     : num  14.6 14.9 15 15.3 15.4 ...\n",
      " $ Athlete    : Factor w/ 156 levels \" Adhemar da Silva \",..: 70 36 7 20 20 20 20 20 20 20 ...\n",
      " $ Nationality: Factor w/ 44 levels \" Algeria\",\" Australia\",..: 42 42 42 42 42 42 42 42 42 42 ...\n",
      " $ Location   : Factor w/ 147 levels \"Albuquerque, U.S.\",..: 81 134 102 51 44 44 76 58 66 134 ...\n",
      " $ Year       : int  1948 1949 1950 1952 1952 1952 1953 1954 1955 1955 ...\n"
     ]
    }
   ],
   "source": [
    "str(womenshot)"
   ]
  },
  {
   "cell_type": "code",
   "execution_count": 19,
   "metadata": {},
   "outputs": [
    {
     "name": "stdout",
     "output_type": "stream",
     "text": [
      "\n",
      "Call:\n",
      "lm(formula = womenshot$Record ~ womenshot$Year, data = womenshot)\n",
      "\n",
      "Coefficients:\n",
      "   (Intercept)  womenshot$Year  \n",
      "     -440.3276          0.2337  \n",
      "\n"
     ]
    },
    {
     "data": {
      "image/png": "[encoded data removed]",
      "text/plain": [
       "Plot with title \"Womens Shotput World Records\""
      ]
     },
     "metadata": {
      "image/png": {
       "height": 420,
       "width": 420
      },
      "text/plain": {
       "height": 420,
       "width": 420
      }
     },
     "output_type": "display_data"
    }
   ],
   "source": [
    "plot(womenshot$Year,womenshot$Record,main='Womens Shotput World Records',xlab='Year',ylab='World Record Distance (m)',pch=16)\n",
    "linearMod2 <- lm(womenshot$Record ~ womenshot$Year, data=womenshot)  # build linear regression model on full data\n",
    "print(linearMod2)"
   ]
  },
  {
   "cell_type": "code",
   "execution_count": 20,
   "metadata": {},
   "outputs": [
    {
     "data": {
      "text/plain": [
       "\n",
       "Call:\n",
       "lm(formula = womenshot$Record ~ womenshot$Year, data = womenshot)\n",
       "\n",
       "Residuals:\n",
       "     Min       1Q   Median       3Q      Max \n",
       "-1.34968 -0.24704  0.09981  0.35615  0.70689 \n",
       "\n",
       "Coefficients:\n",
       "                 Estimate Std. Error t value Pr(>|t|)    \n",
       "(Intercept)    -4.403e+02  1.457e+01  -30.22   <2e-16 ***\n",
       "womenshot$Year  2.337e-01  7.409e-03   31.54   <2e-16 ***\n",
       "---\n",
       "Signif. codes:  0 '***' 0.001 '**' 0.01 '*' 0.05 '.' 0.1 ' ' 1\n",
       "\n",
       "Residual standard error: 0.5061 on 39 degrees of freedom\n",
       "Multiple R-squared:  0.9623,\tAdjusted R-squared:  0.9613 \n",
       "F-statistic: 994.6 on 1 and 39 DF,  p-value: < 2.2e-16\n"
      ]
     },
     "metadata": {},
     "output_type": "display_data"
    }
   ],
   "source": [
    "summary(linearMod2)"
   ]
  },
  {
   "cell_type": "markdown",
   "metadata": {},
   "source": [
    "**What is the equation for the linear model that predicts the World Record shotput distance for men?**"
   ]
  },
  {
   "cell_type": "markdown",
   "metadata": {},
   "source": [
    "record distance = **-243.3** + (**0.134** * year)\n",
    "\n",
    "r^2 = **0.941**"
   ]
  },
  {
   "cell_type": "markdown",
   "metadata": {},
   "source": [
    "**What is the equation for the linear model that predicts the World Record shotput distance for women?**"
   ]
  },
  {
   "cell_type": "markdown",
   "metadata": {},
   "source": [
    "record distance = **-440.3** + (**0.234** * year)\n",
    "\n",
    "r^2 = **0.962**"
   ]
  },
  {
   "cell_type": "markdown",
   "metadata": {},
   "source": [
    "**What can we say about the models for men and women?**"
   ]
  },
  {
   "cell_type": "markdown",
   "metadata": {},
   "source": [
    "slope men (0.134) < slope women (0.234)\n",
    "\n",
    "Therefore, the rate of change is greater for women than for men."
   ]
  },
  {
   "cell_type": "markdown",
   "metadata": {},
   "source": [
    "**Conclusion:**"
   ]
  },
  {
   "cell_type": "markdown",
   "metadata": {},
   "source": [
    "Based on scatterplots of the men’s and women’s world record shotput distance, both of these events follow a strong,**positive** linear relationship over time. The men’s world record distance increases by an average of **0.134** meters per year, while the women’s record distance increases by an average of **0.234** meters per year. Because the intercept estimate is the value of the record distance when **year** is equal to 0, it is not interpretable in the context of the problem. Both linear models fit the data well, with R-squared values for the men’s and women’s models equal to **0.941** and **0.962**, respectively."
   ]
  },
  {
   "cell_type": "markdown",
   "metadata": {},
   "source": [
    "### How have the world record times for the men's and the women’s mile event changed over the years?"
   ]
  },
  {
   "cell_type": "code",
   "execution_count": 21,
   "metadata": {},
   "outputs": [],
   "source": [
    "#See command line [08]:\n",
    "#mens<- worldrec[worldrec$Event=='Mens Mile',]\n",
    "#womens <- worldrec[worldrec$Event=='Womens Mile',] "
   ]
  },
  {
   "cell_type": "code",
   "execution_count": 22,
   "metadata": {},
   "outputs": [
    {
     "name": "stdout",
     "output_type": "stream",
     "text": [
      "\n",
      "Call:\n",
      "lm(formula = mens$Record ~ mens$Year, data = mens)\n",
      "\n",
      "Coefficients:\n",
      "(Intercept)    mens$Year  \n",
      "  1007.4707      -0.3935  \n",
      "\n"
     ]
    },
    {
     "data": {
      "image/png": "[encoded data removed]",
      "text/plain": [
       "Plot with title \"Mens Mile World Records\""
      ]
     },
     "metadata": {
      "image/png": {
       "height": 420,
       "width": 420
      },
      "text/plain": {
       "height": 420,
       "width": 420
      }
     },
     "output_type": "display_data"
    }
   ],
   "source": [
    "plot(mens$Year,mens$Record,main='Mens Mile World Records',xlab='Year',ylab='World Record Distance (m)',pch=16)\n",
    "\n",
    "linearMod3 <- lm(mens$Record ~ mens$Year, data=mens)  # build linear regression model on full data\n",
    "print(linearMod3)"
   ]
  },
  {
   "cell_type": "code",
   "execution_count": 23,
   "metadata": {},
   "outputs": [
    {
     "data": {
      "text/plain": [
       "\n",
       "Call:\n",
       "lm(formula = mens$Record ~ mens$Year, data = mens)\n",
       "\n",
       "Residuals:\n",
       "    Min      1Q  Median      3Q     Max \n",
       "-2.6033 -0.7175 -0.1860  0.7278  2.8533 \n",
       "\n",
       "Coefficients:\n",
       "              Estimate Std. Error t value Pr(>|t|)    \n",
       "(Intercept) 1007.47075   21.35031   47.19   <2e-16 ***\n",
       "mens$Year     -0.39347    0.01091  -36.07   <2e-16 ***\n",
       "---\n",
       "Signif. codes:  0 '***' 0.001 '**' 0.01 '*' 0.05 '.' 0.1 ' ' 1\n",
       "\n",
       "Residual standard error: 1.371 on 30 degrees of freedom\n",
       "Multiple R-squared:  0.9775,\tAdjusted R-squared:  0.9767 \n",
       "F-statistic:  1301 on 1 and 30 DF,  p-value: < 2.2e-16\n"
      ]
     },
     "metadata": {},
     "output_type": "display_data"
    }
   ],
   "source": [
    "summary(linearMod3)"
   ]
  },
  {
   "cell_type": "code",
   "execution_count": 24,
   "metadata": {},
   "outputs": [
    {
     "name": "stdout",
     "output_type": "stream",
     "text": [
      "\n",
      "Call:\n",
      "lm(formula = womens$Record ~ womens$Year, data = womens)\n",
      "\n",
      "Coefficients:\n",
      "(Intercept)  womens$Year  \n",
      "  2189.2834      -0.9729  \n",
      "\n"
     ]
    },
    {
     "data": {
      "image/png": "[encoded data removed]",
      "text/plain": [
       "Plot with title \"Womens Mile World Records\""
      ]
     },
     "metadata": {
      "image/png": {
       "height": 420,
       "width": 420
      },
      "text/plain": {
       "height": 420,
       "width": 420
      }
     },
     "output_type": "display_data"
    }
   ],
   "source": [
    "plot(womens$Year,womens$Record,main='Womens Mile World Records',xlab='Year',ylab='World Record Distance (m)',pch=16)\n",
    "\n",
    "linearMod4 <- lm(womens$Record ~ womens$Year, data=womens)  # build linear regression model on full data\n",
    "print(linearMod4)"
   ]
  },
  {
   "cell_type": "code",
   "execution_count": 25,
   "metadata": {},
   "outputs": [
    {
     "data": {
      "text/plain": [
       "\n",
       "Call:\n",
       "lm(formula = womens$Record ~ womens$Year, data = womens)\n",
       "\n",
       "Residuals:\n",
       "   Min     1Q Median     3Q    Max \n",
       "-3.635 -1.853 -1.107  1.376  5.186 \n",
       "\n",
       "Coefficients:\n",
       "             Estimate Std. Error t value Pr(>|t|)    \n",
       "(Intercept) 2189.2834   198.2509  11.043 2.72e-07 ***\n",
       "womens$Year   -0.9729     0.1002  -9.713 9.88e-07 ***\n",
       "---\n",
       "Signif. codes:  0 '***' 0.001 '**' 0.01 '*' 0.05 '.' 0.1 ' ' 1\n",
       "\n",
       "Residual standard error: 2.824 on 11 degrees of freedom\n",
       "Multiple R-squared:  0.8956,\tAdjusted R-squared:  0.8861 \n",
       "F-statistic: 94.35 on 1 and 11 DF,  p-value: 9.88e-07\n"
      ]
     },
     "metadata": {},
     "output_type": "display_data"
    }
   ],
   "source": [
    "summary(linearMod4)"
   ]
  },
  {
   "cell_type": "markdown",
   "metadata": {},
   "source": [
    "**Conclusion:**"
   ]
  },
  {
   "cell_type": "markdown",
   "metadata": {},
   "source": [
    "Based on scatterplots of the men’s and women’s world record mile event, both of these events follow a strong, **negative** relationship over time. For both groups, the assumption of linearity appears to be satisﬁed. The men’s world record mile time decreases by an average of **0.393** seconds per year, while the women's record distance decreases by an average of **0.973** seconds per year. Because the **intercept** estimate is the value of the record time when year is equal to 0, it is not interpretable in the context of the problem. Both linear models ﬁt the data well, with R-squared values for the men's and women's models equal to **0.977** and **0.896**, respectively. For the men's world record, 97.7% of the **variance** is explained by the linear model of year, while for the female world record, 89.6% of the **variance** in performance can be explained by the linear model of year."
   ]
  },
  {
   "cell_type": "markdown",
   "metadata": {},
   "source": [
    "### We want to find the best-fitting linear model for men's pole vault world records since 1970."
   ]
  },
  {
   "cell_type": "code",
   "execution_count": 26,
   "metadata": {},
   "outputs": [
    {
     "data": {
      "text/html": [
       "<table>\n",
       "<caption>A data.frame: 6 × 7</caption>\n",
       "<thead>\n",
       "\t<tr><th></th><th scope=col>Event</th><th scope=col>Type</th><th scope=col>Record</th><th scope=col>Athlete</th><th scope=col>Nationality</th><th scope=col>Location</th><th scope=col>Year</th></tr>\n",
       "\t<tr><th></th><th scope=col>&lt;fct&gt;</th><th scope=col>&lt;fct&gt;</th><th scope=col>&lt;dbl&gt;</th><th scope=col>&lt;fct&gt;</th><th scope=col>&lt;fct&gt;</th><th scope=col>&lt;fct&gt;</th><th scope=col>&lt;int&gt;</th></tr>\n",
       "</thead>\n",
       "<tbody>\n",
       "\t<tr><th scope=row>169</th><td>Mens Polevault</td><td>distance</td><td>5.45</td><td>Wolfgang Nordwig     </td><td> East Germany</td><td>Berlin, Germany    </td><td>1970</td></tr>\n",
       "\t<tr><th scope=row>170</th><td>Mens Polevault</td><td>distance</td><td>5.46</td><td>Wolfgang Nordwig     </td><td> East Germany</td><td>Turin, Italy       </td><td>1970</td></tr>\n",
       "\t<tr><th scope=row>171</th><td>Mens Polevault</td><td>distance</td><td>5.49</td><td>Christos Papanikolaou</td><td> Greece      </td><td>Athens, Greece     </td><td>1970</td></tr>\n",
       "\t<tr><th scope=row>172</th><td>Mens Polevault</td><td>distance</td><td>5.51</td><td>Kjell Isaksson       </td><td> Sweden      </td><td>Austin, U.S.       </td><td>1972</td></tr>\n",
       "\t<tr><th scope=row>173</th><td>Mens Polevault</td><td>distance</td><td>5.54</td><td>Kjell Isaksson       </td><td> Sweden      </td><td>Los Angeles, U.S.  </td><td>1972</td></tr>\n",
       "\t<tr><th scope=row>174</th><td>Mens Polevault</td><td>distance</td><td>5.55</td><td>Kjell Isaksson       </td><td> Sweden      </td><td>Helsingborg, Sweden</td><td>1972</td></tr>\n",
       "</tbody>\n",
       "</table>\n"
      ],
      "text/latex": [
       "A data.frame: 6 × 7\n",
       "\\begin{tabular}{r|lllllll}\n",
       "  & Event & Type & Record & Athlete & Nationality & Location & Year\\\\\n",
       "  & <fct> & <fct> & <dbl> & <fct> & <fct> & <fct> & <int>\\\\\n",
       "\\hline\n",
       "\t169 & Mens Polevault & distance & 5.45 & Wolfgang Nordwig      &  East Germany & Berlin, Germany     & 1970\\\\\n",
       "\t170 & Mens Polevault & distance & 5.46 & Wolfgang Nordwig      &  East Germany & Turin, Italy        & 1970\\\\\n",
       "\t171 & Mens Polevault & distance & 5.49 & Christos Papanikolaou &  Greece       & Athens, Greece      & 1970\\\\\n",
       "\t172 & Mens Polevault & distance & 5.51 & Kjell Isaksson        &  Sweden       & Austin, U.S.        & 1972\\\\\n",
       "\t173 & Mens Polevault & distance & 5.54 & Kjell Isaksson        &  Sweden       & Los Angeles, U.S.   & 1972\\\\\n",
       "\t174 & Mens Polevault & distance & 5.55 & Kjell Isaksson        &  Sweden       & Helsingborg, Sweden & 1972\\\\\n",
       "\\end{tabular}\n"
      ],
      "text/markdown": [
       "\n",
       "A data.frame: 6 × 7\n",
       "\n",
       "| <!--/--> | Event &lt;fct&gt; | Type &lt;fct&gt; | Record &lt;dbl&gt; | Athlete &lt;fct&gt; | Nationality &lt;fct&gt; | Location &lt;fct&gt; | Year &lt;int&gt; |\n",
       "|---|---|---|---|---|---|---|---|\n",
       "| 169 | Mens Polevault | distance | 5.45 | Wolfgang Nordwig      |  East Germany | Berlin, Germany     | 1970 |\n",
       "| 170 | Mens Polevault | distance | 5.46 | Wolfgang Nordwig      |  East Germany | Turin, Italy        | 1970 |\n",
       "| 171 | Mens Polevault | distance | 5.49 | Christos Papanikolaou |  Greece       | Athens, Greece      | 1970 |\n",
       "| 172 | Mens Polevault | distance | 5.51 | Kjell Isaksson        |  Sweden       | Austin, U.S.        | 1972 |\n",
       "| 173 | Mens Polevault | distance | 5.54 | Kjell Isaksson        |  Sweden       | Los Angeles, U.S.   | 1972 |\n",
       "| 174 | Mens Polevault | distance | 5.55 | Kjell Isaksson        |  Sweden       | Helsingborg, Sweden | 1972 |\n",
       "\n"
      ],
      "text/plain": [
       "    Event          Type     Record Athlete               Nationality  \n",
       "169 Mens Polevault distance 5.45   Wolfgang Nordwig       East Germany\n",
       "170 Mens Polevault distance 5.46   Wolfgang Nordwig       East Germany\n",
       "171 Mens Polevault distance 5.49   Christos Papanikolaou  Greece      \n",
       "172 Mens Polevault distance 5.51   Kjell Isaksson         Sweden      \n",
       "173 Mens Polevault distance 5.54   Kjell Isaksson         Sweden      \n",
       "174 Mens Polevault distance 5.55   Kjell Isaksson         Sweden      \n",
       "    Location            Year\n",
       "169 Berlin, Germany     1970\n",
       "170 Turin, Italy        1970\n",
       "171 Athens, Greece      1970\n",
       "172 Austin, U.S.        1972\n",
       "173 Los Angeles, U.S.   1972\n",
       "174 Helsingborg, Sweden 1972"
      ]
     },
     "metadata": {},
     "output_type": "display_data"
    }
   ],
   "source": [
    "menspole <-worldrec[worldrec$Event == \"Mens Polevault\",]\n",
    "menspole70 <- menspole[menspole$Year > 1969,]\n",
    "head(menspole70)"
   ]
  },
  {
   "cell_type": "code",
   "execution_count": 27,
   "metadata": {},
   "outputs": [
    {
     "name": "stdout",
     "output_type": "stream",
     "text": [
      "'data.frame':\t37 obs. of  7 variables:\n",
      " $ Event      : Factor w/ 10 levels \"Mens 100m\",\"Mens 800m\",..: 4 4 4 4 4 4 4 4 4 4 ...\n",
      " $ Type       : Factor w/ 2 levels \"distance\",\"time\": 1 1 1 1 1 1 1 1 1 1 ...\n",
      " $ Record     : num  5.45 5.46 5.49 5.51 5.54 5.55 5.63 5.65 5.67 5.7 ...\n",
      " $ Athlete    : Factor w/ 156 levels \" Adhemar da Silva \",..: 155 155 93 120 120 120 88 95 99 95 ...\n",
      " $ Nationality: Factor w/ 44 levels \" Algeria\",\" Australia\",..: 3 3 6 15 15 15 19 19 19 19 ...\n",
      " $ Location   : Factor w/ 147 levels \"Albuquerque, U.S.\",..: 15 136 4 7 71 50 38 46 144 38 ...\n",
      " $ Year       : int  1970 1970 1970 1972 1972 1972 1972 1975 1976 1976 ...\n"
     ]
    }
   ],
   "source": [
    "str(menspole70)"
   ]
  },
  {
   "cell_type": "markdown",
   "metadata": {},
   "source": [
    "What is the standing world record height (in meters) for men's pole vault?"
   ]
  },
  {
   "cell_type": "code",
   "execution_count": 28,
   "metadata": {},
   "outputs": [
    {
     "data": {
      "text/html": [
       "37"
      ],
      "text/latex": [
       "37"
      ],
      "text/markdown": [
       "37"
      ],
      "text/plain": [
       "[1] 37"
      ]
     },
     "metadata": {},
     "output_type": "display_data"
    }
   ],
   "source": [
    "which(menspole70$Record == max(menspole70$Record))"
   ]
  },
  {
   "cell_type": "code",
   "execution_count": 29,
   "metadata": {},
   "outputs": [
    {
     "data": {
      "text/html": [
       "<table>\n",
       "<caption>A data.frame: 1 × 7</caption>\n",
       "<thead>\n",
       "\t<tr><th></th><th scope=col>Event</th><th scope=col>Type</th><th scope=col>Record</th><th scope=col>Athlete</th><th scope=col>Nationality</th><th scope=col>Location</th><th scope=col>Year</th></tr>\n",
       "\t<tr><th></th><th scope=col>&lt;fct&gt;</th><th scope=col>&lt;fct&gt;</th><th scope=col>&lt;dbl&gt;</th><th scope=col>&lt;fct&gt;</th><th scope=col>&lt;fct&gt;</th><th scope=col>&lt;fct&gt;</th><th scope=col>&lt;int&gt;</th></tr>\n",
       "</thead>\n",
       "<tbody>\n",
       "\t<tr><th scope=row>205</th><td>Mens Polevault</td><td>distance</td><td>6.14</td><td>Sergey Bubka</td><td> Ukraine</td><td>Sestriere, Italy</td><td>1994</td></tr>\n",
       "</tbody>\n",
       "</table>\n"
      ],
      "text/latex": [
       "A data.frame: 1 × 7\n",
       "\\begin{tabular}{r|lllllll}\n",
       "  & Event & Type & Record & Athlete & Nationality & Location & Year\\\\\n",
       "  & <fct> & <fct> & <dbl> & <fct> & <fct> & <fct> & <int>\\\\\n",
       "\\hline\n",
       "\t205 & Mens Polevault & distance & 6.14 & Sergey Bubka &  Ukraine & Sestriere, Italy & 1994\\\\\n",
       "\\end{tabular}\n"
      ],
      "text/markdown": [
       "\n",
       "A data.frame: 1 × 7\n",
       "\n",
       "| <!--/--> | Event &lt;fct&gt; | Type &lt;fct&gt; | Record &lt;dbl&gt; | Athlete &lt;fct&gt; | Nationality &lt;fct&gt; | Location &lt;fct&gt; | Year &lt;int&gt; |\n",
       "|---|---|---|---|---|---|---|---|\n",
       "| 205 | Mens Polevault | distance | 6.14 | Sergey Bubka |  Ukraine | Sestriere, Italy | 1994 |\n",
       "\n"
      ],
      "text/plain": [
       "    Event          Type     Record Athlete      Nationality Location        \n",
       "205 Mens Polevault distance 6.14   Sergey Bubka  Ukraine    Sestriere, Italy\n",
       "    Year\n",
       "205 1994"
      ]
     },
     "metadata": {},
     "output_type": "display_data"
    }
   ],
   "source": [
    "menspole70[37,]"
   ]
  },
  {
   "cell_type": "markdown",
   "metadata": {},
   "source": [
    "In what year did the pole vault record first exceed 6 meters? "
   ]
  },
  {
   "cell_type": "code",
   "execution_count": 30,
   "metadata": {},
   "outputs": [
    {
     "data": {
      "text/html": [
       "<table>\n",
       "<caption>A data.frame: 12 × 7</caption>\n",
       "<thead>\n",
       "\t<tr><th></th><th scope=col>Event</th><th scope=col>Type</th><th scope=col>Record</th><th scope=col>Athlete</th><th scope=col>Nationality</th><th scope=col>Location</th><th scope=col>Year</th></tr>\n",
       "\t<tr><th></th><th scope=col>&lt;fct&gt;</th><th scope=col>&lt;fct&gt;</th><th scope=col>&lt;dbl&gt;</th><th scope=col>&lt;fct&gt;</th><th scope=col>&lt;fct&gt;</th><th scope=col>&lt;fct&gt;</th><th scope=col>&lt;int&gt;</th></tr>\n",
       "</thead>\n",
       "<tbody>\n",
       "\t<tr><th scope=row>194</th><td>Mens Polevault</td><td>distance</td><td>6.01</td><td>Sergey Bubka</td><td> Soviet Union</td><td>Moscow, Soviet Union      </td><td>1986</td></tr>\n",
       "\t<tr><th scope=row>195</th><td>Mens Polevault</td><td>distance</td><td>6.03</td><td>Sergey Bubka</td><td> Soviet Union</td><td>Prague, Czechoslovakia    </td><td>1987</td></tr>\n",
       "\t<tr><th scope=row>196</th><td>Mens Polevault</td><td>distance</td><td>6.05</td><td>Sergey Bubka</td><td> Soviet Union</td><td>Bratislava, Czechoslovakia</td><td>1988</td></tr>\n",
       "\t<tr><th scope=row>197</th><td>Mens Polevault</td><td>distance</td><td>6.06</td><td>Sergey Bubka</td><td> Soviet Union</td><td>Nice, France              </td><td>1988</td></tr>\n",
       "\t<tr><th scope=row>198</th><td>Mens Polevault</td><td>distance</td><td>6.07</td><td>Sergey Bubka</td><td> Soviet Union</td><td>Shizuoka, Japan           </td><td>1991</td></tr>\n",
       "\t<tr><th scope=row>199</th><td>Mens Polevault</td><td>distance</td><td>6.08</td><td>Sergey Bubka</td><td> Soviet Union</td><td>Moscow, Soviet Union      </td><td>1991</td></tr>\n",
       "\t<tr><th scope=row>200</th><td>Mens Polevault</td><td>distance</td><td>6.09</td><td>Sergey Bubka</td><td> Soviet Union</td><td>Formia, Italy             </td><td>1991</td></tr>\n",
       "\t<tr><th scope=row>201</th><td>Mens Polevault</td><td>distance</td><td>6.10</td><td>Sergey Bubka</td><td> Soviet Union</td><td>Malmö, Sweden             </td><td>1991</td></tr>\n",
       "\t<tr><th scope=row>202</th><td>Mens Polevault</td><td>distance</td><td>6.11</td><td>Sergey Bubka</td><td> Ukraine     </td><td>Dijon, France             </td><td>1992</td></tr>\n",
       "\t<tr><th scope=row>203</th><td>Mens Polevault</td><td>distance</td><td>6.12</td><td>Sergey Bubka</td><td> Ukraine     </td><td>Padua, Italy              </td><td>1992</td></tr>\n",
       "\t<tr><th scope=row>204</th><td>Mens Polevault</td><td>distance</td><td>6.13</td><td>Sergey Bubka</td><td> Ukraine     </td><td>Tokyo, Japan              </td><td>1992</td></tr>\n",
       "\t<tr><th scope=row>205</th><td>Mens Polevault</td><td>distance</td><td>6.14</td><td>Sergey Bubka</td><td> Ukraine     </td><td>Sestriere, Italy          </td><td>1994</td></tr>\n",
       "</tbody>\n",
       "</table>\n"
      ],
      "text/latex": [
       "A data.frame: 12 × 7\n",
       "\\begin{tabular}{r|lllllll}\n",
       "  & Event & Type & Record & Athlete & Nationality & Location & Year\\\\\n",
       "  & <fct> & <fct> & <dbl> & <fct> & <fct> & <fct> & <int>\\\\\n",
       "\\hline\n",
       "\t194 & Mens Polevault & distance & 6.01 & Sergey Bubka &  Soviet Union & Moscow, Soviet Union       & 1986\\\\\n",
       "\t195 & Mens Polevault & distance & 6.03 & Sergey Bubka &  Soviet Union & Prague, Czechoslovakia     & 1987\\\\\n",
       "\t196 & Mens Polevault & distance & 6.05 & Sergey Bubka &  Soviet Union & Bratislava, Czechoslovakia & 1988\\\\\n",
       "\t197 & Mens Polevault & distance & 6.06 & Sergey Bubka &  Soviet Union & Nice, France               & 1988\\\\\n",
       "\t198 & Mens Polevault & distance & 6.07 & Sergey Bubka &  Soviet Union & Shizuoka, Japan            & 1991\\\\\n",
       "\t199 & Mens Polevault & distance & 6.08 & Sergey Bubka &  Soviet Union & Moscow, Soviet Union       & 1991\\\\\n",
       "\t200 & Mens Polevault & distance & 6.09 & Sergey Bubka &  Soviet Union & Formia, Italy              & 1991\\\\\n",
       "\t201 & Mens Polevault & distance & 6.10 & Sergey Bubka &  Soviet Union & Malmö, Sweden              & 1991\\\\\n",
       "\t202 & Mens Polevault & distance & 6.11 & Sergey Bubka &  Ukraine      & Dijon, France              & 1992\\\\\n",
       "\t203 & Mens Polevault & distance & 6.12 & Sergey Bubka &  Ukraine      & Padua, Italy               & 1992\\\\\n",
       "\t204 & Mens Polevault & distance & 6.13 & Sergey Bubka &  Ukraine      & Tokyo, Japan               & 1992\\\\\n",
       "\t205 & Mens Polevault & distance & 6.14 & Sergey Bubka &  Ukraine      & Sestriere, Italy           & 1994\\\\\n",
       "\\end{tabular}\n"
      ],
      "text/markdown": [
       "\n",
       "A data.frame: 12 × 7\n",
       "\n",
       "| <!--/--> | Event &lt;fct&gt; | Type &lt;fct&gt; | Record &lt;dbl&gt; | Athlete &lt;fct&gt; | Nationality &lt;fct&gt; | Location &lt;fct&gt; | Year &lt;int&gt; |\n",
       "|---|---|---|---|---|---|---|---|\n",
       "| 194 | Mens Polevault | distance | 6.01 | Sergey Bubka |  Soviet Union | Moscow, Soviet Union       | 1986 |\n",
       "| 195 | Mens Polevault | distance | 6.03 | Sergey Bubka |  Soviet Union | Prague, Czechoslovakia     | 1987 |\n",
       "| 196 | Mens Polevault | distance | 6.05 | Sergey Bubka |  Soviet Union | Bratislava, Czechoslovakia | 1988 |\n",
       "| 197 | Mens Polevault | distance | 6.06 | Sergey Bubka |  Soviet Union | Nice, France               | 1988 |\n",
       "| 198 | Mens Polevault | distance | 6.07 | Sergey Bubka |  Soviet Union | Shizuoka, Japan            | 1991 |\n",
       "| 199 | Mens Polevault | distance | 6.08 | Sergey Bubka |  Soviet Union | Moscow, Soviet Union       | 1991 |\n",
       "| 200 | Mens Polevault | distance | 6.09 | Sergey Bubka |  Soviet Union | Formia, Italy              | 1991 |\n",
       "| 201 | Mens Polevault | distance | 6.10 | Sergey Bubka |  Soviet Union | Malmö, Sweden              | 1991 |\n",
       "| 202 | Mens Polevault | distance | 6.11 | Sergey Bubka |  Ukraine      | Dijon, France              | 1992 |\n",
       "| 203 | Mens Polevault | distance | 6.12 | Sergey Bubka |  Ukraine      | Padua, Italy               | 1992 |\n",
       "| 204 | Mens Polevault | distance | 6.13 | Sergey Bubka |  Ukraine      | Tokyo, Japan               | 1992 |\n",
       "| 205 | Mens Polevault | distance | 6.14 | Sergey Bubka |  Ukraine      | Sestriere, Italy           | 1994 |\n",
       "\n"
      ],
      "text/plain": [
       "    Event          Type     Record Athlete      Nationality  \n",
       "194 Mens Polevault distance 6.01   Sergey Bubka  Soviet Union\n",
       "195 Mens Polevault distance 6.03   Sergey Bubka  Soviet Union\n",
       "196 Mens Polevault distance 6.05   Sergey Bubka  Soviet Union\n",
       "197 Mens Polevault distance 6.06   Sergey Bubka  Soviet Union\n",
       "198 Mens Polevault distance 6.07   Sergey Bubka  Soviet Union\n",
       "199 Mens Polevault distance 6.08   Sergey Bubka  Soviet Union\n",
       "200 Mens Polevault distance 6.09   Sergey Bubka  Soviet Union\n",
       "201 Mens Polevault distance 6.10   Sergey Bubka  Soviet Union\n",
       "202 Mens Polevault distance 6.11   Sergey Bubka  Ukraine     \n",
       "203 Mens Polevault distance 6.12   Sergey Bubka  Ukraine     \n",
       "204 Mens Polevault distance 6.13   Sergey Bubka  Ukraine     \n",
       "205 Mens Polevault distance 6.14   Sergey Bubka  Ukraine     \n",
       "    Location                   Year\n",
       "194 Moscow, Soviet Union       1986\n",
       "195 Prague, Czechoslovakia     1987\n",
       "196 Bratislava, Czechoslovakia 1988\n",
       "197 Nice, France               1988\n",
       "198 Shizuoka, Japan            1991\n",
       "199 Moscow, Soviet Union       1991\n",
       "200 Formia, Italy              1991\n",
       "201 Malmö, Sweden              1991\n",
       "202 Dijon, France              1992\n",
       "203 Padua, Italy               1992\n",
       "204 Tokyo, Japan               1992\n",
       "205 Sestriere, Italy           1994"
      ]
     },
     "metadata": {},
     "output_type": "display_data"
    }
   ],
   "source": [
    "menspole70more6 <- menspole70[menspole70$Record > 6,]\n",
    "menspole70more6"
   ]
  },
  {
   "cell_type": "code",
   "execution_count": 31,
   "metadata": {},
   "outputs": [
    {
     "name": "stdout",
     "output_type": "stream",
     "text": [
      "\n",
      "Call:\n",
      "lm(formula = menspole70$Record ~ menspole70$Year, data = menspole70)\n",
      "\n",
      "Coefficients:\n",
      "    (Intercept)  menspole70$Year  \n",
      "      -51.85410          0.02911  \n",
      "\n"
     ]
    },
    {
     "data": {
      "image/png": "[encoded data removed]",
      "text/plain": [
       "Plot with title \"Mens Polevault World Records\""
      ]
     },
     "metadata": {
      "image/png": {
       "height": 420,
       "width": 420
      },
      "text/plain": {
       "height": 420,
       "width": 420
      }
     },
     "output_type": "display_data"
    }
   ],
   "source": [
    "plot(menspole70$Year,menspole70$Record,main='Mens Polevault World Records',xlab='Year',ylab='World Record Height (m)',pch=16)\n",
    "\n",
    "linearMod5 <- lm(menspole70$Record ~ menspole70$Year, data=menspole70)  # build linear regression model on full data\n",
    "print(linearMod5)"
   ]
  },
  {
   "cell_type": "code",
   "execution_count": 32,
   "metadata": {},
   "outputs": [
    {
     "data": {
      "text/plain": [
       "\n",
       "Call:\n",
       "lm(formula = menspole70$Record ~ menspole70$Year, data = menspole70)\n",
       "\n",
       "Residuals:\n",
       "      Min        1Q    Median        3Q       Max \n",
       "-0.058171 -0.028171 -0.005313  0.015400  0.084687 \n",
       "\n",
       "Coefficients:\n",
       "                  Estimate Std. Error t value Pr(>|t|)    \n",
       "(Intercept)     -5.185e+01  1.625e+00  -31.91   <2e-16 ***\n",
       "menspole70$Year  2.911e-02  8.199e-04   35.50   <2e-16 ***\n",
       "---\n",
       "Signif. codes:  0 '***' 0.001 '**' 0.01 '*' 0.05 '.' 0.1 ' ' 1\n",
       "\n",
       "Residual standard error: 0.0356 on 35 degrees of freedom\n",
       "Multiple R-squared:  0.973,\tAdjusted R-squared:  0.9722 \n",
       "F-statistic:  1260 on 1 and 35 DF,  p-value: < 2.2e-16\n"
      ]
     },
     "metadata": {},
     "output_type": "display_data"
    }
   ],
   "source": [
    "summary(linearMod5)"
   ]
  }
 ],
 "metadata": {
  "kernelspec": {
   "display_name": "R",
   "language": "R",
   "name": "ir"
  },
  "language_info": {
   "codemirror_mode": "r",
   "file_extension": ".r",
   "mimetype": "text/x-r-source",
   "name": "R",
   "pygments_lexer": "r",
   "version": "3.6.3"
  }
 },
 "nbformat": 4,
 "nbformat_minor": 4
}
