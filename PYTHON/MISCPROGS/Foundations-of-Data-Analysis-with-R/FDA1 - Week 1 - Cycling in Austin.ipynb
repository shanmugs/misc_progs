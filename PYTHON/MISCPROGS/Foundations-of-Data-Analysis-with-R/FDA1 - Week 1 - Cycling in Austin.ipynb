{
 "cells": [
  {
   "cell_type": "markdown",
   "metadata": {},
   "source": [
    "# Foundations of Data Analysis 1 - Week 1 - Cycling in Austin"
   ]
  },
  {
   "cell_type": "markdown",
   "metadata": {},
   "source": [
    "<img src=\"images/week11.jpg\">"
   ]
  },
  {
   "cell_type": "markdown",
   "metadata": {},
   "source": [
    "In 2011, researchers at the Texas Transportation Institute and the Center for Transportation Research at UT Austin ran an advertising campaign aimed at recruiting Austin cyclists to join the South Congress Bike Mapping Project.  As members of the project, cyclists downloaded and used Cycle Tracks, a smartphone app developed by the San Francisco County Transportation Authority to track where people are riding their bikes based on their GPS points.  The goal was to gain new information about bike commuting patterns and this data set is based on the results of the study: 3600 trips tracked from 315 users over a 6 month period.   Data includes distances traveled, speed of travel, and reasons for travel among other variables."
   ]
  },
  {
   "cell_type": "code",
   "execution_count": 1,
   "metadata": {},
   "outputs": [
    {
     "data": {
      "text/html": [
       "<table>\n",
       "<caption>A data.frame: 6 × 9</caption>\n",
       "<thead>\n",
       "\t<tr><th></th><th scope=col>user_id</th><th scope=col>age</th><th scope=col>gender</th><th scope=col>student</th><th scope=col>employed</th><th scope=col>cyc_freq</th><th scope=col>distance</th><th scope=col>time</th><th scope=col>speed</th></tr>\n",
       "\t<tr><th></th><th scope=col>&lt;int&gt;</th><th scope=col>&lt;int&gt;</th><th scope=col>&lt;fct&gt;</th><th scope=col>&lt;int&gt;</th><th scope=col>&lt;int&gt;</th><th scope=col>&lt;fct&gt;</th><th scope=col>&lt;dbl&gt;</th><th scope=col>&lt;int&gt;</th><th scope=col>&lt;dbl&gt;</th></tr>\n",
       "</thead>\n",
       "<tbody>\n",
       "\t<tr><th scope=row>1</th><td>1</td><td>28</td><td>M</td><td>1</td><td>1</td><td>Daily                 </td><td>3.25</td><td>15</td><td>13.00</td></tr>\n",
       "\t<tr><th scope=row>2</th><td>2</td><td>35</td><td>M</td><td>0</td><td>1</td><td>Daily                 </td><td>1.11</td><td> 5</td><td>13.32</td></tr>\n",
       "\t<tr><th scope=row>3</th><td>3</td><td>28</td><td>M</td><td>0</td><td>1</td><td>Daily                 </td><td>5.59</td><td>23</td><td>14.58</td></tr>\n",
       "\t<tr><th scope=row>4</th><td>4</td><td>44</td><td>F</td><td>0</td><td>1</td><td>Less than once a month</td><td>3.24</td><td>24</td><td> 8.10</td></tr>\n",
       "\t<tr><th scope=row>5</th><td>5</td><td>42</td><td>M</td><td>0</td><td>1</td><td>Several times per week</td><td>7.81</td><td>26</td><td>18.02</td></tr>\n",
       "\t<tr><th scope=row>6</th><td>6</td><td>36</td><td>M</td><td>0</td><td>1</td><td>Several times per week</td><td>3.00</td><td>20</td><td> 9.00</td></tr>\n",
       "</tbody>\n",
       "</table>\n"
      ],
      "text/latex": [
       "A data.frame: 6 × 9\n",
       "\\begin{tabular}{r|lllllllll}\n",
       "  & user\\_id & age & gender & student & employed & cyc\\_freq & distance & time & speed\\\\\n",
       "  & <int> & <int> & <fct> & <int> & <int> & <fct> & <dbl> & <int> & <dbl>\\\\\n",
       "\\hline\n",
       "\t1 & 1 & 28 & M & 1 & 1 & Daily                  & 3.25 & 15 & 13.00\\\\\n",
       "\t2 & 2 & 35 & M & 0 & 1 & Daily                  & 1.11 &  5 & 13.32\\\\\n",
       "\t3 & 3 & 28 & M & 0 & 1 & Daily                  & 5.59 & 23 & 14.58\\\\\n",
       "\t4 & 4 & 44 & F & 0 & 1 & Less than once a month & 3.24 & 24 &  8.10\\\\\n",
       "\t5 & 5 & 42 & M & 0 & 1 & Several times per week & 7.81 & 26 & 18.02\\\\\n",
       "\t6 & 6 & 36 & M & 0 & 1 & Several times per week & 3.00 & 20 &  9.00\\\\\n",
       "\\end{tabular}\n"
      ],
      "text/markdown": [
       "\n",
       "A data.frame: 6 × 9\n",
       "\n",
       "| <!--/--> | user_id &lt;int&gt; | age &lt;int&gt; | gender &lt;fct&gt; | student &lt;int&gt; | employed &lt;int&gt; | cyc_freq &lt;fct&gt; | distance &lt;dbl&gt; | time &lt;int&gt; | speed &lt;dbl&gt; |\n",
       "|---|---|---|---|---|---|---|---|---|---|\n",
       "| 1 | 1 | 28 | M | 1 | 1 | Daily                  | 3.25 | 15 | 13.00 |\n",
       "| 2 | 2 | 35 | M | 0 | 1 | Daily                  | 1.11 |  5 | 13.32 |\n",
       "| 3 | 3 | 28 | M | 0 | 1 | Daily                  | 5.59 | 23 | 14.58 |\n",
       "| 4 | 4 | 44 | F | 0 | 1 | Less than once a month | 3.24 | 24 |  8.10 |\n",
       "| 5 | 5 | 42 | M | 0 | 1 | Several times per week | 7.81 | 26 | 18.02 |\n",
       "| 6 | 6 | 36 | M | 0 | 1 | Several times per week | 3.00 | 20 |  9.00 |\n",
       "\n"
      ],
      "text/plain": [
       "  user_id age gender student employed cyc_freq               distance time\n",
       "1 1       28  M      1       1        Daily                  3.25     15  \n",
       "2 2       35  M      0       1        Daily                  1.11      5  \n",
       "3 3       28  M      0       1        Daily                  5.59     23  \n",
       "4 4       44  F      0       1        Less than once a month 3.24     24  \n",
       "5 5       42  M      0       1        Several times per week 7.81     26  \n",
       "6 6       36  M      0       1        Several times per week 3.00     20  \n",
       "  speed\n",
       "1 13.00\n",
       "2 13.32\n",
       "3 14.58\n",
       "4  8.10\n",
       "5 18.02\n",
       "6  9.00"
      ]
     },
     "metadata": {},
     "output_type": "display_data"
    }
   ],
   "source": [
    "BikeData <- read.csv(\"data/BikeData.csv\")\n",
    "head(BikeData)"
   ]
  },
  {
   "cell_type": "code",
   "execution_count": 2,
   "metadata": {},
   "outputs": [
    {
     "name": "stdout",
     "output_type": "stream",
     "text": [
      "'data.frame':\t121 obs. of  9 variables:\n",
      " $ user_id : int  1 2 3 4 5 6 7 8 9 10 ...\n",
      " $ age     : int  28 35 28 44 42 36 45 54 39 44 ...\n",
      " $ gender  : Factor w/ 2 levels \"F\",\"M\": 2 2 2 1 2 2 2 2 2 2 ...\n",
      " $ student : int  1 0 0 0 0 0 0 0 0 0 ...\n",
      " $ employed: int  1 1 1 1 1 1 1 1 1 0 ...\n",
      " $ cyc_freq: Factor w/ 4 levels \"Daily\",\"Less than once a month\",..: 1 1 1 2 4 4 4 4 4 3 ...\n",
      " $ distance: num  3.25 1.11 5.59 3.24 7.81 ...\n",
      " $ time    : int  15 5 23 24 26 20 51 39 50 44 ...\n",
      " $ speed   : num  13 13.3 14.6 8.1 18 ...\n"
     ]
    }
   ],
   "source": [
    "str(BikeData)"
   ]
  },
  {
   "cell_type": "markdown",
   "metadata": {},
   "source": [
    "What is the age of the 7th rider in the dataset?"
   ]
  },
  {
   "cell_type": "code",
   "execution_count": 3,
   "metadata": {},
   "outputs": [
    {
     "data": {
      "text/html": [
       "45"
      ],
      "text/latex": [
       "45"
      ],
      "text/markdown": [
       "45"
      ],
      "text/plain": [
       "[1] 45"
      ]
     },
     "metadata": {},
     "output_type": "display_data"
    }
   ],
   "source": [
    "BikeData$age[7]"
   ]
  },
  {
   "cell_type": "markdown",
   "metadata": {},
   "source": [
    "How many of the first 10 riders in the dataset ride daily?"
   ]
  },
  {
   "cell_type": "code",
   "execution_count": 4,
   "metadata": {},
   "outputs": [
    {
     "data": {
      "text/html": [
       "3"
      ],
      "text/latex": [
       "3"
      ],
      "text/markdown": [
       "3"
      ],
      "text/plain": [
       "[1] 3"
      ]
     },
     "metadata": {},
     "output_type": "display_data"
    }
   ],
   "source": [
    "length(BikeData[BikeData$user_id<=10 & BikeData$cyc_freq==\"Daily\"])"
   ]
  },
  {
   "cell_type": "markdown",
   "metadata": {},
   "source": [
    "What is the speed of the first female who cycles less than one time per month (in miles/hour)?"
   ]
  },
  {
   "cell_type": "code",
   "execution_count": 5,
   "metadata": {},
   "outputs": [
    {
     "data": {
      "text/html": [
       "<style>\n",
       ".list-inline {list-style: none; margin:0; padding: 0}\n",
       ".list-inline>li {display: inline-block}\n",
       ".list-inline>li:not(:last-child)::after {content: \"\\00b7\"; padding: 0 .5ex}\n",
       "</style>\n",
       "<ol class=list-inline><li>'Daily'</li><li>'Less than once a month'</li><li>'Several times per month'</li><li>'Several times per week'</li></ol>\n"
      ],
      "text/latex": [
       "\\begin{enumerate*}\n",
       "\\item 'Daily'\n",
       "\\item 'Less than once a month'\n",
       "\\item 'Several times per month'\n",
       "\\item 'Several times per week'\n",
       "\\end{enumerate*}\n"
      ],
      "text/markdown": [
       "1. 'Daily'\n",
       "2. 'Less than once a month'\n",
       "3. 'Several times per month'\n",
       "4. 'Several times per week'\n",
       "\n",
       "\n"
      ],
      "text/plain": [
       "[1] \"Daily\"                   \"Less than once a month\" \n",
       "[3] \"Several times per month\" \"Several times per week\" "
      ]
     },
     "metadata": {},
     "output_type": "display_data"
    }
   ],
   "source": [
    "levels(BikeData$cyc_freq)"
   ]
  },
  {
   "cell_type": "code",
   "execution_count": 6,
   "metadata": {},
   "outputs": [
    {
     "data": {
      "text/html": [
       "<style>\n",
       ".list-inline {list-style: none; margin:0; padding: 0}\n",
       ".list-inline>li {display: inline-block}\n",
       ".list-inline>li:not(:last-child)::after {content: \"\\00b7\"; padding: 0 .5ex}\n",
       "</style>\n",
       "<ol class=list-inline><li>8.1</li><li>14.8</li></ol>\n"
      ],
      "text/latex": [
       "\\begin{enumerate*}\n",
       "\\item 8.1\n",
       "\\item 14.8\n",
       "\\end{enumerate*}\n"
      ],
      "text/markdown": [
       "1. 8.1\n",
       "2. 14.8\n",
       "\n",
       "\n"
      ],
      "text/plain": [
       "[1]  8.1 14.8"
      ]
     },
     "metadata": {},
     "output_type": "display_data"
    }
   ],
   "source": [
    "BikeData$speed[BikeData$cyc_freq==\"Less than once a month\" & BikeData$gender=='F']"
   ]
  },
  {
   "cell_type": "markdown",
   "metadata": {},
   "source": [
    "What type of variable is student?"
   ]
  },
  {
   "cell_type": "code",
   "execution_count": 7,
   "metadata": {},
   "outputs": [
    {
     "data": {
      "text/html": [
       "'integer'"
      ],
      "text/latex": [
       "'integer'"
      ],
      "text/markdown": [
       "'integer'"
      ],
      "text/plain": [
       "[1] \"integer\""
      ]
     },
     "metadata": {},
     "output_type": "display_data"
    }
   ],
   "source": [
    "class(BikeData$student)"
   ]
  },
  {
   "cell_type": "markdown",
   "metadata": {},
   "source": [
    "What type of variable is cyc_freq?"
   ]
  },
  {
   "cell_type": "code",
   "execution_count": 8,
   "metadata": {},
   "outputs": [
    {
     "data": {
      "text/html": [
       "'factor'"
      ],
      "text/latex": [
       "'factor'"
      ],
      "text/markdown": [
       "'factor'"
      ],
      "text/plain": [
       "[1] \"factor\""
      ]
     },
     "metadata": {},
     "output_type": "display_data"
    }
   ],
   "source": [
    "class(BikeData$cyc_freq)"
   ]
  },
  {
   "cell_type": "markdown",
   "metadata": {},
   "source": [
    "What type of variable is distance?"
   ]
  },
  {
   "cell_type": "code",
   "execution_count": 9,
   "metadata": {},
   "outputs": [
    {
     "data": {
      "text/html": [
       "'numeric'"
      ],
      "text/latex": [
       "'numeric'"
      ],
      "text/markdown": [
       "'numeric'"
      ],
      "text/plain": [
       "[1] \"numeric\""
      ]
     },
     "metadata": {},
     "output_type": "display_data"
    }
   ],
   "source": [
    "class(BikeData$distance)"
   ]
  },
  {
   "cell_type": "markdown",
   "metadata": {},
   "source": [
    "How many students are in the dataset?"
   ]
  },
  {
   "cell_type": "code",
   "execution_count": 10,
   "metadata": {},
   "outputs": [
    {
     "data": {
      "text/plain": [
       "\n",
       "  0   1 \n",
       "107  14 "
      ]
     },
     "metadata": {},
     "output_type": "display_data"
    }
   ],
   "source": [
    "table(BikeData$student)"
   ]
  },
  {
   "cell_type": "markdown",
   "metadata": {},
   "source": [
    "Since we only want to work with the student data, let’s create a new data frame that only includes students."
   ]
  },
  {
   "cell_type": "code",
   "execution_count": 11,
   "metadata": {},
   "outputs": [
    {
     "data": {
      "text/html": [
       "<table>\n",
       "<caption>A data.frame: 14 × 9</caption>\n",
       "<thead>\n",
       "\t<tr><th></th><th scope=col>user_id</th><th scope=col>age</th><th scope=col>gender</th><th scope=col>student</th><th scope=col>employed</th><th scope=col>cyc_freq</th><th scope=col>distance</th><th scope=col>time</th><th scope=col>speed</th></tr>\n",
       "\t<tr><th></th><th scope=col>&lt;int&gt;</th><th scope=col>&lt;int&gt;</th><th scope=col>&lt;fct&gt;</th><th scope=col>&lt;int&gt;</th><th scope=col>&lt;int&gt;</th><th scope=col>&lt;fct&gt;</th><th scope=col>&lt;dbl&gt;</th><th scope=col>&lt;int&gt;</th><th scope=col>&lt;dbl&gt;</th></tr>\n",
       "</thead>\n",
       "<tbody>\n",
       "\t<tr><th scope=row>1</th><td>  1</td><td>28</td><td>M</td><td>1</td><td>1</td><td>Daily                 </td><td> 3.25</td><td>15</td><td>13.00</td></tr>\n",
       "\t<tr><th scope=row>15</th><td> 15</td><td>26</td><td>M</td><td>1</td><td>1</td><td>Daily                 </td><td>10.94</td><td>34</td><td>19.31</td></tr>\n",
       "\t<tr><th scope=row>18</th><td> 18</td><td>32</td><td>F</td><td>1</td><td>1</td><td>Daily                 </td><td> 9.34</td><td>40</td><td>14.01</td></tr>\n",
       "\t<tr><th scope=row>31</th><td> 31</td><td>25</td><td>M</td><td>1</td><td>1</td><td>Daily                 </td><td> 1.25</td><td> 6</td><td>12.50</td></tr>\n",
       "\t<tr><th scope=row>49</th><td> 49</td><td>44</td><td>M</td><td>1</td><td>1</td><td>Several times per week</td><td> 9.29</td><td>41</td><td>13.60</td></tr>\n",
       "\t<tr><th scope=row>58</th><td> 58</td><td>26</td><td>F</td><td>1</td><td>1</td><td>Daily                 </td><td> 2.77</td><td>16</td><td>10.39</td></tr>\n",
       "\t<tr><th scope=row>59</th><td> 59</td><td>44</td><td>M</td><td>1</td><td>1</td><td>Several times per week</td><td> 4.84</td><td>22</td><td>13.20</td></tr>\n",
       "\t<tr><th scope=row>77</th><td> 77</td><td>63</td><td>M</td><td>1</td><td>1</td><td>Several times per week</td><td> 6.56</td><td>40</td><td> 9.84</td></tr>\n",
       "\t<tr><th scope=row>86</th><td> 86</td><td>22</td><td>M</td><td>1</td><td>0</td><td>Daily                 </td><td> 0.85</td><td> 4</td><td>12.75</td></tr>\n",
       "\t<tr><th scope=row>88</th><td> 88</td><td>25</td><td>M</td><td>1</td><td>1</td><td>Several times per week</td><td> 6.07</td><td>29</td><td>12.56</td></tr>\n",
       "\t<tr><th scope=row>97</th><td> 97</td><td>29</td><td>M</td><td>1</td><td>0</td><td>Several times per week</td><td> 3.52</td><td>15</td><td>14.08</td></tr>\n",
       "\t<tr><th scope=row>103</th><td>103</td><td>25</td><td>F</td><td>1</td><td>0</td><td>Daily                 </td><td>13.43</td><td>37</td><td>21.78</td></tr>\n",
       "\t<tr><th scope=row>111</th><td>111</td><td>30</td><td>M</td><td>1</td><td>0</td><td>Daily                 </td><td> 7.19</td><td>26</td><td>16.59</td></tr>\n",
       "\t<tr><th scope=row>115</th><td>115</td><td>33</td><td>F</td><td>1</td><td>1</td><td>Several times per week</td><td> 8.31</td><td>42</td><td>11.87</td></tr>\n",
       "</tbody>\n",
       "</table>\n"
      ],
      "text/latex": [
       "A data.frame: 14 × 9\n",
       "\\begin{tabular}{r|lllllllll}\n",
       "  & user\\_id & age & gender & student & employed & cyc\\_freq & distance & time & speed\\\\\n",
       "  & <int> & <int> & <fct> & <int> & <int> & <fct> & <dbl> & <int> & <dbl>\\\\\n",
       "\\hline\n",
       "\t1 &   1 & 28 & M & 1 & 1 & Daily                  &  3.25 & 15 & 13.00\\\\\n",
       "\t15 &  15 & 26 & M & 1 & 1 & Daily                  & 10.94 & 34 & 19.31\\\\\n",
       "\t18 &  18 & 32 & F & 1 & 1 & Daily                  &  9.34 & 40 & 14.01\\\\\n",
       "\t31 &  31 & 25 & M & 1 & 1 & Daily                  &  1.25 &  6 & 12.50\\\\\n",
       "\t49 &  49 & 44 & M & 1 & 1 & Several times per week &  9.29 & 41 & 13.60\\\\\n",
       "\t58 &  58 & 26 & F & 1 & 1 & Daily                  &  2.77 & 16 & 10.39\\\\\n",
       "\t59 &  59 & 44 & M & 1 & 1 & Several times per week &  4.84 & 22 & 13.20\\\\\n",
       "\t77 &  77 & 63 & M & 1 & 1 & Several times per week &  6.56 & 40 &  9.84\\\\\n",
       "\t86 &  86 & 22 & M & 1 & 0 & Daily                  &  0.85 &  4 & 12.75\\\\\n",
       "\t88 &  88 & 25 & M & 1 & 1 & Several times per week &  6.07 & 29 & 12.56\\\\\n",
       "\t97 &  97 & 29 & M & 1 & 0 & Several times per week &  3.52 & 15 & 14.08\\\\\n",
       "\t103 & 103 & 25 & F & 1 & 0 & Daily                  & 13.43 & 37 & 21.78\\\\\n",
       "\t111 & 111 & 30 & M & 1 & 0 & Daily                  &  7.19 & 26 & 16.59\\\\\n",
       "\t115 & 115 & 33 & F & 1 & 1 & Several times per week &  8.31 & 42 & 11.87\\\\\n",
       "\\end{tabular}\n"
      ],
      "text/markdown": [
       "\n",
       "A data.frame: 14 × 9\n",
       "\n",
       "| <!--/--> | user_id &lt;int&gt; | age &lt;int&gt; | gender &lt;fct&gt; | student &lt;int&gt; | employed &lt;int&gt; | cyc_freq &lt;fct&gt; | distance &lt;dbl&gt; | time &lt;int&gt; | speed &lt;dbl&gt; |\n",
       "|---|---|---|---|---|---|---|---|---|---|\n",
       "| 1 |   1 | 28 | M | 1 | 1 | Daily                  |  3.25 | 15 | 13.00 |\n",
       "| 15 |  15 | 26 | M | 1 | 1 | Daily                  | 10.94 | 34 | 19.31 |\n",
       "| 18 |  18 | 32 | F | 1 | 1 | Daily                  |  9.34 | 40 | 14.01 |\n",
       "| 31 |  31 | 25 | M | 1 | 1 | Daily                  |  1.25 |  6 | 12.50 |\n",
       "| 49 |  49 | 44 | M | 1 | 1 | Several times per week |  9.29 | 41 | 13.60 |\n",
       "| 58 |  58 | 26 | F | 1 | 1 | Daily                  |  2.77 | 16 | 10.39 |\n",
       "| 59 |  59 | 44 | M | 1 | 1 | Several times per week |  4.84 | 22 | 13.20 |\n",
       "| 77 |  77 | 63 | M | 1 | 1 | Several times per week |  6.56 | 40 |  9.84 |\n",
       "| 86 |  86 | 22 | M | 1 | 0 | Daily                  |  0.85 |  4 | 12.75 |\n",
       "| 88 |  88 | 25 | M | 1 | 1 | Several times per week |  6.07 | 29 | 12.56 |\n",
       "| 97 |  97 | 29 | M | 1 | 0 | Several times per week |  3.52 | 15 | 14.08 |\n",
       "| 103 | 103 | 25 | F | 1 | 0 | Daily                  | 13.43 | 37 | 21.78 |\n",
       "| 111 | 111 | 30 | M | 1 | 0 | Daily                  |  7.19 | 26 | 16.59 |\n",
       "| 115 | 115 | 33 | F | 1 | 1 | Several times per week |  8.31 | 42 | 11.87 |\n",
       "\n"
      ],
      "text/plain": [
       "    user_id age gender student employed cyc_freq               distance time\n",
       "1     1     28  M      1       1        Daily                   3.25    15  \n",
       "15   15     26  M      1       1        Daily                  10.94    34  \n",
       "18   18     32  F      1       1        Daily                   9.34    40  \n",
       "31   31     25  M      1       1        Daily                   1.25     6  \n",
       "49   49     44  M      1       1        Several times per week  9.29    41  \n",
       "58   58     26  F      1       1        Daily                   2.77    16  \n",
       "59   59     44  M      1       1        Several times per week  4.84    22  \n",
       "77   77     63  M      1       1        Several times per week  6.56    40  \n",
       "86   86     22  M      1       0        Daily                   0.85     4  \n",
       "88   88     25  M      1       1        Several times per week  6.07    29  \n",
       "97   97     29  M      1       0        Several times per week  3.52    15  \n",
       "103 103     25  F      1       0        Daily                  13.43    37  \n",
       "111 111     30  M      1       0        Daily                   7.19    26  \n",
       "115 115     33  F      1       1        Several times per week  8.31    42  \n",
       "    speed\n",
       "1   13.00\n",
       "15  19.31\n",
       "18  14.01\n",
       "31  12.50\n",
       "49  13.60\n",
       "58  10.39\n",
       "59  13.20\n",
       "77   9.84\n",
       "86  12.75\n",
       "88  12.56\n",
       "97  14.08\n",
       "103 21.78\n",
       "111 16.59\n",
       "115 11.87"
      ]
     },
     "metadata": {},
     "output_type": "display_data"
    }
   ],
   "source": [
    "student <-BikeData[BikeData$student==1,]\n",
    "student"
   ]
  },
  {
   "cell_type": "markdown",
   "metadata": {},
   "source": [
    "We want to know how often the students ride"
   ]
  },
  {
   "cell_type": "code",
   "execution_count": 12,
   "metadata": {},
   "outputs": [
    {
     "data": {
      "text/plain": [
       "\n",
       "                  Daily  Less than once a month Several times per month \n",
       "                      8                       0                       0 \n",
       " Several times per week \n",
       "                      6 "
      ]
     },
     "metadata": {},
     "output_type": "display_data"
    }
   ],
   "source": [
    "table(student$cyc_freq)"
   ]
  },
  {
   "cell_type": "markdown",
   "metadata": {},
   "source": [
    "We also want to know how far the students travel on average. Let’s create a vector of just the distances"
   ]
  },
  {
   "cell_type": "code",
   "execution_count": 13,
   "metadata": {},
   "outputs": [
    {
     "data": {
      "text/html": [
       "<style>\n",
       ".list-inline {list-style: none; margin:0; padding: 0}\n",
       ".list-inline>li {display: inline-block}\n",
       ".list-inline>li:not(:last-child)::after {content: \"\\00b7\"; padding: 0 .5ex}\n",
       "</style>\n",
       "<ol class=list-inline><li>3.25</li><li>10.94</li><li>9.34</li><li>1.25</li><li>9.29</li><li>2.77</li><li>4.84</li><li>6.56</li><li>0.85</li><li>6.07</li><li>3.52</li><li>13.43</li><li>7.19</li><li>8.31</li></ol>\n"
      ],
      "text/latex": [
       "\\begin{enumerate*}\n",
       "\\item 3.25\n",
       "\\item 10.94\n",
       "\\item 9.34\n",
       "\\item 1.25\n",
       "\\item 9.29\n",
       "\\item 2.77\n",
       "\\item 4.84\n",
       "\\item 6.56\n",
       "\\item 0.85\n",
       "\\item 6.07\n",
       "\\item 3.52\n",
       "\\item 13.43\n",
       "\\item 7.19\n",
       "\\item 8.31\n",
       "\\end{enumerate*}\n"
      ],
      "text/markdown": [
       "1. 3.25\n",
       "2. 10.94\n",
       "3. 9.34\n",
       "4. 1.25\n",
       "5. 9.29\n",
       "6. 2.77\n",
       "7. 4.84\n",
       "8. 6.56\n",
       "9. 0.85\n",
       "10. 6.07\n",
       "11. 3.52\n",
       "12. 13.43\n",
       "13. 7.19\n",
       "14. 8.31\n",
       "\n",
       "\n"
      ],
      "text/plain": [
       " [1]  3.25 10.94  9.34  1.25  9.29  2.77  4.84  6.56  0.85  6.07  3.52 13.43\n",
       "[13]  7.19  8.31"
      ]
     },
     "metadata": {},
     "output_type": "display_data"
    }
   ],
   "source": [
    "distance <-student$distance\n",
    "distance"
   ]
  },
  {
   "cell_type": "markdown",
   "metadata": {},
   "source": [
    "Now let’s find the average distance ridden by the students, using the mean function."
   ]
  },
  {
   "cell_type": "code",
   "execution_count": 14,
   "metadata": {},
   "outputs": [
    {
     "data": {
      "text/html": [
       "6.25785714285714"
      ],
      "text/latex": [
       "6.25785714285714"
      ],
      "text/markdown": [
       "6.25785714285714"
      ],
      "text/plain": [
       "[1] 6.257857"
      ]
     },
     "metadata": {},
     "output_type": "display_data"
    }
   ],
   "source": [
    "mean(distance)"
   ]
  },
  {
   "cell_type": "markdown",
   "metadata": {},
   "source": [
    "In this Pre Lab, we examined data on 14 student riders. Most of the student riders (a total of 8 out of 14) rode their bikes \n",
    "daily. On average, the students rode about 6.26 miles on each trip."
   ]
  },
  {
   "cell_type": "markdown",
   "metadata": {},
   "source": [
    "**How many of the cyclists rode daily, how many of these riders were male and how many female, and what what were their average ages?**"
   ]
  },
  {
   "cell_type": "code",
   "execution_count": 15,
   "metadata": {},
   "outputs": [
    {
     "data": {
      "text/plain": [
       "\n",
       "                  Daily  Less than once a month Several times per month \n",
       "                     47                       2                      14 \n",
       " Several times per week \n",
       "                     58 "
      ]
     },
     "metadata": {},
     "output_type": "display_data"
    }
   ],
   "source": [
    "table(BikeData$cyc_freq)"
   ]
  },
  {
   "cell_type": "code",
   "execution_count": 23,
   "metadata": {},
   "outputs": [
    {
     "data": {
      "text/html": [
       "<table>\n",
       "<caption>A data.frame: 47 × 9</caption>\n",
       "<thead>\n",
       "\t<tr><th></th><th scope=col>user_id</th><th scope=col>age</th><th scope=col>gender</th><th scope=col>student</th><th scope=col>employed</th><th scope=col>cyc_freq</th><th scope=col>distance</th><th scope=col>time</th><th scope=col>speed</th></tr>\n",
       "\t<tr><th></th><th scope=col>&lt;int&gt;</th><th scope=col>&lt;int&gt;</th><th scope=col>&lt;fct&gt;</th><th scope=col>&lt;int&gt;</th><th scope=col>&lt;int&gt;</th><th scope=col>&lt;fct&gt;</th><th scope=col>&lt;dbl&gt;</th><th scope=col>&lt;int&gt;</th><th scope=col>&lt;dbl&gt;</th></tr>\n",
       "</thead>\n",
       "<tbody>\n",
       "\t<tr><th scope=row>1</th><td>  1</td><td>28</td><td>M</td><td>1</td><td>1</td><td>Daily</td><td> 3.25</td><td>15</td><td>13.00</td></tr>\n",
       "\t<tr><th scope=row>2</th><td>  2</td><td>35</td><td>M</td><td>0</td><td>1</td><td>Daily</td><td> 1.11</td><td> 5</td><td>13.32</td></tr>\n",
       "\t<tr><th scope=row>3</th><td>  3</td><td>28</td><td>M</td><td>0</td><td>1</td><td>Daily</td><td> 5.59</td><td>23</td><td>14.58</td></tr>\n",
       "\t<tr><th scope=row>11</th><td> 11</td><td>29</td><td>M</td><td>0</td><td>1</td><td>Daily</td><td> 4.36</td><td>20</td><td>13.08</td></tr>\n",
       "\t<tr><th scope=row>14</th><td> 14</td><td>29</td><td>M</td><td>0</td><td>1</td><td>Daily</td><td> 2.62</td><td>15</td><td>10.48</td></tr>\n",
       "\t<tr><th scope=row>15</th><td> 15</td><td>26</td><td>M</td><td>1</td><td>1</td><td>Daily</td><td>10.94</td><td>34</td><td>19.31</td></tr>\n",
       "\t<tr><th scope=row>17</th><td> 17</td><td>33</td><td>M</td><td>0</td><td>1</td><td>Daily</td><td>10.02</td><td>45</td><td>13.36</td></tr>\n",
       "\t<tr><th scope=row>18</th><td> 18</td><td>32</td><td>F</td><td>1</td><td>1</td><td>Daily</td><td> 9.34</td><td>40</td><td>14.01</td></tr>\n",
       "\t<tr><th scope=row>19</th><td> 19</td><td>43</td><td>M</td><td>0</td><td>1</td><td>Daily</td><td> 7.02</td><td>28</td><td>15.04</td></tr>\n",
       "\t<tr><th scope=row>26</th><td> 26</td><td>35</td><td>M</td><td>0</td><td>1</td><td>Daily</td><td> 6.04</td><td>31</td><td>11.69</td></tr>\n",
       "\t<tr><th scope=row>31</th><td> 31</td><td>25</td><td>M</td><td>1</td><td>1</td><td>Daily</td><td> 1.25</td><td> 6</td><td>12.50</td></tr>\n",
       "\t<tr><th scope=row>32</th><td> 32</td><td>39</td><td>M</td><td>0</td><td>1</td><td>Daily</td><td> 3.76</td><td>21</td><td>10.74</td></tr>\n",
       "\t<tr><th scope=row>39</th><td> 39</td><td>41</td><td>M</td><td>0</td><td>1</td><td>Daily</td><td> 6.33</td><td>25</td><td>15.19</td></tr>\n",
       "\t<tr><th scope=row>40</th><td> 40</td><td>23</td><td>M</td><td>0</td><td>1</td><td>Daily</td><td> 6.44</td><td>15</td><td>25.76</td></tr>\n",
       "\t<tr><th scope=row>44</th><td> 44</td><td>46</td><td>M</td><td>0</td><td>1</td><td>Daily</td><td> 6.16</td><td>22</td><td>16.80</td></tr>\n",
       "\t<tr><th scope=row>48</th><td> 48</td><td>36</td><td>M</td><td>0</td><td>1</td><td>Daily</td><td> 2.15</td><td>19</td><td> 6.79</td></tr>\n",
       "\t<tr><th scope=row>52</th><td> 52</td><td>36</td><td>F</td><td>0</td><td>1</td><td>Daily</td><td> 0.63</td><td> 4</td><td> 9.45</td></tr>\n",
       "\t<tr><th scope=row>53</th><td> 53</td><td>27</td><td>F</td><td>0</td><td>1</td><td>Daily</td><td> 1.78</td><td> 9</td><td>11.87</td></tr>\n",
       "\t<tr><th scope=row>55</th><td> 55</td><td>51</td><td>M</td><td>0</td><td>1</td><td>Daily</td><td> 3.74</td><td>14</td><td>16.03</td></tr>\n",
       "\t<tr><th scope=row>56</th><td> 56</td><td>24</td><td>M</td><td>0</td><td>1</td><td>Daily</td><td> 5.18</td><td>23</td><td>13.51</td></tr>\n",
       "\t<tr><th scope=row>58</th><td> 58</td><td>26</td><td>F</td><td>1</td><td>1</td><td>Daily</td><td> 2.77</td><td>16</td><td>10.39</td></tr>\n",
       "\t<tr><th scope=row>60</th><td> 60</td><td>36</td><td>M</td><td>0</td><td>1</td><td>Daily</td><td> 2.70</td><td>12</td><td>13.50</td></tr>\n",
       "\t<tr><th scope=row>62</th><td> 62</td><td>32</td><td>F</td><td>0</td><td>1</td><td>Daily</td><td>11.01</td><td>38</td><td>17.38</td></tr>\n",
       "\t<tr><th scope=row>65</th><td> 65</td><td>32</td><td>M</td><td>0</td><td>0</td><td>Daily</td><td> 2.52</td><td> 8</td><td>18.90</td></tr>\n",
       "\t<tr><th scope=row>70</th><td> 70</td><td>34</td><td>M</td><td>0</td><td>0</td><td>Daily</td><td>12.21</td><td>55</td><td>13.32</td></tr>\n",
       "\t<tr><th scope=row>72</th><td> 72</td><td>26</td><td>M</td><td>0</td><td>1</td><td>Daily</td><td>11.17</td><td>36</td><td>18.62</td></tr>\n",
       "\t<tr><th scope=row>80</th><td> 80</td><td>27</td><td>M</td><td>0</td><td>1</td><td>Daily</td><td> 7.74</td><td>37</td><td>12.55</td></tr>\n",
       "\t<tr><th scope=row>81</th><td> 81</td><td>29</td><td>F</td><td>0</td><td>1</td><td>Daily</td><td> 8.17</td><td>28</td><td>17.51</td></tr>\n",
       "\t<tr><th scope=row>85</th><td> 85</td><td>29</td><td>M</td><td>0</td><td>1</td><td>Daily</td><td> 2.31</td><td>10</td><td>13.86</td></tr>\n",
       "\t<tr><th scope=row>86</th><td> 86</td><td>22</td><td>M</td><td>1</td><td>0</td><td>Daily</td><td> 0.85</td><td> 4</td><td>12.75</td></tr>\n",
       "\t<tr><th scope=row>90</th><td> 90</td><td>34</td><td>M</td><td>0</td><td>1</td><td>Daily</td><td> 3.90</td><td>16</td><td>14.63</td></tr>\n",
       "\t<tr><th scope=row>91</th><td> 91</td><td>36</td><td>M</td><td>0</td><td>1</td><td>Daily</td><td> 3.00</td><td>13</td><td>13.85</td></tr>\n",
       "\t<tr><th scope=row>92</th><td> 92</td><td>38</td><td>M</td><td>0</td><td>1</td><td>Daily</td><td> 1.31</td><td> 5</td><td>15.72</td></tr>\n",
       "\t<tr><th scope=row>96</th><td> 96</td><td>33</td><td>M</td><td>0</td><td>1</td><td>Daily</td><td> 7.92</td><td>49</td><td> 9.70</td></tr>\n",
       "\t<tr><th scope=row>98</th><td> 98</td><td>37</td><td>M</td><td>0</td><td>1</td><td>Daily</td><td> 3.13</td><td>12</td><td>15.65</td></tr>\n",
       "\t<tr><th scope=row>99</th><td> 99</td><td>43</td><td>M</td><td>0</td><td>1</td><td>Daily</td><td> 9.72</td><td>45</td><td>12.96</td></tr>\n",
       "\t<tr><th scope=row>100</th><td>100</td><td>30</td><td>M</td><td>0</td><td>1</td><td>Daily</td><td> 3.85</td><td>15</td><td>15.40</td></tr>\n",
       "\t<tr><th scope=row>102</th><td>102</td><td>28</td><td>M</td><td>0</td><td>0</td><td>Daily</td><td> 7.03</td><td>32</td><td>13.18</td></tr>\n",
       "\t<tr><th scope=row>103</th><td>103</td><td>25</td><td>F</td><td>1</td><td>0</td><td>Daily</td><td>13.43</td><td>37</td><td>21.78</td></tr>\n",
       "\t<tr><th scope=row>105</th><td>105</td><td>42</td><td>F</td><td>0</td><td>1</td><td>Daily</td><td> 1.01</td><td> 6</td><td>10.10</td></tr>\n",
       "\t<tr><th scope=row>107</th><td>107</td><td>37</td><td>M</td><td>0</td><td>1</td><td>Daily</td><td>13.47</td><td>41</td><td>19.71</td></tr>\n",
       "\t<tr><th scope=row>108</th><td>108</td><td>32</td><td>M</td><td>0</td><td>1</td><td>Daily</td><td> 6.10</td><td>35</td><td>10.46</td></tr>\n",
       "\t<tr><th scope=row>110</th><td>110</td><td>54</td><td>M</td><td>0</td><td>1</td><td>Daily</td><td> 2.78</td><td>27</td><td> 6.18</td></tr>\n",
       "\t<tr><th scope=row>111</th><td>111</td><td>30</td><td>M</td><td>1</td><td>0</td><td>Daily</td><td> 7.19</td><td>26</td><td>16.59</td></tr>\n",
       "\t<tr><th scope=row>112</th><td>112</td><td>34</td><td>M</td><td>0</td><td>1</td><td>Daily</td><td> 9.12</td><td>36</td><td>15.20</td></tr>\n",
       "\t<tr><th scope=row>117</th><td>117</td><td>46</td><td>M</td><td>0</td><td>1</td><td>Daily</td><td> 8.14</td><td>40</td><td>12.21</td></tr>\n",
       "\t<tr><th scope=row>119</th><td>119</td><td>44</td><td>F</td><td>0</td><td>1</td><td>Daily</td><td> 7.84</td><td>48</td><td> 9.80</td></tr>\n",
       "</tbody>\n",
       "</table>\n"
      ],
      "text/latex": [
       "A data.frame: 47 × 9\n",
       "\\begin{tabular}{r|lllllllll}\n",
       "  & user\\_id & age & gender & student & employed & cyc\\_freq & distance & time & speed\\\\\n",
       "  & <int> & <int> & <fct> & <int> & <int> & <fct> & <dbl> & <int> & <dbl>\\\\\n",
       "\\hline\n",
       "\t1 &   1 & 28 & M & 1 & 1 & Daily &  3.25 & 15 & 13.00\\\\\n",
       "\t2 &   2 & 35 & M & 0 & 1 & Daily &  1.11 &  5 & 13.32\\\\\n",
       "\t3 &   3 & 28 & M & 0 & 1 & Daily &  5.59 & 23 & 14.58\\\\\n",
       "\t11 &  11 & 29 & M & 0 & 1 & Daily &  4.36 & 20 & 13.08\\\\\n",
       "\t14 &  14 & 29 & M & 0 & 1 & Daily &  2.62 & 15 & 10.48\\\\\n",
       "\t15 &  15 & 26 & M & 1 & 1 & Daily & 10.94 & 34 & 19.31\\\\\n",
       "\t17 &  17 & 33 & M & 0 & 1 & Daily & 10.02 & 45 & 13.36\\\\\n",
       "\t18 &  18 & 32 & F & 1 & 1 & Daily &  9.34 & 40 & 14.01\\\\\n",
       "\t19 &  19 & 43 & M & 0 & 1 & Daily &  7.02 & 28 & 15.04\\\\\n",
       "\t26 &  26 & 35 & M & 0 & 1 & Daily &  6.04 & 31 & 11.69\\\\\n",
       "\t31 &  31 & 25 & M & 1 & 1 & Daily &  1.25 &  6 & 12.50\\\\\n",
       "\t32 &  32 & 39 & M & 0 & 1 & Daily &  3.76 & 21 & 10.74\\\\\n",
       "\t39 &  39 & 41 & M & 0 & 1 & Daily &  6.33 & 25 & 15.19\\\\\n",
       "\t40 &  40 & 23 & M & 0 & 1 & Daily &  6.44 & 15 & 25.76\\\\\n",
       "\t44 &  44 & 46 & M & 0 & 1 & Daily &  6.16 & 22 & 16.80\\\\\n",
       "\t48 &  48 & 36 & M & 0 & 1 & Daily &  2.15 & 19 &  6.79\\\\\n",
       "\t52 &  52 & 36 & F & 0 & 1 & Daily &  0.63 &  4 &  9.45\\\\\n",
       "\t53 &  53 & 27 & F & 0 & 1 & Daily &  1.78 &  9 & 11.87\\\\\n",
       "\t55 &  55 & 51 & M & 0 & 1 & Daily &  3.74 & 14 & 16.03\\\\\n",
       "\t56 &  56 & 24 & M & 0 & 1 & Daily &  5.18 & 23 & 13.51\\\\\n",
       "\t58 &  58 & 26 & F & 1 & 1 & Daily &  2.77 & 16 & 10.39\\\\\n",
       "\t60 &  60 & 36 & M & 0 & 1 & Daily &  2.70 & 12 & 13.50\\\\\n",
       "\t62 &  62 & 32 & F & 0 & 1 & Daily & 11.01 & 38 & 17.38\\\\\n",
       "\t65 &  65 & 32 & M & 0 & 0 & Daily &  2.52 &  8 & 18.90\\\\\n",
       "\t70 &  70 & 34 & M & 0 & 0 & Daily & 12.21 & 55 & 13.32\\\\\n",
       "\t72 &  72 & 26 & M & 0 & 1 & Daily & 11.17 & 36 & 18.62\\\\\n",
       "\t80 &  80 & 27 & M & 0 & 1 & Daily &  7.74 & 37 & 12.55\\\\\n",
       "\t81 &  81 & 29 & F & 0 & 1 & Daily &  8.17 & 28 & 17.51\\\\\n",
       "\t85 &  85 & 29 & M & 0 & 1 & Daily &  2.31 & 10 & 13.86\\\\\n",
       "\t86 &  86 & 22 & M & 1 & 0 & Daily &  0.85 &  4 & 12.75\\\\\n",
       "\t90 &  90 & 34 & M & 0 & 1 & Daily &  3.90 & 16 & 14.63\\\\\n",
       "\t91 &  91 & 36 & M & 0 & 1 & Daily &  3.00 & 13 & 13.85\\\\\n",
       "\t92 &  92 & 38 & M & 0 & 1 & Daily &  1.31 &  5 & 15.72\\\\\n",
       "\t96 &  96 & 33 & M & 0 & 1 & Daily &  7.92 & 49 &  9.70\\\\\n",
       "\t98 &  98 & 37 & M & 0 & 1 & Daily &  3.13 & 12 & 15.65\\\\\n",
       "\t99 &  99 & 43 & M & 0 & 1 & Daily &  9.72 & 45 & 12.96\\\\\n",
       "\t100 & 100 & 30 & M & 0 & 1 & Daily &  3.85 & 15 & 15.40\\\\\n",
       "\t102 & 102 & 28 & M & 0 & 0 & Daily &  7.03 & 32 & 13.18\\\\\n",
       "\t103 & 103 & 25 & F & 1 & 0 & Daily & 13.43 & 37 & 21.78\\\\\n",
       "\t105 & 105 & 42 & F & 0 & 1 & Daily &  1.01 &  6 & 10.10\\\\\n",
       "\t107 & 107 & 37 & M & 0 & 1 & Daily & 13.47 & 41 & 19.71\\\\\n",
       "\t108 & 108 & 32 & M & 0 & 1 & Daily &  6.10 & 35 & 10.46\\\\\n",
       "\t110 & 110 & 54 & M & 0 & 1 & Daily &  2.78 & 27 &  6.18\\\\\n",
       "\t111 & 111 & 30 & M & 1 & 0 & Daily &  7.19 & 26 & 16.59\\\\\n",
       "\t112 & 112 & 34 & M & 0 & 1 & Daily &  9.12 & 36 & 15.20\\\\\n",
       "\t117 & 117 & 46 & M & 0 & 1 & Daily &  8.14 & 40 & 12.21\\\\\n",
       "\t119 & 119 & 44 & F & 0 & 1 & Daily &  7.84 & 48 &  9.80\\\\\n",
       "\\end{tabular}\n"
      ],
      "text/markdown": [
       "\n",
       "A data.frame: 47 × 9\n",
       "\n",
       "| <!--/--> | user_id &lt;int&gt; | age &lt;int&gt; | gender &lt;fct&gt; | student &lt;int&gt; | employed &lt;int&gt; | cyc_freq &lt;fct&gt; | distance &lt;dbl&gt; | time &lt;int&gt; | speed &lt;dbl&gt; |\n",
       "|---|---|---|---|---|---|---|---|---|---|\n",
       "| 1 |   1 | 28 | M | 1 | 1 | Daily |  3.25 | 15 | 13.00 |\n",
       "| 2 |   2 | 35 | M | 0 | 1 | Daily |  1.11 |  5 | 13.32 |\n",
       "| 3 |   3 | 28 | M | 0 | 1 | Daily |  5.59 | 23 | 14.58 |\n",
       "| 11 |  11 | 29 | M | 0 | 1 | Daily |  4.36 | 20 | 13.08 |\n",
       "| 14 |  14 | 29 | M | 0 | 1 | Daily |  2.62 | 15 | 10.48 |\n",
       "| 15 |  15 | 26 | M | 1 | 1 | Daily | 10.94 | 34 | 19.31 |\n",
       "| 17 |  17 | 33 | M | 0 | 1 | Daily | 10.02 | 45 | 13.36 |\n",
       "| 18 |  18 | 32 | F | 1 | 1 | Daily |  9.34 | 40 | 14.01 |\n",
       "| 19 |  19 | 43 | M | 0 | 1 | Daily |  7.02 | 28 | 15.04 |\n",
       "| 26 |  26 | 35 | M | 0 | 1 | Daily |  6.04 | 31 | 11.69 |\n",
       "| 31 |  31 | 25 | M | 1 | 1 | Daily |  1.25 |  6 | 12.50 |\n",
       "| 32 |  32 | 39 | M | 0 | 1 | Daily |  3.76 | 21 | 10.74 |\n",
       "| 39 |  39 | 41 | M | 0 | 1 | Daily |  6.33 | 25 | 15.19 |\n",
       "| 40 |  40 | 23 | M | 0 | 1 | Daily |  6.44 | 15 | 25.76 |\n",
       "| 44 |  44 | 46 | M | 0 | 1 | Daily |  6.16 | 22 | 16.80 |\n",
       "| 48 |  48 | 36 | M | 0 | 1 | Daily |  2.15 | 19 |  6.79 |\n",
       "| 52 |  52 | 36 | F | 0 | 1 | Daily |  0.63 |  4 |  9.45 |\n",
       "| 53 |  53 | 27 | F | 0 | 1 | Daily |  1.78 |  9 | 11.87 |\n",
       "| 55 |  55 | 51 | M | 0 | 1 | Daily |  3.74 | 14 | 16.03 |\n",
       "| 56 |  56 | 24 | M | 0 | 1 | Daily |  5.18 | 23 | 13.51 |\n",
       "| 58 |  58 | 26 | F | 1 | 1 | Daily |  2.77 | 16 | 10.39 |\n",
       "| 60 |  60 | 36 | M | 0 | 1 | Daily |  2.70 | 12 | 13.50 |\n",
       "| 62 |  62 | 32 | F | 0 | 1 | Daily | 11.01 | 38 | 17.38 |\n",
       "| 65 |  65 | 32 | M | 0 | 0 | Daily |  2.52 |  8 | 18.90 |\n",
       "| 70 |  70 | 34 | M | 0 | 0 | Daily | 12.21 | 55 | 13.32 |\n",
       "| 72 |  72 | 26 | M | 0 | 1 | Daily | 11.17 | 36 | 18.62 |\n",
       "| 80 |  80 | 27 | M | 0 | 1 | Daily |  7.74 | 37 | 12.55 |\n",
       "| 81 |  81 | 29 | F | 0 | 1 | Daily |  8.17 | 28 | 17.51 |\n",
       "| 85 |  85 | 29 | M | 0 | 1 | Daily |  2.31 | 10 | 13.86 |\n",
       "| 86 |  86 | 22 | M | 1 | 0 | Daily |  0.85 |  4 | 12.75 |\n",
       "| 90 |  90 | 34 | M | 0 | 1 | Daily |  3.90 | 16 | 14.63 |\n",
       "| 91 |  91 | 36 | M | 0 | 1 | Daily |  3.00 | 13 | 13.85 |\n",
       "| 92 |  92 | 38 | M | 0 | 1 | Daily |  1.31 |  5 | 15.72 |\n",
       "| 96 |  96 | 33 | M | 0 | 1 | Daily |  7.92 | 49 |  9.70 |\n",
       "| 98 |  98 | 37 | M | 0 | 1 | Daily |  3.13 | 12 | 15.65 |\n",
       "| 99 |  99 | 43 | M | 0 | 1 | Daily |  9.72 | 45 | 12.96 |\n",
       "| 100 | 100 | 30 | M | 0 | 1 | Daily |  3.85 | 15 | 15.40 |\n",
       "| 102 | 102 | 28 | M | 0 | 0 | Daily |  7.03 | 32 | 13.18 |\n",
       "| 103 | 103 | 25 | F | 1 | 0 | Daily | 13.43 | 37 | 21.78 |\n",
       "| 105 | 105 | 42 | F | 0 | 1 | Daily |  1.01 |  6 | 10.10 |\n",
       "| 107 | 107 | 37 | M | 0 | 1 | Daily | 13.47 | 41 | 19.71 |\n",
       "| 108 | 108 | 32 | M | 0 | 1 | Daily |  6.10 | 35 | 10.46 |\n",
       "| 110 | 110 | 54 | M | 0 | 1 | Daily |  2.78 | 27 |  6.18 |\n",
       "| 111 | 111 | 30 | M | 1 | 0 | Daily |  7.19 | 26 | 16.59 |\n",
       "| 112 | 112 | 34 | M | 0 | 1 | Daily |  9.12 | 36 | 15.20 |\n",
       "| 117 | 117 | 46 | M | 0 | 1 | Daily |  8.14 | 40 | 12.21 |\n",
       "| 119 | 119 | 44 | F | 0 | 1 | Daily |  7.84 | 48 |  9.80 |\n",
       "\n"
      ],
      "text/plain": [
       "    user_id age gender student employed cyc_freq distance time speed\n",
       "1     1     28  M      1       1        Daily     3.25    15   13.00\n",
       "2     2     35  M      0       1        Daily     1.11     5   13.32\n",
       "3     3     28  M      0       1        Daily     5.59    23   14.58\n",
       "11   11     29  M      0       1        Daily     4.36    20   13.08\n",
       "14   14     29  M      0       1        Daily     2.62    15   10.48\n",
       "15   15     26  M      1       1        Daily    10.94    34   19.31\n",
       "17   17     33  M      0       1        Daily    10.02    45   13.36\n",
       "18   18     32  F      1       1        Daily     9.34    40   14.01\n",
       "19   19     43  M      0       1        Daily     7.02    28   15.04\n",
       "26   26     35  M      0       1        Daily     6.04    31   11.69\n",
       "31   31     25  M      1       1        Daily     1.25     6   12.50\n",
       "32   32     39  M      0       1        Daily     3.76    21   10.74\n",
       "39   39     41  M      0       1        Daily     6.33    25   15.19\n",
       "40   40     23  M      0       1        Daily     6.44    15   25.76\n",
       "44   44     46  M      0       1        Daily     6.16    22   16.80\n",
       "48   48     36  M      0       1        Daily     2.15    19    6.79\n",
       "52   52     36  F      0       1        Daily     0.63     4    9.45\n",
       "53   53     27  F      0       1        Daily     1.78     9   11.87\n",
       "55   55     51  M      0       1        Daily     3.74    14   16.03\n",
       "56   56     24  M      0       1        Daily     5.18    23   13.51\n",
       "58   58     26  F      1       1        Daily     2.77    16   10.39\n",
       "60   60     36  M      0       1        Daily     2.70    12   13.50\n",
       "62   62     32  F      0       1        Daily    11.01    38   17.38\n",
       "65   65     32  M      0       0        Daily     2.52     8   18.90\n",
       "70   70     34  M      0       0        Daily    12.21    55   13.32\n",
       "72   72     26  M      0       1        Daily    11.17    36   18.62\n",
       "80   80     27  M      0       1        Daily     7.74    37   12.55\n",
       "81   81     29  F      0       1        Daily     8.17    28   17.51\n",
       "85   85     29  M      0       1        Daily     2.31    10   13.86\n",
       "86   86     22  M      1       0        Daily     0.85     4   12.75\n",
       "90   90     34  M      0       1        Daily     3.90    16   14.63\n",
       "91   91     36  M      0       1        Daily     3.00    13   13.85\n",
       "92   92     38  M      0       1        Daily     1.31     5   15.72\n",
       "96   96     33  M      0       1        Daily     7.92    49    9.70\n",
       "98   98     37  M      0       1        Daily     3.13    12   15.65\n",
       "99   99     43  M      0       1        Daily     9.72    45   12.96\n",
       "100 100     30  M      0       1        Daily     3.85    15   15.40\n",
       "102 102     28  M      0       0        Daily     7.03    32   13.18\n",
       "103 103     25  F      1       0        Daily    13.43    37   21.78\n",
       "105 105     42  F      0       1        Daily     1.01     6   10.10\n",
       "107 107     37  M      0       1        Daily    13.47    41   19.71\n",
       "108 108     32  M      0       1        Daily     6.10    35   10.46\n",
       "110 110     54  M      0       1        Daily     2.78    27    6.18\n",
       "111 111     30  M      1       0        Daily     7.19    26   16.59\n",
       "112 112     34  M      0       1        Daily     9.12    36   15.20\n",
       "117 117     46  M      0       1        Daily     8.14    40   12.21\n",
       "119 119     44  F      0       1        Daily     7.84    48    9.80"
      ]
     },
     "metadata": {},
     "output_type": "display_data"
    }
   ],
   "source": [
    "daily <- BikeData[BikeData$cyc_freq == \"Daily\",]\n",
    "daily"
   ]
  },
  {
   "cell_type": "code",
   "execution_count": 17,
   "metadata": {},
   "outputs": [
    {
     "data": {
      "text/plain": [
       "\n",
       " F  M \n",
       " 9 38 "
      ]
     },
     "metadata": {},
     "output_type": "display_data"
    }
   ],
   "source": [
    "table(daily$gender)"
   ]
  },
  {
   "cell_type": "code",
   "execution_count": 18,
   "metadata": {},
   "outputs": [
    {
     "data": {
      "text/html": [
       "33.6595744680851"
      ],
      "text/latex": [
       "33.6595744680851"
      ],
      "text/markdown": [
       "33.6595744680851"
      ],
      "text/plain": [
       "[1] 33.65957"
      ]
     },
     "metadata": {},
     "output_type": "display_data"
    }
   ],
   "source": [
    "mean(daily$age)"
   ]
  },
  {
   "cell_type": "code",
   "execution_count": 19,
   "metadata": {},
   "outputs": [],
   "source": [
    "daily_males <- daily[daily$gender == 'M',]\n",
    "daily_females <- daily[daily$gender == 'F',]"
   ]
  },
  {
   "cell_type": "code",
   "execution_count": 20,
   "metadata": {},
   "outputs": [
    {
     "data": {
      "text/html": [
       "33.9210526315789"
      ],
      "text/latex": [
       "33.9210526315789"
      ],
      "text/markdown": [
       "33.9210526315789"
      ],
      "text/plain": [
       "[1] 33.92105"
      ]
     },
     "metadata": {},
     "output_type": "display_data"
    },
    {
     "data": {
      "text/html": [
       "32.5555555555556"
      ],
      "text/latex": [
       "32.5555555555556"
      ],
      "text/markdown": [
       "32.5555555555556"
      ],
      "text/plain": [
       "[1] 32.55556"
      ]
     },
     "metadata": {},
     "output_type": "display_data"
    }
   ],
   "source": [
    "mean(daily_males$age)\n",
    "mean(daily_females$age)"
   ]
  },
  {
   "cell_type": "markdown",
   "metadata": {},
   "source": [
    "**How many daily male riders are age 30 or older?**"
   ]
  },
  {
   "cell_type": "code",
   "execution_count": 21,
   "metadata": {},
   "outputs": [
    {
     "data": {
      "text/html": [
       "<table>\n",
       "<caption>A data.frame: 25 × 9</caption>\n",
       "<thead>\n",
       "\t<tr><th></th><th scope=col>user_id</th><th scope=col>age</th><th scope=col>gender</th><th scope=col>student</th><th scope=col>employed</th><th scope=col>cyc_freq</th><th scope=col>distance</th><th scope=col>time</th><th scope=col>speed</th></tr>\n",
       "\t<tr><th></th><th scope=col>&lt;int&gt;</th><th scope=col>&lt;int&gt;</th><th scope=col>&lt;fct&gt;</th><th scope=col>&lt;int&gt;</th><th scope=col>&lt;int&gt;</th><th scope=col>&lt;fct&gt;</th><th scope=col>&lt;dbl&gt;</th><th scope=col>&lt;int&gt;</th><th scope=col>&lt;dbl&gt;</th></tr>\n",
       "</thead>\n",
       "<tbody>\n",
       "\t<tr><th scope=row>2</th><td>  2</td><td>35</td><td>M</td><td>0</td><td>1</td><td>Daily</td><td> 1.11</td><td> 5</td><td>13.32</td></tr>\n",
       "\t<tr><th scope=row>17</th><td> 17</td><td>33</td><td>M</td><td>0</td><td>1</td><td>Daily</td><td>10.02</td><td>45</td><td>13.36</td></tr>\n",
       "\t<tr><th scope=row>19</th><td> 19</td><td>43</td><td>M</td><td>0</td><td>1</td><td>Daily</td><td> 7.02</td><td>28</td><td>15.04</td></tr>\n",
       "\t<tr><th scope=row>26</th><td> 26</td><td>35</td><td>M</td><td>0</td><td>1</td><td>Daily</td><td> 6.04</td><td>31</td><td>11.69</td></tr>\n",
       "\t<tr><th scope=row>32</th><td> 32</td><td>39</td><td>M</td><td>0</td><td>1</td><td>Daily</td><td> 3.76</td><td>21</td><td>10.74</td></tr>\n",
       "\t<tr><th scope=row>39</th><td> 39</td><td>41</td><td>M</td><td>0</td><td>1</td><td>Daily</td><td> 6.33</td><td>25</td><td>15.19</td></tr>\n",
       "\t<tr><th scope=row>44</th><td> 44</td><td>46</td><td>M</td><td>0</td><td>1</td><td>Daily</td><td> 6.16</td><td>22</td><td>16.80</td></tr>\n",
       "\t<tr><th scope=row>48</th><td> 48</td><td>36</td><td>M</td><td>0</td><td>1</td><td>Daily</td><td> 2.15</td><td>19</td><td> 6.79</td></tr>\n",
       "\t<tr><th scope=row>55</th><td> 55</td><td>51</td><td>M</td><td>0</td><td>1</td><td>Daily</td><td> 3.74</td><td>14</td><td>16.03</td></tr>\n",
       "\t<tr><th scope=row>60</th><td> 60</td><td>36</td><td>M</td><td>0</td><td>1</td><td>Daily</td><td> 2.70</td><td>12</td><td>13.50</td></tr>\n",
       "\t<tr><th scope=row>65</th><td> 65</td><td>32</td><td>M</td><td>0</td><td>0</td><td>Daily</td><td> 2.52</td><td> 8</td><td>18.90</td></tr>\n",
       "\t<tr><th scope=row>70</th><td> 70</td><td>34</td><td>M</td><td>0</td><td>0</td><td>Daily</td><td>12.21</td><td>55</td><td>13.32</td></tr>\n",
       "\t<tr><th scope=row>90</th><td> 90</td><td>34</td><td>M</td><td>0</td><td>1</td><td>Daily</td><td> 3.90</td><td>16</td><td>14.63</td></tr>\n",
       "\t<tr><th scope=row>91</th><td> 91</td><td>36</td><td>M</td><td>0</td><td>1</td><td>Daily</td><td> 3.00</td><td>13</td><td>13.85</td></tr>\n",
       "\t<tr><th scope=row>92</th><td> 92</td><td>38</td><td>M</td><td>0</td><td>1</td><td>Daily</td><td> 1.31</td><td> 5</td><td>15.72</td></tr>\n",
       "\t<tr><th scope=row>96</th><td> 96</td><td>33</td><td>M</td><td>0</td><td>1</td><td>Daily</td><td> 7.92</td><td>49</td><td> 9.70</td></tr>\n",
       "\t<tr><th scope=row>98</th><td> 98</td><td>37</td><td>M</td><td>0</td><td>1</td><td>Daily</td><td> 3.13</td><td>12</td><td>15.65</td></tr>\n",
       "\t<tr><th scope=row>99</th><td> 99</td><td>43</td><td>M</td><td>0</td><td>1</td><td>Daily</td><td> 9.72</td><td>45</td><td>12.96</td></tr>\n",
       "\t<tr><th scope=row>100</th><td>100</td><td>30</td><td>M</td><td>0</td><td>1</td><td>Daily</td><td> 3.85</td><td>15</td><td>15.40</td></tr>\n",
       "\t<tr><th scope=row>107</th><td>107</td><td>37</td><td>M</td><td>0</td><td>1</td><td>Daily</td><td>13.47</td><td>41</td><td>19.71</td></tr>\n",
       "\t<tr><th scope=row>108</th><td>108</td><td>32</td><td>M</td><td>0</td><td>1</td><td>Daily</td><td> 6.10</td><td>35</td><td>10.46</td></tr>\n",
       "\t<tr><th scope=row>110</th><td>110</td><td>54</td><td>M</td><td>0</td><td>1</td><td>Daily</td><td> 2.78</td><td>27</td><td> 6.18</td></tr>\n",
       "\t<tr><th scope=row>111</th><td>111</td><td>30</td><td>M</td><td>1</td><td>0</td><td>Daily</td><td> 7.19</td><td>26</td><td>16.59</td></tr>\n",
       "\t<tr><th scope=row>112</th><td>112</td><td>34</td><td>M</td><td>0</td><td>1</td><td>Daily</td><td> 9.12</td><td>36</td><td>15.20</td></tr>\n",
       "\t<tr><th scope=row>117</th><td>117</td><td>46</td><td>M</td><td>0</td><td>1</td><td>Daily</td><td> 8.14</td><td>40</td><td>12.21</td></tr>\n",
       "</tbody>\n",
       "</table>\n"
      ],
      "text/latex": [
       "A data.frame: 25 × 9\n",
       "\\begin{tabular}{r|lllllllll}\n",
       "  & user\\_id & age & gender & student & employed & cyc\\_freq & distance & time & speed\\\\\n",
       "  & <int> & <int> & <fct> & <int> & <int> & <fct> & <dbl> & <int> & <dbl>\\\\\n",
       "\\hline\n",
       "\t2 &   2 & 35 & M & 0 & 1 & Daily &  1.11 &  5 & 13.32\\\\\n",
       "\t17 &  17 & 33 & M & 0 & 1 & Daily & 10.02 & 45 & 13.36\\\\\n",
       "\t19 &  19 & 43 & M & 0 & 1 & Daily &  7.02 & 28 & 15.04\\\\\n",
       "\t26 &  26 & 35 & M & 0 & 1 & Daily &  6.04 & 31 & 11.69\\\\\n",
       "\t32 &  32 & 39 & M & 0 & 1 & Daily &  3.76 & 21 & 10.74\\\\\n",
       "\t39 &  39 & 41 & M & 0 & 1 & Daily &  6.33 & 25 & 15.19\\\\\n",
       "\t44 &  44 & 46 & M & 0 & 1 & Daily &  6.16 & 22 & 16.80\\\\\n",
       "\t48 &  48 & 36 & M & 0 & 1 & Daily &  2.15 & 19 &  6.79\\\\\n",
       "\t55 &  55 & 51 & M & 0 & 1 & Daily &  3.74 & 14 & 16.03\\\\\n",
       "\t60 &  60 & 36 & M & 0 & 1 & Daily &  2.70 & 12 & 13.50\\\\\n",
       "\t65 &  65 & 32 & M & 0 & 0 & Daily &  2.52 &  8 & 18.90\\\\\n",
       "\t70 &  70 & 34 & M & 0 & 0 & Daily & 12.21 & 55 & 13.32\\\\\n",
       "\t90 &  90 & 34 & M & 0 & 1 & Daily &  3.90 & 16 & 14.63\\\\\n",
       "\t91 &  91 & 36 & M & 0 & 1 & Daily &  3.00 & 13 & 13.85\\\\\n",
       "\t92 &  92 & 38 & M & 0 & 1 & Daily &  1.31 &  5 & 15.72\\\\\n",
       "\t96 &  96 & 33 & M & 0 & 1 & Daily &  7.92 & 49 &  9.70\\\\\n",
       "\t98 &  98 & 37 & M & 0 & 1 & Daily &  3.13 & 12 & 15.65\\\\\n",
       "\t99 &  99 & 43 & M & 0 & 1 & Daily &  9.72 & 45 & 12.96\\\\\n",
       "\t100 & 100 & 30 & M & 0 & 1 & Daily &  3.85 & 15 & 15.40\\\\\n",
       "\t107 & 107 & 37 & M & 0 & 1 & Daily & 13.47 & 41 & 19.71\\\\\n",
       "\t108 & 108 & 32 & M & 0 & 1 & Daily &  6.10 & 35 & 10.46\\\\\n",
       "\t110 & 110 & 54 & M & 0 & 1 & Daily &  2.78 & 27 &  6.18\\\\\n",
       "\t111 & 111 & 30 & M & 1 & 0 & Daily &  7.19 & 26 & 16.59\\\\\n",
       "\t112 & 112 & 34 & M & 0 & 1 & Daily &  9.12 & 36 & 15.20\\\\\n",
       "\t117 & 117 & 46 & M & 0 & 1 & Daily &  8.14 & 40 & 12.21\\\\\n",
       "\\end{tabular}\n"
      ],
      "text/markdown": [
       "\n",
       "A data.frame: 25 × 9\n",
       "\n",
       "| <!--/--> | user_id &lt;int&gt; | age &lt;int&gt; | gender &lt;fct&gt; | student &lt;int&gt; | employed &lt;int&gt; | cyc_freq &lt;fct&gt; | distance &lt;dbl&gt; | time &lt;int&gt; | speed &lt;dbl&gt; |\n",
       "|---|---|---|---|---|---|---|---|---|---|\n",
       "| 2 |   2 | 35 | M | 0 | 1 | Daily |  1.11 |  5 | 13.32 |\n",
       "| 17 |  17 | 33 | M | 0 | 1 | Daily | 10.02 | 45 | 13.36 |\n",
       "| 19 |  19 | 43 | M | 0 | 1 | Daily |  7.02 | 28 | 15.04 |\n",
       "| 26 |  26 | 35 | M | 0 | 1 | Daily |  6.04 | 31 | 11.69 |\n",
       "| 32 |  32 | 39 | M | 0 | 1 | Daily |  3.76 | 21 | 10.74 |\n",
       "| 39 |  39 | 41 | M | 0 | 1 | Daily |  6.33 | 25 | 15.19 |\n",
       "| 44 |  44 | 46 | M | 0 | 1 | Daily |  6.16 | 22 | 16.80 |\n",
       "| 48 |  48 | 36 | M | 0 | 1 | Daily |  2.15 | 19 |  6.79 |\n",
       "| 55 |  55 | 51 | M | 0 | 1 | Daily |  3.74 | 14 | 16.03 |\n",
       "| 60 |  60 | 36 | M | 0 | 1 | Daily |  2.70 | 12 | 13.50 |\n",
       "| 65 |  65 | 32 | M | 0 | 0 | Daily |  2.52 |  8 | 18.90 |\n",
       "| 70 |  70 | 34 | M | 0 | 0 | Daily | 12.21 | 55 | 13.32 |\n",
       "| 90 |  90 | 34 | M | 0 | 1 | Daily |  3.90 | 16 | 14.63 |\n",
       "| 91 |  91 | 36 | M | 0 | 1 | Daily |  3.00 | 13 | 13.85 |\n",
       "| 92 |  92 | 38 | M | 0 | 1 | Daily |  1.31 |  5 | 15.72 |\n",
       "| 96 |  96 | 33 | M | 0 | 1 | Daily |  7.92 | 49 |  9.70 |\n",
       "| 98 |  98 | 37 | M | 0 | 1 | Daily |  3.13 | 12 | 15.65 |\n",
       "| 99 |  99 | 43 | M | 0 | 1 | Daily |  9.72 | 45 | 12.96 |\n",
       "| 100 | 100 | 30 | M | 0 | 1 | Daily |  3.85 | 15 | 15.40 |\n",
       "| 107 | 107 | 37 | M | 0 | 1 | Daily | 13.47 | 41 | 19.71 |\n",
       "| 108 | 108 | 32 | M | 0 | 1 | Daily |  6.10 | 35 | 10.46 |\n",
       "| 110 | 110 | 54 | M | 0 | 1 | Daily |  2.78 | 27 |  6.18 |\n",
       "| 111 | 111 | 30 | M | 1 | 0 | Daily |  7.19 | 26 | 16.59 |\n",
       "| 112 | 112 | 34 | M | 0 | 1 | Daily |  9.12 | 36 | 15.20 |\n",
       "| 117 | 117 | 46 | M | 0 | 1 | Daily |  8.14 | 40 | 12.21 |\n",
       "\n"
      ],
      "text/plain": [
       "    user_id age gender student employed cyc_freq distance time speed\n",
       "2     2     35  M      0       1        Daily     1.11     5   13.32\n",
       "17   17     33  M      0       1        Daily    10.02    45   13.36\n",
       "19   19     43  M      0       1        Daily     7.02    28   15.04\n",
       "26   26     35  M      0       1        Daily     6.04    31   11.69\n",
       "32   32     39  M      0       1        Daily     3.76    21   10.74\n",
       "39   39     41  M      0       1        Daily     6.33    25   15.19\n",
       "44   44     46  M      0       1        Daily     6.16    22   16.80\n",
       "48   48     36  M      0       1        Daily     2.15    19    6.79\n",
       "55   55     51  M      0       1        Daily     3.74    14   16.03\n",
       "60   60     36  M      0       1        Daily     2.70    12   13.50\n",
       "65   65     32  M      0       0        Daily     2.52     8   18.90\n",
       "70   70     34  M      0       0        Daily    12.21    55   13.32\n",
       "90   90     34  M      0       1        Daily     3.90    16   14.63\n",
       "91   91     36  M      0       1        Daily     3.00    13   13.85\n",
       "92   92     38  M      0       1        Daily     1.31     5   15.72\n",
       "96   96     33  M      0       1        Daily     7.92    49    9.70\n",
       "98   98     37  M      0       1        Daily     3.13    12   15.65\n",
       "99   99     43  M      0       1        Daily     9.72    45   12.96\n",
       "100 100     30  M      0       1        Daily     3.85    15   15.40\n",
       "107 107     37  M      0       1        Daily    13.47    41   19.71\n",
       "108 108     32  M      0       1        Daily     6.10    35   10.46\n",
       "110 110     54  M      0       1        Daily     2.78    27    6.18\n",
       "111 111     30  M      1       0        Daily     7.19    26   16.59\n",
       "112 112     34  M      0       1        Daily     9.12    36   15.20\n",
       "117 117     46  M      0       1        Daily     8.14    40   12.21"
      ]
     },
     "metadata": {},
     "output_type": "display_data"
    }
   ],
   "source": [
    "thirty <- daily_males[daily_males$age >= 30,]\n",
    "thirty"
   ]
  },
  {
   "cell_type": "markdown",
   "metadata": {},
   "source": [
    "**In this lab, we examined data on 47 daily riders. Most of the daily riders (a total of 38) were male. The average age of all daily riders was 33.7. The average age of female daily riders was 32.6, while the averge age of male daily riders was \n",
    "33.9.**"
   ]
  }
 ],
 "metadata": {
  "kernelspec": {
   "display_name": "R",
   "language": "R",
   "name": "ir"
  },
  "language_info": {
   "codemirror_mode": "r",
   "file_extension": ".r",
   "mimetype": "text/x-r-source",
   "name": "R",
   "pygments_lexer": "r",
   "version": "3.6.3"
  }
 },
 "nbformat": 4,
 "nbformat_minor": 4
}
