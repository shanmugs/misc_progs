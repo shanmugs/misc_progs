{
 "cells": [
  {
   "cell_type": "markdown",
   "metadata": {},
   "source": [
    "# Foundations of Data Analysis 1 - Week 3 - Professional Bull Riding"
   ]
  },
  {
   "cell_type": "markdown",
   "metadata": {},
   "source": [
    "<img src=\"images/week13.jpg\">"
   ]
  },
  {
   "cell_type": "markdown",
   "metadata": {},
   "source": [
    "Over 1,200 bull riders from around the world are members of the Professional Bull Riders (PBR). They compete in more than 300 PBR-affiliated bull riding events per year. In the American tradition, the rider must stay atop the bucking bull for a full eight seconds. This data set includes information about the top-ranked bull riders for 2013.  Rankings are based on a system which awards points for qualified rides at events throughout the season. "
   ]
  },
  {
   "cell_type": "markdown",
   "metadata": {},
   "source": [
    "**For the 2013 season, Is there a linear relationship between how often a rider placed in the Top 10 and the number of times he stayed on his bull for a full 8 seconds?**"
   ]
  },
  {
   "cell_type": "code",
   "execution_count": 1,
   "metadata": {},
   "outputs": [
    {
     "data": {
      "text/html": [
       "<table>\n",
       "<caption>A data.frame: 6 × 44</caption>\n",
       "<thead>\n",
       "\t<tr><th></th><th scope=col>Rider</th><th scope=col>Rank15</th><th scope=col>Country</th><th scope=col>YearBorn</th><th scope=col>Height</th><th scope=col>Weight</th><th scope=col>YearsPro</th><th scope=col>Events14</th><th scope=col>BuckOuts14</th><th scope=col>Rides14</th><th scope=col>⋯</th><th scope=col>BuckOuts12</th><th scope=col>Rides12</th><th scope=col>CupPoints12</th><th scope=col>Rank12</th><th scope=col>RidePer12</th><th scope=col>Wins12</th><th scope=col>Top5_12</th><th scope=col>Top10_12</th><th scope=col>FinalPoints12</th><th scope=col>Earnings12</th></tr>\n",
       "\t<tr><th></th><th scope=col>&lt;fct&gt;</th><th scope=col>&lt;int&gt;</th><th scope=col>&lt;fct&gt;</th><th scope=col>&lt;int&gt;</th><th scope=col>&lt;int&gt;</th><th scope=col>&lt;int&gt;</th><th scope=col>&lt;int&gt;</th><th scope=col>&lt;int&gt;</th><th scope=col>&lt;int&gt;</th><th scope=col>&lt;int&gt;</th><th scope=col>⋯</th><th scope=col>&lt;int&gt;</th><th scope=col>&lt;int&gt;</th><th scope=col>&lt;dbl&gt;</th><th scope=col>&lt;int&gt;</th><th scope=col>&lt;dbl&gt;</th><th scope=col>&lt;int&gt;</th><th scope=col>&lt;int&gt;</th><th scope=col>&lt;int&gt;</th><th scope=col>&lt;dbl&gt;</th><th scope=col>&lt;dbl&gt;</th></tr>\n",
       "</thead>\n",
       "<tbody>\n",
       "\t<tr><th scope=row>1</th><td>Joao Ricardo Vieira </td><td>1</td><td>BRA</td><td>1984</td><td>66</td><td>163</td><td> 3</td><td>28</td><td>93</td><td>41</td><td>⋯</td><td> 0</td><td> 0</td><td>    0.00</td><td>0</td><td>0.00</td><td>0</td><td> 0</td><td> 0</td><td>  0.0</td><td>     0.0</td></tr>\n",
       "\t<tr><th scope=row>2</th><td>Matt Triplett       </td><td>2</td><td>USA</td><td>1991</td><td>67</td><td>160</td><td> 4</td><td>28</td><td>86</td><td>33</td><td>⋯</td><td> 0</td><td> 0</td><td>    0.00</td><td>0</td><td>0.00</td><td>0</td><td> 0</td><td> 0</td><td>  0.0</td><td>     0.0</td></tr>\n",
       "\t<tr><th scope=row>3</th><td>J.B. Mauney         </td><td>3</td><td>USA</td><td>1987</td><td>70</td><td>140</td><td>10</td><td>22</td><td>63</td><td>25</td><td>⋯</td><td>82</td><td>40</td><td> 9273.25</td><td>8</td><td>0.49</td><td>3</td><td> 8</td><td>13</td><td>287.0</td><td>313340.3</td></tr>\n",
       "\t<tr><th scope=row>4</th><td>Kaique Pacheco      </td><td>4</td><td>BRA</td><td>1994</td><td>68</td><td>145</td><td> 2</td><td> 1</td><td> 1</td><td> 0</td><td>⋯</td><td> 0</td><td> 0</td><td>    0.00</td><td>0</td><td>0.00</td><td>0</td><td> 0</td><td> 0</td><td>  0.0</td><td>     0.0</td></tr>\n",
       "\t<tr><th scope=row>5</th><td>Nathan Schaper      </td><td>5</td><td>USA</td><td>1990</td><td>73</td><td>160</td><td> 6</td><td>15</td><td>41</td><td>17</td><td>⋯</td><td> 0</td><td> 0</td><td>    0.00</td><td>0</td><td>0.00</td><td>0</td><td> 0</td><td> 0</td><td>  0.0</td><td>     0.0</td></tr>\n",
       "\t<tr><th scope=row>6</th><td>Valdiron de Oliveira</td><td>6</td><td>BRA</td><td>1979</td><td>72</td><td>170</td><td> 9</td><td>28</td><td>81</td><td>29</td><td>⋯</td><td>87</td><td>53</td><td>10608.25</td><td>4</td><td>0.61</td><td>1</td><td>10</td><td>14</td><td>559.5</td><td>208724.5</td></tr>\n",
       "</tbody>\n",
       "</table>\n"
      ],
      "text/latex": [
       "A data.frame: 6 × 44\n",
       "\\begin{tabular}{r|lllllllllllllllllllll}\n",
       "  & Rider & Rank15 & Country & YearBorn & Height & Weight & YearsPro & Events14 & BuckOuts14 & Rides14 & ⋯ & BuckOuts12 & Rides12 & CupPoints12 & Rank12 & RidePer12 & Wins12 & Top5\\_12 & Top10\\_12 & FinalPoints12 & Earnings12\\\\\n",
       "  & <fct> & <int> & <fct> & <int> & <int> & <int> & <int> & <int> & <int> & <int> & ⋯ & <int> & <int> & <dbl> & <int> & <dbl> & <int> & <int> & <int> & <dbl> & <dbl>\\\\\n",
       "\\hline\n",
       "\t1 & Joao Ricardo Vieira  & 1 & BRA & 1984 & 66 & 163 &  3 & 28 & 93 & 41 & ⋯ &  0 &  0 &     0.00 & 0 & 0.00 & 0 &  0 &  0 &   0.0 &      0.0\\\\\n",
       "\t2 & Matt Triplett        & 2 & USA & 1991 & 67 & 160 &  4 & 28 & 86 & 33 & ⋯ &  0 &  0 &     0.00 & 0 & 0.00 & 0 &  0 &  0 &   0.0 &      0.0\\\\\n",
       "\t3 & J.B. Mauney          & 3 & USA & 1987 & 70 & 140 & 10 & 22 & 63 & 25 & ⋯ & 82 & 40 &  9273.25 & 8 & 0.49 & 3 &  8 & 13 & 287.0 & 313340.3\\\\\n",
       "\t4 & Kaique Pacheco       & 4 & BRA & 1994 & 68 & 145 &  2 &  1 &  1 &  0 & ⋯ &  0 &  0 &     0.00 & 0 & 0.00 & 0 &  0 &  0 &   0.0 &      0.0\\\\\n",
       "\t5 & Nathan Schaper       & 5 & USA & 1990 & 73 & 160 &  6 & 15 & 41 & 17 & ⋯ &  0 &  0 &     0.00 & 0 & 0.00 & 0 &  0 &  0 &   0.0 &      0.0\\\\\n",
       "\t6 & Valdiron de Oliveira & 6 & BRA & 1979 & 72 & 170 &  9 & 28 & 81 & 29 & ⋯ & 87 & 53 & 10608.25 & 4 & 0.61 & 1 & 10 & 14 & 559.5 & 208724.5\\\\\n",
       "\\end{tabular}\n"
      ],
      "text/markdown": [
       "\n",
       "A data.frame: 6 × 44\n",
       "\n",
       "| <!--/--> | Rider &lt;fct&gt; | Rank15 &lt;int&gt; | Country &lt;fct&gt; | YearBorn &lt;int&gt; | Height &lt;int&gt; | Weight &lt;int&gt; | YearsPro &lt;int&gt; | Events14 &lt;int&gt; | BuckOuts14 &lt;int&gt; | Rides14 &lt;int&gt; | ⋯ ⋯ | BuckOuts12 &lt;int&gt; | Rides12 &lt;int&gt; | CupPoints12 &lt;dbl&gt; | Rank12 &lt;int&gt; | RidePer12 &lt;dbl&gt; | Wins12 &lt;int&gt; | Top5_12 &lt;int&gt; | Top10_12 &lt;int&gt; | FinalPoints12 &lt;dbl&gt; | Earnings12 &lt;dbl&gt; |\n",
       "|---|---|---|---|---|---|---|---|---|---|---|---|---|---|---|---|---|---|---|---|---|---|\n",
       "| 1 | Joao Ricardo Vieira  | 1 | BRA | 1984 | 66 | 163 |  3 | 28 | 93 | 41 | ⋯ |  0 |  0 |     0.00 | 0 | 0.00 | 0 |  0 |  0 |   0.0 |      0.0 |\n",
       "| 2 | Matt Triplett        | 2 | USA | 1991 | 67 | 160 |  4 | 28 | 86 | 33 | ⋯ |  0 |  0 |     0.00 | 0 | 0.00 | 0 |  0 |  0 |   0.0 |      0.0 |\n",
       "| 3 | J.B. Mauney          | 3 | USA | 1987 | 70 | 140 | 10 | 22 | 63 | 25 | ⋯ | 82 | 40 |  9273.25 | 8 | 0.49 | 3 |  8 | 13 | 287.0 | 313340.3 |\n",
       "| 4 | Kaique Pacheco       | 4 | BRA | 1994 | 68 | 145 |  2 |  1 |  1 |  0 | ⋯ |  0 |  0 |     0.00 | 0 | 0.00 | 0 |  0 |  0 |   0.0 |      0.0 |\n",
       "| 5 | Nathan Schaper       | 5 | USA | 1990 | 73 | 160 |  6 | 15 | 41 | 17 | ⋯ |  0 |  0 |     0.00 | 0 | 0.00 | 0 |  0 |  0 |   0.0 |      0.0 |\n",
       "| 6 | Valdiron de Oliveira | 6 | BRA | 1979 | 72 | 170 |  9 | 28 | 81 | 29 | ⋯ | 87 | 53 | 10608.25 | 4 | 0.61 | 1 | 10 | 14 | 559.5 | 208724.5 |\n",
       "\n"
      ],
      "text/plain": [
       "  Rider                Rank15 Country YearBorn Height Weight YearsPro Events14\n",
       "1 Joao Ricardo Vieira  1      BRA     1984     66     163     3       28      \n",
       "2 Matt Triplett        2      USA     1991     67     160     4       28      \n",
       "3 J.B. Mauney          3      USA     1987     70     140    10       22      \n",
       "4 Kaique Pacheco       4      BRA     1994     68     145     2        1      \n",
       "5 Nathan Schaper       5      USA     1990     73     160     6       15      \n",
       "6 Valdiron de Oliveira 6      BRA     1979     72     170     9       28      \n",
       "  BuckOuts14 Rides14 <U+22EF>        BuckOuts12 Rides12 CupPoints12 Rank12 RidePer12\n",
       "1 93         41      <U+22EF>  0          0          0.00    0      0.00     \n",
       "2 86         33      <U+22EF>  0          0          0.00    0      0.00     \n",
       "3 63         25      <U+22EF> 82         40       9273.25    8      0.49     \n",
       "4  1          0      <U+22EF>  0          0          0.00    0      0.00     \n",
       "5 41         17      <U+22EF>  0          0          0.00    0      0.00     \n",
       "6 81         29      <U+22EF> 87         53      10608.25    4      0.61     \n",
       "  Wins12 Top5_12 Top10_12 FinalPoints12 Earnings12\n",
       "1 0       0       0         0.0              0.0  \n",
       "2 0       0       0         0.0              0.0  \n",
       "3 3       8      13       287.0         313340.3  \n",
       "4 0       0       0         0.0              0.0  \n",
       "5 0       0       0         0.0              0.0  \n",
       "6 1      10      14       559.5         208724.5  "
      ]
     },
     "metadata": {},
     "output_type": "display_data"
    }
   ],
   "source": [
    "bull <- read.csv(\"data/BullRiders.csv\")\n",
    "head(bull)"
   ]
  },
  {
   "cell_type": "markdown",
   "metadata": {},
   "source": [
    "How Many observations are in the dataset?"
   ]
  },
  {
   "cell_type": "code",
   "execution_count": 2,
   "metadata": {
    "scrolled": true
   },
   "outputs": [
    {
     "name": "stdout",
     "output_type": "stream",
     "text": [
      "'data.frame':\t58 obs. of  44 variables:\n",
      " $ Rider             : Factor w/ 58 levels \"Austin Meier\",..: 26 39 23 30 41 58 21 50 43 24 ...\n",
      " $ Rank15            : int  1 2 3 4 5 6 7 8 9 10 ...\n",
      " $ Country           : Factor w/ 4 levels \"AUS\",\"BRA\",\"CAN\",..: 2 4 4 2 4 2 2 2 4 4 ...\n",
      " $ YearBorn          : int  1984 1991 1987 1994 1990 1979 1982 1987 1989 1986 ...\n",
      " $ Height            : int  66 67 70 68 73 72 70 67 68 70 ...\n",
      " $ Weight            : int  163 160 140 145 160 170 180 150 135 160 ...\n",
      " $ YearsPro          : int  3 4 10 2 6 9 16 7 9 10 ...\n",
      " $ Events14          : int  28 28 22 1 15 28 28 28 12 14 ...\n",
      " $ BuckOuts14        : int  93 86 63 1 41 81 90 92 30 37 ...\n",
      " $ Rides14           : int  41 33 25 0 17 29 41 50 8 16 ...\n",
      " $ CupPoints14       : num  9520 7494 4974 1672 3240 ...\n",
      " $ Rank14            : int  2 3 4 0 31 17 8 1 54 9 ...\n",
      " $ RidePer14         : num  0.441 0.384 0.397 0 0.415 ...\n",
      " $ RidesPer_45bull_14: num  0 0.2 0.5 0 0 ...\n",
      " $ Rides90pts_14     : int  5 2 4 0 0 1 2 1 0 2 ...\n",
      " $ Wins14            : int  2 0 2 0 1 2 1 0 0 0 ...\n",
      " $ Top5_14           : int  10 4 5 0 1 5 6 7 1 2 ...\n",
      " $ Top10_14          : int  14 11 5 0 3 8 15 12 2 4 ...\n",
      " $ FinalPoints14     : num  1152.8 2743.2 4553.5 0 83.5 ...\n",
      " $ Earnings14        : num  328121 258026 497598 32978 77426 ...\n",
      " $ Events13          : int  22 9 26 0 24 19 27 27 11 0 ...\n",
      " $ BuckOuts13        : int  72 26 90 0 66 53 84 91 26 0 ...\n",
      " $ Rides13           : int  35 11 47 0 22 25 39 50 6 0 ...\n",
      " $ CupPoints13       : num  8749 2827 10399 0 4304 ...\n",
      " $ Rank13            : int  3 26 1 0 25 16 4 2 42 0 ...\n",
      " $ RidePer13         : num  0.486 0.423 0.522 0 0.333 ...\n",
      " $ RidesPer_45bull_13: num  0.375 1 0.267 0 0 ...\n",
      " $ Rides90pts_13     : int  4 1 8 0 0 0 0 3 0 0 ...\n",
      " $ Wins13            : int  3 0 5 0 0 0 2 3 0 0 ...\n",
      " $ Top5_13           : int  5 1 11 0 2 6 5 11 1 0 ...\n",
      " $ Top10_13          : int  9 2 14 0 2 6 11 13 2 0 ...\n",
      " $ FinalPoints13     : num  1991 1257 5296 0 0 ...\n",
      " $ Earnings13        : num  466585 89378 1810711 0 58577 ...\n",
      " $ Events12          : int  0 0 26 0 0 28 29 29 5 0 ...\n",
      " $ BuckOuts12        : int  0 0 82 0 0 87 87 103 10 0 ...\n",
      " $ Rides12           : int  0 0 40 0 0 53 50 62 3 0 ...\n",
      " $ CupPoints12       : num  0 0 9273 0 0 ...\n",
      " $ Rank12            : int  0 0 8 0 0 4 2 1 53 0 ...\n",
      " $ RidePer12         : num  0 0 0.49 0 0 0.61 0.57 0.6 0.3 0 ...\n",
      " $ Wins12            : int  0 0 3 0 0 1 2 2 0 0 ...\n",
      " $ Top5_12           : int  0 0 8 0 0 10 9 8 0 0 ...\n",
      " $ Top10_12          : int  0 0 13 0 0 14 12 18 1 0 ...\n",
      " $ FinalPoints12     : num  0 0 287 0 0 ...\n",
      " $ Earnings12        : num  0 0 313340 0 0 ...\n"
     ]
    }
   ],
   "source": [
    "str(bull)"
   ]
  },
  {
   "cell_type": "markdown",
   "metadata": {},
   "source": [
    "How many of the first 10 riders have been pro for 10 years or more?"
   ]
  },
  {
   "cell_type": "code",
   "execution_count": 3,
   "metadata": {},
   "outputs": [
    {
     "data": {
      "text/html": [
       "<table>\n",
       "<caption>A data.frame: 3 × 44</caption>\n",
       "<thead>\n",
       "\t<tr><th></th><th scope=col>Rider</th><th scope=col>Rank15</th><th scope=col>Country</th><th scope=col>YearBorn</th><th scope=col>Height</th><th scope=col>Weight</th><th scope=col>YearsPro</th><th scope=col>Events14</th><th scope=col>BuckOuts14</th><th scope=col>Rides14</th><th scope=col>⋯</th><th scope=col>BuckOuts12</th><th scope=col>Rides12</th><th scope=col>CupPoints12</th><th scope=col>Rank12</th><th scope=col>RidePer12</th><th scope=col>Wins12</th><th scope=col>Top5_12</th><th scope=col>Top10_12</th><th scope=col>FinalPoints12</th><th scope=col>Earnings12</th></tr>\n",
       "\t<tr><th></th><th scope=col>&lt;fct&gt;</th><th scope=col>&lt;int&gt;</th><th scope=col>&lt;fct&gt;</th><th scope=col>&lt;int&gt;</th><th scope=col>&lt;int&gt;</th><th scope=col>&lt;int&gt;</th><th scope=col>&lt;int&gt;</th><th scope=col>&lt;int&gt;</th><th scope=col>&lt;int&gt;</th><th scope=col>&lt;int&gt;</th><th scope=col>⋯</th><th scope=col>&lt;int&gt;</th><th scope=col>&lt;int&gt;</th><th scope=col>&lt;dbl&gt;</th><th scope=col>&lt;int&gt;</th><th scope=col>&lt;dbl&gt;</th><th scope=col>&lt;int&gt;</th><th scope=col>&lt;int&gt;</th><th scope=col>&lt;int&gt;</th><th scope=col>&lt;dbl&gt;</th><th scope=col>&lt;dbl&gt;</th></tr>\n",
       "</thead>\n",
       "<tbody>\n",
       "\t<tr><th scope=row>3</th><td>J.B. Mauney     </td><td> 3</td><td>USA</td><td>1987</td><td>70</td><td>140</td><td>10</td><td>22</td><td>63</td><td>25</td><td>⋯</td><td>82</td><td>40</td><td> 9273.25</td><td>8</td><td>0.49</td><td>3</td><td>8</td><td>13</td><td> 287.00</td><td>313340.3</td></tr>\n",
       "\t<tr><th scope=row>7</th><td>Guilherme Marchi</td><td> 7</td><td>BRA</td><td>1982</td><td>70</td><td>180</td><td>16</td><td>28</td><td>90</td><td>41</td><td>⋯</td><td>87</td><td>50</td><td>11542.00</td><td>2</td><td>0.57</td><td>2</td><td>9</td><td>12</td><td>2519.75</td><td>331421.7</td></tr>\n",
       "\t<tr><th scope=row>10</th><td>J.W. Harris     </td><td>10</td><td>USA</td><td>1986</td><td>70</td><td>160</td><td>10</td><td>14</td><td>37</td><td>16</td><td>⋯</td><td> 0</td><td> 0</td><td>    0.00</td><td>0</td><td>0.00</td><td>0</td><td>0</td><td> 0</td><td>   0.00</td><td>     0.0</td></tr>\n",
       "</tbody>\n",
       "</table>\n"
      ],
      "text/latex": [
       "A data.frame: 3 × 44\n",
       "\\begin{tabular}{r|lllllllllllllllllllll}\n",
       "  & Rider & Rank15 & Country & YearBorn & Height & Weight & YearsPro & Events14 & BuckOuts14 & Rides14 & ⋯ & BuckOuts12 & Rides12 & CupPoints12 & Rank12 & RidePer12 & Wins12 & Top5\\_12 & Top10\\_12 & FinalPoints12 & Earnings12\\\\\n",
       "  & <fct> & <int> & <fct> & <int> & <int> & <int> & <int> & <int> & <int> & <int> & ⋯ & <int> & <int> & <dbl> & <int> & <dbl> & <int> & <int> & <int> & <dbl> & <dbl>\\\\\n",
       "\\hline\n",
       "\t3 & J.B. Mauney      &  3 & USA & 1987 & 70 & 140 & 10 & 22 & 63 & 25 & ⋯ & 82 & 40 &  9273.25 & 8 & 0.49 & 3 & 8 & 13 &  287.00 & 313340.3\\\\\n",
       "\t7 & Guilherme Marchi &  7 & BRA & 1982 & 70 & 180 & 16 & 28 & 90 & 41 & ⋯ & 87 & 50 & 11542.00 & 2 & 0.57 & 2 & 9 & 12 & 2519.75 & 331421.7\\\\\n",
       "\t10 & J.W. Harris      & 10 & USA & 1986 & 70 & 160 & 10 & 14 & 37 & 16 & ⋯ &  0 &  0 &     0.00 & 0 & 0.00 & 0 & 0 &  0 &    0.00 &      0.0\\\\\n",
       "\\end{tabular}\n"
      ],
      "text/markdown": [
       "\n",
       "A data.frame: 3 × 44\n",
       "\n",
       "| <!--/--> | Rider &lt;fct&gt; | Rank15 &lt;int&gt; | Country &lt;fct&gt; | YearBorn &lt;int&gt; | Height &lt;int&gt; | Weight &lt;int&gt; | YearsPro &lt;int&gt; | Events14 &lt;int&gt; | BuckOuts14 &lt;int&gt; | Rides14 &lt;int&gt; | ⋯ ⋯ | BuckOuts12 &lt;int&gt; | Rides12 &lt;int&gt; | CupPoints12 &lt;dbl&gt; | Rank12 &lt;int&gt; | RidePer12 &lt;dbl&gt; | Wins12 &lt;int&gt; | Top5_12 &lt;int&gt; | Top10_12 &lt;int&gt; | FinalPoints12 &lt;dbl&gt; | Earnings12 &lt;dbl&gt; |\n",
       "|---|---|---|---|---|---|---|---|---|---|---|---|---|---|---|---|---|---|---|---|---|---|\n",
       "| 3 | J.B. Mauney      |  3 | USA | 1987 | 70 | 140 | 10 | 22 | 63 | 25 | ⋯ | 82 | 40 |  9273.25 | 8 | 0.49 | 3 | 8 | 13 |  287.00 | 313340.3 |\n",
       "| 7 | Guilherme Marchi |  7 | BRA | 1982 | 70 | 180 | 16 | 28 | 90 | 41 | ⋯ | 87 | 50 | 11542.00 | 2 | 0.57 | 2 | 9 | 12 | 2519.75 | 331421.7 |\n",
       "| 10 | J.W. Harris      | 10 | USA | 1986 | 70 | 160 | 10 | 14 | 37 | 16 | ⋯ |  0 |  0 |     0.00 | 0 | 0.00 | 0 | 0 |  0 |    0.00 |      0.0 |\n",
       "\n"
      ],
      "text/plain": [
       "   Rider            Rank15 Country YearBorn Height Weight YearsPro Events14\n",
       "3  J.B. Mauney       3     USA     1987     70     140    10       22      \n",
       "7  Guilherme Marchi  7     BRA     1982     70     180    16       28      \n",
       "10 J.W. Harris      10     USA     1986     70     160    10       14      \n",
       "   BuckOuts14 Rides14 <U+22EF>        BuckOuts12 Rides12 CupPoints12 Rank12 RidePer12\n",
       "3  63         25      <U+22EF> 82         40       9273.25    8      0.49     \n",
       "7  90         41      <U+22EF> 87         50      11542.00    2      0.57     \n",
       "10 37         16      <U+22EF>  0          0          0.00    0      0.00     \n",
       "   Wins12 Top5_12 Top10_12 FinalPoints12 Earnings12\n",
       "3  3      8       13        287.00       313340.3  \n",
       "7  2      9       12       2519.75       331421.7  \n",
       "10 0      0        0          0.00            0.0  "
      ]
     },
     "metadata": {},
     "output_type": "display_data"
    }
   ],
   "source": [
    "first10riders<-bull[1:10,]\n",
    "first10vet <-first10riders[first10riders$YearsPro > 9,]\n",
    "first10vet"
   ]
  },
  {
   "cell_type": "markdown",
   "metadata": {},
   "source": [
    "Of the top 15 riders so far in 2015, how many rides were completed by the rider with the fewest buck-outs in 2014?"
   ]
  },
  {
   "cell_type": "code",
   "execution_count": 4,
   "metadata": {},
   "outputs": [
    {
     "data": {
      "text/html": [
       "4"
      ],
      "text/latex": [
       "4"
      ],
      "text/markdown": [
       "4"
      ],
      "text/plain": [
       "[1] 4"
      ]
     },
     "metadata": {},
     "output_type": "display_data"
    }
   ],
   "source": [
    "first15riders<-bull[1:15,]\n",
    "\n",
    "which(first15riders$BuckOuts14 == min(first15riders$BuckOuts14))"
   ]
  },
  {
   "cell_type": "code",
   "execution_count": 5,
   "metadata": {
    "scrolled": true
   },
   "outputs": [
    {
     "data": {
      "text/html": [
       "<table>\n",
       "<caption>A data.frame: 1 × 44</caption>\n",
       "<thead>\n",
       "\t<tr><th></th><th scope=col>Rider</th><th scope=col>Rank15</th><th scope=col>Country</th><th scope=col>YearBorn</th><th scope=col>Height</th><th scope=col>Weight</th><th scope=col>YearsPro</th><th scope=col>Events14</th><th scope=col>BuckOuts14</th><th scope=col>Rides14</th><th scope=col>⋯</th><th scope=col>BuckOuts12</th><th scope=col>Rides12</th><th scope=col>CupPoints12</th><th scope=col>Rank12</th><th scope=col>RidePer12</th><th scope=col>Wins12</th><th scope=col>Top5_12</th><th scope=col>Top10_12</th><th scope=col>FinalPoints12</th><th scope=col>Earnings12</th></tr>\n",
       "\t<tr><th></th><th scope=col>&lt;fct&gt;</th><th scope=col>&lt;int&gt;</th><th scope=col>&lt;fct&gt;</th><th scope=col>&lt;int&gt;</th><th scope=col>&lt;int&gt;</th><th scope=col>&lt;int&gt;</th><th scope=col>&lt;int&gt;</th><th scope=col>&lt;int&gt;</th><th scope=col>&lt;int&gt;</th><th scope=col>&lt;int&gt;</th><th scope=col>⋯</th><th scope=col>&lt;int&gt;</th><th scope=col>&lt;int&gt;</th><th scope=col>&lt;dbl&gt;</th><th scope=col>&lt;int&gt;</th><th scope=col>&lt;dbl&gt;</th><th scope=col>&lt;int&gt;</th><th scope=col>&lt;int&gt;</th><th scope=col>&lt;int&gt;</th><th scope=col>&lt;dbl&gt;</th><th scope=col>&lt;dbl&gt;</th></tr>\n",
       "</thead>\n",
       "<tbody>\n",
       "\t<tr><th scope=row>4</th><td>Kaique Pacheco</td><td>4</td><td>BRA</td><td>1994</td><td>68</td><td>145</td><td>2</td><td>1</td><td>1</td><td>0</td><td>⋯</td><td>0</td><td>0</td><td>0</td><td>0</td><td>0</td><td>0</td><td>0</td><td>0</td><td>0</td><td>0</td></tr>\n",
       "</tbody>\n",
       "</table>\n"
      ],
      "text/latex": [
       "A data.frame: 1 × 44\n",
       "\\begin{tabular}{r|lllllllllllllllllllll}\n",
       "  & Rider & Rank15 & Country & YearBorn & Height & Weight & YearsPro & Events14 & BuckOuts14 & Rides14 & ⋯ & BuckOuts12 & Rides12 & CupPoints12 & Rank12 & RidePer12 & Wins12 & Top5\\_12 & Top10\\_12 & FinalPoints12 & Earnings12\\\\\n",
       "  & <fct> & <int> & <fct> & <int> & <int> & <int> & <int> & <int> & <int> & <int> & ⋯ & <int> & <int> & <dbl> & <int> & <dbl> & <int> & <int> & <int> & <dbl> & <dbl>\\\\\n",
       "\\hline\n",
       "\t4 & Kaique Pacheco & 4 & BRA & 1994 & 68 & 145 & 2 & 1 & 1 & 0 & ⋯ & 0 & 0 & 0 & 0 & 0 & 0 & 0 & 0 & 0 & 0\\\\\n",
       "\\end{tabular}\n"
      ],
      "text/markdown": [
       "\n",
       "A data.frame: 1 × 44\n",
       "\n",
       "| <!--/--> | Rider &lt;fct&gt; | Rank15 &lt;int&gt; | Country &lt;fct&gt; | YearBorn &lt;int&gt; | Height &lt;int&gt; | Weight &lt;int&gt; | YearsPro &lt;int&gt; | Events14 &lt;int&gt; | BuckOuts14 &lt;int&gt; | Rides14 &lt;int&gt; | ⋯ ⋯ | BuckOuts12 &lt;int&gt; | Rides12 &lt;int&gt; | CupPoints12 &lt;dbl&gt; | Rank12 &lt;int&gt; | RidePer12 &lt;dbl&gt; | Wins12 &lt;int&gt; | Top5_12 &lt;int&gt; | Top10_12 &lt;int&gt; | FinalPoints12 &lt;dbl&gt; | Earnings12 &lt;dbl&gt; |\n",
       "|---|---|---|---|---|---|---|---|---|---|---|---|---|---|---|---|---|---|---|---|---|---|\n",
       "| 4 | Kaique Pacheco | 4 | BRA | 1994 | 68 | 145 | 2 | 1 | 1 | 0 | ⋯ | 0 | 0 | 0 | 0 | 0 | 0 | 0 | 0 | 0 | 0 |\n",
       "\n"
      ],
      "text/plain": [
       "  Rider          Rank15 Country YearBorn Height Weight YearsPro Events14\n",
       "4 Kaique Pacheco 4      BRA     1994     68     145    2        1       \n",
       "  BuckOuts14 Rides14 <U+22EF>        BuckOuts12 Rides12 CupPoints12 Rank12 RidePer12\n",
       "4 1          0       <U+22EF> 0          0       0           0      0        \n",
       "  Wins12 Top5_12 Top10_12 FinalPoints12 Earnings12\n",
       "4 0      0       0        0             0         "
      ]
     },
     "metadata": {},
     "output_type": "display_data"
    }
   ],
   "source": [
    "bull[4,]"
   ]
  },
  {
   "cell_type": "markdown",
   "metadata": {},
   "source": [
    "Answer: 0 (Rides14)"
   ]
  },
  {
   "cell_type": "markdown",
   "metadata": {},
   "source": [
    "**On average, a bull rider in 2013 has how many rides?**"
   ]
  },
  {
   "cell_type": "code",
   "execution_count": 6,
   "metadata": {},
   "outputs": [],
   "source": [
    "#Subset for riders that participated in at least one event in 2013\n",
    "new_bull <- bull[bull$Events13  > 0 ,]"
   ]
  },
  {
   "cell_type": "code",
   "execution_count": 7,
   "metadata": {},
   "outputs": [
    {
     "data": {
      "text/html": [
       "<style>\n",
       ".list-inline {list-style: none; margin:0; padding: 0}\n",
       ".list-inline>li {display: inline-block}\n",
       ".list-inline>li:not(:last-child)::after {content: \"\\00b7\"; padding: 0 .5ex}\n",
       "</style>\n",
       "<ol class=list-inline><li>0</li><li>11</li><li>19</li><li>25</li><li>50</li></ol>\n"
      ],
      "text/latex": [
       "\\begin{enumerate*}\n",
       "\\item 0\n",
       "\\item 11\n",
       "\\item 19\n",
       "\\item 25\n",
       "\\item 50\n",
       "\\end{enumerate*}\n"
      ],
      "text/markdown": [
       "1. 0\n",
       "2. 11\n",
       "3. 19\n",
       "4. 25\n",
       "5. 50\n",
       "\n",
       "\n"
      ],
      "text/plain": [
       "[1]  0 11 19 25 50"
      ]
     },
     "metadata": {},
     "output_type": "display_data"
    },
    {
     "data": {
      "text/html": [
       "18.7317073170732"
      ],
      "text/latex": [
       "18.7317073170732"
      ],
      "text/markdown": [
       "18.7317073170732"
      ],
      "text/plain": [
       "[1] 18.73171"
      ]
     },
     "metadata": {},
     "output_type": "display_data"
    },
    {
     "data": {
      "text/html": [
       "12.7318977184156"
      ],
      "text/latex": [
       "12.7318977184156"
      ],
      "text/markdown": [
       "12.7318977184156"
      ],
      "text/plain": [
       "[1] 12.7319"
      ]
     },
     "metadata": {},
     "output_type": "display_data"
    },
    {
     "data": {
      "image/png": "[encoded data removed]",
      "text/plain": [
       "Plot with title \"Histogram of new_bull$Rides13\""
      ]
     },
     "metadata": {
      "image/png": {
       "height": 420,
       "width": 420
      },
      "text/plain": {
       "height": 420,
       "width": 420
      }
     },
     "output_type": "display_data"
    }
   ],
   "source": [
    "# Visualize and describe the first variable of interest\n",
    "hist(new_bull$Rides13)\n",
    "fivenum(new_bull$Rides13)\n",
    "mean(new_bull$Rides13)\n",
    "sd(new_bull$Rides13)"
   ]
  },
  {
   "cell_type": "markdown",
   "metadata": {},
   "source": [
    "**Aswer:19 (median), because the distribution is skewed.**"
   ]
  },
  {
   "cell_type": "markdown",
   "metadata": {},
   "source": [
    "**These bull riders made it into the Top 10 an average of _?_ times in 2013.**"
   ]
  },
  {
   "cell_type": "code",
   "execution_count": 8,
   "metadata": {},
   "outputs": [
    {
     "data": {
      "text/html": [
       "<style>\n",
       ".list-inline {list-style: none; margin:0; padding: 0}\n",
       ".list-inline>li {display: inline-block}\n",
       ".list-inline>li:not(:last-child)::after {content: \"\\00b7\"; padding: 0 .5ex}\n",
       "</style>\n",
       "<ol class=list-inline><li>0</li><li>2</li><li>6</li><li>8</li><li>14</li></ol>\n"
      ],
      "text/latex": [
       "\\begin{enumerate*}\n",
       "\\item 0\n",
       "\\item 2\n",
       "\\item 6\n",
       "\\item 8\n",
       "\\item 14\n",
       "\\end{enumerate*}\n"
      ],
      "text/markdown": [
       "1. 0\n",
       "2. 2\n",
       "3. 6\n",
       "4. 8\n",
       "5. 14\n",
       "\n",
       "\n"
      ],
      "text/plain": [
       "[1]  0  2  6  8 14"
      ]
     },
     "metadata": {},
     "output_type": "display_data"
    },
    {
     "data": {
      "text/html": [
       "5.39024390243902"
      ],
      "text/latex": [
       "5.39024390243902"
      ],
      "text/markdown": [
       "5.39024390243902"
      ],
      "text/plain": [
       "[1] 5.390244"
      ]
     },
     "metadata": {},
     "output_type": "display_data"
    },
    {
     "data": {
      "text/html": [
       "4.03657062851926"
      ],
      "text/latex": [
       "4.03657062851926"
      ],
      "text/markdown": [
       "4.03657062851926"
      ],
      "text/plain": [
       "[1] 4.036571"
      ]
     },
     "metadata": {},
     "output_type": "display_data"
    },
    {
     "data": {
      "image/png": "[encoded data removed]",
      "text/plain": [
       "Plot with title \"Histogram of new_bull$Top10_13\""
      ]
     },
     "metadata": {
      "image/png": {
       "height": 420,
       "width": 420
      },
      "text/plain": {
       "height": 420,
       "width": 420
      }
     },
     "output_type": "display_data"
    }
   ],
   "source": [
    "# Visualize and describe the second variable of interest\n",
    "hist(new_bull$Top10_13)\n",
    "fivenum(new_bull$Top10_13)\n",
    "mean(new_bull$Top10_13)\n",
    "sd(new_bull$Top10_13)"
   ]
  },
  {
   "cell_type": "markdown",
   "metadata": {},
   "source": [
    "**Aswer:6 (median), because the distribution is skewed.**"
   ]
  },
  {
   "cell_type": "code",
   "execution_count": 16,
   "metadata": {},
   "outputs": [
    {
     "data": {
      "image/png": "[encoded data removed]",
      "text/plain": [
       "plot without title"
      ]
     },
     "metadata": {
      "image/png": {
       "height": 420,
       "width": 420
      },
      "text/plain": {
       "height": 420,
       "width": 420
      }
     },
     "output_type": "display_data"
    }
   ],
   "source": [
    "# Create a scatterplot\n",
    "plot(new_bull$Rides13,new_bull$Top10_13)\n",
    "\n",
    "# Add line of best fit\n",
    "abline(lm(new_bull$Top10_13~new_bull$Rides13))"
   ]
  },
  {
   "cell_type": "markdown",
   "metadata": {},
   "source": [
    "On the scatterplot, we see a data point with a fairly large residual. This rider had 22 rides, but he only placed in the Top 10 two times. This rider's data point falls **below** the line of best fit. If his data followed the line of best fit, he should have placed in the Top 10 about **6** times."
   ]
  },
  {
   "cell_type": "code",
   "execution_count": 14,
   "metadata": {},
   "outputs": [
    {
     "data": {
      "text/html": [
       "0.916605952978041"
      ],
      "text/latex": [
       "0.916605952978041"
      ],
      "text/markdown": [
       "0.916605952978041"
      ],
      "text/plain": [
       "[1] 0.916606"
      ]
     },
     "metadata": {},
     "output_type": "display_data"
    }
   ],
   "source": [
    "# Calculate the correlation coefficient\n",
    "cor(new_bull$Rides13,new_bull$Top10_13)"
   ]
  },
  {
   "cell_type": "code",
   "execution_count": 15,
   "metadata": {},
   "outputs": [
    {
     "data": {
      "text/html": [
       "<table>\n",
       "<caption>A matrix: 2 × 2 of type dbl</caption>\n",
       "<thead>\n",
       "\t<tr><th></th><th scope=col>Top10_13</th><th scope=col>Rides13</th></tr>\n",
       "</thead>\n",
       "<tbody>\n",
       "\t<tr><th scope=row>Top10_13</th><td>1.000000</td><td>0.916606</td></tr>\n",
       "\t<tr><th scope=row>Rides13</th><td>0.916606</td><td>1.000000</td></tr>\n",
       "</tbody>\n",
       "</table>\n"
      ],
      "text/latex": [
       "A matrix: 2 × 2 of type dbl\n",
       "\\begin{tabular}{r|ll}\n",
       "  & Top10\\_13 & Rides13\\\\\n",
       "\\hline\n",
       "\tTop10\\_13 & 1.000000 & 0.916606\\\\\n",
       "\tRides13 & 0.916606 & 1.000000\\\\\n",
       "\\end{tabular}\n"
      ],
      "text/markdown": [
       "\n",
       "A matrix: 2 × 2 of type dbl\n",
       "\n",
       "| <!--/--> | Top10_13 | Rides13 |\n",
       "|---|---|---|\n",
       "| Top10_13 | 1.000000 | 0.916606 |\n",
       "| Rides13 | 0.916606 | 1.000000 |\n",
       "\n"
      ],
      "text/plain": [
       "         Top10_13 Rides13 \n",
       "Top10_13 1.000000 0.916606\n",
       "Rides13  0.916606 1.000000"
      ]
     },
     "metadata": {},
     "output_type": "display_data"
    }
   ],
   "source": [
    "# Create a correlation matrix \n",
    "vars <- c(\"Top10_13\", \"Rides13\")\n",
    "cor(new_bull[,vars])"
   ]
  },
  {
   "cell_type": "markdown",
   "metadata": {},
   "source": [
    "**After looking at the data for this rider(Top10_13==2 & new_bull$Rides13==22), can you explain why he has placed in the Top 10 so few times?**"
   ]
  },
  {
   "cell_type": "code",
   "execution_count": 17,
   "metadata": {},
   "outputs": [
    {
     "data": {
      "text/html": [
       "4"
      ],
      "text/latex": [
       "4"
      ],
      "text/markdown": [
       "4"
      ],
      "text/plain": [
       "[1] 4"
      ]
     },
     "metadata": {},
     "output_type": "display_data"
    }
   ],
   "source": [
    "#identify a specific record\n",
    "which(new_bull$Top10_13==2 & new_bull$Rides13==22)"
   ]
  },
  {
   "cell_type": "code",
   "execution_count": 18,
   "metadata": {},
   "outputs": [
    {
     "data": {
      "text/html": [
       "<table>\n",
       "<caption>A data.frame: 1 × 44</caption>\n",
       "<thead>\n",
       "\t<tr><th></th><th scope=col>Rider</th><th scope=col>Rank15</th><th scope=col>Country</th><th scope=col>YearBorn</th><th scope=col>Height</th><th scope=col>Weight</th><th scope=col>YearsPro</th><th scope=col>Events14</th><th scope=col>BuckOuts14</th><th scope=col>Rides14</th><th scope=col>⋯</th><th scope=col>BuckOuts12</th><th scope=col>Rides12</th><th scope=col>CupPoints12</th><th scope=col>Rank12</th><th scope=col>RidePer12</th><th scope=col>Wins12</th><th scope=col>Top5_12</th><th scope=col>Top10_12</th><th scope=col>FinalPoints12</th><th scope=col>Earnings12</th></tr>\n",
       "\t<tr><th></th><th scope=col>&lt;fct&gt;</th><th scope=col>&lt;int&gt;</th><th scope=col>&lt;fct&gt;</th><th scope=col>&lt;int&gt;</th><th scope=col>&lt;int&gt;</th><th scope=col>&lt;int&gt;</th><th scope=col>&lt;int&gt;</th><th scope=col>&lt;int&gt;</th><th scope=col>&lt;int&gt;</th><th scope=col>&lt;int&gt;</th><th scope=col>⋯</th><th scope=col>&lt;int&gt;</th><th scope=col>&lt;int&gt;</th><th scope=col>&lt;dbl&gt;</th><th scope=col>&lt;int&gt;</th><th scope=col>&lt;dbl&gt;</th><th scope=col>&lt;int&gt;</th><th scope=col>&lt;int&gt;</th><th scope=col>&lt;int&gt;</th><th scope=col>&lt;dbl&gt;</th><th scope=col>&lt;dbl&gt;</th></tr>\n",
       "</thead>\n",
       "<tbody>\n",
       "\t<tr><th scope=row>5</th><td>Nathan Schaper</td><td>5</td><td>USA</td><td>1990</td><td>73</td><td>160</td><td>6</td><td>15</td><td>41</td><td>17</td><td>⋯</td><td>0</td><td>0</td><td>0</td><td>0</td><td>0</td><td>0</td><td>0</td><td>0</td><td>0</td><td>0</td></tr>\n",
       "</tbody>\n",
       "</table>\n"
      ],
      "text/latex": [
       "A data.frame: 1 × 44\n",
       "\\begin{tabular}{r|lllllllllllllllllllll}\n",
       "  & Rider & Rank15 & Country & YearBorn & Height & Weight & YearsPro & Events14 & BuckOuts14 & Rides14 & ⋯ & BuckOuts12 & Rides12 & CupPoints12 & Rank12 & RidePer12 & Wins12 & Top5\\_12 & Top10\\_12 & FinalPoints12 & Earnings12\\\\\n",
       "  & <fct> & <int> & <fct> & <int> & <int> & <int> & <int> & <int> & <int> & <int> & ⋯ & <int> & <int> & <dbl> & <int> & <dbl> & <int> & <int> & <int> & <dbl> & <dbl>\\\\\n",
       "\\hline\n",
       "\t5 & Nathan Schaper & 5 & USA & 1990 & 73 & 160 & 6 & 15 & 41 & 17 & ⋯ & 0 & 0 & 0 & 0 & 0 & 0 & 0 & 0 & 0 & 0\\\\\n",
       "\\end{tabular}\n"
      ],
      "text/markdown": [
       "\n",
       "A data.frame: 1 × 44\n",
       "\n",
       "| <!--/--> | Rider &lt;fct&gt; | Rank15 &lt;int&gt; | Country &lt;fct&gt; | YearBorn &lt;int&gt; | Height &lt;int&gt; | Weight &lt;int&gt; | YearsPro &lt;int&gt; | Events14 &lt;int&gt; | BuckOuts14 &lt;int&gt; | Rides14 &lt;int&gt; | ⋯ ⋯ | BuckOuts12 &lt;int&gt; | Rides12 &lt;int&gt; | CupPoints12 &lt;dbl&gt; | Rank12 &lt;int&gt; | RidePer12 &lt;dbl&gt; | Wins12 &lt;int&gt; | Top5_12 &lt;int&gt; | Top10_12 &lt;int&gt; | FinalPoints12 &lt;dbl&gt; | Earnings12 &lt;dbl&gt; |\n",
       "|---|---|---|---|---|---|---|---|---|---|---|---|---|---|---|---|---|---|---|---|---|---|\n",
       "| 5 | Nathan Schaper | 5 | USA | 1990 | 73 | 160 | 6 | 15 | 41 | 17 | ⋯ | 0 | 0 | 0 | 0 | 0 | 0 | 0 | 0 | 0 | 0 |\n",
       "\n"
      ],
      "text/plain": [
       "  Rider          Rank15 Country YearBorn Height Weight YearsPro Events14\n",
       "5 Nathan Schaper 5      USA     1990     73     160    6        15      \n",
       "  BuckOuts14 Rides14 <U+22EF>        BuckOuts12 Rides12 CupPoints12 Rank12 RidePer12\n",
       "5 41         17      <U+22EF> 0          0       0           0      0        \n",
       "  Wins12 Top5_12 Top10_12 FinalPoints12 Earnings12\n",
       "5 0      0       0        0             0         "
      ]
     },
     "metadata": {},
     "output_type": "display_data"
    }
   ],
   "source": [
    "new_bull[4,]"
   ]
  },
  {
   "cell_type": "code",
   "execution_count": 19,
   "metadata": {},
   "outputs": [
    {
     "name": "stdout",
     "output_type": "stream",
     "text": [
      "'data.frame':\t1 obs. of  44 variables:\n",
      " $ Rider             : Factor w/ 58 levels \"Austin Meier\",..: 41\n",
      " $ Rank15            : int 5\n",
      " $ Country           : Factor w/ 4 levels \"AUS\",\"BRA\",\"CAN\",..: 4\n",
      " $ YearBorn          : int 1990\n",
      " $ Height            : int 73\n",
      " $ Weight            : int 160\n",
      " $ YearsPro          : int 6\n",
      " $ Events14          : int 15\n",
      " $ BuckOuts14        : int 41\n",
      " $ Rides14           : int 17\n",
      " $ CupPoints14       : num 3240\n",
      " $ Rank14            : int 31\n",
      " $ RidePer14         : num 0.415\n",
      " $ RidesPer_45bull_14: num 0\n",
      " $ Rides90pts_14     : int 0\n",
      " $ Wins14            : int 1\n",
      " $ Top5_14           : int 1\n",
      " $ Top10_14          : int 3\n",
      " $ FinalPoints14     : num 83.5\n",
      " $ Earnings14        : num 77426\n",
      " $ Events13          : int 24\n",
      " $ BuckOuts13        : int 66\n",
      " $ Rides13           : int 22\n",
      " $ CupPoints13       : num 4304\n",
      " $ Rank13            : int 25\n",
      " $ RidePer13         : num 0.333\n",
      " $ RidesPer_45bull_13: num 0\n",
      " $ Rides90pts_13     : int 0\n",
      " $ Wins13            : int 0\n",
      " $ Top5_13           : int 2\n",
      " $ Top10_13          : int 2\n",
      " $ FinalPoints13     : num 0\n",
      " $ Earnings13        : num 58577\n",
      " $ Events12          : int 0\n",
      " $ BuckOuts12        : int 0\n",
      " $ Rides12           : int 0\n",
      " $ CupPoints12       : num 0\n",
      " $ Rank12            : int 0\n",
      " $ RidePer12         : num 0\n",
      " $ Wins12            : int 0\n",
      " $ Top5_12           : int 0\n",
      " $ Top10_12          : int 0\n",
      " $ FinalPoints12     : num 0\n",
      " $ Earnings12        : num 0\n"
     ]
    }
   ],
   "source": [
    "str(new_bull[4,])"
   ]
  },
  {
   "cell_type": "markdown",
   "metadata": {},
   "source": [
    "**His ride percentage was only about 33% (RidePer13), which wasn't high enough to place him in the Top 10.**"
   ]
  },
  {
   "cell_type": "markdown",
   "metadata": {},
   "source": [
    "There is a strong **positive** linear relationship between the number of 8-second rides a bull rider completed and the total number of times he made it in the Top 10 after the 2013 season, **(r = 0.917)**. The average number of rides for these bull riders was around **19**.There were no significant outliers. One rider appeared to have placed in the top-10 rankings only twice, despite an above-average number of rides. Upon closer inspection, we could see that he did not have **a very high \n",
    "ride percentage** which might account for his few appearances in the Top 10."
   ]
  },
  {
   "cell_type": "markdown",
   "metadata": {},
   "source": [
    "### In 2012, which variable had the strongest linear relationship with Earnings: "
   ]
  },
  {
   "cell_type": "markdown",
   "metadata": {},
   "source": [
    "Create a dataset which contains riders that participated in at least one event in 2012."
   ]
  },
  {
   "cell_type": "code",
   "execution_count": 21,
   "metadata": {},
   "outputs": [],
   "source": [
    "new_bull2 <- bull[bull$Events12  >= 1 ,]"
   ]
  },
  {
   "cell_type": "markdown",
   "metadata": {},
   "source": [
    "Make a histogram to visualize the distribution of Earnings for 2012."
   ]
  },
  {
   "cell_type": "code",
   "execution_count": 23,
   "metadata": {},
   "outputs": [
    {
     "data": {
      "image/png": "[encoded data removed]",
      "text/plain": [
       "Plot with title \"Histogram of new_bull2$Earnings12\""
      ]
     },
     "metadata": {
      "image/png": {
       "height": 420,
       "width": 420
      },
      "text/plain": {
       "height": 420,
       "width": 420
      }
     },
     "output_type": "display_data"
    }
   ],
   "source": [
    "hist(new_bull2$Earnings12)"
   ]
  },
  {
   "cell_type": "markdown",
   "metadata": {},
   "source": [
    "Generate the appropriate descriptive statistics for this distribution."
   ]
  },
  {
   "cell_type": "code",
   "execution_count": 24,
   "metadata": {},
   "outputs": [
    {
     "data": {
      "text/html": [
       "201370.848275862"
      ],
      "text/latex": [
       "201370.848275862"
      ],
      "text/markdown": [
       "201370.848275862"
      ],
      "text/plain": [
       "[1] 201370.8"
      ]
     },
     "metadata": {},
     "output_type": "display_data"
    },
    {
     "data": {
      "text/html": [
       "267178.129176043"
      ],
      "text/latex": [
       "267178.129176043"
      ],
      "text/markdown": [
       "267178.129176043"
      ],
      "text/plain": [
       "[1] 267178.1"
      ]
     },
     "metadata": {},
     "output_type": "display_data"
    },
    {
     "data": {
      "text/html": [
       "147952.34"
      ],
      "text/latex": [
       "147952.34"
      ],
      "text/markdown": [
       "147952.34"
      ],
      "text/plain": [
       "[1] 147952.3"
      ]
     },
     "metadata": {},
     "output_type": "display_data"
    },
    {
     "data": {
      "text/html": [
       "<style>\n",
       ".list-inline {list-style: none; margin:0; padding: 0}\n",
       ".list-inline>li {display: inline-block}\n",
       ".list-inline>li:not(:last-child)::after {content: \"\\00b7\"; padding: 0 .5ex}\n",
       "</style>\n",
       "<ol class=list-inline><li>21343.28</li><li>66814.33</li><li>147952.34</li><li>239935.66</li><li>1464475.61</li></ol>\n"
      ],
      "text/latex": [
       "\\begin{enumerate*}\n",
       "\\item 21343.28\n",
       "\\item 66814.33\n",
       "\\item 147952.34\n",
       "\\item 239935.66\n",
       "\\item 1464475.61\n",
       "\\end{enumerate*}\n"
      ],
      "text/markdown": [
       "1. 21343.28\n",
       "2. 66814.33\n",
       "3. 147952.34\n",
       "4. 239935.66\n",
       "5. 1464475.61\n",
       "\n",
       "\n"
      ],
      "text/plain": [
       "[1]   21343.28   66814.33  147952.34  239935.66 1464475.61"
      ]
     },
     "metadata": {},
     "output_type": "display_data"
    },
    {
     "data": {
      "text/html": [
       "1464475.61"
      ],
      "text/latex": [
       "1464475.61"
      ],
      "text/markdown": [
       "1464475.61"
      ],
      "text/plain": [
       "[1] 1464476"
      ]
     },
     "metadata": {},
     "output_type": "display_data"
    }
   ],
   "source": [
    "mean(new_bull2$Earnings12)\n",
    "sd(new_bull2$Earnings12)\n",
    "median(new_bull2$Earnings12)\n",
    "fivenum(new_bull2$Earnings12)\n",
    "max(new_bull2$Earnings12)"
   ]
  },
  {
   "cell_type": "markdown",
   "metadata": {},
   "source": [
    "Make a correlation matrix for Earnings12, RidePer12 and CupPoints12."
   ]
  },
  {
   "cell_type": "code",
   "execution_count": 27,
   "metadata": {},
   "outputs": [
    {
     "data": {
      "text/html": [
       "<table>\n",
       "<caption>A matrix: 3 × 3 of type dbl</caption>\n",
       "<thead>\n",
       "\t<tr><th></th><th scope=col>Earnings12</th><th scope=col>RidePer12</th><th scope=col>CupPoints12</th></tr>\n",
       "</thead>\n",
       "<tbody>\n",
       "\t<tr><th scope=row>Earnings12</th><td>1.0000000</td><td>0.5934110</td><td>0.6569363</td></tr>\n",
       "\t<tr><th scope=row>RidePer12</th><td>0.5934110</td><td>1.0000000</td><td>0.9183375</td></tr>\n",
       "\t<tr><th scope=row>CupPoints12</th><td>0.6569363</td><td>0.9183375</td><td>1.0000000</td></tr>\n",
       "</tbody>\n",
       "</table>\n"
      ],
      "text/latex": [
       "A matrix: 3 × 3 of type dbl\n",
       "\\begin{tabular}{r|lll}\n",
       "  & Earnings12 & RidePer12 & CupPoints12\\\\\n",
       "\\hline\n",
       "\tEarnings12 & 1.0000000 & 0.5934110 & 0.6569363\\\\\n",
       "\tRidePer12 & 0.5934110 & 1.0000000 & 0.9183375\\\\\n",
       "\tCupPoints12 & 0.6569363 & 0.9183375 & 1.0000000\\\\\n",
       "\\end{tabular}\n"
      ],
      "text/markdown": [
       "\n",
       "A matrix: 3 × 3 of type dbl\n",
       "\n",
       "| <!--/--> | Earnings12 | RidePer12 | CupPoints12 |\n",
       "|---|---|---|---|\n",
       "| Earnings12 | 1.0000000 | 0.5934110 | 0.6569363 |\n",
       "| RidePer12 | 0.5934110 | 1.0000000 | 0.9183375 |\n",
       "| CupPoints12 | 0.6569363 | 0.9183375 | 1.0000000 |\n",
       "\n"
      ],
      "text/plain": [
       "            Earnings12 RidePer12 CupPoints12\n",
       "Earnings12  1.0000000  0.5934110 0.6569363  \n",
       "RidePer12   0.5934110  1.0000000 0.9183375  \n",
       "CupPoints12 0.6569363  0.9183375 1.0000000  "
      ]
     },
     "metadata": {},
     "output_type": "display_data"
    }
   ],
   "source": [
    "vars <- c(\"Earnings12\", \"RidePer12\", \"CupPoints12\")\n",
    "cor(new_bull2[,vars])"
   ]
  },
  {
   "cell_type": "markdown",
   "metadata": {},
   "source": [
    "Plot a scatterplot for Earnings12 with each variable of interest.  Put Earnings12 on the y-axis. "
   ]
  },
  {
   "cell_type": "code",
   "execution_count": 28,
   "metadata": {},
   "outputs": [
    {
     "data": {
      "image/png": "[encoded data removed]",
      "text/plain": [
       "plot without title"
      ]
     },
     "metadata": {
      "image/png": {
       "height": 420,
       "width": 420
      },
      "text/plain": {
       "height": 420,
       "width": 420
      }
     },
     "output_type": "display_data"
    }
   ],
   "source": [
    "plot(new_bull2$RidePer12, new_bull2$Earnings12)"
   ]
  },
  {
   "cell_type": "code",
   "execution_count": 29,
   "metadata": {},
   "outputs": [
    {
     "data": {
      "image/png": "[encoded data removed]",
      "text/plain": [
       "plot without title"
      ]
     },
     "metadata": {
      "image/png": {
       "height": 420,
       "width": 420
      },
      "text/plain": {
       "height": 420,
       "width": 420
      }
     },
     "output_type": "display_data"
    }
   ],
   "source": [
    "plot(new_bull2$CupPoints12, new_bull$Earnings12)"
   ]
  },
  {
   "cell_type": "markdown",
   "metadata": {},
   "source": [
    "Identify specific case (Earnings12 == max(new_bull2$Earnings12))"
   ]
  },
  {
   "cell_type": "code",
   "execution_count": 30,
   "metadata": {},
   "outputs": [
    {
     "data": {
      "text/html": [
       "4"
      ],
      "text/latex": [
       "4"
      ],
      "text/markdown": [
       "4"
      ],
      "text/plain": [
       "[1] 4"
      ]
     },
     "metadata": {},
     "output_type": "display_data"
    },
    {
     "data": {
      "text/html": [
       "<table>\n",
       "<caption>A data.frame: 1 × 44</caption>\n",
       "<thead>\n",
       "\t<tr><th></th><th scope=col>Rider</th><th scope=col>Rank15</th><th scope=col>Country</th><th scope=col>YearBorn</th><th scope=col>Height</th><th scope=col>Weight</th><th scope=col>YearsPro</th><th scope=col>Events14</th><th scope=col>BuckOuts14</th><th scope=col>Rides14</th><th scope=col>⋯</th><th scope=col>BuckOuts12</th><th scope=col>Rides12</th><th scope=col>CupPoints12</th><th scope=col>Rank12</th><th scope=col>RidePer12</th><th scope=col>Wins12</th><th scope=col>Top5_12</th><th scope=col>Top10_12</th><th scope=col>FinalPoints12</th><th scope=col>Earnings12</th></tr>\n",
       "\t<tr><th></th><th scope=col>&lt;fct&gt;</th><th scope=col>&lt;int&gt;</th><th scope=col>&lt;fct&gt;</th><th scope=col>&lt;int&gt;</th><th scope=col>&lt;int&gt;</th><th scope=col>&lt;int&gt;</th><th scope=col>&lt;int&gt;</th><th scope=col>&lt;int&gt;</th><th scope=col>&lt;int&gt;</th><th scope=col>&lt;int&gt;</th><th scope=col>⋯</th><th scope=col>&lt;int&gt;</th><th scope=col>&lt;int&gt;</th><th scope=col>&lt;dbl&gt;</th><th scope=col>&lt;int&gt;</th><th scope=col>&lt;dbl&gt;</th><th scope=col>&lt;int&gt;</th><th scope=col>&lt;int&gt;</th><th scope=col>&lt;int&gt;</th><th scope=col>&lt;dbl&gt;</th><th scope=col>&lt;dbl&gt;</th></tr>\n",
       "</thead>\n",
       "<tbody>\n",
       "\t<tr><th scope=row>8</th><td>Silvano Alves</td><td>8</td><td>BRA</td><td>1987</td><td>67</td><td>150</td><td>7</td><td>28</td><td>92</td><td>50</td><td>⋯</td><td>103</td><td>62</td><td>12201.75</td><td>1</td><td>0.6</td><td>2</td><td>8</td><td>18</td><td>1648</td><td>1464476</td></tr>\n",
       "</tbody>\n",
       "</table>\n"
      ],
      "text/latex": [
       "A data.frame: 1 × 44\n",
       "\\begin{tabular}{r|lllllllllllllllllllll}\n",
       "  & Rider & Rank15 & Country & YearBorn & Height & Weight & YearsPro & Events14 & BuckOuts14 & Rides14 & ⋯ & BuckOuts12 & Rides12 & CupPoints12 & Rank12 & RidePer12 & Wins12 & Top5\\_12 & Top10\\_12 & FinalPoints12 & Earnings12\\\\\n",
       "  & <fct> & <int> & <fct> & <int> & <int> & <int> & <int> & <int> & <int> & <int> & ⋯ & <int> & <int> & <dbl> & <int> & <dbl> & <int> & <int> & <int> & <dbl> & <dbl>\\\\\n",
       "\\hline\n",
       "\t8 & Silvano Alves & 8 & BRA & 1987 & 67 & 150 & 7 & 28 & 92 & 50 & ⋯ & 103 & 62 & 12201.75 & 1 & 0.6 & 2 & 8 & 18 & 1648 & 1464476\\\\\n",
       "\\end{tabular}\n"
      ],
      "text/markdown": [
       "\n",
       "A data.frame: 1 × 44\n",
       "\n",
       "| <!--/--> | Rider &lt;fct&gt; | Rank15 &lt;int&gt; | Country &lt;fct&gt; | YearBorn &lt;int&gt; | Height &lt;int&gt; | Weight &lt;int&gt; | YearsPro &lt;int&gt; | Events14 &lt;int&gt; | BuckOuts14 &lt;int&gt; | Rides14 &lt;int&gt; | ⋯ ⋯ | BuckOuts12 &lt;int&gt; | Rides12 &lt;int&gt; | CupPoints12 &lt;dbl&gt; | Rank12 &lt;int&gt; | RidePer12 &lt;dbl&gt; | Wins12 &lt;int&gt; | Top5_12 &lt;int&gt; | Top10_12 &lt;int&gt; | FinalPoints12 &lt;dbl&gt; | Earnings12 &lt;dbl&gt; |\n",
       "|---|---|---|---|---|---|---|---|---|---|---|---|---|---|---|---|---|---|---|---|---|---|\n",
       "| 8 | Silvano Alves | 8 | BRA | 1987 | 67 | 150 | 7 | 28 | 92 | 50 | ⋯ | 103 | 62 | 12201.75 | 1 | 0.6 | 2 | 8 | 18 | 1648 | 1464476 |\n",
       "\n"
      ],
      "text/plain": [
       "  Rider         Rank15 Country YearBorn Height Weight YearsPro Events14\n",
       "8 Silvano Alves 8      BRA     1987     67     150    7        28      \n",
       "  BuckOuts14 Rides14 <U+22EF>        BuckOuts12 Rides12 CupPoints12 Rank12 RidePer12\n",
       "8 92         50      <U+22EF> 103        62      12201.75    1      0.6      \n",
       "  Wins12 Top5_12 Top10_12 FinalPoints12 Earnings12\n",
       "8 2      8       18       1648          1464476   "
      ]
     },
     "metadata": {},
     "output_type": "display_data"
    }
   ],
   "source": [
    "which(new_bull2$Earnings12 == max(new_bull2$Earnings12))\n",
    "new_bull2[4,]"
   ]
  },
  {
   "cell_type": "markdown",
   "metadata": {},
   "source": [
    "Subset the data"
   ]
  },
  {
   "cell_type": "code",
   "execution_count": 31,
   "metadata": {},
   "outputs": [],
   "source": [
    "nooutlier <- new_bull2[new_bull2$Earnings12 < 1000000 ,]"
   ]
  },
  {
   "cell_type": "markdown",
   "metadata": {},
   "source": [
    "Then rerun the correlation matrix and the scatterplots to see the difference. "
   ]
  },
  {
   "cell_type": "code",
   "execution_count": 33,
   "metadata": {},
   "outputs": [
    {
     "data": {
      "text/html": [
       "<table>\n",
       "<caption>A matrix: 3 × 3 of type dbl</caption>\n",
       "<thead>\n",
       "\t<tr><th></th><th scope=col>Earnings12</th><th scope=col>RidePer12</th><th scope=col>CupPoints12</th></tr>\n",
       "</thead>\n",
       "<tbody>\n",
       "\t<tr><th scope=row>Earnings12</th><td>1.0000000</td><td>0.5934110</td><td>0.6569363</td></tr>\n",
       "\t<tr><th scope=row>RidePer12</th><td>0.5934110</td><td>1.0000000</td><td>0.9183375</td></tr>\n",
       "\t<tr><th scope=row>CupPoints12</th><td>0.6569363</td><td>0.9183375</td><td>1.0000000</td></tr>\n",
       "</tbody>\n",
       "</table>\n"
      ],
      "text/latex": [
       "A matrix: 3 × 3 of type dbl\n",
       "\\begin{tabular}{r|lll}\n",
       "  & Earnings12 & RidePer12 & CupPoints12\\\\\n",
       "\\hline\n",
       "\tEarnings12 & 1.0000000 & 0.5934110 & 0.6569363\\\\\n",
       "\tRidePer12 & 0.5934110 & 1.0000000 & 0.9183375\\\\\n",
       "\tCupPoints12 & 0.6569363 & 0.9183375 & 1.0000000\\\\\n",
       "\\end{tabular}\n"
      ],
      "text/markdown": [
       "\n",
       "A matrix: 3 × 3 of type dbl\n",
       "\n",
       "| <!--/--> | Earnings12 | RidePer12 | CupPoints12 |\n",
       "|---|---|---|---|\n",
       "| Earnings12 | 1.0000000 | 0.5934110 | 0.6569363 |\n",
       "| RidePer12 | 0.5934110 | 1.0000000 | 0.9183375 |\n",
       "| CupPoints12 | 0.6569363 | 0.9183375 | 1.0000000 |\n",
       "\n"
      ],
      "text/plain": [
       "            Earnings12 RidePer12 CupPoints12\n",
       "Earnings12  1.0000000  0.5934110 0.6569363  \n",
       "RidePer12   0.5934110  1.0000000 0.9183375  \n",
       "CupPoints12 0.6569363  0.9183375 1.0000000  "
      ]
     },
     "metadata": {},
     "output_type": "display_data"
    }
   ],
   "source": [
    "vars <- c(\"Earnings12\", \"RidePer12\", \"CupPoints12\")\n",
    "cor(new_bull2[,vars])"
   ]
  },
  {
   "cell_type": "code",
   "execution_count": 32,
   "metadata": {},
   "outputs": [
    {
     "data": {
      "text/html": [
       "<table>\n",
       "<caption>A matrix: 3 × 3 of type dbl</caption>\n",
       "<thead>\n",
       "\t<tr><th></th><th scope=col>Earnings12</th><th scope=col>RidePer12</th><th scope=col>CupPoints12</th></tr>\n",
       "</thead>\n",
       "<tbody>\n",
       "\t<tr><th scope=row>Earnings12</th><td>1.0000000</td><td>0.8035574</td><td>0.8929208</td></tr>\n",
       "\t<tr><th scope=row>RidePer12</th><td>0.8035574</td><td>1.0000000</td><td>0.9097881</td></tr>\n",
       "\t<tr><th scope=row>CupPoints12</th><td>0.8929208</td><td>0.9097881</td><td>1.0000000</td></tr>\n",
       "</tbody>\n",
       "</table>\n"
      ],
      "text/latex": [
       "A matrix: 3 × 3 of type dbl\n",
       "\\begin{tabular}{r|lll}\n",
       "  & Earnings12 & RidePer12 & CupPoints12\\\\\n",
       "\\hline\n",
       "\tEarnings12 & 1.0000000 & 0.8035574 & 0.8929208\\\\\n",
       "\tRidePer12 & 0.8035574 & 1.0000000 & 0.9097881\\\\\n",
       "\tCupPoints12 & 0.8929208 & 0.9097881 & 1.0000000\\\\\n",
       "\\end{tabular}\n"
      ],
      "text/markdown": [
       "\n",
       "A matrix: 3 × 3 of type dbl\n",
       "\n",
       "| <!--/--> | Earnings12 | RidePer12 | CupPoints12 |\n",
       "|---|---|---|---|\n",
       "| Earnings12 | 1.0000000 | 0.8035574 | 0.8929208 |\n",
       "| RidePer12 | 0.8035574 | 1.0000000 | 0.9097881 |\n",
       "| CupPoints12 | 0.8929208 | 0.9097881 | 1.0000000 |\n",
       "\n"
      ],
      "text/plain": [
       "            Earnings12 RidePer12 CupPoints12\n",
       "Earnings12  1.0000000  0.8035574 0.8929208  \n",
       "RidePer12   0.8035574  1.0000000 0.9097881  \n",
       "CupPoints12 0.8929208  0.9097881 1.0000000  "
      ]
     },
     "metadata": {},
     "output_type": "display_data"
    }
   ],
   "source": [
    "vars <- c(\"Earnings12\", \"RidePer12\", \"CupPoints12\")\n",
    "cor(nooutlier[,vars])"
   ]
  },
  {
   "cell_type": "code",
   "execution_count": 36,
   "metadata": {},
   "outputs": [
    {
     "data": {
      "image/png": "[encoded data removed]",
      "text/plain": [
       "plot without title"
      ]
     },
     "metadata": {
      "image/png": {
       "height": 420,
       "width": 420
      },
      "text/plain": {
       "height": 420,
       "width": 420
      }
     },
     "output_type": "display_data"
    }
   ],
   "source": [
    "plot(nooutlier$RidePer12, nooutlier$Earnings12)\n",
    "abline(lm(nooutlier$Earnings12 ~ nooutlier$RidePer12), col=\"red\")"
   ]
  },
  {
   "cell_type": "code",
   "execution_count": 37,
   "metadata": {},
   "outputs": [
    {
     "data": {
      "image/png": "[encoded data removed]",
      "text/plain": [
       "plot without title"
      ]
     },
     "metadata": {
      "image/png": {
       "height": 420,
       "width": 420
      },
      "text/plain": {
       "height": 420,
       "width": 420
      }
     },
     "output_type": "display_data"
    }
   ],
   "source": [
    "plot(nooutlier$CupPoints12, nooutlier$Earnings12)\n",
    "abline(lm(nooutlier$Earnings12 ~ nooutlier$CupPoints12), col=\"blue\")"
   ]
  },
  {
   "cell_type": "markdown",
   "metadata": {},
   "source": [
    "An initial examination of the relationships between Ride Percentage (RidePer) and Earnings, and Cup Points (CupPoints) and Earnings showed that Cup Points had the **weaker** relationship to Earnings. Ride Percentage and Earnings showed a correlation value of **0.593** while Cup Points and Earnings had a correlation value of **0.657**. Visual examination showed an \n",
    "**outlier** in both relationships—a rider who has earned over 1 million dollars. Removal of this increased the initial relationship: Ride Percentage and Earnings now had a correlation value of **0.804** and Cup Points and Earnings had a correlation value of **0.893**. **Cup Points** still had the higher relationship to Earnings. Visual examination showed **a \n",
    "good linear relationship** for both Ride Percentage and Cup Points, indicating the correct use of the correlation coefficient."
   ]
  },
  {
   "cell_type": "markdown",
   "metadata": {},
   "source": [
    "### During a professional bull-riding event, riders usually attempt to ride a bull three or more times.  This means that they can record a \"ride\" (successfully staying on the bull) multiple times in the same event."
   ]
  },
  {
   "cell_type": "markdown",
   "metadata": {},
   "source": [
    "Subset the dataset for riders that had at least 1 ride in the 2014 season. Call this dataset new_bull14."
   ]
  },
  {
   "cell_type": "code",
   "execution_count": 38,
   "metadata": {},
   "outputs": [
    {
     "data": {
      "text/html": [
       "<table>\n",
       "<caption>A data.frame: 52 × 44</caption>\n",
       "<thead>\n",
       "\t<tr><th></th><th scope=col>Rider</th><th scope=col>Rank15</th><th scope=col>Country</th><th scope=col>YearBorn</th><th scope=col>Height</th><th scope=col>Weight</th><th scope=col>YearsPro</th><th scope=col>Events14</th><th scope=col>BuckOuts14</th><th scope=col>Rides14</th><th scope=col>⋯</th><th scope=col>BuckOuts12</th><th scope=col>Rides12</th><th scope=col>CupPoints12</th><th scope=col>Rank12</th><th scope=col>RidePer12</th><th scope=col>Wins12</th><th scope=col>Top5_12</th><th scope=col>Top10_12</th><th scope=col>FinalPoints12</th><th scope=col>Earnings12</th></tr>\n",
       "\t<tr><th></th><th scope=col>&lt;fct&gt;</th><th scope=col>&lt;int&gt;</th><th scope=col>&lt;fct&gt;</th><th scope=col>&lt;int&gt;</th><th scope=col>&lt;int&gt;</th><th scope=col>&lt;int&gt;</th><th scope=col>&lt;int&gt;</th><th scope=col>&lt;int&gt;</th><th scope=col>&lt;int&gt;</th><th scope=col>&lt;int&gt;</th><th scope=col>⋯</th><th scope=col>&lt;int&gt;</th><th scope=col>&lt;int&gt;</th><th scope=col>&lt;dbl&gt;</th><th scope=col>&lt;int&gt;</th><th scope=col>&lt;dbl&gt;</th><th scope=col>&lt;int&gt;</th><th scope=col>&lt;int&gt;</th><th scope=col>&lt;int&gt;</th><th scope=col>&lt;dbl&gt;</th><th scope=col>&lt;dbl&gt;</th></tr>\n",
       "</thead>\n",
       "<tbody>\n",
       "\t<tr><th scope=row>1</th><td>Joao Ricardo Vieira </td><td>  1</td><td>BRA</td><td>1984</td><td>66</td><td>163</td><td> 3</td><td>28</td><td>93</td><td>41</td><td>⋯</td><td>  0</td><td> 0</td><td>    0.00</td><td> 0</td><td>0.00</td><td>0</td><td> 0</td><td> 0</td><td>   0.00</td><td>      0.00</td></tr>\n",
       "\t<tr><th scope=row>2</th><td>Matt Triplett       </td><td>  2</td><td>USA</td><td>1991</td><td>67</td><td>160</td><td> 4</td><td>28</td><td>86</td><td>33</td><td>⋯</td><td>  0</td><td> 0</td><td>    0.00</td><td> 0</td><td>0.00</td><td>0</td><td> 0</td><td> 0</td><td>   0.00</td><td>      0.00</td></tr>\n",
       "\t<tr><th scope=row>3</th><td>J.B. Mauney         </td><td>  3</td><td>USA</td><td>1987</td><td>70</td><td>140</td><td>10</td><td>22</td><td>63</td><td>25</td><td>⋯</td><td> 82</td><td>40</td><td> 9273.25</td><td> 8</td><td>0.49</td><td>3</td><td> 8</td><td>13</td><td> 287.00</td><td> 313340.27</td></tr>\n",
       "\t<tr><th scope=row>5</th><td>Nathan Schaper      </td><td>  5</td><td>USA</td><td>1990</td><td>73</td><td>160</td><td> 6</td><td>15</td><td>41</td><td>17</td><td>⋯</td><td>  0</td><td> 0</td><td>    0.00</td><td> 0</td><td>0.00</td><td>0</td><td> 0</td><td> 0</td><td>   0.00</td><td>      0.00</td></tr>\n",
       "\t<tr><th scope=row>6</th><td>Valdiron de Oliveira</td><td>  6</td><td>BRA</td><td>1979</td><td>72</td><td>170</td><td> 9</td><td>28</td><td>81</td><td>29</td><td>⋯</td><td> 87</td><td>53</td><td>10608.25</td><td> 4</td><td>0.61</td><td>1</td><td>10</td><td>14</td><td> 559.50</td><td> 208724.52</td></tr>\n",
       "\t<tr><th scope=row>7</th><td>Guilherme Marchi    </td><td>  7</td><td>BRA</td><td>1982</td><td>70</td><td>180</td><td>16</td><td>28</td><td>90</td><td>41</td><td>⋯</td><td> 87</td><td>50</td><td>11542.00</td><td> 2</td><td>0.57</td><td>2</td><td> 9</td><td>12</td><td>2519.75</td><td> 331421.67</td></tr>\n",
       "\t<tr><th scope=row>8</th><td>Silvano Alves       </td><td>  8</td><td>BRA</td><td>1987</td><td>67</td><td>150</td><td> 7</td><td>28</td><td>92</td><td>50</td><td>⋯</td><td>103</td><td>62</td><td>12201.75</td><td> 1</td><td>0.60</td><td>2</td><td> 8</td><td>18</td><td>1648.00</td><td>1464475.61</td></tr>\n",
       "\t<tr><th scope=row>9</th><td>Reese Cates         </td><td>  9</td><td>USA</td><td>1989</td><td>68</td><td>135</td><td> 9</td><td>12</td><td>30</td><td> 8</td><td>⋯</td><td> 10</td><td> 3</td><td>  428.50</td><td>53</td><td>0.30</td><td>0</td><td> 0</td><td> 1</td><td>   0.00</td><td>  27987.21</td></tr>\n",
       "\t<tr><th scope=row>10</th><td>J.W. Harris         </td><td> 10</td><td>USA</td><td>1986</td><td>70</td><td>160</td><td>10</td><td>14</td><td>37</td><td>16</td><td>⋯</td><td>  0</td><td> 0</td><td>    0.00</td><td> 0</td><td>0.00</td><td>0</td><td> 0</td><td> 0</td><td>   0.00</td><td>      0.00</td></tr>\n",
       "\t<tr><th scope=row>11</th><td>Stetson Lawrence    </td><td> 11</td><td>USA</td><td>1988</td><td>70</td><td>155</td><td> 8</td><td>12</td><td>33</td><td> 9</td><td>⋯</td><td>  0</td><td> 0</td><td>    0.00</td><td> 0</td><td>0.00</td><td>0</td><td> 0</td><td> 0</td><td>   0.00</td><td>      0.00</td></tr>\n",
       "\t<tr><th scope=row>12</th><td>Mike Lee            </td><td> 12</td><td>USA</td><td>1983</td><td>68</td><td>140</td><td>14</td><td>26</td><td>77</td><td>32</td><td>⋯</td><td> 64</td><td>33</td><td> 6088.00</td><td>13</td><td>0.52</td><td>1</td><td> 5</td><td> 7</td><td>1011.75</td><td> 147952.34</td></tr>\n",
       "\t<tr><th scope=row>13</th><td>Fabiano Vieira      </td><td> 13</td><td>BRA</td><td>1982</td><td>68</td><td>175</td><td> 9</td><td>26</td><td>77</td><td>42</td><td>⋯</td><td> 70</td><td>38</td><td> 7677.25</td><td>10</td><td>0.54</td><td>2</td><td> 5</td><td>11</td><td> 171.75</td><td> 191399.08</td></tr>\n",
       "\t<tr><th scope=row>14</th><td>Cody Nance          </td><td> 14</td><td>USA</td><td>1987</td><td>68</td><td>162</td><td> 9</td><td>28</td><td>84</td><td>30</td><td>⋯</td><td> 76</td><td>29</td><td> 5068.25</td><td>16</td><td>0.38</td><td>1</td><td> 4</td><td> 7</td><td> 322.00</td><td> 131580.54</td></tr>\n",
       "\t<tr><th scope=row>15</th><td>Ben Jones           </td><td> 15</td><td>AUS</td><td>1979</td><td>71</td><td>163</td><td>17</td><td>11</td><td>23</td><td> 5</td><td>⋯</td><td> 58</td><td>26</td><td> 4840.75</td><td>18</td><td>0.45</td><td>0</td><td> 5</td><td> 7</td><td>   0.00</td><td> 115844.10</td></tr>\n",
       "\t<tr><th scope=row>16</th><td>Cooper Davis        </td><td> 16</td><td>USA</td><td>1994</td><td>69</td><td>150</td><td> 3</td><td> 2</td><td> 6</td><td> 2</td><td>⋯</td><td>  0</td><td> 0</td><td>    0.00</td><td> 0</td><td>0.00</td><td>0</td><td> 0</td><td> 0</td><td>   0.00</td><td>      0.00</td></tr>\n",
       "\t<tr><th scope=row>17</th><td>Tanner Byrne        </td><td> 17</td><td>CAN</td><td>1992</td><td>76</td><td>160</td><td> 4</td><td>15</td><td>42</td><td>21</td><td>⋯</td><td>  0</td><td> 0</td><td>    0.00</td><td> 0</td><td>0.00</td><td>0</td><td> 0</td><td> 0</td><td>   0.00</td><td>      0.00</td></tr>\n",
       "\t<tr><th scope=row>18</th><td>Shane Proctor       </td><td> 19</td><td>USA</td><td>1985</td><td>68</td><td>165</td><td>10</td><td> 1</td><td> 3</td><td> 1</td><td>⋯</td><td> 32</td><td> 8</td><td> 1387.50</td><td>35</td><td>0.25</td><td>0</td><td> 0</td><td> 3</td><td>   0.00</td><td>  52443.96</td></tr>\n",
       "\t<tr><th scope=row>19</th><td>Renato Nunes        </td><td> 20</td><td>BRA</td><td>1981</td><td>67</td><td>135</td><td>11</td><td>26</td><td>75</td><td>25</td><td>⋯</td><td> 91</td><td>38</td><td> 9859.75</td><td> 6</td><td>0.42</td><td>1</td><td> 5</td><td>12</td><td>3298.50</td><td> 254709.57</td></tr>\n",
       "\t<tr><th scope=row>20</th><td>Mason Lowe          </td><td> 21</td><td>USA</td><td>1993</td><td>71</td><td>155</td><td> 3</td><td> 2</td><td> 4</td><td> 1</td><td>⋯</td><td>  0</td><td> 0</td><td>    0.00</td><td> 0</td><td>0.00</td><td>0</td><td> 0</td><td> 0</td><td>   0.00</td><td>      0.00</td></tr>\n",
       "\t<tr><th scope=row>21</th><td>Gage Gay            </td><td> 22</td><td>USA</td><td>1994</td><td>66</td><td>145</td><td> 3</td><td>24</td><td>75</td><td>25</td><td>⋯</td><td>  0</td><td> 0</td><td>    0.00</td><td> 0</td><td>0.00</td><td>0</td><td> 0</td><td> 0</td><td>   0.00</td><td>      0.00</td></tr>\n",
       "\t<tr><th scope=row>22</th><td>Chase Outlaw        </td><td> 23</td><td>USA</td><td>1992</td><td>65</td><td>150</td><td> 4</td><td>23</td><td>66</td><td>19</td><td>⋯</td><td> 64</td><td>21</td><td> 4186.50</td><td>21</td><td>0.33</td><td>1</td><td> 3</td><td> 8</td><td>   0.00</td><td> 170203.48</td></tr>\n",
       "\t<tr><th scope=row>23</th><td>Kasey Hayes         </td><td> 24</td><td>USA</td><td>1985</td><td>69</td><td>140</td><td>11</td><td>22</td><td>63</td><td>22</td><td>⋯</td><td> 26</td><td> 7</td><td>  914.25</td><td>40</td><td>0.27</td><td>0</td><td> 0</td><td> 1</td><td>   0.00</td><td>  29116.33</td></tr>\n",
       "\t<tr><th scope=row>24</th><td>L.J. Jenkins        </td><td> 25</td><td>USA</td><td>1987</td><td>70</td><td>140</td><td>10</td><td>27</td><td>83</td><td>32</td><td>⋯</td><td> 93</td><td>49</td><td>10621.25</td><td> 3</td><td>0.53</td><td>1</td><td>10</td><td>13</td><td>1212.75</td><td> 239935.66</td></tr>\n",
       "\t<tr><th scope=row>25</th><td>Eduardo Aparecido   </td><td> 27</td><td>BRA</td><td>1990</td><td>68</td><td>160</td><td> 4</td><td>27</td><td>78</td><td>37</td><td>⋯</td><td>  0</td><td> 0</td><td>    0.00</td><td> 0</td><td>0.00</td><td>0</td><td> 0</td><td> 0</td><td>   0.00</td><td>      0.00</td></tr>\n",
       "\t<tr><th scope=row>26</th><td>Stormy Wing         </td><td> 28</td><td>USA</td><td>1989</td><td>66</td><td>145</td><td> 6</td><td>25</td><td>70</td><td>21</td><td>⋯</td><td> 80</td><td>28</td><td> 5062.50</td><td>17</td><td>0.35</td><td>0</td><td> 5</td><td> 7</td><td>  83.25</td><td>  93296.23</td></tr>\n",
       "\t<tr><th scope=row>27</th><td>Ryan Dirteater      </td><td> 30</td><td>USA</td><td>1989</td><td>69</td><td>155</td><td>10</td><td>25</td><td>72</td><td>25</td><td>⋯</td><td>  0</td><td> 0</td><td>    0.00</td><td> 0</td><td>0.00</td><td>0</td><td> 0</td><td> 0</td><td>   0.00</td><td>      0.00</td></tr>\n",
       "\t<tr><th scope=row>28</th><td>Bonner Bolton       </td><td> 31</td><td>USA</td><td>1987</td><td>71</td><td>175</td><td> 9</td><td> 1</td><td> 3</td><td> 2</td><td>⋯</td><td>  0</td><td> 0</td><td>    0.00</td><td> 0</td><td>0.00</td><td>0</td><td> 0</td><td> 0</td><td>   0.00</td><td>      0.00</td></tr>\n",
       "\t<tr><th scope=row>29</th><td>Dave Mason          </td><td> 32</td><td>AUS</td><td>1987</td><td>68</td><td>154</td><td> 7</td><td> 5</td><td>10</td><td> 1</td><td>⋯</td><td>  0</td><td> 0</td><td>    0.00</td><td> 0</td><td>0.00</td><td>0</td><td> 0</td><td> 0</td><td>   0.00</td><td>      0.00</td></tr>\n",
       "\t<tr><th scope=row>30</th><td>Brady Sims          </td><td> 33</td><td>USA</td><td>1993</td><td>69</td><td>160</td><td> 3</td><td>20</td><td>58</td><td>19</td><td>⋯</td><td>  0</td><td> 0</td><td>    0.00</td><td> 0</td><td>0.00</td><td>0</td><td> 0</td><td> 0</td><td>   0.00</td><td>      0.00</td></tr>\n",
       "\t<tr><th scope=row>31</th><td>Douglas Duncan      </td><td> 35</td><td>USA</td><td>1987</td><td>68</td><td>155</td><td>10</td><td>26</td><td>63</td><td>17</td><td>⋯</td><td> 62</td><td>18</td><td> 3842.50</td><td>23</td><td>0.29</td><td>0</td><td> 2</td><td> 7</td><td> 111.25</td><td>  90687.00</td></tr>\n",
       "\t<tr><th scope=row>32</th><td>Neil Holmes         </td><td> 36</td><td>USA</td><td>1985</td><td>68</td><td>145</td><td> 7</td><td> 4</td><td>11</td><td> 6</td><td>⋯</td><td>  0</td><td> 0</td><td>    0.00</td><td> 0</td><td>0.00</td><td>0</td><td> 0</td><td> 0</td><td>   0.00</td><td>      0.00</td></tr>\n",
       "\t<tr><th scope=row>33</th><td>Tyler Harr          </td><td> 39</td><td>USA</td><td>1990</td><td>70</td><td>165</td><td> 7</td><td> 5</td><td>12</td><td> 1</td><td>⋯</td><td>  0</td><td> 0</td><td>    0.00</td><td> 0</td><td>0.00</td><td>0</td><td> 0</td><td> 0</td><td>   0.00</td><td>      0.00</td></tr>\n",
       "\t<tr><th scope=row>34</th><td>Robson Palermo      </td><td> 40</td><td>BRA</td><td>1983</td><td>66</td><td>120</td><td>10</td><td>14</td><td>38</td><td>14</td><td>⋯</td><td> 57</td><td>30</td><td> 9681.25</td><td> 7</td><td>0.53</td><td>2</td><td> 5</td><td> 8</td><td>4189.25</td><td> 466599.60</td></tr>\n",
       "\t<tr><th scope=row>35</th><td>Luis Blanco         </td><td> 41</td><td>BRA</td><td>1986</td><td>68</td><td>175</td><td> 5</td><td> 4</td><td> 9</td><td> 1</td><td>⋯</td><td>  0</td><td> 0</td><td>    0.00</td><td> 0</td><td>0.00</td><td>0</td><td> 0</td><td> 0</td><td>   0.00</td><td>      0.00</td></tr>\n",
       "\t<tr><th scope=row>36</th><td>Lachlan Richardson  </td><td> 44</td><td>AUS</td><td>1992</td><td>69</td><td>141</td><td> 4</td><td>24</td><td>62</td><td>11</td><td>⋯</td><td> 37</td><td> 7</td><td> 1408.75</td><td>34</td><td>0.19</td><td>1</td><td> 1</td><td> 2</td><td>   0.00</td><td>  90044.06</td></tr>\n",
       "\t<tr><th scope=row>37</th><td>Claudio Crisostomo  </td><td> 46</td><td>BRA</td><td>1985</td><td>71</td><td>160</td><td> 7</td><td>22</td><td>59</td><td>22</td><td>⋯</td><td>  0</td><td> 0</td><td>    0.00</td><td> 0</td><td>0.00</td><td>0</td><td> 0</td><td> 0</td><td>   0.00</td><td>      0.00</td></tr>\n",
       "\t<tr><th scope=row>38</th><td>Sean Willingham     </td><td> 47</td><td>USA</td><td>1981</td><td>70</td><td>140</td><td>16</td><td>21</td><td>60</td><td>22</td><td>⋯</td><td> 25</td><td> 5</td><td>  793.75</td><td>43</td><td>0.20</td><td>0</td><td> 0</td><td> 2</td><td>   0.00</td><td>  21343.28</td></tr>\n",
       "\t<tr><th scope=row>40</th><td>Jay Miller          </td><td> 52</td><td>USA</td><td>1992</td><td>66</td><td>165</td><td> 1</td><td> 4</td><td> 7</td><td> 1</td><td>⋯</td><td>  0</td><td> 0</td><td>    0.00</td><td> 0</td><td>0.00</td><td>0</td><td> 0</td><td> 0</td><td>   0.00</td><td>      0.00</td></tr>\n",
       "\t<tr><th scope=row>41</th><td>Marco Eguchi        </td><td> 53</td><td>BRA</td><td>1989</td><td>67</td><td>135</td><td> 7</td><td>27</td><td>72</td><td>26</td><td>⋯</td><td> 84</td><td>39</td><td> 7699.25</td><td> 9</td><td>0.46</td><td>1</td><td> 9</td><td>11</td><td> 571.00</td><td> 226255.50</td></tr>\n",
       "\t<tr><th scope=row>42</th><td>Austin Meier        </td><td> 55</td><td>USA</td><td>1987</td><td>71</td><td>165</td><td>10</td><td>12</td><td>28</td><td> 6</td><td>⋯</td><td> 91</td><td>49</td><td>10249.75</td><td> 5</td><td>0.54</td><td>2</td><td> 8</td><td>12</td><td>1773.25</td><td> 311728.81</td></tr>\n",
       "\t<tr><th scope=row>43</th><td>Jordan Hupp         </td><td> 58</td><td>USA</td><td>1985</td><td>60</td><td>188</td><td>10</td><td>20</td><td>56</td><td>16</td><td>⋯</td><td> 61</td><td>23</td><td> 3031.50</td><td>27</td><td>0.38</td><td>1</td><td> 1</td><td> 5</td><td>   0.00</td><td>  66814.33</td></tr>\n",
       "\t<tr><th scope=row>44</th><td>Dakota Louis        </td><td> 62</td><td>USA</td><td>1992</td><td>72</td><td>160</td><td> 4</td><td> 1</td><td> 3</td><td> 1</td><td>⋯</td><td>  0</td><td> 0</td><td>    0.00</td><td> 0</td><td>0.00</td><td>0</td><td> 0</td><td> 0</td><td>   0.00</td><td>      0.00</td></tr>\n",
       "\t<tr><th scope=row>45</th><td>David Kennedy       </td><td> 66</td><td>AUS</td><td>1984</td><td>69</td><td>176</td><td> 7</td><td> 1</td><td> 2</td><td> 1</td><td>⋯</td><td>  0</td><td> 0</td><td>    0.00</td><td> 0</td><td>0.00</td><td>0</td><td> 0</td><td> 0</td><td>   0.00</td><td>      0.00</td></tr>\n",
       "\t<tr><th scope=row>46</th><td>Billy Robinson      </td><td> 66</td><td>USA</td><td>1979</td><td>68</td><td>150</td><td>17</td><td>24</td><td>61</td><td>16</td><td>⋯</td><td> 38</td><td> 9</td><td> 1217.50</td><td>38</td><td>0.24</td><td>0</td><td> 0</td><td> 2</td><td>   0.00</td><td>  55617.33</td></tr>\n",
       "\t<tr><th scope=row>49</th><td>Budd Williamson     </td><td> 77</td><td>AUS</td><td>1986</td><td>72</td><td>155</td><td> 9</td><td> 2</td><td> 4</td><td> 1</td><td>⋯</td><td>  0</td><td> 0</td><td>    0.00</td><td> 0</td><td>0.00</td><td>0</td><td> 0</td><td> 0</td><td>   0.00</td><td>      0.00</td></tr>\n",
       "\t<tr><th scope=row>50</th><td>Josh Faircloth      </td><td> 77</td><td>USA</td><td>1989</td><td>70</td><td>140</td><td> 8</td><td> 9</td><td>26</td><td> 8</td><td>⋯</td><td>  0</td><td> 0</td><td>    0.00</td><td> 0</td><td>0.00</td><td>0</td><td> 0</td><td> 0</td><td>   0.00</td><td>      0.00</td></tr>\n",
       "\t<tr><th scope=row>53</th><td>Harve Stewart       </td><td>104</td><td>USA</td><td>1987</td><td>69</td><td>150</td><td> 9</td><td>19</td><td>47</td><td>11</td><td>⋯</td><td> 81</td><td>28</td><td> 5523.00</td><td>15</td><td>0.35</td><td>1</td><td> 4</td><td> 6</td><td> 186.50</td><td> 150975.16</td></tr>\n",
       "\t<tr><th scope=row>54</th><td>Brant Atwood        </td><td>116</td><td>USA</td><td>1987</td><td>67</td><td>140</td><td>10</td><td> 8</td><td>20</td><td> 2</td><td>⋯</td><td>  4</td><td> 1</td><td>  261.75</td><td>65</td><td>0.25</td><td>0</td><td> 0</td><td> 1</td><td>   0.00</td><td>  22059.59</td></tr>\n",
       "\t<tr><th scope=row>55</th><td>Ty Pozzobon         </td><td>148</td><td>CAN</td><td>1991</td><td>69</td><td>135</td><td> 6</td><td>22</td><td>54</td><td>16</td><td>⋯</td><td> 78</td><td>28</td><td> 4683.25</td><td>20</td><td>0.36</td><td>0</td><td> 2</td><td> 9</td><td> 424.00</td><td> 106451.16</td></tr>\n",
       "\t<tr><th scope=row>56</th><td>Kody Lostroh        </td><td>279</td><td>USA</td><td>1985</td><td>66</td><td>155</td><td>11</td><td>16</td><td>42</td><td>15</td><td>⋯</td><td> 61</td><td>23</td><td> 4700.00</td><td>19</td><td>0.38</td><td>1</td><td> 3</td><td> 8</td><td> 525.00</td><td> 158470.75</td></tr>\n",
       "\t<tr><th scope=row>57</th><td>Markus Mariluch     </td><td>279</td><td>USA</td><td>1985</td><td>68</td><td>155</td><td>11</td><td>21</td><td>60</td><td>24</td><td>⋯</td><td> 20</td><td> 5</td><td>  554.25</td><td>49</td><td>0.25</td><td>0</td><td> 0</td><td> 0</td><td>   0.00</td><td>  28806.83</td></tr>\n",
       "\t<tr><th scope=row>58</th><td>Emilio Resende      </td><td>279</td><td>BRA</td><td>1987</td><td>67</td><td>150</td><td> 7</td><td>26</td><td>75</td><td>27</td><td>⋯</td><td> 45</td><td>24</td><td> 6911.25</td><td>12</td><td>0.53</td><td>0</td><td> 3</td><td> 5</td><td>3414.25</td><td> 271470.63</td></tr>\n",
       "</tbody>\n",
       "</table>\n"
      ],
      "text/latex": [
       "A data.frame: 52 × 44\n",
       "\\begin{tabular}{r|lllllllllllllllllllll}\n",
       "  & Rider & Rank15 & Country & YearBorn & Height & Weight & YearsPro & Events14 & BuckOuts14 & Rides14 & ⋯ & BuckOuts12 & Rides12 & CupPoints12 & Rank12 & RidePer12 & Wins12 & Top5\\_12 & Top10\\_12 & FinalPoints12 & Earnings12\\\\\n",
       "  & <fct> & <int> & <fct> & <int> & <int> & <int> & <int> & <int> & <int> & <int> & ⋯ & <int> & <int> & <dbl> & <int> & <dbl> & <int> & <int> & <int> & <dbl> & <dbl>\\\\\n",
       "\\hline\n",
       "\t1 & Joao Ricardo Vieira  &   1 & BRA & 1984 & 66 & 163 &  3 & 28 & 93 & 41 & ⋯ &   0 &  0 &     0.00 &  0 & 0.00 & 0 &  0 &  0 &    0.00 &       0.00\\\\\n",
       "\t2 & Matt Triplett        &   2 & USA & 1991 & 67 & 160 &  4 & 28 & 86 & 33 & ⋯ &   0 &  0 &     0.00 &  0 & 0.00 & 0 &  0 &  0 &    0.00 &       0.00\\\\\n",
       "\t3 & J.B. Mauney          &   3 & USA & 1987 & 70 & 140 & 10 & 22 & 63 & 25 & ⋯ &  82 & 40 &  9273.25 &  8 & 0.49 & 3 &  8 & 13 &  287.00 &  313340.27\\\\\n",
       "\t5 & Nathan Schaper       &   5 & USA & 1990 & 73 & 160 &  6 & 15 & 41 & 17 & ⋯ &   0 &  0 &     0.00 &  0 & 0.00 & 0 &  0 &  0 &    0.00 &       0.00\\\\\n",
       "\t6 & Valdiron de Oliveira &   6 & BRA & 1979 & 72 & 170 &  9 & 28 & 81 & 29 & ⋯ &  87 & 53 & 10608.25 &  4 & 0.61 & 1 & 10 & 14 &  559.50 &  208724.52\\\\\n",
       "\t7 & Guilherme Marchi     &   7 & BRA & 1982 & 70 & 180 & 16 & 28 & 90 & 41 & ⋯ &  87 & 50 & 11542.00 &  2 & 0.57 & 2 &  9 & 12 & 2519.75 &  331421.67\\\\\n",
       "\t8 & Silvano Alves        &   8 & BRA & 1987 & 67 & 150 &  7 & 28 & 92 & 50 & ⋯ & 103 & 62 & 12201.75 &  1 & 0.60 & 2 &  8 & 18 & 1648.00 & 1464475.61\\\\\n",
       "\t9 & Reese Cates          &   9 & USA & 1989 & 68 & 135 &  9 & 12 & 30 &  8 & ⋯ &  10 &  3 &   428.50 & 53 & 0.30 & 0 &  0 &  1 &    0.00 &   27987.21\\\\\n",
       "\t10 & J.W. Harris          &  10 & USA & 1986 & 70 & 160 & 10 & 14 & 37 & 16 & ⋯ &   0 &  0 &     0.00 &  0 & 0.00 & 0 &  0 &  0 &    0.00 &       0.00\\\\\n",
       "\t11 & Stetson Lawrence     &  11 & USA & 1988 & 70 & 155 &  8 & 12 & 33 &  9 & ⋯ &   0 &  0 &     0.00 &  0 & 0.00 & 0 &  0 &  0 &    0.00 &       0.00\\\\\n",
       "\t12 & Mike Lee             &  12 & USA & 1983 & 68 & 140 & 14 & 26 & 77 & 32 & ⋯ &  64 & 33 &  6088.00 & 13 & 0.52 & 1 &  5 &  7 & 1011.75 &  147952.34\\\\\n",
       "\t13 & Fabiano Vieira       &  13 & BRA & 1982 & 68 & 175 &  9 & 26 & 77 & 42 & ⋯ &  70 & 38 &  7677.25 & 10 & 0.54 & 2 &  5 & 11 &  171.75 &  191399.08\\\\\n",
       "\t14 & Cody Nance           &  14 & USA & 1987 & 68 & 162 &  9 & 28 & 84 & 30 & ⋯ &  76 & 29 &  5068.25 & 16 & 0.38 & 1 &  4 &  7 &  322.00 &  131580.54\\\\\n",
       "\t15 & Ben Jones            &  15 & AUS & 1979 & 71 & 163 & 17 & 11 & 23 &  5 & ⋯ &  58 & 26 &  4840.75 & 18 & 0.45 & 0 &  5 &  7 &    0.00 &  115844.10\\\\\n",
       "\t16 & Cooper Davis         &  16 & USA & 1994 & 69 & 150 &  3 &  2 &  6 &  2 & ⋯ &   0 &  0 &     0.00 &  0 & 0.00 & 0 &  0 &  0 &    0.00 &       0.00\\\\\n",
       "\t17 & Tanner Byrne         &  17 & CAN & 1992 & 76 & 160 &  4 & 15 & 42 & 21 & ⋯ &   0 &  0 &     0.00 &  0 & 0.00 & 0 &  0 &  0 &    0.00 &       0.00\\\\\n",
       "\t18 & Shane Proctor        &  19 & USA & 1985 & 68 & 165 & 10 &  1 &  3 &  1 & ⋯ &  32 &  8 &  1387.50 & 35 & 0.25 & 0 &  0 &  3 &    0.00 &   52443.96\\\\\n",
       "\t19 & Renato Nunes         &  20 & BRA & 1981 & 67 & 135 & 11 & 26 & 75 & 25 & ⋯ &  91 & 38 &  9859.75 &  6 & 0.42 & 1 &  5 & 12 & 3298.50 &  254709.57\\\\\n",
       "\t20 & Mason Lowe           &  21 & USA & 1993 & 71 & 155 &  3 &  2 &  4 &  1 & ⋯ &   0 &  0 &     0.00 &  0 & 0.00 & 0 &  0 &  0 &    0.00 &       0.00\\\\\n",
       "\t21 & Gage Gay             &  22 & USA & 1994 & 66 & 145 &  3 & 24 & 75 & 25 & ⋯ &   0 &  0 &     0.00 &  0 & 0.00 & 0 &  0 &  0 &    0.00 &       0.00\\\\\n",
       "\t22 & Chase Outlaw         &  23 & USA & 1992 & 65 & 150 &  4 & 23 & 66 & 19 & ⋯ &  64 & 21 &  4186.50 & 21 & 0.33 & 1 &  3 &  8 &    0.00 &  170203.48\\\\\n",
       "\t23 & Kasey Hayes          &  24 & USA & 1985 & 69 & 140 & 11 & 22 & 63 & 22 & ⋯ &  26 &  7 &   914.25 & 40 & 0.27 & 0 &  0 &  1 &    0.00 &   29116.33\\\\\n",
       "\t24 & L.J. Jenkins         &  25 & USA & 1987 & 70 & 140 & 10 & 27 & 83 & 32 & ⋯ &  93 & 49 & 10621.25 &  3 & 0.53 & 1 & 10 & 13 & 1212.75 &  239935.66\\\\\n",
       "\t25 & Eduardo Aparecido    &  27 & BRA & 1990 & 68 & 160 &  4 & 27 & 78 & 37 & ⋯ &   0 &  0 &     0.00 &  0 & 0.00 & 0 &  0 &  0 &    0.00 &       0.00\\\\\n",
       "\t26 & Stormy Wing          &  28 & USA & 1989 & 66 & 145 &  6 & 25 & 70 & 21 & ⋯ &  80 & 28 &  5062.50 & 17 & 0.35 & 0 &  5 &  7 &   83.25 &   93296.23\\\\\n",
       "\t27 & Ryan Dirteater       &  30 & USA & 1989 & 69 & 155 & 10 & 25 & 72 & 25 & ⋯ &   0 &  0 &     0.00 &  0 & 0.00 & 0 &  0 &  0 &    0.00 &       0.00\\\\\n",
       "\t28 & Bonner Bolton        &  31 & USA & 1987 & 71 & 175 &  9 &  1 &  3 &  2 & ⋯ &   0 &  0 &     0.00 &  0 & 0.00 & 0 &  0 &  0 &    0.00 &       0.00\\\\\n",
       "\t29 & Dave Mason           &  32 & AUS & 1987 & 68 & 154 &  7 &  5 & 10 &  1 & ⋯ &   0 &  0 &     0.00 &  0 & 0.00 & 0 &  0 &  0 &    0.00 &       0.00\\\\\n",
       "\t30 & Brady Sims           &  33 & USA & 1993 & 69 & 160 &  3 & 20 & 58 & 19 & ⋯ &   0 &  0 &     0.00 &  0 & 0.00 & 0 &  0 &  0 &    0.00 &       0.00\\\\\n",
       "\t31 & Douglas Duncan       &  35 & USA & 1987 & 68 & 155 & 10 & 26 & 63 & 17 & ⋯ &  62 & 18 &  3842.50 & 23 & 0.29 & 0 &  2 &  7 &  111.25 &   90687.00\\\\\n",
       "\t32 & Neil Holmes          &  36 & USA & 1985 & 68 & 145 &  7 &  4 & 11 &  6 & ⋯ &   0 &  0 &     0.00 &  0 & 0.00 & 0 &  0 &  0 &    0.00 &       0.00\\\\\n",
       "\t33 & Tyler Harr           &  39 & USA & 1990 & 70 & 165 &  7 &  5 & 12 &  1 & ⋯ &   0 &  0 &     0.00 &  0 & 0.00 & 0 &  0 &  0 &    0.00 &       0.00\\\\\n",
       "\t34 & Robson Palermo       &  40 & BRA & 1983 & 66 & 120 & 10 & 14 & 38 & 14 & ⋯ &  57 & 30 &  9681.25 &  7 & 0.53 & 2 &  5 &  8 & 4189.25 &  466599.60\\\\\n",
       "\t35 & Luis Blanco          &  41 & BRA & 1986 & 68 & 175 &  5 &  4 &  9 &  1 & ⋯ &   0 &  0 &     0.00 &  0 & 0.00 & 0 &  0 &  0 &    0.00 &       0.00\\\\\n",
       "\t36 & Lachlan Richardson   &  44 & AUS & 1992 & 69 & 141 &  4 & 24 & 62 & 11 & ⋯ &  37 &  7 &  1408.75 & 34 & 0.19 & 1 &  1 &  2 &    0.00 &   90044.06\\\\\n",
       "\t37 & Claudio Crisostomo   &  46 & BRA & 1985 & 71 & 160 &  7 & 22 & 59 & 22 & ⋯ &   0 &  0 &     0.00 &  0 & 0.00 & 0 &  0 &  0 &    0.00 &       0.00\\\\\n",
       "\t38 & Sean Willingham      &  47 & USA & 1981 & 70 & 140 & 16 & 21 & 60 & 22 & ⋯ &  25 &  5 &   793.75 & 43 & 0.20 & 0 &  0 &  2 &    0.00 &   21343.28\\\\\n",
       "\t40 & Jay Miller           &  52 & USA & 1992 & 66 & 165 &  1 &  4 &  7 &  1 & ⋯ &   0 &  0 &     0.00 &  0 & 0.00 & 0 &  0 &  0 &    0.00 &       0.00\\\\\n",
       "\t41 & Marco Eguchi         &  53 & BRA & 1989 & 67 & 135 &  7 & 27 & 72 & 26 & ⋯ &  84 & 39 &  7699.25 &  9 & 0.46 & 1 &  9 & 11 &  571.00 &  226255.50\\\\\n",
       "\t42 & Austin Meier         &  55 & USA & 1987 & 71 & 165 & 10 & 12 & 28 &  6 & ⋯ &  91 & 49 & 10249.75 &  5 & 0.54 & 2 &  8 & 12 & 1773.25 &  311728.81\\\\\n",
       "\t43 & Jordan Hupp          &  58 & USA & 1985 & 60 & 188 & 10 & 20 & 56 & 16 & ⋯ &  61 & 23 &  3031.50 & 27 & 0.38 & 1 &  1 &  5 &    0.00 &   66814.33\\\\\n",
       "\t44 & Dakota Louis         &  62 & USA & 1992 & 72 & 160 &  4 &  1 &  3 &  1 & ⋯ &   0 &  0 &     0.00 &  0 & 0.00 & 0 &  0 &  0 &    0.00 &       0.00\\\\\n",
       "\t45 & David Kennedy        &  66 & AUS & 1984 & 69 & 176 &  7 &  1 &  2 &  1 & ⋯ &   0 &  0 &     0.00 &  0 & 0.00 & 0 &  0 &  0 &    0.00 &       0.00\\\\\n",
       "\t46 & Billy Robinson       &  66 & USA & 1979 & 68 & 150 & 17 & 24 & 61 & 16 & ⋯ &  38 &  9 &  1217.50 & 38 & 0.24 & 0 &  0 &  2 &    0.00 &   55617.33\\\\\n",
       "\t49 & Budd Williamson      &  77 & AUS & 1986 & 72 & 155 &  9 &  2 &  4 &  1 & ⋯ &   0 &  0 &     0.00 &  0 & 0.00 & 0 &  0 &  0 &    0.00 &       0.00\\\\\n",
       "\t50 & Josh Faircloth       &  77 & USA & 1989 & 70 & 140 &  8 &  9 & 26 &  8 & ⋯ &   0 &  0 &     0.00 &  0 & 0.00 & 0 &  0 &  0 &    0.00 &       0.00\\\\\n",
       "\t53 & Harve Stewart        & 104 & USA & 1987 & 69 & 150 &  9 & 19 & 47 & 11 & ⋯ &  81 & 28 &  5523.00 & 15 & 0.35 & 1 &  4 &  6 &  186.50 &  150975.16\\\\\n",
       "\t54 & Brant Atwood         & 116 & USA & 1987 & 67 & 140 & 10 &  8 & 20 &  2 & ⋯ &   4 &  1 &   261.75 & 65 & 0.25 & 0 &  0 &  1 &    0.00 &   22059.59\\\\\n",
       "\t55 & Ty Pozzobon          & 148 & CAN & 1991 & 69 & 135 &  6 & 22 & 54 & 16 & ⋯ &  78 & 28 &  4683.25 & 20 & 0.36 & 0 &  2 &  9 &  424.00 &  106451.16\\\\\n",
       "\t56 & Kody Lostroh         & 279 & USA & 1985 & 66 & 155 & 11 & 16 & 42 & 15 & ⋯ &  61 & 23 &  4700.00 & 19 & 0.38 & 1 &  3 &  8 &  525.00 &  158470.75\\\\\n",
       "\t57 & Markus Mariluch      & 279 & USA & 1985 & 68 & 155 & 11 & 21 & 60 & 24 & ⋯ &  20 &  5 &   554.25 & 49 & 0.25 & 0 &  0 &  0 &    0.00 &   28806.83\\\\\n",
       "\t58 & Emilio Resende       & 279 & BRA & 1987 & 67 & 150 &  7 & 26 & 75 & 27 & ⋯ &  45 & 24 &  6911.25 & 12 & 0.53 & 0 &  3 &  5 & 3414.25 &  271470.63\\\\\n",
       "\\end{tabular}\n"
      ],
      "text/markdown": [
       "\n",
       "A data.frame: 52 × 44\n",
       "\n",
       "| <!--/--> | Rider &lt;fct&gt; | Rank15 &lt;int&gt; | Country &lt;fct&gt; | YearBorn &lt;int&gt; | Height &lt;int&gt; | Weight &lt;int&gt; | YearsPro &lt;int&gt; | Events14 &lt;int&gt; | BuckOuts14 &lt;int&gt; | Rides14 &lt;int&gt; | ⋯ ⋯ | BuckOuts12 &lt;int&gt; | Rides12 &lt;int&gt; | CupPoints12 &lt;dbl&gt; | Rank12 &lt;int&gt; | RidePer12 &lt;dbl&gt; | Wins12 &lt;int&gt; | Top5_12 &lt;int&gt; | Top10_12 &lt;int&gt; | FinalPoints12 &lt;dbl&gt; | Earnings12 &lt;dbl&gt; |\n",
       "|---|---|---|---|---|---|---|---|---|---|---|---|---|---|---|---|---|---|---|---|---|---|\n",
       "| 1 | Joao Ricardo Vieira  |   1 | BRA | 1984 | 66 | 163 |  3 | 28 | 93 | 41 | ⋯ |   0 |  0 |     0.00 |  0 | 0.00 | 0 |  0 |  0 |    0.00 |       0.00 |\n",
       "| 2 | Matt Triplett        |   2 | USA | 1991 | 67 | 160 |  4 | 28 | 86 | 33 | ⋯ |   0 |  0 |     0.00 |  0 | 0.00 | 0 |  0 |  0 |    0.00 |       0.00 |\n",
       "| 3 | J.B. Mauney          |   3 | USA | 1987 | 70 | 140 | 10 | 22 | 63 | 25 | ⋯ |  82 | 40 |  9273.25 |  8 | 0.49 | 3 |  8 | 13 |  287.00 |  313340.27 |\n",
       "| 5 | Nathan Schaper       |   5 | USA | 1990 | 73 | 160 |  6 | 15 | 41 | 17 | ⋯ |   0 |  0 |     0.00 |  0 | 0.00 | 0 |  0 |  0 |    0.00 |       0.00 |\n",
       "| 6 | Valdiron de Oliveira |   6 | BRA | 1979 | 72 | 170 |  9 | 28 | 81 | 29 | ⋯ |  87 | 53 | 10608.25 |  4 | 0.61 | 1 | 10 | 14 |  559.50 |  208724.52 |\n",
       "| 7 | Guilherme Marchi     |   7 | BRA | 1982 | 70 | 180 | 16 | 28 | 90 | 41 | ⋯ |  87 | 50 | 11542.00 |  2 | 0.57 | 2 |  9 | 12 | 2519.75 |  331421.67 |\n",
       "| 8 | Silvano Alves        |   8 | BRA | 1987 | 67 | 150 |  7 | 28 | 92 | 50 | ⋯ | 103 | 62 | 12201.75 |  1 | 0.60 | 2 |  8 | 18 | 1648.00 | 1464475.61 |\n",
       "| 9 | Reese Cates          |   9 | USA | 1989 | 68 | 135 |  9 | 12 | 30 |  8 | ⋯ |  10 |  3 |   428.50 | 53 | 0.30 | 0 |  0 |  1 |    0.00 |   27987.21 |\n",
       "| 10 | J.W. Harris          |  10 | USA | 1986 | 70 | 160 | 10 | 14 | 37 | 16 | ⋯ |   0 |  0 |     0.00 |  0 | 0.00 | 0 |  0 |  0 |    0.00 |       0.00 |\n",
       "| 11 | Stetson Lawrence     |  11 | USA | 1988 | 70 | 155 |  8 | 12 | 33 |  9 | ⋯ |   0 |  0 |     0.00 |  0 | 0.00 | 0 |  0 |  0 |    0.00 |       0.00 |\n",
       "| 12 | Mike Lee             |  12 | USA | 1983 | 68 | 140 | 14 | 26 | 77 | 32 | ⋯ |  64 | 33 |  6088.00 | 13 | 0.52 | 1 |  5 |  7 | 1011.75 |  147952.34 |\n",
       "| 13 | Fabiano Vieira       |  13 | BRA | 1982 | 68 | 175 |  9 | 26 | 77 | 42 | ⋯ |  70 | 38 |  7677.25 | 10 | 0.54 | 2 |  5 | 11 |  171.75 |  191399.08 |\n",
       "| 14 | Cody Nance           |  14 | USA | 1987 | 68 | 162 |  9 | 28 | 84 | 30 | ⋯ |  76 | 29 |  5068.25 | 16 | 0.38 | 1 |  4 |  7 |  322.00 |  131580.54 |\n",
       "| 15 | Ben Jones            |  15 | AUS | 1979 | 71 | 163 | 17 | 11 | 23 |  5 | ⋯ |  58 | 26 |  4840.75 | 18 | 0.45 | 0 |  5 |  7 |    0.00 |  115844.10 |\n",
       "| 16 | Cooper Davis         |  16 | USA | 1994 | 69 | 150 |  3 |  2 |  6 |  2 | ⋯ |   0 |  0 |     0.00 |  0 | 0.00 | 0 |  0 |  0 |    0.00 |       0.00 |\n",
       "| 17 | Tanner Byrne         |  17 | CAN | 1992 | 76 | 160 |  4 | 15 | 42 | 21 | ⋯ |   0 |  0 |     0.00 |  0 | 0.00 | 0 |  0 |  0 |    0.00 |       0.00 |\n",
       "| 18 | Shane Proctor        |  19 | USA | 1985 | 68 | 165 | 10 |  1 |  3 |  1 | ⋯ |  32 |  8 |  1387.50 | 35 | 0.25 | 0 |  0 |  3 |    0.00 |   52443.96 |\n",
       "| 19 | Renato Nunes         |  20 | BRA | 1981 | 67 | 135 | 11 | 26 | 75 | 25 | ⋯ |  91 | 38 |  9859.75 |  6 | 0.42 | 1 |  5 | 12 | 3298.50 |  254709.57 |\n",
       "| 20 | Mason Lowe           |  21 | USA | 1993 | 71 | 155 |  3 |  2 |  4 |  1 | ⋯ |   0 |  0 |     0.00 |  0 | 0.00 | 0 |  0 |  0 |    0.00 |       0.00 |\n",
       "| 21 | Gage Gay             |  22 | USA | 1994 | 66 | 145 |  3 | 24 | 75 | 25 | ⋯ |   0 |  0 |     0.00 |  0 | 0.00 | 0 |  0 |  0 |    0.00 |       0.00 |\n",
       "| 22 | Chase Outlaw         |  23 | USA | 1992 | 65 | 150 |  4 | 23 | 66 | 19 | ⋯ |  64 | 21 |  4186.50 | 21 | 0.33 | 1 |  3 |  8 |    0.00 |  170203.48 |\n",
       "| 23 | Kasey Hayes          |  24 | USA | 1985 | 69 | 140 | 11 | 22 | 63 | 22 | ⋯ |  26 |  7 |   914.25 | 40 | 0.27 | 0 |  0 |  1 |    0.00 |   29116.33 |\n",
       "| 24 | L.J. Jenkins         |  25 | USA | 1987 | 70 | 140 | 10 | 27 | 83 | 32 | ⋯ |  93 | 49 | 10621.25 |  3 | 0.53 | 1 | 10 | 13 | 1212.75 |  239935.66 |\n",
       "| 25 | Eduardo Aparecido    |  27 | BRA | 1990 | 68 | 160 |  4 | 27 | 78 | 37 | ⋯ |   0 |  0 |     0.00 |  0 | 0.00 | 0 |  0 |  0 |    0.00 |       0.00 |\n",
       "| 26 | Stormy Wing          |  28 | USA | 1989 | 66 | 145 |  6 | 25 | 70 | 21 | ⋯ |  80 | 28 |  5062.50 | 17 | 0.35 | 0 |  5 |  7 |   83.25 |   93296.23 |\n",
       "| 27 | Ryan Dirteater       |  30 | USA | 1989 | 69 | 155 | 10 | 25 | 72 | 25 | ⋯ |   0 |  0 |     0.00 |  0 | 0.00 | 0 |  0 |  0 |    0.00 |       0.00 |\n",
       "| 28 | Bonner Bolton        |  31 | USA | 1987 | 71 | 175 |  9 |  1 |  3 |  2 | ⋯ |   0 |  0 |     0.00 |  0 | 0.00 | 0 |  0 |  0 |    0.00 |       0.00 |\n",
       "| 29 | Dave Mason           |  32 | AUS | 1987 | 68 | 154 |  7 |  5 | 10 |  1 | ⋯ |   0 |  0 |     0.00 |  0 | 0.00 | 0 |  0 |  0 |    0.00 |       0.00 |\n",
       "| 30 | Brady Sims           |  33 | USA | 1993 | 69 | 160 |  3 | 20 | 58 | 19 | ⋯ |   0 |  0 |     0.00 |  0 | 0.00 | 0 |  0 |  0 |    0.00 |       0.00 |\n",
       "| 31 | Douglas Duncan       |  35 | USA | 1987 | 68 | 155 | 10 | 26 | 63 | 17 | ⋯ |  62 | 18 |  3842.50 | 23 | 0.29 | 0 |  2 |  7 |  111.25 |   90687.00 |\n",
       "| 32 | Neil Holmes          |  36 | USA | 1985 | 68 | 145 |  7 |  4 | 11 |  6 | ⋯ |   0 |  0 |     0.00 |  0 | 0.00 | 0 |  0 |  0 |    0.00 |       0.00 |\n",
       "| 33 | Tyler Harr           |  39 | USA | 1990 | 70 | 165 |  7 |  5 | 12 |  1 | ⋯ |   0 |  0 |     0.00 |  0 | 0.00 | 0 |  0 |  0 |    0.00 |       0.00 |\n",
       "| 34 | Robson Palermo       |  40 | BRA | 1983 | 66 | 120 | 10 | 14 | 38 | 14 | ⋯ |  57 | 30 |  9681.25 |  7 | 0.53 | 2 |  5 |  8 | 4189.25 |  466599.60 |\n",
       "| 35 | Luis Blanco          |  41 | BRA | 1986 | 68 | 175 |  5 |  4 |  9 |  1 | ⋯ |   0 |  0 |     0.00 |  0 | 0.00 | 0 |  0 |  0 |    0.00 |       0.00 |\n",
       "| 36 | Lachlan Richardson   |  44 | AUS | 1992 | 69 | 141 |  4 | 24 | 62 | 11 | ⋯ |  37 |  7 |  1408.75 | 34 | 0.19 | 1 |  1 |  2 |    0.00 |   90044.06 |\n",
       "| 37 | Claudio Crisostomo   |  46 | BRA | 1985 | 71 | 160 |  7 | 22 | 59 | 22 | ⋯ |   0 |  0 |     0.00 |  0 | 0.00 | 0 |  0 |  0 |    0.00 |       0.00 |\n",
       "| 38 | Sean Willingham      |  47 | USA | 1981 | 70 | 140 | 16 | 21 | 60 | 22 | ⋯ |  25 |  5 |   793.75 | 43 | 0.20 | 0 |  0 |  2 |    0.00 |   21343.28 |\n",
       "| 40 | Jay Miller           |  52 | USA | 1992 | 66 | 165 |  1 |  4 |  7 |  1 | ⋯ |   0 |  0 |     0.00 |  0 | 0.00 | 0 |  0 |  0 |    0.00 |       0.00 |\n",
       "| 41 | Marco Eguchi         |  53 | BRA | 1989 | 67 | 135 |  7 | 27 | 72 | 26 | ⋯ |  84 | 39 |  7699.25 |  9 | 0.46 | 1 |  9 | 11 |  571.00 |  226255.50 |\n",
       "| 42 | Austin Meier         |  55 | USA | 1987 | 71 | 165 | 10 | 12 | 28 |  6 | ⋯ |  91 | 49 | 10249.75 |  5 | 0.54 | 2 |  8 | 12 | 1773.25 |  311728.81 |\n",
       "| 43 | Jordan Hupp          |  58 | USA | 1985 | 60 | 188 | 10 | 20 | 56 | 16 | ⋯ |  61 | 23 |  3031.50 | 27 | 0.38 | 1 |  1 |  5 |    0.00 |   66814.33 |\n",
       "| 44 | Dakota Louis         |  62 | USA | 1992 | 72 | 160 |  4 |  1 |  3 |  1 | ⋯ |   0 |  0 |     0.00 |  0 | 0.00 | 0 |  0 |  0 |    0.00 |       0.00 |\n",
       "| 45 | David Kennedy        |  66 | AUS | 1984 | 69 | 176 |  7 |  1 |  2 |  1 | ⋯ |   0 |  0 |     0.00 |  0 | 0.00 | 0 |  0 |  0 |    0.00 |       0.00 |\n",
       "| 46 | Billy Robinson       |  66 | USA | 1979 | 68 | 150 | 17 | 24 | 61 | 16 | ⋯ |  38 |  9 |  1217.50 | 38 | 0.24 | 0 |  0 |  2 |    0.00 |   55617.33 |\n",
       "| 49 | Budd Williamson      |  77 | AUS | 1986 | 72 | 155 |  9 |  2 |  4 |  1 | ⋯ |   0 |  0 |     0.00 |  0 | 0.00 | 0 |  0 |  0 |    0.00 |       0.00 |\n",
       "| 50 | Josh Faircloth       |  77 | USA | 1989 | 70 | 140 |  8 |  9 | 26 |  8 | ⋯ |   0 |  0 |     0.00 |  0 | 0.00 | 0 |  0 |  0 |    0.00 |       0.00 |\n",
       "| 53 | Harve Stewart        | 104 | USA | 1987 | 69 | 150 |  9 | 19 | 47 | 11 | ⋯ |  81 | 28 |  5523.00 | 15 | 0.35 | 1 |  4 |  6 |  186.50 |  150975.16 |\n",
       "| 54 | Brant Atwood         | 116 | USA | 1987 | 67 | 140 | 10 |  8 | 20 |  2 | ⋯ |   4 |  1 |   261.75 | 65 | 0.25 | 0 |  0 |  1 |    0.00 |   22059.59 |\n",
       "| 55 | Ty Pozzobon          | 148 | CAN | 1991 | 69 | 135 |  6 | 22 | 54 | 16 | ⋯ |  78 | 28 |  4683.25 | 20 | 0.36 | 0 |  2 |  9 |  424.00 |  106451.16 |\n",
       "| 56 | Kody Lostroh         | 279 | USA | 1985 | 66 | 155 | 11 | 16 | 42 | 15 | ⋯ |  61 | 23 |  4700.00 | 19 | 0.38 | 1 |  3 |  8 |  525.00 |  158470.75 |\n",
       "| 57 | Markus Mariluch      | 279 | USA | 1985 | 68 | 155 | 11 | 21 | 60 | 24 | ⋯ |  20 |  5 |   554.25 | 49 | 0.25 | 0 |  0 |  0 |    0.00 |   28806.83 |\n",
       "| 58 | Emilio Resende       | 279 | BRA | 1987 | 67 | 150 |  7 | 26 | 75 | 27 | ⋯ |  45 | 24 |  6911.25 | 12 | 0.53 | 0 |  3 |  5 | 3414.25 |  271470.63 |\n",
       "\n"
      ],
      "text/plain": [
       "   Rider                Rank15 Country YearBorn Height Weight YearsPro Events14\n",
       "1  Joao Ricardo Vieira    1    BRA     1984     66     163     3       28      \n",
       "2  Matt Triplett          2    USA     1991     67     160     4       28      \n",
       "3  J.B. Mauney            3    USA     1987     70     140    10       22      \n",
       "5  Nathan Schaper         5    USA     1990     73     160     6       15      \n",
       "6  Valdiron de Oliveira   6    BRA     1979     72     170     9       28      \n",
       "7  Guilherme Marchi       7    BRA     1982     70     180    16       28      \n",
       "8  Silvano Alves          8    BRA     1987     67     150     7       28      \n",
       "9  Reese Cates            9    USA     1989     68     135     9       12      \n",
       "10 J.W. Harris           10    USA     1986     70     160    10       14      \n",
       "11 Stetson Lawrence      11    USA     1988     70     155     8       12      \n",
       "12 Mike Lee              12    USA     1983     68     140    14       26      \n",
       "13 Fabiano Vieira        13    BRA     1982     68     175     9       26      \n",
       "14 Cody Nance            14    USA     1987     68     162     9       28      \n",
       "15 Ben Jones             15    AUS     1979     71     163    17       11      \n",
       "16 Cooper Davis          16    USA     1994     69     150     3        2      \n",
       "17 Tanner Byrne          17    CAN     1992     76     160     4       15      \n",
       "18 Shane Proctor         19    USA     1985     68     165    10        1      \n",
       "19 Renato Nunes          20    BRA     1981     67     135    11       26      \n",
       "20 Mason Lowe            21    USA     1993     71     155     3        2      \n",
       "21 Gage Gay              22    USA     1994     66     145     3       24      \n",
       "22 Chase Outlaw          23    USA     1992     65     150     4       23      \n",
       "23 Kasey Hayes           24    USA     1985     69     140    11       22      \n",
       "24 L.J. Jenkins          25    USA     1987     70     140    10       27      \n",
       "25 Eduardo Aparecido     27    BRA     1990     68     160     4       27      \n",
       "26 Stormy Wing           28    USA     1989     66     145     6       25      \n",
       "27 Ryan Dirteater        30    USA     1989     69     155    10       25      \n",
       "28 Bonner Bolton         31    USA     1987     71     175     9        1      \n",
       "29 Dave Mason            32    AUS     1987     68     154     7        5      \n",
       "30 Brady Sims            33    USA     1993     69     160     3       20      \n",
       "31 Douglas Duncan        35    USA     1987     68     155    10       26      \n",
       "32 Neil Holmes           36    USA     1985     68     145     7        4      \n",
       "33 Tyler Harr            39    USA     1990     70     165     7        5      \n",
       "34 Robson Palermo        40    BRA     1983     66     120    10       14      \n",
       "35 Luis Blanco           41    BRA     1986     68     175     5        4      \n",
       "36 Lachlan Richardson    44    AUS     1992     69     141     4       24      \n",
       "37 Claudio Crisostomo    46    BRA     1985     71     160     7       22      \n",
       "38 Sean Willingham       47    USA     1981     70     140    16       21      \n",
       "40 Jay Miller            52    USA     1992     66     165     1        4      \n",
       "41 Marco Eguchi          53    BRA     1989     67     135     7       27      \n",
       "42 Austin Meier          55    USA     1987     71     165    10       12      \n",
       "43 Jordan Hupp           58    USA     1985     60     188    10       20      \n",
       "44 Dakota Louis          62    USA     1992     72     160     4        1      \n",
       "45 David Kennedy         66    AUS     1984     69     176     7        1      \n",
       "46 Billy Robinson        66    USA     1979     68     150    17       24      \n",
       "49 Budd Williamson       77    AUS     1986     72     155     9        2      \n",
       "50 Josh Faircloth        77    USA     1989     70     140     8        9      \n",
       "53 Harve Stewart        104    USA     1987     69     150     9       19      \n",
       "54 Brant Atwood         116    USA     1987     67     140    10        8      \n",
       "55 Ty Pozzobon          148    CAN     1991     69     135     6       22      \n",
       "56 Kody Lostroh         279    USA     1985     66     155    11       16      \n",
       "57 Markus Mariluch      279    USA     1985     68     155    11       21      \n",
       "58 Emilio Resende       279    BRA     1987     67     150     7       26      \n",
       "   BuckOuts14 Rides14 <U+22EF>        BuckOuts12 Rides12 CupPoints12 Rank12 RidePer12\n",
       "1  93         41      <U+22EF>   0         0          0.00     0     0.00     \n",
       "2  86         33      <U+22EF>   0         0          0.00     0     0.00     \n",
       "3  63         25      <U+22EF>  82        40       9273.25     8     0.49     \n",
       "5  41         17      <U+22EF>   0         0          0.00     0     0.00     \n",
       "6  81         29      <U+22EF>  87        53      10608.25     4     0.61     \n",
       "7  90         41      <U+22EF>  87        50      11542.00     2     0.57     \n",
       "8  92         50      <U+22EF> 103        62      12201.75     1     0.60     \n",
       "9  30          8      <U+22EF>  10         3        428.50    53     0.30     \n",
       "10 37         16      <U+22EF>   0         0          0.00     0     0.00     \n",
       "11 33          9      <U+22EF>   0         0          0.00     0     0.00     \n",
       "12 77         32      <U+22EF>  64        33       6088.00    13     0.52     \n",
       "13 77         42      <U+22EF>  70        38       7677.25    10     0.54     \n",
       "14 84         30      <U+22EF>  76        29       5068.25    16     0.38     \n",
       "15 23          5      <U+22EF>  58        26       4840.75    18     0.45     \n",
       "16  6          2      <U+22EF>   0         0          0.00     0     0.00     \n",
       "17 42         21      <U+22EF>   0         0          0.00     0     0.00     \n",
       "18  3          1      <U+22EF>  32         8       1387.50    35     0.25     \n",
       "19 75         25      <U+22EF>  91        38       9859.75     6     0.42     \n",
       "20  4          1      <U+22EF>   0         0          0.00     0     0.00     \n",
       "21 75         25      <U+22EF>   0         0          0.00     0     0.00     \n",
       "22 66         19      <U+22EF>  64        21       4186.50    21     0.33     \n",
       "23 63         22      <U+22EF>  26         7        914.25    40     0.27     \n",
       "24 83         32      <U+22EF>  93        49      10621.25     3     0.53     \n",
       "25 78         37      <U+22EF>   0         0          0.00     0     0.00     \n",
       "26 70         21      <U+22EF>  80        28       5062.50    17     0.35     \n",
       "27 72         25      <U+22EF>   0         0          0.00     0     0.00     \n",
       "28  3          2      <U+22EF>   0         0          0.00     0     0.00     \n",
       "29 10          1      <U+22EF>   0         0          0.00     0     0.00     \n",
       "30 58         19      <U+22EF>   0         0          0.00     0     0.00     \n",
       "31 63         17      <U+22EF>  62        18       3842.50    23     0.29     \n",
       "32 11          6      <U+22EF>   0         0          0.00     0     0.00     \n",
       "33 12          1      <U+22EF>   0         0          0.00     0     0.00     \n",
       "34 38         14      <U+22EF>  57        30       9681.25     7     0.53     \n",
       "35  9          1      <U+22EF>   0         0          0.00     0     0.00     \n",
       "36 62         11      <U+22EF>  37         7       1408.75    34     0.19     \n",
       "37 59         22      <U+22EF>   0         0          0.00     0     0.00     \n",
       "38 60         22      <U+22EF>  25         5        793.75    43     0.20     \n",
       "40  7          1      <U+22EF>   0         0          0.00     0     0.00     \n",
       "41 72         26      <U+22EF>  84        39       7699.25     9     0.46     \n",
       "42 28          6      <U+22EF>  91        49      10249.75     5     0.54     \n",
       "43 56         16      <U+22EF>  61        23       3031.50    27     0.38     \n",
       "44  3          1      <U+22EF>   0         0          0.00     0     0.00     \n",
       "45  2          1      <U+22EF>   0         0          0.00     0     0.00     \n",
       "46 61         16      <U+22EF>  38         9       1217.50    38     0.24     \n",
       "49  4          1      <U+22EF>   0         0          0.00     0     0.00     \n",
       "50 26          8      <U+22EF>   0         0          0.00     0     0.00     \n",
       "53 47         11      <U+22EF>  81        28       5523.00    15     0.35     \n",
       "54 20          2      <U+22EF>   4         1        261.75    65     0.25     \n",
       "55 54         16      <U+22EF>  78        28       4683.25    20     0.36     \n",
       "56 42         15      <U+22EF>  61        23       4700.00    19     0.38     \n",
       "57 60         24      <U+22EF>  20         5        554.25    49     0.25     \n",
       "58 75         27      <U+22EF>  45        24       6911.25    12     0.53     \n",
       "   Wins12 Top5_12 Top10_12 FinalPoints12 Earnings12\n",
       "1  0       0       0          0.00             0.00\n",
       "2  0       0       0          0.00             0.00\n",
       "3  3       8      13        287.00        313340.27\n",
       "5  0       0       0          0.00             0.00\n",
       "6  1      10      14        559.50        208724.52\n",
       "7  2       9      12       2519.75        331421.67\n",
       "8  2       8      18       1648.00       1464475.61\n",
       "9  0       0       1          0.00         27987.21\n",
       "10 0       0       0          0.00             0.00\n",
       "11 0       0       0          0.00             0.00\n",
       "12 1       5       7       1011.75        147952.34\n",
       "13 2       5      11        171.75        191399.08\n",
       "14 1       4       7        322.00        131580.54\n",
       "15 0       5       7          0.00        115844.10\n",
       "16 0       0       0          0.00             0.00\n",
       "17 0       0       0          0.00             0.00\n",
       "18 0       0       3          0.00         52443.96\n",
       "19 1       5      12       3298.50        254709.57\n",
       "20 0       0       0          0.00             0.00\n",
       "21 0       0       0          0.00             0.00\n",
       "22 1       3       8          0.00        170203.48\n",
       "23 0       0       1          0.00         29116.33\n",
       "24 1      10      13       1212.75        239935.66\n",
       "25 0       0       0          0.00             0.00\n",
       "26 0       5       7         83.25         93296.23\n",
       "27 0       0       0          0.00             0.00\n",
       "28 0       0       0          0.00             0.00\n",
       "29 0       0       0          0.00             0.00\n",
       "30 0       0       0          0.00             0.00\n",
       "31 0       2       7        111.25         90687.00\n",
       "32 0       0       0          0.00             0.00\n",
       "33 0       0       0          0.00             0.00\n",
       "34 2       5       8       4189.25        466599.60\n",
       "35 0       0       0          0.00             0.00\n",
       "36 1       1       2          0.00         90044.06\n",
       "37 0       0       0          0.00             0.00\n",
       "38 0       0       2          0.00         21343.28\n",
       "40 0       0       0          0.00             0.00\n",
       "41 1       9      11        571.00        226255.50\n",
       "42 2       8      12       1773.25        311728.81\n",
       "43 1       1       5          0.00         66814.33\n",
       "44 0       0       0          0.00             0.00\n",
       "45 0       0       0          0.00             0.00\n",
       "46 0       0       2          0.00         55617.33\n",
       "49 0       0       0          0.00             0.00\n",
       "50 0       0       0          0.00             0.00\n",
       "53 1       4       6        186.50        150975.16\n",
       "54 0       0       1          0.00         22059.59\n",
       "55 0       2       9        424.00        106451.16\n",
       "56 1       3       8        525.00        158470.75\n",
       "57 0       0       0          0.00         28806.83\n",
       "58 0       3       5       3414.25        271470.63"
      ]
     },
     "metadata": {},
     "output_type": "display_data"
    }
   ],
   "source": [
    "new_bull14 <- bull[bull$Rides14 > 0,]\n",
    "new_bull14"
   ]
  },
  {
   "cell_type": "markdown",
   "metadata": {},
   "source": [
    "Create a new variable or vector for the average number of rides per event for each bull rider in the new_bull14 dataset:"
   ]
  },
  {
   "cell_type": "code",
   "execution_count": 40,
   "metadata": {},
   "outputs": [],
   "source": [
    "RidesPerEvent14 <- new_bull14$Rides14/new_bull14$Events14"
   ]
  },
  {
   "cell_type": "markdown",
   "metadata": {},
   "source": [
    "Make a histogram of your \"rides per event\" variable and find the five-number summary for your \"rides per event\" variable."
   ]
  },
  {
   "cell_type": "code",
   "execution_count": 41,
   "metadata": {},
   "outputs": [
    {
     "data": {
      "image/png": "[encoded data removed]",
      "text/plain": [
       "Plot with title \"Histogram of RidesPerEvent14\""
      ]
     },
     "metadata": {
      "image/png": {
       "height": 420,
       "width": 420
      },
      "text/plain": {
       "height": 420,
       "width": 420
      }
     },
     "output_type": "display_data"
    }
   ],
   "source": [
    "hist(RidesPerEvent14)"
   ]
  },
  {
   "cell_type": "markdown",
   "metadata": {},
   "source": [
    "What is the minimum value?"
   ]
  },
  {
   "cell_type": "code",
   "execution_count": 42,
   "metadata": {},
   "outputs": [
    {
     "data": {
      "text/html": [
       "0.2"
      ],
      "text/latex": [
       "0.2"
      ],
      "text/markdown": [
       "0.2"
      ],
      "text/plain": [
       "[1] 0.2"
      ]
     },
     "metadata": {},
     "output_type": "display_data"
    }
   ],
   "source": [
    "min(RidesPerEvent14)"
   ]
  },
  {
   "cell_type": "markdown",
   "metadata": {},
   "source": [
    "What is the median?"
   ]
  },
  {
   "cell_type": "code",
   "execution_count": 43,
   "metadata": {},
   "outputs": [
    {
     "data": {
      "text/html": [
       "1"
      ],
      "text/latex": [
       "1"
      ],
      "text/markdown": [
       "1"
      ],
      "text/plain": [
       "[1] 1"
      ]
     },
     "metadata": {},
     "output_type": "display_data"
    }
   ],
   "source": [
    "median(RidesPerEvent14)"
   ]
  },
  {
   "cell_type": "markdown",
   "metadata": {},
   "source": [
    "What is the maximum value?"
   ]
  },
  {
   "cell_type": "code",
   "execution_count": 44,
   "metadata": {},
   "outputs": [
    {
     "data": {
      "text/html": [
       "2"
      ],
      "text/latex": [
       "2"
      ],
      "text/markdown": [
       "2"
      ],
      "text/plain": [
       "[1] 2"
      ]
     },
     "metadata": {},
     "output_type": "display_data"
    }
   ],
   "source": [
    "max(RidesPerEvent14)"
   ]
  },
  {
   "cell_type": "code",
   "execution_count": 45,
   "metadata": {},
   "outputs": [
    {
     "data": {
      "text/html": [
       "<style>\n",
       ".list-inline {list-style: none; margin:0; padding: 0}\n",
       ".list-inline>li {display: inline-block}\n",
       ".list-inline>li:not(:last-child)::after {content: \"\\00b7\"; padding: 0 .5ex}\n",
       "</style>\n",
       "<ol class=list-inline><li>0.2</li><li>0.666666666666667</li><li>1</li><li>1.13961038961039</li><li>2</li></ol>\n"
      ],
      "text/latex": [
       "\\begin{enumerate*}\n",
       "\\item 0.2\n",
       "\\item 0.666666666666667\n",
       "\\item 1\n",
       "\\item 1.13961038961039\n",
       "\\item 2\n",
       "\\end{enumerate*}\n"
      ],
      "text/markdown": [
       "1. 0.2\n",
       "2. 0.666666666666667\n",
       "3. 1\n",
       "4. 1.13961038961039\n",
       "5. 2\n",
       "\n",
       "\n"
      ],
      "text/plain": [
       "[1] 0.2000000 0.6666667 1.0000000 1.1396104 2.0000000"
      ]
     },
     "metadata": {},
     "output_type": "display_data"
    }
   ],
   "source": [
    "fivenum(RidesPerEvent14)"
   ]
  },
  {
   "cell_type": "code",
   "execution_count": 46,
   "metadata": {},
   "outputs": [
    {
     "data": {
      "text/html": [
       "0.937656222125616"
      ],
      "text/latex": [
       "0.937656222125616"
      ],
      "text/markdown": [
       "0.937656222125616"
      ],
      "text/plain": [
       "[1] 0.9376562"
      ]
     },
     "metadata": {},
     "output_type": "display_data"
    },
    {
     "data": {
      "text/html": [
       "0.397610479251654"
      ],
      "text/latex": [
       "0.397610479251654"
      ],
      "text/markdown": [
       "0.397610479251654"
      ],
      "text/plain": [
       "[1] 0.3976105"
      ]
     },
     "metadata": {},
     "output_type": "display_data"
    }
   ],
   "source": [
    "mean(RidesPerEvent14)\n",
    "sd(RidesPerEvent14)"
   ]
  },
  {
   "cell_type": "code",
   "execution_count": 47,
   "metadata": {},
   "outputs": [
    {
     "data": {
      "text/plain": [
       "   Min. 1st Qu.  Median    Mean 3rd Qu.    Max. \n",
       " 0.2000  0.6667  1.0000  0.9377  1.1380  2.0000 "
      ]
     },
     "metadata": {},
     "output_type": "display_data"
    }
   ],
   "source": [
    "summary(RidesPerEvent14)"
   ]
  },
  {
   "cell_type": "markdown",
   "metadata": {},
   "source": [
    "Create a scatterplot of \"rides per event\" and yearly ranking (defined by the \"Rank14\" variable) and add a line of best fit."
   ]
  },
  {
   "cell_type": "code",
   "execution_count": 48,
   "metadata": {},
   "outputs": [
    {
     "data": {
      "image/png": "[encoded data removed]",
      "text/plain": [
       "plot without title"
      ]
     },
     "metadata": {
      "image/png": {
       "height": 420,
       "width": 420
      },
      "text/plain": {
       "height": 420,
       "width": 420
      }
     },
     "output_type": "display_data"
    }
   ],
   "source": [
    "plot(RidesPerEvent14, new_bull14$Rank14)\n",
    "abline(lm(new_bull14$Rank14 ~ RidesPerEvent14), col=\"blue\")"
   ]
  },
  {
   "cell_type": "markdown",
   "metadata": {},
   "source": [
    "What is the correlation coefficient for rides per event and yearly ranking?"
   ]
  },
  {
   "cell_type": "code",
   "execution_count": 49,
   "metadata": {},
   "outputs": [
    {
     "data": {
      "text/html": [
       "-0.494515253636964"
      ],
      "text/latex": [
       "-0.494515253636964"
      ],
      "text/markdown": [
       "-0.494515253636964"
      ],
      "text/plain": [
       "[1] -0.4945153"
      ]
     },
     "metadata": {},
     "output_type": "display_data"
    }
   ],
   "source": [
    "cor(RidesPerEvent14,new_bull14$Rank14)"
   ]
  },
  {
   "cell_type": "markdown",
   "metadata": {},
   "source": [
    "### GPA problem"
   ]
  },
  {
   "cell_type": "markdown",
   "metadata": {},
   "source": [
    "Suppose that college GPA and graduate school GPA have a correlation coefficient of 0.75. Based on this, what proportion of variation in graduate school GPA is left unexplained after taking college GPA into account? (Report to 4 decimal places)?"
   ]
  },
  {
   "cell_type": "code",
   "execution_count": 50,
   "metadata": {},
   "outputs": [
    {
     "data": {
      "text/html": [
       "0.4375"
      ],
      "text/latex": [
       "0.4375"
      ],
      "text/markdown": [
       "0.4375"
      ],
      "text/plain": [
       "[1] 0.4375"
      ]
     },
     "metadata": {},
     "output_type": "display_data"
    }
   ],
   "source": [
    "1-(round(.75*.75,4))"
   ]
  },
  {
   "cell_type": "markdown",
   "metadata": {},
   "source": [
    "Using the dataset below, find the correlation coefficient between time spent studying and exam grade."
   ]
  },
  {
   "cell_type": "code",
   "execution_count": 51,
   "metadata": {},
   "outputs": [],
   "source": [
    "minutes<-c(30, 45, 180, 95, 130, 140, 30, 80, 60, 110,  0,  80)\n",
    "grade<- c(74, 68, 87, 90, 94, 84, 92, 88, 82, 93, 65, 90)"
   ]
  },
  {
   "cell_type": "markdown",
   "metadata": {},
   "source": [
    "Combine vectors into a matrix"
   ]
  },
  {
   "cell_type": "code",
   "execution_count": 52,
   "metadata": {},
   "outputs": [],
   "source": [
    "study<-cbind(minutes, grade)"
   ]
  },
  {
   "cell_type": "markdown",
   "metadata": {},
   "source": [
    "What is the correlation coefficient based on the data? (Round to 3 decimal places.)"
   ]
  },
  {
   "cell_type": "code",
   "execution_count": 53,
   "metadata": {},
   "outputs": [
    {
     "data": {
      "text/html": [
       "0.597"
      ],
      "text/latex": [
       "0.597"
      ],
      "text/markdown": [
       "0.597"
      ],
      "text/plain": [
       "[1] 0.597"
      ]
     },
     "metadata": {},
     "output_type": "display_data"
    }
   ],
   "source": [
    "round(cor(minutes, grade),3)"
   ]
  },
  {
   "cell_type": "markdown",
   "metadata": {},
   "source": [
    " Approximately what percentage of the variation in exam scores can be explained by the amount of time that each student studied? (Roune to whole number without a % sign.)"
   ]
  },
  {
   "cell_type": "code",
   "execution_count": 54,
   "metadata": {},
   "outputs": [
    {
     "data": {
      "text/html": [
       "36"
      ],
      "text/latex": [
       "36"
      ],
      "text/markdown": [
       "36"
      ],
      "text/plain": [
       "[1] 36"
      ]
     },
     "metadata": {},
     "output_type": "display_data"
    }
   ],
   "source": [
    "round(cor(minutes, grade)*cor(minutes, grade),2)*100"
   ]
  },
  {
   "cell_type": "markdown",
   "metadata": {},
   "source": [
    "Create a scatterplot of the data (exam grades and time spent studying). What is the value of the outlier (the student that got a high grade but didn't study very long)?"
   ]
  },
  {
   "cell_type": "code",
   "execution_count": 55,
   "metadata": {},
   "outputs": [
    {
     "data": {
      "image/png": "[encoded data removed]",
      "text/plain": [
       "plot without title"
      ]
     },
     "metadata": {
      "image/png": {
       "height": 420,
       "width": 420
      },
      "text/plain": {
       "height": 420,
       "width": 420
      }
     },
     "output_type": "display_data"
    }
   ],
   "source": [
    "plot(minutes,grade)\n",
    "abline(lm(grade ~ minutes), col=\"blue\")"
   ]
  },
  {
   "cell_type": "markdown",
   "metadata": {},
   "source": [
    "(30,92) = study[7,7]"
   ]
  },
  {
   "cell_type": "markdown",
   "metadata": {},
   "source": [
    " When the outlier is removed, what is the new value of r? (Round to 3 decimal places.)"
   ]
  },
  {
   "cell_type": "code",
   "execution_count": 56,
   "metadata": {},
   "outputs": [
    {
     "data": {
      "text/html": [
       "0.737"
      ],
      "text/latex": [
       "0.737"
      ],
      "text/markdown": [
       "0.737"
      ],
      "text/plain": [
       "[1] 0.737"
      ]
     },
     "metadata": {},
     "output_type": "display_data"
    }
   ],
   "source": [
    "noOutlierminutes<-c(30, 45, 180, 95, 130, 140, 80, 60, 110, 0, 80)\n",
    "noOutliergrade<- c(74, 68, 87, 90, 94, 84, 88, 82, 93, 65, 90) \n",
    "round(cor(noOutlierminutes, noOutliergrade),3)"
   ]
  },
  {
   "cell_type": "markdown",
   "metadata": {},
   "source": [
    "How did the outlier impact our efforts to assess the relationship between time spent studying and exam grades?"
   ]
  },
  {
   "cell_type": "markdown",
   "metadata": {},
   "source": [
    "Answer: The outlier caused the relationship to look weaker than it really is."
   ]
  }
 ],
 "metadata": {
  "kernelspec": {
   "display_name": "R",
   "language": "R",
   "name": "ir"
  },
  "language_info": {
   "codemirror_mode": "r",
   "file_extension": ".r",
   "mimetype": "text/x-r-source",
   "name": "R",
   "pygments_lexer": "r",
   "version": "3.6.3"
  }
 },
 "nbformat": 4,
 "nbformat_minor": 4
}
