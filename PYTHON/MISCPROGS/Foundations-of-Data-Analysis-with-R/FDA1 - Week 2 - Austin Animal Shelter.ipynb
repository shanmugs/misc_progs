{
 "cells": [
  {
   "cell_type": "markdown",
   "metadata": {},
   "source": [
    "# Foundations of Data Analysis 1 - Week 2 - Austin Animal Shelter Data"
   ]
  },
  {
   "cell_type": "markdown",
   "metadata": {},
   "source": [
    "<img src=\"images/week12.jpg\">"
   ]
  },
  {
   "cell_type": "markdown",
   "metadata": {},
   "source": [
    "Have you ever been curious about how long it takes for an animal to be adopted?  To investigate questions like this, we contacted the Austin Animal Shelter and they provided us with information about 473 cats and dogs.  Included in the dataset are information about how the animals arrived at the shelter, their sex, breed, age, weight, and the number of days spent in the shelter."
   ]
  },
  {
   "cell_type": "code",
   "execution_count": 1,
   "metadata": {},
   "outputs": [
    {
     "data": {
      "text/html": [
       "<table>\n",
       "<caption>A data.frame: 473 × 24</caption>\n",
       "<thead>\n",
       "\t<tr><th scope=col>Impound.No</th><th scope=col>Intake.Date</th><th scope=col>Intake.Type</th><th scope=col>Animal.Type</th><th scope=col>Neutered.Status</th><th scope=col>Sex</th><th scope=col>Age.Intake</th><th scope=col>Condition</th><th scope=col>Breed</th><th scope=col>Aggressive</th><th scope=col>⋯</th><th scope=col>Good.with.Kids</th><th scope=col>Max.Life.Expectancy</th><th scope=col>Max.Weight</th><th scope=col>Dog.Group</th><th scope=col>Color</th><th scope=col>Weight</th><th scope=col>Lab.Test</th><th scope=col>Outcome.Date</th><th scope=col>Outcome.Type</th><th scope=col>Days.Shelter</th></tr>\n",
       "\t<tr><th scope=col>&lt;fct&gt;</th><th scope=col>&lt;fct&gt;</th><th scope=col>&lt;fct&gt;</th><th scope=col>&lt;fct&gt;</th><th scope=col>&lt;fct&gt;</th><th scope=col>&lt;fct&gt;</th><th scope=col>&lt;int&gt;</th><th scope=col>&lt;fct&gt;</th><th scope=col>&lt;fct&gt;</th><th scope=col>&lt;fct&gt;</th><th scope=col>⋯</th><th scope=col>&lt;fct&gt;</th><th scope=col>&lt;int&gt;</th><th scope=col>&lt;int&gt;</th><th scope=col>&lt;fct&gt;</th><th scope=col>&lt;fct&gt;</th><th scope=col>&lt;dbl&gt;</th><th scope=col>&lt;fct&gt;</th><th scope=col>&lt;fct&gt;</th><th scope=col>&lt;fct&gt;</th><th scope=col>&lt;int&gt;</th></tr>\n",
       "</thead>\n",
       "<tbody>\n",
       "\t<tr><td>K12-000031</td><td>1/1/12 </td><td><span style=white-space:pre-wrap>Stray          </span></td><td>Dog</td><td><span style=white-space:pre-wrap>Spayed  </span></td><td>Female</td><td>10</td><td>Injured or Sick</td><td><span style=white-space:pre-wrap>Chihuahua Sh Mix             </span></td><td>N</td><td>⋯</td><td>N</td><td>18</td><td> 6</td><td><span style=white-space:pre-wrap>Toy     </span></td><td><span style=white-space:pre-wrap>Tan &amp; White       </span></td><td> 3.30</td><td><span style=white-space:pre-wrap>Heartworm Negative         </span></td><td> 1/7/12 </td><td><span style=white-space:pre-wrap>Adoption         </span></td><td><span style=white-space:pre-wrap>  6</span></td></tr>\n",
       "\t<tr><td>K12-000037</td><td>1/1/12 </td><td><span style=white-space:pre-wrap>Stray          </span></td><td>Dog</td><td><span style=white-space:pre-wrap>Intact  </span></td><td>Female</td><td> 3</td><td><span style=white-space:pre-wrap>Normal         </span></td><td><span style=white-space:pre-wrap>Rat Terrier Mix              </span></td><td>N</td><td>⋯</td><td>Y</td><td>14</td><td>25</td><td>Terrier </td><td><span style=white-space:pre-wrap>White &amp; Brown     </span></td><td> 7.50</td><td><span style=white-space:pre-wrap>No Lab Test                </span></td><td> 1/3/12 </td><td><span style=white-space:pre-wrap>Return to Owner  </span></td><td><span style=white-space:pre-wrap>  2</span></td></tr>\n",
       "\t<tr><td>K12-000108</td><td>1/1/12 </td><td><span style=white-space:pre-wrap>Stray          </span></td><td>Dog</td><td><span style=white-space:pre-wrap>Intact  </span></td><td><span style=white-space:pre-wrap>Male  </span></td><td> 2</td><td><span style=white-space:pre-wrap>Normal         </span></td><td><span style=white-space:pre-wrap>Pit Bull Mix                 </span></td><td>N</td><td>⋯</td><td>Y</td><td>14</td><td>90</td><td>Terrier </td><td><span style=white-space:pre-wrap>Blue &amp; White      </span></td><td>74.00</td><td><span style=white-space:pre-wrap>Heartworm Negative         </span></td><td> 1/13/12</td><td>Humane Euthanasia</td><td> 12</td></tr>\n",
       "\t<tr><td>K12-000125</td><td>1/1/12 </td><td><span style=white-space:pre-wrap>Stray          </span></td><td>Dog</td><td>Neutered</td><td><span style=white-space:pre-wrap>Male  </span></td><td> 0</td><td><span style=white-space:pre-wrap>Normal         </span></td><td>Labrador Retr &amp; Border Collie</td><td>N</td><td>⋯</td><td>Y</td><td>12</td><td>79</td><td>Sporting</td><td><span style=white-space:pre-wrap>White &amp; Black     </span></td><td>22.00</td><td><span style=white-space:pre-wrap>No Lab Test                </span></td><td> 1/8/12 </td><td><span style=white-space:pre-wrap>Adoption         </span></td><td><span style=white-space:pre-wrap>  7</span></td></tr>\n",
       "\t<tr><td>K12-000157</td><td>1/1/12 </td><td><span style=white-space:pre-wrap>Stray          </span></td><td>Dog</td><td>Neutered</td><td><span style=white-space:pre-wrap>Male  </span></td><td> 3</td><td>Injured or Sick</td><td><span style=white-space:pre-wrap>Labrador Retr                </span></td><td>N</td><td>⋯</td><td>Y</td><td>12</td><td>79</td><td>Sporting</td><td><span style=white-space:pre-wrap>Black &amp; White     </span></td><td>54.00</td><td><span style=white-space:pre-wrap>Heartworm Negative         </span></td><td> 4/4/12 </td><td><span style=white-space:pre-wrap>Adoption         </span></td><td> 94</td></tr>\n",
       "\t<tr><td>K12-000286</td><td>1/1/12 </td><td><span style=white-space:pre-wrap>Stray          </span></td><td>Dog</td><td>Neutered</td><td><span style=white-space:pre-wrap>Male  </span></td><td> 5</td><td><span style=white-space:pre-wrap>Normal         </span></td><td><span style=white-space:pre-wrap>Yorkshire Terr               </span></td><td>N</td><td>⋯</td><td>Y</td><td>15</td><td> 7</td><td>Terrier </td><td><span style=white-space:pre-wrap>Silver &amp; Tan      </span></td><td> 4.80</td><td><span style=white-space:pre-wrap>Heartworm Negative         </span></td><td> 1/10/12</td><td><span style=white-space:pre-wrap>Return to Owner  </span></td><td><span style=white-space:pre-wrap>  9</span></td></tr>\n",
       "\t<tr><td>K12-000291</td><td>1/1/12 </td><td>Owner Surrender</td><td>Dog</td><td><span style=white-space:pre-wrap>Intact  </span></td><td><span style=white-space:pre-wrap>Male  </span></td><td> 2</td><td><span style=white-space:pre-wrap>Normal         </span></td><td><span style=white-space:pre-wrap>Weimaraner Mix               </span></td><td>N</td><td>⋯</td><td>Y</td><td>13</td><td>80</td><td>Sporting</td><td><span style=white-space:pre-wrap>Fawn &amp; White      </span></td><td>47.00</td><td><span style=white-space:pre-wrap>Heartworm Positive         </span></td><td> 1/26/12</td><td>Humane Euthanasia</td><td> 25</td></tr>\n",
       "\t<tr><td>K12-000384</td><td>1/8/12 </td><td>Stray          </td><td>Dog</td><td>Spayed  </td><td>Female</td><td> 1</td><td>Normal         </td><td>Chihuahua Sh Mix             </td><td>N</td><td>⋯</td><td>N</td><td>18</td><td> 6</td><td>Toy     </td><td>White             </td><td>10.00</td><td>Heartworm Negative         </td><td> 1/21/12</td><td>Transfer         </td><td> 13</td></tr>\n",
       "\t<tr><td>K12-000416</td><td>1/8/12 </td><td><span style=white-space:pre-wrap>Public Assist  </span></td><td>Dog</td><td><span style=white-space:pre-wrap>Spayed  </span></td><td>Female</td><td> 1</td><td>Injured or Sick</td><td><span style=white-space:pre-wrap>Chihuahua Sh Mix             </span></td><td>N</td><td>⋯</td><td>N</td><td>18</td><td> 6</td><td><span style=white-space:pre-wrap>Toy     </span></td><td><span style=white-space:pre-wrap>Black &amp; White     </span></td><td> 6.00</td><td><span style=white-space:pre-wrap>No Lab Test                </span></td><td> 1/20/12</td><td><span style=white-space:pre-wrap>Return to Owner  </span></td><td> 12</td></tr>\n",
       "\t<tr><td>K12-000497</td><td>1/8/12 </td><td><span style=white-space:pre-wrap>Stray          </span></td><td>Dog</td><td><span style=white-space:pre-wrap>Spayed  </span></td><td>Female</td><td> 6</td><td><span style=white-space:pre-wrap>Normal         </span></td><td><span style=white-space:pre-wrap>Chihuahua Sh Mix             </span></td><td>N</td><td>⋯</td><td>N</td><td>18</td><td> 6</td><td><span style=white-space:pre-wrap>Toy     </span></td><td><span style=white-space:pre-wrap>Tan &amp; White       </span></td><td> 9.50</td><td><span style=white-space:pre-wrap>Heartworm Negative         </span></td><td> 1/22/12</td><td><span style=white-space:pre-wrap>Adoption         </span></td><td> 14</td></tr>\n",
       "\t<tr><td>K12-000498</td><td>1/8/12 </td><td><span style=white-space:pre-wrap>Stray          </span></td><td>Dog</td><td>Neutered</td><td><span style=white-space:pre-wrap>Male  </span></td><td> 1</td><td><span style=white-space:pre-wrap>Normal         </span></td><td><span style=white-space:pre-wrap>Fox Terrier Smooth Mix       </span></td><td>N</td><td>⋯</td><td>N</td><td>15</td><td>20</td><td>Terrier </td><td><span style=white-space:pre-wrap>White &amp; Red       </span></td><td>16.50</td><td><span style=white-space:pre-wrap>Heartworm Negative         </span></td><td> 1/19/12</td><td><span style=white-space:pre-wrap>Adoption         </span></td><td> 11</td></tr>\n",
       "\t<tr><td>K12-000599</td><td>1/8/12 </td><td><span style=white-space:pre-wrap>Stray          </span></td><td>Dog</td><td><span style=white-space:pre-wrap>Spayed  </span></td><td>Female</td><td> 1</td><td><span style=white-space:pre-wrap>Normal         </span></td><td><span style=white-space:pre-wrap>Blue Lacy Mix                </span></td><td>N</td><td>⋯</td><td>Y</td><td>15</td><td>35</td><td><span style=white-space:pre-wrap>Hound   </span></td><td><span style=white-space:pre-wrap>Tan &amp; White       </span></td><td>46.00</td><td><span style=white-space:pre-wrap>Heartworm Negative         </span></td><td> 1/20/12</td><td><span style=white-space:pre-wrap>Adoption         </span></td><td> 12</td></tr>\n",
       "\t<tr><td>K12-000616</td><td>1/8/12 </td><td><span style=white-space:pre-wrap>Stray          </span></td><td>Dog</td><td>Neutered</td><td><span style=white-space:pre-wrap>Male  </span></td><td> 8</td><td><span style=white-space:pre-wrap>Normal         </span></td><td><span style=white-space:pre-wrap>Beagle Mix                   </span></td><td>N</td><td>⋯</td><td>Y</td><td>15</td><td>35</td><td><span style=white-space:pre-wrap>Hound   </span></td><td><span style=white-space:pre-wrap>White &amp; Black     </span></td><td>34.00</td><td><span style=white-space:pre-wrap>Heartworm Positive         </span></td><td> 1/19/12</td><td><span style=white-space:pre-wrap>Transfer         </span></td><td> 11</td></tr>\n",
       "\t<tr><td>K12-000642</td><td>1/15/12</td><td>Owner Surrender</td><td>Cat</td><td>Spayed  </td><td>Female</td><td>15</td><td>Normal         </td><td>Domestic Sh Mix              </td><td> </td><td>⋯</td><td> </td><td>NA</td><td>NA</td><td>        </td><td>Black             </td><td> 9.80</td><td>FeLV Negative, FIV Negative</td><td> 1/24/12</td><td>Adoption         </td><td>  9</td></tr>\n",
       "\t<tr><td>K12-000653</td><td>1/15/12</td><td>Stray          </td><td>Cat</td><td>Neutered</td><td>Male  </td><td> 4</td><td>Normal         </td><td>Maine Coon Mix               </td><td> </td><td>⋯</td><td> </td><td>NA</td><td>NA</td><td>        </td><td>Blue              </td><td>13.00</td><td>FeLV Negative, FIV Positive</td><td> 1/26/12</td><td>Return to Owner  </td><td> 11</td></tr>\n",
       "\t<tr><td>K12-000712</td><td>1/15/12</td><td>Owner Surrender</td><td>Dog</td><td><span style=white-space:pre-wrap>Spayed  </span></td><td>Female</td><td> 5</td><td><span style=white-space:pre-wrap>Normal         </span></td><td><span style=white-space:pre-wrap>Beagle &amp; Basset Hound        </span></td><td>N</td><td>⋯</td><td>Y</td><td>15</td><td>35</td><td><span style=white-space:pre-wrap>Hound   </span></td><td><span style=white-space:pre-wrap>Tricolor          </span></td><td>62.00</td><td><span style=white-space:pre-wrap>Heartworm Positive         </span></td><td> 1/17/12</td><td><span style=white-space:pre-wrap>Transfer         </span></td><td><span style=white-space:pre-wrap>  2</span></td></tr>\n",
       "\t<tr><td>K12-000798</td><td>1/15/12</td><td>Owner Surrender</td><td>Cat</td><td>Spayed  </td><td>Female</td><td> 4</td><td>Normal         </td><td>Domestic Sh Mix              </td><td> </td><td>⋯</td><td> </td><td>NA</td><td>NA</td><td>        </td><td>Tortie            </td><td> 9.00</td><td>FeLV Negative, FIV Negative</td><td> 3/30/12</td><td>Transfer         </td><td> 75</td></tr>\n",
       "\t<tr><td>K12-000804</td><td>1/15/12</td><td><span style=white-space:pre-wrap>Stray          </span></td><td>Dog</td><td><span style=white-space:pre-wrap>Spayed  </span></td><td>Female</td><td> 3</td><td><span style=white-space:pre-wrap>Normal         </span></td><td><span style=white-space:pre-wrap>Pit Bull                     </span></td><td>N</td><td>⋯</td><td>Y</td><td>14</td><td>90</td><td>Terrier </td><td>Br Brindle &amp; White</td><td>48.25</td><td><span style=white-space:pre-wrap>Heartworm Negative         </span></td><td> 4/16/12</td><td><span style=white-space:pre-wrap>Adoption         </span></td><td> 92</td></tr>\n",
       "\t<tr><td>K12-000893</td><td>1/15/12</td><td>Owner Surrender</td><td>Cat</td><td>Spayed  </td><td>Female</td><td> 2</td><td>Normal         </td><td>Domestic Sh Mix              </td><td> </td><td>⋯</td><td> </td><td>NA</td><td>NA</td><td>        </td><td>Brn Tabby         </td><td>10.50</td><td>FeLV Negative, FIV Positive</td><td> 2/12/12</td><td>Adoption         </td><td> 28</td></tr>\n",
       "\t<tr><td>K12-000903</td><td>1/15/12</td><td>Stray          </td><td>Cat</td><td>Neutered</td><td>Male  </td><td> 0</td><td>Normal         </td><td>Domestic Sh Mix              </td><td> </td><td>⋯</td><td> </td><td>NA</td><td>NA</td><td>        </td><td>Black             </td><td> 4.50</td><td>FeLV Negative, FIV Positive</td><td> 2/12/12</td><td>Adoption         </td><td> 28</td></tr>\n",
       "\t<tr><td>K12-000957</td><td>1/15/12</td><td>Owner Surrender</td><td>Dog</td><td>Neutered</td><td>Male  </td><td> 3</td><td>Normal         </td><td>Pit Bull Mix                 </td><td>N</td><td>⋯</td><td>Y</td><td>14</td><td>90</td><td>Terrier </td><td>Blue              </td><td>55.30</td><td>Heartworm Negative         </td><td> 1/31/12</td><td>Adoption         </td><td> 16</td></tr>\n",
       "\t<tr><td>K12-000967</td><td>1/22/12</td><td><span style=white-space:pre-wrap>Stray          </span></td><td>Dog</td><td><span style=white-space:pre-wrap>Spayed  </span></td><td>Female</td><td> 7</td><td><span style=white-space:pre-wrap>Normal         </span></td><td><span style=white-space:pre-wrap>Pit Bull &amp; Rottweiler        </span></td><td>N</td><td>⋯</td><td>Y</td><td>14</td><td>90</td><td>Terrier </td><td>Br Brindle &amp; White</td><td>57.00</td><td><span style=white-space:pre-wrap>Heartworm Negative         </span></td><td> 1/22/12</td><td><span style=white-space:pre-wrap>Return to Owner  </span></td><td><span style=white-space:pre-wrap>  0</span></td></tr>\n",
       "\t<tr><td>K12-000975</td><td>1/22/12</td><td><span style=white-space:pre-wrap>Stray          </span></td><td>Cat</td><td>Neutered</td><td><span style=white-space:pre-wrap>Male  </span></td><td> 2</td><td>Injured or Sick</td><td><span style=white-space:pre-wrap>Domestic Sh Mix              </span></td><td> </td><td>⋯</td><td> </td><td>NA</td><td>NA</td><td><span style=white-space:pre-wrap>        </span></td><td>Brn Tabby &amp; White </td><td> 6.30</td><td>FeLV Negative, FIV Negative</td><td> 1/22/12</td><td><span style=white-space:pre-wrap>Return to Owner  </span></td><td><span style=white-space:pre-wrap>  0</span></td></tr>\n",
       "\t<tr><td>K12-001015</td><td>1/22/12</td><td><span style=white-space:pre-wrap>Stray          </span></td><td>Dog</td><td><span style=white-space:pre-wrap>Spayed  </span></td><td>Female</td><td> 2</td><td><span style=white-space:pre-wrap>Normal         </span></td><td><span style=white-space:pre-wrap>Rhod Ridgeback Mix           </span></td><td>N</td><td>⋯</td><td>Y</td><td>12</td><td>85</td><td><span style=white-space:pre-wrap>Hound   </span></td><td><span style=white-space:pre-wrap>Red &amp; Black       </span></td><td>57.00</td><td><span style=white-space:pre-wrap>Heartworm Negative         </span></td><td> 2/9/12 </td><td><span style=white-space:pre-wrap>Transfer         </span></td><td> 18</td></tr>\n",
       "\t<tr><td>K12-001062</td><td>1/22/12</td><td>Owner Surrender</td><td>Cat</td><td>Spayed  </td><td>Female</td><td> 9</td><td>Normal         </td><td>Domestic Sh Mix              </td><td> </td><td>⋯</td><td> </td><td>NA</td><td>NA</td><td>        </td><td>Brn Tabby         </td><td> 6.75</td><td>FeLV Negative, FIV Negative</td><td> 8/9/12 </td><td>Humane Euthanasia</td><td>200</td></tr>\n",
       "\t<tr><td>K12-001080</td><td>1/22/12</td><td><span style=white-space:pre-wrap>Stray          </span></td><td>Dog</td><td>Neutered</td><td><span style=white-space:pre-wrap>Male  </span></td><td> 7</td><td><span style=white-space:pre-wrap>Normal         </span></td><td><span style=white-space:pre-wrap>Chihuahua Sh Mix             </span></td><td>N</td><td>⋯</td><td>N</td><td>18</td><td> 6</td><td><span style=white-space:pre-wrap>Toy     </span></td><td><span style=white-space:pre-wrap>Brown &amp; White     </span></td><td> 4.30</td><td><span style=white-space:pre-wrap>Heartworm Positive         </span></td><td> 2/1/12 </td><td><span style=white-space:pre-wrap>Return to Owner  </span></td><td> 10</td></tr>\n",
       "\t<tr><td>K12-001092</td><td>1/22/12</td><td><span style=white-space:pre-wrap>Stray          </span></td><td>Dog</td><td><span style=white-space:pre-wrap>Spayed  </span></td><td>Female</td><td> 3</td><td><span style=white-space:pre-wrap>Normal         </span></td><td><span style=white-space:pre-wrap>Pit Bull                     </span></td><td>N</td><td>⋯</td><td>Y</td><td>14</td><td>90</td><td>Terrier </td><td><span style=white-space:pre-wrap>White &amp; Tan       </span></td><td>43.00</td><td><span style=white-space:pre-wrap>Heartworm Negative         </span></td><td> 1/25/12</td><td><span style=white-space:pre-wrap>Return to Owner  </span></td><td><span style=white-space:pre-wrap>  3</span></td></tr>\n",
       "\t<tr><td>K12-001109</td><td>1/22/12</td><td><span style=white-space:pre-wrap>Stray          </span></td><td>Dog</td><td>Neutered</td><td><span style=white-space:pre-wrap>Male  </span></td><td> 5</td><td><span style=white-space:pre-wrap>Normal         </span></td><td><span style=white-space:pre-wrap>Yorkshire Terr Mix           </span></td><td>N</td><td>⋯</td><td>Y</td><td>15</td><td> 7</td><td>Terrier </td><td><span style=white-space:pre-wrap>Silver &amp; Tan      </span></td><td>15.30</td><td><span style=white-space:pre-wrap>Heartworm Negative         </span></td><td> 1/31/12</td><td><span style=white-space:pre-wrap>Adoption         </span></td><td><span style=white-space:pre-wrap>  9</span></td></tr>\n",
       "\t<tr><td>K12-001213</td><td>1/22/12</td><td>Owner Surrender</td><td>Dog</td><td>Neutered</td><td><span style=white-space:pre-wrap>Male  </span></td><td> 0</td><td><span style=white-space:pre-wrap>Normal         </span></td><td><span style=white-space:pre-wrap>Chihuahua Sh Mix             </span></td><td>N</td><td>⋯</td><td>N</td><td>18</td><td> 6</td><td><span style=white-space:pre-wrap>Toy     </span></td><td><span style=white-space:pre-wrap>Red &amp; Black       </span></td><td>12.30</td><td><span style=white-space:pre-wrap>No Lab Test                </span></td><td> 2/6/12 </td><td><span style=white-space:pre-wrap>Adoption         </span></td><td> 15</td></tr>\n",
       "\t<tr><td>K12-001228</td><td>1/22/12</td><td><span style=white-space:pre-wrap>Stray          </span></td><td>Dog</td><td>Neutered</td><td><span style=white-space:pre-wrap>Male  </span></td><td> 2</td><td><span style=white-space:pre-wrap>Normal         </span></td><td><span style=white-space:pre-wrap>Pit Bull                     </span></td><td>N</td><td>⋯</td><td>Y</td><td>14</td><td>90</td><td>Terrier </td><td><span style=white-space:pre-wrap>White &amp; Red       </span></td><td>47.50</td><td><span style=white-space:pre-wrap>Heartworm Positive         </span></td><td> 3/17/12</td><td><span style=white-space:pre-wrap>Transfer         </span></td><td> 55</td></tr>\n",
       "\t<tr><td>⋮</td><td>⋮</td><td>⋮</td><td>⋮</td><td>⋮</td><td>⋮</td><td>⋮</td><td>⋮</td><td>⋮</td><td>⋮</td><td>⋱</td><td>⋮</td><td>⋮</td><td>⋮</td><td>⋮</td><td>⋮</td><td>⋮</td><td>⋮</td><td>⋮</td><td>⋮</td><td>⋮</td></tr>\n",
       "\t<tr><td>K12-021864</td><td>12/9/12 </td><td><span style=white-space:pre-wrap>Stray          </span></td><td>Dog</td><td><span style=white-space:pre-wrap>Spayed  </span></td><td>Female</td><td>8</td><td><span style=white-space:pre-wrap>Normal         </span></td><td><span style=white-space:pre-wrap>Labrador Retr Mix       </span></td><td>N</td><td>⋯</td><td>Y</td><td>12</td><td>79</td><td><span style=white-space:pre-wrap>Sporting    </span></td><td><span style=white-space:pre-wrap>Black &amp; White    </span></td><td>94.00</td><td><span style=white-space:pre-wrap>No Lab Test                </span></td><td> 12/12/12</td><td><span style=white-space:pre-wrap>Return to Owner  </span></td><td> 3</td></tr>\n",
       "\t<tr><td>K12-021903</td><td>12/9/12 </td><td>Stray          </td><td>Dog</td><td>Spayed  </td><td>Female</td><td>1</td><td>Normal         </td><td>Germ Shepherd Mix       </td><td>N</td><td>⋯</td><td>Y</td><td>12</td><td>88</td><td>Working     </td><td>White            </td><td>49.00</td><td>Heartworm Negative         </td><td> 12/17/12</td><td>Adoption         </td><td> 8</td></tr>\n",
       "\t<tr><td>K12-021908</td><td>12/9/12 </td><td><span style=white-space:pre-wrap>Stray          </span></td><td>Dog</td><td><span style=white-space:pre-wrap>Spayed  </span></td><td>Female</td><td>1</td><td><span style=white-space:pre-wrap>Normal         </span></td><td><span style=white-space:pre-wrap>Manchester Terr Mix     </span></td><td>Y</td><td>⋯</td><td>N</td><td>15</td><td>22</td><td><span style=white-space:pre-wrap>Terrier     </span></td><td><span style=white-space:pre-wrap>Black &amp; Brown    </span></td><td>18.00</td><td><span style=white-space:pre-wrap>Heartworm Negative         </span></td><td> 12/16/12</td><td><span style=white-space:pre-wrap>Adoption         </span></td><td> 7</td></tr>\n",
       "\t<tr><td>K12-021997</td><td>12/9/12 </td><td>Public Assist  </td><td>Dog</td><td>Neutered</td><td>Male  </td><td>3</td><td>Normal         </td><td>Catahoula               </td><td>N</td><td>⋯</td><td>Y</td><td>13</td><td>80</td><td>Herding     </td><td>Blue Merle       </td><td>45.50</td><td>Heartworm Negative         </td><td> 12/20/12</td><td>Return to Owner  </td><td>11</td></tr>\n",
       "\t<tr><td>K12-022013</td><td>12/9/12 </td><td><span style=white-space:pre-wrap>Stray          </span></td><td>Dog</td><td>Neutered</td><td><span style=white-space:pre-wrap>Male  </span></td><td>3</td><td><span style=white-space:pre-wrap>Normal         </span></td><td><span style=white-space:pre-wrap>Dandie Dinmont Mix      </span></td><td>Y</td><td>⋯</td><td>Y</td><td>15</td><td>24</td><td><span style=white-space:pre-wrap>Terrier     </span></td><td><span style=white-space:pre-wrap>Gray &amp; Cream     </span></td><td>20.50</td><td><span style=white-space:pre-wrap>Heartworm Negative         </span></td><td> 12/13/12</td><td><span style=white-space:pre-wrap>Return to Owner  </span></td><td> 4</td></tr>\n",
       "\t<tr><td>K12-022020</td><td>12/9/12 </td><td>Owner Surrender</td><td>Cat</td><td>Spayed  </td><td>Female</td><td>0</td><td>Normal         </td><td>Domestic Sh Mix         </td><td> </td><td>⋯</td><td> </td><td>NA</td><td>NA</td><td>            </td><td>Black            </td><td> 4.25</td><td>FeLV Negative, FIV Negative</td><td> 12/23/12</td><td>Transfer         </td><td>14</td></tr>\n",
       "\t<tr><td>K12-022077</td><td>12/9/12 </td><td>Owner Surrender</td><td>Cat</td><td>Neutered</td><td>Male  </td><td>6</td><td>Normal         </td><td>Domestic Sh Mix         </td><td> </td><td>⋯</td><td> </td><td>NA</td><td>NA</td><td>            </td><td>Brn Tabby        </td><td> 9.00</td><td>FeLV Negative, FIV Negative</td><td> 1/18/13 </td><td>Adoption         </td><td>40</td></tr>\n",
       "\t<tr><td>K12-022120</td><td>12/9/12 </td><td><span style=white-space:pre-wrap>Stray          </span></td><td>Dog</td><td><span style=white-space:pre-wrap>Spayed  </span></td><td>Female</td><td>4</td><td><span style=white-space:pre-wrap>Normal         </span></td><td><span style=white-space:pre-wrap>Chihuahua Sh Mix        </span></td><td>N</td><td>⋯</td><td>N</td><td>18</td><td> 6</td><td><span style=white-space:pre-wrap>Toy         </span></td><td>Chocolate &amp; White</td><td> 6.25</td><td><span style=white-space:pre-wrap>Heartworm Negative         </span></td><td> 12/20/12</td><td><span style=white-space:pre-wrap>Adoption         </span></td><td>11</td></tr>\n",
       "\t<tr><td>K12-022168</td><td>12/9/12 </td><td><span style=white-space:pre-wrap>Stray          </span></td><td>Cat</td><td><span style=white-space:pre-wrap>Spayed  </span></td><td>Female</td><td>0</td><td><span style=white-space:pre-wrap>Normal         </span></td><td><span style=white-space:pre-wrap>Domestic Sh Mix         </span></td><td> </td><td>⋯</td><td> </td><td>NA</td><td>NA</td><td><span style=white-space:pre-wrap>            </span></td><td><span style=white-space:pre-wrap>White &amp; Blue     </span></td><td> 4.00</td><td>FeLV Negative, FIV Negative</td><td> 12/21/12</td><td><span style=white-space:pre-wrap>Adoption         </span></td><td>12</td></tr>\n",
       "\t<tr><td>K12-022216</td><td>12/16/12</td><td><span style=white-space:pre-wrap>Stray          </span></td><td>Dog</td><td><span style=white-space:pre-wrap>Intact  </span></td><td>Female</td><td>8</td><td><span style=white-space:pre-wrap>Normal         </span></td><td>Pit Bull &amp; Labrador Retr</td><td>N</td><td>⋯</td><td>Y</td><td>14</td><td>90</td><td><span style=white-space:pre-wrap>Terrier     </span></td><td><span style=white-space:pre-wrap>Black            </span></td><td>60.50</td><td><span style=white-space:pre-wrap>Heartworm Negative         </span></td><td> 1/12/13 </td><td><span style=white-space:pre-wrap>Adoption         </span></td><td>27</td></tr>\n",
       "\t<tr><td>K12-022328</td><td>12/16/12</td><td>Stray          </td><td>Dog</td><td>Neutered</td><td>Male  </td><td>2</td><td>Normal         </td><td>Yorkshire Terr Mix      </td><td>N</td><td>⋯</td><td>Y</td><td>15</td><td> 7</td><td>Terrier     </td><td>Brown            </td><td> 8.50</td><td>Heartworm Negative         </td><td> 12/23/12</td><td>Adoption         </td><td> 7</td></tr>\n",
       "\t<tr><td>K12-022363</td><td>12/16/12</td><td><span style=white-space:pre-wrap>Public Assist  </span></td><td>Dog</td><td>Neutered</td><td><span style=white-space:pre-wrap>Male  </span></td><td>2</td><td><span style=white-space:pre-wrap>Normal         </span></td><td><span style=white-space:pre-wrap>Canaan Dog Mix          </span></td><td>N</td><td>⋯</td><td>Y</td><td>16</td><td>55</td><td><span style=white-space:pre-wrap>Herding     </span></td><td><span style=white-space:pre-wrap>Brown &amp; Tan      </span></td><td>51.00</td><td><span style=white-space:pre-wrap>No Lab Test                </span></td><td> 12/27/12</td><td><span style=white-space:pre-wrap>Return to Owner  </span></td><td>11</td></tr>\n",
       "\t<tr><td>K12-022379</td><td>12/16/12</td><td>Stray          </td><td>Dog</td><td>Spayed  </td><td>Female</td><td>3</td><td>Normal         </td><td>Norfolk Terrier Mix     </td><td>Y</td><td>⋯</td><td>Y</td><td>15</td><td>11</td><td>Terrier     </td><td>Cream            </td><td>10.00</td><td>Heartworm Negative         </td><td> 12/23/12</td><td>Adoption         </td><td> 7</td></tr>\n",
       "\t<tr><td>K12-022399</td><td>12/16/12</td><td><span style=white-space:pre-wrap>Stray          </span></td><td>Dog</td><td>Neutered</td><td><span style=white-space:pre-wrap>Male  </span></td><td>2</td><td><span style=white-space:pre-wrap>Normal         </span></td><td><span style=white-space:pre-wrap>Poodle Min Mix          </span></td><td>N</td><td>⋯</td><td>Y</td><td>14</td><td> 9</td><td><span style=white-space:pre-wrap>Toy         </span></td><td><span style=white-space:pre-wrap>White &amp; Black    </span></td><td> 9.25</td><td><span style=white-space:pre-wrap>Heartworm Negative         </span></td><td> 12/24/12</td><td><span style=white-space:pre-wrap>Adoption         </span></td><td> 8</td></tr>\n",
       "\t<tr><td>K12-022434</td><td>12/16/12</td><td>Owner Surrender</td><td>Dog</td><td>Neutered</td><td>Male  </td><td>7</td><td>Normal         </td><td>Lhasa Apso Mix          </td><td>N</td><td>⋯</td><td>Y</td><td>20</td><td>19</td><td>Non-Sporting</td><td>Tan              </td><td>29.00</td><td>Heartworm Negative         </td><td> 12/26/12</td><td>Transfer         </td><td>10</td></tr>\n",
       "\t<tr><td>K12-022495</td><td>12/16/12</td><td>Stray          </td><td>Dog</td><td>Spayed  </td><td>Female</td><td>4</td><td>Normal         </td><td>Maltese Mix             </td><td>N</td><td>⋯</td><td>Y</td><td>14</td><td> 7</td><td>Toy         </td><td>White            </td><td> 8.50</td><td>Heartworm Negative         </td><td> 12/27/12</td><td>Adoption         </td><td>11</td></tr>\n",
       "\t<tr><td>K12-022496</td><td>12/16/12</td><td>Owner Surrender</td><td>Dog</td><td>Intact  </td><td>Female</td><td>0</td><td>Normal         </td><td>Chihuahua Sh Mix        </td><td>N</td><td>⋯</td><td>N</td><td>18</td><td> 6</td><td>Toy         </td><td>Tan              </td><td> 8.75</td><td>Heartworm Negative         </td><td> 12/23/12</td><td>Transfer         </td><td> 7</td></tr>\n",
       "\t<tr><td>K12-022502</td><td>12/16/12</td><td><span style=white-space:pre-wrap>Stray          </span></td><td>Dog</td><td><span style=white-space:pre-wrap>Spayed  </span></td><td>Female</td><td>5</td><td><span style=white-space:pre-wrap>Normal         </span></td><td>West Highland &amp; Pit Bull</td><td>N</td><td>⋯</td><td>Y</td><td>14</td><td>20</td><td><span style=white-space:pre-wrap>Terrier     </span></td><td><span style=white-space:pre-wrap>Bl Brindle       </span></td><td>45.00</td><td><span style=white-space:pre-wrap>No Lab Test                </span></td><td> 12/22/12</td><td><span style=white-space:pre-wrap>Return to Owner  </span></td><td> 6</td></tr>\n",
       "\t<tr><td>K12-022529</td><td>12/16/12</td><td>Stray          </td><td>Cat</td><td>Spayed  </td><td>Female</td><td>0</td><td>Normal         </td><td>Domestic Sh Mix         </td><td> </td><td>⋯</td><td> </td><td>NA</td><td>NA</td><td>            </td><td>Black            </td><td> 3.25</td><td>No Lab Test                </td><td> 12/26/12</td><td>Transfer         </td><td>10</td></tr>\n",
       "\t<tr><td>K12-022532</td><td>12/16/12</td><td><span style=white-space:pre-wrap>Stray          </span></td><td>Dog</td><td>Neutered</td><td><span style=white-space:pre-wrap>Male  </span></td><td>2</td><td><span style=white-space:pre-wrap>Normal         </span></td><td><span style=white-space:pre-wrap>Dachshund               </span></td><td>Y</td><td>⋯</td><td>N</td><td>14</td><td>28</td><td><span style=white-space:pre-wrap>Hound       </span></td><td><span style=white-space:pre-wrap>Tan &amp; White      </span></td><td>14.25</td><td><span style=white-space:pre-wrap>Heartworm Negative         </span></td><td><span style=white-space:pre-wrap> 1/4/13  </span></td><td><span style=white-space:pre-wrap>Transfer         </span></td><td>19</td></tr>\n",
       "\t<tr><td>K12-022538</td><td>12/16/12</td><td><span style=white-space:pre-wrap>Stray          </span></td><td>Dog</td><td>Neutered</td><td><span style=white-space:pre-wrap>Male  </span></td><td>2</td><td><span style=white-space:pre-wrap>Normal         </span></td><td><span style=white-space:pre-wrap>Pit Bull Mix            </span></td><td>N</td><td>⋯</td><td>Y</td><td>14</td><td>90</td><td><span style=white-space:pre-wrap>Terrier     </span></td><td><span style=white-space:pre-wrap>Tan &amp; White      </span></td><td>53.50</td><td><span style=white-space:pre-wrap>Heartworm Positive         </span></td><td> 1/29/13 </td><td><span style=white-space:pre-wrap>Transfer         </span></td><td>44</td></tr>\n",
       "\t<tr><td>K12-022585</td><td>12/23/12</td><td>Stray          </td><td>Dog</td><td>Neutered</td><td>Male  </td><td>8</td><td>Normal         </td><td>Labrador Retr Mix       </td><td>N</td><td>⋯</td><td>Y</td><td>12</td><td>79</td><td>Sporting    </td><td>Yellow           </td><td>82.50</td><td>No Lab Test                </td><td> 12/24/12</td><td>Return to Owner  </td><td> 1</td></tr>\n",
       "\t<tr><td>K12-022595</td><td>12/23/12</td><td><span style=white-space:pre-wrap>Stray          </span></td><td>Dog</td><td>Neutered</td><td><span style=white-space:pre-wrap>Male  </span></td><td>0</td><td><span style=white-space:pre-wrap>Normal         </span></td><td><span style=white-space:pre-wrap>Norfolk Terrier Mix     </span></td><td>Y</td><td>⋯</td><td>Y</td><td>15</td><td>11</td><td><span style=white-space:pre-wrap>Terrier     </span></td><td><span style=white-space:pre-wrap>Cream &amp; White    </span></td><td> 7.50</td><td><span style=white-space:pre-wrap>No Lab Test                </span></td><td> 12/31/12</td><td><span style=white-space:pre-wrap>Adoption         </span></td><td> 8</td></tr>\n",
       "\t<tr><td>K12-022596</td><td>12/23/12</td><td>Owner Surrender</td><td>Dog</td><td><span style=white-space:pre-wrap>Intact  </span></td><td>Female</td><td>1</td><td>Injured or Sick</td><td><span style=white-space:pre-wrap>Shih Tzu Mix            </span></td><td>N</td><td>⋯</td><td>Y</td><td>16</td><td>16</td><td>Non-Sporting</td><td><span style=white-space:pre-wrap>White &amp; Black    </span></td><td> 5.75</td><td><span style=white-space:pre-wrap>No Lab Test                </span></td><td> 12/24/12</td><td><span style=white-space:pre-wrap>Transfer         </span></td><td> 1</td></tr>\n",
       "\t<tr><td>K12-022688</td><td>12/23/12</td><td>Stray          </td><td>Cat</td><td>Neutered</td><td>Male  </td><td>0</td><td>Normal         </td><td>Domestic Sh Mix         </td><td> </td><td>⋯</td><td> </td><td>NA</td><td>NA</td><td>            </td><td>Blue             </td><td> 4.00</td><td>No Lab Test                </td><td> 1/2/13  </td><td>Transfer         </td><td>10</td></tr>\n",
       "\t<tr><td>K12-022689</td><td>12/23/12</td><td>Stray          </td><td>Cat</td><td>Intact  </td><td>Male  </td><td>0</td><td>Normal         </td><td>Domestic Sh Mix         </td><td> </td><td>⋯</td><td> </td><td>NA</td><td>NA</td><td>            </td><td>Crm Tabby        </td><td> 1.75</td><td>FeLV Negative, FIV Negative</td><td> 12/31/12</td><td>Humane Euthanasia</td><td> 8</td></tr>\n",
       "\t<tr><td>K12-022743</td><td>12/23/12</td><td>Owner Surrender</td><td>Cat</td><td><span style=white-space:pre-wrap>Intact  </span></td><td><span style=white-space:pre-wrap>Male  </span></td><td>0</td><td><span style=white-space:pre-wrap>Normal         </span></td><td><span style=white-space:pre-wrap>Domestic Sh Mix         </span></td><td> </td><td>⋯</td><td> </td><td>NA</td><td>NA</td><td><span style=white-space:pre-wrap>            </span></td><td>Brn Tabby &amp; White</td><td> 1.75</td><td>FeLV Negative, FIV Negative</td><td><span style=white-space:pre-wrap> 1/4/13  </span></td><td><span style=white-space:pre-wrap>Transfer         </span></td><td>12</td></tr>\n",
       "\t<tr><td>K12-022814</td><td>12/23/12</td><td>Owner Surrender</td><td>Dog</td><td>Neutered</td><td>Male  </td><td>4</td><td>Injured or Sick</td><td>Bruss Griffon Mix       </td><td>N</td><td>⋯</td><td>Y</td><td>15</td><td>10</td><td>Toy         </td><td>Brown            </td><td>10.50</td><td>No Lab Test                </td><td> 12/29/12</td><td>Humane Euthanasia</td><td> 6</td></tr>\n",
       "\t<tr><td>K12-022885</td><td>12/30/12</td><td>Stray          </td><td>Dog</td><td>Intact  </td><td>Male  </td><td>2</td><td>Normal         </td><td>Poodle Min Mix          </td><td>N</td><td>⋯</td><td>Y</td><td>14</td><td> 9</td><td>Toy         </td><td>White            </td><td>13.50</td><td>Heartworm Negative         </td><td> 1/4/13  </td><td>Return to Owner  </td><td> 5</td></tr>\n",
       "\t<tr><td>K12-022889</td><td>12/30/12</td><td>Stray          </td><td>Dog</td><td>Neutered</td><td>Male  </td><td>2</td><td>Normal         </td><td>Dachshund Mix           </td><td>Y</td><td>⋯</td><td>N</td><td>14</td><td>28</td><td>Hound       </td><td>Red              </td><td>12.00</td><td>Heartworm Negative         </td><td> 1/4/13  </td><td>Adoption         </td><td> 5</td></tr>\n",
       "</tbody>\n",
       "</table>\n"
      ],
      "text/latex": [
       "A data.frame: 473 × 24\n",
       "\\begin{tabular}{lllllllllllllllllllll}\n",
       " Impound.No & Intake.Date & Intake.Type & Animal.Type & Neutered.Status & Sex & Age.Intake & Condition & Breed & Aggressive & ⋯ & Good.with.Kids & Max.Life.Expectancy & Max.Weight & Dog.Group & Color & Weight & Lab.Test & Outcome.Date & Outcome.Type & Days.Shelter\\\\\n",
       " <fct> & <fct> & <fct> & <fct> & <fct> & <fct> & <int> & <fct> & <fct> & <fct> & ⋯ & <fct> & <int> & <int> & <fct> & <fct> & <dbl> & <fct> & <fct> & <fct> & <int>\\\\\n",
       "\\hline\n",
       "\t K12-000031 & 1/1/12  & Stray           & Dog & Spayed   & Female & 10 & Injured or Sick & Chihuahua Sh Mix              & N & ⋯ & N & 18 &  6 & Toy      & Tan \\& White        &  3.30 & Heartworm Negative          &  1/7/12  & Adoption          &   6\\\\\n",
       "\t K12-000037 & 1/1/12  & Stray           & Dog & Intact   & Female &  3 & Normal          & Rat Terrier Mix               & N & ⋯ & Y & 14 & 25 & Terrier  & White \\& Brown      &  7.50 & No Lab Test                 &  1/3/12  & Return to Owner   &   2\\\\\n",
       "\t K12-000108 & 1/1/12  & Stray           & Dog & Intact   & Male   &  2 & Normal          & Pit Bull Mix                  & N & ⋯ & Y & 14 & 90 & Terrier  & Blue \\& White       & 74.00 & Heartworm Negative          &  1/13/12 & Humane Euthanasia &  12\\\\\n",
       "\t K12-000125 & 1/1/12  & Stray           & Dog & Neutered & Male   &  0 & Normal          & Labrador Retr \\& Border Collie & N & ⋯ & Y & 12 & 79 & Sporting & White \\& Black      & 22.00 & No Lab Test                 &  1/8/12  & Adoption          &   7\\\\\n",
       "\t K12-000157 & 1/1/12  & Stray           & Dog & Neutered & Male   &  3 & Injured or Sick & Labrador Retr                 & N & ⋯ & Y & 12 & 79 & Sporting & Black \\& White      & 54.00 & Heartworm Negative          &  4/4/12  & Adoption          &  94\\\\\n",
       "\t K12-000286 & 1/1/12  & Stray           & Dog & Neutered & Male   &  5 & Normal          & Yorkshire Terr                & N & ⋯ & Y & 15 &  7 & Terrier  & Silver \\& Tan       &  4.80 & Heartworm Negative          &  1/10/12 & Return to Owner   &   9\\\\\n",
       "\t K12-000291 & 1/1/12  & Owner Surrender & Dog & Intact   & Male   &  2 & Normal          & Weimaraner Mix                & N & ⋯ & Y & 13 & 80 & Sporting & Fawn \\& White       & 47.00 & Heartworm Positive          &  1/26/12 & Humane Euthanasia &  25\\\\\n",
       "\t K12-000384 & 1/8/12  & Stray           & Dog & Spayed   & Female &  1 & Normal          & Chihuahua Sh Mix              & N & ⋯ & N & 18 &  6 & Toy      & White              & 10.00 & Heartworm Negative          &  1/21/12 & Transfer          &  13\\\\\n",
       "\t K12-000416 & 1/8/12  & Public Assist   & Dog & Spayed   & Female &  1 & Injured or Sick & Chihuahua Sh Mix              & N & ⋯ & N & 18 &  6 & Toy      & Black \\& White      &  6.00 & No Lab Test                 &  1/20/12 & Return to Owner   &  12\\\\\n",
       "\t K12-000497 & 1/8/12  & Stray           & Dog & Spayed   & Female &  6 & Normal          & Chihuahua Sh Mix              & N & ⋯ & N & 18 &  6 & Toy      & Tan \\& White        &  9.50 & Heartworm Negative          &  1/22/12 & Adoption          &  14\\\\\n",
       "\t K12-000498 & 1/8/12  & Stray           & Dog & Neutered & Male   &  1 & Normal          & Fox Terrier Smooth Mix        & N & ⋯ & N & 15 & 20 & Terrier  & White \\& Red        & 16.50 & Heartworm Negative          &  1/19/12 & Adoption          &  11\\\\\n",
       "\t K12-000599 & 1/8/12  & Stray           & Dog & Spayed   & Female &  1 & Normal          & Blue Lacy Mix                 & N & ⋯ & Y & 15 & 35 & Hound    & Tan \\& White        & 46.00 & Heartworm Negative          &  1/20/12 & Adoption          &  12\\\\\n",
       "\t K12-000616 & 1/8/12  & Stray           & Dog & Neutered & Male   &  8 & Normal          & Beagle Mix                    & N & ⋯ & Y & 15 & 35 & Hound    & White \\& Black      & 34.00 & Heartworm Positive          &  1/19/12 & Transfer          &  11\\\\\n",
       "\t K12-000642 & 1/15/12 & Owner Surrender & Cat & Spayed   & Female & 15 & Normal          & Domestic Sh Mix               &   & ⋯ &   & NA & NA &          & Black              &  9.80 & FeLV Negative, FIV Negative &  1/24/12 & Adoption          &   9\\\\\n",
       "\t K12-000653 & 1/15/12 & Stray           & Cat & Neutered & Male   &  4 & Normal          & Maine Coon Mix                &   & ⋯ &   & NA & NA &          & Blue               & 13.00 & FeLV Negative, FIV Positive &  1/26/12 & Return to Owner   &  11\\\\\n",
       "\t K12-000712 & 1/15/12 & Owner Surrender & Dog & Spayed   & Female &  5 & Normal          & Beagle \\& Basset Hound         & N & ⋯ & Y & 15 & 35 & Hound    & Tricolor           & 62.00 & Heartworm Positive          &  1/17/12 & Transfer          &   2\\\\\n",
       "\t K12-000798 & 1/15/12 & Owner Surrender & Cat & Spayed   & Female &  4 & Normal          & Domestic Sh Mix               &   & ⋯ &   & NA & NA &          & Tortie             &  9.00 & FeLV Negative, FIV Negative &  3/30/12 & Transfer          &  75\\\\\n",
       "\t K12-000804 & 1/15/12 & Stray           & Dog & Spayed   & Female &  3 & Normal          & Pit Bull                      & N & ⋯ & Y & 14 & 90 & Terrier  & Br Brindle \\& White & 48.25 & Heartworm Negative          &  4/16/12 & Adoption          &  92\\\\\n",
       "\t K12-000893 & 1/15/12 & Owner Surrender & Cat & Spayed   & Female &  2 & Normal          & Domestic Sh Mix               &   & ⋯ &   & NA & NA &          & Brn Tabby          & 10.50 & FeLV Negative, FIV Positive &  2/12/12 & Adoption          &  28\\\\\n",
       "\t K12-000903 & 1/15/12 & Stray           & Cat & Neutered & Male   &  0 & Normal          & Domestic Sh Mix               &   & ⋯ &   & NA & NA &          & Black              &  4.50 & FeLV Negative, FIV Positive &  2/12/12 & Adoption          &  28\\\\\n",
       "\t K12-000957 & 1/15/12 & Owner Surrender & Dog & Neutered & Male   &  3 & Normal          & Pit Bull Mix                  & N & ⋯ & Y & 14 & 90 & Terrier  & Blue               & 55.30 & Heartworm Negative          &  1/31/12 & Adoption          &  16\\\\\n",
       "\t K12-000967 & 1/22/12 & Stray           & Dog & Spayed   & Female &  7 & Normal          & Pit Bull \\& Rottweiler         & N & ⋯ & Y & 14 & 90 & Terrier  & Br Brindle \\& White & 57.00 & Heartworm Negative          &  1/22/12 & Return to Owner   &   0\\\\\n",
       "\t K12-000975 & 1/22/12 & Stray           & Cat & Neutered & Male   &  2 & Injured or Sick & Domestic Sh Mix               &   & ⋯ &   & NA & NA &          & Brn Tabby \\& White  &  6.30 & FeLV Negative, FIV Negative &  1/22/12 & Return to Owner   &   0\\\\\n",
       "\t K12-001015 & 1/22/12 & Stray           & Dog & Spayed   & Female &  2 & Normal          & Rhod Ridgeback Mix            & N & ⋯ & Y & 12 & 85 & Hound    & Red \\& Black        & 57.00 & Heartworm Negative          &  2/9/12  & Transfer          &  18\\\\\n",
       "\t K12-001062 & 1/22/12 & Owner Surrender & Cat & Spayed   & Female &  9 & Normal          & Domestic Sh Mix               &   & ⋯ &   & NA & NA &          & Brn Tabby          &  6.75 & FeLV Negative, FIV Negative &  8/9/12  & Humane Euthanasia & 200\\\\\n",
       "\t K12-001080 & 1/22/12 & Stray           & Dog & Neutered & Male   &  7 & Normal          & Chihuahua Sh Mix              & N & ⋯ & N & 18 &  6 & Toy      & Brown \\& White      &  4.30 & Heartworm Positive          &  2/1/12  & Return to Owner   &  10\\\\\n",
       "\t K12-001092 & 1/22/12 & Stray           & Dog & Spayed   & Female &  3 & Normal          & Pit Bull                      & N & ⋯ & Y & 14 & 90 & Terrier  & White \\& Tan        & 43.00 & Heartworm Negative          &  1/25/12 & Return to Owner   &   3\\\\\n",
       "\t K12-001109 & 1/22/12 & Stray           & Dog & Neutered & Male   &  5 & Normal          & Yorkshire Terr Mix            & N & ⋯ & Y & 15 &  7 & Terrier  & Silver \\& Tan       & 15.30 & Heartworm Negative          &  1/31/12 & Adoption          &   9\\\\\n",
       "\t K12-001213 & 1/22/12 & Owner Surrender & Dog & Neutered & Male   &  0 & Normal          & Chihuahua Sh Mix              & N & ⋯ & N & 18 &  6 & Toy      & Red \\& Black        & 12.30 & No Lab Test                 &  2/6/12  & Adoption          &  15\\\\\n",
       "\t K12-001228 & 1/22/12 & Stray           & Dog & Neutered & Male   &  2 & Normal          & Pit Bull                      & N & ⋯ & Y & 14 & 90 & Terrier  & White \\& Red        & 47.50 & Heartworm Positive          &  3/17/12 & Transfer          &  55\\\\\n",
       "\t ⋮ & ⋮ & ⋮ & ⋮ & ⋮ & ⋮ & ⋮ & ⋮ & ⋮ & ⋮ & ⋱ & ⋮ & ⋮ & ⋮ & ⋮ & ⋮ & ⋮ & ⋮ & ⋮ & ⋮ & ⋮\\\\\n",
       "\t K12-021864 & 12/9/12  & Stray           & Dog & Spayed   & Female & 8 & Normal          & Labrador Retr Mix        & N & ⋯ & Y & 12 & 79 & Sporting     & Black \\& White     & 94.00 & No Lab Test                 &  12/12/12 & Return to Owner   &  3\\\\\n",
       "\t K12-021903 & 12/9/12  & Stray           & Dog & Spayed   & Female & 1 & Normal          & Germ Shepherd Mix        & N & ⋯ & Y & 12 & 88 & Working      & White             & 49.00 & Heartworm Negative          &  12/17/12 & Adoption          &  8\\\\\n",
       "\t K12-021908 & 12/9/12  & Stray           & Dog & Spayed   & Female & 1 & Normal          & Manchester Terr Mix      & Y & ⋯ & N & 15 & 22 & Terrier      & Black \\& Brown     & 18.00 & Heartworm Negative          &  12/16/12 & Adoption          &  7\\\\\n",
       "\t K12-021997 & 12/9/12  & Public Assist   & Dog & Neutered & Male   & 3 & Normal          & Catahoula                & N & ⋯ & Y & 13 & 80 & Herding      & Blue Merle        & 45.50 & Heartworm Negative          &  12/20/12 & Return to Owner   & 11\\\\\n",
       "\t K12-022013 & 12/9/12  & Stray           & Dog & Neutered & Male   & 3 & Normal          & Dandie Dinmont Mix       & Y & ⋯ & Y & 15 & 24 & Terrier      & Gray \\& Cream      & 20.50 & Heartworm Negative          &  12/13/12 & Return to Owner   &  4\\\\\n",
       "\t K12-022020 & 12/9/12  & Owner Surrender & Cat & Spayed   & Female & 0 & Normal          & Domestic Sh Mix          &   & ⋯ &   & NA & NA &              & Black             &  4.25 & FeLV Negative, FIV Negative &  12/23/12 & Transfer          & 14\\\\\n",
       "\t K12-022077 & 12/9/12  & Owner Surrender & Cat & Neutered & Male   & 6 & Normal          & Domestic Sh Mix          &   & ⋯ &   & NA & NA &              & Brn Tabby         &  9.00 & FeLV Negative, FIV Negative &  1/18/13  & Adoption          & 40\\\\\n",
       "\t K12-022120 & 12/9/12  & Stray           & Dog & Spayed   & Female & 4 & Normal          & Chihuahua Sh Mix         & N & ⋯ & N & 18 &  6 & Toy          & Chocolate \\& White &  6.25 & Heartworm Negative          &  12/20/12 & Adoption          & 11\\\\\n",
       "\t K12-022168 & 12/9/12  & Stray           & Cat & Spayed   & Female & 0 & Normal          & Domestic Sh Mix          &   & ⋯ &   & NA & NA &              & White \\& Blue      &  4.00 & FeLV Negative, FIV Negative &  12/21/12 & Adoption          & 12\\\\\n",
       "\t K12-022216 & 12/16/12 & Stray           & Dog & Intact   & Female & 8 & Normal          & Pit Bull \\& Labrador Retr & N & ⋯ & Y & 14 & 90 & Terrier      & Black             & 60.50 & Heartworm Negative          &  1/12/13  & Adoption          & 27\\\\\n",
       "\t K12-022328 & 12/16/12 & Stray           & Dog & Neutered & Male   & 2 & Normal          & Yorkshire Terr Mix       & N & ⋯ & Y & 15 &  7 & Terrier      & Brown             &  8.50 & Heartworm Negative          &  12/23/12 & Adoption          &  7\\\\\n",
       "\t K12-022363 & 12/16/12 & Public Assist   & Dog & Neutered & Male   & 2 & Normal          & Canaan Dog Mix           & N & ⋯ & Y & 16 & 55 & Herding      & Brown \\& Tan       & 51.00 & No Lab Test                 &  12/27/12 & Return to Owner   & 11\\\\\n",
       "\t K12-022379 & 12/16/12 & Stray           & Dog & Spayed   & Female & 3 & Normal          & Norfolk Terrier Mix      & Y & ⋯ & Y & 15 & 11 & Terrier      & Cream             & 10.00 & Heartworm Negative          &  12/23/12 & Adoption          &  7\\\\\n",
       "\t K12-022399 & 12/16/12 & Stray           & Dog & Neutered & Male   & 2 & Normal          & Poodle Min Mix           & N & ⋯ & Y & 14 &  9 & Toy          & White \\& Black     &  9.25 & Heartworm Negative          &  12/24/12 & Adoption          &  8\\\\\n",
       "\t K12-022434 & 12/16/12 & Owner Surrender & Dog & Neutered & Male   & 7 & Normal          & Lhasa Apso Mix           & N & ⋯ & Y & 20 & 19 & Non-Sporting & Tan               & 29.00 & Heartworm Negative          &  12/26/12 & Transfer          & 10\\\\\n",
       "\t K12-022495 & 12/16/12 & Stray           & Dog & Spayed   & Female & 4 & Normal          & Maltese Mix              & N & ⋯ & Y & 14 &  7 & Toy          & White             &  8.50 & Heartworm Negative          &  12/27/12 & Adoption          & 11\\\\\n",
       "\t K12-022496 & 12/16/12 & Owner Surrender & Dog & Intact   & Female & 0 & Normal          & Chihuahua Sh Mix         & N & ⋯ & N & 18 &  6 & Toy          & Tan               &  8.75 & Heartworm Negative          &  12/23/12 & Transfer          &  7\\\\\n",
       "\t K12-022502 & 12/16/12 & Stray           & Dog & Spayed   & Female & 5 & Normal          & West Highland \\& Pit Bull & N & ⋯ & Y & 14 & 20 & Terrier      & Bl Brindle        & 45.00 & No Lab Test                 &  12/22/12 & Return to Owner   &  6\\\\\n",
       "\t K12-022529 & 12/16/12 & Stray           & Cat & Spayed   & Female & 0 & Normal          & Domestic Sh Mix          &   & ⋯ &   & NA & NA &              & Black             &  3.25 & No Lab Test                 &  12/26/12 & Transfer          & 10\\\\\n",
       "\t K12-022532 & 12/16/12 & Stray           & Dog & Neutered & Male   & 2 & Normal          & Dachshund                & Y & ⋯ & N & 14 & 28 & Hound        & Tan \\& White       & 14.25 & Heartworm Negative          &  1/4/13   & Transfer          & 19\\\\\n",
       "\t K12-022538 & 12/16/12 & Stray           & Dog & Neutered & Male   & 2 & Normal          & Pit Bull Mix             & N & ⋯ & Y & 14 & 90 & Terrier      & Tan \\& White       & 53.50 & Heartworm Positive          &  1/29/13  & Transfer          & 44\\\\\n",
       "\t K12-022585 & 12/23/12 & Stray           & Dog & Neutered & Male   & 8 & Normal          & Labrador Retr Mix        & N & ⋯ & Y & 12 & 79 & Sporting     & Yellow            & 82.50 & No Lab Test                 &  12/24/12 & Return to Owner   &  1\\\\\n",
       "\t K12-022595 & 12/23/12 & Stray           & Dog & Neutered & Male   & 0 & Normal          & Norfolk Terrier Mix      & Y & ⋯ & Y & 15 & 11 & Terrier      & Cream \\& White     &  7.50 & No Lab Test                 &  12/31/12 & Adoption          &  8\\\\\n",
       "\t K12-022596 & 12/23/12 & Owner Surrender & Dog & Intact   & Female & 1 & Injured or Sick & Shih Tzu Mix             & N & ⋯ & Y & 16 & 16 & Non-Sporting & White \\& Black     &  5.75 & No Lab Test                 &  12/24/12 & Transfer          &  1\\\\\n",
       "\t K12-022688 & 12/23/12 & Stray           & Cat & Neutered & Male   & 0 & Normal          & Domestic Sh Mix          &   & ⋯ &   & NA & NA &              & Blue              &  4.00 & No Lab Test                 &  1/2/13   & Transfer          & 10\\\\\n",
       "\t K12-022689 & 12/23/12 & Stray           & Cat & Intact   & Male   & 0 & Normal          & Domestic Sh Mix          &   & ⋯ &   & NA & NA &              & Crm Tabby         &  1.75 & FeLV Negative, FIV Negative &  12/31/12 & Humane Euthanasia &  8\\\\\n",
       "\t K12-022743 & 12/23/12 & Owner Surrender & Cat & Intact   & Male   & 0 & Normal          & Domestic Sh Mix          &   & ⋯ &   & NA & NA &              & Brn Tabby \\& White &  1.75 & FeLV Negative, FIV Negative &  1/4/13   & Transfer          & 12\\\\\n",
       "\t K12-022814 & 12/23/12 & Owner Surrender & Dog & Neutered & Male   & 4 & Injured or Sick & Bruss Griffon Mix        & N & ⋯ & Y & 15 & 10 & Toy          & Brown             & 10.50 & No Lab Test                 &  12/29/12 & Humane Euthanasia &  6\\\\\n",
       "\t K12-022885 & 12/30/12 & Stray           & Dog & Intact   & Male   & 2 & Normal          & Poodle Min Mix           & N & ⋯ & Y & 14 &  9 & Toy          & White             & 13.50 & Heartworm Negative          &  1/4/13   & Return to Owner   &  5\\\\\n",
       "\t K12-022889 & 12/30/12 & Stray           & Dog & Neutered & Male   & 2 & Normal          & Dachshund Mix            & Y & ⋯ & N & 14 & 28 & Hound        & Red               & 12.00 & Heartworm Negative          &  1/4/13   & Adoption          &  5\\\\\n",
       "\\end{tabular}\n"
      ],
      "text/markdown": [
       "\n",
       "A data.frame: 473 × 24\n",
       "\n",
       "| Impound.No &lt;fct&gt; | Intake.Date &lt;fct&gt; | Intake.Type &lt;fct&gt; | Animal.Type &lt;fct&gt; | Neutered.Status &lt;fct&gt; | Sex &lt;fct&gt; | Age.Intake &lt;int&gt; | Condition &lt;fct&gt; | Breed &lt;fct&gt; | Aggressive &lt;fct&gt; | ⋯ ⋯ | Good.with.Kids &lt;fct&gt; | Max.Life.Expectancy &lt;int&gt; | Max.Weight &lt;int&gt; | Dog.Group &lt;fct&gt; | Color &lt;fct&gt; | Weight &lt;dbl&gt; | Lab.Test &lt;fct&gt; | Outcome.Date &lt;fct&gt; | Outcome.Type &lt;fct&gt; | Days.Shelter &lt;int&gt; |\n",
       "|---|---|---|---|---|---|---|---|---|---|---|---|---|---|---|---|---|---|---|---|---|\n",
       "| K12-000031 | 1/1/12  | Stray           | Dog | Spayed   | Female | 10 | Injured or Sick | Chihuahua Sh Mix              | N | ⋯ | N | 18 |  6 | Toy      | Tan &amp; White        |  3.30 | Heartworm Negative          |  1/7/12  | Adoption          |   6 |\n",
       "| K12-000037 | 1/1/12  | Stray           | Dog | Intact   | Female |  3 | Normal          | Rat Terrier Mix               | N | ⋯ | Y | 14 | 25 | Terrier  | White &amp; Brown      |  7.50 | No Lab Test                 |  1/3/12  | Return to Owner   |   2 |\n",
       "| K12-000108 | 1/1/12  | Stray           | Dog | Intact   | Male   |  2 | Normal          | Pit Bull Mix                  | N | ⋯ | Y | 14 | 90 | Terrier  | Blue &amp; White       | 74.00 | Heartworm Negative          |  1/13/12 | Humane Euthanasia |  12 |\n",
       "| K12-000125 | 1/1/12  | Stray           | Dog | Neutered | Male   |  0 | Normal          | Labrador Retr &amp; Border Collie | N | ⋯ | Y | 12 | 79 | Sporting | White &amp; Black      | 22.00 | No Lab Test                 |  1/8/12  | Adoption          |   7 |\n",
       "| K12-000157 | 1/1/12  | Stray           | Dog | Neutered | Male   |  3 | Injured or Sick | Labrador Retr                 | N | ⋯ | Y | 12 | 79 | Sporting | Black &amp; White      | 54.00 | Heartworm Negative          |  4/4/12  | Adoption          |  94 |\n",
       "| K12-000286 | 1/1/12  | Stray           | Dog | Neutered | Male   |  5 | Normal          | Yorkshire Terr                | N | ⋯ | Y | 15 |  7 | Terrier  | Silver &amp; Tan       |  4.80 | Heartworm Negative          |  1/10/12 | Return to Owner   |   9 |\n",
       "| K12-000291 | 1/1/12  | Owner Surrender | Dog | Intact   | Male   |  2 | Normal          | Weimaraner Mix                | N | ⋯ | Y | 13 | 80 | Sporting | Fawn &amp; White       | 47.00 | Heartworm Positive          |  1/26/12 | Humane Euthanasia |  25 |\n",
       "| K12-000384 | 1/8/12  | Stray           | Dog | Spayed   | Female |  1 | Normal          | Chihuahua Sh Mix              | N | ⋯ | N | 18 |  6 | Toy      | White              | 10.00 | Heartworm Negative          |  1/21/12 | Transfer          |  13 |\n",
       "| K12-000416 | 1/8/12  | Public Assist   | Dog | Spayed   | Female |  1 | Injured or Sick | Chihuahua Sh Mix              | N | ⋯ | N | 18 |  6 | Toy      | Black &amp; White      |  6.00 | No Lab Test                 |  1/20/12 | Return to Owner   |  12 |\n",
       "| K12-000497 | 1/8/12  | Stray           | Dog | Spayed   | Female |  6 | Normal          | Chihuahua Sh Mix              | N | ⋯ | N | 18 |  6 | Toy      | Tan &amp; White        |  9.50 | Heartworm Negative          |  1/22/12 | Adoption          |  14 |\n",
       "| K12-000498 | 1/8/12  | Stray           | Dog | Neutered | Male   |  1 | Normal          | Fox Terrier Smooth Mix        | N | ⋯ | N | 15 | 20 | Terrier  | White &amp; Red        | 16.50 | Heartworm Negative          |  1/19/12 | Adoption          |  11 |\n",
       "| K12-000599 | 1/8/12  | Stray           | Dog | Spayed   | Female |  1 | Normal          | Blue Lacy Mix                 | N | ⋯ | Y | 15 | 35 | Hound    | Tan &amp; White        | 46.00 | Heartworm Negative          |  1/20/12 | Adoption          |  12 |\n",
       "| K12-000616 | 1/8/12  | Stray           | Dog | Neutered | Male   |  8 | Normal          | Beagle Mix                    | N | ⋯ | Y | 15 | 35 | Hound    | White &amp; Black      | 34.00 | Heartworm Positive          |  1/19/12 | Transfer          |  11 |\n",
       "| K12-000642 | 1/15/12 | Owner Surrender | Cat | Spayed   | Female | 15 | Normal          | Domestic Sh Mix               | <!----> | ⋯ | <!----> | NA | NA | <!----> | Black              |  9.80 | FeLV Negative, FIV Negative |  1/24/12 | Adoption          |   9 |\n",
       "| K12-000653 | 1/15/12 | Stray           | Cat | Neutered | Male   |  4 | Normal          | Maine Coon Mix                | <!----> | ⋯ | <!----> | NA | NA | <!----> | Blue               | 13.00 | FeLV Negative, FIV Positive |  1/26/12 | Return to Owner   |  11 |\n",
       "| K12-000712 | 1/15/12 | Owner Surrender | Dog | Spayed   | Female |  5 | Normal          | Beagle &amp; Basset Hound         | N | ⋯ | Y | 15 | 35 | Hound    | Tricolor           | 62.00 | Heartworm Positive          |  1/17/12 | Transfer          |   2 |\n",
       "| K12-000798 | 1/15/12 | Owner Surrender | Cat | Spayed   | Female |  4 | Normal          | Domestic Sh Mix               | <!----> | ⋯ | <!----> | NA | NA | <!----> | Tortie             |  9.00 | FeLV Negative, FIV Negative |  3/30/12 | Transfer          |  75 |\n",
       "| K12-000804 | 1/15/12 | Stray           | Dog | Spayed   | Female |  3 | Normal          | Pit Bull                      | N | ⋯ | Y | 14 | 90 | Terrier  | Br Brindle &amp; White | 48.25 | Heartworm Negative          |  4/16/12 | Adoption          |  92 |\n",
       "| K12-000893 | 1/15/12 | Owner Surrender | Cat | Spayed   | Female |  2 | Normal          | Domestic Sh Mix               | <!----> | ⋯ | <!----> | NA | NA | <!----> | Brn Tabby          | 10.50 | FeLV Negative, FIV Positive |  2/12/12 | Adoption          |  28 |\n",
       "| K12-000903 | 1/15/12 | Stray           | Cat | Neutered | Male   |  0 | Normal          | Domestic Sh Mix               | <!----> | ⋯ | <!----> | NA | NA | <!----> | Black              |  4.50 | FeLV Negative, FIV Positive |  2/12/12 | Adoption          |  28 |\n",
       "| K12-000957 | 1/15/12 | Owner Surrender | Dog | Neutered | Male   |  3 | Normal          | Pit Bull Mix                  | N | ⋯ | Y | 14 | 90 | Terrier  | Blue               | 55.30 | Heartworm Negative          |  1/31/12 | Adoption          |  16 |\n",
       "| K12-000967 | 1/22/12 | Stray           | Dog | Spayed   | Female |  7 | Normal          | Pit Bull &amp; Rottweiler         | N | ⋯ | Y | 14 | 90 | Terrier  | Br Brindle &amp; White | 57.00 | Heartworm Negative          |  1/22/12 | Return to Owner   |   0 |\n",
       "| K12-000975 | 1/22/12 | Stray           | Cat | Neutered | Male   |  2 | Injured or Sick | Domestic Sh Mix               | <!----> | ⋯ | <!----> | NA | NA | <!----> | Brn Tabby &amp; White  |  6.30 | FeLV Negative, FIV Negative |  1/22/12 | Return to Owner   |   0 |\n",
       "| K12-001015 | 1/22/12 | Stray           | Dog | Spayed   | Female |  2 | Normal          | Rhod Ridgeback Mix            | N | ⋯ | Y | 12 | 85 | Hound    | Red &amp; Black        | 57.00 | Heartworm Negative          |  2/9/12  | Transfer          |  18 |\n",
       "| K12-001062 | 1/22/12 | Owner Surrender | Cat | Spayed   | Female |  9 | Normal          | Domestic Sh Mix               | <!----> | ⋯ | <!----> | NA | NA | <!----> | Brn Tabby          |  6.75 | FeLV Negative, FIV Negative |  8/9/12  | Humane Euthanasia | 200 |\n",
       "| K12-001080 | 1/22/12 | Stray           | Dog | Neutered | Male   |  7 | Normal          | Chihuahua Sh Mix              | N | ⋯ | N | 18 |  6 | Toy      | Brown &amp; White      |  4.30 | Heartworm Positive          |  2/1/12  | Return to Owner   |  10 |\n",
       "| K12-001092 | 1/22/12 | Stray           | Dog | Spayed   | Female |  3 | Normal          | Pit Bull                      | N | ⋯ | Y | 14 | 90 | Terrier  | White &amp; Tan        | 43.00 | Heartworm Negative          |  1/25/12 | Return to Owner   |   3 |\n",
       "| K12-001109 | 1/22/12 | Stray           | Dog | Neutered | Male   |  5 | Normal          | Yorkshire Terr Mix            | N | ⋯ | Y | 15 |  7 | Terrier  | Silver &amp; Tan       | 15.30 | Heartworm Negative          |  1/31/12 | Adoption          |   9 |\n",
       "| K12-001213 | 1/22/12 | Owner Surrender | Dog | Neutered | Male   |  0 | Normal          | Chihuahua Sh Mix              | N | ⋯ | N | 18 |  6 | Toy      | Red &amp; Black        | 12.30 | No Lab Test                 |  2/6/12  | Adoption          |  15 |\n",
       "| K12-001228 | 1/22/12 | Stray           | Dog | Neutered | Male   |  2 | Normal          | Pit Bull                      | N | ⋯ | Y | 14 | 90 | Terrier  | White &amp; Red        | 47.50 | Heartworm Positive          |  3/17/12 | Transfer          |  55 |\n",
       "| ⋮ | ⋮ | ⋮ | ⋮ | ⋮ | ⋮ | ⋮ | ⋮ | ⋮ | ⋮ | ⋱ | ⋮ | ⋮ | ⋮ | ⋮ | ⋮ | ⋮ | ⋮ | ⋮ | ⋮ | ⋮ |\n",
       "| K12-021864 | 12/9/12  | Stray           | Dog | Spayed   | Female | 8 | Normal          | Labrador Retr Mix        | N | ⋯ | Y | 12 | 79 | Sporting     | Black &amp; White     | 94.00 | No Lab Test                 |  12/12/12 | Return to Owner   |  3 |\n",
       "| K12-021903 | 12/9/12  | Stray           | Dog | Spayed   | Female | 1 | Normal          | Germ Shepherd Mix        | N | ⋯ | Y | 12 | 88 | Working      | White             | 49.00 | Heartworm Negative          |  12/17/12 | Adoption          |  8 |\n",
       "| K12-021908 | 12/9/12  | Stray           | Dog | Spayed   | Female | 1 | Normal          | Manchester Terr Mix      | Y | ⋯ | N | 15 | 22 | Terrier      | Black &amp; Brown     | 18.00 | Heartworm Negative          |  12/16/12 | Adoption          |  7 |\n",
       "| K12-021997 | 12/9/12  | Public Assist   | Dog | Neutered | Male   | 3 | Normal          | Catahoula                | N | ⋯ | Y | 13 | 80 | Herding      | Blue Merle        | 45.50 | Heartworm Negative          |  12/20/12 | Return to Owner   | 11 |\n",
       "| K12-022013 | 12/9/12  | Stray           | Dog | Neutered | Male   | 3 | Normal          | Dandie Dinmont Mix       | Y | ⋯ | Y | 15 | 24 | Terrier      | Gray &amp; Cream      | 20.50 | Heartworm Negative          |  12/13/12 | Return to Owner   |  4 |\n",
       "| K12-022020 | 12/9/12  | Owner Surrender | Cat | Spayed   | Female | 0 | Normal          | Domestic Sh Mix          | <!----> | ⋯ | <!----> | NA | NA | <!----> | Black             |  4.25 | FeLV Negative, FIV Negative |  12/23/12 | Transfer          | 14 |\n",
       "| K12-022077 | 12/9/12  | Owner Surrender | Cat | Neutered | Male   | 6 | Normal          | Domestic Sh Mix          | <!----> | ⋯ | <!----> | NA | NA | <!----> | Brn Tabby         |  9.00 | FeLV Negative, FIV Negative |  1/18/13  | Adoption          | 40 |\n",
       "| K12-022120 | 12/9/12  | Stray           | Dog | Spayed   | Female | 4 | Normal          | Chihuahua Sh Mix         | N | ⋯ | N | 18 |  6 | Toy          | Chocolate &amp; White |  6.25 | Heartworm Negative          |  12/20/12 | Adoption          | 11 |\n",
       "| K12-022168 | 12/9/12  | Stray           | Cat | Spayed   | Female | 0 | Normal          | Domestic Sh Mix          | <!----> | ⋯ | <!----> | NA | NA | <!----> | White &amp; Blue      |  4.00 | FeLV Negative, FIV Negative |  12/21/12 | Adoption          | 12 |\n",
       "| K12-022216 | 12/16/12 | Stray           | Dog | Intact   | Female | 8 | Normal          | Pit Bull &amp; Labrador Retr | N | ⋯ | Y | 14 | 90 | Terrier      | Black             | 60.50 | Heartworm Negative          |  1/12/13  | Adoption          | 27 |\n",
       "| K12-022328 | 12/16/12 | Stray           | Dog | Neutered | Male   | 2 | Normal          | Yorkshire Terr Mix       | N | ⋯ | Y | 15 |  7 | Terrier      | Brown             |  8.50 | Heartworm Negative          |  12/23/12 | Adoption          |  7 |\n",
       "| K12-022363 | 12/16/12 | Public Assist   | Dog | Neutered | Male   | 2 | Normal          | Canaan Dog Mix           | N | ⋯ | Y | 16 | 55 | Herding      | Brown &amp; Tan       | 51.00 | No Lab Test                 |  12/27/12 | Return to Owner   | 11 |\n",
       "| K12-022379 | 12/16/12 | Stray           | Dog | Spayed   | Female | 3 | Normal          | Norfolk Terrier Mix      | Y | ⋯ | Y | 15 | 11 | Terrier      | Cream             | 10.00 | Heartworm Negative          |  12/23/12 | Adoption          |  7 |\n",
       "| K12-022399 | 12/16/12 | Stray           | Dog | Neutered | Male   | 2 | Normal          | Poodle Min Mix           | N | ⋯ | Y | 14 |  9 | Toy          | White &amp; Black     |  9.25 | Heartworm Negative          |  12/24/12 | Adoption          |  8 |\n",
       "| K12-022434 | 12/16/12 | Owner Surrender | Dog | Neutered | Male   | 7 | Normal          | Lhasa Apso Mix           | N | ⋯ | Y | 20 | 19 | Non-Sporting | Tan               | 29.00 | Heartworm Negative          |  12/26/12 | Transfer          | 10 |\n",
       "| K12-022495 | 12/16/12 | Stray           | Dog | Spayed   | Female | 4 | Normal          | Maltese Mix              | N | ⋯ | Y | 14 |  7 | Toy          | White             |  8.50 | Heartworm Negative          |  12/27/12 | Adoption          | 11 |\n",
       "| K12-022496 | 12/16/12 | Owner Surrender | Dog | Intact   | Female | 0 | Normal          | Chihuahua Sh Mix         | N | ⋯ | N | 18 |  6 | Toy          | Tan               |  8.75 | Heartworm Negative          |  12/23/12 | Transfer          |  7 |\n",
       "| K12-022502 | 12/16/12 | Stray           | Dog | Spayed   | Female | 5 | Normal          | West Highland &amp; Pit Bull | N | ⋯ | Y | 14 | 20 | Terrier      | Bl Brindle        | 45.00 | No Lab Test                 |  12/22/12 | Return to Owner   |  6 |\n",
       "| K12-022529 | 12/16/12 | Stray           | Cat | Spayed   | Female | 0 | Normal          | Domestic Sh Mix          | <!----> | ⋯ | <!----> | NA | NA | <!----> | Black             |  3.25 | No Lab Test                 |  12/26/12 | Transfer          | 10 |\n",
       "| K12-022532 | 12/16/12 | Stray           | Dog | Neutered | Male   | 2 | Normal          | Dachshund                | Y | ⋯ | N | 14 | 28 | Hound        | Tan &amp; White       | 14.25 | Heartworm Negative          |  1/4/13   | Transfer          | 19 |\n",
       "| K12-022538 | 12/16/12 | Stray           | Dog | Neutered | Male   | 2 | Normal          | Pit Bull Mix             | N | ⋯ | Y | 14 | 90 | Terrier      | Tan &amp; White       | 53.50 | Heartworm Positive          |  1/29/13  | Transfer          | 44 |\n",
       "| K12-022585 | 12/23/12 | Stray           | Dog | Neutered | Male   | 8 | Normal          | Labrador Retr Mix        | N | ⋯ | Y | 12 | 79 | Sporting     | Yellow            | 82.50 | No Lab Test                 |  12/24/12 | Return to Owner   |  1 |\n",
       "| K12-022595 | 12/23/12 | Stray           | Dog | Neutered | Male   | 0 | Normal          | Norfolk Terrier Mix      | Y | ⋯ | Y | 15 | 11 | Terrier      | Cream &amp; White     |  7.50 | No Lab Test                 |  12/31/12 | Adoption          |  8 |\n",
       "| K12-022596 | 12/23/12 | Owner Surrender | Dog | Intact   | Female | 1 | Injured or Sick | Shih Tzu Mix             | N | ⋯ | Y | 16 | 16 | Non-Sporting | White &amp; Black     |  5.75 | No Lab Test                 |  12/24/12 | Transfer          |  1 |\n",
       "| K12-022688 | 12/23/12 | Stray           | Cat | Neutered | Male   | 0 | Normal          | Domestic Sh Mix          | <!----> | ⋯ | <!----> | NA | NA | <!----> | Blue              |  4.00 | No Lab Test                 |  1/2/13   | Transfer          | 10 |\n",
       "| K12-022689 | 12/23/12 | Stray           | Cat | Intact   | Male   | 0 | Normal          | Domestic Sh Mix          | <!----> | ⋯ | <!----> | NA | NA | <!----> | Crm Tabby         |  1.75 | FeLV Negative, FIV Negative |  12/31/12 | Humane Euthanasia |  8 |\n",
       "| K12-022743 | 12/23/12 | Owner Surrender | Cat | Intact   | Male   | 0 | Normal          | Domestic Sh Mix          | <!----> | ⋯ | <!----> | NA | NA | <!----> | Brn Tabby &amp; White |  1.75 | FeLV Negative, FIV Negative |  1/4/13   | Transfer          | 12 |\n",
       "| K12-022814 | 12/23/12 | Owner Surrender | Dog | Neutered | Male   | 4 | Injured or Sick | Bruss Griffon Mix        | N | ⋯ | Y | 15 | 10 | Toy          | Brown             | 10.50 | No Lab Test                 |  12/29/12 | Humane Euthanasia |  6 |\n",
       "| K12-022885 | 12/30/12 | Stray           | Dog | Intact   | Male   | 2 | Normal          | Poodle Min Mix           | N | ⋯ | Y | 14 |  9 | Toy          | White             | 13.50 | Heartworm Negative          |  1/4/13   | Return to Owner   |  5 |\n",
       "| K12-022889 | 12/30/12 | Stray           | Dog | Neutered | Male   | 2 | Normal          | Dachshund Mix            | Y | ⋯ | N | 14 | 28 | Hound        | Red               | 12.00 | Heartworm Negative          |  1/4/13   | Adoption          |  5 |\n",
       "\n"
      ],
      "text/plain": [
       "    Impound.No Intake.Date Intake.Type     Animal.Type Neutered.Status Sex   \n",
       "1   K12-000031 1/1/12      Stray           Dog         Spayed          Female\n",
       "2   K12-000037 1/1/12      Stray           Dog         Intact          Female\n",
       "3   K12-000108 1/1/12      Stray           Dog         Intact          Male  \n",
       "4   K12-000125 1/1/12      Stray           Dog         Neutered        Male  \n",
       "5   K12-000157 1/1/12      Stray           Dog         Neutered        Male  \n",
       "6   K12-000286 1/1/12      Stray           Dog         Neutered        Male  \n",
       "7   K12-000291 1/1/12      Owner Surrender Dog         Intact          Male  \n",
       "8   K12-000384 1/8/12      Stray           Dog         Spayed          Female\n",
       "9   K12-000416 1/8/12      Public Assist   Dog         Spayed          Female\n",
       "10  K12-000497 1/8/12      Stray           Dog         Spayed          Female\n",
       "11  K12-000498 1/8/12      Stray           Dog         Neutered        Male  \n",
       "12  K12-000599 1/8/12      Stray           Dog         Spayed          Female\n",
       "13  K12-000616 1/8/12      Stray           Dog         Neutered        Male  \n",
       "14  K12-000642 1/15/12     Owner Surrender Cat         Spayed          Female\n",
       "15  K12-000653 1/15/12     Stray           Cat         Neutered        Male  \n",
       "16  K12-000712 1/15/12     Owner Surrender Dog         Spayed          Female\n",
       "17  K12-000798 1/15/12     Owner Surrender Cat         Spayed          Female\n",
       "18  K12-000804 1/15/12     Stray           Dog         Spayed          Female\n",
       "19  K12-000893 1/15/12     Owner Surrender Cat         Spayed          Female\n",
       "20  K12-000903 1/15/12     Stray           Cat         Neutered        Male  \n",
       "21  K12-000957 1/15/12     Owner Surrender Dog         Neutered        Male  \n",
       "22  K12-000967 1/22/12     Stray           Dog         Spayed          Female\n",
       "23  K12-000975 1/22/12     Stray           Cat         Neutered        Male  \n",
       "24  K12-001015 1/22/12     Stray           Dog         Spayed          Female\n",
       "25  K12-001062 1/22/12     Owner Surrender Cat         Spayed          Female\n",
       "26  K12-001080 1/22/12     Stray           Dog         Neutered        Male  \n",
       "27  K12-001092 1/22/12     Stray           Dog         Spayed          Female\n",
       "28  K12-001109 1/22/12     Stray           Dog         Neutered        Male  \n",
       "29  K12-001213 1/22/12     Owner Surrender Dog         Neutered        Male  \n",
       "30  K12-001228 1/22/12     Stray           Dog         Neutered        Male  \n",
       "<U+22EE>   <U+22EE>   <U+22EE>    <U+22EE>        <U+22EE>    <U+22EE>        <U+22EE>\n",
       "444 K12-021864 12/9/12     Stray           Dog         Spayed          Female\n",
       "445 K12-021903 12/9/12     Stray           Dog         Spayed          Female\n",
       "446 K12-021908 12/9/12     Stray           Dog         Spayed          Female\n",
       "447 K12-021997 12/9/12     Public Assist   Dog         Neutered        Male  \n",
       "448 K12-022013 12/9/12     Stray           Dog         Neutered        Male  \n",
       "449 K12-022020 12/9/12     Owner Surrender Cat         Spayed          Female\n",
       "450 K12-022077 12/9/12     Owner Surrender Cat         Neutered        Male  \n",
       "451 K12-022120 12/9/12     Stray           Dog         Spayed          Female\n",
       "452 K12-022168 12/9/12     Stray           Cat         Spayed          Female\n",
       "453 K12-022216 12/16/12    Stray           Dog         Intact          Female\n",
       "454 K12-022328 12/16/12    Stray           Dog         Neutered        Male  \n",
       "455 K12-022363 12/16/12    Public Assist   Dog         Neutered        Male  \n",
       "456 K12-022379 12/16/12    Stray           Dog         Spayed          Female\n",
       "457 K12-022399 12/16/12    Stray           Dog         Neutered        Male  \n",
       "458 K12-022434 12/16/12    Owner Surrender Dog         Neutered        Male  \n",
       "459 K12-022495 12/16/12    Stray           Dog         Spayed          Female\n",
       "460 K12-022496 12/16/12    Owner Surrender Dog         Intact          Female\n",
       "461 K12-022502 12/16/12    Stray           Dog         Spayed          Female\n",
       "462 K12-022529 12/16/12    Stray           Cat         Spayed          Female\n",
       "463 K12-022532 12/16/12    Stray           Dog         Neutered        Male  \n",
       "464 K12-022538 12/16/12    Stray           Dog         Neutered        Male  \n",
       "465 K12-022585 12/23/12    Stray           Dog         Neutered        Male  \n",
       "466 K12-022595 12/23/12    Stray           Dog         Neutered        Male  \n",
       "467 K12-022596 12/23/12    Owner Surrender Dog         Intact          Female\n",
       "468 K12-022688 12/23/12    Stray           Cat         Neutered        Male  \n",
       "469 K12-022689 12/23/12    Stray           Cat         Intact          Male  \n",
       "470 K12-022743 12/23/12    Owner Surrender Cat         Intact          Male  \n",
       "471 K12-022814 12/23/12    Owner Surrender Dog         Neutered        Male  \n",
       "472 K12-022885 12/30/12    Stray           Dog         Intact          Male  \n",
       "473 K12-022889 12/30/12    Stray           Dog         Neutered        Male  \n",
       "    Age.Intake Condition       Breed                         Aggressive\n",
       "1   10         Injured or Sick Chihuahua Sh Mix              N         \n",
       "2    3         Normal          Rat Terrier Mix               N         \n",
       "3    2         Normal          Pit Bull Mix                  N         \n",
       "4    0         Normal          Labrador Retr & Border Collie N         \n",
       "5    3         Injured or Sick Labrador Retr                 N         \n",
       "6    5         Normal          Yorkshire Terr                N         \n",
       "7    2         Normal          Weimaraner Mix                N         \n",
       "8    1         Normal          Chihuahua Sh Mix              N         \n",
       "9    1         Injured or Sick Chihuahua Sh Mix              N         \n",
       "10   6         Normal          Chihuahua Sh Mix              N         \n",
       "11   1         Normal          Fox Terrier Smooth Mix        N         \n",
       "12   1         Normal          Blue Lacy Mix                 N         \n",
       "13   8         Normal          Beagle Mix                    N         \n",
       "14  15         Normal          Domestic Sh Mix                         \n",
       "15   4         Normal          Maine Coon Mix                          \n",
       "16   5         Normal          Beagle & Basset Hound         N         \n",
       "17   4         Normal          Domestic Sh Mix                         \n",
       "18   3         Normal          Pit Bull                      N         \n",
       "19   2         Normal          Domestic Sh Mix                         \n",
       "20   0         Normal          Domestic Sh Mix                         \n",
       "21   3         Normal          Pit Bull Mix                  N         \n",
       "22   7         Normal          Pit Bull & Rottweiler         N         \n",
       "23   2         Injured or Sick Domestic Sh Mix                         \n",
       "24   2         Normal          Rhod Ridgeback Mix            N         \n",
       "25   9         Normal          Domestic Sh Mix                         \n",
       "26   7         Normal          Chihuahua Sh Mix              N         \n",
       "27   3         Normal          Pit Bull                      N         \n",
       "28   5         Normal          Yorkshire Terr Mix            N         \n",
       "29   0         Normal          Chihuahua Sh Mix              N         \n",
       "30   2         Normal          Pit Bull                      N         \n",
       "<U+22EE>   <U+22EE>   <U+22EE>        <U+22EE>                      <U+22EE>  \n",
       "444 8          Normal          Labrador Retr Mix             N         \n",
       "445 1          Normal          Germ Shepherd Mix             N         \n",
       "446 1          Normal          Manchester Terr Mix           Y         \n",
       "447 3          Normal          Catahoula                     N         \n",
       "448 3          Normal          Dandie Dinmont Mix            Y         \n",
       "449 0          Normal          Domestic Sh Mix                         \n",
       "450 6          Normal          Domestic Sh Mix                         \n",
       "451 4          Normal          Chihuahua Sh Mix              N         \n",
       "452 0          Normal          Domestic Sh Mix                         \n",
       "453 8          Normal          Pit Bull & Labrador Retr      N         \n",
       "454 2          Normal          Yorkshire Terr Mix            N         \n",
       "455 2          Normal          Canaan Dog Mix                N         \n",
       "456 3          Normal          Norfolk Terrier Mix           Y         \n",
       "457 2          Normal          Poodle Min Mix                N         \n",
       "458 7          Normal          Lhasa Apso Mix                N         \n",
       "459 4          Normal          Maltese Mix                   N         \n",
       "460 0          Normal          Chihuahua Sh Mix              N         \n",
       "461 5          Normal          West Highland & Pit Bull      N         \n",
       "462 0          Normal          Domestic Sh Mix                         \n",
       "463 2          Normal          Dachshund                     Y         \n",
       "464 2          Normal          Pit Bull Mix                  N         \n",
       "465 8          Normal          Labrador Retr Mix             N         \n",
       "466 0          Normal          Norfolk Terrier Mix           Y         \n",
       "467 1          Injured or Sick Shih Tzu Mix                  N         \n",
       "468 0          Normal          Domestic Sh Mix                         \n",
       "469 0          Normal          Domestic Sh Mix                         \n",
       "470 0          Normal          Domestic Sh Mix                         \n",
       "471 4          Injured or Sick Bruss Griffon Mix             N         \n",
       "472 2          Normal          Poodle Min Mix                N         \n",
       "473 2          Normal          Dachshund Mix                 Y         \n",
       "    <U+22EF>        Good.with.Kids Max.Life.Expectancy Max.Weight Dog.Group   \n",
       "1   <U+22EF> N              18                   6         Toy         \n",
       "2   <U+22EF> Y              14                  25         Terrier     \n",
       "3   <U+22EF> Y              14                  90         Terrier     \n",
       "4   <U+22EF> Y              12                  79         Sporting    \n",
       "5   <U+22EF> Y              12                  79         Sporting    \n",
       "6   <U+22EF> Y              15                   7         Terrier     \n",
       "7   <U+22EF> Y              13                  80         Sporting    \n",
       "8   <U+22EF> N              18                   6         Toy         \n",
       "9   <U+22EF> N              18                   6         Toy         \n",
       "10  <U+22EF> N              18                   6         Toy         \n",
       "11  <U+22EF> N              15                  20         Terrier     \n",
       "12  <U+22EF> Y              15                  35         Hound       \n",
       "13  <U+22EF> Y              15                  35         Hound       \n",
       "14  <U+22EF>                NA                  NA                     \n",
       "15  <U+22EF>                NA                  NA                     \n",
       "16  <U+22EF> Y              15                  35         Hound       \n",
       "17  <U+22EF>                NA                  NA                     \n",
       "18  <U+22EF> Y              14                  90         Terrier     \n",
       "19  <U+22EF>                NA                  NA                     \n",
       "20  <U+22EF>                NA                  NA                     \n",
       "21  <U+22EF> Y              14                  90         Terrier     \n",
       "22  <U+22EF> Y              14                  90         Terrier     \n",
       "23  <U+22EF>                NA                  NA                     \n",
       "24  <U+22EF> Y              12                  85         Hound       \n",
       "25  <U+22EF>                NA                  NA                     \n",
       "26  <U+22EF> N              18                   6         Toy         \n",
       "27  <U+22EF> Y              14                  90         Terrier     \n",
       "28  <U+22EF> Y              15                   7         Terrier     \n",
       "29  <U+22EF> N              18                   6         Toy         \n",
       "30  <U+22EF> Y              14                  90         Terrier     \n",
       "<U+22EE>   <U+22F1> <U+22EE>       <U+22EE>            <U+22EE>   <U+22EE>    \n",
       "444 <U+22EF> Y              12                  79         Sporting    \n",
       "445 <U+22EF> Y              12                  88         Working     \n",
       "446 <U+22EF> N              15                  22         Terrier     \n",
       "447 <U+22EF> Y              13                  80         Herding     \n",
       "448 <U+22EF> Y              15                  24         Terrier     \n",
       "449 <U+22EF>                NA                  NA                     \n",
       "450 <U+22EF>                NA                  NA                     \n",
       "451 <U+22EF> N              18                   6         Toy         \n",
       "452 <U+22EF>                NA                  NA                     \n",
       "453 <U+22EF> Y              14                  90         Terrier     \n",
       "454 <U+22EF> Y              15                   7         Terrier     \n",
       "455 <U+22EF> Y              16                  55         Herding     \n",
       "456 <U+22EF> Y              15                  11         Terrier     \n",
       "457 <U+22EF> Y              14                   9         Toy         \n",
       "458 <U+22EF> Y              20                  19         Non-Sporting\n",
       "459 <U+22EF> Y              14                   7         Toy         \n",
       "460 <U+22EF> N              18                   6         Toy         \n",
       "461 <U+22EF> Y              14                  20         Terrier     \n",
       "462 <U+22EF>                NA                  NA                     \n",
       "463 <U+22EF> N              14                  28         Hound       \n",
       "464 <U+22EF> Y              14                  90         Terrier     \n",
       "465 <U+22EF> Y              12                  79         Sporting    \n",
       "466 <U+22EF> Y              15                  11         Terrier     \n",
       "467 <U+22EF> Y              16                  16         Non-Sporting\n",
       "468 <U+22EF>                NA                  NA                     \n",
       "469 <U+22EF>                NA                  NA                     \n",
       "470 <U+22EF>                NA                  NA                     \n",
       "471 <U+22EF> Y              15                  10         Toy         \n",
       "472 <U+22EF> Y              14                   9         Toy         \n",
       "473 <U+22EF> N              14                  28         Hound       \n",
       "    Color              Weight Lab.Test                    Outcome.Date\n",
       "1   Tan & White         3.30  Heartworm Negative           1/7/12     \n",
       "2   White & Brown       7.50  No Lab Test                  1/3/12     \n",
       "3   Blue & White       74.00  Heartworm Negative           1/13/12    \n",
       "4   White & Black      22.00  No Lab Test                  1/8/12     \n",
       "5   Black & White      54.00  Heartworm Negative           4/4/12     \n",
       "6   Silver & Tan        4.80  Heartworm Negative           1/10/12    \n",
       "7   Fawn & White       47.00  Heartworm Positive           1/26/12    \n",
       "8   White              10.00  Heartworm Negative           1/21/12    \n",
       "9   Black & White       6.00  No Lab Test                  1/20/12    \n",
       "10  Tan & White         9.50  Heartworm Negative           1/22/12    \n",
       "11  White & Red        16.50  Heartworm Negative           1/19/12    \n",
       "12  Tan & White        46.00  Heartworm Negative           1/20/12    \n",
       "13  White & Black      34.00  Heartworm Positive           1/19/12    \n",
       "14  Black               9.80  FeLV Negative, FIV Negative  1/24/12    \n",
       "15  Blue               13.00  FeLV Negative, FIV Positive  1/26/12    \n",
       "16  Tricolor           62.00  Heartworm Positive           1/17/12    \n",
       "17  Tortie              9.00  FeLV Negative, FIV Negative  3/30/12    \n",
       "18  Br Brindle & White 48.25  Heartworm Negative           4/16/12    \n",
       "19  Brn Tabby          10.50  FeLV Negative, FIV Positive  2/12/12    \n",
       "20  Black               4.50  FeLV Negative, FIV Positive  2/12/12    \n",
       "21  Blue               55.30  Heartworm Negative           1/31/12    \n",
       "22  Br Brindle & White 57.00  Heartworm Negative           1/22/12    \n",
       "23  Brn Tabby & White   6.30  FeLV Negative, FIV Negative  1/22/12    \n",
       "24  Red & Black        57.00  Heartworm Negative           2/9/12     \n",
       "25  Brn Tabby           6.75  FeLV Negative, FIV Negative  8/9/12     \n",
       "26  Brown & White       4.30  Heartworm Positive           2/1/12     \n",
       "27  White & Tan        43.00  Heartworm Negative           1/25/12    \n",
       "28  Silver & Tan       15.30  Heartworm Negative           1/31/12    \n",
       "29  Red & Black        12.30  No Lab Test                  2/6/12     \n",
       "30  White & Red        47.50  Heartworm Positive           3/17/12    \n",
       "<U+22EE>   <U+22EE>           <U+22EE> <U+22EE>                    <U+22EE>    \n",
       "444 Black & White      94.00  No Lab Test                  12/12/12   \n",
       "445 White              49.00  Heartworm Negative           12/17/12   \n",
       "446 Black & Brown      18.00  Heartworm Negative           12/16/12   \n",
       "447 Blue Merle         45.50  Heartworm Negative           12/20/12   \n",
       "448 Gray & Cream       20.50  Heartworm Negative           12/13/12   \n",
       "449 Black               4.25  FeLV Negative, FIV Negative  12/23/12   \n",
       "450 Brn Tabby           9.00  FeLV Negative, FIV Negative  1/18/13    \n",
       "451 Chocolate & White   6.25  Heartworm Negative           12/20/12   \n",
       "452 White & Blue        4.00  FeLV Negative, FIV Negative  12/21/12   \n",
       "453 Black              60.50  Heartworm Negative           1/12/13    \n",
       "454 Brown               8.50  Heartworm Negative           12/23/12   \n",
       "455 Brown & Tan        51.00  No Lab Test                  12/27/12   \n",
       "456 Cream              10.00  Heartworm Negative           12/23/12   \n",
       "457 White & Black       9.25  Heartworm Negative           12/24/12   \n",
       "458 Tan                29.00  Heartworm Negative           12/26/12   \n",
       "459 White               8.50  Heartworm Negative           12/27/12   \n",
       "460 Tan                 8.75  Heartworm Negative           12/23/12   \n",
       "461 Bl Brindle         45.00  No Lab Test                  12/22/12   \n",
       "462 Black               3.25  No Lab Test                  12/26/12   \n",
       "463 Tan & White        14.25  Heartworm Negative           1/4/13     \n",
       "464 Tan & White        53.50  Heartworm Positive           1/29/13    \n",
       "465 Yellow             82.50  No Lab Test                  12/24/12   \n",
       "466 Cream & White       7.50  No Lab Test                  12/31/12   \n",
       "467 White & Black       5.75  No Lab Test                  12/24/12   \n",
       "468 Blue                4.00  No Lab Test                  1/2/13     \n",
       "469 Crm Tabby           1.75  FeLV Negative, FIV Negative  12/31/12   \n",
       "470 Brn Tabby & White   1.75  FeLV Negative, FIV Negative  1/4/13     \n",
       "471 Brown              10.50  No Lab Test                  12/29/12   \n",
       "472 White              13.50  Heartworm Negative           1/4/13     \n",
       "473 Red                12.00  Heartworm Negative           1/4/13     \n",
       "    Outcome.Type      Days.Shelter\n",
       "1   Adoption            6         \n",
       "2   Return to Owner     2         \n",
       "3   Humane Euthanasia  12         \n",
       "4   Adoption            7         \n",
       "5   Adoption           94         \n",
       "6   Return to Owner     9         \n",
       "7   Humane Euthanasia  25         \n",
       "8   Transfer           13         \n",
       "9   Return to Owner    12         \n",
       "10  Adoption           14         \n",
       "11  Adoption           11         \n",
       "12  Adoption           12         \n",
       "13  Transfer           11         \n",
       "14  Adoption            9         \n",
       "15  Return to Owner    11         \n",
       "16  Transfer            2         \n",
       "17  Transfer           75         \n",
       "18  Adoption           92         \n",
       "19  Adoption           28         \n",
       "20  Adoption           28         \n",
       "21  Adoption           16         \n",
       "22  Return to Owner     0         \n",
       "23  Return to Owner     0         \n",
       "24  Transfer           18         \n",
       "25  Humane Euthanasia 200         \n",
       "26  Return to Owner    10         \n",
       "27  Return to Owner     3         \n",
       "28  Adoption            9         \n",
       "29  Adoption           15         \n",
       "30  Transfer           55         \n",
       "<U+22EE>   <U+22EE>          <U+22EE>    \n",
       "444 Return to Owner    3          \n",
       "445 Adoption           8          \n",
       "446 Adoption           7          \n",
       "447 Return to Owner   11          \n",
       "448 Return to Owner    4          \n",
       "449 Transfer          14          \n",
       "450 Adoption          40          \n",
       "451 Adoption          11          \n",
       "452 Adoption          12          \n",
       "453 Adoption          27          \n",
       "454 Adoption           7          \n",
       "455 Return to Owner   11          \n",
       "456 Adoption           7          \n",
       "457 Adoption           8          \n",
       "458 Transfer          10          \n",
       "459 Adoption          11          \n",
       "460 Transfer           7          \n",
       "461 Return to Owner    6          \n",
       "462 Transfer          10          \n",
       "463 Transfer          19          \n",
       "464 Transfer          44          \n",
       "465 Return to Owner    1          \n",
       "466 Adoption           8          \n",
       "467 Transfer           1          \n",
       "468 Transfer          10          \n",
       "469 Humane Euthanasia  8          \n",
       "470 Transfer          12          \n",
       "471 Humane Euthanasia  6          \n",
       "472 Return to Owner    5          \n",
       "473 Adoption           5          "
      ]
     },
     "metadata": {},
     "output_type": "display_data"
    }
   ],
   "source": [
    "animaldata <- read.csv(\"data/AnimalData.csv\")\n",
    "head(animaldata)"
   ]
  },
  {
   "cell_type": "code",
   "execution_count": 2,
   "metadata": {},
   "outputs": [
    {
     "name": "stdout",
     "output_type": "stream",
     "text": [
      "'data.frame':\t473 obs. of  24 variables:\n",
      " $ Impound.No         : Factor w/ 473 levels \"K12-000031\",\"K12-000037\",..: 1 2 3 4 5 6 7 8 9 10 ...\n",
      " $ Intake.Date        : Factor w/ 53 levels \"1/1/12\",\"1/15/12\",..: 1 1 1 1 1 1 1 5 5 5 ...\n",
      " $ Intake.Type        : Factor w/ 4 levels \"Euthanasia Request\",..: 4 4 4 4 4 4 2 4 3 4 ...\n",
      " $ Animal.Type        : Factor w/ 2 levels \"Cat\",\"Dog\": 2 2 2 2 2 2 2 2 2 2 ...\n",
      " $ Neutered.Status    : Factor w/ 3 levels \"Intact\",\"Neutered\",..: 3 1 1 2 2 2 1 3 3 3 ...\n",
      " $ Sex                : Factor w/ 2 levels \"Female\",\"Male\": 1 1 2 2 2 2 2 1 1 1 ...\n",
      " $ Age.Intake         : int  10 3 2 0 3 5 2 1 1 6 ...\n",
      " $ Condition          : Factor w/ 2 levels \"Injured or Sick\",..: 1 2 2 2 1 2 2 2 1 2 ...\n",
      " $ Breed              : Factor w/ 143 levels \"Am Pit Bull Ter \",..: 38 117 105 82 78 141 135 38 38 38 ...\n",
      " $ Aggressive         : Factor w/ 3 levels \"\",\"N\",\"Y\": 2 2 2 2 2 2 2 2 2 2 ...\n",
      " $ Independent        : Factor w/ 3 levels \"\",\"N\",\"Y\": 2 2 2 3 3 2 2 2 2 2 ...\n",
      " $ Intelligent        : Factor w/ 3 levels \"\",\"N\",\"Y\": 3 3 2 3 3 2 3 3 3 3 ...\n",
      " $ Loyal              : Factor w/ 3 levels \"\",\"N\",\"Y\": 2 2 3 3 3 3 3 2 2 2 ...\n",
      " $ Social             : Factor w/ 3 levels \"\",\"N\",\"Y\": 2 3 2 3 3 2 3 2 2 2 ...\n",
      " $ Good.with.Kids     : Factor w/ 3 levels \"\",\"N\",\"Y\": 2 3 3 3 3 3 3 2 2 2 ...\n",
      " $ Max.Life.Expectancy: int  18 14 14 12 12 15 13 18 18 18 ...\n",
      " $ Max.Weight         : int  6 25 90 79 79 7 80 6 6 6 ...\n",
      " $ Dog.Group          : Factor w/ 9 levels \"\",\"Crossbreed\",..: 8 7 7 6 6 7 6 8 8 8 ...\n",
      " $ Color              : Factor w/ 85 levels \"Bl Brindle \",..: 64 77 11 73 7 59 39 71 7 64 ...\n",
      " $ Weight             : num  3.3 7.5 74 22 54 4.8 47 10 6 9.5 ...\n",
      " $ Lab.Test           : Factor w/ 6 levels \"FeLV Negative, FIV Negative\",..: 4 6 4 6 4 4 5 4 6 4 ...\n",
      " $ Outcome.Date       : Factor w/ 268 levels \" 1/10/12\",\" 1/12/13\",..: 19 16 3 20 143 1 14 9 8 10 ...\n",
      " $ Outcome.Type       : Factor w/ 5 levels \"Adoption\",\"Died\",..: 1 4 3 1 1 4 3 5 4 1 ...\n",
      " $ Days.Shelter       : int  6 2 12 7 94 9 25 13 12 14 ...\n"
     ]
    }
   ],
   "source": [
    "str(animaldata)"
   ]
  },
  {
   "cell_type": "markdown",
   "metadata": {},
   "source": [
    "How many variables are in this dataset?"
   ]
  },
  {
   "cell_type": "code",
   "execution_count": 3,
   "metadata": {},
   "outputs": [
    {
     "data": {
      "text/html": [
       "24"
      ],
      "text/latex": [
       "24"
      ],
      "text/markdown": [
       "24"
      ],
      "text/plain": [
       "[1] 24"
      ]
     },
     "metadata": {},
     "output_type": "display_data"
    }
   ],
   "source": [
    "ncol(animaldata)"
   ]
  },
  {
   "cell_type": "markdown",
   "metadata": {},
   "source": [
    "How many of the first 10 animals in the dataset were adopted?"
   ]
  },
  {
   "cell_type": "code",
   "execution_count": 4,
   "metadata": {},
   "outputs": [
    {
     "data": {
      "text/html": [
       "<table>\n",
       "<caption>A data.frame: 4 × 24</caption>\n",
       "<thead>\n",
       "\t<tr><th></th><th scope=col>Impound.No</th><th scope=col>Intake.Date</th><th scope=col>Intake.Type</th><th scope=col>Animal.Type</th><th scope=col>Neutered.Status</th><th scope=col>Sex</th><th scope=col>Age.Intake</th><th scope=col>Condition</th><th scope=col>Breed</th><th scope=col>Aggressive</th><th scope=col>⋯</th><th scope=col>Good.with.Kids</th><th scope=col>Max.Life.Expectancy</th><th scope=col>Max.Weight</th><th scope=col>Dog.Group</th><th scope=col>Color</th><th scope=col>Weight</th><th scope=col>Lab.Test</th><th scope=col>Outcome.Date</th><th scope=col>Outcome.Type</th><th scope=col>Days.Shelter</th></tr>\n",
       "\t<tr><th></th><th scope=col>&lt;fct&gt;</th><th scope=col>&lt;fct&gt;</th><th scope=col>&lt;fct&gt;</th><th scope=col>&lt;fct&gt;</th><th scope=col>&lt;fct&gt;</th><th scope=col>&lt;fct&gt;</th><th scope=col>&lt;int&gt;</th><th scope=col>&lt;fct&gt;</th><th scope=col>&lt;fct&gt;</th><th scope=col>&lt;fct&gt;</th><th scope=col>⋯</th><th scope=col>&lt;fct&gt;</th><th scope=col>&lt;int&gt;</th><th scope=col>&lt;int&gt;</th><th scope=col>&lt;fct&gt;</th><th scope=col>&lt;fct&gt;</th><th scope=col>&lt;dbl&gt;</th><th scope=col>&lt;fct&gt;</th><th scope=col>&lt;fct&gt;</th><th scope=col>&lt;fct&gt;</th><th scope=col>&lt;int&gt;</th></tr>\n",
       "</thead>\n",
       "<tbody>\n",
       "\t<tr><th scope=row>1</th><td>K12-000031</td><td>1/1/12</td><td>Stray</td><td>Dog</td><td><span style=white-space:pre-wrap>Spayed  </span></td><td>Female</td><td>10</td><td>Injured or Sick</td><td><span style=white-space:pre-wrap>Chihuahua Sh Mix             </span></td><td>N</td><td>⋯</td><td>N</td><td>18</td><td> 6</td><td><span style=white-space:pre-wrap>Toy     </span></td><td><span style=white-space:pre-wrap>Tan &amp; White  </span></td><td> 3.3</td><td>Heartworm Negative</td><td> 1/7/12 </td><td>Adoption</td><td> 6</td></tr>\n",
       "\t<tr><th scope=row>4</th><td>K12-000125</td><td>1/1/12</td><td>Stray</td><td>Dog</td><td>Neutered</td><td><span style=white-space:pre-wrap>Male  </span></td><td> 0</td><td><span style=white-space:pre-wrap>Normal         </span></td><td>Labrador Retr &amp; Border Collie</td><td>N</td><td>⋯</td><td>Y</td><td>12</td><td>79</td><td>Sporting</td><td>White &amp; Black</td><td>22.0</td><td><span style=white-space:pre-wrap>No Lab Test       </span></td><td> 1/8/12 </td><td>Adoption</td><td> 7</td></tr>\n",
       "\t<tr><th scope=row>5</th><td>K12-000157</td><td>1/1/12</td><td>Stray</td><td>Dog</td><td>Neutered</td><td><span style=white-space:pre-wrap>Male  </span></td><td> 3</td><td>Injured or Sick</td><td><span style=white-space:pre-wrap>Labrador Retr                </span></td><td>N</td><td>⋯</td><td>Y</td><td>12</td><td>79</td><td>Sporting</td><td>Black &amp; White</td><td>54.0</td><td>Heartworm Negative</td><td> 4/4/12 </td><td>Adoption</td><td>94</td></tr>\n",
       "\t<tr><th scope=row>10</th><td>K12-000497</td><td>1/8/12</td><td>Stray</td><td>Dog</td><td><span style=white-space:pre-wrap>Spayed  </span></td><td>Female</td><td> 6</td><td><span style=white-space:pre-wrap>Normal         </span></td><td><span style=white-space:pre-wrap>Chihuahua Sh Mix             </span></td><td>N</td><td>⋯</td><td>N</td><td>18</td><td> 6</td><td><span style=white-space:pre-wrap>Toy     </span></td><td><span style=white-space:pre-wrap>Tan &amp; White  </span></td><td> 9.5</td><td>Heartworm Negative</td><td> 1/22/12</td><td>Adoption</td><td>14</td></tr>\n",
       "</tbody>\n",
       "</table>\n"
      ],
      "text/latex": [
       "A data.frame: 4 × 24\n",
       "\\begin{tabular}{r|lllllllllllllllllllll}\n",
       "  & Impound.No & Intake.Date & Intake.Type & Animal.Type & Neutered.Status & Sex & Age.Intake & Condition & Breed & Aggressive & ⋯ & Good.with.Kids & Max.Life.Expectancy & Max.Weight & Dog.Group & Color & Weight & Lab.Test & Outcome.Date & Outcome.Type & Days.Shelter\\\\\n",
       "  & <fct> & <fct> & <fct> & <fct> & <fct> & <fct> & <int> & <fct> & <fct> & <fct> & ⋯ & <fct> & <int> & <int> & <fct> & <fct> & <dbl> & <fct> & <fct> & <fct> & <int>\\\\\n",
       "\\hline\n",
       "\t1 & K12-000031 & 1/1/12 & Stray & Dog & Spayed   & Female & 10 & Injured or Sick & Chihuahua Sh Mix              & N & ⋯ & N & 18 &  6 & Toy      & Tan \\& White   &  3.3 & Heartworm Negative &  1/7/12  & Adoption &  6\\\\\n",
       "\t4 & K12-000125 & 1/1/12 & Stray & Dog & Neutered & Male   &  0 & Normal          & Labrador Retr \\& Border Collie & N & ⋯ & Y & 12 & 79 & Sporting & White \\& Black & 22.0 & No Lab Test        &  1/8/12  & Adoption &  7\\\\\n",
       "\t5 & K12-000157 & 1/1/12 & Stray & Dog & Neutered & Male   &  3 & Injured or Sick & Labrador Retr                 & N & ⋯ & Y & 12 & 79 & Sporting & Black \\& White & 54.0 & Heartworm Negative &  4/4/12  & Adoption & 94\\\\\n",
       "\t10 & K12-000497 & 1/8/12 & Stray & Dog & Spayed   & Female &  6 & Normal          & Chihuahua Sh Mix              & N & ⋯ & N & 18 &  6 & Toy      & Tan \\& White   &  9.5 & Heartworm Negative &  1/22/12 & Adoption & 14\\\\\n",
       "\\end{tabular}\n"
      ],
      "text/markdown": [
       "\n",
       "A data.frame: 4 × 24\n",
       "\n",
       "| <!--/--> | Impound.No &lt;fct&gt; | Intake.Date &lt;fct&gt; | Intake.Type &lt;fct&gt; | Animal.Type &lt;fct&gt; | Neutered.Status &lt;fct&gt; | Sex &lt;fct&gt; | Age.Intake &lt;int&gt; | Condition &lt;fct&gt; | Breed &lt;fct&gt; | Aggressive &lt;fct&gt; | ⋯ ⋯ | Good.with.Kids &lt;fct&gt; | Max.Life.Expectancy &lt;int&gt; | Max.Weight &lt;int&gt; | Dog.Group &lt;fct&gt; | Color &lt;fct&gt; | Weight &lt;dbl&gt; | Lab.Test &lt;fct&gt; | Outcome.Date &lt;fct&gt; | Outcome.Type &lt;fct&gt; | Days.Shelter &lt;int&gt; |\n",
       "|---|---|---|---|---|---|---|---|---|---|---|---|---|---|---|---|---|---|---|---|---|---|\n",
       "| 1 | K12-000031 | 1/1/12 | Stray | Dog | Spayed   | Female | 10 | Injured or Sick | Chihuahua Sh Mix              | N | ⋯ | N | 18 |  6 | Toy      | Tan &amp; White   |  3.3 | Heartworm Negative |  1/7/12  | Adoption |  6 |\n",
       "| 4 | K12-000125 | 1/1/12 | Stray | Dog | Neutered | Male   |  0 | Normal          | Labrador Retr &amp; Border Collie | N | ⋯ | Y | 12 | 79 | Sporting | White &amp; Black | 22.0 | No Lab Test        |  1/8/12  | Adoption |  7 |\n",
       "| 5 | K12-000157 | 1/1/12 | Stray | Dog | Neutered | Male   |  3 | Injured or Sick | Labrador Retr                 | N | ⋯ | Y | 12 | 79 | Sporting | Black &amp; White | 54.0 | Heartworm Negative |  4/4/12  | Adoption | 94 |\n",
       "| 10 | K12-000497 | 1/8/12 | Stray | Dog | Spayed   | Female |  6 | Normal          | Chihuahua Sh Mix              | N | ⋯ | N | 18 |  6 | Toy      | Tan &amp; White   |  9.5 | Heartworm Negative |  1/22/12 | Adoption | 14 |\n",
       "\n"
      ],
      "text/plain": [
       "   Impound.No Intake.Date Intake.Type Animal.Type Neutered.Status Sex   \n",
       "1  K12-000031 1/1/12      Stray       Dog         Spayed          Female\n",
       "4  K12-000125 1/1/12      Stray       Dog         Neutered        Male  \n",
       "5  K12-000157 1/1/12      Stray       Dog         Neutered        Male  \n",
       "10 K12-000497 1/8/12      Stray       Dog         Spayed          Female\n",
       "   Age.Intake Condition       Breed                         Aggressive <U+22EF>       \n",
       "1  10         Injured or Sick Chihuahua Sh Mix              N          <U+22EF>\n",
       "4   0         Normal          Labrador Retr & Border Collie N          <U+22EF>\n",
       "5   3         Injured or Sick Labrador Retr                 N          <U+22EF>\n",
       "10  6         Normal          Chihuahua Sh Mix              N          <U+22EF>\n",
       "   Good.with.Kids Max.Life.Expectancy Max.Weight Dog.Group Color         Weight\n",
       "1  N              18                   6         Toy       Tan & White    3.3  \n",
       "4  Y              12                  79         Sporting  White & Black 22.0  \n",
       "5  Y              12                  79         Sporting  Black & White 54.0  \n",
       "10 N              18                   6         Toy       Tan & White    9.5  \n",
       "   Lab.Test           Outcome.Date Outcome.Type Days.Shelter\n",
       "1  Heartworm Negative  1/7/12      Adoption      6          \n",
       "4  No Lab Test         1/8/12      Adoption      7          \n",
       "5  Heartworm Negative  4/4/12      Adoption     94          \n",
       "10 Heartworm Negative  1/22/12     Adoption     14          "
      ]
     },
     "metadata": {},
     "output_type": "display_data"
    }
   ],
   "source": [
    "first10animals<-animaldata[1:10,]\n",
    "first10adopt <-first10animals[first10animals$Outcome.Type == \"Adoption\",]\n",
    "first10adopt"
   ]
  },
  {
   "cell_type": "markdown",
   "metadata": {},
   "source": [
    "Was the first owner-surrendered animal in the dataset neutered?"
   ]
  },
  {
   "cell_type": "code",
   "execution_count": 5,
   "metadata": {},
   "outputs": [
    {
     "data": {
      "text/html": [
       "<table>\n",
       "<caption>A data.frame: 6 × 24</caption>\n",
       "<thead>\n",
       "\t<tr><th></th><th scope=col>Impound.No</th><th scope=col>Intake.Date</th><th scope=col>Intake.Type</th><th scope=col>Animal.Type</th><th scope=col>Neutered.Status</th><th scope=col>Sex</th><th scope=col>Age.Intake</th><th scope=col>Condition</th><th scope=col>Breed</th><th scope=col>Aggressive</th><th scope=col>⋯</th><th scope=col>Good.with.Kids</th><th scope=col>Max.Life.Expectancy</th><th scope=col>Max.Weight</th><th scope=col>Dog.Group</th><th scope=col>Color</th><th scope=col>Weight</th><th scope=col>Lab.Test</th><th scope=col>Outcome.Date</th><th scope=col>Outcome.Type</th><th scope=col>Days.Shelter</th></tr>\n",
       "\t<tr><th></th><th scope=col>&lt;fct&gt;</th><th scope=col>&lt;fct&gt;</th><th scope=col>&lt;fct&gt;</th><th scope=col>&lt;fct&gt;</th><th scope=col>&lt;fct&gt;</th><th scope=col>&lt;fct&gt;</th><th scope=col>&lt;int&gt;</th><th scope=col>&lt;fct&gt;</th><th scope=col>&lt;fct&gt;</th><th scope=col>&lt;fct&gt;</th><th scope=col>⋯</th><th scope=col>&lt;fct&gt;</th><th scope=col>&lt;int&gt;</th><th scope=col>&lt;int&gt;</th><th scope=col>&lt;fct&gt;</th><th scope=col>&lt;fct&gt;</th><th scope=col>&lt;dbl&gt;</th><th scope=col>&lt;fct&gt;</th><th scope=col>&lt;fct&gt;</th><th scope=col>&lt;fct&gt;</th><th scope=col>&lt;int&gt;</th></tr>\n",
       "</thead>\n",
       "<tbody>\n",
       "\t<tr><th scope=row>1</th><td>K12-000031</td><td>1/1/12</td><td>Stray</td><td>Dog</td><td><span style=white-space:pre-wrap>Spayed  </span></td><td>Female</td><td>10</td><td>Injured or Sick</td><td><span style=white-space:pre-wrap>Chihuahua Sh Mix             </span></td><td>N</td><td>⋯</td><td>N</td><td>18</td><td> 6</td><td><span style=white-space:pre-wrap>Toy     </span></td><td><span style=white-space:pre-wrap>Tan &amp; White  </span></td><td> 3.3</td><td>Heartworm Negative</td><td> 1/7/12 </td><td><span style=white-space:pre-wrap>Adoption         </span></td><td> 6</td></tr>\n",
       "\t<tr><th scope=row>2</th><td>K12-000037</td><td>1/1/12</td><td>Stray</td><td>Dog</td><td><span style=white-space:pre-wrap>Intact  </span></td><td>Female</td><td> 3</td><td><span style=white-space:pre-wrap>Normal         </span></td><td><span style=white-space:pre-wrap>Rat Terrier Mix              </span></td><td>N</td><td>⋯</td><td>Y</td><td>14</td><td>25</td><td>Terrier </td><td>White &amp; Brown</td><td> 7.5</td><td><span style=white-space:pre-wrap>No Lab Test       </span></td><td> 1/3/12 </td><td><span style=white-space:pre-wrap>Return to Owner  </span></td><td> 2</td></tr>\n",
       "\t<tr><th scope=row>3</th><td>K12-000108</td><td>1/1/12</td><td>Stray</td><td>Dog</td><td><span style=white-space:pre-wrap>Intact  </span></td><td><span style=white-space:pre-wrap>Male  </span></td><td> 2</td><td><span style=white-space:pre-wrap>Normal         </span></td><td><span style=white-space:pre-wrap>Pit Bull Mix                 </span></td><td>N</td><td>⋯</td><td>Y</td><td>14</td><td>90</td><td>Terrier </td><td>Blue &amp; White </td><td>74.0</td><td>Heartworm Negative</td><td> 1/13/12</td><td>Humane Euthanasia</td><td>12</td></tr>\n",
       "\t<tr><th scope=row>4</th><td>K12-000125</td><td>1/1/12</td><td>Stray</td><td>Dog</td><td>Neutered</td><td><span style=white-space:pre-wrap>Male  </span></td><td> 0</td><td><span style=white-space:pre-wrap>Normal         </span></td><td>Labrador Retr &amp; Border Collie</td><td>N</td><td>⋯</td><td>Y</td><td>12</td><td>79</td><td>Sporting</td><td>White &amp; Black</td><td>22.0</td><td><span style=white-space:pre-wrap>No Lab Test       </span></td><td> 1/8/12 </td><td><span style=white-space:pre-wrap>Adoption         </span></td><td> 7</td></tr>\n",
       "\t<tr><th scope=row>5</th><td>K12-000157</td><td>1/1/12</td><td>Stray</td><td>Dog</td><td>Neutered</td><td><span style=white-space:pre-wrap>Male  </span></td><td> 3</td><td>Injured or Sick</td><td><span style=white-space:pre-wrap>Labrador Retr                </span></td><td>N</td><td>⋯</td><td>Y</td><td>12</td><td>79</td><td>Sporting</td><td>Black &amp; White</td><td>54.0</td><td>Heartworm Negative</td><td> 4/4/12 </td><td><span style=white-space:pre-wrap>Adoption         </span></td><td>94</td></tr>\n",
       "\t<tr><th scope=row>6</th><td>K12-000286</td><td>1/1/12</td><td>Stray</td><td>Dog</td><td>Neutered</td><td><span style=white-space:pre-wrap>Male  </span></td><td> 5</td><td><span style=white-space:pre-wrap>Normal         </span></td><td><span style=white-space:pre-wrap>Yorkshire Terr               </span></td><td>N</td><td>⋯</td><td>Y</td><td>15</td><td> 7</td><td>Terrier </td><td>Silver &amp; Tan </td><td> 4.8</td><td>Heartworm Negative</td><td> 1/10/12</td><td><span style=white-space:pre-wrap>Return to Owner  </span></td><td> 9</td></tr>\n",
       "</tbody>\n",
       "</table>\n"
      ],
      "text/latex": [
       "A data.frame: 6 × 24\n",
       "\\begin{tabular}{r|lllllllllllllllllllll}\n",
       "  & Impound.No & Intake.Date & Intake.Type & Animal.Type & Neutered.Status & Sex & Age.Intake & Condition & Breed & Aggressive & ⋯ & Good.with.Kids & Max.Life.Expectancy & Max.Weight & Dog.Group & Color & Weight & Lab.Test & Outcome.Date & Outcome.Type & Days.Shelter\\\\\n",
       "  & <fct> & <fct> & <fct> & <fct> & <fct> & <fct> & <int> & <fct> & <fct> & <fct> & ⋯ & <fct> & <int> & <int> & <fct> & <fct> & <dbl> & <fct> & <fct> & <fct> & <int>\\\\\n",
       "\\hline\n",
       "\t1 & K12-000031 & 1/1/12 & Stray & Dog & Spayed   & Female & 10 & Injured or Sick & Chihuahua Sh Mix              & N & ⋯ & N & 18 &  6 & Toy      & Tan \\& White   &  3.3 & Heartworm Negative &  1/7/12  & Adoption          &  6\\\\\n",
       "\t2 & K12-000037 & 1/1/12 & Stray & Dog & Intact   & Female &  3 & Normal          & Rat Terrier Mix               & N & ⋯ & Y & 14 & 25 & Terrier  & White \\& Brown &  7.5 & No Lab Test        &  1/3/12  & Return to Owner   &  2\\\\\n",
       "\t3 & K12-000108 & 1/1/12 & Stray & Dog & Intact   & Male   &  2 & Normal          & Pit Bull Mix                  & N & ⋯ & Y & 14 & 90 & Terrier  & Blue \\& White  & 74.0 & Heartworm Negative &  1/13/12 & Humane Euthanasia & 12\\\\\n",
       "\t4 & K12-000125 & 1/1/12 & Stray & Dog & Neutered & Male   &  0 & Normal          & Labrador Retr \\& Border Collie & N & ⋯ & Y & 12 & 79 & Sporting & White \\& Black & 22.0 & No Lab Test        &  1/8/12  & Adoption          &  7\\\\\n",
       "\t5 & K12-000157 & 1/1/12 & Stray & Dog & Neutered & Male   &  3 & Injured or Sick & Labrador Retr                 & N & ⋯ & Y & 12 & 79 & Sporting & Black \\& White & 54.0 & Heartworm Negative &  4/4/12  & Adoption          & 94\\\\\n",
       "\t6 & K12-000286 & 1/1/12 & Stray & Dog & Neutered & Male   &  5 & Normal          & Yorkshire Terr                & N & ⋯ & Y & 15 &  7 & Terrier  & Silver \\& Tan  &  4.8 & Heartworm Negative &  1/10/12 & Return to Owner   &  9\\\\\n",
       "\\end{tabular}\n"
      ],
      "text/markdown": [
       "\n",
       "A data.frame: 6 × 24\n",
       "\n",
       "| <!--/--> | Impound.No &lt;fct&gt; | Intake.Date &lt;fct&gt; | Intake.Type &lt;fct&gt; | Animal.Type &lt;fct&gt; | Neutered.Status &lt;fct&gt; | Sex &lt;fct&gt; | Age.Intake &lt;int&gt; | Condition &lt;fct&gt; | Breed &lt;fct&gt; | Aggressive &lt;fct&gt; | ⋯ ⋯ | Good.with.Kids &lt;fct&gt; | Max.Life.Expectancy &lt;int&gt; | Max.Weight &lt;int&gt; | Dog.Group &lt;fct&gt; | Color &lt;fct&gt; | Weight &lt;dbl&gt; | Lab.Test &lt;fct&gt; | Outcome.Date &lt;fct&gt; | Outcome.Type &lt;fct&gt; | Days.Shelter &lt;int&gt; |\n",
       "|---|---|---|---|---|---|---|---|---|---|---|---|---|---|---|---|---|---|---|---|---|---|\n",
       "| 1 | K12-000031 | 1/1/12 | Stray | Dog | Spayed   | Female | 10 | Injured or Sick | Chihuahua Sh Mix              | N | ⋯ | N | 18 |  6 | Toy      | Tan &amp; White   |  3.3 | Heartworm Negative |  1/7/12  | Adoption          |  6 |\n",
       "| 2 | K12-000037 | 1/1/12 | Stray | Dog | Intact   | Female |  3 | Normal          | Rat Terrier Mix               | N | ⋯ | Y | 14 | 25 | Terrier  | White &amp; Brown |  7.5 | No Lab Test        |  1/3/12  | Return to Owner   |  2 |\n",
       "| 3 | K12-000108 | 1/1/12 | Stray | Dog | Intact   | Male   |  2 | Normal          | Pit Bull Mix                  | N | ⋯ | Y | 14 | 90 | Terrier  | Blue &amp; White  | 74.0 | Heartworm Negative |  1/13/12 | Humane Euthanasia | 12 |\n",
       "| 4 | K12-000125 | 1/1/12 | Stray | Dog | Neutered | Male   |  0 | Normal          | Labrador Retr &amp; Border Collie | N | ⋯ | Y | 12 | 79 | Sporting | White &amp; Black | 22.0 | No Lab Test        |  1/8/12  | Adoption          |  7 |\n",
       "| 5 | K12-000157 | 1/1/12 | Stray | Dog | Neutered | Male   |  3 | Injured or Sick | Labrador Retr                 | N | ⋯ | Y | 12 | 79 | Sporting | Black &amp; White | 54.0 | Heartworm Negative |  4/4/12  | Adoption          | 94 |\n",
       "| 6 | K12-000286 | 1/1/12 | Stray | Dog | Neutered | Male   |  5 | Normal          | Yorkshire Terr                | N | ⋯ | Y | 15 |  7 | Terrier  | Silver &amp; Tan  |  4.8 | Heartworm Negative |  1/10/12 | Return to Owner   |  9 |\n",
       "\n"
      ],
      "text/plain": [
       "  Impound.No Intake.Date Intake.Type Animal.Type Neutered.Status Sex   \n",
       "1 K12-000031 1/1/12      Stray       Dog         Spayed          Female\n",
       "2 K12-000037 1/1/12      Stray       Dog         Intact          Female\n",
       "3 K12-000108 1/1/12      Stray       Dog         Intact          Male  \n",
       "4 K12-000125 1/1/12      Stray       Dog         Neutered        Male  \n",
       "5 K12-000157 1/1/12      Stray       Dog         Neutered        Male  \n",
       "6 K12-000286 1/1/12      Stray       Dog         Neutered        Male  \n",
       "  Age.Intake Condition       Breed                         Aggressive <U+22EF>       \n",
       "1 10         Injured or Sick Chihuahua Sh Mix              N          <U+22EF>\n",
       "2  3         Normal          Rat Terrier Mix               N          <U+22EF>\n",
       "3  2         Normal          Pit Bull Mix                  N          <U+22EF>\n",
       "4  0         Normal          Labrador Retr & Border Collie N          <U+22EF>\n",
       "5  3         Injured or Sick Labrador Retr                 N          <U+22EF>\n",
       "6  5         Normal          Yorkshire Terr                N          <U+22EF>\n",
       "  Good.with.Kids Max.Life.Expectancy Max.Weight Dog.Group Color         Weight\n",
       "1 N              18                   6         Toy       Tan & White    3.3  \n",
       "2 Y              14                  25         Terrier   White & Brown  7.5  \n",
       "3 Y              14                  90         Terrier   Blue & White  74.0  \n",
       "4 Y              12                  79         Sporting  White & Black 22.0  \n",
       "5 Y              12                  79         Sporting  Black & White 54.0  \n",
       "6 Y              15                   7         Terrier   Silver & Tan   4.8  \n",
       "  Lab.Test           Outcome.Date Outcome.Type      Days.Shelter\n",
       "1 Heartworm Negative  1/7/12      Adoption           6          \n",
       "2 No Lab Test         1/3/12      Return to Owner    2          \n",
       "3 Heartworm Negative  1/13/12     Humane Euthanasia 12          \n",
       "4 No Lab Test         1/8/12      Adoption           7          \n",
       "5 Heartworm Negative  4/4/12      Adoption          94          \n",
       "6 Heartworm Negative  1/10/12     Return to Owner    9          "
      ]
     },
     "metadata": {},
     "output_type": "display_data"
    }
   ],
   "source": [
    "head(animaldata)"
   ]
  },
  {
   "cell_type": "markdown",
   "metadata": {},
   "source": [
    "Let's generate a frequency table to show us how many animals experienced each type of outcome."
   ]
  },
  {
   "cell_type": "code",
   "execution_count": 6,
   "metadata": {},
   "outputs": [
    {
     "data": {
      "text/plain": [
       "\n",
       "         Adoption              Died Humane Euthanasia   Return to Owner \n",
       "              204                 3                39                73 \n",
       "         Transfer \n",
       "              154 "
      ]
     },
     "metadata": {},
     "output_type": "display_data"
    }
   ],
   "source": [
    "table(animaldata$Outcome.Type)"
   ]
  },
  {
   "cell_type": "markdown",
   "metadata": {},
   "source": [
    "Determine which animals in the dataset were adopted."
   ]
  },
  {
   "cell_type": "code",
   "execution_count": 7,
   "metadata": {},
   "outputs": [],
   "source": [
    "adopted <- animaldata[animaldata$Outcome.Type==\"Adoption\",]"
   ]
  },
  {
   "cell_type": "markdown",
   "metadata": {},
   "source": [
    "Determine how many days each adopted animal was adopted."
   ]
  },
  {
   "cell_type": "code",
   "execution_count": 8,
   "metadata": {},
   "outputs": [],
   "source": [
    "daystoadopt <- adopted$Days.Shelter"
   ]
  },
  {
   "cell_type": "markdown",
   "metadata": {},
   "source": [
    "Generate a histogram for the length of time these adopted animals were in the shelter."
   ]
  },
  {
   "cell_type": "code",
   "execution_count": 9,
   "metadata": {},
   "outputs": [
    {
     "data": {
      "image/png": "[encoded data removed]",
      "text/plain": [
       "Plot with title \"Histogram of daystoadopt\""
      ]
     },
     "metadata": {
      "image/png": {
       "height": 420,
       "width": 420
      },
      "text/plain": {
       "height": 420,
       "width": 420
      }
     },
     "output_type": "display_data"
    }
   ],
   "source": [
    "hist(daystoadopt)"
   ]
  },
  {
   "cell_type": "raw",
   "metadata": {},
   "source": [
    "Let's take the mean and standard deviation."
   ]
  },
  {
   "cell_type": "code",
   "execution_count": 10,
   "metadata": {},
   "outputs": [
    {
     "data": {
      "text/html": [
       "29.2647058823529"
      ],
      "text/latex": [
       "29.2647058823529"
      ],
      "text/markdown": [
       "29.2647058823529"
      ],
      "text/plain": [
       "[1] 29.26471"
      ]
     },
     "metadata": {},
     "output_type": "display_data"
    }
   ],
   "source": [
    "mean(daystoadopt)"
   ]
  },
  {
   "cell_type": "code",
   "execution_count": 11,
   "metadata": {},
   "outputs": [
    {
     "data": {
      "text/html": [
       "35.7154673812047"
      ],
      "text/latex": [
       "35.7154673812047"
      ],
      "text/markdown": [
       "35.7154673812047"
      ],
      "text/plain": [
       "[1] 35.71547"
      ]
     },
     "metadata": {},
     "output_type": "display_data"
    }
   ],
   "source": [
    "sd(daystoadopt)"
   ]
  },
  {
   "cell_type": "markdown",
   "metadata": {},
   "source": [
    "Select the appropriate measures of center and spread to describe the distribution."
   ]
  },
  {
   "cell_type": "code",
   "execution_count": 12,
   "metadata": {},
   "outputs": [
    {
     "data": {
      "text/html": [
       "13"
      ],
      "text/latex": [
       "13"
      ],
      "text/markdown": [
       "13"
      ],
      "text/plain": [
       "[1] 13"
      ]
     },
     "metadata": {},
     "output_type": "display_data"
    }
   ],
   "source": [
    "median(daystoadopt)"
   ]
  },
  {
   "cell_type": "code",
   "execution_count": 13,
   "metadata": {
    "scrolled": true
   },
   "outputs": [
    {
     "data": {
      "text/html": [
       "<style>\n",
       ".list-inline {list-style: none; margin:0; padding: 0}\n",
       ".list-inline>li {display: inline-block}\n",
       ".list-inline>li:not(:last-child)::after {content: \"\\00b7\"; padding: 0 .5ex}\n",
       "</style>\n",
       "<ol class=list-inline><li>2</li><li>8</li><li>13</li><li>38</li><li>211</li></ol>\n"
      ],
      "text/latex": [
       "\\begin{enumerate*}\n",
       "\\item 2\n",
       "\\item 8\n",
       "\\item 13\n",
       "\\item 38\n",
       "\\item 211\n",
       "\\end{enumerate*}\n"
      ],
      "text/markdown": [
       "1. 2\n",
       "2. 8\n",
       "3. 13\n",
       "4. 38\n",
       "5. 211\n",
       "\n",
       "\n"
      ],
      "text/plain": [
       "[1]   2   8  13  38 211"
      ]
     },
     "metadata": {},
     "output_type": "display_data"
    }
   ],
   "source": [
    "fivenum(daystoadopt)"
   ]
  },
  {
   "cell_type": "markdown",
   "metadata": {},
   "source": [
    "Identify which animal was an outlier on this particular variable."
   ]
  },
  {
   "cell_type": "code",
   "execution_count": 14,
   "metadata": {},
   "outputs": [
    {
     "data": {
      "text/html": [
       "425"
      ],
      "text/latex": [
       "425"
      ],
      "text/markdown": [
       "425"
      ],
      "text/plain": [
       "[1] 425"
      ]
     },
     "metadata": {},
     "output_type": "display_data"
    }
   ],
   "source": [
    "which(animaldata$Days.Shelter==max(daystoadopt))"
   ]
  },
  {
   "cell_type": "markdown",
   "metadata": {},
   "source": [
    "Show animal 425:"
   ]
  },
  {
   "cell_type": "code",
   "execution_count": 15,
   "metadata": {},
   "outputs": [
    {
     "data": {
      "text/html": [
       "<table>\n",
       "<caption>A data.frame: 1 × 24</caption>\n",
       "<thead>\n",
       "\t<tr><th></th><th scope=col>Impound.No</th><th scope=col>Intake.Date</th><th scope=col>Intake.Type</th><th scope=col>Animal.Type</th><th scope=col>Neutered.Status</th><th scope=col>Sex</th><th scope=col>Age.Intake</th><th scope=col>Condition</th><th scope=col>Breed</th><th scope=col>Aggressive</th><th scope=col>⋯</th><th scope=col>Good.with.Kids</th><th scope=col>Max.Life.Expectancy</th><th scope=col>Max.Weight</th><th scope=col>Dog.Group</th><th scope=col>Color</th><th scope=col>Weight</th><th scope=col>Lab.Test</th><th scope=col>Outcome.Date</th><th scope=col>Outcome.Type</th><th scope=col>Days.Shelter</th></tr>\n",
       "\t<tr><th></th><th scope=col>&lt;fct&gt;</th><th scope=col>&lt;fct&gt;</th><th scope=col>&lt;fct&gt;</th><th scope=col>&lt;fct&gt;</th><th scope=col>&lt;fct&gt;</th><th scope=col>&lt;fct&gt;</th><th scope=col>&lt;int&gt;</th><th scope=col>&lt;fct&gt;</th><th scope=col>&lt;fct&gt;</th><th scope=col>&lt;fct&gt;</th><th scope=col>⋯</th><th scope=col>&lt;fct&gt;</th><th scope=col>&lt;int&gt;</th><th scope=col>&lt;int&gt;</th><th scope=col>&lt;fct&gt;</th><th scope=col>&lt;fct&gt;</th><th scope=col>&lt;dbl&gt;</th><th scope=col>&lt;fct&gt;</th><th scope=col>&lt;fct&gt;</th><th scope=col>&lt;fct&gt;</th><th scope=col>&lt;int&gt;</th></tr>\n",
       "</thead>\n",
       "<tbody>\n",
       "\t<tr><th scope=row>425</th><td>K12-020743</td><td>11/18/12</td><td>Stray</td><td>Dog</td><td>Neutered</td><td>Male</td><td>2</td><td>Injured or Sick</td><td>Aust Cattle Dog &amp; Labrador Retr</td><td>Y</td><td>⋯</td><td>Y</td><td>16</td><td>35</td><td>Herding</td><td>White &amp; Tan</td><td>48.25</td><td>Heartworm Negative</td><td> 6/17/13</td><td>Adoption</td><td>211</td></tr>\n",
       "</tbody>\n",
       "</table>\n"
      ],
      "text/latex": [
       "A data.frame: 1 × 24\n",
       "\\begin{tabular}{r|lllllllllllllllllllll}\n",
       "  & Impound.No & Intake.Date & Intake.Type & Animal.Type & Neutered.Status & Sex & Age.Intake & Condition & Breed & Aggressive & ⋯ & Good.with.Kids & Max.Life.Expectancy & Max.Weight & Dog.Group & Color & Weight & Lab.Test & Outcome.Date & Outcome.Type & Days.Shelter\\\\\n",
       "  & <fct> & <fct> & <fct> & <fct> & <fct> & <fct> & <int> & <fct> & <fct> & <fct> & ⋯ & <fct> & <int> & <int> & <fct> & <fct> & <dbl> & <fct> & <fct> & <fct> & <int>\\\\\n",
       "\\hline\n",
       "\t425 & K12-020743 & 11/18/12 & Stray & Dog & Neutered & Male & 2 & Injured or Sick & Aust Cattle Dog \\& Labrador Retr & Y & ⋯ & Y & 16 & 35 & Herding & White \\& Tan & 48.25 & Heartworm Negative &  6/17/13 & Adoption & 211\\\\\n",
       "\\end{tabular}\n"
      ],
      "text/markdown": [
       "\n",
       "A data.frame: 1 × 24\n",
       "\n",
       "| <!--/--> | Impound.No &lt;fct&gt; | Intake.Date &lt;fct&gt; | Intake.Type &lt;fct&gt; | Animal.Type &lt;fct&gt; | Neutered.Status &lt;fct&gt; | Sex &lt;fct&gt; | Age.Intake &lt;int&gt; | Condition &lt;fct&gt; | Breed &lt;fct&gt; | Aggressive &lt;fct&gt; | ⋯ ⋯ | Good.with.Kids &lt;fct&gt; | Max.Life.Expectancy &lt;int&gt; | Max.Weight &lt;int&gt; | Dog.Group &lt;fct&gt; | Color &lt;fct&gt; | Weight &lt;dbl&gt; | Lab.Test &lt;fct&gt; | Outcome.Date &lt;fct&gt; | Outcome.Type &lt;fct&gt; | Days.Shelter &lt;int&gt; |\n",
       "|---|---|---|---|---|---|---|---|---|---|---|---|---|---|---|---|---|---|---|---|---|---|\n",
       "| 425 | K12-020743 | 11/18/12 | Stray | Dog | Neutered | Male | 2 | Injured or Sick | Aust Cattle Dog &amp; Labrador Retr | Y | ⋯ | Y | 16 | 35 | Herding | White &amp; Tan | 48.25 | Heartworm Negative |  6/17/13 | Adoption | 211 |\n",
       "\n"
      ],
      "text/plain": [
       "    Impound.No Intake.Date Intake.Type Animal.Type Neutered.Status Sex \n",
       "425 K12-020743 11/18/12    Stray       Dog         Neutered        Male\n",
       "    Age.Intake Condition       Breed                           Aggressive\n",
       "425 2          Injured or Sick Aust Cattle Dog & Labrador Retr Y         \n",
       "    <U+22EF>        Good.with.Kids Max.Life.Expectancy Max.Weight Dog.Group\n",
       "425 <U+22EF> Y              16                  35         Herding  \n",
       "    Color       Weight Lab.Test           Outcome.Date Outcome.Type\n",
       "425 White & Tan 48.25  Heartworm Negative  6/17/13     Adoption    \n",
       "    Days.Shelter\n",
       "425 211         "
      ]
     },
     "metadata": {},
     "output_type": "display_data"
    }
   ],
   "source": [
    "animaldata[425,]"
   ]
  },
  {
   "cell_type": "markdown",
   "metadata": {},
   "source": [
    "Find the sub-set 'Males' from our animaldata."
   ]
  },
  {
   "cell_type": "code",
   "execution_count": 16,
   "metadata": {},
   "outputs": [
    {
     "data": {
      "text/html": [
       "<table>\n",
       "<caption>A data.frame: 6 × 24</caption>\n",
       "<thead>\n",
       "\t<tr><th></th><th scope=col>Impound.No</th><th scope=col>Intake.Date</th><th scope=col>Intake.Type</th><th scope=col>Animal.Type</th><th scope=col>Neutered.Status</th><th scope=col>Sex</th><th scope=col>Age.Intake</th><th scope=col>Condition</th><th scope=col>Breed</th><th scope=col>Aggressive</th><th scope=col>⋯</th><th scope=col>Good.with.Kids</th><th scope=col>Max.Life.Expectancy</th><th scope=col>Max.Weight</th><th scope=col>Dog.Group</th><th scope=col>Color</th><th scope=col>Weight</th><th scope=col>Lab.Test</th><th scope=col>Outcome.Date</th><th scope=col>Outcome.Type</th><th scope=col>Days.Shelter</th></tr>\n",
       "\t<tr><th></th><th scope=col>&lt;fct&gt;</th><th scope=col>&lt;fct&gt;</th><th scope=col>&lt;fct&gt;</th><th scope=col>&lt;fct&gt;</th><th scope=col>&lt;fct&gt;</th><th scope=col>&lt;fct&gt;</th><th scope=col>&lt;int&gt;</th><th scope=col>&lt;fct&gt;</th><th scope=col>&lt;fct&gt;</th><th scope=col>&lt;fct&gt;</th><th scope=col>⋯</th><th scope=col>&lt;fct&gt;</th><th scope=col>&lt;int&gt;</th><th scope=col>&lt;int&gt;</th><th scope=col>&lt;fct&gt;</th><th scope=col>&lt;fct&gt;</th><th scope=col>&lt;dbl&gt;</th><th scope=col>&lt;fct&gt;</th><th scope=col>&lt;fct&gt;</th><th scope=col>&lt;fct&gt;</th><th scope=col>&lt;int&gt;</th></tr>\n",
       "</thead>\n",
       "<tbody>\n",
       "\t<tr><th scope=row>3</th><td>K12-000108</td><td>1/1/12</td><td><span style=white-space:pre-wrap>Stray          </span></td><td>Dog</td><td><span style=white-space:pre-wrap>Intact  </span></td><td>Male</td><td>2</td><td><span style=white-space:pre-wrap>Normal         </span></td><td><span style=white-space:pre-wrap>Pit Bull Mix                 </span></td><td>N</td><td>⋯</td><td>Y</td><td>14</td><td>90</td><td>Terrier </td><td>Blue &amp; White </td><td>74.0</td><td>Heartworm Negative</td><td> 1/13/12</td><td>Humane Euthanasia</td><td>12</td></tr>\n",
       "\t<tr><th scope=row>4</th><td>K12-000125</td><td>1/1/12</td><td><span style=white-space:pre-wrap>Stray          </span></td><td>Dog</td><td>Neutered</td><td>Male</td><td>0</td><td><span style=white-space:pre-wrap>Normal         </span></td><td>Labrador Retr &amp; Border Collie</td><td>N</td><td>⋯</td><td>Y</td><td>12</td><td>79</td><td>Sporting</td><td>White &amp; Black</td><td>22.0</td><td><span style=white-space:pre-wrap>No Lab Test       </span></td><td> 1/8/12 </td><td><span style=white-space:pre-wrap>Adoption         </span></td><td> 7</td></tr>\n",
       "\t<tr><th scope=row>5</th><td>K12-000157</td><td>1/1/12</td><td><span style=white-space:pre-wrap>Stray          </span></td><td>Dog</td><td>Neutered</td><td>Male</td><td>3</td><td>Injured or Sick</td><td><span style=white-space:pre-wrap>Labrador Retr                </span></td><td>N</td><td>⋯</td><td>Y</td><td>12</td><td>79</td><td>Sporting</td><td>Black &amp; White</td><td>54.0</td><td>Heartworm Negative</td><td> 4/4/12 </td><td><span style=white-space:pre-wrap>Adoption         </span></td><td>94</td></tr>\n",
       "\t<tr><th scope=row>6</th><td>K12-000286</td><td>1/1/12</td><td><span style=white-space:pre-wrap>Stray          </span></td><td>Dog</td><td>Neutered</td><td>Male</td><td>5</td><td><span style=white-space:pre-wrap>Normal         </span></td><td><span style=white-space:pre-wrap>Yorkshire Terr               </span></td><td>N</td><td>⋯</td><td>Y</td><td>15</td><td> 7</td><td>Terrier </td><td>Silver &amp; Tan </td><td> 4.8</td><td>Heartworm Negative</td><td> 1/10/12</td><td><span style=white-space:pre-wrap>Return to Owner  </span></td><td> 9</td></tr>\n",
       "\t<tr><th scope=row>7</th><td>K12-000291</td><td>1/1/12</td><td>Owner Surrender</td><td>Dog</td><td><span style=white-space:pre-wrap>Intact  </span></td><td>Male</td><td>2</td><td><span style=white-space:pre-wrap>Normal         </span></td><td><span style=white-space:pre-wrap>Weimaraner Mix               </span></td><td>N</td><td>⋯</td><td>Y</td><td>13</td><td>80</td><td>Sporting</td><td>Fawn &amp; White </td><td>47.0</td><td>Heartworm Positive</td><td> 1/26/12</td><td>Humane Euthanasia</td><td>25</td></tr>\n",
       "\t<tr><th scope=row>11</th><td>K12-000498</td><td>1/8/12</td><td><span style=white-space:pre-wrap>Stray          </span></td><td>Dog</td><td>Neutered</td><td>Male</td><td>1</td><td><span style=white-space:pre-wrap>Normal         </span></td><td><span style=white-space:pre-wrap>Fox Terrier Smooth Mix       </span></td><td>N</td><td>⋯</td><td>N</td><td>15</td><td>20</td><td>Terrier </td><td><span style=white-space:pre-wrap>White &amp; Red  </span></td><td>16.5</td><td>Heartworm Negative</td><td> 1/19/12</td><td><span style=white-space:pre-wrap>Adoption         </span></td><td>11</td></tr>\n",
       "</tbody>\n",
       "</table>\n"
      ],
      "text/latex": [
       "A data.frame: 6 × 24\n",
       "\\begin{tabular}{r|lllllllllllllllllllll}\n",
       "  & Impound.No & Intake.Date & Intake.Type & Animal.Type & Neutered.Status & Sex & Age.Intake & Condition & Breed & Aggressive & ⋯ & Good.with.Kids & Max.Life.Expectancy & Max.Weight & Dog.Group & Color & Weight & Lab.Test & Outcome.Date & Outcome.Type & Days.Shelter\\\\\n",
       "  & <fct> & <fct> & <fct> & <fct> & <fct> & <fct> & <int> & <fct> & <fct> & <fct> & ⋯ & <fct> & <int> & <int> & <fct> & <fct> & <dbl> & <fct> & <fct> & <fct> & <int>\\\\\n",
       "\\hline\n",
       "\t3 & K12-000108 & 1/1/12 & Stray           & Dog & Intact   & Male & 2 & Normal          & Pit Bull Mix                  & N & ⋯ & Y & 14 & 90 & Terrier  & Blue \\& White  & 74.0 & Heartworm Negative &  1/13/12 & Humane Euthanasia & 12\\\\\n",
       "\t4 & K12-000125 & 1/1/12 & Stray           & Dog & Neutered & Male & 0 & Normal          & Labrador Retr \\& Border Collie & N & ⋯ & Y & 12 & 79 & Sporting & White \\& Black & 22.0 & No Lab Test        &  1/8/12  & Adoption          &  7\\\\\n",
       "\t5 & K12-000157 & 1/1/12 & Stray           & Dog & Neutered & Male & 3 & Injured or Sick & Labrador Retr                 & N & ⋯ & Y & 12 & 79 & Sporting & Black \\& White & 54.0 & Heartworm Negative &  4/4/12  & Adoption          & 94\\\\\n",
       "\t6 & K12-000286 & 1/1/12 & Stray           & Dog & Neutered & Male & 5 & Normal          & Yorkshire Terr                & N & ⋯ & Y & 15 &  7 & Terrier  & Silver \\& Tan  &  4.8 & Heartworm Negative &  1/10/12 & Return to Owner   &  9\\\\\n",
       "\t7 & K12-000291 & 1/1/12 & Owner Surrender & Dog & Intact   & Male & 2 & Normal          & Weimaraner Mix                & N & ⋯ & Y & 13 & 80 & Sporting & Fawn \\& White  & 47.0 & Heartworm Positive &  1/26/12 & Humane Euthanasia & 25\\\\\n",
       "\t11 & K12-000498 & 1/8/12 & Stray           & Dog & Neutered & Male & 1 & Normal          & Fox Terrier Smooth Mix        & N & ⋯ & N & 15 & 20 & Terrier  & White \\& Red   & 16.5 & Heartworm Negative &  1/19/12 & Adoption          & 11\\\\\n",
       "\\end{tabular}\n"
      ],
      "text/markdown": [
       "\n",
       "A data.frame: 6 × 24\n",
       "\n",
       "| <!--/--> | Impound.No &lt;fct&gt; | Intake.Date &lt;fct&gt; | Intake.Type &lt;fct&gt; | Animal.Type &lt;fct&gt; | Neutered.Status &lt;fct&gt; | Sex &lt;fct&gt; | Age.Intake &lt;int&gt; | Condition &lt;fct&gt; | Breed &lt;fct&gt; | Aggressive &lt;fct&gt; | ⋯ ⋯ | Good.with.Kids &lt;fct&gt; | Max.Life.Expectancy &lt;int&gt; | Max.Weight &lt;int&gt; | Dog.Group &lt;fct&gt; | Color &lt;fct&gt; | Weight &lt;dbl&gt; | Lab.Test &lt;fct&gt; | Outcome.Date &lt;fct&gt; | Outcome.Type &lt;fct&gt; | Days.Shelter &lt;int&gt; |\n",
       "|---|---|---|---|---|---|---|---|---|---|---|---|---|---|---|---|---|---|---|---|---|---|\n",
       "| 3 | K12-000108 | 1/1/12 | Stray           | Dog | Intact   | Male | 2 | Normal          | Pit Bull Mix                  | N | ⋯ | Y | 14 | 90 | Terrier  | Blue &amp; White  | 74.0 | Heartworm Negative |  1/13/12 | Humane Euthanasia | 12 |\n",
       "| 4 | K12-000125 | 1/1/12 | Stray           | Dog | Neutered | Male | 0 | Normal          | Labrador Retr &amp; Border Collie | N | ⋯ | Y | 12 | 79 | Sporting | White &amp; Black | 22.0 | No Lab Test        |  1/8/12  | Adoption          |  7 |\n",
       "| 5 | K12-000157 | 1/1/12 | Stray           | Dog | Neutered | Male | 3 | Injured or Sick | Labrador Retr                 | N | ⋯ | Y | 12 | 79 | Sporting | Black &amp; White | 54.0 | Heartworm Negative |  4/4/12  | Adoption          | 94 |\n",
       "| 6 | K12-000286 | 1/1/12 | Stray           | Dog | Neutered | Male | 5 | Normal          | Yorkshire Terr                | N | ⋯ | Y | 15 |  7 | Terrier  | Silver &amp; Tan  |  4.8 | Heartworm Negative |  1/10/12 | Return to Owner   |  9 |\n",
       "| 7 | K12-000291 | 1/1/12 | Owner Surrender | Dog | Intact   | Male | 2 | Normal          | Weimaraner Mix                | N | ⋯ | Y | 13 | 80 | Sporting | Fawn &amp; White  | 47.0 | Heartworm Positive |  1/26/12 | Humane Euthanasia | 25 |\n",
       "| 11 | K12-000498 | 1/8/12 | Stray           | Dog | Neutered | Male | 1 | Normal          | Fox Terrier Smooth Mix        | N | ⋯ | N | 15 | 20 | Terrier  | White &amp; Red   | 16.5 | Heartworm Negative |  1/19/12 | Adoption          | 11 |\n",
       "\n"
      ],
      "text/plain": [
       "   Impound.No Intake.Date Intake.Type     Animal.Type Neutered.Status Sex \n",
       "3  K12-000108 1/1/12      Stray           Dog         Intact          Male\n",
       "4  K12-000125 1/1/12      Stray           Dog         Neutered        Male\n",
       "5  K12-000157 1/1/12      Stray           Dog         Neutered        Male\n",
       "6  K12-000286 1/1/12      Stray           Dog         Neutered        Male\n",
       "7  K12-000291 1/1/12      Owner Surrender Dog         Intact          Male\n",
       "11 K12-000498 1/8/12      Stray           Dog         Neutered        Male\n",
       "   Age.Intake Condition       Breed                         Aggressive <U+22EF>       \n",
       "3  2          Normal          Pit Bull Mix                  N          <U+22EF>\n",
       "4  0          Normal          Labrador Retr & Border Collie N          <U+22EF>\n",
       "5  3          Injured or Sick Labrador Retr                 N          <U+22EF>\n",
       "6  5          Normal          Yorkshire Terr                N          <U+22EF>\n",
       "7  2          Normal          Weimaraner Mix                N          <U+22EF>\n",
       "11 1          Normal          Fox Terrier Smooth Mix        N          <U+22EF>\n",
       "   Good.with.Kids Max.Life.Expectancy Max.Weight Dog.Group Color         Weight\n",
       "3  Y              14                  90         Terrier   Blue & White  74.0  \n",
       "4  Y              12                  79         Sporting  White & Black 22.0  \n",
       "5  Y              12                  79         Sporting  Black & White 54.0  \n",
       "6  Y              15                   7         Terrier   Silver & Tan   4.8  \n",
       "7  Y              13                  80         Sporting  Fawn & White  47.0  \n",
       "11 N              15                  20         Terrier   White & Red   16.5  \n",
       "   Lab.Test           Outcome.Date Outcome.Type      Days.Shelter\n",
       "3  Heartworm Negative  1/13/12     Humane Euthanasia 12          \n",
       "4  No Lab Test         1/8/12      Adoption           7          \n",
       "5  Heartworm Negative  4/4/12      Adoption          94          \n",
       "6  Heartworm Negative  1/10/12     Return to Owner    9          \n",
       "7  Heartworm Positive  1/26/12     Humane Euthanasia 25          \n",
       "11 Heartworm Negative  1/19/12     Adoption          11          "
      ]
     },
     "metadata": {},
     "output_type": "display_data"
    }
   ],
   "source": [
    "males<-animaldata[animaldata$Sex == 'Male',] \n",
    "head(males)"
   ]
  },
  {
   "cell_type": "markdown",
   "metadata": {},
   "source": [
    "**On average, animals spent fewer than two weeks in the shelter before being adopted (median = 13 days, IQR = 30 days). The length of time was highly skewed to the right, however. The longest period of time an animal was in the shelter was 211 days before being adopted. This animal was a 2-year-old dog that entered the shelter injured. The middle 50% of the distribution were adopted between 8 and 38 days.**"
   ]
  },
  {
   "cell_type": "markdown",
   "metadata": {},
   "source": [
    "Create a table to show how many adult (at intake) cats and dogs are in the dataset. An animal is considered an adult if it is at least one year of age."
   ]
  },
  {
   "cell_type": "code",
   "execution_count": 17,
   "metadata": {},
   "outputs": [
    {
     "data": {
      "text/plain": [
       "\n",
       "Cat Dog \n",
       " 56 226 "
      ]
     },
     "metadata": {},
     "output_type": "display_data"
    }
   ],
   "source": [
    "adults = animaldata[animaldata$Age.Intake >= 1,]\n",
    "table(adults$Animal.Type)"
   ]
  },
  {
   "cell_type": "markdown",
   "metadata": {},
   "source": [
    "Make a histogram of weight for both adult dogs and cats."
   ]
  },
  {
   "cell_type": "code",
   "execution_count": 18,
   "metadata": {},
   "outputs": [
    {
     "data": {
      "image/png": "[encoded data removed]",
      "text/plain": [
       "Plot with title \"Dog\""
      ]
     },
     "metadata": {
      "image/png": {
       "height": 420,
       "width": 420
      },
      "text/plain": {
       "height": 420,
       "width": 420
      }
     },
     "output_type": "display_data"
    }
   ],
   "source": [
    "DogAdult = adults[adults$Animal.Type == \"Dog\",]\n",
    "hist(DogAdult$Weight,main = \"Dog\")"
   ]
  },
  {
   "cell_type": "code",
   "execution_count": 19,
   "metadata": {},
   "outputs": [
    {
     "data": {
      "image/png": "[encoded data removed]",
      "text/plain": [
       "Plot with title \"Cat\""
      ]
     },
     "metadata": {
      "image/png": {
       "height": 420,
       "width": 420
      },
      "text/plain": {
       "height": 420,
       "width": 420
      }
     },
     "output_type": "display_data"
    }
   ],
   "source": [
    "CatAdult = adults[adults$Animal.Type == \"Cat\",]\n",
    "hist(CatAdult$Weight, main = \"Cat\")"
   ]
  },
  {
   "cell_type": "markdown",
   "metadata": {},
   "source": [
    "Calculate the appropriate measures of center and spread for each distribution."
   ]
  },
  {
   "cell_type": "code",
   "execution_count": 20,
   "metadata": {},
   "outputs": [
    {
     "data": {
      "text/html": [
       "<style>\n",
       ".list-inline {list-style: none; margin:0; padding: 0}\n",
       ".list-inline>li {display: inline-block}\n",
       ".list-inline>li:not(:last-child)::after {content: \"\\00b7\"; padding: 0 .5ex}\n",
       "</style>\n",
       "<ol class=list-inline><li>3.3</li><li>13.5</li><li>35.25</li><li>54</li><li>131</li></ol>\n"
      ],
      "text/latex": [
       "\\begin{enumerate*}\n",
       "\\item 3.3\n",
       "\\item 13.5\n",
       "\\item 35.25\n",
       "\\item 54\n",
       "\\item 131\n",
       "\\end{enumerate*}\n"
      ],
      "text/markdown": [
       "1. 3.3\n",
       "2. 13.5\n",
       "3. 35.25\n",
       "4. 54\n",
       "5. 131\n",
       "\n",
       "\n"
      ],
      "text/plain": [
       "[1]   3.30  13.50  35.25  54.00 131.00"
      ]
     },
     "metadata": {},
     "output_type": "display_data"
    }
   ],
   "source": [
    "# Because Dogs have skewed to the right distribuction, we are interested in Q2 and IQR (Q3-Q1)\n",
    "fivenum(DogAdult$Weight)"
   ]
  },
  {
   "cell_type": "code",
   "execution_count": 21,
   "metadata": {},
   "outputs": [
    {
     "data": {
      "text/html": [
       "<style>\n",
       ".list-inline {list-style: none; margin:0; padding: 0}\n",
       ".list-inline>li {display: inline-block}\n",
       ".list-inline>li:not(:last-child)::after {content: \"\\00b7\"; padding: 0 .5ex}\n",
       "</style>\n",
       "<ol class=list-inline><li>4.75</li><li>7.4</li><li>8.5</li><li>9.75</li><li>13.5</li></ol>\n"
      ],
      "text/latex": [
       "\\begin{enumerate*}\n",
       "\\item 4.75\n",
       "\\item 7.4\n",
       "\\item 8.5\n",
       "\\item 9.75\n",
       "\\item 13.5\n",
       "\\end{enumerate*}\n"
      ],
      "text/markdown": [
       "1. 4.75\n",
       "2. 7.4\n",
       "3. 8.5\n",
       "4. 9.75\n",
       "5. 13.5\n",
       "\n",
       "\n"
      ],
      "text/plain": [
       "[1]  4.75  7.40  8.50  9.75 13.50"
      ]
     },
     "metadata": {},
     "output_type": "display_data"
    },
    {
     "data": {
      "text/html": [
       "8.60357142857143"
      ],
      "text/latex": [
       "8.60357142857143"
      ],
      "text/markdown": [
       "8.60357142857143"
      ],
      "text/plain": [
       "[1] 8.603571"
      ]
     },
     "metadata": {},
     "output_type": "display_data"
    },
    {
     "data": {
      "text/html": [
       "1.91151670248944"
      ],
      "text/latex": [
       "1.91151670248944"
      ],
      "text/markdown": [
       "1.91151670248944"
      ],
      "text/plain": [
       "[1] 1.911517"
      ]
     },
     "metadata": {},
     "output_type": "display_data"
    }
   ],
   "source": [
    "# Cats have a normal distribuction\n",
    "fivenum(CatAdult$Weight)\n",
    "mean(CatAdult$Weight)\n",
    "sd(CatAdult$Weight)"
   ]
  },
  {
   "cell_type": "markdown",
   "metadata": {},
   "source": [
    "**Find the z-score for a 13-pound cat.**"
   ]
  },
  {
   "cell_type": "code",
   "execution_count": 22,
   "metadata": {},
   "outputs": [
    {
     "data": {
      "text/html": [
       "2.29996869276786"
      ],
      "text/latex": [
       "2.29996869276786"
      ],
      "text/markdown": [
       "2.29996869276786"
      ],
      "text/plain": [
       "[1] 2.299969"
      ]
     },
     "metadata": {},
     "output_type": "display_data"
    }
   ],
   "source": [
    "(13-mean(CatAdult$Weight))/sd(CatAdult$Weight)"
   ]
  },
  {
   "cell_type": "markdown",
   "metadata": {},
   "source": [
    "**Find the quartile for a 13-pound cat.**"
   ]
  },
  {
   "cell_type": "code",
   "execution_count": 23,
   "metadata": {},
   "outputs": [
    {
     "data": {
      "text/plain": [
       "   Min. 1st Qu.  Median    Mean 3rd Qu.    Max. \n",
       "  4.750   7.450   8.500   8.604   9.750  13.500 "
      ]
     },
     "metadata": {},
     "output_type": "display_data"
    }
   ],
   "source": [
    "summary(CatAdult$Weight)"
   ]
  },
  {
   "cell_type": "code",
   "execution_count": 24,
   "metadata": {},
   "outputs": [
    {
     "data": {
      "image/png": "[encoded data removed]",
      "text/plain": [
       "plot without title"
      ]
     },
     "metadata": {
      "image/png": {
       "height": 420,
       "width": 420
      },
      "text/plain": {
       "height": 420,
       "width": 420
      }
     },
     "output_type": "display_data"
    }
   ],
   "source": [
    "boxplot(CatAdult$Weight)"
   ]
  },
  {
   "cell_type": "markdown",
   "metadata": {},
   "source": [
    "What proportion of adult cats weigh more than 13 pounds, according to your data?"
   ]
  },
  {
   "cell_type": "code",
   "execution_count": 25,
   "metadata": {},
   "outputs": [
    {
     "data": {
      "text/html": [
       "0.010724996894752"
      ],
      "text/latex": [
       "0.010724996894752"
      ],
      "text/markdown": [
       "0.010724996894752"
      ],
      "text/plain": [
       "[1] 0.010725"
      ]
     },
     "metadata": {},
     "output_type": "display_data"
    }
   ],
   "source": [
    "1-pnorm(2.29996869276786)"
   ]
  },
  {
   "cell_type": "markdown",
   "metadata": {},
   "source": [
    "**Find the quartile for a 13-pound dog.**"
   ]
  },
  {
   "cell_type": "code",
   "execution_count": 26,
   "metadata": {},
   "outputs": [
    {
     "data": {
      "text/html": [
       "<style>\n",
       ".list-inline {list-style: none; margin:0; padding: 0}\n",
       ".list-inline>li {display: inline-block}\n",
       ".list-inline>li:not(:last-child)::after {content: \"\\00b7\"; padding: 0 .5ex}\n",
       "</style>\n",
       "<ol class=list-inline><li>3.3</li><li>13.5</li><li>35.25</li><li>54</li><li>131</li></ol>\n"
      ],
      "text/latex": [
       "\\begin{enumerate*}\n",
       "\\item 3.3\n",
       "\\item 13.5\n",
       "\\item 35.25\n",
       "\\item 54\n",
       "\\item 131\n",
       "\\end{enumerate*}\n"
      ],
      "text/markdown": [
       "1. 3.3\n",
       "2. 13.5\n",
       "3. 35.25\n",
       "4. 54\n",
       "5. 131\n",
       "\n",
       "\n"
      ],
      "text/plain": [
       "[1]   3.30  13.50  35.25  54.00 131.00"
      ]
     },
     "metadata": {},
     "output_type": "display_data"
    }
   ],
   "source": [
    "fivenum(DogAdult$Weight)"
   ]
  },
  {
   "cell_type": "code",
   "execution_count": 27,
   "metadata": {},
   "outputs": [
    {
     "data": {
      "image/png": "[encoded data removed]",
      "text/plain": [
       "plot without title"
      ]
     },
     "metadata": {
      "image/png": {
       "height": 420,
       "width": 420
      },
      "text/plain": {
       "height": 420,
       "width": 420
      }
     },
     "output_type": "display_data"
    }
   ],
   "source": [
    "boxplot(DogAdult$Weight)"
   ]
  },
  {
   "cell_type": "markdown",
   "metadata": {},
   "source": [
    "About 95% of adult cats at the shelter weigh:\n",
    "\n",
    "      x1 = -sd*2 + mean\n",
    "      x2 = +sd*2 + mean"
   ]
  },
  {
   "cell_type": "code",
   "execution_count": 28,
   "metadata": {},
   "outputs": [
    {
     "data": {
      "text/html": [
       "4.78053802359255"
      ],
      "text/latex": [
       "4.78053802359255"
      ],
      "text/markdown": [
       "4.78053802359255"
      ],
      "text/plain": [
       "[1] 4.780538"
      ]
     },
     "metadata": {},
     "output_type": "display_data"
    },
    {
     "data": {
      "text/html": [
       "12.4266048335503"
      ],
      "text/latex": [
       "12.4266048335503"
      ],
      "text/markdown": [
       "12.4266048335503"
      ],
      "text/plain": [
       "[1] 12.4266"
      ]
     },
     "metadata": {},
     "output_type": "display_data"
    }
   ],
   "source": [
    "x1 <- -2*sd(CatAdult$Weight) + mean(CatAdult$Weight)\n",
    "x2 <- 2*sd(CatAdult$Weight) + mean(CatAdult$Weight)\n",
    "x1\n",
    "x2"
   ]
  },
  {
   "cell_type": "markdown",
   "metadata": {},
   "source": [
    "The distribution of adult cats in the shelter is roughly symmetric with a mean of 8.6 pounds and a standard deviation of 1.9 pounds. About 95% of adult cats at the shelter weigh between 4.8 and 12.4 pounds. The distribution of adult dogs in the shelter is positively skewed, with a median of 35.3 pounds and an IQR of 40.4 pounds. Half of the dogs at the shelter do weigh much more, including one that weighs 131.00. As the two distributions are to be compared, and one distribution is skewed, the data shows that the median weight for both groups is 8.5 for cats and 35.3 for dogs.\n",
    "\n",
    "A 13-pound cat would not be typical at the shelter. On the other hand, about 75% of all dogs at the shelter weigh more than 13 pounds. Overall, the distributions of weights for adult cats and adult dogs at the shelter differ both in shape and in measures of center and spread. Cats generally weigh less and have less variation in their weights than dogs, while dogs tend to weigh more and have more variability."
   ]
  },
  {
   "cell_type": "markdown",
   "metadata": {},
   "source": [
    "**What was the most common way that dogs arrived in the shelter?**"
   ]
  },
  {
   "cell_type": "code",
   "execution_count": 29,
   "metadata": {},
   "outputs": [
    {
     "data": {
      "text/plain": [
       "\n",
       "Euthanasia Request    Owner Surrender      Public Assist              Stray \n",
       "                 1                129                 23                320 "
      ]
     },
     "metadata": {},
     "output_type": "display_data"
    }
   ],
   "source": [
    "table(animaldata$Intake.Type)"
   ]
  },
  {
   "cell_type": "code",
   "execution_count": 30,
   "metadata": {},
   "outputs": [
    {
     "data": {
      "text/plain": [
       "\n",
       "Euthanasia Request    Owner Surrender      Public Assist              Stray \n",
       "                 1                 81                 20                189 "
      ]
     },
     "metadata": {},
     "output_type": "display_data"
    }
   ],
   "source": [
    "Dogs <- animaldata[animaldata$Animal.Type == \"Dog\",]\n",
    "table(Dogs$Intake.Type)"
   ]
  },
  {
   "cell_type": "markdown",
   "metadata": {},
   "source": [
    "**What proportion of dogs were brought to the shelter as an owner surrender?**"
   ]
  },
  {
   "cell_type": "code",
   "execution_count": 31,
   "metadata": {},
   "outputs": [
    {
     "data": {
      "text/html": [
       "0.278350515463918"
      ],
      "text/latex": [
       "0.278350515463918"
      ],
      "text/markdown": [
       "0.278350515463918"
      ],
      "text/plain": [
       "[1] 0.2783505"
      ]
     },
     "metadata": {},
     "output_type": "display_data"
    }
   ],
   "source": [
    "81/(1+81+20+189)"
   ]
  },
  {
   "cell_type": "code",
   "execution_count": 32,
   "metadata": {},
   "outputs": [
    {
     "data": {
      "text/html": [
       "473"
      ],
      "text/latex": [
       "473"
      ],
      "text/markdown": [
       "473"
      ],
      "text/plain": [
       "[1] 473"
      ]
     },
     "metadata": {},
     "output_type": "display_data"
    }
   ],
   "source": [
    "129+1+23+320"
   ]
  },
  {
   "cell_type": "code",
   "execution_count": 33,
   "metadata": {},
   "outputs": [
    {
     "data": {
      "text/html": [
       "0.272727272727273"
      ],
      "text/latex": [
       "0.272727272727273"
      ],
      "text/markdown": [
       "0.272727272727273"
      ],
      "text/plain": [
       "[1] 0.2727273"
      ]
     },
     "metadata": {},
     "output_type": "display_data"
    }
   ],
   "source": [
    "129/473"
   ]
  },
  {
   "cell_type": "markdown",
   "metadata": {},
   "source": [
    "**Of the dogs that were brought to the shelter as an owner surrender, how many were returned to their owner?**"
   ]
  },
  {
   "cell_type": "code",
   "execution_count": 34,
   "metadata": {},
   "outputs": [
    {
     "data": {
      "text/html": [
       "<table>\n",
       "<caption>A data.frame: 81 × 24</caption>\n",
       "<thead>\n",
       "\t<tr><th></th><th scope=col>Impound.No</th><th scope=col>Intake.Date</th><th scope=col>Intake.Type</th><th scope=col>Animal.Type</th><th scope=col>Neutered.Status</th><th scope=col>Sex</th><th scope=col>Age.Intake</th><th scope=col>Condition</th><th scope=col>Breed</th><th scope=col>Aggressive</th><th scope=col>⋯</th><th scope=col>Good.with.Kids</th><th scope=col>Max.Life.Expectancy</th><th scope=col>Max.Weight</th><th scope=col>Dog.Group</th><th scope=col>Color</th><th scope=col>Weight</th><th scope=col>Lab.Test</th><th scope=col>Outcome.Date</th><th scope=col>Outcome.Type</th><th scope=col>Days.Shelter</th></tr>\n",
       "\t<tr><th></th><th scope=col>&lt;fct&gt;</th><th scope=col>&lt;fct&gt;</th><th scope=col>&lt;fct&gt;</th><th scope=col>&lt;fct&gt;</th><th scope=col>&lt;fct&gt;</th><th scope=col>&lt;fct&gt;</th><th scope=col>&lt;int&gt;</th><th scope=col>&lt;fct&gt;</th><th scope=col>&lt;fct&gt;</th><th scope=col>&lt;fct&gt;</th><th scope=col>⋯</th><th scope=col>&lt;fct&gt;</th><th scope=col>&lt;int&gt;</th><th scope=col>&lt;int&gt;</th><th scope=col>&lt;fct&gt;</th><th scope=col>&lt;fct&gt;</th><th scope=col>&lt;dbl&gt;</th><th scope=col>&lt;fct&gt;</th><th scope=col>&lt;fct&gt;</th><th scope=col>&lt;fct&gt;</th><th scope=col>&lt;int&gt;</th></tr>\n",
       "</thead>\n",
       "<tbody>\n",
       "\t<tr><th scope=row>7</th><td>K12-000291</td><td>1/1/12 </td><td>Owner Surrender</td><td>Dog</td><td><span style=white-space:pre-wrap>Intact  </span></td><td><span style=white-space:pre-wrap>Male  </span></td><td> 2</td><td><span style=white-space:pre-wrap>Normal         </span></td><td><span style=white-space:pre-wrap>Weimaraner Mix               </span></td><td>N</td><td>⋯</td><td>Y</td><td>13</td><td> 80</td><td><span style=white-space:pre-wrap>Sporting    </span></td><td><span style=white-space:pre-wrap>Fawn &amp; White      </span></td><td>47.0</td><td>Heartworm Positive</td><td> 1/26/12</td><td>Humane Euthanasia</td><td>25</td></tr>\n",
       "\t<tr><th scope=row>16</th><td>K12-000712</td><td>1/15/12</td><td>Owner Surrender</td><td>Dog</td><td><span style=white-space:pre-wrap>Spayed  </span></td><td>Female</td><td> 5</td><td><span style=white-space:pre-wrap>Normal         </span></td><td><span style=white-space:pre-wrap>Beagle &amp; Basset Hound        </span></td><td>N</td><td>⋯</td><td>Y</td><td>15</td><td> 35</td><td><span style=white-space:pre-wrap>Hound       </span></td><td><span style=white-space:pre-wrap>Tricolor          </span></td><td>62.0</td><td>Heartworm Positive</td><td> 1/17/12</td><td><span style=white-space:pre-wrap>Transfer         </span></td><td> 2</td></tr>\n",
       "\t<tr><th scope=row>21</th><td>K12-000957</td><td>1/15/12</td><td>Owner Surrender</td><td>Dog</td><td>Neutered</td><td>Male  </td><td> 3</td><td>Normal         </td><td>Pit Bull Mix                 </td><td>N</td><td>⋯</td><td>Y</td><td>14</td><td> 90</td><td>Terrier     </td><td>Blue              </td><td>55.3</td><td>Heartworm Negative</td><td> 1/31/12</td><td>Adoption         </td><td>16</td></tr>\n",
       "\t<tr><th scope=row>29</th><td>K12-001213</td><td>1/22/12</td><td>Owner Surrender</td><td>Dog</td><td>Neutered</td><td><span style=white-space:pre-wrap>Male  </span></td><td> 0</td><td><span style=white-space:pre-wrap>Normal         </span></td><td><span style=white-space:pre-wrap>Chihuahua Sh Mix             </span></td><td>N</td><td>⋯</td><td>N</td><td>18</td><td><span style=white-space:pre-wrap>  6</span></td><td><span style=white-space:pre-wrap>Toy         </span></td><td><span style=white-space:pre-wrap>Red &amp; Black       </span></td><td>12.3</td><td><span style=white-space:pre-wrap>No Lab Test       </span></td><td> 2/6/12 </td><td><span style=white-space:pre-wrap>Adoption         </span></td><td>15</td></tr>\n",
       "\t<tr><th scope=row>32</th><td>K12-001295</td><td>1/29/12</td><td>Owner Surrender</td><td>Dog</td><td>Neutered</td><td><span style=white-space:pre-wrap>Male  </span></td><td> 0</td><td><span style=white-space:pre-wrap>Normal         </span></td><td>Basset Hound &amp; Boston Terrier</td><td>N</td><td>⋯</td><td>Y</td><td>12</td><td> 65</td><td><span style=white-space:pre-wrap>Hound       </span></td><td>Br Brindle &amp; White</td><td>15.5</td><td><span style=white-space:pre-wrap>No Lab Test       </span></td><td> 1/31/12</td><td><span style=white-space:pre-wrap>Adoption         </span></td><td> 2</td></tr>\n",
       "\t<tr><th scope=row>38</th><td>K12-001671</td><td>2/5/12 </td><td>Owner Surrender</td><td>Dog</td><td><span style=white-space:pre-wrap>Spayed  </span></td><td>Female</td><td> 1</td><td><span style=white-space:pre-wrap>Normal         </span></td><td><span style=white-space:pre-wrap>Great Dane Mix               </span></td><td>N</td><td>⋯</td><td>Y</td><td>10</td><td>180</td><td><span style=white-space:pre-wrap>Working     </span></td><td><span style=white-space:pre-wrap>Black &amp; White     </span></td><td>63.0</td><td>Heartworm Negative</td><td> 2/10/12</td><td><span style=white-space:pre-wrap>Adoption         </span></td><td> 5</td></tr>\n",
       "\t<tr><th scope=row>39</th><td>K12-001692</td><td>2/5/12 </td><td>Owner Surrender</td><td>Dog</td><td>Neutered</td><td><span style=white-space:pre-wrap>Male  </span></td><td> 1</td><td>Injured or Sick</td><td><span style=white-space:pre-wrap>Chihuahua Sh Mix             </span></td><td>N</td><td>⋯</td><td>N</td><td>18</td><td><span style=white-space:pre-wrap>  6</span></td><td><span style=white-space:pre-wrap>Toy         </span></td><td><span style=white-space:pre-wrap>White &amp; Tan       </span></td><td> 9.8</td><td><span style=white-space:pre-wrap>No Lab Test       </span></td><td> 2/9/12 </td><td><span style=white-space:pre-wrap>Return to Owner  </span></td><td> 4</td></tr>\n",
       "\t<tr><th scope=row>41</th><td>K12-001761</td><td>2/5/12 </td><td>Owner Surrender</td><td>Dog</td><td>Spayed  </td><td>Female</td><td> 5</td><td>Normal         </td><td>Pug Mix                      </td><td>N</td><td>⋯</td><td>Y</td><td>15</td><td> 25</td><td>Toy         </td><td>Brown             </td><td>15.8</td><td>Heartworm Negative</td><td> 2/13/12</td><td>Adoption         </td><td> 8</td></tr>\n",
       "\t<tr><th scope=row>44</th><td>K12-001842</td><td>2/5/12 </td><td>Owner Surrender</td><td>Dog</td><td>Neutered</td><td>Male  </td><td> 6</td><td>Normal         </td><td>Chihuahua Sh                 </td><td>N</td><td>⋯</td><td>N</td><td>18</td><td>  6</td><td>Toy         </td><td>Tan               </td><td>11.0</td><td>Heartworm Negative</td><td> 2/13/12</td><td>Adoption         </td><td> 8</td></tr>\n",
       "\t<tr><th scope=row>45</th><td>K12-001851</td><td>2/5/12 </td><td>Owner Surrender</td><td>Dog</td><td><span style=white-space:pre-wrap>Spayed  </span></td><td>Female</td><td> 8</td><td><span style=white-space:pre-wrap>Normal         </span></td><td><span style=white-space:pre-wrap>Greyhound &amp; Great Dane       </span></td><td>N</td><td>⋯</td><td>Y</td><td>10</td><td>180</td><td><span style=white-space:pre-wrap>Working     </span></td><td><span style=white-space:pre-wrap>Black &amp; White     </span></td><td>54.0</td><td>Heartworm Negative</td><td> 2/21/12</td><td><span style=white-space:pre-wrap>Adoption         </span></td><td>16</td></tr>\n",
       "\t<tr><th scope=row>46</th><td>K12-001885</td><td>2/5/12 </td><td>Owner Surrender</td><td>Dog</td><td>Neutered</td><td>Male  </td><td> 1</td><td>Normal         </td><td>Dogo Argentino Mix           </td><td>N</td><td>⋯</td><td>Y</td><td>14</td><td>120</td><td>Terrier     </td><td>White             </td><td>53.5</td><td>Heartworm Negative</td><td> 3/4/12 </td><td>Transfer         </td><td>28</td></tr>\n",
       "\t<tr><th scope=row>50</th><td>K12-002148</td><td>2/12/12</td><td>Owner Surrender</td><td>Dog</td><td>Neutered</td><td><span style=white-space:pre-wrap>Male  </span></td><td> 3</td><td><span style=white-space:pre-wrap>Normal         </span></td><td><span style=white-space:pre-wrap>Tibetan Terr Mix             </span></td><td>N</td><td>⋯</td><td>Y</td><td>15</td><td> 24</td><td>Non-Sporting</td><td><span style=white-space:pre-wrap>Gray &amp; Black      </span></td><td>36.3</td><td>Heartworm Negative</td><td> 2/20/12</td><td><span style=white-space:pre-wrap>Transfer         </span></td><td> 8</td></tr>\n",
       "\t<tr><th scope=row>53</th><td>K12-002274</td><td>2/19/12</td><td>Owner Surrender</td><td>Dog</td><td>Spayed  </td><td>Female</td><td> 5</td><td>Normal         </td><td>Chihuahua Sh Mix             </td><td>N</td><td>⋯</td><td>N</td><td>18</td><td>  6</td><td>Toy         </td><td>Brown             </td><td>13.5</td><td>Heartworm Negative</td><td> 2/22/12</td><td>Transfer         </td><td> 3</td></tr>\n",
       "\t<tr><th scope=row>56</th><td>K12-002373</td><td>2/19/12</td><td>Owner Surrender</td><td>Dog</td><td>Spayed  </td><td>Female</td><td> 3</td><td>Normal         </td><td>Chinese Sharpei              </td><td>N</td><td>⋯</td><td>Y</td><td>10</td><td> 65</td><td>Non-Sporting</td><td>Buff              </td><td>30.0</td><td>Heartworm Negative</td><td> 2/25/12</td><td>Transfer         </td><td> 6</td></tr>\n",
       "\t<tr><th scope=row>65</th><td>K12-002676</td><td>2/26/12</td><td>Owner Surrender</td><td>Dog</td><td><span style=white-space:pre-wrap>Spayed  </span></td><td>Female</td><td> 3</td><td><span style=white-space:pre-wrap>Normal         </span></td><td><span style=white-space:pre-wrap>Poodle Toy Mix               </span></td><td>N</td><td>⋯</td><td>Y</td><td>14</td><td><span style=white-space:pre-wrap>  9</span></td><td><span style=white-space:pre-wrap>Toy         </span></td><td><span style=white-space:pre-wrap>Black &amp; White     </span></td><td> 6.5</td><td>Heartworm Negative</td><td> 2/27/12</td><td><span style=white-space:pre-wrap>Transfer         </span></td><td> 1</td></tr>\n",
       "\t<tr><th scope=row>68</th><td>K12-002891</td><td>2/26/12</td><td>Owner Surrender</td><td>Dog</td><td>Neutered</td><td><span style=white-space:pre-wrap>Male  </span></td><td> 0</td><td><span style=white-space:pre-wrap>Normal         </span></td><td><span style=white-space:pre-wrap>Great Pyrenees               </span></td><td>N</td><td>⋯</td><td>Y</td><td>12</td><td>120</td><td><span style=white-space:pre-wrap>Herding     </span></td><td><span style=white-space:pre-wrap>White &amp; Tan       </span></td><td>23.5</td><td><span style=white-space:pre-wrap>No Lab Test       </span></td><td> 3/3/12 </td><td><span style=white-space:pre-wrap>Adoption         </span></td><td> 6</td></tr>\n",
       "\t<tr><th scope=row>69</th><td>K12-002954</td><td>3/4/12 </td><td>Owner Surrender</td><td>Dog</td><td><span style=white-space:pre-wrap>Spayed  </span></td><td>Female</td><td> 0</td><td><span style=white-space:pre-wrap>Normal         </span></td><td><span style=white-space:pre-wrap>Min Pinscher Mix             </span></td><td>N</td><td>⋯</td><td>Y</td><td>14</td><td> 10</td><td><span style=white-space:pre-wrap>Toy         </span></td><td><span style=white-space:pre-wrap>Black &amp; Tan       </span></td><td>13.8</td><td>Heartworm Negative</td><td> 3/4/12 </td><td><span style=white-space:pre-wrap>Transfer         </span></td><td> 0</td></tr>\n",
       "\t<tr><th scope=row>86</th><td>K12-003922</td><td>3/18/12</td><td>Owner Surrender</td><td>Dog</td><td>Neutered</td><td><span style=white-space:pre-wrap>Male  </span></td><td> 0</td><td><span style=white-space:pre-wrap>Normal         </span></td><td><span style=white-space:pre-wrap>Labrador Retr &amp; Catahoula    </span></td><td>N</td><td>⋯</td><td>Y</td><td>12</td><td> 79</td><td><span style=white-space:pre-wrap>Sporting    </span></td><td><span style=white-space:pre-wrap>Red               </span></td><td>23.8</td><td><span style=white-space:pre-wrap>No Lab Test       </span></td><td> 3/24/12</td><td><span style=white-space:pre-wrap>Adoption         </span></td><td> 6</td></tr>\n",
       "\t<tr><th scope=row>88</th><td>K12-004064</td><td>3/18/12</td><td>Owner Surrender</td><td>Dog</td><td>Neutered</td><td>Male  </td><td> 1</td><td>Normal         </td><td>Labrador Retr Mix            </td><td>N</td><td>⋯</td><td>Y</td><td>12</td><td> 79</td><td>Sporting    </td><td>Chocolate         </td><td>62.3</td><td>Heartworm Negative</td><td> 3/25/12</td><td>Transfer         </td><td> 7</td></tr>\n",
       "\t<tr><th scope=row>93</th><td>K12-004141</td><td>3/25/12</td><td>Owner Surrender</td><td>Dog</td><td>Neutered</td><td>Male  </td><td> 5</td><td>Normal         </td><td>Queensland Heel Mix          </td><td>Y</td><td>⋯</td><td>Y</td><td>16</td><td> 35</td><td>Herding     </td><td>BLUE MERLE        </td><td>40.0</td><td>Heartworm Positive</td><td> 4/1/12 </td><td>Transfer         </td><td> 7</td></tr>\n",
       "\t<tr><th scope=row>96</th><td>K12-004333</td><td>3/25/12</td><td>Owner Surrender</td><td>Dog</td><td>Spayed  </td><td>Female</td><td> 2</td><td>Normal         </td><td>Dogo Argentino Mix           </td><td>N</td><td>⋯</td><td>Y</td><td>14</td><td>120</td><td>Terrier     </td><td>White             </td><td>44.0</td><td>Heartworm Negative</td><td> 4/11/12</td><td>Adoption         </td><td>17</td></tr>\n",
       "\t<tr><th scope=row>98</th><td>K12-004511</td><td>4/1/12 </td><td>Owner Surrender</td><td>Dog</td><td>Neutered</td><td><span style=white-space:pre-wrap>Male  </span></td><td> 5</td><td><span style=white-space:pre-wrap>Normal         </span></td><td><span style=white-space:pre-wrap>Pit Bull Mix                 </span></td><td>N</td><td>⋯</td><td>Y</td><td>14</td><td> 90</td><td><span style=white-space:pre-wrap>Terrier     </span></td><td><span style=white-space:pre-wrap>Red &amp; White       </span></td><td>73.0</td><td>Heartworm Negative</td><td> 4/4/12 </td><td><span style=white-space:pre-wrap>Return to Owner  </span></td><td> 3</td></tr>\n",
       "\t<tr><th scope=row>99</th><td>K12-004641</td><td>4/1/12 </td><td>Owner Surrender</td><td>Dog</td><td>Neutered</td><td><span style=white-space:pre-wrap>Male  </span></td><td> 2</td><td><span style=white-space:pre-wrap>Normal         </span></td><td>Cairn Terrier &amp; Dachshund Wh </td><td>N</td><td>⋯</td><td>Y</td><td>15</td><td> 18</td><td><span style=white-space:pre-wrap>Terrier     </span></td><td><span style=white-space:pre-wrap>Black &amp; Tan       </span></td><td>13.5</td><td>Heartworm Negative</td><td> 4/15/12</td><td><span style=white-space:pre-wrap>Adoption         </span></td><td>14</td></tr>\n",
       "\t<tr><th scope=row>105</th><td>K12-004906</td><td>4/8/12 </td><td>Owner Surrender</td><td>Dog</td><td>Spayed  </td><td>Female</td><td>10</td><td>Normal         </td><td>Chihuahua Sh Mix             </td><td>N</td><td>⋯</td><td>N</td><td>18</td><td>  6</td><td>Toy         </td><td>Cream             </td><td> 5.5</td><td>Heartworm Negative</td><td> 4/13/12</td><td>Adoption         </td><td> 5</td></tr>\n",
       "\t<tr><th scope=row>120</th><td>K12-005709</td><td>4/15/12</td><td>Owner Surrender</td><td>Dog</td><td>Spayed  </td><td>Female</td><td>13</td><td>Normal         </td><td>Aust Cattle Dog              </td><td>Y</td><td>⋯</td><td>Y</td><td>16</td><td> 35</td><td>Herding     </td><td>Blue Merle        </td><td>56.0</td><td>Heartworm Negative</td><td> 4/20/12</td><td>Humane Euthanasia</td><td> 5</td></tr>\n",
       "\t<tr><th scope=row>145</th><td>K12-006799</td><td>4/29/12</td><td>Owner Surrender</td><td>Dog</td><td>Neutered</td><td><span style=white-space:pre-wrap>Male  </span></td><td> 1</td><td><span style=white-space:pre-wrap>Normal         </span></td><td><span style=white-space:pre-wrap>Pug &amp; Beagle                 </span></td><td>N</td><td>⋯</td><td>Y</td><td>15</td><td> 30</td><td><span style=white-space:pre-wrap>Crossbreed  </span></td><td><span style=white-space:pre-wrap>Brown &amp; Black     </span></td><td>13.8</td><td>Heartworm Negative</td><td> 5/5/12 </td><td><span style=white-space:pre-wrap>Adoption         </span></td><td> 6</td></tr>\n",
       "\t<tr><th scope=row>148</th><td>K12-006891</td><td>4/29/12</td><td>Owner Surrender</td><td>Dog</td><td>Neutered</td><td><span style=white-space:pre-wrap>Male  </span></td><td> 4</td><td><span style=white-space:pre-wrap>Normal         </span></td><td><span style=white-space:pre-wrap>Cocker Spaniel               </span></td><td>N</td><td>⋯</td><td>Y</td><td>15</td><td> 33</td><td><span style=white-space:pre-wrap>Sporting    </span></td><td><span style=white-space:pre-wrap>Black &amp; Tan       </span></td><td>19.0</td><td>Heartworm Negative</td><td> 5/7/12 </td><td><span style=white-space:pre-wrap>Adoption         </span></td><td> 8</td></tr>\n",
       "\t<tr><th scope=row>149</th><td>K12-006924</td><td>4/29/12</td><td>Owner Surrender</td><td>Dog</td><td><span style=white-space:pre-wrap>Spayed  </span></td><td>Female</td><td> 5</td><td><span style=white-space:pre-wrap>Normal         </span></td><td><span style=white-space:pre-wrap>Schnauzer Min Mix            </span></td><td>N</td><td>⋯</td><td>Y</td><td>15</td><td> 20</td><td><span style=white-space:pre-wrap>Terrier     </span></td><td><span style=white-space:pre-wrap>Black &amp; Tan       </span></td><td>30.0</td><td>Heartworm Negative</td><td> 5/9/12 </td><td><span style=white-space:pre-wrap>Transfer         </span></td><td>10</td></tr>\n",
       "\t<tr><th scope=row>150</th><td>K12-006925</td><td>4/29/12</td><td>Owner Surrender</td><td>Dog</td><td>Neutered</td><td><span style=white-space:pre-wrap>Male  </span></td><td> 0</td><td><span style=white-space:pre-wrap>Normal         </span></td><td><span style=white-space:pre-wrap>Schnauzer Min &amp; Chow Chow    </span></td><td>N</td><td>⋯</td><td>Y</td><td>15</td><td> 20</td><td><span style=white-space:pre-wrap>Terrier     </span></td><td><span style=white-space:pre-wrap>Black             </span></td><td>20.0</td><td><span style=white-space:pre-wrap>No Lab Test       </span></td><td> 5/9/12 </td><td><span style=white-space:pre-wrap>Transfer         </span></td><td>10</td></tr>\n",
       "\t<tr><th scope=row>152</th><td>K12-007045</td><td>5/6/12 </td><td>Owner Surrender</td><td>Dog</td><td>Neutered</td><td><span style=white-space:pre-wrap>Male  </span></td><td> 1</td><td><span style=white-space:pre-wrap>Normal         </span></td><td><span style=white-space:pre-wrap>Amer Bulldog Mix             </span></td><td>N</td><td>⋯</td><td>Y</td><td>12</td><td> 55</td><td>Non-Sporting</td><td>Br Brindle &amp; White</td><td>63.0</td><td>Heartworm Negative</td><td> 5/28/12</td><td><span style=white-space:pre-wrap>Adoption         </span></td><td>22</td></tr>\n",
       "\t<tr><th scope=row>⋮</th><td>⋮</td><td>⋮</td><td>⋮</td><td>⋮</td><td>⋮</td><td>⋮</td><td>⋮</td><td>⋮</td><td>⋮</td><td>⋮</td><td>⋱</td><td>⋮</td><td>⋮</td><td>⋮</td><td>⋮</td><td>⋮</td><td>⋮</td><td>⋮</td><td>⋮</td><td>⋮</td><td>⋮</td></tr>\n",
       "\t<tr><th scope=row>309</th><td>K12-014983</td><td>8/19/12 </td><td>Owner Surrender</td><td>Dog</td><td><span style=white-space:pre-wrap>Spayed  </span></td><td>Female</td><td> 0</td><td><span style=white-space:pre-wrap>Normal         </span></td><td><span style=white-space:pre-wrap>Pekingese Mix                 </span></td><td>N</td><td>⋯</td><td>Y</td><td>15</td><td>14</td><td><span style=white-space:pre-wrap>Toy         </span></td><td><span style=white-space:pre-wrap>White &amp; Black     </span></td><td> 7.50</td><td><span style=white-space:pre-wrap>No Lab Test       </span></td><td> 8/24/12 </td><td><span style=white-space:pre-wrap>Transfer         </span></td><td><span style=white-space:pre-wrap>  5</span></td></tr>\n",
       "\t<tr><th scope=row>311</th><td>K12-015035</td><td>8/19/12 </td><td>Owner Surrender</td><td>Dog</td><td>Spayed  </td><td>Female</td><td> 5</td><td>Normal         </td><td>Rat Terrier Mix               </td><td>N</td><td>⋯</td><td>Y</td><td>14</td><td>25</td><td>Terrier     </td><td>Tricolor          </td><td>13.50</td><td>Heartworm Negative</td><td> 12/7/12 </td><td>Adoption         </td><td>110</td></tr>\n",
       "\t<tr><th scope=row>314</th><td>K12-015112</td><td>8/26/12 </td><td>Owner Surrender</td><td>Dog</td><td>Neutered</td><td><span style=white-space:pre-wrap>Male  </span></td><td> 1</td><td><span style=white-space:pre-wrap>Normal         </span></td><td>Germ Shepherd &amp; Labrador Retr </td><td>N</td><td>⋯</td><td>Y</td><td>12</td><td>88</td><td><span style=white-space:pre-wrap>Working     </span></td><td><span style=white-space:pre-wrap>Black             </span></td><td>44.00</td><td><span style=white-space:pre-wrap>No Lab Test       </span></td><td><span style=white-space:pre-wrap> 9/3/12  </span></td><td><span style=white-space:pre-wrap>Adoption         </span></td><td><span style=white-space:pre-wrap>  8</span></td></tr>\n",
       "\t<tr><th scope=row>317</th><td>K12-015323</td><td>8/26/12 </td><td>Owner Surrender</td><td>Dog</td><td><span style=white-space:pre-wrap>Spayed  </span></td><td>Female</td><td> 2</td><td><span style=white-space:pre-wrap>Normal         </span></td><td><span style=white-space:pre-wrap>Labrador Retr Mix             </span></td><td>N</td><td>⋯</td><td>Y</td><td>12</td><td>79</td><td><span style=white-space:pre-wrap>Sporting    </span></td><td><span style=white-space:pre-wrap>Black &amp; White     </span></td><td>57.00</td><td>Heartworm Negative</td><td><span style=white-space:pre-wrap> 9/8/12  </span></td><td><span style=white-space:pre-wrap>Adoption         </span></td><td> 13</td></tr>\n",
       "\t<tr><th scope=row>322</th><td>K12-015558</td><td>8/26/12 </td><td>Owner Surrender</td><td>Dog</td><td><span style=white-space:pre-wrap>Spayed  </span></td><td>Female</td><td> 0</td><td><span style=white-space:pre-wrap>Normal         </span></td><td><span style=white-space:pre-wrap>Rhod Ridgeback Mix            </span></td><td>N</td><td>⋯</td><td>Y</td><td>12</td><td>85</td><td><span style=white-space:pre-wrap>Hound       </span></td><td><span style=white-space:pre-wrap>Tan &amp; White       </span></td><td> 9.25</td><td><span style=white-space:pre-wrap>No Lab Test       </span></td><td><span style=white-space:pre-wrap> 9/3/12  </span></td><td><span style=white-space:pre-wrap>Adoption         </span></td><td><span style=white-space:pre-wrap>  8</span></td></tr>\n",
       "\t<tr><th scope=row>326</th><td>K12-015733</td><td><span style=white-space:pre-wrap>9/2/12  </span></td><td>Owner Surrender</td><td>Dog</td><td><span style=white-space:pre-wrap>Spayed  </span></td><td>Female</td><td> 0</td><td><span style=white-space:pre-wrap>Normal         </span></td><td><span style=white-space:pre-wrap>Bull Terrier Mix              </span></td><td>Y</td><td>⋯</td><td>N</td><td>14</td><td>85</td><td><span style=white-space:pre-wrap>Terrier     </span></td><td>White &amp; Br Brindle</td><td> 8.25</td><td><span style=white-space:pre-wrap>No Lab Test       </span></td><td><span style=white-space:pre-wrap> 9/5/12  </span></td><td><span style=white-space:pre-wrap>Transfer         </span></td><td><span style=white-space:pre-wrap>  3</span></td></tr>\n",
       "\t<tr><th scope=row>327</th><td>K12-015761</td><td><span style=white-space:pre-wrap>9/2/12  </span></td><td>Owner Surrender</td><td>Dog</td><td>Neutered</td><td><span style=white-space:pre-wrap>Male  </span></td><td> 0</td><td><span style=white-space:pre-wrap>Normal         </span></td><td><span style=white-space:pre-wrap>Chinese Sharpei &amp; Pit Bull    </span></td><td>N</td><td>⋯</td><td>Y</td><td>10</td><td>65</td><td>Non-Sporting</td><td><span style=white-space:pre-wrap>Tan &amp; White       </span></td><td>36.00</td><td><span style=white-space:pre-wrap>No Lab Test       </span></td><td><span style=white-space:pre-wrap> 9/4/12  </span></td><td><span style=white-space:pre-wrap>Adoption         </span></td><td><span style=white-space:pre-wrap>  2</span></td></tr>\n",
       "\t<tr><th scope=row>330</th><td>K12-015892</td><td><span style=white-space:pre-wrap>9/2/12  </span></td><td>Owner Surrender</td><td>Dog</td><td>Neutered</td><td><span style=white-space:pre-wrap>Male  </span></td><td> 0</td><td>Injured or Sick</td><td><span style=white-space:pre-wrap>Aust Cattle Dog Mix           </span></td><td>Y</td><td>⋯</td><td>Y</td><td>16</td><td>35</td><td><span style=white-space:pre-wrap>Herding     </span></td><td><span style=white-space:pre-wrap>Black &amp; White     </span></td><td>11.50</td><td><span style=white-space:pre-wrap>No Lab Test       </span></td><td><span style=white-space:pre-wrap> 9/8/12  </span></td><td><span style=white-space:pre-wrap>Adoption         </span></td><td><span style=white-space:pre-wrap>  6</span></td></tr>\n",
       "\t<tr><th scope=row>335</th><td>K12-016105</td><td><span style=white-space:pre-wrap>9/9/12  </span></td><td>Owner Surrender</td><td>Dog</td><td><span style=white-space:pre-wrap>Spayed  </span></td><td>Female</td><td> 0</td><td><span style=white-space:pre-wrap>Normal         </span></td><td><span style=white-space:pre-wrap>Germ Shepherd Mix             </span></td><td>N</td><td>⋯</td><td>Y</td><td>12</td><td>88</td><td><span style=white-space:pre-wrap>Working     </span></td><td>Br Brindle &amp; White</td><td>13.75</td><td><span style=white-space:pre-wrap>No Lab Test       </span></td><td> 9/10/12 </td><td><span style=white-space:pre-wrap>Transfer         </span></td><td><span style=white-space:pre-wrap>  1</span></td></tr>\n",
       "\t<tr><th scope=row>341</th><td>K12-016273</td><td>9/9/12  </td><td>Owner Surrender</td><td>Dog</td><td>Spayed  </td><td>Female</td><td> 0</td><td>Injured or Sick</td><td>Labrador Retr Mix             </td><td>N</td><td>⋯</td><td>Y</td><td>12</td><td>79</td><td>Sporting    </td><td>Black             </td><td>42.00</td><td>No Lab Test       </td><td> 9/16/12 </td><td>Adoption         </td><td>  7</td></tr>\n",
       "\t<tr><th scope=row>343</th><td>K12-016389</td><td><span style=white-space:pre-wrap>9/9/12  </span></td><td>Owner Surrender</td><td>Dog</td><td>Neutered</td><td><span style=white-space:pre-wrap>Male  </span></td><td> 1</td><td><span style=white-space:pre-wrap>Normal         </span></td><td><span style=white-space:pre-wrap>Norfolk Terrier &amp; Dachshund   </span></td><td>Y</td><td>⋯</td><td>Y</td><td>15</td><td>11</td><td><span style=white-space:pre-wrap>Terrier     </span></td><td><span style=white-space:pre-wrap>Tricolor          </span></td><td>16.00</td><td>Heartworm Negative</td><td> 9/18/12 </td><td><span style=white-space:pre-wrap>Transfer         </span></td><td><span style=white-space:pre-wrap>  9</span></td></tr>\n",
       "\t<tr><th scope=row>344</th><td>K12-016396</td><td><span style=white-space:pre-wrap>9/9/12  </span></td><td>Owner Surrender</td><td>Dog</td><td><span style=white-space:pre-wrap>Spayed  </span></td><td>Female</td><td> 2</td><td><span style=white-space:pre-wrap>Normal         </span></td><td><span style=white-space:pre-wrap>English Springer Spaniel      </span></td><td>N</td><td>⋯</td><td>Y</td><td>14</td><td>55</td><td><span style=white-space:pre-wrap>Sporting    </span></td><td>Chocolate &amp; White </td><td>40.99</td><td><span style=white-space:pre-wrap>No Lab Test       </span></td><td> 9/15/12 </td><td><span style=white-space:pre-wrap>Transfer         </span></td><td><span style=white-space:pre-wrap>  6</span></td></tr>\n",
       "\t<tr><th scope=row>351</th><td>K12-016943</td><td>9/16/12 </td><td>Owner Surrender</td><td>Dog</td><td>Neutered</td><td>Male  </td><td> 1</td><td>Normal         </td><td>Labrador Retr Mix             </td><td>N</td><td>⋯</td><td>Y</td><td>12</td><td>79</td><td>Sporting    </td><td>Yellow            </td><td>60.50</td><td>Heartworm Negative</td><td> 9/24/12 </td><td>Adoption         </td><td>  8</td></tr>\n",
       "\t<tr><th scope=row>353</th><td>K12-017010</td><td>9/16/12 </td><td>Owner Surrender</td><td>Dog</td><td>Neutered</td><td><span style=white-space:pre-wrap>Male  </span></td><td> 4</td><td><span style=white-space:pre-wrap>Normal         </span></td><td><span style=white-space:pre-wrap>Yorkshire Terr &amp; Poodle Min   </span></td><td>N</td><td>⋯</td><td>Y</td><td>15</td><td> 7</td><td><span style=white-space:pre-wrap>Terrier     </span></td><td><span style=white-space:pre-wrap>Gray &amp; Black      </span></td><td>10.75</td><td>Heartworm Negative</td><td> 9/23/12 </td><td><span style=white-space:pre-wrap>Adoption         </span></td><td><span style=white-space:pre-wrap>  7</span></td></tr>\n",
       "\t<tr><th scope=row>358</th><td>K12-017492</td><td>9/23/12 </td><td>Owner Surrender</td><td>Dog</td><td><span style=white-space:pre-wrap>Spayed  </span></td><td>Female</td><td> 4</td><td><span style=white-space:pre-wrap>Normal         </span></td><td><span style=white-space:pre-wrap>Shiba Inu Mix                 </span></td><td>N</td><td>⋯</td><td>Y</td><td>15</td><td>23</td><td>Non-Sporting</td><td><span style=white-space:pre-wrap>Tan &amp; Black       </span></td><td>38.25</td><td>Heartworm Negative</td><td> 10/1/12 </td><td><span style=white-space:pre-wrap>Adoption         </span></td><td><span style=white-space:pre-wrap>  8</span></td></tr>\n",
       "\t<tr><th scope=row>370</th><td>K12-017849</td><td>9/30/12 </td><td>Owner Surrender</td><td>Dog</td><td>Neutered</td><td>Male  </td><td> 2</td><td>Normal         </td><td>Maltese Mix                   </td><td>N</td><td>⋯</td><td>Y</td><td>14</td><td> 7</td><td>Toy         </td><td>White             </td><td>12.75</td><td>Heartworm Negative</td><td> 10/5/12 </td><td>Adoption         </td><td>  5</td></tr>\n",
       "\t<tr><th scope=row>388</th><td>K12-018882</td><td>10/14/12</td><td>Owner Surrender</td><td>Dog</td><td>Neutered</td><td><span style=white-space:pre-wrap>Male  </span></td><td> 0</td><td><span style=white-space:pre-wrap>Normal         </span></td><td>Labrador Retr &amp; Germ Shepherd </td><td>N</td><td>⋯</td><td>Y</td><td>12</td><td>79</td><td><span style=white-space:pre-wrap>Sporting    </span></td><td><span style=white-space:pre-wrap>Tan &amp; Black       </span></td><td>55.00</td><td><span style=white-space:pre-wrap>No Lab Test       </span></td><td> 10/22/12</td><td><span style=white-space:pre-wrap>Adoption         </span></td><td><span style=white-space:pre-wrap>  8</span></td></tr>\n",
       "\t<tr><th scope=row>403</th><td>K12-019463</td><td>10/28/12</td><td>Owner Surrender</td><td>Dog</td><td>Neutered</td><td><span style=white-space:pre-wrap>Male  </span></td><td> 4</td><td>Injured or Sick</td><td><span style=white-space:pre-wrap>Dachshund Mix                 </span></td><td>Y</td><td>⋯</td><td>N</td><td>14</td><td>28</td><td><span style=white-space:pre-wrap>Hound       </span></td><td><span style=white-space:pre-wrap>Red &amp; White       </span></td><td> 7.00</td><td>Heartworm Negative</td><td> 11/20/12</td><td><span style=white-space:pre-wrap>Transfer         </span></td><td> 23</td></tr>\n",
       "\t<tr><th scope=row>414</th><td>K12-020320</td><td>11/11/12</td><td>Owner Surrender</td><td>Dog</td><td>Neutered</td><td><span style=white-space:pre-wrap>Male  </span></td><td> 1</td><td><span style=white-space:pre-wrap>Normal         </span></td><td>Jack Russ Terr &amp; Labrador Retr</td><td>N</td><td>⋯</td><td>Y</td><td>16</td><td>18</td><td><span style=white-space:pre-wrap>Sporting    </span></td><td><span style=white-space:pre-wrap>Black &amp; Brown     </span></td><td>26.50</td><td>Heartworm Negative</td><td> 11/19/12</td><td><span style=white-space:pre-wrap>Transfer         </span></td><td><span style=white-space:pre-wrap>  8</span></td></tr>\n",
       "\t<tr><th scope=row>415</th><td>K12-020475</td><td>11/11/12</td><td>Owner Surrender</td><td>Dog</td><td>Neutered</td><td>Male  </td><td>17</td><td>Injured or Sick</td><td>Dachshund                     </td><td>Y</td><td>⋯</td><td>N</td><td>14</td><td>28</td><td>Hound       </td><td>Brown             </td><td> 6.50</td><td>No Lab Test       </td><td> 11/15/12</td><td>Humane Euthanasia</td><td>  4</td></tr>\n",
       "\t<tr><th scope=row>416</th><td>K12-020543</td><td>11/11/12</td><td>Owner Surrender</td><td>Dog</td><td>Spayed  </td><td>Female</td><td> 1</td><td>Normal         </td><td>Labrador Retr Mix             </td><td>N</td><td>⋯</td><td>Y</td><td>12</td><td>79</td><td>Sporting    </td><td>Tan               </td><td>55.00</td><td>Heartworm Negative</td><td> 11/25/12</td><td>Adoption         </td><td> 14</td></tr>\n",
       "\t<tr><th scope=row>417</th><td>K12-020563</td><td>11/11/12</td><td>Owner Surrender</td><td>Dog</td><td>Spayed  </td><td>Female</td><td> 2</td><td>Normal         </td><td>Boxer Mix                     </td><td>N</td><td>⋯</td><td>Y</td><td>12</td><td>72</td><td>Working     </td><td>Black             </td><td>48.00</td><td>Heartworm Negative</td><td> 12/12/12</td><td>Transfer         </td><td> 31</td></tr>\n",
       "\t<tr><th scope=row>422</th><td>K12-020696</td><td>11/18/12</td><td>Owner Surrender</td><td>Dog</td><td><span style=white-space:pre-wrap>Spayed  </span></td><td>Female</td><td> 0</td><td><span style=white-space:pre-wrap>Normal         </span></td><td><span style=white-space:pre-wrap>Boxer Mix                     </span></td><td>N</td><td>⋯</td><td>Y</td><td>12</td><td>72</td><td><span style=white-space:pre-wrap>Working     </span></td><td><span style=white-space:pre-wrap>Brown &amp; White     </span></td><td> 5.00</td><td><span style=white-space:pre-wrap>No Lab Test       </span></td><td> 11/19/12</td><td><span style=white-space:pre-wrap>Transfer         </span></td><td><span style=white-space:pre-wrap>  1</span></td></tr>\n",
       "\t<tr><th scope=row>427</th><td>K12-020752</td><td>11/18/12</td><td>Owner Surrender</td><td>Dog</td><td><span style=white-space:pre-wrap>Intact  </span></td><td><span style=white-space:pre-wrap>Male  </span></td><td> 0</td><td><span style=white-space:pre-wrap>Normal         </span></td><td><span style=white-space:pre-wrap>Chihuahua Sh Mix              </span></td><td>N</td><td>⋯</td><td>N</td><td>18</td><td> 6</td><td><span style=white-space:pre-wrap>Toy         </span></td><td><span style=white-space:pre-wrap>Black &amp; Tan       </span></td><td>13.25</td><td><span style=white-space:pre-wrap>No Lab Test       </span></td><td> 11/22/12</td><td><span style=white-space:pre-wrap>Transfer         </span></td><td><span style=white-space:pre-wrap>  4</span></td></tr>\n",
       "\t<tr><th scope=row>428</th><td>K12-021100</td><td>11/25/12</td><td>Owner Surrender</td><td>Dog</td><td>Neutered</td><td><span style=white-space:pre-wrap>Male  </span></td><td> 5</td><td><span style=white-space:pre-wrap>Normal         </span></td><td><span style=white-space:pre-wrap>Chihuahua Sh &amp; Dachshund      </span></td><td>N</td><td>⋯</td><td>N</td><td>18</td><td> 6</td><td><span style=white-space:pre-wrap>Toy         </span></td><td><span style=white-space:pre-wrap>Brown             </span></td><td> 6.50</td><td>Heartworm Negative</td><td> 2/24/13 </td><td><span style=white-space:pre-wrap>Adoption         </span></td><td> 91</td></tr>\n",
       "\t<tr><th scope=row>436</th><td>K12-021507</td><td>12/2/12 </td><td>Owner Surrender</td><td>Dog</td><td><span style=white-space:pre-wrap>Spayed  </span></td><td>Female</td><td> 3</td><td><span style=white-space:pre-wrap>Normal         </span></td><td><span style=white-space:pre-wrap>Pit Bull                      </span></td><td>N</td><td>⋯</td><td>Y</td><td>14</td><td>90</td><td><span style=white-space:pre-wrap>Terrier     </span></td><td><span style=white-space:pre-wrap>Fawn &amp; White      </span></td><td>63.00</td><td>Heartworm Positive</td><td> 12/7/12 </td><td>Humane Euthanasia</td><td><span style=white-space:pre-wrap>  5</span></td></tr>\n",
       "\t<tr><th scope=row>458</th><td>K12-022434</td><td>12/16/12</td><td>Owner Surrender</td><td>Dog</td><td>Neutered</td><td>Male  </td><td> 7</td><td>Normal         </td><td>Lhasa Apso Mix                </td><td>N</td><td>⋯</td><td>Y</td><td>20</td><td>19</td><td>Non-Sporting</td><td>Tan               </td><td>29.00</td><td>Heartworm Negative</td><td> 12/26/12</td><td>Transfer         </td><td> 10</td></tr>\n",
       "\t<tr><th scope=row>460</th><td>K12-022496</td><td>12/16/12</td><td>Owner Surrender</td><td>Dog</td><td>Intact  </td><td>Female</td><td> 0</td><td>Normal         </td><td>Chihuahua Sh Mix              </td><td>N</td><td>⋯</td><td>N</td><td>18</td><td> 6</td><td>Toy         </td><td>Tan               </td><td> 8.75</td><td>Heartworm Negative</td><td> 12/23/12</td><td>Transfer         </td><td>  7</td></tr>\n",
       "\t<tr><th scope=row>467</th><td>K12-022596</td><td>12/23/12</td><td>Owner Surrender</td><td>Dog</td><td><span style=white-space:pre-wrap>Intact  </span></td><td>Female</td><td> 1</td><td>Injured or Sick</td><td><span style=white-space:pre-wrap>Shih Tzu Mix                  </span></td><td>N</td><td>⋯</td><td>Y</td><td>16</td><td>16</td><td>Non-Sporting</td><td><span style=white-space:pre-wrap>White &amp; Black     </span></td><td> 5.75</td><td><span style=white-space:pre-wrap>No Lab Test       </span></td><td> 12/24/12</td><td><span style=white-space:pre-wrap>Transfer         </span></td><td><span style=white-space:pre-wrap>  1</span></td></tr>\n",
       "\t<tr><th scope=row>471</th><td>K12-022814</td><td>12/23/12</td><td>Owner Surrender</td><td>Dog</td><td>Neutered</td><td>Male  </td><td> 4</td><td>Injured or Sick</td><td>Bruss Griffon Mix             </td><td>N</td><td>⋯</td><td>Y</td><td>15</td><td>10</td><td>Toy         </td><td>Brown             </td><td>10.50</td><td>No Lab Test       </td><td> 12/29/12</td><td>Humane Euthanasia</td><td>  6</td></tr>\n",
       "</tbody>\n",
       "</table>\n"
      ],
      "text/latex": [
       "A data.frame: 81 × 24\n",
       "\\begin{tabular}{r|lllllllllllllllllllll}\n",
       "  & Impound.No & Intake.Date & Intake.Type & Animal.Type & Neutered.Status & Sex & Age.Intake & Condition & Breed & Aggressive & ⋯ & Good.with.Kids & Max.Life.Expectancy & Max.Weight & Dog.Group & Color & Weight & Lab.Test & Outcome.Date & Outcome.Type & Days.Shelter\\\\\n",
       "  & <fct> & <fct> & <fct> & <fct> & <fct> & <fct> & <int> & <fct> & <fct> & <fct> & ⋯ & <fct> & <int> & <int> & <fct> & <fct> & <dbl> & <fct> & <fct> & <fct> & <int>\\\\\n",
       "\\hline\n",
       "\t7 & K12-000291 & 1/1/12  & Owner Surrender & Dog & Intact   & Male   &  2 & Normal          & Weimaraner Mix                & N & ⋯ & Y & 13 &  80 & Sporting     & Fawn \\& White       & 47.0 & Heartworm Positive &  1/26/12 & Humane Euthanasia & 25\\\\\n",
       "\t16 & K12-000712 & 1/15/12 & Owner Surrender & Dog & Spayed   & Female &  5 & Normal          & Beagle \\& Basset Hound         & N & ⋯ & Y & 15 &  35 & Hound        & Tricolor           & 62.0 & Heartworm Positive &  1/17/12 & Transfer          &  2\\\\\n",
       "\t21 & K12-000957 & 1/15/12 & Owner Surrender & Dog & Neutered & Male   &  3 & Normal          & Pit Bull Mix                  & N & ⋯ & Y & 14 &  90 & Terrier      & Blue               & 55.3 & Heartworm Negative &  1/31/12 & Adoption          & 16\\\\\n",
       "\t29 & K12-001213 & 1/22/12 & Owner Surrender & Dog & Neutered & Male   &  0 & Normal          & Chihuahua Sh Mix              & N & ⋯ & N & 18 &   6 & Toy          & Red \\& Black        & 12.3 & No Lab Test        &  2/6/12  & Adoption          & 15\\\\\n",
       "\t32 & K12-001295 & 1/29/12 & Owner Surrender & Dog & Neutered & Male   &  0 & Normal          & Basset Hound \\& Boston Terrier & N & ⋯ & Y & 12 &  65 & Hound        & Br Brindle \\& White & 15.5 & No Lab Test        &  1/31/12 & Adoption          &  2\\\\\n",
       "\t38 & K12-001671 & 2/5/12  & Owner Surrender & Dog & Spayed   & Female &  1 & Normal          & Great Dane Mix                & N & ⋯ & Y & 10 & 180 & Working      & Black \\& White      & 63.0 & Heartworm Negative &  2/10/12 & Adoption          &  5\\\\\n",
       "\t39 & K12-001692 & 2/5/12  & Owner Surrender & Dog & Neutered & Male   &  1 & Injured or Sick & Chihuahua Sh Mix              & N & ⋯ & N & 18 &   6 & Toy          & White \\& Tan        &  9.8 & No Lab Test        &  2/9/12  & Return to Owner   &  4\\\\\n",
       "\t41 & K12-001761 & 2/5/12  & Owner Surrender & Dog & Spayed   & Female &  5 & Normal          & Pug Mix                       & N & ⋯ & Y & 15 &  25 & Toy          & Brown              & 15.8 & Heartworm Negative &  2/13/12 & Adoption          &  8\\\\\n",
       "\t44 & K12-001842 & 2/5/12  & Owner Surrender & Dog & Neutered & Male   &  6 & Normal          & Chihuahua Sh                  & N & ⋯ & N & 18 &   6 & Toy          & Tan                & 11.0 & Heartworm Negative &  2/13/12 & Adoption          &  8\\\\\n",
       "\t45 & K12-001851 & 2/5/12  & Owner Surrender & Dog & Spayed   & Female &  8 & Normal          & Greyhound \\& Great Dane        & N & ⋯ & Y & 10 & 180 & Working      & Black \\& White      & 54.0 & Heartworm Negative &  2/21/12 & Adoption          & 16\\\\\n",
       "\t46 & K12-001885 & 2/5/12  & Owner Surrender & Dog & Neutered & Male   &  1 & Normal          & Dogo Argentino Mix            & N & ⋯ & Y & 14 & 120 & Terrier      & White              & 53.5 & Heartworm Negative &  3/4/12  & Transfer          & 28\\\\\n",
       "\t50 & K12-002148 & 2/12/12 & Owner Surrender & Dog & Neutered & Male   &  3 & Normal          & Tibetan Terr Mix              & N & ⋯ & Y & 15 &  24 & Non-Sporting & Gray \\& Black       & 36.3 & Heartworm Negative &  2/20/12 & Transfer          &  8\\\\\n",
       "\t53 & K12-002274 & 2/19/12 & Owner Surrender & Dog & Spayed   & Female &  5 & Normal          & Chihuahua Sh Mix              & N & ⋯ & N & 18 &   6 & Toy          & Brown              & 13.5 & Heartworm Negative &  2/22/12 & Transfer          &  3\\\\\n",
       "\t56 & K12-002373 & 2/19/12 & Owner Surrender & Dog & Spayed   & Female &  3 & Normal          & Chinese Sharpei               & N & ⋯ & Y & 10 &  65 & Non-Sporting & Buff               & 30.0 & Heartworm Negative &  2/25/12 & Transfer          &  6\\\\\n",
       "\t65 & K12-002676 & 2/26/12 & Owner Surrender & Dog & Spayed   & Female &  3 & Normal          & Poodle Toy Mix                & N & ⋯ & Y & 14 &   9 & Toy          & Black \\& White      &  6.5 & Heartworm Negative &  2/27/12 & Transfer          &  1\\\\\n",
       "\t68 & K12-002891 & 2/26/12 & Owner Surrender & Dog & Neutered & Male   &  0 & Normal          & Great Pyrenees                & N & ⋯ & Y & 12 & 120 & Herding      & White \\& Tan        & 23.5 & No Lab Test        &  3/3/12  & Adoption          &  6\\\\\n",
       "\t69 & K12-002954 & 3/4/12  & Owner Surrender & Dog & Spayed   & Female &  0 & Normal          & Min Pinscher Mix              & N & ⋯ & Y & 14 &  10 & Toy          & Black \\& Tan        & 13.8 & Heartworm Negative &  3/4/12  & Transfer          &  0\\\\\n",
       "\t86 & K12-003922 & 3/18/12 & Owner Surrender & Dog & Neutered & Male   &  0 & Normal          & Labrador Retr \\& Catahoula     & N & ⋯ & Y & 12 &  79 & Sporting     & Red                & 23.8 & No Lab Test        &  3/24/12 & Adoption          &  6\\\\\n",
       "\t88 & K12-004064 & 3/18/12 & Owner Surrender & Dog & Neutered & Male   &  1 & Normal          & Labrador Retr Mix             & N & ⋯ & Y & 12 &  79 & Sporting     & Chocolate          & 62.3 & Heartworm Negative &  3/25/12 & Transfer          &  7\\\\\n",
       "\t93 & K12-004141 & 3/25/12 & Owner Surrender & Dog & Neutered & Male   &  5 & Normal          & Queensland Heel Mix           & Y & ⋯ & Y & 16 &  35 & Herding      & BLUE MERLE         & 40.0 & Heartworm Positive &  4/1/12  & Transfer          &  7\\\\\n",
       "\t96 & K12-004333 & 3/25/12 & Owner Surrender & Dog & Spayed   & Female &  2 & Normal          & Dogo Argentino Mix            & N & ⋯ & Y & 14 & 120 & Terrier      & White              & 44.0 & Heartworm Negative &  4/11/12 & Adoption          & 17\\\\\n",
       "\t98 & K12-004511 & 4/1/12  & Owner Surrender & Dog & Neutered & Male   &  5 & Normal          & Pit Bull Mix                  & N & ⋯ & Y & 14 &  90 & Terrier      & Red \\& White        & 73.0 & Heartworm Negative &  4/4/12  & Return to Owner   &  3\\\\\n",
       "\t99 & K12-004641 & 4/1/12  & Owner Surrender & Dog & Neutered & Male   &  2 & Normal          & Cairn Terrier \\& Dachshund Wh  & N & ⋯ & Y & 15 &  18 & Terrier      & Black \\& Tan        & 13.5 & Heartworm Negative &  4/15/12 & Adoption          & 14\\\\\n",
       "\t105 & K12-004906 & 4/8/12  & Owner Surrender & Dog & Spayed   & Female & 10 & Normal          & Chihuahua Sh Mix              & N & ⋯ & N & 18 &   6 & Toy          & Cream              &  5.5 & Heartworm Negative &  4/13/12 & Adoption          &  5\\\\\n",
       "\t120 & K12-005709 & 4/15/12 & Owner Surrender & Dog & Spayed   & Female & 13 & Normal          & Aust Cattle Dog               & Y & ⋯ & Y & 16 &  35 & Herding      & Blue Merle         & 56.0 & Heartworm Negative &  4/20/12 & Humane Euthanasia &  5\\\\\n",
       "\t145 & K12-006799 & 4/29/12 & Owner Surrender & Dog & Neutered & Male   &  1 & Normal          & Pug \\& Beagle                  & N & ⋯ & Y & 15 &  30 & Crossbreed   & Brown \\& Black      & 13.8 & Heartworm Negative &  5/5/12  & Adoption          &  6\\\\\n",
       "\t148 & K12-006891 & 4/29/12 & Owner Surrender & Dog & Neutered & Male   &  4 & Normal          & Cocker Spaniel                & N & ⋯ & Y & 15 &  33 & Sporting     & Black \\& Tan        & 19.0 & Heartworm Negative &  5/7/12  & Adoption          &  8\\\\\n",
       "\t149 & K12-006924 & 4/29/12 & Owner Surrender & Dog & Spayed   & Female &  5 & Normal          & Schnauzer Min Mix             & N & ⋯ & Y & 15 &  20 & Terrier      & Black \\& Tan        & 30.0 & Heartworm Negative &  5/9/12  & Transfer          & 10\\\\\n",
       "\t150 & K12-006925 & 4/29/12 & Owner Surrender & Dog & Neutered & Male   &  0 & Normal          & Schnauzer Min \\& Chow Chow     & N & ⋯ & Y & 15 &  20 & Terrier      & Black              & 20.0 & No Lab Test        &  5/9/12  & Transfer          & 10\\\\\n",
       "\t152 & K12-007045 & 5/6/12  & Owner Surrender & Dog & Neutered & Male   &  1 & Normal          & Amer Bulldog Mix              & N & ⋯ & Y & 12 &  55 & Non-Sporting & Br Brindle \\& White & 63.0 & Heartworm Negative &  5/28/12 & Adoption          & 22\\\\\n",
       "\t⋮ & ⋮ & ⋮ & ⋮ & ⋮ & ⋮ & ⋮ & ⋮ & ⋮ & ⋮ & ⋮ & ⋱ & ⋮ & ⋮ & ⋮ & ⋮ & ⋮ & ⋮ & ⋮ & ⋮ & ⋮ & ⋮\\\\\n",
       "\t309 & K12-014983 & 8/19/12  & Owner Surrender & Dog & Spayed   & Female &  0 & Normal          & Pekingese Mix                  & N & ⋯ & Y & 15 & 14 & Toy          & White \\& Black      &  7.50 & No Lab Test        &  8/24/12  & Transfer          &   5\\\\\n",
       "\t311 & K12-015035 & 8/19/12  & Owner Surrender & Dog & Spayed   & Female &  5 & Normal          & Rat Terrier Mix                & N & ⋯ & Y & 14 & 25 & Terrier      & Tricolor           & 13.50 & Heartworm Negative &  12/7/12  & Adoption          & 110\\\\\n",
       "\t314 & K12-015112 & 8/26/12  & Owner Surrender & Dog & Neutered & Male   &  1 & Normal          & Germ Shepherd \\& Labrador Retr  & N & ⋯ & Y & 12 & 88 & Working      & Black              & 44.00 & No Lab Test        &  9/3/12   & Adoption          &   8\\\\\n",
       "\t317 & K12-015323 & 8/26/12  & Owner Surrender & Dog & Spayed   & Female &  2 & Normal          & Labrador Retr Mix              & N & ⋯ & Y & 12 & 79 & Sporting     & Black \\& White      & 57.00 & Heartworm Negative &  9/8/12   & Adoption          &  13\\\\\n",
       "\t322 & K12-015558 & 8/26/12  & Owner Surrender & Dog & Spayed   & Female &  0 & Normal          & Rhod Ridgeback Mix             & N & ⋯ & Y & 12 & 85 & Hound        & Tan \\& White        &  9.25 & No Lab Test        &  9/3/12   & Adoption          &   8\\\\\n",
       "\t326 & K12-015733 & 9/2/12   & Owner Surrender & Dog & Spayed   & Female &  0 & Normal          & Bull Terrier Mix               & Y & ⋯ & N & 14 & 85 & Terrier      & White \\& Br Brindle &  8.25 & No Lab Test        &  9/5/12   & Transfer          &   3\\\\\n",
       "\t327 & K12-015761 & 9/2/12   & Owner Surrender & Dog & Neutered & Male   &  0 & Normal          & Chinese Sharpei \\& Pit Bull     & N & ⋯ & Y & 10 & 65 & Non-Sporting & Tan \\& White        & 36.00 & No Lab Test        &  9/4/12   & Adoption          &   2\\\\\n",
       "\t330 & K12-015892 & 9/2/12   & Owner Surrender & Dog & Neutered & Male   &  0 & Injured or Sick & Aust Cattle Dog Mix            & Y & ⋯ & Y & 16 & 35 & Herding      & Black \\& White      & 11.50 & No Lab Test        &  9/8/12   & Adoption          &   6\\\\\n",
       "\t335 & K12-016105 & 9/9/12   & Owner Surrender & Dog & Spayed   & Female &  0 & Normal          & Germ Shepherd Mix              & N & ⋯ & Y & 12 & 88 & Working      & Br Brindle \\& White & 13.75 & No Lab Test        &  9/10/12  & Transfer          &   1\\\\\n",
       "\t341 & K12-016273 & 9/9/12   & Owner Surrender & Dog & Spayed   & Female &  0 & Injured or Sick & Labrador Retr Mix              & N & ⋯ & Y & 12 & 79 & Sporting     & Black              & 42.00 & No Lab Test        &  9/16/12  & Adoption          &   7\\\\\n",
       "\t343 & K12-016389 & 9/9/12   & Owner Surrender & Dog & Neutered & Male   &  1 & Normal          & Norfolk Terrier \\& Dachshund    & Y & ⋯ & Y & 15 & 11 & Terrier      & Tricolor           & 16.00 & Heartworm Negative &  9/18/12  & Transfer          &   9\\\\\n",
       "\t344 & K12-016396 & 9/9/12   & Owner Surrender & Dog & Spayed   & Female &  2 & Normal          & English Springer Spaniel       & N & ⋯ & Y & 14 & 55 & Sporting     & Chocolate \\& White  & 40.99 & No Lab Test        &  9/15/12  & Transfer          &   6\\\\\n",
       "\t351 & K12-016943 & 9/16/12  & Owner Surrender & Dog & Neutered & Male   &  1 & Normal          & Labrador Retr Mix              & N & ⋯ & Y & 12 & 79 & Sporting     & Yellow             & 60.50 & Heartworm Negative &  9/24/12  & Adoption          &   8\\\\\n",
       "\t353 & K12-017010 & 9/16/12  & Owner Surrender & Dog & Neutered & Male   &  4 & Normal          & Yorkshire Terr \\& Poodle Min    & N & ⋯ & Y & 15 &  7 & Terrier      & Gray \\& Black       & 10.75 & Heartworm Negative &  9/23/12  & Adoption          &   7\\\\\n",
       "\t358 & K12-017492 & 9/23/12  & Owner Surrender & Dog & Spayed   & Female &  4 & Normal          & Shiba Inu Mix                  & N & ⋯ & Y & 15 & 23 & Non-Sporting & Tan \\& Black        & 38.25 & Heartworm Negative &  10/1/12  & Adoption          &   8\\\\\n",
       "\t370 & K12-017849 & 9/30/12  & Owner Surrender & Dog & Neutered & Male   &  2 & Normal          & Maltese Mix                    & N & ⋯ & Y & 14 &  7 & Toy          & White              & 12.75 & Heartworm Negative &  10/5/12  & Adoption          &   5\\\\\n",
       "\t388 & K12-018882 & 10/14/12 & Owner Surrender & Dog & Neutered & Male   &  0 & Normal          & Labrador Retr \\& Germ Shepherd  & N & ⋯ & Y & 12 & 79 & Sporting     & Tan \\& Black        & 55.00 & No Lab Test        &  10/22/12 & Adoption          &   8\\\\\n",
       "\t403 & K12-019463 & 10/28/12 & Owner Surrender & Dog & Neutered & Male   &  4 & Injured or Sick & Dachshund Mix                  & Y & ⋯ & N & 14 & 28 & Hound        & Red \\& White        &  7.00 & Heartworm Negative &  11/20/12 & Transfer          &  23\\\\\n",
       "\t414 & K12-020320 & 11/11/12 & Owner Surrender & Dog & Neutered & Male   &  1 & Normal          & Jack Russ Terr \\& Labrador Retr & N & ⋯ & Y & 16 & 18 & Sporting     & Black \\& Brown      & 26.50 & Heartworm Negative &  11/19/12 & Transfer          &   8\\\\\n",
       "\t415 & K12-020475 & 11/11/12 & Owner Surrender & Dog & Neutered & Male   & 17 & Injured or Sick & Dachshund                      & Y & ⋯ & N & 14 & 28 & Hound        & Brown              &  6.50 & No Lab Test        &  11/15/12 & Humane Euthanasia &   4\\\\\n",
       "\t416 & K12-020543 & 11/11/12 & Owner Surrender & Dog & Spayed   & Female &  1 & Normal          & Labrador Retr Mix              & N & ⋯ & Y & 12 & 79 & Sporting     & Tan                & 55.00 & Heartworm Negative &  11/25/12 & Adoption          &  14\\\\\n",
       "\t417 & K12-020563 & 11/11/12 & Owner Surrender & Dog & Spayed   & Female &  2 & Normal          & Boxer Mix                      & N & ⋯ & Y & 12 & 72 & Working      & Black              & 48.00 & Heartworm Negative &  12/12/12 & Transfer          &  31\\\\\n",
       "\t422 & K12-020696 & 11/18/12 & Owner Surrender & Dog & Spayed   & Female &  0 & Normal          & Boxer Mix                      & N & ⋯ & Y & 12 & 72 & Working      & Brown \\& White      &  5.00 & No Lab Test        &  11/19/12 & Transfer          &   1\\\\\n",
       "\t427 & K12-020752 & 11/18/12 & Owner Surrender & Dog & Intact   & Male   &  0 & Normal          & Chihuahua Sh Mix               & N & ⋯ & N & 18 &  6 & Toy          & Black \\& Tan        & 13.25 & No Lab Test        &  11/22/12 & Transfer          &   4\\\\\n",
       "\t428 & K12-021100 & 11/25/12 & Owner Surrender & Dog & Neutered & Male   &  5 & Normal          & Chihuahua Sh \\& Dachshund       & N & ⋯ & N & 18 &  6 & Toy          & Brown              &  6.50 & Heartworm Negative &  2/24/13  & Adoption          &  91\\\\\n",
       "\t436 & K12-021507 & 12/2/12  & Owner Surrender & Dog & Spayed   & Female &  3 & Normal          & Pit Bull                       & N & ⋯ & Y & 14 & 90 & Terrier      & Fawn \\& White       & 63.00 & Heartworm Positive &  12/7/12  & Humane Euthanasia &   5\\\\\n",
       "\t458 & K12-022434 & 12/16/12 & Owner Surrender & Dog & Neutered & Male   &  7 & Normal          & Lhasa Apso Mix                 & N & ⋯ & Y & 20 & 19 & Non-Sporting & Tan                & 29.00 & Heartworm Negative &  12/26/12 & Transfer          &  10\\\\\n",
       "\t460 & K12-022496 & 12/16/12 & Owner Surrender & Dog & Intact   & Female &  0 & Normal          & Chihuahua Sh Mix               & N & ⋯ & N & 18 &  6 & Toy          & Tan                &  8.75 & Heartworm Negative &  12/23/12 & Transfer          &   7\\\\\n",
       "\t467 & K12-022596 & 12/23/12 & Owner Surrender & Dog & Intact   & Female &  1 & Injured or Sick & Shih Tzu Mix                   & N & ⋯ & Y & 16 & 16 & Non-Sporting & White \\& Black      &  5.75 & No Lab Test        &  12/24/12 & Transfer          &   1\\\\\n",
       "\t471 & K12-022814 & 12/23/12 & Owner Surrender & Dog & Neutered & Male   &  4 & Injured or Sick & Bruss Griffon Mix              & N & ⋯ & Y & 15 & 10 & Toy          & Brown              & 10.50 & No Lab Test        &  12/29/12 & Humane Euthanasia &   6\\\\\n",
       "\\end{tabular}\n"
      ],
      "text/markdown": [
       "\n",
       "A data.frame: 81 × 24\n",
       "\n",
       "| <!--/--> | Impound.No &lt;fct&gt; | Intake.Date &lt;fct&gt; | Intake.Type &lt;fct&gt; | Animal.Type &lt;fct&gt; | Neutered.Status &lt;fct&gt; | Sex &lt;fct&gt; | Age.Intake &lt;int&gt; | Condition &lt;fct&gt; | Breed &lt;fct&gt; | Aggressive &lt;fct&gt; | ⋯ ⋯ | Good.with.Kids &lt;fct&gt; | Max.Life.Expectancy &lt;int&gt; | Max.Weight &lt;int&gt; | Dog.Group &lt;fct&gt; | Color &lt;fct&gt; | Weight &lt;dbl&gt; | Lab.Test &lt;fct&gt; | Outcome.Date &lt;fct&gt; | Outcome.Type &lt;fct&gt; | Days.Shelter &lt;int&gt; |\n",
       "|---|---|---|---|---|---|---|---|---|---|---|---|---|---|---|---|---|---|---|---|---|---|\n",
       "| 7 | K12-000291 | 1/1/12  | Owner Surrender | Dog | Intact   | Male   |  2 | Normal          | Weimaraner Mix                | N | ⋯ | Y | 13 |  80 | Sporting     | Fawn &amp; White       | 47.0 | Heartworm Positive |  1/26/12 | Humane Euthanasia | 25 |\n",
       "| 16 | K12-000712 | 1/15/12 | Owner Surrender | Dog | Spayed   | Female |  5 | Normal          | Beagle &amp; Basset Hound         | N | ⋯ | Y | 15 |  35 | Hound        | Tricolor           | 62.0 | Heartworm Positive |  1/17/12 | Transfer          |  2 |\n",
       "| 21 | K12-000957 | 1/15/12 | Owner Surrender | Dog | Neutered | Male   |  3 | Normal          | Pit Bull Mix                  | N | ⋯ | Y | 14 |  90 | Terrier      | Blue               | 55.3 | Heartworm Negative |  1/31/12 | Adoption          | 16 |\n",
       "| 29 | K12-001213 | 1/22/12 | Owner Surrender | Dog | Neutered | Male   |  0 | Normal          | Chihuahua Sh Mix              | N | ⋯ | N | 18 |   6 | Toy          | Red &amp; Black        | 12.3 | No Lab Test        |  2/6/12  | Adoption          | 15 |\n",
       "| 32 | K12-001295 | 1/29/12 | Owner Surrender | Dog | Neutered | Male   |  0 | Normal          | Basset Hound &amp; Boston Terrier | N | ⋯ | Y | 12 |  65 | Hound        | Br Brindle &amp; White | 15.5 | No Lab Test        |  1/31/12 | Adoption          |  2 |\n",
       "| 38 | K12-001671 | 2/5/12  | Owner Surrender | Dog | Spayed   | Female |  1 | Normal          | Great Dane Mix                | N | ⋯ | Y | 10 | 180 | Working      | Black &amp; White      | 63.0 | Heartworm Negative |  2/10/12 | Adoption          |  5 |\n",
       "| 39 | K12-001692 | 2/5/12  | Owner Surrender | Dog | Neutered | Male   |  1 | Injured or Sick | Chihuahua Sh Mix              | N | ⋯ | N | 18 |   6 | Toy          | White &amp; Tan        |  9.8 | No Lab Test        |  2/9/12  | Return to Owner   |  4 |\n",
       "| 41 | K12-001761 | 2/5/12  | Owner Surrender | Dog | Spayed   | Female |  5 | Normal          | Pug Mix                       | N | ⋯ | Y | 15 |  25 | Toy          | Brown              | 15.8 | Heartworm Negative |  2/13/12 | Adoption          |  8 |\n",
       "| 44 | K12-001842 | 2/5/12  | Owner Surrender | Dog | Neutered | Male   |  6 | Normal          | Chihuahua Sh                  | N | ⋯ | N | 18 |   6 | Toy          | Tan                | 11.0 | Heartworm Negative |  2/13/12 | Adoption          |  8 |\n",
       "| 45 | K12-001851 | 2/5/12  | Owner Surrender | Dog | Spayed   | Female |  8 | Normal          | Greyhound &amp; Great Dane        | N | ⋯ | Y | 10 | 180 | Working      | Black &amp; White      | 54.0 | Heartworm Negative |  2/21/12 | Adoption          | 16 |\n",
       "| 46 | K12-001885 | 2/5/12  | Owner Surrender | Dog | Neutered | Male   |  1 | Normal          | Dogo Argentino Mix            | N | ⋯ | Y | 14 | 120 | Terrier      | White              | 53.5 | Heartworm Negative |  3/4/12  | Transfer          | 28 |\n",
       "| 50 | K12-002148 | 2/12/12 | Owner Surrender | Dog | Neutered | Male   |  3 | Normal          | Tibetan Terr Mix              | N | ⋯ | Y | 15 |  24 | Non-Sporting | Gray &amp; Black       | 36.3 | Heartworm Negative |  2/20/12 | Transfer          |  8 |\n",
       "| 53 | K12-002274 | 2/19/12 | Owner Surrender | Dog | Spayed   | Female |  5 | Normal          | Chihuahua Sh Mix              | N | ⋯ | N | 18 |   6 | Toy          | Brown              | 13.5 | Heartworm Negative |  2/22/12 | Transfer          |  3 |\n",
       "| 56 | K12-002373 | 2/19/12 | Owner Surrender | Dog | Spayed   | Female |  3 | Normal          | Chinese Sharpei               | N | ⋯ | Y | 10 |  65 | Non-Sporting | Buff               | 30.0 | Heartworm Negative |  2/25/12 | Transfer          |  6 |\n",
       "| 65 | K12-002676 | 2/26/12 | Owner Surrender | Dog | Spayed   | Female |  3 | Normal          | Poodle Toy Mix                | N | ⋯ | Y | 14 |   9 | Toy          | Black &amp; White      |  6.5 | Heartworm Negative |  2/27/12 | Transfer          |  1 |\n",
       "| 68 | K12-002891 | 2/26/12 | Owner Surrender | Dog | Neutered | Male   |  0 | Normal          | Great Pyrenees                | N | ⋯ | Y | 12 | 120 | Herding      | White &amp; Tan        | 23.5 | No Lab Test        |  3/3/12  | Adoption          |  6 |\n",
       "| 69 | K12-002954 | 3/4/12  | Owner Surrender | Dog | Spayed   | Female |  0 | Normal          | Min Pinscher Mix              | N | ⋯ | Y | 14 |  10 | Toy          | Black &amp; Tan        | 13.8 | Heartworm Negative |  3/4/12  | Transfer          |  0 |\n",
       "| 86 | K12-003922 | 3/18/12 | Owner Surrender | Dog | Neutered | Male   |  0 | Normal          | Labrador Retr &amp; Catahoula     | N | ⋯ | Y | 12 |  79 | Sporting     | Red                | 23.8 | No Lab Test        |  3/24/12 | Adoption          |  6 |\n",
       "| 88 | K12-004064 | 3/18/12 | Owner Surrender | Dog | Neutered | Male   |  1 | Normal          | Labrador Retr Mix             | N | ⋯ | Y | 12 |  79 | Sporting     | Chocolate          | 62.3 | Heartworm Negative |  3/25/12 | Transfer          |  7 |\n",
       "| 93 | K12-004141 | 3/25/12 | Owner Surrender | Dog | Neutered | Male   |  5 | Normal          | Queensland Heel Mix           | Y | ⋯ | Y | 16 |  35 | Herding      | BLUE MERLE         | 40.0 | Heartworm Positive |  4/1/12  | Transfer          |  7 |\n",
       "| 96 | K12-004333 | 3/25/12 | Owner Surrender | Dog | Spayed   | Female |  2 | Normal          | Dogo Argentino Mix            | N | ⋯ | Y | 14 | 120 | Terrier      | White              | 44.0 | Heartworm Negative |  4/11/12 | Adoption          | 17 |\n",
       "| 98 | K12-004511 | 4/1/12  | Owner Surrender | Dog | Neutered | Male   |  5 | Normal          | Pit Bull Mix                  | N | ⋯ | Y | 14 |  90 | Terrier      | Red &amp; White        | 73.0 | Heartworm Negative |  4/4/12  | Return to Owner   |  3 |\n",
       "| 99 | K12-004641 | 4/1/12  | Owner Surrender | Dog | Neutered | Male   |  2 | Normal          | Cairn Terrier &amp; Dachshund Wh  | N | ⋯ | Y | 15 |  18 | Terrier      | Black &amp; Tan        | 13.5 | Heartworm Negative |  4/15/12 | Adoption          | 14 |\n",
       "| 105 | K12-004906 | 4/8/12  | Owner Surrender | Dog | Spayed   | Female | 10 | Normal          | Chihuahua Sh Mix              | N | ⋯ | N | 18 |   6 | Toy          | Cream              |  5.5 | Heartworm Negative |  4/13/12 | Adoption          |  5 |\n",
       "| 120 | K12-005709 | 4/15/12 | Owner Surrender | Dog | Spayed   | Female | 13 | Normal          | Aust Cattle Dog               | Y | ⋯ | Y | 16 |  35 | Herding      | Blue Merle         | 56.0 | Heartworm Negative |  4/20/12 | Humane Euthanasia |  5 |\n",
       "| 145 | K12-006799 | 4/29/12 | Owner Surrender | Dog | Neutered | Male   |  1 | Normal          | Pug &amp; Beagle                  | N | ⋯ | Y | 15 |  30 | Crossbreed   | Brown &amp; Black      | 13.8 | Heartworm Negative |  5/5/12  | Adoption          |  6 |\n",
       "| 148 | K12-006891 | 4/29/12 | Owner Surrender | Dog | Neutered | Male   |  4 | Normal          | Cocker Spaniel                | N | ⋯ | Y | 15 |  33 | Sporting     | Black &amp; Tan        | 19.0 | Heartworm Negative |  5/7/12  | Adoption          |  8 |\n",
       "| 149 | K12-006924 | 4/29/12 | Owner Surrender | Dog | Spayed   | Female |  5 | Normal          | Schnauzer Min Mix             | N | ⋯ | Y | 15 |  20 | Terrier      | Black &amp; Tan        | 30.0 | Heartworm Negative |  5/9/12  | Transfer          | 10 |\n",
       "| 150 | K12-006925 | 4/29/12 | Owner Surrender | Dog | Neutered | Male   |  0 | Normal          | Schnauzer Min &amp; Chow Chow     | N | ⋯ | Y | 15 |  20 | Terrier      | Black              | 20.0 | No Lab Test        |  5/9/12  | Transfer          | 10 |\n",
       "| 152 | K12-007045 | 5/6/12  | Owner Surrender | Dog | Neutered | Male   |  1 | Normal          | Amer Bulldog Mix              | N | ⋯ | Y | 12 |  55 | Non-Sporting | Br Brindle &amp; White | 63.0 | Heartworm Negative |  5/28/12 | Adoption          | 22 |\n",
       "| ⋮ | ⋮ | ⋮ | ⋮ | ⋮ | ⋮ | ⋮ | ⋮ | ⋮ | ⋮ | ⋮ | ⋱ | ⋮ | ⋮ | ⋮ | ⋮ | ⋮ | ⋮ | ⋮ | ⋮ | ⋮ | ⋮ |\n",
       "| 309 | K12-014983 | 8/19/12  | Owner Surrender | Dog | Spayed   | Female |  0 | Normal          | Pekingese Mix                  | N | ⋯ | Y | 15 | 14 | Toy          | White &amp; Black      |  7.50 | No Lab Test        |  8/24/12  | Transfer          |   5 |\n",
       "| 311 | K12-015035 | 8/19/12  | Owner Surrender | Dog | Spayed   | Female |  5 | Normal          | Rat Terrier Mix                | N | ⋯ | Y | 14 | 25 | Terrier      | Tricolor           | 13.50 | Heartworm Negative |  12/7/12  | Adoption          | 110 |\n",
       "| 314 | K12-015112 | 8/26/12  | Owner Surrender | Dog | Neutered | Male   |  1 | Normal          | Germ Shepherd &amp; Labrador Retr  | N | ⋯ | Y | 12 | 88 | Working      | Black              | 44.00 | No Lab Test        |  9/3/12   | Adoption          |   8 |\n",
       "| 317 | K12-015323 | 8/26/12  | Owner Surrender | Dog | Spayed   | Female |  2 | Normal          | Labrador Retr Mix              | N | ⋯ | Y | 12 | 79 | Sporting     | Black &amp; White      | 57.00 | Heartworm Negative |  9/8/12   | Adoption          |  13 |\n",
       "| 322 | K12-015558 | 8/26/12  | Owner Surrender | Dog | Spayed   | Female |  0 | Normal          | Rhod Ridgeback Mix             | N | ⋯ | Y | 12 | 85 | Hound        | Tan &amp; White        |  9.25 | No Lab Test        |  9/3/12   | Adoption          |   8 |\n",
       "| 326 | K12-015733 | 9/2/12   | Owner Surrender | Dog | Spayed   | Female |  0 | Normal          | Bull Terrier Mix               | Y | ⋯ | N | 14 | 85 | Terrier      | White &amp; Br Brindle |  8.25 | No Lab Test        |  9/5/12   | Transfer          |   3 |\n",
       "| 327 | K12-015761 | 9/2/12   | Owner Surrender | Dog | Neutered | Male   |  0 | Normal          | Chinese Sharpei &amp; Pit Bull     | N | ⋯ | Y | 10 | 65 | Non-Sporting | Tan &amp; White        | 36.00 | No Lab Test        |  9/4/12   | Adoption          |   2 |\n",
       "| 330 | K12-015892 | 9/2/12   | Owner Surrender | Dog | Neutered | Male   |  0 | Injured or Sick | Aust Cattle Dog Mix            | Y | ⋯ | Y | 16 | 35 | Herding      | Black &amp; White      | 11.50 | No Lab Test        |  9/8/12   | Adoption          |   6 |\n",
       "| 335 | K12-016105 | 9/9/12   | Owner Surrender | Dog | Spayed   | Female |  0 | Normal          | Germ Shepherd Mix              | N | ⋯ | Y | 12 | 88 | Working      | Br Brindle &amp; White | 13.75 | No Lab Test        |  9/10/12  | Transfer          |   1 |\n",
       "| 341 | K12-016273 | 9/9/12   | Owner Surrender | Dog | Spayed   | Female |  0 | Injured or Sick | Labrador Retr Mix              | N | ⋯ | Y | 12 | 79 | Sporting     | Black              | 42.00 | No Lab Test        |  9/16/12  | Adoption          |   7 |\n",
       "| 343 | K12-016389 | 9/9/12   | Owner Surrender | Dog | Neutered | Male   |  1 | Normal          | Norfolk Terrier &amp; Dachshund    | Y | ⋯ | Y | 15 | 11 | Terrier      | Tricolor           | 16.00 | Heartworm Negative |  9/18/12  | Transfer          |   9 |\n",
       "| 344 | K12-016396 | 9/9/12   | Owner Surrender | Dog | Spayed   | Female |  2 | Normal          | English Springer Spaniel       | N | ⋯ | Y | 14 | 55 | Sporting     | Chocolate &amp; White  | 40.99 | No Lab Test        |  9/15/12  | Transfer          |   6 |\n",
       "| 351 | K12-016943 | 9/16/12  | Owner Surrender | Dog | Neutered | Male   |  1 | Normal          | Labrador Retr Mix              | N | ⋯ | Y | 12 | 79 | Sporting     | Yellow             | 60.50 | Heartworm Negative |  9/24/12  | Adoption          |   8 |\n",
       "| 353 | K12-017010 | 9/16/12  | Owner Surrender | Dog | Neutered | Male   |  4 | Normal          | Yorkshire Terr &amp; Poodle Min    | N | ⋯ | Y | 15 |  7 | Terrier      | Gray &amp; Black       | 10.75 | Heartworm Negative |  9/23/12  | Adoption          |   7 |\n",
       "| 358 | K12-017492 | 9/23/12  | Owner Surrender | Dog | Spayed   | Female |  4 | Normal          | Shiba Inu Mix                  | N | ⋯ | Y | 15 | 23 | Non-Sporting | Tan &amp; Black        | 38.25 | Heartworm Negative |  10/1/12  | Adoption          |   8 |\n",
       "| 370 | K12-017849 | 9/30/12  | Owner Surrender | Dog | Neutered | Male   |  2 | Normal          | Maltese Mix                    | N | ⋯ | Y | 14 |  7 | Toy          | White              | 12.75 | Heartworm Negative |  10/5/12  | Adoption          |   5 |\n",
       "| 388 | K12-018882 | 10/14/12 | Owner Surrender | Dog | Neutered | Male   |  0 | Normal          | Labrador Retr &amp; Germ Shepherd  | N | ⋯ | Y | 12 | 79 | Sporting     | Tan &amp; Black        | 55.00 | No Lab Test        |  10/22/12 | Adoption          |   8 |\n",
       "| 403 | K12-019463 | 10/28/12 | Owner Surrender | Dog | Neutered | Male   |  4 | Injured or Sick | Dachshund Mix                  | Y | ⋯ | N | 14 | 28 | Hound        | Red &amp; White        |  7.00 | Heartworm Negative |  11/20/12 | Transfer          |  23 |\n",
       "| 414 | K12-020320 | 11/11/12 | Owner Surrender | Dog | Neutered | Male   |  1 | Normal          | Jack Russ Terr &amp; Labrador Retr | N | ⋯ | Y | 16 | 18 | Sporting     | Black &amp; Brown      | 26.50 | Heartworm Negative |  11/19/12 | Transfer          |   8 |\n",
       "| 415 | K12-020475 | 11/11/12 | Owner Surrender | Dog | Neutered | Male   | 17 | Injured or Sick | Dachshund                      | Y | ⋯ | N | 14 | 28 | Hound        | Brown              |  6.50 | No Lab Test        |  11/15/12 | Humane Euthanasia |   4 |\n",
       "| 416 | K12-020543 | 11/11/12 | Owner Surrender | Dog | Spayed   | Female |  1 | Normal          | Labrador Retr Mix              | N | ⋯ | Y | 12 | 79 | Sporting     | Tan                | 55.00 | Heartworm Negative |  11/25/12 | Adoption          |  14 |\n",
       "| 417 | K12-020563 | 11/11/12 | Owner Surrender | Dog | Spayed   | Female |  2 | Normal          | Boxer Mix                      | N | ⋯ | Y | 12 | 72 | Working      | Black              | 48.00 | Heartworm Negative |  12/12/12 | Transfer          |  31 |\n",
       "| 422 | K12-020696 | 11/18/12 | Owner Surrender | Dog | Spayed   | Female |  0 | Normal          | Boxer Mix                      | N | ⋯ | Y | 12 | 72 | Working      | Brown &amp; White      |  5.00 | No Lab Test        |  11/19/12 | Transfer          |   1 |\n",
       "| 427 | K12-020752 | 11/18/12 | Owner Surrender | Dog | Intact   | Male   |  0 | Normal          | Chihuahua Sh Mix               | N | ⋯ | N | 18 |  6 | Toy          | Black &amp; Tan        | 13.25 | No Lab Test        |  11/22/12 | Transfer          |   4 |\n",
       "| 428 | K12-021100 | 11/25/12 | Owner Surrender | Dog | Neutered | Male   |  5 | Normal          | Chihuahua Sh &amp; Dachshund       | N | ⋯ | N | 18 |  6 | Toy          | Brown              |  6.50 | Heartworm Negative |  2/24/13  | Adoption          |  91 |\n",
       "| 436 | K12-021507 | 12/2/12  | Owner Surrender | Dog | Spayed   | Female |  3 | Normal          | Pit Bull                       | N | ⋯ | Y | 14 | 90 | Terrier      | Fawn &amp; White       | 63.00 | Heartworm Positive |  12/7/12  | Humane Euthanasia |   5 |\n",
       "| 458 | K12-022434 | 12/16/12 | Owner Surrender | Dog | Neutered | Male   |  7 | Normal          | Lhasa Apso Mix                 | N | ⋯ | Y | 20 | 19 | Non-Sporting | Tan                | 29.00 | Heartworm Negative |  12/26/12 | Transfer          |  10 |\n",
       "| 460 | K12-022496 | 12/16/12 | Owner Surrender | Dog | Intact   | Female |  0 | Normal          | Chihuahua Sh Mix               | N | ⋯ | N | 18 |  6 | Toy          | Tan                |  8.75 | Heartworm Negative |  12/23/12 | Transfer          |   7 |\n",
       "| 467 | K12-022596 | 12/23/12 | Owner Surrender | Dog | Intact   | Female |  1 | Injured or Sick | Shih Tzu Mix                   | N | ⋯ | Y | 16 | 16 | Non-Sporting | White &amp; Black      |  5.75 | No Lab Test        |  12/24/12 | Transfer          |   1 |\n",
       "| 471 | K12-022814 | 12/23/12 | Owner Surrender | Dog | Neutered | Male   |  4 | Injured or Sick | Bruss Griffon Mix              | N | ⋯ | Y | 15 | 10 | Toy          | Brown              | 10.50 | No Lab Test        |  12/29/12 | Humane Euthanasia |   6 |\n",
       "\n"
      ],
      "text/plain": [
       "    Impound.No Intake.Date Intake.Type     Animal.Type Neutered.Status Sex   \n",
       "7   K12-000291 1/1/12      Owner Surrender Dog         Intact          Male  \n",
       "16  K12-000712 1/15/12     Owner Surrender Dog         Spayed          Female\n",
       "21  K12-000957 1/15/12     Owner Surrender Dog         Neutered        Male  \n",
       "29  K12-001213 1/22/12     Owner Surrender Dog         Neutered        Male  \n",
       "32  K12-001295 1/29/12     Owner Surrender Dog         Neutered        Male  \n",
       "38  K12-001671 2/5/12      Owner Surrender Dog         Spayed          Female\n",
       "39  K12-001692 2/5/12      Owner Surrender Dog         Neutered        Male  \n",
       "41  K12-001761 2/5/12      Owner Surrender Dog         Spayed          Female\n",
       "44  K12-001842 2/5/12      Owner Surrender Dog         Neutered        Male  \n",
       "45  K12-001851 2/5/12      Owner Surrender Dog         Spayed          Female\n",
       "46  K12-001885 2/5/12      Owner Surrender Dog         Neutered        Male  \n",
       "50  K12-002148 2/12/12     Owner Surrender Dog         Neutered        Male  \n",
       "53  K12-002274 2/19/12     Owner Surrender Dog         Spayed          Female\n",
       "56  K12-002373 2/19/12     Owner Surrender Dog         Spayed          Female\n",
       "65  K12-002676 2/26/12     Owner Surrender Dog         Spayed          Female\n",
       "68  K12-002891 2/26/12     Owner Surrender Dog         Neutered        Male  \n",
       "69  K12-002954 3/4/12      Owner Surrender Dog         Spayed          Female\n",
       "86  K12-003922 3/18/12     Owner Surrender Dog         Neutered        Male  \n",
       "88  K12-004064 3/18/12     Owner Surrender Dog         Neutered        Male  \n",
       "93  K12-004141 3/25/12     Owner Surrender Dog         Neutered        Male  \n",
       "96  K12-004333 3/25/12     Owner Surrender Dog         Spayed          Female\n",
       "98  K12-004511 4/1/12      Owner Surrender Dog         Neutered        Male  \n",
       "99  K12-004641 4/1/12      Owner Surrender Dog         Neutered        Male  \n",
       "105 K12-004906 4/8/12      Owner Surrender Dog         Spayed          Female\n",
       "120 K12-005709 4/15/12     Owner Surrender Dog         Spayed          Female\n",
       "145 K12-006799 4/29/12     Owner Surrender Dog         Neutered        Male  \n",
       "148 K12-006891 4/29/12     Owner Surrender Dog         Neutered        Male  \n",
       "149 K12-006924 4/29/12     Owner Surrender Dog         Spayed          Female\n",
       "150 K12-006925 4/29/12     Owner Surrender Dog         Neutered        Male  \n",
       "152 K12-007045 5/6/12      Owner Surrender Dog         Neutered        Male  \n",
       "<U+22EE>   <U+22EE>   <U+22EE>    <U+22EE>        <U+22EE>    <U+22EE>        <U+22EE>\n",
       "309 K12-014983 8/19/12     Owner Surrender Dog         Spayed          Female\n",
       "311 K12-015035 8/19/12     Owner Surrender Dog         Spayed          Female\n",
       "314 K12-015112 8/26/12     Owner Surrender Dog         Neutered        Male  \n",
       "317 K12-015323 8/26/12     Owner Surrender Dog         Spayed          Female\n",
       "322 K12-015558 8/26/12     Owner Surrender Dog         Spayed          Female\n",
       "326 K12-015733 9/2/12      Owner Surrender Dog         Spayed          Female\n",
       "327 K12-015761 9/2/12      Owner Surrender Dog         Neutered        Male  \n",
       "330 K12-015892 9/2/12      Owner Surrender Dog         Neutered        Male  \n",
       "335 K12-016105 9/9/12      Owner Surrender Dog         Spayed          Female\n",
       "341 K12-016273 9/9/12      Owner Surrender Dog         Spayed          Female\n",
       "343 K12-016389 9/9/12      Owner Surrender Dog         Neutered        Male  \n",
       "344 K12-016396 9/9/12      Owner Surrender Dog         Spayed          Female\n",
       "351 K12-016943 9/16/12     Owner Surrender Dog         Neutered        Male  \n",
       "353 K12-017010 9/16/12     Owner Surrender Dog         Neutered        Male  \n",
       "358 K12-017492 9/23/12     Owner Surrender Dog         Spayed          Female\n",
       "370 K12-017849 9/30/12     Owner Surrender Dog         Neutered        Male  \n",
       "388 K12-018882 10/14/12    Owner Surrender Dog         Neutered        Male  \n",
       "403 K12-019463 10/28/12    Owner Surrender Dog         Neutered        Male  \n",
       "414 K12-020320 11/11/12    Owner Surrender Dog         Neutered        Male  \n",
       "415 K12-020475 11/11/12    Owner Surrender Dog         Neutered        Male  \n",
       "416 K12-020543 11/11/12    Owner Surrender Dog         Spayed          Female\n",
       "417 K12-020563 11/11/12    Owner Surrender Dog         Spayed          Female\n",
       "422 K12-020696 11/18/12    Owner Surrender Dog         Spayed          Female\n",
       "427 K12-020752 11/18/12    Owner Surrender Dog         Intact          Male  \n",
       "428 K12-021100 11/25/12    Owner Surrender Dog         Neutered        Male  \n",
       "436 K12-021507 12/2/12     Owner Surrender Dog         Spayed          Female\n",
       "458 K12-022434 12/16/12    Owner Surrender Dog         Neutered        Male  \n",
       "460 K12-022496 12/16/12    Owner Surrender Dog         Intact          Female\n",
       "467 K12-022596 12/23/12    Owner Surrender Dog         Intact          Female\n",
       "471 K12-022814 12/23/12    Owner Surrender Dog         Neutered        Male  \n",
       "    Age.Intake Condition       Breed                          Aggressive\n",
       "7    2         Normal          Weimaraner Mix                 N         \n",
       "16   5         Normal          Beagle & Basset Hound          N         \n",
       "21   3         Normal          Pit Bull Mix                   N         \n",
       "29   0         Normal          Chihuahua Sh Mix               N         \n",
       "32   0         Normal          Basset Hound & Boston Terrier  N         \n",
       "38   1         Normal          Great Dane Mix                 N         \n",
       "39   1         Injured or Sick Chihuahua Sh Mix               N         \n",
       "41   5         Normal          Pug Mix                        N         \n",
       "44   6         Normal          Chihuahua Sh                   N         \n",
       "45   8         Normal          Greyhound & Great Dane         N         \n",
       "46   1         Normal          Dogo Argentino Mix             N         \n",
       "50   3         Normal          Tibetan Terr Mix               N         \n",
       "53   5         Normal          Chihuahua Sh Mix               N         \n",
       "56   3         Normal          Chinese Sharpei                N         \n",
       "65   3         Normal          Poodle Toy Mix                 N         \n",
       "68   0         Normal          Great Pyrenees                 N         \n",
       "69   0         Normal          Min Pinscher Mix               N         \n",
       "86   0         Normal          Labrador Retr & Catahoula      N         \n",
       "88   1         Normal          Labrador Retr Mix              N         \n",
       "93   5         Normal          Queensland Heel Mix            Y         \n",
       "96   2         Normal          Dogo Argentino Mix             N         \n",
       "98   5         Normal          Pit Bull Mix                   N         \n",
       "99   2         Normal          Cairn Terrier & Dachshund Wh   N         \n",
       "105 10         Normal          Chihuahua Sh Mix               N         \n",
       "120 13         Normal          Aust Cattle Dog                Y         \n",
       "145  1         Normal          Pug & Beagle                   N         \n",
       "148  4         Normal          Cocker Spaniel                 N         \n",
       "149  5         Normal          Schnauzer Min Mix              N         \n",
       "150  0         Normal          Schnauzer Min & Chow Chow      N         \n",
       "152  1         Normal          Amer Bulldog Mix               N         \n",
       "<U+22EE>   <U+22EE>   <U+22EE>        <U+22EE>                       <U+22EE>  \n",
       "309  0         Normal          Pekingese Mix                  N         \n",
       "311  5         Normal          Rat Terrier Mix                N         \n",
       "314  1         Normal          Germ Shepherd & Labrador Retr  N         \n",
       "317  2         Normal          Labrador Retr Mix              N         \n",
       "322  0         Normal          Rhod Ridgeback Mix             N         \n",
       "326  0         Normal          Bull Terrier Mix               Y         \n",
       "327  0         Normal          Chinese Sharpei & Pit Bull     N         \n",
       "330  0         Injured or Sick Aust Cattle Dog Mix            Y         \n",
       "335  0         Normal          Germ Shepherd Mix              N         \n",
       "341  0         Injured or Sick Labrador Retr Mix              N         \n",
       "343  1         Normal          Norfolk Terrier & Dachshund    Y         \n",
       "344  2         Normal          English Springer Spaniel       N         \n",
       "351  1         Normal          Labrador Retr Mix              N         \n",
       "353  4         Normal          Yorkshire Terr & Poodle Min    N         \n",
       "358  4         Normal          Shiba Inu Mix                  N         \n",
       "370  2         Normal          Maltese Mix                    N         \n",
       "388  0         Normal          Labrador Retr & Germ Shepherd  N         \n",
       "403  4         Injured or Sick Dachshund Mix                  Y         \n",
       "414  1         Normal          Jack Russ Terr & Labrador Retr N         \n",
       "415 17         Injured or Sick Dachshund                      Y         \n",
       "416  1         Normal          Labrador Retr Mix              N         \n",
       "417  2         Normal          Boxer Mix                      N         \n",
       "422  0         Normal          Boxer Mix                      N         \n",
       "427  0         Normal          Chihuahua Sh Mix               N         \n",
       "428  5         Normal          Chihuahua Sh & Dachshund       N         \n",
       "436  3         Normal          Pit Bull                       N         \n",
       "458  7         Normal          Lhasa Apso Mix                 N         \n",
       "460  0         Normal          Chihuahua Sh Mix               N         \n",
       "467  1         Injured or Sick Shih Tzu Mix                   N         \n",
       "471  4         Injured or Sick Bruss Griffon Mix              N         \n",
       "    <U+22EF>        Good.with.Kids Max.Life.Expectancy Max.Weight Dog.Group   \n",
       "7   <U+22EF> Y              13                   80        Sporting    \n",
       "16  <U+22EF> Y              15                   35        Hound       \n",
       "21  <U+22EF> Y              14                   90        Terrier     \n",
       "29  <U+22EF> N              18                    6        Toy         \n",
       "32  <U+22EF> Y              12                   65        Hound       \n",
       "38  <U+22EF> Y              10                  180        Working     \n",
       "39  <U+22EF> N              18                    6        Toy         \n",
       "41  <U+22EF> Y              15                   25        Toy         \n",
       "44  <U+22EF> N              18                    6        Toy         \n",
       "45  <U+22EF> Y              10                  180        Working     \n",
       "46  <U+22EF> Y              14                  120        Terrier     \n",
       "50  <U+22EF> Y              15                   24        Non-Sporting\n",
       "53  <U+22EF> N              18                    6        Toy         \n",
       "56  <U+22EF> Y              10                   65        Non-Sporting\n",
       "65  <U+22EF> Y              14                    9        Toy         \n",
       "68  <U+22EF> Y              12                  120        Herding     \n",
       "69  <U+22EF> Y              14                   10        Toy         \n",
       "86  <U+22EF> Y              12                   79        Sporting    \n",
       "88  <U+22EF> Y              12                   79        Sporting    \n",
       "93  <U+22EF> Y              16                   35        Herding     \n",
       "96  <U+22EF> Y              14                  120        Terrier     \n",
       "98  <U+22EF> Y              14                   90        Terrier     \n",
       "99  <U+22EF> Y              15                   18        Terrier     \n",
       "105 <U+22EF> N              18                    6        Toy         \n",
       "120 <U+22EF> Y              16                   35        Herding     \n",
       "145 <U+22EF> Y              15                   30        Crossbreed  \n",
       "148 <U+22EF> Y              15                   33        Sporting    \n",
       "149 <U+22EF> Y              15                   20        Terrier     \n",
       "150 <U+22EF> Y              15                   20        Terrier     \n",
       "152 <U+22EF> Y              12                   55        Non-Sporting\n",
       "<U+22EE>   <U+22F1> <U+22EE>       <U+22EE>            <U+22EE>   <U+22EE>    \n",
       "309 <U+22EF> Y              15                  14         Toy         \n",
       "311 <U+22EF> Y              14                  25         Terrier     \n",
       "314 <U+22EF> Y              12                  88         Working     \n",
       "317 <U+22EF> Y              12                  79         Sporting    \n",
       "322 <U+22EF> Y              12                  85         Hound       \n",
       "326 <U+22EF> N              14                  85         Terrier     \n",
       "327 <U+22EF> Y              10                  65         Non-Sporting\n",
       "330 <U+22EF> Y              16                  35         Herding     \n",
       "335 <U+22EF> Y              12                  88         Working     \n",
       "341 <U+22EF> Y              12                  79         Sporting    \n",
       "343 <U+22EF> Y              15                  11         Terrier     \n",
       "344 <U+22EF> Y              14                  55         Sporting    \n",
       "351 <U+22EF> Y              12                  79         Sporting    \n",
       "353 <U+22EF> Y              15                   7         Terrier     \n",
       "358 <U+22EF> Y              15                  23         Non-Sporting\n",
       "370 <U+22EF> Y              14                   7         Toy         \n",
       "388 <U+22EF> Y              12                  79         Sporting    \n",
       "403 <U+22EF> N              14                  28         Hound       \n",
       "414 <U+22EF> Y              16                  18         Sporting    \n",
       "415 <U+22EF> N              14                  28         Hound       \n",
       "416 <U+22EF> Y              12                  79         Sporting    \n",
       "417 <U+22EF> Y              12                  72         Working     \n",
       "422 <U+22EF> Y              12                  72         Working     \n",
       "427 <U+22EF> N              18                   6         Toy         \n",
       "428 <U+22EF> N              18                   6         Toy         \n",
       "436 <U+22EF> Y              14                  90         Terrier     \n",
       "458 <U+22EF> Y              20                  19         Non-Sporting\n",
       "460 <U+22EF> N              18                   6         Toy         \n",
       "467 <U+22EF> Y              16                  16         Non-Sporting\n",
       "471 <U+22EF> Y              15                  10         Toy         \n",
       "    Color              Weight Lab.Test           Outcome.Date Outcome.Type     \n",
       "7   Fawn & White       47.0   Heartworm Positive  1/26/12     Humane Euthanasia\n",
       "16  Tricolor           62.0   Heartworm Positive  1/17/12     Transfer         \n",
       "21  Blue               55.3   Heartworm Negative  1/31/12     Adoption         \n",
       "29  Red & Black        12.3   No Lab Test         2/6/12      Adoption         \n",
       "32  Br Brindle & White 15.5   No Lab Test         1/31/12     Adoption         \n",
       "38  Black & White      63.0   Heartworm Negative  2/10/12     Adoption         \n",
       "39  White & Tan         9.8   No Lab Test         2/9/12      Return to Owner  \n",
       "41  Brown              15.8   Heartworm Negative  2/13/12     Adoption         \n",
       "44  Tan                11.0   Heartworm Negative  2/13/12     Adoption         \n",
       "45  Black & White      54.0   Heartworm Negative  2/21/12     Adoption         \n",
       "46  White              53.5   Heartworm Negative  3/4/12      Transfer         \n",
       "50  Gray & Black       36.3   Heartworm Negative  2/20/12     Transfer         \n",
       "53  Brown              13.5   Heartworm Negative  2/22/12     Transfer         \n",
       "56  Buff               30.0   Heartworm Negative  2/25/12     Transfer         \n",
       "65  Black & White       6.5   Heartworm Negative  2/27/12     Transfer         \n",
       "68  White & Tan        23.5   No Lab Test         3/3/12      Adoption         \n",
       "69  Black & Tan        13.8   Heartworm Negative  3/4/12      Transfer         \n",
       "86  Red                23.8   No Lab Test         3/24/12     Adoption         \n",
       "88  Chocolate          62.3   Heartworm Negative  3/25/12     Transfer         \n",
       "93  BLUE MERLE         40.0   Heartworm Positive  4/1/12      Transfer         \n",
       "96  White              44.0   Heartworm Negative  4/11/12     Adoption         \n",
       "98  Red & White        73.0   Heartworm Negative  4/4/12      Return to Owner  \n",
       "99  Black & Tan        13.5   Heartworm Negative  4/15/12     Adoption         \n",
       "105 Cream               5.5   Heartworm Negative  4/13/12     Adoption         \n",
       "120 Blue Merle         56.0   Heartworm Negative  4/20/12     Humane Euthanasia\n",
       "145 Brown & Black      13.8   Heartworm Negative  5/5/12      Adoption         \n",
       "148 Black & Tan        19.0   Heartworm Negative  5/7/12      Adoption         \n",
       "149 Black & Tan        30.0   Heartworm Negative  5/9/12      Transfer         \n",
       "150 Black              20.0   No Lab Test         5/9/12      Transfer         \n",
       "152 Br Brindle & White 63.0   Heartworm Negative  5/28/12     Adoption         \n",
       "<U+22EE>   <U+22EE>           <U+22EE> <U+22EE>           <U+22EE>     <U+22EE>         \n",
       "309 White & Black       7.50  No Lab Test         8/24/12     Transfer         \n",
       "311 Tricolor           13.50  Heartworm Negative  12/7/12     Adoption         \n",
       "314 Black              44.00  No Lab Test         9/3/12      Adoption         \n",
       "317 Black & White      57.00  Heartworm Negative  9/8/12      Adoption         \n",
       "322 Tan & White         9.25  No Lab Test         9/3/12      Adoption         \n",
       "326 White & Br Brindle  8.25  No Lab Test         9/5/12      Transfer         \n",
       "327 Tan & White        36.00  No Lab Test         9/4/12      Adoption         \n",
       "330 Black & White      11.50  No Lab Test         9/8/12      Adoption         \n",
       "335 Br Brindle & White 13.75  No Lab Test         9/10/12     Transfer         \n",
       "341 Black              42.00  No Lab Test         9/16/12     Adoption         \n",
       "343 Tricolor           16.00  Heartworm Negative  9/18/12     Transfer         \n",
       "344 Chocolate & White  40.99  No Lab Test         9/15/12     Transfer         \n",
       "351 Yellow             60.50  Heartworm Negative  9/24/12     Adoption         \n",
       "353 Gray & Black       10.75  Heartworm Negative  9/23/12     Adoption         \n",
       "358 Tan & Black        38.25  Heartworm Negative  10/1/12     Adoption         \n",
       "370 White              12.75  Heartworm Negative  10/5/12     Adoption         \n",
       "388 Tan & Black        55.00  No Lab Test         10/22/12    Adoption         \n",
       "403 Red & White         7.00  Heartworm Negative  11/20/12    Transfer         \n",
       "414 Black & Brown      26.50  Heartworm Negative  11/19/12    Transfer         \n",
       "415 Brown               6.50  No Lab Test         11/15/12    Humane Euthanasia\n",
       "416 Tan                55.00  Heartworm Negative  11/25/12    Adoption         \n",
       "417 Black              48.00  Heartworm Negative  12/12/12    Transfer         \n",
       "422 Brown & White       5.00  No Lab Test         11/19/12    Transfer         \n",
       "427 Black & Tan        13.25  No Lab Test         11/22/12    Transfer         \n",
       "428 Brown               6.50  Heartworm Negative  2/24/13     Adoption         \n",
       "436 Fawn & White       63.00  Heartworm Positive  12/7/12     Humane Euthanasia\n",
       "458 Tan                29.00  Heartworm Negative  12/26/12    Transfer         \n",
       "460 Tan                 8.75  Heartworm Negative  12/23/12    Transfer         \n",
       "467 White & Black       5.75  No Lab Test         12/24/12    Transfer         \n",
       "471 Brown              10.50  No Lab Test         12/29/12    Humane Euthanasia\n",
       "    Days.Shelter\n",
       "7   25          \n",
       "16   2          \n",
       "21  16          \n",
       "29  15          \n",
       "32   2          \n",
       "38   5          \n",
       "39   4          \n",
       "41   8          \n",
       "44   8          \n",
       "45  16          \n",
       "46  28          \n",
       "50   8          \n",
       "53   3          \n",
       "56   6          \n",
       "65   1          \n",
       "68   6          \n",
       "69   0          \n",
       "86   6          \n",
       "88   7          \n",
       "93   7          \n",
       "96  17          \n",
       "98   3          \n",
       "99  14          \n",
       "105  5          \n",
       "120  5          \n",
       "145  6          \n",
       "148  8          \n",
       "149 10          \n",
       "150 10          \n",
       "152 22          \n",
       "<U+22EE>   <U+22EE>    \n",
       "309   5         \n",
       "311 110         \n",
       "314   8         \n",
       "317  13         \n",
       "322   8         \n",
       "326   3         \n",
       "327   2         \n",
       "330   6         \n",
       "335   1         \n",
       "341   7         \n",
       "343   9         \n",
       "344   6         \n",
       "351   8         \n",
       "353   7         \n",
       "358   8         \n",
       "370   5         \n",
       "388   8         \n",
       "403  23         \n",
       "414   8         \n",
       "415   4         \n",
       "416  14         \n",
       "417  31         \n",
       "422   1         \n",
       "427   4         \n",
       "428  91         \n",
       "436   5         \n",
       "458  10         \n",
       "460   7         \n",
       "467   1         \n",
       "471   6         "
      ]
     },
     "metadata": {},
     "output_type": "display_data"
    }
   ],
   "source": [
    "Dogsownsur <- Dogs[Dogs$Intake.Type == \"Owner Surrender\",]\n",
    "Dogsownsur"
   ]
  },
  {
   "cell_type": "code",
   "execution_count": 35,
   "metadata": {},
   "outputs": [
    {
     "data": {
      "text/html": [
       "<table>\n",
       "<caption>A data.frame: 2 × 24</caption>\n",
       "<thead>\n",
       "\t<tr><th></th><th scope=col>Impound.No</th><th scope=col>Intake.Date</th><th scope=col>Intake.Type</th><th scope=col>Animal.Type</th><th scope=col>Neutered.Status</th><th scope=col>Sex</th><th scope=col>Age.Intake</th><th scope=col>Condition</th><th scope=col>Breed</th><th scope=col>Aggressive</th><th scope=col>⋯</th><th scope=col>Good.with.Kids</th><th scope=col>Max.Life.Expectancy</th><th scope=col>Max.Weight</th><th scope=col>Dog.Group</th><th scope=col>Color</th><th scope=col>Weight</th><th scope=col>Lab.Test</th><th scope=col>Outcome.Date</th><th scope=col>Outcome.Type</th><th scope=col>Days.Shelter</th></tr>\n",
       "\t<tr><th></th><th scope=col>&lt;fct&gt;</th><th scope=col>&lt;fct&gt;</th><th scope=col>&lt;fct&gt;</th><th scope=col>&lt;fct&gt;</th><th scope=col>&lt;fct&gt;</th><th scope=col>&lt;fct&gt;</th><th scope=col>&lt;int&gt;</th><th scope=col>&lt;fct&gt;</th><th scope=col>&lt;fct&gt;</th><th scope=col>&lt;fct&gt;</th><th scope=col>⋯</th><th scope=col>&lt;fct&gt;</th><th scope=col>&lt;int&gt;</th><th scope=col>&lt;int&gt;</th><th scope=col>&lt;fct&gt;</th><th scope=col>&lt;fct&gt;</th><th scope=col>&lt;dbl&gt;</th><th scope=col>&lt;fct&gt;</th><th scope=col>&lt;fct&gt;</th><th scope=col>&lt;fct&gt;</th><th scope=col>&lt;int&gt;</th></tr>\n",
       "</thead>\n",
       "<tbody>\n",
       "\t<tr><th scope=row>39</th><td>K12-001692</td><td>2/5/12</td><td>Owner Surrender</td><td>Dog</td><td>Neutered</td><td>Male</td><td>1</td><td>Injured or Sick</td><td>Chihuahua Sh Mix</td><td>N</td><td>⋯</td><td>N</td><td>18</td><td> 6</td><td><span style=white-space:pre-wrap>Toy    </span></td><td>White &amp; Tan</td><td> 9.8</td><td><span style=white-space:pre-wrap>No Lab Test       </span></td><td> 2/9/12</td><td>Return to Owner</td><td>4</td></tr>\n",
       "\t<tr><th scope=row>98</th><td>K12-004511</td><td>4/1/12</td><td>Owner Surrender</td><td>Dog</td><td>Neutered</td><td>Male</td><td>5</td><td><span style=white-space:pre-wrap>Normal         </span></td><td><span style=white-space:pre-wrap>Pit Bull Mix    </span></td><td>N</td><td>⋯</td><td>Y</td><td>14</td><td>90</td><td>Terrier</td><td>Red &amp; White</td><td>73.0</td><td>Heartworm Negative</td><td> 4/4/12</td><td>Return to Owner</td><td>3</td></tr>\n",
       "</tbody>\n",
       "</table>\n"
      ],
      "text/latex": [
       "A data.frame: 2 × 24\n",
       "\\begin{tabular}{r|lllllllllllllllllllll}\n",
       "  & Impound.No & Intake.Date & Intake.Type & Animal.Type & Neutered.Status & Sex & Age.Intake & Condition & Breed & Aggressive & ⋯ & Good.with.Kids & Max.Life.Expectancy & Max.Weight & Dog.Group & Color & Weight & Lab.Test & Outcome.Date & Outcome.Type & Days.Shelter\\\\\n",
       "  & <fct> & <fct> & <fct> & <fct> & <fct> & <fct> & <int> & <fct> & <fct> & <fct> & ⋯ & <fct> & <int> & <int> & <fct> & <fct> & <dbl> & <fct> & <fct> & <fct> & <int>\\\\\n",
       "\\hline\n",
       "\t39 & K12-001692 & 2/5/12 & Owner Surrender & Dog & Neutered & Male & 1 & Injured or Sick & Chihuahua Sh Mix & N & ⋯ & N & 18 &  6 & Toy     & White \\& Tan &  9.8 & No Lab Test        &  2/9/12 & Return to Owner & 4\\\\\n",
       "\t98 & K12-004511 & 4/1/12 & Owner Surrender & Dog & Neutered & Male & 5 & Normal          & Pit Bull Mix     & N & ⋯ & Y & 14 & 90 & Terrier & Red \\& White & 73.0 & Heartworm Negative &  4/4/12 & Return to Owner & 3\\\\\n",
       "\\end{tabular}\n"
      ],
      "text/markdown": [
       "\n",
       "A data.frame: 2 × 24\n",
       "\n",
       "| <!--/--> | Impound.No &lt;fct&gt; | Intake.Date &lt;fct&gt; | Intake.Type &lt;fct&gt; | Animal.Type &lt;fct&gt; | Neutered.Status &lt;fct&gt; | Sex &lt;fct&gt; | Age.Intake &lt;int&gt; | Condition &lt;fct&gt; | Breed &lt;fct&gt; | Aggressive &lt;fct&gt; | ⋯ ⋯ | Good.with.Kids &lt;fct&gt; | Max.Life.Expectancy &lt;int&gt; | Max.Weight &lt;int&gt; | Dog.Group &lt;fct&gt; | Color &lt;fct&gt; | Weight &lt;dbl&gt; | Lab.Test &lt;fct&gt; | Outcome.Date &lt;fct&gt; | Outcome.Type &lt;fct&gt; | Days.Shelter &lt;int&gt; |\n",
       "|---|---|---|---|---|---|---|---|---|---|---|---|---|---|---|---|---|---|---|---|---|---|\n",
       "| 39 | K12-001692 | 2/5/12 | Owner Surrender | Dog | Neutered | Male | 1 | Injured or Sick | Chihuahua Sh Mix | N | ⋯ | N | 18 |  6 | Toy     | White &amp; Tan |  9.8 | No Lab Test        |  2/9/12 | Return to Owner | 4 |\n",
       "| 98 | K12-004511 | 4/1/12 | Owner Surrender | Dog | Neutered | Male | 5 | Normal          | Pit Bull Mix     | N | ⋯ | Y | 14 | 90 | Terrier | Red &amp; White | 73.0 | Heartworm Negative |  4/4/12 | Return to Owner | 3 |\n",
       "\n"
      ],
      "text/plain": [
       "   Impound.No Intake.Date Intake.Type     Animal.Type Neutered.Status Sex \n",
       "39 K12-001692 2/5/12      Owner Surrender Dog         Neutered        Male\n",
       "98 K12-004511 4/1/12      Owner Surrender Dog         Neutered        Male\n",
       "   Age.Intake Condition       Breed            Aggressive <U+22EF>       \n",
       "39 1          Injured or Sick Chihuahua Sh Mix N          <U+22EF>\n",
       "98 5          Normal          Pit Bull Mix     N          <U+22EF>\n",
       "   Good.with.Kids Max.Life.Expectancy Max.Weight Dog.Group Color       Weight\n",
       "39 N              18                   6         Toy       White & Tan  9.8  \n",
       "98 Y              14                  90         Terrier   Red & White 73.0  \n",
       "   Lab.Test           Outcome.Date Outcome.Type    Days.Shelter\n",
       "39 No Lab Test         2/9/12      Return to Owner 4           \n",
       "98 Heartworm Negative  4/4/12      Return to Owner 3           "
      ]
     },
     "metadata": {},
     "output_type": "display_data"
    }
   ],
   "source": [
    "DogownsurReturn <- Dogsownsur[Dogsownsur$Outcome.Type == \"Return to Owner\",]\n",
    "DogownsurReturn"
   ]
  },
  {
   "cell_type": "code",
   "execution_count": 36,
   "metadata": {},
   "outputs": [
    {
     "data": {
      "text/html": [
       "3.5"
      ],
      "text/latex": [
       "3.5"
      ],
      "text/markdown": [
       "3.5"
      ],
      "text/plain": [
       "[1] 3.5"
      ]
     },
     "metadata": {},
     "output_type": "display_data"
    }
   ],
   "source": [
    "mean(DogownsurReturn$Days.Shelter)"
   ]
  },
  {
   "cell_type": "markdown",
   "metadata": {},
   "source": [
    "**What would be the correct graph type to show the distribution of dog intake types?**"
   ]
  },
  {
   "cell_type": "code",
   "execution_count": 37,
   "metadata": {},
   "outputs": [
    {
     "data": {
      "text/html": [
       "<style>\n",
       ".dl-inline {width: auto; margin:0; padding: 0}\n",
       ".dl-inline>dt, .dl-inline>dd {float: none; width: auto; display: inline-block}\n",
       ".dl-inline>dt::after {content: \":\\0020\"; padding-right: .5ex}\n",
       ".dl-inline>dt:not(:first-of-type) {padding-left: .5ex}\n",
       "</style><dl class=dl-inline><dt>Euthanasia Request</dt><dd>1</dd><dt>Owner Surrender</dt><dd>81</dd><dt>Public Assist</dt><dd>20</dd><dt>Stray</dt><dd>189</dd></dl>\n"
      ],
      "text/latex": [
       "\\begin{description*}\n",
       "\\item[Euthanasia Request] 1\n",
       "\\item[Owner Surrender] 81\n",
       "\\item[Public Assist] 20\n",
       "\\item[Stray] 189\n",
       "\\end{description*}\n"
      ],
      "text/markdown": [
       "Euthanasia Request\n",
       ":   1Owner Surrender\n",
       ":   81Public Assist\n",
       ":   20Stray\n",
       ":   189\n",
       "\n"
      ],
      "text/plain": [
       "Euthanasia Request    Owner Surrender      Public Assist              Stray \n",
       "                 1                 81                 20                189 "
      ]
     },
     "metadata": {},
     "output_type": "display_data"
    }
   ],
   "source": [
    "summary(Dogs$Intake.Type)"
   ]
  },
  {
   "cell_type": "markdown",
   "metadata": {},
   "source": [
    "Bar graph"
   ]
  }
 ],
 "metadata": {
  "kernelspec": {
   "display_name": "R",
   "language": "R",
   "name": "ir"
  },
  "language_info": {
   "codemirror_mode": "r",
   "file_extension": ".r",
   "mimetype": "text/x-r-source",
   "name": "R",
   "pygments_lexer": "r",
   "version": "3.6.3"
  }
 },
 "nbformat": 4,
 "nbformat_minor": 4
}
