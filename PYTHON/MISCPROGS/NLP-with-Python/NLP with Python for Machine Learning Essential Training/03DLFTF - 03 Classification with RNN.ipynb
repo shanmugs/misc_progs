{
 "cells": [
  {
   "cell_type": "markdown",
   "metadata": {
    "id": "lTguFckTEDWd"
   },
   "source": [
    "# Implementing LSTMs using TensorFlow\n",
    "\n",
    "This notebook walks you through the implementation of an Long Short-Term Memory (LSTM) model to classify news headlines as sarcastic or not_sarcastic. We will analyse the accuracy & loss curves for training and validation sets."
   ]
  },
  {
   "cell_type": "code",
   "execution_count": 2,
   "metadata": {
    "id": "9mW3Mt2q5kL2"
   },
   "outputs": [
    {
     "name": "stdout",
     "output_type": "stream",
     "text": [
      "2.13.1\n"
     ]
    }
   ],
   "source": [
    "##import the required libraries and APIs\n",
    "import numpy as np\n",
    "import tensorflow as tf\n",
    "import tensorflow_datasets as tfds\n",
    "from tensorflow.keras.preprocessing.text import Tokenizer\n",
    "from tensorflow.keras.preprocessing.sequence import pad_sequences\n",
    "\n",
    "print(tf.__version__)"
   ]
  },
  {
   "cell_type": "markdown",
   "metadata": {
    "id": "2rhw0j_s5UZ2"
   },
   "source": [
    "#### Downloading the Headlines data\n"
   ]
  },
  {
   "cell_type": "code",
   "execution_count": 4,
   "metadata": {
    "id": "XlPflpsyyp5a"
   },
   "outputs": [
    {
     "data": {
      "text/html": [
       "<div>\n",
       "<style scoped>\n",
       "    .dataframe tbody tr th:only-of-type {\n",
       "        vertical-align: middle;\n",
       "    }\n",
       "\n",
       "    .dataframe tbody tr th {\n",
       "        vertical-align: top;\n",
       "    }\n",
       "\n",
       "    .dataframe thead th {\n",
       "        text-align: right;\n",
       "    }\n",
       "</style>\n",
       "<table border=\"1\" class=\"dataframe\">\n",
       "  <thead>\n",
       "    <tr style=\"text-align: right;\">\n",
       "      <th></th>\n",
       "      <th>article_link</th>\n",
       "      <th>headline</th>\n",
       "      <th>is_sarcastic</th>\n",
       "    </tr>\n",
       "  </thead>\n",
       "  <tbody>\n",
       "    <tr>\n",
       "      <th>0</th>\n",
       "      <td>https://www.huffingtonpost.com/entry/versace-b...</td>\n",
       "      <td>former versace store clerk sues over secret 'b...</td>\n",
       "      <td>0</td>\n",
       "    </tr>\n",
       "    <tr>\n",
       "      <th>1</th>\n",
       "      <td>https://www.huffingtonpost.com/entry/roseanne-...</td>\n",
       "      <td>the 'roseanne' revival catches up to our thorn...</td>\n",
       "      <td>0</td>\n",
       "    </tr>\n",
       "    <tr>\n",
       "      <th>2</th>\n",
       "      <td>https://local.theonion.com/mom-starting-to-fea...</td>\n",
       "      <td>mom starting to fear son's web series closest ...</td>\n",
       "      <td>1</td>\n",
       "    </tr>\n",
       "    <tr>\n",
       "      <th>3</th>\n",
       "      <td>https://politics.theonion.com/boehner-just-wan...</td>\n",
       "      <td>boehner just wants wife to listen, not come up...</td>\n",
       "      <td>1</td>\n",
       "    </tr>\n",
       "    <tr>\n",
       "      <th>4</th>\n",
       "      <td>https://www.huffingtonpost.com/entry/jk-rowlin...</td>\n",
       "      <td>j.k. rowling wishes snape happy birthday in th...</td>\n",
       "      <td>0</td>\n",
       "    </tr>\n",
       "  </tbody>\n",
       "</table>\n",
       "</div>"
      ],
      "text/plain": [
       "                                        article_link  \\\n",
       "0  https://www.huffingtonpost.com/entry/versace-b...   \n",
       "1  https://www.huffingtonpost.com/entry/roseanne-...   \n",
       "2  https://local.theonion.com/mom-starting-to-fea...   \n",
       "3  https://politics.theonion.com/boehner-just-wan...   \n",
       "4  https://www.huffingtonpost.com/entry/jk-rowlin...   \n",
       "\n",
       "                                            headline  is_sarcastic  \n",
       "0  former versace store clerk sues over secret 'b...             0  \n",
       "1  the 'roseanne' revival catches up to our thorn...             0  \n",
       "2  mom starting to fear son's web series closest ...             1  \n",
       "3  boehner just wants wife to listen, not come up...             1  \n",
       "4  j.k. rowling wishes snape happy birthday in th...             0  "
      ]
     },
     "execution_count": 4,
     "metadata": {},
     "output_type": "execute_result"
    }
   ],
   "source": [
    "import pandas as pd\n",
    "\n",
    "# Download Kaggle Dataset\n",
    "data = pd.read_json('data/Sarcasm_Headlines_Dataset.json', lines=True)\n",
    "\n",
    "data.head()"
   ]
  },
  {
   "cell_type": "code",
   "execution_count": 5,
   "metadata": {
    "id": "2Q5KWU5sarBZ"
   },
   "outputs": [
    {
     "data": {
      "text/plain": [
       "[\"former versace store clerk sues over secret 'black code' for minority shoppers\",\n",
       " \"the 'roseanne' revival catches up to our thorny political mood, for better and worse\",\n",
       " \"mom starting to fear son's web series closest thing she will have to grandchild\",\n",
       " 'boehner just wants wife to listen, not come up with alternative debt-reduction ideas',\n",
       " 'j.k. rowling wishes snape happy birthday in the most magical way']"
      ]
     },
     "execution_count": 5,
     "metadata": {},
     "output_type": "execute_result"
    }
   ],
   "source": [
    "##create arrays to store the headlines and labels\n",
    "headlines = list(data['headline'])\n",
    "labels = list(data['is_sarcastic'])\n",
    "\n",
    "headlines[:5]  # First 5 lines"
   ]
  },
  {
   "cell_type": "markdown",
   "metadata": {
    "id": "IurKHrnzrUEk"
   },
   "source": [
    "#### Data Preparation"
   ]
  },
  {
   "cell_type": "code",
   "execution_count": 7,
   "metadata": {
    "id": "SaOVx5_QWZJw"
   },
   "outputs": [],
   "source": [
    "## Define parameters for tokenizing and padding\n",
    "vocab_size = 10000            # Maximum number of words in the vocabulary\n",
    "max_length = 150              # Maximum length of sequences (padding/truncation)\n",
    "embedding_dim = 32            # Dimensionality of the embedding vector\n",
    "trunc_type = 'post'           # Specify truncation type for sequences longer than max_length (options: 'pre', 'post')\n",
    "padding_type = 'post'         # Specify padding type for sequences shorter than max_length (options: 'pre', 'post')\n",
    "oov_tok = \"<OOV>\"             # Out-of-vocabulary token to handle unknown words\n",
    "training_size = 20000         # Size of the training data (index)"
   ]
  },
  {
   "cell_type": "code",
   "execution_count": 8,
   "metadata": {
    "id": "iPCBLuAYWg-m"
   },
   "outputs": [],
   "source": [
    "##training set from 0 to training size\n",
    "training_sentences = headlines[0:training_size]\n",
    "training_labels = labels[0:training_size]\n",
    "\n",
    "##testing set from training size to the end\n",
    "testing_sentences = headlines[training_size:]\n",
    "testing_labels = labels[training_size:]"
   ]
  },
  {
   "cell_type": "code",
   "execution_count": 9,
   "metadata": {
    "id": "N4k_tDKJYSCL"
   },
   "outputs": [],
   "source": [
    "##train the tokenizer on training data\n",
    "tokenizer = Tokenizer(num_words=vocab_size, oov_token=oov_tok)\n",
    "tokenizer.fit_on_texts(training_sentences)\n",
    "\n",
    "word_index = tokenizer.word_index\n",
    "\n",
    "##create training sequences\n",
    "training_sequences = tokenizer.texts_to_sequences(training_sentences)\n",
    "training_padded = pad_sequences(training_sequences, maxlen=max_length, padding=padding_type, truncating=trunc_type)\n",
    "\n",
    "##create test sequences\n",
    "testing_sequences = tokenizer.texts_to_sequences(testing_sentences)\n",
    "testing_padded = pad_sequences(testing_sequences, maxlen=max_length, padding=padding_type, truncating=trunc_type)"
   ]
  },
  {
   "cell_type": "code",
   "execution_count": 10,
   "metadata": {
    "id": "hFZGH6WXeZAZ"
   },
   "outputs": [],
   "source": [
    "# Need this block to get it to work with TensorFlow 2.x\n",
    "import numpy as np\n",
    "training_padded = np.array(training_padded)\n",
    "training_labels = np.array(training_labels)\n",
    "testing_padded = np.array(testing_padded)\n",
    "testing_labels = np.array(testing_labels)"
   ]
  },
  {
   "cell_type": "markdown",
   "metadata": {
    "id": "ZpBlIwAz7InY"
   },
   "source": [
    "## Define the LSTM model with the following layers:\n",
    "1. Embedding layer\n",
    "2. Add two bidirectional LSTM layers with 64 and 32 as number of outputs.\n",
    "3. Dense layer with 24 nodes\n",
    "4. Output Dense layer with `sigmoid` activation "
   ]
  },
  {
   "cell_type": "code",
   "execution_count": 12,
   "metadata": {
    "id": "JdDjMIDFebsD"
   },
   "outputs": [],
   "source": [
    "## Define the model architecture\n",
    "model = tf.keras.Sequential([\n",
    "    tf.keras.layers.Embedding(vocab_size, embedding_dim, input_length=max_length),  # Embedding layer to convert words to vectors\n",
    "    tf.keras.layers.Bidirectional(tf.keras.layers.LSTM(64, return_sequences=True)), # Bidirectional LSTM with 64 units (True for stacking LSTM layers)\n",
    "    tf.keras.layers.Bidirectional(tf.keras.layers.LSTM(32)),                        # Another Bidirectional LSTM with 32 units\n",
    "    tf.keras.layers.Dense(24, activation='relu'),             # Dense layer with 24 units and ReLU activation\n",
    "    tf.keras.layers.Dense(1, activation='sigmoid')            # Output layer with 1 unit and sigmoid activation for binary classification\n",
    "])\n",
    "\n",
    "## Compile the model with loss function, optimizer, and metrics\n",
    "model.compile(loss='binary_crossentropy',  # Loss function for binary classification\n",
    "              optimizer='adam',            # Adam optimizer\n",
    "              metrics=['accuracy'])        # Metrics to evaluate the model performance"
   ]
  },
  {
   "cell_type": "code",
   "execution_count": 13,
   "metadata": {
    "id": "si5PeFv4ed5J"
   },
   "outputs": [
    {
     "name": "stdout",
     "output_type": "stream",
     "text": [
      "Model: \"sequential\"\n",
      "_________________________________________________________________\n",
      " Layer (type)                Output Shape              Param #   \n",
      "=================================================================\n",
      " embedding (Embedding)       (None, 150, 32)           320000    \n",
      "                                                                 \n",
      " bidirectional (Bidirection  (None, 150, 128)          49664     \n",
      " al)                                                             \n",
      "                                                                 \n",
      " bidirectional_1 (Bidirecti  (None, 64)                41216     \n",
      " onal)                                                           \n",
      "                                                                 \n",
      " dense (Dense)               (None, 24)                1560      \n",
      "                                                                 \n",
      " dense_1 (Dense)             (None, 1)                 25        \n",
      "                                                                 \n",
      "=================================================================\n",
      "Total params: 412465 (1.57 MB)\n",
      "Trainable params: 412465 (1.57 MB)\n",
      "Non-trainable params: 0 (0.00 Byte)\n",
      "_________________________________________________________________\n"
     ]
    }
   ],
   "source": [
    "model.summary()"
   ]
  },
  {
   "cell_type": "code",
   "execution_count": 14,
   "metadata": {
    "id": "uuejoPk0efeb"
   },
   "outputs": [
    {
     "name": "stdout",
     "output_type": "stream",
     "text": [
      "Epoch 1/30\n",
      "625/625 - 124s - loss: 0.4053 - accuracy: 0.8045 - val_loss: 0.3324 - val_accuracy: 0.8545 - 124s/epoch - 199ms/step\n",
      "Epoch 2/30\n",
      "625/625 - 110s - loss: 0.2109 - accuracy: 0.9136 - val_loss: 0.3449 - val_accuracy: 0.8536 - 110s/epoch - 176ms/step\n",
      "Epoch 3/30\n",
      "625/625 - 113s - loss: 0.1224 - accuracy: 0.9546 - val_loss: 0.4265 - val_accuracy: 0.8498 - 113s/epoch - 181ms/step\n",
      "Epoch 4/30\n",
      "625/625 - 126s - loss: 0.0700 - accuracy: 0.9765 - val_loss: 0.5083 - val_accuracy: 0.8436 - 126s/epoch - 201ms/step\n",
      "Epoch 5/30\n",
      "625/625 - 133s - loss: 0.0443 - accuracy: 0.9850 - val_loss: 0.6526 - val_accuracy: 0.8420 - 133s/epoch - 212ms/step\n",
      "Epoch 6/30\n",
      "625/625 - 130s - loss: 0.0298 - accuracy: 0.9902 - val_loss: 0.7151 - val_accuracy: 0.8405 - 130s/epoch - 208ms/step\n",
      "Epoch 7/30\n",
      "625/625 - 127s - loss: 0.0183 - accuracy: 0.9945 - val_loss: 0.7994 - val_accuracy: 0.8392 - 127s/epoch - 203ms/step\n",
      "Epoch 8/30\n",
      "625/625 - 124s - loss: 0.0157 - accuracy: 0.9952 - val_loss: 0.9056 - val_accuracy: 0.8360 - 124s/epoch - 199ms/step\n",
      "Epoch 9/30\n",
      "625/625 - 130s - loss: 0.0097 - accuracy: 0.9969 - val_loss: 1.0097 - val_accuracy: 0.8316 - 130s/epoch - 208ms/step\n",
      "Epoch 10/30\n",
      "625/625 - 130s - loss: 0.0139 - accuracy: 0.9948 - val_loss: 0.9700 - val_accuracy: 0.8362 - 130s/epoch - 208ms/step\n",
      "Epoch 11/30\n",
      "625/625 - 128s - loss: 0.0091 - accuracy: 0.9972 - val_loss: 1.0258 - val_accuracy: 0.8369 - 128s/epoch - 205ms/step\n",
      "Epoch 12/30\n",
      "625/625 - 129s - loss: 0.0082 - accuracy: 0.9973 - val_loss: 1.0419 - val_accuracy: 0.8262 - 129s/epoch - 207ms/step\n",
      "Epoch 13/30\n",
      "625/625 - 132s - loss: 0.0063 - accuracy: 0.9980 - val_loss: 1.1263 - val_accuracy: 0.8278 - 132s/epoch - 211ms/step\n",
      "Epoch 14/30\n",
      "625/625 - 130s - loss: 0.0072 - accuracy: 0.9973 - val_loss: 1.1108 - val_accuracy: 0.8310 - 130s/epoch - 208ms/step\n",
      "Epoch 15/30\n",
      "625/625 - 133s - loss: 0.0056 - accuracy: 0.9981 - val_loss: 1.1712 - val_accuracy: 0.8331 - 133s/epoch - 213ms/step\n",
      "Epoch 16/30\n",
      "625/625 - 131s - loss: 0.0030 - accuracy: 0.9990 - val_loss: 1.2968 - val_accuracy: 0.8264 - 131s/epoch - 209ms/step\n",
      "Epoch 17/30\n",
      "625/625 - 152s - loss: 0.0020 - accuracy: 0.9993 - val_loss: 1.3358 - val_accuracy: 0.8229 - 152s/epoch - 243ms/step\n",
      "Epoch 18/30\n",
      "625/625 - 191s - loss: 0.0034 - accuracy: 0.9987 - val_loss: 1.3486 - val_accuracy: 0.8237 - 191s/epoch - 306ms/step\n",
      "Epoch 19/30\n",
      "625/625 - 199s - loss: 0.0078 - accuracy: 0.9973 - val_loss: 1.0864 - val_accuracy: 0.8290 - 199s/epoch - 318ms/step\n",
      "Epoch 20/30\n",
      "625/625 - 204s - loss: 0.0035 - accuracy: 0.9985 - val_loss: 1.2450 - val_accuracy: 0.8302 - 204s/epoch - 326ms/step\n",
      "Epoch 21/30\n",
      "625/625 - 208s - loss: 0.0017 - accuracy: 0.9994 - val_loss: 1.2966 - val_accuracy: 0.8307 - 208s/epoch - 333ms/step\n",
      "Epoch 22/30\n",
      "625/625 - 209s - loss: 0.0014 - accuracy: 0.9996 - val_loss: 1.3805 - val_accuracy: 0.8250 - 209s/epoch - 334ms/step\n",
      "Epoch 23/30\n",
      "625/625 - 144s - loss: 0.0020 - accuracy: 0.9993 - val_loss: 1.4497 - val_accuracy: 0.8195 - 144s/epoch - 231ms/step\n",
      "Epoch 24/30\n",
      "625/625 - 131s - loss: 0.0061 - accuracy: 0.9981 - val_loss: 1.0831 - val_accuracy: 0.8301 - 131s/epoch - 209ms/step\n",
      "Epoch 25/30\n",
      "625/625 - 141s - loss: 0.0039 - accuracy: 0.9988 - val_loss: 1.2757 - val_accuracy: 0.8275 - 141s/epoch - 226ms/step\n",
      "Epoch 26/30\n",
      "625/625 - 113s - loss: 0.0032 - accuracy: 0.9987 - val_loss: 1.4439 - val_accuracy: 0.8228 - 113s/epoch - 181ms/step\n",
      "Epoch 27/30\n",
      "625/625 - 84s - loss: 0.0024 - accuracy: 0.9991 - val_loss: 1.4095 - val_accuracy: 0.8241 - 84s/epoch - 134ms/step\n",
      "Epoch 28/30\n",
      "625/625 - 110s - loss: 0.0023 - accuracy: 0.9991 - val_loss: 1.1763 - val_accuracy: 0.8277 - 110s/epoch - 176ms/step\n",
      "Epoch 29/30\n",
      "625/625 - 101s - loss: 0.0014 - accuracy: 0.9994 - val_loss: 1.4548 - val_accuracy: 0.8223 - 101s/epoch - 162ms/step\n",
      "Epoch 30/30\n",
      "625/625 - 114s - loss: 9.5242e-04 - accuracy: 0.9997 - val_loss: 1.4140 - val_accuracy: 0.8250 - 114s/epoch - 182ms/step\n"
     ]
    }
   ],
   "source": [
    "## Train the model\n",
    "num_epochs = 30             # Number of epochs to train the model\n",
    "\n",
    "history = model.fit(\n",
    "    training_padded,                                   # Training data (padded sequences)\n",
    "    training_labels,                                   # Training labels\n",
    "    epochs=num_epochs,                                 # Number of epochs to train\n",
    "    validation_data=(testing_padded, testing_labels),  # Validation data and labels\n",
    "    verbose=2                                          # Verbosity mode (2 for detailed output)\n",
    "    )"
   ]
  },
  {
   "cell_type": "markdown",
   "metadata": {},
   "source": [
    "So we are done training and if you see we have a training accuracy of close to 100% and the validation accuracy if you see, it's close to 83% or 84%. Now let's quickly visualize the accuracy and the loss for training and validation. "
   ]
  },
  {
   "cell_type": "markdown",
   "metadata": {
    "id": "WCutYyaNu5fb"
   },
   "source": [
    "## Visualize accuracy and loss"
   ]
  },
  {
   "cell_type": "code",
   "execution_count": 17,
   "metadata": {
    "id": "iMQAQr-uehOD"
   },
   "outputs": [
    {
     "data": {
      "image/png": "[encoded data removed]",
      "text/plain": [
       "<Figure size 640x480 with 1 Axes>"
      ]
     },
     "metadata": {},
     "output_type": "display_data"
    },
    {
     "data": {
      "image/png": "[encoded data removed]",
      "text/plain": [
       "<Figure size 640x480 with 1 Axes>"
      ]
     },
     "metadata": {},
     "output_type": "display_data"
    }
   ],
   "source": [
    "import matplotlib.pyplot as plt\n",
    "\n",
    "\n",
    "def plot_metrics(history, metric):\n",
    "  plt.plot(history.history[metric])\n",
    "  plt.plot(history.history['val_'+metric])\n",
    "  plt.xlabel(\"Epochs\")\n",
    "  plt.ylabel(metric)\n",
    "  plt.legend([metric, 'val_'+metric])\n",
    "  plt.show()\n",
    "  \n",
    "plot_metrics(history, \"accuracy\")\n",
    "plot_metrics(history, \"loss\")"
   ]
  },
  {
   "cell_type": "markdown",
   "metadata": {},
   "source": [
    "So here, if you see the accuracy curve, the training accuracy, the blue line is touching one whereas the orange line, the validation accuracy. So there's quite a bit of gap between the two which basically indicates that there's a bit of overfitting in this model."
   ]
  },
  {
   "cell_type": "markdown",
   "metadata": {
    "id": "T3F5o1imvDwj"
   },
   "source": [
    "## Classifying unseen headlines"
   ]
  },
  {
   "cell_type": "code",
   "execution_count": 20,
   "metadata": {
    "id": "2cVc8w-tejyj"
   },
   "outputs": [
    {
     "name": "stdout",
     "output_type": "stream",
     "text": [
      "1/1 [==============================] - 2s 2s/step\n",
      "[[5.8621602e-08]\n",
      " [9.4238925e-04]]\n"
     ]
    }
   ],
   "source": [
    "sentence = [\"the girl starting to fear snakes in the garden might be real\", \"game of thrones season finale showing this sunday night\"]\n",
    "sequences = tokenizer.texts_to_sequences(sentence)\n",
    "padded = pad_sequences(sequences, maxlen=max_length, padding=padding_type, truncating=trunc_type)\n",
    "print(model.predict(padded))"
   ]
  },
  {
   "cell_type": "markdown",
   "metadata": {
    "id": "CwT0yxfRgZY_"
   },
   "source": [
    "So we have defined two sentences. \"The girl starting the first snakes \"in the garden might be real,\" and \"Game of Thrones season finale showing this Sunday night.\" So if you see, we have both of them close to zero so that there's both of the sentences have been marked or classified as *not sarcastic*. Whereas the first one seems to be kind of sarcastic. So, that was how you can use bi-directional LSTM to a model to classify a news headlines."
   ]
  },
  {
   "cell_type": "markdown",
   "metadata": {},
   "source": [
    "# Improving the performance of the Text Classifier with CNN\n",
    "This notebook covers tries to explore the CNN model by replacing the LSTM model implemented in the previous video. We'll compare the accuracy and loss for a CNN model on the same headlines data."
   ]
  },
  {
   "cell_type": "markdown",
   "metadata": {},
   "source": [
    "#### Segregating the headlines"
   ]
  },
  {
   "cell_type": "code",
   "execution_count": 24,
   "metadata": {},
   "outputs": [
    {
     "data": {
      "text/plain": [
       "[\"former versace store clerk sues over secret 'black code' for minority shoppers\",\n",
       " \"the 'roseanne' revival catches up to our thorny political mood, for better and worse\",\n",
       " \"mom starting to fear son's web series closest thing she will have to grandchild\",\n",
       " 'boehner just wants wife to listen, not come up with alternative debt-reduction ideas',\n",
       " 'j.k. rowling wishes snape happy birthday in the most magical way']"
      ]
     },
     "execution_count": 24,
     "metadata": {},
     "output_type": "execute_result"
    }
   ],
   "source": [
    "##create arrays to store the headlines and labels\n",
    "headlines = list(data['headline'])\n",
    "labels = list(data['is_sarcastic'])\n",
    "\n",
    "headlines[:5]  # First 5 lines"
   ]
  },
  {
   "cell_type": "code",
   "execution_count": 25,
   "metadata": {},
   "outputs": [],
   "source": [
    "## Define parameters for tokenizing and padding\n",
    "vocab_size = 10000            # Maximum number of words in the vocabulary\n",
    "max_length = 100              # Maximum length of sequences (padding/truncation)\n",
    "embedding_dim = 64            # Dimensionality of the embedding vector\n",
    "trunc_type = 'post'           # Specify truncation type for sequences longer than max_length (options: 'pre', 'post')\n",
    "padding_type = 'post'         # Specify padding type for sequences shorter than max_length (options: 'pre', 'post')\n",
    "oov_tok = \"<OOV>\"             # Out-of-vocabulary token to handle unknown words\n",
    "training_size = 20000         # Size of the training data (index)"
   ]
  },
  {
   "cell_type": "code",
   "execution_count": 26,
   "metadata": {},
   "outputs": [],
   "source": [
    "##training set from 0 to training size\n",
    "training_sentences = headlines[0:training_size]\n",
    "training_labels = labels[0:training_size]\n",
    "\n",
    "##testing set from training size to the end\n",
    "testing_sentences = headlines[training_size:]\n",
    "testing_labels = labels[training_size:]"
   ]
  },
  {
   "cell_type": "markdown",
   "metadata": {},
   "source": [
    "#### Tokenize the data"
   ]
  },
  {
   "cell_type": "code",
   "execution_count": 28,
   "metadata": {},
   "outputs": [],
   "source": [
    "##train the tokenizer on training data\n",
    "tokenizer = Tokenizer(num_words=vocab_size, oov_token=oov_tok)\n",
    "tokenizer.fit_on_texts(training_sentences)\n",
    "\n",
    "word_index = tokenizer.word_index\n",
    "\n",
    "##create training sequences\n",
    "training_sequences = tokenizer.texts_to_sequences(training_sentences)\n",
    "training_padded = pad_sequences(training_sequences, maxlen=max_length, padding=padding_type, truncating=trunc_type)\n",
    "\n",
    "##create test sequences\n",
    "testing_sequences = tokenizer.texts_to_sequences(testing_sentences)\n",
    "testing_padded = pad_sequences(testing_sequences, maxlen=max_length, padding=padding_type, truncating=trunc_type)"
   ]
  },
  {
   "cell_type": "code",
   "execution_count": 29,
   "metadata": {},
   "outputs": [],
   "source": [
    "# Need this block to get it to work with TensorFlow 2.x\n",
    "import numpy as np\n",
    "training_padded = np.array(training_padded)\n",
    "training_labels = np.array(training_labels)\n",
    "testing_padded = np.array(testing_padded)\n",
    "testing_labels = np.array(testing_labels)"
   ]
  },
  {
   "cell_type": "markdown",
   "metadata": {},
   "source": [
    "#### Define the neural network model with the following layers:\n",
    "1. Embedding layer\n",
    "2. Replace the bidirectional LSTM layers with convolutional layers with a filter size of 5.\n",
    "3. GlovalAveragePooling Layer to down sample the feature map.\n",
    "4. Dense layer with 24 nodes\n",
    "5. Output Dense layer with `sigmoid` activation"
   ]
  },
  {
   "cell_type": "code",
   "execution_count": 31,
   "metadata": {},
   "outputs": [
    {
     "name": "stdout",
     "output_type": "stream",
     "text": [
      "Model: \"sequential_1\"\n",
      "_________________________________________________________________\n",
      " Layer (type)                Output Shape              Param #   \n",
      "=================================================================\n",
      " embedding_1 (Embedding)     (None, 100, 64)           640000    \n",
      "                                                                 \n",
      " conv1d (Conv1D)             (None, 96, 64)            20544     \n",
      "                                                                 \n",
      " global_average_pooling1d (  (None, 64)                0         \n",
      " GlobalAveragePooling1D)                                         \n",
      "                                                                 \n",
      " dense_2 (Dense)             (None, 24)                1560      \n",
      "                                                                 \n",
      " dense_3 (Dense)             (None, 1)                 25        \n",
      "                                                                 \n",
      "=================================================================\n",
      "Total params: 662129 (2.53 MB)\n",
      "Trainable params: 662129 (2.53 MB)\n",
      "Non-trainable params: 0 (0.00 Byte)\n",
      "_________________________________________________________________\n"
     ]
    }
   ],
   "source": [
    "model = tf.keras.Sequential([\n",
    "    tf.keras.layers.Embedding(vocab_size, embedding_dim, input_length=max_length),\n",
    "    tf.keras.layers.Conv1D(64, 5, activation='relu'),  #<====== convolutions 5 words long\n",
    "    tf.keras.layers.GlobalAveragePooling1D(),   \n",
    "    tf.keras.layers.Dense(24, activation='relu'),\n",
    "    tf.keras.layers.Dense(1, activation='sigmoid')\n",
    "])\n",
    "model.compile(loss='binary_crossentropy',optimizer='adam',metrics=['accuracy'])\n",
    "\n",
    "model.summary()"
   ]
  },
  {
   "cell_type": "markdown",
   "metadata": {},
   "source": [
    "We had an input size the max land of hundred by 64. And then in the convolution, if you look at the output so if we have 96 and the number of convolutions is 64. So how did it go from a hundred to 96? So basically as the size of the input was a hundred words and we have a filter that is five words long. So that will basically print two word from the front and do word from the back, leaving us with only 96 words. So the 64 filters that we have specified will show up in the model. So total number of parameters to train, we have 662,000 parameters and we are going to train it for 10 a box providing all of the training sequences as well as the validation sequences. "
   ]
  },
  {
   "cell_type": "code",
   "execution_count": 33,
   "metadata": {},
   "outputs": [
    {
     "name": "stdout",
     "output_type": "stream",
     "text": [
      "Epoch 1/10\n",
      "625/625 - 11s - loss: 0.4740 - accuracy: 0.7602 - val_loss: 0.3711 - val_accuracy: 0.8343 - 11s/epoch - 18ms/step\n",
      "Epoch 2/10\n",
      "625/625 - 12s - loss: 0.2510 - accuracy: 0.8989 - val_loss: 0.3915 - val_accuracy: 0.8332 - 12s/epoch - 19ms/step\n",
      "Epoch 3/10\n",
      "625/625 - 12s - loss: 0.1666 - accuracy: 0.9359 - val_loss: 0.4010 - val_accuracy: 0.8475 - 12s/epoch - 19ms/step\n",
      "Epoch 4/10\n",
      "625/625 - 10s - loss: 0.1067 - accuracy: 0.9620 - val_loss: 0.4463 - val_accuracy: 0.8435 - 10s/epoch - 16ms/step\n",
      "Epoch 5/10\n",
      "625/625 - 11s - loss: 0.0652 - accuracy: 0.9791 - val_loss: 0.5565 - val_accuracy: 0.8372 - 11s/epoch - 18ms/step\n",
      "Epoch 6/10\n",
      "625/625 - 10s - loss: 0.0388 - accuracy: 0.9877 - val_loss: 0.6749 - val_accuracy: 0.8326 - 10s/epoch - 16ms/step\n",
      "Epoch 7/10\n",
      "625/625 - 11s - loss: 0.0214 - accuracy: 0.9944 - val_loss: 0.8076 - val_accuracy: 0.8341 - 11s/epoch - 17ms/step\n",
      "Epoch 8/10\n",
      "625/625 - 9s - loss: 0.0133 - accuracy: 0.9964 - val_loss: 0.8679 - val_accuracy: 0.8325 - 9s/epoch - 14ms/step\n",
      "Epoch 9/10\n",
      "625/625 - 10s - loss: 0.0067 - accuracy: 0.9983 - val_loss: 1.0504 - val_accuracy: 0.8280 - 10s/epoch - 16ms/step\n",
      "Epoch 10/10\n",
      "625/625 - 10s - loss: 0.0046 - accuracy: 0.9987 - val_loss: 1.1249 - val_accuracy: 0.8328 - 10s/epoch - 17ms/step\n"
     ]
    }
   ],
   "source": [
    "num_epochs = 10\n",
    "\n",
    "history = model.fit(training_padded, \n",
    "                    training_labels, \n",
    "                    epochs=num_epochs, \n",
    "                    validation_data=(testing_padded, testing_labels), \n",
    "                                     verbose=2)"
   ]
  },
  {
   "cell_type": "markdown",
   "metadata": {},
   "source": [
    "We have a training accuracy of again close to a hundred percent. And the validation accuracy is somewhere around 83%. So, it's exactly kind of similar to what we had with the LSTM model."
   ]
  },
  {
   "cell_type": "markdown",
   "metadata": {},
   "source": [
    "#### Visualize the accuracy and loss"
   ]
  },
  {
   "cell_type": "code",
   "execution_count": 36,
   "metadata": {},
   "outputs": [
    {
     "data": {
      "image/png": "[encoded data removed]",
      "text/plain": [
       "<Figure size 640x480 with 1 Axes>"
      ]
     },
     "metadata": {},
     "output_type": "display_data"
    },
    {
     "data": {
      "image/png": "[encoded data removed]",
      "text/plain": [
       "<Figure size 640x480 with 1 Axes>"
      ]
     },
     "metadata": {},
     "output_type": "display_data"
    }
   ],
   "source": [
    "import matplotlib.pyplot as plt\n",
    "\n",
    "\n",
    "def plot_graphs(history, string):\n",
    "  plt.plot(history.history[string])\n",
    "  plt.plot(history.history['val_'+string])\n",
    "  plt.xlabel(\"Epochs\")\n",
    "  plt.ylabel(string)\n",
    "  plt.legend([string, 'val_'+string])\n",
    "  plt.show()\n",
    "  \n",
    "plot_graphs(history, \"accuracy\")\n",
    "plot_graphs(history, \"loss\")"
   ]
  },
  {
   "cell_type": "markdown",
   "metadata": {},
   "source": [
    "We do not have any spikes in the validation as we did in the LSTM. So here, the curves are a little smoother but there is still a gap between the accuracy and the loss. If you see the validation loss is higher. So that kind of indicates towards all fitting."
   ]
  },
  {
   "cell_type": "markdown",
   "metadata": {},
   "source": [
    "#### Classifying new sentences"
   ]
  },
  {
   "cell_type": "code",
   "execution_count": 39,
   "metadata": {},
   "outputs": [
    {
     "name": "stdout",
     "output_type": "stream",
     "text": [
      "1/1 [==============================] - 0s 53ms/step\n",
      "[[0.00108799]\n",
      " [0.00264617]]\n"
     ]
    }
   ],
   "source": [
    "sentence = [\"the girl starting to fear snakes in the garden might be real\", \"game of thrones season finale showing this sunday night\"]\n",
    "\n",
    "sequences = tokenizer.texts_to_sequences(sentence)\n",
    "\n",
    "padded = pad_sequences(sequences, maxlen=max_length, padding=padding_type, truncating=trunc_type)\n",
    "\n",
    "print(model.predict(padded))"
   ]
  },
  {
   "cell_type": "markdown",
   "metadata": {},
   "source": [
    "So this model is also classifying the two sentences as non sarcastic."
   ]
  }
 ],
 "metadata": {
  "accelerator": "GPU",
  "colab": {
   "authorship_tag": "ABX9TyP/bPbZnXqD7ARoNImKRRpK",
   "collapsed_sections": [],
   "include_colab_link": true,
   "name": "03_02_end.ipynb",
   "private_outputs": true,
   "provenance": []
  },
  "kernelspec": {
   "display_name": "Python 3 (ipykernel)",
   "language": "python",
   "name": "python3"
  },
  "language_info": {
   "codemirror_mode": {
    "name": "ipython",
    "version": 3
   },
   "file_extension": ".py",
   "mimetype": "text/x-python",
   "name": "python",
   "nbconvert_exporter": "python",
   "pygments_lexer": "ipython3",
   "version": "3.11.7"
  }
 },
 "nbformat": 4,
 "nbformat_minor": 4
}
