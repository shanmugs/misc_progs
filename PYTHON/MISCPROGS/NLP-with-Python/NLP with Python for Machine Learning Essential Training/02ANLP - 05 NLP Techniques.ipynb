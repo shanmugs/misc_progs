{
 "cells": [
  {
   "cell_type": "markdown",
   "metadata": {},
   "source": [
    "# Compare NLP Techniques"
   ]
  },
  {
   "cell_type": "markdown",
   "metadata": {},
   "source": [
    "### Prep The Data For Modeling"
   ]
  },
  {
   "cell_type": "markdown",
   "metadata": {},
   "source": [
    "#### Read In & Clean Text"
   ]
  },
  {
   "cell_type": "code",
   "execution_count": 4,
   "metadata": {},
   "outputs": [
    {
     "name": "stderr",
     "output_type": "stream",
     "text": [
      "[nltk_data] Downloading package stopwords to\n",
      "[nltk_data]     C:\\Users\\lsoares\\AppData\\Roaming\\nltk_data...\n",
      "[nltk_data]   Package stopwords is already up-to-date!\n"
     ]
    }
   ],
   "source": [
    "# Read in and clean data\n",
    "import nltk\n",
    "import numpy as np\n",
    "import pandas as pd\n",
    "import re\n",
    "from sklearn.model_selection import train_test_split\n",
    "import string\n",
    "\n",
    "nltk.download('stopwords')\n",
    "\n",
    "stopwords = nltk.corpus.stopwords.words('english')"
   ]
  },
  {
   "cell_type": "code",
   "execution_count": 5,
   "metadata": {},
   "outputs": [
    {
     "data": {
      "text/html": [
       "<div>\n",
       "<style scoped>\n",
       "    .dataframe tbody tr th:only-of-type {\n",
       "        vertical-align: middle;\n",
       "    }\n",
       "\n",
       "    .dataframe tbody tr th {\n",
       "        vertical-align: top;\n",
       "    }\n",
       "\n",
       "    .dataframe thead th {\n",
       "        text-align: right;\n",
       "    }\n",
       "</style>\n",
       "<table border=\"1\" class=\"dataframe\">\n",
       "  <thead>\n",
       "    <tr style=\"text-align: right;\">\n",
       "      <th></th>\n",
       "      <th>label</th>\n",
       "      <th>text</th>\n",
       "      <th>clean_text</th>\n",
       "    </tr>\n",
       "  </thead>\n",
       "  <tbody>\n",
       "    <tr>\n",
       "      <th>0</th>\n",
       "      <td>0</td>\n",
       "      <td>Go until jurong point, crazy.. Available only ...</td>\n",
       "      <td>[go, jurong, point, crazy, available, bugis, n...</td>\n",
       "    </tr>\n",
       "    <tr>\n",
       "      <th>1</th>\n",
       "      <td>0</td>\n",
       "      <td>Ok lar... Joking wif u oni...</td>\n",
       "      <td>[ok, lar, joking, wif, u, oni]</td>\n",
       "    </tr>\n",
       "    <tr>\n",
       "      <th>2</th>\n",
       "      <td>1</td>\n",
       "      <td>Free entry in 2 a wkly comp to win FA Cup fina...</td>\n",
       "      <td>[free, entry, 2, wkly, comp, win, fa, cup, fin...</td>\n",
       "    </tr>\n",
       "    <tr>\n",
       "      <th>3</th>\n",
       "      <td>0</td>\n",
       "      <td>U dun say so early hor... U c already then say...</td>\n",
       "      <td>[u, dun, say, early, hor, u, c, already, say]</td>\n",
       "    </tr>\n",
       "    <tr>\n",
       "      <th>4</th>\n",
       "      <td>0</td>\n",
       "      <td>Nah I don't think he goes to usf, he lives aro...</td>\n",
       "      <td>[nah, dont, think, goes, usf, lives, around, t...</td>\n",
       "    </tr>\n",
       "  </tbody>\n",
       "</table>\n",
       "</div>"
      ],
      "text/plain": [
       "   label                                               text  \\\n",
       "0      0  Go until jurong point, crazy.. Available only ...   \n",
       "1      0                      Ok lar... Joking wif u oni...   \n",
       "2      1  Free entry in 2 a wkly comp to win FA Cup fina...   \n",
       "3      0  U dun say so early hor... U c already then say...   \n",
       "4      0  Nah I don't think he goes to usf, he lives aro...   \n",
       "\n",
       "                                          clean_text  \n",
       "0  [go, jurong, point, crazy, available, bugis, n...  \n",
       "1                     [ok, lar, joking, wif, u, oni]  \n",
       "2  [free, entry, 2, wkly, comp, win, fa, cup, fin...  \n",
       "3      [u, dun, say, early, hor, u, c, already, say]  \n",
       "4  [nah, dont, think, goes, usf, lives, around, t...  "
      ]
     },
     "execution_count": 5,
     "metadata": {},
     "output_type": "execute_result"
    }
   ],
   "source": [
    "messages = pd.read_csv('data/spam.csv', encoding='latin-1')\n",
    "messages = messages.drop(labels = [\"Unnamed: 2\", \"Unnamed: 3\", \"Unnamed: 4\"], axis = 1)\n",
    "messages.columns = [\"label\", \"text\"]\n",
    "messages['label'] = np.where(messages['label']=='spam', 1, 0)\n",
    "\n",
    "def clean_text(text):\n",
    "    text = \"\".join([word.lower() for word in text if word not in string.punctuation])\n",
    "    tokens = re.split('\\W+', text)\n",
    "    text = [word for word in tokens if word not in stopwords]\n",
    "    return text\n",
    "\n",
    "messages['clean_text'] = messages['text'].apply(lambda x: clean_text(x))\n",
    "messages.head()"
   ]
  },
  {
   "cell_type": "code",
   "execution_count": 6,
   "metadata": {},
   "outputs": [],
   "source": [
    "# Split data into train and test set\n",
    "X_train, X_test, y_train, y_test = train_test_split(messages['clean_text'],  # Feature data: the clean_text messages\n",
    "                                                    messages['label'],       # Target data: the corresponding labels (0 for ham, 1 for spam)\n",
    "                                                    test_size=0.2)           # 20% of the data will be used for testing"
   ]
  },
  {
   "cell_type": "code",
   "execution_count": 7,
   "metadata": {},
   "outputs": [
    {
     "data": {
      "text/plain": [
       "885                           [gibbs, unsoldmike, hussey]\n",
       "1402    [registered, sinco, payee, log, icicibankcom, ...\n",
       "1371    [though, shd, go, n, fun, bar, town, something...\n",
       "1683              [already, squatting, new, way, walking]\n",
       "1214       [ill, text, creepy, like, wont, think, forgot]\n",
       "2199                                    [sure, stomach, ]\n",
       "2453                               [much, payed, suganya]\n",
       "3394                                                [buy]\n",
       "2909                        [guys, go, see, movies, side]\n",
       "2701    [hiya, sorry, didnt, hav, signal, havent, seen...\n",
       "Name: clean_text, dtype: object"
      ]
     },
     "execution_count": 7,
     "metadata": {},
     "output_type": "execute_result"
    }
   ],
   "source": [
    "# What do the first ten messages in the training set look like?\n",
    "X_train[:10]"
   ]
  },
  {
   "cell_type": "code",
   "execution_count": 8,
   "metadata": {},
   "outputs": [
    {
     "data": {
      "text/plain": [
       "885     0\n",
       "1402    0\n",
       "1371    0\n",
       "1683    0\n",
       "1214    0\n",
       "2199    0\n",
       "2453    0\n",
       "3394    0\n",
       "2909    0\n",
       "2701    0\n",
       "Name: label, dtype: int32"
      ]
     },
     "execution_count": 8,
     "metadata": {},
     "output_type": "execute_result"
    }
   ],
   "source": [
    "# What do the labels look like?\n",
    "y_train[:10]"
   ]
  },
  {
   "cell_type": "code",
   "execution_count": 9,
   "metadata": {},
   "outputs": [],
   "source": [
    "# Let's save the training and test sets to ensure we are using the same data for each model\n",
    "X_train.to_csv('data/X_train1.csv', index=False,header=True )\n",
    "X_test.to_csv('data/X_test1.csv', index=False,header=True)\n",
    "y_train.to_csv('data/y_train1.csv', index=False,header=True)\n",
    "y_test.to_csv('data/y_test1.csv', index=False,header=True)"
   ]
  },
  {
   "cell_type": "markdown",
   "metadata": {},
   "source": [
    "## Build Model On TF-IDF Vectors"
   ]
  },
  {
   "cell_type": "markdown",
   "metadata": {},
   "source": [
    "#### Read In Cleaned Text"
   ]
  },
  {
   "cell_type": "code",
   "execution_count": 12,
   "metadata": {},
   "outputs": [
    {
     "data": {
      "text/html": [
       "<div>\n",
       "<style scoped>\n",
       "    .dataframe tbody tr th:only-of-type {\n",
       "        vertical-align: middle;\n",
       "    }\n",
       "\n",
       "    .dataframe tbody tr th {\n",
       "        vertical-align: top;\n",
       "    }\n",
       "\n",
       "    .dataframe thead th {\n",
       "        text-align: right;\n",
       "    }\n",
       "</style>\n",
       "<table border=\"1\" class=\"dataframe\">\n",
       "  <thead>\n",
       "    <tr style=\"text-align: right;\">\n",
       "      <th></th>\n",
       "      <th>clean_text</th>\n",
       "    </tr>\n",
       "  </thead>\n",
       "  <tbody>\n",
       "    <tr>\n",
       "      <th>0</th>\n",
       "      <td>['gibbs', 'unsoldmike', 'hussey']</td>\n",
       "    </tr>\n",
       "    <tr>\n",
       "      <th>1</th>\n",
       "      <td>['registered', 'sinco', 'payee', 'log', 'icici...</td>\n",
       "    </tr>\n",
       "    <tr>\n",
       "      <th>2</th>\n",
       "      <td>['though', 'shd', 'go', 'n', 'fun', 'bar', 'to...</td>\n",
       "    </tr>\n",
       "    <tr>\n",
       "      <th>3</th>\n",
       "      <td>['already', 'squatting', 'new', 'way', 'walking']</td>\n",
       "    </tr>\n",
       "    <tr>\n",
       "      <th>4</th>\n",
       "      <td>['ill', 'text', 'creepy', 'like', 'wont', 'thi...</td>\n",
       "    </tr>\n",
       "  </tbody>\n",
       "</table>\n",
       "</div>"
      ],
      "text/plain": [
       "                                          clean_text\n",
       "0                  ['gibbs', 'unsoldmike', 'hussey']\n",
       "1  ['registered', 'sinco', 'payee', 'log', 'icici...\n",
       "2  ['though', 'shd', 'go', 'n', 'fun', 'bar', 'to...\n",
       "3  ['already', 'squatting', 'new', 'way', 'walking']\n",
       "4  ['ill', 'text', 'creepy', 'like', 'wont', 'thi..."
      ]
     },
     "execution_count": 12,
     "metadata": {},
     "output_type": "execute_result"
    }
   ],
   "source": [
    "X_train = pd.read_csv('data/X_train1.csv')\n",
    "X_test = pd.read_csv('data/X_test1.csv')\n",
    "y_train = pd.read_csv('data/y_train1.csv')\n",
    "y_test = pd.read_csv('data/y_test1.csv')\n",
    "\n",
    "X_train.head()"
   ]
  },
  {
   "cell_type": "markdown",
   "metadata": {},
   "source": [
    "#### Create TF-IDF Vectors"
   ]
  },
  {
   "cell_type": "code",
   "execution_count": 14,
   "metadata": {},
   "outputs": [],
   "source": [
    "from sklearn.feature_extraction.text import TfidfVectorizer\n",
    "\n",
    "# Instantiate and fit a TFIDF vectorizer and then use that trained vectorizer to transform the messages in the training and test sets\n",
    "\n",
    "tfidf_vect = TfidfVectorizer()                              # Initialize the TF-IDF vectorizer\n",
    "tfidf_vect.fit(X_train['clean_text'])                       # Fit the vectorizer on the training data\n",
    "X_train_vect = tfidf_vect.transform(X_train['clean_text'])  # Transform the training data into TF-IDF features\n",
    "X_test_vect = tfidf_vect.transform(X_test['clean_text'])    # Transform the test data into TF-IDF features"
   ]
  },
  {
   "cell_type": "code",
   "execution_count": 15,
   "metadata": {},
   "outputs": [],
   "source": [
    "# What words did the vectorizer learn?\n",
    "#tfidf_vect.vocabulary_"
   ]
  },
  {
   "cell_type": "code",
   "execution_count": 16,
   "metadata": {},
   "outputs": [
    {
     "data": {
      "text/plain": [
       "<1x8237 sparse matrix of type '<class 'numpy.float64'>'\n",
       "\twith 7 stored elements in Compressed Sparse Row format>"
      ]
     },
     "execution_count": 16,
     "metadata": {},
     "output_type": "execute_result"
    }
   ],
   "source": [
    "# How are these vectors stored?\n",
    "X_test_vect[0]"
   ]
  },
  {
   "cell_type": "markdown",
   "metadata": {},
   "source": [
    "A very sparse matrix!"
   ]
  },
  {
   "cell_type": "code",
   "execution_count": 18,
   "metadata": {},
   "outputs": [
    {
     "data": {
      "text/plain": [
       "array([[0., 0., 0., ..., 0., 0., 0.]])"
      ]
     },
     "execution_count": 18,
     "metadata": {},
     "output_type": "execute_result"
    }
   ],
   "source": [
    "# Can we convert the vectors to arrays?\n",
    "X_test_vect[0].toarray()"
   ]
  },
  {
   "cell_type": "markdown",
   "metadata": {},
   "source": [
    "#### Fit RandomForestClassifier On Top Of Vectors"
   ]
  },
  {
   "cell_type": "code",
   "execution_count": 20,
   "metadata": {},
   "outputs": [],
   "source": [
    "# Fit a basic Random Forest model on these vectors\n",
    "from sklearn.ensemble import RandomForestClassifier\n",
    "\n",
    "rf = RandomForestClassifier()              # Initialize the RandomForestClassifier model\n",
    "\n",
    "rf_model = rf.fit(X_train_vect,            # Fit the RandomForestClassifier on the training data\n",
    "                  y_train.values.ravel())  # Flatten y_train to ensure it's a 1D array for the model (Pandas to array)"
   ]
  },
  {
   "cell_type": "code",
   "execution_count": 21,
   "metadata": {},
   "outputs": [],
   "source": [
    "# Use the trained model to make predictions on the test data\n",
    "y_pred=rf_model.predict(X_test_vect)"
   ]
  },
  {
   "cell_type": "code",
   "execution_count": 22,
   "metadata": {},
   "outputs": [
    {
     "name": "stdout",
     "output_type": "stream",
     "text": [
      "Precision: 1.0 / Recall: 0.796 / Accuracy: 0.97\n"
     ]
    }
   ],
   "source": [
    "# Evaluate the predictions of the model on the holdout test set\n",
    "from sklearn.metrics import precision_score, recall_score\n",
    "\n",
    "precision = precision_score(y_test,   # True labels for the test set\n",
    "                            y_pred)   # Predicted labels by the model\n",
    "\n",
    "recall = recall_score(y_test,   # True labels for the test set\n",
    "                      y_pred)   # Predicted labels by the model\n",
    "\n",
    "print('Precision: {} / Recall: {} / Accuracy: {}'.format(\n",
    "    round(precision, 3),                                     # Round precision to 3 decimal places\n",
    "    round(recall, 3),                                        # Round recall to 3 decimal places\n",
    "    round((y_pred==y_test['label']).sum()/len(y_pred), 3)))  # Round accuracy to 3 decimal places"
   ]
  },
  {
   "cell_type": "markdown",
   "metadata": {},
   "source": [
    "* So one hundred percent **precision** means that when the model identified a text message in the test set as spam, it actually was spam 100% of the time.\n",
    "\n",
    "* 76.3% **recall** means that, of the title messages in the test set that were labeled as spam, the model correctly identified 76.3% of them. In other words, the other 23.7% of them, the model thought was not spam. \n",
    "\n",
    "* Lastly, 96.7% **accuracy**, just means that whether the model predicted spam or not, it was correct 96.7% of the time. \n",
    "\n",
    "So on the surface, these metrics look really good. This looks like a nice baseline to set. So now let's explore other methods to see if any of them can be our baseline."
   ]
  },
  {
   "cell_type": "markdown",
   "metadata": {},
   "source": [
    "## Build Model on Word2Vec Vectors"
   ]
  },
  {
   "cell_type": "markdown",
   "metadata": {},
   "source": [
    "#### Create word2vec Vectors"
   ]
  },
  {
   "cell_type": "code",
   "execution_count": 26,
   "metadata": {},
   "outputs": [],
   "source": [
    "import gensim\n",
    "\n",
    "w2v_model = gensim.models.Word2Vec(X_train,         # Train the Word2Vec model using the training data\n",
    "                                   vector_size=100, # Dimensionality of the word vectors\n",
    "                                   window=5,        # Maximum distance between the current and predicted word within a sentence\n",
    "                                   min_count=2)     # Ignores all words with a total frequency lower than this"
   ]
  },
  {
   "cell_type": "code",
   "execution_count": 27,
   "metadata": {},
   "outputs": [],
   "source": [
    "# Replace the words in each text message with the learned word vector\n",
    "words = set(w2v_model.wv.index_to_key)\n",
    "\n",
    "X_train_vect = [\n",
    "    [w2v_model.wv[word] for word in text if word in w2v_model.wv.key_to_index]  # Extract word vectors for each word in the message\n",
    "    for text in X_train['clean_text']                                            # Iterate over each message in X_test['clean_text']\n",
    "]\n",
    "X_test_vect = [\n",
    "    [w2v_model.wv[word] for word in text if word in w2v_model.wv.key_to_index]  # Extract word vectors for each word in the message\n",
    "    for text in X_test['clean_text']                                            # Iterate over each message in X_test['clean_text']\n",
    "]"
   ]
  },
  {
   "cell_type": "code",
   "execution_count": 28,
   "metadata": {},
   "outputs": [],
   "source": [
    "# Average the word vectors for each message, or assign a vector of zeros if the list is empty\n",
    "X_train_vect_avg = []\n",
    "\n",
    "for v in X_train_vect:\n",
    "    if len(v) > 0:                                           # Check if the list of vectors is not empty\n",
    "        X_train_vect_avg.append(np.mean(v, axis=0))          # Calculate the mean of the vectors\n",
    "    else:\n",
    "        X_train_vect_avg.append(np.zeros(100, dtype=float))  # Assign a zero vector if no words found\n",
    "\n",
    "X_test_vect_avg = []\n",
    "for v in X_test_vect:\n",
    "    if len(v) > 0:                                           # Check if the list of vectors is not empty\n",
    "        X_test_vect_avg.append(np.mean(v, axis=0))           # Calculate the mean of the vectors\n",
    "    else:\n",
    "        X_test_vect_avg.append(np.zeros(100, dtype=float))   # Assign a zero vector if no words found"
   ]
  },
  {
   "cell_type": "code",
   "execution_count": 29,
   "metadata": {},
   "outputs": [
    {
     "data": {
      "text/plain": [
       "[array([-8.6196875e-03,  3.6657380e-03,  5.1898835e-03,  5.7419385e-03,\n",
       "         7.4669183e-03, -6.1676754e-03,  1.1056137e-03,  6.0472824e-03,\n",
       "        -2.8400505e-03, -6.1735227e-03, -4.1022300e-04, -8.3689485e-03,\n",
       "        -5.6000124e-03,  7.1045388e-03,  3.3525396e-03,  7.2256695e-03,\n",
       "         6.8002474e-03,  7.5307419e-03, -3.7891543e-03, -5.6180597e-04,\n",
       "         2.3483764e-03, -4.5190323e-03,  8.3887316e-03, -9.8581640e-03,\n",
       "         6.7646410e-03,  2.9144168e-03, -4.9328315e-03,  4.3981876e-03,\n",
       "        -1.7395747e-03,  6.7113843e-03,  9.9648498e-03, -4.3624435e-03,\n",
       "        -5.9933780e-04, -5.6956373e-03,  3.8508223e-03,  2.7866268e-03,\n",
       "         6.8910765e-03,  6.1010956e-03,  9.5384968e-03,  9.2734173e-03,\n",
       "         7.8980681e-03, -6.9895042e-03, -9.1558648e-03, -3.5575271e-04,\n",
       "        -3.0998408e-03,  7.8943167e-03,  5.9385742e-03, -1.5456629e-03,\n",
       "         1.5109634e-03,  1.7900408e-03,  7.8175711e-03, -9.5101865e-03,\n",
       "        -2.0553112e-04,  3.4691966e-03, -9.3897223e-04,  8.3817719e-03,\n",
       "         9.0107834e-03,  6.5365066e-03, -7.1162102e-04,  7.7104042e-03,\n",
       "        -8.5343346e-03,  3.2071066e-03, -4.6379971e-03, -5.0889552e-03,\n",
       "         3.5896183e-03,  5.3703394e-03,  7.7695143e-03, -5.7665063e-03,\n",
       "         7.4333609e-03,  6.6254963e-03, -3.7098003e-03, -8.7456414e-03,\n",
       "         5.4374672e-03,  6.5097557e-03, -7.8755023e-04, -6.7098560e-03,\n",
       "        -7.0859254e-03, -2.4970602e-03,  5.1432536e-03, -3.6652375e-03,\n",
       "        -9.3700597e-03,  3.8267397e-03,  4.8844791e-03, -6.4285635e-03,\n",
       "         1.2085581e-03, -2.0748770e-03,  2.4403334e-05, -9.8835090e-03,\n",
       "         2.6920044e-03, -4.7501065e-03,  1.0876465e-03, -1.5762246e-03,\n",
       "         2.1966731e-03, -7.8815762e-03, -2.7171839e-03,  2.6631986e-03,\n",
       "         5.3466819e-03, -2.3915148e-03, -9.5100943e-03,  4.5058788e-03],\n",
       "       dtype=float32),\n",
       " array([-8.6196875e-03,  3.6657380e-03,  5.1898835e-03,  5.7419385e-03,\n",
       "         7.4669183e-03, -6.1676754e-03,  1.1056137e-03,  6.0472824e-03,\n",
       "        -2.8400505e-03, -6.1735227e-03, -4.1022300e-04, -8.3689485e-03,\n",
       "        -5.6000124e-03,  7.1045388e-03,  3.3525396e-03,  7.2256695e-03,\n",
       "         6.8002474e-03,  7.5307419e-03, -3.7891543e-03, -5.6180597e-04,\n",
       "         2.3483764e-03, -4.5190323e-03,  8.3887316e-03, -9.8581640e-03,\n",
       "         6.7646410e-03,  2.9144168e-03, -4.9328315e-03,  4.3981876e-03,\n",
       "        -1.7395747e-03,  6.7113843e-03,  9.9648498e-03, -4.3624435e-03,\n",
       "        -5.9933780e-04, -5.6956373e-03,  3.8508223e-03,  2.7866268e-03,\n",
       "         6.8910765e-03,  6.1010956e-03,  9.5384968e-03,  9.2734173e-03,\n",
       "         7.8980681e-03, -6.9895042e-03, -9.1558648e-03, -3.5575271e-04,\n",
       "        -3.0998408e-03,  7.8943167e-03,  5.9385742e-03, -1.5456629e-03,\n",
       "         1.5109634e-03,  1.7900408e-03,  7.8175711e-03, -9.5101865e-03,\n",
       "        -2.0553112e-04,  3.4691966e-03, -9.3897223e-04,  8.3817719e-03,\n",
       "         9.0107834e-03,  6.5365066e-03, -7.1162102e-04,  7.7104042e-03,\n",
       "        -8.5343346e-03,  3.2071066e-03, -4.6379971e-03, -5.0889552e-03,\n",
       "         3.5896183e-03,  5.3703394e-03,  7.7695143e-03, -5.7665063e-03,\n",
       "         7.4333609e-03,  6.6254963e-03, -3.7098003e-03, -8.7456414e-03,\n",
       "         5.4374672e-03,  6.5097557e-03, -7.8755023e-04, -6.7098560e-03,\n",
       "        -7.0859254e-03, -2.4970602e-03,  5.1432536e-03, -3.6652375e-03,\n",
       "        -9.3700597e-03,  3.8267397e-03,  4.8844791e-03, -6.4285635e-03,\n",
       "         1.2085581e-03, -2.0748770e-03,  2.4403334e-05, -9.8835090e-03,\n",
       "         2.6920044e-03, -4.7501065e-03,  1.0876465e-03, -1.5762246e-03,\n",
       "         2.1966731e-03, -7.8815762e-03, -2.7171839e-03,  2.6631986e-03,\n",
       "         5.3466819e-03, -2.3915148e-03, -9.5100943e-03,  4.5058788e-03],\n",
       "       dtype=float32),\n",
       " array([-5.3622725e-04,  2.3643136e-04,  5.1033497e-03,  9.0092728e-03,\n",
       "        -9.3029495e-03, -7.1168090e-03,  6.4588725e-03,  8.9729885e-03,\n",
       "        -5.0154282e-03, -3.7633716e-03,  7.3805046e-03, -1.5334714e-03,\n",
       "        -4.5366134e-03,  6.5540518e-03, -4.8601604e-03, -1.8160177e-03,\n",
       "         2.8765798e-03,  9.9187379e-04, -8.2852151e-03, -9.4488179e-03,\n",
       "         7.3117660e-03,  5.0702621e-03,  6.7576934e-03,  7.6286553e-04,\n",
       "         6.3508903e-03, -3.4053659e-03, -9.4640139e-04,  5.7685734e-03,\n",
       "        -7.5216377e-03, -3.9361035e-03, -7.5115822e-03, -9.3004224e-04,\n",
       "         9.5381187e-03, -7.3191668e-03, -2.3337686e-03, -1.9377411e-03,\n",
       "         8.0774371e-03, -5.9308959e-03,  4.5162440e-05, -4.7537340e-03,\n",
       "        -9.6035507e-03,  5.0072931e-03, -8.7595852e-03, -4.3918253e-03,\n",
       "        -3.5099984e-05, -2.9618145e-04, -7.6612402e-03,  9.6147433e-03,\n",
       "         4.9820580e-03,  9.2331432e-03, -8.1579173e-03,  4.4957981e-03,\n",
       "        -4.1370760e-03,  8.2453608e-04,  8.4986202e-03, -4.4621765e-03,\n",
       "         4.5175003e-03, -6.7869602e-03, -3.5484887e-03,  9.3985079e-03,\n",
       "        -1.5776526e-03,  3.2137157e-04, -4.1406299e-03, -7.6826881e-03,\n",
       "        -1.5080082e-03,  2.4697948e-03, -8.8802696e-04,  5.5336617e-03,\n",
       "        -2.7429771e-03,  2.2600652e-03,  5.4557943e-03,  8.3459532e-03,\n",
       "        -1.4537406e-03, -9.2081428e-03,  4.3705525e-03,  5.7178497e-04,\n",
       "         7.4419081e-03, -8.1328274e-04, -2.6384138e-03, -8.7530091e-03,\n",
       "        -8.5655687e-04,  2.8265631e-03,  5.4014288e-03,  7.0526563e-03,\n",
       "        -5.7031214e-03,  1.8588197e-03,  6.0888636e-03, -4.7980510e-03,\n",
       "        -3.1072604e-03,  6.7976294e-03,  1.6314756e-03,  1.8991709e-04,\n",
       "         3.4736372e-03,  2.1777749e-04,  9.6188262e-03,  5.0606038e-03,\n",
       "        -8.9173904e-03, -7.0415605e-03,  9.0145587e-04,  6.3925339e-03],\n",
       "       dtype=float32),\n",
       " array([-8.6196875e-03,  3.6657380e-03,  5.1898835e-03,  5.7419385e-03,\n",
       "         7.4669183e-03, -6.1676754e-03,  1.1056137e-03,  6.0472824e-03,\n",
       "        -2.8400505e-03, -6.1735227e-03, -4.1022300e-04, -8.3689485e-03,\n",
       "        -5.6000124e-03,  7.1045388e-03,  3.3525396e-03,  7.2256695e-03,\n",
       "         6.8002474e-03,  7.5307419e-03, -3.7891543e-03, -5.6180597e-04,\n",
       "         2.3483764e-03, -4.5190323e-03,  8.3887316e-03, -9.8581640e-03,\n",
       "         6.7646410e-03,  2.9144168e-03, -4.9328315e-03,  4.3981876e-03,\n",
       "        -1.7395747e-03,  6.7113843e-03,  9.9648498e-03, -4.3624435e-03,\n",
       "        -5.9933780e-04, -5.6956373e-03,  3.8508223e-03,  2.7866268e-03,\n",
       "         6.8910765e-03,  6.1010956e-03,  9.5384968e-03,  9.2734173e-03,\n",
       "         7.8980681e-03, -6.9895042e-03, -9.1558648e-03, -3.5575271e-04,\n",
       "        -3.0998408e-03,  7.8943167e-03,  5.9385742e-03, -1.5456629e-03,\n",
       "         1.5109634e-03,  1.7900408e-03,  7.8175711e-03, -9.5101865e-03,\n",
       "        -2.0553112e-04,  3.4691966e-03, -9.3897223e-04,  8.3817719e-03,\n",
       "         9.0107834e-03,  6.5365066e-03, -7.1162102e-04,  7.7104042e-03,\n",
       "        -8.5343346e-03,  3.2071066e-03, -4.6379971e-03, -5.0889552e-03,\n",
       "         3.5896183e-03,  5.3703394e-03,  7.7695143e-03, -5.7665063e-03,\n",
       "         7.4333609e-03,  6.6254963e-03, -3.7098003e-03, -8.7456414e-03,\n",
       "         5.4374672e-03,  6.5097557e-03, -7.8755023e-04, -6.7098560e-03,\n",
       "        -7.0859254e-03, -2.4970602e-03,  5.1432536e-03, -3.6652375e-03,\n",
       "        -9.3700597e-03,  3.8267397e-03,  4.8844791e-03, -6.4285635e-03,\n",
       "         1.2085581e-03, -2.0748770e-03,  2.4403334e-05, -9.8835090e-03,\n",
       "         2.6920044e-03, -4.7501065e-03,  1.0876465e-03, -1.5762246e-03,\n",
       "         2.1966731e-03, -7.8815762e-03, -2.7171839e-03,  2.6631986e-03,\n",
       "         5.3466819e-03, -2.3915148e-03, -9.5100943e-03,  4.5058788e-03],\n",
       "       dtype=float32),\n",
       " array([-8.6196875e-03,  3.6657380e-03,  5.1898835e-03,  5.7419385e-03,\n",
       "         7.4669183e-03, -6.1676754e-03,  1.1056137e-03,  6.0472824e-03,\n",
       "        -2.8400505e-03, -6.1735227e-03, -4.1022300e-04, -8.3689485e-03,\n",
       "        -5.6000124e-03,  7.1045388e-03,  3.3525396e-03,  7.2256695e-03,\n",
       "         6.8002474e-03,  7.5307419e-03, -3.7891543e-03, -5.6180597e-04,\n",
       "         2.3483764e-03, -4.5190323e-03,  8.3887316e-03, -9.8581640e-03,\n",
       "         6.7646410e-03,  2.9144168e-03, -4.9328315e-03,  4.3981876e-03,\n",
       "        -1.7395747e-03,  6.7113843e-03,  9.9648498e-03, -4.3624435e-03,\n",
       "        -5.9933780e-04, -5.6956373e-03,  3.8508223e-03,  2.7866268e-03,\n",
       "         6.8910765e-03,  6.1010956e-03,  9.5384968e-03,  9.2734173e-03,\n",
       "         7.8980681e-03, -6.9895042e-03, -9.1558648e-03, -3.5575271e-04,\n",
       "        -3.0998408e-03,  7.8943167e-03,  5.9385742e-03, -1.5456629e-03,\n",
       "         1.5109634e-03,  1.7900408e-03,  7.8175711e-03, -9.5101865e-03,\n",
       "        -2.0553112e-04,  3.4691966e-03, -9.3897223e-04,  8.3817719e-03,\n",
       "         9.0107834e-03,  6.5365066e-03, -7.1162102e-04,  7.7104042e-03,\n",
       "        -8.5343346e-03,  3.2071066e-03, -4.6379971e-03, -5.0889552e-03,\n",
       "         3.5896183e-03,  5.3703394e-03,  7.7695143e-03, -5.7665063e-03,\n",
       "         7.4333609e-03,  6.6254963e-03, -3.7098003e-03, -8.7456414e-03,\n",
       "         5.4374672e-03,  6.5097557e-03, -7.8755023e-04, -6.7098560e-03,\n",
       "        -7.0859254e-03, -2.4970602e-03,  5.1432536e-03, -3.6652375e-03,\n",
       "        -9.3700597e-03,  3.8267397e-03,  4.8844791e-03, -6.4285635e-03,\n",
       "         1.2085581e-03, -2.0748770e-03,  2.4403334e-05, -9.8835090e-03,\n",
       "         2.6920044e-03, -4.7501065e-03,  1.0876465e-03, -1.5762246e-03,\n",
       "         2.1966731e-03, -7.8815762e-03, -2.7171839e-03,  2.6631986e-03,\n",
       "         5.3466819e-03, -2.3915148e-03, -9.5100943e-03,  4.5058788e-03],\n",
       "       dtype=float32),\n",
       " array([-8.6196875e-03,  3.6657380e-03,  5.1898835e-03,  5.7419385e-03,\n",
       "         7.4669183e-03, -6.1676754e-03,  1.1056137e-03,  6.0472824e-03,\n",
       "        -2.8400505e-03, -6.1735227e-03, -4.1022300e-04, -8.3689485e-03,\n",
       "        -5.6000124e-03,  7.1045388e-03,  3.3525396e-03,  7.2256695e-03,\n",
       "         6.8002474e-03,  7.5307419e-03, -3.7891543e-03, -5.6180597e-04,\n",
       "         2.3483764e-03, -4.5190323e-03,  8.3887316e-03, -9.8581640e-03,\n",
       "         6.7646410e-03,  2.9144168e-03, -4.9328315e-03,  4.3981876e-03,\n",
       "        -1.7395747e-03,  6.7113843e-03,  9.9648498e-03, -4.3624435e-03,\n",
       "        -5.9933780e-04, -5.6956373e-03,  3.8508223e-03,  2.7866268e-03,\n",
       "         6.8910765e-03,  6.1010956e-03,  9.5384968e-03,  9.2734173e-03,\n",
       "         7.8980681e-03, -6.9895042e-03, -9.1558648e-03, -3.5575271e-04,\n",
       "        -3.0998408e-03,  7.8943167e-03,  5.9385742e-03, -1.5456629e-03,\n",
       "         1.5109634e-03,  1.7900408e-03,  7.8175711e-03, -9.5101865e-03,\n",
       "        -2.0553112e-04,  3.4691966e-03, -9.3897223e-04,  8.3817719e-03,\n",
       "         9.0107834e-03,  6.5365066e-03, -7.1162102e-04,  7.7104042e-03,\n",
       "        -8.5343346e-03,  3.2071066e-03, -4.6379971e-03, -5.0889552e-03,\n",
       "         3.5896183e-03,  5.3703394e-03,  7.7695143e-03, -5.7665063e-03,\n",
       "         7.4333609e-03,  6.6254963e-03, -3.7098003e-03, -8.7456414e-03,\n",
       "         5.4374672e-03,  6.5097557e-03, -7.8755023e-04, -6.7098560e-03,\n",
       "        -7.0859254e-03, -2.4970602e-03,  5.1432536e-03, -3.6652375e-03,\n",
       "        -9.3700597e-03,  3.8267397e-03,  4.8844791e-03, -6.4285635e-03,\n",
       "         1.2085581e-03, -2.0748770e-03,  2.4403334e-05, -9.8835090e-03,\n",
       "         2.6920044e-03, -4.7501065e-03,  1.0876465e-03, -1.5762246e-03,\n",
       "         2.1966731e-03, -7.8815762e-03, -2.7171839e-03,  2.6631986e-03,\n",
       "         5.3466819e-03, -2.3915148e-03, -9.5100943e-03,  4.5058788e-03],\n",
       "       dtype=float32)]"
      ]
     },
     "execution_count": 29,
     "metadata": {},
     "output_type": "execute_result"
    }
   ],
   "source": [
    "# What does the unaveraged version look like?\n",
    "X_test_vect[0]  # one array to each vector (\"word\") in the first message"
   ]
  },
  {
   "cell_type": "code",
   "execution_count": 30,
   "metadata": {},
   "outputs": [
    {
     "data": {
      "text/plain": [
       "array([-7.2724447e-03,  3.0941870e-03,  5.1754615e-03,  6.2864944e-03,\n",
       "        4.6719401e-03, -6.3258647e-03,  1.9978236e-03,  6.5349001e-03,\n",
       "       -3.2026134e-03, -5.7718307e-03,  8.8823168e-04, -7.2297021e-03,\n",
       "       -5.4227789e-03,  7.0127905e-03,  1.9837562e-03,  5.7187215e-03,\n",
       "        6.1463029e-03,  6.4409305e-03, -4.5384979e-03, -2.0429748e-03,\n",
       "        3.1756079e-03, -2.9208167e-03,  8.1168925e-03, -8.0879927e-03,\n",
       "        6.6956826e-03,  1.8611196e-03, -4.2684269e-03,  4.6265852e-03,\n",
       "       -2.7032520e-03,  4.9368031e-03,  7.0521110e-03, -3.7903765e-03,\n",
       "        1.0902383e-03, -5.9662256e-03,  2.8200571e-03,  1.9992322e-03,\n",
       "        7.0888028e-03,  4.0957639e-03,  7.9562748e-03,  6.9355587e-03,\n",
       "        4.9811318e-03, -4.9900380e-03, -9.0898192e-03, -1.0284315e-03,\n",
       "       -2.5890509e-03,  6.5292330e-03,  3.6719386e-03,  3.1440475e-04,\n",
       "        2.0894792e-03,  3.0305579e-03,  5.1549897e-03, -7.1758553e-03,\n",
       "       -8.6078863e-04,  3.0284200e-03,  6.3395983e-04,  6.2411143e-03,\n",
       "        8.2619032e-03,  4.3159286e-03, -1.1844322e-03,  7.9917544e-03,\n",
       "       -7.3748878e-03,  2.7261507e-03, -4.5551029e-03, -5.5212439e-03,\n",
       "        2.7400136e-03,  4.8869154e-03,  6.3265911e-03, -3.8831451e-03,\n",
       "        5.7373047e-03,  5.8979243e-03, -2.1822012e-03, -5.8970419e-03,\n",
       "        4.2889328e-03,  3.8901058e-03,  7.2133531e-05, -5.4962491e-03,\n",
       "       -4.6646199e-03, -2.2164306e-03,  3.8463089e-03, -4.5131990e-03,\n",
       "       -7.9511423e-03,  3.6600435e-03,  4.9706376e-03, -4.1816938e-03,\n",
       "        5.6611490e-05, -1.4192607e-03,  1.0351468e-03, -9.0359328e-03,\n",
       "        1.7254604e-03, -2.8254837e-03,  1.1782846e-03, -1.2818676e-03,\n",
       "        2.4095005e-03, -6.5316833e-03, -6.6118222e-04,  3.0627663e-03,\n",
       "        2.9693365e-03, -3.1665226e-03, -7.7748359e-03,  4.8203212e-03],\n",
       "      dtype=float32)"
      ]
     },
     "execution_count": 30,
     "metadata": {},
     "output_type": "execute_result"
    }
   ],
   "source": [
    "# What does the averaged version look like?\n",
    "X_test_vect_avg[0]"
   ]
  },
  {
   "cell_type": "markdown",
   "metadata": {},
   "source": [
    "#### Another version"
   ]
  },
  {
   "cell_type": "code",
   "execution_count": 32,
   "metadata": {},
   "outputs": [
    {
     "data": {
      "text/plain": [
       "array([-7.2724447e-03,  3.0941870e-03,  5.1754615e-03,  6.2864944e-03,\n",
       "        4.6719401e-03, -6.3258647e-03,  1.9978236e-03,  6.5349001e-03,\n",
       "       -3.2026134e-03, -5.7718307e-03,  8.8823168e-04, -7.2297021e-03,\n",
       "       -5.4227789e-03,  7.0127905e-03,  1.9837562e-03,  5.7187215e-03,\n",
       "        6.1463029e-03,  6.4409305e-03, -4.5384979e-03, -2.0429748e-03,\n",
       "        3.1756079e-03, -2.9208167e-03,  8.1168925e-03, -8.0879927e-03,\n",
       "        6.6956826e-03,  1.8611196e-03, -4.2684269e-03,  4.6265852e-03,\n",
       "       -2.7032520e-03,  4.9368031e-03,  7.0521110e-03, -3.7903765e-03,\n",
       "        1.0902383e-03, -5.9662256e-03,  2.8200571e-03,  1.9992322e-03,\n",
       "        7.0888028e-03,  4.0957639e-03,  7.9562748e-03,  6.9355587e-03,\n",
       "        4.9811318e-03, -4.9900380e-03, -9.0898192e-03, -1.0284315e-03,\n",
       "       -2.5890509e-03,  6.5292330e-03,  3.6719386e-03,  3.1440475e-04,\n",
       "        2.0894792e-03,  3.0305579e-03,  5.1549897e-03, -7.1758553e-03,\n",
       "       -8.6078863e-04,  3.0284200e-03,  6.3395983e-04,  6.2411143e-03,\n",
       "        8.2619032e-03,  4.3159286e-03, -1.1844322e-03,  7.9917544e-03,\n",
       "       -7.3748878e-03,  2.7261507e-03, -4.5551029e-03, -5.5212439e-03,\n",
       "        2.7400136e-03,  4.8869154e-03,  6.3265911e-03, -3.8831451e-03,\n",
       "        5.7373047e-03,  5.8979243e-03, -2.1822012e-03, -5.8970419e-03,\n",
       "        4.2889328e-03,  3.8901058e-03,  7.2133531e-05, -5.4962491e-03,\n",
       "       -4.6646199e-03, -2.2164306e-03,  3.8463089e-03, -4.5131990e-03,\n",
       "       -7.9511423e-03,  3.6600435e-03,  4.9706376e-03, -4.1816938e-03,\n",
       "        5.6611490e-05, -1.4192607e-03,  1.0351468e-03, -9.0359328e-03,\n",
       "        1.7254604e-03, -2.8254837e-03,  1.1782846e-03, -1.2818676e-03,\n",
       "        2.4095005e-03, -6.5316833e-03, -6.6118222e-04,  3.0627663e-03,\n",
       "        2.9693365e-03, -3.1665226e-03, -7.7748359e-03,  4.8203212e-03],\n",
       "      dtype=float32)"
      ]
     },
     "execution_count": 32,
     "metadata": {},
     "output_type": "execute_result"
    }
   ],
   "source": [
    "# Replace the words in each text message with the learned word vector\n",
    "words = set(w2v_model.wv.index_to_key)\n",
    "\n",
    "\n",
    "# Helper function to average word vectors for each message\n",
    "def average_word_vectors(words_list, model, num_features):    # Define a function that takes a list of words, the model, and the number of features\n",
    "    \n",
    "    # Initialize an array of zeros\n",
    "    feature_vec = np.zeros((num_features,), dtype=\"float32\")  # Create a zero vector with a size equal to the number of features\n",
    "    n_words = 0                                               # Initialize the word count to zero\n",
    "    \n",
    "    # Iterate over the words in the words_list\n",
    "    for word in words_list:                                   # Loop through each word in the provided list\n",
    "        if word in model.wv.key_to_index:                     # Check if the word exists in the model's vocabulary\n",
    "            feature_vec = np.add(feature_vec, model.wv[word]) # Add the vector of the word to the feature vector\n",
    "            n_words += 1                                      # Increment the word count\n",
    "    \n",
    "    # Divide the sum of vectors by the number of words to get the average\n",
    "    if n_words > 0:                                           # Check if any words were added\n",
    "        feature_vec = np.divide(feature_vec, n_words)         # Calculate the average by dividing the feature vector by the word count\n",
    "    \n",
    "    return feature_vec                                        # Return the averaged vector\n",
    "\n",
    "\n",
    "# Apply the function to transform training and test sets\n",
    "X_train_vect_aveg = np.array([average_word_vectors(                # Transform the training set by averaging the word vectors for each text message\n",
    "                                                   text,           # Pass each cleaned text message from X_train\n",
    "                                                   w2v_model,      # Use the trained Word2Vec model\n",
    "                                                   100             # Set the number of features to match the vector size used in training\n",
    "                                                   ) for text in X_train['clean_text']])\n",
    "\n",
    "X_test_vect_avg = np.array([average_word_vectors(                 # Transform the test set by averaging the word vectors for each text message\n",
    "                                                 text,            # Pass each cleaned text message from X_test\n",
    "                                                 w2v_model,       # Use the trained Word2Vec model\n",
    "                                                 100              # Set the number of features to match the vector size used in training\n",
    "                                                ) for text in X_test['clean_text']])\n",
    "\n",
    "X_test_vect_avg[0]"
   ]
  },
  {
   "cell_type": "markdown",
   "metadata": {},
   "source": [
    "#### Fit RandomForestClassifier On Top Of Word Vectors"
   ]
  },
  {
   "cell_type": "code",
   "execution_count": 34,
   "metadata": {},
   "outputs": [],
   "source": [
    "# Instantiate and fit a basic Random Forest model on top of the vectors\n",
    "from sklearn.ensemble import RandomForestClassifier\n",
    "\n",
    "rf = RandomForestClassifier()  # Initialize the Random Forest Classifier model\n",
    "\n",
    "rf_model = rf.fit(X_train_vect_avg,             # Fit the model using the averaged word vectors from the training data\n",
    "                  y_train.values.ravel())       # Use the training labels, flattened to a 1D array"
   ]
  },
  {
   "cell_type": "code",
   "execution_count": 35,
   "metadata": {},
   "outputs": [],
   "source": [
    "# Use the trained model to make predictions on the test data\n",
    "y_pred = rf_model.predict(X_test_vect_avg)"
   ]
  },
  {
   "cell_type": "code",
   "execution_count": 36,
   "metadata": {},
   "outputs": [],
   "source": [
    "rf = RandomForestClassifier()              # Initialize the RandomForestClassifier model\n",
    "\n",
    "rf_model = rf.fit(X_train_vect_avg,       # Fit the RandomForestClassifier on the training data\n",
    "                  y_train.values.ravel())  # Flatten y_train to ensure it's a 1D array for the model (Pandas to array)"
   ]
  },
  {
   "cell_type": "code",
   "execution_count": 37,
   "metadata": {},
   "outputs": [],
   "source": [
    "# Use the trained model to make predictions on the test data\n",
    "y_pred = rf_model.predict(X_test_vect_avg)"
   ]
  },
  {
   "cell_type": "code",
   "execution_count": 38,
   "metadata": {},
   "outputs": [
    {
     "name": "stdout",
     "output_type": "stream",
     "text": [
      "Precision: 0.508 / Recall: 0.198 / Accuracy: 0.856\n"
     ]
    }
   ],
   "source": [
    "precision = precision_score(y_test,   # True labels for the test set\n",
    "                            y_pred)   # Predicted labels by the model\n",
    "\n",
    "recall = recall_score(y_test,   # True labels for the test set\n",
    "                      y_pred)   # Predicted labels by the model\n",
    "\n",
    "print('Precision: {} / Recall: {} / Accuracy: {}'.format(\n",
    "    round(precision, 3),                                     # Round precision to 3 decimal places\n",
    "    round(recall, 3),                                        # Round recall to 3 decimal places\n",
    "    round((y_pred==y_test['label']).sum()/len(y_pred), 3)))  # Round accuracy to 3 decimal places"
   ]
  },
  {
   "cell_type": "markdown",
   "metadata": {},
   "source": [
    "Now looking at these, we can see that the results are quite a bit worse than our TFIDF baseline. We got worse precision, recall and accuracy. This kind of makes sense, as the main drawback with word2vec is that it's not really intended to create representations of sentences. We're just crudely averaging across word vectors to get a sentence or text level representation, but that loses information. So let's jump into doc2vec to see if that will solve this issue."
   ]
  },
  {
   "cell_type": "markdown",
   "metadata": {},
   "source": [
    "## Build Model On doc2vec Vectors"
   ]
  },
  {
   "cell_type": "markdown",
   "metadata": {},
   "source": [
    "#### Create doc2vec Vectors"
   ]
  },
  {
   "cell_type": "code",
   "execution_count": 42,
   "metadata": {},
   "outputs": [],
   "source": [
    "# Create TaggedDocument vectors for each text message in the training set\n",
    "tagged_docs_train = [gensim.models.doc2vec.TaggedDocument(v, [i])  # Create a TaggedDocument for each message\n",
    "                     for i, v in enumerate(X_train['clean_text'])]  # Enumerate over the training data to tag each document\n",
    "\n",
    "# Create TaggedDocument vectors for each text message in the test set\n",
    "tagged_docs_test = [gensim.models.doc2vec.TaggedDocument(v, [i])   # Create a TaggedDocument for each message\n",
    "                    for i, v in enumerate(X_test['clean_text'])]   # Enumerate over the test data to tag each document"
   ]
  },
  {
   "cell_type": "code",
   "execution_count": 43,
   "metadata": {},
   "outputs": [
    {
     "data": {
      "text/plain": [
       "[TaggedDocument(words=\"['gibbs', 'unsoldmike', 'hussey']\", tags=[0]),\n",
       " TaggedDocument(words=\"['registered', 'sinco', 'payee', 'log', 'icicibankcom', 'enter', 'urn', 'ltgt', 'confirm', 'beware', 'frauds', 'share', 'disclose', 'urn', 'anyone']\", tags=[1]),\n",
       " TaggedDocument(words=\"['though', 'shd', 'go', 'n', 'fun', 'bar', 'town', 'something', 'ûò', 'sound', 'ok']\", tags=[2]),\n",
       " TaggedDocument(words=\"['already', 'squatting', 'new', 'way', 'walking']\", tags=[3]),\n",
       " TaggedDocument(words=\"['ill', 'text', 'creepy', 'like', 'wont', 'think', 'forgot']\", tags=[4]),\n",
       " TaggedDocument(words=\"['sure', 'stomach', '']\", tags=[5]),\n",
       " TaggedDocument(words=\"['much', 'payed', 'suganya']\", tags=[6]),\n",
       " TaggedDocument(words=\"['buy']\", tags=[7]),\n",
       " TaggedDocument(words=\"['guys', 'go', 'see', 'movies', 'side']\", tags=[8]),\n",
       " TaggedDocument(words=\"['hiya', 'sorry', 'didnt', 'hav', 'signal', 'havent', 'seen', 'heard', 'neither', 'unusual', 'ill', 'put', 'case', 'get', 'sort', 'hugs', 'snogs']\", tags=[9])]"
      ]
     },
     "execution_count": 43,
     "metadata": {},
     "output_type": "execute_result"
    }
   ],
   "source": [
    "# What do these TaggedDocument objects look like?\n",
    "tagged_docs_train[:10]"
   ]
  },
  {
   "cell_type": "code",
   "execution_count": 44,
   "metadata": {},
   "outputs": [],
   "source": [
    "# Train a basic Doc2Vec model on the tagged documents from the training set\n",
    "d2v_model = gensim.models.Doc2Vec(tagged_docs_train,  # Train the model using the tagged documents\n",
    "                                  vector_size=100,    # Dimensionality of the document vectors\n",
    "                                  window=5,           # Maximum distance between the current and predicted word within a sentence\n",
    "                                  min_count=2)        # Ignores all words with a total frequency lower than this"
   ]
  },
  {
   "cell_type": "code",
   "execution_count": 45,
   "metadata": {},
   "outputs": [
    {
     "data": {
      "text/plain": [
       "array([ 4.7672335e-03, -1.1756722e-03,  1.1442238e-03, -3.7218301e-04,\n",
       "       -1.6132352e-03, -3.1529861e-03,  1.3237972e-03, -2.1742838e-03,\n",
       "        3.8445056e-03,  4.5284010e-03, -1.6682592e-03,  2.1407707e-03,\n",
       "       -1.8076327e-03, -4.4403775e-03,  1.0928428e-03,  4.8687998e-03,\n",
       "        3.7439661e-03, -1.8703511e-03, -1.6877562e-04, -1.6261700e-03,\n",
       "       -4.2395829e-03, -2.9984012e-03,  3.7564344e-03,  2.6071965e-04,\n",
       "       -9.5105561e-04,  7.7149033e-04,  4.1518454e-03,  2.2273797e-03,\n",
       "       -2.0551183e-03, -1.8279556e-03, -1.4738968e-03, -4.9612154e-03,\n",
       "        3.0072450e-04,  1.2015379e-03,  2.1103884e-03,  4.1402639e-03,\n",
       "        7.7631115e-04,  3.5621440e-03,  2.9775768e-03, -3.5609484e-03,\n",
       "       -5.5575429e-04,  3.8502933e-04, -4.1961526e-03,  8.9102985e-05,\n",
       "       -2.2784204e-03,  4.6678809e-03, -1.3699100e-03,  2.9188537e-03,\n",
       "       -2.8906334e-03,  3.5036607e-03,  2.8009450e-03, -1.7681653e-03,\n",
       "       -4.5084995e-03, -1.9056856e-03, -1.5000739e-03,  8.9594483e-04,\n",
       "       -1.3463929e-03,  3.8701070e-03,  3.3877175e-03,  9.4764290e-04,\n",
       "       -1.3202750e-03,  2.2905029e-03,  1.1999166e-03, -4.8690517e-03,\n",
       "       -4.2140298e-03, -6.7628920e-04,  2.5358128e-03,  2.5566877e-04,\n",
       "       -4.5824759e-03,  1.1135560e-03,  3.5846932e-03, -2.6890629e-03,\n",
       "       -2.9211885e-03, -1.6929219e-03,  3.3451801e-03,  3.5592198e-04,\n",
       "       -3.4248375e-03, -1.6938737e-03, -1.4981517e-03, -8.8500499e-04,\n",
       "        2.0526862e-03, -4.8175976e-03, -7.1608694e-04, -4.6874741e-03,\n",
       "        2.0610285e-03,  1.6970861e-03, -3.9747353e-03,  2.7592557e-03,\n",
       "        2.2734720e-03,  3.5068763e-03, -4.6314509e-03, -2.0523507e-03,\n",
       "        3.0597192e-03,  1.7832440e-03, -6.6989928e-04, -2.1549431e-03,\n",
       "        1.7840033e-03, -2.7848082e-03, -9.0492365e-04, -2.1062070e-03],\n",
       "      dtype=float32)"
      ]
     },
     "execution_count": 45,
     "metadata": {},
     "output_type": "execute_result"
    }
   ],
   "source": [
    "# Infer the document vectors for the training set\n",
    "train_vectors = [d2v_model.infer_vector(eval(v.words))  # Infer the vector for each document in the training set\n",
    "                 for v in tagged_docs_train]           # Iterate over each TaggedDocument in the training set\n",
    "\n",
    "# Infer the document vectors for the test set\n",
    "test_vectors = [d2v_model.infer_vector(eval(v.words))   # Infer the vector for each document in the test set\n",
    "                for v in tagged_docs_test]            # Iterate over each TaggedDocument in the test set\n",
    "\n",
    "# Display the inferred vector for the first document in the test set\n",
    "test_vectors[0]"
   ]
  },
  {
   "cell_type": "markdown",
   "metadata": {},
   "source": [
    "#### Fit RandomForestClassifier On Top Of Document Vectors"
   ]
  },
  {
   "cell_type": "code",
   "execution_count": 47,
   "metadata": {},
   "outputs": [
    {
     "name": "stdout",
     "output_type": "stream",
     "text": [
      "Precision: 0.984 / Recall: 0.389 / Accuracy: 0.91\n"
     ]
    }
   ],
   "source": [
    "rf = RandomForestClassifier()              # Initialize the RandomForestClassifier\n",
    "\n",
    "rf_model = rf.fit(train_vectors,           # Train the model with the document vectors from the training set\n",
    "                  y_train.values.ravel())  # Flatten the target labels\n",
    "\n",
    "y_pred = rf_model.predict(test_vectors)    # Predict the labels for the test set\n",
    "\n",
    "precision = precision_score(y_test,        # Calculate precision of the predictions\n",
    "                            y_pred)        # Use the true labels and predicted labels\n",
    "\n",
    "recall = recall_score(y_test,              # Calculate recall of the predictions\n",
    "                      y_pred)              # Use the true labels and predicted labels\n",
    "\n",
    "# Print precision, recall, and accuracy\n",
    "print('Precision: {} / Recall: {} / Accuracy: {}'.format(\n",
    "    round(precision, 3),                                     # Round precision to 3 decimal places\n",
    "    round(recall, 3),                                        # Round recall to 3 decimal places\n",
    "    round((y_pred==y_test['label']).sum()/len(y_pred), 3)))  # Calculate and round accuracy to 3 decimal places"
   ]
  },
  {
   "cell_type": "markdown",
   "metadata": {},
   "source": [
    "So we can see a slight improvement in all three metrics over Word2Vec, which again makes sense, based upon the drawbacks that we talked about regarding averaging the word vectors from Word2Vec. With that said, we're still pretty far behind our baseline TFI DF model. So far, adding complexity has not made our model any better. In the next lesson, let's test the most complex model we're considering in this course, and see if that can challenge or beat our baseline model."
   ]
  },
  {
   "cell_type": "markdown",
   "metadata": {},
   "source": [
    "## Build A Basic RNN"
   ]
  },
  {
   "cell_type": "markdown",
   "metadata": {},
   "source": [
    "#### Prep Data"
   ]
  },
  {
   "cell_type": "markdown",
   "metadata": {},
   "source": [
    "Even though our data's already cleaned and tokenized, we still need to fit this tokenizer because it helps us convert the list of tokens into a sequence of numbers where each number represents the index of the word stored in the tokenizer. So we'll fit our tokenizer and then we'll use that tokenizer to convert our training and our test sets to the appropriate format. So what's stored now is a sequence of numbers representing the words in each text message."
   ]
  },
  {
   "cell_type": "code",
   "execution_count": 52,
   "metadata": {},
   "outputs": [],
   "source": [
    "from keras.preprocessing.text import Tokenizer\n",
    "from keras.preprocessing.sequence import pad_sequences\n",
    "\n",
    "tokenizer = Tokenizer()  # Initialize the Tokenizer\n",
    "\n",
    "tokenizer.fit_on_texts(X_train['clean_text'])   # Train the tokenizer on the training text data\n",
    "\n",
    "X_train_seq = tokenizer.texts_to_sequences(X_train['clean_text'])  # Convert training texts to sequences of numbers\n",
    "\n",
    "X_test_seq = tokenizer.texts_to_sequences(X_test['clean_text'])    # Convert test texts to sequences of numbers"
   ]
  },
  {
   "cell_type": "markdown",
   "metadata": {},
   "source": [
    "So then we'll pad those sequences so that each vector is the same length. So a pass in our sequences, X_train_SEQ, and then we need to tell it what length we want all of our vectors to be. We'll use 50 here just as we did before. So again, that says truncate anything that's longer than 50 down to 50 and pad anything that's shorter with zeros. The length of these vectors is usually something you attune by testing different values and seeing how that impacts model performance. "
   ]
  },
  {
   "cell_type": "code",
   "execution_count": 54,
   "metadata": {},
   "outputs": [],
   "source": [
    "X_train_seq_padded = pad_sequences(X_train_seq,  # Pad training sequences to ensure all have length 50\n",
    "                                   50)           # Maximum length of the padded sequences\n",
    "\n",
    "X_test_seq_padded = pad_sequences(X_test_seq,    # Pad test sequences to ensure all have length 50\n",
    "                                  50)            # Maximum length of the padded sequences"
   ]
  },
  {
   "cell_type": "markdown",
   "metadata": {},
   "source": [
    "#### Build And Evaluate RNN"
   ]
  },
  {
   "cell_type": "code",
   "execution_count": 56,
   "metadata": {},
   "outputs": [],
   "source": [
    "# Import the tools needed and use our previously defined functions to calculate precision and recall\n",
    "import keras.backend as K\n",
    "from keras.layers import Dense, Embedding, LSTM\n",
    "from keras.models import Sequential\n",
    "\n",
    "def recall_m(y_true, y_pred):\n",
    "    true_positives = K.sum(K.round(K.clip(y_true * y_pred, 0, 1))) # Calculate the number of true positive predictions\n",
    "    possible_positives = K.sum(K.round(K.clip(y_true, 0, 1)))      # Calculate the total number of actual positives\n",
    "    recall = true_positives / (possible_positives + K.epsilon())   # Compute recall, adding epsilon to avoid division by zero\n",
    "    return recall  # Return the recall value\n",
    "\n",
    "def precision_m(y_true, y_pred):\n",
    "    true_positives = K.sum(K.round(K.clip(y_true * y_pred, 0, 1)))   # Calculate the number of true positive predictions\n",
    "    predicted_positives = K.sum(K.round(K.clip(y_pred, 0, 1)))       # Calculate the total number of predicted positives\n",
    "    precision = true_positives / (predicted_positives + K.epsilon()) # Compute precision, adding epsilon to avoid division by zero\n",
    "    return precision  # Return the precision value"
   ]
  },
  {
   "cell_type": "code",
   "execution_count": 57,
   "metadata": {},
   "outputs": [
    {
     "name": "stdout",
     "output_type": "stream",
     "text": [
      "Model: \"sequential\"\n",
      "_________________________________________________________________\n",
      " Layer (type)                Output Shape              Param #   \n",
      "=================================================================\n",
      " embedding (Embedding)       (None, None, 32)          264672    \n",
      "                                                                 \n",
      " lstm (LSTM)                 (None, 32)                8320      \n",
      "                                                                 \n",
      " dense (Dense)               (None, 32)                1056      \n",
      "                                                                 \n",
      " dense_1 (Dense)             (None, 1)                 33        \n",
      "                                                                 \n",
      "=================================================================\n",
      "Total params: 274081 (1.05 MB)\n",
      "Trainable params: 274081 (1.05 MB)\n",
      "Non-trainable params: 0 (0.00 Byte)\n",
      "_________________________________________________________________\n"
     ]
    }
   ],
   "source": [
    "# Construct a simple RNN model\n",
    "model = Sequential()  # Initialize a Sequential model\n",
    "\n",
    "model.add(Embedding(len(tokenizer.index_word)+1,  # Add an Embedding layer with vocab size (based on tokenizer)\n",
    "                    32))                          # Embedding dimensions set to 32\n",
    "\n",
    "model.add(LSTM(32,                    # Add an LSTM layer with 32 units\n",
    "               dropout=0,             # No dropout for the input connections\n",
    "               recurrent_dropout=0))  # No dropout for the recurrent state\n",
    "\n",
    "model.add(Dense(32,                  # Add a Dense layer with 32 units\n",
    "                activation='relu'))  # Use ReLU activation for non-linearity\n",
    "\n",
    "model.add(Dense(1,                      # Add a final Dense layer with 1 unit\n",
    "                activation='sigmoid'))  # Use sigmoid activation for binary classification\n",
    "\n",
    "model.summary()  # Print the model summary to show the layer details"
   ]
  },
  {
   "cell_type": "code",
   "execution_count": 58,
   "metadata": {},
   "outputs": [],
   "source": [
    "# Compile the model\n",
    "model.compile(optimizer='adam',                             # Set the optimizer to Adam\n",
    "              loss='binary_crossentropy',                   # Set the loss function to binary cross-entropy for binary classification\n",
    "              metrics=['accuracy', precision_m, recall_m])  # Evaluate the model using accuracy, precision, and recall metrics"
   ]
  },
  {
   "cell_type": "code",
   "execution_count": 59,
   "metadata": {},
   "outputs": [
    {
     "name": "stdout",
     "output_type": "stream",
     "text": [
      "Epoch 1/10\n",
      "140/140 [==============================] - 4s 12ms/step - loss: 0.2740 - accuracy: 0.9078 - precision_m: 0.4579 - recall_m: 0.3536 - val_loss: 0.1101 - val_accuracy: 0.9767 - val_precision_m: 0.9905 - val_recall_m: 0.8479\n",
      "Epoch 2/10\n",
      "140/140 [==============================] - 1s 9ms/step - loss: 0.0359 - accuracy: 0.9904 - precision_m: 0.9609 - recall_m: 0.9431 - val_loss: 0.0781 - val_accuracy: 0.9794 - val_precision_m: 0.9667 - val_recall_m: 0.8794\n",
      "Epoch 3/10\n",
      "140/140 [==============================] - 1s 9ms/step - loss: 0.0082 - accuracy: 0.9984 - precision_m: 0.9771 - recall_m: 0.9667 - val_loss: 0.1000 - val_accuracy: 0.9803 - val_precision_m: 0.9810 - val_recall_m: 0.8723\n",
      "Epoch 4/10\n",
      "140/140 [==============================] - 1s 9ms/step - loss: 0.0032 - accuracy: 0.9996 - precision_m: 0.9857 - recall_m: 0.9835 - val_loss: 0.1156 - val_accuracy: 0.9812 - val_precision_m: 0.9905 - val_recall_m: 0.8723\n",
      "Epoch 5/10\n",
      "140/140 [==============================] - 1s 10ms/step - loss: 0.0020 - accuracy: 0.9996 - precision_m: 0.9929 - recall_m: 0.9887 - val_loss: 0.1211 - val_accuracy: 0.9812 - val_precision_m: 0.9905 - val_recall_m: 0.8723\n",
      "Epoch 6/10\n",
      "140/140 [==============================] - 1s 9ms/step - loss: 4.3374e-04 - accuracy: 1.0000 - precision_m: 0.9714 - recall_m: 0.9714 - val_loss: 0.1162 - val_accuracy: 0.9812 - val_precision_m: 0.9905 - val_recall_m: 0.8723\n",
      "Epoch 7/10\n",
      "140/140 [==============================] - 1s 9ms/step - loss: 1.5768e-04 - accuracy: 1.0000 - precision_m: 0.9786 - recall_m: 0.9786 - val_loss: 0.1262 - val_accuracy: 0.9812 - val_precision_m: 0.9905 - val_recall_m: 0.8723\n",
      "Epoch 8/10\n",
      "140/140 [==============================] - 1s 9ms/step - loss: 1.0532e-04 - accuracy: 1.0000 - precision_m: 0.9786 - recall_m: 0.9786 - val_loss: 0.1319 - val_accuracy: 0.9812 - val_precision_m: 0.9905 - val_recall_m: 0.8723\n",
      "Epoch 9/10\n",
      "140/140 [==============================] - 1s 9ms/step - loss: 7.9566e-05 - accuracy: 1.0000 - precision_m: 0.9786 - recall_m: 0.9786 - val_loss: 0.1294 - val_accuracy: 0.9812 - val_precision_m: 0.9905 - val_recall_m: 0.8723\n",
      "Epoch 10/10\n",
      "140/140 [==============================] - 1s 9ms/step - loss: 5.7542e-05 - accuracy: 1.0000 - precision_m: 0.9857 - recall_m: 0.9857 - val_loss: 0.1395 - val_accuracy: 0.9812 - val_precision_m: 0.9905 - val_recall_m: 0.8723\n"
     ]
    }
   ],
   "source": [
    "# Fit the RNN model\n",
    "history = model.fit(X_train_seq_padded,                           # Training data (padded sequences)\n",
    "                    y_train,                                      # Training labels\n",
    "                    batch_size=32,                                # Number of samples per gradient update\n",
    "                    epochs=10,                                    # Number of epochs to train the model\n",
    "                    validation_data=(X_test_seq_padded, y_test))  # Validation data to evaluate the model after each epoch"
   ]
  },
  {
   "cell_type": "markdown",
   "metadata": {},
   "source": [
    "So let's use our validation metrics from our last epoch. This isn't always the best gauge, but it helps us get a feel for how well our model's performing. And you could see that our **precision** on our validation data or our test data is 98%. Our **recall** is 92% and our **accuracy** is 98%. So that's pretty good. That beats our baseline TFIDF model by a little bit, and it blows Word2Vec and Doc2Vec out of the water. \n",
    "\n",
    "Lastly, let's plot our metrics by epoch. "
   ]
  },
  {
   "cell_type": "code",
   "execution_count": 61,
   "metadata": {},
   "outputs": [
    {
     "data": {
      "image/png": "[encoded data removed]",
      "text/plain": [
       "<Figure size 640x480 with 1 Axes>"
      ]
     },
     "metadata": {},
     "output_type": "display_data"
    },
    {
     "data": {
      "image/png": "[encoded data removed]",
      "text/plain": [
       "<Figure size 640x480 with 1 Axes>"
      ]
     },
     "metadata": {},
     "output_type": "display_data"
    },
    {
     "data": {
      "image/png": "[encoded data removed]",
      "text/plain": [
       "<Figure size 640x480 with 1 Axes>"
      ]
     },
     "metadata": {},
     "output_type": "display_data"
    }
   ],
   "source": [
    "# Plot the evaluation metrics by each epoch for the model to see if we are over or underfitting\n",
    "import matplotlib.pyplot as plt\n",
    "\n",
    "# Iterate over the metrics to plot their values\n",
    "for i in ['accuracy', 'precision_m', 'recall_m']:\n",
    "    acc = history.history[i]                       # Training metric values\n",
    "    val_acc = history.history['val_{}'.format(i)]  # Validation metric values\n",
    "    epochs = range(1, len(acc) + 1)                # Range of epoch numbers\n",
    "\n",
    "    plt.figure()                                            # Create a new figure for each plot\n",
    "    plt.plot(epochs, acc, label='Training Accuracy')        # Plot training metric values\n",
    "    plt.plot(epochs, val_acc, label='Validation Accuracy')  # Plot validation metric values\n",
    "    plt.title('Results for {}'.format(i))                   # Set plot title\n",
    "    plt.legend()                                            # Add a legend to the plot\n",
    "    plt.show()                                              # Display the plot"
   ]
  },
  {
   "cell_type": "markdown",
   "metadata": {},
   "source": [
    "As I mentioned before, this is useful to see how many epochs are really needed, and if we're under fitting or over fitting. Your training accuracy will always improve at each epoch, but what we really care about is whether the validation metrics are improving with each epoch. And as we saw in the chapter on RNNs, it's not really improving as we add additional epochs, so we probably could've cut this short. With the amount of data that we're training on, it doesn't make a huge difference because this train's pretty fast. But if you're talking about millions of rows of data, you don't want to be training 10 epochs when you could get away with two epochs. "
   ]
  },
  {
   "cell_type": "markdown",
   "metadata": {},
   "source": [
    "## Conclusion"
   ]
  },
  {
   "cell_type": "markdown",
   "metadata": {},
   "source": [
    "<center>\n",
    "    <img src=\"images/compare.png\" width=\"900\" />\n",
    "</center>"
   ]
  },
  {
   "cell_type": "markdown",
   "metadata": {},
   "source": [
    "Now, this is an important case study in how you weight performance and precision versus recall. On the surface, the RNN has better recall and accuracy, so the slight drop in precision relative to TF-IDF is tolerable. However, model selection really depends on the problem you're trying to solve and the cost of different types of errors. \n",
    "\n",
    "For instance, on a problem like **fraud detection**, you should optimize for *recall* because you don't want to miss any real fraud. But for a problem like **spam filtering**, you should optimize for *precision*. In other words, I can handle the model allowing some spam into my inbox, but if it classifies a real message as spam, and I never see it, I won't be happy. So we should optimize for precision here, and with 100% precision, it's hard to beat TF-IDF. And with the relative simplicity of that TF-IDF model, I would probably choose that model for the spam filtering task."
   ]
  }
 ],
 "metadata": {
  "kernelspec": {
   "display_name": "Python 3 (ipykernel)",
   "language": "python",
   "name": "python3"
  },
  "language_info": {
   "codemirror_mode": {
    "name": "ipython",
    "version": 3
   },
   "file_extension": ".py",
   "mimetype": "text/x-python",
   "name": "python",
   "nbconvert_exporter": "python",
   "pygments_lexer": "ipython3",
   "version": "3.11.7"
  }
 },
 "nbformat": 4,
 "nbformat_minor": 4
}
