{
 "cells": [
  {
   "cell_type": "markdown",
   "metadata": {},
   "source": [
    "# Accessing Text Corpora"
   ]
  },
  {
   "cell_type": "markdown",
   "metadata": {},
   "source": [
    "Practical work in Natural Language Processing typically uses large bodies of linguistic\n",
    "data, or **corpora**."
   ]
  },
  {
   "cell_type": "code",
   "execution_count": 3,
   "metadata": {},
   "outputs": [
    {
     "name": "stdout",
     "output_type": "stream",
     "text": [
      "*** Introductory Examples for the NLTK Book ***\n",
      "Loading text1, ..., text9 and sent1, ..., sent9\n",
      "Type the name of the text or sentence to view it.\n",
      "Type: 'texts()' or 'sents()' to list the materials.\n",
      "text1: Moby Dick by Herman Melville 1851\n",
      "text2: Sense and Sensibility by Jane Austen 1811\n",
      "text3: The Book of Genesis\n",
      "text4: Inaugural Address Corpus\n",
      "text5: Chat Corpus\n",
      "text6: Monty Python and the Holy Grail\n",
      "text7: Wall Street Journal\n",
      "text8: Personals Corpus\n",
      "text9: The Man Who Was Thursday by G . K . Chesterton 1908\n"
     ]
    }
   ],
   "source": [
    "import nltk\n",
    "from nltk.book import *"
   ]
  },
  {
   "cell_type": "markdown",
   "metadata": {},
   "source": [
    "## Gutenberg Corpus"
   ]
  },
  {
   "cell_type": "markdown",
   "metadata": {},
   "source": [
    "contains 25000 free e-books."
   ]
  },
  {
   "cell_type": "code",
   "execution_count": 6,
   "metadata": {},
   "outputs": [
    {
     "name": "stdout",
     "output_type": "stream",
     "text": [
      "['austen-emma.txt', 'austen-persuasion.txt', 'austen-sense.txt', 'bible-kjv.txt', 'blake-poems.txt', 'bryant-stories.txt', 'burgess-busterbrown.txt', 'carroll-alice.txt', 'chesterton-ball.txt', 'chesterton-brown.txt', 'chesterton-thursday.txt', 'edgeworth-parents.txt', 'melville-moby_dick.txt', 'milton-paradise.txt', 'shakespeare-caesar.txt', 'shakespeare-hamlet.txt', 'shakespeare-macbeth.txt', 'whitman-leaves.txt']\n"
     ]
    }
   ],
   "source": [
    "print(nltk.corpus.gutenberg.fileids())"
   ]
  },
  {
   "cell_type": "code",
   "execution_count": 7,
   "metadata": {},
   "outputs": [
    {
     "data": {
      "text/plain": [
       "192427"
      ]
     },
     "execution_count": 7,
     "metadata": {},
     "output_type": "execute_result"
    }
   ],
   "source": [
    "#lets choose one of them\n",
    "emma = nltk.corpus.gutenberg.words('austen-emma.txt')\n",
    "\n",
    "#print the length of austen-emma.txt\n",
    "len(emma)"
   ]
  },
  {
   "cell_type": "code",
   "execution_count": 8,
   "metadata": {},
   "outputs": [
    {
     "name": "stdout",
     "output_type": "stream",
     "text": [
      "4 24 26 austen-emma.txt \n",
      "4 26 16 austen-persuasion.txt \n",
      "4 28 22 austen-sense.txt \n",
      "4 33 79 bible-kjv.txt \n",
      "4 19 5 blake-poems.txt \n",
      "4 19 14 bryant-stories.txt \n",
      "4 17 12 burgess-busterbrown.txt \n",
      "4 20 12 carroll-alice.txt \n",
      "4 20 11 chesterton-ball.txt \n",
      "4 22 11 chesterton-brown.txt \n",
      "4 18 10 chesterton-thursday.txt \n",
      "4 20 24 edgeworth-parents.txt \n",
      "4 25 15 melville-moby_dick.txt \n",
      "4 52 10 milton-paradise.txt \n",
      "4 11 8 shakespeare-caesar.txt \n",
      "4 12 7 shakespeare-hamlet.txt \n",
      "4 12 6 shakespeare-macbeth.txt \n",
      "4 36 12 whitman-leaves.txt \n"
     ]
    }
   ],
   "source": [
    "# Loop through each file in the Gutenberg corpus\n",
    "for fileid in gutenberg.fileids():\n",
    "    \n",
    "    num_char = len(gutenberg.raw(fileid))        # Calculate the total number of characters in the file  \n",
    "    num_words = len(gutenberg.words(fileid))     # Calculate the total number of words in the file\n",
    "    num_sentance = len(gutenberg.sents(fileid))  # Calculate the total number of sentences in the file\n",
    "    num_vocab = len(set([w.lower() for w in gutenberg.words(fileid)]))  # Calculate the vocabulary size (unique words), ignoring case sensitivity\n",
    "    \n",
    "    # Print the average number of characters per word, words per sentence, \n",
    "    # and the ratio of words to unique vocabulary\n",
    "    print('{} {} {} {} '.format(\n",
    "        int(num_char / num_words),        # Average characters per word\n",
    "        int(num_words / num_sentance),    # Average words per sentence\n",
    "        int(num_words / num_vocab),       # Average word frequency (word-to-vocab ratio)\n",
    "        fileid))                          # Print the file name"
   ]
  },
  {
   "cell_type": "code",
   "execution_count": 9,
   "metadata": {},
   "outputs": [
    {
     "name": "stdout",
     "output_type": "stream",
     "text": [
      "[['[', 'The', 'Tragedie', 'of', 'Macbeth', 'by', 'William', 'Shakespeare', '1603', ']'], ['Actus', 'Primus', '.'], ['Scoena', 'Prima', '.'], ['Thunder', 'and', 'Lightning', '.'], ['Enter', 'three', 'Witches', '.'], ['1', '.'], ['When', 'shall', 'we', 'three', 'meet', 'againe', '?'], ['In', 'Thunder', ',', 'Lightning', ',', 'or', 'in', 'Raine', '?'], ['2', '.'], ['When', 'the', 'Hurley', '-', 'burley', \"'\", 's', 'done', ',', 'When', 'the', 'Battaile', \"'\", 's', 'lost', ',', 'and', 'wonne']]\n"
     ]
    }
   ],
   "source": [
    "#print first 10 sentance from shakespeare-macbeth.txt \n",
    "macbeth_sentance = gutenberg.sents('shakespeare-macbeth.txt')\n",
    "print(macbeth_sentance[:10])"
   ]
  },
  {
   "cell_type": "code",
   "execution_count": 10,
   "metadata": {},
   "outputs": [
    {
     "name": "stdout",
     "output_type": "stream",
     "text": [
      "[ The Tragedie of Macbeth by William Shakespeare 1603 ]\n",
      "Actus Primus .\n",
      "Scoena Prima .\n",
      "Thunder and Lightning .\n",
      "Enter three Witches .\n",
      "1 .\n",
      "When shall we three meet againe ?\n",
      "In Thunder , Lightning , or in Raine ?\n",
      "2 .\n",
      "When the Hurley - burley ' s done , When the Battaile ' s lost , and wonne\n"
     ]
    }
   ],
   "source": [
    "macbeth_sentences = gutenberg.sents('shakespeare-macbeth.txt')  # Get sentences from Macbeth\n",
    "\n",
    "# Loop through the first 10 sentences and print them as normal sentences\n",
    "for sentence in macbeth_sentences[:10]:\n",
    "    print(' '.join(sentence))   # Join the words in each sentence with spaces"
   ]
  },
  {
   "cell_type": "code",
   "execution_count": 11,
   "metadata": {},
   "outputs": [
    {
     "name": "stdout",
     "output_type": "stream",
     "text": [
      "Longest length :: 158\n",
      "\n",
      "[['Doubtfull', 'it', 'stood', ',', 'As', 'two', 'spent', 'Swimmers', ',', 'that', 'doe', 'cling', 'together', ',', 'And', 'choake', 'their', 'Art', ':', 'The', 'mercilesse', 'Macdonwald', '(', 'Worthie', 'to', 'be', 'a', 'Rebell', ',', 'for', 'to', 'that', 'The', 'multiplying', 'Villanies', 'of', 'Nature', 'Doe', 'swarme', 'vpon', 'him', ')', 'from', 'the', 'Westerne', 'Isles', 'Of', 'Kernes', 'and', 'Gallowgrosses', 'is', 'supply', \"'\", 'd', ',', 'And', 'Fortune', 'on', 'his', 'damned', 'Quarry', 'smiling', ',', 'Shew', \"'\", 'd', 'like', 'a', 'Rebells', 'Whore', ':', 'but', 'all', \"'\", 's', 'too', 'weake', ':', 'For', 'braue', 'Macbeth', '(', 'well', 'hee', 'deserues', 'that', 'Name', ')', 'Disdayning', 'Fortune', ',', 'with', 'his', 'brandisht', 'Steele', ',', 'Which', 'smoak', \"'\", 'd', 'with', 'bloody', 'execution', '(', 'Like', 'Valours', 'Minion', ')', 'caru', \"'\", 'd', 'out', 'his', 'passage', ',', 'Till', 'hee', 'fac', \"'\", 'd', 'the', 'Slaue', ':', 'Which', 'neu', \"'\", 'r', 'shooke', 'hands', ',', 'nor', 'bad', 'farwell', 'to', 'him', ',', 'Till', 'he', 'vnseam', \"'\", 'd', 'him', 'from', 'the', 'Naue', 'toth', \"'\", 'Chops', ',', 'And', 'fix', \"'\", 'd', 'his', 'Head', 'vpon', 'our', 'Battlements']]\n"
     ]
    }
   ],
   "source": [
    "# Get the sentences from 'shakespeare-macbeth.txt'\n",
    "macbeth_sentences = gutenberg.sents('shakespeare-macbeth.txt')\n",
    "\n",
    "# Find the length of the longest sentence by checking the number of tokens in each sentence\n",
    "longest_len = max([len(s) for s in macbeth_sentences])  # Get the max sentence length\n",
    "\n",
    "# Print the longest length\n",
    "print('Longest length :: {}\\n'.format(longest_len))\n",
    "\n",
    "# Find and print the sentence(s) that have the longest length\n",
    "longest_sentence = [s for s in macbeth_sentences if len(s) == longest_len]\n",
    "print(longest_sentence)  # Print the longest sentence(s)"
   ]
  },
  {
   "cell_type": "code",
   "execution_count": 12,
   "metadata": {},
   "outputs": [
    {
     "name": "stdout",
     "output_type": "stream",
     "text": [
      "Doubtfull it stood , As two spent Swimmers , that doe cling together , And choake their Art : The mercilesse Macdonwald ( Worthie to be a Rebell , for to that The multiplying Villanies of Nature Doe swarme vpon him ) from the Westerne Isles Of Kernes and Gallowgrosses is supply ' d , And Fortune on his damned Quarry smiling , Shew ' d like a Rebells Whore : but all ' s too weake : For braue Macbeth ( well hee deserues that Name ) Disdayning Fortune , with his brandisht Steele , Which smoak ' d with bloody execution ( Like Valours Minion ) caru ' d out his passage , Till hee fac ' d the Slaue : Which neu ' r shooke hands , nor bad farwell to him , Till he vnseam ' d him from the Naue toth ' Chops , And fix ' d his Head vpon our Battlements\n"
     ]
    }
   ],
   "source": [
    "for word in longest_sentence:\n",
    "    print(' '.join(word))   # Join the words in each sentence with spaces"
   ]
  },
  {
   "cell_type": "code",
   "execution_count": 13,
   "metadata": {},
   "outputs": [
    {
     "name": "stdout",
     "output_type": "stream",
     "text": [
      "Doubtfull it stood, As two spent Swimmers, that doe cling together, And choake their Art:The mercilesse Macdonwald (Worthie to be a Rebell, for to that The multiplying Villanies of Nature Doe swarme vpon him) from the Westerne Isles Of Kernes and Gallowgrosses is supply'd, And Fortune on his damned Quarry smiling, Shew'd like a Rebells Whore:but all's too weake:For braue Macbeth (well hee deserues that Name) Disdayning Fortune, with his brandisht Steele, Which smoak'd with bloody execution (Like Valours Minion) caru'd out his passage, Till hee fac'd the Slaue:Which neu'r shooke hands, nor bad farwell to him, Till he vnseam'd him from the Naue toth'Chops, And fix'd his Head vpon our Battlements.\n"
     ]
    }
   ],
   "source": [
    "# Iterate through each sentence in the longest_sentence list\n",
    "for word in longest_sentence:\n",
    "    \n",
    "    sentence = ' '.join(word)  # Join words with spaces\n",
    "    \n",
    "    # Remove spaces before some special characters \n",
    "    sentence = sentence.replace(' ,', ',').replace(' .', '.').replace(' , ', ', ').replace(' )', ')').replace('( ', '(')\n",
    "    sentence = sentence.replace(' : ', ':').replace(\" ' \", \"'\")\n",
    "    sentence = sentence + '.'\n",
    "    \n",
    "    print(sentence)            # Print the cleaned sentence"
   ]
  },
  {
   "cell_type": "markdown",
   "metadata": {},
   "source": [
    "## Web and Chat text\n"
   ]
  },
  {
   "cell_type": "code",
   "execution_count": 15,
   "metadata": {},
   "outputs": [
    {
     "name": "stdout",
     "output_type": "stream",
     "text": [
      "firefox.txt Cookie Manager: \"Don't allow sites that set removed cookies to se\n",
      "grail.txt SCENE 1: [wind] [clop clop clop] \n",
      "KING ARTHUR: Whoa there!  [clop\n",
      "overheard.txt White guy: So, do you have any plans for this evening?\n",
      "Asian girl\n",
      "pirates.txt PIRATES OF THE CARRIBEAN: DEAD MAN'S CHEST, by Ted Elliott & Terr\n",
      "singles.txt 25 SEXY MALE, seeks attrac older single lady, for discreet encoun\n",
      "wine.txt Lovely delicate, fragrant Rhone wine. Polished leather and strawb\n"
     ]
    }
   ],
   "source": [
    "from nltk.corpus import webtext\n",
    "\n",
    "for fileid in webtext.fileids():\n",
    "    print(fileid, webtext.raw(fileid)[:65])"
   ]
  },
  {
   "cell_type": "code",
   "execution_count": 16,
   "metadata": {},
   "outputs": [
    {
     "data": {
      "text/plain": [
       "['adventure',\n",
       " 'belles_lettres',\n",
       " 'editorial',\n",
       " 'fiction',\n",
       " 'government',\n",
       " 'hobbies',\n",
       " 'humor',\n",
       " 'learned',\n",
       " 'lore',\n",
       " 'mystery',\n",
       " 'news',\n",
       " 'religion',\n",
       " 'reviews',\n",
       " 'romance',\n",
       " 'science_fiction']"
      ]
     },
     "execution_count": 16,
     "metadata": {},
     "output_type": "execute_result"
    }
   ],
   "source": [
    "from nltk.corpus import brown\n",
    "\n",
    "brown.categories()"
   ]
  },
  {
   "cell_type": "code",
   "execution_count": 17,
   "metadata": {},
   "outputs": [
    {
     "data": {
      "text/plain": [
       "['The', 'Fulton', 'County', 'Grand', 'Jury', 'said', ...]"
      ]
     },
     "execution_count": 17,
     "metadata": {},
     "output_type": "execute_result"
    }
   ],
   "source": [
    "brown.words(categories='news')"
   ]
  },
  {
   "cell_type": "code",
   "execution_count": 18,
   "metadata": {},
   "outputs": [
    {
     "data": {
      "text/plain": [
       "['Does', 'our', 'society', 'have', 'a', 'runaway', ',', ...]"
      ]
     },
     "execution_count": 18,
     "metadata": {},
     "output_type": "execute_result"
    }
   ],
   "source": [
    "brown.words(fileids=['cg22'])"
   ]
  },
  {
   "cell_type": "code",
   "execution_count": 19,
   "metadata": {},
   "outputs": [
    {
     "data": {
      "text/plain": [
       "[['The', 'Fulton', 'County', 'Grand', 'Jury', 'said', 'Friday', 'an', 'investigation', 'of', \"Atlanta's\", 'recent', 'primary', 'election', 'produced', '``', 'no', 'evidence', \"''\", 'that', 'any', 'irregularities', 'took', 'place', '.'], ['The', 'jury', 'further', 'said', 'in', 'term-end', 'presentments', 'that', 'the', 'City', 'Executive', 'Committee', ',', 'which', 'had', 'over-all', 'charge', 'of', 'the', 'election', ',', '``', 'deserves', 'the', 'praise', 'and', 'thanks', 'of', 'the', 'City', 'of', 'Atlanta', \"''\", 'for', 'the', 'manner', 'in', 'which', 'the', 'election', 'was', 'conducted', '.'], ...]"
      ]
     },
     "execution_count": 19,
     "metadata": {},
     "output_type": "execute_result"
    }
   ],
   "source": [
    "brown.sents(categories=['news', 'editorial', 'reviews'])"
   ]
  },
  {
   "cell_type": "code",
   "execution_count": 20,
   "metadata": {},
   "outputs": [
    {
     "name": "stdout",
     "output_type": "stream",
     "text": [
      "can: 94\n",
      "could: 87\n",
      "may: 93\n",
      "might: 38\n",
      "must: 53\n",
      "will: 389\n"
     ]
    }
   ],
   "source": [
    "from nltk.corpus import brown  # Import the Brown corpus from NLTK\n",
    "\n",
    "# Get the words from the 'news' category of the Brown corpus\n",
    "news_text = brown.words(categories='news')\n",
    "\n",
    "# Create a frequency distribution of words (converted to lowercase)\n",
    "fdist = nltk.FreqDist([w.lower() for w in news_text])\n",
    "\n",
    "# Define a list of modals to check their frequencies in the text\n",
    "modals = ['can', 'could', 'may', 'might', 'must', 'will']\n",
    "\n",
    "# Loop through the modals and print their frequencies in the news text\n",
    "for m in modals:\n",
    "    print(m + ':', fdist[m])  # Print the modal and its frequency in the text"
   ]
  },
  {
   "cell_type": "code",
   "execution_count": 21,
   "metadata": {},
   "outputs": [
    {
     "name": "stdout",
     "output_type": "stream",
     "text": [
      "what: 95\n",
      "when: 169\n",
      "who: 268\n",
      "why: 14\n",
      "where: 59\n"
     ]
    }
   ],
   "source": [
    "# Define a list of pronouns to check their frequencies in the text\n",
    "pwh = ['what', 'when', 'who', 'why', 'where']\n",
    "\n",
    "# Loop through the modals and print their frequencies in the news text\n",
    "for m in pwh:\n",
    "    print(m + ':', fdist[m])  # Print the modal and its frequency in the text"
   ]
  },
  {
   "cell_type": "code",
   "execution_count": 22,
   "metadata": {},
   "outputs": [
    {
     "name": "stdout",
     "output_type": "stream",
     "text": [
      "                  can could   may might  must  will \n",
      "           news    93    86    66    38    50   389 \n",
      "       religion    82    59    78    12    54    71 \n",
      "        hobbies   268    58   131    22    83   264 \n",
      "science_fiction    16    49     4    12     8    16 \n",
      "        romance    74   193    11    51    45    43 \n",
      "          humor    16    30     8     8     9    13 \n"
     ]
    }
   ],
   "source": [
    "# Create a Conditional Frequency Distribution (CFD) where the conditions are genres and the samples are words\n",
    "cfd = nltk.ConditionalFreqDist(\n",
    "    (genre, word)                              # Create pairs of (genre, word)\n",
    "    for genre in brown.categories()            # Loop through all genres in the Brown corpus\n",
    "    for word in brown.words(categories=genre)  # Loop through all words in each genre\n",
    "    )\n",
    "\n",
    "# Define the genres of interest\n",
    "genres = ['news', 'religion', 'hobbies', 'science_fiction', 'romance', 'humor']\n",
    "\n",
    "# Define the modal verbs of interest\n",
    "modals = ['can', 'could', 'may', 'might', 'must', 'will']\n",
    "\n",
    "# Tabulate the frequencies of the modals in the selected genres\n",
    "cfd.tabulate(conditions=genres, samples=modals)"
   ]
  },
  {
   "cell_type": "code",
   "execution_count": 23,
   "metadata": {},
   "outputs": [
    {
     "data": {
      "text/plain": [
       "['test/14826', 'test/14828', 'test/14829', 'test/14832', 'test/14833']"
      ]
     },
     "execution_count": 23,
     "metadata": {},
     "output_type": "execute_result"
    }
   ],
   "source": [
    "from nltk.corpus import reuters\n",
    "\n",
    "reuters.fileids()[:5]"
   ]
  },
  {
   "cell_type": "code",
   "execution_count": 24,
   "metadata": {},
   "outputs": [
    {
     "data": {
      "text/plain": [
       "['acq',\n",
       " 'alum',\n",
       " 'barley',\n",
       " 'bop',\n",
       " 'carcass',\n",
       " 'castor-oil',\n",
       " 'cocoa',\n",
       " 'coconut',\n",
       " 'coconut-oil',\n",
       " 'coffee']"
      ]
     },
     "execution_count": 24,
     "metadata": {},
     "output_type": "execute_result"
    }
   ],
   "source": [
    "reuters.categories()[:10]"
   ]
  },
  {
   "cell_type": "code",
   "execution_count": 25,
   "metadata": {},
   "outputs": [
    {
     "data": {
      "text/plain": [
       "['barley', 'corn', 'grain', 'wheat']"
      ]
     },
     "execution_count": 25,
     "metadata": {},
     "output_type": "execute_result"
    }
   ],
   "source": [
    "reuters.categories('training/9865')"
   ]
  },
  {
   "cell_type": "code",
   "execution_count": 26,
   "metadata": {},
   "outputs": [
    {
     "data": {
      "text/plain": [
       "['barley', 'corn', 'grain', 'money-fx', 'wheat']"
      ]
     },
     "execution_count": 26,
     "metadata": {},
     "output_type": "execute_result"
    }
   ],
   "source": [
    "reuters.categories(['training/9865', 'training/9880'])"
   ]
  },
  {
   "cell_type": "code",
   "execution_count": 27,
   "metadata": {},
   "outputs": [
    {
     "data": {
      "text/plain": [
       "['test/15618', 'test/15649', 'test/15676', 'test/15728', 'test/15871']"
      ]
     },
     "execution_count": 27,
     "metadata": {},
     "output_type": "execute_result"
    }
   ],
   "source": [
    "reuters.fileids('barley')[:5]"
   ]
  },
  {
   "cell_type": "code",
   "execution_count": 28,
   "metadata": {},
   "outputs": [
    {
     "data": {
      "text/plain": [
       "['test/14832', 'test/14858', 'test/15033', 'test/15043', 'test/15106']"
      ]
     },
     "execution_count": 28,
     "metadata": {},
     "output_type": "execute_result"
    }
   ],
   "source": [
    "reuters.fileids(['barley', 'corn'])[:5]"
   ]
  },
  {
   "cell_type": "code",
   "execution_count": 29,
   "metadata": {},
   "outputs": [
    {
     "data": {
      "text/plain": [
       "['FRENCH',\n",
       " 'FREE',\n",
       " 'MARKET',\n",
       " 'CEREAL',\n",
       " 'EXPORT',\n",
       " 'BIDS',\n",
       " 'DETAILED',\n",
       " 'French',\n",
       " 'operators',\n",
       " 'have',\n",
       " 'requested',\n",
       " 'licences',\n",
       " 'to',\n",
       " 'export']"
      ]
     },
     "execution_count": 29,
     "metadata": {},
     "output_type": "execute_result"
    }
   ],
   "source": [
    "reuters.words('training/9865')[:14]"
   ]
  },
  {
   "cell_type": "code",
   "execution_count": 30,
   "metadata": {},
   "outputs": [
    {
     "data": {
      "text/plain": [
       "['FRENCH', 'FREE', 'MARKET', 'CEREAL', 'EXPORT', ...]"
      ]
     },
     "execution_count": 30,
     "metadata": {},
     "output_type": "execute_result"
    }
   ],
   "source": [
    "reuters.words(['training/9865', 'training/9880'])"
   ]
  },
  {
   "cell_type": "code",
   "execution_count": 31,
   "metadata": {},
   "outputs": [
    {
     "data": {
      "image/png": "[encoded data removed]",
      "text/plain": [
       "<Figure size 640x480 with 1 Axes>"
      ]
     },
     "metadata": {},
     "output_type": "display_data"
    }
   ],
   "source": [
    "from nltk.corpus import udhr  # Import the Universal Declaration of Human Rights corpus from NLTK\n",
    "\n",
    "# List of languages you want to analyze\n",
    "languages = ['Chickasaw', 'English', 'German_Deutsch', 'Greenlandic_Inuktikut', 'Hungarian_Magyar', 'Ibibio_Efik']\n",
    "\n",
    "# Create a Conditional Frequency Distribution (CFD) where the conditions are languages and the samples are word lengths\n",
    "cfd = nltk.ConditionalFreqDist(\n",
    "    (lang, len(word))                         # Pair each language with the length of each word\n",
    "    for lang in languages                     # Loop through the selected languages\n",
    "    for word in udhr.words(lang + '-Latin1')  # Loop through words in the UDHR corpus for each language\n",
    ")\n",
    "\n",
    "# Plot the cumulative frequency distribution for word lengths across languages\n",
    "cfd.plot(cumulative=True);"
   ]
  },
  {
   "cell_type": "code",
   "execution_count": 32,
   "metadata": {},
   "outputs": [
    {
     "data": {
      "image/png": "[encoded data removed]",
      "text/plain": [
       "<Figure size 1200x800 with 1 Axes>"
      ]
     },
     "metadata": {},
     "output_type": "display_data"
    }
   ],
   "source": [
    "import matplotlib.pyplot as plt  # Import the matplotlib library for plotting\n",
    "from nltk.corpus import udhr     # Import the Universal Declaration of Human Rights corpus from NLTK\n",
    "\n",
    "# List of languages you want to analyze\n",
    "languages = ['Chickasaw', 'English', 'German_Deutsch', 'Greenlandic_Inuktikut', 'Hungarian_Magyar', 'Ibibio_Efik']\n",
    "\n",
    "# Create a Conditional Frequency Distribution (CFD) where the conditions are languages and the samples are word lengths\n",
    "cfd = nltk.ConditionalFreqDist(\n",
    "    (lang, len(word))                         # Pair each language with the length of each word\n",
    "    for lang in languages                     # Loop through the selected languages\n",
    "    for word in udhr.words(lang + '-Latin1')  # Loop through words in the UDHR corpus for each language\n",
    ")\n",
    "\n",
    "# Set up a larger plot size using plt.figure() and specify width and height\n",
    "plt.figure(figsize=(12, 8))\n",
    "\n",
    "# Plot the cumulative frequency distribution for word lengths across languages\n",
    "cfd.plot(cumulative=True)\n",
    "\n",
    "plt.show()  # Display the plot"
   ]
  },
  {
   "cell_type": "markdown",
   "metadata": {},
   "source": [
    "* 1 on the X-axis represents words that are 1 character long.\n",
    "* 2 represents words that are 2 characters long, and so on.\n",
    "\n",
    "  Cumulative!"
   ]
  },
  {
   "cell_type": "code",
   "execution_count": 34,
   "metadata": {},
   "outputs": [],
   "source": [
    "#nltk.corpus.udhr.fileids()"
   ]
  },
  {
   "cell_type": "code",
   "execution_count": 35,
   "metadata": {},
   "outputs": [
    {
     "data": {
      "image/png": "[encoded data removed]",
      "text/plain": [
       "<Figure size 1200x800 with 1 Axes>"
      ]
     },
     "metadata": {},
     "output_type": "display_data"
    }
   ],
   "source": [
    "import matplotlib.pyplot as plt  # Import the matplotlib library for plotting\n",
    "from nltk.corpus import udhr     # Import the Universal Declaration of Human Rights corpus from NLTK\n",
    "\n",
    "# List of languages you want to analyze\n",
    "languages = ['Portuguese_Portugues', 'English', 'Italian', 'Spanish', 'French_Francais']\n",
    "\n",
    "# Create a Conditional Frequency Distribution (CFD) where the conditions are languages and the samples are word lengths\n",
    "cfd = nltk.ConditionalFreqDist(\n",
    "    (lang, len(word))                         # Pair each language with the length of each word\n",
    "    for lang in languages                     # Loop through the selected languages\n",
    "    for word in udhr.words(lang + '-Latin1')  # Loop through words in the UDHR corpus for each language\n",
    ")\n",
    "\n",
    "# Set up a larger plot size using plt.figure() and specify width and height\n",
    "plt.figure(figsize=(12, 8))\n",
    "\n",
    "# Plot the cumulative frequency distribution for word lengths across languages\n",
    "cfd.plot(cumulative=True)\n",
    "\n",
    "plt.show()  # Display the plot"
   ]
  },
  {
   "cell_type": "markdown",
   "metadata": {},
   "source": [
    "### Text Corpus Structure"
   ]
  },
  {
   "cell_type": "markdown",
   "metadata": {},
   "source": [
    "We illustrate the difference between some of the corpus access methods here:"
   ]
  },
  {
   "cell_type": "code",
   "execution_count": 38,
   "metadata": {},
   "outputs": [
    {
     "data": {
      "text/plain": [
       "'The Adven'"
      ]
     },
     "execution_count": 38,
     "metadata": {},
     "output_type": "execute_result"
    }
   ],
   "source": [
    "raw = gutenberg.raw(\"burgess-busterbrown.txt\")  # Get the entire text as a raw string from 'Buster Brown'\n",
    "raw[1:10]                                       # Slice the raw text from character 1 to character 9 (not tokens, but characters)"
   ]
  },
  {
   "cell_type": "code",
   "execution_count": 39,
   "metadata": {},
   "outputs": [
    {
     "data": {
      "text/plain": [
       "['The', 'Adventures', 'of', 'Buster', 'Bear', 'by', 'Thornton', 'W', '.']"
      ]
     },
     "execution_count": 39,
     "metadata": {},
     "output_type": "execute_result"
    }
   ],
   "source": [
    "words = gutenberg.words(\"burgess-busterbrown.txt\")  # Get the text as a list of word tokens from 'Buster Brown'\n",
    "words[1:10]                                         # Slice the list to get word tokens from index 1 to 9"
   ]
  },
  {
   "cell_type": "code",
   "execution_count": 40,
   "metadata": {},
   "outputs": [
    {
     "data": {
      "text/plain": [
       "[['I'],\n",
       " ['BUSTER', 'BEAR', 'GOES', 'FISHING'],\n",
       " ['Buster',\n",
       "  'Bear',\n",
       "  'yawned',\n",
       "  'as',\n",
       "  'he',\n",
       "  'lay',\n",
       "  'on',\n",
       "  'his',\n",
       "  'comfortable',\n",
       "  'bed',\n",
       "  'of',\n",
       "  'leaves',\n",
       "  'and',\n",
       "  'watched',\n",
       "  'the',\n",
       "  'first',\n",
       "  'early',\n",
       "  'morning',\n",
       "  'sunbeams',\n",
       "  'creeping',\n",
       "  'through',\n",
       "  'the',\n",
       "  'Green',\n",
       "  'Forest',\n",
       "  'to',\n",
       "  'chase',\n",
       "  'out',\n",
       "  'the',\n",
       "  'Black',\n",
       "  'Shadows',\n",
       "  '.'],\n",
       " ['Once',\n",
       "  'more',\n",
       "  'he',\n",
       "  'yawned',\n",
       "  ',',\n",
       "  'and',\n",
       "  'slowly',\n",
       "  'got',\n",
       "  'to',\n",
       "  'his',\n",
       "  'feet',\n",
       "  'and',\n",
       "  'shook',\n",
       "  'himself',\n",
       "  '.']]"
      ]
     },
     "execution_count": 40,
     "metadata": {},
     "output_type": "execute_result"
    }
   ],
   "source": [
    "sents = gutenberg.sents(\"burgess-busterbrown.txt\")  # Get the text as a list of sentences (each sentence is a list of word tokens)\n",
    "sents[1:5]                                         # Slice the list to get sentences from index 1 to 9 (each entry is a list of words)"
   ]
  },
  {
   "cell_type": "markdown",
   "metadata": {},
   "source": [
    "### Loading Your Own Corpus"
   ]
  },
  {
   "cell_type": "code",
   "execution_count": 42,
   "metadata": {},
   "outputs": [
    {
     "data": {
      "text/plain": [
       "['alice.txt']"
      ]
     },
     "execution_count": 42,
     "metadata": {},
     "output_type": "execute_result"
    }
   ],
   "source": [
    "from nltk.corpus import PlaintextCorpusReader\n",
    "\n",
    "corpus_root = \"data/\"\n",
    "wordlists = PlaintextCorpusReader(corpus_root, \"alice.txt\")\n",
    "wordlists.fileids()"
   ]
  },
  {
   "cell_type": "code",
   "execution_count": 43,
   "metadata": {},
   "outputs": [
    {
     "data": {
      "text/plain": [
       "['THROUGH', 'THE', 'LOOKING', '-', 'GLASS', 'By', ...]"
      ]
     },
     "execution_count": 43,
     "metadata": {},
     "output_type": "execute_result"
    }
   ],
   "source": [
    "wordlists.words()"
   ]
  },
  {
   "cell_type": "code",
   "execution_count": 44,
   "metadata": {},
   "outputs": [
    {
     "data": {
      "text/plain": [
       "['THROUGH',\n",
       " 'THE',\n",
       " 'LOOKING',\n",
       " '-',\n",
       " 'GLASS',\n",
       " 'By',\n",
       " 'Lewis',\n",
       " 'Carroll',\n",
       " 'CHAPTER',\n",
       " 'I',\n",
       " '.',\n",
       " 'Looking',\n",
       " '-',\n",
       " 'Glass']"
      ]
     },
     "execution_count": 44,
     "metadata": {},
     "output_type": "execute_result"
    }
   ],
   "source": [
    "wordlists.words()[:14]"
   ]
  },
  {
   "cell_type": "code",
   "execution_count": 45,
   "metadata": {},
   "outputs": [
    {
     "name": "stdout",
     "output_type": "stream",
     "text": [
      "THROUGH THE LOOKING - GLASS By Lewis Carroll CHAPTER I . Looking - Glass house One thing was certain , that the WHITE kitten had had nothing to do with it :-- it was the black kitten ’ s fault entirely . For the white kitten had been having its face washed by the old cat for the last quarter of an hour ( and bearing it pretty well , considering ); so you see that it COULDN ’ T have had any hand in the mischief . The way Dinah washed her children ’ s faces was this : first she held the poor thing down by its ear with one paw , and then with the other paw she rubbed its face all over , the wrong way , beginning at the nose : and just now , as I said , she was hard at work on the white kitten , which was lying quite still and trying to purr -- no doubt feeling that it was all meant for its good . But the black kitten had been finished with earlier in the afternoon , and so , while Alice was sitting curled up in a corner of the great arm - chair , half talking to herself and half asleep , \n"
     ]
    }
   ],
   "source": [
    "words = wordlists.words()  # Get all the words in the file\n",
    "\n",
    "# Concatenate all the words into a single string, with spaces between them\n",
    "concatenated_words = ' '.join(words)\n",
    "\n",
    "# Display the concatenated string (or a portion of it if it's too long)\n",
    "print(concatenated_words[:1000])  # Print the first 1000 characters to avoid flooding the output"
   ]
  },
  {
   "cell_type": "code",
   "execution_count": 46,
   "metadata": {},
   "outputs": [
    {
     "name": "stdout",
     "output_type": "stream",
     "text": [
      "THROUGH THE LOOKING - GLASS By Lewis Carroll CHAPTER I. Looking - Glass house One thing was certain, that the WHITE kitten had had nothing to do with it:-- it was the black kitten’s fault entirely. For the white kitten had been having its face washed by the old cat for the last quarter of an hour (and bearing it pretty well, considering); so you see that it COULDN’T have had any hand in the mischief. The way Dinah washed her children’s faces was this: first she held the poor thing down by its ear with one paw, and then with the other paw she rubbed its face all over, the wrong way, beginning at the nose: and just now, as I said, she was hard at work on the white kitten, which was lying quite still and trying to purr -- no doubt feeling that it was all meant for its good. But the black kitten had been finished with earlier in the afternoon, and so, while Alice was sitting curled up in a corner of the great arm - chair, half talking to herself and half asleep, .\n"
     ]
    }
   ],
   "source": [
    "sentence = concatenated_words[:1000]  # Get the first 1000 characters from the concatenated text\n",
    "\n",
    "# Remove spaces before punctuation and handle other cases like single quotes\n",
    "sentence = sentence.replace(' ,', ',').replace(' .', '.').replace(' :', ':')\n",
    "sentence = sentence.replace(' )', ')').replace('( ', '(')\n",
    "sentence = sentence.replace(\" ’ \", \"’\").replace(\" ' \", \"'\")  # Handle spaces around single quotes\n",
    "\n",
    "# Ensure the sentence ends with a period\n",
    "if not sentence.endswith('.'):\n",
    "    sentence += '.'  # Add a period at the end if it doesn't already have one\n",
    "\n",
    "print(sentence)  # Print the cleaned sentence"
   ]
  },
  {
   "cell_type": "markdown",
   "metadata": {},
   "source": [
    "### Conditional Frequency Distributions"
   ]
  },
  {
   "cell_type": "code",
   "execution_count": 48,
   "metadata": {},
   "outputs": [],
   "source": [
    "from nltk.corpus import brown  # Import the Brown corpus from NLTK\n",
    "\n",
    "# Create a Conditional Frequency Distribution (CFD) where the condition is the genre, and the sample is the word\n",
    "cfd = nltk.ConditionalFreqDist(\n",
    "    (genre, word)                              # Pair each genre with its respective word\n",
    "    for genre in brown.categories()            # Loop through each genre in the Brown corpus\n",
    "    for word in brown.words(categories=genre)  # Loop through each word in the specified genre\n",
    ")"
   ]
  },
  {
   "cell_type": "code",
   "execution_count": 49,
   "metadata": {},
   "outputs": [
    {
     "data": {
      "text/plain": [
       "[('.', 4057),\n",
       " (',', 3488),\n",
       " ('the', 3370),\n",
       " ('and', 1622),\n",
       " ('a', 1354),\n",
       " ('of', 1322),\n",
       " ('to', 1309),\n",
       " ('``', 998),\n",
       " (\"''\", 995),\n",
       " ('was', 914)]"
      ]
     },
     "execution_count": 49,
     "metadata": {},
     "output_type": "execute_result"
    }
   ],
   "source": [
    "# Display the 10 most common words in the 'adventure' genre\n",
    "cfd['adventure'].most_common(10)"
   ]
  },
  {
   "cell_type": "code",
   "execution_count": 50,
   "metadata": {},
   "outputs": [
    {
     "data": {
      "text/plain": [
       "170576"
      ]
     },
     "execution_count": 50,
     "metadata": {},
     "output_type": "execute_result"
    }
   ],
   "source": [
    "# Create a list of tuples (genre, word) for the 'news' and 'romance' categories in the Brown corpus\n",
    "genre_word = [(genre, word)\n",
    "              for genre in ['news', 'romance']            # Loop through the genres 'news' and 'romance'\n",
    "              for word in brown.words(categories=genre)]  # Loop through words in each genre\n",
    "\n",
    "# Find the total number of (genre, word) pairs\n",
    "len(genre_word)                                           # Return the total number of words in the 'news' and 'romance' genres"
   ]
  },
  {
   "cell_type": "markdown",
   "metadata": {},
   "source": [
    "The beginning of the FreqDist will be files from `news`, the end files from `romance`:"
   ]
  },
  {
   "cell_type": "code",
   "execution_count": 52,
   "metadata": {},
   "outputs": [
    {
     "data": {
      "text/plain": [
       "[('news', 'The'), ('news', 'Fulton'), ('news', 'County'), ('news', 'Grand')]"
      ]
     },
     "execution_count": 52,
     "metadata": {},
     "output_type": "execute_result"
    }
   ],
   "source": [
    "genre_word[:4]"
   ]
  },
  {
   "cell_type": "code",
   "execution_count": 53,
   "metadata": {},
   "outputs": [
    {
     "data": {
      "text/plain": [
       "[('romance', 'afraid'),\n",
       " ('romance', 'not'),\n",
       " ('romance', \"''\"),\n",
       " ('romance', '.')]"
      ]
     },
     "execution_count": 53,
     "metadata": {},
     "output_type": "execute_result"
    }
   ],
   "source": [
    "genre_word[-4:]"
   ]
  },
  {
   "cell_type": "markdown",
   "metadata": {},
   "source": [
    "Making new CFD:"
   ]
  },
  {
   "cell_type": "code",
   "execution_count": 55,
   "metadata": {},
   "outputs": [
    {
     "data": {
      "text/plain": [
       "<ConditionalFreqDist with 2 conditions>"
      ]
     },
     "execution_count": 55,
     "metadata": {},
     "output_type": "execute_result"
    }
   ],
   "source": [
    "cfd = nltk.ConditionalFreqDist(genre_word)\n",
    "cfd"
   ]
  },
  {
   "cell_type": "code",
   "execution_count": 56,
   "metadata": {},
   "outputs": [
    {
     "data": {
      "text/plain": [
       "['news', 'romance']"
      ]
     },
     "execution_count": 56,
     "metadata": {},
     "output_type": "execute_result"
    }
   ],
   "source": [
    "cfd.conditions()"
   ]
  },
  {
   "cell_type": "code",
   "execution_count": 57,
   "metadata": {},
   "outputs": [
    {
     "name": "stdout",
     "output_type": "stream",
     "text": [
      "<FreqDist with 14394 samples and 100554 outcomes>\n"
     ]
    }
   ],
   "source": [
    "print(cfd['news'])"
   ]
  },
  {
   "cell_type": "code",
   "execution_count": 58,
   "metadata": {},
   "outputs": [
    {
     "name": "stdout",
     "output_type": "stream",
     "text": [
      "<FreqDist with 8452 samples and 70022 outcomes>\n"
     ]
    }
   ],
   "source": [
    "print(cfd['romance'])"
   ]
  },
  {
   "cell_type": "code",
   "execution_count": 59,
   "metadata": {},
   "outputs": [
    {
     "data": {
      "text/plain": [
       "[(',', 3899),\n",
       " ('.', 3736),\n",
       " ('the', 2758),\n",
       " ('and', 1776),\n",
       " ('to', 1502),\n",
       " ('a', 1335),\n",
       " ('of', 1186),\n",
       " ('``', 1045),\n",
       " (\"''\", 1044),\n",
       " ('was', 993),\n",
       " ('I', 951),\n",
       " ('in', 875),\n",
       " ('he', 702),\n",
       " ('had', 692),\n",
       " ('?', 690),\n",
       " ('her', 651),\n",
       " ('that', 583),\n",
       " ('it', 573),\n",
       " ('his', 559),\n",
       " ('she', 496)]"
      ]
     },
     "execution_count": 59,
     "metadata": {},
     "output_type": "execute_result"
    }
   ],
   "source": [
    "cfd['romance'].most_common(20)"
   ]
  },
  {
   "cell_type": "code",
   "execution_count": 60,
   "metadata": {},
   "outputs": [
    {
     "data": {
      "text/plain": [
       "193"
      ]
     },
     "execution_count": 60,
     "metadata": {},
     "output_type": "execute_result"
    }
   ],
   "source": [
    "# Access the frequency of the word 'could' in the 'romance' genre using the conditional frequency distribution\n",
    "cfd['romance']['could']"
   ]
  },
  {
   "cell_type": "code",
   "execution_count": 61,
   "metadata": {},
   "outputs": [
    {
     "data": {
      "text/plain": [
       "142835"
      ]
     },
     "execution_count": 61,
     "metadata": {},
     "output_type": "execute_result"
    }
   ],
   "source": [
    "# Create a list of tuples (genre, word) for the 'news' and 'romance' categories, filtering for alphabetic words and words with apostrophes\n",
    "genre_word = [(genre, w.lower())                         # Convert each word to lowercase for uniformity\n",
    "              for genre in ['news', 'romance']           # Loop through the genres 'news' and 'romance'\n",
    "              for w in brown.words(categories=genre)     # Loop through words in each genre\n",
    "              if w.isalpha() or \"'\" in w and w != \"''\"]  # Filter for words that are alphabetic or contain an apostrophe (exclude quotes)\n",
    "\n",
    "# Find the total number of (genre, word) pairs that match the filter criteria\n",
    "len(genre_word)  # Return the total number of word-genre pairs"
   ]
  },
  {
   "cell_type": "markdown",
   "metadata": {},
   "source": [
    "### Plotting and Tabulating Distributions"
   ]
  },
  {
   "cell_type": "code",
   "execution_count": 63,
   "metadata": {},
   "outputs": [
    {
     "name": "stdout",
     "output_type": "stream",
     "text": [
      "                  0    1    2    3    4    5    6    7    8    9 \n",
      "       English    0  185  525  883  997 1166 1283 1440 1558 1638 \n",
      "German_Deutsch    0  171  263  614  717  894 1013 1110 1213 1275 \n"
     ]
    }
   ],
   "source": [
    "from nltk.corpus import udhr  # Import the Universal Declaration of Human Rights corpus\n",
    "\n",
    "# List of selected languages for analysis\n",
    "languages = ['Chickasaw', 'English', 'German_Deutsch', 'Greenlandic_Inuktikut', 'Hungarian_Magyar', 'Ibibio_Efik']\n",
    "\n",
    "# Create a Conditional Frequency Distribution (CFD) where the condition is the language and the sample is the word length\n",
    "cfd = nltk.ConditionalFreqDist(\n",
    "            (lang, len(word))                         # Pair the language with the length of each word\n",
    "            for lang in languages                     # Loop through the selected languages\n",
    "            for word in udhr.words(lang + '-Latin1')  # Fetch words from the UDHR corpus for each language\n",
    ")\n",
    "\n",
    "# Generate a cumulative tabulation of word lengths (up to length 10) in English and German\n",
    "cfd.tabulate(conditions=['English', 'German_Deutsch'],  # Choose 'English' and 'German_Deutsch' as the conditions (languages)\n",
    "             samples=range(10),                         # Tabulate word lengths from 0 to 9\n",
    "             cumulative=True                            # Display cumulative counts\n",
    ")"
   ]
  },
  {
   "cell_type": "markdown",
   "metadata": {},
   "source": [
    "    In English, there are 185 words with long equal 1, and 525 words 2 characters long.\n",
    "    In German_Deutsch, there are 171 words with long equal 1, and 263 words 2 characters long."
   ]
  },
  {
   "cell_type": "code",
   "execution_count": 65,
   "metadata": {},
   "outputs": [
    {
     "name": "stdout",
     "output_type": "stream",
     "text": [
      "           Monday   Tuesday Wednesday  Thursday    Friday  Saturday    Sunday \n",
      "   news        54        43        22        20        41        33        51 \n",
      "romance         2         3         3         1         3         4         5 \n"
     ]
    }
   ],
   "source": [
    "# Create a Conditional Frequency Distribution (CFD) of word occurrences in 'news' and 'romance' genres of the Brown corpus\n",
    "cfd = nltk.ConditionalFreqDist(\n",
    "    (genre, word)                              # Pair each genre with each word in the corpus\n",
    "    for genre in ['news', 'romance']           # Focus on 'news' and 'romance' genres\n",
    "    for word in brown.words(categories=genre)  # Loop through words in each selected genre\n",
    ")\n",
    "\n",
    "# List of days of the week to check for their occurrences\n",
    "days = ['Monday', 'Tuesday', 'Wednesday', 'Thursday', 'Friday', 'Saturday', 'Sunday']\n",
    "\n",
    "# Tabulate occurrences of days of the week across the 'news' and 'romance' genres\n",
    "cfd.tabulate(samples=days)  # Display a table with the frequency of each day in each genre"
   ]
  },
  {
   "cell_type": "code",
   "execution_count": 66,
   "metadata": {},
   "outputs": [
    {
     "data": {
      "image/png": "[encoded data removed]",
      "text/plain": [
       "<Figure size 640x480 with 1 Axes>"
      ]
     },
     "metadata": {},
     "output_type": "display_data"
    }
   ],
   "source": [
    "cfd.plot(samples = ['Monday', 'Tuesday', 'Wednesday', 'Thursday', 'Friday', 'Saturday', 'Sunday']);"
   ]
  },
  {
   "cell_type": "markdown",
   "metadata": {},
   "source": [
    "### Generating Random Text with Bigrams"
   ]
  },
  {
   "cell_type": "code",
   "execution_count": 68,
   "metadata": {},
   "outputs": [
    {
     "data": {
      "text/plain": [
       "['In',\n",
       " 'the',\n",
       " 'beginning',\n",
       " 'God',\n",
       " 'created',\n",
       " 'the',\n",
       " 'heaven',\n",
       " 'and',\n",
       " 'the',\n",
       " 'earth',\n",
       " '.']"
      ]
     },
     "execution_count": 68,
     "metadata": {},
     "output_type": "execute_result"
    }
   ],
   "source": [
    "sent3  # text3: The Book of Genesis"
   ]
  },
  {
   "cell_type": "code",
   "execution_count": 69,
   "metadata": {},
   "outputs": [
    {
     "data": {
      "text/plain": [
       "[('In', 'the'),\n",
       " ('the', 'beginning'),\n",
       " ('beginning', 'God'),\n",
       " ('God', 'created'),\n",
       " ('created', 'the'),\n",
       " ('the', 'heaven'),\n",
       " ('heaven', 'and'),\n",
       " ('and', 'the'),\n",
       " ('the', 'earth'),\n",
       " ('earth', '.')]"
      ]
     },
     "execution_count": 69,
     "metadata": {},
     "output_type": "execute_result"
    }
   ],
   "source": [
    "list(nltk.bigrams(sent3))"
   ]
  },
  {
   "cell_type": "markdown",
   "metadata": {},
   "source": [
    "Generating random text: This program obtains all bigrams from the text of the book\n",
    "of Genesis, then constructs a conditional frequency distribution to record which words are most likely\n",
    "to follow a given word; e.g., after the word living, the most likely word is creature; the\n",
    "`generate_model()` function uses this data, and a seed word, to generate random text."
   ]
  },
  {
   "cell_type": "code",
   "execution_count": 71,
   "metadata": {},
   "outputs": [],
   "source": [
    "def generate_model(cfdist, word, num=15):\n",
    "    for i in range(num):\n",
    "        print (word)\n",
    "        word = cfdist[word].max()\n",
    "text = nltk.corpus.genesis.words('english-kjv.txt')\n",
    "bigrams = nltk.bigrams(text)\n",
    "cfd = nltk.ConditionalFreqDist(bigrams)"
   ]
  },
  {
   "cell_type": "code",
   "execution_count": 72,
   "metadata": {},
   "outputs": [
    {
     "data": {
      "text/plain": [
       "FreqDist({'creature': 7, 'thing': 4, 'substance': 2, 'soul': 1, '.': 1, ',': 1})"
      ]
     },
     "execution_count": 72,
     "metadata": {},
     "output_type": "execute_result"
    }
   ],
   "source": [
    "# Define a function to generate a sequence of words based on a Conditional Frequency Distribution (CFD)\n",
    "\n",
    "def generate_model(cfdist, word, num=15):  # The function takes a CFD, a starting word, and the number of words to generate\n",
    "    for i in range(num):                   # Loop to generate 'num' words\n",
    "        print(word, end=' ')               # Print the current word followed by a space (without a newline)\n",
    "        word = cfdist[word].max()          # Update the word to the most frequent word that follows the current word based on CFD\n",
    "\n",
    "# Load words from the 'Genesis' text in the King James Bible\n",
    "text = nltk.corpus.genesis.words('english-kjv.txt')\n",
    "\n",
    "# Create bigrams from the text, which are pairs of consecutive words\n",
    "bigrams = nltk.bigrams(text)\n",
    "\n",
    "# Create a Conditional Frequency Distribution from the bigrams\n",
    "cfd = nltk.ConditionalFreqDist(bigrams)\n",
    "\n",
    "# View the CFD for the word 'living'\n",
    "cfd['living']"
   ]
  },
  {
   "cell_type": "markdown",
   "metadata": {},
   "source": [
    "#### Interpretation:\n",
    "* \"living creature\" is a common phrase in the Genesis text, appearing 7 times.\n",
    "* \"living thing\" is the next most frequent, appearing 4 times.\n",
    "* Other phrases like \"living substance\", \"living soul\", and punctuation follow with decreasing frequency."
   ]
  },
  {
   "cell_type": "code",
   "execution_count": 74,
   "metadata": {},
   "outputs": [
    {
     "name": "stdout",
     "output_type": "stream",
     "text": [
      "living creature that he said , and the land of the land of the land "
     ]
    }
   ],
   "source": [
    "generate_model(cfd, 'living')"
   ]
  },
  {
   "cell_type": "markdown",
   "metadata": {},
   "source": [
    "#### Explanation of the Result:\n",
    "1. Starting word: The word \"living\" is the initial word provided to the model.\n",
    "2. Next word prediction: The model uses the Conditional Frequency Distribution (CFD) to look up the word that most frequently follows \"living\". In this case, it's \"creature\" (as seen in the previous frequency distribution).\n",
    "3. Repetitive patterns: After generating \"creature\", the model continues to predict the most frequent word that follows each word in sequence. However, since the model always selects the most frequent next word, the generated text can become repetitive, as it doesn't introduce much variability. This explains why phrases like \"the land of the land of the land\" appear."
   ]
  },
  {
   "cell_type": "code",
   "execution_count": 76,
   "metadata": {},
   "outputs": [
    {
     "name": "stdout",
     "output_type": "stream",
     "text": [
      ",\n"
     ]
    }
   ],
   "source": [
    "import random\n",
    "\n",
    "# Convert the keys (possible words following 'living') from the cfd['living'] dictionary into a list\n",
    "x = list(cfd['living'].keys())\n",
    "\n",
    "# Randomly select a word from the list of words that follow 'living'\n",
    "random_choice = random.choice(x)\n",
    "\n",
    "print(random_choice)  # Print the randomly chosen word"
   ]
  },
  {
   "cell_type": "code",
   "execution_count": 77,
   "metadata": {},
   "outputs": [
    {
     "name": "stdout",
     "output_type": "stream",
     "text": [
      "living . Therefore God brought Simeon is bdellium and Shaul the path , Lay not "
     ]
    }
   ],
   "source": [
    "import random \n",
    "\n",
    "# The function takes a CFD, a starting word, and the number of words to generate\n",
    "def generate_random_model(cfdist, word, num=15):  \n",
    "    for i in range(num):                                 # Loop to generate 'num' words\n",
    "        print(word, end=' ')                             # Print the current word followed by a space (without a newline)\n",
    "        word = random.choice(list(cfdist[word].keys()))  # Randomly choose the next word from possible words following the current word\n",
    "\n",
    "# Load words from the 'Genesis' text in the King James Bible\n",
    "text = nltk.corpus.genesis.words('english-kjv.txt')\n",
    "\n",
    "# Create bigrams (pairs of consecutive words) from the text\n",
    "bigrams = nltk.bigrams(text)\n",
    "\n",
    "# Create a Conditional Frequency Distribution (CFD) from the bigrams\n",
    "cfd = nltk.ConditionalFreqDist(bigrams)\n",
    "\n",
    "# Generate a random word sequence starting with the word 'living'\n",
    "generate_random_model(cfd, 'living')"
   ]
  },
  {
   "cell_type": "markdown",
   "metadata": {},
   "source": [
    "       Aspect                     generate_model()\t                               generate_random_model()\n",
    "\n",
    "    Word Selection\t Most frequent word                                 Random word from available options\n",
    "    Predictability\t Always deterministic\t                            Output varies every time\n",
    "    Repetitiveness\t Can be repetitive                                  Introduces variety and reduces repetition\n",
    "    Naturalness      May not feel natural due to frequent repetitions   Feels more natural due to random variations\n",
    "    Use Case         Good for showing most common word sequences\t    Good for generating creative and varied text"
   ]
  },
  {
   "cell_type": "code",
   "execution_count": 79,
   "metadata": {},
   "outputs": [
    {
     "name": "stdout",
     "output_type": "stream",
     "text": [
      "living , Shem , went their herds , I commanded them say unto this house "
     ]
    }
   ],
   "source": [
    "generate_random_model(cfd, 'living')"
   ]
  },
  {
   "cell_type": "code",
   "execution_count": 80,
   "metadata": {},
   "outputs": [
    {
     "name": "stdout",
     "output_type": "stream",
     "text": [
      "living soul may obtain children after thee ? yea , at every one : there "
     ]
    }
   ],
   "source": [
    "generate_random_model(cfd, 'living')"
   ]
  },
  {
   "cell_type": "code",
   "execution_count": 81,
   "metadata": {},
   "outputs": [
    {
     "name": "stdout",
     "output_type": "stream",
     "text": [
      "living . Unto the Ishmeelites came with wine , save the set the dominion over "
     ]
    }
   ],
   "source": [
    "generate_random_model(cfd, 'living')"
   ]
  },
  {
   "cell_type": "markdown",
   "metadata": {},
   "source": [
    "### Creating Programs with a Text Editor"
   ]
  },
  {
   "cell_type": "code",
   "execution_count": 83,
   "metadata": {},
   "outputs": [
    {
     "data": {
      "text/plain": [
       "'fairies'"
      ]
     },
     "execution_count": 83,
     "metadata": {},
     "output_type": "execute_result"
    }
   ],
   "source": [
    "def plural(word):  \n",
    "    if word.endswith('y'):                               # If the word ends with 'y'\n",
    "        return word[:-1] + 'ies'                         # Replace 'y' with 'ies'\n",
    "    elif word[-1] in 'sx' or word[-2:] in ['sh', 'ch']:  # If the word ends with 's', 'x', 'sh', or 'ch'\n",
    "        return word + 'es'                               # Add 'es' to the end\n",
    "    elif word.endswith('an'):                            # If the word ends with 'an'\n",
    "        return word[:-2] + 'en'                          # Replace 'an' with 'en' (e.g., man -> men)\n",
    "    else:  \n",
    "        return word + 's'                                # For all other cases, add 's' to the end\n",
    "\n",
    "plural('fairy')"
   ]
  },
  {
   "cell_type": "code",
   "execution_count": 84,
   "metadata": {},
   "outputs": [
    {
     "data": {
      "text/plain": [
       "'women'"
      ]
     },
     "execution_count": 84,
     "metadata": {},
     "output_type": "execute_result"
    }
   ],
   "source": [
    "plural('woman')"
   ]
  },
  {
   "cell_type": "markdown",
   "metadata": {},
   "source": [
    "### Lexical Resources"
   ]
  },
  {
   "cell_type": "markdown",
   "metadata": {},
   "source": [
    "This program computes the vocabulary of a text, then removes all items\n",
    "that occur in an existing wordlist, leaving just the uncommon or misspelled words."
   ]
  },
  {
   "cell_type": "code",
   "execution_count": 87,
   "metadata": {},
   "outputs": [],
   "source": [
    "def unusual_words(text):\n",
    "    # Create a set of lowercase words from the input text, keeping only alphabetic words\n",
    "    text_vocab = set(w.lower() for w in text if w.isalpha())  \n",
    "    \n",
    "    # Create a set of lowercase words from the NLTK English word corpus\n",
    "    english_vocab = set(w.lower() for w in nltk.corpus.words.words())  \n",
    "    \n",
    "    # Return the sorted list of words in text_vocab that are not found in english_vocab\n",
    "    return sorted(text_vocab - english_vocab)  # These are the \"unusual\" words"
   ]
  },
  {
   "cell_type": "markdown",
   "metadata": {},
   "source": [
    "Finding unusual words:"
   ]
  },
  {
   "cell_type": "code",
   "execution_count": 89,
   "metadata": {},
   "outputs": [
    {
     "name": "stdout",
     "output_type": "stream",
     "text": [
      "['abbeyland', 'abhorred', 'abilities', 'abounded', 'abridgement', 'abused', 'abuses', 'accents', 'accepting', 'accommodations', 'accompanied', 'accounted', 'accounts', 'accustomary', 'aches', 'acknowledging', 'acknowledgment', 'acknowledgments', 'acquaintances', 'acquiesced', 'acquitted', 'acquitting', 'acted', 'actions', 'adapted', 'adding', 'additions', 'addressed', 'addresses', 'addressing', 'adhering', 'adieus', 'adjusting', 'administering', 'admirers', 'admires', 'admitting', 'adorned', 'advances', 'advantages', 'affairs', 'affections', 'affects', 'affixed', 'afflictions', 'afforded', 'affording', 'ages', 'agitated', 'agonies', 'ailments', 'aimed', 'alarms', 'alienated', 'alighted', 'alleged', 'allenham', 'allowances', 'allowed', 'allowing', 'alluded', 'alterations', 'altered', 'altering', 'amended', 'amounted', 'amusements', 'ankles', 'annamaria', 'annexed', 'announced', 'announcing', 'annuities', 'annum', 'answered', 'answering', 'answers', 'anticipated', 'anticipating', 'anticipations', 'anymore', 'apartments', 'apologies', 'apologising', 'apologized', 'appearances', 'appeared', 'appearing', 'appeased', 'appetites', 'applauded', 'applying', 'appointed', 'apprehended', 'apprehensions', 'approached', 'approved', 'arbour', 'ardour', 'arguments']"
     ]
    }
   ],
   "source": [
    "print(unusual_words(gutenberg.words('austen-sense.txt'))[:100], end = '')"
   ]
  },
  {
   "cell_type": "code",
   "execution_count": 90,
   "metadata": {},
   "outputs": [
    {
     "name": "stdout",
     "output_type": "stream",
     "text": [
      "['aaaaaaaaaaaaaaaaa', 'aaahhhh', 'abortions', 'abou', 'abourted', 'abs', 'ack', 'acros', 'actualy', 'adams', 'adds', 'adduser', 'adjusts', 'adoted', 'adreniline', 'ads', 'adults', 'afe', 'affairs', 'affari', 'affects', 'afk', 'agaibn', 'ages', 'aggravated', 'agurlwithbigguns', 'ahah', 'ahahah', 'ahahh', 'ahahha', 'ahh', 'ahhah', 'ahhahahaha', 'ahhh', 'ahhhh', 'ahhhhhh', 'ahhhhhhhhhhhhhh', 'aiiiiiiiiiiiiiiiiiiiiiiii', 'aiken', 'aime', 'akdt', 'akon', 'akron', 'akst', 'aligator', 'allergies', 'allo', 'allowed', 'aloha', 'alohaaa', 'alohas', 'alot', 'alotta', 'alternatives', 'alterz', 'alwys', 'alzheimers', 'amazingness', 'americans', 'anithing', 'ans', 'answering', 'answers', 'antidepressants', 'anygirl', 'anymore', 'anythin', 'anytime', 'anyyyyyyyyyyyyyyyyy', 'aok', 'apoligize', 'appearently', 'appears', 'applaudes', 'appleton', 'appologise', 'appologize', 'aqwesome', 'arggghhh', 'argh', 'armtnpeat', 'arrested', 'arrived', 'arround', 'asked', 'askin', 'asking', 'asks', 'asl', 'asnwer', 'asses', 'asshole', 'assholes', 'asss', 'assumes', 'aterry', 'atl', 'attempted', 'attracted', 'aussies']"
     ]
    }
   ],
   "source": [
    "print(unusual_words(nltk.corpus.nps_chat.words())[:100], end = '')"
   ]
  },
  {
   "cell_type": "markdown",
   "metadata": {},
   "source": [
    "Stopwords:"
   ]
  },
  {
   "cell_type": "code",
   "execution_count": 92,
   "metadata": {},
   "outputs": [
    {
     "name": "stdout",
     "output_type": "stream",
     "text": [
      "['i', 'me', 'my', 'myself', 'we', 'our', 'ours', 'ourselves', 'you', \"you're\", \"you've\", \"you'll\", \"you'd\", 'your', 'yours', 'yourself', 'yourselves', 'he', 'him', 'his', 'himself', 'she', \"she's\", 'her', 'hers', 'herself', 'it', \"it's\", 'its', 'itself', 'they', 'them', 'their', 'theirs', 'themselves', 'what', 'which', 'who', 'whom', 'this', 'that', \"that'll\", 'these', 'those', 'am', 'is', 'are', 'was', 'were', 'be', 'been', 'being', 'have', 'has', 'had', 'having', 'do', 'does', 'did', 'doing', 'a', 'an', 'the', 'and', 'but', 'if', 'or', 'because', 'as', 'until', 'while', 'of', 'at', 'by', 'for', 'with', 'about', 'against', 'between', 'into', 'through', 'during', 'before', 'after', 'above', 'below', 'to', 'from', 'up', 'down', 'in', 'out', 'on', 'off', 'over', 'under', 'again', 'further', 'then', 'once', 'here', 'there', 'when', 'where', 'why', 'how', 'all', 'any', 'both', 'each', 'few', 'more', 'most', 'other', 'some', 'such', 'no', 'nor', 'not', 'only', 'own', 'same', 'so', 'than', 'too', 'very', 's', 't', 'can', 'will', 'just', 'don', \"don't\", 'should', \"should've\", 'now', 'd', 'll', 'm', 'o', 're', 've', 'y', 'ain', 'aren', \"aren't\", 'couldn', \"couldn't\", 'didn', \"didn't\", 'doesn', \"doesn't\", 'hadn', \"hadn't\", 'hasn', \"hasn't\", 'haven', \"haven't\", 'isn', \"isn't\", 'ma', 'mightn', \"mightn't\", 'mustn', \"mustn't\", 'needn', \"needn't\", 'shan', \"shan't\", 'shouldn', \"shouldn't\", 'wasn', \"wasn't\", 'weren', \"weren't\", 'won', \"won't\", 'wouldn', \"wouldn't\"]"
     ]
    }
   ],
   "source": [
    "print(nltk.corpus.stopwords.words('english'), end = '')"
   ]
  },
  {
   "cell_type": "markdown",
   "metadata": {},
   "source": [
    "A function to compute what fraction of words are not in the stopwords list:"
   ]
  },
  {
   "cell_type": "code",
   "execution_count": 94,
   "metadata": {},
   "outputs": [
    {
     "data": {
      "text/plain": [
       "0.735240435097661"
      ]
     },
     "execution_count": 94,
     "metadata": {},
     "output_type": "execute_result"
    }
   ],
   "source": [
    "def content_fraction(text):\n",
    "    # Get the list of stopwords from the NLTK corpus for the English language\n",
    "    stopwords = nltk.corpus.stopwords.words('english')  \n",
    "    \n",
    "    # Filter the text to remove stopwords, keeping the content words\n",
    "    content = [w for w in text if w.lower() not in stopwords]  \n",
    "    \n",
    "    # Return the fraction of content words (non-stopwords) in the text\n",
    "    return len(content) / len(text)\n",
    "\n",
    "# Calculate the content fraction for the Reuters corpus\n",
    "content_fraction(reuters.words())"
   ]
  },
  {
   "cell_type": "markdown",
   "metadata": {},
   "source": [
    "Filter out punctuation and white space"
   ]
  },
  {
   "cell_type": "code",
   "execution_count": 96,
   "metadata": {},
   "outputs": [
    {
     "data": {
      "text/plain": [
       "0.5064300619268627"
      ]
     },
     "execution_count": 96,
     "metadata": {},
     "output_type": "execute_result"
    }
   ],
   "source": [
    "def content_fraction(text):\n",
    "    # Get the list of stopwords from the NLTK corpus for the English language\n",
    "    stopwords = nltk.corpus.stopwords.words('english')  \n",
    "    \n",
    "    # Filter the text to remove stopwords and non-alphabetic tokens\n",
    "    content = [w for w in text if w.isalpha() and w.lower() not in stopwords]  \n",
    "    \n",
    "    # Return the fraction of content words (non-stopwords) in the text\n",
    "    return len(content) / len(text)\n",
    "\n",
    "# Calculate the content fraction for the Reuters corpus\n",
    "content_fraction(reuters.words())"
   ]
  },
  {
   "cell_type": "markdown",
   "metadata": {},
   "source": [
    "#### Puzzle\n",
    "\n",
    "| E | G | I |\r\n",
    "|---|---|---|\r\n",
    "| V | **R** | O |\r\n",
    "| N | L | V |\r\n",
    "\n",
    "\n",
    "How many words of four letters or more can you make from those shown here? Each letter may be used once per word. Each word must contain the center letter, and there must be at least one nine-letter word. No plurals ending in \"s\"; no foreign words; no proper names.\n",
    "\n",
    "* 21 words: good\n",
    "* 32 words: very good\n",
    "* 42 words: excellent"
   ]
  },
  {
   "cell_type": "code",
   "execution_count": 98,
   "metadata": {},
   "outputs": [
    {
     "data": {
      "text/plain": [
       "FreqDist({'v': 2, 'e': 1, 'g': 1, 'i': 1, 'r': 1, 'o': 1, 'n': 1, 'l': 1})"
      ]
     },
     "execution_count": 98,
     "metadata": {},
     "output_type": "execute_result"
    }
   ],
   "source": [
    "puzzle_letters = nltk.FreqDist('egivrvonl') \n",
    "puzzle_letters"
   ]
  },
  {
   "cell_type": "code",
   "execution_count": 99,
   "metadata": {},
   "outputs": [
    {
     "name": "stdout",
     "output_type": "stream",
     "text": [
      "['enrol', 'ergon', 'genro', 'girl', 'girn', 'giro', 'giver', 'glor', 'glore', 'glover', 'goer', 'goner', 'gore', 'gorlin', 'govern', 'grein', 'grin', 'groin', 'grove', 'grovel', 'ignore', 'inro', 'involver', 'iron', 'irone', 'levir', 'lienor', 'lier', 'liner', 'linger', 'lire', 'liver', 'livor', 'livre', 'loir', 'longer', 'lore', 'lori', 'lorn', 'lover', 'lovering', 'negro', 'nigre', 'noiler', 'noir', 'nori', 'norie', 'ogler', 'ogre', 'oiler', 'oner', 'oriel', 'orle', 'over', 'overling', 'regin', 'region', 'reign', 'rein', 'renvoi', 'reoil', 'revolving', 'rigol', 'rile', 'rine', 'ring', 'ringe', 'ringle', 'rive', 'rivel', 'riven', 'roil', 'role', 'rone', 'rove', 'roving', 'vergi', 'veri', 'vier', 'vigor', 'viner', 'violer', 'vire', 'vireo', 'virl', 'virole', 'viron', 'viver', 'girl', 'iron', 'over', 'ring']\n",
      "\n",
      "92\n"
     ]
    }
   ],
   "source": [
    "# First approach\n",
    "\n",
    "puzzle_letters = nltk.FreqDist('egivrvonl')  # Create frequency distribution of letters in the puzzle\n",
    "obligatory = 'r'                             # Middle letter is obligatory\n",
    "wordlist = nltk.corpus.words.words()         # Get the full wordlist from NLTK corpus\n",
    "\n",
    "# Filter words based on the conditions\n",
    "words = [w for w in wordlist if len(w) >= 4  # Words must be at least 4 letters long\n",
    "     and obligatory in w                     # Words must contain the obligatory letter ('r')\n",
    "     and nltk.FreqDist(w) <= puzzle_letters] # Words must use only the available letters, and no more than available\n",
    "\n",
    "# Print the matching words and their count\n",
    "print(words)       # List of words that satisfy the conditions\n",
    "print()            # Newline\n",
    "print(len(words))  # Total number of words found"
   ]
  },
  {
   "cell_type": "code",
   "execution_count": 100,
   "metadata": {},
   "outputs": [
    {
     "name": "stdout",
     "output_type": "stream",
     "text": [
      "['enrol', 'ergon', 'genro', 'girl', 'girn', 'giro', 'giver', 'glor', 'glore', 'glover', 'goer', 'goner', 'gore', 'gorlin', 'govern', 'grein', 'grin', 'groin', 'grove', 'grovel', 'ignore', 'inro', 'involver', 'iron', 'irone', 'levir', 'lienor', 'lier', 'liner', 'linger', 'lire', 'liver', 'livor', 'livre', 'loir', 'longer', 'lore', 'lori', 'lorn', 'lover', 'lovering', 'negro', 'nigre', 'noiler', 'noir', 'nori', 'norie', 'ogler', 'ogre', 'oiler', 'oner', 'oriel', 'orle', 'over', 'overling', 'regin', 'region', 'reign', 'rein', 'renvoi', 'reoil', 'revolving', 'rigol', 'rile', 'rine', 'ring', 'ringe', 'ringle', 'rive', 'rivel', 'riven', 'roil', 'role', 'rone', 'rove', 'roving', 'vergi', 'veri', 'vier', 'vigor', 'viner', 'violer', 'vire', 'vireo', 'virl', 'virole', 'viron', 'viver', 'girl', 'iron', 'over', 'ring']\n",
      "\n",
      "92\n"
     ]
    }
   ],
   "source": [
    "import nltk\n",
    "from collections import Counter\n",
    "\n",
    "def solve_target_puzzle(puzzle_letters, n=4):\n",
    "    \"\"\"\n",
    "    Solve the target puzzle by finding words that meet the following criteria:\n",
    "    - The word is at least 'n' letters long (default: 4)\n",
    "    - The word contains the obligatory middle letter\n",
    "    - The word is made only of the letters provided in the puzzle\n",
    "    \"\"\"\n",
    "    obligatory = puzzle_letters[4]                  # Middle letter must be included\n",
    "    puzzle_letter_counts = Counter(puzzle_letters)  # Letter frequencies for the puzzle letters\n",
    "    wordlist = nltk.corpus.words.words()            # NLTK word list\n",
    "    \n",
    "    # Return the valid words that meet the conditions\n",
    "    words = [word for word in wordlist if len(word) >= n         # Words must be at least 4 letters long\n",
    "                and obligatory in word                           # If the mandatory letter is in the word\n",
    "                and not (Counter(word) - puzzle_letter_counts)]  # Check if word letters are within puzzle letters\n",
    "    print(words)\n",
    "    print()\n",
    "    print(len(words))\n",
    "\n",
    "\n",
    "# Example call to solve the puzzle\n",
    "solve_target_puzzle('egivrvonl')"
   ]
  },
  {
   "cell_type": "markdown",
   "metadata": {},
   "source": [
    "It is well known that names ending in the letter a are almost always female."
   ]
  },
  {
   "cell_type": "code",
   "execution_count": 102,
   "metadata": {},
   "outputs": [
    {
     "data": {
      "text/plain": [
       "['female.txt', 'male.txt']"
      ]
     },
     "execution_count": 102,
     "metadata": {},
     "output_type": "execute_result"
    }
   ],
   "source": [
    "names = nltk.corpus.names\n",
    "names.fileids()"
   ]
  },
  {
   "cell_type": "code",
   "execution_count": 103,
   "metadata": {},
   "outputs": [
    {
     "data": {
      "image/png": "[encoded data removed]",
      "text/plain": [
       "<Figure size 640x480 with 1 Axes>"
      ]
     },
     "metadata": {},
     "output_type": "display_data"
    }
   ],
   "source": [
    "male_names = names.words('male.txt')      # Load a list of male names from the 'male.txt' file in NLTK\n",
    "female_names = names.words('female.txt')  # Load a list of female names from the 'female.txt' file in NLTK\n",
    "\n",
    "# Create a Conditional Frequency Distribution (CFD) to analyze the last letters of names by gender\n",
    "cfd = nltk.ConditionalFreqDist(\n",
    "    (fileid, name[-1])               # Pair each fileid ('male.txt' or 'female.txt') with the last letter of each name\n",
    "    for fileid in names.fileids()    # Loop through the fileids ('male.txt' and 'female.txt')\n",
    "    for name in names.words(fileid)  # Loop through the names in each file\n",
    ")\n",
    "\n",
    "cfd.plot();  # Plot the results using NLTK's built-in plotting function"
   ]
  },
  {
   "cell_type": "markdown",
   "metadata": {},
   "source": [
    "# Senses and Synonyms"
   ]
  },
  {
   "cell_type": "code",
   "execution_count": 105,
   "metadata": {},
   "outputs": [
    {
     "data": {
      "text/plain": [
       "[Synset('car.n.01')]"
      ]
     },
     "execution_count": 105,
     "metadata": {},
     "output_type": "execute_result"
    }
   ],
   "source": [
    "from nltk.corpus import wordnet as wn\n",
    "\n",
    "wn.synsets('motorcar')  # Retrieve the synsets (synonym sets) associated with the word 'motorcar'"
   ]
  },
  {
   "cell_type": "markdown",
   "metadata": {},
   "source": [
    "Thus, motorcar has just one possible meaning and it is identified as car.n.01, the first\n",
    "noun sense of car. The entity car.n.01 is called a synset, or “synonym set,” a collection\n",
    "of synonymous words (or “lemmas”):"
   ]
  },
  {
   "cell_type": "code",
   "execution_count": 107,
   "metadata": {},
   "outputs": [
    {
     "data": {
      "text/plain": [
       "['car', 'auto', 'automobile', 'machine', 'motorcar']"
      ]
     },
     "execution_count": 107,
     "metadata": {},
     "output_type": "execute_result"
    }
   ],
   "source": [
    "wn.synset('car.n.01').lemma_names()  # synonym set for 'car.n.01'"
   ]
  },
  {
   "cell_type": "code",
   "execution_count": 108,
   "metadata": {},
   "outputs": [
    {
     "data": {
      "text/plain": [
       "'a motor vehicle with four wheels; usually propelled by an internal combustion engine'"
      ]
     },
     "execution_count": 108,
     "metadata": {},
     "output_type": "execute_result"
    }
   ],
   "source": [
    "wn.synset('car.n.01').definition()  # definition for the synset 'car.n.01'"
   ]
  },
  {
   "cell_type": "code",
   "execution_count": 109,
   "metadata": {},
   "outputs": [
    {
     "data": {
      "text/plain": [
       "['he needs a car to get to work']"
      ]
     },
     "execution_count": 109,
     "metadata": {},
     "output_type": "execute_result"
    }
   ],
   "source": [
    "wn.synset('car.n.01').examples()"
   ]
  },
  {
   "cell_type": "code",
   "execution_count": 110,
   "metadata": {},
   "outputs": [
    {
     "data": {
      "text/plain": [
       "['a member of the genus Canis (probably descended from the common wolf) that has been domesticated by man since prehistoric times; occurs in many breeds',\n",
       " 'a dull unattractive unpleasant girl or woman',\n",
       " 'informal term for a man',\n",
       " 'someone who is morally reprehensible',\n",
       " 'a smooth-textured sausage of minced beef or pork usually smoked; often served on a bread roll',\n",
       " 'a hinged catch that fits into a notch of a ratchet to move a wheel forward or prevent it from moving backward',\n",
       " 'metal supports for logs in a fireplace',\n",
       " 'go after with the intent to catch']"
      ]
     },
     "execution_count": 110,
     "metadata": {},
     "output_type": "execute_result"
    }
   ],
   "source": [
    "[s.definition() for s in wn.synsets('dog')]"
   ]
  },
  {
   "cell_type": "markdown",
   "metadata": {},
   "source": [
    "Although definitions help humans to understand the intended meaning of a synset, the\n",
    "words of the synset are often more useful for our programs. To eliminate ambiguity,\n",
    "we will identify these words as `car.n.01.automobile`, `car.n.01.motorcar`, and so on.\n",
    "This pairing of a synset with a word is called a **lemma**. We can get all the lemmas for\n",
    "a given synset , look up a particular lemma , get the synset corresponding to a lemma\n",
    ", and get the “name” of a lemma :"
   ]
  },
  {
   "cell_type": "code",
   "execution_count": 112,
   "metadata": {},
   "outputs": [
    {
     "data": {
      "text/plain": [
       "[Lemma('car.n.01.car'),\n",
       " Lemma('car.n.01.auto'),\n",
       " Lemma('car.n.01.automobile'),\n",
       " Lemma('car.n.01.machine'),\n",
       " Lemma('car.n.01.motorcar')]"
      ]
     },
     "execution_count": 112,
     "metadata": {},
     "output_type": "execute_result"
    }
   ],
   "source": [
    "wn.synset('car.n.01').lemmas()  # All lemmas for a given synset"
   ]
  },
  {
   "cell_type": "code",
   "execution_count": 113,
   "metadata": {},
   "outputs": [
    {
     "data": {
      "text/plain": [
       "Lemma('car.n.01.automobile')"
      ]
     },
     "execution_count": 113,
     "metadata": {},
     "output_type": "execute_result"
    }
   ],
   "source": [
    "wn.lemma('car.n.01.automobile')  # A particular lemma"
   ]
  },
  {
   "cell_type": "code",
   "execution_count": 114,
   "metadata": {},
   "outputs": [
    {
     "data": {
      "text/plain": [
       "Synset('car.n.01')"
      ]
     },
     "execution_count": 114,
     "metadata": {},
     "output_type": "execute_result"
    }
   ],
   "source": [
    "wn.lemma('car.n.01.automobile').synset()  # Get the synset corresponding to a lemma"
   ]
  },
  {
   "cell_type": "code",
   "execution_count": 115,
   "metadata": {},
   "outputs": [
    {
     "data": {
      "text/plain": [
       "'automobile'"
      ]
     },
     "execution_count": 115,
     "metadata": {},
     "output_type": "execute_result"
    }
   ],
   "source": [
    "wn.lemma('car.n.01.automobile').name()  # Get the \"Name\" of a lemma  "
   ]
  },
  {
   "cell_type": "markdown",
   "metadata": {},
   "source": [
    "Unlike the words automobile and motorcar, which are unambiguous and have one synset, the word car is ambiguous, having five synsets:"
   ]
  },
  {
   "cell_type": "code",
   "execution_count": 117,
   "metadata": {},
   "outputs": [
    {
     "data": {
      "text/plain": [
       "[Synset('car.n.01'),\n",
       " Synset('car.n.02'),\n",
       " Synset('car.n.03'),\n",
       " Synset('car.n.04'),\n",
       " Synset('cable_car.n.01')]"
      ]
     },
     "execution_count": 117,
     "metadata": {},
     "output_type": "execute_result"
    }
   ],
   "source": [
    "wn.synsets('car')  # Retrieves all the synsets (different senses or meanings) for the word 'car'"
   ]
  },
  {
   "cell_type": "code",
   "execution_count": 118,
   "metadata": {},
   "outputs": [
    {
     "name": "stdout",
     "output_type": "stream",
     "text": [
      "['car', 'auto', 'automobile', 'machine', 'motorcar']\n",
      "['car', 'railcar', 'railway_car', 'railroad_car']\n",
      "['car', 'gondola']\n",
      "['car', 'elevator_car']\n",
      "['cable_car', 'car']\n"
     ]
    }
   ],
   "source": [
    "for synset in wn.synsets('car'):  # Loop through each synset (meaning) of the word 'car'\n",
    "    print(synset.lemma_names())   # Print the list of lemma names (synonyms) for each synset"
   ]
  },
  {
   "cell_type": "markdown",
   "metadata": {},
   "source": [
    "For convenience, we can access all the lemmas involving the word car as follows:"
   ]
  },
  {
   "cell_type": "code",
   "execution_count": 120,
   "metadata": {},
   "outputs": [
    {
     "data": {
      "text/plain": [
       "[Lemma('car.n.01.car'),\n",
       " Lemma('car.n.02.car'),\n",
       " Lemma('car.n.03.car'),\n",
       " Lemma('car.n.04.car'),\n",
       " Lemma('cable_car.n.01.car')]"
      ]
     },
     "execution_count": 120,
     "metadata": {},
     "output_type": "execute_result"
    }
   ],
   "source": [
    "wn.lemmas('car')  # Retrieves all the lemmas (synonyms or alternative word forms) for the word 'car'"
   ]
  },
  {
   "cell_type": "code",
   "execution_count": 121,
   "metadata": {},
   "outputs": [
    {
     "data": {
      "text/plain": [
       "Synset('stanley_steamer.n.01')"
      ]
     },
     "execution_count": 121,
     "metadata": {},
     "output_type": "execute_result"
    }
   ],
   "source": [
    "motorcar = wn.synset('car.n.01')         # Retrieve the synset for 'car.n.01', representing one meaning of 'car'\n",
    "types_of_motorcar = motorcar.hyponyms()  # Get the hyponyms (specific types) of the motorcar synset\n",
    "types_of_motorcar[26]                    # Access the 27th hyponym of motorcar (index 26)"
   ]
  },
  {
   "cell_type": "markdown",
   "metadata": {},
   "source": [
    "#### Explanation:\n",
    "\n",
    "* `motorcar = wn.synset('car.n.01')`:\n",
    "\n",
    "This retrieves the synset (specific meaning) for the noun car under the sense car.n.01 in WordNet. The meaning associated with this synset is \"a motor vehicle with four wheels; usually propelled by an internal combustion engine.\"\n",
    "\n",
    "* `motorcar.hyponyms()`:\n",
    "\n",
    "This method returns a list of hyponyms of the synset motorcar. Hyponyms are more specific concepts under the general concept of \"motorcar,\" such as sedan, SUV, or limousine.\n",
    "\n",
    "* `types_of_motorcar[26]`:\n",
    "\n",
    "This line accesses the 27th hyponym in the list (index 26), providing a specific type of motorcar. The hyponym at this index represents one specific type of car."
   ]
  },
  {
   "cell_type": "code",
   "execution_count": 123,
   "metadata": {},
   "outputs": [
    {
     "name": "stdout",
     "output_type": "stream",
     "text": [
      "Synset('ambulance.n.01')\n",
      "Synset('beach_wagon.n.01')\n",
      "Synset('bus.n.04')\n",
      "Synset('cab.n.03')\n",
      "Synset('compact.n.03')\n",
      "Synset('convertible.n.01')\n",
      "Synset('coupe.n.01')\n",
      "Synset('cruiser.n.01')\n",
      "Synset('electric.n.01')\n",
      "Synset('gas_guzzler.n.01')\n",
      "Synset('hardtop.n.01')\n",
      "Synset('hatchback.n.01')\n",
      "Synset('horseless_carriage.n.01')\n",
      "Synset('hot_rod.n.01')\n",
      "Synset('jeep.n.01')\n",
      "Synset('limousine.n.01')\n",
      "Synset('loaner.n.02')\n",
      "Synset('minicar.n.01')\n",
      "Synset('minivan.n.01')\n",
      "Synset('model_t.n.01')\n",
      "Synset('pace_car.n.01')\n",
      "Synset('racer.n.02')\n",
      "Synset('roadster.n.01')\n",
      "Synset('sedan.n.01')\n",
      "Synset('sport_utility.n.01')\n",
      "Synset('sports_car.n.01')\n",
      "Synset('stanley_steamer.n.01')\n",
      "Synset('stock_car.n.01')\n",
      "Synset('subcompact.n.01')\n",
      "Synset('touring_car.n.01')\n"
     ]
    }
   ],
   "source": [
    "for i in range(30):  # Loop through the first 30 elements (or adjust the number as needed)\n",
    "    print(types_of_motorcar[i])  # Print each specific hyponym (type of motorcar)"
   ]
  },
  {
   "cell_type": "code",
   "execution_count": 124,
   "metadata": {},
   "outputs": [
    {
     "name": "stdout",
     "output_type": "stream",
     "text": [
      "['Model_T', 'S.U.V.', 'SUV', 'Stanley_Steamer', 'ambulance', 'beach_waggon', 'beach_wagon', 'bus', 'cab', 'compact', 'compact_car', 'convertible', 'coupe', 'cruiser', 'electric', 'electric_automobile', 'electric_car', 'estate_car', 'gas_guzzler', 'hack', 'hardtop', 'hatchback', 'heap', 'horseless_carriage', 'hot-rod', 'hot_rod', 'jalopy', 'jeep', 'landrover', 'limo', 'limousine', 'loaner', 'minicar', 'minivan', 'pace_car', 'patrol_car', 'phaeton', 'police_car', 'police_cruiser', 'prowl_car', 'race_car', 'racer', 'racing_car', 'roadster', 'runabout', 'saloon', 'secondhand_car', 'sedan', 'sport_car', 'sport_utility', 'sport_utility_vehicle', 'sports_car', 'squad_car', 'station_waggon', 'station_wagon', 'stock_car', 'subcompact', 'subcompact_car', 'taxi', 'taxicab', 'tourer', 'touring_car', 'two-seater', 'used-car', 'waggon', 'wagon']\n"
     ]
    }
   ],
   "source": [
    "# Create a sorted list of all lemma names (synonyms) for each hyponym of 'motorcar'\n",
    "motorcar_list = sorted([lemma.name() for synset in types_of_motorcar for lemma in synset.lemmas()])\n",
    "print(motorcar_list)"
   ]
  },
  {
   "cell_type": "markdown",
   "metadata": {},
   "source": [
    "We can also navigate up the hierarchy by visiting hypernyms. Some words have multiple\n",
    "paths, because they can be classified in more than one way. There are two paths between\n",
    "`car.n.01` and `entity.n.01` because `wheeled_vehicle.n.01` can be classified as both a\n",
    "vehicle and a container."
   ]
  },
  {
   "cell_type": "markdown",
   "metadata": {},
   "source": [
    "**Hypernyms** are more general, and we can go to the top of the hierarchy via hypernym paths. Some words have mutliple paths, since they can be classified multiple ways. E.g., 'cars' can be classified as either conveyances or containers:"
   ]
  },
  {
   "cell_type": "code",
   "execution_count": 127,
   "metadata": {},
   "outputs": [
    {
     "data": {
      "text/plain": [
       "[Synset('motor_vehicle.n.01')]"
      ]
     },
     "execution_count": 127,
     "metadata": {},
     "output_type": "execute_result"
    }
   ],
   "source": [
    "motorcar.hypernyms()  # Retrieves the hypernyms (more general terms) of the 'motorcar' synset"
   ]
  },
  {
   "cell_type": "code",
   "execution_count": 128,
   "metadata": {},
   "outputs": [
    {
     "data": {
      "text/plain": [
       "2"
      ]
     },
     "execution_count": 128,
     "metadata": {},
     "output_type": "execute_result"
    }
   ],
   "source": [
    "paths = motorcar.hypernym_paths()  # Retrieve all the hypernym paths for the 'motorcar' synset\n",
    "len(paths)                         # Get the number of hypernym paths available"
   ]
  },
  {
   "cell_type": "code",
   "execution_count": 129,
   "metadata": {},
   "outputs": [
    {
     "name": "stdout",
     "output_type": "stream",
     "text": [
      "['entity.n.01', 'physical_entity.n.01', 'object.n.01', 'whole.n.02', 'artifact.n.01', 'instrumentality.n.03', 'container.n.01', 'wheeled_vehicle.n.01', 'self-propelled_vehicle.n.01', 'motor_vehicle.n.01', 'car.n.01']\n",
      "\n",
      "['entity.n.01', 'physical_entity.n.01', 'object.n.01', 'whole.n.02', 'artifact.n.01', 'instrumentality.n.03', 'conveyance.n.03', 'vehicle.n.01', 'wheeled_vehicle.n.01', 'self-propelled_vehicle.n.01', 'motor_vehicle.n.01', 'car.n.01']\n",
      "\n"
     ]
    }
   ],
   "source": [
    "paths = motorcar.hypernym_paths()  # Retrieve all the hypernym paths for 'motorcar'\n",
    "\n",
    "# Loop through each hypernym path and print it\n",
    "for path in paths:\n",
    "    print([synset.name() for synset in path])  # Display the synsets along each path as names\n",
    "    print()"
   ]
  },
  {
   "cell_type": "markdown",
   "metadata": {},
   "source": [
    "#### Breakdown:\n",
    "* First Path:\n",
    "\n",
    "['entity.n.01', 'physical_entity.n.01', 'object.n.01', 'whole.n.02', 'artifact.n.01', 'instrumentality.n.03', 'container.n.01', 'wheeled_vehicle.n.01', 'self-propelled_vehicle.n.01', 'motor_vehicle.n.01', 'car.n.01']\n",
    "**This path classifies motorcar as a type of container under wheeled vehicles.**\n",
    "\n",
    "* Second Path:\n",
    "\n",
    "['entity.n.01', 'physical_entity.n.01', 'object.n.01', 'whole.n.02', 'artifact.n.01', 'instrumentality.n.03', 'conveyance.n.03', 'vehicle.n.01', 'wheeled_vehicle.n.01', 'self-propelled_vehicle.n.01', 'motor_vehicle.n.01', 'car.n.01']\n",
    "**This path classifies motorcar as a type of conveyance under vehicles.**"
   ]
  },
  {
   "cell_type": "code",
   "execution_count": 131,
   "metadata": {},
   "outputs": [
    {
     "data": {
      "text/plain": [
       "[<bound method Synset.name of Synset('entity.n.01')>,\n",
       " <bound method Synset.name of Synset('physical_entity.n.01')>,\n",
       " <bound method Synset.name of Synset('object.n.01')>,\n",
       " <bound method Synset.name of Synset('whole.n.02')>,\n",
       " <bound method Synset.name of Synset('artifact.n.01')>,\n",
       " <bound method Synset.name of Synset('instrumentality.n.03')>,\n",
       " <bound method Synset.name of Synset('container.n.01')>,\n",
       " <bound method Synset.name of Synset('wheeled_vehicle.n.01')>,\n",
       " <bound method Synset.name of Synset('self-propelled_vehicle.n.01')>,\n",
       " <bound method Synset.name of Synset('motor_vehicle.n.01')>,\n",
       " <bound method Synset.name of Synset('car.n.01')>]"
      ]
     },
     "execution_count": 131,
     "metadata": {},
     "output_type": "execute_result"
    }
   ],
   "source": [
    "[synset.name for synset in paths[0]]"
   ]
  },
  {
   "cell_type": "code",
   "execution_count": 132,
   "metadata": {},
   "outputs": [
    {
     "data": {
      "text/plain": [
       "[<bound method Synset.name of Synset('entity.n.01')>,\n",
       " <bound method Synset.name of Synset('physical_entity.n.01')>,\n",
       " <bound method Synset.name of Synset('object.n.01')>,\n",
       " <bound method Synset.name of Synset('whole.n.02')>,\n",
       " <bound method Synset.name of Synset('artifact.n.01')>,\n",
       " <bound method Synset.name of Synset('instrumentality.n.03')>,\n",
       " <bound method Synset.name of Synset('conveyance.n.03')>,\n",
       " <bound method Synset.name of Synset('vehicle.n.01')>,\n",
       " <bound method Synset.name of Synset('wheeled_vehicle.n.01')>,\n",
       " <bound method Synset.name of Synset('self-propelled_vehicle.n.01')>,\n",
       " <bound method Synset.name of Synset('motor_vehicle.n.01')>,\n",
       " <bound method Synset.name of Synset('car.n.01')>]"
      ]
     },
     "execution_count": 132,
     "metadata": {},
     "output_type": "execute_result"
    }
   ],
   "source": [
    "[synset.name for synset in paths[1]]"
   ]
  },
  {
   "cell_type": "markdown",
   "metadata": {},
   "source": [
    "We can get the most general hypernyms (or root hypernyms) of a synset as follows:"
   ]
  },
  {
   "cell_type": "code",
   "execution_count": 134,
   "metadata": {},
   "outputs": [
    {
     "data": {
      "text/plain": [
       "[Synset('entity.n.01')]"
      ]
     },
     "execution_count": 134,
     "metadata": {},
     "output_type": "execute_result"
    }
   ],
   "source": [
    "motorcar.root_hypernyms()"
   ]
  },
  {
   "cell_type": "markdown",
   "metadata": {},
   "source": [
    "### More Lexical Relations\n",
    "*Hypernyms* and *hyponyms* are called **lexical relations** because they relate one synset\n",
    "to another. These two relations navigate up and down the “is-a” hierarchy. Another\n",
    "important way to navigate the WordNet network is from items to their components\n",
    "(**meronyms**) or to the things they are contained in (**holonyms**). For example, the parts\n",
    "of a tree are its trunk, crown, and so on; these are the `part_meronyms()`. The substance\n",
    "a tree is made of includes heartwood and sapwood, i.e., the `substance_meronyms()`. A\n",
    "collection of trees forms a forest, i.e., the `member_holonyms()`:"
   ]
  },
  {
   "cell_type": "code",
   "execution_count": 136,
   "metadata": {},
   "outputs": [
    {
     "data": {
      "text/plain": [
       "[Synset('burl.n.02'),\n",
       " Synset('crown.n.07'),\n",
       " Synset('limb.n.02'),\n",
       " Synset('stump.n.01'),\n",
       " Synset('trunk.n.01')]"
      ]
     },
     "execution_count": 136,
     "metadata": {},
     "output_type": "execute_result"
    }
   ],
   "source": [
    "wn.synset('tree.n.01').part_meronyms()  # Retrieve part meronyms for the synset 'tree.n.01'"
   ]
  },
  {
   "cell_type": "code",
   "execution_count": 137,
   "metadata": {},
   "outputs": [
    {
     "data": {
      "text/plain": [
       "[Synset('heartwood.n.01'), Synset('sapwood.n.01')]"
      ]
     },
     "execution_count": 137,
     "metadata": {},
     "output_type": "execute_result"
    }
   ],
   "source": [
    "wn.synset('tree.n.01').substance_meronyms()  # Retrieve substance meronyms for the synset 'tree.n.01'"
   ]
  },
  {
   "cell_type": "code",
   "execution_count": 138,
   "metadata": {},
   "outputs": [
    {
     "data": {
      "text/plain": [
       "[Synset('forest.n.01')]"
      ]
     },
     "execution_count": 138,
     "metadata": {},
     "output_type": "execute_result"
    }
   ],
   "source": [
    "wn.synset('tree.n.01').member_holonyms()  # Retrieve member holonyms for the synset 'tree.n.01'"
   ]
  },
  {
   "cell_type": "code",
   "execution_count": 139,
   "metadata": {},
   "outputs": [
    {
     "name": "stdout",
     "output_type": "stream",
     "text": [
      "batch.n.02 : (often followed by `of') a large number or amount or extent\n",
      "mint.n.02 : any north temperate plant of the genus Mentha with aromatic leaves and small mauve flowers\n",
      "mint.n.03 : any member of the mint family of plants\n",
      "mint.n.04 : the leaves of a mint plant used fresh or candied\n",
      "mint.n.05 : a candy that is flavored with a mint oil\n",
      "mint.n.06 : a plant where money is coined by authority of the government\n"
     ]
    }
   ],
   "source": [
    "for synset in wn.synsets('mint', wn.NOUN):          # Loop through all noun synsets for the word 'mint'\n",
    "    print(synset.name(), ':', synset.definition())  # Print the synset name and its definition"
   ]
  }
 ],
 "metadata": {
  "kernelspec": {
   "display_name": "Python 3 (ipykernel)",
   "language": "python",
   "name": "python3"
  },
  "language_info": {
   "codemirror_mode": {
    "name": "ipython",
    "version": 3
   },
   "file_extension": ".py",
   "mimetype": "text/x-python",
   "name": "python",
   "nbconvert_exporter": "python",
   "pygments_lexer": "ipython3",
   "version": "3.11.7"
  }
 },
 "nbformat": 4,
 "nbformat_minor": 4
}
