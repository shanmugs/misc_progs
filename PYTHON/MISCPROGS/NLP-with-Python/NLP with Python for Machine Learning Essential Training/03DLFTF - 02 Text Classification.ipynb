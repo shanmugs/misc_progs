{
 "cells": [
  {
   "cell_type": "markdown",
   "metadata": {
    "id": "lTguFckTEDWd"
   },
   "source": [
    "# Word Embeddings for Sentiment Analysis\n",
    "\n",
    "This notebook explains an introduction to word embeddings. We will train our own word embeddings using a simple Keras model for a sentiment classification task.\n",
    "\n",
    "Steps include:\n",
    "1. Downloading data from tensorflow dataset.\n",
    "2. Segregating training and testing sentences & labels.\n",
    "3. Data preparation to padded sequences\n",
    "4. Defining out Keras model with an Embedding layer.\n",
    "5. Train the model and explore the weights from the embedding layer.\n"
   ]
  },
  {
   "cell_type": "markdown",
   "metadata": {},
   "source": [
    "#### Two very common vectorizing strategies include:\n",
    "\n",
    "**One-hot enconding** - Creates a very sparse matrix (inefficient).\n",
    "\n",
    "**Unique number enconding** - It does not capture any relationship between the words (hard to interpret)\n",
    "\n",
    "Now, **word embeddings** give us a way to use an efficient dense representation in which similar words have a similar encoding. And importantly, you do not have to specify the encoding by hand."
   ]
  },
  {
   "cell_type": "code",
   "execution_count": 3,
   "metadata": {},
   "outputs": [],
   "source": [
    "#! pip install tensorflow-datasets"
   ]
  },
  {
   "cell_type": "code",
   "execution_count": 4,
   "metadata": {
    "colab": {
     "base_uri": "https://localhost:8080/"
    },
    "id": "9mW3Mt2q5kL2",
    "outputId": "9d538627-cd2f-4786-80ba-f3036be6cbe1"
   },
   "outputs": [
    {
     "name": "stdout",
     "output_type": "stream",
     "text": [
      "2.13.1\n"
     ]
    }
   ],
   "source": [
    "##import the required libraries and APIs\n",
    "import numpy as np\n",
    "import tensorflow as tf\n",
    "import tensorflow_datasets as tfds\n",
    "from tensorflow.keras.preprocessing.text import Tokenizer\n",
    "from tensorflow.keras.preprocessing.sequence import pad_sequences\n",
    "\n",
    "print(tf.__version__)"
   ]
  },
  {
   "cell_type": "markdown",
   "metadata": {
    "id": "2rhw0j_s5UZ2"
   },
   "source": [
    "### 1. Downloading the TensorFlow `imdb_review` dataset\n",
    "\n",
    "> Make sure tensorflow_datasets is installed"
   ]
  },
  {
   "cell_type": "code",
   "execution_count": 6,
   "metadata": {
    "id": "dx_DJfb7EFHh"
   },
   "outputs": [],
   "source": [
    "##load the imdb reviews dataset\n",
    "data, info = tfds.load(\"imdb_reviews\", with_info=True, as_supervised=True)"
   ]
  },
  {
   "cell_type": "markdown",
   "metadata": {
    "id": "8MBqFTBP6DT4"
   },
   "source": [
    "### 2. Segregating training and testing sets"
   ]
  },
  {
   "cell_type": "code",
   "execution_count": 8,
   "metadata": {
    "id": "GM2X1wLvUb8n"
   },
   "outputs": [],
   "source": [
    "##segregate training and test set\n",
    "train_data, test_data = data['train'], data['test']\n",
    "\n",
    "##create empty list to store sentences and labels\n",
    "train_sentences = []\n",
    "test_sentences = []\n",
    "\n",
    "train_labels = []\n",
    "test_labels = []"
   ]
  },
  {
   "cell_type": "code",
   "execution_count": 9,
   "metadata": {
    "id": "rxoAZl0gU_y-"
   },
   "outputs": [],
   "source": [
    "# Iterate over the train data to extract sentences and labels\n",
    "for sent, label in train_data:                               # Loop through each sentence and label pair in the training data\n",
    "    train_sentences.append(str(sent.numpy().decode('utf8'))) # Convert the sentence tensor to a string, then append to the train_sentences list\n",
    "    train_labels.append(label.numpy())                       # Convert the label tensor to a NumPy array and append to the train_labels list\n",
    "\n",
    "# Iterate over the test set to extract sentences and labels\n",
    "for sent, label in test_data:                                # Loop through each sentence and label pair in the test data\n",
    "    test_sentences.append(str(sent.numpy().decode('utf8')))  # Convert the sentence tensor to a string, then append to the test_sentences list\n",
    "    test_labels.append(label.numpy())                        # Convert the label tensor to a NumPy array and append to the test_labels list"
   ]
  },
  {
   "cell_type": "code",
   "execution_count": 10,
   "metadata": {
    "id": "eDKl0NzBITfe"
   },
   "outputs": [],
   "source": [
    "##convert lists into numpy array\n",
    "train_labels = np.array(train_labels)\n",
    "test_labels = np.array(test_labels)"
   ]
  },
  {
   "cell_type": "markdown",
   "metadata": {
    "id": "pLIjftvF6IRZ"
   },
   "source": [
    "### 3. Data preparation - setting up the tokenizer"
   ]
  },
  {
   "cell_type": "code",
   "execution_count": 12,
   "metadata": {
    "id": "6Mqx-tgBVXQz"
   },
   "outputs": [],
   "source": [
    "##define the parameters for the tokenizing and padding\n",
    "vocab_size = 10000\n",
    "embedding_dim = 16\n",
    "max_length = 120\n",
    "trunc_type='post'\n",
    "oov_tok = \"<OOV>\""
   ]
  },
  {
   "cell_type": "code",
   "execution_count": 13,
   "metadata": {
    "id": "nYsZatAaVmfq"
   },
   "outputs": [],
   "source": [
    "tokenizer = Tokenizer(num_words=vocab_size,                # Initialize the Tokenizer with the vocabulary size and OOV token.\n",
    "                      oov_token=oov_tok)\n",
    "\n",
    "tokenizer.fit_on_texts(train_sentences)                    # Fit the tokenizer on the training sentences to build the word index.\n",
    "word_index = tokenizer.word_index                          # Retrieve the word index mapping words to integers.\n",
    "\n",
    "## Training sequences and labels\n",
    "train_seqs = tokenizer.texts_to_sequences(train_sentences) # Convert training sentences to sequences of integer tokens.\n",
    "train_padded = pad_sequences(                              # Pad the sequences to ensure they all have the same length.\n",
    "                             train_seqs,                   # Sequences to pad.\n",
    "                             maxlen=max_length,            # Maximum length of each sequence.\n",
    "                             truncating=trunc_type         # Truncation type when sequences are longer than max_length.\n",
    "                            )\n",
    "\n",
    "## Testing sequences and labels\n",
    "test_seqs = tokenizer.texts_to_sequences(test_sentences)   # Convert testing sentences to sequences of integer tokens.\n",
    "test_padded = pad_sequences(                               # Pad the sequences to ensure they all have the same length.\n",
    "                            test_seqs,                     # Sequences to pad.\n",
    "                            maxlen=max_length              # Maximum length of each sequence.\n",
    "                            )"
   ]
  },
  {
   "cell_type": "code",
   "execution_count": 14,
   "metadata": {
    "colab": {
     "base_uri": "https://localhost:8080/"
    },
    "id": "U7DbJ3cWV4zC",
    "outputId": "f65ca9eb-c54d-45b9-d35c-77c031172334"
   },
   "outputs": [
    {
     "name": "stdout",
     "output_type": "stream",
     "text": [
      "I have been known to fall asleep during films, but this is usually due to a combination of things including, really tired, being warm and comfortable on the sette and having just eaten a lot. However on this occasion I fell asleep because the film was rubbish. The plot development was constant. Constantly slow and boring. Things seemed to happen, but with no explanation of what was causing them or why. I admit, I may have missed part of the film, but i watched the majority of it and everything just seemed to happen of its own accord without any real concern for anything else. I cant recommend this film at all.\n",
      "\n",
      "[   0    0    0    0    0    0    0    0   11   26   75  571    6  805\n",
      " 2354  313  106   19   12    7  629  686    6    4 2219    5  181  584\n",
      "   64 1454  110 2263    3 3951   21    2    1    3  258   41 4677    4\n",
      "  174  188   21   12 4078   11 1578 2354   86    2   20   14 1907    2\n",
      "  112  940   14 1811 1340  548    3  355  181  466    6  591   19   17\n",
      "   55 1817    5   49   14 4044   96   40  136   11  972   11  201   26\n",
      " 1046  171    5    2   20   19   11  294    2 2155    5   10    3  283\n",
      "   41  466    6  591    5   92  203    1  207   99  145 4382   16  230\n",
      "  332   11 2486  384   12   20   31   30]\n",
      "\n",
      "? ? ? ? ? ? ? ? i have been known to fall asleep during films but this is usually due to a combination of things including really tired being warm and comfortable on the <OOV> and having just eaten a lot however on this occasion i fell asleep because the film was rubbish the plot development was constant constantly slow and boring things seemed to happen but with no explanation of what was causing them or why i admit i may have missed part of the film but i watched the majority of it and everything just seemed to happen of its own <OOV> without any real concern for anything else i cant recommend this film at all\n"
     ]
    }
   ],
   "source": [
    "# Create a dictionary to reverse the word index, mapping integers back to words.\n",
    "reverse_word_index = dict([(value, key) for (key, value) in word_index.items()])  \n",
    "\n",
    "# Define a function to decode sequences of integers back into human-readable text.\n",
    "def decode_review(text):                                  \n",
    "    return ' '.join([reverse_word_index.get(i, '?') for i in text])  # Replace each integer with its corresponding word; use '?' if is not found.\n",
    "\n",
    "print(train_sentences[1])                                  # Print the second training sentence (before tokenization).\n",
    "print()\n",
    "print(train_padded[1])                                     # Print the padded sequence of the second training sentence.\n",
    "print()\n",
    "print(decode_review(train_padded[1]))                      # Decode the padded sequence back into the original sentence form (or closest match)."
   ]
  },
  {
   "cell_type": "markdown",
   "metadata": {
    "id": "PcvfYesOIo3A"
   },
   "source": [
    "### 4. Define the Neural Network with Embedding layer\n",
    "\n",
    "1. Use the Sequential API.\n",
    "2. Add an embedding input layer of input size equal to vocabulary size.\n",
    "3. Add a flatten layer, and two dense layers."
   ]
  },
  {
   "cell_type": "code",
   "execution_count": 16,
   "metadata": {
    "colab": {
     "base_uri": "https://localhost:8080/"
    },
    "id": "RF6ict6vWJAV",
    "outputId": "ec464b9f-1a93-4d65-9f67-af3e0ecf22a9"
   },
   "outputs": [
    {
     "name": "stdout",
     "output_type": "stream",
     "text": [
      "Model: \"sequential\"\n",
      "_________________________________________________________________\n",
      " Layer (type)                Output Shape              Param #   \n",
      "=================================================================\n",
      " embedding (Embedding)       (None, 120, 16)           160000    \n",
      "                                                                 \n",
      " flatten (Flatten)           (None, 1920)              0         \n",
      "                                                                 \n",
      " dense (Dense)               (None, 6)                 11526     \n",
      "                                                                 \n",
      " dense_1 (Dense)             (None, 1)                 7         \n",
      "                                                                 \n",
      "=================================================================\n",
      "Total params: 171533 (670.05 KB)\n",
      "Trainable params: 171533 (670.05 KB)\n",
      "Non-trainable params: 0 (0.00 Byte)\n",
      "_________________________________________________________________\n"
     ]
    }
   ],
   "source": [
    "model = tf.keras.Sequential([      # Create a Sequential model to stack layers linearly.\n",
    "    tf.keras.layers.Embedding(     # Add an Embedding layer to convert word indices to dense vectors of fixed size.\n",
    "        vocab_size,                # Set the vocabulary size as the number of possible word indices.\n",
    "        embedding_dim,             # Define the dimensionality of the embedding space.\n",
    "        input_length=max_length    # Specify the length of the input sequences.\n",
    "    ),\n",
    "    tf.keras.layers.Flatten(),                       # Flatten the 2D embeddings into a 1D vector for each input sequence.\n",
    "    tf.keras.layers.Dense(6, activation='relu'),     # Add a Dense layer with 6 units and ReLU activation for learning non-linear features.\n",
    "    tf.keras.layers.Dense(1, activation='sigmoid')   # Add an output Dense layer with 1 unit and sigmoid activation for binary classification.\n",
    "])\n",
    "\n",
    "# Compile the model with loss function, optimizer, and evaluation metric.\n",
    "model.compile(\n",
    "    loss='binary_crossentropy',   # Use binary crossentropy as the loss function for binary classification.\n",
    "    optimizer='adam',             # Use the Adam optimizer for efficient gradient descent.\n",
    "    metrics=['accuracy']          # Track accuracy as the evaluation metric during training.\n",
    ")\n",
    "\n",
    "model.summary()      # Display a summary of the model architecture."
   ]
  },
  {
   "cell_type": "markdown",
   "metadata": {
    "id": "hlNRXgJ99Dv9"
   },
   "source": [
    "### 5. Model Training"
   ]
  },
  {
   "cell_type": "code",
   "execution_count": 18,
   "metadata": {
    "colab": {
     "base_uri": "https://localhost:8080/"
    },
    "id": "2S9zFDyLWZDF",
    "outputId": "f76e87db-94ad-4e92-ef24-13aa2ff90721"
   },
   "outputs": [
    {
     "name": "stdout",
     "output_type": "stream",
     "text": [
      "Epoch 1/10\n",
      "782/782 [==============================] - 8s 8ms/step - loss: 0.4867 - accuracy: 0.7484 - val_loss: 0.3463 - val_accuracy: 0.8495\n",
      "Epoch 2/10\n",
      "782/782 [==============================] - 6s 8ms/step - loss: 0.2349 - accuracy: 0.9104 - val_loss: 0.3909 - val_accuracy: 0.8300\n",
      "Epoch 3/10\n",
      "782/782 [==============================] - 6s 8ms/step - loss: 0.0827 - accuracy: 0.9799 - val_loss: 0.4495 - val_accuracy: 0.8326\n",
      "Epoch 4/10\n",
      "782/782 [==============================] - 6s 8ms/step - loss: 0.0196 - accuracy: 0.9976 - val_loss: 0.5327 - val_accuracy: 0.8272\n",
      "Epoch 5/10\n",
      "782/782 [==============================] - 6s 8ms/step - loss: 0.0047 - accuracy: 0.9999 - val_loss: 0.5849 - val_accuracy: 0.8311\n",
      "Epoch 6/10\n",
      "782/782 [==============================] - 5s 6ms/step - loss: 0.0017 - accuracy: 1.0000 - val_loss: 0.6345 - val_accuracy: 0.8308\n",
      "Epoch 7/10\n",
      "782/782 [==============================] - 4s 6ms/step - loss: 8.0726e-04 - accuracy: 1.0000 - val_loss: 0.6755 - val_accuracy: 0.8312\n",
      "Epoch 8/10\n",
      "782/782 [==============================] - 5s 7ms/step - loss: 4.3441e-04 - accuracy: 1.0000 - val_loss: 0.7228 - val_accuracy: 0.8298\n",
      "Epoch 9/10\n",
      "782/782 [==============================] - 6s 7ms/step - loss: 2.5214e-04 - accuracy: 1.0000 - val_loss: 0.7548 - val_accuracy: 0.8310\n",
      "Epoch 10/10\n",
      "782/782 [==============================] - 6s 8ms/step - loss: 1.5116e-04 - accuracy: 1.0000 - val_loss: 0.7887 - val_accuracy: 0.8313\n"
     ]
    },
    {
     "data": {
      "text/plain": [
       "<keras.src.callbacks.History at 0x1d3e6b95e50>"
      ]
     },
     "execution_count": 18,
     "metadata": {},
     "output_type": "execute_result"
    }
   ],
   "source": [
    "num_epochs = 10    # Set the number of epochs to train the model.\n",
    "\n",
    "# Train the model using the training data and validate using the test data.\n",
    "model.fit(\n",
    "    train_padded,                                # Use the padded training sequences as input data.\n",
    "    train_labels,                                # Use the corresponding labels for training.\n",
    "    epochs=num_epochs,                           # Train the model for the specified number of epochs.\n",
    "    validation_data=(test_padded, test_labels)   # Use the padded test sequences and labels for validation.\n",
    ")"
   ]
  },
  {
   "cell_type": "markdown",
   "metadata": {
    "id": "QCHKeE8Z9Gm9"
   },
   "source": [
    "#### Deriving weights from the embedding layer"
   ]
  },
  {
   "cell_type": "code",
   "execution_count": 20,
   "metadata": {
    "colab": {
     "base_uri": "https://localhost:8080/"
    },
    "id": "X6aT5Q63gW8j",
    "outputId": "89aa9c77-795c-4c77-bdf5-afeda9486997"
   },
   "outputs": [
    {
     "name": "stdout",
     "output_type": "stream",
     "text": [
      "(10000, 16)\n",
      "[ 0.06578237  0.01616081 -0.02678456  0.01403826 -0.04105218  0.04631002\n",
      " -0.01617832 -0.00771912 -0.0299448  -0.01774015  0.05157409 -0.04446197\n",
      " -0.02435921 -0.03786899 -0.04577496 -0.01722278]\n"
     ]
    }
   ],
   "source": [
    "# Isolating the first embedding layer from the model.\n",
    "l1 = model.layers[0]\n",
    "\n",
    "\n",
    "# Extracting the learned weights (embeddings) from the first layer.\n",
    "\n",
    "weights = l1.get_weights()[0]  # Retrieve the weights matrix, which holds the embeddings.\n",
    "print(weights.shape)           # Print the shape of the weights; expected shape: (vocab_size, embedding_dim).\n",
    "print(weights[0])              # Print the weights for the first token (usually the OOV token)."
   ]
  },
  {
   "cell_type": "markdown",
   "metadata": {},
   "source": [
    "# Classifying News Headlines"
   ]
  },
  {
   "cell_type": "code",
   "execution_count": 22,
   "metadata": {},
   "outputs": [
    {
     "data": {
      "text/html": [
       "<div>\n",
       "<style scoped>\n",
       "    .dataframe tbody tr th:only-of-type {\n",
       "        vertical-align: middle;\n",
       "    }\n",
       "\n",
       "    .dataframe tbody tr th {\n",
       "        vertical-align: top;\n",
       "    }\n",
       "\n",
       "    .dataframe thead th {\n",
       "        text-align: right;\n",
       "    }\n",
       "</style>\n",
       "<table border=\"1\" class=\"dataframe\">\n",
       "  <thead>\n",
       "    <tr style=\"text-align: right;\">\n",
       "      <th></th>\n",
       "      <th>article_link</th>\n",
       "      <th>headline</th>\n",
       "      <th>is_sarcastic</th>\n",
       "    </tr>\n",
       "  </thead>\n",
       "  <tbody>\n",
       "    <tr>\n",
       "      <th>0</th>\n",
       "      <td>https://www.huffingtonpost.com/entry/versace-b...</td>\n",
       "      <td>former versace store clerk sues over secret 'b...</td>\n",
       "      <td>0</td>\n",
       "    </tr>\n",
       "    <tr>\n",
       "      <th>1</th>\n",
       "      <td>https://www.huffingtonpost.com/entry/roseanne-...</td>\n",
       "      <td>the 'roseanne' revival catches up to our thorn...</td>\n",
       "      <td>0</td>\n",
       "    </tr>\n",
       "    <tr>\n",
       "      <th>2</th>\n",
       "      <td>https://local.theonion.com/mom-starting-to-fea...</td>\n",
       "      <td>mom starting to fear son's web series closest ...</td>\n",
       "      <td>1</td>\n",
       "    </tr>\n",
       "    <tr>\n",
       "      <th>3</th>\n",
       "      <td>https://politics.theonion.com/boehner-just-wan...</td>\n",
       "      <td>boehner just wants wife to listen, not come up...</td>\n",
       "      <td>1</td>\n",
       "    </tr>\n",
       "    <tr>\n",
       "      <th>4</th>\n",
       "      <td>https://www.huffingtonpost.com/entry/jk-rowlin...</td>\n",
       "      <td>j.k. rowling wishes snape happy birthday in th...</td>\n",
       "      <td>0</td>\n",
       "    </tr>\n",
       "  </tbody>\n",
       "</table>\n",
       "</div>"
      ],
      "text/plain": [
       "                                        article_link  \\\n",
       "0  https://www.huffingtonpost.com/entry/versace-b...   \n",
       "1  https://www.huffingtonpost.com/entry/roseanne-...   \n",
       "2  https://local.theonion.com/mom-starting-to-fea...   \n",
       "3  https://politics.theonion.com/boehner-just-wan...   \n",
       "4  https://www.huffingtonpost.com/entry/jk-rowlin...   \n",
       "\n",
       "                                            headline  is_sarcastic  \n",
       "0  former versace store clerk sues over secret 'b...             0  \n",
       "1  the 'roseanne' revival catches up to our thorn...             0  \n",
       "2  mom starting to fear son's web series closest ...             1  \n",
       "3  boehner just wants wife to listen, not come up...             1  \n",
       "4  j.k. rowling wishes snape happy birthday in th...             0  "
      ]
     },
     "execution_count": 22,
     "metadata": {},
     "output_type": "execute_result"
    }
   ],
   "source": [
    "import pandas as pd\n",
    "\n",
    "# Download Kaggle Dataset\n",
    "data = pd.read_json('data/Sarcasm_Headlines_Dataset.json', lines=True)\n",
    "\n",
    "data.head()"
   ]
  },
  {
   "cell_type": "code",
   "execution_count": 23,
   "metadata": {},
   "outputs": [
    {
     "data": {
      "text/plain": [
       "[\"former versace store clerk sues over secret 'black code' for minority shoppers\",\n",
       " \"the 'roseanne' revival catches up to our thorny political mood, for better and worse\",\n",
       " \"mom starting to fear son's web series closest thing she will have to grandchild\",\n",
       " 'boehner just wants wife to listen, not come up with alternative debt-reduction ideas',\n",
       " 'j.k. rowling wishes snape happy birthday in the most magical way']"
      ]
     },
     "execution_count": 23,
     "metadata": {},
     "output_type": "execute_result"
    }
   ],
   "source": [
    "# create lists to store the headlines and labels\n",
    "headlines = list(data['headline'])\n",
    "labels = list(data['is_sarcastic'])\n",
    "\n",
    "headlines[:5]  # First 5 lines"
   ]
  },
  {
   "cell_type": "markdown",
   "metadata": {},
   "source": [
    "#### Set the Parameters"
   ]
  },
  {
   "cell_type": "code",
   "execution_count": 25,
   "metadata": {},
   "outputs": [],
   "source": [
    "##define tokenizing and padding parameters\n",
    "vocab_size = 10000\n",
    "max_length = 120\n",
    "embedding_dim = 16\n",
    "trunc_type='post'\n",
    "padding_type='post'\n",
    "oov_tok = \"\"\n",
    "training_size = 20000"
   ]
  },
  {
   "cell_type": "markdown",
   "metadata": {},
   "source": [
    "#### Splitting the training and testing set"
   ]
  },
  {
   "cell_type": "code",
   "execution_count": 27,
   "metadata": {},
   "outputs": [],
   "source": [
    "##sentences\n",
    "training_sentences = headlines[0:training_size]  # Extract training sentences from the headlines list, up to the training size.\n",
    "testing_sentences = headlines[training_size:]    # Extract testing sentences from the headlines list, starting from the training size to the end.\n",
    "\n",
    "##labels\n",
    "training_labels = labels[0:training_size]   # Extract training labels from the labels list, up to the training size.\n",
    "testing_labels = labels[training_size:]     # Extract testing labels from the labels list, starting from the training size to the end."
   ]
  },
  {
   "cell_type": "markdown",
   "metadata": {},
   "source": [
    "#### Preprocess sentences"
   ]
  },
  {
   "cell_type": "code",
   "execution_count": 29,
   "metadata": {},
   "outputs": [],
   "source": [
    "tokenizer = Tokenizer(num_words=vocab_size,  # Initialize the Tokenizer with a vocabulary size limit \n",
    "                      oov_token=oov_tok)     # and out-of-vocabulary token.\n",
    "\n",
    "# Fit the tokenizer on the training sentences to build the word index.\n",
    "tokenizer.fit_on_texts(training_sentences)  \n",
    "\n",
    "# Retrieve the word index dictionary, mapping words to their integer indices.\n",
    "word_index = tokenizer.word_index  \n",
    "\n",
    "# Convert the training sentences to sequences of integers based on the word index.\n",
    "training_sequences = tokenizer.texts_to_sequences(training_sentences)  \n",
    "\n",
    "training_padded = pad_sequences(training_sequences,     # Pad the sequences to ensure uniform length.\n",
    "                                maxlen=max_length,      # Set the maximum length for padding.\n",
    "                                padding=padding_type,   # Specify padding type ('pre' or 'post').\n",
    "                                truncating=trunc_type)  # Specify truncating type ('pre' or 'post').\n",
    "\n",
    "# Convert the testing sentences to sequences of integers using the same tokenizer.\n",
    "testing_sequences = tokenizer.texts_to_sequences(testing_sentences)  \n",
    "\n",
    "testing_padded = pad_sequences(testing_sequences,      # Pad the testing sequences to ensure uniform length.\n",
    "                               maxlen=max_length,      # Set the maximum length for padding.\n",
    "                               padding=padding_type,   # Specify padding type ('pre' or 'post').\n",
    "                               truncating=trunc_type)  # Specify truncating type ('pre' or 'post')."
   ]
  },
  {
   "cell_type": "code",
   "execution_count": 30,
   "metadata": {},
   "outputs": [],
   "source": [
    "# Convert lists into numpy arrays to ensure compatibility with TensorFlow 2.x\n",
    "\n",
    "training_padded = np.array(training_padded)  # Convert the padded training sequences to a numpy array.\n",
    "training_labels = np.array(training_labels)  # Convert the training labels to a numpy array.\n",
    "testing_padded = np.array(testing_padded)    # Convert the padded testing sequences to a numpy array.\n",
    "testing_labels = np.array(testing_labels)    # Convert the testing labels to a numpy array."
   ]
  },
  {
   "cell_type": "markdown",
   "metadata": {},
   "source": [
    "### Define the neural network model with the following layers:\n",
    "1. Embedding layer\n",
    "2. Global Average pooling layer(1D)\n",
    "3. Dense layer with 24 nodes\n",
    "4. Output Dense layer with sigmoid activation"
   ]
  },
  {
   "cell_type": "code",
   "execution_count": 32,
   "metadata": {},
   "outputs": [
    {
     "name": "stdout",
     "output_type": "stream",
     "text": [
      "Model: \"sequential_1\"\n",
      "_________________________________________________________________\n",
      " Layer (type)                Output Shape              Param #   \n",
      "=================================================================\n",
      " embedding_1 (Embedding)     (None, 120, 16)           160000    \n",
      "                                                                 \n",
      " global_average_pooling1d (  (None, 16)                0         \n",
      " GlobalAveragePooling1D)                                         \n",
      "                                                                 \n",
      " dense_2 (Dense)             (None, 24)                408       \n",
      "                                                                 \n",
      " dense_3 (Dense)             (None, 1)                 25        \n",
      "                                                                 \n",
      "=================================================================\n",
      "Total params: 160433 (626.69 KB)\n",
      "Trainable params: 160433 (626.69 KB)\n",
      "Non-trainable params: 0 (0.00 Byte)\n",
      "_________________________________________________________________\n"
     ]
    }
   ],
   "source": [
    "model = tf.keras.Sequential([      # Create a Sequential model to stack layers linearly.\n",
    "    tf.keras.layers.Embedding(     # Add an Embedding layer to convert word indices to dense vectors of fixed size.\n",
    "        vocab_size,                # Set the vocabulary size as the number of possible word indices.\n",
    "        embedding_dim,             # Define the dimensionality of the embedding space.\n",
    "        input_length=max_length    # Specify the length of the input sequences.\n",
    "    ),\n",
    "    tf.keras.layers.GlobalAveragePooling1D(),        # Reduces each sequence to a single vector by averaging over time steps.\n",
    "    tf.keras.layers.Dense(24, activation='relu'),    # Add a Dense layer with 24 units and ReLU activation for learning non-linear features.\n",
    "    tf.keras.layers.Dense(1, activation='sigmoid')   # Add an output Dense layer with 1 unit and sigmoid activation for binary classification.\n",
    "])\n",
    "\n",
    "# Compile the model with loss function, optimizer, and evaluation metric.\n",
    "model.compile(\n",
    "    loss='binary_crossentropy',   # Use binary crossentropy as the loss function for binary classification.\n",
    "    optimizer='adam',             # Use the Adam optimizer for efficient gradient descent.\n",
    "    metrics=['accuracy']          # Track accuracy as the evaluation metric during training.\n",
    ")\n",
    "\n",
    "model.summary()      # Display a summary of the model architecture."
   ]
  },
  {
   "cell_type": "markdown",
   "metadata": {},
   "source": [
    "#### Train the model"
   ]
  },
  {
   "cell_type": "code",
   "execution_count": 34,
   "metadata": {},
   "outputs": [
    {
     "name": "stdout",
     "output_type": "stream",
     "text": [
      "Epoch 1/30\n",
      "625/625 - 5s - loss: 0.6744 - accuracy: 0.5706 - val_loss: 0.6204 - val_accuracy: 0.6117 - 5s/epoch - 8ms/step\n",
      "Epoch 2/30\n",
      "625/625 - 2s - loss: 0.4501 - accuracy: 0.8131 - val_loss: 0.3918 - val_accuracy: 0.8296 - 2s/epoch - 2ms/step\n",
      "Epoch 3/30\n",
      "625/625 - 2s - loss: 0.3135 - accuracy: 0.8733 - val_loss: 0.3604 - val_accuracy: 0.8450 - 2s/epoch - 3ms/step\n",
      "Epoch 4/30\n",
      "625/625 - 3s - loss: 0.2609 - accuracy: 0.8983 - val_loss: 0.3496 - val_accuracy: 0.8524 - 3s/epoch - 5ms/step\n",
      "Epoch 5/30\n",
      "625/625 - 3s - loss: 0.2255 - accuracy: 0.9135 - val_loss: 0.3439 - val_accuracy: 0.8547 - 3s/epoch - 5ms/step\n",
      "Epoch 6/30\n",
      "625/625 - 3s - loss: 0.2005 - accuracy: 0.9217 - val_loss: 0.3553 - val_accuracy: 0.8548 - 3s/epoch - 5ms/step\n",
      "Epoch 7/30\n",
      "625/625 - 4s - loss: 0.1759 - accuracy: 0.9333 - val_loss: 0.3622 - val_accuracy: 0.8545 - 4s/epoch - 6ms/step\n",
      "Epoch 8/30\n",
      "625/625 - 4s - loss: 0.1578 - accuracy: 0.9420 - val_loss: 0.3778 - val_accuracy: 0.8538 - 4s/epoch - 6ms/step\n",
      "Epoch 9/30\n",
      "625/625 - 4s - loss: 0.1443 - accuracy: 0.9463 - val_loss: 0.3948 - val_accuracy: 0.8518 - 4s/epoch - 6ms/step\n",
      "Epoch 10/30\n",
      "625/625 - 3s - loss: 0.1291 - accuracy: 0.9546 - val_loss: 0.4221 - val_accuracy: 0.8484 - 3s/epoch - 5ms/step\n",
      "Epoch 11/30\n",
      "625/625 - 4s - loss: 0.1180 - accuracy: 0.9577 - val_loss: 0.4444 - val_accuracy: 0.8481 - 4s/epoch - 6ms/step\n",
      "Epoch 12/30\n",
      "625/625 - 1s - loss: 0.1079 - accuracy: 0.9636 - val_loss: 0.4609 - val_accuracy: 0.8462 - 1s/epoch - 2ms/step\n",
      "Epoch 13/30\n",
      "625/625 - 2s - loss: 0.0979 - accuracy: 0.9676 - val_loss: 0.4869 - val_accuracy: 0.8444 - 2s/epoch - 3ms/step\n",
      "Epoch 14/30\n",
      "625/625 - 3s - loss: 0.0898 - accuracy: 0.9696 - val_loss: 0.5196 - val_accuracy: 0.8425 - 3s/epoch - 6ms/step\n",
      "Epoch 15/30\n",
      "625/625 - 4s - loss: 0.0835 - accuracy: 0.9719 - val_loss: 0.5463 - val_accuracy: 0.8377 - 4s/epoch - 6ms/step\n",
      "Epoch 16/30\n",
      "625/625 - 3s - loss: 0.0756 - accuracy: 0.9750 - val_loss: 0.5824 - val_accuracy: 0.8340 - 3s/epoch - 5ms/step\n",
      "Epoch 17/30\n",
      "625/625 - 3s - loss: 0.0703 - accuracy: 0.9768 - val_loss: 0.6106 - val_accuracy: 0.8362 - 3s/epoch - 5ms/step\n",
      "Epoch 18/30\n",
      "625/625 - 4s - loss: 0.0645 - accuracy: 0.9787 - val_loss: 0.6490 - val_accuracy: 0.8301 - 4s/epoch - 6ms/step\n",
      "Epoch 19/30\n",
      "625/625 - 4s - loss: 0.0585 - accuracy: 0.9817 - val_loss: 0.6798 - val_accuracy: 0.8290 - 4s/epoch - 6ms/step\n",
      "Epoch 20/30\n",
      "625/625 - 3s - loss: 0.0559 - accuracy: 0.9821 - val_loss: 0.7155 - val_accuracy: 0.8264 - 3s/epoch - 5ms/step\n",
      "Epoch 21/30\n",
      "625/625 - 3s - loss: 0.0501 - accuracy: 0.9848 - val_loss: 0.7495 - val_accuracy: 0.8253 - 3s/epoch - 5ms/step\n",
      "Epoch 22/30\n",
      "625/625 - 3s - loss: 0.0458 - accuracy: 0.9865 - val_loss: 0.8065 - val_accuracy: 0.8235 - 3s/epoch - 5ms/step\n",
      "Epoch 23/30\n",
      "625/625 - 3s - loss: 0.0416 - accuracy: 0.9870 - val_loss: 0.8250 - val_accuracy: 0.8249 - 3s/epoch - 5ms/step\n",
      "Epoch 24/30\n",
      "625/625 - 1s - loss: 0.0397 - accuracy: 0.9877 - val_loss: 0.8576 - val_accuracy: 0.8219 - 1s/epoch - 2ms/step\n",
      "Epoch 25/30\n",
      "625/625 - 2s - loss: 0.0349 - accuracy: 0.9903 - val_loss: 0.9185 - val_accuracy: 0.8202 - 2s/epoch - 3ms/step\n",
      "Epoch 26/30\n",
      "625/625 - 3s - loss: 0.0337 - accuracy: 0.9899 - val_loss: 0.9550 - val_accuracy: 0.8182 - 3s/epoch - 4ms/step\n",
      "Epoch 27/30\n",
      "625/625 - 3s - loss: 0.0311 - accuracy: 0.9905 - val_loss: 0.9766 - val_accuracy: 0.8147 - 3s/epoch - 5ms/step\n",
      "Epoch 28/30\n",
      "625/625 - 4s - loss: 0.0288 - accuracy: 0.9913 - val_loss: 1.0276 - val_accuracy: 0.8171 - 4s/epoch - 6ms/step\n",
      "Epoch 29/30\n",
      "625/625 - 2s - loss: 0.0266 - accuracy: 0.9929 - val_loss: 1.0632 - val_accuracy: 0.8174 - 2s/epoch - 2ms/step\n",
      "Epoch 30/30\n",
      "625/625 - 3s - loss: 0.0262 - accuracy: 0.9923 - val_loss: 1.0891 - val_accuracy: 0.8125 - 3s/epoch - 4ms/step\n"
     ]
    }
   ],
   "source": [
    "# Set the number of epochs for training the model.\n",
    "num_epochs = 30  \n",
    "\n",
    "# Train the model with training data and validate with testing data.\n",
    "\n",
    "history = model.fit(training_padded,                                   # Training input sequences.\n",
    "                    training_labels,                                   # Training labels.\n",
    "                    epochs=num_epochs,                                 # Number of epochs to train.\n",
    "                    validation_data=(testing_padded, testing_labels),  # Validation data for evaluating the model during training.\n",
    "                    verbose=2)                                         # Verbosity mode for logging the training progress."
   ]
  },
  {
   "cell_type": "markdown",
   "metadata": {},
   "source": [
    "#### Visualise the train & validation accuracy and loss"
   ]
  },
  {
   "cell_type": "code",
   "execution_count": 36,
   "metadata": {},
   "outputs": [
    {
     "data": {
      "image/png": "[encoded data removed]",
      "text/plain": [
       "<Figure size 640x480 with 1 Axes>"
      ]
     },
     "metadata": {},
     "output_type": "display_data"
    },
    {
     "data": {
      "image/png": "[encoded data removed]",
      "text/plain": [
       "<Figure size 640x480 with 1 Axes>"
      ]
     },
     "metadata": {},
     "output_type": "display_data"
    }
   ],
   "source": [
    "import matplotlib.pyplot as plt\n",
    "\n",
    "# Define a function to plot graphs for training and validation metrics.\n",
    "def plot_graphs(history, string):\n",
    "    plt.plot(history.history[string])         # Plot training metric values.\n",
    "    plt.plot(history.history['val_'+string])  # Plot validation metric values.\n",
    "    plt.legend([string, 'val_'+string])       # Add legend to distinguish between training and validation metrics.\n",
    "    plt.xlabel(\"Epochs\")                      # Label for the x-axis.\n",
    "    plt.ylabel(string)                        # Label for the y-axis, which is the metric being plotted.\n",
    "    plt.show()                                # Display the plot.\n",
    "\n",
    "# Plot accuracy and loss for both training and validation datasets.\n",
    "plot_graphs(history, \"accuracy\")  # Plot accuracy over epochs.\n",
    "plot_graphs(history, \"loss\")      # Plot loss over epochs."
   ]
  },
  {
   "cell_type": "markdown",
   "metadata": {},
   "source": [
    "#### Classifying a new sentence"
   ]
  },
  {
   "cell_type": "code",
   "execution_count": 38,
   "metadata": {},
   "outputs": [
    {
     "name": "stdout",
     "output_type": "stream",
     "text": [
      "1/1 [==============================] - 0s 152ms/step\n",
      "[[8.7117602e-04]\n",
      " [5.0921217e-06]]\n"
     ]
    }
   ],
   "source": [
    "sentence = [\"the baby boy fears spiders in the garden might be real\", \n",
    "            \"game of thrones season finale showing this sunday night\"]\n",
    "\n",
    "# Prepare the sequences of the sentences using the tokenizer.\n",
    "sequences = tokenizer.texts_to_sequences(sentence)  \n",
    "\n",
    "# Pad the sequences to ensure they have the same length as the input length used during training.\n",
    "padded_seqs = pad_sequences(sequences, maxlen=max_length, padding=padding_type, truncating=trunc_type)\n",
    "\n",
    "# Predict the class probabilities for the padded sequences using the trained model.\n",
    "print(model.predict(padded_seqs))"
   ]
  },
  {
   "cell_type": "markdown",
   "metadata": {},
   "source": [
    "*Here we see both of these are very close to zero, both of these do not contain any sarcasm. And that's how this model is actually classifying headlines based on if that particular sentence or if that particular headline is sarcastic or not.* "
   ]
  },
  {
   "cell_type": "markdown",
   "metadata": {},
   "source": [
    "# Text Classification Challenge"
   ]
  },
  {
   "cell_type": "markdown",
   "metadata": {},
   "source": [
    "#### Download the data"
   ]
  },
  {
   "cell_type": "code",
   "execution_count": 42,
   "metadata": {},
   "outputs": [],
   "source": [
    "##load the imdb reviews dataset\n",
    "data, info = tfds.load(\"imdb_reviews\", with_info=True, as_supervised=True)"
   ]
  },
  {
   "cell_type": "markdown",
   "metadata": {},
   "source": [
    "#### Segregating training and testing sets"
   ]
  },
  {
   "cell_type": "code",
   "execution_count": 44,
   "metadata": {},
   "outputs": [],
   "source": [
    "##segregate training and test set\n",
    "train_data, test_data = data['train'], data['test']\n",
    "\n",
    "##create empty list to store sentences and labels\n",
    "train_sentences = []\n",
    "test_sentences = []\n",
    "\n",
    "train_labels = []\n",
    "test_labels = []"
   ]
  },
  {
   "cell_type": "code",
   "execution_count": 45,
   "metadata": {},
   "outputs": [],
   "source": [
    "##iterate over the train data to extract sentences and labels\n",
    "for sent, label in train_data:\n",
    "    train_sentences.append(str(sent.numpy().decode('utf8')))\n",
    "    train_labels.append(label.numpy())\n",
    "\n",
    "##iterate over the test set to extract sentences and labels\n",
    "for sent, label in test_data:\n",
    "    test_sentences.append(str(sent.numpy().decode('utf8')))\n",
    "    test_labels.append(label.numpy())"
   ]
  },
  {
   "cell_type": "code",
   "execution_count": 46,
   "metadata": {},
   "outputs": [],
   "source": [
    "##convert lists into numpy array\n",
    "train_labels = np.array(train_labels)\n",
    "test_labels = np.array(test_labels)"
   ]
  },
  {
   "cell_type": "markdown",
   "metadata": {},
   "source": [
    "#### Data preparation - setting up the tokenizer"
   ]
  },
  {
   "cell_type": "code",
   "execution_count": 48,
   "metadata": {},
   "outputs": [],
   "source": [
    "##define the parameters for the tokenizing and padding\n",
    "vocab_size = 10000\n",
    "embedding_dim = 16\n",
    "max_length = 120\n",
    "trunc_type='post'\n",
    "oov_tok = \"\""
   ]
  },
  {
   "cell_type": "code",
   "execution_count": 49,
   "metadata": {},
   "outputs": [],
   "source": [
    "tokenizer = Tokenizer(num_words = vocab_size, oov_token=oov_tok)\n",
    "tokenizer.fit_on_texts(train_sentences)\n",
    "word_index = tokenizer.word_index\n",
    "\n",
    "##training sequences and labels\n",
    "train_seqs = tokenizer.texts_to_sequences(train_sentences)\n",
    "train_padded = pad_sequences(train_seqs, maxlen=max_length, truncating=trunc_type)\n",
    "\n",
    "##testing sequences and labels\n",
    "test_seqs = tokenizer.texts_to_sequences(test_sentences)\n",
    "test_padded = pad_sequences(test_seqs,maxlen=max_length)"
   ]
  },
  {
   "cell_type": "markdown",
   "metadata": {},
   "source": [
    "### Define the Neural Network with Embedding layer\n",
    "1. Use the Sequential API.\n",
    "2. Add an embedding input layer of input size equal to vocabulary size.\n",
    "3. Add a flatten layer, and two dense layers."
   ]
  },
  {
   "cell_type": "code",
   "execution_count": 51,
   "metadata": {},
   "outputs": [
    {
     "name": "stdout",
     "output_type": "stream",
     "text": [
      "Model: \"sequential_2\"\n",
      "_________________________________________________________________\n",
      " Layer (type)                Output Shape              Param #   \n",
      "=================================================================\n",
      " embedding_2 (Embedding)     (None, 120, 16)           160000    \n",
      "                                                                 \n",
      " global_average_pooling1d_1  (None, 16)                0         \n",
      "  (GlobalAveragePooling1D)                                       \n",
      "                                                                 \n",
      " dense_4 (Dense)             (None, 24)                408       \n",
      "                                                                 \n",
      " dense_5 (Dense)             (None, 1)                 25        \n",
      "                                                                 \n",
      "=================================================================\n",
      "Total params: 160433 (626.69 KB)\n",
      "Trainable params: 160433 (626.69 KB)\n",
      "Non-trainable params: 0 (0.00 Byte)\n",
      "_________________________________________________________________\n"
     ]
    }
   ],
   "source": [
    "model = tf.keras.Sequential([\n",
    "    tf.keras.layers.Embedding(vocab_size, embedding_dim, input_length=max_length),\n",
    "    tf.keras.layers.GlobalAveragePooling1D(),\n",
    "    tf.keras.layers.Dense(24, activation='relu'),\n",
    "    tf.keras.layers.Dense(1, activation='sigmoid')\n",
    "])\n",
    "\n",
    "##compile the model with loss function, optimizer and metrics\n",
    "model.compile(loss='binary_crossentropy',optimizer='adam',metrics=['accuracy'])\n",
    "model.summary()"
   ]
  },
  {
   "cell_type": "markdown",
   "metadata": {},
   "source": [
    "#### Model Training"
   ]
  },
  {
   "cell_type": "code",
   "execution_count": 53,
   "metadata": {},
   "outputs": [
    {
     "name": "stdout",
     "output_type": "stream",
     "text": [
      "Epoch 1/10\n",
      "782/782 [==============================] - 7s 8ms/step - loss: 0.5004 - accuracy: 0.7728 - val_loss: 0.3461 - val_accuracy: 0.8542\n",
      "Epoch 2/10\n",
      "782/782 [==============================] - 5s 6ms/step - loss: 0.3019 - accuracy: 0.8742 - val_loss: 0.3450 - val_accuracy: 0.8497\n",
      "Epoch 3/10\n",
      "782/782 [==============================] - 6s 8ms/step - loss: 0.2471 - accuracy: 0.9026 - val_loss: 0.3422 - val_accuracy: 0.8546\n",
      "Epoch 4/10\n",
      "782/782 [==============================] - 7s 9ms/step - loss: 0.2137 - accuracy: 0.9194 - val_loss: 0.3750 - val_accuracy: 0.8442\n",
      "Epoch 5/10\n",
      "782/782 [==============================] - 2s 3ms/step - loss: 0.1870 - accuracy: 0.9316 - val_loss: 0.4072 - val_accuracy: 0.8390\n",
      "Epoch 6/10\n",
      "782/782 [==============================] - 5s 6ms/step - loss: 0.1670 - accuracy: 0.9411 - val_loss: 0.4431 - val_accuracy: 0.8338\n",
      "Epoch 7/10\n",
      "782/782 [==============================] - 6s 8ms/step - loss: 0.1482 - accuracy: 0.9491 - val_loss: 0.5109 - val_accuracy: 0.8182\n",
      "Epoch 8/10\n",
      "782/782 [==============================] - 6s 8ms/step - loss: 0.1346 - accuracy: 0.9538 - val_loss: 0.5272 - val_accuracy: 0.8226\n",
      "Epoch 9/10\n",
      "782/782 [==============================] - 5s 7ms/step - loss: 0.1215 - accuracy: 0.9598 - val_loss: 0.5698 - val_accuracy: 0.8201\n",
      "Epoch 10/10\n",
      "782/782 [==============================] - 6s 7ms/step - loss: 0.1095 - accuracy: 0.9652 - val_loss: 0.6215 - val_accuracy: 0.8158\n"
     ]
    }
   ],
   "source": [
    "num_epochs = 10\n",
    "\n",
    "# Train the model \n",
    "history = model.fit(\n",
    "    train_padded,        # Training sequences\n",
    "    train_labels,        # Training labels\n",
    "    epochs=num_epochs,   # Number of epochs for training\n",
    "    validation_data=(test_padded, test_labels)  # Validation data to evaluate the model's performance\n",
    "    )"
   ]
  },
  {
   "cell_type": "markdown",
   "metadata": {},
   "source": [
    "The training accuracy is 0.97% and the validation accuracy is 81.6%."
   ]
  },
  {
   "cell_type": "markdown",
   "metadata": {},
   "source": [
    "#### Visualise the train & validation accuracy and loss"
   ]
  },
  {
   "cell_type": "code",
   "execution_count": 55,
   "metadata": {},
   "outputs": [
    {
     "data": {
      "image/png": "[encoded data removed]",
      "text/plain": [
       "<Figure size 640x480 with 1 Axes>"
      ]
     },
     "metadata": {},
     "output_type": "display_data"
    },
    {
     "data": {
      "image/png": "[encoded data removed]",
      "text/plain": [
       "<Figure size 640x480 with 1 Axes>"
      ]
     },
     "metadata": {},
     "output_type": "display_data"
    }
   ],
   "source": [
    "import matplotlib.pyplot as plt\n",
    "\n",
    "##plot the scores from history\n",
    "def plot_metrics(history, metric):\n",
    "  plt.plot(history.history[metric])\n",
    "  plt.plot(history.history['val_'+metric])\n",
    "  plt.legend([metric, 'val_'+metric])\n",
    "  plt.xlabel(\"Epochs\")\n",
    "  plt.ylabel(metric)\n",
    "  plt.show()\n",
    "  \n",
    "##plot accuracy\n",
    "plot_metrics(history, \"accuracy\")\n",
    "\n",
    "##plot loss\n",
    "plot_metrics(history, \"loss\")"
   ]
  },
  {
   "cell_type": "markdown",
   "metadata": {},
   "source": [
    "You can see there's slightly a gap between the training accuracy and the validation to the model is doing a decent job but it's a little offering as well."
   ]
  },
  {
   "cell_type": "markdown",
   "metadata": {},
   "source": [
    "#### Classify new reviews"
   ]
  },
  {
   "cell_type": "code",
   "execution_count": 57,
   "metadata": {},
   "outputs": [
    {
     "name": "stdout",
     "output_type": "stream",
     "text": [
      "1/1 [==============================] - 0s 88ms/step\n",
      "[[0.232574  ]\n",
      " [0.87524426]]\n"
     ]
    }
   ],
   "source": [
    "sentence = [\"The first part of the movie was dull and boring!\", \n",
    "            \"We watched Queen's Gambit, all seven hours of it, in a single sitting. This show is an absolute gem.\"]\n",
    "\n",
    "##prepare the sequences of the sentences in question\n",
    "sequences = tokenizer.texts_to_sequences(sentence)\n",
    "padded_seqs = pad_sequences(sequences, maxlen=max_length, truncating=trunc_type)\n",
    "\n",
    "##print the classification score\n",
    "print(model.predict(padded_seqs))"
   ]
  },
  {
   "cell_type": "markdown",
   "metadata": {},
   "source": [
    "The first line received a classification close to zero, which means it is a negative review. \n",
    "\n",
    "The second line received a classification close to 1, wich means it is a positive review."
   ]
  }
 ],
 "metadata": {
  "colab": {
   "authorship_tag": "ABX9TyOk+OBfufe+BLWf57E7qGFv",
   "include_colab_link": true,
   "name": "02_02_end.ipynb",
   "provenance": []
  },
  "kernelspec": {
   "display_name": "Python 3 (ipykernel)",
   "language": "python",
   "name": "python3"
  },
  "language_info": {
   "codemirror_mode": {
    "name": "ipython",
    "version": 3
   },
   "file_extension": ".py",
   "mimetype": "text/x-python",
   "name": "python",
   "nbconvert_exporter": "python",
   "pygments_lexer": "ipython3",
   "version": "3.11.7"
  }
 },
 "nbformat": 4,
 "nbformat_minor": 4
}
