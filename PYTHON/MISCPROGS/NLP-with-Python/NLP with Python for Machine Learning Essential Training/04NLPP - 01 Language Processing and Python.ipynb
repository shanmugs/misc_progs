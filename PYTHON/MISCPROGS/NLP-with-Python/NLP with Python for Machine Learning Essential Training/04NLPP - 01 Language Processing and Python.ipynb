{
 "cells": [
  {
   "cell_type": "markdown",
   "id": "f70dfa5a-fe6d-4b3c-bea0-90e69462573a",
   "metadata": {},
   "source": [
    "# Chapter 01 - Language Processing and Python"
   ]
  },
  {
   "cell_type": "markdown",
   "id": "e4b74307-2881-4f23-b965-9b9b1df537ea",
   "metadata": {},
   "source": [
    "### Getting Started with NLTK"
   ]
  },
  {
   "cell_type": "code",
   "execution_count": 3,
   "id": "3802fc2e-8f01-42d3-8156-3502d7026b80",
   "metadata": {},
   "outputs": [],
   "source": [
    "import nltk\n",
    "#nltk.download()"
   ]
  },
  {
   "cell_type": "code",
   "execution_count": 4,
   "id": "8f558248-7952-4a3d-af5b-fb7b31093fc7",
   "metadata": {},
   "outputs": [
    {
     "name": "stdout",
     "output_type": "stream",
     "text": [
      "*** Introductory Examples for the NLTK Book ***\n",
      "Loading text1, ..., text9 and sent1, ..., sent9\n",
      "Type the name of the text or sentence to view it.\n",
      "Type: 'texts()' or 'sents()' to list the materials.\n",
      "text1: Moby Dick by Herman Melville 1851\n",
      "text2: Sense and Sensibility by Jane Austen 1811\n",
      "text3: The Book of Genesis\n",
      "text4: Inaugural Address Corpus\n",
      "text5: Chat Corpus\n",
      "text6: Monty Python and the Holy Grail\n",
      "text7: Wall Street Journal\n",
      "text8: Personals Corpus\n",
      "text9: The Man Who Was Thursday by G . K . Chesterton 1908\n"
     ]
    }
   ],
   "source": [
    "# Import all the data related to book module\n",
    "from nltk.book import *"
   ]
  },
  {
   "cell_type": "code",
   "execution_count": 5,
   "id": "c3c0113e-3071-45cd-a167-fba281b55eb8",
   "metadata": {},
   "outputs": [
    {
     "name": "stdout",
     "output_type": "stream",
     "text": [
      "text1: Moby Dick by Herman Melville 1851\n",
      "text2: Sense and Sensibility by Jane Austen 1811\n",
      "text3: The Book of Genesis\n",
      "text4: Inaugural Address Corpus\n",
      "text5: Chat Corpus\n",
      "text6: Monty Python and the Holy Grail\n",
      "text7: Wall Street Journal\n",
      "text8: Personals Corpus\n",
      "text9: The Man Who Was Thursday by G . K . Chesterton 1908\n"
     ]
    }
   ],
   "source": [
    "texts() #listing the materials "
   ]
  },
  {
   "cell_type": "code",
   "execution_count": 6,
   "id": "abf48c82-ddd6-416d-ad13-ab45ad0685e9",
   "metadata": {},
   "outputs": [
    {
     "name": "stdout",
     "output_type": "stream",
     "text": [
      "<Text: Moby Dick by Herman Melville 1851>\n",
      "<Text: Sense and Sensibility by Jane Austen 1811>\n"
     ]
    }
   ],
   "source": [
    "print(text1)\n",
    "print(text2)"
   ]
  },
  {
   "cell_type": "markdown",
   "id": "da78396c-7343-4bed-b4d1-0a86f3088887",
   "metadata": {},
   "source": [
    "### Searching Text"
   ]
  },
  {
   "cell_type": "markdown",
   "id": "528af143-8e4a-4cb6-8222-1e79a4d48004",
   "metadata": {},
   "source": [
    "There are many ways to examine the context of a text apart from simply reading it. A\n",
    "`concordance` view shows us every occurrence of a given word, together with some\n",
    "context. Here we look up the word monstrous in Moby Dick by entering text1 followed\n",
    "by a period, then the term concordance, and then placing \"monstrous\" in parentheses:"
   ]
  },
  {
   "cell_type": "code",
   "execution_count": 9,
   "id": "0716e488-a722-4661-89c8-d5390303976c",
   "metadata": {},
   "outputs": [
    {
     "name": "stdout",
     "output_type": "stream",
     "text": [
      "Displaying 11 of 11 matches:\n",
      "ong the former , one was of a most monstrous size . ... This came towards us , \n",
      "ON OF THE PSALMS . \" Touching that monstrous bulk of the whale or ork we have r\n",
      "ll over with a heathenish array of monstrous clubs and spears . Some were thick\n",
      "d as you gazed , and wondered what monstrous cannibal and savage could ever hav\n",
      "that has survived the flood ; most monstrous and most mountainous ! That Himmal\n",
      "they might scout at Moby Dick as a monstrous fable , or still worse and more de\n",
      "th of Radney .'\" CHAPTER 55 Of the Monstrous Pictures of Whales . I shall ere l\n",
      "ing Scenes . In connexion with the monstrous pictures of whales , I am strongly\n",
      "ere to enter upon those still more monstrous stories of them which are to be fo\n",
      "ght have been rummaged out of this monstrous cabinet there is no telling . But \n",
      "of Whale - Bones ; for Whales of a monstrous size are oftentimes cast up dead u\n"
     ]
    }
   ],
   "source": [
    "#searching text (text1: Moby Dick by Herman Melville 1851)\n",
    "text1.concordance(\"monstrous\")"
   ]
  },
  {
   "cell_type": "code",
   "execution_count": 10,
   "id": "3cbe441d-5df2-4656-baf4-0b95af96c14f",
   "metadata": {},
   "outputs": [
    {
     "name": "stdout",
     "output_type": "stream",
     "text": [
      "Displaying 25 of 79 matches:\n",
      ", however , and , as a mark of his affection for the three girls , he left them\n",
      "t . It was very well known that no affection was ever supposed to exist between\n",
      "deration of politeness or maternal affection on the side of the former , the tw\n",
      "d the suspicion -- the hope of his affection for me may warrant , without impru\n",
      "hich forbade the indulgence of his affection . She knew that his mother neither\n",
      "rd she gave one with still greater affection . Though her late conversation wit\n",
      " can never hope to feel or inspire affection again , and if her home be uncomfo\n",
      "m of the sense , elegance , mutual affection , and domestic comfort of the fami\n",
      ", and which recommended him to her affection beyond every thing else . His soci\n",
      "ween the parties might forward the affection of Mr . Willoughby , an equally st\n",
      " the most pointed assurance of her affection . Elinor could not be surprised at\n",
      "he natural consequence of a strong affection in a young and ardent mind . This \n",
      " opinion . But by an appeal to her affection for her mother , by representing t\n",
      " every alteration of a place which affection had established as perfect with hi\n",
      "e will always have one claim of my affection , which no other can possibly shar\n",
      "f the evening declared at once his affection and happiness . \" Shall we see you\n",
      "ause he took leave of us with less affection than his usual behaviour has shewn\n",
      "ness .\" \" I want no proof of their affection ,\" said Elinor ; \" but of their en\n",
      "onths , without telling her of his affection ;-- that they should part without \n",
      "ould be the natural result of your affection for her . She used to be all unres\n",
      "distinguished Elinor by no mark of affection . Marianne saw and listened with i\n",
      "th no inclination for expense , no affection for strangers , no profession , an\n",
      "till distinguished her by the same affection which once she had felt no doubt o\n",
      "al of her confidence in Edward ' s affection , to the remembrance of every mark\n",
      " was made ? Had he never owned his affection to yourself ?\" \" Oh , no ; but if \n"
     ]
    }
   ],
   "source": [
    "#searching text (text2: Sense and Sensibility by Jane Austen 1811)\n",
    "text2.concordance(\"affection\")"
   ]
  },
  {
   "cell_type": "code",
   "execution_count": 11,
   "id": "01cf7a3d-1fc1-4bb1-92fc-a5eb35620e54",
   "metadata": {},
   "outputs": [
    {
     "name": "stdout",
     "output_type": "stream",
     "text": [
      "Displaying 25 of 38 matches:\n",
      "ay when they were created . And Adam lived an hundred and thirty years , and be\n",
      "ughters : And all the days that Adam lived were nine hundred and thirty yea and\n",
      "nd thirty yea and he died . And Seth lived an hundred and five years , and bega\n",
      "ve years , and begat Enos : And Seth lived after he begat Enos eight hundred an\n",
      "welve years : and he died . And Enos lived ninety years , and begat Cainan : An\n",
      " years , and begat Cainan : And Enos lived after he begat Cainan eight hundred \n",
      "ive years : and he died . And Cainan lived seventy years and begat Mahalaleel :\n",
      "rs and begat Mahalaleel : And Cainan lived after he begat Mahalaleel eight hund\n",
      "years : and he died . And Mahalaleel lived sixty and five years , and begat Jar\n",
      "s , and begat Jared : And Mahalaleel lived after he begat Jared eight hundred a\n",
      "and five yea and he died . And Jared lived an hundred sixty and two years , and\n",
      "o years , and he begat Eno And Jared lived after he begat Enoch eight hundred y\n",
      " and two yea and he died . And Enoch lived sixty and five years , and begat Met\n",
      " ; for God took him . And Methuselah lived an hundred eighty and seven years , \n",
      " , and begat Lamech . And Methuselah lived after he begat Lamech seven hundred \n",
      "nd nine yea and he died . And Lamech lived an hundred eighty and two years , an\n",
      "ch the LORD hath cursed . And Lamech lived after he begat Noah five hundred nin\n",
      "naan shall be his servant . And Noah lived after the flood three hundred and fi\n",
      "xad two years after the flo And Shem lived after he begat Arphaxad five hundred\n",
      "at sons and daughters . And Arphaxad lived five and thirty years , and begat Sa\n",
      "ars , and begat Salah : And Arphaxad lived after he begat Salah four hundred an\n",
      "begat sons and daughters . And Salah lived thirty years , and begat Eber : And \n",
      "y years , and begat Eber : And Salah lived after he begat Eber four hundred and\n",
      " begat sons and daughters . And Eber lived four and thirty years , and begat Pe\n",
      "y years , and begat Peleg : And Eber lived after he begat Peleg four hundred an\n"
     ]
    }
   ],
   "source": [
    "#searching text (text3: The Book of Genesis)\n",
    "text3.concordance(\"lived\")"
   ]
  },
  {
   "cell_type": "markdown",
   "id": "7c0e4cbd-3a47-4309-a3ff-52610474771d",
   "metadata": {},
   "source": [
    "A concordance permits us to see words in context. For example, we saw that monstrous occurred in contexts such as the ___ pictures and the ___ size. What other words\n",
    "appear in a `similar` range of contexts?"
   ]
  },
  {
   "cell_type": "code",
   "execution_count": 13,
   "id": "2263c6d7-e998-43d2-a110-117e88429529",
   "metadata": {},
   "outputs": [
    {
     "name": "stdout",
     "output_type": "stream",
     "text": [
      "true contemptible christian abundant few part mean careful puzzled\n",
      "mystifying passing curious loving wise doleful gamesome singular\n",
      "delightfully perilous fearless\n"
     ]
    }
   ],
   "source": [
    "# text1: Moby Dick by Herman Melville 1851\n",
    "text1.similar(\"monstrous\")"
   ]
  },
  {
   "cell_type": "code",
   "execution_count": 14,
   "id": "252ba3a3-127e-4895-b0e5-a64783ec9113",
   "metadata": {},
   "outputs": [
    {
     "name": "stdout",
     "output_type": "stream",
     "text": [
      "very so exceedingly heartily a as good great extremely remarkably\n",
      "sweet vast amazingly\n"
     ]
    }
   ],
   "source": [
    "# text2: Sense and Sensibility by Jane Austen 1811\n",
    "text2.similar(\"monstrous\")"
   ]
  },
  {
   "cell_type": "code",
   "execution_count": 15,
   "id": "9fbb8d35-0021-406f-8ec8-cba218580160",
   "metadata": {},
   "outputs": [
    {
     "name": "stdout",
     "output_type": "stream",
     "text": [
      "No matches\n"
     ]
    }
   ],
   "source": [
    "# text3: The Book of Genesis\n",
    "text3.similar(\"monstrous\")"
   ]
  },
  {
   "cell_type": "markdown",
   "id": "039527dc-0866-4d22-bfa9-31c9fbbb9939",
   "metadata": {},
   "source": [
    "The term `common_contexts` allows us to examine just the contexts that are shared by\n",
    "two or more words, such as monstrous and very. We have to enclose these words by\n",
    "square brackets as well as parentheses, and separate them with a comma:"
   ]
  },
  {
   "cell_type": "code",
   "execution_count": 17,
   "id": "1e999300-ea78-4f6b-b113-40732846ecb3",
   "metadata": {},
   "outputs": [
    {
     "name": "stdout",
     "output_type": "stream",
     "text": [
      "am_glad a_pretty a_lucky is_pretty be_glad\n"
     ]
    }
   ],
   "source": [
    "# the term common_contexts allows us to examine just the contexts that are shared by two or more words.\n",
    "text2.common_contexts([\"monstrous\",\"very\"])"
   ]
  },
  {
   "cell_type": "code",
   "execution_count": 18,
   "id": "52ba0ad6-6793-435c-90db-583368c7bd8b",
   "metadata": {},
   "outputs": [
    {
     "name": "stdout",
     "output_type": "stream",
     "text": [
      "the_had\n"
     ]
    }
   ],
   "source": [
    "# text1: Moby Dick by Herman Melville 1851\n",
    "text1.common_contexts([\"enemy\",\"whale\"])"
   ]
  },
  {
   "cell_type": "markdown",
   "id": "aa7b9aff-0a34-4da3-8c30-f3e98bd472d7",
   "metadata": {},
   "source": [
    "Lexical `dispersion plot` for words in U.S. Presidential Inaugural Addresses: This can be\n",
    "used to investigate changes in language use over time. Each stripe represents\r",
    "an instance of a word, and each row represents the entire text."
   ]
  },
  {
   "cell_type": "code",
   "execution_count": 20,
   "id": "e6d1c050-56f4-48b8-abe9-5e591cbb1443",
   "metadata": {},
   "outputs": [
    {
     "data": {
      "image/png": "[encoded data removed]",
      "text/plain": [
       "<Figure size 640x480 with 1 Axes>"
      ]
     },
     "metadata": {},
     "output_type": "display_data"
    }
   ],
   "source": [
    "# let's plot a simple plot to show the occurance of a word in text data with positional parameters\n",
    "# text4: Inaugural Address Corpus\n",
    "text4.dispersion_plot([\"citizens\",\"democracy\",\"freedom\",\"duties\",\"America\"])"
   ]
  },
  {
   "cell_type": "code",
   "execution_count": 21,
   "id": "5f6c72a9-bc3c-44e4-a12a-87644c116ef0",
   "metadata": {},
   "outputs": [
    {
     "data": {
      "image/png": "[encoded data removed]",
      "text/plain": [
       "<Figure size 640x480 with 1 Axes>"
      ]
     },
     "metadata": {},
     "output_type": "display_data"
    }
   ],
   "source": [
    "# text4: Inaugural Address Corpus\n",
    "text4.dispersion_plot([\"new\",\"united\",\"future\",\"republic\",\"people\"])"
   ]
  },
  {
   "cell_type": "code",
   "execution_count": 22,
   "id": "80e728b7-f4f5-42a6-a706-6312c4bcfff6",
   "metadata": {},
   "outputs": [
    {
     "name": "stderr",
     "output_type": "stream",
     "text": [
      "Building ngram index...\n"
     ]
    },
    {
     "name": "stdout",
     "output_type": "stream",
     "text": [
      "long , from one to the top - mast , and no coffin and went out a sea\n",
      "captain -- this peaking of the whales . , so as to preserve all his\n",
      "might had in former years abounding with them , they toil with their\n",
      "lances , strange tales of Southern whaling . at once the bravest\n",
      "Indians he was , after in vain strove to pierce the profundity . ?\n",
      "then ?\" a levelled flame of pale , And give no chance , watch him ;\n",
      "though the line , it is to be gainsaid . have been\n"
     ]
    },
    {
     "data": {
      "text/plain": [
       "'long , from one to the top - mast , and no coffin and went out a sea\\ncaptain -- this peaking of the whales . , so as to preserve all his\\nmight had in former years abounding with them , they toil with their\\nlances , strange tales of Southern whaling . at once the bravest\\nIndians he was , after in vain strove to pierce the profundity . ?\\nthen ?\" a levelled flame of pale , And give no chance , watch him ;\\nthough the line , it is to be gainsaid . have been'"
      ]
     },
     "execution_count": 22,
     "metadata": {},
     "output_type": "execute_result"
    }
   ],
   "source": [
    "#generate random text\n",
    "text1.generate()"
   ]
  },
  {
   "cell_type": "markdown",
   "id": "12e27070-54a3-4c26-8e15-96fa0e77df79",
   "metadata": {},
   "source": [
    "### Counting Vocabulary"
   ]
  },
  {
   "cell_type": "code",
   "execution_count": 24,
   "id": "b59efb82-c29a-4579-8f85-1beb32a46d88",
   "metadata": {},
   "outputs": [
    {
     "data": {
      "text/plain": [
       "260819"
      ]
     },
     "execution_count": 24,
     "metadata": {},
     "output_type": "execute_result"
    }
   ],
   "source": [
    "len(text1)"
   ]
  },
  {
   "cell_type": "code",
   "execution_count": 25,
   "id": "91b0e7c6-3542-4ac5-97af-b2d13979ea3c",
   "metadata": {},
   "outputs": [
    {
     "data": {
      "text/plain": [
       "141576"
      ]
     },
     "execution_count": 25,
     "metadata": {},
     "output_type": "execute_result"
    }
   ],
   "source": [
    "len(text2)"
   ]
  },
  {
   "cell_type": "code",
   "execution_count": 26,
   "id": "f8b2ba70-df98-47a1-9ca0-1be53f696f75",
   "metadata": {},
   "outputs": [
    {
     "data": {
      "text/plain": [
       "44764"
      ]
     },
     "execution_count": 26,
     "metadata": {},
     "output_type": "execute_result"
    }
   ],
   "source": [
    "len(text3)"
   ]
  },
  {
   "cell_type": "markdown",
   "id": "c6836de7-d43d-4fd3-8228-e2197ecb14b1",
   "metadata": {},
   "source": [
    "Genesis has 44,764 words and punctuation symbols, or “tokens.”"
   ]
  },
  {
   "cell_type": "code",
   "execution_count": 28,
   "id": "84989907-1409-41b1-83f0-0d0f321db64e",
   "metadata": {},
   "outputs": [
    {
     "data": {
      "text/plain": [
       "152901"
      ]
     },
     "execution_count": 28,
     "metadata": {},
     "output_type": "execute_result"
    }
   ],
   "source": [
    "len(text4)"
   ]
  },
  {
   "cell_type": "code",
   "execution_count": 29,
   "id": "495d7dbd-f896-4d27-b1c1-8ef5a6b29b25",
   "metadata": {},
   "outputs": [
    {
     "name": "stdout",
     "output_type": "stream",
     "text": [
      "2789\n"
     ]
    }
   ],
   "source": [
    "#how many distinct words does the book of Genesis contain?\n",
    "#print(sorted(set(text3)))\n",
    "print(len(set(text3)))"
   ]
  },
  {
   "cell_type": "markdown",
   "id": "1372394d-0e97-4423-ac8d-a84305f536b2",
   "metadata": {},
   "source": [
    "Although it has 44,764 tokens, this\n",
    "book has only 2,789 distinct words, or “word types.” Now, let’s calculate a measure of the lexical richness of the text. "
   ]
  },
  {
   "cell_type": "code",
   "execution_count": 31,
   "id": "333674b4-0caf-4a11-9e60-88fd22f0e8c9",
   "metadata": {},
   "outputs": [
    {
     "data": {
      "text/plain": [
       "16.050197203298673"
      ]
     },
     "execution_count": 31,
     "metadata": {},
     "output_type": "execute_result"
    }
   ],
   "source": [
    "#average occurance of a word in this book\n",
    "len(text3)/len(set(text3))"
   ]
  },
  {
   "cell_type": "markdown",
   "id": "628d9a79-5cab-428d-b1c5-f8d1503387f1",
   "metadata": {},
   "source": [
    "Each word is used 16 times on average "
   ]
  },
  {
   "cell_type": "markdown",
   "id": "a54dd25e-0064-44dd-8c09-f958f91a254b",
   "metadata": {},
   "source": [
    "We can count how often a word occurs in a text,\n",
    "and compute what percentage of the text is taken up by a specific word:"
   ]
  },
  {
   "cell_type": "code",
   "execution_count": 34,
   "id": "db720d98-26fe-46df-9170-446e8e11bedb",
   "metadata": {},
   "outputs": [
    {
     "data": {
      "text/plain": [
       "5"
      ]
     },
     "execution_count": 34,
     "metadata": {},
     "output_type": "execute_result"
    }
   ],
   "source": [
    "#count how many times a word occure in the text.\n",
    "text3.count(\"smote\")"
   ]
  },
  {
   "cell_type": "code",
   "execution_count": 35,
   "id": "3e781657-79ad-48dd-8d38-a6a1da2b49e5",
   "metadata": {},
   "outputs": [
    {
     "data": {
      "text/plain": [
       "0.01116968992940756"
      ]
     },
     "execution_count": 35,
     "metadata": {},
     "output_type": "execute_result"
    }
   ],
   "source": [
    "#percentage of occurance of a word in the text3 data.\n",
    "100 * text3.count(\"smote\")/len(text3)"
   ]
  },
  {
   "cell_type": "code",
   "execution_count": 36,
   "id": "f09edec2-6745-466a-aa07-032098a1142f",
   "metadata": {},
   "outputs": [
    {
     "name": "stdout",
     "output_type": "stream",
     "text": [
      ",: 8.22%\n",
      "and: 5.42%\n",
      "the: 5.39%\n",
      "of: 3.03%\n",
      ".: 2.94%\n",
      "And: 2.79%\n",
      "his: 1.45%\n",
      "he: 1.45%\n",
      "to: 1.36%\n",
      ";: 1.35%\n",
      "unto: 1.32%\n",
      "in: 1.31%\n",
      "that: 1.14%\n",
      "I: 1.08%\n",
      "said: 1.06%\n",
      "him: 0.86%\n",
      "a: 0.76%\n",
      "my: 0.73%\n",
      "was: 0.71%\n",
      "for: 0.66%\n"
     ]
    }
   ],
   "source": [
    "tokens = sorted(set(text3))  # Create a sorted list of unique tokens from text3\n",
    "token_percentage = []        # Initialize an empty list to store token and percentage pairs\n",
    "\n",
    "# Calculate the percentage of occurrence for each token and add to the list\n",
    "for token in tokens:                                    # Iterate through each unique token\n",
    "    percentage = 100 * text3.count(token) / len(text3)  # Calculate the percentage occurrence of the token\n",
    "    token_percentage.append((token, percentage))        # Append the token and its percentage as a tuple to the list\n",
    "\n",
    "# Sort the list by percentage in descending order\n",
    "sorted_token_percentage = sorted(token_percentage, key=lambda x: x[1], reverse=True)\n",
    "\n",
    "# Print only the first 20 sorted tokens with their percentage occurrences\n",
    "for token, percentage in sorted_token_percentage[:20]:  # Slice the list to get the top 20 tokens\n",
    "    print(f\"{token}: {percentage:.2f}%\")                # Print the token and its percentage formatted to 2 decimal places"
   ]
  },
  {
   "cell_type": "code",
   "execution_count": 37,
   "id": "08974954-0ae4-4184-855b-133b260b91c1",
   "metadata": {},
   "outputs": [
    {
     "data": {
      "text/plain": [
       "704"
      ]
     },
     "execution_count": 37,
     "metadata": {},
     "output_type": "execute_result"
    }
   ],
   "source": [
    "# text5: Chat Corpus\n",
    "text5.count(\"lol\")"
   ]
  },
  {
   "cell_type": "code",
   "execution_count": 38,
   "id": "affaa222-3f45-4aa3-a20f-12495cfb994f",
   "metadata": {},
   "outputs": [
    {
     "data": {
      "text/plain": [
       "1.5640968673628082"
      ]
     },
     "execution_count": 38,
     "metadata": {},
     "output_type": "execute_result"
    }
   ],
   "source": [
    "#percentage of lol in text5\n",
    "100*text5.count(\"lol\")/len(text5)"
   ]
  },
  {
   "cell_type": "code",
   "execution_count": 39,
   "id": "cb3ddda6-aea8-4d46-ba19-3edcd326c47c",
   "metadata": {},
   "outputs": [
    {
     "name": "stdout",
     "output_type": "stream",
     "text": [
      ".: 2.82%\n",
      "JOIN: 2.27%\n",
      "PART: 2.26%\n",
      "?: 1.64%\n",
      "lol: 1.56%\n",
      "to: 1.46%\n",
      "i: 1.44%\n",
      "the: 1.44%\n",
      "you: 1.41%\n",
      ",: 1.32%\n",
      "I: 1.28%\n",
      "a: 1.26%\n",
      "hi: 1.21%\n",
      "me: 0.92%\n",
      "...: 0.92%\n",
      "is: 0.83%\n",
      "..: 0.80%\n",
      "in: 0.79%\n",
      "ACTION: 0.77%\n",
      "!: 0.76%\n"
     ]
    }
   ],
   "source": [
    "tokens = sorted(set(text5))  # Create a sorted list of unique tokens from text3\n",
    "token_percentage = []        # Initialize an empty list to store token and percentage pairs\n",
    "\n",
    "# Calculate the percentage of occurrence for each token and add to the list\n",
    "for token in tokens:                                    # Iterate through each unique token\n",
    "    percentage = 100 * text5.count(token) / len(text5)  # Calculate the percentage occurrence of the token\n",
    "    token_percentage.append((token, percentage))        # Append the token and its percentage as a tuple to the list\n",
    "\n",
    "# Sort the list by percentage in descending order\n",
    "sorted_token_percentage = sorted(token_percentage, key=lambda x: x[1], reverse=True)\n",
    "\n",
    "# Print only the first 20 sorted tokens with their percentage occurrences\n",
    "for token, percentage in sorted_token_percentage[:20]:  # Slice the list to get the top 20 tokens\n",
    "    print(f\"{token}: {percentage:.2f}%\")                # Print the token and its percentage formatted to 2 decimal places"
   ]
  },
  {
   "cell_type": "code",
   "execution_count": 40,
   "id": "f16837bc-aadf-44f2-a615-ea7133bdca4a",
   "metadata": {},
   "outputs": [],
   "source": [
    "#function to calculate of a text date\n",
    "def lexical_diversity(text):\n",
    "    return len(text)/len(set(text))\n",
    "    \n",
    "#function to calculate percentage\n",
    "def percentage(count,total):\n",
    "    return 100*count/total"
   ]
  },
  {
   "cell_type": "code",
   "execution_count": 41,
   "id": "8cf35aa8-1187-44b6-98f1-a3db680cddd4",
   "metadata": {},
   "outputs": [
    {
     "data": {
      "text/plain": [
       "16.050197203298673"
      ]
     },
     "execution_count": 41,
     "metadata": {},
     "output_type": "execute_result"
    }
   ],
   "source": [
    "lexical_diversity(text3)   # text3: The Book of Genesis"
   ]
  },
  {
   "cell_type": "code",
   "execution_count": 42,
   "id": "dcf0062a-4f10-4e2a-b3ea-f8409ffd6e6d",
   "metadata": {},
   "outputs": [
    {
     "data": {
      "text/plain": [
       "13.502044830977896"
      ]
     },
     "execution_count": 42,
     "metadata": {},
     "output_type": "execute_result"
    }
   ],
   "source": [
    "lexical_diversity(text1)   # text1: Moby Dick by Herman Melville 1851"
   ]
  },
  {
   "cell_type": "code",
   "execution_count": 43,
   "id": "d268500e-b516-4f69-a42c-4948ada80958",
   "metadata": {},
   "outputs": [
    {
     "data": {
      "text/plain": [
       "80.0"
      ]
     },
     "execution_count": 43,
     "metadata": {},
     "output_type": "execute_result"
    }
   ],
   "source": [
    "percentage(4, 5)"
   ]
  },
  {
   "cell_type": "code",
   "execution_count": 44,
   "id": "8e510414-4dc0-49e0-b826-a97fd51547ea",
   "metadata": {},
   "outputs": [
    {
     "data": {
      "text/plain": [
       "1.457806031353621"
      ]
     },
     "execution_count": 44,
     "metadata": {},
     "output_type": "execute_result"
    }
   ],
   "source": [
    "percentage(text4.count('a'), len(text4))"
   ]
  },
  {
   "cell_type": "markdown",
   "id": "09bebfba-b852-4117-bafd-521e8426cf70",
   "metadata": {},
   "source": [
    "## A Closer Look at Python: Texts as Lists of Words"
   ]
  },
  {
   "cell_type": "code",
   "execution_count": 46,
   "id": "702eb7dd-80bd-43fb-a564-69c3dc643739",
   "metadata": {},
   "outputs": [
    {
     "data": {
      "text/plain": [
       "['Call', 'me', 'Ishmael', '.']"
      ]
     },
     "execution_count": 46,
     "metadata": {},
     "output_type": "execute_result"
    }
   ],
   "source": [
    "sent1  #  It's part of nltk.book"
   ]
  },
  {
   "cell_type": "code",
   "execution_count": 47,
   "id": "1ee39943-563a-4a36-9dae-82123a179e3c",
   "metadata": {},
   "outputs": [
    {
     "data": {
      "text/plain": [
       "4"
      ]
     },
     "execution_count": 47,
     "metadata": {},
     "output_type": "execute_result"
    }
   ],
   "source": [
    "# calculate the length of sent1\n",
    "len(sent1)"
   ]
  },
  {
   "cell_type": "code",
   "execution_count": 48,
   "id": "b9e943af-acb6-415f-a42c-b219d9eeaacc",
   "metadata": {},
   "outputs": [
    {
     "data": {
      "text/plain": [
       "1.0"
      ]
     },
     "execution_count": 48,
     "metadata": {},
     "output_type": "execute_result"
    }
   ],
   "source": [
    "#call the function lexical diversity\n",
    "lexical_diversity(sent1)     # len(text)/len(set(text))"
   ]
  },
  {
   "cell_type": "code",
   "execution_count": 49,
   "id": "9d37a00d-7f01-4a3e-92ca-5b2b4f95251d",
   "metadata": {},
   "outputs": [
    {
     "data": {
      "text/plain": [
       "['The',\n",
       " 'family',\n",
       " 'of',\n",
       " 'Dashwood',\n",
       " 'had',\n",
       " 'long',\n",
       " 'been',\n",
       " 'settled',\n",
       " 'in',\n",
       " 'Sussex',\n",
       " '.']"
      ]
     },
     "execution_count": 49,
     "metadata": {},
     "output_type": "execute_result"
    }
   ],
   "source": [
    "sent2   #  It's part of nltk.book"
   ]
  },
  {
   "cell_type": "code",
   "execution_count": 50,
   "id": "f243c39a-b21c-425f-9212-078c53a499fc",
   "metadata": {},
   "outputs": [
    {
     "data": {
      "text/plain": [
       "['In',\n",
       " 'the',\n",
       " 'beginning',\n",
       " 'God',\n",
       " 'created',\n",
       " 'the',\n",
       " 'heaven',\n",
       " 'and',\n",
       " 'the',\n",
       " 'earth',\n",
       " '.']"
      ]
     },
     "execution_count": 50,
     "metadata": {},
     "output_type": "execute_result"
    }
   ],
   "source": [
    "sent3  #  It's part of nltk.book"
   ]
  },
  {
   "cell_type": "code",
   "execution_count": 51,
   "id": "400a75be-2f19-426a-ac95-dbd95e4ec7d4",
   "metadata": {},
   "outputs": [
    {
     "data": {
      "text/plain": [
       "['Monty', 'Python', 'and', 'the', 'Holy', 'Grail']"
      ]
     },
     "execution_count": 51,
     "metadata": {},
     "output_type": "execute_result"
    }
   ],
   "source": [
    "# Concatenation\n",
    "['Monty', 'Python'] + ['and', 'the', 'Holy', 'Grail']"
   ]
  },
  {
   "cell_type": "code",
   "execution_count": 52,
   "id": "3c20ec5e-c321-4ba1-8296-d2b983f4f3b3",
   "metadata": {},
   "outputs": [
    {
     "data": {
      "text/plain": [
       "['Call',\n",
       " 'me',\n",
       " 'Ishmael',\n",
       " '.',\n",
       " 'In',\n",
       " 'the',\n",
       " 'beginning',\n",
       " 'God',\n",
       " 'created',\n",
       " 'the',\n",
       " 'heaven',\n",
       " 'and',\n",
       " 'the',\n",
       " 'earth',\n",
       " '.']"
      ]
     },
     "execution_count": 52,
     "metadata": {},
     "output_type": "execute_result"
    }
   ],
   "source": [
    "sent1 + sent3"
   ]
  },
  {
   "cell_type": "code",
   "execution_count": 53,
   "id": "180e7354-6edf-4c1d-ab4a-b44ce1724bde",
   "metadata": {},
   "outputs": [
    {
     "data": {
      "text/plain": [
       "['Call', 'me', 'Ishmael', '.']"
      ]
     },
     "execution_count": 53,
     "metadata": {},
     "output_type": "execute_result"
    }
   ],
   "source": [
    "sent1"
   ]
  },
  {
   "cell_type": "code",
   "execution_count": 54,
   "id": "5eff4aaa-91dc-4081-ba78-dbfb13ddeff1",
   "metadata": {},
   "outputs": [
    {
     "data": {
      "text/plain": [
       "['Call', 'me', 'Ishmael', '.', 'Some']"
      ]
     },
     "execution_count": 54,
     "metadata": {},
     "output_type": "execute_result"
    }
   ],
   "source": [
    "sent1.append(\"Some\")\n",
    "\n",
    "sent1"
   ]
  },
  {
   "cell_type": "markdown",
   "id": "449e38d2-1213-4efa-b905-909e9ad5792d",
   "metadata": {},
   "source": [
    "### Indexing Lists"
   ]
  },
  {
   "cell_type": "code",
   "execution_count": 56,
   "id": "50316624-2ee3-45d1-835a-168f20359dbb",
   "metadata": {},
   "outputs": [
    {
     "data": {
      "text/plain": [
       "'Ishmael'"
      ]
     },
     "execution_count": 56,
     "metadata": {},
     "output_type": "execute_result"
    }
   ],
   "source": [
    "sent1[2]     # 0, 1, 2, ..."
   ]
  },
  {
   "cell_type": "code",
   "execution_count": 57,
   "id": "34c7d9bb-f4a8-4dc8-950c-839dd3562d39",
   "metadata": {},
   "outputs": [
    {
     "data": {
      "text/plain": [
       "2"
      ]
     },
     "execution_count": 57,
     "metadata": {},
     "output_type": "execute_result"
    }
   ],
   "source": [
    "sent1.index('Ishmael')"
   ]
  },
  {
   "cell_type": "code",
   "execution_count": 58,
   "id": "be458d18-0e5f-4bfb-90c3-d1e3d3b4429f",
   "metadata": {},
   "outputs": [
    {
     "data": {
      "text/plain": [
       "['Ishmael', '.']"
      ]
     },
     "execution_count": 58,
     "metadata": {},
     "output_type": "execute_result"
    }
   ],
   "source": [
    "sent1[2:4]   # 3rd, 4th"
   ]
  },
  {
   "cell_type": "code",
   "execution_count": 59,
   "id": "a86774ee-5cab-4441-88e8-30a618ab58b5",
   "metadata": {},
   "outputs": [
    {
     "data": {
      "text/plain": [
       "['Call', 'me', 'Ishmael']"
      ]
     },
     "execution_count": 59,
     "metadata": {},
     "output_type": "execute_result"
    }
   ],
   "source": [
    "sent1[:3]    # all until 3rd"
   ]
  },
  {
   "cell_type": "code",
   "execution_count": 60,
   "id": "a496778b-a09d-4509-ad6a-88391c22613c",
   "metadata": {},
   "outputs": [
    {
     "data": {
      "text/plain": [
       "['Ishmael', '.', 'Some']"
      ]
     },
     "execution_count": 60,
     "metadata": {},
     "output_type": "execute_result"
    }
   ],
   "source": [
    "sent1[2:]    # 3rd until the end"
   ]
  },
  {
   "cell_type": "markdown",
   "id": "22cb03e3-0092-42ad-90db-c20a06b2153f",
   "metadata": {},
   "source": [
    "### Variables"
   ]
  },
  {
   "cell_type": "code",
   "execution_count": 62,
   "id": "2fa08ef7-484f-4ecb-8cfc-e1bdeee38879",
   "metadata": {},
   "outputs": [
    {
     "data": {
      "text/plain": [
       "['Bravely',\n",
       " 'bold',\n",
       " 'Sir',\n",
       " 'Robin',\n",
       " ',',\n",
       " 'rode',\n",
       " 'forth',\n",
       " 'from',\n",
       " 'Camelot',\n",
       " '.']"
      ]
     },
     "execution_count": 62,
     "metadata": {},
     "output_type": "execute_result"
    }
   ],
   "source": [
    "my_sent = ['Bravely', 'bold', 'Sir', 'Robin', ',', 'rode', 'forth', 'from', 'Camelot', '.']\n",
    "\n",
    "my_sent"
   ]
  },
  {
   "cell_type": "code",
   "execution_count": 63,
   "id": "2abbd4f4-fd19-4ec9-8477-54d9641d20cb",
   "metadata": {},
   "outputs": [
    {
     "data": {
      "text/plain": [
       "['bold', 'Sir', 'Robin']"
      ]
     },
     "execution_count": 63,
     "metadata": {},
     "output_type": "execute_result"
    }
   ],
   "source": [
    "noun_phrase = my_sent[1:4]   # position 1, 2, 3\n",
    "\n",
    "noun_phrase"
   ]
  },
  {
   "cell_type": "code",
   "execution_count": 64,
   "id": "16c8e930-6cc8-486a-8254-55f8f997ca56",
   "metadata": {},
   "outputs": [
    {
     "data": {
      "text/plain": [
       "['Robin', 'Sir', 'bold']"
      ]
     },
     "execution_count": 64,
     "metadata": {},
     "output_type": "execute_result"
    }
   ],
   "source": [
    "wOrDs = sorted(noun_phrase)\n",
    "\n",
    "wOrDs"
   ]
  },
  {
   "cell_type": "markdown",
   "id": "0d862a6e-383f-4ea7-954d-409d6c4c9969",
   "metadata": {},
   "source": [
    "**Remember that capitalized words appear before lowercase words in sorted lists.**"
   ]
  },
  {
   "cell_type": "markdown",
   "id": "fbeadce5-ac20-44d2-9ced-ff9ab9158665",
   "metadata": {},
   "source": [
    "### Strings"
   ]
  },
  {
   "cell_type": "code",
   "execution_count": 67,
   "id": "c32e1619-9c90-4273-a30a-c16f2d72461f",
   "metadata": {},
   "outputs": [
    {
     "data": {
      "text/plain": [
       "'M'"
      ]
     },
     "execution_count": 67,
     "metadata": {},
     "output_type": "execute_result"
    }
   ],
   "source": [
    "name = 'Monty'\n",
    "\n",
    "name[0]"
   ]
  },
  {
   "cell_type": "code",
   "execution_count": 68,
   "id": "3f749e2a-be2a-422e-a122-2e4a327fbcac",
   "metadata": {},
   "outputs": [
    {
     "data": {
      "text/plain": [
       "'Mont'"
      ]
     },
     "execution_count": 68,
     "metadata": {},
     "output_type": "execute_result"
    }
   ],
   "source": [
    "name[:4]  # all until 4-1"
   ]
  },
  {
   "cell_type": "code",
   "execution_count": 69,
   "id": "65aa9efd-d499-4eda-801a-3eeb2123819f",
   "metadata": {},
   "outputs": [
    {
     "data": {
      "text/plain": [
       "'MontyMonty'"
      ]
     },
     "execution_count": 69,
     "metadata": {},
     "output_type": "execute_result"
    }
   ],
   "source": [
    "name *2 "
   ]
  },
  {
   "cell_type": "code",
   "execution_count": 70,
   "id": "a6bbc541-ac8d-4954-bcbb-3199d0cc2436",
   "metadata": {},
   "outputs": [
    {
     "data": {
      "text/plain": [
       "'Monty!'"
      ]
     },
     "execution_count": 70,
     "metadata": {},
     "output_type": "execute_result"
    }
   ],
   "source": [
    "name + '!'"
   ]
  },
  {
   "cell_type": "code",
   "execution_count": 71,
   "id": "3d35492b-0d32-4b1d-8e26-49dee7b10ed9",
   "metadata": {},
   "outputs": [
    {
     "data": {
      "text/plain": [
       "'Super Music'"
      ]
     },
     "execution_count": 71,
     "metadata": {},
     "output_type": "execute_result"
    }
   ],
   "source": [
    "' '.join(['Super', 'Music'])"
   ]
  },
  {
   "cell_type": "code",
   "execution_count": 72,
   "id": "a2c00d3d-3ba4-46af-8f42-4b4e39fef954",
   "metadata": {},
   "outputs": [
    {
     "data": {
      "text/plain": [
       "['Super', 'Music']"
      ]
     },
     "execution_count": 72,
     "metadata": {},
     "output_type": "execute_result"
    }
   ],
   "source": [
    "'Super Music'.split()"
   ]
  },
  {
   "cell_type": "markdown",
   "id": "b026f736-7a42-4f90-a84d-1f5f324913bb",
   "metadata": {},
   "source": [
    "## Computing with Language: Simple Statistics"
   ]
  },
  {
   "cell_type": "code",
   "execution_count": 74,
   "id": "ecd9822c-7ac9-4f8d-9115-f8db16f35fba",
   "metadata": {},
   "outputs": [
    {
     "name": "stdout",
     "output_type": "stream",
     "text": [
      "['is', 'After', 'than', 'done', 'more', 'all', 'and', 'said']\n"
     ]
    }
   ],
   "source": [
    "saying = ['After', 'all', 'is', 'said', 'and', 'done', 'more', 'is', 'said', 'than', 'done']\n",
    "\n",
    "tokens = set(saying)        # Create a set of unique tokens\n",
    "\n",
    "tokens_list = list(tokens)  # Convert the set to a list to allow indexing\n",
    "\n",
    "print(tokens_list)          # Print the list of tokens"
   ]
  },
  {
   "cell_type": "code",
   "execution_count": 75,
   "id": "305933f0-cb4c-4fab-bfdc-53ce5faf5f15",
   "metadata": {},
   "outputs": [
    {
     "name": "stdout",
     "output_type": "stream",
     "text": [
      "['and', 'said']\n"
     ]
    }
   ],
   "source": [
    "print(tokens_list[-2:])  # Print the last 2 elements from the list of tokens"
   ]
  },
  {
   "cell_type": "markdown",
   "id": "64cf7739-05b3-445e-b5df-ce493308c27e",
   "metadata": {},
   "source": [
    "### Frequency Distributions"
   ]
  },
  {
   "cell_type": "markdown",
   "id": "f04ba80b-d953-4115-98c8-a7b5a29444f9",
   "metadata": {},
   "source": [
    "Let’s use a FreqDist to find the 50 most frequent words of Moby Dick. "
   ]
  },
  {
   "cell_type": "code",
   "execution_count": 78,
   "id": "1787805d-9089-4e49-a8a3-0bf6a6810eb7",
   "metadata": {},
   "outputs": [
    {
     "name": "stdout",
     "output_type": "stream",
     "text": [
      "['[', 'Moby', 'Dick', 'by', 'Herman', 'Melville', '1851', ']', 'ETYMOLOGY', '.', '(', 'Supplied', 'a', 'Late', 'Consumptive', 'Usher', 'to', 'Grammar', 'School', ')', 'The', 'pale', '--', 'threadbare', 'in', 'coat', ',', 'heart', 'body', 'and', 'brain', ';', 'I', 'see', 'him', 'now', 'He', 'was', 'ever', 'dusting', 'his', 'old', 'lexicons', 'grammars', 'with', 'queer', 'handkerchief', 'mockingly', 'embellished', 'all']\n"
     ]
    }
   ],
   "source": [
    "from nltk import FreqDist\n",
    "\n",
    "fdist1 = FreqDist(text1)           # Create a frequency distribution of the tokens in text1\n",
    "\n",
    "vocabulary1 = list(fdist1.keys())  # Convert the dict_keys object to a list\n",
    "\n",
    "# Now you can slice it to get the first 50 tokens\n",
    "print(vocabulary1[:50])            # Print the first 50 tokens from the vocabulary"
   ]
  },
  {
   "cell_type": "code",
   "execution_count": 79,
   "id": "fe08cd82-c6a4-438c-b9e1-683586345c86",
   "metadata": {},
   "outputs": [
    {
     "data": {
      "text/plain": [
       "906"
      ]
     },
     "execution_count": 79,
     "metadata": {},
     "output_type": "execute_result"
    }
   ],
   "source": [
    "fdist1['whale']"
   ]
  },
  {
   "cell_type": "markdown",
   "id": "8e233617-5745-448b-b2c3-fea6880afada",
   "metadata": {},
   "source": [
    "Only one word, whale, is slightly informative! It occurs over 906 times!"
   ]
  },
  {
   "cell_type": "code",
   "execution_count": 81,
   "id": "9ba56f99-f51d-4f2d-848e-f1171e76cd2c",
   "metadata": {},
   "outputs": [
    {
     "data": {
      "image/png": "[encoded data removed]",
      "text/plain": [
       "<Figure size 640x480 with 1 Axes>"
      ]
     },
     "metadata": {},
     "output_type": "display_data"
    }
   ],
   "source": [
    "fdist1.plot(50, cumulative=True);"
   ]
  },
  {
   "cell_type": "code",
   "execution_count": 82,
   "id": "e0e8ebe4-d3b8-4a7d-9198-6cdabdd5d028",
   "metadata": {},
   "outputs": [
    {
     "data": {
      "image/png": "[encoded data removed]",
      "text/plain": [
       "<Figure size 1200x600 with 1 Axes>"
      ]
     },
     "metadata": {},
     "output_type": "display_data"
    }
   ],
   "source": [
    "import matplotlib.pyplot as plt\n",
    "\n",
    "plt.figure(figsize=(12, 6))       # Set the figure size to be larger (12 inches wide, 6 inches tall)\n",
    "fdist1.plot(50, cumulative=True)  # Plot the top 50 most frequent words with a cumulative frequency distribution\n",
    "plt.show()                        # Display the plot"
   ]
  },
  {
   "cell_type": "code",
   "execution_count": 83,
   "id": "0dfc6ffb-5293-426e-894e-6ac3d185fb4e",
   "metadata": {},
   "outputs": [
    {
     "data": {
      "image/png": "[encoded data removed]",
      "text/plain": [
       "<Figure size 1200x600 with 1 Axes>"
      ]
     },
     "metadata": {},
     "output_type": "display_data"
    }
   ],
   "source": [
    "plt.figure(figsize=(12, 6))        # Set the figure size to be larger (12 inches wide, 6 inches tall)\n",
    "fdist1.plot(50, cumulative=False)  # Plot the top 50 most frequent words with frequency distribution\n",
    "plt.show()    "
   ]
  },
  {
   "cell_type": "code",
   "execution_count": 84,
   "id": "3ecf6b87-fa63-4e89-9b4f-63b63932a36c",
   "metadata": {},
   "outputs": [
    {
     "data": {
      "text/plain": [
       "[(',', 18713),\n",
       " ('the', 13721),\n",
       " ('.', 6862),\n",
       " ('of', 6536),\n",
       " ('and', 6024),\n",
       " ('a', 4569),\n",
       " ('to', 4542),\n",
       " (';', 4072),\n",
       " ('in', 3916),\n",
       " ('that', 2982)]"
      ]
     },
     "execution_count": 84,
     "metadata": {},
     "output_type": "execute_result"
    }
   ],
   "source": [
    "fdist1.most_common(10)  # Show the 10 most common word lengths"
   ]
  },
  {
   "cell_type": "code",
   "execution_count": 85,
   "id": "50deed08-6581-428f-82af-9c3c1ee21402",
   "metadata": {},
   "outputs": [
    {
     "data": {
      "image/png": "[encoded data removed]",
      "text/plain": [
       "<Figure size 640x480 with 1 Axes>"
      ]
     },
     "metadata": {},
     "output_type": "display_data"
    }
   ],
   "source": [
    "# Plot the frequency distribution for the 30 most common word lengths\n",
    "fdist1.plot(30); "
   ]
  },
  {
   "cell_type": "markdown",
   "id": "2b1cc17d-7e79-4c4d-a11e-1cbb30d93dbf",
   "metadata": {},
   "source": [
    "Words that occur once only, the so called *hapaxes*:"
   ]
  },
  {
   "cell_type": "code",
   "execution_count": 87,
   "id": "52157075-9ef6-4aa6-a16f-ce497c819b80",
   "metadata": {},
   "outputs": [],
   "source": [
    "#fdist1.hapaxes()"
   ]
  },
  {
   "cell_type": "markdown",
   "id": "f20277eb-0808-4200-9fd6-96c75bcf5a50",
   "metadata": {},
   "source": [
    "### Fine-Grained Selection of Words"
   ]
  },
  {
   "cell_type": "markdown",
   "id": "07a4f4c2-e1d3-440e-9620-f98a3b7c697f",
   "metadata": {},
   "source": [
    "##### The set of all w such that w is an element of V (the vocabulary) and w has property P."
   ]
  },
  {
   "cell_type": "markdown",
   "id": "d06662bc-8d50-469d-b7b6-6b5c9569546d",
   "metadata": {},
   "source": [
    " {w | w ∈ V & P(w)}"
   ]
  },
  {
   "cell_type": "markdown",
   "id": "ae837429-646e-4189-b4c9-9dd886e91391",
   "metadata": {},
   "source": [
    "[w for w in V if p(w)]"
   ]
  },
  {
   "cell_type": "code",
   "execution_count": 92,
   "id": "daed4861-43bd-4d5b-b78a-34c520d54675",
   "metadata": {},
   "outputs": [
    {
     "data": {
      "text/plain": [
       "['CIRCUMNAVIGATION',\n",
       " 'Physiognomically',\n",
       " 'apprehensiveness',\n",
       " 'cannibalistically',\n",
       " 'characteristically',\n",
       " 'circumnavigating',\n",
       " 'circumnavigation',\n",
       " 'circumnavigations',\n",
       " 'comprehensiveness',\n",
       " 'hermaphroditical',\n",
       " 'indiscriminately',\n",
       " 'indispensableness',\n",
       " 'irresistibleness',\n",
       " 'physiognomically',\n",
       " 'preternaturalness',\n",
       " 'responsibilities',\n",
       " 'simultaneousness',\n",
       " 'subterraneousness',\n",
       " 'supernaturalness',\n",
       " 'superstitiousness',\n",
       " 'uncomfortableness',\n",
       " 'uncompromisedness',\n",
       " 'undiscriminating',\n",
       " 'uninterpenetratingly']"
      ]
     },
     "execution_count": 92,
     "metadata": {},
     "output_type": "execute_result"
    }
   ],
   "source": [
    "V = set(text1)                              # Tokens in Moby Dick\n",
    "\n",
    "long_words = [w for w in V if len(w) > 15]  # Tokes in V that has more than 15 characters\n",
    "\n",
    "sorted(long_words)                          # Sort the long words in alphabetical order"
   ]
  },
  {
   "cell_type": "code",
   "execution_count": 93,
   "id": "0dcc8790-9470-4170-b6f7-ee6476428735",
   "metadata": {},
   "outputs": [
    {
     "data": {
      "text/plain": [
       "['uninterpenetratingly']"
      ]
     },
     "execution_count": 93,
     "metadata": {},
     "output_type": "execute_result"
    }
   ],
   "source": [
    "long_words2 = [w for w in V if len(w) > 19]  # Tokes in V that has more than 19 characters\n",
    "\n",
    "sorted(long_words2)                          # Sort the long words in alphabetical order"
   ]
  },
  {
   "cell_type": "markdown",
   "id": "23fd955d-d678-40e0-ae7b-e5f442e83ef8",
   "metadata": {},
   "source": [
    "Here are all words from the chat corpus that are longer than\n",
    "seven characters, that occur more than seven times:"
   ]
  },
  {
   "cell_type": "code",
   "execution_count": 95,
   "id": "1144a4d8-d6f8-440d-b6e3-514882f77200",
   "metadata": {},
   "outputs": [
    {
     "data": {
      "text/plain": [
       "['Nantucketer',\n",
       " 'Nevertheless',\n",
       " 'circumstance',\n",
       " 'circumstances',\n",
       " 'considerable',\n",
       " 'considering',\n",
       " 'continually',\n",
       " 'countenance',\n",
       " 'disappeared',\n",
       " 'encountered',\n",
       " 'exceedingly',\n",
       " 'experienced',\n",
       " 'harpooneers',\n",
       " 'immediately',\n",
       " 'indifferent',\n",
       " 'indispensable',\n",
       " 'involuntarily',\n",
       " 'naturalists',\n",
       " 'nevertheless',\n",
       " 'occasionally',\n",
       " 'peculiarities',\n",
       " 'perpendicular',\n",
       " 'significant',\n",
       " 'simultaneously',\n",
       " 'straightway',\n",
       " 'unaccountable']"
      ]
     },
     "execution_count": 95,
     "metadata": {},
     "output_type": "execute_result"
    }
   ],
   "source": [
    "fdist5 = FreqDist(text1)\n",
    "\n",
    "sorted([w for w in set(text1) if len(w) > 10 and fdist5[w] > 10])   # longer than ten characters, occur more than ten times"
   ]
  },
  {
   "cell_type": "markdown",
   "id": "025adc2a-397a-44c8-b2ab-af75424e65b5",
   "metadata": {},
   "source": [
    "### Collocations and Bigrams"
   ]
  },
  {
   "cell_type": "markdown",
   "id": "6e4d7b0d-d1f0-4b0d-aa5a-4eb0505d9954",
   "metadata": {},
   "source": [
    "A **collocation** is a sequence of words that occur together unusually often."
   ]
  },
  {
   "cell_type": "code",
   "execution_count": 98,
   "id": "8ffaa6a6-e936-4c55-90a8-3d0555d44e09",
   "metadata": {},
   "outputs": [
    {
     "name": "stdout",
     "output_type": "stream",
     "text": [
      "[('more', 'is'), ('is', 'said'), ('said', 'than'), ('than', 'done')]\n"
     ]
    }
   ],
   "source": [
    "# Generate bigrams and convert the result to a list\n",
    "bigram_list = list(bigrams(['more', 'is', 'said', 'than', 'done']))\n",
    "\n",
    "print(bigram_list)  # Print the list of bigrams"
   ]
  },
  {
   "cell_type": "markdown",
   "id": "6bcaef0c-52de-4c48-bfe0-0ee2b3565f62",
   "metadata": {},
   "source": [
    "Collocations are essentially just frequent bigrams, except that\n",
    "we want to pay more attention to the cases that involve rare words. In particular, we\n",
    "want to find bigrams that occur more often than we would expect based on the frequency of individual words. The `collocations()` function does this for us. "
   ]
  },
  {
   "cell_type": "code",
   "execution_count": 100,
   "id": "a3e8cd80-5ec0-44d5-9200-b85fd394c0e0",
   "metadata": {},
   "outputs": [
    {
     "name": "stdout",
     "output_type": "stream",
     "text": [
      "Sperm Whale; Moby Dick; White Whale; old man; Captain Ahab; sperm\n",
      "whale; Right Whale; Captain Peleg; New Bedford; Cape Horn; cried Ahab;\n",
      "years ago; lower jaw; never mind; Father Mapple; cried Stubb; chief\n",
      "mate; white whale; ivory leg; one hand\n"
     ]
    }
   ],
   "source": [
    "text1.collocations()"
   ]
  },
  {
   "cell_type": "code",
   "execution_count": 101,
   "id": "2ee450be-4053-4e1a-b60e-435bd2b4918f",
   "metadata": {},
   "outputs": [
    {
     "name": "stdout",
     "output_type": "stream",
     "text": [
      "United States; fellow citizens; years ago; four years; Federal\n",
      "Government; General Government; American people; Vice President; God\n",
      "bless; Chief Justice; one another; fellow Americans; Old World;\n",
      "Almighty God; Fellow citizens; Chief Magistrate; every citizen; Indian\n",
      "tribes; public debt; foreign nations\n"
     ]
    }
   ],
   "source": [
    "text4.collocations()"
   ]
  },
  {
   "cell_type": "markdown",
   "id": "c323fbe4-d1f3-426a-b280-50b1ebc18418",
   "metadata": {},
   "source": [
    "### Counting Other Things"
   ]
  },
  {
   "cell_type": "markdown",
   "id": "21c5cbeb-c544-465a-82aa-0c43a6f50709",
   "metadata": {},
   "source": [
    "Counting words is useful, but we can count other things too. For example, we can look\n",
    "at the distribution of word lengths in a text, by creating a FreqDist out of a long list of\n",
    "numbers, where each number is the length of the corresponding word in the text:"
   ]
  },
  {
   "cell_type": "code",
   "execution_count": 104,
   "id": "2c9d8204-2be5-4a6f-a9de-15da41a8b914",
   "metadata": {},
   "outputs": [],
   "source": [
    "sent1 = ['Call', 'me', 'Ishmael', '.']"
   ]
  },
  {
   "cell_type": "code",
   "execution_count": 105,
   "id": "ec56faaf-bf1a-46cc-bf84-d2df0b9f4fa7",
   "metadata": {},
   "outputs": [
    {
     "data": {
      "text/plain": [
       "[4, 2, 7, 1]"
      ]
     },
     "execution_count": 105,
     "metadata": {},
     "output_type": "execute_result"
    }
   ],
   "source": [
    "[len(w) for w in sent1]"
   ]
  },
  {
   "cell_type": "code",
   "execution_count": 106,
   "id": "e5349803-e49e-44e8-a8d9-776da450fb25",
   "metadata": {},
   "outputs": [
    {
     "data": {
      "text/plain": [
       "FreqDist({3: 50223, 1: 47933, 4: 42345, 2: 38513, 5: 26597, 6: 17111, 7: 14399, 8: 9966, 9: 6428, 10: 3528, ...})"
      ]
     },
     "execution_count": 106,
     "metadata": {},
     "output_type": "execute_result"
    }
   ],
   "source": [
    "# Create a frequency distribution of word lengths in text1\n",
    "fdist = FreqDist([len(w) for w in text1])  # Calculate the length of each word in text1 and create a frequency distribution\n",
    "fdist                                      # Output the frequency distribution object"
   ]
  },
  {
   "cell_type": "markdown",
   "id": "5e76b2a4-20c7-4d77-a923-c6b12d52afa6",
   "metadata": {},
   "source": [
    "#### Explanation:\n",
    "\n",
    "* 3: 50223:\n",
    "\n",
    "There are 50,223 words in the text that have a length of 3 characters.\n",
    "\n",
    "* 1: 47933:\n",
    "\n",
    "There are 47,933 words in the text that have a length of 1 character (likely punctuation marks or single-letter words like \"a\" or \"I\").\n",
    "\n",
    "* 4: 42345:\n",
    "\n",
    "There are 42,345 words in the text that have a length of 4 characters.\n",
    "\n",
    "* 2: 38513:\n",
    "\n",
    "There are 38,513 words in the text that have a length of 2 characters."
   ]
  },
  {
   "cell_type": "code",
   "execution_count": 108,
   "id": "6ee8f492-65fc-477b-8e3f-fb9713561fe1",
   "metadata": {},
   "outputs": [
    {
     "data": {
      "text/plain": [
       "['[', 'Moby', 'Dick', 'by', 'Herman', 'Melville', '1851', ']']"
      ]
     },
     "execution_count": 108,
     "metadata": {},
     "output_type": "execute_result"
    }
   ],
   "source": [
    "text1[:8]      # Get the first 8 words from text1"
   ]
  },
  {
   "cell_type": "code",
   "execution_count": 109,
   "id": "a7604232-0f06-4cde-ab51-2b6c8a676149",
   "metadata": {},
   "outputs": [
    {
     "data": {
      "text/plain": [
       "dict_keys([1, 4, 2, 6, 8, 9, 11, 5, 7, 3, 10, 12, 13, 14, 16, 15, 17, 18, 20])"
      ]
     },
     "execution_count": 109,
     "metadata": {},
     "output_type": "execute_result"
    }
   ],
   "source": [
    "fdist.keys()   # Get the unique word lengths from the frequency distribution"
   ]
  },
  {
   "cell_type": "markdown",
   "id": "dbfc35aa-9b00-4eee-93ca-f7cb266f1839",
   "metadata": {},
   "source": [
    "#### Explanation:\n",
    "`fdist.keys()`: Returns the unique word lengths from the frequency distribution. These word lengths are:\n",
    "* 1: There are words that are 1 character long.\n",
    "* 4: There are words that are 4 characters long.\n",
    "* 2: There are words that are 2 characters long.\n",
    "  \n",
    "And so on."
   ]
  },
  {
   "cell_type": "markdown",
   "id": "77e2cf5f-3d76-4270-8cd2-63b15a1a17b1",
   "metadata": {},
   "source": [
    "Each key represents a unique word length that appeared in text1."
   ]
  },
  {
   "cell_type": "code",
   "execution_count": 112,
   "id": "a93f08e1-156c-4014-b7e6-64520051f76d",
   "metadata": {},
   "outputs": [
    {
     "data": {
      "text/plain": [
       "dict_items([(1, 47933), (4, 42345), (2, 38513), (6, 17111), (8, 9966), (9, 6428), (11, 1873), (5, 26597), (7, 14399), (3, 50223), (10, 3528), (12, 1053), (13, 567), (14, 177), (16, 22), (15, 70), (17, 12), (18, 1), (20, 1)])"
      ]
     },
     "execution_count": 112,
     "metadata": {},
     "output_type": "execute_result"
    }
   ],
   "source": [
    "fdist.items()  # Get the frequency distribution as key-value pairs"
   ]
  },
  {
   "cell_type": "markdown",
   "id": "deac586a-48af-4468-95bc-0d0be57cb915",
   "metadata": {},
   "source": [
    "#### Explanation:\n",
    "\n",
    "(1, 47933),  # 47,933 words in the text have a length of 1 character\n",
    "\n",
    "(4, 42345),  # 42,345 words have a length of 4 characters\n",
    "\n",
    "(2, 38513),  # 38,513 words have a length of 2 characters\n",
    "\n",
    "(6, 17111),  # 17,111 words have a length of 6 characters\n",
    "\n",
    "(8, 9966),   # 9,966 words have a length of 8 characters\n",
    "\n",
    "(9, 6428),   # 6,428 words have a length of 9 characters\n",
    "\n",
    "(11, 1873),  # 1,873 words have a length of 11 characters\n",
    "\n",
    "(5, 26597),  # 26,597 words have a length of 5 characters\n",
    "\n",
    "(7, 14399),  # 14,399 words have a length of 7 characters\n",
    "\n",
    "(3, 50223),  # 50,223 words have a length of 3 characters\n",
    "\n",
    "(10, 3528),  # 3,528 words have a length of 10 characters\n",
    "\n",
    "(12, 1053),  # 1,053 words have a length of 12 characters\n",
    "\n",
    "(13, 567),   # 567 words have a length of 13 characters\n",
    "\n",
    "(14, 177),   # 177 words have a length of 14 characters\n",
    "\n",
    "(16, 22),    # 22 words have a length of 16 characters\n",
    "\n",
    "(15, 70),    # 70 words have a length of 15 characters\n",
    "\n",
    "(17, 12),    # 12 words have a length of 17 characters\n",
    "\n",
    "(18, 1),     # 1 word has a length of 18 characters\n",
    "\n",
    "(20, 1)      # 1 word has a length of 20 characters"
   ]
  },
  {
   "cell_type": "code",
   "execution_count": 114,
   "id": "8b4eb8fd-053d-4d82-90b2-61d79bc77cc7",
   "metadata": {},
   "outputs": [
    {
     "data": {
      "text/plain": [
       "3"
      ]
     },
     "execution_count": 114,
     "metadata": {},
     "output_type": "execute_result"
    }
   ],
   "source": [
    "fdist.max()"
   ]
  },
  {
   "cell_type": "code",
   "execution_count": 115,
   "id": "e0269b48-d731-44ce-bc6d-d569fa5c12ea",
   "metadata": {},
   "outputs": [
    {
     "data": {
      "text/plain": [
       "50223"
      ]
     },
     "execution_count": 115,
     "metadata": {},
     "output_type": "execute_result"
    }
   ],
   "source": [
    "fdist[3]"
   ]
  },
  {
   "cell_type": "markdown",
   "id": "990c5245-7af1-4b53-9f88-817ea7bd0f7f",
   "metadata": {},
   "source": [
    "From this we see that the most frequent word length is 3, and that words of length 3\n",
    "account for roughly 50,000 (or 20%) of the words making up the book. "
   ]
  },
  {
   "cell_type": "markdown",
   "id": "ba261cbe-a894-4966-b3f3-54de260349c1",
   "metadata": {},
   "source": [
    "## Back to Python: Making Decisions and Taking Control"
   ]
  },
  {
   "cell_type": "markdown",
   "id": "5199d741-76a1-4003-8293-ec9577b47fb0",
   "metadata": {},
   "source": [
    "### Conditionals"
   ]
  },
  {
   "cell_type": "code",
   "execution_count": 119,
   "id": "1f8dfb4a-3c12-420d-b57f-6eeb311803ad",
   "metadata": {},
   "outputs": [
    {
     "data": {
      "text/plain": [
       "['The',\n",
       " 'family',\n",
       " 'of',\n",
       " 'Dashwood',\n",
       " 'had',\n",
       " 'long',\n",
       " 'been',\n",
       " 'settled',\n",
       " 'in',\n",
       " 'Sussex',\n",
       " '.']"
      ]
     },
     "execution_count": 119,
     "metadata": {},
     "output_type": "execute_result"
    }
   ],
   "source": [
    "sent2"
   ]
  },
  {
   "cell_type": "code",
   "execution_count": 120,
   "id": "08b0a309-7fdc-4c4e-ae51-e1016dbfdf7b",
   "metadata": {},
   "outputs": [
    {
     "data": {
      "text/plain": [
       "['The', 'of', 'had', 'in', '.']"
      ]
     },
     "execution_count": 120,
     "metadata": {},
     "output_type": "execute_result"
    }
   ],
   "source": [
    "[w for w in sent2 if len(w) < 4]"
   ]
  },
  {
   "cell_type": "code",
   "execution_count": 121,
   "id": "444eb5d1-7a41-490a-aea7-0130338a5ac8",
   "metadata": {},
   "outputs": [
    {
     "data": {
      "text/plain": [
       "['The', 'of', 'had', 'long', 'been', 'in', '.']"
      ]
     },
     "execution_count": 121,
     "metadata": {},
     "output_type": "execute_result"
    }
   ],
   "source": [
    "[w for w in sent2 if len(w) <= 4]"
   ]
  },
  {
   "cell_type": "code",
   "execution_count": 122,
   "id": "9fb36a49-67d7-4dc1-800b-49fbef372698",
   "metadata": {},
   "outputs": [
    {
     "data": {
      "text/plain": [
       "['long', 'been']"
      ]
     },
     "execution_count": 122,
     "metadata": {},
     "output_type": "execute_result"
    }
   ],
   "source": [
    "[w for w in sent2 if len(w) == 4]"
   ]
  },
  {
   "cell_type": "code",
   "execution_count": 123,
   "id": "539fc9f8-c8ae-4017-a52f-95473a0e6f7f",
   "metadata": {},
   "outputs": [
    {
     "data": {
      "text/plain": [
       "['The', 'family', 'of', 'Dashwood', 'had', 'settled', 'in', 'Sussex', '.']"
      ]
     },
     "execution_count": 123,
     "metadata": {},
     "output_type": "execute_result"
    }
   ],
   "source": [
    "[w for w in sent2 if len(w) != 4]"
   ]
  },
  {
   "cell_type": "code",
   "execution_count": 124,
   "id": "1502c8b0-f32d-4ef2-bf6c-6319bb268874",
   "metadata": {},
   "outputs": [
    {
     "data": {
      "text/plain": [
       "['comfortableness',\n",
       " 'honourableness',\n",
       " 'immutableness',\n",
       " 'indispensableness',\n",
       " 'indomitableness',\n",
       " 'intolerableness',\n",
       " 'palpableness',\n",
       " 'reasonableness',\n",
       " 'uncomfortableness']"
      ]
     },
     "execution_count": 124,
     "metadata": {},
     "output_type": "execute_result"
    }
   ],
   "source": [
    "# Find and sort words in the text that end with 'ableness'\n",
    "sorted([w for w in set(text1) if w.endswith('ableness')])"
   ]
  },
  {
   "cell_type": "code",
   "execution_count": 125,
   "id": "16693808-8bd5-4a6e-8432-4d0babd14501",
   "metadata": {},
   "outputs": [
    {
     "data": {
      "text/plain": [
       "['Sovereignty', 'sovereignties', 'sovereignty']"
      ]
     },
     "execution_count": 125,
     "metadata": {},
     "output_type": "execute_result"
    }
   ],
   "source": [
    "# Find and sort words in the text that contain 'gnt'\n",
    "sorted([term for term in set(text4) if 'gnt' in term])"
   ]
  },
  {
   "cell_type": "code",
   "execution_count": 126,
   "id": "13edf2fe-960c-42a5-9edc-27d8032107b4",
   "metadata": {},
   "outputs": [],
   "source": [
    "# Find and sort words in the text that start with a title case letter\n",
    "#sorted([item for item in set(text6) if item.istitle()])"
   ]
  },
  {
   "cell_type": "code",
   "execution_count": 127,
   "id": "79fbb2b4-8da8-4ce2-8849-9c032fad6f7f",
   "metadata": {},
   "outputs": [
    {
     "data": {
      "text/plain": [
       "['29', '61']"
      ]
     },
     "execution_count": 127,
     "metadata": {},
     "output_type": "execute_result"
    }
   ],
   "source": [
    "# Find and sort items in the sentence that are numeric (digits)\n",
    "sorted([item for item in set(sent7) if item.isdigit()])"
   ]
  },
  {
   "cell_type": "code",
   "execution_count": 128,
   "id": "e263471f-c132-4a94-81ad-b0d3c9b2cb30",
   "metadata": {},
   "outputs": [
    {
     "data": {
      "text/plain": [
       "['Stock-index',\n",
       " 'index-arbitrage',\n",
       " 'index-fund',\n",
       " 'index-options',\n",
       " 'index-related',\n",
       " 'stock-index']"
      ]
     },
     "execution_count": 128,
     "metadata": {},
     "output_type": "execute_result"
    }
   ],
   "source": [
    "# Find and sort words in the text that contain both a hyphen ('-') and the substring 'index'\n",
    "sorted([w for w in set(text7) if '-' in w and 'index' in w])"
   ]
  },
  {
   "cell_type": "code",
   "execution_count": 129,
   "id": "0e671f77-d8d9-4d15-b661-b1b02c93208c",
   "metadata": {},
   "outputs": [
    {
     "data": {
      "text/plain": [
       "['Abelmizraim',\n",
       " 'Allonbachuth',\n",
       " 'Beerlahairoi',\n",
       " 'Canaanitish',\n",
       " 'Chedorlaomer',\n",
       " 'Girgashites',\n",
       " 'Hazarmaveth',\n",
       " 'Hazezontamar',\n",
       " 'Ishmeelites',\n",
       " 'Jegarsahadutha',\n",
       " 'Jehovahjireh',\n",
       " 'Kirjatharba',\n",
       " 'Melchizedek',\n",
       " 'Mesopotamia',\n",
       " 'Peradventure',\n",
       " 'Philistines',\n",
       " 'Zaphnathpaaneah']"
      ]
     },
     "execution_count": 129,
     "metadata": {},
     "output_type": "execute_result"
    }
   ],
   "source": [
    "# Find and sort words in the text that are in title case and have more than 10 characters\n",
    "sorted([wd for wd in set(text3) if wd.istitle() and len(wd) > 10])"
   ]
  },
  {
   "cell_type": "code",
   "execution_count": 130,
   "id": "0b172cee-600f-4e5d-8b48-7c3d17caf8df",
   "metadata": {},
   "outputs": [
    {
     "data": {
      "text/plain": [
       "[',', '.', '29', '61', 'Nov.', 'Pierre', 'Vinken']"
      ]
     },
     "execution_count": 130,
     "metadata": {},
     "output_type": "execute_result"
    }
   ],
   "source": [
    "# Find and sort words in the sentence that are not entirely lowercase\n",
    "sorted([w for w in set(sent7) if not w.islower()])"
   ]
  },
  {
   "cell_type": "code",
   "execution_count": 131,
   "id": "e211352d-b49f-4d22-9aab-e4bb5a88741c",
   "metadata": {},
   "outputs": [
    {
     "data": {
      "text/plain": [
       "['ancient',\n",
       " 'ceiling',\n",
       " 'conceit',\n",
       " 'conceited',\n",
       " 'conceive',\n",
       " 'conscience',\n",
       " 'conscientious',\n",
       " 'conscientiously',\n",
       " 'deceitful',\n",
       " 'deceive',\n",
       " 'deceived',\n",
       " 'deceiving',\n",
       " 'deficiencies',\n",
       " 'deficiency',\n",
       " 'deficient',\n",
       " 'delicacies',\n",
       " 'excellencies',\n",
       " 'fancied',\n",
       " 'insufficiency',\n",
       " 'insufficient',\n",
       " 'legacies',\n",
       " 'perceive',\n",
       " 'perceived',\n",
       " 'perceiving',\n",
       " 'prescience',\n",
       " 'prophecies',\n",
       " 'receipt',\n",
       " 'receive',\n",
       " 'received',\n",
       " 'receiving',\n",
       " 'society',\n",
       " 'species',\n",
       " 'sufficient',\n",
       " 'sufficiently',\n",
       " 'undeceive',\n",
       " 'undeceiving']"
      ]
     },
     "execution_count": 131,
     "metadata": {},
     "output_type": "execute_result"
    }
   ],
   "source": [
    "# Find and sort words in the text that contain either 'cie' or 'cei'\n",
    "sorted([t for t in set(text2) if 'cie' in t or 'cei' in t])"
   ]
  },
  {
   "cell_type": "markdown",
   "id": "416f3463-3e3f-4b6b-9bd2-6ebe4102a0ed",
   "metadata": {},
   "source": [
    "### Operating on Every Element"
   ]
  },
  {
   "cell_type": "code",
   "execution_count": 133,
   "id": "334342b4-d04d-41e4-a2db-448e4b00d2c1",
   "metadata": {},
   "outputs": [
    {
     "data": {
      "text/plain": [
       "['[', 'MOBY', 'DICK', 'BY', 'HERMAN']"
      ]
     },
     "execution_count": 133,
     "metadata": {},
     "output_type": "execute_result"
    }
   ],
   "source": [
    "[w.upper() for w in text1][:5]  # all until 5-1 (0, 1, 2, 3, 4)"
   ]
  },
  {
   "cell_type": "code",
   "execution_count": 134,
   "id": "38c26881-36ea-42eb-9544-50d96a83ea16",
   "metadata": {},
   "outputs": [
    {
     "data": {
      "text/plain": [
       "260819"
      ]
     },
     "execution_count": 134,
     "metadata": {},
     "output_type": "execute_result"
    }
   ],
   "source": [
    "len(text1)  # Get the total number of tokens (words, punctuation, etc.) in text1, including duplicates"
   ]
  },
  {
   "cell_type": "code",
   "execution_count": 135,
   "id": "570ab07f-7339-4c12-9c7b-af880338019f",
   "metadata": {},
   "outputs": [
    {
     "data": {
      "text/plain": [
       "19317"
      ]
     },
     "execution_count": 135,
     "metadata": {},
     "output_type": "execute_result"
    }
   ],
   "source": [
    "len(set(text1))  # Get the number of unique tokens in text1 by converting to a set, which removes duplicates"
   ]
  },
  {
   "cell_type": "code",
   "execution_count": 136,
   "id": "13ba7416-fadc-42d8-9cb1-0e475a0f2512",
   "metadata": {},
   "outputs": [
    {
     "data": {
      "text/plain": [
       "17231"
      ]
     },
     "execution_count": 136,
     "metadata": {},
     "output_type": "execute_result"
    }
   ],
   "source": [
    "len(set([word.lower() for word in text1]))  # Get the number of unique tokens in text1, converting them to lowercase first"
   ]
  },
  {
   "cell_type": "code",
   "execution_count": 137,
   "id": "0f428504-dfc8-4f4e-932c-705a79b8e439",
   "metadata": {},
   "outputs": [
    {
     "data": {
      "text/plain": [
       "16948"
      ]
     },
     "execution_count": 137,
     "metadata": {},
     "output_type": "execute_result"
    }
   ],
   "source": [
    "# Convert all alphabetic tokens in text1 to lowercase and count unique words\n",
    "len(set([word.lower() for word in text1 if word.isalpha()]))  \n",
    "\n",
    "# 1. word.isalpha(): Ensures only alphabetic words (letters only, no punctuation or numbers) are included.\n",
    "# 2. word.lower(): Converts each word to lowercase to ensure case-insensitive comparison.\n",
    "# 3. set(...): Removes duplicate words, leaving only unique ones.\n",
    "# 4. len(...): Counts the number of unique alphabetic words in text1 (case-insensitive)."
   ]
  },
  {
   "cell_type": "markdown",
   "id": "cdc65d62-07d5-44f1-8358-975e272ebd46",
   "metadata": {},
   "source": [
    "### Nested Code Blocks"
   ]
  },
  {
   "cell_type": "code",
   "execution_count": 139,
   "id": "bbace397-f597-49de-b2f0-e324d274b8dc",
   "metadata": {},
   "outputs": [
    {
     "name": "stdout",
     "output_type": "stream",
     "text": [
      "word length is less than 5\n"
     ]
    }
   ],
   "source": [
    "word = 'cat'\n",
    "\n",
    "if len(word) < 5:\n",
    "    print ('word length is less than 5')"
   ]
  },
  {
   "cell_type": "code",
   "execution_count": 140,
   "id": "ac1c5dab-ffb9-42e2-ba2d-34f06061f67b",
   "metadata": {},
   "outputs": [
    {
     "name": "stdout",
     "output_type": "stream",
     "text": [
      "Call\n",
      "me\n",
      "Ishmael\n",
      ".\n"
     ]
    }
   ],
   "source": [
    " for word in ['Call', 'me', 'Ishmael', '.']:\n",
    "     print (word)"
   ]
  },
  {
   "cell_type": "markdown",
   "id": "cdf597b3-3e96-45dc-8a68-a2fd081b302a",
   "metadata": {},
   "source": [
    "### Looping with Conditions"
   ]
  },
  {
   "cell_type": "code",
   "execution_count": 142,
   "id": "d1f3142d-929c-4434-b186-d0d4a3a77c4f",
   "metadata": {},
   "outputs": [
    {
     "name": "stdout",
     "output_type": "stream",
     "text": [
      "Call\n",
      "Ishmael\n"
     ]
    }
   ],
   "source": [
    "sent1 = ['Call', 'me', 'Ishmael', '.']  # Define a list of words (a sentence)\n",
    "\n",
    "for xyzzy in sent1:           # Loop through each word in the sentence    \n",
    "    if xyzzy.endswith('l'):   # Check if the word ends with the letter 'l'\n",
    "        print(xyzzy)          # If the condition is true, print the word"
   ]
  },
  {
   "cell_type": "code",
   "execution_count": 143,
   "id": "9672474d-5555-4ddf-9a64-946012b4b941",
   "metadata": {},
   "outputs": [
    {
     "name": "stdout",
     "output_type": "stream",
     "text": [
      "Call is a titlecase word\n",
      "me is a lowercase word\n",
      "Ishmael is a titlecase word\n",
      ". is punctuation\n"
     ]
    }
   ],
   "source": [
    "sent1 = ['Call', 'me', 'Ishmael', '.']  # Define a list of words (a sentence)\n",
    "\n",
    "for token in sent1:        # Loop through each token in the sentence \n",
    "    if token.islower():    # Check if the token is entirely in lowercase\n",
    "        print(token, 'is a lowercase word')   \n",
    "    elif token.istitle():  # Check if the token is in title case (starts with an uppercase letter, followed by lowercase)\n",
    "        print(token, 'is a titlecase word') \n",
    "    else:                  # If neither condition is met, treat the token as punctuation\n",
    "        print(token, 'is punctuation')  "
   ]
  },
  {
   "cell_type": "code",
   "execution_count": 144,
   "id": "0dbe246a-4bcc-409a-8606-778cb2e454bb",
   "metadata": {},
   "outputs": [
    {
     "name": "stdout",
     "output_type": "stream",
     "text": [
      "ancient\n",
      "ceiling\n",
      "conceit\n",
      "conceited\n",
      "conceive\n",
      "conscience\n",
      "conscientious\n",
      "conscientiously\n",
      "deceitful\n",
      "deceive\n",
      "deceived\n",
      "deceiving\n",
      "deficiencies\n",
      "deficiency\n",
      "deficient\n",
      "delicacies\n",
      "excellencies\n",
      "fancied\n",
      "insufficiency\n",
      "insufficient\n",
      "legacies\n",
      "perceive\n",
      "perceived\n",
      "perceiving\n",
      "prescience\n",
      "prophecies\n",
      "receipt\n",
      "receive\n",
      "received\n",
      "receiving\n",
      "society\n",
      "species\n",
      "sufficient\n",
      "sufficiently\n",
      "undeceive\n",
      "undeceiving\n"
     ]
    }
   ],
   "source": [
    "# Find and sort words in text2 that contain either 'cie' or 'cei'\n",
    "tricky = sorted([w for w in set(text2) if 'cie' in w or 'cei' in w])\n",
    "\n",
    "# Loop through each word in the tricky list and print it\n",
    "for word in tricky:  \n",
    "    print(word)"
   ]
  },
  {
   "cell_type": "code",
   "execution_count": 145,
   "id": "f17c83fb-ecd3-47e6-920f-30e9f25b9e76",
   "metadata": {},
   "outputs": [
    {
     "data": {
      "text/plain": [
       "['[',\n",
       " 'Moby',\n",
       " 'Dick',\n",
       " 'by',\n",
       " 'Herman',\n",
       " 'Melville',\n",
       " '1851',\n",
       " ']',\n",
       " 'ETYMOLOGY',\n",
       " '.']"
      ]
     },
     "execution_count": 145,
     "metadata": {},
     "output_type": "execute_result"
    }
   ],
   "source": [
    "text1[:10]"
   ]
  },
  {
   "cell_type": "code",
   "execution_count": 146,
   "id": "c1d01fda-e949-403e-a171-549b988f46ab",
   "metadata": {},
   "outputs": [
    {
     "name": "stdout",
     "output_type": "stream",
     "text": [
      "[ Moby Dick by Herman Melville 1851 ] ETYMOLOGY . ( Supplied by a Late Consumptive Usher to a Grammar School ) The pale Usher -- threadbare in coat , heart , body , and brain ; I see him now . He was ever dusting his old lexicons and grammars , with a queer handkerchief , mockingly embellished with all the gay flags of all the known nations of the world . He loved to dust his old grammars ; it somehow mildly reminded him of his mortality . \" While you take in hand to school others , and to teach them by what name a whale - fish is to be called in our tongue leaving out , through ignorance , the letter H , which almost alone maketh the signification of the word , you deliver that which is not true .\" -- HACKLUYT \" WHALE . ... Sw . and Dan . HVAL . This animal is named from roundness or rolling ; for in Dan . HVALT is arched or vaulted .\" -- WEBSTER ' S DICTIONARY \" WHALE . ... It is more immediately from the Dut . and Ger . WALLEN ; A . S . WALW - IAN , to roll , to wallow .\" -- RICHARDSON ' S DICTIONARY KETOS , GREEK . CETUS , LATIN . WHOEL , ANGLO - SAXON . HVALT , DANISH . WAL , DUTCH . HWAL , SWEDISH . WHALE , ICELANDIC . WHALE , ENGLISH . BALEINE , FRENCH . BALLENA , SPANISH . PEKEE - NUEE - NUEE , FEGEE . PEKEE - NUEE - NUEE , ERROMANGOAN . EXTRACTS ( Supplied by a Sub - Sub - Librarian ). It will be seen that this mere painstaking burrower and grub - worm of a poor devil of a Sub - Sub appears to have gone through the long Vaticans and street - stalls of the earth , picking up whatever random allusions to whales he could anyways find in any book whatsoever , sacred or profane . Therefore you must not , in every case at least , take the higgledy - piggledy whale statements , however authentic , in these extracts , for veritable gospel cetology . Far from it . As touching the ancient authors generally , as well as the poets here appearing , these extracts are solely valuable or entertaining , as affording a glancing bird ' s eye view of what has been promiscuously said , thought , fancied , and sung of Leviathan , by many nations and generations , including our own . So fare thee well , poor devil of a Sub - Sub , whose commentator I am . Thou belongest to that hopeless , sallow tribe which no wine of this world will ever warm ; and for whom even Pale Sherry would be too rosy - strong ; but with whom one sometimes loves to sit , and feel poor\n"
     ]
    }
   ],
   "source": [
    "text_as_string = ' '.join(text1[:500])  # Join the first 10 words from text1 with spaces\n",
    "print(text_as_string)"
   ]
  }
 ],
 "metadata": {
  "kernelspec": {
   "display_name": "Python 3 (ipykernel)",
   "language": "python",
   "name": "python3"
  },
  "language_info": {
   "codemirror_mode": {
    "name": "ipython",
    "version": 3
   },
   "file_extension": ".py",
   "mimetype": "text/x-python",
   "name": "python",
   "nbconvert_exporter": "python",
   "pygments_lexer": "ipython3",
   "version": "3.11.7"
  }
 },
 "nbformat": 4,
 "nbformat_minor": 5
}
