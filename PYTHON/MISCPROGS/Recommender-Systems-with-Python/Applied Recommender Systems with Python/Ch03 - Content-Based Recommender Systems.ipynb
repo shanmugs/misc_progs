{
 "cells": [
  {
   "cell_type": "markdown",
   "id": "3763c0a1-4118-4610-838e-27d9985fbceb",
   "metadata": {},
   "source": [
    "# Chapter 3 - Content-Based Recommender Systems"
   ]
  },
  {
   "cell_type": "markdown",
   "id": "92969969-1c2d-465d-be0e-fd59f50e2004",
   "metadata": {},
   "source": [
    "Content-based filtering is used to recommend products or items very similar to those being clicked or liked. User recommendations are based on the description of an item and a profile of the user’s interests. Content-based recommender systems are widely used in e-commerce platforms. It is one of the basic algorithms in a recommendation engine. Content-based filtering can be triggered for any event; for example, on click, on purchase, or add to cart."
   ]
  },
  {
   "cell_type": "markdown",
   "id": "3e4acc04-2319-4545-856c-93d99bd2a50a",
   "metadata": {},
   "source": [
    "### Approach\n",
    "The following steps build a content-based recommender engine.\n",
    "1. Do the data collection (should have complete item description).\n",
    "2. Do the data preprocessing.\n",
    "3. Convert text to features.\n",
    "4. Perform similarity measures.\n",
    "5. Recommend products."
   ]
  },
  {
   "cell_type": "markdown",
   "id": "44c42125-eaaa-48e1-88d1-bbf8f9c36146",
   "metadata": {},
   "source": [
    "<div style=\"text-align:center;\">\n",
    "    <img src='images/cbrs.jpg' width='600'>\n",
    "</div>"
   ]
  },
  {
   "cell_type": "markdown",
   "id": "b0a73d34-3fb9-4293-89b7-a45f256cdef7",
   "metadata": {},
   "source": [
    "### Links to download required word embeddings\n",
    "\n",
    "download w2v\n",
    "gdown https://drive.google.com/uc?id=0B7XkCwpI5KDYNlNUTTlSS21pQmM\n",
    "\n",
    "download glove\n",
    "wget https://nlp.stanford.edu/data/glove.6B.zip\n",
    "\n",
    "download fastext\n",
    "gdown https://drive.google.com/uc?id=1vz6659Atv9OOXiakzj1xaKhZ9jxJkeFF"
   ]
  },
  {
   "cell_type": "code",
   "execution_count": 1,
   "id": "a183f6aa-f435-4c45-9145-0260ee8a61e6",
   "metadata": {},
   "outputs": [],
   "source": [
    "#Importing the libraries\n",
    "\n",
    "import pandas as pd\n",
    "from sklearn.feature_extraction.text import CountVectorizer\n",
    "from sklearn.metrics.pairwise import cosine_similarity, manhattan_distances, euclidean_distances\n",
    "from sklearn.feature_extraction.text import TfidfVectorizer\n",
    "import re\n",
    "from gensim import models\n",
    "import numpy as np\n",
    "import matplotlib.pyplot as plt\n",
    "import matplotlib.style\n",
    "%matplotlib inline\n",
    "from gensim.models import FastText as ft\n",
    "from IPython.display import Image\n",
    "import os\n",
    "\n",
    "import warnings\n",
    "warnings.filterwarnings(\"ignore\")"
   ]
  },
  {
   "cell_type": "code",
   "execution_count": 2,
   "id": "9087c6df-dc79-4eb1-b0ea-a6b4e51e2db2",
   "metadata": {},
   "outputs": [
    {
     "data": {
      "text/html": [
       "<div>\n",
       "<style scoped>\n",
       "    .dataframe tbody tr th:only-of-type {\n",
       "        vertical-align: middle;\n",
       "    }\n",
       "\n",
       "    .dataframe tbody tr th {\n",
       "        vertical-align: top;\n",
       "    }\n",
       "\n",
       "    .dataframe thead th {\n",
       "        text-align: right;\n",
       "    }\n",
       "</style>\n",
       "<table border=\"1\" class=\"dataframe\">\n",
       "  <thead>\n",
       "    <tr style=\"text-align: right;\">\n",
       "      <th></th>\n",
       "      <th>StockCode</th>\n",
       "      <th>Product Name</th>\n",
       "      <th>Description</th>\n",
       "      <th>Category</th>\n",
       "      <th>Brand</th>\n",
       "      <th>Unit Price</th>\n",
       "    </tr>\n",
       "  </thead>\n",
       "  <tbody>\n",
       "    <tr>\n",
       "      <th>0</th>\n",
       "      <td>22629</td>\n",
       "      <td>Ganma Superheroes Ordinary Life Case For Samsu...</td>\n",
       "      <td>New unique design, great gift.High quality pla...</td>\n",
       "      <td>Cell Phones|Cellphone Accessories|Cases &amp; Prot...</td>\n",
       "      <td>Ganma</td>\n",
       "      <td>13.99</td>\n",
       "    </tr>\n",
       "    <tr>\n",
       "      <th>1</th>\n",
       "      <td>21238</td>\n",
       "      <td>Eye Buy Express Prescription Glasses Mens Wome...</td>\n",
       "      <td>Rounded rectangular cat-eye reading glasses. T...</td>\n",
       "      <td>Health|Home Health Care|Daily Living Aids</td>\n",
       "      <td>Eye Buy Express</td>\n",
       "      <td>19.22</td>\n",
       "    </tr>\n",
       "    <tr>\n",
       "      <th>2</th>\n",
       "      <td>22181</td>\n",
       "      <td>MightySkins Skin Decal Wrap Compatible with Ni...</td>\n",
       "      <td>Each Nintendo 2DS kit is printed with super-hi...</td>\n",
       "      <td>Video Games|Video Game Accessories|Accessories...</td>\n",
       "      <td>Mightyskins</td>\n",
       "      <td>14.99</td>\n",
       "    </tr>\n",
       "    <tr>\n",
       "      <th>3</th>\n",
       "      <td>84879</td>\n",
       "      <td>Mediven Sheer and Soft 15-20 mmHg Thigh w/ Lac...</td>\n",
       "      <td>The sheerest compression stocking in its class...</td>\n",
       "      <td>Health|Medicine Cabinet|Braces &amp; Supports</td>\n",
       "      <td>Medi</td>\n",
       "      <td>62.38</td>\n",
       "    </tr>\n",
       "    <tr>\n",
       "      <th>4</th>\n",
       "      <td>84836</td>\n",
       "      <td>Stupell Industries Chevron Initial Wall D cor</td>\n",
       "      <td>Features: -Made in the USA. -Sawtooth hanger o...</td>\n",
       "      <td>Home Improvement|Paint|Wall Decals|All Wall De...</td>\n",
       "      <td>Stupell Industries</td>\n",
       "      <td>35.99</td>\n",
       "    </tr>\n",
       "  </tbody>\n",
       "</table>\n",
       "</div>"
      ],
      "text/plain": [
       "  StockCode                                       Product Name  \\\n",
       "0     22629  Ganma Superheroes Ordinary Life Case For Samsu...   \n",
       "1     21238  Eye Buy Express Prescription Glasses Mens Wome...   \n",
       "2     22181  MightySkins Skin Decal Wrap Compatible with Ni...   \n",
       "3     84879  Mediven Sheer and Soft 15-20 mmHg Thigh w/ Lac...   \n",
       "4     84836      Stupell Industries Chevron Initial Wall D cor   \n",
       "\n",
       "                                         Description  \\\n",
       "0  New unique design, great gift.High quality pla...   \n",
       "1  Rounded rectangular cat-eye reading glasses. T...   \n",
       "2  Each Nintendo 2DS kit is printed with super-hi...   \n",
       "3  The sheerest compression stocking in its class...   \n",
       "4  Features: -Made in the USA. -Sawtooth hanger o...   \n",
       "\n",
       "                                            Category               Brand  \\\n",
       "0  Cell Phones|Cellphone Accessories|Cases & Prot...               Ganma   \n",
       "1          Health|Home Health Care|Daily Living Aids     Eye Buy Express   \n",
       "2  Video Games|Video Game Accessories|Accessories...         Mightyskins   \n",
       "3          Health|Medicine Cabinet|Braces & Supports                Medi   \n",
       "4  Home Improvement|Paint|Wall Decals|All Wall De...  Stupell Industries   \n",
       "\n",
       "   Unit Price  \n",
       "0       13.99  \n",
       "1       19.22  \n",
       "2       14.99  \n",
       "3       62.38  \n",
       "4       35.99  "
      ]
     },
     "execution_count": 2,
     "metadata": {},
     "output_type": "execute_result"
    }
   ],
   "source": [
    "#read csv data\n",
    "df = pd.read_csv('data/Rec_sys_content.csv')\n",
    "\n",
    "#view first 5 rows\n",
    "df.head()"
   ]
  },
  {
   "cell_type": "code",
   "execution_count": 3,
   "id": "aa5b538a-9b02-41bd-afd3-4ab005d977db",
   "metadata": {},
   "outputs": [
    {
     "name": "stdout",
     "output_type": "stream",
     "text": [
      "<class 'pandas.core.frame.DataFrame'>\n",
      "RangeIndex: 3958 entries, 0 to 3957\n",
      "Data columns (total 6 columns):\n",
      " #   Column        Non-Null Count  Dtype  \n",
      "---  ------        --------------  -----  \n",
      " 0   StockCode     3958 non-null   object \n",
      " 1   Product Name  3958 non-null   object \n",
      " 2   Description   3958 non-null   object \n",
      " 3   Category      3856 non-null   object \n",
      " 4   Brand         3818 non-null   object \n",
      " 5   Unit Price    3943 non-null   float64\n",
      "dtypes: float64(1), object(5)\n",
      "memory usage: 185.7+ KB\n"
     ]
    }
   ],
   "source": [
    "df.info()"
   ]
  },
  {
   "cell_type": "markdown",
   "id": "8843ef5a-9b62-45f8-9892-bc280de0a38c",
   "metadata": {},
   "source": [
    "### Data Preparation"
   ]
  },
  {
   "cell_type": "code",
   "execution_count": 4,
   "id": "7c2e86ab-6e14-453a-add9-edd6c0d123f6",
   "metadata": {},
   "outputs": [
    {
     "data": {
      "text/plain": [
       "Brand           140\n",
       "Category        102\n",
       "Unit Price       15\n",
       "StockCode         0\n",
       "Product Name      0\n",
       "Description       0\n",
       "dtype: int64"
      ]
     },
     "execution_count": 4,
     "metadata": {},
     "output_type": "execute_result"
    }
   ],
   "source": [
    "#null check\n",
    "df.isnull().sum().sort_values(ascending=False)"
   ]
  },
  {
   "cell_type": "code",
   "execution_count": 5,
   "id": "cb78ef46-f0a9-4734-8e75-f0196939fdf6",
   "metadata": {},
   "outputs": [
    {
     "data": {
      "text/plain": [
       "(3958, 6)"
      ]
     },
     "execution_count": 5,
     "metadata": {},
     "output_type": "execute_result"
    }
   ],
   "source": [
    "#Drop N/A\n",
    "df.dropna().reset_index(inplace = True)\n",
    "\n",
    "# Data Shape\n",
    "df.shape"
   ]
  },
  {
   "cell_type": "code",
   "execution_count": 6,
   "id": "b831fcd8-87d5-4bfa-97ec-a303a6d54b10",
   "metadata": {},
   "outputs": [
    {
     "data": {
      "text/html": [
       "<div>\n",
       "<style scoped>\n",
       "    .dataframe tbody tr th:only-of-type {\n",
       "        vertical-align: middle;\n",
       "    }\n",
       "\n",
       "    .dataframe tbody tr th {\n",
       "        vertical-align: top;\n",
       "    }\n",
       "\n",
       "    .dataframe thead th {\n",
       "        text-align: right;\n",
       "    }\n",
       "</style>\n",
       "<table border=\"1\" class=\"dataframe\">\n",
       "  <thead>\n",
       "    <tr style=\"text-align: right;\">\n",
       "      <th></th>\n",
       "      <th>StockCode</th>\n",
       "      <th>Product Name</th>\n",
       "      <th>Description</th>\n",
       "      <th>Category</th>\n",
       "      <th>Brand</th>\n",
       "      <th>Unit Price</th>\n",
       "    </tr>\n",
       "  </thead>\n",
       "  <tbody>\n",
       "    <tr>\n",
       "      <th>0</th>\n",
       "      <td>22629</td>\n",
       "      <td>Ganma Superheroes Ordinary Life Case For Samsu...</td>\n",
       "      <td>New unique design, great gift.High quality pla...</td>\n",
       "      <td>Cell Phones|Cellphone Accessories|Cases &amp; Prot...</td>\n",
       "      <td>Ganma</td>\n",
       "      <td>13.99</td>\n",
       "    </tr>\n",
       "    <tr>\n",
       "      <th>1</th>\n",
       "      <td>21238</td>\n",
       "      <td>Eye Buy Express Prescription Glasses Mens Wome...</td>\n",
       "      <td>Rounded rectangular cat-eye reading glasses. T...</td>\n",
       "      <td>Health|Home Health Care|Daily Living Aids</td>\n",
       "      <td>Eye Buy Express</td>\n",
       "      <td>19.22</td>\n",
       "    </tr>\n",
       "    <tr>\n",
       "      <th>2</th>\n",
       "      <td>22181</td>\n",
       "      <td>MightySkins Skin Decal Wrap Compatible with Ni...</td>\n",
       "      <td>Each Nintendo 2DS kit is printed with super-hi...</td>\n",
       "      <td>Video Games|Video Game Accessories|Accessories...</td>\n",
       "      <td>Mightyskins</td>\n",
       "      <td>14.99</td>\n",
       "    </tr>\n",
       "    <tr>\n",
       "      <th>3</th>\n",
       "      <td>84879</td>\n",
       "      <td>Mediven Sheer and Soft 15-20 mmHg Thigh w/ Lac...</td>\n",
       "      <td>The sheerest compression stocking in its class...</td>\n",
       "      <td>Health|Medicine Cabinet|Braces &amp; Supports</td>\n",
       "      <td>Medi</td>\n",
       "      <td>62.38</td>\n",
       "    </tr>\n",
       "    <tr>\n",
       "      <th>4</th>\n",
       "      <td>84836</td>\n",
       "      <td>Stupell Industries Chevron Initial Wall D cor</td>\n",
       "      <td>Features: -Made in the USA. -Sawtooth hanger o...</td>\n",
       "      <td>Home Improvement|Paint|Wall Decals|All Wall De...</td>\n",
       "      <td>Stupell Industries</td>\n",
       "      <td>35.99</td>\n",
       "    </tr>\n",
       "  </tbody>\n",
       "</table>\n",
       "</div>"
      ],
      "text/plain": [
       "  StockCode                                       Product Name  \\\n",
       "0     22629  Ganma Superheroes Ordinary Life Case For Samsu...   \n",
       "1     21238  Eye Buy Express Prescription Glasses Mens Wome...   \n",
       "2     22181  MightySkins Skin Decal Wrap Compatible with Ni...   \n",
       "3     84879  Mediven Sheer and Soft 15-20 mmHg Thigh w/ Lac...   \n",
       "4     84836      Stupell Industries Chevron Initial Wall D cor   \n",
       "\n",
       "                                         Description  \\\n",
       "0  New unique design, great gift.High quality pla...   \n",
       "1  Rounded rectangular cat-eye reading glasses. T...   \n",
       "2  Each Nintendo 2DS kit is printed with super-hi...   \n",
       "3  The sheerest compression stocking in its class...   \n",
       "4  Features: -Made in the USA. -Sawtooth hanger o...   \n",
       "\n",
       "                                            Category               Brand  \\\n",
       "0  Cell Phones|Cellphone Accessories|Cases & Prot...               Ganma   \n",
       "1          Health|Home Health Care|Daily Living Aids     Eye Buy Express   \n",
       "2  Video Games|Video Game Accessories|Accessories...         Mightyskins   \n",
       "3          Health|Medicine Cabinet|Braces & Supports                Medi   \n",
       "4  Home Improvement|Paint|Wall Decals|All Wall De...  Stupell Industries   \n",
       "\n",
       "   Unit Price  \n",
       "0       13.99  \n",
       "1       19.22  \n",
       "2       14.99  \n",
       "3       62.38  \n",
       "4       35.99  "
      ]
     },
     "execution_count": 6,
     "metadata": {},
     "output_type": "execute_result"
    }
   ],
   "source": [
    "df.head()"
   ]
  },
  {
   "cell_type": "markdown",
   "id": "ecdbfe90-8512-4b81-984f-da33cf91d39d",
   "metadata": {},
   "source": [
    "### Loading pretrained models"
   ]
  },
  {
   "cell_type": "code",
   "execution_count": 7,
   "id": "5b815a29-e838-4ad1-af53-414464a3ef55",
   "metadata": {},
   "outputs": [],
   "source": [
    "# Importing Word2Vec\n",
    "word2vecModel = models.KeyedVectors.load_word2vec_format('data/GoogleNews-vectors-negative300.bin.gz', binary=True)"
   ]
  },
  {
   "cell_type": "code",
   "execution_count": 8,
   "id": "207d4fa0-aae9-48f6-873c-69d99ad1c257",
   "metadata": {},
   "outputs": [],
   "source": [
    "# Importing FastText\n",
    "fasttext_model=ft.load_fasttext_format(\"data/cc.en.300.bin.gz\")"
   ]
  },
  {
   "cell_type": "code",
   "execution_count": 9,
   "id": "69e1a8a0-fecd-47bd-9695-5da3eebd5d70",
   "metadata": {},
   "outputs": [],
   "source": [
    "# Import Glove\n",
    "glove_df = pd.read_csv('data/glove.6B.300d.txt', sep=\" \",\n",
    "                       quoting=3, header=None, index_col=0)\n",
    "glove_model = {key: value.values for key, value in glove_df.T.items()}"
   ]
  },
  {
   "cell_type": "markdown",
   "id": "8abbcea0-0b2b-4522-a6d5-84cdfb77abdc",
   "metadata": {},
   "source": [
    "# Text to Features\n",
    "Once the text preprocessing is done, let’s focus on converting the preprocessed text into features.\n",
    "There are several methods to convert text to features.\n",
    "\n",
    "    • One-hot encoding (OHE)\n",
    "    • CountVectorizer\n",
    "    • TF-IDF\n",
    "\n",
    "The following are word embedding tools.\n",
    "\n",
    "    • Word2vec\n",
    "    • fastText\n",
    "    • GloVe\n",
    "\n",
    "Since machines or algorithms cannot understand the text, a key task in natural language processing (NLP) is converting text data into numerical data called features. There are different techniques to do this. Let’s discuss them briefly."
   ]
  },
  {
   "cell_type": "markdown",
   "id": "123e2712-04e6-4145-ac5b-b3f7a74929c1",
   "metadata": {},
   "source": [
    "**CountVectorizer**\r",
    "- \n",
    "The drawback to the OHE approach is if a word appears multiple times in a sentence, i \r",
    "gets the same importance as any other word that appears only once. CountVectorize \r",
    "helps overcome this because it counts the tokens present in an observation instead o \r",
    "tagging everything as 1 or 0\n",
    "\n",
    "**Term Frequency–Inverse Document Frequency (TF-IDF)**\r",
    "- \n",
    "CountVectorizer won’t answer all questions. If the length of the sentences is inconsisten \r",
    "or a word is repeated in all the sentences, it becomes tricky. TF-IDF addresses thes \r",
    "problems\n",
    ".\r\n",
    "The term frequency (TF) is the “number of times the token appeared in a corpus d c\r",
    "divided by the total number of tokens ”\r\n",
    "The inverse document frequency (IDF) is a log of the total number of such cor us\r",
    "docs in overall docs we have divided by the number of overall docs with the selected\r",
    "word. It helps provide more weight to rare words in the corp s.\r\n",
    "Multiplying them gives the TF-IDF vector for a word in the corpus.."
   ]
  },
  {
   "cell_type": "markdown",
   "id": "b104cc4f-6318-4a5b-9127-88262eeb538a",
   "metadata": {},
   "source": [
    "<div style=\"text-align:center;\">\n",
    "    <img src='images/tiidf.jpg' width='500'>\n",
    "</div>"
   ]
  },
  {
   "cell_type": "code",
   "execution_count": 10,
   "id": "cec4ac49-da0d-4f50-b962-58ca34b53b24",
   "metadata": {},
   "outputs": [],
   "source": [
    "# Importing Count Vectorizer\n",
    "count_vectorizer = CountVectorizer(stop_words='english')\n",
    "\n",
    "# Importing IFIDF\n",
    "tfidf_vec = TfidfVectorizer(stop_words='english', analyzer='word', ngram_range=(1,3))"
   ]
  },
  {
   "cell_type": "markdown",
   "id": "37fc153d-7981-4d9d-9ea9-ec6493fd370c",
   "metadata": {},
   "source": [
    "### Preprocessing\n",
    "\n",
    "The following describes the preprocessing steps.\n",
    "1. Remove duplicates.\n",
    "2. Convert the string to lowercase.\n",
    "3. Remove special characters."
   ]
  },
  {
   "cell_type": "code",
   "execution_count": 11,
   "id": "1f891936-97a8-46f5-9ced-c286713d3d71",
   "metadata": {},
   "outputs": [],
   "source": [
    "# Combining Product and Description\n",
    "df['Description'] = df['Product Name'] + ' ' +df['Description']\n",
    "\n",
    "# Dropping Duplicates and keeping first record\n",
    "unique_df = df.drop_duplicates(subset=['Description'], keep='first')\n",
    "\n",
    "# Converting String to Lower Case\n",
    "unique_df['desc_lowered'] = unique_df['Description'].apply(lambda x: x.lower()) \n",
    "\n",
    "# Remove Stop special Characters\n",
    "unique_df['desc_lowered'] = unique_df['desc_lowered'].apply(lambda x: re.sub(r'[^\\w\\s]', '', x))\n",
    "\n",
    "# Coverting Description to List\n",
    "desc_list = list(unique_df['desc_lowered'])"
   ]
  },
  {
   "cell_type": "code",
   "execution_count": 12,
   "id": "d91b5f8c-f9c2-4341-8f98-60250016b3a0",
   "metadata": {},
   "outputs": [],
   "source": [
    "unique_df= unique_df.reset_index(drop=True)\n",
    "\n",
    "unique_df.reset_index(inplace=True)"
   ]
  },
  {
   "cell_type": "markdown",
   "id": "7fee18a1-daf5-4e77-ade6-60b311d142a2",
   "metadata": {},
   "source": [
    "### Similarity Measures"
   ]
  },
  {
   "cell_type": "markdown",
   "id": "71b9fa0a-cd85-4a89-b76c-2ed01e4b6395",
   "metadata": {},
   "source": [
    "#### Manhattan distance\n",
    "It is calculated as the sum of the absolute differences between the two vectors."
   ]
  },
  {
   "cell_type": "markdown",
   "id": "e76b6d75-a269-4101-9562-60414ec9041c",
   "metadata": {},
   "source": [
    "<div style=\"text-align:center;\">\n",
    "    <img src='images/md.png' width='500'>\n",
    "</div>"
   ]
  },
  {
   "cell_type": "code",
   "execution_count": 13,
   "id": "f40984c6-6d0e-44c9-bc46-00def4a8e38a",
   "metadata": {},
   "outputs": [],
   "source": [
    "def find_manhattan_distance(sim_matrix, index, n=10):   \n",
    "     \n",
    "    # Getting Score and Index\n",
    "    result = list(enumerate(sim_matrix[index]))\n",
    "\n",
    "    # Sorting the Score and taking top 10 products\n",
    "    sorted_result = sorted(result,key=lambda x:x[1],reverse=False)[1:10+1]\n",
    "    \n",
    "    # Mapping index with data\n",
    "    similar_products =  [{'value': unique_df.iloc[x[0]]['Product Name'], 'score' : round(x[1], 2)} for x in sorted_result]\n",
    "    \n",
    "    return similar_products"
   ]
  },
  {
   "cell_type": "markdown",
   "id": "dee5e0ed-25b7-4067-8fdf-ebf8fb1504b7",
   "metadata": {},
   "source": [
    "#### Euclidean distance\n",
    "It is calculated as the square root of the sum of the squared differences between the two vectors."
   ]
  },
  {
   "cell_type": "markdown",
   "id": "4d20063c-8d52-4ee7-98ee-181bf95c6a37",
   "metadata": {},
   "source": [
    "<div style=\"text-align:center;\">\n",
    "    <img src='images/euclidean.png' width='500'>\n",
    "</div>"
   ]
  },
  {
   "cell_type": "code",
   "execution_count": 14,
   "id": "a49c5f69-8826-43e9-93da-b1e936358c23",
   "metadata": {},
   "outputs": [],
   "source": [
    "def find_euclidean_distances(sim_matrix, index, n=10): \n",
    "\n",
    "    # Getting Score and Index\n",
    "    result = list(enumerate(sim_matrix[index]))\n",
    "\n",
    "    # Sorting the Score and taking top 10 products\n",
    "    sorted_result = sorted(result,key=lambda x:x[1],reverse=False)[1:10+1]\n",
    "\n",
    "    # Mapping index with data\n",
    "    similar_products =  [{'value': unique_df.iloc[x[0]]['Product Name'], 'score' : round(x[1], 2)} for x in sorted_result]\n",
    "    \n",
    "    return similar_products"
   ]
  },
  {
   "cell_type": "markdown",
   "id": "669b1f6b-5b89-4fc0-94ac-5aeb956cf2cb",
   "metadata": {},
   "source": [
    "#### Cosine Similarity\n",
    "It is the cosine of the angle between two n-dimensional vectors in an n-dimensional space. It is the dot product of the two vectors divided by the product of the two vectors' lengths (or magnitudes)."
   ]
  },
  {
   "cell_type": "markdown",
   "id": "2e6484e7-924f-4cb6-8b49-4b2359537963",
   "metadata": {},
   "source": [
    "<div style=\"text-align:center;\">\n",
    "    <img src='images/coss.png' width='500'>\n",
    "</div>"
   ]
  },
  {
   "cell_type": "code",
   "execution_count": 15,
   "id": "bd8d6e51-2be3-41b9-b4c5-a803dae3ff83",
   "metadata": {},
   "outputs": [],
   "source": [
    "def find_similarity(cosine_sim_matrix, index, n=10):\n",
    "    \n",
    "    # calculate cosine similarity between each vectors\n",
    "    result = list(enumerate(cosine_sim_matrix[index]))\n",
    "    \n",
    "    # Sorting the Score\n",
    "    sorted_result = sorted(result,key=lambda x:x[1],reverse=True)[1:n+1]\n",
    "    \n",
    "    similar_products =  [{'value': unique_df.iloc[x[0]]['Product Name'], 'score' : round(x[1], 2)} for x in sorted_result]\n",
    "     \n",
    "    return similar_products"
   ]
  },
  {
   "cell_type": "markdown",
   "id": "f2819c84-2b86-4ce5-b4c0-15d8147e1c21",
   "metadata": {},
   "source": [
    "## Recommendation functions using various features"
   ]
  },
  {
   "cell_type": "markdown",
   "id": "6e5aa1a3-199b-4684-914c-ce6466114077",
   "metadata": {},
   "source": [
    "CountVectorizer is used to transform a given text into a vector on the basis of the frequency (count) of each word that occurs in the entire text. This is helpful when we have multiple such texts, and we wish to convert each word in each text into vectors. CountVectorizer creates a matrix in which each unique word is represented by a column of the matrix, and each text sample from the document is a row in the matrix. The value of each cell is nothing but the count of the word in that particular text sample. Eg. document = [ “One Geek helps Two Geeks”, “Two Geeks help Four Geeks”, “Each Geek helps many other Geeks at GeeksforGeeks.”]"
   ]
  },
  {
   "cell_type": "markdown",
   "id": "68c2b3fd-4862-482c-93cd-1d285893019d",
   "metadata": {},
   "source": [
    "<div style=\"text-align:center;\">\n",
    "    <img src='images/cv.png' width='900'>\n",
    "</div>"
   ]
  },
  {
   "cell_type": "markdown",
   "id": "433edef3-1c09-4659-a92e-3ae946f4667a",
   "metadata": {},
   "source": [
    "#### The following is the input for this function.\n",
    "    • Product id = Mentions the product name/description for which you need similar items\n",
    "    • df = Passes preprocessed data\n",
    "    • similarity = Mentions which similarity method must run\n",
    "    • n = Number of recommendations"
   ]
  },
  {
   "cell_type": "code",
   "execution_count": 16,
   "id": "5e671466-8b93-4603-8dc8-648164713259",
   "metadata": {},
   "outputs": [],
   "source": [
    "# For test:\n",
    "product_id = 'Vickerman 14\" Finial Drop Christmas Ornaments, Pack of 2'"
   ]
  },
  {
   "cell_type": "code",
   "execution_count": 17,
   "id": "e88e0428-c2b7-4eb8-ad04-0ed2dffde773",
   "metadata": {},
   "outputs": [],
   "source": [
    "# Comparing similarity to get the top matches using count Vec\n",
    "\n",
    "def get_recommendation_cv(product_id, df, similarity, n=10):  # Top 10 most similar product\n",
    "\n",
    "    row = df.loc[df['Product Name'] == product_id]\n",
    "    index = list(row.index)[0]\n",
    "    description = row['desc_lowered'].loc[index]\n",
    "\n",
    "    #Create vector using Count Vectorizer\n",
    "\n",
    "    count_vector = count_vectorizer.fit_transform(desc_list)\n",
    "    \n",
    "    if similarity == \"cosine\":\n",
    "        sim_matrix = cosine_similarity(count_vector)\n",
    "        products = find_similarity(sim_matrix , index)\n",
    "        \n",
    "    elif similarity == \"manhattan\":\n",
    "        sim_matrix = manhattan_distances(count_vector)\n",
    "        products = find_manhattan_distance(sim_matrix , index)\n",
    "        \n",
    "    else:\n",
    "        sim_matrix = euclidean_distances(count_vector)\n",
    "        products = find_euclidean_distances(sim_matrix , index)\n",
    "\n",
    "    return products"
   ]
  },
  {
   "cell_type": "code",
   "execution_count": 18,
   "id": "df93513f-3126-428c-9b0c-1e156558ae6d",
   "metadata": {},
   "outputs": [
    {
     "data": {
      "text/plain": [
       "[{'value': 'Fancyleo Christmas Glasses Frames 2 Pack Glittered Eyeglasses Glasses Set No Lens Kids Family Xmas Party Ornaments Gift',\n",
       "  'score': 0.28},\n",
       " {'value': 'storefront christmas LED Decoration Light Gold Color Star Shape Vine Wedding Party event',\n",
       "  'score': 0.2},\n",
       " {'value': '16 inches 40 inches \"MERRY CHRISTMAS\" Letter Foil Inflated Balloon Float Helium Aluminum Balloons for Christmas Decoration',\n",
       "  'score': 0.19},\n",
       " {'value': '12ct Light Gunmetal Gray Shatterproof 4-Finish Christmas Ball Ornaments 4\" (100mm)',\n",
       "  'score': 0.19},\n",
       " {'value': 'PeanutsÃ‚Â Valentine Sign Craft Kit (Pack of 12)', 'score': 0.13},\n",
       " {'value': 'Simplicity 3 Pack Elastic Hair Ties White/Pink/Pink Leopard, 24 Count',\n",
       "  'score': 0.13},\n",
       " {'value': '3 Pack Newbee Fashion- \"Butterfly\" Thin Design Gold Emblem Reading Glasses with Lanyard +1.75',\n",
       "  'score': 0.12},\n",
       " {'value': 'Paper Mate Write Bros. Grip Mechanical Pencil, 0.7mm 5 ea (Pack of 2)',\n",
       "  'score': 0.11},\n",
       " {'value': 'Christopher Radko Glass Plum Frosty Snowman Christmas Ornament #1017624',\n",
       "  'score': 0.11},\n",
       " {'value': 'Is It To Late To Be Good Grinch Christmas Mens Tank Top Shirt',\n",
       "  'score': 0.11}]"
      ]
     },
     "execution_count": 18,
     "metadata": {},
     "output_type": "execute_result"
    }
   ],
   "source": [
    "# Cosine Similarity \n",
    "get_recommendation_cv(product_id, unique_df, similarity = \"cosine\", n=10)"
   ]
  },
  {
   "cell_type": "code",
   "execution_count": 19,
   "id": "bbecf4fe-b5de-4aa4-97d7-cd62a41aac84",
   "metadata": {},
   "outputs": [
    {
     "data": {
      "text/plain": [
       "[{'value': 'Stepping Stones', 'score': 43.0},\n",
       " {'value': 'Global Portuguese', 'score': 43.0},\n",
       " {'value': 'Polo Blue by Ralph Lauren', 'score': 43.0},\n",
       " {'value': 'Auburn Leathercrafters Tuscany Leather Dog Collar', 'score': 45.0},\n",
       " {'value': 'Leftover Salmon', 'score': 45.0},\n",
       " {'value': 'Good (Vinyl)', 'score': 45.0},\n",
       " {'value': 'Drunken Monkeys', 'score': 45.0},\n",
       " {'value': 'DuraTech Roof Support Trim', 'score': 47.0},\n",
       " {'value': 'Amerlite Niche Sealing Ring', 'score': 47.0},\n",
       " {'value': 'Learning and Performance in Corrections', 'score': 47.0}]"
      ]
     },
     "execution_count": 19,
     "metadata": {},
     "output_type": "execute_result"
    }
   ],
   "source": [
    "# Manhattan Similarity \n",
    "get_recommendation_cv(product_id, unique_df, similarity = \"manhattan\", n=10)"
   ]
  },
  {
   "cell_type": "code",
   "execution_count": 20,
   "id": "08521004-5971-4c3c-af4f-efb6969dc143",
   "metadata": {},
   "outputs": [
    {
     "data": {
      "text/plain": [
       "[{'value': 'Polo Blue by Ralph Lauren', 'score': 9.0},\n",
       " {'value': 'Auburn Leathercrafters Tuscany Leather Dog Collar', 'score': 9.11},\n",
       " {'value': 'Global Portuguese', 'score': 9.11},\n",
       " {'value': 'Stepping Stones', 'score': 9.22},\n",
       " {'value': 'Always in My Heart', 'score': 9.22},\n",
       " {'value': 'Leftover Salmon', 'score': 9.22},\n",
       " {'value': 'Good (Vinyl)', 'score': 9.22},\n",
       " {'value': 'Drunken Monkeys', 'score': 9.22},\n",
       " {'value': 'Learning and Performance in Corrections', 'score': 9.43},\n",
       " {'value': 'Chasing Hamburg (Vinyl)', 'score': 9.43}]"
      ]
     },
     "execution_count": 20,
     "metadata": {},
     "output_type": "execute_result"
    }
   ],
   "source": [
    "# Euclidean Similarity \n",
    "get_recommendation_cv(product_id, unique_df, similarity = \"euclidean\", n=10)"
   ]
  },
  {
   "cell_type": "markdown",
   "id": "2df9090f-973a-468a-ba46-889d4b37a5f8",
   "metadata": {},
   "source": [
    "## Build a Model Using TF-IDF Features"
   ]
  },
  {
   "cell_type": "markdown",
   "id": "4bcf2e61-6f27-45e4-81cc-e5a24c6f513b",
   "metadata": {},
   "source": [
    "TF-IDF (term frequency-inverse document frequency) is a statistical measure that evaluates how relevant a word is to a document in a collection of documents. This is done by multiplying two metrics: how many times a word appears in a document, and the inverse document frequency of the word across a set of documents."
   ]
  },
  {
   "cell_type": "markdown",
   "id": "9a64a04f-b8e0-4052-b2ad-6503ffce51be",
   "metadata": {},
   "source": [
    "<div style=\"text-align:center;\">\n",
    "    <img src='images/tfidf.png' width='300'>\n",
    "</div>"
   ]
  },
  {
   "cell_type": "markdown",
   "id": "a44eb549-b097-4adf-80fe-b7d4e290e8ea",
   "metadata": {},
   "source": [
    "**Example:**\n",
    "\n",
    "    documentA = 'the man went out for a walk'\n",
    "\n",
    "    documentB = 'the children sat around the fire'"
   ]
  },
  {
   "cell_type": "markdown",
   "id": "fd03df48-efb3-469a-ac20-a034b476dfc7",
   "metadata": {},
   "source": [
    "<div style=\"text-align:center;\">\n",
    "    <img src='images/tfresult.png' width='900'>\n",
    "</div>"
   ]
  },
  {
   "cell_type": "code",
   "execution_count": 21,
   "id": "751d178a-7059-497b-a08f-793d8acdc3fd",
   "metadata": {},
   "outputs": [],
   "source": [
    "# Comparing similarity to get the top matches using TF-IDF\n",
    "\n",
    "def get_recommendation_tfidf(product_id, df, similarity, n=10):\n",
    "\n",
    "    row = df.loc[df['Product Name'] == product_id]\n",
    "    index = list(row.index)[0]\n",
    "    description = row['desc_lowered'].loc[index]\n",
    "\n",
    "    #Create vector using tfidf\n",
    "    \n",
    "    tfidf_matrix = tfidf_vec.fit_transform(desc_list)\n",
    "    \n",
    "    if similarity == \"cosine\":\n",
    "        sim_matrix = cosine_similarity(tfidf_matrix)\n",
    "        products = find_similarity(sim_matrix , index)\n",
    "        \n",
    "    elif similarity == \"manhattan\":\n",
    "        sim_matrix = manhattan_distances(tfidf_matrix)\n",
    "        products = find_manhattan_distance(sim_matrix , index)\n",
    "        \n",
    "    else:\n",
    "        sim_matrix = euclidean_distances(tfidf_matrix)\n",
    "        products = find_euclidean_distances(sim_matrix , index)\n",
    "\n",
    "    return products"
   ]
  },
  {
   "cell_type": "code",
   "execution_count": 22,
   "id": "7355b3d6-fe44-4971-b16e-e1089e92b17c",
   "metadata": {},
   "outputs": [
    {
     "data": {
      "text/plain": [
       "[{'value': 'Fancyleo Christmas Glasses Frames 2 Pack Glittered Eyeglasses Glasses Set No Lens Kids Family Xmas Party Ornaments Gift',\n",
       "  'score': 0.07},\n",
       " {'value': 'storefront christmas LED Decoration Light Gold Color Star Shape Vine Wedding Party event',\n",
       "  'score': 0.05},\n",
       " {'value': '12ct Light Gunmetal Gray Shatterproof 4-Finish Christmas Ball Ornaments 4\" (100mm)',\n",
       "  'score': 0.05},\n",
       " {'value': '16 inches 40 inches \"MERRY CHRISTMAS\" Letter Foil Inflated Balloon Float Helium Aluminum Balloons for Christmas Decoration',\n",
       "  'score': 0.05},\n",
       " {'value': 'Is It To Late To Be Good Grinch Christmas Mens Tank Top Shirt',\n",
       "  'score': 0.02},\n",
       " {'value': 'Christopher Radko Glass Plum Frosty Snowman Christmas Ornament #1017624',\n",
       "  'score': 0.02},\n",
       " {'value': 'CMFUN Watercolor Brush Creative Flower Made with Ink Hand Painting for Your Designs Pillowcase 20x20 inch',\n",
       "  'score': 0.02},\n",
       " {'value': 'SKIN DECAL FOR OtterBox Symmetry Samsung Galaxy S7 Case - Christmas Snowflake Blue Ornaments DECAL, NOT A CASE',\n",
       "  'score': 0.02},\n",
       " {'value': \"Santa's Workshop Illinois Mascot and Flag Nutcracker\",\n",
       "  'score': 0.02},\n",
       " {'value': 'The Holiday Aisle LED C7 Faceted Christmas Light Bulb',\n",
       "  'score': 0.02}]"
      ]
     },
     "execution_count": 22,
     "metadata": {},
     "output_type": "execute_result"
    }
   ],
   "source": [
    "# Cosine Similarity \n",
    "get_recommendation_tfidf(product_id, unique_df, similarity = \"cosine\", n=10)"
   ]
  },
  {
   "cell_type": "code",
   "execution_count": 23,
   "id": "e9695856-d62d-4d61-83e4-a9b097d00ecf",
   "metadata": {},
   "outputs": [
    {
     "data": {
      "text/plain": [
       "[{'value': 'Stepping Stones', 'score': 11.05},\n",
       " {'value': 'Global Portuguese', 'score': 11.42},\n",
       " {'value': 'Polo Blue by Ralph Lauren', 'score': 11.68},\n",
       " {'value': 'DuraTech Roof Support Trim', 'score': 12.06},\n",
       " {'value': 'Silver Metallic Foil Streamers', 'score': 12.07},\n",
       " {'value': 'Pro Pinstripe Jersey Sleeveles', 'score': 12.07},\n",
       " {'value': 'Amerlite Niche Sealing Ring', 'score': 12.07},\n",
       " {'value': 'Leftover Salmon', 'score': 12.3},\n",
       " {'value': 'Drunken Monkeys', 'score': 12.32},\n",
       " {'value': \"Alfred's Drum Method, Book 1\", 'score': 12.41}]"
      ]
     },
     "execution_count": 23,
     "metadata": {},
     "output_type": "execute_result"
    }
   ],
   "source": [
    "# Manhattan Similarity \n",
    "get_recommendation_tfidf(product_id, unique_df, similarity = \"manhattan\", n=10)"
   ]
  },
  {
   "cell_type": "code",
   "execution_count": 24,
   "id": "4dfd19ef-b8de-4b28-af3c-b2b666e80cf0",
   "metadata": {},
   "outputs": [
    {
     "data": {
      "text/plain": [
       "[{'value': 'Fancyleo Christmas Glasses Frames 2 Pack Glittered Eyeglasses Glasses Set No Lens Kids Family Xmas Party Ornaments Gift',\n",
       "  'score': 1.37},\n",
       " {'value': 'storefront christmas LED Decoration Light Gold Color Star Shape Vine Wedding Party event',\n",
       "  'score': 1.38},\n",
       " {'value': '12ct Light Gunmetal Gray Shatterproof 4-Finish Christmas Ball Ornaments 4\" (100mm)',\n",
       "  'score': 1.38},\n",
       " {'value': '16 inches 40 inches \"MERRY CHRISTMAS\" Letter Foil Inflated Balloon Float Helium Aluminum Balloons for Christmas Decoration',\n",
       "  'score': 1.38},\n",
       " {'value': 'Is It To Late To Be Good Grinch Christmas Mens Tank Top Shirt',\n",
       "  'score': 1.4},\n",
       " {'value': 'Christopher Radko Glass Plum Frosty Snowman Christmas Ornament #1017624',\n",
       "  'score': 1.4},\n",
       " {'value': 'CMFUN Watercolor Brush Creative Flower Made with Ink Hand Painting for Your Designs Pillowcase 20x20 inch',\n",
       "  'score': 1.4},\n",
       " {'value': 'SKIN DECAL FOR OtterBox Symmetry Samsung Galaxy S7 Case - Christmas Snowflake Blue Ornaments DECAL, NOT A CASE',\n",
       "  'score': 1.4},\n",
       " {'value': \"Santa's Workshop Illinois Mascot and Flag Nutcracker\",\n",
       "  'score': 1.4},\n",
       " {'value': 'The Holiday Aisle LED C7 Faceted Christmas Light Bulb',\n",
       "  'score': 1.4}]"
      ]
     },
     "execution_count": 24,
     "metadata": {},
     "output_type": "execute_result"
    }
   ],
   "source": [
    "# Euclidean Similarity \n",
    "get_recommendation_tfidf(product_id, unique_df, similarity = \"euclidean\", n=10)"
   ]
  },
  {
   "cell_type": "markdown",
   "id": "e6834e39-c3c3-4fe5-a4b0-f74cccc87aec",
   "metadata": {},
   "source": [
    "## Word2vec\n",
    "Word2Vec is a shallow, two-layer neural networks which is trained to reconstruct linguistic contexts of words. It takes as its input a large corpus of words and produces a vector space, typically of several hundred dimensions, with each unique word in the corpus being assigned a corresponding vector in the space. Word vectors are positioned in the vector space such that words that share common contexts in the corpus are located in close proximity to one another in the space. Word2Vec is a particularly computationally-efficient predictive model for learning word embeddings from raw text."
   ]
  },
  {
   "cell_type": "markdown",
   "id": "c0a45203-2d9b-4340-b8f6-6fdbb3e9e031",
   "metadata": {},
   "source": [
    "<div style=\"text-align:center;\">\n",
    "    <img src='images/w2.png' width='800'>\n",
    "</div>"
   ]
  },
  {
   "cell_type": "code",
   "execution_count": 25,
   "id": "36066d49-2032-44b2-a796-5061e460fbbb",
   "metadata": {},
   "outputs": [],
   "source": [
    "# Comparing similarity to get the top matches using Word2Vec pretrained model\n",
    "\n",
    "def get_recommendation_word2vec(product_id, df, similarity, n=10):\n",
    "    \n",
    "    row = df.loc[df['Product Name'] == product_id]\n",
    "    input_index = list(row.index)[0]\n",
    "    description = row['desc_lowered'].loc[input_index]\n",
    "\n",
    "    #create vectors for each desc using word2vec\n",
    "    vector_matrix = np.empty((len(desc_list), 300))\n",
    "    for index, each_sentence in enumerate(desc_list):\n",
    "        sentence_vector = np.zeros((300,))\n",
    "        count  = 0\n",
    "        for each_word in each_sentence.split():\n",
    "            try:\n",
    "                sentence_vector += word2vecModel[each_word]\n",
    "                count += 1\n",
    "            except:\n",
    "                continue\n",
    "        \n",
    "        vector_matrix[index] = sentence_vector\n",
    "        \n",
    "    \n",
    "    if similarity == \"cosine\":\n",
    "        sim_matrix = cosine_similarity(vector_matrix)\n",
    "        products = find_similarity(sim_matrix , input_index)\n",
    "        \n",
    "    elif similarity == \"manhattan\":\n",
    "        sim_matrix = manhattan_distances(vector_matrix)\n",
    "        products = find_manhattan_distance(sim_matrix , input_index)\n",
    "        \n",
    "    else:\n",
    "        sim_matrix = euclidean_distances(vector_matrix)\n",
    "        products = find_euclidean_distances(sim_matrix , input_index)\n",
    "\n",
    "    return products"
   ]
  },
  {
   "cell_type": "code",
   "execution_count": 26,
   "id": "f0dc35fb-410c-4b7b-b649-69faed6dbdf8",
   "metadata": {},
   "outputs": [
    {
     "data": {
      "text/plain": [
       "[{'value': 'Fancyleo Christmas Glasses Frames 2 Pack Glittered Eyeglasses Glasses Set No Lens Kids Family Xmas Party Ornaments Gift',\n",
       "  'score': 0.85},\n",
       " {'value': 'Red Gift Wrap Bag by K-Kraft (Festive Red Stripes, 13 x 17.5 inches)',\n",
       "  'score': 0.85},\n",
       " {'value': '12 Pcs 3D Butterfly Stickers DIY Mural Art Decal Wall Stickers Crafts Wall Paper Decor (Yellow Series)',\n",
       "  'score': 0.84},\n",
       " {'value': 'Cat Mod Garden Complex - Unfinished/Black', 'score': 0.83},\n",
       " {'value': 'Three Things That Makes Good Coffee: Sugar, Sugar and More Sugar Wall Decal - wall decal, sticker, quotes and sayings - W5082 - Light pink, 35in x 18in',\n",
       "  'score': 0.82},\n",
       " {'value': 'Halloween Bats Wall Decal - Wall Sticker, Vinyl Wall Art, Home Decor, Wall Mural - W5014 - Royal blue, 16in x 10in',\n",
       "  'score': 0.82},\n",
       " {'value': 'Hibiscus Flowers Wall Decal - Wall Sticker, Vinyl Wall Art, Home Decor, Wall Mural - 2186 - 8in x 19in, Dark green',\n",
       "  'score': 0.82},\n",
       " {'value': 'Abstract Heart Plant Wall Decal - Wall Sticker, Vinyl Wall Art, Home Decor, Wall Mural - S125 - 12in x 13in, Royal blue',\n",
       "  'score': 0.82},\n",
       " {'value': 'Ecclesiastes 8:15 so I commend the enjoymentâ€¦ Vinyl Decal Sticker Quote - Small - Metallic Gold',\n",
       "  'score': 0.82},\n",
       " {'value': 'Pterosaur Wall Decal - dinosaur wall decal, sticker, mural vinyl art home decor - 3765 - Orange, 47in x 24in',\n",
       "  'score': 0.82}]"
      ]
     },
     "execution_count": 26,
     "metadata": {},
     "output_type": "execute_result"
    }
   ],
   "source": [
    "# Cosine Similarity \n",
    "get_recommendation_word2vec(product_id, unique_df, similarity = \"cosine\", n=10)"
   ]
  },
  {
   "cell_type": "code",
   "execution_count": 27,
   "id": "f7fc7a5d-9d78-4056-aacf-53eea3a1732d",
   "metadata": {},
   "outputs": [
    {
     "data": {
      "text/plain": [
       "[{'value': 'storefront christmas LED Decoration Light Gold Color Star Shape Vine Wedding Party event',\n",
       "  'score': 458.13},\n",
       " {'value': '8 1/2 x 14 Cardstock - Crystal Metallic (500 Qty.)',\n",
       "  'score': 488.19},\n",
       " {'value': 'Cavalier Spaniel St. Patricks Day Shamrock Mouse Pad&#44; Hot Pad Or Trivet',\n",
       "  'score': 497.0},\n",
       " {'value': \"Call of the Wild Howling the Full Moon Women's Racerback Alpha Wolf\",\n",
       "  'score': 509.22},\n",
       " {'value': 'Fringe Table Skirt Purple 9 ft x 29 inches Pkg/1',\n",
       "  'score': 516.08},\n",
       " {'value': 'Trend Enterprises T-83315 1.25 in. Holiday Pals & Peppermint Scratch N Sniff Stinky Stickers&#44; Large Round',\n",
       "  'score': 522.0},\n",
       " {'value': \"Allwitty 1039 - Women's T-Shirt Ipac Pistol Gun Apple Iphone Parody\",\n",
       "  'score': 525.03},\n",
       " {'value': 'Clear 18 Note Acrylic Box Musical Paperweight - Light My Fire',\n",
       "  'score': 526.08},\n",
       " {'value': 'Handcrafted Ercolano Music Box Featuring \"Luncheon of the Boating Party\" by Renoir, Pierre Auguste - New YorkNew York',\n",
       "  'score': 527.88},\n",
       " {'value': 'Platinum 5 mm Comfort Fit Half Round Wedding Band - Size 9.5',\n",
       "  'score': 528.08}]"
      ]
     },
     "execution_count": 27,
     "metadata": {},
     "output_type": "execute_result"
    }
   ],
   "source": [
    "# Manhattan Similarity \n",
    "get_recommendation_word2vec(product_id, unique_df, similarity = \"manhattan\", n=10)"
   ]
  },
  {
   "cell_type": "code",
   "execution_count": 28,
   "id": "ffca47f9-8c4c-45a4-b0a7-801d2ad84796",
   "metadata": {},
   "outputs": [
    {
     "data": {
      "text/plain": [
       "[{'value': 'storefront christmas LED Decoration Light Gold Color Star Shape Vine Wedding Party event',\n",
       "  'score': 32.76},\n",
       " {'value': '8 1/2 x 14 Cardstock - Crystal Metallic (500 Qty.)',\n",
       "  'score': 34.82},\n",
       " {'value': 'Cavalier Spaniel St. Patricks Day Shamrock Mouse Pad&#44; Hot Pad Or Trivet',\n",
       "  'score': 35.78},\n",
       " {'value': \"Call of the Wild Howling the Full Moon Women's Racerback Alpha Wolf\",\n",
       "  'score': 36.09},\n",
       " {'value': 'Fringe Table Skirt Purple 9 ft x 29 inches Pkg/1', 'score': 36.28},\n",
       " {'value': \"New Way 075 - Men's Sleeveless Fbi Female Body Inspector\",\n",
       "  'score': 37.43},\n",
       " {'value': 'Trend Enterprises T-83315 1.25 in. Holiday Pals & Peppermint Scratch N Sniff Stinky Stickers&#44; Large Round',\n",
       "  'score': 37.51},\n",
       " {'value': 'Platinum 5 mm Comfort Fit Half Round Wedding Band - Size 9.5',\n",
       "  'score': 37.6},\n",
       " {'value': 'Christmas Presents Between Friends Chinese Crested Black Sticky Note Holder',\n",
       "  'score': 37.78},\n",
       " {'value': 'Tulane Green Wave Muscle Mug', 'score': 37.85}]"
      ]
     },
     "execution_count": 28,
     "metadata": {},
     "output_type": "execute_result"
    }
   ],
   "source": [
    "# Euclidean Similarity \n",
    "get_recommendation_word2vec(product_id, unique_df, similarity = \"euclidean\", n=10)"
   ]
  },
  {
   "cell_type": "markdown",
   "id": "fb9f128a-1902-424f-b573-16f7b32ca025",
   "metadata": {},
   "source": [
    "# fastText\n",
    "fastText is another word embedding method that is an extension of the word2vec model. Instead of learning vectors for words directly, fastText represents each word as an n-gram of characters. So, for example, take the word, “artificial” with n=3, the fastText representation of this word is <ar, art, rti, tif, ifi, fic, ici, ial, al>, where the angular brackets indicate the beginning and end of the word. This helps capture the meaning of shorter words and allows the embeddings to understand suffixes and prefixes."
   ]
  },
  {
   "cell_type": "markdown",
   "id": "4c7a4ab8-4c63-405e-8580-f9bf2b0803d5",
   "metadata": {},
   "source": [
    "<div style=\"text-align:center;\">\n",
    "    <img src='images/ft.png' width='800'>\n",
    "</div>"
   ]
  },
  {
   "cell_type": "code",
   "execution_count": 29,
   "id": "f45b5556-968e-43a9-aece-1a88ab281701",
   "metadata": {},
   "outputs": [],
   "source": [
    "# Comparing similarity to get the top matches using fastText pretrained model\n",
    "\n",
    "def get_recommendation_fasttext(product_id, df, similarity, n=10):\n",
    "\n",
    "    row = df.loc[df['Product Name'] == product_id]\n",
    "    input_index = list(row.index)[0]\n",
    "    description = row['desc_lowered'].loc[input_index]\n",
    "\n",
    "    #create vectors for each description using fasttext\n",
    "    vector_matrix = np.empty((len(desc_list), 300))\n",
    "    for index, each_sentence in enumerate(desc_list):   \n",
    "        sentence_vector = np.zeros((300,))  \n",
    "        count  = 0\n",
    "        for each_word in each_sentence.split():      \n",
    "            try:\n",
    "                sentence_vector += fasttext_model.wv[each_word] \n",
    "                count += 1\n",
    "            except:\n",
    "                continue\n",
    "        \n",
    "        vector_matrix[index] = sentence_vector\n",
    "        \n",
    "    if similarity == \"cosine\":\n",
    "        sim_matrix = cosine_similarity(vector_matrix)\n",
    "        products = find_similarity(sim_matrix , input_index)\n",
    "        \n",
    "    elif similarity == \"manhattan\":\n",
    "        sim_matrix = manhattan_distances(vector_matrix)\n",
    "        products = find_manhattan_distance(sim_matrix , input_index)\n",
    "        \n",
    "    else:\n",
    "        sim_matrix = euclidean_distances(vector_matrix)\n",
    "        products = find_euclidean_distances(sim_matrix , input_index)\n",
    "\n",
    "    return products"
   ]
  },
  {
   "cell_type": "code",
   "execution_count": 30,
   "id": "508970b6-93f2-4947-a48d-d58d604ddc4d",
   "metadata": {},
   "outputs": [
    {
     "data": {
      "text/plain": [
       "[{'value': 'All Weather Cornhole Bags - Set of 8', 'score': 0.95},\n",
       " {'value': 'American Foxhound Christmas Sticky Note Holder BB8433SN',\n",
       "  'score': 0.95},\n",
       " {'value': '94\" Bottom Width x 96 1/2\" Top Width x 5 1/2\"H x 1 3/4\"P Stockton Crosshead',\n",
       "  'score': 0.94},\n",
       " {'value': 'Business Essentials 8\" x 8\" x 5\" Corrugated Mailers, 12-Pack',\n",
       "  'score': 0.94},\n",
       " {'value': 'Efavormart Pack of 5 Premium 17\" x 17\" Washable Polyester Napkins Great for Wedding Party Restaurant Dinner Parties',\n",
       "  'score': 0.94},\n",
       " {'value': '16 inches 40 inches \"MERRY CHRISTMAS\" Letter Foil Inflated Balloon Float Helium Aluminum Balloons for Christmas Decoration',\n",
       "  'score': 0.94},\n",
       " {'value': 'Ribbon Bazaar Double Faced Satin 2-1/4 inch Leaf Green 25 yards 100% Polyester Ribbon',\n",
       "  'score': 0.94},\n",
       " {'value': 'Buckle-Down Pet Leash - Buffalo Plaid Black Green - 4 Feet Long - 1 2\" Wide',\n",
       "  'score': 0.94},\n",
       " {'value': \"Diamond Clear Jewel Tone 3' Latex Balloon\", 'score': 0.93},\n",
       " {'value': '48\" Rect Resin Table & 6x14\" Chairs - Sand', 'score': 0.93}]"
      ]
     },
     "execution_count": 30,
     "metadata": {},
     "output_type": "execute_result"
    }
   ],
   "source": [
    "# Cosine Similarity \n",
    "get_recommendation_fasttext(product_id, unique_df, similarity = \"cosine\", n=10)"
   ]
  },
  {
   "cell_type": "code",
   "execution_count": 31,
   "id": "a501629e-3297-43fc-a7c5-c2d9985bd70d",
   "metadata": {},
   "outputs": [
    {
     "data": {
      "text/plain": [
       "[{'value': 'Spiral Birthday Candles, 36 Count', 'score': 256.96},\n",
       " {'value': 'Just Artifacts Gold Glitter Letter B', 'score': 275.4},\n",
       " {'value': 'Giant 36in. Purple Balloons (Set of 2)', 'score': 286.76},\n",
       " {'value': '(2-Pack) StealthShields Tablet Screen Protector for Lenovo IdeaPad Yoga 11 (U...',\n",
       "  'score': 292.03},\n",
       " {'value': 'Platinum 5 mm Comfort Fit Half Round Wedding Band - Size 9.5',\n",
       "  'score': 296.64},\n",
       " {'value': 'storefront christmas LED Decoration Light Gold Color Star Shape Vine Wedding Party event',\n",
       "  'score': 311.01},\n",
       " {'value': \"Call of the Wild Howling the Full Moon Women's Racerback Alpha Wolf\",\n",
       "  'score': 311.35},\n",
       " {'value': 'IN-70/65 Blue Paper Streamers 2PK', 'score': 318.63},\n",
       " {'value': 'Ganma Superheroes Ordinary Life Case For Samsung Galaxy Note 5 Hard Case Cover',\n",
       "  'score': 321.6},\n",
       " {'value': \"New Way 075 - Men's Sleeveless Fbi Female Body Inspector\",\n",
       "  'score': 324.14}]"
      ]
     },
     "execution_count": 31,
     "metadata": {},
     "output_type": "execute_result"
    }
   ],
   "source": [
    "# Manhattan Similarity \n",
    "get_recommendation_fasttext(product_id, unique_df, similarity = \"manhattan\", n=10)"
   ]
  },
  {
   "cell_type": "code",
   "execution_count": 32,
   "id": "1571c169-9064-45e1-830c-d5b3f0d7a2b7",
   "metadata": {},
   "outputs": [
    {
     "data": {
      "text/plain": [
       "[{'value': 'Spiral Birthday Candles, 36 Count', 'score': 19.13},\n",
       " {'value': 'Just Artifacts Gold Glitter Letter B', 'score': 19.92},\n",
       " {'value': 'Giant 36in. Purple Balloons (Set of 2)', 'score': 21.02},\n",
       " {'value': '(2-Pack) StealthShields Tablet Screen Protector for Lenovo IdeaPad Yoga 11 (U...',\n",
       "  'score': 22.99},\n",
       " {'value': 'Ganma Superheroes Ordinary Life Case For Samsung Galaxy Note 5 Hard Case Cover',\n",
       "  'score': 23.2},\n",
       " {'value': 'Platinum 5 mm Comfort Fit Half Round Wedding Band - Size 9.5',\n",
       "  'score': 23.21},\n",
       " {'value': 'IN-70/65 Blue Paper Streamers 2PK', 'score': 23.46},\n",
       " {'value': \"New Way 075 - Men's Sleeveless Fbi Female Body Inspector\",\n",
       "  'score': 23.91},\n",
       " {'value': 'Coral Parchment Treat Bags', 'score': 24.03},\n",
       " {'value': '031 - Unisex Long-Sleeve T-Shirt Disobey V For Vendetta Anonymous Fawkes Mask',\n",
       "  'score': 24.23}]"
      ]
     },
     "execution_count": 32,
     "metadata": {},
     "output_type": "execute_result"
    }
   ],
   "source": [
    "# Euclidean Similarity \n",
    "get_recommendation_fasttext(product_id, unique_df, similarity = \"euclidean\", n=10)"
   ]
  },
  {
   "cell_type": "markdown",
   "id": "3e7b9945-857d-435f-b189-be5129578da5",
   "metadata": {},
   "source": [
    "# Glove\n",
    "The advantage of GloVe is that, unlike Word2vec, GloVe does not rely just on local statistics (local context information of words), but incorporates global statistics (word co-occurrence) to obtain word vectors. But keep in mind that there’s quite a bit of synergy between the GloVe and Word2vec."
   ]
  },
  {
   "cell_type": "markdown",
   "id": "f0124894-edf8-4318-92ee-3e8a9d6daa99",
   "metadata": {},
   "source": [
    "<div style=\"text-align:center;\">\n",
    "    <img src='images/gl.png' width='800'>\n",
    "</div>"
   ]
  },
  {
   "cell_type": "code",
   "execution_count": 33,
   "id": "6060d820-625c-4525-a628-010ee428bab0",
   "metadata": {},
   "outputs": [],
   "source": [
    "# Comparing similarity to get the top matches using Glove pretrained model\n",
    "\n",
    "def get_recommendation_glove(product_id, df, similarity, n=10):\n",
    "\n",
    "    row = df.loc[df['Product Name'] == product_id]\n",
    "    input_index = list(row.index)[0]\n",
    "    description = row['desc_lowered'].loc[input_index]\n",
    "\n",
    "    #using glove embeddings to create vectors\n",
    "    vector_matrix = np.empty((len(desc_list), 300))\n",
    "    for index, each_sentence in enumerate(desc_list):\n",
    "        sentence_vector = np.zeros((300,))\n",
    "        count  = 0\n",
    "        for each_word in each_sentence.split():\n",
    "            try:\n",
    "                sentence_vector += glove_model[each_word]\n",
    "                count += 1\n",
    "                \n",
    "            except:\n",
    "                continue\n",
    "        \n",
    "        vector_matrix[index] = sentence_vector\n",
    "    \n",
    "    \n",
    "    if similarity == \"cosine\":\n",
    "        sim_matrix = cosine_similarity(vector_matrix)\n",
    "        products = find_similarity(sim_matrix , input_index)\n",
    "        \n",
    "    elif similarity == \"manhattan\":\n",
    "        sim_matrix = manhattan_distances(vector_matrix)\n",
    "        products = find_manhattan_distance(sim_matrix , input_index)\n",
    "        \n",
    "    else:\n",
    "        sim_matrix = euclidean_distances(vector_matrix)\n",
    "        products = find_euclidean_distances(sim_matrix , input_index)\n",
    "\n",
    "    return products"
   ]
  },
  {
   "cell_type": "code",
   "execution_count": 34,
   "id": "4fa8bf07-f854-4c21-8fa3-e9b8a601e2cc",
   "metadata": {},
   "outputs": [
    {
     "data": {
      "text/plain": [
       "[{'value': 'Red Gift Wrap Bag by K-Kraft (Festive Red Stripes, 13 x 17.5 inches)',\n",
       "  'score': 0.94},\n",
       " {'value': 'Cat Mod Garden Complex - Unfinished/Black', 'score': 0.93},\n",
       " {'value': 'CafePress - FIN Nuts Squirrel - Cute Infant Baby Football Bodysuit',\n",
       "  'score': 0.93},\n",
       " {'value': 'American Foxhound Christmas Sticky Note Holder BB8433SN',\n",
       "  'score': 0.93},\n",
       " {'value': 'CHAIM Street Sign Childrens Name Room Sign | Indoor/Outdoor | \\xa024\" Wide',\n",
       "  'score': 0.93},\n",
       " {'value': '12 Pcs 3D Butterfly Stickers DIY Mural Art Decal Wall Stickers Crafts Wall Paper Decor (Yellow Series)',\n",
       "  'score': 0.93},\n",
       " {'value': 'All Weather Cornhole Bags - Set of 8', 'score': 0.93},\n",
       " {'value': 'Ecclesiastes 8:15 so I commend the enjoymentâ€¦ Vinyl Decal Sticker Quote - Small - Metallic Gold',\n",
       "  'score': 0.93},\n",
       " {'value': 'Fancyleo Christmas Glasses Frames 2 Pack Glittered Eyeglasses Glasses Set No Lens Kids Family Xmas Party Ornaments Gift',\n",
       "  'score': 0.93},\n",
       " {'value': 'Buckle-Down DL-W30350-N Narrow 0.5\" Cassette', 'score': 0.93}]"
      ]
     },
     "execution_count": 34,
     "metadata": {},
     "output_type": "execute_result"
    }
   ],
   "source": [
    "# Cosine Similarity \n",
    "get_recommendation_glove(product_id, unique_df, similarity = \"cosine\", n=10)"
   ]
  },
  {
   "cell_type": "code",
   "execution_count": 35,
   "id": "936136cd-04d1-4e4a-8f63-6ba781c33d21",
   "metadata": {},
   "outputs": [
    {
     "data": {
      "text/plain": [
       "[{'value': 'Spiral Birthday Candles, 36 Count', 'score': 256.96},\n",
       " {'value': 'Just Artifacts Gold Glitter Letter B', 'score': 275.4},\n",
       " {'value': 'Giant 36in. Purple Balloons (Set of 2)', 'score': 286.76},\n",
       " {'value': '(2-Pack) StealthShields Tablet Screen Protector for Lenovo IdeaPad Yoga 11 (U...',\n",
       "  'score': 292.03},\n",
       " {'value': 'Platinum 5 mm Comfort Fit Half Round Wedding Band - Size 9.5',\n",
       "  'score': 296.64},\n",
       " {'value': 'storefront christmas LED Decoration Light Gold Color Star Shape Vine Wedding Party event',\n",
       "  'score': 311.01},\n",
       " {'value': \"Call of the Wild Howling the Full Moon Women's Racerback Alpha Wolf\",\n",
       "  'score': 311.35},\n",
       " {'value': 'IN-70/65 Blue Paper Streamers 2PK', 'score': 318.63},\n",
       " {'value': 'Ganma Superheroes Ordinary Life Case For Samsung Galaxy Note 5 Hard Case Cover',\n",
       "  'score': 321.6},\n",
       " {'value': \"New Way 075 - Men's Sleeveless Fbi Female Body Inspector\",\n",
       "  'score': 324.14}]"
      ]
     },
     "execution_count": 35,
     "metadata": {},
     "output_type": "execute_result"
    }
   ],
   "source": [
    "# Manhattan Similarity \n",
    "get_recommendation_fasttext(product_id, unique_df, similarity = \"manhattan\", n=10)"
   ]
  },
  {
   "cell_type": "code",
   "execution_count": 36,
   "id": "a6da531b-210f-4f4f-8652-9604bbb756e6",
   "metadata": {},
   "outputs": [
    {
     "data": {
      "text/plain": [
       "[{'value': 'Spiral Birthday Candles, 36 Count', 'score': 19.13},\n",
       " {'value': 'Just Artifacts Gold Glitter Letter B', 'score': 19.92},\n",
       " {'value': 'Giant 36in. Purple Balloons (Set of 2)', 'score': 21.02},\n",
       " {'value': '(2-Pack) StealthShields Tablet Screen Protector for Lenovo IdeaPad Yoga 11 (U...',\n",
       "  'score': 22.99},\n",
       " {'value': 'Ganma Superheroes Ordinary Life Case For Samsung Galaxy Note 5 Hard Case Cover',\n",
       "  'score': 23.2},\n",
       " {'value': 'Platinum 5 mm Comfort Fit Half Round Wedding Band - Size 9.5',\n",
       "  'score': 23.21},\n",
       " {'value': 'IN-70/65 Blue Paper Streamers 2PK', 'score': 23.46},\n",
       " {'value': \"New Way 075 - Men's Sleeveless Fbi Female Body Inspector\",\n",
       "  'score': 23.91},\n",
       " {'value': 'Coral Parchment Treat Bags', 'score': 24.03},\n",
       " {'value': '031 - Unisex Long-Sleeve T-Shirt Disobey V For Vendetta Anonymous Fawkes Mask',\n",
       "  'score': 24.23}]"
      ]
     },
     "execution_count": 36,
     "metadata": {},
     "output_type": "execute_result"
    }
   ],
   "source": [
    "# Euclidean Similarity \n",
    "get_recommendation_fasttext(product_id, unique_df, similarity = \"euclidean\", n=10)"
   ]
  },
  {
   "cell_type": "markdown",
   "id": "c6e714c0-f538-4bb9-9d65-92a770d78b2c",
   "metadata": {},
   "source": [
    "# Co-occurrence matrix\n",
    "The purpose of this matrix is to present the number of times each word appears in the same context. .\n",
    "\n",
    "Roses are red. Sky is blue.\n",
    "\n",
    "We'll have the following matrix as below:"
   ]
  },
  {
   "cell_type": "markdown",
   "id": "8a76b4fe-f946-4e0a-b0bc-752a650ac272",
   "metadata": {},
   "source": [
    "<div style=\"text-align:center;\">\n",
    "    <img src='images/cm.png' width='500'>\n",
    "</div>"
   ]
  },
  {
   "cell_type": "code",
   "execution_count": 37,
   "id": "c38bcb9c-9bf7-4334-aa6f-67963f7a548f",
   "metadata": {},
   "outputs": [],
   "source": [
    "# create cooccurence matrix\r\n",
    "\r\n",
    "#preprocessing\r\n",
    "df = df.head(250)\r\n",
    "# Combining Product and Description\r\n",
    "df['Description'] = df['Product Name'] + ' ' +df['Description']\r\n",
    "unique_df = df.drop_duplicates(subset=['Description'], keep='first')\r\n",
    "unique_df['desc_lowered'] = unique_df['Description'].apply(lambda x: x.lower())  \r\n",
    "unique_df['desc_lowered'] = unique_df['desc_lowered'].apply(lambda x: re.sub(r'[^\\w\\s]', '', x))\r\n",
    "desc_list = list(unique_df['desc_lowered'])\r\n",
    "\r\n",
    "co_ocr_vocab = []\r\n",
    "for i in desc_list:\r\n",
    "    [co_ocr_vocab.append(x) for x in i.split()]\r\n",
    "\r\n",
    "co_occur_vector_matrix = np.zeros((len(co_ocr_vocab), len(co_ocr_vocab)))\r\n",
    "\r\n",
    "for _, sent in enumerate(desc_list):\r\n",
    "    words = sent.split()\r\n",
    "    for index, word in enumerate(words):\r\n",
    "        if index != len(words)-1:\r\n",
    "            co_occur_vector_matrix[co_ocr_vocab.index(word)][co_ocr_vocab.index(words[index+1])] += 1"
   ]
  },
  {
   "cell_type": "code",
   "execution_count": 38,
   "id": "56fdfb68-e3e9-4cf4-b692-9ffdbcb82f1c",
   "metadata": {},
   "outputs": [],
   "source": [
    "# Comparing similarity to get the top matches using cooccurence matrix\n",
    "\n",
    "def get_recommendation_coccur(product_id, df, similarity, n=10):\n",
    "\n",
    "    row = df.loc[df['Product Name'] == product_id]\n",
    "    input_index = list(row.index)[0]\n",
    "    description = row['desc_lowered'].loc[input_index]\n",
    "\n",
    "    vector_matrix = np.empty((len(desc_list), len(co_ocr_vocab)))\n",
    "    for index, each_sentence in enumerate(desc_list):  \n",
    "        sentence_vector = np.zeros((len(co_ocr_vocab),))\n",
    "        count  = 0\n",
    "        for each_word in each_sentence.split(): \n",
    "            try:\n",
    "                sentence_vector += co_occur_vector_matrix[co_ocr_vocab.index(each_word)]\n",
    "                count += 1\n",
    "                \n",
    "            except:\n",
    "                continue\n",
    "        \n",
    "        vector_matrix[index] = sentence_vector/count\n",
    "    \n",
    "    \n",
    "    if similarity == \"cosine\":\n",
    "        sim_matrix = cosine_similarity(vector_matrix)\n",
    "        products = find_similarity(sim_matrix , index)\n",
    "        \n",
    "    elif similarity == \"manhattan\":\n",
    "        sim_matrix = manhattan_distances(vector_matrix)\n",
    "        products = find_manhattan_distance(sim_matrix , index)\n",
    "        \n",
    "    else:\n",
    "        sim_matrix = euclidean_distances(vector_matrix)\n",
    "        products = find_euclidean_distances(sim_matrix , index)\n",
    "\n",
    "    return products"
   ]
  },
  {
   "cell_type": "code",
   "execution_count": 39,
   "id": "a293a6e0-611e-4ecf-9fa2-cbb4f23868ce",
   "metadata": {},
   "outputs": [
    {
     "data": {
      "text/plain": [
       "[{'value': 'Medi Comfort Closed Toe Knee Highs -15-20 mmHg Reg',\n",
       "  'score': 0.94},\n",
       " {'value': \"JustVH Women's Solid Henley V-Neck Casual Blouse Pleated Button Tunic Shirt Top\",\n",
       "  'score': 0.94},\n",
       " {'value': 'Toddler Kid Boys Girls Lightweight Breathable Trendy Slip-on Sneaker (6M US Toddler, Red)',\n",
       "  'score': 0.94},\n",
       " {'value': \"Pull-Ups Girls' Learning Designs Training Pants (Choose Pant Size and Count)\",\n",
       "  'score': 0.94},\n",
       " {'value': 'Ebe Reading Glasses Mens Womens Amber Red Oval Round Full Frame Anti Glare grade ckbdp9118',\n",
       "  'score': 0.92},\n",
       " {'value': \"CafePress - Surf's Up! - Men's Light Pajamas\", 'score': 0.91},\n",
       " {'value': 'Sculpey Polymer Clay Just Orange', 'score': 0.91},\n",
       " {'value': 'Ebe Women Reading Glasses Reader Cheaters Anti Reflective Lenses TR90 ry2209',\n",
       "  'score': 0.9},\n",
       " {'value': \"Dr. Comfort Paradise Women's Casual Shoe: 4.5 X-Wide (E-2E) Black Velcro\",\n",
       "  'score': 0.9},\n",
       " {'value': 'Basics - Blank Adult Hoodie Sweatshirt', 'score': 0.89}]"
      ]
     },
     "execution_count": 39,
     "metadata": {},
     "output_type": "execute_result"
    }
   ],
   "source": [
    "# Cosine Similarity \n",
    "get_recommendation_coccur(product_id, unique_df, similarity = \"cosine\", n=10)"
   ]
  },
  {
   "cell_type": "code",
   "execution_count": 40,
   "id": "e1b7f098-3476-4416-be1d-965fc4d26081",
   "metadata": {},
   "outputs": [
    {
     "data": {
      "text/plain": [
       "[{'value': 'Toddler Kid Boys Girls Lightweight Breathable Trendy Slip-on Sneaker (6M US Toddler, Red)',\n",
       "  'score': 30.42},\n",
       " {'value': \"Pull-Ups Girls' Learning Designs Training Pants (Choose Pant Size and Count)\",\n",
       "  'score': 35.64},\n",
       " {'value': 'Medi Comfort Closed Toe Knee Highs -15-20 mmHg Reg',\n",
       "  'score': 36.35},\n",
       " {'value': \"Women's Breeze Walker\", 'score': 39.91},\n",
       " {'value': \"JustVH Women's Solid Henley V-Neck Casual Blouse Pleated Button Tunic Shirt Top\",\n",
       "  'score': 41.3},\n",
       " {'value': 'Box Packaging White Deluxe Literature Mailer, 50/Bundle',\n",
       "  'score': 41.77},\n",
       " {'value': 'Ebe Reading Glasses Mens Womens Amber Red Oval Round Full Frame Anti Glare grade ckbdp9118',\n",
       "  'score': 42.64},\n",
       " {'value': \"Dr. Comfort Paradise Women's Casual Shoe: 4.5 X-Wide (E-2E) Black Velcro\",\n",
       "  'score': 44.48},\n",
       " {'value': \"Casual Nights Women's 2 Piece Floral Robe and Gown Set\",\n",
       "  'score': 47.12},\n",
       " {'value': 'Heavy Duty Handlebar Motorcycle Mount Holder Kit fits Apple iPad 2 3 & 4',\n",
       "  'score': 47.41}]"
      ]
     },
     "execution_count": 40,
     "metadata": {},
     "output_type": "execute_result"
    }
   ],
   "source": [
    "# Manhattan Similarity \n",
    "get_recommendation_coccur(product_id, unique_df, similarity = \"manhattan\", n=10)"
   ]
  },
  {
   "cell_type": "code",
   "execution_count": 41,
   "id": "5d787b06-b829-4132-a22a-ff796ba7f30f",
   "metadata": {},
   "outputs": [
    {
     "data": {
      "text/plain": [
       "[{'value': 'Toddler Kid Boys Girls Lightweight Breathable Trendy Slip-on Sneaker (6M US Toddler, Red)',\n",
       "  'score': 2.17},\n",
       " {'value': \"Pull-Ups Girls' Learning Designs Training Pants (Choose Pant Size and Count)\",\n",
       "  'score': 2.32},\n",
       " {'value': 'Medi Comfort Closed Toe Knee Highs -15-20 mmHg Reg',\n",
       "  'score': 2.35},\n",
       " {'value': \"JustVH Women's Solid Henley V-Neck Casual Blouse Pleated Button Tunic Shirt Top\",\n",
       "  'score': 2.53},\n",
       " {'value': \"Dr. Comfort Paradise Women's Casual Shoe: 4.5 X-Wide (E-2E) Black Velcro\",\n",
       "  'score': 2.73},\n",
       " {'value': 'Box Packaging White Deluxe Literature Mailer, 50/Bundle',\n",
       "  'score': 2.8},\n",
       " {'value': 'Ebe Reading Glasses Mens Womens Amber Red Oval Round Full Frame Anti Glare grade ckbdp9118',\n",
       "  'score': 2.81},\n",
       " {'value': 'Nail DIP Powder, Classic Color Collection, Dipping Acrylic For Any Kit or System by DipWell (CL - 58)',\n",
       "  'score': 2.85},\n",
       " {'value': \"Women's Breeze Walker\", 'score': 2.94},\n",
       " {'value': 'Bare Nature Vitamin Iced Tea - Guava Pineapple, 20 Fl. Oz. Bottles, 12 Ct',\n",
       "  'score': 3.03}]"
      ]
     },
     "execution_count": 41,
     "metadata": {},
     "output_type": "execute_result"
    }
   ],
   "source": [
    "# Euclidean Similarity \n",
    "get_recommendation_coccur(product_id, unique_df, similarity = \"euclidean\", n=10)"
   ]
  }
 ],
 "metadata": {
  "kernelspec": {
   "display_name": "Python 3 (ipykernel)",
   "language": "python",
   "name": "python3"
  },
  "language_info": {
   "codemirror_mode": {
    "name": "ipython",
    "version": 3
   },
   "file_extension": ".py",
   "mimetype": "text/x-python",
   "name": "python",
   "nbconvert_exporter": "python",
   "pygments_lexer": "ipython3",
   "version": "3.11.7"
  }
 },
 "nbformat": 4,
 "nbformat_minor": 5
}
