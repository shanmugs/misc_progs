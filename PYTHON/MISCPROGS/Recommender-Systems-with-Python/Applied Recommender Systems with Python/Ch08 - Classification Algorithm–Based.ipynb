{
 "cells": [
  {
   "cell_type": "markdown",
   "id": "892dd700-69ce-4efd-9e7e-7ab420a0ba23",
   "metadata": {},
   "source": [
    "# Chapter 8 - Classification Algorithm–Based Recommender Systems"
   ]
  },
  {
   "cell_type": "markdown",
   "id": "92969969-1c2d-465d-be0e-fd59f50e2004",
   "metadata": {},
   "source": [
    "<div style=\"text-align:center;\">\n",
    "    <img src='images/Aristotle.png' width='600'>\n",
    "</div>"
   ]
  },
  {
   "cell_type": "markdown",
   "id": "32d0ca4e-fb64-4add-99d5-ac3f639b5eba",
   "metadata": {},
   "source": [
    "A classification algorithm-based recommender system is also known as the *buying propensity model*. The goal here is to predict the propensity of customers to buy a product using historical behavior and purchases.\n",
    "\r\n",
    "The more accurately you predict future purchases, the better recommendation \r",
    "and, in turn, sales. This kind of recommender system is used more often to ensur \r",
    "100% conversion from the users who are likely to purchase with certain probabilities \r",
    "Promotions are offered on those products, enticing users to make a purchase.."
   ]
  },
  {
   "cell_type": "code",
   "execution_count": 1,
   "id": "a183f6aa-f435-4c45-9145-0260ee8a61e6",
   "metadata": {},
   "outputs": [],
   "source": [
    "# Importing libraries\n",
    "\n",
    "import pandas as pd\n",
    "import numpy as np\n",
    "\n",
    "import matplotlib.pyplot as plt\n",
    "import seaborn as sns\n",
    "\n",
    "from IPython.display import Image\n",
    "import os\n",
    "\n",
    "from sklearn import preprocessing\n",
    "from sklearn.model_selection import train_test_split\n",
    "from sklearn.metrics import accuracy_score,confusion_matrix,classification_report\n",
    "from sklearn.linear_model import LogisticRegression\n",
    "from imblearn.combine import SMOTETomek\n",
    "\n",
    "from collections import Counter\n",
    "\n",
    "from sklearn.ensemble import RandomForestClassifier\n",
    "from sklearn.metrics import roc_auc_score, roc_curve\n",
    "from sklearn.neighbors import KNeighborsClassifier\n",
    "from sklearn.metrics import roc_curve, roc_auc_score\n",
    "from sklearn.naive_bayes import GaussianNB\n",
    "from sklearn import tree\n",
    "from sklearn.tree import DecisionTreeClassifier\n",
    "\n",
    "from xgboost import XGBClassifier\n",
    "\n",
    "import warnings\n",
    "warnings.filterwarnings(\"ignore\")"
   ]
  },
  {
   "cell_type": "markdown",
   "id": "ac78f13c-abe9-4998-b17f-43bac1ea6d4b",
   "metadata": {},
   "source": [
    "# Creating the Dataset"
   ]
  },
  {
   "cell_type": "code",
   "execution_count": 2,
   "id": "9087c6df-dc79-4eb1-b0ea-a6b4e51e2db2",
   "metadata": {},
   "outputs": [],
   "source": [
    "#read csv data\n",
    "\n",
    "record_df = pd.read_excel(\"data/Rec_sys_data.xlsx\")\n",
    "customer_df = pd.read_excel(\"data/Rec_sys_data.xlsx\", sheet_name = 'customer')\n",
    "prod_df = pd.read_excel(\"data/Rec_sys_data.xlsx\", sheet_name = 'product')"
   ]
  },
  {
   "cell_type": "code",
   "execution_count": 3,
   "id": "aa0ef4ac-c1b5-4373-82a0-ea6e803f2bc4",
   "metadata": {},
   "outputs": [
    {
     "data": {
      "text/html": [
       "<div>\n",
       "<style scoped>\n",
       "    .dataframe tbody tr th:only-of-type {\n",
       "        vertical-align: middle;\n",
       "    }\n",
       "\n",
       "    .dataframe tbody tr th {\n",
       "        vertical-align: top;\n",
       "    }\n",
       "\n",
       "    .dataframe thead th {\n",
       "        text-align: right;\n",
       "    }\n",
       "</style>\n",
       "<table border=\"1\" class=\"dataframe\">\n",
       "  <thead>\n",
       "    <tr style=\"text-align: right;\">\n",
       "      <th></th>\n",
       "      <th>InvoiceNo</th>\n",
       "      <th>StockCode</th>\n",
       "      <th>Quantity</th>\n",
       "      <th>InvoiceDate</th>\n",
       "      <th>DeliveryDate</th>\n",
       "      <th>Discount%</th>\n",
       "      <th>ShipMode</th>\n",
       "      <th>ShippingCost</th>\n",
       "      <th>CustomerID</th>\n",
       "    </tr>\n",
       "  </thead>\n",
       "  <tbody>\n",
       "    <tr>\n",
       "      <th>0</th>\n",
       "      <td>536365</td>\n",
       "      <td>84029E</td>\n",
       "      <td>6</td>\n",
       "      <td>2010-12-01 08:26:00</td>\n",
       "      <td>2010-12-02 08:26:00</td>\n",
       "      <td>0.20</td>\n",
       "      <td>ExpressAir</td>\n",
       "      <td>30.12</td>\n",
       "      <td>17850</td>\n",
       "    </tr>\n",
       "    <tr>\n",
       "      <th>1</th>\n",
       "      <td>536365</td>\n",
       "      <td>71053</td>\n",
       "      <td>6</td>\n",
       "      <td>2010-12-01 08:26:00</td>\n",
       "      <td>2010-12-02 08:26:00</td>\n",
       "      <td>0.21</td>\n",
       "      <td>ExpressAir</td>\n",
       "      <td>30.12</td>\n",
       "      <td>17850</td>\n",
       "    </tr>\n",
       "    <tr>\n",
       "      <th>2</th>\n",
       "      <td>536365</td>\n",
       "      <td>21730</td>\n",
       "      <td>6</td>\n",
       "      <td>2010-12-01 08:26:00</td>\n",
       "      <td>2010-12-03 08:26:00</td>\n",
       "      <td>0.56</td>\n",
       "      <td>Regular Air</td>\n",
       "      <td>15.22</td>\n",
       "      <td>17850</td>\n",
       "    </tr>\n",
       "    <tr>\n",
       "      <th>3</th>\n",
       "      <td>536365</td>\n",
       "      <td>84406B</td>\n",
       "      <td>8</td>\n",
       "      <td>2010-12-01 08:26:00</td>\n",
       "      <td>2010-12-03 08:26:00</td>\n",
       "      <td>0.30</td>\n",
       "      <td>Regular Air</td>\n",
       "      <td>15.22</td>\n",
       "      <td>17850</td>\n",
       "    </tr>\n",
       "    <tr>\n",
       "      <th>4</th>\n",
       "      <td>536365</td>\n",
       "      <td>22752</td>\n",
       "      <td>2</td>\n",
       "      <td>2010-12-01 08:26:00</td>\n",
       "      <td>2010-12-04 08:26:00</td>\n",
       "      <td>0.57</td>\n",
       "      <td>Delivery Truck</td>\n",
       "      <td>5.81</td>\n",
       "      <td>17850</td>\n",
       "    </tr>\n",
       "  </tbody>\n",
       "</table>\n",
       "</div>"
      ],
      "text/plain": [
       "   InvoiceNo StockCode  Quantity         InvoiceDate        DeliveryDate  \\\n",
       "0     536365    84029E         6 2010-12-01 08:26:00 2010-12-02 08:26:00   \n",
       "1     536365     71053         6 2010-12-01 08:26:00 2010-12-02 08:26:00   \n",
       "2     536365     21730         6 2010-12-01 08:26:00 2010-12-03 08:26:00   \n",
       "3     536365    84406B         8 2010-12-01 08:26:00 2010-12-03 08:26:00   \n",
       "4     536365     22752         2 2010-12-01 08:26:00 2010-12-04 08:26:00   \n",
       "\n",
       "   Discount%        ShipMode  ShippingCost  CustomerID  \n",
       "0       0.20      ExpressAir         30.12       17850  \n",
       "1       0.21      ExpressAir         30.12       17850  \n",
       "2       0.56     Regular Air         15.22       17850  \n",
       "3       0.30     Regular Air         15.22       17850  \n",
       "4       0.57  Delivery Truck          5.81       17850  "
      ]
     },
     "execution_count": 3,
     "metadata": {},
     "output_type": "execute_result"
    }
   ],
   "source": [
    "record_df.head()"
   ]
  },
  {
   "cell_type": "code",
   "execution_count": 4,
   "id": "fb5139fe-1dfc-4f28-a904-20211b6472cb",
   "metadata": {},
   "outputs": [
    {
     "data": {
      "text/html": [
       "<div>\n",
       "<style scoped>\n",
       "    .dataframe tbody tr th:only-of-type {\n",
       "        vertical-align: middle;\n",
       "    }\n",
       "\n",
       "    .dataframe tbody tr th {\n",
       "        vertical-align: top;\n",
       "    }\n",
       "\n",
       "    .dataframe thead th {\n",
       "        text-align: right;\n",
       "    }\n",
       "</style>\n",
       "<table border=\"1\" class=\"dataframe\">\n",
       "  <thead>\n",
       "    <tr style=\"text-align: right;\">\n",
       "      <th></th>\n",
       "      <th>CustomerID</th>\n",
       "      <th>Gender</th>\n",
       "      <th>Age</th>\n",
       "      <th>Income</th>\n",
       "      <th>Zipcode</th>\n",
       "      <th>Customer Segment</th>\n",
       "    </tr>\n",
       "  </thead>\n",
       "  <tbody>\n",
       "    <tr>\n",
       "      <th>0</th>\n",
       "      <td>13089</td>\n",
       "      <td>male</td>\n",
       "      <td>53</td>\n",
       "      <td>High</td>\n",
       "      <td>8625</td>\n",
       "      <td>Small Business</td>\n",
       "    </tr>\n",
       "    <tr>\n",
       "      <th>1</th>\n",
       "      <td>15810</td>\n",
       "      <td>female</td>\n",
       "      <td>22</td>\n",
       "      <td>Low</td>\n",
       "      <td>87797</td>\n",
       "      <td>Small Business</td>\n",
       "    </tr>\n",
       "    <tr>\n",
       "      <th>2</th>\n",
       "      <td>15556</td>\n",
       "      <td>female</td>\n",
       "      <td>29</td>\n",
       "      <td>High</td>\n",
       "      <td>29257</td>\n",
       "      <td>Corporate</td>\n",
       "    </tr>\n",
       "    <tr>\n",
       "      <th>3</th>\n",
       "      <td>13137</td>\n",
       "      <td>male</td>\n",
       "      <td>29</td>\n",
       "      <td>Medium</td>\n",
       "      <td>97818</td>\n",
       "      <td>Middle class</td>\n",
       "    </tr>\n",
       "    <tr>\n",
       "      <th>4</th>\n",
       "      <td>16241</td>\n",
       "      <td>male</td>\n",
       "      <td>36</td>\n",
       "      <td>Low</td>\n",
       "      <td>79200</td>\n",
       "      <td>Small Business</td>\n",
       "    </tr>\n",
       "  </tbody>\n",
       "</table>\n",
       "</div>"
      ],
      "text/plain": [
       "   CustomerID  Gender  Age  Income  Zipcode Customer Segment\n",
       "0       13089    male   53    High     8625   Small Business\n",
       "1       15810  female   22     Low    87797   Small Business\n",
       "2       15556  female   29    High    29257        Corporate\n",
       "3       13137    male   29  Medium    97818     Middle class\n",
       "4       16241    male   36     Low    79200   Small Business"
      ]
     },
     "execution_count": 4,
     "metadata": {},
     "output_type": "execute_result"
    }
   ],
   "source": [
    "customer_df.head()"
   ]
  },
  {
   "cell_type": "code",
   "execution_count": 5,
   "id": "5f34f958-004d-47ef-bc56-a77c96cfdf70",
   "metadata": {},
   "outputs": [
    {
     "data": {
      "text/html": [
       "<div>\n",
       "<style scoped>\n",
       "    .dataframe tbody tr th:only-of-type {\n",
       "        vertical-align: middle;\n",
       "    }\n",
       "\n",
       "    .dataframe tbody tr th {\n",
       "        vertical-align: top;\n",
       "    }\n",
       "\n",
       "    .dataframe thead th {\n",
       "        text-align: right;\n",
       "    }\n",
       "</style>\n",
       "<table border=\"1\" class=\"dataframe\">\n",
       "  <thead>\n",
       "    <tr style=\"text-align: right;\">\n",
       "      <th></th>\n",
       "      <th>StockCode</th>\n",
       "      <th>Product Name</th>\n",
       "      <th>Description</th>\n",
       "      <th>Category</th>\n",
       "      <th>Brand</th>\n",
       "      <th>Unit Price</th>\n",
       "    </tr>\n",
       "  </thead>\n",
       "  <tbody>\n",
       "    <tr>\n",
       "      <th>0</th>\n",
       "      <td>22629</td>\n",
       "      <td>Ganma Superheroes Ordinary Life Case For Samsu...</td>\n",
       "      <td>New unique design, great gift.High quality pla...</td>\n",
       "      <td>Cell Phones|Cellphone Accessories|Cases &amp; Prot...</td>\n",
       "      <td>Ganma</td>\n",
       "      <td>13.99</td>\n",
       "    </tr>\n",
       "    <tr>\n",
       "      <th>1</th>\n",
       "      <td>21238</td>\n",
       "      <td>Eye Buy Express Prescription Glasses Mens Wome...</td>\n",
       "      <td>Rounded rectangular cat-eye reading glasses. T...</td>\n",
       "      <td>Health|Home Health Care|Daily Living Aids</td>\n",
       "      <td>Eye Buy Express</td>\n",
       "      <td>19.22</td>\n",
       "    </tr>\n",
       "    <tr>\n",
       "      <th>2</th>\n",
       "      <td>22181</td>\n",
       "      <td>MightySkins Skin Decal Wrap Compatible with Ni...</td>\n",
       "      <td>Each Nintendo 2DS kit is printed with super-hi...</td>\n",
       "      <td>Video Games|Video Game Accessories|Accessories...</td>\n",
       "      <td>Mightyskins</td>\n",
       "      <td>14.99</td>\n",
       "    </tr>\n",
       "    <tr>\n",
       "      <th>3</th>\n",
       "      <td>84879</td>\n",
       "      <td>Mediven Sheer and Soft 15-20 mmHg Thigh w/ Lac...</td>\n",
       "      <td>The sheerest compression stocking in its class...</td>\n",
       "      <td>Health|Medicine Cabinet|Braces &amp; Supports</td>\n",
       "      <td>Medi</td>\n",
       "      <td>62.38</td>\n",
       "    </tr>\n",
       "    <tr>\n",
       "      <th>4</th>\n",
       "      <td>84836</td>\n",
       "      <td>Stupell Industries Chevron Initial Wall D cor</td>\n",
       "      <td>Features: -Made in the USA. -Sawtooth hanger o...</td>\n",
       "      <td>Home Improvement|Paint|Wall Decals|All Wall De...</td>\n",
       "      <td>Stupell Industries</td>\n",
       "      <td>35.99</td>\n",
       "    </tr>\n",
       "  </tbody>\n",
       "</table>\n",
       "</div>"
      ],
      "text/plain": [
       "  StockCode                                       Product Name  \\\n",
       "0     22629  Ganma Superheroes Ordinary Life Case For Samsu...   \n",
       "1     21238  Eye Buy Express Prescription Glasses Mens Wome...   \n",
       "2     22181  MightySkins Skin Decal Wrap Compatible with Ni...   \n",
       "3     84879  Mediven Sheer and Soft 15-20 mmHg Thigh w/ Lac...   \n",
       "4     84836      Stupell Industries Chevron Initial Wall D cor   \n",
       "\n",
       "                                         Description  \\\n",
       "0  New unique design, great gift.High quality pla...   \n",
       "1  Rounded rectangular cat-eye reading glasses. T...   \n",
       "2  Each Nintendo 2DS kit is printed with super-hi...   \n",
       "3  The sheerest compression stocking in its class...   \n",
       "4  Features: -Made in the USA. -Sawtooth hanger o...   \n",
       "\n",
       "                                            Category               Brand  \\\n",
       "0  Cell Phones|Cellphone Accessories|Cases & Prot...               Ganma   \n",
       "1          Health|Home Health Care|Daily Living Aids     Eye Buy Express   \n",
       "2  Video Games|Video Game Accessories|Accessories...         Mightyskins   \n",
       "3          Health|Medicine Cabinet|Braces & Supports                Medi   \n",
       "4  Home Improvement|Paint|Wall Decals|All Wall De...  Stupell Industries   \n",
       "\n",
       "   Unit Price  \n",
       "0       13.99  \n",
       "1       19.22  \n",
       "2       14.99  \n",
       "3       62.38  \n",
       "4       35.99  "
      ]
     },
     "execution_count": 5,
     "metadata": {},
     "output_type": "execute_result"
    }
   ],
   "source": [
    "prod_df.head()"
   ]
  },
  {
   "cell_type": "markdown",
   "id": "5f59f766-9720-4029-a816-9c01f22ee9e7",
   "metadata": {},
   "source": [
    "# Pre Processing"
   ]
  },
  {
   "cell_type": "code",
   "execution_count": 6,
   "id": "be310915-321e-4c5a-83ad-d12545f6798f",
   "metadata": {},
   "outputs": [
    {
     "name": "stdout",
     "output_type": "stream",
     "text": [
      "(192758, 1)\n"
     ]
    },
    {
     "data": {
      "text/html": [
       "<div>\n",
       "<style scoped>\n",
       "    .dataframe tbody tr th:only-of-type {\n",
       "        vertical-align: middle;\n",
       "    }\n",
       "\n",
       "    .dataframe tbody tr th {\n",
       "        vertical-align: top;\n",
       "    }\n",
       "\n",
       "    .dataframe thead th {\n",
       "        text-align: right;\n",
       "    }\n",
       "</style>\n",
       "<table border=\"1\" class=\"dataframe\">\n",
       "  <thead>\n",
       "    <tr style=\"text-align: right;\">\n",
       "      <th></th>\n",
       "      <th></th>\n",
       "      <th>Quantity</th>\n",
       "    </tr>\n",
       "    <tr>\n",
       "      <th>StockCode</th>\n",
       "      <th>CustomerID</th>\n",
       "      <th></th>\n",
       "    </tr>\n",
       "  </thead>\n",
       "  <tbody>\n",
       "    <tr>\n",
       "      <th rowspan=\"5\" valign=\"top\">10002</th>\n",
       "      <th>12451</th>\n",
       "      <td>12</td>\n",
       "    </tr>\n",
       "    <tr>\n",
       "      <th>12510</th>\n",
       "      <td>24</td>\n",
       "    </tr>\n",
       "    <tr>\n",
       "      <th>12583</th>\n",
       "      <td>48</td>\n",
       "    </tr>\n",
       "    <tr>\n",
       "      <th>12637</th>\n",
       "      <td>12</td>\n",
       "    </tr>\n",
       "    <tr>\n",
       "      <th>12673</th>\n",
       "      <td>1</td>\n",
       "    </tr>\n",
       "  </tbody>\n",
       "</table>\n",
       "</div>"
      ],
      "text/plain": [
       "                      Quantity\n",
       "StockCode CustomerID          \n",
       "10002     12451             12\n",
       "          12510             24\n",
       "          12583             48\n",
       "          12637             12\n",
       "          12673              1"
      ]
     },
     "execution_count": 6,
     "metadata": {},
     "output_type": "execute_result"
    }
   ],
   "source": [
    "# group By Stockcode and CustomerID and sum the Quantity\n",
    "group = pd.DataFrame(record_df.groupby(['StockCode', 'CustomerID']).\n",
    "Quantity.sum())\n",
    "print(group.shape)\n",
    "group.head()"
   ]
  },
  {
   "cell_type": "code",
   "execution_count": 7,
   "id": "40fa5141-b7db-4f4b-8810-13f5b2ae0008",
   "metadata": {},
   "outputs": [
    {
     "name": "stdout",
     "output_type": "stream",
     "text": [
      "InvoiceNo       0\n",
      "StockCode       0\n",
      "Quantity        0\n",
      "InvoiceDate     0\n",
      "DeliveryDate    0\n",
      "Discount%       0\n",
      "ShipMode        0\n",
      "ShippingCost    0\n",
      "CustomerID      0\n",
      "dtype: int64\n",
      "--------------\n",
      "CustomerID          0\n",
      "Gender              0\n",
      "Age                 0\n",
      "Income              0\n",
      "Zipcode             0\n",
      "Customer Segment    0\n",
      "dtype: int64\n"
     ]
    }
   ],
   "source": [
    "#Check for null values\n",
    "print(record_df.isnull().sum())\n",
    "print(\"--------------\")\n",
    "print(customer_df.isnull().sum())"
   ]
  },
  {
   "cell_type": "code",
   "execution_count": 8,
   "id": "f8b2247a-9652-4d8a-9a2d-03158511eb53",
   "metadata": {},
   "outputs": [
    {
     "data": {
      "text/html": [
       "<div>\n",
       "<style scoped>\n",
       "    .dataframe tbody tr th:only-of-type {\n",
       "        vertical-align: middle;\n",
       "    }\n",
       "\n",
       "    .dataframe tbody tr th {\n",
       "        vertical-align: top;\n",
       "    }\n",
       "\n",
       "    .dataframe thead th {\n",
       "        text-align: right;\n",
       "    }\n",
       "</style>\n",
       "<table border=\"1\" class=\"dataframe\">\n",
       "  <thead>\n",
       "    <tr style=\"text-align: right;\">\n",
       "      <th></th>\n",
       "      <th>StockCode</th>\n",
       "      <th>CustomerID</th>\n",
       "    </tr>\n",
       "  </thead>\n",
       "  <tbody>\n",
       "    <tr>\n",
       "      <th>0</th>\n",
       "      <td>21314</td>\n",
       "      <td>18084</td>\n",
       "    </tr>\n",
       "    <tr>\n",
       "      <th>1</th>\n",
       "      <td>21314</td>\n",
       "      <td>16122</td>\n",
       "    </tr>\n",
       "    <tr>\n",
       "      <th>2</th>\n",
       "      <td>21314</td>\n",
       "      <td>13606</td>\n",
       "    </tr>\n",
       "    <tr>\n",
       "      <th>3</th>\n",
       "      <td>21314</td>\n",
       "      <td>16843</td>\n",
       "    </tr>\n",
       "    <tr>\n",
       "      <th>4</th>\n",
       "      <td>21314</td>\n",
       "      <td>18227</td>\n",
       "    </tr>\n",
       "  </tbody>\n",
       "</table>\n",
       "</div>"
      ],
      "text/plain": [
       "  StockCode  CustomerID\n",
       "0     21314       18084\n",
       "1     21314       16122\n",
       "2     21314       13606\n",
       "3     21314       16843\n",
       "4     21314       18227"
      ]
     },
     "execution_count": 8,
     "metadata": {},
     "output_type": "execute_result"
    }
   ],
   "source": [
    "#Loading the CustomerID and StockCode into different variable d1, d2\n",
    "d2 = customer_df['CustomerID']\n",
    "d1 = record_df[\"StockCode\"]\n",
    "\n",
    "# Taking the sample of data and storing into two variables\n",
    "row = d1.sample(n= 900)\n",
    "row1 = d2.sample(n=900)\n",
    "\n",
    "# Cross product of row and row1\n",
    "index = pd.MultiIndex.from_product([row, row1])\n",
    "a = pd.DataFrame(index = index).reset_index()\n",
    "\n",
    "a.head()"
   ]
  },
  {
   "cell_type": "code",
   "execution_count": 9,
   "id": "a89e6559-9306-4238-b590-bb213a95a0a3",
   "metadata": {},
   "outputs": [
    {
     "data": {
      "text/html": [
       "<div>\n",
       "<style scoped>\n",
       "    .dataframe tbody tr th:only-of-type {\n",
       "        vertical-align: middle;\n",
       "    }\n",
       "\n",
       "    .dataframe tbody tr th {\n",
       "        vertical-align: top;\n",
       "    }\n",
       "\n",
       "    .dataframe thead th {\n",
       "        text-align: right;\n",
       "    }\n",
       "</style>\n",
       "<table border=\"1\" class=\"dataframe\">\n",
       "  <thead>\n",
       "    <tr style=\"text-align: right;\">\n",
       "      <th></th>\n",
       "      <th>CustomerID</th>\n",
       "      <th>StockCode</th>\n",
       "      <th>Quantity</th>\n",
       "    </tr>\n",
       "  </thead>\n",
       "  <tbody>\n",
       "    <tr>\n",
       "      <th>0</th>\n",
       "      <td>18084</td>\n",
       "      <td>21314</td>\n",
       "      <td>NaN</td>\n",
       "    </tr>\n",
       "    <tr>\n",
       "      <th>1</th>\n",
       "      <td>16122</td>\n",
       "      <td>21314</td>\n",
       "      <td>NaN</td>\n",
       "    </tr>\n",
       "    <tr>\n",
       "      <th>2</th>\n",
       "      <td>13606</td>\n",
       "      <td>21314</td>\n",
       "      <td>NaN</td>\n",
       "    </tr>\n",
       "    <tr>\n",
       "      <th>3</th>\n",
       "      <td>16843</td>\n",
       "      <td>21314</td>\n",
       "      <td>NaN</td>\n",
       "    </tr>\n",
       "    <tr>\n",
       "      <th>4</th>\n",
       "      <td>18227</td>\n",
       "      <td>21314</td>\n",
       "      <td>NaN</td>\n",
       "    </tr>\n",
       "  </tbody>\n",
       "</table>\n",
       "</div>"
      ],
      "text/plain": [
       "   CustomerID StockCode  Quantity\n",
       "0       18084     21314       NaN\n",
       "1       16122     21314       NaN\n",
       "2       13606     21314       NaN\n",
       "3       16843     21314       NaN\n",
       "4       18227     21314       NaN"
      ]
     },
     "execution_count": 9,
     "metadata": {},
     "output_type": "execute_result"
    }
   ],
   "source": [
    "#merge customerID and StockCode\n",
    "data = pd.merge(group,a, on = ['CustomerID', 'StockCode'], how = 'right')\n",
    "\n",
    "data.head()"
   ]
  },
  {
   "cell_type": "markdown",
   "id": "316e2478-ebb9-44f7-921d-272442f52059",
   "metadata": {},
   "source": [
    "As you can see, null values are present in the Quantity column. Let’s check for nulls."
   ]
  },
  {
   "cell_type": "code",
   "execution_count": 10,
   "id": "73259e1c-d02f-45b1-bbc4-b26aff60560c",
   "metadata": {},
   "outputs": [
    {
     "name": "stdout",
     "output_type": "stream",
     "text": [
      "780415\n",
      "(810000, 3)\n"
     ]
    }
   ],
   "source": [
    "#check total number of null values in quantity column\n",
    "print(data['Quantity'].isnull().sum())\n",
    "\n",
    "# check the shape of data that is number of rows and columns\n",
    "print(data.shape)"
   ]
  },
  {
   "cell_type": "code",
   "execution_count": 11,
   "id": "24dfc5f9-1819-433a-8ce0-6061bd879257",
   "metadata": {},
   "outputs": [
    {
     "name": "stdout",
     "output_type": "stream",
     "text": [
      "[   0    8   24   16    5    4   10   56    1   12   20    2    3    6\n",
      "    7   11   23   26   40    9   18   76   48   31  120  192   66   36\n",
      " 1197  138   42   60   14  710  110 2400   15   30   28   50   70   21\n",
      "  700  240   96   22   51   83  300   49  716  400   72   27   13  124\n",
      "  936   25 5000  276  144 1008  160   53  108   58  720   90   19  350\n",
      "   32  200  100  216   84  288  168   94  401  800  201 2100  151  601\n",
      "  241   17  312   35  250 1200  204  600  336   52 1320  112  156  576\n",
      "   59  205 1584 2304 2916 1001   29 1680 1368   41  801  500   34   45\n",
      "  225  150  864 1056   77   89  432   39  360   61  128  272  732  304\n",
      "  172   62  750  902  154  116   44  320   57 1100  220  101  140  114\n",
      "  425   97  286  143 1968  210 2800   43  111 4452   80  104   64  152\n",
      "  456  264  768  409   71   33 3456  896   46   68  640 1500  410 3900\n",
      "   95  624   82  147 1000  145  840  301   38   91  776  257  386  480\n",
      "  252 1296  630 2600 1400  375  190  119   47   73  248  588 1440 1464\n",
      " 3984  125  501   37  193  672   54 2496  701  169  384  648  132  528\n",
      "  420  180  126  123   78  513  385  256   75   81  348  467 1344 1152\n",
      "  130   85 1104  505 1248  129  960  178  820  270  900  289  372  121\n",
      "  167  457  310  978  632 1700   86  102  787 1080  324  217 4320  133\n",
      "  105  296 4800   55  174  416  680  411  196  504  228  769  482]\n"
     ]
    }
   ],
   "source": [
    "# replacing nan values with 0\n",
    "data['Quantity'] = data['Quantity'].replace(np.nan, 0).astype(int)\n",
    "\n",
    "# Check all unique value of quantity column\n",
    "print(data['Quantity'].unique())"
   ]
  },
  {
   "cell_type": "code",
   "execution_count": 12,
   "id": "214dfe5e-ac3b-431f-a074-ceb090a39fc4",
   "metadata": {},
   "outputs": [
    {
     "data": {
      "text/html": [
       "<div>\n",
       "<style scoped>\n",
       "    .dataframe tbody tr th:only-of-type {\n",
       "        vertical-align: middle;\n",
       "    }\n",
       "\n",
       "    .dataframe tbody tr th {\n",
       "        vertical-align: top;\n",
       "    }\n",
       "\n",
       "    .dataframe thead th {\n",
       "        text-align: right;\n",
       "    }\n",
       "</style>\n",
       "<table border=\"1\" class=\"dataframe\">\n",
       "  <thead>\n",
       "    <tr style=\"text-align: right;\">\n",
       "      <th></th>\n",
       "      <th>StockCode</th>\n",
       "      <th>Category</th>\n",
       "      <th>Brand</th>\n",
       "      <th>Unit Price</th>\n",
       "    </tr>\n",
       "  </thead>\n",
       "  <tbody>\n",
       "    <tr>\n",
       "      <th>0</th>\n",
       "      <td>22629</td>\n",
       "      <td>Cell Phones|Cellphone Accessories|Cases &amp; Prot...</td>\n",
       "      <td>Ganma</td>\n",
       "      <td>13.99</td>\n",
       "    </tr>\n",
       "    <tr>\n",
       "      <th>1</th>\n",
       "      <td>21238</td>\n",
       "      <td>Health|Home Health Care|Daily Living Aids</td>\n",
       "      <td>Eye Buy Express</td>\n",
       "      <td>19.22</td>\n",
       "    </tr>\n",
       "    <tr>\n",
       "      <th>2</th>\n",
       "      <td>22181</td>\n",
       "      <td>Video Games|Video Game Accessories|Accessories...</td>\n",
       "      <td>Mightyskins</td>\n",
       "      <td>14.99</td>\n",
       "    </tr>\n",
       "    <tr>\n",
       "      <th>3</th>\n",
       "      <td>84879</td>\n",
       "      <td>Health|Medicine Cabinet|Braces &amp; Supports</td>\n",
       "      <td>Medi</td>\n",
       "      <td>62.38</td>\n",
       "    </tr>\n",
       "    <tr>\n",
       "      <th>4</th>\n",
       "      <td>84836</td>\n",
       "      <td>Home Improvement|Paint|Wall Decals|All Wall De...</td>\n",
       "      <td>Stupell Industries</td>\n",
       "      <td>35.99</td>\n",
       "    </tr>\n",
       "  </tbody>\n",
       "</table>\n",
       "</div>"
      ],
      "text/plain": [
       "  StockCode                                           Category  \\\n",
       "0     22629  Cell Phones|Cellphone Accessories|Cases & Prot...   \n",
       "1     21238          Health|Home Health Care|Daily Living Aids   \n",
       "2     22181  Video Games|Video Game Accessories|Accessories...   \n",
       "3     84879          Health|Medicine Cabinet|Braces & Supports   \n",
       "4     84836  Home Improvement|Paint|Wall Decals|All Wall De...   \n",
       "\n",
       "                Brand  Unit Price  \n",
       "0               Ganma       13.99  \n",
       "1     Eye Buy Express       19.22  \n",
       "2         Mightyskins       14.99  \n",
       "3                Medi       62.38  \n",
       "4  Stupell Industries       35.99  "
      ]
     },
     "execution_count": 12,
     "metadata": {},
     "output_type": "execute_result"
    }
   ],
   "source": [
    "# drop product name and description column\n",
    "product_data = prod_df.drop(['Product Name', 'Description'], axis = 1)\n",
    "product_data['Category'].str.split('::').str[0]\n",
    "\n",
    "product_data.head()"
   ]
  },
  {
   "cell_type": "code",
   "execution_count": 13,
   "id": "8c4ef87d-89f4-4818-836a-94180d56a011",
   "metadata": {},
   "outputs": [
    {
     "name": "stdout",
     "output_type": "stream",
     "text": [
      "(29912, 4)\n"
     ]
    },
    {
     "data": {
      "text/html": [
       "<div>\n",
       "<style scoped>\n",
       "    .dataframe tbody tr th:only-of-type {\n",
       "        vertical-align: middle;\n",
       "    }\n",
       "\n",
       "    .dataframe tbody tr th {\n",
       "        vertical-align: top;\n",
       "    }\n",
       "\n",
       "    .dataframe thead th {\n",
       "        text-align: right;\n",
       "    }\n",
       "</style>\n",
       "<table border=\"1\" class=\"dataframe\">\n",
       "  <thead>\n",
       "    <tr style=\"text-align: right;\">\n",
       "      <th></th>\n",
       "      <th>StockCode</th>\n",
       "      <th>Brand</th>\n",
       "      <th>Unit Price</th>\n",
       "      <th>Category</th>\n",
       "    </tr>\n",
       "  </thead>\n",
       "  <tbody>\n",
       "    <tr>\n",
       "      <th>0</th>\n",
       "      <td>22629</td>\n",
       "      <td>Ganma</td>\n",
       "      <td>13.99</td>\n",
       "      <td>Cell</td>\n",
       "    </tr>\n",
       "    <tr>\n",
       "      <th>1</th>\n",
       "      <td>21238</td>\n",
       "      <td>Eye Buy Express</td>\n",
       "      <td>19.22</td>\n",
       "      <td>Health</td>\n",
       "    </tr>\n",
       "    <tr>\n",
       "      <th>2</th>\n",
       "      <td>22181</td>\n",
       "      <td>Mightyskins</td>\n",
       "      <td>14.99</td>\n",
       "      <td>Video</td>\n",
       "    </tr>\n",
       "    <tr>\n",
       "      <th>3</th>\n",
       "      <td>84879</td>\n",
       "      <td>Medi</td>\n",
       "      <td>62.38</td>\n",
       "      <td>Health</td>\n",
       "    </tr>\n",
       "    <tr>\n",
       "      <th>4</th>\n",
       "      <td>84836</td>\n",
       "      <td>Stupell Industries</td>\n",
       "      <td>35.99</td>\n",
       "      <td>Home</td>\n",
       "    </tr>\n",
       "  </tbody>\n",
       "</table>\n",
       "</div>"
      ],
      "text/plain": [
       "  StockCode               Brand  Unit Price Category\n",
       "0     22629               Ganma       13.99     Cell\n",
       "1     21238     Eye Buy Express       19.22   Health\n",
       "2     22181         Mightyskins       14.99    Video\n",
       "3     84879                Medi       62.38   Health\n",
       "4     84836  Stupell Industries       35.99     Home"
      ]
     },
     "execution_count": 13,
     "metadata": {},
     "output_type": "execute_result"
    }
   ],
   "source": [
    "# extract the first string category column\n",
    "cate = product_data['Category'].str.extract(r\"(\\w+)\", expand=True)\n",
    "\n",
    "# join cat column with original dataset\n",
    "df2 = product_data.join(cate, lsuffix=\"_left\")\n",
    "df2.drop(['Category'], axis = 1, inplace = True)\n",
    "\n",
    "# rename column to Category\n",
    "df2 = df2.rename(columns = {0: 'Category'})\n",
    "print(df2.shape)\n",
    "\n",
    "df2.head()"
   ]
  },
  {
   "cell_type": "code",
   "execution_count": 14,
   "id": "28d6505b-1f47-4183-9296-51f10d750378",
   "metadata": {},
   "outputs": [
    {
     "data": {
      "text/plain": [
       "StockCode     25954\n",
       "Brand          1129\n",
       "Unit Price      118\n",
       "Category        792\n",
       "dtype: int64"
      ]
     },
     "execution_count": 14,
     "metadata": {},
     "output_type": "execute_result"
    }
   ],
   "source": [
    "#check for null values and drop it\n",
    "df2.isnull().sum()"
   ]
  },
  {
   "cell_type": "code",
   "execution_count": 15,
   "id": "cdb43057-d9ea-45b0-8248-48e7f0e88cfb",
   "metadata": {},
   "outputs": [
    {
     "data": {
      "text/plain": [
       "StockCode     0\n",
       "Brand         0\n",
       "Unit Price    0\n",
       "Category      0\n",
       "dtype: int64"
      ]
     },
     "execution_count": 15,
     "metadata": {},
     "output_type": "execute_result"
    }
   ],
   "source": [
    "df2.dropna(inplace = True)\n",
    "df2.isnull().sum()"
   ]
  },
  {
   "cell_type": "code",
   "execution_count": 16,
   "id": "9270d2c1-0b15-4266-864c-33f16f1d99db",
   "metadata": {},
   "outputs": [],
   "source": [
    "## save to csv file\n",
    "df2.to_csv(\"data/Products.csv\")"
   ]
  },
  {
   "cell_type": "code",
   "execution_count": 17,
   "id": "151d063c-1bbf-4bf6-89ca-fe15dfc391df",
   "metadata": {},
   "outputs": [
    {
     "data": {
      "text/html": [
       "<div>\n",
       "<style scoped>\n",
       "    .dataframe tbody tr th:only-of-type {\n",
       "        vertical-align: middle;\n",
       "    }\n",
       "\n",
       "    .dataframe tbody tr th {\n",
       "        vertical-align: top;\n",
       "    }\n",
       "\n",
       "    .dataframe thead th {\n",
       "        text-align: right;\n",
       "    }\n",
       "</style>\n",
       "<table border=\"1\" class=\"dataframe\">\n",
       "  <thead>\n",
       "    <tr style=\"text-align: right;\">\n",
       "      <th></th>\n",
       "      <th>Unnamed: 0</th>\n",
       "      <th>StockCode</th>\n",
       "      <th>Brand</th>\n",
       "      <th>Unit Price</th>\n",
       "      <th>Category</th>\n",
       "    </tr>\n",
       "  </thead>\n",
       "  <tbody>\n",
       "    <tr>\n",
       "      <th>0</th>\n",
       "      <td>0</td>\n",
       "      <td>22629</td>\n",
       "      <td>Ganma</td>\n",
       "      <td>13.99</td>\n",
       "      <td>Cell</td>\n",
       "    </tr>\n",
       "    <tr>\n",
       "      <th>1</th>\n",
       "      <td>1</td>\n",
       "      <td>21238</td>\n",
       "      <td>Eye Buy Express</td>\n",
       "      <td>19.22</td>\n",
       "      <td>Health</td>\n",
       "    </tr>\n",
       "    <tr>\n",
       "      <th>2</th>\n",
       "      <td>2</td>\n",
       "      <td>22181</td>\n",
       "      <td>Mightyskins</td>\n",
       "      <td>14.99</td>\n",
       "      <td>Video</td>\n",
       "    </tr>\n",
       "    <tr>\n",
       "      <th>3</th>\n",
       "      <td>3</td>\n",
       "      <td>84879</td>\n",
       "      <td>Medi</td>\n",
       "      <td>62.38</td>\n",
       "      <td>Health</td>\n",
       "    </tr>\n",
       "    <tr>\n",
       "      <th>4</th>\n",
       "      <td>4</td>\n",
       "      <td>84836</td>\n",
       "      <td>Stupell Industries</td>\n",
       "      <td>35.99</td>\n",
       "      <td>Home</td>\n",
       "    </tr>\n",
       "  </tbody>\n",
       "</table>\n",
       "</div>"
      ],
      "text/plain": [
       "   Unnamed: 0 StockCode               Brand  Unit Price Category\n",
       "0           0     22629               Ganma       13.99     Cell\n",
       "1           1     21238     Eye Buy Express       19.22   Health\n",
       "2           2     22181         Mightyskins       14.99    Video\n",
       "3           3     84879                Medi       62.38   Health\n",
       "4           4     84836  Stupell Industries       35.99     Home"
      ]
     },
     "execution_count": 17,
     "metadata": {},
     "output_type": "execute_result"
    }
   ],
   "source": [
    "# Load product dataset\n",
    "product = pd.read_csv(\"data/Products.csv\")\n",
    "\n",
    "product.head()"
   ]
  },
  {
   "cell_type": "code",
   "execution_count": 18,
   "id": "e5d7998a-11a7-47ae-a015-b459fe36e579",
   "metadata": {},
   "outputs": [
    {
     "data": {
      "text/html": [
       "<div>\n",
       "<style scoped>\n",
       "    .dataframe tbody tr th:only-of-type {\n",
       "        vertical-align: middle;\n",
       "    }\n",
       "\n",
       "    .dataframe tbody tr th {\n",
       "        vertical-align: top;\n",
       "    }\n",
       "\n",
       "    .dataframe thead th {\n",
       "        text-align: right;\n",
       "    }\n",
       "</style>\n",
       "<table border=\"1\" class=\"dataframe\">\n",
       "  <thead>\n",
       "    <tr style=\"text-align: right;\">\n",
       "      <th></th>\n",
       "      <th>CustomerID</th>\n",
       "      <th>Gender</th>\n",
       "      <th>Age</th>\n",
       "      <th>Income</th>\n",
       "      <th>Customer Segment</th>\n",
       "      <th>StockCode</th>\n",
       "      <th>Quantity</th>\n",
       "      <th>Brand</th>\n",
       "      <th>Unit Price</th>\n",
       "      <th>Category</th>\n",
       "    </tr>\n",
       "  </thead>\n",
       "  <tbody>\n",
       "    <tr>\n",
       "      <th>0</th>\n",
       "      <td>14646</td>\n",
       "      <td>male</td>\n",
       "      <td>45</td>\n",
       "      <td>Medium</td>\n",
       "      <td>Corporate</td>\n",
       "      <td>15056N</td>\n",
       "      <td>0</td>\n",
       "      <td>PeanutsÃƒâ€šÃ‚</td>\n",
       "      <td>9999.99</td>\n",
       "      <td>Home</td>\n",
       "    </tr>\n",
       "    <tr>\n",
       "      <th>1</th>\n",
       "      <td>14646</td>\n",
       "      <td>male</td>\n",
       "      <td>45</td>\n",
       "      <td>Medium</td>\n",
       "      <td>Corporate</td>\n",
       "      <td>15056N</td>\n",
       "      <td>0</td>\n",
       "      <td>PeanutsÃƒâ€šÃ‚</td>\n",
       "      <td>9999.99</td>\n",
       "      <td>Home</td>\n",
       "    </tr>\n",
       "    <tr>\n",
       "      <th>2</th>\n",
       "      <td>14646</td>\n",
       "      <td>male</td>\n",
       "      <td>45</td>\n",
       "      <td>Medium</td>\n",
       "      <td>Corporate</td>\n",
       "      <td>15056N</td>\n",
       "      <td>0</td>\n",
       "      <td>PeanutsÃƒâ€šÃ‚</td>\n",
       "      <td>9999.99</td>\n",
       "      <td>Home</td>\n",
       "    </tr>\n",
       "    <tr>\n",
       "      <th>3</th>\n",
       "      <td>14646</td>\n",
       "      <td>male</td>\n",
       "      <td>45</td>\n",
       "      <td>Medium</td>\n",
       "      <td>Corporate</td>\n",
       "      <td>47590B</td>\n",
       "      <td>0</td>\n",
       "      <td>Mightyskins</td>\n",
       "      <td>29.99</td>\n",
       "      <td>Sports</td>\n",
       "    </tr>\n",
       "    <tr>\n",
       "      <th>4</th>\n",
       "      <td>14646</td>\n",
       "      <td>male</td>\n",
       "      <td>45</td>\n",
       "      <td>Medium</td>\n",
       "      <td>Corporate</td>\n",
       "      <td>85028S</td>\n",
       "      <td>0</td>\n",
       "      <td>Mightyskins</td>\n",
       "      <td>14.99</td>\n",
       "      <td>Video</td>\n",
       "    </tr>\n",
       "  </tbody>\n",
       "</table>\n",
       "</div>"
      ],
      "text/plain": [
       "   CustomerID Gender  Age  Income Customer Segment StockCode  Quantity  \\\n",
       "0       14646   male   45  Medium        Corporate    15056N         0   \n",
       "1       14646   male   45  Medium        Corporate    15056N         0   \n",
       "2       14646   male   45  Medium        Corporate    15056N         0   \n",
       "3       14646   male   45  Medium        Corporate    47590B         0   \n",
       "4       14646   male   45  Medium        Corporate    85028S         0   \n",
       "\n",
       "            Brand  Unit Price Category  \n",
       "0  PeanutsÃƒâ€šÃ‚     9999.99     Home  \n",
       "1  PeanutsÃƒâ€šÃ‚     9999.99     Home  \n",
       "2  PeanutsÃƒâ€šÃ‚     9999.99     Home  \n",
       "3     Mightyskins       29.99   Sports  \n",
       "4     Mightyskins       14.99    Video  "
      ]
     },
     "execution_count": 18,
     "metadata": {},
     "output_type": "execute_result"
    }
   ],
   "source": [
    "## Merge data and product dataset\n",
    "final_data = pd.merge(data, product, on= 'StockCode')\n",
    "\n",
    "# create final dataset by merging customer & final data\n",
    "final_data1 = pd.merge(customer_df, final_data, on = 'CustomerID')\n",
    "\n",
    "# Drop Unnamed and zipcode column\n",
    "final_data1.drop(['Unnamed: 0', 'Zipcode'], axis = 1, inplace = True)\n",
    "\n",
    "final_data1.head()"
   ]
  },
  {
   "cell_type": "code",
   "execution_count": 19,
   "id": "92d6bd0e-b720-4494-a031-82e403aaa8ca",
   "metadata": {},
   "outputs": [
    {
     "name": "stdout",
     "output_type": "stream",
     "text": [
      "(74700, 10)\n"
     ]
    }
   ],
   "source": [
    "print(final_data1.shape)"
   ]
  },
  {
   "cell_type": "code",
   "execution_count": 20,
   "id": "7ac9c372-bf62-4be8-928e-93da0c962d2d",
   "metadata": {},
   "outputs": [
    {
     "data": {
      "text/plain": [
       "CustomerID          0\n",
       "Gender              0\n",
       "Age                 0\n",
       "Income              0\n",
       "Customer Segment    0\n",
       "StockCode           0\n",
       "Quantity            0\n",
       "Brand               0\n",
       "Unit Price          0\n",
       "Category            0\n",
       "dtype: int64"
      ]
     },
     "execution_count": 20,
     "metadata": {},
     "output_type": "execute_result"
    }
   ],
   "source": [
    "# Check for null values in each columns\n",
    "final_data1.isnull().sum()"
   ]
  },
  {
   "cell_type": "code",
   "execution_count": 21,
   "id": "2ad9a49b-179f-411e-aeb3-b2dd12c53dd4",
   "metadata": {},
   "outputs": [
    {
     "name": "stdout",
     "output_type": "stream",
     "text": [
      "['Home' 'Sports' 'Video' 'Jewelry' 'Health' 'Beauty' 'Cell' 'Clothing'\n",
      " 'Auto' 'Electronics' 'Party' 'Shop' 'Household' 'Office' 'Pets']\n",
      "------------\n",
      "\n",
      "['Medium' 'Low' 'High']\n",
      "------------\n",
      "\n",
      "['PeanutsÃƒâ€šÃ‚' 'Mightyskins' 'Duda Energy' 'MusicBoxAttic'\n",
      " 'Eye Buy Express' 'Tom Ford' 'Prop?t' 'Mega Cap' 'Medi' 'City Shirts'\n",
      " 'PlushDeluxe' 'Awkward Styles' 'Fun Express' 'Unique Bargains'\n",
      " 'Stupell Industries' 'Dr. Comfort' 'CHOSEN SUPPLIES' 'Port & Company'\n",
      " 'Sony' 'Envelopes.com' 'Wrangler' 'POLI Bright' 'Superb Choice'\n",
      " 'Buckle-Down' 'Style and Apply' 'WorldJewels' 'MLS' 'Mediven'\n",
      " 'Physicians Formula' 'New Way' 'CafePress' 'Da-Lite' 'AARCO']\n",
      "------------\n",
      "\n",
      "['Corporate' 'Small Business' 'Middle class']\n",
      "------------\n",
      "\n",
      "['male' 'female']\n",
      "------------\n",
      "\n",
      "[   0  432  500  144 1500  100  288   44   50    1    7    5   26   10\n",
      "    3    2   81    6    8   12   29   17   73   16   13   24    4   20\n",
      "   22   35   66   11  201   96  400  120  140   56   60   28    9   25\n",
      "   36   51  147   30   42   18   15  250 1200  248   23   27  104   14\n",
      "  210  410   48   43   40   72   70   95   32   53  110   19   38  300\n",
      "  240 2800 3900 1000  588  108   21   39   37  101   83  167  216  180]\n"
     ]
    }
   ],
   "source": [
    "#Check for unique value in each categorical columns\n",
    "print(final_data1['Category'].unique())\n",
    "print('------------\\n')\n",
    "print(final_data1['Income'].unique())\n",
    "print('------------\\n')\n",
    "print(final_data1['Brand'].unique())\n",
    "print('------------\\n')\n",
    "print(final_data1['Customer Segment'].unique())\n",
    "print('------------\\n')\n",
    "print(final_data1['Gender'].unique())\n",
    "print('------------\\n')\n",
    "print(final_data1['Quantity'].unique())"
   ]
  },
  {
   "cell_type": "code",
   "execution_count": 22,
   "id": "a1f53285-674e-4789-9720-10f4617ac3d1",
   "metadata": {},
   "outputs": [
    {
     "name": "stdout",
     "output_type": "stream",
     "text": [
      "['PeanutsÃƒâ€šÃ‚' 'Mightyskins' 'Duda Energy' 'MusicBoxAttic'\n",
      " 'Eye Buy Express' 'Tom Ford' 'Propt' 'Mega Cap' 'Medi' 'City Shirts'\n",
      " 'PlushDeluxe' 'Awkward Styles' 'Fun Express' 'Unique Bargains'\n",
      " 'Stupell Industries' 'Dr. Comfort' 'CHOSEN SUPPLIES' 'Port and Company'\n",
      " 'Sony' 'Envelopes.com' 'Wrangler' 'POLI Bright' 'Superb Choice'\n",
      " 'Buckle-Down' 'Style and Apply' 'WorldJewels' 'MLS' 'Mediven'\n",
      " 'Physicians Formula' 'New Way' 'CafePress' 'Da-Lite' 'AARCO']\n"
     ]
    }
   ],
   "source": [
    "# test cleaning\n",
    "final_data1['Brand'] = final_data1['Brand'].str.replace('?', '')\n",
    "final_data1['Brand'] = final_data1['Brand'].str.replace('&', 'and')\n",
    "final_data1['Brand'] = final_data1['Brand'].str.replace('(', '')\n",
    "final_data1['Brand'] = final_data1['Brand'].str.replace(')', '')\n",
    "\n",
    "print(final_data1['Brand'].unique())"
   ]
  },
  {
   "cell_type": "markdown",
   "id": "228568a9-f312-41dc-9980-d89e0877d705",
   "metadata": {},
   "source": [
    "# Feature Engineering"
   ]
  },
  {
   "cell_type": "markdown",
   "id": "604c7318-b106-497c-a12c-00d3d93538d7",
   "metadata": {},
   "source": [
    "Let’s create a flag column, using the Quantity column, that indicates whether the customer has bought the product or not.\n",
    "If the Quantity column is 0, the customer has not bought the product."
   ]
  },
  {
   "cell_type": "code",
   "execution_count": 23,
   "id": "3a47e4d0-e9fe-490f-b96d-1d375800c297",
   "metadata": {},
   "outputs": [
    {
     "data": {
      "text/html": [
       "<div>\n",
       "<style scoped>\n",
       "    .dataframe tbody tr th:only-of-type {\n",
       "        vertical-align: middle;\n",
       "    }\n",
       "\n",
       "    .dataframe tbody tr th {\n",
       "        vertical-align: top;\n",
       "    }\n",
       "\n",
       "    .dataframe thead th {\n",
       "        text-align: right;\n",
       "    }\n",
       "</style>\n",
       "<table border=\"1\" class=\"dataframe\">\n",
       "  <thead>\n",
       "    <tr style=\"text-align: right;\">\n",
       "      <th></th>\n",
       "      <th>CustomerID</th>\n",
       "      <th>Gender</th>\n",
       "      <th>Age</th>\n",
       "      <th>Income</th>\n",
       "      <th>Customer Segment</th>\n",
       "      <th>StockCode</th>\n",
       "      <th>Quantity</th>\n",
       "      <th>Brand</th>\n",
       "      <th>Unit Price</th>\n",
       "      <th>Category</th>\n",
       "      <th>flag_buy</th>\n",
       "    </tr>\n",
       "  </thead>\n",
       "  <tbody>\n",
       "    <tr>\n",
       "      <th>74695</th>\n",
       "      <td>15562</td>\n",
       "      <td>male</td>\n",
       "      <td>37</td>\n",
       "      <td>Medium</td>\n",
       "      <td>Middle class</td>\n",
       "      <td>85040A</td>\n",
       "      <td>0</td>\n",
       "      <td>Mightyskins</td>\n",
       "      <td>11.99</td>\n",
       "      <td>Electronics</td>\n",
       "      <td>0</td>\n",
       "    </tr>\n",
       "    <tr>\n",
       "      <th>74696</th>\n",
       "      <td>15562</td>\n",
       "      <td>male</td>\n",
       "      <td>37</td>\n",
       "      <td>Medium</td>\n",
       "      <td>Middle class</td>\n",
       "      <td>84968E</td>\n",
       "      <td>0</td>\n",
       "      <td>Eye Buy Express</td>\n",
       "      <td>27.99</td>\n",
       "      <td>Health</td>\n",
       "      <td>0</td>\n",
       "    </tr>\n",
       "    <tr>\n",
       "      <th>74697</th>\n",
       "      <td>15562</td>\n",
       "      <td>male</td>\n",
       "      <td>37</td>\n",
       "      <td>Medium</td>\n",
       "      <td>Middle class</td>\n",
       "      <td>90200E</td>\n",
       "      <td>0</td>\n",
       "      <td>Da-Lite</td>\n",
       "      <td>2730.40</td>\n",
       "      <td>Office</td>\n",
       "      <td>0</td>\n",
       "    </tr>\n",
       "    <tr>\n",
       "      <th>74698</th>\n",
       "      <td>15562</td>\n",
       "      <td>male</td>\n",
       "      <td>37</td>\n",
       "      <td>Medium</td>\n",
       "      <td>Middle class</td>\n",
       "      <td>51014A</td>\n",
       "      <td>0</td>\n",
       "      <td>CafePress</td>\n",
       "      <td>24.99</td>\n",
       "      <td>Clothing</td>\n",
       "      <td>0</td>\n",
       "    </tr>\n",
       "    <tr>\n",
       "      <th>74699</th>\n",
       "      <td>15562</td>\n",
       "      <td>male</td>\n",
       "      <td>37</td>\n",
       "      <td>Medium</td>\n",
       "      <td>Middle class</td>\n",
       "      <td>82494L</td>\n",
       "      <td>0</td>\n",
       "      <td>AARCO</td>\n",
       "      <td>512.92</td>\n",
       "      <td>Office</td>\n",
       "      <td>0</td>\n",
       "    </tr>\n",
       "  </tbody>\n",
       "</table>\n",
       "</div>"
      ],
      "text/plain": [
       "       CustomerID Gender  Age  Income Customer Segment StockCode  Quantity  \\\n",
       "74695       15562   male   37  Medium     Middle class    85040A         0   \n",
       "74696       15562   male   37  Medium     Middle class    84968E         0   \n",
       "74697       15562   male   37  Medium     Middle class    90200E         0   \n",
       "74698       15562   male   37  Medium     Middle class    51014A         0   \n",
       "74699       15562   male   37  Medium     Middle class    82494L         0   \n",
       "\n",
       "                 Brand  Unit Price     Category  flag_buy  \n",
       "74695      Mightyskins       11.99  Electronics         0  \n",
       "74696  Eye Buy Express       27.99       Health         0  \n",
       "74697          Da-Lite     2730.40       Office         0  \n",
       "74698        CafePress       24.99     Clothing         0  \n",
       "74699            AARCO      512.92       Office         0  "
      ]
     },
     "execution_count": 23,
     "metadata": {},
     "output_type": "execute_result"
    }
   ],
   "source": [
    "#creating buy_falg column\n",
    "final_data1.loc[final_data1.Quantity == 0 ,\"flag_buy\" ] = 0\n",
    "final_data1.loc[final_data1.Quantity != 0 ,\"flag_buy\" ] = 1\n",
    "\n",
    "# Converting the values of flag_buy column into integer\n",
    "final_data1['flag_buy'] = final_data1.flag_buy.astype(int)\n",
    "\n",
    "final_data1.tail()"
   ]
  },
  {
   "cell_type": "code",
   "execution_count": 24,
   "id": "149d25a2-8987-4645-80be-1ecafb8d6a57",
   "metadata": {},
   "outputs": [
    {
     "name": "stdout",
     "output_type": "stream",
     "text": [
      "[0 1]\n"
     ]
    }
   ],
   "source": [
    "#Check for the unique value in flag buy column\n",
    "print(final_data1['flag_buy'].unique())"
   ]
  },
  {
   "cell_type": "code",
   "execution_count": 25,
   "id": "5cc45838-c2eb-4883-bc2f-1357e43ab66a",
   "metadata": {},
   "outputs": [
    {
     "data": {
      "text/html": [
       "<div>\n",
       "<style scoped>\n",
       "    .dataframe tbody tr th:only-of-type {\n",
       "        vertical-align: middle;\n",
       "    }\n",
       "\n",
       "    .dataframe tbody tr th {\n",
       "        vertical-align: top;\n",
       "    }\n",
       "\n",
       "    .dataframe thead th {\n",
       "        text-align: right;\n",
       "    }\n",
       "</style>\n",
       "<table border=\"1\" class=\"dataframe\">\n",
       "  <thead>\n",
       "    <tr style=\"text-align: right;\">\n",
       "      <th></th>\n",
       "      <th>CustomerID</th>\n",
       "      <th>Age</th>\n",
       "      <th>Quantity</th>\n",
       "      <th>Unit Price</th>\n",
       "      <th>flag_buy</th>\n",
       "    </tr>\n",
       "  </thead>\n",
       "  <tbody>\n",
       "    <tr>\n",
       "      <th>count</th>\n",
       "      <td>74700.000000</td>\n",
       "      <td>74700.000000</td>\n",
       "      <td>74700.000000</td>\n",
       "      <td>74700.000000</td>\n",
       "      <td>74700.000000</td>\n",
       "    </tr>\n",
       "    <tr>\n",
       "      <th>mean</th>\n",
       "      <td>15261.813333</td>\n",
       "      <td>36.045556</td>\n",
       "      <td>1.287898</td>\n",
       "      <td>471.473735</td>\n",
       "      <td>0.028889</td>\n",
       "    </tr>\n",
       "    <tr>\n",
       "      <th>std</th>\n",
       "      <td>1731.329589</td>\n",
       "      <td>11.370463</td>\n",
       "      <td>41.640099</td>\n",
       "      <td>1878.885833</td>\n",
       "      <td>0.167495</td>\n",
       "    </tr>\n",
       "    <tr>\n",
       "      <th>min</th>\n",
       "      <td>12346.000000</td>\n",
       "      <td>18.000000</td>\n",
       "      <td>0.000000</td>\n",
       "      <td>4.800000</td>\n",
       "      <td>0.000000</td>\n",
       "    </tr>\n",
       "    <tr>\n",
       "      <th>25%</th>\n",
       "      <td>13750.750000</td>\n",
       "      <td>26.000000</td>\n",
       "      <td>0.000000</td>\n",
       "      <td>19.990000</td>\n",
       "      <td>0.000000</td>\n",
       "    </tr>\n",
       "    <tr>\n",
       "      <th>50%</th>\n",
       "      <td>15248.000000</td>\n",
       "      <td>36.000000</td>\n",
       "      <td>0.000000</td>\n",
       "      <td>35.990000</td>\n",
       "      <td>0.000000</td>\n",
       "    </tr>\n",
       "    <tr>\n",
       "      <th>75%</th>\n",
       "      <td>16742.500000</td>\n",
       "      <td>46.250000</td>\n",
       "      <td>0.000000</td>\n",
       "      <td>64.990000</td>\n",
       "      <td>0.000000</td>\n",
       "    </tr>\n",
       "    <tr>\n",
       "      <th>max</th>\n",
       "      <td>18270.000000</td>\n",
       "      <td>55.000000</td>\n",
       "      <td>3900.000000</td>\n",
       "      <td>9999.990000</td>\n",
       "      <td>1.000000</td>\n",
       "    </tr>\n",
       "  </tbody>\n",
       "</table>\n",
       "</div>"
      ],
      "text/plain": [
       "         CustomerID           Age      Quantity    Unit Price      flag_buy\n",
       "count  74700.000000  74700.000000  74700.000000  74700.000000  74700.000000\n",
       "mean   15261.813333     36.045556      1.287898    471.473735      0.028889\n",
       "std     1731.329589     11.370463     41.640099   1878.885833      0.167495\n",
       "min    12346.000000     18.000000      0.000000      4.800000      0.000000\n",
       "25%    13750.750000     26.000000      0.000000     19.990000      0.000000\n",
       "50%    15248.000000     36.000000      0.000000     35.990000      0.000000\n",
       "75%    16742.500000     46.250000      0.000000     64.990000      0.000000\n",
       "max    18270.000000     55.000000   3900.000000   9999.990000      1.000000"
      ]
     },
     "execution_count": 25,
     "metadata": {},
     "output_type": "execute_result"
    }
   ],
   "source": [
    "# Gives the description of columns\n",
    "final_data1.describe()"
   ]
  },
  {
   "cell_type": "code",
   "execution_count": 26,
   "id": "24ae56e6-012e-40f3-9e3d-3055b8dc7c87",
   "metadata": {},
   "outputs": [
    {
     "name": "stdout",
     "output_type": "stream",
     "text": [
      "<class 'pandas.core.frame.DataFrame'>\n",
      "RangeIndex: 74700 entries, 0 to 74699\n",
      "Data columns (total 11 columns):\n",
      " #   Column            Non-Null Count  Dtype  \n",
      "---  ------            --------------  -----  \n",
      " 0   CustomerID        74700 non-null  int64  \n",
      " 1   Gender            74700 non-null  object \n",
      " 2   Age               74700 non-null  int64  \n",
      " 3   Income            74700 non-null  object \n",
      " 4   Customer Segment  74700 non-null  object \n",
      " 5   StockCode         74700 non-null  object \n",
      " 6   Quantity          74700 non-null  int32  \n",
      " 7   Brand             74700 non-null  object \n",
      " 8   Unit Price        74700 non-null  float64\n",
      " 9   Category          74700 non-null  object \n",
      " 10  flag_buy          74700 non-null  int32  \n",
      "dtypes: float64(1), int32(2), int64(2), object(6)\n",
      "memory usage: 5.7+ MB\n"
     ]
    }
   ],
   "source": [
    "##Information about the data\n",
    "final_data1.info()"
   ]
  },
  {
   "cell_type": "markdown",
   "id": "85fbc09e-808b-4f14-b2db-ab000daa1888",
   "metadata": {},
   "source": [
    "# Exploratory Data Analysis"
   ]
  },
  {
   "cell_type": "code",
   "execution_count": 27,
   "id": "14da33fd-ccf8-414a-9146-7da259595ef6",
   "metadata": {},
   "outputs": [
    {
     "data": {
      "text/plain": [
       "<Axes: xlabel='Brand', ylabel='count'>"
      ]
     },
     "execution_count": 27,
     "metadata": {},
     "output_type": "execute_result"
    },
    {
     "data": {
      "image/png": "[encoded data removed]",
      "text/plain": [
       "<Figure size 5000x2000 with 1 Axes>"
      ]
     },
     "metadata": {},
     "output_type": "display_data"
    }
   ],
   "source": [
    "# Count of Brand Category\n",
    "plt.figure(figsize=(50,20))\n",
    "sns.set_theme(style=\"darkgrid\")\n",
    "sns.countplot(x = 'Brand', data = final_data1)"
   ]
  },
  {
   "cell_type": "code",
   "execution_count": 28,
   "id": "13cfcea4-7f35-40f6-859d-09a268be676e",
   "metadata": {},
   "outputs": [
    {
     "data": {
      "text/plain": [
       "<Axes: xlabel='Income', ylabel='count'>"
      ]
     },
     "execution_count": 28,
     "metadata": {},
     "output_type": "execute_result"
    },
    {
     "data": {
      "image/png": "[encoded data removed]",
      "text/plain": [
       "<Figure size 400x400 with 1 Axes>"
      ]
     },
     "metadata": {},
     "output_type": "display_data"
    }
   ],
   "source": [
    "# Count of Income Category\n",
    "plt.figure(figsize=(4,4))\n",
    "sns.set_theme(style=\"darkgrid\")\n",
    "sns.countplot(x = 'Income', data = final_data1)"
   ]
  },
  {
   "cell_type": "code",
   "execution_count": 29,
   "id": "4d859211-4834-4e40-9cd7-ac6961eb6491",
   "metadata": {},
   "outputs": [
    {
     "data": {
      "text/plain": [
       "<Axes: xlabel='Age', ylabel='Count'>"
      ]
     },
     "execution_count": 29,
     "metadata": {},
     "output_type": "execute_result"
    },
    {
     "data": {
      "image/png": "[encoded data removed]",
      "text/plain": [
       "<Figure size 1000x500 with 1 Axes>"
      ]
     },
     "metadata": {},
     "output_type": "display_data"
    }
   ],
   "source": [
    "# histogram plot to show distribution age\n",
    "plt.figure(figsize=(10,5))\n",
    "sns.set_theme(style=\"darkgrid\")\n",
    "sns.histplot(data=final_data1, x=\"Age\", kde = True)"
   ]
  },
  {
   "cell_type": "code",
   "execution_count": 30,
   "id": "2d512a91-e674-4c62-b698-d8f8b4f4ef36",
   "metadata": {},
   "outputs": [
    {
     "data": {
      "text/plain": [
       "<Axes: xlabel='Age', ylabel='Count'>"
      ]
     },
     "execution_count": 30,
     "metadata": {},
     "output_type": "execute_result"
    },
    {
     "data": {
      "image/png": "[encoded data removed]",
      "text/plain": [
       "<Figure size 1000x500 with 1 Axes>"
      ]
     },
     "metadata": {},
     "output_type": "display_data"
    }
   ],
   "source": [
    "# histogram plot to show distribution age by category\n",
    "plt.figure(figsize=(10,5))\n",
    "sns.set_theme(style=\"darkgrid\")\n",
    "sns.histplot(data=final_data1, x=\"Age\", hue=\"Category\", element= \"poly\")"
   ]
  },
  {
   "cell_type": "code",
   "execution_count": 31,
   "id": "d78a5685-0a4e-4f4a-a286-bd68ac24133a",
   "metadata": {},
   "outputs": [
    {
     "data": {
      "text/plain": [
       "<Axes: xlabel='flag_buy', ylabel='count'>"
      ]
     },
     "execution_count": 31,
     "metadata": {},
     "output_type": "execute_result"
    },
    {
     "data": {
      "image/png": "[encoded data removed]",
      "text/plain": [
       "<Figure size 400x400 with 1 Axes>"
      ]
     },
     "metadata": {},
     "output_type": "display_data"
    }
   ],
   "source": [
    "# Count plot to show number of customer bought the product\n",
    "plt.figure(figsize=(4,4))\n",
    "sns.set_theme(style=\"darkgrid\")\n",
    "sns.countplot(x = 'flag_buy', data = final_data1)"
   ]
  },
  {
   "cell_type": "markdown",
   "id": "579a24fe-9fc1-4245-8a4f-23911e6e99bb",
   "metadata": {},
   "source": [
    "# Model Building"
   ]
  },
  {
   "cell_type": "markdown",
   "id": "8bb9ff38-df26-4825-b776-59bdee14b19c",
   "metadata": {},
   "source": [
    "Let’s encode all the categorical variables before building the model. Also, store the stock code for further usage."
   ]
  },
  {
   "cell_type": "code",
   "execution_count": 32,
   "id": "1b6a548f-2875-4bd3-bb2d-95e36f1b9739",
   "metadata": {},
   "outputs": [
    {
     "data": {
      "text/html": [
       "<div>\n",
       "<style scoped>\n",
       "    .dataframe tbody tr th:only-of-type {\n",
       "        vertical-align: middle;\n",
       "    }\n",
       "\n",
       "    .dataframe tbody tr th {\n",
       "        vertical-align: top;\n",
       "    }\n",
       "\n",
       "    .dataframe thead th {\n",
       "        text-align: right;\n",
       "    }\n",
       "</style>\n",
       "<table border=\"1\" class=\"dataframe\">\n",
       "  <thead>\n",
       "    <tr style=\"text-align: right;\">\n",
       "      <th></th>\n",
       "      <th>CustomerID</th>\n",
       "      <th>Gender</th>\n",
       "      <th>Age</th>\n",
       "      <th>Income</th>\n",
       "      <th>Customer Segment</th>\n",
       "      <th>StockCode</th>\n",
       "      <th>Quantity</th>\n",
       "      <th>Brand</th>\n",
       "      <th>Unit Price</th>\n",
       "      <th>Category</th>\n",
       "      <th>flag_buy</th>\n",
       "    </tr>\n",
       "  </thead>\n",
       "  <tbody>\n",
       "    <tr>\n",
       "      <th>0</th>\n",
       "      <td>14646</td>\n",
       "      <td>1</td>\n",
       "      <td>45</td>\n",
       "      <td>2</td>\n",
       "      <td>0</td>\n",
       "      <td>3</td>\n",
       "      <td>0</td>\n",
       "      <td>20</td>\n",
       "      <td>9999.99</td>\n",
       "      <td>6</td>\n",
       "      <td>0</td>\n",
       "    </tr>\n",
       "    <tr>\n",
       "      <th>1</th>\n",
       "      <td>14646</td>\n",
       "      <td>1</td>\n",
       "      <td>45</td>\n",
       "      <td>2</td>\n",
       "      <td>0</td>\n",
       "      <td>3</td>\n",
       "      <td>0</td>\n",
       "      <td>20</td>\n",
       "      <td>9999.99</td>\n",
       "      <td>6</td>\n",
       "      <td>0</td>\n",
       "    </tr>\n",
       "    <tr>\n",
       "      <th>2</th>\n",
       "      <td>14646</td>\n",
       "      <td>1</td>\n",
       "      <td>45</td>\n",
       "      <td>2</td>\n",
       "      <td>0</td>\n",
       "      <td>3</td>\n",
       "      <td>0</td>\n",
       "      <td>20</td>\n",
       "      <td>9999.99</td>\n",
       "      <td>6</td>\n",
       "      <td>0</td>\n",
       "    </tr>\n",
       "    <tr>\n",
       "      <th>3</th>\n",
       "      <td>14646</td>\n",
       "      <td>1</td>\n",
       "      <td>45</td>\n",
       "      <td>2</td>\n",
       "      <td>0</td>\n",
       "      <td>12</td>\n",
       "      <td>0</td>\n",
       "      <td>16</td>\n",
       "      <td>29.99</td>\n",
       "      <td>13</td>\n",
       "      <td>0</td>\n",
       "    </tr>\n",
       "    <tr>\n",
       "      <th>4</th>\n",
       "      <td>14646</td>\n",
       "      <td>1</td>\n",
       "      <td>45</td>\n",
       "      <td>2</td>\n",
       "      <td>0</td>\n",
       "      <td>39</td>\n",
       "      <td>0</td>\n",
       "      <td>16</td>\n",
       "      <td>14.99</td>\n",
       "      <td>14</td>\n",
       "      <td>0</td>\n",
       "    </tr>\n",
       "  </tbody>\n",
       "</table>\n",
       "</div>"
      ],
      "text/plain": [
       "   CustomerID  Gender  Age  Income  Customer Segment  StockCode  Quantity  \\\n",
       "0       14646       1   45       2                 0          3         0   \n",
       "1       14646       1   45       2                 0          3         0   \n",
       "2       14646       1   45       2                 0          3         0   \n",
       "3       14646       1   45       2                 0         12         0   \n",
       "4       14646       1   45       2                 0         39         0   \n",
       "\n",
       "   Brand  Unit Price  Category  flag_buy  \n",
       "0     20     9999.99         6         0  \n",
       "1     20     9999.99         6         0  \n",
       "2     20     9999.99         6         0  \n",
       "3     16       29.99        13         0  \n",
       "4     16       14.99        14         0  "
      ]
     },
     "execution_count": 32,
     "metadata": {},
     "output_type": "execute_result"
    }
   ],
   "source": [
    "#Encoding categorical variable using Label Encoder\n",
    "\n",
    "from sklearn import preprocessing\n",
    "\n",
    "label_encoder = preprocessing.LabelEncoder()\n",
    "final_data1['StockCode'] = label_encoder.fit_transform(final_data1['StockCode'])\n",
    "\n",
    "mappings = {}\n",
    "mappings['StockCode'] = dict(zip(label_encoder.classes_,range(len(label_encoder.classes_))))\n",
    "\n",
    "final_data1['Gender'] = label_encoder.fit_transform(final_data1['Gender'])\n",
    "final_data1['Customer Segment'] = label_encoder.fit_transform(final_data1['Customer Segment'])\n",
    "final_data1['Brand'] = label_encoder.fit_transform(final_data1['Brand'])\n",
    "final_data1['Category'] = label_encoder.fit_transform(final_data1['Category'])\n",
    "final_data1['Income'] = label_encoder.fit_transform(final_data1['Income'])\n",
    "\n",
    "final_data1.head()"
   ]
  },
  {
   "cell_type": "markdown",
   "id": "9877a915-f143-4dc4-9606-51e98cf47787",
   "metadata": {},
   "source": [
    "### Train-Test Split"
   ]
  },
  {
   "cell_type": "markdown",
   "id": "0b09a662-63bf-4100-9a5d-ec13e72b3be0",
   "metadata": {},
   "source": [
    "The data is split into two parts: one for training the model, which is the training set, and another for evaluating the model, which is the test set. `The train_test_split` library from `sklearn.model_selection` is imported to split the DataFrame into two parts."
   ]
  },
  {
   "cell_type": "code",
   "execution_count": 33,
   "id": "faa192fd-e78b-4218-a1b4-6a228aec4d3b",
   "metadata": {},
   "outputs": [
    {
     "name": "stdout",
     "output_type": "stream",
     "text": [
      "((74700, 10), (74700,))\n"
     ]
    }
   ],
   "source": [
    "## separating dependent and independent variables\n",
    "x = final_data1.drop(['flag_buy'], axis = 1)\n",
    "y = final_data1['flag_buy']\n",
    "\n",
    "# check the shape of dependent and independent variable\n",
    "print((x.shape, y.shape))\n",
    "\n",
    "# splitting data into train and test\n",
    "from sklearn.model_selection import train_test_split\n",
    "x_train, x_test, y_train, y_test = train_test_split(x, y, train_size = 0.6, random_state = 42)"
   ]
  },
  {
   "cell_type": "markdown",
   "id": "dee7bba1-dc5c-44f9-b861-44aec0d23d9b",
   "metadata": {},
   "source": [
    "### Logistic Regression"
   ]
  },
  {
   "cell_type": "markdown",
   "id": "d59f283e-3a79-46e7-82c0-3defda4f8ec0",
   "metadata": {},
   "source": [
    "Linear regression is needed to predict a numerical value. But you also encounter classification problems where dependent variables are binary, like yes or no, 1 or 0, true or false, and so on. In that case, logistic regression is needed."
   ]
  },
  {
   "cell_type": "code",
   "execution_count": 34,
   "id": "fcae74a6-e69f-40ea-80c3-6018f4c7c411",
   "metadata": {},
   "outputs": [
    {
     "data": {
      "text/html": [
       "<style>#sk-container-id-1 {color: black;background-color: white;}#sk-container-id-1 pre{padding: 0;}#sk-container-id-1 div.sk-toggleable {background-color: white;}#sk-container-id-1 label.sk-toggleable__label {cursor: pointer;display: block;width: 100%;margin-bottom: 0;padding: 0.3em;box-sizing: border-box;text-align: center;}#sk-container-id-1 label.sk-toggleable__label-arrow:before {content: \"▸\";float: left;margin-right: 0.25em;color: #696969;}#sk-container-id-1 label.sk-toggleable__label-arrow:hover:before {color: black;}#sk-container-id-1 div.sk-estimator:hover label.sk-toggleable__label-arrow:before {color: black;}#sk-container-id-1 div.sk-toggleable__content {max-height: 0;max-width: 0;overflow: hidden;text-align: left;background-color: #f0f8ff;}#sk-container-id-1 div.sk-toggleable__content pre {margin: 0.2em;color: black;border-radius: 0.25em;background-color: #f0f8ff;}#sk-container-id-1 input.sk-toggleable__control:checked~div.sk-toggleable__content {max-height: 200px;max-width: 100%;overflow: auto;}#sk-container-id-1 input.sk-toggleable__control:checked~label.sk-toggleable__label-arrow:before {content: \"▾\";}#sk-container-id-1 div.sk-estimator input.sk-toggleable__control:checked~label.sk-toggleable__label {background-color: #d4ebff;}#sk-container-id-1 div.sk-label input.sk-toggleable__control:checked~label.sk-toggleable__label {background-color: #d4ebff;}#sk-container-id-1 input.sk-hidden--visually {border: 0;clip: rect(1px 1px 1px 1px);clip: rect(1px, 1px, 1px, 1px);height: 1px;margin: -1px;overflow: hidden;padding: 0;position: absolute;width: 1px;}#sk-container-id-1 div.sk-estimator {font-family: monospace;background-color: #f0f8ff;border: 1px dotted black;border-radius: 0.25em;box-sizing: border-box;margin-bottom: 0.5em;}#sk-container-id-1 div.sk-estimator:hover {background-color: #d4ebff;}#sk-container-id-1 div.sk-parallel-item::after {content: \"\";width: 100%;border-bottom: 1px solid gray;flex-grow: 1;}#sk-container-id-1 div.sk-label:hover label.sk-toggleable__label {background-color: #d4ebff;}#sk-container-id-1 div.sk-serial::before {content: \"\";position: absolute;border-left: 1px solid gray;box-sizing: border-box;top: 0;bottom: 0;left: 50%;z-index: 0;}#sk-container-id-1 div.sk-serial {display: flex;flex-direction: column;align-items: center;background-color: white;padding-right: 0.2em;padding-left: 0.2em;position: relative;}#sk-container-id-1 div.sk-item {position: relative;z-index: 1;}#sk-container-id-1 div.sk-parallel {display: flex;align-items: stretch;justify-content: center;background-color: white;position: relative;}#sk-container-id-1 div.sk-item::before, #sk-container-id-1 div.sk-parallel-item::before {content: \"\";position: absolute;border-left: 1px solid gray;box-sizing: border-box;top: 0;bottom: 0;left: 50%;z-index: -1;}#sk-container-id-1 div.sk-parallel-item {display: flex;flex-direction: column;z-index: 1;position: relative;background-color: white;}#sk-container-id-1 div.sk-parallel-item:first-child::after {align-self: flex-end;width: 50%;}#sk-container-id-1 div.sk-parallel-item:last-child::after {align-self: flex-start;width: 50%;}#sk-container-id-1 div.sk-parallel-item:only-child::after {width: 0;}#sk-container-id-1 div.sk-dashed-wrapped {border: 1px dashed gray;margin: 0 0.4em 0.5em 0.4em;box-sizing: border-box;padding-bottom: 0.4em;background-color: white;}#sk-container-id-1 div.sk-label label {font-family: monospace;font-weight: bold;display: inline-block;line-height: 1.2em;}#sk-container-id-1 div.sk-label-container {text-align: center;}#sk-container-id-1 div.sk-container {/* jupyter's `normalize.less` sets `[hidden] { display: none; }` but bootstrap.min.css set `[hidden] { display: none !important; }` so we also need the `!important` here to be able to override the default hidden behavior on the sphinx rendered scikit-learn.org. See: https://github.com/scikit-learn/scikit-learn/issues/21755 */display: inline-block !important;position: relative;}#sk-container-id-1 div.sk-text-repr-fallback {display: none;}</style><div id=\"sk-container-id-1\" class=\"sk-top-container\"><div class=\"sk-text-repr-fallback\"><pre>LogisticRegression()</pre><b>In a Jupyter environment, please rerun this cell to show the HTML representation or trust the notebook. <br />On GitHub, the HTML representation is unable to render, please try loading this page with nbviewer.org.</b></div><div class=\"sk-container\" hidden><div class=\"sk-item\"><div class=\"sk-estimator sk-toggleable\"><input class=\"sk-toggleable__control sk-hidden--visually\" id=\"sk-estimator-id-1\" type=\"checkbox\" checked><label for=\"sk-estimator-id-1\" class=\"sk-toggleable__label sk-toggleable__label-arrow\">LogisticRegression</label><div class=\"sk-toggleable__content\"><pre>LogisticRegression()</pre></div></div></div></div></div>"
      ],
      "text/plain": [
       "LogisticRegression()"
      ]
     },
     "execution_count": 34,
     "metadata": {},
     "output_type": "execute_result"
    }
   ],
   "source": [
    "#training using logistic regression\n",
    "\n",
    "from sklearn.metrics import accuracy_score,confusion_matrix,classification_report\n",
    "from sklearn.linear_model import LogisticRegression\n",
    "\n",
    "logistic = LogisticRegression()\n",
    "logistic.fit(x_train, y_train)"
   ]
  },
  {
   "cell_type": "code",
   "execution_count": 35,
   "id": "d4c0da71-c7d8-4b63-9114-c26dd2fae163",
   "metadata": {},
   "outputs": [
    {
     "name": "stdout",
     "output_type": "stream",
     "text": [
      "[[28989     0]\n",
      " [    6   885]]\n"
     ]
    }
   ],
   "source": [
    "# calculate score\n",
    "\n",
    "pred=logistic.predict(x_test)\n",
    "\n",
    "print(confusion_matrix(y_test, pred))"
   ]
  },
  {
   "cell_type": "code",
   "execution_count": 36,
   "id": "01a09260-f4c0-41da-ae92-1ac7ed9f9cda",
   "metadata": {},
   "outputs": [
    {
     "name": "stdout",
     "output_type": "stream",
     "text": [
      "0.9997991967871486\n"
     ]
    }
   ],
   "source": [
    "print(accuracy_score(y_test, pred))"
   ]
  },
  {
   "cell_type": "code",
   "execution_count": 37,
   "id": "92b8a593-774c-43c5-b981-80832472c9f1",
   "metadata": {},
   "outputs": [
    {
     "name": "stdout",
     "output_type": "stream",
     "text": [
      "              precision    recall  f1-score   support\n",
      "\n",
      "           0       1.00      1.00      1.00     28989\n",
      "           1       1.00      0.99      1.00       891\n",
      "\n",
      "    accuracy                           1.00     29880\n",
      "   macro avg       1.00      1.00      1.00     29880\n",
      "weighted avg       1.00      1.00      1.00     29880\n",
      "\n"
     ]
    }
   ],
   "source": [
    "print(classification_report(y_test, pred))"
   ]
  },
  {
   "cell_type": "markdown",
   "id": "ba3da4c8-372e-4330-8364-245d9d4c9881",
   "metadata": {},
   "source": [
    "Let’s apply a sampling technique, make it balanced data, and then build the model."
   ]
  },
  {
   "cell_type": "code",
   "execution_count": 38,
   "id": "d9a16787-1a08-4b5d-a44c-330ae604c9a4",
   "metadata": {},
   "outputs": [
    {
     "name": "stdout",
     "output_type": "stream",
     "text": [
      "The number of classes before fit Counter({0: 43553, 1: 1267})\n",
      "The number of classes after fit Counter({0: 43473, 1: 21696})\n"
     ]
    }
   ],
   "source": [
    "# Sampling technique to handle imbalanced data\n",
    "\n",
    "from imblearn.combine import SMOTETomek\n",
    "from collections import Counter\n",
    "\n",
    "# Sampling technique to handle imbalanced data\n",
    "smk = SMOTETomek(sampling_strategy=0.50)\n",
    "X_res, y_res = smk.fit_resample(x_train, y_train)\n",
    "\n",
    "# Count the number of classes\n",
    "print(\"The number of classes before fit {}\".format(Counter(y_train)))\n",
    "print(\"The number of classes after fit {}\".format(Counter(y_res)))"
   ]
  },
  {
   "cell_type": "code",
   "execution_count": 39,
   "id": "a9ca8f34-ec40-49f9-8966-987b3958a9bb",
   "metadata": {},
   "outputs": [
    {
     "data": {
      "text/html": [
       "<style>#sk-container-id-2 {color: black;background-color: white;}#sk-container-id-2 pre{padding: 0;}#sk-container-id-2 div.sk-toggleable {background-color: white;}#sk-container-id-2 label.sk-toggleable__label {cursor: pointer;display: block;width: 100%;margin-bottom: 0;padding: 0.3em;box-sizing: border-box;text-align: center;}#sk-container-id-2 label.sk-toggleable__label-arrow:before {content: \"▸\";float: left;margin-right: 0.25em;color: #696969;}#sk-container-id-2 label.sk-toggleable__label-arrow:hover:before {color: black;}#sk-container-id-2 div.sk-estimator:hover label.sk-toggleable__label-arrow:before {color: black;}#sk-container-id-2 div.sk-toggleable__content {max-height: 0;max-width: 0;overflow: hidden;text-align: left;background-color: #f0f8ff;}#sk-container-id-2 div.sk-toggleable__content pre {margin: 0.2em;color: black;border-radius: 0.25em;background-color: #f0f8ff;}#sk-container-id-2 input.sk-toggleable__control:checked~div.sk-toggleable__content {max-height: 200px;max-width: 100%;overflow: auto;}#sk-container-id-2 input.sk-toggleable__control:checked~label.sk-toggleable__label-arrow:before {content: \"▾\";}#sk-container-id-2 div.sk-estimator input.sk-toggleable__control:checked~label.sk-toggleable__label {background-color: #d4ebff;}#sk-container-id-2 div.sk-label input.sk-toggleable__control:checked~label.sk-toggleable__label {background-color: #d4ebff;}#sk-container-id-2 input.sk-hidden--visually {border: 0;clip: rect(1px 1px 1px 1px);clip: rect(1px, 1px, 1px, 1px);height: 1px;margin: -1px;overflow: hidden;padding: 0;position: absolute;width: 1px;}#sk-container-id-2 div.sk-estimator {font-family: monospace;background-color: #f0f8ff;border: 1px dotted black;border-radius: 0.25em;box-sizing: border-box;margin-bottom: 0.5em;}#sk-container-id-2 div.sk-estimator:hover {background-color: #d4ebff;}#sk-container-id-2 div.sk-parallel-item::after {content: \"\";width: 100%;border-bottom: 1px solid gray;flex-grow: 1;}#sk-container-id-2 div.sk-label:hover label.sk-toggleable__label {background-color: #d4ebff;}#sk-container-id-2 div.sk-serial::before {content: \"\";position: absolute;border-left: 1px solid gray;box-sizing: border-box;top: 0;bottom: 0;left: 50%;z-index: 0;}#sk-container-id-2 div.sk-serial {display: flex;flex-direction: column;align-items: center;background-color: white;padding-right: 0.2em;padding-left: 0.2em;position: relative;}#sk-container-id-2 div.sk-item {position: relative;z-index: 1;}#sk-container-id-2 div.sk-parallel {display: flex;align-items: stretch;justify-content: center;background-color: white;position: relative;}#sk-container-id-2 div.sk-item::before, #sk-container-id-2 div.sk-parallel-item::before {content: \"\";position: absolute;border-left: 1px solid gray;box-sizing: border-box;top: 0;bottom: 0;left: 50%;z-index: -1;}#sk-container-id-2 div.sk-parallel-item {display: flex;flex-direction: column;z-index: 1;position: relative;background-color: white;}#sk-container-id-2 div.sk-parallel-item:first-child::after {align-self: flex-end;width: 50%;}#sk-container-id-2 div.sk-parallel-item:last-child::after {align-self: flex-start;width: 50%;}#sk-container-id-2 div.sk-parallel-item:only-child::after {width: 0;}#sk-container-id-2 div.sk-dashed-wrapped {border: 1px dashed gray;margin: 0 0.4em 0.5em 0.4em;box-sizing: border-box;padding-bottom: 0.4em;background-color: white;}#sk-container-id-2 div.sk-label label {font-family: monospace;font-weight: bold;display: inline-block;line-height: 1.2em;}#sk-container-id-2 div.sk-label-container {text-align: center;}#sk-container-id-2 div.sk-container {/* jupyter's `normalize.less` sets `[hidden] { display: none; }` but bootstrap.min.css set `[hidden] { display: none !important; }` so we also need the `!important` here to be able to override the default hidden behavior on the sphinx rendered scikit-learn.org. See: https://github.com/scikit-learn/scikit-learn/issues/21755 */display: inline-block !important;position: relative;}#sk-container-id-2 div.sk-text-repr-fallback {display: none;}</style><div id=\"sk-container-id-2\" class=\"sk-top-container\"><div class=\"sk-text-repr-fallback\"><pre>LogisticRegression()</pre><b>In a Jupyter environment, please rerun this cell to show the HTML representation or trust the notebook. <br />On GitHub, the HTML representation is unable to render, please try loading this page with nbviewer.org.</b></div><div class=\"sk-container\" hidden><div class=\"sk-item\"><div class=\"sk-estimator sk-toggleable\"><input class=\"sk-toggleable__control sk-hidden--visually\" id=\"sk-estimator-id-2\" type=\"checkbox\" checked><label for=\"sk-estimator-id-2\" class=\"sk-toggleable__label sk-toggleable__label-arrow\">LogisticRegression</label><div class=\"sk-toggleable__content\"><pre>LogisticRegression()</pre></div></div></div></div></div>"
      ],
      "text/plain": [
       "LogisticRegression()"
      ]
     },
     "execution_count": 39,
     "metadata": {},
     "output_type": "execute_result"
    }
   ],
   "source": [
    "# Training model with Logistics Regression\n",
    "\n",
    "from sklearn.metrics import accuracy_score,confusion_matrix,classification_report\n",
    "from sklearn.linear_model import LogisticRegression\n",
    "\n",
    "logistic = LogisticRegression()\n",
    "logistic.fit(X_res, y_res)"
   ]
  },
  {
   "cell_type": "code",
   "execution_count": 40,
   "id": "b273a07f-25d2-424a-9df6-116010274ef0",
   "metadata": {},
   "outputs": [
    {
     "name": "stdout",
     "output_type": "stream",
     "text": [
      "[[28989     0]\n",
      " [    2   889]]\n"
     ]
    }
   ],
   "source": [
    "# Calculate Score\n",
    "y_pred=logistic.predict(x_test)\n",
    "\n",
    "print(confusion_matrix(y_test,y_pred))"
   ]
  },
  {
   "cell_type": "code",
   "execution_count": 41,
   "id": "2c61b14f-c7d0-4403-a0b4-ba3e836d8cb0",
   "metadata": {},
   "outputs": [
    {
     "name": "stdout",
     "output_type": "stream",
     "text": [
      "0.9999330655957162\n"
     ]
    }
   ],
   "source": [
    "print(accuracy_score(y_test,y_pred))"
   ]
  },
  {
   "cell_type": "code",
   "execution_count": 42,
   "id": "c1add199-592e-423a-81ea-80be38569c2a",
   "metadata": {},
   "outputs": [
    {
     "name": "stdout",
     "output_type": "stream",
     "text": [
      "              precision    recall  f1-score   support\n",
      "\n",
      "           0       1.00      1.00      1.00     28989\n",
      "           1       1.00      1.00      1.00       891\n",
      "\n",
      "    accuracy                           1.00     29880\n",
      "   macro avg       1.00      1.00      1.00     29880\n",
      "weighted avg       1.00      1.00      1.00     29880\n",
      "\n"
     ]
    }
   ],
   "source": [
    "print(classification_report(y_test,y_pred))"
   ]
  },
  {
   "cell_type": "markdown",
   "id": "99204a7f-6e1b-48f8-bd19-bb40cf44c10b",
   "metadata": {},
   "source": [
    "### Decision Tree"
   ]
  },
  {
   "cell_type": "markdown",
   "id": "37295cb6-67b7-4468-9a6d-b36aba16f251",
   "metadata": {},
   "source": [
    "The decision is a type of supervised learning in which the data is split into similar groups based on the most important variable to the least."
   ]
  },
  {
   "cell_type": "code",
   "execution_count": 43,
   "id": "4602688d-8b49-4330-b6fe-d84b3423d003",
   "metadata": {},
   "outputs": [
    {
     "name": "stdout",
     "output_type": "stream",
     "text": [
      "1.0\n"
     ]
    }
   ],
   "source": [
    "##Training model using decision tree\n",
    "from sklearn import tree\n",
    "from sklearn.tree import DecisionTreeClassifier\n",
    "\n",
    "dt = DecisionTreeClassifier()\n",
    "dt.fit(X_res, y_res)\n",
    "y_pred = dt.predict(x_test)\n",
    "print(dt.score(x_train, y_train))"
   ]
  },
  {
   "cell_type": "code",
   "execution_count": 44,
   "id": "ce2df3c0-7a27-43ea-b131-c47f3abb99c3",
   "metadata": {},
   "outputs": [
    {
     "name": "stdout",
     "output_type": "stream",
     "text": [
      "[[28989     0]\n",
      " [    0   891]]\n"
     ]
    }
   ],
   "source": [
    "print(confusion_matrix(y_test,y_pred))"
   ]
  },
  {
   "cell_type": "code",
   "execution_count": 45,
   "id": "fca3be2c-04a6-4cd3-b944-ec32fe7fb771",
   "metadata": {},
   "outputs": [
    {
     "name": "stdout",
     "output_type": "stream",
     "text": [
      "1.0\n"
     ]
    }
   ],
   "source": [
    "print(accuracy_score(y_test,y_pred))"
   ]
  },
  {
   "cell_type": "code",
   "execution_count": 46,
   "id": "a50e2912-0e8b-4581-8e3b-826fb241cdcc",
   "metadata": {},
   "outputs": [
    {
     "name": "stdout",
     "output_type": "stream",
     "text": [
      "              precision    recall  f1-score   support\n",
      "\n",
      "           0       1.00      1.00      1.00     28989\n",
      "           1       1.00      1.00      1.00       891\n",
      "\n",
      "    accuracy                           1.00     29880\n",
      "   macro avg       1.00      1.00      1.00     29880\n",
      "weighted avg       1.00      1.00      1.00     29880\n",
      "\n"
     ]
    }
   ],
   "source": [
    "print(classification_report(y_test,y_pred))"
   ]
  },
  {
   "cell_type": "markdown",
   "id": "d2f706d1-ae2e-403c-8fcf-9444fe5234bc",
   "metadata": {},
   "source": [
    "### Random Forest"
   ]
  },
  {
   "cell_type": "markdown",
   "id": "82d05b74-3de6-4889-b591-ab86d8638927",
   "metadata": {},
   "source": [
    "Random forest is the most widely used machine learning algorithm because of its flexibility and ability to overcome the overfitting problem. A random forest is an ensemble algorithm that is an ensemble of multiple decision trees. The higher the number of trees, the better the accuracy."
   ]
  },
  {
   "cell_type": "code",
   "execution_count": 47,
   "id": "b3350cca-7526-4ccb-8496-015d4ce1ed15",
   "metadata": {},
   "outputs": [
    {
     "name": "stdout",
     "output_type": "stream",
     "text": [
      "[[28989     0]\n",
      " [    0   891]]\n"
     ]
    }
   ],
   "source": [
    "##Training model using Random forest\n",
    "from sklearn.ensemble import RandomForestClassifier\n",
    "\n",
    "rf = RandomForestClassifier()\n",
    "rf.fit(X_res, y_res)\n",
    "\n",
    "# Calculate Score\n",
    "y_pred=rf.predict(x_test)\n",
    "print(confusion_matrix(y_test,y_pred))"
   ]
  },
  {
   "cell_type": "code",
   "execution_count": 48,
   "id": "4e2c567f-54b9-48f5-a81c-986fb10a6b8f",
   "metadata": {},
   "outputs": [
    {
     "name": "stdout",
     "output_type": "stream",
     "text": [
      "1.0\n"
     ]
    }
   ],
   "source": [
    "print(accuracy_score(y_test,y_pred))"
   ]
  },
  {
   "cell_type": "code",
   "execution_count": 49,
   "id": "a5528ba4-f41e-4834-a2f3-1ff9c7c9407e",
   "metadata": {},
   "outputs": [
    {
     "name": "stdout",
     "output_type": "stream",
     "text": [
      "              precision    recall  f1-score   support\n",
      "\n",
      "           0       1.00      1.00      1.00     28989\n",
      "           1       1.00      1.00      1.00       891\n",
      "\n",
      "    accuracy                           1.00     29880\n",
      "   macro avg       1.00      1.00      1.00     29880\n",
      "weighted avg       1.00      1.00      1.00     29880\n",
      "\n"
     ]
    }
   ],
   "source": [
    "print(classification_report(y_test,y_pred))"
   ]
  },
  {
   "cell_type": "markdown",
   "id": "ac56353c-d63f-4f9e-bcc5-786e98f65f0c",
   "metadata": {},
   "source": [
    "### KNN"
   ]
  },
  {
   "cell_type": "code",
   "execution_count": 50,
   "id": "338f7061-b6ac-4055-ad50-e2de3b8d6643",
   "metadata": {},
   "outputs": [
    {
     "name": "stdout",
     "output_type": "stream",
     "text": [
      "0.9901829540383758\n"
     ]
    }
   ],
   "source": [
    "#Training model using KNN\n",
    "from sklearn.metrics import roc_auc_score, roc_curve\n",
    "from sklearn.neighbors import KNeighborsClassifier\n",
    "\n",
    "model1 = KNeighborsClassifier(n_neighbors=3)\n",
    "model1.fit(X_res,y_res)\n",
    "y_predict = model1.predict(x_test)\n",
    "\n",
    "# Calculate Score\n",
    "print(model1.score(x_train, y_train))"
   ]
  },
  {
   "cell_type": "code",
   "execution_count": 51,
   "id": "25257ca9-be7c-4984-b40e-aa16057766be",
   "metadata": {},
   "outputs": [
    {
     "name": "stdout",
     "output_type": "stream",
     "text": [
      "[[28352   637]\n",
      " [  256   635]]\n"
     ]
    }
   ],
   "source": [
    "print(confusion_matrix(y_test,y_predict))"
   ]
  },
  {
   "cell_type": "code",
   "execution_count": 52,
   "id": "fea524af-4024-4b6a-b063-2b48d1ab8d47",
   "metadata": {},
   "outputs": [
    {
     "name": "stdout",
     "output_type": "stream",
     "text": [
      "0.9701137884872825\n"
     ]
    }
   ],
   "source": [
    "print(accuracy_score(y_test,y_predict))"
   ]
  },
  {
   "cell_type": "code",
   "execution_count": 53,
   "id": "7681fb97-39f5-4807-87ca-9a2f41410763",
   "metadata": {},
   "outputs": [
    {
     "name": "stdout",
     "output_type": "stream",
     "text": [
      "              precision    recall  f1-score   support\n",
      "\n",
      "           0       0.99      0.98      0.98     28989\n",
      "           1       0.50      0.71      0.59       891\n",
      "\n",
      "    accuracy                           0.97     29880\n",
      "   macro avg       0.75      0.85      0.79     29880\n",
      "weighted avg       0.98      0.97      0.97     29880\n",
      "\n"
     ]
    }
   ],
   "source": [
    "print(classification_report(y_test,y_predict))"
   ]
  },
  {
   "cell_type": "markdown",
   "id": "0b5038c8-9936-4d91-8c3f-a3103b8d34ec",
   "metadata": {},
   "source": [
    "The ROC (receiver operating characteristic) curve is an evaluation metric for classification tasks. A plot with a false positive rate on the x\n",
    "axis and a true positive rate on the y axis is the ROC curve plot. It says how strongly the classes are distinguished when the thresholds are\n",
    "varied. Higher the value of the area under the ROC curve, the higher the predictive power."
   ]
  },
  {
   "cell_type": "code",
   "execution_count": 54,
   "id": "cdcda0b1-99fa-4350-b01c-9b1bb1416706",
   "metadata": {},
   "outputs": [
    {
     "data": {
      "image/png": "[encoded data removed]",
      "text/plain": [
       "<Figure size 640x480 with 1 Axes>"
      ]
     },
     "metadata": {},
     "output_type": "display_data"
    }
   ],
   "source": [
    "# plot AUROC curve\n",
    "r_auc = roc_auc_score(y_test, y_predict)\n",
    "r_fpr, r_tpr, _ = roc_curve(y_test, y_predict)\n",
    "plt.plot(r_fpr, r_tpr, linestyle='--', label='KNN prediction(AUROC = %0.3f)' % r_auc)\n",
    "plt.title('ROC Plot')\n",
    "\n",
    "# Axis labels\n",
    "plt.xlabel('False Positive Rate')\n",
    "plt.ylabel('True Positive Rate')\n",
    "\n",
    "# Show legend\n",
    "plt.legend()\n",
    "\n",
    "# Show plot\n",
    "plt.show()"
   ]
  },
  {
   "cell_type": "markdown",
   "id": "ff56a237-3a8b-4688-8efd-68c0efda84d5",
   "metadata": {},
   "source": [
    "Let’s recommend the products to one customer."
   ]
  },
  {
   "cell_type": "code",
   "execution_count": 57,
   "id": "c04a0966-83a5-4b1d-81a9-5e2ba43fcc33",
   "metadata": {},
   "outputs": [
    {
     "data": {
      "text/plain": [
       "['POST', '84997B', '84970L', '84459A']"
      ]
     },
     "execution_count": 57,
     "metadata": {},
     "output_type": "execute_result"
    }
   ],
   "source": [
    "# x_test has all the features, lets us take the copy of it\n",
    "test_data = x_test.copy()\n",
    "\n",
    "#let us store predictions in one variable\n",
    "test_data['predictions'] = pred\n",
    "\n",
    "#filter the data and recommend\n",
    "recomm_one_cust = test_data[(test_data['CustomerID']== 14646) & (test_data['predictions']== 1)]\n",
    "\n",
    "# to build the model we have encoded the stockcode column now we will decode and recommend\n",
    "items = []\n",
    "for item_id in recomm_one_cust['StockCode'].unique().tolist():\n",
    "    prod = {v: k for k, v in mappings['StockCode'].items()}[item_id]\n",
    "    items.append(str(prod))\n",
    "items"
   ]
  },
  {
   "cell_type": "markdown",
   "id": "61f837b1-eddf-41ee-80a5-050ddb34751a",
   "metadata": {},
   "source": [
    "These are the product IDs that should be recommended for customer 15810. If you want recommendations with product names, filter these IDs in the\n",
    "product table."
   ]
  },
  {
   "cell_type": "code",
   "execution_count": 58,
   "id": "2ab1348e-619b-4ce0-90e9-e6806e086ece",
   "metadata": {},
   "outputs": [
    {
     "data": {
      "text/plain": [
       "[7    MightySkins Skin Decal Wrap Compatible with Ot...\n",
       " Name: Product Name, dtype: object,\n",
       " 469    Awkward Styles Sugar Skull Shirts for Men Joll...\n",
       " Name: Product Name, dtype: object,\n",
       " 1282    Eye Buy Express Kids Childrens Reading Glasses...\n",
       " Name: Product Name, dtype: object,\n",
       " 1593    Ebe Reading Glasses Mens Womens Blue Silver Te...\n",
       " Name: Product Name, dtype: object]"
      ]
     },
     "execution_count": 58,
     "metadata": {},
     "output_type": "execute_result"
    }
   ],
   "source": [
    "recommendations = []\n",
    "for i in items:\n",
    "    recommendations.append(prod_df[prod_df['StockCode']== i]['Product Name'])\n",
    "recommendations"
   ]
  }
 ],
 "metadata": {
  "kernelspec": {
   "display_name": "Python 3 (ipykernel)",
   "language": "python",
   "name": "python3"
  },
  "language_info": {
   "codemirror_mode": {
    "name": "ipython",
    "version": 3
   },
   "file_extension": ".py",
   "mimetype": "text/x-python",
   "name": "python",
   "nbconvert_exporter": "python",
   "pygments_lexer": "ipython3",
   "version": "3.11.7"
  }
 },
 "nbformat": 4,
 "nbformat_minor": 5
}
