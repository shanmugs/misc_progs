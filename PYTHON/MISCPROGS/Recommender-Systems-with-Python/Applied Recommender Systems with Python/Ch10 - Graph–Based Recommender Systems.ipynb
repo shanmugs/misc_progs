{
 "cells": [
  {
   "cell_type": "markdown",
   "id": "892dd700-69ce-4efd-9e7e-7ab420a0ba23",
   "metadata": {},
   "source": [
    "# Chapter 10 - Graph–Based Recommender Systems"
   ]
  },
  {
   "cell_type": "markdown",
   "id": "32d0ca4e-fb64-4add-99d5-ac3f639b5eba",
   "metadata": {},
   "source": [
    "Deep learning techniques utilize recent and rapidly growing network architectures and optimization algorithms to train on large amounts of data and build more expressive and better-performing models. Graphics Processing Units (GPUs) and deep learning have been driving advances in recommender systems for the past few years. Due to their massively parallel architecture, using GPUs for computation provides higher performance and cost savings. Let’s first explore the basics of deep learning and then look at the deep learning–based collaborative filtering method (neural collaborative filtering).."
   ]
  },
  {
   "cell_type": "markdown",
   "id": "92969969-1c2d-465d-be0e-fd59f50e2004",
   "metadata": {},
   "source": [
    "<div style=\"text-align:center;\">\n",
    "    <img src='images/graph.png' width='600'>\n",
    "</div>"
   ]
  },
  {
   "cell_type": "code",
   "execution_count": 1,
   "id": "a183f6aa-f435-4c45-9145-0260ee8a61e6",
   "metadata": {},
   "outputs": [],
   "source": [
    "# Importing libraries\n",
    "\n",
    "import pandas as pd\n",
    "import numpy as np\n",
    "\n",
    "from neo4j import GraphDatabase, basic_auth\n",
    "import neo4jupyter\n",
    "from py2neo import Graph\n",
    "import re\n",
    "\n",
    "#import warnings\n",
    "#warnings.filterwarnings(\"ignore\")"
   ]
  },
  {
   "cell_type": "markdown",
   "id": "ac78f13c-abe9-4998-b17f-43bac1ea6d4b",
   "metadata": {},
   "source": [
    "### Establishing a connection between our Neo4j database and python notebook:\r\n"
   ]
  },
  {
   "cell_type": "code",
   "execution_count": 2,
   "id": "82c55289-d565-4ad8-aa37-df4ccf854ba1",
   "metadata": {},
   "outputs": [],
   "source": [
    "# https://neo4j.com/sandbox/\n",
    "\n",
    "g = Graph(\"neo4j+s://4fbc2c3a.databases.neo4j.io\", password = \"OGkyXIaUGyoMB297VLaSR03atj7yF1LpTwnzDWoqjOo\")"
   ]
  },
  {
   "cell_type": "code",
   "execution_count": 3,
   "id": "42df0842-59cc-4544-9bb9-d1976bb9e971",
   "metadata": {},
   "outputs": [],
   "source": [
    "driver = GraphDatabase.driver(\n",
    "  \"neo4j+s://4fbc2c3a.databases.neo4j.io\",\n",
    "  auth=basic_auth(\"neo4j\", \"OGkyXIaUGyoMB297VLaSR03atj7yF1LpTwnzDWoqjOo\"))"
   ]
  },
  {
   "cell_type": "code",
   "execution_count": 4,
   "id": "dc149a79-7e6a-401e-823b-255c141829d8",
   "metadata": {},
   "outputs": [],
   "source": [
    "def execute_transactions(transaction_execution_commands):\n",
    "    # Establishing connection with database\n",
    "    data_base_connection = GraphDatabase.driver( \"neo4j+s://4fbc2c3a.databases.neo4j.io\",\n",
    "  auth=basic_auth(\"neo4j\", \"OGkyXIaUGyoMB297VLaSR03atj7yF1LpTwnzDWoqjOo\"))\n",
    "    # Creating a session\n",
    "    session = data_base_connection.session()    \n",
    "    for i in transaction_execution_commands:\n",
    "        session.run(i)"
   ]
  },
  {
   "cell_type": "markdown",
   "id": "c8e88040-e64d-4381-bff4-ea8497a03d68",
   "metadata": {},
   "source": [
    "### Loading the Datasets"
   ]
  },
  {
   "cell_type": "code",
   "execution_count": 5,
   "id": "9087c6df-dc79-4eb1-b0ea-a6b4e51e2db2",
   "metadata": {},
   "outputs": [
    {
     "data": {
      "text/html": [
       "<div>\n",
       "<style scoped>\n",
       "    .dataframe tbody tr th:only-of-type {\n",
       "        vertical-align: middle;\n",
       "    }\n",
       "\n",
       "    .dataframe tbody tr th {\n",
       "        vertical-align: top;\n",
       "    }\n",
       "\n",
       "    .dataframe thead th {\n",
       "        text-align: right;\n",
       "    }\n",
       "</style>\n",
       "<table border=\"1\" class=\"dataframe\">\n",
       "  <thead>\n",
       "    <tr style=\"text-align: right;\">\n",
       "      <th></th>\n",
       "      <th>InvoiceNo</th>\n",
       "      <th>StockCode</th>\n",
       "      <th>Quantity</th>\n",
       "      <th>InvoiceDate</th>\n",
       "      <th>DeliveryDate</th>\n",
       "      <th>Discount%</th>\n",
       "      <th>ShipMode</th>\n",
       "      <th>ShippingCost</th>\n",
       "      <th>CustomerID</th>\n",
       "    </tr>\n",
       "  </thead>\n",
       "  <tbody>\n",
       "    <tr>\n",
       "      <th>0</th>\n",
       "      <td>536365</td>\n",
       "      <td>84029E</td>\n",
       "      <td>6</td>\n",
       "      <td>2010-12-01 08:26:00</td>\n",
       "      <td>2010-12-02 08:26:00</td>\n",
       "      <td>0.20</td>\n",
       "      <td>ExpressAir</td>\n",
       "      <td>30.12</td>\n",
       "      <td>17850</td>\n",
       "    </tr>\n",
       "    <tr>\n",
       "      <th>1</th>\n",
       "      <td>536365</td>\n",
       "      <td>71053</td>\n",
       "      <td>6</td>\n",
       "      <td>2010-12-01 08:26:00</td>\n",
       "      <td>2010-12-02 08:26:00</td>\n",
       "      <td>0.21</td>\n",
       "      <td>ExpressAir</td>\n",
       "      <td>30.12</td>\n",
       "      <td>17850</td>\n",
       "    </tr>\n",
       "    <tr>\n",
       "      <th>2</th>\n",
       "      <td>536365</td>\n",
       "      <td>21730</td>\n",
       "      <td>6</td>\n",
       "      <td>2010-12-01 08:26:00</td>\n",
       "      <td>2010-12-03 08:26:00</td>\n",
       "      <td>0.56</td>\n",
       "      <td>Regular Air</td>\n",
       "      <td>15.22</td>\n",
       "      <td>17850</td>\n",
       "    </tr>\n",
       "    <tr>\n",
       "      <th>3</th>\n",
       "      <td>536365</td>\n",
       "      <td>84406B</td>\n",
       "      <td>8</td>\n",
       "      <td>2010-12-01 08:26:00</td>\n",
       "      <td>2010-12-03 08:26:00</td>\n",
       "      <td>0.30</td>\n",
       "      <td>Regular Air</td>\n",
       "      <td>15.22</td>\n",
       "      <td>17850</td>\n",
       "    </tr>\n",
       "    <tr>\n",
       "      <th>4</th>\n",
       "      <td>536365</td>\n",
       "      <td>22752</td>\n",
       "      <td>2</td>\n",
       "      <td>2010-12-01 08:26:00</td>\n",
       "      <td>2010-12-04 08:26:00</td>\n",
       "      <td>0.57</td>\n",
       "      <td>Delivery Truck</td>\n",
       "      <td>5.81</td>\n",
       "      <td>17850</td>\n",
       "    </tr>\n",
       "  </tbody>\n",
       "</table>\n",
       "</div>"
      ],
      "text/plain": [
       "   InvoiceNo StockCode  Quantity         InvoiceDate        DeliveryDate  \\\n",
       "0     536365    84029E         6 2010-12-01 08:26:00 2010-12-02 08:26:00   \n",
       "1     536365     71053         6 2010-12-01 08:26:00 2010-12-02 08:26:00   \n",
       "2     536365     21730         6 2010-12-01 08:26:00 2010-12-03 08:26:00   \n",
       "3     536365    84406B         8 2010-12-01 08:26:00 2010-12-03 08:26:00   \n",
       "4     536365     22752         2 2010-12-01 08:26:00 2010-12-04 08:26:00   \n",
       "\n",
       "   Discount%        ShipMode  ShippingCost  CustomerID  \n",
       "0       0.20      ExpressAir         30.12       17850  \n",
       "1       0.21      ExpressAir         30.12       17850  \n",
       "2       0.56     Regular Air         15.22       17850  \n",
       "3       0.30     Regular Air         15.22       17850  \n",
       "4       0.57  Delivery Truck          5.81       17850  "
      ]
     },
     "execution_count": 5,
     "metadata": {},
     "output_type": "execute_result"
    }
   ],
   "source": [
    "#read csv data\n",
    "df = pd.read_excel(r'data/Rec_sys_data.xlsx')\n",
    "\n",
    "df.head()"
   ]
  },
  {
   "cell_type": "code",
   "execution_count": 6,
   "id": "61c0eb64-0ec4-47fe-a4ca-710e5255d506",
   "metadata": {},
   "outputs": [
    {
     "name": "stdout",
     "output_type": "stream",
     "text": [
      "<class 'pandas.core.frame.DataFrame'>\n",
      "RangeIndex: 272404 entries, 0 to 272403\n",
      "Data columns (total 9 columns):\n",
      " #   Column        Non-Null Count   Dtype         \n",
      "---  ------        --------------   -----         \n",
      " 0   InvoiceNo     272404 non-null  int64         \n",
      " 1   StockCode     272404 non-null  object        \n",
      " 2   Quantity      272404 non-null  int64         \n",
      " 3   InvoiceDate   272404 non-null  datetime64[ns]\n",
      " 4   DeliveryDate  272404 non-null  datetime64[ns]\n",
      " 5   Discount%     272404 non-null  float64       \n",
      " 6   ShipMode      272404 non-null  object        \n",
      " 7   ShippingCost  272404 non-null  float64       \n",
      " 8   CustomerID    272404 non-null  int64         \n",
      "dtypes: datetime64[ns](2), float64(2), int64(3), object(2)\n",
      "memory usage: 18.7+ MB\n"
     ]
    }
   ],
   "source": [
    "df.info()"
   ]
  },
  {
   "cell_type": "code",
   "execution_count": 7,
   "id": "35e81785-2d7d-41e9-80ac-351a4ca17b74",
   "metadata": {},
   "outputs": [
    {
     "name": "stdout",
     "output_type": "stream",
     "text": [
      "<class 'pandas.core.frame.DataFrame'>\n",
      "RangeIndex: 272404 entries, 0 to 272403\n",
      "Data columns (total 9 columns):\n",
      " #   Column        Non-Null Count   Dtype         \n",
      "---  ------        --------------   -----         \n",
      " 0   InvoiceNo     272404 non-null  int64         \n",
      " 1   StockCode     272404 non-null  object        \n",
      " 2   Quantity      272404 non-null  int64         \n",
      " 3   InvoiceDate   272404 non-null  datetime64[ns]\n",
      " 4   DeliveryDate  272404 non-null  datetime64[ns]\n",
      " 5   Discount%     272404 non-null  float64       \n",
      " 6   ShipMode      272404 non-null  object        \n",
      " 7   ShippingCost  272404 non-null  float64       \n",
      " 8   CustomerID    272404 non-null  object        \n",
      "dtypes: datetime64[ns](2), float64(2), int64(2), object(3)\n",
      "memory usage: 18.7+ MB\n"
     ]
    }
   ],
   "source": [
    "# Little bit of preprocessing so that we can easily run NoSQL queries.\n",
    "df['CustomerID'] = df['CustomerID'].apply(str)\n",
    "\n",
    "df.info()"
   ]
  },
  {
   "cell_type": "code",
   "execution_count": 8,
   "id": "1c09fb75-037c-4877-96d7-6824a81a9e17",
   "metadata": {},
   "outputs": [
    {
     "data": {
      "text/html": [
       "<div>\n",
       "<style scoped>\n",
       "    .dataframe tbody tr th:only-of-type {\n",
       "        vertical-align: middle;\n",
       "    }\n",
       "\n",
       "    .dataframe tbody tr th {\n",
       "        vertical-align: top;\n",
       "    }\n",
       "\n",
       "    .dataframe thead th {\n",
       "        text-align: right;\n",
       "    }\n",
       "</style>\n",
       "<table border=\"1\" class=\"dataframe\">\n",
       "  <thead>\n",
       "    <tr style=\"text-align: right;\">\n",
       "      <th></th>\n",
       "      <th>StockCode</th>\n",
       "      <th>Product Name</th>\n",
       "      <th>Description</th>\n",
       "      <th>Category</th>\n",
       "      <th>Brand</th>\n",
       "      <th>Unit Price</th>\n",
       "    </tr>\n",
       "  </thead>\n",
       "  <tbody>\n",
       "    <tr>\n",
       "      <th>0</th>\n",
       "      <td>22629</td>\n",
       "      <td>Ganma Superheroes Ordinary Life Case For Samsu...</td>\n",
       "      <td>New unique design, great gift.High quality pla...</td>\n",
       "      <td>Cell Phones|Cellphone Accessories|Cases &amp; Prot...</td>\n",
       "      <td>Ganma</td>\n",
       "      <td>13.99</td>\n",
       "    </tr>\n",
       "    <tr>\n",
       "      <th>1</th>\n",
       "      <td>21238</td>\n",
       "      <td>Eye Buy Express Prescription Glasses Mens Wome...</td>\n",
       "      <td>Rounded rectangular cat-eye reading glasses. T...</td>\n",
       "      <td>Health|Home Health Care|Daily Living Aids</td>\n",
       "      <td>Eye Buy Express</td>\n",
       "      <td>19.22</td>\n",
       "    </tr>\n",
       "    <tr>\n",
       "      <th>2</th>\n",
       "      <td>22181</td>\n",
       "      <td>MightySkins Skin Decal Wrap Compatible with Ni...</td>\n",
       "      <td>Each Nintendo 2DS kit is printed with super-hi...</td>\n",
       "      <td>Video Games|Video Game Accessories|Accessories...</td>\n",
       "      <td>Mightyskins</td>\n",
       "      <td>14.99</td>\n",
       "    </tr>\n",
       "    <tr>\n",
       "      <th>3</th>\n",
       "      <td>84879</td>\n",
       "      <td>Mediven Sheer and Soft 15-20 mmHg Thigh w/ Lac...</td>\n",
       "      <td>The sheerest compression stocking in its class...</td>\n",
       "      <td>Health|Medicine Cabinet|Braces &amp; Supports</td>\n",
       "      <td>Medi</td>\n",
       "      <td>62.38</td>\n",
       "    </tr>\n",
       "    <tr>\n",
       "      <th>4</th>\n",
       "      <td>84836</td>\n",
       "      <td>Stupell Industries Chevron Initial Wall D cor</td>\n",
       "      <td>Features: -Made in the USA. -Sawtooth hanger o...</td>\n",
       "      <td>Home Improvement|Paint|Wall Decals|All Wall De...</td>\n",
       "      <td>Stupell Industries</td>\n",
       "      <td>35.99</td>\n",
       "    </tr>\n",
       "  </tbody>\n",
       "</table>\n",
       "</div>"
      ],
      "text/plain": [
       "  StockCode                                       Product Name  \\\n",
       "0     22629  Ganma Superheroes Ordinary Life Case For Samsu...   \n",
       "1     21238  Eye Buy Express Prescription Glasses Mens Wome...   \n",
       "2     22181  MightySkins Skin Decal Wrap Compatible with Ni...   \n",
       "3     84879  Mediven Sheer and Soft 15-20 mmHg Thigh w/ Lac...   \n",
       "4     84836      Stupell Industries Chevron Initial Wall D cor   \n",
       "\n",
       "                                         Description  \\\n",
       "0  New unique design, great gift.High quality pla...   \n",
       "1  Rounded rectangular cat-eye reading glasses. T...   \n",
       "2  Each Nintendo 2DS kit is printed with super-hi...   \n",
       "3  The sheerest compression stocking in its class...   \n",
       "4  Features: -Made in the USA. -Sawtooth hanger o...   \n",
       "\n",
       "                                            Category               Brand  \\\n",
       "0  Cell Phones|Cellphone Accessories|Cases & Prot...               Ganma   \n",
       "1          Health|Home Health Care|Daily Living Aids     Eye Buy Express   \n",
       "2  Video Games|Video Game Accessories|Accessories...         Mightyskins   \n",
       "3          Health|Medicine Cabinet|Braces & Supports                Medi   \n",
       "4  Home Improvement|Paint|Wall Decals|All Wall De...  Stupell Industries   \n",
       "\n",
       "   Unit Price  \n",
       "0       13.99  \n",
       "1       19.22  \n",
       "2       14.99  \n",
       "3       62.38  \n",
       "4       35.99  "
      ]
     },
     "execution_count": 8,
     "metadata": {},
     "output_type": "execute_result"
    }
   ],
   "source": [
    "# This dataset contains detailed information about each stock which will be\n",
    "# used to link stockcodes and their description/title.\n",
    "df1 = pd.read_excel('data/Rec_sys_data.xlsx','product')\n",
    "\n",
    "df1.head()"
   ]
  },
  {
   "cell_type": "markdown",
   "id": "483a4dbc-59bd-4a6f-9ec3-32282ac9ecbe",
   "metadata": {},
   "source": [
    "To implement knowledge graphs in Neo4J, the DataFrame must be converted into a relational database. First, customers and stocks must be converted into entities (or nodes of a graph) to build a relationship between them."
   ]
  },
  {
   "cell_type": "code",
   "execution_count": 9,
   "id": "abdb50bb-b36e-4e9b-bef0-509042c41a42",
   "metadata": {},
   "outputs": [],
   "source": [
    "#creating a list of all unique customer IDs\n",
    "customerids = df['CustomerID'].unique().tolist()\n",
    "\n",
    "# storing all the create commands to be executed into create_customers list\n",
    "create_customers = []\n",
    "\n",
    "for i in customerids:\n",
    "  # example of create statement \"create (n:entity {property_key : '12345'})\" \n",
    "  statement = \"create (c:customer{cid:\"+ '\"' + str(i) + '\"' +\"})\"\n",
    "  create_customers.append(statement)\n",
    "\n",
    "# running all the queries into neo4j to create customer entities\n",
    "execute_transactions(create_customers)"
   ]
  },
  {
   "cell_type": "markdown",
   "id": "f19ba896-ab82-4946-8c86-ebb4112f17fd",
   "metadata": {},
   "source": [
    "Once we are done with customer nodes, we need to create nodes for stocks as well."
   ]
  },
  {
   "cell_type": "code",
   "execution_count": 10,
   "id": "6e03a0e7-02a4-4488-a692-efe71631c8cb",
   "metadata": {},
   "outputs": [],
   "source": [
    "# creating a lit of all unique stockcodes\n",
    "stockcodes = df['StockCode'].unique().tolist()\n",
    "\n",
    "# storing all the create commands to be executed into the create_stockcodes list\n",
    "create_stockcodes = []\n",
    "\n",
    "for i in stockcodes:\n",
    "  # example of create statement \"create (m:entity {property_key : 'XYZ'})\"\n",
    "  statement = \"create (s:stock{stockcode:\"+ '\"' + str(i) + '\"' +\"})\"\n",
    "  create_stockcodes.append(statement)\n",
    "\n",
    "# running all the queries into neo4j to create stock entities\n",
    "execute_transactions(create_stockcodes)"
   ]
  },
  {
   "cell_type": "markdown",
   "id": "5427982b-8868-4ecd-8e4c-47e5f10868a4",
   "metadata": {},
   "source": [
    "Once we are done creating nodes for customers and stocks, we need to create a link between stockcodes and title which will be needed to recommend items.\n",
    "\n",
    "For this we will create another property key called as 'title' into the stock entity already present in our neo4j database."
   ]
  },
  {
   "cell_type": "code",
   "execution_count": 11,
   "id": "f70de836-7b21-41e6-8247-0484b370a1f4",
   "metadata": {},
   "outputs": [
    {
     "data": {
      "text/html": [
       "<div>\n",
       "<style scoped>\n",
       "    .dataframe tbody tr th:only-of-type {\n",
       "        vertical-align: middle;\n",
       "    }\n",
       "\n",
       "    .dataframe tbody tr th {\n",
       "        vertical-align: top;\n",
       "    }\n",
       "\n",
       "    .dataframe thead th {\n",
       "        text-align: right;\n",
       "    }\n",
       "</style>\n",
       "<table border=\"1\" class=\"dataframe\">\n",
       "  <thead>\n",
       "    <tr style=\"text-align: right;\">\n",
       "      <th></th>\n",
       "      <th>StockCode</th>\n",
       "      <th>Title</th>\n",
       "    </tr>\n",
       "  </thead>\n",
       "  <tbody>\n",
       "  </tbody>\n",
       "</table>\n",
       "</div>"
      ],
      "text/plain": [
       "Empty DataFrame\n",
       "Columns: [StockCode, Title]\n",
       "Index: []"
      ]
     },
     "execution_count": 11,
     "metadata": {},
     "output_type": "execute_result"
    }
   ],
   "source": [
    "# creating a blank dataframe\n",
    "df2 = pd.DataFrame(columns = ['StockCode', 'Title'])\n",
    "df2.head()"
   ]
  },
  {
   "cell_type": "code",
   "execution_count": 12,
   "id": "cf5c4314-43cb-4b42-9b60-570adaff06c6",
   "metadata": {},
   "outputs": [],
   "source": [
    "#Converting stockcodes to string in both the dataframe\n",
    "df['StockCode'] = df['StockCode'].astype(str)\n",
    "df1['StockCode'] = df1['StockCode'].astype(str)"
   ]
  },
  {
   "cell_type": "code",
   "execution_count": 13,
   "id": "fbb9299f-a269-4363-8363-f4246a660113",
   "metadata": {},
   "outputs": [
    {
     "name": "stdout",
     "output_type": "stream",
     "text": [
      "     StockCode                                              Title\n",
      "0       84029E  3 1/2\"W x 20\"D x 20\"H Funston Craftsman Smooth...\n",
      "1        71053  Awkward Styles Shamrock Flag St. Patrick's Day...\n",
      "2        21730  Ebe Men Black Rectangle Half Rim Spring Hinge ...\n",
      "3       84406B  MightySkins Skin Decal Wrap Compatible with Ap...\n",
      "4        22752  awesome since 1948 - 69th birthday gift t-shir...\n",
      "...        ...                                                ...\n",
      "3533     23532  Handcrafted Ercolano Music Box Featuring \"Lunc...\n",
      "3534     23537  Ebe Reading Glasses Mens Womens Amber Red Oval...\n",
      "3535     23500  Port Company PC61 Traditional MenÃ¢â‚¬s T-Shir...\n",
      "3536     23465  Z620 Workstation, 2x Xeon E5-2630 v2 2.6GHz Si...\n",
      "3537     23501  Ebe Reading Glasses Mens Womens Black Blue Ret...\n",
      "\n",
      "[3538 rows x 2 columns]\n"
     ]
    }
   ],
   "source": [
    "# Get the unique stock codes\n",
    "stockcodes = df['StockCode'].unique().tolist()\n",
    "\n",
    "# Initialize an empty list to hold the dictionaries\n",
    "records = []\n",
    "\n",
    "# Loop through each stock code and create a dictionary for each\n",
    "for stockcode in stockcodes:\n",
    "    dict_temp = {}\n",
    "    dict_temp['StockCode'] = stockcode\n",
    "    product_name = df1[df1['StockCode'] == stockcode]['Product Name'].values\n",
    "    dict_temp['Title'] = product_name[0] if len(product_name) > 0 else None\n",
    "    records.append(dict_temp)\n",
    "\n",
    "# Create the DataFrame from the list of dictionaries\n",
    "df2 = pd.DataFrame(records)\n",
    "\n",
    "# Reset the index\n",
    "df2 = df2.reset_index(drop=True)\n",
    "\n",
    "print(df2)"
   ]
  },
  {
   "cell_type": "code",
   "execution_count": 14,
   "id": "1753b4fa-b30c-42fc-ae1d-5b1b9833e57a",
   "metadata": {},
   "outputs": [
    {
     "data": {
      "text/html": [
       "<div>\n",
       "<style scoped>\n",
       "    .dataframe tbody tr th:only-of-type {\n",
       "        vertical-align: middle;\n",
       "    }\n",
       "\n",
       "    .dataframe tbody tr th {\n",
       "        vertical-align: top;\n",
       "    }\n",
       "\n",
       "    .dataframe thead th {\n",
       "        text-align: right;\n",
       "    }\n",
       "</style>\n",
       "<table border=\"1\" class=\"dataframe\">\n",
       "  <thead>\n",
       "    <tr style=\"text-align: right;\">\n",
       "      <th></th>\n",
       "      <th>StockCode</th>\n",
       "      <th>Title</th>\n",
       "    </tr>\n",
       "  </thead>\n",
       "  <tbody>\n",
       "    <tr>\n",
       "      <th>0</th>\n",
       "      <td>84029E</td>\n",
       "      <td>3 1/2\"W x 20\"D x 20\"H Funston Craftsman Smooth...</td>\n",
       "    </tr>\n",
       "    <tr>\n",
       "      <th>1</th>\n",
       "      <td>71053</td>\n",
       "      <td>Awkward Styles Shamrock Flag St. Patrick's Day...</td>\n",
       "    </tr>\n",
       "    <tr>\n",
       "      <th>2</th>\n",
       "      <td>21730</td>\n",
       "      <td>Ebe Men Black Rectangle Half Rim Spring Hinge ...</td>\n",
       "    </tr>\n",
       "    <tr>\n",
       "      <th>3</th>\n",
       "      <td>84406B</td>\n",
       "      <td>MightySkins Skin Decal Wrap Compatible with Ap...</td>\n",
       "    </tr>\n",
       "    <tr>\n",
       "      <th>4</th>\n",
       "      <td>22752</td>\n",
       "      <td>awesome since 1948 - 69th birthday gift t-shir...</td>\n",
       "    </tr>\n",
       "  </tbody>\n",
       "</table>\n",
       "</div>"
      ],
      "text/plain": [
       "  StockCode                                              Title\n",
       "0    84029E  3 1/2\"W x 20\"D x 20\"H Funston Craftsman Smooth...\n",
       "1     71053  Awkward Styles Shamrock Flag St. Patrick's Day...\n",
       "2     21730  Ebe Men Black Rectangle Half Rim Spring Hinge ...\n",
       "3    84406B  MightySkins Skin Decal Wrap Compatible with Ap...\n",
       "4     22752  awesome since 1948 - 69th birthday gift t-shir..."
      ]
     },
     "execution_count": 14,
     "metadata": {},
     "output_type": "execute_result"
    }
   ],
   "source": [
    "# Initialize an empty list to hold the dictionaries\n",
    "records = []\n",
    "\n",
    "# Get the unique stock codes\n",
    "stockcodes = df['StockCode'].unique().tolist()\n",
    "\n",
    "# Loop through each stock code and create a dictionary for each\n",
    "for stockcode in stockcodes:\n",
    "    dict_temp = {}\n",
    "    dict_temp['StockCode'] = stockcode\n",
    "    product_name = df1[df1['StockCode'] == stockcode]['Product Name'].values\n",
    "    dict_temp['Title'] = product_name[0] if len(product_name) > 0 else None\n",
    "    records.append(dict_temp)\n",
    "\n",
    "# Create the DataFrame from the list of dictionaries\n",
    "df2 = pd.DataFrame(records)\n",
    "\n",
    "# Reset the index\n",
    "df2 = df2.reset_index(drop=True)\n",
    "\n",
    "df2.head()"
   ]
  },
  {
   "cell_type": "code",
   "execution_count": 16,
   "id": "dbea0b09-de49-4042-836e-ab6d86ec4906",
   "metadata": {},
   "outputs": [
    {
     "data": {
      "text/html": [
       "<div>\n",
       "<style scoped>\n",
       "    .dataframe tbody tr th:only-of-type {\n",
       "        vertical-align: middle;\n",
       "    }\n",
       "\n",
       "    .dataframe tbody tr th {\n",
       "        vertical-align: top;\n",
       "    }\n",
       "\n",
       "    .dataframe thead th {\n",
       "        text-align: right;\n",
       "    }\n",
       "</style>\n",
       "<table border=\"1\" class=\"dataframe\">\n",
       "  <thead>\n",
       "    <tr style=\"text-align: right;\">\n",
       "      <th></th>\n",
       "      <th>StockCode</th>\n",
       "      <th>Title</th>\n",
       "    </tr>\n",
       "  </thead>\n",
       "  <tbody>\n",
       "    <tr>\n",
       "      <th>0</th>\n",
       "      <td>84029E</td>\n",
       "      <td>3 1 2 W x 20 D x 20 H Funston Craftsman Smooth...</td>\n",
       "    </tr>\n",
       "    <tr>\n",
       "      <th>1</th>\n",
       "      <td>71053</td>\n",
       "      <td>Awkward Styles Shamrock Flag St Patrick s Day ...</td>\n",
       "    </tr>\n",
       "    <tr>\n",
       "      <th>2</th>\n",
       "      <td>21730</td>\n",
       "      <td>Ebe Men Black Rectangle Half Rim Spring Hinge ...</td>\n",
       "    </tr>\n",
       "    <tr>\n",
       "      <th>3</th>\n",
       "      <td>84406B</td>\n",
       "      <td>MightySkins Skin Decal Wrap Compatible with Ap...</td>\n",
       "    </tr>\n",
       "    <tr>\n",
       "      <th>4</th>\n",
       "      <td>22752</td>\n",
       "      <td>awesome since 1948 69th birthday gift t shirt ...</td>\n",
       "    </tr>\n",
       "  </tbody>\n",
       "</table>\n",
       "</div>"
      ],
      "text/plain": [
       "  StockCode                                              Title\n",
       "0    84029E  3 1 2 W x 20 D x 20 H Funston Craftsman Smooth...\n",
       "1     71053  Awkward Styles Shamrock Flag St Patrick s Day ...\n",
       "2     21730  Ebe Men Black Rectangle Half Rim Spring Hinge ...\n",
       "3    84406B  MightySkins Skin Decal Wrap Compatible with Ap...\n",
       "4     22752  awesome since 1948 69th birthday gift t shirt ..."
      ]
     },
     "execution_count": 16,
     "metadata": {},
     "output_type": "execute_result"
    }
   ],
   "source": [
    "# Doing some data preprocessing such that these queries can be run in neo4j\n",
    "\n",
    "df2['Title'] = df2['Title'].apply(str)\n",
    "df2['Title'] = df2['Title'].map(lambda x: re.sub(r'\\W+', ' ', x))\n",
    "df2['Title'] = df2['Title'].apply(str)\n",
    "\n",
    "df2.head()"
   ]
  },
  {
   "cell_type": "code",
   "execution_count": 17,
   "id": "02d7b9e8-9ad4-4617-8bd0-49d6534aa8c3",
   "metadata": {},
   "outputs": [],
   "source": [
    "# This query will add the 'title' property key to each stock entity in our neo4j database\n",
    "for i in range(len(df2)):\n",
    "  query = \"\"\"\n",
    "  MATCH (s:stock {stockcode:\"\"\" + '\"' + str(df2['StockCode'][i]) + '\"' + \"\"\"})\n",
    "  SET s.title =\"\"\"+ '\"' + str(df2['Title'][i]) + '\"' + \"\"\"\n",
    "  RETURN s.stockcode, s.title\n",
    "  \"\"\"\n",
    "\n",
    "  g.run(query)"
   ]
  },
  {
   "cell_type": "markdown",
   "id": "e00fb083-239f-45dd-8545-220ba1f5fb79",
   "metadata": {},
   "source": [
    "<div style=\"text-align:center;\">\n",
    "    <img src='images/neo4j.png' width='1200'>\n",
    "</div>"
   ]
  },
  {
   "cell_type": "markdown",
   "id": "92e2aef4-0bb7-4f41-b121-bf2d489746dd",
   "metadata": {},
   "source": [
    "### Creating Relation Between Customers and Stocks\n",
    "\n",
    "Since we have all the transactions in our dataset, the relation is already known and present. But since we have to convert it into a RDS, we have to run cypher queries in neo4j to build this relationship."
   ]
  },
  {
   "cell_type": "code",
   "execution_count": 20,
   "id": "d31ae6e5-a25a-4b2e-8417-3544495c9fe0",
   "metadata": {},
   "outputs": [],
   "source": [
    "# Storing transaction values in a list\n",
    "transaction_list = df.values.tolist()\n",
    "\n",
    "# storing all commands to build relationship in an empty list relation\n",
    "relation = []\n",
    "\n",
    "for i in transaction_list:\n",
    "  # the 9th column in df is customerID and 2nd column is stockcode which we are appending in the statement\n",
    "  statement = \"\"\"MATCH (a:customer),(b:stock) WHERE a.cid = \"\"\"+'\"' + str(i[8])+ '\"' + \"\"\" AND b.stockcode = \"\"\" + '\"' + str(i[1]) + '\"' + \"\"\" CREATE (a)-[:bought]->(b) \"\"\"\n",
    "  relation.append(statement)"
   ]
  },
  {
   "cell_type": "code",
   "execution_count": null,
   "id": "41807130-0722-41e0-82c3-056984f83f59",
   "metadata": {},
   "outputs": [],
   "source": [
    "execute_transactions(relation)"
   ]
  },
  {
   "cell_type": "markdown",
   "id": "d2fd3b18-913e-47f7-b7ce-dde048a42533",
   "metadata": {},
   "source": [
    "<div style=\"text-align:center;\">\n",
    "    <img src='images/neo4j2.png' width='1200'>\n",
    "</div>"
   ]
  },
  {
   "cell_type": "markdown",
   "id": "bfd516d7-0de9-447f-9747-bcd6f79cec3c",
   "metadata": {},
   "source": [
    "Next, let’s find similarities between users using the relationship created.\n",
    "\n",
    "The Jaccard similarity can be calculated as the ratio between the intersection and the union of two sets. It is a measure of similarity, and as it is a percentage value, it ranges between 0% to 100%. More similar sets have a higher value."
   ]
  },
  {
   "cell_type": "code",
   "execution_count": null,
   "id": "f8c37801-8ef3-4506-b8ba-7a8416a07fae",
   "metadata": {},
   "outputs": [],
   "source": [
    "def similar_users(id) :\n",
    "    \n",
    "  # This query will find users who have bought stocks in common with the customer having id specified by user \n",
    "  # Later we will find jaccard index for each of them \n",
    "  # We wil return the neighbors sorted by jaccard index in descending order\n",
    "    \n",
    "  query = \"\"\"\n",
    "  MATCH (c1:customer)-[:bought]->(s:stock)<-[:bought]-(c2:customer)\n",
    "  WHERE c1 <> c2 AND c1.cid =\"\"\" + '\"' + str(id) +'\"' \"\"\"\n",
    "  WITH c1, c2, COUNT(DISTINCT s) as intersection\n",
    "  MATCH (c:customer)-[:bought]->(s:stock)\n",
    "  WHERE c in [c1, c2]\n",
    "  WITH c1, c2, intersection, COUNT(DISTINCT s) as union\n",
    "  WITH c1, c2, intersection, union, (intersection * 1.0 / union) as jaccard_index\n",
    "  ORDER BY jaccard_index DESC, c2.cid\n",
    "  WITH c1, COLLECT([c2.cid, jaccard_index, intersection, union])[0..15] as neighbors\n",
    "  WHERE SIZE(neighbors) = 15   // return users with enough neighbors\n",
    "  RETURN c1.cid as customer, neighbors\n",
    "  \n",
    "  \"\"\"\n",
    "  neighbors = pd.DataFrame([['CustomerID','JaccardIndex','Intersection','Union']])\n",
    "  for i in g.run(query).data():\n",
    "    neighbors = neighbors.append(i[\"neighbors\"])\n",
    "  \n",
    "  print(\"\\n----------- customer's 15 nearest neighbors ---------\\n\")\n",
    "  print(neighbors)"
   ]
  },
  {
   "cell_type": "code",
   "execution_count": null,
   "id": "28e4a677-5652-4e4b-895d-d2f8c17425c8",
   "metadata": {},
   "outputs": [],
   "source": [
    "similar_users('12347')"
   ]
  },
  {
   "cell_type": "code",
   "execution_count": null,
   "id": "5841db50-ad42-43d1-9f80-38c730f4bfd6",
   "metadata": {},
   "outputs": [],
   "source": [
    "similar_users(17975)"
   ]
  },
  {
   "cell_type": "code",
   "execution_count": null,
   "id": "33390f8b-a027-419c-b7db-da1470b856a6",
   "metadata": {},
   "outputs": [],
   "source": [
    "similar_users(16359)"
   ]
  }
 ],
 "metadata": {
  "kernelspec": {
   "display_name": "Python 3 (ipykernel)",
   "language": "python",
   "name": "python3"
  },
  "language_info": {
   "codemirror_mode": {
    "name": "ipython",
    "version": 3
   },
   "file_extension": ".py",
   "mimetype": "text/x-python",
   "name": "python",
   "nbconvert_exporter": "python",
   "pygments_lexer": "ipython3",
   "version": "3.11.7"
  }
 },
 "nbformat": 4,
 "nbformat_minor": 5
}
