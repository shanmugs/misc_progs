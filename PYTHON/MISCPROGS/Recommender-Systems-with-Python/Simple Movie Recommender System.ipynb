{
 "cells": [
  {
   "cell_type": "markdown",
   "id": "8dda380b-bb99-4432-bdaa-1dcfe4a2f1f5",
   "metadata": {},
   "source": [
    "# Movie Recommender System"
   ]
  },
  {
   "cell_type": "markdown",
   "id": "36af3e4d-d3bb-4875-8729-24d64a9e4c37",
   "metadata": {},
   "source": [
    "### Data Preparation"
   ]
  },
  {
   "cell_type": "code",
   "execution_count": 1,
   "id": "db6fd816-f1ad-4f66-a1de-7c8bff1c77c1",
   "metadata": {},
   "outputs": [],
   "source": [
    "import numpy as np\n",
    "import pandas as pd\n",
    "from sklearn.feature_extraction.text import TfidfVectorizer\n",
    "from sklearn.metrics.pairwise import cosine_similarity"
   ]
  },
  {
   "cell_type": "code",
   "execution_count": 2,
   "id": "c358267a-e9d3-4299-8ee0-377fe0a50777",
   "metadata": {},
   "outputs": [],
   "source": [
    "# Sample movie data\n",
    "movies = pd.DataFrame({\n",
    "    'movie_id': list(range(1, 51)),\n",
    "    'title': [\n",
    "        'Movie A', 'Movie B', 'Movie C', 'Movie D', 'Movie E', 'Movie F', 'Movie G', 'Movie H', 'Movie I', 'Movie J',\n",
    "        'Movie K', 'Movie L', 'Movie M', 'Movie N', 'Movie O', 'Movie P', 'Movie Q', 'Movie R', 'Movie S', 'Movie T',\n",
    "        'Movie U', 'Movie V', 'Movie W', 'Movie X', 'Movie Y', 'Movie Z', 'Movie AA', 'Movie AB', 'Movie AC', 'Movie AD',\n",
    "        'Movie AE', 'Movie AF', 'Movie AG', 'Movie AH', 'Movie AI', 'Movie AJ', 'Movie AK', 'Movie AL', 'Movie AM', 'Movie AN',\n",
    "        'Movie AO', 'Movie AP', 'Movie AQ', 'Movie AR', 'Movie AS', 'Movie AT', 'Movie AU', 'Movie AV', 'Movie AW', 'Movie AX'\n",
    "    ],\n",
    "    'genres': [\n",
    "        'Action|Adventure', 'Action|Sci-Fi', 'Drama', 'Comedy|Romance', 'Horror', 'Adventure|Fantasy', 'Thriller', 'Documentary', 'Animation|Family', 'Biography|Drama',\n",
    "        'Action|Comedy', 'Crime|Drama', 'Sci-Fi|Thriller', 'Mystery|Thriller', 'Romance|Drama', 'Fantasy|Adventure', 'Musical|Romance', 'Horror|Thriller', 'Drama|War', 'Animation|Adventure',\n",
    "        'Comedy|Drama', 'Action|Thriller', 'Fantasy|Romance', 'Documentary|Biography', 'Comedy|Musical', 'Action|Fantasy', 'Biography|History', 'Drama|Mystery', 'Crime|Thriller', 'Adventure|Sci-Fi',\n",
    "        'Drama|Romance', 'Comedy|Fantasy', 'Action|Crime', 'Horror|Comedy', 'Thriller|Mystery', 'Adventure|Animation', 'Drama|Biography', 'Romance|Fantasy', 'Musical|Comedy', 'Action|Adventure|Fantasy',\n",
    "        'Crime|Comedy', 'Horror|Sci-Fi', 'Drama|Family', 'Comedy|Adventure', 'Thriller|Action', 'Adventure|Drama', 'Fantasy|Comedy', 'Biography|Documentary', 'Family|Animation', 'Romance|Comedy'\n",
    "    ],\n",
    "    'plot_keywords': [\n",
    "        'hero, villain, fight', 'space, future, war', 'love, life, struggle', 'laughter, love, relationships', 'fear, night, scream', 'journey, magic, creature', 'suspense, mystery, chase', 'real, story, truth', 'kids, fun, animated', 'true, inspiring, history',\n",
    "        'explosion, fun, partner', 'crime, justice, police', 'alien, future, battle', 'detective, crime, mystery', 'love, heartbreak, relationship', 'magic, epic, quest', 'song, dance, love', 'ghost, fear, dark', 'soldier, battle, sacrifice', 'animated, hero, journey',\n",
    "        'life, funny, poignant', 'spy, chase, danger', 'magic, love, dream', 'true, life, inspiring', 'dance, sing, fun', 'hero, epic, fantasy', 'true, life, struggle', 'secrets, mystery, drama', 'law, crime, detective', 'future, adventure, space',\n",
    "        'passion, romance, tears', 'imagination, fun, magic', 'heist, crime, plan', 'zombie, humor, survive', 'puzzle, suspense, thriller', 'fun, kids, adventure', 'history, true, drama', 'love, fantasy, magic', 'fun, laughter, dance', 'hero, power, epic',\n",
    "        'heist, funny, crime', 'alien, horror, space', 'family, drama, life', 'fun, adventure, comedy', 'spy, thriller, danger', 'adventure, quest, hero', 'magic, funny, journey', 'true, real, story', 'animated, family, fun', 'romance, funny, love'\n",
    "    ]\n",
    "})"
   ]
  },
  {
   "cell_type": "code",
   "execution_count": 3,
   "id": "75c461ce-33d0-4b0f-92f0-f1637febc4a9",
   "metadata": {},
   "outputs": [
    {
     "data": {
      "text/html": [
       "<div>\n",
       "<style scoped>\n",
       "    .dataframe tbody tr th:only-of-type {\n",
       "        vertical-align: middle;\n",
       "    }\n",
       "\n",
       "    .dataframe tbody tr th {\n",
       "        vertical-align: top;\n",
       "    }\n",
       "\n",
       "    .dataframe thead th {\n",
       "        text-align: right;\n",
       "    }\n",
       "</style>\n",
       "<table border=\"1\" class=\"dataframe\">\n",
       "  <thead>\n",
       "    <tr style=\"text-align: right;\">\n",
       "      <th></th>\n",
       "      <th>movie_id</th>\n",
       "      <th>title</th>\n",
       "      <th>genres</th>\n",
       "      <th>plot_keywords</th>\n",
       "    </tr>\n",
       "  </thead>\n",
       "  <tbody>\n",
       "    <tr>\n",
       "      <th>0</th>\n",
       "      <td>1</td>\n",
       "      <td>Movie A</td>\n",
       "      <td>Action|Adventure</td>\n",
       "      <td>hero, villain, fight</td>\n",
       "    </tr>\n",
       "    <tr>\n",
       "      <th>1</th>\n",
       "      <td>2</td>\n",
       "      <td>Movie B</td>\n",
       "      <td>Action|Sci-Fi</td>\n",
       "      <td>space, future, war</td>\n",
       "    </tr>\n",
       "    <tr>\n",
       "      <th>2</th>\n",
       "      <td>3</td>\n",
       "      <td>Movie C</td>\n",
       "      <td>Drama</td>\n",
       "      <td>love, life, struggle</td>\n",
       "    </tr>\n",
       "    <tr>\n",
       "      <th>3</th>\n",
       "      <td>4</td>\n",
       "      <td>Movie D</td>\n",
       "      <td>Comedy|Romance</td>\n",
       "      <td>laughter, love, relationships</td>\n",
       "    </tr>\n",
       "    <tr>\n",
       "      <th>4</th>\n",
       "      <td>5</td>\n",
       "      <td>Movie E</td>\n",
       "      <td>Horror</td>\n",
       "      <td>fear, night, scream</td>\n",
       "    </tr>\n",
       "  </tbody>\n",
       "</table>\n",
       "</div>"
      ],
      "text/plain": [
       "   movie_id    title            genres                  plot_keywords\n",
       "0         1  Movie A  Action|Adventure           hero, villain, fight\n",
       "1         2  Movie B     Action|Sci-Fi             space, future, war\n",
       "2         3  Movie C             Drama           love, life, struggle\n",
       "3         4  Movie D    Comedy|Romance  laughter, love, relationships\n",
       "4         5  Movie E            Horror            fear, night, scream"
      ]
     },
     "execution_count": 3,
     "metadata": {},
     "output_type": "execute_result"
    }
   ],
   "source": [
    "movies.head()"
   ]
  },
  {
   "cell_type": "code",
   "execution_count": 4,
   "id": "212caa5e-6be7-452a-a85d-f762ef346136",
   "metadata": {},
   "outputs": [],
   "source": [
    "# Convert genres to a format suitable for vectorization\n",
    "movies['genres'] = movies['genres'].str.replace('|', ' ')"
   ]
  },
  {
   "cell_type": "code",
   "execution_count": 5,
   "id": "4a8e12ab-9a81-40a1-aaee-8d1c680c7338",
   "metadata": {},
   "outputs": [
    {
     "data": {
      "text/html": [
       "<div>\n",
       "<style scoped>\n",
       "    .dataframe tbody tr th:only-of-type {\n",
       "        vertical-align: middle;\n",
       "    }\n",
       "\n",
       "    .dataframe tbody tr th {\n",
       "        vertical-align: top;\n",
       "    }\n",
       "\n",
       "    .dataframe thead th {\n",
       "        text-align: right;\n",
       "    }\n",
       "</style>\n",
       "<table border=\"1\" class=\"dataframe\">\n",
       "  <thead>\n",
       "    <tr style=\"text-align: right;\">\n",
       "      <th></th>\n",
       "      <th>movie_id</th>\n",
       "      <th>title</th>\n",
       "      <th>genres</th>\n",
       "      <th>plot_keywords</th>\n",
       "    </tr>\n",
       "  </thead>\n",
       "  <tbody>\n",
       "    <tr>\n",
       "      <th>0</th>\n",
       "      <td>1</td>\n",
       "      <td>Movie A</td>\n",
       "      <td>Action Adventure</td>\n",
       "      <td>hero, villain, fight</td>\n",
       "    </tr>\n",
       "    <tr>\n",
       "      <th>1</th>\n",
       "      <td>2</td>\n",
       "      <td>Movie B</td>\n",
       "      <td>Action Sci-Fi</td>\n",
       "      <td>space, future, war</td>\n",
       "    </tr>\n",
       "    <tr>\n",
       "      <th>2</th>\n",
       "      <td>3</td>\n",
       "      <td>Movie C</td>\n",
       "      <td>Drama</td>\n",
       "      <td>love, life, struggle</td>\n",
       "    </tr>\n",
       "    <tr>\n",
       "      <th>3</th>\n",
       "      <td>4</td>\n",
       "      <td>Movie D</td>\n",
       "      <td>Comedy Romance</td>\n",
       "      <td>laughter, love, relationships</td>\n",
       "    </tr>\n",
       "    <tr>\n",
       "      <th>4</th>\n",
       "      <td>5</td>\n",
       "      <td>Movie E</td>\n",
       "      <td>Horror</td>\n",
       "      <td>fear, night, scream</td>\n",
       "    </tr>\n",
       "  </tbody>\n",
       "</table>\n",
       "</div>"
      ],
      "text/plain": [
       "   movie_id    title            genres                  plot_keywords\n",
       "0         1  Movie A  Action Adventure           hero, villain, fight\n",
       "1         2  Movie B     Action Sci-Fi             space, future, war\n",
       "2         3  Movie C             Drama           love, life, struggle\n",
       "3         4  Movie D    Comedy Romance  laughter, love, relationships\n",
       "4         5  Movie E            Horror            fear, night, scream"
      ]
     },
     "execution_count": 5,
     "metadata": {},
     "output_type": "execute_result"
    }
   ],
   "source": [
    "movies.head()"
   ]
  },
  {
   "cell_type": "markdown",
   "id": "134d6fee-888d-4c6a-895d-6959e85e228c",
   "metadata": {},
   "source": [
    "### Feature Represenatation"
   ]
  },
  {
   "cell_type": "code",
   "execution_count": 6,
   "id": "8a85e4ba-7a46-4bdc-bda6-f5c6fd502dee",
   "metadata": {},
   "outputs": [],
   "source": [
    "# Create TF-IDF vectorizers for genres and plot_keywords\n",
    "tfidf_genres = TfidfVectorizer()\n",
    "tfidf_plot_keywords = TfidfVectorizer()\n",
    "\n",
    "# Fit and transform the data\n",
    "genres_matrix = tfidf_genres.fit_transform(movies['genres'])\n",
    "keywords_matrix = tfidf_plot_keywords.fit_transform(movies['plot_keywords'])"
   ]
  },
  {
   "cell_type": "markdown",
   "id": "9bcaa68b-ba2d-445c-9e19-ab40b36c05e6",
   "metadata": {},
   "source": [
    "### Combine Features & Calculate Similarity"
   ]
  },
  {
   "cell_type": "code",
   "execution_count": 7,
   "id": "1416ffb9-3c63-4e0d-ad66-03d872ecf483",
   "metadata": {},
   "outputs": [],
   "source": [
    "# Combine the features\n",
    "combined_features = np.hstack([genres_matrix.toarray(), keywords_matrix.toarray()])\n",
    "\n",
    "# Compute cosine similarity\n",
    "cosine_sim = cosine_similarity(combined_features, combined_features)"
   ]
  },
  {
   "cell_type": "markdown",
   "id": "77da7fc8-7918-48e4-b26a-da77b3fad0e4",
   "metadata": {},
   "source": [
    "### Recommender Based on Similiarities"
   ]
  },
  {
   "cell_type": "code",
   "execution_count": 8,
   "id": "1143bca7-0173-4507-b772-334c9c4606e1",
   "metadata": {},
   "outputs": [
    {
     "name": "stdout",
     "output_type": "stream",
     "text": [
      "39    Movie AN\n",
      "45    Movie AT\n",
      "25     Movie Z\n",
      "19     Movie T\n",
      "10     Movie K\n",
      "21     Movie V\n",
      "44    Movie AS\n",
      "43    Movie AR\n",
      "15     Movie P\n",
      "5      Movie F\n",
      "Name: title, dtype: object\n"
     ]
    }
   ],
   "source": [
    "def recommend_movies(movie_title, movies, cosine_sim):\n",
    "    # Get the index of the movie that matches the title\n",
    "    idx = movies[movies['title'] == movie_title].index[0]\n",
    "\n",
    "    # Get the pairwise similarity scores of all movies with that movie\n",
    "    sim_scores = list(enumerate(cosine_sim[idx]))\n",
    "\n",
    "    # Sort the movies based on the similarity scores\n",
    "    sim_scores = sorted(sim_scores, key=lambda x: x[1], reverse=True)\n",
    "\n",
    "    # Get the scores of the 10 most similar movies\n",
    "    sim_scores = sim_scores[1:11]\n",
    "\n",
    "    # Get the movie indices\n",
    "    movie_indices = [i[0] for i in sim_scores]\n",
    "\n",
    "    # Return the top 10 most similar movies\n",
    "    return movies['title'].iloc[movie_indices]\n",
    "\n",
    "# Example usage\n",
    "recommendationsS = recommend_movies('Movie A', movies, cosine_sim)\n",
    "print(recommendationsS)"
   ]
  },
  {
   "cell_type": "code",
   "execution_count": 9,
   "id": "150e7c81-17cb-4fa0-80c8-f7d4f5b79679",
   "metadata": {},
   "outputs": [
    {
     "data": {
      "text/html": [
       "<div>\n",
       "<style scoped>\n",
       "    .dataframe tbody tr th:only-of-type {\n",
       "        vertical-align: middle;\n",
       "    }\n",
       "\n",
       "    .dataframe tbody tr th {\n",
       "        vertical-align: top;\n",
       "    }\n",
       "\n",
       "    .dataframe thead th {\n",
       "        text-align: right;\n",
       "    }\n",
       "</style>\n",
       "<table border=\"1\" class=\"dataframe\">\n",
       "  <thead>\n",
       "    <tr style=\"text-align: right;\">\n",
       "      <th></th>\n",
       "      <th>movie_id</th>\n",
       "      <th>title</th>\n",
       "      <th>genres</th>\n",
       "      <th>plot_keywords</th>\n",
       "    </tr>\n",
       "  </thead>\n",
       "  <tbody>\n",
       "    <tr>\n",
       "      <th>0</th>\n",
       "      <td>1</td>\n",
       "      <td>Movie A</td>\n",
       "      <td>Action Adventure</td>\n",
       "      <td>hero, villain, fight</td>\n",
       "    </tr>\n",
       "  </tbody>\n",
       "</table>\n",
       "</div>"
      ],
      "text/plain": [
       "   movie_id    title            genres         plot_keywords\n",
       "0         1  Movie A  Action Adventure  hero, villain, fight"
      ]
     },
     "execution_count": 9,
     "metadata": {},
     "output_type": "execute_result"
    }
   ],
   "source": [
    "# Selecting \"Movie A\" from the movies DataFrame\n",
    "movieA = movies.loc[movies['title'] == 'Movie A']\n",
    "\n",
    "movieA"
   ]
  },
  {
   "cell_type": "code",
   "execution_count": 10,
   "id": "ef3c2e7d-3e5c-4e12-8f52-270e7c8de2ed",
   "metadata": {},
   "outputs": [
    {
     "data": {
      "text/html": [
       "<div>\n",
       "<style scoped>\n",
       "    .dataframe tbody tr th:only-of-type {\n",
       "        vertical-align: middle;\n",
       "    }\n",
       "\n",
       "    .dataframe tbody tr th {\n",
       "        vertical-align: top;\n",
       "    }\n",
       "\n",
       "    .dataframe thead th {\n",
       "        text-align: right;\n",
       "    }\n",
       "</style>\n",
       "<table border=\"1\" class=\"dataframe\">\n",
       "  <thead>\n",
       "    <tr style=\"text-align: right;\">\n",
       "      <th></th>\n",
       "      <th>movie_id</th>\n",
       "      <th>title</th>\n",
       "      <th>genres</th>\n",
       "      <th>plot_keywords</th>\n",
       "    </tr>\n",
       "  </thead>\n",
       "  <tbody>\n",
       "    <tr>\n",
       "      <th>39</th>\n",
       "      <td>40</td>\n",
       "      <td>Movie AN</td>\n",
       "      <td>Action Adventure Fantasy</td>\n",
       "      <td>hero, power, epic</td>\n",
       "    </tr>\n",
       "    <tr>\n",
       "      <th>45</th>\n",
       "      <td>46</td>\n",
       "      <td>Movie AT</td>\n",
       "      <td>Adventure Drama</td>\n",
       "      <td>adventure, quest, hero</td>\n",
       "    </tr>\n",
       "    <tr>\n",
       "      <th>25</th>\n",
       "      <td>26</td>\n",
       "      <td>Movie Z</td>\n",
       "      <td>Action Fantasy</td>\n",
       "      <td>hero, epic, fantasy</td>\n",
       "    </tr>\n",
       "    <tr>\n",
       "      <th>19</th>\n",
       "      <td>20</td>\n",
       "      <td>Movie T</td>\n",
       "      <td>Animation Adventure</td>\n",
       "      <td>animated, hero, journey</td>\n",
       "    </tr>\n",
       "    <tr>\n",
       "      <th>10</th>\n",
       "      <td>11</td>\n",
       "      <td>Movie K</td>\n",
       "      <td>Action Comedy</td>\n",
       "      <td>explosion, fun, partner</td>\n",
       "    </tr>\n",
       "    <tr>\n",
       "      <th>21</th>\n",
       "      <td>22</td>\n",
       "      <td>Movie V</td>\n",
       "      <td>Action Thriller</td>\n",
       "      <td>spy, chase, danger</td>\n",
       "    </tr>\n",
       "    <tr>\n",
       "      <th>44</th>\n",
       "      <td>45</td>\n",
       "      <td>Movie AS</td>\n",
       "      <td>Thriller Action</td>\n",
       "      <td>spy, thriller, danger</td>\n",
       "    </tr>\n",
       "    <tr>\n",
       "      <th>43</th>\n",
       "      <td>44</td>\n",
       "      <td>Movie AR</td>\n",
       "      <td>Comedy Adventure</td>\n",
       "      <td>fun, adventure, comedy</td>\n",
       "    </tr>\n",
       "    <tr>\n",
       "      <th>15</th>\n",
       "      <td>16</td>\n",
       "      <td>Movie P</td>\n",
       "      <td>Fantasy Adventure</td>\n",
       "      <td>magic, epic, quest</td>\n",
       "    </tr>\n",
       "    <tr>\n",
       "      <th>5</th>\n",
       "      <td>6</td>\n",
       "      <td>Movie F</td>\n",
       "      <td>Adventure Fantasy</td>\n",
       "      <td>journey, magic, creature</td>\n",
       "    </tr>\n",
       "  </tbody>\n",
       "</table>\n",
       "</div>"
      ],
      "text/plain": [
       "    movie_id     title                    genres             plot_keywords\n",
       "39        40  Movie AN  Action Adventure Fantasy         hero, power, epic\n",
       "45        46  Movie AT           Adventure Drama    adventure, quest, hero\n",
       "25        26   Movie Z            Action Fantasy       hero, epic, fantasy\n",
       "19        20   Movie T       Animation Adventure   animated, hero, journey\n",
       "10        11   Movie K             Action Comedy   explosion, fun, partner\n",
       "21        22   Movie V           Action Thriller        spy, chase, danger\n",
       "44        45  Movie AS           Thriller Action     spy, thriller, danger\n",
       "43        44  Movie AR          Comedy Adventure    fun, adventure, comedy\n",
       "15        16   Movie P         Fantasy Adventure        magic, epic, quest\n",
       "5          6   Movie F         Adventure Fantasy  journey, magic, creature"
      ]
     },
     "execution_count": 10,
     "metadata": {},
     "output_type": "execute_result"
    }
   ],
   "source": [
    "# Select specific rows from the original DataFrame using their indices\n",
    "indices = [39, 45, 25, 19, 10, 21, 44, 43, 15, 5]\n",
    "selected_movies_from_original = movies.iloc[indices]\n",
    "\n",
    "# Selected DataFrame\n",
    "selected_movies_from_original"
   ]
  },
  {
   "cell_type": "markdown",
   "id": "4e838e9f-4cd4-48de-b791-0bcff2c7169a",
   "metadata": {},
   "source": [
    "### Recommender Based on Key-words"
   ]
  },
  {
   "cell_type": "code",
   "execution_count": 11,
   "id": "5d8fd87c-88b1-461b-bf51-9ad6f329b963",
   "metadata": {},
   "outputs": [
    {
     "name": "stdout",
     "output_type": "stream",
     "text": [
      "9      Movie J\n",
      "27    Movie AB\n",
      "26    Movie AA\n",
      "23     Movie X\n",
      "47    Movie AV\n",
      "3      Movie D\n",
      "4      Movie E\n",
      "20     Movie U\n",
      "19     Movie T\n",
      "1      Movie B\n",
      "Name: title, dtype: object\n"
     ]
    }
   ],
   "source": [
    "# Recommender function\n",
    "def recommend_movies_by_keywords(input_keywords, movies, cosine_sim):\n",
    "    # Transform the input keywords to match the vectorizer's format\n",
    "    input_keywords_vec = tfidf_plot_keywords.transform([input_keywords]).toarray()\n",
    "    \n",
    "    # Use the same feature matrix as before for genres\n",
    "    input_combined_features = np.hstack([np.zeros(genres_matrix.shape[1]), input_keywords_vec.flatten()])\n",
    "\n",
    "    # Compute cosine similarity between input keywords and all movies\n",
    "    sim_scores = cosine_similarity([input_combined_features], combined_features).flatten()\n",
    "\n",
    "    # Get the indices of the most similar movies\n",
    "    sim_scores_indices = sim_scores.argsort()[-11:-1][::-1]  # Top 10 excluding the input itself\n",
    "\n",
    "    # Return the titles of the most similar movies\n",
    "    return movies['title'].iloc[sim_scores_indices]\n",
    "\n",
    "# Example usage\n",
    "input_keywords = \"secrets, history, true\"\n",
    "recommendationsk = recommend_movies_by_keywords(input_keywords, movies, cosine_sim)\n",
    "print(recommendationsk)"
   ]
  },
  {
   "cell_type": "code",
   "execution_count": 12,
   "id": "8860de7e-1b4d-4630-b3e0-1d41ace55197",
   "metadata": {},
   "outputs": [
    {
     "data": {
      "text/html": [
       "<div>\n",
       "<style scoped>\n",
       "    .dataframe tbody tr th:only-of-type {\n",
       "        vertical-align: middle;\n",
       "    }\n",
       "\n",
       "    .dataframe tbody tr th {\n",
       "        vertical-align: top;\n",
       "    }\n",
       "\n",
       "    .dataframe thead th {\n",
       "        text-align: right;\n",
       "    }\n",
       "</style>\n",
       "<table border=\"1\" class=\"dataframe\">\n",
       "  <thead>\n",
       "    <tr style=\"text-align: right;\">\n",
       "      <th></th>\n",
       "      <th>movie_id</th>\n",
       "      <th>title</th>\n",
       "      <th>genres</th>\n",
       "      <th>plot_keywords</th>\n",
       "    </tr>\n",
       "  </thead>\n",
       "  <tbody>\n",
       "    <tr>\n",
       "      <th>9</th>\n",
       "      <td>10</td>\n",
       "      <td>Movie J</td>\n",
       "      <td>Biography Drama</td>\n",
       "      <td>true, inspiring, history</td>\n",
       "    </tr>\n",
       "  </tbody>\n",
       "</table>\n",
       "</div>"
      ],
      "text/plain": [
       "   movie_id    title           genres             plot_keywords\n",
       "9        10  Movie J  Biography Drama  true, inspiring, history"
      ]
     },
     "execution_count": 12,
     "metadata": {},
     "output_type": "execute_result"
    }
   ],
   "source": [
    "# Selecting \"Movie J\" from the movies DataFrame\n",
    "selected_movie = movies.loc[movies['title'] == 'Movie J']\n",
    "\n",
    "selected_movie"
   ]
  }
 ],
 "metadata": {
  "kernelspec": {
   "display_name": "Python 3 (ipykernel)",
   "language": "python",
   "name": "python3"
  },
  "language_info": {
   "codemirror_mode": {
    "name": "ipython",
    "version": 3
   },
   "file_extension": ".py",
   "mimetype": "text/x-python",
   "name": "python",
   "nbconvert_exporter": "python",
   "pygments_lexer": "ipython3",
   "version": "3.11.7"
  }
 },
 "nbformat": 4,
 "nbformat_minor": 5
}
