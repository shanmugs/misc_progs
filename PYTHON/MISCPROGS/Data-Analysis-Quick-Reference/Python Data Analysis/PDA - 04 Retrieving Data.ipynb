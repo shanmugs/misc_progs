{
 "cells": [
  {
   "cell_type": "markdown",
   "metadata": {},
   "source": [
    "# Chapter 6 - Retrieving, Processing, and Storing Data"
   ]
  },
  {
   "cell_type": "code",
   "execution_count": 2,
   "metadata": {},
   "outputs": [],
   "source": [
    "import numpy as np\n",
    "import pandas as pd\n",
    "\n",
    "import seaborn as sns\n",
    "import matplotlib.pyplot as plt\n",
    "%matplotlib inline\n",
    "\n",
    "#import warnings\n",
    "#warnings.filterwarnings(\"ignore\")"
   ]
  },
  {
   "cell_type": "markdown",
   "metadata": {},
   "source": [
    "## Reading and writing CSV files with pandas"
   ]
  },
  {
   "cell_type": "code",
   "execution_count": 4,
   "metadata": {},
   "outputs": [
    {
     "data": {
      "text/html": [
       "<div>\n",
       "<style scoped>\n",
       "    .dataframe tbody tr th:only-of-type {\n",
       "        vertical-align: middle;\n",
       "    }\n",
       "\n",
       "    .dataframe tbody tr th {\n",
       "        vertical-align: top;\n",
       "    }\n",
       "\n",
       "    .dataframe thead th {\n",
       "        text-align: right;\n",
       "    }\n",
       "</style>\n",
       "<table border=\"1\" class=\"dataframe\">\n",
       "  <thead>\n",
       "    <tr style=\"text-align: right;\">\n",
       "      <th></th>\n",
       "      <th>satisfaction_level</th>\n",
       "      <th>last_evaluation</th>\n",
       "      <th>number_project</th>\n",
       "      <th>average_montly_hours</th>\n",
       "      <th>time_spend_company</th>\n",
       "      <th>Work_accident</th>\n",
       "      <th>left</th>\n",
       "      <th>promotion_last_5years</th>\n",
       "      <th>sales</th>\n",
       "      <th>salary</th>\n",
       "    </tr>\n",
       "  </thead>\n",
       "  <tbody>\n",
       "    <tr>\n",
       "      <th>0</th>\n",
       "      <td>0.38</td>\n",
       "      <td>0.53</td>\n",
       "      <td>2</td>\n",
       "      <td>157</td>\n",
       "      <td>3</td>\n",
       "      <td>0</td>\n",
       "      <td>1</td>\n",
       "      <td>0</td>\n",
       "      <td>sales</td>\n",
       "      <td>low</td>\n",
       "    </tr>\n",
       "    <tr>\n",
       "      <th>1</th>\n",
       "      <td>0.80</td>\n",
       "      <td>0.86</td>\n",
       "      <td>5</td>\n",
       "      <td>262</td>\n",
       "      <td>6</td>\n",
       "      <td>0</td>\n",
       "      <td>1</td>\n",
       "      <td>0</td>\n",
       "      <td>sales</td>\n",
       "      <td>medium</td>\n",
       "    </tr>\n",
       "    <tr>\n",
       "      <th>2</th>\n",
       "      <td>0.11</td>\n",
       "      <td>0.88</td>\n",
       "      <td>7</td>\n",
       "      <td>272</td>\n",
       "      <td>4</td>\n",
       "      <td>0</td>\n",
       "      <td>1</td>\n",
       "      <td>0</td>\n",
       "      <td>sales</td>\n",
       "      <td>medium</td>\n",
       "    </tr>\n",
       "    <tr>\n",
       "      <th>3</th>\n",
       "      <td>0.72</td>\n",
       "      <td>0.87</td>\n",
       "      <td>5</td>\n",
       "      <td>223</td>\n",
       "      <td>5</td>\n",
       "      <td>0</td>\n",
       "      <td>1</td>\n",
       "      <td>0</td>\n",
       "      <td>sales</td>\n",
       "      <td>low</td>\n",
       "    </tr>\n",
       "    <tr>\n",
       "      <th>4</th>\n",
       "      <td>0.37</td>\n",
       "      <td>0.52</td>\n",
       "      <td>2</td>\n",
       "      <td>159</td>\n",
       "      <td>3</td>\n",
       "      <td>0</td>\n",
       "      <td>1</td>\n",
       "      <td>0</td>\n",
       "      <td>sales</td>\n",
       "      <td>low</td>\n",
       "    </tr>\n",
       "  </tbody>\n",
       "</table>\n",
       "</div>"
      ],
      "text/plain": [
       "   satisfaction_level  last_evaluation  number_project  average_montly_hours  \\\n",
       "0                0.38             0.53               2                   157   \n",
       "1                0.80             0.86               5                   262   \n",
       "2                0.11             0.88               7                   272   \n",
       "3                0.72             0.87               5                   223   \n",
       "4                0.37             0.52               2                   159   \n",
       "\n",
       "   time_spend_company  Work_accident  left  promotion_last_5years  sales  \\\n",
       "0                   3              0     1                      0  sales   \n",
       "1                   6              0     1                      0  sales   \n",
       "2                   4              0     1                      0  sales   \n",
       "3                   5              0     1                      0  sales   \n",
       "4                   3              0     1                      0  sales   \n",
       "\n",
       "   salary  \n",
       "0     low  \n",
       "1  medium  \n",
       "2  medium  \n",
       "3     low  \n",
       "4     low  "
      ]
     },
     "execution_count": 4,
     "metadata": {},
     "output_type": "execute_result"
    }
   ],
   "source": [
    "# Real link: https://github.com/PacktPublishing/Python-Data-Analysis-Third-Edition/blob/master/Chapter05/HR_comma_sep.csv\n",
    "\n",
    "# Use the raw link to access the actual CSV file\n",
    "url = \"https://raw.githubusercontent.com/PacktPublishing/Python-Data-Analysis-Third-Edition/master/Chapter05/HR_comma_sep.csv\"\n",
    "\n",
    "# Reading the CSV file\n",
    "data = pd.read_csv(url)\n",
    "\n",
    "# Display the first few rows of the DataFrame\n",
    "data.head()"
   ]
  },
  {
   "cell_type": "markdown",
   "metadata": {},
   "source": [
    "```Python\n",
    "# Read CSV file\n",
    "data = pd.read_csv('data/demo.csv', sep=',' , header=None)\n",
    "\n",
    "# Save DataFrame to CSV file\n",
    "data.to_csv('data/demo_sample_df.csv')\n",
    "```"
   ]
  },
  {
   "cell_type": "markdown",
   "metadata": {},
   "source": [
    "## Reading and writing data from Excel"
   ]
  },
  {
   "cell_type": "markdown",
   "metadata": {},
   "source": [
    "```Python\n",
    "# Read excel file\n",
    "df = pd.read_excel('employee.xlsx',sheet_name='performance')\n",
    "\n",
    "# Write excel file\n",
    "df.to_excel('employee_performance.xlsx')\n",
    "```"
   ]
  },
  {
   "cell_type": "markdown",
   "metadata": {},
   "source": [
    "We can also export multiple DataFrames in a single file with different sheet names. We can\n",
    "also write more than one DataFrame in a single Excel file (each DataFrame on different\n",
    "sheets) using `ExcelWriter`, as shown:"
   ]
  },
  {
   "cell_type": "markdown",
   "metadata": {},
   "source": [
    "```Python\n",
    "# Read excel file\n",
    "emp_df = pd.read_excel('data/employee.xlsx',sheet_name='employee_details')\n",
    "\n",
    "# write multiple dataframes to single excel file\n",
    "with pd.ExcelWriter('data/new_employee_details.xlsx') as writer:\n",
    "    emp_df.to_excel(writer, sheet_name='employee')\n",
    "    df.to_excel(writer, sheet_name='perfromance')\n",
    "```"
   ]
  },
  {
   "cell_type": "markdown",
   "metadata": {},
   "source": [
    "## Reading and writing data from JSON"
   ]
  },
  {
   "cell_type": "markdown",
   "metadata": {},
   "source": [
    "```Python\n",
    "# Reading JSON file\n",
    "df = pd.read_json('data/employee.json')\n",
    "\n",
    "# Writing DataFrame to JSON file\n",
    "df.to_json('data/employee_demo.json',orient=\"columns\")\n",
    "```"
   ]
  },
  {
   "cell_type": "markdown",
   "metadata": {},
   "source": [
    "## Reading and writing data from HTML tables"
   ]
  },
  {
   "cell_type": "code",
   "execution_count": 13,
   "metadata": {},
   "outputs": [
    {
     "name": "stdout",
     "output_type": "stream",
     "text": [
      "Number of DataFrames: 9\n"
     ]
    }
   ],
   "source": [
    "# Reading HTML table from given URL\n",
    "table_url ='https://en.wikipedia.org/wiki/List_of_sovereign_states_and_dependent_territories_in_North_America'\n",
    "\n",
    "df_list = pd.read_html(table_url)\n",
    "\n",
    "print(\"Number of DataFrames:\",len(df_list))"
   ]
  },
  {
   "cell_type": "code",
   "execution_count": 14,
   "metadata": {},
   "outputs": [
    {
     "data": {
      "text/html": [
       "<div>\n",
       "<style scoped>\n",
       "    .dataframe tbody tr th:only-of-type {\n",
       "        vertical-align: middle;\n",
       "    }\n",
       "\n",
       "    .dataframe tbody tr th {\n",
       "        vertical-align: top;\n",
       "    }\n",
       "\n",
       "    .dataframe thead th {\n",
       "        text-align: right;\n",
       "    }\n",
       "</style>\n",
       "<table border=\"1\" class=\"dataframe\">\n",
       "  <thead>\n",
       "    <tr style=\"text-align: right;\">\n",
       "      <th></th>\n",
       "      <th>Flag</th>\n",
       "      <th>Map</th>\n",
       "      <th>English short, formal names, and ISO [1][2][3][4]</th>\n",
       "      <th>Domestic short and formal name(s) [1][2]</th>\n",
       "      <th>Capital [3][5][6]</th>\n",
       "      <th>Population 2021 [7][8]</th>\n",
       "      <th>Area [9]</th>\n",
       "      <th>Currency [3]</th>\n",
       "    </tr>\n",
       "  </thead>\n",
       "  <tbody>\n",
       "    <tr>\n",
       "      <th>0</th>\n",
       "      <td>NaN</td>\n",
       "      <td>NaN</td>\n",
       "      <td>Antigua and Barbuda[n 1] ATG</td>\n",
       "      <td>English: Antigua and Barbuda</td>\n",
       "      <td>St. John's</td>\n",
       "      <td>93219</td>\n",
       "      <td>442.6 km2 (171 sq mi)</td>\n",
       "      <td>East Caribbean dollar</td>\n",
       "    </tr>\n",
       "    <tr>\n",
       "      <th>1</th>\n",
       "      <td>NaN</td>\n",
       "      <td>NaN</td>\n",
       "      <td>The Bahamas[n 1] Commonwealth of The Bahamas BHS</td>\n",
       "      <td>English: The Bahamas—Commonwealth of The Bahamas</td>\n",
       "      <td>Nassau</td>\n",
       "      <td>407906</td>\n",
       "      <td>13,940 km2 (5,382 sq mi)</td>\n",
       "      <td>Bahamian dollar</td>\n",
       "    </tr>\n",
       "    <tr>\n",
       "      <th>2</th>\n",
       "      <td>NaN</td>\n",
       "      <td>NaN</td>\n",
       "      <td>Barbados[n 1] BRB</td>\n",
       "      <td>English: Barbados</td>\n",
       "      <td>Bridgetown</td>\n",
       "      <td>281200</td>\n",
       "      <td>431 km2 (166 sq mi)</td>\n",
       "      <td>Barbadian dollar</td>\n",
       "    </tr>\n",
       "    <tr>\n",
       "      <th>3</th>\n",
       "      <td>NaN</td>\n",
       "      <td>NaN</td>\n",
       "      <td>Belize[n 1][n 2] BLZ</td>\n",
       "      <td>English: Belize</td>\n",
       "      <td>Belmopan</td>\n",
       "      <td>400031</td>\n",
       "      <td>22,966 km2 (8,867 sq mi)</td>\n",
       "      <td>Belize dollar</td>\n",
       "    </tr>\n",
       "    <tr>\n",
       "      <th>4</th>\n",
       "      <td>NaN</td>\n",
       "      <td>NaN</td>\n",
       "      <td>Canada[n 3] CAN</td>\n",
       "      <td>English: Canada French: Canada</td>\n",
       "      <td>Ottawa</td>\n",
       "      <td>38155012</td>\n",
       "      <td>9,984,670 km2 (3,855,103 sq mi)</td>\n",
       "      <td>Canadian dollar</td>\n",
       "    </tr>\n",
       "  </tbody>\n",
       "</table>\n",
       "</div>"
      ],
      "text/plain": [
       "   Flag  Map English short, formal names, and ISO [1][2][3][4]  \\\n",
       "0   NaN  NaN                      Antigua and Barbuda[n 1] ATG   \n",
       "1   NaN  NaN  The Bahamas[n 1] Commonwealth of The Bahamas BHS   \n",
       "2   NaN  NaN                                 Barbados[n 1] BRB   \n",
       "3   NaN  NaN                              Belize[n 1][n 2] BLZ   \n",
       "4   NaN  NaN                                   Canada[n 3] CAN   \n",
       "\n",
       "           Domestic short and formal name(s) [1][2] Capital [3][5][6]  \\\n",
       "0                      English: Antigua and Barbuda        St. John's   \n",
       "1  English: The Bahamas—Commonwealth of The Bahamas            Nassau   \n",
       "2                                 English: Barbados        Bridgetown   \n",
       "3                                   English: Belize          Belmopan   \n",
       "4                    English: Canada French: Canada            Ottawa   \n",
       "\n",
       "   Population 2021 [7][8]                         Area [9]  \\\n",
       "0                   93219            442.6 km2 (171 sq mi)   \n",
       "1                  407906         13,940 km2 (5,382 sq mi)   \n",
       "2                  281200              431 km2 (166 sq mi)   \n",
       "3                  400031         22,966 km2 (8,867 sq mi)   \n",
       "4                38155012  9,984,670 km2 (3,855,103 sq mi)   \n",
       "\n",
       "            Currency [3]  \n",
       "0  East Caribbean dollar  \n",
       "1        Bahamian dollar  \n",
       "2       Barbadian dollar  \n",
       "3          Belize dollar  \n",
       "4        Canadian dollar  "
      ]
     },
     "execution_count": 14,
     "metadata": {},
     "output_type": "execute_result"
    }
   ],
   "source": [
    "# Check first DataFrame\n",
    "df_list[0].head()"
   ]
  },
  {
   "cell_type": "code",
   "execution_count": 15,
   "metadata": {},
   "outputs": [],
   "source": [
    "# Write DataFrame to raw HTML\n",
    "df_list[1].to_html('data/country.html')"
   ]
  },
  {
   "cell_type": "markdown",
   "metadata": {},
   "source": [
    "With the preceding code example, we can convert any DataFrame into an HTML page that\n",
    "contains the DataFrame as a table."
   ]
  },
  {
   "cell_type": "markdown",
   "metadata": {},
   "source": [
    "## Reading and writing data from a picklepandas object"
   ]
  },
  {
   "cell_type": "markdown",
   "metadata": {},
   "source": [
    "```Python\n",
    "# import pandas\n",
    "import pandas as pd\n",
    "\n",
    "# Read CSV file\n",
    "df=pd.read_csv('demo.csv', sep=',' , header=None)\n",
    "\n",
    "# Save DataFrame object in pickle file\n",
    "df.to_pickle('demo_obj.pkl')\n",
    "```"
   ]
  },
  {
   "cell_type": "markdown",
   "metadata": {},
   "source": [
    "In the preceding code, we read the demo.csv file using the `read_csv()` method with\n",
    "sep and header parameters. Here, we have assigned sep with a comma and header with\n",
    "None. Finally, we have written the dataset to a pickle object using the `to_pickle()`\n",
    "method. Let's see how to read pickle objects using the pandas library:"
   ]
  },
  {
   "cell_type": "markdown",
   "metadata": {},
   "source": [
    "```Python\n",
    "#Read DataFrame object from pickle file\n",
    "pickle_obj=pd.read_pickle('demo_obj.pkl')\n",
    "\n",
    "# display initial 5 records\r",
    "pickle_obj.head()\n",
    "```"
   ]
  },
  {
   "cell_type": "markdown",
   "metadata": {},
   "source": [
    "### Lightweight access with sqllite3"
   ]
  },
  {
   "cell_type": "code",
   "execution_count": 22,
   "metadata": {},
   "outputs": [
    {
     "name": "stdout",
     "output_type": "stream",
     "text": [
      "[(105, 57000)]\n"
     ]
    }
   ],
   "source": [
    "# Import sqlite3\n",
    "import sqlite3\n",
    "\n",
    "# Create connection. This will create the connection with employee database. If the database does not exist it will create the database\n",
    "conn = sqlite3.connect('data/employee.db')\n",
    "\n",
    "# Create cursor\n",
    "cur = conn.cursor()\n",
    "\n",
    "# Execute SQL query and create the database table\n",
    "cur.execute(\"create table emp(eid int,salary int)\")\n",
    "\n",
    "# Execute SQL query and Write the data into database\n",
    "cur.execute(\"insert into emp values(105, 57000)\")\n",
    "\n",
    "# commit the transaction\n",
    "conn.commit()\n",
    "\n",
    "# Execute SQL query and Read the data from the database\n",
    "cur.execute('select * from emp')\n",
    "\n",
    "# Fetch records\n",
    "print(cur.fetchall())\n",
    "\n",
    "# Close the Database connection\n",
    "conn.close()"
   ]
  }
 ],
 "metadata": {
  "kernelspec": {
   "display_name": "Python 3 (ipykernel)",
   "language": "python",
   "name": "python3"
  },
  "language_info": {
   "codemirror_mode": {
    "name": "ipython",
    "version": 3
   },
   "file_extension": ".py",
   "mimetype": "text/x-python",
   "name": "python",
   "nbconvert_exporter": "python",
   "pygments_lexer": "ipython3",
   "version": "3.11.7"
  }
 },
 "nbformat": 4,
 "nbformat_minor": 4
}
