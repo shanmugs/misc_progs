{
 "cells": [
  {
   "cell_type": "markdown",
   "metadata": {},
   "source": [
    "# Chapter 12 - Analyzing Textual Data"
   ]
  },
  {
   "cell_type": "code",
   "execution_count": 2,
   "metadata": {},
   "outputs": [],
   "source": [
    "import numpy as np\n",
    "import pandas as pd\n",
    "\n",
    "import seaborn as sns\n",
    "import matplotlib.pyplot as plt\n",
    "%matplotlib inline\n",
    "\n",
    "#import warnings\n",
    "#warnings.filterwarnings(\"ignore\")"
   ]
  },
  {
   "cell_type": "code",
   "execution_count": 3,
   "metadata": {},
   "outputs": [],
   "source": [
    "# Input text\n",
    "\n",
    "paragraph = \"\"\"Taj Mahal is one of the beautiful monuments. It is one of the wonders of the world. \\\n",
    "It was built by Shah Jahan in 1631 in memory of his third beloved wife Mumtaj Mahal.\"\"\""
   ]
  },
  {
   "cell_type": "code",
   "execution_count": 4,
   "metadata": {},
   "outputs": [
    {
     "name": "stdout",
     "output_type": "stream",
     "text": [
      "Taj Mahal is one of the beautiful monuments. It is one of the wonders of the world. It was built by Shah Jahan in 1631 in memory of his third beloved wife Mumtaj Mahal.\n"
     ]
    }
   ],
   "source": [
    "print(paragraph)"
   ]
  },
  {
   "cell_type": "code",
   "execution_count": 5,
   "metadata": {},
   "outputs": [
    {
     "name": "stdout",
     "output_type": "stream",
     "text": [
      "taj mahal is one of the beautiful monuments. it is one of the wonders of the world. it was built by shah jahan in 1631 in memory of his third beloved wife mumtaj mahal.\n"
     ]
    }
   ],
   "source": [
    "# Converting paragraph in lowercase\n",
    "print(paragraph.lower())"
   ]
  },
  {
   "cell_type": "code",
   "execution_count": 6,
   "metadata": {},
   "outputs": [
    {
     "data": {
      "text/plain": [
       "True"
      ]
     },
     "execution_count": 6,
     "metadata": {},
     "output_type": "execute_result"
    }
   ],
   "source": [
    "import nltk\n",
    "\n",
    "# Download necessary NLTK data quietly\n",
    "nltk.download('punkt', quiet=True)\n",
    "nltk.download('stopwords', quiet=True)\n",
    "nltk.download('wordnet', quiet=True)\n",
    "nltk.download('averaged_perceptron_tagger', quiet=True)"
   ]
  },
  {
   "cell_type": "code",
   "execution_count": 7,
   "metadata": {},
   "outputs": [
    {
     "name": "stdout",
     "output_type": "stream",
     "text": [
      "['Taj Mahal is one of the beautiful monuments.', 'It is one of the wonders of the world.', 'It was built by Shah Jahan in 1631 in memory of his third beloved wife Mumtaj Mahal.']\n"
     ]
    }
   ],
   "source": [
    "from nltk.tokenize import sent_tokenize\n",
    "\n",
    "tokenized_sentences = sent_tokenize(paragraph)\n",
    "\n",
    "print(tokenized_sentences)"
   ]
  },
  {
   "cell_type": "markdown",
   "metadata": {},
   "source": [
    "Let's tokenize the paragraph into sentences using spaCy:"
   ]
  },
  {
   "cell_type": "code",
   "execution_count": 9,
   "metadata": {},
   "outputs": [
    {
     "name": "stdout",
     "output_type": "stream",
     "text": [
      "['Taj Mahal is one of the beautiful monuments.', 'It is one of the wonders of the world.', 'It was built by Shah Jahan in 1631 in memory of his third beloved wife Mumtaj Mahal.']\n"
     ]
    }
   ],
   "source": [
    "import spacy\n",
    "\n",
    "# Loading English language model\n",
    "nlp = spacy.load(\"en_core_web_sm\")\n",
    "\n",
    "# Append the 'sentencizer' component to the nlp pipeline\n",
    "nlp.add_pipe('sentencizer')\n",
    "\n",
    "paragraph = \"\"\"Taj Mahal is one of the beautiful monuments. It is one of \\\n",
    "the wonders of the world. It was built by Shah Jahan in 1631 in memory of \\\n",
    "his third beloved wife Mumtaj Mahal.\"\"\"\n",
    "\n",
    "# Create nlp object to handle linguistic annotations in a document\n",
    "nlp_doc = nlp(paragraph)\n",
    "\n",
    "# Generate list of tokenized sentences\n",
    "tokenized_sentences = [sentence.text for sentence in nlp_doc.sents]\n",
    "\n",
    "print(tokenized_sentences)"
   ]
  },
  {
   "cell_type": "code",
   "execution_count": 10,
   "metadata": {},
   "outputs": [
    {
     "name": "stdout",
     "output_type": "stream",
     "text": [
      "['Taj', 'Mahal', 'is', 'one', 'of', 'the', 'beautiful', 'monuments', '.', 'It', 'is', 'one', 'of', 'the', 'wonders', 'of', 'the', 'world', '.', 'It', 'was', 'built', 'by', 'Shah', 'Jahan', 'in', '1631', 'in', 'memory', 'of', 'his', 'third', 'beloved', 'wife', 'Mumtaj', 'Mahal', '.']\n"
     ]
    }
   ],
   "source": [
    "from nltk.tokenize import word_tokenize\n",
    "\n",
    "# Split paragraph into words\n",
    "tokenized_words = word_tokenize(paragraph)\n",
    "\n",
    "print(tokenized_words)"
   ]
  },
  {
   "cell_type": "markdown",
   "metadata": {},
   "source": [
    "Let's tokenize the paragraph into words using spaCy:"
   ]
  },
  {
   "cell_type": "code",
   "execution_count": 12,
   "metadata": {},
   "outputs": [
    {
     "name": "stdout",
     "output_type": "stream",
     "text": [
      "['Taj', 'Mahal', 'is', 'one', 'of', 'the', 'beautiful', 'monuments', '.', 'It', 'is', 'one', 'of', 'the', 'wonders', 'of', 'the', 'world', '.', 'It', 'was', 'built', 'by', 'Shah', 'Jahan', 'in', '1631', 'in', 'memory', 'of', 'his', 'third', 'beloved', 'wife', 'Mumtaj', 'Mahal', '.']\n"
     ]
    }
   ],
   "source": [
    "paragraph = \"\"\"Taj Mahal is one of the beautiful monuments. It is one of \\\n",
    "the wonders of the world. It was built by Shah Jahan in 1631 in memory of \\\n",
    "his third beloved wife Mumtaj Mahal.\"\"\"\n",
    "\n",
    "# Create nlp Object to handle linguistic annotations in a documents.\n",
    "my_doc = nlp(paragraph)\n",
    "\n",
    "# tokenize paragraph into words\n",
    "tokenized_words = []\n",
    "for token in my_doc:\n",
    "    tokenized_words.append(token.text)\n",
    "print(tokenized_words)"
   ]
  },
  {
   "cell_type": "markdown",
   "metadata": {},
   "source": [
    "Let's create the frequency distribution of tokenized words:"
   ]
  },
  {
   "cell_type": "code",
   "execution_count": 14,
   "metadata": {},
   "outputs": [
    {
     "data": {
      "text/plain": [
       "[('of', 4), ('the', 3), ('.', 3), ('Mahal', 2), ('is', 2)]"
      ]
     },
     "execution_count": 14,
     "metadata": {},
     "output_type": "execute_result"
    }
   ],
   "source": [
    "from nltk.probability import FreqDist\n",
    "\n",
    "# Find frequency distribution of paragraph\n",
    "fdist = FreqDist(tokenized_words)\n",
    "\n",
    "# Check top 5 common words\n",
    "fdist.most_common(5)"
   ]
  },
  {
   "cell_type": "code",
   "execution_count": 15,
   "metadata": {},
   "outputs": [
    {
     "data": {
      "image/png": "[encoded data removed]",
      "text/plain": [
       "<Figure size 640x480 with 1 Axes>"
      ]
     },
     "metadata": {},
     "output_type": "display_data"
    }
   ],
   "source": [
    "import matplotlib.pyplot as plt\n",
    "\n",
    "# Plot Frequency Distribution\n",
    "fdist.plot(20, cumulative=False)\n",
    "plt.show()"
   ]
  },
  {
   "cell_type": "markdown",
   "metadata": {},
   "source": [
    "### Removing Stopwords"
   ]
  },
  {
   "cell_type": "code",
   "execution_count": 17,
   "metadata": {},
   "outputs": [
    {
     "name": "stdout",
     "output_type": "stream",
     "text": [
      "Tokenized Word List: ['Taj', 'Mahal', 'is', 'one', 'of', 'the', 'beautiful', 'monuments', '.', 'It', 'is', 'one', 'of', 'the', 'wonders', 'of', 'the', 'world', '.', 'It', 'was', 'built', 'by', 'Shah', 'Jahan', 'in', '1631', 'in', 'memory', 'of', 'his', 'third', 'beloved', 'wife', 'Mumtaj', 'Mahal', '.']\n",
      "\n",
      "Filtered Word List: ['Taj', 'Mahal', 'one', 'beautiful', 'monuments', '.', 'It', 'one', 'wonders', 'world', '.', 'It', 'built', 'Shah', 'Jahan', '1631', 'memory', 'third', 'beloved', 'wife', 'Mumtaj', 'Mahal', '.']\n"
     ]
    }
   ],
   "source": [
    "from nltk.corpus import stopwords\n",
    "\n",
    "# Load english stopwords list\n",
    "stopwords_set = set(stopwords.words(\"english\"))\n",
    "\n",
    "# Removing stopwords from text\n",
    "filtered_word_list = []\n",
    "for word in tokenized_words:\n",
    "    # filter stopwords\n",
    "    if word not in stopwords_set:\n",
    "        filtered_word_list.append(word)\n",
    "        \n",
    "print(\"Tokenized Word List:\", tokenized_words)\n",
    "print()\n",
    "print(\"Filtered Word List:\", filtered_word_list)"
   ]
  },
  {
   "cell_type": "code",
   "execution_count": 18,
   "metadata": {},
   "outputs": [
    {
     "name": "stdout",
     "output_type": "stream",
     "text": [
      "All tokenized words: 37\n",
      "   After the filter: 23\n"
     ]
    }
   ],
   "source": [
    "print(\"All tokenized words:\",len(tokenized_words))\n",
    "print(\"   After the filter:\",len(filtered_word_list))"
   ]
  },
  {
   "cell_type": "markdown",
   "metadata": {},
   "source": [
    "Let's see how to remove stopwords using spaCy:"
   ]
  },
  {
   "cell_type": "code",
   "execution_count": 20,
   "metadata": {},
   "outputs": [
    {
     "name": "stdout",
     "output_type": "stream",
     "text": [
      "Filtered Word List: [Taj, Mahal, beautiful, monuments, ., wonders, world, ., built, Shah, Jahan, 1631, memory, beloved, wife, Mumtaj, Mahal, .]\n"
     ]
    }
   ],
   "source": [
    "# Create nlp Object to handle linguistic annotations in a documents.\n",
    "my_doc = nlp(paragraph)\n",
    "\n",
    "# Removing stopwords from text\n",
    "filtered_token_list = []\n",
    "for token in my_doc:\n",
    "    # filter stopwords\n",
    "    if token.is_stop==False:\n",
    "        filtered_token_list.append(token)\n",
    "        \n",
    "print(\"Filtered Word List:\",filtered_token_list)"
   ]
  },
  {
   "cell_type": "code",
   "execution_count": 21,
   "metadata": {},
   "outputs": [
    {
     "name": "stdout",
     "output_type": "stream",
     "text": [
      "After the spaCy filter: 18\n"
     ]
    }
   ],
   "source": [
    "print(\"After the spaCy filter:\",len(filtered_token_list))"
   ]
  },
  {
   "cell_type": "code",
   "execution_count": 22,
   "metadata": {},
   "outputs": [
    {
     "name": "stdout",
     "output_type": "stream",
     "text": [
      "Elements in filtered_word_list but not in filtered_token_list:\n",
      " ['one', 'It', 'one', 'It', 'third']\n",
      "\n",
      "Elements in filtered_token_list but not in filtered_word_list:\n",
      " []\n"
     ]
    }
   ],
   "source": [
    "# Convert all elements in both lists to strings\n",
    "filtered_word_list = [str(word) for word in filtered_word_list]\n",
    "filtered_token_list = [str(token) for token in filtered_token_list]\n",
    "\n",
    "# Find elements in `filtered_word_list` that are not in `filtered_token_list`\n",
    "difference_list_1 = [word for word in filtered_word_list if word not in filtered_token_list]\n",
    "\n",
    "# Find elements in `filtered_token_list` that are not in `filtered_word_list`\n",
    "difference_list_2 = [token for token in filtered_token_list if token not in filtered_word_list]\n",
    "\n",
    "# Print the differences\n",
    "print(\"Elements in filtered_word_list but not in filtered_token_list:\\n\", difference_list_1)\n",
    "print()\n",
    "print(\"Elements in filtered_token_list but not in filtered_word_list:\\n\", difference_list_2)"
   ]
  },
  {
   "cell_type": "markdown",
   "metadata": {},
   "source": [
    "### Stemming and Lemmatization"
   ]
  },
  {
   "cell_type": "code",
   "execution_count": 24,
   "metadata": {},
   "outputs": [
    {
     "name": "stdout",
     "output_type": "stream",
     "text": [
      "Lemmatized Sample Word: cry\n",
      "   Stemmed Sample Word: cri\n"
     ]
    }
   ],
   "source": [
    "from nltk.stem.wordnet import WordNetLemmatizer # Import Lemmatizer\n",
    "from nltk.stem.porter import PorterStemmer      # Import Porter Stemmer\n",
    "\n",
    "\n",
    "lemmatizer = WordNetLemmatizer() # Create lemmatizer object\n",
    "stemmer = PorterStemmer()        # Create stemmer object\n",
    "\n",
    "# take a sample word\n",
    "sample_word = \"crying\"\n",
    "\n",
    "print(\"Lemmatized Sample Word:\", lemmatizer.lemmatize(sample_word, \"v\"))\n",
    "print(\"   Stemmed Sample Word:\", stemmer.stem(sample_word))"
   ]
  },
  {
   "cell_type": "markdown",
   "metadata": {},
   "source": [
    "Let's see how to get lemmatized words using spaCy:"
   ]
  },
  {
   "cell_type": "code",
   "execution_count": 26,
   "metadata": {},
   "outputs": [
    {
     "name": "stdout",
     "output_type": "stream",
     "text": [
      "Original Word:  cry\n",
      "Lemmatized Word:  cry\n",
      "\n",
      "Original Word:  cries\n",
      "Lemmatized Word:  cry\n",
      "\n",
      "Original Word:  crying\n",
      "Lemmatized Word:  cry\n",
      "\n"
     ]
    }
   ],
   "source": [
    "import spacy\n",
    "\n",
    "nlp = spacy.load(\"en_core_web_sm\")  # Loading english language model\n",
    "words = nlp(\"cry cries crying\")     # Create nlp Object to handle linguistic annotations in documents.\n",
    "\n",
    "# Find lemmatized word\n",
    "for w in words:\n",
    "    print('Original Word: ', w.text)\n",
    "    print('Lemmatized Word: ',w.lemma_)\n",
    "    print()"
   ]
  },
  {
   "cell_type": "code",
   "execution_count": 27,
   "metadata": {},
   "outputs": [
    {
     "data": {
      "text/plain": [
       "cry cries crying"
      ]
     },
     "execution_count": 27,
     "metadata": {},
     "output_type": "execute_result"
    }
   ],
   "source": [
    "words"
   ]
  },
  {
   "cell_type": "code",
   "execution_count": 28,
   "metadata": {},
   "outputs": [
    {
     "data": {
      "text/plain": [
       "spacy.tokens.doc.Doc"
      ]
     },
     "execution_count": 28,
     "metadata": {},
     "output_type": "execute_result"
    }
   ],
   "source": [
    "type(words)"
   ]
  },
  {
   "cell_type": "markdown",
   "metadata": {},
   "source": [
    "### POS Tagging"
   ]
  },
  {
   "cell_type": "markdown",
   "metadata": {},
   "source": [
    "PoS stands for part of speech. The main objective of POS tagging is to discover the syntactic\n",
    "type of words, such as nouns, pronouns, adjectives, verbs, adverbs, and prepositions.\n",
    "PoS tagging finds the relationship among words within a sentence."
   ]
  },
  {
   "cell_type": "code",
   "execution_count": 31,
   "metadata": {},
   "outputs": [
    {
     "name": "stdout",
     "output_type": "stream",
     "text": [
      "[('Taj', 'NNP'), ('Mahal', 'NNP'), ('is', 'VBZ'), ('one', 'CD'), ('of', 'IN'), ('the', 'DT'), ('beautiful', 'JJ'), ('monument', 'NN'), ('.', '.')]\n"
     ]
    }
   ],
   "source": [
    "from nltk.tokenize import word_tokenize\n",
    "from nltk import pos_tag\n",
    "\n",
    "# Sample sentence\n",
    "sentence = \"Taj Mahal is one of the beautiful monument.\"\n",
    "\n",
    "# Tokenize the sentence\n",
    "sent_tokens = word_tokenize(sentence)\n",
    "\n",
    "# Create PoS tags\n",
    "sent_pos = pos_tag(sent_tokens)\n",
    "\n",
    "# Print tokens with PoS\n",
    "print(sent_pos)"
   ]
  },
  {
   "cell_type": "code",
   "execution_count": 32,
   "metadata": {},
   "outputs": [
    {
     "name": "stdout",
     "output_type": "stream",
     "text": [
      "Description for 'NNP':\n",
      "NNP: noun, proper, singular\n",
      "    Motown Venneboerger Czestochwa Ranzer Conchita Trumplane Christos\n",
      "    Oceanside Escobar Kreisler Sawyer Cougar Yvette Ervin ODI Darryl CTCA\n",
      "    Shannon A.K.C. Meltex Liverpool ...\n",
      "\n",
      "--------------------------------------------------\n",
      "\n",
      "Description for 'VBZ':\n",
      "VBZ: verb, present tense, 3rd person singular\n",
      "    bases reconstructs marks mixes displeases seals carps weaves snatches\n",
      "    slumps stretches authorizes smolders pictures emerges stockpiles\n",
      "    seduces fizzes uses bolsters slaps speaks pleads ...\n",
      "\n",
      "--------------------------------------------------\n",
      "\n",
      "Description for 'CD':\n",
      "CD: numeral, cardinal\n",
      "    mid-1890 nine-thirty forty-two one-tenth ten million 0.5 one forty-\n",
      "    seven 1987 twenty '79 zero two 78-degrees eighty-four IX '60s .025\n",
      "    fifteen 271,124 dozen quintillion DM2,000 ...\n",
      "\n",
      "--------------------------------------------------\n",
      "\n"
     ]
    }
   ],
   "source": [
    "from nltk.help import upenn_tagset\n",
    "\n",
    "# List of POS tags you want to know the meaning of\n",
    "tags_to_lookup = ['NNP', 'VBZ', 'CD']\n",
    "\n",
    "# Loop through each tag and display its meaning\n",
    "for tag in tags_to_lookup:\n",
    "    print(f\"Description for '{tag}':\")\n",
    "    upenn_tagset(tag)\n",
    "    print(\"\\n\" + \"-\"*50 + \"\\n\")"
   ]
  },
  {
   "cell_type": "code",
   "execution_count": 33,
   "metadata": {},
   "outputs": [
    {
     "name": "stdout",
     "output_type": "stream",
     "text": [
      "Taj PROPN\n",
      "Mahal PROPN\n",
      "is AUX\n",
      "one NUM\n",
      "of ADP\n",
      "the DET\n",
      "beautiful ADJ\n",
      "monument NOUN\n",
      ". PUNCT\n"
     ]
    }
   ],
   "source": [
    "import spacy\n",
    "\n",
    "# Loading small english language model\n",
    "nlp = spacy.load(\"en_core_web_sm\")\n",
    "\n",
    "# Create nlp Object to handle linguistic annotations in a documents.\n",
    "sentence = nlp(u\"Taj Mahal is one of the beautiful monument.\")\n",
    "\n",
    "for token in sentence:\n",
    "    print(token.text, token.pos_)"
   ]
  },
  {
   "cell_type": "markdown",
   "metadata": {},
   "source": [
    "### Recognizing Entities"
   ]
  },
  {
   "cell_type": "code",
   "execution_count": 35,
   "metadata": {},
   "outputs": [
    {
     "name": "stdout",
     "output_type": "stream",
     "text": [
      "Taj Mahal is one of the beautiful monuments. It is one of the wonders of the world. It was built by Shah Jahan in 1631 in memory of his third beloved wife Mumtaj Mahal.\n"
     ]
    }
   ],
   "source": [
    "import spacy\n",
    "\n",
    "# Load English model for tokenizer, tagger, parser, and NER\n",
    "nlp = spacy.load('en_core_web_sm')\n",
    "\n",
    "# Sample paragraph\n",
    "paragraph = \"\"\"Taj Mahal is one of the beautiful monuments. It is one of \\\n",
    "the wonders of the world. It was built by Shah Jahan in 1631 in memory of \\\n",
    "his third beloved wife Mumtaj Mahal.\"\"\"\n",
    "\n",
    "print(paragraph)"
   ]
  },
  {
   "cell_type": "code",
   "execution_count": 36,
   "metadata": {},
   "outputs": [
    {
     "name": "stdout",
     "output_type": "stream",
     "text": [
      "[('Taj Mahal', 'PERSON'), ('Shah Jahan', 'ORG'), ('1631', 'DATE'), ('third', 'ORDINAL'), ('Mumtaj Mahal', 'PERSON')]\n"
     ]
    }
   ],
   "source": [
    "# Create nlp Object to handle linguistic annotations in documents.\n",
    "\n",
    "docs = nlp(paragraph)\n",
    "entities = [(i.text, i.label_) for i in docs.ents]\n",
    "print(entities)"
   ]
  },
  {
   "cell_type": "code",
   "execution_count": 37,
   "metadata": {},
   "outputs": [
    {
     "data": {
      "text/html": [
       "<span class=\"tex2jax_ignore\"><div class=\"entities\" style=\"line-height: 2.5; direction: ltr\">\n",
       "<mark class=\"entity\" style=\"background: #aa9cfc; padding: 0.45em 0.6em; margin: 0 0.25em; line-height: 1; border-radius: 0.35em;\">\n",
       "    Taj Mahal\n",
       "    <span style=\"font-size: 0.8em; font-weight: bold; line-height: 1; border-radius: 0.35em; vertical-align: middle; margin-left: 0.5rem\">PERSON</span>\n",
       "</mark>\n",
       " is one of the beautiful monuments. It is one of the wonders of the world. It was built by \n",
       "<mark class=\"entity\" style=\"background: #7aecec; padding: 0.45em 0.6em; margin: 0 0.25em; line-height: 1; border-radius: 0.35em;\">\n",
       "    Shah Jahan\n",
       "    <span style=\"font-size: 0.8em; font-weight: bold; line-height: 1; border-radius: 0.35em; vertical-align: middle; margin-left: 0.5rem\">ORG</span>\n",
       "</mark>\n",
       " in \n",
       "<mark class=\"entity\" style=\"background: #bfe1d9; padding: 0.45em 0.6em; margin: 0 0.25em; line-height: 1; border-radius: 0.35em;\">\n",
       "    1631\n",
       "    <span style=\"font-size: 0.8em; font-weight: bold; line-height: 1; border-radius: 0.35em; vertical-align: middle; margin-left: 0.5rem\">DATE</span>\n",
       "</mark>\n",
       " in memory of his \n",
       "<mark class=\"entity\" style=\"background: #e4e7d2; padding: 0.45em 0.6em; margin: 0 0.25em; line-height: 1; border-radius: 0.35em;\">\n",
       "    third\n",
       "    <span style=\"font-size: 0.8em; font-weight: bold; line-height: 1; border-radius: 0.35em; vertical-align: middle; margin-left: 0.5rem\">ORDINAL</span>\n",
       "</mark>\n",
       " beloved wife \n",
       "<mark class=\"entity\" style=\"background: #aa9cfc; padding: 0.45em 0.6em; margin: 0 0.25em; line-height: 1; border-radius: 0.35em;\">\n",
       "    Mumtaj Mahal\n",
       "    <span style=\"font-size: 0.8em; font-weight: bold; line-height: 1; border-radius: 0.35em; vertical-align: middle; margin-left: 0.5rem\">PERSON</span>\n",
       "</mark>\n",
       ".</div></span>"
      ],
      "text/plain": [
       "<IPython.core.display.HTML object>"
      ]
     },
     "metadata": {},
     "output_type": "display_data"
    }
   ],
   "source": [
    "from spacy import displacy\n",
    "\n",
    "# Visualize the entities using render function\n",
    "displacy.render(docs, style = \"ent\",jupyter = True)"
   ]
  },
  {
   "cell_type": "code",
   "execution_count": 38,
   "metadata": {},
   "outputs": [
    {
     "data": {
      "text/html": [
       "<span class=\"tex2jax_ignore\"><svg xmlns=\"http://www.w3.org/2000/svg\" xmlns:xlink=\"http://www.w3.org/1999/xlink\" xml:lang=\"en\" id=\"4957fd7b8b28401aa02eff4f2d7b1716-0\" class=\"displacy\" width=\"1010\" height=\"317.0\" direction=\"ltr\" style=\"max-width: none; height: 317.0px; color: #000000; background: #ffffff; font-family: Arial; direction: ltr\">\n",
       "<text class=\"displacy-token\" fill=\"currentColor\" text-anchor=\"middle\" y=\"227.0\">\n",
       "    <tspan class=\"displacy-word\" fill=\"currentColor\" x=\"50\">Taj</tspan>\n",
       "    <tspan class=\"displacy-tag\" dy=\"2em\" fill=\"currentColor\" x=\"50\">PROPN</tspan>\n",
       "</text>\n",
       "\n",
       "<text class=\"displacy-token\" fill=\"currentColor\" text-anchor=\"middle\" y=\"227.0\">\n",
       "    <tspan class=\"displacy-word\" fill=\"currentColor\" x=\"170\">Mahal</tspan>\n",
       "    <tspan class=\"displacy-tag\" dy=\"2em\" fill=\"currentColor\" x=\"170\">PROPN</tspan>\n",
       "</text>\n",
       "\n",
       "<text class=\"displacy-token\" fill=\"currentColor\" text-anchor=\"middle\" y=\"227.0\">\n",
       "    <tspan class=\"displacy-word\" fill=\"currentColor\" x=\"290\">is</tspan>\n",
       "    <tspan class=\"displacy-tag\" dy=\"2em\" fill=\"currentColor\" x=\"290\">AUX</tspan>\n",
       "</text>\n",
       "\n",
       "<text class=\"displacy-token\" fill=\"currentColor\" text-anchor=\"middle\" y=\"227.0\">\n",
       "    <tspan class=\"displacy-word\" fill=\"currentColor\" x=\"410\">one</tspan>\n",
       "    <tspan class=\"displacy-tag\" dy=\"2em\" fill=\"currentColor\" x=\"410\">NUM</tspan>\n",
       "</text>\n",
       "\n",
       "<text class=\"displacy-token\" fill=\"currentColor\" text-anchor=\"middle\" y=\"227.0\">\n",
       "    <tspan class=\"displacy-word\" fill=\"currentColor\" x=\"530\">of</tspan>\n",
       "    <tspan class=\"displacy-tag\" dy=\"2em\" fill=\"currentColor\" x=\"530\">ADP</tspan>\n",
       "</text>\n",
       "\n",
       "<text class=\"displacy-token\" fill=\"currentColor\" text-anchor=\"middle\" y=\"227.0\">\n",
       "    <tspan class=\"displacy-word\" fill=\"currentColor\" x=\"650\">the</tspan>\n",
       "    <tspan class=\"displacy-tag\" dy=\"2em\" fill=\"currentColor\" x=\"650\">DET</tspan>\n",
       "</text>\n",
       "\n",
       "<text class=\"displacy-token\" fill=\"currentColor\" text-anchor=\"middle\" y=\"227.0\">\n",
       "    <tspan class=\"displacy-word\" fill=\"currentColor\" x=\"770\">beautiful</tspan>\n",
       "    <tspan class=\"displacy-tag\" dy=\"2em\" fill=\"currentColor\" x=\"770\">ADJ</tspan>\n",
       "</text>\n",
       "\n",
       "<text class=\"displacy-token\" fill=\"currentColor\" text-anchor=\"middle\" y=\"227.0\">\n",
       "    <tspan class=\"displacy-word\" fill=\"currentColor\" x=\"890\">monument.</tspan>\n",
       "    <tspan class=\"displacy-tag\" dy=\"2em\" fill=\"currentColor\" x=\"890\">NOUN</tspan>\n",
       "</text>\n",
       "\n",
       "<g class=\"displacy-arrow\">\n",
       "    <path class=\"displacy-arc\" id=\"arrow-4957fd7b8b28401aa02eff4f2d7b1716-0-0\" stroke-width=\"2px\" d=\"M70,182.0 C70,122.0 160.0,122.0 160.0,182.0\" fill=\"none\" stroke=\"currentColor\"/>\n",
       "    <text dy=\"1.25em\" style=\"font-size: 0.8em; letter-spacing: 1px\">\n",
       "        <textPath xlink:href=\"#arrow-4957fd7b8b28401aa02eff4f2d7b1716-0-0\" class=\"displacy-label\" startOffset=\"50%\" side=\"left\" fill=\"currentColor\" text-anchor=\"middle\">compound</textPath>\n",
       "    </text>\n",
       "    <path class=\"displacy-arrowhead\" d=\"M70,184.0 L62,172.0 78,172.0\" fill=\"currentColor\"/>\n",
       "</g>\n",
       "\n",
       "<g class=\"displacy-arrow\">\n",
       "    <path class=\"displacy-arc\" id=\"arrow-4957fd7b8b28401aa02eff4f2d7b1716-0-1\" stroke-width=\"2px\" d=\"M190,182.0 C190,122.0 280.0,122.0 280.0,182.0\" fill=\"none\" stroke=\"currentColor\"/>\n",
       "    <text dy=\"1.25em\" style=\"font-size: 0.8em; letter-spacing: 1px\">\n",
       "        <textPath xlink:href=\"#arrow-4957fd7b8b28401aa02eff4f2d7b1716-0-1\" class=\"displacy-label\" startOffset=\"50%\" side=\"left\" fill=\"currentColor\" text-anchor=\"middle\">nsubj</textPath>\n",
       "    </text>\n",
       "    <path class=\"displacy-arrowhead\" d=\"M190,184.0 L182,172.0 198,172.0\" fill=\"currentColor\"/>\n",
       "</g>\n",
       "\n",
       "<g class=\"displacy-arrow\">\n",
       "    <path class=\"displacy-arc\" id=\"arrow-4957fd7b8b28401aa02eff4f2d7b1716-0-2\" stroke-width=\"2px\" d=\"M310,182.0 C310,122.0 400.0,122.0 400.0,182.0\" fill=\"none\" stroke=\"currentColor\"/>\n",
       "    <text dy=\"1.25em\" style=\"font-size: 0.8em; letter-spacing: 1px\">\n",
       "        <textPath xlink:href=\"#arrow-4957fd7b8b28401aa02eff4f2d7b1716-0-2\" class=\"displacy-label\" startOffset=\"50%\" side=\"left\" fill=\"currentColor\" text-anchor=\"middle\">attr</textPath>\n",
       "    </text>\n",
       "    <path class=\"displacy-arrowhead\" d=\"M400.0,184.0 L408.0,172.0 392.0,172.0\" fill=\"currentColor\"/>\n",
       "</g>\n",
       "\n",
       "<g class=\"displacy-arrow\">\n",
       "    <path class=\"displacy-arc\" id=\"arrow-4957fd7b8b28401aa02eff4f2d7b1716-0-3\" stroke-width=\"2px\" d=\"M430,182.0 C430,122.0 520.0,122.0 520.0,182.0\" fill=\"none\" stroke=\"currentColor\"/>\n",
       "    <text dy=\"1.25em\" style=\"font-size: 0.8em; letter-spacing: 1px\">\n",
       "        <textPath xlink:href=\"#arrow-4957fd7b8b28401aa02eff4f2d7b1716-0-3\" class=\"displacy-label\" startOffset=\"50%\" side=\"left\" fill=\"currentColor\" text-anchor=\"middle\">prep</textPath>\n",
       "    </text>\n",
       "    <path class=\"displacy-arrowhead\" d=\"M520.0,184.0 L528.0,172.0 512.0,172.0\" fill=\"currentColor\"/>\n",
       "</g>\n",
       "\n",
       "<g class=\"displacy-arrow\">\n",
       "    <path class=\"displacy-arc\" id=\"arrow-4957fd7b8b28401aa02eff4f2d7b1716-0-4\" stroke-width=\"2px\" d=\"M670,182.0 C670,62.0 885.0,62.0 885.0,182.0\" fill=\"none\" stroke=\"currentColor\"/>\n",
       "    <text dy=\"1.25em\" style=\"font-size: 0.8em; letter-spacing: 1px\">\n",
       "        <textPath xlink:href=\"#arrow-4957fd7b8b28401aa02eff4f2d7b1716-0-4\" class=\"displacy-label\" startOffset=\"50%\" side=\"left\" fill=\"currentColor\" text-anchor=\"middle\">det</textPath>\n",
       "    </text>\n",
       "    <path class=\"displacy-arrowhead\" d=\"M670,184.0 L662,172.0 678,172.0\" fill=\"currentColor\"/>\n",
       "</g>\n",
       "\n",
       "<g class=\"displacy-arrow\">\n",
       "    <path class=\"displacy-arc\" id=\"arrow-4957fd7b8b28401aa02eff4f2d7b1716-0-5\" stroke-width=\"2px\" d=\"M790,182.0 C790,122.0 880.0,122.0 880.0,182.0\" fill=\"none\" stroke=\"currentColor\"/>\n",
       "    <text dy=\"1.25em\" style=\"font-size: 0.8em; letter-spacing: 1px\">\n",
       "        <textPath xlink:href=\"#arrow-4957fd7b8b28401aa02eff4f2d7b1716-0-5\" class=\"displacy-label\" startOffset=\"50%\" side=\"left\" fill=\"currentColor\" text-anchor=\"middle\">amod</textPath>\n",
       "    </text>\n",
       "    <path class=\"displacy-arrowhead\" d=\"M790,184.0 L782,172.0 798,172.0\" fill=\"currentColor\"/>\n",
       "</g>\n",
       "\n",
       "<g class=\"displacy-arrow\">\n",
       "    <path class=\"displacy-arc\" id=\"arrow-4957fd7b8b28401aa02eff4f2d7b1716-0-6\" stroke-width=\"2px\" d=\"M550,182.0 C550,2.0 890.0,2.0 890.0,182.0\" fill=\"none\" stroke=\"currentColor\"/>\n",
       "    <text dy=\"1.25em\" style=\"font-size: 0.8em; letter-spacing: 1px\">\n",
       "        <textPath xlink:href=\"#arrow-4957fd7b8b28401aa02eff4f2d7b1716-0-6\" class=\"displacy-label\" startOffset=\"50%\" side=\"left\" fill=\"currentColor\" text-anchor=\"middle\">pobj</textPath>\n",
       "    </text>\n",
       "    <path class=\"displacy-arrowhead\" d=\"M890.0,184.0 L898.0,172.0 882.0,172.0\" fill=\"currentColor\"/>\n",
       "</g>\n",
       "</svg></span>"
      ],
      "text/plain": [
       "<IPython.core.display.HTML object>"
      ]
     },
     "metadata": {},
     "output_type": "display_data"
    }
   ],
   "source": [
    "import spacy\n",
    "\n",
    "# Load English model for tokenizer, tagger, parser, and NER\n",
    "nlp = spacy.load('en_core_web_sm')\n",
    "\n",
    "# Create nlp Object to handle linguistic annotations in a documents.\n",
    "docs = nlp(sentence)  # sentence = nlp(u\"Taj Mahal is one of the beautiful monument.\")\n",
    "\n",
    "# Visualize the using render function\n",
    "displacy.render(docs, style=\"dep\", jupyter= True, options={'distance':120})"
   ]
  },
  {
   "cell_type": "code",
   "execution_count": 39,
   "metadata": {},
   "outputs": [
    {
     "data": {
      "text/plain": [
       "Taj Mahal is one of the beautiful monument."
      ]
     },
     "execution_count": 39,
     "metadata": {},
     "output_type": "execute_result"
    }
   ],
   "source": [
    "sentence"
   ]
  },
  {
   "cell_type": "code",
   "execution_count": 40,
   "metadata": {},
   "outputs": [
    {
     "data": {
      "text/plain": [
       "spacy.tokens.doc.Doc"
      ]
     },
     "execution_count": 40,
     "metadata": {},
     "output_type": "execute_result"
    }
   ],
   "source": [
    "type(sentence)"
   ]
  },
  {
   "cell_type": "code",
   "execution_count": 41,
   "metadata": {},
   "outputs": [
    {
     "data": {
      "text/plain": [
       "spacy.tokens.doc.Doc"
      ]
     },
     "execution_count": 41,
     "metadata": {},
     "output_type": "execute_result"
    }
   ],
   "source": [
    "type(docs)"
   ]
  },
  {
   "cell_type": "markdown",
   "metadata": {},
   "source": [
    "# Creating a Word Cloud"
   ]
  },
  {
   "cell_type": "code",
   "execution_count": 43,
   "metadata": {},
   "outputs": [
    {
     "data": {
      "image/png": "[encoded data removed]",
      "text/plain": [
       "<Figure size 800x600 with 1 Axes>"
      ]
     },
     "metadata": {},
     "output_type": "display_data"
    }
   ],
   "source": [
    "from wordcloud import WordCloud\n",
    "from wordcloud import STOPWORDS\n",
    "import matplotlib.pyplot as plt\n",
    "\n",
    "stopword_list = set(STOPWORDS)\n",
    "\n",
    "paragraph=\"\"\"Taj Mahal is one of the beautiful monuments. It is one \\\n",
    "of the wonders of the world. It was built by Shah Jahan in 1631 in \\\n",
    "memory of his third beloved wife Mumtaj Mahal.\"\"\"\n",
    "\n",
    "word_cloud = WordCloud(width = 550, \n",
    "                       height = 550,\n",
    "                       background_color ='white',\n",
    "                       stopwords = stopword_list,\n",
    "                       min_font_size = 10).generate(paragraph)\n",
    "\n",
    "\n",
    "# Visualize the WordCloud Plot\n",
    "plt.figure(figsize = (8, 6)) # Set wordcloud figure size\n",
    "plt.imshow(word_cloud)       # Show image\n",
    "plt.axis(\"off\")              # Remove Axis\n",
    "plt.show()                   # show plot"
   ]
  },
  {
   "cell_type": "markdown",
   "metadata": {},
   "source": [
    "# Bag of Words"
   ]
  },
  {
   "cell_type": "markdown",
   "metadata": {},
   "source": [
    "Bag of Words (BoW) is one of the most basic, simplest, and popular feature engineering\n",
    "techniques for converting text into a numeric vector. It works in two steps: collecting\n",
    "vocabulary words and counting their presence or frequency in the text. It does not consider\n",
    "the document structure and contextual information. Let's take the following three\n",
    "documents and understand BoW:\n",
    "\n",
    "    Document 1: I like pizza.\n",
    "    Document 2: I do not like burgers.\n",
    "    Document 3: Pizza and burgers both are junk food.\n",
    "\n",
    "Now, we will create the Document Term Matrix (DTM). This matrix consists of the\n",
    "document at rows, words at the column, and the frequency at cell values."
   ]
  },
  {
   "cell_type": "markdown",
   "metadata": {},
   "source": [
    "            I like pizza do not burgers and both are junk food\n",
    "    Doc-1   1  1     1   0   0    0      0   0    0   0    0\n",
    "    Doc-2   1  1     0   1   1    1      0   0    0   0    0\n",
    "    Doc-3   0  0     1   0   0    1      1   1    1   1    1"
   ]
  },
  {
   "cell_type": "markdown",
   "metadata": {},
   "source": [
    "# TF-IDF"
   ]
  },
  {
   "cell_type": "markdown",
   "metadata": {},
   "source": [
    "TF-IDF stands for **Term Frequency-Inverse Document Frequency**. It has two segments:\n",
    "**Term Frequency (TF)** and **Inverse Document Frequency (IDF)**. TF only counts the\n",
    "occurrence of words in each document. It is equivalent to BoW. TF does not consider the\n",
    "context of words and is biased toward longer documents. IDF computes values that\n",
    "correspond to the amount of information kept by a word."
   ]
  },
  {
   "cell_type": "markdown",
   "metadata": {},
   "source": [
    "$$\n",
    "\\text{IDF}(\\text{Word}) = \\log_2 \\left( \\frac{\\text{Number of Documents}}{\\text{Number of Documents that contain the word}} \\right)\n",
    "$$\n"
   ]
  },
  {
   "cell_type": "markdown",
   "metadata": {},
   "source": [
    "            I      like     pizza    do     not     burgers   and     both    are   junk   food\n",
    "    Doc-1  0.58    0.58     0.58     0       0        0        0       0       0      0     0\n",
    "    Doc-2  0.58    0.58     0        1.58    1.58     0.58     0       0       0      0     0\n",
    "    Doc-3  0       0        0.58     0       0        0.58     1.58    1.58    1.58   1.58  1.58"
   ]
  },
  {
   "cell_type": "markdown",
   "metadata": {},
   "source": [
    "# Classification using BoW"
   ]
  },
  {
   "cell_type": "code",
   "execution_count": 52,
   "metadata": {},
   "outputs": [
    {
     "data": {
      "text/html": [
       "<div>\n",
       "<style scoped>\n",
       "    .dataframe tbody tr th:only-of-type {\n",
       "        vertical-align: middle;\n",
       "    }\n",
       "\n",
       "    .dataframe tbody tr th {\n",
       "        vertical-align: top;\n",
       "    }\n",
       "\n",
       "    .dataframe thead th {\n",
       "        text-align: right;\n",
       "    }\n",
       "</style>\n",
       "<table border=\"1\" class=\"dataframe\">\n",
       "  <thead>\n",
       "    <tr style=\"text-align: right;\">\n",
       "      <th></th>\n",
       "      <th>rating</th>\n",
       "      <th>date</th>\n",
       "      <th>variation</th>\n",
       "      <th>verified_reviews</th>\n",
       "      <th>feedback</th>\n",
       "    </tr>\n",
       "  </thead>\n",
       "  <tbody>\n",
       "    <tr>\n",
       "      <th>0</th>\n",
       "      <td>5</td>\n",
       "      <td>31-Jul-18</td>\n",
       "      <td>Charcoal Fabric</td>\n",
       "      <td>Love my Echo!</td>\n",
       "      <td>1</td>\n",
       "    </tr>\n",
       "    <tr>\n",
       "      <th>1</th>\n",
       "      <td>5</td>\n",
       "      <td>31-Jul-18</td>\n",
       "      <td>Charcoal Fabric</td>\n",
       "      <td>Loved it!</td>\n",
       "      <td>1</td>\n",
       "    </tr>\n",
       "    <tr>\n",
       "      <th>2</th>\n",
       "      <td>4</td>\n",
       "      <td>31-Jul-18</td>\n",
       "      <td>Walnut Finish</td>\n",
       "      <td>Sometimes while playing a game, you can answer...</td>\n",
       "      <td>1</td>\n",
       "    </tr>\n",
       "    <tr>\n",
       "      <th>3</th>\n",
       "      <td>5</td>\n",
       "      <td>31-Jul-18</td>\n",
       "      <td>Charcoal Fabric</td>\n",
       "      <td>I have had a lot of fun with this thing. My 4 ...</td>\n",
       "      <td>1</td>\n",
       "    </tr>\n",
       "    <tr>\n",
       "      <th>4</th>\n",
       "      <td>5</td>\n",
       "      <td>31-Jul-18</td>\n",
       "      <td>Charcoal Fabric</td>\n",
       "      <td>Music</td>\n",
       "      <td>1</td>\n",
       "    </tr>\n",
       "  </tbody>\n",
       "</table>\n",
       "</div>"
      ],
      "text/plain": [
       "   rating       date         variation  \\\n",
       "0       5  31-Jul-18  Charcoal Fabric    \n",
       "1       5  31-Jul-18  Charcoal Fabric    \n",
       "2       4  31-Jul-18    Walnut Finish    \n",
       "3       5  31-Jul-18  Charcoal Fabric    \n",
       "4       5  31-Jul-18  Charcoal Fabric    \n",
       "\n",
       "                                    verified_reviews  feedback  \n",
       "0                                      Love my Echo!         1  \n",
       "1                                          Loved it!         1  \n",
       "2  Sometimes while playing a game, you can answer...         1  \n",
       "3  I have had a lot of fun with this thing. My 4 ...         1  \n",
       "4                                              Music         1  "
      ]
     },
     "execution_count": 52,
     "metadata": {},
     "output_type": "execute_result"
    }
   ],
   "source": [
    "# Use the raw link to access the actual CSV file\n",
    "url = \"https://raw.githubusercontent.com/PacktPublishing/Python-Data-Analysis-Third-Edition/refs/heads/master/Chapter12/amazon_alexa.tsv\"\n",
    "\n",
    "# Reading the CSV file\n",
    "df = pd.read_csv(url, sep='\\t')\n",
    "\n",
    "# Display the first 5 rows of the DataFrame\n",
    "df.head()"
   ]
  },
  {
   "cell_type": "code",
   "execution_count": 53,
   "metadata": {},
   "outputs": [
    {
     "data": {
      "image/png": "[encoded data removed]",
      "text/plain": [
       "<Figure size 640x480 with 1 Axes>"
      ]
     },
     "metadata": {},
     "output_type": "display_data"
    }
   ],
   "source": [
    "# Count plot with different colors, using 'feedback' as both x and hue\n",
    "sns.countplot(x='feedback', hue='feedback', data=df, palette='Set2', legend=False)\n",
    "\n",
    "# Set X-axis and Y-axis labels\n",
    "plt.xlabel('Sentiment Score')\n",
    "plt.ylabel('Number of Records')\n",
    "\n",
    "# Show the plot\n",
    "plt.show()"
   ]
  },
  {
   "cell_type": "code",
   "execution_count": 54,
   "metadata": {},
   "outputs": [],
   "source": [
    "# Import CountVectorizer and RegexTokenizer\n",
    "from nltk.tokenize import RegexpTokenizer\n",
    "from sklearn.feature_extraction.text import CountVectorizer\n",
    "\n",
    "# Remove or replace NaN values in 'verified_reviews' column\n",
    "df['verified_reviews'] = df['verified_reviews'].fillna('')  # Replace NaNs with empty strings\n",
    "\n",
    "# Create Regex tokenizer for removing special symbols and numeric values\n",
    "regex_tokenizer = RegexpTokenizer(r'[a-zA-Z]+')\n",
    "\n",
    "# Initialize CountVectorizer object\n",
    "count_vectorizer = CountVectorizer(lowercase=True,\n",
    "                                   stop_words = 'english',\n",
    "                                   ngram_range = (1,1),\n",
    "                                   tokenizer = regex_tokenizer.tokenize,\n",
    "                                   token_pattern = None)\n",
    "\n",
    "# Fit and transform the dataset\n",
    "count_vectors = count_vectorizer.fit_transform(df['verified_reviews'])"
   ]
  },
  {
   "cell_type": "markdown",
   "metadata": {},
   "source": [
    "In the preceding code, we created a `RegexTokenizer` object with an input\n",
    "regular expression that removes the special characters and symbols. After this,\n",
    "the `CountVectorizer` object was created and performed the fit and transform\n",
    "operation on verified reviews. Here, `CountVectorizer` takes parameters such as\n",
    "`lowercase` for converting keywords into lowercase, `stop_words` for specifying a\n",
    "language-specific stopwords list, `ngram_range` for specifying the unigram,\n",
    "bigram, or trigram, and `tokenizer` is used to pass the `tokenizer` object.\n",
    "The `RegexTokenizer` object is passed to the `tokenizer` parameter. Finally, we\n",
    "called the `fit_transform()` function that converts text reviews into a DTM as\n",
    "per specified parameters."
   ]
  },
  {
   "cell_type": "code",
   "execution_count": 56,
   "metadata": {},
   "outputs": [],
   "source": [
    "from sklearn.model_selection import train_test_split\n",
    "\n",
    "# Partition data into training and testing set\n",
    "feature_train, feature_test, target_train, target_test = train_test_split(count_vectors, \n",
    "                                                                          df['feedback'], \n",
    "                                                                          test_size=0.3,\n",
    "                                                                          random_state=1)"
   ]
  },
  {
   "cell_type": "code",
   "execution_count": 57,
   "metadata": {},
   "outputs": [],
   "source": [
    "from sklearn.linear_model import LogisticRegression\n",
    "\n",
    "# Create logistic regression model object\n",
    "logreg = LogisticRegression(solver='lbfgs')\n",
    "\n",
    "# fit the model with data\n",
    "logreg.fit(feature_train,target_train)\n",
    "\n",
    "# Forecast the target variable for given test dataset\n",
    "predictions = logreg.predict(feature_test)"
   ]
  },
  {
   "cell_type": "code",
   "execution_count": 58,
   "metadata": {},
   "outputs": [
    {
     "name": "stdout",
     "output_type": "stream",
     "text": [
      " Logistic Regression Model Accuracy: 0.9428571428571428\n",
      "Logistic Regression Model Precision: 0.952433628318584\n",
      "   Logistic Regression Model Recall: 0.9873853211009175\n",
      " Logistic Regression Model F1-Score: 0.9695945945945946\n"
     ]
    }
   ],
   "source": [
    "from sklearn.metrics import accuracy_score\n",
    "from sklearn.metrics import precision_score\n",
    "from sklearn.metrics import recall_score\n",
    "from sklearn.metrics import f1_score\n",
    "\n",
    "print(\" Logistic Regression Model Accuracy:\",accuracy_score(target_test, predictions))   # Assess model performance using accuracy measure\n",
    "print(\"Logistic Regression Model Precision:\",precision_score(target_test, predictions))  # Calculate model precision\n",
    "print(\"   Logistic Regression Model Recall:\",recall_score(target_test, predictions))     # Calculate model recall\n",
    "print(\" Logistic Regression Model F1-Score:\",f1_score(target_test, predictions))         # Calculate model f1 score"
   ]
  },
  {
   "cell_type": "markdown",
   "metadata": {},
   "source": [
    "In the preceding code, we have evaluated the model performance using accuracy, precision,\n",
    "recall, and f1-score using the scikit-learn metrics function. All the measures are\n",
    "greater than 94%, so we can say that our model is performing well and classifying both the\n",
    "sentiment levels with a good amount of precision and recall."
   ]
  },
  {
   "cell_type": "code",
   "execution_count": 60,
   "metadata": {},
   "outputs": [
    {
     "name": "stdout",
     "output_type": "stream",
     "text": [
      "Model Intercept: 2.1798652170454003\n",
      "\n",
      "Feature Contributions:\n",
      "        Feature  Coefficient\n",
      "1962      love     2.372754\n",
      "3311  terrible    -2.041554\n",
      "1024      easy     1.721030\n",
      "1427     great     1.586536\n",
      "3687   working    -1.375291\n",
      "...        ...          ...\n",
      "1769    johnny     0.000000\n",
      "1766   jetsons     0.000000\n",
      "1758   jacuzzi     0.000000\n",
      "1742       ish     0.000000\n",
      "0         abay     0.000000\n",
      "\n",
      "[3738 rows x 2 columns]\n"
     ]
    }
   ],
   "source": [
    "# Retrieve the coefficients and the intercept\n",
    "coefficients = logreg.coef_[0]    # Coefficients for each feature (array)\n",
    "intercept = logreg.intercept_[0]  # The intercept term\n",
    "\n",
    "# Extract the feature names from the CountVectorizer\n",
    "feature_names = count_vectorizer.get_feature_names_out()\n",
    "\n",
    "# Create a DataFrame to map feature names to their corresponding coefficients\n",
    "feature_importance = pd.DataFrame({\n",
    "    'Feature': feature_names,\n",
    "    'Coefficient': coefficients\n",
    "})\n",
    "\n",
    "# Sort by the magnitude of the coefficients to see the most impactful features\n",
    "feature_importance['Absolute Coefficient'] = feature_importance['Coefficient'].abs()\n",
    "feature_importance_sorted = feature_importance.sort_values(by='Absolute Coefficient', ascending=False)\n",
    "\n",
    "print(\"Model Intercept:\", intercept)\n",
    "print(\"\\nFeature Contributions:\\n\", feature_importance_sorted[['Feature', 'Coefficient']])"
   ]
  },
  {
   "cell_type": "code",
   "execution_count": 61,
   "metadata": {},
   "outputs": [
    {
     "name": "stdout",
     "output_type": "stream",
     "text": [
      "Model Intercept: 2.1798652170454003\n",
      "\n",
      "Top 20 Feature Contributions:\n",
      "           Feature  Coefficient\n",
      "1962         love     2.372754\n",
      "3311     terrible    -2.041554\n",
      "1024         easy     1.721030\n",
      "1427        great     1.586536\n",
      "3687      working    -1.375291\n",
      "1327          fun     1.231752\n",
      "3437          try    -1.223592\n",
      "3697    worthless    -1.215349\n",
      "2971         siri    -1.188156\n",
      "2762     returned    -1.158120\n",
      "1460         half    -1.155372\n",
      "3528      useless    -1.147121\n",
      "977          dont    -1.142133\n",
      "2888         sent    -1.117092\n",
      "887          didn    -1.111912\n",
      "2409     playlist    -1.089484\n",
      "327          best     1.049467\n",
      "1161     expected     1.046554\n",
      "933   disconnects    -1.005148\n",
      "2344      perfect     0.983159\n"
     ]
    }
   ],
   "source": [
    "print(\"Model Intercept:\", intercept)\n",
    "print(\"\\nTop 20 Feature Contributions:\\n\", feature_importance_sorted[['Feature', 'Coefficient']].head(20))"
   ]
  },
  {
   "cell_type": "markdown",
   "metadata": {},
   "source": [
    "# Classification using TF-IDF"
   ]
  },
  {
   "cell_type": "code",
   "execution_count": 63,
   "metadata": {},
   "outputs": [],
   "source": [
    "from nltk.tokenize import RegexpTokenizer\n",
    "from sklearn.feature_extraction.text import TfidfVectorizer\n",
    "\n",
    "# Create Regex tokenizer for removing special symbols and numeric values\n",
    "regex_tokenizer = RegexpTokenizer(r'[a-zA-Z]+')\n",
    "\n",
    "# Initialize TfidfVectorizer object with `token_pattern=None`\n",
    "tfidf = TfidfVectorizer(lowercase=True, \n",
    "                        stop_words='english',\n",
    "                        ngram_range=(1, 1),\n",
    "                        tokenizer=regex_tokenizer.tokenize,\n",
    "                        token_pattern=None)  # Suppress the warning by setting `token_pattern=None`\n",
    "\n",
    "# Fit and transform the dataset\n",
    "text_tfidf = tfidf.fit_transform(df['verified_reviews'])"
   ]
  },
  {
   "cell_type": "markdown",
   "metadata": {},
   "source": [
    "In the preceding code, we created a `RegexTokenizer` object with an input\n",
    "regular expression that removes the special characters and symbols. After this,\n",
    "the `TfidfVectorizer` object was created and performed the fit and transform\n",
    "operation on verified reviews. Here, `TfidfVectorizer` takes parameters such as\n",
    "`lowercase` for converting keywords into lowercase, `stop_words` for a specified\n",
    "language-specific stopwords list, `ngram_range` for specifying the unigram,\n",
    "bigram, or trigram, and tokenizer is used to pass the tokenizer object. The\n",
    "`RegexTokenizer` object is passed to the tokenizer parameter. Finally, we called\n",
    "the `fit_transform()` function that converts text reviews into a DTM as per\n",
    "specified parameters."
   ]
  },
  {
   "cell_type": "code",
   "execution_count": 65,
   "metadata": {},
   "outputs": [],
   "source": [
    "from sklearn.model_selection import train_test_split\n",
    "\n",
    "feature_train, feature_test, target_train, target_test = train_test_split(text_tfidf, \n",
    "                                                                          df['feedback'], \n",
    "                                                                          test_size=0.3, \n",
    "                                                                          random_state=1)"
   ]
  },
  {
   "cell_type": "code",
   "execution_count": 66,
   "metadata": {},
   "outputs": [],
   "source": [
    "from sklearn.linear_model import LogisticRegression\n",
    "\n",
    "# instantiate the model\n",
    "logreg = LogisticRegression(solver='lbfgs')\n",
    "\n",
    "# fit the model with data\n",
    "logreg.fit(feature_train,target_train)\n",
    "\n",
    "# Forecast the target variable for given test dataset\n",
    "predictions = logreg.predict(feature_test)"
   ]
  },
  {
   "cell_type": "markdown",
   "metadata": {},
   "source": [
    "In the preceding code, we imported `LogisticRegression` and created the\n",
    "`LogisticRegression` object. After creating the model object, we performed a\n",
    "`fit()` operation on the training data and `predict()` to forecast the sentiment for\n",
    "the test dataset."
   ]
  },
  {
   "cell_type": "code",
   "execution_count": 68,
   "metadata": {},
   "outputs": [
    {
     "name": "stdout",
     "output_type": "stream",
     "text": [
      " Logistic Regression Model Accuracy: 0.9248677248677248\n",
      "Logistic Regression Model Precision: 0.9247083775185578\n",
      "   Logistic Regression Model Recall: 1.0\n",
      " Logistic Regression Model F1-Score: 0.9608815426997245\n"
     ]
    }
   ],
   "source": [
    "from sklearn.metrics import accuracy_score\n",
    "from sklearn.metrics import precision_score\n",
    "from sklearn.metrics import recall_score\n",
    "from sklearn.metrics import f1_score\n",
    "\n",
    "print(\" Logistic Regression Model Accuracy:\",accuracy_score(target_test, predictions))  # Assess model performance using accuracy measure\n",
    "print(\"Logistic Regression Model Precision:\",precision_score(target_test, predictions)) # Calculate model precision\n",
    "print(\"   Logistic Regression Model Recall:\",recall_score(target_test, predictions))    # Calculate model recall\n",
    "print(\" Logistic Regression Model F1-Score:\",f1_score(target_test, predictions))        # Calculate model f1 score"
   ]
  },
  {
   "cell_type": "markdown",
   "metadata": {},
   "source": [
    "In the preceding code, we evaluated the model performance using accuracy, precision,\n",
    "recall, and f1-score using the scikit-learn metrics function. All the measures are greater\n",
    "than 92%, so we can say that our model is performing well and classifying both sentiment\n",
    "levels with a good amount of precision and recall. In this section, we have looked at\n",
    "sentiment analysis using text classification."
   ]
  },
  {
   "cell_type": "code",
   "execution_count": 70,
   "metadata": {},
   "outputs": [
    {
     "name": "stdout",
     "output_type": "stream",
     "text": [
      "Model Intercept: 2.012336752970515\n",
      "\n",
      "Feature Contributions:\n",
      "          Feature  Coefficient\n",
      "1962        love     3.608858\n",
      "1427       great     2.718192\n",
      "3259           t    -2.310443\n",
      "1024        easy     2.092211\n",
      "3311    terrible    -1.888943\n",
      "...          ...          ...\n",
      "1740  irritating     0.000000\n",
      "1737     ipdates     0.000000\n",
      "3295       techy     0.000000\n",
      "1736       ipads     0.000000\n",
      "0           abay     0.000000\n",
      "\n",
      "[3738 rows x 2 columns]\n"
     ]
    }
   ],
   "source": [
    "# Retrieve the coefficients and the intercept from the logistic regression model\n",
    "coefficients = logreg.coef_[0]    # Coefficients for each feature (array)\n",
    "intercept = logreg.intercept_[0]  # The intercept term\n",
    "\n",
    "# Extract the feature names from the TfidfVectorizer\n",
    "feature_names = tfidf.get_feature_names_out()\n",
    "\n",
    "# Create a DataFrame to map feature names to their corresponding coefficients\n",
    "feature_importance = pd.DataFrame({\n",
    "    'Feature': feature_names,\n",
    "    'Coefficient': coefficients\n",
    "})\n",
    "\n",
    "# Sort by the magnitude of the coefficients to see the most impactful features\n",
    "feature_importance['Absolute Coefficient'] = feature_importance['Coefficient'].abs()\n",
    "feature_importance_sorted = feature_importance.sort_values(by='Absolute Coefficient', ascending=False)\n",
    "\n",
    "print(\"Model Intercept:\", intercept)\n",
    "print(\"\\nFeature Contributions:\\n\", feature_importance_sorted[['Feature', 'Coefficient']])"
   ]
  },
  {
   "cell_type": "code",
   "execution_count": 71,
   "metadata": {},
   "outputs": [
    {
     "name": "stdout",
     "output_type": "stream",
     "text": [
      "Model Intercept: 2.012336752970515\n",
      "\n",
      "Top 20 Feature Contributions:\n",
      "         Feature  Coefficient\n",
      "1962       love     3.608858\n",
      "1427      great     2.718192\n",
      "3259          t    -2.310443\n",
      "1024       easy     2.092211\n",
      "3311   terrible    -1.888943\n",
      "3687    working    -1.764053\n",
      "3437        try    -1.490179\n",
      "146      amazon    -1.439571\n",
      "1888       like     1.399893\n",
      "887        didn    -1.348805\n",
      "3690      works     1.340873\n",
      "3683       work    -1.295589\n",
      "1327        fun     1.289926\n",
      "1460       half    -1.193073\n",
      "3697  worthless    -1.145131\n",
      "2144       need    -1.127027\n",
      "2762   returned    -1.120810\n",
      "1161   expected     1.093323\n",
      "2118      music     1.084383\n",
      "2344    perfect     1.065818\n"
     ]
    }
   ],
   "source": [
    "print(\"Model Intercept:\", intercept)\n",
    "print(\"\\nTop 20 Feature Contributions:\\n\", feature_importance_sorted[['Feature', 'Coefficient']].head(20))"
   ]
  },
  {
   "cell_type": "markdown",
   "metadata": {},
   "source": [
    "# Text Similarity"
   ]
  },
  {
   "cell_type": "markdown",
   "metadata": {},
   "source": [
    "Text similarity is the process of determining the two closest texts. Text similarity is very\n",
    "helpful in finding similar documents, questions, and queries. For example, a search engine\n",
    "such as Google uses similarity to find document relevance, and Q&A systems such as\n",
    "StackOverflow or a consumer service system use similar questions. There are two common\n",
    "metrics used for text similarity, namely **Jaccard** and **cosine similarity**."
   ]
  },
  {
   "cell_type": "code",
   "execution_count": 74,
   "metadata": {},
   "outputs": [
    {
     "name": "stdout",
     "output_type": "stream",
     "text": [
      "0.6362041590639654\n"
     ]
    },
    {
     "name": "stderr",
     "output_type": "stream",
     "text": [
      "C:\\Users\\lsoares\\AppData\\Local\\Temp\\ipykernel_71480\\1502796748.py:11: UserWarning: [W007] The model you're using has no word vectors loaded, so the result of the Doc.similarity method will be based on the tagger, parser and NER, which may not give useful similarity judgements. This may happen if you're using one of the small models, e.g. `en_core_web_sm`, which don't ship with word vectors and only use context-sensitive tensors. You can always add your own word vectors, or use one of the larger models instead if available.\n",
      "  print(doc1.similarity(doc2))\n"
     ]
    }
   ],
   "source": [
    "import spacy\n",
    "\n",
    "# Load English model for tokenizer, tagger, parser, and NER\n",
    "nlp = spacy.load('en_core_web_sm')\n",
    "\n",
    "# Create documents\n",
    "doc1 = nlp(u'I love pets.')\n",
    "doc2 = nlp(u'I hate pets')\n",
    "\n",
    "# Find similarity\n",
    "print(doc1.similarity(doc2))"
   ]
  },
  {
   "cell_type": "markdown",
   "metadata": {},
   "source": [
    "In the preceding code block, we have found the similarity between two sentences using\n",
    "spaCy's `similarity()` function. Spacy's similarity function does not give better results\n",
    "with small models (such as the `en_core_web_sm`); that's why you will get a\n",
    "warning. To remove this warning, use larger models such\n",
    "as `en_core_web_md`."
   ]
  },
  {
   "cell_type": "markdown",
   "metadata": {},
   "source": [
    "## Jaccard Similarity"
   ]
  },
  {
   "cell_type": "markdown",
   "metadata": {},
   "source": [
    "Jaccard similarity calculates the similarity between two sets by the ratio of common words\n",
    "(intersection) to totally unique words (union) in both sets. It takes a list of unique words in\n",
    "each sentence or document. It is useful where the repetition of words does not matter.\n",
    "Jaccard similarity ranges from 0-100%; the higher the percentage, the more similar the two\n",
    "populations:"
   ]
  },
  {
   "cell_type": "markdown",
   "metadata": {},
   "source": [
    "$$\n",
    "J(A, B) = \\frac{|A \\cap B|}{|A \\cup B|}\n",
    "$$"
   ]
  },
  {
   "cell_type": "code",
   "execution_count": 79,
   "metadata": {},
   "outputs": [
    {
     "data": {
      "text/plain": [
       "0.5"
      ]
     },
     "execution_count": 79,
     "metadata": {},
     "output_type": "execute_result"
    }
   ],
   "source": [
    "def jaccard_similarity(sent1, sent2):\n",
    "    \n",
    "    \"\"\"Find text similarity using jaccard similarity\"\"\"\n",
    "    \n",
    "    # Tokenize sentences\n",
    "    token1 = set(sent1.split())\n",
    "    token2 = set(sent2.split())\n",
    "    \n",
    "    intersection_tokens = token1.intersection(token2)         # intersection between tokens of two sentences\n",
    "    union_tokens=token1.union(token2)                         # Union between tokens of two sentences\n",
    "    sim_= float(len(intersection_tokens) / len(union_tokens)) # Cosine Similarity\n",
    "    \n",
    "    return sim_\n",
    "    \n",
    "jaccard_similarity('I love pets.','I hate pets.')"
   ]
  },
  {
   "cell_type": "markdown",
   "metadata": {},
   "source": [
    "## Cosine Similarity"
   ]
  },
  {
   "cell_type": "markdown",
   "metadata": {},
   "source": [
    "Cosine similarity computes the cosine of the angle between two multidimensional projected\n",
    "vectors. It indicates how two documents are related to each other. Two vectors can be made\n",
    "of the bag of words or TF-IDF or any equivalent vector of the document. It is useful where\n",
    "the duplication of words matters. Cosine similarity can measure text similarity irrespective\n",
    "of the size of documents."
   ]
  },
  {
   "cell_type": "markdown",
   "metadata": {},
   "source": [
    "$$\n",
    "\\text{Cosine Similarity}(A, B) = \\frac{A \\cdot B}{|A| \\cdot |B|}\n",
    "$$"
   ]
  },
  {
   "cell_type": "code",
   "execution_count": 83,
   "metadata": {},
   "outputs": [
    {
     "name": "stdout",
     "output_type": "stream",
     "text": [
      "[[1.         0.33609693]\n",
      " [0.33609693 1.        ]]\n"
     ]
    }
   ],
   "source": [
    "from sklearn.feature_extraction.text import TfidfVectorizer\n",
    "from sklearn.metrics.pairwise import cosine_similarity\n",
    "\n",
    "docs = ['I love pets.','I hate pets.']\n",
    "\n",
    "tfidf= TfidfVectorizer()                  # Initialize TfidfVectorizer object\n",
    "tfidf_vector = tfidf.fit_transform(docs)  # Fit and transform the given data\n",
    "\n",
    "cos_sim=cosine_similarity(tfidf_vector, tfidf_vector) # compute similarity using cosine similarity\n",
    "\n",
    "print(cos_sim)"
   ]
  },
  {
   "cell_type": "code",
   "execution_count": 84,
   "metadata": {},
   "outputs": [
    {
     "name": "stdout",
     "output_type": "stream",
     "text": [
      "Cosine Similarity between doc1 and doc2: 0.3361\n"
     ]
    }
   ],
   "source": [
    "# Extract the element from the cosine similarity matrix\n",
    "similarity_score = cos_sim[0, 1]  # Access the element at row 0, column 1\n",
    "\n",
    "print(\"Cosine Similarity between doc1 and doc2:\", similarity_score.round(4))"
   ]
  }
 ],
 "metadata": {
  "kernelspec": {
   "display_name": "Python 3 (ipykernel)",
   "language": "python",
   "name": "python3"
  },
  "language_info": {
   "codemirror_mode": {
    "name": "ipython",
    "version": 3
   },
   "file_extension": ".py",
   "mimetype": "text/x-python",
   "name": "python",
   "nbconvert_exporter": "python",
   "pygments_lexer": "ipython3",
   "version": "3.11.7"
  }
 },
 "nbformat": 4,
 "nbformat_minor": 4
}
