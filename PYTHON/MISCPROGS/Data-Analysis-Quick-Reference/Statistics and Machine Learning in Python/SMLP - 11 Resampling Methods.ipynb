{
 "cells": [
  {
   "cell_type": "markdown",
   "id": "48e8aa49-4745-40ed-80fb-c52cb7510fa9",
   "metadata": {},
   "source": [
    "# Chapter 5.6 - Resampling Methods"
   ]
  },
  {
   "cell_type": "code",
   "execution_count": 2,
   "id": "77ebff2c-7587-4745-95f9-619d08532096",
   "metadata": {},
   "outputs": [],
   "source": [
    "import numpy as np\n",
    "import pandas as pd\n",
    "\n",
    "import seaborn as sns\n",
    "import matplotlib.pyplot as plt\n",
    "%matplotlib inline\n",
    "\n",
    "#import warnings\n",
    "#warnings.filterwarnings(\"ignore\")"
   ]
  },
  {
   "cell_type": "markdown",
   "id": "44a54416-d40f-4920-8e67-c4d9e2578dfc",
   "metadata": {},
   "source": [
    "## CV for Regression"
   ]
  },
  {
   "cell_type": "code",
   "execution_count": 4,
   "id": "ef305527-b291-40ca-b3b5-cf446c5d2121",
   "metadata": {},
   "outputs": [
    {
     "name": "stdout",
     "output_type": "stream",
     "text": [
      "Train r^2: 0.99\n",
      " Test r^2: 0.67\n"
     ]
    }
   ],
   "source": [
    "from sklearn import datasets\n",
    "import sklearn.linear_model as lm\n",
    "import sklearn.metrics as metrics\n",
    "from sklearn.model_selection import KFold\n",
    "\n",
    "# Create a regression dataset with 100 samples and 100 features, 10 of which are informative\n",
    "X, y = datasets.make_regression(n_samples=100, n_features=100, n_informative=10, random_state=42)\n",
    "\n",
    "# Initialize Ridge regression model with alpha=10 (regularization strength)\n",
    "estimator = lm.Ridge(alpha=10)\n",
    "\n",
    "# Initialize KFold cross-validation with 5 splits and shuffle the data\n",
    "cv = KFold(n_splits=5, shuffle=True, random_state=42)  # Set shuffle=True for random splits\n",
    "\n",
    "# Initialize lists to store R-squared scores for training and testing sets\n",
    "r2_train, r2_test = list(), list()\n",
    "\n",
    "# Perform KFold cross-validation\n",
    "for train, test in cv.split(X):\n",
    "    estimator.fit(X[train, :], y[train])                                         # Train the model on the training split\n",
    "    r2_train.append(metrics.r2_score(y[train], estimator.predict(X[train, :])))  # Calculate R2 on training data\n",
    "    r2_test.append(metrics.r2_score(y[test], estimator.predict(X[test, :])))     # Calculate R2 on test data\n",
    "\n",
    "# Print the mean R-squared scores for training and testing sets\n",
    "print(\"Train r^2: %.2f\" % np.mean(r2_train))  # Print average training R2 score\n",
    "print(\" Test r^2: %.2f\" % np.mean(r2_test))    # Print average testing R2 score"
   ]
  },
  {
   "cell_type": "markdown",
   "id": "ebcf9ef1-f523-4979-a317-417784c4d0f4",
   "metadata": {},
   "source": [
    "#### Explanation:\n",
    "\n",
    "`Ridge regression`: This is a linear regression model with L2 regularization. The alpha=10 controls the regularization strength.\n",
    "\n",
    "`KFold cross-validation`: It splits the dataset into n_splits=5 parts and ensures that each fold is used for testing exactly once while the remaining 4 parts are used for training.\n",
    "\n",
    "    - shuffle=True: The data is shuffled before being split, ensuring random splitting.\n",
    "    - random_state=42: A fixed random seed ensures reproducibility of the shuffling.\n",
    "    \n",
    "`R-squared (r2) score`: This score measures how well the regression model fits the data. It ranges from negative values to 1, where 1 indicates perfect prediction.\n",
    "\n",
    "`Mean R-squared`: After training and testing on each split, the mean R2 score is computed and printed to give an overall evaluation of model performance.\n",
    "\n",
    "\n",
    "\n",
    "\n",
    "\n"
   ]
  },
  {
   "cell_type": "markdown",
   "id": "47ba2fcc-833e-4743-8e6f-6c8b2485450d",
   "metadata": {},
   "source": [
    "    Scikit-learn provides user-friendly function to perform CV:"
   ]
  },
  {
   "cell_type": "code",
   "execution_count": 7,
   "id": "2b6bb763-7c31-4957-a82e-2de111e40ba6",
   "metadata": {},
   "outputs": [
    {
     "name": "stdout",
     "output_type": "stream",
     "text": [
      "             Test r^2: 0.73\n",
      "Test r^2 with shuffle: 0.67\n"
     ]
    }
   ],
   "source": [
    "from sklearn.model_selection import KFold, cross_val_score\n",
    "import sklearn.linear_model as lm\n",
    "from sklearn import datasets\n",
    "import numpy as np\n",
    "\n",
    "# Generate the dataset\n",
    "X, y = datasets.make_regression(n_samples=100, n_features=100, n_informative=10, random_state=42)\n",
    "\n",
    "# Initialize the Ridge regression model\n",
    "estimator = lm.Ridge(alpha=10)\n",
    "\n",
    "# Perform cross-validation with default KFold (no shuffle)\n",
    "scores = cross_val_score(estimator=estimator, X=X, y=y, cv=5)\n",
    "print(\"             Test r^2: %.2f\" % scores.mean())  # Display the mean R-squared score across the test sets\n",
    "\n",
    "# Initialize KFold cross-validation with 5 splits, shuffle=True, and a fixed random state\n",
    "cv = KFold(n_splits=5, shuffle=True, random_state=42)\n",
    "\n",
    "# Perform cross-validation using the custom KFold object and compute R-squared scores\n",
    "scores = cross_val_score(estimator=estimator, X=X, y=y, cv=cv)\n",
    "print(\"Test r^2 with shuffle: %.2f\" % scores.mean())  # Display the mean R-squared score across the test sets"
   ]
  },
  {
   "cell_type": "markdown",
   "id": "c564fa61-8162-4500-a1db-4fd7844174bc",
   "metadata": {},
   "source": [
    "      No shuffle, the model explains 73% of the variance in the data.\n",
    "    With shuffle, the model explains 67% of the variance in the data."
   ]
  },
  {
   "cell_type": "markdown",
   "id": "0e12de4d-40f6-4598-82c7-02a26099a0fe",
   "metadata": {},
   "source": [
    "## CV for Classification"
   ]
  },
  {
   "cell_type": "markdown",
   "id": "7c3f987f-9a9d-4eb8-bdc4-703d1aa7ecd3",
   "metadata": {},
   "source": [
    "With classification problems it is essential to sample folds where each set contains approximately the same percentage of samples of each target class as the complete set. This is called stratification. In this case, we will use `StratifiedKFold` with is a variation of k-fold which returns stratified folds.\n",
    "\n",
    "Usually the error function 𝐿() are, at least, the sensitivity and the specificity. However other function could be used."
   ]
  },
  {
   "cell_type": "code",
   "execution_count": 11,
   "id": "81ccb39e-2762-4726-8f4c-b49fde874089",
   "metadata": {},
   "outputs": [
    {
     "name": "stdout",
     "output_type": "stream",
     "text": [
      "=== Macro measures ===\n",
      "Train SPC:1.00; SEN:1.00\n",
      " Test SPC:0.76; SEN:0.82\n",
      " Test ACC:0.79, ballanced ACC:0.79 Folds: [0.9, 0.7, 0.9, 0.7, 0.75]\n",
      " Test ACC:0.79 Folds: [0.9, 0.7, 0.9, 0.7, 0.75]\n",
      "\n",
      "=== Micro measures ===\n",
      "Test SPC:0.76; SEN:0.82\n",
      "Test ACC:0.79\n"
     ]
    }
   ],
   "source": [
    "from sklearn import datasets\n",
    "import sklearn.linear_model as lm\n",
    "import sklearn.metrics as metrics\n",
    "from sklearn.model_selection import StratifiedKFold\n",
    "\n",
    "X, y = datasets.make_classification(n_samples=100, n_features=100,     # Generate a classification dataset with 100 samples, 100 features\n",
    "                                    n_informative=10, random_state=42) # 10 informative features, Random seed set for reproducibility\n",
    "\n",
    "estimator = lm.LogisticRegression(C=1, solver='lbfgs')                 # Initialize LRRegression with C=1 (regularization) and solver 'lbfgs'\n",
    "cv = StratifiedKFold(n_splits=5)                                       # Use StratifiedKFold cv with 5 splits (preserving class distribution)\n",
    "\n",
    "# Lists to store scores by folds (for macro measure only)\n",
    "recalls_train, recalls_test, acc_test = list(), list(), list()         # Initialize empty lists to store recall (train/test) and accuracy (test) scores\n",
    "\n",
    "# Or vector of test predictions (for both macro and micro measures, not for training samples)\n",
    "y_test_pred = np.zeros(len(y))                                         # Create a 0 vector to store test predictions across all folds for micro measures\n",
    "\n",
    "for train, test in cv.split(X, y):                                     # Loop through each fold (train/test indices) in StratifiedKFold\n",
    "    estimator.fit(X[train, :], y[train])                               # Train the model on the current training fold\n",
    "    recalls_train.append(metrics.recall_score(y[train], estimator.predict(X[train, :]), average=None)) # Compute recall for training fold and store it\n",
    "    recalls_test.append(metrics.recall_score(y[test], estimator.predict(X[test, :]), average=None))    # Compute recall for test fold and store it\n",
    "    acc_test.append(metrics.accuracy_score(y[test], estimator.predict(X[test, :])))                    # Compute accuracy for the test fold and store it\n",
    "\n",
    "    # Store test predictions (for micro measures)\n",
    "    y_test_pred[test] = estimator.predict(X[test, :])                  # Save the test predictions for later evaluation (micro measures)\n",
    "    \n",
    "print(\"=== Macro measures ===\")\n",
    "\n",
    "# Use lists of scores\n",
    "recalls_train = np.array(recalls_train)                                # Convert training recall scores to a numpy array for easier calculation\n",
    "recalls_test = np.array(recalls_test)                                  # Convert test recall scores to a numpy array\n",
    "print(\"Train SPC:%.2f; SEN:%.2f\" % tuple(recalls_train.mean(axis=0)))  # Print mean specificity (SPC) and sensitivity (SEN) for the training folds\n",
    "print(\" Test SPC:%.2f; SEN:%.2f\" % tuple(recalls_test.mean(axis=0)), ) # Print mean SPC and SEN for the test folds\n",
    "print(\" Test ACC:%.2f, ballanced ACC:%.2f\" %                           # Print test accuracy and balanced accuracy (mean of recalls)\n",
    "(np.mean(acc_test), recalls_test.mean(axis=1).mean()), \"Folds:\", acc_test) # Print per-fold test accuracy\n",
    "\n",
    "# Or use vector to test predictions\n",
    "acc_test = [metrics.accuracy_score(y[test], y_test_pred[test]) for train, test in cv.split(X, y)] # Recompute accuracy using the stored test predictions\n",
    "print(\" Test ACC:%.2f\" % np.mean(acc_test), \"Folds:\", acc_test)         # Print average test accuracy and accuracy for each fold\n",
    "print()\n",
    "\n",
    "print(\"=== Micro measures ===\")\n",
    "\n",
    "print(\"Test SPC:%.2f; SEN:%.2f\" % tuple(metrics.recall_score(y, y_test_pred, average=None)))# micro-average specificity and sensitivity across all folds\n",
    "print(\"Test ACC:%.2f\" % metrics.accuracy_score(y, y_test_pred))                             # micro-average accuracy across all test samples"
   ]
  },
  {
   "cell_type": "markdown",
   "id": "0e698004-d145-47d7-9477-6d986b60a582",
   "metadata": {},
   "source": [
    "#### Key Concepts:\n",
    "\n",
    "Cross-Validation (StratifiedKFold):\n",
    "\n",
    "* Splits the data into 5 folds, ensuring that each fold maintains the same class distribution as the overall dataset (stratification).\n",
    "* The model is trained and evaluated on different folds to assess its performance on unseen data.\n",
    "\n",
    "Recall (Sensitivity):\n",
    "\n",
    "* Measures the proportion of actual positives (class 1) correctly identified. It is calculated separately for training and test sets using recall_score.\n",
    "* Macro-average recalls are calculated per fold and then averaged.\n",
    "\n",
    "Specificity (SPC):\n",
    "\n",
    "* Measures the proportion of actual negatives (class 0) correctly identified. In this code, it's also calculated via recall_score, but for class 0.\n",
    "\n",
    "Accuracy:\n",
    "\n",
    "* The proportion of correct predictions (both classes) across the test set for each fold. Calculated using accuracy_score.\n",
    "\n",
    "Macro and Micro Measures:\n",
    "\n",
    "* Macro: Averaging the metrics (recall, accuracy) for each fold. Gives equal weight to each class.\n",
    "* Micro: Evaluating metrics by combining predictions across all test samples, rather than averaging per fold."
   ]
  },
  {
   "cell_type": "code",
   "execution_count": 13,
   "id": "4c857cd3-44b5-4a48-9486-57c71b1e91a5",
   "metadata": {},
   "outputs": [
    {
     "name": "stdout",
     "output_type": "stream",
     "text": [
      "Test ACC:0.79\n"
     ]
    }
   ],
   "source": [
    "from sklearn.model_selection import cross_val_score \n",
    "\n",
    "# Perform cross-validation on the estimator (Logistic Regression in this case)\n",
    "scores = cross_val_score(estimator=estimator,   # Use the estimator (model)\n",
    "                         X=X,                   # Feature matrix\n",
    "                         y=y,                   # Target vector\n",
    "                         cv=5)                  # Use 5-fold cross-validation\n",
    "\n",
    "scores.mean()                                   # Calculate the mean of the cross-validation scores\n",
    "\n",
    "# Define a custom balanced accuracy scorer\n",
    "def balanced_acc(estimator, X, y, **kwargs):  \n",
    "    '''\n",
    "    Balanced accuracy scorer: Computes the mean recall (balanced accuracy)\n",
    "    '''\n",
    "    return metrics.recall_score(y, estimator.predict(X), average=None).mean()  # Compute mean recall across classes\n",
    "\n",
    "# Perform cross-validation using the custom balanced accuracy scorer\n",
    "scores = cross_val_score(estimator=estimator,  # Estimator (model)\n",
    "                         X=X,                  # Feature matrix\n",
    "                         y=y,                  # Target vector\n",
    "                         cv=5,                 # 5-fold cross-validation\n",
    "                         scoring=balanced_acc) # Use custom balanced accuracy scorer\n",
    "\n",
    "# Print the average balanced accuracy across folds\n",
    "print(\"Test ACC:%.2f\" % scores.mean())         # Print the mean score"
   ]
  },
  {
   "cell_type": "markdown",
   "id": "df2dea89-6188-4fad-a2ee-003f5c987b81",
   "metadata": {},
   "source": [
    "Note that with Scikit-learn user-friendly function we average the scores’ average obtained on\n",
    "individual folds which may provide slightly different results that the overall average presented\n",
    "earlier."
   ]
  },
  {
   "cell_type": "markdown",
   "id": "958c9e41-1cb0-41e5-ae14-ada4078fea60",
   "metadata": {},
   "source": [
    "## Parallel Computation with Joblib"
   ]
  },
  {
   "cell_type": "code",
   "execution_count": 16,
   "id": "32f675b0-e558-449b-bce1-a20ade79b71e",
   "metadata": {},
   "outputs": [
    {
     "name": "stdout",
     "output_type": "stream",
     "text": [
      "0.8 [0.5 0.5 1.  1.  1. ]\n"
     ]
    }
   ],
   "source": [
    "from sklearn import datasets\n",
    "import sklearn.linear_model as lm\n",
    "import sklearn.metrics as metrics\n",
    "from sklearn.model_selection import cross_validate, StratifiedKFold\n",
    "\n",
    "# Import necessary modules\n",
    "X, y = datasets.make_classification(n_samples=20,     # Generate a classification dataset with 20 samples\n",
    "                                    n_features=5,     # 5 features for each sample\n",
    "                                    n_informative=2,  # 2 informative features (used for class separation)\n",
    "                                    random_state=42)  # Set random state for reproducibility\n",
    "\n",
    "# Define cross-validation strategy\n",
    "cv = StratifiedKFold(n_splits=5)  # StratifiedKFold ensures each fold has a proportional number of samples from each class\n",
    "\n",
    "# Initialize the Logistic Regression estimator\n",
    "estimator = lm.LogisticRegression(C=1,             # C is the inverse of regularization strength (higher C means less regularization)\n",
    "                                  solver='lbfgs')  # 'lbfgs' is the optimization algorithm used to minimize the cost function\n",
    "\n",
    "# Perform cross-validation with the Logistic Regression model\n",
    "cv_results = cross_validate(estimator,     # The estimator (Logistic Regression) to use\n",
    "                            X=X,           # Feature matrix\n",
    "                            y=y,           # Target labels\n",
    "                            cv=cv,         # Cross-validation strategy (5-fold stratified)\n",
    "                            n_jobs=5)      # Run the cross-validation in parallel using 5 CPU cores\n",
    "\n",
    "# Print the mean of the test scores and the individual test scores for each fold\n",
    "print(np.mean(cv_results['test_score']),   # Print the average test score across all folds\n",
    "      cv_results['test_score'])            # Print the test scores from each fold"
   ]
  },
  {
   "cell_type": "markdown",
   "id": "e1ce736c-8b27-427f-8a4f-c0df9b783973",
   "metadata": {},
   "source": [
    "#### Interpretation\n",
    "\n",
    "These values represent the accuracy scores of the Logistic Regression model on the test set for each of the 5 folds during cross-validation:\n",
    "\n",
    "* Fold 1: Accuracy = 0.5\n",
    "* Fold 2: Accuracy = 0.5\n",
    "* Fold 3: Accuracy = 1.0\n",
    "* Fold 4: Accuracy = 1.0\n",
    "* Fold 5: Accuracy = 1.0\n",
    "\n",
    "Accuracy is calculated as the ratio of correct predictions to the total number of predictions for each fold's test set.\n",
    "\n",
    "    In the first two folds, the accuracy is lower (0.5), meaning that the model's predictions were only 50% correct.\n",
    "    In the last three folds, the model achieved perfect accuracy (1.0), predicting all test samples correctly.\n",
    "\n",
    "Mean Test Score (0.8) = (0.5 + 0.5 + 1.0 + 1.0 + 1.0) / 5 "
   ]
  },
  {
   "cell_type": "markdown",
   "id": "5f951217-bbee-4b2c-bea0-9690fe8c92b4",
   "metadata": {},
   "source": [
    "If we want have full control of the operations performed within each fold (retrieve the models parameters, etc.). We would like to parallelize the folowing sequetial code:"
   ]
  },
  {
   "cell_type": "code",
   "execution_count": 19,
   "id": "2524c9c7-a962-42d1-8f24-26bb0fac6360",
   "metadata": {},
   "outputs": [
    {
     "name": "stdout",
     "output_type": "stream",
     "text": [
      "Mean [accuracy for each fold]\n",
      "0.8 [0.5, 0.5, 1.0, 1.0, 1.0]\n",
      "\n",
      "Coefficient vectors from each fold\n",
      "[[[-0.87692648  0.62591974  1.18706081 -0.30704161 -0.38030241]]\n",
      "\n",
      " [[-0.74649131  0.62146103  1.10152459  0.19812029 -0.40119197]]\n",
      "\n",
      " [[-0.96021714  0.51137735  1.12112968  0.08043038 -0.26438637]]\n",
      "\n",
      " [[-0.85768977  0.52013118  1.06648343 -0.10983459 -0.29151814]]\n",
      "\n",
      " [[-0.89946124  0.51498228  1.08712223 -0.24754495 -0.27908142]]]\n",
      "\n",
      "Means of the coefficients\n",
      "[[-0.86815719  0.55877432  1.11266415 -0.07717409 -0.32329606]]\n",
      "\n",
      "Std Err of the coefficients\n",
      "[[0.03126917 0.02374501 0.01845607 0.08568738 0.02510189]]\n"
     ]
    }
   ],
   "source": [
    "# Initialize the logistic regression model with L2 regularization (default)\n",
    "estimator = lm.LogisticRegression(C=1, solver='lbfgs')\n",
    "\n",
    "# Initialize an array to store the test predictions in their original order\n",
    "y_test_pred_seq = np.zeros(len(y))  # Will hold predictions from each fold in the original order of the dataset\n",
    "\n",
    "# Initialize an empty list to store the coefficient estimates from each fold\n",
    "coefs_seq = list()\n",
    "\n",
    "# Perform cross-validation by splitting the data into training and test sets using the StratifiedKFold object `cv`\n",
    "for train, test in cv.split(X, y):  # For each train-test split (5 splits in total):\n",
    "    \n",
    "    # Extract the training and test data based on the current fold\n",
    "    X_train, X_test, y_train, y_test = X[train, :], X[test, :], y[train], y[test]  # Split data into training and testing sets\n",
    "    \n",
    "    # Fit the logistic regression model on the current training set\n",
    "    estimator.fit(X_train, y_train)\n",
    "    \n",
    "    # Make predictions on the current test set and store them in `y_test_pred_seq` in the original order\n",
    "    y_test_pred_seq[test] = estimator.predict(X_test)\n",
    "    \n",
    "    # Append the coefficients (model weights) learned during this fold to the `coefs_seq` list\n",
    "    coefs_seq.append(estimator.coef_)\n",
    "\n",
    "# Calculate the accuracy scores for each fold by comparing the test set predictions to the true labels\n",
    "test_accs = [metrics.accuracy_score(y[test], y_test_pred_seq[test]) for train, test in cv.split(X, y)]\n",
    "\n",
    "# Print the mean accuracy and individual accuracy scores for each fold\n",
    "print('Mean [accuracy for each fold]')\n",
    "print(np.mean(test_accs), test_accs)  # Mean accuracy over all folds and individual fold accuracies\n",
    "print()\n",
    "\n",
    "# Convert the list of coefficients into a NumPy array for easier manipulation\n",
    "coefs_cv = np.array(coefs_seq)\n",
    "\n",
    "# Print all coefficient vectors from each fold\n",
    "print('Coefficient vectors from each fold')\n",
    "print(coefs_cv)\n",
    "\n",
    "# Print the mean of the coefficients (average model weights across folds)\n",
    "print('\\nMeans of the coefficients')\n",
    "print(coefs_cv.mean(axis=0))  # Calculate the mean of the coefficients across all folds\n",
    "\n",
    "# Print the standard error of the coefficients (how much the coefficients vary across folds)\n",
    "print(\"\\nStd Err of the coefficients\")\n",
    "print(coefs_cv.std(axis=0) / np.sqrt(coefs_cv.shape[0]))  # Standard error of the coefficients across folds"
   ]
  },
  {
   "cell_type": "markdown",
   "id": "068ed2a3-a1dc-4761-8381-14b41fbc549d",
   "metadata": {},
   "source": [
    "#### Interpretation\n",
    "\n",
    "These are the learned model coefficients (weights) for each feature from each fold of the cross-validation. Since this is logistic regression, these coefficients represent the influence of each feature on the model's decision. For example:\n",
    "\n",
    "    The first row ([-0.87692648, 0.62591974, 1.18706081, -0.30704161, -0.38030241]) corresponds to the learned coefficients from the first fold of cross-validation. \n",
    "    \n",
    "    Each subsequent row corresponds to the coefficients learned from the remaining folds.\n",
    "\n",
    "This represents the average of the coefficients across all the folds of cross-validation. The values show how much each feature contributes to the model's predictions on average across all folds. For example:\n",
    "\n",
    "    The first feature has an average coefficient of -0.86815719, meaning it generally has a negative influence on the prediction.\n",
    "    \n",
    "    The third feature has an average coefficient of 1.11266415, meaning it has a strong positive influence on the prediction.\n",
    "\n",
    "The standard error measures the variability in the coefficients across the different cross-validation folds. The smaller the standard error, the more consistent the coefficient estimates across the folds. For example:\n",
    "\n",
    "    The standard error for the third feature is 0.01845607, indicating that the coefficient for this feature is very stable across folds.\n",
    "    \n",
    "    The standard error for the fourth feature is 0.08568738, indicating that the coefficient for this feature varies more across folds."
   ]
  },
  {
   "cell_type": "code",
   "execution_count": 21,
   "id": "af4939ef-48d2-49a7-82e5-213a0a719b9e",
   "metadata": {},
   "outputs": [
    {
     "name": "stdout",
     "output_type": "stream",
     "text": [
      "0.8 [0.5, 0.5, 1.0, 1.0, 1.0]\n"
     ]
    }
   ],
   "source": [
    "import joblib  \n",
    "from joblib import Parallel, delayed \n",
    "from sklearn.base import is_classifier, clone\n",
    "\n",
    "def _split_fit_predict(estimator, X, y, train, test):  \n",
    "    \"\"\"Fit the estimator on training data and predict on test data.\"\"\"\n",
    "    X_train, X_test, y_train, y_test = X[train, :], X[test, :], y[train], y[test]  # Split data\n",
    "    estimator.fit(X_train, y_train)                                                # Fit the model on training data\n",
    "    return [estimator.predict(X_test), estimator.coef_]                            # Return test predictions and coefficients\n",
    "\n",
    "# Initialize Logistic Regression estimator\n",
    "estimator = lm.LogisticRegression(C=1, solver='lbfgs')  # Regularized logistic regression\n",
    "\n",
    "# Set up parallel execution (using 5 jobs)\n",
    "parallel = Parallel(n_jobs=5)                           # Execute jobs in parallel with 5 processes\n",
    "\n",
    "# Perform cross-validation in parallel\n",
    "cv_ret = parallel(\n",
    "    delayed(_split_fit_predict)(clone(estimator), X, y, train, test)  # Fit and predict in parallel\n",
    "    for train, test in cv.split(X, y)                                 # Iterate through cross-validation splits\n",
    ")\n",
    "\n",
    "# Unpack results into predictions and coefficients\n",
    "y_test_pred_cv, coefs_cv = zip(*cv_ret)                 # Collect predictions and coefficients for each fold\n",
    "\n",
    "# Retrieve predictions in the original order\n",
    "y_test_pred = np.zeros(len(y))  # Initialize an array for storing predictions\n",
    "\n",
    "for i, (train, test) in enumerate(cv.split(X, y)):      # Iterate through the cross-validation splits\n",
    "    y_test_pred[test] = y_test_pred_cv[i]               # Assign predictions back in original order\n",
    "\n",
    "# Calculate accuracy for each test fold\n",
    "test_accs = [metrics.accuracy_score(y[test], y_test_pred[test]) for train, test in cv.split(X, y)]\n",
    "\n",
    "# Print mean test accuracy and accuracies for each fold\n",
    "print(np.mean(test_accs), test_accs)                    # Display average accuracy and individual fold results"
   ]
  },
  {
   "cell_type": "markdown",
   "id": "a6e81c7b-60c8-4060-b43c-e815135c0bbf",
   "metadata": {},
   "source": [
    "#### Test same predictions and same coeficients"
   ]
  },
  {
   "cell_type": "code",
   "execution_count": 23,
   "id": "cd979516-f360-45bf-8152-c4500808c8dd",
   "metadata": {},
   "outputs": [
    {
     "name": "stdout",
     "output_type": "stream",
     "text": [
      "All predictions match between parallel and sequential executions.\n",
      "All coefficients match between parallel and sequential executions.\n"
     ]
    }
   ],
   "source": [
    "# Compare predictions from parallel execution vs sequential execution\n",
    "if np.all(y_test_pred == y_test_pred_seq):\n",
    "    print(\"All predictions match between parallel and sequential executions.\")\n",
    "else:\n",
    "    print(\"There are differences in predictions between parallel and sequential executions.\")\n",
    "\n",
    "# Compare coefficients from parallel execution vs sequential execution\n",
    "if np.allclose(np.array(coefs_cv).squeeze(), np.array(coefs_seq).squeeze()):\n",
    "    print(\"All coefficients match between parallel and sequential executions.\")\n",
    "else:\n",
    "    print(\"There are differences in coefficients between parallel and sequential executions.\")"
   ]
  },
  {
   "cell_type": "markdown",
   "id": "94713381-3ce2-4a87-a73a-ddfb9272d705",
   "metadata": {},
   "source": [
    "## CV for Model Selection: Setting the Hyper Parameters"
   ]
  },
  {
   "cell_type": "code",
   "execution_count": 25,
   "id": "fdc34be8-27fa-4971-967d-3b5e72d6847e",
   "metadata": {},
   "outputs": [
    {
     "name": "stdout",
     "output_type": "stream",
     "text": [
      "SNR: 2.6358469446381614\n"
     ]
    }
   ],
   "source": [
    "from sklearn import datasets\n",
    "import sklearn.linear_model as lm\n",
    "from sklearn.model_selection import GridSearchCV\n",
    "import sklearn.metrics as metrics\n",
    "from sklearn.model_selection import KFold\n",
    "\n",
    "# Dataset generation: Create a synthetic regression dataset\n",
    "noise_sd = 10                                         # Standard deviation of the noise added to the dataset\n",
    "X, y, coef = datasets.make_regression(n_samples=50,   # Number of samples\n",
    "                                      n_features=100, # Number of features (input variables)\n",
    "                                      noise=noise_sd, # Add Gaussian noise to the target variable y\n",
    "                                      n_informative=2,# Only 2 features are actually informative\n",
    "                                      random_state=42,# Random seed for reproducibility\n",
    "                                      coef=True)      # Return the coefficients used to generate the data\n",
    "\n",
    "# Compute and display the Signal-to-Noise Ratio (SNR)\n",
    "# SNR is the ratio between the standard deviation of the signal (X.dot(coef)) and the noise (noise_sd)\n",
    "print(\"SNR:\", np.std(np.dot(X, coef)) / noise_sd)     # A lower SNR means the data is noisier"
   ]
  },
  {
   "cell_type": "code",
   "execution_count": 26,
   "id": "cf8b6673-fe7a-4ea6-8429-3175a0558a77",
   "metadata": {},
   "outputs": [
    {
     "name": "stdout",
     "output_type": "stream",
     "text": [
      "Train r2:0.96\n",
      "{'alpha': 1.0, 'l1_ratio': 0.9}\n"
     ]
    }
   ],
   "source": [
    "# Define a parameter grid for hyperparameter tuning (alpha and l1_ratio)\n",
    "# 'alpha' controls the strength of regularization, and 'l1_ratio' balances between L1 (lasso) and L2 (ridge) regularization\n",
    "param_grid = {'alpha': 10. ** np.arange(-3, 3),      # alpha values ranging from 0.001 to 100 (log scale)\n",
    "              'l1_ratio': [.1, .5, .9]}              # l1_ratio values: 0.1 (more ridge), 0.5 (balance), 0.9 (more lasso)\n",
    "\n",
    "# Wrap the ElasticNet model using GridSearchCV to search for the best combination of alpha and l1_ratio\n",
    "# ElasticNet is a linear regression model that combines L1 and L2 regularization (lasso + ridge)\n",
    "model = GridSearchCV(lm.ElasticNet(max_iter=10000),  # ElasticNet with maximum 10,000 iterations for convergence\n",
    "                     param_grid,                     # Grid of hyperparameters to search\n",
    "                     cv=5)                           # 5-fold cross-validation to evaluate performance\n",
    "\n",
    "model.fit(X, y)  # Fit the model to the training data (X, y)\n",
    "\n",
    "# Calculate and display the R-squared score on the training data\n",
    "# R-squared represents the proportion of variance explained by the model (closer to 1 is better)\n",
    "print(\"Train r2:%.2f\" % metrics.r2_score(y, model.predict(X)))  # R-squared score for model performance on training data\n",
    "\n",
    "# Print the best parameters found by GridSearchCV\n",
    "# These are the optimal values of alpha and l1_ratio based on cross-validation\n",
    "print(model.best_params_)"
   ]
  },
  {
   "cell_type": "code",
   "execution_count": 27,
   "id": "2270cc91-f970-4a16-b381-2072ce52085c",
   "metadata": {},
   "outputs": [
    {
     "name": "stdout",
     "output_type": "stream",
     "text": [
      "Train r^2:0.98\n",
      " Test r^2:0.75\n",
      "\n",
      "Selected alphas: [{'alpha': 1.0, 'l1_ratio': 0.9}, {'alpha': 0.001, 'l1_ratio': 0.9}, {'alpha': 1.0, 'l1_ratio': 0.9}, {'alpha': 1.0, 'l1_ratio': 0.9}, {'alpha': 0.1, 'l1_ratio': 0.9}]\n"
     ]
    }
   ],
   "source": [
    "# Define K-fold cross-validation with 5 splits, shuffling enabled, and a fixed random seed for reproducibility\n",
    "cv = KFold(n_splits=5, shuffle=True, random_state=42)  # Enable shuffling to use random_state\n",
    "\n",
    "# Initialize lists to store R-squared scores for training and testing sets, and the selected alpha values\n",
    "r2_train, r2_test = list(), list()  # Store R-squared scores for training and test sets\n",
    "alphas = list()                     # Store the best alpha values selected in each fold\n",
    "\n",
    "# Iterate through each train-test split of the data\n",
    "for train, test in cv.split(X, y):  # Split the data into training and test sets in each fold\n",
    "    # Split the data into training and testing sets based on the current fold\n",
    "    X_train, X_test, y_train, y_test = X[train, :], X[test, :], y[train], y[test]\n",
    "    \n",
    "    # Fit the ElasticNet model on the training data\n",
    "    model.fit(X_train, y_train)\n",
    "    \n",
    "    # Calculate R-squared scores for both the training and testing sets\n",
    "    r2_test.append(metrics.r2_score(y_test, model.predict(X_test)))     # R-squared score for the test set\n",
    "    r2_train.append(metrics.r2_score(y_train, model.predict(X_train)))  # R-squared score for the training set\n",
    "    \n",
    "    # Append the best alpha (regularization parameter) selected by the GridSearchCV model in each fold\n",
    "    alphas.append(model.best_params_)\n",
    "\n",
    "# Print the mean R-squared score for the training data across all folds\n",
    "print(\"Train r^2:%.2f\" % np.mean(r2_train))  # Calculate and display the average R-squared score for the training set\n",
    "\n",
    "# Print the mean R-squared score for the testing data across all folds\n",
    "print(\" Test r^2:%.2f\" % np.mean(r2_test))   # Calculate and display the average R-squared score for the test set\n",
    "\n",
    "# Print the selected alpha values (best regularization parameters) from each fold\n",
    "print(\"\\nSelected alphas:\", alphas)          # Display the best alpha values selected by GridSearchCV in each fold"
   ]
  },
  {
   "cell_type": "markdown",
   "id": "2531690f-181a-421c-93da-d6ba68ca9cca",
   "metadata": {},
   "source": [
    "#### Interpretation\n",
    "\n",
    "`Train R²= 0.98`: the model explains 98% of the variance in the target variable (y) for the training set.\n",
    "\n",
    "`Test R²= 0.75`: the model explains 75% of the variance in the target variable for the test set.\n",
    "\n",
    "\n",
    "Selected Alphas:\n",
    "\n",
    "* Alpha: Controls the strength of regularization. Higher values of alpha apply stronger regularization, which helps in preventing overfitting by penalizing large coefficients.\n",
    "\n",
    "* l1_ratio: Controls the mix between L1 and L2 regularization. A value of 0.9 means the model is mostly using L1 regularization (which tends to shrink some coefficients to exactly zero, promoting sparsity), but also includes some L2 regularization (which tends to shrink coefficients without forcing them to zero).\n",
    "\n",
    "The model performed cross-validation across different folds, and for each fold, a different set of best parameters (alpha, l1_ratio) was chosen. The selected alphas across the 5 folds are:\n",
    "\n",
    "    {'alpha': 1.0, 'l1_ratio': 0.9} (chosen in 3 folds)\n",
    "    {'alpha': 0.001, 'l1_ratio': 0.9} (chosen in 1 fold)\n",
    "    {'alpha': 0.1, 'l1_ratio': 0.9} (chosen in 1 fold)"
   ]
  },
  {
   "cell_type": "code",
   "execution_count": 29,
   "id": "bd0f0532-65f4-4021-9561-230be71f7064",
   "metadata": {},
   "outputs": [
    {
     "name": "stdout",
     "output_type": "stream",
     "text": [
      "Test r^2: 0.75\n"
     ]
    }
   ],
   "source": [
    "from sklearn.model_selection import cross_val_score\n",
    "\n",
    "# Perform cross-validation to evaluate the model's performance\n",
    "scores = cross_val_score(estimator=model,  # The model to be evaluated, in this case, 'model' (e.g., ElasticNet, Ridge)\n",
    "                         X=X,              # The feature matrix (input data) used for training and evaluation\n",
    "                         y=y,              # The target vector (output data) corresponding to the feature matrix\n",
    "                         cv=cv)            # The cross-validation splitting strategy (e.g., KFold, StratifiedKFold)\n",
    "\n",
    "# Print the average R-squared score across all the cross-validation folds\n",
    "print(\"Test r^2: %.2f\" % scores.mean())     # Format the mean R² score and display it"
   ]
  },
  {
   "cell_type": "markdown",
   "id": "6be109a4-746a-4976-833c-e938f4e8dee8",
   "metadata": {},
   "source": [
    "On average, 75% of the variance in the target variable y can be explained by the model when evaluated on the test data using cross-validation."
   ]
  },
  {
   "cell_type": "code",
   "execution_count": 31,
   "id": "82d02c6e-4b1d-48e8-b213-2e8e73fe8674",
   "metadata": {},
   "outputs": [
    {
     "name": "stdout",
     "output_type": "stream",
     "text": [
      "=== Ridge (L2 penalty) ===\n",
      "Test r^2: 0.16\n",
      "\n",
      "=== Lasso (L1 penalty) ===\n",
      "Test r^2: 0.74\n",
      "\n",
      "=== ElasticNet (L1 penalty) ===\n",
      "Test r^2: 0.58\n"
     ]
    }
   ],
   "source": [
    "from sklearn import datasets               \n",
    "import sklearn.linear_model as lm         \n",
    "import sklearn.metrics as metrics         \n",
    "from sklearn.model_selection import cross_val_score \n",
    "\n",
    "# Dataset generation\n",
    "X, y, coef = datasets.make_regression(n_samples=50,        # Generate a regression dataset with 50 samples\n",
    "                                      n_features=100,      # with 100 features (predictors)\n",
    "                                      noise=10,            # Add noise to the data (standard deviation of 10)\n",
    "                                      n_informative=2,     # Only 2 of the features are truly informative\n",
    "                                      random_state=42,     # Ensure reproducibility of results with a fixed random seed\n",
    "                                      coef=True)           # Return the true coefficients used to generate the data\n",
    "\n",
    "# Ridge Regression (L2 Regularization)\n",
    "print(\"=== Ridge (L2 penalty) ===\")\n",
    "model = lm.RidgeCV(cv=3)                                   # Use Ridge regression with built-in cross-validation\n",
    "                                                           # RidgeCV automatically chooses the best alpha (regularization strength) \n",
    "                                                           # from a range of values\n",
    "\n",
    "# Perform 5-fold cross-validation\n",
    "scores = cross_val_score(estimator=model, X=X, y=y, cv=5)  # Perform 5-fold cross-validation to evaluate the model\n",
    "print(\"Test r^2: %.2f\" % scores.mean())                    # Print the average R-squared score from the 5 cross-validation runs\n",
    "print()\n",
    "\n",
    "# Lasso Regression (L1 Regularization)\n",
    "print(\"=== Lasso (L1 penalty) ===\")\n",
    "model = lm.LassoCV(n_jobs=-1, cv=3)                        # Use Lasso regression with built-in cross-validation\n",
    "                                                           # LassoCV automatically selects the best alpha for L1 regularization\n",
    "\n",
    "# Perform 5-fold cross-validation\n",
    "scores = cross_val_score(estimator=model, X=X, y=y, cv=5)  # Perform 5-fold cross-validation to evaluate the model\n",
    "print(\"Test r^2: %.2f\" % scores.mean())                    # Print the average R-squared score from the 5 cross-validation runs\n",
    "print()\n",
    "\n",
    "# ElasticNet Regression (Combination of L1 and L2 Regularization)\n",
    "print(\"=== ElasticNet (L1 penalty) ===\")\n",
    "model = lm.ElasticNetCV(l1_ratio=[.1, .5, .9], n_jobs=-1, cv=3)  # Use ElasticNet regression with cross-validation\n",
    "                                                                 # l1_ratio=[.1, .5, .9] tests multiple L1/L2 combinations\n",
    "                                                                 # ElasticNetCV automatically chooses the best alpha and l1_ratio\n",
    "\n",
    "# Perform 5-fold cross-validation\n",
    "scores = cross_val_score(estimator=model, X=X, y=y, cv=5)  # Perform 5-fold cross-validation to evaluate the model\n",
    "print(\"Test r^2: %.2f\" % scores.mean())                    # Print the average R-squared score from the 5 cross-validation runs"
   ]
  },
  {
   "cell_type": "markdown",
   "id": "ece22a05-0238-43ff-a2ef-f3a0c781df81",
   "metadata": {},
   "source": [
    "#### Interpretation\n",
    "\n",
    "**The Ridge regression** model with L2 regularization performed poorly in this case, as it explains only 16% of the variance in the target variable (R² = 0.16). This could indicate that Ridge regression might not be the best choice for this dataset, especially since Ridge tends to spread the effect of regularization over all features, even those that may not be very informative.\n",
    "\n",
    "**The Lasso regression** model performs significantly better, explaining 74% of the variance in the target variable. Lasso (L1 regularization) helps with feature selection by driving some of the less important coefficients to zero. This suggests that many of the features in this dataset are irrelevant, and Lasso is better at isolating the truly important ones, which leads to improved predictive performance.\n",
    "\n",
    "**ElasticNet**, which combines both L1 and L2 regularization, performs moderately well with an R² score of 0.58. This result is better than Ridge but worse than Lasso. This may suggest that the combination of L1 and L2 regularization is not as effective as pure L1 regularization for this particular dataset, where Lasso's ability to select a sparse set of important features is more beneficial.\n",
    "\n",
    "#### Conclusion\n",
    "\n",
    "**Lasso** clearly outperforms both Ridge and ElasticNet on this dataset, suggesting that the dataset likely has a few highly informative features, while many others contribute little to the prediction task. Lasso's feature selection capability (driving some coefficients to zero) is likely beneficial here. **Ridge** fails to perform well, likely because it doesn't perform feature selection and includes all features in its model, leading to lower predictive performance. **ElasticNet** strikes a balance between Ridge and Lasso, but in this case, the pure L1 regularization of Lasso works better."
   ]
  },
  {
   "cell_type": "markdown",
   "id": "1eb3504c-71e2-479a-9e9f-9f2857c8cfc6",
   "metadata": {},
   "source": [
    "## Classification Models with Built-in Cross-Validation"
   ]
  },
  {
   "cell_type": "code",
   "execution_count": 34,
   "id": "2d62dca0-3e39-4742-8ea1-5cb02a6a2528",
   "metadata": {},
   "outputs": [
    {
     "name": "stdout",
     "output_type": "stream",
     "text": [
      "=== Logistic Ridge (L2 penalty) ===\n",
      "Test ACC: 0.76\n"
     ]
    }
   ],
   "source": [
    "from sklearn import datasets  \n",
    "import sklearn.linear_model as lm  \n",
    "import sklearn.metrics as metrics \n",
    "from sklearn.model_selection import cross_val_score \n",
    "\n",
    "# Generate a synthetic classification dataset\n",
    "X, y = datasets.make_classification(n_samples=100,    # 100 samples\n",
    "                                    n_features=100,   # 100 features in total\n",
    "                                    n_informative=10, # 10 informative features\n",
    "                                    random_state=42)  # Ensure reproducibility with a fixed seed\n",
    "\n",
    "# Define a custom balanced accuracy scorer function\n",
    "def balanced_acc(estimator, X, y, **kwargs):\n",
    "    '''\n",
    "    Balanced accuracy scorer function that computes the mean recall score for each class.\n",
    "    This function is used as a custom scoring metric for evaluating the classifier's performance.\n",
    "    '''\n",
    "    return metrics.recall_score(y, estimator.predict(X), average=None).mean()  # Compute mean recall for each class\n",
    "\n",
    "print(\"=== Logistic Ridge (L2 penalty) ===\")\n",
    "\n",
    "# Initialize a Logistic Regression model with cross-validation\n",
    "model = lm.LogisticRegressionCV(class_weight='balanced',  # Set 'balanced' class weights to handle imbalanced data\n",
    "                                scoring=balanced_acc,     # Use the custom balanced accuracy scorer function\n",
    "                                n_jobs=-1,                # Use all available cores for parallel processing\n",
    "                                cv=3)                     # Perform 3-fold cross-validation\n",
    "\n",
    "# Perform cross-validation using 5-fold cross-validation\n",
    "scores = cross_val_score(estimator=model,  # The Logistic Regression model with CV\n",
    "                         X=X,              # Feature matrix\n",
    "                         y=y,              # Target vector\n",
    "                         cv=5)             # 5-fold cross-validation\n",
    "\n",
    "# Print the mean test balanced accuracy score across all folds\n",
    "print(\"Test ACC: %.2f\" % scores.mean())    # Display the average accuracy over the 5 folds"
   ]
  },
  {
   "cell_type": "markdown",
   "id": "04d8d8a6-bfac-4c9c-b5a7-4b8878e3a651",
   "metadata": {},
   "source": [
    "## Random Permutations\n",
    "\n",
    "A permutation test is a type of non-parametric randomization test in which the null distribution of a test statistic is estimated by randomly permuting the observations.\n",
    "\r\n",
    "Permutation tests are highly attractive because they make no assumptions other than that th \r",
    "observations are independent and identically distributed under the null hypothesis\n",
    ".\r\n",
    "1. Compute a observed statistic 𝑡𝑜𝑏𝑠 on the data.\r\n",
    "2. Use randomization to compute the distribution of 𝑡 under the null hypothesis: Perform 𝑁\r\n",
    "random permutation of the data. For each sample of permuted data, 𝑖 the data com ute\r\n",
    "the statistic 𝑡𝑖. This procedure provides the distribution of 𝑡 under the null hypothesis 𝐻0:\r\n",
    "𝑃 (𝑡|𝐻0)\r\n",
    "3. Compute the p-value = 𝑃 (𝑡 > 𝑡𝑜𝑏𝑠|𝐻0) |{𝑡𝑖 > 𝑡𝑜𝑏𝑠}|, where 𝑡𝑖’s include 𝑡𝑜𝑏𝑠."
   ]
  },
  {
   "cell_type": "markdown",
   "id": "9141b633-d1a3-4b69-beb9-16b7b4bb142e",
   "metadata": {},
   "source": [
    "### Example with a Correlation (the statistic is the correlation)"
   ]
  },
  {
   "cell_type": "code",
   "execution_count": 37,
   "id": "09b75f61-4bdf-4b23-bcf0-95ca5e1118b2",
   "metadata": {},
   "outputs": [
    {
     "name": "stdout",
     "output_type": "stream",
     "text": [
      "Permutation two-tailed p-value = 0.06959. \n",
      "Pearson test p-value = 0.07355\n",
      "\n"
     ]
    },
    {
     "data": {
      "image/png": "[encoded data removed]",
      "text/plain": [
       "<Figure size 1000x600 with 1 Axes>"
      ]
     },
     "metadata": {},
     "output_type": "display_data"
    }
   ],
   "source": [
    "import scipy.stats as stats  # Import statistical functions module for correlation tests\n",
    "\n",
    "# Generate random data\n",
    "np.random.seed(42)                                   # Fix the seed for reproducibility\n",
    "x = np.random.normal(loc=10, scale=1, size=100)      # Generate 100 samples from a normal distribution with mean=10 and std=1\n",
    "y = x + np.random.normal(loc=-3, scale=3, size=100)  # Generate 'y' as 'x' plus noise (mean=-3, std=3). Signal-to-noise ratio (snr) = 1/2\n",
    "\n",
    "# Permutation test: simulate the null hypothesis\n",
    "nperm = 10000                       # Number of permutations\n",
    "perms = np.zeros(nperm + 1)         # Array to store correlation values under the null hypothesis\n",
    "perms[0] = np.corrcoef(x, y)[0, 1]  # Compute the observed correlation coefficient between 'x' and 'y'\n",
    "for i in range(1, nperm):\n",
    "    perms[i] = np.corrcoef(np.random.permutation(x), y)[0, 1]  # Permute 'x' and calculate correlation under the null hypothesis\n",
    "\n",
    "# Plotting the results of the permutation test\n",
    "plt.figure(figsize=(10, 6))                                    # Set figure size to make the graph larger\n",
    "weights = np.ones(perms.shape[0]) / perms.shape[0]             # Set equal weights for the histogram bins\n",
    "\n",
    "plt.hist([perms[perms >= perms[0]], perms],                    # Plot the histogram of the correlation distribution\n",
    "         histtype='stepfilled',                                # Use filled steps for the histogram style\n",
    "         bins=100,                                             # Set the number of bins to 100\n",
    "         label=[\"t>t obs (p-value)\", \"t<t obs\"],               # Labels for areas representing p-value\n",
    "         weights=[weights[perms >= perms[0]], weights])        # Apply weights to the histogram \n",
    "\n",
    "plt.xlabel(\"Statistic distribution under null hypothesis\")                      # Label the x-axis\n",
    "plt.axvline(x=perms[0], color='blue', linewidth=1, label=\"observed statistic\")  # Draw a vertical line for the observed statistic\n",
    "_ = plt.legend(loc=\"upper left\")                                                # Add a legend in the upper left corner of the plot\n",
    "\n",
    "# Compute the empirical one-tailed p-value from the permutation test\n",
    "pval_perm = np.sum(perms >= perms[0]) / perms.shape[0]  # Count how often the permuted correlations are greater than or equal to the observed value\n",
    "\n",
    "# Compare with the p-value from Pearson's correlation test\n",
    "_, pval_test = stats.pearsonr(x, y)  # Perform Pearson correlation test on the data 'x' and 'y'\n",
    "print(\"Permutation two-tailed p-value = %.5f. \\nPearson test p-value = %.5f\" % (2*pval_perm, pval_test))  # Display the permutation p-value and \n",
    "print()                                                                                                   # the Pearson p-value"
   ]
  },
  {
   "cell_type": "markdown",
   "id": "508f3814-22af-464f-8c85-1a1f21d47789",
   "metadata": {},
   "source": [
    "#### Concepts Explained:\n",
    "\n",
    "Permutation Test:\n",
    "\n",
    "- This is a non-parametric method to estimate the distribution of a test statistic under the null hypothesis. In this code, the null hypothesis assumes no relationship between x and y.\n",
    "The perms array stores the correlation coefficients between permuted versions of x and y. The observed correlation is stored in perms[0].\n",
    "\n",
    "Null Hypothesis:\n",
    "\n",
    "- The permutation of x while keeping y fixed simulates the null hypothesis that there is no association between x and y.\n",
    "\n",
    "Empirical p-value:\n",
    "\n",
    "- The p-value is computed as the proportion of permutations where the correlation coefficient is greater than or equal to the observed value (perms[0]). This represents how likely the observed correlation is under the null hypothesis.\n",
    "\n",
    "Pearson’s Correlation:\n",
    "\n",
    "- The code also calculates the p-value from the Pearson correlation test using scipy.stats.pearsonr. This provides a parametric test for correlation based on assumptions of normality.\n",
    "\n",
    "Visualization:\n",
    "\n",
    "- The histogram shows the distribution of correlation values under the null hypothesis. The blue vertical line marks the observed correlation statistic, and the area to the right represents the empirical p-value.\n",
    "\n",
    "Two-Tailed Test:\n",
    "\n",
    "- The final p-value from the permutation test is multiplied by 2 to account for a two-tailed test, even though only the right tail is shown.\n",
    "\n",
    "#### Interpretation of the Output:\n",
    "\n",
    "The code compares the p-value obtained from the permutation test to the p-value from Pearson’s correlation test. If both p-values are low, it suggests that the observed correlation is significantly different from what would be expected under the null hypothesis."
   ]
  },
  {
   "cell_type": "markdown",
   "id": "9b836e85-d343-4111-aae8-e0a9688a5dcc",
   "metadata": {},
   "source": [
    "The final p-value from the permutation test is multiplied by 2 to account for a two-tailed test, even though only the right tail is shown."
   ]
  },
  {
   "cell_type": "markdown",
   "id": "aa37d7aa-accb-4568-aefa-2ff1abf4fd26",
   "metadata": {},
   "source": [
    "## Exercise\n",
    "\n",
    "Given the logistic regression presented above and its validation given a 5 folds CV.\n",
    "\n",
    "1. Compute the p-value associated with the prediction accuracy using a permutation test.\n",
    "2. Compute the p-value associated with the prediction accuracy using a parametric test."
   ]
  },
  {
   "cell_type": "code",
   "execution_count": 41,
   "id": "4f29b9b0-eeb7-45dd-8453-d9437240cb82",
   "metadata": {},
   "outputs": [
    {
     "name": "stdout",
     "output_type": "stream",
     "text": [
      "Observed Accuracy: 0.7900\n",
      "Permutation test p-value: 0.0000\n"
     ]
    },
    {
     "data": {
      "image/png": "[encoded data removed]",
      "text/plain": [
       "<Figure size 1000x600 with 1 Axes>"
      ]
     },
     "metadata": {},
     "output_type": "display_data"
    },
    {
     "name": "stdout",
     "output_type": "stream",
     "text": [
      "Parametric binomial test p-value: 0.0000\n"
     ]
    }
   ],
   "source": [
    "import numpy as np  \n",
    "from sklearn.model_selection import cross_val_score, StratifiedKFold  \n",
    "from sklearn.linear_model import LogisticRegression \n",
    "from sklearn.datasets import make_classification  \n",
    "from scipy import stats \n",
    "import matplotlib.pyplot as plt \n",
    "\n",
    "# Step 1: Create a dataset\n",
    "np.random.seed(42)  # Set seed for reproducibility\n",
    "X, y = make_classification(n_samples=100, n_features=20,         # Generate a classification dataset with 100 samples, 20 features\n",
    "                           n_informative=5, random_state=42)     # 5 informative features, random seed for reproducibility\n",
    "\n",
    "# Step 2: Logistic Regression with 5-fold cross-validation\n",
    "model = LogisticRegression(solver='lbfgs', max_iter=1000)        # Initialize logistic regression model with 'lbfgs' solver and 1000 iterations\n",
    "cv = StratifiedKFold(n_splits=5, shuffle=True, random_state=42)  # 5-fold stratified cross-validation with shuffled data\n",
    "\n",
    "# Compute accuracy using cross-validation\n",
    "accuracies = cross_val_score(model, X, y, cv=cv, scoring='accuracy')  # Perform cross-validation and calculate accuracy scores\n",
    "observed_accuracy = accuracies.mean()                                 # Compute mean accuracy across folds\n",
    "print(f\"Observed Accuracy: {observed_accuracy:.4f}\")                  # Print the observed accuracy\n",
    "\n",
    "# Exercise 1: Permutation Test\n",
    "\n",
    "# Step 3: Permutation test to calculate empirical p-value for accuracy\n",
    "n_permutations = 1000                       # Number of permutations for null hypothesis simulation\n",
    "perm_accuracies = np.zeros(n_permutations)  # Initialize array to store accuracies from permuted labels\n",
    "\n",
    "for i in range(n_permutations):                                               # Loop through each permutation\n",
    "    y_permuted = np.random.permutation(y)                                     # Shuffle labels to break association between X and y\n",
    "    perm_accuracies[i] = cross_val_score(model, X, y_permuted,                # Perform cross-validation with permuted labels\n",
    "                                         cv=cv, scoring='accuracy').mean()    # Store mean accuracy from permutation\n",
    "\n",
    "# Compute empirical p-value\n",
    "p_value_perm = np.sum(perm_accuracies >= observed_accuracy) / n_permutations  # Calc. p-value based on how often permuted accuracy >= observed accuracy\n",
    "print(f\"Permutation test p-value: {p_value_perm:.4f}\")                        # Print permutation test p-value\n",
    "\n",
    "# Plot permutation distribution\n",
    "plt.figure(figsize=(10, 6))                                                                  # Set figure size for plot\n",
    "plt.hist(perm_accuracies, bins=30, alpha=0.7, label=\"Permutation Accuracies\", color='grey')  # Plot histogram of permutation accuracies\n",
    "plt.axvline(observed_accuracy,        # Add a vertical line at the observed accuracy value\n",
    "            color='red',              # Set the line color to red\n",
    "            linestyle='--',           # Use a dashed line style\n",
    "            linewidth=2,              # Set the line width to 2 for better visibility\n",
    "            label=f\"Observed Accuracy: {observed_accuracy:.4f}\")  # Label the line with the observed accuracy value formatted to 4 decimal places\n",
    "\n",
    "plt.xlabel(\"Accuracy\")      # Label for x-axis\n",
    "plt.ylabel(\"Frequency\")     # Label for y-axis\n",
    "plt.title(\"Permutation Test Distribution for Accuracy\")           # Set plot title\n",
    "plt.legend()                # Show legend\n",
    "plt.show()                  # Display the plot\n",
    "\n",
    "# Exercise 2: Parametric Test\n",
    "\n",
    "# Step 4: Parametric test (Binomial Test)\n",
    "# Assuming the null hypothesis: accuracy = 50% (random guessing)\n",
    "n_samples = len(y)                                                # Get the total number of samples in the dataset\n",
    "observed_correct_predictions = int(observed_accuracy * n_samples) # Calculate the number of correct predictions based on observed accuracy\n",
    "p_value_param = stats.binomtest(observed_correct_predictions,     # Perform binomial test to compare observed correct predictions to chance level (50%)\n",
    "                                 n=n_samples, p=0.5,              # Null hypothesis assumes accuracy of 50%\n",
    "                                 alternative='greater')           # One-tailed test to see if accuracy is greater than 50%\n",
    "\n",
    "# Access p-value from the BinomTestResult object\n",
    "print(f\"Parametric binomial test p-value: {p_value_param.pvalue:.4f}\")   # Print parametric test p-value"
   ]
  },
  {
   "cell_type": "markdown",
   "id": "ecbc0db2-4839-42de-8230-d8c67d69b5cb",
   "metadata": {},
   "source": [
    "#### Interpretation\n",
    "\n",
    "The results and graph you presented show the outcome of two statistical tests — **Permutation Test** and **Parametric Binomial Test** — both used to determine if the observed classification accuracy (79%) is significantly higher than the accuracy expected by chance (50%).\n",
    "\n",
    "1. `Observed Accuracy: 0.7900`\n",
    "\n",
    "- It means that the logistic regression classifier correctly predicted the class labels approximately 79% of the time.\n",
    " \n",
    "2. `Permutation Test p-value: 0.0000`\n",
    "\n",
    "- The **Permutation Test** assesses how often an accuracy equal to or greater than the observed accuracy (0.79) can be achieved by random chance when the labels are randomly shuffled.\n",
    "\n",
    "- In this case, none of the 1000 permutations resulted in an accuracy equal to or higher than 0.79. This results in a p-value of nearly zero (0.0000), meaning the observed accuracy is highly unlikely to be the result of chance, providing strong evidence that the model's accuracy is significantly better than random guessing.\n",
    "\n",
    "3. `Parametric Binomial Test p-value: 0.0000`\n",
    "\n",
    "- The Parametric Binomial Test assumes that under the null hypothesis, the model's accuracy is at chance level (50%). This test calculates the likelihood of getting the observed number of correct predictions (79%) or more by random chance if the actual accuracy is 50%.\n",
    "\n",
    "- The resulting p-value is also very close to zero (0.0000), reinforcing the conclusion that the observed accuracy is significantly better than random chance."
   ]
  },
  {
   "cell_type": "markdown",
   "id": "f8d11ae0-13cd-44fe-afa6-87d0f5a30d1e",
   "metadata": {},
   "source": [
    "#### Graph Explanation:\n",
    "\n",
    "Histogram of Permutation Accuracies:\n",
    "\n",
    "- The gray bars represent the distribution of accuracies obtained by randomly permuting the labels and performing cross-validation. The majority of these permutation accuracies fall around 0.4 to 0.6, indicating that the accuracy of a random classifier would hover around these values.\n",
    "\n",
    "Red Line for Observed Accuracy:\n",
    "\n",
    "- The vertical red dashed line represents the observed accuracy (0.79). As you can see, none of the permuted datasets achieved an accuracy close to 0.79, which visually illustrates why the permutation test p-value is close to 0."
   ]
  },
  {
   "cell_type": "markdown",
   "id": "afc42f3b-4218-4dee-997b-a0ac2c2563f2",
   "metadata": {},
   "source": [
    "#### Conclusion:\n",
    "Both the permutation test and the parametric binomial test strongly suggest that the observed accuracy (79%) is statistically significant and unlikely to have occurred by chance. This means the model is effectively learning to classify the data and is not simply making random guesses."
   ]
  },
  {
   "cell_type": "markdown",
   "id": "e9341128-d9c7-46b4-9be0-c161ad8507a0",
   "metadata": {},
   "source": [
    "# Bootstrapping"
   ]
  },
  {
   "cell_type": "markdown",
   "id": "23585592-a5f8-4c1e-9b3e-95023209eecb",
   "metadata": {},
   "source": [
    "Bootstrapping is a random sampling with replacement strategy which provides an nonparametric method to assess the variability of performances scores such standard errors or *confidence intervals*.\n",
    "    \n",
    "A great advantage of bootstrap is its simplicity. It is a straightforward way to derive estimates of standard errors and confidence intervals for complex estimators of complex parameters of the distribution, such as percentile points, proportions, odds ratio, and correlation coefficients.\n",
    "\n",
    "1. Perform 𝐵 sampling, with replacement, of the dataset.\n",
    "2. For each sample 𝑖 fit the model and compute the scores.\n",
    "3. Assess standard errors and confidence intervals of scores using the scores obtained on the 𝐵 resampled dataset."
   ]
  },
  {
   "cell_type": "code",
   "execution_count": 47,
   "id": "9b555f18-7bbc-49c2-8c91-380f04fd5af1",
   "metadata": {},
   "outputs": [
    {
     "name": "stdout",
     "output_type": "stream",
     "text": [
      "Coefficients on all data:\n",
      "[ 0.70103901  1.06311058  0.06684312 -0.08371484  0.18076706]\n",
      "\n",
      "R-squared: Mean=0.58, SE=0.11, CI=(0.39 0.75)\n",
      "\n",
      "Coefficients distribution:\n",
      "                0           1           2           3           4\n",
      "count  100.000000  100.000000  100.000000  100.000000  100.000000\n",
      "mean     0.688011    1.045577    0.074811   -0.082345    0.177704\n",
      "std      0.118569    0.095599    0.106067    0.078052    0.120496\n",
      "min      0.365485    0.715317   -0.219959   -0.377492   -0.115183\n",
      "2.5%     0.414031    0.874497   -0.108586   -0.214639   -0.059820\n",
      "50%      0.686023    1.046438    0.076616   -0.076997    0.171381\n",
      "97.5%    0.875860    1.223287    0.301039    0.045398    0.404360\n",
      "max      0.919940    1.299352    0.351070    0.092107    0.487630\n"
     ]
    }
   ],
   "source": [
    "import numpy as np\n",
    "from sklearn import datasets\n",
    "import sklearn.linear_model as lm\n",
    "import sklearn.metrics as metrics\n",
    "import pandas as pd\n",
    "\n",
    "# Define dataset parameters\n",
    "n_features = 5          # Number of features (5 features in the dataset)\n",
    "n_features_info = 2     # Number of informative features (only 2 out of 5 are informative)\n",
    "n_samples = 100         # Number of samples (100 data points)\n",
    "\n",
    "# Generate random dataset\n",
    "X = np.random.randn(n_samples, n_features)  # Generate random feature matrix with normal distribution\n",
    "beta = np.zeros(n_features)                 # Initialize coefficients (beta) as zero\n",
    "beta[:n_features_info] = 1                  # Set informative features (first two) to 1\n",
    "Xbeta = np.dot(X, beta)                     # Compute linear combination of X and beta (signal)\n",
    "eps = np.random.randn(n_samples)            # Generate random noise (epsilon)\n",
    "y = Xbeta + eps                             # Compute target values as signal + noise\n",
    "\n",
    "# Fit model on all data (!! risk of overfit)\n",
    "model = lm.RidgeCV()                        # Ridge regression with cross-validation to select alpha\n",
    "model.fit(X, y)                             # Fit the model to the entire dataset (risk of overfitting)\n",
    "\n",
    "print(\"Coefficients on all data:\")          # Display the coefficients learned from the entire dataset\n",
    "print(model.coef_)\n",
    "\n",
    "# Bootstrap loop\n",
    "nboot = 100                                         # Number of bootstrap iterations (should be at least 1000 for better results)\n",
    "scores_names = [\"r2\"]                               # We are interested in R-squared score\n",
    "scores_boot = np.zeros((nboot, len(scores_names)))  # Initialize array to store R-squared scores for each bootstrap\n",
    "coefs_boot = np.zeros((nboot, X.shape[1]))          # Initialize array to store coefficients for each bootstrap\n",
    "orig_all = np.arange(X.shape[0])                    # Create an array of indices for the original dataset\n",
    "\n",
    "for boot_i in range(nboot):                                                 # Perform bootstrap iterations\n",
    "    boot_tr = np.random.choice(orig_all, size=len(orig_all), replace=True)  # Sample indices with replacement\n",
    "    boot_te = np.setdiff1d(orig_all, boot_tr, assume_unique=False)          # Test set indices (not in the training set)\n",
    "    Xtr, ytr = X[boot_tr, :], y[boot_tr]                                    # Training data from bootstrap sample\n",
    "    Xte, yte = X[boot_te, :], y[boot_te]                                    # Test data from non-sampled indices\n",
    "    model.fit(Xtr, ytr)                                                     # Fit model on the bootstrap training set\n",
    "    y_pred = model.predict(Xte).ravel()                                     # Predict on the test set\n",
    "    scores_boot[boot_i, :] = metrics.r2_score(yte, y_pred)                  # Store the R-squared score for this bootstrap\n",
    "    coefs_boot[boot_i, :] = model.coef_                                     # Store the coefficients for this bootstrap\n",
    "\n",
    "# Compute Mean, SE, CI\n",
    "scores_boot = pd.DataFrame(scores_boot, columns=scores_names)               # Convert R-squared scores to DataFrame\n",
    "scores_stat = scores_boot.describe(percentiles=[.025, .5, .975])            # Compute percentiles (2.5%, 50%, and 97.5%)\n",
    "\n",
    "# Print R-squared statistics: mean, standard error, and confidence intervals (95% CI)\n",
    "print(\"\\nR-squared: Mean=%.2f, SE=%.2f, CI=(%.2f %.2f)\" % \n",
    "      tuple(scores_stat.loc[[\"mean\", \"std\", \"2.5%\", \"97.5%\"], \"r2\"]))       # Mean, Std, and 95% confidence interval\n",
    "\n",
    "# Coefficients analysis\n",
    "coefs_boot = pd.DataFrame(coefs_boot)                                       # Convert coefficients to DataFrame\n",
    "coefs_stat = coefs_boot.describe(percentiles=[.025, .5, .975])              # Compute percentiles for coefficients (2.5%, 50%, 97.5%)\n",
    "\n",
    "print(\"\\nCoefficients distribution:\")                                        # Print coefficient statistics\n",
    "print(coefs_stat)"
   ]
  },
  {
   "cell_type": "markdown",
   "id": "0238baea-71fc-418d-865a-ccfebe6e7c3c",
   "metadata": {},
   "source": [
    "#### Interpretation\n",
    "\n",
    "`Coefficients on all data`:\n",
    "\n",
    "The coefficients represent the weight each feature contributes to the prediction. Here's what the values indicate:\n",
    "\n",
    "- The first two coefficients (0.9536, 0.8813) are the most significant because, as per the data generation process, we know that the first two features are informative features. The model is assigning strong weights to these features.\n",
    "\n",
    "- The last three coefficients (0.0438, 0.0838, -0.0736) are closer to zero, indicating that these features are less informative or provide minimal contribution to the prediction. This makes sense since only two features are actually informative in the dataset.\n",
    "\n",
    "`R-squared: Mean=0.41, SE=0.14, CI=(0.09 0.58)`:\n",
    "\n",
    "- An R-squared value of 0.41 means that, on average, 41% of the variance in the target variable is explained by the model. This is a moderate fit—better than random, but far from perfect.\n",
    "\n",
    "- SE (Standard Error): The standard error of 0.14 reflects the variability of the R-squared values across the 100 bootstrap iterations. The higher the SE, the more variability in the performance of the model across different samples.\n",
    "\n",
    "- Confidence Interval (CI): The 95% confidence interval of the R-squared values is (0.09, 0.58), meaning that the true R-squared is likely to lie within this range. The wide confidence interval shows that the model's performance varies considerably across different bootstrapped samples. The lower bound (0.09) suggests that the model could perform poorly on some samples.\n",
    "\n",
    "`Coefficients distribution`:\n",
    "\n",
    "This table provides statistics on the distribution of the coefficients across the 100 bootstrap iterations.\n",
    "\n",
    "- Percentiles (2.5% and 97.5%): These are the boundaries for the 95% confidence interval for each coefficient. For instance, the first coefficient's 95% CI is (0.7102, 1.2447), meaning the true value of this coefficient is likely within this range. Similarly, for the other features, their CIs suggest a much larger variation for less important features."
   ]
  }
 ],
 "metadata": {
  "kernelspec": {
   "display_name": "Python 3 (ipykernel)",
   "language": "python",
   "name": "python3"
  },
  "language_info": {
   "codemirror_mode": {
    "name": "ipython",
    "version": 3
   },
   "file_extension": ".py",
   "mimetype": "text/x-python",
   "name": "python",
   "nbconvert_exporter": "python",
   "pygments_lexer": "ipython3",
   "version": "3.11.7"
  }
 },
 "nbformat": 4,
 "nbformat_minor": 5
}
