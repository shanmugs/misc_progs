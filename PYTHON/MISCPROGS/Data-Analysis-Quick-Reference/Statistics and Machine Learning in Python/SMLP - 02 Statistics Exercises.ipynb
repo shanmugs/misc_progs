{
 "cells": [
  {
   "cell_type": "markdown",
   "id": "48e8aa49-4745-40ed-80fb-c52cb7510fa9",
   "metadata": {},
   "source": [
    "# Chapter 4 - Statistics Exercises"
   ]
  },
  {
   "cell_type": "code",
   "execution_count": 2,
   "id": "ee2c689f-38aa-4894-8c11-05741a9c7927",
   "metadata": {},
   "outputs": [],
   "source": [
    "import numpy as np\n",
    "import pandas as pd\n",
    "\n",
    "import scipy.stats\n",
    "from scipy import stats\n",
    "from scipy.stats import norm\n",
    "from scipy.stats import f\n",
    "\n",
    "import statsmodels.api as sm\n",
    "from statsmodels.formula.api import ols\n",
    "\n",
    "import seaborn as sns\n",
    "import matplotlib.pyplot as plt\n",
    "%matplotlib inline"
   ]
  },
  {
   "cell_type": "markdown",
   "id": "7f7e494e-6296-4b2e-a0e6-1b428859b206",
   "metadata": {},
   "source": [
    "## Simple Linear Regression and Correlation (application)"
   ]
  },
  {
   "cell_type": "markdown",
   "id": "7df04d6d-1be4-4acc-b688-90b43a64575e",
   "metadata": {},
   "source": [
    "Risk Factors Associated with Low Infant Birth Weight\r\n",
    "\r\n",
    "Description:\r\n",
    "\r\n",
    "     The ‘birthwt’ data frame has 189 rows and 10 columns.  The data\r\n",
    "     were collected at Baystate Medical Center, Springfield, Mass\r\n",
    "     during\n",
    "\r\n",
    "     \r\n",
    "Format:\r\n",
    "\r\n",
    "     This data frame contains the following columns:\r\n",
    "\r\n",
    "     ‘low’ indicator of birth weight less than 2.5 kg.\r\n",
    "\r\n",
    "     ‘age’ mother's age in years.\r\n",
    "\r\n",
    "     ‘lwt’ mother's weight in pounds at last menstrual period.\r\n",
    "\r\n",
    "     ‘race’ mother's race (‘1’ = white, ‘2’ = black, ‘3’ = other).\r\n",
    "\r\n",
    "     ‘smoke’ smoking status during pregnancy.\r\n",
    "\r\n",
    "     ‘ptl’ number of previous premature labours.\r\n",
    "\r\n",
    "     ‘ht’ history of hypertension.\r\n",
    "\r\n",
    "     ‘ui’ presence of uterine irritability.\r\n",
    "\r\n",
    "     ‘ftv’ number of physician visits during the first trimester.\r\n",
    "\r\n",
    "     ‘bwt’ birth weight in grams.\r\n",
    "\r\n",
    "Source:\r\n",
    "\r\n",
    "     Hosmer, D.W. and Lemeshow, S. (1989) _Applied Logistic\r\n",
    "     Regression._ New York: Wiley"
   ]
  },
  {
   "cell_type": "code",
   "execution_count": 5,
   "id": "59c2b2ce-e524-408b-964b-fc6beb9d3ae6",
   "metadata": {},
   "outputs": [
    {
     "data": {
      "text/html": [
       "<div>\n",
       "<style scoped>\n",
       "    .dataframe tbody tr th:only-of-type {\n",
       "        vertical-align: middle;\n",
       "    }\n",
       "\n",
       "    .dataframe tbody tr th {\n",
       "        vertical-align: top;\n",
       "    }\n",
       "\n",
       "    .dataframe thead th {\n",
       "        text-align: right;\n",
       "    }\n",
       "</style>\n",
       "<table border=\"1\" class=\"dataframe\">\n",
       "  <thead>\n",
       "    <tr style=\"text-align: right;\">\n",
       "      <th></th>\n",
       "      <th>low</th>\n",
       "      <th>age</th>\n",
       "      <th>lwt</th>\n",
       "      <th>race</th>\n",
       "      <th>smoke</th>\n",
       "      <th>ptl</th>\n",
       "      <th>ht</th>\n",
       "      <th>ui</th>\n",
       "      <th>ftv</th>\n",
       "      <th>bwt</th>\n",
       "    </tr>\n",
       "  </thead>\n",
       "  <tbody>\n",
       "    <tr>\n",
       "      <th>0</th>\n",
       "      <td>0</td>\n",
       "      <td>19</td>\n",
       "      <td>182</td>\n",
       "      <td>2</td>\n",
       "      <td>0</td>\n",
       "      <td>0</td>\n",
       "      <td>0</td>\n",
       "      <td>1</td>\n",
       "      <td>0</td>\n",
       "      <td>2523</td>\n",
       "    </tr>\n",
       "    <tr>\n",
       "      <th>1</th>\n",
       "      <td>0</td>\n",
       "      <td>33</td>\n",
       "      <td>155</td>\n",
       "      <td>3</td>\n",
       "      <td>0</td>\n",
       "      <td>0</td>\n",
       "      <td>0</td>\n",
       "      <td>0</td>\n",
       "      <td>3</td>\n",
       "      <td>2551</td>\n",
       "    </tr>\n",
       "    <tr>\n",
       "      <th>2</th>\n",
       "      <td>0</td>\n",
       "      <td>20</td>\n",
       "      <td>105</td>\n",
       "      <td>1</td>\n",
       "      <td>1</td>\n",
       "      <td>0</td>\n",
       "      <td>0</td>\n",
       "      <td>0</td>\n",
       "      <td>1</td>\n",
       "      <td>2557</td>\n",
       "    </tr>\n",
       "    <tr>\n",
       "      <th>3</th>\n",
       "      <td>0</td>\n",
       "      <td>21</td>\n",
       "      <td>108</td>\n",
       "      <td>1</td>\n",
       "      <td>1</td>\n",
       "      <td>0</td>\n",
       "      <td>0</td>\n",
       "      <td>1</td>\n",
       "      <td>2</td>\n",
       "      <td>2594</td>\n",
       "    </tr>\n",
       "    <tr>\n",
       "      <th>4</th>\n",
       "      <td>0</td>\n",
       "      <td>18</td>\n",
       "      <td>107</td>\n",
       "      <td>1</td>\n",
       "      <td>1</td>\n",
       "      <td>0</td>\n",
       "      <td>0</td>\n",
       "      <td>1</td>\n",
       "      <td>0</td>\n",
       "      <td>2600</td>\n",
       "    </tr>\n",
       "  </tbody>\n",
       "</table>\n",
       "</div>"
      ],
      "text/plain": [
       "   low  age  lwt  race  smoke  ptl  ht  ui  ftv   bwt\n",
       "0    0   19  182     2      0    0   0   1    0  2523\n",
       "1    0   33  155     3      0    0   0   0    3  2551\n",
       "2    0   20  105     1      1    0   0   0    1  2557\n",
       "3    0   21  108     1      1    0   0   1    2  2594\n",
       "4    0   18  107     1      1    0   0   1    0  2600"
      ]
     },
     "execution_count": 5,
     "metadata": {},
     "output_type": "execute_result"
    }
   ],
   "source": [
    "# Read the text file into a pandas DataFrame\n",
    "df = pd.read_csv('data/birthwt.txt', delimiter=',')\n",
    "\n",
    "# Show the first few rows of the DataFrame\n",
    "df.head()"
   ]
  },
  {
   "cell_type": "markdown",
   "id": "3cb17d5e-5354-4df0-afc9-ad88c76de3f7",
   "metadata": {},
   "source": [
    "#### 1. Test the association of mother’s (bwt) age and birth weight using the correlation test and linear regeression."
   ]
  },
  {
   "cell_type": "code",
   "execution_count": 7,
   "id": "1a42de41-ee6b-4f7b-975b-c6b9f76b93dc",
   "metadata": {},
   "outputs": [
    {
     "name": "stdout",
     "output_type": "stream",
     "text": [
      "y = 12.429712 x + 2655.744470, r: 0.090318, r-squared: 0.008157,\n",
      "\n",
      "p-value: 0.216475, std_err: 10.022781\n",
      "\n",
      "Regression line with the scatterplot:\n"
     ]
    },
    {
     "data": {
      "image/png": "[encoded data removed]",
      "text/plain": [
       "<Figure size 640x480 with 1 Axes>"
      ]
     },
     "metadata": {},
     "output_type": "display_data"
    }
   ],
   "source": [
    "# Extract features from the DataFrame\n",
    "y, x = df['bwt'], df['age']\n",
    "\n",
    "# Perform linear regression using scipy's linregress function\n",
    "beta, beta0, r_value, p_value, std_err = stats.linregress(x, y)\n",
    "\n",
    "# Print the regression equation and statistics\n",
    "print(\"y = %f x + %f, r: %f, r-squared: %f,\\n\\np-value: %f, std_err: %f\"\n",
    "    % (beta, beta0, r_value, r_value**2, p_value, std_err))\n",
    "print()\n",
    "\n",
    "# Plot the regression line with the scatterplot of the data\n",
    "print(\"Regression line with the scatterplot:\")\n",
    "yhat = beta * x + beta0  # Calculate the predicted values (regression line)\n",
    "\n",
    "# Plot the regression line and the scatter plot\n",
    "plt.plot(x, yhat, 'r-', label='Regression Line')  # Plot the regression line in red\n",
    "plt.scatter(x, y, label='Data Points')            # Plot the actual data points\n",
    "plt.xlabel('Age (years)')                         # Label the x-axis\n",
    "plt.ylabel('birth weight (g)')                    # Label the y-axis\n",
    "plt.legend()                                      # Show the legend\n",
    "plt.show()                                        # Display the plot"
   ]
  },
  {
   "cell_type": "markdown",
   "id": "864a415c-d9b6-4cf9-a270-288eaeac88f4",
   "metadata": {},
   "source": [
    "A p-value greater than 0.05 (specifically 0.2165) indicates that the relationship between age and birth weight is not statistically significant. Therefore, we fail to reject the null hypothesis, meaning **there is no strong evidence that age has a significant effect on birth weight**. The relatively large standard error of 10.02 indicates some uncertainty in the estimated slope, further reinforcing the weak relationship between the variables.\n",
    "\n",
    "The correlation coefficient and the r-squared value both suggest a very weak linear relationship between the mother's age and the birth weight of the child. The mother's age explains very little of the variation in birth weight."
   ]
  },
  {
   "cell_type": "markdown",
   "id": "1a5e212a-5b43-4714-add1-823190ba7bfc",
   "metadata": {},
   "source": [
    "#### 2. Test the association of mother’s weight (lwt) and birth weight using the correlation test and linear regeression."
   ]
  },
  {
   "cell_type": "code",
   "execution_count": 10,
   "id": "63448dc6-7259-44c3-8a97-8b4b7f8fcdfd",
   "metadata": {},
   "outputs": [
    {
     "name": "stdout",
     "output_type": "stream",
     "text": [
      "y = 4.429108 x + 2369.623518, r: 0.185733, r-squared: 0.034497,\n",
      "\n",
      "p-value: 0.010504, std_err: 1.713494\n",
      "\n",
      "Regression line with the scatterplot:\n"
     ]
    },
    {
     "data": {
      "image/png": "[encoded data removed]",
      "text/plain": [
       "<Figure size 640x480 with 1 Axes>"
      ]
     },
     "metadata": {},
     "output_type": "display_data"
    }
   ],
   "source": [
    "# Extract features from the DataFrame\n",
    "y, x = df['bwt'], df['lwt']\n",
    "\n",
    "# Perform linear regression using scipy's linregress function\n",
    "beta, beta0, r_value, p_value, std_err = stats.linregress(x, y)\n",
    "\n",
    "# Print the regression equation and statistics\n",
    "print(\"y = %f x + %f, r: %f, r-squared: %f,\\n\\np-value: %f, std_err: %f\"\n",
    "    % (beta, beta0, r_value, r_value**2, p_value, std_err))\n",
    "print()\n",
    "\n",
    "# Plot the regression line with the scatterplot of the data\n",
    "print(\"Regression line with the scatterplot:\")\n",
    "yhat = beta * x + beta0  # Calculate the predicted values (regression line)\n",
    "\n",
    "# Plot the regression line and the scatter plot\n",
    "plt.plot(x, yhat, 'r-', label='Regression Line')  # Plot the regression line in red\n",
    "plt.scatter(x, y, label='Data Points')            # Plot the actual data points\n",
    "plt.xlabel(\"mother's weight (pounds)\")            # Label the x-axis\n",
    "plt.ylabel('birth weight (g)')                    # Label the y-axis\n",
    "plt.legend()                                      # Show the legend\n",
    "plt.show()                                        # Display the plot"
   ]
  },
  {
   "cell_type": "markdown",
   "id": "f9c97dd1-999e-4cc7-a27f-0c2d5d9663b9",
   "metadata": {},
   "source": [
    "A p-value of 0.0105 is less than 0.05, which means the relationship between the mother's weight and birth weight is statistically significant. Thus, we can reject the null hypothesis and conclude that **there is evidence of a relationship between the mother's weight and birth weight.**The standard error is relatively small compared to the slope, indicating that the slope estimate is fairly precise.\n",
    "\n",
    "Weak Linear Relationship: The r-value of 0.1857 and r-squared of 0.0345 indicate a weak positive linear relationship between the mother's weight and birth weight. While the relationship exists, the mother's weight explains only a small proportion of the variation in birth weight. \n",
    "\n",
    "Statistically Significant: The p-value of 0.0105 indicates that the relationship between the mother's weight and birth weight is statistically significant, meaning that the slope is unlikely to be zero. However, despite the statistical significance, the relationship is weak in terms of practical significance."
   ]
  },
  {
   "cell_type": "markdown",
   "id": "4d87e819-b88e-45ca-87d4-b5ed49d28a47",
   "metadata": {},
   "source": [
    "#### 3. Produce two scatter plot of: (i) age by birth weight; (ii) mother’s weight by birth weight."
   ]
  },
  {
   "cell_type": "code",
   "execution_count": 13,
   "id": "2b7d54d8-5727-43fb-a56c-d414398be374",
   "metadata": {},
   "outputs": [
    {
     "data": {
      "text/plain": [
       "Text(0.5, 1.0, \"Mother's Weight vs Birth Weight\")"
      ]
     },
     "execution_count": 13,
     "metadata": {},
     "output_type": "execute_result"
    },
    {
     "data": {
      "image/png": "[encoded data removed]",
      "text/plain": [
       "<Figure size 1200x500 with 2 Axes>"
      ]
     },
     "metadata": {},
     "output_type": "display_data"
    }
   ],
   "source": [
    "# Create a figure with two subplots\n",
    "fig, axes = plt.subplots(1, 2, figsize=(12, 5))  # 1 row, 2 columns\n",
    "\n",
    "# Plot (i) age by birth weight\n",
    "axes[0].scatter(df['age'], df['bwt'], color='blue', alpha=0.7)\n",
    "axes[0].set_xlabel('Age (years)')            # X-axis label\n",
    "axes[0].set_ylabel('Birth Weight (g)')       # Y-axis label\n",
    "axes[0].set_title('Age vs Birth Weight')     # Title for the first plot\n",
    "\n",
    "# Plot (ii) mother’s weight by birth weight\n",
    "axes[1].scatter(df['lwt'], df['bwt'], color='green', alpha=0.7)\n",
    "axes[1].set_xlabel(\"Mother's Weight (pounds)\")  # X-axis label\n",
    "axes[1].set_ylabel('Birth Weight (g)')          # Y-axis label\n",
    "axes[1].set_title(\"Mother's Weight vs Birth Weight\")  # Title for the second plot"
   ]
  },
  {
   "cell_type": "markdown",
   "id": "18e51a60-fe11-4631-9482-a68e0bfa0a5d",
   "metadata": {},
   "source": [
    "####  Conclusion Based on the Scatter Plots:\n",
    "\n",
    "1. `Age vs Birth Weight (Left Plot)`:\n",
    "Scatter Distribution: The data points are quite scattered, with no clear pattern indicating a strong relationship between the mother's age and the birth weight of the child. The points are widely spread across the entire range of ages, from around 15 to 45 years.\n",
    "Lack of Correlation: There doesn't appear to be any visible upward or downward trend, suggesting a weak or no correlation between the mother's age and the birth weight. This visual representation aligns with the previously computed weak correlation and low r-squared value, indicating that mother's age is not a strong predictor of birth weight.\n",
    "\n",
    "2. `Mother’s Weight vs Birth Weight (Right Plot)`:\n",
    "Moderate Clustering: There seems to be a slight positive relationship between mother's weight and birth weight, with most of the points showing higher birth weights associated with higher maternal weights. However, this relationship is not very strong as the points still show significant scatter.\n",
    "Outliers: There are some extreme outliers, especially at higher maternal weights (above 175 pounds), which do not follow the general trend. These outliers may affect the overall interpretation of the relationship.\n",
    "Potential Positive Correlation: While there is a slight upward trend, the relationship remains weak, as suggested by the previously low r-squared value. This indicates that while maternal weight may have some influence on birth weight, it is not a dominant factor on its own.\n",
    "\n",
    "**Overall Conclusion:**\n",
    "Mother’s age does not appear to have a significant influence on birth weight, as indicated by the widespread distribution of points with no clear trend in the left plot.\n",
    "Mother’s weight shows a slightly positive but weak relationship with birth weight, suggesting that while it may have some effect, other factors likely play a more significant role in determining birth weight.\n",
    "These findings align with the previous regression analysis, where both age and mother's weight were found to have weak correlations with birth weight, and neither variable alone is a strong predictor of birth weight."
   ]
  },
  {
   "cell_type": "markdown",
   "id": "1eb0602a-b815-4105-b63c-33e6f30e2f7a",
   "metadata": {},
   "source": [
    "## Simple Linear Regression (maths)"
   ]
  },
  {
   "cell_type": "code",
   "execution_count": 16,
   "id": "2be296e0-22d8-4aaa-81da-4676ca50b852",
   "metadata": {},
   "outputs": [
    {
     "data": {
      "text/html": [
       "<div>\n",
       "<style scoped>\n",
       "    .dataframe tbody tr th:only-of-type {\n",
       "        vertical-align: middle;\n",
       "    }\n",
       "\n",
       "    .dataframe tbody tr th {\n",
       "        vertical-align: top;\n",
       "    }\n",
       "\n",
       "    .dataframe thead th {\n",
       "        text-align: right;\n",
       "    }\n",
       "</style>\n",
       "<table border=\"1\" class=\"dataframe\">\n",
       "  <thead>\n",
       "    <tr style=\"text-align: right;\">\n",
       "      <th></th>\n",
       "      <th>salary</th>\n",
       "      <th>experience</th>\n",
       "      <th>education</th>\n",
       "      <th>management</th>\n",
       "    </tr>\n",
       "  </thead>\n",
       "  <tbody>\n",
       "    <tr>\n",
       "      <th>0</th>\n",
       "      <td>13876</td>\n",
       "      <td>1</td>\n",
       "      <td>Bachelor</td>\n",
       "      <td>Y</td>\n",
       "    </tr>\n",
       "    <tr>\n",
       "      <th>1</th>\n",
       "      <td>11608</td>\n",
       "      <td>1</td>\n",
       "      <td>Ph.D</td>\n",
       "      <td>N</td>\n",
       "    </tr>\n",
       "    <tr>\n",
       "      <th>2</th>\n",
       "      <td>18701</td>\n",
       "      <td>1</td>\n",
       "      <td>Ph.D</td>\n",
       "      <td>Y</td>\n",
       "    </tr>\n",
       "    <tr>\n",
       "      <th>3</th>\n",
       "      <td>11283</td>\n",
       "      <td>1</td>\n",
       "      <td>Master</td>\n",
       "      <td>N</td>\n",
       "    </tr>\n",
       "    <tr>\n",
       "      <th>4</th>\n",
       "      <td>11767</td>\n",
       "      <td>1</td>\n",
       "      <td>Ph.D</td>\n",
       "      <td>N</td>\n",
       "    </tr>\n",
       "  </tbody>\n",
       "</table>\n",
       "</div>"
      ],
      "text/plain": [
       "   salary  experience education management\n",
       "0   13876           1  Bachelor          Y\n",
       "1   11608           1      Ph.D          N\n",
       "2   18701           1      Ph.D          Y\n",
       "3   11283           1    Master          N\n",
       "4   11767           1      Ph.D          N"
      ]
     },
     "execution_count": 16,
     "metadata": {},
     "output_type": "execute_result"
    }
   ],
   "source": [
    "# Read the text file into a pandas DataFrame\n",
    "df2 = pd.read_csv('data/salary_table.txt', delimiter=',')\n",
    "\n",
    "# Show the first few rows of the DataFrame\n",
    "df2.head()"
   ]
  },
  {
   "cell_type": "markdown",
   "id": "83fdaf9b-4387-41fa-a9fb-21ef369c2ad8",
   "metadata": {},
   "source": [
    "#### Compute:\n",
    "\n",
    "• Estimate the model paramters 𝛽, 𝛽0 using scipy stats.linregress(x,y)\n",
    "\n",
    "• Compute the predicted values 𝑦"
   ]
  },
  {
   "cell_type": "code",
   "execution_count": 18,
   "id": "dc75bfae-dee5-4c3d-bbac-64fab8cd476d",
   "metadata": {},
   "outputs": [
    {
     "name": "stdout",
     "output_type": "stream",
     "text": [
      "y = 491.486913 x + 13584.043803, r: 0.538886, r-squared: 0.290398,\n",
      "\n",
      "p-value: 0.000112, std_err: 115.823381\n"
     ]
    }
   ],
   "source": [
    "# Extract salary and experience data from the DataFrame\n",
    "y, x = df2['salary'], df2['experience']\n",
    "\n",
    "# Perform linear regression using scipy's linregress function\n",
    "beta, beta0, r_value, p_value, std_err = stats.linregress(x, y)\n",
    "\n",
    "# Print the regression equation and statistics\n",
    "print(\"y = %f x + %f, r: %f, r-squared: %f,\\n\\np-value: %f, std_err: %f\"\n",
    "    % (beta, beta0, r_value, r_value**2, p_value, std_err))"
   ]
  },
  {
   "cell_type": "code",
   "execution_count": 19,
   "id": "335f3918-d97a-4233-8673-c752686d883f",
   "metadata": {},
   "outputs": [
    {
     "data": {
      "text/plain": [
       "0    14075.530717\n",
       "1    14075.530717\n",
       "2    14075.530717\n",
       "3    14075.530717\n",
       "4    14075.530717\n",
       "Name: experience, dtype: float64"
      ]
     },
     "execution_count": 19,
     "metadata": {},
     "output_type": "execute_result"
    }
   ],
   "source": [
    "# Predicted values using the regression line\n",
    "yhat = beta * x + beta0  # Predicted values (regression line)\n",
    "\n",
    "yhat[:5]"
   ]
  },
  {
   "cell_type": "markdown",
   "id": "954abe41-363a-44db-b2c8-a8f30b98fbce",
   "metadata": {},
   "source": [
    "#### Compute:\n",
    "\n",
    "• 𝑦¯: y_mu\n",
    "\n",
    "• 𝑆𝑆tot: ss_tot\n",
    "\n",
    "• 𝑆𝑆\n",
    "\n",
    "reg: ss_reg\n",
    "\n",
    "• 𝑆𝑆res: ss_res"
   ]
  },
  {
   "cell_type": "code",
   "execution_count": 21,
   "id": "108fe424-043b-428f-abf4-f3ba7eb74960",
   "metadata": {},
   "outputs": [
    {
     "name": "stdout",
     "output_type": "stream",
     "text": [
      "\n",
      "Computed Values:\n",
      "\n",
      "y_mu (mean of y): 17270.196\n",
      "SS_tot (total sum of squares): 1001097577.239\n",
      "SS_reg (regression sum of squares): 290716720.831\n",
      "SS_res (residual sum of squares): 710380856.408\n"
     ]
    }
   ],
   "source": [
    "# 𝑦¯: Mean of y (y_mu)\n",
    "y_mu = np.mean(y)\n",
    "\n",
    "# 𝑆𝑆tot: Total sum of squares (ss_tot)\n",
    "ss_tot = np.sum((y - y_mu) ** 2)\n",
    "\n",
    "# 𝑆𝑆reg: Regression sum of squares (ss_reg)\n",
    "ss_reg = np.sum((yhat - y_mu) ** 2)\n",
    "\n",
    "# 𝑆𝑆res: Residual sum of squares (ss_res)\n",
    "ss_res = np.sum((y - yhat) ** 2)\n",
    "\n",
    "# Print the computed values\n",
    "print(\"\\nComputed Values:\\n\")\n",
    "print(f\"y_mu (mean of y): {y_mu:.3f}\")\n",
    "print(f\"SS_tot (total sum of squares): {ss_tot:.3f}\")\n",
    "print(f\"SS_reg (regression sum of squares): {ss_reg:.3f}\")\n",
    "print(f\"SS_res (residual sum of squares): {ss_res:.3f}\")"
   ]
  },
  {
   "cell_type": "markdown",
   "id": "1ad6cd75-6e6e-4520-b48c-dd72ddef8ea9",
   "metadata": {},
   "source": [
    "#### Compute:\n",
    "\n",
    "• Check partition of variance formula based on sum of squares by using assert np.allclose(val1, val2, atol=1e-05)\n",
    "\n",
    "• Compute 𝑅2 and compare it with the r_value above\n",
    "\n",
    "• Compute the 𝐹 score\n",
    "\n",
    "• Compute the 𝑝-value:\n",
    "\n",
    "• Plot the 𝐹(1, 𝑛) distribution for 100 𝑓 values within [10, 25]. Draw 𝑃(𝐹(1, 𝑛) > 𝐹), \n",
    "i.e. color the surface defined by the 𝑥 values larger than 𝐹 below the 𝐹(1, 𝑛).\n",
    "\n",
    "• 𝑃(𝐹(1, 𝑛) > 𝐹) is the 𝑝-value, compute it."
   ]
  },
  {
   "cell_type": "markdown",
   "id": "57403d7c-4749-4aa8-ad4c-09d714bb83dd",
   "metadata": {},
   "source": [
    "##### Check partition of variance formula based on sum of squares by using assert np.allclose(val1, val2, atol=1e-05)"
   ]
  },
  {
   "cell_type": "code",
   "execution_count": 24,
   "id": "83663126-4a39-4f02-b584-30db0448e9d2",
   "metadata": {},
   "outputs": [
    {
     "name": "stdout",
     "output_type": "stream",
     "text": [
      "Partition of variance holds!\n"
     ]
    }
   ],
   "source": [
    "# Check the partition of variance formula\n",
    "assert np.allclose(ss_tot, ss_reg + ss_res, atol=1e-05), \"Partition of variance does not hold!\"\n",
    "print(\"Partition of variance holds!\")"
   ]
  },
  {
   "cell_type": "markdown",
   "id": "bfb17550-8433-4fe9-bee1-51aff08dc91f",
   "metadata": {},
   "source": [
    "##### Compute 𝑅2 and compare it with the r_value above"
   ]
  },
  {
   "cell_type": "code",
   "execution_count": 26,
   "id": "0ce4f5c6-023a-474f-8f4e-83449a4cc8e0",
   "metadata": {},
   "outputs": [
    {
     "name": "stdout",
     "output_type": "stream",
     "text": [
      "Computed R^2: 0.29040, r_value^2: 0.29040\n"
     ]
    }
   ],
   "source": [
    "# Compute R^2\n",
    "R_squared = ss_reg / ss_tot\n",
    "print(f\"Computed R^2: {R_squared:.5f}, r_value^2: {r_value**2:.5f}\")\n",
    "\n",
    "# Compare the computed R^2 with r_value squared\n",
    "assert np.allclose(R_squared, r_value**2, atol=1e-05), \"R^2 values do not match!\""
   ]
  },
  {
   "cell_type": "markdown",
   "id": "ca163be6-ed03-4d11-a9f4-9b5c61090dd2",
   "metadata": {},
   "source": [
    "##### Compute the 𝐹 score"
   ]
  },
  {
   "cell_type": "code",
   "execution_count": 28,
   "id": "164dcd9d-5c27-45d1-8b1f-0cf63a467d4a",
   "metadata": {},
   "outputs": [
    {
     "name": "stdout",
     "output_type": "stream",
     "text": [
      "Computed F-statistic: 18.00659\n"
     ]
    }
   ],
   "source": [
    "# Degrees of freedom\n",
    "n = len(y)       # Number of samples\n",
    "dof_reg = 1      # Degrees of freedom for regression (1 predictor)\n",
    "dof_res = n - 2  # Degrees of freedom for residuals\n",
    "\n",
    "# Compute F-statistic\n",
    "F = (ss_reg / dof_reg) / (ss_res / dof_res)\n",
    "print(f\"Computed F-statistic: {F:.5f}\")"
   ]
  },
  {
   "cell_type": "markdown",
   "id": "6767ca18-29f0-41d7-abc8-83c93d91cef9",
   "metadata": {},
   "source": [
    "##### Compute the 𝑝-value:"
   ]
  },
  {
   "cell_type": "code",
   "execution_count": 30,
   "id": "eeb2d01d-7328-4007-b7b5-a05f8912760b",
   "metadata": {},
   "outputs": [
    {
     "name": "stdout",
     "output_type": "stream",
     "text": [
      "Computed p-value: 0.00011\n"
     ]
    }
   ],
   "source": [
    "# The p-value for the F-statistic can be computed using the survival function of the F-distribution:\n",
    "# p = P(F(1, n−2) > F)\n",
    "\n",
    "# Compute p-value from the F-statistic\n",
    "p_val = f.sf(F, dfn=dof_reg, dfd=dof_res)\n",
    "print(f\"Computed p-value: {p_val:.5f}\")"
   ]
  },
  {
   "cell_type": "markdown",
   "id": "93e8a42a-a0dc-4431-910d-c5c36533a4e4",
   "metadata": {},
   "source": [
    "##### Plot the 𝐹(1, 𝑛) distribution for 100 𝑓 values within [10, 25]. Draw 𝑃(𝐹(1, 𝑛) > 𝐹), i.e. color the surface defined by the 𝑥 values larger than 𝐹 below the 𝐹(1, 𝑛)."
   ]
  },
  {
   "cell_type": "code",
   "execution_count": 32,
   "id": "789bfb39-e5ee-4c62-9d66-1f8ce4a14cf3",
   "metadata": {},
   "outputs": [
    {
     "data": {
      "image/png": "[encoded data removed]",
      "text/plain": [
       "<Figure size 640x480 with 1 Axes>"
      ]
     },
     "metadata": {},
     "output_type": "display_data"
    }
   ],
   "source": [
    "# Create 100 f-values within the range [10, 25]\n",
    "f_values = np.linspace(10, 25, 100)\n",
    "\n",
    "# Compute the F-distribution with dfn=1 and dfd=n-2\n",
    "f_dist_values = f.pdf(f_values, dfn=dof_reg, dfd=dof_res)\n",
    "\n",
    "# Plot the F-distribution\n",
    "plt.plot(f_values, f_dist_values, 'b-', label=\"F(1, n-2) distribution\")\n",
    "\n",
    "# Shade the region where F-values are larger than the computed F-statistic\n",
    "plt.fill_between(f_values, 0, f_dist_values, where=(f_values > F), color='red', alpha=0.5, label=f'P(F > {F:.2f})')\n",
    "\n",
    "# Add labels and title\n",
    "plt.xlabel('F-value')\n",
    "plt.ylabel('Density')\n",
    "plt.title(f'F-distribution with df=(1, {dof_res})')\n",
    "plt.legend()\n",
    "plt.show();"
   ]
  },
  {
   "cell_type": "markdown",
   "id": "bcf88a7a-0d2d-4039-ad12-b063ac7f2d5b",
   "metadata": {},
   "source": [
    "##### 𝑃(𝐹(1, 𝑛) > 𝐹) is the 𝑝-value, compute it."
   ]
  },
  {
   "cell_type": "code",
   "execution_count": 34,
   "id": "463c6574-958a-41fe-b729-cd3b0d4179b4",
   "metadata": {},
   "outputs": [
    {
     "name": "stdout",
     "output_type": "stream",
     "text": [
      "P(F(1, 44) > F) is the p-value: 0.00011\n"
     ]
    }
   ],
   "source": [
    "# Already computed as p_val\n",
    "print(f\"P(F(1, {dof_res}) > F) is the p-value: {p_val:.5f}\")"
   ]
  },
  {
   "cell_type": "markdown",
   "id": "1bffcd2e-e8a4-43d2-9a9d-a26a3eb9a229",
   "metadata": {},
   "source": [
    "# Multiple Regression\n",
    "Considering the simulated data used below:"
   ]
  },
  {
   "cell_type": "code",
   "execution_count": 36,
   "id": "e315fa96-b5a2-4dd3-846b-d629fb678654",
   "metadata": {},
   "outputs": [
    {
     "name": "stdout",
     "output_type": "stream",
     "text": [
      "[[ 1.         -0.1382643   0.64768854  1.52302986]\n",
      " [ 1.         -0.23413696  1.57921282  0.76743473]\n",
      " [ 1.          0.54256004 -0.46341769 -0.46572975]\n",
      " [ 1.         -1.91328024 -1.72491783 -0.56228753]\n",
      " [ 1.          0.31424733 -0.90802408 -1.4123037 ]]\n",
      "\n",
      "Estimated beta coefficients:\n",
      " [10.14742501  0.57938106  0.51654653  0.17862194]\n"
     ]
    }
   ],
   "source": [
    "import numpy as np\n",
    "from scipy import linalg\n",
    "\n",
    "# Set a random seed for reproducibility\n",
    "np.random.seed(seed=42)\n",
    "\n",
    "# Dataset\n",
    "N, P = 50, 4  # N = number of samples (rows), P = number of features (columns)\n",
    "X = np.random.normal(size=N * P).reshape((N, P))  # Generate random normally distributed data and reshape into N x P matrix\n",
    "\n",
    "# Add an intercept term (a column of 1s) to the first column of X\n",
    "X[:, 0] = 1\n",
    "print(X[:5, :])  # Print the first 5 rows of X to inspect the matrix with intercept added\n",
    "\n",
    "# True parameters (the \"true\" beta coefficients for the regression)\n",
    "betastar = np.array([10, 1., .5, 0.1])  # True beta coefficients for the model\n",
    "\n",
    "# Generate the target variable (y) using the true model with some random noise (e)\n",
    "e = np.random.normal(size=N)  # Random noise (errors)\n",
    "y = np.dot(X, betastar) + e   # Compute y = X * betastar + error (the true model with noise)\n",
    "\n",
    "# Estimate the parameters (betahat) using the pseudoinverse of X\n",
    "Xpinv = linalg.pinv(X)        # Use linalg.pinv() instead of pinv2()\n",
    "betahat = np.dot(Xpinv, y)\n",
    "\n",
    "# Print the estimated beta coefficients\n",
    "print(\"\\nEstimated beta coefficients:\\n\", betahat)"
   ]
  },
  {
   "cell_type": "markdown",
   "id": "f64bd2cc-6fdb-4ed6-9c23-9750a8fe1c11",
   "metadata": {},
   "source": [
    "#### 1. What are the dimensions of pinv(𝑋)?"
   ]
  },
  {
   "cell_type": "code",
   "execution_count": 38,
   "id": "0faa1e36-af07-4fff-8ffd-1a0860b2e701",
   "metadata": {},
   "outputs": [
    {
     "name": "stdout",
     "output_type": "stream",
     "text": [
      "Shape of pinv(X): (4, 50)\n"
     ]
    }
   ],
   "source": [
    "print(\"Shape of pinv(X):\", Xpinv.shape)  # (columns, rows)"
   ]
  },
  {
   "cell_type": "markdown",
   "id": "f063a7a5-45c0-4d8d-9ed1-5dde35b6f41f",
   "metadata": {},
   "source": [
    "#### 2. Compute the MSE between the predicted values and the true values"
   ]
  },
  {
   "cell_type": "code",
   "execution_count": 40,
   "id": "729c36d7-e84b-41ce-89d6-832eb4ff7420",
   "metadata": {},
   "outputs": [
    {
     "name": "stdout",
     "output_type": "stream",
     "text": [
      "Mean Squared Error (MSE): 1.0130389279389576\n"
     ]
    }
   ],
   "source": [
    "# Compute the predicted values using the estimated beta coefficients\n",
    "y_pred = np.dot(X, betahat)  # Predicted values: y_pred = X * betahat\n",
    "\n",
    "# Compute the Mean Squared Error (MSE)\n",
    "mse = np.mean((y - y_pred) ** 2)  # MSE = mean((true values - predicted values)^2)\n",
    "\n",
    "# Print the MSE\n",
    "print(\"Mean Squared Error (MSE):\", mse)"
   ]
  },
  {
   "cell_type": "markdown",
   "id": "9f6c513b-a17e-43be-b241-e840b611f718",
   "metadata": {},
   "source": [
    "## Two sample t-test (maths)\n",
    "\n",
    "Given the following two sample, test whether their means are equals."
   ]
  },
  {
   "cell_type": "code",
   "execution_count": 42,
   "id": "bd81d375-7a85-4ef9-8a47-204079e62a30",
   "metadata": {},
   "outputs": [
    {
     "name": "stdout",
     "output_type": "stream",
     "text": [
      "height: [1.83 1.83 1.73 1.82 1.83 1.73 1.99 1.85 1.68 1.87 1.66 1.71 1.73 1.64\n",
      " 1.7  1.6  1.79 1.73 1.62 1.77]\n",
      "\n",
      "grp: ['M' 'M' 'M' 'M' 'M' 'M' 'M' 'M' 'M' 'M' 'F' 'F' 'F' 'F' 'F' 'F' 'F' 'F'\n",
      " 'F' 'F']\n"
     ]
    }
   ],
   "source": [
    "height = np.array([ 1.83, 1.83, 1.73, 1.82, 1.83,\n",
    "                    1.73,1.99, 1.85, 1.68, 1.87,\n",
    "                    1.66, 1.71, 1.73, 1.64, 1.70,\n",
    "                    1.60, 1.79, 1.73, 1.62, 1.77])\n",
    "\n",
    "grp = np.array([\"M\"] * 10 + [\"F\"] * 10)\n",
    "\n",
    "print('height:', height)\n",
    "print()\n",
    "print('grp:', grp)"
   ]
  },
  {
   "cell_type": "markdown",
   "id": "31edf29f-9be4-4a11-b424-efea6cab162e",
   "metadata": {},
   "source": [
    "##### Compute the means/std-dev per groups."
   ]
  },
  {
   "cell_type": "code",
   "execution_count": 44,
   "id": "5644310f-e1b3-408c-a464-e0e5c72c7e48",
   "metadata": {},
   "outputs": [
    {
     "name": "stdout",
     "output_type": "stream",
     "text": [
      "Mean height for males: 1.82 m, Std-dev: 0.09 m\n",
      "Mean height for females: 1.69 m, Std-dev: 0.06 m\n"
     ]
    }
   ],
   "source": [
    "# Calculate means and std-dev per group (Male and Female)\n",
    "mean_m = np.mean(height[grp == \"M\"])        # Mean height for males\n",
    "std_m = np.std(height[grp == \"M\"], ddof=1)  # Standard deviation for males (sample std-dev)\n",
    "\n",
    "mean_f = np.mean(height[grp == \"F\"])        # Mean height for females\n",
    "std_f = np.std(height[grp == \"F\"], ddof=1)  # Standard deviation for females (sample std-dev)\n",
    "\n",
    "# Print the results\n",
    "print(f\"Mean height for males: {mean_m:.2f} m, Std-dev: {std_m:.2f} m\")\n",
    "print(f\"Mean height for females: {mean_f:.2f} m, Std-dev: {std_f:.2f} m\")"
   ]
  },
  {
   "cell_type": "markdown",
   "id": "f07fb6ce-66f2-4575-befb-e5ee6be15d99",
   "metadata": {},
   "source": [
    "##### Compute the 𝑡-value (standard two sample t-test with equal variances)."
   ]
  },
  {
   "cell_type": "code",
   "execution_count": 46,
   "id": "401e6b0f-2a89-4c84-9d40-4e0e0d6a1035",
   "metadata": {},
   "outputs": [
    {
     "name": "stdout",
     "output_type": "stream",
     "text": [
      "t-value: 3.55115\n"
     ]
    }
   ],
   "source": [
    "# Group statistics\n",
    "mean_m = np.mean(height[grp == \"M\"])        # Mean for males\n",
    "std_m = np.std(height[grp == \"M\"], ddof=1)  # Sample std dev for males\n",
    "n_m = np.sum(grp == \"M\")                    # Number of males\n",
    "\n",
    "mean_f = np.mean(height[grp == \"F\"])        # Mean for females\n",
    "std_f = np.std(height[grp == \"F\"], ddof=1)  # Sample std dev for females\n",
    "n_f = np.sum(grp == \"F\")                    # Number of females\n",
    "\n",
    "# Pooled variance (s_p^2)\n",
    "pooled_var = (((n_m - 1) * std_m**2) + ((n_f - 1) * std_f**2)) / (n_m + n_f - 2)\n",
    "\n",
    "# Compute t-value\n",
    "t_value = (mean_m - mean_f) / np.sqrt(pooled_var * (1/n_m + 1/n_f))\n",
    "\n",
    "# Print the t-value\n",
    "print(f\"t-value: {t_value:.5f}\")"
   ]
  },
  {
   "cell_type": "markdown",
   "id": "7b999234-1dea-47ff-bf5a-fe17b0e62040",
   "metadata": {},
   "source": [
    "##### Compute the 𝑝-value."
   ]
  },
  {
   "cell_type": "markdown",
   "id": "88e549e5-c9bb-454f-87e9-61c630fb70b7",
   "metadata": {},
   "source": [
    "For a two-tailed test, the p-value is computed as:\n",
    "\n",
    "    p=2×P(T>∣t∣)\n",
    "    \n",
    "    Where:\n",
    "\n",
    "    T is the t-distribution with 𝑛1 + 𝑛2 −2 degrees of freedom (df).\n",
    "    t is the computed t-value."
   ]
  },
  {
   "cell_type": "code",
   "execution_count": 49,
   "id": "3100d10a-582e-4bea-943d-eda46f2e6a9f",
   "metadata": {},
   "outputs": [
    {
     "name": "stdout",
     "output_type": "stream",
     "text": [
      "p-value: 0.00228\n"
     ]
    }
   ],
   "source": [
    "# Degrees of freedom\n",
    "dof = n_m + n_f - 2\n",
    "\n",
    "# Compute p-value (two-tailed test)\n",
    "p_value = 2 * (1 - stats.t.cdf(np.abs(t_value), df=dof))\n",
    "\n",
    "# Print the t-value and p-value\n",
    "print(f\"p-value: {p_value:.5f}\")"
   ]
  },
  {
   "cell_type": "markdown",
   "id": "b86bc1b2-a836-4b99-b480-ca32cde44511",
   "metadata": {},
   "source": [
    "A small p-value (typically less than 0.05) suggests that the difference between the group means is statistically significant, and you can reject the null hypothesis (i.e., the means are not equal)."
   ]
  },
  {
   "cell_type": "markdown",
   "id": "e011b2ab-107e-4c64-85a1-530ff8ebee69",
   "metadata": {},
   "source": [
    "##### The 𝑝-value is one-sided: a two-sided test would test P(T > tval) and P(T < -tval). What would the two sided 𝑝-value be?"
   ]
  },
  {
   "cell_type": "code",
   "execution_count": 52,
   "id": "c677ac8c-9055-4016-9fd6-1638930dd74f",
   "metadata": {},
   "outputs": [
    {
     "name": "stdout",
     "output_type": "stream",
     "text": [
      "t-value: 3.55115\n",
      "One-sided p-value: 0.00114\n",
      "Two-sided p-value: 0.00228\n"
     ]
    }
   ],
   "source": [
    "# Group statistics\n",
    "mean_m = np.mean(height[grp == \"M\"])        # Mean for males\n",
    "std_m = np.std(height[grp == \"M\"], ddof=1)  # Sample std dev for males\n",
    "n_m = np.sum(grp == \"M\")                    # Number of males\n",
    "\n",
    "mean_f = np.mean(height[grp == \"F\"])        # Mean for females\n",
    "std_f = np.std(height[grp == \"F\"], ddof=1)  # Sample std dev for females\n",
    "n_f = np.sum(grp == \"F\")                    # Number of females\n",
    "\n",
    "# Pooled variance (s_p^2)\n",
    "pooled_var = (((n_m - 1) * std_m**2) + ((n_f - 1) * std_f**2)) / (n_m + n_f - 2)\n",
    "\n",
    "# Compute t-value\n",
    "t_value = (mean_m - mean_f) / np.sqrt(pooled_var * (1/n_m + 1/n_f))\n",
    "\n",
    "# Degrees of freedom\n",
    "dof = n_m + n_f - 2\n",
    "\n",
    "# Compute one-sided p-value (for reference)\n",
    "p_value_one_sided = 1 - stats.t.cdf(np.abs(t_value), df=dof)\n",
    "\n",
    "# Compute two-sided p-value\n",
    "p_value_two_sided = 2 * p_value_one_sided\n",
    "\n",
    "# Print the t-value, one-sided p-value, and two-sided p-value\n",
    "print(f\"t-value: {t_value:.5f}\")\n",
    "print(f\"One-sided p-value: {p_value_one_sided:.5f}\")\n",
    "print(f\"Two-sided p-value: {p_value_two_sided:.5f}\")"
   ]
  },
  {
   "cell_type": "markdown",
   "id": "646f80b5-034b-45ef-b359-6ff444feb23a",
   "metadata": {},
   "source": [
    "##### Compare the two-sided 𝑝-value with the one obtained by stats.ttest_ind using assert np.allclose(arr1, arr2)."
   ]
  },
  {
   "cell_type": "code",
   "execution_count": 54,
   "id": "8f5c63aa-6e5e-4add-a52e-9817d35a21e4",
   "metadata": {},
   "outputs": [
    {
     "name": "stdout",
     "output_type": "stream",
     "text": [
      "t-value (manual): 3.55115\n",
      "Two-sided p-value (manual): 0.00228\n",
      "Two-sided p-value (stats.ttest_ind): 0.00228\n",
      "P-values match!\n"
     ]
    }
   ],
   "source": [
    "# Use stats.ttest_ind to compute the two-sided p-value\n",
    "t_stat_scipy, p_value_scipy = stats.ttest_ind(height[grp == \"M\"], height[grp == \"F\"], equal_var=True)\n",
    "\n",
    "# Compare the two-sided p-value manually computed with the one from ttest_ind\n",
    "print(f\"t-value (manual): {t_value:.5f}\")\n",
    "print(f\"Two-sided p-value (manual): {p_value_two_sided:.5f}\")\n",
    "print(f\"Two-sided p-value (stats.ttest_ind): {p_value_scipy:.5f}\")\n",
    "\n",
    "# Assert that both p-values are approximately equal\n",
    "assert np.allclose(p_value_two_sided, p_value_scipy, atol=1e-5), \"P-values do not match!\"\n",
    "print(\"P-values match!\")"
   ]
  },
  {
   "cell_type": "markdown",
   "id": "ed678eb7-393c-4678-83e1-2b399229a637",
   "metadata": {},
   "source": [
    "# Two sample t-test (application)"
   ]
  },
  {
   "cell_type": "markdown",
   "id": "293a9f06-8227-46f7-8adc-34715c2a9ebc",
   "metadata": {},
   "source": [
    "### Risk Factors Associated with Low Infant Birth Weight\n",
    "##### Step 1: Explore the Data"
   ]
  },
  {
   "cell_type": "code",
   "execution_count": 57,
   "id": "5a706979-dda1-4a53-8666-c05af20b6a18",
   "metadata": {},
   "outputs": [
    {
     "data": {
      "text/html": [
       "<div>\n",
       "<style scoped>\n",
       "    .dataframe tbody tr th:only-of-type {\n",
       "        vertical-align: middle;\n",
       "    }\n",
       "\n",
       "    .dataframe tbody tr th {\n",
       "        vertical-align: top;\n",
       "    }\n",
       "\n",
       "    .dataframe thead th {\n",
       "        text-align: right;\n",
       "    }\n",
       "</style>\n",
       "<table border=\"1\" class=\"dataframe\">\n",
       "  <thead>\n",
       "    <tr style=\"text-align: right;\">\n",
       "      <th></th>\n",
       "      <th>low</th>\n",
       "      <th>age</th>\n",
       "      <th>lwt</th>\n",
       "      <th>race</th>\n",
       "      <th>smoke</th>\n",
       "      <th>ptl</th>\n",
       "      <th>ht</th>\n",
       "      <th>ui</th>\n",
       "      <th>ftv</th>\n",
       "      <th>bwt</th>\n",
       "    </tr>\n",
       "  </thead>\n",
       "  <tbody>\n",
       "    <tr>\n",
       "      <th>0</th>\n",
       "      <td>0</td>\n",
       "      <td>19</td>\n",
       "      <td>182</td>\n",
       "      <td>2</td>\n",
       "      <td>0</td>\n",
       "      <td>0</td>\n",
       "      <td>0</td>\n",
       "      <td>1</td>\n",
       "      <td>0</td>\n",
       "      <td>2523</td>\n",
       "    </tr>\n",
       "    <tr>\n",
       "      <th>1</th>\n",
       "      <td>0</td>\n",
       "      <td>33</td>\n",
       "      <td>155</td>\n",
       "      <td>3</td>\n",
       "      <td>0</td>\n",
       "      <td>0</td>\n",
       "      <td>0</td>\n",
       "      <td>0</td>\n",
       "      <td>3</td>\n",
       "      <td>2551</td>\n",
       "    </tr>\n",
       "    <tr>\n",
       "      <th>2</th>\n",
       "      <td>0</td>\n",
       "      <td>20</td>\n",
       "      <td>105</td>\n",
       "      <td>1</td>\n",
       "      <td>1</td>\n",
       "      <td>0</td>\n",
       "      <td>0</td>\n",
       "      <td>0</td>\n",
       "      <td>1</td>\n",
       "      <td>2557</td>\n",
       "    </tr>\n",
       "    <tr>\n",
       "      <th>3</th>\n",
       "      <td>0</td>\n",
       "      <td>21</td>\n",
       "      <td>108</td>\n",
       "      <td>1</td>\n",
       "      <td>1</td>\n",
       "      <td>0</td>\n",
       "      <td>0</td>\n",
       "      <td>1</td>\n",
       "      <td>2</td>\n",
       "      <td>2594</td>\n",
       "    </tr>\n",
       "    <tr>\n",
       "      <th>4</th>\n",
       "      <td>0</td>\n",
       "      <td>18</td>\n",
       "      <td>107</td>\n",
       "      <td>1</td>\n",
       "      <td>1</td>\n",
       "      <td>0</td>\n",
       "      <td>0</td>\n",
       "      <td>1</td>\n",
       "      <td>0</td>\n",
       "      <td>2600</td>\n",
       "    </tr>\n",
       "  </tbody>\n",
       "</table>\n",
       "</div>"
      ],
      "text/plain": [
       "   low  age  lwt  race  smoke  ptl  ht  ui  ftv   bwt\n",
       "0    0   19  182     2      0    0   0   1    0  2523\n",
       "1    0   33  155     3      0    0   0   0    3  2551\n",
       "2    0   20  105     1      1    0   0   0    1  2557\n",
       "3    0   21  108     1      1    0   0   1    2  2594\n",
       "4    0   18  107     1      1    0   0   1    0  2600"
      ]
     },
     "execution_count": 57,
     "metadata": {},
     "output_type": "execute_result"
    }
   ],
   "source": [
    "# Show the first few rows of the DataFrame\n",
    "df.head()"
   ]
  },
  {
   "cell_type": "code",
   "execution_count": 58,
   "id": "e9d94d55-eb7e-460c-88d4-55dd38a92ae7",
   "metadata": {},
   "outputs": [
    {
     "name": "stdout",
     "output_type": "stream",
     "text": [
      "<class 'pandas.core.frame.DataFrame'>\n",
      "RangeIndex: 189 entries, 0 to 188\n",
      "Data columns (total 10 columns):\n",
      " #   Column  Non-Null Count  Dtype\n",
      "---  ------  --------------  -----\n",
      " 0   low     189 non-null    int64\n",
      " 1   age     189 non-null    int64\n",
      " 2   lwt     189 non-null    int64\n",
      " 3   race    189 non-null    int64\n",
      " 4   smoke   189 non-null    int64\n",
      " 5   ptl     189 non-null    int64\n",
      " 6   ht      189 non-null    int64\n",
      " 7   ui      189 non-null    int64\n",
      " 8   ftv     189 non-null    int64\n",
      " 9   bwt     189 non-null    int64\n",
      "dtypes: int64(10)\n",
      "memory usage: 14.9 KB\n"
     ]
    }
   ],
   "source": [
    "# Check for missing values and data types\n",
    "df.info()"
   ]
  },
  {
   "cell_type": "code",
   "execution_count": 59,
   "id": "123730b2-8734-4ada-9bc3-cf090e9f443e",
   "metadata": {},
   "outputs": [
    {
     "data": {
      "text/html": [
       "<div>\n",
       "<style scoped>\n",
       "    .dataframe tbody tr th:only-of-type {\n",
       "        vertical-align: middle;\n",
       "    }\n",
       "\n",
       "    .dataframe tbody tr th {\n",
       "        vertical-align: top;\n",
       "    }\n",
       "\n",
       "    .dataframe thead th {\n",
       "        text-align: right;\n",
       "    }\n",
       "</style>\n",
       "<table border=\"1\" class=\"dataframe\">\n",
       "  <thead>\n",
       "    <tr style=\"text-align: right;\">\n",
       "      <th></th>\n",
       "      <th>low</th>\n",
       "      <th>age</th>\n",
       "      <th>lwt</th>\n",
       "      <th>race</th>\n",
       "      <th>smoke</th>\n",
       "      <th>ptl</th>\n",
       "      <th>ht</th>\n",
       "      <th>ui</th>\n",
       "      <th>ftv</th>\n",
       "      <th>bwt</th>\n",
       "    </tr>\n",
       "  </thead>\n",
       "  <tbody>\n",
       "    <tr>\n",
       "      <th>count</th>\n",
       "      <td>189.000000</td>\n",
       "      <td>189.000000</td>\n",
       "      <td>189.000000</td>\n",
       "      <td>189.000000</td>\n",
       "      <td>189.000000</td>\n",
       "      <td>189.000000</td>\n",
       "      <td>189.000000</td>\n",
       "      <td>189.000000</td>\n",
       "      <td>189.000000</td>\n",
       "      <td>189.000000</td>\n",
       "    </tr>\n",
       "    <tr>\n",
       "      <th>mean</th>\n",
       "      <td>0.312169</td>\n",
       "      <td>23.238095</td>\n",
       "      <td>129.814815</td>\n",
       "      <td>1.846561</td>\n",
       "      <td>0.391534</td>\n",
       "      <td>0.195767</td>\n",
       "      <td>0.063492</td>\n",
       "      <td>0.148148</td>\n",
       "      <td>0.793651</td>\n",
       "      <td>2944.587302</td>\n",
       "    </tr>\n",
       "    <tr>\n",
       "      <th>std</th>\n",
       "      <td>0.464609</td>\n",
       "      <td>5.298678</td>\n",
       "      <td>30.579380</td>\n",
       "      <td>0.918342</td>\n",
       "      <td>0.489390</td>\n",
       "      <td>0.493342</td>\n",
       "      <td>0.244494</td>\n",
       "      <td>0.356190</td>\n",
       "      <td>1.059286</td>\n",
       "      <td>729.214295</td>\n",
       "    </tr>\n",
       "    <tr>\n",
       "      <th>min</th>\n",
       "      <td>0.000000</td>\n",
       "      <td>14.000000</td>\n",
       "      <td>80.000000</td>\n",
       "      <td>1.000000</td>\n",
       "      <td>0.000000</td>\n",
       "      <td>0.000000</td>\n",
       "      <td>0.000000</td>\n",
       "      <td>0.000000</td>\n",
       "      <td>0.000000</td>\n",
       "      <td>709.000000</td>\n",
       "    </tr>\n",
       "    <tr>\n",
       "      <th>25%</th>\n",
       "      <td>0.000000</td>\n",
       "      <td>19.000000</td>\n",
       "      <td>110.000000</td>\n",
       "      <td>1.000000</td>\n",
       "      <td>0.000000</td>\n",
       "      <td>0.000000</td>\n",
       "      <td>0.000000</td>\n",
       "      <td>0.000000</td>\n",
       "      <td>0.000000</td>\n",
       "      <td>2414.000000</td>\n",
       "    </tr>\n",
       "    <tr>\n",
       "      <th>50%</th>\n",
       "      <td>0.000000</td>\n",
       "      <td>23.000000</td>\n",
       "      <td>121.000000</td>\n",
       "      <td>1.000000</td>\n",
       "      <td>0.000000</td>\n",
       "      <td>0.000000</td>\n",
       "      <td>0.000000</td>\n",
       "      <td>0.000000</td>\n",
       "      <td>0.000000</td>\n",
       "      <td>2977.000000</td>\n",
       "    </tr>\n",
       "    <tr>\n",
       "      <th>75%</th>\n",
       "      <td>1.000000</td>\n",
       "      <td>26.000000</td>\n",
       "      <td>140.000000</td>\n",
       "      <td>3.000000</td>\n",
       "      <td>1.000000</td>\n",
       "      <td>0.000000</td>\n",
       "      <td>0.000000</td>\n",
       "      <td>0.000000</td>\n",
       "      <td>1.000000</td>\n",
       "      <td>3487.000000</td>\n",
       "    </tr>\n",
       "    <tr>\n",
       "      <th>max</th>\n",
       "      <td>1.000000</td>\n",
       "      <td>45.000000</td>\n",
       "      <td>250.000000</td>\n",
       "      <td>3.000000</td>\n",
       "      <td>1.000000</td>\n",
       "      <td>3.000000</td>\n",
       "      <td>1.000000</td>\n",
       "      <td>1.000000</td>\n",
       "      <td>6.000000</td>\n",
       "      <td>4990.000000</td>\n",
       "    </tr>\n",
       "  </tbody>\n",
       "</table>\n",
       "</div>"
      ],
      "text/plain": [
       "              low         age         lwt        race       smoke         ptl  \\\n",
       "count  189.000000  189.000000  189.000000  189.000000  189.000000  189.000000   \n",
       "mean     0.312169   23.238095  129.814815    1.846561    0.391534    0.195767   \n",
       "std      0.464609    5.298678   30.579380    0.918342    0.489390    0.493342   \n",
       "min      0.000000   14.000000   80.000000    1.000000    0.000000    0.000000   \n",
       "25%      0.000000   19.000000  110.000000    1.000000    0.000000    0.000000   \n",
       "50%      0.000000   23.000000  121.000000    1.000000    0.000000    0.000000   \n",
       "75%      1.000000   26.000000  140.000000    3.000000    1.000000    0.000000   \n",
       "max      1.000000   45.000000  250.000000    3.000000    1.000000    3.000000   \n",
       "\n",
       "               ht          ui         ftv          bwt  \n",
       "count  189.000000  189.000000  189.000000   189.000000  \n",
       "mean     0.063492    0.148148    0.793651  2944.587302  \n",
       "std      0.244494    0.356190    1.059286   729.214295  \n",
       "min      0.000000    0.000000    0.000000   709.000000  \n",
       "25%      0.000000    0.000000    0.000000  2414.000000  \n",
       "50%      0.000000    0.000000    0.000000  2977.000000  \n",
       "75%      0.000000    0.000000    1.000000  3487.000000  \n",
       "max      1.000000    1.000000    6.000000  4990.000000  "
      ]
     },
     "execution_count": 59,
     "metadata": {},
     "output_type": "execute_result"
    }
   ],
   "source": [
    "# Summary statistics of the data\n",
    "df.describe()  "
   ]
  },
  {
   "cell_type": "markdown",
   "id": "a7e457ea-40fb-4031-a119-403a7dd4a653",
   "metadata": {},
   "source": [
    "##### Step 2: Recode Smoke Factor"
   ]
  },
  {
   "cell_type": "code",
   "execution_count": 61,
   "id": "f6872864-20e6-454c-909c-169bb3c7d99c",
   "metadata": {},
   "outputs": [
    {
     "data": {
      "text/html": [
       "<div>\n",
       "<style scoped>\n",
       "    .dataframe tbody tr th:only-of-type {\n",
       "        vertical-align: middle;\n",
       "    }\n",
       "\n",
       "    .dataframe tbody tr th {\n",
       "        vertical-align: top;\n",
       "    }\n",
       "\n",
       "    .dataframe thead th {\n",
       "        text-align: right;\n",
       "    }\n",
       "</style>\n",
       "<table border=\"1\" class=\"dataframe\">\n",
       "  <thead>\n",
       "    <tr style=\"text-align: right;\">\n",
       "      <th></th>\n",
       "      <th>low</th>\n",
       "      <th>age</th>\n",
       "      <th>lwt</th>\n",
       "      <th>race</th>\n",
       "      <th>smoke</th>\n",
       "      <th>ptl</th>\n",
       "      <th>ht</th>\n",
       "      <th>ui</th>\n",
       "      <th>ftv</th>\n",
       "      <th>bwt</th>\n",
       "      <th>smoke_recode</th>\n",
       "    </tr>\n",
       "  </thead>\n",
       "  <tbody>\n",
       "    <tr>\n",
       "      <th>0</th>\n",
       "      <td>0</td>\n",
       "      <td>19</td>\n",
       "      <td>182</td>\n",
       "      <td>2</td>\n",
       "      <td>0</td>\n",
       "      <td>0</td>\n",
       "      <td>0</td>\n",
       "      <td>1</td>\n",
       "      <td>0</td>\n",
       "      <td>2523</td>\n",
       "      <td>Non-smoker</td>\n",
       "    </tr>\n",
       "    <tr>\n",
       "      <th>1</th>\n",
       "      <td>0</td>\n",
       "      <td>33</td>\n",
       "      <td>155</td>\n",
       "      <td>3</td>\n",
       "      <td>0</td>\n",
       "      <td>0</td>\n",
       "      <td>0</td>\n",
       "      <td>0</td>\n",
       "      <td>3</td>\n",
       "      <td>2551</td>\n",
       "      <td>Non-smoker</td>\n",
       "    </tr>\n",
       "    <tr>\n",
       "      <th>2</th>\n",
       "      <td>0</td>\n",
       "      <td>20</td>\n",
       "      <td>105</td>\n",
       "      <td>1</td>\n",
       "      <td>1</td>\n",
       "      <td>0</td>\n",
       "      <td>0</td>\n",
       "      <td>0</td>\n",
       "      <td>1</td>\n",
       "      <td>2557</td>\n",
       "      <td>Smoker</td>\n",
       "    </tr>\n",
       "    <tr>\n",
       "      <th>3</th>\n",
       "      <td>0</td>\n",
       "      <td>21</td>\n",
       "      <td>108</td>\n",
       "      <td>1</td>\n",
       "      <td>1</td>\n",
       "      <td>0</td>\n",
       "      <td>0</td>\n",
       "      <td>1</td>\n",
       "      <td>2</td>\n",
       "      <td>2594</td>\n",
       "      <td>Smoker</td>\n",
       "    </tr>\n",
       "    <tr>\n",
       "      <th>4</th>\n",
       "      <td>0</td>\n",
       "      <td>18</td>\n",
       "      <td>107</td>\n",
       "      <td>1</td>\n",
       "      <td>1</td>\n",
       "      <td>0</td>\n",
       "      <td>0</td>\n",
       "      <td>1</td>\n",
       "      <td>0</td>\n",
       "      <td>2600</td>\n",
       "      <td>Smoker</td>\n",
       "    </tr>\n",
       "  </tbody>\n",
       "</table>\n",
       "</div>"
      ],
      "text/plain": [
       "   low  age  lwt  race  smoke  ptl  ht  ui  ftv   bwt smoke_recode\n",
       "0    0   19  182     2      0    0   0   1    0  2523   Non-smoker\n",
       "1    0   33  155     3      0    0   0   0    3  2551   Non-smoker\n",
       "2    0   20  105     1      1    0   0   0    1  2557       Smoker\n",
       "3    0   21  108     1      1    0   0   1    2  2594       Smoker\n",
       "4    0   18  107     1      1    0   0   1    0  2600       Smoker"
      ]
     },
     "execution_count": 61,
     "metadata": {},
     "output_type": "execute_result"
    }
   ],
   "source": [
    "# We will recode the smoke variable from integers (0, 1) into a more interpretable form, such as \"Non-smoker\" and \"Smoker\".\n",
    "\n",
    "# Recode the 'smoke' variable\n",
    "df['smoke_recode'] = df['smoke'].map({0: 'Non-smoker', 1: 'Smoker'})\n",
    "\n",
    "# Check if the recoding was successful\n",
    "df.head()"
   ]
  },
  {
   "cell_type": "markdown",
   "id": "86b1d694-5133-49ae-a944-07b33f364f17",
   "metadata": {},
   "source": [
    "##### Step 3: Compute Means/Standard Deviations per Group"
   ]
  },
  {
   "cell_type": "code",
   "execution_count": 63,
   "id": "caa6714c-ad9e-4eb2-ada7-0a90b1d3092f",
   "metadata": {},
   "outputs": [
    {
     "name": "stdout",
     "output_type": "stream",
     "text": [
      "  smoke_recode         mean         std\n",
      "0   Non-smoker  3055.695652  752.656607\n",
      "1       Smoker  2771.918919  659.634867\n"
     ]
    }
   ],
   "source": [
    "# Group by 'smoke_recode' and calculate mean and std for birth weight (bwt)\n",
    "grouped_stats = df.groupby('smoke_recode')['bwt'].agg(['mean', 'std']).reset_index()\n",
    "\n",
    "# Print the results\n",
    "print(grouped_stats)"
   ]
  },
  {
   "cell_type": "markdown",
   "id": "f3e7b9db-de18-460d-b348-ac3cc522a9a9",
   "metadata": {},
   "source": [
    "## Two sample t-test and random permutations"
   ]
  },
  {
   "cell_type": "markdown",
   "id": "f6e5902d-ad1c-4a57-9956-5e379087d0d0",
   "metadata": {},
   "source": [
    "Generate 100 samples following the model:\n",
    "\n",
    "    𝑦 = 𝑔 + 𝜀\n",
    "    \n",
    "Where the noise 𝜀 ∼ 𝑁(1, 1) and 𝑔 ∈ {0, 1} is a group indicator variable with 50 ones and 50\n",
    "zeros.\n",
    "\n",
    "    • Write a function tstat(y, g) that compute the two samples t-test of y splited in two groups defined by g.\n",
    "    • Sample the t-statistic distribution under the null hypothesis using random permutations.\n",
    "    • Assess the p-value."
   ]
  },
  {
   "cell_type": "code",
   "execution_count": 66,
   "id": "e3f4b77c-5756-4918-a3fd-a9e10b6b4fda",
   "metadata": {},
   "outputs": [],
   "source": [
    "# Step 1: Generate the data\n",
    "np.random.seed(42)  # For reproducibility\n",
    "n_samples = 100\n",
    "\n",
    "# Generate g (50 ones and 50 zeros)\n",
    "g = np.array([0] * 50 + [1] * 50)                           # g = [0,0,0,...,1,1,1]\n",
    "\n",
    "# Generate the noise ε ~ N(1, 1)\n",
    "epsilon = np.random.normal(loc=1, scale=1, size=n_samples)  # (mu=1, std=1, size=100)\n",
    "\n",
    "# Compute y = g + ε\n",
    "y = g + epsilon                                             # y = [1.n, 1.n, 1.n,..., 2.n, 2.n, 2.n]"
   ]
  },
  {
   "cell_type": "code",
   "execution_count": 67,
   "id": "97b1b5cf-1fce-4f50-b641-853455ca1b89",
   "metadata": {},
   "outputs": [
    {
     "data": {
      "image/png": "[encoded data removed]",
      "text/plain": [
       "<Figure size 640x480 with 1 Axes>"
      ]
     },
     "metadata": {},
     "output_type": "display_data"
    }
   ],
   "source": [
    "# Scatter plot to visualize y values by group g\n",
    "plt.scatter(g, y, color='blue', alpha=0.7, label='y = g + ε')\n",
    "\n",
    "# Add some jitter to the x-axis (group values) for better visualization\n",
    "g_jitter = g + np.random.uniform(-0.05, 0.05, size=n_samples)\n",
    "plt.scatter(g_jitter, y, color='green', alpha=0.5, label='Jittered')\n",
    "\n",
    "# Label the axes and add a title\n",
    "plt.xlabel('Group (g)')\n",
    "plt.ylabel('y = g + ε')\n",
    "plt.title('Scatter plot of y = g + ε (with jitter)')\n",
    "plt.xticks([0, 1], ['Group 0', 'Group 1'])  # Label the x-ticks\n",
    "\n",
    "# Add a legend\n",
    "plt.legend()\n",
    "\n",
    "# Show the plot\n",
    "plt.show()"
   ]
  },
  {
   "cell_type": "markdown",
   "id": "1d653f80-5b72-4eb7-80e3-cfb72bf08c54",
   "metadata": {},
   "source": [
    "The plot will show two clusters of points:\n",
    "\n",
    "    Group 0: Points will be centered around y≈1, since y=0+ϵ (and ϵ∼N(1,1)).\n",
    "    Group 1: Points will be centered around y≈2, since y=1+ϵ.\n",
    "\n",
    "The scatter plot will show how the random noise affects the values of y in both groups."
   ]
  },
  {
   "cell_type": "code",
   "execution_count": 69,
   "id": "b202cfc4-3cef-4e2a-9fd7-f6112fcdeceb",
   "metadata": {},
   "outputs": [],
   "source": [
    "# Step 2: Write tstat(y, g) function\n",
    "def tstat(y, g):\n",
    "    \"\"\"\n",
    "    Compute the two-sample t-test for y split by group g (0 or 1).\n",
    "    \"\"\"\n",
    "    # Separate the data (y) into two groups based on the group labels (g)\n",
    "    y_group0 = y[g == 0]  # All values of y where the group label is 0\n",
    "    y_group1 = y[g == 1]  # All values of y where the group label is 1\n",
    "    \n",
    "    # Perform a two-sample t-test comparing the means of the two groups (assuming equal variances)\n",
    "    t_stat, _ = stats.ttest_ind(y_group0, y_group1, equal_var=True)\n",
    "    \n",
    "    # Return the t-statistic\n",
    "    return t_stat"
   ]
  },
  {
   "cell_type": "code",
   "execution_count": 70,
   "id": "59a86ba2-e2f3-4ea7-a493-4394ce425b06",
   "metadata": {},
   "outputs": [],
   "source": [
    "# Step 3: Permute group labels and compute t-statistics under the null hypothesis\n",
    "def permuted_t_statistics(y, g, n_permutations=1000):\n",
    "    \"\"\"\n",
    "    Compute t-statistics by randomly permuting the group labels (g) to simulate the null distribution.\n",
    "    \"\"\"\n",
    "    # Initialize an array to store the t-statistics for each permutation\n",
    "    t_stats_null = np.zeros(n_permutations)  # Create an array filled with zeros of length n_permutations\n",
    "    \n",
    "    # Loop over the number of permutations\n",
    "    for i in range(n_permutations):\n",
    "        # Permute (shuffle) the group labels randomly to break any association between y and g\n",
    "        g_permuted = np.random.permutation(g)\n",
    "        \n",
    "        # Compute the t-statistic for the permuted group labels\n",
    "        # This simulates what the t-statistic would be under the null hypothesis (no difference between the groups)\n",
    "        t_stats_null[i] = tstat(y, g_permuted)\n",
    "    \n",
    "    # Return the array of t-statistics for the null hypothesis\n",
    "    return t_stats_null"
   ]
  },
  {
   "cell_type": "code",
   "execution_count": 71,
   "id": "6143b2ab-079d-4bf7-afca-53c6635ebe34",
   "metadata": {},
   "outputs": [],
   "source": [
    "# Step 4: Assess the p-value by comparing the observed t-statistic with the null distribution\n",
    "# Compute the observed t-statistic\n",
    "observed_t_stat = tstat(y, g)\n",
    "\n",
    "# Generate t-statistics under the null hypothesis using 1000 permutations\n",
    "n_permutations = 1000\n",
    "t_stats_null = permuted_t_statistics(y, g, n_permutations)\n",
    "\n",
    "# Compute the p-value by comparing observed t-stat to the null distribution\n",
    "p_value = np.mean(np.abs(t_stats_null) >= np.abs(observed_t_stat))"
   ]
  },
  {
   "cell_type": "code",
   "execution_count": 72,
   "id": "b75db4fc-20de-4275-87dd-5b83a7a7b436",
   "metadata": {},
   "outputs": [
    {
     "name": "stdout",
     "output_type": "stream",
     "text": [
      "Observed t-statistic: -6.87273\n",
      "p-value: 0.00000\n"
     ]
    },
    {
     "data": {
      "image/png": "[encoded data removed]",
      "text/plain": [
       "<Figure size 640x480 with 1 Axes>"
      ]
     },
     "metadata": {},
     "output_type": "display_data"
    }
   ],
   "source": [
    "# Step 5: Display the results\n",
    "print(f\"Observed t-statistic: {observed_t_stat:.5f}\")\n",
    "print(f\"p-value: {p_value:.5f}\")\n",
    "\n",
    "# Plot the null distribution of t-statistics\n",
    "plt.hist(t_stats_null, bins=30, density=True, alpha=0.7, label='Null Distribution')\n",
    "plt.axvline(x=observed_t_stat, color='r', linestyle='--', label=f'Observed t-stat: {observed_t_stat:.2f}')\n",
    "plt.axvline(x=-observed_t_stat, color='r', linestyle='--')\n",
    "plt.title('Permuted t-statistic Distribution Under Null Hypothesis')\n",
    "plt.xlabel('t-statistic')\n",
    "plt.ylabel('Density')\n",
    "plt.legend()\n",
    "plt.show()"
   ]
  },
  {
   "cell_type": "markdown",
   "id": "c3ea5ec5-0d3d-4472-b024-62eaf42cb9f3",
   "metadata": {},
   "source": [
    "This **t-statistic** is large in magnitude (specifically, it's negative, but the magnitude matters here), indicating that there is a significant difference between the means of the two groups (g = 0 and g = 1). The more extreme the t-statistic (far from 0), the greater the evidence against the null hypothesis (which assumes that there is no difference between the two group means).\n",
    "\n",
    "The **p-value** is extremely small (effectively 0), which means that the probability of observing such an extreme t-statistic under the null hypothesis (assuming there is no true difference between the groups) is essentially 0.\n",
    "\n",
    "This result aligns with the way the data was generated:\n",
    "\n",
    "    Group 0 has y=0+ϵ (centered around 1 due to the noise distribution),\n",
    "    Group 1 has y=1+ϵ (centered around 2)."
   ]
  },
  {
   "cell_type": "markdown",
   "id": "a586ef5b-03dd-4c35-9bfe-ef94b802baec",
   "metadata": {},
   "source": [
    "## Univariate associations (developpement)"
   ]
  },
  {
   "cell_type": "markdown",
   "id": "65b4311f-7cf7-4ca4-9906-00c9a7f39be7",
   "metadata": {},
   "source": [
    "Write a function univar_stat(df, target, variables) that computes the parametric statistics\n",
    "and 𝑝-values between the target variable (provided as as string) and all variables (provided\n",
    "as a list of string) of the pandas DataFrame df. The target is a quantitative variable but variables may be quantitative or qualitative. The function returns a DataFrame with four columns:\n",
    "variable, test, value, p_value."
   ]
  },
  {
   "cell_type": "code",
   "execution_count": 76,
   "id": "e33a4fc4-cded-4a82-ac27-d7d5082e7fe9",
   "metadata": {},
   "outputs": [
    {
     "data": {
      "text/html": [
       "<div>\n",
       "<style scoped>\n",
       "    .dataframe tbody tr th:only-of-type {\n",
       "        vertical-align: middle;\n",
       "    }\n",
       "\n",
       "    .dataframe tbody tr th {\n",
       "        vertical-align: top;\n",
       "    }\n",
       "\n",
       "    .dataframe thead th {\n",
       "        text-align: right;\n",
       "    }\n",
       "</style>\n",
       "<table border=\"1\" class=\"dataframe\">\n",
       "  <thead>\n",
       "    <tr style=\"text-align: right;\">\n",
       "      <th></th>\n",
       "      <th>salary</th>\n",
       "      <th>experience</th>\n",
       "      <th>education</th>\n",
       "      <th>management</th>\n",
       "    </tr>\n",
       "  </thead>\n",
       "  <tbody>\n",
       "    <tr>\n",
       "      <th>0</th>\n",
       "      <td>13876</td>\n",
       "      <td>1</td>\n",
       "      <td>Bachelor</td>\n",
       "      <td>Y</td>\n",
       "    </tr>\n",
       "    <tr>\n",
       "      <th>1</th>\n",
       "      <td>11608</td>\n",
       "      <td>1</td>\n",
       "      <td>Ph.D</td>\n",
       "      <td>N</td>\n",
       "    </tr>\n",
       "    <tr>\n",
       "      <th>2</th>\n",
       "      <td>18701</td>\n",
       "      <td>1</td>\n",
       "      <td>Ph.D</td>\n",
       "      <td>Y</td>\n",
       "    </tr>\n",
       "    <tr>\n",
       "      <th>3</th>\n",
       "      <td>11283</td>\n",
       "      <td>1</td>\n",
       "      <td>Master</td>\n",
       "      <td>N</td>\n",
       "    </tr>\n",
       "    <tr>\n",
       "      <th>4</th>\n",
       "      <td>11767</td>\n",
       "      <td>1</td>\n",
       "      <td>Ph.D</td>\n",
       "      <td>N</td>\n",
       "    </tr>\n",
       "  </tbody>\n",
       "</table>\n",
       "</div>"
      ],
      "text/plain": [
       "   salary  experience education management\n",
       "0   13876           1  Bachelor          Y\n",
       "1   11608           1      Ph.D          N\n",
       "2   18701           1      Ph.D          Y\n",
       "3   11283           1    Master          N\n",
       "4   11767           1      Ph.D          N"
      ]
     },
     "execution_count": 76,
     "metadata": {},
     "output_type": "execute_result"
    }
   ],
   "source": [
    "df2.head()"
   ]
  },
  {
   "cell_type": "code",
   "execution_count": 77,
   "id": "6409d21a-5e68-48bf-af99-650e0852dd26",
   "metadata": {},
   "outputs": [
    {
     "name": "stdout",
     "output_type": "stream",
     "text": [
      "<class 'pandas.core.frame.DataFrame'>\n",
      "RangeIndex: 46 entries, 0 to 45\n",
      "Data columns (total 4 columns):\n",
      " #   Column      Non-Null Count  Dtype \n",
      "---  ------      --------------  ----- \n",
      " 0   salary      46 non-null     int64 \n",
      " 1   experience  46 non-null     int64 \n",
      " 2   education   46 non-null     object\n",
      " 3   management  46 non-null     object\n",
      "dtypes: int64(2), object(2)\n",
      "memory usage: 1.6+ KB\n"
     ]
    }
   ],
   "source": [
    "df2.info()"
   ]
  },
  {
   "cell_type": "markdown",
   "id": "eb9ef030-b0a1-45ae-9225-9c243d81da5b",
   "metadata": {},
   "source": [
    "To create a function univar_stat that computes parametric statistics and p-values between the target variable (salary) and all other variables in the DataFrame, we need to handle both quantitative (numeric) and qualitative (categorical) variables. We will:\n",
    "\n",
    "    * Perform a t-test or ANOVA for categorical variables.\n",
    "    * Perform Pearson's correlation for quantitative variables\n",
    "\n",
    "Function Design:\n",
    "\n",
    "    * For categorical variables (\"education\", \"management\"), we use t-tests (for binary categories) or ANOVA (for multiple categories).\n",
    "    * For quantitative variables (\"experience\"), we compute the Pearson correlation coefficient."
   ]
  },
  {
   "cell_type": "code",
   "execution_count": 79,
   "id": "9669f2d9-3995-4645-a77c-346f2c850aeb",
   "metadata": {},
   "outputs": [
    {
     "name": "stdout",
     "output_type": "stream",
     "text": [
      "     variable                 test     value       p_value\n",
      "0  experience  Pearson correlation  0.538886  1.116574e-04\n",
      "1   education                ANOVA  2.630597  8.360139e-02\n",
      "2  management               t-test  6.730863  1.394211e-07\n",
      "\n"
     ]
    }
   ],
   "source": [
    "#import pandas as pd\n",
    "#import numpy as np\n",
    "#from scipy import stats\n",
    "#import statsmodels.api as sm\n",
    "#from statsmodels.formula.api import ols\n",
    "\n",
    "# Function to compute univariate statistics and p-values between the target variable and given variables\n",
    "def univar_stat(df, target, variables):\n",
    "    results = []  # Initialize an empty list to store the results for each variable\n",
    "\n",
    "    # Loop through the list of variables provided\n",
    "    for var in variables:\n",
    "        # Check if the variable is categorical (of dtype 'object')\n",
    "        if df[var].dtype == 'object':\n",
    "            # If the variable has two unique categories, perform a t-test\n",
    "            if df[var].nunique() == 2:\n",
    "                # Perform a two-sample t-test between the two groups of the categorical variable\n",
    "                groups = df[var].unique()                       # Identify the unique categories of the variable\n",
    "                group1 = df[df[var] == groups[0]][target]       # Subset the data where var == first category\n",
    "                group2 = df[df[var] == groups[1]][target]       # Subset the data where var == second category\n",
    "                t_stat, p_val = stats.ttest_ind(group1, group2, equal_var=False)  # Perform Welch's t-test (unequal variances)\n",
    "                results.append([var, 't-test', t_stat, p_val])  # Append the variable, test name, t-statistic, and p-value to results\n",
    "            else:\n",
    "                # If the categorical variable has more than two categories, perform ANOVA\n",
    "                formula = f'{target} ~ C({var})'               # Create the formula for the OLS regression model\n",
    "                model = ols(formula, data=df).fit()            # Fit the OLS model using statsmodels\n",
    "                anova_table = sm.stats.anova_lm(model, typ=2)  # Perform ANOVA to compare means between groups\n",
    "                F_stat = anova_table['F'].iloc[0]              # Extract the F-statistic from the ANOVA table\n",
    "                p_val = anova_table['PR(>F)'].iloc[0]          # Extract the p-value for the F-statistic\n",
    "                results.append([var, 'ANOVA', F_stat, p_val])  # Append the results (variable, test type, F-statistic, p-value)\n",
    "        \n",
    "        # Check if the variable is quantitative (numeric dtype)\n",
    "        elif np.issubdtype(df[var].dtype, np.number):\n",
    "            # Perform Pearson correlation for numeric variables\n",
    "            corr, p_val = stats.pearsonr(df[target], df[var])          # Calculate Pearson's correlation coefficient and p-value\n",
    "            results.append([var, 'Pearson correlation', corr, p_val])  # Append the variable, test name, correlation coefficient, and p-value\n",
    "\n",
    "    # Convert the results list into a pandas DataFrame with appropriate column names\n",
    "    result_df = pd.DataFrame(results, columns=['variable', 'test', 'value', 'p_value'])\n",
    "    return result_df                                                   # Return the DataFrame containing the statistical results\n",
    "\n",
    "# Example usage:\n",
    "variables = ['experience', 'education', 'management']  # List of variables to test against the target variable\n",
    "target = 'salary'                                      # Define the target variable (dependent variable)\n",
    "\n",
    "# Call the function and store the results in a DataFrame\n",
    "result_df = univar_stat(df2, target, variables)\n",
    "\n",
    "# Print the resulting DataFrame with statistical tests\n",
    "print(result_df)\n",
    "print()"
   ]
  },
  {
   "cell_type": "markdown",
   "id": "0c0fe877-bad6-41e3-ab59-1682e1b716b3",
   "metadata": {},
   "source": [
    "| Variable | Test | Value | p-value | Interpretation |\n",
    "|:--------:|:--------:|:--------:|:--------:|:---------|\n",
    "|  experience   |  Pearson correlation   |  0.5389\t   |  0.0001   |  There is a moderate positive correlation between experience and salary, which is statistically significant (p-value < 0.05). More experience is associated with higher salary.  |\n",
    "|  education   |  ANOVA   |  2.6306   |  0.0836   |  Differences in salary based on education level are not statistically significant (p-value > 0.05), though the value is close to the threshold for significance.   |\n",
    "|  management   |  t-test   |  6.7309   |  0.000000139   |  There is a strong, statistically significant difference in salary based on whether an employee is in management or not, with a very low p-value indicating a highly significant result.   |"
   ]
  },
  {
   "cell_type": "markdown",
   "id": "575a1a4b-ce5f-4994-a204-e906ae907c0f",
   "metadata": {},
   "source": [
    "##### Summary:\n",
    "\n",
    "    Experience: A significant positive relationship with salary.\n",
    "    Education: No significant differences in salary across education levels.\n",
    "    Management: A highly significant difference in salary between employees in management and those not in management."
   ]
  },
  {
   "cell_type": "markdown",
   "id": "af4a6058-24b2-47c3-8f09-1b47f46704c1",
   "metadata": {},
   "source": [
    "## Multiple Comparisons"
   ]
  },
  {
   "cell_type": "markdown",
   "id": "51e969f3-f4fc-46eb-87ce-89cb3452775e",
   "metadata": {},
   "source": [
    "Given the dataset provided for multiple comparisons, compute the two-sample 𝑡-test (assuming\n",
    "equal variance) for each (column) feature of the Y array given the two groups defined by grp\n",
    "variable. You should return two vectors of size n_features: one for the 𝑡-values and one for the\n",
    "𝑝-values."
   ]
  },
  {
   "cell_type": "code",
   "execution_count": 84,
   "id": "b067bf5b-02bc-419c-b22e-06f2d96430c8",
   "metadata": {},
   "outputs": [],
   "source": [
    "# dataset\n",
    "mu_k = np.array([1, 2, 3])   # Set the means for 3 different groups\n",
    "sd_k = np.array([1, 1, 1])   # Set the standard deviations for 3 different groups\n",
    "n_k = np.array([10, 20, 30]) # Set the sample sizes for each group (group 0 has 10, group 1 has 20, group 2 has 30 samples)\n",
    "grp = [0, 1, 2]              # Define the group labels (three groups: 0, 1, and 2)\n",
    "n = np.sum(n_k)              # Calculate the total number of samples across all groups\n",
    "\n",
    "# Generate group labels for each sample based on the group sizes\n",
    "label = np.hstack([[k] * n_k[k] for k in [0, 1, 2]])\n",
    "\n",
    "# Initialize an empty array 'y' to store the generated data for all samples\n",
    "y = np.zeros(n)\n",
    "\n",
    "# Generate data for each group based on the group's mean and standard deviation\n",
    "for k in grp:\n",
    "    y[label == k] = np.random.normal(mu_k[k], sd_k[k], n_k[k])            # Generate random values for group k from a normal distribution"
   ]
  },
  {
   "cell_type": "code",
   "execution_count": 85,
   "id": "989d70c8-d574-485c-83ba-2d7ae46ed7d1",
   "metadata": {},
   "outputs": [
    {
     "data": {
      "image/png": "[encoded data removed]",
      "text/plain": [
       "<Figure size 1000x500 with 2 Axes>"
      ]
     },
     "metadata": {},
     "output_type": "display_data"
    }
   ],
   "source": [
    "# Convert data to a DataFrame for plotting\n",
    "import pandas as pd\n",
    "df3 = pd.DataFrame({'Group': label, 'Values': y})\n",
    "\n",
    "# Define a color palette for the three groups\n",
    "colors = sns.color_palette(\"Set2\", 3)  # Use Set1 palette with 3 distinct colors\n",
    "\n",
    "# Plot the data using a boxplot and violin plot for comparison\n",
    "plt.figure(figsize=(10, 5))\n",
    "\n",
    "# Boxplot\n",
    "plt.subplot(1, 2, 1)\n",
    "sns.boxplot(x='Group', y='Values', data=df3, hue='Group', palette=colors, legend=False)\n",
    "plt.title('Box Plot of Values by Group')\n",
    "\n",
    "# Violin plot\n",
    "plt.subplot(1, 2, 2)\n",
    "sns.violinplot(x='Group', y='Values', data=df3, hue='Group', palette=colors, legend=False)\n",
    "plt.title('Violin Plot of Values by Group')\n",
    "\n",
    "plt.tight_layout()\n",
    "plt.show()"
   ]
  },
  {
   "cell_type": "code",
   "execution_count": 86,
   "id": "c849ee8f-0beb-49a1-b503-5da591dd0fdb",
   "metadata": {},
   "outputs": [
    {
     "name": "stdout",
     "output_type": "stream",
     "text": [
      "     Group_0   Group_1   Group_2\n",
      "0   1.750003  2.608826  4.273108\n",
      "1   0.230535  1.846724  2.746970\n",
      "2   1.101398  2.863111  3.034921\n",
      "3   1.184773  3.087674  2.827816\n",
      "4   1.637461  0.149600  3.539958\n",
      "5   1.039062  1.162965  3.891528\n",
      "6   1.483630  1.874857  4.064328\n",
      "7   2.019686  0.976290  2.696248\n",
      "8  -0.051821  1.527035  3.182160\n",
      "9  -0.320605  0.721321  3.331366\n",
      "10       NaN  1.561406  4.464203\n",
      "11       NaN  1.033968  1.213849\n",
      "12       NaN  2.344624  3.011445\n",
      "13       NaN  2.902420  2.356931\n",
      "14       NaN  2.408745  2.467471\n",
      "15       NaN  4.597745  2.149510\n",
      "16       NaN  2.938864  3.539121\n",
      "17       NaN  2.901350  0.549263\n",
      "18       NaN  1.917897  2.861544\n",
      "19       NaN  1.693142  1.178457\n",
      "20       NaN       NaN  2.307493\n",
      "21       NaN       NaN  2.786257\n",
      "22       NaN       NaN  2.594358\n",
      "23       NaN       NaN  3.681148\n",
      "24       NaN       NaN  4.249665\n",
      "25       NaN       NaN  4.958159\n",
      "26       NaN       NaN  2.992485\n",
      "27       NaN       NaN  4.161085\n",
      "28       NaN       NaN  4.463947\n",
      "29       NaN       NaN  2.523735\n"
     ]
    }
   ],
   "source": [
    "# Create a new index for each group separately to ensure alignment when grouping\n",
    "df3['index_in_group'] = df3.groupby('Group').cumcount()\n",
    "\n",
    "# Pivot the DataFrame to align Group 0, 1, and 2 on the same rows\n",
    "df_wide = df3.pivot(index='index_in_group', columns='Group', values='Values')\n",
    "\n",
    "# Rename the columns for better readability\n",
    "df_wide.columns = [f'Group_{int(col)}' for col in df_wide.columns]\n",
    "\n",
    "# Reset index to get a cleaner display\n",
    "df_wide = df_wide.reset_index(drop=True)\n",
    "\n",
    "# Display the resulting DataFrame\n",
    "print(df_wide)"
   ]
  },
  {
   "cell_type": "markdown",
   "id": "e2fa20b3-08b0-4050-b893-565ce9b1efc3",
   "metadata": {},
   "source": [
    "#### Perform an ANOVA dataset described bellow\n",
    "\r",
    "• Compute between and within variances\n",
    "    \r",
    "• Compute 𝐹 -value: fval\n",
    "    \n",
    "\n",
    "• Compare the 𝑝-value with the one obtained by stats.f_oneway using assert np\r\n",
    "allclose(arr1, arr2)"
   ]
  },
  {
   "cell_type": "code",
   "execution_count": 88,
   "id": "3d8bc437-f821-4bc7-aece-9cd0ae2109e4",
   "metadata": {},
   "outputs": [
    {
     "name": "stdout",
     "output_type": "stream",
     "text": [
      "F-statistic (manual): 17.76898\n",
      "F-statistic (scipy): 17.76898\n",
      "\n",
      "p-value (manual): 1.01e-06\n",
      "p-value (scipy): 1.01e-06\n",
      "\n",
      "Values are equal.\n"
     ]
    }
   ],
   "source": [
    "# estimate parameters\n",
    "ybar_k = np.zeros(3)  # Group means\n",
    "ybar = y.mean()       # Overall mean of the data\n",
    "\n",
    "# Calculate the mean of each group\n",
    "for k in grp:\n",
    "    ybar_k[k] = np.mean(y[label == k])\n",
    "\n",
    "# Compute between-group variance (S_between)\n",
    "betweenvar = np.sum([n_k[k] * (ybar_k[k] - ybar) ** 2 for k in grp]) / (len(grp) - 1)\n",
    "\n",
    "# Compute within-group variance (S_within)\n",
    "withinvar = np.sum([np.sum((y[label == k] - ybar_k[k]) ** 2) for k in grp]) / (n - len(grp))\n",
    "\n",
    "# Compute the F-statistic\n",
    "fval = betweenvar / withinvar\n",
    "# Compute the p-value using the survival function (1 - `cdf`)\n",
    "pval = stats.f.sf(fval, (len(grp) - 1), n - len(grp))\n",
    "\n",
    "# Compute F-value and p-value with scipy's f_oneway\n",
    "f_val, p_val = stats.f_oneway(y[label == 0], y[label == 1], y[label == 2])\n",
    "\n",
    "# Compare the F-statistic manually computed with scipy\n",
    "print(f\"F-statistic (manual): {fval:.5f}\")\n",
    "print(f\"F-statistic (scipy): {f_val:.5f}\\n\")\n",
    "\n",
    "# Compare the p-value manually computed with scipy\n",
    "print(f\"p-value (manual): {pval:.2e}\")\n",
    "print(f\"p-value (scipy): {p_val:.2e}\\n\")\n",
    "\n",
    "# Check if the manually computed values are close to scipy's results\n",
    "assert np.allclose((fval, pval), (f_val, p_val)), \"Values are not equal\"\n",
    "print(\"Values are equal.\")"
   ]
  }
 ],
 "metadata": {
  "kernelspec": {
   "display_name": "Python 3 (ipykernel)",
   "language": "python",
   "name": "python3"
  },
  "language_info": {
   "codemirror_mode": {
    "name": "ipython",
    "version": 3
   },
   "file_extension": ".py",
   "mimetype": "text/x-python",
   "name": "python",
   "nbconvert_exporter": "python",
   "pygments_lexer": "ipython3",
   "version": "3.11.7"
  }
 },
 "nbformat": 4,
 "nbformat_minor": 5
}
