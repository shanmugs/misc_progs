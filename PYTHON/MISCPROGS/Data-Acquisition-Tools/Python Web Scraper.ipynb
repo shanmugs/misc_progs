{
 "cells": [
  {
   "cell_type": "markdown",
   "metadata": {},
   "source": [
    "# Python Web Scraper\n",
    "\n",
    "Source: Make Data Useful"
   ]
  },
  {
   "cell_type": "code",
   "execution_count": 1,
   "metadata": {},
   "outputs": [],
   "source": [
    "# Import Libraries\n",
    "\n",
    "from bs4 import BeautifulSoup\n",
    "import requests"
   ]
  },
  {
   "cell_type": "code",
   "execution_count": 2,
   "metadata": {},
   "outputs": [
    {
     "data": {
      "text/plain": [
       "<Response [200]>"
      ]
     },
     "execution_count": 2,
     "metadata": {},
     "output_type": "execute_result"
    }
   ],
   "source": [
    "# URL\n",
    "url = 'https://12695.portal.athenahealth.com/'\n",
    "\n",
    "# Request webpage and store it as a variable\n",
    "response = requests.get(url)\n",
    "\n",
    "response"
   ]
  },
  {
   "cell_type": "code",
   "execution_count": 3,
   "metadata": {},
   "outputs": [
    {
     "data": {
      "text/plain": [
       "str"
      ]
     },
     "execution_count": 3,
     "metadata": {},
     "output_type": "execute_result"
    }
   ],
   "source": [
    "type(response.text)"
   ]
  },
  {
   "cell_type": "code",
   "execution_count": 4,
   "metadata": {},
   "outputs": [],
   "source": [
    "html = response.text\n",
    "\n",
    "# Use Beutifulsoup to parse the html and sore it as a variable\n",
    "soup = BeautifulSoup(html, 'html.parser')"
   ]
  },
  {
   "cell_type": "code",
   "execution_count": 5,
   "metadata": {},
   "outputs": [
    {
     "data": {
      "text/plain": [
       "<title>\n",
       "\t\t\t\tPatient Portal\n",
       "\t\t</title>"
      ]
     },
     "execution_count": 5,
     "metadata": {},
     "output_type": "execute_result"
    }
   ],
   "source": [
    "soup.title"
   ]
  },
  {
   "cell_type": "code",
   "execution_count": 6,
   "metadata": {},
   "outputs": [
    {
     "data": {
      "text/plain": [
       "'\\n\\t\\t\\t\\tPatient Portal\\n\\t\\t'"
      ]
     },
     "execution_count": 6,
     "metadata": {},
     "output_type": "execute_result"
    }
   ],
   "source": [
    "soup.title.text"
   ]
  },
  {
   "cell_type": "code",
   "execution_count": 7,
   "metadata": {},
   "outputs": [
    {
     "data": {
      "text/plain": [
       "'Patient Portal'"
      ]
     },
     "execution_count": 7,
     "metadata": {},
     "output_type": "execute_result"
    }
   ],
   "source": [
    "soup.title.text.strip()"
   ]
  },
  {
   "cell_type": "code",
   "execution_count": 8,
   "metadata": {},
   "outputs": [
    {
     "data": {
      "text/plain": [
       "[<h1 class=\"fe_c_heading fe_c_heading--section supported_browser_centered_block\" id=\"fe-lightbox-labeledby-gen-1\">Please update your browser</h1>,\n",
       " <h1>Welcome to the Dr. Richard Handelsman \n",
       " \t\t\tPatient Information Center</h1>,\n",
       " <h1 align=\"center\">\n",
       " Dr. Richard Handelsman</h1>]"
      ]
     },
     "execution_count": 8,
     "metadata": {},
     "output_type": "execute_result"
    }
   ],
   "source": [
    "soup.find_all('h1')"
   ]
  },
  {
   "cell_type": "code",
   "execution_count": 9,
   "metadata": {},
   "outputs": [
    {
     "data": {
      "text/plain": [
       "3"
      ]
     },
     "execution_count": 9,
     "metadata": {},
     "output_type": "execute_result"
    }
   ],
   "source": [
    "len(soup.find_all('h1'))"
   ]
  },
  {
   "cell_type": "code",
   "execution_count": 10,
   "metadata": {},
   "outputs": [
    {
     "data": {
      "text/plain": [
       "<h1 class=\"fe_c_heading fe_c_heading--section supported_browser_centered_block\" id=\"fe-lightbox-labeledby-gen-1\">Please update your browser</h1>"
      ]
     },
     "execution_count": 10,
     "metadata": {},
     "output_type": "execute_result"
    }
   ],
   "source": [
    "soup.find_all('h1')[0]"
   ]
  },
  {
   "cell_type": "code",
   "execution_count": 11,
   "metadata": {},
   "outputs": [
    {
     "data": {
      "text/plain": [
       "<h1>Welcome to the Dr. Richard Handelsman \n",
       "\t\t\tPatient Information Center</h1>"
      ]
     },
     "execution_count": 11,
     "metadata": {},
     "output_type": "execute_result"
    }
   ],
   "source": [
    "soup.find_all('h1')[1]"
   ]
  },
  {
   "cell_type": "code",
   "execution_count": 12,
   "metadata": {},
   "outputs": [
    {
     "data": {
      "text/plain": [
       "<h1 align=\"center\">\n",
       "Dr. Richard Handelsman</h1>"
      ]
     },
     "execution_count": 12,
     "metadata": {},
     "output_type": "execute_result"
    }
   ],
   "source": [
    "soup.find_all('h1')[-1]"
   ]
  },
  {
   "cell_type": "code",
   "execution_count": 13,
   "metadata": {},
   "outputs": [
    {
     "data": {
      "text/plain": [
       "bs4.element.Tag"
      ]
     },
     "execution_count": 13,
     "metadata": {},
     "output_type": "execute_result"
    }
   ],
   "source": [
    "type(soup.find_all('h1')[-1])"
   ]
  },
  {
   "cell_type": "code",
   "execution_count": 14,
   "metadata": {},
   "outputs": [
    {
     "data": {
      "text/plain": [
       "'\\nDr. Richard Handelsman'"
      ]
     },
     "execution_count": 14,
     "metadata": {},
     "output_type": "execute_result"
    }
   ],
   "source": [
    "soup.find_all('h1')[-1].text"
   ]
  },
  {
   "cell_type": "code",
   "execution_count": 15,
   "metadata": {},
   "outputs": [
    {
     "data": {
      "text/plain": [
       "'Dr. Richard Handelsman'"
      ]
     },
     "execution_count": 15,
     "metadata": {},
     "output_type": "execute_result"
    }
   ],
   "source": [
    "soup.find_all('h1')[-1].text.strip() # let's call it 'clinic_name'"
   ]
  },
  {
   "cell_type": "code",
   "execution_count": 16,
   "metadata": {},
   "outputs": [
    {
     "data": {
      "text/plain": [
       "'https://1.portal.athenahealth.com/'"
      ]
     },
     "execution_count": 16,
     "metadata": {},
     "output_type": "execute_result"
    }
   ],
   "source": [
    "clinic_id =1\n",
    "\n",
    "f'https://{clinic_id}.portal.athenahealth.com/'"
   ]
  },
  {
   "cell_type": "code",
   "execution_count": 17,
   "metadata": {},
   "outputs": [],
   "source": [
    "def get_clinic_name(clinic_id):\n",
    "\n",
    "    url         = f'https://{clinic_id}.portal.athenahealth.com/'\n",
    "    response    = requests.get(url)\n",
    "    html        = response.text\n",
    "    soup        = BeautifulSoup(html, 'html.parser')\n",
    "    clinic_name = soup.find_all('h1')[-1].text.strip()\n",
    "    \n",
    "    return clinic_name"
   ]
  },
  {
   "cell_type": "code",
   "execution_count": 18,
   "metadata": {},
   "outputs": [
    {
     "data": {
      "text/plain": [
       "\"Women's CenterforIntegrative Health\""
      ]
     },
     "execution_count": 18,
     "metadata": {},
     "output_type": "execute_result"
    }
   ],
   "source": [
    "get_clinic_name(12696)"
   ]
  },
  {
   "cell_type": "code",
   "execution_count": 19,
   "metadata": {},
   "outputs": [
    {
     "name": "stdout",
     "output_type": "stream",
     "text": [
      "12690\n",
      "12691\n",
      "12692\n",
      "12693\n",
      "12694\n",
      "12695\n",
      "12696\n",
      "12697\n",
      "12698\n",
      "12699\n",
      "12700\n",
      "12701\n",
      "12702\n",
      "12703\n",
      "12704\n",
      "12705\n",
      "12706\n",
      "12707\n",
      "12708\n",
      "12709\n",
      "12710\n"
     ]
    }
   ],
   "source": [
    "start = 12690\n",
    "end   = 12710\n",
    "\n",
    "for clinic_id in range(start,end+1):\n",
    "    print(clinic_id)"
   ]
  },
  {
   "cell_type": "code",
   "execution_count": 20,
   "metadata": {},
   "outputs": [
    {
     "name": "stdout",
     "output_type": "stream",
     "text": [
      "12690\n",
      "12691\n",
      "12692\n",
      "12693\n",
      "12694\n",
      "12695\n",
      "12696\n",
      "12697\n",
      "12698\n",
      "12699\n",
      "12700\n",
      "12701\n",
      "12702\n",
      "12703\n",
      "12704\n",
      "12705\n",
      "12706\n",
      "12707\n",
      "12708\n",
      "12709\n",
      "12710\n"
     ]
    }
   ],
   "source": [
    "start = 12690\n",
    "end   = 12710\n",
    "\n",
    "master_list = []\n",
    "\n",
    "for clinic_id in range(start,end+1):\n",
    "    data_dict = {}\n",
    "    data_dict['clinic_id'] = clinic_id\n",
    "    data_dict['clinic_name'] = get_clinic_name(clinic_id)\n",
    "    master_list.append(data_dict)\n",
    "    print(clinic_id)"
   ]
  },
  {
   "cell_type": "code",
   "execution_count": 21,
   "metadata": {},
   "outputs": [
    {
     "data": {
      "text/plain": [
       "[{'clinic_id': 12690, 'clinic_name': 'Payment Confirmation'},\n",
       " {'clinic_id': 12691, 'clinic_name': 'Ergomedica'},\n",
       " {'clinic_id': 12692,\n",
       "  'clinic_name': \"Sorry, we can't find that practice. Make sure you typed the right address.\"},\n",
       " {'clinic_id': 12693, 'clinic_name': 'Altamonte Family Practice'},\n",
       " {'clinic_id': 12694, 'clinic_name': 'Open Health Care Clinic'},\n",
       " {'clinic_id': 12695, 'clinic_name': 'Dr. Richard Handelsman'},\n",
       " {'clinic_id': 12696, 'clinic_name': \"Women's CenterforIntegrative Health\"},\n",
       " {'clinic_id': 12697, 'clinic_name': 'Eastern Urological Associates'},\n",
       " {'clinic_id': 12698,\n",
       "  'clinic_name': \"Sorry, we can't find that practice. Make sure you typed the right address.\"},\n",
       " {'clinic_id': 12699, 'clinic_name': 'Payment Confirmation'},\n",
       " {'clinic_id': 12700, 'clinic_name': 'Payment Confirmation'},\n",
       " {'clinic_id': 12701, 'clinic_name': 'Payment Confirmation'},\n",
       " {'clinic_id': 12702, 'clinic_name': 'Chand Rohatgi MD'},\n",
       " {'clinic_id': 12703, 'clinic_name': ''},\n",
       " {'clinic_id': 12704, 'clinic_name': 'Volunteer Healthcare Clinic'},\n",
       " {'clinic_id': 12705, 'clinic_name': 'Christ Clinic'},\n",
       " {'clinic_id': 12706, 'clinic_name': 'Olga Joukovski, MD, PA'},\n",
       " {'clinic_id': 12707, 'clinic_name': 'Restore Health Clinic'},\n",
       " {'clinic_id': 12708,\n",
       "  'clinic_name': 'STUART L. SILVERMAN, M.D., A MEDICAL CORPORATION'},\n",
       " {'clinic_id': 12709, 'clinic_name': 'George E. Weems Clinics'},\n",
       " {'clinic_id': 12710,\n",
       "  'clinic_name': \"Sorry, we can't find that practice. Make sure you typed the right address.\"}]"
      ]
     },
     "execution_count": 21,
     "metadata": {},
     "output_type": "execute_result"
    }
   ],
   "source": [
    "master_list"
   ]
  },
  {
   "cell_type": "code",
   "execution_count": 22,
   "metadata": {},
   "outputs": [],
   "source": [
    "import pandas as pd"
   ]
  },
  {
   "cell_type": "code",
   "execution_count": 23,
   "metadata": {},
   "outputs": [
    {
     "data": {
      "text/html": [
       "<div>\n",
       "<style scoped>\n",
       "    .dataframe tbody tr th:only-of-type {\n",
       "        vertical-align: middle;\n",
       "    }\n",
       "\n",
       "    .dataframe tbody tr th {\n",
       "        vertical-align: top;\n",
       "    }\n",
       "\n",
       "    .dataframe thead th {\n",
       "        text-align: right;\n",
       "    }\n",
       "</style>\n",
       "<table border=\"1\" class=\"dataframe\">\n",
       "  <thead>\n",
       "    <tr style=\"text-align: right;\">\n",
       "      <th></th>\n",
       "      <th>clinic_id</th>\n",
       "      <th>clinic_name</th>\n",
       "    </tr>\n",
       "  </thead>\n",
       "  <tbody>\n",
       "    <tr>\n",
       "      <th>0</th>\n",
       "      <td>12690</td>\n",
       "      <td>Payment Confirmation</td>\n",
       "    </tr>\n",
       "    <tr>\n",
       "      <th>1</th>\n",
       "      <td>12691</td>\n",
       "      <td>Ergomedica</td>\n",
       "    </tr>\n",
       "    <tr>\n",
       "      <th>2</th>\n",
       "      <td>12692</td>\n",
       "      <td>Sorry, we can't find that practice. Make sure ...</td>\n",
       "    </tr>\n",
       "    <tr>\n",
       "      <th>3</th>\n",
       "      <td>12693</td>\n",
       "      <td>Altamonte Family Practice</td>\n",
       "    </tr>\n",
       "    <tr>\n",
       "      <th>4</th>\n",
       "      <td>12694</td>\n",
       "      <td>Open Health Care Clinic</td>\n",
       "    </tr>\n",
       "    <tr>\n",
       "      <th>5</th>\n",
       "      <td>12695</td>\n",
       "      <td>Dr. Richard Handelsman</td>\n",
       "    </tr>\n",
       "    <tr>\n",
       "      <th>6</th>\n",
       "      <td>12696</td>\n",
       "      <td>Women's CenterforIntegrative Health</td>\n",
       "    </tr>\n",
       "    <tr>\n",
       "      <th>7</th>\n",
       "      <td>12697</td>\n",
       "      <td>Eastern Urological Associates</td>\n",
       "    </tr>\n",
       "    <tr>\n",
       "      <th>8</th>\n",
       "      <td>12698</td>\n",
       "      <td>Sorry, we can't find that practice. Make sure ...</td>\n",
       "    </tr>\n",
       "    <tr>\n",
       "      <th>9</th>\n",
       "      <td>12699</td>\n",
       "      <td>Payment Confirmation</td>\n",
       "    </tr>\n",
       "    <tr>\n",
       "      <th>10</th>\n",
       "      <td>12700</td>\n",
       "      <td>Payment Confirmation</td>\n",
       "    </tr>\n",
       "    <tr>\n",
       "      <th>11</th>\n",
       "      <td>12701</td>\n",
       "      <td>Payment Confirmation</td>\n",
       "    </tr>\n",
       "    <tr>\n",
       "      <th>12</th>\n",
       "      <td>12702</td>\n",
       "      <td>Chand Rohatgi MD</td>\n",
       "    </tr>\n",
       "    <tr>\n",
       "      <th>13</th>\n",
       "      <td>12703</td>\n",
       "      <td></td>\n",
       "    </tr>\n",
       "    <tr>\n",
       "      <th>14</th>\n",
       "      <td>12704</td>\n",
       "      <td>Volunteer Healthcare Clinic</td>\n",
       "    </tr>\n",
       "    <tr>\n",
       "      <th>15</th>\n",
       "      <td>12705</td>\n",
       "      <td>Christ Clinic</td>\n",
       "    </tr>\n",
       "    <tr>\n",
       "      <th>16</th>\n",
       "      <td>12706</td>\n",
       "      <td>Olga Joukovski, MD, PA</td>\n",
       "    </tr>\n",
       "    <tr>\n",
       "      <th>17</th>\n",
       "      <td>12707</td>\n",
       "      <td>Restore Health Clinic</td>\n",
       "    </tr>\n",
       "    <tr>\n",
       "      <th>18</th>\n",
       "      <td>12708</td>\n",
       "      <td>STUART L. SILVERMAN, M.D., A MEDICAL CORPORATION</td>\n",
       "    </tr>\n",
       "    <tr>\n",
       "      <th>19</th>\n",
       "      <td>12709</td>\n",
       "      <td>George E. Weems Clinics</td>\n",
       "    </tr>\n",
       "    <tr>\n",
       "      <th>20</th>\n",
       "      <td>12710</td>\n",
       "      <td>Sorry, we can't find that practice. Make sure ...</td>\n",
       "    </tr>\n",
       "  </tbody>\n",
       "</table>\n",
       "</div>"
      ],
      "text/plain": [
       "    clinic_id                                        clinic_name\n",
       "0       12690                               Payment Confirmation\n",
       "1       12691                                         Ergomedica\n",
       "2       12692  Sorry, we can't find that practice. Make sure ...\n",
       "3       12693                          Altamonte Family Practice\n",
       "4       12694                            Open Health Care Clinic\n",
       "5       12695                             Dr. Richard Handelsman\n",
       "6       12696                Women's CenterforIntegrative Health\n",
       "7       12697                      Eastern Urological Associates\n",
       "8       12698  Sorry, we can't find that practice. Make sure ...\n",
       "9       12699                               Payment Confirmation\n",
       "10      12700                               Payment Confirmation\n",
       "11      12701                               Payment Confirmation\n",
       "12      12702                                   Chand Rohatgi MD\n",
       "13      12703                                                   \n",
       "14      12704                        Volunteer Healthcare Clinic\n",
       "15      12705                                      Christ Clinic\n",
       "16      12706                             Olga Joukovski, MD, PA\n",
       "17      12707                              Restore Health Clinic\n",
       "18      12708   STUART L. SILVERMAN, M.D., A MEDICAL CORPORATION\n",
       "19      12709                            George E. Weems Clinics\n",
       "20      12710  Sorry, we can't find that practice. Make sure ..."
      ]
     },
     "execution_count": 23,
     "metadata": {},
     "output_type": "execute_result"
    }
   ],
   "source": [
    "df = pd.DataFrame(master_list)\n",
    "\n",
    "df"
   ]
  },
  {
   "cell_type": "code",
   "execution_count": 24,
   "metadata": {},
   "outputs": [
    {
     "name": "stdout",
     "output_type": "stream",
     "text": [
      "12691\n",
      "12693\n",
      "12694\n",
      "12695\n",
      "12696\n",
      "12697\n",
      "12702\n",
      "12704\n",
      "12705\n",
      "12706\n",
      "12707\n",
      "12708\n",
      "12709\n"
     ]
    }
   ],
   "source": [
    "start = 12690\n",
    "end   = 12710\n",
    "\n",
    "master_list = []\n",
    "\n",
    "for clinic_id in range(start,end+1):\n",
    "    data_dict = {}\n",
    "    data_dict['clinic_id'] = clinic_id\n",
    "    data_dict['clinic_name'] = get_clinic_name(clinic_id)\n",
    "    if data_dict['clinic_name'] != 'Payment Confirmation' and data_dict['clinic_name'] != \"Sorry, we can't find that practice. Make sure you typed the right address.\" and data_dict['clinic_name'] != \"\":\n",
    "        master_list.append(data_dict)\n",
    "        print(clinic_id)"
   ]
  },
  {
   "cell_type": "code",
   "execution_count": 25,
   "metadata": {},
   "outputs": [
    {
     "data": {
      "text/html": [
       "<div>\n",
       "<style scoped>\n",
       "    .dataframe tbody tr th:only-of-type {\n",
       "        vertical-align: middle;\n",
       "    }\n",
       "\n",
       "    .dataframe tbody tr th {\n",
       "        vertical-align: top;\n",
       "    }\n",
       "\n",
       "    .dataframe thead th {\n",
       "        text-align: right;\n",
       "    }\n",
       "</style>\n",
       "<table border=\"1\" class=\"dataframe\">\n",
       "  <thead>\n",
       "    <tr style=\"text-align: right;\">\n",
       "      <th></th>\n",
       "      <th>clinic_id</th>\n",
       "      <th>clinic_name</th>\n",
       "    </tr>\n",
       "  </thead>\n",
       "  <tbody>\n",
       "    <tr>\n",
       "      <th>0</th>\n",
       "      <td>12691</td>\n",
       "      <td>Ergomedica</td>\n",
       "    </tr>\n",
       "    <tr>\n",
       "      <th>1</th>\n",
       "      <td>12693</td>\n",
       "      <td>Altamonte Family Practice</td>\n",
       "    </tr>\n",
       "    <tr>\n",
       "      <th>2</th>\n",
       "      <td>12694</td>\n",
       "      <td>Open Health Care Clinic</td>\n",
       "    </tr>\n",
       "    <tr>\n",
       "      <th>3</th>\n",
       "      <td>12695</td>\n",
       "      <td>Dr. Richard Handelsman</td>\n",
       "    </tr>\n",
       "    <tr>\n",
       "      <th>4</th>\n",
       "      <td>12696</td>\n",
       "      <td>Women's CenterforIntegrative Health</td>\n",
       "    </tr>\n",
       "    <tr>\n",
       "      <th>5</th>\n",
       "      <td>12697</td>\n",
       "      <td>Eastern Urological Associates</td>\n",
       "    </tr>\n",
       "    <tr>\n",
       "      <th>6</th>\n",
       "      <td>12702</td>\n",
       "      <td>Chand Rohatgi MD</td>\n",
       "    </tr>\n",
       "    <tr>\n",
       "      <th>7</th>\n",
       "      <td>12704</td>\n",
       "      <td>Volunteer Healthcare Clinic</td>\n",
       "    </tr>\n",
       "    <tr>\n",
       "      <th>8</th>\n",
       "      <td>12705</td>\n",
       "      <td>Christ Clinic</td>\n",
       "    </tr>\n",
       "    <tr>\n",
       "      <th>9</th>\n",
       "      <td>12706</td>\n",
       "      <td>Olga Joukovski, MD, PA</td>\n",
       "    </tr>\n",
       "    <tr>\n",
       "      <th>10</th>\n",
       "      <td>12707</td>\n",
       "      <td>Restore Health Clinic</td>\n",
       "    </tr>\n",
       "    <tr>\n",
       "      <th>11</th>\n",
       "      <td>12708</td>\n",
       "      <td>STUART L. SILVERMAN, M.D., A MEDICAL CORPORATION</td>\n",
       "    </tr>\n",
       "    <tr>\n",
       "      <th>12</th>\n",
       "      <td>12709</td>\n",
       "      <td>George E. Weems Clinics</td>\n",
       "    </tr>\n",
       "  </tbody>\n",
       "</table>\n",
       "</div>"
      ],
      "text/plain": [
       "    clinic_id                                       clinic_name\n",
       "0       12691                                        Ergomedica\n",
       "1       12693                         Altamonte Family Practice\n",
       "2       12694                           Open Health Care Clinic\n",
       "3       12695                            Dr. Richard Handelsman\n",
       "4       12696               Women's CenterforIntegrative Health\n",
       "5       12697                     Eastern Urological Associates\n",
       "6       12702                                  Chand Rohatgi MD\n",
       "7       12704                       Volunteer Healthcare Clinic\n",
       "8       12705                                     Christ Clinic\n",
       "9       12706                            Olga Joukovski, MD, PA\n",
       "10      12707                             Restore Health Clinic\n",
       "11      12708  STUART L. SILVERMAN, M.D., A MEDICAL CORPORATION\n",
       "12      12709                           George E. Weems Clinics"
      ]
     },
     "execution_count": 25,
     "metadata": {},
     "output_type": "execute_result"
    }
   ],
   "source": [
    "df = pd.DataFrame(master_list)\n",
    "df"
   ]
  },
  {
   "cell_type": "code",
   "execution_count": 26,
   "metadata": {},
   "outputs": [
    {
     "name": "stdout",
     "output_type": "stream",
     "text": [
      "12691\n",
      "12693\n",
      "12694\n",
      "12695\n",
      "12696\n",
      "12697\n",
      "12702\n",
      "12704\n",
      "12705\n",
      "12706\n",
      "12707\n",
      "12708\n",
      "12709\n"
     ]
    }
   ],
   "source": [
    "extensionsToCheck = ['Payment Confirmation', \"Sorry, we can't find that practice. Make sure you typed the right address.\"]\n",
    "\n",
    "start = 12690\n",
    "end   = 12710\n",
    "\n",
    "master_list = []\n",
    "\n",
    "for clinic_id in range(start,end+1):\n",
    "    data_dict = {}\n",
    "    data_dict['clinic_id'] = clinic_id\n",
    "    data_dict['clinic_name'] = get_clinic_name(clinic_id)\n",
    "    if data_dict['clinic_name'] != 'Payment Confirmation' and data_dict['clinic_name'] != \"Sorry, we can't find that practice. Make sure you typed the right address.\" and data_dict['clinic_name'] != \"\":\n",
    "        master_list.append(data_dict)\n",
    "        print(clinic_id)"
   ]
  },
  {
   "cell_type": "code",
   "execution_count": 27,
   "metadata": {},
   "outputs": [],
   "source": [
    "# Save table as csv\n",
    "\n",
    "df.to_csv(\"data/Clinic_data.csv\", index = False)"
   ]
  }
 ],
 "metadata": {
  "kernelspec": {
   "display_name": "Python 3",
   "language": "python",
   "name": "python3"
  },
  "language_info": {
   "codemirror_mode": {
    "name": "ipython",
    "version": 3
   },
   "file_extension": ".py",
   "mimetype": "text/x-python",
   "name": "python",
   "nbconvert_exporter": "python",
   "pygments_lexer": "ipython3",
   "version": "3.8.5"
  }
 },
 "nbformat": 4,
 "nbformat_minor": 4
}
