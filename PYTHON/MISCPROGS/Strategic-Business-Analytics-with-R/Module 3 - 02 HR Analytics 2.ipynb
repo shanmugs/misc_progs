{
 "cells": [
  {
   "cell_type": "markdown",
   "metadata": {},
   "source": [
    "# Human Ressources Analytics 2"
   ]
  },
  {
   "cell_type": "markdown",
   "metadata": {},
   "source": [
    "The objective is to understand who are the employees who stay in the company and those who leave the company. The dataset contains more employees and an outcome variable ('left') which tells if the employee actually left or not."
   ]
  },
  {
   "cell_type": "markdown",
   "metadata": {},
   "source": [
    "**Loading csv files**"
   ]
  },
  {
   "cell_type": "code",
   "execution_count": 1,
   "metadata": {},
   "outputs": [
    {
     "data": {
      "text/html": [
       "<table>\n",
       "<caption>A data.frame: 6 × 7</caption>\n",
       "<thead>\n",
       "\t<tr><th></th><th scope=col>S</th><th scope=col>LPE</th><th scope=col>NP</th><th scope=col>ANH</th><th scope=col>TIC</th><th scope=col>Newborn</th><th scope=col>left</th></tr>\n",
       "\t<tr><th></th><th scope=col>&lt;dbl&gt;</th><th scope=col>&lt;dbl&gt;</th><th scope=col>&lt;int&gt;</th><th scope=col>&lt;int&gt;</th><th scope=col>&lt;int&gt;</th><th scope=col>&lt;int&gt;</th><th scope=col>&lt;int&gt;</th></tr>\n",
       "</thead>\n",
       "<tbody>\n",
       "\t<tr><th scope=row>1</th><td>0.38</td><td>0.53</td><td>2</td><td>157</td><td>3</td><td>0</td><td>1</td></tr>\n",
       "\t<tr><th scope=row>2</th><td>0.80</td><td>0.86</td><td>5</td><td>262</td><td>6</td><td>0</td><td>1</td></tr>\n",
       "\t<tr><th scope=row>3</th><td>0.11</td><td>0.88</td><td>7</td><td>272</td><td>4</td><td>0</td><td>1</td></tr>\n",
       "\t<tr><th scope=row>4</th><td>0.72</td><td>0.87</td><td>5</td><td>223</td><td>5</td><td>0</td><td>1</td></tr>\n",
       "\t<tr><th scope=row>5</th><td>0.37</td><td>0.52</td><td>2</td><td>159</td><td>3</td><td>0</td><td>1</td></tr>\n",
       "\t<tr><th scope=row>6</th><td>0.41</td><td>0.50</td><td>2</td><td>153</td><td>3</td><td>0</td><td>1</td></tr>\n",
       "</tbody>\n",
       "</table>\n"
      ],
      "text/latex": [
       "A data.frame: 6 × 7\n",
       "\\begin{tabular}{r|lllllll}\n",
       "  & S & LPE & NP & ANH & TIC & Newborn & left\\\\\n",
       "  & <dbl> & <dbl> & <int> & <int> & <int> & <int> & <int>\\\\\n",
       "\\hline\n",
       "\t1 & 0.38 & 0.53 & 2 & 157 & 3 & 0 & 1\\\\\n",
       "\t2 & 0.80 & 0.86 & 5 & 262 & 6 & 0 & 1\\\\\n",
       "\t3 & 0.11 & 0.88 & 7 & 272 & 4 & 0 & 1\\\\\n",
       "\t4 & 0.72 & 0.87 & 5 & 223 & 5 & 0 & 1\\\\\n",
       "\t5 & 0.37 & 0.52 & 2 & 159 & 3 & 0 & 1\\\\\n",
       "\t6 & 0.41 & 0.50 & 2 & 153 & 3 & 0 & 1\\\\\n",
       "\\end{tabular}\n"
      ],
      "text/markdown": [
       "\n",
       "A data.frame: 6 × 7\n",
       "\n",
       "| <!--/--> | S &lt;dbl&gt; | LPE &lt;dbl&gt; | NP &lt;int&gt; | ANH &lt;int&gt; | TIC &lt;int&gt; | Newborn &lt;int&gt; | left &lt;int&gt; |\n",
       "|---|---|---|---|---|---|---|---|\n",
       "| 1 | 0.38 | 0.53 | 2 | 157 | 3 | 0 | 1 |\n",
       "| 2 | 0.80 | 0.86 | 5 | 262 | 6 | 0 | 1 |\n",
       "| 3 | 0.11 | 0.88 | 7 | 272 | 4 | 0 | 1 |\n",
       "| 4 | 0.72 | 0.87 | 5 | 223 | 5 | 0 | 1 |\n",
       "| 5 | 0.37 | 0.52 | 2 | 159 | 3 | 0 | 1 |\n",
       "| 6 | 0.41 | 0.50 | 2 | 153 | 3 | 0 | 1 |\n",
       "\n"
      ],
      "text/plain": [
       "  S    LPE  NP ANH TIC Newborn left\n",
       "1 0.38 0.53 2  157 3   0       1   \n",
       "2 0.80 0.86 5  262 6   0       1   \n",
       "3 0.11 0.88 7  272 4   0       1   \n",
       "4 0.72 0.87 5  223 5   0       1   \n",
       "5 0.37 0.52 2  159 3   0       1   \n",
       "6 0.41 0.50 2  153 3   0       1   "
      ]
     },
     "metadata": {},
     "output_type": "display_data"
    }
   ],
   "source": [
    "HR2 <- read.csv(\"data/DATA_3.02_HR2.csv\")\n",
    "head(HR2)"
   ]
  },
  {
   "cell_type": "markdown",
   "metadata": {},
   "source": [
    "**Exploring the Data**"
   ]
  },
  {
   "cell_type": "code",
   "execution_count": 2,
   "metadata": {},
   "outputs": [
    {
     "name": "stdout",
     "output_type": "stream",
     "text": [
      "'data.frame':\t12000 obs. of  7 variables:\n",
      " $ S      : num  0.38 0.8 0.11 0.72 0.37 0.41 0.1 0.92 0.89 0.42 ...\n",
      " $ LPE    : num  0.53 0.86 0.88 0.87 0.52 0.5 0.77 0.85 1 0.53 ...\n",
      " $ NP     : int  2 5 7 5 2 2 6 5 5 2 ...\n",
      " $ ANH    : int  157 262 272 223 159 153 247 259 224 142 ...\n",
      " $ TIC    : int  3 6 4 5 3 3 4 5 5 3 ...\n",
      " $ Newborn: int  0 0 0 0 0 0 0 0 0 0 ...\n",
      " $ left   : int  1 1 1 1 1 1 1 1 1 1 ...\n"
     ]
    }
   ],
   "source": [
    "str(HR2)"
   ]
  },
  {
   "cell_type": "code",
   "execution_count": 3,
   "metadata": {},
   "outputs": [
    {
     "data": {
      "text/plain": [
       "       S               LPE               NP             ANH       \n",
       " Min.   :0.0900   Min.   :0.3600   Min.   :2.000   Min.   : 96.0  \n",
       " 1st Qu.:0.4800   1st Qu.:0.5700   1st Qu.:3.000   1st Qu.:157.0  \n",
       " Median :0.6600   Median :0.7200   Median :4.000   Median :199.5  \n",
       " Mean   :0.6295   Mean   :0.7166   Mean   :3.802   Mean   :200.4  \n",
       " 3rd Qu.:0.8200   3rd Qu.:0.8600   3rd Qu.:5.000   3rd Qu.:243.0  \n",
       " Max.   :1.0000   Max.   :1.0000   Max.   :7.000   Max.   :310.0  \n",
       "      TIC           Newborn            left       \n",
       " Min.   :2.000   Min.   :0.0000   Min.   :0.0000  \n",
       " 1st Qu.:2.000   1st Qu.:0.0000   1st Qu.:0.0000  \n",
       " Median :3.000   Median :0.0000   Median :0.0000  \n",
       " Mean   :3.229   Mean   :0.1542   Mean   :0.1667  \n",
       " 3rd Qu.:4.000   3rd Qu.:0.0000   3rd Qu.:0.0000  \n",
       " Max.   :6.000   Max.   :1.0000   Max.   :1.0000  "
      ]
     },
     "metadata": {},
     "output_type": "display_data"
    }
   ],
   "source": [
    "summary(HR2)"
   ]
  },
  {
   "cell_type": "markdown",
   "metadata": {},
   "source": [
    "We can see that almost 17% of the employees left the company. Employees have been in the company for 3.2 years on average."
   ]
  },
  {
   "cell_type": "markdown",
   "metadata": {},
   "source": [
    "* Frequencies for the left variable:"
   ]
  },
  {
   "cell_type": "code",
   "execution_count": 4,
   "metadata": {},
   "outputs": [
    {
     "data": {
      "text/plain": [
       "\n",
       "    0     1 \n",
       "10000  2000 "
      ]
     },
     "metadata": {},
     "output_type": "display_data"
    }
   ],
   "source": [
    "table(HR2$left) "
   ]
  },
  {
   "cell_type": "markdown",
   "metadata": {},
   "source": [
    "2000 employees left the company."
   ]
  },
  {
   "cell_type": "markdown",
   "metadata": {},
   "source": [
    "* Percentages for the left variable:"
   ]
  },
  {
   "cell_type": "code",
   "execution_count": 5,
   "metadata": {},
   "outputs": [
    {
     "data": {
      "text/plain": [
       "\n",
       "        0         1 \n",
       "0.8333333 0.1666667 "
      ]
     },
     "metadata": {},
     "output_type": "display_data"
    }
   ],
   "source": [
    "table(HR2$left)/nrow(HR2)"
   ]
  },
  {
   "cell_type": "markdown",
   "metadata": {},
   "source": [
    "17% of the employees left the company."
   ]
  },
  {
   "cell_type": "markdown",
   "metadata": {},
   "source": [
    "**Histogram**"
   ]
  },
  {
   "cell_type": "code",
   "execution_count": 6,
   "metadata": {},
   "outputs": [
    {
     "data": {
      "image/png": "[encoded data removed]",
      "text/plain": [
       "Plot with title \"Employees that left the company\""
      ]
     },
     "metadata": {
      "image/png": {
       "height": 420,
       "width": 420
      },
      "text/plain": {
       "height": 420,
       "width": 420
      }
     },
     "output_type": "display_data"
    }
   ],
   "source": [
    "hist(HR2$left, main = \"Employees that left the company\")"
   ]
  },
  {
   "cell_type": "markdown",
   "metadata": {},
   "source": [
    "**Pearson correlation coefficient of all variables**"
   ]
  },
  {
   "cell_type": "code",
   "execution_count": 7,
   "metadata": {},
   "outputs": [
    {
     "data": {
      "text/html": [
       "<table>\n",
       "<caption>A matrix: 7 × 7 of type dbl</caption>\n",
       "<thead>\n",
       "\t<tr><th></th><th scope=col>S</th><th scope=col>LPE</th><th scope=col>NP</th><th scope=col>ANH</th><th scope=col>TIC</th><th scope=col>Newborn</th><th scope=col>left</th></tr>\n",
       "</thead>\n",
       "<tbody>\n",
       "\t<tr><th scope=row>S</th><td> 1.000000000</td><td> 0.095705002</td><td>-0.13243230</td><td>-0.005705901</td><td>-0.21527671</td><td> 0.040262545</td><td>-0.35153202</td></tr>\n",
       "\t<tr><th scope=row>LPE</th><td> 0.095705002</td><td> 1.000000000</td><td> 0.27122611</td><td> 0.265484215</td><td> 0.12270940</td><td>-0.005377101</td><td> 0.01183813</td></tr>\n",
       "\t<tr><th scope=row>NP</th><td>-0.132432303</td><td> 0.271226107</td><td> 1.00000000</td><td> 0.332509781</td><td> 0.24913205</td><td>-0.005232970</td><td> 0.02888289</td></tr>\n",
       "\t<tr><th scope=row>ANH</th><td>-0.005705901</td><td> 0.265484215</td><td> 0.33250978</td><td> 1.000000000</td><td> 0.13487384</td><td>-0.012538743</td><td> 0.06859937</td></tr>\n",
       "\t<tr><th scope=row>TIC</th><td>-0.215276710</td><td> 0.122709405</td><td> 0.24913205</td><td> 0.134873841</td><td> 1.00000000</td><td>-0.020568143</td><td> 0.27475630</td></tr>\n",
       "\t<tr><th scope=row>Newborn</th><td> 0.040262545</td><td>-0.005377101</td><td>-0.00523297</td><td>-0.012538743</td><td>-0.02056814</td><td> 1.000000000</td><td>-0.12590876</td></tr>\n",
       "\t<tr><th scope=row>left</th><td>-0.351532025</td><td> 0.011838132</td><td> 0.02888289</td><td> 0.068599368</td><td> 0.27475630</td><td>-0.125908759</td><td> 1.00000000</td></tr>\n",
       "</tbody>\n",
       "</table>\n"
      ],
      "text/latex": [
       "A matrix: 7 × 7 of type dbl\n",
       "\\begin{tabular}{r|lllllll}\n",
       "  & S & LPE & NP & ANH & TIC & Newborn & left\\\\\n",
       "\\hline\n",
       "\tS &  1.000000000 &  0.095705002 & -0.13243230 & -0.005705901 & -0.21527671 &  0.040262545 & -0.35153202\\\\\n",
       "\tLPE &  0.095705002 &  1.000000000 &  0.27122611 &  0.265484215 &  0.12270940 & -0.005377101 &  0.01183813\\\\\n",
       "\tNP & -0.132432303 &  0.271226107 &  1.00000000 &  0.332509781 &  0.24913205 & -0.005232970 &  0.02888289\\\\\n",
       "\tANH & -0.005705901 &  0.265484215 &  0.33250978 &  1.000000000 &  0.13487384 & -0.012538743 &  0.06859937\\\\\n",
       "\tTIC & -0.215276710 &  0.122709405 &  0.24913205 &  0.134873841 &  1.00000000 & -0.020568143 &  0.27475630\\\\\n",
       "\tNewborn &  0.040262545 & -0.005377101 & -0.00523297 & -0.012538743 & -0.02056814 &  1.000000000 & -0.12590876\\\\\n",
       "\tleft & -0.351532025 &  0.011838132 &  0.02888289 &  0.068599368 &  0.27475630 & -0.125908759 &  1.00000000\\\\\n",
       "\\end{tabular}\n"
      ],
      "text/markdown": [
       "\n",
       "A matrix: 7 × 7 of type dbl\n",
       "\n",
       "| <!--/--> | S | LPE | NP | ANH | TIC | Newborn | left |\n",
       "|---|---|---|---|---|---|---|---|\n",
       "| S |  1.000000000 |  0.095705002 | -0.13243230 | -0.005705901 | -0.21527671 |  0.040262545 | -0.35153202 |\n",
       "| LPE |  0.095705002 |  1.000000000 |  0.27122611 |  0.265484215 |  0.12270940 | -0.005377101 |  0.01183813 |\n",
       "| NP | -0.132432303 |  0.271226107 |  1.00000000 |  0.332509781 |  0.24913205 | -0.005232970 |  0.02888289 |\n",
       "| ANH | -0.005705901 |  0.265484215 |  0.33250978 |  1.000000000 |  0.13487384 | -0.012538743 |  0.06859937 |\n",
       "| TIC | -0.215276710 |  0.122709405 |  0.24913205 |  0.134873841 |  1.00000000 | -0.020568143 |  0.27475630 |\n",
       "| Newborn |  0.040262545 | -0.005377101 | -0.00523297 | -0.012538743 | -0.02056814 |  1.000000000 | -0.12590876 |\n",
       "| left | -0.351532025 |  0.011838132 |  0.02888289 |  0.068599368 |  0.27475630 | -0.125908759 |  1.00000000 |\n",
       "\n"
      ],
      "text/plain": [
       "        S            LPE          NP          ANH          TIC        \n",
       "S        1.000000000  0.095705002 -0.13243230 -0.005705901 -0.21527671\n",
       "LPE      0.095705002  1.000000000  0.27122611  0.265484215  0.12270940\n",
       "NP      -0.132432303  0.271226107  1.00000000  0.332509781  0.24913205\n",
       "ANH     -0.005705901  0.265484215  0.33250978  1.000000000  0.13487384\n",
       "TIC     -0.215276710  0.122709405  0.24913205  0.134873841  1.00000000\n",
       "Newborn  0.040262545 -0.005377101 -0.00523297 -0.012538743 -0.02056814\n",
       "left    -0.351532025  0.011838132  0.02888289  0.068599368  0.27475630\n",
       "        Newborn      left       \n",
       "S        0.040262545 -0.35153202\n",
       "LPE     -0.005377101  0.01183813\n",
       "NP      -0.005232970  0.02888289\n",
       "ANH     -0.012538743  0.06859937\n",
       "TIC     -0.020568143  0.27475630\n",
       "Newborn  1.000000000 -0.12590876\n",
       "left    -0.125908759  1.00000000"
      ]
     },
     "metadata": {},
     "output_type": "display_data"
    }
   ],
   "source": [
    "cor(HR2)"
   ]
  },
  {
   "cell_type": "markdown",
   "metadata": {},
   "source": [
    "This gives the strength and the direction of the linear relationship between 2 variables. For example, satisfation is negatively correlated with the left variable, everything else being the same.\n",
    "\n",
    "However, we are looking at the relationship between 'left' and the other variables, but separately. We want to understand how they interact wich each other. To that extent, we build a logistic regression model:"
   ]
  },
  {
   "cell_type": "code",
   "execution_count": 8,
   "metadata": {},
   "outputs": [],
   "source": [
    "logreg <- glm(left ~ ., family=binomial(logit), data=HR2) "
   ]
  },
  {
   "cell_type": "markdown",
   "metadata": {},
   "source": [
    "The fitted values are the output of the model. In the case of a logistic regression, the output is a probability (i.e., p(leaving)).\n",
    "\n",
    "Let's assess how the model is performing (on the training set) by computing the correlation between predicted attrition and actual:"
   ]
  },
  {
   "cell_type": "code",
   "execution_count": 9,
   "metadata": {},
   "outputs": [
    {
     "data": {
      "text/html": [
       "0.405201657581876"
      ],
      "text/latex": [
       "0.405201657581876"
      ],
      "text/markdown": [
       "0.405201657581876"
      ],
      "text/plain": [
       "[1] 0.4052017"
      ]
     },
     "metadata": {},
     "output_type": "display_data"
    }
   ],
   "source": [
    "cor(logreg$fitted.values,HR2$left)"
   ]
  },
  {
   "cell_type": "code",
   "execution_count": 10,
   "metadata": {},
   "outputs": [
    {
     "data": {
      "image/png": "[encoded data removed]",
      "text/plain": [
       "Plot with title \"Attrition\""
      ]
     },
     "metadata": {
      "image/png": {
       "height": 420,
       "width": 420
      },
      "text/plain": {
       "height": 420,
       "width": 420
      }
     },
     "output_type": "display_data"
    }
   ],
   "source": [
    "hist(logreg$fitted.values, main = \"Attrition\")"
   ]
  },
  {
   "cell_type": "markdown",
   "metadata": {},
   "source": [
    "The correlation is 0.41. That's a positive linear relationship.\n",
    "\n",
    "Let's define a cutoff for the probability p(leaving), above which an employee is predicted to leave, and below which an employee is predicted to stay:"
   ]
  },
  {
   "cell_type": "code",
   "execution_count": 11,
   "metadata": {},
   "outputs": [],
   "source": [
    "cutoff <- 0.50"
   ]
  },
  {
   "cell_type": "markdown",
   "metadata": {},
   "source": [
    "**confusion matrix:**"
   ]
  },
  {
   "cell_type": "code",
   "execution_count": 12,
   "metadata": {},
   "outputs": [
    {
     "data": {
      "text/plain": [
       "       \n",
       "           0    1\n",
       "  FALSE 9464 1619\n",
       "  TRUE   536  381"
      ]
     },
     "metadata": {},
     "output_type": "display_data"
    }
   ],
   "source": [
    "table(logreg$fitted.values >= cutoff, HR2$left)"
   ]
  },
  {
   "cell_type": "markdown",
   "metadata": {},
   "source": [
    "**Rows are the fitted valued and columns are the actual values.** \n",
    "\n",
    "9464 employees were predicted to stay (FALSE), and indeed stayed (0).\n",
    "\n",
    "1619 employees were predicted to stay (FALSE), but they left the company (1).\n",
    "\n",
    "536 employees were predicted to leave (TRUE), but they stayed (0).\n",
    "\n",
    "381 employees were predicted to leave (TRUE), and indeed they left (1)."
   ]
  },
  {
   "cell_type": "markdown",
   "metadata": {},
   "source": [
    "**Percentage of correctly classified employees who stayed** (i.e., the actual is 0 and the model predicted FALSE):"
   ]
  },
  {
   "cell_type": "code",
   "execution_count": 13,
   "metadata": {},
   "outputs": [
    {
     "data": {
      "text/html": [
       "0.9464"
      ],
      "text/latex": [
       "0.9464"
      ],
      "text/markdown": [
       "0.9464"
      ],
      "text/plain": [
       "[1] 0.9464"
      ]
     },
     "metadata": {},
     "output_type": "display_data"
    }
   ],
   "source": [
    "sum((logreg$fitted.values<=cutoff) & (HR2$left==0)) / sum(HR2$left==0)"
   ]
  },
  {
   "cell_type": "markdown",
   "metadata": {},
   "source": [
    "**Percentage of correctly classified employees who left** (i.e., the actual is 1 and the model predicted TRUE):"
   ]
  },
  {
   "cell_type": "code",
   "execution_count": 14,
   "metadata": {},
   "outputs": [
    {
     "data": {
      "text/html": [
       "0.1905"
      ],
      "text/latex": [
       "0.1905"
      ],
      "text/markdown": [
       "0.1905"
      ],
      "text/plain": [
       "[1] 0.1905"
      ]
     },
     "metadata": {},
     "output_type": "display_data"
    }
   ],
   "source": [
    "sum((logreg$fitted.values>cutoff) & (HR2$left==1)) / sum(HR2$left==1)"
   ]
  },
  {
   "cell_type": "markdown",
   "metadata": {},
   "source": [
    "**Overall percentage of correctly classified employees** (to the total number of employees):"
   ]
  },
  {
   "cell_type": "code",
   "execution_count": 15,
   "metadata": {},
   "outputs": [
    {
     "data": {
      "text/html": [
       "0.820416666666667"
      ],
      "text/latex": [
       "0.820416666666667"
      ],
      "text/markdown": [
       "0.820416666666667"
      ],
      "text/plain": [
       "[1] 0.8204167"
      ]
     },
     "metadata": {},
     "output_type": "display_data"
    }
   ],
   "source": [
    "mean((logreg$fitted.values>cutoff) == (HR2$left==1))"
   ]
  },
  {
   "cell_type": "markdown",
   "metadata": {},
   "source": [
    "The model's accuracy is 82%."
   ]
  },
  {
   "cell_type": "markdown",
   "metadata": {},
   "source": [
    "**Estimated % of employee likely to stay:**"
   ]
  },
  {
   "cell_type": "code",
   "execution_count": 16,
   "metadata": {},
   "outputs": [
    {
     "data": {
      "text/html": [
       "0.923583333333333"
      ],
      "text/latex": [
       "0.923583333333333"
      ],
      "text/markdown": [
       "0.923583333333333"
      ],
      "text/plain": [
       "[1] 0.9235833"
      ]
     },
     "metadata": {},
     "output_type": "display_data"
    }
   ],
   "source": [
    "sum(logreg$fitted.values <= cutoff) / length(logreg$fitted.values)"
   ]
  },
  {
   "cell_type": "markdown",
   "metadata": {},
   "source": [
    "**Estimated % of employee likely to leave:**"
   ]
  },
  {
   "cell_type": "code",
   "execution_count": 17,
   "metadata": {},
   "outputs": [
    {
     "data": {
      "text/html": [
       "0.0764166666666667"
      ],
      "text/latex": [
       "0.0764166666666667"
      ],
      "text/markdown": [
       "0.0764166666666667"
      ],
      "text/plain": [
       "[1] 0.07641667"
      ]
     },
     "metadata": {},
     "output_type": "display_data"
    }
   ],
   "source": [
    "sum(logreg$fitted.values > cutoff) / length(logreg$fitted.values)"
   ]
  },
  {
   "cell_type": "markdown",
   "metadata": {},
   "source": [
    "Note about the cutoff value:\n",
    "\n",
    "* if cutoff is high (0.7), the % of correctly classified employees who stayed is higher, whereas the % of correctly classified employees who left is lower. And the overall % of correctly classified employees decreased. Hence, we rarely predict the outcome (ie that the employee is leaving). But this allows us to identify the employees most likely to leave. And we can take preventive actions for these people.\n",
    "\n",
    "\n",
    "* if cutoff is low (0.3), the % of correctly classified employees who stayed is lower, whereas the % of correctly classified employees who left is higher. And the overall % of correctly classified employees increased. Hence, we rarely predict that the employee is staying. And we make more errors in predicting the departure of an employee (he or she actually didn't leave). But this allows us to identify employees who might leave. And we can take preventive actions for these people."
   ]
  },
  {
   "cell_type": "markdown",
   "metadata": {},
   "source": [
    "Now, let's observe the model summary to see the importance of factors:"
   ]
  },
  {
   "cell_type": "code",
   "execution_count": 18,
   "metadata": {},
   "outputs": [
    {
     "data": {
      "text/plain": [
       "\n",
       "Call:\n",
       "glm(formula = left ~ ., family = binomial(logit), data = HR2)\n",
       "\n",
       "Deviance Residuals: \n",
       "    Min       1Q   Median       3Q      Max  \n",
       "-2.1727  -0.5410  -0.3535  -0.1994   3.0949  \n",
       "\n",
       "Coefficients:\n",
       "              Estimate Std. Error z value Pr(>|z|)    \n",
       "(Intercept) -1.2412448  0.1601334  -7.751 9.09e-15 ***\n",
       "S           -3.8163201  0.1207448 -31.607  < 2e-16 ***\n",
       "LPE          0.5044011  0.1809102   2.788   0.0053 ** \n",
       "NP          -0.3591952  0.0264709 -13.569  < 2e-16 ***\n",
       "ANH          0.0037840  0.0006237   6.067 1.30e-09 ***\n",
       "TIC          0.6187913  0.0271161  22.820  < 2e-16 ***\n",
       "Newborn     -1.4851023  0.1128772 -13.157  < 2e-16 ***\n",
       "---\n",
       "Signif. codes:  0 '***' 0.001 '**' 0.01 '*' 0.05 '.' 0.1 ' ' 1\n",
       "\n",
       "(Dispersion parameter for binomial family taken to be 1)\n",
       "\n",
       "    Null deviance: 10813.5  on 11999  degrees of freedom\n",
       "Residual deviance:  8508.9  on 11993  degrees of freedom\n",
       "AIC: 8522.9\n",
       "\n",
       "Number of Fisher Scoring iterations: 6\n"
      ]
     },
     "metadata": {},
     "output_type": "display_data"
    }
   ],
   "source": [
    "summary(logreg)"
   ]
  },
  {
   "cell_type": "markdown",
   "metadata": {},
   "source": [
    "Per the p-values, all predictors are statistically significant. To rank their importance, we look at the absolute value of the Z-value. It appears here that the satisfaction level (S) is the most important driver. The effect of satisfaction is negative on attrition (estimate < 0), and positive for the business. In other words, the larger the satisfaction, the smaller the probability to leave (ie the highest the probability to stay), everything else being equal."
   ]
  },
  {
   "cell_type": "markdown",
   "metadata": {},
   "source": [
    "### Effect of one of the most important driver: the time spent in the company"
   ]
  },
  {
   "cell_type": "markdown",
   "metadata": {},
   "source": [
    "Let's use a more visual way to see the effect of one of the most important driver: TIC, the total time spent in the company"
   ]
  },
  {
   "cell_type": "code",
   "execution_count": 19,
   "metadata": {},
   "outputs": [],
   "source": [
    "library(ggplot2)"
   ]
  },
  {
   "cell_type": "code",
   "execution_count": 20,
   "metadata": {},
   "outputs": [
    {
     "data": {
      "image/png": "[encoded data removed]",
      "text/plain": [
       "plot without title"
      ]
     },
     "metadata": {
      "image/png": {
       "height": 420,
       "width": 420
      },
      "text/plain": {
       "height": 420,
       "width": 420
      }
     },
     "output_type": "display_data"
    }
   ],
   "source": [
    "ggplot(data=HR2, aes(x=TIC,y=left)) + \n",
    "  geom_point(color='orange') +\n",
    "  xlab(\"Time spent in the company\") +\n",
    "  ylab(\"Attrition rate\") "
   ]
  },
  {
   "cell_type": "markdown",
   "metadata": {},
   "source": [
    "#### An aggregated plot of the attrition"
   ]
  },
  {
   "cell_type": "markdown",
   "metadata": {},
   "source": [
    "Since the outcome variable ('left') is binary (0 or 1) with a lot of overplotting, we could plot instead the proportion of leavers, as a function of time:"
   ]
  },
  {
   "cell_type": "code",
   "execution_count": 21,
   "metadata": {},
   "outputs": [],
   "source": [
    "# computes the average attrition rate for each value of TIC. (We want to aggregate 'left' as a function of TIC)\n",
    "aggbTimeRank <- aggregate(left ~ TIC, data=HR2, FUN=mean) "
   ]
  },
  {
   "cell_type": "code",
   "execution_count": 22,
   "metadata": {},
   "outputs": [
    {
     "data": {
      "image/png": "[encoded data removed]",
      "text/plain": [
       "plot without title"
      ]
     },
     "metadata": {
      "image/png": {
       "height": 420,
       "width": 420
      },
      "text/plain": {
       "height": 420,
       "width": 420
      }
     },
     "output_type": "display_data"
    }
   ],
   "source": [
    "ggplot(data=aggbTimeRank, aes(x=TIC,y=left)) + \n",
    "  geom_point(color='red') + geom_line(color='green') +\n",
    "  xlab(\"Time spent in the company\") +\n",
    "  ylab(\"Average Attrition rate\") +\n",
    "  ggtitle(\"Time and Employee Attrition\")"
   ]
  },
  {
   "cell_type": "markdown",
   "metadata": {},
   "source": [
    "The average attrition rate increases up to year 5, then it decreases sharply. Let's investigate further. Let's compare the value to the number of employee in each group."
   ]
  },
  {
   "cell_type": "markdown",
   "metadata": {},
   "source": [
    "#### An aggregated plot of the attrition (with employee count)"
   ]
  },
  {
   "cell_type": "markdown",
   "metadata": {},
   "source": [
    "In addition to the chart above, let's computes the number of employees for each value of TIC:"
   ]
  },
  {
   "cell_type": "code",
   "execution_count": 23,
   "metadata": {},
   "outputs": [
    {
     "data": {
      "text/html": [
       "<table>\n",
       "<caption>A data.frame: 5 × 2</caption>\n",
       "<thead>\n",
       "\t<tr><th scope=col>TIC</th><th scope=col>left</th></tr>\n",
       "\t<tr><th scope=col>&lt;int&gt;</th><th scope=col>&lt;int&gt;</th></tr>\n",
       "</thead>\n",
       "<tbody>\n",
       "\t<tr><td>2</td><td>3021</td></tr>\n",
       "\t<tr><td>3</td><td>5322</td></tr>\n",
       "\t<tr><td>4</td><td>2060</td></tr>\n",
       "\t<tr><td>5</td><td>1085</td></tr>\n",
       "\t<tr><td>6</td><td> 512</td></tr>\n",
       "</tbody>\n",
       "</table>\n"
      ],
      "text/latex": [
       "A data.frame: 5 × 2\n",
       "\\begin{tabular}{ll}\n",
       " TIC & left\\\\\n",
       " <int> & <int>\\\\\n",
       "\\hline\n",
       "\t 2 & 3021\\\\\n",
       "\t 3 & 5322\\\\\n",
       "\t 4 & 2060\\\\\n",
       "\t 5 & 1085\\\\\n",
       "\t 6 &  512\\\\\n",
       "\\end{tabular}\n"
      ],
      "text/markdown": [
       "\n",
       "A data.frame: 5 × 2\n",
       "\n",
       "| TIC &lt;int&gt; | left &lt;int&gt; |\n",
       "|---|---|\n",
       "| 2 | 3021 |\n",
       "| 3 | 5322 |\n",
       "| 4 | 2060 |\n",
       "| 5 | 1085 |\n",
       "| 6 |  512 |\n",
       "\n"
      ],
      "text/plain": [
       "  TIC left\n",
       "1 2   3021\n",
       "2 3   5322\n",
       "3 4   2060\n",
       "4 5   1085\n",
       "5 6    512"
      ]
     },
     "metadata": {},
     "output_type": "display_data"
    }
   ],
   "source": [
    "# computes the number of employees for each value of TIC\n",
    "cntbTimeRank <- aggregate(left ~ TIC, data=HR2, FUN=length) \n",
    "cntbTimeRank"
   ]
  },
  {
   "cell_type": "code",
   "execution_count": 24,
   "metadata": {},
   "outputs": [
    {
     "data": {
      "image/png": "[encoded data removed]",
      "text/plain": [
       "plot without title"
      ]
     },
     "metadata": {
      "image/png": {
       "height": 420,
       "width": 420
      },
      "text/plain": {
       "height": 420,
       "width": 420
      }
     },
     "output_type": "display_data"
    }
   ],
   "source": [
    "ggplot(data=aggbTimeRank, aes(x=TIC,y=left)) + \n",
    "  geom_point(color='red', aes(size = cntbTimeRank$left)) +\n",
    "  xlab(\"Time spent in the company\") +\n",
    "  ylab(\"Average Attrition rate\") +\n",
    "  ggtitle(\"Time and Employee Attrition\") +\n",
    "  scale_size_continuous(guide=FALSE, range = c(4,40)) # point's size will be between 4 and 40\n",
    "\n",
    "# or\n",
    "#symbols(aggbTimeRank$TIC,aggbTimeRank$left,\n",
    "#        circles=cntbTimeRank$left, inches=.75, fg=\"white\", bg=\"red\",\n",
    "#        main= \"Time and Employee Attrition\", \n",
    "#        ylab=\"Average Attrition Rate\", xlab= \"Time spent\")"
   ]
  },
  {
   "cell_type": "markdown",
   "metadata": {},
   "source": [
    "The average attrition rate increases up to year 5, then it decreases sharply. It concerns 512 people, which is still a lot and should be reported to decision makers."
   ]
  },
  {
   "cell_type": "markdown",
   "metadata": {},
   "source": [
    "#### Effect of the most important driver: the satisfaction"
   ]
  },
  {
   "cell_type": "markdown",
   "metadata": {},
   "source": [
    "Let's see if we can find some insights that would allow us to retain more employees.\n",
    "\n",
    "First we want to limit the number of values that can be taken by satisfaction. Then we can rank the satisfaction variable from the smallest (rank=1) to largest (rank=20)"
   ]
  },
  {
   "cell_type": "code",
   "execution_count": 25,
   "metadata": {},
   "outputs": [
    {
     "data": {
      "text/plain": [
       "\n",
       "  1   2   3   4   5   6   7   8   9  10  11  12  13  14  15  16  17  18  19  20 \n",
       "  0 314 390 291 264 145 194 585 615 595 807 859 857 849 954 939 928 869 794 751 "
      ]
     },
     "metadata": {},
     "output_type": "display_data"
    }
   ],
   "source": [
    "tempdata <- HR2\n",
    "\n",
    "tempdata$rankSatis <- cut(tempdata$S, breaks = seq(0.0, 1.0, by = .05), labels = 1:20)\n",
    "# 0.0-0.05 satisfaction has rank 0 ; 0.95-1.0 satisfaction has rank 20\n",
    "\n",
    "table(tempdata$rankSatis)"
   ]
  },
  {
   "cell_type": "markdown",
   "metadata": {},
   "source": [
    "Similarly as we did before, we compute the average attrition rate for each category and number of employees for each value of TIC:"
   ]
  },
  {
   "cell_type": "code",
   "execution_count": 26,
   "metadata": {},
   "outputs": [],
   "source": [
    "# We compute the average attrition rate for each category\n",
    "aggbSatisRank <- aggregate(left ~ rankSatis, data=tempdata, FUN=mean)\n",
    "\n",
    "# We compute the number of employees for each value of TIC\n",
    "cntbSatisRank <- aggregate(left ~ rankSatis, data=tempdata, FUN=length)"
   ]
  },
  {
   "cell_type": "code",
   "execution_count": 27,
   "metadata": {},
   "outputs": [
    {
     "data": {
      "image/png": "[encoded data removed]",
      "text/plain": [
       "plot without title"
      ]
     },
     "metadata": {
      "image/png": {
       "height": 420,
       "width": 420
      },
      "text/plain": {
       "height": 420,
       "width": 420
      }
     },
     "output_type": "display_data"
    }
   ],
   "source": [
    "ggplot(data=aggbSatisRank, aes(x=rankSatis,y=left)) + \n",
    "  geom_point(colour = \"black\", fill = \"orange\", shape = 21, aes(size = cntbSatisRank$left)) +  # shape 21 has a border \n",
    "  xlab(\"Rank of Satisfaction (1 = less satisfied; 20 = most satisfied)\") +\n",
    "  ylab(\"Average Attrition rate\") +\n",
    "  ggtitle(\"Satisfaction and Employee Attrition\") +\n",
    "  scale_size_continuous(guide=FALSE, range = c(1,12)) + # point's size will be between 4 and 40\n",
    "  geom_vline(xintercept = 8.5, color='red') +\n",
    "  geom_vline(xintercept = 13.5, color='red') +\n",
    "  geom_vline(xintercept = 17.5, color='red') +\n",
    "  annotate(\"text\", x = 6, y = 0.4, label = \"Very unhappy \\n and leaving\", color='black') +\n",
    "  annotate(\"text\", x = 11, y = 0.4, label = \"'It's ok'\", color='black') +\n",
    "  annotate(\"text\", x = 15.5, y = 0.4, label = \"Not happy enough \\n and leaving\", color='black') +\n",
    "  annotate(\"text\", x = 18.5, y = 0.4, label = \"Very \\n happy \\n and \\n staying\", color='black')\n",
    "\n",
    "# or\n",
    "#symbols(aggbSatisRank$rankSatis,aggbSatisRank$left,\n",
    "#        circles=cntbSatisRank$left, inches=.2, fg=\"white\", bg=\"red\",\n",
    "#        main= \"Satisfaction and Employee Attrition\", \n",
    "#        ylab=\"Average Attrition Rate\", xlab= \"Rank of Satisfaction\")"
   ]
  },
  {
   "cell_type": "markdown",
   "metadata": {},
   "source": [
    "Rank 1 to 9: the happy people who wants to stay.\n",
    "\n",
    "Rank 10 to 14: the 'it's ok' people who are staying.\n",
    "\n",
    "Rank 15 to 18: the happy people who wants to leave -> this is something we want to investigate further. Maybe they are burned out? Or hired by clients? These are the people you want to target when undertaking retaining actions.\n",
    "\n",
    "Rank 19-20: the unhappy people that indeed want to leave."
   ]
  }
 ],
 "metadata": {
  "kernelspec": {
   "display_name": "R",
   "language": "R",
   "name": "ir"
  },
  "language_info": {
   "codemirror_mode": "r",
   "file_extension": ".r",
   "mimetype": "text/x-r-source",
   "name": "R",
   "pygments_lexer": "r",
   "version": "3.6.3"
  }
 },
 "nbformat": 4,
 "nbformat_minor": 4
}
