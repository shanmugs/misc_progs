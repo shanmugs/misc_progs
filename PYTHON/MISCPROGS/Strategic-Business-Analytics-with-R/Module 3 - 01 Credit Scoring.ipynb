{
 "cells": [
  {
   "cell_type": "markdown",
   "metadata": {},
   "source": [
    "# Credit Scoring"
   ]
  },
  {
   "cell_type": "markdown",
   "metadata": {},
   "source": [
    "**Loading csv files**"
   ]
  },
  {
   "cell_type": "code",
   "execution_count": 1,
   "metadata": {},
   "outputs": [
    {
     "data": {
      "text/html": [
       "<table>\n",
       "<caption>A data.frame: 6 × 10</caption>\n",
       "<thead>\n",
       "\t<tr><th></th><th scope=col>Income</th><th scope=col>Rating</th><th scope=col>Cards</th><th scope=col>Age</th><th scope=col>Education</th><th scope=col>Gender</th><th scope=col>Student</th><th scope=col>Married</th><th scope=col>Ethnicity</th><th scope=col>Balance</th></tr>\n",
       "\t<tr><th></th><th scope=col>&lt;dbl&gt;</th><th scope=col>&lt;int&gt;</th><th scope=col>&lt;int&gt;</th><th scope=col>&lt;int&gt;</th><th scope=col>&lt;int&gt;</th><th scope=col>&lt;fct&gt;</th><th scope=col>&lt;fct&gt;</th><th scope=col>&lt;fct&gt;</th><th scope=col>&lt;fct&gt;</th><th scope=col>&lt;int&gt;</th></tr>\n",
       "</thead>\n",
       "<tbody>\n",
       "\t<tr><th scope=row>1</th><td> 14.891</td><td>283</td><td>2</td><td>34</td><td>11</td><td> Male </td><td>No </td><td>Yes</td><td>Caucasian</td><td> 333</td></tr>\n",
       "\t<tr><th scope=row>2</th><td>106.025</td><td>483</td><td>3</td><td>82</td><td>15</td><td>Female</td><td>Yes</td><td>Yes</td><td>Asian    </td><td> 903</td></tr>\n",
       "\t<tr><th scope=row>3</th><td>104.593</td><td>514</td><td>4</td><td>71</td><td>11</td><td> Male </td><td>No </td><td>No </td><td>Asian    </td><td> 580</td></tr>\n",
       "\t<tr><th scope=row>4</th><td>148.924</td><td>681</td><td>3</td><td>36</td><td>11</td><td>Female</td><td>No </td><td>No </td><td>Asian    </td><td> 964</td></tr>\n",
       "\t<tr><th scope=row>5</th><td> 55.882</td><td>357</td><td>2</td><td>68</td><td>16</td><td> Male </td><td>No </td><td>Yes</td><td>Caucasian</td><td> 331</td></tr>\n",
       "\t<tr><th scope=row>6</th><td> 80.180</td><td>569</td><td>4</td><td>77</td><td>10</td><td> Male </td><td>No </td><td>No </td><td>Caucasian</td><td>1151</td></tr>\n",
       "</tbody>\n",
       "</table>\n"
      ],
      "text/latex": [
       "A data.frame: 6 × 10\n",
       "\\begin{tabular}{r|llllllllll}\n",
       "  & Income & Rating & Cards & Age & Education & Gender & Student & Married & Ethnicity & Balance\\\\\n",
       "  & <dbl> & <int> & <int> & <int> & <int> & <fct> & <fct> & <fct> & <fct> & <int>\\\\\n",
       "\\hline\n",
       "\t1 &  14.891 & 283 & 2 & 34 & 11 &  Male  & No  & Yes & Caucasian &  333\\\\\n",
       "\t2 & 106.025 & 483 & 3 & 82 & 15 & Female & Yes & Yes & Asian     &  903\\\\\n",
       "\t3 & 104.593 & 514 & 4 & 71 & 11 &  Male  & No  & No  & Asian     &  580\\\\\n",
       "\t4 & 148.924 & 681 & 3 & 36 & 11 & Female & No  & No  & Asian     &  964\\\\\n",
       "\t5 &  55.882 & 357 & 2 & 68 & 16 &  Male  & No  & Yes & Caucasian &  331\\\\\n",
       "\t6 &  80.180 & 569 & 4 & 77 & 10 &  Male  & No  & No  & Caucasian & 1151\\\\\n",
       "\\end{tabular}\n"
      ],
      "text/markdown": [
       "\n",
       "A data.frame: 6 × 10\n",
       "\n",
       "| <!--/--> | Income &lt;dbl&gt; | Rating &lt;int&gt; | Cards &lt;int&gt; | Age &lt;int&gt; | Education &lt;int&gt; | Gender &lt;fct&gt; | Student &lt;fct&gt; | Married &lt;fct&gt; | Ethnicity &lt;fct&gt; | Balance &lt;int&gt; |\n",
       "|---|---|---|---|---|---|---|---|---|---|---|\n",
       "| 1 |  14.891 | 283 | 2 | 34 | 11 |  Male  | No  | Yes | Caucasian |  333 |\n",
       "| 2 | 106.025 | 483 | 3 | 82 | 15 | Female | Yes | Yes | Asian     |  903 |\n",
       "| 3 | 104.593 | 514 | 4 | 71 | 11 |  Male  | No  | No  | Asian     |  580 |\n",
       "| 4 | 148.924 | 681 | 3 | 36 | 11 | Female | No  | No  | Asian     |  964 |\n",
       "| 5 |  55.882 | 357 | 2 | 68 | 16 |  Male  | No  | Yes | Caucasian |  331 |\n",
       "| 6 |  80.180 | 569 | 4 | 77 | 10 |  Male  | No  | No  | Caucasian | 1151 |\n",
       "\n"
      ],
      "text/plain": [
       "  Income  Rating Cards Age Education Gender Student Married Ethnicity Balance\n",
       "1  14.891 283    2     34  11         Male  No      Yes     Caucasian  333   \n",
       "2 106.025 483    3     82  15        Female Yes     Yes     Asian      903   \n",
       "3 104.593 514    4     71  11         Male  No      No      Asian      580   \n",
       "4 148.924 681    3     36  11        Female No      No      Asian      964   \n",
       "5  55.882 357    2     68  16         Male  No      Yes     Caucasian  331   \n",
       "6  80.180 569    4     77  10         Male  No      No      Caucasian 1151   "
      ]
     },
     "metadata": {},
     "output_type": "display_data"
    }
   ],
   "source": [
    "CRDT <- read.csv(\"data/DATA_3.01_CREDIT.csv\")\n",
    "head(CRDT)"
   ]
  },
  {
   "cell_type": "markdown",
   "metadata": {},
   "source": [
    "**Exploring the Data**"
   ]
  },
  {
   "cell_type": "code",
   "execution_count": 2,
   "metadata": {},
   "outputs": [
    {
     "name": "stdout",
     "output_type": "stream",
     "text": [
      "'data.frame':\t300 obs. of  10 variables:\n",
      " $ Income   : num  14.9 106 104.6 148.9 55.9 ...\n",
      " $ Rating   : int  283 483 514 681 357 569 259 512 266 491 ...\n",
      " $ Cards    : int  2 3 4 3 2 4 2 2 5 3 ...\n",
      " $ Age      : int  34 82 71 36 68 77 37 87 66 41 ...\n",
      " $ Education: int  11 15 11 11 16 10 12 9 13 19 ...\n",
      " $ Gender   : Factor w/ 2 levels \" Male\",\"Female\": 1 2 1 2 1 1 2 1 2 2 ...\n",
      " $ Student  : Factor w/ 2 levels \"No\",\"Yes\": 1 2 1 1 1 1 1 1 1 2 ...\n",
      " $ Married  : Factor w/ 2 levels \"No\",\"Yes\": 2 2 1 1 2 1 1 1 1 2 ...\n",
      " $ Ethnicity: Factor w/ 3 levels \"African American\",..: 3 2 2 2 3 3 1 2 3 1 ...\n",
      " $ Balance  : int  333 903 580 964 331 1151 203 872 279 1350 ...\n"
     ]
    }
   ],
   "source": [
    "str(CRDT)"
   ]
  },
  {
   "cell_type": "code",
   "execution_count": 3,
   "metadata": {},
   "outputs": [
    {
     "data": {
      "text/plain": [
       "     Income           Rating          Cards            Age       \n",
       " Min.   : 10.35   Min.   : 93.0   Min.   :1.000   Min.   :24.00  \n",
       " 1st Qu.: 21.03   1st Qu.:235.0   1st Qu.:2.000   1st Qu.:41.00  \n",
       " Median : 33.12   Median :339.0   Median :3.000   Median :55.00  \n",
       " Mean   : 44.05   Mean   :348.1   Mean   :3.027   Mean   :54.98  \n",
       " 3rd Qu.: 55.98   3rd Qu.:433.0   3rd Qu.:4.000   3rd Qu.:69.00  \n",
       " Max.   :186.63   Max.   :949.0   Max.   :8.000   Max.   :91.00  \n",
       "   Education        Gender    Student   Married              Ethnicity  \n",
       " Min.   : 5.00    Male :132   No :268   No :117   African American: 78  \n",
       " 1st Qu.:11.00   Female:168   Yes: 32   Yes:183   Asian           : 81  \n",
       " Median :14.00                                    Caucasian       :141  \n",
       " Mean   :13.39                                                          \n",
       " 3rd Qu.:16.00                                                          \n",
       " Max.   :20.00                                                          \n",
       "    Balance       \n",
       " Min.   :   0.00  \n",
       " 1st Qu.:  15.75  \n",
       " Median : 433.50  \n",
       " Mean   : 502.69  \n",
       " 3rd Qu.: 857.75  \n",
       " Max.   :1809.00  "
      ]
     },
     "metadata": {},
     "output_type": "display_data"
    }
   ],
   "source": [
    "summary(CRDT)"
   ]
  },
  {
   "cell_type": "code",
   "execution_count": 4,
   "metadata": {},
   "outputs": [
    {
     "data": {
      "image/png": "[encoded data removed]",
      "text/plain": [
       "Plot with title \"Credit Scoring Rating\""
      ]
     },
     "metadata": {
      "image/png": {
       "height": 420,
       "width": 420
      },
      "text/plain": {
       "height": 420,
       "width": 420
      }
     },
     "output_type": "display_data"
    }
   ],
   "source": [
    "# Histogram of the credit score\n",
    "hist(CRDT$Rating, main = \"Credit Scoring Rating\")"
   ]
  },
  {
   "cell_type": "code",
   "execution_count": 5,
   "metadata": {},
   "outputs": [
    {
     "data": {
      "text/html": [
       "<table>\n",
       "<caption>A matrix: 6 × 6 of type dbl</caption>\n",
       "<thead>\n",
       "\t<tr><th></th><th scope=col>Income</th><th scope=col>Rating</th><th scope=col>Cards</th><th scope=col>Age</th><th scope=col>Education</th><th scope=col>Balance</th></tr>\n",
       "</thead>\n",
       "<tbody>\n",
       "\t<tr><th scope=row>Income</th><td> 1.00000000</td><td> 0.77116741</td><td>0.02887452</td><td> 0.12320067</td><td>-0.07095917</td><td> 0.43232667</td></tr>\n",
       "\t<tr><th scope=row>Rating</th><td> 0.77116741</td><td> 1.00000000</td><td>0.09585441</td><td> 0.04237663</td><td>-0.09543257</td><td> 0.85982866</td></tr>\n",
       "\t<tr><th scope=row>Cards</th><td> 0.02887452</td><td> 0.09585441</td><td>1.00000000</td><td> 0.05465525</td><td> 0.01517640</td><td> 0.12384602</td></tr>\n",
       "\t<tr><th scope=row>Age</th><td> 0.12320067</td><td> 0.04237663</td><td>0.05465525</td><td> 1.00000000</td><td>-0.04617816</td><td>-0.05242587</td></tr>\n",
       "\t<tr><th scope=row>Education</th><td>-0.07095917</td><td>-0.09543257</td><td>0.01517640</td><td>-0.04617816</td><td> 1.00000000</td><td>-0.07316655</td></tr>\n",
       "\t<tr><th scope=row>Balance</th><td> 0.43232667</td><td> 0.85982866</td><td>0.12384602</td><td>-0.05242587</td><td>-0.07316655</td><td> 1.00000000</td></tr>\n",
       "</tbody>\n",
       "</table>\n"
      ],
      "text/latex": [
       "A matrix: 6 × 6 of type dbl\n",
       "\\begin{tabular}{r|llllll}\n",
       "  & Income & Rating & Cards & Age & Education & Balance\\\\\n",
       "\\hline\n",
       "\tIncome &  1.00000000 &  0.77116741 & 0.02887452 &  0.12320067 & -0.07095917 &  0.43232667\\\\\n",
       "\tRating &  0.77116741 &  1.00000000 & 0.09585441 &  0.04237663 & -0.09543257 &  0.85982866\\\\\n",
       "\tCards &  0.02887452 &  0.09585441 & 1.00000000 &  0.05465525 &  0.01517640 &  0.12384602\\\\\n",
       "\tAge &  0.12320067 &  0.04237663 & 0.05465525 &  1.00000000 & -0.04617816 & -0.05242587\\\\\n",
       "\tEducation & -0.07095917 & -0.09543257 & 0.01517640 & -0.04617816 &  1.00000000 & -0.07316655\\\\\n",
       "\tBalance &  0.43232667 &  0.85982866 & 0.12384602 & -0.05242587 & -0.07316655 &  1.00000000\\\\\n",
       "\\end{tabular}\n"
      ],
      "text/markdown": [
       "\n",
       "A matrix: 6 × 6 of type dbl\n",
       "\n",
       "| <!--/--> | Income | Rating | Cards | Age | Education | Balance |\n",
       "|---|---|---|---|---|---|---|\n",
       "| Income |  1.00000000 |  0.77116741 | 0.02887452 |  0.12320067 | -0.07095917 |  0.43232667 |\n",
       "| Rating |  0.77116741 |  1.00000000 | 0.09585441 |  0.04237663 | -0.09543257 |  0.85982866 |\n",
       "| Cards |  0.02887452 |  0.09585441 | 1.00000000 |  0.05465525 |  0.01517640 |  0.12384602 |\n",
       "| Age |  0.12320067 |  0.04237663 | 0.05465525 |  1.00000000 | -0.04617816 | -0.05242587 |\n",
       "| Education | -0.07095917 | -0.09543257 | 0.01517640 | -0.04617816 |  1.00000000 | -0.07316655 |\n",
       "| Balance |  0.43232667 |  0.85982866 | 0.12384602 | -0.05242587 | -0.07316655 |  1.00000000 |\n",
       "\n"
      ],
      "text/plain": [
       "          Income      Rating      Cards      Age         Education  \n",
       "Income     1.00000000  0.77116741 0.02887452  0.12320067 -0.07095917\n",
       "Rating     0.77116741  1.00000000 0.09585441  0.04237663 -0.09543257\n",
       "Cards      0.02887452  0.09585441 1.00000000  0.05465525  0.01517640\n",
       "Age        0.12320067  0.04237663 0.05465525  1.00000000 -0.04617816\n",
       "Education -0.07095917 -0.09543257 0.01517640 -0.04617816  1.00000000\n",
       "Balance    0.43232667  0.85982866 0.12384602 -0.05242587 -0.07316655\n",
       "          Balance    \n",
       "Income     0.43232667\n",
       "Rating     0.85982866\n",
       "Cards      0.12384602\n",
       "Age       -0.05242587\n",
       "Education -0.07316655\n",
       "Balance    1.00000000"
      ]
     },
     "metadata": {},
     "output_type": "display_data"
    }
   ],
   "source": [
    "# Compute the correlation between all the numerical variables of the sample\n",
    "cor(CRDT[,c(1:5,10)]) "
   ]
  },
  {
   "cell_type": "code",
   "execution_count": 6,
   "metadata": {},
   "outputs": [],
   "source": [
    "# Estimate a linear regression model of Rating as a function of everything else.\n",
    "linreg=lm(Rating~.,data=CRDT)"
   ]
  },
  {
   "cell_type": "code",
   "execution_count": 7,
   "metadata": {},
   "outputs": [
    {
     "data": {
      "image/png": "[encoded data removed]",
      "text/plain": [
       "plot without title"
      ]
     },
     "metadata": {
      "image/png": {
       "height": 420,
       "width": 420
      },
      "text/plain": {
       "height": 420,
       "width": 420
      }
     },
     "output_type": "display_data"
    }
   ],
   "source": [
    "# Plot the fitted values vs. the actual ones\n",
    "plot(CRDT$Rating,linreg$fitted.values) "
   ]
  },
  {
   "cell_type": "code",
   "execution_count": 8,
   "metadata": {},
   "outputs": [
    {
     "data": {
      "text/html": [
       "0.986732415714666"
      ],
      "text/latex": [
       "0.986732415714666"
      ],
      "text/markdown": [
       "0.986732415714666"
      ],
      "text/plain": [
       "[1] 0.9867324"
      ]
     },
     "metadata": {},
     "output_type": "display_data"
    }
   ],
   "source": [
    "# Computes the correlation between the fitted values and the actual ones\n",
    "cor(linreg$fitted.values,CRDT$Rating) "
   ]
  },
  {
   "cell_type": "markdown",
   "metadata": {},
   "source": [
    "The correlation coefficient is almost 0.99. Although the model might be off with the lower values. Note: A more rigorous approach would be to estimate the accuracy on 'out-of-sample' data (i.e., a test set).\n",
    "\n",
    "Now that we are confident with our model, let's see the results of the regression model:"
   ]
  },
  {
   "cell_type": "code",
   "execution_count": 9,
   "metadata": {},
   "outputs": [
    {
     "data": {
      "text/plain": [
       "\n",
       "Call:\n",
       "lm(formula = Rating ~ ., data = CRDT)\n",
       "\n",
       "Residuals:\n",
       "    Min      1Q  Median      3Q     Max \n",
       "-81.316 -10.820   4.875  16.588  43.501 \n",
       "\n",
       "Coefficients:\n",
       "                     Estimate Std. Error t value Pr(>|t|)    \n",
       "(Intercept)        140.881377   9.666167  14.575   <2e-16 ***\n",
       "Income               2.094703   0.048118  43.533   <2e-16 ***\n",
       "Cards               -0.762853   1.079874  -0.706   0.4805    \n",
       "Age                  0.144603   0.085872   1.684   0.0933 .  \n",
       "Education            0.179388   0.473743   0.379   0.7052    \n",
       "GenderFemale         1.770375   2.917842   0.607   0.5445    \n",
       "StudentYes         -98.804778   4.959789 -19.921   <2e-16 ***\n",
       "MarriedYes           3.176873   3.005535   1.057   0.2914    \n",
       "EthnicityAsian      -4.428289   4.006859  -1.105   0.2700    \n",
       "EthnicityCaucasian  -1.250612   3.533864  -0.354   0.7237    \n",
       "Balance              0.231363   0.003661  63.189   <2e-16 ***\n",
       "---\n",
       "Signif. codes:  0 '***' 0.001 '**' 0.01 '*' 0.05 '.' 0.1 ' ' 1\n",
       "\n",
       "Residual standard error: 24.91 on 289 degrees of freedom\n",
       "Multiple R-squared:  0.9736,\tAdjusted R-squared:  0.9727 \n",
       "F-statistic:  1067 on 10 and 289 DF,  p-value: < 2.2e-16\n"
      ]
     },
     "metadata": {},
     "output_type": "display_data"
    }
   ],
   "source": [
    "summary(linreg)"
   ]
  },
  {
   "cell_type": "markdown",
   "metadata": {},
   "source": [
    "The statistically significant variable (* * *) are the income, studentyes and balance. Thanks to the absolute value of the t-value, we can rank the importance of variables: 1/ balance, 2/income, 3/ studentyes. We consider an effect to be significant when the p-value is smaller than 0.05. Otherwise, the variable has no significant effect on the expected credit score.\n",
    "\n",
    "Then, we use the sign of 'estimate' to conlude on the direction of the effect:\n",
    "\n",
    "    Positive : as the variable increases, the expected credit score increases, everything else being equal\n",
    "    \n",
    "    Negative: as the variable increases, the expected credit score decreases, everything else being equal We can say that the fact the applicant is a student impacts negatively its credit score, everything else being equal. Also, the higher the balance, the higher the credit score. Same for the income. Note: positive coefficient indicates a positive impact on the outcome variable 'rating' (and vice-versa)\n",
    "    \n",
    "Now,to present our findings to a business audience, we could use a model-free approach. We can start with plotting the credit score as a function of the balance (which is the most important driver):"
   ]
  },
  {
   "cell_type": "code",
   "execution_count": 10,
   "metadata": {},
   "outputs": [],
   "source": [
    "library(ggplot2)"
   ]
  },
  {
   "cell_type": "code",
   "execution_count": 11,
   "metadata": {},
   "outputs": [
    {
     "data": {
      "image/png": "[encoded data removed]",
      "text/plain": [
       "plot without title"
      ]
     },
     "metadata": {
      "image/png": {
       "height": 420,
       "width": 420
      },
      "text/plain": {
       "height": 420,
       "width": 420
      }
     },
     "output_type": "display_data"
    }
   ],
   "source": [
    "ggplot(data=CRDT, aes(x=Balance,y=Rating)) + \n",
    "  geom_point(color='orange') +\n",
    "  xlab(\"Balance\") +\n",
    "  ylab(\"Rating\")\n",
    "\n",
    "# plot(CRDT$Balance,CRDT$Rating)"
   ]
  },
  {
   "cell_type": "markdown",
   "metadata": {},
   "source": [
    "As expected, the slope is positive. And indeed, the higher the balance, the higher the rating."
   ]
  },
  {
   "cell_type": "code",
   "execution_count": 12,
   "metadata": {},
   "outputs": [
    {
     "data": {
      "image/png": "[encoded data removed]",
      "text/plain": [
       "plot without title"
      ]
     },
     "metadata": {
      "image/png": {
       "height": 420,
       "width": 420
      },
      "text/plain": {
       "height": 420,
       "width": 420
      }
     },
     "output_type": "display_data"
    }
   ],
   "source": [
    "ggplot(data=CRDT, aes(x=Income,y=Rating)) + \n",
    "  geom_point(color='tomato') +\n",
    "  xlab(\"Income\") +\n",
    "  ylab(\"Rating\")\n",
    "\n",
    "# plot(CRDT$Income,CRDT$Rating)"
   ]
  },
  {
   "cell_type": "markdown",
   "metadata": {},
   "source": [
    "As expected, the higher the income, the higher the rating."
   ]
  }
 ],
 "metadata": {
  "kernelspec": {
   "display_name": "R",
   "language": "R",
   "name": "ir"
  },
  "language_info": {
   "codemirror_mode": "r",
   "file_extension": ".r",
   "mimetype": "text/x-r-source",
   "name": "R",
   "pygments_lexer": "r",
   "version": "3.6.3"
  }
 },
 "nbformat": 4,
 "nbformat_minor": 4
}
