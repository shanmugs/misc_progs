{
 "cells": [
  {
   "cell_type": "markdown",
   "metadata": {},
   "source": [
    "# Credit Scoring 2"
   ]
  },
  {
   "cell_type": "markdown",
   "metadata": {},
   "source": [
    "**Loading csv files**"
   ]
  },
  {
   "cell_type": "code",
   "execution_count": 1,
   "metadata": {},
   "outputs": [],
   "source": [
    "dataold <- read.csv(\"data/DATA_3.01_CREDIT.csv\")  # training dataset\n",
    "datanew <- read.csv(\"data/DATA_4.01_CREDIT2.csv\") # test dataset"
   ]
  },
  {
   "cell_type": "code",
   "execution_count": 2,
   "metadata": {},
   "outputs": [
    {
     "data": {
      "text/html": [
       "<table>\n",
       "<caption>A data.frame: 6 × 10</caption>\n",
       "<thead>\n",
       "\t<tr><th></th><th scope=col>Income</th><th scope=col>Rating</th><th scope=col>Cards</th><th scope=col>Age</th><th scope=col>Education</th><th scope=col>Gender</th><th scope=col>Student</th><th scope=col>Married</th><th scope=col>Ethnicity</th><th scope=col>Balance</th></tr>\n",
       "\t<tr><th></th><th scope=col>&lt;dbl&gt;</th><th scope=col>&lt;int&gt;</th><th scope=col>&lt;int&gt;</th><th scope=col>&lt;int&gt;</th><th scope=col>&lt;int&gt;</th><th scope=col>&lt;fct&gt;</th><th scope=col>&lt;fct&gt;</th><th scope=col>&lt;fct&gt;</th><th scope=col>&lt;fct&gt;</th><th scope=col>&lt;int&gt;</th></tr>\n",
       "</thead>\n",
       "<tbody>\n",
       "\t<tr><th scope=row>1</th><td> 14.891</td><td>283</td><td>2</td><td>34</td><td>11</td><td> Male </td><td>No </td><td>Yes</td><td>Caucasian</td><td> 333</td></tr>\n",
       "\t<tr><th scope=row>2</th><td>106.025</td><td>483</td><td>3</td><td>82</td><td>15</td><td>Female</td><td>Yes</td><td>Yes</td><td>Asian    </td><td> 903</td></tr>\n",
       "\t<tr><th scope=row>3</th><td>104.593</td><td>514</td><td>4</td><td>71</td><td>11</td><td> Male </td><td>No </td><td>No </td><td>Asian    </td><td> 580</td></tr>\n",
       "\t<tr><th scope=row>4</th><td>148.924</td><td>681</td><td>3</td><td>36</td><td>11</td><td>Female</td><td>No </td><td>No </td><td>Asian    </td><td> 964</td></tr>\n",
       "\t<tr><th scope=row>5</th><td> 55.882</td><td>357</td><td>2</td><td>68</td><td>16</td><td> Male </td><td>No </td><td>Yes</td><td>Caucasian</td><td> 331</td></tr>\n",
       "\t<tr><th scope=row>6</th><td> 80.180</td><td>569</td><td>4</td><td>77</td><td>10</td><td> Male </td><td>No </td><td>No </td><td>Caucasian</td><td>1151</td></tr>\n",
       "</tbody>\n",
       "</table>\n"
      ],
      "text/latex": [
       "A data.frame: 6 × 10\n",
       "\\begin{tabular}{r|llllllllll}\n",
       "  & Income & Rating & Cards & Age & Education & Gender & Student & Married & Ethnicity & Balance\\\\\n",
       "  & <dbl> & <int> & <int> & <int> & <int> & <fct> & <fct> & <fct> & <fct> & <int>\\\\\n",
       "\\hline\n",
       "\t1 &  14.891 & 283 & 2 & 34 & 11 &  Male  & No  & Yes & Caucasian &  333\\\\\n",
       "\t2 & 106.025 & 483 & 3 & 82 & 15 & Female & Yes & Yes & Asian     &  903\\\\\n",
       "\t3 & 104.593 & 514 & 4 & 71 & 11 &  Male  & No  & No  & Asian     &  580\\\\\n",
       "\t4 & 148.924 & 681 & 3 & 36 & 11 & Female & No  & No  & Asian     &  964\\\\\n",
       "\t5 &  55.882 & 357 & 2 & 68 & 16 &  Male  & No  & Yes & Caucasian &  331\\\\\n",
       "\t6 &  80.180 & 569 & 4 & 77 & 10 &  Male  & No  & No  & Caucasian & 1151\\\\\n",
       "\\end{tabular}\n"
      ],
      "text/markdown": [
       "\n",
       "A data.frame: 6 × 10\n",
       "\n",
       "| <!--/--> | Income &lt;dbl&gt; | Rating &lt;int&gt; | Cards &lt;int&gt; | Age &lt;int&gt; | Education &lt;int&gt; | Gender &lt;fct&gt; | Student &lt;fct&gt; | Married &lt;fct&gt; | Ethnicity &lt;fct&gt; | Balance &lt;int&gt; |\n",
       "|---|---|---|---|---|---|---|---|---|---|---|\n",
       "| 1 |  14.891 | 283 | 2 | 34 | 11 |  Male  | No  | Yes | Caucasian |  333 |\n",
       "| 2 | 106.025 | 483 | 3 | 82 | 15 | Female | Yes | Yes | Asian     |  903 |\n",
       "| 3 | 104.593 | 514 | 4 | 71 | 11 |  Male  | No  | No  | Asian     |  580 |\n",
       "| 4 | 148.924 | 681 | 3 | 36 | 11 | Female | No  | No  | Asian     |  964 |\n",
       "| 5 |  55.882 | 357 | 2 | 68 | 16 |  Male  | No  | Yes | Caucasian |  331 |\n",
       "| 6 |  80.180 | 569 | 4 | 77 | 10 |  Male  | No  | No  | Caucasian | 1151 |\n",
       "\n"
      ],
      "text/plain": [
       "  Income  Rating Cards Age Education Gender Student Married Ethnicity Balance\n",
       "1  14.891 283    2     34  11         Male  No      Yes     Caucasian  333   \n",
       "2 106.025 483    3     82  15        Female Yes     Yes     Asian      903   \n",
       "3 104.593 514    4     71  11         Male  No      No      Asian      580   \n",
       "4 148.924 681    3     36  11        Female No      No      Asian      964   \n",
       "5  55.882 357    2     68  16         Male  No      Yes     Caucasian  331   \n",
       "6  80.180 569    4     77  10         Male  No      No      Caucasian 1151   "
      ]
     },
     "metadata": {},
     "output_type": "display_data"
    }
   ],
   "source": [
    "head(dataold)"
   ]
  },
  {
   "cell_type": "code",
   "execution_count": 3,
   "metadata": {},
   "outputs": [
    {
     "data": {
      "text/html": [
       "<table>\n",
       "<caption>A data.frame: 6 × 10</caption>\n",
       "<thead>\n",
       "\t<tr><th></th><th scope=col>Income</th><th scope=col>Rating</th><th scope=col>Cards</th><th scope=col>Age</th><th scope=col>Education</th><th scope=col>Gender</th><th scope=col>Student</th><th scope=col>Married</th><th scope=col>Ethnicity</th><th scope=col>Balance</th></tr>\n",
       "\t<tr><th></th><th scope=col>&lt;dbl&gt;</th><th scope=col>&lt;int&gt;</th><th scope=col>&lt;int&gt;</th><th scope=col>&lt;int&gt;</th><th scope=col>&lt;int&gt;</th><th scope=col>&lt;fct&gt;</th><th scope=col>&lt;fct&gt;</th><th scope=col>&lt;fct&gt;</th><th scope=col>&lt;fct&gt;</th><th scope=col>&lt;int&gt;</th></tr>\n",
       "</thead>\n",
       "<tbody>\n",
       "\t<tr><th scope=row>1</th><td>21.786</td><td>355</td><td>1</td><td>50</td><td>17</td><td> Male </td><td>No</td><td>Yes</td><td>Caucasian       </td><td>580</td></tr>\n",
       "\t<tr><th scope=row>2</th><td>31.335</td><td>289</td><td>3</td><td>38</td><td> 7</td><td>Female</td><td>No</td><td>No </td><td>Caucasian       </td><td>172</td></tr>\n",
       "\t<tr><th scope=row>3</th><td>59.855</td><td>365</td><td>1</td><td>46</td><td>13</td><td>Female</td><td>No</td><td>Yes</td><td>Caucasian       </td><td>295</td></tr>\n",
       "\t<tr><th scope=row>4</th><td>44.061</td><td>352</td><td>1</td><td>79</td><td>11</td><td> Male </td><td>No</td><td>Yes</td><td>African American</td><td>414</td></tr>\n",
       "\t<tr><th scope=row>5</th><td>82.706</td><td>536</td><td>2</td><td>64</td><td>13</td><td>Female</td><td>No</td><td>Yes</td><td>Asian           </td><td>905</td></tr>\n",
       "\t<tr><th scope=row>6</th><td>24.460</td><td>165</td><td>2</td><td>50</td><td>14</td><td>Female</td><td>No</td><td>Yes</td><td>Asian           </td><td>  0</td></tr>\n",
       "</tbody>\n",
       "</table>\n"
      ],
      "text/latex": [
       "A data.frame: 6 × 10\n",
       "\\begin{tabular}{r|llllllllll}\n",
       "  & Income & Rating & Cards & Age & Education & Gender & Student & Married & Ethnicity & Balance\\\\\n",
       "  & <dbl> & <int> & <int> & <int> & <int> & <fct> & <fct> & <fct> & <fct> & <int>\\\\\n",
       "\\hline\n",
       "\t1 & 21.786 & 355 & 1 & 50 & 17 &  Male  & No & Yes & Caucasian        & 580\\\\\n",
       "\t2 & 31.335 & 289 & 3 & 38 &  7 & Female & No & No  & Caucasian        & 172\\\\\n",
       "\t3 & 59.855 & 365 & 1 & 46 & 13 & Female & No & Yes & Caucasian        & 295\\\\\n",
       "\t4 & 44.061 & 352 & 1 & 79 & 11 &  Male  & No & Yes & African American & 414\\\\\n",
       "\t5 & 82.706 & 536 & 2 & 64 & 13 & Female & No & Yes & Asian            & 905\\\\\n",
       "\t6 & 24.460 & 165 & 2 & 50 & 14 & Female & No & Yes & Asian            &   0\\\\\n",
       "\\end{tabular}\n"
      ],
      "text/markdown": [
       "\n",
       "A data.frame: 6 × 10\n",
       "\n",
       "| <!--/--> | Income &lt;dbl&gt; | Rating &lt;int&gt; | Cards &lt;int&gt; | Age &lt;int&gt; | Education &lt;int&gt; | Gender &lt;fct&gt; | Student &lt;fct&gt; | Married &lt;fct&gt; | Ethnicity &lt;fct&gt; | Balance &lt;int&gt; |\n",
       "|---|---|---|---|---|---|---|---|---|---|---|\n",
       "| 1 | 21.786 | 355 | 1 | 50 | 17 |  Male  | No | Yes | Caucasian        | 580 |\n",
       "| 2 | 31.335 | 289 | 3 | 38 |  7 | Female | No | No  | Caucasian        | 172 |\n",
       "| 3 | 59.855 | 365 | 1 | 46 | 13 | Female | No | Yes | Caucasian        | 295 |\n",
       "| 4 | 44.061 | 352 | 1 | 79 | 11 |  Male  | No | Yes | African American | 414 |\n",
       "| 5 | 82.706 | 536 | 2 | 64 | 13 | Female | No | Yes | Asian            | 905 |\n",
       "| 6 | 24.460 | 165 | 2 | 50 | 14 | Female | No | Yes | Asian            |   0 |\n",
       "\n"
      ],
      "text/plain": [
       "  Income Rating Cards Age Education Gender Student Married Ethnicity       \n",
       "1 21.786 355    1     50  17         Male  No      Yes     Caucasian       \n",
       "2 31.335 289    3     38   7        Female No      No      Caucasian       \n",
       "3 59.855 365    1     46  13        Female No      Yes     Caucasian       \n",
       "4 44.061 352    1     79  11         Male  No      Yes     African American\n",
       "5 82.706 536    2     64  13        Female No      Yes     Asian           \n",
       "6 24.460 165    2     50  14        Female No      Yes     Asian           \n",
       "  Balance\n",
       "1 580    \n",
       "2 172    \n",
       "3 295    \n",
       "4 414    \n",
       "5 905    \n",
       "6   0    "
      ]
     },
     "metadata": {},
     "output_type": "display_data"
    }
   ],
   "source": [
    "head(datanew)"
   ]
  },
  {
   "cell_type": "markdown",
   "metadata": {},
   "source": [
    "**Exploring the \"datanew\"**"
   ]
  },
  {
   "cell_type": "code",
   "execution_count": 4,
   "metadata": {},
   "outputs": [
    {
     "name": "stdout",
     "output_type": "stream",
     "text": [
      "'data.frame':\t100 obs. of  10 variables:\n",
      " $ Income   : num  21.8 31.3 59.9 44.1 82.7 ...\n",
      " $ Rating   : int  355 289 365 352 536 165 287 298 332 494 ...\n",
      " $ Cards    : int  1 3 1 1 2 2 3 3 2 3 ...\n",
      " $ Age      : int  50 38 46 79 64 50 80 41 33 34 ...\n",
      " $ Education: int  17 7 13 11 13 14 8 14 6 18 ...\n",
      " $ Gender   : Factor w/ 2 levels \" Male\",\"Female\": 1 2 2 1 2 2 1 2 1 2 ...\n",
      " $ Student  : Factor w/ 2 levels \"No\",\"Yes\": 1 1 1 1 1 1 1 1 1 1 ...\n",
      " $ Married  : Factor w/ 2 levels \"No\",\"Yes\": 2 1 2 2 2 2 2 2 1 2 ...\n",
      " $ Ethnicity: Factor w/ 3 levels \"African American\",..: 3 3 3 1 2 2 3 2 2 3 ...\n",
      " $ Balance  : int  580 172 295 414 905 0 70 0 681 885 ...\n"
     ]
    }
   ],
   "source": [
    "str(datanew)"
   ]
  },
  {
   "cell_type": "code",
   "execution_count": 5,
   "metadata": {},
   "outputs": [
    {
     "data": {
      "text/plain": [
       "     Income           Rating          Cards           Age       \n",
       " Min.   : 10.73   Min.   :112.0   Min.   :1.00   Min.   :23.00  \n",
       " 1st Qu.: 21.00   1st Qu.:282.0   1st Qu.:2.00   1st Qu.:44.00  \n",
       " Median : 33.27   Median :363.0   Median :3.00   Median :57.50  \n",
       " Mean   : 48.71   Mean   :375.4   Mean   :2.75   Mean   :57.72  \n",
       " 3rd Qu.: 61.80   3rd Qu.:448.0   3rd Qu.:3.00   3rd Qu.:71.00  \n",
       " Max.   :182.73   Max.   :982.0   Max.   :9.00   Max.   :98.00  \n",
       "   Education        Gender   Student  Married             Ethnicity \n",
       " Min.   : 6.00    Male :61   No :92   No :38   African American:21  \n",
       " 1st Qu.:11.00   Female:39   Yes: 8   Yes:62   Asian           :21  \n",
       " Median :14.00                                 Caucasian       :58  \n",
       " Mean   :13.62                                                      \n",
       " 3rd Qu.:16.00                                                      \n",
       " Max.   :19.00                                                      \n",
       "    Balance    \n",
       " Min.   :   0  \n",
       " 1st Qu.: 191  \n",
       " Median : 579  \n",
       " Mean   : 572  \n",
       " 3rd Qu.: 890  \n",
       " Max.   :1999  "
      ]
     },
     "metadata": {},
     "output_type": "display_data"
    }
   ],
   "source": [
    "summary(datanew)"
   ]
  },
  {
   "cell_type": "markdown",
   "metadata": {},
   "source": [
    " The income range is from $10,730 to $182,730. The rating range is from 112 to 982, with a 375 average."
   ]
  },
  {
   "cell_type": "markdown",
   "metadata": {},
   "source": [
    "### Linear Regression Model"
   ]
  },
  {
   "cell_type": "markdown",
   "metadata": {},
   "source": [
    "Let's build a linear regression model for the Rating, using the old dataset (i.e., training dataset):"
   ]
  },
  {
   "cell_type": "code",
   "execution_count": 7,
   "metadata": {},
   "outputs": [
    {
     "data": {
      "text/plain": [
       "\n",
       "Call:\n",
       "lm(formula = Rating ~ ., data = dataold)\n",
       "\n",
       "Residuals:\n",
       "    Min      1Q  Median      3Q     Max \n",
       "-81.316 -10.820   4.875  16.588  43.501 \n",
       "\n",
       "Coefficients:\n",
       "                     Estimate Std. Error t value Pr(>|t|)    \n",
       "(Intercept)        140.881377   9.666167  14.575   <2e-16 ***\n",
       "Income               2.094703   0.048118  43.533   <2e-16 ***\n",
       "Cards               -0.762853   1.079874  -0.706   0.4805    \n",
       "Age                  0.144603   0.085872   1.684   0.0933 .  \n",
       "Education            0.179388   0.473743   0.379   0.7052    \n",
       "GenderFemale         1.770375   2.917842   0.607   0.5445    \n",
       "StudentYes         -98.804778   4.959789 -19.921   <2e-16 ***\n",
       "MarriedYes           3.176873   3.005535   1.057   0.2914    \n",
       "EthnicityAsian      -4.428289   4.006859  -1.105   0.2700    \n",
       "EthnicityCaucasian  -1.250612   3.533864  -0.354   0.7237    \n",
       "Balance              0.231363   0.003661  63.189   <2e-16 ***\n",
       "---\n",
       "Signif. codes:  0 '***' 0.001 '**' 0.01 '*' 0.05 '.' 0.1 ' ' 1\n",
       "\n",
       "Residual standard error: 24.91 on 289 degrees of freedom\n",
       "Multiple R-squared:  0.9736,\tAdjusted R-squared:  0.9727 \n",
       "F-statistic:  1067 on 10 and 289 DF,  p-value: < 2.2e-16\n"
      ]
     },
     "metadata": {},
     "output_type": "display_data"
    }
   ],
   "source": [
    "# Estimate a linear Regression Model of Rating (dependent variable) as a function of everything else (independent variables).\n",
    "linreg <- lm(Rating ~ .,data=dataold) \n",
    "\n",
    "# Summary of our Linear Regression Model\n",
    "summary(linreg) "
   ]
  },
  {
   "cell_type": "markdown",
   "metadata": {},
   "source": [
    "We can improve the model take out the variables with less impact in model (e.g. EthnicityCaucasian), but accurace 97% is good enough for our propose here. We can now test the model with the new dataset (test dataset):"
   ]
  },
  {
   "cell_type": "code",
   "execution_count": 8,
   "metadata": {},
   "outputs": [
    {
     "data": {
      "text/html": [
       "<style>\n",
       ".dl-inline {width: auto; margin:0; padding: 0}\n",
       ".dl-inline>dt, .dl-inline>dd {float: none; width: auto; display: inline-block}\n",
       ".dl-inline>dt::after {content: \":\\0020\"; padding-right: .5ex}\n",
       ".dl-inline>dt:not(:first-of-type) {padding-left: .5ex}\n",
       "</style><dl class=dl-inline><dt>1</dt><dd>332.150462051175</dd><dt>2</dt><dd>251.295224798481</dd><dt>3</dt><dd>346.429573341772</dd><dt>4</dt><dd>344.771434552394</dd><dt>5</dt><dd>534.089587399275</dd><dt>6</dt><dd>200.85264951252</dd></dl>\n"
      ],
      "text/latex": [
       "\\begin{description*}\n",
       "\\item[1] 332.150462051175\n",
       "\\item[2] 251.295224798481\n",
       "\\item[3] 346.429573341772\n",
       "\\item[4] 344.771434552394\n",
       "\\item[5] 534.089587399275\n",
       "\\item[6] 200.85264951252\n",
       "\\end{description*}\n"
      ],
      "text/markdown": [
       "1\n",
       ":   332.1504620511752\n",
       ":   251.2952247984813\n",
       ":   346.4295733417724\n",
       ":   344.7714345523945\n",
       ":   534.0895873992756\n",
       ":   200.85264951252\n",
       "\n"
      ],
      "text/plain": [
       "       1        2        3        4        5        6 \n",
       "332.1505 251.2952 346.4296 344.7714 534.0896 200.8526 "
      ]
     },
     "metadata": {},
     "output_type": "display_data"
    }
   ],
   "source": [
    "predcreditscore <- predict(linreg, newdata=datanew, type=\"response\") \n",
    "head(predcreditscore)"
   ]
  },
  {
   "cell_type": "markdown",
   "metadata": {},
   "source": [
    "What the predict function has done is to predict a credit score for everyone of 100 new observations (newdata). \n",
    "\n",
    "Let's see now how the model performs on the old dataset by looking at the correlation coefficient between the fitted values and the actual values:"
   ]
  },
  {
   "cell_type": "code",
   "execution_count": 9,
   "metadata": {},
   "outputs": [
    {
     "data": {
      "text/html": [
       "0.986732415714666"
      ],
      "text/latex": [
       "0.986732415714666"
      ],
      "text/markdown": [
       "0.986732415714666"
      ],
      "text/plain": [
       "[1] 0.9867324"
      ]
     },
     "metadata": {},
     "output_type": "display_data"
    }
   ],
   "source": [
    "# Computes the correlation between the fitted values and the actual ones\n",
    "cor(linreg$fitted.values,dataold$Rating)"
   ]
  },
  {
   "cell_type": "code",
   "execution_count": 11,
   "metadata": {},
   "outputs": [
    {
     "data": {
      "image/png": "[encoded data removed]",
      "text/plain": [
       "Plot with title \"Old Data Rating X Linear Regression\""
      ]
     },
     "metadata": {
      "image/png": {
       "height": 420,
       "width": 420
      },
      "text/plain": {
       "height": 420,
       "width": 420
      }
     },
     "output_type": "display_data"
    }
   ],
   "source": [
    "# Plot the fitted values vs. the actual ones\n",
    "plot(dataold$Rating,linreg$fitted.values, main = \"Old Data Rating X Linear Regression\")"
   ]
  },
  {
   "cell_type": "markdown",
   "metadata": {},
   "source": [
    "The correlation coefficient is 0.986. The model fits the data pretty well."
   ]
  },
  {
   "cell_type": "markdown",
   "metadata": {},
   "source": [
    "Now, let's see now how the model performs on the new dataset by looking at the correlation coefficient between the predicted values and the actual values:"
   ]
  },
  {
   "cell_type": "code",
   "execution_count": 12,
   "metadata": {},
   "outputs": [
    {
     "data": {
      "text/html": [
       "0.988097040111215"
      ],
      "text/latex": [
       "0.988097040111215"
      ],
      "text/markdown": [
       "0.988097040111215"
      ],
      "text/plain": [
       "[1] 0.988097"
      ]
     },
     "metadata": {},
     "output_type": "display_data"
    }
   ],
   "source": [
    "# Computes the correlation between the fitted values and the actual ones\n",
    "cor(predcreditscore,datanew$Rating)"
   ]
  },
  {
   "cell_type": "code",
   "execution_count": 14,
   "metadata": {},
   "outputs": [
    {
     "data": {
      "image/png": "[encoded data removed]",
      "text/plain": [
       "Plot with title \"New Data Rating X Prediction\""
      ]
     },
     "metadata": {
      "image/png": {
       "height": 420,
       "width": 420
      },
      "text/plain": {
       "height": 420,
       "width": 420
      }
     },
     "output_type": "display_data"
    }
   ],
   "source": [
    "# Plot the fitted values vs. the actual ones\n",
    "plot(datanew$Rating,predcreditscore, main = \"New Data Rating X Prediction\")"
   ]
  },
  {
   "cell_type": "markdown",
   "metadata": {},
   "source": [
    "The correlation coefficient is 0.988. The model does a good job on predicting new values."
   ]
  }
 ],
 "metadata": {
  "kernelspec": {
   "display_name": "R",
   "language": "R",
   "name": "ir"
  },
  "language_info": {
   "codemirror_mode": "r",
   "file_extension": ".r",
   "mimetype": "text/x-r-source",
   "name": "R",
   "pygments_lexer": "r",
   "version": "3.6.3"
  }
 },
 "nbformat": 4,
 "nbformat_minor": 4
}
