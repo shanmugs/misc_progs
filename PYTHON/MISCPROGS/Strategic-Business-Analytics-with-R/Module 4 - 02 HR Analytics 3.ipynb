{
 "cells": [
  {
   "cell_type": "markdown",
   "metadata": {},
   "source": [
    "# Human Ressources Analytics 3"
   ]
  },
  {
   "cell_type": "markdown",
   "metadata": {},
   "source": [
    "**Loading csv files**"
   ]
  },
  {
   "cell_type": "code",
   "execution_count": 1,
   "metadata": {},
   "outputs": [],
   "source": [
    "dataold <- read.csv(\"data/DATA_3.02_HR2.csv\") # training dataset\n",
    "datanew <- read.csv(\"data/DATA_4.02_HR3.csv\") # test dataset"
   ]
  },
  {
   "cell_type": "code",
   "execution_count": 2,
   "metadata": {},
   "outputs": [
    {
     "data": {
      "text/html": [
       "<table>\n",
       "<caption>A data.frame: 6 × 7</caption>\n",
       "<thead>\n",
       "\t<tr><th></th><th scope=col>S</th><th scope=col>LPE</th><th scope=col>NP</th><th scope=col>ANH</th><th scope=col>TIC</th><th scope=col>Newborn</th><th scope=col>left</th></tr>\n",
       "\t<tr><th></th><th scope=col>&lt;dbl&gt;</th><th scope=col>&lt;dbl&gt;</th><th scope=col>&lt;int&gt;</th><th scope=col>&lt;int&gt;</th><th scope=col>&lt;int&gt;</th><th scope=col>&lt;int&gt;</th><th scope=col>&lt;int&gt;</th></tr>\n",
       "</thead>\n",
       "<tbody>\n",
       "\t<tr><th scope=row>1</th><td>0.38</td><td>0.53</td><td>2</td><td>157</td><td>3</td><td>0</td><td>1</td></tr>\n",
       "\t<tr><th scope=row>2</th><td>0.80</td><td>0.86</td><td>5</td><td>262</td><td>6</td><td>0</td><td>1</td></tr>\n",
       "\t<tr><th scope=row>3</th><td>0.11</td><td>0.88</td><td>7</td><td>272</td><td>4</td><td>0</td><td>1</td></tr>\n",
       "\t<tr><th scope=row>4</th><td>0.72</td><td>0.87</td><td>5</td><td>223</td><td>5</td><td>0</td><td>1</td></tr>\n",
       "\t<tr><th scope=row>5</th><td>0.37</td><td>0.52</td><td>2</td><td>159</td><td>3</td><td>0</td><td>1</td></tr>\n",
       "\t<tr><th scope=row>6</th><td>0.41</td><td>0.50</td><td>2</td><td>153</td><td>3</td><td>0</td><td>1</td></tr>\n",
       "</tbody>\n",
       "</table>\n"
      ],
      "text/latex": [
       "A data.frame: 6 × 7\n",
       "\\begin{tabular}{r|lllllll}\n",
       "  & S & LPE & NP & ANH & TIC & Newborn & left\\\\\n",
       "  & <dbl> & <dbl> & <int> & <int> & <int> & <int> & <int>\\\\\n",
       "\\hline\n",
       "\t1 & 0.38 & 0.53 & 2 & 157 & 3 & 0 & 1\\\\\n",
       "\t2 & 0.80 & 0.86 & 5 & 262 & 6 & 0 & 1\\\\\n",
       "\t3 & 0.11 & 0.88 & 7 & 272 & 4 & 0 & 1\\\\\n",
       "\t4 & 0.72 & 0.87 & 5 & 223 & 5 & 0 & 1\\\\\n",
       "\t5 & 0.37 & 0.52 & 2 & 159 & 3 & 0 & 1\\\\\n",
       "\t6 & 0.41 & 0.50 & 2 & 153 & 3 & 0 & 1\\\\\n",
       "\\end{tabular}\n"
      ],
      "text/markdown": [
       "\n",
       "A data.frame: 6 × 7\n",
       "\n",
       "| <!--/--> | S &lt;dbl&gt; | LPE &lt;dbl&gt; | NP &lt;int&gt; | ANH &lt;int&gt; | TIC &lt;int&gt; | Newborn &lt;int&gt; | left &lt;int&gt; |\n",
       "|---|---|---|---|---|---|---|---|\n",
       "| 1 | 0.38 | 0.53 | 2 | 157 | 3 | 0 | 1 |\n",
       "| 2 | 0.80 | 0.86 | 5 | 262 | 6 | 0 | 1 |\n",
       "| 3 | 0.11 | 0.88 | 7 | 272 | 4 | 0 | 1 |\n",
       "| 4 | 0.72 | 0.87 | 5 | 223 | 5 | 0 | 1 |\n",
       "| 5 | 0.37 | 0.52 | 2 | 159 | 3 | 0 | 1 |\n",
       "| 6 | 0.41 | 0.50 | 2 | 153 | 3 | 0 | 1 |\n",
       "\n"
      ],
      "text/plain": [
       "  S    LPE  NP ANH TIC Newborn left\n",
       "1 0.38 0.53 2  157 3   0       1   \n",
       "2 0.80 0.86 5  262 6   0       1   \n",
       "3 0.11 0.88 7  272 4   0       1   \n",
       "4 0.72 0.87 5  223 5   0       1   \n",
       "5 0.37 0.52 2  159 3   0       1   \n",
       "6 0.41 0.50 2  153 3   0       1   "
      ]
     },
     "metadata": {},
     "output_type": "display_data"
    }
   ],
   "source": [
    "head(dataold)"
   ]
  },
  {
   "cell_type": "code",
   "execution_count": 3,
   "metadata": {},
   "outputs": [
    {
     "data": {
      "text/html": [
       "<table>\n",
       "<caption>A data.frame: 6 × 6</caption>\n",
       "<thead>\n",
       "\t<tr><th></th><th scope=col>S</th><th scope=col>LPE</th><th scope=col>NP</th><th scope=col>ANH</th><th scope=col>TIC</th><th scope=col>Newborn</th></tr>\n",
       "\t<tr><th></th><th scope=col>&lt;dbl&gt;</th><th scope=col>&lt;dbl&gt;</th><th scope=col>&lt;int&gt;</th><th scope=col>&lt;int&gt;</th><th scope=col>&lt;int&gt;</th><th scope=col>&lt;int&gt;</th></tr>\n",
       "</thead>\n",
       "<tbody>\n",
       "\t<tr><th scope=row>1</th><td>0.86</td><td>0.69</td><td>4</td><td>105</td><td>4</td><td>1</td></tr>\n",
       "\t<tr><th scope=row>2</th><td>0.52</td><td>0.98</td><td>4</td><td>209</td><td>2</td><td>0</td></tr>\n",
       "\t<tr><th scope=row>3</th><td>0.84</td><td>0.60</td><td>5</td><td>207</td><td>2</td><td>0</td></tr>\n",
       "\t<tr><th scope=row>4</th><td>0.60</td><td>0.65</td><td>3</td><td>143</td><td>2</td><td>1</td></tr>\n",
       "\t<tr><th scope=row>5</th><td>0.85</td><td>0.57</td><td>3</td><td>227</td><td>2</td><td>0</td></tr>\n",
       "\t<tr><th scope=row>6</th><td>0.82</td><td>0.61</td><td>4</td><td>246</td><td>3</td><td>0</td></tr>\n",
       "</tbody>\n",
       "</table>\n"
      ],
      "text/latex": [
       "A data.frame: 6 × 6\n",
       "\\begin{tabular}{r|llllll}\n",
       "  & S & LPE & NP & ANH & TIC & Newborn\\\\\n",
       "  & <dbl> & <dbl> & <int> & <int> & <int> & <int>\\\\\n",
       "\\hline\n",
       "\t1 & 0.86 & 0.69 & 4 & 105 & 4 & 1\\\\\n",
       "\t2 & 0.52 & 0.98 & 4 & 209 & 2 & 0\\\\\n",
       "\t3 & 0.84 & 0.60 & 5 & 207 & 2 & 0\\\\\n",
       "\t4 & 0.60 & 0.65 & 3 & 143 & 2 & 1\\\\\n",
       "\t5 & 0.85 & 0.57 & 3 & 227 & 2 & 0\\\\\n",
       "\t6 & 0.82 & 0.61 & 4 & 246 & 3 & 0\\\\\n",
       "\\end{tabular}\n"
      ],
      "text/markdown": [
       "\n",
       "A data.frame: 6 × 6\n",
       "\n",
       "| <!--/--> | S &lt;dbl&gt; | LPE &lt;dbl&gt; | NP &lt;int&gt; | ANH &lt;int&gt; | TIC &lt;int&gt; | Newborn &lt;int&gt; |\n",
       "|---|---|---|---|---|---|---|\n",
       "| 1 | 0.86 | 0.69 | 4 | 105 | 4 | 1 |\n",
       "| 2 | 0.52 | 0.98 | 4 | 209 | 2 | 0 |\n",
       "| 3 | 0.84 | 0.60 | 5 | 207 | 2 | 0 |\n",
       "| 4 | 0.60 | 0.65 | 3 | 143 | 2 | 1 |\n",
       "| 5 | 0.85 | 0.57 | 3 | 227 | 2 | 0 |\n",
       "| 6 | 0.82 | 0.61 | 4 | 246 | 3 | 0 |\n",
       "\n"
      ],
      "text/plain": [
       "  S    LPE  NP ANH TIC Newborn\n",
       "1 0.86 0.69 4  105 4   1      \n",
       "2 0.52 0.98 4  209 2   0      \n",
       "3 0.84 0.60 5  207 2   0      \n",
       "4 0.60 0.65 3  143 2   1      \n",
       "5 0.85 0.57 3  227 2   0      \n",
       "6 0.82 0.61 4  246 3   0      "
      ]
     },
     "metadata": {},
     "output_type": "display_data"
    }
   ],
   "source": [
    "head(datanew)"
   ]
  },
  {
   "cell_type": "markdown",
   "metadata": {},
   "source": [
    "**Exploring the \"datanew\"**"
   ]
  },
  {
   "cell_type": "code",
   "execution_count": 4,
   "metadata": {},
   "outputs": [
    {
     "name": "stdout",
     "output_type": "stream",
     "text": [
      "'data.frame':\t1000 obs. of  6 variables:\n",
      " $ S      : num  0.86 0.52 0.84 0.6 0.85 0.82 0.62 0.69 0.88 0.36 ...\n",
      " $ LPE    : num  0.69 0.98 0.6 0.65 0.57 0.61 0.53 0.8 0.68 0.65 ...\n",
      " $ NP     : int  4 4 5 3 3 4 3 3 5 5 ...\n",
      " $ ANH    : int  105 209 207 143 227 246 128 219 236 119 ...\n",
      " $ TIC    : int  4 2 2 2 2 3 4 3 3 5 ...\n",
      " $ Newborn: int  1 0 0 1 0 0 0 1 0 0 ...\n"
     ]
    }
   ],
   "source": [
    "str(datanew)"
   ]
  },
  {
   "cell_type": "code",
   "execution_count": 5,
   "metadata": {},
   "outputs": [
    {
     "data": {
      "text/plain": [
       "       S               LPE               NP             ANH       \n",
       " Min.   :0.1200   Min.   :0.3600   Min.   :2.000   Min.   : 96.0  \n",
       " 1st Qu.:0.5300   1st Qu.:0.5900   1st Qu.:3.000   1st Qu.:160.0  \n",
       " Median :0.6800   Median :0.7200   Median :4.000   Median :201.0  \n",
       " Mean   :0.6626   Mean   :0.7193   Mean   :3.781   Mean   :200.2  \n",
       " 3rd Qu.:0.8500   3rd Qu.:0.8600   3rd Qu.:4.000   3rd Qu.:241.0  \n",
       " Max.   :1.0000   Max.   :1.0000   Max.   :6.000   Max.   :287.0  \n",
       "      TIC           Newborn     \n",
       " Min.   :2.000   Min.   :0.000  \n",
       " 1st Qu.:2.000   1st Qu.:0.000  \n",
       " Median :3.000   Median :0.000  \n",
       " Mean   :3.103   Mean   :0.197  \n",
       " 3rd Qu.:4.000   3rd Qu.:0.000  \n",
       " Max.   :6.000   Max.   :1.000  "
      ]
     },
     "metadata": {},
     "output_type": "display_data"
    }
   ],
   "source": [
    "summary(datanew)"
   ]
  },
  {
   "cell_type": "markdown",
   "metadata": {},
   "source": [
    "There are 1,000 employees in the new dataset. An employee is working 200 hours/month on average. They have spent 3.1 year in the company on average."
   ]
  },
  {
   "cell_type": "markdown",
   "metadata": {},
   "source": [
    "### Logistic Regression Model"
   ]
  },
  {
   "cell_type": "markdown",
   "metadata": {},
   "source": [
    "Let's build a logistic regression model, in order to estimate the probability of leaving ('left') based on the other variables of the old dataset:"
   ]
  },
  {
   "cell_type": "code",
   "execution_count": 6,
   "metadata": {},
   "outputs": [
    {
     "data": {
      "text/plain": [
       "\n",
       "Call:\n",
       "glm(formula = left ~ ., family = binomial(logit), data = dataold)\n",
       "\n",
       "Deviance Residuals: \n",
       "    Min       1Q   Median       3Q      Max  \n",
       "-2.1727  -0.5410  -0.3535  -0.1994   3.0949  \n",
       "\n",
       "Coefficients:\n",
       "              Estimate Std. Error z value Pr(>|z|)    \n",
       "(Intercept) -1.2412448  0.1601334  -7.751 9.09e-15 ***\n",
       "S           -3.8163201  0.1207448 -31.607  < 2e-16 ***\n",
       "LPE          0.5044011  0.1809102   2.788   0.0053 ** \n",
       "NP          -0.3591952  0.0264709 -13.569  < 2e-16 ***\n",
       "ANH          0.0037840  0.0006237   6.067 1.30e-09 ***\n",
       "TIC          0.6187913  0.0271161  22.820  < 2e-16 ***\n",
       "Newborn     -1.4851023  0.1128772 -13.157  < 2e-16 ***\n",
       "---\n",
       "Signif. codes:  0 '***' 0.001 '**' 0.01 '*' 0.05 '.' 0.1 ' ' 1\n",
       "\n",
       "(Dispersion parameter for binomial family taken to be 1)\n",
       "\n",
       "    Null deviance: 10813.5  on 11999  degrees of freedom\n",
       "Residual deviance:  8508.9  on 11993  degrees of freedom\n",
       "AIC: 8522.9\n",
       "\n",
       "Number of Fisher Scoring iterations: 6\n"
      ]
     },
     "metadata": {},
     "output_type": "display_data"
    }
   ],
   "source": [
    "# Estimate the drivers of attrition \n",
    "logreg <- glm(left ~ ., family=binomial(logit), data=dataold)\n",
    "\n",
    "# Summary of our Linear Regression Model\n",
    "summary(logreg) "
   ]
  },
  {
   "cell_type": "markdown",
   "metadata": {},
   "source": [
    "Then we use the fitted model and make predictions on the new dataset:"
   ]
  },
  {
   "cell_type": "code",
   "execution_count": 7,
   "metadata": {},
   "outputs": [
    {
     "data": {
      "text/html": [
       "<table>\n",
       "<caption>A data.frame: 6 × 1</caption>\n",
       "<thead>\n",
       "\t<tr><th></th><th scope=col>probaToLeave</th></tr>\n",
       "\t<tr><th></th><th scope=col>&lt;dbl&gt;</th></tr>\n",
       "</thead>\n",
       "<tbody>\n",
       "\t<tr><th scope=row>1</th><td>0.01441962</td></tr>\n",
       "\t<tr><th scope=row>2</th><td>0.10529195</td></tr>\n",
       "\t<tr><th scope=row>3</th><td>0.01946618</td></tr>\n",
       "\t<tr><th scope=row>4</th><td>0.01821424</td></tr>\n",
       "\t<tr><th scope=row>5</th><td>0.03997737</td></tr>\n",
       "\t<tr><th scope=row>6</th><td>0.06224061</td></tr>\n",
       "</tbody>\n",
       "</table>\n"
      ],
      "text/latex": [
       "A data.frame: 6 × 1\n",
       "\\begin{tabular}{r|l}\n",
       "  & probaToLeave\\\\\n",
       "  & <dbl>\\\\\n",
       "\\hline\n",
       "\t1 & 0.01441962\\\\\n",
       "\t2 & 0.10529195\\\\\n",
       "\t3 & 0.01946618\\\\\n",
       "\t4 & 0.01821424\\\\\n",
       "\t5 & 0.03997737\\\\\n",
       "\t6 & 0.06224061\\\\\n",
       "\\end{tabular}\n"
      ],
      "text/markdown": [
       "\n",
       "A data.frame: 6 × 1\n",
       "\n",
       "| <!--/--> | probaToLeave &lt;dbl&gt; |\n",
       "|---|---|\n",
       "| 1 | 0.01441962 |\n",
       "| 2 | 0.10529195 |\n",
       "| 3 | 0.01946618 |\n",
       "| 4 | 0.01821424 |\n",
       "| 5 | 0.03997737 |\n",
       "| 6 | 0.06224061 |\n",
       "\n"
      ],
      "text/plain": [
       "  probaToLeave\n",
       "1 0.01441962  \n",
       "2 0.10529195  \n",
       "3 0.01946618  \n",
       "4 0.01821424  \n",
       "5 0.03997737  \n",
       "6 0.06224061  "
      ]
     },
     "metadata": {},
     "output_type": "display_data"
    }
   ],
   "source": [
    "probaToLeave <- predict(logreg,newdata=datanew,type=\"response\")\n",
    "\n",
    "# Structure the prediction output in a dataframe\n",
    "predattrition <- data.frame(probaToLeave)\n",
    "\n",
    "head(predattrition)"
   ]
  },
  {
   "cell_type": "code",
   "execution_count": 8,
   "metadata": {},
   "outputs": [
    {
     "data": {
      "text/html": [
       "<table>\n",
       "<caption>A data.frame: 6 × 2</caption>\n",
       "<thead>\n",
       "\t<tr><th></th><th scope=col>probaToLeave</th><th scope=col>performance</th></tr>\n",
       "\t<tr><th></th><th scope=col>&lt;dbl&gt;</th><th scope=col>&lt;dbl&gt;</th></tr>\n",
       "</thead>\n",
       "<tbody>\n",
       "\t<tr><th scope=row>1</th><td>0.01441962</td><td>0.69</td></tr>\n",
       "\t<tr><th scope=row>2</th><td>0.10529195</td><td>0.98</td></tr>\n",
       "\t<tr><th scope=row>3</th><td>0.01946618</td><td>0.60</td></tr>\n",
       "\t<tr><th scope=row>4</th><td>0.01821424</td><td>0.65</td></tr>\n",
       "\t<tr><th scope=row>5</th><td>0.03997737</td><td>0.57</td></tr>\n",
       "\t<tr><th scope=row>6</th><td>0.06224061</td><td>0.61</td></tr>\n",
       "</tbody>\n",
       "</table>\n"
      ],
      "text/latex": [
       "A data.frame: 6 × 2\n",
       "\\begin{tabular}{r|ll}\n",
       "  & probaToLeave & performance\\\\\n",
       "  & <dbl> & <dbl>\\\\\n",
       "\\hline\n",
       "\t1 & 0.01441962 & 0.69\\\\\n",
       "\t2 & 0.10529195 & 0.98\\\\\n",
       "\t3 & 0.01946618 & 0.60\\\\\n",
       "\t4 & 0.01821424 & 0.65\\\\\n",
       "\t5 & 0.03997737 & 0.57\\\\\n",
       "\t6 & 0.06224061 & 0.61\\\\\n",
       "\\end{tabular}\n"
      ],
      "text/markdown": [
       "\n",
       "A data.frame: 6 × 2\n",
       "\n",
       "| <!--/--> | probaToLeave &lt;dbl&gt; | performance &lt;dbl&gt; |\n",
       "|---|---|---|\n",
       "| 1 | 0.01441962 | 0.69 |\n",
       "| 2 | 0.10529195 | 0.98 |\n",
       "| 3 | 0.01946618 | 0.60 |\n",
       "| 4 | 0.01821424 | 0.65 |\n",
       "| 5 | 0.03997737 | 0.57 |\n",
       "| 6 | 0.06224061 | 0.61 |\n",
       "\n"
      ],
      "text/plain": [
       "  probaToLeave performance\n",
       "1 0.01441962   0.69       \n",
       "2 0.10529195   0.98       \n",
       "3 0.01946618   0.60       \n",
       "4 0.01821424   0.65       \n",
       "5 0.03997737   0.57       \n",
       "6 0.06224061   0.61       "
      ]
     },
     "metadata": {},
     "output_type": "display_data"
    }
   ],
   "source": [
    "# Add a column to the predattrition dataframe containing the performance\n",
    "predattrition$performance <- datanew$LPE\n",
    "head(predattrition) "
   ]
  },
  {
   "cell_type": "code",
   "execution_count": 9,
   "metadata": {},
   "outputs": [
    {
     "data": {
      "image/png": "[encoded data removed]",
      "text/plain": [
       "Plot with title \"Probability to Leave X Prediction Performance\""
      ]
     },
     "metadata": {
      "image/png": {
       "height": 420,
       "width": 420
      },
      "text/plain": {
       "height": 420,
       "width": 420
      }
     },
     "output_type": "display_data"
    }
   ],
   "source": [
    "plot(predattrition$probaToLeave,predattrition$performance, main = \"Probability to Leave X Prediction Performance\")"
   ]
  },
  {
   "cell_type": "code",
   "execution_count": 10,
   "metadata": {},
   "outputs": [],
   "source": [
    "library(ggplot2)"
   ]
  },
  {
   "cell_type": "code",
   "execution_count": 11,
   "metadata": {},
   "outputs": [
    {
     "data": {
      "image/png": "[encoded data removed]",
      "text/plain": [
       "plot without title"
      ]
     },
     "metadata": {
      "image/png": {
       "height": 420,
       "width": 420
      },
      "text/plain": {
       "height": 420,
       "width": 420
      }
     },
     "output_type": "display_data"
    }
   ],
   "source": [
    "ggplot(data=predattrition, aes(x=probaToLeave,y=performance)) + \n",
    "  geom_point(colour = \"black\", fill = \"orange\", shape = 21) +  # shape 21 has a border \n",
    "  xlab(\"Probability to leave\") +\n",
    "  ylab(\"Performance\") +\n",
    "  ggtitle(\"Performance and Employee Attrition\") +\n",
    "  geom_vline(xintercept = 0.39, color='red') +\n",
    "  geom_hline(yintercept = 0.53, color='red') +\n",
    "  annotate(\"text\", x = 0.27, y = 0.76, label = \"As usual\", color='red') +\n",
    "  annotate(\"text\", x = 0.4, y = 0.47, label = \"Up or out\", color='red') +\n",
    "  annotate(\"text\", x = 0.72, y = 0.76, label = \"To be retained\", color='red')"
   ]
  },
  {
   "cell_type": "markdown",
   "metadata": {},
   "source": [
    "Employees that should be retained are those with high performance and high likelyhood to leave. Actions should be targeted towards this people.\n",
    "\n",
    "We can define a priority score ('priority'), as performance x probability to leave:"
   ]
  },
  {
   "cell_type": "code",
   "execution_count": 12,
   "metadata": {},
   "outputs": [
    {
     "data": {
      "text/html": [
       "<table>\n",
       "<caption>A data.frame: 6 × 3</caption>\n",
       "<thead>\n",
       "\t<tr><th></th><th scope=col>probaToLeave</th><th scope=col>performance</th><th scope=col>priority</th></tr>\n",
       "\t<tr><th></th><th scope=col>&lt;dbl&gt;</th><th scope=col>&lt;dbl&gt;</th><th scope=col>&lt;dbl&gt;</th></tr>\n",
       "</thead>\n",
       "<tbody>\n",
       "\t<tr><th scope=row>1</th><td>0.01441962</td><td>0.69</td><td>0.009949535</td></tr>\n",
       "\t<tr><th scope=row>2</th><td>0.10529195</td><td>0.98</td><td>0.103186110</td></tr>\n",
       "\t<tr><th scope=row>3</th><td>0.01946618</td><td>0.60</td><td>0.011679708</td></tr>\n",
       "\t<tr><th scope=row>4</th><td>0.01821424</td><td>0.65</td><td>0.011839255</td></tr>\n",
       "\t<tr><th scope=row>5</th><td>0.03997737</td><td>0.57</td><td>0.022787099</td></tr>\n",
       "\t<tr><th scope=row>6</th><td>0.06224061</td><td>0.61</td><td>0.037966774</td></tr>\n",
       "</tbody>\n",
       "</table>\n"
      ],
      "text/latex": [
       "A data.frame: 6 × 3\n",
       "\\begin{tabular}{r|lll}\n",
       "  & probaToLeave & performance & priority\\\\\n",
       "  & <dbl> & <dbl> & <dbl>\\\\\n",
       "\\hline\n",
       "\t1 & 0.01441962 & 0.69 & 0.009949535\\\\\n",
       "\t2 & 0.10529195 & 0.98 & 0.103186110\\\\\n",
       "\t3 & 0.01946618 & 0.60 & 0.011679708\\\\\n",
       "\t4 & 0.01821424 & 0.65 & 0.011839255\\\\\n",
       "\t5 & 0.03997737 & 0.57 & 0.022787099\\\\\n",
       "\t6 & 0.06224061 & 0.61 & 0.037966774\\\\\n",
       "\\end{tabular}\n"
      ],
      "text/markdown": [
       "\n",
       "A data.frame: 6 × 3\n",
       "\n",
       "| <!--/--> | probaToLeave &lt;dbl&gt; | performance &lt;dbl&gt; | priority &lt;dbl&gt; |\n",
       "|---|---|---|---|\n",
       "| 1 | 0.01441962 | 0.69 | 0.009949535 |\n",
       "| 2 | 0.10529195 | 0.98 | 0.103186110 |\n",
       "| 3 | 0.01946618 | 0.60 | 0.011679708 |\n",
       "| 4 | 0.01821424 | 0.65 | 0.011839255 |\n",
       "| 5 | 0.03997737 | 0.57 | 0.022787099 |\n",
       "| 6 | 0.06224061 | 0.61 | 0.037966774 |\n",
       "\n"
      ],
      "text/plain": [
       "  probaToLeave performance priority   \n",
       "1 0.01441962   0.69        0.009949535\n",
       "2 0.10529195   0.98        0.103186110\n",
       "3 0.01946618   0.60        0.011679708\n",
       "4 0.01821424   0.65        0.011839255\n",
       "5 0.03997737   0.57        0.022787099\n",
       "6 0.06224061   0.61        0.037966774"
      ]
     },
     "metadata": {},
     "output_type": "display_data"
    }
   ],
   "source": [
    "predattrition$priority <- predattrition$performance * predattrition$probaToLeave\n",
    "head(predattrition)"
   ]
  },
  {
   "cell_type": "markdown",
   "metadata": {},
   "source": [
    "And then we rank the employees who should be retained by decreasing priority score:"
   ]
  },
  {
   "cell_type": "code",
   "execution_count": 13,
   "metadata": {},
   "outputs": [
    {
     "data": {
      "text/html": [
       "<table>\n",
       "<caption>A data.frame: 6 × 3</caption>\n",
       "<thead>\n",
       "\t<tr><th></th><th scope=col>probaToLeave</th><th scope=col>performance</th><th scope=col>priority</th></tr>\n",
       "\t<tr><th></th><th scope=col>&lt;dbl&gt;</th><th scope=col>&lt;dbl&gt;</th><th scope=col>&lt;dbl&gt;</th></tr>\n",
       "</thead>\n",
       "<tbody>\n",
       "\t<tr><th scope=row>928</th><td>0.8784943</td><td>0.94</td><td>0.8257846</td></tr>\n",
       "\t<tr><th scope=row>588</th><td>0.8916330</td><td>0.90</td><td>0.8024697</td></tr>\n",
       "\t<tr><th scope=row>477</th><td>0.8882958</td><td>0.85</td><td>0.7550514</td></tr>\n",
       "\t<tr><th scope=row>684</th><td>0.7715824</td><td>0.91</td><td>0.7021400</td></tr>\n",
       "\t<tr><th scope=row>235</th><td>0.8432307</td><td>0.82</td><td>0.6914492</td></tr>\n",
       "\t<tr><th scope=row>732</th><td>0.7424256</td><td>0.93</td><td>0.6904558</td></tr>\n",
       "</tbody>\n",
       "</table>\n"
      ],
      "text/latex": [
       "A data.frame: 6 × 3\n",
       "\\begin{tabular}{r|lll}\n",
       "  & probaToLeave & performance & priority\\\\\n",
       "  & <dbl> & <dbl> & <dbl>\\\\\n",
       "\\hline\n",
       "\t928 & 0.8784943 & 0.94 & 0.8257846\\\\\n",
       "\t588 & 0.8916330 & 0.90 & 0.8024697\\\\\n",
       "\t477 & 0.8882958 & 0.85 & 0.7550514\\\\\n",
       "\t684 & 0.7715824 & 0.91 & 0.7021400\\\\\n",
       "\t235 & 0.8432307 & 0.82 & 0.6914492\\\\\n",
       "\t732 & 0.7424256 & 0.93 & 0.6904558\\\\\n",
       "\\end{tabular}\n"
      ],
      "text/markdown": [
       "\n",
       "A data.frame: 6 × 3\n",
       "\n",
       "| <!--/--> | probaToLeave &lt;dbl&gt; | performance &lt;dbl&gt; | priority &lt;dbl&gt; |\n",
       "|---|---|---|---|\n",
       "| 928 | 0.8784943 | 0.94 | 0.8257846 |\n",
       "| 588 | 0.8916330 | 0.90 | 0.8024697 |\n",
       "| 477 | 0.8882958 | 0.85 | 0.7550514 |\n",
       "| 684 | 0.7715824 | 0.91 | 0.7021400 |\n",
       "| 235 | 0.8432307 | 0.82 | 0.6914492 |\n",
       "| 732 | 0.7424256 | 0.93 | 0.6904558 |\n",
       "\n"
      ],
      "text/plain": [
       "    probaToLeave performance priority \n",
       "928 0.8784943    0.94        0.8257846\n",
       "588 0.8916330    0.90        0.8024697\n",
       "477 0.8882958    0.85        0.7550514\n",
       "684 0.7715824    0.91        0.7021400\n",
       "235 0.8432307    0.82        0.6914492\n",
       "732 0.7424256    0.93        0.6904558"
      ]
     },
     "metadata": {},
     "output_type": "display_data"
    }
   ],
   "source": [
    "#reordering the dataframe\n",
    "orderpredattrition <- predattrition[order(predattrition$priority,decreasing = TRUE),]\n",
    "head(orderpredattrition)"
   ]
  },
  {
   "cell_type": "markdown",
   "metadata": {},
   "source": [
    "This allows to focus HR efforts for employee retention."
   ]
  },
  {
   "cell_type": "markdown",
   "metadata": {},
   "source": [
    "### Questions"
   ]
  },
  {
   "cell_type": "markdown",
   "metadata": {},
   "source": [
    "**1) What is the ID of the employee that is the less likely to leave according to the estimated model?**"
   ]
  },
  {
   "cell_type": "code",
   "execution_count": 14,
   "metadata": {},
   "outputs": [
    {
     "data": {
      "text/html": [
       "<table>\n",
       "<caption>A data.frame: 6 × 3</caption>\n",
       "<thead>\n",
       "\t<tr><th></th><th scope=col>probaToLeave</th><th scope=col>performance</th><th scope=col>priority</th></tr>\n",
       "\t<tr><th></th><th scope=col>&lt;dbl&gt;</th><th scope=col>&lt;dbl&gt;</th><th scope=col>&lt;dbl&gt;</th></tr>\n",
       "</thead>\n",
       "<tbody>\n",
       "\t<tr><th scope=row>572</th><td>0.001336826</td><td>0.38</td><td>0.0005079939</td></tr>\n",
       "\t<tr><th scope=row>388</th><td>0.004036227</td><td>0.90</td><td>0.0036326044</td></tr>\n",
       "\t<tr><th scope=row>374</th><td>0.004456290</td><td>0.74</td><td>0.0032976543</td></tr>\n",
       "\t<tr><th scope=row>810</th><td>0.004561275</td><td>0.67</td><td>0.0030560543</td></tr>\n",
       "\t<tr><th scope=row>513</th><td>0.004920710</td><td>0.71</td><td>0.0034937043</td></tr>\n",
       "\t<tr><th scope=row>288</th><td>0.005409867</td><td>0.82</td><td>0.0044360913</td></tr>\n",
       "</tbody>\n",
       "</table>\n"
      ],
      "text/latex": [
       "A data.frame: 6 × 3\n",
       "\\begin{tabular}{r|lll}\n",
       "  & probaToLeave & performance & priority\\\\\n",
       "  & <dbl> & <dbl> & <dbl>\\\\\n",
       "\\hline\n",
       "\t572 & 0.001336826 & 0.38 & 0.0005079939\\\\\n",
       "\t388 & 0.004036227 & 0.90 & 0.0036326044\\\\\n",
       "\t374 & 0.004456290 & 0.74 & 0.0032976543\\\\\n",
       "\t810 & 0.004561275 & 0.67 & 0.0030560543\\\\\n",
       "\t513 & 0.004920710 & 0.71 & 0.0034937043\\\\\n",
       "\t288 & 0.005409867 & 0.82 & 0.0044360913\\\\\n",
       "\\end{tabular}\n"
      ],
      "text/markdown": [
       "\n",
       "A data.frame: 6 × 3\n",
       "\n",
       "| <!--/--> | probaToLeave &lt;dbl&gt; | performance &lt;dbl&gt; | priority &lt;dbl&gt; |\n",
       "|---|---|---|---|\n",
       "| 572 | 0.001336826 | 0.38 | 0.0005079939 |\n",
       "| 388 | 0.004036227 | 0.90 | 0.0036326044 |\n",
       "| 374 | 0.004456290 | 0.74 | 0.0032976543 |\n",
       "| 810 | 0.004561275 | 0.67 | 0.0030560543 |\n",
       "| 513 | 0.004920710 | 0.71 | 0.0034937043 |\n",
       "| 288 | 0.005409867 | 0.82 | 0.0044360913 |\n",
       "\n"
      ],
      "text/plain": [
       "    probaToLeave performance priority    \n",
       "572 0.001336826  0.38        0.0005079939\n",
       "388 0.004036227  0.90        0.0036326044\n",
       "374 0.004456290  0.74        0.0032976543\n",
       "810 0.004561275  0.67        0.0030560543\n",
       "513 0.004920710  0.71        0.0034937043\n",
       "288 0.005409867  0.82        0.0044360913"
      ]
     },
     "metadata": {},
     "output_type": "display_data"
    }
   ],
   "source": [
    "head( predattrition[order(predattrition$probaToLeave),] )"
   ]
  },
  {
   "cell_type": "markdown",
   "metadata": {},
   "source": [
    "According to the model, employee #572 is the less likely to leave."
   ]
  },
  {
   "cell_type": "markdown",
   "metadata": {},
   "source": [
    "**2) What is the ID of the employee that is the less likely to leave according to the estimated model and who has a performance larger than 0.90?**"
   ]
  },
  {
   "cell_type": "code",
   "execution_count": 15,
   "metadata": {},
   "outputs": [
    {
     "data": {
      "text/html": [
       "<table>\n",
       "<caption>A data.frame: 6 × 3</caption>\n",
       "<thead>\n",
       "\t<tr><th></th><th scope=col>probaToLeave</th><th scope=col>performance</th><th scope=col>priority</th></tr>\n",
       "\t<tr><th></th><th scope=col>&lt;dbl&gt;</th><th scope=col>&lt;dbl&gt;</th><th scope=col>&lt;dbl&gt;</th></tr>\n",
       "</thead>\n",
       "<tbody>\n",
       "\t<tr><th scope=row>322</th><td>0.005690086</td><td>0.96</td><td>0.005462483</td></tr>\n",
       "\t<tr><th scope=row>761</th><td>0.006229770</td><td>0.99</td><td>0.006167472</td></tr>\n",
       "\t<tr><th scope=row>886</th><td>0.006957936</td><td>0.92</td><td>0.006401301</td></tr>\n",
       "\t<tr><th scope=row>156</th><td>0.007112110</td><td>0.98</td><td>0.006969868</td></tr>\n",
       "\t<tr><th scope=row>865</th><td>0.007950425</td><td>0.96</td><td>0.007632408</td></tr>\n",
       "\t<tr><th scope=row>307</th><td>0.008591105</td><td>0.95</td><td>0.008161549</td></tr>\n",
       "</tbody>\n",
       "</table>\n"
      ],
      "text/latex": [
       "A data.frame: 6 × 3\n",
       "\\begin{tabular}{r|lll}\n",
       "  & probaToLeave & performance & priority\\\\\n",
       "  & <dbl> & <dbl> & <dbl>\\\\\n",
       "\\hline\n",
       "\t322 & 0.005690086 & 0.96 & 0.005462483\\\\\n",
       "\t761 & 0.006229770 & 0.99 & 0.006167472\\\\\n",
       "\t886 & 0.006957936 & 0.92 & 0.006401301\\\\\n",
       "\t156 & 0.007112110 & 0.98 & 0.006969868\\\\\n",
       "\t865 & 0.007950425 & 0.96 & 0.007632408\\\\\n",
       "\t307 & 0.008591105 & 0.95 & 0.008161549\\\\\n",
       "\\end{tabular}\n"
      ],
      "text/markdown": [
       "\n",
       "A data.frame: 6 × 3\n",
       "\n",
       "| <!--/--> | probaToLeave &lt;dbl&gt; | performance &lt;dbl&gt; | priority &lt;dbl&gt; |\n",
       "|---|---|---|---|\n",
       "| 322 | 0.005690086 | 0.96 | 0.005462483 |\n",
       "| 761 | 0.006229770 | 0.99 | 0.006167472 |\n",
       "| 886 | 0.006957936 | 0.92 | 0.006401301 |\n",
       "| 156 | 0.007112110 | 0.98 | 0.006969868 |\n",
       "| 865 | 0.007950425 | 0.96 | 0.007632408 |\n",
       "| 307 | 0.008591105 | 0.95 | 0.008161549 |\n",
       "\n"
      ],
      "text/plain": [
       "    probaToLeave performance priority   \n",
       "322 0.005690086  0.96        0.005462483\n",
       "761 0.006229770  0.99        0.006167472\n",
       "886 0.006957936  0.92        0.006401301\n",
       "156 0.007112110  0.98        0.006969868\n",
       "865 0.007950425  0.96        0.007632408\n",
       "307 0.008591105  0.95        0.008161549"
      ]
     },
     "metadata": {},
     "output_type": "display_data"
    }
   ],
   "source": [
    "sub_attrition <- subset(predattrition, performance>0.90)\n",
    "\n",
    "head(sub_attrition[order(sub_attrition$probaToLeave),] )"
   ]
  },
  {
   "cell_type": "markdown",
   "metadata": {},
   "source": [
    "According to the model, employee #322 is the less likely to leave and has a performance larger than 0.90."
   ]
  }
 ],
 "metadata": {
  "kernelspec": {
   "display_name": "R",
   "language": "R",
   "name": "ir"
  },
  "language_info": {
   "codemirror_mode": "r",
   "file_extension": ".r",
   "mimetype": "text/x-r-source",
   "name": "R",
   "pygments_lexer": "r",
   "version": "3.6.3"
  }
 },
 "nbformat": 4,
 "nbformat_minor": 4
}
