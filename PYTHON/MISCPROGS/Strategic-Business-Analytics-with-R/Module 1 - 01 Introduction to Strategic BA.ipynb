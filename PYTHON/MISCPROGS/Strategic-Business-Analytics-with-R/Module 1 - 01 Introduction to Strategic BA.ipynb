{
 "cells": [
  {
   "cell_type": "markdown",
   "metadata": {},
   "source": [
    "# Introduction to Strategic Business Analytics"
   ]
  },
  {
   "cell_type": "markdown",
   "metadata": {},
   "source": [
    "**Loading csv files**"
   ]
  },
  {
   "cell_type": "code",
   "execution_count": 1,
   "metadata": {},
   "outputs": [
    {
     "data": {
      "text/html": [
       "<table>\n",
       "<caption>A data.frame: 6 × 7</caption>\n",
       "<thead>\n",
       "\t<tr><th></th><th scope=col>HHID</th><th scope=col>TIME</th><th scope=col>PASTA</th><th scope=col>EXPOS</th><th scope=col>AGE</th><th scope=col>INCOME</th><th scope=col>AREA</th></tr>\n",
       "\t<tr><th></th><th scope=col>&lt;int&gt;</th><th scope=col>&lt;int&gt;</th><th scope=col>&lt;dbl&gt;</th><th scope=col>&lt;int&gt;</th><th scope=col>&lt;dbl&gt;</th><th scope=col>&lt;dbl&gt;</th><th scope=col>&lt;int&gt;</th></tr>\n",
       "</thead>\n",
       "<tbody>\n",
       "\t<tr><th scope=row>1</th><td>1</td><td>1</td><td>0.9394443</td><td>1</td><td>61.71076</td><td>25186.8</td><td>3</td></tr>\n",
       "\t<tr><th scope=row>2</th><td>1</td><td>2</td><td>2.5609686</td><td>2</td><td>61.71076</td><td>25186.8</td><td>3</td></tr>\n",
       "\t<tr><th scope=row>3</th><td>1</td><td>3</td><td>0.9011233</td><td>0</td><td>61.71076</td><td>25186.8</td><td>3</td></tr>\n",
       "\t<tr><th scope=row>4</th><td>1</td><td>4</td><td>1.9165300</td><td>1</td><td>61.71076</td><td>25186.8</td><td>3</td></tr>\n",
       "\t<tr><th scope=row>5</th><td>1</td><td>5</td><td>1.5487510</td><td>0</td><td>61.71076</td><td>25186.8</td><td>3</td></tr>\n",
       "\t<tr><th scope=row>6</th><td>1</td><td>6</td><td>2.1694050</td><td>0</td><td>61.71076</td><td>25186.8</td><td>3</td></tr>\n",
       "</tbody>\n",
       "</table>\n"
      ],
      "text/latex": [
       "A data.frame: 6 × 7\n",
       "\\begin{tabular}{r|lllllll}\n",
       "  & HHID & TIME & PASTA & EXPOS & AGE & INCOME & AREA\\\\\n",
       "  & <int> & <int> & <dbl> & <int> & <dbl> & <dbl> & <int>\\\\\n",
       "\\hline\n",
       "\t1 & 1 & 1 & 0.9394443 & 1 & 61.71076 & 25186.8 & 3\\\\\n",
       "\t2 & 1 & 2 & 2.5609686 & 2 & 61.71076 & 25186.8 & 3\\\\\n",
       "\t3 & 1 & 3 & 0.9011233 & 0 & 61.71076 & 25186.8 & 3\\\\\n",
       "\t4 & 1 & 4 & 1.9165300 & 1 & 61.71076 & 25186.8 & 3\\\\\n",
       "\t5 & 1 & 5 & 1.5487510 & 0 & 61.71076 & 25186.8 & 3\\\\\n",
       "\t6 & 1 & 6 & 2.1694050 & 0 & 61.71076 & 25186.8 & 3\\\\\n",
       "\\end{tabular}\n"
      ],
      "text/markdown": [
       "\n",
       "A data.frame: 6 × 7\n",
       "\n",
       "| <!--/--> | HHID &lt;int&gt; | TIME &lt;int&gt; | PASTA &lt;dbl&gt; | EXPOS &lt;int&gt; | AGE &lt;dbl&gt; | INCOME &lt;dbl&gt; | AREA &lt;int&gt; |\n",
       "|---|---|---|---|---|---|---|---|\n",
       "| 1 | 1 | 1 | 0.9394443 | 1 | 61.71076 | 25186.8 | 3 |\n",
       "| 2 | 1 | 2 | 2.5609686 | 2 | 61.71076 | 25186.8 | 3 |\n",
       "| 3 | 1 | 3 | 0.9011233 | 0 | 61.71076 | 25186.8 | 3 |\n",
       "| 4 | 1 | 4 | 1.9165300 | 1 | 61.71076 | 25186.8 | 3 |\n",
       "| 5 | 1 | 5 | 1.5487510 | 0 | 61.71076 | 25186.8 | 3 |\n",
       "| 6 | 1 | 6 | 2.1694050 | 0 | 61.71076 | 25186.8 | 3 |\n",
       "\n"
      ],
      "text/plain": [
       "  HHID TIME PASTA     EXPOS AGE      INCOME  AREA\n",
       "1 1    1    0.9394443 1     61.71076 25186.8 3   \n",
       "2 1    2    2.5609686 2     61.71076 25186.8 3   \n",
       "3 1    3    0.9011233 0     61.71076 25186.8 3   \n",
       "4 1    4    1.9165300 1     61.71076 25186.8 3   \n",
       "5 1    5    1.5487510 0     61.71076 25186.8 3   \n",
       "6 1    6    2.1694050 0     61.71076 25186.8 3   "
      ]
     },
     "metadata": {},
     "output_type": "display_data"
    }
   ],
   "source": [
    "Purchase <- read.csv(\"data/PASTAPURCHASE_EDITED.csv\")\n",
    "head(Purchase)"
   ]
  },
  {
   "cell_type": "markdown",
   "metadata": {},
   "source": [
    "**Exploring the file**"
   ]
  },
  {
   "cell_type": "code",
   "execution_count": 2,
   "metadata": {},
   "outputs": [
    {
     "name": "stdout",
     "output_type": "stream",
     "text": [
      "'data.frame':\t40000 obs. of  7 variables:\n",
      " $ HHID  : int  1 1 1 1 1 1 1 1 1 1 ...\n",
      " $ TIME  : int  1 2 3 4 5 6 7 8 9 10 ...\n",
      " $ PASTA : num  0.939 2.561 0.901 1.917 1.549 ...\n",
      " $ EXPOS : int  1 2 0 1 0 0 0 0 0 1 ...\n",
      " $ AGE   : num  61.7 61.7 61.7 61.7 61.7 ...\n",
      " $ INCOME: num  25187 25187 25187 25187 25187 ...\n",
      " $ AREA  : int  3 3 3 3 3 3 3 3 3 3 ...\n"
     ]
    }
   ],
   "source": [
    "str(Purchase)"
   ]
  },
  {
   "cell_type": "code",
   "execution_count": 3,
   "metadata": {},
   "outputs": [
    {
     "data": {
      "text/plain": [
       "      HHID             TIME           PASTA           EXPOS       \n",
       " Min.   :   1.0   Min.   : 1.00   Min.   :0.000   Min.   :0.0000  \n",
       " 1st Qu.: 500.8   1st Qu.: 5.75   1st Qu.:1.109   1st Qu.:0.0000  \n",
       " Median :1000.5   Median :10.50   Median :1.811   Median :0.0000  \n",
       " Mean   :1000.5   Mean   :10.50   Mean   :1.842   Mean   :0.4991  \n",
       " 3rd Qu.:1500.2   3rd Qu.:15.25   3rd Qu.:2.534   3rd Qu.:1.0000  \n",
       " Max.   :2000.0   Max.   :20.00   Max.   :6.593   Max.   :5.0000  \n",
       "      AGE            INCOME              AREA      \n",
       " Min.   :18.01   Min.   :   609.1   Min.   :1.000  \n",
       " 1st Qu.:30.51   1st Qu.: 15379.6   1st Qu.:2.000  \n",
       " Median :42.44   Median : 24487.1   Median :3.000  \n",
       " Mean   :42.25   Mean   : 27096.1   Mean   :2.996  \n",
       " 3rd Qu.:54.36   3rd Qu.: 35272.5   3rd Qu.:4.000  \n",
       " Max.   :64.98   Max.   :141067.0   Max.   :5.000  "
      ]
     },
     "metadata": {},
     "output_type": "display_data"
    }
   ],
   "source": [
    "summary(Purchase)"
   ]
  },
  {
   "cell_type": "markdown",
   "metadata": {},
   "source": [
    "**1) What is the correct mean and standard deviation of the quantity of pasta purchased by time unit by household?**"
   ]
  },
  {
   "cell_type": "code",
   "execution_count": 4,
   "metadata": {},
   "outputs": [
    {
     "data": {
      "text/html": [
       "1.84154453854413"
      ],
      "text/latex": [
       "1.84154453854413"
      ],
      "text/markdown": [
       "1.84154453854413"
      ],
      "text/plain": [
       "[1] 1.841545"
      ]
     },
     "metadata": {},
     "output_type": "display_data"
    }
   ],
   "source": [
    "mean(Purchase$PASTA)"
   ]
  },
  {
   "cell_type": "code",
   "execution_count": 5,
   "metadata": {},
   "outputs": [
    {
     "data": {
      "text/html": [
       "1.02591105430511"
      ],
      "text/latex": [
       "1.02591105430511"
      ],
      "text/markdown": [
       "1.02591105430511"
      ],
      "text/plain": [
       "[1] 1.025911"
      ]
     },
     "metadata": {},
     "output_type": "display_data"
    }
   ],
   "source": [
    "sd(Purchase$PASTA)"
   ]
  },
  {
   "cell_type": "markdown",
   "metadata": {},
   "source": [
    "**2) In which area are located (i) the poorest household and (ii) the wealthiest household?**"
   ]
  },
  {
   "cell_type": "code",
   "execution_count": 6,
   "metadata": {},
   "outputs": [
    {
     "name": "stderr",
     "output_type": "stream",
     "text": [
      "\n",
      "Attaching package: 'dplyr'\n",
      "\n",
      "\n",
      "The following objects are masked from 'package:stats':\n",
      "\n",
      "    filter, lag\n",
      "\n",
      "\n",
      "The following objects are masked from 'package:base':\n",
      "\n",
      "    intersect, setdiff, setequal, union\n",
      "\n",
      "\n"
     ]
    }
   ],
   "source": [
    "library(dplyr)"
   ]
  },
  {
   "cell_type": "code",
   "execution_count": 7,
   "metadata": {},
   "outputs": [],
   "source": [
    "wealth = Purchase  %>% arrange(desc(INCOME)) %>% select(AREA)"
   ]
  },
  {
   "cell_type": "code",
   "execution_count": 8,
   "metadata": {},
   "outputs": [
    {
     "data": {
      "text/html": [
       "<table>\n",
       "<caption>A data.frame: 1 × 1</caption>\n",
       "<thead>\n",
       "\t<tr><th></th><th scope=col>AREA</th></tr>\n",
       "\t<tr><th></th><th scope=col>&lt;int&gt;</th></tr>\n",
       "</thead>\n",
       "<tbody>\n",
       "\t<tr><th scope=row>1</th><td>5</td></tr>\n",
       "</tbody>\n",
       "</table>\n"
      ],
      "text/latex": [
       "A data.frame: 1 × 1\n",
       "\\begin{tabular}{r|l}\n",
       "  & AREA\\\\\n",
       "  & <int>\\\\\n",
       "\\hline\n",
       "\t1 & 5\\\\\n",
       "\\end{tabular}\n"
      ],
      "text/markdown": [
       "\n",
       "A data.frame: 1 × 1\n",
       "\n",
       "| <!--/--> | AREA &lt;int&gt; |\n",
       "|---|---|\n",
       "| 1 | 5 |\n",
       "\n"
      ],
      "text/plain": [
       "  AREA\n",
       "1 5   "
      ]
     },
     "metadata": {},
     "output_type": "display_data"
    }
   ],
   "source": [
    "head(wealth,1)"
   ]
  },
  {
   "cell_type": "code",
   "execution_count": 9,
   "metadata": {},
   "outputs": [
    {
     "data": {
      "text/html": [
       "<table>\n",
       "<caption>A data.frame: 1 × 1</caption>\n",
       "<thead>\n",
       "\t<tr><th></th><th scope=col>AREA</th></tr>\n",
       "\t<tr><th></th><th scope=col>&lt;int&gt;</th></tr>\n",
       "</thead>\n",
       "<tbody>\n",
       "\t<tr><th scope=row>40000</th><td>2</td></tr>\n",
       "</tbody>\n",
       "</table>\n"
      ],
      "text/latex": [
       "A data.frame: 1 × 1\n",
       "\\begin{tabular}{r|l}\n",
       "  & AREA\\\\\n",
       "  & <int>\\\\\n",
       "\\hline\n",
       "\t40000 & 2\\\\\n",
       "\\end{tabular}\n"
      ],
      "text/markdown": [
       "\n",
       "A data.frame: 1 × 1\n",
       "\n",
       "| <!--/--> | AREA &lt;int&gt; |\n",
       "|---|---|\n",
       "| 40000 | 2 |\n",
       "\n"
      ],
      "text/plain": [
       "      AREA\n",
       "40000 2   "
      ]
     },
     "metadata": {},
     "output_type": "display_data"
    }
   ],
   "source": [
    "tail(wealth,1)"
   ]
  },
  {
   "cell_type": "markdown",
   "metadata": {},
   "source": [
    "**3) What is the maximum pasta quantity a household has bought over the whole time period? (Sum the quantity of pasta by household over time and indicate the maximum)**"
   ]
  },
  {
   "cell_type": "code",
   "execution_count": 10,
   "metadata": {},
   "outputs": [
    {
     "data": {
      "text/html": [
       "55.3619305824307"
      ],
      "text/latex": [
       "55.3619305824307"
      ],
      "text/markdown": [
       "55.3619305824307"
      ],
      "text/plain": [
       "[1] 55.36193"
      ]
     },
     "metadata": {},
     "output_type": "display_data"
    }
   ],
   "source": [
    "# Grouping PASTA according to the HHID values.\n",
    "# Then we compute the sum for each group.\n",
    "# Take max value\n",
    "\n",
    "max(tapply(Purchase$PASTA, Purchase$HHID, sum))"
   ]
  },
  {
   "cell_type": "markdown",
   "metadata": {},
   "source": [
    "**4) What is the average income of households living in area 4?**"
   ]
  },
  {
   "cell_type": "code",
   "execution_count": 11,
   "metadata": {},
   "outputs": [
    {
     "data": {
      "text/plain": [
       "   Min. 1st Qu.  Median    Mean 3rd Qu.    Max. \n",
       "   1242   16501   26499   29260   39053  112984 "
      ]
     },
     "metadata": {},
     "output_type": "display_data"
    }
   ],
   "source": [
    "area4 <- Purchase[Purchase$AREA == 4,]\n",
    "summary(area4$INCOME)"
   ]
  },
  {
   "cell_type": "markdown",
   "metadata": {},
   "source": [
    "**5) How many households live in area 2, earn more than 20k, and have purchased more than 30 units of pasta over the whole time period?**"
   ]
  },
  {
   "cell_type": "code",
   "execution_count": 12,
   "metadata": {},
   "outputs": [
    {
     "data": {
      "text/html": [
       "<table>\n",
       "<caption>A data.frame: 6 × 7</caption>\n",
       "<thead>\n",
       "\t<tr><th></th><th scope=col>HHID</th><th scope=col>TIME</th><th scope=col>PASTA</th><th scope=col>EXPOS</th><th scope=col>AGE</th><th scope=col>INCOME</th><th scope=col>AREA</th></tr>\n",
       "\t<tr><th></th><th scope=col>&lt;int&gt;</th><th scope=col>&lt;int&gt;</th><th scope=col>&lt;dbl&gt;</th><th scope=col>&lt;int&gt;</th><th scope=col>&lt;dbl&gt;</th><th scope=col>&lt;dbl&gt;</th><th scope=col>&lt;int&gt;</th></tr>\n",
       "</thead>\n",
       "<tbody>\n",
       "\t<tr><th scope=row>181</th><td>10</td><td>1</td><td>1.6903376</td><td>0</td><td>64.13264</td><td>28829.33</td><td>2</td></tr>\n",
       "\t<tr><th scope=row>182</th><td>10</td><td>2</td><td>0.5043048</td><td>0</td><td>64.13264</td><td>28829.33</td><td>2</td></tr>\n",
       "\t<tr><th scope=row>183</th><td>10</td><td>3</td><td>1.9924166</td><td>2</td><td>64.13264</td><td>28829.33</td><td>2</td></tr>\n",
       "\t<tr><th scope=row>184</th><td>10</td><td>4</td><td>3.1279402</td><td>1</td><td>64.13264</td><td>28829.33</td><td>2</td></tr>\n",
       "\t<tr><th scope=row>185</th><td>10</td><td>5</td><td>2.0162208</td><td>0</td><td>64.13264</td><td>28829.33</td><td>2</td></tr>\n",
       "\t<tr><th scope=row>186</th><td>10</td><td>6</td><td>2.3854519</td><td>0</td><td>64.13264</td><td>28829.33</td><td>2</td></tr>\n",
       "</tbody>\n",
       "</table>\n"
      ],
      "text/latex": [
       "A data.frame: 6 × 7\n",
       "\\begin{tabular}{r|lllllll}\n",
       "  & HHID & TIME & PASTA & EXPOS & AGE & INCOME & AREA\\\\\n",
       "  & <int> & <int> & <dbl> & <int> & <dbl> & <dbl> & <int>\\\\\n",
       "\\hline\n",
       "\t181 & 10 & 1 & 1.6903376 & 0 & 64.13264 & 28829.33 & 2\\\\\n",
       "\t182 & 10 & 2 & 0.5043048 & 0 & 64.13264 & 28829.33 & 2\\\\\n",
       "\t183 & 10 & 3 & 1.9924166 & 2 & 64.13264 & 28829.33 & 2\\\\\n",
       "\t184 & 10 & 4 & 3.1279402 & 1 & 64.13264 & 28829.33 & 2\\\\\n",
       "\t185 & 10 & 5 & 2.0162208 & 0 & 64.13264 & 28829.33 & 2\\\\\n",
       "\t186 & 10 & 6 & 2.3854519 & 0 & 64.13264 & 28829.33 & 2\\\\\n",
       "\\end{tabular}\n"
      ],
      "text/markdown": [
       "\n",
       "A data.frame: 6 × 7\n",
       "\n",
       "| <!--/--> | HHID &lt;int&gt; | TIME &lt;int&gt; | PASTA &lt;dbl&gt; | EXPOS &lt;int&gt; | AGE &lt;dbl&gt; | INCOME &lt;dbl&gt; | AREA &lt;int&gt; |\n",
       "|---|---|---|---|---|---|---|---|\n",
       "| 181 | 10 | 1 | 1.6903376 | 0 | 64.13264 | 28829.33 | 2 |\n",
       "| 182 | 10 | 2 | 0.5043048 | 0 | 64.13264 | 28829.33 | 2 |\n",
       "| 183 | 10 | 3 | 1.9924166 | 2 | 64.13264 | 28829.33 | 2 |\n",
       "| 184 | 10 | 4 | 3.1279402 | 1 | 64.13264 | 28829.33 | 2 |\n",
       "| 185 | 10 | 5 | 2.0162208 | 0 | 64.13264 | 28829.33 | 2 |\n",
       "| 186 | 10 | 6 | 2.3854519 | 0 | 64.13264 | 28829.33 | 2 |\n",
       "\n"
      ],
      "text/plain": [
       "    HHID TIME PASTA     EXPOS AGE      INCOME   AREA\n",
       "181 10   1    1.6903376 0     64.13264 28829.33 2   \n",
       "182 10   2    0.5043048 0     64.13264 28829.33 2   \n",
       "183 10   3    1.9924166 2     64.13264 28829.33 2   \n",
       "184 10   4    3.1279402 1     64.13264 28829.33 2   \n",
       "185 10   5    2.0162208 0     64.13264 28829.33 2   \n",
       "186 10   6    2.3854519 0     64.13264 28829.33 2   "
      ]
     },
     "metadata": {},
     "output_type": "display_data"
    }
   ],
   "source": [
    "subgroup <- Purchase[Purchase$AREA == 2 & Purchase$INCOME > 20000,]\n",
    "head(subgroup)"
   ]
  },
  {
   "cell_type": "code",
   "execution_count": 13,
   "metadata": {},
   "outputs": [
    {
     "data": {
      "text/plain": [
       "   Min. 1st Qu.  Median    Mean 3rd Qu.    Max. \n",
       "  21.74   32.66   36.29   36.28   39.73   50.50 "
      ]
     },
     "metadata": {},
     "output_type": "display_data"
    }
   ],
   "source": [
    "suball <- c(tapply(subgroup$PASTA, subgroup$HHID, sum))\n",
    "summary(suball)"
   ]
  },
  {
   "cell_type": "code",
   "execution_count": 14,
   "metadata": {},
   "outputs": [
    {
     "data": {
      "text/html": [
       "218"
      ],
      "text/latex": [
       "218"
      ],
      "text/markdown": [
       "218"
      ],
      "text/plain": [
       "[1] 218"
      ]
     },
     "metadata": {},
     "output_type": "display_data"
    }
   ],
   "source": [
    "length(suball[c(suball > 30)])"
   ]
  },
  {
   "cell_type": "code",
   "execution_count": 15,
   "metadata": {},
   "outputs": [
    {
     "name": "stderr",
     "output_type": "stream",
     "text": [
      "`summarise()` ungrouping output (override with `.groups` argument)\n",
      "\n"
     ]
    },
    {
     "data": {
      "text/html": [
       "218"
      ],
      "text/latex": [
       "218"
      ],
      "text/markdown": [
       "218"
      ],
      "text/plain": [
       "[1] 218"
      ]
     },
     "metadata": {},
     "output_type": "display_data"
    }
   ],
   "source": [
    "# Direct Way:\n",
    "household_area2 <- Purchase %>% filter(AREA == 2) %>% filter(INCOME > 20000) %>%\n",
    "                   group_by(HHID) %>% \n",
    "                   summarize( total_qty = sum(PASTA) ) %>% filter(total_qty > 30)\n",
    "\n",
    "nrow( household_area2 )"
   ]
  },
  {
   "cell_type": "markdown",
   "metadata": {},
   "source": [
    "**6) What is the correlation between the purchases of pasta and the exposures?**"
   ]
  },
  {
   "cell_type": "code",
   "execution_count": 16,
   "metadata": {},
   "outputs": [
    {
     "data": {
      "text/html": [
       "0.326617377318649"
      ],
      "text/latex": [
       "0.326617377318649"
      ],
      "text/markdown": [
       "0.326617377318649"
      ],
      "text/plain": [
       "[1] 0.3266174"
      ]
     },
     "metadata": {},
     "output_type": "display_data"
    }
   ],
   "source": [
    "cor(Purchase$PASTA, Purchase$EXPO)"
   ]
  },
  {
   "cell_type": "markdown",
   "metadata": {},
   "source": [
    "**7) Which of the following graphs reports the correct histogram by household of the total purchase of pasta made by the household over the whole period? (Sum the purchases by household and make a histogram.)**"
   ]
  },
  {
   "cell_type": "code",
   "execution_count": 17,
   "metadata": {},
   "outputs": [
    {
     "name": "stderr",
     "output_type": "stream",
     "text": [
      "`summarise()` ungrouping output (override with `.groups` argument)\n",
      "\n"
     ]
    }
   ],
   "source": [
    "df = Purchase %>% group_by(HHID) %>% summarize(totalPasta = sum(PASTA)) "
   ]
  },
  {
   "cell_type": "code",
   "execution_count": 18,
   "metadata": {},
   "outputs": [],
   "source": [
    "library(ggplot2)"
   ]
  },
  {
   "cell_type": "code",
   "execution_count": 19,
   "metadata": {},
   "outputs": [
    {
     "data": {
      "image/png": "[encoded data removed]",
      "text/plain": [
       "plot without title"
      ]
     },
     "metadata": {
      "image/png": {
       "height": 420,
       "width": 420
      },
      "text/plain": {
       "height": 420,
       "width": 420
      }
     },
     "output_type": "display_data"
    }
   ],
   "source": [
    "ggplot(df, aes(x=totalPasta)) + geom_histogram(bins=10, fill=\"green\",col=\"red\") + theme_classic()"
   ]
  },
  {
   "cell_type": "markdown",
   "metadata": {},
   "source": [
    "**8) Which of the following graphs reports the correct time series of the overall total purchase of pasta? (Sum the purchases by time units and plot the quantity by time unit.)**"
   ]
  },
  {
   "cell_type": "code",
   "execution_count": 20,
   "metadata": {},
   "outputs": [
    {
     "name": "stderr",
     "output_type": "stream",
     "text": [
      "`summarise()` ungrouping output (override with `.groups` argument)\n",
      "\n"
     ]
    }
   ],
   "source": [
    "df2 = Purchase %>% group_by(TIME) %>% summarize(totalPasta = sum(PASTA)) "
   ]
  },
  {
   "cell_type": "code",
   "execution_count": 21,
   "metadata": {},
   "outputs": [
    {
     "data": {
      "image/png": "[encoded data removed]",
      "text/plain": [
       "plot without title"
      ]
     },
     "metadata": {
      "image/png": {
       "height": 420,
       "width": 420
      },
      "text/plain": {
       "height": 420,
       "width": 420
      }
     },
     "output_type": "display_data"
    }
   ],
   "source": [
    "ggplot(df2, aes(x=TIME, y=totalPasta)) + geom_point() + theme_classic()"
   ]
  }
 ],
 "metadata": {
  "kernelspec": {
   "display_name": "R",
   "language": "R",
   "name": "ir"
  },
  "language_info": {
   "codemirror_mode": "r",
   "file_extension": ".r",
   "mimetype": "text/x-r-source",
   "name": "R",
   "pygments_lexer": "r",
   "version": "3.6.3"
  }
 },
 "nbformat": 4,
 "nbformat_minor": 4
}
