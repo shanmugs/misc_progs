{
 "cells": [
  {
   "cell_type": "markdown",
   "metadata": {},
   "source": [
    "# Predictive Maintenance"
   ]
  },
  {
   "cell_type": "markdown",
   "metadata": {},
   "source": [
    "In this example, we are trying to estimate the remaining lifetime of mechanical parts."
   ]
  },
  {
   "cell_type": "markdown",
   "metadata": {},
   "source": [
    "**Loading csv files**"
   ]
  },
  {
   "cell_type": "code",
   "execution_count": 1,
   "metadata": {},
   "outputs": [
    {
     "data": {
      "text/html": [
       "<table>\n",
       "<caption>A data.frame: 6 × 7</caption>\n",
       "<thead>\n",
       "\t<tr><th></th><th scope=col>lifetime</th><th scope=col>broken</th><th scope=col>pressureInd</th><th scope=col>moistureInd</th><th scope=col>temperatureInd</th><th scope=col>team</th><th scope=col>provider</th></tr>\n",
       "\t<tr><th></th><th scope=col>&lt;int&gt;</th><th scope=col>&lt;int&gt;</th><th scope=col>&lt;dbl&gt;</th><th scope=col>&lt;dbl&gt;</th><th scope=col>&lt;dbl&gt;</th><th scope=col>&lt;fct&gt;</th><th scope=col>&lt;fct&gt;</th></tr>\n",
       "</thead>\n",
       "<tbody>\n",
       "\t<tr><th scope=row>1</th><td>56</td><td>0</td><td>92.17885</td><td>104.23020</td><td> 96.51716</td><td>TeamA</td><td>Provider4</td></tr>\n",
       "\t<tr><th scope=row>2</th><td>81</td><td>1</td><td>72.07594</td><td>103.06570</td><td> 87.27106</td><td>TeamC</td><td>Provider4</td></tr>\n",
       "\t<tr><th scope=row>3</th><td>60</td><td>0</td><td>96.27225</td><td> 77.80138</td><td>112.19617</td><td>TeamA</td><td>Provider1</td></tr>\n",
       "\t<tr><th scope=row>4</th><td>86</td><td>1</td><td>94.40646</td><td>108.49361</td><td> 72.02537</td><td>TeamC</td><td>Provider2</td></tr>\n",
       "\t<tr><th scope=row>5</th><td>34</td><td>0</td><td>97.75290</td><td> 99.41349</td><td>103.75627</td><td>TeamB</td><td>Provider1</td></tr>\n",
       "\t<tr><th scope=row>6</th><td>30</td><td>0</td><td>87.67880</td><td>115.71226</td><td> 89.79210</td><td>TeamA</td><td>Provider1</td></tr>\n",
       "</tbody>\n",
       "</table>\n"
      ],
      "text/latex": [
       "A data.frame: 6 × 7\n",
       "\\begin{tabular}{r|lllllll}\n",
       "  & lifetime & broken & pressureInd & moistureInd & temperatureInd & team & provider\\\\\n",
       "  & <int> & <int> & <dbl> & <dbl> & <dbl> & <fct> & <fct>\\\\\n",
       "\\hline\n",
       "\t1 & 56 & 0 & 92.17885 & 104.23020 &  96.51716 & TeamA & Provider4\\\\\n",
       "\t2 & 81 & 1 & 72.07594 & 103.06570 &  87.27106 & TeamC & Provider4\\\\\n",
       "\t3 & 60 & 0 & 96.27225 &  77.80138 & 112.19617 & TeamA & Provider1\\\\\n",
       "\t4 & 86 & 1 & 94.40646 & 108.49361 &  72.02537 & TeamC & Provider2\\\\\n",
       "\t5 & 34 & 0 & 97.75290 &  99.41349 & 103.75627 & TeamB & Provider1\\\\\n",
       "\t6 & 30 & 0 & 87.67880 & 115.71226 &  89.79210 & TeamA & Provider1\\\\\n",
       "\\end{tabular}\n"
      ],
      "text/markdown": [
       "\n",
       "A data.frame: 6 × 7\n",
       "\n",
       "| <!--/--> | lifetime &lt;int&gt; | broken &lt;int&gt; | pressureInd &lt;dbl&gt; | moistureInd &lt;dbl&gt; | temperatureInd &lt;dbl&gt; | team &lt;fct&gt; | provider &lt;fct&gt; |\n",
       "|---|---|---|---|---|---|---|---|\n",
       "| 1 | 56 | 0 | 92.17885 | 104.23020 |  96.51716 | TeamA | Provider4 |\n",
       "| 2 | 81 | 1 | 72.07594 | 103.06570 |  87.27106 | TeamC | Provider4 |\n",
       "| 3 | 60 | 0 | 96.27225 |  77.80138 | 112.19617 | TeamA | Provider1 |\n",
       "| 4 | 86 | 1 | 94.40646 | 108.49361 |  72.02537 | TeamC | Provider2 |\n",
       "| 5 | 34 | 0 | 97.75290 |  99.41349 | 103.75627 | TeamB | Provider1 |\n",
       "| 6 | 30 | 0 | 87.67880 | 115.71226 |  89.79210 | TeamA | Provider1 |\n",
       "\n"
      ],
      "text/plain": [
       "  lifetime broken pressureInd moistureInd temperatureInd team  provider \n",
       "1 56       0      92.17885    104.23020    96.51716      TeamA Provider4\n",
       "2 81       1      72.07594    103.06570    87.27106      TeamC Provider4\n",
       "3 60       0      96.27225     77.80138   112.19617      TeamA Provider1\n",
       "4 86       1      94.40646    108.49361    72.02537      TeamC Provider2\n",
       "5 34       0      97.75290     99.41349   103.75627      TeamB Provider1\n",
       "6 30       0      87.67880    115.71226    89.79210      TeamA Provider1"
      ]
     },
     "metadata": {},
     "output_type": "display_data"
    }
   ],
   "source": [
    "MNT <- read.csv(\"data/DATA_4.03_MNT.csv\")\n",
    "head(MNT)"
   ]
  },
  {
   "cell_type": "markdown",
   "metadata": {},
   "source": [
    "**Exploring the \"MNT\" Data**"
   ]
  },
  {
   "cell_type": "code",
   "execution_count": 2,
   "metadata": {},
   "outputs": [
    {
     "name": "stdout",
     "output_type": "stream",
     "text": [
      "'data.frame':\t1000 obs. of  7 variables:\n",
      " $ lifetime      : int  56 81 60 86 34 30 68 65 23 81 ...\n",
      " $ broken        : int  0 1 0 1 0 0 0 1 0 1 ...\n",
      " $ pressureInd   : num  92.2 72.1 96.3 94.4 97.8 ...\n",
      " $ moistureInd   : num  104.2 103.1 77.8 108.5 99.4 ...\n",
      " $ temperatureInd: num  96.5 87.3 112.2 72 103.8 ...\n",
      " $ team          : Factor w/ 3 levels \"TeamA\",\"TeamB\",..: 1 3 1 3 2 1 2 2 2 3 ...\n",
      " $ provider      : Factor w/ 4 levels \"Provider1\",\"Provider2\",..: 4 4 1 2 1 1 2 3 2 4 ...\n"
     ]
    }
   ],
   "source": [
    "str(MNT)"
   ]
  },
  {
   "cell_type": "code",
   "execution_count": 3,
   "metadata": {},
   "outputs": [
    {
     "data": {
      "text/plain": [
       "    lifetime        broken       pressureInd      moistureInd    \n",
       " Min.   : 1.0   Min.   :0.000   Min.   : 33.48   Min.   : 58.55  \n",
       " 1st Qu.:34.0   1st Qu.:0.000   1st Qu.: 85.56   1st Qu.: 92.77  \n",
       " Median :60.0   Median :0.000   Median : 97.22   Median : 99.43  \n",
       " Mean   :55.2   Mean   :0.397   Mean   : 98.60   Mean   : 99.38  \n",
       " 3rd Qu.:80.0   3rd Qu.:1.000   3rd Qu.:112.25   3rd Qu.:106.12  \n",
       " Max.   :93.0   Max.   :1.000   Max.   :173.28   Max.   :128.60  \n",
       " temperatureInd      team          provider  \n",
       " Min.   : 42.28   TeamA:336   Provider1:254  \n",
       " 1st Qu.: 87.68   TeamB:356   Provider2:266  \n",
       " Median :100.59   TeamC:308   Provider3:242  \n",
       " Mean   :100.63               Provider4:238  \n",
       " 3rd Qu.:113.66                              \n",
       " Max.   :172.54                              "
      ]
     },
     "metadata": {},
     "output_type": "display_data"
    }
   ],
   "source": [
    "summary(MNT)"
   ]
  },
  {
   "cell_type": "markdown",
   "metadata": {},
   "source": [
    "In this dataset, about 40% of the pieces are broken. For example, about 336 pieces have been allocated to teamA, and 254 pieces has been supplied by Provider1."
   ]
  },
  {
   "cell_type": "markdown",
   "metadata": {},
   "source": [
    "### Linear Regression Model"
   ]
  },
  {
   "cell_type": "markdown",
   "metadata": {},
   "source": [
    "Let's build a linear regression model, in order to estimate the lifetime of a pieces ('lifetime') based on the other variables of the dataset (minus the 'broken' variable):"
   ]
  },
  {
   "cell_type": "code",
   "execution_count": 4,
   "metadata": {},
   "outputs": [
    {
     "data": {
      "text/plain": [
       "\n",
       "Call:\n",
       "lm(formula = lifetime ~ . - broken, data = MNT)\n",
       "\n",
       "Residuals:\n",
       "    Min      1Q  Median      3Q     Max \n",
       "-59.388 -21.788   8.051  21.112  34.891 \n",
       "\n",
       "Coefficients:\n",
       "                    Estimate Std. Error t value Pr(>|t|)    \n",
       "(Intercept)       59.3732039 10.3412622   5.741 1.25e-08 ***\n",
       "pressureInd       -0.0031500  0.0416461  -0.076   0.9397    \n",
       "moistureInd       -0.0173023  0.0830046  -0.208   0.8349    \n",
       "temperatureInd    -0.0002769  0.0421330  -0.007   0.9948    \n",
       "teamTeamB          1.5491323  1.9983947   0.775   0.4384    \n",
       "teamTeamC         -3.4280411  2.0670679  -1.658   0.0976 .  \n",
       "providerProvider2  0.8835691  2.2944030   0.385   0.7002    \n",
       "providerProvider3 -9.4858216  2.3490911  -4.038 5.80e-05 ***\n",
       "providerProvider4  1.8679357  2.3616268   0.791   0.4292    \n",
       "---\n",
       "Signif. codes:  0 '***' 0.001 '**' 0.01 '*' 0.05 '.' 0.1 ' ' 1\n",
       "\n",
       "Residual standard error: 26.13 on 991 degrees of freedom\n",
       "Multiple R-squared:  0.0339,\tAdjusted R-squared:  0.0261 \n",
       "F-statistic: 4.346 on 8 and 991 DF,  p-value: 3.619e-05\n"
      ]
     },
     "metadata": {},
     "output_type": "display_data"
    }
   ],
   "source": [
    "# Build a Linear Regression Model\n",
    "linregmodel <- lm(lifetime~.-broken,data=MNT)  \n",
    "\n",
    "# Summary of our Linear Regression Model\n",
    "summary(linregmodel)"
   ]
  },
  {
   "cell_type": "markdown",
   "metadata": {},
   "source": [
    "It appears that the *providerProvider3* variable is statistically significant and has a negative effect on the lifetime of a piece. Here we cannot use a linear regression model because about 60% of the pieces haven't not broken yet. We don't know what the lifetime will be for pieces that haven't broken yet. All we know is that they are working until now."
   ]
  },
  {
   "cell_type": "markdown",
   "metadata": {},
   "source": [
    "### Survival Regression Model"
   ]
  },
  {
   "cell_type": "markdown",
   "metadata": {},
   "source": [
    "As seen in the lecture, we need to create a survival regression model:"
   ]
  },
  {
   "cell_type": "code",
   "execution_count": 5,
   "metadata": {},
   "outputs": [],
   "source": [
    "#install.packages(\"survival\")\n",
    "\n",
    "library(survival)"
   ]
  },
  {
   "cell_type": "code",
   "execution_count": 6,
   "metadata": {},
   "outputs": [
    {
     "data": {
      "text/plain": [
       "\n",
       "Call:\n",
       "survreg(formula = dependantvars ~ pressureInd + moistureInd + \n",
       "    temperatureInd + team + provider, data = MNT, dist = \"gaussian\")\n",
       "                      Value Std. Error       z      p\n",
       "(Intercept)        8.04e+01   2.94e-01  273.57 <2e-16\n",
       "pressureInd       -7.14e-04   1.22e-03   -0.59  0.557\n",
       "moistureInd        6.01e-03   2.40e-03    2.51  0.012\n",
       "temperatureInd    -1.04e-02   1.21e-03   -8.59 <2e-16\n",
       "teamTeamB         -5.67e-02   5.88e-02   -0.96  0.335\n",
       "teamTeamC         -6.22e+00   6.13e-02 -101.39 <2e-16\n",
       "providerProvider2  1.25e+01   6.67e-02  187.46 <2e-16\n",
       "providerProvider3 -1.44e+01   6.27e-02 -229.24 <2e-16\n",
       "providerProvider4  7.92e+00   7.06e-02  112.23 <2e-16\n",
       "Log(scale)        -7.43e-01   3.54e-02  -21.00 <2e-16\n",
       "\n",
       "Scale= 0.476 \n",
       "\n",
       "Gaussian distribution\n",
       "Loglik(model)= -270.1   Loglik(intercept only)= -1557\n",
       "\tChisq= 2573.75 on 8 degrees of freedom, p= 0 \n",
       "Number of Newton-Raphson Iterations: 12 \n",
       "n= 1000 \n"
      ]
     },
     "metadata": {},
     "output_type": "display_data"
    }
   ],
   "source": [
    "# choose the dependant variables to be used in the survival regression model with the Surv() function\n",
    "dependantvars <- Surv(MNT$lifetime, MNT$broken) \n",
    "\n",
    "# Create the survival regression model\n",
    "survreg <- survreg(dependantvars ~ pressureInd + moistureInd + temperatureInd + team + provider, dist=\"gaussian\",data=MNT) \n",
    "\n",
    "summary(survreg) "
   ]
  },
  {
   "cell_type": "markdown",
   "metadata": {},
   "source": [
    "For example, moisture and temperature are statistically significant. Moisture has a positive effect on the lifetime, whereas the temperature has a negative effect.\n",
    "\n",
    "Now let's make predictions on the estimated lifetime, using the survival regression model we just built. The predict function will output the median lifetime of each piece:"
   ]
  },
  {
   "cell_type": "code",
   "execution_count": 7,
   "metadata": {},
   "outputs": [],
   "source": [
    "# Make predictions based on the model. We are setting the quantile to 50%. \n",
    "# Hence, we estimate the median lifetime as the expected moment of \"death\"\n",
    "Ebreak <- predict(survreg, newdata=MNT, type=\"quantile\", p=.5)"
   ]
  },
  {
   "cell_type": "code",
   "execution_count": 8,
   "metadata": {},
   "outputs": [
    {
     "data": {
      "text/html": [
       "<table>\n",
       "<caption>A data.frame: 6 × 1</caption>\n",
       "<thead>\n",
       "\t<tr><th></th><th scope=col>Ebreak</th></tr>\n",
       "\t<tr><th></th><th scope=col>&lt;dbl&gt;</th></tr>\n",
       "</thead>\n",
       "<tbody>\n",
       "\t<tr><th scope=row>1</th><td>87.82547</td></tr>\n",
       "\t<tr><th scope=row>2</th><td>81.71139</td></tr>\n",
       "\t<tr><th scope=row>3</th><td>79.58070</td></tr>\n",
       "\t<tr><th scope=row>4</th><td>86.46185</td></tr>\n",
       "\t<tr><th scope=row>5</th><td>79.74085</td></tr>\n",
       "\t<tr><th scope=row>6</th><td>80.04827</td></tr>\n",
       "</tbody>\n",
       "</table>\n"
      ],
      "text/latex": [
       "A data.frame: 6 × 1\n",
       "\\begin{tabular}{r|l}\n",
       "  & Ebreak\\\\\n",
       "  & <dbl>\\\\\n",
       "\\hline\n",
       "\t1 & 87.82547\\\\\n",
       "\t2 & 81.71139\\\\\n",
       "\t3 & 79.58070\\\\\n",
       "\t4 & 86.46185\\\\\n",
       "\t5 & 79.74085\\\\\n",
       "\t6 & 80.04827\\\\\n",
       "\\end{tabular}\n"
      ],
      "text/markdown": [
       "\n",
       "A data.frame: 6 × 1\n",
       "\n",
       "| <!--/--> | Ebreak &lt;dbl&gt; |\n",
       "|---|---|\n",
       "| 1 | 87.82547 |\n",
       "| 2 | 81.71139 |\n",
       "| 3 | 79.58070 |\n",
       "| 4 | 86.46185 |\n",
       "| 5 | 79.74085 |\n",
       "| 6 | 80.04827 |\n",
       "\n"
      ],
      "text/plain": [
       "  Ebreak  \n",
       "1 87.82547\n",
       "2 81.71139\n",
       "3 79.58070\n",
       "4 86.46185\n",
       "5 79.74085\n",
       "6 80.04827"
      ]
     },
     "metadata": {},
     "output_type": "display_data"
    }
   ],
   "source": [
    "# Create a dataframe to store the ouput of Ebreak\n",
    "Forecast <- data.frame(Ebreak)\n",
    "head(Forecast)"
   ]
  },
  {
   "cell_type": "markdown",
   "metadata": {},
   "source": [
    "Then we add the following columns to the predicted median expected lifetime dataframe:\n",
    "\n",
    "* lifetime (= how a piece has been 'alive')\n",
    "* broken (= is the piece broken or not?)\n",
    "* remaining lifetime (=expected lifetime - lifetime to date)"
   ]
  },
  {
   "cell_type": "code",
   "execution_count": 9,
   "metadata": {},
   "outputs": [
    {
     "data": {
      "text/html": [
       "<table>\n",
       "<caption>A data.frame: 6 × 4</caption>\n",
       "<thead>\n",
       "\t<tr><th></th><th scope=col>Ebreak</th><th scope=col>lifetime</th><th scope=col>broken</th><th scope=col>RemainingLT</th></tr>\n",
       "\t<tr><th></th><th scope=col>&lt;dbl&gt;</th><th scope=col>&lt;int&gt;</th><th scope=col>&lt;int&gt;</th><th scope=col>&lt;dbl&gt;</th></tr>\n",
       "</thead>\n",
       "<tbody>\n",
       "\t<tr><th scope=row>1</th><td>87.82547</td><td>56</td><td>0</td><td>31.8254667</td></tr>\n",
       "\t<tr><th scope=row>2</th><td>81.71139</td><td>81</td><td>1</td><td> 0.7113900</td></tr>\n",
       "\t<tr><th scope=row>3</th><td>79.58070</td><td>60</td><td>0</td><td>19.5806969</td></tr>\n",
       "\t<tr><th scope=row>4</th><td>86.46185</td><td>86</td><td>1</td><td> 0.4618547</td></tr>\n",
       "\t<tr><th scope=row>5</th><td>79.74085</td><td>34</td><td>0</td><td>45.7408455</td></tr>\n",
       "\t<tr><th scope=row>6</th><td>80.04827</td><td>30</td><td>0</td><td>50.0482673</td></tr>\n",
       "</tbody>\n",
       "</table>\n"
      ],
      "text/latex": [
       "A data.frame: 6 × 4\n",
       "\\begin{tabular}{r|llll}\n",
       "  & Ebreak & lifetime & broken & RemainingLT\\\\\n",
       "  & <dbl> & <int> & <int> & <dbl>\\\\\n",
       "\\hline\n",
       "\t1 & 87.82547 & 56 & 0 & 31.8254667\\\\\n",
       "\t2 & 81.71139 & 81 & 1 &  0.7113900\\\\\n",
       "\t3 & 79.58070 & 60 & 0 & 19.5806969\\\\\n",
       "\t4 & 86.46185 & 86 & 1 &  0.4618547\\\\\n",
       "\t5 & 79.74085 & 34 & 0 & 45.7408455\\\\\n",
       "\t6 & 80.04827 & 30 & 0 & 50.0482673\\\\\n",
       "\\end{tabular}\n"
      ],
      "text/markdown": [
       "\n",
       "A data.frame: 6 × 4\n",
       "\n",
       "| <!--/--> | Ebreak &lt;dbl&gt; | lifetime &lt;int&gt; | broken &lt;int&gt; | RemainingLT &lt;dbl&gt; |\n",
       "|---|---|---|---|---|\n",
       "| 1 | 87.82547 | 56 | 0 | 31.8254667 |\n",
       "| 2 | 81.71139 | 81 | 1 |  0.7113900 |\n",
       "| 3 | 79.58070 | 60 | 0 | 19.5806969 |\n",
       "| 4 | 86.46185 | 86 | 1 |  0.4618547 |\n",
       "| 5 | 79.74085 | 34 | 0 | 45.7408455 |\n",
       "| 6 | 80.04827 | 30 | 0 | 50.0482673 |\n",
       "\n"
      ],
      "text/plain": [
       "  Ebreak   lifetime broken RemainingLT\n",
       "1 87.82547 56       0      31.8254667 \n",
       "2 81.71139 81       1       0.7113900 \n",
       "3 79.58070 60       0      19.5806969 \n",
       "4 86.46185 86       1       0.4618547 \n",
       "5 79.74085 34       0      45.7408455 \n",
       "6 80.04827 30       0      50.0482673 "
      ]
     },
     "metadata": {},
     "output_type": "display_data"
    }
   ],
   "source": [
    "# Add a column in the Forecast dataframe indicating the lifetime of the piece\n",
    "Forecast$lifetime <- MNT$lifetime\n",
    "\n",
    "# Add a column in the Forecast dataframe indicating whether or not the piece is broken\n",
    "Forecast$broken <- MNT$broken\n",
    "\n",
    "# Computed Expected Remaining Lifetime\n",
    "Forecast$RemainingLT <- Forecast$Ebreak - MNT$lifetime     \n",
    "\n",
    "head(Forecast)"
   ]
  },
  {
   "cell_type": "markdown",
   "metadata": {},
   "source": [
    "In order to take actions, we clean up the report by prioritizing (order by expected lifetime) and keeping only the non broken pieces:"
   ]
  },
  {
   "cell_type": "code",
   "execution_count": 10,
   "metadata": {},
   "outputs": [
    {
     "data": {
      "text/html": [
       "<table>\n",
       "<caption>A data.frame: 6 × 4</caption>\n",
       "<thead>\n",
       "\t<tr><th></th><th scope=col>Ebreak</th><th scope=col>lifetime</th><th scope=col>broken</th><th scope=col>RemainingLT</th></tr>\n",
       "\t<tr><th></th><th scope=col>&lt;dbl&gt;</th><th scope=col>&lt;int&gt;</th><th scope=col>&lt;int&gt;</th><th scope=col>&lt;dbl&gt;</th></tr>\n",
       "</thead>\n",
       "<tbody>\n",
       "\t<tr><th scope=row>80</th><td>87.81934</td><td>88</td><td>0</td><td>-0.1806637</td></tr>\n",
       "\t<tr><th scope=row>920</th><td>65.39920</td><td>65</td><td>0</td><td> 0.3992047</td></tr>\n",
       "\t<tr><th scope=row>138</th><td>81.62875</td><td>81</td><td>0</td><td> 0.6287524</td></tr>\n",
       "\t<tr><th scope=row>455</th><td>87.79644</td><td>87</td><td>0</td><td> 0.7964376</td></tr>\n",
       "\t<tr><th scope=row>917</th><td>85.91101</td><td>85</td><td>0</td><td> 0.9110116</td></tr>\n",
       "\t<tr><th scope=row>414</th><td>81.97309</td><td>81</td><td>0</td><td> 0.9730926</td></tr>\n",
       "</tbody>\n",
       "</table>\n"
      ],
      "text/latex": [
       "A data.frame: 6 × 4\n",
       "\\begin{tabular}{r|llll}\n",
       "  & Ebreak & lifetime & broken & RemainingLT\\\\\n",
       "  & <dbl> & <int> & <int> & <dbl>\\\\\n",
       "\\hline\n",
       "\t80 & 87.81934 & 88 & 0 & -0.1806637\\\\\n",
       "\t920 & 65.39920 & 65 & 0 &  0.3992047\\\\\n",
       "\t138 & 81.62875 & 81 & 0 &  0.6287524\\\\\n",
       "\t455 & 87.79644 & 87 & 0 &  0.7964376\\\\\n",
       "\t917 & 85.91101 & 85 & 0 &  0.9110116\\\\\n",
       "\t414 & 81.97309 & 81 & 0 &  0.9730926\\\\\n",
       "\\end{tabular}\n"
      ],
      "text/markdown": [
       "\n",
       "A data.frame: 6 × 4\n",
       "\n",
       "| <!--/--> | Ebreak &lt;dbl&gt; | lifetime &lt;int&gt; | broken &lt;int&gt; | RemainingLT &lt;dbl&gt; |\n",
       "|---|---|---|---|---|\n",
       "| 80 | 87.81934 | 88 | 0 | -0.1806637 |\n",
       "| 920 | 65.39920 | 65 | 0 |  0.3992047 |\n",
       "| 138 | 81.62875 | 81 | 0 |  0.6287524 |\n",
       "| 455 | 87.79644 | 87 | 0 |  0.7964376 |\n",
       "| 917 | 85.91101 | 85 | 0 |  0.9110116 |\n",
       "| 414 | 81.97309 | 81 | 0 |  0.9730926 |\n",
       "\n"
      ],
      "text/plain": [
       "    Ebreak   lifetime broken RemainingLT\n",
       "80  87.81934 88       0      -0.1806637 \n",
       "920 65.39920 65       0       0.3992047 \n",
       "138 81.62875 81       0       0.6287524 \n",
       "455 87.79644 87       0       0.7964376 \n",
       "917 85.91101 85       0       0.9110116 \n",
       "414 81.97309 81       0       0.9730926 "
      ]
     },
     "metadata": {},
     "output_type": "display_data"
    }
   ],
   "source": [
    "# Orders the dataframe by Expected Remaining Lifetime\n",
    "Forecast <- Forecast[order(Forecast$RemainingLT),]\n",
    "\n",
    "# And keeps only those who are not broken yet\n",
    "ActionsPriority <- Forecast[Forecast$broken==0,]\n",
    "\n",
    "head(ActionsPriority)"
   ]
  },
  {
   "cell_type": "markdown",
   "metadata": {},
   "source": [
    "### Questions"
   ]
  },
  {
   "cell_type": "markdown",
   "metadata": {},
   "source": [
    "**1) If instead of considering the effects significant when the p-value is smaller than 0.05 (as during the videos), we set the threshold of significance to 0.01, which one of the following is correct?**"
   ]
  },
  {
   "cell_type": "code",
   "execution_count": 11,
   "metadata": {},
   "outputs": [
    {
     "data": {
      "text/plain": [
       "\n",
       "Call:\n",
       "survreg(formula = dependantvars ~ pressureInd + moistureInd + \n",
       "    temperatureInd + team + provider, data = MNT, dist = \"gaussian\")\n",
       "                      Value Std. Error       z      p\n",
       "(Intercept)        8.04e+01   2.94e-01  273.57 <2e-16\n",
       "pressureInd       -7.14e-04   1.22e-03   -0.59  0.557\n",
       "moistureInd        6.01e-03   2.40e-03    2.51  0.012\n",
       "temperatureInd    -1.04e-02   1.21e-03   -8.59 <2e-16\n",
       "teamTeamB         -5.67e-02   5.88e-02   -0.96  0.335\n",
       "teamTeamC         -6.22e+00   6.13e-02 -101.39 <2e-16\n",
       "providerProvider2  1.25e+01   6.67e-02  187.46 <2e-16\n",
       "providerProvider3 -1.44e+01   6.27e-02 -229.24 <2e-16\n",
       "providerProvider4  7.92e+00   7.06e-02  112.23 <2e-16\n",
       "Log(scale)        -7.43e-01   3.54e-02  -21.00 <2e-16\n",
       "\n",
       "Scale= 0.476 \n",
       "\n",
       "Gaussian distribution\n",
       "Loglik(model)= -270.1   Loglik(intercept only)= -1557\n",
       "\tChisq= 2573.75 on 8 degrees of freedom, p= 0 \n",
       "Number of Newton-Raphson Iterations: 12 \n",
       "n= 1000 \n"
      ]
     },
     "metadata": {},
     "output_type": "display_data"
    }
   ],
   "source": [
    "summary(survreg)"
   ]
  },
  {
   "cell_type": "markdown",
   "metadata": {},
   "source": [
    "Pressure and Moisture are non-significant. Temperature is significant."
   ]
  },
  {
   "cell_type": "markdown",
   "metadata": {},
   "source": [
    "**2) If you use as explanatory variables only the Pressure, Moisture and Temperature indices (hence removing the teams and providers information), which one of the following is correct?**"
   ]
  },
  {
   "cell_type": "code",
   "execution_count": 12,
   "metadata": {},
   "outputs": [
    {
     "data": {
      "text/plain": [
       "\n",
       "Call:\n",
       "survreg(formula = dependantvars ~ pressureInd + moistureInd + \n",
       "    temperatureInd, data = MNT, dist = \"gaussian\")\n",
       "                 Value Std. Error     z      p\n",
       "(Intercept)    75.8525     5.9187 12.82 <2e-16\n",
       "pressureInd     0.0228     0.0249  0.91   0.36\n",
       "moistureInd     0.0394     0.0495  0.80   0.43\n",
       "temperatureInd -0.0223     0.0251 -0.89   0.37\n",
       "Log(scale)      2.3528     0.0340 69.19 <2e-16\n",
       "\n",
       "Scale= 10.5 \n",
       "\n",
       "Gaussian distribution\n",
       "Loglik(model)= -1555.9   Loglik(intercept only)= -1557\n",
       "\tChisq= 2.19 on 3 degrees of freedom, p= 0.53 \n",
       "Number of Newton-Raphson Iterations: 6 \n",
       "n= 1000 \n"
      ]
     },
     "metadata": {},
     "output_type": "display_data"
    }
   ],
   "source": [
    "survreg2 <- survreg(dependantvars ~ pressureInd + moistureInd + temperatureInd, dist=\"gaussian\",data=MNT)\n",
    "\n",
    "summary(survreg2) "
   ]
  },
  {
   "cell_type": "markdown",
   "metadata": {},
   "source": [
    "For this model, Pressure, Moisture and Temperature indexes are greater than 0.05. Hence they are not statistically significant."
   ]
  },
  {
   "cell_type": "markdown",
   "metadata": {},
   "source": [
    "**3) What is the ID of the element that has the largest expected remaining lifetime?**"
   ]
  },
  {
   "cell_type": "code",
   "execution_count": 13,
   "metadata": {},
   "outputs": [
    {
     "data": {
      "text/html": [
       "<table>\n",
       "<caption>A data.frame: 6 × 4</caption>\n",
       "<thead>\n",
       "\t<tr><th></th><th scope=col>Ebreak</th><th scope=col>lifetime</th><th scope=col>broken</th><th scope=col>RemainingLT</th></tr>\n",
       "\t<tr><th></th><th scope=col>&lt;dbl&gt;</th><th scope=col>&lt;int&gt;</th><th scope=col>&lt;int&gt;</th><th scope=col>&lt;dbl&gt;</th></tr>\n",
       "</thead>\n",
       "<tbody>\n",
       "\t<tr><th scope=row>53</th><td>92.24826</td><td>1</td><td>0</td><td>91.24826</td></tr>\n",
       "\t<tr><th scope=row>472</th><td>92.55563</td><td>2</td><td>0</td><td>90.55563</td></tr>\n",
       "\t<tr><th scope=row>877</th><td>92.31880</td><td>2</td><td>0</td><td>90.31880</td></tr>\n",
       "\t<tr><th scope=row>225</th><td>92.87914</td><td>3</td><td>0</td><td>89.87914</td></tr>\n",
       "\t<tr><th scope=row>708</th><td>92.69553</td><td>4</td><td>0</td><td>88.69553</td></tr>\n",
       "\t<tr><th scope=row>852</th><td>92.27872</td><td>5</td><td>0</td><td>87.27872</td></tr>\n",
       "</tbody>\n",
       "</table>\n"
      ],
      "text/latex": [
       "A data.frame: 6 × 4\n",
       "\\begin{tabular}{r|llll}\n",
       "  & Ebreak & lifetime & broken & RemainingLT\\\\\n",
       "  & <dbl> & <int> & <int> & <dbl>\\\\\n",
       "\\hline\n",
       "\t53 & 92.24826 & 1 & 0 & 91.24826\\\\\n",
       "\t472 & 92.55563 & 2 & 0 & 90.55563\\\\\n",
       "\t877 & 92.31880 & 2 & 0 & 90.31880\\\\\n",
       "\t225 & 92.87914 & 3 & 0 & 89.87914\\\\\n",
       "\t708 & 92.69553 & 4 & 0 & 88.69553\\\\\n",
       "\t852 & 92.27872 & 5 & 0 & 87.27872\\\\\n",
       "\\end{tabular}\n"
      ],
      "text/markdown": [
       "\n",
       "A data.frame: 6 × 4\n",
       "\n",
       "| <!--/--> | Ebreak &lt;dbl&gt; | lifetime &lt;int&gt; | broken &lt;int&gt; | RemainingLT &lt;dbl&gt; |\n",
       "|---|---|---|---|---|\n",
       "| 53 | 92.24826 | 1 | 0 | 91.24826 |\n",
       "| 472 | 92.55563 | 2 | 0 | 90.55563 |\n",
       "| 877 | 92.31880 | 2 | 0 | 90.31880 |\n",
       "| 225 | 92.87914 | 3 | 0 | 89.87914 |\n",
       "| 708 | 92.69553 | 4 | 0 | 88.69553 |\n",
       "| 852 | 92.27872 | 5 | 0 | 87.27872 |\n",
       "\n"
      ],
      "text/plain": [
       "    Ebreak   lifetime broken RemainingLT\n",
       "53  92.24826 1        0      91.24826   \n",
       "472 92.55563 2        0      90.55563   \n",
       "877 92.31880 2        0      90.31880   \n",
       "225 92.87914 3        0      89.87914   \n",
       "708 92.69553 4        0      88.69553   \n",
       "852 92.27872 5        0      87.27872   "
      ]
     },
     "metadata": {},
     "output_type": "display_data"
    }
   ],
   "source": [
    "head( Forecast[order(-Forecast$RemainingLT),] )"
   ]
  },
  {
   "cell_type": "markdown",
   "metadata": {},
   "source": [
    "Item #53 has the largest expected remaining lifetime."
   ]
  }
 ],
 "metadata": {
  "kernelspec": {
   "display_name": "R",
   "language": "R",
   "name": "ir"
  },
  "language_info": {
   "codemirror_mode": "r",
   "file_extension": ".r",
   "mimetype": "text/x-r-source",
   "name": "R",
   "pygments_lexer": "r",
   "version": "3.6.3"
  }
 },
 "nbformat": 4,
 "nbformat_minor": 4
}
