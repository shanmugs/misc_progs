{
 "cells": [
  {
   "cell_type": "markdown",
   "metadata": {},
   "source": [
    "# Human Ressources Analytics"
   ]
  },
  {
   "cell_type": "markdown",
   "metadata": {},
   "source": [
    "**Loading csv files**"
   ]
  },
  {
   "cell_type": "code",
   "execution_count": 1,
   "metadata": {},
   "outputs": [
    {
     "data": {
      "text/html": [
       "<table>\n",
       "<caption>A data.frame: 6 × 6</caption>\n",
       "<thead>\n",
       "\t<tr><th></th><th scope=col>S</th><th scope=col>LPE</th><th scope=col>NP</th><th scope=col>ANH</th><th scope=col>TIC</th><th scope=col>Newborn</th></tr>\n",
       "\t<tr><th></th><th scope=col>&lt;dbl&gt;</th><th scope=col>&lt;dbl&gt;</th><th scope=col>&lt;int&gt;</th><th scope=col>&lt;int&gt;</th><th scope=col>&lt;int&gt;</th><th scope=col>&lt;int&gt;</th></tr>\n",
       "</thead>\n",
       "<tbody>\n",
       "\t<tr><th scope=row>1</th><td>0.38</td><td>0.53</td><td>2</td><td>157</td><td>3</td><td>0</td></tr>\n",
       "\t<tr><th scope=row>2</th><td>0.80</td><td>0.86</td><td>5</td><td>262</td><td>6</td><td>0</td></tr>\n",
       "\t<tr><th scope=row>3</th><td>0.11</td><td>0.88</td><td>7</td><td>272</td><td>4</td><td>0</td></tr>\n",
       "\t<tr><th scope=row>4</th><td>0.72</td><td>0.87</td><td>5</td><td>223</td><td>5</td><td>0</td></tr>\n",
       "\t<tr><th scope=row>5</th><td>0.37</td><td>0.52</td><td>2</td><td>159</td><td>3</td><td>0</td></tr>\n",
       "\t<tr><th scope=row>6</th><td>0.41</td><td>0.50</td><td>2</td><td>153</td><td>3</td><td>0</td></tr>\n",
       "</tbody>\n",
       "</table>\n"
      ],
      "text/latex": [
       "A data.frame: 6 × 6\n",
       "\\begin{tabular}{r|llllll}\n",
       "  & S & LPE & NP & ANH & TIC & Newborn\\\\\n",
       "  & <dbl> & <dbl> & <int> & <int> & <int> & <int>\\\\\n",
       "\\hline\n",
       "\t1 & 0.38 & 0.53 & 2 & 157 & 3 & 0\\\\\n",
       "\t2 & 0.80 & 0.86 & 5 & 262 & 6 & 0\\\\\n",
       "\t3 & 0.11 & 0.88 & 7 & 272 & 4 & 0\\\\\n",
       "\t4 & 0.72 & 0.87 & 5 & 223 & 5 & 0\\\\\n",
       "\t5 & 0.37 & 0.52 & 2 & 159 & 3 & 0\\\\\n",
       "\t6 & 0.41 & 0.50 & 2 & 153 & 3 & 0\\\\\n",
       "\\end{tabular}\n"
      ],
      "text/markdown": [
       "\n",
       "A data.frame: 6 × 6\n",
       "\n",
       "| <!--/--> | S &lt;dbl&gt; | LPE &lt;dbl&gt; | NP &lt;int&gt; | ANH &lt;int&gt; | TIC &lt;int&gt; | Newborn &lt;int&gt; |\n",
       "|---|---|---|---|---|---|---|\n",
       "| 1 | 0.38 | 0.53 | 2 | 157 | 3 | 0 |\n",
       "| 2 | 0.80 | 0.86 | 5 | 262 | 6 | 0 |\n",
       "| 3 | 0.11 | 0.88 | 7 | 272 | 4 | 0 |\n",
       "| 4 | 0.72 | 0.87 | 5 | 223 | 5 | 0 |\n",
       "| 5 | 0.37 | 0.52 | 2 | 159 | 3 | 0 |\n",
       "| 6 | 0.41 | 0.50 | 2 | 153 | 3 | 0 |\n",
       "\n"
      ],
      "text/plain": [
       "  S    LPE  NP ANH TIC Newborn\n",
       "1 0.38 0.53 2  157 3   0      \n",
       "2 0.80 0.86 5  262 6   0      \n",
       "3 0.11 0.88 7  272 4   0      \n",
       "4 0.72 0.87 5  223 5   0      \n",
       "5 0.37 0.52 2  159 3   0      \n",
       "6 0.41 0.50 2  153 3   0      "
      ]
     },
     "metadata": {},
     "output_type": "display_data"
    }
   ],
   "source": [
    "HUMRES <- read.csv(\"data/DATA_2.02_HR.csv\")\n",
    "head(HUMRES)"
   ]
  },
  {
   "cell_type": "markdown",
   "metadata": {},
   "source": [
    "**Exploring the file**"
   ]
  },
  {
   "cell_type": "code",
   "execution_count": 2,
   "metadata": {},
   "outputs": [
    {
     "name": "stdout",
     "output_type": "stream",
     "text": [
      "'data.frame':\t2000 obs. of  6 variables:\n",
      " $ S      : num  0.38 0.8 0.11 0.72 0.37 0.41 0.1 0.92 0.89 0.42 ...\n",
      " $ LPE    : num  0.53 0.86 0.88 0.87 0.52 0.5 0.77 0.85 1 0.53 ...\n",
      " $ NP     : int  2 5 7 5 2 2 6 5 5 2 ...\n",
      " $ ANH    : int  157 262 272 223 159 153 247 259 224 142 ...\n",
      " $ TIC    : int  3 6 4 5 3 3 4 5 5 3 ...\n",
      " $ Newborn: int  0 0 0 0 0 0 0 0 0 0 ...\n"
     ]
    }
   ],
   "source": [
    "str(HUMRES)"
   ]
  },
  {
   "cell_type": "code",
   "execution_count": 3,
   "metadata": {},
   "outputs": [
    {
     "data": {
      "text/plain": [
       "       S             LPE              NP             ANH             TIC       \n",
       " Min.   :0.09   Min.   :0.450   Min.   :2.000   Min.   :126.0   Min.   :2.000  \n",
       " 1st Qu.:0.11   1st Qu.:0.520   1st Qu.:2.000   1st Qu.:146.0   1st Qu.:3.000  \n",
       " Median :0.41   Median :0.790   Median :4.000   Median :225.0   Median :4.000  \n",
       " Mean   :0.44   Mean   :0.721   Mean   :3.877   Mean   :207.9   Mean   :3.878  \n",
       " 3rd Qu.:0.73   3rd Qu.:0.900   3rd Qu.:6.000   3rd Qu.:262.0   3rd Qu.:5.000  \n",
       " Max.   :0.92   Max.   :1.000   Max.   :7.000   Max.   :310.0   Max.   :6.000  \n",
       "    Newborn      \n",
       " Min.   :0.0000  \n",
       " 1st Qu.:0.0000  \n",
       " Median :0.0000  \n",
       " Mean   :0.0525  \n",
       " 3rd Qu.:0.0000  \n",
       " Max.   :1.0000  "
      ]
     },
     "metadata": {},
     "output_type": "display_data"
    }
   ],
   "source": [
    "summary(HUMRES)"
   ]
  },
  {
   "cell_type": "code",
   "execution_count": 4,
   "metadata": {},
   "outputs": [],
   "source": [
    "# ggplot libray\n",
    "library(ggplot2)"
   ]
  },
  {
   "cell_type": "code",
   "execution_count": 5,
   "metadata": {},
   "outputs": [
    {
     "data": {
      "image/png": "[encoded data removed]",
      "text/plain": [
       "plot without title"
      ]
     },
     "metadata": {
      "image/png": {
       "height": 420,
       "width": 420
      },
      "text/plain": {
       "height": 420,
       "width": 420
      }
     },
     "output_type": "display_data"
    }
   ],
   "source": [
    "# LPE = Last Project Evaluation\n",
    "# NP = Number of Prijects\n",
    "\n",
    "ggplot(data=HUMRES, aes(x=NP,y=LPE)) + \n",
    "  geom_point() +\n",
    "  xlab(\"Number of project\") +\n",
    "  ylab(\"Last Project Evaluation\")"
   ]
  },
  {
   "cell_type": "markdown",
   "metadata": {},
   "source": [
    "#### Now, let's normalize our variables"
   ]
  },
  {
   "cell_type": "code",
   "execution_count": 6,
   "metadata": {},
   "outputs": [],
   "source": [
    "# To keep our dataset safe, let's create a copy of it called \"testdata\"\n",
    "testdata = HUMRES\n",
    "\n",
    "# the scale function automatically performs data normalization on all your variables\n",
    "testdata = scale(testdata) "
   ]
  },
  {
   "cell_type": "code",
   "execution_count": 7,
   "metadata": {},
   "outputs": [],
   "source": [
    "# the dist() function computes the distances of all the observations in our dataset\n",
    "d = dist(testdata, method = \"euclidean\")\n",
    "\n",
    "# hclust() function performs hiearchical clustering, we pass it the distances, and we set the method argument to \"ward.D\"\n",
    "hcward = hclust(d, method=\"ward.D\") "
   ]
  },
  {
   "cell_type": "code",
   "execution_count": 8,
   "metadata": {},
   "outputs": [],
   "source": [
    "# assign our points to our k=4 clusters\n",
    "HUMRES$groups = cutree(hcward,k=4) "
   ]
  },
  {
   "cell_type": "code",
   "execution_count": 9,
   "metadata": {},
   "outputs": [],
   "source": [
    "# The aggregate() function presents a summary of a statistic, broken down by one or more groups. \n",
    "# Here we compute the mean of each variable for each group.\n",
    "aggdata = aggregate(.~ groups, data=HUMRES, FUN=mean) "
   ]
  },
  {
   "cell_type": "markdown",
   "metadata": {},
   "source": [
    "#### One thing we would like to have is the proportion of our data that is in each cluster"
   ]
  },
  {
   "cell_type": "code",
   "execution_count": 10,
   "metadata": {},
   "outputs": [],
   "source": [
    "# we create a variable called proptemp which computes the number of observations in each group \n",
    "# (using the S variable, but you can take any.)\n",
    "proptemp=aggregate(S~ groups, data=HUMRES, FUN=length)\n",
    "\n",
    "# proportion of observations in each group we compute the ratio between proptemp and the total number of observations\n",
    "aggdata$proportion=(proptemp$S)/sum(proptemp$S)\n",
    "\n",
    "# Let's order the groups from the larger to the smaller\n",
    "aggdata = aggdata[order(aggdata$proportion,decreasing=T),] "
   ]
  },
  {
   "cell_type": "code",
   "execution_count": 11,
   "metadata": {},
   "outputs": [
    {
     "data": {
      "text/html": [
       "<table>\n",
       "<caption>A data.frame: 4 × 8</caption>\n",
       "<thead>\n",
       "\t<tr><th></th><th scope=col>groups</th><th scope=col>S</th><th scope=col>LPE</th><th scope=col>NP</th><th scope=col>ANH</th><th scope=col>TIC</th><th scope=col>Newborn</th><th scope=col>proportion</th></tr>\n",
       "\t<tr><th></th><th scope=col>&lt;int&gt;</th><th scope=col>&lt;dbl&gt;</th><th scope=col>&lt;dbl&gt;</th><th scope=col>&lt;dbl&gt;</th><th scope=col>&lt;dbl&gt;</th><th scope=col>&lt;dbl&gt;</th><th scope=col>&lt;dbl&gt;</th><th scope=col>&lt;dbl&gt;</th></tr>\n",
       "</thead>\n",
       "<tbody>\n",
       "\t<tr><th scope=row>1</th><td>1</td><td>0.4082346</td><td>0.5106936</td><td>2.000000</td><td>143.5044</td><td>3.000000</td><td>0</td><td>0.3965</td></tr>\n",
       "\t<tr><th scope=row>2</th><td>2</td><td>0.7355272</td><td>0.8732588</td><td>4.476038</td><td>237.7732</td><td>4.811502</td><td>0</td><td>0.3130</td></tr>\n",
       "\t<tr><th scope=row>3</th><td>3</td><td>0.1028571</td><td>0.8715126</td><td>6.237395</td><td>276.7353</td><td>4.115546</td><td>0</td><td>0.2380</td></tr>\n",
       "\t<tr><th scope=row>4</th><td>4</td><td>0.4455238</td><td>0.7195238</td><td>3.780952</td><td>204.3524</td><td>3.866667</td><td>1</td><td>0.0525</td></tr>\n",
       "</tbody>\n",
       "</table>\n"
      ],
      "text/latex": [
       "A data.frame: 4 × 8\n",
       "\\begin{tabular}{r|llllllll}\n",
       "  & groups & S & LPE & NP & ANH & TIC & Newborn & proportion\\\\\n",
       "  & <int> & <dbl> & <dbl> & <dbl> & <dbl> & <dbl> & <dbl> & <dbl>\\\\\n",
       "\\hline\n",
       "\t1 & 1 & 0.4082346 & 0.5106936 & 2.000000 & 143.5044 & 3.000000 & 0 & 0.3965\\\\\n",
       "\t2 & 2 & 0.7355272 & 0.8732588 & 4.476038 & 237.7732 & 4.811502 & 0 & 0.3130\\\\\n",
       "\t3 & 3 & 0.1028571 & 0.8715126 & 6.237395 & 276.7353 & 4.115546 & 0 & 0.2380\\\\\n",
       "\t4 & 4 & 0.4455238 & 0.7195238 & 3.780952 & 204.3524 & 3.866667 & 1 & 0.0525\\\\\n",
       "\\end{tabular}\n"
      ],
      "text/markdown": [
       "\n",
       "A data.frame: 4 × 8\n",
       "\n",
       "| <!--/--> | groups &lt;int&gt; | S &lt;dbl&gt; | LPE &lt;dbl&gt; | NP &lt;dbl&gt; | ANH &lt;dbl&gt; | TIC &lt;dbl&gt; | Newborn &lt;dbl&gt; | proportion &lt;dbl&gt; |\n",
       "|---|---|---|---|---|---|---|---|---|\n",
       "| 1 | 1 | 0.4082346 | 0.5106936 | 2.000000 | 143.5044 | 3.000000 | 0 | 0.3965 |\n",
       "| 2 | 2 | 0.7355272 | 0.8732588 | 4.476038 | 237.7732 | 4.811502 | 0 | 0.3130 |\n",
       "| 3 | 3 | 0.1028571 | 0.8715126 | 6.237395 | 276.7353 | 4.115546 | 0 | 0.2380 |\n",
       "| 4 | 4 | 0.4455238 | 0.7195238 | 3.780952 | 204.3524 | 3.866667 | 1 | 0.0525 |\n",
       "\n"
      ],
      "text/plain": [
       "  groups S         LPE       NP       ANH      TIC      Newborn proportion\n",
       "1 1      0.4082346 0.5106936 2.000000 143.5044 3.000000 0       0.3965    \n",
       "2 2      0.7355272 0.8732588 4.476038 237.7732 4.811502 0       0.3130    \n",
       "3 3      0.1028571 0.8715126 6.237395 276.7353 4.115546 0       0.2380    \n",
       "4 4      0.4455238 0.7195238 3.780952 204.3524 3.866667 1       0.0525    "
      ]
     },
     "metadata": {},
     "output_type": "display_data"
    }
   ],
   "source": [
    "aggdata"
   ]
  },
  {
   "cell_type": "code",
   "execution_count": 12,
   "metadata": {},
   "outputs": [
    {
     "data": {
      "text/html": [
       "<table>\n",
       "<caption>A data.frame: 6 × 5</caption>\n",
       "<thead>\n",
       "\t<tr><th></th><th scope=col>S</th><th scope=col>LPE</th><th scope=col>NP</th><th scope=col>ANH</th><th scope=col>TIC</th></tr>\n",
       "\t<tr><th></th><th scope=col>&lt;dbl&gt;</th><th scope=col>&lt;dbl&gt;</th><th scope=col>&lt;int&gt;</th><th scope=col>&lt;int&gt;</th><th scope=col>&lt;int&gt;</th></tr>\n",
       "</thead>\n",
       "<tbody>\n",
       "\t<tr><th scope=row>1</th><td>0.38</td><td>0.53</td><td>2</td><td>157</td><td>3</td></tr>\n",
       "\t<tr><th scope=row>2</th><td>0.80</td><td>0.86</td><td>5</td><td>262</td><td>6</td></tr>\n",
       "\t<tr><th scope=row>3</th><td>0.11</td><td>0.88</td><td>7</td><td>272</td><td>4</td></tr>\n",
       "\t<tr><th scope=row>4</th><td>0.72</td><td>0.87</td><td>5</td><td>223</td><td>5</td></tr>\n",
       "\t<tr><th scope=row>5</th><td>0.37</td><td>0.52</td><td>2</td><td>159</td><td>3</td></tr>\n",
       "\t<tr><th scope=row>6</th><td>0.41</td><td>0.50</td><td>2</td><td>153</td><td>3</td></tr>\n",
       "</tbody>\n",
       "</table>\n"
      ],
      "text/latex": [
       "A data.frame: 6 × 5\n",
       "\\begin{tabular}{r|lllll}\n",
       "  & S & LPE & NP & ANH & TIC\\\\\n",
       "  & <dbl> & <dbl> & <int> & <int> & <int>\\\\\n",
       "\\hline\n",
       "\t1 & 0.38 & 0.53 & 2 & 157 & 3\\\\\n",
       "\t2 & 0.80 & 0.86 & 5 & 262 & 6\\\\\n",
       "\t3 & 0.11 & 0.88 & 7 & 272 & 4\\\\\n",
       "\t4 & 0.72 & 0.87 & 5 & 223 & 5\\\\\n",
       "\t5 & 0.37 & 0.52 & 2 & 159 & 3\\\\\n",
       "\t6 & 0.41 & 0.50 & 2 & 153 & 3\\\\\n",
       "\\end{tabular}\n"
      ],
      "text/markdown": [
       "\n",
       "A data.frame: 6 × 5\n",
       "\n",
       "| <!--/--> | S &lt;dbl&gt; | LPE &lt;dbl&gt; | NP &lt;int&gt; | ANH &lt;int&gt; | TIC &lt;int&gt; |\n",
       "|---|---|---|---|---|---|\n",
       "| 1 | 0.38 | 0.53 | 2 | 157 | 3 |\n",
       "| 2 | 0.80 | 0.86 | 5 | 262 | 6 |\n",
       "| 3 | 0.11 | 0.88 | 7 | 272 | 4 |\n",
       "| 4 | 0.72 | 0.87 | 5 | 223 | 5 |\n",
       "| 5 | 0.37 | 0.52 | 2 | 159 | 3 |\n",
       "| 6 | 0.41 | 0.50 | 2 | 153 | 3 |\n",
       "\n"
      ],
      "text/plain": [
       "  S    LPE  NP ANH TIC\n",
       "1 0.38 0.53 2  157 3  \n",
       "2 0.80 0.86 5  262 6  \n",
       "3 0.11 0.88 7  272 4  \n",
       "4 0.72 0.87 5  223 5  \n",
       "5 0.37 0.52 2  159 3  \n",
       "6 0.41 0.50 2  153 3  "
      ]
     },
     "metadata": {},
     "output_type": "display_data"
    }
   ],
   "source": [
    "# let's remove the Newborn variable, which is not really relevant and by being a dummy drives the clustering too much...\n",
    "testdata = HUMRES[,1:5]\n",
    "head(testdata)"
   ]
  },
  {
   "cell_type": "code",
   "execution_count": 13,
   "metadata": {},
   "outputs": [],
   "source": [
    "# We normalize again our original variables\n",
    "testdata = scale(testdata)\n",
    "\n",
    "# We compute the distances between observations\n",
    "d = dist(testdata, method = \"euclidean\") \n",
    "\n",
    "# Hiearchical Clustering using Ward criterion\n",
    "hcward = hclust(d, method=\"ward.D\") "
   ]
  },
  {
   "cell_type": "code",
   "execution_count": 14,
   "metadata": {},
   "outputs": [],
   "source": [
    "# Create segments for k=4\n",
    "HUMRES$groups = cutree(hcward,k=4) "
   ]
  },
  {
   "cell_type": "markdown",
   "metadata": {},
   "source": [
    "Note that we re-use the original dataset \"HUMRES\" (where the variable Newborn is still present) and not \"testdata\" (where the variable Newborn has been removed). Hence we'll be able to produce summary statistics also for the Newborn variable regardless it wasn't included when doing the second version of the clustering"
   ]
  },
  {
   "cell_type": "code",
   "execution_count": 15,
   "metadata": {},
   "outputs": [],
   "source": [
    "# Aggregate the values again\n",
    "aggdata = aggregate(.~ groups, data=HUMRES, FUN=mean)"
   ]
  },
  {
   "cell_type": "code",
   "execution_count": 16,
   "metadata": {},
   "outputs": [],
   "source": [
    "# Compute the number of observations per group\n",
    "proptemp=aggregate(S~ groups, data=HUMRES, FUN=length)  \n",
    "\n",
    "# Compute the proportion\n",
    "aggdata$proportion=(proptemp$S)/sum(proptemp$S) \n",
    "\n",
    "# Let's order the groups from the larger to the smaller\n",
    "aggdata=aggdata[order(aggdata$proportion,decreasing=T),] "
   ]
  },
  {
   "cell_type": "code",
   "execution_count": 17,
   "metadata": {},
   "outputs": [
    {
     "data": {
      "text/html": [
       "<table>\n",
       "<caption>A data.frame: 4 × 8</caption>\n",
       "<thead>\n",
       "\t<tr><th></th><th scope=col>groups</th><th scope=col>S</th><th scope=col>LPE</th><th scope=col>NP</th><th scope=col>ANH</th><th scope=col>TIC</th><th scope=col>Newborn</th><th scope=col>proportion</th></tr>\n",
       "\t<tr><th></th><th scope=col>&lt;int&gt;</th><th scope=col>&lt;dbl&gt;</th><th scope=col>&lt;dbl&gt;</th><th scope=col>&lt;dbl&gt;</th><th scope=col>&lt;dbl&gt;</th><th scope=col>&lt;dbl&gt;</th><th scope=col>&lt;dbl&gt;</th><th scope=col>&lt;dbl&gt;</th></tr>\n",
       "</thead>\n",
       "<tbody>\n",
       "\t<tr><th scope=row>1</th><td>1</td><td>0.4083871</td><td>0.5105615</td><td>2.000000</td><td>143.5735</td><td>3.000000</td><td>0.05256870</td><td>0.4185</td></tr>\n",
       "\t<tr><th scope=row>3</th><td>3</td><td>0.1033399</td><td>0.8718182</td><td>6.201581</td><td>276.3004</td><td>4.100791</td><td>0.04743083</td><td>0.2530</td></tr>\n",
       "\t<tr><th scope=row>2</th><td>2</td><td>0.8184082</td><td>0.9225306</td><td>4.604082</td><td>247.3918</td><td>5.206122</td><td>0.05102041</td><td>0.2450</td></tr>\n",
       "\t<tr><th scope=row>4</th><td>4</td><td>0.5076647</td><td>0.7276048</td><td>4.107784</td><td>207.3473</td><td>3.706587</td><td>0.07185629</td><td>0.0835</td></tr>\n",
       "</tbody>\n",
       "</table>\n"
      ],
      "text/latex": [
       "A data.frame: 4 × 8\n",
       "\\begin{tabular}{r|llllllll}\n",
       "  & groups & S & LPE & NP & ANH & TIC & Newborn & proportion\\\\\n",
       "  & <int> & <dbl> & <dbl> & <dbl> & <dbl> & <dbl> & <dbl> & <dbl>\\\\\n",
       "\\hline\n",
       "\t1 & 1 & 0.4083871 & 0.5105615 & 2.000000 & 143.5735 & 3.000000 & 0.05256870 & 0.4185\\\\\n",
       "\t3 & 3 & 0.1033399 & 0.8718182 & 6.201581 & 276.3004 & 4.100791 & 0.04743083 & 0.2530\\\\\n",
       "\t2 & 2 & 0.8184082 & 0.9225306 & 4.604082 & 247.3918 & 5.206122 & 0.05102041 & 0.2450\\\\\n",
       "\t4 & 4 & 0.5076647 & 0.7276048 & 4.107784 & 207.3473 & 3.706587 & 0.07185629 & 0.0835\\\\\n",
       "\\end{tabular}\n"
      ],
      "text/markdown": [
       "\n",
       "A data.frame: 4 × 8\n",
       "\n",
       "| <!--/--> | groups &lt;int&gt; | S &lt;dbl&gt; | LPE &lt;dbl&gt; | NP &lt;dbl&gt; | ANH &lt;dbl&gt; | TIC &lt;dbl&gt; | Newborn &lt;dbl&gt; | proportion &lt;dbl&gt; |\n",
       "|---|---|---|---|---|---|---|---|---|\n",
       "| 1 | 1 | 0.4083871 | 0.5105615 | 2.000000 | 143.5735 | 3.000000 | 0.05256870 | 0.4185 |\n",
       "| 3 | 3 | 0.1033399 | 0.8718182 | 6.201581 | 276.3004 | 4.100791 | 0.04743083 | 0.2530 |\n",
       "| 2 | 2 | 0.8184082 | 0.9225306 | 4.604082 | 247.3918 | 5.206122 | 0.05102041 | 0.2450 |\n",
       "| 4 | 4 | 0.5076647 | 0.7276048 | 4.107784 | 207.3473 | 3.706587 | 0.07185629 | 0.0835 |\n",
       "\n"
      ],
      "text/plain": [
       "  groups S         LPE       NP       ANH      TIC      Newborn    proportion\n",
       "1 1      0.4083871 0.5105615 2.000000 143.5735 3.000000 0.05256870 0.4185    \n",
       "3 3      0.1033399 0.8718182 6.201581 276.3004 4.100791 0.04743083 0.2530    \n",
       "2 2      0.8184082 0.9225306 4.604082 247.3918 5.206122 0.05102041 0.2450    \n",
       "4 4      0.5076647 0.7276048 4.107784 207.3473 3.706587 0.07185629 0.0835    "
      ]
     },
     "metadata": {},
     "output_type": "display_data"
    }
   ],
   "source": [
    "aggdata"
   ]
  },
  {
   "cell_type": "markdown",
   "metadata": {},
   "source": [
    "#### Writing csv files"
   ]
  },
  {
   "cell_type": "code",
   "execution_count": 18,
   "metadata": {},
   "outputs": [],
   "source": [
    "write.csv(aggdata, \"data/Report_aggdata.csv\")"
   ]
  },
  {
   "cell_type": "markdown",
   "metadata": {},
   "source": [
    "**Question:** If you cluster the HR dataset (DATA_2.02_HR.csv) on Satisfaction, Project Evaluation and Number of Projects Done and that you keep 2 segments using the same values for the other specifications (scaling, distance type and clustering algorithm), what’s the resulting median Satisfaction per segment?"
   ]
  },
  {
   "cell_type": "code",
   "execution_count": 19,
   "metadata": {},
   "outputs": [
    {
     "data": {
      "text/html": [
       "<table>\n",
       "<caption>A data.frame: 2 × 8</caption>\n",
       "<thead>\n",
       "\t<tr><th></th><th scope=col>groups</th><th scope=col>S</th><th scope=col>LPE</th><th scope=col>NP</th><th scope=col>ANH</th><th scope=col>TIC</th><th scope=col>Newborn</th><th scope=col>proportion</th></tr>\n",
       "\t<tr><th></th><th scope=col>&lt;int&gt;</th><th scope=col>&lt;dbl&gt;</th><th scope=col>&lt;dbl&gt;</th><th scope=col>&lt;dbl&gt;</th><th scope=col>&lt;dbl&gt;</th><th scope=col>&lt;dbl&gt;</th><th scope=col>&lt;dbl&gt;</th><th scope=col>&lt;dbl&gt;</th></tr>\n",
       "</thead>\n",
       "<tbody>\n",
       "\t<tr><th scope=row>2</th><td>2</td><td>0.4626741</td><td>0.8724764</td><td>5.227859</td><td>254.2193</td><td>4.509888</td><td>0.05245056</td><td>0.5815</td></tr>\n",
       "\t<tr><th scope=row>1</th><td>1</td><td>0.4083871</td><td>0.5105615</td><td>2.000000</td><td>143.5735</td><td>3.000000</td><td>0.05256870</td><td>0.4185</td></tr>\n",
       "</tbody>\n",
       "</table>\n"
      ],
      "text/latex": [
       "A data.frame: 2 × 8\n",
       "\\begin{tabular}{r|llllllll}\n",
       "  & groups & S & LPE & NP & ANH & TIC & Newborn & proportion\\\\\n",
       "  & <int> & <dbl> & <dbl> & <dbl> & <dbl> & <dbl> & <dbl> & <dbl>\\\\\n",
       "\\hline\n",
       "\t2 & 2 & 0.4626741 & 0.8724764 & 5.227859 & 254.2193 & 4.509888 & 0.05245056 & 0.5815\\\\\n",
       "\t1 & 1 & 0.4083871 & 0.5105615 & 2.000000 & 143.5735 & 3.000000 & 0.05256870 & 0.4185\\\\\n",
       "\\end{tabular}\n"
      ],
      "text/markdown": [
       "\n",
       "A data.frame: 2 × 8\n",
       "\n",
       "| <!--/--> | groups &lt;int&gt; | S &lt;dbl&gt; | LPE &lt;dbl&gt; | NP &lt;dbl&gt; | ANH &lt;dbl&gt; | TIC &lt;dbl&gt; | Newborn &lt;dbl&gt; | proportion &lt;dbl&gt; |\n",
       "|---|---|---|---|---|---|---|---|---|\n",
       "| 2 | 2 | 0.4626741 | 0.8724764 | 5.227859 | 254.2193 | 4.509888 | 0.05245056 | 0.5815 |\n",
       "| 1 | 1 | 0.4083871 | 0.5105615 | 2.000000 | 143.5735 | 3.000000 | 0.05256870 | 0.4185 |\n",
       "\n"
      ],
      "text/plain": [
       "  groups S         LPE       NP       ANH      TIC      Newborn    proportion\n",
       "2 2      0.4626741 0.8724764 5.227859 254.2193 4.509888 0.05245056 0.5815    \n",
       "1 1      0.4083871 0.5105615 2.000000 143.5735 3.000000 0.05256870 0.4185    "
      ]
     },
     "metadata": {},
     "output_type": "display_data"
    }
   ],
   "source": [
    "HUMRES$groups <- cutree(hcward,k=2)      # k=2 clusters\n",
    "\n",
    "aggdata = aggregate(.~ groups, data=HUMRES, FUN=mean)\n",
    "\n",
    "proptemp=aggregate(S~ groups, data=HUMRES, FUN=length)  \n",
    "\n",
    "aggdata$proportion=(proptemp$S)/sum(proptemp$S) \n",
    "\n",
    "aggdata=aggdata[order(aggdata$proportion,decreasing=T),]\n",
    "\n",
    "aggdata"
   ]
  }
 ],
 "metadata": {
  "kernelspec": {
   "display_name": "R",
   "language": "R",
   "name": "ir"
  },
  "language_info": {
   "codemirror_mode": "r",
   "file_extension": ".r",
   "mimetype": "text/x-r-source",
   "name": "R",
   "pygments_lexer": "r",
   "version": "3.6.3"
  }
 },
 "nbformat": 4,
 "nbformat_minor": 4
}
