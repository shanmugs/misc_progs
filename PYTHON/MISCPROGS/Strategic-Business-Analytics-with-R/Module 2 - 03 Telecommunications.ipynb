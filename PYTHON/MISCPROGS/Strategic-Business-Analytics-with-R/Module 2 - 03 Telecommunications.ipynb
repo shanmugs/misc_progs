{
 "cells": [
  {
   "cell_type": "markdown",
   "metadata": {},
   "source": [
    "# Telecommunications"
   ]
  },
  {
   "cell_type": "markdown",
   "metadata": {},
   "source": [
    "**Loading csv files**"
   ]
  },
  {
   "cell_type": "code",
   "execution_count": 1,
   "metadata": {},
   "outputs": [
    {
     "data": {
      "text/html": [
       "<table>\n",
       "<caption>A data.frame: 6 × 5</caption>\n",
       "<thead>\n",
       "\t<tr><th></th><th scope=col>Calls</th><th scope=col>Intern</th><th scope=col>Text</th><th scope=col>Data</th><th scope=col>Age</th></tr>\n",
       "\t<tr><th></th><th scope=col>&lt;dbl&gt;</th><th scope=col>&lt;dbl&gt;</th><th scope=col>&lt;dbl&gt;</th><th scope=col>&lt;dbl&gt;</th><th scope=col>&lt;int&gt;</th></tr>\n",
       "</thead>\n",
       "<tbody>\n",
       "\t<tr><th scope=row>1</th><td>1.12</td><td>0.19</td><td> 23.92</td><td>0.18</td><td>60</td></tr>\n",
       "\t<tr><th scope=row>2</th><td>1.08</td><td>0.22</td><td> 17.76</td><td>0.23</td><td>54</td></tr>\n",
       "\t<tr><th scope=row>3</th><td>3.54</td><td>0.26</td><td>289.79</td><td>1.99</td><td>34</td></tr>\n",
       "\t<tr><th scope=row>4</th><td>1.09</td><td>0.21</td><td> 19.15</td><td>0.21</td><td>61</td></tr>\n",
       "\t<tr><th scope=row>5</th><td>1.04</td><td>0.24</td><td> 20.33</td><td>0.20</td><td>56</td></tr>\n",
       "\t<tr><th scope=row>6</th><td>5.59</td><td>0.88</td><td> 19.23</td><td>2.02</td><td>41</td></tr>\n",
       "</tbody>\n",
       "</table>\n"
      ],
      "text/latex": [
       "A data.frame: 6 × 5\n",
       "\\begin{tabular}{r|lllll}\n",
       "  & Calls & Intern & Text & Data & Age\\\\\n",
       "  & <dbl> & <dbl> & <dbl> & <dbl> & <int>\\\\\n",
       "\\hline\n",
       "\t1 & 1.12 & 0.19 &  23.92 & 0.18 & 60\\\\\n",
       "\t2 & 1.08 & 0.22 &  17.76 & 0.23 & 54\\\\\n",
       "\t3 & 3.54 & 0.26 & 289.79 & 1.99 & 34\\\\\n",
       "\t4 & 1.09 & 0.21 &  19.15 & 0.21 & 61\\\\\n",
       "\t5 & 1.04 & 0.24 &  20.33 & 0.20 & 56\\\\\n",
       "\t6 & 5.59 & 0.88 &  19.23 & 2.02 & 41\\\\\n",
       "\\end{tabular}\n"
      ],
      "text/markdown": [
       "\n",
       "A data.frame: 6 × 5\n",
       "\n",
       "| <!--/--> | Calls &lt;dbl&gt; | Intern &lt;dbl&gt; | Text &lt;dbl&gt; | Data &lt;dbl&gt; | Age &lt;int&gt; |\n",
       "|---|---|---|---|---|---|\n",
       "| 1 | 1.12 | 0.19 |  23.92 | 0.18 | 60 |\n",
       "| 2 | 1.08 | 0.22 |  17.76 | 0.23 | 54 |\n",
       "| 3 | 3.54 | 0.26 | 289.79 | 1.99 | 34 |\n",
       "| 4 | 1.09 | 0.21 |  19.15 | 0.21 | 61 |\n",
       "| 5 | 1.04 | 0.24 |  20.33 | 0.20 | 56 |\n",
       "| 6 | 5.59 | 0.88 |  19.23 | 2.02 | 41 |\n",
       "\n"
      ],
      "text/plain": [
       "  Calls Intern Text   Data Age\n",
       "1 1.12  0.19    23.92 0.18 60 \n",
       "2 1.08  0.22    17.76 0.23 54 \n",
       "3 3.54  0.26   289.79 1.99 34 \n",
       "4 1.09  0.21    19.15 0.21 61 \n",
       "5 1.04  0.24    20.33 0.20 56 \n",
       "6 5.59  0.88    19.23 2.02 41 "
      ]
     },
     "metadata": {},
     "output_type": "display_data"
    }
   ],
   "source": [
    "TELCO <- read.csv(\"data/DATA_2.03_Telco.csv\")\n",
    "head(TELCO)"
   ]
  },
  {
   "cell_type": "markdown",
   "metadata": {},
   "source": [
    "**Exploring the file**"
   ]
  },
  {
   "cell_type": "code",
   "execution_count": 2,
   "metadata": {},
   "outputs": [
    {
     "name": "stdout",
     "output_type": "stream",
     "text": [
      "'data.frame':\t1000 obs. of  5 variables:\n",
      " $ Calls : num  1.12 1.08 3.54 1.09 1.04 5.59 1.19 3.07 5.34 2.43 ...\n",
      " $ Intern: num  0.19 0.22 0.26 0.21 0.24 0.88 0.19 0.34 0.99 0.09 ...\n",
      " $ Text  : num  23.9 17.8 289.8 19.1 20.3 ...\n",
      " $ Data  : num  0.18 0.23 1.99 0.21 0.2 2.02 0.24 2.06 0.97 0.46 ...\n",
      " $ Age   : int  60 54 34 61 56 41 71 30 41 33 ...\n"
     ]
    }
   ],
   "source": [
    "str(TELCO)"
   ]
  },
  {
   "cell_type": "code",
   "execution_count": 3,
   "metadata": {},
   "outputs": [
    {
     "data": {
      "text/plain": [
       "     Calls           Intern            Text             Data      \n",
       " Min.   :0.850   Min.   :0.0900   Min.   : 17.01   Min.   :0.170  \n",
       " 1st Qu.:1.490   1st Qu.:0.1100   1st Qu.: 20.77   1st Qu.:0.520  \n",
       " Median :2.040   Median :0.2200   Median :190.53   Median :1.980  \n",
       " Mean   :2.630   Mean   :0.4048   Mean   :225.02   Mean   :1.965  \n",
       " 3rd Qu.:3.493   3rd Qu.:0.7900   3rd Qu.:449.44   3rd Qu.:2.902  \n",
       " Max.   :6.000   Max.   :1.2000   Max.   :598.94   Max.   :4.790  \n",
       "      Age       \n",
       " Min.   :12.00  \n",
       " 1st Qu.:24.00  \n",
       " Median :35.00  \n",
       " Mean   :37.78  \n",
       " 3rd Qu.:51.00  \n",
       " Max.   :72.00  "
      ]
     },
     "metadata": {},
     "output_type": "display_data"
    }
   ],
   "source": [
    "summary(TELCO)"
   ]
  },
  {
   "cell_type": "markdown",
   "metadata": {},
   "source": [
    "#### Now, let's normalize our variables"
   ]
  },
  {
   "cell_type": "code",
   "execution_count": 4,
   "metadata": {},
   "outputs": [],
   "source": [
    "# To keep our dataset safe, let's create a copy of it called \"testdata\"\n",
    "testdata = TELCO\n",
    "\n",
    "# the scale function automatically performs data normalization on all your variables\n",
    "testdata = scale(testdata) "
   ]
  },
  {
   "cell_type": "code",
   "execution_count": 5,
   "metadata": {},
   "outputs": [],
   "source": [
    "# the dist() function computes the distances of all the observations in our dataset\n",
    "d = dist(testdata, method = \"euclidean\")\n",
    "\n",
    "# hclust() function performs hiearchical clustering, we pass it the distances, and we set the method argument to \"ward.D\"\n",
    "hcward = hclust(d, method=\"ward.D\") "
   ]
  },
  {
   "cell_type": "markdown",
   "metadata": {},
   "source": [
    "#### Let's try with 8 segments"
   ]
  },
  {
   "cell_type": "code",
   "execution_count": 6,
   "metadata": {},
   "outputs": [],
   "source": [
    "# assign our points to our k=8 clusters \n",
    "TELCO$groups=cutree(hcward,k=8)\n",
    "\n",
    "# Aggregation by group and computation of the mean values\n",
    "aggdata = aggregate(.~ groups, data=TELCO, FUN=mean)\n",
    "\n",
    "# Computation of the number of observations by group\n",
    "proptemp = aggregate(Calls~ groups, data=TELCO, FUN=length)\n",
    "\n",
    "# Computation of the proportion by group\n",
    "aggdata$proportion=(proptemp$Calls)/sum(proptemp$Calls)\n",
    "\n",
    "# Ordering from the largest group to the smallest \n",
    "aggdata = aggdata[order(aggdata$proportion,decreasing=T),] "
   ]
  },
  {
   "cell_type": "markdown",
   "metadata": {},
   "source": [
    "#### Let's try again with 5 segments"
   ]
  },
  {
   "cell_type": "code",
   "execution_count": 7,
   "metadata": {},
   "outputs": [],
   "source": [
    "# assign our points to our k=5 clusters \n",
    "TELCO$groups=cutree(hcward,k=5)\n",
    "\n",
    "# Aggregation by group and computation of the mean values\n",
    "aggdata = aggregate(.~ groups, data=TELCO, FUN=mean)\n",
    "\n",
    "# Computation of the number of observations by group\n",
    "proptemp = aggregate(Calls~ groups, data=TELCO, FUN=length)\n",
    "\n",
    "# Computation of the proportion by group\n",
    "aggdata$proportion=(proptemp$Calls)/sum(proptemp$Calls)\n",
    "\n",
    "# Ordering from the largest group to the smallest \n",
    "aggdata = aggdata[order(aggdata$proportion,decreasing=T),] "
   ]
  },
  {
   "cell_type": "code",
   "execution_count": 8,
   "metadata": {},
   "outputs": [
    {
     "data": {
      "text/html": [
       "<table>\n",
       "<caption>A data.frame: 5 × 7</caption>\n",
       "<thead>\n",
       "\t<tr><th></th><th scope=col>groups</th><th scope=col>Calls</th><th scope=col>Intern</th><th scope=col>Text</th><th scope=col>Data</th><th scope=col>Age</th><th scope=col>proportion</th></tr>\n",
       "\t<tr><th></th><th scope=col>&lt;int&gt;</th><th scope=col>&lt;dbl&gt;</th><th scope=col>&lt;dbl&gt;</th><th scope=col>&lt;dbl&gt;</th><th scope=col>&lt;dbl&gt;</th><th scope=col>&lt;dbl&gt;</th><th scope=col>&lt;dbl&gt;</th></tr>\n",
       "</thead>\n",
       "<tbody>\n",
       "\t<tr><th scope=row>2</th><td>2</td><td>3.096028</td><td>0.5222997</td><td>301.95599</td><td>1.9987456</td><td>34.46690</td><td>0.287</td></tr>\n",
       "\t<tr><th scope=row>5</th><td>5</td><td>1.708135</td><td>0.1025397</td><td>510.65179</td><td>3.7330159</td><td>18.87698</td><td>0.252</td></tr>\n",
       "\t<tr><th scope=row>1</th><td>1</td><td>1.021134</td><td>0.2044845</td><td> 20.87433</td><td>0.2088144</td><td>60.77835</td><td>0.194</td></tr>\n",
       "\t<tr><th scope=row>3</th><td>3</td><td>5.129716</td><td>1.0232955</td><td> 21.32989</td><td>2.0599432</td><td>45.90909</td><td>0.176</td></tr>\n",
       "\t<tr><th scope=row>4</th><td>4</td><td>2.307582</td><td>0.1025275</td><td> 20.57440</td><td>0.5201099</td><td>35.78022</td><td>0.091</td></tr>\n",
       "</tbody>\n",
       "</table>\n"
      ],
      "text/latex": [
       "A data.frame: 5 × 7\n",
       "\\begin{tabular}{r|lllllll}\n",
       "  & groups & Calls & Intern & Text & Data & Age & proportion\\\\\n",
       "  & <int> & <dbl> & <dbl> & <dbl> & <dbl> & <dbl> & <dbl>\\\\\n",
       "\\hline\n",
       "\t2 & 2 & 3.096028 & 0.5222997 & 301.95599 & 1.9987456 & 34.46690 & 0.287\\\\\n",
       "\t5 & 5 & 1.708135 & 0.1025397 & 510.65179 & 3.7330159 & 18.87698 & 0.252\\\\\n",
       "\t1 & 1 & 1.021134 & 0.2044845 &  20.87433 & 0.2088144 & 60.77835 & 0.194\\\\\n",
       "\t3 & 3 & 5.129716 & 1.0232955 &  21.32989 & 2.0599432 & 45.90909 & 0.176\\\\\n",
       "\t4 & 4 & 2.307582 & 0.1025275 &  20.57440 & 0.5201099 & 35.78022 & 0.091\\\\\n",
       "\\end{tabular}\n"
      ],
      "text/markdown": [
       "\n",
       "A data.frame: 5 × 7\n",
       "\n",
       "| <!--/--> | groups &lt;int&gt; | Calls &lt;dbl&gt; | Intern &lt;dbl&gt; | Text &lt;dbl&gt; | Data &lt;dbl&gt; | Age &lt;dbl&gt; | proportion &lt;dbl&gt; |\n",
       "|---|---|---|---|---|---|---|---|\n",
       "| 2 | 2 | 3.096028 | 0.5222997 | 301.95599 | 1.9987456 | 34.46690 | 0.287 |\n",
       "| 5 | 5 | 1.708135 | 0.1025397 | 510.65179 | 3.7330159 | 18.87698 | 0.252 |\n",
       "| 1 | 1 | 1.021134 | 0.2044845 |  20.87433 | 0.2088144 | 60.77835 | 0.194 |\n",
       "| 3 | 3 | 5.129716 | 1.0232955 |  21.32989 | 2.0599432 | 45.90909 | 0.176 |\n",
       "| 4 | 4 | 2.307582 | 0.1025275 |  20.57440 | 0.5201099 | 35.78022 | 0.091 |\n",
       "\n"
      ],
      "text/plain": [
       "  groups Calls    Intern    Text      Data      Age      proportion\n",
       "2 2      3.096028 0.5222997 301.95599 1.9987456 34.46690 0.287     \n",
       "5 5      1.708135 0.1025397 510.65179 3.7330159 18.87698 0.252     \n",
       "1 1      1.021134 0.2044845  20.87433 0.2088144 60.77835 0.194     \n",
       "3 3      5.129716 1.0232955  21.32989 2.0599432 45.90909 0.176     \n",
       "4 4      2.307582 0.1025275  20.57440 0.5201099 35.78022 0.091     "
      ]
     },
     "metadata": {},
     "output_type": "display_data"
    }
   ],
   "source": [
    "aggdata"
   ]
  },
  {
   "cell_type": "markdown",
   "metadata": {},
   "source": [
    "#### Writing csv files"
   ]
  },
  {
   "cell_type": "code",
   "execution_count": 9,
   "metadata": {},
   "outputs": [],
   "source": [
    "write.csv(aggdata, \"data/Report_TelCom_aggdata.csv\")"
   ]
  },
  {
   "cell_type": "markdown",
   "metadata": {},
   "source": [
    "#### Data by Group"
   ]
  },
  {
   "cell_type": "code",
   "execution_count": 10,
   "metadata": {},
   "outputs": [],
   "source": [
    "library(tidyr)"
   ]
  },
  {
   "cell_type": "code",
   "execution_count": 11,
   "metadata": {},
   "outputs": [
    {
     "data": {
      "text/html": [
       "<table>\n",
       "<caption>A data.frame: 30 × 3</caption>\n",
       "<thead>\n",
       "\t<tr><th scope=col>groups</th><th scope=col>key</th><th scope=col>value</th></tr>\n",
       "\t<tr><th scope=col>&lt;int&gt;</th><th scope=col>&lt;chr&gt;</th><th scope=col>&lt;dbl&gt;</th></tr>\n",
       "</thead>\n",
       "<tbody>\n",
       "\t<tr><td>2</td><td>Calls     </td><td>  3.0960279</td></tr>\n",
       "\t<tr><td>5</td><td>Calls     </td><td>  1.7081349</td></tr>\n",
       "\t<tr><td>1</td><td>Calls     </td><td>  1.0211340</td></tr>\n",
       "\t<tr><td>3</td><td>Calls     </td><td>  5.1297159</td></tr>\n",
       "\t<tr><td>4</td><td>Calls     </td><td>  2.3075824</td></tr>\n",
       "\t<tr><td>2</td><td>Intern    </td><td>  0.5222997</td></tr>\n",
       "\t<tr><td>5</td><td>Intern    </td><td>  0.1025397</td></tr>\n",
       "\t<tr><td>1</td><td>Intern    </td><td>  0.2044845</td></tr>\n",
       "\t<tr><td>3</td><td>Intern    </td><td>  1.0232955</td></tr>\n",
       "\t<tr><td>4</td><td>Intern    </td><td>  0.1025275</td></tr>\n",
       "\t<tr><td>2</td><td>Text      </td><td>301.9559930</td></tr>\n",
       "\t<tr><td>5</td><td>Text      </td><td>510.6517857</td></tr>\n",
       "\t<tr><td>1</td><td>Text      </td><td> 20.8743299</td></tr>\n",
       "\t<tr><td>3</td><td>Text      </td><td> 21.3298864</td></tr>\n",
       "\t<tr><td>4</td><td>Text      </td><td> 20.5743956</td></tr>\n",
       "\t<tr><td>2</td><td>Data      </td><td>  1.9987456</td></tr>\n",
       "\t<tr><td>5</td><td>Data      </td><td>  3.7330159</td></tr>\n",
       "\t<tr><td>1</td><td>Data      </td><td>  0.2088144</td></tr>\n",
       "\t<tr><td>3</td><td>Data      </td><td>  2.0599432</td></tr>\n",
       "\t<tr><td>4</td><td>Data      </td><td>  0.5201099</td></tr>\n",
       "\t<tr><td>2</td><td>Age       </td><td> 34.4668990</td></tr>\n",
       "\t<tr><td>5</td><td>Age       </td><td> 18.8769841</td></tr>\n",
       "\t<tr><td>1</td><td>Age       </td><td> 60.7783505</td></tr>\n",
       "\t<tr><td>3</td><td>Age       </td><td> 45.9090909</td></tr>\n",
       "\t<tr><td>4</td><td>Age       </td><td> 35.7802198</td></tr>\n",
       "\t<tr><td>2</td><td>proportion</td><td>  0.2870000</td></tr>\n",
       "\t<tr><td>5</td><td>proportion</td><td>  0.2520000</td></tr>\n",
       "\t<tr><td>1</td><td>proportion</td><td>  0.1940000</td></tr>\n",
       "\t<tr><td>3</td><td>proportion</td><td>  0.1760000</td></tr>\n",
       "\t<tr><td>4</td><td>proportion</td><td>  0.0910000</td></tr>\n",
       "</tbody>\n",
       "</table>\n"
      ],
      "text/latex": [
       "A data.frame: 30 × 3\n",
       "\\begin{tabular}{lll}\n",
       " groups & key & value\\\\\n",
       " <int> & <chr> & <dbl>\\\\\n",
       "\\hline\n",
       "\t 2 & Calls      &   3.0960279\\\\\n",
       "\t 5 & Calls      &   1.7081349\\\\\n",
       "\t 1 & Calls      &   1.0211340\\\\\n",
       "\t 3 & Calls      &   5.1297159\\\\\n",
       "\t 4 & Calls      &   2.3075824\\\\\n",
       "\t 2 & Intern     &   0.5222997\\\\\n",
       "\t 5 & Intern     &   0.1025397\\\\\n",
       "\t 1 & Intern     &   0.2044845\\\\\n",
       "\t 3 & Intern     &   1.0232955\\\\\n",
       "\t 4 & Intern     &   0.1025275\\\\\n",
       "\t 2 & Text       & 301.9559930\\\\\n",
       "\t 5 & Text       & 510.6517857\\\\\n",
       "\t 1 & Text       &  20.8743299\\\\\n",
       "\t 3 & Text       &  21.3298864\\\\\n",
       "\t 4 & Text       &  20.5743956\\\\\n",
       "\t 2 & Data       &   1.9987456\\\\\n",
       "\t 5 & Data       &   3.7330159\\\\\n",
       "\t 1 & Data       &   0.2088144\\\\\n",
       "\t 3 & Data       &   2.0599432\\\\\n",
       "\t 4 & Data       &   0.5201099\\\\\n",
       "\t 2 & Age        &  34.4668990\\\\\n",
       "\t 5 & Age        &  18.8769841\\\\\n",
       "\t 1 & Age        &  60.7783505\\\\\n",
       "\t 3 & Age        &  45.9090909\\\\\n",
       "\t 4 & Age        &  35.7802198\\\\\n",
       "\t 2 & proportion &   0.2870000\\\\\n",
       "\t 5 & proportion &   0.2520000\\\\\n",
       "\t 1 & proportion &   0.1940000\\\\\n",
       "\t 3 & proportion &   0.1760000\\\\\n",
       "\t 4 & proportion &   0.0910000\\\\\n",
       "\\end{tabular}\n"
      ],
      "text/markdown": [
       "\n",
       "A data.frame: 30 × 3\n",
       "\n",
       "| groups &lt;int&gt; | key &lt;chr&gt; | value &lt;dbl&gt; |\n",
       "|---|---|---|\n",
       "| 2 | Calls      |   3.0960279 |\n",
       "| 5 | Calls      |   1.7081349 |\n",
       "| 1 | Calls      |   1.0211340 |\n",
       "| 3 | Calls      |   5.1297159 |\n",
       "| 4 | Calls      |   2.3075824 |\n",
       "| 2 | Intern     |   0.5222997 |\n",
       "| 5 | Intern     |   0.1025397 |\n",
       "| 1 | Intern     |   0.2044845 |\n",
       "| 3 | Intern     |   1.0232955 |\n",
       "| 4 | Intern     |   0.1025275 |\n",
       "| 2 | Text       | 301.9559930 |\n",
       "| 5 | Text       | 510.6517857 |\n",
       "| 1 | Text       |  20.8743299 |\n",
       "| 3 | Text       |  21.3298864 |\n",
       "| 4 | Text       |  20.5743956 |\n",
       "| 2 | Data       |   1.9987456 |\n",
       "| 5 | Data       |   3.7330159 |\n",
       "| 1 | Data       |   0.2088144 |\n",
       "| 3 | Data       |   2.0599432 |\n",
       "| 4 | Data       |   0.5201099 |\n",
       "| 2 | Age        |  34.4668990 |\n",
       "| 5 | Age        |  18.8769841 |\n",
       "| 1 | Age        |  60.7783505 |\n",
       "| 3 | Age        |  45.9090909 |\n",
       "| 4 | Age        |  35.7802198 |\n",
       "| 2 | proportion |   0.2870000 |\n",
       "| 5 | proportion |   0.2520000 |\n",
       "| 1 | proportion |   0.1940000 |\n",
       "| 3 | proportion |   0.1760000 |\n",
       "| 4 | proportion |   0.0910000 |\n",
       "\n"
      ],
      "text/plain": [
       "   groups key        value      \n",
       "1  2      Calls        3.0960279\n",
       "2  5      Calls        1.7081349\n",
       "3  1      Calls        1.0211340\n",
       "4  3      Calls        5.1297159\n",
       "5  4      Calls        2.3075824\n",
       "6  2      Intern       0.5222997\n",
       "7  5      Intern       0.1025397\n",
       "8  1      Intern       0.2044845\n",
       "9  3      Intern       1.0232955\n",
       "10 4      Intern       0.1025275\n",
       "11 2      Text       301.9559930\n",
       "12 5      Text       510.6517857\n",
       "13 1      Text        20.8743299\n",
       "14 3      Text        21.3298864\n",
       "15 4      Text        20.5743956\n",
       "16 2      Data         1.9987456\n",
       "17 5      Data         3.7330159\n",
       "18 1      Data         0.2088144\n",
       "19 3      Data         2.0599432\n",
       "20 4      Data         0.5201099\n",
       "21 2      Age         34.4668990\n",
       "22 5      Age         18.8769841\n",
       "23 1      Age         60.7783505\n",
       "24 3      Age         45.9090909\n",
       "25 4      Age         35.7802198\n",
       "26 2      proportion   0.2870000\n",
       "27 5      proportion   0.2520000\n",
       "28 1      proportion   0.1940000\n",
       "29 3      proportion   0.1760000\n",
       "30 4      proportion   0.0910000"
      ]
     },
     "metadata": {},
     "output_type": "display_data"
    }
   ],
   "source": [
    "aggdata.long <- aggdata %>% gather(key , value, -groups)   # reshaping data from wide to long\n",
    "aggdata.long"
   ]
  },
  {
   "cell_type": "code",
   "execution_count": 12,
   "metadata": {},
   "outputs": [
    {
     "data": {
      "image/png": "[encoded data removed]",
      "text/plain": [
       "plot without title"
      ]
     },
     "metadata": {
      "image/png": {
       "height": 420,
       "width": 420
      },
      "text/plain": {
       "height": 420,
       "width": 420
      }
     },
     "output_type": "display_data"
    }
   ],
   "source": [
    "library(ggplot2)\n",
    "ggplot(data=aggdata.long, aes(x=groups,y=value,fill=key)) + \n",
    "  geom_bar(stat=\"identity\",position=\"dodge\")"
   ]
  },
  {
   "cell_type": "markdown",
   "metadata": {},
   "source": [
    "#### Let's draw the radar chart with the function stars()"
   ]
  },
  {
   "cell_type": "code",
   "execution_count": 13,
   "metadata": {},
   "outputs": [
    {
     "data": {
      "image/png": "[encoded data removed]",
      "text/plain": [
       "Plot with title \"Segments\""
      ]
     },
     "metadata": {
      "image/png": {
       "height": 420,
       "width": 420
      },
      "text/plain": {
       "height": 420,
       "width": 420
      }
     },
     "output_type": "display_data"
    }
   ],
   "source": [
    "palette(rainbow(12, s = 0.6, v = 0.75))# Select the colors to use\n",
    "\n",
    "stars(aggdata[,2:(ncol(TELCO))], len = 0.6, key.loc = c(11, 6),xlim=c(2,12),\n",
    "      main = \"Segments\", draw.segments = TRUE,nrow = 2, cex = .75,labels=aggdata$groups)"
   ]
  }
 ],
 "metadata": {
  "kernelspec": {
   "display_name": "R",
   "language": "R",
   "name": "ir"
  },
  "language_info": {
   "codemirror_mode": "r",
   "file_extension": ".r",
   "mimetype": "text/x-r-source",
   "name": "R",
   "pygments_lexer": "r",
   "version": "3.6.3"
  }
 },
 "nbformat": 4,
 "nbformat_minor": 4
}
