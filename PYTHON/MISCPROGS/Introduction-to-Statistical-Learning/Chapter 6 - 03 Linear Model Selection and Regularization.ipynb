{
 "cells": [
  {
   "cell_type": "markdown",
   "metadata": {},
   "source": [
    "# 6. Linear Model Selection and Regularisation – Labs\n",
    "\n",
    "Excercises from **Chapter 6** of [An Introduction to Statistical Learning](http://www-bcf.usc.edu/~gareth/ISL/) by Gareth James, Daniela Witten, Trevor Hastie and Robert Tibshirani."
   ]
  },
  {
   "cell_type": "code",
   "execution_count": 1031,
   "metadata": {},
   "outputs": [],
   "source": [
    "import numpy as np\n",
    "import pandas as pd\n",
    "import matplotlib.pyplot as plt\n",
    "import seaborn as sns\n",
    "import statsmodels.api as sm\n",
    "import statsmodels.formula.api as smf\n",
    "import patsy\n",
    "import itertools\n",
    "from IPython.display import display, HTML\n",
    "from sklearn import linear_model\n",
    "from sklearn.model_selection import KFold\n",
    "from ipywidgets import interact\n",
    "import ipywidgets as widgets\n",
    "import warnings\n",
    "warnings.filterwarnings('ignore')\n",
    "\n",
    "from ipywidgets import interact\n",
    "import ipywidgets as widgets\n",
    "\n",
    "# Deps for pca/pcr\n",
    "from sklearn.preprocessing import scale\n",
    "from sklearn.decomposition import PCA\n",
    "from sklearn.model_selection import cross_val_score\n",
    "from sklearn.linear_model import LinearRegression\n",
    "\n",
    "from scipy import stats"
   ]
  },
  {
   "cell_type": "markdown",
   "metadata": {},
   "source": [
    "## 8. In this exercise, we will generate simulated data, and will then use this data to perform best subset selection.\n",
    "\n",
    "(a) Use the rnorm() function to generate a predictor X of length n = 100, as well as a noise vector ε of length n = 100."
   ]
  },
  {
   "cell_type": "code",
   "execution_count": 54,
   "metadata": {},
   "outputs": [],
   "source": [
    "np.random.seed(1)\n",
    "x   = np.random.normal(0, 1, 100)\n",
    "eps = eps = np.random.normal(0 ,1 , 100)"
   ]
  },
  {
   "cell_type": "markdown",
   "metadata": {},
   "source": [
    "(b) Generate a response vector Y of length n = 100 according to the model $Y = β_0 +β_1 X +β_2 X^2 +β_3 X^3 +ε$ , where β0, β1, β2, and β3 are constants of your choice.\n"
   ]
  },
  {
   "cell_type": "code",
   "execution_count": 55,
   "metadata": {},
   "outputs": [],
   "source": [
    "y_np = 2 + 2*x + 3*(x**2) + 2.5*(x**3) + eps"
   ]
  },
  {
   "cell_type": "code",
   "execution_count": 57,
   "metadata": {},
   "outputs": [
    {
     "data": {
      "image/png": "[encoded data removed]",
      "text/plain": [
       "<Figure size 432x288 with 1 Axes>"
      ]
     },
     "metadata": {},
     "output_type": "display_data"
    }
   ],
   "source": [
    "sns.scatterplot(x=x, y=y_np);"
   ]
  },
  {
   "cell_type": "markdown",
   "metadata": {},
   "source": [
    "(c) Use the regsubsets() function to perform best subset selection in order to choose the best model containing the predictors X,X2,...,X10. What is the best model obtained according to Cp, BIC, and adjusted R2? Show some plots to provide evidence for your answer, and report the coefficients of the best model obtained. Note you will need to use the data.frame() function to create a single data set containing both X and Y ."
   ]
  },
  {
   "cell_type": "code",
   "execution_count": 78,
   "metadata": {},
   "outputs": [],
   "source": [
    "def get_models(k, X, y):\n",
    "    \"\"\"\n",
    "    Fit all possible models that contain exactly k predictors.\n",
    "    \"\"\"\n",
    "    # List all available predictors\n",
    "    X_combos = itertools.combinations(list(X.columns), k)\n",
    "    \n",
    "    # Fit all models accumulating Residual Sum of Squares (RSS)\n",
    "    models = []\n",
    "    for X_label in X_combos:\n",
    "        # Parse patsy formula\n",
    "        X_smf = ' + '.join(X_label)\n",
    "        f     = '{} ~ {}'.format(y.columns[0], X_smf)\n",
    "        # Fit model\n",
    "        model = smf.ols(formula=f, data=pd.concat([X, y], axis=1)).fit()\n",
    "        # Return results\n",
    "        models += [(f, model)]\n",
    "    return models\n",
    "\n",
    "\n",
    "def min_rss(statsmodels):\n",
    "    \"\"\"Return model with lowest Residual Sum of Squares (RSS)\"\"\"\n",
    "    return sorted(statsmodels, key=lambda tup: tup[1].ssr)[0]\n",
    "\n",
    "\n",
    "def max_adjr2(statsmodels):\n",
    "    \"\"\"Return model with max R-squared\"\"\"\n",
    "    return sorted(statsmodels, reverse=True, key=lambda tup: tup[1].rsquared_adj)[0]\n",
    "\n",
    "def min_bic(statsmodels):\n",
    "    \"\"\"Return model with min Bayes' Information Criteria\"\"\"\n",
    "    return sorted(statsmodels, reverse=False, key=lambda tup: tup[1].bic)[0]\n",
    "\n",
    "def min_aic(statsmodels):\n",
    "    \"\"\"Return model with min Akaike's Information Criteria\"\"\"\n",
    "    return sorted(statsmodels, reverse=False, key=lambda tup: tup[1].aic)[0]"
   ]
  },
  {
   "cell_type": "code",
   "execution_count": 67,
   "metadata": {},
   "outputs": [
    {
     "name": "stdout",
     "output_type": "stream",
     "text": [
      "Progess: k = 1, done\n",
      "Progess: k = 2, done\n",
      "Progess: k = 3, done\n",
      "Progess: k = 4, done\n",
      "Progess: k = 5, done\n",
      "Progess: k = 6, done\n",
      "Progess: k = 7, done\n",
      "Progess: k = 8, done\n",
      "Progess: k = 9, done\n",
      "Progess: k = 10, done\n"
     ]
    }
   ],
   "source": [
    "X = pd.DataFrame({'X': x,\n",
    "                  'X2': x**2,\n",
    "                  'X3': x**3,\n",
    "                  'X4': x**4,\n",
    "                  'X5': x**5,\n",
    "                  'X6': x**6,\n",
    "                  'X7': x**7,\n",
    "                  'X8': x**8,\n",
    "                  'X9': x**9,\n",
    "                  'X10': x**10})\n",
    "y = pd.DataFrame({'y': y_np})\n",
    "\n",
    "# get all model results\n",
    "model_subsets = []\n",
    "for k in range(len(X.columns)):\n",
    "    k=k+1\n",
    "    subset = get_models(k, X, y)\n",
    "    model_subsets += [subset]\n",
    "    print('Progess: k = {}, done'.format(k))"
   ]
  },
  {
   "cell_type": "code",
   "execution_count": 146,
   "metadata": {},
   "outputs": [
    {
     "data": {
      "text/html": [
       "<h4>Adjusted R^2</h4>"
      ],
      "text/plain": [
       "<IPython.core.display.HTML object>"
      ]
     },
     "metadata": {},
     "output_type": "display_data"
    },
    {
     "data": {
      "image/png": "[encoded data removed]",
      "text/plain": [
       "<Figure size 432x288 with 1 Axes>"
      ]
     },
     "metadata": {},
     "output_type": "display_data"
    },
    {
     "name": "stdout",
     "output_type": "stream",
     "text": [
      "Model selected: \n",
      "Intercept    2.298519\n",
      "X            2.659149\n",
      "X2           2.617578\n",
      "X5           2.279830\n",
      "X7          -0.684882\n",
      "X9           0.065720\n",
      "X10          0.001195\n",
      "dtype: float64\n"
     ]
    },
    {
     "data": {
      "text/html": [
       "<h4>Bayes' Information Criteria</h4>"
      ],
      "text/plain": [
       "<IPython.core.display.HTML object>"
      ]
     },
     "metadata": {},
     "output_type": "display_data"
    },
    {
     "data": {
      "image/png": "[encoded data removed]",
      "text/plain": [
       "<Figure size 432x288 with 1 Axes>"
      ]
     },
     "metadata": {},
     "output_type": "display_data"
    },
    {
     "name": "stdout",
     "output_type": "stream",
     "text": [
      "Model selected: \n",
      "Intercept    2.276949\n",
      "X            1.910076\n",
      "X2           2.657467\n",
      "X3           2.605378\n",
      "X6           0.020949\n",
      "dtype: float64\n"
     ]
    },
    {
     "data": {
      "text/html": [
       "<h4>Akaike's Information Criteria</h4>"
      ],
      "text/plain": [
       "<IPython.core.display.HTML object>"
      ]
     },
     "metadata": {},
     "output_type": "display_data"
    },
    {
     "data": {
      "image/png": "[encoded data removed]",
      "text/plain": [
       "<Figure size 432x288 with 1 Axes>"
      ]
     },
     "metadata": {},
     "output_type": "display_data"
    },
    {
     "name": "stdout",
     "output_type": "stream",
     "text": [
      "Model selected: \n",
      "Intercept    2.276949\n",
      "X            1.910076\n",
      "X2           2.657467\n",
      "X3           2.605378\n",
      "X6           0.020949\n",
      "dtype: float64\n"
     ]
    }
   ],
   "source": [
    "# Get predictor count\n",
    "k = np.arange(1, len(X.columns)+1)\n",
    "\n",
    "# adjr2\n",
    "# ------------------------------------------------\n",
    "display(HTML('<h4>Adjusted R^2</h4>'))\n",
    "\n",
    "# Plot best r-squared score for each subset\n",
    "adjr2 = [max_adjr2(m)[1].rsquared_adj for m in model_subsets]\n",
    "\n",
    "sns.lineplot(x=k, y=adjr2)\n",
    "plt.xlabel('k')\n",
    "plt.ylabel('$R^2$')\n",
    "plt.show()\n",
    "\n",
    "# Select best subset\n",
    "coefs_r2 = [(max_adjr2(m)[1].rsquared_adj, max_adjr2(m)[1].params) for m in model_subsets]\n",
    "print('Model selected: \\n{}'.format(max(coefs_r2)[1]))\n",
    "\n",
    "\n",
    "# Bayes' Information Criteria (BIC)\n",
    "# ------------------------------------------------\n",
    "display(HTML('<h4>Bayes\\' Information Criteria</h4>'))\n",
    "\n",
    "# Get best BIC\n",
    "bic = [min_bic(m)[1].bic for m in model_subsets]\n",
    "\n",
    "sns.lineplot(x=k, y=bic)\n",
    "plt.xlabel('k')\n",
    "plt.ylabel('BIC')\n",
    "plt.show()\n",
    "\n",
    "# Select best subset\n",
    "coefs_bic = [(min_bic(m)[1].bic, min_bic(m)[1].params) for m in model_subsets]\n",
    "print('Model selected: \\n{}'.format(min(coefs_bic)[1]))\n",
    "\n",
    "\n",
    "# Akaike's Information Criteria (AIC/ C_p)\n",
    "# ------------------------------------------------\n",
    "display(HTML('<h4>Akaike\\'s Information Criteria</h4>'))\n",
    "\n",
    "# Get best AIC\n",
    "aic = [min_aic(m)[1].aic for m in model_subsets]\n",
    "\n",
    "sns.lineplot(x=k, y=aic)\n",
    "plt.xlabel('k')\n",
    "plt.ylabel('AIC')\n",
    "plt.show()\n",
    "\n",
    "# Select best subset\n",
    "coefs_aic = [(min_aic(m)[1].aic, min_aic(m)[1].params) for m in model_subsets]\n",
    "print('Model selected: \\n{}'.format(min(coefs_aic)[1]))\n"
   ]
  },
  {
   "cell_type": "markdown",
   "metadata": {},
   "source": [
    "**Comment:** RSS chooses a model with too many features as expected due to overfitting. BIC and AIC try to compensate for overfitting, and do a reasonable job choosing a model with one superfluous feature."
   ]
  },
  {
   "cell_type": "markdown",
   "metadata": {},
   "source": [
    "### (d) Repeat (c), using forward stepwise selection and also using backwards stepwise selection. How does your answer compare to the results in (c)?\n",
    "\n",
    "First set up some functions"
   ]
  },
  {
   "cell_type": "code",
   "execution_count": 222,
   "metadata": {},
   "outputs": [],
   "source": [
    "def forward_stepwise(X, y, scorer='ssr', results=[(0, [])]):\n",
    "    \"\"\"Perform forward stepwise variable selection as described in\n",
    "    An Introductions to Statistical Learning (p.207)\n",
    "    Returns pandas dataframe object  with results for each step\"\"\"\n",
    "    # List predictors that havent's been used so far\n",
    "    p_all    = list(X.columns)\n",
    "    p_used   = results[-1][1]\n",
    "    p_unused = [p for p in p_all if p not in p_used]\n",
    "    \n",
    "    # Job done, exit recursion\n",
    "    if not p_unused:\n",
    "        scores = [r[0] for r in results]\n",
    "        preds  = [r[1] for r in results]\n",
    "        return pd.DataFrame({scorer: scores, 'predictors': preds}).drop(0)\n",
    "    \n",
    "    # Get score for each possible additional predictor\n",
    "    r = []\n",
    "    for p in p_unused:\n",
    "        f     = '{} ~ {}'.format(y.columns[0], '+'.join([p]+p_used))\n",
    "        # Fit model\n",
    "        model = smf.ols(formula=f, data=pd.concat([X, y], axis=1)).fit()\n",
    "        r    += [(model, [p]+p_used)]\n",
    "    \n",
    "    # Choose predictor which yields best score\n",
    "    if scorer == 'ssr':\n",
    "        best_model = sorted(r, key=lambda tup: tup[0].ssr)[0]\n",
    "        best_score = (best_model[0].ssr, best_model[1])\n",
    "    elif scorer == 'rsquared_adj':\n",
    "        best_model = sorted(r, key=lambda tup: tup[0].rsquared_adj)[-1]\n",
    "        best_score = (best_model[0].rsquared_adj, best_model[1])        \n",
    "    elif scorer == 'bic':\n",
    "        best_model = sorted(r, key=lambda tup: tup[0].bic)[0]\n",
    "        best_score = (best_model[0].bic, best_model[1]) \n",
    "    elif scorer == 'aic':\n",
    "        best_model = sorted(r, key=lambda tup: tup[0].aic)[0]\n",
    "        best_score = (best_model[0].aic, best_model[1]) \n",
    "                        \n",
    "    new_results = results + [best_score]\n",
    "    # Recursive call to self\n",
    "    return forward_stepwise(X, y, scorer, new_results)"
   ]
  },
  {
   "cell_type": "code",
   "execution_count": 227,
   "metadata": {},
   "outputs": [],
   "source": [
    "def backward_stepwise(X, y, scorer='ssr', results=[]):\n",
    "    \"\"\"Perform backward stepwise variable selection as described in\n",
    "    An Introductions to Statistical Learning (p.209)\n",
    "    Returns pandas dataframe object  with results for each step\"\"\"\n",
    "    # List predictors that havent's been used so far\n",
    "    p_all = list(X.columns)\n",
    "\n",
    "    # Check if we're starting out here\n",
    "    if not results:\n",
    "        # Fit model with all features\n",
    "        f     = '{} ~ {}'.format(y.columns[0], '+'.join(p_all))\n",
    "        model = smf.ols(formula=f, data=pd.concat([X, y], axis=1)).fit()\n",
    "        # Begin backward stepwise recursion\n",
    "        if scorer == 'ssr':\n",
    "            return backward_stepwise(X, y, scorer, [(model.ssr, p_all)])\n",
    "        if scorer == 'rsquared_adj':\n",
    "            return backward_stepwise(X, y, scorer, [(model.rsquared_adj, p_all)])\n",
    "        if scorer == 'bic':\n",
    "            return backward_stepwise(X, y, scorer, [(model.bic, p_all)])\n",
    "        if scorer == 'aic':\n",
    "            return backward_stepwise(X, y, scorer, [(model.aic, p_all)])\n",
    "    else:\n",
    "        p_used = results[-1][1]\n",
    "    \n",
    "    # Job done, exit recursion\n",
    "    if len(p_used) == 1:\n",
    "        scores = [r[0] for r in results]\n",
    "        preds  = [r[1] for r in results]\n",
    "        return pd.DataFrame({scorer: scores, 'predictors': preds})    \n",
    "    \n",
    "    # Get rss score for each possible removed predictor\n",
    "    r = []\n",
    "    for p in p_used:\n",
    "        p_test = [i for i in p_used if i != p]\n",
    "        f     = '{} ~ {}'.format(y.columns[0], '+'.join(p_test))\n",
    "        # Fit model\n",
    "        model = smf.ols(formula=f, data=pd.concat([X, y], axis=1)).fit()\n",
    "        r     += [(model, p_test)]\n",
    "    \n",
    "    # Choose removal of predictor which yields best score\n",
    "    if scorer == 'ssr':\n",
    "        best_model = sorted(r, key=lambda tup: tup[0].ssr)[0]\n",
    "        best_score = (best_model[0].ssr, best_model[1])\n",
    "    elif scorer == 'rsquared_adj':\n",
    "        best_model = sorted(r, key=lambda tup: tup[0].rsquared_adj)[-1]\n",
    "        best_score = (best_model[0].rsquared_adj, best_model[1])        \n",
    "    elif scorer == 'bic':\n",
    "        best_model = sorted(r, key=lambda tup: tup[0].bic)[0]\n",
    "        best_score = (best_model[0].bic, best_model[1]) \n",
    "    elif scorer == 'aic':\n",
    "        best_model = sorted(r, key=lambda tup: tup[0].aic)[0]\n",
    "        best_score = (best_model[0].aic, best_model[1]) \n",
    "\n",
    "    new_results = results + [best_score]\n",
    "    # Recursive call to self\n",
    "    return backward_stepwise(X, y, scorer, new_results)\n",
    "\n",
    "\n",
    "def subset_analysis(df, scorer):\n",
    "    \"\"\"Renders results from forward_stepwise() and backward_stepwise()\"\"\"\n",
    "    df['predictors_str'] = df['predictors'].astype(str)\n",
    "    \n",
    "    ax = sns.lineplot(x='predictors_str', y=scorer, data=df, sort=False)\n",
    "    plt.xticks(rotation=90)\n",
    "    plt.show();\n",
    "    \n",
    "    if scorer == 'rsquared_adj':\n",
    "        display(df[df[scorer] ==  df[scorer].max()].drop('predictors_str', axis=1))\n",
    "    else:\n",
    "        display(df[df[scorer] ==  df[scorer].min()].drop('predictors_str', axis=1))"
   ]
  },
  {
   "cell_type": "markdown",
   "metadata": {},
   "source": [
    "#### Forward stepwise selection"
   ]
  },
  {
   "cell_type": "code",
   "execution_count": 223,
   "metadata": {},
   "outputs": [
    {
     "data": {
      "text/html": [
       "<h4>Adjusted R^2</h4>"
      ],
      "text/plain": [
       "<IPython.core.display.HTML object>"
      ]
     },
     "metadata": {},
     "output_type": "display_data"
    },
    {
     "data": {
      "image/png": "[encoded data removed]",
      "text/plain": [
       "<Figure size 432x288 with 1 Axes>"
      ]
     },
     "metadata": {},
     "output_type": "display_data"
    },
    {
     "data": {
      "text/html": [
       "<div>\n",
       "<style scoped>\n",
       "    .dataframe tbody tr th:only-of-type {\n",
       "        vertical-align: middle;\n",
       "    }\n",
       "\n",
       "    .dataframe tbody tr th {\n",
       "        vertical-align: top;\n",
       "    }\n",
       "\n",
       "    .dataframe thead th {\n",
       "        text-align: right;\n",
       "    }\n",
       "</style>\n",
       "<table border=\"1\" class=\"dataframe\">\n",
       "  <thead>\n",
       "    <tr style=\"text-align: right;\">\n",
       "      <th></th>\n",
       "      <th>rsquared_adj</th>\n",
       "      <th>predictors</th>\n",
       "    </tr>\n",
       "  </thead>\n",
       "  <tbody>\n",
       "    <tr>\n",
       "      <th>4</th>\n",
       "      <td>0.989408</td>\n",
       "      <td>[X6, X, X2, X3]</td>\n",
       "    </tr>\n",
       "  </tbody>\n",
       "</table>\n",
       "</div>"
      ],
      "text/plain": [
       "   rsquared_adj       predictors\n",
       "4      0.989408  [X6, X, X2, X3]"
      ]
     },
     "metadata": {},
     "output_type": "display_data"
    },
    {
     "data": {
      "text/html": [
       "<h4>Bayes' Information Criteria</h4>"
      ],
      "text/plain": [
       "<IPython.core.display.HTML object>"
      ]
     },
     "metadata": {},
     "output_type": "display_data"
    },
    {
     "data": {
      "image/png": "[encoded data removed]",
      "text/plain": [
       "<Figure size 432x288 with 1 Axes>"
      ]
     },
     "metadata": {},
     "output_type": "display_data"
    },
    {
     "data": {
      "text/html": [
       "<div>\n",
       "<style scoped>\n",
       "    .dataframe tbody tr th:only-of-type {\n",
       "        vertical-align: middle;\n",
       "    }\n",
       "\n",
       "    .dataframe tbody tr th {\n",
       "        vertical-align: top;\n",
       "    }\n",
       "\n",
       "    .dataframe thead th {\n",
       "        text-align: right;\n",
       "    }\n",
       "</style>\n",
       "<table border=\"1\" class=\"dataframe\">\n",
       "  <thead>\n",
       "    <tr style=\"text-align: right;\">\n",
       "      <th></th>\n",
       "      <th>bic</th>\n",
       "      <th>predictors</th>\n",
       "    </tr>\n",
       "  </thead>\n",
       "  <tbody>\n",
       "    <tr>\n",
       "      <th>4</th>\n",
       "      <td>284.249198</td>\n",
       "      <td>[X6, X, X2, X3]</td>\n",
       "    </tr>\n",
       "  </tbody>\n",
       "</table>\n",
       "</div>"
      ],
      "text/plain": [
       "          bic       predictors\n",
       "4  284.249198  [X6, X, X2, X3]"
      ]
     },
     "metadata": {},
     "output_type": "display_data"
    },
    {
     "data": {
      "text/html": [
       "<h4>Akaike's Information Criteria</h4>"
      ],
      "text/plain": [
       "<IPython.core.display.HTML object>"
      ]
     },
     "metadata": {},
     "output_type": "display_data"
    },
    {
     "data": {
      "image/png": "[encoded data removed]",
      "text/plain": [
       "<Figure size 432x288 with 1 Axes>"
      ]
     },
     "metadata": {},
     "output_type": "display_data"
    },
    {
     "data": {
      "text/html": [
       "<div>\n",
       "<style scoped>\n",
       "    .dataframe tbody tr th:only-of-type {\n",
       "        vertical-align: middle;\n",
       "    }\n",
       "\n",
       "    .dataframe tbody tr th {\n",
       "        vertical-align: top;\n",
       "    }\n",
       "\n",
       "    .dataframe thead th {\n",
       "        text-align: right;\n",
       "    }\n",
       "</style>\n",
       "<table border=\"1\" class=\"dataframe\">\n",
       "  <thead>\n",
       "    <tr style=\"text-align: right;\">\n",
       "      <th></th>\n",
       "      <th>aic</th>\n",
       "      <th>predictors</th>\n",
       "    </tr>\n",
       "  </thead>\n",
       "  <tbody>\n",
       "    <tr>\n",
       "      <th>4</th>\n",
       "      <td>271.223347</td>\n",
       "      <td>[X6, X, X2, X3]</td>\n",
       "    </tr>\n",
       "  </tbody>\n",
       "</table>\n",
       "</div>"
      ],
      "text/plain": [
       "          aic       predictors\n",
       "4  271.223347  [X6, X, X2, X3]"
      ]
     },
     "metadata": {},
     "output_type": "display_data"
    }
   ],
   "source": [
    "# adjr2\n",
    "# ------------------------------------------------\n",
    "display(HTML('<h4>Adjusted R^2</h4>'))\n",
    "scorer = 'rsquared_adj'\n",
    "subset_analysis(forward_stepwise(X, y, scorer=scorer), scorer)\n",
    "\n",
    "# Bayes' Information Criteria (BIC)\n",
    "# ------------------------------------------------\n",
    "display(HTML('<h4>Bayes\\' Information Criteria</h4>'))\n",
    "scorer = 'bic'\n",
    "subset_analysis(forward_stepwise(X, y, scorer=scorer), scorer)\n",
    "\n",
    "# Akaike's Information Criteria (AIC/ C_p)\n",
    "# ------------------------------------------------\n",
    "display(HTML('<h4>Akaike\\'s Information Criteria</h4>'))\n",
    "scorer = 'aic'\n",
    "subset_analysis(forward_stepwise(X, y, scorer=scorer), scorer)"
   ]
  },
  {
   "cell_type": "markdown",
   "metadata": {},
   "source": [
    "#### Backward stepwise selection"
   ]
  },
  {
   "cell_type": "code",
   "execution_count": 225,
   "metadata": {},
   "outputs": [
    {
     "data": {
      "text/html": [
       "<h4>Adjusted R^2</h4>"
      ],
      "text/plain": [
       "<IPython.core.display.HTML object>"
      ]
     },
     "metadata": {},
     "output_type": "display_data"
    },
    {
     "data": {
      "image/png": "[encoded data removed]",
      "text/plain": [
       "<Figure size 432x288 with 1 Axes>"
      ]
     },
     "metadata": {},
     "output_type": "display_data"
    },
    {
     "data": {
      "text/html": [
       "<div>\n",
       "<style scoped>\n",
       "    .dataframe tbody tr th:only-of-type {\n",
       "        vertical-align: middle;\n",
       "    }\n",
       "\n",
       "    .dataframe tbody tr th {\n",
       "        vertical-align: top;\n",
       "    }\n",
       "\n",
       "    .dataframe thead th {\n",
       "        text-align: right;\n",
       "    }\n",
       "</style>\n",
       "<table border=\"1\" class=\"dataframe\">\n",
       "  <thead>\n",
       "    <tr style=\"text-align: right;\">\n",
       "      <th></th>\n",
       "      <th>rsquared_adj</th>\n",
       "      <th>predictors</th>\n",
       "    </tr>\n",
       "  </thead>\n",
       "  <tbody>\n",
       "    <tr>\n",
       "      <th>3</th>\n",
       "      <td>0.989431</td>\n",
       "      <td>[X, X2, X4, X5, X6, X7, X9]</td>\n",
       "    </tr>\n",
       "  </tbody>\n",
       "</table>\n",
       "</div>"
      ],
      "text/plain": [
       "   rsquared_adj                   predictors\n",
       "3      0.989431  [X, X2, X4, X5, X6, X7, X9]"
      ]
     },
     "metadata": {},
     "output_type": "display_data"
    },
    {
     "data": {
      "text/html": [
       "<h4>Bayes' Information Criteria</h4>"
      ],
      "text/plain": [
       "<IPython.core.display.HTML object>"
      ]
     },
     "metadata": {},
     "output_type": "display_data"
    },
    {
     "data": {
      "image/png": "[encoded data removed]",
      "text/plain": [
       "<Figure size 432x288 with 1 Axes>"
      ]
     },
     "metadata": {},
     "output_type": "display_data"
    },
    {
     "data": {
      "text/html": [
       "<div>\n",
       "<style scoped>\n",
       "    .dataframe tbody tr th:only-of-type {\n",
       "        vertical-align: middle;\n",
       "    }\n",
       "\n",
       "    .dataframe tbody tr th {\n",
       "        vertical-align: top;\n",
       "    }\n",
       "\n",
       "    .dataframe thead th {\n",
       "        text-align: right;\n",
       "    }\n",
       "</style>\n",
       "<table border=\"1\" class=\"dataframe\">\n",
       "  <thead>\n",
       "    <tr style=\"text-align: right;\">\n",
       "      <th></th>\n",
       "      <th>bic</th>\n",
       "      <th>predictors</th>\n",
       "    </tr>\n",
       "  </thead>\n",
       "  <tbody>\n",
       "    <tr>\n",
       "      <th>4</th>\n",
       "      <td>291.450514</td>\n",
       "      <td>[X, X2, X5, X6, X7, X9]</td>\n",
       "    </tr>\n",
       "  </tbody>\n",
       "</table>\n",
       "</div>"
      ],
      "text/plain": [
       "          bic               predictors\n",
       "4  291.450514  [X, X2, X5, X6, X7, X9]"
      ]
     },
     "metadata": {},
     "output_type": "display_data"
    },
    {
     "data": {
      "text/html": [
       "<h4>Akaike's Information Criteria</h4>"
      ],
      "text/plain": [
       "<IPython.core.display.HTML object>"
      ]
     },
     "metadata": {},
     "output_type": "display_data"
    },
    {
     "data": {
      "image/png": "[encoded data removed]",
      "text/plain": [
       "<Figure size 432x288 with 1 Axes>"
      ]
     },
     "metadata": {},
     "output_type": "display_data"
    },
    {
     "data": {
      "text/html": [
       "<div>\n",
       "<style scoped>\n",
       "    .dataframe tbody tr th:only-of-type {\n",
       "        vertical-align: middle;\n",
       "    }\n",
       "\n",
       "    .dataframe tbody tr th {\n",
       "        vertical-align: top;\n",
       "    }\n",
       "\n",
       "    .dataframe thead th {\n",
       "        text-align: right;\n",
       "    }\n",
       "</style>\n",
       "<table border=\"1\" class=\"dataframe\">\n",
       "  <thead>\n",
       "    <tr style=\"text-align: right;\">\n",
       "      <th></th>\n",
       "      <th>aic</th>\n",
       "      <th>predictors</th>\n",
       "    </tr>\n",
       "  </thead>\n",
       "  <tbody>\n",
       "    <tr>\n",
       "      <th>4</th>\n",
       "      <td>273.214322</td>\n",
       "      <td>[X, X2, X5, X6, X7, X9]</td>\n",
       "    </tr>\n",
       "  </tbody>\n",
       "</table>\n",
       "</div>"
      ],
      "text/plain": [
       "          aic               predictors\n",
       "4  273.214322  [X, X2, X5, X6, X7, X9]"
      ]
     },
     "metadata": {},
     "output_type": "display_data"
    }
   ],
   "source": [
    "# adjr2\n",
    "# ------------------------------------------------\n",
    "display(HTML('<h4>Adjusted R^2</h4>'))\n",
    "scorer = 'rsquared_adj'\n",
    "subset_analysis(backward_stepwise(X, y, scorer=scorer), scorer)\n",
    "\n",
    "# Bayes' Information Criteria (BIC)\n",
    "# ------------------------------------------------\n",
    "display(HTML('<h4>Bayes\\' Information Criteria</h4>'))\n",
    "scorer = 'bic'\n",
    "subset_analysis(backward_stepwise(X, y, scorer=scorer), scorer)\n",
    "\n",
    "# Akaike's Information Criteria (AIC/ C_p)\n",
    "# ------------------------------------------------\n",
    "display(HTML('<h4>Akaike\\'s Information Criteria</h4>'))\n",
    "scorer = 'aic'\n",
    "subset_analysis(backward_stepwise(X, y, scorer=scorer), scorer)"
   ]
  },
  {
   "cell_type": "markdown",
   "metadata": {},
   "source": [
    "**Comment:**\n",
    "\n",
    "Forward stepwise selection chooses the same models as best susbset selection for all metrics.\n",
    "\n",
    "Backward stepwise selection tends to select overly complex models in this setting with 3-4 superfluous features depending on the metric used. \n",
    "\n",
    "**Revision note:** It seems somewhat down to chance as to which approach – forward or backward – will work best in a giving setting. In reality without simulation we won't have the luxury of knowing the true optimum, so how do we choose?"
   ]
  },
  {
   "cell_type": "markdown",
   "metadata": {},
   "source": [
    "### (e) Now fit a lasso model to the simulated data, again using X,X2, . . . , X 10 as predictors. Use cross-validation to select the optimal value of λ. Create plots of the cross-validation error as a function of λ. Report the resulting coefficient estimates, and discuss the results obtained."
   ]
  },
  {
   "cell_type": "code",
   "execution_count": 344,
   "metadata": {},
   "outputs": [],
   "source": [
    "def mse(y_hat, y):\n",
    "    \"\"\"Calculate Mean Squared Error\"\"\"\n",
    "    return np.sum(np.square(y_hat - y)) / y.size\n",
    "\n",
    "def lasso_cv(X, y, λ, k):\n",
    "    \"\"\"Perform the lasso with \n",
    "    k-fold cross validation to return mean MSE scores for each fold\"\"\"\n",
    "    # Split dataset into k-folds\n",
    "    # Note: np.array_split doesn't raise excpetion is folds are unequal in size\n",
    "    X_folds = np.array_split(X, k)\n",
    "    y_folds = np.array_split(y, k)\n",
    "    \n",
    "    MSEs = []\n",
    "    for f in np.arange(len(X_folds)):\n",
    "        # Create training and test sets\n",
    "        X_test  = X_folds[f]\n",
    "        y_test  = y_folds[f]\n",
    "        X_train = X.drop(X_folds[f].index)\n",
    "        y_train = y.drop(y_folds[f].index)\n",
    "        \n",
    "        # Fit model\n",
    "        model = linear_model.Lasso(alpha=λ, fit_intercept=True, normalize=False, max_iter=1000000).fit(X_train, y_train)\n",
    "\n",
    "        # Measure MSE\n",
    "        y_hat = model.predict(X_test)\n",
    "        MSEs += [mse(y_hat, y_test['y'])]\n",
    "    return MSEs"
   ]
  },
  {
   "cell_type": "code",
   "execution_count": 346,
   "metadata": {},
   "outputs": [
    {
     "data": {
      "image/png": "[encoded data removed]",
      "text/plain": [
       "<Figure size 432x288 with 1 Axes>"
      ]
     },
     "metadata": {},
     "output_type": "display_data"
    }
   ],
   "source": [
    "lambdas = np.arange(0.01, 1, 0.01)\n",
    "MSEs    = [] \n",
    "for l in lambdas:\n",
    "    MSEs += [np.mean(lasso_cv(X, y, λ=l, k=10))]\n",
    "\n",
    "sns.scatterplot(x='λ', y='MSE', data=pd.DataFrame({'λ': lambdas, 'MSE': MSEs}));"
   ]
  },
  {
   "cell_type": "code",
   "execution_count": 347,
   "metadata": {
    "scrolled": true
   },
   "outputs": [
    {
     "data": {
      "text/plain": [
       "(1.8145436278960585, 0.19)"
      ]
     },
     "execution_count": 347,
     "metadata": {},
     "output_type": "execute_result"
    }
   ],
   "source": [
    "min(zip(MSEs, lambdas))"
   ]
  },
  {
   "cell_type": "code",
   "execution_count": 348,
   "metadata": {},
   "outputs": [
    {
     "data": {
      "image/png": "[encoded data removed]",
      "text/plain": [
       "<Figure size 432x288 with 1 Axes>"
      ]
     },
     "metadata": {},
     "output_type": "display_data"
    },
    {
     "data": {
      "text/html": [
       "<div>\n",
       "<style scoped>\n",
       "    .dataframe tbody tr th:only-of-type {\n",
       "        vertical-align: middle;\n",
       "    }\n",
       "\n",
       "    .dataframe tbody tr th {\n",
       "        vertical-align: top;\n",
       "    }\n",
       "\n",
       "    .dataframe thead th {\n",
       "        text-align: right;\n",
       "    }\n",
       "</style>\n",
       "<table border=\"1\" class=\"dataframe\">\n",
       "  <thead>\n",
       "    <tr style=\"text-align: right;\">\n",
       "      <th></th>\n",
       "      <th>feature</th>\n",
       "      <th>coefficient</th>\n",
       "    </tr>\n",
       "  </thead>\n",
       "  <tbody>\n",
       "    <tr>\n",
       "      <th>0</th>\n",
       "      <td>X</td>\n",
       "      <td>1.823572</td>\n",
       "    </tr>\n",
       "    <tr>\n",
       "      <th>1</th>\n",
       "      <td>X2</td>\n",
       "      <td>0.454881</td>\n",
       "    </tr>\n",
       "    <tr>\n",
       "      <th>2</th>\n",
       "      <td>X3</td>\n",
       "      <td>1.802128</td>\n",
       "    </tr>\n",
       "    <tr>\n",
       "      <th>3</th>\n",
       "      <td>X4</td>\n",
       "      <td>0.847043</td>\n",
       "    </tr>\n",
       "    <tr>\n",
       "      <th>4</th>\n",
       "      <td>X5</td>\n",
       "      <td>0.373082</td>\n",
       "    </tr>\n",
       "    <tr>\n",
       "      <th>5</th>\n",
       "      <td>X6</td>\n",
       "      <td>0.000000</td>\n",
       "    </tr>\n",
       "    <tr>\n",
       "      <th>6</th>\n",
       "      <td>X7</td>\n",
       "      <td>0.000000</td>\n",
       "    </tr>\n",
       "    <tr>\n",
       "      <th>7</th>\n",
       "      <td>X8</td>\n",
       "      <td>-0.000000</td>\n",
       "    </tr>\n",
       "    <tr>\n",
       "      <th>8</th>\n",
       "      <td>X9</td>\n",
       "      <td>-0.009186</td>\n",
       "    </tr>\n",
       "    <tr>\n",
       "      <th>9</th>\n",
       "      <td>X10</td>\n",
       "      <td>-0.002988</td>\n",
       "    </tr>\n",
       "  </tbody>\n",
       "</table>\n",
       "</div>"
      ],
      "text/plain": [
       "  feature  coefficient\n",
       "0       X     1.823572\n",
       "1      X2     0.454881\n",
       "2      X3     1.802128\n",
       "3      X4     0.847043\n",
       "4      X5     0.373082\n",
       "5      X6     0.000000\n",
       "6      X7     0.000000\n",
       "7      X8    -0.000000\n",
       "8      X9    -0.009186\n",
       "9     X10    -0.002988"
      ]
     },
     "metadata": {},
     "output_type": "display_data"
    }
   ],
   "source": [
    "lamb = min(zip(MSEs, lambdas))[1]\n",
    "model = linear_model.Lasso(alpha=lamb, fit_intercept=True, normalize=False, max_iter=1000000).fit(X, y)\n",
    "df = pd.DataFrame({'feature': X.columns, 'coefficient': model.coef_})\n",
    "# plot\n",
    "ax = sns.barplot(x='coefficient', y='feature', data=df);\n",
    "plt.xticks(rotation=90)\n",
    "plt.show();\n",
    "display(df)"
   ]
  },
  {
   "cell_type": "markdown",
   "metadata": {},
   "source": [
    "Here the Lasso selects the correct features plus 4 superfluous paramaeters – 2 of which have ver low coeeficients.\n",
    "\n",
    "\n",
    "#### Feature normalisation\n",
    "\n",
    "It is possible to get a lower MSE by enabling sklearns feature normalisation as demonstrated below, different features are then selected."
   ]
  },
  {
   "cell_type": "code",
   "execution_count": 349,
   "metadata": {},
   "outputs": [
    {
     "data": {
      "image/png": "[encoded data removed]",
      "text/plain": [
       "<Figure size 432x288 with 1 Axes>"
      ]
     },
     "metadata": {},
     "output_type": "display_data"
    }
   ],
   "source": [
    "def lasso_cv(X, y, λ, k):\n",
    "    \"\"\"Perform the lasso with \n",
    "    k-fold cross validation to return mean MSE scores for each fold\"\"\"\n",
    "    # Split dataset into k-folds\n",
    "    # Note: np.array_split doesn't raise excpetion is folds are unequal in size\n",
    "    X_folds = np.array_split(X, k)\n",
    "    y_folds = np.array_split(y, k)\n",
    "    \n",
    "    MSEs = []\n",
    "    for f in np.arange(len(X_folds)):\n",
    "        # Create training and test sets\n",
    "        X_test  = X_folds[f]\n",
    "        y_test  = y_folds[f]\n",
    "        X_train = X.drop(X_folds[f].index)\n",
    "        y_train = y.drop(y_folds[f].index)\n",
    "        \n",
    "        # Fit model\n",
    "        model = linear_model.Lasso(alpha=λ, fit_intercept=True, normalize=True, max_iter=1000000).fit(X_train, y_train)\n",
    "\n",
    "        # Measure MSE\n",
    "        y_hat = model.predict(X_test)\n",
    "        MSEs += [mse(y_hat, y_test['y'])]\n",
    "    return MSEs\n",
    "\n",
    "lambdas = np.arange(0.001, 0.01, 0.0001)\n",
    "MSEs    = [] \n",
    "for l in lambdas:\n",
    "    MSEs += [np.mean(lasso_cv(X, y, λ=l, k=10))]\n",
    "\n",
    "sns.scatterplot(x='λ', y='MSE', data=pd.DataFrame({'λ': lambdas, 'MSE': MSEs}));"
   ]
  },
  {
   "cell_type": "code",
   "execution_count": 350,
   "metadata": {},
   "outputs": [
    {
     "data": {
      "text/plain": [
       "(0.8894063503790959, 0.0022000000000000006)"
      ]
     },
     "execution_count": 350,
     "metadata": {},
     "output_type": "execute_result"
    }
   ],
   "source": [
    "min(zip(MSEs, lambdas))"
   ]
  },
  {
   "cell_type": "code",
   "execution_count": 351,
   "metadata": {},
   "outputs": [
    {
     "data": {
      "image/png": "[encoded data removed]",
      "text/plain": [
       "<Figure size 432x288 with 1 Axes>"
      ]
     },
     "metadata": {},
     "output_type": "display_data"
    },
    {
     "data": {
      "text/html": [
       "<div>\n",
       "<style scoped>\n",
       "    .dataframe tbody tr th:only-of-type {\n",
       "        vertical-align: middle;\n",
       "    }\n",
       "\n",
       "    .dataframe tbody tr th {\n",
       "        vertical-align: top;\n",
       "    }\n",
       "\n",
       "    .dataframe thead th {\n",
       "        text-align: right;\n",
       "    }\n",
       "</style>\n",
       "<table border=\"1\" class=\"dataframe\">\n",
       "  <thead>\n",
       "    <tr style=\"text-align: right;\">\n",
       "      <th></th>\n",
       "      <th>feature</th>\n",
       "      <th>coefficient</th>\n",
       "    </tr>\n",
       "  </thead>\n",
       "  <tbody>\n",
       "    <tr>\n",
       "      <th>0</th>\n",
       "      <td>X</td>\n",
       "      <td>2.446150</td>\n",
       "    </tr>\n",
       "    <tr>\n",
       "      <th>1</th>\n",
       "      <td>X2</td>\n",
       "      <td>2.876938</td>\n",
       "    </tr>\n",
       "    <tr>\n",
       "      <th>2</th>\n",
       "      <td>X3</td>\n",
       "      <td>0.678915</td>\n",
       "    </tr>\n",
       "    <tr>\n",
       "      <th>3</th>\n",
       "      <td>X4</td>\n",
       "      <td>-0.218099</td>\n",
       "    </tr>\n",
       "    <tr>\n",
       "      <th>4</th>\n",
       "      <td>X5</td>\n",
       "      <td>1.698335</td>\n",
       "    </tr>\n",
       "    <tr>\n",
       "      <th>5</th>\n",
       "      <td>X6</td>\n",
       "      <td>-0.000000</td>\n",
       "    </tr>\n",
       "    <tr>\n",
       "      <th>6</th>\n",
       "      <td>X7</td>\n",
       "      <td>-0.503101</td>\n",
       "    </tr>\n",
       "    <tr>\n",
       "      <th>7</th>\n",
       "      <td>X8</td>\n",
       "      <td>0.028357</td>\n",
       "    </tr>\n",
       "    <tr>\n",
       "      <th>8</th>\n",
       "      <td>X9</td>\n",
       "      <td>0.047248</td>\n",
       "    </tr>\n",
       "    <tr>\n",
       "      <th>9</th>\n",
       "      <td>X10</td>\n",
       "      <td>-0.003263</td>\n",
       "    </tr>\n",
       "  </tbody>\n",
       "</table>\n",
       "</div>"
      ],
      "text/plain": [
       "  feature  coefficient\n",
       "0       X     2.446150\n",
       "1      X2     2.876938\n",
       "2      X3     0.678915\n",
       "3      X4    -0.218099\n",
       "4      X5     1.698335\n",
       "5      X6    -0.000000\n",
       "6      X7    -0.503101\n",
       "7      X8     0.028357\n",
       "8      X9     0.047248\n",
       "9     X10    -0.003263"
      ]
     },
     "metadata": {},
     "output_type": "display_data"
    }
   ],
   "source": [
    "lamb = min(zip(MSEs, lambdas))[1]\n",
    "model = linear_model.Lasso(alpha=lamb, fit_intercept=True, normalize=False, max_iter=1000000).fit(X, y)\n",
    "df = pd.DataFrame({'feature': X.columns, 'coefficient': model.coef_})\n",
    "# plot\n",
    "ax = sns.barplot(x='coefficient', y='feature', data=df);\n",
    "plt.xticks(rotation=90)\n",
    "plt.show();\n",
    "display(df)"
   ]
  },
  {
   "cell_type": "markdown",
   "metadata": {},
   "source": [
    "With feature normalisation the model selects 6 superfluous feautures, 3 with significant coefficients.\n",
    "\n",
    "**Revision Notes:**\n",
    "\n",
    "- is the effect of feature normalisation significant?\n",
    "- if so, why does it have an effect?"
   ]
  },
  {
   "cell_type": "markdown",
   "metadata": {},
   "source": [
    "### (f) Now generate a response vector Y according to the model $Y = β_0 + β_7 X^7 + ε$ , and perform best subset selection and the lasso. Discuss the results obtained.\n",
    "\n",
    "\n",
    "#### Create simulated data"
   ]
  },
  {
   "cell_type": "code",
   "execution_count": 524,
   "metadata": {},
   "outputs": [
    {
     "data": {
      "image/png": "[encoded data removed]",
      "text/plain": [
       "<Figure size 432x288 with 1 Axes>"
      ]
     },
     "metadata": {},
     "output_type": "display_data"
    }
   ],
   "source": [
    "np.random.seed(1)\n",
    "x   = np.random.normal(0, 1, 100)\n",
    "eps = np.random.normal(0 ,1 , 100)\n",
    "\n",
    "y_np = 5 + 1.2*(x**7) + eps\n",
    "\n",
    "sns.scatterplot(x=x, y=y_np);"
   ]
  },
  {
   "cell_type": "code",
   "execution_count": 525,
   "metadata": {},
   "outputs": [],
   "source": [
    "X = pd.DataFrame({'X': x,\n",
    "                  'X2': x**2,\n",
    "                  'X3': x**3,\n",
    "                  'X4': x**4,\n",
    "                  'X5': x**5,\n",
    "                  'X6': x**6,\n",
    "                  'X7': x**7,\n",
    "                  'X8': x**8,\n",
    "                  'X9': x**9,\n",
    "                  'X10': x**10})\n",
    "y = pd.DataFrame({'y': y_np})"
   ]
  },
  {
   "cell_type": "markdown",
   "metadata": {},
   "source": [
    "#### Best subset selection"
   ]
  },
  {
   "cell_type": "code",
   "execution_count": 454,
   "metadata": {},
   "outputs": [],
   "source": [
    "def min_rss(statsmodels):\n",
    "    \"\"\"Return model with lowest Residual Sum of Squares (RSS)\"\"\"\n",
    "    return sorted(statsmodels, key=lambda tup: tup[1].ssr)[0]\n",
    "\n",
    "def max_adjr2(statsmodels):\n",
    "    \"\"\"Return model with max R-squared\"\"\"\n",
    "    return sorted(statsmodels, reverse=True, key=lambda tup: tup[1].rsquared_adj)[0]\n",
    "\n",
    "def min_bic(statsmodels):\n",
    "    \"\"\"Return model with min Bayes' Information Criteria\"\"\"\n",
    "    return sorted(statsmodels, reverse=False, key=lambda tup: tup[1].bic)[0]\n",
    "\n",
    "def min_aic(statsmodels):\n",
    "    \"\"\"Return model with min Akaike's Information Criteria\"\"\"\n",
    "    return sorted(statsmodels, reverse=False, key=lambda tup: tup[1].aic)[0]\n",
    "\n",
    "\n",
    "def get_models(k, X, y):\n",
    "    \"\"\"\n",
    "    Fit all possible models that contain exactly k predictors.\n",
    "    \"\"\"\n",
    "    # List all available predictors\n",
    "    X_combos = itertools.combinations(list(X.columns), k)\n",
    "    \n",
    "    # Fit all models\n",
    "    models = []\n",
    "    for X_label in X_combos:\n",
    "        # Parse patsy formula\n",
    "        X_smf = ' + '.join(X_label)\n",
    "        f     = '{} ~ {}'.format(y.columns[0], X_smf)\n",
    "        # Fit model\n",
    "        model = smf.ols(formula=f, data=pd.concat([X, y], axis=1)).fit()\n",
    "        # Return results\n",
    "        models += [(f, model)]\n",
    "    return models\n",
    "\n",
    "\n",
    "# Intended API\n",
    "# ----------------------------------------------\n",
    "\n",
    "def best_subset(X, y, scorer='ssr'):\n",
    "    \"\"\"Perform best subset selection using Residual Sum of Squares to\n",
    "    select best model in each subset.\n",
    "    Notes: highly computationally expensive for large number of features in  X\n",
    "    Maxes out my laptop for p > 14\"\"\"\n",
    "    # get all model results\n",
    "    model_subsets = []\n",
    "    for k in range(len(X.columns)):\n",
    "        k=k+1\n",
    "        subset = get_models(k, X, y)\n",
    "        model_subsets += [subset]\n",
    "        print('Best subset selected: k = {}/{}, done'.format(k, len(X.columns)))\n",
    "\n",
    "    # Select best in each subset using chosen scorer\n",
    "    if scorer == 'ssr':\n",
    "        # Get best rss score for each subset\n",
    "        return [min_rss(m) for m in model_subsets]\n",
    "    elif scorer == 'rsquared_adj':\n",
    "        # Get best rss score for each subset\n",
    "        return [max_adjr2(m) for m in model_subsets]       \n",
    "    elif scorer == 'bic':\n",
    "        # Get best rss score for each subset\n",
    "        return [min_bic(m) for m in model_subsets]\n",
    "    elif scorer == 'aic':\n",
    "        # Get best rss score for each subset\n",
    "        return [min_aic(m) for m in model_subsets]\n",
    "\n",
    "    \n",
    "def cross_val(formula, X, y, k):\n",
    "    \"\"\"Perform k-fold cross validation to return mean MSE score\n",
    "    Expects formula as Patsy formula\"\"\"\n",
    "    # Split dataset into k-folds\n",
    "    # Note: np.array_split doesn't raise excpetion is folds are unequal in size\n",
    "    X_folds = np.array_split(X, k)\n",
    "    y_folds = np.array_split(y, k)\n",
    "    \n",
    "    MSEs = []\n",
    "    for f in np.arange(len(X_folds)):\n",
    "        # Create training and test sets\n",
    "        X_test  = X_folds[f]\n",
    "        y_test  = y_folds[f]\n",
    "        X_train = X.drop(X_folds[f].index)\n",
    "        y_train = y.drop(y_folds[f].index)\n",
    "        \n",
    "        # Fit model\n",
    "        model = smf.ols(formula=formula, data=pd.concat([X_train, y_train], axis=1)).fit()\n",
    "        \n",
    "        # Measure MSE\n",
    "        y_hat = model.predict(X_test)\n",
    "        MSEs += [mse(y_hat, y_test['y'])]\n",
    "    return (MSEs, formula)"
   ]
  },
  {
   "cell_type": "code",
   "execution_count": 455,
   "metadata": {},
   "outputs": [
    {
     "name": "stdout",
     "output_type": "stream",
     "text": [
      "Best subset selected: k = 1/10, done\n",
      "Best subset selected: k = 2/10, done\n",
      "Best subset selected: k = 3/10, done\n",
      "Best subset selected: k = 4/10, done\n",
      "Best subset selected: k = 5/10, done\n",
      "Best subset selected: k = 6/10, done\n",
      "Best subset selected: k = 7/10, done\n",
      "Best subset selected: k = 8/10, done\n",
      "Best subset selected: k = 9/10, done\n",
      "Best subset selected: k = 10/10, done\n"
     ]
    }
   ],
   "source": [
    "# get all model results\n",
    "best_subset_models = best_subset(X, y, scorer='bic')"
   ]
  },
  {
   "cell_type": "code",
   "execution_count": 456,
   "metadata": {},
   "outputs": [
    {
     "data": {
      "text/html": [
       "<div>\n",
       "<style scoped>\n",
       "    .dataframe tbody tr th:only-of-type {\n",
       "        vertical-align: middle;\n",
       "    }\n",
       "\n",
       "    .dataframe tbody tr th {\n",
       "        vertical-align: top;\n",
       "    }\n",
       "\n",
       "    .dataframe thead th {\n",
       "        text-align: right;\n",
       "    }\n",
       "</style>\n",
       "<table border=\"1\" class=\"dataframe\">\n",
       "  <thead>\n",
       "    <tr style=\"text-align: right;\">\n",
       "      <th></th>\n",
       "      <th>formula</th>\n",
       "      <th>mse</th>\n",
       "    </tr>\n",
       "  </thead>\n",
       "  <tbody>\n",
       "    <tr>\n",
       "      <th>2</th>\n",
       "      <td>y ~ X2 + X6 + X7</td>\n",
       "      <td>0.854173</td>\n",
       "    </tr>\n",
       "  </tbody>\n",
       "</table>\n",
       "</div>"
      ],
      "text/plain": [
       "            formula       mse\n",
       "2  y ~ X2 + X6 + X7  0.854173"
      ]
     },
     "metadata": {},
     "output_type": "display_data"
    },
    {
     "data": {
      "text/plain": [
       "Intercept    5.271801\n",
       "X2          -0.320021\n",
       "X6           0.020727\n",
       "X7           1.203961\n",
       "dtype: float64"
      ]
     },
     "metadata": {},
     "output_type": "display_data"
    },
    {
     "data": {
      "image/png": "[encoded data removed]",
      "text/plain": [
       "<Figure size 432x288 with 1 Axes>"
      ]
     },
     "metadata": {},
     "output_type": "display_data"
    }
   ],
   "source": [
    "# Parse results\n",
    "best_subset_formula = [f[0] for f in best_subset_models]\n",
    "best_subset_mses    = [np.mean(cross_val(f, X, y, 10)[0]) for f in best_subset_formula]\n",
    "df = pd.DataFrame({'formula': best_subset_formula, 'mse': best_subset_mses})\n",
    "\n",
    "# Show chosen model\n",
    "display(df[df['mse'] == df['mse'].min()])\n",
    "best_subset_params = best_subset_models[2][1].params\n",
    "display(best_subset_params)\n",
    "\n",
    "# Plot mse across subsets\n",
    "ax = sns.lineplot(x='formula', y='mse', data=df, sort=False)\n",
    "plt.xticks(rotation=90)\n",
    "plt.show();"
   ]
  },
  {
   "cell_type": "markdown",
   "metadata": {},
   "source": [
    "Best subset selection with 10 fold cross validation selects a the model, y ~ X2 + X6 + X7 with a MSE of 0.854. \n",
    "\n",
    "Because this is simulated data we know that the true model is:\n",
    "\n",
    "$f(x) = 5 + 1.2 x^7 + ε$\n",
    "\n",
    "Best subset selection estimates the f(x) to be:\n",
    "\n",
    "$f(x) = 5.27 - 0.32x^2 + 0.02x^6 + 1.20 x^7$\n",
    "\n",
    "...which is pretty close. Let's plot on the same axis to see how close"
   ]
  },
  {
   "cell_type": "code",
   "execution_count": 457,
   "metadata": {},
   "outputs": [
    {
     "data": {
      "image/png": "[encoded data removed]",
      "text/plain": [
       "<Figure size 432x288 with 1 Axes>"
      ]
     },
     "metadata": {},
     "output_type": "display_data"
    }
   ],
   "source": [
    "x = np.arange(-2.3, 2.3, 0.01)\n",
    "sns.lineplot(x=x, y=5 + 1.2*(x**7))\n",
    "sns.lineplot(x=x, y=5.27 - 0.32*(x**2) + 0.02*(x**6) + 1.20*(x**7));"
   ]
  },
  {
   "cell_type": "markdown",
   "metadata": {},
   "source": [
    "Here we plot the actual values of y (blue) and the predicted values of y (orange) on the same axis. You can't see the actual line because th eprediction is so close."
   ]
  },
  {
   "cell_type": "markdown",
   "metadata": {},
   "source": [
    "#### The Lasso"
   ]
  },
  {
   "cell_type": "code",
   "execution_count": 526,
   "metadata": {},
   "outputs": [],
   "source": [
    "def lasso_cv(X, y, λ, k):\n",
    "    \"\"\"Perform the lasso with \n",
    "    k-fold cross validation to return mean MSE scores for each fold\"\"\"\n",
    "    # Split dataset into k-folds\n",
    "    # Note: np.array_split doesn't raise excpetion is folds are unequal in size\n",
    "    X_folds = np.array_split(X, k)\n",
    "    y_folds = np.array_split(y, k)\n",
    "    \n",
    "    MSEs = []\n",
    "    for f in np.arange(len(X_folds)):\n",
    "        # Create training and test sets\n",
    "        X_test  = X_folds[f]\n",
    "        y_test  = y_folds[f]\n",
    "        X_train = X.drop(X_folds[f].index)\n",
    "        y_train = y.drop(y_folds[f].index)\n",
    "        \n",
    "        # Fit model\n",
    "        model = linear_model.Lasso(alpha=λ, fit_intercept=True, normalize=True, max_iter=1000000).fit(X_train, y_train)\n",
    "\n",
    "        # Measure MSE\n",
    "        y_hat = model.predict(X_test)\n",
    "        MSEs += [mse(y_hat, y_test['y'])]\n",
    "    return MSEs\n"
   ]
  },
  {
   "cell_type": "code",
   "execution_count": 527,
   "metadata": {},
   "outputs": [
    {
     "data": {
      "image/png": "[encoded data removed]",
      "text/plain": [
       "<Figure size 432x288 with 1 Axes>"
      ]
     },
     "metadata": {},
     "output_type": "display_data"
    }
   ],
   "source": [
    "lambdas = np.arange(0.01, 0.1, 0.001)\n",
    "MSEs    = [] \n",
    "for l in lambdas:\n",
    "    MSEs += [np.mean(lasso_cv(X, y, λ=l, k=10))]\n",
    "\n",
    "sns.scatterplot(x='λ', y='MSE', data=pd.DataFrame({'λ': lambdas, 'MSE': MSEs}));"
   ]
  },
  {
   "cell_type": "code",
   "execution_count": 528,
   "metadata": {},
   "outputs": [
    {
     "data": {
      "text/plain": [
       "(1.0480683621470148, 0.03799999999999998)"
      ]
     },
     "execution_count": 528,
     "metadata": {},
     "output_type": "execute_result"
    }
   ],
   "source": [
    "min(zip(MSEs, lambdas))"
   ]
  },
  {
   "cell_type": "code",
   "execution_count": 529,
   "metadata": {},
   "outputs": [
    {
     "data": {
      "image/png": "[encoded data removed]",
      "text/plain": [
       "<Figure size 432x288 with 1 Axes>"
      ]
     },
     "metadata": {},
     "output_type": "display_data"
    },
    {
     "data": {
      "text/html": [
       "<div>\n",
       "<style scoped>\n",
       "    .dataframe tbody tr th:only-of-type {\n",
       "        vertical-align: middle;\n",
       "    }\n",
       "\n",
       "    .dataframe tbody tr th {\n",
       "        vertical-align: top;\n",
       "    }\n",
       "\n",
       "    .dataframe thead th {\n",
       "        text-align: right;\n",
       "    }\n",
       "</style>\n",
       "<table border=\"1\" class=\"dataframe\">\n",
       "  <thead>\n",
       "    <tr style=\"text-align: right;\">\n",
       "      <th></th>\n",
       "      <th>feature</th>\n",
       "      <th>coefficient</th>\n",
       "    </tr>\n",
       "  </thead>\n",
       "  <tbody>\n",
       "    <tr>\n",
       "      <th>0</th>\n",
       "      <td>X0</td>\n",
       "      <td>5.139609</td>\n",
       "    </tr>\n",
       "    <tr>\n",
       "      <th>1</th>\n",
       "      <td>X</td>\n",
       "      <td>0.000000</td>\n",
       "    </tr>\n",
       "    <tr>\n",
       "      <th>2</th>\n",
       "      <td>X2</td>\n",
       "      <td>-0.000000</td>\n",
       "    </tr>\n",
       "    <tr>\n",
       "      <th>3</th>\n",
       "      <td>X3</td>\n",
       "      <td>0.000000</td>\n",
       "    </tr>\n",
       "    <tr>\n",
       "      <th>4</th>\n",
       "      <td>X4</td>\n",
       "      <td>0.000000</td>\n",
       "    </tr>\n",
       "    <tr>\n",
       "      <th>5</th>\n",
       "      <td>X5</td>\n",
       "      <td>0.038360</td>\n",
       "    </tr>\n",
       "    <tr>\n",
       "      <th>6</th>\n",
       "      <td>X6</td>\n",
       "      <td>0.000000</td>\n",
       "    </tr>\n",
       "    <tr>\n",
       "      <th>7</th>\n",
       "      <td>X7</td>\n",
       "      <td>1.186933</td>\n",
       "    </tr>\n",
       "    <tr>\n",
       "      <th>8</th>\n",
       "      <td>X8</td>\n",
       "      <td>0.000000</td>\n",
       "    </tr>\n",
       "    <tr>\n",
       "      <th>9</th>\n",
       "      <td>X9</td>\n",
       "      <td>0.000000</td>\n",
       "    </tr>\n",
       "    <tr>\n",
       "      <th>10</th>\n",
       "      <td>X10</td>\n",
       "      <td>0.000000</td>\n",
       "    </tr>\n",
       "  </tbody>\n",
       "</table>\n",
       "</div>"
      ],
      "text/plain": [
       "   feature  coefficient\n",
       "0       X0     5.139609\n",
       "1        X     0.000000\n",
       "2       X2    -0.000000\n",
       "3       X3     0.000000\n",
       "4       X4     0.000000\n",
       "5       X5     0.038360\n",
       "6       X6     0.000000\n",
       "7       X7     1.186933\n",
       "8       X8     0.000000\n",
       "9       X9     0.000000\n",
       "10     X10     0.000000"
      ]
     },
     "metadata": {},
     "output_type": "display_data"
    }
   ],
   "source": [
    "# What coefficients does the lasso choose for the optimal lambda value?\n",
    "λ = min(zip(MSEs, lambdas))[1]\n",
    "model = linear_model.Lasso(alpha=λ, fit_intercept=True, normalize=True, max_iter=1000000).fit(X, y)\n",
    "intercept  = pd.DataFrame({'feature': 'X0', 'coefficient': model.intercept_})\n",
    "lasso_a_df = intercept.append(pd.DataFrame({'feature': X.columns, 'coefficient': model.coef_}), ignore_index=True)\n",
    "ax = sns.barplot(x='coefficient', y='feature', data=lasso_a_df);\n",
    "plt.xticks(rotation=90)\n",
    "plt.show();\n",
    "\n",
    "display(lasso_a_df)"
   ]
  },
  {
   "cell_type": "markdown",
   "metadata": {},
   "source": [
    "Here the lasso selects almost the ideal model, with only one superfluous feature with a low coefficient. The MSE reported is marginally lower than for best subset selection at 1.048 compared to 0.854. \n",
    "\n",
    "Whilst searching for optimal value of lambda, I noticed another minima close to zero... deomonstrated below."
   ]
  },
  {
   "cell_type": "code",
   "execution_count": 531,
   "metadata": {},
   "outputs": [
    {
     "data": {
      "image/png": "[encoded data removed]",
      "text/plain": [
       "<Figure size 432x288 with 1 Axes>"
      ]
     },
     "metadata": {},
     "output_type": "display_data"
    },
    {
     "data": {
      "image/png": "[encoded data removed]",
      "text/plain": [
       "<Figure size 432x288 with 1 Axes>"
      ]
     },
     "metadata": {},
     "output_type": "display_data"
    },
    {
     "data": {
      "text/html": [
       "<div>\n",
       "<style scoped>\n",
       "    .dataframe tbody tr th:only-of-type {\n",
       "        vertical-align: middle;\n",
       "    }\n",
       "\n",
       "    .dataframe tbody tr th {\n",
       "        vertical-align: top;\n",
       "    }\n",
       "\n",
       "    .dataframe thead th {\n",
       "        text-align: right;\n",
       "    }\n",
       "</style>\n",
       "<table border=\"1\" class=\"dataframe\">\n",
       "  <thead>\n",
       "    <tr style=\"text-align: right;\">\n",
       "      <th></th>\n",
       "      <th>feature</th>\n",
       "      <th>coefficient</th>\n",
       "    </tr>\n",
       "  </thead>\n",
       "  <tbody>\n",
       "    <tr>\n",
       "      <th>0</th>\n",
       "      <td>X0</td>\n",
       "      <td>5.275241</td>\n",
       "    </tr>\n",
       "    <tr>\n",
       "      <th>1</th>\n",
       "      <td>X</td>\n",
       "      <td>0.546472</td>\n",
       "    </tr>\n",
       "    <tr>\n",
       "      <th>2</th>\n",
       "      <td>X2</td>\n",
       "      <td>-0.261390</td>\n",
       "    </tr>\n",
       "    <tr>\n",
       "      <th>3</th>\n",
       "      <td>X3</td>\n",
       "      <td>-2.428896</td>\n",
       "    </tr>\n",
       "    <tr>\n",
       "      <th>4</th>\n",
       "      <td>X4</td>\n",
       "      <td>-0.088259</td>\n",
       "    </tr>\n",
       "    <tr>\n",
       "      <th>5</th>\n",
       "      <td>X5</td>\n",
       "      <td>2.363543</td>\n",
       "    </tr>\n",
       "    <tr>\n",
       "      <th>6</th>\n",
       "      <td>X6</td>\n",
       "      <td>0.000000</td>\n",
       "    </tr>\n",
       "    <tr>\n",
       "      <th>7</th>\n",
       "      <td>X7</td>\n",
       "      <td>0.469777</td>\n",
       "    </tr>\n",
       "    <tr>\n",
       "      <th>8</th>\n",
       "      <td>X8</td>\n",
       "      <td>0.006829</td>\n",
       "    </tr>\n",
       "    <tr>\n",
       "      <th>9</th>\n",
       "      <td>X9</td>\n",
       "      <td>0.071042</td>\n",
       "    </tr>\n",
       "    <tr>\n",
       "      <th>10</th>\n",
       "      <td>X10</td>\n",
       "      <td>0.000378</td>\n",
       "    </tr>\n",
       "  </tbody>\n",
       "</table>\n",
       "</div>"
      ],
      "text/plain": [
       "   feature  coefficient\n",
       "0       X0     5.275241\n",
       "1        X     0.546472\n",
       "2       X2    -0.261390\n",
       "3       X3    -2.428896\n",
       "4       X4    -0.088259\n",
       "5       X5     2.363543\n",
       "6       X6     0.000000\n",
       "7       X7     0.469777\n",
       "8       X8     0.006829\n",
       "9       X9     0.071042\n",
       "10     X10     0.000378"
      ]
     },
     "metadata": {},
     "output_type": "display_data"
    }
   ],
   "source": [
    "lambdas = np.arange(0.000001, 0.0005, 0.00001)\n",
    "MSEs    = [] \n",
    "for l in lambdas:\n",
    "    MSEs += [np.mean(lasso_cv(X, y, λ=l, k=10))]\n",
    "\n",
    "sns.scatterplot(x='λ', y='MSE', data=pd.DataFrame({'λ': lambdas, 'MSE': MSEs}))\n",
    "plt.show();\n",
    "\n",
    "# What coefficients does the lasso choose for the optimal lambda value?\n",
    "λ = min(zip(MSEs, lambdas))[1]\n",
    "model = linear_model.Lasso(alpha=λ, fit_intercept=True, normalize=True, max_iter=1000000).fit(X, y)\n",
    "intercept  = pd.DataFrame({'feature': 'X0', 'coefficient': model.intercept_})\n",
    "lasso_b_df = intercept.append(pd.DataFrame({'feature': X.columns, 'coefficient': model.coef_}), ignore_index=True)\n",
    "ax = sns.barplot(x='coefficient', y='feature', data=lasso_b_df);\n",
    "plt.xticks(rotation=90)\n",
    "plt.show();\n",
    "\n",
    "display(lasso_b_df)"
   ]
  },
  {
   "cell_type": "code",
   "execution_count": 532,
   "metadata": {},
   "outputs": [
    {
     "data": {
      "text/plain": [
       "(0.8423025784930932, 0.00026100000000000006)"
      ]
     },
     "execution_count": 532,
     "metadata": {},
     "output_type": "execute_result"
    }
   ],
   "source": [
    "min(zip(MSEs, lambdas))"
   ]
  },
  {
   "cell_type": "markdown",
   "metadata": {},
   "source": [
    "Here the value of lambda is very close to zero and so we expect it behave like ridge regression – indeed there is a low proportion of zero value coefficients. \n",
    "\n",
    "The MSE is now lower 0.842 than that achieved for both best subset selection and the first version of lasso.\n",
    "\n",
    "#### But how do these various model estimates compare against the actual f(x)?\n",
    "\n",
    "Because data is simulated, we can compare the selected models to the actual model\n"
   ]
  },
  {
   "cell_type": "code",
   "execution_count": 536,
   "metadata": {},
   "outputs": [],
   "source": [
    "x   = np.random.normal(0, 1, 100)\n",
    "X = pd.DataFrame({'X': x,\n",
    "                  'X2': x**2,\n",
    "                  'X3': x**3,\n",
    "                  'X4': x**4,\n",
    "                  'X5': x**5,\n",
    "                  'X6': x**6,\n",
    "                  'X7': x**7,\n",
    "                  'X8': x**8,\n",
    "                  'X9': x**9,\n",
    "                  'X10': x**10})\n",
    "X_np = np.insert(np.array(X), 0, 1, axis=1)\n",
    "\n",
    "y_actual = 5 + 1.2*(x**7)\n",
    "bss_params = np.zeros(11)\n",
    "bss_params[0] = best_subset_params[0]\n",
    "bss_params[2] = best_subset_params[1]\n",
    "bss_params[6] = best_subset_params[2]\n",
    "bss_params[7] = best_subset_params[3]\n",
    "\n",
    "lasso_a_params = np.array(lasso_a_df['coefficient'])\n",
    "lasso_b_params = np.array(lasso_b_df['coefficient'])"
   ]
  },
  {
   "cell_type": "code",
   "execution_count": 542,
   "metadata": {},
   "outputs": [],
   "source": [
    "y_bss     = X_np @ bss_params\n",
    "y_lasso_a = X_np @ lasso_a_params\n",
    "y_lasso_b = X_np @ lasso_b_params"
   ]
  },
  {
   "cell_type": "code",
   "execution_count": 554,
   "metadata": {},
   "outputs": [],
   "source": [
    "def mse(y_hat, y):\n",
    "    \"\"\"Calculate Mean Squared Error\"\"\"\n",
    "    return np.sum(np.square(y_hat - y)) / y.size"
   ]
  },
  {
   "cell_type": "code",
   "execution_count": 567,
   "metadata": {},
   "outputs": [
    {
     "data": {
      "text/html": [
       "<h4>Actual MSEs compared to known f(x)</h4>"
      ],
      "text/plain": [
       "<IPython.core.display.HTML object>"
      ]
     },
     "metadata": {},
     "output_type": "display_data"
    },
    {
     "name": "stdout",
     "output_type": "stream",
     "text": [
      "Best subset selection    : 0.5015558203750072\n",
      "Lasso a (higher lambda)  : 0.2332802506985821\n",
      "Lasso b (lower lambda ~0): 5.483599366482682\n"
     ]
    }
   ],
   "source": [
    "display(HTML('<h4>Actual MSEs compared to known f(x)</h4>'))\n",
    "print('Best subset selection    : {}'.format(mse(y_bss, y_actual)))\n",
    "print('Lasso a (higher lambda)  : {}'.format(mse(y_lasso_a, y_actual)))\n",
    "print('Lasso b (lower lambda ~0): {}'.format(mse(y_lasso_b, y_actual)))"
   ]
  },
  {
   "cell_type": "markdown",
   "metadata": {},
   "source": [
    "Here we used three seperate approaches to estimate the mode f(x) in a simulated context with noise added. We tested the estimated model for each aproach against the true f(x) without noise.\n",
    "\n",
    "Best subset selection and ridge-regression (lasso b) produced the lowest CV mse, but lasso a achieved the lowest MSE when compared with the true model f(x). The lasso a was also most effective at ignoring superfluous feautures.\n",
    "\n",
    "It seems that lasso_a performed best because it ignored irrelavant features and so minimised overfitting. The cross-validation CV was not able to account for this advantage."
   ]
  },
  {
   "cell_type": "markdown",
   "metadata": {},
   "source": [
    "## 9. In this exercise, we will predict the number of applications received using the other variables in the College data set.\n",
    "\n",
    "(a) Split the data set into a training set and a test set."
   ]
  },
  {
   "cell_type": "code",
   "execution_count": 1078,
   "metadata": {},
   "outputs": [
    {
     "data": {
      "text/html": [
       "<div>\n",
       "<style scoped>\n",
       "    .dataframe tbody tr th:only-of-type {\n",
       "        vertical-align: middle;\n",
       "    }\n",
       "\n",
       "    .dataframe tbody tr th {\n",
       "        vertical-align: top;\n",
       "    }\n",
       "\n",
       "    .dataframe thead th {\n",
       "        text-align: right;\n",
       "    }\n",
       "</style>\n",
       "<table border=\"1\" class=\"dataframe\">\n",
       "  <thead>\n",
       "    <tr style=\"text-align: right;\">\n",
       "      <th></th>\n",
       "      <th></th>\n",
       "      <th>Accept</th>\n",
       "      <th>Enroll</th>\n",
       "      <th>Top10perc</th>\n",
       "      <th>Top25perc</th>\n",
       "      <th>F_Undergrad</th>\n",
       "      <th>P_Undergrad</th>\n",
       "      <th>Outstate</th>\n",
       "      <th>Room_Board</th>\n",
       "      <th>Books</th>\n",
       "      <th>Personal</th>\n",
       "      <th>PhD</th>\n",
       "      <th>Terminal</th>\n",
       "      <th>S_F_Ratio</th>\n",
       "      <th>perc_alumni</th>\n",
       "      <th>Expend</th>\n",
       "      <th>Grad_Rate</th>\n",
       "      <th>Private_Yes</th>\n",
       "    </tr>\n",
       "    <tr>\n",
       "      <th></th>\n",
       "      <th>College</th>\n",
       "      <th></th>\n",
       "      <th></th>\n",
       "      <th></th>\n",
       "      <th></th>\n",
       "      <th></th>\n",
       "      <th></th>\n",
       "      <th></th>\n",
       "      <th></th>\n",
       "      <th></th>\n",
       "      <th></th>\n",
       "      <th></th>\n",
       "      <th></th>\n",
       "      <th></th>\n",
       "      <th></th>\n",
       "      <th></th>\n",
       "      <th></th>\n",
       "      <th></th>\n",
       "    </tr>\n",
       "  </thead>\n",
       "  <tbody>\n",
       "    <tr>\n",
       "      <th>0</th>\n",
       "      <th>Abilene Christian University</th>\n",
       "      <td>1232.0</td>\n",
       "      <td>721.0</td>\n",
       "      <td>23.0</td>\n",
       "      <td>52.0</td>\n",
       "      <td>2885.0</td>\n",
       "      <td>537.0</td>\n",
       "      <td>7440.0</td>\n",
       "      <td>3300.0</td>\n",
       "      <td>450.0</td>\n",
       "      <td>2200.0</td>\n",
       "      <td>70.0</td>\n",
       "      <td>78.0</td>\n",
       "      <td>18.1</td>\n",
       "      <td>12.0</td>\n",
       "      <td>7041.0</td>\n",
       "      <td>60.0</td>\n",
       "      <td>1.0</td>\n",
       "    </tr>\n",
       "    <tr>\n",
       "      <th>2</th>\n",
       "      <th>Adrian College</th>\n",
       "      <td>1097.0</td>\n",
       "      <td>336.0</td>\n",
       "      <td>22.0</td>\n",
       "      <td>50.0</td>\n",
       "      <td>1036.0</td>\n",
       "      <td>99.0</td>\n",
       "      <td>11250.0</td>\n",
       "      <td>3750.0</td>\n",
       "      <td>400.0</td>\n",
       "      <td>1165.0</td>\n",
       "      <td>53.0</td>\n",
       "      <td>66.0</td>\n",
       "      <td>12.9</td>\n",
       "      <td>30.0</td>\n",
       "      <td>8735.0</td>\n",
       "      <td>54.0</td>\n",
       "      <td>1.0</td>\n",
       "    </tr>\n",
       "    <tr>\n",
       "      <th>3</th>\n",
       "      <th>Agnes Scott College</th>\n",
       "      <td>349.0</td>\n",
       "      <td>137.0</td>\n",
       "      <td>60.0</td>\n",
       "      <td>89.0</td>\n",
       "      <td>510.0</td>\n",
       "      <td>63.0</td>\n",
       "      <td>12960.0</td>\n",
       "      <td>5450.0</td>\n",
       "      <td>450.0</td>\n",
       "      <td>875.0</td>\n",
       "      <td>92.0</td>\n",
       "      <td>97.0</td>\n",
       "      <td>7.7</td>\n",
       "      <td>37.0</td>\n",
       "      <td>19016.0</td>\n",
       "      <td>59.0</td>\n",
       "      <td>1.0</td>\n",
       "    </tr>\n",
       "    <tr>\n",
       "      <th>4</th>\n",
       "      <th>Alaska Pacific University</th>\n",
       "      <td>146.0</td>\n",
       "      <td>55.0</td>\n",
       "      <td>16.0</td>\n",
       "      <td>44.0</td>\n",
       "      <td>249.0</td>\n",
       "      <td>869.0</td>\n",
       "      <td>7560.0</td>\n",
       "      <td>4120.0</td>\n",
       "      <td>800.0</td>\n",
       "      <td>1500.0</td>\n",
       "      <td>76.0</td>\n",
       "      <td>72.0</td>\n",
       "      <td>11.9</td>\n",
       "      <td>2.0</td>\n",
       "      <td>10922.0</td>\n",
       "      <td>15.0</td>\n",
       "      <td>1.0</td>\n",
       "    </tr>\n",
       "    <tr>\n",
       "      <th>5</th>\n",
       "      <th>Albertson College</th>\n",
       "      <td>479.0</td>\n",
       "      <td>158.0</td>\n",
       "      <td>38.0</td>\n",
       "      <td>62.0</td>\n",
       "      <td>678.0</td>\n",
       "      <td>41.0</td>\n",
       "      <td>13500.0</td>\n",
       "      <td>3335.0</td>\n",
       "      <td>500.0</td>\n",
       "      <td>675.0</td>\n",
       "      <td>67.0</td>\n",
       "      <td>73.0</td>\n",
       "      <td>9.4</td>\n",
       "      <td>11.0</td>\n",
       "      <td>9727.0</td>\n",
       "      <td>55.0</td>\n",
       "      <td>1.0</td>\n",
       "    </tr>\n",
       "  </tbody>\n",
       "</table>\n",
       "</div>"
      ],
      "text/plain": [
       "                                Accept  Enroll  Top10perc  Top25perc  \\\n",
       "  College                                                              \n",
       "0 Abilene Christian University  1232.0   721.0       23.0       52.0   \n",
       "2 Adrian College                1097.0   336.0       22.0       50.0   \n",
       "3 Agnes Scott College            349.0   137.0       60.0       89.0   \n",
       "4 Alaska Pacific University      146.0    55.0       16.0       44.0   \n",
       "5 Albertson College              479.0   158.0       38.0       62.0   \n",
       "\n",
       "                                F_Undergrad  P_Undergrad  Outstate  \\\n",
       "  College                                                            \n",
       "0 Abilene Christian University       2885.0        537.0    7440.0   \n",
       "2 Adrian College                     1036.0         99.0   11250.0   \n",
       "3 Agnes Scott College                 510.0         63.0   12960.0   \n",
       "4 Alaska Pacific University           249.0        869.0    7560.0   \n",
       "5 Albertson College                   678.0         41.0   13500.0   \n",
       "\n",
       "                                Room_Board  Books  Personal   PhD  Terminal  \\\n",
       "  College                                                                     \n",
       "0 Abilene Christian University      3300.0  450.0    2200.0  70.0      78.0   \n",
       "2 Adrian College                    3750.0  400.0    1165.0  53.0      66.0   \n",
       "3 Agnes Scott College               5450.0  450.0     875.0  92.0      97.0   \n",
       "4 Alaska Pacific University         4120.0  800.0    1500.0  76.0      72.0   \n",
       "5 Albertson College                 3335.0  500.0     675.0  67.0      73.0   \n",
       "\n",
       "                                S_F_Ratio  perc_alumni   Expend  Grad_Rate  \\\n",
       "  College                                                                    \n",
       "0 Abilene Christian University       18.1         12.0   7041.0       60.0   \n",
       "2 Adrian College                     12.9         30.0   8735.0       54.0   \n",
       "3 Agnes Scott College                 7.7         37.0  19016.0       59.0   \n",
       "4 Alaska Pacific University          11.9          2.0  10922.0       15.0   \n",
       "5 Albertson College                   9.4         11.0   9727.0       55.0   \n",
       "\n",
       "                                Private_Yes  \n",
       "  College                                    \n",
       "0 Abilene Christian University          1.0  \n",
       "2 Adrian College                        1.0  \n",
       "3 Agnes Scott College                   1.0  \n",
       "4 Alaska Pacific University             1.0  \n",
       "5 Albertson College                     1.0  "
      ]
     },
     "metadata": {},
     "output_type": "display_data"
    }
   ],
   "source": [
    "college_df = pd.read_csv('./data/College.csv')\n",
    "\n",
    "# 8(b) label rows by college\n",
    "college_df = college_df.set_index(['Unnamed: 0'], append=True, verify_integrity=True)\n",
    "college_df.rename_axis([None, 'College'], inplace=True)\n",
    "\n",
    "# Get dummimies\n",
    "college_df = pd.get_dummies(college_df).drop('Private_No', axis=1)\n",
    "\n",
    "# Convert to floats\n",
    "college_df = college_df.astype(np.float64)\n",
    "\n",
    "# Remove fullstops from col names\n",
    "college_df = college_df.rename(index=str, columns={\"F.Undergrad\": \"F_Undergrad\", \n",
    "                                                   \"P.Undergrad\": \"P_Undergrad\",\n",
    "                                                   \"S.F.Ratio\": \"S_F_Ratio\",\n",
    "                                                   \"perc.alumni\": \"perc_alumni\",\n",
    "                                                   \"Grad.Rate\": \"Grad_Rate\",\n",
    "                                                   \"Room.Board\": \"Room_Board\"})\n",
    "\n",
    "# Assign train and test sets\n",
    "np.random.seed(1)\n",
    "train = np.random.rand(len(college_df)) < 0.5\n",
    "response   = 'Apps'\n",
    "X_train = college_df[train].drop(response, axis=1)\n",
    "X_test  = college_df[~train].drop(response, axis=1)\n",
    "y_train = college_df[train][response]\n",
    "y_test  = college_df[~train][response]\n",
    "\n",
    "\n",
    "display(X_train.head())"
   ]
  },
  {
   "cell_type": "markdown",
   "metadata": {},
   "source": [
    "### (b) Fit a linear model using least squares on the training set, and report the test error obtained."
   ]
  },
  {
   "cell_type": "code",
   "execution_count": 1079,
   "metadata": {},
   "outputs": [
    {
     "name": "stdout",
     "output_type": "stream",
     "text": [
      "RMSE: 1229.1326212399779\n"
     ]
    }
   ],
   "source": [
    "# OLS\n",
    "# Use all available features\n",
    "f = '{} ~ {}'.format(response, '+'.join(X_train.columns))\n",
    "\n",
    "# Fit model\n",
    "model = smf.ols(formula=f, data=pd.concat([X_train, y_train], axis=1)).fit()\n",
    "y_hat = model.predict(X_test)\n",
    "print('RMSE: {}'.format(np.sqrt(mse(y_hat, y_test))))"
   ]
  },
  {
   "cell_type": "markdown",
   "metadata": {},
   "source": [
    "### (c) Fit a ridge regression model on the training set, with λ chosen by cross-validation. Report the test error obtained."
   ]
  },
  {
   "cell_type": "code",
   "execution_count": 726,
   "metadata": {},
   "outputs": [
    {
     "data": {
      "image/png": "[encoded data removed]",
      "text/plain": [
       "<Figure size 432x288 with 1 Axes>"
      ]
     },
     "metadata": {},
     "output_type": "display_data"
    },
    {
     "name": "stdout",
     "output_type": "stream",
     "text": [
      "RMSE CV: 1033.7092919308884\n",
      "@Lambda: 6.400000000000005\n"
     ]
    },
    {
     "data": {
      "image/png": "[encoded data removed]",
      "text/plain": [
       "<Figure size 432x288 with 1 Axes>"
      ]
     },
     "metadata": {},
     "output_type": "display_data"
    },
    {
     "data": {
      "text/html": [
       "<div>\n",
       "<style scoped>\n",
       "    .dataframe tbody tr th:only-of-type {\n",
       "        vertical-align: middle;\n",
       "    }\n",
       "\n",
       "    .dataframe tbody tr th {\n",
       "        vertical-align: top;\n",
       "    }\n",
       "\n",
       "    .dataframe thead th {\n",
       "        text-align: right;\n",
       "    }\n",
       "</style>\n",
       "<table border=\"1\" class=\"dataframe\">\n",
       "  <thead>\n",
       "    <tr style=\"text-align: right;\">\n",
       "      <th></th>\n",
       "      <th>feature</th>\n",
       "      <th>coefficient</th>\n",
       "    </tr>\n",
       "  </thead>\n",
       "  <tbody>\n",
       "    <tr>\n",
       "      <th>0</th>\n",
       "      <td>Intercept</td>\n",
       "      <td>-743.853899</td>\n",
       "    </tr>\n",
       "    <tr>\n",
       "      <th>1</th>\n",
       "      <td>Accept</td>\n",
       "      <td>1.239709</td>\n",
       "    </tr>\n",
       "    <tr>\n",
       "      <th>2</th>\n",
       "      <td>Enroll</td>\n",
       "      <td>0.289301</td>\n",
       "    </tr>\n",
       "    <tr>\n",
       "      <th>3</th>\n",
       "      <td>Top10perc</td>\n",
       "      <td>42.248928</td>\n",
       "    </tr>\n",
       "    <tr>\n",
       "      <th>4</th>\n",
       "      <td>Top25perc</td>\n",
       "      <td>-14.340634</td>\n",
       "    </tr>\n",
       "    <tr>\n",
       "      <th>5</th>\n",
       "      <td>F_Undergrad</td>\n",
       "      <td>-0.015648</td>\n",
       "    </tr>\n",
       "    <tr>\n",
       "      <th>6</th>\n",
       "      <td>P_Undergrad</td>\n",
       "      <td>0.057172</td>\n",
       "    </tr>\n",
       "    <tr>\n",
       "      <th>7</th>\n",
       "      <td>Outstate</td>\n",
       "      <td>-0.052587</td>\n",
       "    </tr>\n",
       "    <tr>\n",
       "      <th>8</th>\n",
       "      <td>Room_Board</td>\n",
       "      <td>0.139781</td>\n",
       "    </tr>\n",
       "    <tr>\n",
       "      <th>9</th>\n",
       "      <td>Books</td>\n",
       "      <td>-0.190414</td>\n",
       "    </tr>\n",
       "    <tr>\n",
       "      <th>10</th>\n",
       "      <td>Personal</td>\n",
       "      <td>0.067550</td>\n",
       "    </tr>\n",
       "    <tr>\n",
       "      <th>11</th>\n",
       "      <td>PhD</td>\n",
       "      <td>-5.416274</td>\n",
       "    </tr>\n",
       "    <tr>\n",
       "      <th>12</th>\n",
       "      <td>Terminal</td>\n",
       "      <td>-8.195066</td>\n",
       "    </tr>\n",
       "    <tr>\n",
       "      <th>13</th>\n",
       "      <td>S_F_Ratio</td>\n",
       "      <td>15.538236</td>\n",
       "    </tr>\n",
       "    <tr>\n",
       "      <th>14</th>\n",
       "      <td>perc_alumni</td>\n",
       "      <td>-9.710109</td>\n",
       "    </tr>\n",
       "    <tr>\n",
       "      <th>15</th>\n",
       "      <td>Expend</td>\n",
       "      <td>0.116894</td>\n",
       "    </tr>\n",
       "    <tr>\n",
       "      <th>16</th>\n",
       "      <td>Grad_Rate</td>\n",
       "      <td>12.477785</td>\n",
       "    </tr>\n",
       "    <tr>\n",
       "      <th>17</th>\n",
       "      <td>Private_Yes</td>\n",
       "      <td>-432.569829</td>\n",
       "    </tr>\n",
       "  </tbody>\n",
       "</table>\n",
       "</div>"
      ],
      "text/plain": [
       "        feature  coefficient\n",
       "0     Intercept  -743.853899\n",
       "1        Accept     1.239709\n",
       "2        Enroll     0.289301\n",
       "3     Top10perc    42.248928\n",
       "4     Top25perc   -14.340634\n",
       "5   F_Undergrad    -0.015648\n",
       "6   P_Undergrad     0.057172\n",
       "7      Outstate    -0.052587\n",
       "8    Room_Board     0.139781\n",
       "9         Books    -0.190414\n",
       "10     Personal     0.067550\n",
       "11          PhD    -5.416274\n",
       "12     Terminal    -8.195066\n",
       "13    S_F_Ratio    15.538236\n",
       "14  perc_alumni    -9.710109\n",
       "15       Expend     0.116894\n",
       "16    Grad_Rate    12.477785\n",
       "17  Private_Yes  -432.569829"
      ]
     },
     "metadata": {},
     "output_type": "display_data"
    }
   ],
   "source": [
    "# Perform 10 fold cross validation to find optimal λ\n",
    "\n",
    "def ridge_cv(X, y, λ, k):\n",
    "    \"\"\"Perform ridge regresion with \n",
    "    k-fold cross validation to return mean MSE scores for each fold\"\"\"\n",
    "    # Split dataset into k-folds\n",
    "    # Note: np.array_split doesn't raise excpetion is folds are unequal in size\n",
    "    X_folds = np.array_split(X, k)\n",
    "    y_folds = np.array_split(y, k)\n",
    "    \n",
    "    MSEs = []\n",
    "    for f in np.arange(len(X_folds)):\n",
    "        # Create training and test sets\n",
    "        X_test  = X_folds[f]\n",
    "        y_test  = y_folds[f]\n",
    "        X_train = X.drop(X_folds[f].index)\n",
    "        y_train = y.drop(y_folds[f].index)\n",
    "        \n",
    "        # Fit model\n",
    "        model = linear_model.Ridge(alpha=λ, fit_intercept=True, normalize=False, solver='cholesky')\n",
    "        m = model.fit(X_train, y_train)\n",
    "        \n",
    "        # Measure MSE\n",
    "        y_hat = m.predict(X_test)\n",
    "        MSEs += [mse(y_hat, y_test)]\n",
    "    return MSEs\n",
    "\n",
    "def optimise(X, y, cv, lambdas):\n",
    "    MSEs = [] \n",
    "    for l in lambdas:\n",
    "        MSEs += [np.mean(cv(X, y, λ=l, k=10))]\n",
    "    \n",
    "    sns.scatterplot(x='λ', y='MSE', data=pd.DataFrame({'λ': lambdas, 'MSE': MSEs}))\n",
    "    plt.show();\n",
    "    \n",
    "    lamb = min(zip(MSEs, lambdas))\n",
    "    print('RMSE CV: {}\\n@Lambda: {}'.format(np.sqrt(lamb[0]), lamb[1]))\n",
    "\n",
    "    # What coefficients does ridge regression choose for the optimal lambda value?\n",
    "    model = model = linear_model.Ridge(alpha=λ, fit_intercept=True, normalize=False, solver='cholesky')\n",
    "    m = model.fit(X, y)\n",
    "    \n",
    "    intercept = pd.DataFrame({'feature': 'Intercept', 'coefficient': [m.intercept_]})\n",
    "    ridge_df  = intercept.append(pd.DataFrame({'feature': X.columns, 'coefficient': m.coef_}), ignore_index=True)\n",
    "    \n",
    "    ax = sns.barplot(x='coefficient', y='feature', data=ridge_df)\n",
    "    plt.xticks(rotation=90)\n",
    "    plt.show();\n",
    "    \n",
    "    display(ridge_df)\n",
    "    return lamb[1]\n",
    "\n",
    "     \n",
    "opt_lamb = optimise(X_train, y_train, ridge_cv, np.arange(1, 20, .1))"
   ]
  },
  {
   "cell_type": "code",
   "execution_count": 727,
   "metadata": {},
   "outputs": [
    {
     "name": "stdout",
     "output_type": "stream",
     "text": [
      "RMSE Test: 1230.2863913806934\n"
     ]
    }
   ],
   "source": [
    "# Use optimal lambda value optained in previous step, then test model on test set.\n",
    "model = model = linear_model.Ridge(alpha=opt_lamb, fit_intercept=True, normalize=False, solver='cholesky')\n",
    "# Fit on full training setl\n",
    "model.fit(X_train, y_train)\n",
    "# Get test rmse\n",
    "y_hat = model.predict(X_test)\n",
    "print('RMSE Test: {}'.format(np.sqrt(mse(y_hat, y_test))))"
   ]
  },
  {
   "cell_type": "markdown",
   "metadata": {},
   "source": [
    "**Comment:** With an RSME on the test set of 1230.29, ridge regression performs marginally worse than a naive linear regression with all feature (RMSE: 1229.13)."
   ]
  },
  {
   "cell_type": "markdown",
   "metadata": {},
   "source": [
    "### (d) Fit a lasso model on the training set, with λ chosen by crossvalidation. Report the test error obtained, along with the number of non-zero coefficient estimates."
   ]
  },
  {
   "cell_type": "code",
   "execution_count": 765,
   "metadata": {},
   "outputs": [
    {
     "data": {
      "image/png": "[encoded data removed]",
      "text/plain": [
       "<Figure size 432x288 with 1 Axes>"
      ]
     },
     "metadata": {},
     "output_type": "display_data"
    },
    {
     "name": "stdout",
     "output_type": "stream",
     "text": [
      "RMSE CV: 1030.3953270677766\n",
      "@Lambda: 0.19099999999999998\n"
     ]
    }
   ],
   "source": [
    "def lasso_cv(X, y, λ, k):\n",
    "    \"\"\"Perform the lasso with \n",
    "    k-fold cross validation to return mean MSE scores for each fold\"\"\"\n",
    "    # Split dataset into k-folds\n",
    "    # Note: np.array_split doesn't raise excpetion is folds are unequal in size\n",
    "    X_folds = np.array_split(X, k)\n",
    "    y_folds = np.array_split(y, k)\n",
    "    \n",
    "    MSEs = []\n",
    "    for f in np.arange(len(X_folds)):\n",
    "        # Create training and test sets\n",
    "        X_test  = X_folds[f]\n",
    "        y_test  = y_folds[f]\n",
    "        X_train = X.drop(X_folds[f].index)\n",
    "        y_train = y.drop(y_folds[f].index)\n",
    "        \n",
    "        # Fit model\n",
    "        model = linear_model.Lasso(alpha=λ, copy_X=True, fit_intercept=True, max_iter=10000,\n",
    "                                   normalize=True, positive=False, precompute=False, random_state=None,\n",
    "                                   selection='cyclic', tol=0.0001, warm_start=False).fit(X_train, y_train)\n",
    "        \n",
    "        # Measure MSE\n",
    "        y_hat = model.predict(X_test)\n",
    "        MSEs += [mse(y_hat, y_test)]\n",
    "    return MSEs\n",
    "\n",
    "lambdas = np.arange(.001, 1, .01)\n",
    "MSEs    = [] \n",
    "for l in lambdas:\n",
    "    MSEs += [np.mean(lasso_cv(X_train, y_train, λ=l, k=10))]\n",
    "\n",
    "sns.scatterplot(x='λ', y='MSE', data=pd.DataFrame({'λ': lambdas, 'MSE': MSEs}))\n",
    "plt.show();\n",
    "\n",
    "lamb = min(zip(MSEs, lambdas))\n",
    "print('RMSE CV: {}\\n@Lambda: {}'.format(np.sqrt(lamb[0]), lamb[1]))"
   ]
  },
  {
   "cell_type": "code",
   "execution_count": 801,
   "metadata": {},
   "outputs": [
    {
     "data": {
      "application/vnd.jupyter.widget-view+json": {
       "model_id": "668b95810045466f8ceabfe701225ea7",
       "version_major": 2,
       "version_minor": 0
      },
      "text/plain": [
       "interactive(children=(FloatSlider(value=0.19099999999999998, description='λ', max=1.9099999999999997, min=0.00…"
      ]
     },
     "metadata": {},
     "output_type": "display_data"
    }
   ],
   "source": [
    "def lasso_test(λ):\n",
    "    # Fit model on full training set with optimal lambda\n",
    "    model = linear_model.Lasso(alpha=λ, copy_X=True, fit_intercept=True, max_iter=10000,\n",
    "                               normalize=True, positive=False, precompute=False, random_state=None,\n",
    "                               selection='cyclic', tol=0.0001, warm_start=False).fit(X_train, y_train)\n",
    "    \n",
    "    # Get test rmse\n",
    "    y_hat = model.predict(X_test)\n",
    "    print('RMSE Test: {}'.format(np.sqrt(mse(y_hat, y_test))))\n",
    "    \n",
    "    # # What coefficients does the lasso choose for the optimal lambda value?\n",
    "    intercept = pd.DataFrame({'feature': 'Intercept', 'coefficient': [model.intercept_]})\n",
    "    lasso_df  = intercept.append(pd.DataFrame({'feature': X_train.columns, 'coefficient': model.coef_}), ignore_index=True)\n",
    "    \n",
    "    ax = sns.barplot(x='coefficient', y='feature', data=lasso_df);\n",
    "    plt.xticks(rotation=90)\n",
    "    plt.show();\n",
    "    \n",
    "    display(lasso_df)\n",
    "\n",
    "interact(lasso_test, λ=widgets.FloatSlider(min=lamb[1]/100, max=lamb[1]*10, step=0.01, value=lamb[1]));\n"
   ]
  },
  {
   "cell_type": "markdown",
   "metadata": {},
   "source": [
    "### Results so far...\n",
    "\n",
    "\n",
    "| Model | RSME test |\n",
    "| --- | --- |\n",
    "| Lasso          | 1228.58 |\n",
    "| OLS | 1229.13 |\n",
    "| Ridge          | 1230.29 |"
   ]
  },
  {
   "cell_type": "markdown",
   "metadata": {},
   "source": [
    "### (e) Fit a PCR model on the training set, with M chosen by crossvalidation. Report the test error obtained, along with the value of M selected by cross-validation."
   ]
  },
  {
   "cell_type": "code",
   "execution_count": 894,
   "metadata": {},
   "outputs": [
    {
     "data": {
      "application/vnd.jupyter.widget-view+json": {
       "model_id": "624b3c2456094f13ab947397f43ce951",
       "version_major": 2,
       "version_minor": 0
      },
      "text/plain": [
       "interactive(children=(IntSlider(value=10, description='seed', max=50, min=1), IntSlider(value=10, description=…"
      ]
     },
     "metadata": {},
     "output_type": "display_data"
    }
   ],
   "source": [
    "def pcr_cv(seed, cv_folds):\n",
    "    \"\"\"Perform Principle Component Regression evaluated with\n",
    "    k-fold cross validation\"\"\"\n",
    "\n",
    "    # Select components with cross-validation\n",
    "    # ---------------------------------------\n",
    "    # Load data\n",
    "    X = college_df[train].drop(response, axis=1)\n",
    "    y = college_df[train][response]\n",
    "    \n",
    "    # Get all principle components\n",
    "    pca = PCA()\n",
    "    X_reduced = pca.fit_transform(scale(X))\n",
    "    \n",
    "    # Get cv MSE for cumulative components\n",
    "    M = X_reduced.shape[1]\n",
    "    MSEs = []\n",
    "    for m in range(M):\n",
    "        model = LinearRegression()\n",
    "        cv    = KFold(n_splits=cv_folds, random_state=seed, shuffle=True)\n",
    "        cv10  = cross_val_score(model, X_reduced[:, 0:m+1], y, cv=cv, scoring='neg_mean_squared_error')\n",
    "        MSEs += [np.mean(np.abs(cv10))]\n",
    "        \n",
    "    df = pd.DataFrame({'principal components count': np.arange(1, M+1), 'RMSE_CV': np.sqrt(MSEs)})\n",
    "    ax = sns.lineplot(x='principal components count', y='RMSE_CV', data=df)\n",
    "    plt.show();\n",
    "    #ax.axes.set_ylim(100000, 140000)\n",
    "\n",
    "    # Make Test predictions\n",
    "    # ---------------------------------------\n",
    "    \n",
    "    # Get optimal number of compoenents from cv results\n",
    "    m = df[df['RMSE_CV'] == df['RMSE_CV'].min()]['principal components count'].iloc[0]\n",
    "    \n",
    "    # Get all principle components across train and test values for X\n",
    "    X_reduced = pca.fit_transform(scale(college_df.drop(response, axis=1)))\n",
    "    \n",
    "    # Fit model on TRAINING subset of PCs\n",
    "    model = LinearRegression()\n",
    "    model.fit(X_reduced[train][:, 0:m+1], y_train)\n",
    "    # Predict using TEST subset of PCs\n",
    "    y_hat = model.predict(X_reduced[~train][:, 0:m+1])\n",
    "    \n",
    "    # Show results for optimal number of components\n",
    "    best_df = df[df['RMSE_CV'] == df['RMSE_CV'].min()]\n",
    "    best_df['RSME_Test'] = np.sqrt(mse(y_hat, y_test))\n",
    "    display(best_df)\n",
    "    \n",
    "    print(model.score(X_reduced[~train][:, 0:m+1], y_test))\n",
    "    \n",
    "\n",
    "interact(pcr_cv, \n",
    "         seed=widgets.IntSlider(min=1, max=50, step=1, value=10), \n",
    "         cv_folds=widgets.IntSlider(min=2, max=100, step=1, value=10));"
   ]
  },
  {
   "cell_type": "markdown",
   "metadata": {},
   "source": [
    "### Results so far...\n",
    "\n",
    "\n",
    "| Model | RSME test |\n",
    "| --- | --- |\n",
    "| Lasso          | 1228.58 |\n",
    "| OLS | 1229.13 |\n",
    "| PCR | 1229.13 |\n",
    "| Ridge          | 1230.29 |"
   ]
  },
  {
   "cell_type": "markdown",
   "metadata": {},
   "source": [
    "### (f) Fit a PLS model on the training set, with M chosen by cross- validation. Report the test error obtained, along with the value of M selected by cross-validation."
   ]
  },
  {
   "cell_type": "code",
   "execution_count": 974,
   "metadata": {},
   "outputs": [
    {
     "data": {
      "application/vnd.jupyter.widget-view+json": {
       "model_id": "f4d2a853576947f29c1c0faa6db26aed",
       "version_major": 2,
       "version_minor": 0
      },
      "text/plain": [
       "interactive(children=(IntSlider(value=10, description='seed', max=50, min=1), IntSlider(value=10, description=…"
      ]
     },
     "metadata": {},
     "output_type": "display_data"
    }
   ],
   "source": [
    "from sklearn.cross_decomposition import PLSRegression\n",
    "\n",
    "def pls_cv(seed, cv_folds):\n",
    "    \"\"\"Perform Partial Least Squares Regression evaluated with\n",
    "    k-fold cross validation\"\"\"\n",
    "\n",
    "    # Select components with cross-validation\n",
    "    # ---------------------------------------\n",
    "    # Load test data\n",
    "    X_train = np.array(college_df[train].drop(response, axis=1))\n",
    "    y_train = np.array(college_df[train][response])   \n",
    "    X_test  = np.array(college_df[~train].drop(response, axis=1))\n",
    "    y_test  = np.array(college_df[~train][response])\n",
    "    \n",
    "    # Get cv MSE for cumulative components\n",
    "    M = X_train.shape[1]\n",
    "    MSEs = []\n",
    "    for m in range(M):\n",
    "        cv      = KFold(n_splits=cv_folds, random_state=seed, shuffle=True)\n",
    "        results = cross_val_score(PLSRegression(n_components=m+1, scale=True, max_iter=10000), \n",
    "                                  X_train, y_train, cv=cv, scoring='neg_mean_squared_error')\n",
    "        MSEs   += [np.mean(np.abs(results))]\n",
    "        \n",
    "    df = pd.DataFrame({'principal components count': np.arange(1, M+1), 'RMSE_CV': np.sqrt(MSEs)})\n",
    "    ax = sns.lineplot(x='principal components count', y='RMSE_CV', data=df)\n",
    "    plt.show();\n",
    "    \n",
    "    # Make Test predictions\n",
    "    # ---------------------------------------\n",
    "    # Get optimal number of components from cv results\n",
    "    m = df[df['RMSE_CV'] == df['RMSE_CV'].min()]['principal components count'].iloc[0]\n",
    "    print(m)\n",
    "\n",
    "    # Fit model on TRAINING subset of PCs\n",
    "    model = PLSRegression(n_components=m, scale=True, max_iter=10000).fit(X_train, y_train)\n",
    "    # Predict using TEST subset of PCs\n",
    "    X_test_r, y_test_r = model.transform(X_test, y_test)\n",
    "    y_hat = model.predict(X_test)\n",
    "    \n",
    "    # Show results for optimal number of components\n",
    "    best_df = df[df['RMSE_CV'] == df['RMSE_CV'].min()]\n",
    "    best_df['RSME_Test'] = np.sqrt(mse(y_hat.T[0], y_test))\n",
    "    display(best_df)\n",
    "\n",
    "    \n",
    "interact(pls_cv, \n",
    "         seed=widgets.IntSlider(min=1, max=50, step=1, value=10), \n",
    "         cv_folds=widgets.IntSlider(min=2, max=100, step=1, value=10));"
   ]
  },
  {
   "cell_type": "markdown",
   "metadata": {},
   "source": [
    "### Results so far...\n",
    "\n",
    "\n",
    "| Model | RSME test |\n",
    "| --- | --- |\n",
    "| Lasso          | 1228.58 |\n",
    "| OLS | 1229.13 |\n",
    "| PCR | 1229.13 |\n",
    "| Ridge          | 1230.29 |\n",
    "| PLS          | 1230.36 |"
   ]
  },
  {
   "cell_type": "markdown",
   "metadata": {},
   "source": [
    "### Personal Q: how does backward stepwise selection compare with these results?"
   ]
  },
  {
   "cell_type": "code",
   "execution_count": 1083,
   "metadata": {},
   "outputs": [
    {
     "name": "stdout",
     "output_type": "stream",
     "text": [
      "RSME: 1228.098002318284\n"
     ]
    }
   ],
   "source": [
    "from sklearn.feature_selection import RFECV\n",
    "from sklearn.linear_model import LinearRegression\n",
    "\n",
    "X_train = college_df[train].drop(response, axis=1)\n",
    "X_test  = college_df[~train].drop(response, axis=1)\n",
    "y_train = pd.DataFrame({'Apps': college_df[train][response]})\n",
    "y_test  = np.array(college_df[~train][response])\n",
    "\n",
    "estimator = LinearRegression()\n",
    "selector = RFECV(estimator, step=1, cv=10, scoring='neg_mean_squared_error')\n",
    "\n",
    "selector = selector.fit(X_train, y_train)\n",
    "\n",
    "y_hat = selector.predict(X_test)\n",
    "print('RMSE: {}'.format(np.sqrt(mse(y_hat, y_test))))"
   ]
  },
  {
   "cell_type": "markdown",
   "metadata": {},
   "source": [
    "### (g) Comment on the results obtained. How accurately can we predict the number of college applications received? Is there much difference among the test errors resulting from these five approaches?"
   ]
  },
  {
   "cell_type": "code",
   "execution_count": 1084,
   "metadata": {},
   "outputs": [],
   "source": [
    "# Functions to emulate R's lm().plot() functionality\n",
    "# Providing powerful residual plots for simple AND multivariate\n",
    "# linear regresssion\n",
    "# - bring your own predictions\n",
    "# - underlying stats available as pandas dataframe\n",
    "# - visualise linearity and outliers in multiple dimensions\n",
    "\n",
    "\n",
    "def lm_stats(X, y, y_pred):\n",
    "    \"\"\" LEVERAGE & STUDENTISED RESIDUALS\n",
    "    - https://en.wikipedia.org/wiki/Studentized_residual#How_to_studentize\n",
    "    \"\"\"\n",
    "    # Responses as np array vector\n",
    "    try: \n",
    "        y.shape[1] == 1\n",
    "        # take first dimension as vector\n",
    "        y = y.iloc[:,0]\n",
    "    except:\n",
    "        pass\n",
    "    y = np.array(y)\n",
    "    \n",
    "    # Residuals\n",
    "    residuals = np.array(y - y_pred)\n",
    "    \n",
    "    # Hat matrix\n",
    "    H = np.array(X @ np.linalg.inv(X.T @ X)) @ X.T\n",
    "    \n",
    "    # Leverage\n",
    "    h_ii = H.diagonal()\n",
    "    \n",
    "    ## Externally studentised residual\n",
    "    # In this case external studentisation is most appropriate \n",
    "    # because we are looking for outliers.\n",
    "    \n",
    "    # Estimate variance (externalised)\n",
    "    σi_est = []\n",
    "    for i in range(X.shape[0]):\n",
    "        # exclude ith observation from estimation of variance\n",
    "        external_residuals = np.delete(residuals, i)\n",
    "        σi_est += [np.sqrt((1 / (X.shape[0] - X.shape[1] - 1)) * np.sum(np.square(external_residuals)))]\n",
    "    σi_est = np.array(σi_est)\n",
    "    \n",
    "    # Externally studentised residuals\n",
    "    t = residuals / σi_est * np.sqrt(1 - h_ii)\n",
    "    \n",
    "\n",
    "    # Return dataframe\n",
    "    return pd.DataFrame({'residual': residuals,\n",
    "                         'leverage': h_ii, \n",
    "                         'studentised_residual': t,\n",
    "                         'y_pred': y_pred})\n",
    "\n",
    "\n",
    "def lm_plot(lm_stats_df): \n",
    "    \"\"\"Provides R style residual plots based on results from lm_stat()\"\"\"\n",
    "    # Parse stats\n",
    "    t      = lm_stats_df['studentised_residual']\n",
    "    h_ii   = lm_stats_df['leverage']\n",
    "    y_pred = lm_stats_df['y_pred']\n",
    "    \n",
    "    # setup axis for grid\n",
    "    plt.figure(1, figsize=(16, 18))\n",
    "    \n",
    "    # Studentised residual plot\n",
    "    plt.subplot(321)\n",
    "    ax = sns.regplot(x=y_pred, y=t, lowess=True)\n",
    "    plt.xlabel('Fitted values')\n",
    "    plt.ylabel('Studentised residuals')\n",
    "    plt.title('Externally studentised residual plot', fontweight='bold')\n",
    "    # Draw Hastie and Tibshirani's bounds for possible outliers\n",
    "    ax.axhline(y=3, color='r', linestyle='dashed')\n",
    "    ax.axhline(y=-3, color='r', linestyle='dashed');\n",
    "    \n",
    "    # Normal Q-Q plot\n",
    "    plt.subplot(322)\n",
    "    ax = stats.probplot(t, dist='norm', plot=plt)\n",
    "    plt.ylabel('Studentised residuals')\n",
    "    plt.title('Normal Q-Q', fontweight='bold')\n",
    "    \n",
    "    # Standardised residuals\n",
    "    plt.subplot(323)\n",
    "    ax = sns.regplot(x=y_pred, y=np.sqrt(np.abs(t)), lowess=True)\n",
    "    plt.xlabel('Fitted values')\n",
    "    plt.ylabel('√Standardized residuals')\n",
    "    plt.title('Scale-Location', fontweight='bold')\n",
    "    \n",
    "    # Residuals vs Leverage plot\n",
    "    plt.subplot(324)\n",
    "    ax = sns.scatterplot(x=h_ii, y=t)\n",
    "    plt.xlabel('Leverage')\n",
    "    plt.ylabel('Studentised residuals')\n",
    "    plt.title('Externally studentised residual vs Leverage', fontweight='bold');"
   ]
  },
  {
   "cell_type": "code",
   "execution_count": 1090,
   "metadata": {},
   "outputs": [
    {
     "data": {
      "image/png": "[encoded data removed]",
      "text/plain": [
       "<Figure size 432x288 with 1 Axes>"
      ]
     },
     "metadata": {},
     "output_type": "display_data"
    },
    {
     "data": {
      "text/html": [
       "<div>\n",
       "<style scoped>\n",
       "    .dataframe tbody tr th:only-of-type {\n",
       "        vertical-align: middle;\n",
       "    }\n",
       "\n",
       "    .dataframe tbody tr th {\n",
       "        vertical-align: top;\n",
       "    }\n",
       "\n",
       "    .dataframe thead th {\n",
       "        text-align: right;\n",
       "    }\n",
       "</style>\n",
       "<table border=\"1\" class=\"dataframe\">\n",
       "  <thead>\n",
       "    <tr style=\"text-align: right;\">\n",
       "      <th></th>\n",
       "      <th>model</th>\n",
       "      <th>rmse</th>\n",
       "    </tr>\n",
       "  </thead>\n",
       "  <tbody>\n",
       "    <tr>\n",
       "      <th>0</th>\n",
       "      <td>Backward_Stepwise</td>\n",
       "      <td>1228.10</td>\n",
       "    </tr>\n",
       "    <tr>\n",
       "      <th>1</th>\n",
       "      <td>Lasso</td>\n",
       "      <td>1228.58</td>\n",
       "    </tr>\n",
       "    <tr>\n",
       "      <th>2</th>\n",
       "      <td>OLS</td>\n",
       "      <td>1229.13</td>\n",
       "    </tr>\n",
       "    <tr>\n",
       "      <th>3</th>\n",
       "      <td>PCR</td>\n",
       "      <td>1229.13</td>\n",
       "    </tr>\n",
       "    <tr>\n",
       "      <th>4</th>\n",
       "      <td>Ridge</td>\n",
       "      <td>1230.29</td>\n",
       "    </tr>\n",
       "    <tr>\n",
       "      <th>5</th>\n",
       "      <td>PLS</td>\n",
       "      <td>1230.36</td>\n",
       "    </tr>\n",
       "  </tbody>\n",
       "</table>\n",
       "</div>"
      ],
      "text/plain": [
       "               model     rmse\n",
       "0  Backward_Stepwise  1228.10\n",
       "1              Lasso  1228.58\n",
       "2                OLS  1229.13\n",
       "3                PCR  1229.13\n",
       "4              Ridge  1230.29\n",
       "5                PLS  1230.36"
      ]
     },
     "metadata": {},
     "output_type": "display_data"
    }
   ],
   "source": [
    "models = ['Backward_Stepwise', 'Lasso', 'OLS', 'PCR', 'Ridge', 'PLS']\n",
    "rmses  = [1228.10, 1228.58, 1229.13, 1229.13, 1230.29, 1230.36]\n",
    "results = pd.DataFrame({'model': models, 'rmse': rmses})\n",
    "\n",
    "ax = sns.barplot(x='model', y='rmse', data=results)\n",
    "ax.set_ylim([1220,1235])\n",
    "plt.xticks(rotation=90)\n",
    "plt.show();\n",
    "\n",
    "display(results)"
   ]
  },
  {
   "cell_type": "code",
   "execution_count": 1086,
   "metadata": {},
   "outputs": [
    {
     "data": {
      "text/plain": [
       "3001.6383526383524"
      ]
     },
     "execution_count": 1086,
     "metadata": {},
     "output_type": "execute_result"
    }
   ],
   "source": [
    "college_df['Apps'].mean()"
   ]
  },
  {
   "cell_type": "markdown",
   "metadata": {},
   "source": [
    "**Comment:** \n",
    "\n",
    "The mean number of applications received across all colleges is 3002. Our best models predictions yield a means error of +/- 1228 applications. So for the average college we would expect our prediction to be in error by +/- 1228/3002 = 40.9%.\n",
    "\n",
    "All models return RMSE scores in the range 1228.10 (backward stepwise) - 1230.36 (Partial Least SQuares). Thats a disparity of ..."
   ]
  },
  {
   "cell_type": "code",
   "execution_count": 1093,
   "metadata": {},
   "outputs": [
    {
     "data": {
      "text/plain": [
       "0.18368607562014297"
      ]
     },
     "execution_count": 1093,
     "metadata": {},
     "output_type": "execute_result"
    }
   ],
   "source": [
    "((1230.36 - 1228.10) / 1230.36) *100"
   ]
  },
  {
   "cell_type": "markdown",
   "metadata": {},
   "source": [
    "... 0.18%, so there really isn't much between them in this setting.\n",
    "\n",
    "Let's take a look at the diagnostics for the best model found by backward stepwise selection..."
   ]
  },
  {
   "cell_type": "code",
   "execution_count": 1087,
   "metadata": {},
   "outputs": [
    {
     "data": {
      "image/png": "[encoded data removed]",
      "text/plain": [
       "<Figure size 1152x1296 with 4 Axes>"
      ]
     },
     "metadata": {},
     "output_type": "display_data"
    }
   ],
   "source": [
    "# Diagnostics for bacward stepwise model\n",
    "lm_plot(lm_stats(X_test, y_test, y_hat))"
   ]
  },
  {
   "cell_type": "markdown",
   "metadata": {},
   "source": [
    "We immediately see a very high leverage outlier. There's some none normal distributions, some heteroscedaticity and some no non-linear relationships.\n",
    "\n",
    "Below we take logs of reponse and predictors."
   ]
  },
  {
   "cell_type": "code",
   "execution_count": 1095,
   "metadata": {},
   "outputs": [
    {
     "name": "stdout",
     "output_type": "stream",
     "text": [
      "RSME: 1085.4596006988925\n"
     ]
    },
    {
     "data": {
      "image/png": "[encoded data removed]",
      "text/plain": [
       "<Figure size 1152x1296 with 4 Axes>"
      ]
     },
     "metadata": {},
     "output_type": "display_data"
    }
   ],
   "source": [
    "from sklearn.feature_selection import RFECV\n",
    "from sklearn.linear_model import LinearRegression\n",
    "\n",
    "X_train = college_df[train].drop(response, axis=1)\n",
    "X_test  = college_df[~train].drop(response, axis=1)\n",
    "y_train = pd.DataFrame({'Apps': college_df[train][response]})\n",
    "y_test  = np.array(college_df[~train][response])\n",
    "\n",
    "estimator = LinearRegression()\n",
    "selector = RFECV(estimator, step=1, cv=10, scoring='neg_mean_squared_error')\n",
    "\n",
    "selector = selector.fit(np.log1p(X_train), np.log(y_train))\n",
    "\n",
    "y_hat = np.exp(selector.predict(np.log1p(X_test)))\n",
    "print('RSME: {}'.format(np.sqrt(mse(y_hat, y_test))))\n",
    "\n",
    "# Diagnostics for bacward stepwise model\n",
    "lm_plot(lm_stats(np.log1p(X_test), y_test, y_hat))"
   ]
  },
  {
   "cell_type": "markdown",
   "metadata": {},
   "source": [
    "This yields a significantly improved RMSE from 1228.10 down to 1085.46. \n",
    "\n",
    "The leverage of the anomalous observations is reduced. Non-normal distirbution of predictors is more clearly pronounced.\n",
    "\n",
    "Non-linear realtionships and heteroscedaticity not accounted for by our model remain suggesting non-linear models might be of benefit here."
   ]
  },
  {
   "cell_type": "code",
   "execution_count": null,
   "metadata": {},
   "outputs": [],
   "source": []
  }
 ],
 "metadata": {
  "kernelspec": {
   "display_name": "Python 3",
   "language": "python",
   "name": "python3"
  },
  "language_info": {
   "codemirror_mode": {
    "name": "ipython",
    "version": 3
   },
   "file_extension": ".py",
   "mimetype": "text/x-python",
   "name": "python",
   "nbconvert_exporter": "python",
   "pygments_lexer": "ipython3",
   "version": "3.6.5"
  }
 },
 "nbformat": 4,
 "nbformat_minor": 2
}
