{
 "cells": [
  {
   "cell_type": "markdown",
   "metadata": {},
   "source": [
    "# Monty Hall Problem"
   ]
  },
  {
   "cell_type": "markdown",
   "metadata": {},
   "source": [
    "<img src=\"images/MontyHall.png\"/>"
   ]
  },
  {
   "cell_type": "markdown",
   "metadata": {},
   "source": [
    "The Monty Hall problem is a brain teaser, in the form of a probability puzzle, loosely based on the American television game show Let's Make a Deal and named after its original host, Monty Hall. The problem was originally posed (and solved) in a letter by Steve Selvin to the American Statistician in 1975.\n",
    "\n",
    "The problem is a paradox of the veridical type, because the correct choice (that one should switch doors) is so counterintuitive it can seem absurd, but is nevertheless demonstrably true. The Monty Hall problem is mathematically closely related to the earlier Three Prisoners problem and to the much older Bertrand's box paradox."
   ]
  },
  {
   "cell_type": "markdown",
   "metadata": {},
   "source": [
    "**Suppose you're on a game show, and you're given the choice of three doors: Behind one door is a car; behind the others, goats. You pick a door, say No. 1, and the host, who knows what's behind the doors, opens another door, say No. 3, which has a goat. He then says to you, \"Do you want to pick door No. 2?\" Is it to your advantage to switch your choice?**"
   ]
  },
  {
   "cell_type": "markdown",
   "metadata": {},
   "source": [
    "### Without Change Door"
   ]
  },
  {
   "cell_type": "markdown",
   "metadata": {},
   "source": [
    "<img src=\"images/MHstand.png\"/>"
   ]
  },
  {
   "cell_type": "code",
   "execution_count": 1,
   "metadata": {},
   "outputs": [],
   "source": [
    "import random"
   ]
  },
  {
   "cell_type": "code",
   "execution_count": 2,
   "metadata": {},
   "outputs": [
    {
     "name": "stdout",
     "output_type": "stream",
     "text": [
      "Victories: 338\n",
      "Losses: 662\n"
     ]
    }
   ],
   "source": [
    "# Without Change\n",
    "\n",
    "n = 1000  # number of games played\n",
    "contv = 0 # count victories\n",
    "\n",
    "# n games \n",
    "for i in range(1,n+1):\n",
    "  \n",
    "    price = random.randint(1,3) # Price is randomly allocated (1, 2 or 3) \n",
    "  \n",
    "    choice = random.randint(1,3) # The person choose a door (1, 2 or 3)\n",
    "\n",
    "    # Checking how many times the person wins the prize\n",
    "    if (price == choice):\n",
    "        contv = contv + 1\n",
    "\n",
    "# Printing number of wins and losses\n",
    "print('Victories: ' + str(contv))\n",
    "print('Losses: ' + str(n-contv))"
   ]
  },
  {
   "cell_type": "markdown",
   "metadata": {},
   "source": [
    "### Change Door"
   ]
  },
  {
   "cell_type": "markdown",
   "metadata": {},
   "source": [
    "<img src=\"images/MHchange.png\"/>"
   ]
  },
  {
   "cell_type": "code",
   "execution_count": 3,
   "metadata": {},
   "outputs": [
    {
     "name": "stdout",
     "output_type": "stream",
     "text": [
      "Victories: 660\n",
      "Losses: 340\n"
     ]
    }
   ],
   "source": [
    "# Change Door\n",
    "\n",
    "n = 1000  # number of games played\n",
    "contv = 0 # count victories\n",
    "\n",
    "# n games \n",
    "for i in range(1,n+1):\n",
    "  \n",
    "    price = random.randint(1,3) # Price is randomly allocated in a (1, 2 or 3) \n",
    "  \n",
    "    choice = random.randint(1,3) # The person choose a door (1, 2 or 3)\n",
    "\n",
    "###### 3 Cases: #######\n",
    "# Case 1: Prize is at the chosen door and exchange always loses. Therefore,\n",
    "# we do not need to write any conditions, as it will not increment contv.\n",
    "# Cases 2 and 3: Prize is not at the chosen door and exchange always wins: \n",
    "# 2 doors.    \n",
    "    if (price != choice):    \n",
    "        contv = contv + 1  \n",
    "\n",
    "# Printing number of wins and losses\n",
    "print('Victories: ' + str(contv))\n",
    "print('Losses: ' + str(n-contv))"
   ]
  },
  {
   "cell_type": "markdown",
   "metadata": {},
   "source": [
    "### Conclusion"
   ]
  },
  {
   "cell_type": "markdown",
   "metadata": {},
   "source": [
    "Strategic dominance is \"pick a door, then switch\". Under the standard assumptions, contestants who switch have a 2/3 chance of winning the car, while contestants who stick to their initial choice have only a 1/3 chance."
   ]
  }
 ],
 "metadata": {
  "kernelspec": {
   "display_name": "Python 3",
   "language": "python",
   "name": "python3"
  },
  "language_info": {
   "codemirror_mode": {
    "name": "ipython",
    "version": 3
   },
   "file_extension": ".py",
   "mimetype": "text/x-python",
   "name": "python",
   "nbconvert_exporter": "python",
   "pygments_lexer": "ipython3",
   "version": "3.8.5"
  }
 },
 "nbformat": 4,
 "nbformat_minor": 4
}
