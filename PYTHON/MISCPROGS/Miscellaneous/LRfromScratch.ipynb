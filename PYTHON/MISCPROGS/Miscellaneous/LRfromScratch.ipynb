{
 "cells": [
  {
   "cell_type": "markdown",
   "metadata": {},
   "source": [
    "# Linear Regression From Scratch"
   ]
  },
  {
   "cell_type": "code",
   "execution_count": 1,
   "metadata": {},
   "outputs": [],
   "source": [
    "# libraries\n",
    "\n",
    "import numpy as np\n",
    "import math"
   ]
  },
  {
   "cell_type": "markdown",
   "metadata": {},
   "source": [
    "Parameters for the straight line:\n",
    "\n",
    "$$ Y = a + b*X $$"
   ]
  },
  {
   "cell_type": "code",
   "execution_count": 2,
   "metadata": {},
   "outputs": [
    {
     "name": "stdout",
     "output_type": "stream",
     "text": [
      "[1 2 1 4 3]\n",
      "[3 4 2 7 5]\n",
      "5\n"
     ]
    }
   ],
   "source": [
    "x_array = np.array([1,2,1,4,3])    #vector X\n",
    "y_array = np.array([3,4,2,7,5])    #vector Y\n",
    "n = x_array.size                   #number of elements in the matrix\n",
    "print(x_array)\n",
    "print(y_array)\n",
    "print(n)"
   ]
  },
  {
   "cell_type": "code",
   "execution_count": 3,
   "metadata": {},
   "outputs": [
    {
     "name": "stdout",
     "output_type": "stream",
     "text": [
      "[ 3  8  2 28 15]\n",
      "[ 1  4  1 16  9]\n",
      "[ 9 16  4 49 25]\n"
     ]
    }
   ],
   "source": [
    "xy_array = x_array * y_array    #vector XY\n",
    "x2_array = x_array ** 2         #vector X^2\n",
    "y2_array = y_array ** 2         #vector Y^2\n",
    "print(xy_array)\n",
    "print(x2_array)\n",
    "print(y2_array)"
   ]
  },
  {
   "cell_type": "code",
   "execution_count": 4,
   "metadata": {},
   "outputs": [
    {
     "name": "stdout",
     "output_type": "stream",
     "text": [
      "11 21 56 31\n"
     ]
    }
   ],
   "source": [
    "sx = sum(x_array)      #sum of elements of vector X\n",
    "sy = sum(y_array)      #sum of elements of vector Y\n",
    "sxy = sum(xy_array)    #sum of elements of vector XY\n",
    "sx2 = sum(x2_array)    #sum of elements of vector X^2\n",
    "sy2 = sum(y2_array)    #sum of elements of vector Y^2\n",
    "print(sx, sy, sxy, sx2)"
   ]
  },
  {
   "cell_type": "markdown",
   "metadata": {},
   "source": [
    "Parameters for the straight line:\n",
    "\n",
    "$$ a = \\frac{(\\sum y)*(\\sum x^2) - (\\sum x)*(\\sum x*y)}{n*(\\sum x^2) - (\\sum x)^2} $$\n",
    "<br><br>\n",
    "$$ b = \\frac{n*(\\sum x*y) - (\\sum x)*(\\sum y)}{n*(\\sum x^2) - (\\sum x)^2} $$"
   ]
  },
  {
   "cell_type": "code",
   "execution_count": 5,
   "metadata": {},
   "outputs": [
    {
     "name": "stdout",
     "output_type": "stream",
     "text": [
      "a = 1.0294117647058822\n",
      "b = 1.4411764705882353\n"
     ]
    }
   ],
   "source": [
    "a = (sy*sx2 - sx*sxy)/(n*sx2 - sx**2)\n",
    "print(\"a =\", a)\n",
    "\n",
    "b = (n*sxy - sx*sy)/(n*sx2 - sx**2)\n",
    "print(\"b =\", b)"
   ]
  },
  {
   "cell_type": "markdown",
   "metadata": {},
   "source": [
    "Pearson correlation coefficient:\n",
    "\n",
    "$$ r_{xy} = \\frac{n*(\\sum x*y) - (\\sum x)*(\\sum y)}{\\sqrt{n*(\\sum x^2) - (\\sum x)^2}*\\sqrt{n*(\\sum y^2) - (\\sum y)^2}} $$"
   ]
  },
  {
   "cell_type": "code",
   "execution_count": 6,
   "metadata": {},
   "outputs": [
    {
     "name": "stdout",
     "output_type": "stream",
     "text": [
      "r = 0.9768789729654024\n",
      "r^2 = 0.9542925278219394\n"
     ]
    }
   ],
   "source": [
    "r = (n*sxy - sx*sy)/(math.sqrt(n*sx2 - sx**2)*math.sqrt(n*sy2 - sy**2))\n",
    "print(\"r =\", r)\n",
    "\n",
    "r2 = r**2\n",
    "print(\"r^2 =\", r2)"
   ]
  },
  {
   "cell_type": "code",
   "execution_count": 7,
   "metadata": {},
   "outputs": [
    {
     "name": "stdout",
     "output_type": "stream",
     "text": [
      "The variable X explains 95.43 % of the variation in Y.\n"
     ]
    }
   ],
   "source": [
    "r2t = r2*100\n",
    "\n",
    "print(\"The variable X explains\",round(r2t,2),\"% of the variation in Y.\")"
   ]
  }
 ],
 "metadata": {
  "kernelspec": {
   "display_name": "Python 3",
   "language": "python",
   "name": "python3"
  },
  "language_info": {
   "codemirror_mode": {
    "name": "ipython",
    "version": 3
   },
   "file_extension": ".py",
   "mimetype": "text/x-python",
   "name": "python",
   "nbconvert_exporter": "python",
   "pygments_lexer": "ipython3",
   "version": "3.7.1"
  }
 },
 "nbformat": 4,
 "nbformat_minor": 4
}
