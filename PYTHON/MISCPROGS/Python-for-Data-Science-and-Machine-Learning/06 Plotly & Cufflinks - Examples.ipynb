{
 "cells": [
  {
   "cell_type": "markdown",
   "metadata": {},
   "source": [
    "<img src=\"images/plotly.png\"/>"
   ]
  },
  {
   "cell_type": "markdown",
   "metadata": {},
   "source": [
    "# Plotly and Cufflinks"
   ]
  },
  {
   "cell_type": "markdown",
   "metadata": {},
   "source": [
    "Plotly is a library that allows you to create interactive plots that you can use in dashboards or websites (you can save them as html files or static images).\n",
    "\n",
    "## Installation\n",
    "\n",
    "In order for this all to work, you'll need to install plotly and cufflinks to call plots directly off of a pandas dataframe. These libraries are not currently available through **conda** but are available through **pip**. Install the libraries at your command line/terminal using:\n",
    "\n",
    "    pip install plotly\n",
    "    pip install cufflinks\n",
    "\n",
    "**NOTE: Make sure you only have one installation of Python on your computer when you do this, otherwise the installation may not work.**\n",
    "\n",
    "## Imports and Set-up"
   ]
  },
  {
   "cell_type": "code",
   "execution_count": 1,
   "metadata": {},
   "outputs": [],
   "source": [
    "import pandas as pd\n",
    "import numpy as np\n",
    "%matplotlib inline"
   ]
  },
  {
   "cell_type": "code",
   "execution_count": 2,
   "metadata": {},
   "outputs": [
    {
     "name": "stdout",
     "output_type": "stream",
     "text": [
      "4.14.1\n"
     ]
    }
   ],
   "source": [
    "from plotly import __version__\n",
    "from plotly.offline import download_plotlyjs, init_notebook_mode, plot, iplot\n",
    "\n",
    "print(__version__) # requires version >= 1.9.0"
   ]
  },
  {
   "cell_type": "code",
   "execution_count": 3,
   "metadata": {},
   "outputs": [],
   "source": [
    "import cufflinks as cf"
   ]
  },
  {
   "cell_type": "code",
   "execution_count": 4,
   "metadata": {},
   "outputs": [
    {
     "data": {
      "text/html": [
       "        <script type=\"text/javascript\">\n",
       "        window.PlotlyConfig = {MathJaxConfig: 'local'};\n",
       "        if (window.MathJax) {MathJax.Hub.Config({SVG: {font: \"STIX-Web\"}});}\n",
       "        if (typeof require !== 'undefined') {\n",
       "        require.undef(\"plotly\");\n",
       "        requirejs.config({\n",
       "            paths: {\n",
       "                'plotly': ['https://cdn.plot.ly/plotly-latest.min']\n",
       "            }\n",
       "        });\n",
       "        require(['plotly'], function(Plotly) {\n",
       "            window._Plotly = Plotly;\n",
       "        });\n",
       "        }\n",
       "        </script>\n",
       "        "
      ]
     },
     "metadata": {},
     "output_type": "display_data"
    }
   ],
   "source": [
    "# For Notebooks\n",
    "init_notebook_mode(connected=True)"
   ]
  },
  {
   "cell_type": "code",
   "execution_count": 5,
   "metadata": {},
   "outputs": [
    {
     "data": {
      "text/html": [
       "        <script type=\"text/javascript\">\n",
       "        window.PlotlyConfig = {MathJaxConfig: 'local'};\n",
       "        if (window.MathJax) {MathJax.Hub.Config({SVG: {font: \"STIX-Web\"}});}\n",
       "        if (typeof require !== 'undefined') {\n",
       "        require.undef(\"plotly\");\n",
       "        requirejs.config({\n",
       "            paths: {\n",
       "                'plotly': ['https://cdn.plot.ly/plotly-latest.min']\n",
       "            }\n",
       "        });\n",
       "        require(['plotly'], function(Plotly) {\n",
       "            window._Plotly = Plotly;\n",
       "        });\n",
       "        }\n",
       "        </script>\n",
       "        "
      ]
     },
     "metadata": {},
     "output_type": "display_data"
    }
   ],
   "source": [
    "# For offline use\n",
    "cf.go_offline()"
   ]
  },
  {
   "cell_type": "markdown",
   "metadata": {},
   "source": [
    "### Fake Data"
   ]
  },
  {
   "cell_type": "code",
   "execution_count": 6,
   "metadata": {},
   "outputs": [],
   "source": [
    "df = pd.DataFrame(np.random.randn(100,4),columns='A B C D'.split())"
   ]
  },
  {
   "cell_type": "code",
   "execution_count": 7,
   "metadata": {},
   "outputs": [
    {
     "data": {
      "text/html": [
       "<div>\n",
       "<style scoped>\n",
       "    .dataframe tbody tr th:only-of-type {\n",
       "        vertical-align: middle;\n",
       "    }\n",
       "\n",
       "    .dataframe tbody tr th {\n",
       "        vertical-align: top;\n",
       "    }\n",
       "\n",
       "    .dataframe thead th {\n",
       "        text-align: right;\n",
       "    }\n",
       "</style>\n",
       "<table border=\"1\" class=\"dataframe\">\n",
       "  <thead>\n",
       "    <tr style=\"text-align: right;\">\n",
       "      <th></th>\n",
       "      <th>A</th>\n",
       "      <th>B</th>\n",
       "      <th>C</th>\n",
       "      <th>D</th>\n",
       "    </tr>\n",
       "  </thead>\n",
       "  <tbody>\n",
       "    <tr>\n",
       "      <th>0</th>\n",
       "      <td>-0.695567</td>\n",
       "      <td>-0.711571</td>\n",
       "      <td>-1.623804</td>\n",
       "      <td>0.533264</td>\n",
       "    </tr>\n",
       "    <tr>\n",
       "      <th>1</th>\n",
       "      <td>0.709603</td>\n",
       "      <td>0.203678</td>\n",
       "      <td>0.675739</td>\n",
       "      <td>-0.174486</td>\n",
       "    </tr>\n",
       "    <tr>\n",
       "      <th>2</th>\n",
       "      <td>-0.463911</td>\n",
       "      <td>0.613458</td>\n",
       "      <td>0.976073</td>\n",
       "      <td>1.070219</td>\n",
       "    </tr>\n",
       "    <tr>\n",
       "      <th>3</th>\n",
       "      <td>0.610941</td>\n",
       "      <td>-0.365701</td>\n",
       "      <td>0.862056</td>\n",
       "      <td>-0.823946</td>\n",
       "    </tr>\n",
       "    <tr>\n",
       "      <th>4</th>\n",
       "      <td>-0.536681</td>\n",
       "      <td>-0.715914</td>\n",
       "      <td>-0.404540</td>\n",
       "      <td>-0.192777</td>\n",
       "    </tr>\n",
       "  </tbody>\n",
       "</table>\n",
       "</div>"
      ],
      "text/plain": [
       "          A         B         C         D\n",
       "0 -0.695567 -0.711571 -1.623804  0.533264\n",
       "1  0.709603  0.203678  0.675739 -0.174486\n",
       "2 -0.463911  0.613458  0.976073  1.070219\n",
       "3  0.610941 -0.365701  0.862056 -0.823946\n",
       "4 -0.536681 -0.715914 -0.404540 -0.192777"
      ]
     },
     "execution_count": 7,
     "metadata": {},
     "output_type": "execute_result"
    }
   ],
   "source": [
    "df.head()"
   ]
  },
  {
   "cell_type": "code",
   "execution_count": 8,
   "metadata": {},
   "outputs": [],
   "source": [
    "df2 = pd.DataFrame({'Category':['A','B','C'],'Values':[32,43,50]})"
   ]
  },
  {
   "cell_type": "code",
   "execution_count": 9,
   "metadata": {},
   "outputs": [
    {
     "data": {
      "text/html": [
       "<div>\n",
       "<style scoped>\n",
       "    .dataframe tbody tr th:only-of-type {\n",
       "        vertical-align: middle;\n",
       "    }\n",
       "\n",
       "    .dataframe tbody tr th {\n",
       "        vertical-align: top;\n",
       "    }\n",
       "\n",
       "    .dataframe thead th {\n",
       "        text-align: right;\n",
       "    }\n",
       "</style>\n",
       "<table border=\"1\" class=\"dataframe\">\n",
       "  <thead>\n",
       "    <tr style=\"text-align: right;\">\n",
       "      <th></th>\n",
       "      <th>Category</th>\n",
       "      <th>Values</th>\n",
       "    </tr>\n",
       "  </thead>\n",
       "  <tbody>\n",
       "    <tr>\n",
       "      <th>0</th>\n",
       "      <td>A</td>\n",
       "      <td>32</td>\n",
       "    </tr>\n",
       "    <tr>\n",
       "      <th>1</th>\n",
       "      <td>B</td>\n",
       "      <td>43</td>\n",
       "    </tr>\n",
       "    <tr>\n",
       "      <th>2</th>\n",
       "      <td>C</td>\n",
       "      <td>50</td>\n",
       "    </tr>\n",
       "  </tbody>\n",
       "</table>\n",
       "</div>"
      ],
      "text/plain": [
       "  Category  Values\n",
       "0        A      32\n",
       "1        B      43\n",
       "2        C      50"
      ]
     },
     "execution_count": 9,
     "metadata": {},
     "output_type": "execute_result"
    }
   ],
   "source": [
    "df2.head()"
   ]
  },
  {
   "cell_type": "markdown",
   "metadata": {},
   "source": [
    "## Using Cufflinks and iplot()\n",
    "\n",
    "* scatter\n",
    "* bar\n",
    "* box\n",
    "* spread\n",
    "* ratio\n",
    "* heatmap\n",
    "* surface\n",
    "* histogram\n",
    "* bubble"
   ]
  },
  {
   "cell_type": "markdown",
   "metadata": {},
   "source": [
    "## Scatter"
   ]
  },
  {
   "cell_type": "code",
   "execution_count": 10,
   "metadata": {},
   "outputs": [
    {
     "data": {
      "application/vnd.plotly.v1+json": {
       "config": {
        "linkText": "Export to plot.ly",
        "plotlyServerURL": "https://plot.ly",
        "showLink": true
       },
       "data": [
        {
         "line": {
          "color": "rgba(255, 153, 51, 1.0)",
          "dash": "solid",
          "shape": "linear",
          "width": 1.3
         },
         "marker": {
          "size": 10,
          "symbol": "circle"
         },
         "mode": "markers",
         "name": "B",
         "text": "",
         "type": "scatter",
         "x": [
          -0.6955674278003409,
          0.709603311671074,
          -0.4639112475880794,
          0.6109406141883472,
          -0.5366807345866035,
          0.7910773377517595,
          -0.11947942636690821,
          -0.47349701720928045,
          0.4379025626920702,
          -0.7162694038809432,
          -0.7399661011767127,
          0.17186950411304497,
          -1.1302051947786431,
          -0.9448681293583892,
          0.6946221543285171,
          -0.12813558114594467,
          0.24714774336127074,
          -1.401696050877737,
          0.2658142400997529,
          1.1587947957112168,
          0.966918511877791,
          -0.7927216095782581,
          0.06753132960304364,
          -0.9947952723901883,
          0.1520156296155712,
          0.02904167623115189,
          0.5559274232627266,
          -1.6466726734025219,
          -1.1473494682674321,
          -1.300233840798571,
          -0.9329887699147729,
          0.8342953223377536,
          -0.7998016531956084,
          0.7303669267789196,
          1.0166451335363904,
          0.345687476091971,
          0.9970011314070286,
          0.09163957069787133,
          -0.9827263875741888,
          2.046107251601977,
          -0.9087542910432793,
          1.178729950658305,
          -2.6855798912420097,
          -0.039017895423392124,
          0.7719369300095611,
          -0.4831134080474078,
          -0.7255292888680582,
          0.5881142253701253,
          -0.6361240283966371,
          2.415709480942409,
          -0.5995822445536416,
          -0.2053208344706357,
          0.5614526534984946,
          -0.5269882532809637,
          -0.8431434637055175,
          0.5192973390474064,
          -0.552047204906587,
          0.32936941597121155,
          -1.8758010295874192,
          -2.3502496170590246,
          0.048974160043405456,
          -1.0570986004732563,
          -1.571501953022733,
          0.8895704580584978,
          -0.7613651522874072,
          -0.3796361762246006,
          0.2256162238881583,
          1.1124231723885278,
          -0.02020697294077586,
          -0.15171179754105252,
          0.8470805537985738,
          -1.7336252512643053,
          -0.04782149486562937,
          0.19254693779206455,
          0.23157418873759167,
          0.5178468554423196,
          -0.3914330320089398,
          0.19396591446211114,
          -0.028819443653141583,
          2.097703142578914,
          0.7380179176926842,
          -0.4801374333012573,
          -1.4125156131663692,
          -0.07460973403830272,
          -0.28773407861577427,
          -0.09295631191568235,
          0.7522891655138189,
          -1.5297240137040118,
          1.1384751363045376,
          1.3091217346992188,
          0.8879746080979246,
          0.4720820662595549,
          -0.5018250230207556,
          -1.2398951096581001,
          0.32913838199510387,
          0.8707335589794765,
          -0.1421942077971298,
          -0.7796115208498818,
          -0.13029165791235717,
          0.03648733730706007
         ],
         "y": [
          -0.7115712083518633,
          0.20367831749698934,
          0.6134576546805096,
          -0.36570067643631643,
          -0.7159140308166888,
          -0.9239386716004879,
          2.5930230737700555,
          0.4147527987618448,
          -0.22996385762564714,
          0.5624676614965411,
          -1.5475325608234494,
          -0.6259507711406066,
          0.3056636097323393,
          0.20211511312646258,
          0.10374629106262659,
          1.814642590027516,
          -0.9618251387755197,
          2.148194545714763,
          0.9418063372995279,
          -1.756893092290613,
          -0.6451514937773778,
          -0.13200770808476447,
          0.872337004831524,
          2.3229673950851923,
          -0.4706761210576756,
          0.5164410724972459,
          -0.48565279600255373,
          -1.2521645968922077,
          0.190667708166508,
          -1.71765646431304,
          1.527954065750762,
          0.37401203490486645,
          -0.9774218888534799,
          0.7109426456154209,
          -0.6026932312876238,
          0.5456845135286027,
          0.6371851776297126,
          1.0541028159046348,
          -0.8355387155807726,
          1.0141605310042423,
          -0.32801098196297007,
          1.046053681722419,
          -0.6770303842667683,
          0.428153097306062,
          0.9140719808484178,
          0.8309841468257837,
          0.022583141337870448,
          -0.6262397051187514,
          -1.6071190249191691,
          -0.1989055676546752,
          0.5330744191733329,
          1.0761993457881287,
          1.8121764700303273,
          -1.2688836897989333,
          -1.7647514937908018,
          -2.482464341193299,
          -0.6078532786143386,
          0.010679248589527316,
          2.183394229236031,
          1.60963687506475,
          -1.0210660043618693,
          2.508243729834317,
          -0.23333220546062955,
          1.4028553391308474,
          -0.39244294429217097,
          -0.09295080049327233,
          1.1103292193372296,
          1.1949982096141774,
          -0.2989744322934105,
          0.8871375559852462,
          -1.368327962932662,
          0.20209814397912979,
          0.40926606668519244,
          -0.9215941758887686,
          0.9351089487739781,
          -0.24065253160275235,
          -0.11345971025377141,
          0.24372600294771427,
          0.455002801545644,
          0.1972947992569593,
          0.9717385724212538,
          -2.6044890057609646,
          -1.8119523545271286,
          0.9456288963313946,
          0.13644379478974555,
          -0.17657547306635485,
          -0.6080471675815619,
          0.6910563876875375,
          -0.1889085678147469,
          0.5062020601577284,
          -3.4814412422787626,
          -0.1844947741671853,
          2.43070381381801,
          0.8253619914959017,
          0.06003229469139,
          0.35353678611411077,
          -0.9648741956228961,
          -1.4325317580760464,
          -1.1132449693847992,
          -1.5049978733911864
         ]
        }
       ],
       "layout": {
        "legend": {
         "bgcolor": "#F5F6F9",
         "font": {
          "color": "#4D5663"
         }
        },
        "paper_bgcolor": "#F5F6F9",
        "plot_bgcolor": "#F5F6F9",
        "template": {
         "data": {
          "bar": [
           {
            "error_x": {
             "color": "#2a3f5f"
            },
            "error_y": {
             "color": "#2a3f5f"
            },
            "marker": {
             "line": {
              "color": "#E5ECF6",
              "width": 0.5
             }
            },
            "type": "bar"
           }
          ],
          "barpolar": [
           {
            "marker": {
             "line": {
              "color": "#E5ECF6",
              "width": 0.5
             }
            },
            "type": "barpolar"
           }
          ],
          "carpet": [
           {
            "aaxis": {
             "endlinecolor": "#2a3f5f",
             "gridcolor": "white",
             "linecolor": "white",
             "minorgridcolor": "white",
             "startlinecolor": "#2a3f5f"
            },
            "baxis": {
             "endlinecolor": "#2a3f5f",
             "gridcolor": "white",
             "linecolor": "white",
             "minorgridcolor": "white",
             "startlinecolor": "#2a3f5f"
            },
            "type": "carpet"
           }
          ],
          "choropleth": [
           {
            "colorbar": {
             "outlinewidth": 0,
             "ticks": ""
            },
            "type": "choropleth"
           }
          ],
          "contour": [
           {
            "colorbar": {
             "outlinewidth": 0,
             "ticks": ""
            },
            "colorscale": [
             [
              0,
              "#0d0887"
             ],
             [
              0.1111111111111111,
              "#46039f"
             ],
             [
              0.2222222222222222,
              "#7201a8"
             ],
             [
              0.3333333333333333,
              "#9c179e"
             ],
             [
              0.4444444444444444,
              "#bd3786"
             ],
             [
              0.5555555555555556,
              "#d8576b"
             ],
             [
              0.6666666666666666,
              "#ed7953"
             ],
             [
              0.7777777777777778,
              "#fb9f3a"
             ],
             [
              0.8888888888888888,
              "#fdca26"
             ],
             [
              1,
              "#f0f921"
             ]
            ],
            "type": "contour"
           }
          ],
          "contourcarpet": [
           {
            "colorbar": {
             "outlinewidth": 0,
             "ticks": ""
            },
            "type": "contourcarpet"
           }
          ],
          "heatmap": [
           {
            "colorbar": {
             "outlinewidth": 0,
             "ticks": ""
            },
            "colorscale": [
             [
              0,
              "#0d0887"
             ],
             [
              0.1111111111111111,
              "#46039f"
             ],
             [
              0.2222222222222222,
              "#7201a8"
             ],
             [
              0.3333333333333333,
              "#9c179e"
             ],
             [
              0.4444444444444444,
              "#bd3786"
             ],
             [
              0.5555555555555556,
              "#d8576b"
             ],
             [
              0.6666666666666666,
              "#ed7953"
             ],
             [
              0.7777777777777778,
              "#fb9f3a"
             ],
             [
              0.8888888888888888,
              "#fdca26"
             ],
             [
              1,
              "#f0f921"
             ]
            ],
            "type": "heatmap"
           }
          ],
          "heatmapgl": [
           {
            "colorbar": {
             "outlinewidth": 0,
             "ticks": ""
            },
            "colorscale": [
             [
              0,
              "#0d0887"
             ],
             [
              0.1111111111111111,
              "#46039f"
             ],
             [
              0.2222222222222222,
              "#7201a8"
             ],
             [
              0.3333333333333333,
              "#9c179e"
             ],
             [
              0.4444444444444444,
              "#bd3786"
             ],
             [
              0.5555555555555556,
              "#d8576b"
             ],
             [
              0.6666666666666666,
              "#ed7953"
             ],
             [
              0.7777777777777778,
              "#fb9f3a"
             ],
             [
              0.8888888888888888,
              "#fdca26"
             ],
             [
              1,
              "#f0f921"
             ]
            ],
            "type": "heatmapgl"
           }
          ],
          "histogram": [
           {
            "marker": {
             "colorbar": {
              "outlinewidth": 0,
              "ticks": ""
             }
            },
            "type": "histogram"
           }
          ],
          "histogram2d": [
           {
            "colorbar": {
             "outlinewidth": 0,
             "ticks": ""
            },
            "colorscale": [
             [
              0,
              "#0d0887"
             ],
             [
              0.1111111111111111,
              "#46039f"
             ],
             [
              0.2222222222222222,
              "#7201a8"
             ],
             [
              0.3333333333333333,
              "#9c179e"
             ],
             [
              0.4444444444444444,
              "#bd3786"
             ],
             [
              0.5555555555555556,
              "#d8576b"
             ],
             [
              0.6666666666666666,
              "#ed7953"
             ],
             [
              0.7777777777777778,
              "#fb9f3a"
             ],
             [
              0.8888888888888888,
              "#fdca26"
             ],
             [
              1,
              "#f0f921"
             ]
            ],
            "type": "histogram2d"
           }
          ],
          "histogram2dcontour": [
           {
            "colorbar": {
             "outlinewidth": 0,
             "ticks": ""
            },
            "colorscale": [
             [
              0,
              "#0d0887"
             ],
             [
              0.1111111111111111,
              "#46039f"
             ],
             [
              0.2222222222222222,
              "#7201a8"
             ],
             [
              0.3333333333333333,
              "#9c179e"
             ],
             [
              0.4444444444444444,
              "#bd3786"
             ],
             [
              0.5555555555555556,
              "#d8576b"
             ],
             [
              0.6666666666666666,
              "#ed7953"
             ],
             [
              0.7777777777777778,
              "#fb9f3a"
             ],
             [
              0.8888888888888888,
              "#fdca26"
             ],
             [
              1,
              "#f0f921"
             ]
            ],
            "type": "histogram2dcontour"
           }
          ],
          "mesh3d": [
           {
            "colorbar": {
             "outlinewidth": 0,
             "ticks": ""
            },
            "type": "mesh3d"
           }
          ],
          "parcoords": [
           {
            "line": {
             "colorbar": {
              "outlinewidth": 0,
              "ticks": ""
             }
            },
            "type": "parcoords"
           }
          ],
          "pie": [
           {
            "automargin": true,
            "type": "pie"
           }
          ],
          "scatter": [
           {
            "marker": {
             "colorbar": {
              "outlinewidth": 0,
              "ticks": ""
             }
            },
            "type": "scatter"
           }
          ],
          "scatter3d": [
           {
            "line": {
             "colorbar": {
              "outlinewidth": 0,
              "ticks": ""
             }
            },
            "marker": {
             "colorbar": {
              "outlinewidth": 0,
              "ticks": ""
             }
            },
            "type": "scatter3d"
           }
          ],
          "scattercarpet": [
           {
            "marker": {
             "colorbar": {
              "outlinewidth": 0,
              "ticks": ""
             }
            },
            "type": "scattercarpet"
           }
          ],
          "scattergeo": [
           {
            "marker": {
             "colorbar": {
              "outlinewidth": 0,
              "ticks": ""
             }
            },
            "type": "scattergeo"
           }
          ],
          "scattergl": [
           {
            "marker": {
             "colorbar": {
              "outlinewidth": 0,
              "ticks": ""
             }
            },
            "type": "scattergl"
           }
          ],
          "scattermapbox": [
           {
            "marker": {
             "colorbar": {
              "outlinewidth": 0,
              "ticks": ""
             }
            },
            "type": "scattermapbox"
           }
          ],
          "scatterpolar": [
           {
            "marker": {
             "colorbar": {
              "outlinewidth": 0,
              "ticks": ""
             }
            },
            "type": "scatterpolar"
           }
          ],
          "scatterpolargl": [
           {
            "marker": {
             "colorbar": {
              "outlinewidth": 0,
              "ticks": ""
             }
            },
            "type": "scatterpolargl"
           }
          ],
          "scatterternary": [
           {
            "marker": {
             "colorbar": {
              "outlinewidth": 0,
              "ticks": ""
             }
            },
            "type": "scatterternary"
           }
          ],
          "surface": [
           {
            "colorbar": {
             "outlinewidth": 0,
             "ticks": ""
            },
            "colorscale": [
             [
              0,
              "#0d0887"
             ],
             [
              0.1111111111111111,
              "#46039f"
             ],
             [
              0.2222222222222222,
              "#7201a8"
             ],
             [
              0.3333333333333333,
              "#9c179e"
             ],
             [
              0.4444444444444444,
              "#bd3786"
             ],
             [
              0.5555555555555556,
              "#d8576b"
             ],
             [
              0.6666666666666666,
              "#ed7953"
             ],
             [
              0.7777777777777778,
              "#fb9f3a"
             ],
             [
              0.8888888888888888,
              "#fdca26"
             ],
             [
              1,
              "#f0f921"
             ]
            ],
            "type": "surface"
           }
          ],
          "table": [
           {
            "cells": {
             "fill": {
              "color": "#EBF0F8"
             },
             "line": {
              "color": "white"
             }
            },
            "header": {
             "fill": {
              "color": "#C8D4E3"
             },
             "line": {
              "color": "white"
             }
            },
            "type": "table"
           }
          ]
         },
         "layout": {
          "annotationdefaults": {
           "arrowcolor": "#2a3f5f",
           "arrowhead": 0,
           "arrowwidth": 1
          },
          "autotypenumbers": "strict",
          "coloraxis": {
           "colorbar": {
            "outlinewidth": 0,
            "ticks": ""
           }
          },
          "colorscale": {
           "diverging": [
            [
             0,
             "#8e0152"
            ],
            [
             0.1,
             "#c51b7d"
            ],
            [
             0.2,
             "#de77ae"
            ],
            [
             0.3,
             "#f1b6da"
            ],
            [
             0.4,
             "#fde0ef"
            ],
            [
             0.5,
             "#f7f7f7"
            ],
            [
             0.6,
             "#e6f5d0"
            ],
            [
             0.7,
             "#b8e186"
            ],
            [
             0.8,
             "#7fbc41"
            ],
            [
             0.9,
             "#4d9221"
            ],
            [
             1,
             "#276419"
            ]
           ],
           "sequential": [
            [
             0,
             "#0d0887"
            ],
            [
             0.1111111111111111,
             "#46039f"
            ],
            [
             0.2222222222222222,
             "#7201a8"
            ],
            [
             0.3333333333333333,
             "#9c179e"
            ],
            [
             0.4444444444444444,
             "#bd3786"
            ],
            [
             0.5555555555555556,
             "#d8576b"
            ],
            [
             0.6666666666666666,
             "#ed7953"
            ],
            [
             0.7777777777777778,
             "#fb9f3a"
            ],
            [
             0.8888888888888888,
             "#fdca26"
            ],
            [
             1,
             "#f0f921"
            ]
           ],
           "sequentialminus": [
            [
             0,
             "#0d0887"
            ],
            [
             0.1111111111111111,
             "#46039f"
            ],
            [
             0.2222222222222222,
             "#7201a8"
            ],
            [
             0.3333333333333333,
             "#9c179e"
            ],
            [
             0.4444444444444444,
             "#bd3786"
            ],
            [
             0.5555555555555556,
             "#d8576b"
            ],
            [
             0.6666666666666666,
             "#ed7953"
            ],
            [
             0.7777777777777778,
             "#fb9f3a"
            ],
            [
             0.8888888888888888,
             "#fdca26"
            ],
            [
             1,
             "#f0f921"
            ]
           ]
          },
          "colorway": [
           "#636efa",
           "#EF553B",
           "#00cc96",
           "#ab63fa",
           "#FFA15A",
           "#19d3f3",
           "#FF6692",
           "#B6E880",
           "#FF97FF",
           "#FECB52"
          ],
          "font": {
           "color": "#2a3f5f"
          },
          "geo": {
           "bgcolor": "white",
           "lakecolor": "white",
           "landcolor": "#E5ECF6",
           "showlakes": true,
           "showland": true,
           "subunitcolor": "white"
          },
          "hoverlabel": {
           "align": "left"
          },
          "hovermode": "closest",
          "mapbox": {
           "style": "light"
          },
          "paper_bgcolor": "white",
          "plot_bgcolor": "#E5ECF6",
          "polar": {
           "angularaxis": {
            "gridcolor": "white",
            "linecolor": "white",
            "ticks": ""
           },
           "bgcolor": "#E5ECF6",
           "radialaxis": {
            "gridcolor": "white",
            "linecolor": "white",
            "ticks": ""
           }
          },
          "scene": {
           "xaxis": {
            "backgroundcolor": "#E5ECF6",
            "gridcolor": "white",
            "gridwidth": 2,
            "linecolor": "white",
            "showbackground": true,
            "ticks": "",
            "zerolinecolor": "white"
           },
           "yaxis": {
            "backgroundcolor": "#E5ECF6",
            "gridcolor": "white",
            "gridwidth": 2,
            "linecolor": "white",
            "showbackground": true,
            "ticks": "",
            "zerolinecolor": "white"
           },
           "zaxis": {
            "backgroundcolor": "#E5ECF6",
            "gridcolor": "white",
            "gridwidth": 2,
            "linecolor": "white",
            "showbackground": true,
            "ticks": "",
            "zerolinecolor": "white"
           }
          },
          "shapedefaults": {
           "line": {
            "color": "#2a3f5f"
           }
          },
          "ternary": {
           "aaxis": {
            "gridcolor": "white",
            "linecolor": "white",
            "ticks": ""
           },
           "baxis": {
            "gridcolor": "white",
            "linecolor": "white",
            "ticks": ""
           },
           "bgcolor": "#E5ECF6",
           "caxis": {
            "gridcolor": "white",
            "linecolor": "white",
            "ticks": ""
           }
          },
          "title": {
           "x": 0.05
          },
          "xaxis": {
           "automargin": true,
           "gridcolor": "white",
           "linecolor": "white",
           "ticks": "",
           "title": {
            "standoff": 15
           },
           "zerolinecolor": "white",
           "zerolinewidth": 2
          },
          "yaxis": {
           "automargin": true,
           "gridcolor": "white",
           "linecolor": "white",
           "ticks": "",
           "title": {
            "standoff": 15
           },
           "zerolinecolor": "white",
           "zerolinewidth": 2
          }
         }
        },
        "title": {
         "font": {
          "color": "#4D5663"
         }
        },
        "xaxis": {
         "gridcolor": "#E1E5ED",
         "showgrid": true,
         "tickfont": {
          "color": "#4D5663"
         },
         "title": {
          "font": {
           "color": "#4D5663"
          },
          "text": ""
         },
         "zerolinecolor": "#E1E5ED"
        },
        "yaxis": {
         "gridcolor": "#E1E5ED",
         "showgrid": true,
         "tickfont": {
          "color": "#4D5663"
         },
         "title": {
          "font": {
           "color": "#4D5663"
          },
          "text": ""
         },
         "zerolinecolor": "#E1E5ED"
        }
       }
      },
      "text/html": [
       "<div>                            <div id=\"c9a20b01-be2e-4fe3-afdc-edd179537487\" class=\"plotly-graph-div\" style=\"height:525px; width:100%;\"></div>            <script type=\"text/javascript\">                require([\"plotly\"], function(Plotly) {                    window.PLOTLYENV=window.PLOTLYENV || {};\n",
       "                    window.PLOTLYENV.BASE_URL='https://plot.ly';                                    if (document.getElementById(\"c9a20b01-be2e-4fe3-afdc-edd179537487\")) {                    Plotly.newPlot(                        \"c9a20b01-be2e-4fe3-afdc-edd179537487\",                        [{\"line\": {\"color\": \"rgba(255, 153, 51, 1.0)\", \"dash\": \"solid\", \"shape\": \"linear\", \"width\": 1.3}, \"marker\": {\"size\": 10, \"symbol\": \"circle\"}, \"mode\": \"markers\", \"name\": \"B\", \"text\": \"\", \"type\": \"scatter\", \"x\": [-0.6955674278003409, 0.709603311671074, -0.4639112475880794, 0.6109406141883472, -0.5366807345866035, 0.7910773377517595, -0.11947942636690821, -0.47349701720928045, 0.4379025626920702, -0.7162694038809432, -0.7399661011767127, 0.17186950411304497, -1.1302051947786431, -0.9448681293583892, 0.6946221543285171, -0.12813558114594467, 0.24714774336127074, -1.401696050877737, 0.2658142400997529, 1.1587947957112168, 0.966918511877791, -0.7927216095782581, 0.06753132960304364, -0.9947952723901883, 0.1520156296155712, 0.02904167623115189, 0.5559274232627266, -1.6466726734025219, -1.1473494682674321, -1.300233840798571, -0.9329887699147729, 0.8342953223377536, -0.7998016531956084, 0.7303669267789196, 1.0166451335363904, 0.345687476091971, 0.9970011314070286, 0.09163957069787133, -0.9827263875741888, 2.046107251601977, -0.9087542910432793, 1.178729950658305, -2.6855798912420097, -0.039017895423392124, 0.7719369300095611, -0.4831134080474078, -0.7255292888680582, 0.5881142253701253, -0.6361240283966371, 2.415709480942409, -0.5995822445536416, -0.2053208344706357, 0.5614526534984946, -0.5269882532809637, -0.8431434637055175, 0.5192973390474064, -0.552047204906587, 0.32936941597121155, -1.8758010295874192, -2.3502496170590246, 0.048974160043405456, -1.0570986004732563, -1.571501953022733, 0.8895704580584978, -0.7613651522874072, -0.3796361762246006, 0.2256162238881583, 1.1124231723885278, -0.02020697294077586, -0.15171179754105252, 0.8470805537985738, -1.7336252512643053, -0.04782149486562937, 0.19254693779206455, 0.23157418873759167, 0.5178468554423196, -0.3914330320089398, 0.19396591446211114, -0.028819443653141583, 2.097703142578914, 0.7380179176926842, -0.4801374333012573, -1.4125156131663692, -0.07460973403830272, -0.28773407861577427, -0.09295631191568235, 0.7522891655138189, -1.5297240137040118, 1.1384751363045376, 1.3091217346992188, 0.8879746080979246, 0.4720820662595549, -0.5018250230207556, -1.2398951096581001, 0.32913838199510387, 0.8707335589794765, -0.1421942077971298, -0.7796115208498818, -0.13029165791235717, 0.03648733730706007], \"y\": [-0.7115712083518633, 0.20367831749698934, 0.6134576546805096, -0.36570067643631643, -0.7159140308166888, -0.9239386716004879, 2.5930230737700555, 0.4147527987618448, -0.22996385762564714, 0.5624676614965411, -1.5475325608234494, -0.6259507711406066, 0.3056636097323393, 0.20211511312646258, 0.10374629106262659, 1.814642590027516, -0.9618251387755197, 2.148194545714763, 0.9418063372995279, -1.756893092290613, -0.6451514937773778, -0.13200770808476447, 0.872337004831524, 2.3229673950851923, -0.4706761210576756, 0.5164410724972459, -0.48565279600255373, -1.2521645968922077, 0.190667708166508, -1.71765646431304, 1.527954065750762, 0.37401203490486645, -0.9774218888534799, 0.7109426456154209, -0.6026932312876238, 0.5456845135286027, 0.6371851776297126, 1.0541028159046348, -0.8355387155807726, 1.0141605310042423, -0.32801098196297007, 1.046053681722419, -0.6770303842667683, 0.428153097306062, 0.9140719808484178, 0.8309841468257837, 0.022583141337870448, -0.6262397051187514, -1.6071190249191691, -0.1989055676546752, 0.5330744191733329, 1.0761993457881287, 1.8121764700303273, -1.2688836897989333, -1.7647514937908018, -2.482464341193299, -0.6078532786143386, 0.010679248589527316, 2.183394229236031, 1.60963687506475, -1.0210660043618693, 2.508243729834317, -0.23333220546062955, 1.4028553391308474, -0.39244294429217097, -0.09295080049327233, 1.1103292193372296, 1.1949982096141774, -0.2989744322934105, 0.8871375559852462, -1.368327962932662, 0.20209814397912979, 0.40926606668519244, -0.9215941758887686, 0.9351089487739781, -0.24065253160275235, -0.11345971025377141, 0.24372600294771427, 0.455002801545644, 0.1972947992569593, 0.9717385724212538, -2.6044890057609646, -1.8119523545271286, 0.9456288963313946, 0.13644379478974555, -0.17657547306635485, -0.6080471675815619, 0.6910563876875375, -0.1889085678147469, 0.5062020601577284, -3.4814412422787626, -0.1844947741671853, 2.43070381381801, 0.8253619914959017, 0.06003229469139, 0.35353678611411077, -0.9648741956228961, -1.4325317580760464, -1.1132449693847992, -1.5049978733911864]}],                        {\"legend\": {\"bgcolor\": \"#F5F6F9\", \"font\": {\"color\": \"#4D5663\"}}, \"paper_bgcolor\": \"#F5F6F9\", \"plot_bgcolor\": \"#F5F6F9\", \"template\": {\"data\": {\"bar\": [{\"error_x\": {\"color\": \"#2a3f5f\"}, \"error_y\": {\"color\": \"#2a3f5f\"}, \"marker\": {\"line\": {\"color\": \"#E5ECF6\", \"width\": 0.5}}, \"type\": \"bar\"}], \"barpolar\": [{\"marker\": {\"line\": {\"color\": \"#E5ECF6\", \"width\": 0.5}}, \"type\": \"barpolar\"}], \"carpet\": [{\"aaxis\": {\"endlinecolor\": \"#2a3f5f\", \"gridcolor\": \"white\", \"linecolor\": \"white\", \"minorgridcolor\": \"white\", \"startlinecolor\": \"#2a3f5f\"}, \"baxis\": {\"endlinecolor\": \"#2a3f5f\", \"gridcolor\": \"white\", \"linecolor\": \"white\", \"minorgridcolor\": \"white\", \"startlinecolor\": \"#2a3f5f\"}, \"type\": \"carpet\"}], \"choropleth\": [{\"colorbar\": {\"outlinewidth\": 0, \"ticks\": \"\"}, \"type\": \"choropleth\"}], \"contour\": [{\"colorbar\": {\"outlinewidth\": 0, \"ticks\": \"\"}, \"colorscale\": [[0.0, \"#0d0887\"], [0.1111111111111111, \"#46039f\"], [0.2222222222222222, \"#7201a8\"], [0.3333333333333333, \"#9c179e\"], [0.4444444444444444, \"#bd3786\"], [0.5555555555555556, \"#d8576b\"], [0.6666666666666666, \"#ed7953\"], [0.7777777777777778, \"#fb9f3a\"], [0.8888888888888888, \"#fdca26\"], [1.0, \"#f0f921\"]], \"type\": \"contour\"}], \"contourcarpet\": [{\"colorbar\": {\"outlinewidth\": 0, \"ticks\": \"\"}, \"type\": \"contourcarpet\"}], \"heatmap\": [{\"colorbar\": {\"outlinewidth\": 0, \"ticks\": \"\"}, \"colorscale\": [[0.0, \"#0d0887\"], [0.1111111111111111, \"#46039f\"], [0.2222222222222222, \"#7201a8\"], [0.3333333333333333, \"#9c179e\"], [0.4444444444444444, \"#bd3786\"], [0.5555555555555556, \"#d8576b\"], [0.6666666666666666, \"#ed7953\"], [0.7777777777777778, \"#fb9f3a\"], [0.8888888888888888, \"#fdca26\"], [1.0, \"#f0f921\"]], \"type\": \"heatmap\"}], \"heatmapgl\": [{\"colorbar\": {\"outlinewidth\": 0, \"ticks\": \"\"}, \"colorscale\": [[0.0, \"#0d0887\"], [0.1111111111111111, \"#46039f\"], [0.2222222222222222, \"#7201a8\"], [0.3333333333333333, \"#9c179e\"], [0.4444444444444444, \"#bd3786\"], [0.5555555555555556, \"#d8576b\"], [0.6666666666666666, \"#ed7953\"], [0.7777777777777778, \"#fb9f3a\"], [0.8888888888888888, \"#fdca26\"], [1.0, \"#f0f921\"]], \"type\": \"heatmapgl\"}], \"histogram\": [{\"marker\": {\"colorbar\": {\"outlinewidth\": 0, \"ticks\": \"\"}}, \"type\": \"histogram\"}], \"histogram2d\": [{\"colorbar\": {\"outlinewidth\": 0, \"ticks\": \"\"}, \"colorscale\": [[0.0, \"#0d0887\"], [0.1111111111111111, \"#46039f\"], [0.2222222222222222, \"#7201a8\"], [0.3333333333333333, \"#9c179e\"], [0.4444444444444444, \"#bd3786\"], [0.5555555555555556, \"#d8576b\"], [0.6666666666666666, \"#ed7953\"], [0.7777777777777778, \"#fb9f3a\"], [0.8888888888888888, \"#fdca26\"], [1.0, \"#f0f921\"]], \"type\": \"histogram2d\"}], \"histogram2dcontour\": [{\"colorbar\": {\"outlinewidth\": 0, \"ticks\": \"\"}, \"colorscale\": [[0.0, \"#0d0887\"], [0.1111111111111111, \"#46039f\"], [0.2222222222222222, \"#7201a8\"], [0.3333333333333333, \"#9c179e\"], [0.4444444444444444, \"#bd3786\"], [0.5555555555555556, \"#d8576b\"], [0.6666666666666666, \"#ed7953\"], [0.7777777777777778, \"#fb9f3a\"], [0.8888888888888888, \"#fdca26\"], [1.0, \"#f0f921\"]], \"type\": \"histogram2dcontour\"}], \"mesh3d\": [{\"colorbar\": {\"outlinewidth\": 0, \"ticks\": \"\"}, \"type\": \"mesh3d\"}], \"parcoords\": [{\"line\": {\"colorbar\": {\"outlinewidth\": 0, \"ticks\": \"\"}}, \"type\": \"parcoords\"}], \"pie\": [{\"automargin\": true, \"type\": \"pie\"}], \"scatter\": [{\"marker\": {\"colorbar\": {\"outlinewidth\": 0, \"ticks\": \"\"}}, \"type\": \"scatter\"}], \"scatter3d\": [{\"line\": {\"colorbar\": {\"outlinewidth\": 0, \"ticks\": \"\"}}, \"marker\": {\"colorbar\": {\"outlinewidth\": 0, \"ticks\": \"\"}}, \"type\": \"scatter3d\"}], \"scattercarpet\": [{\"marker\": {\"colorbar\": {\"outlinewidth\": 0, \"ticks\": \"\"}}, \"type\": \"scattercarpet\"}], \"scattergeo\": [{\"marker\": {\"colorbar\": {\"outlinewidth\": 0, \"ticks\": \"\"}}, \"type\": \"scattergeo\"}], \"scattergl\": [{\"marker\": {\"colorbar\": {\"outlinewidth\": 0, \"ticks\": \"\"}}, \"type\": \"scattergl\"}], \"scattermapbox\": [{\"marker\": {\"colorbar\": {\"outlinewidth\": 0, \"ticks\": \"\"}}, \"type\": \"scattermapbox\"}], \"scatterpolar\": [{\"marker\": {\"colorbar\": {\"outlinewidth\": 0, \"ticks\": \"\"}}, \"type\": \"scatterpolar\"}], \"scatterpolargl\": [{\"marker\": {\"colorbar\": {\"outlinewidth\": 0, \"ticks\": \"\"}}, \"type\": \"scatterpolargl\"}], \"scatterternary\": [{\"marker\": {\"colorbar\": {\"outlinewidth\": 0, \"ticks\": \"\"}}, \"type\": \"scatterternary\"}], \"surface\": [{\"colorbar\": {\"outlinewidth\": 0, \"ticks\": \"\"}, \"colorscale\": [[0.0, \"#0d0887\"], [0.1111111111111111, \"#46039f\"], [0.2222222222222222, \"#7201a8\"], [0.3333333333333333, \"#9c179e\"], [0.4444444444444444, \"#bd3786\"], [0.5555555555555556, \"#d8576b\"], [0.6666666666666666, \"#ed7953\"], [0.7777777777777778, \"#fb9f3a\"], [0.8888888888888888, \"#fdca26\"], [1.0, \"#f0f921\"]], \"type\": \"surface\"}], \"table\": [{\"cells\": {\"fill\": {\"color\": \"#EBF0F8\"}, \"line\": {\"color\": \"white\"}}, \"header\": {\"fill\": {\"color\": \"#C8D4E3\"}, \"line\": {\"color\": \"white\"}}, \"type\": \"table\"}]}, \"layout\": {\"annotationdefaults\": {\"arrowcolor\": \"#2a3f5f\", \"arrowhead\": 0, \"arrowwidth\": 1}, \"autotypenumbers\": \"strict\", \"coloraxis\": {\"colorbar\": {\"outlinewidth\": 0, \"ticks\": \"\"}}, \"colorscale\": {\"diverging\": [[0, \"#8e0152\"], [0.1, \"#c51b7d\"], [0.2, \"#de77ae\"], [0.3, \"#f1b6da\"], [0.4, \"#fde0ef\"], [0.5, \"#f7f7f7\"], [0.6, \"#e6f5d0\"], [0.7, \"#b8e186\"], [0.8, \"#7fbc41\"], [0.9, \"#4d9221\"], [1, \"#276419\"]], \"sequential\": [[0.0, \"#0d0887\"], [0.1111111111111111, \"#46039f\"], [0.2222222222222222, \"#7201a8\"], [0.3333333333333333, \"#9c179e\"], [0.4444444444444444, \"#bd3786\"], [0.5555555555555556, \"#d8576b\"], [0.6666666666666666, \"#ed7953\"], [0.7777777777777778, \"#fb9f3a\"], [0.8888888888888888, \"#fdca26\"], [1.0, \"#f0f921\"]], \"sequentialminus\": [[0.0, \"#0d0887\"], [0.1111111111111111, \"#46039f\"], [0.2222222222222222, \"#7201a8\"], [0.3333333333333333, \"#9c179e\"], [0.4444444444444444, \"#bd3786\"], [0.5555555555555556, \"#d8576b\"], [0.6666666666666666, \"#ed7953\"], [0.7777777777777778, \"#fb9f3a\"], [0.8888888888888888, \"#fdca26\"], [1.0, \"#f0f921\"]]}, \"colorway\": [\"#636efa\", \"#EF553B\", \"#00cc96\", \"#ab63fa\", \"#FFA15A\", \"#19d3f3\", \"#FF6692\", \"#B6E880\", \"#FF97FF\", \"#FECB52\"], \"font\": {\"color\": \"#2a3f5f\"}, \"geo\": {\"bgcolor\": \"white\", \"lakecolor\": \"white\", \"landcolor\": \"#E5ECF6\", \"showlakes\": true, \"showland\": true, \"subunitcolor\": \"white\"}, \"hoverlabel\": {\"align\": \"left\"}, \"hovermode\": \"closest\", \"mapbox\": {\"style\": \"light\"}, \"paper_bgcolor\": \"white\", \"plot_bgcolor\": \"#E5ECF6\", \"polar\": {\"angularaxis\": {\"gridcolor\": \"white\", \"linecolor\": \"white\", \"ticks\": \"\"}, \"bgcolor\": \"#E5ECF6\", \"radialaxis\": {\"gridcolor\": \"white\", \"linecolor\": \"white\", \"ticks\": \"\"}}, \"scene\": {\"xaxis\": {\"backgroundcolor\": \"#E5ECF6\", \"gridcolor\": \"white\", \"gridwidth\": 2, \"linecolor\": \"white\", \"showbackground\": true, \"ticks\": \"\", \"zerolinecolor\": \"white\"}, \"yaxis\": {\"backgroundcolor\": \"#E5ECF6\", \"gridcolor\": \"white\", \"gridwidth\": 2, \"linecolor\": \"white\", \"showbackground\": true, \"ticks\": \"\", \"zerolinecolor\": \"white\"}, \"zaxis\": {\"backgroundcolor\": \"#E5ECF6\", \"gridcolor\": \"white\", \"gridwidth\": 2, \"linecolor\": \"white\", \"showbackground\": true, \"ticks\": \"\", \"zerolinecolor\": \"white\"}}, \"shapedefaults\": {\"line\": {\"color\": \"#2a3f5f\"}}, \"ternary\": {\"aaxis\": {\"gridcolor\": \"white\", \"linecolor\": \"white\", \"ticks\": \"\"}, \"baxis\": {\"gridcolor\": \"white\", \"linecolor\": \"white\", \"ticks\": \"\"}, \"bgcolor\": \"#E5ECF6\", \"caxis\": {\"gridcolor\": \"white\", \"linecolor\": \"white\", \"ticks\": \"\"}}, \"title\": {\"x\": 0.05}, \"xaxis\": {\"automargin\": true, \"gridcolor\": \"white\", \"linecolor\": \"white\", \"ticks\": \"\", \"title\": {\"standoff\": 15}, \"zerolinecolor\": \"white\", \"zerolinewidth\": 2}, \"yaxis\": {\"automargin\": true, \"gridcolor\": \"white\", \"linecolor\": \"white\", \"ticks\": \"\", \"title\": {\"standoff\": 15}, \"zerolinecolor\": \"white\", \"zerolinewidth\": 2}}}, \"title\": {\"font\": {\"color\": \"#4D5663\"}}, \"xaxis\": {\"gridcolor\": \"#E1E5ED\", \"showgrid\": true, \"tickfont\": {\"color\": \"#4D5663\"}, \"title\": {\"font\": {\"color\": \"#4D5663\"}, \"text\": \"\"}, \"zerolinecolor\": \"#E1E5ED\"}, \"yaxis\": {\"gridcolor\": \"#E1E5ED\", \"showgrid\": true, \"tickfont\": {\"color\": \"#4D5663\"}, \"title\": {\"font\": {\"color\": \"#4D5663\"}, \"text\": \"\"}, \"zerolinecolor\": \"#E1E5ED\"}},                        {\"showLink\": true, \"linkText\": \"Export to plot.ly\", \"plotlyServerURL\": \"https://plot.ly\", \"responsive\": true}                    ).then(function(){\n",
       "                            \n",
       "var gd = document.getElementById('c9a20b01-be2e-4fe3-afdc-edd179537487');\n",
       "var x = new MutationObserver(function (mutations, observer) {{\n",
       "        var display = window.getComputedStyle(gd).display;\n",
       "        if (!display || display === 'none') {{\n",
       "            console.log([gd, 'removed!']);\n",
       "            Plotly.purge(gd);\n",
       "            observer.disconnect();\n",
       "        }}\n",
       "}});\n",
       "\n",
       "// Listen for the removal of the full notebook cells\n",
       "var notebookContainer = gd.closest('#notebook-container');\n",
       "if (notebookContainer) {{\n",
       "    x.observe(notebookContainer, {childList: true});\n",
       "}}\n",
       "\n",
       "// Listen for the clearing of the current output cell\n",
       "var outputEl = gd.closest('.output');\n",
       "if (outputEl) {{\n",
       "    x.observe(outputEl, {childList: true});\n",
       "}}\n",
       "\n",
       "                        })                };                });            </script>        </div>"
      ]
     },
     "metadata": {},
     "output_type": "display_data"
    }
   ],
   "source": [
    "df.iplot(kind='scatter',x='A',y='B',mode='markers',size=10)"
   ]
  },
  {
   "cell_type": "markdown",
   "metadata": {},
   "source": [
    "<img src=\"images/plotly1.png\"/>"
   ]
  },
  {
   "cell_type": "markdown",
   "metadata": {},
   "source": [
    "## Bar Plots"
   ]
  },
  {
   "cell_type": "code",
   "execution_count": 11,
   "metadata": {},
   "outputs": [
    {
     "data": {
      "application/vnd.plotly.v1+json": {
       "config": {
        "linkText": "Export to plot.ly",
        "plotlyServerURL": "https://plot.ly",
        "showLink": true
       },
       "data": [
        {
         "marker": {
          "color": "rgba(255, 153, 51, 0.6)",
          "line": {
           "color": "rgba(255, 153, 51, 1.0)",
           "width": 1
          }
         },
         "name": "Values",
         "orientation": "v",
         "text": "",
         "type": "bar",
         "x": [
          "A",
          "B",
          "C"
         ],
         "y": [
          32,
          43,
          50
         ]
        }
       ],
       "layout": {
        "legend": {
         "bgcolor": "#F5F6F9",
         "font": {
          "color": "#4D5663"
         }
        },
        "paper_bgcolor": "#F5F6F9",
        "plot_bgcolor": "#F5F6F9",
        "template": {
         "data": {
          "bar": [
           {
            "error_x": {
             "color": "#2a3f5f"
            },
            "error_y": {
             "color": "#2a3f5f"
            },
            "marker": {
             "line": {
              "color": "#E5ECF6",
              "width": 0.5
             }
            },
            "type": "bar"
           }
          ],
          "barpolar": [
           {
            "marker": {
             "line": {
              "color": "#E5ECF6",
              "width": 0.5
             }
            },
            "type": "barpolar"
           }
          ],
          "carpet": [
           {
            "aaxis": {
             "endlinecolor": "#2a3f5f",
             "gridcolor": "white",
             "linecolor": "white",
             "minorgridcolor": "white",
             "startlinecolor": "#2a3f5f"
            },
            "baxis": {
             "endlinecolor": "#2a3f5f",
             "gridcolor": "white",
             "linecolor": "white",
             "minorgridcolor": "white",
             "startlinecolor": "#2a3f5f"
            },
            "type": "carpet"
           }
          ],
          "choropleth": [
           {
            "colorbar": {
             "outlinewidth": 0,
             "ticks": ""
            },
            "type": "choropleth"
           }
          ],
          "contour": [
           {
            "colorbar": {
             "outlinewidth": 0,
             "ticks": ""
            },
            "colorscale": [
             [
              0,
              "#0d0887"
             ],
             [
              0.1111111111111111,
              "#46039f"
             ],
             [
              0.2222222222222222,
              "#7201a8"
             ],
             [
              0.3333333333333333,
              "#9c179e"
             ],
             [
              0.4444444444444444,
              "#bd3786"
             ],
             [
              0.5555555555555556,
              "#d8576b"
             ],
             [
              0.6666666666666666,
              "#ed7953"
             ],
             [
              0.7777777777777778,
              "#fb9f3a"
             ],
             [
              0.8888888888888888,
              "#fdca26"
             ],
             [
              1,
              "#f0f921"
             ]
            ],
            "type": "contour"
           }
          ],
          "contourcarpet": [
           {
            "colorbar": {
             "outlinewidth": 0,
             "ticks": ""
            },
            "type": "contourcarpet"
           }
          ],
          "heatmap": [
           {
            "colorbar": {
             "outlinewidth": 0,
             "ticks": ""
            },
            "colorscale": [
             [
              0,
              "#0d0887"
             ],
             [
              0.1111111111111111,
              "#46039f"
             ],
             [
              0.2222222222222222,
              "#7201a8"
             ],
             [
              0.3333333333333333,
              "#9c179e"
             ],
             [
              0.4444444444444444,
              "#bd3786"
             ],
             [
              0.5555555555555556,
              "#d8576b"
             ],
             [
              0.6666666666666666,
              "#ed7953"
             ],
             [
              0.7777777777777778,
              "#fb9f3a"
             ],
             [
              0.8888888888888888,
              "#fdca26"
             ],
             [
              1,
              "#f0f921"
             ]
            ],
            "type": "heatmap"
           }
          ],
          "heatmapgl": [
           {
            "colorbar": {
             "outlinewidth": 0,
             "ticks": ""
            },
            "colorscale": [
             [
              0,
              "#0d0887"
             ],
             [
              0.1111111111111111,
              "#46039f"
             ],
             [
              0.2222222222222222,
              "#7201a8"
             ],
             [
              0.3333333333333333,
              "#9c179e"
             ],
             [
              0.4444444444444444,
              "#bd3786"
             ],
             [
              0.5555555555555556,
              "#d8576b"
             ],
             [
              0.6666666666666666,
              "#ed7953"
             ],
             [
              0.7777777777777778,
              "#fb9f3a"
             ],
             [
              0.8888888888888888,
              "#fdca26"
             ],
             [
              1,
              "#f0f921"
             ]
            ],
            "type": "heatmapgl"
           }
          ],
          "histogram": [
           {
            "marker": {
             "colorbar": {
              "outlinewidth": 0,
              "ticks": ""
             }
            },
            "type": "histogram"
           }
          ],
          "histogram2d": [
           {
            "colorbar": {
             "outlinewidth": 0,
             "ticks": ""
            },
            "colorscale": [
             [
              0,
              "#0d0887"
             ],
             [
              0.1111111111111111,
              "#46039f"
             ],
             [
              0.2222222222222222,
              "#7201a8"
             ],
             [
              0.3333333333333333,
              "#9c179e"
             ],
             [
              0.4444444444444444,
              "#bd3786"
             ],
             [
              0.5555555555555556,
              "#d8576b"
             ],
             [
              0.6666666666666666,
              "#ed7953"
             ],
             [
              0.7777777777777778,
              "#fb9f3a"
             ],
             [
              0.8888888888888888,
              "#fdca26"
             ],
             [
              1,
              "#f0f921"
             ]
            ],
            "type": "histogram2d"
           }
          ],
          "histogram2dcontour": [
           {
            "colorbar": {
             "outlinewidth": 0,
             "ticks": ""
            },
            "colorscale": [
             [
              0,
              "#0d0887"
             ],
             [
              0.1111111111111111,
              "#46039f"
             ],
             [
              0.2222222222222222,
              "#7201a8"
             ],
             [
              0.3333333333333333,
              "#9c179e"
             ],
             [
              0.4444444444444444,
              "#bd3786"
             ],
             [
              0.5555555555555556,
              "#d8576b"
             ],
             [
              0.6666666666666666,
              "#ed7953"
             ],
             [
              0.7777777777777778,
              "#fb9f3a"
             ],
             [
              0.8888888888888888,
              "#fdca26"
             ],
             [
              1,
              "#f0f921"
             ]
            ],
            "type": "histogram2dcontour"
           }
          ],
          "mesh3d": [
           {
            "colorbar": {
             "outlinewidth": 0,
             "ticks": ""
            },
            "type": "mesh3d"
           }
          ],
          "parcoords": [
           {
            "line": {
             "colorbar": {
              "outlinewidth": 0,
              "ticks": ""
             }
            },
            "type": "parcoords"
           }
          ],
          "pie": [
           {
            "automargin": true,
            "type": "pie"
           }
          ],
          "scatter": [
           {
            "marker": {
             "colorbar": {
              "outlinewidth": 0,
              "ticks": ""
             }
            },
            "type": "scatter"
           }
          ],
          "scatter3d": [
           {
            "line": {
             "colorbar": {
              "outlinewidth": 0,
              "ticks": ""
             }
            },
            "marker": {
             "colorbar": {
              "outlinewidth": 0,
              "ticks": ""
             }
            },
            "type": "scatter3d"
           }
          ],
          "scattercarpet": [
           {
            "marker": {
             "colorbar": {
              "outlinewidth": 0,
              "ticks": ""
             }
            },
            "type": "scattercarpet"
           }
          ],
          "scattergeo": [
           {
            "marker": {
             "colorbar": {
              "outlinewidth": 0,
              "ticks": ""
             }
            },
            "type": "scattergeo"
           }
          ],
          "scattergl": [
           {
            "marker": {
             "colorbar": {
              "outlinewidth": 0,
              "ticks": ""
             }
            },
            "type": "scattergl"
           }
          ],
          "scattermapbox": [
           {
            "marker": {
             "colorbar": {
              "outlinewidth": 0,
              "ticks": ""
             }
            },
            "type": "scattermapbox"
           }
          ],
          "scatterpolar": [
           {
            "marker": {
             "colorbar": {
              "outlinewidth": 0,
              "ticks": ""
             }
            },
            "type": "scatterpolar"
           }
          ],
          "scatterpolargl": [
           {
            "marker": {
             "colorbar": {
              "outlinewidth": 0,
              "ticks": ""
             }
            },
            "type": "scatterpolargl"
           }
          ],
          "scatterternary": [
           {
            "marker": {
             "colorbar": {
              "outlinewidth": 0,
              "ticks": ""
             }
            },
            "type": "scatterternary"
           }
          ],
          "surface": [
           {
            "colorbar": {
             "outlinewidth": 0,
             "ticks": ""
            },
            "colorscale": [
             [
              0,
              "#0d0887"
             ],
             [
              0.1111111111111111,
              "#46039f"
             ],
             [
              0.2222222222222222,
              "#7201a8"
             ],
             [
              0.3333333333333333,
              "#9c179e"
             ],
             [
              0.4444444444444444,
              "#bd3786"
             ],
             [
              0.5555555555555556,
              "#d8576b"
             ],
             [
              0.6666666666666666,
              "#ed7953"
             ],
             [
              0.7777777777777778,
              "#fb9f3a"
             ],
             [
              0.8888888888888888,
              "#fdca26"
             ],
             [
              1,
              "#f0f921"
             ]
            ],
            "type": "surface"
           }
          ],
          "table": [
           {
            "cells": {
             "fill": {
              "color": "#EBF0F8"
             },
             "line": {
              "color": "white"
             }
            },
            "header": {
             "fill": {
              "color": "#C8D4E3"
             },
             "line": {
              "color": "white"
             }
            },
            "type": "table"
           }
          ]
         },
         "layout": {
          "annotationdefaults": {
           "arrowcolor": "#2a3f5f",
           "arrowhead": 0,
           "arrowwidth": 1
          },
          "autotypenumbers": "strict",
          "coloraxis": {
           "colorbar": {
            "outlinewidth": 0,
            "ticks": ""
           }
          },
          "colorscale": {
           "diverging": [
            [
             0,
             "#8e0152"
            ],
            [
             0.1,
             "#c51b7d"
            ],
            [
             0.2,
             "#de77ae"
            ],
            [
             0.3,
             "#f1b6da"
            ],
            [
             0.4,
             "#fde0ef"
            ],
            [
             0.5,
             "#f7f7f7"
            ],
            [
             0.6,
             "#e6f5d0"
            ],
            [
             0.7,
             "#b8e186"
            ],
            [
             0.8,
             "#7fbc41"
            ],
            [
             0.9,
             "#4d9221"
            ],
            [
             1,
             "#276419"
            ]
           ],
           "sequential": [
            [
             0,
             "#0d0887"
            ],
            [
             0.1111111111111111,
             "#46039f"
            ],
            [
             0.2222222222222222,
             "#7201a8"
            ],
            [
             0.3333333333333333,
             "#9c179e"
            ],
            [
             0.4444444444444444,
             "#bd3786"
            ],
            [
             0.5555555555555556,
             "#d8576b"
            ],
            [
             0.6666666666666666,
             "#ed7953"
            ],
            [
             0.7777777777777778,
             "#fb9f3a"
            ],
            [
             0.8888888888888888,
             "#fdca26"
            ],
            [
             1,
             "#f0f921"
            ]
           ],
           "sequentialminus": [
            [
             0,
             "#0d0887"
            ],
            [
             0.1111111111111111,
             "#46039f"
            ],
            [
             0.2222222222222222,
             "#7201a8"
            ],
            [
             0.3333333333333333,
             "#9c179e"
            ],
            [
             0.4444444444444444,
             "#bd3786"
            ],
            [
             0.5555555555555556,
             "#d8576b"
            ],
            [
             0.6666666666666666,
             "#ed7953"
            ],
            [
             0.7777777777777778,
             "#fb9f3a"
            ],
            [
             0.8888888888888888,
             "#fdca26"
            ],
            [
             1,
             "#f0f921"
            ]
           ]
          },
          "colorway": [
           "#636efa",
           "#EF553B",
           "#00cc96",
           "#ab63fa",
           "#FFA15A",
           "#19d3f3",
           "#FF6692",
           "#B6E880",
           "#FF97FF",
           "#FECB52"
          ],
          "font": {
           "color": "#2a3f5f"
          },
          "geo": {
           "bgcolor": "white",
           "lakecolor": "white",
           "landcolor": "#E5ECF6",
           "showlakes": true,
           "showland": true,
           "subunitcolor": "white"
          },
          "hoverlabel": {
           "align": "left"
          },
          "hovermode": "closest",
          "mapbox": {
           "style": "light"
          },
          "paper_bgcolor": "white",
          "plot_bgcolor": "#E5ECF6",
          "polar": {
           "angularaxis": {
            "gridcolor": "white",
            "linecolor": "white",
            "ticks": ""
           },
           "bgcolor": "#E5ECF6",
           "radialaxis": {
            "gridcolor": "white",
            "linecolor": "white",
            "ticks": ""
           }
          },
          "scene": {
           "xaxis": {
            "backgroundcolor": "#E5ECF6",
            "gridcolor": "white",
            "gridwidth": 2,
            "linecolor": "white",
            "showbackground": true,
            "ticks": "",
            "zerolinecolor": "white"
           },
           "yaxis": {
            "backgroundcolor": "#E5ECF6",
            "gridcolor": "white",
            "gridwidth": 2,
            "linecolor": "white",
            "showbackground": true,
            "ticks": "",
            "zerolinecolor": "white"
           },
           "zaxis": {
            "backgroundcolor": "#E5ECF6",
            "gridcolor": "white",
            "gridwidth": 2,
            "linecolor": "white",
            "showbackground": true,
            "ticks": "",
            "zerolinecolor": "white"
           }
          },
          "shapedefaults": {
           "line": {
            "color": "#2a3f5f"
           }
          },
          "ternary": {
           "aaxis": {
            "gridcolor": "white",
            "linecolor": "white",
            "ticks": ""
           },
           "baxis": {
            "gridcolor": "white",
            "linecolor": "white",
            "ticks": ""
           },
           "bgcolor": "#E5ECF6",
           "caxis": {
            "gridcolor": "white",
            "linecolor": "white",
            "ticks": ""
           }
          },
          "title": {
           "x": 0.05
          },
          "xaxis": {
           "automargin": true,
           "gridcolor": "white",
           "linecolor": "white",
           "ticks": "",
           "title": {
            "standoff": 15
           },
           "zerolinecolor": "white",
           "zerolinewidth": 2
          },
          "yaxis": {
           "automargin": true,
           "gridcolor": "white",
           "linecolor": "white",
           "ticks": "",
           "title": {
            "standoff": 15
           },
           "zerolinecolor": "white",
           "zerolinewidth": 2
          }
         }
        },
        "title": {
         "font": {
          "color": "#4D5663"
         }
        },
        "xaxis": {
         "gridcolor": "#E1E5ED",
         "showgrid": true,
         "tickfont": {
          "color": "#4D5663"
         },
         "title": {
          "font": {
           "color": "#4D5663"
          },
          "text": ""
         },
         "zerolinecolor": "#E1E5ED"
        },
        "yaxis": {
         "gridcolor": "#E1E5ED",
         "showgrid": true,
         "tickfont": {
          "color": "#4D5663"
         },
         "title": {
          "font": {
           "color": "#4D5663"
          },
          "text": ""
         },
         "zerolinecolor": "#E1E5ED"
        }
       }
      },
      "text/html": [
       "<div>                            <div id=\"fee736fb-9383-407c-9baa-133edde7c69c\" class=\"plotly-graph-div\" style=\"height:525px; width:100%;\"></div>            <script type=\"text/javascript\">                require([\"plotly\"], function(Plotly) {                    window.PLOTLYENV=window.PLOTLYENV || {};\n",
       "                    window.PLOTLYENV.BASE_URL='https://plot.ly';                                    if (document.getElementById(\"fee736fb-9383-407c-9baa-133edde7c69c\")) {                    Plotly.newPlot(                        \"fee736fb-9383-407c-9baa-133edde7c69c\",                        [{\"marker\": {\"color\": \"rgba(255, 153, 51, 0.6)\", \"line\": {\"color\": \"rgba(255, 153, 51, 1.0)\", \"width\": 1}}, \"name\": \"Values\", \"orientation\": \"v\", \"text\": \"\", \"type\": \"bar\", \"x\": [\"A\", \"B\", \"C\"], \"y\": [32, 43, 50]}],                        {\"legend\": {\"bgcolor\": \"#F5F6F9\", \"font\": {\"color\": \"#4D5663\"}}, \"paper_bgcolor\": \"#F5F6F9\", \"plot_bgcolor\": \"#F5F6F9\", \"template\": {\"data\": {\"bar\": [{\"error_x\": {\"color\": \"#2a3f5f\"}, \"error_y\": {\"color\": \"#2a3f5f\"}, \"marker\": {\"line\": {\"color\": \"#E5ECF6\", \"width\": 0.5}}, \"type\": \"bar\"}], \"barpolar\": [{\"marker\": {\"line\": {\"color\": \"#E5ECF6\", \"width\": 0.5}}, \"type\": \"barpolar\"}], \"carpet\": [{\"aaxis\": {\"endlinecolor\": \"#2a3f5f\", \"gridcolor\": \"white\", \"linecolor\": \"white\", \"minorgridcolor\": \"white\", \"startlinecolor\": \"#2a3f5f\"}, \"baxis\": {\"endlinecolor\": \"#2a3f5f\", \"gridcolor\": \"white\", \"linecolor\": \"white\", \"minorgridcolor\": \"white\", \"startlinecolor\": \"#2a3f5f\"}, \"type\": \"carpet\"}], \"choropleth\": [{\"colorbar\": {\"outlinewidth\": 0, \"ticks\": \"\"}, \"type\": \"choropleth\"}], \"contour\": [{\"colorbar\": {\"outlinewidth\": 0, \"ticks\": \"\"}, \"colorscale\": [[0.0, \"#0d0887\"], [0.1111111111111111, \"#46039f\"], [0.2222222222222222, \"#7201a8\"], [0.3333333333333333, \"#9c179e\"], [0.4444444444444444, \"#bd3786\"], [0.5555555555555556, \"#d8576b\"], [0.6666666666666666, \"#ed7953\"], [0.7777777777777778, \"#fb9f3a\"], [0.8888888888888888, \"#fdca26\"], [1.0, \"#f0f921\"]], \"type\": \"contour\"}], \"contourcarpet\": [{\"colorbar\": {\"outlinewidth\": 0, \"ticks\": \"\"}, \"type\": \"contourcarpet\"}], \"heatmap\": [{\"colorbar\": {\"outlinewidth\": 0, \"ticks\": \"\"}, \"colorscale\": [[0.0, \"#0d0887\"], [0.1111111111111111, \"#46039f\"], [0.2222222222222222, \"#7201a8\"], [0.3333333333333333, \"#9c179e\"], [0.4444444444444444, \"#bd3786\"], [0.5555555555555556, \"#d8576b\"], [0.6666666666666666, \"#ed7953\"], [0.7777777777777778, \"#fb9f3a\"], [0.8888888888888888, \"#fdca26\"], [1.0, \"#f0f921\"]], \"type\": \"heatmap\"}], \"heatmapgl\": [{\"colorbar\": {\"outlinewidth\": 0, \"ticks\": \"\"}, \"colorscale\": [[0.0, \"#0d0887\"], [0.1111111111111111, \"#46039f\"], [0.2222222222222222, \"#7201a8\"], [0.3333333333333333, \"#9c179e\"], [0.4444444444444444, \"#bd3786\"], [0.5555555555555556, \"#d8576b\"], [0.6666666666666666, \"#ed7953\"], [0.7777777777777778, \"#fb9f3a\"], [0.8888888888888888, \"#fdca26\"], [1.0, \"#f0f921\"]], \"type\": \"heatmapgl\"}], \"histogram\": [{\"marker\": {\"colorbar\": {\"outlinewidth\": 0, \"ticks\": \"\"}}, \"type\": \"histogram\"}], \"histogram2d\": [{\"colorbar\": {\"outlinewidth\": 0, \"ticks\": \"\"}, \"colorscale\": [[0.0, \"#0d0887\"], [0.1111111111111111, \"#46039f\"], [0.2222222222222222, \"#7201a8\"], [0.3333333333333333, \"#9c179e\"], [0.4444444444444444, \"#bd3786\"], [0.5555555555555556, \"#d8576b\"], [0.6666666666666666, \"#ed7953\"], [0.7777777777777778, \"#fb9f3a\"], [0.8888888888888888, \"#fdca26\"], [1.0, \"#f0f921\"]], \"type\": \"histogram2d\"}], \"histogram2dcontour\": [{\"colorbar\": {\"outlinewidth\": 0, \"ticks\": \"\"}, \"colorscale\": [[0.0, \"#0d0887\"], [0.1111111111111111, \"#46039f\"], [0.2222222222222222, \"#7201a8\"], [0.3333333333333333, \"#9c179e\"], [0.4444444444444444, \"#bd3786\"], [0.5555555555555556, \"#d8576b\"], [0.6666666666666666, \"#ed7953\"], [0.7777777777777778, \"#fb9f3a\"], [0.8888888888888888, \"#fdca26\"], [1.0, \"#f0f921\"]], \"type\": \"histogram2dcontour\"}], \"mesh3d\": [{\"colorbar\": {\"outlinewidth\": 0, \"ticks\": \"\"}, \"type\": \"mesh3d\"}], \"parcoords\": [{\"line\": {\"colorbar\": {\"outlinewidth\": 0, \"ticks\": \"\"}}, \"type\": \"parcoords\"}], \"pie\": [{\"automargin\": true, \"type\": \"pie\"}], \"scatter\": [{\"marker\": {\"colorbar\": {\"outlinewidth\": 0, \"ticks\": \"\"}}, \"type\": \"scatter\"}], \"scatter3d\": [{\"line\": {\"colorbar\": {\"outlinewidth\": 0, \"ticks\": \"\"}}, \"marker\": {\"colorbar\": {\"outlinewidth\": 0, \"ticks\": \"\"}}, \"type\": \"scatter3d\"}], \"scattercarpet\": [{\"marker\": {\"colorbar\": {\"outlinewidth\": 0, \"ticks\": \"\"}}, \"type\": \"scattercarpet\"}], \"scattergeo\": [{\"marker\": {\"colorbar\": {\"outlinewidth\": 0, \"ticks\": \"\"}}, \"type\": \"scattergeo\"}], \"scattergl\": [{\"marker\": {\"colorbar\": {\"outlinewidth\": 0, \"ticks\": \"\"}}, \"type\": \"scattergl\"}], \"scattermapbox\": [{\"marker\": {\"colorbar\": {\"outlinewidth\": 0, \"ticks\": \"\"}}, \"type\": \"scattermapbox\"}], \"scatterpolar\": [{\"marker\": {\"colorbar\": {\"outlinewidth\": 0, \"ticks\": \"\"}}, \"type\": \"scatterpolar\"}], \"scatterpolargl\": [{\"marker\": {\"colorbar\": {\"outlinewidth\": 0, \"ticks\": \"\"}}, \"type\": \"scatterpolargl\"}], \"scatterternary\": [{\"marker\": {\"colorbar\": {\"outlinewidth\": 0, \"ticks\": \"\"}}, \"type\": \"scatterternary\"}], \"surface\": [{\"colorbar\": {\"outlinewidth\": 0, \"ticks\": \"\"}, \"colorscale\": [[0.0, \"#0d0887\"], [0.1111111111111111, \"#46039f\"], [0.2222222222222222, \"#7201a8\"], [0.3333333333333333, \"#9c179e\"], [0.4444444444444444, \"#bd3786\"], [0.5555555555555556, \"#d8576b\"], [0.6666666666666666, \"#ed7953\"], [0.7777777777777778, \"#fb9f3a\"], [0.8888888888888888, \"#fdca26\"], [1.0, \"#f0f921\"]], \"type\": \"surface\"}], \"table\": [{\"cells\": {\"fill\": {\"color\": \"#EBF0F8\"}, \"line\": {\"color\": \"white\"}}, \"header\": {\"fill\": {\"color\": \"#C8D4E3\"}, \"line\": {\"color\": \"white\"}}, \"type\": \"table\"}]}, \"layout\": {\"annotationdefaults\": {\"arrowcolor\": \"#2a3f5f\", \"arrowhead\": 0, \"arrowwidth\": 1}, \"autotypenumbers\": \"strict\", \"coloraxis\": {\"colorbar\": {\"outlinewidth\": 0, \"ticks\": \"\"}}, \"colorscale\": {\"diverging\": [[0, \"#8e0152\"], [0.1, \"#c51b7d\"], [0.2, \"#de77ae\"], [0.3, \"#f1b6da\"], [0.4, \"#fde0ef\"], [0.5, \"#f7f7f7\"], [0.6, \"#e6f5d0\"], [0.7, \"#b8e186\"], [0.8, \"#7fbc41\"], [0.9, \"#4d9221\"], [1, \"#276419\"]], \"sequential\": [[0.0, \"#0d0887\"], [0.1111111111111111, \"#46039f\"], [0.2222222222222222, \"#7201a8\"], [0.3333333333333333, \"#9c179e\"], [0.4444444444444444, \"#bd3786\"], [0.5555555555555556, \"#d8576b\"], [0.6666666666666666, \"#ed7953\"], [0.7777777777777778, \"#fb9f3a\"], [0.8888888888888888, \"#fdca26\"], [1.0, \"#f0f921\"]], \"sequentialminus\": [[0.0, \"#0d0887\"], [0.1111111111111111, \"#46039f\"], [0.2222222222222222, \"#7201a8\"], [0.3333333333333333, \"#9c179e\"], [0.4444444444444444, \"#bd3786\"], [0.5555555555555556, \"#d8576b\"], [0.6666666666666666, \"#ed7953\"], [0.7777777777777778, \"#fb9f3a\"], [0.8888888888888888, \"#fdca26\"], [1.0, \"#f0f921\"]]}, \"colorway\": [\"#636efa\", \"#EF553B\", \"#00cc96\", \"#ab63fa\", \"#FFA15A\", \"#19d3f3\", \"#FF6692\", \"#B6E880\", \"#FF97FF\", \"#FECB52\"], \"font\": {\"color\": \"#2a3f5f\"}, \"geo\": {\"bgcolor\": \"white\", \"lakecolor\": \"white\", \"landcolor\": \"#E5ECF6\", \"showlakes\": true, \"showland\": true, \"subunitcolor\": \"white\"}, \"hoverlabel\": {\"align\": \"left\"}, \"hovermode\": \"closest\", \"mapbox\": {\"style\": \"light\"}, \"paper_bgcolor\": \"white\", \"plot_bgcolor\": \"#E5ECF6\", \"polar\": {\"angularaxis\": {\"gridcolor\": \"white\", \"linecolor\": \"white\", \"ticks\": \"\"}, \"bgcolor\": \"#E5ECF6\", \"radialaxis\": {\"gridcolor\": \"white\", \"linecolor\": \"white\", \"ticks\": \"\"}}, \"scene\": {\"xaxis\": {\"backgroundcolor\": \"#E5ECF6\", \"gridcolor\": \"white\", \"gridwidth\": 2, \"linecolor\": \"white\", \"showbackground\": true, \"ticks\": \"\", \"zerolinecolor\": \"white\"}, \"yaxis\": {\"backgroundcolor\": \"#E5ECF6\", \"gridcolor\": \"white\", \"gridwidth\": 2, \"linecolor\": \"white\", \"showbackground\": true, \"ticks\": \"\", \"zerolinecolor\": \"white\"}, \"zaxis\": {\"backgroundcolor\": \"#E5ECF6\", \"gridcolor\": \"white\", \"gridwidth\": 2, \"linecolor\": \"white\", \"showbackground\": true, \"ticks\": \"\", \"zerolinecolor\": \"white\"}}, \"shapedefaults\": {\"line\": {\"color\": \"#2a3f5f\"}}, \"ternary\": {\"aaxis\": {\"gridcolor\": \"white\", \"linecolor\": \"white\", \"ticks\": \"\"}, \"baxis\": {\"gridcolor\": \"white\", \"linecolor\": \"white\", \"ticks\": \"\"}, \"bgcolor\": \"#E5ECF6\", \"caxis\": {\"gridcolor\": \"white\", \"linecolor\": \"white\", \"ticks\": \"\"}}, \"title\": {\"x\": 0.05}, \"xaxis\": {\"automargin\": true, \"gridcolor\": \"white\", \"linecolor\": \"white\", \"ticks\": \"\", \"title\": {\"standoff\": 15}, \"zerolinecolor\": \"white\", \"zerolinewidth\": 2}, \"yaxis\": {\"automargin\": true, \"gridcolor\": \"white\", \"linecolor\": \"white\", \"ticks\": \"\", \"title\": {\"standoff\": 15}, \"zerolinecolor\": \"white\", \"zerolinewidth\": 2}}}, \"title\": {\"font\": {\"color\": \"#4D5663\"}}, \"xaxis\": {\"gridcolor\": \"#E1E5ED\", \"showgrid\": true, \"tickfont\": {\"color\": \"#4D5663\"}, \"title\": {\"font\": {\"color\": \"#4D5663\"}, \"text\": \"\"}, \"zerolinecolor\": \"#E1E5ED\"}, \"yaxis\": {\"gridcolor\": \"#E1E5ED\", \"showgrid\": true, \"tickfont\": {\"color\": \"#4D5663\"}, \"title\": {\"font\": {\"color\": \"#4D5663\"}, \"text\": \"\"}, \"zerolinecolor\": \"#E1E5ED\"}},                        {\"showLink\": true, \"linkText\": \"Export to plot.ly\", \"plotlyServerURL\": \"https://plot.ly\", \"responsive\": true}                    ).then(function(){\n",
       "                            \n",
       "var gd = document.getElementById('fee736fb-9383-407c-9baa-133edde7c69c');\n",
       "var x = new MutationObserver(function (mutations, observer) {{\n",
       "        var display = window.getComputedStyle(gd).display;\n",
       "        if (!display || display === 'none') {{\n",
       "            console.log([gd, 'removed!']);\n",
       "            Plotly.purge(gd);\n",
       "            observer.disconnect();\n",
       "        }}\n",
       "}});\n",
       "\n",
       "// Listen for the removal of the full notebook cells\n",
       "var notebookContainer = gd.closest('#notebook-container');\n",
       "if (notebookContainer) {{\n",
       "    x.observe(notebookContainer, {childList: true});\n",
       "}}\n",
       "\n",
       "// Listen for the clearing of the current output cell\n",
       "var outputEl = gd.closest('.output');\n",
       "if (outputEl) {{\n",
       "    x.observe(outputEl, {childList: true});\n",
       "}}\n",
       "\n",
       "                        })                };                });            </script>        </div>"
      ]
     },
     "metadata": {},
     "output_type": "display_data"
    }
   ],
   "source": [
    "df2.iplot(kind='bar',x='Category',y='Values')"
   ]
  },
  {
   "cell_type": "markdown",
   "metadata": {},
   "source": [
    "<img src=\"images/plotly2.png\"/>"
   ]
  },
  {
   "cell_type": "code",
   "execution_count": 12,
   "metadata": {},
   "outputs": [
    {
     "data": {
      "application/vnd.plotly.v1+json": {
       "config": {
        "linkText": "Export to plot.ly",
        "plotlyServerURL": "https://plot.ly",
        "showLink": true
       },
       "data": [
        {
         "marker": {
          "color": "rgba(255, 153, 51, 0.6)",
          "line": {
           "color": "rgba(255, 153, 51, 1.0)",
           "width": 1
          }
         },
         "name": "None",
         "orientation": "v",
         "text": "",
         "type": "bar",
         "x": [
          "A",
          "B",
          "C",
          "D"
         ],
         "y": [
          100,
          100,
          100,
          100
         ]
        }
       ],
       "layout": {
        "legend": {
         "bgcolor": "#F5F6F9",
         "font": {
          "color": "#4D5663"
         }
        },
        "paper_bgcolor": "#F5F6F9",
        "plot_bgcolor": "#F5F6F9",
        "template": {
         "data": {
          "bar": [
           {
            "error_x": {
             "color": "#2a3f5f"
            },
            "error_y": {
             "color": "#2a3f5f"
            },
            "marker": {
             "line": {
              "color": "#E5ECF6",
              "width": 0.5
             }
            },
            "type": "bar"
           }
          ],
          "barpolar": [
           {
            "marker": {
             "line": {
              "color": "#E5ECF6",
              "width": 0.5
             }
            },
            "type": "barpolar"
           }
          ],
          "carpet": [
           {
            "aaxis": {
             "endlinecolor": "#2a3f5f",
             "gridcolor": "white",
             "linecolor": "white",
             "minorgridcolor": "white",
             "startlinecolor": "#2a3f5f"
            },
            "baxis": {
             "endlinecolor": "#2a3f5f",
             "gridcolor": "white",
             "linecolor": "white",
             "minorgridcolor": "white",
             "startlinecolor": "#2a3f5f"
            },
            "type": "carpet"
           }
          ],
          "choropleth": [
           {
            "colorbar": {
             "outlinewidth": 0,
             "ticks": ""
            },
            "type": "choropleth"
           }
          ],
          "contour": [
           {
            "colorbar": {
             "outlinewidth": 0,
             "ticks": ""
            },
            "colorscale": [
             [
              0,
              "#0d0887"
             ],
             [
              0.1111111111111111,
              "#46039f"
             ],
             [
              0.2222222222222222,
              "#7201a8"
             ],
             [
              0.3333333333333333,
              "#9c179e"
             ],
             [
              0.4444444444444444,
              "#bd3786"
             ],
             [
              0.5555555555555556,
              "#d8576b"
             ],
             [
              0.6666666666666666,
              "#ed7953"
             ],
             [
              0.7777777777777778,
              "#fb9f3a"
             ],
             [
              0.8888888888888888,
              "#fdca26"
             ],
             [
              1,
              "#f0f921"
             ]
            ],
            "type": "contour"
           }
          ],
          "contourcarpet": [
           {
            "colorbar": {
             "outlinewidth": 0,
             "ticks": ""
            },
            "type": "contourcarpet"
           }
          ],
          "heatmap": [
           {
            "colorbar": {
             "outlinewidth": 0,
             "ticks": ""
            },
            "colorscale": [
             [
              0,
              "#0d0887"
             ],
             [
              0.1111111111111111,
              "#46039f"
             ],
             [
              0.2222222222222222,
              "#7201a8"
             ],
             [
              0.3333333333333333,
              "#9c179e"
             ],
             [
              0.4444444444444444,
              "#bd3786"
             ],
             [
              0.5555555555555556,
              "#d8576b"
             ],
             [
              0.6666666666666666,
              "#ed7953"
             ],
             [
              0.7777777777777778,
              "#fb9f3a"
             ],
             [
              0.8888888888888888,
              "#fdca26"
             ],
             [
              1,
              "#f0f921"
             ]
            ],
            "type": "heatmap"
           }
          ],
          "heatmapgl": [
           {
            "colorbar": {
             "outlinewidth": 0,
             "ticks": ""
            },
            "colorscale": [
             [
              0,
              "#0d0887"
             ],
             [
              0.1111111111111111,
              "#46039f"
             ],
             [
              0.2222222222222222,
              "#7201a8"
             ],
             [
              0.3333333333333333,
              "#9c179e"
             ],
             [
              0.4444444444444444,
              "#bd3786"
             ],
             [
              0.5555555555555556,
              "#d8576b"
             ],
             [
              0.6666666666666666,
              "#ed7953"
             ],
             [
              0.7777777777777778,
              "#fb9f3a"
             ],
             [
              0.8888888888888888,
              "#fdca26"
             ],
             [
              1,
              "#f0f921"
             ]
            ],
            "type": "heatmapgl"
           }
          ],
          "histogram": [
           {
            "marker": {
             "colorbar": {
              "outlinewidth": 0,
              "ticks": ""
             }
            },
            "type": "histogram"
           }
          ],
          "histogram2d": [
           {
            "colorbar": {
             "outlinewidth": 0,
             "ticks": ""
            },
            "colorscale": [
             [
              0,
              "#0d0887"
             ],
             [
              0.1111111111111111,
              "#46039f"
             ],
             [
              0.2222222222222222,
              "#7201a8"
             ],
             [
              0.3333333333333333,
              "#9c179e"
             ],
             [
              0.4444444444444444,
              "#bd3786"
             ],
             [
              0.5555555555555556,
              "#d8576b"
             ],
             [
              0.6666666666666666,
              "#ed7953"
             ],
             [
              0.7777777777777778,
              "#fb9f3a"
             ],
             [
              0.8888888888888888,
              "#fdca26"
             ],
             [
              1,
              "#f0f921"
             ]
            ],
            "type": "histogram2d"
           }
          ],
          "histogram2dcontour": [
           {
            "colorbar": {
             "outlinewidth": 0,
             "ticks": ""
            },
            "colorscale": [
             [
              0,
              "#0d0887"
             ],
             [
              0.1111111111111111,
              "#46039f"
             ],
             [
              0.2222222222222222,
              "#7201a8"
             ],
             [
              0.3333333333333333,
              "#9c179e"
             ],
             [
              0.4444444444444444,
              "#bd3786"
             ],
             [
              0.5555555555555556,
              "#d8576b"
             ],
             [
              0.6666666666666666,
              "#ed7953"
             ],
             [
              0.7777777777777778,
              "#fb9f3a"
             ],
             [
              0.8888888888888888,
              "#fdca26"
             ],
             [
              1,
              "#f0f921"
             ]
            ],
            "type": "histogram2dcontour"
           }
          ],
          "mesh3d": [
           {
            "colorbar": {
             "outlinewidth": 0,
             "ticks": ""
            },
            "type": "mesh3d"
           }
          ],
          "parcoords": [
           {
            "line": {
             "colorbar": {
              "outlinewidth": 0,
              "ticks": ""
             }
            },
            "type": "parcoords"
           }
          ],
          "pie": [
           {
            "automargin": true,
            "type": "pie"
           }
          ],
          "scatter": [
           {
            "marker": {
             "colorbar": {
              "outlinewidth": 0,
              "ticks": ""
             }
            },
            "type": "scatter"
           }
          ],
          "scatter3d": [
           {
            "line": {
             "colorbar": {
              "outlinewidth": 0,
              "ticks": ""
             }
            },
            "marker": {
             "colorbar": {
              "outlinewidth": 0,
              "ticks": ""
             }
            },
            "type": "scatter3d"
           }
          ],
          "scattercarpet": [
           {
            "marker": {
             "colorbar": {
              "outlinewidth": 0,
              "ticks": ""
             }
            },
            "type": "scattercarpet"
           }
          ],
          "scattergeo": [
           {
            "marker": {
             "colorbar": {
              "outlinewidth": 0,
              "ticks": ""
             }
            },
            "type": "scattergeo"
           }
          ],
          "scattergl": [
           {
            "marker": {
             "colorbar": {
              "outlinewidth": 0,
              "ticks": ""
             }
            },
            "type": "scattergl"
           }
          ],
          "scattermapbox": [
           {
            "marker": {
             "colorbar": {
              "outlinewidth": 0,
              "ticks": ""
             }
            },
            "type": "scattermapbox"
           }
          ],
          "scatterpolar": [
           {
            "marker": {
             "colorbar": {
              "outlinewidth": 0,
              "ticks": ""
             }
            },
            "type": "scatterpolar"
           }
          ],
          "scatterpolargl": [
           {
            "marker": {
             "colorbar": {
              "outlinewidth": 0,
              "ticks": ""
             }
            },
            "type": "scatterpolargl"
           }
          ],
          "scatterternary": [
           {
            "marker": {
             "colorbar": {
              "outlinewidth": 0,
              "ticks": ""
             }
            },
            "type": "scatterternary"
           }
          ],
          "surface": [
           {
            "colorbar": {
             "outlinewidth": 0,
             "ticks": ""
            },
            "colorscale": [
             [
              0,
              "#0d0887"
             ],
             [
              0.1111111111111111,
              "#46039f"
             ],
             [
              0.2222222222222222,
              "#7201a8"
             ],
             [
              0.3333333333333333,
              "#9c179e"
             ],
             [
              0.4444444444444444,
              "#bd3786"
             ],
             [
              0.5555555555555556,
              "#d8576b"
             ],
             [
              0.6666666666666666,
              "#ed7953"
             ],
             [
              0.7777777777777778,
              "#fb9f3a"
             ],
             [
              0.8888888888888888,
              "#fdca26"
             ],
             [
              1,
              "#f0f921"
             ]
            ],
            "type": "surface"
           }
          ],
          "table": [
           {
            "cells": {
             "fill": {
              "color": "#EBF0F8"
             },
             "line": {
              "color": "white"
             }
            },
            "header": {
             "fill": {
              "color": "#C8D4E3"
             },
             "line": {
              "color": "white"
             }
            },
            "type": "table"
           }
          ]
         },
         "layout": {
          "annotationdefaults": {
           "arrowcolor": "#2a3f5f",
           "arrowhead": 0,
           "arrowwidth": 1
          },
          "autotypenumbers": "strict",
          "coloraxis": {
           "colorbar": {
            "outlinewidth": 0,
            "ticks": ""
           }
          },
          "colorscale": {
           "diverging": [
            [
             0,
             "#8e0152"
            ],
            [
             0.1,
             "#c51b7d"
            ],
            [
             0.2,
             "#de77ae"
            ],
            [
             0.3,
             "#f1b6da"
            ],
            [
             0.4,
             "#fde0ef"
            ],
            [
             0.5,
             "#f7f7f7"
            ],
            [
             0.6,
             "#e6f5d0"
            ],
            [
             0.7,
             "#b8e186"
            ],
            [
             0.8,
             "#7fbc41"
            ],
            [
             0.9,
             "#4d9221"
            ],
            [
             1,
             "#276419"
            ]
           ],
           "sequential": [
            [
             0,
             "#0d0887"
            ],
            [
             0.1111111111111111,
             "#46039f"
            ],
            [
             0.2222222222222222,
             "#7201a8"
            ],
            [
             0.3333333333333333,
             "#9c179e"
            ],
            [
             0.4444444444444444,
             "#bd3786"
            ],
            [
             0.5555555555555556,
             "#d8576b"
            ],
            [
             0.6666666666666666,
             "#ed7953"
            ],
            [
             0.7777777777777778,
             "#fb9f3a"
            ],
            [
             0.8888888888888888,
             "#fdca26"
            ],
            [
             1,
             "#f0f921"
            ]
           ],
           "sequentialminus": [
            [
             0,
             "#0d0887"
            ],
            [
             0.1111111111111111,
             "#46039f"
            ],
            [
             0.2222222222222222,
             "#7201a8"
            ],
            [
             0.3333333333333333,
             "#9c179e"
            ],
            [
             0.4444444444444444,
             "#bd3786"
            ],
            [
             0.5555555555555556,
             "#d8576b"
            ],
            [
             0.6666666666666666,
             "#ed7953"
            ],
            [
             0.7777777777777778,
             "#fb9f3a"
            ],
            [
             0.8888888888888888,
             "#fdca26"
            ],
            [
             1,
             "#f0f921"
            ]
           ]
          },
          "colorway": [
           "#636efa",
           "#EF553B",
           "#00cc96",
           "#ab63fa",
           "#FFA15A",
           "#19d3f3",
           "#FF6692",
           "#B6E880",
           "#FF97FF",
           "#FECB52"
          ],
          "font": {
           "color": "#2a3f5f"
          },
          "geo": {
           "bgcolor": "white",
           "lakecolor": "white",
           "landcolor": "#E5ECF6",
           "showlakes": true,
           "showland": true,
           "subunitcolor": "white"
          },
          "hoverlabel": {
           "align": "left"
          },
          "hovermode": "closest",
          "mapbox": {
           "style": "light"
          },
          "paper_bgcolor": "white",
          "plot_bgcolor": "#E5ECF6",
          "polar": {
           "angularaxis": {
            "gridcolor": "white",
            "linecolor": "white",
            "ticks": ""
           },
           "bgcolor": "#E5ECF6",
           "radialaxis": {
            "gridcolor": "white",
            "linecolor": "white",
            "ticks": ""
           }
          },
          "scene": {
           "xaxis": {
            "backgroundcolor": "#E5ECF6",
            "gridcolor": "white",
            "gridwidth": 2,
            "linecolor": "white",
            "showbackground": true,
            "ticks": "",
            "zerolinecolor": "white"
           },
           "yaxis": {
            "backgroundcolor": "#E5ECF6",
            "gridcolor": "white",
            "gridwidth": 2,
            "linecolor": "white",
            "showbackground": true,
            "ticks": "",
            "zerolinecolor": "white"
           },
           "zaxis": {
            "backgroundcolor": "#E5ECF6",
            "gridcolor": "white",
            "gridwidth": 2,
            "linecolor": "white",
            "showbackground": true,
            "ticks": "",
            "zerolinecolor": "white"
           }
          },
          "shapedefaults": {
           "line": {
            "color": "#2a3f5f"
           }
          },
          "ternary": {
           "aaxis": {
            "gridcolor": "white",
            "linecolor": "white",
            "ticks": ""
           },
           "baxis": {
            "gridcolor": "white",
            "linecolor": "white",
            "ticks": ""
           },
           "bgcolor": "#E5ECF6",
           "caxis": {
            "gridcolor": "white",
            "linecolor": "white",
            "ticks": ""
           }
          },
          "title": {
           "x": 0.05
          },
          "xaxis": {
           "automargin": true,
           "gridcolor": "white",
           "linecolor": "white",
           "ticks": "",
           "title": {
            "standoff": 15
           },
           "zerolinecolor": "white",
           "zerolinewidth": 2
          },
          "yaxis": {
           "automargin": true,
           "gridcolor": "white",
           "linecolor": "white",
           "ticks": "",
           "title": {
            "standoff": 15
           },
           "zerolinecolor": "white",
           "zerolinewidth": 2
          }
         }
        },
        "title": {
         "font": {
          "color": "#4D5663"
         }
        },
        "xaxis": {
         "gridcolor": "#E1E5ED",
         "showgrid": true,
         "tickfont": {
          "color": "#4D5663"
         },
         "title": {
          "font": {
           "color": "#4D5663"
          },
          "text": ""
         },
         "zerolinecolor": "#E1E5ED"
        },
        "yaxis": {
         "gridcolor": "#E1E5ED",
         "showgrid": true,
         "tickfont": {
          "color": "#4D5663"
         },
         "title": {
          "font": {
           "color": "#4D5663"
          },
          "text": ""
         },
         "zerolinecolor": "#E1E5ED"
        }
       }
      },
      "text/html": [
       "<div>                            <div id=\"1679efac-1d64-4452-8db4-31759dbefe3b\" class=\"plotly-graph-div\" style=\"height:525px; width:100%;\"></div>            <script type=\"text/javascript\">                require([\"plotly\"], function(Plotly) {                    window.PLOTLYENV=window.PLOTLYENV || {};\n",
       "                    window.PLOTLYENV.BASE_URL='https://plot.ly';                                    if (document.getElementById(\"1679efac-1d64-4452-8db4-31759dbefe3b\")) {                    Plotly.newPlot(                        \"1679efac-1d64-4452-8db4-31759dbefe3b\",                        [{\"marker\": {\"color\": \"rgba(255, 153, 51, 0.6)\", \"line\": {\"color\": \"rgba(255, 153, 51, 1.0)\", \"width\": 1}}, \"name\": \"None\", \"orientation\": \"v\", \"text\": \"\", \"type\": \"bar\", \"x\": [\"A\", \"B\", \"C\", \"D\"], \"y\": [100, 100, 100, 100]}],                        {\"legend\": {\"bgcolor\": \"#F5F6F9\", \"font\": {\"color\": \"#4D5663\"}}, \"paper_bgcolor\": \"#F5F6F9\", \"plot_bgcolor\": \"#F5F6F9\", \"template\": {\"data\": {\"bar\": [{\"error_x\": {\"color\": \"#2a3f5f\"}, \"error_y\": {\"color\": \"#2a3f5f\"}, \"marker\": {\"line\": {\"color\": \"#E5ECF6\", \"width\": 0.5}}, \"type\": \"bar\"}], \"barpolar\": [{\"marker\": {\"line\": {\"color\": \"#E5ECF6\", \"width\": 0.5}}, \"type\": \"barpolar\"}], \"carpet\": [{\"aaxis\": {\"endlinecolor\": \"#2a3f5f\", \"gridcolor\": \"white\", \"linecolor\": \"white\", \"minorgridcolor\": \"white\", \"startlinecolor\": \"#2a3f5f\"}, \"baxis\": {\"endlinecolor\": \"#2a3f5f\", \"gridcolor\": \"white\", \"linecolor\": \"white\", \"minorgridcolor\": \"white\", \"startlinecolor\": \"#2a3f5f\"}, \"type\": \"carpet\"}], \"choropleth\": [{\"colorbar\": {\"outlinewidth\": 0, \"ticks\": \"\"}, \"type\": \"choropleth\"}], \"contour\": [{\"colorbar\": {\"outlinewidth\": 0, \"ticks\": \"\"}, \"colorscale\": [[0.0, \"#0d0887\"], [0.1111111111111111, \"#46039f\"], [0.2222222222222222, \"#7201a8\"], [0.3333333333333333, \"#9c179e\"], [0.4444444444444444, \"#bd3786\"], [0.5555555555555556, \"#d8576b\"], [0.6666666666666666, \"#ed7953\"], [0.7777777777777778, \"#fb9f3a\"], [0.8888888888888888, \"#fdca26\"], [1.0, \"#f0f921\"]], \"type\": \"contour\"}], \"contourcarpet\": [{\"colorbar\": {\"outlinewidth\": 0, \"ticks\": \"\"}, \"type\": \"contourcarpet\"}], \"heatmap\": [{\"colorbar\": {\"outlinewidth\": 0, \"ticks\": \"\"}, \"colorscale\": [[0.0, \"#0d0887\"], [0.1111111111111111, \"#46039f\"], [0.2222222222222222, \"#7201a8\"], [0.3333333333333333, \"#9c179e\"], [0.4444444444444444, \"#bd3786\"], [0.5555555555555556, \"#d8576b\"], [0.6666666666666666, \"#ed7953\"], [0.7777777777777778, \"#fb9f3a\"], [0.8888888888888888, \"#fdca26\"], [1.0, \"#f0f921\"]], \"type\": \"heatmap\"}], \"heatmapgl\": [{\"colorbar\": {\"outlinewidth\": 0, \"ticks\": \"\"}, \"colorscale\": [[0.0, \"#0d0887\"], [0.1111111111111111, \"#46039f\"], [0.2222222222222222, \"#7201a8\"], [0.3333333333333333, \"#9c179e\"], [0.4444444444444444, \"#bd3786\"], [0.5555555555555556, \"#d8576b\"], [0.6666666666666666, \"#ed7953\"], [0.7777777777777778, \"#fb9f3a\"], [0.8888888888888888, \"#fdca26\"], [1.0, \"#f0f921\"]], \"type\": \"heatmapgl\"}], \"histogram\": [{\"marker\": {\"colorbar\": {\"outlinewidth\": 0, \"ticks\": \"\"}}, \"type\": \"histogram\"}], \"histogram2d\": [{\"colorbar\": {\"outlinewidth\": 0, \"ticks\": \"\"}, \"colorscale\": [[0.0, \"#0d0887\"], [0.1111111111111111, \"#46039f\"], [0.2222222222222222, \"#7201a8\"], [0.3333333333333333, \"#9c179e\"], [0.4444444444444444, \"#bd3786\"], [0.5555555555555556, \"#d8576b\"], [0.6666666666666666, \"#ed7953\"], [0.7777777777777778, \"#fb9f3a\"], [0.8888888888888888, \"#fdca26\"], [1.0, \"#f0f921\"]], \"type\": \"histogram2d\"}], \"histogram2dcontour\": [{\"colorbar\": {\"outlinewidth\": 0, \"ticks\": \"\"}, \"colorscale\": [[0.0, \"#0d0887\"], [0.1111111111111111, \"#46039f\"], [0.2222222222222222, \"#7201a8\"], [0.3333333333333333, \"#9c179e\"], [0.4444444444444444, \"#bd3786\"], [0.5555555555555556, \"#d8576b\"], [0.6666666666666666, \"#ed7953\"], [0.7777777777777778, \"#fb9f3a\"], [0.8888888888888888, \"#fdca26\"], [1.0, \"#f0f921\"]], \"type\": \"histogram2dcontour\"}], \"mesh3d\": [{\"colorbar\": {\"outlinewidth\": 0, \"ticks\": \"\"}, \"type\": \"mesh3d\"}], \"parcoords\": [{\"line\": {\"colorbar\": {\"outlinewidth\": 0, \"ticks\": \"\"}}, \"type\": \"parcoords\"}], \"pie\": [{\"automargin\": true, \"type\": \"pie\"}], \"scatter\": [{\"marker\": {\"colorbar\": {\"outlinewidth\": 0, \"ticks\": \"\"}}, \"type\": \"scatter\"}], \"scatter3d\": [{\"line\": {\"colorbar\": {\"outlinewidth\": 0, \"ticks\": \"\"}}, \"marker\": {\"colorbar\": {\"outlinewidth\": 0, \"ticks\": \"\"}}, \"type\": \"scatter3d\"}], \"scattercarpet\": [{\"marker\": {\"colorbar\": {\"outlinewidth\": 0, \"ticks\": \"\"}}, \"type\": \"scattercarpet\"}], \"scattergeo\": [{\"marker\": {\"colorbar\": {\"outlinewidth\": 0, \"ticks\": \"\"}}, \"type\": \"scattergeo\"}], \"scattergl\": [{\"marker\": {\"colorbar\": {\"outlinewidth\": 0, \"ticks\": \"\"}}, \"type\": \"scattergl\"}], \"scattermapbox\": [{\"marker\": {\"colorbar\": {\"outlinewidth\": 0, \"ticks\": \"\"}}, \"type\": \"scattermapbox\"}], \"scatterpolar\": [{\"marker\": {\"colorbar\": {\"outlinewidth\": 0, \"ticks\": \"\"}}, \"type\": \"scatterpolar\"}], \"scatterpolargl\": [{\"marker\": {\"colorbar\": {\"outlinewidth\": 0, \"ticks\": \"\"}}, \"type\": \"scatterpolargl\"}], \"scatterternary\": [{\"marker\": {\"colorbar\": {\"outlinewidth\": 0, \"ticks\": \"\"}}, \"type\": \"scatterternary\"}], \"surface\": [{\"colorbar\": {\"outlinewidth\": 0, \"ticks\": \"\"}, \"colorscale\": [[0.0, \"#0d0887\"], [0.1111111111111111, \"#46039f\"], [0.2222222222222222, \"#7201a8\"], [0.3333333333333333, \"#9c179e\"], [0.4444444444444444, \"#bd3786\"], [0.5555555555555556, \"#d8576b\"], [0.6666666666666666, \"#ed7953\"], [0.7777777777777778, \"#fb9f3a\"], [0.8888888888888888, \"#fdca26\"], [1.0, \"#f0f921\"]], \"type\": \"surface\"}], \"table\": [{\"cells\": {\"fill\": {\"color\": \"#EBF0F8\"}, \"line\": {\"color\": \"white\"}}, \"header\": {\"fill\": {\"color\": \"#C8D4E3\"}, \"line\": {\"color\": \"white\"}}, \"type\": \"table\"}]}, \"layout\": {\"annotationdefaults\": {\"arrowcolor\": \"#2a3f5f\", \"arrowhead\": 0, \"arrowwidth\": 1}, \"autotypenumbers\": \"strict\", \"coloraxis\": {\"colorbar\": {\"outlinewidth\": 0, \"ticks\": \"\"}}, \"colorscale\": {\"diverging\": [[0, \"#8e0152\"], [0.1, \"#c51b7d\"], [0.2, \"#de77ae\"], [0.3, \"#f1b6da\"], [0.4, \"#fde0ef\"], [0.5, \"#f7f7f7\"], [0.6, \"#e6f5d0\"], [0.7, \"#b8e186\"], [0.8, \"#7fbc41\"], [0.9, \"#4d9221\"], [1, \"#276419\"]], \"sequential\": [[0.0, \"#0d0887\"], [0.1111111111111111, \"#46039f\"], [0.2222222222222222, \"#7201a8\"], [0.3333333333333333, \"#9c179e\"], [0.4444444444444444, \"#bd3786\"], [0.5555555555555556, \"#d8576b\"], [0.6666666666666666, \"#ed7953\"], [0.7777777777777778, \"#fb9f3a\"], [0.8888888888888888, \"#fdca26\"], [1.0, \"#f0f921\"]], \"sequentialminus\": [[0.0, \"#0d0887\"], [0.1111111111111111, \"#46039f\"], [0.2222222222222222, \"#7201a8\"], [0.3333333333333333, \"#9c179e\"], [0.4444444444444444, \"#bd3786\"], [0.5555555555555556, \"#d8576b\"], [0.6666666666666666, \"#ed7953\"], [0.7777777777777778, \"#fb9f3a\"], [0.8888888888888888, \"#fdca26\"], [1.0, \"#f0f921\"]]}, \"colorway\": [\"#636efa\", \"#EF553B\", \"#00cc96\", \"#ab63fa\", \"#FFA15A\", \"#19d3f3\", \"#FF6692\", \"#B6E880\", \"#FF97FF\", \"#FECB52\"], \"font\": {\"color\": \"#2a3f5f\"}, \"geo\": {\"bgcolor\": \"white\", \"lakecolor\": \"white\", \"landcolor\": \"#E5ECF6\", \"showlakes\": true, \"showland\": true, \"subunitcolor\": \"white\"}, \"hoverlabel\": {\"align\": \"left\"}, \"hovermode\": \"closest\", \"mapbox\": {\"style\": \"light\"}, \"paper_bgcolor\": \"white\", \"plot_bgcolor\": \"#E5ECF6\", \"polar\": {\"angularaxis\": {\"gridcolor\": \"white\", \"linecolor\": \"white\", \"ticks\": \"\"}, \"bgcolor\": \"#E5ECF6\", \"radialaxis\": {\"gridcolor\": \"white\", \"linecolor\": \"white\", \"ticks\": \"\"}}, \"scene\": {\"xaxis\": {\"backgroundcolor\": \"#E5ECF6\", \"gridcolor\": \"white\", \"gridwidth\": 2, \"linecolor\": \"white\", \"showbackground\": true, \"ticks\": \"\", \"zerolinecolor\": \"white\"}, \"yaxis\": {\"backgroundcolor\": \"#E5ECF6\", \"gridcolor\": \"white\", \"gridwidth\": 2, \"linecolor\": \"white\", \"showbackground\": true, \"ticks\": \"\", \"zerolinecolor\": \"white\"}, \"zaxis\": {\"backgroundcolor\": \"#E5ECF6\", \"gridcolor\": \"white\", \"gridwidth\": 2, \"linecolor\": \"white\", \"showbackground\": true, \"ticks\": \"\", \"zerolinecolor\": \"white\"}}, \"shapedefaults\": {\"line\": {\"color\": \"#2a3f5f\"}}, \"ternary\": {\"aaxis\": {\"gridcolor\": \"white\", \"linecolor\": \"white\", \"ticks\": \"\"}, \"baxis\": {\"gridcolor\": \"white\", \"linecolor\": \"white\", \"ticks\": \"\"}, \"bgcolor\": \"#E5ECF6\", \"caxis\": {\"gridcolor\": \"white\", \"linecolor\": \"white\", \"ticks\": \"\"}}, \"title\": {\"x\": 0.05}, \"xaxis\": {\"automargin\": true, \"gridcolor\": \"white\", \"linecolor\": \"white\", \"ticks\": \"\", \"title\": {\"standoff\": 15}, \"zerolinecolor\": \"white\", \"zerolinewidth\": 2}, \"yaxis\": {\"automargin\": true, \"gridcolor\": \"white\", \"linecolor\": \"white\", \"ticks\": \"\", \"title\": {\"standoff\": 15}, \"zerolinecolor\": \"white\", \"zerolinewidth\": 2}}}, \"title\": {\"font\": {\"color\": \"#4D5663\"}}, \"xaxis\": {\"gridcolor\": \"#E1E5ED\", \"showgrid\": true, \"tickfont\": {\"color\": \"#4D5663\"}, \"title\": {\"font\": {\"color\": \"#4D5663\"}, \"text\": \"\"}, \"zerolinecolor\": \"#E1E5ED\"}, \"yaxis\": {\"gridcolor\": \"#E1E5ED\", \"showgrid\": true, \"tickfont\": {\"color\": \"#4D5663\"}, \"title\": {\"font\": {\"color\": \"#4D5663\"}, \"text\": \"\"}, \"zerolinecolor\": \"#E1E5ED\"}},                        {\"showLink\": true, \"linkText\": \"Export to plot.ly\", \"plotlyServerURL\": \"https://plot.ly\", \"responsive\": true}                    ).then(function(){\n",
       "                            \n",
       "var gd = document.getElementById('1679efac-1d64-4452-8db4-31759dbefe3b');\n",
       "var x = new MutationObserver(function (mutations, observer) {{\n",
       "        var display = window.getComputedStyle(gd).display;\n",
       "        if (!display || display === 'none') {{\n",
       "            console.log([gd, 'removed!']);\n",
       "            Plotly.purge(gd);\n",
       "            observer.disconnect();\n",
       "        }}\n",
       "}});\n",
       "\n",
       "// Listen for the removal of the full notebook cells\n",
       "var notebookContainer = gd.closest('#notebook-container');\n",
       "if (notebookContainer) {{\n",
       "    x.observe(notebookContainer, {childList: true});\n",
       "}}\n",
       "\n",
       "// Listen for the clearing of the current output cell\n",
       "var outputEl = gd.closest('.output');\n",
       "if (outputEl) {{\n",
       "    x.observe(outputEl, {childList: true});\n",
       "}}\n",
       "\n",
       "                        })                };                });            </script>        </div>"
      ]
     },
     "metadata": {},
     "output_type": "display_data"
    }
   ],
   "source": [
    "df.count().iplot(kind='bar')"
   ]
  },
  {
   "cell_type": "markdown",
   "metadata": {},
   "source": [
    "<img src=\"images/plotly3.png\"/>"
   ]
  },
  {
   "cell_type": "markdown",
   "metadata": {},
   "source": [
    "## Boxplots"
   ]
  },
  {
   "cell_type": "code",
   "execution_count": 13,
   "metadata": {},
   "outputs": [
    {
     "data": {
      "application/vnd.plotly.v1+json": {
       "config": {
        "linkText": "Export to plot.ly",
        "plotlyServerURL": "https://plot.ly",
        "showLink": true
       },
       "data": [
        {
         "boxpoints": false,
         "line": {
          "width": 1.3
         },
         "marker": {
          "color": "rgba(255, 153, 51, 1.0)"
         },
         "name": "A",
         "orientation": "v",
         "type": "box",
         "y": [
          -0.6955674278003409,
          0.709603311671074,
          -0.4639112475880794,
          0.6109406141883472,
          -0.5366807345866035,
          0.7910773377517595,
          -0.11947942636690821,
          -0.47349701720928045,
          0.4379025626920702,
          -0.7162694038809432,
          -0.7399661011767127,
          0.17186950411304497,
          -1.1302051947786431,
          -0.9448681293583892,
          0.6946221543285171,
          -0.12813558114594467,
          0.24714774336127074,
          -1.401696050877737,
          0.2658142400997529,
          1.1587947957112168,
          0.966918511877791,
          -0.7927216095782581,
          0.06753132960304364,
          -0.9947952723901883,
          0.1520156296155712,
          0.02904167623115189,
          0.5559274232627266,
          -1.6466726734025219,
          -1.1473494682674321,
          -1.300233840798571,
          -0.9329887699147729,
          0.8342953223377536,
          -0.7998016531956084,
          0.7303669267789196,
          1.0166451335363904,
          0.345687476091971,
          0.9970011314070286,
          0.09163957069787133,
          -0.9827263875741888,
          2.046107251601977,
          -0.9087542910432793,
          1.178729950658305,
          -2.6855798912420097,
          -0.039017895423392124,
          0.7719369300095611,
          -0.4831134080474078,
          -0.7255292888680582,
          0.5881142253701253,
          -0.6361240283966371,
          2.415709480942409,
          -0.5995822445536416,
          -0.2053208344706357,
          0.5614526534984946,
          -0.5269882532809637,
          -0.8431434637055175,
          0.5192973390474064,
          -0.552047204906587,
          0.32936941597121155,
          -1.8758010295874192,
          -2.3502496170590246,
          0.048974160043405456,
          -1.0570986004732563,
          -1.571501953022733,
          0.8895704580584978,
          -0.7613651522874072,
          -0.3796361762246006,
          0.2256162238881583,
          1.1124231723885278,
          -0.02020697294077586,
          -0.15171179754105252,
          0.8470805537985738,
          -1.7336252512643053,
          -0.04782149486562937,
          0.19254693779206455,
          0.23157418873759167,
          0.5178468554423196,
          -0.3914330320089398,
          0.19396591446211114,
          -0.028819443653141583,
          2.097703142578914,
          0.7380179176926842,
          -0.4801374333012573,
          -1.4125156131663692,
          -0.07460973403830272,
          -0.28773407861577427,
          -0.09295631191568235,
          0.7522891655138189,
          -1.5297240137040118,
          1.1384751363045376,
          1.3091217346992188,
          0.8879746080979246,
          0.4720820662595549,
          -0.5018250230207556,
          -1.2398951096581001,
          0.32913838199510387,
          0.8707335589794765,
          -0.1421942077971298,
          -0.7796115208498818,
          -0.13029165791235717,
          0.03648733730706007
         ]
        },
        {
         "boxpoints": false,
         "line": {
          "width": 1.3
         },
         "marker": {
          "color": "rgba(55, 128, 191, 1.0)"
         },
         "name": "B",
         "orientation": "v",
         "type": "box",
         "y": [
          -0.7115712083518633,
          0.20367831749698934,
          0.6134576546805096,
          -0.36570067643631643,
          -0.7159140308166888,
          -0.9239386716004879,
          2.5930230737700555,
          0.4147527987618448,
          -0.22996385762564714,
          0.5624676614965411,
          -1.5475325608234494,
          -0.6259507711406066,
          0.3056636097323393,
          0.20211511312646258,
          0.10374629106262659,
          1.814642590027516,
          -0.9618251387755197,
          2.148194545714763,
          0.9418063372995279,
          -1.756893092290613,
          -0.6451514937773778,
          -0.13200770808476447,
          0.872337004831524,
          2.3229673950851923,
          -0.4706761210576756,
          0.5164410724972459,
          -0.48565279600255373,
          -1.2521645968922077,
          0.190667708166508,
          -1.71765646431304,
          1.527954065750762,
          0.37401203490486645,
          -0.9774218888534799,
          0.7109426456154209,
          -0.6026932312876238,
          0.5456845135286027,
          0.6371851776297126,
          1.0541028159046348,
          -0.8355387155807726,
          1.0141605310042423,
          -0.32801098196297007,
          1.046053681722419,
          -0.6770303842667683,
          0.428153097306062,
          0.9140719808484178,
          0.8309841468257837,
          0.022583141337870448,
          -0.6262397051187514,
          -1.6071190249191691,
          -0.1989055676546752,
          0.5330744191733329,
          1.0761993457881287,
          1.8121764700303273,
          -1.2688836897989333,
          -1.7647514937908018,
          -2.482464341193299,
          -0.6078532786143386,
          0.010679248589527316,
          2.183394229236031,
          1.60963687506475,
          -1.0210660043618693,
          2.508243729834317,
          -0.23333220546062955,
          1.4028553391308474,
          -0.39244294429217097,
          -0.09295080049327233,
          1.1103292193372296,
          1.1949982096141774,
          -0.2989744322934105,
          0.8871375559852462,
          -1.368327962932662,
          0.20209814397912979,
          0.40926606668519244,
          -0.9215941758887686,
          0.9351089487739781,
          -0.24065253160275235,
          -0.11345971025377141,
          0.24372600294771427,
          0.455002801545644,
          0.1972947992569593,
          0.9717385724212538,
          -2.6044890057609646,
          -1.8119523545271286,
          0.9456288963313946,
          0.13644379478974555,
          -0.17657547306635485,
          -0.6080471675815619,
          0.6910563876875375,
          -0.1889085678147469,
          0.5062020601577284,
          -3.4814412422787626,
          -0.1844947741671853,
          2.43070381381801,
          0.8253619914959017,
          0.06003229469139,
          0.35353678611411077,
          -0.9648741956228961,
          -1.4325317580760464,
          -1.1132449693847992,
          -1.5049978733911864
         ]
        },
        {
         "boxpoints": false,
         "line": {
          "width": 1.3
         },
         "marker": {
          "color": "rgba(50, 171, 96, 1.0)"
         },
         "name": "C",
         "orientation": "v",
         "type": "box",
         "y": [
          -1.6238040974131962,
          0.6757392664758547,
          0.9760729606148445,
          0.862055908290435,
          -0.40453955744098546,
          -2.8610527199677676,
          -0.140581944584434,
          0.02496929176889924,
          0.30465375719363513,
          0.5948694424871468,
          -0.42920265223907345,
          -1.1756734867887315,
          0.040368699452806765,
          -0.4617962231259209,
          1.7955002711256662,
          -1.5932256133503535,
          -0.6418212290028259,
          -0.08628995659191863,
          -0.9035271053516496,
          0.7378098853480631,
          -1.6802683281159088,
          0.0995367017452982,
          0.5635676347299098,
          -0.2205371392984177,
          -0.49826062471825555,
          -0.6423898590064763,
          -1.0508565915580506,
          -0.5774604208382002,
          -1.0009178007471513,
          -0.9912120123666746,
          -1.260208039182508,
          -0.18872143658446525,
          0.436955712975561,
          1.0997267977346983,
          1.6757119783451595,
          0.26113852808788146,
          -0.40962615109820205,
          -2.0731272933464564,
          -1.0512783919121158,
          -0.6858181579234804,
          1.6321705351469065,
          -1.3201354166500952,
          1.6879892502481604,
          -0.2006093844748727,
          -1.8297821349157273,
          -0.7135573671380527,
          -1.3744987407180982,
          -0.007623524114172672,
          0.8043348801182267,
          0.13428685566546555,
          -1.0697254759426642,
          0.4458115008719297,
          -0.5849091687752987,
          -0.3183227777360005,
          -0.7167463923161833,
          0.56391806531028,
          0.3083308023028222,
          0.5161871179568257,
          0.5141016626244824,
          0.6677545972982242,
          0.8849894848007175,
          2.384360942181475,
          0.04330896090492554,
          1.3842877351197145,
          -0.15633858361654132,
          0.891465974345801,
          -0.013205408661876304,
          -0.15189909839061694,
          0.47544478540078583,
          0.16259065067279815,
          1.1551705608611824,
          -0.43133085622998607,
          -0.1192804606375206,
          0.7486552329731277,
          -0.6444473564327091,
          -1.9036580630935813,
          0.21296771957325075,
          1.3099624409649717,
          -0.45432408036046984,
          0.3606458537832278,
          2.7161688380964515,
          -0.38601834437418847,
          1.4250134372750032,
          0.7042659815585277,
          -1.2432978392265779,
          0.4590058834834523,
          -0.017374247412086444,
          1.4535028668689962,
          -0.9155429068219456,
          -1.0873207050081553,
          0.5362550639162094,
          0.07737676669573887,
          -0.1650233443710363,
          0.16683709497806792,
          0.9051714771804598,
          -0.8348728389820331,
          1.357250067037759,
          -0.376804667600888,
          1.1340516122970452,
          0.7109013007418191
         ]
        },
        {
         "boxpoints": false,
         "line": {
          "width": 1.3
         },
         "marker": {
          "color": "rgba(128, 0, 128, 1.0)"
         },
         "name": "D",
         "orientation": "v",
         "type": "box",
         "y": [
          0.5332636654100519,
          -0.17448553509926584,
          1.0702186407912706,
          -0.8239459485689032,
          -0.19277736796240497,
          0.9878115634701904,
          -1.0019238003717077,
          0.6340669901847583,
          -0.44092991075614896,
          1.1482169731542764,
          -1.6192711259278165,
          2.0100583949114106,
          0.6171914119741962,
          1.0728353254658836,
          2.234774598685246,
          -0.14113372683940276,
          0.5735469038655757,
          0.5002857792239915,
          -0.14136529334836834,
          0.028023475607641547,
          0.42983347929310667,
          -0.4021987507932994,
          0.05679723454111941,
          -0.41881947433224914,
          -0.45767025482695795,
          -0.08957245279795471,
          -0.15869122934893043,
          0.2544976388887662,
          -0.15181335444527758,
          1.3635385547683017,
          2.9281728527138173,
          0.8613488656680641,
          1.6025589793487491,
          0.6433745524624715,
          -0.26818492568457153,
          -0.7942340114600223,
          0.7947122622474939,
          0.663908928370825,
          0.05274822843206822,
          0.05326282927921363,
          0.9858304380437507,
          -0.5037109951333828,
          2.071963806272051,
          0.23912511587653842,
          0.1640602401262859,
          -0.515702047918531,
          0.23329218245100403,
          -0.7975621651643411,
          -0.288400704619235,
          -0.20226308550200042,
          -0.2694078200285193,
          -0.044092115485592366,
          -0.01725872658883086,
          0.5655851190308381,
          -0.5581585283930425,
          -0.5876787764705258,
          2.4194096236447664,
          -0.4051483206156967,
          -0.630257275653493,
          0.40273672166939267,
          1.8087616279156626,
          -0.7948964066383825,
          -0.13985979319487046,
          1.061591244004667,
          0.013386584935048917,
          0.4269863876075386,
          0.26344428537128556,
          0.06584190312229428,
          0.579181476524353,
          0.7391876007027266,
          -0.08663854738741003,
          -0.7409329084361622,
          0.060977491621816565,
          -1.9530030016414457,
          0.5555507032508455,
          0.8704793922391589,
          0.5438663812486605,
          -0.913188730584862,
          -1.5062079171457297,
          0.9666686384082549,
          -0.6689103073463399,
          -0.869629424372071,
          0.8379810284959375,
          -0.20969583313625517,
          -2.1022706426895574,
          -2.4104695140633865,
          -0.4089688146503087,
          -0.5299112877338699,
          0.9594791891461327,
          0.5586959040600886,
          -0.3876513646705716,
          -0.04656212299625653,
          -0.5373091246983154,
          0.5647184738520705,
          0.5817005533832955,
          -0.6446213603070445,
          -3.225971181776725,
          -1.2321918389977802,
          -0.030634778288711823,
          -1.0808138809064949
         ]
        }
       ],
       "layout": {
        "legend": {
         "bgcolor": "#F5F6F9",
         "font": {
          "color": "#4D5663"
         }
        },
        "paper_bgcolor": "#F5F6F9",
        "plot_bgcolor": "#F5F6F9",
        "template": {
         "data": {
          "bar": [
           {
            "error_x": {
             "color": "#2a3f5f"
            },
            "error_y": {
             "color": "#2a3f5f"
            },
            "marker": {
             "line": {
              "color": "#E5ECF6",
              "width": 0.5
             }
            },
            "type": "bar"
           }
          ],
          "barpolar": [
           {
            "marker": {
             "line": {
              "color": "#E5ECF6",
              "width": 0.5
             }
            },
            "type": "barpolar"
           }
          ],
          "carpet": [
           {
            "aaxis": {
             "endlinecolor": "#2a3f5f",
             "gridcolor": "white",
             "linecolor": "white",
             "minorgridcolor": "white",
             "startlinecolor": "#2a3f5f"
            },
            "baxis": {
             "endlinecolor": "#2a3f5f",
             "gridcolor": "white",
             "linecolor": "white",
             "minorgridcolor": "white",
             "startlinecolor": "#2a3f5f"
            },
            "type": "carpet"
           }
          ],
          "choropleth": [
           {
            "colorbar": {
             "outlinewidth": 0,
             "ticks": ""
            },
            "type": "choropleth"
           }
          ],
          "contour": [
           {
            "colorbar": {
             "outlinewidth": 0,
             "ticks": ""
            },
            "colorscale": [
             [
              0,
              "#0d0887"
             ],
             [
              0.1111111111111111,
              "#46039f"
             ],
             [
              0.2222222222222222,
              "#7201a8"
             ],
             [
              0.3333333333333333,
              "#9c179e"
             ],
             [
              0.4444444444444444,
              "#bd3786"
             ],
             [
              0.5555555555555556,
              "#d8576b"
             ],
             [
              0.6666666666666666,
              "#ed7953"
             ],
             [
              0.7777777777777778,
              "#fb9f3a"
             ],
             [
              0.8888888888888888,
              "#fdca26"
             ],
             [
              1,
              "#f0f921"
             ]
            ],
            "type": "contour"
           }
          ],
          "contourcarpet": [
           {
            "colorbar": {
             "outlinewidth": 0,
             "ticks": ""
            },
            "type": "contourcarpet"
           }
          ],
          "heatmap": [
           {
            "colorbar": {
             "outlinewidth": 0,
             "ticks": ""
            },
            "colorscale": [
             [
              0,
              "#0d0887"
             ],
             [
              0.1111111111111111,
              "#46039f"
             ],
             [
              0.2222222222222222,
              "#7201a8"
             ],
             [
              0.3333333333333333,
              "#9c179e"
             ],
             [
              0.4444444444444444,
              "#bd3786"
             ],
             [
              0.5555555555555556,
              "#d8576b"
             ],
             [
              0.6666666666666666,
              "#ed7953"
             ],
             [
              0.7777777777777778,
              "#fb9f3a"
             ],
             [
              0.8888888888888888,
              "#fdca26"
             ],
             [
              1,
              "#f0f921"
             ]
            ],
            "type": "heatmap"
           }
          ],
          "heatmapgl": [
           {
            "colorbar": {
             "outlinewidth": 0,
             "ticks": ""
            },
            "colorscale": [
             [
              0,
              "#0d0887"
             ],
             [
              0.1111111111111111,
              "#46039f"
             ],
             [
              0.2222222222222222,
              "#7201a8"
             ],
             [
              0.3333333333333333,
              "#9c179e"
             ],
             [
              0.4444444444444444,
              "#bd3786"
             ],
             [
              0.5555555555555556,
              "#d8576b"
             ],
             [
              0.6666666666666666,
              "#ed7953"
             ],
             [
              0.7777777777777778,
              "#fb9f3a"
             ],
             [
              0.8888888888888888,
              "#fdca26"
             ],
             [
              1,
              "#f0f921"
             ]
            ],
            "type": "heatmapgl"
           }
          ],
          "histogram": [
           {
            "marker": {
             "colorbar": {
              "outlinewidth": 0,
              "ticks": ""
             }
            },
            "type": "histogram"
           }
          ],
          "histogram2d": [
           {
            "colorbar": {
             "outlinewidth": 0,
             "ticks": ""
            },
            "colorscale": [
             [
              0,
              "#0d0887"
             ],
             [
              0.1111111111111111,
              "#46039f"
             ],
             [
              0.2222222222222222,
              "#7201a8"
             ],
             [
              0.3333333333333333,
              "#9c179e"
             ],
             [
              0.4444444444444444,
              "#bd3786"
             ],
             [
              0.5555555555555556,
              "#d8576b"
             ],
             [
              0.6666666666666666,
              "#ed7953"
             ],
             [
              0.7777777777777778,
              "#fb9f3a"
             ],
             [
              0.8888888888888888,
              "#fdca26"
             ],
             [
              1,
              "#f0f921"
             ]
            ],
            "type": "histogram2d"
           }
          ],
          "histogram2dcontour": [
           {
            "colorbar": {
             "outlinewidth": 0,
             "ticks": ""
            },
            "colorscale": [
             [
              0,
              "#0d0887"
             ],
             [
              0.1111111111111111,
              "#46039f"
             ],
             [
              0.2222222222222222,
              "#7201a8"
             ],
             [
              0.3333333333333333,
              "#9c179e"
             ],
             [
              0.4444444444444444,
              "#bd3786"
             ],
             [
              0.5555555555555556,
              "#d8576b"
             ],
             [
              0.6666666666666666,
              "#ed7953"
             ],
             [
              0.7777777777777778,
              "#fb9f3a"
             ],
             [
              0.8888888888888888,
              "#fdca26"
             ],
             [
              1,
              "#f0f921"
             ]
            ],
            "type": "histogram2dcontour"
           }
          ],
          "mesh3d": [
           {
            "colorbar": {
             "outlinewidth": 0,
             "ticks": ""
            },
            "type": "mesh3d"
           }
          ],
          "parcoords": [
           {
            "line": {
             "colorbar": {
              "outlinewidth": 0,
              "ticks": ""
             }
            },
            "type": "parcoords"
           }
          ],
          "pie": [
           {
            "automargin": true,
            "type": "pie"
           }
          ],
          "scatter": [
           {
            "marker": {
             "colorbar": {
              "outlinewidth": 0,
              "ticks": ""
             }
            },
            "type": "scatter"
           }
          ],
          "scatter3d": [
           {
            "line": {
             "colorbar": {
              "outlinewidth": 0,
              "ticks": ""
             }
            },
            "marker": {
             "colorbar": {
              "outlinewidth": 0,
              "ticks": ""
             }
            },
            "type": "scatter3d"
           }
          ],
          "scattercarpet": [
           {
            "marker": {
             "colorbar": {
              "outlinewidth": 0,
              "ticks": ""
             }
            },
            "type": "scattercarpet"
           }
          ],
          "scattergeo": [
           {
            "marker": {
             "colorbar": {
              "outlinewidth": 0,
              "ticks": ""
             }
            },
            "type": "scattergeo"
           }
          ],
          "scattergl": [
           {
            "marker": {
             "colorbar": {
              "outlinewidth": 0,
              "ticks": ""
             }
            },
            "type": "scattergl"
           }
          ],
          "scattermapbox": [
           {
            "marker": {
             "colorbar": {
              "outlinewidth": 0,
              "ticks": ""
             }
            },
            "type": "scattermapbox"
           }
          ],
          "scatterpolar": [
           {
            "marker": {
             "colorbar": {
              "outlinewidth": 0,
              "ticks": ""
             }
            },
            "type": "scatterpolar"
           }
          ],
          "scatterpolargl": [
           {
            "marker": {
             "colorbar": {
              "outlinewidth": 0,
              "ticks": ""
             }
            },
            "type": "scatterpolargl"
           }
          ],
          "scatterternary": [
           {
            "marker": {
             "colorbar": {
              "outlinewidth": 0,
              "ticks": ""
             }
            },
            "type": "scatterternary"
           }
          ],
          "surface": [
           {
            "colorbar": {
             "outlinewidth": 0,
             "ticks": ""
            },
            "colorscale": [
             [
              0,
              "#0d0887"
             ],
             [
              0.1111111111111111,
              "#46039f"
             ],
             [
              0.2222222222222222,
              "#7201a8"
             ],
             [
              0.3333333333333333,
              "#9c179e"
             ],
             [
              0.4444444444444444,
              "#bd3786"
             ],
             [
              0.5555555555555556,
              "#d8576b"
             ],
             [
              0.6666666666666666,
              "#ed7953"
             ],
             [
              0.7777777777777778,
              "#fb9f3a"
             ],
             [
              0.8888888888888888,
              "#fdca26"
             ],
             [
              1,
              "#f0f921"
             ]
            ],
            "type": "surface"
           }
          ],
          "table": [
           {
            "cells": {
             "fill": {
              "color": "#EBF0F8"
             },
             "line": {
              "color": "white"
             }
            },
            "header": {
             "fill": {
              "color": "#C8D4E3"
             },
             "line": {
              "color": "white"
             }
            },
            "type": "table"
           }
          ]
         },
         "layout": {
          "annotationdefaults": {
           "arrowcolor": "#2a3f5f",
           "arrowhead": 0,
           "arrowwidth": 1
          },
          "autotypenumbers": "strict",
          "coloraxis": {
           "colorbar": {
            "outlinewidth": 0,
            "ticks": ""
           }
          },
          "colorscale": {
           "diverging": [
            [
             0,
             "#8e0152"
            ],
            [
             0.1,
             "#c51b7d"
            ],
            [
             0.2,
             "#de77ae"
            ],
            [
             0.3,
             "#f1b6da"
            ],
            [
             0.4,
             "#fde0ef"
            ],
            [
             0.5,
             "#f7f7f7"
            ],
            [
             0.6,
             "#e6f5d0"
            ],
            [
             0.7,
             "#b8e186"
            ],
            [
             0.8,
             "#7fbc41"
            ],
            [
             0.9,
             "#4d9221"
            ],
            [
             1,
             "#276419"
            ]
           ],
           "sequential": [
            [
             0,
             "#0d0887"
            ],
            [
             0.1111111111111111,
             "#46039f"
            ],
            [
             0.2222222222222222,
             "#7201a8"
            ],
            [
             0.3333333333333333,
             "#9c179e"
            ],
            [
             0.4444444444444444,
             "#bd3786"
            ],
            [
             0.5555555555555556,
             "#d8576b"
            ],
            [
             0.6666666666666666,
             "#ed7953"
            ],
            [
             0.7777777777777778,
             "#fb9f3a"
            ],
            [
             0.8888888888888888,
             "#fdca26"
            ],
            [
             1,
             "#f0f921"
            ]
           ],
           "sequentialminus": [
            [
             0,
             "#0d0887"
            ],
            [
             0.1111111111111111,
             "#46039f"
            ],
            [
             0.2222222222222222,
             "#7201a8"
            ],
            [
             0.3333333333333333,
             "#9c179e"
            ],
            [
             0.4444444444444444,
             "#bd3786"
            ],
            [
             0.5555555555555556,
             "#d8576b"
            ],
            [
             0.6666666666666666,
             "#ed7953"
            ],
            [
             0.7777777777777778,
             "#fb9f3a"
            ],
            [
             0.8888888888888888,
             "#fdca26"
            ],
            [
             1,
             "#f0f921"
            ]
           ]
          },
          "colorway": [
           "#636efa",
           "#EF553B",
           "#00cc96",
           "#ab63fa",
           "#FFA15A",
           "#19d3f3",
           "#FF6692",
           "#B6E880",
           "#FF97FF",
           "#FECB52"
          ],
          "font": {
           "color": "#2a3f5f"
          },
          "geo": {
           "bgcolor": "white",
           "lakecolor": "white",
           "landcolor": "#E5ECF6",
           "showlakes": true,
           "showland": true,
           "subunitcolor": "white"
          },
          "hoverlabel": {
           "align": "left"
          },
          "hovermode": "closest",
          "mapbox": {
           "style": "light"
          },
          "paper_bgcolor": "white",
          "plot_bgcolor": "#E5ECF6",
          "polar": {
           "angularaxis": {
            "gridcolor": "white",
            "linecolor": "white",
            "ticks": ""
           },
           "bgcolor": "#E5ECF6",
           "radialaxis": {
            "gridcolor": "white",
            "linecolor": "white",
            "ticks": ""
           }
          },
          "scene": {
           "xaxis": {
            "backgroundcolor": "#E5ECF6",
            "gridcolor": "white",
            "gridwidth": 2,
            "linecolor": "white",
            "showbackground": true,
            "ticks": "",
            "zerolinecolor": "white"
           },
           "yaxis": {
            "backgroundcolor": "#E5ECF6",
            "gridcolor": "white",
            "gridwidth": 2,
            "linecolor": "white",
            "showbackground": true,
            "ticks": "",
            "zerolinecolor": "white"
           },
           "zaxis": {
            "backgroundcolor": "#E5ECF6",
            "gridcolor": "white",
            "gridwidth": 2,
            "linecolor": "white",
            "showbackground": true,
            "ticks": "",
            "zerolinecolor": "white"
           }
          },
          "shapedefaults": {
           "line": {
            "color": "#2a3f5f"
           }
          },
          "ternary": {
           "aaxis": {
            "gridcolor": "white",
            "linecolor": "white",
            "ticks": ""
           },
           "baxis": {
            "gridcolor": "white",
            "linecolor": "white",
            "ticks": ""
           },
           "bgcolor": "#E5ECF6",
           "caxis": {
            "gridcolor": "white",
            "linecolor": "white",
            "ticks": ""
           }
          },
          "title": {
           "x": 0.05
          },
          "xaxis": {
           "automargin": true,
           "gridcolor": "white",
           "linecolor": "white",
           "ticks": "",
           "title": {
            "standoff": 15
           },
           "zerolinecolor": "white",
           "zerolinewidth": 2
          },
          "yaxis": {
           "automargin": true,
           "gridcolor": "white",
           "linecolor": "white",
           "ticks": "",
           "title": {
            "standoff": 15
           },
           "zerolinecolor": "white",
           "zerolinewidth": 2
          }
         }
        },
        "title": {
         "font": {
          "color": "#4D5663"
         }
        },
        "xaxis": {
         "gridcolor": "#E1E5ED",
         "showgrid": true,
         "tickfont": {
          "color": "#4D5663"
         },
         "title": {
          "font": {
           "color": "#4D5663"
          },
          "text": ""
         },
         "zerolinecolor": "#E1E5ED"
        },
        "yaxis": {
         "gridcolor": "#E1E5ED",
         "showgrid": true,
         "tickfont": {
          "color": "#4D5663"
         },
         "title": {
          "font": {
           "color": "#4D5663"
          },
          "text": ""
         },
         "zerolinecolor": "#E1E5ED"
        }
       }
      },
      "text/html": [
       "<div>                            <div id=\"6547635e-cc30-4ccc-85d6-94db3dd33939\" class=\"plotly-graph-div\" style=\"height:525px; width:100%;\"></div>            <script type=\"text/javascript\">                require([\"plotly\"], function(Plotly) {                    window.PLOTLYENV=window.PLOTLYENV || {};\n",
       "                    window.PLOTLYENV.BASE_URL='https://plot.ly';                                    if (document.getElementById(\"6547635e-cc30-4ccc-85d6-94db3dd33939\")) {                    Plotly.newPlot(                        \"6547635e-cc30-4ccc-85d6-94db3dd33939\",                        [{\"boxpoints\": false, \"line\": {\"width\": 1.3}, \"marker\": {\"color\": \"rgba(255, 153, 51, 1.0)\"}, \"name\": \"A\", \"orientation\": \"v\", \"type\": \"box\", \"y\": [-0.6955674278003409, 0.709603311671074, -0.4639112475880794, 0.6109406141883472, -0.5366807345866035, 0.7910773377517595, -0.11947942636690821, -0.47349701720928045, 0.4379025626920702, -0.7162694038809432, -0.7399661011767127, 0.17186950411304497, -1.1302051947786431, -0.9448681293583892, 0.6946221543285171, -0.12813558114594467, 0.24714774336127074, -1.401696050877737, 0.2658142400997529, 1.1587947957112168, 0.966918511877791, -0.7927216095782581, 0.06753132960304364, -0.9947952723901883, 0.1520156296155712, 0.02904167623115189, 0.5559274232627266, -1.6466726734025219, -1.1473494682674321, -1.300233840798571, -0.9329887699147729, 0.8342953223377536, -0.7998016531956084, 0.7303669267789196, 1.0166451335363904, 0.345687476091971, 0.9970011314070286, 0.09163957069787133, -0.9827263875741888, 2.046107251601977, -0.9087542910432793, 1.178729950658305, -2.6855798912420097, -0.039017895423392124, 0.7719369300095611, -0.4831134080474078, -0.7255292888680582, 0.5881142253701253, -0.6361240283966371, 2.415709480942409, -0.5995822445536416, -0.2053208344706357, 0.5614526534984946, -0.5269882532809637, -0.8431434637055175, 0.5192973390474064, -0.552047204906587, 0.32936941597121155, -1.8758010295874192, -2.3502496170590246, 0.048974160043405456, -1.0570986004732563, -1.571501953022733, 0.8895704580584978, -0.7613651522874072, -0.3796361762246006, 0.2256162238881583, 1.1124231723885278, -0.02020697294077586, -0.15171179754105252, 0.8470805537985738, -1.7336252512643053, -0.04782149486562937, 0.19254693779206455, 0.23157418873759167, 0.5178468554423196, -0.3914330320089398, 0.19396591446211114, -0.028819443653141583, 2.097703142578914, 0.7380179176926842, -0.4801374333012573, -1.4125156131663692, -0.07460973403830272, -0.28773407861577427, -0.09295631191568235, 0.7522891655138189, -1.5297240137040118, 1.1384751363045376, 1.3091217346992188, 0.8879746080979246, 0.4720820662595549, -0.5018250230207556, -1.2398951096581001, 0.32913838199510387, 0.8707335589794765, -0.1421942077971298, -0.7796115208498818, -0.13029165791235717, 0.03648733730706007]}, {\"boxpoints\": false, \"line\": {\"width\": 1.3}, \"marker\": {\"color\": \"rgba(55, 128, 191, 1.0)\"}, \"name\": \"B\", \"orientation\": \"v\", \"type\": \"box\", \"y\": [-0.7115712083518633, 0.20367831749698934, 0.6134576546805096, -0.36570067643631643, -0.7159140308166888, -0.9239386716004879, 2.5930230737700555, 0.4147527987618448, -0.22996385762564714, 0.5624676614965411, -1.5475325608234494, -0.6259507711406066, 0.3056636097323393, 0.20211511312646258, 0.10374629106262659, 1.814642590027516, -0.9618251387755197, 2.148194545714763, 0.9418063372995279, -1.756893092290613, -0.6451514937773778, -0.13200770808476447, 0.872337004831524, 2.3229673950851923, -0.4706761210576756, 0.5164410724972459, -0.48565279600255373, -1.2521645968922077, 0.190667708166508, -1.71765646431304, 1.527954065750762, 0.37401203490486645, -0.9774218888534799, 0.7109426456154209, -0.6026932312876238, 0.5456845135286027, 0.6371851776297126, 1.0541028159046348, -0.8355387155807726, 1.0141605310042423, -0.32801098196297007, 1.046053681722419, -0.6770303842667683, 0.428153097306062, 0.9140719808484178, 0.8309841468257837, 0.022583141337870448, -0.6262397051187514, -1.6071190249191691, -0.1989055676546752, 0.5330744191733329, 1.0761993457881287, 1.8121764700303273, -1.2688836897989333, -1.7647514937908018, -2.482464341193299, -0.6078532786143386, 0.010679248589527316, 2.183394229236031, 1.60963687506475, -1.0210660043618693, 2.508243729834317, -0.23333220546062955, 1.4028553391308474, -0.39244294429217097, -0.09295080049327233, 1.1103292193372296, 1.1949982096141774, -0.2989744322934105, 0.8871375559852462, -1.368327962932662, 0.20209814397912979, 0.40926606668519244, -0.9215941758887686, 0.9351089487739781, -0.24065253160275235, -0.11345971025377141, 0.24372600294771427, 0.455002801545644, 0.1972947992569593, 0.9717385724212538, -2.6044890057609646, -1.8119523545271286, 0.9456288963313946, 0.13644379478974555, -0.17657547306635485, -0.6080471675815619, 0.6910563876875375, -0.1889085678147469, 0.5062020601577284, -3.4814412422787626, -0.1844947741671853, 2.43070381381801, 0.8253619914959017, 0.06003229469139, 0.35353678611411077, -0.9648741956228961, -1.4325317580760464, -1.1132449693847992, -1.5049978733911864]}, {\"boxpoints\": false, \"line\": {\"width\": 1.3}, \"marker\": {\"color\": \"rgba(50, 171, 96, 1.0)\"}, \"name\": \"C\", \"orientation\": \"v\", \"type\": \"box\", \"y\": [-1.6238040974131962, 0.6757392664758547, 0.9760729606148445, 0.862055908290435, -0.40453955744098546, -2.8610527199677676, -0.140581944584434, 0.02496929176889924, 0.30465375719363513, 0.5948694424871468, -0.42920265223907345, -1.1756734867887315, 0.040368699452806765, -0.4617962231259209, 1.7955002711256662, -1.5932256133503535, -0.6418212290028259, -0.08628995659191863, -0.9035271053516496, 0.7378098853480631, -1.6802683281159088, 0.0995367017452982, 0.5635676347299098, -0.2205371392984177, -0.49826062471825555, -0.6423898590064763, -1.0508565915580506, -0.5774604208382002, -1.0009178007471513, -0.9912120123666746, -1.260208039182508, -0.18872143658446525, 0.436955712975561, 1.0997267977346983, 1.6757119783451595, 0.26113852808788146, -0.40962615109820205, -2.0731272933464564, -1.0512783919121158, -0.6858181579234804, 1.6321705351469065, -1.3201354166500952, 1.6879892502481604, -0.2006093844748727, -1.8297821349157273, -0.7135573671380527, -1.3744987407180982, -0.007623524114172672, 0.8043348801182267, 0.13428685566546555, -1.0697254759426642, 0.4458115008719297, -0.5849091687752987, -0.3183227777360005, -0.7167463923161833, 0.56391806531028, 0.3083308023028222, 0.5161871179568257, 0.5141016626244824, 0.6677545972982242, 0.8849894848007175, 2.384360942181475, 0.04330896090492554, 1.3842877351197145, -0.15633858361654132, 0.891465974345801, -0.013205408661876304, -0.15189909839061694, 0.47544478540078583, 0.16259065067279815, 1.1551705608611824, -0.43133085622998607, -0.1192804606375206, 0.7486552329731277, -0.6444473564327091, -1.9036580630935813, 0.21296771957325075, 1.3099624409649717, -0.45432408036046984, 0.3606458537832278, 2.7161688380964515, -0.38601834437418847, 1.4250134372750032, 0.7042659815585277, -1.2432978392265779, 0.4590058834834523, -0.017374247412086444, 1.4535028668689962, -0.9155429068219456, -1.0873207050081553, 0.5362550639162094, 0.07737676669573887, -0.1650233443710363, 0.16683709497806792, 0.9051714771804598, -0.8348728389820331, 1.357250067037759, -0.376804667600888, 1.1340516122970452, 0.7109013007418191]}, {\"boxpoints\": false, \"line\": {\"width\": 1.3}, \"marker\": {\"color\": \"rgba(128, 0, 128, 1.0)\"}, \"name\": \"D\", \"orientation\": \"v\", \"type\": \"box\", \"y\": [0.5332636654100519, -0.17448553509926584, 1.0702186407912706, -0.8239459485689032, -0.19277736796240497, 0.9878115634701904, -1.0019238003717077, 0.6340669901847583, -0.44092991075614896, 1.1482169731542764, -1.6192711259278165, 2.0100583949114106, 0.6171914119741962, 1.0728353254658836, 2.234774598685246, -0.14113372683940276, 0.5735469038655757, 0.5002857792239915, -0.14136529334836834, 0.028023475607641547, 0.42983347929310667, -0.4021987507932994, 0.05679723454111941, -0.41881947433224914, -0.45767025482695795, -0.08957245279795471, -0.15869122934893043, 0.2544976388887662, -0.15181335444527758, 1.3635385547683017, 2.9281728527138173, 0.8613488656680641, 1.6025589793487491, 0.6433745524624715, -0.26818492568457153, -0.7942340114600223, 0.7947122622474939, 0.663908928370825, 0.05274822843206822, 0.05326282927921363, 0.9858304380437507, -0.5037109951333828, 2.071963806272051, 0.23912511587653842, 0.1640602401262859, -0.515702047918531, 0.23329218245100403, -0.7975621651643411, -0.288400704619235, -0.20226308550200042, -0.2694078200285193, -0.044092115485592366, -0.01725872658883086, 0.5655851190308381, -0.5581585283930425, -0.5876787764705258, 2.4194096236447664, -0.4051483206156967, -0.630257275653493, 0.40273672166939267, 1.8087616279156626, -0.7948964066383825, -0.13985979319487046, 1.061591244004667, 0.013386584935048917, 0.4269863876075386, 0.26344428537128556, 0.06584190312229428, 0.579181476524353, 0.7391876007027266, -0.08663854738741003, -0.7409329084361622, 0.060977491621816565, -1.9530030016414457, 0.5555507032508455, 0.8704793922391589, 0.5438663812486605, -0.913188730584862, -1.5062079171457297, 0.9666686384082549, -0.6689103073463399, -0.869629424372071, 0.8379810284959375, -0.20969583313625517, -2.1022706426895574, -2.4104695140633865, -0.4089688146503087, -0.5299112877338699, 0.9594791891461327, 0.5586959040600886, -0.3876513646705716, -0.04656212299625653, -0.5373091246983154, 0.5647184738520705, 0.5817005533832955, -0.6446213603070445, -3.225971181776725, -1.2321918389977802, -0.030634778288711823, -1.0808138809064949]}],                        {\"legend\": {\"bgcolor\": \"#F5F6F9\", \"font\": {\"color\": \"#4D5663\"}}, \"paper_bgcolor\": \"#F5F6F9\", \"plot_bgcolor\": \"#F5F6F9\", \"template\": {\"data\": {\"bar\": [{\"error_x\": {\"color\": \"#2a3f5f\"}, \"error_y\": {\"color\": \"#2a3f5f\"}, \"marker\": {\"line\": {\"color\": \"#E5ECF6\", \"width\": 0.5}}, \"type\": \"bar\"}], \"barpolar\": [{\"marker\": {\"line\": {\"color\": \"#E5ECF6\", \"width\": 0.5}}, \"type\": \"barpolar\"}], \"carpet\": [{\"aaxis\": {\"endlinecolor\": \"#2a3f5f\", \"gridcolor\": \"white\", \"linecolor\": \"white\", \"minorgridcolor\": \"white\", \"startlinecolor\": \"#2a3f5f\"}, \"baxis\": {\"endlinecolor\": \"#2a3f5f\", \"gridcolor\": \"white\", \"linecolor\": \"white\", \"minorgridcolor\": \"white\", \"startlinecolor\": \"#2a3f5f\"}, \"type\": \"carpet\"}], \"choropleth\": [{\"colorbar\": {\"outlinewidth\": 0, \"ticks\": \"\"}, \"type\": \"choropleth\"}], \"contour\": [{\"colorbar\": {\"outlinewidth\": 0, \"ticks\": \"\"}, \"colorscale\": [[0.0, \"#0d0887\"], [0.1111111111111111, \"#46039f\"], [0.2222222222222222, \"#7201a8\"], [0.3333333333333333, \"#9c179e\"], [0.4444444444444444, \"#bd3786\"], [0.5555555555555556, \"#d8576b\"], [0.6666666666666666, \"#ed7953\"], [0.7777777777777778, \"#fb9f3a\"], [0.8888888888888888, \"#fdca26\"], [1.0, \"#f0f921\"]], \"type\": \"contour\"}], \"contourcarpet\": [{\"colorbar\": {\"outlinewidth\": 0, \"ticks\": \"\"}, \"type\": \"contourcarpet\"}], \"heatmap\": [{\"colorbar\": {\"outlinewidth\": 0, \"ticks\": \"\"}, \"colorscale\": [[0.0, \"#0d0887\"], [0.1111111111111111, \"#46039f\"], [0.2222222222222222, \"#7201a8\"], [0.3333333333333333, \"#9c179e\"], [0.4444444444444444, \"#bd3786\"], [0.5555555555555556, \"#d8576b\"], [0.6666666666666666, \"#ed7953\"], [0.7777777777777778, \"#fb9f3a\"], [0.8888888888888888, \"#fdca26\"], [1.0, \"#f0f921\"]], \"type\": \"heatmap\"}], \"heatmapgl\": [{\"colorbar\": {\"outlinewidth\": 0, \"ticks\": \"\"}, \"colorscale\": [[0.0, \"#0d0887\"], [0.1111111111111111, \"#46039f\"], [0.2222222222222222, \"#7201a8\"], [0.3333333333333333, \"#9c179e\"], [0.4444444444444444, \"#bd3786\"], [0.5555555555555556, \"#d8576b\"], [0.6666666666666666, \"#ed7953\"], [0.7777777777777778, \"#fb9f3a\"], [0.8888888888888888, \"#fdca26\"], [1.0, \"#f0f921\"]], \"type\": \"heatmapgl\"}], \"histogram\": [{\"marker\": {\"colorbar\": {\"outlinewidth\": 0, \"ticks\": \"\"}}, \"type\": \"histogram\"}], \"histogram2d\": [{\"colorbar\": {\"outlinewidth\": 0, \"ticks\": \"\"}, \"colorscale\": [[0.0, \"#0d0887\"], [0.1111111111111111, \"#46039f\"], [0.2222222222222222, \"#7201a8\"], [0.3333333333333333, \"#9c179e\"], [0.4444444444444444, \"#bd3786\"], [0.5555555555555556, \"#d8576b\"], [0.6666666666666666, \"#ed7953\"], [0.7777777777777778, \"#fb9f3a\"], [0.8888888888888888, \"#fdca26\"], [1.0, \"#f0f921\"]], \"type\": \"histogram2d\"}], \"histogram2dcontour\": [{\"colorbar\": {\"outlinewidth\": 0, \"ticks\": \"\"}, \"colorscale\": [[0.0, \"#0d0887\"], [0.1111111111111111, \"#46039f\"], [0.2222222222222222, \"#7201a8\"], [0.3333333333333333, \"#9c179e\"], [0.4444444444444444, \"#bd3786\"], [0.5555555555555556, \"#d8576b\"], [0.6666666666666666, \"#ed7953\"], [0.7777777777777778, \"#fb9f3a\"], [0.8888888888888888, \"#fdca26\"], [1.0, \"#f0f921\"]], \"type\": \"histogram2dcontour\"}], \"mesh3d\": [{\"colorbar\": {\"outlinewidth\": 0, \"ticks\": \"\"}, \"type\": \"mesh3d\"}], \"parcoords\": [{\"line\": {\"colorbar\": {\"outlinewidth\": 0, \"ticks\": \"\"}}, \"type\": \"parcoords\"}], \"pie\": [{\"automargin\": true, \"type\": \"pie\"}], \"scatter\": [{\"marker\": {\"colorbar\": {\"outlinewidth\": 0, \"ticks\": \"\"}}, \"type\": \"scatter\"}], \"scatter3d\": [{\"line\": {\"colorbar\": {\"outlinewidth\": 0, \"ticks\": \"\"}}, \"marker\": {\"colorbar\": {\"outlinewidth\": 0, \"ticks\": \"\"}}, \"type\": \"scatter3d\"}], \"scattercarpet\": [{\"marker\": {\"colorbar\": {\"outlinewidth\": 0, \"ticks\": \"\"}}, \"type\": \"scattercarpet\"}], \"scattergeo\": [{\"marker\": {\"colorbar\": {\"outlinewidth\": 0, \"ticks\": \"\"}}, \"type\": \"scattergeo\"}], \"scattergl\": [{\"marker\": {\"colorbar\": {\"outlinewidth\": 0, \"ticks\": \"\"}}, \"type\": \"scattergl\"}], \"scattermapbox\": [{\"marker\": {\"colorbar\": {\"outlinewidth\": 0, \"ticks\": \"\"}}, \"type\": \"scattermapbox\"}], \"scatterpolar\": [{\"marker\": {\"colorbar\": {\"outlinewidth\": 0, \"ticks\": \"\"}}, \"type\": \"scatterpolar\"}], \"scatterpolargl\": [{\"marker\": {\"colorbar\": {\"outlinewidth\": 0, \"ticks\": \"\"}}, \"type\": \"scatterpolargl\"}], \"scatterternary\": [{\"marker\": {\"colorbar\": {\"outlinewidth\": 0, \"ticks\": \"\"}}, \"type\": \"scatterternary\"}], \"surface\": [{\"colorbar\": {\"outlinewidth\": 0, \"ticks\": \"\"}, \"colorscale\": [[0.0, \"#0d0887\"], [0.1111111111111111, \"#46039f\"], [0.2222222222222222, \"#7201a8\"], [0.3333333333333333, \"#9c179e\"], [0.4444444444444444, \"#bd3786\"], [0.5555555555555556, \"#d8576b\"], [0.6666666666666666, \"#ed7953\"], [0.7777777777777778, \"#fb9f3a\"], [0.8888888888888888, \"#fdca26\"], [1.0, \"#f0f921\"]], \"type\": \"surface\"}], \"table\": [{\"cells\": {\"fill\": {\"color\": \"#EBF0F8\"}, \"line\": {\"color\": \"white\"}}, \"header\": {\"fill\": {\"color\": \"#C8D4E3\"}, \"line\": {\"color\": \"white\"}}, \"type\": \"table\"}]}, \"layout\": {\"annotationdefaults\": {\"arrowcolor\": \"#2a3f5f\", \"arrowhead\": 0, \"arrowwidth\": 1}, \"autotypenumbers\": \"strict\", \"coloraxis\": {\"colorbar\": {\"outlinewidth\": 0, \"ticks\": \"\"}}, \"colorscale\": {\"diverging\": [[0, \"#8e0152\"], [0.1, \"#c51b7d\"], [0.2, \"#de77ae\"], [0.3, \"#f1b6da\"], [0.4, \"#fde0ef\"], [0.5, \"#f7f7f7\"], [0.6, \"#e6f5d0\"], [0.7, \"#b8e186\"], [0.8, \"#7fbc41\"], [0.9, \"#4d9221\"], [1, \"#276419\"]], \"sequential\": [[0.0, \"#0d0887\"], [0.1111111111111111, \"#46039f\"], [0.2222222222222222, \"#7201a8\"], [0.3333333333333333, \"#9c179e\"], [0.4444444444444444, \"#bd3786\"], [0.5555555555555556, \"#d8576b\"], [0.6666666666666666, \"#ed7953\"], [0.7777777777777778, \"#fb9f3a\"], [0.8888888888888888, \"#fdca26\"], [1.0, \"#f0f921\"]], \"sequentialminus\": [[0.0, \"#0d0887\"], [0.1111111111111111, \"#46039f\"], [0.2222222222222222, \"#7201a8\"], [0.3333333333333333, \"#9c179e\"], [0.4444444444444444, \"#bd3786\"], [0.5555555555555556, \"#d8576b\"], [0.6666666666666666, \"#ed7953\"], [0.7777777777777778, \"#fb9f3a\"], [0.8888888888888888, \"#fdca26\"], [1.0, \"#f0f921\"]]}, \"colorway\": [\"#636efa\", \"#EF553B\", \"#00cc96\", \"#ab63fa\", \"#FFA15A\", \"#19d3f3\", \"#FF6692\", \"#B6E880\", \"#FF97FF\", \"#FECB52\"], \"font\": {\"color\": \"#2a3f5f\"}, \"geo\": {\"bgcolor\": \"white\", \"lakecolor\": \"white\", \"landcolor\": \"#E5ECF6\", \"showlakes\": true, \"showland\": true, \"subunitcolor\": \"white\"}, \"hoverlabel\": {\"align\": \"left\"}, \"hovermode\": \"closest\", \"mapbox\": {\"style\": \"light\"}, \"paper_bgcolor\": \"white\", \"plot_bgcolor\": \"#E5ECF6\", \"polar\": {\"angularaxis\": {\"gridcolor\": \"white\", \"linecolor\": \"white\", \"ticks\": \"\"}, \"bgcolor\": \"#E5ECF6\", \"radialaxis\": {\"gridcolor\": \"white\", \"linecolor\": \"white\", \"ticks\": \"\"}}, \"scene\": {\"xaxis\": {\"backgroundcolor\": \"#E5ECF6\", \"gridcolor\": \"white\", \"gridwidth\": 2, \"linecolor\": \"white\", \"showbackground\": true, \"ticks\": \"\", \"zerolinecolor\": \"white\"}, \"yaxis\": {\"backgroundcolor\": \"#E5ECF6\", \"gridcolor\": \"white\", \"gridwidth\": 2, \"linecolor\": \"white\", \"showbackground\": true, \"ticks\": \"\", \"zerolinecolor\": \"white\"}, \"zaxis\": {\"backgroundcolor\": \"#E5ECF6\", \"gridcolor\": \"white\", \"gridwidth\": 2, \"linecolor\": \"white\", \"showbackground\": true, \"ticks\": \"\", \"zerolinecolor\": \"white\"}}, \"shapedefaults\": {\"line\": {\"color\": \"#2a3f5f\"}}, \"ternary\": {\"aaxis\": {\"gridcolor\": \"white\", \"linecolor\": \"white\", \"ticks\": \"\"}, \"baxis\": {\"gridcolor\": \"white\", \"linecolor\": \"white\", \"ticks\": \"\"}, \"bgcolor\": \"#E5ECF6\", \"caxis\": {\"gridcolor\": \"white\", \"linecolor\": \"white\", \"ticks\": \"\"}}, \"title\": {\"x\": 0.05}, \"xaxis\": {\"automargin\": true, \"gridcolor\": \"white\", \"linecolor\": \"white\", \"ticks\": \"\", \"title\": {\"standoff\": 15}, \"zerolinecolor\": \"white\", \"zerolinewidth\": 2}, \"yaxis\": {\"automargin\": true, \"gridcolor\": \"white\", \"linecolor\": \"white\", \"ticks\": \"\", \"title\": {\"standoff\": 15}, \"zerolinecolor\": \"white\", \"zerolinewidth\": 2}}}, \"title\": {\"font\": {\"color\": \"#4D5663\"}}, \"xaxis\": {\"gridcolor\": \"#E1E5ED\", \"showgrid\": true, \"tickfont\": {\"color\": \"#4D5663\"}, \"title\": {\"font\": {\"color\": \"#4D5663\"}, \"text\": \"\"}, \"zerolinecolor\": \"#E1E5ED\"}, \"yaxis\": {\"gridcolor\": \"#E1E5ED\", \"showgrid\": true, \"tickfont\": {\"color\": \"#4D5663\"}, \"title\": {\"font\": {\"color\": \"#4D5663\"}, \"text\": \"\"}, \"zerolinecolor\": \"#E1E5ED\"}},                        {\"showLink\": true, \"linkText\": \"Export to plot.ly\", \"plotlyServerURL\": \"https://plot.ly\", \"responsive\": true}                    ).then(function(){\n",
       "                            \n",
       "var gd = document.getElementById('6547635e-cc30-4ccc-85d6-94db3dd33939');\n",
       "var x = new MutationObserver(function (mutations, observer) {{\n",
       "        var display = window.getComputedStyle(gd).display;\n",
       "        if (!display || display === 'none') {{\n",
       "            console.log([gd, 'removed!']);\n",
       "            Plotly.purge(gd);\n",
       "            observer.disconnect();\n",
       "        }}\n",
       "}});\n",
       "\n",
       "// Listen for the removal of the full notebook cells\n",
       "var notebookContainer = gd.closest('#notebook-container');\n",
       "if (notebookContainer) {{\n",
       "    x.observe(notebookContainer, {childList: true});\n",
       "}}\n",
       "\n",
       "// Listen for the clearing of the current output cell\n",
       "var outputEl = gd.closest('.output');\n",
       "if (outputEl) {{\n",
       "    x.observe(outputEl, {childList: true});\n",
       "}}\n",
       "\n",
       "                        })                };                });            </script>        </div>"
      ]
     },
     "metadata": {},
     "output_type": "display_data"
    }
   ],
   "source": [
    "df.iplot(kind='box')"
   ]
  },
  {
   "cell_type": "markdown",
   "metadata": {},
   "source": [
    "<img src=\"images/plotly4.png\"/>"
   ]
  },
  {
   "cell_type": "markdown",
   "metadata": {},
   "source": [
    "## 3d Surface"
   ]
  },
  {
   "cell_type": "code",
   "execution_count": 14,
   "metadata": {},
   "outputs": [
    {
     "data": {
      "application/vnd.plotly.v1+json": {
       "config": {
        "linkText": "Export to plot.ly",
        "plotlyServerURL": "https://plot.ly",
        "showLink": true
       },
       "data": [
        {
         "colorscale": [
          [
           0,
           "rgb(165,0,38)"
          ],
          [
           0.1,
           "rgb(215,48,39)"
          ],
          [
           0.2,
           "rgb(244,109,67)"
          ],
          [
           0.3,
           "rgb(253,174,97)"
          ],
          [
           0.4,
           "rgb(254,224,144)"
          ],
          [
           0.5,
           "rgb(255,255,191)"
          ],
          [
           0.6,
           "rgb(224,243,248)"
          ],
          [
           0.7,
           "rgb(171,217,233)"
          ],
          [
           0.8,
           "rgb(116,173,209)"
          ],
          [
           0.9,
           "rgb(69,117,180)"
          ],
          [
           1,
           "rgb(49,54,149)"
          ]
         ],
         "type": "surface",
         "x": [
          0,
          1,
          2,
          3,
          4
         ],
         "y": [
          "x",
          "y",
          "z"
         ],
         "z": [
          [
           1,
           2,
           3,
           4,
           5
          ],
          [
           10,
           20,
           30,
           20,
           10
          ],
          [
           5,
           4,
           3,
           2,
           1
          ]
         ]
        }
       ],
       "layout": {
        "legend": {
         "bgcolor": "#F5F6F9",
         "font": {
          "color": "#4D5663"
         }
        },
        "paper_bgcolor": "#F5F6F9",
        "plot_bgcolor": "#F5F6F9",
        "template": {
         "data": {
          "bar": [
           {
            "error_x": {
             "color": "#2a3f5f"
            },
            "error_y": {
             "color": "#2a3f5f"
            },
            "marker": {
             "line": {
              "color": "#E5ECF6",
              "width": 0.5
             }
            },
            "type": "bar"
           }
          ],
          "barpolar": [
           {
            "marker": {
             "line": {
              "color": "#E5ECF6",
              "width": 0.5
             }
            },
            "type": "barpolar"
           }
          ],
          "carpet": [
           {
            "aaxis": {
             "endlinecolor": "#2a3f5f",
             "gridcolor": "white",
             "linecolor": "white",
             "minorgridcolor": "white",
             "startlinecolor": "#2a3f5f"
            },
            "baxis": {
             "endlinecolor": "#2a3f5f",
             "gridcolor": "white",
             "linecolor": "white",
             "minorgridcolor": "white",
             "startlinecolor": "#2a3f5f"
            },
            "type": "carpet"
           }
          ],
          "choropleth": [
           {
            "colorbar": {
             "outlinewidth": 0,
             "ticks": ""
            },
            "type": "choropleth"
           }
          ],
          "contour": [
           {
            "colorbar": {
             "outlinewidth": 0,
             "ticks": ""
            },
            "colorscale": [
             [
              0,
              "#0d0887"
             ],
             [
              0.1111111111111111,
              "#46039f"
             ],
             [
              0.2222222222222222,
              "#7201a8"
             ],
             [
              0.3333333333333333,
              "#9c179e"
             ],
             [
              0.4444444444444444,
              "#bd3786"
             ],
             [
              0.5555555555555556,
              "#d8576b"
             ],
             [
              0.6666666666666666,
              "#ed7953"
             ],
             [
              0.7777777777777778,
              "#fb9f3a"
             ],
             [
              0.8888888888888888,
              "#fdca26"
             ],
             [
              1,
              "#f0f921"
             ]
            ],
            "type": "contour"
           }
          ],
          "contourcarpet": [
           {
            "colorbar": {
             "outlinewidth": 0,
             "ticks": ""
            },
            "type": "contourcarpet"
           }
          ],
          "heatmap": [
           {
            "colorbar": {
             "outlinewidth": 0,
             "ticks": ""
            },
            "colorscale": [
             [
              0,
              "#0d0887"
             ],
             [
              0.1111111111111111,
              "#46039f"
             ],
             [
              0.2222222222222222,
              "#7201a8"
             ],
             [
              0.3333333333333333,
              "#9c179e"
             ],
             [
              0.4444444444444444,
              "#bd3786"
             ],
             [
              0.5555555555555556,
              "#d8576b"
             ],
             [
              0.6666666666666666,
              "#ed7953"
             ],
             [
              0.7777777777777778,
              "#fb9f3a"
             ],
             [
              0.8888888888888888,
              "#fdca26"
             ],
             [
              1,
              "#f0f921"
             ]
            ],
            "type": "heatmap"
           }
          ],
          "heatmapgl": [
           {
            "colorbar": {
             "outlinewidth": 0,
             "ticks": ""
            },
            "colorscale": [
             [
              0,
              "#0d0887"
             ],
             [
              0.1111111111111111,
              "#46039f"
             ],
             [
              0.2222222222222222,
              "#7201a8"
             ],
             [
              0.3333333333333333,
              "#9c179e"
             ],
             [
              0.4444444444444444,
              "#bd3786"
             ],
             [
              0.5555555555555556,
              "#d8576b"
             ],
             [
              0.6666666666666666,
              "#ed7953"
             ],
             [
              0.7777777777777778,
              "#fb9f3a"
             ],
             [
              0.8888888888888888,
              "#fdca26"
             ],
             [
              1,
              "#f0f921"
             ]
            ],
            "type": "heatmapgl"
           }
          ],
          "histogram": [
           {
            "marker": {
             "colorbar": {
              "outlinewidth": 0,
              "ticks": ""
             }
            },
            "type": "histogram"
           }
          ],
          "histogram2d": [
           {
            "colorbar": {
             "outlinewidth": 0,
             "ticks": ""
            },
            "colorscale": [
             [
              0,
              "#0d0887"
             ],
             [
              0.1111111111111111,
              "#46039f"
             ],
             [
              0.2222222222222222,
              "#7201a8"
             ],
             [
              0.3333333333333333,
              "#9c179e"
             ],
             [
              0.4444444444444444,
              "#bd3786"
             ],
             [
              0.5555555555555556,
              "#d8576b"
             ],
             [
              0.6666666666666666,
              "#ed7953"
             ],
             [
              0.7777777777777778,
              "#fb9f3a"
             ],
             [
              0.8888888888888888,
              "#fdca26"
             ],
             [
              1,
              "#f0f921"
             ]
            ],
            "type": "histogram2d"
           }
          ],
          "histogram2dcontour": [
           {
            "colorbar": {
             "outlinewidth": 0,
             "ticks": ""
            },
            "colorscale": [
             [
              0,
              "#0d0887"
             ],
             [
              0.1111111111111111,
              "#46039f"
             ],
             [
              0.2222222222222222,
              "#7201a8"
             ],
             [
              0.3333333333333333,
              "#9c179e"
             ],
             [
              0.4444444444444444,
              "#bd3786"
             ],
             [
              0.5555555555555556,
              "#d8576b"
             ],
             [
              0.6666666666666666,
              "#ed7953"
             ],
             [
              0.7777777777777778,
              "#fb9f3a"
             ],
             [
              0.8888888888888888,
              "#fdca26"
             ],
             [
              1,
              "#f0f921"
             ]
            ],
            "type": "histogram2dcontour"
           }
          ],
          "mesh3d": [
           {
            "colorbar": {
             "outlinewidth": 0,
             "ticks": ""
            },
            "type": "mesh3d"
           }
          ],
          "parcoords": [
           {
            "line": {
             "colorbar": {
              "outlinewidth": 0,
              "ticks": ""
             }
            },
            "type": "parcoords"
           }
          ],
          "pie": [
           {
            "automargin": true,
            "type": "pie"
           }
          ],
          "scatter": [
           {
            "marker": {
             "colorbar": {
              "outlinewidth": 0,
              "ticks": ""
             }
            },
            "type": "scatter"
           }
          ],
          "scatter3d": [
           {
            "line": {
             "colorbar": {
              "outlinewidth": 0,
              "ticks": ""
             }
            },
            "marker": {
             "colorbar": {
              "outlinewidth": 0,
              "ticks": ""
             }
            },
            "type": "scatter3d"
           }
          ],
          "scattercarpet": [
           {
            "marker": {
             "colorbar": {
              "outlinewidth": 0,
              "ticks": ""
             }
            },
            "type": "scattercarpet"
           }
          ],
          "scattergeo": [
           {
            "marker": {
             "colorbar": {
              "outlinewidth": 0,
              "ticks": ""
             }
            },
            "type": "scattergeo"
           }
          ],
          "scattergl": [
           {
            "marker": {
             "colorbar": {
              "outlinewidth": 0,
              "ticks": ""
             }
            },
            "type": "scattergl"
           }
          ],
          "scattermapbox": [
           {
            "marker": {
             "colorbar": {
              "outlinewidth": 0,
              "ticks": ""
             }
            },
            "type": "scattermapbox"
           }
          ],
          "scatterpolar": [
           {
            "marker": {
             "colorbar": {
              "outlinewidth": 0,
              "ticks": ""
             }
            },
            "type": "scatterpolar"
           }
          ],
          "scatterpolargl": [
           {
            "marker": {
             "colorbar": {
              "outlinewidth": 0,
              "ticks": ""
             }
            },
            "type": "scatterpolargl"
           }
          ],
          "scatterternary": [
           {
            "marker": {
             "colorbar": {
              "outlinewidth": 0,
              "ticks": ""
             }
            },
            "type": "scatterternary"
           }
          ],
          "surface": [
           {
            "colorbar": {
             "outlinewidth": 0,
             "ticks": ""
            },
            "colorscale": [
             [
              0,
              "#0d0887"
             ],
             [
              0.1111111111111111,
              "#46039f"
             ],
             [
              0.2222222222222222,
              "#7201a8"
             ],
             [
              0.3333333333333333,
              "#9c179e"
             ],
             [
              0.4444444444444444,
              "#bd3786"
             ],
             [
              0.5555555555555556,
              "#d8576b"
             ],
             [
              0.6666666666666666,
              "#ed7953"
             ],
             [
              0.7777777777777778,
              "#fb9f3a"
             ],
             [
              0.8888888888888888,
              "#fdca26"
             ],
             [
              1,
              "#f0f921"
             ]
            ],
            "type": "surface"
           }
          ],
          "table": [
           {
            "cells": {
             "fill": {
              "color": "#EBF0F8"
             },
             "line": {
              "color": "white"
             }
            },
            "header": {
             "fill": {
              "color": "#C8D4E3"
             },
             "line": {
              "color": "white"
             }
            },
            "type": "table"
           }
          ]
         },
         "layout": {
          "annotationdefaults": {
           "arrowcolor": "#2a3f5f",
           "arrowhead": 0,
           "arrowwidth": 1
          },
          "autotypenumbers": "strict",
          "coloraxis": {
           "colorbar": {
            "outlinewidth": 0,
            "ticks": ""
           }
          },
          "colorscale": {
           "diverging": [
            [
             0,
             "#8e0152"
            ],
            [
             0.1,
             "#c51b7d"
            ],
            [
             0.2,
             "#de77ae"
            ],
            [
             0.3,
             "#f1b6da"
            ],
            [
             0.4,
             "#fde0ef"
            ],
            [
             0.5,
             "#f7f7f7"
            ],
            [
             0.6,
             "#e6f5d0"
            ],
            [
             0.7,
             "#b8e186"
            ],
            [
             0.8,
             "#7fbc41"
            ],
            [
             0.9,
             "#4d9221"
            ],
            [
             1,
             "#276419"
            ]
           ],
           "sequential": [
            [
             0,
             "#0d0887"
            ],
            [
             0.1111111111111111,
             "#46039f"
            ],
            [
             0.2222222222222222,
             "#7201a8"
            ],
            [
             0.3333333333333333,
             "#9c179e"
            ],
            [
             0.4444444444444444,
             "#bd3786"
            ],
            [
             0.5555555555555556,
             "#d8576b"
            ],
            [
             0.6666666666666666,
             "#ed7953"
            ],
            [
             0.7777777777777778,
             "#fb9f3a"
            ],
            [
             0.8888888888888888,
             "#fdca26"
            ],
            [
             1,
             "#f0f921"
            ]
           ],
           "sequentialminus": [
            [
             0,
             "#0d0887"
            ],
            [
             0.1111111111111111,
             "#46039f"
            ],
            [
             0.2222222222222222,
             "#7201a8"
            ],
            [
             0.3333333333333333,
             "#9c179e"
            ],
            [
             0.4444444444444444,
             "#bd3786"
            ],
            [
             0.5555555555555556,
             "#d8576b"
            ],
            [
             0.6666666666666666,
             "#ed7953"
            ],
            [
             0.7777777777777778,
             "#fb9f3a"
            ],
            [
             0.8888888888888888,
             "#fdca26"
            ],
            [
             1,
             "#f0f921"
            ]
           ]
          },
          "colorway": [
           "#636efa",
           "#EF553B",
           "#00cc96",
           "#ab63fa",
           "#FFA15A",
           "#19d3f3",
           "#FF6692",
           "#B6E880",
           "#FF97FF",
           "#FECB52"
          ],
          "font": {
           "color": "#2a3f5f"
          },
          "geo": {
           "bgcolor": "white",
           "lakecolor": "white",
           "landcolor": "#E5ECF6",
           "showlakes": true,
           "showland": true,
           "subunitcolor": "white"
          },
          "hoverlabel": {
           "align": "left"
          },
          "hovermode": "closest",
          "mapbox": {
           "style": "light"
          },
          "paper_bgcolor": "white",
          "plot_bgcolor": "#E5ECF6",
          "polar": {
           "angularaxis": {
            "gridcolor": "white",
            "linecolor": "white",
            "ticks": ""
           },
           "bgcolor": "#E5ECF6",
           "radialaxis": {
            "gridcolor": "white",
            "linecolor": "white",
            "ticks": ""
           }
          },
          "scene": {
           "xaxis": {
            "backgroundcolor": "#E5ECF6",
            "gridcolor": "white",
            "gridwidth": 2,
            "linecolor": "white",
            "showbackground": true,
            "ticks": "",
            "zerolinecolor": "white"
           },
           "yaxis": {
            "backgroundcolor": "#E5ECF6",
            "gridcolor": "white",
            "gridwidth": 2,
            "linecolor": "white",
            "showbackground": true,
            "ticks": "",
            "zerolinecolor": "white"
           },
           "zaxis": {
            "backgroundcolor": "#E5ECF6",
            "gridcolor": "white",
            "gridwidth": 2,
            "linecolor": "white",
            "showbackground": true,
            "ticks": "",
            "zerolinecolor": "white"
           }
          },
          "shapedefaults": {
           "line": {
            "color": "#2a3f5f"
           }
          },
          "ternary": {
           "aaxis": {
            "gridcolor": "white",
            "linecolor": "white",
            "ticks": ""
           },
           "baxis": {
            "gridcolor": "white",
            "linecolor": "white",
            "ticks": ""
           },
           "bgcolor": "#E5ECF6",
           "caxis": {
            "gridcolor": "white",
            "linecolor": "white",
            "ticks": ""
           }
          },
          "title": {
           "x": 0.05
          },
          "xaxis": {
           "automargin": true,
           "gridcolor": "white",
           "linecolor": "white",
           "ticks": "",
           "title": {
            "standoff": 15
           },
           "zerolinecolor": "white",
           "zerolinewidth": 2
          },
          "yaxis": {
           "automargin": true,
           "gridcolor": "white",
           "linecolor": "white",
           "ticks": "",
           "title": {
            "standoff": 15
           },
           "zerolinecolor": "white",
           "zerolinewidth": 2
          }
         }
        },
        "title": {
         "font": {
          "color": "#4D5663"
         }
        },
        "xaxis": {
         "gridcolor": "#E1E5ED",
         "showgrid": true,
         "tickfont": {
          "color": "#4D5663"
         },
         "title": {
          "font": {
           "color": "#4D5663"
          },
          "text": ""
         },
         "zerolinecolor": "#E1E5ED"
        },
        "yaxis": {
         "gridcolor": "#E1E5ED",
         "showgrid": true,
         "tickfont": {
          "color": "#4D5663"
         },
         "title": {
          "font": {
           "color": "#4D5663"
          },
          "text": ""
         },
         "zerolinecolor": "#E1E5ED"
        }
       }
      },
      "text/html": [
       "<div>                            <div id=\"41102fe9-5882-40dd-8139-afeae16a925e\" class=\"plotly-graph-div\" style=\"height:525px; width:100%;\"></div>            <script type=\"text/javascript\">                require([\"plotly\"], function(Plotly) {                    window.PLOTLYENV=window.PLOTLYENV || {};\n",
       "                    window.PLOTLYENV.BASE_URL='https://plot.ly';                                    if (document.getElementById(\"41102fe9-5882-40dd-8139-afeae16a925e\")) {                    Plotly.newPlot(                        \"41102fe9-5882-40dd-8139-afeae16a925e\",                        [{\"colorscale\": [[0.0, \"rgb(165,0,38)\"], [0.1, \"rgb(215,48,39)\"], [0.2, \"rgb(244,109,67)\"], [0.3, \"rgb(253,174,97)\"], [0.4, \"rgb(254,224,144)\"], [0.5, \"rgb(255,255,191)\"], [0.6, \"rgb(224,243,248)\"], [0.7, \"rgb(171,217,233)\"], [0.8, \"rgb(116,173,209)\"], [0.9, \"rgb(69,117,180)\"], [1.0, \"rgb(49,54,149)\"]], \"type\": \"surface\", \"x\": [0, 1, 2, 3, 4], \"y\": [\"x\", \"y\", \"z\"], \"z\": [[1, 2, 3, 4, 5], [10, 20, 30, 20, 10], [5, 4, 3, 2, 1]]}],                        {\"legend\": {\"bgcolor\": \"#F5F6F9\", \"font\": {\"color\": \"#4D5663\"}}, \"paper_bgcolor\": \"#F5F6F9\", \"plot_bgcolor\": \"#F5F6F9\", \"template\": {\"data\": {\"bar\": [{\"error_x\": {\"color\": \"#2a3f5f\"}, \"error_y\": {\"color\": \"#2a3f5f\"}, \"marker\": {\"line\": {\"color\": \"#E5ECF6\", \"width\": 0.5}}, \"type\": \"bar\"}], \"barpolar\": [{\"marker\": {\"line\": {\"color\": \"#E5ECF6\", \"width\": 0.5}}, \"type\": \"barpolar\"}], \"carpet\": [{\"aaxis\": {\"endlinecolor\": \"#2a3f5f\", \"gridcolor\": \"white\", \"linecolor\": \"white\", \"minorgridcolor\": \"white\", \"startlinecolor\": \"#2a3f5f\"}, \"baxis\": {\"endlinecolor\": \"#2a3f5f\", \"gridcolor\": \"white\", \"linecolor\": \"white\", \"minorgridcolor\": \"white\", \"startlinecolor\": \"#2a3f5f\"}, \"type\": \"carpet\"}], \"choropleth\": [{\"colorbar\": {\"outlinewidth\": 0, \"ticks\": \"\"}, \"type\": \"choropleth\"}], \"contour\": [{\"colorbar\": {\"outlinewidth\": 0, \"ticks\": \"\"}, \"colorscale\": [[0.0, \"#0d0887\"], [0.1111111111111111, \"#46039f\"], [0.2222222222222222, \"#7201a8\"], [0.3333333333333333, \"#9c179e\"], [0.4444444444444444, \"#bd3786\"], [0.5555555555555556, \"#d8576b\"], [0.6666666666666666, \"#ed7953\"], [0.7777777777777778, \"#fb9f3a\"], [0.8888888888888888, \"#fdca26\"], [1.0, \"#f0f921\"]], \"type\": \"contour\"}], \"contourcarpet\": [{\"colorbar\": {\"outlinewidth\": 0, \"ticks\": \"\"}, \"type\": \"contourcarpet\"}], \"heatmap\": [{\"colorbar\": {\"outlinewidth\": 0, \"ticks\": \"\"}, \"colorscale\": [[0.0, \"#0d0887\"], [0.1111111111111111, \"#46039f\"], [0.2222222222222222, \"#7201a8\"], [0.3333333333333333, \"#9c179e\"], [0.4444444444444444, \"#bd3786\"], [0.5555555555555556, \"#d8576b\"], [0.6666666666666666, \"#ed7953\"], [0.7777777777777778, \"#fb9f3a\"], [0.8888888888888888, \"#fdca26\"], [1.0, \"#f0f921\"]], \"type\": \"heatmap\"}], \"heatmapgl\": [{\"colorbar\": {\"outlinewidth\": 0, \"ticks\": \"\"}, \"colorscale\": [[0.0, \"#0d0887\"], [0.1111111111111111, \"#46039f\"], [0.2222222222222222, \"#7201a8\"], [0.3333333333333333, \"#9c179e\"], [0.4444444444444444, \"#bd3786\"], [0.5555555555555556, \"#d8576b\"], [0.6666666666666666, \"#ed7953\"], [0.7777777777777778, \"#fb9f3a\"], [0.8888888888888888, \"#fdca26\"], [1.0, \"#f0f921\"]], \"type\": \"heatmapgl\"}], \"histogram\": [{\"marker\": {\"colorbar\": {\"outlinewidth\": 0, \"ticks\": \"\"}}, \"type\": \"histogram\"}], \"histogram2d\": [{\"colorbar\": {\"outlinewidth\": 0, \"ticks\": \"\"}, \"colorscale\": [[0.0, \"#0d0887\"], [0.1111111111111111, \"#46039f\"], [0.2222222222222222, \"#7201a8\"], [0.3333333333333333, \"#9c179e\"], [0.4444444444444444, \"#bd3786\"], [0.5555555555555556, \"#d8576b\"], [0.6666666666666666, \"#ed7953\"], [0.7777777777777778, \"#fb9f3a\"], [0.8888888888888888, \"#fdca26\"], [1.0, \"#f0f921\"]], \"type\": \"histogram2d\"}], \"histogram2dcontour\": [{\"colorbar\": {\"outlinewidth\": 0, \"ticks\": \"\"}, \"colorscale\": [[0.0, \"#0d0887\"], [0.1111111111111111, \"#46039f\"], [0.2222222222222222, \"#7201a8\"], [0.3333333333333333, \"#9c179e\"], [0.4444444444444444, \"#bd3786\"], [0.5555555555555556, \"#d8576b\"], [0.6666666666666666, \"#ed7953\"], [0.7777777777777778, \"#fb9f3a\"], [0.8888888888888888, \"#fdca26\"], [1.0, \"#f0f921\"]], \"type\": \"histogram2dcontour\"}], \"mesh3d\": [{\"colorbar\": {\"outlinewidth\": 0, \"ticks\": \"\"}, \"type\": \"mesh3d\"}], \"parcoords\": [{\"line\": {\"colorbar\": {\"outlinewidth\": 0, \"ticks\": \"\"}}, \"type\": \"parcoords\"}], \"pie\": [{\"automargin\": true, \"type\": \"pie\"}], \"scatter\": [{\"marker\": {\"colorbar\": {\"outlinewidth\": 0, \"ticks\": \"\"}}, \"type\": \"scatter\"}], \"scatter3d\": [{\"line\": {\"colorbar\": {\"outlinewidth\": 0, \"ticks\": \"\"}}, \"marker\": {\"colorbar\": {\"outlinewidth\": 0, \"ticks\": \"\"}}, \"type\": \"scatter3d\"}], \"scattercarpet\": [{\"marker\": {\"colorbar\": {\"outlinewidth\": 0, \"ticks\": \"\"}}, \"type\": \"scattercarpet\"}], \"scattergeo\": [{\"marker\": {\"colorbar\": {\"outlinewidth\": 0, \"ticks\": \"\"}}, \"type\": \"scattergeo\"}], \"scattergl\": [{\"marker\": {\"colorbar\": {\"outlinewidth\": 0, \"ticks\": \"\"}}, \"type\": \"scattergl\"}], \"scattermapbox\": [{\"marker\": {\"colorbar\": {\"outlinewidth\": 0, \"ticks\": \"\"}}, \"type\": \"scattermapbox\"}], \"scatterpolar\": [{\"marker\": {\"colorbar\": {\"outlinewidth\": 0, \"ticks\": \"\"}}, \"type\": \"scatterpolar\"}], \"scatterpolargl\": [{\"marker\": {\"colorbar\": {\"outlinewidth\": 0, \"ticks\": \"\"}}, \"type\": \"scatterpolargl\"}], \"scatterternary\": [{\"marker\": {\"colorbar\": {\"outlinewidth\": 0, \"ticks\": \"\"}}, \"type\": \"scatterternary\"}], \"surface\": [{\"colorbar\": {\"outlinewidth\": 0, \"ticks\": \"\"}, \"colorscale\": [[0.0, \"#0d0887\"], [0.1111111111111111, \"#46039f\"], [0.2222222222222222, \"#7201a8\"], [0.3333333333333333, \"#9c179e\"], [0.4444444444444444, \"#bd3786\"], [0.5555555555555556, \"#d8576b\"], [0.6666666666666666, \"#ed7953\"], [0.7777777777777778, \"#fb9f3a\"], [0.8888888888888888, \"#fdca26\"], [1.0, \"#f0f921\"]], \"type\": \"surface\"}], \"table\": [{\"cells\": {\"fill\": {\"color\": \"#EBF0F8\"}, \"line\": {\"color\": \"white\"}}, \"header\": {\"fill\": {\"color\": \"#C8D4E3\"}, \"line\": {\"color\": \"white\"}}, \"type\": \"table\"}]}, \"layout\": {\"annotationdefaults\": {\"arrowcolor\": \"#2a3f5f\", \"arrowhead\": 0, \"arrowwidth\": 1}, \"autotypenumbers\": \"strict\", \"coloraxis\": {\"colorbar\": {\"outlinewidth\": 0, \"ticks\": \"\"}}, \"colorscale\": {\"diverging\": [[0, \"#8e0152\"], [0.1, \"#c51b7d\"], [0.2, \"#de77ae\"], [0.3, \"#f1b6da\"], [0.4, \"#fde0ef\"], [0.5, \"#f7f7f7\"], [0.6, \"#e6f5d0\"], [0.7, \"#b8e186\"], [0.8, \"#7fbc41\"], [0.9, \"#4d9221\"], [1, \"#276419\"]], \"sequential\": [[0.0, \"#0d0887\"], [0.1111111111111111, \"#46039f\"], [0.2222222222222222, \"#7201a8\"], [0.3333333333333333, \"#9c179e\"], [0.4444444444444444, \"#bd3786\"], [0.5555555555555556, \"#d8576b\"], [0.6666666666666666, \"#ed7953\"], [0.7777777777777778, \"#fb9f3a\"], [0.8888888888888888, \"#fdca26\"], [1.0, \"#f0f921\"]], \"sequentialminus\": [[0.0, \"#0d0887\"], [0.1111111111111111, \"#46039f\"], [0.2222222222222222, \"#7201a8\"], [0.3333333333333333, \"#9c179e\"], [0.4444444444444444, \"#bd3786\"], [0.5555555555555556, \"#d8576b\"], [0.6666666666666666, \"#ed7953\"], [0.7777777777777778, \"#fb9f3a\"], [0.8888888888888888, \"#fdca26\"], [1.0, \"#f0f921\"]]}, \"colorway\": [\"#636efa\", \"#EF553B\", \"#00cc96\", \"#ab63fa\", \"#FFA15A\", \"#19d3f3\", \"#FF6692\", \"#B6E880\", \"#FF97FF\", \"#FECB52\"], \"font\": {\"color\": \"#2a3f5f\"}, \"geo\": {\"bgcolor\": \"white\", \"lakecolor\": \"white\", \"landcolor\": \"#E5ECF6\", \"showlakes\": true, \"showland\": true, \"subunitcolor\": \"white\"}, \"hoverlabel\": {\"align\": \"left\"}, \"hovermode\": \"closest\", \"mapbox\": {\"style\": \"light\"}, \"paper_bgcolor\": \"white\", \"plot_bgcolor\": \"#E5ECF6\", \"polar\": {\"angularaxis\": {\"gridcolor\": \"white\", \"linecolor\": \"white\", \"ticks\": \"\"}, \"bgcolor\": \"#E5ECF6\", \"radialaxis\": {\"gridcolor\": \"white\", \"linecolor\": \"white\", \"ticks\": \"\"}}, \"scene\": {\"xaxis\": {\"backgroundcolor\": \"#E5ECF6\", \"gridcolor\": \"white\", \"gridwidth\": 2, \"linecolor\": \"white\", \"showbackground\": true, \"ticks\": \"\", \"zerolinecolor\": \"white\"}, \"yaxis\": {\"backgroundcolor\": \"#E5ECF6\", \"gridcolor\": \"white\", \"gridwidth\": 2, \"linecolor\": \"white\", \"showbackground\": true, \"ticks\": \"\", \"zerolinecolor\": \"white\"}, \"zaxis\": {\"backgroundcolor\": \"#E5ECF6\", \"gridcolor\": \"white\", \"gridwidth\": 2, \"linecolor\": \"white\", \"showbackground\": true, \"ticks\": \"\", \"zerolinecolor\": \"white\"}}, \"shapedefaults\": {\"line\": {\"color\": \"#2a3f5f\"}}, \"ternary\": {\"aaxis\": {\"gridcolor\": \"white\", \"linecolor\": \"white\", \"ticks\": \"\"}, \"baxis\": {\"gridcolor\": \"white\", \"linecolor\": \"white\", \"ticks\": \"\"}, \"bgcolor\": \"#E5ECF6\", \"caxis\": {\"gridcolor\": \"white\", \"linecolor\": \"white\", \"ticks\": \"\"}}, \"title\": {\"x\": 0.05}, \"xaxis\": {\"automargin\": true, \"gridcolor\": \"white\", \"linecolor\": \"white\", \"ticks\": \"\", \"title\": {\"standoff\": 15}, \"zerolinecolor\": \"white\", \"zerolinewidth\": 2}, \"yaxis\": {\"automargin\": true, \"gridcolor\": \"white\", \"linecolor\": \"white\", \"ticks\": \"\", \"title\": {\"standoff\": 15}, \"zerolinecolor\": \"white\", \"zerolinewidth\": 2}}}, \"title\": {\"font\": {\"color\": \"#4D5663\"}}, \"xaxis\": {\"gridcolor\": \"#E1E5ED\", \"showgrid\": true, \"tickfont\": {\"color\": \"#4D5663\"}, \"title\": {\"font\": {\"color\": \"#4D5663\"}, \"text\": \"\"}, \"zerolinecolor\": \"#E1E5ED\"}, \"yaxis\": {\"gridcolor\": \"#E1E5ED\", \"showgrid\": true, \"tickfont\": {\"color\": \"#4D5663\"}, \"title\": {\"font\": {\"color\": \"#4D5663\"}, \"text\": \"\"}, \"zerolinecolor\": \"#E1E5ED\"}},                        {\"showLink\": true, \"linkText\": \"Export to plot.ly\", \"plotlyServerURL\": \"https://plot.ly\", \"responsive\": true}                    ).then(function(){\n",
       "                            \n",
       "var gd = document.getElementById('41102fe9-5882-40dd-8139-afeae16a925e');\n",
       "var x = new MutationObserver(function (mutations, observer) {{\n",
       "        var display = window.getComputedStyle(gd).display;\n",
       "        if (!display || display === 'none') {{\n",
       "            console.log([gd, 'removed!']);\n",
       "            Plotly.purge(gd);\n",
       "            observer.disconnect();\n",
       "        }}\n",
       "}});\n",
       "\n",
       "// Listen for the removal of the full notebook cells\n",
       "var notebookContainer = gd.closest('#notebook-container');\n",
       "if (notebookContainer) {{\n",
       "    x.observe(notebookContainer, {childList: true});\n",
       "}}\n",
       "\n",
       "// Listen for the clearing of the current output cell\n",
       "var outputEl = gd.closest('.output');\n",
       "if (outputEl) {{\n",
       "    x.observe(outputEl, {childList: true});\n",
       "}}\n",
       "\n",
       "                        })                };                });            </script>        </div>"
      ]
     },
     "metadata": {},
     "output_type": "display_data"
    }
   ],
   "source": [
    "df3 = pd.DataFrame({'x':[1,2,3,4,5],'y':[10,20,30,20,10],'z':[5,4,3,2,1]})\n",
    "df3.iplot(kind='surface',colorscale='rdylbu')"
   ]
  },
  {
   "cell_type": "markdown",
   "metadata": {},
   "source": [
    "<img src=\"images/plotly5.png\"/>"
   ]
  },
  {
   "cell_type": "markdown",
   "metadata": {},
   "source": [
    "## Spread"
   ]
  },
  {
   "cell_type": "code",
   "execution_count": 16,
   "metadata": {},
   "outputs": [
    {
     "data": {
      "application/vnd.plotly.v1+json": {
       "config": {
        "linkText": "Export to plot.ly",
        "plotlyServerURL": "https://plot.ly",
        "showLink": true
       },
       "data": [
        {
         "line": {
          "color": "rgba(255, 153, 51, 1.0)",
          "dash": "solid",
          "shape": "linear",
          "width": 1.3
         },
         "mode": "lines",
         "name": "A",
         "text": "",
         "type": "scatter",
         "x": [
          0,
          1,
          2,
          3,
          4,
          5,
          6,
          7,
          8,
          9,
          10,
          11,
          12,
          13,
          14,
          15,
          16,
          17,
          18,
          19,
          20,
          21,
          22,
          23,
          24,
          25,
          26,
          27,
          28,
          29,
          30,
          31,
          32,
          33,
          34,
          35,
          36,
          37,
          38,
          39,
          40,
          41,
          42,
          43,
          44,
          45,
          46,
          47,
          48,
          49,
          50,
          51,
          52,
          53,
          54,
          55,
          56,
          57,
          58,
          59,
          60,
          61,
          62,
          63,
          64,
          65,
          66,
          67,
          68,
          69,
          70,
          71,
          72,
          73,
          74,
          75,
          76,
          77,
          78,
          79,
          80,
          81,
          82,
          83,
          84,
          85,
          86,
          87,
          88,
          89,
          90,
          91,
          92,
          93,
          94,
          95,
          96,
          97,
          98,
          99
         ],
         "y": [
          -0.6955674278003409,
          0.709603311671074,
          -0.4639112475880794,
          0.6109406141883472,
          -0.5366807345866035,
          0.7910773377517595,
          -0.11947942636690821,
          -0.47349701720928045,
          0.4379025626920702,
          -0.7162694038809432,
          -0.7399661011767127,
          0.17186950411304497,
          -1.1302051947786431,
          -0.9448681293583892,
          0.6946221543285171,
          -0.12813558114594467,
          0.24714774336127074,
          -1.401696050877737,
          0.2658142400997529,
          1.1587947957112168,
          0.966918511877791,
          -0.7927216095782581,
          0.06753132960304364,
          -0.9947952723901883,
          0.1520156296155712,
          0.02904167623115189,
          0.5559274232627266,
          -1.6466726734025219,
          -1.1473494682674321,
          -1.300233840798571,
          -0.9329887699147729,
          0.8342953223377536,
          -0.7998016531956084,
          0.7303669267789196,
          1.0166451335363904,
          0.345687476091971,
          0.9970011314070286,
          0.09163957069787133,
          -0.9827263875741888,
          2.046107251601977,
          -0.9087542910432793,
          1.178729950658305,
          -2.6855798912420097,
          -0.039017895423392124,
          0.7719369300095611,
          -0.4831134080474078,
          -0.7255292888680582,
          0.5881142253701253,
          -0.6361240283966371,
          2.415709480942409,
          -0.5995822445536416,
          -0.2053208344706357,
          0.5614526534984946,
          -0.5269882532809637,
          -0.8431434637055175,
          0.5192973390474064,
          -0.552047204906587,
          0.32936941597121155,
          -1.8758010295874192,
          -2.3502496170590246,
          0.048974160043405456,
          -1.0570986004732563,
          -1.571501953022733,
          0.8895704580584978,
          -0.7613651522874072,
          -0.3796361762246006,
          0.2256162238881583,
          1.1124231723885278,
          -0.02020697294077586,
          -0.15171179754105252,
          0.8470805537985738,
          -1.7336252512643053,
          -0.04782149486562937,
          0.19254693779206455,
          0.23157418873759167,
          0.5178468554423196,
          -0.3914330320089398,
          0.19396591446211114,
          -0.028819443653141583,
          2.097703142578914,
          0.7380179176926842,
          -0.4801374333012573,
          -1.4125156131663692,
          -0.07460973403830272,
          -0.28773407861577427,
          -0.09295631191568235,
          0.7522891655138189,
          -1.5297240137040118,
          1.1384751363045376,
          1.3091217346992188,
          0.8879746080979246,
          0.4720820662595549,
          -0.5018250230207556,
          -1.2398951096581001,
          0.32913838199510387,
          0.8707335589794765,
          -0.1421942077971298,
          -0.7796115208498818,
          -0.13029165791235717,
          0.03648733730706007
         ]
        },
        {
         "line": {
          "color": "rgba(55, 128, 191, 1.0)",
          "dash": "solid",
          "shape": "linear",
          "width": 1.3
         },
         "mode": "lines",
         "name": "B",
         "text": "",
         "type": "scatter",
         "x": [
          0,
          1,
          2,
          3,
          4,
          5,
          6,
          7,
          8,
          9,
          10,
          11,
          12,
          13,
          14,
          15,
          16,
          17,
          18,
          19,
          20,
          21,
          22,
          23,
          24,
          25,
          26,
          27,
          28,
          29,
          30,
          31,
          32,
          33,
          34,
          35,
          36,
          37,
          38,
          39,
          40,
          41,
          42,
          43,
          44,
          45,
          46,
          47,
          48,
          49,
          50,
          51,
          52,
          53,
          54,
          55,
          56,
          57,
          58,
          59,
          60,
          61,
          62,
          63,
          64,
          65,
          66,
          67,
          68,
          69,
          70,
          71,
          72,
          73,
          74,
          75,
          76,
          77,
          78,
          79,
          80,
          81,
          82,
          83,
          84,
          85,
          86,
          87,
          88,
          89,
          90,
          91,
          92,
          93,
          94,
          95,
          96,
          97,
          98,
          99
         ],
         "y": [
          -0.7115712083518633,
          0.20367831749698934,
          0.6134576546805096,
          -0.36570067643631643,
          -0.7159140308166888,
          -0.9239386716004879,
          2.5930230737700555,
          0.4147527987618448,
          -0.22996385762564714,
          0.5624676614965411,
          -1.5475325608234494,
          -0.6259507711406066,
          0.3056636097323393,
          0.20211511312646258,
          0.10374629106262659,
          1.814642590027516,
          -0.9618251387755197,
          2.148194545714763,
          0.9418063372995279,
          -1.756893092290613,
          -0.6451514937773778,
          -0.13200770808476447,
          0.872337004831524,
          2.3229673950851923,
          -0.4706761210576756,
          0.5164410724972459,
          -0.48565279600255373,
          -1.2521645968922077,
          0.190667708166508,
          -1.71765646431304,
          1.527954065750762,
          0.37401203490486645,
          -0.9774218888534799,
          0.7109426456154209,
          -0.6026932312876238,
          0.5456845135286027,
          0.6371851776297126,
          1.0541028159046348,
          -0.8355387155807726,
          1.0141605310042423,
          -0.32801098196297007,
          1.046053681722419,
          -0.6770303842667683,
          0.428153097306062,
          0.9140719808484178,
          0.8309841468257837,
          0.022583141337870448,
          -0.6262397051187514,
          -1.6071190249191691,
          -0.1989055676546752,
          0.5330744191733329,
          1.0761993457881287,
          1.8121764700303273,
          -1.2688836897989333,
          -1.7647514937908018,
          -2.482464341193299,
          -0.6078532786143386,
          0.010679248589527316,
          2.183394229236031,
          1.60963687506475,
          -1.0210660043618693,
          2.508243729834317,
          -0.23333220546062955,
          1.4028553391308474,
          -0.39244294429217097,
          -0.09295080049327233,
          1.1103292193372296,
          1.1949982096141774,
          -0.2989744322934105,
          0.8871375559852462,
          -1.368327962932662,
          0.20209814397912979,
          0.40926606668519244,
          -0.9215941758887686,
          0.9351089487739781,
          -0.24065253160275235,
          -0.11345971025377141,
          0.24372600294771427,
          0.455002801545644,
          0.1972947992569593,
          0.9717385724212538,
          -2.6044890057609646,
          -1.8119523545271286,
          0.9456288963313946,
          0.13644379478974555,
          -0.17657547306635485,
          -0.6080471675815619,
          0.6910563876875375,
          -0.1889085678147469,
          0.5062020601577284,
          -3.4814412422787626,
          -0.1844947741671853,
          2.43070381381801,
          0.8253619914959017,
          0.06003229469139,
          0.35353678611411077,
          -0.9648741956228961,
          -1.4325317580760464,
          -1.1132449693847992,
          -1.5049978733911864
         ]
        },
        {
         "connectgaps": false,
         "fill": "tozeroy",
         "line": {
          "color": "green",
          "dash": "solid",
          "shape": "linear",
          "width": 0.5
         },
         "mode": "lines",
         "name": "Spread",
         "showlegend": false,
         "type": "scatter",
         "x": [
          0,
          1,
          2,
          3,
          4,
          5,
          6,
          7,
          8,
          9,
          10,
          11,
          12,
          13,
          14,
          15,
          16,
          17,
          18,
          19,
          20,
          21,
          22,
          23,
          24,
          25,
          26,
          27,
          28,
          29,
          30,
          31,
          32,
          33,
          34,
          35,
          36,
          37,
          38,
          39,
          40,
          41,
          42,
          43,
          44,
          45,
          46,
          47,
          48,
          49,
          50,
          51,
          52,
          53,
          54,
          55,
          56,
          57,
          58,
          59,
          60,
          61,
          62,
          63,
          64,
          65,
          66,
          67,
          68,
          69,
          70,
          71,
          72,
          73,
          74,
          75,
          76,
          77,
          78,
          79,
          80,
          81,
          82,
          83,
          84,
          85,
          86,
          87,
          88,
          89,
          90,
          91,
          92,
          93,
          94,
          95,
          96,
          97,
          98,
          99
         ],
         "xaxis": "x2",
         "y": [
          0.016003780551522406,
          0.5059249941740847,
          "",
          0.9766412906246636,
          0.17923329623008533,
          1.7150160093522473,
          "",
          "",
          0.6678664203177174,
          "",
          0.8075664596467367,
          0.7978202752536516,
          "",
          "",
          0.5908758632658906,
          "",
          1.2089728821367904,
          "",
          "",
          2.9156878880018295,
          1.612070005655169,
          "",
          "",
          "",
          0.6226917506732468,
          "",
          1.0415802192652803,
          "",
          "",
          0.4174226235144691,
          "",
          0.46028328743288716,
          0.17762023565787155,
          0.019424281163498702,
          1.619338364824014,
          "",
          0.359815953777316,
          "",
          "",
          1.0319467205977348,
          "",
          0.13267626893588602,
          "",
          "",
          "",
          "",
          "",
          1.2143539304888766,
          0.9709949965225321,
          2.6146150485970843,
          "",
          "",
          "",
          0.7418954365179696,
          0.9216080300852842,
          3.0017616802407057,
          0.05580607370775159,
          0.31869016738168426,
          "",
          "",
          1.0700401644052748,
          "",
          "",
          "",
          "",
          "",
          "",
          "",
          0.27876745935263464,
          "",
          2.2154085167312356,
          "",
          "",
          1.1141411136808332,
          "",
          0.7584993870450719,
          "",
          "",
          "",
          1.9004083433219547,
          "",
          2.1243515724597075,
          0.39943674136075935,
          "",
          "",
          0.0836191611506725,
          1.3603363330953808,
          "",
          1.3273837041192844,
          0.8029196745414904,
          4.369415850376687,
          0.6565768404267402,
          "",
          "",
          0.2691060873037139,
          0.5171967728653657,
          0.8226799878257663,
          0.6529202372261645,
          0.982953311472442,
          1.5414852106982464
         ],
         "yaxis": "y2"
        },
        {
         "connectgaps": false,
         "fill": "tozeroy",
         "line": {
          "color": "red",
          "dash": "solid",
          "shape": "linear",
          "width": 0.5
         },
         "mode": "lines",
         "name": "Spread",
         "showlegend": false,
         "type": "scatter",
         "x": [
          0,
          1,
          2,
          3,
          4,
          5,
          6,
          7,
          8,
          9,
          10,
          11,
          12,
          13,
          14,
          15,
          16,
          17,
          18,
          19,
          20,
          21,
          22,
          23,
          24,
          25,
          26,
          27,
          28,
          29,
          30,
          31,
          32,
          33,
          34,
          35,
          36,
          37,
          38,
          39,
          40,
          41,
          42,
          43,
          44,
          45,
          46,
          47,
          48,
          49,
          50,
          51,
          52,
          53,
          54,
          55,
          56,
          57,
          58,
          59,
          60,
          61,
          62,
          63,
          64,
          65,
          66,
          67,
          68,
          69,
          70,
          71,
          72,
          73,
          74,
          75,
          76,
          77,
          78,
          79,
          80,
          81,
          82,
          83,
          84,
          85,
          86,
          87,
          88,
          89,
          90,
          91,
          92,
          93,
          94,
          95,
          96,
          97,
          98,
          99
         ],
         "xaxis": "x2",
         "y": [
          "",
          "",
          -1.077368902268589,
          "",
          "",
          "",
          -2.7125025001369636,
          -0.8882498159711252,
          "",
          -1.2787370653774843,
          "",
          "",
          -1.4358688045109824,
          -1.1469832424848518,
          "",
          -1.9427781711734606,
          "",
          -3.5498905965925,
          -0.675992097199775,
          "",
          "",
          -0.6607139014934936,
          -0.8048056752284803,
          -3.317762667475381,
          "",
          -0.487399396266094,
          "",
          -0.39450807651031417,
          -1.3380171764339401,
          "",
          -2.4609428356655347,
          "",
          "",
          "",
          "",
          -0.19999703743663172,
          "",
          -0.9624632452067635,
          -0.1471876719934162,
          "",
          -0.5807433090803092,
          "",
          -2.0085495069752413,
          -0.4671709927294541,
          -0.1421350508388567,
          -1.3140975548731915,
          -0.7481124302059287,
          "",
          "",
          "",
          -1.1326566637269746,
          -1.2815201802587644,
          -1.2507238165318326,
          "",
          "",
          "",
          "",
          "",
          -4.059195258823451,
          -3.9598864921237746,
          "",
          -3.5653423303075735,
          -1.3381697475621035,
          -0.5132848810723496,
          -0.36892220799523623,
          -0.2866853757313283,
          -0.8847129954490713,
          -0.08257503722564952,
          "",
          -1.0388493535262988,
          "",
          -1.9357233952434352,
          -0.4570875615508218,
          "",
          -0.7035347600363864,
          "",
          -0.2779733217551684,
          -0.04976008848560312,
          -0.4838222451987856,
          "",
          -0.23372065472856962,
          "",
          "",
          -1.0202386303696973,
          -0.4241778734055198,
          "",
          "",
          -2.2207804013915493,
          "",
          "",
          "",
          "",
          -2.932528836838766,
          -2.065257101154002,
          "",
          "",
          "",
          "",
          "",
          ""
         ],
         "yaxis": "y2"
        }
       ],
       "layout": {
        "hovermode": "x",
        "legend": {
         "bgcolor": "#F5F6F9",
         "font": {
          "color": "#4D5663"
         }
        },
        "paper_bgcolor": "#F5F6F9",
        "plot_bgcolor": "#F5F6F9",
        "template": {
         "data": {
          "bar": [
           {
            "error_x": {
             "color": "#2a3f5f"
            },
            "error_y": {
             "color": "#2a3f5f"
            },
            "marker": {
             "line": {
              "color": "#E5ECF6",
              "width": 0.5
             }
            },
            "type": "bar"
           }
          ],
          "barpolar": [
           {
            "marker": {
             "line": {
              "color": "#E5ECF6",
              "width": 0.5
             }
            },
            "type": "barpolar"
           }
          ],
          "carpet": [
           {
            "aaxis": {
             "endlinecolor": "#2a3f5f",
             "gridcolor": "white",
             "linecolor": "white",
             "minorgridcolor": "white",
             "startlinecolor": "#2a3f5f"
            },
            "baxis": {
             "endlinecolor": "#2a3f5f",
             "gridcolor": "white",
             "linecolor": "white",
             "minorgridcolor": "white",
             "startlinecolor": "#2a3f5f"
            },
            "type": "carpet"
           }
          ],
          "choropleth": [
           {
            "colorbar": {
             "outlinewidth": 0,
             "ticks": ""
            },
            "type": "choropleth"
           }
          ],
          "contour": [
           {
            "colorbar": {
             "outlinewidth": 0,
             "ticks": ""
            },
            "colorscale": [
             [
              0,
              "#0d0887"
             ],
             [
              0.1111111111111111,
              "#46039f"
             ],
             [
              0.2222222222222222,
              "#7201a8"
             ],
             [
              0.3333333333333333,
              "#9c179e"
             ],
             [
              0.4444444444444444,
              "#bd3786"
             ],
             [
              0.5555555555555556,
              "#d8576b"
             ],
             [
              0.6666666666666666,
              "#ed7953"
             ],
             [
              0.7777777777777778,
              "#fb9f3a"
             ],
             [
              0.8888888888888888,
              "#fdca26"
             ],
             [
              1,
              "#f0f921"
             ]
            ],
            "type": "contour"
           }
          ],
          "contourcarpet": [
           {
            "colorbar": {
             "outlinewidth": 0,
             "ticks": ""
            },
            "type": "contourcarpet"
           }
          ],
          "heatmap": [
           {
            "colorbar": {
             "outlinewidth": 0,
             "ticks": ""
            },
            "colorscale": [
             [
              0,
              "#0d0887"
             ],
             [
              0.1111111111111111,
              "#46039f"
             ],
             [
              0.2222222222222222,
              "#7201a8"
             ],
             [
              0.3333333333333333,
              "#9c179e"
             ],
             [
              0.4444444444444444,
              "#bd3786"
             ],
             [
              0.5555555555555556,
              "#d8576b"
             ],
             [
              0.6666666666666666,
              "#ed7953"
             ],
             [
              0.7777777777777778,
              "#fb9f3a"
             ],
             [
              0.8888888888888888,
              "#fdca26"
             ],
             [
              1,
              "#f0f921"
             ]
            ],
            "type": "heatmap"
           }
          ],
          "heatmapgl": [
           {
            "colorbar": {
             "outlinewidth": 0,
             "ticks": ""
            },
            "colorscale": [
             [
              0,
              "#0d0887"
             ],
             [
              0.1111111111111111,
              "#46039f"
             ],
             [
              0.2222222222222222,
              "#7201a8"
             ],
             [
              0.3333333333333333,
              "#9c179e"
             ],
             [
              0.4444444444444444,
              "#bd3786"
             ],
             [
              0.5555555555555556,
              "#d8576b"
             ],
             [
              0.6666666666666666,
              "#ed7953"
             ],
             [
              0.7777777777777778,
              "#fb9f3a"
             ],
             [
              0.8888888888888888,
              "#fdca26"
             ],
             [
              1,
              "#f0f921"
             ]
            ],
            "type": "heatmapgl"
           }
          ],
          "histogram": [
           {
            "marker": {
             "colorbar": {
              "outlinewidth": 0,
              "ticks": ""
             }
            },
            "type": "histogram"
           }
          ],
          "histogram2d": [
           {
            "colorbar": {
             "outlinewidth": 0,
             "ticks": ""
            },
            "colorscale": [
             [
              0,
              "#0d0887"
             ],
             [
              0.1111111111111111,
              "#46039f"
             ],
             [
              0.2222222222222222,
              "#7201a8"
             ],
             [
              0.3333333333333333,
              "#9c179e"
             ],
             [
              0.4444444444444444,
              "#bd3786"
             ],
             [
              0.5555555555555556,
              "#d8576b"
             ],
             [
              0.6666666666666666,
              "#ed7953"
             ],
             [
              0.7777777777777778,
              "#fb9f3a"
             ],
             [
              0.8888888888888888,
              "#fdca26"
             ],
             [
              1,
              "#f0f921"
             ]
            ],
            "type": "histogram2d"
           }
          ],
          "histogram2dcontour": [
           {
            "colorbar": {
             "outlinewidth": 0,
             "ticks": ""
            },
            "colorscale": [
             [
              0,
              "#0d0887"
             ],
             [
              0.1111111111111111,
              "#46039f"
             ],
             [
              0.2222222222222222,
              "#7201a8"
             ],
             [
              0.3333333333333333,
              "#9c179e"
             ],
             [
              0.4444444444444444,
              "#bd3786"
             ],
             [
              0.5555555555555556,
              "#d8576b"
             ],
             [
              0.6666666666666666,
              "#ed7953"
             ],
             [
              0.7777777777777778,
              "#fb9f3a"
             ],
             [
              0.8888888888888888,
              "#fdca26"
             ],
             [
              1,
              "#f0f921"
             ]
            ],
            "type": "histogram2dcontour"
           }
          ],
          "mesh3d": [
           {
            "colorbar": {
             "outlinewidth": 0,
             "ticks": ""
            },
            "type": "mesh3d"
           }
          ],
          "parcoords": [
           {
            "line": {
             "colorbar": {
              "outlinewidth": 0,
              "ticks": ""
             }
            },
            "type": "parcoords"
           }
          ],
          "pie": [
           {
            "automargin": true,
            "type": "pie"
           }
          ],
          "scatter": [
           {
            "marker": {
             "colorbar": {
              "outlinewidth": 0,
              "ticks": ""
             }
            },
            "type": "scatter"
           }
          ],
          "scatter3d": [
           {
            "line": {
             "colorbar": {
              "outlinewidth": 0,
              "ticks": ""
             }
            },
            "marker": {
             "colorbar": {
              "outlinewidth": 0,
              "ticks": ""
             }
            },
            "type": "scatter3d"
           }
          ],
          "scattercarpet": [
           {
            "marker": {
             "colorbar": {
              "outlinewidth": 0,
              "ticks": ""
             }
            },
            "type": "scattercarpet"
           }
          ],
          "scattergeo": [
           {
            "marker": {
             "colorbar": {
              "outlinewidth": 0,
              "ticks": ""
             }
            },
            "type": "scattergeo"
           }
          ],
          "scattergl": [
           {
            "marker": {
             "colorbar": {
              "outlinewidth": 0,
              "ticks": ""
             }
            },
            "type": "scattergl"
           }
          ],
          "scattermapbox": [
           {
            "marker": {
             "colorbar": {
              "outlinewidth": 0,
              "ticks": ""
             }
            },
            "type": "scattermapbox"
           }
          ],
          "scatterpolar": [
           {
            "marker": {
             "colorbar": {
              "outlinewidth": 0,
              "ticks": ""
             }
            },
            "type": "scatterpolar"
           }
          ],
          "scatterpolargl": [
           {
            "marker": {
             "colorbar": {
              "outlinewidth": 0,
              "ticks": ""
             }
            },
            "type": "scatterpolargl"
           }
          ],
          "scatterternary": [
           {
            "marker": {
             "colorbar": {
              "outlinewidth": 0,
              "ticks": ""
             }
            },
            "type": "scatterternary"
           }
          ],
          "surface": [
           {
            "colorbar": {
             "outlinewidth": 0,
             "ticks": ""
            },
            "colorscale": [
             [
              0,
              "#0d0887"
             ],
             [
              0.1111111111111111,
              "#46039f"
             ],
             [
              0.2222222222222222,
              "#7201a8"
             ],
             [
              0.3333333333333333,
              "#9c179e"
             ],
             [
              0.4444444444444444,
              "#bd3786"
             ],
             [
              0.5555555555555556,
              "#d8576b"
             ],
             [
              0.6666666666666666,
              "#ed7953"
             ],
             [
              0.7777777777777778,
              "#fb9f3a"
             ],
             [
              0.8888888888888888,
              "#fdca26"
             ],
             [
              1,
              "#f0f921"
             ]
            ],
            "type": "surface"
           }
          ],
          "table": [
           {
            "cells": {
             "fill": {
              "color": "#EBF0F8"
             },
             "line": {
              "color": "white"
             }
            },
            "header": {
             "fill": {
              "color": "#C8D4E3"
             },
             "line": {
              "color": "white"
             }
            },
            "type": "table"
           }
          ]
         },
         "layout": {
          "annotationdefaults": {
           "arrowcolor": "#2a3f5f",
           "arrowhead": 0,
           "arrowwidth": 1
          },
          "autotypenumbers": "strict",
          "coloraxis": {
           "colorbar": {
            "outlinewidth": 0,
            "ticks": ""
           }
          },
          "colorscale": {
           "diverging": [
            [
             0,
             "#8e0152"
            ],
            [
             0.1,
             "#c51b7d"
            ],
            [
             0.2,
             "#de77ae"
            ],
            [
             0.3,
             "#f1b6da"
            ],
            [
             0.4,
             "#fde0ef"
            ],
            [
             0.5,
             "#f7f7f7"
            ],
            [
             0.6,
             "#e6f5d0"
            ],
            [
             0.7,
             "#b8e186"
            ],
            [
             0.8,
             "#7fbc41"
            ],
            [
             0.9,
             "#4d9221"
            ],
            [
             1,
             "#276419"
            ]
           ],
           "sequential": [
            [
             0,
             "#0d0887"
            ],
            [
             0.1111111111111111,
             "#46039f"
            ],
            [
             0.2222222222222222,
             "#7201a8"
            ],
            [
             0.3333333333333333,
             "#9c179e"
            ],
            [
             0.4444444444444444,
             "#bd3786"
            ],
            [
             0.5555555555555556,
             "#d8576b"
            ],
            [
             0.6666666666666666,
             "#ed7953"
            ],
            [
             0.7777777777777778,
             "#fb9f3a"
            ],
            [
             0.8888888888888888,
             "#fdca26"
            ],
            [
             1,
             "#f0f921"
            ]
           ],
           "sequentialminus": [
            [
             0,
             "#0d0887"
            ],
            [
             0.1111111111111111,
             "#46039f"
            ],
            [
             0.2222222222222222,
             "#7201a8"
            ],
            [
             0.3333333333333333,
             "#9c179e"
            ],
            [
             0.4444444444444444,
             "#bd3786"
            ],
            [
             0.5555555555555556,
             "#d8576b"
            ],
            [
             0.6666666666666666,
             "#ed7953"
            ],
            [
             0.7777777777777778,
             "#fb9f3a"
            ],
            [
             0.8888888888888888,
             "#fdca26"
            ],
            [
             1,
             "#f0f921"
            ]
           ]
          },
          "colorway": [
           "#636efa",
           "#EF553B",
           "#00cc96",
           "#ab63fa",
           "#FFA15A",
           "#19d3f3",
           "#FF6692",
           "#B6E880",
           "#FF97FF",
           "#FECB52"
          ],
          "font": {
           "color": "#2a3f5f"
          },
          "geo": {
           "bgcolor": "white",
           "lakecolor": "white",
           "landcolor": "#E5ECF6",
           "showlakes": true,
           "showland": true,
           "subunitcolor": "white"
          },
          "hoverlabel": {
           "align": "left"
          },
          "hovermode": "closest",
          "mapbox": {
           "style": "light"
          },
          "paper_bgcolor": "white",
          "plot_bgcolor": "#E5ECF6",
          "polar": {
           "angularaxis": {
            "gridcolor": "white",
            "linecolor": "white",
            "ticks": ""
           },
           "bgcolor": "#E5ECF6",
           "radialaxis": {
            "gridcolor": "white",
            "linecolor": "white",
            "ticks": ""
           }
          },
          "scene": {
           "xaxis": {
            "backgroundcolor": "#E5ECF6",
            "gridcolor": "white",
            "gridwidth": 2,
            "linecolor": "white",
            "showbackground": true,
            "ticks": "",
            "zerolinecolor": "white"
           },
           "yaxis": {
            "backgroundcolor": "#E5ECF6",
            "gridcolor": "white",
            "gridwidth": 2,
            "linecolor": "white",
            "showbackground": true,
            "ticks": "",
            "zerolinecolor": "white"
           },
           "zaxis": {
            "backgroundcolor": "#E5ECF6",
            "gridcolor": "white",
            "gridwidth": 2,
            "linecolor": "white",
            "showbackground": true,
            "ticks": "",
            "zerolinecolor": "white"
           }
          },
          "shapedefaults": {
           "line": {
            "color": "#2a3f5f"
           }
          },
          "ternary": {
           "aaxis": {
            "gridcolor": "white",
            "linecolor": "white",
            "ticks": ""
           },
           "baxis": {
            "gridcolor": "white",
            "linecolor": "white",
            "ticks": ""
           },
           "bgcolor": "#E5ECF6",
           "caxis": {
            "gridcolor": "white",
            "linecolor": "white",
            "ticks": ""
           }
          },
          "title": {
           "x": 0.05
          },
          "xaxis": {
           "automargin": true,
           "gridcolor": "white",
           "linecolor": "white",
           "ticks": "",
           "title": {
            "standoff": 15
           },
           "zerolinecolor": "white",
           "zerolinewidth": 2
          },
          "yaxis": {
           "automargin": true,
           "gridcolor": "white",
           "linecolor": "white",
           "ticks": "",
           "title": {
            "standoff": 15
           },
           "zerolinecolor": "white",
           "zerolinewidth": 2
          }
         }
        },
        "title": {
         "font": {
          "color": "#4D5663"
         }
        },
        "xaxis": {
         "gridcolor": "#E1E5ED",
         "showgrid": true,
         "tickfont": {
          "color": "#4D5663"
         },
         "title": {
          "font": {
           "color": "#4D5663"
          },
          "text": ""
         },
         "zerolinecolor": "#E1E5ED"
        },
        "xaxis2": {
         "anchor": "y2",
         "gridcolor": "#E1E5ED",
         "showgrid": true,
         "showticklabels": false,
         "tickfont": {
          "color": "#4D5663"
         },
         "title": {
          "font": {
           "color": "#4D5663"
          },
          "text": ""
         },
         "zerolinecolor": "#E1E5ED"
        },
        "yaxis": {
         "domain": [
          0.3,
          1
         ],
         "gridcolor": "#E1E5ED",
         "showgrid": true,
         "tickfont": {
          "color": "#4D5663"
         },
         "title": {
          "font": {
           "color": "#4D5663"
          },
          "text": ""
         },
         "zerolinecolor": "#E1E5ED"
        },
        "yaxis2": {
         "domain": [
          0,
          0.25
         ],
         "gridcolor": "#E1E5ED",
         "showgrid": true,
         "tickfont": {
          "color": "#4D5663"
         },
         "title": {
          "font": {
           "color": "#4D5663"
          },
          "text": "Spread"
         },
         "zerolinecolor": "#E1E5ED"
        }
       }
      },
      "text/html": [
       "<div>                            <div id=\"c755a686-1ef4-48f4-8189-dcb7dccba951\" class=\"plotly-graph-div\" style=\"height:525px; width:100%;\"></div>            <script type=\"text/javascript\">                require([\"plotly\"], function(Plotly) {                    window.PLOTLYENV=window.PLOTLYENV || {};\n",
       "                    window.PLOTLYENV.BASE_URL='https://plot.ly';                                    if (document.getElementById(\"c755a686-1ef4-48f4-8189-dcb7dccba951\")) {                    Plotly.newPlot(                        \"c755a686-1ef4-48f4-8189-dcb7dccba951\",                        [{\"line\": {\"color\": \"rgba(255, 153, 51, 1.0)\", \"dash\": \"solid\", \"shape\": \"linear\", \"width\": 1.3}, \"mode\": \"lines\", \"name\": \"A\", \"text\": \"\", \"type\": \"scatter\", \"x\": [0, 1, 2, 3, 4, 5, 6, 7, 8, 9, 10, 11, 12, 13, 14, 15, 16, 17, 18, 19, 20, 21, 22, 23, 24, 25, 26, 27, 28, 29, 30, 31, 32, 33, 34, 35, 36, 37, 38, 39, 40, 41, 42, 43, 44, 45, 46, 47, 48, 49, 50, 51, 52, 53, 54, 55, 56, 57, 58, 59, 60, 61, 62, 63, 64, 65, 66, 67, 68, 69, 70, 71, 72, 73, 74, 75, 76, 77, 78, 79, 80, 81, 82, 83, 84, 85, 86, 87, 88, 89, 90, 91, 92, 93, 94, 95, 96, 97, 98, 99], \"y\": [-0.6955674278003409, 0.709603311671074, -0.4639112475880794, 0.6109406141883472, -0.5366807345866035, 0.7910773377517595, -0.11947942636690821, -0.47349701720928045, 0.4379025626920702, -0.7162694038809432, -0.7399661011767127, 0.17186950411304497, -1.1302051947786431, -0.9448681293583892, 0.6946221543285171, -0.12813558114594467, 0.24714774336127074, -1.401696050877737, 0.2658142400997529, 1.1587947957112168, 0.966918511877791, -0.7927216095782581, 0.06753132960304364, -0.9947952723901883, 0.1520156296155712, 0.02904167623115189, 0.5559274232627266, -1.6466726734025219, -1.1473494682674321, -1.300233840798571, -0.9329887699147729, 0.8342953223377536, -0.7998016531956084, 0.7303669267789196, 1.0166451335363904, 0.345687476091971, 0.9970011314070286, 0.09163957069787133, -0.9827263875741888, 2.046107251601977, -0.9087542910432793, 1.178729950658305, -2.6855798912420097, -0.039017895423392124, 0.7719369300095611, -0.4831134080474078, -0.7255292888680582, 0.5881142253701253, -0.6361240283966371, 2.415709480942409, -0.5995822445536416, -0.2053208344706357, 0.5614526534984946, -0.5269882532809637, -0.8431434637055175, 0.5192973390474064, -0.552047204906587, 0.32936941597121155, -1.8758010295874192, -2.3502496170590246, 0.048974160043405456, -1.0570986004732563, -1.571501953022733, 0.8895704580584978, -0.7613651522874072, -0.3796361762246006, 0.2256162238881583, 1.1124231723885278, -0.02020697294077586, -0.15171179754105252, 0.8470805537985738, -1.7336252512643053, -0.04782149486562937, 0.19254693779206455, 0.23157418873759167, 0.5178468554423196, -0.3914330320089398, 0.19396591446211114, -0.028819443653141583, 2.097703142578914, 0.7380179176926842, -0.4801374333012573, -1.4125156131663692, -0.07460973403830272, -0.28773407861577427, -0.09295631191568235, 0.7522891655138189, -1.5297240137040118, 1.1384751363045376, 1.3091217346992188, 0.8879746080979246, 0.4720820662595549, -0.5018250230207556, -1.2398951096581001, 0.32913838199510387, 0.8707335589794765, -0.1421942077971298, -0.7796115208498818, -0.13029165791235717, 0.03648733730706007]}, {\"line\": {\"color\": \"rgba(55, 128, 191, 1.0)\", \"dash\": \"solid\", \"shape\": \"linear\", \"width\": 1.3}, \"mode\": \"lines\", \"name\": \"B\", \"text\": \"\", \"type\": \"scatter\", \"x\": [0, 1, 2, 3, 4, 5, 6, 7, 8, 9, 10, 11, 12, 13, 14, 15, 16, 17, 18, 19, 20, 21, 22, 23, 24, 25, 26, 27, 28, 29, 30, 31, 32, 33, 34, 35, 36, 37, 38, 39, 40, 41, 42, 43, 44, 45, 46, 47, 48, 49, 50, 51, 52, 53, 54, 55, 56, 57, 58, 59, 60, 61, 62, 63, 64, 65, 66, 67, 68, 69, 70, 71, 72, 73, 74, 75, 76, 77, 78, 79, 80, 81, 82, 83, 84, 85, 86, 87, 88, 89, 90, 91, 92, 93, 94, 95, 96, 97, 98, 99], \"y\": [-0.7115712083518633, 0.20367831749698934, 0.6134576546805096, -0.36570067643631643, -0.7159140308166888, -0.9239386716004879, 2.5930230737700555, 0.4147527987618448, -0.22996385762564714, 0.5624676614965411, -1.5475325608234494, -0.6259507711406066, 0.3056636097323393, 0.20211511312646258, 0.10374629106262659, 1.814642590027516, -0.9618251387755197, 2.148194545714763, 0.9418063372995279, -1.756893092290613, -0.6451514937773778, -0.13200770808476447, 0.872337004831524, 2.3229673950851923, -0.4706761210576756, 0.5164410724972459, -0.48565279600255373, -1.2521645968922077, 0.190667708166508, -1.71765646431304, 1.527954065750762, 0.37401203490486645, -0.9774218888534799, 0.7109426456154209, -0.6026932312876238, 0.5456845135286027, 0.6371851776297126, 1.0541028159046348, -0.8355387155807726, 1.0141605310042423, -0.32801098196297007, 1.046053681722419, -0.6770303842667683, 0.428153097306062, 0.9140719808484178, 0.8309841468257837, 0.022583141337870448, -0.6262397051187514, -1.6071190249191691, -0.1989055676546752, 0.5330744191733329, 1.0761993457881287, 1.8121764700303273, -1.2688836897989333, -1.7647514937908018, -2.482464341193299, -0.6078532786143386, 0.010679248589527316, 2.183394229236031, 1.60963687506475, -1.0210660043618693, 2.508243729834317, -0.23333220546062955, 1.4028553391308474, -0.39244294429217097, -0.09295080049327233, 1.1103292193372296, 1.1949982096141774, -0.2989744322934105, 0.8871375559852462, -1.368327962932662, 0.20209814397912979, 0.40926606668519244, -0.9215941758887686, 0.9351089487739781, -0.24065253160275235, -0.11345971025377141, 0.24372600294771427, 0.455002801545644, 0.1972947992569593, 0.9717385724212538, -2.6044890057609646, -1.8119523545271286, 0.9456288963313946, 0.13644379478974555, -0.17657547306635485, -0.6080471675815619, 0.6910563876875375, -0.1889085678147469, 0.5062020601577284, -3.4814412422787626, -0.1844947741671853, 2.43070381381801, 0.8253619914959017, 0.06003229469139, 0.35353678611411077, -0.9648741956228961, -1.4325317580760464, -1.1132449693847992, -1.5049978733911864]}, {\"connectgaps\": false, \"fill\": \"tozeroy\", \"line\": {\"color\": \"green\", \"dash\": \"solid\", \"shape\": \"linear\", \"width\": 0.5}, \"mode\": \"lines\", \"name\": \"Spread\", \"showlegend\": false, \"type\": \"scatter\", \"x\": [0, 1, 2, 3, 4, 5, 6, 7, 8, 9, 10, 11, 12, 13, 14, 15, 16, 17, 18, 19, 20, 21, 22, 23, 24, 25, 26, 27, 28, 29, 30, 31, 32, 33, 34, 35, 36, 37, 38, 39, 40, 41, 42, 43, 44, 45, 46, 47, 48, 49, 50, 51, 52, 53, 54, 55, 56, 57, 58, 59, 60, 61, 62, 63, 64, 65, 66, 67, 68, 69, 70, 71, 72, 73, 74, 75, 76, 77, 78, 79, 80, 81, 82, 83, 84, 85, 86, 87, 88, 89, 90, 91, 92, 93, 94, 95, 96, 97, 98, 99], \"xaxis\": \"x2\", \"y\": [0.016003780551522406, 0.5059249941740847, \"\", 0.9766412906246636, 0.17923329623008533, 1.7150160093522473, \"\", \"\", 0.6678664203177174, \"\", 0.8075664596467367, 0.7978202752536516, \"\", \"\", 0.5908758632658906, \"\", 1.2089728821367904, \"\", \"\", 2.9156878880018295, 1.612070005655169, \"\", \"\", \"\", 0.6226917506732468, \"\", 1.0415802192652803, \"\", \"\", 0.4174226235144691, \"\", 0.46028328743288716, 0.17762023565787155, 0.019424281163498702, 1.619338364824014, \"\", 0.359815953777316, \"\", \"\", 1.0319467205977348, \"\", 0.13267626893588602, \"\", \"\", \"\", \"\", \"\", 1.2143539304888766, 0.9709949965225321, 2.6146150485970843, \"\", \"\", \"\", 0.7418954365179696, 0.9216080300852842, 3.0017616802407057, 0.05580607370775159, 0.31869016738168426, \"\", \"\", 1.0700401644052748, \"\", \"\", \"\", \"\", \"\", \"\", \"\", 0.27876745935263464, \"\", 2.2154085167312356, \"\", \"\", 1.1141411136808332, \"\", 0.7584993870450719, \"\", \"\", \"\", 1.9004083433219547, \"\", 2.1243515724597075, 0.39943674136075935, \"\", \"\", 0.0836191611506725, 1.3603363330953808, \"\", 1.3273837041192844, 0.8029196745414904, 4.369415850376687, 0.6565768404267402, \"\", \"\", 0.2691060873037139, 0.5171967728653657, 0.8226799878257663, 0.6529202372261645, 0.982953311472442, 1.5414852106982464], \"yaxis\": \"y2\"}, {\"connectgaps\": false, \"fill\": \"tozeroy\", \"line\": {\"color\": \"red\", \"dash\": \"solid\", \"shape\": \"linear\", \"width\": 0.5}, \"mode\": \"lines\", \"name\": \"Spread\", \"showlegend\": false, \"type\": \"scatter\", \"x\": [0, 1, 2, 3, 4, 5, 6, 7, 8, 9, 10, 11, 12, 13, 14, 15, 16, 17, 18, 19, 20, 21, 22, 23, 24, 25, 26, 27, 28, 29, 30, 31, 32, 33, 34, 35, 36, 37, 38, 39, 40, 41, 42, 43, 44, 45, 46, 47, 48, 49, 50, 51, 52, 53, 54, 55, 56, 57, 58, 59, 60, 61, 62, 63, 64, 65, 66, 67, 68, 69, 70, 71, 72, 73, 74, 75, 76, 77, 78, 79, 80, 81, 82, 83, 84, 85, 86, 87, 88, 89, 90, 91, 92, 93, 94, 95, 96, 97, 98, 99], \"xaxis\": \"x2\", \"y\": [\"\", \"\", -1.077368902268589, \"\", \"\", \"\", -2.7125025001369636, -0.8882498159711252, \"\", -1.2787370653774843, \"\", \"\", -1.4358688045109824, -1.1469832424848518, \"\", -1.9427781711734606, \"\", -3.5498905965925, -0.675992097199775, \"\", \"\", -0.6607139014934936, -0.8048056752284803, -3.317762667475381, \"\", -0.487399396266094, \"\", -0.39450807651031417, -1.3380171764339401, \"\", -2.4609428356655347, \"\", \"\", \"\", \"\", -0.19999703743663172, \"\", -0.9624632452067635, -0.1471876719934162, \"\", -0.5807433090803092, \"\", -2.0085495069752413, -0.4671709927294541, -0.1421350508388567, -1.3140975548731915, -0.7481124302059287, \"\", \"\", \"\", -1.1326566637269746, -1.2815201802587644, -1.2507238165318326, \"\", \"\", \"\", \"\", \"\", -4.059195258823451, -3.9598864921237746, \"\", -3.5653423303075735, -1.3381697475621035, -0.5132848810723496, -0.36892220799523623, -0.2866853757313283, -0.8847129954490713, -0.08257503722564952, \"\", -1.0388493535262988, \"\", -1.9357233952434352, -0.4570875615508218, \"\", -0.7035347600363864, \"\", -0.2779733217551684, -0.04976008848560312, -0.4838222451987856, \"\", -0.23372065472856962, \"\", \"\", -1.0202386303696973, -0.4241778734055198, \"\", \"\", -2.2207804013915493, \"\", \"\", \"\", \"\", -2.932528836838766, -2.065257101154002, \"\", \"\", \"\", \"\", \"\", \"\"], \"yaxis\": \"y2\"}],                        {\"hovermode\": \"x\", \"legend\": {\"bgcolor\": \"#F5F6F9\", \"font\": {\"color\": \"#4D5663\"}}, \"paper_bgcolor\": \"#F5F6F9\", \"plot_bgcolor\": \"#F5F6F9\", \"template\": {\"data\": {\"bar\": [{\"error_x\": {\"color\": \"#2a3f5f\"}, \"error_y\": {\"color\": \"#2a3f5f\"}, \"marker\": {\"line\": {\"color\": \"#E5ECF6\", \"width\": 0.5}}, \"type\": \"bar\"}], \"barpolar\": [{\"marker\": {\"line\": {\"color\": \"#E5ECF6\", \"width\": 0.5}}, \"type\": \"barpolar\"}], \"carpet\": [{\"aaxis\": {\"endlinecolor\": \"#2a3f5f\", \"gridcolor\": \"white\", \"linecolor\": \"white\", \"minorgridcolor\": \"white\", \"startlinecolor\": \"#2a3f5f\"}, \"baxis\": {\"endlinecolor\": \"#2a3f5f\", \"gridcolor\": \"white\", \"linecolor\": \"white\", \"minorgridcolor\": \"white\", \"startlinecolor\": \"#2a3f5f\"}, \"type\": \"carpet\"}], \"choropleth\": [{\"colorbar\": {\"outlinewidth\": 0, \"ticks\": \"\"}, \"type\": \"choropleth\"}], \"contour\": [{\"colorbar\": {\"outlinewidth\": 0, \"ticks\": \"\"}, \"colorscale\": [[0.0, \"#0d0887\"], [0.1111111111111111, \"#46039f\"], [0.2222222222222222, \"#7201a8\"], [0.3333333333333333, \"#9c179e\"], [0.4444444444444444, \"#bd3786\"], [0.5555555555555556, \"#d8576b\"], [0.6666666666666666, \"#ed7953\"], [0.7777777777777778, \"#fb9f3a\"], [0.8888888888888888, \"#fdca26\"], [1.0, \"#f0f921\"]], \"type\": \"contour\"}], \"contourcarpet\": [{\"colorbar\": {\"outlinewidth\": 0, \"ticks\": \"\"}, \"type\": \"contourcarpet\"}], \"heatmap\": [{\"colorbar\": {\"outlinewidth\": 0, \"ticks\": \"\"}, \"colorscale\": [[0.0, \"#0d0887\"], [0.1111111111111111, \"#46039f\"], [0.2222222222222222, \"#7201a8\"], [0.3333333333333333, \"#9c179e\"], [0.4444444444444444, \"#bd3786\"], [0.5555555555555556, \"#d8576b\"], [0.6666666666666666, \"#ed7953\"], [0.7777777777777778, \"#fb9f3a\"], [0.8888888888888888, \"#fdca26\"], [1.0, \"#f0f921\"]], \"type\": \"heatmap\"}], \"heatmapgl\": [{\"colorbar\": {\"outlinewidth\": 0, \"ticks\": \"\"}, \"colorscale\": [[0.0, \"#0d0887\"], [0.1111111111111111, \"#46039f\"], [0.2222222222222222, \"#7201a8\"], [0.3333333333333333, \"#9c179e\"], [0.4444444444444444, \"#bd3786\"], [0.5555555555555556, \"#d8576b\"], [0.6666666666666666, \"#ed7953\"], [0.7777777777777778, \"#fb9f3a\"], [0.8888888888888888, \"#fdca26\"], [1.0, \"#f0f921\"]], \"type\": \"heatmapgl\"}], \"histogram\": [{\"marker\": {\"colorbar\": {\"outlinewidth\": 0, \"ticks\": \"\"}}, \"type\": \"histogram\"}], \"histogram2d\": [{\"colorbar\": {\"outlinewidth\": 0, \"ticks\": \"\"}, \"colorscale\": [[0.0, \"#0d0887\"], [0.1111111111111111, \"#46039f\"], [0.2222222222222222, \"#7201a8\"], [0.3333333333333333, \"#9c179e\"], [0.4444444444444444, \"#bd3786\"], [0.5555555555555556, \"#d8576b\"], [0.6666666666666666, \"#ed7953\"], [0.7777777777777778, \"#fb9f3a\"], [0.8888888888888888, \"#fdca26\"], [1.0, \"#f0f921\"]], \"type\": \"histogram2d\"}], \"histogram2dcontour\": [{\"colorbar\": {\"outlinewidth\": 0, \"ticks\": \"\"}, \"colorscale\": [[0.0, \"#0d0887\"], [0.1111111111111111, \"#46039f\"], [0.2222222222222222, \"#7201a8\"], [0.3333333333333333, \"#9c179e\"], [0.4444444444444444, \"#bd3786\"], [0.5555555555555556, \"#d8576b\"], [0.6666666666666666, \"#ed7953\"], [0.7777777777777778, \"#fb9f3a\"], [0.8888888888888888, \"#fdca26\"], [1.0, \"#f0f921\"]], \"type\": \"histogram2dcontour\"}], \"mesh3d\": [{\"colorbar\": {\"outlinewidth\": 0, \"ticks\": \"\"}, \"type\": \"mesh3d\"}], \"parcoords\": [{\"line\": {\"colorbar\": {\"outlinewidth\": 0, \"ticks\": \"\"}}, \"type\": \"parcoords\"}], \"pie\": [{\"automargin\": true, \"type\": \"pie\"}], \"scatter\": [{\"marker\": {\"colorbar\": {\"outlinewidth\": 0, \"ticks\": \"\"}}, \"type\": \"scatter\"}], \"scatter3d\": [{\"line\": {\"colorbar\": {\"outlinewidth\": 0, \"ticks\": \"\"}}, \"marker\": {\"colorbar\": {\"outlinewidth\": 0, \"ticks\": \"\"}}, \"type\": \"scatter3d\"}], \"scattercarpet\": [{\"marker\": {\"colorbar\": {\"outlinewidth\": 0, \"ticks\": \"\"}}, \"type\": \"scattercarpet\"}], \"scattergeo\": [{\"marker\": {\"colorbar\": {\"outlinewidth\": 0, \"ticks\": \"\"}}, \"type\": \"scattergeo\"}], \"scattergl\": [{\"marker\": {\"colorbar\": {\"outlinewidth\": 0, \"ticks\": \"\"}}, \"type\": \"scattergl\"}], \"scattermapbox\": [{\"marker\": {\"colorbar\": {\"outlinewidth\": 0, \"ticks\": \"\"}}, \"type\": \"scattermapbox\"}], \"scatterpolar\": [{\"marker\": {\"colorbar\": {\"outlinewidth\": 0, \"ticks\": \"\"}}, \"type\": \"scatterpolar\"}], \"scatterpolargl\": [{\"marker\": {\"colorbar\": {\"outlinewidth\": 0, \"ticks\": \"\"}}, \"type\": \"scatterpolargl\"}], \"scatterternary\": [{\"marker\": {\"colorbar\": {\"outlinewidth\": 0, \"ticks\": \"\"}}, \"type\": \"scatterternary\"}], \"surface\": [{\"colorbar\": {\"outlinewidth\": 0, \"ticks\": \"\"}, \"colorscale\": [[0.0, \"#0d0887\"], [0.1111111111111111, \"#46039f\"], [0.2222222222222222, \"#7201a8\"], [0.3333333333333333, \"#9c179e\"], [0.4444444444444444, \"#bd3786\"], [0.5555555555555556, \"#d8576b\"], [0.6666666666666666, \"#ed7953\"], [0.7777777777777778, \"#fb9f3a\"], [0.8888888888888888, \"#fdca26\"], [1.0, \"#f0f921\"]], \"type\": \"surface\"}], \"table\": [{\"cells\": {\"fill\": {\"color\": \"#EBF0F8\"}, \"line\": {\"color\": \"white\"}}, \"header\": {\"fill\": {\"color\": \"#C8D4E3\"}, \"line\": {\"color\": \"white\"}}, \"type\": \"table\"}]}, \"layout\": {\"annotationdefaults\": {\"arrowcolor\": \"#2a3f5f\", \"arrowhead\": 0, \"arrowwidth\": 1}, \"autotypenumbers\": \"strict\", \"coloraxis\": {\"colorbar\": {\"outlinewidth\": 0, \"ticks\": \"\"}}, \"colorscale\": {\"diverging\": [[0, \"#8e0152\"], [0.1, \"#c51b7d\"], [0.2, \"#de77ae\"], [0.3, \"#f1b6da\"], [0.4, \"#fde0ef\"], [0.5, \"#f7f7f7\"], [0.6, \"#e6f5d0\"], [0.7, \"#b8e186\"], [0.8, \"#7fbc41\"], [0.9, \"#4d9221\"], [1, \"#276419\"]], \"sequential\": [[0.0, \"#0d0887\"], [0.1111111111111111, \"#46039f\"], [0.2222222222222222, \"#7201a8\"], [0.3333333333333333, \"#9c179e\"], [0.4444444444444444, \"#bd3786\"], [0.5555555555555556, \"#d8576b\"], [0.6666666666666666, \"#ed7953\"], [0.7777777777777778, \"#fb9f3a\"], [0.8888888888888888, \"#fdca26\"], [1.0, \"#f0f921\"]], \"sequentialminus\": [[0.0, \"#0d0887\"], [0.1111111111111111, \"#46039f\"], [0.2222222222222222, \"#7201a8\"], [0.3333333333333333, \"#9c179e\"], [0.4444444444444444, \"#bd3786\"], [0.5555555555555556, \"#d8576b\"], [0.6666666666666666, \"#ed7953\"], [0.7777777777777778, \"#fb9f3a\"], [0.8888888888888888, \"#fdca26\"], [1.0, \"#f0f921\"]]}, \"colorway\": [\"#636efa\", \"#EF553B\", \"#00cc96\", \"#ab63fa\", \"#FFA15A\", \"#19d3f3\", \"#FF6692\", \"#B6E880\", \"#FF97FF\", \"#FECB52\"], \"font\": {\"color\": \"#2a3f5f\"}, \"geo\": {\"bgcolor\": \"white\", \"lakecolor\": \"white\", \"landcolor\": \"#E5ECF6\", \"showlakes\": true, \"showland\": true, \"subunitcolor\": \"white\"}, \"hoverlabel\": {\"align\": \"left\"}, \"hovermode\": \"closest\", \"mapbox\": {\"style\": \"light\"}, \"paper_bgcolor\": \"white\", \"plot_bgcolor\": \"#E5ECF6\", \"polar\": {\"angularaxis\": {\"gridcolor\": \"white\", \"linecolor\": \"white\", \"ticks\": \"\"}, \"bgcolor\": \"#E5ECF6\", \"radialaxis\": {\"gridcolor\": \"white\", \"linecolor\": \"white\", \"ticks\": \"\"}}, \"scene\": {\"xaxis\": {\"backgroundcolor\": \"#E5ECF6\", \"gridcolor\": \"white\", \"gridwidth\": 2, \"linecolor\": \"white\", \"showbackground\": true, \"ticks\": \"\", \"zerolinecolor\": \"white\"}, \"yaxis\": {\"backgroundcolor\": \"#E5ECF6\", \"gridcolor\": \"white\", \"gridwidth\": 2, \"linecolor\": \"white\", \"showbackground\": true, \"ticks\": \"\", \"zerolinecolor\": \"white\"}, \"zaxis\": {\"backgroundcolor\": \"#E5ECF6\", \"gridcolor\": \"white\", \"gridwidth\": 2, \"linecolor\": \"white\", \"showbackground\": true, \"ticks\": \"\", \"zerolinecolor\": \"white\"}}, \"shapedefaults\": {\"line\": {\"color\": \"#2a3f5f\"}}, \"ternary\": {\"aaxis\": {\"gridcolor\": \"white\", \"linecolor\": \"white\", \"ticks\": \"\"}, \"baxis\": {\"gridcolor\": \"white\", \"linecolor\": \"white\", \"ticks\": \"\"}, \"bgcolor\": \"#E5ECF6\", \"caxis\": {\"gridcolor\": \"white\", \"linecolor\": \"white\", \"ticks\": \"\"}}, \"title\": {\"x\": 0.05}, \"xaxis\": {\"automargin\": true, \"gridcolor\": \"white\", \"linecolor\": \"white\", \"ticks\": \"\", \"title\": {\"standoff\": 15}, \"zerolinecolor\": \"white\", \"zerolinewidth\": 2}, \"yaxis\": {\"automargin\": true, \"gridcolor\": \"white\", \"linecolor\": \"white\", \"ticks\": \"\", \"title\": {\"standoff\": 15}, \"zerolinecolor\": \"white\", \"zerolinewidth\": 2}}}, \"title\": {\"font\": {\"color\": \"#4D5663\"}}, \"xaxis\": {\"gridcolor\": \"#E1E5ED\", \"showgrid\": true, \"tickfont\": {\"color\": \"#4D5663\"}, \"title\": {\"font\": {\"color\": \"#4D5663\"}, \"text\": \"\"}, \"zerolinecolor\": \"#E1E5ED\"}, \"xaxis2\": {\"anchor\": \"y2\", \"gridcolor\": \"#E1E5ED\", \"showgrid\": true, \"showticklabels\": false, \"tickfont\": {\"color\": \"#4D5663\"}, \"title\": {\"font\": {\"color\": \"#4D5663\"}, \"text\": \"\"}, \"zerolinecolor\": \"#E1E5ED\"}, \"yaxis\": {\"domain\": [0.3, 1], \"gridcolor\": \"#E1E5ED\", \"showgrid\": true, \"tickfont\": {\"color\": \"#4D5663\"}, \"title\": {\"font\": {\"color\": \"#4D5663\"}, \"text\": \"\"}, \"zerolinecolor\": \"#E1E5ED\"}, \"yaxis2\": {\"domain\": [0, 0.25], \"gridcolor\": \"#E1E5ED\", \"showgrid\": true, \"tickfont\": {\"color\": \"#4D5663\"}, \"title\": {\"font\": {\"color\": \"#4D5663\"}, \"text\": \"Spread\"}, \"zerolinecolor\": \"#E1E5ED\"}},                        {\"showLink\": true, \"linkText\": \"Export to plot.ly\", \"plotlyServerURL\": \"https://plot.ly\", \"responsive\": true}                    ).then(function(){\n",
       "                            \n",
       "var gd = document.getElementById('c755a686-1ef4-48f4-8189-dcb7dccba951');\n",
       "var x = new MutationObserver(function (mutations, observer) {{\n",
       "        var display = window.getComputedStyle(gd).display;\n",
       "        if (!display || display === 'none') {{\n",
       "            console.log([gd, 'removed!']);\n",
       "            Plotly.purge(gd);\n",
       "            observer.disconnect();\n",
       "        }}\n",
       "}});\n",
       "\n",
       "// Listen for the removal of the full notebook cells\n",
       "var notebookContainer = gd.closest('#notebook-container');\n",
       "if (notebookContainer) {{\n",
       "    x.observe(notebookContainer, {childList: true});\n",
       "}}\n",
       "\n",
       "// Listen for the clearing of the current output cell\n",
       "var outputEl = gd.closest('.output');\n",
       "if (outputEl) {{\n",
       "    x.observe(outputEl, {childList: true});\n",
       "}}\n",
       "\n",
       "                        })                };                });            </script>        </div>"
      ]
     },
     "metadata": {},
     "output_type": "display_data"
    }
   ],
   "source": [
    "df[['A','B']].iplot(kind='spread')"
   ]
  },
  {
   "cell_type": "markdown",
   "metadata": {},
   "source": [
    "<img src=\"images/plotly6.png\"/>"
   ]
  },
  {
   "cell_type": "markdown",
   "metadata": {},
   "source": [
    "## histogram"
   ]
  },
  {
   "cell_type": "code",
   "execution_count": 17,
   "metadata": {},
   "outputs": [
    {
     "data": {
      "application/vnd.plotly.v1+json": {
       "config": {
        "linkText": "Export to plot.ly",
        "plotlyServerURL": "https://plot.ly",
        "showLink": true
       },
       "data": [
        {
         "histfunc": "count",
         "histnorm": "",
         "marker": {
          "color": "rgba(255, 153, 51, 1.0)",
          "line": {
           "color": "#4D5663",
           "width": 1.3
          }
         },
         "name": "A",
         "nbinsx": 25,
         "opacity": 0.8,
         "orientation": "v",
         "type": "histogram",
         "x": [
          -0.6955674278003409,
          0.709603311671074,
          -0.4639112475880794,
          0.6109406141883472,
          -0.5366807345866035,
          0.7910773377517595,
          -0.11947942636690821,
          -0.47349701720928045,
          0.4379025626920702,
          -0.7162694038809432,
          -0.7399661011767127,
          0.17186950411304497,
          -1.1302051947786431,
          -0.9448681293583892,
          0.6946221543285171,
          -0.12813558114594467,
          0.24714774336127074,
          -1.401696050877737,
          0.2658142400997529,
          1.1587947957112168,
          0.966918511877791,
          -0.7927216095782581,
          0.06753132960304364,
          -0.9947952723901883,
          0.1520156296155712,
          0.02904167623115189,
          0.5559274232627266,
          -1.6466726734025219,
          -1.1473494682674321,
          -1.300233840798571,
          -0.9329887699147729,
          0.8342953223377536,
          -0.7998016531956084,
          0.7303669267789196,
          1.0166451335363904,
          0.345687476091971,
          0.9970011314070286,
          0.09163957069787133,
          -0.9827263875741888,
          2.046107251601977,
          -0.9087542910432793,
          1.178729950658305,
          -2.6855798912420097,
          -0.039017895423392124,
          0.7719369300095611,
          -0.4831134080474078,
          -0.7255292888680582,
          0.5881142253701253,
          -0.6361240283966371,
          2.415709480942409,
          -0.5995822445536416,
          -0.2053208344706357,
          0.5614526534984946,
          -0.5269882532809637,
          -0.8431434637055175,
          0.5192973390474064,
          -0.552047204906587,
          0.32936941597121155,
          -1.8758010295874192,
          -2.3502496170590246,
          0.048974160043405456,
          -1.0570986004732563,
          -1.571501953022733,
          0.8895704580584978,
          -0.7613651522874072,
          -0.3796361762246006,
          0.2256162238881583,
          1.1124231723885278,
          -0.02020697294077586,
          -0.15171179754105252,
          0.8470805537985738,
          -1.7336252512643053,
          -0.04782149486562937,
          0.19254693779206455,
          0.23157418873759167,
          0.5178468554423196,
          -0.3914330320089398,
          0.19396591446211114,
          -0.028819443653141583,
          2.097703142578914,
          0.7380179176926842,
          -0.4801374333012573,
          -1.4125156131663692,
          -0.07460973403830272,
          -0.28773407861577427,
          -0.09295631191568235,
          0.7522891655138189,
          -1.5297240137040118,
          1.1384751363045376,
          1.3091217346992188,
          0.8879746080979246,
          0.4720820662595549,
          -0.5018250230207556,
          -1.2398951096581001,
          0.32913838199510387,
          0.8707335589794765,
          -0.1421942077971298,
          -0.7796115208498818,
          -0.13029165791235717,
          0.03648733730706007
         ]
        }
       ],
       "layout": {
        "barmode": "overlay",
        "legend": {
         "bgcolor": "#F5F6F9",
         "font": {
          "color": "#4D5663"
         }
        },
        "paper_bgcolor": "#F5F6F9",
        "plot_bgcolor": "#F5F6F9",
        "template": {
         "data": {
          "bar": [
           {
            "error_x": {
             "color": "#2a3f5f"
            },
            "error_y": {
             "color": "#2a3f5f"
            },
            "marker": {
             "line": {
              "color": "#E5ECF6",
              "width": 0.5
             }
            },
            "type": "bar"
           }
          ],
          "barpolar": [
           {
            "marker": {
             "line": {
              "color": "#E5ECF6",
              "width": 0.5
             }
            },
            "type": "barpolar"
           }
          ],
          "carpet": [
           {
            "aaxis": {
             "endlinecolor": "#2a3f5f",
             "gridcolor": "white",
             "linecolor": "white",
             "minorgridcolor": "white",
             "startlinecolor": "#2a3f5f"
            },
            "baxis": {
             "endlinecolor": "#2a3f5f",
             "gridcolor": "white",
             "linecolor": "white",
             "minorgridcolor": "white",
             "startlinecolor": "#2a3f5f"
            },
            "type": "carpet"
           }
          ],
          "choropleth": [
           {
            "colorbar": {
             "outlinewidth": 0,
             "ticks": ""
            },
            "type": "choropleth"
           }
          ],
          "contour": [
           {
            "colorbar": {
             "outlinewidth": 0,
             "ticks": ""
            },
            "colorscale": [
             [
              0,
              "#0d0887"
             ],
             [
              0.1111111111111111,
              "#46039f"
             ],
             [
              0.2222222222222222,
              "#7201a8"
             ],
             [
              0.3333333333333333,
              "#9c179e"
             ],
             [
              0.4444444444444444,
              "#bd3786"
             ],
             [
              0.5555555555555556,
              "#d8576b"
             ],
             [
              0.6666666666666666,
              "#ed7953"
             ],
             [
              0.7777777777777778,
              "#fb9f3a"
             ],
             [
              0.8888888888888888,
              "#fdca26"
             ],
             [
              1,
              "#f0f921"
             ]
            ],
            "type": "contour"
           }
          ],
          "contourcarpet": [
           {
            "colorbar": {
             "outlinewidth": 0,
             "ticks": ""
            },
            "type": "contourcarpet"
           }
          ],
          "heatmap": [
           {
            "colorbar": {
             "outlinewidth": 0,
             "ticks": ""
            },
            "colorscale": [
             [
              0,
              "#0d0887"
             ],
             [
              0.1111111111111111,
              "#46039f"
             ],
             [
              0.2222222222222222,
              "#7201a8"
             ],
             [
              0.3333333333333333,
              "#9c179e"
             ],
             [
              0.4444444444444444,
              "#bd3786"
             ],
             [
              0.5555555555555556,
              "#d8576b"
             ],
             [
              0.6666666666666666,
              "#ed7953"
             ],
             [
              0.7777777777777778,
              "#fb9f3a"
             ],
             [
              0.8888888888888888,
              "#fdca26"
             ],
             [
              1,
              "#f0f921"
             ]
            ],
            "type": "heatmap"
           }
          ],
          "heatmapgl": [
           {
            "colorbar": {
             "outlinewidth": 0,
             "ticks": ""
            },
            "colorscale": [
             [
              0,
              "#0d0887"
             ],
             [
              0.1111111111111111,
              "#46039f"
             ],
             [
              0.2222222222222222,
              "#7201a8"
             ],
             [
              0.3333333333333333,
              "#9c179e"
             ],
             [
              0.4444444444444444,
              "#bd3786"
             ],
             [
              0.5555555555555556,
              "#d8576b"
             ],
             [
              0.6666666666666666,
              "#ed7953"
             ],
             [
              0.7777777777777778,
              "#fb9f3a"
             ],
             [
              0.8888888888888888,
              "#fdca26"
             ],
             [
              1,
              "#f0f921"
             ]
            ],
            "type": "heatmapgl"
           }
          ],
          "histogram": [
           {
            "marker": {
             "colorbar": {
              "outlinewidth": 0,
              "ticks": ""
             }
            },
            "type": "histogram"
           }
          ],
          "histogram2d": [
           {
            "colorbar": {
             "outlinewidth": 0,
             "ticks": ""
            },
            "colorscale": [
             [
              0,
              "#0d0887"
             ],
             [
              0.1111111111111111,
              "#46039f"
             ],
             [
              0.2222222222222222,
              "#7201a8"
             ],
             [
              0.3333333333333333,
              "#9c179e"
             ],
             [
              0.4444444444444444,
              "#bd3786"
             ],
             [
              0.5555555555555556,
              "#d8576b"
             ],
             [
              0.6666666666666666,
              "#ed7953"
             ],
             [
              0.7777777777777778,
              "#fb9f3a"
             ],
             [
              0.8888888888888888,
              "#fdca26"
             ],
             [
              1,
              "#f0f921"
             ]
            ],
            "type": "histogram2d"
           }
          ],
          "histogram2dcontour": [
           {
            "colorbar": {
             "outlinewidth": 0,
             "ticks": ""
            },
            "colorscale": [
             [
              0,
              "#0d0887"
             ],
             [
              0.1111111111111111,
              "#46039f"
             ],
             [
              0.2222222222222222,
              "#7201a8"
             ],
             [
              0.3333333333333333,
              "#9c179e"
             ],
             [
              0.4444444444444444,
              "#bd3786"
             ],
             [
              0.5555555555555556,
              "#d8576b"
             ],
             [
              0.6666666666666666,
              "#ed7953"
             ],
             [
              0.7777777777777778,
              "#fb9f3a"
             ],
             [
              0.8888888888888888,
              "#fdca26"
             ],
             [
              1,
              "#f0f921"
             ]
            ],
            "type": "histogram2dcontour"
           }
          ],
          "mesh3d": [
           {
            "colorbar": {
             "outlinewidth": 0,
             "ticks": ""
            },
            "type": "mesh3d"
           }
          ],
          "parcoords": [
           {
            "line": {
             "colorbar": {
              "outlinewidth": 0,
              "ticks": ""
             }
            },
            "type": "parcoords"
           }
          ],
          "pie": [
           {
            "automargin": true,
            "type": "pie"
           }
          ],
          "scatter": [
           {
            "marker": {
             "colorbar": {
              "outlinewidth": 0,
              "ticks": ""
             }
            },
            "type": "scatter"
           }
          ],
          "scatter3d": [
           {
            "line": {
             "colorbar": {
              "outlinewidth": 0,
              "ticks": ""
             }
            },
            "marker": {
             "colorbar": {
              "outlinewidth": 0,
              "ticks": ""
             }
            },
            "type": "scatter3d"
           }
          ],
          "scattercarpet": [
           {
            "marker": {
             "colorbar": {
              "outlinewidth": 0,
              "ticks": ""
             }
            },
            "type": "scattercarpet"
           }
          ],
          "scattergeo": [
           {
            "marker": {
             "colorbar": {
              "outlinewidth": 0,
              "ticks": ""
             }
            },
            "type": "scattergeo"
           }
          ],
          "scattergl": [
           {
            "marker": {
             "colorbar": {
              "outlinewidth": 0,
              "ticks": ""
             }
            },
            "type": "scattergl"
           }
          ],
          "scattermapbox": [
           {
            "marker": {
             "colorbar": {
              "outlinewidth": 0,
              "ticks": ""
             }
            },
            "type": "scattermapbox"
           }
          ],
          "scatterpolar": [
           {
            "marker": {
             "colorbar": {
              "outlinewidth": 0,
              "ticks": ""
             }
            },
            "type": "scatterpolar"
           }
          ],
          "scatterpolargl": [
           {
            "marker": {
             "colorbar": {
              "outlinewidth": 0,
              "ticks": ""
             }
            },
            "type": "scatterpolargl"
           }
          ],
          "scatterternary": [
           {
            "marker": {
             "colorbar": {
              "outlinewidth": 0,
              "ticks": ""
             }
            },
            "type": "scatterternary"
           }
          ],
          "surface": [
           {
            "colorbar": {
             "outlinewidth": 0,
             "ticks": ""
            },
            "colorscale": [
             [
              0,
              "#0d0887"
             ],
             [
              0.1111111111111111,
              "#46039f"
             ],
             [
              0.2222222222222222,
              "#7201a8"
             ],
             [
              0.3333333333333333,
              "#9c179e"
             ],
             [
              0.4444444444444444,
              "#bd3786"
             ],
             [
              0.5555555555555556,
              "#d8576b"
             ],
             [
              0.6666666666666666,
              "#ed7953"
             ],
             [
              0.7777777777777778,
              "#fb9f3a"
             ],
             [
              0.8888888888888888,
              "#fdca26"
             ],
             [
              1,
              "#f0f921"
             ]
            ],
            "type": "surface"
           }
          ],
          "table": [
           {
            "cells": {
             "fill": {
              "color": "#EBF0F8"
             },
             "line": {
              "color": "white"
             }
            },
            "header": {
             "fill": {
              "color": "#C8D4E3"
             },
             "line": {
              "color": "white"
             }
            },
            "type": "table"
           }
          ]
         },
         "layout": {
          "annotationdefaults": {
           "arrowcolor": "#2a3f5f",
           "arrowhead": 0,
           "arrowwidth": 1
          },
          "autotypenumbers": "strict",
          "coloraxis": {
           "colorbar": {
            "outlinewidth": 0,
            "ticks": ""
           }
          },
          "colorscale": {
           "diverging": [
            [
             0,
             "#8e0152"
            ],
            [
             0.1,
             "#c51b7d"
            ],
            [
             0.2,
             "#de77ae"
            ],
            [
             0.3,
             "#f1b6da"
            ],
            [
             0.4,
             "#fde0ef"
            ],
            [
             0.5,
             "#f7f7f7"
            ],
            [
             0.6,
             "#e6f5d0"
            ],
            [
             0.7,
             "#b8e186"
            ],
            [
             0.8,
             "#7fbc41"
            ],
            [
             0.9,
             "#4d9221"
            ],
            [
             1,
             "#276419"
            ]
           ],
           "sequential": [
            [
             0,
             "#0d0887"
            ],
            [
             0.1111111111111111,
             "#46039f"
            ],
            [
             0.2222222222222222,
             "#7201a8"
            ],
            [
             0.3333333333333333,
             "#9c179e"
            ],
            [
             0.4444444444444444,
             "#bd3786"
            ],
            [
             0.5555555555555556,
             "#d8576b"
            ],
            [
             0.6666666666666666,
             "#ed7953"
            ],
            [
             0.7777777777777778,
             "#fb9f3a"
            ],
            [
             0.8888888888888888,
             "#fdca26"
            ],
            [
             1,
             "#f0f921"
            ]
           ],
           "sequentialminus": [
            [
             0,
             "#0d0887"
            ],
            [
             0.1111111111111111,
             "#46039f"
            ],
            [
             0.2222222222222222,
             "#7201a8"
            ],
            [
             0.3333333333333333,
             "#9c179e"
            ],
            [
             0.4444444444444444,
             "#bd3786"
            ],
            [
             0.5555555555555556,
             "#d8576b"
            ],
            [
             0.6666666666666666,
             "#ed7953"
            ],
            [
             0.7777777777777778,
             "#fb9f3a"
            ],
            [
             0.8888888888888888,
             "#fdca26"
            ],
            [
             1,
             "#f0f921"
            ]
           ]
          },
          "colorway": [
           "#636efa",
           "#EF553B",
           "#00cc96",
           "#ab63fa",
           "#FFA15A",
           "#19d3f3",
           "#FF6692",
           "#B6E880",
           "#FF97FF",
           "#FECB52"
          ],
          "font": {
           "color": "#2a3f5f"
          },
          "geo": {
           "bgcolor": "white",
           "lakecolor": "white",
           "landcolor": "#E5ECF6",
           "showlakes": true,
           "showland": true,
           "subunitcolor": "white"
          },
          "hoverlabel": {
           "align": "left"
          },
          "hovermode": "closest",
          "mapbox": {
           "style": "light"
          },
          "paper_bgcolor": "white",
          "plot_bgcolor": "#E5ECF6",
          "polar": {
           "angularaxis": {
            "gridcolor": "white",
            "linecolor": "white",
            "ticks": ""
           },
           "bgcolor": "#E5ECF6",
           "radialaxis": {
            "gridcolor": "white",
            "linecolor": "white",
            "ticks": ""
           }
          },
          "scene": {
           "xaxis": {
            "backgroundcolor": "#E5ECF6",
            "gridcolor": "white",
            "gridwidth": 2,
            "linecolor": "white",
            "showbackground": true,
            "ticks": "",
            "zerolinecolor": "white"
           },
           "yaxis": {
            "backgroundcolor": "#E5ECF6",
            "gridcolor": "white",
            "gridwidth": 2,
            "linecolor": "white",
            "showbackground": true,
            "ticks": "",
            "zerolinecolor": "white"
           },
           "zaxis": {
            "backgroundcolor": "#E5ECF6",
            "gridcolor": "white",
            "gridwidth": 2,
            "linecolor": "white",
            "showbackground": true,
            "ticks": "",
            "zerolinecolor": "white"
           }
          },
          "shapedefaults": {
           "line": {
            "color": "#2a3f5f"
           }
          },
          "ternary": {
           "aaxis": {
            "gridcolor": "white",
            "linecolor": "white",
            "ticks": ""
           },
           "baxis": {
            "gridcolor": "white",
            "linecolor": "white",
            "ticks": ""
           },
           "bgcolor": "#E5ECF6",
           "caxis": {
            "gridcolor": "white",
            "linecolor": "white",
            "ticks": ""
           }
          },
          "title": {
           "x": 0.05
          },
          "xaxis": {
           "automargin": true,
           "gridcolor": "white",
           "linecolor": "white",
           "ticks": "",
           "title": {
            "standoff": 15
           },
           "zerolinecolor": "white",
           "zerolinewidth": 2
          },
          "yaxis": {
           "automargin": true,
           "gridcolor": "white",
           "linecolor": "white",
           "ticks": "",
           "title": {
            "standoff": 15
           },
           "zerolinecolor": "white",
           "zerolinewidth": 2
          }
         }
        },
        "title": {
         "font": {
          "color": "#4D5663"
         }
        },
        "xaxis": {
         "gridcolor": "#E1E5ED",
         "showgrid": true,
         "tickfont": {
          "color": "#4D5663"
         },
         "title": {
          "font": {
           "color": "#4D5663"
          },
          "text": ""
         },
         "zerolinecolor": "#E1E5ED"
        },
        "yaxis": {
         "gridcolor": "#E1E5ED",
         "showgrid": true,
         "tickfont": {
          "color": "#4D5663"
         },
         "title": {
          "font": {
           "color": "#4D5663"
          },
          "text": ""
         },
         "zerolinecolor": "#E1E5ED"
        }
       }
      },
      "text/html": [
       "<div>                            <div id=\"b97ccd76-d48e-4344-bcc8-216e4ad8de1f\" class=\"plotly-graph-div\" style=\"height:525px; width:100%;\"></div>            <script type=\"text/javascript\">                require([\"plotly\"], function(Plotly) {                    window.PLOTLYENV=window.PLOTLYENV || {};\n",
       "                    window.PLOTLYENV.BASE_URL='https://plot.ly';                                    if (document.getElementById(\"b97ccd76-d48e-4344-bcc8-216e4ad8de1f\")) {                    Plotly.newPlot(                        \"b97ccd76-d48e-4344-bcc8-216e4ad8de1f\",                        [{\"histfunc\": \"count\", \"histnorm\": \"\", \"marker\": {\"color\": \"rgba(255, 153, 51, 1.0)\", \"line\": {\"color\": \"#4D5663\", \"width\": 1.3}}, \"name\": \"A\", \"nbinsx\": 25, \"opacity\": 0.8, \"orientation\": \"v\", \"type\": \"histogram\", \"x\": [-0.6955674278003409, 0.709603311671074, -0.4639112475880794, 0.6109406141883472, -0.5366807345866035, 0.7910773377517595, -0.11947942636690821, -0.47349701720928045, 0.4379025626920702, -0.7162694038809432, -0.7399661011767127, 0.17186950411304497, -1.1302051947786431, -0.9448681293583892, 0.6946221543285171, -0.12813558114594467, 0.24714774336127074, -1.401696050877737, 0.2658142400997529, 1.1587947957112168, 0.966918511877791, -0.7927216095782581, 0.06753132960304364, -0.9947952723901883, 0.1520156296155712, 0.02904167623115189, 0.5559274232627266, -1.6466726734025219, -1.1473494682674321, -1.300233840798571, -0.9329887699147729, 0.8342953223377536, -0.7998016531956084, 0.7303669267789196, 1.0166451335363904, 0.345687476091971, 0.9970011314070286, 0.09163957069787133, -0.9827263875741888, 2.046107251601977, -0.9087542910432793, 1.178729950658305, -2.6855798912420097, -0.039017895423392124, 0.7719369300095611, -0.4831134080474078, -0.7255292888680582, 0.5881142253701253, -0.6361240283966371, 2.415709480942409, -0.5995822445536416, -0.2053208344706357, 0.5614526534984946, -0.5269882532809637, -0.8431434637055175, 0.5192973390474064, -0.552047204906587, 0.32936941597121155, -1.8758010295874192, -2.3502496170590246, 0.048974160043405456, -1.0570986004732563, -1.571501953022733, 0.8895704580584978, -0.7613651522874072, -0.3796361762246006, 0.2256162238881583, 1.1124231723885278, -0.02020697294077586, -0.15171179754105252, 0.8470805537985738, -1.7336252512643053, -0.04782149486562937, 0.19254693779206455, 0.23157418873759167, 0.5178468554423196, -0.3914330320089398, 0.19396591446211114, -0.028819443653141583, 2.097703142578914, 0.7380179176926842, -0.4801374333012573, -1.4125156131663692, -0.07460973403830272, -0.28773407861577427, -0.09295631191568235, 0.7522891655138189, -1.5297240137040118, 1.1384751363045376, 1.3091217346992188, 0.8879746080979246, 0.4720820662595549, -0.5018250230207556, -1.2398951096581001, 0.32913838199510387, 0.8707335589794765, -0.1421942077971298, -0.7796115208498818, -0.13029165791235717, 0.03648733730706007]}],                        {\"barmode\": \"overlay\", \"legend\": {\"bgcolor\": \"#F5F6F9\", \"font\": {\"color\": \"#4D5663\"}}, \"paper_bgcolor\": \"#F5F6F9\", \"plot_bgcolor\": \"#F5F6F9\", \"template\": {\"data\": {\"bar\": [{\"error_x\": {\"color\": \"#2a3f5f\"}, \"error_y\": {\"color\": \"#2a3f5f\"}, \"marker\": {\"line\": {\"color\": \"#E5ECF6\", \"width\": 0.5}}, \"type\": \"bar\"}], \"barpolar\": [{\"marker\": {\"line\": {\"color\": \"#E5ECF6\", \"width\": 0.5}}, \"type\": \"barpolar\"}], \"carpet\": [{\"aaxis\": {\"endlinecolor\": \"#2a3f5f\", \"gridcolor\": \"white\", \"linecolor\": \"white\", \"minorgridcolor\": \"white\", \"startlinecolor\": \"#2a3f5f\"}, \"baxis\": {\"endlinecolor\": \"#2a3f5f\", \"gridcolor\": \"white\", \"linecolor\": \"white\", \"minorgridcolor\": \"white\", \"startlinecolor\": \"#2a3f5f\"}, \"type\": \"carpet\"}], \"choropleth\": [{\"colorbar\": {\"outlinewidth\": 0, \"ticks\": \"\"}, \"type\": \"choropleth\"}], \"contour\": [{\"colorbar\": {\"outlinewidth\": 0, \"ticks\": \"\"}, \"colorscale\": [[0.0, \"#0d0887\"], [0.1111111111111111, \"#46039f\"], [0.2222222222222222, \"#7201a8\"], [0.3333333333333333, \"#9c179e\"], [0.4444444444444444, \"#bd3786\"], [0.5555555555555556, \"#d8576b\"], [0.6666666666666666, \"#ed7953\"], [0.7777777777777778, \"#fb9f3a\"], [0.8888888888888888, \"#fdca26\"], [1.0, \"#f0f921\"]], \"type\": \"contour\"}], \"contourcarpet\": [{\"colorbar\": {\"outlinewidth\": 0, \"ticks\": \"\"}, \"type\": \"contourcarpet\"}], \"heatmap\": [{\"colorbar\": {\"outlinewidth\": 0, \"ticks\": \"\"}, \"colorscale\": [[0.0, \"#0d0887\"], [0.1111111111111111, \"#46039f\"], [0.2222222222222222, \"#7201a8\"], [0.3333333333333333, \"#9c179e\"], [0.4444444444444444, \"#bd3786\"], [0.5555555555555556, \"#d8576b\"], [0.6666666666666666, \"#ed7953\"], [0.7777777777777778, \"#fb9f3a\"], [0.8888888888888888, \"#fdca26\"], [1.0, \"#f0f921\"]], \"type\": \"heatmap\"}], \"heatmapgl\": [{\"colorbar\": {\"outlinewidth\": 0, \"ticks\": \"\"}, \"colorscale\": [[0.0, \"#0d0887\"], [0.1111111111111111, \"#46039f\"], [0.2222222222222222, \"#7201a8\"], [0.3333333333333333, \"#9c179e\"], [0.4444444444444444, \"#bd3786\"], [0.5555555555555556, \"#d8576b\"], [0.6666666666666666, \"#ed7953\"], [0.7777777777777778, \"#fb9f3a\"], [0.8888888888888888, \"#fdca26\"], [1.0, \"#f0f921\"]], \"type\": \"heatmapgl\"}], \"histogram\": [{\"marker\": {\"colorbar\": {\"outlinewidth\": 0, \"ticks\": \"\"}}, \"type\": \"histogram\"}], \"histogram2d\": [{\"colorbar\": {\"outlinewidth\": 0, \"ticks\": \"\"}, \"colorscale\": [[0.0, \"#0d0887\"], [0.1111111111111111, \"#46039f\"], [0.2222222222222222, \"#7201a8\"], [0.3333333333333333, \"#9c179e\"], [0.4444444444444444, \"#bd3786\"], [0.5555555555555556, \"#d8576b\"], [0.6666666666666666, \"#ed7953\"], [0.7777777777777778, \"#fb9f3a\"], [0.8888888888888888, \"#fdca26\"], [1.0, \"#f0f921\"]], \"type\": \"histogram2d\"}], \"histogram2dcontour\": [{\"colorbar\": {\"outlinewidth\": 0, \"ticks\": \"\"}, \"colorscale\": [[0.0, \"#0d0887\"], [0.1111111111111111, \"#46039f\"], [0.2222222222222222, \"#7201a8\"], [0.3333333333333333, \"#9c179e\"], [0.4444444444444444, \"#bd3786\"], [0.5555555555555556, \"#d8576b\"], [0.6666666666666666, \"#ed7953\"], [0.7777777777777778, \"#fb9f3a\"], [0.8888888888888888, \"#fdca26\"], [1.0, \"#f0f921\"]], \"type\": \"histogram2dcontour\"}], \"mesh3d\": [{\"colorbar\": {\"outlinewidth\": 0, \"ticks\": \"\"}, \"type\": \"mesh3d\"}], \"parcoords\": [{\"line\": {\"colorbar\": {\"outlinewidth\": 0, \"ticks\": \"\"}}, \"type\": \"parcoords\"}], \"pie\": [{\"automargin\": true, \"type\": \"pie\"}], \"scatter\": [{\"marker\": {\"colorbar\": {\"outlinewidth\": 0, \"ticks\": \"\"}}, \"type\": \"scatter\"}], \"scatter3d\": [{\"line\": {\"colorbar\": {\"outlinewidth\": 0, \"ticks\": \"\"}}, \"marker\": {\"colorbar\": {\"outlinewidth\": 0, \"ticks\": \"\"}}, \"type\": \"scatter3d\"}], \"scattercarpet\": [{\"marker\": {\"colorbar\": {\"outlinewidth\": 0, \"ticks\": \"\"}}, \"type\": \"scattercarpet\"}], \"scattergeo\": [{\"marker\": {\"colorbar\": {\"outlinewidth\": 0, \"ticks\": \"\"}}, \"type\": \"scattergeo\"}], \"scattergl\": [{\"marker\": {\"colorbar\": {\"outlinewidth\": 0, \"ticks\": \"\"}}, \"type\": \"scattergl\"}], \"scattermapbox\": [{\"marker\": {\"colorbar\": {\"outlinewidth\": 0, \"ticks\": \"\"}}, \"type\": \"scattermapbox\"}], \"scatterpolar\": [{\"marker\": {\"colorbar\": {\"outlinewidth\": 0, \"ticks\": \"\"}}, \"type\": \"scatterpolar\"}], \"scatterpolargl\": [{\"marker\": {\"colorbar\": {\"outlinewidth\": 0, \"ticks\": \"\"}}, \"type\": \"scatterpolargl\"}], \"scatterternary\": [{\"marker\": {\"colorbar\": {\"outlinewidth\": 0, \"ticks\": \"\"}}, \"type\": \"scatterternary\"}], \"surface\": [{\"colorbar\": {\"outlinewidth\": 0, \"ticks\": \"\"}, \"colorscale\": [[0.0, \"#0d0887\"], [0.1111111111111111, \"#46039f\"], [0.2222222222222222, \"#7201a8\"], [0.3333333333333333, \"#9c179e\"], [0.4444444444444444, \"#bd3786\"], [0.5555555555555556, \"#d8576b\"], [0.6666666666666666, \"#ed7953\"], [0.7777777777777778, \"#fb9f3a\"], [0.8888888888888888, \"#fdca26\"], [1.0, \"#f0f921\"]], \"type\": \"surface\"}], \"table\": [{\"cells\": {\"fill\": {\"color\": \"#EBF0F8\"}, \"line\": {\"color\": \"white\"}}, \"header\": {\"fill\": {\"color\": \"#C8D4E3\"}, \"line\": {\"color\": \"white\"}}, \"type\": \"table\"}]}, \"layout\": {\"annotationdefaults\": {\"arrowcolor\": \"#2a3f5f\", \"arrowhead\": 0, \"arrowwidth\": 1}, \"autotypenumbers\": \"strict\", \"coloraxis\": {\"colorbar\": {\"outlinewidth\": 0, \"ticks\": \"\"}}, \"colorscale\": {\"diverging\": [[0, \"#8e0152\"], [0.1, \"#c51b7d\"], [0.2, \"#de77ae\"], [0.3, \"#f1b6da\"], [0.4, \"#fde0ef\"], [0.5, \"#f7f7f7\"], [0.6, \"#e6f5d0\"], [0.7, \"#b8e186\"], [0.8, \"#7fbc41\"], [0.9, \"#4d9221\"], [1, \"#276419\"]], \"sequential\": [[0.0, \"#0d0887\"], [0.1111111111111111, \"#46039f\"], [0.2222222222222222, \"#7201a8\"], [0.3333333333333333, \"#9c179e\"], [0.4444444444444444, \"#bd3786\"], [0.5555555555555556, \"#d8576b\"], [0.6666666666666666, \"#ed7953\"], [0.7777777777777778, \"#fb9f3a\"], [0.8888888888888888, \"#fdca26\"], [1.0, \"#f0f921\"]], \"sequentialminus\": [[0.0, \"#0d0887\"], [0.1111111111111111, \"#46039f\"], [0.2222222222222222, \"#7201a8\"], [0.3333333333333333, \"#9c179e\"], [0.4444444444444444, \"#bd3786\"], [0.5555555555555556, \"#d8576b\"], [0.6666666666666666, \"#ed7953\"], [0.7777777777777778, \"#fb9f3a\"], [0.8888888888888888, \"#fdca26\"], [1.0, \"#f0f921\"]]}, \"colorway\": [\"#636efa\", \"#EF553B\", \"#00cc96\", \"#ab63fa\", \"#FFA15A\", \"#19d3f3\", \"#FF6692\", \"#B6E880\", \"#FF97FF\", \"#FECB52\"], \"font\": {\"color\": \"#2a3f5f\"}, \"geo\": {\"bgcolor\": \"white\", \"lakecolor\": \"white\", \"landcolor\": \"#E5ECF6\", \"showlakes\": true, \"showland\": true, \"subunitcolor\": \"white\"}, \"hoverlabel\": {\"align\": \"left\"}, \"hovermode\": \"closest\", \"mapbox\": {\"style\": \"light\"}, \"paper_bgcolor\": \"white\", \"plot_bgcolor\": \"#E5ECF6\", \"polar\": {\"angularaxis\": {\"gridcolor\": \"white\", \"linecolor\": \"white\", \"ticks\": \"\"}, \"bgcolor\": \"#E5ECF6\", \"radialaxis\": {\"gridcolor\": \"white\", \"linecolor\": \"white\", \"ticks\": \"\"}}, \"scene\": {\"xaxis\": {\"backgroundcolor\": \"#E5ECF6\", \"gridcolor\": \"white\", \"gridwidth\": 2, \"linecolor\": \"white\", \"showbackground\": true, \"ticks\": \"\", \"zerolinecolor\": \"white\"}, \"yaxis\": {\"backgroundcolor\": \"#E5ECF6\", \"gridcolor\": \"white\", \"gridwidth\": 2, \"linecolor\": \"white\", \"showbackground\": true, \"ticks\": \"\", \"zerolinecolor\": \"white\"}, \"zaxis\": {\"backgroundcolor\": \"#E5ECF6\", \"gridcolor\": \"white\", \"gridwidth\": 2, \"linecolor\": \"white\", \"showbackground\": true, \"ticks\": \"\", \"zerolinecolor\": \"white\"}}, \"shapedefaults\": {\"line\": {\"color\": \"#2a3f5f\"}}, \"ternary\": {\"aaxis\": {\"gridcolor\": \"white\", \"linecolor\": \"white\", \"ticks\": \"\"}, \"baxis\": {\"gridcolor\": \"white\", \"linecolor\": \"white\", \"ticks\": \"\"}, \"bgcolor\": \"#E5ECF6\", \"caxis\": {\"gridcolor\": \"white\", \"linecolor\": \"white\", \"ticks\": \"\"}}, \"title\": {\"x\": 0.05}, \"xaxis\": {\"automargin\": true, \"gridcolor\": \"white\", \"linecolor\": \"white\", \"ticks\": \"\", \"title\": {\"standoff\": 15}, \"zerolinecolor\": \"white\", \"zerolinewidth\": 2}, \"yaxis\": {\"automargin\": true, \"gridcolor\": \"white\", \"linecolor\": \"white\", \"ticks\": \"\", \"title\": {\"standoff\": 15}, \"zerolinecolor\": \"white\", \"zerolinewidth\": 2}}}, \"title\": {\"font\": {\"color\": \"#4D5663\"}}, \"xaxis\": {\"gridcolor\": \"#E1E5ED\", \"showgrid\": true, \"tickfont\": {\"color\": \"#4D5663\"}, \"title\": {\"font\": {\"color\": \"#4D5663\"}, \"text\": \"\"}, \"zerolinecolor\": \"#E1E5ED\"}, \"yaxis\": {\"gridcolor\": \"#E1E5ED\", \"showgrid\": true, \"tickfont\": {\"color\": \"#4D5663\"}, \"title\": {\"font\": {\"color\": \"#4D5663\"}, \"text\": \"\"}, \"zerolinecolor\": \"#E1E5ED\"}},                        {\"showLink\": true, \"linkText\": \"Export to plot.ly\", \"plotlyServerURL\": \"https://plot.ly\", \"responsive\": true}                    ).then(function(){\n",
       "                            \n",
       "var gd = document.getElementById('b97ccd76-d48e-4344-bcc8-216e4ad8de1f');\n",
       "var x = new MutationObserver(function (mutations, observer) {{\n",
       "        var display = window.getComputedStyle(gd).display;\n",
       "        if (!display || display === 'none') {{\n",
       "            console.log([gd, 'removed!']);\n",
       "            Plotly.purge(gd);\n",
       "            observer.disconnect();\n",
       "        }}\n",
       "}});\n",
       "\n",
       "// Listen for the removal of the full notebook cells\n",
       "var notebookContainer = gd.closest('#notebook-container');\n",
       "if (notebookContainer) {{\n",
       "    x.observe(notebookContainer, {childList: true});\n",
       "}}\n",
       "\n",
       "// Listen for the clearing of the current output cell\n",
       "var outputEl = gd.closest('.output');\n",
       "if (outputEl) {{\n",
       "    x.observe(outputEl, {childList: true});\n",
       "}}\n",
       "\n",
       "                        })                };                });            </script>        </div>"
      ]
     },
     "metadata": {},
     "output_type": "display_data"
    }
   ],
   "source": [
    "df['A'].iplot(kind='hist',bins=25)"
   ]
  },
  {
   "cell_type": "markdown",
   "metadata": {},
   "source": [
    "<img src=\"images/plotly7.png\"/>"
   ]
  },
  {
   "cell_type": "code",
   "execution_count": 18,
   "metadata": {},
   "outputs": [
    {
     "data": {
      "application/vnd.plotly.v1+json": {
       "config": {
        "linkText": "Export to plot.ly",
        "plotlyServerURL": "https://plot.ly",
        "showLink": true
       },
       "data": [
        {
         "marker": {
          "color": [
           "rgb(255, 153, 51)",
           "rgb(55, 128, 191)",
           "rgb(50, 171, 96)",
           "rgb(128, 0, 128)",
           "rgb(219, 64, 82)",
           "rgb(0, 128, 128)",
           "rgb(255, 255, 51)",
           "rgb(128, 128, 0)",
           "rgb(251, 128, 114)",
           "rgb(128, 177, 211)"
          ],
          "line": {
           "width": 1.3
          },
          "size": [
           34,
           75,
           80,
           78,
           56,
           12,
           60,
           63,
           68,
           73,
           55,
           42,
           64,
           55,
           95,
           34,
           51,
           61,
           47,
           76,
           33,
           65,
           73,
           59,
           54,
           51,
           44,
           52,
           45,
           45,
           40,
           59,
           71,
           83,
           93,
           67,
           55,
           26,
           44,
           51,
           92,
           39,
           93,
           59,
           30,
           50,
           38,
           63,
           77,
           65,
           44,
           71,
           52,
           57,
           50,
           73,
           68,
           72,
           72,
           75,
           79,
           106,
           64,
           88,
           60,
           79,
           63,
           60,
           71,
           66,
           84,
           55,
           61,
           76,
           51,
           29,
           67,
           86,
           55,
           69,
           112,
           56,
           88,
           75,
           41,
           71,
           62,
           89,
           46,
           43,
           72,
           64,
           60,
           66,
           79,
           48,
           87,
           56,
           83,
           76
          ],
          "symbol": "circle"
         },
         "mode": "markers",
         "text": "",
         "type": "scatter",
         "x": [
          -0.6955674278003409,
          0.709603311671074,
          -0.4639112475880794,
          0.6109406141883472,
          -0.5366807345866035,
          0.7910773377517595,
          -0.11947942636690821,
          -0.47349701720928045,
          0.4379025626920702,
          -0.7162694038809432,
          -0.7399661011767127,
          0.17186950411304497,
          -1.1302051947786431,
          -0.9448681293583892,
          0.6946221543285171,
          -0.12813558114594467,
          0.24714774336127074,
          -1.401696050877737,
          0.2658142400997529,
          1.1587947957112168,
          0.966918511877791,
          -0.7927216095782581,
          0.06753132960304364,
          -0.9947952723901883,
          0.1520156296155712,
          0.02904167623115189,
          0.5559274232627266,
          -1.6466726734025219,
          -1.1473494682674321,
          -1.300233840798571,
          -0.9329887699147729,
          0.8342953223377536,
          -0.7998016531956084,
          0.7303669267789196,
          1.0166451335363904,
          0.345687476091971,
          0.9970011314070286,
          0.09163957069787133,
          -0.9827263875741888,
          2.046107251601977,
          -0.9087542910432793,
          1.178729950658305,
          -2.6855798912420097,
          -0.039017895423392124,
          0.7719369300095611,
          -0.4831134080474078,
          -0.7255292888680582,
          0.5881142253701253,
          -0.6361240283966371,
          2.415709480942409,
          -0.5995822445536416,
          -0.2053208344706357,
          0.5614526534984946,
          -0.5269882532809637,
          -0.8431434637055175,
          0.5192973390474064,
          -0.552047204906587,
          0.32936941597121155,
          -1.8758010295874192,
          -2.3502496170590246,
          0.048974160043405456,
          -1.0570986004732563,
          -1.571501953022733,
          0.8895704580584978,
          -0.7613651522874072,
          -0.3796361762246006,
          0.2256162238881583,
          1.1124231723885278,
          -0.02020697294077586,
          -0.15171179754105252,
          0.8470805537985738,
          -1.7336252512643053,
          -0.04782149486562937,
          0.19254693779206455,
          0.23157418873759167,
          0.5178468554423196,
          -0.3914330320089398,
          0.19396591446211114,
          -0.028819443653141583,
          2.097703142578914,
          0.7380179176926842,
          -0.4801374333012573,
          -1.4125156131663692,
          -0.07460973403830272,
          -0.28773407861577427,
          -0.09295631191568235,
          0.7522891655138189,
          -1.5297240137040118,
          1.1384751363045376,
          1.3091217346992188,
          0.8879746080979246,
          0.4720820662595549,
          -0.5018250230207556,
          -1.2398951096581001,
          0.32913838199510387,
          0.8707335589794765,
          -0.1421942077971298,
          -0.7796115208498818,
          -0.13029165791235717,
          0.03648733730706007
         ],
         "y": [
          -0.7115712083518633,
          0.20367831749698934,
          0.6134576546805096,
          -0.36570067643631643,
          -0.7159140308166888,
          -0.9239386716004879,
          2.5930230737700555,
          0.4147527987618448,
          -0.22996385762564714,
          0.5624676614965411,
          -1.5475325608234494,
          -0.6259507711406066,
          0.3056636097323393,
          0.20211511312646258,
          0.10374629106262659,
          1.814642590027516,
          -0.9618251387755197,
          2.148194545714763,
          0.9418063372995279,
          -1.756893092290613,
          -0.6451514937773778,
          -0.13200770808476447,
          0.872337004831524,
          2.3229673950851923,
          -0.4706761210576756,
          0.5164410724972459,
          -0.48565279600255373,
          -1.2521645968922077,
          0.190667708166508,
          -1.71765646431304,
          1.527954065750762,
          0.37401203490486645,
          -0.9774218888534799,
          0.7109426456154209,
          -0.6026932312876238,
          0.5456845135286027,
          0.6371851776297126,
          1.0541028159046348,
          -0.8355387155807726,
          1.0141605310042423,
          -0.32801098196297007,
          1.046053681722419,
          -0.6770303842667683,
          0.428153097306062,
          0.9140719808484178,
          0.8309841468257837,
          0.022583141337870448,
          -0.6262397051187514,
          -1.6071190249191691,
          -0.1989055676546752,
          0.5330744191733329,
          1.0761993457881287,
          1.8121764700303273,
          -1.2688836897989333,
          -1.7647514937908018,
          -2.482464341193299,
          -0.6078532786143386,
          0.010679248589527316,
          2.183394229236031,
          1.60963687506475,
          -1.0210660043618693,
          2.508243729834317,
          -0.23333220546062955,
          1.4028553391308474,
          -0.39244294429217097,
          -0.09295080049327233,
          1.1103292193372296,
          1.1949982096141774,
          -0.2989744322934105,
          0.8871375559852462,
          -1.368327962932662,
          0.20209814397912979,
          0.40926606668519244,
          -0.9215941758887686,
          0.9351089487739781,
          -0.24065253160275235,
          -0.11345971025377141,
          0.24372600294771427,
          0.455002801545644,
          0.1972947992569593,
          0.9717385724212538,
          -2.6044890057609646,
          -1.8119523545271286,
          0.9456288963313946,
          0.13644379478974555,
          -0.17657547306635485,
          -0.6080471675815619,
          0.6910563876875375,
          -0.1889085678147469,
          0.5062020601577284,
          -3.4814412422787626,
          -0.1844947741671853,
          2.43070381381801,
          0.8253619914959017,
          0.06003229469139,
          0.35353678611411077,
          -0.9648741956228961,
          -1.4325317580760464,
          -1.1132449693847992,
          -1.5049978733911864
         ]
        }
       ],
       "layout": {
        "legend": {
         "bgcolor": "#F5F6F9",
         "font": {
          "color": "#4D5663"
         }
        },
        "paper_bgcolor": "#F5F6F9",
        "plot_bgcolor": "#F5F6F9",
        "template": {
         "data": {
          "bar": [
           {
            "error_x": {
             "color": "#2a3f5f"
            },
            "error_y": {
             "color": "#2a3f5f"
            },
            "marker": {
             "line": {
              "color": "#E5ECF6",
              "width": 0.5
             }
            },
            "type": "bar"
           }
          ],
          "barpolar": [
           {
            "marker": {
             "line": {
              "color": "#E5ECF6",
              "width": 0.5
             }
            },
            "type": "barpolar"
           }
          ],
          "carpet": [
           {
            "aaxis": {
             "endlinecolor": "#2a3f5f",
             "gridcolor": "white",
             "linecolor": "white",
             "minorgridcolor": "white",
             "startlinecolor": "#2a3f5f"
            },
            "baxis": {
             "endlinecolor": "#2a3f5f",
             "gridcolor": "white",
             "linecolor": "white",
             "minorgridcolor": "white",
             "startlinecolor": "#2a3f5f"
            },
            "type": "carpet"
           }
          ],
          "choropleth": [
           {
            "colorbar": {
             "outlinewidth": 0,
             "ticks": ""
            },
            "type": "choropleth"
           }
          ],
          "contour": [
           {
            "colorbar": {
             "outlinewidth": 0,
             "ticks": ""
            },
            "colorscale": [
             [
              0,
              "#0d0887"
             ],
             [
              0.1111111111111111,
              "#46039f"
             ],
             [
              0.2222222222222222,
              "#7201a8"
             ],
             [
              0.3333333333333333,
              "#9c179e"
             ],
             [
              0.4444444444444444,
              "#bd3786"
             ],
             [
              0.5555555555555556,
              "#d8576b"
             ],
             [
              0.6666666666666666,
              "#ed7953"
             ],
             [
              0.7777777777777778,
              "#fb9f3a"
             ],
             [
              0.8888888888888888,
              "#fdca26"
             ],
             [
              1,
              "#f0f921"
             ]
            ],
            "type": "contour"
           }
          ],
          "contourcarpet": [
           {
            "colorbar": {
             "outlinewidth": 0,
             "ticks": ""
            },
            "type": "contourcarpet"
           }
          ],
          "heatmap": [
           {
            "colorbar": {
             "outlinewidth": 0,
             "ticks": ""
            },
            "colorscale": [
             [
              0,
              "#0d0887"
             ],
             [
              0.1111111111111111,
              "#46039f"
             ],
             [
              0.2222222222222222,
              "#7201a8"
             ],
             [
              0.3333333333333333,
              "#9c179e"
             ],
             [
              0.4444444444444444,
              "#bd3786"
             ],
             [
              0.5555555555555556,
              "#d8576b"
             ],
             [
              0.6666666666666666,
              "#ed7953"
             ],
             [
              0.7777777777777778,
              "#fb9f3a"
             ],
             [
              0.8888888888888888,
              "#fdca26"
             ],
             [
              1,
              "#f0f921"
             ]
            ],
            "type": "heatmap"
           }
          ],
          "heatmapgl": [
           {
            "colorbar": {
             "outlinewidth": 0,
             "ticks": ""
            },
            "colorscale": [
             [
              0,
              "#0d0887"
             ],
             [
              0.1111111111111111,
              "#46039f"
             ],
             [
              0.2222222222222222,
              "#7201a8"
             ],
             [
              0.3333333333333333,
              "#9c179e"
             ],
             [
              0.4444444444444444,
              "#bd3786"
             ],
             [
              0.5555555555555556,
              "#d8576b"
             ],
             [
              0.6666666666666666,
              "#ed7953"
             ],
             [
              0.7777777777777778,
              "#fb9f3a"
             ],
             [
              0.8888888888888888,
              "#fdca26"
             ],
             [
              1,
              "#f0f921"
             ]
            ],
            "type": "heatmapgl"
           }
          ],
          "histogram": [
           {
            "marker": {
             "colorbar": {
              "outlinewidth": 0,
              "ticks": ""
             }
            },
            "type": "histogram"
           }
          ],
          "histogram2d": [
           {
            "colorbar": {
             "outlinewidth": 0,
             "ticks": ""
            },
            "colorscale": [
             [
              0,
              "#0d0887"
             ],
             [
              0.1111111111111111,
              "#46039f"
             ],
             [
              0.2222222222222222,
              "#7201a8"
             ],
             [
              0.3333333333333333,
              "#9c179e"
             ],
             [
              0.4444444444444444,
              "#bd3786"
             ],
             [
              0.5555555555555556,
              "#d8576b"
             ],
             [
              0.6666666666666666,
              "#ed7953"
             ],
             [
              0.7777777777777778,
              "#fb9f3a"
             ],
             [
              0.8888888888888888,
              "#fdca26"
             ],
             [
              1,
              "#f0f921"
             ]
            ],
            "type": "histogram2d"
           }
          ],
          "histogram2dcontour": [
           {
            "colorbar": {
             "outlinewidth": 0,
             "ticks": ""
            },
            "colorscale": [
             [
              0,
              "#0d0887"
             ],
             [
              0.1111111111111111,
              "#46039f"
             ],
             [
              0.2222222222222222,
              "#7201a8"
             ],
             [
              0.3333333333333333,
              "#9c179e"
             ],
             [
              0.4444444444444444,
              "#bd3786"
             ],
             [
              0.5555555555555556,
              "#d8576b"
             ],
             [
              0.6666666666666666,
              "#ed7953"
             ],
             [
              0.7777777777777778,
              "#fb9f3a"
             ],
             [
              0.8888888888888888,
              "#fdca26"
             ],
             [
              1,
              "#f0f921"
             ]
            ],
            "type": "histogram2dcontour"
           }
          ],
          "mesh3d": [
           {
            "colorbar": {
             "outlinewidth": 0,
             "ticks": ""
            },
            "type": "mesh3d"
           }
          ],
          "parcoords": [
           {
            "line": {
             "colorbar": {
              "outlinewidth": 0,
              "ticks": ""
             }
            },
            "type": "parcoords"
           }
          ],
          "pie": [
           {
            "automargin": true,
            "type": "pie"
           }
          ],
          "scatter": [
           {
            "marker": {
             "colorbar": {
              "outlinewidth": 0,
              "ticks": ""
             }
            },
            "type": "scatter"
           }
          ],
          "scatter3d": [
           {
            "line": {
             "colorbar": {
              "outlinewidth": 0,
              "ticks": ""
             }
            },
            "marker": {
             "colorbar": {
              "outlinewidth": 0,
              "ticks": ""
             }
            },
            "type": "scatter3d"
           }
          ],
          "scattercarpet": [
           {
            "marker": {
             "colorbar": {
              "outlinewidth": 0,
              "ticks": ""
             }
            },
            "type": "scattercarpet"
           }
          ],
          "scattergeo": [
           {
            "marker": {
             "colorbar": {
              "outlinewidth": 0,
              "ticks": ""
             }
            },
            "type": "scattergeo"
           }
          ],
          "scattergl": [
           {
            "marker": {
             "colorbar": {
              "outlinewidth": 0,
              "ticks": ""
             }
            },
            "type": "scattergl"
           }
          ],
          "scattermapbox": [
           {
            "marker": {
             "colorbar": {
              "outlinewidth": 0,
              "ticks": ""
             }
            },
            "type": "scattermapbox"
           }
          ],
          "scatterpolar": [
           {
            "marker": {
             "colorbar": {
              "outlinewidth": 0,
              "ticks": ""
             }
            },
            "type": "scatterpolar"
           }
          ],
          "scatterpolargl": [
           {
            "marker": {
             "colorbar": {
              "outlinewidth": 0,
              "ticks": ""
             }
            },
            "type": "scatterpolargl"
           }
          ],
          "scatterternary": [
           {
            "marker": {
             "colorbar": {
              "outlinewidth": 0,
              "ticks": ""
             }
            },
            "type": "scatterternary"
           }
          ],
          "surface": [
           {
            "colorbar": {
             "outlinewidth": 0,
             "ticks": ""
            },
            "colorscale": [
             [
              0,
              "#0d0887"
             ],
             [
              0.1111111111111111,
              "#46039f"
             ],
             [
              0.2222222222222222,
              "#7201a8"
             ],
             [
              0.3333333333333333,
              "#9c179e"
             ],
             [
              0.4444444444444444,
              "#bd3786"
             ],
             [
              0.5555555555555556,
              "#d8576b"
             ],
             [
              0.6666666666666666,
              "#ed7953"
             ],
             [
              0.7777777777777778,
              "#fb9f3a"
             ],
             [
              0.8888888888888888,
              "#fdca26"
             ],
             [
              1,
              "#f0f921"
             ]
            ],
            "type": "surface"
           }
          ],
          "table": [
           {
            "cells": {
             "fill": {
              "color": "#EBF0F8"
             },
             "line": {
              "color": "white"
             }
            },
            "header": {
             "fill": {
              "color": "#C8D4E3"
             },
             "line": {
              "color": "white"
             }
            },
            "type": "table"
           }
          ]
         },
         "layout": {
          "annotationdefaults": {
           "arrowcolor": "#2a3f5f",
           "arrowhead": 0,
           "arrowwidth": 1
          },
          "autotypenumbers": "strict",
          "coloraxis": {
           "colorbar": {
            "outlinewidth": 0,
            "ticks": ""
           }
          },
          "colorscale": {
           "diverging": [
            [
             0,
             "#8e0152"
            ],
            [
             0.1,
             "#c51b7d"
            ],
            [
             0.2,
             "#de77ae"
            ],
            [
             0.3,
             "#f1b6da"
            ],
            [
             0.4,
             "#fde0ef"
            ],
            [
             0.5,
             "#f7f7f7"
            ],
            [
             0.6,
             "#e6f5d0"
            ],
            [
             0.7,
             "#b8e186"
            ],
            [
             0.8,
             "#7fbc41"
            ],
            [
             0.9,
             "#4d9221"
            ],
            [
             1,
             "#276419"
            ]
           ],
           "sequential": [
            [
             0,
             "#0d0887"
            ],
            [
             0.1111111111111111,
             "#46039f"
            ],
            [
             0.2222222222222222,
             "#7201a8"
            ],
            [
             0.3333333333333333,
             "#9c179e"
            ],
            [
             0.4444444444444444,
             "#bd3786"
            ],
            [
             0.5555555555555556,
             "#d8576b"
            ],
            [
             0.6666666666666666,
             "#ed7953"
            ],
            [
             0.7777777777777778,
             "#fb9f3a"
            ],
            [
             0.8888888888888888,
             "#fdca26"
            ],
            [
             1,
             "#f0f921"
            ]
           ],
           "sequentialminus": [
            [
             0,
             "#0d0887"
            ],
            [
             0.1111111111111111,
             "#46039f"
            ],
            [
             0.2222222222222222,
             "#7201a8"
            ],
            [
             0.3333333333333333,
             "#9c179e"
            ],
            [
             0.4444444444444444,
             "#bd3786"
            ],
            [
             0.5555555555555556,
             "#d8576b"
            ],
            [
             0.6666666666666666,
             "#ed7953"
            ],
            [
             0.7777777777777778,
             "#fb9f3a"
            ],
            [
             0.8888888888888888,
             "#fdca26"
            ],
            [
             1,
             "#f0f921"
            ]
           ]
          },
          "colorway": [
           "#636efa",
           "#EF553B",
           "#00cc96",
           "#ab63fa",
           "#FFA15A",
           "#19d3f3",
           "#FF6692",
           "#B6E880",
           "#FF97FF",
           "#FECB52"
          ],
          "font": {
           "color": "#2a3f5f"
          },
          "geo": {
           "bgcolor": "white",
           "lakecolor": "white",
           "landcolor": "#E5ECF6",
           "showlakes": true,
           "showland": true,
           "subunitcolor": "white"
          },
          "hoverlabel": {
           "align": "left"
          },
          "hovermode": "closest",
          "mapbox": {
           "style": "light"
          },
          "paper_bgcolor": "white",
          "plot_bgcolor": "#E5ECF6",
          "polar": {
           "angularaxis": {
            "gridcolor": "white",
            "linecolor": "white",
            "ticks": ""
           },
           "bgcolor": "#E5ECF6",
           "radialaxis": {
            "gridcolor": "white",
            "linecolor": "white",
            "ticks": ""
           }
          },
          "scene": {
           "xaxis": {
            "backgroundcolor": "#E5ECF6",
            "gridcolor": "white",
            "gridwidth": 2,
            "linecolor": "white",
            "showbackground": true,
            "ticks": "",
            "zerolinecolor": "white"
           },
           "yaxis": {
            "backgroundcolor": "#E5ECF6",
            "gridcolor": "white",
            "gridwidth": 2,
            "linecolor": "white",
            "showbackground": true,
            "ticks": "",
            "zerolinecolor": "white"
           },
           "zaxis": {
            "backgroundcolor": "#E5ECF6",
            "gridcolor": "white",
            "gridwidth": 2,
            "linecolor": "white",
            "showbackground": true,
            "ticks": "",
            "zerolinecolor": "white"
           }
          },
          "shapedefaults": {
           "line": {
            "color": "#2a3f5f"
           }
          },
          "ternary": {
           "aaxis": {
            "gridcolor": "white",
            "linecolor": "white",
            "ticks": ""
           },
           "baxis": {
            "gridcolor": "white",
            "linecolor": "white",
            "ticks": ""
           },
           "bgcolor": "#E5ECF6",
           "caxis": {
            "gridcolor": "white",
            "linecolor": "white",
            "ticks": ""
           }
          },
          "title": {
           "x": 0.05
          },
          "xaxis": {
           "automargin": true,
           "gridcolor": "white",
           "linecolor": "white",
           "ticks": "",
           "title": {
            "standoff": 15
           },
           "zerolinecolor": "white",
           "zerolinewidth": 2
          },
          "yaxis": {
           "automargin": true,
           "gridcolor": "white",
           "linecolor": "white",
           "ticks": "",
           "title": {
            "standoff": 15
           },
           "zerolinecolor": "white",
           "zerolinewidth": 2
          }
         }
        },
        "title": {
         "font": {
          "color": "#4D5663"
         }
        },
        "xaxis": {
         "gridcolor": "#E1E5ED",
         "showgrid": true,
         "tickfont": {
          "color": "#4D5663"
         },
         "title": {
          "font": {
           "color": "#4D5663"
          },
          "text": ""
         },
         "zerolinecolor": "#E1E5ED"
        },
        "yaxis": {
         "gridcolor": "#E1E5ED",
         "showgrid": true,
         "tickfont": {
          "color": "#4D5663"
         },
         "title": {
          "font": {
           "color": "#4D5663"
          },
          "text": ""
         },
         "zerolinecolor": "#E1E5ED"
        }
       }
      },
      "text/html": [
       "<div>                            <div id=\"cd8af90c-b0c4-4ca0-b104-e0689c29808a\" class=\"plotly-graph-div\" style=\"height:525px; width:100%;\"></div>            <script type=\"text/javascript\">                require([\"plotly\"], function(Plotly) {                    window.PLOTLYENV=window.PLOTLYENV || {};\n",
       "                    window.PLOTLYENV.BASE_URL='https://plot.ly';                                    if (document.getElementById(\"cd8af90c-b0c4-4ca0-b104-e0689c29808a\")) {                    Plotly.newPlot(                        \"cd8af90c-b0c4-4ca0-b104-e0689c29808a\",                        [{\"marker\": {\"color\": [\"rgb(255, 153, 51)\", \"rgb(55, 128, 191)\", \"rgb(50, 171, 96)\", \"rgb(128, 0, 128)\", \"rgb(219, 64, 82)\", \"rgb(0, 128, 128)\", \"rgb(255, 255, 51)\", \"rgb(128, 128, 0)\", \"rgb(251, 128, 114)\", \"rgb(128, 177, 211)\"], \"line\": {\"width\": 1.3}, \"size\": [34, 75, 80, 78, 56, 12, 60, 63, 68, 73, 55, 42, 64, 55, 95, 34, 51, 61, 47, 76, 33, 65, 73, 59, 54, 51, 44, 52, 45, 45, 40, 59, 71, 83, 93, 67, 55, 26, 44, 51, 92, 39, 93, 59, 30, 50, 38, 63, 77, 65, 44, 71, 52, 57, 50, 73, 68, 72, 72, 75, 79, 106, 64, 88, 60, 79, 63, 60, 71, 66, 84, 55, 61, 76, 51, 29, 67, 86, 55, 69, 112, 56, 88, 75, 41, 71, 62, 89, 46, 43, 72, 64, 60, 66, 79, 48, 87, 56, 83, 76], \"symbol\": \"circle\"}, \"mode\": \"markers\", \"text\": \"\", \"type\": \"scatter\", \"x\": [-0.6955674278003409, 0.709603311671074, -0.4639112475880794, 0.6109406141883472, -0.5366807345866035, 0.7910773377517595, -0.11947942636690821, -0.47349701720928045, 0.4379025626920702, -0.7162694038809432, -0.7399661011767127, 0.17186950411304497, -1.1302051947786431, -0.9448681293583892, 0.6946221543285171, -0.12813558114594467, 0.24714774336127074, -1.401696050877737, 0.2658142400997529, 1.1587947957112168, 0.966918511877791, -0.7927216095782581, 0.06753132960304364, -0.9947952723901883, 0.1520156296155712, 0.02904167623115189, 0.5559274232627266, -1.6466726734025219, -1.1473494682674321, -1.300233840798571, -0.9329887699147729, 0.8342953223377536, -0.7998016531956084, 0.7303669267789196, 1.0166451335363904, 0.345687476091971, 0.9970011314070286, 0.09163957069787133, -0.9827263875741888, 2.046107251601977, -0.9087542910432793, 1.178729950658305, -2.6855798912420097, -0.039017895423392124, 0.7719369300095611, -0.4831134080474078, -0.7255292888680582, 0.5881142253701253, -0.6361240283966371, 2.415709480942409, -0.5995822445536416, -0.2053208344706357, 0.5614526534984946, -0.5269882532809637, -0.8431434637055175, 0.5192973390474064, -0.552047204906587, 0.32936941597121155, -1.8758010295874192, -2.3502496170590246, 0.048974160043405456, -1.0570986004732563, -1.571501953022733, 0.8895704580584978, -0.7613651522874072, -0.3796361762246006, 0.2256162238881583, 1.1124231723885278, -0.02020697294077586, -0.15171179754105252, 0.8470805537985738, -1.7336252512643053, -0.04782149486562937, 0.19254693779206455, 0.23157418873759167, 0.5178468554423196, -0.3914330320089398, 0.19396591446211114, -0.028819443653141583, 2.097703142578914, 0.7380179176926842, -0.4801374333012573, -1.4125156131663692, -0.07460973403830272, -0.28773407861577427, -0.09295631191568235, 0.7522891655138189, -1.5297240137040118, 1.1384751363045376, 1.3091217346992188, 0.8879746080979246, 0.4720820662595549, -0.5018250230207556, -1.2398951096581001, 0.32913838199510387, 0.8707335589794765, -0.1421942077971298, -0.7796115208498818, -0.13029165791235717, 0.03648733730706007], \"y\": [-0.7115712083518633, 0.20367831749698934, 0.6134576546805096, -0.36570067643631643, -0.7159140308166888, -0.9239386716004879, 2.5930230737700555, 0.4147527987618448, -0.22996385762564714, 0.5624676614965411, -1.5475325608234494, -0.6259507711406066, 0.3056636097323393, 0.20211511312646258, 0.10374629106262659, 1.814642590027516, -0.9618251387755197, 2.148194545714763, 0.9418063372995279, -1.756893092290613, -0.6451514937773778, -0.13200770808476447, 0.872337004831524, 2.3229673950851923, -0.4706761210576756, 0.5164410724972459, -0.48565279600255373, -1.2521645968922077, 0.190667708166508, -1.71765646431304, 1.527954065750762, 0.37401203490486645, -0.9774218888534799, 0.7109426456154209, -0.6026932312876238, 0.5456845135286027, 0.6371851776297126, 1.0541028159046348, -0.8355387155807726, 1.0141605310042423, -0.32801098196297007, 1.046053681722419, -0.6770303842667683, 0.428153097306062, 0.9140719808484178, 0.8309841468257837, 0.022583141337870448, -0.6262397051187514, -1.6071190249191691, -0.1989055676546752, 0.5330744191733329, 1.0761993457881287, 1.8121764700303273, -1.2688836897989333, -1.7647514937908018, -2.482464341193299, -0.6078532786143386, 0.010679248589527316, 2.183394229236031, 1.60963687506475, -1.0210660043618693, 2.508243729834317, -0.23333220546062955, 1.4028553391308474, -0.39244294429217097, -0.09295080049327233, 1.1103292193372296, 1.1949982096141774, -0.2989744322934105, 0.8871375559852462, -1.368327962932662, 0.20209814397912979, 0.40926606668519244, -0.9215941758887686, 0.9351089487739781, -0.24065253160275235, -0.11345971025377141, 0.24372600294771427, 0.455002801545644, 0.1972947992569593, 0.9717385724212538, -2.6044890057609646, -1.8119523545271286, 0.9456288963313946, 0.13644379478974555, -0.17657547306635485, -0.6080471675815619, 0.6910563876875375, -0.1889085678147469, 0.5062020601577284, -3.4814412422787626, -0.1844947741671853, 2.43070381381801, 0.8253619914959017, 0.06003229469139, 0.35353678611411077, -0.9648741956228961, -1.4325317580760464, -1.1132449693847992, -1.5049978733911864]}],                        {\"legend\": {\"bgcolor\": \"#F5F6F9\", \"font\": {\"color\": \"#4D5663\"}}, \"paper_bgcolor\": \"#F5F6F9\", \"plot_bgcolor\": \"#F5F6F9\", \"template\": {\"data\": {\"bar\": [{\"error_x\": {\"color\": \"#2a3f5f\"}, \"error_y\": {\"color\": \"#2a3f5f\"}, \"marker\": {\"line\": {\"color\": \"#E5ECF6\", \"width\": 0.5}}, \"type\": \"bar\"}], \"barpolar\": [{\"marker\": {\"line\": {\"color\": \"#E5ECF6\", \"width\": 0.5}}, \"type\": \"barpolar\"}], \"carpet\": [{\"aaxis\": {\"endlinecolor\": \"#2a3f5f\", \"gridcolor\": \"white\", \"linecolor\": \"white\", \"minorgridcolor\": \"white\", \"startlinecolor\": \"#2a3f5f\"}, \"baxis\": {\"endlinecolor\": \"#2a3f5f\", \"gridcolor\": \"white\", \"linecolor\": \"white\", \"minorgridcolor\": \"white\", \"startlinecolor\": \"#2a3f5f\"}, \"type\": \"carpet\"}], \"choropleth\": [{\"colorbar\": {\"outlinewidth\": 0, \"ticks\": \"\"}, \"type\": \"choropleth\"}], \"contour\": [{\"colorbar\": {\"outlinewidth\": 0, \"ticks\": \"\"}, \"colorscale\": [[0.0, \"#0d0887\"], [0.1111111111111111, \"#46039f\"], [0.2222222222222222, \"#7201a8\"], [0.3333333333333333, \"#9c179e\"], [0.4444444444444444, \"#bd3786\"], [0.5555555555555556, \"#d8576b\"], [0.6666666666666666, \"#ed7953\"], [0.7777777777777778, \"#fb9f3a\"], [0.8888888888888888, \"#fdca26\"], [1.0, \"#f0f921\"]], \"type\": \"contour\"}], \"contourcarpet\": [{\"colorbar\": {\"outlinewidth\": 0, \"ticks\": \"\"}, \"type\": \"contourcarpet\"}], \"heatmap\": [{\"colorbar\": {\"outlinewidth\": 0, \"ticks\": \"\"}, \"colorscale\": [[0.0, \"#0d0887\"], [0.1111111111111111, \"#46039f\"], [0.2222222222222222, \"#7201a8\"], [0.3333333333333333, \"#9c179e\"], [0.4444444444444444, \"#bd3786\"], [0.5555555555555556, \"#d8576b\"], [0.6666666666666666, \"#ed7953\"], [0.7777777777777778, \"#fb9f3a\"], [0.8888888888888888, \"#fdca26\"], [1.0, \"#f0f921\"]], \"type\": \"heatmap\"}], \"heatmapgl\": [{\"colorbar\": {\"outlinewidth\": 0, \"ticks\": \"\"}, \"colorscale\": [[0.0, \"#0d0887\"], [0.1111111111111111, \"#46039f\"], [0.2222222222222222, \"#7201a8\"], [0.3333333333333333, \"#9c179e\"], [0.4444444444444444, \"#bd3786\"], [0.5555555555555556, \"#d8576b\"], [0.6666666666666666, \"#ed7953\"], [0.7777777777777778, \"#fb9f3a\"], [0.8888888888888888, \"#fdca26\"], [1.0, \"#f0f921\"]], \"type\": \"heatmapgl\"}], \"histogram\": [{\"marker\": {\"colorbar\": {\"outlinewidth\": 0, \"ticks\": \"\"}}, \"type\": \"histogram\"}], \"histogram2d\": [{\"colorbar\": {\"outlinewidth\": 0, \"ticks\": \"\"}, \"colorscale\": [[0.0, \"#0d0887\"], [0.1111111111111111, \"#46039f\"], [0.2222222222222222, \"#7201a8\"], [0.3333333333333333, \"#9c179e\"], [0.4444444444444444, \"#bd3786\"], [0.5555555555555556, \"#d8576b\"], [0.6666666666666666, \"#ed7953\"], [0.7777777777777778, \"#fb9f3a\"], [0.8888888888888888, \"#fdca26\"], [1.0, \"#f0f921\"]], \"type\": \"histogram2d\"}], \"histogram2dcontour\": [{\"colorbar\": {\"outlinewidth\": 0, \"ticks\": \"\"}, \"colorscale\": [[0.0, \"#0d0887\"], [0.1111111111111111, \"#46039f\"], [0.2222222222222222, \"#7201a8\"], [0.3333333333333333, \"#9c179e\"], [0.4444444444444444, \"#bd3786\"], [0.5555555555555556, \"#d8576b\"], [0.6666666666666666, \"#ed7953\"], [0.7777777777777778, \"#fb9f3a\"], [0.8888888888888888, \"#fdca26\"], [1.0, \"#f0f921\"]], \"type\": \"histogram2dcontour\"}], \"mesh3d\": [{\"colorbar\": {\"outlinewidth\": 0, \"ticks\": \"\"}, \"type\": \"mesh3d\"}], \"parcoords\": [{\"line\": {\"colorbar\": {\"outlinewidth\": 0, \"ticks\": \"\"}}, \"type\": \"parcoords\"}], \"pie\": [{\"automargin\": true, \"type\": \"pie\"}], \"scatter\": [{\"marker\": {\"colorbar\": {\"outlinewidth\": 0, \"ticks\": \"\"}}, \"type\": \"scatter\"}], \"scatter3d\": [{\"line\": {\"colorbar\": {\"outlinewidth\": 0, \"ticks\": \"\"}}, \"marker\": {\"colorbar\": {\"outlinewidth\": 0, \"ticks\": \"\"}}, \"type\": \"scatter3d\"}], \"scattercarpet\": [{\"marker\": {\"colorbar\": {\"outlinewidth\": 0, \"ticks\": \"\"}}, \"type\": \"scattercarpet\"}], \"scattergeo\": [{\"marker\": {\"colorbar\": {\"outlinewidth\": 0, \"ticks\": \"\"}}, \"type\": \"scattergeo\"}], \"scattergl\": [{\"marker\": {\"colorbar\": {\"outlinewidth\": 0, \"ticks\": \"\"}}, \"type\": \"scattergl\"}], \"scattermapbox\": [{\"marker\": {\"colorbar\": {\"outlinewidth\": 0, \"ticks\": \"\"}}, \"type\": \"scattermapbox\"}], \"scatterpolar\": [{\"marker\": {\"colorbar\": {\"outlinewidth\": 0, \"ticks\": \"\"}}, \"type\": \"scatterpolar\"}], \"scatterpolargl\": [{\"marker\": {\"colorbar\": {\"outlinewidth\": 0, \"ticks\": \"\"}}, \"type\": \"scatterpolargl\"}], \"scatterternary\": [{\"marker\": {\"colorbar\": {\"outlinewidth\": 0, \"ticks\": \"\"}}, \"type\": \"scatterternary\"}], \"surface\": [{\"colorbar\": {\"outlinewidth\": 0, \"ticks\": \"\"}, \"colorscale\": [[0.0, \"#0d0887\"], [0.1111111111111111, \"#46039f\"], [0.2222222222222222, \"#7201a8\"], [0.3333333333333333, \"#9c179e\"], [0.4444444444444444, \"#bd3786\"], [0.5555555555555556, \"#d8576b\"], [0.6666666666666666, \"#ed7953\"], [0.7777777777777778, \"#fb9f3a\"], [0.8888888888888888, \"#fdca26\"], [1.0, \"#f0f921\"]], \"type\": \"surface\"}], \"table\": [{\"cells\": {\"fill\": {\"color\": \"#EBF0F8\"}, \"line\": {\"color\": \"white\"}}, \"header\": {\"fill\": {\"color\": \"#C8D4E3\"}, \"line\": {\"color\": \"white\"}}, \"type\": \"table\"}]}, \"layout\": {\"annotationdefaults\": {\"arrowcolor\": \"#2a3f5f\", \"arrowhead\": 0, \"arrowwidth\": 1}, \"autotypenumbers\": \"strict\", \"coloraxis\": {\"colorbar\": {\"outlinewidth\": 0, \"ticks\": \"\"}}, \"colorscale\": {\"diverging\": [[0, \"#8e0152\"], [0.1, \"#c51b7d\"], [0.2, \"#de77ae\"], [0.3, \"#f1b6da\"], [0.4, \"#fde0ef\"], [0.5, \"#f7f7f7\"], [0.6, \"#e6f5d0\"], [0.7, \"#b8e186\"], [0.8, \"#7fbc41\"], [0.9, \"#4d9221\"], [1, \"#276419\"]], \"sequential\": [[0.0, \"#0d0887\"], [0.1111111111111111, \"#46039f\"], [0.2222222222222222, \"#7201a8\"], [0.3333333333333333, \"#9c179e\"], [0.4444444444444444, \"#bd3786\"], [0.5555555555555556, \"#d8576b\"], [0.6666666666666666, \"#ed7953\"], [0.7777777777777778, \"#fb9f3a\"], [0.8888888888888888, \"#fdca26\"], [1.0, \"#f0f921\"]], \"sequentialminus\": [[0.0, \"#0d0887\"], [0.1111111111111111, \"#46039f\"], [0.2222222222222222, \"#7201a8\"], [0.3333333333333333, \"#9c179e\"], [0.4444444444444444, \"#bd3786\"], [0.5555555555555556, \"#d8576b\"], [0.6666666666666666, \"#ed7953\"], [0.7777777777777778, \"#fb9f3a\"], [0.8888888888888888, \"#fdca26\"], [1.0, \"#f0f921\"]]}, \"colorway\": [\"#636efa\", \"#EF553B\", \"#00cc96\", \"#ab63fa\", \"#FFA15A\", \"#19d3f3\", \"#FF6692\", \"#B6E880\", \"#FF97FF\", \"#FECB52\"], \"font\": {\"color\": \"#2a3f5f\"}, \"geo\": {\"bgcolor\": \"white\", \"lakecolor\": \"white\", \"landcolor\": \"#E5ECF6\", \"showlakes\": true, \"showland\": true, \"subunitcolor\": \"white\"}, \"hoverlabel\": {\"align\": \"left\"}, \"hovermode\": \"closest\", \"mapbox\": {\"style\": \"light\"}, \"paper_bgcolor\": \"white\", \"plot_bgcolor\": \"#E5ECF6\", \"polar\": {\"angularaxis\": {\"gridcolor\": \"white\", \"linecolor\": \"white\", \"ticks\": \"\"}, \"bgcolor\": \"#E5ECF6\", \"radialaxis\": {\"gridcolor\": \"white\", \"linecolor\": \"white\", \"ticks\": \"\"}}, \"scene\": {\"xaxis\": {\"backgroundcolor\": \"#E5ECF6\", \"gridcolor\": \"white\", \"gridwidth\": 2, \"linecolor\": \"white\", \"showbackground\": true, \"ticks\": \"\", \"zerolinecolor\": \"white\"}, \"yaxis\": {\"backgroundcolor\": \"#E5ECF6\", \"gridcolor\": \"white\", \"gridwidth\": 2, \"linecolor\": \"white\", \"showbackground\": true, \"ticks\": \"\", \"zerolinecolor\": \"white\"}, \"zaxis\": {\"backgroundcolor\": \"#E5ECF6\", \"gridcolor\": \"white\", \"gridwidth\": 2, \"linecolor\": \"white\", \"showbackground\": true, \"ticks\": \"\", \"zerolinecolor\": \"white\"}}, \"shapedefaults\": {\"line\": {\"color\": \"#2a3f5f\"}}, \"ternary\": {\"aaxis\": {\"gridcolor\": \"white\", \"linecolor\": \"white\", \"ticks\": \"\"}, \"baxis\": {\"gridcolor\": \"white\", \"linecolor\": \"white\", \"ticks\": \"\"}, \"bgcolor\": \"#E5ECF6\", \"caxis\": {\"gridcolor\": \"white\", \"linecolor\": \"white\", \"ticks\": \"\"}}, \"title\": {\"x\": 0.05}, \"xaxis\": {\"automargin\": true, \"gridcolor\": \"white\", \"linecolor\": \"white\", \"ticks\": \"\", \"title\": {\"standoff\": 15}, \"zerolinecolor\": \"white\", \"zerolinewidth\": 2}, \"yaxis\": {\"automargin\": true, \"gridcolor\": \"white\", \"linecolor\": \"white\", \"ticks\": \"\", \"title\": {\"standoff\": 15}, \"zerolinecolor\": \"white\", \"zerolinewidth\": 2}}}, \"title\": {\"font\": {\"color\": \"#4D5663\"}}, \"xaxis\": {\"gridcolor\": \"#E1E5ED\", \"showgrid\": true, \"tickfont\": {\"color\": \"#4D5663\"}, \"title\": {\"font\": {\"color\": \"#4D5663\"}, \"text\": \"\"}, \"zerolinecolor\": \"#E1E5ED\"}, \"yaxis\": {\"gridcolor\": \"#E1E5ED\", \"showgrid\": true, \"tickfont\": {\"color\": \"#4D5663\"}, \"title\": {\"font\": {\"color\": \"#4D5663\"}, \"text\": \"\"}, \"zerolinecolor\": \"#E1E5ED\"}},                        {\"showLink\": true, \"linkText\": \"Export to plot.ly\", \"plotlyServerURL\": \"https://plot.ly\", \"responsive\": true}                    ).then(function(){\n",
       "                            \n",
       "var gd = document.getElementById('cd8af90c-b0c4-4ca0-b104-e0689c29808a');\n",
       "var x = new MutationObserver(function (mutations, observer) {{\n",
       "        var display = window.getComputedStyle(gd).display;\n",
       "        if (!display || display === 'none') {{\n",
       "            console.log([gd, 'removed!']);\n",
       "            Plotly.purge(gd);\n",
       "            observer.disconnect();\n",
       "        }}\n",
       "}});\n",
       "\n",
       "// Listen for the removal of the full notebook cells\n",
       "var notebookContainer = gd.closest('#notebook-container');\n",
       "if (notebookContainer) {{\n",
       "    x.observe(notebookContainer, {childList: true});\n",
       "}}\n",
       "\n",
       "// Listen for the clearing of the current output cell\n",
       "var outputEl = gd.closest('.output');\n",
       "if (outputEl) {{\n",
       "    x.observe(outputEl, {childList: true});\n",
       "}}\n",
       "\n",
       "                        })                };                });            </script>        </div>"
      ]
     },
     "metadata": {},
     "output_type": "display_data"
    }
   ],
   "source": [
    "df.iplot(kind='bubble',x='A',y='B',size='C')"
   ]
  },
  {
   "cell_type": "markdown",
   "metadata": {},
   "source": [
    "<img src=\"images/plotly8.png\"/>"
   ]
  },
  {
   "cell_type": "markdown",
   "metadata": {},
   "source": [
    "## scatter_matrix()\n",
    "\n",
    "Similar to sns.pairplot()"
   ]
  },
  {
   "cell_type": "code",
   "execution_count": 19,
   "metadata": {},
   "outputs": [
    {
     "data": {
      "application/vnd.plotly.v1+json": {
       "config": {
        "linkText": "Export to plot.ly",
        "plotlyServerURL": "https://plot.ly",
        "showLink": true
       },
       "data": [
        {
         "histfunc": "count",
         "histnorm": "",
         "marker": {
          "color": "rgba(255, 153, 51, 1.0)",
          "line": {
           "color": "#4D5663",
           "width": 1.3
          }
         },
         "name": "A",
         "nbinsx": 10,
         "opacity": 0.8,
         "orientation": "v",
         "type": "histogram",
         "x": [
          -0.6955674278003409,
          0.709603311671074,
          -0.4639112475880794,
          0.6109406141883472,
          -0.5366807345866035,
          0.7910773377517595,
          -0.11947942636690821,
          -0.47349701720928045,
          0.4379025626920702,
          -0.7162694038809432,
          -0.7399661011767127,
          0.17186950411304497,
          -1.1302051947786431,
          -0.9448681293583892,
          0.6946221543285171,
          -0.12813558114594467,
          0.24714774336127074,
          -1.401696050877737,
          0.2658142400997529,
          1.1587947957112168,
          0.966918511877791,
          -0.7927216095782581,
          0.06753132960304364,
          -0.9947952723901883,
          0.1520156296155712,
          0.02904167623115189,
          0.5559274232627266,
          -1.6466726734025219,
          -1.1473494682674321,
          -1.300233840798571,
          -0.9329887699147729,
          0.8342953223377536,
          -0.7998016531956084,
          0.7303669267789196,
          1.0166451335363904,
          0.345687476091971,
          0.9970011314070286,
          0.09163957069787133,
          -0.9827263875741888,
          2.046107251601977,
          -0.9087542910432793,
          1.178729950658305,
          -2.6855798912420097,
          -0.039017895423392124,
          0.7719369300095611,
          -0.4831134080474078,
          -0.7255292888680582,
          0.5881142253701253,
          -0.6361240283966371,
          2.415709480942409,
          -0.5995822445536416,
          -0.2053208344706357,
          0.5614526534984946,
          -0.5269882532809637,
          -0.8431434637055175,
          0.5192973390474064,
          -0.552047204906587,
          0.32936941597121155,
          -1.8758010295874192,
          -2.3502496170590246,
          0.048974160043405456,
          -1.0570986004732563,
          -1.571501953022733,
          0.8895704580584978,
          -0.7613651522874072,
          -0.3796361762246006,
          0.2256162238881583,
          1.1124231723885278,
          -0.02020697294077586,
          -0.15171179754105252,
          0.8470805537985738,
          -1.7336252512643053,
          -0.04782149486562937,
          0.19254693779206455,
          0.23157418873759167,
          0.5178468554423196,
          -0.3914330320089398,
          0.19396591446211114,
          -0.028819443653141583,
          2.097703142578914,
          0.7380179176926842,
          -0.4801374333012573,
          -1.4125156131663692,
          -0.07460973403830272,
          -0.28773407861577427,
          -0.09295631191568235,
          0.7522891655138189,
          -1.5297240137040118,
          1.1384751363045376,
          1.3091217346992188,
          0.8879746080979246,
          0.4720820662595549,
          -0.5018250230207556,
          -1.2398951096581001,
          0.32913838199510387,
          0.8707335589794765,
          -0.1421942077971298,
          -0.7796115208498818,
          -0.13029165791235717,
          0.03648733730706007
         ],
         "xaxis": "x",
         "yaxis": "y"
        },
        {
         "line": {
          "color": "rgba(128, 128, 128, 1.0)",
          "dash": "solid",
          "shape": "linear",
          "width": 1.3
         },
         "marker": {
          "size": 2,
          "symbol": "circle"
         },
         "mode": "markers",
         "name": "A",
         "text": "",
         "type": "scatter",
         "x": [
          -0.7115712083518633,
          0.20367831749698934,
          0.6134576546805096,
          -0.36570067643631643,
          -0.7159140308166888,
          -0.9239386716004879,
          2.5930230737700555,
          0.4147527987618448,
          -0.22996385762564714,
          0.5624676614965411,
          -1.5475325608234494,
          -0.6259507711406066,
          0.3056636097323393,
          0.20211511312646258,
          0.10374629106262659,
          1.814642590027516,
          -0.9618251387755197,
          2.148194545714763,
          0.9418063372995279,
          -1.756893092290613,
          -0.6451514937773778,
          -0.13200770808476447,
          0.872337004831524,
          2.3229673950851923,
          -0.4706761210576756,
          0.5164410724972459,
          -0.48565279600255373,
          -1.2521645968922077,
          0.190667708166508,
          -1.71765646431304,
          1.527954065750762,
          0.37401203490486645,
          -0.9774218888534799,
          0.7109426456154209,
          -0.6026932312876238,
          0.5456845135286027,
          0.6371851776297126,
          1.0541028159046348,
          -0.8355387155807726,
          1.0141605310042423,
          -0.32801098196297007,
          1.046053681722419,
          -0.6770303842667683,
          0.428153097306062,
          0.9140719808484178,
          0.8309841468257837,
          0.022583141337870448,
          -0.6262397051187514,
          -1.6071190249191691,
          -0.1989055676546752,
          0.5330744191733329,
          1.0761993457881287,
          1.8121764700303273,
          -1.2688836897989333,
          -1.7647514937908018,
          -2.482464341193299,
          -0.6078532786143386,
          0.010679248589527316,
          2.183394229236031,
          1.60963687506475,
          -1.0210660043618693,
          2.508243729834317,
          -0.23333220546062955,
          1.4028553391308474,
          -0.39244294429217097,
          -0.09295080049327233,
          1.1103292193372296,
          1.1949982096141774,
          -0.2989744322934105,
          0.8871375559852462,
          -1.368327962932662,
          0.20209814397912979,
          0.40926606668519244,
          -0.9215941758887686,
          0.9351089487739781,
          -0.24065253160275235,
          -0.11345971025377141,
          0.24372600294771427,
          0.455002801545644,
          0.1972947992569593,
          0.9717385724212538,
          -2.6044890057609646,
          -1.8119523545271286,
          0.9456288963313946,
          0.13644379478974555,
          -0.17657547306635485,
          -0.6080471675815619,
          0.6910563876875375,
          -0.1889085678147469,
          0.5062020601577284,
          -3.4814412422787626,
          -0.1844947741671853,
          2.43070381381801,
          0.8253619914959017,
          0.06003229469139,
          0.35353678611411077,
          -0.9648741956228961,
          -1.4325317580760464,
          -1.1132449693847992,
          -1.5049978733911864
         ],
         "xaxis": "x2",
         "y": [
          -0.6955674278003409,
          0.709603311671074,
          -0.4639112475880794,
          0.6109406141883472,
          -0.5366807345866035,
          0.7910773377517595,
          -0.11947942636690821,
          -0.47349701720928045,
          0.4379025626920702,
          -0.7162694038809432,
          -0.7399661011767127,
          0.17186950411304497,
          -1.1302051947786431,
          -0.9448681293583892,
          0.6946221543285171,
          -0.12813558114594467,
          0.24714774336127074,
          -1.401696050877737,
          0.2658142400997529,
          1.1587947957112168,
          0.966918511877791,
          -0.7927216095782581,
          0.06753132960304364,
          -0.9947952723901883,
          0.1520156296155712,
          0.02904167623115189,
          0.5559274232627266,
          -1.6466726734025219,
          -1.1473494682674321,
          -1.300233840798571,
          -0.9329887699147729,
          0.8342953223377536,
          -0.7998016531956084,
          0.7303669267789196,
          1.0166451335363904,
          0.345687476091971,
          0.9970011314070286,
          0.09163957069787133,
          -0.9827263875741888,
          2.046107251601977,
          -0.9087542910432793,
          1.178729950658305,
          -2.6855798912420097,
          -0.039017895423392124,
          0.7719369300095611,
          -0.4831134080474078,
          -0.7255292888680582,
          0.5881142253701253,
          -0.6361240283966371,
          2.415709480942409,
          -0.5995822445536416,
          -0.2053208344706357,
          0.5614526534984946,
          -0.5269882532809637,
          -0.8431434637055175,
          0.5192973390474064,
          -0.552047204906587,
          0.32936941597121155,
          -1.8758010295874192,
          -2.3502496170590246,
          0.048974160043405456,
          -1.0570986004732563,
          -1.571501953022733,
          0.8895704580584978,
          -0.7613651522874072,
          -0.3796361762246006,
          0.2256162238881583,
          1.1124231723885278,
          -0.02020697294077586,
          -0.15171179754105252,
          0.8470805537985738,
          -1.7336252512643053,
          -0.04782149486562937,
          0.19254693779206455,
          0.23157418873759167,
          0.5178468554423196,
          -0.3914330320089398,
          0.19396591446211114,
          -0.028819443653141583,
          2.097703142578914,
          0.7380179176926842,
          -0.4801374333012573,
          -1.4125156131663692,
          -0.07460973403830272,
          -0.28773407861577427,
          -0.09295631191568235,
          0.7522891655138189,
          -1.5297240137040118,
          1.1384751363045376,
          1.3091217346992188,
          0.8879746080979246,
          0.4720820662595549,
          -0.5018250230207556,
          -1.2398951096581001,
          0.32913838199510387,
          0.8707335589794765,
          -0.1421942077971298,
          -0.7796115208498818,
          -0.13029165791235717,
          0.03648733730706007
         ],
         "yaxis": "y2"
        },
        {
         "line": {
          "color": "rgba(128, 128, 128, 1.0)",
          "dash": "solid",
          "shape": "linear",
          "width": 1.3
         },
         "marker": {
          "size": 2,
          "symbol": "circle"
         },
         "mode": "markers",
         "name": "A",
         "text": "",
         "type": "scatter",
         "x": [
          -1.6238040974131962,
          0.6757392664758547,
          0.9760729606148445,
          0.862055908290435,
          -0.40453955744098546,
          -2.8610527199677676,
          -0.140581944584434,
          0.02496929176889924,
          0.30465375719363513,
          0.5948694424871468,
          -0.42920265223907345,
          -1.1756734867887315,
          0.040368699452806765,
          -0.4617962231259209,
          1.7955002711256662,
          -1.5932256133503535,
          -0.6418212290028259,
          -0.08628995659191863,
          -0.9035271053516496,
          0.7378098853480631,
          -1.6802683281159088,
          0.0995367017452982,
          0.5635676347299098,
          -0.2205371392984177,
          -0.49826062471825555,
          -0.6423898590064763,
          -1.0508565915580506,
          -0.5774604208382002,
          -1.0009178007471513,
          -0.9912120123666746,
          -1.260208039182508,
          -0.18872143658446525,
          0.436955712975561,
          1.0997267977346983,
          1.6757119783451595,
          0.26113852808788146,
          -0.40962615109820205,
          -2.0731272933464564,
          -1.0512783919121158,
          -0.6858181579234804,
          1.6321705351469065,
          -1.3201354166500952,
          1.6879892502481604,
          -0.2006093844748727,
          -1.8297821349157273,
          -0.7135573671380527,
          -1.3744987407180982,
          -0.007623524114172672,
          0.8043348801182267,
          0.13428685566546555,
          -1.0697254759426642,
          0.4458115008719297,
          -0.5849091687752987,
          -0.3183227777360005,
          -0.7167463923161833,
          0.56391806531028,
          0.3083308023028222,
          0.5161871179568257,
          0.5141016626244824,
          0.6677545972982242,
          0.8849894848007175,
          2.384360942181475,
          0.04330896090492554,
          1.3842877351197145,
          -0.15633858361654132,
          0.891465974345801,
          -0.013205408661876304,
          -0.15189909839061694,
          0.47544478540078583,
          0.16259065067279815,
          1.1551705608611824,
          -0.43133085622998607,
          -0.1192804606375206,
          0.7486552329731277,
          -0.6444473564327091,
          -1.9036580630935813,
          0.21296771957325075,
          1.3099624409649717,
          -0.45432408036046984,
          0.3606458537832278,
          2.7161688380964515,
          -0.38601834437418847,
          1.4250134372750032,
          0.7042659815585277,
          -1.2432978392265779,
          0.4590058834834523,
          -0.017374247412086444,
          1.4535028668689962,
          -0.9155429068219456,
          -1.0873207050081553,
          0.5362550639162094,
          0.07737676669573887,
          -0.1650233443710363,
          0.16683709497806792,
          0.9051714771804598,
          -0.8348728389820331,
          1.357250067037759,
          -0.376804667600888,
          1.1340516122970452,
          0.7109013007418191
         ],
         "xaxis": "x3",
         "y": [
          -0.6955674278003409,
          0.709603311671074,
          -0.4639112475880794,
          0.6109406141883472,
          -0.5366807345866035,
          0.7910773377517595,
          -0.11947942636690821,
          -0.47349701720928045,
          0.4379025626920702,
          -0.7162694038809432,
          -0.7399661011767127,
          0.17186950411304497,
          -1.1302051947786431,
          -0.9448681293583892,
          0.6946221543285171,
          -0.12813558114594467,
          0.24714774336127074,
          -1.401696050877737,
          0.2658142400997529,
          1.1587947957112168,
          0.966918511877791,
          -0.7927216095782581,
          0.06753132960304364,
          -0.9947952723901883,
          0.1520156296155712,
          0.02904167623115189,
          0.5559274232627266,
          -1.6466726734025219,
          -1.1473494682674321,
          -1.300233840798571,
          -0.9329887699147729,
          0.8342953223377536,
          -0.7998016531956084,
          0.7303669267789196,
          1.0166451335363904,
          0.345687476091971,
          0.9970011314070286,
          0.09163957069787133,
          -0.9827263875741888,
          2.046107251601977,
          -0.9087542910432793,
          1.178729950658305,
          -2.6855798912420097,
          -0.039017895423392124,
          0.7719369300095611,
          -0.4831134080474078,
          -0.7255292888680582,
          0.5881142253701253,
          -0.6361240283966371,
          2.415709480942409,
          -0.5995822445536416,
          -0.2053208344706357,
          0.5614526534984946,
          -0.5269882532809637,
          -0.8431434637055175,
          0.5192973390474064,
          -0.552047204906587,
          0.32936941597121155,
          -1.8758010295874192,
          -2.3502496170590246,
          0.048974160043405456,
          -1.0570986004732563,
          -1.571501953022733,
          0.8895704580584978,
          -0.7613651522874072,
          -0.3796361762246006,
          0.2256162238881583,
          1.1124231723885278,
          -0.02020697294077586,
          -0.15171179754105252,
          0.8470805537985738,
          -1.7336252512643053,
          -0.04782149486562937,
          0.19254693779206455,
          0.23157418873759167,
          0.5178468554423196,
          -0.3914330320089398,
          0.19396591446211114,
          -0.028819443653141583,
          2.097703142578914,
          0.7380179176926842,
          -0.4801374333012573,
          -1.4125156131663692,
          -0.07460973403830272,
          -0.28773407861577427,
          -0.09295631191568235,
          0.7522891655138189,
          -1.5297240137040118,
          1.1384751363045376,
          1.3091217346992188,
          0.8879746080979246,
          0.4720820662595549,
          -0.5018250230207556,
          -1.2398951096581001,
          0.32913838199510387,
          0.8707335589794765,
          -0.1421942077971298,
          -0.7796115208498818,
          -0.13029165791235717,
          0.03648733730706007
         ],
         "yaxis": "y3"
        },
        {
         "line": {
          "color": "rgba(128, 128, 128, 1.0)",
          "dash": "solid",
          "shape": "linear",
          "width": 1.3
         },
         "marker": {
          "size": 2,
          "symbol": "circle"
         },
         "mode": "markers",
         "name": "A",
         "text": "",
         "type": "scatter",
         "x": [
          0.5332636654100519,
          -0.17448553509926584,
          1.0702186407912706,
          -0.8239459485689032,
          -0.19277736796240497,
          0.9878115634701904,
          -1.0019238003717077,
          0.6340669901847583,
          -0.44092991075614896,
          1.1482169731542764,
          -1.6192711259278165,
          2.0100583949114106,
          0.6171914119741962,
          1.0728353254658836,
          2.234774598685246,
          -0.14113372683940276,
          0.5735469038655757,
          0.5002857792239915,
          -0.14136529334836834,
          0.028023475607641547,
          0.42983347929310667,
          -0.4021987507932994,
          0.05679723454111941,
          -0.41881947433224914,
          -0.45767025482695795,
          -0.08957245279795471,
          -0.15869122934893043,
          0.2544976388887662,
          -0.15181335444527758,
          1.3635385547683017,
          2.9281728527138173,
          0.8613488656680641,
          1.6025589793487491,
          0.6433745524624715,
          -0.26818492568457153,
          -0.7942340114600223,
          0.7947122622474939,
          0.663908928370825,
          0.05274822843206822,
          0.05326282927921363,
          0.9858304380437507,
          -0.5037109951333828,
          2.071963806272051,
          0.23912511587653842,
          0.1640602401262859,
          -0.515702047918531,
          0.23329218245100403,
          -0.7975621651643411,
          -0.288400704619235,
          -0.20226308550200042,
          -0.2694078200285193,
          -0.044092115485592366,
          -0.01725872658883086,
          0.5655851190308381,
          -0.5581585283930425,
          -0.5876787764705258,
          2.4194096236447664,
          -0.4051483206156967,
          -0.630257275653493,
          0.40273672166939267,
          1.8087616279156626,
          -0.7948964066383825,
          -0.13985979319487046,
          1.061591244004667,
          0.013386584935048917,
          0.4269863876075386,
          0.26344428537128556,
          0.06584190312229428,
          0.579181476524353,
          0.7391876007027266,
          -0.08663854738741003,
          -0.7409329084361622,
          0.060977491621816565,
          -1.9530030016414457,
          0.5555507032508455,
          0.8704793922391589,
          0.5438663812486605,
          -0.913188730584862,
          -1.5062079171457297,
          0.9666686384082549,
          -0.6689103073463399,
          -0.869629424372071,
          0.8379810284959375,
          -0.20969583313625517,
          -2.1022706426895574,
          -2.4104695140633865,
          -0.4089688146503087,
          -0.5299112877338699,
          0.9594791891461327,
          0.5586959040600886,
          -0.3876513646705716,
          -0.04656212299625653,
          -0.5373091246983154,
          0.5647184738520705,
          0.5817005533832955,
          -0.6446213603070445,
          -3.225971181776725,
          -1.2321918389977802,
          -0.030634778288711823,
          -1.0808138809064949
         ],
         "xaxis": "x4",
         "y": [
          -0.6955674278003409,
          0.709603311671074,
          -0.4639112475880794,
          0.6109406141883472,
          -0.5366807345866035,
          0.7910773377517595,
          -0.11947942636690821,
          -0.47349701720928045,
          0.4379025626920702,
          -0.7162694038809432,
          -0.7399661011767127,
          0.17186950411304497,
          -1.1302051947786431,
          -0.9448681293583892,
          0.6946221543285171,
          -0.12813558114594467,
          0.24714774336127074,
          -1.401696050877737,
          0.2658142400997529,
          1.1587947957112168,
          0.966918511877791,
          -0.7927216095782581,
          0.06753132960304364,
          -0.9947952723901883,
          0.1520156296155712,
          0.02904167623115189,
          0.5559274232627266,
          -1.6466726734025219,
          -1.1473494682674321,
          -1.300233840798571,
          -0.9329887699147729,
          0.8342953223377536,
          -0.7998016531956084,
          0.7303669267789196,
          1.0166451335363904,
          0.345687476091971,
          0.9970011314070286,
          0.09163957069787133,
          -0.9827263875741888,
          2.046107251601977,
          -0.9087542910432793,
          1.178729950658305,
          -2.6855798912420097,
          -0.039017895423392124,
          0.7719369300095611,
          -0.4831134080474078,
          -0.7255292888680582,
          0.5881142253701253,
          -0.6361240283966371,
          2.415709480942409,
          -0.5995822445536416,
          -0.2053208344706357,
          0.5614526534984946,
          -0.5269882532809637,
          -0.8431434637055175,
          0.5192973390474064,
          -0.552047204906587,
          0.32936941597121155,
          -1.8758010295874192,
          -2.3502496170590246,
          0.048974160043405456,
          -1.0570986004732563,
          -1.571501953022733,
          0.8895704580584978,
          -0.7613651522874072,
          -0.3796361762246006,
          0.2256162238881583,
          1.1124231723885278,
          -0.02020697294077586,
          -0.15171179754105252,
          0.8470805537985738,
          -1.7336252512643053,
          -0.04782149486562937,
          0.19254693779206455,
          0.23157418873759167,
          0.5178468554423196,
          -0.3914330320089398,
          0.19396591446211114,
          -0.028819443653141583,
          2.097703142578914,
          0.7380179176926842,
          -0.4801374333012573,
          -1.4125156131663692,
          -0.07460973403830272,
          -0.28773407861577427,
          -0.09295631191568235,
          0.7522891655138189,
          -1.5297240137040118,
          1.1384751363045376,
          1.3091217346992188,
          0.8879746080979246,
          0.4720820662595549,
          -0.5018250230207556,
          -1.2398951096581001,
          0.32913838199510387,
          0.8707335589794765,
          -0.1421942077971298,
          -0.7796115208498818,
          -0.13029165791235717,
          0.03648733730706007
         ],
         "yaxis": "y4"
        },
        {
         "line": {
          "color": "rgba(128, 128, 128, 1.0)",
          "dash": "solid",
          "shape": "linear",
          "width": 1.3
         },
         "marker": {
          "size": 2,
          "symbol": "circle"
         },
         "mode": "markers",
         "name": "B",
         "text": "",
         "type": "scatter",
         "x": [
          -0.6955674278003409,
          0.709603311671074,
          -0.4639112475880794,
          0.6109406141883472,
          -0.5366807345866035,
          0.7910773377517595,
          -0.11947942636690821,
          -0.47349701720928045,
          0.4379025626920702,
          -0.7162694038809432,
          -0.7399661011767127,
          0.17186950411304497,
          -1.1302051947786431,
          -0.9448681293583892,
          0.6946221543285171,
          -0.12813558114594467,
          0.24714774336127074,
          -1.401696050877737,
          0.2658142400997529,
          1.1587947957112168,
          0.966918511877791,
          -0.7927216095782581,
          0.06753132960304364,
          -0.9947952723901883,
          0.1520156296155712,
          0.02904167623115189,
          0.5559274232627266,
          -1.6466726734025219,
          -1.1473494682674321,
          -1.300233840798571,
          -0.9329887699147729,
          0.8342953223377536,
          -0.7998016531956084,
          0.7303669267789196,
          1.0166451335363904,
          0.345687476091971,
          0.9970011314070286,
          0.09163957069787133,
          -0.9827263875741888,
          2.046107251601977,
          -0.9087542910432793,
          1.178729950658305,
          -2.6855798912420097,
          -0.039017895423392124,
          0.7719369300095611,
          -0.4831134080474078,
          -0.7255292888680582,
          0.5881142253701253,
          -0.6361240283966371,
          2.415709480942409,
          -0.5995822445536416,
          -0.2053208344706357,
          0.5614526534984946,
          -0.5269882532809637,
          -0.8431434637055175,
          0.5192973390474064,
          -0.552047204906587,
          0.32936941597121155,
          -1.8758010295874192,
          -2.3502496170590246,
          0.048974160043405456,
          -1.0570986004732563,
          -1.571501953022733,
          0.8895704580584978,
          -0.7613651522874072,
          -0.3796361762246006,
          0.2256162238881583,
          1.1124231723885278,
          -0.02020697294077586,
          -0.15171179754105252,
          0.8470805537985738,
          -1.7336252512643053,
          -0.04782149486562937,
          0.19254693779206455,
          0.23157418873759167,
          0.5178468554423196,
          -0.3914330320089398,
          0.19396591446211114,
          -0.028819443653141583,
          2.097703142578914,
          0.7380179176926842,
          -0.4801374333012573,
          -1.4125156131663692,
          -0.07460973403830272,
          -0.28773407861577427,
          -0.09295631191568235,
          0.7522891655138189,
          -1.5297240137040118,
          1.1384751363045376,
          1.3091217346992188,
          0.8879746080979246,
          0.4720820662595549,
          -0.5018250230207556,
          -1.2398951096581001,
          0.32913838199510387,
          0.8707335589794765,
          -0.1421942077971298,
          -0.7796115208498818,
          -0.13029165791235717,
          0.03648733730706007
         ],
         "xaxis": "x5",
         "y": [
          -0.7115712083518633,
          0.20367831749698934,
          0.6134576546805096,
          -0.36570067643631643,
          -0.7159140308166888,
          -0.9239386716004879,
          2.5930230737700555,
          0.4147527987618448,
          -0.22996385762564714,
          0.5624676614965411,
          -1.5475325608234494,
          -0.6259507711406066,
          0.3056636097323393,
          0.20211511312646258,
          0.10374629106262659,
          1.814642590027516,
          -0.9618251387755197,
          2.148194545714763,
          0.9418063372995279,
          -1.756893092290613,
          -0.6451514937773778,
          -0.13200770808476447,
          0.872337004831524,
          2.3229673950851923,
          -0.4706761210576756,
          0.5164410724972459,
          -0.48565279600255373,
          -1.2521645968922077,
          0.190667708166508,
          -1.71765646431304,
          1.527954065750762,
          0.37401203490486645,
          -0.9774218888534799,
          0.7109426456154209,
          -0.6026932312876238,
          0.5456845135286027,
          0.6371851776297126,
          1.0541028159046348,
          -0.8355387155807726,
          1.0141605310042423,
          -0.32801098196297007,
          1.046053681722419,
          -0.6770303842667683,
          0.428153097306062,
          0.9140719808484178,
          0.8309841468257837,
          0.022583141337870448,
          -0.6262397051187514,
          -1.6071190249191691,
          -0.1989055676546752,
          0.5330744191733329,
          1.0761993457881287,
          1.8121764700303273,
          -1.2688836897989333,
          -1.7647514937908018,
          -2.482464341193299,
          -0.6078532786143386,
          0.010679248589527316,
          2.183394229236031,
          1.60963687506475,
          -1.0210660043618693,
          2.508243729834317,
          -0.23333220546062955,
          1.4028553391308474,
          -0.39244294429217097,
          -0.09295080049327233,
          1.1103292193372296,
          1.1949982096141774,
          -0.2989744322934105,
          0.8871375559852462,
          -1.368327962932662,
          0.20209814397912979,
          0.40926606668519244,
          -0.9215941758887686,
          0.9351089487739781,
          -0.24065253160275235,
          -0.11345971025377141,
          0.24372600294771427,
          0.455002801545644,
          0.1972947992569593,
          0.9717385724212538,
          -2.6044890057609646,
          -1.8119523545271286,
          0.9456288963313946,
          0.13644379478974555,
          -0.17657547306635485,
          -0.6080471675815619,
          0.6910563876875375,
          -0.1889085678147469,
          0.5062020601577284,
          -3.4814412422787626,
          -0.1844947741671853,
          2.43070381381801,
          0.8253619914959017,
          0.06003229469139,
          0.35353678611411077,
          -0.9648741956228961,
          -1.4325317580760464,
          -1.1132449693847992,
          -1.5049978733911864
         ],
         "yaxis": "y5"
        },
        {
         "histfunc": "count",
         "histnorm": "",
         "marker": {
          "color": "rgba(55, 128, 191, 1.0)",
          "line": {
           "color": "#4D5663",
           "width": 1.3
          }
         },
         "name": "B",
         "nbinsx": 10,
         "opacity": 0.8,
         "orientation": "v",
         "type": "histogram",
         "x": [
          -0.7115712083518633,
          0.20367831749698934,
          0.6134576546805096,
          -0.36570067643631643,
          -0.7159140308166888,
          -0.9239386716004879,
          2.5930230737700555,
          0.4147527987618448,
          -0.22996385762564714,
          0.5624676614965411,
          -1.5475325608234494,
          -0.6259507711406066,
          0.3056636097323393,
          0.20211511312646258,
          0.10374629106262659,
          1.814642590027516,
          -0.9618251387755197,
          2.148194545714763,
          0.9418063372995279,
          -1.756893092290613,
          -0.6451514937773778,
          -0.13200770808476447,
          0.872337004831524,
          2.3229673950851923,
          -0.4706761210576756,
          0.5164410724972459,
          -0.48565279600255373,
          -1.2521645968922077,
          0.190667708166508,
          -1.71765646431304,
          1.527954065750762,
          0.37401203490486645,
          -0.9774218888534799,
          0.7109426456154209,
          -0.6026932312876238,
          0.5456845135286027,
          0.6371851776297126,
          1.0541028159046348,
          -0.8355387155807726,
          1.0141605310042423,
          -0.32801098196297007,
          1.046053681722419,
          -0.6770303842667683,
          0.428153097306062,
          0.9140719808484178,
          0.8309841468257837,
          0.022583141337870448,
          -0.6262397051187514,
          -1.6071190249191691,
          -0.1989055676546752,
          0.5330744191733329,
          1.0761993457881287,
          1.8121764700303273,
          -1.2688836897989333,
          -1.7647514937908018,
          -2.482464341193299,
          -0.6078532786143386,
          0.010679248589527316,
          2.183394229236031,
          1.60963687506475,
          -1.0210660043618693,
          2.508243729834317,
          -0.23333220546062955,
          1.4028553391308474,
          -0.39244294429217097,
          -0.09295080049327233,
          1.1103292193372296,
          1.1949982096141774,
          -0.2989744322934105,
          0.8871375559852462,
          -1.368327962932662,
          0.20209814397912979,
          0.40926606668519244,
          -0.9215941758887686,
          0.9351089487739781,
          -0.24065253160275235,
          -0.11345971025377141,
          0.24372600294771427,
          0.455002801545644,
          0.1972947992569593,
          0.9717385724212538,
          -2.6044890057609646,
          -1.8119523545271286,
          0.9456288963313946,
          0.13644379478974555,
          -0.17657547306635485,
          -0.6080471675815619,
          0.6910563876875375,
          -0.1889085678147469,
          0.5062020601577284,
          -3.4814412422787626,
          -0.1844947741671853,
          2.43070381381801,
          0.8253619914959017,
          0.06003229469139,
          0.35353678611411077,
          -0.9648741956228961,
          -1.4325317580760464,
          -1.1132449693847992,
          -1.5049978733911864
         ],
         "xaxis": "x6",
         "yaxis": "y6"
        },
        {
         "line": {
          "color": "rgba(128, 128, 128, 1.0)",
          "dash": "solid",
          "shape": "linear",
          "width": 1.3
         },
         "marker": {
          "size": 2,
          "symbol": "circle"
         },
         "mode": "markers",
         "name": "B",
         "text": "",
         "type": "scatter",
         "x": [
          -1.6238040974131962,
          0.6757392664758547,
          0.9760729606148445,
          0.862055908290435,
          -0.40453955744098546,
          -2.8610527199677676,
          -0.140581944584434,
          0.02496929176889924,
          0.30465375719363513,
          0.5948694424871468,
          -0.42920265223907345,
          -1.1756734867887315,
          0.040368699452806765,
          -0.4617962231259209,
          1.7955002711256662,
          -1.5932256133503535,
          -0.6418212290028259,
          -0.08628995659191863,
          -0.9035271053516496,
          0.7378098853480631,
          -1.6802683281159088,
          0.0995367017452982,
          0.5635676347299098,
          -0.2205371392984177,
          -0.49826062471825555,
          -0.6423898590064763,
          -1.0508565915580506,
          -0.5774604208382002,
          -1.0009178007471513,
          -0.9912120123666746,
          -1.260208039182508,
          -0.18872143658446525,
          0.436955712975561,
          1.0997267977346983,
          1.6757119783451595,
          0.26113852808788146,
          -0.40962615109820205,
          -2.0731272933464564,
          -1.0512783919121158,
          -0.6858181579234804,
          1.6321705351469065,
          -1.3201354166500952,
          1.6879892502481604,
          -0.2006093844748727,
          -1.8297821349157273,
          -0.7135573671380527,
          -1.3744987407180982,
          -0.007623524114172672,
          0.8043348801182267,
          0.13428685566546555,
          -1.0697254759426642,
          0.4458115008719297,
          -0.5849091687752987,
          -0.3183227777360005,
          -0.7167463923161833,
          0.56391806531028,
          0.3083308023028222,
          0.5161871179568257,
          0.5141016626244824,
          0.6677545972982242,
          0.8849894848007175,
          2.384360942181475,
          0.04330896090492554,
          1.3842877351197145,
          -0.15633858361654132,
          0.891465974345801,
          -0.013205408661876304,
          -0.15189909839061694,
          0.47544478540078583,
          0.16259065067279815,
          1.1551705608611824,
          -0.43133085622998607,
          -0.1192804606375206,
          0.7486552329731277,
          -0.6444473564327091,
          -1.9036580630935813,
          0.21296771957325075,
          1.3099624409649717,
          -0.45432408036046984,
          0.3606458537832278,
          2.7161688380964515,
          -0.38601834437418847,
          1.4250134372750032,
          0.7042659815585277,
          -1.2432978392265779,
          0.4590058834834523,
          -0.017374247412086444,
          1.4535028668689962,
          -0.9155429068219456,
          -1.0873207050081553,
          0.5362550639162094,
          0.07737676669573887,
          -0.1650233443710363,
          0.16683709497806792,
          0.9051714771804598,
          -0.8348728389820331,
          1.357250067037759,
          -0.376804667600888,
          1.1340516122970452,
          0.7109013007418191
         ],
         "xaxis": "x7",
         "y": [
          -0.7115712083518633,
          0.20367831749698934,
          0.6134576546805096,
          -0.36570067643631643,
          -0.7159140308166888,
          -0.9239386716004879,
          2.5930230737700555,
          0.4147527987618448,
          -0.22996385762564714,
          0.5624676614965411,
          -1.5475325608234494,
          -0.6259507711406066,
          0.3056636097323393,
          0.20211511312646258,
          0.10374629106262659,
          1.814642590027516,
          -0.9618251387755197,
          2.148194545714763,
          0.9418063372995279,
          -1.756893092290613,
          -0.6451514937773778,
          -0.13200770808476447,
          0.872337004831524,
          2.3229673950851923,
          -0.4706761210576756,
          0.5164410724972459,
          -0.48565279600255373,
          -1.2521645968922077,
          0.190667708166508,
          -1.71765646431304,
          1.527954065750762,
          0.37401203490486645,
          -0.9774218888534799,
          0.7109426456154209,
          -0.6026932312876238,
          0.5456845135286027,
          0.6371851776297126,
          1.0541028159046348,
          -0.8355387155807726,
          1.0141605310042423,
          -0.32801098196297007,
          1.046053681722419,
          -0.6770303842667683,
          0.428153097306062,
          0.9140719808484178,
          0.8309841468257837,
          0.022583141337870448,
          -0.6262397051187514,
          -1.6071190249191691,
          -0.1989055676546752,
          0.5330744191733329,
          1.0761993457881287,
          1.8121764700303273,
          -1.2688836897989333,
          -1.7647514937908018,
          -2.482464341193299,
          -0.6078532786143386,
          0.010679248589527316,
          2.183394229236031,
          1.60963687506475,
          -1.0210660043618693,
          2.508243729834317,
          -0.23333220546062955,
          1.4028553391308474,
          -0.39244294429217097,
          -0.09295080049327233,
          1.1103292193372296,
          1.1949982096141774,
          -0.2989744322934105,
          0.8871375559852462,
          -1.368327962932662,
          0.20209814397912979,
          0.40926606668519244,
          -0.9215941758887686,
          0.9351089487739781,
          -0.24065253160275235,
          -0.11345971025377141,
          0.24372600294771427,
          0.455002801545644,
          0.1972947992569593,
          0.9717385724212538,
          -2.6044890057609646,
          -1.8119523545271286,
          0.9456288963313946,
          0.13644379478974555,
          -0.17657547306635485,
          -0.6080471675815619,
          0.6910563876875375,
          -0.1889085678147469,
          0.5062020601577284,
          -3.4814412422787626,
          -0.1844947741671853,
          2.43070381381801,
          0.8253619914959017,
          0.06003229469139,
          0.35353678611411077,
          -0.9648741956228961,
          -1.4325317580760464,
          -1.1132449693847992,
          -1.5049978733911864
         ],
         "yaxis": "y7"
        },
        {
         "line": {
          "color": "rgba(128, 128, 128, 1.0)",
          "dash": "solid",
          "shape": "linear",
          "width": 1.3
         },
         "marker": {
          "size": 2,
          "symbol": "circle"
         },
         "mode": "markers",
         "name": "B",
         "text": "",
         "type": "scatter",
         "x": [
          0.5332636654100519,
          -0.17448553509926584,
          1.0702186407912706,
          -0.8239459485689032,
          -0.19277736796240497,
          0.9878115634701904,
          -1.0019238003717077,
          0.6340669901847583,
          -0.44092991075614896,
          1.1482169731542764,
          -1.6192711259278165,
          2.0100583949114106,
          0.6171914119741962,
          1.0728353254658836,
          2.234774598685246,
          -0.14113372683940276,
          0.5735469038655757,
          0.5002857792239915,
          -0.14136529334836834,
          0.028023475607641547,
          0.42983347929310667,
          -0.4021987507932994,
          0.05679723454111941,
          -0.41881947433224914,
          -0.45767025482695795,
          -0.08957245279795471,
          -0.15869122934893043,
          0.2544976388887662,
          -0.15181335444527758,
          1.3635385547683017,
          2.9281728527138173,
          0.8613488656680641,
          1.6025589793487491,
          0.6433745524624715,
          -0.26818492568457153,
          -0.7942340114600223,
          0.7947122622474939,
          0.663908928370825,
          0.05274822843206822,
          0.05326282927921363,
          0.9858304380437507,
          -0.5037109951333828,
          2.071963806272051,
          0.23912511587653842,
          0.1640602401262859,
          -0.515702047918531,
          0.23329218245100403,
          -0.7975621651643411,
          -0.288400704619235,
          -0.20226308550200042,
          -0.2694078200285193,
          -0.044092115485592366,
          -0.01725872658883086,
          0.5655851190308381,
          -0.5581585283930425,
          -0.5876787764705258,
          2.4194096236447664,
          -0.4051483206156967,
          -0.630257275653493,
          0.40273672166939267,
          1.8087616279156626,
          -0.7948964066383825,
          -0.13985979319487046,
          1.061591244004667,
          0.013386584935048917,
          0.4269863876075386,
          0.26344428537128556,
          0.06584190312229428,
          0.579181476524353,
          0.7391876007027266,
          -0.08663854738741003,
          -0.7409329084361622,
          0.060977491621816565,
          -1.9530030016414457,
          0.5555507032508455,
          0.8704793922391589,
          0.5438663812486605,
          -0.913188730584862,
          -1.5062079171457297,
          0.9666686384082549,
          -0.6689103073463399,
          -0.869629424372071,
          0.8379810284959375,
          -0.20969583313625517,
          -2.1022706426895574,
          -2.4104695140633865,
          -0.4089688146503087,
          -0.5299112877338699,
          0.9594791891461327,
          0.5586959040600886,
          -0.3876513646705716,
          -0.04656212299625653,
          -0.5373091246983154,
          0.5647184738520705,
          0.5817005533832955,
          -0.6446213603070445,
          -3.225971181776725,
          -1.2321918389977802,
          -0.030634778288711823,
          -1.0808138809064949
         ],
         "xaxis": "x8",
         "y": [
          -0.7115712083518633,
          0.20367831749698934,
          0.6134576546805096,
          -0.36570067643631643,
          -0.7159140308166888,
          -0.9239386716004879,
          2.5930230737700555,
          0.4147527987618448,
          -0.22996385762564714,
          0.5624676614965411,
          -1.5475325608234494,
          -0.6259507711406066,
          0.3056636097323393,
          0.20211511312646258,
          0.10374629106262659,
          1.814642590027516,
          -0.9618251387755197,
          2.148194545714763,
          0.9418063372995279,
          -1.756893092290613,
          -0.6451514937773778,
          -0.13200770808476447,
          0.872337004831524,
          2.3229673950851923,
          -0.4706761210576756,
          0.5164410724972459,
          -0.48565279600255373,
          -1.2521645968922077,
          0.190667708166508,
          -1.71765646431304,
          1.527954065750762,
          0.37401203490486645,
          -0.9774218888534799,
          0.7109426456154209,
          -0.6026932312876238,
          0.5456845135286027,
          0.6371851776297126,
          1.0541028159046348,
          -0.8355387155807726,
          1.0141605310042423,
          -0.32801098196297007,
          1.046053681722419,
          -0.6770303842667683,
          0.428153097306062,
          0.9140719808484178,
          0.8309841468257837,
          0.022583141337870448,
          -0.6262397051187514,
          -1.6071190249191691,
          -0.1989055676546752,
          0.5330744191733329,
          1.0761993457881287,
          1.8121764700303273,
          -1.2688836897989333,
          -1.7647514937908018,
          -2.482464341193299,
          -0.6078532786143386,
          0.010679248589527316,
          2.183394229236031,
          1.60963687506475,
          -1.0210660043618693,
          2.508243729834317,
          -0.23333220546062955,
          1.4028553391308474,
          -0.39244294429217097,
          -0.09295080049327233,
          1.1103292193372296,
          1.1949982096141774,
          -0.2989744322934105,
          0.8871375559852462,
          -1.368327962932662,
          0.20209814397912979,
          0.40926606668519244,
          -0.9215941758887686,
          0.9351089487739781,
          -0.24065253160275235,
          -0.11345971025377141,
          0.24372600294771427,
          0.455002801545644,
          0.1972947992569593,
          0.9717385724212538,
          -2.6044890057609646,
          -1.8119523545271286,
          0.9456288963313946,
          0.13644379478974555,
          -0.17657547306635485,
          -0.6080471675815619,
          0.6910563876875375,
          -0.1889085678147469,
          0.5062020601577284,
          -3.4814412422787626,
          -0.1844947741671853,
          2.43070381381801,
          0.8253619914959017,
          0.06003229469139,
          0.35353678611411077,
          -0.9648741956228961,
          -1.4325317580760464,
          -1.1132449693847992,
          -1.5049978733911864
         ],
         "yaxis": "y8"
        },
        {
         "line": {
          "color": "rgba(128, 128, 128, 1.0)",
          "dash": "solid",
          "shape": "linear",
          "width": 1.3
         },
         "marker": {
          "size": 2,
          "symbol": "circle"
         },
         "mode": "markers",
         "name": "C",
         "text": "",
         "type": "scatter",
         "x": [
          -0.6955674278003409,
          0.709603311671074,
          -0.4639112475880794,
          0.6109406141883472,
          -0.5366807345866035,
          0.7910773377517595,
          -0.11947942636690821,
          -0.47349701720928045,
          0.4379025626920702,
          -0.7162694038809432,
          -0.7399661011767127,
          0.17186950411304497,
          -1.1302051947786431,
          -0.9448681293583892,
          0.6946221543285171,
          -0.12813558114594467,
          0.24714774336127074,
          -1.401696050877737,
          0.2658142400997529,
          1.1587947957112168,
          0.966918511877791,
          -0.7927216095782581,
          0.06753132960304364,
          -0.9947952723901883,
          0.1520156296155712,
          0.02904167623115189,
          0.5559274232627266,
          -1.6466726734025219,
          -1.1473494682674321,
          -1.300233840798571,
          -0.9329887699147729,
          0.8342953223377536,
          -0.7998016531956084,
          0.7303669267789196,
          1.0166451335363904,
          0.345687476091971,
          0.9970011314070286,
          0.09163957069787133,
          -0.9827263875741888,
          2.046107251601977,
          -0.9087542910432793,
          1.178729950658305,
          -2.6855798912420097,
          -0.039017895423392124,
          0.7719369300095611,
          -0.4831134080474078,
          -0.7255292888680582,
          0.5881142253701253,
          -0.6361240283966371,
          2.415709480942409,
          -0.5995822445536416,
          -0.2053208344706357,
          0.5614526534984946,
          -0.5269882532809637,
          -0.8431434637055175,
          0.5192973390474064,
          -0.552047204906587,
          0.32936941597121155,
          -1.8758010295874192,
          -2.3502496170590246,
          0.048974160043405456,
          -1.0570986004732563,
          -1.571501953022733,
          0.8895704580584978,
          -0.7613651522874072,
          -0.3796361762246006,
          0.2256162238881583,
          1.1124231723885278,
          -0.02020697294077586,
          -0.15171179754105252,
          0.8470805537985738,
          -1.7336252512643053,
          -0.04782149486562937,
          0.19254693779206455,
          0.23157418873759167,
          0.5178468554423196,
          -0.3914330320089398,
          0.19396591446211114,
          -0.028819443653141583,
          2.097703142578914,
          0.7380179176926842,
          -0.4801374333012573,
          -1.4125156131663692,
          -0.07460973403830272,
          -0.28773407861577427,
          -0.09295631191568235,
          0.7522891655138189,
          -1.5297240137040118,
          1.1384751363045376,
          1.3091217346992188,
          0.8879746080979246,
          0.4720820662595549,
          -0.5018250230207556,
          -1.2398951096581001,
          0.32913838199510387,
          0.8707335589794765,
          -0.1421942077971298,
          -0.7796115208498818,
          -0.13029165791235717,
          0.03648733730706007
         ],
         "xaxis": "x9",
         "y": [
          -1.6238040974131962,
          0.6757392664758547,
          0.9760729606148445,
          0.862055908290435,
          -0.40453955744098546,
          -2.8610527199677676,
          -0.140581944584434,
          0.02496929176889924,
          0.30465375719363513,
          0.5948694424871468,
          -0.42920265223907345,
          -1.1756734867887315,
          0.040368699452806765,
          -0.4617962231259209,
          1.7955002711256662,
          -1.5932256133503535,
          -0.6418212290028259,
          -0.08628995659191863,
          -0.9035271053516496,
          0.7378098853480631,
          -1.6802683281159088,
          0.0995367017452982,
          0.5635676347299098,
          -0.2205371392984177,
          -0.49826062471825555,
          -0.6423898590064763,
          -1.0508565915580506,
          -0.5774604208382002,
          -1.0009178007471513,
          -0.9912120123666746,
          -1.260208039182508,
          -0.18872143658446525,
          0.436955712975561,
          1.0997267977346983,
          1.6757119783451595,
          0.26113852808788146,
          -0.40962615109820205,
          -2.0731272933464564,
          -1.0512783919121158,
          -0.6858181579234804,
          1.6321705351469065,
          -1.3201354166500952,
          1.6879892502481604,
          -0.2006093844748727,
          -1.8297821349157273,
          -0.7135573671380527,
          -1.3744987407180982,
          -0.007623524114172672,
          0.8043348801182267,
          0.13428685566546555,
          -1.0697254759426642,
          0.4458115008719297,
          -0.5849091687752987,
          -0.3183227777360005,
          -0.7167463923161833,
          0.56391806531028,
          0.3083308023028222,
          0.5161871179568257,
          0.5141016626244824,
          0.6677545972982242,
          0.8849894848007175,
          2.384360942181475,
          0.04330896090492554,
          1.3842877351197145,
          -0.15633858361654132,
          0.891465974345801,
          -0.013205408661876304,
          -0.15189909839061694,
          0.47544478540078583,
          0.16259065067279815,
          1.1551705608611824,
          -0.43133085622998607,
          -0.1192804606375206,
          0.7486552329731277,
          -0.6444473564327091,
          -1.9036580630935813,
          0.21296771957325075,
          1.3099624409649717,
          -0.45432408036046984,
          0.3606458537832278,
          2.7161688380964515,
          -0.38601834437418847,
          1.4250134372750032,
          0.7042659815585277,
          -1.2432978392265779,
          0.4590058834834523,
          -0.017374247412086444,
          1.4535028668689962,
          -0.9155429068219456,
          -1.0873207050081553,
          0.5362550639162094,
          0.07737676669573887,
          -0.1650233443710363,
          0.16683709497806792,
          0.9051714771804598,
          -0.8348728389820331,
          1.357250067037759,
          -0.376804667600888,
          1.1340516122970452,
          0.7109013007418191
         ],
         "yaxis": "y9"
        },
        {
         "line": {
          "color": "rgba(128, 128, 128, 1.0)",
          "dash": "solid",
          "shape": "linear",
          "width": 1.3
         },
         "marker": {
          "size": 2,
          "symbol": "circle"
         },
         "mode": "markers",
         "name": "C",
         "text": "",
         "type": "scatter",
         "x": [
          -0.7115712083518633,
          0.20367831749698934,
          0.6134576546805096,
          -0.36570067643631643,
          -0.7159140308166888,
          -0.9239386716004879,
          2.5930230737700555,
          0.4147527987618448,
          -0.22996385762564714,
          0.5624676614965411,
          -1.5475325608234494,
          -0.6259507711406066,
          0.3056636097323393,
          0.20211511312646258,
          0.10374629106262659,
          1.814642590027516,
          -0.9618251387755197,
          2.148194545714763,
          0.9418063372995279,
          -1.756893092290613,
          -0.6451514937773778,
          -0.13200770808476447,
          0.872337004831524,
          2.3229673950851923,
          -0.4706761210576756,
          0.5164410724972459,
          -0.48565279600255373,
          -1.2521645968922077,
          0.190667708166508,
          -1.71765646431304,
          1.527954065750762,
          0.37401203490486645,
          -0.9774218888534799,
          0.7109426456154209,
          -0.6026932312876238,
          0.5456845135286027,
          0.6371851776297126,
          1.0541028159046348,
          -0.8355387155807726,
          1.0141605310042423,
          -0.32801098196297007,
          1.046053681722419,
          -0.6770303842667683,
          0.428153097306062,
          0.9140719808484178,
          0.8309841468257837,
          0.022583141337870448,
          -0.6262397051187514,
          -1.6071190249191691,
          -0.1989055676546752,
          0.5330744191733329,
          1.0761993457881287,
          1.8121764700303273,
          -1.2688836897989333,
          -1.7647514937908018,
          -2.482464341193299,
          -0.6078532786143386,
          0.010679248589527316,
          2.183394229236031,
          1.60963687506475,
          -1.0210660043618693,
          2.508243729834317,
          -0.23333220546062955,
          1.4028553391308474,
          -0.39244294429217097,
          -0.09295080049327233,
          1.1103292193372296,
          1.1949982096141774,
          -0.2989744322934105,
          0.8871375559852462,
          -1.368327962932662,
          0.20209814397912979,
          0.40926606668519244,
          -0.9215941758887686,
          0.9351089487739781,
          -0.24065253160275235,
          -0.11345971025377141,
          0.24372600294771427,
          0.455002801545644,
          0.1972947992569593,
          0.9717385724212538,
          -2.6044890057609646,
          -1.8119523545271286,
          0.9456288963313946,
          0.13644379478974555,
          -0.17657547306635485,
          -0.6080471675815619,
          0.6910563876875375,
          -0.1889085678147469,
          0.5062020601577284,
          -3.4814412422787626,
          -0.1844947741671853,
          2.43070381381801,
          0.8253619914959017,
          0.06003229469139,
          0.35353678611411077,
          -0.9648741956228961,
          -1.4325317580760464,
          -1.1132449693847992,
          -1.5049978733911864
         ],
         "xaxis": "x10",
         "y": [
          -1.6238040974131962,
          0.6757392664758547,
          0.9760729606148445,
          0.862055908290435,
          -0.40453955744098546,
          -2.8610527199677676,
          -0.140581944584434,
          0.02496929176889924,
          0.30465375719363513,
          0.5948694424871468,
          -0.42920265223907345,
          -1.1756734867887315,
          0.040368699452806765,
          -0.4617962231259209,
          1.7955002711256662,
          -1.5932256133503535,
          -0.6418212290028259,
          -0.08628995659191863,
          -0.9035271053516496,
          0.7378098853480631,
          -1.6802683281159088,
          0.0995367017452982,
          0.5635676347299098,
          -0.2205371392984177,
          -0.49826062471825555,
          -0.6423898590064763,
          -1.0508565915580506,
          -0.5774604208382002,
          -1.0009178007471513,
          -0.9912120123666746,
          -1.260208039182508,
          -0.18872143658446525,
          0.436955712975561,
          1.0997267977346983,
          1.6757119783451595,
          0.26113852808788146,
          -0.40962615109820205,
          -2.0731272933464564,
          -1.0512783919121158,
          -0.6858181579234804,
          1.6321705351469065,
          -1.3201354166500952,
          1.6879892502481604,
          -0.2006093844748727,
          -1.8297821349157273,
          -0.7135573671380527,
          -1.3744987407180982,
          -0.007623524114172672,
          0.8043348801182267,
          0.13428685566546555,
          -1.0697254759426642,
          0.4458115008719297,
          -0.5849091687752987,
          -0.3183227777360005,
          -0.7167463923161833,
          0.56391806531028,
          0.3083308023028222,
          0.5161871179568257,
          0.5141016626244824,
          0.6677545972982242,
          0.8849894848007175,
          2.384360942181475,
          0.04330896090492554,
          1.3842877351197145,
          -0.15633858361654132,
          0.891465974345801,
          -0.013205408661876304,
          -0.15189909839061694,
          0.47544478540078583,
          0.16259065067279815,
          1.1551705608611824,
          -0.43133085622998607,
          -0.1192804606375206,
          0.7486552329731277,
          -0.6444473564327091,
          -1.9036580630935813,
          0.21296771957325075,
          1.3099624409649717,
          -0.45432408036046984,
          0.3606458537832278,
          2.7161688380964515,
          -0.38601834437418847,
          1.4250134372750032,
          0.7042659815585277,
          -1.2432978392265779,
          0.4590058834834523,
          -0.017374247412086444,
          1.4535028668689962,
          -0.9155429068219456,
          -1.0873207050081553,
          0.5362550639162094,
          0.07737676669573887,
          -0.1650233443710363,
          0.16683709497806792,
          0.9051714771804598,
          -0.8348728389820331,
          1.357250067037759,
          -0.376804667600888,
          1.1340516122970452,
          0.7109013007418191
         ],
         "yaxis": "y10"
        },
        {
         "histfunc": "count",
         "histnorm": "",
         "marker": {
          "color": "rgba(50, 171, 96, 1.0)",
          "line": {
           "color": "#4D5663",
           "width": 1.3
          }
         },
         "name": "C",
         "nbinsx": 10,
         "opacity": 0.8,
         "orientation": "v",
         "type": "histogram",
         "x": [
          -1.6238040974131962,
          0.6757392664758547,
          0.9760729606148445,
          0.862055908290435,
          -0.40453955744098546,
          -2.8610527199677676,
          -0.140581944584434,
          0.02496929176889924,
          0.30465375719363513,
          0.5948694424871468,
          -0.42920265223907345,
          -1.1756734867887315,
          0.040368699452806765,
          -0.4617962231259209,
          1.7955002711256662,
          -1.5932256133503535,
          -0.6418212290028259,
          -0.08628995659191863,
          -0.9035271053516496,
          0.7378098853480631,
          -1.6802683281159088,
          0.0995367017452982,
          0.5635676347299098,
          -0.2205371392984177,
          -0.49826062471825555,
          -0.6423898590064763,
          -1.0508565915580506,
          -0.5774604208382002,
          -1.0009178007471513,
          -0.9912120123666746,
          -1.260208039182508,
          -0.18872143658446525,
          0.436955712975561,
          1.0997267977346983,
          1.6757119783451595,
          0.26113852808788146,
          -0.40962615109820205,
          -2.0731272933464564,
          -1.0512783919121158,
          -0.6858181579234804,
          1.6321705351469065,
          -1.3201354166500952,
          1.6879892502481604,
          -0.2006093844748727,
          -1.8297821349157273,
          -0.7135573671380527,
          -1.3744987407180982,
          -0.007623524114172672,
          0.8043348801182267,
          0.13428685566546555,
          -1.0697254759426642,
          0.4458115008719297,
          -0.5849091687752987,
          -0.3183227777360005,
          -0.7167463923161833,
          0.56391806531028,
          0.3083308023028222,
          0.5161871179568257,
          0.5141016626244824,
          0.6677545972982242,
          0.8849894848007175,
          2.384360942181475,
          0.04330896090492554,
          1.3842877351197145,
          -0.15633858361654132,
          0.891465974345801,
          -0.013205408661876304,
          -0.15189909839061694,
          0.47544478540078583,
          0.16259065067279815,
          1.1551705608611824,
          -0.43133085622998607,
          -0.1192804606375206,
          0.7486552329731277,
          -0.6444473564327091,
          -1.9036580630935813,
          0.21296771957325075,
          1.3099624409649717,
          -0.45432408036046984,
          0.3606458537832278,
          2.7161688380964515,
          -0.38601834437418847,
          1.4250134372750032,
          0.7042659815585277,
          -1.2432978392265779,
          0.4590058834834523,
          -0.017374247412086444,
          1.4535028668689962,
          -0.9155429068219456,
          -1.0873207050081553,
          0.5362550639162094,
          0.07737676669573887,
          -0.1650233443710363,
          0.16683709497806792,
          0.9051714771804598,
          -0.8348728389820331,
          1.357250067037759,
          -0.376804667600888,
          1.1340516122970452,
          0.7109013007418191
         ],
         "xaxis": "x11",
         "yaxis": "y11"
        },
        {
         "line": {
          "color": "rgba(128, 128, 128, 1.0)",
          "dash": "solid",
          "shape": "linear",
          "width": 1.3
         },
         "marker": {
          "size": 2,
          "symbol": "circle"
         },
         "mode": "markers",
         "name": "C",
         "text": "",
         "type": "scatter",
         "x": [
          0.5332636654100519,
          -0.17448553509926584,
          1.0702186407912706,
          -0.8239459485689032,
          -0.19277736796240497,
          0.9878115634701904,
          -1.0019238003717077,
          0.6340669901847583,
          -0.44092991075614896,
          1.1482169731542764,
          -1.6192711259278165,
          2.0100583949114106,
          0.6171914119741962,
          1.0728353254658836,
          2.234774598685246,
          -0.14113372683940276,
          0.5735469038655757,
          0.5002857792239915,
          -0.14136529334836834,
          0.028023475607641547,
          0.42983347929310667,
          -0.4021987507932994,
          0.05679723454111941,
          -0.41881947433224914,
          -0.45767025482695795,
          -0.08957245279795471,
          -0.15869122934893043,
          0.2544976388887662,
          -0.15181335444527758,
          1.3635385547683017,
          2.9281728527138173,
          0.8613488656680641,
          1.6025589793487491,
          0.6433745524624715,
          -0.26818492568457153,
          -0.7942340114600223,
          0.7947122622474939,
          0.663908928370825,
          0.05274822843206822,
          0.05326282927921363,
          0.9858304380437507,
          -0.5037109951333828,
          2.071963806272051,
          0.23912511587653842,
          0.1640602401262859,
          -0.515702047918531,
          0.23329218245100403,
          -0.7975621651643411,
          -0.288400704619235,
          -0.20226308550200042,
          -0.2694078200285193,
          -0.044092115485592366,
          -0.01725872658883086,
          0.5655851190308381,
          -0.5581585283930425,
          -0.5876787764705258,
          2.4194096236447664,
          -0.4051483206156967,
          -0.630257275653493,
          0.40273672166939267,
          1.8087616279156626,
          -0.7948964066383825,
          -0.13985979319487046,
          1.061591244004667,
          0.013386584935048917,
          0.4269863876075386,
          0.26344428537128556,
          0.06584190312229428,
          0.579181476524353,
          0.7391876007027266,
          -0.08663854738741003,
          -0.7409329084361622,
          0.060977491621816565,
          -1.9530030016414457,
          0.5555507032508455,
          0.8704793922391589,
          0.5438663812486605,
          -0.913188730584862,
          -1.5062079171457297,
          0.9666686384082549,
          -0.6689103073463399,
          -0.869629424372071,
          0.8379810284959375,
          -0.20969583313625517,
          -2.1022706426895574,
          -2.4104695140633865,
          -0.4089688146503087,
          -0.5299112877338699,
          0.9594791891461327,
          0.5586959040600886,
          -0.3876513646705716,
          -0.04656212299625653,
          -0.5373091246983154,
          0.5647184738520705,
          0.5817005533832955,
          -0.6446213603070445,
          -3.225971181776725,
          -1.2321918389977802,
          -0.030634778288711823,
          -1.0808138809064949
         ],
         "xaxis": "x12",
         "y": [
          -1.6238040974131962,
          0.6757392664758547,
          0.9760729606148445,
          0.862055908290435,
          -0.40453955744098546,
          -2.8610527199677676,
          -0.140581944584434,
          0.02496929176889924,
          0.30465375719363513,
          0.5948694424871468,
          -0.42920265223907345,
          -1.1756734867887315,
          0.040368699452806765,
          -0.4617962231259209,
          1.7955002711256662,
          -1.5932256133503535,
          -0.6418212290028259,
          -0.08628995659191863,
          -0.9035271053516496,
          0.7378098853480631,
          -1.6802683281159088,
          0.0995367017452982,
          0.5635676347299098,
          -0.2205371392984177,
          -0.49826062471825555,
          -0.6423898590064763,
          -1.0508565915580506,
          -0.5774604208382002,
          -1.0009178007471513,
          -0.9912120123666746,
          -1.260208039182508,
          -0.18872143658446525,
          0.436955712975561,
          1.0997267977346983,
          1.6757119783451595,
          0.26113852808788146,
          -0.40962615109820205,
          -2.0731272933464564,
          -1.0512783919121158,
          -0.6858181579234804,
          1.6321705351469065,
          -1.3201354166500952,
          1.6879892502481604,
          -0.2006093844748727,
          -1.8297821349157273,
          -0.7135573671380527,
          -1.3744987407180982,
          -0.007623524114172672,
          0.8043348801182267,
          0.13428685566546555,
          -1.0697254759426642,
          0.4458115008719297,
          -0.5849091687752987,
          -0.3183227777360005,
          -0.7167463923161833,
          0.56391806531028,
          0.3083308023028222,
          0.5161871179568257,
          0.5141016626244824,
          0.6677545972982242,
          0.8849894848007175,
          2.384360942181475,
          0.04330896090492554,
          1.3842877351197145,
          -0.15633858361654132,
          0.891465974345801,
          -0.013205408661876304,
          -0.15189909839061694,
          0.47544478540078583,
          0.16259065067279815,
          1.1551705608611824,
          -0.43133085622998607,
          -0.1192804606375206,
          0.7486552329731277,
          -0.6444473564327091,
          -1.9036580630935813,
          0.21296771957325075,
          1.3099624409649717,
          -0.45432408036046984,
          0.3606458537832278,
          2.7161688380964515,
          -0.38601834437418847,
          1.4250134372750032,
          0.7042659815585277,
          -1.2432978392265779,
          0.4590058834834523,
          -0.017374247412086444,
          1.4535028668689962,
          -0.9155429068219456,
          -1.0873207050081553,
          0.5362550639162094,
          0.07737676669573887,
          -0.1650233443710363,
          0.16683709497806792,
          0.9051714771804598,
          -0.8348728389820331,
          1.357250067037759,
          -0.376804667600888,
          1.1340516122970452,
          0.7109013007418191
         ],
         "yaxis": "y12"
        },
        {
         "line": {
          "color": "rgba(128, 128, 128, 1.0)",
          "dash": "solid",
          "shape": "linear",
          "width": 1.3
         },
         "marker": {
          "size": 2,
          "symbol": "circle"
         },
         "mode": "markers",
         "name": "D",
         "text": "",
         "type": "scatter",
         "x": [
          -0.6955674278003409,
          0.709603311671074,
          -0.4639112475880794,
          0.6109406141883472,
          -0.5366807345866035,
          0.7910773377517595,
          -0.11947942636690821,
          -0.47349701720928045,
          0.4379025626920702,
          -0.7162694038809432,
          -0.7399661011767127,
          0.17186950411304497,
          -1.1302051947786431,
          -0.9448681293583892,
          0.6946221543285171,
          -0.12813558114594467,
          0.24714774336127074,
          -1.401696050877737,
          0.2658142400997529,
          1.1587947957112168,
          0.966918511877791,
          -0.7927216095782581,
          0.06753132960304364,
          -0.9947952723901883,
          0.1520156296155712,
          0.02904167623115189,
          0.5559274232627266,
          -1.6466726734025219,
          -1.1473494682674321,
          -1.300233840798571,
          -0.9329887699147729,
          0.8342953223377536,
          -0.7998016531956084,
          0.7303669267789196,
          1.0166451335363904,
          0.345687476091971,
          0.9970011314070286,
          0.09163957069787133,
          -0.9827263875741888,
          2.046107251601977,
          -0.9087542910432793,
          1.178729950658305,
          -2.6855798912420097,
          -0.039017895423392124,
          0.7719369300095611,
          -0.4831134080474078,
          -0.7255292888680582,
          0.5881142253701253,
          -0.6361240283966371,
          2.415709480942409,
          -0.5995822445536416,
          -0.2053208344706357,
          0.5614526534984946,
          -0.5269882532809637,
          -0.8431434637055175,
          0.5192973390474064,
          -0.552047204906587,
          0.32936941597121155,
          -1.8758010295874192,
          -2.3502496170590246,
          0.048974160043405456,
          -1.0570986004732563,
          -1.571501953022733,
          0.8895704580584978,
          -0.7613651522874072,
          -0.3796361762246006,
          0.2256162238881583,
          1.1124231723885278,
          -0.02020697294077586,
          -0.15171179754105252,
          0.8470805537985738,
          -1.7336252512643053,
          -0.04782149486562937,
          0.19254693779206455,
          0.23157418873759167,
          0.5178468554423196,
          -0.3914330320089398,
          0.19396591446211114,
          -0.028819443653141583,
          2.097703142578914,
          0.7380179176926842,
          -0.4801374333012573,
          -1.4125156131663692,
          -0.07460973403830272,
          -0.28773407861577427,
          -0.09295631191568235,
          0.7522891655138189,
          -1.5297240137040118,
          1.1384751363045376,
          1.3091217346992188,
          0.8879746080979246,
          0.4720820662595549,
          -0.5018250230207556,
          -1.2398951096581001,
          0.32913838199510387,
          0.8707335589794765,
          -0.1421942077971298,
          -0.7796115208498818,
          -0.13029165791235717,
          0.03648733730706007
         ],
         "xaxis": "x13",
         "y": [
          0.5332636654100519,
          -0.17448553509926584,
          1.0702186407912706,
          -0.8239459485689032,
          -0.19277736796240497,
          0.9878115634701904,
          -1.0019238003717077,
          0.6340669901847583,
          -0.44092991075614896,
          1.1482169731542764,
          -1.6192711259278165,
          2.0100583949114106,
          0.6171914119741962,
          1.0728353254658836,
          2.234774598685246,
          -0.14113372683940276,
          0.5735469038655757,
          0.5002857792239915,
          -0.14136529334836834,
          0.028023475607641547,
          0.42983347929310667,
          -0.4021987507932994,
          0.05679723454111941,
          -0.41881947433224914,
          -0.45767025482695795,
          -0.08957245279795471,
          -0.15869122934893043,
          0.2544976388887662,
          -0.15181335444527758,
          1.3635385547683017,
          2.9281728527138173,
          0.8613488656680641,
          1.6025589793487491,
          0.6433745524624715,
          -0.26818492568457153,
          -0.7942340114600223,
          0.7947122622474939,
          0.663908928370825,
          0.05274822843206822,
          0.05326282927921363,
          0.9858304380437507,
          -0.5037109951333828,
          2.071963806272051,
          0.23912511587653842,
          0.1640602401262859,
          -0.515702047918531,
          0.23329218245100403,
          -0.7975621651643411,
          -0.288400704619235,
          -0.20226308550200042,
          -0.2694078200285193,
          -0.044092115485592366,
          -0.01725872658883086,
          0.5655851190308381,
          -0.5581585283930425,
          -0.5876787764705258,
          2.4194096236447664,
          -0.4051483206156967,
          -0.630257275653493,
          0.40273672166939267,
          1.8087616279156626,
          -0.7948964066383825,
          -0.13985979319487046,
          1.061591244004667,
          0.013386584935048917,
          0.4269863876075386,
          0.26344428537128556,
          0.06584190312229428,
          0.579181476524353,
          0.7391876007027266,
          -0.08663854738741003,
          -0.7409329084361622,
          0.060977491621816565,
          -1.9530030016414457,
          0.5555507032508455,
          0.8704793922391589,
          0.5438663812486605,
          -0.913188730584862,
          -1.5062079171457297,
          0.9666686384082549,
          -0.6689103073463399,
          -0.869629424372071,
          0.8379810284959375,
          -0.20969583313625517,
          -2.1022706426895574,
          -2.4104695140633865,
          -0.4089688146503087,
          -0.5299112877338699,
          0.9594791891461327,
          0.5586959040600886,
          -0.3876513646705716,
          -0.04656212299625653,
          -0.5373091246983154,
          0.5647184738520705,
          0.5817005533832955,
          -0.6446213603070445,
          -3.225971181776725,
          -1.2321918389977802,
          -0.030634778288711823,
          -1.0808138809064949
         ],
         "yaxis": "y13"
        },
        {
         "line": {
          "color": "rgba(128, 128, 128, 1.0)",
          "dash": "solid",
          "shape": "linear",
          "width": 1.3
         },
         "marker": {
          "size": 2,
          "symbol": "circle"
         },
         "mode": "markers",
         "name": "D",
         "text": "",
         "type": "scatter",
         "x": [
          -0.7115712083518633,
          0.20367831749698934,
          0.6134576546805096,
          -0.36570067643631643,
          -0.7159140308166888,
          -0.9239386716004879,
          2.5930230737700555,
          0.4147527987618448,
          -0.22996385762564714,
          0.5624676614965411,
          -1.5475325608234494,
          -0.6259507711406066,
          0.3056636097323393,
          0.20211511312646258,
          0.10374629106262659,
          1.814642590027516,
          -0.9618251387755197,
          2.148194545714763,
          0.9418063372995279,
          -1.756893092290613,
          -0.6451514937773778,
          -0.13200770808476447,
          0.872337004831524,
          2.3229673950851923,
          -0.4706761210576756,
          0.5164410724972459,
          -0.48565279600255373,
          -1.2521645968922077,
          0.190667708166508,
          -1.71765646431304,
          1.527954065750762,
          0.37401203490486645,
          -0.9774218888534799,
          0.7109426456154209,
          -0.6026932312876238,
          0.5456845135286027,
          0.6371851776297126,
          1.0541028159046348,
          -0.8355387155807726,
          1.0141605310042423,
          -0.32801098196297007,
          1.046053681722419,
          -0.6770303842667683,
          0.428153097306062,
          0.9140719808484178,
          0.8309841468257837,
          0.022583141337870448,
          -0.6262397051187514,
          -1.6071190249191691,
          -0.1989055676546752,
          0.5330744191733329,
          1.0761993457881287,
          1.8121764700303273,
          -1.2688836897989333,
          -1.7647514937908018,
          -2.482464341193299,
          -0.6078532786143386,
          0.010679248589527316,
          2.183394229236031,
          1.60963687506475,
          -1.0210660043618693,
          2.508243729834317,
          -0.23333220546062955,
          1.4028553391308474,
          -0.39244294429217097,
          -0.09295080049327233,
          1.1103292193372296,
          1.1949982096141774,
          -0.2989744322934105,
          0.8871375559852462,
          -1.368327962932662,
          0.20209814397912979,
          0.40926606668519244,
          -0.9215941758887686,
          0.9351089487739781,
          -0.24065253160275235,
          -0.11345971025377141,
          0.24372600294771427,
          0.455002801545644,
          0.1972947992569593,
          0.9717385724212538,
          -2.6044890057609646,
          -1.8119523545271286,
          0.9456288963313946,
          0.13644379478974555,
          -0.17657547306635485,
          -0.6080471675815619,
          0.6910563876875375,
          -0.1889085678147469,
          0.5062020601577284,
          -3.4814412422787626,
          -0.1844947741671853,
          2.43070381381801,
          0.8253619914959017,
          0.06003229469139,
          0.35353678611411077,
          -0.9648741956228961,
          -1.4325317580760464,
          -1.1132449693847992,
          -1.5049978733911864
         ],
         "xaxis": "x14",
         "y": [
          0.5332636654100519,
          -0.17448553509926584,
          1.0702186407912706,
          -0.8239459485689032,
          -0.19277736796240497,
          0.9878115634701904,
          -1.0019238003717077,
          0.6340669901847583,
          -0.44092991075614896,
          1.1482169731542764,
          -1.6192711259278165,
          2.0100583949114106,
          0.6171914119741962,
          1.0728353254658836,
          2.234774598685246,
          -0.14113372683940276,
          0.5735469038655757,
          0.5002857792239915,
          -0.14136529334836834,
          0.028023475607641547,
          0.42983347929310667,
          -0.4021987507932994,
          0.05679723454111941,
          -0.41881947433224914,
          -0.45767025482695795,
          -0.08957245279795471,
          -0.15869122934893043,
          0.2544976388887662,
          -0.15181335444527758,
          1.3635385547683017,
          2.9281728527138173,
          0.8613488656680641,
          1.6025589793487491,
          0.6433745524624715,
          -0.26818492568457153,
          -0.7942340114600223,
          0.7947122622474939,
          0.663908928370825,
          0.05274822843206822,
          0.05326282927921363,
          0.9858304380437507,
          -0.5037109951333828,
          2.071963806272051,
          0.23912511587653842,
          0.1640602401262859,
          -0.515702047918531,
          0.23329218245100403,
          -0.7975621651643411,
          -0.288400704619235,
          -0.20226308550200042,
          -0.2694078200285193,
          -0.044092115485592366,
          -0.01725872658883086,
          0.5655851190308381,
          -0.5581585283930425,
          -0.5876787764705258,
          2.4194096236447664,
          -0.4051483206156967,
          -0.630257275653493,
          0.40273672166939267,
          1.8087616279156626,
          -0.7948964066383825,
          -0.13985979319487046,
          1.061591244004667,
          0.013386584935048917,
          0.4269863876075386,
          0.26344428537128556,
          0.06584190312229428,
          0.579181476524353,
          0.7391876007027266,
          -0.08663854738741003,
          -0.7409329084361622,
          0.060977491621816565,
          -1.9530030016414457,
          0.5555507032508455,
          0.8704793922391589,
          0.5438663812486605,
          -0.913188730584862,
          -1.5062079171457297,
          0.9666686384082549,
          -0.6689103073463399,
          -0.869629424372071,
          0.8379810284959375,
          -0.20969583313625517,
          -2.1022706426895574,
          -2.4104695140633865,
          -0.4089688146503087,
          -0.5299112877338699,
          0.9594791891461327,
          0.5586959040600886,
          -0.3876513646705716,
          -0.04656212299625653,
          -0.5373091246983154,
          0.5647184738520705,
          0.5817005533832955,
          -0.6446213603070445,
          -3.225971181776725,
          -1.2321918389977802,
          -0.030634778288711823,
          -1.0808138809064949
         ],
         "yaxis": "y14"
        },
        {
         "line": {
          "color": "rgba(128, 128, 128, 1.0)",
          "dash": "solid",
          "shape": "linear",
          "width": 1.3
         },
         "marker": {
          "size": 2,
          "symbol": "circle"
         },
         "mode": "markers",
         "name": "D",
         "text": "",
         "type": "scatter",
         "x": [
          -1.6238040974131962,
          0.6757392664758547,
          0.9760729606148445,
          0.862055908290435,
          -0.40453955744098546,
          -2.8610527199677676,
          -0.140581944584434,
          0.02496929176889924,
          0.30465375719363513,
          0.5948694424871468,
          -0.42920265223907345,
          -1.1756734867887315,
          0.040368699452806765,
          -0.4617962231259209,
          1.7955002711256662,
          -1.5932256133503535,
          -0.6418212290028259,
          -0.08628995659191863,
          -0.9035271053516496,
          0.7378098853480631,
          -1.6802683281159088,
          0.0995367017452982,
          0.5635676347299098,
          -0.2205371392984177,
          -0.49826062471825555,
          -0.6423898590064763,
          -1.0508565915580506,
          -0.5774604208382002,
          -1.0009178007471513,
          -0.9912120123666746,
          -1.260208039182508,
          -0.18872143658446525,
          0.436955712975561,
          1.0997267977346983,
          1.6757119783451595,
          0.26113852808788146,
          -0.40962615109820205,
          -2.0731272933464564,
          -1.0512783919121158,
          -0.6858181579234804,
          1.6321705351469065,
          -1.3201354166500952,
          1.6879892502481604,
          -0.2006093844748727,
          -1.8297821349157273,
          -0.7135573671380527,
          -1.3744987407180982,
          -0.007623524114172672,
          0.8043348801182267,
          0.13428685566546555,
          -1.0697254759426642,
          0.4458115008719297,
          -0.5849091687752987,
          -0.3183227777360005,
          -0.7167463923161833,
          0.56391806531028,
          0.3083308023028222,
          0.5161871179568257,
          0.5141016626244824,
          0.6677545972982242,
          0.8849894848007175,
          2.384360942181475,
          0.04330896090492554,
          1.3842877351197145,
          -0.15633858361654132,
          0.891465974345801,
          -0.013205408661876304,
          -0.15189909839061694,
          0.47544478540078583,
          0.16259065067279815,
          1.1551705608611824,
          -0.43133085622998607,
          -0.1192804606375206,
          0.7486552329731277,
          -0.6444473564327091,
          -1.9036580630935813,
          0.21296771957325075,
          1.3099624409649717,
          -0.45432408036046984,
          0.3606458537832278,
          2.7161688380964515,
          -0.38601834437418847,
          1.4250134372750032,
          0.7042659815585277,
          -1.2432978392265779,
          0.4590058834834523,
          -0.017374247412086444,
          1.4535028668689962,
          -0.9155429068219456,
          -1.0873207050081553,
          0.5362550639162094,
          0.07737676669573887,
          -0.1650233443710363,
          0.16683709497806792,
          0.9051714771804598,
          -0.8348728389820331,
          1.357250067037759,
          -0.376804667600888,
          1.1340516122970452,
          0.7109013007418191
         ],
         "xaxis": "x15",
         "y": [
          0.5332636654100519,
          -0.17448553509926584,
          1.0702186407912706,
          -0.8239459485689032,
          -0.19277736796240497,
          0.9878115634701904,
          -1.0019238003717077,
          0.6340669901847583,
          -0.44092991075614896,
          1.1482169731542764,
          -1.6192711259278165,
          2.0100583949114106,
          0.6171914119741962,
          1.0728353254658836,
          2.234774598685246,
          -0.14113372683940276,
          0.5735469038655757,
          0.5002857792239915,
          -0.14136529334836834,
          0.028023475607641547,
          0.42983347929310667,
          -0.4021987507932994,
          0.05679723454111941,
          -0.41881947433224914,
          -0.45767025482695795,
          -0.08957245279795471,
          -0.15869122934893043,
          0.2544976388887662,
          -0.15181335444527758,
          1.3635385547683017,
          2.9281728527138173,
          0.8613488656680641,
          1.6025589793487491,
          0.6433745524624715,
          -0.26818492568457153,
          -0.7942340114600223,
          0.7947122622474939,
          0.663908928370825,
          0.05274822843206822,
          0.05326282927921363,
          0.9858304380437507,
          -0.5037109951333828,
          2.071963806272051,
          0.23912511587653842,
          0.1640602401262859,
          -0.515702047918531,
          0.23329218245100403,
          -0.7975621651643411,
          -0.288400704619235,
          -0.20226308550200042,
          -0.2694078200285193,
          -0.044092115485592366,
          -0.01725872658883086,
          0.5655851190308381,
          -0.5581585283930425,
          -0.5876787764705258,
          2.4194096236447664,
          -0.4051483206156967,
          -0.630257275653493,
          0.40273672166939267,
          1.8087616279156626,
          -0.7948964066383825,
          -0.13985979319487046,
          1.061591244004667,
          0.013386584935048917,
          0.4269863876075386,
          0.26344428537128556,
          0.06584190312229428,
          0.579181476524353,
          0.7391876007027266,
          -0.08663854738741003,
          -0.7409329084361622,
          0.060977491621816565,
          -1.9530030016414457,
          0.5555507032508455,
          0.8704793922391589,
          0.5438663812486605,
          -0.913188730584862,
          -1.5062079171457297,
          0.9666686384082549,
          -0.6689103073463399,
          -0.869629424372071,
          0.8379810284959375,
          -0.20969583313625517,
          -2.1022706426895574,
          -2.4104695140633865,
          -0.4089688146503087,
          -0.5299112877338699,
          0.9594791891461327,
          0.5586959040600886,
          -0.3876513646705716,
          -0.04656212299625653,
          -0.5373091246983154,
          0.5647184738520705,
          0.5817005533832955,
          -0.6446213603070445,
          -3.225971181776725,
          -1.2321918389977802,
          -0.030634778288711823,
          -1.0808138809064949
         ],
         "yaxis": "y15"
        },
        {
         "histfunc": "count",
         "histnorm": "",
         "marker": {
          "color": "rgba(128, 0, 128, 1.0)",
          "line": {
           "color": "#4D5663",
           "width": 1.3
          }
         },
         "name": "D",
         "nbinsx": 10,
         "opacity": 0.8,
         "orientation": "v",
         "type": "histogram",
         "x": [
          0.5332636654100519,
          -0.17448553509926584,
          1.0702186407912706,
          -0.8239459485689032,
          -0.19277736796240497,
          0.9878115634701904,
          -1.0019238003717077,
          0.6340669901847583,
          -0.44092991075614896,
          1.1482169731542764,
          -1.6192711259278165,
          2.0100583949114106,
          0.6171914119741962,
          1.0728353254658836,
          2.234774598685246,
          -0.14113372683940276,
          0.5735469038655757,
          0.5002857792239915,
          -0.14136529334836834,
          0.028023475607641547,
          0.42983347929310667,
          -0.4021987507932994,
          0.05679723454111941,
          -0.41881947433224914,
          -0.45767025482695795,
          -0.08957245279795471,
          -0.15869122934893043,
          0.2544976388887662,
          -0.15181335444527758,
          1.3635385547683017,
          2.9281728527138173,
          0.8613488656680641,
          1.6025589793487491,
          0.6433745524624715,
          -0.26818492568457153,
          -0.7942340114600223,
          0.7947122622474939,
          0.663908928370825,
          0.05274822843206822,
          0.05326282927921363,
          0.9858304380437507,
          -0.5037109951333828,
          2.071963806272051,
          0.23912511587653842,
          0.1640602401262859,
          -0.515702047918531,
          0.23329218245100403,
          -0.7975621651643411,
          -0.288400704619235,
          -0.20226308550200042,
          -0.2694078200285193,
          -0.044092115485592366,
          -0.01725872658883086,
          0.5655851190308381,
          -0.5581585283930425,
          -0.5876787764705258,
          2.4194096236447664,
          -0.4051483206156967,
          -0.630257275653493,
          0.40273672166939267,
          1.8087616279156626,
          -0.7948964066383825,
          -0.13985979319487046,
          1.061591244004667,
          0.013386584935048917,
          0.4269863876075386,
          0.26344428537128556,
          0.06584190312229428,
          0.579181476524353,
          0.7391876007027266,
          -0.08663854738741003,
          -0.7409329084361622,
          0.060977491621816565,
          -1.9530030016414457,
          0.5555507032508455,
          0.8704793922391589,
          0.5438663812486605,
          -0.913188730584862,
          -1.5062079171457297,
          0.9666686384082549,
          -0.6689103073463399,
          -0.869629424372071,
          0.8379810284959375,
          -0.20969583313625517,
          -2.1022706426895574,
          -2.4104695140633865,
          -0.4089688146503087,
          -0.5299112877338699,
          0.9594791891461327,
          0.5586959040600886,
          -0.3876513646705716,
          -0.04656212299625653,
          -0.5373091246983154,
          0.5647184738520705,
          0.5817005533832955,
          -0.6446213603070445,
          -3.225971181776725,
          -1.2321918389977802,
          -0.030634778288711823,
          -1.0808138809064949
         ],
         "xaxis": "x16",
         "yaxis": "y16"
        }
       ],
       "layout": {
        "bargap": 0.02,
        "legend": {
         "bgcolor": "#F5F6F9",
         "font": {
          "color": "#4D5663"
         }
        },
        "paper_bgcolor": "#F5F6F9",
        "plot_bgcolor": "#F5F6F9",
        "showlegend": false,
        "template": {
         "data": {
          "bar": [
           {
            "error_x": {
             "color": "#2a3f5f"
            },
            "error_y": {
             "color": "#2a3f5f"
            },
            "marker": {
             "line": {
              "color": "#E5ECF6",
              "width": 0.5
             }
            },
            "type": "bar"
           }
          ],
          "barpolar": [
           {
            "marker": {
             "line": {
              "color": "#E5ECF6",
              "width": 0.5
             }
            },
            "type": "barpolar"
           }
          ],
          "carpet": [
           {
            "aaxis": {
             "endlinecolor": "#2a3f5f",
             "gridcolor": "white",
             "linecolor": "white",
             "minorgridcolor": "white",
             "startlinecolor": "#2a3f5f"
            },
            "baxis": {
             "endlinecolor": "#2a3f5f",
             "gridcolor": "white",
             "linecolor": "white",
             "minorgridcolor": "white",
             "startlinecolor": "#2a3f5f"
            },
            "type": "carpet"
           }
          ],
          "choropleth": [
           {
            "colorbar": {
             "outlinewidth": 0,
             "ticks": ""
            },
            "type": "choropleth"
           }
          ],
          "contour": [
           {
            "colorbar": {
             "outlinewidth": 0,
             "ticks": ""
            },
            "colorscale": [
             [
              0,
              "#0d0887"
             ],
             [
              0.1111111111111111,
              "#46039f"
             ],
             [
              0.2222222222222222,
              "#7201a8"
             ],
             [
              0.3333333333333333,
              "#9c179e"
             ],
             [
              0.4444444444444444,
              "#bd3786"
             ],
             [
              0.5555555555555556,
              "#d8576b"
             ],
             [
              0.6666666666666666,
              "#ed7953"
             ],
             [
              0.7777777777777778,
              "#fb9f3a"
             ],
             [
              0.8888888888888888,
              "#fdca26"
             ],
             [
              1,
              "#f0f921"
             ]
            ],
            "type": "contour"
           }
          ],
          "contourcarpet": [
           {
            "colorbar": {
             "outlinewidth": 0,
             "ticks": ""
            },
            "type": "contourcarpet"
           }
          ],
          "heatmap": [
           {
            "colorbar": {
             "outlinewidth": 0,
             "ticks": ""
            },
            "colorscale": [
             [
              0,
              "#0d0887"
             ],
             [
              0.1111111111111111,
              "#46039f"
             ],
             [
              0.2222222222222222,
              "#7201a8"
             ],
             [
              0.3333333333333333,
              "#9c179e"
             ],
             [
              0.4444444444444444,
              "#bd3786"
             ],
             [
              0.5555555555555556,
              "#d8576b"
             ],
             [
              0.6666666666666666,
              "#ed7953"
             ],
             [
              0.7777777777777778,
              "#fb9f3a"
             ],
             [
              0.8888888888888888,
              "#fdca26"
             ],
             [
              1,
              "#f0f921"
             ]
            ],
            "type": "heatmap"
           }
          ],
          "heatmapgl": [
           {
            "colorbar": {
             "outlinewidth": 0,
             "ticks": ""
            },
            "colorscale": [
             [
              0,
              "#0d0887"
             ],
             [
              0.1111111111111111,
              "#46039f"
             ],
             [
              0.2222222222222222,
              "#7201a8"
             ],
             [
              0.3333333333333333,
              "#9c179e"
             ],
             [
              0.4444444444444444,
              "#bd3786"
             ],
             [
              0.5555555555555556,
              "#d8576b"
             ],
             [
              0.6666666666666666,
              "#ed7953"
             ],
             [
              0.7777777777777778,
              "#fb9f3a"
             ],
             [
              0.8888888888888888,
              "#fdca26"
             ],
             [
              1,
              "#f0f921"
             ]
            ],
            "type": "heatmapgl"
           }
          ],
          "histogram": [
           {
            "marker": {
             "colorbar": {
              "outlinewidth": 0,
              "ticks": ""
             }
            },
            "type": "histogram"
           }
          ],
          "histogram2d": [
           {
            "colorbar": {
             "outlinewidth": 0,
             "ticks": ""
            },
            "colorscale": [
             [
              0,
              "#0d0887"
             ],
             [
              0.1111111111111111,
              "#46039f"
             ],
             [
              0.2222222222222222,
              "#7201a8"
             ],
             [
              0.3333333333333333,
              "#9c179e"
             ],
             [
              0.4444444444444444,
              "#bd3786"
             ],
             [
              0.5555555555555556,
              "#d8576b"
             ],
             [
              0.6666666666666666,
              "#ed7953"
             ],
             [
              0.7777777777777778,
              "#fb9f3a"
             ],
             [
              0.8888888888888888,
              "#fdca26"
             ],
             [
              1,
              "#f0f921"
             ]
            ],
            "type": "histogram2d"
           }
          ],
          "histogram2dcontour": [
           {
            "colorbar": {
             "outlinewidth": 0,
             "ticks": ""
            },
            "colorscale": [
             [
              0,
              "#0d0887"
             ],
             [
              0.1111111111111111,
              "#46039f"
             ],
             [
              0.2222222222222222,
              "#7201a8"
             ],
             [
              0.3333333333333333,
              "#9c179e"
             ],
             [
              0.4444444444444444,
              "#bd3786"
             ],
             [
              0.5555555555555556,
              "#d8576b"
             ],
             [
              0.6666666666666666,
              "#ed7953"
             ],
             [
              0.7777777777777778,
              "#fb9f3a"
             ],
             [
              0.8888888888888888,
              "#fdca26"
             ],
             [
              1,
              "#f0f921"
             ]
            ],
            "type": "histogram2dcontour"
           }
          ],
          "mesh3d": [
           {
            "colorbar": {
             "outlinewidth": 0,
             "ticks": ""
            },
            "type": "mesh3d"
           }
          ],
          "parcoords": [
           {
            "line": {
             "colorbar": {
              "outlinewidth": 0,
              "ticks": ""
             }
            },
            "type": "parcoords"
           }
          ],
          "pie": [
           {
            "automargin": true,
            "type": "pie"
           }
          ],
          "scatter": [
           {
            "marker": {
             "colorbar": {
              "outlinewidth": 0,
              "ticks": ""
             }
            },
            "type": "scatter"
           }
          ],
          "scatter3d": [
           {
            "line": {
             "colorbar": {
              "outlinewidth": 0,
              "ticks": ""
             }
            },
            "marker": {
             "colorbar": {
              "outlinewidth": 0,
              "ticks": ""
             }
            },
            "type": "scatter3d"
           }
          ],
          "scattercarpet": [
           {
            "marker": {
             "colorbar": {
              "outlinewidth": 0,
              "ticks": ""
             }
            },
            "type": "scattercarpet"
           }
          ],
          "scattergeo": [
           {
            "marker": {
             "colorbar": {
              "outlinewidth": 0,
              "ticks": ""
             }
            },
            "type": "scattergeo"
           }
          ],
          "scattergl": [
           {
            "marker": {
             "colorbar": {
              "outlinewidth": 0,
              "ticks": ""
             }
            },
            "type": "scattergl"
           }
          ],
          "scattermapbox": [
           {
            "marker": {
             "colorbar": {
              "outlinewidth": 0,
              "ticks": ""
             }
            },
            "type": "scattermapbox"
           }
          ],
          "scatterpolar": [
           {
            "marker": {
             "colorbar": {
              "outlinewidth": 0,
              "ticks": ""
             }
            },
            "type": "scatterpolar"
           }
          ],
          "scatterpolargl": [
           {
            "marker": {
             "colorbar": {
              "outlinewidth": 0,
              "ticks": ""
             }
            },
            "type": "scatterpolargl"
           }
          ],
          "scatterternary": [
           {
            "marker": {
             "colorbar": {
              "outlinewidth": 0,
              "ticks": ""
             }
            },
            "type": "scatterternary"
           }
          ],
          "surface": [
           {
            "colorbar": {
             "outlinewidth": 0,
             "ticks": ""
            },
            "colorscale": [
             [
              0,
              "#0d0887"
             ],
             [
              0.1111111111111111,
              "#46039f"
             ],
             [
              0.2222222222222222,
              "#7201a8"
             ],
             [
              0.3333333333333333,
              "#9c179e"
             ],
             [
              0.4444444444444444,
              "#bd3786"
             ],
             [
              0.5555555555555556,
              "#d8576b"
             ],
             [
              0.6666666666666666,
              "#ed7953"
             ],
             [
              0.7777777777777778,
              "#fb9f3a"
             ],
             [
              0.8888888888888888,
              "#fdca26"
             ],
             [
              1,
              "#f0f921"
             ]
            ],
            "type": "surface"
           }
          ],
          "table": [
           {
            "cells": {
             "fill": {
              "color": "#EBF0F8"
             },
             "line": {
              "color": "white"
             }
            },
            "header": {
             "fill": {
              "color": "#C8D4E3"
             },
             "line": {
              "color": "white"
             }
            },
            "type": "table"
           }
          ]
         },
         "layout": {
          "annotationdefaults": {
           "arrowcolor": "#2a3f5f",
           "arrowhead": 0,
           "arrowwidth": 1
          },
          "autotypenumbers": "strict",
          "coloraxis": {
           "colorbar": {
            "outlinewidth": 0,
            "ticks": ""
           }
          },
          "colorscale": {
           "diverging": [
            [
             0,
             "#8e0152"
            ],
            [
             0.1,
             "#c51b7d"
            ],
            [
             0.2,
             "#de77ae"
            ],
            [
             0.3,
             "#f1b6da"
            ],
            [
             0.4,
             "#fde0ef"
            ],
            [
             0.5,
             "#f7f7f7"
            ],
            [
             0.6,
             "#e6f5d0"
            ],
            [
             0.7,
             "#b8e186"
            ],
            [
             0.8,
             "#7fbc41"
            ],
            [
             0.9,
             "#4d9221"
            ],
            [
             1,
             "#276419"
            ]
           ],
           "sequential": [
            [
             0,
             "#0d0887"
            ],
            [
             0.1111111111111111,
             "#46039f"
            ],
            [
             0.2222222222222222,
             "#7201a8"
            ],
            [
             0.3333333333333333,
             "#9c179e"
            ],
            [
             0.4444444444444444,
             "#bd3786"
            ],
            [
             0.5555555555555556,
             "#d8576b"
            ],
            [
             0.6666666666666666,
             "#ed7953"
            ],
            [
             0.7777777777777778,
             "#fb9f3a"
            ],
            [
             0.8888888888888888,
             "#fdca26"
            ],
            [
             1,
             "#f0f921"
            ]
           ],
           "sequentialminus": [
            [
             0,
             "#0d0887"
            ],
            [
             0.1111111111111111,
             "#46039f"
            ],
            [
             0.2222222222222222,
             "#7201a8"
            ],
            [
             0.3333333333333333,
             "#9c179e"
            ],
            [
             0.4444444444444444,
             "#bd3786"
            ],
            [
             0.5555555555555556,
             "#d8576b"
            ],
            [
             0.6666666666666666,
             "#ed7953"
            ],
            [
             0.7777777777777778,
             "#fb9f3a"
            ],
            [
             0.8888888888888888,
             "#fdca26"
            ],
            [
             1,
             "#f0f921"
            ]
           ]
          },
          "colorway": [
           "#636efa",
           "#EF553B",
           "#00cc96",
           "#ab63fa",
           "#FFA15A",
           "#19d3f3",
           "#FF6692",
           "#B6E880",
           "#FF97FF",
           "#FECB52"
          ],
          "font": {
           "color": "#2a3f5f"
          },
          "geo": {
           "bgcolor": "white",
           "lakecolor": "white",
           "landcolor": "#E5ECF6",
           "showlakes": true,
           "showland": true,
           "subunitcolor": "white"
          },
          "hoverlabel": {
           "align": "left"
          },
          "hovermode": "closest",
          "mapbox": {
           "style": "light"
          },
          "paper_bgcolor": "white",
          "plot_bgcolor": "#E5ECF6",
          "polar": {
           "angularaxis": {
            "gridcolor": "white",
            "linecolor": "white",
            "ticks": ""
           },
           "bgcolor": "#E5ECF6",
           "radialaxis": {
            "gridcolor": "white",
            "linecolor": "white",
            "ticks": ""
           }
          },
          "scene": {
           "xaxis": {
            "backgroundcolor": "#E5ECF6",
            "gridcolor": "white",
            "gridwidth": 2,
            "linecolor": "white",
            "showbackground": true,
            "ticks": "",
            "zerolinecolor": "white"
           },
           "yaxis": {
            "backgroundcolor": "#E5ECF6",
            "gridcolor": "white",
            "gridwidth": 2,
            "linecolor": "white",
            "showbackground": true,
            "ticks": "",
            "zerolinecolor": "white"
           },
           "zaxis": {
            "backgroundcolor": "#E5ECF6",
            "gridcolor": "white",
            "gridwidth": 2,
            "linecolor": "white",
            "showbackground": true,
            "ticks": "",
            "zerolinecolor": "white"
           }
          },
          "shapedefaults": {
           "line": {
            "color": "#2a3f5f"
           }
          },
          "ternary": {
           "aaxis": {
            "gridcolor": "white",
            "linecolor": "white",
            "ticks": ""
           },
           "baxis": {
            "gridcolor": "white",
            "linecolor": "white",
            "ticks": ""
           },
           "bgcolor": "#E5ECF6",
           "caxis": {
            "gridcolor": "white",
            "linecolor": "white",
            "ticks": ""
           }
          },
          "title": {
           "x": 0.05
          },
          "xaxis": {
           "automargin": true,
           "gridcolor": "white",
           "linecolor": "white",
           "ticks": "",
           "title": {
            "standoff": 15
           },
           "zerolinecolor": "white",
           "zerolinewidth": 2
          },
          "yaxis": {
           "automargin": true,
           "gridcolor": "white",
           "linecolor": "white",
           "ticks": "",
           "title": {
            "standoff": 15
           },
           "zerolinecolor": "white",
           "zerolinewidth": 2
          }
         }
        },
        "title": {
         "font": {
          "color": "#4D5663"
         }
        },
        "xaxis": {
         "anchor": "y",
         "domain": [
          0,
          0.2125
         ],
         "gridcolor": "#E1E5ED",
         "showgrid": false,
         "tickfont": {
          "color": "#4D5663"
         },
         "title": {
          "font": {
           "color": "#4D5663"
          },
          "text": ""
         },
         "zerolinecolor": "#E1E5ED"
        },
        "xaxis10": {
         "anchor": "y10",
         "domain": [
          0.2625,
          0.475
         ],
         "gridcolor": "#E1E5ED",
         "showgrid": false,
         "tickfont": {
          "color": "#4D5663"
         },
         "title": {
          "font": {
           "color": "#4D5663"
          },
          "text": ""
         },
         "zerolinecolor": "#E1E5ED"
        },
        "xaxis11": {
         "anchor": "y11",
         "domain": [
          0.525,
          0.7375
         ],
         "gridcolor": "#E1E5ED",
         "showgrid": false,
         "tickfont": {
          "color": "#4D5663"
         },
         "title": {
          "font": {
           "color": "#4D5663"
          },
          "text": ""
         },
         "zerolinecolor": "#E1E5ED"
        },
        "xaxis12": {
         "anchor": "y12",
         "domain": [
          0.7875,
          1
         ],
         "gridcolor": "#E1E5ED",
         "showgrid": false,
         "tickfont": {
          "color": "#4D5663"
         },
         "title": {
          "font": {
           "color": "#4D5663"
          },
          "text": ""
         },
         "zerolinecolor": "#E1E5ED"
        },
        "xaxis13": {
         "anchor": "y13",
         "domain": [
          0,
          0.2125
         ],
         "gridcolor": "#E1E5ED",
         "showgrid": false,
         "tickfont": {
          "color": "#4D5663"
         },
         "title": {
          "font": {
           "color": "#4D5663"
          },
          "text": ""
         },
         "zerolinecolor": "#E1E5ED"
        },
        "xaxis14": {
         "anchor": "y14",
         "domain": [
          0.2625,
          0.475
         ],
         "gridcolor": "#E1E5ED",
         "showgrid": false,
         "tickfont": {
          "color": "#4D5663"
         },
         "title": {
          "font": {
           "color": "#4D5663"
          },
          "text": ""
         },
         "zerolinecolor": "#E1E5ED"
        },
        "xaxis15": {
         "anchor": "y15",
         "domain": [
          0.525,
          0.7375
         ],
         "gridcolor": "#E1E5ED",
         "showgrid": false,
         "tickfont": {
          "color": "#4D5663"
         },
         "title": {
          "font": {
           "color": "#4D5663"
          },
          "text": ""
         },
         "zerolinecolor": "#E1E5ED"
        },
        "xaxis16": {
         "anchor": "y16",
         "domain": [
          0.7875,
          1
         ],
         "gridcolor": "#E1E5ED",
         "showgrid": false,
         "tickfont": {
          "color": "#4D5663"
         },
         "title": {
          "font": {
           "color": "#4D5663"
          },
          "text": ""
         },
         "zerolinecolor": "#E1E5ED"
        },
        "xaxis2": {
         "anchor": "y2",
         "domain": [
          0.2625,
          0.475
         ],
         "gridcolor": "#E1E5ED",
         "showgrid": false,
         "tickfont": {
          "color": "#4D5663"
         },
         "title": {
          "font": {
           "color": "#4D5663"
          },
          "text": ""
         },
         "zerolinecolor": "#E1E5ED"
        },
        "xaxis3": {
         "anchor": "y3",
         "domain": [
          0.525,
          0.7375
         ],
         "gridcolor": "#E1E5ED",
         "showgrid": false,
         "tickfont": {
          "color": "#4D5663"
         },
         "title": {
          "font": {
           "color": "#4D5663"
          },
          "text": ""
         },
         "zerolinecolor": "#E1E5ED"
        },
        "xaxis4": {
         "anchor": "y4",
         "domain": [
          0.7875,
          1
         ],
         "gridcolor": "#E1E5ED",
         "showgrid": false,
         "tickfont": {
          "color": "#4D5663"
         },
         "title": {
          "font": {
           "color": "#4D5663"
          },
          "text": ""
         },
         "zerolinecolor": "#E1E5ED"
        },
        "xaxis5": {
         "anchor": "y5",
         "domain": [
          0,
          0.2125
         ],
         "gridcolor": "#E1E5ED",
         "showgrid": false,
         "tickfont": {
          "color": "#4D5663"
         },
         "title": {
          "font": {
           "color": "#4D5663"
          },
          "text": ""
         },
         "zerolinecolor": "#E1E5ED"
        },
        "xaxis6": {
         "anchor": "y6",
         "domain": [
          0.2625,
          0.475
         ],
         "gridcolor": "#E1E5ED",
         "showgrid": false,
         "tickfont": {
          "color": "#4D5663"
         },
         "title": {
          "font": {
           "color": "#4D5663"
          },
          "text": ""
         },
         "zerolinecolor": "#E1E5ED"
        },
        "xaxis7": {
         "anchor": "y7",
         "domain": [
          0.525,
          0.7375
         ],
         "gridcolor": "#E1E5ED",
         "showgrid": false,
         "tickfont": {
          "color": "#4D5663"
         },
         "title": {
          "font": {
           "color": "#4D5663"
          },
          "text": ""
         },
         "zerolinecolor": "#E1E5ED"
        },
        "xaxis8": {
         "anchor": "y8",
         "domain": [
          0.7875,
          1
         ],
         "gridcolor": "#E1E5ED",
         "showgrid": false,
         "tickfont": {
          "color": "#4D5663"
         },
         "title": {
          "font": {
           "color": "#4D5663"
          },
          "text": ""
         },
         "zerolinecolor": "#E1E5ED"
        },
        "xaxis9": {
         "anchor": "y9",
         "domain": [
          0,
          0.2125
         ],
         "gridcolor": "#E1E5ED",
         "showgrid": false,
         "tickfont": {
          "color": "#4D5663"
         },
         "title": {
          "font": {
           "color": "#4D5663"
          },
          "text": ""
         },
         "zerolinecolor": "#E1E5ED"
        },
        "yaxis": {
         "anchor": "x",
         "domain": [
          0.8025,
          1
         ],
         "gridcolor": "#E1E5ED",
         "showgrid": false,
         "tickfont": {
          "color": "#4D5663"
         },
         "title": {
          "font": {
           "color": "#4D5663"
          },
          "text": ""
         },
         "zerolinecolor": "#E1E5ED"
        },
        "yaxis10": {
         "anchor": "x10",
         "domain": [
          0.2675,
          0.465
         ],
         "gridcolor": "#E1E5ED",
         "showgrid": false,
         "tickfont": {
          "color": "#4D5663"
         },
         "title": {
          "font": {
           "color": "#4D5663"
          },
          "text": ""
         },
         "zerolinecolor": "#E1E5ED"
        },
        "yaxis11": {
         "anchor": "x11",
         "domain": [
          0.2675,
          0.465
         ],
         "gridcolor": "#E1E5ED",
         "showgrid": false,
         "tickfont": {
          "color": "#4D5663"
         },
         "title": {
          "font": {
           "color": "#4D5663"
          },
          "text": ""
         },
         "zerolinecolor": "#E1E5ED"
        },
        "yaxis12": {
         "anchor": "x12",
         "domain": [
          0.2675,
          0.465
         ],
         "gridcolor": "#E1E5ED",
         "showgrid": false,
         "tickfont": {
          "color": "#4D5663"
         },
         "title": {
          "font": {
           "color": "#4D5663"
          },
          "text": ""
         },
         "zerolinecolor": "#E1E5ED"
        },
        "yaxis13": {
         "anchor": "x13",
         "domain": [
          0,
          0.1975
         ],
         "gridcolor": "#E1E5ED",
         "showgrid": false,
         "tickfont": {
          "color": "#4D5663"
         },
         "title": {
          "font": {
           "color": "#4D5663"
          },
          "text": ""
         },
         "zerolinecolor": "#E1E5ED"
        },
        "yaxis14": {
         "anchor": "x14",
         "domain": [
          0,
          0.1975
         ],
         "gridcolor": "#E1E5ED",
         "showgrid": false,
         "tickfont": {
          "color": "#4D5663"
         },
         "title": {
          "font": {
           "color": "#4D5663"
          },
          "text": ""
         },
         "zerolinecolor": "#E1E5ED"
        },
        "yaxis15": {
         "anchor": "x15",
         "domain": [
          0,
          0.1975
         ],
         "gridcolor": "#E1E5ED",
         "showgrid": false,
         "tickfont": {
          "color": "#4D5663"
         },
         "title": {
          "font": {
           "color": "#4D5663"
          },
          "text": ""
         },
         "zerolinecolor": "#E1E5ED"
        },
        "yaxis16": {
         "anchor": "x16",
         "domain": [
          0,
          0.1975
         ],
         "gridcolor": "#E1E5ED",
         "showgrid": false,
         "tickfont": {
          "color": "#4D5663"
         },
         "title": {
          "font": {
           "color": "#4D5663"
          },
          "text": ""
         },
         "zerolinecolor": "#E1E5ED"
        },
        "yaxis2": {
         "anchor": "x2",
         "domain": [
          0.8025,
          1
         ],
         "gridcolor": "#E1E5ED",
         "showgrid": false,
         "tickfont": {
          "color": "#4D5663"
         },
         "title": {
          "font": {
           "color": "#4D5663"
          },
          "text": ""
         },
         "zerolinecolor": "#E1E5ED"
        },
        "yaxis3": {
         "anchor": "x3",
         "domain": [
          0.8025,
          1
         ],
         "gridcolor": "#E1E5ED",
         "showgrid": false,
         "tickfont": {
          "color": "#4D5663"
         },
         "title": {
          "font": {
           "color": "#4D5663"
          },
          "text": ""
         },
         "zerolinecolor": "#E1E5ED"
        },
        "yaxis4": {
         "anchor": "x4",
         "domain": [
          0.8025,
          1
         ],
         "gridcolor": "#E1E5ED",
         "showgrid": false,
         "tickfont": {
          "color": "#4D5663"
         },
         "title": {
          "font": {
           "color": "#4D5663"
          },
          "text": ""
         },
         "zerolinecolor": "#E1E5ED"
        },
        "yaxis5": {
         "anchor": "x5",
         "domain": [
          0.535,
          0.7325
         ],
         "gridcolor": "#E1E5ED",
         "showgrid": false,
         "tickfont": {
          "color": "#4D5663"
         },
         "title": {
          "font": {
           "color": "#4D5663"
          },
          "text": ""
         },
         "zerolinecolor": "#E1E5ED"
        },
        "yaxis6": {
         "anchor": "x6",
         "domain": [
          0.535,
          0.7325
         ],
         "gridcolor": "#E1E5ED",
         "showgrid": false,
         "tickfont": {
          "color": "#4D5663"
         },
         "title": {
          "font": {
           "color": "#4D5663"
          },
          "text": ""
         },
         "zerolinecolor": "#E1E5ED"
        },
        "yaxis7": {
         "anchor": "x7",
         "domain": [
          0.535,
          0.7325
         ],
         "gridcolor": "#E1E5ED",
         "showgrid": false,
         "tickfont": {
          "color": "#4D5663"
         },
         "title": {
          "font": {
           "color": "#4D5663"
          },
          "text": ""
         },
         "zerolinecolor": "#E1E5ED"
        },
        "yaxis8": {
         "anchor": "x8",
         "domain": [
          0.535,
          0.7325
         ],
         "gridcolor": "#E1E5ED",
         "showgrid": false,
         "tickfont": {
          "color": "#4D5663"
         },
         "title": {
          "font": {
           "color": "#4D5663"
          },
          "text": ""
         },
         "zerolinecolor": "#E1E5ED"
        },
        "yaxis9": {
         "anchor": "x9",
         "domain": [
          0.2675,
          0.465
         ],
         "gridcolor": "#E1E5ED",
         "showgrid": false,
         "tickfont": {
          "color": "#4D5663"
         },
         "title": {
          "font": {
           "color": "#4D5663"
          },
          "text": ""
         },
         "zerolinecolor": "#E1E5ED"
        }
       }
      },
      "text/html": [
       "<div>                            <div id=\"accd5b17-e7d7-4990-9d62-e6dbac457ba7\" class=\"plotly-graph-div\" style=\"height:525px; width:100%;\"></div>            <script type=\"text/javascript\">                require([\"plotly\"], function(Plotly) {                    window.PLOTLYENV=window.PLOTLYENV || {};\n",
       "                    window.PLOTLYENV.BASE_URL='https://plot.ly';                                    if (document.getElementById(\"accd5b17-e7d7-4990-9d62-e6dbac457ba7\")) {                    Plotly.newPlot(                        \"accd5b17-e7d7-4990-9d62-e6dbac457ba7\",                        [{\"histfunc\": \"count\", \"histnorm\": \"\", \"marker\": {\"color\": \"rgba(255, 153, 51, 1.0)\", \"line\": {\"color\": \"#4D5663\", \"width\": 1.3}}, \"name\": \"A\", \"nbinsx\": 10, \"opacity\": 0.8, \"orientation\": \"v\", \"type\": \"histogram\", \"x\": [-0.6955674278003409, 0.709603311671074, -0.4639112475880794, 0.6109406141883472, -0.5366807345866035, 0.7910773377517595, -0.11947942636690821, -0.47349701720928045, 0.4379025626920702, -0.7162694038809432, -0.7399661011767127, 0.17186950411304497, -1.1302051947786431, -0.9448681293583892, 0.6946221543285171, -0.12813558114594467, 0.24714774336127074, -1.401696050877737, 0.2658142400997529, 1.1587947957112168, 0.966918511877791, -0.7927216095782581, 0.06753132960304364, -0.9947952723901883, 0.1520156296155712, 0.02904167623115189, 0.5559274232627266, -1.6466726734025219, -1.1473494682674321, -1.300233840798571, -0.9329887699147729, 0.8342953223377536, -0.7998016531956084, 0.7303669267789196, 1.0166451335363904, 0.345687476091971, 0.9970011314070286, 0.09163957069787133, -0.9827263875741888, 2.046107251601977, -0.9087542910432793, 1.178729950658305, -2.6855798912420097, -0.039017895423392124, 0.7719369300095611, -0.4831134080474078, -0.7255292888680582, 0.5881142253701253, -0.6361240283966371, 2.415709480942409, -0.5995822445536416, -0.2053208344706357, 0.5614526534984946, -0.5269882532809637, -0.8431434637055175, 0.5192973390474064, -0.552047204906587, 0.32936941597121155, -1.8758010295874192, -2.3502496170590246, 0.048974160043405456, -1.0570986004732563, -1.571501953022733, 0.8895704580584978, -0.7613651522874072, -0.3796361762246006, 0.2256162238881583, 1.1124231723885278, -0.02020697294077586, -0.15171179754105252, 0.8470805537985738, -1.7336252512643053, -0.04782149486562937, 0.19254693779206455, 0.23157418873759167, 0.5178468554423196, -0.3914330320089398, 0.19396591446211114, -0.028819443653141583, 2.097703142578914, 0.7380179176926842, -0.4801374333012573, -1.4125156131663692, -0.07460973403830272, -0.28773407861577427, -0.09295631191568235, 0.7522891655138189, -1.5297240137040118, 1.1384751363045376, 1.3091217346992188, 0.8879746080979246, 0.4720820662595549, -0.5018250230207556, -1.2398951096581001, 0.32913838199510387, 0.8707335589794765, -0.1421942077971298, -0.7796115208498818, -0.13029165791235717, 0.03648733730706007], \"xaxis\": \"x\", \"yaxis\": \"y\"}, {\"line\": {\"color\": \"rgba(128, 128, 128, 1.0)\", \"dash\": \"solid\", \"shape\": \"linear\", \"width\": 1.3}, \"marker\": {\"size\": 2, \"symbol\": \"circle\"}, \"mode\": \"markers\", \"name\": \"A\", \"text\": \"\", \"type\": \"scatter\", \"x\": [-0.7115712083518633, 0.20367831749698934, 0.6134576546805096, -0.36570067643631643, -0.7159140308166888, -0.9239386716004879, 2.5930230737700555, 0.4147527987618448, -0.22996385762564714, 0.5624676614965411, -1.5475325608234494, -0.6259507711406066, 0.3056636097323393, 0.20211511312646258, 0.10374629106262659, 1.814642590027516, -0.9618251387755197, 2.148194545714763, 0.9418063372995279, -1.756893092290613, -0.6451514937773778, -0.13200770808476447, 0.872337004831524, 2.3229673950851923, -0.4706761210576756, 0.5164410724972459, -0.48565279600255373, -1.2521645968922077, 0.190667708166508, -1.71765646431304, 1.527954065750762, 0.37401203490486645, -0.9774218888534799, 0.7109426456154209, -0.6026932312876238, 0.5456845135286027, 0.6371851776297126, 1.0541028159046348, -0.8355387155807726, 1.0141605310042423, -0.32801098196297007, 1.046053681722419, -0.6770303842667683, 0.428153097306062, 0.9140719808484178, 0.8309841468257837, 0.022583141337870448, -0.6262397051187514, -1.6071190249191691, -0.1989055676546752, 0.5330744191733329, 1.0761993457881287, 1.8121764700303273, -1.2688836897989333, -1.7647514937908018, -2.482464341193299, -0.6078532786143386, 0.010679248589527316, 2.183394229236031, 1.60963687506475, -1.0210660043618693, 2.508243729834317, -0.23333220546062955, 1.4028553391308474, -0.39244294429217097, -0.09295080049327233, 1.1103292193372296, 1.1949982096141774, -0.2989744322934105, 0.8871375559852462, -1.368327962932662, 0.20209814397912979, 0.40926606668519244, -0.9215941758887686, 0.9351089487739781, -0.24065253160275235, -0.11345971025377141, 0.24372600294771427, 0.455002801545644, 0.1972947992569593, 0.9717385724212538, -2.6044890057609646, -1.8119523545271286, 0.9456288963313946, 0.13644379478974555, -0.17657547306635485, -0.6080471675815619, 0.6910563876875375, -0.1889085678147469, 0.5062020601577284, -3.4814412422787626, -0.1844947741671853, 2.43070381381801, 0.8253619914959017, 0.06003229469139, 0.35353678611411077, -0.9648741956228961, -1.4325317580760464, -1.1132449693847992, -1.5049978733911864], \"xaxis\": \"x2\", \"y\": [-0.6955674278003409, 0.709603311671074, -0.4639112475880794, 0.6109406141883472, -0.5366807345866035, 0.7910773377517595, -0.11947942636690821, -0.47349701720928045, 0.4379025626920702, -0.7162694038809432, -0.7399661011767127, 0.17186950411304497, -1.1302051947786431, -0.9448681293583892, 0.6946221543285171, -0.12813558114594467, 0.24714774336127074, -1.401696050877737, 0.2658142400997529, 1.1587947957112168, 0.966918511877791, -0.7927216095782581, 0.06753132960304364, -0.9947952723901883, 0.1520156296155712, 0.02904167623115189, 0.5559274232627266, -1.6466726734025219, -1.1473494682674321, -1.300233840798571, -0.9329887699147729, 0.8342953223377536, -0.7998016531956084, 0.7303669267789196, 1.0166451335363904, 0.345687476091971, 0.9970011314070286, 0.09163957069787133, -0.9827263875741888, 2.046107251601977, -0.9087542910432793, 1.178729950658305, -2.6855798912420097, -0.039017895423392124, 0.7719369300095611, -0.4831134080474078, -0.7255292888680582, 0.5881142253701253, -0.6361240283966371, 2.415709480942409, -0.5995822445536416, -0.2053208344706357, 0.5614526534984946, -0.5269882532809637, -0.8431434637055175, 0.5192973390474064, -0.552047204906587, 0.32936941597121155, -1.8758010295874192, -2.3502496170590246, 0.048974160043405456, -1.0570986004732563, -1.571501953022733, 0.8895704580584978, -0.7613651522874072, -0.3796361762246006, 0.2256162238881583, 1.1124231723885278, -0.02020697294077586, -0.15171179754105252, 0.8470805537985738, -1.7336252512643053, -0.04782149486562937, 0.19254693779206455, 0.23157418873759167, 0.5178468554423196, -0.3914330320089398, 0.19396591446211114, -0.028819443653141583, 2.097703142578914, 0.7380179176926842, -0.4801374333012573, -1.4125156131663692, -0.07460973403830272, -0.28773407861577427, -0.09295631191568235, 0.7522891655138189, -1.5297240137040118, 1.1384751363045376, 1.3091217346992188, 0.8879746080979246, 0.4720820662595549, -0.5018250230207556, -1.2398951096581001, 0.32913838199510387, 0.8707335589794765, -0.1421942077971298, -0.7796115208498818, -0.13029165791235717, 0.03648733730706007], \"yaxis\": \"y2\"}, {\"line\": {\"color\": \"rgba(128, 128, 128, 1.0)\", \"dash\": \"solid\", \"shape\": \"linear\", \"width\": 1.3}, \"marker\": {\"size\": 2, \"symbol\": \"circle\"}, \"mode\": \"markers\", \"name\": \"A\", \"text\": \"\", \"type\": \"scatter\", \"x\": [-1.6238040974131962, 0.6757392664758547, 0.9760729606148445, 0.862055908290435, -0.40453955744098546, -2.8610527199677676, -0.140581944584434, 0.02496929176889924, 0.30465375719363513, 0.5948694424871468, -0.42920265223907345, -1.1756734867887315, 0.040368699452806765, -0.4617962231259209, 1.7955002711256662, -1.5932256133503535, -0.6418212290028259, -0.08628995659191863, -0.9035271053516496, 0.7378098853480631, -1.6802683281159088, 0.0995367017452982, 0.5635676347299098, -0.2205371392984177, -0.49826062471825555, -0.6423898590064763, -1.0508565915580506, -0.5774604208382002, -1.0009178007471513, -0.9912120123666746, -1.260208039182508, -0.18872143658446525, 0.436955712975561, 1.0997267977346983, 1.6757119783451595, 0.26113852808788146, -0.40962615109820205, -2.0731272933464564, -1.0512783919121158, -0.6858181579234804, 1.6321705351469065, -1.3201354166500952, 1.6879892502481604, -0.2006093844748727, -1.8297821349157273, -0.7135573671380527, -1.3744987407180982, -0.007623524114172672, 0.8043348801182267, 0.13428685566546555, -1.0697254759426642, 0.4458115008719297, -0.5849091687752987, -0.3183227777360005, -0.7167463923161833, 0.56391806531028, 0.3083308023028222, 0.5161871179568257, 0.5141016626244824, 0.6677545972982242, 0.8849894848007175, 2.384360942181475, 0.04330896090492554, 1.3842877351197145, -0.15633858361654132, 0.891465974345801, -0.013205408661876304, -0.15189909839061694, 0.47544478540078583, 0.16259065067279815, 1.1551705608611824, -0.43133085622998607, -0.1192804606375206, 0.7486552329731277, -0.6444473564327091, -1.9036580630935813, 0.21296771957325075, 1.3099624409649717, -0.45432408036046984, 0.3606458537832278, 2.7161688380964515, -0.38601834437418847, 1.4250134372750032, 0.7042659815585277, -1.2432978392265779, 0.4590058834834523, -0.017374247412086444, 1.4535028668689962, -0.9155429068219456, -1.0873207050081553, 0.5362550639162094, 0.07737676669573887, -0.1650233443710363, 0.16683709497806792, 0.9051714771804598, -0.8348728389820331, 1.357250067037759, -0.376804667600888, 1.1340516122970452, 0.7109013007418191], \"xaxis\": \"x3\", \"y\": [-0.6955674278003409, 0.709603311671074, -0.4639112475880794, 0.6109406141883472, -0.5366807345866035, 0.7910773377517595, -0.11947942636690821, -0.47349701720928045, 0.4379025626920702, -0.7162694038809432, -0.7399661011767127, 0.17186950411304497, -1.1302051947786431, -0.9448681293583892, 0.6946221543285171, -0.12813558114594467, 0.24714774336127074, -1.401696050877737, 0.2658142400997529, 1.1587947957112168, 0.966918511877791, -0.7927216095782581, 0.06753132960304364, -0.9947952723901883, 0.1520156296155712, 0.02904167623115189, 0.5559274232627266, -1.6466726734025219, -1.1473494682674321, -1.300233840798571, -0.9329887699147729, 0.8342953223377536, -0.7998016531956084, 0.7303669267789196, 1.0166451335363904, 0.345687476091971, 0.9970011314070286, 0.09163957069787133, -0.9827263875741888, 2.046107251601977, -0.9087542910432793, 1.178729950658305, -2.6855798912420097, -0.039017895423392124, 0.7719369300095611, -0.4831134080474078, -0.7255292888680582, 0.5881142253701253, -0.6361240283966371, 2.415709480942409, -0.5995822445536416, -0.2053208344706357, 0.5614526534984946, -0.5269882532809637, -0.8431434637055175, 0.5192973390474064, -0.552047204906587, 0.32936941597121155, -1.8758010295874192, -2.3502496170590246, 0.048974160043405456, -1.0570986004732563, -1.571501953022733, 0.8895704580584978, -0.7613651522874072, -0.3796361762246006, 0.2256162238881583, 1.1124231723885278, -0.02020697294077586, -0.15171179754105252, 0.8470805537985738, -1.7336252512643053, -0.04782149486562937, 0.19254693779206455, 0.23157418873759167, 0.5178468554423196, -0.3914330320089398, 0.19396591446211114, -0.028819443653141583, 2.097703142578914, 0.7380179176926842, -0.4801374333012573, -1.4125156131663692, -0.07460973403830272, -0.28773407861577427, -0.09295631191568235, 0.7522891655138189, -1.5297240137040118, 1.1384751363045376, 1.3091217346992188, 0.8879746080979246, 0.4720820662595549, -0.5018250230207556, -1.2398951096581001, 0.32913838199510387, 0.8707335589794765, -0.1421942077971298, -0.7796115208498818, -0.13029165791235717, 0.03648733730706007], \"yaxis\": \"y3\"}, {\"line\": {\"color\": \"rgba(128, 128, 128, 1.0)\", \"dash\": \"solid\", \"shape\": \"linear\", \"width\": 1.3}, \"marker\": {\"size\": 2, \"symbol\": \"circle\"}, \"mode\": \"markers\", \"name\": \"A\", \"text\": \"\", \"type\": \"scatter\", \"x\": [0.5332636654100519, -0.17448553509926584, 1.0702186407912706, -0.8239459485689032, -0.19277736796240497, 0.9878115634701904, -1.0019238003717077, 0.6340669901847583, -0.44092991075614896, 1.1482169731542764, -1.6192711259278165, 2.0100583949114106, 0.6171914119741962, 1.0728353254658836, 2.234774598685246, -0.14113372683940276, 0.5735469038655757, 0.5002857792239915, -0.14136529334836834, 0.028023475607641547, 0.42983347929310667, -0.4021987507932994, 0.05679723454111941, -0.41881947433224914, -0.45767025482695795, -0.08957245279795471, -0.15869122934893043, 0.2544976388887662, -0.15181335444527758, 1.3635385547683017, 2.9281728527138173, 0.8613488656680641, 1.6025589793487491, 0.6433745524624715, -0.26818492568457153, -0.7942340114600223, 0.7947122622474939, 0.663908928370825, 0.05274822843206822, 0.05326282927921363, 0.9858304380437507, -0.5037109951333828, 2.071963806272051, 0.23912511587653842, 0.1640602401262859, -0.515702047918531, 0.23329218245100403, -0.7975621651643411, -0.288400704619235, -0.20226308550200042, -0.2694078200285193, -0.044092115485592366, -0.01725872658883086, 0.5655851190308381, -0.5581585283930425, -0.5876787764705258, 2.4194096236447664, -0.4051483206156967, -0.630257275653493, 0.40273672166939267, 1.8087616279156626, -0.7948964066383825, -0.13985979319487046, 1.061591244004667, 0.013386584935048917, 0.4269863876075386, 0.26344428537128556, 0.06584190312229428, 0.579181476524353, 0.7391876007027266, -0.08663854738741003, -0.7409329084361622, 0.060977491621816565, -1.9530030016414457, 0.5555507032508455, 0.8704793922391589, 0.5438663812486605, -0.913188730584862, -1.5062079171457297, 0.9666686384082549, -0.6689103073463399, -0.869629424372071, 0.8379810284959375, -0.20969583313625517, -2.1022706426895574, -2.4104695140633865, -0.4089688146503087, -0.5299112877338699, 0.9594791891461327, 0.5586959040600886, -0.3876513646705716, -0.04656212299625653, -0.5373091246983154, 0.5647184738520705, 0.5817005533832955, -0.6446213603070445, -3.225971181776725, -1.2321918389977802, -0.030634778288711823, -1.0808138809064949], \"xaxis\": \"x4\", \"y\": [-0.6955674278003409, 0.709603311671074, -0.4639112475880794, 0.6109406141883472, -0.5366807345866035, 0.7910773377517595, -0.11947942636690821, -0.47349701720928045, 0.4379025626920702, -0.7162694038809432, -0.7399661011767127, 0.17186950411304497, -1.1302051947786431, -0.9448681293583892, 0.6946221543285171, -0.12813558114594467, 0.24714774336127074, -1.401696050877737, 0.2658142400997529, 1.1587947957112168, 0.966918511877791, -0.7927216095782581, 0.06753132960304364, -0.9947952723901883, 0.1520156296155712, 0.02904167623115189, 0.5559274232627266, -1.6466726734025219, -1.1473494682674321, -1.300233840798571, -0.9329887699147729, 0.8342953223377536, -0.7998016531956084, 0.7303669267789196, 1.0166451335363904, 0.345687476091971, 0.9970011314070286, 0.09163957069787133, -0.9827263875741888, 2.046107251601977, -0.9087542910432793, 1.178729950658305, -2.6855798912420097, -0.039017895423392124, 0.7719369300095611, -0.4831134080474078, -0.7255292888680582, 0.5881142253701253, -0.6361240283966371, 2.415709480942409, -0.5995822445536416, -0.2053208344706357, 0.5614526534984946, -0.5269882532809637, -0.8431434637055175, 0.5192973390474064, -0.552047204906587, 0.32936941597121155, -1.8758010295874192, -2.3502496170590246, 0.048974160043405456, -1.0570986004732563, -1.571501953022733, 0.8895704580584978, -0.7613651522874072, -0.3796361762246006, 0.2256162238881583, 1.1124231723885278, -0.02020697294077586, -0.15171179754105252, 0.8470805537985738, -1.7336252512643053, -0.04782149486562937, 0.19254693779206455, 0.23157418873759167, 0.5178468554423196, -0.3914330320089398, 0.19396591446211114, -0.028819443653141583, 2.097703142578914, 0.7380179176926842, -0.4801374333012573, -1.4125156131663692, -0.07460973403830272, -0.28773407861577427, -0.09295631191568235, 0.7522891655138189, -1.5297240137040118, 1.1384751363045376, 1.3091217346992188, 0.8879746080979246, 0.4720820662595549, -0.5018250230207556, -1.2398951096581001, 0.32913838199510387, 0.8707335589794765, -0.1421942077971298, -0.7796115208498818, -0.13029165791235717, 0.03648733730706007], \"yaxis\": \"y4\"}, {\"line\": {\"color\": \"rgba(128, 128, 128, 1.0)\", \"dash\": \"solid\", \"shape\": \"linear\", \"width\": 1.3}, \"marker\": {\"size\": 2, \"symbol\": \"circle\"}, \"mode\": \"markers\", \"name\": \"B\", \"text\": \"\", \"type\": \"scatter\", \"x\": [-0.6955674278003409, 0.709603311671074, -0.4639112475880794, 0.6109406141883472, -0.5366807345866035, 0.7910773377517595, -0.11947942636690821, -0.47349701720928045, 0.4379025626920702, -0.7162694038809432, -0.7399661011767127, 0.17186950411304497, -1.1302051947786431, -0.9448681293583892, 0.6946221543285171, -0.12813558114594467, 0.24714774336127074, -1.401696050877737, 0.2658142400997529, 1.1587947957112168, 0.966918511877791, -0.7927216095782581, 0.06753132960304364, -0.9947952723901883, 0.1520156296155712, 0.02904167623115189, 0.5559274232627266, -1.6466726734025219, -1.1473494682674321, -1.300233840798571, -0.9329887699147729, 0.8342953223377536, -0.7998016531956084, 0.7303669267789196, 1.0166451335363904, 0.345687476091971, 0.9970011314070286, 0.09163957069787133, -0.9827263875741888, 2.046107251601977, -0.9087542910432793, 1.178729950658305, -2.6855798912420097, -0.039017895423392124, 0.7719369300095611, -0.4831134080474078, -0.7255292888680582, 0.5881142253701253, -0.6361240283966371, 2.415709480942409, -0.5995822445536416, -0.2053208344706357, 0.5614526534984946, -0.5269882532809637, -0.8431434637055175, 0.5192973390474064, -0.552047204906587, 0.32936941597121155, -1.8758010295874192, -2.3502496170590246, 0.048974160043405456, -1.0570986004732563, -1.571501953022733, 0.8895704580584978, -0.7613651522874072, -0.3796361762246006, 0.2256162238881583, 1.1124231723885278, -0.02020697294077586, -0.15171179754105252, 0.8470805537985738, -1.7336252512643053, -0.04782149486562937, 0.19254693779206455, 0.23157418873759167, 0.5178468554423196, -0.3914330320089398, 0.19396591446211114, -0.028819443653141583, 2.097703142578914, 0.7380179176926842, -0.4801374333012573, -1.4125156131663692, -0.07460973403830272, -0.28773407861577427, -0.09295631191568235, 0.7522891655138189, -1.5297240137040118, 1.1384751363045376, 1.3091217346992188, 0.8879746080979246, 0.4720820662595549, -0.5018250230207556, -1.2398951096581001, 0.32913838199510387, 0.8707335589794765, -0.1421942077971298, -0.7796115208498818, -0.13029165791235717, 0.03648733730706007], \"xaxis\": \"x5\", \"y\": [-0.7115712083518633, 0.20367831749698934, 0.6134576546805096, -0.36570067643631643, -0.7159140308166888, -0.9239386716004879, 2.5930230737700555, 0.4147527987618448, -0.22996385762564714, 0.5624676614965411, -1.5475325608234494, -0.6259507711406066, 0.3056636097323393, 0.20211511312646258, 0.10374629106262659, 1.814642590027516, -0.9618251387755197, 2.148194545714763, 0.9418063372995279, -1.756893092290613, -0.6451514937773778, -0.13200770808476447, 0.872337004831524, 2.3229673950851923, -0.4706761210576756, 0.5164410724972459, -0.48565279600255373, -1.2521645968922077, 0.190667708166508, -1.71765646431304, 1.527954065750762, 0.37401203490486645, -0.9774218888534799, 0.7109426456154209, -0.6026932312876238, 0.5456845135286027, 0.6371851776297126, 1.0541028159046348, -0.8355387155807726, 1.0141605310042423, -0.32801098196297007, 1.046053681722419, -0.6770303842667683, 0.428153097306062, 0.9140719808484178, 0.8309841468257837, 0.022583141337870448, -0.6262397051187514, -1.6071190249191691, -0.1989055676546752, 0.5330744191733329, 1.0761993457881287, 1.8121764700303273, -1.2688836897989333, -1.7647514937908018, -2.482464341193299, -0.6078532786143386, 0.010679248589527316, 2.183394229236031, 1.60963687506475, -1.0210660043618693, 2.508243729834317, -0.23333220546062955, 1.4028553391308474, -0.39244294429217097, -0.09295080049327233, 1.1103292193372296, 1.1949982096141774, -0.2989744322934105, 0.8871375559852462, -1.368327962932662, 0.20209814397912979, 0.40926606668519244, -0.9215941758887686, 0.9351089487739781, -0.24065253160275235, -0.11345971025377141, 0.24372600294771427, 0.455002801545644, 0.1972947992569593, 0.9717385724212538, -2.6044890057609646, -1.8119523545271286, 0.9456288963313946, 0.13644379478974555, -0.17657547306635485, -0.6080471675815619, 0.6910563876875375, -0.1889085678147469, 0.5062020601577284, -3.4814412422787626, -0.1844947741671853, 2.43070381381801, 0.8253619914959017, 0.06003229469139, 0.35353678611411077, -0.9648741956228961, -1.4325317580760464, -1.1132449693847992, -1.5049978733911864], \"yaxis\": \"y5\"}, {\"histfunc\": \"count\", \"histnorm\": \"\", \"marker\": {\"color\": \"rgba(55, 128, 191, 1.0)\", \"line\": {\"color\": \"#4D5663\", \"width\": 1.3}}, \"name\": \"B\", \"nbinsx\": 10, \"opacity\": 0.8, \"orientation\": \"v\", \"type\": \"histogram\", \"x\": [-0.7115712083518633, 0.20367831749698934, 0.6134576546805096, -0.36570067643631643, -0.7159140308166888, -0.9239386716004879, 2.5930230737700555, 0.4147527987618448, -0.22996385762564714, 0.5624676614965411, -1.5475325608234494, -0.6259507711406066, 0.3056636097323393, 0.20211511312646258, 0.10374629106262659, 1.814642590027516, -0.9618251387755197, 2.148194545714763, 0.9418063372995279, -1.756893092290613, -0.6451514937773778, -0.13200770808476447, 0.872337004831524, 2.3229673950851923, -0.4706761210576756, 0.5164410724972459, -0.48565279600255373, -1.2521645968922077, 0.190667708166508, -1.71765646431304, 1.527954065750762, 0.37401203490486645, -0.9774218888534799, 0.7109426456154209, -0.6026932312876238, 0.5456845135286027, 0.6371851776297126, 1.0541028159046348, -0.8355387155807726, 1.0141605310042423, -0.32801098196297007, 1.046053681722419, -0.6770303842667683, 0.428153097306062, 0.9140719808484178, 0.8309841468257837, 0.022583141337870448, -0.6262397051187514, -1.6071190249191691, -0.1989055676546752, 0.5330744191733329, 1.0761993457881287, 1.8121764700303273, -1.2688836897989333, -1.7647514937908018, -2.482464341193299, -0.6078532786143386, 0.010679248589527316, 2.183394229236031, 1.60963687506475, -1.0210660043618693, 2.508243729834317, -0.23333220546062955, 1.4028553391308474, -0.39244294429217097, -0.09295080049327233, 1.1103292193372296, 1.1949982096141774, -0.2989744322934105, 0.8871375559852462, -1.368327962932662, 0.20209814397912979, 0.40926606668519244, -0.9215941758887686, 0.9351089487739781, -0.24065253160275235, -0.11345971025377141, 0.24372600294771427, 0.455002801545644, 0.1972947992569593, 0.9717385724212538, -2.6044890057609646, -1.8119523545271286, 0.9456288963313946, 0.13644379478974555, -0.17657547306635485, -0.6080471675815619, 0.6910563876875375, -0.1889085678147469, 0.5062020601577284, -3.4814412422787626, -0.1844947741671853, 2.43070381381801, 0.8253619914959017, 0.06003229469139, 0.35353678611411077, -0.9648741956228961, -1.4325317580760464, -1.1132449693847992, -1.5049978733911864], \"xaxis\": \"x6\", \"yaxis\": \"y6\"}, {\"line\": {\"color\": \"rgba(128, 128, 128, 1.0)\", \"dash\": \"solid\", \"shape\": \"linear\", \"width\": 1.3}, \"marker\": {\"size\": 2, \"symbol\": \"circle\"}, \"mode\": \"markers\", \"name\": \"B\", \"text\": \"\", \"type\": \"scatter\", \"x\": [-1.6238040974131962, 0.6757392664758547, 0.9760729606148445, 0.862055908290435, -0.40453955744098546, -2.8610527199677676, -0.140581944584434, 0.02496929176889924, 0.30465375719363513, 0.5948694424871468, -0.42920265223907345, -1.1756734867887315, 0.040368699452806765, -0.4617962231259209, 1.7955002711256662, -1.5932256133503535, -0.6418212290028259, -0.08628995659191863, -0.9035271053516496, 0.7378098853480631, -1.6802683281159088, 0.0995367017452982, 0.5635676347299098, -0.2205371392984177, -0.49826062471825555, -0.6423898590064763, -1.0508565915580506, -0.5774604208382002, -1.0009178007471513, -0.9912120123666746, -1.260208039182508, -0.18872143658446525, 0.436955712975561, 1.0997267977346983, 1.6757119783451595, 0.26113852808788146, -0.40962615109820205, -2.0731272933464564, -1.0512783919121158, -0.6858181579234804, 1.6321705351469065, -1.3201354166500952, 1.6879892502481604, -0.2006093844748727, -1.8297821349157273, -0.7135573671380527, -1.3744987407180982, -0.007623524114172672, 0.8043348801182267, 0.13428685566546555, -1.0697254759426642, 0.4458115008719297, -0.5849091687752987, -0.3183227777360005, -0.7167463923161833, 0.56391806531028, 0.3083308023028222, 0.5161871179568257, 0.5141016626244824, 0.6677545972982242, 0.8849894848007175, 2.384360942181475, 0.04330896090492554, 1.3842877351197145, -0.15633858361654132, 0.891465974345801, -0.013205408661876304, -0.15189909839061694, 0.47544478540078583, 0.16259065067279815, 1.1551705608611824, -0.43133085622998607, -0.1192804606375206, 0.7486552329731277, -0.6444473564327091, -1.9036580630935813, 0.21296771957325075, 1.3099624409649717, -0.45432408036046984, 0.3606458537832278, 2.7161688380964515, -0.38601834437418847, 1.4250134372750032, 0.7042659815585277, -1.2432978392265779, 0.4590058834834523, -0.017374247412086444, 1.4535028668689962, -0.9155429068219456, -1.0873207050081553, 0.5362550639162094, 0.07737676669573887, -0.1650233443710363, 0.16683709497806792, 0.9051714771804598, -0.8348728389820331, 1.357250067037759, -0.376804667600888, 1.1340516122970452, 0.7109013007418191], \"xaxis\": \"x7\", \"y\": [-0.7115712083518633, 0.20367831749698934, 0.6134576546805096, -0.36570067643631643, -0.7159140308166888, -0.9239386716004879, 2.5930230737700555, 0.4147527987618448, -0.22996385762564714, 0.5624676614965411, -1.5475325608234494, -0.6259507711406066, 0.3056636097323393, 0.20211511312646258, 0.10374629106262659, 1.814642590027516, -0.9618251387755197, 2.148194545714763, 0.9418063372995279, -1.756893092290613, -0.6451514937773778, -0.13200770808476447, 0.872337004831524, 2.3229673950851923, -0.4706761210576756, 0.5164410724972459, -0.48565279600255373, -1.2521645968922077, 0.190667708166508, -1.71765646431304, 1.527954065750762, 0.37401203490486645, -0.9774218888534799, 0.7109426456154209, -0.6026932312876238, 0.5456845135286027, 0.6371851776297126, 1.0541028159046348, -0.8355387155807726, 1.0141605310042423, -0.32801098196297007, 1.046053681722419, -0.6770303842667683, 0.428153097306062, 0.9140719808484178, 0.8309841468257837, 0.022583141337870448, -0.6262397051187514, -1.6071190249191691, -0.1989055676546752, 0.5330744191733329, 1.0761993457881287, 1.8121764700303273, -1.2688836897989333, -1.7647514937908018, -2.482464341193299, -0.6078532786143386, 0.010679248589527316, 2.183394229236031, 1.60963687506475, -1.0210660043618693, 2.508243729834317, -0.23333220546062955, 1.4028553391308474, -0.39244294429217097, -0.09295080049327233, 1.1103292193372296, 1.1949982096141774, -0.2989744322934105, 0.8871375559852462, -1.368327962932662, 0.20209814397912979, 0.40926606668519244, -0.9215941758887686, 0.9351089487739781, -0.24065253160275235, -0.11345971025377141, 0.24372600294771427, 0.455002801545644, 0.1972947992569593, 0.9717385724212538, -2.6044890057609646, -1.8119523545271286, 0.9456288963313946, 0.13644379478974555, -0.17657547306635485, -0.6080471675815619, 0.6910563876875375, -0.1889085678147469, 0.5062020601577284, -3.4814412422787626, -0.1844947741671853, 2.43070381381801, 0.8253619914959017, 0.06003229469139, 0.35353678611411077, -0.9648741956228961, -1.4325317580760464, -1.1132449693847992, -1.5049978733911864], \"yaxis\": \"y7\"}, {\"line\": {\"color\": \"rgba(128, 128, 128, 1.0)\", \"dash\": \"solid\", \"shape\": \"linear\", \"width\": 1.3}, \"marker\": {\"size\": 2, \"symbol\": \"circle\"}, \"mode\": \"markers\", \"name\": \"B\", \"text\": \"\", \"type\": \"scatter\", \"x\": [0.5332636654100519, -0.17448553509926584, 1.0702186407912706, -0.8239459485689032, -0.19277736796240497, 0.9878115634701904, -1.0019238003717077, 0.6340669901847583, -0.44092991075614896, 1.1482169731542764, -1.6192711259278165, 2.0100583949114106, 0.6171914119741962, 1.0728353254658836, 2.234774598685246, -0.14113372683940276, 0.5735469038655757, 0.5002857792239915, -0.14136529334836834, 0.028023475607641547, 0.42983347929310667, -0.4021987507932994, 0.05679723454111941, -0.41881947433224914, -0.45767025482695795, -0.08957245279795471, -0.15869122934893043, 0.2544976388887662, -0.15181335444527758, 1.3635385547683017, 2.9281728527138173, 0.8613488656680641, 1.6025589793487491, 0.6433745524624715, -0.26818492568457153, -0.7942340114600223, 0.7947122622474939, 0.663908928370825, 0.05274822843206822, 0.05326282927921363, 0.9858304380437507, -0.5037109951333828, 2.071963806272051, 0.23912511587653842, 0.1640602401262859, -0.515702047918531, 0.23329218245100403, -0.7975621651643411, -0.288400704619235, -0.20226308550200042, -0.2694078200285193, -0.044092115485592366, -0.01725872658883086, 0.5655851190308381, -0.5581585283930425, -0.5876787764705258, 2.4194096236447664, -0.4051483206156967, -0.630257275653493, 0.40273672166939267, 1.8087616279156626, -0.7948964066383825, -0.13985979319487046, 1.061591244004667, 0.013386584935048917, 0.4269863876075386, 0.26344428537128556, 0.06584190312229428, 0.579181476524353, 0.7391876007027266, -0.08663854738741003, -0.7409329084361622, 0.060977491621816565, -1.9530030016414457, 0.5555507032508455, 0.8704793922391589, 0.5438663812486605, -0.913188730584862, -1.5062079171457297, 0.9666686384082549, -0.6689103073463399, -0.869629424372071, 0.8379810284959375, -0.20969583313625517, -2.1022706426895574, -2.4104695140633865, -0.4089688146503087, -0.5299112877338699, 0.9594791891461327, 0.5586959040600886, -0.3876513646705716, -0.04656212299625653, -0.5373091246983154, 0.5647184738520705, 0.5817005533832955, -0.6446213603070445, -3.225971181776725, -1.2321918389977802, -0.030634778288711823, -1.0808138809064949], \"xaxis\": \"x8\", \"y\": [-0.7115712083518633, 0.20367831749698934, 0.6134576546805096, -0.36570067643631643, -0.7159140308166888, -0.9239386716004879, 2.5930230737700555, 0.4147527987618448, -0.22996385762564714, 0.5624676614965411, -1.5475325608234494, -0.6259507711406066, 0.3056636097323393, 0.20211511312646258, 0.10374629106262659, 1.814642590027516, -0.9618251387755197, 2.148194545714763, 0.9418063372995279, -1.756893092290613, -0.6451514937773778, -0.13200770808476447, 0.872337004831524, 2.3229673950851923, -0.4706761210576756, 0.5164410724972459, -0.48565279600255373, -1.2521645968922077, 0.190667708166508, -1.71765646431304, 1.527954065750762, 0.37401203490486645, -0.9774218888534799, 0.7109426456154209, -0.6026932312876238, 0.5456845135286027, 0.6371851776297126, 1.0541028159046348, -0.8355387155807726, 1.0141605310042423, -0.32801098196297007, 1.046053681722419, -0.6770303842667683, 0.428153097306062, 0.9140719808484178, 0.8309841468257837, 0.022583141337870448, -0.6262397051187514, -1.6071190249191691, -0.1989055676546752, 0.5330744191733329, 1.0761993457881287, 1.8121764700303273, -1.2688836897989333, -1.7647514937908018, -2.482464341193299, -0.6078532786143386, 0.010679248589527316, 2.183394229236031, 1.60963687506475, -1.0210660043618693, 2.508243729834317, -0.23333220546062955, 1.4028553391308474, -0.39244294429217097, -0.09295080049327233, 1.1103292193372296, 1.1949982096141774, -0.2989744322934105, 0.8871375559852462, -1.368327962932662, 0.20209814397912979, 0.40926606668519244, -0.9215941758887686, 0.9351089487739781, -0.24065253160275235, -0.11345971025377141, 0.24372600294771427, 0.455002801545644, 0.1972947992569593, 0.9717385724212538, -2.6044890057609646, -1.8119523545271286, 0.9456288963313946, 0.13644379478974555, -0.17657547306635485, -0.6080471675815619, 0.6910563876875375, -0.1889085678147469, 0.5062020601577284, -3.4814412422787626, -0.1844947741671853, 2.43070381381801, 0.8253619914959017, 0.06003229469139, 0.35353678611411077, -0.9648741956228961, -1.4325317580760464, -1.1132449693847992, -1.5049978733911864], \"yaxis\": \"y8\"}, {\"line\": {\"color\": \"rgba(128, 128, 128, 1.0)\", \"dash\": \"solid\", \"shape\": \"linear\", \"width\": 1.3}, \"marker\": {\"size\": 2, \"symbol\": \"circle\"}, \"mode\": \"markers\", \"name\": \"C\", \"text\": \"\", \"type\": \"scatter\", \"x\": [-0.6955674278003409, 0.709603311671074, -0.4639112475880794, 0.6109406141883472, -0.5366807345866035, 0.7910773377517595, -0.11947942636690821, -0.47349701720928045, 0.4379025626920702, -0.7162694038809432, -0.7399661011767127, 0.17186950411304497, -1.1302051947786431, -0.9448681293583892, 0.6946221543285171, -0.12813558114594467, 0.24714774336127074, -1.401696050877737, 0.2658142400997529, 1.1587947957112168, 0.966918511877791, -0.7927216095782581, 0.06753132960304364, -0.9947952723901883, 0.1520156296155712, 0.02904167623115189, 0.5559274232627266, -1.6466726734025219, -1.1473494682674321, -1.300233840798571, -0.9329887699147729, 0.8342953223377536, -0.7998016531956084, 0.7303669267789196, 1.0166451335363904, 0.345687476091971, 0.9970011314070286, 0.09163957069787133, -0.9827263875741888, 2.046107251601977, -0.9087542910432793, 1.178729950658305, -2.6855798912420097, -0.039017895423392124, 0.7719369300095611, -0.4831134080474078, -0.7255292888680582, 0.5881142253701253, -0.6361240283966371, 2.415709480942409, -0.5995822445536416, -0.2053208344706357, 0.5614526534984946, -0.5269882532809637, -0.8431434637055175, 0.5192973390474064, -0.552047204906587, 0.32936941597121155, -1.8758010295874192, -2.3502496170590246, 0.048974160043405456, -1.0570986004732563, -1.571501953022733, 0.8895704580584978, -0.7613651522874072, -0.3796361762246006, 0.2256162238881583, 1.1124231723885278, -0.02020697294077586, -0.15171179754105252, 0.8470805537985738, -1.7336252512643053, -0.04782149486562937, 0.19254693779206455, 0.23157418873759167, 0.5178468554423196, -0.3914330320089398, 0.19396591446211114, -0.028819443653141583, 2.097703142578914, 0.7380179176926842, -0.4801374333012573, -1.4125156131663692, -0.07460973403830272, -0.28773407861577427, -0.09295631191568235, 0.7522891655138189, -1.5297240137040118, 1.1384751363045376, 1.3091217346992188, 0.8879746080979246, 0.4720820662595549, -0.5018250230207556, -1.2398951096581001, 0.32913838199510387, 0.8707335589794765, -0.1421942077971298, -0.7796115208498818, -0.13029165791235717, 0.03648733730706007], \"xaxis\": \"x9\", \"y\": [-1.6238040974131962, 0.6757392664758547, 0.9760729606148445, 0.862055908290435, -0.40453955744098546, -2.8610527199677676, -0.140581944584434, 0.02496929176889924, 0.30465375719363513, 0.5948694424871468, -0.42920265223907345, -1.1756734867887315, 0.040368699452806765, -0.4617962231259209, 1.7955002711256662, -1.5932256133503535, -0.6418212290028259, -0.08628995659191863, -0.9035271053516496, 0.7378098853480631, -1.6802683281159088, 0.0995367017452982, 0.5635676347299098, -0.2205371392984177, -0.49826062471825555, -0.6423898590064763, -1.0508565915580506, -0.5774604208382002, -1.0009178007471513, -0.9912120123666746, -1.260208039182508, -0.18872143658446525, 0.436955712975561, 1.0997267977346983, 1.6757119783451595, 0.26113852808788146, -0.40962615109820205, -2.0731272933464564, -1.0512783919121158, -0.6858181579234804, 1.6321705351469065, -1.3201354166500952, 1.6879892502481604, -0.2006093844748727, -1.8297821349157273, -0.7135573671380527, -1.3744987407180982, -0.007623524114172672, 0.8043348801182267, 0.13428685566546555, -1.0697254759426642, 0.4458115008719297, -0.5849091687752987, -0.3183227777360005, -0.7167463923161833, 0.56391806531028, 0.3083308023028222, 0.5161871179568257, 0.5141016626244824, 0.6677545972982242, 0.8849894848007175, 2.384360942181475, 0.04330896090492554, 1.3842877351197145, -0.15633858361654132, 0.891465974345801, -0.013205408661876304, -0.15189909839061694, 0.47544478540078583, 0.16259065067279815, 1.1551705608611824, -0.43133085622998607, -0.1192804606375206, 0.7486552329731277, -0.6444473564327091, -1.9036580630935813, 0.21296771957325075, 1.3099624409649717, -0.45432408036046984, 0.3606458537832278, 2.7161688380964515, -0.38601834437418847, 1.4250134372750032, 0.7042659815585277, -1.2432978392265779, 0.4590058834834523, -0.017374247412086444, 1.4535028668689962, -0.9155429068219456, -1.0873207050081553, 0.5362550639162094, 0.07737676669573887, -0.1650233443710363, 0.16683709497806792, 0.9051714771804598, -0.8348728389820331, 1.357250067037759, -0.376804667600888, 1.1340516122970452, 0.7109013007418191], \"yaxis\": \"y9\"}, {\"line\": {\"color\": \"rgba(128, 128, 128, 1.0)\", \"dash\": \"solid\", \"shape\": \"linear\", \"width\": 1.3}, \"marker\": {\"size\": 2, \"symbol\": \"circle\"}, \"mode\": \"markers\", \"name\": \"C\", \"text\": \"\", \"type\": \"scatter\", \"x\": [-0.7115712083518633, 0.20367831749698934, 0.6134576546805096, -0.36570067643631643, -0.7159140308166888, -0.9239386716004879, 2.5930230737700555, 0.4147527987618448, -0.22996385762564714, 0.5624676614965411, -1.5475325608234494, -0.6259507711406066, 0.3056636097323393, 0.20211511312646258, 0.10374629106262659, 1.814642590027516, -0.9618251387755197, 2.148194545714763, 0.9418063372995279, -1.756893092290613, -0.6451514937773778, -0.13200770808476447, 0.872337004831524, 2.3229673950851923, -0.4706761210576756, 0.5164410724972459, -0.48565279600255373, -1.2521645968922077, 0.190667708166508, -1.71765646431304, 1.527954065750762, 0.37401203490486645, -0.9774218888534799, 0.7109426456154209, -0.6026932312876238, 0.5456845135286027, 0.6371851776297126, 1.0541028159046348, -0.8355387155807726, 1.0141605310042423, -0.32801098196297007, 1.046053681722419, -0.6770303842667683, 0.428153097306062, 0.9140719808484178, 0.8309841468257837, 0.022583141337870448, -0.6262397051187514, -1.6071190249191691, -0.1989055676546752, 0.5330744191733329, 1.0761993457881287, 1.8121764700303273, -1.2688836897989333, -1.7647514937908018, -2.482464341193299, -0.6078532786143386, 0.010679248589527316, 2.183394229236031, 1.60963687506475, -1.0210660043618693, 2.508243729834317, -0.23333220546062955, 1.4028553391308474, -0.39244294429217097, -0.09295080049327233, 1.1103292193372296, 1.1949982096141774, -0.2989744322934105, 0.8871375559852462, -1.368327962932662, 0.20209814397912979, 0.40926606668519244, -0.9215941758887686, 0.9351089487739781, -0.24065253160275235, -0.11345971025377141, 0.24372600294771427, 0.455002801545644, 0.1972947992569593, 0.9717385724212538, -2.6044890057609646, -1.8119523545271286, 0.9456288963313946, 0.13644379478974555, -0.17657547306635485, -0.6080471675815619, 0.6910563876875375, -0.1889085678147469, 0.5062020601577284, -3.4814412422787626, -0.1844947741671853, 2.43070381381801, 0.8253619914959017, 0.06003229469139, 0.35353678611411077, -0.9648741956228961, -1.4325317580760464, -1.1132449693847992, -1.5049978733911864], \"xaxis\": \"x10\", \"y\": [-1.6238040974131962, 0.6757392664758547, 0.9760729606148445, 0.862055908290435, -0.40453955744098546, -2.8610527199677676, -0.140581944584434, 0.02496929176889924, 0.30465375719363513, 0.5948694424871468, -0.42920265223907345, -1.1756734867887315, 0.040368699452806765, -0.4617962231259209, 1.7955002711256662, -1.5932256133503535, -0.6418212290028259, -0.08628995659191863, -0.9035271053516496, 0.7378098853480631, -1.6802683281159088, 0.0995367017452982, 0.5635676347299098, -0.2205371392984177, -0.49826062471825555, -0.6423898590064763, -1.0508565915580506, -0.5774604208382002, -1.0009178007471513, -0.9912120123666746, -1.260208039182508, -0.18872143658446525, 0.436955712975561, 1.0997267977346983, 1.6757119783451595, 0.26113852808788146, -0.40962615109820205, -2.0731272933464564, -1.0512783919121158, -0.6858181579234804, 1.6321705351469065, -1.3201354166500952, 1.6879892502481604, -0.2006093844748727, -1.8297821349157273, -0.7135573671380527, -1.3744987407180982, -0.007623524114172672, 0.8043348801182267, 0.13428685566546555, -1.0697254759426642, 0.4458115008719297, -0.5849091687752987, -0.3183227777360005, -0.7167463923161833, 0.56391806531028, 0.3083308023028222, 0.5161871179568257, 0.5141016626244824, 0.6677545972982242, 0.8849894848007175, 2.384360942181475, 0.04330896090492554, 1.3842877351197145, -0.15633858361654132, 0.891465974345801, -0.013205408661876304, -0.15189909839061694, 0.47544478540078583, 0.16259065067279815, 1.1551705608611824, -0.43133085622998607, -0.1192804606375206, 0.7486552329731277, -0.6444473564327091, -1.9036580630935813, 0.21296771957325075, 1.3099624409649717, -0.45432408036046984, 0.3606458537832278, 2.7161688380964515, -0.38601834437418847, 1.4250134372750032, 0.7042659815585277, -1.2432978392265779, 0.4590058834834523, -0.017374247412086444, 1.4535028668689962, -0.9155429068219456, -1.0873207050081553, 0.5362550639162094, 0.07737676669573887, -0.1650233443710363, 0.16683709497806792, 0.9051714771804598, -0.8348728389820331, 1.357250067037759, -0.376804667600888, 1.1340516122970452, 0.7109013007418191], \"yaxis\": \"y10\"}, {\"histfunc\": \"count\", \"histnorm\": \"\", \"marker\": {\"color\": \"rgba(50, 171, 96, 1.0)\", \"line\": {\"color\": \"#4D5663\", \"width\": 1.3}}, \"name\": \"C\", \"nbinsx\": 10, \"opacity\": 0.8, \"orientation\": \"v\", \"type\": \"histogram\", \"x\": [-1.6238040974131962, 0.6757392664758547, 0.9760729606148445, 0.862055908290435, -0.40453955744098546, -2.8610527199677676, -0.140581944584434, 0.02496929176889924, 0.30465375719363513, 0.5948694424871468, -0.42920265223907345, -1.1756734867887315, 0.040368699452806765, -0.4617962231259209, 1.7955002711256662, -1.5932256133503535, -0.6418212290028259, -0.08628995659191863, -0.9035271053516496, 0.7378098853480631, -1.6802683281159088, 0.0995367017452982, 0.5635676347299098, -0.2205371392984177, -0.49826062471825555, -0.6423898590064763, -1.0508565915580506, -0.5774604208382002, -1.0009178007471513, -0.9912120123666746, -1.260208039182508, -0.18872143658446525, 0.436955712975561, 1.0997267977346983, 1.6757119783451595, 0.26113852808788146, -0.40962615109820205, -2.0731272933464564, -1.0512783919121158, -0.6858181579234804, 1.6321705351469065, -1.3201354166500952, 1.6879892502481604, -0.2006093844748727, -1.8297821349157273, -0.7135573671380527, -1.3744987407180982, -0.007623524114172672, 0.8043348801182267, 0.13428685566546555, -1.0697254759426642, 0.4458115008719297, -0.5849091687752987, -0.3183227777360005, -0.7167463923161833, 0.56391806531028, 0.3083308023028222, 0.5161871179568257, 0.5141016626244824, 0.6677545972982242, 0.8849894848007175, 2.384360942181475, 0.04330896090492554, 1.3842877351197145, -0.15633858361654132, 0.891465974345801, -0.013205408661876304, -0.15189909839061694, 0.47544478540078583, 0.16259065067279815, 1.1551705608611824, -0.43133085622998607, -0.1192804606375206, 0.7486552329731277, -0.6444473564327091, -1.9036580630935813, 0.21296771957325075, 1.3099624409649717, -0.45432408036046984, 0.3606458537832278, 2.7161688380964515, -0.38601834437418847, 1.4250134372750032, 0.7042659815585277, -1.2432978392265779, 0.4590058834834523, -0.017374247412086444, 1.4535028668689962, -0.9155429068219456, -1.0873207050081553, 0.5362550639162094, 0.07737676669573887, -0.1650233443710363, 0.16683709497806792, 0.9051714771804598, -0.8348728389820331, 1.357250067037759, -0.376804667600888, 1.1340516122970452, 0.7109013007418191], \"xaxis\": \"x11\", \"yaxis\": \"y11\"}, {\"line\": {\"color\": \"rgba(128, 128, 128, 1.0)\", \"dash\": \"solid\", \"shape\": \"linear\", \"width\": 1.3}, \"marker\": {\"size\": 2, \"symbol\": \"circle\"}, \"mode\": \"markers\", \"name\": \"C\", \"text\": \"\", \"type\": \"scatter\", \"x\": [0.5332636654100519, -0.17448553509926584, 1.0702186407912706, -0.8239459485689032, -0.19277736796240497, 0.9878115634701904, -1.0019238003717077, 0.6340669901847583, -0.44092991075614896, 1.1482169731542764, -1.6192711259278165, 2.0100583949114106, 0.6171914119741962, 1.0728353254658836, 2.234774598685246, -0.14113372683940276, 0.5735469038655757, 0.5002857792239915, -0.14136529334836834, 0.028023475607641547, 0.42983347929310667, -0.4021987507932994, 0.05679723454111941, -0.41881947433224914, -0.45767025482695795, -0.08957245279795471, -0.15869122934893043, 0.2544976388887662, -0.15181335444527758, 1.3635385547683017, 2.9281728527138173, 0.8613488656680641, 1.6025589793487491, 0.6433745524624715, -0.26818492568457153, -0.7942340114600223, 0.7947122622474939, 0.663908928370825, 0.05274822843206822, 0.05326282927921363, 0.9858304380437507, -0.5037109951333828, 2.071963806272051, 0.23912511587653842, 0.1640602401262859, -0.515702047918531, 0.23329218245100403, -0.7975621651643411, -0.288400704619235, -0.20226308550200042, -0.2694078200285193, -0.044092115485592366, -0.01725872658883086, 0.5655851190308381, -0.5581585283930425, -0.5876787764705258, 2.4194096236447664, -0.4051483206156967, -0.630257275653493, 0.40273672166939267, 1.8087616279156626, -0.7948964066383825, -0.13985979319487046, 1.061591244004667, 0.013386584935048917, 0.4269863876075386, 0.26344428537128556, 0.06584190312229428, 0.579181476524353, 0.7391876007027266, -0.08663854738741003, -0.7409329084361622, 0.060977491621816565, -1.9530030016414457, 0.5555507032508455, 0.8704793922391589, 0.5438663812486605, -0.913188730584862, -1.5062079171457297, 0.9666686384082549, -0.6689103073463399, -0.869629424372071, 0.8379810284959375, -0.20969583313625517, -2.1022706426895574, -2.4104695140633865, -0.4089688146503087, -0.5299112877338699, 0.9594791891461327, 0.5586959040600886, -0.3876513646705716, -0.04656212299625653, -0.5373091246983154, 0.5647184738520705, 0.5817005533832955, -0.6446213603070445, -3.225971181776725, -1.2321918389977802, -0.030634778288711823, -1.0808138809064949], \"xaxis\": \"x12\", \"y\": [-1.6238040974131962, 0.6757392664758547, 0.9760729606148445, 0.862055908290435, -0.40453955744098546, -2.8610527199677676, -0.140581944584434, 0.02496929176889924, 0.30465375719363513, 0.5948694424871468, -0.42920265223907345, -1.1756734867887315, 0.040368699452806765, -0.4617962231259209, 1.7955002711256662, -1.5932256133503535, -0.6418212290028259, -0.08628995659191863, -0.9035271053516496, 0.7378098853480631, -1.6802683281159088, 0.0995367017452982, 0.5635676347299098, -0.2205371392984177, -0.49826062471825555, -0.6423898590064763, -1.0508565915580506, -0.5774604208382002, -1.0009178007471513, -0.9912120123666746, -1.260208039182508, -0.18872143658446525, 0.436955712975561, 1.0997267977346983, 1.6757119783451595, 0.26113852808788146, -0.40962615109820205, -2.0731272933464564, -1.0512783919121158, -0.6858181579234804, 1.6321705351469065, -1.3201354166500952, 1.6879892502481604, -0.2006093844748727, -1.8297821349157273, -0.7135573671380527, -1.3744987407180982, -0.007623524114172672, 0.8043348801182267, 0.13428685566546555, -1.0697254759426642, 0.4458115008719297, -0.5849091687752987, -0.3183227777360005, -0.7167463923161833, 0.56391806531028, 0.3083308023028222, 0.5161871179568257, 0.5141016626244824, 0.6677545972982242, 0.8849894848007175, 2.384360942181475, 0.04330896090492554, 1.3842877351197145, -0.15633858361654132, 0.891465974345801, -0.013205408661876304, -0.15189909839061694, 0.47544478540078583, 0.16259065067279815, 1.1551705608611824, -0.43133085622998607, -0.1192804606375206, 0.7486552329731277, -0.6444473564327091, -1.9036580630935813, 0.21296771957325075, 1.3099624409649717, -0.45432408036046984, 0.3606458537832278, 2.7161688380964515, -0.38601834437418847, 1.4250134372750032, 0.7042659815585277, -1.2432978392265779, 0.4590058834834523, -0.017374247412086444, 1.4535028668689962, -0.9155429068219456, -1.0873207050081553, 0.5362550639162094, 0.07737676669573887, -0.1650233443710363, 0.16683709497806792, 0.9051714771804598, -0.8348728389820331, 1.357250067037759, -0.376804667600888, 1.1340516122970452, 0.7109013007418191], \"yaxis\": \"y12\"}, {\"line\": {\"color\": \"rgba(128, 128, 128, 1.0)\", \"dash\": \"solid\", \"shape\": \"linear\", \"width\": 1.3}, \"marker\": {\"size\": 2, \"symbol\": \"circle\"}, \"mode\": \"markers\", \"name\": \"D\", \"text\": \"\", \"type\": \"scatter\", \"x\": [-0.6955674278003409, 0.709603311671074, -0.4639112475880794, 0.6109406141883472, -0.5366807345866035, 0.7910773377517595, -0.11947942636690821, -0.47349701720928045, 0.4379025626920702, -0.7162694038809432, -0.7399661011767127, 0.17186950411304497, -1.1302051947786431, -0.9448681293583892, 0.6946221543285171, -0.12813558114594467, 0.24714774336127074, -1.401696050877737, 0.2658142400997529, 1.1587947957112168, 0.966918511877791, -0.7927216095782581, 0.06753132960304364, -0.9947952723901883, 0.1520156296155712, 0.02904167623115189, 0.5559274232627266, -1.6466726734025219, -1.1473494682674321, -1.300233840798571, -0.9329887699147729, 0.8342953223377536, -0.7998016531956084, 0.7303669267789196, 1.0166451335363904, 0.345687476091971, 0.9970011314070286, 0.09163957069787133, -0.9827263875741888, 2.046107251601977, -0.9087542910432793, 1.178729950658305, -2.6855798912420097, -0.039017895423392124, 0.7719369300095611, -0.4831134080474078, -0.7255292888680582, 0.5881142253701253, -0.6361240283966371, 2.415709480942409, -0.5995822445536416, -0.2053208344706357, 0.5614526534984946, -0.5269882532809637, -0.8431434637055175, 0.5192973390474064, -0.552047204906587, 0.32936941597121155, -1.8758010295874192, -2.3502496170590246, 0.048974160043405456, -1.0570986004732563, -1.571501953022733, 0.8895704580584978, -0.7613651522874072, -0.3796361762246006, 0.2256162238881583, 1.1124231723885278, -0.02020697294077586, -0.15171179754105252, 0.8470805537985738, -1.7336252512643053, -0.04782149486562937, 0.19254693779206455, 0.23157418873759167, 0.5178468554423196, -0.3914330320089398, 0.19396591446211114, -0.028819443653141583, 2.097703142578914, 0.7380179176926842, -0.4801374333012573, -1.4125156131663692, -0.07460973403830272, -0.28773407861577427, -0.09295631191568235, 0.7522891655138189, -1.5297240137040118, 1.1384751363045376, 1.3091217346992188, 0.8879746080979246, 0.4720820662595549, -0.5018250230207556, -1.2398951096581001, 0.32913838199510387, 0.8707335589794765, -0.1421942077971298, -0.7796115208498818, -0.13029165791235717, 0.03648733730706007], \"xaxis\": \"x13\", \"y\": [0.5332636654100519, -0.17448553509926584, 1.0702186407912706, -0.8239459485689032, -0.19277736796240497, 0.9878115634701904, -1.0019238003717077, 0.6340669901847583, -0.44092991075614896, 1.1482169731542764, -1.6192711259278165, 2.0100583949114106, 0.6171914119741962, 1.0728353254658836, 2.234774598685246, -0.14113372683940276, 0.5735469038655757, 0.5002857792239915, -0.14136529334836834, 0.028023475607641547, 0.42983347929310667, -0.4021987507932994, 0.05679723454111941, -0.41881947433224914, -0.45767025482695795, -0.08957245279795471, -0.15869122934893043, 0.2544976388887662, -0.15181335444527758, 1.3635385547683017, 2.9281728527138173, 0.8613488656680641, 1.6025589793487491, 0.6433745524624715, -0.26818492568457153, -0.7942340114600223, 0.7947122622474939, 0.663908928370825, 0.05274822843206822, 0.05326282927921363, 0.9858304380437507, -0.5037109951333828, 2.071963806272051, 0.23912511587653842, 0.1640602401262859, -0.515702047918531, 0.23329218245100403, -0.7975621651643411, -0.288400704619235, -0.20226308550200042, -0.2694078200285193, -0.044092115485592366, -0.01725872658883086, 0.5655851190308381, -0.5581585283930425, -0.5876787764705258, 2.4194096236447664, -0.4051483206156967, -0.630257275653493, 0.40273672166939267, 1.8087616279156626, -0.7948964066383825, -0.13985979319487046, 1.061591244004667, 0.013386584935048917, 0.4269863876075386, 0.26344428537128556, 0.06584190312229428, 0.579181476524353, 0.7391876007027266, -0.08663854738741003, -0.7409329084361622, 0.060977491621816565, -1.9530030016414457, 0.5555507032508455, 0.8704793922391589, 0.5438663812486605, -0.913188730584862, -1.5062079171457297, 0.9666686384082549, -0.6689103073463399, -0.869629424372071, 0.8379810284959375, -0.20969583313625517, -2.1022706426895574, -2.4104695140633865, -0.4089688146503087, -0.5299112877338699, 0.9594791891461327, 0.5586959040600886, -0.3876513646705716, -0.04656212299625653, -0.5373091246983154, 0.5647184738520705, 0.5817005533832955, -0.6446213603070445, -3.225971181776725, -1.2321918389977802, -0.030634778288711823, -1.0808138809064949], \"yaxis\": \"y13\"}, {\"line\": {\"color\": \"rgba(128, 128, 128, 1.0)\", \"dash\": \"solid\", \"shape\": \"linear\", \"width\": 1.3}, \"marker\": {\"size\": 2, \"symbol\": \"circle\"}, \"mode\": \"markers\", \"name\": \"D\", \"text\": \"\", \"type\": \"scatter\", \"x\": [-0.7115712083518633, 0.20367831749698934, 0.6134576546805096, -0.36570067643631643, -0.7159140308166888, -0.9239386716004879, 2.5930230737700555, 0.4147527987618448, -0.22996385762564714, 0.5624676614965411, -1.5475325608234494, -0.6259507711406066, 0.3056636097323393, 0.20211511312646258, 0.10374629106262659, 1.814642590027516, -0.9618251387755197, 2.148194545714763, 0.9418063372995279, -1.756893092290613, -0.6451514937773778, -0.13200770808476447, 0.872337004831524, 2.3229673950851923, -0.4706761210576756, 0.5164410724972459, -0.48565279600255373, -1.2521645968922077, 0.190667708166508, -1.71765646431304, 1.527954065750762, 0.37401203490486645, -0.9774218888534799, 0.7109426456154209, -0.6026932312876238, 0.5456845135286027, 0.6371851776297126, 1.0541028159046348, -0.8355387155807726, 1.0141605310042423, -0.32801098196297007, 1.046053681722419, -0.6770303842667683, 0.428153097306062, 0.9140719808484178, 0.8309841468257837, 0.022583141337870448, -0.6262397051187514, -1.6071190249191691, -0.1989055676546752, 0.5330744191733329, 1.0761993457881287, 1.8121764700303273, -1.2688836897989333, -1.7647514937908018, -2.482464341193299, -0.6078532786143386, 0.010679248589527316, 2.183394229236031, 1.60963687506475, -1.0210660043618693, 2.508243729834317, -0.23333220546062955, 1.4028553391308474, -0.39244294429217097, -0.09295080049327233, 1.1103292193372296, 1.1949982096141774, -0.2989744322934105, 0.8871375559852462, -1.368327962932662, 0.20209814397912979, 0.40926606668519244, -0.9215941758887686, 0.9351089487739781, -0.24065253160275235, -0.11345971025377141, 0.24372600294771427, 0.455002801545644, 0.1972947992569593, 0.9717385724212538, -2.6044890057609646, -1.8119523545271286, 0.9456288963313946, 0.13644379478974555, -0.17657547306635485, -0.6080471675815619, 0.6910563876875375, -0.1889085678147469, 0.5062020601577284, -3.4814412422787626, -0.1844947741671853, 2.43070381381801, 0.8253619914959017, 0.06003229469139, 0.35353678611411077, -0.9648741956228961, -1.4325317580760464, -1.1132449693847992, -1.5049978733911864], \"xaxis\": \"x14\", \"y\": [0.5332636654100519, -0.17448553509926584, 1.0702186407912706, -0.8239459485689032, -0.19277736796240497, 0.9878115634701904, -1.0019238003717077, 0.6340669901847583, -0.44092991075614896, 1.1482169731542764, -1.6192711259278165, 2.0100583949114106, 0.6171914119741962, 1.0728353254658836, 2.234774598685246, -0.14113372683940276, 0.5735469038655757, 0.5002857792239915, -0.14136529334836834, 0.028023475607641547, 0.42983347929310667, -0.4021987507932994, 0.05679723454111941, -0.41881947433224914, -0.45767025482695795, -0.08957245279795471, -0.15869122934893043, 0.2544976388887662, -0.15181335444527758, 1.3635385547683017, 2.9281728527138173, 0.8613488656680641, 1.6025589793487491, 0.6433745524624715, -0.26818492568457153, -0.7942340114600223, 0.7947122622474939, 0.663908928370825, 0.05274822843206822, 0.05326282927921363, 0.9858304380437507, -0.5037109951333828, 2.071963806272051, 0.23912511587653842, 0.1640602401262859, -0.515702047918531, 0.23329218245100403, -0.7975621651643411, -0.288400704619235, -0.20226308550200042, -0.2694078200285193, -0.044092115485592366, -0.01725872658883086, 0.5655851190308381, -0.5581585283930425, -0.5876787764705258, 2.4194096236447664, -0.4051483206156967, -0.630257275653493, 0.40273672166939267, 1.8087616279156626, -0.7948964066383825, -0.13985979319487046, 1.061591244004667, 0.013386584935048917, 0.4269863876075386, 0.26344428537128556, 0.06584190312229428, 0.579181476524353, 0.7391876007027266, -0.08663854738741003, -0.7409329084361622, 0.060977491621816565, -1.9530030016414457, 0.5555507032508455, 0.8704793922391589, 0.5438663812486605, -0.913188730584862, -1.5062079171457297, 0.9666686384082549, -0.6689103073463399, -0.869629424372071, 0.8379810284959375, -0.20969583313625517, -2.1022706426895574, -2.4104695140633865, -0.4089688146503087, -0.5299112877338699, 0.9594791891461327, 0.5586959040600886, -0.3876513646705716, -0.04656212299625653, -0.5373091246983154, 0.5647184738520705, 0.5817005533832955, -0.6446213603070445, -3.225971181776725, -1.2321918389977802, -0.030634778288711823, -1.0808138809064949], \"yaxis\": \"y14\"}, {\"line\": {\"color\": \"rgba(128, 128, 128, 1.0)\", \"dash\": \"solid\", \"shape\": \"linear\", \"width\": 1.3}, \"marker\": {\"size\": 2, \"symbol\": \"circle\"}, \"mode\": \"markers\", \"name\": \"D\", \"text\": \"\", \"type\": \"scatter\", \"x\": [-1.6238040974131962, 0.6757392664758547, 0.9760729606148445, 0.862055908290435, -0.40453955744098546, -2.8610527199677676, -0.140581944584434, 0.02496929176889924, 0.30465375719363513, 0.5948694424871468, -0.42920265223907345, -1.1756734867887315, 0.040368699452806765, -0.4617962231259209, 1.7955002711256662, -1.5932256133503535, -0.6418212290028259, -0.08628995659191863, -0.9035271053516496, 0.7378098853480631, -1.6802683281159088, 0.0995367017452982, 0.5635676347299098, -0.2205371392984177, -0.49826062471825555, -0.6423898590064763, -1.0508565915580506, -0.5774604208382002, -1.0009178007471513, -0.9912120123666746, -1.260208039182508, -0.18872143658446525, 0.436955712975561, 1.0997267977346983, 1.6757119783451595, 0.26113852808788146, -0.40962615109820205, -2.0731272933464564, -1.0512783919121158, -0.6858181579234804, 1.6321705351469065, -1.3201354166500952, 1.6879892502481604, -0.2006093844748727, -1.8297821349157273, -0.7135573671380527, -1.3744987407180982, -0.007623524114172672, 0.8043348801182267, 0.13428685566546555, -1.0697254759426642, 0.4458115008719297, -0.5849091687752987, -0.3183227777360005, -0.7167463923161833, 0.56391806531028, 0.3083308023028222, 0.5161871179568257, 0.5141016626244824, 0.6677545972982242, 0.8849894848007175, 2.384360942181475, 0.04330896090492554, 1.3842877351197145, -0.15633858361654132, 0.891465974345801, -0.013205408661876304, -0.15189909839061694, 0.47544478540078583, 0.16259065067279815, 1.1551705608611824, -0.43133085622998607, -0.1192804606375206, 0.7486552329731277, -0.6444473564327091, -1.9036580630935813, 0.21296771957325075, 1.3099624409649717, -0.45432408036046984, 0.3606458537832278, 2.7161688380964515, -0.38601834437418847, 1.4250134372750032, 0.7042659815585277, -1.2432978392265779, 0.4590058834834523, -0.017374247412086444, 1.4535028668689962, -0.9155429068219456, -1.0873207050081553, 0.5362550639162094, 0.07737676669573887, -0.1650233443710363, 0.16683709497806792, 0.9051714771804598, -0.8348728389820331, 1.357250067037759, -0.376804667600888, 1.1340516122970452, 0.7109013007418191], \"xaxis\": \"x15\", \"y\": [0.5332636654100519, -0.17448553509926584, 1.0702186407912706, -0.8239459485689032, -0.19277736796240497, 0.9878115634701904, -1.0019238003717077, 0.6340669901847583, -0.44092991075614896, 1.1482169731542764, -1.6192711259278165, 2.0100583949114106, 0.6171914119741962, 1.0728353254658836, 2.234774598685246, -0.14113372683940276, 0.5735469038655757, 0.5002857792239915, -0.14136529334836834, 0.028023475607641547, 0.42983347929310667, -0.4021987507932994, 0.05679723454111941, -0.41881947433224914, -0.45767025482695795, -0.08957245279795471, -0.15869122934893043, 0.2544976388887662, -0.15181335444527758, 1.3635385547683017, 2.9281728527138173, 0.8613488656680641, 1.6025589793487491, 0.6433745524624715, -0.26818492568457153, -0.7942340114600223, 0.7947122622474939, 0.663908928370825, 0.05274822843206822, 0.05326282927921363, 0.9858304380437507, -0.5037109951333828, 2.071963806272051, 0.23912511587653842, 0.1640602401262859, -0.515702047918531, 0.23329218245100403, -0.7975621651643411, -0.288400704619235, -0.20226308550200042, -0.2694078200285193, -0.044092115485592366, -0.01725872658883086, 0.5655851190308381, -0.5581585283930425, -0.5876787764705258, 2.4194096236447664, -0.4051483206156967, -0.630257275653493, 0.40273672166939267, 1.8087616279156626, -0.7948964066383825, -0.13985979319487046, 1.061591244004667, 0.013386584935048917, 0.4269863876075386, 0.26344428537128556, 0.06584190312229428, 0.579181476524353, 0.7391876007027266, -0.08663854738741003, -0.7409329084361622, 0.060977491621816565, -1.9530030016414457, 0.5555507032508455, 0.8704793922391589, 0.5438663812486605, -0.913188730584862, -1.5062079171457297, 0.9666686384082549, -0.6689103073463399, -0.869629424372071, 0.8379810284959375, -0.20969583313625517, -2.1022706426895574, -2.4104695140633865, -0.4089688146503087, -0.5299112877338699, 0.9594791891461327, 0.5586959040600886, -0.3876513646705716, -0.04656212299625653, -0.5373091246983154, 0.5647184738520705, 0.5817005533832955, -0.6446213603070445, -3.225971181776725, -1.2321918389977802, -0.030634778288711823, -1.0808138809064949], \"yaxis\": \"y15\"}, {\"histfunc\": \"count\", \"histnorm\": \"\", \"marker\": {\"color\": \"rgba(128, 0, 128, 1.0)\", \"line\": {\"color\": \"#4D5663\", \"width\": 1.3}}, \"name\": \"D\", \"nbinsx\": 10, \"opacity\": 0.8, \"orientation\": \"v\", \"type\": \"histogram\", \"x\": [0.5332636654100519, -0.17448553509926584, 1.0702186407912706, -0.8239459485689032, -0.19277736796240497, 0.9878115634701904, -1.0019238003717077, 0.6340669901847583, -0.44092991075614896, 1.1482169731542764, -1.6192711259278165, 2.0100583949114106, 0.6171914119741962, 1.0728353254658836, 2.234774598685246, -0.14113372683940276, 0.5735469038655757, 0.5002857792239915, -0.14136529334836834, 0.028023475607641547, 0.42983347929310667, -0.4021987507932994, 0.05679723454111941, -0.41881947433224914, -0.45767025482695795, -0.08957245279795471, -0.15869122934893043, 0.2544976388887662, -0.15181335444527758, 1.3635385547683017, 2.9281728527138173, 0.8613488656680641, 1.6025589793487491, 0.6433745524624715, -0.26818492568457153, -0.7942340114600223, 0.7947122622474939, 0.663908928370825, 0.05274822843206822, 0.05326282927921363, 0.9858304380437507, -0.5037109951333828, 2.071963806272051, 0.23912511587653842, 0.1640602401262859, -0.515702047918531, 0.23329218245100403, -0.7975621651643411, -0.288400704619235, -0.20226308550200042, -0.2694078200285193, -0.044092115485592366, -0.01725872658883086, 0.5655851190308381, -0.5581585283930425, -0.5876787764705258, 2.4194096236447664, -0.4051483206156967, -0.630257275653493, 0.40273672166939267, 1.8087616279156626, -0.7948964066383825, -0.13985979319487046, 1.061591244004667, 0.013386584935048917, 0.4269863876075386, 0.26344428537128556, 0.06584190312229428, 0.579181476524353, 0.7391876007027266, -0.08663854738741003, -0.7409329084361622, 0.060977491621816565, -1.9530030016414457, 0.5555507032508455, 0.8704793922391589, 0.5438663812486605, -0.913188730584862, -1.5062079171457297, 0.9666686384082549, -0.6689103073463399, -0.869629424372071, 0.8379810284959375, -0.20969583313625517, -2.1022706426895574, -2.4104695140633865, -0.4089688146503087, -0.5299112877338699, 0.9594791891461327, 0.5586959040600886, -0.3876513646705716, -0.04656212299625653, -0.5373091246983154, 0.5647184738520705, 0.5817005533832955, -0.6446213603070445, -3.225971181776725, -1.2321918389977802, -0.030634778288711823, -1.0808138809064949], \"xaxis\": \"x16\", \"yaxis\": \"y16\"}],                        {\"bargap\": 0.02, \"legend\": {\"bgcolor\": \"#F5F6F9\", \"font\": {\"color\": \"#4D5663\"}}, \"paper_bgcolor\": \"#F5F6F9\", \"plot_bgcolor\": \"#F5F6F9\", \"showlegend\": false, \"template\": {\"data\": {\"bar\": [{\"error_x\": {\"color\": \"#2a3f5f\"}, \"error_y\": {\"color\": \"#2a3f5f\"}, \"marker\": {\"line\": {\"color\": \"#E5ECF6\", \"width\": 0.5}}, \"type\": \"bar\"}], \"barpolar\": [{\"marker\": {\"line\": {\"color\": \"#E5ECF6\", \"width\": 0.5}}, \"type\": \"barpolar\"}], \"carpet\": [{\"aaxis\": {\"endlinecolor\": \"#2a3f5f\", \"gridcolor\": \"white\", \"linecolor\": \"white\", \"minorgridcolor\": \"white\", \"startlinecolor\": \"#2a3f5f\"}, \"baxis\": {\"endlinecolor\": \"#2a3f5f\", \"gridcolor\": \"white\", \"linecolor\": \"white\", \"minorgridcolor\": \"white\", \"startlinecolor\": \"#2a3f5f\"}, \"type\": \"carpet\"}], \"choropleth\": [{\"colorbar\": {\"outlinewidth\": 0, \"ticks\": \"\"}, \"type\": \"choropleth\"}], \"contour\": [{\"colorbar\": {\"outlinewidth\": 0, \"ticks\": \"\"}, \"colorscale\": [[0.0, \"#0d0887\"], [0.1111111111111111, \"#46039f\"], [0.2222222222222222, \"#7201a8\"], [0.3333333333333333, \"#9c179e\"], [0.4444444444444444, \"#bd3786\"], [0.5555555555555556, \"#d8576b\"], [0.6666666666666666, \"#ed7953\"], [0.7777777777777778, \"#fb9f3a\"], [0.8888888888888888, \"#fdca26\"], [1.0, \"#f0f921\"]], \"type\": \"contour\"}], \"contourcarpet\": [{\"colorbar\": {\"outlinewidth\": 0, \"ticks\": \"\"}, \"type\": \"contourcarpet\"}], \"heatmap\": [{\"colorbar\": {\"outlinewidth\": 0, \"ticks\": \"\"}, \"colorscale\": [[0.0, \"#0d0887\"], [0.1111111111111111, \"#46039f\"], [0.2222222222222222, \"#7201a8\"], [0.3333333333333333, \"#9c179e\"], [0.4444444444444444, \"#bd3786\"], [0.5555555555555556, \"#d8576b\"], [0.6666666666666666, \"#ed7953\"], [0.7777777777777778, \"#fb9f3a\"], [0.8888888888888888, \"#fdca26\"], [1.0, \"#f0f921\"]], \"type\": \"heatmap\"}], \"heatmapgl\": [{\"colorbar\": {\"outlinewidth\": 0, \"ticks\": \"\"}, \"colorscale\": [[0.0, \"#0d0887\"], [0.1111111111111111, \"#46039f\"], [0.2222222222222222, \"#7201a8\"], [0.3333333333333333, \"#9c179e\"], [0.4444444444444444, \"#bd3786\"], [0.5555555555555556, \"#d8576b\"], [0.6666666666666666, \"#ed7953\"], [0.7777777777777778, \"#fb9f3a\"], [0.8888888888888888, \"#fdca26\"], [1.0, \"#f0f921\"]], \"type\": \"heatmapgl\"}], \"histogram\": [{\"marker\": {\"colorbar\": {\"outlinewidth\": 0, \"ticks\": \"\"}}, \"type\": \"histogram\"}], \"histogram2d\": [{\"colorbar\": {\"outlinewidth\": 0, \"ticks\": \"\"}, \"colorscale\": [[0.0, \"#0d0887\"], [0.1111111111111111, \"#46039f\"], [0.2222222222222222, \"#7201a8\"], [0.3333333333333333, \"#9c179e\"], [0.4444444444444444, \"#bd3786\"], [0.5555555555555556, \"#d8576b\"], [0.6666666666666666, \"#ed7953\"], [0.7777777777777778, \"#fb9f3a\"], [0.8888888888888888, \"#fdca26\"], [1.0, \"#f0f921\"]], \"type\": \"histogram2d\"}], \"histogram2dcontour\": [{\"colorbar\": {\"outlinewidth\": 0, \"ticks\": \"\"}, \"colorscale\": [[0.0, \"#0d0887\"], [0.1111111111111111, \"#46039f\"], [0.2222222222222222, \"#7201a8\"], [0.3333333333333333, \"#9c179e\"], [0.4444444444444444, \"#bd3786\"], [0.5555555555555556, \"#d8576b\"], [0.6666666666666666, \"#ed7953\"], [0.7777777777777778, \"#fb9f3a\"], [0.8888888888888888, \"#fdca26\"], [1.0, \"#f0f921\"]], \"type\": \"histogram2dcontour\"}], \"mesh3d\": [{\"colorbar\": {\"outlinewidth\": 0, \"ticks\": \"\"}, \"type\": \"mesh3d\"}], \"parcoords\": [{\"line\": {\"colorbar\": {\"outlinewidth\": 0, \"ticks\": \"\"}}, \"type\": \"parcoords\"}], \"pie\": [{\"automargin\": true, \"type\": \"pie\"}], \"scatter\": [{\"marker\": {\"colorbar\": {\"outlinewidth\": 0, \"ticks\": \"\"}}, \"type\": \"scatter\"}], \"scatter3d\": [{\"line\": {\"colorbar\": {\"outlinewidth\": 0, \"ticks\": \"\"}}, \"marker\": {\"colorbar\": {\"outlinewidth\": 0, \"ticks\": \"\"}}, \"type\": \"scatter3d\"}], \"scattercarpet\": [{\"marker\": {\"colorbar\": {\"outlinewidth\": 0, \"ticks\": \"\"}}, \"type\": \"scattercarpet\"}], \"scattergeo\": [{\"marker\": {\"colorbar\": {\"outlinewidth\": 0, \"ticks\": \"\"}}, \"type\": \"scattergeo\"}], \"scattergl\": [{\"marker\": {\"colorbar\": {\"outlinewidth\": 0, \"ticks\": \"\"}}, \"type\": \"scattergl\"}], \"scattermapbox\": [{\"marker\": {\"colorbar\": {\"outlinewidth\": 0, \"ticks\": \"\"}}, \"type\": \"scattermapbox\"}], \"scatterpolar\": [{\"marker\": {\"colorbar\": {\"outlinewidth\": 0, \"ticks\": \"\"}}, \"type\": \"scatterpolar\"}], \"scatterpolargl\": [{\"marker\": {\"colorbar\": {\"outlinewidth\": 0, \"ticks\": \"\"}}, \"type\": \"scatterpolargl\"}], \"scatterternary\": [{\"marker\": {\"colorbar\": {\"outlinewidth\": 0, \"ticks\": \"\"}}, \"type\": \"scatterternary\"}], \"surface\": [{\"colorbar\": {\"outlinewidth\": 0, \"ticks\": \"\"}, \"colorscale\": [[0.0, \"#0d0887\"], [0.1111111111111111, \"#46039f\"], [0.2222222222222222, \"#7201a8\"], [0.3333333333333333, \"#9c179e\"], [0.4444444444444444, \"#bd3786\"], [0.5555555555555556, \"#d8576b\"], [0.6666666666666666, \"#ed7953\"], [0.7777777777777778, \"#fb9f3a\"], [0.8888888888888888, \"#fdca26\"], [1.0, \"#f0f921\"]], \"type\": \"surface\"}], \"table\": [{\"cells\": {\"fill\": {\"color\": \"#EBF0F8\"}, \"line\": {\"color\": \"white\"}}, \"header\": {\"fill\": {\"color\": \"#C8D4E3\"}, \"line\": {\"color\": \"white\"}}, \"type\": \"table\"}]}, \"layout\": {\"annotationdefaults\": {\"arrowcolor\": \"#2a3f5f\", \"arrowhead\": 0, \"arrowwidth\": 1}, \"autotypenumbers\": \"strict\", \"coloraxis\": {\"colorbar\": {\"outlinewidth\": 0, \"ticks\": \"\"}}, \"colorscale\": {\"diverging\": [[0, \"#8e0152\"], [0.1, \"#c51b7d\"], [0.2, \"#de77ae\"], [0.3, \"#f1b6da\"], [0.4, \"#fde0ef\"], [0.5, \"#f7f7f7\"], [0.6, \"#e6f5d0\"], [0.7, \"#b8e186\"], [0.8, \"#7fbc41\"], [0.9, \"#4d9221\"], [1, \"#276419\"]], \"sequential\": [[0.0, \"#0d0887\"], [0.1111111111111111, \"#46039f\"], [0.2222222222222222, \"#7201a8\"], [0.3333333333333333, \"#9c179e\"], [0.4444444444444444, \"#bd3786\"], [0.5555555555555556, \"#d8576b\"], [0.6666666666666666, \"#ed7953\"], [0.7777777777777778, \"#fb9f3a\"], [0.8888888888888888, \"#fdca26\"], [1.0, \"#f0f921\"]], \"sequentialminus\": [[0.0, \"#0d0887\"], [0.1111111111111111, \"#46039f\"], [0.2222222222222222, \"#7201a8\"], [0.3333333333333333, \"#9c179e\"], [0.4444444444444444, \"#bd3786\"], [0.5555555555555556, \"#d8576b\"], [0.6666666666666666, \"#ed7953\"], [0.7777777777777778, \"#fb9f3a\"], [0.8888888888888888, \"#fdca26\"], [1.0, \"#f0f921\"]]}, \"colorway\": [\"#636efa\", \"#EF553B\", \"#00cc96\", \"#ab63fa\", \"#FFA15A\", \"#19d3f3\", \"#FF6692\", \"#B6E880\", \"#FF97FF\", \"#FECB52\"], \"font\": {\"color\": \"#2a3f5f\"}, \"geo\": {\"bgcolor\": \"white\", \"lakecolor\": \"white\", \"landcolor\": \"#E5ECF6\", \"showlakes\": true, \"showland\": true, \"subunitcolor\": \"white\"}, \"hoverlabel\": {\"align\": \"left\"}, \"hovermode\": \"closest\", \"mapbox\": {\"style\": \"light\"}, \"paper_bgcolor\": \"white\", \"plot_bgcolor\": \"#E5ECF6\", \"polar\": {\"angularaxis\": {\"gridcolor\": \"white\", \"linecolor\": \"white\", \"ticks\": \"\"}, \"bgcolor\": \"#E5ECF6\", \"radialaxis\": {\"gridcolor\": \"white\", \"linecolor\": \"white\", \"ticks\": \"\"}}, \"scene\": {\"xaxis\": {\"backgroundcolor\": \"#E5ECF6\", \"gridcolor\": \"white\", \"gridwidth\": 2, \"linecolor\": \"white\", \"showbackground\": true, \"ticks\": \"\", \"zerolinecolor\": \"white\"}, \"yaxis\": {\"backgroundcolor\": \"#E5ECF6\", \"gridcolor\": \"white\", \"gridwidth\": 2, \"linecolor\": \"white\", \"showbackground\": true, \"ticks\": \"\", \"zerolinecolor\": \"white\"}, \"zaxis\": {\"backgroundcolor\": \"#E5ECF6\", \"gridcolor\": \"white\", \"gridwidth\": 2, \"linecolor\": \"white\", \"showbackground\": true, \"ticks\": \"\", \"zerolinecolor\": \"white\"}}, \"shapedefaults\": {\"line\": {\"color\": \"#2a3f5f\"}}, \"ternary\": {\"aaxis\": {\"gridcolor\": \"white\", \"linecolor\": \"white\", \"ticks\": \"\"}, \"baxis\": {\"gridcolor\": \"white\", \"linecolor\": \"white\", \"ticks\": \"\"}, \"bgcolor\": \"#E5ECF6\", \"caxis\": {\"gridcolor\": \"white\", \"linecolor\": \"white\", \"ticks\": \"\"}}, \"title\": {\"x\": 0.05}, \"xaxis\": {\"automargin\": true, \"gridcolor\": \"white\", \"linecolor\": \"white\", \"ticks\": \"\", \"title\": {\"standoff\": 15}, \"zerolinecolor\": \"white\", \"zerolinewidth\": 2}, \"yaxis\": {\"automargin\": true, \"gridcolor\": \"white\", \"linecolor\": \"white\", \"ticks\": \"\", \"title\": {\"standoff\": 15}, \"zerolinecolor\": \"white\", \"zerolinewidth\": 2}}}, \"title\": {\"font\": {\"color\": \"#4D5663\"}}, \"xaxis\": {\"anchor\": \"y\", \"domain\": [0.0, 0.2125], \"gridcolor\": \"#E1E5ED\", \"showgrid\": false, \"tickfont\": {\"color\": \"#4D5663\"}, \"title\": {\"font\": {\"color\": \"#4D5663\"}, \"text\": \"\"}, \"zerolinecolor\": \"#E1E5ED\"}, \"xaxis10\": {\"anchor\": \"y10\", \"domain\": [0.2625, 0.475], \"gridcolor\": \"#E1E5ED\", \"showgrid\": false, \"tickfont\": {\"color\": \"#4D5663\"}, \"title\": {\"font\": {\"color\": \"#4D5663\"}, \"text\": \"\"}, \"zerolinecolor\": \"#E1E5ED\"}, \"xaxis11\": {\"anchor\": \"y11\", \"domain\": [0.525, 0.7375], \"gridcolor\": \"#E1E5ED\", \"showgrid\": false, \"tickfont\": {\"color\": \"#4D5663\"}, \"title\": {\"font\": {\"color\": \"#4D5663\"}, \"text\": \"\"}, \"zerolinecolor\": \"#E1E5ED\"}, \"xaxis12\": {\"anchor\": \"y12\", \"domain\": [0.7875, 1.0], \"gridcolor\": \"#E1E5ED\", \"showgrid\": false, \"tickfont\": {\"color\": \"#4D5663\"}, \"title\": {\"font\": {\"color\": \"#4D5663\"}, \"text\": \"\"}, \"zerolinecolor\": \"#E1E5ED\"}, \"xaxis13\": {\"anchor\": \"y13\", \"domain\": [0.0, 0.2125], \"gridcolor\": \"#E1E5ED\", \"showgrid\": false, \"tickfont\": {\"color\": \"#4D5663\"}, \"title\": {\"font\": {\"color\": \"#4D5663\"}, \"text\": \"\"}, \"zerolinecolor\": \"#E1E5ED\"}, \"xaxis14\": {\"anchor\": \"y14\", \"domain\": [0.2625, 0.475], \"gridcolor\": \"#E1E5ED\", \"showgrid\": false, \"tickfont\": {\"color\": \"#4D5663\"}, \"title\": {\"font\": {\"color\": \"#4D5663\"}, \"text\": \"\"}, \"zerolinecolor\": \"#E1E5ED\"}, \"xaxis15\": {\"anchor\": \"y15\", \"domain\": [0.525, 0.7375], \"gridcolor\": \"#E1E5ED\", \"showgrid\": false, \"tickfont\": {\"color\": \"#4D5663\"}, \"title\": {\"font\": {\"color\": \"#4D5663\"}, \"text\": \"\"}, \"zerolinecolor\": \"#E1E5ED\"}, \"xaxis16\": {\"anchor\": \"y16\", \"domain\": [0.7875, 1.0], \"gridcolor\": \"#E1E5ED\", \"showgrid\": false, \"tickfont\": {\"color\": \"#4D5663\"}, \"title\": {\"font\": {\"color\": \"#4D5663\"}, \"text\": \"\"}, \"zerolinecolor\": \"#E1E5ED\"}, \"xaxis2\": {\"anchor\": \"y2\", \"domain\": [0.2625, 0.475], \"gridcolor\": \"#E1E5ED\", \"showgrid\": false, \"tickfont\": {\"color\": \"#4D5663\"}, \"title\": {\"font\": {\"color\": \"#4D5663\"}, \"text\": \"\"}, \"zerolinecolor\": \"#E1E5ED\"}, \"xaxis3\": {\"anchor\": \"y3\", \"domain\": [0.525, 0.7375], \"gridcolor\": \"#E1E5ED\", \"showgrid\": false, \"tickfont\": {\"color\": \"#4D5663\"}, \"title\": {\"font\": {\"color\": \"#4D5663\"}, \"text\": \"\"}, \"zerolinecolor\": \"#E1E5ED\"}, \"xaxis4\": {\"anchor\": \"y4\", \"domain\": [0.7875, 1.0], \"gridcolor\": \"#E1E5ED\", \"showgrid\": false, \"tickfont\": {\"color\": \"#4D5663\"}, \"title\": {\"font\": {\"color\": \"#4D5663\"}, \"text\": \"\"}, \"zerolinecolor\": \"#E1E5ED\"}, \"xaxis5\": {\"anchor\": \"y5\", \"domain\": [0.0, 0.2125], \"gridcolor\": \"#E1E5ED\", \"showgrid\": false, \"tickfont\": {\"color\": \"#4D5663\"}, \"title\": {\"font\": {\"color\": \"#4D5663\"}, \"text\": \"\"}, \"zerolinecolor\": \"#E1E5ED\"}, \"xaxis6\": {\"anchor\": \"y6\", \"domain\": [0.2625, 0.475], \"gridcolor\": \"#E1E5ED\", \"showgrid\": false, \"tickfont\": {\"color\": \"#4D5663\"}, \"title\": {\"font\": {\"color\": \"#4D5663\"}, \"text\": \"\"}, \"zerolinecolor\": \"#E1E5ED\"}, \"xaxis7\": {\"anchor\": \"y7\", \"domain\": [0.525, 0.7375], \"gridcolor\": \"#E1E5ED\", \"showgrid\": false, \"tickfont\": {\"color\": \"#4D5663\"}, \"title\": {\"font\": {\"color\": \"#4D5663\"}, \"text\": \"\"}, \"zerolinecolor\": \"#E1E5ED\"}, \"xaxis8\": {\"anchor\": \"y8\", \"domain\": [0.7875, 1.0], \"gridcolor\": \"#E1E5ED\", \"showgrid\": false, \"tickfont\": {\"color\": \"#4D5663\"}, \"title\": {\"font\": {\"color\": \"#4D5663\"}, \"text\": \"\"}, \"zerolinecolor\": \"#E1E5ED\"}, \"xaxis9\": {\"anchor\": \"y9\", \"domain\": [0.0, 0.2125], \"gridcolor\": \"#E1E5ED\", \"showgrid\": false, \"tickfont\": {\"color\": \"#4D5663\"}, \"title\": {\"font\": {\"color\": \"#4D5663\"}, \"text\": \"\"}, \"zerolinecolor\": \"#E1E5ED\"}, \"yaxis\": {\"anchor\": \"x\", \"domain\": [0.8025, 1.0], \"gridcolor\": \"#E1E5ED\", \"showgrid\": false, \"tickfont\": {\"color\": \"#4D5663\"}, \"title\": {\"font\": {\"color\": \"#4D5663\"}, \"text\": \"\"}, \"zerolinecolor\": \"#E1E5ED\"}, \"yaxis10\": {\"anchor\": \"x10\", \"domain\": [0.2675, 0.465], \"gridcolor\": \"#E1E5ED\", \"showgrid\": false, \"tickfont\": {\"color\": \"#4D5663\"}, \"title\": {\"font\": {\"color\": \"#4D5663\"}, \"text\": \"\"}, \"zerolinecolor\": \"#E1E5ED\"}, \"yaxis11\": {\"anchor\": \"x11\", \"domain\": [0.2675, 0.465], \"gridcolor\": \"#E1E5ED\", \"showgrid\": false, \"tickfont\": {\"color\": \"#4D5663\"}, \"title\": {\"font\": {\"color\": \"#4D5663\"}, \"text\": \"\"}, \"zerolinecolor\": \"#E1E5ED\"}, \"yaxis12\": {\"anchor\": \"x12\", \"domain\": [0.2675, 0.465], \"gridcolor\": \"#E1E5ED\", \"showgrid\": false, \"tickfont\": {\"color\": \"#4D5663\"}, \"title\": {\"font\": {\"color\": \"#4D5663\"}, \"text\": \"\"}, \"zerolinecolor\": \"#E1E5ED\"}, \"yaxis13\": {\"anchor\": \"x13\", \"domain\": [0.0, 0.1975], \"gridcolor\": \"#E1E5ED\", \"showgrid\": false, \"tickfont\": {\"color\": \"#4D5663\"}, \"title\": {\"font\": {\"color\": \"#4D5663\"}, \"text\": \"\"}, \"zerolinecolor\": \"#E1E5ED\"}, \"yaxis14\": {\"anchor\": \"x14\", \"domain\": [0.0, 0.1975], \"gridcolor\": \"#E1E5ED\", \"showgrid\": false, \"tickfont\": {\"color\": \"#4D5663\"}, \"title\": {\"font\": {\"color\": \"#4D5663\"}, \"text\": \"\"}, \"zerolinecolor\": \"#E1E5ED\"}, \"yaxis15\": {\"anchor\": \"x15\", \"domain\": [0.0, 0.1975], \"gridcolor\": \"#E1E5ED\", \"showgrid\": false, \"tickfont\": {\"color\": \"#4D5663\"}, \"title\": {\"font\": {\"color\": \"#4D5663\"}, \"text\": \"\"}, \"zerolinecolor\": \"#E1E5ED\"}, \"yaxis16\": {\"anchor\": \"x16\", \"domain\": [0.0, 0.1975], \"gridcolor\": \"#E1E5ED\", \"showgrid\": false, \"tickfont\": {\"color\": \"#4D5663\"}, \"title\": {\"font\": {\"color\": \"#4D5663\"}, \"text\": \"\"}, \"zerolinecolor\": \"#E1E5ED\"}, \"yaxis2\": {\"anchor\": \"x2\", \"domain\": [0.8025, 1.0], \"gridcolor\": \"#E1E5ED\", \"showgrid\": false, \"tickfont\": {\"color\": \"#4D5663\"}, \"title\": {\"font\": {\"color\": \"#4D5663\"}, \"text\": \"\"}, \"zerolinecolor\": \"#E1E5ED\"}, \"yaxis3\": {\"anchor\": \"x3\", \"domain\": [0.8025, 1.0], \"gridcolor\": \"#E1E5ED\", \"showgrid\": false, \"tickfont\": {\"color\": \"#4D5663\"}, \"title\": {\"font\": {\"color\": \"#4D5663\"}, \"text\": \"\"}, \"zerolinecolor\": \"#E1E5ED\"}, \"yaxis4\": {\"anchor\": \"x4\", \"domain\": [0.8025, 1.0], \"gridcolor\": \"#E1E5ED\", \"showgrid\": false, \"tickfont\": {\"color\": \"#4D5663\"}, \"title\": {\"font\": {\"color\": \"#4D5663\"}, \"text\": \"\"}, \"zerolinecolor\": \"#E1E5ED\"}, \"yaxis5\": {\"anchor\": \"x5\", \"domain\": [0.535, 0.7325], \"gridcolor\": \"#E1E5ED\", \"showgrid\": false, \"tickfont\": {\"color\": \"#4D5663\"}, \"title\": {\"font\": {\"color\": \"#4D5663\"}, \"text\": \"\"}, \"zerolinecolor\": \"#E1E5ED\"}, \"yaxis6\": {\"anchor\": \"x6\", \"domain\": [0.535, 0.7325], \"gridcolor\": \"#E1E5ED\", \"showgrid\": false, \"tickfont\": {\"color\": \"#4D5663\"}, \"title\": {\"font\": {\"color\": \"#4D5663\"}, \"text\": \"\"}, \"zerolinecolor\": \"#E1E5ED\"}, \"yaxis7\": {\"anchor\": \"x7\", \"domain\": [0.535, 0.7325], \"gridcolor\": \"#E1E5ED\", \"showgrid\": false, \"tickfont\": {\"color\": \"#4D5663\"}, \"title\": {\"font\": {\"color\": \"#4D5663\"}, \"text\": \"\"}, \"zerolinecolor\": \"#E1E5ED\"}, \"yaxis8\": {\"anchor\": \"x8\", \"domain\": [0.535, 0.7325], \"gridcolor\": \"#E1E5ED\", \"showgrid\": false, \"tickfont\": {\"color\": \"#4D5663\"}, \"title\": {\"font\": {\"color\": \"#4D5663\"}, \"text\": \"\"}, \"zerolinecolor\": \"#E1E5ED\"}, \"yaxis9\": {\"anchor\": \"x9\", \"domain\": [0.2675, 0.465], \"gridcolor\": \"#E1E5ED\", \"showgrid\": false, \"tickfont\": {\"color\": \"#4D5663\"}, \"title\": {\"font\": {\"color\": \"#4D5663\"}, \"text\": \"\"}, \"zerolinecolor\": \"#E1E5ED\"}},                        {\"showLink\": true, \"linkText\": \"Export to plot.ly\", \"plotlyServerURL\": \"https://plot.ly\", \"responsive\": true}                    ).then(function(){\n",
       "                            \n",
       "var gd = document.getElementById('accd5b17-e7d7-4990-9d62-e6dbac457ba7');\n",
       "var x = new MutationObserver(function (mutations, observer) {{\n",
       "        var display = window.getComputedStyle(gd).display;\n",
       "        if (!display || display === 'none') {{\n",
       "            console.log([gd, 'removed!']);\n",
       "            Plotly.purge(gd);\n",
       "            observer.disconnect();\n",
       "        }}\n",
       "}});\n",
       "\n",
       "// Listen for the removal of the full notebook cells\n",
       "var notebookContainer = gd.closest('#notebook-container');\n",
       "if (notebookContainer) {{\n",
       "    x.observe(notebookContainer, {childList: true});\n",
       "}}\n",
       "\n",
       "// Listen for the clearing of the current output cell\n",
       "var outputEl = gd.closest('.output');\n",
       "if (outputEl) {{\n",
       "    x.observe(outputEl, {childList: true});\n",
       "}}\n",
       "\n",
       "                        })                };                });            </script>        </div>"
      ]
     },
     "metadata": {},
     "output_type": "display_data"
    }
   ],
   "source": [
    "df.scatter_matrix()"
   ]
  },
  {
   "cell_type": "markdown",
   "metadata": {},
   "source": [
    "<img src=\"images/plotly9.png\"/>"
   ]
  }
 ],
 "metadata": {
  "kernelspec": {
   "display_name": "Python 3",
   "language": "python",
   "name": "python3"
  },
  "language_info": {
   "codemirror_mode": {
    "name": "ipython",
    "version": 3
   },
   "file_extension": ".py",
   "mimetype": "text/x-python",
   "name": "python",
   "nbconvert_exporter": "python",
   "pygments_lexer": "ipython3",
   "version": "3.7.1"
  }
 },
 "nbformat": 4,
 "nbformat_minor": 1
}
