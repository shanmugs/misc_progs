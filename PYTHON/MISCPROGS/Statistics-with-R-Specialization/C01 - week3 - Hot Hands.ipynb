{
 "cells": [
  {
   "cell_type": "markdown",
   "metadata": {},
   "source": [
    "# Hot Hands"
   ]
  },
  {
   "cell_type": "markdown",
   "metadata": {},
   "source": [
    "<img src=\"images/kobe.jpg\"/>"
   ]
  },
  {
   "cell_type": "markdown",
   "metadata": {},
   "source": [
    "Basketball players who make several baskets in succession are described as having a *hot hand*. Fans and players have long believed in the hot hand phenomenon, which refutes the assumption that each shot is independent of the next. However, [a 1985 paper](http://www.sciencedirect.com/science/article/pii/0010028585900106) by Gilovich, Vallone, and Tversky collected evidence\n",
    "that contradicted this belief and showed that successive shots are independent events. This paper started a great controversy that continues to this day, as you can see by Googling *hot hand basketball*."
   ]
  },
  {
   "cell_type": "markdown",
   "metadata": {},
   "source": [
    "We do not expect to resolve this controversy today. However, in this lab we'll  apply one approach to answering questions like this. The goals for this lab are  to (1) think about the effects of independent and dependent events, (2) learn  how to simulate shooting streaks in R, and (3) to compare a simulation to actual data in order to determine if the hot hand phenomenon appears to be real."
   ]
  },
  {
   "cell_type": "markdown",
   "metadata": {},
   "source": [
    "### Libraries"
   ]
  },
  {
   "cell_type": "code",
   "execution_count": 1,
   "metadata": {},
   "outputs": [
    {
     "name": "stderr",
     "output_type": "stream",
     "text": [
      "\n",
      "Attaching package: 'dplyr'\n",
      "\n",
      "\n",
      "The following objects are masked from 'package:stats':\n",
      "\n",
      "    filter, lag\n",
      "\n",
      "\n",
      "The following objects are masked from 'package:base':\n",
      "\n",
      "    intersect, setdiff, setequal, union\n",
      "\n",
      "\n"
     ]
    }
   ],
   "source": [
    "#install.packages(\"dplyr\")\n",
    "library(dplyr) # for data wrangling\n",
    "\n",
    "#install.packages(\"ggplot2\")\n",
    "library(ggplot2) # for data visualization\n",
    "\n",
    "#install.packages(\"statsr\")\n",
    "library(statsr) # for data files and functions used in this course"
   ]
  },
  {
   "cell_type": "markdown",
   "metadata": {},
   "source": [
    "### Load Data"
   ]
  },
  {
   "cell_type": "markdown",
   "metadata": {},
   "source": [
    "Our investigation will focus on the performance of one player: Kobe Bryant of  the Los Angeles Lakers. His performance against the Orlando Magic in the 2009 NBA finals earned him the title *Most Valuable Player* and many spectators commented on how he appeared to show a hot hand. Let's load some necessary files that we will need for this lab."
   ]
  },
  {
   "cell_type": "code",
   "execution_count": 2,
   "metadata": {},
   "outputs": [
    {
     "data": {
      "text/html": [
       "<table>\n",
       "<caption>A tibble: 6 × 6</caption>\n",
       "<thead>\n",
       "\t<tr><th scope=col>vs</th><th scope=col>game</th><th scope=col>quarter</th><th scope=col>time</th><th scope=col>description</th><th scope=col>shot</th></tr>\n",
       "\t<tr><th scope=col>&lt;fct&gt;</th><th scope=col>&lt;int&gt;</th><th scope=col>&lt;fct&gt;</th><th scope=col>&lt;fct&gt;</th><th scope=col>&lt;fct&gt;</th><th scope=col>&lt;chr&gt;</th></tr>\n",
       "</thead>\n",
       "<tbody>\n",
       "\t<tr><td>ORL</td><td>1</td><td>1</td><td>9:47</td><td>Kobe Bryant makes 4-foot two point shot                </td><td>H</td></tr>\n",
       "\t<tr><td>ORL</td><td>1</td><td>1</td><td>9:07</td><td>Kobe Bryant misses jumper                              </td><td>M</td></tr>\n",
       "\t<tr><td>ORL</td><td>1</td><td>1</td><td>8:11</td><td>Kobe Bryant misses 7-foot jumper                       </td><td>M</td></tr>\n",
       "\t<tr><td>ORL</td><td>1</td><td>1</td><td>7:41</td><td>Kobe Bryant makes 16-foot jumper (Derek Fisher assists)</td><td>H</td></tr>\n",
       "\t<tr><td>ORL</td><td>1</td><td>1</td><td>7:03</td><td>Kobe Bryant makes driving layup                        </td><td>H</td></tr>\n",
       "\t<tr><td>ORL</td><td>1</td><td>1</td><td>6:01</td><td>Kobe Bryant misses jumper                              </td><td>M</td></tr>\n",
       "</tbody>\n",
       "</table>\n"
      ],
      "text/latex": [
       "A tibble: 6 × 6\n",
       "\\begin{tabular}{llllll}\n",
       " vs & game & quarter & time & description & shot\\\\\n",
       " <fct> & <int> & <fct> & <fct> & <fct> & <chr>\\\\\n",
       "\\hline\n",
       "\t ORL & 1 & 1 & 9:47 & Kobe Bryant makes 4-foot two point shot                 & H\\\\\n",
       "\t ORL & 1 & 1 & 9:07 & Kobe Bryant misses jumper                               & M\\\\\n",
       "\t ORL & 1 & 1 & 8:11 & Kobe Bryant misses 7-foot jumper                        & M\\\\\n",
       "\t ORL & 1 & 1 & 7:41 & Kobe Bryant makes 16-foot jumper (Derek Fisher assists) & H\\\\\n",
       "\t ORL & 1 & 1 & 7:03 & Kobe Bryant makes driving layup                         & H\\\\\n",
       "\t ORL & 1 & 1 & 6:01 & Kobe Bryant misses jumper                               & M\\\\\n",
       "\\end{tabular}\n"
      ],
      "text/markdown": [
       "\n",
       "A tibble: 6 × 6\n",
       "\n",
       "| vs &lt;fct&gt; | game &lt;int&gt; | quarter &lt;fct&gt; | time &lt;fct&gt; | description &lt;fct&gt; | shot &lt;chr&gt; |\n",
       "|---|---|---|---|---|---|\n",
       "| ORL | 1 | 1 | 9:47 | Kobe Bryant makes 4-foot two point shot                 | H |\n",
       "| ORL | 1 | 1 | 9:07 | Kobe Bryant misses jumper                               | M |\n",
       "| ORL | 1 | 1 | 8:11 | Kobe Bryant misses 7-foot jumper                        | M |\n",
       "| ORL | 1 | 1 | 7:41 | Kobe Bryant makes 16-foot jumper (Derek Fisher assists) | H |\n",
       "| ORL | 1 | 1 | 7:03 | Kobe Bryant makes driving layup                         | H |\n",
       "| ORL | 1 | 1 | 6:01 | Kobe Bryant misses jumper                               | M |\n",
       "\n"
      ],
      "text/plain": [
       "  vs  game quarter time description                                            \n",
       "1 ORL 1    1       9:47 Kobe Bryant makes 4-foot two point shot                \n",
       "2 ORL 1    1       9:07 Kobe Bryant misses jumper                              \n",
       "3 ORL 1    1       8:11 Kobe Bryant misses 7-foot jumper                       \n",
       "4 ORL 1    1       7:41 Kobe Bryant makes 16-foot jumper (Derek Fisher assists)\n",
       "5 ORL 1    1       7:03 Kobe Bryant makes driving layup                        \n",
       "6 ORL 1    1       6:01 Kobe Bryant misses jumper                              \n",
       "  shot\n",
       "1 H   \n",
       "2 M   \n",
       "3 M   \n",
       "4 H   \n",
       "5 H   \n",
       "6 M   "
      ]
     },
     "metadata": {},
     "output_type": "display_data"
    }
   ],
   "source": [
    "data(kobe_basket)\n",
    "head(kobe_basket)"
   ]
  },
  {
   "cell_type": "markdown",
   "metadata": {},
   "source": [
    "### Some Exploration"
   ]
  },
  {
   "cell_type": "code",
   "execution_count": 3,
   "metadata": {},
   "outputs": [
    {
     "name": "stdout",
     "output_type": "stream",
     "text": [
      "tibble [133 x 6] (S3: tbl_df/tbl/data.frame)\n",
      " $ vs         : Factor w/ 1 level \"ORL\": 1 1 1 1 1 1 1 1 1 1 ...\n",
      " $ game       : int [1:133] 1 1 1 1 1 1 1 1 1 1 ...\n",
      " $ quarter    : Factor w/ 5 levels \"1\",\"1OT\",\"2\",..: 1 1 1 1 1 1 1 1 1 3 ...\n",
      " $ time       : Factor w/ 116 levels \"00:00.0\",\"00:00.5\",..: 114 109 102 100 96 85 64 21 11 91 ...\n",
      " $ description: Factor w/ 80 levels \"Bryant 3pt Shot: Made (16 PTS) Assist: Bynum (1 AST)  \",..: 40 78 75 27 44 78 52 62 79 45 ...\n",
      " $ shot       : chr [1:133] \"H\" \"M\" \"M\" \"H\" ...\n"
     ]
    }
   ],
   "source": [
    "str(kobe_basket)"
   ]
  },
  {
   "cell_type": "code",
   "execution_count": 4,
   "metadata": {},
   "outputs": [
    {
     "data": {
      "text/plain": [
       "   vs           game       quarter       time    \n",
       " ORL:133   Min.   :1.000   1  :36   0:00   :  3  \n",
       "           1st Qu.:1.000   1OT: 7   0:04   :  2  \n",
       "           Median :3.000   2  :25   11:00  :  2  \n",
       "           Mean   :2.902   3  :34   1:20   :  2  \n",
       "           3rd Qu.:4.000   4  :31   2:17   :  2  \n",
       "           Max.   :5.000            3:33   :  2  \n",
       "                                    (Other):120  \n",
       "                                   description      shot          \n",
       " Bryant 3pt Shot: Missed                 :  5   Length:133        \n",
       " Kobe Bryant misses layup                :  5   Class :character  \n",
       " Kobe Bryant makes 11-foot two point shot:  4   Mode  :character  \n",
       " Kobe Bryant makes 20-foot jumper        :  4                     \n",
       " Kobe Bryant misses 19-foot jumper       :  4                     \n",
       " Kobe Bryant misses 20-foot jumper       :  4                     \n",
       " (Other)                                 :107                     "
      ]
     },
     "metadata": {},
     "output_type": "display_data"
    }
   ],
   "source": [
    "summary(kobe_basket)"
   ]
  },
  {
   "cell_type": "markdown",
   "metadata": {},
   "source": [
    "This data frame contains 133 observations and 6 variables, where every\n",
    "row records a shot taken by Kobe Bryant. The `shot` variable in this dataset\n",
    "indicates whether the shot was a hit (`H`) or a miss (`M`).\n",
    "\n",
    "Just looking at the string of hits and misses, it can be difficult to gauge \n",
    "whether or not it seems like Kobe was shooting with a hot hand. One way we can \n",
    "approach this is by considering the belief that hot hand shooters tend to go on \n",
    "shooting streaks. For this lab, we define the length of a shooting streak to be \n",
    "the *number of consecutive baskets made until a miss occurs*.\n",
    "\n",
    "For example, in Game 1 Kobe had the following sequence of hits and misses from \n",
    "his nine shot attempts in the first quarter:\n",
    "\n",
    "    {H M | M | H H M | M | M | M}\n",
    "\n",
    "You can verify this by viewing the first 8 rows of the data in the data viewer.\n",
    "\n",
    "Within the nine shot attempts, there are six streaks, which are separated by a \n",
    "\"|\" above. Their lengths are one, zero, two, zero, zero, zero (in order of \n",
    "occurrence)."
   ]
  },
  {
   "cell_type": "markdown",
   "metadata": {},
   "source": [
    "## Analysis"
   ]
  },
  {
   "cell_type": "markdown",
   "metadata": {},
   "source": [
    "**1) Fill in the blank: A streak length of 1 means one ___ followed by one miss.**"
   ]
  },
  {
   "cell_type": "markdown",
   "metadata": {},
   "source": [
    "Hit"
   ]
  },
  {
   "cell_type": "markdown",
   "metadata": {},
   "source": [
    "**2) Fill in the blank: A streak length of 0 means one ___ which must occur after a miss that ended the preceeding streak.**"
   ]
  },
  {
   "cell_type": "markdown",
   "metadata": {},
   "source": [
    "Miss"
   ]
  },
  {
   "cell_type": "markdown",
   "metadata": {},
   "source": [
    "**3) Which of the following is false about the distribution of Kobe's streak lengths from the 2009 NBA finals.** "
   ]
  },
  {
   "cell_type": "markdown",
   "metadata": {},
   "source": [
    "<ol>\n",
    "<li> The distribution of Kobe's streaks is unimodal and right skewed. </li>\n",
    "<li> The typical length of a streak is 0 since the median of the distribution is at 0. </li>\n",
    "<li> The IQR of the distribution is 1. \n",
    "<li> The longest streak of baskets is of length 4. </li>\n",
    "<li> -->The shortest streak is of length 1.</li>\n",
    "</ol>"
   ]
  },
  {
   "cell_type": "code",
   "execution_count": 5,
   "metadata": {},
   "outputs": [],
   "source": [
    "calc_streak <- function(x){\n",
    "  y <- rep(0,length(x))\n",
    "  y[x == \"H\"] <- 1\n",
    "  y <- c(0, y, 0)\n",
    "  wz <- which(y == 0)\n",
    "  streak <- diff(wz) - 1\n",
    "  return(streak)}"
   ]
  },
  {
   "cell_type": "markdown",
   "metadata": {},
   "source": [
    "calc_streak calculates the lengths of all shooting streaks. For this lab, the length of a shooting streak is defined to be the number of consecutive baskets made until a miss occurs."
   ]
  },
  {
   "cell_type": "code",
   "execution_count": 6,
   "metadata": {},
   "outputs": [
    {
     "data": {
      "text/html": [
       "<style>\n",
       ".list-inline {list-style: none; margin:0; padding: 0}\n",
       ".list-inline>li {display: inline-block}\n",
       ".list-inline>li:not(:last-child)::after {content: \"\\00b7\"; padding: 0 .5ex}\n",
       "</style>\n",
       "<ol class=list-inline><li>1</li><li>0</li><li>2</li><li>0</li><li>0</li><li>0</li></ol>\n"
      ],
      "text/latex": [
       "\\begin{enumerate*}\n",
       "\\item 1\n",
       "\\item 0\n",
       "\\item 2\n",
       "\\item 0\n",
       "\\item 0\n",
       "\\item 0\n",
       "\\end{enumerate*}\n"
      ],
      "text/markdown": [
       "1. 1\n",
       "2. 0\n",
       "3. 2\n",
       "4. 0\n",
       "5. 0\n",
       "6. 0\n",
       "\n",
       "\n"
      ],
      "text/plain": [
       "[1] 1 0 2 0 0 0"
      ]
     },
     "metadata": {},
     "output_type": "display_data"
    }
   ],
   "source": [
    "kobe_streak <- calc_streak(kobe_basket$shot)\n",
    "head(kobe_streak)"
   ]
  },
  {
   "cell_type": "markdown",
   "metadata": {},
   "source": [
    "A bar plot is preferable to histogram here since the variable is discrete; it counts number of hits."
   ]
  },
  {
   "cell_type": "code",
   "execution_count": 7,
   "metadata": {},
   "outputs": [
    {
     "data": {
      "image/png": "[encoded data removed]",
      "text/plain": [
       "Plot with title \"Distribution of Streaks\""
      ]
     },
     "metadata": {
      "image/png": {
       "height": 420,
       "width": 420
      },
      "text/plain": {
       "height": 420,
       "width": 420
      }
     },
     "output_type": "display_data"
    }
   ],
   "source": [
    "barplot(table(kobe_streak), main = \"Distribution of Streaks\")"
   ]
  },
  {
   "cell_type": "markdown",
   "metadata": {},
   "source": [
    "### Compared to What?"
   ]
  },
  {
   "cell_type": "markdown",
   "metadata": {},
   "source": [
    "We've shown that Kobe had some long shooting streaks, but are they long enough \n",
    "to support the belief that he had hot hands? What can we compare them to?\n",
    "\n",
    "To answer these questions, let's return to the idea of *independence*. Two \n",
    "processes are independent if the outcome of one process doesn't effect the outcome \n",
    "of the second. If each shot that a player takes is an independent process, \n",
    "having made or missed your first shot will not affect the probability that you\n",
    "will make or miss your second shot.\n",
    "\n",
    "A shooter with a hot hand will have shots that are *not* independent of one \n",
    "another. Specifically, if the shooter makes his first shot, the hot hand model \n",
    "says he will have a *higher* probability of making his second shot.\n",
    "\n",
    "Let's suppose for a moment that the hot hand model is valid for Kobe. During his\n",
    "career, the percentage of time Kobe makes a basket (i.e. his shooting \n",
    "percentage) is about 45%, or in probability notation:\n",
    "\n",
    "    P(shot 1 = H) = 0.45\n",
    "    \n",
    "If he makes the first shot and has a hot hand (*not* independent shots), then \n",
    "the probability that he makes his second shot would go up to, let's say, 60%,\n",
    "\n",
    "    P(shot 2 = H | shot 1 = H) = 0.60\n",
    "\n",
    "As a result of these increased probabilites, you'd expect Kobe to have longer \n",
    "streaks. Compare this to the skeptical perspective where Kobe does *not* have a\n",
    "hot hand, where each shot is independent of the next. If he hit his first shot,\n",
    "the probability that he makes the second is still 0.45.\n",
    "\n",
    "    P(shot 2 = H | shot 1 = H) = 0.45\n",
    "\n",
    "In other words, making the first shot did nothing to effect the probability that\n",
    "he'd make his second shot. If Kobe's shots are independent, then he'd have the \n",
    "same probability of hitting every shot regardless of his past shots: 45%.\n",
    "\n",
    "Now that we've phrased the situation in terms of independent shots, let's return\n",
    "to the question: how do we tell if Kobe's shooting streaks are long enough to \n",
    "indicate that he has hot hands? We can compare his streak lengths to someone\n",
    "without hot hands: an independent shooter."
   ]
  },
  {
   "cell_type": "markdown",
   "metadata": {},
   "source": [
    "### Simulating a Fair Coin Using Law of Large Numbers (LLN)"
   ]
  },
  {
   "cell_type": "markdown",
   "metadata": {},
   "source": [
    "While we don’t have any data from a shooter we know to have independent shots, that is very easy to simulate in R. In a simulation, you set the ground rules of a random process and then the computer uses random numbers to generate an outcome that adheres to those rules. As a simple example, you can simulate flipping a fair coin with the following."
   ]
  },
  {
   "cell_type": "code",
   "execution_count": 8,
   "metadata": {},
   "outputs": [],
   "source": [
    "# Set Outcomes\n",
    "coin_outcomes <- c(\"heads\", \"tails\")"
   ]
  },
  {
   "cell_type": "code",
   "execution_count": 9,
   "metadata": {},
   "outputs": [
    {
     "data": {
      "text/html": [
       "'heads'"
      ],
      "text/latex": [
       "'heads'"
      ],
      "text/markdown": [
       "'heads'"
      ],
      "text/plain": [
       "[1] \"heads\""
      ]
     },
     "metadata": {},
     "output_type": "display_data"
    }
   ],
   "source": [
    "# function: take one sample from our space\n",
    "sample(coin_outcomes, size = 1, replace = TRUE)"
   ]
  },
  {
   "cell_type": "markdown",
   "metadata": {},
   "source": [
    "The vector `outcomes` can be thought of as a hat with two slips of paper in it: \n",
    "one slip says `heads` and the other says `tails`. The function `sample` draws \n",
    "one slip from the hat and tells us if it was a head or a tail. \n",
    "\n",
    "Run the second command listed above several times. Just like when flipping a \n",
    "coin, sometimes you'll get a heads, sometimes you'll get a tails, but in the \n",
    "long run, you'd expect to get roughly equal numbers of each.\n",
    "\n",
    "If you wanted to simulate flipping a fair coin 100 times, you could either run \n",
    "the function 100 times or, more simply, adjust the `size` argument, which \n",
    "governs how many samples to draw (the `replace = TRUE` argument indicates we put\n",
    "the slip of paper back in the hat before drawing again). Save the resulting \n",
    "vector of heads and tails in a new object called `sim_fair_coin`."
   ]
  },
  {
   "cell_type": "code",
   "execution_count": 10,
   "metadata": {},
   "outputs": [],
   "source": [
    "sim_fair_coin <- sample(coin_outcomes, size = 100, replace = TRUE)"
   ]
  },
  {
   "cell_type": "code",
   "execution_count": 11,
   "metadata": {},
   "outputs": [
    {
     "data": {
      "text/html": [
       "<style>\n",
       ".list-inline {list-style: none; margin:0; padding: 0}\n",
       ".list-inline>li {display: inline-block}\n",
       ".list-inline>li:not(:last-child)::after {content: \"\\00b7\"; padding: 0 .5ex}\n",
       "</style>\n",
       "<ol class=list-inline><li>'heads'</li><li>'tails'</li><li>'heads'</li><li>'tails'</li><li>'tails'</li><li>'heads'</li><li>'heads'</li><li>'heads'</li><li>'heads'</li><li>'tails'</li><li>'tails'</li><li>'heads'</li><li>'tails'</li><li>'tails'</li><li>'tails'</li></ol>\n"
      ],
      "text/latex": [
       "\\begin{enumerate*}\n",
       "\\item 'heads'\n",
       "\\item 'tails'\n",
       "\\item 'heads'\n",
       "\\item 'tails'\n",
       "\\item 'tails'\n",
       "\\item 'heads'\n",
       "\\item 'heads'\n",
       "\\item 'heads'\n",
       "\\item 'heads'\n",
       "\\item 'tails'\n",
       "\\item 'tails'\n",
       "\\item 'heads'\n",
       "\\item 'tails'\n",
       "\\item 'tails'\n",
       "\\item 'tails'\n",
       "\\end{enumerate*}\n"
      ],
      "text/markdown": [
       "1. 'heads'\n",
       "2. 'tails'\n",
       "3. 'heads'\n",
       "4. 'tails'\n",
       "5. 'tails'\n",
       "6. 'heads'\n",
       "7. 'heads'\n",
       "8. 'heads'\n",
       "9. 'heads'\n",
       "10. 'tails'\n",
       "11. 'tails'\n",
       "12. 'heads'\n",
       "13. 'tails'\n",
       "14. 'tails'\n",
       "15. 'tails'\n",
       "\n",
       "\n"
      ],
      "text/plain": [
       " [1] \"heads\" \"tails\" \"heads\" \"tails\" \"tails\" \"heads\" \"heads\" \"heads\" \"heads\"\n",
       "[10] \"tails\" \"tails\" \"heads\" \"tails\" \"tails\" \"tails\""
      ]
     },
     "metadata": {},
     "output_type": "display_data"
    }
   ],
   "source": [
    "head(sim_fair_coin,15)"
   ]
  },
  {
   "cell_type": "markdown",
   "metadata": {},
   "source": [
    "To view the results of this simulation, type the name of the object and then use `table` to count up the number of heads and tails."
   ]
  },
  {
   "cell_type": "code",
   "execution_count": 12,
   "metadata": {},
   "outputs": [
    {
     "data": {
      "text/plain": [
       "sim_fair_coin\n",
       "heads tails \n",
       "   56    44 "
      ]
     },
     "metadata": {},
     "output_type": "display_data"
    }
   ],
   "source": [
    "table(sim_fair_coin)"
   ]
  },
  {
   "cell_type": "markdown",
   "metadata": {},
   "source": [
    "Since there are only two elements in `outcomes`, the probability that we \"flip\" \n",
    "a coin and it lands heads is 0.5. Say we're trying to simulate an unfair coin \n",
    "that we know only lands heads 20% of the time. We can adjust for this by adding \n",
    "an argument called `prob`, which provides a vector of two probability weights."
   ]
  },
  {
   "cell_type": "code",
   "execution_count": 13,
   "metadata": {},
   "outputs": [],
   "source": [
    "sim_unfair_coin <- sample(coin_outcomes, size = 100, replace = TRUE, \n",
    "                          prob = c(0.2, 0.8))"
   ]
  },
  {
   "cell_type": "markdown",
   "metadata": {},
   "source": [
    "`prob = c(0.2, 0.8)` indicates that for the two elements in the `outcomes` vector,\n",
    "we want to select the first one, `heads`, with probability 0.2 and the second \n",
    "one, `tails` with probability 0.8. Another way of thinking about this is to \n",
    "think of the outcome space as a bag of 10 chips, where 2 chips are labeled \n",
    "\"head\" and 8 chips \"tail\". Therefore at each draw, the probability of drawing a \n",
    "chip that says \"head\"\" is 20%, and \"tail\" is 80%."
   ]
  },
  {
   "cell_type": "code",
   "execution_count": 14,
   "metadata": {},
   "outputs": [
    {
     "data": {
      "text/plain": [
       "sim_unfair_coin\n",
       "heads tails \n",
       "   20    80 "
      ]
     },
     "metadata": {},
     "output_type": "display_data"
    }
   ],
   "source": [
    "table(sim_unfair_coin)"
   ]
  },
  {
   "cell_type": "markdown",
   "metadata": {},
   "source": [
    "In a sense, we've shrunken the size of the slip of paper that says \"heads\", \n",
    "making it less likely to be drawn and we've increased the size of the slip of \n",
    "paper saying \"tails\", making it more likely to be drawn. When we simulated the \n",
    "fair coin, both slips of paper were the same size. This happens by default if \n",
    "you don't provide a `prob` argument; all elements in the `outcomes` vector have \n",
    "an equal probability of being drawn."
   ]
  },
  {
   "cell_type": "markdown",
   "metadata": {},
   "source": [
    "### Simulating the Independent Shooter"
   ]
  },
  {
   "cell_type": "markdown",
   "metadata": {},
   "source": [
    "Simulating a basketball player who has independent shots uses the same mechanism \n",
    "that we use to simulate a coin flip. To simulate a single shot from an \n",
    "independent shooter with a shooting percentage of 50% we type:"
   ]
  },
  {
   "cell_type": "code",
   "execution_count": 15,
   "metadata": {},
   "outputs": [],
   "source": [
    "shot_outcomes <- c(\"H\", \"M\")"
   ]
  },
  {
   "cell_type": "code",
   "execution_count": 16,
   "metadata": {},
   "outputs": [
    {
     "data": {
      "text/html": [
       "'M'"
      ],
      "text/latex": [
       "'M'"
      ],
      "text/markdown": [
       "'M'"
      ],
      "text/plain": [
       "[1] \"M\""
      ]
     },
     "metadata": {},
     "output_type": "display_data"
    }
   ],
   "source": [
    "sim_basket <- sample(shot_outcomes, size = 1, replace = TRUE)\n",
    "sim_basket"
   ]
  },
  {
   "cell_type": "markdown",
   "metadata": {},
   "source": [
    "To make a valid comparison between Kobe and our simulated independent shooter, \n",
    "we need to align both their shooting percentage and the number of attempted shots."
   ]
  },
  {
   "cell_type": "markdown",
   "metadata": {},
   "source": [
    " What change needs to be made to the `sample` function so that it reflects a shooting percentage of 45%? Make this adjustment, then run a simulation to sample 133 shots. Assign the output of this simulation to a new object called `sim_basket`."
   ]
  },
  {
   "cell_type": "code",
   "execution_count": 17,
   "metadata": {},
   "outputs": [],
   "source": [
    "sim_basket <- sample(shot_outcomes, size = 133, prob = c(0.45, 0.55), replace = TRUE)"
   ]
  },
  {
   "cell_type": "code",
   "execution_count": 18,
   "metadata": {},
   "outputs": [
    {
     "data": {
      "text/plain": [
       "sim_basket\n",
       " H  M \n",
       "54 79 "
      ]
     },
     "metadata": {},
     "output_type": "display_data"
    }
   ],
   "source": [
    "table(sim_basket)"
   ]
  },
  {
   "cell_type": "code",
   "execution_count": 19,
   "metadata": {},
   "outputs": [
    {
     "data": {
      "image/png": "[encoded data removed]",
      "text/plain": [
       "Plot with title \"Distribution of Streaks\""
      ]
     },
     "metadata": {
      "image/png": {
       "height": 420,
       "width": 420
      },
      "text/plain": {
       "height": 420,
       "width": 420
      }
     },
     "output_type": "display_data"
    }
   ],
   "source": [
    "sim_streak <- calc_streak(sim_basket)\n",
    "barplot(table(sim_streak), main = \"Distribution of Streaks\")"
   ]
  },
  {
   "cell_type": "markdown",
   "metadata": {},
   "source": [
    "**4) If you were to run the simulation of the independent shooter a second time, how would you expect its streak distribution to compare to the distribution from the \n",
    "exercise above?**"
   ]
  },
  {
   "cell_type": "markdown",
   "metadata": {},
   "source": [
    "Somewhat similar"
   ]
  },
  {
   "cell_type": "markdown",
   "metadata": {},
   "source": [
    "**5) How does Kobe Bryant's distribution of streak lengths compare to the distribution \n",
    "of streak lengths for the simulated shooter? Using this comparison, do you have \n",
    "evidence that the hot hand model fits Kobe's shooting patterns?**"
   ]
  },
  {
   "cell_type": "markdown",
   "metadata": {},
   "source": [
    "The distributions look very similar. Therefore, there doesn't appear to be evidence for Kobe Bryant's hot hand."
   ]
  }
 ],
 "metadata": {
  "kernelspec": {
   "display_name": "R",
   "language": "R",
   "name": "ir"
  },
  "language_info": {
   "codemirror_mode": "r",
   "file_extension": ".r",
   "mimetype": "text/x-r-source",
   "name": "R",
   "pygments_lexer": "r",
   "version": "3.6.3"
  }
 },
 "nbformat": 4,
 "nbformat_minor": 4
}
