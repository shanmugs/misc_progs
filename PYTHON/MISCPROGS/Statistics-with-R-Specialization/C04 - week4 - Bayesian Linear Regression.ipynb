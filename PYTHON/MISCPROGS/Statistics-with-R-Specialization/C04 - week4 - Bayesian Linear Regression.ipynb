{
 "cells": [
  {
   "cell_type": "markdown",
   "metadata": {},
   "source": [
    "# Bayesian Linear Regression"
   ]
  },
  {
   "cell_type": "markdown",
   "metadata": {},
   "source": [
    "<img src=\"images/wage.jpg\"/>"
   ]
  },
  {
   "cell_type": "markdown",
   "metadata": {},
   "source": [
    "## Modeling Wages \n",
    "\n",
    "In the field of labor economics, the study of income and wages provides insight \n",
    "about topics ranging from gender discrimination to the benefits of higher \n",
    "education. In this lab, we will analyze cross-sectional wage data in order to \n",
    "practice using Bayesian selection methods such as BIC and Bayesian Model \n",
    "Averaging to construct parsimonious predictive models."
   ]
  },
  {
   "cell_type": "markdown",
   "metadata": {},
   "source": [
    "## Getting Started\n",
    "\n",
    "In this lab we will explore the data using the `dplyr` package and visualize it \n",
    "using the `ggplot2` package for data visualization. Both of these packages are \n",
    "part of the tidyverse. We will review simple linear regression using the `lm` \n",
    "function and how the output can be interpreted from a Bayesian perspective. We \n",
    "will also use the `broom` package to turn regression outputs to tidy data frames \n",
    "to help with diagnostic plotting. We will use the `stepAIC` function from the \n",
    "`MASS` package for model selection using step-wise selection using BIC. The \n",
    "`bas.lm` function from the `BAS` package later in the lab to implement Bayesian \n",
    "Model Averaging. Please make sure that the version of `BAS` is 1.4.9 or greater. \n",
    "The data can be found in the companion package for this course, `statsr`. Some \n",
    "learners may want to review material from the earlier courses in the \n",
    "specialization that covers EDA and regression if they are unfamiliar with \n",
    "`ggplot` basics or the `lm` function."
   ]
  },
  {
   "cell_type": "markdown",
   "metadata": {},
   "source": [
    "### Load Libraries"
   ]
  },
  {
   "cell_type": "code",
   "execution_count": 1,
   "metadata": {},
   "outputs": [
    {
     "name": "stderr",
     "output_type": "stream",
     "text": [
      "-- \u001b[1mAttaching packages\u001b[22m --------------------------------------- tidyverse 1.3.0 --\n",
      "\n",
      "\u001b[32mv\u001b[39m \u001b[34mggplot2\u001b[39m 3.3.2     \u001b[32mv\u001b[39m \u001b[34mpurrr  \u001b[39m 0.3.4\n",
      "\u001b[32mv\u001b[39m \u001b[34mtibble \u001b[39m 3.0.3     \u001b[32mv\u001b[39m \u001b[34mdplyr  \u001b[39m 1.0.0\n",
      "\u001b[32mv\u001b[39m \u001b[34mtidyr  \u001b[39m 1.1.0     \u001b[32mv\u001b[39m \u001b[34mstringr\u001b[39m 1.4.0\n",
      "\u001b[32mv\u001b[39m \u001b[34mreadr  \u001b[39m 1.3.1     \u001b[32mv\u001b[39m \u001b[34mforcats\u001b[39m 0.5.0\n",
      "\n",
      "-- \u001b[1mConflicts\u001b[22m ------------------------------------------ tidyverse_conflicts() --\n",
      "\u001b[31mx\u001b[39m \u001b[34mdplyr\u001b[39m::\u001b[32mfilter()\u001b[39m masks \u001b[34mstats\u001b[39m::filter()\n",
      "\u001b[31mx\u001b[39m \u001b[34mdplyr\u001b[39m::\u001b[32mlag()\u001b[39m    masks \u001b[34mstats\u001b[39m::lag()\n",
      "\u001b[31mx\u001b[39m \u001b[34mdplyr\u001b[39m::\u001b[32mselect()\u001b[39m masks \u001b[34mMASS\u001b[39m::select()\n",
      "\n"
     ]
    }
   ],
   "source": [
    "#install.packages(\"package\")\n",
    "library(MASS)\n",
    "library(tidyverse)\n",
    "library(statsr)\n",
    "library(BAS)\n",
    "library(broom)"
   ]
  },
  {
   "cell_type": "markdown",
   "metadata": {},
   "source": [
    "### The Data\n",
    "\n",
    "The data we will be using in this lab were gathered as a random sample of 935 \n",
    "respondents throughout the United States. This data set was released as part of \n",
    "the series *Instructional Stata Datasets for Econometrics* by the Boston College \n",
    "Department of Economics [@Wooldridge2000].\n",
    "\n",
    "Let's start by loading the data:\n",
    "\n",
    "\n",
    "variable         | description\n",
    "---------------- | -----------\n",
    "`wage`           | weekly earnings (dollars)\n",
    "`hours`          | average hours worked per week\n",
    "`iq`             | IQ score\n",
    "`kww`            | knowledge of world work score\n",
    "`educ`           | number of years of education\n",
    "`exper`          | years of work experience\n",
    "`tenure`         | years with current employer\n",
    "`age`            | age in years\n",
    "`married`        | =1 if married\n",
    "`black`          | =1 if black\n",
    "`south`          | =1 if live in south\n",
    "`urban`          | =1 if live in a Standard Metropolitan Statistical Area\n",
    "`sibs`           | number of siblings\n",
    "`brthord`        | birth order\n",
    "`meduc`          | mother's education (years)\n",
    "`feduc`          | father's education (years)\n",
    "`lwage`          | natural log of `wage`"
   ]
  },
  {
   "cell_type": "code",
   "execution_count": 2,
   "metadata": {},
   "outputs": [
    {
     "data": {
      "text/html": [
       "<table>\n",
       "<caption>A tibble: 6 × 17</caption>\n",
       "<thead>\n",
       "\t<tr><th scope=col>wage</th><th scope=col>hours</th><th scope=col>iq</th><th scope=col>kww</th><th scope=col>educ</th><th scope=col>exper</th><th scope=col>tenure</th><th scope=col>age</th><th scope=col>married</th><th scope=col>black</th><th scope=col>south</th><th scope=col>urban</th><th scope=col>sibs</th><th scope=col>brthord</th><th scope=col>meduc</th><th scope=col>feduc</th><th scope=col>lwage</th></tr>\n",
       "\t<tr><th scope=col>&lt;int&gt;</th><th scope=col>&lt;int&gt;</th><th scope=col>&lt;int&gt;</th><th scope=col>&lt;int&gt;</th><th scope=col>&lt;int&gt;</th><th scope=col>&lt;int&gt;</th><th scope=col>&lt;int&gt;</th><th scope=col>&lt;int&gt;</th><th scope=col>&lt;fct&gt;</th><th scope=col>&lt;fct&gt;</th><th scope=col>&lt;fct&gt;</th><th scope=col>&lt;fct&gt;</th><th scope=col>&lt;int&gt;</th><th scope=col>&lt;int&gt;</th><th scope=col>&lt;int&gt;</th><th scope=col>&lt;int&gt;</th><th scope=col>&lt;dbl&gt;</th></tr>\n",
       "</thead>\n",
       "<tbody>\n",
       "\t<tr><td> 769</td><td>40</td><td> 93</td><td>35</td><td>12</td><td>11</td><td> 2</td><td>31</td><td>1</td><td>0</td><td>0</td><td>1</td><td> 1</td><td> 2</td><td> 8</td><td> 8</td><td>6.645091</td></tr>\n",
       "\t<tr><td> 808</td><td>50</td><td>119</td><td>41</td><td>18</td><td>11</td><td>16</td><td>37</td><td>1</td><td>0</td><td>0</td><td>1</td><td> 1</td><td>NA</td><td>14</td><td>14</td><td>6.694562</td></tr>\n",
       "\t<tr><td> 825</td><td>40</td><td>108</td><td>46</td><td>14</td><td>11</td><td> 9</td><td>33</td><td>1</td><td>0</td><td>0</td><td>1</td><td> 1</td><td> 2</td><td>14</td><td>14</td><td>6.715384</td></tr>\n",
       "\t<tr><td> 650</td><td>40</td><td> 96</td><td>32</td><td>12</td><td>13</td><td> 7</td><td>32</td><td>1</td><td>0</td><td>0</td><td>1</td><td> 4</td><td> 3</td><td>12</td><td>12</td><td>6.476973</td></tr>\n",
       "\t<tr><td> 562</td><td>40</td><td> 74</td><td>27</td><td>11</td><td>14</td><td> 5</td><td>34</td><td>1</td><td>0</td><td>0</td><td>1</td><td>10</td><td> 6</td><td> 6</td><td>11</td><td>6.331502</td></tr>\n",
       "\t<tr><td>1400</td><td>40</td><td>116</td><td>43</td><td>16</td><td>14</td><td> 2</td><td>35</td><td>1</td><td>1</td><td>0</td><td>1</td><td> 1</td><td> 2</td><td> 8</td><td>NA</td><td>7.244227</td></tr>\n",
       "</tbody>\n",
       "</table>\n"
      ],
      "text/latex": [
       "A tibble: 6 × 17\n",
       "\\begin{tabular}{lllllllllllllllll}\n",
       " wage & hours & iq & kww & educ & exper & tenure & age & married & black & south & urban & sibs & brthord & meduc & feduc & lwage\\\\\n",
       " <int> & <int> & <int> & <int> & <int> & <int> & <int> & <int> & <fct> & <fct> & <fct> & <fct> & <int> & <int> & <int> & <int> & <dbl>\\\\\n",
       "\\hline\n",
       "\t  769 & 40 &  93 & 35 & 12 & 11 &  2 & 31 & 1 & 0 & 0 & 1 &  1 &  2 &  8 &  8 & 6.645091\\\\\n",
       "\t  808 & 50 & 119 & 41 & 18 & 11 & 16 & 37 & 1 & 0 & 0 & 1 &  1 & NA & 14 & 14 & 6.694562\\\\\n",
       "\t  825 & 40 & 108 & 46 & 14 & 11 &  9 & 33 & 1 & 0 & 0 & 1 &  1 &  2 & 14 & 14 & 6.715384\\\\\n",
       "\t  650 & 40 &  96 & 32 & 12 & 13 &  7 & 32 & 1 & 0 & 0 & 1 &  4 &  3 & 12 & 12 & 6.476973\\\\\n",
       "\t  562 & 40 &  74 & 27 & 11 & 14 &  5 & 34 & 1 & 0 & 0 & 1 & 10 &  6 &  6 & 11 & 6.331502\\\\\n",
       "\t 1400 & 40 & 116 & 43 & 16 & 14 &  2 & 35 & 1 & 1 & 0 & 1 &  1 &  2 &  8 & NA & 7.244227\\\\\n",
       "\\end{tabular}\n"
      ],
      "text/markdown": [
       "\n",
       "A tibble: 6 × 17\n",
       "\n",
       "| wage &lt;int&gt; | hours &lt;int&gt; | iq &lt;int&gt; | kww &lt;int&gt; | educ &lt;int&gt; | exper &lt;int&gt; | tenure &lt;int&gt; | age &lt;int&gt; | married &lt;fct&gt; | black &lt;fct&gt; | south &lt;fct&gt; | urban &lt;fct&gt; | sibs &lt;int&gt; | brthord &lt;int&gt; | meduc &lt;int&gt; | feduc &lt;int&gt; | lwage &lt;dbl&gt; |\n",
       "|---|---|---|---|---|---|---|---|---|---|---|---|---|---|---|---|---|\n",
       "|  769 | 40 |  93 | 35 | 12 | 11 |  2 | 31 | 1 | 0 | 0 | 1 |  1 |  2 |  8 |  8 | 6.645091 |\n",
       "|  808 | 50 | 119 | 41 | 18 | 11 | 16 | 37 | 1 | 0 | 0 | 1 |  1 | NA | 14 | 14 | 6.694562 |\n",
       "|  825 | 40 | 108 | 46 | 14 | 11 |  9 | 33 | 1 | 0 | 0 | 1 |  1 |  2 | 14 | 14 | 6.715384 |\n",
       "|  650 | 40 |  96 | 32 | 12 | 13 |  7 | 32 | 1 | 0 | 0 | 1 |  4 |  3 | 12 | 12 | 6.476973 |\n",
       "|  562 | 40 |  74 | 27 | 11 | 14 |  5 | 34 | 1 | 0 | 0 | 1 | 10 |  6 |  6 | 11 | 6.331502 |\n",
       "| 1400 | 40 | 116 | 43 | 16 | 14 |  2 | 35 | 1 | 1 | 0 | 1 |  1 |  2 |  8 | NA | 7.244227 |\n",
       "\n"
      ],
      "text/plain": [
       "  wage hours iq  kww educ exper tenure age married black south urban sibs\n",
       "1  769 40     93 35  12   11     2     31  1       0     0     1      1  \n",
       "2  808 50    119 41  18   11    16     37  1       0     0     1      1  \n",
       "3  825 40    108 46  14   11     9     33  1       0     0     1      1  \n",
       "4  650 40     96 32  12   13     7     32  1       0     0     1      4  \n",
       "5  562 40     74 27  11   14     5     34  1       0     0     1     10  \n",
       "6 1400 40    116 43  16   14     2     35  1       1     0     1      1  \n",
       "  brthord meduc feduc lwage   \n",
       "1  2       8     8    6.645091\n",
       "2 NA      14    14    6.694562\n",
       "3  2      14    14    6.715384\n",
       "4  3      12    12    6.476973\n",
       "5  6       6    11    6.331502\n",
       "6  2       8    NA    7.244227"
      ]
     },
     "metadata": {},
     "output_type": "display_data"
    }
   ],
   "source": [
    "data(wage)\n",
    "head(wage)"
   ]
  },
  {
   "cell_type": "markdown",
   "metadata": {},
   "source": [
    "**Is this an observational study or an experiment?**\n",
    "\n",
    "    Answer: Observational study."
   ]
  },
  {
   "cell_type": "markdown",
   "metadata": {},
   "source": [
    "### Setting a seed\n",
    "\n",
    "In this lab we will do some random generation, which means you should set a seed \n",
    "on top of your document. Setting a seed will cause R to sample the same sample \n",
    "each time you knit your document. This will make sure your results don't change \n",
    "each time you knit, and it will also ensure reproducibility of your work \n",
    "(by setting the same seed it will be possible to reproduce your results). \n",
    "You can set a seed like this:"
   ]
  },
  {
   "cell_type": "code",
   "execution_count": 3,
   "metadata": {},
   "outputs": [],
   "source": [
    "set.seed(18382)"
   ]
  },
  {
   "cell_type": "markdown",
   "metadata": {},
   "source": [
    "The number above is completely arbitraty. If you need inspiration, you can use \n",
    "your ID, birthday, or just a random string of numbers. The important thing is \n",
    "that you use each seed only once. You only need to do this once in your \n",
    "R Markdown document, but make sure it comes before sampling.\n",
    "\n",
    "## Exploring the data\n",
    "\n",
    "For a new data set, a good place to start is standard exploratory data analysis. \n",
    "We will begin with the `wage` variable since it will be the response variable in \n",
    "our models. We may use a histogram  to visualize the distribution."
   ]
  },
  {
   "cell_type": "code",
   "execution_count": 4,
   "metadata": {},
   "outputs": [
    {
     "data": {
      "image/png": "[encoded data removed]",
      "text/plain": [
       "plot without title"
      ]
     },
     "metadata": {
      "image/png": {
       "height": 420,
       "width": 420
      },
      "text/plain": {
       "height": 420,
       "width": 420
      }
     },
     "output_type": "display_data"
    }
   ],
   "source": [
    "ggplot(data = wage, aes(x = wage)) +\n",
    "  geom_histogram(binwidth = 100)"
   ]
  },
  {
   "cell_type": "markdown",
   "metadata": {},
   "source": [
    "For numeric summary statistics, the `summary` function provides additional \n",
    "insights about the distribution of `wage`."
   ]
  },
  {
   "cell_type": "code",
   "execution_count": 5,
   "metadata": {},
   "outputs": [
    {
     "data": {
      "text/plain": [
       "   Min. 1st Qu.  Median    Mean 3rd Qu.    Max. \n",
       "  115.0   669.0   905.0   957.9  1160.0  3078.0 "
      ]
     },
     "metadata": {},
     "output_type": "display_data"
    }
   ],
   "source": [
    "summary(wage$wage)"
   ]
  },
  {
   "cell_type": "markdown",
   "metadata": {},
   "source": [
    "**Which of the following statements is *true* about the distribution of weekly wages?**"
   ]
  },
  {
   "cell_type": "code",
   "execution_count": 6,
   "metadata": {},
   "outputs": [
    {
     "data": {
      "image/png": "[encoded data removed]",
      "text/plain": [
       "plot without title"
      ]
     },
     "metadata": {
      "image/png": {
       "height": 420,
       "width": 420
      },
      "text/plain": {
       "height": 420,
       "width": 420
      }
     },
     "output_type": "display_data"
    }
   ],
   "source": [
    "boxplot(wage$wage)"
   ]
  },
  {
   "cell_type": "code",
   "execution_count": 7,
   "metadata": {},
   "outputs": [
    {
     "data": {
      "image/png": "[encoded data removed]",
      "text/plain": [
       "Plot with title \"density.default(x = wage$wage)\""
      ]
     },
     "metadata": {
      "image/png": {
       "height": 420,
       "width": 420
      },
      "text/plain": {
       "height": 420,
       "width": 420
      }
     },
     "output_type": "display_data"
    }
   ],
   "source": [
    "plot(density(wage$wage))"
   ]
  },
  {
   "cell_type": "markdown",
   "metadata": {},
   "source": [
    "Answer:\n",
    "\n",
    "    The median of the distribution is 905.\n",
    "    25\\% of respondents make at least 1160 dollars per week.\n",
    "    `wage` is right-skewed, meaning that more respondents have weekly wages below the mean weekly wage than above it."
   ]
  },
  {
   "cell_type": "markdown",
   "metadata": {},
   "source": [
    "## Simple Linear Regression\n",
    "\n",
    "Since `wage` is our response variable, we would like to explore the relationship \n",
    "between `wage` and other variables as predictors. One possible, simplistic, \n",
    "explanation for the variation in wages that we see in the data is that smarter \n",
    "people make more money. The plot below visualizes a scatterplot between weekly \n",
    "wage and IQ score."
   ]
  },
  {
   "cell_type": "code",
   "execution_count": 8,
   "metadata": {},
   "outputs": [
    {
     "data": {
      "image/png": "[encoded data removed]",
      "text/plain": [
       "plot without title"
      ]
     },
     "metadata": {
      "image/png": {
       "height": 420,
       "width": 420
      },
      "text/plain": {
       "height": 420,
       "width": 420
      }
     },
     "output_type": "display_data"
    }
   ],
   "source": [
    "ggplot(data = wage, aes(x = iq, y = wage)) +\n",
    "  geom_point()"
   ]
  },
  {
   "cell_type": "markdown",
   "metadata": {},
   "source": [
    "There appears to be a positive relationship between IQ score and wage. We can \n",
    "quantify this by fitting a Bayesian simple linear regression \n",
    "\n",
    "$$\\text{wage}_i = \\alpha + \\beta \\cdot \\text{iq}_i + \\epsilon_i$$ \n",
    "\n",
    "to the observed data using the reference prior. We can fit the model using the \n",
    "`lm` function: "
   ]
  },
  {
   "cell_type": "code",
   "execution_count": 9,
   "metadata": {},
   "outputs": [],
   "source": [
    "m_wage_iq <- lm(wage ~ iq, data = wage)"
   ]
  },
  {
   "cell_type": "markdown",
   "metadata": {},
   "source": [
    "and extract the summary statistics for the posterior distribution using the \n",
    "output from the `lm` by applyting the `tidy` function from the `broom` package."
   ]
  },
  {
   "cell_type": "code",
   "execution_count": 10,
   "metadata": {},
   "outputs": [
    {
     "data": {
      "text/html": [
       "<table>\n",
       "<caption>A tibble: 2 × 5</caption>\n",
       "<thead>\n",
       "\t<tr><th scope=col>term</th><th scope=col>estimate</th><th scope=col>std.error</th><th scope=col>statistic</th><th scope=col>p.value</th></tr>\n",
       "\t<tr><th scope=col>&lt;chr&gt;</th><th scope=col>&lt;dbl&gt;</th><th scope=col>&lt;dbl&gt;</th><th scope=col>&lt;dbl&gt;</th><th scope=col>&lt;dbl&gt;</th></tr>\n",
       "</thead>\n",
       "<tbody>\n",
       "\t<tr><td>(Intercept)</td><td>116.991565</td><td>85.6415293</td><td>1.366061</td><td>1.722489e-01</td></tr>\n",
       "\t<tr><td>iq         </td><td>  8.303064</td><td> 0.8363951</td><td>9.927203</td><td>3.794935e-22</td></tr>\n",
       "</tbody>\n",
       "</table>\n"
      ],
      "text/latex": [
       "A tibble: 2 × 5\n",
       "\\begin{tabular}{lllll}\n",
       " term & estimate & std.error & statistic & p.value\\\\\n",
       " <chr> & <dbl> & <dbl> & <dbl> & <dbl>\\\\\n",
       "\\hline\n",
       "\t (Intercept) & 116.991565 & 85.6415293 & 1.366061 & 1.722489e-01\\\\\n",
       "\t iq          &   8.303064 &  0.8363951 & 9.927203 & 3.794935e-22\\\\\n",
       "\\end{tabular}\n"
      ],
      "text/markdown": [
       "\n",
       "A tibble: 2 × 5\n",
       "\n",
       "| term &lt;chr&gt; | estimate &lt;dbl&gt; | std.error &lt;dbl&gt; | statistic &lt;dbl&gt; | p.value &lt;dbl&gt; |\n",
       "|---|---|---|---|---|\n",
       "| (Intercept) | 116.991565 | 85.6415293 | 1.366061 | 1.722489e-01 |\n",
       "| iq          |   8.303064 |  0.8363951 | 9.927203 | 3.794935e-22 |\n",
       "\n"
      ],
      "text/plain": [
       "  term        estimate   std.error  statistic p.value     \n",
       "1 (Intercept) 116.991565 85.6415293 1.366061  1.722489e-01\n",
       "2 iq            8.303064  0.8363951 9.927203  3.794935e-22"
      ]
     },
     "metadata": {},
     "output_type": "display_data"
    }
   ],
   "source": [
    "tidy(m_wage_iq)"
   ]
  },
  {
   "cell_type": "markdown",
   "metadata": {},
   "source": [
    "The first column displays the posterior means of the linear model's y-intercept \n",
    "and the regression coefficient of `iq`.\n",
    "\n",
    "With this we can write down the posterior mean of the regression line\n",
    "\n",
    "    round(summary(m_wage_iq)$coefficients[1,1],3)\n",
    "\n",
    "    round(summary(m_wage_iq)$coefficients[2,1],3)\n",
    "\n",
    "and create a scatterplot with the posterior mean for the regression line laid \n",
    "on top."
   ]
  },
  {
   "cell_type": "code",
   "execution_count": 11,
   "metadata": {},
   "outputs": [
    {
     "data": {
      "text/html": [
       "116.992"
      ],
      "text/latex": [
       "116.992"
      ],
      "text/markdown": [
       "116.992"
      ],
      "text/plain": [
       "[1] 116.992"
      ]
     },
     "metadata": {},
     "output_type": "display_data"
    }
   ],
   "source": [
    "round(summary(m_wage_iq)$coefficients[1,1],3)"
   ]
  },
  {
   "cell_type": "code",
   "execution_count": 12,
   "metadata": {},
   "outputs": [
    {
     "data": {
      "text/html": [
       "8.303"
      ],
      "text/latex": [
       "8.303"
      ],
      "text/markdown": [
       "8.303"
      ],
      "text/plain": [
       "[1] 8.303"
      ]
     },
     "metadata": {},
     "output_type": "display_data"
    }
   ],
   "source": [
    "round(summary(m_wage_iq)$coefficients[2,1],3)"
   ]
  },
  {
   "cell_type": "code",
   "execution_count": 13,
   "metadata": {},
   "outputs": [
    {
     "name": "stderr",
     "output_type": "stream",
     "text": [
      "`geom_smooth()` using formula 'y ~ x'\n",
      "\n"
     ]
    },
    {
     "data": {
      "image/png": "[encoded data removed]",
      "text/plain": [
       "plot without title"
      ]
     },
     "metadata": {
      "image/png": {
       "height": 420,
       "width": 420
      },
      "text/plain": {
       "height": 420,
       "width": 420
      }
     },
     "output_type": "display_data"
    }
   ],
   "source": [
    "ggplot(data = wage, aes(x = iq, y = wage)) +\n",
    "  geom_point() +\n",
    "  stat_smooth(method = \"lm\", se = FALSE)"
   ]
  },
  {
   "cell_type": "markdown",
   "metadata": {},
   "source": [
    "Under the assumption that the errors $\\epsilon_i$ are independent and normally \n",
    "distributed with mean zero and an unknown variance $\\sigma^2$, the posterior \n",
    "distributions for the intercept and slope  will have a Student-t distribution \n",
    "under the reference prior with the posterior means and scales equal to the \n",
    "ordinary least squares estimates and standard errors respectively. We can create \n",
    "95% credible intervals for the two parameters using the `confint` function:"
   ]
  },
  {
   "cell_type": "code",
   "execution_count": 14,
   "metadata": {},
   "outputs": [
    {
     "data": {
      "text/html": [
       "<table>\n",
       "<caption>A matrix: 2 × 2 of type dbl</caption>\n",
       "<thead>\n",
       "\t<tr><th></th><th scope=col>2.5 %</th><th scope=col>97.5 %</th></tr>\n",
       "</thead>\n",
       "<tbody>\n",
       "\t<tr><th scope=row>(Intercept)</th><td>-51.080781</td><td>285.063910</td></tr>\n",
       "\t<tr><th scope=row>iq</th><td>  6.661631</td><td>  9.944498</td></tr>\n",
       "</tbody>\n",
       "</table>\n"
      ],
      "text/latex": [
       "A matrix: 2 × 2 of type dbl\n",
       "\\begin{tabular}{r|ll}\n",
       "  & 2.5 \\% & 97.5 \\%\\\\\n",
       "\\hline\n",
       "\t(Intercept) & -51.080781 & 285.063910\\\\\n",
       "\tiq &   6.661631 &   9.944498\\\\\n",
       "\\end{tabular}\n"
      ],
      "text/markdown": [
       "\n",
       "A matrix: 2 × 2 of type dbl\n",
       "\n",
       "| <!--/--> | 2.5 % | 97.5 % |\n",
       "|---|---|---|\n",
       "| (Intercept) | -51.080781 | 285.063910 |\n",
       "| iq |   6.661631 |   9.944498 |\n",
       "\n"
      ],
      "text/plain": [
       "            2.5 %      97.5 %    \n",
       "(Intercept) -51.080781 285.063910\n",
       "iq            6.661631   9.944498"
      ]
     },
     "metadata": {},
     "output_type": "display_data"
    }
   ],
   "source": [
    "confint(m_wage_iq)"
   ]
  },
  {
   "cell_type": "markdown",
   "metadata": {},
   "source": [
    "Fit a new model that uses `educ` (education) to predict average weekly wages. \n",
    "Using the estimates from the R output, write the equation of the posterior mean \n",
    "of the regression line and obtain a 95% credible interval for the coefficients. \n",
    "**What does the slope tell us in the context of the relationship between education\n",
    "and earnings?**"
   ]
  },
  {
   "cell_type": "code",
   "execution_count": 15,
   "metadata": {},
   "outputs": [
    {
     "data": {
      "text/html": [
       "<table>\n",
       "<caption>A tibble: 2 × 5</caption>\n",
       "<thead>\n",
       "\t<tr><th scope=col>term</th><th scope=col>estimate</th><th scope=col>std.error</th><th scope=col>statistic</th><th scope=col>p.value</th></tr>\n",
       "\t<tr><th scope=col>&lt;chr&gt;</th><th scope=col>&lt;dbl&gt;</th><th scope=col>&lt;dbl&gt;</th><th scope=col>&lt;dbl&gt;</th><th scope=col>&lt;dbl&gt;</th></tr>\n",
       "</thead>\n",
       "<tbody>\n",
       "\t<tr><td>(Intercept)</td><td>146.95244</td><td>77.714957</td><td> 1.890916</td><td>5.894519e-02</td></tr>\n",
       "\t<tr><td>educ       </td><td> 60.21428</td><td> 5.694982</td><td>10.573218</td><td>9.345036e-25</td></tr>\n",
       "</tbody>\n",
       "</table>\n"
      ],
      "text/latex": [
       "A tibble: 2 × 5\n",
       "\\begin{tabular}{lllll}\n",
       " term & estimate & std.error & statistic & p.value\\\\\n",
       " <chr> & <dbl> & <dbl> & <dbl> & <dbl>\\\\\n",
       "\\hline\n",
       "\t (Intercept) & 146.95244 & 77.714957 &  1.890916 & 5.894519e-02\\\\\n",
       "\t educ        &  60.21428 &  5.694982 & 10.573218 & 9.345036e-25\\\\\n",
       "\\end{tabular}\n"
      ],
      "text/markdown": [
       "\n",
       "A tibble: 2 × 5\n",
       "\n",
       "| term &lt;chr&gt; | estimate &lt;dbl&gt; | std.error &lt;dbl&gt; | statistic &lt;dbl&gt; | p.value &lt;dbl&gt; |\n",
       "|---|---|---|---|---|\n",
       "| (Intercept) | 146.95244 | 77.714957 |  1.890916 | 5.894519e-02 |\n",
       "| educ        |  60.21428 |  5.694982 | 10.573218 | 9.345036e-25 |\n",
       "\n"
      ],
      "text/plain": [
       "  term        estimate  std.error statistic p.value     \n",
       "1 (Intercept) 146.95244 77.714957  1.890916 5.894519e-02\n",
       "2 educ         60.21428  5.694982 10.573218 9.345036e-25"
      ]
     },
     "metadata": {},
     "output_type": "display_data"
    }
   ],
   "source": [
    "m_wage_educ <- lm(wage ~ educ, data = wage)\n",
    "\n",
    "tidy(m_wage_educ)"
   ]
  },
  {
   "cell_type": "code",
   "execution_count": 16,
   "metadata": {},
   "outputs": [
    {
     "data": {
      "text/html": [
       "<table>\n",
       "<caption>A matrix: 2 × 2 of type dbl</caption>\n",
       "<thead>\n",
       "\t<tr><th></th><th scope=col>2.5 %</th><th scope=col>97.5 %</th></tr>\n",
       "</thead>\n",
       "<tbody>\n",
       "\t<tr><th scope=row>(Intercept)</th><td>-5.56393</td><td>299.46881</td></tr>\n",
       "\t<tr><th scope=row>educ</th><td>49.03783</td><td> 71.39074</td></tr>\n",
       "</tbody>\n",
       "</table>\n"
      ],
      "text/latex": [
       "A matrix: 2 × 2 of type dbl\n",
       "\\begin{tabular}{r|ll}\n",
       "  & 2.5 \\% & 97.5 \\%\\\\\n",
       "\\hline\n",
       "\t(Intercept) & -5.56393 & 299.46881\\\\\n",
       "\teduc & 49.03783 &  71.39074\\\\\n",
       "\\end{tabular}\n"
      ],
      "text/markdown": [
       "\n",
       "A matrix: 2 × 2 of type dbl\n",
       "\n",
       "| <!--/--> | 2.5 % | 97.5 % |\n",
       "|---|---|---|\n",
       "| (Intercept) | -5.56393 | 299.46881 |\n",
       "| educ | 49.03783 |  71.39074 |\n",
       "\n"
      ],
      "text/plain": [
       "            2.5 %    97.5 %   \n",
       "(Intercept) -5.56393 299.46881\n",
       "educ        49.03783  71.39074"
      ]
     },
     "metadata": {},
     "output_type": "display_data"
    }
   ],
   "source": [
    "confint(m_wage_educ)"
   ]
  },
  {
   "cell_type": "code",
   "execution_count": 17,
   "metadata": {},
   "outputs": [
    {
     "data": {
      "text/html": [
       "146.952"
      ],
      "text/latex": [
       "146.952"
      ],
      "text/markdown": [
       "146.952"
      ],
      "text/plain": [
       "[1] 146.952"
      ]
     },
     "metadata": {},
     "output_type": "display_data"
    }
   ],
   "source": [
    "round(summary(m_wage_educ)$coefficients[1,1],3)"
   ]
  },
  {
   "cell_type": "code",
   "execution_count": 18,
   "metadata": {},
   "outputs": [
    {
     "data": {
      "text/html": [
       "60.214"
      ],
      "text/latex": [
       "60.214"
      ],
      "text/markdown": [
       "60.214"
      ],
      "text/plain": [
       "[1] 60.214"
      ]
     },
     "metadata": {},
     "output_type": "display_data"
    }
   ],
   "source": [
    "round(summary(m_wage_educ)$coefficients[2,1],3)"
   ]
  },
  {
   "cell_type": "markdown",
   "metadata": {},
   "source": [
    "    Answer: Each additional year of education increases weekly wages by $60.21."
   ]
  },
  {
   "cell_type": "markdown",
   "metadata": {},
   "source": [
    "## Model diagnostics\n",
    "\n",
    "The Bayesian model specification assumes that the errors are normally \n",
    "distributed with a constant variance and that the mean expected weekly wages is \n",
    "linear in IQ.  We can check these assumption by examining the distribution of \n",
    "the residuals for the model.\n",
    "\n",
    "In order to do so we will use predicted values, residuals, and standardized \n",
    "residuals of the model we fit earlier. The `augment` function in the `broom` \n",
    "package is going to come in handy here as it takes in a model object (the output \n",
    "of an `lm`) and returns a data frame with columns correspinding to variables \n",
    "in the model as well as predicted values (`.fitted`), residuals (`.resid`), and \n",
    "standardized residuals (`.std.resid`), along with a few others."
   ]
  },
  {
   "cell_type": "code",
   "execution_count": 19,
   "metadata": {},
   "outputs": [],
   "source": [
    "m_wage_iq_aug <- augment(m_wage_iq)"
   ]
  },
  {
   "cell_type": "markdown",
   "metadata": {},
   "source": [
    "**Linearity and Constant Variance**: You already checked if the relationship \n",
    "between weekly wages and IQ is linear using a scatterplot. We should also verify \n",
    "this condition with a plot of the residuals vs. fitted (predicted) values."
   ]
  },
  {
   "cell_type": "code",
   "execution_count": 20,
   "metadata": {},
   "outputs": [
    {
     "data": {
      "image/png": "[encoded data removed]",
      "text/plain": [
       "plot without title"
      ]
     },
     "metadata": {
      "image/png": {
       "height": 420,
       "width": 420
      },
      "text/plain": {
       "height": 420,
       "width": 420
      }
     },
     "output_type": "display_data"
    }
   ],
   "source": [
    "ggplot(data = m_wage_iq_aug, aes(x = .fitted, y = .resid)) +\n",
    "  geom_point(alpha = 0.6) +\n",
    "  geom_hline(yintercept = 0, linetype = \"dashed\") +\n",
    "  labs(x = \"Fitted values\", y = \"Residuals\")"
   ]
  },
  {
   "cell_type": "markdown",
   "metadata": {},
   "source": [
    "Also note that we're getting fancy with the code here. We set the `alpha` level \n",
    "of our points to a value lower than 1 (`0.6` to be precise) in order to add \n",
    "plot the points with some transparency. This will allow us to more easily \n",
    "identify where the points are more dense vs. more sparse. Then, we overlay a \n",
    "horizontal dashed line at $y = 0$ (to help us check whether residuals are \n",
    "distributed evenly around 0 at each fitted value), and we also adjust the axis \n",
    "labels to be more informative.\n",
    "\n",
    "**Normality**: To check this condition, we can look at a histogram of residuals"
   ]
  },
  {
   "cell_type": "code",
   "execution_count": 21,
   "metadata": {},
   "outputs": [
    {
     "data": {
      "image/png": "[encoded data removed]",
      "text/plain": [
       "plot without title"
      ]
     },
     "metadata": {
      "image/png": {
       "height": 420,
       "width": 420
      },
      "text/plain": {
       "height": 420,
       "width": 420
      }
     },
     "output_type": "display_data"
    }
   ],
   "source": [
    "ggplot(data = m_wage_iq_aug, aes(x = .resid)) +\n",
    "  geom_histogram(binwidth = 100) +\n",
    "  xlab(\"Residuals\")"
   ]
  },
  {
   "cell_type": "markdown",
   "metadata": {},
   "source": [
    "or a normal probability plot of the residuals"
   ]
  },
  {
   "cell_type": "code",
   "execution_count": 22,
   "metadata": {},
   "outputs": [
    {
     "data": {
      "image/png": "[encoded data removed]",
      "text/plain": [
       "plot without title"
      ]
     },
     "metadata": {
      "image/png": {
       "height": 420,
       "width": 420
      },
      "text/plain": {
       "height": 420,
       "width": 420
      }
     },
     "output_type": "display_data"
    }
   ],
   "source": [
    "ggplot(m_wage_iq_aug) +\n",
    "  geom_qq(aes(sample = .std.resid)) +\n",
    "  geom_abline(slope = 1, intercept = 0, linetype = \"dashed\") +\n",
    "  labs(x = \"Theoretical quantiles\", y = \"Standardized residuals\")"
   ]
  },
  {
   "cell_type": "markdown",
   "metadata": {},
   "source": [
    "Where we expect the points to be close to the dashed line, if the assumption of \n",
    "normality holds. Note that the $y$-axis in the plot uses standardized residuals, \n",
    "which are the residuals divided by their standard deviations so that they will \n",
    "have a normal distribution with mean zero and constant variance if the model \n",
    "holds."
   ]
  },
  {
   "cell_type": "markdown",
   "metadata": {},
   "source": [
    "**Which of the following statements about the residual plots are *True*?**\n",
    "\n",
    "Answer:\n",
    "\n",
    "    -The residuals appear to be randomly distributed around 0.\n",
    "    -The variability of residuals appears to increase as the fitted  increase, suggesting that the constant variance assumption does not hold.\n",
    "    -There are more individuals where the model under predicts weekly wages rather than over estimates weekly wages."
   ]
  },
  {
   "cell_type": "markdown",
   "metadata": {},
   "source": [
    "**Refit the model by using `educ` (education) as the independent variable.**"
   ]
  },
  {
   "cell_type": "code",
   "execution_count": 23,
   "metadata": {},
   "outputs": [],
   "source": [
    "m_wage_educ_aug <- augment(m_wage_educ)"
   ]
  },
  {
   "cell_type": "code",
   "execution_count": 24,
   "metadata": {},
   "outputs": [
    {
     "data": {
      "image/png": "[encoded data removed]",
      "text/plain": [
       "plot without title"
      ]
     },
     "metadata": {
      "image/png": {
       "height": 420,
       "width": 420
      },
      "text/plain": {
       "height": 420,
       "width": 420
      }
     },
     "output_type": "display_data"
    }
   ],
   "source": [
    "ggplot(data = m_wage_educ_aug, aes(x = .fitted, y = .resid)) +\n",
    "  geom_point(alpha = 0.6) +\n",
    "  geom_hline(yintercept = 0, linetype = \"dashed\") +\n",
    "  labs(x = \"Fitted values\", y = \"Residuals\")"
   ]
  },
  {
   "cell_type": "code",
   "execution_count": 25,
   "metadata": {},
   "outputs": [
    {
     "data": {
      "image/png": "[encoded data removed]",
      "text/plain": [
       "plot without title"
      ]
     },
     "metadata": {
      "image/png": {
       "height": 420,
       "width": 420
      },
      "text/plain": {
       "height": 420,
       "width": 420
      }
     },
     "output_type": "display_data"
    }
   ],
   "source": [
    "ggplot(data = m_wage_iq_aug, aes(x = .resid)) +\n",
    "  geom_histogram(binwidth = 100) +\n",
    "  xlab(\"Residuals\")"
   ]
  },
  {
   "cell_type": "code",
   "execution_count": 26,
   "metadata": {},
   "outputs": [
    {
     "data": {
      "image/png": "[encoded data removed]",
      "text/plain": [
       "plot without title"
      ]
     },
     "metadata": {
      "image/png": {
       "height": 420,
       "width": 420
      },
      "text/plain": {
       "height": 420,
       "width": 420
      }
     },
     "output_type": "display_data"
    }
   ],
   "source": [
    "ggplot(m_wage_iq_aug) +\n",
    "  geom_qq(aes(sample = .std.resid)) +\n",
    "  geom_abline(slope = 1, intercept = 0, linetype = \"dashed\") +\n",
    "  labs(x = \"Theoretical quantiles\", y = \"Standardized residuals\")"
   ]
  },
  {
   "cell_type": "markdown",
   "metadata": {},
   "source": [
    "## Linear Regression After Transforming `wage`\n",
    "\n",
    "One way to accommodate the right-skewness in the residuals is to (natural) \n",
    "log-transform the dependent variable. Note that this is only possible if the \n",
    "variable is strictly positive, since the log of negative value is not defined \n",
    "and $\\ln(0) = -\\infty$. Let us try to fit a linear model with log-wage (`lwage`) \n",
    "as the dependent variable. The next two questions will be based on this log \n",
    "transformed model."
   ]
  },
  {
   "cell_type": "code",
   "execution_count": 27,
   "metadata": {},
   "outputs": [],
   "source": [
    "m_lwage_iq = lm(lwage ~ iq, data = wage)"
   ]
  },
  {
   "cell_type": "markdown",
   "metadata": {},
   "source": [
    "**Examine the residuals of this model. Is the assumption of normally distributed \n",
    "residuals reasonable?**"
   ]
  },
  {
   "cell_type": "code",
   "execution_count": 28,
   "metadata": {},
   "outputs": [
    {
     "data": {
      "image/png": "[encoded data removed]",
      "text/plain": [
       "Plot with title \"density.default(x = m_lwage_iq$residuals)\""
      ]
     },
     "metadata": {
      "image/png": {
       "height": 420,
       "width": 420
      },
      "text/plain": {
       "height": 420,
       "width": 420
      }
     },
     "output_type": "display_data"
    }
   ],
   "source": [
    "plot(density(m_lwage_iq$residuals))"
   ]
  },
  {
   "cell_type": "markdown",
   "metadata": {},
   "source": [
    "    Answer: Yes."
   ]
  },
  {
   "cell_type": "markdown",
   "metadata": {},
   "source": [
    "Recall that the posterior distribution of $\\alpha$ and $\\beta$ given $\\sigma^2$ is normal, but marginally follows a $t$ distribution with $n-p-1$ degrees of freedom.  In this case, $p=1$, since IQ is the only predictor of log-wage included in our model. Therefore both $\\alpha$ and $\\beta$ will have a posteriors that follow a $t$ distribution 933 degrees of freedom - since the df is so large these distributions will actually be approximately normal.\n",
    "\n",
    "**Under the reference prior $p(\\alpha, \\beta, \\sigma^2) \\propto 1/\\sigma^2$, give a 95\\% posterior credible interval for $\\beta$, the coefficient of IQ.**"
   ]
  },
  {
   "cell_type": "code",
   "execution_count": 29,
   "metadata": {},
   "outputs": [
    {
     "data": {
      "text/plain": [
       "\n",
       "Call:\n",
       "lm(formula = lwage ~ iq, data = wage)\n",
       "\n",
       "Residuals:\n",
       "     Min       1Q   Median       3Q      Max \n",
       "-2.09324 -0.25547  0.02261  0.27544  1.21486 \n",
       "\n",
       "Coefficients:\n",
       "             Estimate Std. Error t value Pr(>|t|)    \n",
       "(Intercept) 5.8869942  0.0890206   66.13   <2e-16 ***\n",
       "iq          0.0088072  0.0008694   10.13   <2e-16 ***\n",
       "---\n",
       "Signif. codes:  0 '***' 0.001 '**' 0.01 '*' 0.05 '.' 0.1 ' ' 1\n",
       "\n",
       "Residual standard error: 0.3999 on 933 degrees of freedom\n",
       "Multiple R-squared:  0.09909,\tAdjusted R-squared:  0.09813 \n",
       "F-statistic: 102.6 on 1 and 933 DF,  p-value: < 2.2e-16\n"
      ]
     },
     "metadata": {},
     "output_type": "display_data"
    }
   ],
   "source": [
    "summary(m_lwage_iq)"
   ]
  },
  {
   "cell_type": "code",
   "execution_count": 30,
   "metadata": {},
   "outputs": [
    {
     "data": {
      "text/html": [
       "0.007103176"
      ],
      "text/latex": [
       "0.007103176"
      ],
      "text/markdown": [
       "0.007103176"
      ],
      "text/plain": [
       "[1] 0.007103176"
      ]
     },
     "metadata": {},
     "output_type": "display_data"
    },
    {
     "data": {
      "text/html": [
       "0.010511224"
      ],
      "text/latex": [
       "0.010511224"
      ],
      "text/markdown": [
       "0.010511224"
      ],
      "text/plain": [
       "[1] 0.01051122"
      ]
     },
     "metadata": {},
     "output_type": "display_data"
    }
   ],
   "source": [
    "inf = 0.0088072-1.96*0.0008694\n",
    "inf\n",
    "\n",
    "sup = 0.0088072+1.96*0.0008694\n",
    "sup\n"
   ]
  },
  {
   "cell_type": "markdown",
   "metadata": {},
   "source": [
    "    Answer:(0.00709, 0.01050)"
   ]
  },
  {
   "cell_type": "markdown",
   "metadata": {},
   "source": [
    "The coefficient of IQ is very small, which is expected since a one point increase in IQ score can hardly be expected to have a high multiplicative effect on wage.  One way to make the coefficient more interpretable is to standardize IQ before putting it into the model.  From this new model, an increase in IQ of 1 standard deviation (15 points) is estimated to increase wage by **what percentage?**"
   ]
  },
  {
   "cell_type": "code",
   "execution_count": 31,
   "metadata": {},
   "outputs": [
    {
     "data": {
      "text/plain": [
       "\n",
       "Call:\n",
       "lm(formula = wage ~ z_iq, data = wage)\n",
       "\n",
       "Residuals:\n",
       "   Min     1Q Median     3Q    Max \n",
       "-898.7 -256.5  -47.3  201.1 2072.6 \n",
       "\n",
       "Coefficients:\n",
       "            Estimate Std. Error t value Pr(>|t|)    \n",
       "(Intercept)   957.95      12.58  76.129   <2e-16 ***\n",
       "z_iq          124.98      12.59   9.927   <2e-16 ***\n",
       "---\n",
       "Signif. codes:  0 '***' 0.001 '**' 0.01 '*' 0.05 '.' 0.1 ' ' 1\n",
       "\n",
       "Residual standard error: 384.8 on 933 degrees of freedom\n",
       "Multiple R-squared:  0.09554,\tAdjusted R-squared:  0.09457 \n",
       "F-statistic: 98.55 on 1 and 933 DF,  p-value: < 2.2e-16\n"
      ]
     },
     "metadata": {},
     "output_type": "display_data"
    }
   ],
   "source": [
    "wage <- wage %>% mutate(z_iq = (iq - mean(iq)) / sd(iq))\n",
    "\n",
    "m_wage_ziq = lm(wage ~ z_iq, data = wage)\n",
    "\n",
    "summary(m_wage_ziq)"
   ]
  },
  {
   "cell_type": "markdown",
   "metadata": {},
   "source": [
    "## Outliers\n",
    "\n",
    "We declared observations to be outliers with respect to the population model if \n",
    "their deviation or error $\\epsilon_i$ was more than $k=3$ standard deviations \n",
    "above or below 0. Let's use the `Bayes.outlier` function from `BAS`, to calculate \n",
    "these probabilities for the model  `m_lwage_iq` and plot them against the \n",
    "case number.\n",
    "\n",
    "We start by calculating the probabilities,"
   ]
  },
  {
   "cell_type": "code",
   "execution_count": 32,
   "metadata": {},
   "outputs": [],
   "source": [
    "outliers <- Bayes.outlier(m_lwage_iq, k = 3)"
   ]
  },
  {
   "cell_type": "markdown",
   "metadata": {},
   "source": [
    "and then store the results in a data frame and plot them."
   ]
  },
  {
   "cell_type": "code",
   "execution_count": 33,
   "metadata": {},
   "outputs": [],
   "source": [
    "outliers_df <- data.frame(probability = outliers$prob.outlier, case = 1:length(outliers$prob.outlier))"
   ]
  },
  {
   "cell_type": "code",
   "execution_count": 34,
   "metadata": {},
   "outputs": [
    {
     "data": {
      "image/png": "[encoded data removed]",
      "text/plain": [
       "plot without title"
      ]
     },
     "metadata": {
      "image/png": {
       "height": 420,
       "width": 420
      },
      "text/plain": {
       "height": 420,
       "width": 420
      }
     },
     "output_type": "display_data"
    }
   ],
   "source": [
    "ggplot(outliers_df, aes(ymax = probability, x = case)) +\n",
    "  geom_linerange(ymin = 0) +\n",
    "  labs(y = \"Probability\")"
   ]
  },
  {
   "cell_type": "markdown",
   "metadata": {},
   "source": [
    "To identify which cases have probabilities greater than 0.50 of being an outlier, \n",
    "we can use the `filter` function to return which cases have `probability > 0.50`."
   ]
  },
  {
   "cell_type": "code",
   "execution_count": 35,
   "metadata": {},
   "outputs": [
    {
     "data": {
      "text/html": [
       "<table>\n",
       "<caption>A data.frame: 5 × 2</caption>\n",
       "<thead>\n",
       "\t<tr><th scope=col>probability</th><th scope=col>case</th></tr>\n",
       "\t<tr><th scope=col>&lt;dbl&gt;</th><th scope=col>&lt;int&gt;</th></tr>\n",
       "</thead>\n",
       "<tbody>\n",
       "\t<tr><td>0.9937375</td><td>434</td></tr>\n",
       "\t<tr><td>1.0000000</td><td>514</td></tr>\n",
       "\t<tr><td>0.6610078</td><td>616</td></tr>\n",
       "\t<tr><td>0.5309985</td><td>705</td></tr>\n",
       "\t<tr><td>1.0000000</td><td>784</td></tr>\n",
       "</tbody>\n",
       "</table>\n"
      ],
      "text/latex": [
       "A data.frame: 5 × 2\n",
       "\\begin{tabular}{ll}\n",
       " probability & case\\\\\n",
       " <dbl> & <int>\\\\\n",
       "\\hline\n",
       "\t 0.9937375 & 434\\\\\n",
       "\t 1.0000000 & 514\\\\\n",
       "\t 0.6610078 & 616\\\\\n",
       "\t 0.5309985 & 705\\\\\n",
       "\t 1.0000000 & 784\\\\\n",
       "\\end{tabular}\n"
      ],
      "text/markdown": [
       "\n",
       "A data.frame: 5 × 2\n",
       "\n",
       "| probability &lt;dbl&gt; | case &lt;int&gt; |\n",
       "|---|---|\n",
       "| 0.9937375 | 434 |\n",
       "| 1.0000000 | 514 |\n",
       "| 0.6610078 | 616 |\n",
       "| 0.5309985 | 705 |\n",
       "| 1.0000000 | 784 |\n",
       "\n"
      ],
      "text/plain": [
       "  probability case\n",
       "1 0.9937375   434 \n",
       "2 1.0000000   514 \n",
       "3 0.6610078   616 \n",
       "4 0.5309985   705 \n",
       "5 1.0000000   784 "
      ]
     },
     "metadata": {},
     "output_type": "display_data"
    }
   ],
   "source": [
    "outliers_df %>%\n",
    "  filter(probability > 0.50)"
   ]
  },
  {
   "cell_type": "markdown",
   "metadata": {},
   "source": [
    "**Using the definition of outlier above, which statement is *true*?**\n",
    "\n",
    "Answer:\n",
    "\n",
    "    -Case 434 has a probability of close to 1 that it an outlier under the normal error model for regressing `lwage` on `iq`\n",
    "    -Case 514 has a probably of close to 1 that it an outlier under the normal error model for regressing `lwage` on `iq`\n",
    "    -Case 784 has a probably of close to 1 that it an outlier under the normal error model for regressing `lwage` on `iq`"
   ]
  },
  {
   "cell_type": "markdown",
   "metadata": {},
   "source": [
    "While being $3$ standard deviations seems like an extremely unlikely event for \n",
    "a single observation, for large sample sizes, there is often a rather high \n",
    "probability that there will be at least one error $\\epsilon_i$ that exceeds $3$ \n",
    "standard deviations above or below zero _a priori_. We can calculate this as \n",
    "follows"
   ]
  },
  {
   "cell_type": "code",
   "execution_count": 36,
   "metadata": {},
   "outputs": [
    {
     "data": {
      "text/html": [
       "0.00269979606326019"
      ],
      "text/latex": [
       "0.00269979606326019"
      ],
      "text/markdown": [
       "0.00269979606326019"
      ],
      "text/plain": [
       "[1] 0.002699796"
      ]
     },
     "metadata": {},
     "output_type": "display_data"
    },
    {
     "data": {
      "text/html": [
       "0.99730020393674"
      ],
      "text/latex": [
       "0.99730020393674"
      ],
      "text/markdown": [
       "0.99730020393674"
      ],
      "text/plain": [
       "[1] 0.9973002"
      ]
     },
     "metadata": {},
     "output_type": "display_data"
    },
    {
     "data": {
      "text/html": [
       "0.0798406085475007"
      ],
      "text/latex": [
       "0.0798406085475007"
      ],
      "text/markdown": [
       "0.0798406085475007"
      ],
      "text/plain": [
       "[1] 0.07984061"
      ]
     },
     "metadata": {},
     "output_type": "display_data"
    },
    {
     "data": {
      "text/html": [
       "0.920159391452499"
      ],
      "text/latex": [
       "0.920159391452499"
      ],
      "text/markdown": [
       "0.920159391452499"
      ],
      "text/plain": [
       "[1] 0.9201594"
      ]
     },
     "metadata": {},
     "output_type": "display_data"
    }
   ],
   "source": [
    "# prob of a case being an outlier:\n",
    "#   being below or above 3 standard deviations from 0\n",
    "(prob_outlier <- pnorm(-3) + pnorm(3, lower.tail = FALSE))\n",
    "\n",
    "# probability of a signle case not being an outler is therefore the complement \n",
    "(prob_not_outlier <- 1 - prob_outlier)\n",
    "\n",
    "# probability of no outliers in the sample of n assuming errors are independent a priori\n",
    "n <- nrow(wage)\n",
    "(prob_no_outliers <- prob_not_outlier^n)\n",
    "\n",
    "# probability of at least one outlier in the sample is the complement of the \n",
    "# probability of no outliers in the sample of n\n",
    "1 - prob_no_outliers"
   ]
  },
  {
   "cell_type": "markdown",
   "metadata": {},
   "source": [
    "With a sample size of `r nrow(wage)` and using $3$ standard deviations to \n",
    "define outliers, the chance of having at least one outlier in the sample is \n",
    "`r round((1 - prob_no_outliers)*100, 2)`% so the fact that we did discover some \n",
    "outliers is not that surprising. \n",
    "\n",
    "So instead of fixing the number of standard deviations to $k=3$, an alternative \n",
    "is fix the prior probability of there being no outliers in the sample, \n",
    "\n",
    "$$P(\\text{no outliers in sample}) = P(\\text{observation is not an outlier})^n = 0.95$$\n",
    "\n",
    "which we can solve for\n",
    "\n",
    "$$ P(\\text{observation is not an outlier}) = 0.95^{1/n} $$\n",
    "\n",
    "and then solve for  $k$ using the normal quantile function."
   ]
  },
  {
   "cell_type": "code",
   "execution_count": 37,
   "metadata": {},
   "outputs": [
    {
     "data": {
      "text/html": [
       "0.999945142366353"
      ],
      "text/latex": [
       "0.999945142366353"
      ],
      "text/markdown": [
       "0.999945142366353"
      ],
      "text/plain": [
       "[1] 0.9999451"
      ]
     },
     "metadata": {},
     "output_type": "display_data"
    },
    {
     "data": {
      "text/html": [
       "4.03390444291038"
      ],
      "text/latex": [
       "4.03390444291038"
      ],
      "text/markdown": [
       "4.03390444291038"
      ],
      "text/plain": [
       "[1] 4.033904"
      ]
     },
     "metadata": {},
     "output_type": "display_data"
    }
   ],
   "source": [
    "n <- nrow(wage)\n",
    "(prob_obs_not_outlier <- 0.95^(1/n))\n",
    "(newk <- qnorm(0.5 + 0.5 * prob_obs_not_outlier))"
   ]
  },
  {
   "cell_type": "markdown",
   "metadata": {},
   "source": [
    "The function `Bayes.outlier` can also calculate `k` internally if we specify \n",
    "the prior probability of there being no outliers in the sample:"
   ]
  },
  {
   "cell_type": "code",
   "execution_count": 38,
   "metadata": {},
   "outputs": [],
   "source": [
    "outliers <- Bayes.outlier(m_lwage_iq, prior.prob=0.95)"
   ]
  },
  {
   "cell_type": "markdown",
   "metadata": {},
   "source": [
    "**Use the new value of $k$ to calculate the posterior probability of each observation being an \n",
    "outlier. Which observation has a posterior probability of being an outlier \n",
    "that exceeds the prior probability of being an outlier?**"
   ]
  },
  {
   "cell_type": "code",
   "execution_count": 39,
   "metadata": {},
   "outputs": [],
   "source": [
    "outliers_df <- data.frame(probability = outliers$prob.outlier, case = 1:length(outliers$prob.outlier))"
   ]
  },
  {
   "cell_type": "code",
   "execution_count": 40,
   "metadata": {},
   "outputs": [
    {
     "data": {
      "text/html": [
       "<table>\n",
       "<caption>A data.frame: 1 × 2</caption>\n",
       "<thead>\n",
       "\t<tr><th scope=col>probability</th><th scope=col>case</th></tr>\n",
       "\t<tr><th scope=col>&lt;dbl&gt;</th><th scope=col>&lt;int&gt;</th></tr>\n",
       "</thead>\n",
       "<tbody>\n",
       "\t<tr><td>1</td><td>784</td></tr>\n",
       "</tbody>\n",
       "</table>\n"
      ],
      "text/latex": [
       "A data.frame: 1 × 2\n",
       "\\begin{tabular}{ll}\n",
       " probability & case\\\\\n",
       " <dbl> & <int>\\\\\n",
       "\\hline\n",
       "\t 1 & 784\\\\\n",
       "\\end{tabular}\n"
      ],
      "text/markdown": [
       "\n",
       "A data.frame: 1 × 2\n",
       "\n",
       "| probability &lt;dbl&gt; | case &lt;int&gt; |\n",
       "|---|---|\n",
       "| 1 | 784 |\n",
       "\n"
      ],
      "text/plain": [
       "  probability case\n",
       "1 1           784 "
      ]
     },
     "metadata": {},
     "output_type": "display_data"
    }
   ],
   "source": [
    "outliers_df %>%\n",
    "  filter(probability > 0.50)"
   ]
  },
  {
   "cell_type": "markdown",
   "metadata": {},
   "source": [
    "    Answer: Case 784"
   ]
  },
  {
   "cell_type": "markdown",
   "metadata": {},
   "source": [
    "## Multiple Linear Regression\n",
    "\n",
    "It is evident that wage can be explained by many predictors, such as experience, education, IQ, and so on. We can include all relevant covariates in a regression model in an attempt to explain as much wage variation as possible. In addition, sometimes outliers can be explained by changing the model by adding other predictors; let's take a look at multiple regression before removing any cases. "
   ]
  },
  {
   "cell_type": "code",
   "execution_count": 41,
   "metadata": {},
   "outputs": [],
   "source": [
    "m_lwage_full <- lm(lwage ~ . - wage, data = wage)"
   ]
  },
  {
   "cell_type": "markdown",
   "metadata": {},
   "source": [
    "The use of `. - wage` in the `lm` function tells R to include all covariates in \n",
    "the model except the `wage` variable from the data set.\n",
    "\n",
    "However, running this full model has a cost: we will remove observations from \n",
    "our data if some measurements in the variables (e.g. birth order, mother's \n",
    "education, and father's education) are missing. By default, the `lm` function \n",
    "does a complete-case analysis. So it removes any observations with a missing \n",
    "(`NA`) value in one or more of the predictor variables. \n",
    "\n",
    "Because of these missing values we must make an addition assumption in order \n",
    "for our inferences to be valid. This exclusion of rows with missing values \n",
    "requires that in the data there is no systematic reason for the values to be \n",
    "missing. In other words, our data must be missing at random. For example, if \n",
    "all first-born children did not report their birth order, the data would not \n",
    "be missing at random. Without any additional information we will assume this \n",
    "is reasonable and use the 663 complete observations (as opposed to the original \n",
    "935) to fit the model. Both Bayesian and frequentist methods exist to handle \n",
    "data sets with missing data, but they are beyond the scope of this course. "
   ]
  },
  {
   "cell_type": "code",
   "execution_count": 42,
   "metadata": {},
   "outputs": [
    {
     "data": {
      "text/plain": [
       "\n",
       "Call:\n",
       "lm(formula = lwage ~ . - wage, data = wage)\n",
       "\n",
       "Residuals:\n",
       "     Min       1Q   Median       3Q      Max \n",
       "-1.96887 -0.19460  0.00923  0.22401  1.34185 \n",
       "\n",
       "Coefficients: (1 not defined because of singularities)\n",
       "             Estimate Std. Error t value Pr(>|t|)    \n",
       "(Intercept)  5.156439   0.225286  22.888  < 2e-16 ***\n",
       "hours       -0.006548   0.001934  -3.385 0.000754 ***\n",
       "iq           0.003186   0.001223   2.604 0.009425 ** \n",
       "kww          0.003735   0.002390   1.562 0.118662    \n",
       "educ         0.041267   0.008942   4.615 4.74e-06 ***\n",
       "exper        0.010749   0.004435   2.424 0.015629 *  \n",
       "tenure       0.007102   0.002894   2.454 0.014401 *  \n",
       "age          0.009107   0.005977   1.524 0.128058    \n",
       "married1     0.200760   0.045998   4.365 1.48e-05 ***\n",
       "black1      -0.105141   0.055667  -1.889 0.059373 .  \n",
       "south1      -0.049076   0.030753  -1.596 0.111019    \n",
       "urban1       0.195658   0.031240   6.263 6.88e-10 ***\n",
       "sibs         0.009619   0.007876   1.221 0.222423    \n",
       "brthord     -0.018465   0.011569  -1.596 0.110975    \n",
       "meduc        0.009633   0.006167   1.562 0.118753    \n",
       "feduc        0.005590   0.005398   1.036 0.300805    \n",
       "z_iq               NA         NA      NA       NA    \n",
       "---\n",
       "Signif. codes:  0 '***' 0.001 '**' 0.01 '*' 0.05 '.' 0.1 ' ' 1\n",
       "\n",
       "Residual standard error: 0.3507 on 647 degrees of freedom\n",
       "  (272 observations deleted due to missingness)\n",
       "Multiple R-squared:  0.2925,\tAdjusted R-squared:  0.2761 \n",
       "F-statistic: 17.84 on 15 and 647 DF,  p-value: < 2.2e-16\n"
      ]
     },
     "metadata": {},
     "output_type": "display_data"
    }
   ],
   "source": [
    "summary(m_lwage_full)"
   ]
  },
  {
   "cell_type": "markdown",
   "metadata": {},
   "source": [
    "**From the model, all else begin equal, who would you expect to make more: a married black man or a single non-black man?**\n",
    "\n",
    "    Answer: The married black man"
   ]
  },
  {
   "cell_type": "markdown",
   "metadata": {},
   "source": [
    "As you can see from a quick summary of the full linear model, many coefficients  of independent variables are not statistically significant. In previous labs within this specialization, you selected variables based on the values of Adjusted $R^2$. This module introduced the Bayesian Information Criterion (BIC), which is a criterion that can be used for model selection. BIC is based on model fit, while simultaneously penalizing the number of parameters in proportion to the sample size. We can calculate the BIC of the full linear model using the command below:"
   ]
  },
  {
   "cell_type": "code",
   "execution_count": 43,
   "metadata": {},
   "outputs": [
    {
     "data": {
      "text/html": [
       "586.373176568163"
      ],
      "text/latex": [
       "586.373176568163"
      ],
      "text/markdown": [
       "586.373176568163"
      ],
      "text/plain": [
       "[1] 586.3732"
      ]
     },
     "metadata": {},
     "output_type": "display_data"
    }
   ],
   "source": [
    "BIC(m_lwage_full)"
   ]
  },
  {
   "cell_type": "markdown",
   "metadata": {},
   "source": [
    "We can compare the BIC of the full model with that of a reduced model. Let us try to remove birth order from the model. To ensure that the observations remain the same, the data set can be specified as `na.omit(wage)`, which includes only the observations with no missing values in any variables in the data set."
   ]
  },
  {
   "cell_type": "code",
   "execution_count": 44,
   "metadata": {},
   "outputs": [
    {
     "data": {
      "text/html": [
       "582.481519382231"
      ],
      "text/latex": [
       "582.481519382231"
      ],
      "text/markdown": [
       "582.481519382231"
      ],
      "text/plain": [
       "[1] 582.4815"
      ]
     },
     "metadata": {},
     "output_type": "display_data"
    }
   ],
   "source": [
    "m_lwage_nobrthord <- lm(lwage ~ . - wage - brthord, data = na.omit(wage))\n",
    "\n",
    "BIC(m_lwage_nobrthord)"
   ]
  },
  {
   "cell_type": "markdown",
   "metadata": {},
   "source": [
    "As you can see, removing birth order from the regression reduces BIC, which we seek to minimize by model selection."
   ]
  },
  {
   "cell_type": "markdown",
   "metadata": {},
   "source": [
    "**Elimination of which variable from the full model yielded the lowest BIC?**"
   ]
  },
  {
   "cell_type": "code",
   "execution_count": 45,
   "metadata": {},
   "outputs": [
    {
     "data": {
      "text/html": [
       "'BIC without brthord 582.481519382231'"
      ],
      "text/latex": [
       "'BIC without brthord 582.481519382231'"
      ],
      "text/markdown": [
       "'BIC without brthord 582.481519382231'"
      ],
      "text/plain": [
       "[1] \"BIC without brthord 582.481519382231\""
      ]
     },
     "metadata": {},
     "output_type": "display_data"
    },
    {
     "data": {
      "text/html": [
       "'BIC without sibs 581.403065169494'"
      ],
      "text/latex": [
       "'BIC without sibs 581.403065169494'"
      ],
      "text/markdown": [
       "'BIC without sibs 581.403065169494'"
      ],
      "text/plain": [
       "[1] \"BIC without sibs 581.403065169494\""
      ]
     },
     "metadata": {},
     "output_type": "display_data"
    },
    {
     "data": {
      "text/html": [
       "'BIC without feduc 580.974349750992'"
      ],
      "text/latex": [
       "'BIC without feduc 580.974349750992'"
      ],
      "text/markdown": [
       "'BIC without feduc 580.974349750992'"
      ],
      "text/plain": [
       "[1] \"BIC without feduc 580.974349750992\""
      ]
     },
     "metadata": {},
     "output_type": "display_data"
    },
    {
     "data": {
      "text/html": [
       "'BIC without meduc 582.37220008543'"
      ],
      "text/latex": [
       "'BIC without meduc 582.37220008543'"
      ],
      "text/markdown": [
       "'BIC without meduc 582.37220008543'"
      ],
      "text/plain": [
       "[1] \"BIC without meduc 582.37220008543\""
      ]
     },
     "metadata": {},
     "output_type": "display_data"
    }
   ],
   "source": [
    "vbrthord = BIC(lm(lwage ~ . -wage -brthord, data = na.omit(wage)))\n",
    "\n",
    "vsibs = BIC(lm(lwage ~ . -wage -sibs, data = na.omit(wage)))\n",
    "\n",
    "vfeduc = BIC(lm(lwage ~ . -wage -feduc, data = na.omit(wage)))\n",
    "\n",
    "vmeduc = BIC(lm(lwage ~ . -wage -meduc, data = na.omit(wage)))\n",
    "\n",
    "paste(\"BIC without brthord\",vbrthord)\n",
    "paste(\"BIC without sibs\",vsibs)\n",
    "paste(\"BIC without feduc\",vfeduc)\n",
    "paste(\"BIC without meduc\",vmeduc)"
   ]
  },
  {
   "cell_type": "markdown",
   "metadata": {},
   "source": [
    "    Answer: feduc"
   ]
  },
  {
   "cell_type": "markdown",
   "metadata": {},
   "source": [
    "R has a function `stepAIC` from the `MASS` package that will work backwards \n",
    "through the model space, removing variables until the AIC score can be no longer \n",
    "lowered. It takes all inputs in the full model, and a penalty parameter $k$. \n",
    "The default setting is $k=2$ for the AIC score. Find the best model according \n",
    "to BIC (in which case `k = log(n)` where $n$ is the number of observations). \n",
    "Remember to use `na.omit(wage)` as your data set. You may type `?stepAIC` in \n",
    "the RStudio Console to get the use and examples of the function `stepAIC`. "
   ]
  },
  {
   "cell_type": "code",
   "execution_count": 46,
   "metadata": {},
   "outputs": [
    {
     "name": "stdout",
     "output_type": "stream",
     "text": [
      "Start:  AIC=-1373.58\n",
      "lwage ~ (wage + hours + iq + kww + educ + exper + tenure + age + \n",
      "    married + black + south + urban + sibs + brthord + meduc + \n",
      "    feduc + z_iq) - wage\n",
      "\n",
      "\n",
      "Step:  AIC=-1373.58\n",
      "lwage ~ hours + iq + kww + educ + exper + tenure + age + married + \n",
      "    black + south + urban + sibs + brthord + meduc + feduc\n",
      "\n",
      "          Df Sum of Sq    RSS     AIC\n",
      "- feduc    1    0.1319 79.710 -1374.5\n",
      "- sibs     1    0.1835 79.761 -1374.1\n",
      "<none>                 79.578 -1373.6\n",
      "- age      1    0.2856 79.864 -1373.2\n",
      "- meduc    1    0.3001 79.878 -1373.1\n",
      "- kww      1    0.3003 79.878 -1373.1\n",
      "- south    1    0.3132 79.891 -1373.0\n",
      "- brthord  1    0.3133 79.891 -1373.0\n",
      "- black    1    0.4388 80.017 -1371.9\n",
      "- exper    1    0.7226 80.301 -1369.6\n",
      "- tenure   1    0.7405 80.319 -1369.4\n",
      "- iq       1    0.8340 80.412 -1368.7\n",
      "- hours    1    1.4096 80.988 -1363.9\n",
      "- married  1    2.3430 81.921 -1356.3\n",
      "- educ     1    2.6196 82.198 -1354.1\n",
      "- urban    1    4.8246 84.403 -1336.6\n",
      "\n",
      "Step:  AIC=-1374.49\n",
      "lwage ~ hours + iq + kww + educ + exper + tenure + age + married + \n",
      "    black + south + urban + sibs + brthord + meduc\n",
      "\n",
      "          Df Sum of Sq    RSS     AIC\n",
      "- sibs     1    0.1948 79.905 -1374.9\n",
      "<none>                 79.710 -1374.5\n",
      "- age      1    0.2594 79.969 -1374.3\n",
      "- kww      1    0.3152 80.025 -1373.9\n",
      "- brthord  1    0.3386 80.049 -1373.7\n",
      "- south    1    0.3448 80.055 -1373.6\n",
      "- black    1    0.4730 80.183 -1372.6\n",
      "- meduc    1    0.6491 80.359 -1371.1\n",
      "- exper    1    0.6991 80.409 -1370.7\n",
      "- tenure   1    0.7271 80.437 -1370.5\n",
      "- iq       1    0.8521 80.562 -1369.4\n",
      "- hours    1    1.4168 81.127 -1364.8\n",
      "- married  1    2.3525 82.062 -1357.2\n",
      "- educ     1    2.9193 82.629 -1352.6\n",
      "- urban    1    4.9771 84.687 -1336.3\n",
      "\n",
      "Step:  AIC=-1374.87\n",
      "lwage ~ hours + iq + kww + educ + exper + tenure + age + married + \n",
      "    black + south + urban + brthord + meduc\n",
      "\n",
      "          Df Sum of Sq    RSS     AIC\n",
      "- brthord  1    0.1663 80.071 -1375.5\n",
      "<none>                 79.905 -1374.9\n",
      "- kww      1    0.2676 80.172 -1374.7\n",
      "- age      1    0.2832 80.188 -1374.5\n",
      "- black    1    0.3724 80.277 -1373.8\n",
      "- south    1    0.4023 80.307 -1373.5\n",
      "- meduc    1    0.6089 80.514 -1371.8\n",
      "- exper    1    0.6546 80.559 -1371.5\n",
      "- tenure   1    0.7133 80.618 -1371.0\n",
      "- iq       1    0.8310 80.736 -1370.0\n",
      "- hours    1    1.3930 81.298 -1365.4\n",
      "- married  1    2.3932 82.298 -1357.3\n",
      "- educ     1    2.8678 82.773 -1353.5\n",
      "- urban    1    4.8999 84.805 -1337.4\n",
      "\n",
      "Step:  AIC=-1375.49\n",
      "lwage ~ hours + iq + kww + educ + exper + tenure + age + married + \n",
      "    black + south + urban + meduc\n",
      "\n",
      "          Df Sum of Sq    RSS     AIC\n",
      "<none>                 80.071 -1375.5\n",
      "- kww      1    0.2743 80.345 -1375.2\n",
      "- age      1    0.2854 80.356 -1375.1\n",
      "- black    1    0.3883 80.459 -1374.3\n",
      "- south    1    0.4449 80.516 -1373.8\n",
      "- exper    1    0.6721 80.743 -1372.0\n",
      "- tenure   1    0.7084 80.779 -1371.7\n",
      "- meduc    1    0.7827 80.854 -1371.0\n",
      "- iq       1    0.8853 80.956 -1370.2\n",
      "- hours    1    1.3401 81.411 -1366.5\n",
      "- married  1    2.4160 82.487 -1357.8\n",
      "- educ     1    2.9179 82.989 -1353.8\n",
      "- urban    1    4.8863 84.957 -1338.2\n"
     ]
    },
    {
     "data": {
      "text/plain": [
       "\n",
       "Call:\n",
       "lm(formula = lwage ~ hours + iq + kww + educ + exper + tenure + \n",
       "    age + married + black + south + urban + meduc, data = wage_no_na)\n",
       "\n",
       "Coefficients:\n",
       "(Intercept)        hours           iq          kww         educ        exper  \n",
       "   5.134460    -0.006371     0.003273     0.003546     0.042825     0.010333  \n",
       "     tenure          age     married1       black1       south1       urban1  \n",
       "   0.006943     0.009068     0.203743    -0.096556    -0.057885     0.196127  \n",
       "      meduc  \n",
       "   0.013480  \n"
      ]
     },
     "metadata": {},
     "output_type": "display_data"
    }
   ],
   "source": [
    "wage_no_na <- na.omit(wage)\n",
    "\n",
    "k = log(dim(wage_no_na)[1])\n",
    "\n",
    "stepAIC(lm(formula = lwage ~ . - wage, data = wage_no_na))"
   ]
  },
  {
   "cell_type": "markdown",
   "metadata": {},
   "source": [
    "## Bayesian Model Averaging\n",
    "\n",
    "Often, several models are equally plausible and choosing only one ignores the \n",
    "inherent uncertainty involved in choosing the variables to include in the model. \n",
    "A way to get around this problem is to implement Bayesian model averaging (BMA), \n",
    "in which multiple models are averaged to obtain posteriors of coefficients and \n",
    "predictions from new data. Dr. Merlise Clyde is the primary author of the R \n",
    "package `BAS`, which implements BMA [@Clyde2018]. We can use this for either \n",
    "implementing BMA or selecting models.\n",
    "\n",
    "We start by applying BMA to the wage data using all $15$ potential predictors."
   ]
  },
  {
   "cell_type": "code",
   "execution_count": 47,
   "metadata": {},
   "outputs": [
    {
     "data": {
      "text/plain": [
       "\n",
       "Call:\n",
       "bas.lm(formula = lwage ~ . - wage, data = wage_no_na, prior = \"BIC\", \n",
       "    modelprior = uniform())\n",
       "\n",
       "\n",
       " Marginal Posterior Inclusion Probabilities: \n",
       "Intercept      hours         iq        kww       educ      exper     tenure  \n",
       "   1.0000     0.8523     0.6422     0.3186     0.9988     0.6964     0.7090  \n",
       "      age   married1     black1     south1     urban1       sibs    brthord  \n",
       "   0.5502     0.9990     0.3236     0.3090     1.0000     0.0414     0.1207  \n",
       "    meduc      feduc       z_iq  \n",
       "   0.5709     0.2332     0.6422  "
      ]
     },
     "metadata": {},
     "output_type": "display_data"
    },
    {
     "data": {
      "text/html": [
       "<table>\n",
       "<caption>A matrix: 22 × 6 of type dbl</caption>\n",
       "<thead>\n",
       "\t<tr><th></th><th scope=col>P(B != 0 | Y)</th><th scope=col>model 1</th><th scope=col>model 2</th><th scope=col>model 3</th><th scope=col>model 4</th><th scope=col>model 5</th></tr>\n",
       "</thead>\n",
       "<tbody>\n",
       "\t<tr><th scope=row>Intercept</th><td>1.00000000</td><td>    1.0000</td><td>    1.0000</td><td>    1.0000</td><td>    1.0000000</td><td>    1.0000000</td></tr>\n",
       "\t<tr><th scope=row>hours</th><td>0.85234234</td><td>    1.0000</td><td>    1.0000</td><td>    1.0000</td><td>    1.0000000</td><td>    1.0000000</td></tr>\n",
       "\t<tr><th scope=row>iq</th><td>0.64217314</td><td>    1.0000</td><td>    1.0000</td><td>    0.0000</td><td>    0.0000000</td><td>    1.0000000</td></tr>\n",
       "\t<tr><th scope=row>kww</th><td>0.31864939</td><td>    0.0000</td><td>    0.0000</td><td>    0.0000</td><td>    0.0000000</td><td>    0.0000000</td></tr>\n",
       "\t<tr><th scope=row>educ</th><td>0.99878876</td><td>    1.0000</td><td>    1.0000</td><td>    1.0000</td><td>    1.0000000</td><td>    1.0000000</td></tr>\n",
       "\t<tr><th scope=row>exper</th><td>0.69642238</td><td>    0.0000</td><td>    0.0000</td><td>    0.0000</td><td>    1.0000000</td><td>    1.0000000</td></tr>\n",
       "\t<tr><th scope=row>tenure</th><td>0.70896475</td><td>    1.0000</td><td>    1.0000</td><td>    1.0000</td><td>    1.0000000</td><td>    1.0000000</td></tr>\n",
       "\t<tr><th scope=row>age</th><td>0.55016766</td><td>    1.0000</td><td>    1.0000</td><td>    1.0000</td><td>    1.0000000</td><td>    1.0000000</td></tr>\n",
       "\t<tr><th scope=row>married1</th><td>0.99896746</td><td>    1.0000</td><td>    1.0000</td><td>    1.0000</td><td>    1.0000000</td><td>    1.0000000</td></tr>\n",
       "\t<tr><th scope=row>black1</th><td>0.32364267</td><td>    0.0000</td><td>    0.0000</td><td>    0.0000</td><td>    0.0000000</td><td>    0.0000000</td></tr>\n",
       "\t<tr><th scope=row>south1</th><td>0.30899335</td><td>    0.0000</td><td>    0.0000</td><td>    0.0000</td><td>    0.0000000</td><td>    0.0000000</td></tr>\n",
       "\t<tr><th scope=row>urban1</th><td>0.99999985</td><td>    1.0000</td><td>    1.0000</td><td>    1.0000</td><td>    1.0000000</td><td>    1.0000000</td></tr>\n",
       "\t<tr><th scope=row>sibs</th><td>0.04140032</td><td>    0.0000</td><td>    0.0000</td><td>    0.0000</td><td>    0.0000000</td><td>    0.0000000</td></tr>\n",
       "\t<tr><th scope=row>brthord</th><td>0.12065957</td><td>    0.0000</td><td>    0.0000</td><td>    0.0000</td><td>    0.0000000</td><td>    0.0000000</td></tr>\n",
       "\t<tr><th scope=row>meduc</th><td>0.57085955</td><td>    1.0000</td><td>    1.0000</td><td>    1.0000</td><td>    1.0000000</td><td>    1.0000000</td></tr>\n",
       "\t<tr><th scope=row>feduc</th><td>0.23318528</td><td>    0.0000</td><td>    0.0000</td><td>    0.0000</td><td>    0.0000000</td><td>    0.0000000</td></tr>\n",
       "\t<tr><th scope=row>z_iq</th><td>0.64217314</td><td>    0.0000</td><td>    1.0000</td><td>    1.0000</td><td>    1.0000000</td><td>    0.0000000</td></tr>\n",
       "\t<tr><th scope=row>BF</th><td>        NA</td><td>    1.0000</td><td>    1.0000</td><td>    1.0000</td><td>    0.5219483</td><td>    0.5219483</td></tr>\n",
       "\t<tr><th scope=row>PostProbs</th><td>        NA</td><td>    0.0163</td><td>    0.0163</td><td>    0.0163</td><td>    0.0085000</td><td>    0.0085000</td></tr>\n",
       "\t<tr><th scope=row>R2</th><td>        NA</td><td>    0.2710</td><td>    0.2710</td><td>    0.2710</td><td>    0.2767000</td><td>    0.2767000</td></tr>\n",
       "\t<tr><th scope=row>dim</th><td>        NA</td><td>    9.0000</td><td>   10.0000</td><td>    9.0000</td><td>   10.0000000</td><td>   10.0000000</td></tr>\n",
       "\t<tr><th scope=row>logmarg</th><td>        NA</td><td>-1490.0530</td><td>-1490.0530</td><td>-1490.0530</td><td>-1490.7032349</td><td>-1490.7032349</td></tr>\n",
       "</tbody>\n",
       "</table>\n"
      ],
      "text/latex": [
       "A matrix: 22 × 6 of type dbl\n",
       "\\begin{tabular}{r|llllll}\n",
       "  & P(B != 0 \\textbar{} Y) & model 1 & model 2 & model 3 & model 4 & model 5\\\\\n",
       "\\hline\n",
       "\tIntercept & 1.00000000 &     1.0000 &     1.0000 &     1.0000 &     1.0000000 &     1.0000000\\\\\n",
       "\thours & 0.85234234 &     1.0000 &     1.0000 &     1.0000 &     1.0000000 &     1.0000000\\\\\n",
       "\tiq & 0.64217314 &     1.0000 &     1.0000 &     0.0000 &     0.0000000 &     1.0000000\\\\\n",
       "\tkww & 0.31864939 &     0.0000 &     0.0000 &     0.0000 &     0.0000000 &     0.0000000\\\\\n",
       "\teduc & 0.99878876 &     1.0000 &     1.0000 &     1.0000 &     1.0000000 &     1.0000000\\\\\n",
       "\texper & 0.69642238 &     0.0000 &     0.0000 &     0.0000 &     1.0000000 &     1.0000000\\\\\n",
       "\ttenure & 0.70896475 &     1.0000 &     1.0000 &     1.0000 &     1.0000000 &     1.0000000\\\\\n",
       "\tage & 0.55016766 &     1.0000 &     1.0000 &     1.0000 &     1.0000000 &     1.0000000\\\\\n",
       "\tmarried1 & 0.99896746 &     1.0000 &     1.0000 &     1.0000 &     1.0000000 &     1.0000000\\\\\n",
       "\tblack1 & 0.32364267 &     0.0000 &     0.0000 &     0.0000 &     0.0000000 &     0.0000000\\\\\n",
       "\tsouth1 & 0.30899335 &     0.0000 &     0.0000 &     0.0000 &     0.0000000 &     0.0000000\\\\\n",
       "\turban1 & 0.99999985 &     1.0000 &     1.0000 &     1.0000 &     1.0000000 &     1.0000000\\\\\n",
       "\tsibs & 0.04140032 &     0.0000 &     0.0000 &     0.0000 &     0.0000000 &     0.0000000\\\\\n",
       "\tbrthord & 0.12065957 &     0.0000 &     0.0000 &     0.0000 &     0.0000000 &     0.0000000\\\\\n",
       "\tmeduc & 0.57085955 &     1.0000 &     1.0000 &     1.0000 &     1.0000000 &     1.0000000\\\\\n",
       "\tfeduc & 0.23318528 &     0.0000 &     0.0000 &     0.0000 &     0.0000000 &     0.0000000\\\\\n",
       "\tz\\_iq & 0.64217314 &     0.0000 &     1.0000 &     1.0000 &     1.0000000 &     0.0000000\\\\\n",
       "\tBF &         NA &     1.0000 &     1.0000 &     1.0000 &     0.5219483 &     0.5219483\\\\\n",
       "\tPostProbs &         NA &     0.0163 &     0.0163 &     0.0163 &     0.0085000 &     0.0085000\\\\\n",
       "\tR2 &         NA &     0.2710 &     0.2710 &     0.2710 &     0.2767000 &     0.2767000\\\\\n",
       "\tdim &         NA &     9.0000 &    10.0000 &     9.0000 &    10.0000000 &    10.0000000\\\\\n",
       "\tlogmarg &         NA & -1490.0530 & -1490.0530 & -1490.0530 & -1490.7032349 & -1490.7032349\\\\\n",
       "\\end{tabular}\n"
      ],
      "text/markdown": [
       "\n",
       "A matrix: 22 × 6 of type dbl\n",
       "\n",
       "| <!--/--> | P(B != 0 | Y) | model 1 | model 2 | model 3 | model 4 | model 5 |\n",
       "|---|---|---|---|---|---|---|\n",
       "| Intercept | 1.00000000 |     1.0000 |     1.0000 |     1.0000 |     1.0000000 |     1.0000000 |\n",
       "| hours | 0.85234234 |     1.0000 |     1.0000 |     1.0000 |     1.0000000 |     1.0000000 |\n",
       "| iq | 0.64217314 |     1.0000 |     1.0000 |     0.0000 |     0.0000000 |     1.0000000 |\n",
       "| kww | 0.31864939 |     0.0000 |     0.0000 |     0.0000 |     0.0000000 |     0.0000000 |\n",
       "| educ | 0.99878876 |     1.0000 |     1.0000 |     1.0000 |     1.0000000 |     1.0000000 |\n",
       "| exper | 0.69642238 |     0.0000 |     0.0000 |     0.0000 |     1.0000000 |     1.0000000 |\n",
       "| tenure | 0.70896475 |     1.0000 |     1.0000 |     1.0000 |     1.0000000 |     1.0000000 |\n",
       "| age | 0.55016766 |     1.0000 |     1.0000 |     1.0000 |     1.0000000 |     1.0000000 |\n",
       "| married1 | 0.99896746 |     1.0000 |     1.0000 |     1.0000 |     1.0000000 |     1.0000000 |\n",
       "| black1 | 0.32364267 |     0.0000 |     0.0000 |     0.0000 |     0.0000000 |     0.0000000 |\n",
       "| south1 | 0.30899335 |     0.0000 |     0.0000 |     0.0000 |     0.0000000 |     0.0000000 |\n",
       "| urban1 | 0.99999985 |     1.0000 |     1.0000 |     1.0000 |     1.0000000 |     1.0000000 |\n",
       "| sibs | 0.04140032 |     0.0000 |     0.0000 |     0.0000 |     0.0000000 |     0.0000000 |\n",
       "| brthord | 0.12065957 |     0.0000 |     0.0000 |     0.0000 |     0.0000000 |     0.0000000 |\n",
       "| meduc | 0.57085955 |     1.0000 |     1.0000 |     1.0000 |     1.0000000 |     1.0000000 |\n",
       "| feduc | 0.23318528 |     0.0000 |     0.0000 |     0.0000 |     0.0000000 |     0.0000000 |\n",
       "| z_iq | 0.64217314 |     0.0000 |     1.0000 |     1.0000 |     1.0000000 |     0.0000000 |\n",
       "| BF |         NA |     1.0000 |     1.0000 |     1.0000 |     0.5219483 |     0.5219483 |\n",
       "| PostProbs |         NA |     0.0163 |     0.0163 |     0.0163 |     0.0085000 |     0.0085000 |\n",
       "| R2 |         NA |     0.2710 |     0.2710 |     0.2710 |     0.2767000 |     0.2767000 |\n",
       "| dim |         NA |     9.0000 |    10.0000 |     9.0000 |    10.0000000 |    10.0000000 |\n",
       "| logmarg |         NA | -1490.0530 | -1490.0530 | -1490.0530 | -1490.7032349 | -1490.7032349 |\n",
       "\n"
      ],
      "text/plain": [
       "          P(B != 0 | Y) model 1    model 2    model 3    model 4      \n",
       "Intercept 1.00000000        1.0000     1.0000     1.0000     1.0000000\n",
       "hours     0.85234234        1.0000     1.0000     1.0000     1.0000000\n",
       "iq        0.64217314        1.0000     1.0000     0.0000     0.0000000\n",
       "kww       0.31864939        0.0000     0.0000     0.0000     0.0000000\n",
       "educ      0.99878876        1.0000     1.0000     1.0000     1.0000000\n",
       "exper     0.69642238        0.0000     0.0000     0.0000     1.0000000\n",
       "tenure    0.70896475        1.0000     1.0000     1.0000     1.0000000\n",
       "age       0.55016766        1.0000     1.0000     1.0000     1.0000000\n",
       "married1  0.99896746        1.0000     1.0000     1.0000     1.0000000\n",
       "black1    0.32364267        0.0000     0.0000     0.0000     0.0000000\n",
       "south1    0.30899335        0.0000     0.0000     0.0000     0.0000000\n",
       "urban1    0.99999985        1.0000     1.0000     1.0000     1.0000000\n",
       "sibs      0.04140032        0.0000     0.0000     0.0000     0.0000000\n",
       "brthord   0.12065957        0.0000     0.0000     0.0000     0.0000000\n",
       "meduc     0.57085955        1.0000     1.0000     1.0000     1.0000000\n",
       "feduc     0.23318528        0.0000     0.0000     0.0000     0.0000000\n",
       "z_iq      0.64217314        0.0000     1.0000     1.0000     1.0000000\n",
       "BF                NA        1.0000     1.0000     1.0000     0.5219483\n",
       "PostProbs         NA        0.0163     0.0163     0.0163     0.0085000\n",
       "R2                NA        0.2710     0.2710     0.2710     0.2767000\n",
       "dim               NA        9.0000    10.0000     9.0000    10.0000000\n",
       "logmarg           NA    -1490.0530 -1490.0530 -1490.0530 -1490.7032349\n",
       "          model 5      \n",
       "Intercept     1.0000000\n",
       "hours         1.0000000\n",
       "iq            1.0000000\n",
       "kww           0.0000000\n",
       "educ          1.0000000\n",
       "exper         1.0000000\n",
       "tenure        1.0000000\n",
       "age           1.0000000\n",
       "married1      1.0000000\n",
       "black1        0.0000000\n",
       "south1        0.0000000\n",
       "urban1        1.0000000\n",
       "sibs          0.0000000\n",
       "brthord       0.0000000\n",
       "meduc         1.0000000\n",
       "feduc         0.0000000\n",
       "z_iq          0.0000000\n",
       "BF            0.5219483\n",
       "PostProbs     0.0085000\n",
       "R2            0.2767000\n",
       "dim          10.0000000\n",
       "logmarg   -1490.7032349"
      ]
     },
     "metadata": {},
     "output_type": "display_data"
    }
   ],
   "source": [
    "# Exclude observations with missing values in the data set\n",
    "wage_no_na <- na.omit(wage)\n",
    "\n",
    "# Fit the model using Bayesian linear regression, `bas.lm` function in the `BAS` package\n",
    "bma_lwage <- bas.lm(lwage ~ . -wage, data = wage_no_na,\n",
    "                   prior = \"BIC\", \n",
    "                   modelprior = uniform())\n",
    "\n",
    "# Print out the marginal posterior inclusion probabilities for each variable                \n",
    "bma_lwage\n",
    "\n",
    "# Top 5 most probably models\n",
    "summary(bma_lwage)"
   ]
  },
  {
   "cell_type": "markdown",
   "metadata": {},
   "source": [
    "Printing the model object and the summary command gives us both the posterior \n",
    "model inclusion probability for each variable and the most probable models. For \n",
    "example, the posterior probability that `hours` is included in the model is \n",
    "0.855. Further, the most likely model, which has posterior probability of 0.0455, \n",
    "includes an intercept, hours worked, IQ, education, tenure, age, marital status, \n",
    "urban living status, and mother's education. While a posterior probability of \n",
    "0.0455 sounds small, it is much larger than the uniform prior probability \n",
    "assigned to it, since there are $2^{15}$ possible models. \n",
    "\n",
    "It is also possible to visualize the posterior distribution of the coefficients \n",
    "under the model averaging approach. We graph the posterior distribution of the \n",
    "coefficients of `iq` and `sibs` below. Note that the subset command dictates \n",
    "which variable is plotted."
   ]
  },
  {
   "cell_type": "code",
   "execution_count": 48,
   "metadata": {},
   "outputs": [
    {
     "data": {
      "image/png": "[encoded data removed]",
      "text/plain": [
       "Plot with title \"iq\""
      ]
     },
     "metadata": {
      "image/png": {
       "height": 420,
       "width": 420
      },
      "text/plain": {
       "height": 420,
       "width": 420
      }
     },
     "output_type": "display_data"
    },
    {
     "data": {
      "image/png": "[encoded data removed]",
      "text/plain": [
       "Plot with title \"sibs\""
      ]
     },
     "metadata": {
      "image/png": {
       "height": 420,
       "width": 420
      },
      "text/plain": {
       "height": 420,
       "width": 420
      }
     },
     "output_type": "display_data"
    }
   ],
   "source": [
    "# Obtain the coefficients from the model `bma_lwage`\n",
    "coef_lwage <- coefficients(bma_lwage)\n",
    "\n",
    "# `iq` is the 3rd variable, while `sibs` is the 13th variable in the data set\n",
    "plot(coef_lwage, subset = c(3,13), ask = FALSE)"
   ]
  },
  {
   "cell_type": "markdown",
   "metadata": {},
   "source": [
    "We can also provide 95% credible intervals for these coefficients:"
   ]
  },
  {
   "cell_type": "code",
   "execution_count": 49,
   "metadata": {},
   "outputs": [
    {
     "data": {
      "text/plain": [
       "                   2.5%       97.5%          beta\n",
       "Intercept  6.786452e+00 6.839981299  6.814297e+00\n",
       "hours     -9.283565e-03 0.000000000 -5.272412e-03\n",
       "iq         0.000000e+00 0.006076918  2.718290e-03\n",
       "kww        0.000000e+00 0.008067752  1.732611e-03\n",
       "educ       2.152987e-02 0.063925349  4.325343e-02\n",
       "exper      0.000000e+00 0.021144668  9.805838e-03\n",
       "tenure    -1.560431e-06 0.012818219  5.990298e-03\n",
       "age        0.000000e+00 0.025771241  9.462841e-03\n",
       "married1   1.174568e-01 0.299502855  2.094388e-01\n",
       "black1    -1.840640e-01 0.000000000 -4.003230e-02\n",
       "south1    -9.975219e-02 0.000000000 -2.108410e-02\n",
       "urban1     1.376859e-01 0.261674954  1.983711e-01\n",
       "sibs       0.000000e+00 0.000000000  1.960587e-05\n",
       "brthord   -1.901691e-02 0.000000000 -1.904623e-03\n",
       "meduc      0.000000e+00 0.022766908  8.612548e-03\n",
       "feduc      0.000000e+00 0.015728283  2.516208e-03\n",
       "z_iq       0.000000e+00 0.083423230  2.045872e-02\n",
       "attr(,\"Probability\")\n",
       "[1] 0.95\n",
       "attr(,\"class\")\n",
       "[1] \"confint.bas\""
      ]
     },
     "metadata": {},
     "output_type": "display_data"
    }
   ],
   "source": [
    "confint(coef_lwage)"
   ]
  },
  {
   "cell_type": "markdown",
   "metadata": {},
   "source": [
    "For Questions 9-10, we'll use a reduced data set which excludes wage, number \n",
    "of siblings, birth order, and parental education."
   ]
  },
  {
   "cell_type": "code",
   "execution_count": 50,
   "metadata": {},
   "outputs": [],
   "source": [
    "wage_red <- wage %>%\n",
    "  select(-wage, -sibs, -brthord, -meduc, -feduc)"
   ]
  },
  {
   "cell_type": "markdown",
   "metadata": {},
   "source": [
    "Let's use BMA with the Zellner-Siow prior on the regression coefficients:"
   ]
  },
  {
   "cell_type": "code",
   "execution_count": 51,
   "metadata": {},
   "outputs": [],
   "source": [
    "bma_lwage_red <- bas.lm(lwage ~ ., data = wage_red, prior = \"ZS-null\", modelprior = uniform())"
   ]
  },
  {
   "cell_type": "markdown",
   "metadata": {},
   "source": [
    "**Based on this reduced data set, according to Bayesian model averaging, which of \n",
    "the following variables has the lowest marginal posterior inclusion probability?**"
   ]
  },
  {
   "cell_type": "code",
   "execution_count": 52,
   "metadata": {},
   "outputs": [
    {
     "data": {
      "text/plain": [
       "\n",
       "Call:\n",
       "bas.lm(formula = lwage ~ ., data = wage_red_no_na, prior = \"BIC\", \n",
       "    modelprior = uniform())\n",
       "\n",
       "\n",
       " Marginal Posterior Inclusion Probabilities: \n",
       "Intercept      hours         iq        kww       educ      exper     tenure  \n",
       "   1.0000     0.8676     0.6472     0.2974     1.0000     0.9319     0.9980  \n",
       "      age   married1     black1     south1     urban1       z_iq  \n",
       "   0.1851     0.9999     0.9748     0.8075     1.0000     0.6472  "
      ]
     },
     "metadata": {},
     "output_type": "display_data"
    }
   ],
   "source": [
    "wage_red_no_na <- na.omit(wage_red)\n",
    "\n",
    "bma_lwage2 <- bas.lm(lwage ~ ., data = wage_red_no_na, prior = \"BIC\", modelprior = uniform())\n",
    "bma_lwage2"
   ]
  },
  {
   "cell_type": "code",
   "execution_count": 53,
   "metadata": {},
   "outputs": [
    {
     "data": {
      "text/html": [
       "<table>\n",
       "<caption>A matrix: 18 × 6 of type dbl</caption>\n",
       "<thead>\n",
       "\t<tr><th></th><th scope=col>P(B != 0 | Y)</th><th scope=col>model 1</th><th scope=col>model 2</th><th scope=col>model 3</th><th scope=col>model 4</th><th scope=col>model 5</th></tr>\n",
       "</thead>\n",
       "<tbody>\n",
       "\t<tr><th scope=row>Intercept</th><td>1.0000000</td><td>    1.0000</td><td>    1.0000</td><td>    1.0000</td><td>    1.0000000</td><td>    1.0000000</td></tr>\n",
       "\t<tr><th scope=row>hours</th><td>0.8675619</td><td>    1.0000</td><td>    1.0000</td><td>    1.0000</td><td>    1.0000000</td><td>    1.0000000</td></tr>\n",
       "\t<tr><th scope=row>iq</th><td>0.6471819</td><td>    1.0000</td><td>    1.0000</td><td>    0.0000</td><td>    1.0000000</td><td>    0.0000000</td></tr>\n",
       "\t<tr><th scope=row>kww</th><td>0.2973739</td><td>    0.0000</td><td>    0.0000</td><td>    0.0000</td><td>    1.0000000</td><td>    1.0000000</td></tr>\n",
       "\t<tr><th scope=row>educ</th><td>1.0000000</td><td>    1.0000</td><td>    1.0000</td><td>    1.0000</td><td>    1.0000000</td><td>    1.0000000</td></tr>\n",
       "\t<tr><th scope=row>exper</th><td>0.9319256</td><td>    1.0000</td><td>    1.0000</td><td>    1.0000</td><td>    1.0000000</td><td>    1.0000000</td></tr>\n",
       "\t<tr><th scope=row>tenure</th><td>0.9980101</td><td>    1.0000</td><td>    1.0000</td><td>    1.0000</td><td>    1.0000000</td><td>    1.0000000</td></tr>\n",
       "\t<tr><th scope=row>age</th><td>0.1850599</td><td>    0.0000</td><td>    0.0000</td><td>    0.0000</td><td>    0.0000000</td><td>    0.0000000</td></tr>\n",
       "\t<tr><th scope=row>married1</th><td>0.9999401</td><td>    1.0000</td><td>    1.0000</td><td>    1.0000</td><td>    1.0000000</td><td>    1.0000000</td></tr>\n",
       "\t<tr><th scope=row>black1</th><td>0.9747933</td><td>    1.0000</td><td>    1.0000</td><td>    1.0000</td><td>    1.0000000</td><td>    1.0000000</td></tr>\n",
       "\t<tr><th scope=row>south1</th><td>0.8074565</td><td>    1.0000</td><td>    1.0000</td><td>    1.0000</td><td>    1.0000000</td><td>    1.0000000</td></tr>\n",
       "\t<tr><th scope=row>urban1</th><td>1.0000000</td><td>    1.0000</td><td>    1.0000</td><td>    1.0000</td><td>    1.0000000</td><td>    1.0000000</td></tr>\n",
       "\t<tr><th scope=row>z_iq</th><td>0.6471819</td><td>    1.0000</td><td>    0.0000</td><td>    1.0000</td><td>    0.0000000</td><td>    1.0000000</td></tr>\n",
       "\t<tr><th scope=row>BF</th><td>       NA</td><td>    1.0000</td><td>    1.0000</td><td>    1.0000</td><td>    0.5089209</td><td>    0.5089209</td></tr>\n",
       "\t<tr><th scope=row>PostProbs</th><td>       NA</td><td>    0.1168</td><td>    0.1168</td><td>    0.1168</td><td>    0.0595000</td><td>    0.0595000</td></tr>\n",
       "\t<tr><th scope=row>R2</th><td>       NA</td><td>    0.2708</td><td>    0.2708</td><td>    0.2708</td><td>    0.2751000</td><td>    0.2751000</td></tr>\n",
       "\t<tr><th scope=row>dim</th><td>       NA</td><td>   11.0000</td><td>   10.0000</td><td>   10.0000</td><td>   11.0000000</td><td>   11.0000000</td></tr>\n",
       "\t<tr><th scope=row>logmarg</th><td>       NA</td><td>-2275.4209</td><td>-2275.4209</td><td>-2275.4209</td><td>-2276.0963811</td><td>-2276.0963811</td></tr>\n",
       "</tbody>\n",
       "</table>\n"
      ],
      "text/latex": [
       "A matrix: 18 × 6 of type dbl\n",
       "\\begin{tabular}{r|llllll}\n",
       "  & P(B != 0 \\textbar{} Y) & model 1 & model 2 & model 3 & model 4 & model 5\\\\\n",
       "\\hline\n",
       "\tIntercept & 1.0000000 &     1.0000 &     1.0000 &     1.0000 &     1.0000000 &     1.0000000\\\\\n",
       "\thours & 0.8675619 &     1.0000 &     1.0000 &     1.0000 &     1.0000000 &     1.0000000\\\\\n",
       "\tiq & 0.6471819 &     1.0000 &     1.0000 &     0.0000 &     1.0000000 &     0.0000000\\\\\n",
       "\tkww & 0.2973739 &     0.0000 &     0.0000 &     0.0000 &     1.0000000 &     1.0000000\\\\\n",
       "\teduc & 1.0000000 &     1.0000 &     1.0000 &     1.0000 &     1.0000000 &     1.0000000\\\\\n",
       "\texper & 0.9319256 &     1.0000 &     1.0000 &     1.0000 &     1.0000000 &     1.0000000\\\\\n",
       "\ttenure & 0.9980101 &     1.0000 &     1.0000 &     1.0000 &     1.0000000 &     1.0000000\\\\\n",
       "\tage & 0.1850599 &     0.0000 &     0.0000 &     0.0000 &     0.0000000 &     0.0000000\\\\\n",
       "\tmarried1 & 0.9999401 &     1.0000 &     1.0000 &     1.0000 &     1.0000000 &     1.0000000\\\\\n",
       "\tblack1 & 0.9747933 &     1.0000 &     1.0000 &     1.0000 &     1.0000000 &     1.0000000\\\\\n",
       "\tsouth1 & 0.8074565 &     1.0000 &     1.0000 &     1.0000 &     1.0000000 &     1.0000000\\\\\n",
       "\turban1 & 1.0000000 &     1.0000 &     1.0000 &     1.0000 &     1.0000000 &     1.0000000\\\\\n",
       "\tz\\_iq & 0.6471819 &     1.0000 &     0.0000 &     1.0000 &     0.0000000 &     1.0000000\\\\\n",
       "\tBF &        NA &     1.0000 &     1.0000 &     1.0000 &     0.5089209 &     0.5089209\\\\\n",
       "\tPostProbs &        NA &     0.1168 &     0.1168 &     0.1168 &     0.0595000 &     0.0595000\\\\\n",
       "\tR2 &        NA &     0.2708 &     0.2708 &     0.2708 &     0.2751000 &     0.2751000\\\\\n",
       "\tdim &        NA &    11.0000 &    10.0000 &    10.0000 &    11.0000000 &    11.0000000\\\\\n",
       "\tlogmarg &        NA & -2275.4209 & -2275.4209 & -2275.4209 & -2276.0963811 & -2276.0963811\\\\\n",
       "\\end{tabular}\n"
      ],
      "text/markdown": [
       "\n",
       "A matrix: 18 × 6 of type dbl\n",
       "\n",
       "| <!--/--> | P(B != 0 | Y) | model 1 | model 2 | model 3 | model 4 | model 5 |\n",
       "|---|---|---|---|---|---|---|\n",
       "| Intercept | 1.0000000 |     1.0000 |     1.0000 |     1.0000 |     1.0000000 |     1.0000000 |\n",
       "| hours | 0.8675619 |     1.0000 |     1.0000 |     1.0000 |     1.0000000 |     1.0000000 |\n",
       "| iq | 0.6471819 |     1.0000 |     1.0000 |     0.0000 |     1.0000000 |     0.0000000 |\n",
       "| kww | 0.2973739 |     0.0000 |     0.0000 |     0.0000 |     1.0000000 |     1.0000000 |\n",
       "| educ | 1.0000000 |     1.0000 |     1.0000 |     1.0000 |     1.0000000 |     1.0000000 |\n",
       "| exper | 0.9319256 |     1.0000 |     1.0000 |     1.0000 |     1.0000000 |     1.0000000 |\n",
       "| tenure | 0.9980101 |     1.0000 |     1.0000 |     1.0000 |     1.0000000 |     1.0000000 |\n",
       "| age | 0.1850599 |     0.0000 |     0.0000 |     0.0000 |     0.0000000 |     0.0000000 |\n",
       "| married1 | 0.9999401 |     1.0000 |     1.0000 |     1.0000 |     1.0000000 |     1.0000000 |\n",
       "| black1 | 0.9747933 |     1.0000 |     1.0000 |     1.0000 |     1.0000000 |     1.0000000 |\n",
       "| south1 | 0.8074565 |     1.0000 |     1.0000 |     1.0000 |     1.0000000 |     1.0000000 |\n",
       "| urban1 | 1.0000000 |     1.0000 |     1.0000 |     1.0000 |     1.0000000 |     1.0000000 |\n",
       "| z_iq | 0.6471819 |     1.0000 |     0.0000 |     1.0000 |     0.0000000 |     1.0000000 |\n",
       "| BF |        NA |     1.0000 |     1.0000 |     1.0000 |     0.5089209 |     0.5089209 |\n",
       "| PostProbs |        NA |     0.1168 |     0.1168 |     0.1168 |     0.0595000 |     0.0595000 |\n",
       "| R2 |        NA |     0.2708 |     0.2708 |     0.2708 |     0.2751000 |     0.2751000 |\n",
       "| dim |        NA |    11.0000 |    10.0000 |    10.0000 |    11.0000000 |    11.0000000 |\n",
       "| logmarg |        NA | -2275.4209 | -2275.4209 | -2275.4209 | -2276.0963811 | -2276.0963811 |\n",
       "\n"
      ],
      "text/plain": [
       "          P(B != 0 | Y) model 1    model 2    model 3    model 4      \n",
       "Intercept 1.0000000         1.0000     1.0000     1.0000     1.0000000\n",
       "hours     0.8675619         1.0000     1.0000     1.0000     1.0000000\n",
       "iq        0.6471819         1.0000     1.0000     0.0000     1.0000000\n",
       "kww       0.2973739         0.0000     0.0000     0.0000     1.0000000\n",
       "educ      1.0000000         1.0000     1.0000     1.0000     1.0000000\n",
       "exper     0.9319256         1.0000     1.0000     1.0000     1.0000000\n",
       "tenure    0.9980101         1.0000     1.0000     1.0000     1.0000000\n",
       "age       0.1850599         0.0000     0.0000     0.0000     0.0000000\n",
       "married1  0.9999401         1.0000     1.0000     1.0000     1.0000000\n",
       "black1    0.9747933         1.0000     1.0000     1.0000     1.0000000\n",
       "south1    0.8074565         1.0000     1.0000     1.0000     1.0000000\n",
       "urban1    1.0000000         1.0000     1.0000     1.0000     1.0000000\n",
       "z_iq      0.6471819         1.0000     0.0000     1.0000     0.0000000\n",
       "BF               NA         1.0000     1.0000     1.0000     0.5089209\n",
       "PostProbs        NA         0.1168     0.1168     0.1168     0.0595000\n",
       "R2               NA         0.2708     0.2708     0.2708     0.2751000\n",
       "dim              NA        11.0000    10.0000    10.0000    11.0000000\n",
       "logmarg          NA     -2275.4209 -2275.4209 -2275.4209 -2276.0963811\n",
       "          model 5      \n",
       "Intercept     1.0000000\n",
       "hours         1.0000000\n",
       "iq            0.0000000\n",
       "kww           1.0000000\n",
       "educ          1.0000000\n",
       "exper         1.0000000\n",
       "tenure        1.0000000\n",
       "age           0.0000000\n",
       "married1      1.0000000\n",
       "black1        1.0000000\n",
       "south1        1.0000000\n",
       "urban1        1.0000000\n",
       "z_iq          1.0000000\n",
       "BF            0.5089209\n",
       "PostProbs     0.0595000\n",
       "R2            0.2751000\n",
       "dim          11.0000000\n",
       "logmarg   -2276.0963811"
      ]
     },
     "metadata": {},
     "output_type": "display_data"
    }
   ],
   "source": [
    "summary(bma_lwage2)"
   ]
  },
  {
   "cell_type": "markdown",
   "metadata": {},
   "source": [
    "    Answer: 'age'."
   ]
  },
  {
   "cell_type": "markdown",
   "metadata": {},
   "source": [
    "**Question: *True* or *False*: The naive model with all variables included has posterior probability greater than 0.5.**"
   ]
  },
  {
   "cell_type": "code",
   "execution_count": 54,
   "metadata": {},
   "outputs": [
    {
     "data": {
      "text/plain": [
       "\n",
       "Call:\n",
       "bas.lm(formula = lwage ~ . - wage, data = wage_no_na, prior = \"ZS-null\", \n",
       "    modelprior = uniform())\n",
       "\n",
       "\n",
       " Marginal Posterior Inclusion Probabilities: \n",
       "Intercept      hours         iq        kww       educ      exper     tenure  \n",
       "   1.0000     0.9404     0.6468     0.4499     0.9995     0.7879     0.8087  \n",
       "      age   married1     black1     south1     urban1       sibs    brthord  \n",
       "   0.5943     0.9995     0.4822     0.4708     1.0000     0.1126     0.2411  \n",
       "    meduc      feduc       z_iq  \n",
       "   0.6445     0.3300     0.6468  "
      ]
     },
     "metadata": {},
     "output_type": "display_data"
    }
   ],
   "source": [
    "wage_no_na = na.omit(wage)\n",
    "bma_lwage = bas.lm(lwage ~ . -wage, data = wage_no_na, prior = \"ZS-null\", modelprior = uniform())\n",
    "bma_lwage"
   ]
  },
  {
   "cell_type": "code",
   "execution_count": 55,
   "metadata": {},
   "outputs": [
    {
     "data": {
      "text/html": [
       "<table>\n",
       "<caption>A matrix: 22 × 6 of type dbl</caption>\n",
       "<thead>\n",
       "\t<tr><th></th><th scope=col>P(B != 0 | Y)</th><th scope=col>model 1</th><th scope=col>model 2</th><th scope=col>model 3</th><th scope=col>model 4</th><th scope=col>model 5</th></tr>\n",
       "</thead>\n",
       "<tbody>\n",
       "\t<tr><th scope=row>Intercept</th><td>1.0000000</td><td> 1.00000</td><td> 1.00000</td><td> 1.00000</td><td> 1.0000000</td><td> 1.0000000</td></tr>\n",
       "\t<tr><th scope=row>hours</th><td>0.9403577</td><td> 1.00000</td><td> 1.00000</td><td> 1.00000</td><td> 1.0000000</td><td> 1.0000000</td></tr>\n",
       "\t<tr><th scope=row>iq</th><td>0.6467805</td><td> 1.00000</td><td> 1.00000</td><td> 0.00000</td><td> 0.0000000</td><td> 1.0000000</td></tr>\n",
       "\t<tr><th scope=row>kww</th><td>0.4499473</td><td> 0.00000</td><td> 0.00000</td><td> 0.00000</td><td> 1.0000000</td><td> 1.0000000</td></tr>\n",
       "\t<tr><th scope=row>educ</th><td>0.9995308</td><td> 1.00000</td><td> 1.00000</td><td> 1.00000</td><td> 1.0000000</td><td> 1.0000000</td></tr>\n",
       "\t<tr><th scope=row>exper</th><td>0.7879441</td><td> 1.00000</td><td> 1.00000</td><td> 1.00000</td><td> 1.0000000</td><td> 1.0000000</td></tr>\n",
       "\t<tr><th scope=row>tenure</th><td>0.8086610</td><td> 1.00000</td><td> 1.00000</td><td> 1.00000</td><td> 1.0000000</td><td> 1.0000000</td></tr>\n",
       "\t<tr><th scope=row>age</th><td>0.5943058</td><td> 1.00000</td><td> 1.00000</td><td> 1.00000</td><td> 0.0000000</td><td> 0.0000000</td></tr>\n",
       "\t<tr><th scope=row>married1</th><td>0.9995018</td><td> 1.00000</td><td> 1.00000</td><td> 1.00000</td><td> 1.0000000</td><td> 1.0000000</td></tr>\n",
       "\t<tr><th scope=row>black1</th><td>0.4822493</td><td> 1.00000</td><td> 1.00000</td><td> 1.00000</td><td> 0.0000000</td><td> 0.0000000</td></tr>\n",
       "\t<tr><th scope=row>south1</th><td>0.4707976</td><td> 0.00000</td><td> 0.00000</td><td> 0.00000</td><td> 1.0000000</td><td> 1.0000000</td></tr>\n",
       "\t<tr><th scope=row>urban1</th><td>0.9999999</td><td> 1.00000</td><td> 1.00000</td><td> 1.00000</td><td> 1.0000000</td><td> 1.0000000</td></tr>\n",
       "\t<tr><th scope=row>sibs</th><td>0.1126149</td><td> 0.00000</td><td> 0.00000</td><td> 0.00000</td><td> 0.0000000</td><td> 0.0000000</td></tr>\n",
       "\t<tr><th scope=row>brthord</th><td>0.2411275</td><td> 0.00000</td><td> 0.00000</td><td> 0.00000</td><td> 0.0000000</td><td> 0.0000000</td></tr>\n",
       "\t<tr><th scope=row>meduc</th><td>0.6444878</td><td> 1.00000</td><td> 1.00000</td><td> 1.00000</td><td> 1.0000000</td><td> 1.0000000</td></tr>\n",
       "\t<tr><th scope=row>feduc</th><td>0.3300014</td><td> 0.00000</td><td> 0.00000</td><td> 0.00000</td><td> 0.0000000</td><td> 0.0000000</td></tr>\n",
       "\t<tr><th scope=row>z_iq</th><td>0.6467805</td><td> 0.00000</td><td> 1.00000</td><td> 1.00000</td><td> 1.0000000</td><td> 1.0000000</td></tr>\n",
       "\t<tr><th scope=row>BF</th><td>       NA</td><td> 1.00000</td><td> 1.00000</td><td> 1.00000</td><td> 0.9664669</td><td> 0.9664669</td></tr>\n",
       "\t<tr><th scope=row>PostProbs</th><td>       NA</td><td> 0.00770</td><td> 0.00770</td><td> 0.00770</td><td> 0.0074000</td><td> 0.0074000</td></tr>\n",
       "\t<tr><th scope=row>R2</th><td>       NA</td><td> 0.28210</td><td> 0.28210</td><td> 0.28210</td><td> 0.2821000</td><td> 0.2821000</td></tr>\n",
       "\t<tr><th scope=row>dim</th><td>       NA</td><td>11.00000</td><td>12.00000</td><td>11.00000</td><td>11.0000000</td><td>12.0000000</td></tr>\n",
       "\t<tr><th scope=row>logmarg</th><td>       NA</td><td>82.05395</td><td>82.05395</td><td>82.05395</td><td>82.0198452</td><td>82.0198452</td></tr>\n",
       "</tbody>\n",
       "</table>\n"
      ],
      "text/latex": [
       "A matrix: 22 × 6 of type dbl\n",
       "\\begin{tabular}{r|llllll}\n",
       "  & P(B != 0 \\textbar{} Y) & model 1 & model 2 & model 3 & model 4 & model 5\\\\\n",
       "\\hline\n",
       "\tIntercept & 1.0000000 &  1.00000 &  1.00000 &  1.00000 &  1.0000000 &  1.0000000\\\\\n",
       "\thours & 0.9403577 &  1.00000 &  1.00000 &  1.00000 &  1.0000000 &  1.0000000\\\\\n",
       "\tiq & 0.6467805 &  1.00000 &  1.00000 &  0.00000 &  0.0000000 &  1.0000000\\\\\n",
       "\tkww & 0.4499473 &  0.00000 &  0.00000 &  0.00000 &  1.0000000 &  1.0000000\\\\\n",
       "\teduc & 0.9995308 &  1.00000 &  1.00000 &  1.00000 &  1.0000000 &  1.0000000\\\\\n",
       "\texper & 0.7879441 &  1.00000 &  1.00000 &  1.00000 &  1.0000000 &  1.0000000\\\\\n",
       "\ttenure & 0.8086610 &  1.00000 &  1.00000 &  1.00000 &  1.0000000 &  1.0000000\\\\\n",
       "\tage & 0.5943058 &  1.00000 &  1.00000 &  1.00000 &  0.0000000 &  0.0000000\\\\\n",
       "\tmarried1 & 0.9995018 &  1.00000 &  1.00000 &  1.00000 &  1.0000000 &  1.0000000\\\\\n",
       "\tblack1 & 0.4822493 &  1.00000 &  1.00000 &  1.00000 &  0.0000000 &  0.0000000\\\\\n",
       "\tsouth1 & 0.4707976 &  0.00000 &  0.00000 &  0.00000 &  1.0000000 &  1.0000000\\\\\n",
       "\turban1 & 0.9999999 &  1.00000 &  1.00000 &  1.00000 &  1.0000000 &  1.0000000\\\\\n",
       "\tsibs & 0.1126149 &  0.00000 &  0.00000 &  0.00000 &  0.0000000 &  0.0000000\\\\\n",
       "\tbrthord & 0.2411275 &  0.00000 &  0.00000 &  0.00000 &  0.0000000 &  0.0000000\\\\\n",
       "\tmeduc & 0.6444878 &  1.00000 &  1.00000 &  1.00000 &  1.0000000 &  1.0000000\\\\\n",
       "\tfeduc & 0.3300014 &  0.00000 &  0.00000 &  0.00000 &  0.0000000 &  0.0000000\\\\\n",
       "\tz\\_iq & 0.6467805 &  0.00000 &  1.00000 &  1.00000 &  1.0000000 &  1.0000000\\\\\n",
       "\tBF &        NA &  1.00000 &  1.00000 &  1.00000 &  0.9664669 &  0.9664669\\\\\n",
       "\tPostProbs &        NA &  0.00770 &  0.00770 &  0.00770 &  0.0074000 &  0.0074000\\\\\n",
       "\tR2 &        NA &  0.28210 &  0.28210 &  0.28210 &  0.2821000 &  0.2821000\\\\\n",
       "\tdim &        NA & 11.00000 & 12.00000 & 11.00000 & 11.0000000 & 12.0000000\\\\\n",
       "\tlogmarg &        NA & 82.05395 & 82.05395 & 82.05395 & 82.0198452 & 82.0198452\\\\\n",
       "\\end{tabular}\n"
      ],
      "text/markdown": [
       "\n",
       "A matrix: 22 × 6 of type dbl\n",
       "\n",
       "| <!--/--> | P(B != 0 | Y) | model 1 | model 2 | model 3 | model 4 | model 5 |\n",
       "|---|---|---|---|---|---|---|\n",
       "| Intercept | 1.0000000 |  1.00000 |  1.00000 |  1.00000 |  1.0000000 |  1.0000000 |\n",
       "| hours | 0.9403577 |  1.00000 |  1.00000 |  1.00000 |  1.0000000 |  1.0000000 |\n",
       "| iq | 0.6467805 |  1.00000 |  1.00000 |  0.00000 |  0.0000000 |  1.0000000 |\n",
       "| kww | 0.4499473 |  0.00000 |  0.00000 |  0.00000 |  1.0000000 |  1.0000000 |\n",
       "| educ | 0.9995308 |  1.00000 |  1.00000 |  1.00000 |  1.0000000 |  1.0000000 |\n",
       "| exper | 0.7879441 |  1.00000 |  1.00000 |  1.00000 |  1.0000000 |  1.0000000 |\n",
       "| tenure | 0.8086610 |  1.00000 |  1.00000 |  1.00000 |  1.0000000 |  1.0000000 |\n",
       "| age | 0.5943058 |  1.00000 |  1.00000 |  1.00000 |  0.0000000 |  0.0000000 |\n",
       "| married1 | 0.9995018 |  1.00000 |  1.00000 |  1.00000 |  1.0000000 |  1.0000000 |\n",
       "| black1 | 0.4822493 |  1.00000 |  1.00000 |  1.00000 |  0.0000000 |  0.0000000 |\n",
       "| south1 | 0.4707976 |  0.00000 |  0.00000 |  0.00000 |  1.0000000 |  1.0000000 |\n",
       "| urban1 | 0.9999999 |  1.00000 |  1.00000 |  1.00000 |  1.0000000 |  1.0000000 |\n",
       "| sibs | 0.1126149 |  0.00000 |  0.00000 |  0.00000 |  0.0000000 |  0.0000000 |\n",
       "| brthord | 0.2411275 |  0.00000 |  0.00000 |  0.00000 |  0.0000000 |  0.0000000 |\n",
       "| meduc | 0.6444878 |  1.00000 |  1.00000 |  1.00000 |  1.0000000 |  1.0000000 |\n",
       "| feduc | 0.3300014 |  0.00000 |  0.00000 |  0.00000 |  0.0000000 |  0.0000000 |\n",
       "| z_iq | 0.6467805 |  0.00000 |  1.00000 |  1.00000 |  1.0000000 |  1.0000000 |\n",
       "| BF |        NA |  1.00000 |  1.00000 |  1.00000 |  0.9664669 |  0.9664669 |\n",
       "| PostProbs |        NA |  0.00770 |  0.00770 |  0.00770 |  0.0074000 |  0.0074000 |\n",
       "| R2 |        NA |  0.28210 |  0.28210 |  0.28210 |  0.2821000 |  0.2821000 |\n",
       "| dim |        NA | 11.00000 | 12.00000 | 11.00000 | 11.0000000 | 12.0000000 |\n",
       "| logmarg |        NA | 82.05395 | 82.05395 | 82.05395 | 82.0198452 | 82.0198452 |\n",
       "\n"
      ],
      "text/plain": [
       "          P(B != 0 | Y) model 1  model 2  model 3  model 4    model 5   \n",
       "Intercept 1.0000000      1.00000  1.00000  1.00000  1.0000000  1.0000000\n",
       "hours     0.9403577      1.00000  1.00000  1.00000  1.0000000  1.0000000\n",
       "iq        0.6467805      1.00000  1.00000  0.00000  0.0000000  1.0000000\n",
       "kww       0.4499473      0.00000  0.00000  0.00000  1.0000000  1.0000000\n",
       "educ      0.9995308      1.00000  1.00000  1.00000  1.0000000  1.0000000\n",
       "exper     0.7879441      1.00000  1.00000  1.00000  1.0000000  1.0000000\n",
       "tenure    0.8086610      1.00000  1.00000  1.00000  1.0000000  1.0000000\n",
       "age       0.5943058      1.00000  1.00000  1.00000  0.0000000  0.0000000\n",
       "married1  0.9995018      1.00000  1.00000  1.00000  1.0000000  1.0000000\n",
       "black1    0.4822493      1.00000  1.00000  1.00000  0.0000000  0.0000000\n",
       "south1    0.4707976      0.00000  0.00000  0.00000  1.0000000  1.0000000\n",
       "urban1    0.9999999      1.00000  1.00000  1.00000  1.0000000  1.0000000\n",
       "sibs      0.1126149      0.00000  0.00000  0.00000  0.0000000  0.0000000\n",
       "brthord   0.2411275      0.00000  0.00000  0.00000  0.0000000  0.0000000\n",
       "meduc     0.6444878      1.00000  1.00000  1.00000  1.0000000  1.0000000\n",
       "feduc     0.3300014      0.00000  0.00000  0.00000  0.0000000  0.0000000\n",
       "z_iq      0.6467805      0.00000  1.00000  1.00000  1.0000000  1.0000000\n",
       "BF               NA      1.00000  1.00000  1.00000  0.9664669  0.9664669\n",
       "PostProbs        NA      0.00770  0.00770  0.00770  0.0074000  0.0074000\n",
       "R2               NA      0.28210  0.28210  0.28210  0.2821000  0.2821000\n",
       "dim              NA     11.00000 12.00000 11.00000 11.0000000 12.0000000\n",
       "logmarg          NA     82.05395 82.05395 82.05395 82.0198452 82.0198452"
      ]
     },
     "metadata": {},
     "output_type": "display_data"
    }
   ],
   "source": [
    "summary(bma_lwage)"
   ]
  },
  {
   "cell_type": "markdown",
   "metadata": {},
   "source": [
    "    Answer:True."
   ]
  },
  {
   "cell_type": "markdown",
   "metadata": {},
   "source": [
    "Because we have log transformed wage, interpretation of coefficients from the \n",
    "output is not as useful for understanding how the different predictors influence \n",
    "wages. Instead we can interpret coefficients after transforming back to the \n",
    "original units by exponentiation. The exponential of the posterior mean is not \n",
    "the same as the mean of the exponential, however, the median of wage can be \n",
    "found by exponentiating the median of log wage (i.e. the middle value is still \n",
    "in the middle with transformations that do not change the order of values).  \n",
    "\n",
    "Let's look at the coefficients and 95% credible intervals"
   ]
  },
  {
   "cell_type": "code",
   "execution_count": 56,
   "metadata": {},
   "outputs": [
    {
     "data": {
      "text/plain": [
       "\n",
       " Marginal Posterior Summaries of Coefficients: \n",
       "\n",
       " Using  BMA \n",
       "\n",
       " Based on the top  4096 models \n",
       "           post mean  post SD    post p(B != 0)\n",
       "Intercept   6.779004   0.011813   1.000000     \n",
       "hours      -0.005146   0.002012   0.948275     \n",
       "iq          0.002222   0.001821   0.654594     \n",
       "kww         0.002032   0.002478   0.486771     \n",
       "educ        0.051419   0.007835   1.000000     \n",
       "exper       0.011782   0.004381   0.950917     \n",
       "tenure      0.010511   0.002490   0.998747     \n",
       "age         0.002457   0.004931   0.275032     \n",
       "married1    0.197511   0.038783   0.999971     \n",
       "black1     -0.146090   0.043943   0.986137     \n",
       "south1     -0.073923   0.033790   0.913555     \n",
       "urban1      0.179189   0.027022   1.000000     \n",
       "z_iq        0.016722   0.025600   0.654594     "
      ]
     },
     "metadata": {},
     "output_type": "display_data"
    }
   ],
   "source": [
    "coef(bma_lwage_red)"
   ]
  },
  {
   "cell_type": "code",
   "execution_count": 57,
   "metadata": {},
   "outputs": [
    {
     "data": {
      "text/plain": [
       "                   2.5%        97.5%         beta\n",
       "Intercept  6.7567275310  6.803194695  6.779003810\n",
       "hours     -0.0081622872  0.000000000 -0.005145829\n",
       "iq         0.0000000000  0.004887178  0.002221780\n",
       "kww        0.0000000000  0.006795113  0.002031719\n",
       "educ       0.0361896081  0.066798934  0.051419085\n",
       "exper      0.0000000000  0.018031157  0.011782139\n",
       "tenure     0.0055646428  0.015244077  0.010511106\n",
       "age       -0.0001253006  0.015177609  0.002456995\n",
       "married1   0.1212628747  0.273112252  0.197511036\n",
       "black1    -0.2321104723 -0.062881608 -0.146090067\n",
       "south1    -0.1233207259  0.000000000 -0.073923108\n",
       "urban1     0.1266652073  0.232643730  0.179189203\n",
       "z_iq       0.0000000000  0.067741347  0.016721826\n",
       "attr(,\"Probability\")\n",
       "[1] 0.95\n",
       "attr(,\"class\")\n",
       "[1] \"confint.bas\""
      ]
     },
     "metadata": {},
     "output_type": "display_data"
    }
   ],
   "source": [
    "coef(bma_lwage_red) %>%\n",
    "    confint()"
   ]
  },
  {
   "cell_type": "markdown",
   "metadata": {},
   "source": [
    "The exponential transformation applied to coefficients has a multiplicative \n",
    "effect on the posterior median. What this means is that a one unit increase in \n",
    "predictor  $X_j$ leads to a $(\\exp(\\beta_j) -1) \\times 100$ percent increase in \n",
    "the median wage [@StatNews83]. For a factor or indicator variable like \n",
    "`urban`, the posterior median for wages for urban areas (`urban == 1`) will \n",
    "be $(\\exp(0.1791) - 1) \\times 100$ percent higher than in rural areas \n",
    "(`urban == 0`). Similarly we can use the same transformation with the credible \n",
    "interval. First, let's calculate the credible interval for the coefficient of \n",
    "`urban` and exponentiate it."
   ]
  },
  {
   "cell_type": "code",
   "execution_count": 58,
   "metadata": {},
   "outputs": [
    {
     "data": {
      "text/plain": [
       "           2.5%    97.5%     beta\n",
       "urban1 1.132827 1.259922 1.196247\n",
       "attr(,\"Probability\")\n",
       "[1] 0.95\n",
       "attr(,\"class\")\n",
       "[1] \"confint.bas\""
      ]
     },
     "metadata": {},
     "output_type": "display_data"
    }
   ],
   "source": [
    "ci_urban <- coef(bma_lwage_red) %>%\n",
    "  confint(parm = \"urban1\") %>%\n",
    "  exp()\n",
    "\n",
    "ci_urban"
   ]
  },
  {
   "cell_type": "markdown",
   "metadata": {},
   "source": [
    "Then, we can substract 1 from the bounds of the interval and multipl them by 100 \n",
    "to make them a bit more straightforward to interpret"
   ]
  },
  {
   "cell_type": "code",
   "execution_count": 59,
   "metadata": {},
   "outputs": [
    {
     "data": {
      "text/plain": [
       "           2.5%    97.5%     beta\n",
       "urban1 13.28275 25.99224 19.62471\n",
       "attr(,\"Probability\")\n",
       "[1] 0.95\n",
       "attr(,\"class\")\n",
       "[1] \"confint.bas\""
      ]
     },
     "metadata": {},
     "output_type": "display_data"
    }
   ],
   "source": [
    "(ci_urban - 1) * 100"
   ]
  },
  {
   "cell_type": "markdown",
   "metadata": {},
   "source": [
    "Based on this data, there is a 95% chance that median wages for urban areas are\n",
    "\n",
    "    round((exp(confint(coef(bma_lwage_red), parm='urban1'))[1] - 1)*100, 2)\n",
    "\n",
    "to \n",
    "\n",
    "    round((exp(confint(coef(bma_lwage_red), parm='urban1'))[2] - 1)*100,2)\n",
    "\n",
    "times higher than in rural regions."
   ]
  },
  {
   "cell_type": "markdown",
   "metadata": {},
   "source": [
    "**Find a 95% credible interval for the coefficient of `educ` and provide an interpretation.**"
   ]
  },
  {
   "cell_type": "code",
   "execution_count": 60,
   "metadata": {},
   "outputs": [
    {
     "data": {
      "text/html": [
       "3.69"
      ],
      "text/latex": [
       "3.69"
      ],
      "text/markdown": [
       "3.69"
      ],
      "text/plain": [
       "[1] 3.69"
      ]
     },
     "metadata": {},
     "output_type": "display_data"
    }
   ],
   "source": [
    "round((exp(confint(coef(bma_lwage_red), parm='educ'))[1] - 1)*100, 2)"
   ]
  },
  {
   "cell_type": "code",
   "execution_count": 61,
   "metadata": {},
   "outputs": [
    {
     "data": {
      "text/html": [
       "6.88"
      ],
      "text/latex": [
       "6.88"
      ],
      "text/markdown": [
       "6.88"
      ],
      "text/plain": [
       "[1] 6.88"
      ]
     },
     "metadata": {},
     "output_type": "display_data"
    }
   ],
   "source": [
    "round((exp(confint(coef(bma_lwage_red), parm='educ'))[2] - 1)*100,2)"
   ]
  },
  {
   "cell_type": "markdown",
   "metadata": {},
   "source": [
    "    Answer: (3.73, 6.89)"
   ]
  },
  {
   "cell_type": "markdown",
   "metadata": {},
   "source": [
    "## Prediction\n",
    "A key advantage of Bayesian statistics is prediction and the probabilistic interpretation of predictions.  Much of Bayesian prediction is done using simulation techniques, some of which was discussed near the end of this module.  This is often applied in regression modeling, although we'll work through an example with just an intercept term.\n",
    "\n",
    "Suppose you observe four numerical observations of $y$, which are 2, 2, 0 and 0 respectively with sample mean $\\bar{y} = 1$ and sample variance $s^2 = 4/3$.  Assuming that $y \\sim N(\\mu, \\sigma^2)$, under the reference prior $p(\\mu,\\sigma^2) \\propto 1/\\sigma^2$, our posterior becomes\n",
    "\n",
    "\n",
    "$$\\mu|\\sigma^2, y \\sim N(1, \\sigma^2/4)$$\n",
    "which is centered at the sample mean and \n",
    "$$1/\\sigma^2, y \\sim Gamma(\\alpha = 3/2,\\beta = 4/2)$$\n",
    "where $\\alpha = (n - 1)/2$ and $\\beta = s^2 (n-1)/2 = 2$.\n",
    "\n",
    "To obtain the predictive distribution for $y_5$, we can first simulate $\\sigma^2$ from its posterior and then $\\mu$ followed by $y_5$.  Our draws of $y_5$ will be from the posterior predictive distribution for a new observation.  The example below draws 100,000 times from the posterior predictive distribution of $y_5$."
   ]
  },
  {
   "cell_type": "code",
   "execution_count": 62,
   "metadata": {},
   "outputs": [],
   "source": [
    "set.seed(314)\n",
    "\n",
    "N = 100000\n",
    "\n",
    "phi = rgamma(N,3/2,2)\n",
    "\n",
    "sigma2 = 1/phi\n",
    "\n",
    "mu = rnorm(N, 1, sqrt(sigma2/4))\n",
    "\n",
    "y_5 = rnorm(N, mu, sqrt(sigma2))"
   ]
  },
  {
   "cell_type": "markdown",
   "metadata": {},
   "source": [
    "We can view an estimate of the predictive distribution, by looking at the a smoothed version of the histogram of the simulated data:"
   ]
  },
  {
   "cell_type": "code",
   "execution_count": 63,
   "metadata": {},
   "outputs": [
    {
     "data": {
      "image/png": "[encoded data removed]",
      "text/plain": [
       "Plot with title \"\""
      ]
     },
     "metadata": {
      "image/png": {
       "height": 420,
       "width": 420
      },
      "text/plain": {
       "height": 420,
       "width": 420
      }
     },
     "output_type": "display_data"
    }
   ],
   "source": [
    "hist(y_5, prob=T, breaks=30, xlab=expression(y[5]), main=\"\")"
   ]
  },
  {
   "cell_type": "markdown",
   "metadata": {},
   "source": [
    "A 95% central credible interval for a new observation is the interval (L, U) where  $P(Y_5 < L \\mid  Y) = .05/2$ and $P(Y_5 > U \\mid Y) = .05/2)$.  In this case L is the 0.025 quantile and U is the 0.975 quantile.  We can obtain those values using the `quantile` function to find the sample quantiles for 0.025 and 0.975 of $y_5$."
   ]
  },
  {
   "cell_type": "markdown",
   "metadata": {},
   "source": [
    "**Estimate a 95\\% central credible interval for a new observation $y_5$**"
   ]
  },
  {
   "cell_type": "code",
   "execution_count": 64,
   "metadata": {},
   "outputs": [
    {
     "data": {
      "text/html": [
       "<style>\n",
       ".dl-inline {width: auto; margin:0; padding: 0}\n",
       ".dl-inline>dt, .dl-inline>dd {float: none; width: auto; display: inline-block}\n",
       ".dl-inline>dt::after {content: \":\\0020\"; padding-right: .5ex}\n",
       ".dl-inline>dt:not(:first-of-type) {padding-left: .5ex}\n",
       "</style><dl class=dl-inline><dt>2.5%</dt><dd>-3.10958549157382</dd><dt>97.5%</dt><dd>5.13251145921994</dd></dl>\n"
      ],
      "text/latex": [
       "\\begin{description*}\n",
       "\\item[2.5\\textbackslash{}\\%] -3.10958549157382\n",
       "\\item[97.5\\textbackslash{}\\%] 5.13251145921994\n",
       "\\end{description*}\n"
      ],
      "text/markdown": [
       "2.5%\n",
       ":   -3.1095854915738297.5%\n",
       ":   5.13251145921994\n",
       "\n"
      ],
      "text/plain": [
       "     2.5%     97.5% \n",
       "-3.109585  5.132511 "
      ]
     },
     "metadata": {},
     "output_type": "display_data"
    }
   ],
   "source": [
    "quantile(y_5, probs = c(0.025, 0.975))"
   ]
  },
  {
   "cell_type": "markdown",
   "metadata": {},
   "source": [
    "## Prediction with BAS\n",
    "\n",
    "Similar to last week's lab, we will be using Bayesian predictive distribution \n",
    "for predictions and interpretation of predictions. Simulation is used in `BAS` \n",
    "to construct predictive intervals with Bayesian Model Averaging, while exact \n",
    "inference is often possible with predictive intervals under model selection.\n",
    "\n",
    "Returning to the wage data set, let us find the predictive values under the \n",
    "*Best Predictive Model* (`BPM`), the one which has predictions closest to BMA \n",
    "and corresponding posterior standard deviations."
   ]
  },
  {
   "cell_type": "code",
   "execution_count": 65,
   "metadata": {},
   "outputs": [
    {
     "data": {
      "text/html": [
       "<style>\n",
       ".list-inline {list-style: none; margin:0; padding: 0}\n",
       ".list-inline>li {display: inline-block}\n",
       ".list-inline>li:not(:last-child)::after {content: \"\\00b7\"; padding: 0 .5ex}\n",
       "</style>\n",
       "<ol class=list-inline><li>'Intercept'</li><li>'hours'</li><li>'iq'</li><li>'kww'</li><li>'educ'</li><li>'exper'</li><li>'tenure'</li><li>'age'</li><li>'married1'</li><li>'black1'</li><li>'south1'</li><li>'urban1'</li><li>'meduc'</li><li>'feduc'</li></ol>\n"
      ],
      "text/latex": [
       "\\begin{enumerate*}\n",
       "\\item 'Intercept'\n",
       "\\item 'hours'\n",
       "\\item 'iq'\n",
       "\\item 'kww'\n",
       "\\item 'educ'\n",
       "\\item 'exper'\n",
       "\\item 'tenure'\n",
       "\\item 'age'\n",
       "\\item 'married1'\n",
       "\\item 'black1'\n",
       "\\item 'south1'\n",
       "\\item 'urban1'\n",
       "\\item 'meduc'\n",
       "\\item 'feduc'\n",
       "\\end{enumerate*}\n"
      ],
      "text/markdown": [
       "1. 'Intercept'\n",
       "2. 'hours'\n",
       "3. 'iq'\n",
       "4. 'kww'\n",
       "5. 'educ'\n",
       "6. 'exper'\n",
       "7. 'tenure'\n",
       "8. 'age'\n",
       "9. 'married1'\n",
       "10. 'black1'\n",
       "11. 'south1'\n",
       "12. 'urban1'\n",
       "13. 'meduc'\n",
       "14. 'feduc'\n",
       "\n",
       "\n"
      ],
      "text/plain": [
       " [1] \"Intercept\" \"hours\"     \"iq\"        \"kww\"       \"educ\"      \"exper\"    \n",
       " [7] \"tenure\"    \"age\"       \"married1\"  \"black1\"    \"south1\"    \"urban1\"   \n",
       "[13] \"meduc\"     \"feduc\"    "
      ]
     },
     "metadata": {},
     "output_type": "display_data"
    }
   ],
   "source": [
    "BPM_pred_lwage <- predict(bma_lwage, estimator = \"BPM\", se.fit = TRUE)\n",
    "\n",
    "variable.names(BPM_pred_lwage)"
   ]
  },
  {
   "cell_type": "markdown",
   "metadata": {},
   "source": [
    "In the code above, the function `variable.names` can be used to extract the names of all of the predictors in the Best Probabilty model. This can be used to identify the variables in the  *Highest Probability Model* (`HPM`) "
   ]
  },
  {
   "cell_type": "code",
   "execution_count": 66,
   "metadata": {},
   "outputs": [
    {
     "data": {
      "text/html": [
       "<style>\n",
       ".list-inline {list-style: none; margin:0; padding: 0}\n",
       ".list-inline>li {display: inline-block}\n",
       ".list-inline>li:not(:last-child)::after {content: \"\\00b7\"; padding: 0 .5ex}\n",
       "</style>\n",
       "<ol class=list-inline><li>'Intercept'</li><li>'hours'</li><li>'iq'</li><li>'educ'</li><li>'exper'</li><li>'tenure'</li><li>'age'</li><li>'married1'</li><li>'black1'</li><li>'urban1'</li><li>'meduc'</li></ol>\n"
      ],
      "text/latex": [
       "\\begin{enumerate*}\n",
       "\\item 'Intercept'\n",
       "\\item 'hours'\n",
       "\\item 'iq'\n",
       "\\item 'educ'\n",
       "\\item 'exper'\n",
       "\\item 'tenure'\n",
       "\\item 'age'\n",
       "\\item 'married1'\n",
       "\\item 'black1'\n",
       "\\item 'urban1'\n",
       "\\item 'meduc'\n",
       "\\end{enumerate*}\n"
      ],
      "text/markdown": [
       "1. 'Intercept'\n",
       "2. 'hours'\n",
       "3. 'iq'\n",
       "4. 'educ'\n",
       "5. 'exper'\n",
       "6. 'tenure'\n",
       "7. 'age'\n",
       "8. 'married1'\n",
       "9. 'black1'\n",
       "10. 'urban1'\n",
       "11. 'meduc'\n",
       "\n",
       "\n"
      ],
      "text/plain": [
       " [1] \"Intercept\" \"hours\"     \"iq\"        \"educ\"      \"exper\"     \"tenure\"   \n",
       " [7] \"age\"       \"married1\"  \"black1\"    \"urban1\"    \"meduc\"    "
      ]
     },
     "metadata": {},
     "output_type": "display_data"
    }
   ],
   "source": [
    "HPM_pred_lwage <- predict(bma_lwage, estimator = \"HPM\")\n",
    "\n",
    "variable.names(HPM_pred_lwage)"
   ]
  },
  {
   "cell_type": "markdown",
   "metadata": {},
   "source": [
    "and the *Median Probability Model* (`MPM`)"
   ]
  },
  {
   "cell_type": "code",
   "execution_count": 67,
   "metadata": {},
   "outputs": [
    {
     "data": {
      "text/html": [
       "<style>\n",
       ".list-inline {list-style: none; margin:0; padding: 0}\n",
       ".list-inline>li {display: inline-block}\n",
       ".list-inline>li:not(:last-child)::after {content: \"\\00b7\"; padding: 0 .5ex}\n",
       "</style>\n",
       "<ol class=list-inline><li>'Intercept'</li><li>'hours'</li><li>'iq'</li><li>'educ'</li><li>'exper'</li><li>'tenure'</li><li>'age'</li><li>'married1'</li><li>'urban1'</li><li>'meduc'</li><li>'z_iq'</li></ol>\n"
      ],
      "text/latex": [
       "\\begin{enumerate*}\n",
       "\\item 'Intercept'\n",
       "\\item 'hours'\n",
       "\\item 'iq'\n",
       "\\item 'educ'\n",
       "\\item 'exper'\n",
       "\\item 'tenure'\n",
       "\\item 'age'\n",
       "\\item 'married1'\n",
       "\\item 'urban1'\n",
       "\\item 'meduc'\n",
       "\\item 'z\\_iq'\n",
       "\\end{enumerate*}\n"
      ],
      "text/markdown": [
       "1. 'Intercept'\n",
       "2. 'hours'\n",
       "3. 'iq'\n",
       "4. 'educ'\n",
       "5. 'exper'\n",
       "6. 'tenure'\n",
       "7. 'age'\n",
       "8. 'married1'\n",
       "9. 'urban1'\n",
       "10. 'meduc'\n",
       "11. 'z_iq'\n",
       "\n",
       "\n"
      ],
      "text/plain": [
       " [1] \"Intercept\" \"hours\"     \"iq\"        \"educ\"      \"exper\"     \"tenure\"   \n",
       " [7] \"age\"       \"married1\"  \"urban1\"    \"meduc\"     \"z_iq\"     "
      ]
     },
     "metadata": {},
     "output_type": "display_data"
    }
   ],
   "source": [
    "MPM_pred_lwage <- predict(bma_lwage, estimator = \"MPM\")\n",
    "\n",
    "variable.names(MPM_pred_lwage)"
   ]
  },
  {
   "cell_type": "markdown",
   "metadata": {},
   "source": [
    "The `MPM` includes `exper` in addition to all of the variables in the \n",
    "*Highest Probability Model* (`HPM`), while the `BPM` includes  `kww` in \n",
    "addition to all of the variables in the `MPM`. "
   ]
  },
  {
   "cell_type": "markdown",
   "metadata": {},
   "source": [
    "Let us turn to examine what characteristics lead to the highest wages in the `BPM` model."
   ]
  },
  {
   "cell_type": "code",
   "execution_count": 68,
   "metadata": {},
   "outputs": [
    {
     "name": "stdout",
     "output_type": "stream",
     "text": [
      "Rows: 1\n",
      "Columns: 18\n",
      "$ wage    \u001b[3m\u001b[90m<int>\u001b[39m\u001b[23m 1586\n",
      "$ hours   \u001b[3m\u001b[90m<int>\u001b[39m\u001b[23m 40\n",
      "$ iq      \u001b[3m\u001b[90m<int>\u001b[39m\u001b[23m 127\n",
      "$ kww     \u001b[3m\u001b[90m<int>\u001b[39m\u001b[23m 48\n",
      "$ educ    \u001b[3m\u001b[90m<int>\u001b[39m\u001b[23m 16\n",
      "$ exper   \u001b[3m\u001b[90m<int>\u001b[39m\u001b[23m 16\n",
      "$ tenure  \u001b[3m\u001b[90m<int>\u001b[39m\u001b[23m 12\n",
      "$ age     \u001b[3m\u001b[90m<int>\u001b[39m\u001b[23m 37\n",
      "$ married \u001b[3m\u001b[90m<fct>\u001b[39m\u001b[23m 1\n",
      "$ black   \u001b[3m\u001b[90m<fct>\u001b[39m\u001b[23m 0\n",
      "$ south   \u001b[3m\u001b[90m<fct>\u001b[39m\u001b[23m 0\n",
      "$ urban   \u001b[3m\u001b[90m<fct>\u001b[39m\u001b[23m 1\n",
      "$ sibs    \u001b[3m\u001b[90m<int>\u001b[39m\u001b[23m 4\n",
      "$ brthord \u001b[3m\u001b[90m<int>\u001b[39m\u001b[23m 4\n",
      "$ meduc   \u001b[3m\u001b[90m<int>\u001b[39m\u001b[23m 16\n",
      "$ feduc   \u001b[3m\u001b[90m<int>\u001b[39m\u001b[23m 16\n",
      "$ lwage   \u001b[3m\u001b[90m<dbl>\u001b[39m\u001b[23m 7.36897\n",
      "$ z_iq    \u001b[3m\u001b[90m<dbl>\u001b[39m\u001b[23m 1.708514\n"
     ]
    }
   ],
   "source": [
    "# Find the index of observation with the largest fitted value\n",
    "opt <- which.max(BPM_pred_lwage$fit)\n",
    "\n",
    "# Extract the row with this observation and glimpse at the row\n",
    "wage_no_na %>% \n",
    "  slice(opt) %>%\n",
    "  glimpse()"
   ]
  },
  {
   "cell_type": "markdown",
   "metadata": {},
   "source": [
    "A 95% credible interval for predicting log wages can be obtained by"
   ]
  },
  {
   "cell_type": "code",
   "execution_count": 69,
   "metadata": {},
   "outputs": [
    {
     "data": {
      "text/html": [
       "<style>\n",
       ".dl-inline {width: auto; margin:0; padding: 0}\n",
       ".dl-inline>dt, .dl-inline>dd {float: none; width: auto; display: inline-block}\n",
       ".dl-inline>dt::after {content: \":\\0020\"; padding-right: .5ex}\n",
       ".dl-inline>dt:not(:first-of-type) {padding-left: .5ex}\n",
       "</style><dl class=dl-inline><dt>2.5%</dt><dd>6.66582588977229</dd><dt>97.5%</dt><dd>8.04513321595502</dd><dt>pred</dt><dd>7.35547955286365</dd></dl>\n"
      ],
      "text/latex": [
       "\\begin{description*}\n",
       "\\item[2.5\\textbackslash{}\\%] 6.66582588977229\n",
       "\\item[97.5\\textbackslash{}\\%] 8.04513321595502\n",
       "\\item[pred] 7.35547955286365\n",
       "\\end{description*}\n"
      ],
      "text/markdown": [
       "2.5%\n",
       ":   6.6658258897722997.5%\n",
       ":   8.04513321595502pred\n",
       ":   7.35547955286365\n",
       "\n"
      ],
      "text/plain": [
       "    2.5%    97.5%     pred \n",
       "6.665826 8.045133 7.355480 "
      ]
     },
     "metadata": {},
     "output_type": "display_data"
    }
   ],
   "source": [
    "ci_lwage <- confint(BPM_pred_lwage, parm = \"pred\")\n",
    "ci_lwage[opt,]"
   ]
  },
  {
   "cell_type": "markdown",
   "metadata": {},
   "source": [
    "To translate this back to `wage` (recall that we regress `lwage`), we may \n",
    "exponentiate the interval to obtain a 95% prediction interval for the wages of \n",
    "an individual with covariates at the levels of the individual specified by `opt`."
   ]
  },
  {
   "cell_type": "code",
   "execution_count": 70,
   "metadata": {},
   "outputs": [
    {
     "data": {
      "text/html": [
       "<style>\n",
       ".dl-inline {width: auto; margin:0; padding: 0}\n",
       ".dl-inline>dt, .dl-inline>dd {float: none; width: auto; display: inline-block}\n",
       ".dl-inline>dt::after {content: \":\\0020\"; padding-right: .5ex}\n",
       ".dl-inline>dt:not(:first-of-type) {padding-left: .5ex}\n",
       "</style><dl class=dl-inline><dt>2.5%</dt><dd>785.111612945987</dd><dt>97.5%</dt><dd>3118.58052067472</dd><dt>pred</dt><dd>1564.74719449784</dd></dl>\n"
      ],
      "text/latex": [
       "\\begin{description*}\n",
       "\\item[2.5\\textbackslash{}\\%] 785.111612945987\n",
       "\\item[97.5\\textbackslash{}\\%] 3118.58052067472\n",
       "\\item[pred] 1564.74719449784\n",
       "\\end{description*}\n"
      ],
      "text/markdown": [
       "2.5%\n",
       ":   785.11161294598797.5%\n",
       ":   3118.58052067472pred\n",
       ":   1564.74719449784\n",
       "\n"
      ],
      "text/plain": [
       "     2.5%     97.5%      pred \n",
       " 785.1116 3118.5805 1564.7472 "
      ]
     },
     "metadata": {},
     "output_type": "display_data"
    }
   ],
   "source": [
    "exp(ci_lwage[opt,])"
   ]
  },
  {
   "cell_type": "markdown",
   "metadata": {},
   "source": [
    "If we were to use BMA, the interval would be \n",
    "\n",
    "```R\n",
    "BMA_pred_lwage <- predict(bma_lwage, estimator = \"BMA\", se.fit = TRUE)\n",
    "\n",
    "ci_bma_lwage <- confint(BMA_pred_lwage, estimator = \"BMA\")\n",
    "\n",
    "opt_bma <- which.max(BMA_pred_lwage$fit)\n",
    "\n",
    "exp(ci_bma_lwage[opt_bma, ])\n",
    "```"
   ]
  }
 ],
 "metadata": {
  "kernelspec": {
   "display_name": "R",
   "language": "R",
   "name": "ir"
  },
  "language_info": {
   "codemirror_mode": "r",
   "file_extension": ".r",
   "mimetype": "text/x-r-source",
   "name": "R",
   "pygments_lexer": "r",
   "version": "3.6.3"
  }
 },
 "nbformat": 4,
 "nbformat_minor": 4
}
