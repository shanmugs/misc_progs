{
 "cells": [
  {
   "cell_type": "markdown",
   "metadata": {},
   "source": [
    "# New Zealand Election Survey - Data Preparation"
   ]
  },
  {
   "cell_type": "markdown",
   "metadata": {},
   "source": [
    "<img src=\"images/NZsurvey.png\"/>"
   ]
  },
  {
   "cell_type": "markdown",
   "metadata": {},
   "source": [
    "This data is a modified version of data from the New Zealand Election Survey, deliberately modified to introduce problems that occur naturally in many data sets.\n",
    "\n",
    "In this case, the New Zealand Election Survey takes place every three years as a postal survey of a sample of registered electors. Some sampled electors were part of a sample panel of people surveyed at the previous election as part of a longitudinal study, others were randomly chosen from the electoral roll. Those electors that were part of the longitudinal panel group were randomly selected in previous elections. \n",
    "\n",
    "As well as survey results, the data set includes information from the electoral roll, and weighting values for adjusting results. The full NZES data set has been reduced to a selected group of variables, making 3101 observations of 107 variables."
   ]
  },
  {
   "cell_type": "markdown",
   "metadata": {},
   "source": [
    "### Libraries"
   ]
  },
  {
   "cell_type": "code",
   "execution_count": 1,
   "metadata": {},
   "outputs": [
    {
     "name": "stderr",
     "output_type": "stream",
     "text": [
      "\n",
      "Attaching package: 'dplyr'\n",
      "\n",
      "\n",
      "The following objects are masked from 'package:stats':\n",
      "\n",
      "    filter, lag\n",
      "\n",
      "\n",
      "The following objects are masked from 'package:base':\n",
      "\n",
      "    intersect, setdiff, setequal, union\n",
      "\n",
      "\n"
     ]
    }
   ],
   "source": [
    "#install.packages(\"dplyr\")\n",
    "library(dplyr) # for data wrangling\n",
    "\n",
    "#install.packages(\"ggplot2\")\n",
    "library(ggplot2) # for data visualization"
   ]
  },
  {
   "cell_type": "markdown",
   "metadata": {},
   "source": [
    "### Load Data"
   ]
  },
  {
   "cell_type": "code",
   "execution_count": 2,
   "metadata": {},
   "outputs": [
    {
     "data": {
      "text/html": [
       "<table>\n",
       "<caption>A data.frame: 6 × 107</caption>\n",
       "<thead>\n",
       "\t<tr><th></th><th scope=col>Jelect</th><th scope=col>jblogel</th><th scope=col>jnewspaper</th><th scope=col>jnatradio</th><th scope=col>jtalkback</th><th scope=col>jdiscussp</th><th scope=col>jrallies</th><th scope=col>jpersuade</th><th scope=col>jpcmoney</th><th scope=col>jpcposter</th><th scope=col>⋯</th><th scope=col>jethnicity_o</th><th scope=col>jethnicityx</th><th scope=col>jethnicmost</th><th scope=col>jethnicmostx</th><th scope=col>jpartyvote</th><th scope=col>jelecvote</th><th scope=col>njptyvote</th><th scope=col>njelecvote</th><th scope=col>jdiffvoting</th><th scope=col>X_singlefav</th></tr>\n",
       "\t<tr><th></th><th scope=col>&lt;int&gt;</th><th scope=col>&lt;chr&gt;</th><th scope=col>&lt;chr&gt;</th><th scope=col>&lt;chr&gt;</th><th scope=col>&lt;chr&gt;</th><th scope=col>&lt;chr&gt;</th><th scope=col>&lt;chr&gt;</th><th scope=col>&lt;chr&gt;</th><th scope=col>&lt;chr&gt;</th><th scope=col>&lt;chr&gt;</th><th scope=col>⋯</th><th scope=col>&lt;chr&gt;</th><th scope=col>&lt;chr&gt;</th><th scope=col>&lt;chr&gt;</th><th scope=col>&lt;chr&gt;</th><th scope=col>&lt;chr&gt;</th><th scope=col>&lt;chr&gt;</th><th scope=col>&lt;chr&gt;</th><th scope=col>&lt;chr&gt;</th><th scope=col>&lt;chr&gt;</th><th scope=col>&lt;chr&gt;</th></tr>\n",
       "</thead>\n",
       "<tbody>\n",
       "\t<tr><th scope=row>1</th><td>36</td><td>NA                                               </td><td>NA       </td><td>NA        </td><td>NA       </td><td>Yes, frequently  </td><td>No</td><td>No               </td><td>No</td><td>No</td><td>⋯</td><td>NA   </td><td>             </td><td>NZ European</td><td></td><td>National</td><td>National</td><td>National</td><td>National</td><td>Voting can make a reasonable amount of difference to what happens</td><td>National</td></tr>\n",
       "\t<tr><th scope=row>2</th><td>34</td><td>NA                                               </td><td>Sometimes</td><td>NA        </td><td>NA       </td><td>Yes, rarely      </td><td>No</td><td>No               </td><td>No</td><td>No</td><td>⋯</td><td>NA   </td><td>             </td><td>NZ European</td><td></td><td>National</td><td>National</td><td>National</td><td>National</td><td>Voting can make some difference to what happens                  </td><td>National</td></tr>\n",
       "\t<tr><th scope=row>3</th><td>27</td><td>Visited a political blog for election information</td><td>Sometimes</td><td>Sometimes </td><td>Sometimes</td><td>Yes, frequently  </td><td>No</td><td>Yes, occasionally</td><td>No</td><td>No</td><td>⋯</td><td>NA   </td><td>             </td><td>NA         </td><td></td><td>National</td><td>Labour  </td><td>National</td><td>Labour  </td><td>Voting can make a big difference to what happens                 </td><td>National</td></tr>\n",
       "\t<tr><th scope=row>4</th><td>34</td><td>NA                                               </td><td>Often    </td><td>NA        </td><td>NA       </td><td>Yes, occasionally</td><td>No</td><td>No               </td><td>No</td><td>No</td><td>⋯</td><td>NA   </td><td>             </td><td>NA         </td><td></td><td>NZ First</td><td>Labour  </td><td>NZ First</td><td>Labour  </td><td>Voting can make some difference to what happens                  </td><td>Labour  </td></tr>\n",
       "\t<tr><th scope=row>5</th><td>15</td><td>NA                                               </td><td>Sometimes</td><td>Not at all</td><td>Often    </td><td>Yes, occasionally</td><td>No</td><td>No               </td><td>No</td><td>No</td><td>⋯</td><td>Other</td><td>SOUTH AFRICAN</td><td>NZ European</td><td></td><td>National</td><td>National</td><td>National</td><td>National</td><td>Voting can make a big difference to what happens                 </td><td>National</td></tr>\n",
       "\t<tr><th scope=row>6</th><td>58</td><td>NA                                               </td><td>Sometimes</td><td>NA        </td><td>NA       </td><td>Yes, occasionally</td><td>NA</td><td>NA               </td><td>NA</td><td>NA</td><td>⋯</td><td>NA   </td><td>             </td><td>NA         </td><td></td><td>NZ First</td><td>NA      </td><td>NZ First</td><td>NA      </td><td>Voting can make some difference to what happens                  </td><td>NZ First</td></tr>\n",
       "</tbody>\n",
       "</table>\n"
      ],
      "text/latex": [
       "A data.frame: 6 × 107\n",
       "\\begin{tabular}{r|lllllllllllllllllllll}\n",
       "  & Jelect & jblogel & jnewspaper & jnatradio & jtalkback & jdiscussp & jrallies & jpersuade & jpcmoney & jpcposter & ⋯ & jethnicity\\_o & jethnicityx & jethnicmost & jethnicmostx & jpartyvote & jelecvote & njptyvote & njelecvote & jdiffvoting & X\\_singlefav\\\\\n",
       "  & <int> & <chr> & <chr> & <chr> & <chr> & <chr> & <chr> & <chr> & <chr> & <chr> & ⋯ & <chr> & <chr> & <chr> & <chr> & <chr> & <chr> & <chr> & <chr> & <chr> & <chr>\\\\\n",
       "\\hline\n",
       "\t1 & 36 & NA                                                & NA        & NA         & NA        & Yes, frequently   & No & No                & No & No & ⋯ & NA    &               & NZ European &  & National & National & National & National & Voting can make a reasonable amount of difference to what happens & National\\\\\n",
       "\t2 & 34 & NA                                                & Sometimes & NA         & NA        & Yes, rarely       & No & No                & No & No & ⋯ & NA    &               & NZ European &  & National & National & National & National & Voting can make some difference to what happens                   & National\\\\\n",
       "\t3 & 27 & Visited a political blog for election information & Sometimes & Sometimes  & Sometimes & Yes, frequently   & No & Yes, occasionally & No & No & ⋯ & NA    &               & NA          &  & National & Labour   & National & Labour   & Voting can make a big difference to what happens                  & National\\\\\n",
       "\t4 & 34 & NA                                                & Often     & NA         & NA        & Yes, occasionally & No & No                & No & No & ⋯ & NA    &               & NA          &  & NZ First & Labour   & NZ First & Labour   & Voting can make some difference to what happens                   & Labour  \\\\\n",
       "\t5 & 15 & NA                                                & Sometimes & Not at all & Often     & Yes, occasionally & No & No                & No & No & ⋯ & Other & SOUTH AFRICAN & NZ European &  & National & National & National & National & Voting can make a big difference to what happens                  & National\\\\\n",
       "\t6 & 58 & NA                                                & Sometimes & NA         & NA        & Yes, occasionally & NA & NA                & NA & NA & ⋯ & NA    &               & NA          &  & NZ First & NA       & NZ First & NA       & Voting can make some difference to what happens                   & NZ First\\\\\n",
       "\\end{tabular}\n"
      ],
      "text/markdown": [
       "\n",
       "A data.frame: 6 × 107\n",
       "\n",
       "| <!--/--> | Jelect &lt;int&gt; | jblogel &lt;chr&gt; | jnewspaper &lt;chr&gt; | jnatradio &lt;chr&gt; | jtalkback &lt;chr&gt; | jdiscussp &lt;chr&gt; | jrallies &lt;chr&gt; | jpersuade &lt;chr&gt; | jpcmoney &lt;chr&gt; | jpcposter &lt;chr&gt; | ⋯ ⋯ | jethnicity_o &lt;chr&gt; | jethnicityx &lt;chr&gt; | jethnicmost &lt;chr&gt; | jethnicmostx &lt;chr&gt; | jpartyvote &lt;chr&gt; | jelecvote &lt;chr&gt; | njptyvote &lt;chr&gt; | njelecvote &lt;chr&gt; | jdiffvoting &lt;chr&gt; | X_singlefav &lt;chr&gt; |\n",
       "|---|---|---|---|---|---|---|---|---|---|---|---|---|---|---|---|---|---|---|---|---|---|\n",
       "| 1 | 36 | NA                                                | NA        | NA         | NA        | Yes, frequently   | No | No                | No | No | ⋯ | NA    | <!----> | NZ European | <!----> | National | National | National | National | Voting can make a reasonable amount of difference to what happens | National |\n",
       "| 2 | 34 | NA                                                | Sometimes | NA         | NA        | Yes, rarely       | No | No                | No | No | ⋯ | NA    | <!----> | NZ European | <!----> | National | National | National | National | Voting can make some difference to what happens                   | National |\n",
       "| 3 | 27 | Visited a political blog for election information | Sometimes | Sometimes  | Sometimes | Yes, frequently   | No | Yes, occasionally | No | No | ⋯ | NA    | <!----> | NA          | <!----> | National | Labour   | National | Labour   | Voting can make a big difference to what happens                  | National |\n",
       "| 4 | 34 | NA                                                | Often     | NA         | NA        | Yes, occasionally | No | No                | No | No | ⋯ | NA    | <!----> | NA          | <!----> | NZ First | Labour   | NZ First | Labour   | Voting can make some difference to what happens                   | Labour   |\n",
       "| 5 | 15 | NA                                                | Sometimes | Not at all | Often     | Yes, occasionally | No | No                | No | No | ⋯ | Other | SOUTH AFRICAN | NZ European | <!----> | National | National | National | National | Voting can make a big difference to what happens                  | National |\n",
       "| 6 | 58 | NA                                                | Sometimes | NA         | NA        | Yes, occasionally | NA | NA                | NA | NA | ⋯ | NA    | <!----> | NA          | <!----> | NZ First | NA       | NZ First | NA       | Voting can make some difference to what happens                   | NZ First |\n",
       "\n"
      ],
      "text/plain": [
       "  Jelect jblogel                                           jnewspaper\n",
       "1 36     NA                                                NA        \n",
       "2 34     NA                                                Sometimes \n",
       "3 27     Visited a political blog for election information Sometimes \n",
       "4 34     NA                                                Often     \n",
       "5 15     NA                                                Sometimes \n",
       "6 58     NA                                                Sometimes \n",
       "  jnatradio  jtalkback jdiscussp         jrallies jpersuade         jpcmoney\n",
       "1 NA         NA        Yes, frequently   No       No                No      \n",
       "2 NA         NA        Yes, rarely       No       No                No      \n",
       "3 Sometimes  Sometimes Yes, frequently   No       Yes, occasionally No      \n",
       "4 NA         NA        Yes, occasionally No       No                No      \n",
       "5 Not at all Often     Yes, occasionally No       No                No      \n",
       "6 NA         NA        Yes, occasionally NA       NA                NA      \n",
       "  jpcposter <U+22EF>        jethnicity_o jethnicityx   jethnicmost jethnicmostx\n",
       "1 No        <U+22EF> NA                         NZ European             \n",
       "2 No        <U+22EF> NA                         NZ European             \n",
       "3 No        <U+22EF> NA                         NA                      \n",
       "4 No        <U+22EF> NA                         NA                      \n",
       "5 No        <U+22EF> Other        SOUTH AFRICAN NZ European             \n",
       "6 NA        <U+22EF> NA                         NA                      \n",
       "  jpartyvote jelecvote njptyvote njelecvote\n",
       "1 National   National  National  National  \n",
       "2 National   National  National  National  \n",
       "3 National   Labour    National  Labour    \n",
       "4 NZ First   Labour    NZ First  Labour    \n",
       "5 National   National  National  National  \n",
       "6 NZ First   NA        NZ First  NA        \n",
       "  jdiffvoting                                                       X_singlefav\n",
       "1 Voting can make a reasonable amount of difference to what happens National   \n",
       "2 Voting can make some difference to what happens                   National   \n",
       "3 Voting can make a big difference to what happens                  National   \n",
       "4 Voting can make some difference to what happens                   Labour     \n",
       "5 Voting can make a big difference to what happens                  National   \n",
       "6 Voting can make some difference to what happens                   NZ First   "
      ]
     },
     "metadata": {},
     "output_type": "display_data"
    }
   ],
   "source": [
    "load(\"data/selected_nzes2011.Rdata\")\n",
    "head(selected_nzes2011)"
   ]
  },
  {
   "cell_type": "markdown",
   "metadata": {},
   "source": [
    "### Some Exploration"
   ]
  },
  {
   "cell_type": "code",
   "execution_count": 3,
   "metadata": {},
   "outputs": [
    {
     "name": "stdout",
     "output_type": "stream",
     "text": [
      "'data.frame':\t3101 obs. of  107 variables:\n",
      " $ Jelect        : int  36 34 27 34 15 58 30 32 40 10 ...\n",
      " $ jblogel       : chr  NA NA \"Visited a political blog for election information\" NA ...\n",
      " $ jnewspaper    : chr  NA \"Sometimes\" \"Sometimes\" \"Often\" ...\n",
      " $ jnatradio     : chr  NA NA \"Sometimes\" NA ...\n",
      " $ jtalkback     : chr  NA NA \"Sometimes\" NA ...\n",
      " $ jdiscussp     : chr  \"Yes, frequently\" \"Yes, rarely\" \"Yes, frequently\" \"Yes, occasionally\" ...\n",
      " $ jrallies      : chr  \"No\" \"No\" \"No\" \"No\" ...\n",
      " $ jpersuade     : chr  \"No\" \"No\" \"Yes, occasionally\" \"No\" ...\n",
      " $ jpcmoney      : chr  \"No\" \"No\" \"No\" \"No\" ...\n",
      " $ jpcposter     : chr  \"No\" \"No\" \"No\" \"No\" ...\n",
      " $ jlablike      : Factor w/ 12 levels \"0\",\"1\",\"10\",\"2\",..: 4 8 6 10 6 8 NA NA 10 7 ...\n",
      " $ jnatlike      : Factor w/ 12 levels \"0\",\"1\",\"10\",\"2\",..: 10 9 9 NA 11 8 3 NA 4 3 ...\n",
      " $ jgrnlike      : Factor w/ 12 levels \"0\",\"1\",\"10\",\"2\",..: 1 8 9 NA 7 1 NA NA 3 12 ...\n",
      " $ jnzflike      : Factor w/ 12 levels \"0\",\"1\",\"10\",\"2\",..: 1 1 4 10 4 11 NA NA 1 12 ...\n",
      " $ jactlike      : Factor w/ 12 levels \"0\",\"1\",\"10\",\"2\",..: 4 1 8 NA 4 1 NA 1 1 12 ...\n",
      " $ junflike      : Factor w/ 12 levels \"0\",\"1\",\"10\",\"2\",..: 4 7 5 NA 2 4 NA NA 7 12 ...\n",
      " $ jmaolike      : Factor w/ 12 levels \"0\",\"1\",\"10\",\"2\",..: 1 6 6 NA 5 4 NA NA 9 12 ...\n",
      " $ jmnplike      : Factor w/ 12 levels \"0\",\"1\",\"10\",\"2\",..: 1 1 4 NA 1 2 NA NA 5 12 ...\n",
      " $ jmostlike     : chr  \"National\" \"National\" \"National\" \"NZ First\" ...\n",
      " $ jmostlikex    : chr  \"\" \"\" \"\" \"\" ...\n",
      " $ jrepublic     : chr  \"Don't know\" \"Become a republic with an NZ head of state\" \"Become a republic with an NZ head of state\" \"Retain Queen as head of state\" ...\n",
      " $ jsphealth     : chr  \"More\" \"Same as now\" \"Same as now\" \"More\" ...\n",
      " $ jspedu        : chr  \"More\" \"More\" \"Same as now\" \"More\" ...\n",
      " $ jspunemp      : chr  \"Less\" \"Much less\" \"Less\" \"Same as now\" ...\n",
      " $ jspdefence    : chr  \"Same as now\" \"Same as now\" \"Much less\" \"Same as now\" ...\n",
      " $ jspsuper      : chr  \"More\" \"Same as now\" \"Less\" \"More\" ...\n",
      " $ jspbusind     : chr  \"Same as now\" \"More\" \"Same as now\" NA ...\n",
      " $ jsppolice     : chr  \"More\" \"More\" \"Same as now\" \"Same as now\" ...\n",
      " $ jspwelfare    : chr  \"Less\" \"Much less\" \"Less\" \"Less\" ...\n",
      " $ jspenviro     : chr  \"More\" \"More\" \"Less\" \"Less\" ...\n",
      " $ jgovpdk       : chr  \"No, can't recall which parties formed government after 2008 election\" NA NA \"No, can't recall which parties formed government after 2008 election\" ...\n",
      " $ jgovplab      : chr  NA NA NA NA ...\n",
      " $ jgovpnat      : chr  NA \"Yes, National helped form government after 2008 election\" \"Yes, National helped form government after 2008 election\" NA ...\n",
      " $ jgovpgrn      : chr  NA NA NA NA ...\n",
      " $ jgovpnzf      : chr  NA NA NA NA ...\n",
      " $ jgovpact      : chr  NA \"Yes, Act helped form government after 2008 election\" \"Yes, Act helped form government after 2008 election\" NA ...\n",
      " $ jgovunf       : chr  NA \"Yes, United Future helped form government after 2008 election\" \"Yes, United Future helped form government after 2008 election\" NA ...\n",
      " $ jgovpmao      : chr  NA \"Yes, Maori Party helped form government after 2008 election\" NA NA ...\n",
      " $ jgovpmnp      : chr  NA NA NA NA ...\n",
      " $ jnevervoteno  : chr  NA NA NA NA ...\n",
      " $ jnevervotelab : chr  NA NA NA NA ...\n",
      " $ jnevervotenat : chr  NA NA NA NA ...\n",
      " $ jnevervotegrn : chr  NA NA NA NA ...\n",
      " $ jnevervotenzf : chr  \"Yes, NZ First\" \"Yes, NZ First\" \"Yes, NZ First\" NA ...\n",
      " $ jnevervoteact : chr  NA \"Yes, Act\" NA NA ...\n",
      " $ jnevervoteunf : chr  NA NA NA NA ...\n",
      " $ jnevervotemao : chr  NA NA NA \"Yes, Maori Party\" ...\n",
      " $ jnevervotemnp : chr  \"Yes, Mana Party\" \"Yes, Mana Party\" \"Yes, Mana Party\" NA ...\n",
      " $ jnevervoteoth : chr  NA NA NA NA ...\n",
      " $ jnevervoteothx: chr  \"nz first , mana party\" \"\" \"\" \"\" ...\n",
      " $ jfirstpx      : chr  \"\" \"\" \"\" \"\" ...\n",
      " $ jsecondp      : chr  \"Labour\" \"Green\" \"National\" \"Green\" ...\n",
      " $ jage          : int  37 37 28 71 43 NA 59 68 64 70 ...\n",
      " $ jlanguage     : chr  \"English\" \"English\" \"English\" \"English\" ...\n",
      " $ jlanguagex    : chr  \"\" \"\" \"\" \"\" ...\n",
      " $ jrollsex      : chr  NA NA NA NA ...\n",
      " $ jhqual        : chr  \"Secondary education to School Certificate or NCEA\" \"University degree completed\" \"University degree completed\" \"Secondary education to School Certificate or NCEA\" ...\n",
      " $ jwkft         : chr  \"Working full-time for pay or other income\" \"Working full-time for pay or other income\" \"Working full-time for pay or other income\" NA ...\n",
      " $ jwkpt         : chr  NA NA NA NA ...\n",
      " $ jwkun         : chr  NA NA NA NA ...\n",
      " $ jwkret        : chr  NA NA NA \"Retired\" ...\n",
      " $ jwkdis        : chr  NA NA NA NA ...\n",
      " $ jwksch        : chr  NA NA NA NA ...\n",
      " $ jwkunpo       : chr  NA NA NA NA ...\n",
      " $ jwkunpi       : chr  NA NA NA NA ...\n",
      " $ jhhincome     : chr  \"$NZ28,900-$NZ51,399\" \"$NZ76,100-$NZ110,799\" \"$NZ147,700 or over\" \"Don't know\" ...\n",
      " $ jhhadults     : int  3 2 5 4 2 2 2 2 2 2 ...\n",
      " $ jhhchn        : int  NA 4 NA 1 2 NA 1 NA NA NA ...\n",
      " $ jmarital      : chr  \"Married, in a civil union or living with a partner\" \"Married, in a civil union or living with a partner\" \"Married, in a civil union or living with a partner\" \"Widowed\" ...\n",
      " $ r_jind        : chr  \"â\\200\\235BUSINESS AND REPAIR SERVICESâ\\200\\235\" \"â\\200\\235EDUCATIONâ\\200\\235\" \"â\\200\\235PROFESSIONAL AND RELATED SERVICESâ\\200\\235\" \"â\\200\\235RETAIL TRADEâ\\200\\235\" ...\n",
      " $ jlablr        : chr  \"Don't know\" \"2\" \"3\" \"Don't know\" ...\n",
      " $ jnatlr        : chr  \"Don't know\" \"8\" \"6\" NA ...\n",
      " $ jgrnlr        : chr  \"Don't know\" \"3\" \"3\" NA ...\n",
      " $ jnzflr        : chr  \"Don't know\" \"2\" \"7\" NA ...\n",
      " $ jactlr        : chr  \"Don't know\" \"Right\" \"8\" NA ...\n",
      " $ junflr        : chr  \"Don't know\" \"Centre\" \"7\" NA ...\n",
      " $ jmaolr        : chr  \"Don't know\" \"3\" \"3\" NA ...\n",
      " $ jmnplr        : chr  \"Don't know\" \"Left\" \"1\" NA ...\n",
      " $ jslflr        : chr  \"Don't know\" \"6\" \"7\" \"Don't know\" ...\n",
      " $ jrelservices  : chr  \"Never\" \"2-3 times a month\" \"2-3 times a month\" \"Once a year\" ...\n",
      " $ jrelnone      : chr  \"No religion\" NA NA NA ...\n",
      " $ jrelang       : chr  NA NA NA \"Anglican\" ...\n",
      " $ jrelpres      : chr  NA NA NA NA ...\n",
      " $ jrelcath      : chr  NA NA NA NA ...\n",
      " $ jrelmeth      : chr  NA NA NA NA ...\n",
      " $ jrelbap       : chr  NA NA NA NA ...\n",
      " $ jrellat       : chr  NA NA NA NA ...\n",
      " $ jrelrat       : chr  NA NA NA NA ...\n",
      " $ jrelfun       : chr  NA NA NA NA ...\n",
      " $ jrelothc      : chr  NA \"Other Christian\" \"Other Christian\" NA ...\n",
      " $ jrelnonc      : chr  NA NA NA NA ...\n",
      " $ jreligionx    : chr  \"\" \"Christian\" \"No denomination\" \"\" ...\n",
      " $ jreligiousity : chr  \"Have no religious beliefs\" \"Very religious\" \"Somewhat religious\" \"Somewhat religious\" ...\n",
      " $ jethnicity_e  : chr  \"NZ European\" \"NZ European\" \"NZ European\" NA ...\n",
      " $ jethnicity_m  : chr  NA NA NA \"NZ Maori\" ...\n",
      " $ jethnicity_p  : chr  NA NA NA NA ...\n",
      " $ jethnicity_a  : chr  NA NA NA NA ...\n",
      " $ jethnicity_o  : chr  NA NA NA NA ...\n",
      " $ jethnicityx   : chr  \"\" \"\" \"\" \"\" ...\n",
      "  [list output truncated]\n"
     ]
    }
   ],
   "source": [
    "str(selected_nzes2011)"
   ]
  },
  {
   "cell_type": "code",
   "execution_count": 4,
   "metadata": {},
   "outputs": [
    {
     "data": {
      "text/plain": [
       "     Jelect        jblogel           jnewspaper         jnatradio        \n",
       " Min.   : 1.00   Length:3101        Length:3101        Length:3101       \n",
       " 1st Qu.:21.00   Class :character   Class :character   Class :character  \n",
       " Median :44.00   Mode  :character   Mode  :character   Mode  :character  \n",
       " Mean   :41.41                                                           \n",
       " 3rd Qu.:63.00                                                           \n",
       " Max.   :70.00                                                           \n",
       " NA's   :2                                                               \n",
       "  jtalkback          jdiscussp           jrallies          jpersuade        \n",
       " Length:3101        Length:3101        Length:3101        Length:3101       \n",
       " Class :character   Class :character   Class :character   Class :character  \n",
       " Mode  :character   Mode  :character   Mode  :character   Mode  :character  \n",
       "                                                                            \n",
       "                                                                            \n",
       "                                                                            \n",
       "                                                                            \n",
       "   jpcmoney          jpcposter            jlablike       jnatlike   \n",
       " Length:3101        Length:3101        5      : 546   10     : 415  \n",
       " Class :character   Class :character   8      : 348   8      : 414  \n",
       " Mode  :character   Mode  :character   10     : 334   0      : 411  \n",
       "                                       7      : 322   5      : 385  \n",
       "                                       3      : 277   9      : 304  \n",
       "                                       (Other):1179   (Other):1080  \n",
       "                                       NA's   :  95   NA's   :  92  \n",
       "    jgrnlike       jnzflike          jactlike         junflike  \n",
       " 5      : 633   0      : 622   0         :958   5         :662  \n",
       " 6      : 315   5      : 544   5         :435   0         :547  \n",
       " 8      : 301   1      : 298   1         :341   Don't know:499  \n",
       " 7      : 290   2      : 266   2         :286   1         :256  \n",
       " 0      : 244   3      : 227   Don't know:282   2         :256  \n",
       " (Other):1183   (Other):1011   (Other)   :649   (Other)   :696  \n",
       " NA's   : 135   NA's   : 133   NA's      :150   NA's      :185  \n",
       "       jmaolike          jmnplike     jmostlike          jmostlikex       \n",
       " 5         : 668   0         :1049   Length:3101        Length:3101       \n",
       " 0         : 437   Don't know: 398   Class :character   Class :character  \n",
       " Don't know: 275   5         : 385   Mode  :character   Mode  :character  \n",
       " 6         : 249   1         : 288                                        \n",
       " 2         : 207   2         : 191                                        \n",
       " (Other)   :1121   (Other)   : 644                                        \n",
       " NA's      : 144   NA's      : 146                                        \n",
       "  jrepublic          jsphealth            jspedu            jspunemp        \n",
       " Length:3101        Length:3101        Length:3101        Length:3101       \n",
       " Class :character   Class :character   Class :character   Class :character  \n",
       " Mode  :character   Mode  :character   Mode  :character   Mode  :character  \n",
       "                                                                            \n",
       "                                                                            \n",
       "                                                                            \n",
       "                                                                            \n",
       "  jspdefence          jspsuper          jspbusind          jsppolice        \n",
       " Length:3101        Length:3101        Length:3101        Length:3101       \n",
       " Class :character   Class :character   Class :character   Class :character  \n",
       " Mode  :character   Mode  :character   Mode  :character   Mode  :character  \n",
       "                                                                            \n",
       "                                                                            \n",
       "                                                                            \n",
       "                                                                            \n",
       "  jspwelfare         jspenviro           jgovpdk            jgovplab        \n",
       " Length:3101        Length:3101        Length:3101        Length:3101       \n",
       " Class :character   Class :character   Class :character   Class :character  \n",
       " Mode  :character   Mode  :character   Mode  :character   Mode  :character  \n",
       "                                                                            \n",
       "                                                                            \n",
       "                                                                            \n",
       "                                                                            \n",
       "   jgovpnat           jgovpgrn           jgovpnzf           jgovpact        \n",
       " Length:3101        Length:3101        Length:3101        Length:3101       \n",
       " Class :character   Class :character   Class :character   Class :character  \n",
       " Mode  :character   Mode  :character   Mode  :character   Mode  :character  \n",
       "                                                                            \n",
       "                                                                            \n",
       "                                                                            \n",
       "                                                                            \n",
       "   jgovunf            jgovpmao           jgovpmnp         jnevervoteno      \n",
       " Length:3101        Length:3101        Length:3101        Length:3101       \n",
       " Class :character   Class :character   Class :character   Class :character  \n",
       " Mode  :character   Mode  :character   Mode  :character   Mode  :character  \n",
       "                                                                            \n",
       "                                                                            \n",
       "                                                                            \n",
       "                                                                            \n",
       " jnevervotelab      jnevervotenat      jnevervotegrn      jnevervotenzf     \n",
       " Length:3101        Length:3101        Length:3101        Length:3101       \n",
       " Class :character   Class :character   Class :character   Class :character  \n",
       " Mode  :character   Mode  :character   Mode  :character   Mode  :character  \n",
       "                                                                            \n",
       "                                                                            \n",
       "                                                                            \n",
       "                                                                            \n",
       " jnevervoteact      jnevervoteunf      jnevervotemao      jnevervotemnp     \n",
       " Length:3101        Length:3101        Length:3101        Length:3101       \n",
       " Class :character   Class :character   Class :character   Class :character  \n",
       " Mode  :character   Mode  :character   Mode  :character   Mode  :character  \n",
       "                                                                            \n",
       "                                                                            \n",
       "                                                                            \n",
       "                                                                            \n",
       " jnevervoteoth      jnevervoteothx       jfirstpx           jsecondp        \n",
       " Length:3101        Length:3101        Length:3101        Length:3101       \n",
       " Class :character   Class :character   Class :character   Class :character  \n",
       " Mode  :character   Mode  :character   Mode  :character   Mode  :character  \n",
       "                                                                            \n",
       "                                                                            \n",
       "                                                                            \n",
       "                                                                            \n",
       "      jage         jlanguage          jlanguagex          jrollsex        \n",
       " Min.   : 18.00   Length:3101        Length:3101        Length:3101       \n",
       " 1st Qu.: 41.00   Class :character   Class :character   Class :character  \n",
       " Median : 54.00   Mode  :character   Mode  :character   Mode  :character  \n",
       " Mean   : 53.22                                                           \n",
       " 3rd Qu.: 66.00                                                           \n",
       " Max.   :100.00                                                           \n",
       " NA's   :69                                                               \n",
       "    jhqual             jwkft              jwkpt              jwkun          \n",
       " Length:3101        Length:3101        Length:3101        Length:3101       \n",
       " Class :character   Class :character   Class :character   Class :character  \n",
       " Mode  :character   Mode  :character   Mode  :character   Mode  :character  \n",
       "                                                                            \n",
       "                                                                            \n",
       "                                                                            \n",
       "                                                                            \n",
       "    jwkret             jwkdis             jwksch            jwkunpo         \n",
       " Length:3101        Length:3101        Length:3101        Length:3101       \n",
       " Class :character   Class :character   Class :character   Class :character  \n",
       " Mode  :character   Mode  :character   Mode  :character   Mode  :character  \n",
       "                                                                            \n",
       "                                                                            \n",
       "                                                                            \n",
       "                                                                            \n",
       "   jwkunpi           jhhincome           jhhadults          jhhchn      \n",
       " Length:3101        Length:3101        Min.   : 0.000   Min.   : 0.000  \n",
       " Class :character   Class :character   1st Qu.: 2.000   1st Qu.: 0.000  \n",
       " Mode  :character   Mode  :character   Median : 2.000   Median : 1.000  \n",
       "                                       Mean   : 2.203   Mean   : 1.329  \n",
       "                                       3rd Qu.: 2.000   3rd Qu.: 2.000  \n",
       "                                       Max.   :40.000   Max.   :17.000  \n",
       "                                       NA's   :120      NA's   :1789    \n",
       "   jmarital            r_jind             jlablr             jnatlr         \n",
       " Length:3101        Length:3101        Length:3101        Length:3101       \n",
       " Class :character   Class :character   Class :character   Class :character  \n",
       " Mode  :character   Mode  :character   Mode  :character   Mode  :character  \n",
       "                                                                            \n",
       "                                                                            \n",
       "                                                                            \n",
       "                                                                            \n",
       "    jgrnlr             jnzflr             jactlr             junflr         \n",
       " Length:3101        Length:3101        Length:3101        Length:3101       \n",
       " Class :character   Class :character   Class :character   Class :character  \n",
       " Mode  :character   Mode  :character   Mode  :character   Mode  :character  \n",
       "                                                                            \n",
       "                                                                            \n",
       "                                                                            \n",
       "                                                                            \n",
       "    jmaolr             jmnplr             jslflr          jrelservices      \n",
       " Length:3101        Length:3101        Length:3101        Length:3101       \n",
       " Class :character   Class :character   Class :character   Class :character  \n",
       " Mode  :character   Mode  :character   Mode  :character   Mode  :character  \n",
       "                                                                            \n",
       "                                                                            \n",
       "                                                                            \n",
       "                                                                            \n",
       "   jrelnone           jrelang            jrelpres           jrelcath        \n",
       " Length:3101        Length:3101        Length:3101        Length:3101       \n",
       " Class :character   Class :character   Class :character   Class :character  \n",
       " Mode  :character   Mode  :character   Mode  :character   Mode  :character  \n",
       "                                                                            \n",
       "                                                                            \n",
       "                                                                            \n",
       "                                                                            \n",
       "   jrelmeth           jrelbap            jrellat            jrelrat         \n",
       " Length:3101        Length:3101        Length:3101        Length:3101       \n",
       " Class :character   Class :character   Class :character   Class :character  \n",
       " Mode  :character   Mode  :character   Mode  :character   Mode  :character  \n",
       "                                                                            \n",
       "                                                                            \n",
       "                                                                            \n",
       "                                                                            \n",
       "   jrelfun            jrelothc           jrelnonc          jreligionx       \n",
       " Length:3101        Length:3101        Length:3101        Length:3101       \n",
       " Class :character   Class :character   Class :character   Class :character  \n",
       " Mode  :character   Mode  :character   Mode  :character   Mode  :character  \n",
       "                                                                            \n",
       "                                                                            \n",
       "                                                                            \n",
       "                                                                            \n",
       " jreligiousity      jethnicity_e       jethnicity_m       jethnicity_p      \n",
       " Length:3101        Length:3101        Length:3101        Length:3101       \n",
       " Class :character   Class :character   Class :character   Class :character  \n",
       " Mode  :character   Mode  :character   Mode  :character   Mode  :character  \n",
       "                                                                            \n",
       "                                                                            \n",
       "                                                                            \n",
       "                                                                            \n",
       " jethnicity_a       jethnicity_o       jethnicityx        jethnicmost       \n",
       " Length:3101        Length:3101        Length:3101        Length:3101       \n",
       " Class :character   Class :character   Class :character   Class :character  \n",
       " Mode  :character   Mode  :character   Mode  :character   Mode  :character  \n",
       "                                                                            \n",
       "                                                                            \n",
       "                                                                            \n",
       "                                                                            \n",
       " jethnicmostx        jpartyvote         jelecvote          njptyvote        \n",
       " Length:3101        Length:3101        Length:3101        Length:3101       \n",
       " Class :character   Class :character   Class :character   Class :character  \n",
       " Mode  :character   Mode  :character   Mode  :character   Mode  :character  \n",
       "                                                                            \n",
       "                                                                            \n",
       "                                                                            \n",
       "                                                                            \n",
       "  njelecvote        jdiffvoting        X_singlefav       \n",
       " Length:3101        Length:3101        Length:3101       \n",
       " Class :character   Class :character   Class :character  \n",
       " Mode  :character   Mode  :character   Mode  :character  \n",
       "                                                         \n",
       "                                                         \n",
       "                                                         \n",
       "                                                         "
      ]
     },
     "metadata": {},
     "output_type": "display_data"
    }
   ],
   "source": [
    "summary(selected_nzes2011)"
   ]
  },
  {
   "cell_type": "markdown",
   "metadata": {},
   "source": [
    "As a first question, we might be interested in exploring the relationship between the party the person voted for, the party that was their favourite, and if they believed that their vote makes a difference -- focusing on the question that are people who believe their vote makes a difference more likely to strategically vote for a party not their favourite. To achieve this, we familiarise ourselves with the variables `jpartyvote`, `jdiffvoting`, and `_singlefav`.\n",
    "\n",
    "    `jpartyvote`: if cast party vote, for which party \n",
    "    \n",
    "    `jdiffvoting`: does voting make any difference to what happens\n",
    "    \n",
    "    `_singlefav`    |Caluclated Variable of most liked of major parties "
   ]
  },
  {
   "cell_type": "code",
   "execution_count": 5,
   "metadata": {},
   "outputs": [
    {
     "data": {
      "text/html": [
       "<style>\n",
       ".list-inline {list-style: none; margin:0; padding: 0}\n",
       ".list-inline>li {display: inline-block}\n",
       ".list-inline>li:not(:last-child)::after {content: \"\\00b7\"; padding: 0 .5ex}\n",
       "</style>\n",
       "<ol class=list-inline><li>'Jelect'</li><li>'jblogel'</li><li>'jnewspaper'</li><li>'jnatradio'</li><li>'jtalkback'</li><li>'jdiscussp'</li><li>'jrallies'</li><li>'jpersuade'</li><li>'jpcmoney'</li><li>'jpcposter'</li><li>'jlablike'</li><li>'jnatlike'</li><li>'jgrnlike'</li><li>'jnzflike'</li><li>'jactlike'</li><li>'junflike'</li><li>'jmaolike'</li><li>'jmnplike'</li><li>'jmostlike'</li><li>'jmostlikex'</li><li>'jrepublic'</li><li>'jsphealth'</li><li>'jspedu'</li><li>'jspunemp'</li><li>'jspdefence'</li><li>'jspsuper'</li><li>'jspbusind'</li><li>'jsppolice'</li><li>'jspwelfare'</li><li>'jspenviro'</li><li>'jgovpdk'</li><li>'jgovplab'</li><li>'jgovpnat'</li><li>'jgovpgrn'</li><li>'jgovpnzf'</li><li>'jgovpact'</li><li>'jgovunf'</li><li>'jgovpmao'</li><li>'jgovpmnp'</li><li>'jnevervoteno'</li><li>'jnevervotelab'</li><li>'jnevervotenat'</li><li>'jnevervotegrn'</li><li>'jnevervotenzf'</li><li>'jnevervoteact'</li><li>'jnevervoteunf'</li><li>'jnevervotemao'</li><li>'jnevervotemnp'</li><li>'jnevervoteoth'</li><li>'jnevervoteothx'</li><li>'jfirstpx'</li><li>'jsecondp'</li><li>'jage'</li><li>'jlanguage'</li><li>'jlanguagex'</li><li>'jrollsex'</li><li>'jhqual'</li><li>'jwkft'</li><li>'jwkpt'</li><li>'jwkun'</li><li>'jwkret'</li><li>'jwkdis'</li><li>'jwksch'</li><li>'jwkunpo'</li><li>'jwkunpi'</li><li>'jhhincome'</li><li>'jhhadults'</li><li>'jhhchn'</li><li>'jmarital'</li><li>'r_jind'</li><li>'jlablr'</li><li>'jnatlr'</li><li>'jgrnlr'</li><li>'jnzflr'</li><li>'jactlr'</li><li>'junflr'</li><li>'jmaolr'</li><li>'jmnplr'</li><li>'jslflr'</li><li>'jrelservices'</li><li>'jrelnone'</li><li>'jrelang'</li><li>'jrelpres'</li><li>'jrelcath'</li><li>'jrelmeth'</li><li>'jrelbap'</li><li>'jrellat'</li><li>'jrelrat'</li><li>'jrelfun'</li><li>'jrelothc'</li><li>'jrelnonc'</li><li>'jreligionx'</li><li>'jreligiousity'</li><li>'jethnicity_e'</li><li>'jethnicity_m'</li><li>'jethnicity_p'</li><li>'jethnicity_a'</li><li>'jethnicity_o'</li><li>'jethnicityx'</li><li>'jethnicmost'</li><li>'jethnicmostx'</li><li>'jpartyvote'</li><li>'jelecvote'</li><li>'njptyvote'</li><li>'njelecvote'</li><li>'jdiffvoting'</li><li>'X_singlefav'</li></ol>\n"
      ],
      "text/latex": [
       "\\begin{enumerate*}\n",
       "\\item 'Jelect'\n",
       "\\item 'jblogel'\n",
       "\\item 'jnewspaper'\n",
       "\\item 'jnatradio'\n",
       "\\item 'jtalkback'\n",
       "\\item 'jdiscussp'\n",
       "\\item 'jrallies'\n",
       "\\item 'jpersuade'\n",
       "\\item 'jpcmoney'\n",
       "\\item 'jpcposter'\n",
       "\\item 'jlablike'\n",
       "\\item 'jnatlike'\n",
       "\\item 'jgrnlike'\n",
       "\\item 'jnzflike'\n",
       "\\item 'jactlike'\n",
       "\\item 'junflike'\n",
       "\\item 'jmaolike'\n",
       "\\item 'jmnplike'\n",
       "\\item 'jmostlike'\n",
       "\\item 'jmostlikex'\n",
       "\\item 'jrepublic'\n",
       "\\item 'jsphealth'\n",
       "\\item 'jspedu'\n",
       "\\item 'jspunemp'\n",
       "\\item 'jspdefence'\n",
       "\\item 'jspsuper'\n",
       "\\item 'jspbusind'\n",
       "\\item 'jsppolice'\n",
       "\\item 'jspwelfare'\n",
       "\\item 'jspenviro'\n",
       "\\item 'jgovpdk'\n",
       "\\item 'jgovplab'\n",
       "\\item 'jgovpnat'\n",
       "\\item 'jgovpgrn'\n",
       "\\item 'jgovpnzf'\n",
       "\\item 'jgovpact'\n",
       "\\item 'jgovunf'\n",
       "\\item 'jgovpmao'\n",
       "\\item 'jgovpmnp'\n",
       "\\item 'jnevervoteno'\n",
       "\\item 'jnevervotelab'\n",
       "\\item 'jnevervotenat'\n",
       "\\item 'jnevervotegrn'\n",
       "\\item 'jnevervotenzf'\n",
       "\\item 'jnevervoteact'\n",
       "\\item 'jnevervoteunf'\n",
       "\\item 'jnevervotemao'\n",
       "\\item 'jnevervotemnp'\n",
       "\\item 'jnevervoteoth'\n",
       "\\item 'jnevervoteothx'\n",
       "\\item 'jfirstpx'\n",
       "\\item 'jsecondp'\n",
       "\\item 'jage'\n",
       "\\item 'jlanguage'\n",
       "\\item 'jlanguagex'\n",
       "\\item 'jrollsex'\n",
       "\\item 'jhqual'\n",
       "\\item 'jwkft'\n",
       "\\item 'jwkpt'\n",
       "\\item 'jwkun'\n",
       "\\item 'jwkret'\n",
       "\\item 'jwkdis'\n",
       "\\item 'jwksch'\n",
       "\\item 'jwkunpo'\n",
       "\\item 'jwkunpi'\n",
       "\\item 'jhhincome'\n",
       "\\item 'jhhadults'\n",
       "\\item 'jhhchn'\n",
       "\\item 'jmarital'\n",
       "\\item 'r\\_jind'\n",
       "\\item 'jlablr'\n",
       "\\item 'jnatlr'\n",
       "\\item 'jgrnlr'\n",
       "\\item 'jnzflr'\n",
       "\\item 'jactlr'\n",
       "\\item 'junflr'\n",
       "\\item 'jmaolr'\n",
       "\\item 'jmnplr'\n",
       "\\item 'jslflr'\n",
       "\\item 'jrelservices'\n",
       "\\item 'jrelnone'\n",
       "\\item 'jrelang'\n",
       "\\item 'jrelpres'\n",
       "\\item 'jrelcath'\n",
       "\\item 'jrelmeth'\n",
       "\\item 'jrelbap'\n",
       "\\item 'jrellat'\n",
       "\\item 'jrelrat'\n",
       "\\item 'jrelfun'\n",
       "\\item 'jrelothc'\n",
       "\\item 'jrelnonc'\n",
       "\\item 'jreligionx'\n",
       "\\item 'jreligiousity'\n",
       "\\item 'jethnicity\\_e'\n",
       "\\item 'jethnicity\\_m'\n",
       "\\item 'jethnicity\\_p'\n",
       "\\item 'jethnicity\\_a'\n",
       "\\item 'jethnicity\\_o'\n",
       "\\item 'jethnicityx'\n",
       "\\item 'jethnicmost'\n",
       "\\item 'jethnicmostx'\n",
       "\\item 'jpartyvote'\n",
       "\\item 'jelecvote'\n",
       "\\item 'njptyvote'\n",
       "\\item 'njelecvote'\n",
       "\\item 'jdiffvoting'\n",
       "\\item 'X\\_singlefav'\n",
       "\\end{enumerate*}\n"
      ],
      "text/markdown": [
       "1. 'Jelect'\n",
       "2. 'jblogel'\n",
       "3. 'jnewspaper'\n",
       "4. 'jnatradio'\n",
       "5. 'jtalkback'\n",
       "6. 'jdiscussp'\n",
       "7. 'jrallies'\n",
       "8. 'jpersuade'\n",
       "9. 'jpcmoney'\n",
       "10. 'jpcposter'\n",
       "11. 'jlablike'\n",
       "12. 'jnatlike'\n",
       "13. 'jgrnlike'\n",
       "14. 'jnzflike'\n",
       "15. 'jactlike'\n",
       "16. 'junflike'\n",
       "17. 'jmaolike'\n",
       "18. 'jmnplike'\n",
       "19. 'jmostlike'\n",
       "20. 'jmostlikex'\n",
       "21. 'jrepublic'\n",
       "22. 'jsphealth'\n",
       "23. 'jspedu'\n",
       "24. 'jspunemp'\n",
       "25. 'jspdefence'\n",
       "26. 'jspsuper'\n",
       "27. 'jspbusind'\n",
       "28. 'jsppolice'\n",
       "29. 'jspwelfare'\n",
       "30. 'jspenviro'\n",
       "31. 'jgovpdk'\n",
       "32. 'jgovplab'\n",
       "33. 'jgovpnat'\n",
       "34. 'jgovpgrn'\n",
       "35. 'jgovpnzf'\n",
       "36. 'jgovpact'\n",
       "37. 'jgovunf'\n",
       "38. 'jgovpmao'\n",
       "39. 'jgovpmnp'\n",
       "40. 'jnevervoteno'\n",
       "41. 'jnevervotelab'\n",
       "42. 'jnevervotenat'\n",
       "43. 'jnevervotegrn'\n",
       "44. 'jnevervotenzf'\n",
       "45. 'jnevervoteact'\n",
       "46. 'jnevervoteunf'\n",
       "47. 'jnevervotemao'\n",
       "48. 'jnevervotemnp'\n",
       "49. 'jnevervoteoth'\n",
       "50. 'jnevervoteothx'\n",
       "51. 'jfirstpx'\n",
       "52. 'jsecondp'\n",
       "53. 'jage'\n",
       "54. 'jlanguage'\n",
       "55. 'jlanguagex'\n",
       "56. 'jrollsex'\n",
       "57. 'jhqual'\n",
       "58. 'jwkft'\n",
       "59. 'jwkpt'\n",
       "60. 'jwkun'\n",
       "61. 'jwkret'\n",
       "62. 'jwkdis'\n",
       "63. 'jwksch'\n",
       "64. 'jwkunpo'\n",
       "65. 'jwkunpi'\n",
       "66. 'jhhincome'\n",
       "67. 'jhhadults'\n",
       "68. 'jhhchn'\n",
       "69. 'jmarital'\n",
       "70. 'r_jind'\n",
       "71. 'jlablr'\n",
       "72. 'jnatlr'\n",
       "73. 'jgrnlr'\n",
       "74. 'jnzflr'\n",
       "75. 'jactlr'\n",
       "76. 'junflr'\n",
       "77. 'jmaolr'\n",
       "78. 'jmnplr'\n",
       "79. 'jslflr'\n",
       "80. 'jrelservices'\n",
       "81. 'jrelnone'\n",
       "82. 'jrelang'\n",
       "83. 'jrelpres'\n",
       "84. 'jrelcath'\n",
       "85. 'jrelmeth'\n",
       "86. 'jrelbap'\n",
       "87. 'jrellat'\n",
       "88. 'jrelrat'\n",
       "89. 'jrelfun'\n",
       "90. 'jrelothc'\n",
       "91. 'jrelnonc'\n",
       "92. 'jreligionx'\n",
       "93. 'jreligiousity'\n",
       "94. 'jethnicity_e'\n",
       "95. 'jethnicity_m'\n",
       "96. 'jethnicity_p'\n",
       "97. 'jethnicity_a'\n",
       "98. 'jethnicity_o'\n",
       "99. 'jethnicityx'\n",
       "100. 'jethnicmost'\n",
       "101. 'jethnicmostx'\n",
       "102. 'jpartyvote'\n",
       "103. 'jelecvote'\n",
       "104. 'njptyvote'\n",
       "105. 'njelecvote'\n",
       "106. 'jdiffvoting'\n",
       "107. 'X_singlefav'\n",
       "\n",
       "\n"
      ],
      "text/plain": [
       "  [1] \"Jelect\"         \"jblogel\"        \"jnewspaper\"     \"jnatradio\"     \n",
       "  [5] \"jtalkback\"      \"jdiscussp\"      \"jrallies\"       \"jpersuade\"     \n",
       "  [9] \"jpcmoney\"       \"jpcposter\"      \"jlablike\"       \"jnatlike\"      \n",
       " [13] \"jgrnlike\"       \"jnzflike\"       \"jactlike\"       \"junflike\"      \n",
       " [17] \"jmaolike\"       \"jmnplike\"       \"jmostlike\"      \"jmostlikex\"    \n",
       " [21] \"jrepublic\"      \"jsphealth\"      \"jspedu\"         \"jspunemp\"      \n",
       " [25] \"jspdefence\"     \"jspsuper\"       \"jspbusind\"      \"jsppolice\"     \n",
       " [29] \"jspwelfare\"     \"jspenviro\"      \"jgovpdk\"        \"jgovplab\"      \n",
       " [33] \"jgovpnat\"       \"jgovpgrn\"       \"jgovpnzf\"       \"jgovpact\"      \n",
       " [37] \"jgovunf\"        \"jgovpmao\"       \"jgovpmnp\"       \"jnevervoteno\"  \n",
       " [41] \"jnevervotelab\"  \"jnevervotenat\"  \"jnevervotegrn\"  \"jnevervotenzf\" \n",
       " [45] \"jnevervoteact\"  \"jnevervoteunf\"  \"jnevervotemao\"  \"jnevervotemnp\" \n",
       " [49] \"jnevervoteoth\"  \"jnevervoteothx\" \"jfirstpx\"       \"jsecondp\"      \n",
       " [53] \"jage\"           \"jlanguage\"      \"jlanguagex\"     \"jrollsex\"      \n",
       " [57] \"jhqual\"         \"jwkft\"          \"jwkpt\"          \"jwkun\"         \n",
       " [61] \"jwkret\"         \"jwkdis\"         \"jwksch\"         \"jwkunpo\"       \n",
       " [65] \"jwkunpi\"        \"jhhincome\"      \"jhhadults\"      \"jhhchn\"        \n",
       " [69] \"jmarital\"       \"r_jind\"         \"jlablr\"         \"jnatlr\"        \n",
       " [73] \"jgrnlr\"         \"jnzflr\"         \"jactlr\"         \"junflr\"        \n",
       " [77] \"jmaolr\"         \"jmnplr\"         \"jslflr\"         \"jrelservices\"  \n",
       " [81] \"jrelnone\"       \"jrelang\"        \"jrelpres\"       \"jrelcath\"      \n",
       " [85] \"jrelmeth\"       \"jrelbap\"        \"jrellat\"        \"jrelrat\"       \n",
       " [89] \"jrelfun\"        \"jrelothc\"       \"jrelnonc\"       \"jreligionx\"    \n",
       " [93] \"jreligiousity\"  \"jethnicity_e\"   \"jethnicity_m\"   \"jethnicity_p\"  \n",
       " [97] \"jethnicity_a\"   \"jethnicity_o\"   \"jethnicityx\"    \"jethnicmost\"   \n",
       "[101] \"jethnicmostx\"   \"jpartyvote\"     \"jelecvote\"      \"njptyvote\"     \n",
       "[105] \"njelecvote\"     \"jdiffvoting\"    \"X_singlefav\"   "
      ]
     },
     "metadata": {},
     "output_type": "display_data"
    }
   ],
   "source": [
    "names(selected_nzes2011)"
   ]
  },
  {
   "cell_type": "markdown",
   "metadata": {},
   "source": [
    "When we have hundreds of column names, a useful tip is to just search out only possible names. We can search the names for a fragment of the name by using the `grep(\"FRAGMENT\", variable, value = TRUE)` command, which in this case might be:"
   ]
  },
  {
   "cell_type": "code",
   "execution_count": 6,
   "metadata": {},
   "outputs": [
    {
     "data": {
      "text/html": [
       "'X_singlefav'"
      ],
      "text/latex": [
       "'X\\_singlefav'"
      ],
      "text/markdown": [
       "'X_singlefav'"
      ],
      "text/plain": [
       "[1] \"X_singlefav\""
      ]
     },
     "metadata": {},
     "output_type": "display_data"
    }
   ],
   "source": [
    "grep(\"singlefav\", names(selected_nzes2011), value = TRUE)"
   ]
  },
  {
   "cell_type": "markdown",
   "metadata": {},
   "source": [
    "The `value = TRUE` argument, as described in the help for the `grep()` function reports the mathing character string, as opposed to the index number for that string.\n",
    "\n",
    "We can now confirm that the variable is called `X_singlefav`, so that is how we should be referring to it."
   ]
  },
  {
   "cell_type": "code",
   "execution_count": 7,
   "metadata": {},
   "outputs": [
    {
     "name": "stdout",
     "output_type": "stream",
     "text": [
      "'data.frame':\t3101 obs. of  3 variables:\n",
      " $ jpartyvote : chr  \"National\" \"National\" \"National\" \"NZ First\" ...\n",
      " $ jdiffvoting: chr  \"Voting can make a reasonable amount of difference to what happens\" \"Voting can make some difference to what happens\" \"Voting can make a big difference to what happens\" \"Voting can make some difference to what happens\" ...\n",
      " $ X_singlefav: chr  \"National\" \"National\" \"National\" \"Labour\" ...\n"
     ]
    }
   ],
   "source": [
    "selected_nzes2011 %>% \n",
    "  select(jpartyvote, jdiffvoting, X_singlefav) %>% \n",
    "  str()"
   ]
  },
  {
   "cell_type": "markdown",
   "metadata": {},
   "source": [
    "These are all categorical data, however they are recorded as characters (text strings) as opposed to factors.\n",
    "\n",
    "An easy way of tabulating these data to see how many times each level of is to use the `group_by()` function along with the `summarise()` command:"
   ]
  },
  {
   "cell_type": "code",
   "execution_count": 8,
   "metadata": {},
   "outputs": [
    {
     "name": "stderr",
     "output_type": "stream",
     "text": [
      "`summarise()` ungrouping output (override with `.groups` argument)\n",
      "\n"
     ]
    },
    {
     "data": {
      "text/html": [
       "<table>\n",
       "<caption>A tibble: 14 × 2</caption>\n",
       "<thead>\n",
       "\t<tr><th scope=col>jpartyvote</th><th scope=col>count</th></tr>\n",
       "\t<tr><th scope=col>&lt;chr&gt;</th><th scope=col>&lt;int&gt;</th></tr>\n",
       "</thead>\n",
       "<tbody>\n",
       "\t<tr><td>Act          </td><td>  29</td></tr>\n",
       "\t<tr><td>ALC          </td><td>  10</td></tr>\n",
       "\t<tr><td>Alliance     </td><td>   2</td></tr>\n",
       "\t<tr><td>Another party</td><td>   8</td></tr>\n",
       "\t<tr><td>Conservative </td><td>  74</td></tr>\n",
       "\t<tr><td>Don't know   </td><td>  23</td></tr>\n",
       "\t<tr><td>Green        </td><td> 348</td></tr>\n",
       "\t<tr><td>Labour       </td><td> 749</td></tr>\n",
       "\t<tr><td>Mana         </td><td>  62</td></tr>\n",
       "\t<tr><td>Maori Party  </td><td> 128</td></tr>\n",
       "\t<tr><td>National     </td><td>1130</td></tr>\n",
       "\t<tr><td>NZ First     </td><td> 216</td></tr>\n",
       "\t<tr><td>United Future</td><td>  14</td></tr>\n",
       "\t<tr><td>NA           </td><td> 308</td></tr>\n",
       "</tbody>\n",
       "</table>\n"
      ],
      "text/latex": [
       "A tibble: 14 × 2\n",
       "\\begin{tabular}{ll}\n",
       " jpartyvote & count\\\\\n",
       " <chr> & <int>\\\\\n",
       "\\hline\n",
       "\t Act           &   29\\\\\n",
       "\t ALC           &   10\\\\\n",
       "\t Alliance      &    2\\\\\n",
       "\t Another party &    8\\\\\n",
       "\t Conservative  &   74\\\\\n",
       "\t Don't know    &   23\\\\\n",
       "\t Green         &  348\\\\\n",
       "\t Labour        &  749\\\\\n",
       "\t Mana          &   62\\\\\n",
       "\t Maori Party   &  128\\\\\n",
       "\t National      & 1130\\\\\n",
       "\t NZ First      &  216\\\\\n",
       "\t United Future &   14\\\\\n",
       "\t NA            &  308\\\\\n",
       "\\end{tabular}\n"
      ],
      "text/markdown": [
       "\n",
       "A tibble: 14 × 2\n",
       "\n",
       "| jpartyvote &lt;chr&gt; | count &lt;int&gt; |\n",
       "|---|---|\n",
       "| Act           |   29 |\n",
       "| ALC           |   10 |\n",
       "| Alliance      |    2 |\n",
       "| Another party |    8 |\n",
       "| Conservative  |   74 |\n",
       "| Don't know    |   23 |\n",
       "| Green         |  348 |\n",
       "| Labour        |  749 |\n",
       "| Mana          |   62 |\n",
       "| Maori Party   |  128 |\n",
       "| National      | 1130 |\n",
       "| NZ First      |  216 |\n",
       "| United Future |   14 |\n",
       "| NA            |  308 |\n",
       "\n"
      ],
      "text/plain": [
       "   jpartyvote    count\n",
       "1  Act             29 \n",
       "2  ALC             10 \n",
       "3  Alliance         2 \n",
       "4  Another party    8 \n",
       "5  Conservative    74 \n",
       "6  Don't know      23 \n",
       "7  Green          348 \n",
       "8  Labour         749 \n",
       "9  Mana            62 \n",
       "10 Maori Party    128 \n",
       "11 National      1130 \n",
       "12 NZ First       216 \n",
       "13 United Future   14 \n",
       "14 NA             308 "
      ]
     },
     "metadata": {},
     "output_type": "display_data"
    }
   ],
   "source": [
    "selected_nzes2011 %>% \n",
    "  group_by(jpartyvote) %>% \n",
    "  summarise(count = n())"
   ]
  },
  {
   "cell_type": "markdown",
   "metadata": {},
   "source": [
    "We can see that 23 people answered `\"Don't know\"`. Since our question is about people who knew which party they voted for, we might want to exclude these observations from our analysis. We can do so by `filter`ing them out."
   ]
  },
  {
   "cell_type": "code",
   "execution_count": 9,
   "metadata": {},
   "outputs": [
    {
     "name": "stderr",
     "output_type": "stream",
     "text": [
      "`summarise()` ungrouping output (override with `.groups` argument)\n",
      "\n"
     ]
    },
    {
     "data": {
      "text/html": [
       "<table>\n",
       "<caption>A tibble: 12 × 2</caption>\n",
       "<thead>\n",
       "\t<tr><th scope=col>jpartyvote</th><th scope=col>count</th></tr>\n",
       "\t<tr><th scope=col>&lt;chr&gt;</th><th scope=col>&lt;int&gt;</th></tr>\n",
       "</thead>\n",
       "<tbody>\n",
       "\t<tr><td>Act          </td><td>  29</td></tr>\n",
       "\t<tr><td>ALC          </td><td>  10</td></tr>\n",
       "\t<tr><td>Alliance     </td><td>   2</td></tr>\n",
       "\t<tr><td>Another party</td><td>   8</td></tr>\n",
       "\t<tr><td>Conservative </td><td>  74</td></tr>\n",
       "\t<tr><td>Green        </td><td> 348</td></tr>\n",
       "\t<tr><td>Labour       </td><td> 749</td></tr>\n",
       "\t<tr><td>Mana         </td><td>  62</td></tr>\n",
       "\t<tr><td>Maori Party  </td><td> 128</td></tr>\n",
       "\t<tr><td>National     </td><td>1130</td></tr>\n",
       "\t<tr><td>NZ First     </td><td> 216</td></tr>\n",
       "\t<tr><td>United Future</td><td>  14</td></tr>\n",
       "</tbody>\n",
       "</table>\n"
      ],
      "text/latex": [
       "A tibble: 12 × 2\n",
       "\\begin{tabular}{ll}\n",
       " jpartyvote & count\\\\\n",
       " <chr> & <int>\\\\\n",
       "\\hline\n",
       "\t Act           &   29\\\\\n",
       "\t ALC           &   10\\\\\n",
       "\t Alliance      &    2\\\\\n",
       "\t Another party &    8\\\\\n",
       "\t Conservative  &   74\\\\\n",
       "\t Green         &  348\\\\\n",
       "\t Labour        &  749\\\\\n",
       "\t Mana          &   62\\\\\n",
       "\t Maori Party   &  128\\\\\n",
       "\t National      & 1130\\\\\n",
       "\t NZ First      &  216\\\\\n",
       "\t United Future &   14\\\\\n",
       "\\end{tabular}\n"
      ],
      "text/markdown": [
       "\n",
       "A tibble: 12 × 2\n",
       "\n",
       "| jpartyvote &lt;chr&gt; | count &lt;int&gt; |\n",
       "|---|---|\n",
       "| Act           |   29 |\n",
       "| ALC           |   10 |\n",
       "| Alliance      |    2 |\n",
       "| Another party |    8 |\n",
       "| Conservative  |   74 |\n",
       "| Green         |  348 |\n",
       "| Labour        |  749 |\n",
       "| Mana          |   62 |\n",
       "| Maori Party   |  128 |\n",
       "| National      | 1130 |\n",
       "| NZ First      |  216 |\n",
       "| United Future |   14 |\n",
       "\n"
      ],
      "text/plain": [
       "   jpartyvote    count\n",
       "1  Act             29 \n",
       "2  ALC             10 \n",
       "3  Alliance         2 \n",
       "4  Another party    8 \n",
       "5  Conservative    74 \n",
       "6  Green          348 \n",
       "7  Labour         749 \n",
       "8  Mana            62 \n",
       "9  Maori Party    128 \n",
       "10 National      1130 \n",
       "11 NZ First       216 \n",
       "12 United Future   14 "
      ]
     },
     "metadata": {},
     "output_type": "display_data"
    }
   ],
   "source": [
    "selected_nzes2011 %>% \n",
    "  filter(jpartyvote != \"Don't know\") %>%\n",
    "  group_by(jpartyvote) %>% \n",
    "  summarise(count = n())"
   ]
  },
  {
   "cell_type": "markdown",
   "metadata": {},
   "source": [
    "We can also similarly view the levels and number of occurances of these levels in the  `X_singlefav` variable:"
   ]
  },
  {
   "cell_type": "code",
   "execution_count": 10,
   "metadata": {},
   "outputs": [
    {
     "name": "stderr",
     "output_type": "stream",
     "text": [
      "`summarise()` ungrouping output (override with `.groups` argument)\n",
      "\n"
     ]
    },
    {
     "data": {
      "text/html": [
       "<table>\n",
       "<caption>A tibble: 8 × 2</caption>\n",
       "<thead>\n",
       "\t<tr><th scope=col>X_singlefav</th><th scope=col>count</th></tr>\n",
       "\t<tr><th scope=col>&lt;chr&gt;</th><th scope=col>&lt;int&gt;</th></tr>\n",
       "</thead>\n",
       "<tbody>\n",
       "\t<tr><td>Act          </td><td>  33</td></tr>\n",
       "\t<tr><td>Green        </td><td> 388</td></tr>\n",
       "\t<tr><td>Labour       </td><td>1043</td></tr>\n",
       "\t<tr><td>Mana         </td><td>  47</td></tr>\n",
       "\t<tr><td>National     </td><td>1266</td></tr>\n",
       "\t<tr><td>NZ First     </td><td> 138</td></tr>\n",
       "\t<tr><td>United Future</td><td> 128</td></tr>\n",
       "\t<tr><td>NA           </td><td>  58</td></tr>\n",
       "</tbody>\n",
       "</table>\n"
      ],
      "text/latex": [
       "A tibble: 8 × 2\n",
       "\\begin{tabular}{ll}\n",
       " X\\_singlefav & count\\\\\n",
       " <chr> & <int>\\\\\n",
       "\\hline\n",
       "\t Act           &   33\\\\\n",
       "\t Green         &  388\\\\\n",
       "\t Labour        & 1043\\\\\n",
       "\t Mana          &   47\\\\\n",
       "\t National      & 1266\\\\\n",
       "\t NZ First      &  138\\\\\n",
       "\t United Future &  128\\\\\n",
       "\t NA            &   58\\\\\n",
       "\\end{tabular}\n"
      ],
      "text/markdown": [
       "\n",
       "A tibble: 8 × 2\n",
       "\n",
       "| X_singlefav &lt;chr&gt; | count &lt;int&gt; |\n",
       "|---|---|\n",
       "| Act           |   33 |\n",
       "| Green         |  388 |\n",
       "| Labour        | 1043 |\n",
       "| Mana          |   47 |\n",
       "| National      | 1266 |\n",
       "| NZ First      |  138 |\n",
       "| United Future |  128 |\n",
       "| NA            |   58 |\n",
       "\n"
      ],
      "text/plain": [
       "  X_singlefav   count\n",
       "1 Act             33 \n",
       "2 Green          388 \n",
       "3 Labour        1043 \n",
       "4 Mana            47 \n",
       "5 National      1266 \n",
       "6 NZ First       138 \n",
       "7 United Future  128 \n",
       "8 NA              58 "
      ]
     },
     "metadata": {},
     "output_type": "display_data"
    }
   ],
   "source": [
    "selected_nzes2011 %>% \n",
    "  group_by(X_singlefav) %>% \n",
    "  summarise(count = n())"
   ]
  },
  {
   "cell_type": "markdown",
   "metadata": {},
   "source": [
    "This set also has `NA` entries, but in this case we don't want to get rid of anything but the `NA`s so we need to target them directly. `NA` entries need special targeting because they do not actually exist (they are different to the text `\"NA\"` or a variable saved with the name `NA`)."
   ]
  },
  {
   "cell_type": "markdown",
   "metadata": {},
   "source": [
    "If we only wanted to find the `NA`s we would use the `is.na()` function with the name of the variable inside the parentheses. \n",
    "\n",
    "However since we want the entries that are **not** `NA`s we can use the __Not__ operator, `!`, to indicate \"we want all the ones that are not NA\":`!is.na()`. Hence we can `filter` out all non NAs in our `dplyr` chain:"
   ]
  },
  {
   "cell_type": "code",
   "execution_count": 11,
   "metadata": {},
   "outputs": [
    {
     "name": "stderr",
     "output_type": "stream",
     "text": [
      "`summarise()` ungrouping output (override with `.groups` argument)\n",
      "\n"
     ]
    },
    {
     "data": {
      "text/html": [
       "<table>\n",
       "<caption>A tibble: 7 × 2</caption>\n",
       "<thead>\n",
       "\t<tr><th scope=col>X_singlefav</th><th scope=col>count</th></tr>\n",
       "\t<tr><th scope=col>&lt;chr&gt;</th><th scope=col>&lt;int&gt;</th></tr>\n",
       "</thead>\n",
       "<tbody>\n",
       "\t<tr><td>Act          </td><td>  33</td></tr>\n",
       "\t<tr><td>Green        </td><td> 388</td></tr>\n",
       "\t<tr><td>Labour       </td><td>1043</td></tr>\n",
       "\t<tr><td>Mana         </td><td>  47</td></tr>\n",
       "\t<tr><td>National     </td><td>1266</td></tr>\n",
       "\t<tr><td>NZ First     </td><td> 138</td></tr>\n",
       "\t<tr><td>United Future</td><td> 128</td></tr>\n",
       "</tbody>\n",
       "</table>\n"
      ],
      "text/latex": [
       "A tibble: 7 × 2\n",
       "\\begin{tabular}{ll}\n",
       " X\\_singlefav & count\\\\\n",
       " <chr> & <int>\\\\\n",
       "\\hline\n",
       "\t Act           &   33\\\\\n",
       "\t Green         &  388\\\\\n",
       "\t Labour        & 1043\\\\\n",
       "\t Mana          &   47\\\\\n",
       "\t National      & 1266\\\\\n",
       "\t NZ First      &  138\\\\\n",
       "\t United Future &  128\\\\\n",
       "\\end{tabular}\n"
      ],
      "text/markdown": [
       "\n",
       "A tibble: 7 × 2\n",
       "\n",
       "| X_singlefav &lt;chr&gt; | count &lt;int&gt; |\n",
       "|---|---|\n",
       "| Act           |   33 |\n",
       "| Green         |  388 |\n",
       "| Labour        | 1043 |\n",
       "| Mana          |   47 |\n",
       "| National      | 1266 |\n",
       "| NZ First      |  138 |\n",
       "| United Future |  128 |\n",
       "\n"
      ],
      "text/plain": [
       "  X_singlefav   count\n",
       "1 Act             33 \n",
       "2 Green          388 \n",
       "3 Labour        1043 \n",
       "4 Mana            47 \n",
       "5 National      1266 \n",
       "6 NZ First       138 \n",
       "7 United Future  128 "
      ]
     },
     "metadata": {},
     "output_type": "display_data"
    }
   ],
   "source": [
    "selected_nzes2011 %>% \n",
    "  filter(!is.na(X_singlefav)) %>%  #Not NA\n",
    "  group_by(X_singlefav) %>% \n",
    "  summarise(count = n())"
   ]
  },
  {
   "cell_type": "markdown",
   "metadata": {},
   "source": [
    "And remember that we can `filter` for multiple characteristics at once:"
   ]
  },
  {
   "cell_type": "code",
   "execution_count": 12,
   "metadata": {},
   "outputs": [
    {
     "name": "stderr",
     "output_type": "stream",
     "text": [
      "`summarise()` ungrouping output (override with `.groups` argument)\n",
      "\n"
     ]
    },
    {
     "data": {
      "text/html": [
       "<table>\n",
       "<caption>A tibble: 7 × 2</caption>\n",
       "<thead>\n",
       "\t<tr><th scope=col>X_singlefav</th><th scope=col>count</th></tr>\n",
       "\t<tr><th scope=col>&lt;chr&gt;</th><th scope=col>&lt;int&gt;</th></tr>\n",
       "</thead>\n",
       "<tbody>\n",
       "\t<tr><td>Act          </td><td>  29</td></tr>\n",
       "\t<tr><td>Green        </td><td> 354</td></tr>\n",
       "\t<tr><td>Labour       </td><td> 914</td></tr>\n",
       "\t<tr><td>Mana         </td><td>  42</td></tr>\n",
       "\t<tr><td>National     </td><td>1172</td></tr>\n",
       "\t<tr><td>NZ First     </td><td> 119</td></tr>\n",
       "\t<tr><td>United Future</td><td> 115</td></tr>\n",
       "</tbody>\n",
       "</table>\n"
      ],
      "text/latex": [
       "A tibble: 7 × 2\n",
       "\\begin{tabular}{ll}\n",
       " X\\_singlefav & count\\\\\n",
       " <chr> & <int>\\\\\n",
       "\\hline\n",
       "\t Act           &   29\\\\\n",
       "\t Green         &  354\\\\\n",
       "\t Labour        &  914\\\\\n",
       "\t Mana          &   42\\\\\n",
       "\t National      & 1172\\\\\n",
       "\t NZ First      &  119\\\\\n",
       "\t United Future &  115\\\\\n",
       "\\end{tabular}\n"
      ],
      "text/markdown": [
       "\n",
       "A tibble: 7 × 2\n",
       "\n",
       "| X_singlefav &lt;chr&gt; | count &lt;int&gt; |\n",
       "|---|---|\n",
       "| Act           |   29 |\n",
       "| Green         |  354 |\n",
       "| Labour        |  914 |\n",
       "| Mana          |   42 |\n",
       "| National      | 1172 |\n",
       "| NZ First      |  119 |\n",
       "| United Future |  115 |\n",
       "\n"
      ],
      "text/plain": [
       "  X_singlefav   count\n",
       "1 Act             29 \n",
       "2 Green          354 \n",
       "3 Labour         914 \n",
       "4 Mana            42 \n",
       "5 National      1172 \n",
       "6 NZ First       119 \n",
       "7 United Future  115 "
      ]
     },
     "metadata": {},
     "output_type": "display_data"
    }
   ],
   "source": [
    "selected_nzes2011 %>% \n",
    "  filter(!is.na(X_singlefav), jpartyvote != \"Don't know\") %>%\n",
    "  group_by(X_singlefav) %>% \n",
    "  summarise(count=n())"
   ]
  },
  {
   "cell_type": "markdown",
   "metadata": {},
   "source": [
    "If we examine the categories in `jdiffvoting` we can see that this variable has levels such as both `\"Don't know\"` and `NA`."
   ]
  },
  {
   "cell_type": "code",
   "execution_count": 13,
   "metadata": {},
   "outputs": [
    {
     "name": "stderr",
     "output_type": "stream",
     "text": [
      "`summarise()` ungrouping output (override with `.groups` argument)\n",
      "\n"
     ]
    },
    {
     "data": {
      "text/html": [
       "<table>\n",
       "<caption>A tibble: 7 × 2</caption>\n",
       "<thead>\n",
       "\t<tr><th scope=col>jdiffvoting</th><th scope=col>count</th></tr>\n",
       "\t<tr><th scope=col>&lt;chr&gt;</th><th scope=col>&lt;int&gt;</th></tr>\n",
       "</thead>\n",
       "<tbody>\n",
       "\t<tr><td>Don't know                                                       </td><td>  63</td></tr>\n",
       "\t<tr><td>Voting can make a big difference to what happens                 </td><td>1605</td></tr>\n",
       "\t<tr><td>Voting can make a reasonable amount of difference to what happens</td><td> 841</td></tr>\n",
       "\t<tr><td>Voting can make some difference to what happens                  </td><td> 339</td></tr>\n",
       "\t<tr><td>Voting won't make any difference to what happens                 </td><td> 119</td></tr>\n",
       "\t<tr><td>Voting won't make much difference to what happens                </td><td> 106</td></tr>\n",
       "\t<tr><td>NA                                                               </td><td>  28</td></tr>\n",
       "</tbody>\n",
       "</table>\n"
      ],
      "text/latex": [
       "A tibble: 7 × 2\n",
       "\\begin{tabular}{ll}\n",
       " jdiffvoting & count\\\\\n",
       " <chr> & <int>\\\\\n",
       "\\hline\n",
       "\t Don't know                                                        &   63\\\\\n",
       "\t Voting can make a big difference to what happens                  & 1605\\\\\n",
       "\t Voting can make a reasonable amount of difference to what happens &  841\\\\\n",
       "\t Voting can make some difference to what happens                   &  339\\\\\n",
       "\t Voting won't make any difference to what happens                  &  119\\\\\n",
       "\t Voting won't make much difference to what happens                 &  106\\\\\n",
       "\t NA                                                                &   28\\\\\n",
       "\\end{tabular}\n"
      ],
      "text/markdown": [
       "\n",
       "A tibble: 7 × 2\n",
       "\n",
       "| jdiffvoting &lt;chr&gt; | count &lt;int&gt; |\n",
       "|---|---|\n",
       "| Don't know                                                        |   63 |\n",
       "| Voting can make a big difference to what happens                  | 1605 |\n",
       "| Voting can make a reasonable amount of difference to what happens |  841 |\n",
       "| Voting can make some difference to what happens                   |  339 |\n",
       "| Voting won't make any difference to what happens                  |  119 |\n",
       "| Voting won't make much difference to what happens                 |  106 |\n",
       "| NA                                                                |   28 |\n",
       "\n"
      ],
      "text/plain": [
       "  jdiffvoting                                                       count\n",
       "1 Don't know                                                          63 \n",
       "2 Voting can make a big difference to what happens                  1605 \n",
       "3 Voting can make a reasonable amount of difference to what happens  841 \n",
       "4 Voting can make some difference to what happens                    339 \n",
       "5 Voting won't make any difference to what happens                   119 \n",
       "6 Voting won't make much difference to what happens                  106 \n",
       "7 NA                                                                  28 "
      ]
     },
     "metadata": {},
     "output_type": "display_data"
    }
   ],
   "source": [
    "selected_nzes2011 %>% \n",
    "  group_by(jdiffvoting) %>% \n",
    "  summarise(count = n())"
   ]
  },
  {
   "cell_type": "markdown",
   "metadata": {},
   "source": [
    "We need to decide how we want to handle these levels in our analysis.\n",
    "\n",
    "Remember that our main question is about whether people vote for their favorite party or a diffent one. Hence an straighforwrd approach would be to first determine whether each observation in the data represents a person who voted for the party same as their favorite party or different. This requires creating a new variable with the `mutate()` function.\n",
    "\n",
    "In creating this variable we want to evaluate if for a given observation the values in the `jpartyvote` and `X_singlefav` variables are the same, or different:"
   ]
  },
  {
   "cell_type": "code",
   "execution_count": 14,
   "metadata": {},
   "outputs": [
    {
     "data": {
      "text/html": [
       "<table>\n",
       "<caption>A data.frame: 6 × 108</caption>\n",
       "<thead>\n",
       "\t<tr><th></th><th scope=col>Jelect</th><th scope=col>jblogel</th><th scope=col>jnewspaper</th><th scope=col>jnatradio</th><th scope=col>jtalkback</th><th scope=col>jdiscussp</th><th scope=col>jrallies</th><th scope=col>jpersuade</th><th scope=col>jpcmoney</th><th scope=col>jpcposter</th><th scope=col>⋯</th><th scope=col>jethnicityx</th><th scope=col>jethnicmost</th><th scope=col>jethnicmostx</th><th scope=col>jpartyvote</th><th scope=col>jelecvote</th><th scope=col>njptyvote</th><th scope=col>njelecvote</th><th scope=col>jdiffvoting</th><th scope=col>X_singlefav</th><th scope=col>sameparty</th></tr>\n",
       "\t<tr><th></th><th scope=col>&lt;int&gt;</th><th scope=col>&lt;chr&gt;</th><th scope=col>&lt;chr&gt;</th><th scope=col>&lt;chr&gt;</th><th scope=col>&lt;chr&gt;</th><th scope=col>&lt;chr&gt;</th><th scope=col>&lt;chr&gt;</th><th scope=col>&lt;chr&gt;</th><th scope=col>&lt;chr&gt;</th><th scope=col>&lt;chr&gt;</th><th scope=col>⋯</th><th scope=col>&lt;chr&gt;</th><th scope=col>&lt;chr&gt;</th><th scope=col>&lt;chr&gt;</th><th scope=col>&lt;chr&gt;</th><th scope=col>&lt;chr&gt;</th><th scope=col>&lt;chr&gt;</th><th scope=col>&lt;chr&gt;</th><th scope=col>&lt;chr&gt;</th><th scope=col>&lt;chr&gt;</th><th scope=col>&lt;chr&gt;</th></tr>\n",
       "</thead>\n",
       "<tbody>\n",
       "\t<tr><th scope=row>1</th><td>36</td><td>NA                                               </td><td>NA       </td><td>NA        </td><td>NA       </td><td>Yes, frequently  </td><td>No</td><td>No               </td><td>No</td><td>No</td><td>⋯</td><td>             </td><td>NZ European</td><td></td><td>National</td><td>National</td><td>National</td><td>National</td><td>Voting can make a reasonable amount of difference to what happens</td><td>National</td><td>same     </td></tr>\n",
       "\t<tr><th scope=row>2</th><td>34</td><td>NA                                               </td><td>Sometimes</td><td>NA        </td><td>NA       </td><td>Yes, rarely      </td><td>No</td><td>No               </td><td>No</td><td>No</td><td>⋯</td><td>             </td><td>NZ European</td><td></td><td>National</td><td>National</td><td>National</td><td>National</td><td>Voting can make some difference to what happens                  </td><td>National</td><td>same     </td></tr>\n",
       "\t<tr><th scope=row>3</th><td>27</td><td>Visited a political blog for election information</td><td>Sometimes</td><td>Sometimes </td><td>Sometimes</td><td>Yes, frequently  </td><td>No</td><td>Yes, occasionally</td><td>No</td><td>No</td><td>⋯</td><td>             </td><td>NA         </td><td></td><td>National</td><td>Labour  </td><td>National</td><td>Labour  </td><td>Voting can make a big difference to what happens                 </td><td>National</td><td>same     </td></tr>\n",
       "\t<tr><th scope=row>4</th><td>34</td><td>NA                                               </td><td>Often    </td><td>NA        </td><td>NA       </td><td>Yes, occasionally</td><td>No</td><td>No               </td><td>No</td><td>No</td><td>⋯</td><td>             </td><td>NA         </td><td></td><td>NZ First</td><td>Labour  </td><td>NZ First</td><td>Labour  </td><td>Voting can make some difference to what happens                  </td><td>Labour  </td><td>different</td></tr>\n",
       "\t<tr><th scope=row>5</th><td>15</td><td>NA                                               </td><td>Sometimes</td><td>Not at all</td><td>Often    </td><td>Yes, occasionally</td><td>No</td><td>No               </td><td>No</td><td>No</td><td>⋯</td><td>SOUTH AFRICAN</td><td>NZ European</td><td></td><td>National</td><td>National</td><td>National</td><td>National</td><td>Voting can make a big difference to what happens                 </td><td>National</td><td>same     </td></tr>\n",
       "\t<tr><th scope=row>6</th><td>58</td><td>NA                                               </td><td>Sometimes</td><td>NA        </td><td>NA       </td><td>Yes, occasionally</td><td>NA</td><td>NA               </td><td>NA</td><td>NA</td><td>⋯</td><td>             </td><td>NA         </td><td></td><td>NZ First</td><td>NA      </td><td>NZ First</td><td>NA      </td><td>Voting can make some difference to what happens                  </td><td>NZ First</td><td>same     </td></tr>\n",
       "</tbody>\n",
       "</table>\n"
      ],
      "text/latex": [
       "A data.frame: 6 × 108\n",
       "\\begin{tabular}{r|lllllllllllllllllllll}\n",
       "  & Jelect & jblogel & jnewspaper & jnatradio & jtalkback & jdiscussp & jrallies & jpersuade & jpcmoney & jpcposter & ⋯ & jethnicityx & jethnicmost & jethnicmostx & jpartyvote & jelecvote & njptyvote & njelecvote & jdiffvoting & X\\_singlefav & sameparty\\\\\n",
       "  & <int> & <chr> & <chr> & <chr> & <chr> & <chr> & <chr> & <chr> & <chr> & <chr> & ⋯ & <chr> & <chr> & <chr> & <chr> & <chr> & <chr> & <chr> & <chr> & <chr> & <chr>\\\\\n",
       "\\hline\n",
       "\t1 & 36 & NA                                                & NA        & NA         & NA        & Yes, frequently   & No & No                & No & No & ⋯ &               & NZ European &  & National & National & National & National & Voting can make a reasonable amount of difference to what happens & National & same     \\\\\n",
       "\t2 & 34 & NA                                                & Sometimes & NA         & NA        & Yes, rarely       & No & No                & No & No & ⋯ &               & NZ European &  & National & National & National & National & Voting can make some difference to what happens                   & National & same     \\\\\n",
       "\t3 & 27 & Visited a political blog for election information & Sometimes & Sometimes  & Sometimes & Yes, frequently   & No & Yes, occasionally & No & No & ⋯ &               & NA          &  & National & Labour   & National & Labour   & Voting can make a big difference to what happens                  & National & same     \\\\\n",
       "\t4 & 34 & NA                                                & Often     & NA         & NA        & Yes, occasionally & No & No                & No & No & ⋯ &               & NA          &  & NZ First & Labour   & NZ First & Labour   & Voting can make some difference to what happens                   & Labour   & different\\\\\n",
       "\t5 & 15 & NA                                                & Sometimes & Not at all & Often     & Yes, occasionally & No & No                & No & No & ⋯ & SOUTH AFRICAN & NZ European &  & National & National & National & National & Voting can make a big difference to what happens                  & National & same     \\\\\n",
       "\t6 & 58 & NA                                                & Sometimes & NA         & NA        & Yes, occasionally & NA & NA                & NA & NA & ⋯ &               & NA          &  & NZ First & NA       & NZ First & NA       & Voting can make some difference to what happens                   & NZ First & same     \\\\\n",
       "\\end{tabular}\n"
      ],
      "text/markdown": [
       "\n",
       "A data.frame: 6 × 108\n",
       "\n",
       "| <!--/--> | Jelect &lt;int&gt; | jblogel &lt;chr&gt; | jnewspaper &lt;chr&gt; | jnatradio &lt;chr&gt; | jtalkback &lt;chr&gt; | jdiscussp &lt;chr&gt; | jrallies &lt;chr&gt; | jpersuade &lt;chr&gt; | jpcmoney &lt;chr&gt; | jpcposter &lt;chr&gt; | ⋯ ⋯ | jethnicityx &lt;chr&gt; | jethnicmost &lt;chr&gt; | jethnicmostx &lt;chr&gt; | jpartyvote &lt;chr&gt; | jelecvote &lt;chr&gt; | njptyvote &lt;chr&gt; | njelecvote &lt;chr&gt; | jdiffvoting &lt;chr&gt; | X_singlefav &lt;chr&gt; | sameparty &lt;chr&gt; |\n",
       "|---|---|---|---|---|---|---|---|---|---|---|---|---|---|---|---|---|---|---|---|---|---|\n",
       "| 1 | 36 | NA                                                | NA        | NA         | NA        | Yes, frequently   | No | No                | No | No | ⋯ | <!----> | NZ European | <!----> | National | National | National | National | Voting can make a reasonable amount of difference to what happens | National | same      |\n",
       "| 2 | 34 | NA                                                | Sometimes | NA         | NA        | Yes, rarely       | No | No                | No | No | ⋯ | <!----> | NZ European | <!----> | National | National | National | National | Voting can make some difference to what happens                   | National | same      |\n",
       "| 3 | 27 | Visited a political blog for election information | Sometimes | Sometimes  | Sometimes | Yes, frequently   | No | Yes, occasionally | No | No | ⋯ | <!----> | NA          | <!----> | National | Labour   | National | Labour   | Voting can make a big difference to what happens                  | National | same      |\n",
       "| 4 | 34 | NA                                                | Often     | NA         | NA        | Yes, occasionally | No | No                | No | No | ⋯ | <!----> | NA          | <!----> | NZ First | Labour   | NZ First | Labour   | Voting can make some difference to what happens                   | Labour   | different |\n",
       "| 5 | 15 | NA                                                | Sometimes | Not at all | Often     | Yes, occasionally | No | No                | No | No | ⋯ | SOUTH AFRICAN | NZ European | <!----> | National | National | National | National | Voting can make a big difference to what happens                  | National | same      |\n",
       "| 6 | 58 | NA                                                | Sometimes | NA         | NA        | Yes, occasionally | NA | NA                | NA | NA | ⋯ | <!----> | NA          | <!----> | NZ First | NA       | NZ First | NA       | Voting can make some difference to what happens                   | NZ First | same      |\n",
       "\n"
      ],
      "text/plain": [
       "  Jelect jblogel                                           jnewspaper\n",
       "1 36     NA                                                NA        \n",
       "2 34     NA                                                Sometimes \n",
       "3 27     Visited a political blog for election information Sometimes \n",
       "4 34     NA                                                Often     \n",
       "5 15     NA                                                Sometimes \n",
       "6 58     NA                                                Sometimes \n",
       "  jnatradio  jtalkback jdiscussp         jrallies jpersuade         jpcmoney\n",
       "1 NA         NA        Yes, frequently   No       No                No      \n",
       "2 NA         NA        Yes, rarely       No       No                No      \n",
       "3 Sometimes  Sometimes Yes, frequently   No       Yes, occasionally No      \n",
       "4 NA         NA        Yes, occasionally No       No                No      \n",
       "5 Not at all Often     Yes, occasionally No       No                No      \n",
       "6 NA         NA        Yes, occasionally NA       NA                NA      \n",
       "  jpcposter <U+22EF>        jethnicityx   jethnicmost jethnicmostx jpartyvote\n",
       "1 No        <U+22EF>               NZ European              National  \n",
       "2 No        <U+22EF>               NZ European              National  \n",
       "3 No        <U+22EF>               NA                       National  \n",
       "4 No        <U+22EF>               NA                       NZ First  \n",
       "5 No        <U+22EF> SOUTH AFRICAN NZ European              National  \n",
       "6 NA        <U+22EF>               NA                       NZ First  \n",
       "  jelecvote njptyvote njelecvote\n",
       "1 National  National  National  \n",
       "2 National  National  National  \n",
       "3 Labour    National  Labour    \n",
       "4 Labour    NZ First  Labour    \n",
       "5 National  National  National  \n",
       "6 NA        NZ First  NA        \n",
       "  jdiffvoting                                                       X_singlefav\n",
       "1 Voting can make a reasonable amount of difference to what happens National   \n",
       "2 Voting can make some difference to what happens                   National   \n",
       "3 Voting can make a big difference to what happens                  National   \n",
       "4 Voting can make some difference to what happens                   Labour     \n",
       "5 Voting can make a big difference to what happens                  National   \n",
       "6 Voting can make some difference to what happens                   NZ First   \n",
       "  sameparty\n",
       "1 same     \n",
       "2 same     \n",
       "3 same     \n",
       "4 different\n",
       "5 same     \n",
       "6 same     "
      ]
     },
     "metadata": {},
     "output_type": "display_data"
    }
   ],
   "source": [
    "selected_nzes2011 <- selected_nzes2011 %>%\n",
    "  mutate(sameparty = ifelse(jpartyvote == X_singlefav, \"same\", \"different\"))\n",
    "\n",
    "head(selected_nzes2011)"
   ]
  },
  {
   "cell_type": "markdown",
   "metadata": {},
   "source": [
    "This creates a new variable named `sameparty` that has the value `\"same\"` if `jpartyvote` is equal to `X_singlefav`, and `\"different\"` otherwise.\n",
    "\n",
    "We can again check our work by exploring the groupings in a View:"
   ]
  },
  {
   "cell_type": "code",
   "execution_count": 15,
   "metadata": {},
   "outputs": [
    {
     "name": "stderr",
     "output_type": "stream",
     "text": [
      "`summarise()` regrouping output by 'jpartyvote', 'X_singlefav' (override with `.groups` argument)\n",
      "\n"
     ]
    },
    {
     "data": {
      "text/html": [
       "<table>\n",
       "<caption>A grouped_df: 82 × 4</caption>\n",
       "<thead>\n",
       "\t<tr><th scope=col>jpartyvote</th><th scope=col>X_singlefav</th><th scope=col>sameparty</th><th scope=col>count</th></tr>\n",
       "\t<tr><th scope=col>&lt;chr&gt;</th><th scope=col>&lt;chr&gt;</th><th scope=col>&lt;chr&gt;</th><th scope=col>&lt;int&gt;</th></tr>\n",
       "</thead>\n",
       "<tbody>\n",
       "\t<tr><td>Act          </td><td>Act          </td><td>same     </td><td> 12</td></tr>\n",
       "\t<tr><td>Act          </td><td>Green        </td><td>different</td><td>  1</td></tr>\n",
       "\t<tr><td>Act          </td><td>National     </td><td>different</td><td> 14</td></tr>\n",
       "\t<tr><td>Act          </td><td>United Future</td><td>different</td><td>  1</td></tr>\n",
       "\t<tr><td>Act          </td><td>NA           </td><td>NA       </td><td>  1</td></tr>\n",
       "\t<tr><td>ALC          </td><td>Green        </td><td>different</td><td>  1</td></tr>\n",
       "\t<tr><td>ALC          </td><td>Labour       </td><td>different</td><td>  4</td></tr>\n",
       "\t<tr><td>ALC          </td><td>National     </td><td>different</td><td>  2</td></tr>\n",
       "\t<tr><td>ALC          </td><td>United Future</td><td>different</td><td>  3</td></tr>\n",
       "\t<tr><td>Alliance     </td><td>Labour       </td><td>different</td><td>  1</td></tr>\n",
       "\t<tr><td>Alliance     </td><td>National     </td><td>different</td><td>  1</td></tr>\n",
       "\t<tr><td>Another party</td><td>Green        </td><td>different</td><td>  2</td></tr>\n",
       "\t<tr><td>Another party</td><td>Labour       </td><td>different</td><td>  4</td></tr>\n",
       "\t<tr><td>Another party</td><td>National     </td><td>different</td><td>  2</td></tr>\n",
       "\t<tr><td>Conservative </td><td>Act          </td><td>different</td><td>  2</td></tr>\n",
       "\t<tr><td>Conservative </td><td>Green        </td><td>different</td><td>  3</td></tr>\n",
       "\t<tr><td>Conservative </td><td>Labour       </td><td>different</td><td> 16</td></tr>\n",
       "\t<tr><td>Conservative </td><td>National     </td><td>different</td><td> 43</td></tr>\n",
       "\t<tr><td>Conservative </td><td>NZ First     </td><td>different</td><td>  6</td></tr>\n",
       "\t<tr><td>Conservative </td><td>United Future</td><td>different</td><td>  3</td></tr>\n",
       "\t<tr><td>Conservative </td><td>NA           </td><td>NA       </td><td>  1</td></tr>\n",
       "\t<tr><td>Don't know   </td><td>Green        </td><td>different</td><td>  2</td></tr>\n",
       "\t<tr><td>Don't know   </td><td>Labour       </td><td>different</td><td>  8</td></tr>\n",
       "\t<tr><td>Don't know   </td><td>Mana         </td><td>different</td><td>  1</td></tr>\n",
       "\t<tr><td>Don't know   </td><td>National     </td><td>different</td><td>  2</td></tr>\n",
       "\t<tr><td>Don't know   </td><td>NZ First     </td><td>different</td><td>  2</td></tr>\n",
       "\t<tr><td>Don't know   </td><td>United Future</td><td>different</td><td>  1</td></tr>\n",
       "\t<tr><td>Don't know   </td><td>NA           </td><td>NA       </td><td>  7</td></tr>\n",
       "\t<tr><td>Green        </td><td>Act          </td><td>different</td><td>  1</td></tr>\n",
       "\t<tr><td>Green        </td><td>Green        </td><td>same     </td><td>237</td></tr>\n",
       "\t<tr><td>⋮</td><td>⋮</td><td>⋮</td><td>⋮</td></tr>\n",
       "\t<tr><td>Maori Party  </td><td>Mana         </td><td>different</td><td>   2</td></tr>\n",
       "\t<tr><td>Maori Party  </td><td>National     </td><td>different</td><td>  16</td></tr>\n",
       "\t<tr><td>Maori Party  </td><td>NZ First     </td><td>different</td><td>   9</td></tr>\n",
       "\t<tr><td>Maori Party  </td><td>United Future</td><td>different</td><td>  53</td></tr>\n",
       "\t<tr><td>Maori Party  </td><td>NA           </td><td>NA       </td><td>   2</td></tr>\n",
       "\t<tr><td>National     </td><td>Act          </td><td>different</td><td>  11</td></tr>\n",
       "\t<tr><td>National     </td><td>Green        </td><td>different</td><td>  10</td></tr>\n",
       "\t<tr><td>National     </td><td>Labour       </td><td>different</td><td>  78</td></tr>\n",
       "\t<tr><td>National     </td><td>National     </td><td>same     </td><td>1004</td></tr>\n",
       "\t<tr><td>National     </td><td>NZ First     </td><td>different</td><td>   6</td></tr>\n",
       "\t<tr><td>National     </td><td>United Future</td><td>different</td><td>  14</td></tr>\n",
       "\t<tr><td>National     </td><td>NA           </td><td>NA       </td><td>   7</td></tr>\n",
       "\t<tr><td>NZ First     </td><td>Act          </td><td>different</td><td>   1</td></tr>\n",
       "\t<tr><td>NZ First     </td><td>Green        </td><td>different</td><td>  21</td></tr>\n",
       "\t<tr><td>NZ First     </td><td>Labour       </td><td>different</td><td>  76</td></tr>\n",
       "\t<tr><td>NZ First     </td><td>National     </td><td>different</td><td>  25</td></tr>\n",
       "\t<tr><td>NZ First     </td><td>NZ First     </td><td>same     </td><td>  82</td></tr>\n",
       "\t<tr><td>NZ First     </td><td>United Future</td><td>different</td><td>   9</td></tr>\n",
       "\t<tr><td>NZ First     </td><td>NA           </td><td>NA       </td><td>   2</td></tr>\n",
       "\t<tr><td>United Future</td><td>National     </td><td>different</td><td>   8</td></tr>\n",
       "\t<tr><td>United Future</td><td>NZ First     </td><td>different</td><td>   1</td></tr>\n",
       "\t<tr><td>United Future</td><td>United Future</td><td>same     </td><td>   5</td></tr>\n",
       "\t<tr><td>NA           </td><td>Act          </td><td>NA       </td><td>   4</td></tr>\n",
       "\t<tr><td>NA           </td><td>Green        </td><td>NA       </td><td>  32</td></tr>\n",
       "\t<tr><td>NA           </td><td>Labour       </td><td>NA       </td><td> 121</td></tr>\n",
       "\t<tr><td>NA           </td><td>Mana         </td><td>NA       </td><td>   4</td></tr>\n",
       "\t<tr><td>NA           </td><td>National     </td><td>NA       </td><td>  92</td></tr>\n",
       "\t<tr><td>NA           </td><td>NZ First     </td><td>NA       </td><td>  17</td></tr>\n",
       "\t<tr><td>NA           </td><td>United Future</td><td>NA       </td><td>  12</td></tr>\n",
       "\t<tr><td>NA           </td><td>NA           </td><td>NA       </td><td>  26</td></tr>\n",
       "</tbody>\n",
       "</table>\n"
      ],
      "text/latex": [
       "A grouped\\_df: 82 × 4\n",
       "\\begin{tabular}{llll}\n",
       " jpartyvote & X\\_singlefav & sameparty & count\\\\\n",
       " <chr> & <chr> & <chr> & <int>\\\\\n",
       "\\hline\n",
       "\t Act           & Act           & same      &  12\\\\\n",
       "\t Act           & Green         & different &   1\\\\\n",
       "\t Act           & National      & different &  14\\\\\n",
       "\t Act           & United Future & different &   1\\\\\n",
       "\t Act           & NA            & NA        &   1\\\\\n",
       "\t ALC           & Green         & different &   1\\\\\n",
       "\t ALC           & Labour        & different &   4\\\\\n",
       "\t ALC           & National      & different &   2\\\\\n",
       "\t ALC           & United Future & different &   3\\\\\n",
       "\t Alliance      & Labour        & different &   1\\\\\n",
       "\t Alliance      & National      & different &   1\\\\\n",
       "\t Another party & Green         & different &   2\\\\\n",
       "\t Another party & Labour        & different &   4\\\\\n",
       "\t Another party & National      & different &   2\\\\\n",
       "\t Conservative  & Act           & different &   2\\\\\n",
       "\t Conservative  & Green         & different &   3\\\\\n",
       "\t Conservative  & Labour        & different &  16\\\\\n",
       "\t Conservative  & National      & different &  43\\\\\n",
       "\t Conservative  & NZ First      & different &   6\\\\\n",
       "\t Conservative  & United Future & different &   3\\\\\n",
       "\t Conservative  & NA            & NA        &   1\\\\\n",
       "\t Don't know    & Green         & different &   2\\\\\n",
       "\t Don't know    & Labour        & different &   8\\\\\n",
       "\t Don't know    & Mana          & different &   1\\\\\n",
       "\t Don't know    & National      & different &   2\\\\\n",
       "\t Don't know    & NZ First      & different &   2\\\\\n",
       "\t Don't know    & United Future & different &   1\\\\\n",
       "\t Don't know    & NA            & NA        &   7\\\\\n",
       "\t Green         & Act           & different &   1\\\\\n",
       "\t Green         & Green         & same      & 237\\\\\n",
       "\t ⋮ & ⋮ & ⋮ & ⋮\\\\\n",
       "\t Maori Party   & Mana          & different &    2\\\\\n",
       "\t Maori Party   & National      & different &   16\\\\\n",
       "\t Maori Party   & NZ First      & different &    9\\\\\n",
       "\t Maori Party   & United Future & different &   53\\\\\n",
       "\t Maori Party   & NA            & NA        &    2\\\\\n",
       "\t National      & Act           & different &   11\\\\\n",
       "\t National      & Green         & different &   10\\\\\n",
       "\t National      & Labour        & different &   78\\\\\n",
       "\t National      & National      & same      & 1004\\\\\n",
       "\t National      & NZ First      & different &    6\\\\\n",
       "\t National      & United Future & different &   14\\\\\n",
       "\t National      & NA            & NA        &    7\\\\\n",
       "\t NZ First      & Act           & different &    1\\\\\n",
       "\t NZ First      & Green         & different &   21\\\\\n",
       "\t NZ First      & Labour        & different &   76\\\\\n",
       "\t NZ First      & National      & different &   25\\\\\n",
       "\t NZ First      & NZ First      & same      &   82\\\\\n",
       "\t NZ First      & United Future & different &    9\\\\\n",
       "\t NZ First      & NA            & NA        &    2\\\\\n",
       "\t United Future & National      & different &    8\\\\\n",
       "\t United Future & NZ First      & different &    1\\\\\n",
       "\t United Future & United Future & same      &    5\\\\\n",
       "\t NA            & Act           & NA        &    4\\\\\n",
       "\t NA            & Green         & NA        &   32\\\\\n",
       "\t NA            & Labour        & NA        &  121\\\\\n",
       "\t NA            & Mana          & NA        &    4\\\\\n",
       "\t NA            & National      & NA        &   92\\\\\n",
       "\t NA            & NZ First      & NA        &   17\\\\\n",
       "\t NA            & United Future & NA        &   12\\\\\n",
       "\t NA            & NA            & NA        &   26\\\\\n",
       "\\end{tabular}\n"
      ],
      "text/markdown": [
       "\n",
       "A grouped_df: 82 × 4\n",
       "\n",
       "| jpartyvote &lt;chr&gt; | X_singlefav &lt;chr&gt; | sameparty &lt;chr&gt; | count &lt;int&gt; |\n",
       "|---|---|---|---|\n",
       "| Act           | Act           | same      |  12 |\n",
       "| Act           | Green         | different |   1 |\n",
       "| Act           | National      | different |  14 |\n",
       "| Act           | United Future | different |   1 |\n",
       "| Act           | NA            | NA        |   1 |\n",
       "| ALC           | Green         | different |   1 |\n",
       "| ALC           | Labour        | different |   4 |\n",
       "| ALC           | National      | different |   2 |\n",
       "| ALC           | United Future | different |   3 |\n",
       "| Alliance      | Labour        | different |   1 |\n",
       "| Alliance      | National      | different |   1 |\n",
       "| Another party | Green         | different |   2 |\n",
       "| Another party | Labour        | different |   4 |\n",
       "| Another party | National      | different |   2 |\n",
       "| Conservative  | Act           | different |   2 |\n",
       "| Conservative  | Green         | different |   3 |\n",
       "| Conservative  | Labour        | different |  16 |\n",
       "| Conservative  | National      | different |  43 |\n",
       "| Conservative  | NZ First      | different |   6 |\n",
       "| Conservative  | United Future | different |   3 |\n",
       "| Conservative  | NA            | NA        |   1 |\n",
       "| Don't know    | Green         | different |   2 |\n",
       "| Don't know    | Labour        | different |   8 |\n",
       "| Don't know    | Mana          | different |   1 |\n",
       "| Don't know    | National      | different |   2 |\n",
       "| Don't know    | NZ First      | different |   2 |\n",
       "| Don't know    | United Future | different |   1 |\n",
       "| Don't know    | NA            | NA        |   7 |\n",
       "| Green         | Act           | different |   1 |\n",
       "| Green         | Green         | same      | 237 |\n",
       "| ⋮ | ⋮ | ⋮ | ⋮ |\n",
       "| Maori Party   | Mana          | different |    2 |\n",
       "| Maori Party   | National      | different |   16 |\n",
       "| Maori Party   | NZ First      | different |    9 |\n",
       "| Maori Party   | United Future | different |   53 |\n",
       "| Maori Party   | NA            | NA        |    2 |\n",
       "| National      | Act           | different |   11 |\n",
       "| National      | Green         | different |   10 |\n",
       "| National      | Labour        | different |   78 |\n",
       "| National      | National      | same      | 1004 |\n",
       "| National      | NZ First      | different |    6 |\n",
       "| National      | United Future | different |   14 |\n",
       "| National      | NA            | NA        |    7 |\n",
       "| NZ First      | Act           | different |    1 |\n",
       "| NZ First      | Green         | different |   21 |\n",
       "| NZ First      | Labour        | different |   76 |\n",
       "| NZ First      | National      | different |   25 |\n",
       "| NZ First      | NZ First      | same      |   82 |\n",
       "| NZ First      | United Future | different |    9 |\n",
       "| NZ First      | NA            | NA        |    2 |\n",
       "| United Future | National      | different |    8 |\n",
       "| United Future | NZ First      | different |    1 |\n",
       "| United Future | United Future | same      |    5 |\n",
       "| NA            | Act           | NA        |    4 |\n",
       "| NA            | Green         | NA        |   32 |\n",
       "| NA            | Labour        | NA        |  121 |\n",
       "| NA            | Mana          | NA        |    4 |\n",
       "| NA            | National      | NA        |   92 |\n",
       "| NA            | NZ First      | NA        |   17 |\n",
       "| NA            | United Future | NA        |   12 |\n",
       "| NA            | NA            | NA        |   26 |\n",
       "\n"
      ],
      "text/plain": [
       "   jpartyvote    X_singlefav   sameparty count\n",
       "1  Act           Act           same       12  \n",
       "2  Act           Green         different   1  \n",
       "3  Act           National      different  14  \n",
       "4  Act           United Future different   1  \n",
       "5  Act           NA            NA          1  \n",
       "6  ALC           Green         different   1  \n",
       "7  ALC           Labour        different   4  \n",
       "8  ALC           National      different   2  \n",
       "9  ALC           United Future different   3  \n",
       "10 Alliance      Labour        different   1  \n",
       "11 Alliance      National      different   1  \n",
       "12 Another party Green         different   2  \n",
       "13 Another party Labour        different   4  \n",
       "14 Another party National      different   2  \n",
       "15 Conservative  Act           different   2  \n",
       "16 Conservative  Green         different   3  \n",
       "17 Conservative  Labour        different  16  \n",
       "18 Conservative  National      different  43  \n",
       "19 Conservative  NZ First      different   6  \n",
       "20 Conservative  United Future different   3  \n",
       "21 Conservative  NA            NA          1  \n",
       "22 Don't know    Green         different   2  \n",
       "23 Don't know    Labour        different   8  \n",
       "24 Don't know    Mana          different   1  \n",
       "25 Don't know    National      different   2  \n",
       "26 Don't know    NZ First      different   2  \n",
       "27 Don't know    United Future different   1  \n",
       "28 Don't know    NA            NA          7  \n",
       "29 Green         Act           different   1  \n",
       "30 Green         Green         same      237  \n",
       "<U+22EE>  <U+22EE>      <U+22EE>      <U+22EE>  <U+22EE>\n",
       "53 Maori Party   Mana          different    2 \n",
       "54 Maori Party   National      different   16 \n",
       "55 Maori Party   NZ First      different    9 \n",
       "56 Maori Party   United Future different   53 \n",
       "57 Maori Party   NA            NA           2 \n",
       "58 National      Act           different   11 \n",
       "59 National      Green         different   10 \n",
       "60 National      Labour        different   78 \n",
       "61 National      National      same      1004 \n",
       "62 National      NZ First      different    6 \n",
       "63 National      United Future different   14 \n",
       "64 National      NA            NA           7 \n",
       "65 NZ First      Act           different    1 \n",
       "66 NZ First      Green         different   21 \n",
       "67 NZ First      Labour        different   76 \n",
       "68 NZ First      National      different   25 \n",
       "69 NZ First      NZ First      same        82 \n",
       "70 NZ First      United Future different    9 \n",
       "71 NZ First      NA            NA           2 \n",
       "72 United Future National      different    8 \n",
       "73 United Future NZ First      different    1 \n",
       "74 United Future United Future same         5 \n",
       "75 NA            Act           NA           4 \n",
       "76 NA            Green         NA          32 \n",
       "77 NA            Labour        NA         121 \n",
       "78 NA            Mana          NA           4 \n",
       "79 NA            National      NA          92 \n",
       "80 NA            NZ First      NA          17 \n",
       "81 NA            United Future NA          12 \n",
       "82 NA            NA            NA          26 "
      ]
     },
     "metadata": {},
     "output_type": "display_data"
    }
   ],
   "source": [
    "selected_nzes2011 %>% \n",
    "group_by(jpartyvote, X_singlefav, sameparty) %>%\n",
    "  summarise(count = n())"
   ]
  },
  {
   "cell_type": "markdown",
   "metadata": {},
   "source": [
    "We can see that observations where `jpartyvote` equaled `X_singlefav`, the value `\"same\"` was recorded for the new variable `sameparty`, and the value `\"different\"` was recorded otherwise. If either `jpartyvote` or `X_singlefav` had an `NA`, R could not check for equality and hence `NA` was recorded for the `sameparty` variable as well.\n",
    "\n",
    "To view and summarize the \"same\" entries we can use the following:"
   ]
  },
  {
   "cell_type": "code",
   "execution_count": 16,
   "metadata": {},
   "outputs": [
    {
     "name": "stderr",
     "output_type": "stream",
     "text": [
      "`summarise()` regrouping output by 'jpartyvote', 'X_singlefav' (override with `.groups` argument)\n",
      "\n"
     ]
    },
    {
     "data": {
      "text/html": [
       "<table>\n",
       "<caption>A grouped_df: 7 × 4</caption>\n",
       "<thead>\n",
       "\t<tr><th scope=col>jpartyvote</th><th scope=col>X_singlefav</th><th scope=col>sameparty</th><th scope=col>count</th></tr>\n",
       "\t<tr><th scope=col>&lt;chr&gt;</th><th scope=col>&lt;chr&gt;</th><th scope=col>&lt;chr&gt;</th><th scope=col>&lt;int&gt;</th></tr>\n",
       "</thead>\n",
       "<tbody>\n",
       "\t<tr><td>Act          </td><td>Act          </td><td>same</td><td>  12</td></tr>\n",
       "\t<tr><td>Green        </td><td>Green        </td><td>same</td><td> 237</td></tr>\n",
       "\t<tr><td>Labour       </td><td>Labour       </td><td>same</td><td> 632</td></tr>\n",
       "\t<tr><td>Mana         </td><td>Mana         </td><td>same</td><td>  31</td></tr>\n",
       "\t<tr><td>National     </td><td>National     </td><td>same</td><td>1004</td></tr>\n",
       "\t<tr><td>NZ First     </td><td>NZ First     </td><td>same</td><td>  82</td></tr>\n",
       "\t<tr><td>United Future</td><td>United Future</td><td>same</td><td>   5</td></tr>\n",
       "</tbody>\n",
       "</table>\n"
      ],
      "text/latex": [
       "A grouped\\_df: 7 × 4\n",
       "\\begin{tabular}{llll}\n",
       " jpartyvote & X\\_singlefav & sameparty & count\\\\\n",
       " <chr> & <chr> & <chr> & <int>\\\\\n",
       "\\hline\n",
       "\t Act           & Act           & same &   12\\\\\n",
       "\t Green         & Green         & same &  237\\\\\n",
       "\t Labour        & Labour        & same &  632\\\\\n",
       "\t Mana          & Mana          & same &   31\\\\\n",
       "\t National      & National      & same & 1004\\\\\n",
       "\t NZ First      & NZ First      & same &   82\\\\\n",
       "\t United Future & United Future & same &    5\\\\\n",
       "\\end{tabular}\n"
      ],
      "text/markdown": [
       "\n",
       "A grouped_df: 7 × 4\n",
       "\n",
       "| jpartyvote &lt;chr&gt; | X_singlefav &lt;chr&gt; | sameparty &lt;chr&gt; | count &lt;int&gt; |\n",
       "|---|---|---|---|\n",
       "| Act           | Act           | same |   12 |\n",
       "| Green         | Green         | same |  237 |\n",
       "| Labour        | Labour        | same |  632 |\n",
       "| Mana          | Mana          | same |   31 |\n",
       "| National      | National      | same | 1004 |\n",
       "| NZ First      | NZ First      | same |   82 |\n",
       "| United Future | United Future | same |    5 |\n",
       "\n"
      ],
      "text/plain": [
       "  jpartyvote    X_singlefav   sameparty count\n",
       "1 Act           Act           same        12 \n",
       "2 Green         Green         same       237 \n",
       "3 Labour        Labour        same       632 \n",
       "4 Mana          Mana          same        31 \n",
       "5 National      National      same      1004 \n",
       "6 NZ First      NZ First      same        82 \n",
       "7 United Future United Future same         5 "
      ]
     },
     "metadata": {},
     "output_type": "display_data"
    }
   ],
   "source": [
    "selected_nzes2011 %>% \n",
    "  group_by(jpartyvote, X_singlefav, sameparty) %>%\n",
    "  summarise(count = n()) %>% \n",
    "  filter(sameparty == \"same\")"
   ]
  },
  {
   "cell_type": "markdown",
   "metadata": {},
   "source": [
    "And to view and summarize the \"different\" entries we can use the following:"
   ]
  },
  {
   "cell_type": "code",
   "execution_count": 17,
   "metadata": {},
   "outputs": [
    {
     "name": "stderr",
     "output_type": "stream",
     "text": [
      "`summarise()` regrouping output by 'jpartyvote', 'X_singlefav' (override with `.groups` argument)\n",
      "\n"
     ]
    },
    {
     "data": {
      "text/html": [
       "<table>\n",
       "<caption>A grouped_df: 59 × 4</caption>\n",
       "<thead>\n",
       "\t<tr><th scope=col>jpartyvote</th><th scope=col>X_singlefav</th><th scope=col>sameparty</th><th scope=col>count</th></tr>\n",
       "\t<tr><th scope=col>&lt;chr&gt;</th><th scope=col>&lt;chr&gt;</th><th scope=col>&lt;chr&gt;</th><th scope=col>&lt;int&gt;</th></tr>\n",
       "</thead>\n",
       "<tbody>\n",
       "\t<tr><td>Act          </td><td>Green        </td><td>different</td><td> 1</td></tr>\n",
       "\t<tr><td>Act          </td><td>National     </td><td>different</td><td>14</td></tr>\n",
       "\t<tr><td>Act          </td><td>United Future</td><td>different</td><td> 1</td></tr>\n",
       "\t<tr><td>ALC          </td><td>Green        </td><td>different</td><td> 1</td></tr>\n",
       "\t<tr><td>ALC          </td><td>Labour       </td><td>different</td><td> 4</td></tr>\n",
       "\t<tr><td>ALC          </td><td>National     </td><td>different</td><td> 2</td></tr>\n",
       "\t<tr><td>ALC          </td><td>United Future</td><td>different</td><td> 3</td></tr>\n",
       "\t<tr><td>Alliance     </td><td>Labour       </td><td>different</td><td> 1</td></tr>\n",
       "\t<tr><td>Alliance     </td><td>National     </td><td>different</td><td> 1</td></tr>\n",
       "\t<tr><td>Another party</td><td>Green        </td><td>different</td><td> 2</td></tr>\n",
       "\t<tr><td>Another party</td><td>Labour       </td><td>different</td><td> 4</td></tr>\n",
       "\t<tr><td>Another party</td><td>National     </td><td>different</td><td> 2</td></tr>\n",
       "\t<tr><td>Conservative </td><td>Act          </td><td>different</td><td> 2</td></tr>\n",
       "\t<tr><td>Conservative </td><td>Green        </td><td>different</td><td> 3</td></tr>\n",
       "\t<tr><td>Conservative </td><td>Labour       </td><td>different</td><td>16</td></tr>\n",
       "\t<tr><td>Conservative </td><td>National     </td><td>different</td><td>43</td></tr>\n",
       "\t<tr><td>Conservative </td><td>NZ First     </td><td>different</td><td> 6</td></tr>\n",
       "\t<tr><td>Conservative </td><td>United Future</td><td>different</td><td> 3</td></tr>\n",
       "\t<tr><td>Don't know   </td><td>Green        </td><td>different</td><td> 2</td></tr>\n",
       "\t<tr><td>Don't know   </td><td>Labour       </td><td>different</td><td> 8</td></tr>\n",
       "\t<tr><td>Don't know   </td><td>Mana         </td><td>different</td><td> 1</td></tr>\n",
       "\t<tr><td>Don't know   </td><td>National     </td><td>different</td><td> 2</td></tr>\n",
       "\t<tr><td>Don't know   </td><td>NZ First     </td><td>different</td><td> 2</td></tr>\n",
       "\t<tr><td>Don't know   </td><td>United Future</td><td>different</td><td> 1</td></tr>\n",
       "\t<tr><td>Green        </td><td>Act          </td><td>different</td><td> 1</td></tr>\n",
       "\t<tr><td>Green        </td><td>Labour       </td><td>different</td><td>66</td></tr>\n",
       "\t<tr><td>Green        </td><td>Mana         </td><td>different</td><td> 2</td></tr>\n",
       "\t<tr><td>Green        </td><td>National     </td><td>different</td><td>28</td></tr>\n",
       "\t<tr><td>Green        </td><td>NZ First     </td><td>different</td><td> 4</td></tr>\n",
       "\t<tr><td>Green        </td><td>United Future</td><td>different</td><td> 9</td></tr>\n",
       "\t<tr><td>Labour       </td><td>Act          </td><td>different</td><td> 2</td></tr>\n",
       "\t<tr><td>Labour       </td><td>Green        </td><td>different</td><td>48</td></tr>\n",
       "\t<tr><td>Labour       </td><td>Mana         </td><td>different</td><td> 7</td></tr>\n",
       "\t<tr><td>Labour       </td><td>National     </td><td>different</td><td>28</td></tr>\n",
       "\t<tr><td>Labour       </td><td>NZ First     </td><td>different</td><td> 9</td></tr>\n",
       "\t<tr><td>Labour       </td><td>United Future</td><td>different</td><td>12</td></tr>\n",
       "\t<tr><td>Mana         </td><td>Green        </td><td>different</td><td>14</td></tr>\n",
       "\t<tr><td>Mana         </td><td>Labour       </td><td>different</td><td> 8</td></tr>\n",
       "\t<tr><td>Mana         </td><td>National     </td><td>different</td><td> 1</td></tr>\n",
       "\t<tr><td>Mana         </td><td>NZ First     </td><td>different</td><td> 2</td></tr>\n",
       "\t<tr><td>Mana         </td><td>United Future</td><td>different</td><td> 6</td></tr>\n",
       "\t<tr><td>Maori Party  </td><td>Green        </td><td>different</td><td>17</td></tr>\n",
       "\t<tr><td>Maori Party  </td><td>Labour       </td><td>different</td><td>29</td></tr>\n",
       "\t<tr><td>Maori Party  </td><td>Mana         </td><td>different</td><td> 2</td></tr>\n",
       "\t<tr><td>Maori Party  </td><td>National     </td><td>different</td><td>16</td></tr>\n",
       "\t<tr><td>Maori Party  </td><td>NZ First     </td><td>different</td><td> 9</td></tr>\n",
       "\t<tr><td>Maori Party  </td><td>United Future</td><td>different</td><td>53</td></tr>\n",
       "\t<tr><td>National     </td><td>Act          </td><td>different</td><td>11</td></tr>\n",
       "\t<tr><td>National     </td><td>Green        </td><td>different</td><td>10</td></tr>\n",
       "\t<tr><td>National     </td><td>Labour       </td><td>different</td><td>78</td></tr>\n",
       "\t<tr><td>National     </td><td>NZ First     </td><td>different</td><td> 6</td></tr>\n",
       "\t<tr><td>National     </td><td>United Future</td><td>different</td><td>14</td></tr>\n",
       "\t<tr><td>NZ First     </td><td>Act          </td><td>different</td><td> 1</td></tr>\n",
       "\t<tr><td>NZ First     </td><td>Green        </td><td>different</td><td>21</td></tr>\n",
       "\t<tr><td>NZ First     </td><td>Labour       </td><td>different</td><td>76</td></tr>\n",
       "\t<tr><td>NZ First     </td><td>National     </td><td>different</td><td>25</td></tr>\n",
       "\t<tr><td>NZ First     </td><td>United Future</td><td>different</td><td> 9</td></tr>\n",
       "\t<tr><td>United Future</td><td>National     </td><td>different</td><td> 8</td></tr>\n",
       "\t<tr><td>United Future</td><td>NZ First     </td><td>different</td><td> 1</td></tr>\n",
       "</tbody>\n",
       "</table>\n"
      ],
      "text/latex": [
       "A grouped\\_df: 59 × 4\n",
       "\\begin{tabular}{llll}\n",
       " jpartyvote & X\\_singlefav & sameparty & count\\\\\n",
       " <chr> & <chr> & <chr> & <int>\\\\\n",
       "\\hline\n",
       "\t Act           & Green         & different &  1\\\\\n",
       "\t Act           & National      & different & 14\\\\\n",
       "\t Act           & United Future & different &  1\\\\\n",
       "\t ALC           & Green         & different &  1\\\\\n",
       "\t ALC           & Labour        & different &  4\\\\\n",
       "\t ALC           & National      & different &  2\\\\\n",
       "\t ALC           & United Future & different &  3\\\\\n",
       "\t Alliance      & Labour        & different &  1\\\\\n",
       "\t Alliance      & National      & different &  1\\\\\n",
       "\t Another party & Green         & different &  2\\\\\n",
       "\t Another party & Labour        & different &  4\\\\\n",
       "\t Another party & National      & different &  2\\\\\n",
       "\t Conservative  & Act           & different &  2\\\\\n",
       "\t Conservative  & Green         & different &  3\\\\\n",
       "\t Conservative  & Labour        & different & 16\\\\\n",
       "\t Conservative  & National      & different & 43\\\\\n",
       "\t Conservative  & NZ First      & different &  6\\\\\n",
       "\t Conservative  & United Future & different &  3\\\\\n",
       "\t Don't know    & Green         & different &  2\\\\\n",
       "\t Don't know    & Labour        & different &  8\\\\\n",
       "\t Don't know    & Mana          & different &  1\\\\\n",
       "\t Don't know    & National      & different &  2\\\\\n",
       "\t Don't know    & NZ First      & different &  2\\\\\n",
       "\t Don't know    & United Future & different &  1\\\\\n",
       "\t Green         & Act           & different &  1\\\\\n",
       "\t Green         & Labour        & different & 66\\\\\n",
       "\t Green         & Mana          & different &  2\\\\\n",
       "\t Green         & National      & different & 28\\\\\n",
       "\t Green         & NZ First      & different &  4\\\\\n",
       "\t Green         & United Future & different &  9\\\\\n",
       "\t Labour        & Act           & different &  2\\\\\n",
       "\t Labour        & Green         & different & 48\\\\\n",
       "\t Labour        & Mana          & different &  7\\\\\n",
       "\t Labour        & National      & different & 28\\\\\n",
       "\t Labour        & NZ First      & different &  9\\\\\n",
       "\t Labour        & United Future & different & 12\\\\\n",
       "\t Mana          & Green         & different & 14\\\\\n",
       "\t Mana          & Labour        & different &  8\\\\\n",
       "\t Mana          & National      & different &  1\\\\\n",
       "\t Mana          & NZ First      & different &  2\\\\\n",
       "\t Mana          & United Future & different &  6\\\\\n",
       "\t Maori Party   & Green         & different & 17\\\\\n",
       "\t Maori Party   & Labour        & different & 29\\\\\n",
       "\t Maori Party   & Mana          & different &  2\\\\\n",
       "\t Maori Party   & National      & different & 16\\\\\n",
       "\t Maori Party   & NZ First      & different &  9\\\\\n",
       "\t Maori Party   & United Future & different & 53\\\\\n",
       "\t National      & Act           & different & 11\\\\\n",
       "\t National      & Green         & different & 10\\\\\n",
       "\t National      & Labour        & different & 78\\\\\n",
       "\t National      & NZ First      & different &  6\\\\\n",
       "\t National      & United Future & different & 14\\\\\n",
       "\t NZ First      & Act           & different &  1\\\\\n",
       "\t NZ First      & Green         & different & 21\\\\\n",
       "\t NZ First      & Labour        & different & 76\\\\\n",
       "\t NZ First      & National      & different & 25\\\\\n",
       "\t NZ First      & United Future & different &  9\\\\\n",
       "\t United Future & National      & different &  8\\\\\n",
       "\t United Future & NZ First      & different &  1\\\\\n",
       "\\end{tabular}\n"
      ],
      "text/markdown": [
       "\n",
       "A grouped_df: 59 × 4\n",
       "\n",
       "| jpartyvote &lt;chr&gt; | X_singlefav &lt;chr&gt; | sameparty &lt;chr&gt; | count &lt;int&gt; |\n",
       "|---|---|---|---|\n",
       "| Act           | Green         | different |  1 |\n",
       "| Act           | National      | different | 14 |\n",
       "| Act           | United Future | different |  1 |\n",
       "| ALC           | Green         | different |  1 |\n",
       "| ALC           | Labour        | different |  4 |\n",
       "| ALC           | National      | different |  2 |\n",
       "| ALC           | United Future | different |  3 |\n",
       "| Alliance      | Labour        | different |  1 |\n",
       "| Alliance      | National      | different |  1 |\n",
       "| Another party | Green         | different |  2 |\n",
       "| Another party | Labour        | different |  4 |\n",
       "| Another party | National      | different |  2 |\n",
       "| Conservative  | Act           | different |  2 |\n",
       "| Conservative  | Green         | different |  3 |\n",
       "| Conservative  | Labour        | different | 16 |\n",
       "| Conservative  | National      | different | 43 |\n",
       "| Conservative  | NZ First      | different |  6 |\n",
       "| Conservative  | United Future | different |  3 |\n",
       "| Don't know    | Green         | different |  2 |\n",
       "| Don't know    | Labour        | different |  8 |\n",
       "| Don't know    | Mana          | different |  1 |\n",
       "| Don't know    | National      | different |  2 |\n",
       "| Don't know    | NZ First      | different |  2 |\n",
       "| Don't know    | United Future | different |  1 |\n",
       "| Green         | Act           | different |  1 |\n",
       "| Green         | Labour        | different | 66 |\n",
       "| Green         | Mana          | different |  2 |\n",
       "| Green         | National      | different | 28 |\n",
       "| Green         | NZ First      | different |  4 |\n",
       "| Green         | United Future | different |  9 |\n",
       "| Labour        | Act           | different |  2 |\n",
       "| Labour        | Green         | different | 48 |\n",
       "| Labour        | Mana          | different |  7 |\n",
       "| Labour        | National      | different | 28 |\n",
       "| Labour        | NZ First      | different |  9 |\n",
       "| Labour        | United Future | different | 12 |\n",
       "| Mana          | Green         | different | 14 |\n",
       "| Mana          | Labour        | different |  8 |\n",
       "| Mana          | National      | different |  1 |\n",
       "| Mana          | NZ First      | different |  2 |\n",
       "| Mana          | United Future | different |  6 |\n",
       "| Maori Party   | Green         | different | 17 |\n",
       "| Maori Party   | Labour        | different | 29 |\n",
       "| Maori Party   | Mana          | different |  2 |\n",
       "| Maori Party   | National      | different | 16 |\n",
       "| Maori Party   | NZ First      | different |  9 |\n",
       "| Maori Party   | United Future | different | 53 |\n",
       "| National      | Act           | different | 11 |\n",
       "| National      | Green         | different | 10 |\n",
       "| National      | Labour        | different | 78 |\n",
       "| National      | NZ First      | different |  6 |\n",
       "| National      | United Future | different | 14 |\n",
       "| NZ First      | Act           | different |  1 |\n",
       "| NZ First      | Green         | different | 21 |\n",
       "| NZ First      | Labour        | different | 76 |\n",
       "| NZ First      | National      | different | 25 |\n",
       "| NZ First      | United Future | different |  9 |\n",
       "| United Future | National      | different |  8 |\n",
       "| United Future | NZ First      | different |  1 |\n",
       "\n"
      ],
      "text/plain": [
       "   jpartyvote    X_singlefav   sameparty count\n",
       "1  Act           Green         different  1   \n",
       "2  Act           National      different 14   \n",
       "3  Act           United Future different  1   \n",
       "4  ALC           Green         different  1   \n",
       "5  ALC           Labour        different  4   \n",
       "6  ALC           National      different  2   \n",
       "7  ALC           United Future different  3   \n",
       "8  Alliance      Labour        different  1   \n",
       "9  Alliance      National      different  1   \n",
       "10 Another party Green         different  2   \n",
       "11 Another party Labour        different  4   \n",
       "12 Another party National      different  2   \n",
       "13 Conservative  Act           different  2   \n",
       "14 Conservative  Green         different  3   \n",
       "15 Conservative  Labour        different 16   \n",
       "16 Conservative  National      different 43   \n",
       "17 Conservative  NZ First      different  6   \n",
       "18 Conservative  United Future different  3   \n",
       "19 Don't know    Green         different  2   \n",
       "20 Don't know    Labour        different  8   \n",
       "21 Don't know    Mana          different  1   \n",
       "22 Don't know    National      different  2   \n",
       "23 Don't know    NZ First      different  2   \n",
       "24 Don't know    United Future different  1   \n",
       "25 Green         Act           different  1   \n",
       "26 Green         Labour        different 66   \n",
       "27 Green         Mana          different  2   \n",
       "28 Green         National      different 28   \n",
       "29 Green         NZ First      different  4   \n",
       "30 Green         United Future different  9   \n",
       "31 Labour        Act           different  2   \n",
       "32 Labour        Green         different 48   \n",
       "33 Labour        Mana          different  7   \n",
       "34 Labour        National      different 28   \n",
       "35 Labour        NZ First      different  9   \n",
       "36 Labour        United Future different 12   \n",
       "37 Mana          Green         different 14   \n",
       "38 Mana          Labour        different  8   \n",
       "39 Mana          National      different  1   \n",
       "40 Mana          NZ First      different  2   \n",
       "41 Mana          United Future different  6   \n",
       "42 Maori Party   Green         different 17   \n",
       "43 Maori Party   Labour        different 29   \n",
       "44 Maori Party   Mana          different  2   \n",
       "45 Maori Party   National      different 16   \n",
       "46 Maori Party   NZ First      different  9   \n",
       "47 Maori Party   United Future different 53   \n",
       "48 National      Act           different 11   \n",
       "49 National      Green         different 10   \n",
       "50 National      Labour        different 78   \n",
       "51 National      NZ First      different  6   \n",
       "52 National      United Future different 14   \n",
       "53 NZ First      Act           different  1   \n",
       "54 NZ First      Green         different 21   \n",
       "55 NZ First      Labour        different 76   \n",
       "56 NZ First      National      different 25   \n",
       "57 NZ First      United Future different  9   \n",
       "58 United Future National      different  8   \n",
       "59 United Future NZ First      different  1   "
      ]
     },
     "metadata": {},
     "output_type": "display_data"
    }
   ],
   "source": [
    "selected_nzes2011 %>% \n",
    "  group_by(jpartyvote, X_singlefav, sameparty) %>%\n",
    "  summarise(count = n()) %>% \n",
    "  filter(sameparty == \"different\")"
   ]
  },
  {
   "cell_type": "markdown",
   "metadata": {},
   "source": [
    "We can also check how we got any `NA`s we have by using the `is.na()` function:"
   ]
  },
  {
   "cell_type": "code",
   "execution_count": 18,
   "metadata": {},
   "outputs": [
    {
     "name": "stderr",
     "output_type": "stream",
     "text": [
      "`summarise()` regrouping output by 'jpartyvote', 'X_singlefav' (override with `.groups` argument)\n",
      "\n"
     ]
    },
    {
     "data": {
      "text/html": [
       "<table>\n",
       "<caption>A grouped_df: 16 × 4</caption>\n",
       "<thead>\n",
       "\t<tr><th scope=col>jpartyvote</th><th scope=col>X_singlefav</th><th scope=col>sameparty</th><th scope=col>count</th></tr>\n",
       "\t<tr><th scope=col>&lt;chr&gt;</th><th scope=col>&lt;chr&gt;</th><th scope=col>&lt;chr&gt;</th><th scope=col>&lt;int&gt;</th></tr>\n",
       "</thead>\n",
       "<tbody>\n",
       "\t<tr><td>Act         </td><td>NA           </td><td>NA</td><td>  1</td></tr>\n",
       "\t<tr><td>Conservative</td><td>NA           </td><td>NA</td><td>  1</td></tr>\n",
       "\t<tr><td>Don't know  </td><td>NA           </td><td>NA</td><td>  7</td></tr>\n",
       "\t<tr><td>Green       </td><td>NA           </td><td>NA</td><td>  1</td></tr>\n",
       "\t<tr><td>Labour      </td><td>NA           </td><td>NA</td><td> 11</td></tr>\n",
       "\t<tr><td>Maori Party </td><td>NA           </td><td>NA</td><td>  2</td></tr>\n",
       "\t<tr><td>National    </td><td>NA           </td><td>NA</td><td>  7</td></tr>\n",
       "\t<tr><td>NZ First    </td><td>NA           </td><td>NA</td><td>  2</td></tr>\n",
       "\t<tr><td>NA          </td><td>Act          </td><td>NA</td><td>  4</td></tr>\n",
       "\t<tr><td>NA          </td><td>Green        </td><td>NA</td><td> 32</td></tr>\n",
       "\t<tr><td>NA          </td><td>Labour       </td><td>NA</td><td>121</td></tr>\n",
       "\t<tr><td>NA          </td><td>Mana         </td><td>NA</td><td>  4</td></tr>\n",
       "\t<tr><td>NA          </td><td>National     </td><td>NA</td><td> 92</td></tr>\n",
       "\t<tr><td>NA          </td><td>NZ First     </td><td>NA</td><td> 17</td></tr>\n",
       "\t<tr><td>NA          </td><td>United Future</td><td>NA</td><td> 12</td></tr>\n",
       "\t<tr><td>NA          </td><td>NA           </td><td>NA</td><td> 26</td></tr>\n",
       "</tbody>\n",
       "</table>\n"
      ],
      "text/latex": [
       "A grouped\\_df: 16 × 4\n",
       "\\begin{tabular}{llll}\n",
       " jpartyvote & X\\_singlefav & sameparty & count\\\\\n",
       " <chr> & <chr> & <chr> & <int>\\\\\n",
       "\\hline\n",
       "\t Act          & NA            & NA &   1\\\\\n",
       "\t Conservative & NA            & NA &   1\\\\\n",
       "\t Don't know   & NA            & NA &   7\\\\\n",
       "\t Green        & NA            & NA &   1\\\\\n",
       "\t Labour       & NA            & NA &  11\\\\\n",
       "\t Maori Party  & NA            & NA &   2\\\\\n",
       "\t National     & NA            & NA &   7\\\\\n",
       "\t NZ First     & NA            & NA &   2\\\\\n",
       "\t NA           & Act           & NA &   4\\\\\n",
       "\t NA           & Green         & NA &  32\\\\\n",
       "\t NA           & Labour        & NA & 121\\\\\n",
       "\t NA           & Mana          & NA &   4\\\\\n",
       "\t NA           & National      & NA &  92\\\\\n",
       "\t NA           & NZ First      & NA &  17\\\\\n",
       "\t NA           & United Future & NA &  12\\\\\n",
       "\t NA           & NA            & NA &  26\\\\\n",
       "\\end{tabular}\n"
      ],
      "text/markdown": [
       "\n",
       "A grouped_df: 16 × 4\n",
       "\n",
       "| jpartyvote &lt;chr&gt; | X_singlefav &lt;chr&gt; | sameparty &lt;chr&gt; | count &lt;int&gt; |\n",
       "|---|---|---|---|\n",
       "| Act          | NA            | NA |   1 |\n",
       "| Conservative | NA            | NA |   1 |\n",
       "| Don't know   | NA            | NA |   7 |\n",
       "| Green        | NA            | NA |   1 |\n",
       "| Labour       | NA            | NA |  11 |\n",
       "| Maori Party  | NA            | NA |   2 |\n",
       "| National     | NA            | NA |   7 |\n",
       "| NZ First     | NA            | NA |   2 |\n",
       "| NA           | Act           | NA |   4 |\n",
       "| NA           | Green         | NA |  32 |\n",
       "| NA           | Labour        | NA | 121 |\n",
       "| NA           | Mana          | NA |   4 |\n",
       "| NA           | National      | NA |  92 |\n",
       "| NA           | NZ First      | NA |  17 |\n",
       "| NA           | United Future | NA |  12 |\n",
       "| NA           | NA            | NA |  26 |\n",
       "\n"
      ],
      "text/plain": [
       "   jpartyvote   X_singlefav   sameparty count\n",
       "1  Act          NA            NA          1  \n",
       "2  Conservative NA            NA          1  \n",
       "3  Don't know   NA            NA          7  \n",
       "4  Green        NA            NA          1  \n",
       "5  Labour       NA            NA         11  \n",
       "6  Maori Party  NA            NA          2  \n",
       "7  National     NA            NA          7  \n",
       "8  NZ First     NA            NA          2  \n",
       "9  NA           Act           NA          4  \n",
       "10 NA           Green         NA         32  \n",
       "11 NA           Labour        NA        121  \n",
       "12 NA           Mana          NA          4  \n",
       "13 NA           National      NA         92  \n",
       "14 NA           NZ First      NA         17  \n",
       "15 NA           United Future NA         12  \n",
       "16 NA           NA            NA         26  "
      ]
     },
     "metadata": {},
     "output_type": "display_data"
    }
   ],
   "source": [
    "selected_nzes2011 %>% \n",
    "  group_by(jpartyvote, X_singlefav, sameparty) %>%\n",
    "  summarise(count = n()) %>% \n",
    "  filter(is.na(sameparty))"
   ]
  },
  {
   "cell_type": "markdown",
   "metadata": {},
   "source": [
    "The checks show that the observations with `NA`s in the `sameparty`are going to be excluded from the analysis when we fiter out the `NA`s in the `jpartyvote` and `X_singlefav` variables, so we don't need to worry about them anymore."
   ]
  },
  {
   "cell_type": "markdown",
   "metadata": {},
   "source": [
    "As a second question, we might be interested in exploring the relationship between age of voters and how much they like the NZ First party. For the variables `jnzflike` (how much like NZ First) and `jage` (respondent's age in years)."
   ]
  },
  {
   "cell_type": "code",
   "execution_count": 19,
   "metadata": {},
   "outputs": [
    {
     "name": "stdout",
     "output_type": "stream",
     "text": [
      " Factor w/ 12 levels \"0\",\"1\",\"10\",\"2\",..: 1 1 4 10 4 11 NA NA 1 12 ...\n"
     ]
    }
   ],
   "source": [
    "str(selected_nzes2011$jnzflike)"
   ]
  },
  {
   "cell_type": "code",
   "execution_count": 20,
   "metadata": {},
   "outputs": [
    {
     "name": "stdout",
     "output_type": "stream",
     "text": [
      " int [1:3101] 37 37 28 71 43 NA 59 68 64 70 ...\n"
     ]
    }
   ],
   "source": [
    "str(selected_nzes2011$jage)"
   ]
  },
  {
   "cell_type": "markdown",
   "metadata": {},
   "source": [
    "`jnzflike` is a factor variable, in fact it's ordinal and by default the levels are listed in alphabetical order. Since this is a categorical variable, we can also summarize the occurances of each level with `group_by()` and `summarise()` again:"
   ]
  },
  {
   "cell_type": "code",
   "execution_count": 21,
   "metadata": {},
   "outputs": [
    {
     "name": "stderr",
     "output_type": "stream",
     "text": [
      "`summarise()` ungrouping output (override with `.groups` argument)\n",
      "\n"
     ]
    },
    {
     "data": {
      "text/html": [
       "<table>\n",
       "<caption>A tibble: 13 × 2</caption>\n",
       "<thead>\n",
       "\t<tr><th scope=col>jnzflike</th><th scope=col>count</th></tr>\n",
       "\t<tr><th scope=col>&lt;fct&gt;</th><th scope=col>&lt;int&gt;</th></tr>\n",
       "</thead>\n",
       "<tbody>\n",
       "\t<tr><td>0         </td><td>622</td></tr>\n",
       "\t<tr><td>1         </td><td>298</td></tr>\n",
       "\t<tr><td>10        </td><td>134</td></tr>\n",
       "\t<tr><td>2         </td><td>266</td></tr>\n",
       "\t<tr><td>3         </td><td>227</td></tr>\n",
       "\t<tr><td>4         </td><td>162</td></tr>\n",
       "\t<tr><td>5         </td><td>544</td></tr>\n",
       "\t<tr><td>6         </td><td>165</td></tr>\n",
       "\t<tr><td>7         </td><td>138</td></tr>\n",
       "\t<tr><td>8         </td><td>107</td></tr>\n",
       "\t<tr><td>9         </td><td> 81</td></tr>\n",
       "\t<tr><td>Don't know</td><td>224</td></tr>\n",
       "\t<tr><td>NA        </td><td>133</td></tr>\n",
       "</tbody>\n",
       "</table>\n"
      ],
      "text/latex": [
       "A tibble: 13 × 2\n",
       "\\begin{tabular}{ll}\n",
       " jnzflike & count\\\\\n",
       " <fct> & <int>\\\\\n",
       "\\hline\n",
       "\t 0          & 622\\\\\n",
       "\t 1          & 298\\\\\n",
       "\t 10         & 134\\\\\n",
       "\t 2          & 266\\\\\n",
       "\t 3          & 227\\\\\n",
       "\t 4          & 162\\\\\n",
       "\t 5          & 544\\\\\n",
       "\t 6          & 165\\\\\n",
       "\t 7          & 138\\\\\n",
       "\t 8          & 107\\\\\n",
       "\t 9          &  81\\\\\n",
       "\t Don't know & 224\\\\\n",
       "\t NA         & 133\\\\\n",
       "\\end{tabular}\n"
      ],
      "text/markdown": [
       "\n",
       "A tibble: 13 × 2\n",
       "\n",
       "| jnzflike &lt;fct&gt; | count &lt;int&gt; |\n",
       "|---|---|\n",
       "| 0          | 622 |\n",
       "| 1          | 298 |\n",
       "| 10         | 134 |\n",
       "| 2          | 266 |\n",
       "| 3          | 227 |\n",
       "| 4          | 162 |\n",
       "| 5          | 544 |\n",
       "| 6          | 165 |\n",
       "| 7          | 138 |\n",
       "| 8          | 107 |\n",
       "| 9          |  81 |\n",
       "| Don't know | 224 |\n",
       "| NA         | 133 |\n",
       "\n"
      ],
      "text/plain": [
       "   jnzflike   count\n",
       "1  0          622  \n",
       "2  1          298  \n",
       "3  10         134  \n",
       "4  2          266  \n",
       "5  3          227  \n",
       "6  4          162  \n",
       "7  5          544  \n",
       "8  6          165  \n",
       "9  7          138  \n",
       "10 8          107  \n",
       "11 9           81  \n",
       "12 Don't know 224  \n",
       "13 NA         133  "
      ]
     },
     "metadata": {},
     "output_type": "display_data"
    }
   ],
   "source": [
    "selected_nzes2011 %>% \n",
    "  group_by(jnzflike) %>% \n",
    "  summarise(count = n())"
   ]
  },
  {
   "cell_type": "markdown",
   "metadata": {},
   "source": [
    "While `jnzflike` is on a 0 to 10 scale, this variable also has a level labeled `\"Don't know\"`, which is why R stores this variable as not a numeric variable.\n",
    "\n",
    "`jage`, on the other hand, is an integer, with values that are whole numbers between 0 and infinity (or `NA`). For this variable we would want to take a look at numerical summaries such as means, medians, etc."
   ]
  },
  {
   "cell_type": "code",
   "execution_count": 22,
   "metadata": {},
   "outputs": [
    {
     "data": {
      "text/html": [
       "<table>\n",
       "<caption>A data.frame: 1 × 5</caption>\n",
       "<thead>\n",
       "\t<tr><th scope=col>agemean</th><th scope=col>agemedian</th><th scope=col>agesd</th><th scope=col>agemin</th><th scope=col>agemax</th></tr>\n",
       "\t<tr><th scope=col>&lt;dbl&gt;</th><th scope=col>&lt;int&gt;</th><th scope=col>&lt;dbl&gt;</th><th scope=col>&lt;int&gt;</th><th scope=col>&lt;int&gt;</th></tr>\n",
       "</thead>\n",
       "<tbody>\n",
       "\t<tr><td>NA</td><td>NA</td><td>NA</td><td>NA</td><td>NA</td></tr>\n",
       "</tbody>\n",
       "</table>\n"
      ],
      "text/latex": [
       "A data.frame: 1 × 5\n",
       "\\begin{tabular}{lllll}\n",
       " agemean & agemedian & agesd & agemin & agemax\\\\\n",
       " <dbl> & <int> & <dbl> & <int> & <int>\\\\\n",
       "\\hline\n",
       "\t NA & NA & NA & NA & NA\\\\\n",
       "\\end{tabular}\n"
      ],
      "text/markdown": [
       "\n",
       "A data.frame: 1 × 5\n",
       "\n",
       "| agemean &lt;dbl&gt; | agemedian &lt;int&gt; | agesd &lt;dbl&gt; | agemin &lt;int&gt; | agemax &lt;int&gt; |\n",
       "|---|---|---|---|---|\n",
       "| NA | NA | NA | NA | NA |\n",
       "\n"
      ],
      "text/plain": [
       "  agemean agemedian agesd agemin agemax\n",
       "1 NA      NA        NA    NA     NA    "
      ]
     },
     "metadata": {},
     "output_type": "display_data"
    }
   ],
   "source": [
    "selected_nzes2011 %>% \n",
    "  summarise(agemean = mean(jage), agemedian = median(jage), agesd = sd(jage), \n",
    "            agemin = min(jage), agemax = max(jage))"
   ]
  },
  {
   "cell_type": "markdown",
   "metadata": {},
   "source": [
    "What went wrong? The reason why all of the results were reported as NAs is that there were some NA entries in the `jage` variable (people not reporting their age). Since it is not possible to take the average of a series of values that contain `NA`s, obtaining the numerical summaries requires that we exclude the `NA`s from the calculation.\n",
    "\n",
    "Most numerical summary functions allow us to easily exclude `NA`s with the `na.rm` argument.\n",
    "\n",
    "An alternative approach is just to `filter` out the `NA`s first, and then ask for the numerical summaries:"
   ]
  },
  {
   "cell_type": "code",
   "execution_count": 23,
   "metadata": {},
   "outputs": [
    {
     "data": {
      "text/html": [
       "<table>\n",
       "<caption>A data.frame: 1 × 5</caption>\n",
       "<thead>\n",
       "\t<tr><th scope=col>agemean</th><th scope=col>agemedian</th><th scope=col>agesd</th><th scope=col>agemin</th><th scope=col>agemax</th></tr>\n",
       "\t<tr><th scope=col>&lt;dbl&gt;</th><th scope=col>&lt;dbl&gt;</th><th scope=col>&lt;dbl&gt;</th><th scope=col>&lt;int&gt;</th><th scope=col>&lt;int&gt;</th></tr>\n",
       "</thead>\n",
       "<tbody>\n",
       "\t<tr><td>53.22328</td><td>54</td><td>17.5371</td><td>18</td><td>100</td></tr>\n",
       "</tbody>\n",
       "</table>\n"
      ],
      "text/latex": [
       "A data.frame: 1 × 5\n",
       "\\begin{tabular}{lllll}\n",
       " agemean & agemedian & agesd & agemin & agemax\\\\\n",
       " <dbl> & <dbl> & <dbl> & <int> & <int>\\\\\n",
       "\\hline\n",
       "\t 53.22328 & 54 & 17.5371 & 18 & 100\\\\\n",
       "\\end{tabular}\n"
      ],
      "text/markdown": [
       "\n",
       "A data.frame: 1 × 5\n",
       "\n",
       "| agemean &lt;dbl&gt; | agemedian &lt;dbl&gt; | agesd &lt;dbl&gt; | agemin &lt;int&gt; | agemax &lt;int&gt; |\n",
       "|---|---|---|---|---|\n",
       "| 53.22328 | 54 | 17.5371 | 18 | 100 |\n",
       "\n"
      ],
      "text/plain": [
       "  agemean  agemedian agesd   agemin agemax\n",
       "1 53.22328 54        17.5371 18     100   "
      ]
     },
     "metadata": {},
     "output_type": "display_data"
    }
   ],
   "source": [
    "selected_nzes2011 %>% \n",
    "  filter(!(is.na(jage))) %>%\n",
    "  summarise(agemean = mean(jage), agemedian = median(jage), agesd = sd(jage), \n",
    "            agemin = min(jage), agemax = max(jage))"
   ]
  },
  {
   "cell_type": "markdown",
   "metadata": {},
   "source": [
    "Having gained some familiarity with the specific variables we are using, we next need to consider if there is additional work we should do on the data in investigating the question. There are a number of different approaches we might take. For example, we could consider if those that strongly like NZ First are older than those that strongly dislike NZ First, or we could consider if old people like NZ First more than young people."
   ]
  },
  {
   "cell_type": "markdown",
   "metadata": {},
   "source": [
    "If we wanted to select only two of the possible levels in how much people like NZ First, we can filter for these specific levels. When interested in filtering for multiple values a variable can take, the `%in%` operator can come in handy:"
   ]
  },
  {
   "cell_type": "code",
   "execution_count": 24,
   "metadata": {},
   "outputs": [
    {
     "name": "stderr",
     "output_type": "stream",
     "text": [
      "`summarise()` ungrouping output (override with `.groups` argument)\n",
      "\n"
     ]
    },
    {
     "data": {
      "text/html": [
       "<table>\n",
       "<caption>A tibble: 2 × 2</caption>\n",
       "<thead>\n",
       "\t<tr><th scope=col>jnzflike</th><th scope=col>count</th></tr>\n",
       "\t<tr><th scope=col>&lt;fct&gt;</th><th scope=col>&lt;int&gt;</th></tr>\n",
       "</thead>\n",
       "<tbody>\n",
       "\t<tr><td>0 </td><td>622</td></tr>\n",
       "\t<tr><td>10</td><td>134</td></tr>\n",
       "</tbody>\n",
       "</table>\n"
      ],
      "text/latex": [
       "A tibble: 2 × 2\n",
       "\\begin{tabular}{ll}\n",
       " jnzflike & count\\\\\n",
       " <fct> & <int>\\\\\n",
       "\\hline\n",
       "\t 0  & 622\\\\\n",
       "\t 10 & 134\\\\\n",
       "\\end{tabular}\n"
      ],
      "text/markdown": [
       "\n",
       "A tibble: 2 × 2\n",
       "\n",
       "| jnzflike &lt;fct&gt; | count &lt;int&gt; |\n",
       "|---|---|\n",
       "| 0  | 622 |\n",
       "| 10 | 134 |\n",
       "\n"
      ],
      "text/plain": [
       "  jnzflike count\n",
       "1 0        622  \n",
       "2 10       134  "
      ]
     },
     "metadata": {},
     "output_type": "display_data"
    }
   ],
   "source": [
    "selected_nzes2011 %>% \n",
    "  filter(jnzflike %in% c(\"0\",\"10\")) %>%\n",
    "  group_by(jnzflike) %>% \n",
    "  summarise(count = n())"
   ]
  },
  {
   "cell_type": "markdown",
   "metadata": {},
   "source": [
    "Remember that the `jnzflike` is not a numerical variable, hence we use the quotation marks around the values (even though they happen to be numbers).\n",
    "\n",
    "This is an example of simpligying the analysis by considering only two levels of a categorical variable, as opposed to all possible levels."
   ]
  },
  {
   "cell_type": "markdown",
   "metadata": {},
   "source": [
    "We might also like to refine our question slightly, asking do people above retirement age (65 in New Zealand) like NZ First more than younger people. To do this we can turn the numeric age variable into a categorical variable based on whether people are 65 years or older or younger than 65. Once again we make use of the `mutate()` and `ifelse()` functions:"
   ]
  },
  {
   "cell_type": "code",
   "execution_count": 25,
   "metadata": {},
   "outputs": [
    {
     "name": "stderr",
     "output_type": "stream",
     "text": [
      "`summarise()` ungrouping output (override with `.groups` argument)\n",
      "\n"
     ]
    },
    {
     "data": {
      "text/html": [
       "<table>\n",
       "<caption>A tibble: 3 × 2</caption>\n",
       "<thead>\n",
       "\t<tr><th scope=col>retiredage</th><th scope=col>count</th></tr>\n",
       "\t<tr><th scope=col>&lt;chr&gt;</th><th scope=col>&lt;int&gt;</th></tr>\n",
       "</thead>\n",
       "<tbody>\n",
       "\t<tr><td>retired age</td><td> 876</td></tr>\n",
       "\t<tr><td>working age</td><td>2156</td></tr>\n",
       "\t<tr><td>NA         </td><td>  69</td></tr>\n",
       "</tbody>\n",
       "</table>\n"
      ],
      "text/latex": [
       "A tibble: 3 × 2\n",
       "\\begin{tabular}{ll}\n",
       " retiredage & count\\\\\n",
       " <chr> & <int>\\\\\n",
       "\\hline\n",
       "\t retired age &  876\\\\\n",
       "\t working age & 2156\\\\\n",
       "\t NA          &   69\\\\\n",
       "\\end{tabular}\n"
      ],
      "text/markdown": [
       "\n",
       "A tibble: 3 × 2\n",
       "\n",
       "| retiredage &lt;chr&gt; | count &lt;int&gt; |\n",
       "|---|---|\n",
       "| retired age |  876 |\n",
       "| working age | 2156 |\n",
       "| NA          |   69 |\n",
       "\n"
      ],
      "text/plain": [
       "  retiredage  count\n",
       "1 retired age  876 \n",
       "2 working age 2156 \n",
       "3 NA            69 "
      ]
     },
     "metadata": {},
     "output_type": "display_data"
    }
   ],
   "source": [
    "selected_nzes2011 <- selected_nzes2011 %>% \n",
    "  mutate(retiredage = ifelse(jage >= 65, \"retired age\", \"working age\"))\n",
    "selected_nzes2011 %>% \n",
    "  group_by(retiredage) %>% \n",
    "  summarise(count = n())"
   ]
  },
  {
   "cell_type": "markdown",
   "metadata": {},
   "source": [
    "We can see that individuals in the dataset are now labeled as either `\"retired age\"` or `\"working age\"` or neither (`NA`), which we can easily filter out if need be.\n",
    "\n",
    "This is an example of using a numerical threshold to convert a numerical variable to a categorical variable."
   ]
  },
  {
   "cell_type": "markdown",
   "metadata": {},
   "source": [
    "For other hand, we need a conversion method that will use the text strings that label the levels, as opposed to the storage order of these levels. We can do this by first saving the variable as a character variable, and then turning it into a number:"
   ]
  },
  {
   "cell_type": "code",
   "execution_count": 26,
   "metadata": {},
   "outputs": [
    {
     "name": "stderr",
     "output_type": "stream",
     "text": [
      "Warning message in mask$eval_all_mutate(dots[[i]]):\n",
      "\"NAs introduced by coercion\"\n"
     ]
    }
   ],
   "source": [
    "selected_nzes2011 <- selected_nzes2011 %>% \n",
    "  mutate(numlikenzf = as.numeric(as.character(jnzflike)))"
   ]
  },
  {
   "cell_type": "markdown",
   "metadata": {},
   "source": [
    "The warning \"NAs introduced by coercion\" happens since the level `\"Don't know\"` cannot be turned into a number. But this should be fine for our purposes since we are interested in the numerical responses anyway."
   ]
  },
  {
   "cell_type": "code",
   "execution_count": 27,
   "metadata": {},
   "outputs": [
    {
     "name": "stderr",
     "output_type": "stream",
     "text": [
      "`summarise()` regrouping output by 'jnzflike' (override with `.groups` argument)\n",
      "\n"
     ]
    },
    {
     "data": {
      "text/html": [
       "<table>\n",
       "<caption>A grouped_df: 13 × 3</caption>\n",
       "<thead>\n",
       "\t<tr><th scope=col>jnzflike</th><th scope=col>numlikenzf</th><th scope=col>count</th></tr>\n",
       "\t<tr><th scope=col>&lt;fct&gt;</th><th scope=col>&lt;dbl&gt;</th><th scope=col>&lt;int&gt;</th></tr>\n",
       "</thead>\n",
       "<tbody>\n",
       "\t<tr><td>0         </td><td> 0</td><td>622</td></tr>\n",
       "\t<tr><td>1         </td><td> 1</td><td>298</td></tr>\n",
       "\t<tr><td>10        </td><td>10</td><td>134</td></tr>\n",
       "\t<tr><td>2         </td><td> 2</td><td>266</td></tr>\n",
       "\t<tr><td>3         </td><td> 3</td><td>227</td></tr>\n",
       "\t<tr><td>4         </td><td> 4</td><td>162</td></tr>\n",
       "\t<tr><td>5         </td><td> 5</td><td>544</td></tr>\n",
       "\t<tr><td>6         </td><td> 6</td><td>165</td></tr>\n",
       "\t<tr><td>7         </td><td> 7</td><td>138</td></tr>\n",
       "\t<tr><td>8         </td><td> 8</td><td>107</td></tr>\n",
       "\t<tr><td>9         </td><td> 9</td><td> 81</td></tr>\n",
       "\t<tr><td>Don't know</td><td>NA</td><td>224</td></tr>\n",
       "\t<tr><td>NA        </td><td>NA</td><td>133</td></tr>\n",
       "</tbody>\n",
       "</table>\n"
      ],
      "text/latex": [
       "A grouped\\_df: 13 × 3\n",
       "\\begin{tabular}{lll}\n",
       " jnzflike & numlikenzf & count\\\\\n",
       " <fct> & <dbl> & <int>\\\\\n",
       "\\hline\n",
       "\t 0          &  0 & 622\\\\\n",
       "\t 1          &  1 & 298\\\\\n",
       "\t 10         & 10 & 134\\\\\n",
       "\t 2          &  2 & 266\\\\\n",
       "\t 3          &  3 & 227\\\\\n",
       "\t 4          &  4 & 162\\\\\n",
       "\t 5          &  5 & 544\\\\\n",
       "\t 6          &  6 & 165\\\\\n",
       "\t 7          &  7 & 138\\\\\n",
       "\t 8          &  8 & 107\\\\\n",
       "\t 9          &  9 &  81\\\\\n",
       "\t Don't know & NA & 224\\\\\n",
       "\t NA         & NA & 133\\\\\n",
       "\\end{tabular}\n"
      ],
      "text/markdown": [
       "\n",
       "A grouped_df: 13 × 3\n",
       "\n",
       "| jnzflike &lt;fct&gt; | numlikenzf &lt;dbl&gt; | count &lt;int&gt; |\n",
       "|---|---|---|\n",
       "| 0          |  0 | 622 |\n",
       "| 1          |  1 | 298 |\n",
       "| 10         | 10 | 134 |\n",
       "| 2          |  2 | 266 |\n",
       "| 3          |  3 | 227 |\n",
       "| 4          |  4 | 162 |\n",
       "| 5          |  5 | 544 |\n",
       "| 6          |  6 | 165 |\n",
       "| 7          |  7 | 138 |\n",
       "| 8          |  8 | 107 |\n",
       "| 9          |  9 |  81 |\n",
       "| Don't know | NA | 224 |\n",
       "| NA         | NA | 133 |\n",
       "\n"
      ],
      "text/plain": [
       "   jnzflike   numlikenzf count\n",
       "1  0           0         622  \n",
       "2  1           1         298  \n",
       "3  10         10         134  \n",
       "4  2           2         266  \n",
       "5  3           3         227  \n",
       "6  4           4         162  \n",
       "7  5           5         544  \n",
       "8  6           6         165  \n",
       "9  7           7         138  \n",
       "10 8           8         107  \n",
       "11 9           9          81  \n",
       "12 Don't know NA         224  \n",
       "13 NA         NA         133  "
      ]
     },
     "metadata": {},
     "output_type": "display_data"
    }
   ],
   "source": [
    "selected_nzes2011 %>% \n",
    "  group_by(jnzflike, numlikenzf) %>% \n",
    "  summarise(count = n())"
   ]
  },
  {
   "cell_type": "markdown",
   "metadata": {},
   "source": [
    "Converting the factor to a character first ensures that the numerical values used in the labels of the levels of the categorical variable are used.\n",
    "\n",
    "Now that we cleaned up the data in a way that addresses the needs of the research questions we want to explore, we are ready to continue with our analysis."
   ]
  }
 ],
 "metadata": {
  "kernelspec": {
   "display_name": "R",
   "language": "R",
   "name": "ir"
  },
  "language_info": {
   "codemirror_mode": "r",
   "file_extension": ".r",
   "mimetype": "text/x-r-source",
   "name": "R",
   "pygments_lexer": "r",
   "version": "3.6.3"
  }
 },
 "nbformat": 4,
 "nbformat_minor": 4
}
