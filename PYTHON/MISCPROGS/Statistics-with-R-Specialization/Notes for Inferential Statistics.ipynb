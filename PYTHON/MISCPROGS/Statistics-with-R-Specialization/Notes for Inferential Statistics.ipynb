{
 "cells": [
  {
   "cell_type": "markdown",
   "metadata": {},
   "source": [
    "# Notes for Inferential Statistics"
   ]
  },
  {
   "cell_type": "markdown",
   "metadata": {},
   "source": [
    "<img src=\"images/notes.png\"/>"
   ]
  },
  {
   "cell_type": "markdown",
   "metadata": {},
   "source": [
    "### Understanding the variability of a point estimate\n",
    "Suppose the proportion of American adults who support the expansion of solar energy is p = 0:88, which is our parameter of interest. If we were to take a poll of 100 American adults on this topic, the estimate would not be perfect, but how close might we expect the sample proportion in the poll would be to 88%? \n",
    "\n",
    "We want to understand, how does the sample proportion p^ behave when the true population proportion is 0.88. We can simulate responses we would get from a simple random sample of 100 American adults, which is only possible because we know the\n",
    "actual support for expanding solar energy is 0.88. Here’s how we might go about constructing such\n",
    "a simulation:\n",
    "\n",
    "    1. There were about 250 million American adults in 2018. On 250 thousands pieces of paper, write \"support\" on 88% of them and \"not\" on the other 12%.\n",
    "    2. Mix up the pieces of paper and pull out 100 pieces to represent our sample of 100 American adults.\n",
    "    3. Compute the fraction of the sample that say \"support\"."
   ]
  },
  {
   "cell_type": "code",
   "execution_count": 1,
   "metadata": {},
   "outputs": [
    {
     "data": {
      "text/html": [
       "0.89"
      ],
      "text/latex": [
       "0.89"
      ],
      "text/markdown": [
       "0.89"
      ],
      "text/plain": [
       "[1] 0.89"
      ]
     },
     "metadata": {},
     "output_type": "display_data"
    }
   ],
   "source": [
    "# 1. Create a set of 250 thousands entries, where 88% of them are \"support\" and 12% are \"not\".\n",
    "pop_size <- 250000\n",
    "possible_entries <- c(rep(\"support\", 0.88 * pop_size), rep(\"not\", 0.12 * pop_size))\n",
    "\n",
    "# 2. Sample 100 entries without replacement.\n",
    "sampled_entries <- sample(possible_entries, size = 100)\n",
    "\n",
    "# 3. Compute p-hat: count the number that are \"support\", then divide by the sample size.\n",
    "sum(sampled_entries == \"support\") / 100"
   ]
  },
  {
   "cell_type": "markdown",
   "metadata": {},
   "source": [
    "### Normal Density Function"
   ]
  },
  {
   "cell_type": "code",
   "execution_count": 2,
   "metadata": {},
   "outputs": [],
   "source": [
    "library(ggplot2)"
   ]
  },
  {
   "cell_type": "code",
   "execution_count": 3,
   "metadata": {},
   "outputs": [
    {
     "data": {
      "text/html": [
       "0.0265961520267622"
      ],
      "text/latex": [
       "0.0265961520267622"
      ],
      "text/markdown": [
       "0.0265961520267622"
      ],
      "text/plain": [
       "[1] 0.02659615"
      ]
     },
     "metadata": {},
     "output_type": "display_data"
    }
   ],
   "source": [
    "# If we need the height of the IQ distribution for IQ = 100\n",
    "\n",
    "dnorm(100,m=100,s=15)"
   ]
  },
  {
   "cell_type": "code",
   "execution_count": 4,
   "metadata": {},
   "outputs": [],
   "source": [
    "# An aesthetic mapping for the x-axis:  a sequence of 121 numbers, beginning with 40 (4 standard deviations below the mean) \n",
    "# to 160 (4 standard deviations above the mean).\n",
    "x.values <- seq(40,160,1)\n",
    "\n",
    "\n",
    "# A vector of the nine standard deviation-values from 40 to 160. This figures into the creation of the vertical dashed lines \n",
    "# at each standard deviation.\n",
    "sd.values <- seq(40,160,15)\n",
    "\n",
    "# A vector of nine zeros.\n",
    "zeros9 <- rep(0,9)"
   ]
  },
  {
   "cell_type": "markdown",
   "metadata": {},
   "source": [
    "Because the data is a vector, the first argument is NULL. The aesthetic mapping for the x-axis is the x.values vector.What about the mapping for the y-axis? Well, this is a plot of a normal density function for mean = 100 and sd =15. \n",
    "\n",
    "    dnorm(x.values, m=100, s=15)\n",
    "\n",
    "Here’s the ggplot() statement:\n",
    "\n",
    "    ggplot(NULL,aes(x=x.values,y=dnorm(x.values,m=100,s=15)))\n",
    "    \n",
    "Add a line geom function for the plot and labels for the axes, and here’s what I have:"
   ]
  },
  {
   "cell_type": "code",
   "execution_count": 5,
   "metadata": {},
   "outputs": [
    {
     "data": {
      "image/png": "[encoded data removed]",
      "text/plain": [
       "plot without title"
      ]
     },
     "metadata": {
      "image/png": {
       "height": 420,
       "width": 420
      },
      "text/plain": {
       "height": 420,
       "width": 420
      }
     },
     "output_type": "display_data"
    }
   ],
   "source": [
    "ggplot(NULL,aes(x=x.values,y=dnorm(x.values,m=100,s=15))) +\n",
    "    geom_line() +\n",
    "    labs(x=\"IQ\",y=\"f(IQ)\")"
   ]
  },
  {
   "cell_type": "markdown",
   "metadata": {},
   "source": [
    "To change those values, I use scale_x_continuous() to rescale the x-axis. One of its arguments, breaks, sets the points on the x-axis for the values, and the other, labels, supplies the values. For each one, I supply sd.values:"
   ]
  },
  {
   "cell_type": "code",
   "execution_count": 6,
   "metadata": {},
   "outputs": [
    {
     "data": {
      "text/plain": [
       "<ScaleContinuousPosition>\n",
       " Range:  \n",
       " Limits:    0 --    1"
      ]
     },
     "metadata": {},
     "output_type": "display_data"
    }
   ],
   "source": [
    "scale_x_continuous(breaks=sd.values,labels = sd.values)"
   ]
  },
  {
   "cell_type": "code",
   "execution_count": 7,
   "metadata": {},
   "outputs": [
    {
     "data": {
      "image/png": "[encoded data removed]",
      "text/plain": [
       "plot without title"
      ]
     },
     "metadata": {
      "image/png": {
       "height": 420,
       "width": 420
      },
      "text/plain": {
       "height": 420,
       "width": 420
      }
     },
     "output_type": "display_data"
    }
   ],
   "source": [
    "ggplot(NULL,aes(x=x.values,y=dnorm(x.values,m=100,s=15))) +\n",
    "    geom_line() +\n",
    "    labs(x=\"IQ\",y=\"f(IQ)\")+\n",
    "    scale_x_continuous(breaks=sd.values,labels = sd.values)"
   ]
  },
  {
   "cell_type": "markdown",
   "metadata": {},
   "source": [
    "In ggplot world, vertical lines that start at the x-axis and end at the curve are called segments. So the appropriate geom function to draw them is geom_segment(). This function requires a starting point for each segment and an end point for each segment. I specify those points in an aesthetic mapping within the geom. The x-coordinates for the starting points for the nine segments are in sd.values. The segments start at the x-axis, so the nine y-coordinates are all zeros — which happens to be the contents of the *zeros9 vector*. The segments end at the curve, so the x-coordinates for the end-points are once again, sd.values. The y-coordinates? Those would be *dnorm(sd.values, m=100,s=15)*. Adding a statement about dashed lines, the rather busy geom_segment() statement is\n",
    "\n",
    "    geom_segment((aes(x=sd.values,y =zeros9, xend = sd.values, yend=dnorm(sd.values,m=100,s=15))), linetype = \"dashed\")"
   ]
  },
  {
   "cell_type": "code",
   "execution_count": 8,
   "metadata": {},
   "outputs": [
    {
     "data": {
      "image/png": "[encoded data removed]",
      "text/plain": [
       "plot without title"
      ]
     },
     "metadata": {
      "image/png": {
       "height": 420,
       "width": 420
      },
      "text/plain": {
       "height": 420,
       "width": 420
      }
     },
     "output_type": "display_data"
    }
   ],
   "source": [
    "ggplot(NULL,aes(x=x.values,y=dnorm(x.values,m=100,s=15))) +\n",
    "    geom_line() +\n",
    "    labs(x=\"IQ\",y=\"f(IQ)\")+\n",
    "    scale_x_continuous(breaks=sd.values,labels = sd.values) +\n",
    "    geom_segment((aes(x=sd.values, y=zeros9, xend = sd.values, yend=dnorm(sd.values,m=100,s=15))), linetype = \"dashed\")"
   ]
  },
  {
   "cell_type": "markdown",
   "metadata": {},
   "source": [
    "We can use *scale_y_continuous()*, whose expand argument controls the space between the x-values and the x-axis. It’s a two-element vector with defaults that set the amount of space you see in Figure 8-5. Without going too deeply into it, setting that vector to c(0,0) removes the spacing."
   ]
  },
  {
   "cell_type": "code",
   "execution_count": 9,
   "metadata": {},
   "outputs": [
    {
     "data": {
      "image/png": "[encoded data removed]",
      "text/plain": [
       "plot without title"
      ]
     },
     "metadata": {
      "image/png": {
       "height": 420,
       "width": 420
      },
      "text/plain": {
       "height": 420,
       "width": 420
      }
     },
     "output_type": "display_data"
    }
   ],
   "source": [
    "ggplot(NULL,aes(x=x.values,y=dnorm(x.values,m=100,s=15))) +\n",
    "    geom_line() +\n",
    "    labs(x=\"IQ\",y=\"f(IQ)\")+\n",
    "    scale_x_continuous(breaks=sd.values,labels = sd.values) +\n",
    "    geom_segment((aes(x=sd.values,y=zeros9,xend = sd.values,yend=dnorm(sd.values,m=100,s=15))), linetype = \"dashed\")+\n",
    "    scale_y_continuous(expand = c(0,0))"
   ]
  },
  {
   "cell_type": "markdown",
   "metadata": {},
   "source": [
    "### Cumulative density function\n",
    "The cumulative density function pnorm(x,m,s) returns the probability of a score less than x in a normal distribution with mean m and standard deviation s."
   ]
  },
  {
   "cell_type": "code",
   "execution_count": 10,
   "metadata": {},
   "outputs": [
    {
     "data": {
      "text/html": [
       "0.5"
      ],
      "text/latex": [
       "0.5"
      ],
      "text/markdown": [
       "0.5"
      ],
      "text/plain": [
       "[1] 0.5"
      ]
     },
     "metadata": {},
     "output_type": "display_data"
    }
   ],
   "source": [
    "pnorm(100,m=100,s=15)"
   ]
  },
  {
   "cell_type": "markdown",
   "metadata": {},
   "source": [
    "How about the probability of less than 85?"
   ]
  },
  {
   "cell_type": "code",
   "execution_count": 11,
   "metadata": {},
   "outputs": [
    {
     "data": {
      "text/html": [
       "0.158655253931457"
      ],
      "text/latex": [
       "0.158655253931457"
      ],
      "text/markdown": [
       "0.158655253931457"
      ],
      "text/plain": [
       "[1] 0.1586553"
      ]
     },
     "metadata": {},
     "output_type": "display_data"
    }
   ],
   "source": [
    "pnorm(85,m=100,s=15)"
   ]
  },
  {
   "cell_type": "markdown",
   "metadata": {},
   "source": [
    "If you want to find the probability of a score greater than 85, pnorm() can handle that, too. It has an argument called lower.tail whose default value, TRUE, returns the probability of “less than.” For “greater than,” set the value to FALSE:"
   ]
  },
  {
   "cell_type": "code",
   "execution_count": 12,
   "metadata": {},
   "outputs": [
    {
     "data": {
      "text/html": [
       "0.841344746068543"
      ],
      "text/latex": [
       "0.841344746068543"
      ],
      "text/markdown": [
       "0.841344746068543"
      ],
      "text/plain": [
       "[1] 0.8413447"
      ]
     },
     "metadata": {},
     "output_type": "display_data"
    }
   ],
   "source": [
    "pnorm(85,m=100,s=15, lower.tail = FALSE)"
   ]
  },
  {
   "cell_type": "markdown",
   "metadata": {},
   "source": [
    "A function called *pnormGC()* in a terrific package called **tigerstats** helps a lot. The letters GC stand for graphical calculator, but they could also stand for Georgetown College (in Georgetown, Kentucky), the school from which this package originates."
   ]
  },
  {
   "cell_type": "code",
   "execution_count": 13,
   "metadata": {},
   "outputs": [
    {
     "name": "stderr",
     "output_type": "stream",
     "text": [
      "Loading required package: abd\n",
      "\n",
      "Loading required package: nlme\n",
      "\n",
      "Loading required package: lattice\n",
      "\n",
      "Loading required package: grid\n",
      "\n",
      "Loading required package: mosaic\n",
      "\n",
      "Registered S3 method overwritten by 'mosaic':\n",
      "  method                           from   \n",
      "  fortify.SpatialPolygonsDataFrame ggplot2\n",
      "\n",
      "\n",
      "The 'mosaic' package masks several functions from core packages in order to add \n",
      "additional features.  The original behavior of these functions should not be affected by this.\n",
      "\n",
      "\n",
      "Attaching package: 'mosaic'\n",
      "\n",
      "\n",
      "The following objects are masked from 'package:dplyr':\n",
      "\n",
      "    count, do, tally\n",
      "\n",
      "\n",
      "The following object is masked from 'package:Matrix':\n",
      "\n",
      "    mean\n",
      "\n",
      "\n",
      "The following object is masked from 'package:ggplot2':\n",
      "\n",
      "    stat\n",
      "\n",
      "\n",
      "The following objects are masked from 'package:stats':\n",
      "\n",
      "    binom.test, cor, cor.test, cov, fivenum, IQR, median, prop.test,\n",
      "    quantile, sd, t.test, var\n",
      "\n",
      "\n",
      "The following objects are masked from 'package:base':\n",
      "\n",
      "    max, mean, min, prod, range, sample, sum\n",
      "\n",
      "\n",
      "Welcome to tigerstats!\n",
      "To learn more about this package, consult its website:\n",
      "\thttp://homerhanumat.github.io/tigerstats\n",
      "\n"
     ]
    }
   ],
   "source": [
    "#install.packages(\"tigerstats\")\n",
    "library(tigerstats)"
   ]
  },
  {
   "cell_type": "code",
   "execution_count": 14,
   "metadata": {},
   "outputs": [
    {
     "data": {
      "text/html": [
       "0.341344746068543"
      ],
      "text/latex": [
       "0.341344746068543"
      ],
      "text/markdown": [
       "0.341344746068543"
      ],
      "text/plain": [
       "[1] 0.3413447"
      ]
     },
     "metadata": {},
     "output_type": "display_data"
    },
    {
     "data": {
      "image/png": "[encoded data removed]",
      "text/plain": [
       "Plot with title \"Normal Curve, mean =  100 , SD =  15 \n",
       " Shaded Area =  0.3413\""
      ]
     },
     "metadata": {
      "image/png": {
       "height": 420,
       "width": 420
      },
      "text/plain": {
       "height": 420,
       "width": 420
      }
     },
     "output_type": "display_data"
    }
   ],
   "source": [
    "pnormGC(c(85,100),region=\"between\",m=100,s=15,graph=TRUE)"
   ]
  },
  {
   "cell_type": "markdown",
   "metadata": {},
   "source": [
    "### Plotting the CDF"
   ]
  },
  {
   "cell_type": "code",
   "execution_count": 15,
   "metadata": {},
   "outputs": [
    {
     "data": {
      "image/png": "[encoded data removed]",
      "text/plain": [
       "plot without title"
      ]
     },
     "metadata": {
      "image/png": {
       "height": 420,
       "width": 420
      },
      "text/plain": {
       "height": 420,
       "width": 420
      }
     },
     "output_type": "display_data"
    }
   ],
   "source": [
    "ggplot(NULL,aes(x=x.values,y=pnorm(x.values,m=100,s=15))) +\n",
    "    geom_line() +\n",
    "    labs(x=\"IQ\",y=\"Fn(IQ)\")+\n",
    "    scale_x_continuous(breaks=sd.values,labels = sd.values) +\n",
    "    geom_segment((aes(x=sd.values,y=zeros9,xend = sd.values,yend=pnorm(sd.values,mean=100,sd=15))), linetype = \"dashed\")+\n",
    "    scale_y_continuous(expand=c(0,0))"
   ]
  },
  {
   "cell_type": "markdown",
   "metadata": {},
   "source": [
    "Yes, all you do is change dnorm to pnorm and edit the y-axis label. Code reuse — it’s a beautiful thing."
   ]
  },
  {
   "cell_type": "markdown",
   "metadata": {},
   "source": [
    "### Quantiles of Normal Distributions"
   ]
  },
  {
   "cell_type": "markdown",
   "metadata": {},
   "source": [
    "The *qnorm()* function is the inverse of *pnorm()*. Give *qnorm()* an area, and it returns the score that cuts off that area (to the left) in the specified normal distribution:"
   ]
  },
  {
   "cell_type": "code",
   "execution_count": 16,
   "metadata": {},
   "outputs": [
    {
     "data": {
      "text/html": [
       "85.0000028558334"
      ],
      "text/latex": [
       "85.0000028558334"
      ],
      "text/markdown": [
       "85.0000028558334"
      ],
      "text/plain": [
       "[1] 85"
      ]
     },
     "metadata": {},
     "output_type": "display_data"
    }
   ],
   "source": [
    "qnorm(0.1586553,m=100,s=15)"
   ]
  },
  {
   "cell_type": "markdown",
   "metadata": {},
   "source": [
    "The area (to the left), of course, is a percentile. To find a score that cuts off an indicated area to the right:"
   ]
  },
  {
   "cell_type": "code",
   "execution_count": 17,
   "metadata": {},
   "outputs": [
    {
     "data": {
      "text/html": [
       "114.999997144167"
      ],
      "text/latex": [
       "114.999997144167"
      ],
      "text/markdown": [
       "114.999997144167"
      ],
      "text/plain": [
       "[1] 115"
      ]
     },
     "metadata": {},
     "output_type": "display_data"
    }
   ],
   "source": [
    "qnorm(0.1586553,m=100,s=15, lower.tail = FALSE)"
   ]
  },
  {
   "cell_type": "markdown",
   "metadata": {},
   "source": [
    "Here’s how *qnormGC()* (in the tigerstats package) handles it:"
   ]
  },
  {
   "cell_type": "code",
   "execution_count": 18,
   "metadata": {},
   "outputs": [
    {
     "data": {
      "text/html": [
       "85.0000028558334"
      ],
      "text/latex": [
       "85.0000028558334"
      ],
      "text/markdown": [
       "85.0000028558334"
      ],
      "text/plain": [
       "[1] 85"
      ]
     },
     "metadata": {},
     "output_type": "display_data"
    },
    {
     "data": {
      "image/png": "[encoded data removed]",
      "text/plain": [
       "Plot with title \"Normal Curve, mean = 100, SD = 15\n",
       " Percentile = 15.8655%\""
      ]
     },
     "metadata": {
      "image/png": {
       "height": 420,
       "width": 420
      },
      "text/plain": {
       "height": 420,
       "width": 420
      }
     },
     "output_type": "display_data"
    }
   ],
   "source": [
    "qnormGC(.1586553, region = \"below\",m=100,s=15, graph=TRUE)"
   ]
  },
  {
   "cell_type": "markdown",
   "metadata": {},
   "source": [
    "You’re typically not concerned with the 15.86553rd percentile. Usually, it’s quartiles that attract your attention:"
   ]
  },
  {
   "cell_type": "code",
   "execution_count": 19,
   "metadata": {},
   "outputs": [
    {
     "data": {
      "text/html": [
       "<style>\n",
       ".list-inline {list-style: none; margin:0; padding: 0}\n",
       ".list-inline>li {display: inline-block}\n",
       ".list-inline>li:not(:last-child)::after {content: \"\\00b7\"; padding: 0 .5ex}\n",
       "</style>\n",
       "<ol class=list-inline><li>-Inf</li><li>89.8826537470588</li><li>100</li><li>110.117346252941</li><li>Inf</li></ol>\n"
      ],
      "text/latex": [
       "\\begin{enumerate*}\n",
       "\\item -Inf\n",
       "\\item 89.8826537470588\n",
       "\\item 100\n",
       "\\item 110.117346252941\n",
       "\\item Inf\n",
       "\\end{enumerate*}\n"
      ],
      "text/markdown": [
       "1. -Inf\n",
       "2. 89.8826537470588\n",
       "3. 100\n",
       "4. 110.117346252941\n",
       "5. Inf\n",
       "\n",
       "\n"
      ],
      "text/plain": [
       "[1]      -Inf  89.88265 100.00000 110.11735       Inf"
      ]
     },
     "metadata": {},
     "output_type": "display_data"
    }
   ],
   "source": [
    " qnorm(c(0,.25,.50,.75,1.00),m=100,s=15)"
   ]
  },
  {
   "cell_type": "markdown",
   "metadata": {},
   "source": [
    "The 0th and 100th percentiles (— Infinity and Infinity) show that the cdf never completely touches the x-axis nor reaches an exact maximum. The middle quartiles are of greatest interest, and best if rounded:"
   ]
  },
  {
   "cell_type": "code",
   "execution_count": 20,
   "metadata": {},
   "outputs": [
    {
     "data": {
      "text/html": [
       "<style>\n",
       ".list-inline {list-style: none; margin:0; padding: 0}\n",
       ".list-inline>li {display: inline-block}\n",
       ".list-inline>li:not(:last-child)::after {content: \"\\00b7\"; padding: 0 .5ex}\n",
       "</style>\n",
       "<ol class=list-inline><li>90</li><li>100</li><li>110</li></ol>\n"
      ],
      "text/latex": [
       "\\begin{enumerate*}\n",
       "\\item 90\n",
       "\\item 100\n",
       "\\item 110\n",
       "\\end{enumerate*}\n"
      ],
      "text/markdown": [
       "1. 90\n",
       "2. 100\n",
       "3. 110\n",
       "\n",
       "\n"
      ],
      "text/plain": [
       "[1]  90 100 110"
      ]
     },
     "metadata": {},
     "output_type": "display_data"
    }
   ],
   "source": [
    "round(qnorm(c(.25,.50,.75),m=100,s=15))"
   ]
  },
  {
   "cell_type": "markdown",
   "metadata": {},
   "source": [
    "### Plotting the CDF with quartiles"
   ]
  },
  {
   "cell_type": "markdown",
   "metadata": {},
   "source": [
    "To replace the standard deviation values with the three quartile values, you begin by creating two new vectors:"
   ]
  },
  {
   "cell_type": "code",
   "execution_count": 21,
   "metadata": {},
   "outputs": [],
   "source": [
    "q.values <-round(qnorm(c(.25,.50,.75),m=100,s=15))\n",
    "\n",
    "zeros3 <- c(0,0,0)"
   ]
  },
  {
   "cell_type": "markdown",
   "metadata": {},
   "source": [
    "Now all you have to do is put those vectors in the appropriate places in *scale_x_continuous()* and in *geom_segment()*:"
   ]
  },
  {
   "cell_type": "code",
   "execution_count": 22,
   "metadata": {},
   "outputs": [
    {
     "data": {
      "image/png": "[encoded data removed]",
      "text/plain": [
       "plot without title"
      ]
     },
     "metadata": {
      "image/png": {
       "height": 420,
       "width": 420
      },
      "text/plain": {
       "height": 420,
       "width": 420
      }
     },
     "output_type": "display_data"
    }
   ],
   "source": [
    "ggplot(NULL,aes(x=x.values,y=pnorm(x.values,m=100,s=15))) +\n",
    "    geom_line() +\n",
    "    labs(x=\"IQ\",y=\"Fn(IQ)\")+\n",
    "    scale_x_continuous(breaks=q.values,labels = q.values) +\n",
    "    geom_segment((aes(x=q.values,y=zeros3,xend =\n",
    "    q.values,yend=pnorm(q.values,mean=100,sd=15))),\n",
    "    linetype = \"dashed\")+\n",
    "    scale_y_continuous(expand=c(0,0))"
   ]
  },
  {
   "cell_type": "markdown",
   "metadata": {},
   "source": [
    "### Random Sampling"
   ]
  },
  {
   "cell_type": "markdown",
   "metadata": {},
   "source": [
    "The *rnorm()* function generates random numbers from a normal distribution.\n",
    "\n",
    "Here are five random numbers from the IQ distribution:"
   ]
  },
  {
   "cell_type": "code",
   "execution_count": 23,
   "metadata": {},
   "outputs": [
    {
     "data": {
      "text/html": [
       "<style>\n",
       ".list-inline {list-style: none; margin:0; padding: 0}\n",
       ".list-inline>li {display: inline-block}\n",
       ".list-inline>li:not(:last-child)::after {content: \"\\00b7\"; padding: 0 .5ex}\n",
       "</style>\n",
       "<ol class=list-inline><li>107.949781194491</li><li>106.089809283071</li><li>114.736476065911</li><li>139.266385012521</li><li>120.626449902192</li></ol>\n"
      ],
      "text/latex": [
       "\\begin{enumerate*}\n",
       "\\item 107.949781194491\n",
       "\\item 106.089809283071\n",
       "\\item 114.736476065911\n",
       "\\item 139.266385012521\n",
       "\\item 120.626449902192\n",
       "\\end{enumerate*}\n"
      ],
      "text/markdown": [
       "1. 107.949781194491\n",
       "2. 106.089809283071\n",
       "3. 114.736476065911\n",
       "4. 139.266385012521\n",
       "5. 120.626449902192\n",
       "\n",
       "\n"
      ],
      "text/plain": [
       "[1] 107.9498 106.0898 114.7365 139.2664 120.6264"
      ]
     },
     "metadata": {},
     "output_type": "display_data"
    }
   ],
   "source": [
    "rnorm(5,m=100,s=15)"
   ]
  },
  {
   "cell_type": "code",
   "execution_count": 24,
   "metadata": {},
   "outputs": [
    {
     "data": {
      "text/html": [
       "<style>\n",
       ".list-inline {list-style: none; margin:0; padding: 0}\n",
       ".list-inline>li {display: inline-block}\n",
       ".list-inline>li:not(:last-child)::after {content: \"\\00b7\"; padding: 0 .5ex}\n",
       "</style>\n",
       "<ol class=list-inline><li>121.559180736381</li><li>98.8915810426267</li><li>82.2010944109296</li><li>103.224673358092</li><li>94.1173202194917</li></ol>\n"
      ],
      "text/latex": [
       "\\begin{enumerate*}\n",
       "\\item 121.559180736381\n",
       "\\item 98.8915810426267\n",
       "\\item 82.2010944109296\n",
       "\\item 103.224673358092\n",
       "\\item 94.1173202194917\n",
       "\\end{enumerate*}\n"
      ],
      "text/markdown": [
       "1. 121.559180736381\n",
       "2. 98.8915810426267\n",
       "3. 82.2010944109296\n",
       "4. 103.224673358092\n",
       "5. 94.1173202194917\n",
       "\n",
       "\n"
      ],
      "text/plain": [
       "[1] 121.55918  98.89158  82.20109 103.22467  94.11732"
      ]
     },
     "metadata": {},
     "output_type": "display_data"
    }
   ],
   "source": [
    "rnorm(5,m=100,s=15)"
   ]
  },
  {
   "cell_type": "markdown",
   "metadata": {},
   "source": [
    "Yes, the numbers are all different. (In fact, when you run rnorm(), I can almost guarantee your numbers will be different from mine.) Each time you run the function it generates a new set of random numbers. The randomization process starts with a number called a seed. If you want to reproduce randomization results, use the *set.seed()* function to set the seed to a particular number before randomizing:"
   ]
  },
  {
   "cell_type": "code",
   "execution_count": 25,
   "metadata": {},
   "outputs": [
    {
     "data": {
      "text/html": [
       "<style>\n",
       ".list-inline {list-style: none; margin:0; padding: 0}\n",
       ".list-inline>li {display: inline-block}\n",
       ".list-inline>li:not(:last-child)::after {content: \"\\00b7\"; padding: 0 .5ex}\n",
       "</style>\n",
       "<ol class=list-inline><li>71.9912021934337</li><li>98.6723129205641</li><li>92.6884830372767</li><li>103.422071823487</li><li>99.6190405949878</li></ol>\n"
      ],
      "text/latex": [
       "\\begin{enumerate*}\n",
       "\\item 71.9912021934337\n",
       "\\item 98.6723129205641\n",
       "\\item 92.6884830372767\n",
       "\\item 103.422071823487\n",
       "\\item 99.6190405949878\n",
       "\\end{enumerate*}\n"
      ],
      "text/markdown": [
       "1. 71.9912021934337\n",
       "2. 98.6723129205641\n",
       "3. 92.6884830372767\n",
       "4. 103.422071823487\n",
       "5. 99.6190405949878\n",
       "\n",
       "\n"
      ],
      "text/plain": [
       "[1]  71.99120  98.67231  92.68848 103.42207  99.61904"
      ]
     },
     "metadata": {},
     "output_type": "display_data"
    }
   ],
   "source": [
    "set.seed(7637060)\n",
    "\n",
    "rnorm(5,m=100,s=15)"
   ]
  },
  {
   "cell_type": "code",
   "execution_count": 26,
   "metadata": {},
   "outputs": [
    {
     "data": {
      "text/html": [
       "<style>\n",
       ".list-inline {list-style: none; margin:0; padding: 0}\n",
       ".list-inline>li {display: inline-block}\n",
       ".list-inline>li:not(:last-child)::after {content: \"\\00b7\"; padding: 0 .5ex}\n",
       "</style>\n",
       "<ol class=list-inline><li>113.733824012359</li><li>63.6041221103487</li><li>86.4718041916147</li><li>121.084739159831</li><li>108.01129450519</li></ol>\n"
      ],
      "text/latex": [
       "\\begin{enumerate*}\n",
       "\\item 113.733824012359\n",
       "\\item 63.6041221103487\n",
       "\\item 86.4718041916147\n",
       "\\item 121.084739159831\n",
       "\\item 108.01129450519\n",
       "\\end{enumerate*}\n"
      ],
      "text/markdown": [
       "1. 113.733824012359\n",
       "2. 63.6041221103487\n",
       "3. 86.4718041916147\n",
       "4. 121.084739159831\n",
       "5. 108.01129450519\n",
       "\n",
       "\n"
      ],
      "text/plain": [
       "[1] 113.73382  63.60412  86.47180 121.08474 108.01129"
      ]
     },
     "metadata": {},
     "output_type": "display_data"
    }
   ],
   "source": [
    "rnorm(5,m=100,s=15)"
   ]
  },
  {
   "cell_type": "markdown",
   "metadata": {},
   "source": [
    "If you set the seed to that same number the next time you randomize, you get the same results:"
   ]
  },
  {
   "cell_type": "code",
   "execution_count": 27,
   "metadata": {},
   "outputs": [
    {
     "data": {
      "text/html": [
       "<style>\n",
       ".list-inline {list-style: none; margin:0; padding: 0}\n",
       ".list-inline>li {display: inline-block}\n",
       ".list-inline>li:not(:last-child)::after {content: \"\\00b7\"; padding: 0 .5ex}\n",
       "</style>\n",
       "<ol class=list-inline><li>71.9912021934337</li><li>98.6723129205641</li><li>92.6884830372767</li><li>103.422071823487</li><li>99.6190405949878</li></ol>\n"
      ],
      "text/latex": [
       "\\begin{enumerate*}\n",
       "\\item 71.9912021934337\n",
       "\\item 98.6723129205641\n",
       "\\item 92.6884830372767\n",
       "\\item 103.422071823487\n",
       "\\item 99.6190405949878\n",
       "\\end{enumerate*}\n"
      ],
      "text/markdown": [
       "1. 71.9912021934337\n",
       "2. 98.6723129205641\n",
       "3. 92.6884830372767\n",
       "4. 103.422071823487\n",
       "5. 99.6190405949878\n",
       "\n",
       "\n"
      ],
      "text/plain": [
       "[1]  71.99120  98.67231  92.68848 103.42207  99.61904"
      ]
     },
     "metadata": {},
     "output_type": "display_data"
    }
   ],
   "source": [
    "set.seed(7637060)\n",
    "\n",
    "rnorm(5,m=100,s=15)"
   ]
  },
  {
   "cell_type": "markdown",
   "metadata": {},
   "source": [
    "### The Standard Normal Distribution in R"
   ]
  },
  {
   "cell_type": "markdown",
   "metadata": {},
   "source": [
    "Working with the standard normal distribution in R couldn’t be easier. The only change you make to the four norm functions is to not specify a mean and a standard deviation — the defaults are 0 and 1."
   ]
  },
  {
   "cell_type": "code",
   "execution_count": 28,
   "metadata": {},
   "outputs": [
    {
     "data": {
      "text/html": [
       "0.398942280401433"
      ],
      "text/latex": [
       "0.398942280401433"
      ],
      "text/markdown": [
       "0.398942280401433"
      ],
      "text/plain": [
       "[1] 0.3989423"
      ]
     },
     "metadata": {},
     "output_type": "display_data"
    }
   ],
   "source": [
    "dnorm(0)"
   ]
  },
  {
   "cell_type": "code",
   "execution_count": 29,
   "metadata": {},
   "outputs": [
    {
     "data": {
      "text/html": [
       "0.5"
      ],
      "text/latex": [
       "0.5"
      ],
      "text/markdown": [
       "0.5"
      ],
      "text/plain": [
       "[1] 0.5"
      ]
     },
     "metadata": {},
     "output_type": "display_data"
    }
   ],
   "source": [
    "pnorm(0)"
   ]
  },
  {
   "cell_type": "code",
   "execution_count": 30,
   "metadata": {},
   "outputs": [
    {
     "data": {
      "text/html": [
       "<style>\n",
       ".list-inline {list-style: none; margin:0; padding: 0}\n",
       ".list-inline>li {display: inline-block}\n",
       ".list-inline>li:not(:last-child)::after {content: \"\\00b7\"; padding: 0 .5ex}\n",
       "</style>\n",
       "<ol class=list-inline><li>-0.674489750196082</li><li>0</li><li>0.674489750196082</li></ol>\n"
      ],
      "text/latex": [
       "\\begin{enumerate*}\n",
       "\\item -0.674489750196082\n",
       "\\item 0\n",
       "\\item 0.674489750196082\n",
       "\\end{enumerate*}\n"
      ],
      "text/markdown": [
       "1. -0.674489750196082\n",
       "2. 0\n",
       "3. 0.674489750196082\n",
       "\n",
       "\n"
      ],
      "text/plain": [
       "[1] -0.6744898  0.0000000  0.6744898"
      ]
     },
     "metadata": {},
     "output_type": "display_data"
    }
   ],
   "source": [
    "qnorm(c(.25,.50,.75))"
   ]
  },
  {
   "cell_type": "code",
   "execution_count": 31,
   "metadata": {},
   "outputs": [
    {
     "data": {
      "text/html": [
       "<style>\n",
       ".list-inline {list-style: none; margin:0; padding: 0}\n",
       ".list-inline>li {display: inline-block}\n",
       ".list-inline>li:not(:last-child)::after {content: \"\\00b7\"; padding: 0 .5ex}\n",
       "</style>\n",
       "<ol class=list-inline><li>0.91558826749061</li><li>-2.42639185931009</li><li>-0.901879720559021</li><li>1.40564927732205</li><li>0.534086300345974</li></ol>\n"
      ],
      "text/latex": [
       "\\begin{enumerate*}\n",
       "\\item 0.91558826749061\n",
       "\\item -2.42639185931009\n",
       "\\item -0.901879720559021\n",
       "\\item 1.40564927732205\n",
       "\\item 0.534086300345974\n",
       "\\end{enumerate*}\n"
      ],
      "text/markdown": [
       "1. 0.91558826749061\n",
       "2. -2.42639185931009\n",
       "3. -0.901879720559021\n",
       "4. 1.40564927732205\n",
       "5. 0.534086300345974\n",
       "\n",
       "\n"
      ],
      "text/plain": [
       "[1]  0.9155883 -2.4263919 -0.9018797  1.4056493  0.5340863"
      ]
     },
     "metadata": {},
     "output_type": "display_data"
    }
   ],
   "source": [
    "rnorm(5)"
   ]
  },
  {
   "cell_type": "markdown",
   "metadata": {},
   "source": [
    "    This also applies to the *tigerstats* functions:"
   ]
  },
  {
   "cell_type": "code",
   "execution_count": 32,
   "metadata": {},
   "outputs": [
    {
     "data": {
      "text/html": [
       "0.341344746068543"
      ],
      "text/latex": [
       "0.341344746068543"
      ],
      "text/markdown": [
       "0.341344746068543"
      ],
      "text/plain": [
       "[1] 0.3413447"
      ]
     },
     "metadata": {},
     "output_type": "display_data"
    }
   ],
   "source": [
    "pnormGC(c(-1,0),region=\"between\")"
   ]
  },
  {
   "cell_type": "code",
   "execution_count": 33,
   "metadata": {},
   "outputs": [
    {
     "data": {
      "text/html": [
       "0"
      ],
      "text/latex": [
       "0"
      ],
      "text/markdown": [
       "0"
      ],
      "text/plain": [
       "[1] 0"
      ]
     },
     "metadata": {},
     "output_type": "display_data"
    }
   ],
   "source": [
    "qnormGC(.50, region = \"below\")"
   ]
  },
  {
   "cell_type": "markdown",
   "metadata": {},
   "source": [
    "### Plotting the Standard Normal Distribution"
   ]
  },
  {
   "cell_type": "code",
   "execution_count": 34,
   "metadata": {},
   "outputs": [],
   "source": [
    "z.values <-seq(-4,4,.01)\n",
    "\n",
    "z.sd.values <- seq(-4,4,1)"
   ]
  },
  {
   "cell_type": "code",
   "execution_count": 35,
   "metadata": {},
   "outputs": [
    {
     "data": {
      "image/png": "[encoded data removed]",
      "text/plain": [
       "plot without title"
      ]
     },
     "metadata": {
      "image/png": {
       "height": 420,
       "width": 420
      },
      "text/plain": {
       "height": 420,
       "width": 420
      }
     },
     "output_type": "display_data"
    }
   ],
   "source": [
    "ggplot(NULL,aes(x=z.values,y=dnorm(z.values))) +\n",
    "    geom_line() +\n",
    "    labs(x=\"z\",y=\"f(z)\")+\n",
    "    scale_x_continuous(breaks=z.sd.values,labels=z.sd.values) +\n",
    "    geom_segment((aes(x=z.sd.values,y=zeros9,xend=z.sd.values,yend=dnorm(z.sd.values))),linetype =\"dashed\")+\n",
    "    scale_y_continuous(expand=c(0,0))"
   ]
  },
  {
   "cell_type": "markdown",
   "metadata": {},
   "source": [
    "## The Central Limit Theorem"
   ]
  },
  {
   "cell_type": "markdown",
   "metadata": {},
   "source": [
    "In the simulation, you randomly select a score from the population and then randomly select two more. That group of three scores is a sample. Then you calculate the mean of that sample. You repeat this process for a total of 600 samples, resulting in 600 sample means. Finally, you graph the distribution of the sample means.\n",
    "\n",
    "What does the simulated sampling distribution of the mean look like? I walk you through it in R. You begin by creating a vector for the possible scores, and another for the probability of sampling each score:"
   ]
  },
  {
   "cell_type": "code",
   "execution_count": 36,
   "metadata": {},
   "outputs": [],
   "source": [
    "values <- c(1,2,3)\n",
    "\n",
    "probabilities <- c(1/3,1/3,1/3)"
   ]
  },
  {
   "cell_type": "code",
   "execution_count": 37,
   "metadata": {},
   "outputs": [],
   "source": [
    "# One more vector will hold the 600 sample means:\n",
    "smpl.means <- NULL"
   ]
  },
  {
   "cell_type": "markdown",
   "metadata": {},
   "source": [
    "To draw a sample, you use the sample() function:"
   ]
  },
  {
   "cell_type": "code",
   "execution_count": 38,
   "metadata": {},
   "outputs": [],
   "source": [
    "smpl <-sample(x=values,prob = probabilities, size=3,replace=TRUE)"
   ]
  },
  {
   "cell_type": "markdown",
   "metadata": {},
   "source": [
    "The first two arguments, of course, provide the scores to sample and the probability of each score. The third is the sample size. The fourth indicates that after you select a score for the sample, you replace it. (You put it back in the population, in\n",
    "other words.) This procedure (unsurprisingly called “sampling with replacement”) simulates a huge population from which you can select any score at any time.\n",
    "\n",
    "Each time you draw a sample, you take its mean and append it (add it to the end of) the smpl.means vector:"
   ]
  },
  {
   "cell_type": "code",
   "execution_count": 39,
   "metadata": {},
   "outputs": [],
   "source": [
    "smpl.means <- append(smpl.means, mean(smpl))"
   ]
  },
  {
   "cell_type": "markdown",
   "metadata": {},
   "source": [
    "I don’t want you to have to manually repeat this whole process 600 times. Fortunately, like all computer languages, R has a way of handling this: Its for-loop does all the work. To do the sampling, the calculation, and the appending 600 times, the for-loop looks like this:"
   ]
  },
  {
   "cell_type": "code",
   "execution_count": 40,
   "metadata": {},
   "outputs": [],
   "source": [
    "for(i in 1:600){\n",
    "    smpl <-sample(x = values,prob = probabilities,\n",
    "    size = 3,replace=TRUE)\n",
    "    smpl.means <- append(smpl.means, mean(smpl))\n",
    "    }"
   ]
  },
  {
   "cell_type": "markdown",
   "metadata": {},
   "source": [
    "As you can see, the curly brackets enclose what happens in each iteration of the loop, and i is a counter for how many times the loop occurs. If you’d like to run this, here’s all the code preceding the for-loop, including the seed so that you can replicate my results:"
   ]
  },
  {
   "cell_type": "code",
   "execution_count": 41,
   "metadata": {},
   "outputs": [],
   "source": [
    "values <- c(1,2,3)\n",
    "probabilities <- c(1/3,1/3,1/3)\n",
    "smpl.means <- NULL\n",
    "set.seed(7637060)"
   ]
  },
  {
   "cell_type": "code",
   "execution_count": 42,
   "metadata": {},
   "outputs": [],
   "source": [
    "for(i in 1:600){\n",
    "    smpl <-sample(x = values,prob = probabilities,\n",
    "    size = 3,replace=TRUE)\n",
    "    smpl.means <- append(smpl.means, mean(smpl))\n",
    "    }"
   ]
  },
  {
   "cell_type": "code",
   "execution_count": 43,
   "metadata": {},
   "outputs": [
    {
     "name": "stderr",
     "output_type": "stream",
     "text": [
      "`stat_bin()` using `bins = 30`. Pick better value with `binwidth`.\n",
      "\n"
     ]
    },
    {
     "data": {
      "image/png": "[encoded data removed]",
      "text/plain": [
       "plot without title"
      ]
     },
     "metadata": {
      "image/png": {
       "height": 420,
       "width": 420
      },
      "text/plain": {
       "height": 420,
       "width": 420
      }
     },
     "output_type": "display_data"
    }
   ],
   "source": [
    "ggplot(NULL,aes(x=smpl.means)) +\n",
    "    geom_histogram()"
   ]
  },
  {
   "cell_type": "markdown",
   "metadata": {},
   "source": [
    "Suppose you want the labeled points on the x-axis to reflect the values of the mean in the smpl.means vector. You can’t just specify the vector values for the x-axis, because the vector has 600 of them. Instead, you list the unique values:"
   ]
  },
  {
   "cell_type": "code",
   "execution_count": 44,
   "metadata": {},
   "outputs": [
    {
     "data": {
      "text/html": [
       "<style>\n",
       ".list-inline {list-style: none; margin:0; padding: 0}\n",
       ".list-inline>li {display: inline-block}\n",
       ".list-inline>li:not(:last-child)::after {content: \"\\00b7\"; padding: 0 .5ex}\n",
       "</style>\n",
       "<ol class=list-inline><li>2.33333333333333</li><li>1.66666666666667</li><li>1.33333333333333</li><li>2</li><li>2.66666666666667</li><li>3</li><li>1</li></ol>\n"
      ],
      "text/latex": [
       "\\begin{enumerate*}\n",
       "\\item 2.33333333333333\n",
       "\\item 1.66666666666667\n",
       "\\item 1.33333333333333\n",
       "\\item 2\n",
       "\\item 2.66666666666667\n",
       "\\item 3\n",
       "\\item 1\n",
       "\\end{enumerate*}\n"
      ],
      "text/markdown": [
       "1. 2.33333333333333\n",
       "2. 1.66666666666667\n",
       "3. 1.33333333333333\n",
       "4. 2\n",
       "5. 2.66666666666667\n",
       "6. 3\n",
       "7. 1\n",
       "\n",
       "\n"
      ],
      "text/plain": [
       "[1] 2.333333 1.666667 1.333333 2.000000 2.666667 3.000000 1.000000"
      ]
     },
     "metadata": {},
     "output_type": "display_data"
    }
   ],
   "source": [
    "unique(smpl.means)"
   ]
  },
  {
   "cell_type": "markdown",
   "metadata": {},
   "source": [
    "They look better if you round them to two decimal places:"
   ]
  },
  {
   "cell_type": "code",
   "execution_count": 45,
   "metadata": {},
   "outputs": [
    {
     "data": {
      "text/html": [
       "<style>\n",
       ".list-inline {list-style: none; margin:0; padding: 0}\n",
       ".list-inline>li {display: inline-block}\n",
       ".list-inline>li:not(:last-child)::after {content: \"\\00b7\"; padding: 0 .5ex}\n",
       "</style>\n",
       "<ol class=list-inline><li>2.33</li><li>1.67</li><li>1.33</li><li>2</li><li>2.67</li><li>3</li><li>1</li></ol>\n"
      ],
      "text/latex": [
       "\\begin{enumerate*}\n",
       "\\item 2.33\n",
       "\\item 1.67\n",
       "\\item 1.33\n",
       "\\item 2\n",
       "\\item 2.67\n",
       "\\item 3\n",
       "\\item 1\n",
       "\\end{enumerate*}\n"
      ],
      "text/markdown": [
       "1. 2.33\n",
       "2. 1.67\n",
       "3. 1.33\n",
       "4. 2\n",
       "5. 2.67\n",
       "6. 3\n",
       "7. 1\n",
       "\n",
       "\n"
      ],
      "text/plain": [
       "[1] 2.33 1.67 1.33 2.00 2.67 3.00 1.00"
      ]
     },
     "metadata": {},
     "output_type": "display_data"
    }
   ],
   "source": [
    "round(unique(smpl.means),2)"
   ]
  },
  {
   "cell_type": "markdown",
   "metadata": {},
   "source": [
    "Finally, you store these values in a vector called m.values, which you’ll use to rescale the x-axis:"
   ]
  },
  {
   "cell_type": "code",
   "execution_count": 46,
   "metadata": {},
   "outputs": [
    {
     "data": {
      "text/plain": [
       "<ScaleContinuousPosition>\n",
       " Range:  \n",
       " Limits:    0 --    1"
      ]
     },
     "metadata": {},
     "output_type": "display_data"
    },
    {
     "data": {
      "text/plain": [
       "<ScaleContinuousPosition>\n",
       " Range:  \n",
       " Limits:    0 --    1"
      ]
     },
     "metadata": {},
     "output_type": "display_data"
    }
   ],
   "source": [
    "# Store these values in a vector called m.values\n",
    "m.values <-round(unique(smpl.means),2)\n",
    "\n",
    "# Rescale the x-axis\n",
    "scale_x_continuous(breaks=m.values,label=m.values)\n",
    "\n",
    "# Eliminates the space between the x-axis values and the x-axis\n",
    "scale_y_continuous(expand = c(0,0))"
   ]
  },
  {
   "cell_type": "code",
   "execution_count": 47,
   "metadata": {},
   "outputs": [
    {
     "data": {
      "text/plain": [
       "$x\n",
       "expression(bar(X))\n",
       "\n",
       "$y\n",
       "expression(frequency(bar(X)))\n",
       "\n",
       "attr(,\"class\")\n",
       "[1] \"labels\""
      ]
     },
     "metadata": {},
     "output_type": "display_data"
    }
   ],
   "source": [
    "# R’s expression syntax to display X as the x-axis label and frequency X as the y-axis label\n",
    "labs(x=expression(bar(X)),y=expression(frequency(bar(X))))"
   ]
  },
  {
   "cell_type": "code",
   "execution_count": 48,
   "metadata": {},
   "outputs": [
    {
     "name": "stderr",
     "output_type": "stream",
     "text": [
      "`stat_bin()` using `bins = 30`. Pick better value with `binwidth`.\n",
      "\n"
     ]
    },
    {
     "data": {
      "image/png": "[encoded data removed]",
      "text/plain": [
       "plot without title"
      ]
     },
     "metadata": {
      "image/png": {
       "height": 420,
       "width": 420
      },
      "text/plain": {
       "height": 420,
       "width": 420
      }
     },
     "output_type": "display_data"
    }
   ],
   "source": [
    "ggplot(NULL,aes(x=smpl.means)) +\n",
    "    geom_histogram()+\n",
    "    scale_x_continuous(breaks=m.values,label=m.values)+\n",
    "    scale_y_continuous(expand = c(0,0)) +\n",
    "    labs(x=expression(bar(X)),y=expression(frequency(bar(X))))"
   ]
  },
  {
   "cell_type": "markdown",
   "metadata": {},
   "source": [
    "### Predictions of the Central Limit Theorem"
   ]
  },
  {
   "cell_type": "markdown",
   "metadata": {},
   "source": [
    "How do the characteristics of the sampling distribution match up with what the\n",
    "central limit theorem predicts?\n",
    "To derive the predictions, you have to start with the population. Think of each\n",
    "population value (1, 2, or 3) as an X, and think of each probability as pr(X). Mathematicians would refer to X as a discrete random variable.\n",
    "The mean of a discrete random variable is called its expected value. The notation for\n",
    "the expected value of X is E(X).\n",
    "To find E(X), you multiply each X by its probability and then add all those products\n",
    "together. For this example, that’s\n",
    "\n",
    "$$\n",
    "E(X) = \\sum X (pr(x)) = 1*\\frac{1}{3} + 2*\\frac{1}{3}  +3*\\frac{1}{3} = 2\n",
    "$$\n",
    "\n",
    "Or, if you prefer R:"
   ]
  },
  {
   "cell_type": "code",
   "execution_count": 49,
   "metadata": {},
   "outputs": [
    {
     "data": {
      "text/html": [
       "2"
      ],
      "text/latex": [
       "2"
      ],
      "text/markdown": [
       "2"
      ],
      "text/plain": [
       "[1] 2"
      ]
     },
     "metadata": {},
     "output_type": "display_data"
    }
   ],
   "source": [
    "E.values<-sum(values*probabilities)\n",
    "E.values"
   ]
  },
  {
   "cell_type": "markdown",
   "metadata": {},
   "source": [
    "To find the variance of X, subtract E(X) from each X, square each deviation, multiply each squared deviation by the probability of X, and add the products. For this\n",
    "example:\n",
    "$$\n",
    "E(X) = \\sum (X - E(x))^{2} pr(x) = (1-2)^{2} *\\frac{1}{3} + (2-2)^{2} *\\frac{1}{3}  +(3-2)^{2} *\\frac{1}{3} = 0.6667\n",
    "$$\n",
    "In R:"
   ]
  },
  {
   "cell_type": "code",
   "execution_count": 50,
   "metadata": {},
   "outputs": [
    {
     "data": {
      "text/html": [
       "0.666666666666667"
      ],
      "text/latex": [
       "0.666666666666667"
      ],
      "text/markdown": [
       "0.666666666666667"
      ],
      "text/plain": [
       "[1] 0.6666667"
      ]
     },
     "metadata": {},
     "output_type": "display_data"
    }
   ],
   "source": [
    "var.values <- sum((values-E.values)^2*probabilities)\n",
    "var.values"
   ]
  },
  {
   "cell_type": "markdown",
   "metadata": {},
   "source": [
    "### Finding confidence limits for a mean"
   ]
  },
  {
   "cell_type": "markdown",
   "metadata": {},
   "source": [
    "First, the setup:"
   ]
  },
  {
   "cell_type": "code",
   "execution_count": 51,
   "metadata": {},
   "outputs": [],
   "source": [
    "mean.battery <- 60\n",
    "sd.battery <- 20\n",
    "N <- 100\n",
    "error <- qnorm(.025,lower.tail=FALSE)*sd.battery/sqrt(N)"
   ]
  },
  {
   "cell_type": "code",
   "execution_count": 52,
   "metadata": {},
   "outputs": [
    {
     "data": {
      "text/html": [
       "56.0800720309199"
      ],
      "text/latex": [
       "56.0800720309199"
      ],
      "text/markdown": [
       "56.0800720309199"
      ],
      "text/plain": [
       "[1] 56.08007"
      ]
     },
     "metadata": {},
     "output_type": "display_data"
    },
    {
     "data": {
      "text/html": [
       "63.9199279690801"
      ],
      "text/latex": [
       "63.9199279690801"
      ],
      "text/markdown": [
       "63.9199279690801"
      ],
      "text/plain": [
       "[1] 63.91993"
      ]
     },
     "metadata": {},
     "output_type": "display_data"
    }
   ],
   "source": [
    "lower <- mean.battery - error\n",
    "upper <- mean.battery + error\n",
    "\n",
    "lower\n",
    "upper"
   ]
  },
  {
   "cell_type": "markdown",
   "metadata": {},
   "source": [
    "### The Data\n",
    "This week we’ll be working with measurements of body dimensions. This data set contains measurements from 247 men and 260 women, most of whom were considered healthy young adults."
   ]
  },
  {
   "cell_type": "code",
   "execution_count": 53,
   "metadata": {},
   "outputs": [],
   "source": [
    "download.file(\"http://www.openintro.org/stat/data/bdims.RData\", destfile = \"data/bdims.RData\")\n",
    "load(\"data/bdims.RData\")"
   ]
  },
  {
   "cell_type": "markdown",
   "metadata": {},
   "source": [
    "Let’s take a quick peek at the first few rows of the data."
   ]
  },
  {
   "cell_type": "code",
   "execution_count": 54,
   "metadata": {},
   "outputs": [
    {
     "data": {
      "text/html": [
       "<table>\n",
       "<caption>A data.frame: 6 × 25</caption>\n",
       "<thead>\n",
       "\t<tr><th></th><th scope=col>bia.di</th><th scope=col>bii.di</th><th scope=col>bit.di</th><th scope=col>che.de</th><th scope=col>che.di</th><th scope=col>elb.di</th><th scope=col>wri.di</th><th scope=col>kne.di</th><th scope=col>ank.di</th><th scope=col>sho.gi</th><th scope=col>⋯</th><th scope=col>bic.gi</th><th scope=col>for.gi</th><th scope=col>kne.gi</th><th scope=col>cal.gi</th><th scope=col>ank.gi</th><th scope=col>wri.gi</th><th scope=col>age</th><th scope=col>wgt</th><th scope=col>hgt</th><th scope=col>sex</th></tr>\n",
       "\t<tr><th></th><th scope=col>&lt;dbl&gt;</th><th scope=col>&lt;dbl&gt;</th><th scope=col>&lt;dbl&gt;</th><th scope=col>&lt;dbl&gt;</th><th scope=col>&lt;dbl&gt;</th><th scope=col>&lt;dbl&gt;</th><th scope=col>&lt;dbl&gt;</th><th scope=col>&lt;dbl&gt;</th><th scope=col>&lt;dbl&gt;</th><th scope=col>&lt;dbl&gt;</th><th scope=col>⋯</th><th scope=col>&lt;dbl&gt;</th><th scope=col>&lt;dbl&gt;</th><th scope=col>&lt;dbl&gt;</th><th scope=col>&lt;dbl&gt;</th><th scope=col>&lt;dbl&gt;</th><th scope=col>&lt;dbl&gt;</th><th scope=col>&lt;int&gt;</th><th scope=col>&lt;dbl&gt;</th><th scope=col>&lt;dbl&gt;</th><th scope=col>&lt;fct&gt;</th></tr>\n",
       "</thead>\n",
       "<tbody>\n",
       "\t<tr><th scope=row>1</th><td>42.9</td><td>26.0</td><td>31.5</td><td>17.7</td><td>28.0</td><td>13.1</td><td>10.4</td><td>18.8</td><td>14.1</td><td>106.2</td><td>⋯</td><td>32.5</td><td>26.0</td><td>34.5</td><td>36.5</td><td>23.5</td><td>16.5</td><td>21</td><td>65.6</td><td>174.0</td><td>1</td></tr>\n",
       "\t<tr><th scope=row>2</th><td>43.7</td><td>28.5</td><td>33.5</td><td>16.9</td><td>30.8</td><td>14.0</td><td>11.8</td><td>20.6</td><td>15.1</td><td>110.5</td><td>⋯</td><td>34.4</td><td>28.0</td><td>36.5</td><td>37.5</td><td>24.5</td><td>17.0</td><td>23</td><td>71.8</td><td>175.3</td><td>1</td></tr>\n",
       "\t<tr><th scope=row>3</th><td>40.1</td><td>28.2</td><td>33.3</td><td>20.9</td><td>31.7</td><td>13.9</td><td>10.9</td><td>19.7</td><td>14.1</td><td>115.1</td><td>⋯</td><td>33.4</td><td>28.8</td><td>37.0</td><td>37.3</td><td>21.9</td><td>16.9</td><td>28</td><td>80.7</td><td>193.5</td><td>1</td></tr>\n",
       "\t<tr><th scope=row>4</th><td>44.3</td><td>29.9</td><td>34.0</td><td>18.4</td><td>28.2</td><td>13.9</td><td>11.2</td><td>20.9</td><td>15.0</td><td>104.5</td><td>⋯</td><td>31.0</td><td>26.2</td><td>37.0</td><td>34.8</td><td>23.0</td><td>16.6</td><td>23</td><td>72.6</td><td>186.5</td><td>1</td></tr>\n",
       "\t<tr><th scope=row>5</th><td>42.5</td><td>29.9</td><td>34.0</td><td>21.5</td><td>29.4</td><td>15.2</td><td>11.6</td><td>20.7</td><td>14.9</td><td>107.5</td><td>⋯</td><td>32.0</td><td>28.4</td><td>37.7</td><td>38.6</td><td>24.4</td><td>18.0</td><td>22</td><td>78.8</td><td>187.2</td><td>1</td></tr>\n",
       "\t<tr><th scope=row>6</th><td>43.3</td><td>27.0</td><td>31.5</td><td>19.6</td><td>31.3</td><td>14.0</td><td>11.5</td><td>18.8</td><td>13.9</td><td>119.8</td><td>⋯</td><td>33.0</td><td>28.0</td><td>36.6</td><td>36.1</td><td>23.5</td><td>16.9</td><td>21</td><td>74.8</td><td>181.5</td><td>1</td></tr>\n",
       "</tbody>\n",
       "</table>\n"
      ],
      "text/latex": [
       "A data.frame: 6 × 25\n",
       "\\begin{tabular}{r|lllllllllllllllllllll}\n",
       "  & bia.di & bii.di & bit.di & che.de & che.di & elb.di & wri.di & kne.di & ank.di & sho.gi & ⋯ & bic.gi & for.gi & kne.gi & cal.gi & ank.gi & wri.gi & age & wgt & hgt & sex\\\\\n",
       "  & <dbl> & <dbl> & <dbl> & <dbl> & <dbl> & <dbl> & <dbl> & <dbl> & <dbl> & <dbl> & ⋯ & <dbl> & <dbl> & <dbl> & <dbl> & <dbl> & <dbl> & <int> & <dbl> & <dbl> & <fct>\\\\\n",
       "\\hline\n",
       "\t1 & 42.9 & 26.0 & 31.5 & 17.7 & 28.0 & 13.1 & 10.4 & 18.8 & 14.1 & 106.2 & ⋯ & 32.5 & 26.0 & 34.5 & 36.5 & 23.5 & 16.5 & 21 & 65.6 & 174.0 & 1\\\\\n",
       "\t2 & 43.7 & 28.5 & 33.5 & 16.9 & 30.8 & 14.0 & 11.8 & 20.6 & 15.1 & 110.5 & ⋯ & 34.4 & 28.0 & 36.5 & 37.5 & 24.5 & 17.0 & 23 & 71.8 & 175.3 & 1\\\\\n",
       "\t3 & 40.1 & 28.2 & 33.3 & 20.9 & 31.7 & 13.9 & 10.9 & 19.7 & 14.1 & 115.1 & ⋯ & 33.4 & 28.8 & 37.0 & 37.3 & 21.9 & 16.9 & 28 & 80.7 & 193.5 & 1\\\\\n",
       "\t4 & 44.3 & 29.9 & 34.0 & 18.4 & 28.2 & 13.9 & 11.2 & 20.9 & 15.0 & 104.5 & ⋯ & 31.0 & 26.2 & 37.0 & 34.8 & 23.0 & 16.6 & 23 & 72.6 & 186.5 & 1\\\\\n",
       "\t5 & 42.5 & 29.9 & 34.0 & 21.5 & 29.4 & 15.2 & 11.6 & 20.7 & 14.9 & 107.5 & ⋯ & 32.0 & 28.4 & 37.7 & 38.6 & 24.4 & 18.0 & 22 & 78.8 & 187.2 & 1\\\\\n",
       "\t6 & 43.3 & 27.0 & 31.5 & 19.6 & 31.3 & 14.0 & 11.5 & 18.8 & 13.9 & 119.8 & ⋯ & 33.0 & 28.0 & 36.6 & 36.1 & 23.5 & 16.9 & 21 & 74.8 & 181.5 & 1\\\\\n",
       "\\end{tabular}\n"
      ],
      "text/markdown": [
       "\n",
       "A data.frame: 6 × 25\n",
       "\n",
       "| <!--/--> | bia.di &lt;dbl&gt; | bii.di &lt;dbl&gt; | bit.di &lt;dbl&gt; | che.de &lt;dbl&gt; | che.di &lt;dbl&gt; | elb.di &lt;dbl&gt; | wri.di &lt;dbl&gt; | kne.di &lt;dbl&gt; | ank.di &lt;dbl&gt; | sho.gi &lt;dbl&gt; | ⋯ ⋯ | bic.gi &lt;dbl&gt; | for.gi &lt;dbl&gt; | kne.gi &lt;dbl&gt; | cal.gi &lt;dbl&gt; | ank.gi &lt;dbl&gt; | wri.gi &lt;dbl&gt; | age &lt;int&gt; | wgt &lt;dbl&gt; | hgt &lt;dbl&gt; | sex &lt;fct&gt; |\n",
       "|---|---|---|---|---|---|---|---|---|---|---|---|---|---|---|---|---|---|---|---|---|---|\n",
       "| 1 | 42.9 | 26.0 | 31.5 | 17.7 | 28.0 | 13.1 | 10.4 | 18.8 | 14.1 | 106.2 | ⋯ | 32.5 | 26.0 | 34.5 | 36.5 | 23.5 | 16.5 | 21 | 65.6 | 174.0 | 1 |\n",
       "| 2 | 43.7 | 28.5 | 33.5 | 16.9 | 30.8 | 14.0 | 11.8 | 20.6 | 15.1 | 110.5 | ⋯ | 34.4 | 28.0 | 36.5 | 37.5 | 24.5 | 17.0 | 23 | 71.8 | 175.3 | 1 |\n",
       "| 3 | 40.1 | 28.2 | 33.3 | 20.9 | 31.7 | 13.9 | 10.9 | 19.7 | 14.1 | 115.1 | ⋯ | 33.4 | 28.8 | 37.0 | 37.3 | 21.9 | 16.9 | 28 | 80.7 | 193.5 | 1 |\n",
       "| 4 | 44.3 | 29.9 | 34.0 | 18.4 | 28.2 | 13.9 | 11.2 | 20.9 | 15.0 | 104.5 | ⋯ | 31.0 | 26.2 | 37.0 | 34.8 | 23.0 | 16.6 | 23 | 72.6 | 186.5 | 1 |\n",
       "| 5 | 42.5 | 29.9 | 34.0 | 21.5 | 29.4 | 15.2 | 11.6 | 20.7 | 14.9 | 107.5 | ⋯ | 32.0 | 28.4 | 37.7 | 38.6 | 24.4 | 18.0 | 22 | 78.8 | 187.2 | 1 |\n",
       "| 6 | 43.3 | 27.0 | 31.5 | 19.6 | 31.3 | 14.0 | 11.5 | 18.8 | 13.9 | 119.8 | ⋯ | 33.0 | 28.0 | 36.6 | 36.1 | 23.5 | 16.9 | 21 | 74.8 | 181.5 | 1 |\n",
       "\n"
      ],
      "text/plain": [
       "  bia.di bii.di bit.di che.de che.di elb.di wri.di kne.di ank.di sho.gi\n",
       "1 42.9   26.0   31.5   17.7   28.0   13.1   10.4   18.8   14.1   106.2 \n",
       "2 43.7   28.5   33.5   16.9   30.8   14.0   11.8   20.6   15.1   110.5 \n",
       "3 40.1   28.2   33.3   20.9   31.7   13.9   10.9   19.7   14.1   115.1 \n",
       "4 44.3   29.9   34.0   18.4   28.2   13.9   11.2   20.9   15.0   104.5 \n",
       "5 42.5   29.9   34.0   21.5   29.4   15.2   11.6   20.7   14.9   107.5 \n",
       "6 43.3   27.0   31.5   19.6   31.3   14.0   11.5   18.8   13.9   119.8 \n",
       "  <U+22EF>        bic.gi for.gi kne.gi cal.gi ank.gi wri.gi age wgt  hgt   sex\n",
       "1 <U+22EF> 32.5   26.0   34.5   36.5   23.5   16.5   21  65.6 174.0 1  \n",
       "2 <U+22EF> 34.4   28.0   36.5   37.5   24.5   17.0   23  71.8 175.3 1  \n",
       "3 <U+22EF> 33.4   28.8   37.0   37.3   21.9   16.9   28  80.7 193.5 1  \n",
       "4 <U+22EF> 31.0   26.2   37.0   34.8   23.0   16.6   23  72.6 186.5 1  \n",
       "5 <U+22EF> 32.0   28.4   37.7   38.6   24.4   18.0   22  78.8 187.2 1  \n",
       "6 <U+22EF> 33.0   28.0   36.6   36.1   23.5   16.9   21  74.8 181.5 1  "
      ]
     },
     "metadata": {},
     "output_type": "display_data"
    }
   ],
   "source": [
    "head(bdims)"
   ]
  },
  {
   "cell_type": "markdown",
   "metadata": {},
   "source": [
    "You’ll see that for every observation we have 25 measurements, but we’ll be focusing on just three columns to get started: weight in kg (wgt), height in cm (hgt), and sex (1 indicates male, 0 indicates female).\n",
    "\n",
    "Since males and females tend to have different body dimensions, it will be useful to create two additional data sets: one with only men and another with only women."
   ]
  },
  {
   "cell_type": "code",
   "execution_count": 55,
   "metadata": {},
   "outputs": [],
   "source": [
    "mdims <- subset(bdims, sex == 1)\n",
    "fdims <- subset(bdims, sex == 0)"
   ]
  },
  {
   "cell_type": "markdown",
   "metadata": {},
   "source": [
    "**Make a histogram of men’s heights and a histogram of women’s heights. How would you compare the various aspects of the two distributions?**"
   ]
  },
  {
   "cell_type": "markdown",
   "metadata": {},
   "source": [
    "In your description of the distributions, did you use words like bell-shaped or normal? It’s tempting to say so when faced with a unimodal symmetric distribution.\n",
    "\n",
    "To see how accurate that description is, we can plot a normal distribution curve on top of a histogram to see how closely the data follow a normal distribution. This normal curve should have the same mean and standard deviation as the data. We’ll be working with women’s heights, so let’s store them as a separate object and then calculate some statistics that will be referenced later."
   ]
  },
  {
   "cell_type": "code",
   "execution_count": 56,
   "metadata": {},
   "outputs": [],
   "source": [
    "fhgtmean <- mean(fdims$hgt)\n",
    "fhgtsd   <- sd(fdims$hgt)"
   ]
  },
  {
   "cell_type": "markdown",
   "metadata": {},
   "source": [
    "Next we make a density histogram to use as the backdrop and use the lines function to overlay a normal probability curve. The difference between a frequency histogram and a density histogram is that while in a frequency histogram the heights of the bars add up to the total number of observations, in a density histogram the areas of the bars add up to 1. The area of each bar can be calculated as simply the height times the width of the bar. Using a density histogram allows us to properly overlay a normal distribution curve over the histogram since the curve is a normal probability density function. Frequency and density histograms both display the same exact shape; they only differ in their y-axis. You can verify this by comparing the frequency histogram you constructed earlier and the density histogram created by the commands below."
   ]
  },
  {
   "cell_type": "code",
   "execution_count": 57,
   "metadata": {},
   "outputs": [
    {
     "data": {
      "image/png": "[encoded data removed]",
      "text/plain": [
       "Plot with title \"Histogram of fdims$hgt\""
      ]
     },
     "metadata": {
      "image/png": {
       "height": 420,
       "width": 420
      },
      "text/plain": {
       "height": 420,
       "width": 420
      }
     },
     "output_type": "display_data"
    }
   ],
   "source": [
    "hist(fdims$hgt, probability = TRUE)\n",
    "x <- 140:190\n",
    "y <- dnorm(x = x, mean = fhgtmean, sd = fhgtsd)\n",
    "lines(x = x, y = y, col = \"blue\")"
   ]
  },
  {
   "cell_type": "markdown",
   "metadata": {},
   "source": [
    "After plotting the density histogram with the first command, we create the x- and y-coordinates for the normal curve. We chose the x range as 140 to 190 in order to span the entire range of fheight. To create y, we use dnorm to calculate the density of each of those x-values in a distribution that is normal with mean fhgtmean and standard deviation fhgtsd. The final command draws a curve on the existing plot (the density histogram) by connecting each of the points specified by x and y. The argument col simply sets the color for the line to be drawn. If we left it out, the line would be drawn in black.\n",
    "\n",
    "The top of the curve is cut off because the limits of the x- and y-axes are set to best fit the histogram. To adjust the y-axis you can add a third argument to the histogram function: ylim = c(0, 0.06)."
   ]
  },
  {
   "cell_type": "markdown",
   "metadata": {},
   "source": [
    "**Based on the this plot, does it appear that the data follow a nearly normal distribution?**"
   ]
  },
  {
   "cell_type": "markdown",
   "metadata": {},
   "source": [
    "### Evaluating the normal distribution\n",
    "Eyeballing the shape of the histogram is one way to determine if the data appear to be nearly normally distributed, but it can be frustrating to decide just how close the histogram is to the curve. An alternative approach involves constructing a normal probability plot, also called a normal Q-Q plot for “quantile-quantile”."
   ]
  },
  {
   "cell_type": "code",
   "execution_count": 58,
   "metadata": {},
   "outputs": [
    {
     "data": {
      "image/png": "[encoded data removed]",
      "text/plain": [
       "Plot with title \"Normal Q-Q Plot\""
      ]
     },
     "metadata": {
      "image/png": {
       "height": 420,
       "width": 420
      },
      "text/plain": {
       "height": 420,
       "width": 420
      }
     },
     "output_type": "display_data"
    }
   ],
   "source": [
    "qqnorm(fdims$hgt)\n",
    "qqline(fdims$hgt)"
   ]
  },
  {
   "cell_type": "markdown",
   "metadata": {},
   "source": [
    "A data set that is nearly normal will result in a probability plot where the points closely follow the line. Any deviations from normality leads to deviations of these points from the line. The plot for female heights shows points that tend to follow the line but with some errant points towards the tails. We’re left with the same problem that we encountered with the histogram above: how close is close enough?\n",
    "\n",
    "A useful way to address this question is to rephrase it as: what do probability plots look like for data that I know came from a normal distribution? We can answer this by simulating data from a normal distribution using rnorm."
   ]
  },
  {
   "cell_type": "code",
   "execution_count": 59,
   "metadata": {},
   "outputs": [],
   "source": [
    "sim_norm <- rnorm(n = length(fdims$hgt), mean = fhgtmean, sd = fhgtsd)"
   ]
  },
  {
   "cell_type": "markdown",
   "metadata": {},
   "source": [
    "The first argument indicates how many numbers you’d like to generate, which we specify to be the same number of heights in the fdims data set using the length function. The last two arguments determine the mean and standard deviation of the normal distribution from which the simulated sample will be generated. We can take a look at the shape of our simulated data set, sim_norm, as well as its normal probability plot."
   ]
  },
  {
   "cell_type": "markdown",
   "metadata": {},
   "source": [
    "**Make a normal probability plot of sim_norm. Do all of the points fall on the line? How does this plot compare to the probability plot for the real data?**\n",
    "\n",
    "Even better than comparing the original plot to a single plot generated from a normal distribution is to compare it to many more plots using the following function. It may be helpful to click the zoom button in the plot window."
   ]
  },
  {
   "cell_type": "code",
   "execution_count": 60,
   "metadata": {},
   "outputs": [
    {
     "data": {
      "image/png": "[encoded data removed]",
      "text/plain": [
       "Plot with title \"Normal QQ Plot (Sim)\""
      ]
     },
     "metadata": {
      "image/png": {
       "height": 420,
       "width": 420
      },
      "text/plain": {
       "height": 420,
       "width": 420
      }
     },
     "output_type": "display_data"
    }
   ],
   "source": [
    "qqnormsim(fdims$hgt)"
   ]
  },
  {
   "cell_type": "markdown",
   "metadata": {},
   "source": [
    "### Normal probabilities\n",
    "Okay, so now you have a slew of tools to judge whether or not a variable is normally distributed. Why should we care?\n",
    "\n",
    "It turns out that statisticians know a lot about the normal distribution. Once we decide that a random variable is approximately normal, we can answer all sorts of questions about that variable related to probability. Take, for example, the question of, “What is the probability that a randomly chosen young adult female is taller than 6 feet (about 182 cm)?” (The study that published this data set is clear to point out that the sample was not random and therefore inference to a general population is not suggested. We do so here only as an exercise.)\n",
    "\n",
    "If we assume that female heights are normally distributed (a very close approximation is also okay), we can find this probability by calculating a Z score and consulting a Z table (also called a normal probability table). In R, this is done in one step with the function pnorm."
   ]
  },
  {
   "cell_type": "code",
   "execution_count": 61,
   "metadata": {},
   "outputs": [
    {
     "data": {
      "text/html": [
       "0.00443438691868725"
      ],
      "text/latex": [
       "0.00443438691868725"
      ],
      "text/markdown": [
       "0.00443438691868725"
      ],
      "text/plain": [
       "[1] 0.004434387"
      ]
     },
     "metadata": {},
     "output_type": "display_data"
    }
   ],
   "source": [
    "1 - pnorm(q = 182, mean = fhgtmean, sd = fhgtsd)"
   ]
  },
  {
   "cell_type": "markdown",
   "metadata": {},
   "source": [
    "Note that the function pnorm gives the area under the normal curve below a given value, q, with a given mean and standard deviation. Since we’re interested in the probability that someone is taller than 182 cm, we have to take one minus that probability.\n",
    "\n",
    "Assuming a normal distribution has allowed us to calculate a theoretical probability. If we want to calculate the probability empirically, we simply need to determine how many observations fall above 182 then divide this number by the total sample size."
   ]
  },
  {
   "cell_type": "code",
   "execution_count": 62,
   "metadata": {},
   "outputs": [
    {
     "data": {
      "text/html": [
       "0.00384615384615385"
      ],
      "text/latex": [
       "0.00384615384615385"
      ],
      "text/markdown": [
       "0.00384615384615385"
      ],
      "text/plain": [
       "[1] 0.003846154"
      ]
     },
     "metadata": {},
     "output_type": "display_data"
    }
   ],
   "source": [
    "sum(fdims$hgt > 182) / length(fdims$hgt)"
   ]
  },
  {
   "cell_type": "markdown",
   "metadata": {},
   "source": [
    "Although the probabilities are not exactly the same, they are reasonably close. The closer that your distribution is to being normal, the more accurate the theoretical probabilities will be."
   ]
  }
 ],
 "metadata": {
  "kernelspec": {
   "display_name": "R",
   "language": "R",
   "name": "ir"
  },
  "language_info": {
   "codemirror_mode": "r",
   "file_extension": ".r",
   "mimetype": "text/x-r-source",
   "name": "R",
   "pygments_lexer": "r",
   "version": "3.6.3"
  }
 },
 "nbformat": 4,
 "nbformat_minor": 4
}
