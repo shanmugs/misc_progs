{
 "cells": [
  {
   "cell_type": "markdown",
   "metadata": {},
   "source": [
    "# Modeling and Prediction for Movies"
   ]
  },
  {
   "cell_type": "markdown",
   "metadata": {},
   "source": [
    "<img src=\"images/movies.jpg\"/>"
   ]
  },
  {
   "cell_type": "markdown",
   "metadata": {},
   "source": [
    "## Setup"
   ]
  },
  {
   "cell_type": "markdown",
   "metadata": {},
   "source": [
    "### Load Libraries"
   ]
  },
  {
   "cell_type": "code",
   "execution_count": 1,
   "metadata": {},
   "outputs": [
    {
     "name": "stderr",
     "output_type": "stream",
     "text": [
      "\n",
      "Attaching package: 'dplyr'\n",
      "\n",
      "\n",
      "The following objects are masked from 'package:stats':\n",
      "\n",
      "    filter, lag\n",
      "\n",
      "\n",
      "The following objects are masked from 'package:base':\n",
      "\n",
      "    intersect, setdiff, setequal, union\n",
      "\n",
      "\n",
      "\n",
      "Attaching package: 'gridExtra'\n",
      "\n",
      "\n",
      "The following object is masked from 'package:dplyr':\n",
      "\n",
      "    combine\n",
      "\n",
      "\n"
     ]
    }
   ],
   "source": [
    "#install.packages(\"package\")\n",
    "library(statsr)\n",
    "library(dplyr)\n",
    "library(ggplot2)\n",
    "library(gridExtra)"
   ]
  },
  {
   "cell_type": "markdown",
   "metadata": {},
   "source": [
    "### Load Data"
   ]
  },
  {
   "cell_type": "code",
   "execution_count": 2,
   "metadata": {},
   "outputs": [
    {
     "data": {
      "text/html": [
       "<table>\n",
       "<caption>A tibble: 6 × 32</caption>\n",
       "<thead>\n",
       "\t<tr><th scope=col>title</th><th scope=col>title_type</th><th scope=col>genre</th><th scope=col>runtime</th><th scope=col>mpaa_rating</th><th scope=col>studio</th><th scope=col>thtr_rel_year</th><th scope=col>thtr_rel_month</th><th scope=col>thtr_rel_day</th><th scope=col>dvd_rel_year</th><th scope=col>⋯</th><th scope=col>best_dir_win</th><th scope=col>top200_box</th><th scope=col>director</th><th scope=col>actor1</th><th scope=col>actor2</th><th scope=col>actor3</th><th scope=col>actor4</th><th scope=col>actor5</th><th scope=col>imdb_url</th><th scope=col>rt_url</th></tr>\n",
       "\t<tr><th scope=col>&lt;chr&gt;</th><th scope=col>&lt;fct&gt;</th><th scope=col>&lt;fct&gt;</th><th scope=col>&lt;dbl&gt;</th><th scope=col>&lt;fct&gt;</th><th scope=col>&lt;fct&gt;</th><th scope=col>&lt;dbl&gt;</th><th scope=col>&lt;dbl&gt;</th><th scope=col>&lt;dbl&gt;</th><th scope=col>&lt;dbl&gt;</th><th scope=col>⋯</th><th scope=col>&lt;fct&gt;</th><th scope=col>&lt;fct&gt;</th><th scope=col>&lt;chr&gt;</th><th scope=col>&lt;chr&gt;</th><th scope=col>&lt;chr&gt;</th><th scope=col>&lt;chr&gt;</th><th scope=col>&lt;chr&gt;</th><th scope=col>&lt;chr&gt;</th><th scope=col>&lt;chr&gt;</th><th scope=col>&lt;chr&gt;</th></tr>\n",
       "</thead>\n",
       "<tbody>\n",
       "\t<tr><td>Filly Brown         </td><td>Feature Film</td><td>Drama      </td><td> 80</td><td>R      </td><td>Indomina Media Inc.     </td><td>2013</td><td> 4</td><td>19</td><td>2013</td><td>⋯</td><td>no </td><td>no</td><td>Michael D. Olmos </td><td>Gina Rodriguez   </td><td>Jenni Rivera      </td><td>Lou Diamond Phillips</td><td>Emilio Rivera   </td><td>Joseph Julian Soria</td><td>http://www.imdb.com/title/tt1869425/</td><td>//www.rottentomatoes.com/m/filly_brown_2012/    </td></tr>\n",
       "\t<tr><td>The Dish            </td><td>Feature Film</td><td>Drama      </td><td>101</td><td>PG-13  </td><td>Warner Bros. Pictures   </td><td>2001</td><td> 3</td><td>14</td><td>2001</td><td>⋯</td><td>no </td><td>no</td><td>Rob Sitch        </td><td>Sam Neill        </td><td>Kevin Harrington  </td><td>Patrick Warburton   </td><td>Tom Long        </td><td>Genevieve Mooy     </td><td>http://www.imdb.com/title/tt0205873/</td><td>//www.rottentomatoes.com/m/dish/                </td></tr>\n",
       "\t<tr><td>Waiting for Guffman </td><td>Feature Film</td><td>Comedy     </td><td> 84</td><td>R      </td><td>Sony Pictures Classics  </td><td>1996</td><td> 8</td><td>21</td><td>2001</td><td>⋯</td><td>no </td><td>no</td><td>Christopher Guest</td><td>Christopher Guest</td><td>Catherine O'Hara  </td><td>Parker Posey        </td><td>Eugene Levy     </td><td>Bob Balaban        </td><td>http://www.imdb.com/title/tt0118111/</td><td>//www.rottentomatoes.com/m/waiting_for_guffman/ </td></tr>\n",
       "\t<tr><td>The Age of Innocence</td><td>Feature Film</td><td>Drama      </td><td>139</td><td>PG     </td><td>Columbia Pictures       </td><td>1993</td><td>10</td><td> 1</td><td>2001</td><td>⋯</td><td>yes</td><td>no</td><td>Martin Scorsese  </td><td>Daniel Day-Lewis </td><td>Michelle Pfeiffer </td><td>Winona Ryder        </td><td>Richard E. Grant</td><td>Alec McCowen       </td><td>http://www.imdb.com/title/tt0106226/</td><td>//www.rottentomatoes.com/m/age_of_innocence/    </td></tr>\n",
       "\t<tr><td>Malevolence         </td><td>Feature Film</td><td>Horror     </td><td> 90</td><td>R      </td><td>Anchor Bay Entertainment</td><td>2004</td><td> 9</td><td>10</td><td>2005</td><td>⋯</td><td>no </td><td>no</td><td>Stevan Mena      </td><td>Samantha Dark    </td><td>R. Brandon Johnson</td><td>Brandon Johnson     </td><td>Heather Magee   </td><td>Richard Glover     </td><td>http://www.imdb.com/title/tt0388230/</td><td>//www.rottentomatoes.com/m/10004684-malevolence/</td></tr>\n",
       "\t<tr><td>Old Partner         </td><td>Documentary </td><td>Documentary</td><td> 78</td><td>Unrated</td><td>Shcalo Media Group      </td><td>2009</td><td> 1</td><td>15</td><td>2010</td><td>⋯</td><td>no </td><td>no</td><td>Chung-ryoul Lee  </td><td>Choi Won-kyun    </td><td>Lee Sam-soon      </td><td>Moo                 </td><td>NA              </td><td>NA                 </td><td>http://www.imdb.com/title/tt1334549/</td><td>//www.rottentomatoes.com/m/old-partner/         </td></tr>\n",
       "</tbody>\n",
       "</table>\n"
      ],
      "text/latex": [
       "A tibble: 6 × 32\n",
       "\\begin{tabular}{lllllllllllllllllllll}\n",
       " title & title\\_type & genre & runtime & mpaa\\_rating & studio & thtr\\_rel\\_year & thtr\\_rel\\_month & thtr\\_rel\\_day & dvd\\_rel\\_year & ⋯ & best\\_dir\\_win & top200\\_box & director & actor1 & actor2 & actor3 & actor4 & actor5 & imdb\\_url & rt\\_url\\\\\n",
       " <chr> & <fct> & <fct> & <dbl> & <fct> & <fct> & <dbl> & <dbl> & <dbl> & <dbl> & ⋯ & <fct> & <fct> & <chr> & <chr> & <chr> & <chr> & <chr> & <chr> & <chr> & <chr>\\\\\n",
       "\\hline\n",
       "\t Filly Brown          & Feature Film & Drama       &  80 & R       & Indomina Media Inc.      & 2013 &  4 & 19 & 2013 & ⋯ & no  & no & Michael D. Olmos  & Gina Rodriguez    & Jenni Rivera       & Lou Diamond Phillips & Emilio Rivera    & Joseph Julian Soria & http://www.imdb.com/title/tt1869425/ & //www.rottentomatoes.com/m/filly\\_brown\\_2012/    \\\\\n",
       "\t The Dish             & Feature Film & Drama       & 101 & PG-13   & Warner Bros. Pictures    & 2001 &  3 & 14 & 2001 & ⋯ & no  & no & Rob Sitch         & Sam Neill         & Kevin Harrington   & Patrick Warburton    & Tom Long         & Genevieve Mooy      & http://www.imdb.com/title/tt0205873/ & //www.rottentomatoes.com/m/dish/                \\\\\n",
       "\t Waiting for Guffman  & Feature Film & Comedy      &  84 & R       & Sony Pictures Classics   & 1996 &  8 & 21 & 2001 & ⋯ & no  & no & Christopher Guest & Christopher Guest & Catherine O'Hara   & Parker Posey         & Eugene Levy      & Bob Balaban         & http://www.imdb.com/title/tt0118111/ & //www.rottentomatoes.com/m/waiting\\_for\\_guffman/ \\\\\n",
       "\t The Age of Innocence & Feature Film & Drama       & 139 & PG      & Columbia Pictures        & 1993 & 10 &  1 & 2001 & ⋯ & yes & no & Martin Scorsese   & Daniel Day-Lewis  & Michelle Pfeiffer  & Winona Ryder         & Richard E. Grant & Alec McCowen        & http://www.imdb.com/title/tt0106226/ & //www.rottentomatoes.com/m/age\\_of\\_innocence/    \\\\\n",
       "\t Malevolence          & Feature Film & Horror      &  90 & R       & Anchor Bay Entertainment & 2004 &  9 & 10 & 2005 & ⋯ & no  & no & Stevan Mena       & Samantha Dark     & R. Brandon Johnson & Brandon Johnson      & Heather Magee    & Richard Glover      & http://www.imdb.com/title/tt0388230/ & //www.rottentomatoes.com/m/10004684-malevolence/\\\\\n",
       "\t Old Partner          & Documentary  & Documentary &  78 & Unrated & Shcalo Media Group       & 2009 &  1 & 15 & 2010 & ⋯ & no  & no & Chung-ryoul Lee   & Choi Won-kyun     & Lee Sam-soon       & Moo                  & NA               & NA                  & http://www.imdb.com/title/tt1334549/ & //www.rottentomatoes.com/m/old-partner/         \\\\\n",
       "\\end{tabular}\n"
      ],
      "text/markdown": [
       "\n",
       "A tibble: 6 × 32\n",
       "\n",
       "| title &lt;chr&gt; | title_type &lt;fct&gt; | genre &lt;fct&gt; | runtime &lt;dbl&gt; | mpaa_rating &lt;fct&gt; | studio &lt;fct&gt; | thtr_rel_year &lt;dbl&gt; | thtr_rel_month &lt;dbl&gt; | thtr_rel_day &lt;dbl&gt; | dvd_rel_year &lt;dbl&gt; | ⋯ ⋯ | best_dir_win &lt;fct&gt; | top200_box &lt;fct&gt; | director &lt;chr&gt; | actor1 &lt;chr&gt; | actor2 &lt;chr&gt; | actor3 &lt;chr&gt; | actor4 &lt;chr&gt; | actor5 &lt;chr&gt; | imdb_url &lt;chr&gt; | rt_url &lt;chr&gt; |\n",
       "|---|---|---|---|---|---|---|---|---|---|---|---|---|---|---|---|---|---|---|---|---|\n",
       "| Filly Brown          | Feature Film | Drama       |  80 | R       | Indomina Media Inc.      | 2013 |  4 | 19 | 2013 | ⋯ | no  | no | Michael D. Olmos  | Gina Rodriguez    | Jenni Rivera       | Lou Diamond Phillips | Emilio Rivera    | Joseph Julian Soria | http://www.imdb.com/title/tt1869425/ | //www.rottentomatoes.com/m/filly_brown_2012/     |\n",
       "| The Dish             | Feature Film | Drama       | 101 | PG-13   | Warner Bros. Pictures    | 2001 |  3 | 14 | 2001 | ⋯ | no  | no | Rob Sitch         | Sam Neill         | Kevin Harrington   | Patrick Warburton    | Tom Long         | Genevieve Mooy      | http://www.imdb.com/title/tt0205873/ | //www.rottentomatoes.com/m/dish/                 |\n",
       "| Waiting for Guffman  | Feature Film | Comedy      |  84 | R       | Sony Pictures Classics   | 1996 |  8 | 21 | 2001 | ⋯ | no  | no | Christopher Guest | Christopher Guest | Catherine O'Hara   | Parker Posey         | Eugene Levy      | Bob Balaban         | http://www.imdb.com/title/tt0118111/ | //www.rottentomatoes.com/m/waiting_for_guffman/  |\n",
       "| The Age of Innocence | Feature Film | Drama       | 139 | PG      | Columbia Pictures        | 1993 | 10 |  1 | 2001 | ⋯ | yes | no | Martin Scorsese   | Daniel Day-Lewis  | Michelle Pfeiffer  | Winona Ryder         | Richard E. Grant | Alec McCowen        | http://www.imdb.com/title/tt0106226/ | //www.rottentomatoes.com/m/age_of_innocence/     |\n",
       "| Malevolence          | Feature Film | Horror      |  90 | R       | Anchor Bay Entertainment | 2004 |  9 | 10 | 2005 | ⋯ | no  | no | Stevan Mena       | Samantha Dark     | R. Brandon Johnson | Brandon Johnson      | Heather Magee    | Richard Glover      | http://www.imdb.com/title/tt0388230/ | //www.rottentomatoes.com/m/10004684-malevolence/ |\n",
       "| Old Partner          | Documentary  | Documentary |  78 | Unrated | Shcalo Media Group       | 2009 |  1 | 15 | 2010 | ⋯ | no  | no | Chung-ryoul Lee   | Choi Won-kyun     | Lee Sam-soon       | Moo                  | NA               | NA                  | http://www.imdb.com/title/tt1334549/ | //www.rottentomatoes.com/m/old-partner/          |\n",
       "\n"
      ],
      "text/plain": [
       "  title                title_type   genre       runtime mpaa_rating\n",
       "1 Filly Brown          Feature Film Drama        80     R          \n",
       "2 The Dish             Feature Film Drama       101     PG-13      \n",
       "3 Waiting for Guffman  Feature Film Comedy       84     R          \n",
       "4 The Age of Innocence Feature Film Drama       139     PG         \n",
       "5 Malevolence          Feature Film Horror       90     R          \n",
       "6 Old Partner          Documentary  Documentary  78     Unrated    \n",
       "  studio                   thtr_rel_year thtr_rel_month thtr_rel_day\n",
       "1 Indomina Media Inc.      2013           4             19          \n",
       "2 Warner Bros. Pictures    2001           3             14          \n",
       "3 Sony Pictures Classics   1996           8             21          \n",
       "4 Columbia Pictures        1993          10              1          \n",
       "5 Anchor Bay Entertainment 2004           9             10          \n",
       "6 Shcalo Media Group       2009           1             15          \n",
       "  dvd_rel_year <U+22EF>        best_dir_win top200_box director         \n",
       "1 2013         <U+22EF> no           no         Michael D. Olmos \n",
       "2 2001         <U+22EF> no           no         Rob Sitch        \n",
       "3 2001         <U+22EF> no           no         Christopher Guest\n",
       "4 2001         <U+22EF> yes          no         Martin Scorsese  \n",
       "5 2005         <U+22EF> no           no         Stevan Mena      \n",
       "6 2010         <U+22EF> no           no         Chung-ryoul Lee  \n",
       "  actor1            actor2             actor3               actor4          \n",
       "1 Gina Rodriguez    Jenni Rivera       Lou Diamond Phillips Emilio Rivera   \n",
       "2 Sam Neill         Kevin Harrington   Patrick Warburton    Tom Long        \n",
       "3 Christopher Guest Catherine O'Hara   Parker Posey         Eugene Levy     \n",
       "4 Daniel Day-Lewis  Michelle Pfeiffer  Winona Ryder         Richard E. Grant\n",
       "5 Samantha Dark     R. Brandon Johnson Brandon Johnson      Heather Magee   \n",
       "6 Choi Won-kyun     Lee Sam-soon       Moo                  NA              \n",
       "  actor5              imdb_url                            \n",
       "1 Joseph Julian Soria http://www.imdb.com/title/tt1869425/\n",
       "2 Genevieve Mooy      http://www.imdb.com/title/tt0205873/\n",
       "3 Bob Balaban         http://www.imdb.com/title/tt0118111/\n",
       "4 Alec McCowen        http://www.imdb.com/title/tt0106226/\n",
       "5 Richard Glover      http://www.imdb.com/title/tt0388230/\n",
       "6 NA                  http://www.imdb.com/title/tt1334549/\n",
       "  rt_url                                          \n",
       "1 //www.rottentomatoes.com/m/filly_brown_2012/    \n",
       "2 //www.rottentomatoes.com/m/dish/                \n",
       "3 //www.rottentomatoes.com/m/waiting_for_guffman/ \n",
       "4 //www.rottentomatoes.com/m/age_of_innocence/    \n",
       "5 //www.rottentomatoes.com/m/10004684-malevolence/\n",
       "6 //www.rottentomatoes.com/m/old-partner/         "
      ]
     },
     "metadata": {},
     "output_type": "display_data"
    }
   ],
   "source": [
    "load(\"data/movies.Rdata\")\n",
    "head(movies)"
   ]
  },
  {
   "cell_type": "markdown",
   "metadata": {},
   "source": [
    "## Part 1: Data"
   ]
  },
  {
   "cell_type": "code",
   "execution_count": 3,
   "metadata": {},
   "outputs": [
    {
     "name": "stdout",
     "output_type": "stream",
     "text": [
      "tibble [651 x 32] (S3: tbl_df/tbl/data.frame)\n",
      " $ title           : chr [1:651] \"Filly Brown\" \"The Dish\" \"Waiting for Guffman\" \"The Age of Innocence\" ...\n",
      " $ title_type      : Factor w/ 3 levels \"Documentary\",..: 2 2 2 2 2 1 2 2 1 2 ...\n",
      " $ genre           : Factor w/ 11 levels \"Action & Adventure\",..: 6 6 4 6 7 5 6 6 5 6 ...\n",
      " $ runtime         : num [1:651] 80 101 84 139 90 78 142 93 88 119 ...\n",
      " $ mpaa_rating     : Factor w/ 6 levels \"G\",\"NC-17\",\"PG\",..: 5 4 5 3 5 6 4 5 6 6 ...\n",
      " $ studio          : Factor w/ 211 levels \"20th Century Fox\",..: 91 202 167 34 13 163 147 118 88 84 ...\n",
      " $ thtr_rel_year   : num [1:651] 2013 2001 1996 1993 2004 ...\n",
      " $ thtr_rel_month  : num [1:651] 4 3 8 10 9 1 1 11 9 3 ...\n",
      " $ thtr_rel_day    : num [1:651] 19 14 21 1 10 15 1 8 7 2 ...\n",
      " $ dvd_rel_year    : num [1:651] 2013 2001 2001 2001 2005 ...\n",
      " $ dvd_rel_month   : num [1:651] 7 8 8 11 4 4 2 3 1 8 ...\n",
      " $ dvd_rel_day     : num [1:651] 30 28 21 6 19 20 18 2 21 14 ...\n",
      " $ imdb_rating     : num [1:651] 5.5 7.3 7.6 7.2 5.1 7.8 7.2 5.5 7.5 6.6 ...\n",
      " $ imdb_num_votes  : int [1:651] 899 12285 22381 35096 2386 333 5016 2272 880 12496 ...\n",
      " $ critics_rating  : Factor w/ 3 levels \"Certified Fresh\",..: 3 1 1 1 3 2 3 3 2 1 ...\n",
      " $ critics_score   : num [1:651] 45 96 91 80 33 91 57 17 90 83 ...\n",
      " $ audience_rating : Factor w/ 2 levels \"Spilled\",\"Upright\": 2 2 2 2 1 2 2 1 2 2 ...\n",
      " $ audience_score  : num [1:651] 73 81 91 76 27 86 76 47 89 66 ...\n",
      " $ best_pic_nom    : Factor w/ 2 levels \"no\",\"yes\": 1 1 1 1 1 1 1 1 1 1 ...\n",
      " $ best_pic_win    : Factor w/ 2 levels \"no\",\"yes\": 1 1 1 1 1 1 1 1 1 1 ...\n",
      " $ best_actor_win  : Factor w/ 2 levels \"no\",\"yes\": 1 1 1 2 1 1 1 2 1 1 ...\n",
      " $ best_actress_win: Factor w/ 2 levels \"no\",\"yes\": 1 1 1 1 1 1 1 1 1 1 ...\n",
      " $ best_dir_win    : Factor w/ 2 levels \"no\",\"yes\": 1 1 1 2 1 1 1 1 1 1 ...\n",
      " $ top200_box      : Factor w/ 2 levels \"no\",\"yes\": 1 1 1 1 1 1 1 1 1 1 ...\n",
      " $ director        : chr [1:651] \"Michael D. Olmos\" \"Rob Sitch\" \"Christopher Guest\" \"Martin Scorsese\" ...\n",
      " $ actor1          : chr [1:651] \"Gina Rodriguez\" \"Sam Neill\" \"Christopher Guest\" \"Daniel Day-Lewis\" ...\n",
      " $ actor2          : chr [1:651] \"Jenni Rivera\" \"Kevin Harrington\" \"Catherine O'Hara\" \"Michelle Pfeiffer\" ...\n",
      " $ actor3          : chr [1:651] \"Lou Diamond Phillips\" \"Patrick Warburton\" \"Parker Posey\" \"Winona Ryder\" ...\n",
      " $ actor4          : chr [1:651] \"Emilio Rivera\" \"Tom Long\" \"Eugene Levy\" \"Richard E. Grant\" ...\n",
      " $ actor5          : chr [1:651] \"Joseph Julian Soria\" \"Genevieve Mooy\" \"Bob Balaban\" \"Alec McCowen\" ...\n",
      " $ imdb_url        : chr [1:651] \"http://www.imdb.com/title/tt1869425/\" \"http://www.imdb.com/title/tt0205873/\" \"http://www.imdb.com/title/tt0118111/\" \"http://www.imdb.com/title/tt0106226/\" ...\n",
      " $ rt_url          : chr [1:651] \"//www.rottentomatoes.com/m/filly_brown_2012/\" \"//www.rottentomatoes.com/m/dish/\" \"//www.rottentomatoes.com/m/waiting_for_guffman/\" \"//www.rottentomatoes.com/m/age_of_innocence/\" ...\n"
     ]
    }
   ],
   "source": [
    "str(movies)"
   ]
  },
  {
   "cell_type": "markdown",
   "metadata": {},
   "source": [
    "#### Sample\n",
    "The sample data set is comprised of 651 randomly sampled movies produced and released before 2016. Some of the variables provide descriptive information that would not be use full in a data exploration or a linear regression analysis. For example:  Title of the movie, link to IMDB or link to rottentomatoes."
   ]
  },
  {
   "cell_type": "markdown",
   "metadata": {},
   "source": [
    "#### Methodology\n",
    "The data collection methodology is not explicitly stated, but it is evident that the data is purely observational. Random sampling was involved but random assignement of treatment was not done therefore we cannot make any causality study. Only generalization is allowed for the conclusion reached in this analysis."
   ]
  },
  {
   "cell_type": "markdown",
   "metadata": {},
   "source": [
    "## Part 2: Research question\n",
    "\n",
    "Let us first select the variables from the sample data given that will be of import to our discussion of a given movie's reception by audience.\n",
    "\n",
    "- imdb_rating: Rating on IMDB\n",
    "- critics_rating: Categorical variable for critics rating on Rotten Tomatoes (Certified Fresh, Fresh, Rotten)\n",
    "- critics_score: Critics score on Rotten Tomatoes\n",
    "- audience_rating: Categorical variable for audience rating on Rotten Tomatoes (Spilled, Upright)\n",
    "- audience_score: Audience score on Rotten Tomatoes\n",
    "- best_actor_win: Whether or not one of the main actors in the movie ever won an Oscar (no, yes)\n",
    "- best_actress_win: Whether or not one of the main actresses in the movie ever won an Oscar (no, yes)\n",
    "- best_dir_win: Whether or not the director of the movie ever won an Oscar (no, yes)\n",
    "\n",
    "I have discared variables like: title, genre, run time, time of release etc. because these do not intutively seem to be key ingredients of a movies success.\n",
    "\n",
    "The question that I will pose for this study is\n",
    "\n",
    "##### Is there a association between the rating of a movie with other film charateristics: actors, actress, directors who won an oscar and, critics and audience reception of the movie.\n",
    "\n",
    "One important thing to note here is that I have not yet selcted the exact response variable that I will use to quantify the rating. In the data Exploration, I will research further the 5 rating/scoring varibales, before settling on a final response variable."
   ]
  },
  {
   "cell_type": "markdown",
   "metadata": {},
   "source": [
    "## Part 3: Exploratory data analysis\n",
    "\n",
    "Let us begin by first constructing a subset from the original dataset by selecting the variables that we find interesting. Susequently we will remove the incomplete entries. Also, I will be constructing a new variable: oscar_win that will track weather actor, actress or director involved in the moview has had an oscar win."
   ]
  },
  {
   "cell_type": "code",
   "execution_count": 4,
   "metadata": {},
   "outputs": [
    {
     "data": {
      "text/html": [
       "<table>\n",
       "<caption>A tibble: 6 × 9</caption>\n",
       "<thead>\n",
       "\t<tr><th scope=col>imdb_rating</th><th scope=col>imdb_num_votes</th><th scope=col>critics_rating</th><th scope=col>critics_score</th><th scope=col>audience_score</th><th scope=col>audience_rating</th><th scope=col>best_actor_win</th><th scope=col>best_actress_win</th><th scope=col>best_dir_win</th></tr>\n",
       "\t<tr><th scope=col>&lt;dbl&gt;</th><th scope=col>&lt;int&gt;</th><th scope=col>&lt;fct&gt;</th><th scope=col>&lt;dbl&gt;</th><th scope=col>&lt;dbl&gt;</th><th scope=col>&lt;fct&gt;</th><th scope=col>&lt;fct&gt;</th><th scope=col>&lt;fct&gt;</th><th scope=col>&lt;fct&gt;</th></tr>\n",
       "</thead>\n",
       "<tbody>\n",
       "\t<tr><td>5.5</td><td>  899</td><td>Rotten         </td><td>45</td><td>73</td><td>Upright</td><td>no </td><td>no</td><td>no </td></tr>\n",
       "\t<tr><td>7.3</td><td>12285</td><td>Certified Fresh</td><td>96</td><td>81</td><td>Upright</td><td>no </td><td>no</td><td>no </td></tr>\n",
       "\t<tr><td>7.6</td><td>22381</td><td>Certified Fresh</td><td>91</td><td>91</td><td>Upright</td><td>no </td><td>no</td><td>no </td></tr>\n",
       "\t<tr><td>7.2</td><td>35096</td><td>Certified Fresh</td><td>80</td><td>76</td><td>Upright</td><td>yes</td><td>no</td><td>yes</td></tr>\n",
       "\t<tr><td>5.1</td><td> 2386</td><td>Rotten         </td><td>33</td><td>27</td><td>Spilled</td><td>no </td><td>no</td><td>no </td></tr>\n",
       "\t<tr><td>7.8</td><td>  333</td><td>Fresh          </td><td>91</td><td>86</td><td>Upright</td><td>no </td><td>no</td><td>no </td></tr>\n",
       "</tbody>\n",
       "</table>\n"
      ],
      "text/latex": [
       "A tibble: 6 × 9\n",
       "\\begin{tabular}{lllllllll}\n",
       " imdb\\_rating & imdb\\_num\\_votes & critics\\_rating & critics\\_score & audience\\_score & audience\\_rating & best\\_actor\\_win & best\\_actress\\_win & best\\_dir\\_win\\\\\n",
       " <dbl> & <int> & <fct> & <dbl> & <dbl> & <fct> & <fct> & <fct> & <fct>\\\\\n",
       "\\hline\n",
       "\t 5.5 &   899 & Rotten          & 45 & 73 & Upright & no  & no & no \\\\\n",
       "\t 7.3 & 12285 & Certified Fresh & 96 & 81 & Upright & no  & no & no \\\\\n",
       "\t 7.6 & 22381 & Certified Fresh & 91 & 91 & Upright & no  & no & no \\\\\n",
       "\t 7.2 & 35096 & Certified Fresh & 80 & 76 & Upright & yes & no & yes\\\\\n",
       "\t 5.1 &  2386 & Rotten          & 33 & 27 & Spilled & no  & no & no \\\\\n",
       "\t 7.8 &   333 & Fresh           & 91 & 86 & Upright & no  & no & no \\\\\n",
       "\\end{tabular}\n"
      ],
      "text/markdown": [
       "\n",
       "A tibble: 6 × 9\n",
       "\n",
       "| imdb_rating &lt;dbl&gt; | imdb_num_votes &lt;int&gt; | critics_rating &lt;fct&gt; | critics_score &lt;dbl&gt; | audience_score &lt;dbl&gt; | audience_rating &lt;fct&gt; | best_actor_win &lt;fct&gt; | best_actress_win &lt;fct&gt; | best_dir_win &lt;fct&gt; |\n",
       "|---|---|---|---|---|---|---|---|---|\n",
       "| 5.5 |   899 | Rotten          | 45 | 73 | Upright | no  | no | no  |\n",
       "| 7.3 | 12285 | Certified Fresh | 96 | 81 | Upright | no  | no | no  |\n",
       "| 7.6 | 22381 | Certified Fresh | 91 | 91 | Upright | no  | no | no  |\n",
       "| 7.2 | 35096 | Certified Fresh | 80 | 76 | Upright | yes | no | yes |\n",
       "| 5.1 |  2386 | Rotten          | 33 | 27 | Spilled | no  | no | no  |\n",
       "| 7.8 |   333 | Fresh           | 91 | 86 | Upright | no  | no | no  |\n",
       "\n"
      ],
      "text/plain": [
       "  imdb_rating imdb_num_votes critics_rating  critics_score audience_score\n",
       "1 5.5           899          Rotten          45            73            \n",
       "2 7.3         12285          Certified Fresh 96            81            \n",
       "3 7.6         22381          Certified Fresh 91            91            \n",
       "4 7.2         35096          Certified Fresh 80            76            \n",
       "5 5.1          2386          Rotten          33            27            \n",
       "6 7.8           333          Fresh           91            86            \n",
       "  audience_rating best_actor_win best_actress_win best_dir_win\n",
       "1 Upright         no             no               no          \n",
       "2 Upright         no             no               no          \n",
       "3 Upright         no             no               no          \n",
       "4 Upright         yes            no               yes         \n",
       "5 Spilled         no             no               no          \n",
       "6 Upright         no             no               no          "
      ]
     },
     "metadata": {},
     "output_type": "display_data"
    }
   ],
   "source": [
    "# Select interesting columns\n",
    "mv <- movies %>% \n",
    "        select(imdb_rating, imdb_num_votes, critics_rating, critics_score, audience_score, audience_rating, best_actor_win, \n",
    "               best_actress_win, best_dir_win )\n",
    "\n",
    "head(mv)"
   ]
  },
  {
   "cell_type": "code",
   "execution_count": 5,
   "metadata": {},
   "outputs": [],
   "source": [
    "# Let's exclude NA's.\n",
    "mv <- na.exclude(mv)"
   ]
  },
  {
   "cell_type": "code",
   "execution_count": 6,
   "metadata": {},
   "outputs": [
    {
     "data": {
      "text/plain": [
       "  imdb_rating    imdb_num_votes           critics_rating critics_score   \n",
       " Min.   :1.900   Min.   :   180   Certified Fresh:135    Min.   :  1.00  \n",
       " 1st Qu.:5.900   1st Qu.:  4546   Fresh          :209    1st Qu.: 33.00  \n",
       " Median :6.600   Median : 15116   Rotten         :307    Median : 61.00  \n",
       " Mean   :6.493   Mean   : 57533                          Mean   : 57.69  \n",
       " 3rd Qu.:7.300   3rd Qu.: 58301                          3rd Qu.: 83.00  \n",
       " Max.   :9.000   Max.   :893008                          Max.   :100.00  \n",
       " audience_score  audience_rating best_actor_win best_actress_win best_dir_win\n",
       " Min.   :11.00   Spilled:275     no :558        no :579          no :608     \n",
       " 1st Qu.:46.00   Upright:376     yes: 93        yes: 72          yes: 43     \n",
       " Median :65.00                                                               \n",
       " Mean   :62.36                                                               \n",
       " 3rd Qu.:80.00                                                               \n",
       " Max.   :97.00                                                               "
      ]
     },
     "metadata": {},
     "output_type": "display_data"
    }
   ],
   "source": [
    "summary(mv)"
   ]
  },
  {
   "cell_type": "code",
   "execution_count": 7,
   "metadata": {},
   "outputs": [
    {
     "data": {
      "text/html": [
       "<table>\n",
       "<caption>A tibble: 6 × 10</caption>\n",
       "<thead>\n",
       "\t<tr><th scope=col>imdb_rating</th><th scope=col>imdb_num_votes</th><th scope=col>critics_rating</th><th scope=col>critics_score</th><th scope=col>audience_score</th><th scope=col>audience_rating</th><th scope=col>best_actor_win</th><th scope=col>best_actress_win</th><th scope=col>best_dir_win</th><th scope=col>oscar_win</th></tr>\n",
       "\t<tr><th scope=col>&lt;dbl&gt;</th><th scope=col>&lt;int&gt;</th><th scope=col>&lt;fct&gt;</th><th scope=col>&lt;dbl&gt;</th><th scope=col>&lt;dbl&gt;</th><th scope=col>&lt;fct&gt;</th><th scope=col>&lt;fct&gt;</th><th scope=col>&lt;fct&gt;</th><th scope=col>&lt;fct&gt;</th><th scope=col>&lt;chr&gt;</th></tr>\n",
       "</thead>\n",
       "<tbody>\n",
       "\t<tr><td>5.5</td><td>  899</td><td>Rotten         </td><td>45</td><td>73</td><td>Upright</td><td>no </td><td>no</td><td>no </td><td>no </td></tr>\n",
       "\t<tr><td>7.3</td><td>12285</td><td>Certified Fresh</td><td>96</td><td>81</td><td>Upright</td><td>no </td><td>no</td><td>no </td><td>no </td></tr>\n",
       "\t<tr><td>7.6</td><td>22381</td><td>Certified Fresh</td><td>91</td><td>91</td><td>Upright</td><td>no </td><td>no</td><td>no </td><td>no </td></tr>\n",
       "\t<tr><td>7.2</td><td>35096</td><td>Certified Fresh</td><td>80</td><td>76</td><td>Upright</td><td>yes</td><td>no</td><td>yes</td><td>yes</td></tr>\n",
       "\t<tr><td>5.1</td><td> 2386</td><td>Rotten         </td><td>33</td><td>27</td><td>Spilled</td><td>no </td><td>no</td><td>no </td><td>no </td></tr>\n",
       "\t<tr><td>7.8</td><td>  333</td><td>Fresh          </td><td>91</td><td>86</td><td>Upright</td><td>no </td><td>no</td><td>no </td><td>no </td></tr>\n",
       "</tbody>\n",
       "</table>\n"
      ],
      "text/latex": [
       "A tibble: 6 × 10\n",
       "\\begin{tabular}{llllllllll}\n",
       " imdb\\_rating & imdb\\_num\\_votes & critics\\_rating & critics\\_score & audience\\_score & audience\\_rating & best\\_actor\\_win & best\\_actress\\_win & best\\_dir\\_win & oscar\\_win\\\\\n",
       " <dbl> & <int> & <fct> & <dbl> & <dbl> & <fct> & <fct> & <fct> & <fct> & <chr>\\\\\n",
       "\\hline\n",
       "\t 5.5 &   899 & Rotten          & 45 & 73 & Upright & no  & no & no  & no \\\\\n",
       "\t 7.3 & 12285 & Certified Fresh & 96 & 81 & Upright & no  & no & no  & no \\\\\n",
       "\t 7.6 & 22381 & Certified Fresh & 91 & 91 & Upright & no  & no & no  & no \\\\\n",
       "\t 7.2 & 35096 & Certified Fresh & 80 & 76 & Upright & yes & no & yes & yes\\\\\n",
       "\t 5.1 &  2386 & Rotten          & 33 & 27 & Spilled & no  & no & no  & no \\\\\n",
       "\t 7.8 &   333 & Fresh           & 91 & 86 & Upright & no  & no & no  & no \\\\\n",
       "\\end{tabular}\n"
      ],
      "text/markdown": [
       "\n",
       "A tibble: 6 × 10\n",
       "\n",
       "| imdb_rating &lt;dbl&gt; | imdb_num_votes &lt;int&gt; | critics_rating &lt;fct&gt; | critics_score &lt;dbl&gt; | audience_score &lt;dbl&gt; | audience_rating &lt;fct&gt; | best_actor_win &lt;fct&gt; | best_actress_win &lt;fct&gt; | best_dir_win &lt;fct&gt; | oscar_win &lt;chr&gt; |\n",
       "|---|---|---|---|---|---|---|---|---|---|\n",
       "| 5.5 |   899 | Rotten          | 45 | 73 | Upright | no  | no | no  | no  |\n",
       "| 7.3 | 12285 | Certified Fresh | 96 | 81 | Upright | no  | no | no  | no  |\n",
       "| 7.6 | 22381 | Certified Fresh | 91 | 91 | Upright | no  | no | no  | no  |\n",
       "| 7.2 | 35096 | Certified Fresh | 80 | 76 | Upright | yes | no | yes | yes |\n",
       "| 5.1 |  2386 | Rotten          | 33 | 27 | Spilled | no  | no | no  | no  |\n",
       "| 7.8 |   333 | Fresh           | 91 | 86 | Upright | no  | no | no  | no  |\n",
       "\n"
      ],
      "text/plain": [
       "  imdb_rating imdb_num_votes critics_rating  critics_score audience_score\n",
       "1 5.5           899          Rotten          45            73            \n",
       "2 7.3         12285          Certified Fresh 96            81            \n",
       "3 7.6         22381          Certified Fresh 91            91            \n",
       "4 7.2         35096          Certified Fresh 80            76            \n",
       "5 5.1          2386          Rotten          33            27            \n",
       "6 7.8           333          Fresh           91            86            \n",
       "  audience_rating best_actor_win best_actress_win best_dir_win oscar_win\n",
       "1 Upright         no             no               no           no       \n",
       "2 Upright         no             no               no           no       \n",
       "3 Upright         no             no               no           no       \n",
       "4 Upright         yes            no               yes          yes      \n",
       "5 Spilled         no             no               no           no       \n",
       "6 Upright         no             no               no           no       "
      ]
     },
     "metadata": {},
     "output_type": "display_data"
    }
   ],
   "source": [
    "# New variable: 'oscar_win'\n",
    "mv <- mutate(mv, oscar_win = ifelse(best_actor_win == \"yes\", \"yes\", \n",
    "                             ifelse(best_actress_win == \"yes\", \"yes\", \n",
    "                             ifelse(best_dir_win == \"yes\", \"yes\", \"no\"))))\n",
    "\n",
    "head(mv)"
   ]
  },
  {
   "cell_type": "markdown",
   "metadata": {},
   "source": [
    "Now let us focus our attention to the 5 variables that are used for scoring a movie:\n",
    "\n",
    "- imdb_rating\n",
    "- critics_rating\n",
    "- critics_score\n",
    "- audience_rating\n",
    "- audience_score\n",
    "\n",
    "Two of these variables: critics_rating and audience_rating are factor variables. These are too coarse as response variables therefore, I will be discarding them as vaiable choices. Focusing on the remaining variables:"
   ]
  },
  {
   "cell_type": "code",
   "execution_count": 8,
   "metadata": {},
   "outputs": [
    {
     "data": {
      "image/png": "[encoded data removed]",
      "text/plain": [
       "plot without title"
      ]
     },
     "metadata": {
      "image/png": {
       "height": 420,
       "width": 420
      },
      "text/plain": {
       "height": 420,
       "width": 420
      }
     },
     "output_type": "display_data"
    }
   ],
   "source": [
    "pA <- ggplot(data = mv, aes(x = imdb_rating)) + geom_histogram(colour = \"black\", fill = \"green\", binwidth = .5) + \n",
    "        ggtitle(\"imdb rating\")\n",
    "\n",
    "pB <- ggplot(data = mv, aes(x = critics_score)) + geom_histogram(colour = \"black\", fill = \"cyan\", binwidth = 5) + \n",
    "        ggtitle(\"critics score\")\n",
    "\n",
    "pC <- ggplot(data = mv, aes(x = audience_score)) + geom_histogram(colour = \"black\", fill = \"yellow\", binwidth = 5) + \n",
    "        ggtitle(\"audience score\")\n",
    "\n",
    "grid.arrange(pA, pB, pC, nrow = 2, ncol = 2)"
   ]
  },
  {
   "cell_type": "markdown",
   "metadata": {},
   "source": [
    "imdb_rating seems to the variable that is closest to having a normal distribution, though left skewed, amongst the selected scoring schemes. Let us select imdb_rating as our response variable and proceed with observing what type of relationship it holds with the set of explanatory variables we wish to include in our study.\n",
    "\n",
    "- imdb_rating and critics_score faceted by critics_rating\n",
    "- imdb_rating and critics_score faceted by oscar win\n",
    "- imdb_rating and audience_score faceted by audience_rating\n",
    "- imdb_rating and audience_score faceted by oscar win."
   ]
  },
  {
   "cell_type": "code",
   "execution_count": 9,
   "metadata": {},
   "outputs": [
    {
     "data": {
      "image/png": "[encoded data removed]",
      "text/plain": [
       "plot without title"
      ]
     },
     "metadata": {
      "image/png": {
       "height": 420,
       "width": 420
      },
      "text/plain": {
       "height": 420,
       "width": 420
      }
     },
     "output_type": "display_data"
    }
   ],
   "source": [
    "pA <- ggplot(data = mv, aes(y = imdb_rating, x = critics_score, colour = critics_rating)) + geom_point() +\n",
    "        ggtitle(\"CS faceted CR\")\n",
    "\n",
    "pB <- ggplot(data = mv, aes(y = imdb_rating, x = critics_score, colour = oscar_win)) + geom_point() +\n",
    "        ggtitle(\"CS faceted OW\")\n",
    "\n",
    "pC <- ggplot(data = mv, aes(y = imdb_rating, x = audience_score, colour = audience_rating)) + geom_point() +\n",
    "        ggtitle(\"AS faceted AR\")\n",
    "\n",
    "pD <- ggplot(data = mv, aes(y = imdb_rating, x = audience_score, colour = oscar_win)) + geom_point() +\n",
    "        ggtitle(\"AS faceted OW\")\n",
    "\n",
    "grid.arrange(pA, pB, pC, pD, nrow = 2, ncol = 2)"
   ]
  },
  {
   "cell_type": "markdown",
   "metadata": {},
   "source": [
    "The graphs bring forward a few caveats:\n",
    "\n",
    "- The relationship imdb_rating has with audience_score and critics_score is fairly strong. \n",
    "- Oscar win of  moview doesnt really hold much sway in terms of its scoring as oscar wins are randomly distributed across the scroring grids. It will be interesting to how adjusted R squared changes with oscar_win."
   ]
  },
  {
   "cell_type": "markdown",
   "metadata": {},
   "source": [
    "## Part 4: Modeling\n",
    "\n",
    " - imdb_rating is choosen as a response variable as it behaves closest to a normally distributed variable\n",
    " - critics_score is choosen as one of the explanatory variable as it clearly holds a string relationship with our response variable\n",
    " - audience_score is choosen as a second explanatory variable as it is also having a strong relationship with our response variable\n",
    " - oscarr_win will be added to our initial model to see how it impacts R squared and to check if it has a signifiant relationship with our response variable"
   ]
  },
  {
   "cell_type": "code",
   "execution_count": 10,
   "metadata": {},
   "outputs": [
    {
     "data": {
      "text/plain": [
       "\n",
       "Call:\n",
       "lm(formula = imdb_rating ~ audience_score + critics_score, data = mv)\n",
       "\n",
       "Residuals:\n",
       "     Min       1Q   Median       3Q      Max \n",
       "-2.51964 -0.19767  0.03466  0.30671  1.22691 \n",
       "\n",
       "Coefficients:\n",
       "               Estimate Std. Error t value Pr(>|t|)    \n",
       "(Intercept)    3.647241   0.062471   58.38   <2e-16 ***\n",
       "audience_score 0.034703   0.001340   25.90   <2e-16 ***\n",
       "critics_score  0.011816   0.000954   12.39   <2e-16 ***\n",
       "---\n",
       "Signif. codes:  0 '***' 0.001 '**' 0.01 '*' 0.05 '.' 0.1 ' ' 1\n",
       "\n",
       "Residual standard error: 0.4904 on 648 degrees of freedom\n",
       "Multiple R-squared:  0.7962,\tAdjusted R-squared:  0.7956 \n",
       "F-statistic:  1266 on 2 and 648 DF,  p-value: < 2.2e-16\n"
      ]
     },
     "metadata": {},
     "output_type": "display_data"
    }
   ],
   "source": [
    "success_formula <- lm(imdb_rating ~ audience_score + critics_score, data = mv)\n",
    "\n",
    "summary(success_formula)"
   ]
  },
  {
   "cell_type": "markdown",
   "metadata": {},
   "source": [
    "Now lets us introduce oscar_win and see how our model changes."
   ]
  },
  {
   "cell_type": "code",
   "execution_count": 11,
   "metadata": {},
   "outputs": [
    {
     "data": {
      "text/plain": [
       "\n",
       "Call:\n",
       "lm(formula = imdb_rating ~ audience_score + critics_score + oscar_win, \n",
       "    data = mv)\n",
       "\n",
       "Residuals:\n",
       "     Min       1Q   Median       3Q      Max \n",
       "-2.49681 -0.22093  0.01665  0.29947  1.25836 \n",
       "\n",
       "Coefficients:\n",
       "                Estimate Std. Error t value Pr(>|t|)    \n",
       "(Intercept)    3.6178504  0.0628465  57.566  < 2e-16 ***\n",
       "audience_score 0.0348138  0.0013321  26.135  < 2e-16 ***\n",
       "critics_score  0.0116088  0.0009506  12.213  < 2e-16 ***\n",
       "oscar_winyes   0.1312405  0.0435431   3.014  0.00268 ** \n",
       "---\n",
       "Signif. codes:  0 '***' 0.001 '**' 0.01 '*' 0.05 '.' 0.1 ' ' 1\n",
       "\n",
       "Residual standard error: 0.4874 on 647 degrees of freedom\n",
       "Multiple R-squared:  0.7991,\tAdjusted R-squared:  0.7981 \n",
       "F-statistic: 857.6 on 3 and 647 DF,  p-value: < 2.2e-16\n"
      ]
     },
     "metadata": {},
     "output_type": "display_data"
    }
   ],
   "source": [
    "success_formula2 <- lm(imdb_rating ~ audience_score + critics_score + oscar_win, data = mv)\n",
    "\n",
    "summary(success_formula2)"
   ]
  },
  {
   "cell_type": "markdown",
   "metadata": {},
   "source": [
    "We do see a improvement in our models adjusted R-squared, but the improvement is miniscule. This is to be expected as predicted by the graphical analysis in Data Exploratory section. Therefore we choose our Linear Regression equation as:\n",
    "\n",
    "    imdb_rating = 3.3.618 + 0.0348*audience_score + 0.0116*critics_score + 0.13124*oscar_winyes"
   ]
  },
  {
   "cell_type": "markdown",
   "metadata": {},
   "source": [
    "## Model Interpretation\n",
    "\n",
    "Intercept(3.62) : Predicted mean when all other variables take a value of zero. Like in most cases, the intercept in this case is not carrying much real world meaning, but is simply for a model fit.\n",
    "\n",
    "Coefficient for audience_score(0.0348): With all other variables held constant, per unit increase in audience_score will improve the imdb_rating by 0.0348. \n",
    "\n",
    "Coefficient for critics_score(0.0116):With all other variables held constant, per unit increase in critics_score will improve the imdb_rating by 0.0348.\n",
    "\n",
    "Coefficient for oscar(0.1312): With all other variables else held constant, imdb_rating for movies with at least one member of the cast (actor, actress, or director) with an Oscar award is 0.13 points higher than movies with cast that have no Oscar wins."
   ]
  },
  {
   "cell_type": "markdown",
   "metadata": {},
   "source": [
    "## Conditions Check for Linear Regresion\n",
    "\n",
    "### Linear relationships between (numerical) x and y \n",
    "Check: Each (numerical) explanatory variable linearly related to the response variable. Check using residuals plots."
   ]
  },
  {
   "cell_type": "code",
   "execution_count": 12,
   "metadata": {},
   "outputs": [
    {
     "data": {
      "image/png": "[encoded data removed]",
      "text/plain": [
       "plot without title"
      ]
     },
     "metadata": {
      "image/png": {
       "height": 420,
       "width": 420
      },
      "text/plain": {
       "height": 420,
       "width": 420
      }
     },
     "output_type": "display_data"
    }
   ],
   "source": [
    "t1 <-  ggplot(data = mv, aes(x = audience_score, y = resid(success_formula2))) + geom_hline(yintercept = 0, size = 1)  + \n",
    "            xlab(\"audience_score\") + ylab(\"Residual\") + geom_point() + ggtitle(\"audience score residuals\")\n",
    "\n",
    "t2 <-  ggplot(data = mv, aes(x = critics_score, y = resid(success_formula2))) + geom_hline(yintercept = 0, size = 2)  + \n",
    "            xlab(\"critics_score\") + ylab(\"Residual\") + geom_point() + ggtitle(\"critics score residuals\")\n",
    "\n",
    "grid.arrange(t1, t2, nrow = 1, ncol = 2)"
   ]
  },
  {
   "cell_type": "markdown",
   "metadata": {},
   "source": [
    "#### Independent and nearly normal residuals with mean 0\n",
    "Check: Nearly normal distribution of residuals centered at 0. Check using histogram or normal probability plot:"
   ]
  },
  {
   "cell_type": "code",
   "execution_count": 13,
   "metadata": {},
   "outputs": [
    {
     "data": {
      "image/png": "[encoded data removed]",
      "text/plain": [
       "Plot with title \"Histogram of success_formula2$residuals\""
      ]
     },
     "metadata": {
      "image/png": {
       "height": 420,
       "width": 420
      },
      "text/plain": {
       "height": 420,
       "width": 420
      }
     },
     "output_type": "display_data"
    }
   ],
   "source": [
    "hist(success_formula2$residuals)"
   ]
  },
  {
   "cell_type": "code",
   "execution_count": 14,
   "metadata": {},
   "outputs": [
    {
     "data": {
      "image/png": "[encoded data removed]",
      "text/plain": [
       "Plot with title \"Normal Q-Q Plot\""
      ]
     },
     "metadata": {
      "image/png": {
       "height": 420,
       "width": 420
      },
      "text/plain": {
       "height": 420,
       "width": 420
      }
     },
     "output_type": "display_data"
    }
   ],
   "source": [
    "qqnorm(success_formula2$residuals)\n",
    "\n",
    "qqline(success_formula2$residuals)"
   ]
  },
  {
   "cell_type": "markdown",
   "metadata": {},
   "source": [
    "The model clearly shows a heavy left left skew, as evident in the histogram. This observation is also supported by the quantiles plot."
   ]
  },
  {
   "cell_type": "markdown",
   "metadata": {},
   "source": [
    "## Part 5: Prediction\n",
    "\n",
    "I will be using the 2016 movie Deadpool for testing our model."
   ]
  },
  {
   "cell_type": "code",
   "execution_count": 15,
   "metadata": {},
   "outputs": [
    {
     "data": {
      "text/html": [
       "<table>\n",
       "<caption>A data.frame: 1 × 3</caption>\n",
       "<thead>\n",
       "\t<tr><th scope=col>audience_score</th><th scope=col>critics_score</th><th scope=col>oscar_win</th></tr>\n",
       "\t<tr><th scope=col>&lt;dbl&gt;</th><th scope=col>&lt;dbl&gt;</th><th scope=col>&lt;fct&gt;</th></tr>\n",
       "</thead>\n",
       "<tbody>\n",
       "\t<tr><td>90</td><td>84</td><td>no</td></tr>\n",
       "</tbody>\n",
       "</table>\n"
      ],
      "text/latex": [
       "A data.frame: 1 × 3\n",
       "\\begin{tabular}{lll}\n",
       " audience\\_score & critics\\_score & oscar\\_win\\\\\n",
       " <dbl> & <dbl> & <fct>\\\\\n",
       "\\hline\n",
       "\t 90 & 84 & no\\\\\n",
       "\\end{tabular}\n"
      ],
      "text/markdown": [
       "\n",
       "A data.frame: 1 × 3\n",
       "\n",
       "| audience_score &lt;dbl&gt; | critics_score &lt;dbl&gt; | oscar_win &lt;fct&gt; |\n",
       "|---|---|---|\n",
       "| 90 | 84 | no |\n",
       "\n"
      ],
      "text/plain": [
       "  audience_score critics_score oscar_win\n",
       "1 90             84            no       "
      ]
     },
     "metadata": {},
     "output_type": "display_data"
    }
   ],
   "source": [
    "newDf <- data.frame(audience_score = 90, critics_score = 84, oscar_win = \"no\")\n",
    "newDf"
   ]
  },
  {
   "cell_type": "code",
   "execution_count": 16,
   "metadata": {},
   "outputs": [
    {
     "data": {
      "text/html": [
       "<dl>\n",
       "\t<dt>$fit</dt>\n",
       "\t\t<dd><table>\n",
       "<caption>A matrix: 1 × 3 of type dbl</caption>\n",
       "<thead>\n",
       "\t<tr><th></th><th scope=col>fit</th><th scope=col>lwr</th><th scope=col>upr</th></tr>\n",
       "</thead>\n",
       "<tbody>\n",
       "\t<tr><th scope=row>1</th><td>7.726227</td><td>6.766776</td><td>8.685679</td></tr>\n",
       "</tbody>\n",
       "</table>\n",
       "</dd>\n",
       "\t<dt>$se.fit</dt>\n",
       "\t\t<dd>0.0346140079735126</dd>\n",
       "\t<dt>$df</dt>\n",
       "\t\t<dd>647</dd>\n",
       "\t<dt>$residual.scale</dt>\n",
       "\t\t<dd>0.487381787899367</dd>\n",
       "</dl>\n"
      ],
      "text/latex": [
       "\\begin{description}\n",
       "\\item[\\$fit] A matrix: 1 × 3 of type dbl\n",
       "\\begin{tabular}{r|lll}\n",
       "  & fit & lwr & upr\\\\\n",
       "\\hline\n",
       "\t1 & 7.726227 & 6.766776 & 8.685679\\\\\n",
       "\\end{tabular}\n",
       "\n",
       "\\item[\\$se.fit] 0.0346140079735126\n",
       "\\item[\\$df] 647\n",
       "\\item[\\$residual.scale] 0.487381787899367\n",
       "\\end{description}\n"
      ],
      "text/markdown": [
       "$fit\n",
       ":   \n",
       "A matrix: 1 × 3 of type dbl\n",
       "\n",
       "| <!--/--> | fit | lwr | upr |\n",
       "|---|---|---|---|\n",
       "| 1 | 7.726227 | 6.766776 | 8.685679 |\n",
       "\n",
       "\n",
       "$se.fit\n",
       ":   0.0346140079735126\n",
       "$df\n",
       ":   647\n",
       "$residual.scale\n",
       ":   0.487381787899367\n",
       "\n",
       "\n"
      ],
      "text/plain": [
       "$fit\n",
       "       fit      lwr      upr\n",
       "1 7.726227 6.766776 8.685679\n",
       "\n",
       "$se.fit\n",
       "[1] 0.03461401\n",
       "\n",
       "$df\n",
       "[1] 647\n",
       "\n",
       "$residual.scale\n",
       "[1] 0.4873818\n"
      ]
     },
     "metadata": {},
     "output_type": "display_data"
    }
   ],
   "source": [
    "predict(success_formula2, newDf, interval = \"prediction\", level = 0.95, se.fit = TRUE)"
   ]
  },
  {
   "cell_type": "markdown",
   "metadata": {},
   "source": [
    "The predicted rating of the movie is 7.72, with 95% prediction interval of [6.76, 8.68]. The actual rating of the movie is 8.0 which is within our prediction interval."
   ]
  },
  {
   "cell_type": "markdown",
   "metadata": {},
   "source": [
    "## Part 6: Conclusion\n",
    "\n",
    "Our model with audience and critic rating scores as explanatory variables does a good job as a prediction model with the explanatory variable explaining aproximately 80% of the varaibility in the response variable.This being said, one should consider that there will be some amount of dependency between critic and audience score and these two will not be completly independent variables. Another important caveat that should be adhered is that the model is not good with low scores. This is evident from the quantile plots. Therefore the user should be carefull when using the model to predict imdb ratings using low audience and critics scores."
   ]
  }
 ],
 "metadata": {
  "kernelspec": {
   "display_name": "R",
   "language": "R",
   "name": "ir"
  },
  "language_info": {
   "codemirror_mode": "r",
   "file_extension": ".r",
   "mimetype": "text/x-r-source",
   "name": "R",
   "pygments_lexer": "r",
   "version": "3.6.3"
  }
 },
 "nbformat": 4,
 "nbformat_minor": 4
}
