{
 "cells": [
  {
   "cell_type": "markdown",
   "metadata": {},
   "source": [
    "# Two Armed Bandit"
   ]
  },
  {
   "cell_type": "markdown",
   "metadata": {},
   "source": [
    "<img src=\"images/2armed.png\"/>"
   ]
  },
  {
   "cell_type": "markdown",
   "metadata": {},
   "source": [
    "## Background\n",
    "\n",
    "Some people refer to slot machines as \"One-armed Bandits\" due to the older style \n",
    "of machine requiring the player to pull a mechanical handle to play. Statisticians \n",
    "and mathematicians often develop theories / models based on games of chance which \n",
    "turn out to be more generally useful. One general class of probability / optimization \n",
    "problems is known as the multi-armed bandit problem which is based on the following \n",
    "analogy: A player walks into a casino and sees a wall of slot machines. All of the \n",
    "machines pay out at different rates - some pay out more often than others, some \n",
    "pay out less often. Since the player does not know which machines are \"good\" and \n",
    "which are \"bad\", how should he / she play so as to make as much money (or at least \n",
    "lose as little) as possible?"
   ]
  },
  {
   "cell_type": "markdown",
   "metadata": {},
   "source": [
    "### Load Libraries"
   ]
  },
  {
   "cell_type": "code",
   "execution_count": 1,
   "metadata": {},
   "outputs": [
    {
     "name": "stderr",
     "output_type": "stream",
     "text": [
      "-- \u001b[1mAttaching packages\u001b[22m --------------------------------------- tidyverse 1.3.0 --\n",
      "\n",
      "\u001b[32mv\u001b[39m \u001b[34mggplot2\u001b[39m 3.3.2     \u001b[32mv\u001b[39m \u001b[34mpurrr  \u001b[39m 0.3.4\n",
      "\u001b[32mv\u001b[39m \u001b[34mtibble \u001b[39m 3.0.3     \u001b[32mv\u001b[39m \u001b[34mdplyr  \u001b[39m 1.0.0\n",
      "\u001b[32mv\u001b[39m \u001b[34mtidyr  \u001b[39m 1.1.0     \u001b[32mv\u001b[39m \u001b[34mstringr\u001b[39m 1.4.0\n",
      "\u001b[32mv\u001b[39m \u001b[34mreadr  \u001b[39m 1.3.1     \u001b[32mv\u001b[39m \u001b[34mforcats\u001b[39m 0.5.0\n",
      "\n",
      "-- \u001b[1mConflicts\u001b[22m ------------------------------------------ tidyverse_conflicts() --\n",
      "\u001b[31mx\u001b[39m \u001b[34mdplyr\u001b[39m::\u001b[32mfilter()\u001b[39m masks \u001b[34mstats\u001b[39m::filter()\n",
      "\u001b[31mx\u001b[39m \u001b[34mdplyr\u001b[39m::\u001b[32mlag()\u001b[39m    masks \u001b[34mstats\u001b[39m::lag()\n",
      "\n"
     ]
    }
   ],
   "source": [
    "#install.packages(\"package\")\n",
    "library(tidyverse)\n",
    "library(statsr)"
   ]
  },
  {
   "cell_type": "markdown",
   "metadata": {},
   "source": [
    "## Simulated Slots\n",
    "\n",
    "Today we will examine a simplified case where there are only two machines (one \"Good\" \n",
    "and one \"Bad\"). We will also assume that we know the probability of winning on \n",
    "the \"Good\" machine and the probability of winning on the \"Bad\" machine - what we \n",
    "don't know is which machine is which. \n",
    "\n",
    "The Shiny App below will let you simulate playing slot machines when the \n",
    "probability of winning on the \"good\" machine is 1/2 and the probability of \n",
    "winning on the \"bad\" machine is 1/3. Each time you play, the App will \"flip a \n",
    "coin\" and randomly select either Machine 1 or Machine 2 to be the \"good\" machine, \n",
    "and the other to be the \"bad\" machine."
   ]
  },
  {
   "cell_type": "code",
   "execution_count": 2,
   "metadata": {},
   "outputs": [],
   "source": [
    "#bandit_sim()"
   ]
  },
  {
   "cell_type": "markdown",
   "metadata": {},
   "source": [
    "Use the Shiny App above to play the slot machines a total of *10* times. You can \n",
    "divide your plays up however you like between the two machines. Once you have \n",
    "played 10 times, use the results of your plays to decide which machine you think \n",
    "has the better payout (i.e. the good machine) - click the button on the right \n",
    "that corresponds to your guess, the App will tell you if you are right. If you \n",
    "were right or wrong, press the reset button and play again and guess which \n",
    "machine you think is the good machine. As you are playing, think about what it \n",
    "is about your results that enabled you make the correct guess."
   ]
  },
  {
   "cell_type": "markdown",
   "metadata": {},
   "source": [
    "Press the Reset button again, now play *30* times and use those results to guess \n",
    "which machine is the good one. Do you think it was easier or harder to make a \n",
    "decision with the additional plays? Why do you think that is?"
   ]
  },
  {
   "cell_type": "markdown",
   "metadata": {},
   "source": [
    "    Answer: Whith more times, we have more chance to guess what is the correct machine. "
   ]
  },
  {
   "cell_type": "markdown",
   "metadata": {},
   "source": [
    "Hopefully what you have observed is that as you played the slot machine, initially \n",
    "it was difficult to determine which machine was which. But as you played more, it \n",
    "became more and more clear. In particular, each time you played you naturally \n",
    "reassessed which machine you thought was good. With the initial handful of plays, \n",
    "your beliefs stayed close to 50-50, potentially with a small bias towards the \n",
    "machine you had won more on. By the time you got to 30 plays you should have had \n",
    "a very strong belief about which machine was the \"good\" one. \n",
    "\n",
    "This is the way in which we usually interact with the world - we try something \n",
    "and modify our mental model based on the outcome we have received. This idea of \n",
    "updating beliefs based on observed data is one of the core tenets of Bayesian \n",
    "statistics - in the following sections we will work through the probability \n",
    "calculations and see how they correspond with our intuitive understanding."
   ]
  },
  {
   "cell_type": "markdown",
   "metadata": {},
   "source": [
    "## Posterior Probabilities\n",
    "\n",
    "We will start by examining the result of playing just once. Imagine that you \n",
    "play Machine 1 and you win, what do we now know about the probability of the two \n",
    "machines being \"good\" or \"bad\"? It is reasonable to believe that each machine is \n",
    "equally likely to be the \"good\" machine, we can express our belief as follow: \n",
    "\n",
    "$$P(M_1 \\text{ is Good})=P(M_2 \\text{ is Bad})=1/2$$\n",
    "$$P(M_1 \\text{ is Bad})=P(M_2 \\text{ is Good})=1/2.$$\n",
    "\n",
    "We have also been told that the probabilities of winning for each type of \n",
    "machine are:\n",
    "\n",
    "$$P(\\text{Win on }M_1 ~|~ M_1 \\text{ is Good}) = 1/2 \\qquad P(\\text{Win on }M_1 ~|~ M_1 \\text{ is Bad}) = 1/3.$$\n",
    "\n",
    "We can use these probabilities to calculate the posterior probabilities of \n",
    "losing for each type of machine:\n",
    "\n",
    "$$P(\\text{Lose on }M_1 ~|~ M_1 \\text{ is Good}) = 1/2 \\qquad P(\\text{Lose on }M_1 ~|~ M_1 \\text{ is Bad}) = 2/3.$$\n",
    "\n",
    "Note that while these probabilities are all for Machine 1, they are exactly the \n",
    "same as the probabilities for Machine 2. We have seen how we can use Bayes' rule \n",
    "to calculate $P(M_1 \\text{ is Good} ~|~ \\text{Win on } M_1)$"
   ]
  },
  {
   "cell_type": "markdown",
   "metadata": {},
   "source": [
    "$$\n",
    "\\begin{aligned}\n",
    "P(M_1 \\text{ is Good} ~|~ \\text{Win on } M_1) \n",
    "&= \\frac{P(\\text{Win on } M_1 ~|~ M_1 \\text{ is Good})~P(M_1 \\text{ is Good})}{P(\\text{Win on } M_1)} \\\\\n",
    "& = \\\\\n",
    "&= \\frac{P(\\text{Win on } M_1 ~|~ M_1 \\text{ is Good})~P(M_1 \\text{ is Good})}{P(\\text{Win on } M_1 ~|~ M_1 \\text{ is Good})~P(M_1 \\text{ is Good})+P(\\text{Win on } M_1 ~|~ M_1 \\text{ is Bad})~P(M_1 \\text{ is Bad})} \\\\\n",
    "& = \\\\\n",
    "&= \\frac{1/2 \\times 1/2}{1/2 \\times 1/2+1/3 \\times 1/2} = 0.6\n",
    "\\end{aligned}\n",
    "$$"
   ]
  },
  {
   "cell_type": "markdown",
   "metadata": {},
   "source": [
    "**1. Based on the preceding result, what is the probability that Machine 1 is \"Bad\" given you won playing on Machine 1?**"
   ]
  },
  {
   "cell_type": "markdown",
   "metadata": {},
   "source": [
    "    Answer: 0.4."
   ]
  },
  {
   "cell_type": "markdown",
   "metadata": {},
   "source": [
    "**2. Based on the preceding result, what is the probability that Machine 2 is \"Good\" given you won playing on Machine 1?**"
   ]
  },
  {
   "cell_type": "markdown",
   "metadata": {},
   "source": [
    "    Answer: 0.4."
   ]
  },
  {
   "cell_type": "markdown",
   "metadata": {},
   "source": [
    "**3. Under the Bayesian paradigm, which of the following correctly matches the probabilities with their names?**"
   ]
  },
  {
   "cell_type": "markdown",
   "metadata": {},
   "source": [
    "Answer:\n",
    "\n",
    "- Posterior - $P(M_1 \\text{ is Good} ~|~ \\text{Win on } M_1)$\n",
    "- Prior - $P(M_1 \\text{ is Good})$\n",
    "- Likelihood - $P(\\text{Win on } M_1 ~|~ M_1 \\text{ is Good})$ "
   ]
  },
  {
   "cell_type": "markdown",
   "metadata": {},
   "source": [
    "## Bayesian Updating\n",
    "\n",
    "We have implemented a function for calculating the posterior probability of \n",
    "Machine 1 and Machine 2 being the \"good\" machine after one or more plays of \n",
    "either machine. The function `bandit_posterior` expects a data frame representing \n",
    "your play history that contains two columns, `machine` which records which machine \n",
    "was played (e.g. either a 1 or 2) and `outcome` which records whether you won \n",
    "(`\"W\"`) or lost (`\"L\"`). An optional parameter to `bandit_posterior` is `prior`, \n",
    "a vector of length two that specifies the prior probability of each machine \n",
    "being \"good\".  If left unspecified, equal prior probabilities (0.5, 0.5) are \n",
    "assumed.  We can repeat the calculation from the previous section using the \n",
    "following code in the RStudio Console:"
   ]
  },
  {
   "cell_type": "code",
   "execution_count": 3,
   "metadata": {},
   "outputs": [
    {
     "data": {
      "text/html": [
       "<style>\n",
       ".dl-inline {width: auto; margin:0; padding: 0}\n",
       ".dl-inline>dt, .dl-inline>dd {float: none; width: auto; display: inline-block}\n",
       ".dl-inline>dt::after {content: \":\\0020\"; padding-right: .5ex}\n",
       ".dl-inline>dt:not(:first-of-type) {padding-left: .5ex}\n",
       "</style><dl class=dl-inline><dt>m1_good</dt><dd>0.6</dd><dt>m2_good</dt><dd>0.4</dd></dl>\n"
      ],
      "text/latex": [
       "\\begin{description*}\n",
       "\\item[m1\\textbackslash{}\\_good] 0.6\n",
       "\\item[m2\\textbackslash{}\\_good] 0.4\n",
       "\\end{description*}\n"
      ],
      "text/markdown": [
       "m1_good\n",
       ":   0.6m2_good\n",
       ":   0.4\n",
       "\n"
      ],
      "text/plain": [
       "m1_good m2_good \n",
       "    0.6     0.4 "
      ]
     },
     "metadata": {},
     "output_type": "display_data"
    }
   ],
   "source": [
    "bandit_posterior(data = data.frame(machine = 1, outcome = \"W\"))"
   ]
  },
  {
   "cell_type": "markdown",
   "metadata": {},
   "source": [
    "We can also use this function to calculate the posterior probabilities for \n",
    "additional plays, for example playing Machine 1 twice, first winning and then \n",
    "losing."
   ]
  },
  {
   "cell_type": "code",
   "execution_count": 4,
   "metadata": {},
   "outputs": [
    {
     "data": {
      "text/html": [
       "<style>\n",
       ".dl-inline {width: auto; margin:0; padding: 0}\n",
       ".dl-inline>dt, .dl-inline>dd {float: none; width: auto; display: inline-block}\n",
       ".dl-inline>dt::after {content: \":\\0020\"; padding-right: .5ex}\n",
       ".dl-inline>dt:not(:first-of-type) {padding-left: .5ex}\n",
       "</style><dl class=dl-inline><dt>m1_good</dt><dd>0.529411764705882</dd><dt>m2_good</dt><dd>0.470588235294118</dd></dl>\n"
      ],
      "text/latex": [
       "\\begin{description*}\n",
       "\\item[m1\\textbackslash{}\\_good] 0.529411764705882\n",
       "\\item[m2\\textbackslash{}\\_good] 0.470588235294118\n",
       "\\end{description*}\n"
      ],
      "text/markdown": [
       "m1_good\n",
       ":   0.529411764705882m2_good\n",
       ":   0.470588235294118\n",
       "\n"
      ],
      "text/plain": [
       "  m1_good   m2_good \n",
       "0.5294118 0.4705882 "
      ]
     },
     "metadata": {},
     "output_type": "display_data"
    }
   ],
   "source": [
    "bandit_posterior(data = data.frame(machine = c(1,1), outcome = c(\"W\",\"L\")))"
   ]
  },
  {
   "cell_type": "markdown",
   "metadata": {},
   "source": [
    "We have discussed how the Bayesian approach allows for updating procedures where \n",
    "for each new data observation we are able to use the previous posterior \n",
    "probabilities as our new prior probabilities and thereby simplify the calculation \n",
    "(e.g. multiple simple updates can be used instead of one single large calculation). \n",
    "We can explore this process by **chaining** multiple calls to `bandit_posterior` \n",
    "together using `%>%`. With `prior = .` in the next call of `bandit_posterior`, \n",
    "we use the returned posterior values as the prior."
   ]
  },
  {
   "cell_type": "code",
   "execution_count": 5,
   "metadata": {},
   "outputs": [],
   "source": [
    "# Initiate the two plays on Machine 1\n",
    "data1 <- data.frame(machine = c(1), outcome = c(\"W\"))\n",
    "data2 <- data.frame(machine = c(1), outcome = c(\"L\"))"
   ]
  },
  {
   "cell_type": "code",
   "execution_count": 6,
   "metadata": {},
   "outputs": [
    {
     "data": {
      "text/html": [
       "<style>\n",
       ".dl-inline {width: auto; margin:0; padding: 0}\n",
       ".dl-inline>dt, .dl-inline>dd {float: none; width: auto; display: inline-block}\n",
       ".dl-inline>dt::after {content: \":\\0020\"; padding-right: .5ex}\n",
       ".dl-inline>dt:not(:first-of-type) {padding-left: .5ex}\n",
       "</style><dl class=dl-inline><dt>m1_good</dt><dd>0.529411764705882</dd><dt>m2_good</dt><dd>0.470588235294118</dd></dl>\n"
      ],
      "text/latex": [
       "\\begin{description*}\n",
       "\\item[m1\\textbackslash{}\\_good] 0.529411764705882\n",
       "\\item[m2\\textbackslash{}\\_good] 0.470588235294118\n",
       "\\end{description*}\n"
      ],
      "text/markdown": [
       "m1_good\n",
       ":   0.529411764705882m2_good\n",
       ":   0.470588235294118\n",
       "\n"
      ],
      "text/plain": [
       "  m1_good   m2_good \n",
       "0.5294118 0.4705882 "
      ]
     },
     "metadata": {},
     "output_type": "display_data"
    }
   ],
   "source": [
    "# Use piping and bandit_posterior to calculuate the posterior probabilities after each play\n",
    "bandit_posterior(data1) %>% \n",
    "      bandit_posterior(data2, prior = .)"
   ]
  },
  {
   "cell_type": "markdown",
   "metadata": {},
   "source": [
    "Note that this exactly matches the probabilities we calculated when we provided the outcome of two plays all at once.\n",
    "\n",
    "**4. Use the `bandit_posterior` function to calculate the posterior probabilities of Machine 1 and 2 being \"good\" after playing Machine 1 twice and winning both times, and then playing Machine 2 three times with 2 wins then 1 loss.**"
   ]
  },
  {
   "cell_type": "code",
   "execution_count": 7,
   "metadata": {},
   "outputs": [
    {
     "data": {
      "text/html": [
       "<style>\n",
       ".dl-inline {width: auto; margin:0; padding: 0}\n",
       ".dl-inline>dt, .dl-inline>dd {float: none; width: auto; display: inline-block}\n",
       ".dl-inline>dt::after {content: \":\\0020\"; padding-right: .5ex}\n",
       ".dl-inline>dt:not(:first-of-type) {padding-left: .5ex}\n",
       "</style><dl class=dl-inline><dt>m1_good</dt><dd>0.571428571428571</dd><dt>m2_good</dt><dd>0.428571428571428</dd></dl>\n"
      ],
      "text/latex": [
       "\\begin{description*}\n",
       "\\item[m1\\textbackslash{}\\_good] 0.571428571428571\n",
       "\\item[m2\\textbackslash{}\\_good] 0.428571428571428\n",
       "\\end{description*}\n"
      ],
      "text/markdown": [
       "m1_good\n",
       ":   0.571428571428571m2_good\n",
       ":   0.428571428571428\n",
       "\n"
      ],
      "text/plain": [
       "  m1_good   m2_good \n",
       "0.5714286 0.4285714 "
      ]
     },
     "metadata": {},
     "output_type": "display_data"
    }
   ],
   "source": [
    "data3 = data.frame(machine = c(1L, 1L, 2L, 2L, 2L), outcome = c(\"W\", \"W\", \"W\", \"W\", \"L\"))\n",
    "\n",
    "bandit_posterior(data3)"
   ]
  },
  {
   "cell_type": "markdown",
   "metadata": {},
   "source": [
    "Answer:\n",
    "* $P(M_1\\text{ is good}~|~\\text{data}) = 0.571$, <br/> $P(M_2\\text{ is good}~|~\\text{data}) = 0.429$"
   ]
  },
  {
   "cell_type": "markdown",
   "metadata": {},
   "source": [
    "**5. What would the posterior probabilities be if we had instead played Machine 2 \n",
    "first, playing three times with 2 wins and 1 loss, and then playing Machine 1 \n",
    "twice and winning both times?**"
   ]
  },
  {
   "cell_type": "code",
   "execution_count": 8,
   "metadata": {},
   "outputs": [
    {
     "data": {
      "text/html": [
       "<style>\n",
       ".dl-inline {width: auto; margin:0; padding: 0}\n",
       ".dl-inline>dt, .dl-inline>dd {float: none; width: auto; display: inline-block}\n",
       ".dl-inline>dt::after {content: \":\\0020\"; padding-right: .5ex}\n",
       ".dl-inline>dt:not(:first-of-type) {padding-left: .5ex}\n",
       "</style><dl class=dl-inline><dt>m1_good</dt><dd>0.571428571428571</dd><dt>m2_good</dt><dd>0.428571428571428</dd></dl>\n"
      ],
      "text/latex": [
       "\\begin{description*}\n",
       "\\item[m1\\textbackslash{}\\_good] 0.571428571428571\n",
       "\\item[m2\\textbackslash{}\\_good] 0.428571428571428\n",
       "\\end{description*}\n"
      ],
      "text/markdown": [
       "m1_good\n",
       ":   0.571428571428571m2_good\n",
       ":   0.428571428571428\n",
       "\n"
      ],
      "text/plain": [
       "  m1_good   m2_good \n",
       "0.5714286 0.4285714 "
      ]
     },
     "metadata": {},
     "output_type": "display_data"
    }
   ],
   "source": [
    "data4 = data.frame(machine = c(2L, 2L, 2L, 1L, 1L), outcome = c(\"W\", \"W\", \"L\", \"W\", \"W\"))\n",
    "\n",
    "bandit_posterior(data4)"
   ]
  },
  {
   "cell_type": "markdown",
   "metadata": {},
   "source": [
    "Answer:\n",
    "- $P(M_1\\text{ is good}~|~\\text{data}) = 0.571$,\n",
    "- $P(M_2\\text{ is good}~|~\\text{data}) = 0.429$ "
   ]
  },
  {
   "cell_type": "markdown",
   "metadata": {},
   "source": [
    "**Exercise:** Confirm the updating property we just discussed by connecting together two calls of `bandit_posterior`, the first of which calculates the posterior probability for the first two plays on Machine 1. The second call should use these values as its prior and then calculate a new posterior using the data from the subsequent three plays on Machine 2."
   ]
  },
  {
   "cell_type": "markdown",
   "metadata": {},
   "source": [
    "## Back to the Bandits\n",
    "\n",
    "You may have notice that if you click on the Data tab in the middle of the App \n",
    "above you are given code for a data frame that represents the results of your \n",
    "plays within the machine. \n",
    "\n",
    "\n",
    "**Exercise**: Use this data frame with the `bandit_posterior` function to \n",
    "calculate the exact posterior probability of each machine being \"good\". Do these \n",
    "probabilities match with your intuition about which machine was good? "
   ]
  },
  {
   "cell_type": "markdown",
   "metadata": {},
   "source": [
    "Reset the simulation and then play at least *50* times. Suppose you pause after \n",
    "every 10 plays and record the results of that 10 plays, that is, subset the data \n",
    "into `data[1:10]`, `data[11:20]` and so on to represent the results of each 10 \n",
    "plays. Then use the chaining method we discussed earlier to **update** the \n",
    "posterior probability **sequentially** after we have finished the next 10 plays. \n",
    "Observe how the posterior probability changes as more plays are made."
   ]
  },
  {
   "cell_type": "markdown",
   "metadata": {},
   "source": [
    "We can visualize how these posterior probabilities update using the `plot_bandit_posterior` function. This function calculates and plots the posterior probability after each play. Here is an example to visualize the posterior probability of the two machines."
   ]
  },
  {
   "cell_type": "code",
   "execution_count": 9,
   "metadata": {},
   "outputs": [],
   "source": [
    "# Store play results for each Machine into `data`\n",
    "\n",
    "data <- data.frame(machine = c(rep(1, 20), rep(2, 20)),\n",
    "                  outcome = c(\"L\", \"W\", \"W\", \"W\", \"L\", \"L\", \"L\", \"W\", \"W\", \"L\", \n",
    "                              \"L\", \"W\", \"W\", \"W\", \"W\", \"L\", \"W\", \"L\", \"L\", \"L\", \n",
    "                              \"W\", \"L\", \"L\", \"W\", \"L\", \"L\", \"L\", \"W\", \"L\", \"W\", \n",
    "                              \"L\", \"L\", \"W\", \"L\", \"L\", \"L\", \"W\", \"W\", \"L\", \"W\"))"
   ]
  },
  {
   "cell_type": "code",
   "execution_count": 10,
   "metadata": {},
   "outputs": [
    {
     "data": {
      "image/png": "[encoded data removed]",
      "text/plain": [
       "plot without title"
      ]
     },
     "metadata": {
      "image/png": {
       "height": 420,
       "width": 420
      },
      "text/plain": {
       "height": 420,
       "width": 420
      }
     },
     "output_type": "display_data"
    }
   ],
   "source": [
    "# Calculate posterior probabilities after each play and plot the result \n",
    "plot_bandit_posterior(data)"
   ]
  },
  {
   "cell_type": "markdown",
   "metadata": {},
   "source": [
    "\n",
    "From the plot generated in the example above, we can see that the posterior probabilities for Machine 1 and Machine 2 mirror each other. Why will this happen?\n",
    "\n",
    "* $P(M_1~|~\\text{data})$ and $P(M_2~|~\\text{data})$ are complementary\n",
    "* Machine 1 and Machine 2 being \"good\" are mutually exclusive events\n",
    "* **Both of the above**"
   ]
  }
 ],
 "metadata": {
  "kernelspec": {
   "display_name": "R",
   "language": "R",
   "name": "ir"
  },
  "language_info": {
   "codemirror_mode": "r",
   "file_extension": ".r",
   "mimetype": "text/x-r-source",
   "name": "R",
   "pygments_lexer": "r",
   "version": "3.6.3"
  }
 },
 "nbformat": 4,
 "nbformat_minor": 4
}
