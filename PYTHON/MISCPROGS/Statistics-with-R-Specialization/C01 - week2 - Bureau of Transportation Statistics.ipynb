{
 "cells": [
  {
   "cell_type": "markdown",
   "metadata": {},
   "source": [
    "# Bureau of Transportation Statistics"
   ]
  },
  {
   "cell_type": "markdown",
   "metadata": {},
   "source": [
    "<img src=\"images/flybynight.jpg\"/>"
   ]
  },
  {
   "cell_type": "markdown",
   "metadata": {},
   "source": [
    "The [Bureau of Transportation Statistics](http://www.rita.dot.gov/bts/about/) \n",
    "(BTS) is a statistical agency that is a part of the Research and Innovative \n",
    "Technology Administration (RITA). As its name implies, BTS collects and makes \n",
    "available transportation data, such as the flights data we will be working with \n",
    "in this lab."
   ]
  },
  {
   "cell_type": "markdown",
   "metadata": {},
   "source": [
    "- `year`, `month`, `day`: Date of departure\n",
    "- `dep_time`, `arr_time`: Departure and arrival times, local timezone.\n",
    "- `dep_delay`, `arr_delay`: Departure and arrival delays, in minutes. Negative times represent early departures/arrivals.\n",
    "- `carrier`: Two letter carrier abbreviation.\n",
    "    + `9E`:           Endeavor Air Inc.\n",
    "    + `AA`:      American Airlines Inc.\n",
    "    + `AS`:        Alaska Airlines Inc.\n",
    "    + `B6`:             JetBlue Airways\n",
    "    + `DL`:        Delta Air Lines Inc.\n",
    "    + `EV`:    ExpressJet Airlines Inc.\n",
    "    + `F9`:      Frontier Airlines Inc.\n",
    "    + `FL`: AirTran Airways Corporation\n",
    "    + `HA`:      Hawaiian Airlines Inc.\n",
    "    + `MQ`:                   Envoy Air\n",
    "    + `OO`:       SkyWest Airlines Inc.\n",
    "    + `UA`:       United Air Lines Inc.\n",
    "    + `US`:             US Airways Inc.\n",
    "    + `VX`:              Virgin America\n",
    "    + `WN`:      Southwest Airlines Co.\n",
    "    + `YV`:          Mesa Airlines Inc.\n",
    "- `tailnum`: Plane tail number\n",
    "- `flight`: Flight number\n",
    "- `origin`, `dest`: Airport codes for origin and destination. (Google can help\n",
    "you with what code stands for which airport.)\n",
    "- `air_time`: Amount of time spent in the air, in minutes.\n",
    "- `distance`: Distance flown, in miles.\n",
    "- `hour`, `minute`: Time of departure broken in to hour and minutes."
   ]
  },
  {
   "cell_type": "markdown",
   "metadata": {},
   "source": [
    "### Libraries"
   ]
  },
  {
   "cell_type": "code",
   "execution_count": 1,
   "metadata": {},
   "outputs": [
    {
     "name": "stderr",
     "output_type": "stream",
     "text": [
      "\n",
      "Attaching package: 'dplyr'\n",
      "\n",
      "\n",
      "The following objects are masked from 'package:stats':\n",
      "\n",
      "    filter, lag\n",
      "\n",
      "\n",
      "The following objects are masked from 'package:base':\n",
      "\n",
      "    intersect, setdiff, setequal, union\n",
      "\n",
      "\n"
     ]
    }
   ],
   "source": [
    "#install.packages(\"dplyr\")\n",
    "library(dplyr) # for data wrangling\n",
    "\n",
    "#install.packages(\"ggplot2\")\n",
    "library(ggplot2) # for data visualization\n",
    "\n",
    "#install.packages(\"statsr\")\n",
    "library(statsr) # for data files and functions used in this course"
   ]
  },
  {
   "cell_type": "markdown",
   "metadata": {},
   "source": [
    "### Load Data"
   ]
  },
  {
   "cell_type": "code",
   "execution_count": 2,
   "metadata": {},
   "outputs": [
    {
     "data": {
      "text/html": [
       "<table>\n",
       "<caption>A tibble: 6 × 16</caption>\n",
       "<thead>\n",
       "\t<tr><th scope=col>year</th><th scope=col>month</th><th scope=col>day</th><th scope=col>dep_time</th><th scope=col>dep_delay</th><th scope=col>arr_time</th><th scope=col>arr_delay</th><th scope=col>carrier</th><th scope=col>tailnum</th><th scope=col>flight</th><th scope=col>origin</th><th scope=col>dest</th><th scope=col>air_time</th><th scope=col>distance</th><th scope=col>hour</th><th scope=col>minute</th></tr>\n",
       "\t<tr><th scope=col>&lt;int&gt;</th><th scope=col>&lt;int&gt;</th><th scope=col>&lt;int&gt;</th><th scope=col>&lt;int&gt;</th><th scope=col>&lt;dbl&gt;</th><th scope=col>&lt;int&gt;</th><th scope=col>&lt;dbl&gt;</th><th scope=col>&lt;chr&gt;</th><th scope=col>&lt;chr&gt;</th><th scope=col>&lt;int&gt;</th><th scope=col>&lt;chr&gt;</th><th scope=col>&lt;chr&gt;</th><th scope=col>&lt;dbl&gt;</th><th scope=col>&lt;dbl&gt;</th><th scope=col>&lt;dbl&gt;</th><th scope=col>&lt;dbl&gt;</th></tr>\n",
       "</thead>\n",
       "<tbody>\n",
       "\t<tr><td>2013</td><td> 6</td><td>30</td><td> 940</td><td>15</td><td>1216</td><td> -4</td><td>VX</td><td>N626VA</td><td> 407</td><td>JFK</td><td>LAX</td><td>313</td><td>2475</td><td> 9</td><td>40</td></tr>\n",
       "\t<tr><td>2013</td><td> 5</td><td> 7</td><td>1657</td><td>-3</td><td>2104</td><td> 10</td><td>DL</td><td>N3760C</td><td> 329</td><td>JFK</td><td>SJU</td><td>216</td><td>1598</td><td>16</td><td>57</td></tr>\n",
       "\t<tr><td>2013</td><td>12</td><td> 8</td><td> 859</td><td>-1</td><td>1238</td><td> 11</td><td>DL</td><td>N712TW</td><td> 422</td><td>JFK</td><td>LAX</td><td>376</td><td>2475</td><td> 8</td><td>59</td></tr>\n",
       "\t<tr><td>2013</td><td> 5</td><td>14</td><td>1841</td><td>-4</td><td>2122</td><td>-34</td><td>DL</td><td>N914DL</td><td>2391</td><td>JFK</td><td>TPA</td><td>135</td><td>1005</td><td>18</td><td>41</td></tr>\n",
       "\t<tr><td>2013</td><td> 7</td><td>21</td><td>1102</td><td>-3</td><td>1230</td><td> -8</td><td>9E</td><td>N823AY</td><td>3652</td><td>LGA</td><td>ORF</td><td> 50</td><td> 296</td><td>11</td><td> 2</td></tr>\n",
       "\t<tr><td>2013</td><td> 1</td><td> 1</td><td>1817</td><td>-3</td><td>2008</td><td>  3</td><td>AA</td><td>N3AXAA</td><td> 353</td><td>LGA</td><td>ORD</td><td>138</td><td> 733</td><td>18</td><td>17</td></tr>\n",
       "</tbody>\n",
       "</table>\n"
      ],
      "text/latex": [
       "A tibble: 6 × 16\n",
       "\\begin{tabular}{llllllllllllllll}\n",
       " year & month & day & dep\\_time & dep\\_delay & arr\\_time & arr\\_delay & carrier & tailnum & flight & origin & dest & air\\_time & distance & hour & minute\\\\\n",
       " <int> & <int> & <int> & <int> & <dbl> & <int> & <dbl> & <chr> & <chr> & <int> & <chr> & <chr> & <dbl> & <dbl> & <dbl> & <dbl>\\\\\n",
       "\\hline\n",
       "\t 2013 &  6 & 30 &  940 & 15 & 1216 &  -4 & VX & N626VA &  407 & JFK & LAX & 313 & 2475 &  9 & 40\\\\\n",
       "\t 2013 &  5 &  7 & 1657 & -3 & 2104 &  10 & DL & N3760C &  329 & JFK & SJU & 216 & 1598 & 16 & 57\\\\\n",
       "\t 2013 & 12 &  8 &  859 & -1 & 1238 &  11 & DL & N712TW &  422 & JFK & LAX & 376 & 2475 &  8 & 59\\\\\n",
       "\t 2013 &  5 & 14 & 1841 & -4 & 2122 & -34 & DL & N914DL & 2391 & JFK & TPA & 135 & 1005 & 18 & 41\\\\\n",
       "\t 2013 &  7 & 21 & 1102 & -3 & 1230 &  -8 & 9E & N823AY & 3652 & LGA & ORF &  50 &  296 & 11 &  2\\\\\n",
       "\t 2013 &  1 &  1 & 1817 & -3 & 2008 &   3 & AA & N3AXAA &  353 & LGA & ORD & 138 &  733 & 18 & 17\\\\\n",
       "\\end{tabular}\n"
      ],
      "text/markdown": [
       "\n",
       "A tibble: 6 × 16\n",
       "\n",
       "| year &lt;int&gt; | month &lt;int&gt; | day &lt;int&gt; | dep_time &lt;int&gt; | dep_delay &lt;dbl&gt; | arr_time &lt;int&gt; | arr_delay &lt;dbl&gt; | carrier &lt;chr&gt; | tailnum &lt;chr&gt; | flight &lt;int&gt; | origin &lt;chr&gt; | dest &lt;chr&gt; | air_time &lt;dbl&gt; | distance &lt;dbl&gt; | hour &lt;dbl&gt; | minute &lt;dbl&gt; |\n",
       "|---|---|---|---|---|---|---|---|---|---|---|---|---|---|---|---|\n",
       "| 2013 |  6 | 30 |  940 | 15 | 1216 |  -4 | VX | N626VA |  407 | JFK | LAX | 313 | 2475 |  9 | 40 |\n",
       "| 2013 |  5 |  7 | 1657 | -3 | 2104 |  10 | DL | N3760C |  329 | JFK | SJU | 216 | 1598 | 16 | 57 |\n",
       "| 2013 | 12 |  8 |  859 | -1 | 1238 |  11 | DL | N712TW |  422 | JFK | LAX | 376 | 2475 |  8 | 59 |\n",
       "| 2013 |  5 | 14 | 1841 | -4 | 2122 | -34 | DL | N914DL | 2391 | JFK | TPA | 135 | 1005 | 18 | 41 |\n",
       "| 2013 |  7 | 21 | 1102 | -3 | 1230 |  -8 | 9E | N823AY | 3652 | LGA | ORF |  50 |  296 | 11 |  2 |\n",
       "| 2013 |  1 |  1 | 1817 | -3 | 2008 |   3 | AA | N3AXAA |  353 | LGA | ORD | 138 |  733 | 18 | 17 |\n",
       "\n"
      ],
      "text/plain": [
       "  year month day dep_time dep_delay arr_time arr_delay carrier tailnum flight\n",
       "1 2013  6    30   940     15        1216      -4       VX      N626VA   407  \n",
       "2 2013  5     7  1657     -3        2104      10       DL      N3760C   329  \n",
       "3 2013 12     8   859     -1        1238      11       DL      N712TW   422  \n",
       "4 2013  5    14  1841     -4        2122     -34       DL      N914DL  2391  \n",
       "5 2013  7    21  1102     -3        1230      -8       9E      N823AY  3652  \n",
       "6 2013  1     1  1817     -3        2008       3       AA      N3AXAA   353  \n",
       "  origin dest air_time distance hour minute\n",
       "1 JFK    LAX  313      2475      9   40    \n",
       "2 JFK    SJU  216      1598     16   57    \n",
       "3 JFK    LAX  376      2475      8   59    \n",
       "4 JFK    TPA  135      1005     18   41    \n",
       "5 LGA    ORF   50       296     11    2    \n",
       "6 LGA    ORD  138       733     18   17    "
      ]
     },
     "metadata": {},
     "output_type": "display_data"
    }
   ],
   "source": [
    "data(nycflights)\n",
    "head(nycflights)"
   ]
  },
  {
   "cell_type": "markdown",
   "metadata": {},
   "source": [
    "### Some Exploration"
   ]
  },
  {
   "cell_type": "code",
   "execution_count": 3,
   "metadata": {},
   "outputs": [
    {
     "name": "stdout",
     "output_type": "stream",
     "text": [
      "tibble [32,735 x 16] (S3: tbl_df/data.frame)\n",
      " $ year     : int [1:32735] 2013 2013 2013 2013 2013 2013 2013 2013 2013 2013 ...\n",
      " $ month    : int [1:32735] 6 5 12 5 7 1 12 8 9 4 ...\n",
      " $ day      : int [1:32735] 30 7 8 14 21 1 9 13 26 30 ...\n",
      " $ dep_time : int [1:32735] 940 1657 859 1841 1102 1817 1259 1920 725 1323 ...\n",
      " $ dep_delay: num [1:32735] 15 -3 -1 -4 -3 -3 14 85 -10 62 ...\n",
      " $ arr_time : int [1:32735] 1216 2104 1238 2122 1230 2008 1617 2032 1027 1549 ...\n",
      " $ arr_delay: num [1:32735] -4 10 11 -34 -8 3 22 71 -8 60 ...\n",
      " $ carrier  : chr [1:32735] \"VX\" \"DL\" \"DL\" \"DL\" ...\n",
      " $ tailnum  : chr [1:32735] \"N626VA\" \"N3760C\" \"N712TW\" \"N914DL\" ...\n",
      " $ flight   : int [1:32735] 407 329 422 2391 3652 353 1428 1407 2279 4162 ...\n",
      " $ origin   : chr [1:32735] \"JFK\" \"JFK\" \"JFK\" \"JFK\" ...\n",
      " $ dest     : chr [1:32735] \"LAX\" \"SJU\" \"LAX\" \"TPA\" ...\n",
      " $ air_time : num [1:32735] 313 216 376 135 50 138 240 48 148 110 ...\n",
      " $ distance : num [1:32735] 2475 1598 2475 1005 296 ...\n",
      " $ hour     : num [1:32735] 9 16 8 18 11 18 12 19 7 13 ...\n",
      " $ minute   : num [1:32735] 40 57 59 41 2 17 59 20 25 23 ...\n"
     ]
    }
   ],
   "source": [
    "str(nycflights)"
   ]
  },
  {
   "cell_type": "code",
   "execution_count": 4,
   "metadata": {},
   "outputs": [
    {
     "data": {
      "text/plain": [
       "      year          month             day           dep_time   \n",
       " Min.   :2013   Min.   : 1.000   Min.   : 1.00   Min.   :   1  \n",
       " 1st Qu.:2013   1st Qu.: 4.000   1st Qu.: 8.00   1st Qu.: 908  \n",
       " Median :2013   Median : 7.000   Median :16.00   Median :1358  \n",
       " Mean   :2013   Mean   : 6.576   Mean   :15.78   Mean   :1349  \n",
       " 3rd Qu.:2013   3rd Qu.:10.000   3rd Qu.:23.00   3rd Qu.:1744  \n",
       " Max.   :2013   Max.   :12.000   Max.   :31.00   Max.   :2400  \n",
       "   dep_delay          arr_time      arr_delay          carrier         \n",
       " Min.   : -21.00   Min.   :   1   Min.   : -73.000   Length:32735      \n",
       " 1st Qu.:  -5.00   1st Qu.:1106   1st Qu.: -17.000   Class :character  \n",
       " Median :  -2.00   Median :1537   Median :  -5.000   Mode  :character  \n",
       " Mean   :  12.71   Mean   :1503   Mean   :   7.101                     \n",
       " 3rd Qu.:  11.00   3rd Qu.:1939   3rd Qu.:  14.000                     \n",
       " Max.   :1301.00   Max.   :2400   Max.   :1272.000                     \n",
       "   tailnum              flight        origin              dest          \n",
       " Length:32735       Min.   :   1   Length:32735       Length:32735      \n",
       " Class :character   1st Qu.: 550   Class :character   Class :character  \n",
       " Mode  :character   Median :1473   Mode  :character   Mode  :character  \n",
       "                    Mean   :1948                                        \n",
       "                    3rd Qu.:3416                                        \n",
       "                    Max.   :6181                                        \n",
       "    air_time        distance         hour           minute     \n",
       " Min.   : 22.0   Min.   :  94   Min.   : 0.00   Min.   : 0.00  \n",
       " 1st Qu.: 82.0   1st Qu.: 502   1st Qu.: 9.00   1st Qu.:16.00  \n",
       " Median :129.0   Median : 888   Median :13.00   Median :32.00  \n",
       " Mean   :150.4   Mean   :1046   Mean   :13.17   Mean   :31.82  \n",
       " 3rd Qu.:191.0   3rd Qu.:1391   3rd Qu.:17.00   3rd Qu.:49.00  \n",
       " Max.   :686.0   Max.   :4983   Max.   :24.00   Max.   :59.00  "
      ]
     },
     "metadata": {},
     "output_type": "display_data"
    }
   ],
   "source": [
    "summary(nycflights)"
   ]
  },
  {
   "cell_type": "markdown",
   "metadata": {},
   "source": [
    "## Analysis"
   ]
  },
  {
   "cell_type": "markdown",
   "metadata": {},
   "source": [
    "### Departure delays in flights to Raleigh-Durham (RDU)"
   ]
  },
  {
   "cell_type": "markdown",
   "metadata": {},
   "source": [
    "We can examine the distribution of departure delays of all flights with a histogram."
   ]
  },
  {
   "cell_type": "code",
   "execution_count": 5,
   "metadata": {},
   "outputs": [
    {
     "name": "stderr",
     "output_type": "stream",
     "text": [
      "`stat_bin()` using `bins = 30`. Pick better value with `binwidth`.\n",
      "\n"
     ]
    },
    {
     "data": {
      "image/png": "[encoded data removed]",
      "text/plain": [
       "plot without title"
      ]
     },
     "metadata": {
      "image/png": {
       "height": 420,
       "width": 420
      },
      "text/plain": {
       "height": 420,
       "width": 420
      }
     },
     "output_type": "display_data"
    }
   ],
   "source": [
    "ggplot(data = nycflights, aes(x = dep_delay)) +\n",
    "  geom_histogram()"
   ]
  },
  {
   "cell_type": "code",
   "execution_count": 6,
   "metadata": {},
   "outputs": [
    {
     "data": {
      "image/png": "[encoded data removed]",
      "text/plain": [
       "plot without title"
      ]
     },
     "metadata": {
      "image/png": {
       "height": 420,
       "width": 420
      },
      "text/plain": {
       "height": 420,
       "width": 420
      }
     },
     "output_type": "display_data"
    }
   ],
   "source": [
    "ggplot(data = nycflights, aes(x = dep_delay)) +\n",
    "  geom_histogram(binwidth = 15)\n",
    "\n",
    "# Alternative:\n",
    "# qplot(x = dep_delay, data = nycflights, geom = \"histogram\", binwidth = 15)"
   ]
  },
  {
   "cell_type": "code",
   "execution_count": 7,
   "metadata": {},
   "outputs": [
    {
     "data": {
      "image/png": "[encoded data removed]",
      "text/plain": [
       "plot without title"
      ]
     },
     "metadata": {
      "image/png": {
       "height": 420,
       "width": 420
      },
      "text/plain": {
       "height": 420,
       "width": 420
      }
     },
     "output_type": "display_data"
    }
   ],
   "source": [
    "ggplot(data = nycflights, aes(x = dep_delay)) +\n",
    "  geom_histogram(binwidth = 150)"
   ]
  },
  {
   "cell_type": "markdown",
   "metadata": {},
   "source": [
    "If we want to focus on departure delays of flights headed to RDU only, we need to first `filter` the data for flights headed to RDU (`dest == \"RDU\"`) and then make a histogram of only departure delays of only those flights."
   ]
  },
  {
   "cell_type": "code",
   "execution_count": 8,
   "metadata": {},
   "outputs": [
    {
     "data": {
      "text/html": [
       "<table>\n",
       "<caption>A tibble: 6 × 16</caption>\n",
       "<thead>\n",
       "\t<tr><th scope=col>year</th><th scope=col>month</th><th scope=col>day</th><th scope=col>dep_time</th><th scope=col>dep_delay</th><th scope=col>arr_time</th><th scope=col>arr_delay</th><th scope=col>carrier</th><th scope=col>tailnum</th><th scope=col>flight</th><th scope=col>origin</th><th scope=col>dest</th><th scope=col>air_time</th><th scope=col>distance</th><th scope=col>hour</th><th scope=col>minute</th></tr>\n",
       "\t<tr><th scope=col>&lt;int&gt;</th><th scope=col>&lt;int&gt;</th><th scope=col>&lt;int&gt;</th><th scope=col>&lt;int&gt;</th><th scope=col>&lt;dbl&gt;</th><th scope=col>&lt;int&gt;</th><th scope=col>&lt;dbl&gt;</th><th scope=col>&lt;chr&gt;</th><th scope=col>&lt;chr&gt;</th><th scope=col>&lt;int&gt;</th><th scope=col>&lt;chr&gt;</th><th scope=col>&lt;chr&gt;</th><th scope=col>&lt;dbl&gt;</th><th scope=col>&lt;dbl&gt;</th><th scope=col>&lt;dbl&gt;</th><th scope=col>&lt;dbl&gt;</th></tr>\n",
       "</thead>\n",
       "<tbody>\n",
       "\t<tr><td>2013</td><td> 6</td><td>20</td><td>1729</td><td>23</td><td>1903</td><td> 15</td><td>EV</td><td>N27962</td><td>5977</td><td>EWR</td><td>RDU</td><td> 68</td><td>416</td><td>17</td><td>29</td></tr>\n",
       "\t<tr><td>2013</td><td> 5</td><td> 5</td><td>1503</td><td>13</td><td>1650</td><td> 15</td><td>MQ</td><td>N827MQ</td><td>4403</td><td>JFK</td><td>RDU</td><td> 76</td><td>427</td><td>15</td><td> 3</td></tr>\n",
       "\t<tr><td>2013</td><td>11</td><td>10</td><td>1907</td><td> 7</td><td>2053</td><td> 13</td><td>MQ</td><td>N857MQ</td><td>3591</td><td>LGA</td><td>RDU</td><td> 68</td><td>431</td><td>19</td><td> 7</td></tr>\n",
       "\t<tr><td>2013</td><td> 3</td><td> 3</td><td>1505</td><td>15</td><td>1641</td><td>  1</td><td>MQ</td><td>N835MQ</td><td>4403</td><td>JFK</td><td>RDU</td><td> 68</td><td>427</td><td>15</td><td> 5</td></tr>\n",
       "\t<tr><td>2013</td><td>10</td><td>25</td><td> 749</td><td>-6</td><td> 916</td><td>-19</td><td>MQ</td><td>N821MQ</td><td>3363</td><td>JFK</td><td>RDU</td><td> 68</td><td>427</td><td> 7</td><td>49</td></tr>\n",
       "\t<tr><td>2013</td><td>12</td><td>10</td><td>1521</td><td>26</td><td>1801</td><td> 71</td><td>MQ</td><td>N845MQ</td><td>3359</td><td>JFK</td><td>RDU</td><td>108</td><td>427</td><td>15</td><td>21</td></tr>\n",
       "</tbody>\n",
       "</table>\n"
      ],
      "text/latex": [
       "A tibble: 6 × 16\n",
       "\\begin{tabular}{llllllllllllllll}\n",
       " year & month & day & dep\\_time & dep\\_delay & arr\\_time & arr\\_delay & carrier & tailnum & flight & origin & dest & air\\_time & distance & hour & minute\\\\\n",
       " <int> & <int> & <int> & <int> & <dbl> & <int> & <dbl> & <chr> & <chr> & <int> & <chr> & <chr> & <dbl> & <dbl> & <dbl> & <dbl>\\\\\n",
       "\\hline\n",
       "\t 2013 &  6 & 20 & 1729 & 23 & 1903 &  15 & EV & N27962 & 5977 & EWR & RDU &  68 & 416 & 17 & 29\\\\\n",
       "\t 2013 &  5 &  5 & 1503 & 13 & 1650 &  15 & MQ & N827MQ & 4403 & JFK & RDU &  76 & 427 & 15 &  3\\\\\n",
       "\t 2013 & 11 & 10 & 1907 &  7 & 2053 &  13 & MQ & N857MQ & 3591 & LGA & RDU &  68 & 431 & 19 &  7\\\\\n",
       "\t 2013 &  3 &  3 & 1505 & 15 & 1641 &   1 & MQ & N835MQ & 4403 & JFK & RDU &  68 & 427 & 15 &  5\\\\\n",
       "\t 2013 & 10 & 25 &  749 & -6 &  916 & -19 & MQ & N821MQ & 3363 & JFK & RDU &  68 & 427 &  7 & 49\\\\\n",
       "\t 2013 & 12 & 10 & 1521 & 26 & 1801 &  71 & MQ & N845MQ & 3359 & JFK & RDU & 108 & 427 & 15 & 21\\\\\n",
       "\\end{tabular}\n"
      ],
      "text/markdown": [
       "\n",
       "A tibble: 6 × 16\n",
       "\n",
       "| year &lt;int&gt; | month &lt;int&gt; | day &lt;int&gt; | dep_time &lt;int&gt; | dep_delay &lt;dbl&gt; | arr_time &lt;int&gt; | arr_delay &lt;dbl&gt; | carrier &lt;chr&gt; | tailnum &lt;chr&gt; | flight &lt;int&gt; | origin &lt;chr&gt; | dest &lt;chr&gt; | air_time &lt;dbl&gt; | distance &lt;dbl&gt; | hour &lt;dbl&gt; | minute &lt;dbl&gt; |\n",
       "|---|---|---|---|---|---|---|---|---|---|---|---|---|---|---|---|\n",
       "| 2013 |  6 | 20 | 1729 | 23 | 1903 |  15 | EV | N27962 | 5977 | EWR | RDU |  68 | 416 | 17 | 29 |\n",
       "| 2013 |  5 |  5 | 1503 | 13 | 1650 |  15 | MQ | N827MQ | 4403 | JFK | RDU |  76 | 427 | 15 |  3 |\n",
       "| 2013 | 11 | 10 | 1907 |  7 | 2053 |  13 | MQ | N857MQ | 3591 | LGA | RDU |  68 | 431 | 19 |  7 |\n",
       "| 2013 |  3 |  3 | 1505 | 15 | 1641 |   1 | MQ | N835MQ | 4403 | JFK | RDU |  68 | 427 | 15 |  5 |\n",
       "| 2013 | 10 | 25 |  749 | -6 |  916 | -19 | MQ | N821MQ | 3363 | JFK | RDU |  68 | 427 |  7 | 49 |\n",
       "| 2013 | 12 | 10 | 1521 | 26 | 1801 |  71 | MQ | N845MQ | 3359 | JFK | RDU | 108 | 427 | 15 | 21 |\n",
       "\n"
      ],
      "text/plain": [
       "  year month day dep_time dep_delay arr_time arr_delay carrier tailnum flight\n",
       "1 2013  6    20  1729     23        1903      15       EV      N27962  5977  \n",
       "2 2013  5     5  1503     13        1650      15       MQ      N827MQ  4403  \n",
       "3 2013 11    10  1907      7        2053      13       MQ      N857MQ  3591  \n",
       "4 2013  3     3  1505     15        1641       1       MQ      N835MQ  4403  \n",
       "5 2013 10    25   749     -6         916     -19       MQ      N821MQ  3363  \n",
       "6 2013 12    10  1521     26        1801      71       MQ      N845MQ  3359  \n",
       "  origin dest air_time distance hour minute\n",
       "1 EWR    RDU   68      416      17   29    \n",
       "2 JFK    RDU   76      427      15    3    \n",
       "3 LGA    RDU   68      431      19    7    \n",
       "4 JFK    RDU   68      427      15    5    \n",
       "5 JFK    RDU   68      427       7   49    \n",
       "6 JFK    RDU  108      427      15   21    "
      ]
     },
     "metadata": {},
     "output_type": "display_data"
    }
   ],
   "source": [
    "rdu_flights <- nycflights %>% filter(dest == \"RDU\")\n",
    "head(rdu_flights)"
   ]
  },
  {
   "cell_type": "code",
   "execution_count": 9,
   "metadata": {},
   "outputs": [
    {
     "data": {
      "image/png": "[encoded data removed]",
      "text/plain": [
       "plot without title"
      ]
     },
     "metadata": {
      "image/png": {
       "height": 420,
       "width": 420
      },
      "text/plain": {
       "height": 420,
       "width": 420
      }
     },
     "output_type": "display_data"
    }
   ],
   "source": [
    "ggplot(data = rdu_flights, aes(x = dep_delay)) +\n",
    "  geom_histogram(binwidth = 30)"
   ]
  },
  {
   "cell_type": "markdown",
   "metadata": {},
   "source": [
    "We can also obtain numerical summaries for these flights:"
   ]
  },
  {
   "cell_type": "code",
   "execution_count": 10,
   "metadata": {},
   "outputs": [
    {
     "data": {
      "text/html": [
       "11.6991260923845"
      ],
      "text/latex": [
       "11.6991260923845"
      ],
      "text/markdown": [
       "11.6991260923845"
      ],
      "text/plain": [
       "[1] 11.69913"
      ]
     },
     "metadata": {},
     "output_type": "display_data"
    }
   ],
   "source": [
    "mean(rdu_flights$dep_delay)"
   ]
  },
  {
   "cell_type": "code",
   "execution_count": 11,
   "metadata": {},
   "outputs": [
    {
     "data": {
      "text/html": [
       "35.5556691926243"
      ],
      "text/latex": [
       "35.5556691926243"
      ],
      "text/markdown": [
       "35.5556691926243"
      ],
      "text/plain": [
       "[1] 35.55567"
      ]
     },
     "metadata": {},
     "output_type": "display_data"
    }
   ],
   "source": [
    "sd(rdu_flights$dep_delay)"
   ]
  },
  {
   "cell_type": "code",
   "execution_count": 12,
   "metadata": {},
   "outputs": [
    {
     "data": {
      "text/html": [
       "<table>\n",
       "<caption>A tibble: 1 × 3</caption>\n",
       "<thead>\n",
       "\t<tr><th scope=col>mean_dd</th><th scope=col>sd_dd</th><th scope=col>n</th></tr>\n",
       "\t<tr><th scope=col>&lt;dbl&gt;</th><th scope=col>&lt;dbl&gt;</th><th scope=col>&lt;int&gt;</th></tr>\n",
       "</thead>\n",
       "<tbody>\n",
       "\t<tr><td>11.69913</td><td>35.55567</td><td>801</td></tr>\n",
       "</tbody>\n",
       "</table>\n"
      ],
      "text/latex": [
       "A tibble: 1 × 3\n",
       "\\begin{tabular}{lll}\n",
       " mean\\_dd & sd\\_dd & n\\\\\n",
       " <dbl> & <dbl> & <int>\\\\\n",
       "\\hline\n",
       "\t 11.69913 & 35.55567 & 801\\\\\n",
       "\\end{tabular}\n"
      ],
      "text/markdown": [
       "\n",
       "A tibble: 1 × 3\n",
       "\n",
       "| mean_dd &lt;dbl&gt; | sd_dd &lt;dbl&gt; | n &lt;int&gt; |\n",
       "|---|---|---|\n",
       "| 11.69913 | 35.55567 | 801 |\n",
       "\n"
      ],
      "text/plain": [
       "  mean_dd  sd_dd    n  \n",
       "1 11.69913 35.55567 801"
      ]
     },
     "metadata": {},
     "output_type": "display_data"
    }
   ],
   "source": [
    "rdu_flights %>%\n",
    "  summarise(mean_dd = mean(dep_delay), sd_dd = sd(dep_delay), n = n())"
   ]
  },
  {
   "cell_type": "markdown",
   "metadata": {},
   "source": [
    "**1) Create a new data frame that includes flights headed to SFO in February, and save this data frame assfo_feb_flights. How many flights meet these criteria?**"
   ]
  },
  {
   "cell_type": "code",
   "execution_count": 13,
   "metadata": {},
   "outputs": [
    {
     "data": {
      "text/html": [
       "<table>\n",
       "<caption>A tibble: 6 × 16</caption>\n",
       "<thead>\n",
       "\t<tr><th scope=col>year</th><th scope=col>month</th><th scope=col>day</th><th scope=col>dep_time</th><th scope=col>dep_delay</th><th scope=col>arr_time</th><th scope=col>arr_delay</th><th scope=col>carrier</th><th scope=col>tailnum</th><th scope=col>flight</th><th scope=col>origin</th><th scope=col>dest</th><th scope=col>air_time</th><th scope=col>distance</th><th scope=col>hour</th><th scope=col>minute</th></tr>\n",
       "\t<tr><th scope=col>&lt;int&gt;</th><th scope=col>&lt;int&gt;</th><th scope=col>&lt;int&gt;</th><th scope=col>&lt;int&gt;</th><th scope=col>&lt;dbl&gt;</th><th scope=col>&lt;int&gt;</th><th scope=col>&lt;dbl&gt;</th><th scope=col>&lt;chr&gt;</th><th scope=col>&lt;chr&gt;</th><th scope=col>&lt;int&gt;</th><th scope=col>&lt;chr&gt;</th><th scope=col>&lt;chr&gt;</th><th scope=col>&lt;dbl&gt;</th><th scope=col>&lt;dbl&gt;</th><th scope=col>&lt;dbl&gt;</th><th scope=col>&lt;dbl&gt;</th></tr>\n",
       "</thead>\n",
       "<tbody>\n",
       "\t<tr><td>2013</td><td>2</td><td>18</td><td>1527</td><td> 57</td><td>1903</td><td> 48</td><td>DL</td><td>N711ZX</td><td>1322</td><td>JFK</td><td>SFO</td><td>358</td><td>2586</td><td>15</td><td>27</td></tr>\n",
       "\t<tr><td>2013</td><td>2</td><td> 3</td><td> 613</td><td> 14</td><td>1008</td><td> 38</td><td>UA</td><td>N502UA</td><td> 691</td><td>JFK</td><td>SFO</td><td>367</td><td>2586</td><td> 6</td><td>13</td></tr>\n",
       "\t<tr><td>2013</td><td>2</td><td>15</td><td> 955</td><td> -5</td><td>1313</td><td>-28</td><td>DL</td><td>N717TW</td><td>1765</td><td>JFK</td><td>SFO</td><td>338</td><td>2586</td><td> 9</td><td>55</td></tr>\n",
       "\t<tr><td>2013</td><td>2</td><td>18</td><td>1928</td><td> 15</td><td>2239</td><td> -6</td><td>UA</td><td>N24212</td><td>1214</td><td>EWR</td><td>SFO</td><td>353</td><td>2565</td><td>19</td><td>28</td></tr>\n",
       "\t<tr><td>2013</td><td>2</td><td>24</td><td>1340</td><td>  2</td><td>1644</td><td>-21</td><td>UA</td><td>N76269</td><td>1111</td><td>EWR</td><td>SFO</td><td>341</td><td>2565</td><td>13</td><td>40</td></tr>\n",
       "\t<tr><td>2013</td><td>2</td><td>25</td><td>1415</td><td>-10</td><td>1737</td><td>-13</td><td>UA</td><td>N532UA</td><td> 394</td><td>JFK</td><td>SFO</td><td>355</td><td>2586</td><td>14</td><td>15</td></tr>\n",
       "</tbody>\n",
       "</table>\n"
      ],
      "text/latex": [
       "A tibble: 6 × 16\n",
       "\\begin{tabular}{llllllllllllllll}\n",
       " year & month & day & dep\\_time & dep\\_delay & arr\\_time & arr\\_delay & carrier & tailnum & flight & origin & dest & air\\_time & distance & hour & minute\\\\\n",
       " <int> & <int> & <int> & <int> & <dbl> & <int> & <dbl> & <chr> & <chr> & <int> & <chr> & <chr> & <dbl> & <dbl> & <dbl> & <dbl>\\\\\n",
       "\\hline\n",
       "\t 2013 & 2 & 18 & 1527 &  57 & 1903 &  48 & DL & N711ZX & 1322 & JFK & SFO & 358 & 2586 & 15 & 27\\\\\n",
       "\t 2013 & 2 &  3 &  613 &  14 & 1008 &  38 & UA & N502UA &  691 & JFK & SFO & 367 & 2586 &  6 & 13\\\\\n",
       "\t 2013 & 2 & 15 &  955 &  -5 & 1313 & -28 & DL & N717TW & 1765 & JFK & SFO & 338 & 2586 &  9 & 55\\\\\n",
       "\t 2013 & 2 & 18 & 1928 &  15 & 2239 &  -6 & UA & N24212 & 1214 & EWR & SFO & 353 & 2565 & 19 & 28\\\\\n",
       "\t 2013 & 2 & 24 & 1340 &   2 & 1644 & -21 & UA & N76269 & 1111 & EWR & SFO & 341 & 2565 & 13 & 40\\\\\n",
       "\t 2013 & 2 & 25 & 1415 & -10 & 1737 & -13 & UA & N532UA &  394 & JFK & SFO & 355 & 2586 & 14 & 15\\\\\n",
       "\\end{tabular}\n"
      ],
      "text/markdown": [
       "\n",
       "A tibble: 6 × 16\n",
       "\n",
       "| year &lt;int&gt; | month &lt;int&gt; | day &lt;int&gt; | dep_time &lt;int&gt; | dep_delay &lt;dbl&gt; | arr_time &lt;int&gt; | arr_delay &lt;dbl&gt; | carrier &lt;chr&gt; | tailnum &lt;chr&gt; | flight &lt;int&gt; | origin &lt;chr&gt; | dest &lt;chr&gt; | air_time &lt;dbl&gt; | distance &lt;dbl&gt; | hour &lt;dbl&gt; | minute &lt;dbl&gt; |\n",
       "|---|---|---|---|---|---|---|---|---|---|---|---|---|---|---|---|\n",
       "| 2013 | 2 | 18 | 1527 |  57 | 1903 |  48 | DL | N711ZX | 1322 | JFK | SFO | 358 | 2586 | 15 | 27 |\n",
       "| 2013 | 2 |  3 |  613 |  14 | 1008 |  38 | UA | N502UA |  691 | JFK | SFO | 367 | 2586 |  6 | 13 |\n",
       "| 2013 | 2 | 15 |  955 |  -5 | 1313 | -28 | DL | N717TW | 1765 | JFK | SFO | 338 | 2586 |  9 | 55 |\n",
       "| 2013 | 2 | 18 | 1928 |  15 | 2239 |  -6 | UA | N24212 | 1214 | EWR | SFO | 353 | 2565 | 19 | 28 |\n",
       "| 2013 | 2 | 24 | 1340 |   2 | 1644 | -21 | UA | N76269 | 1111 | EWR | SFO | 341 | 2565 | 13 | 40 |\n",
       "| 2013 | 2 | 25 | 1415 | -10 | 1737 | -13 | UA | N532UA |  394 | JFK | SFO | 355 | 2586 | 14 | 15 |\n",
       "\n"
      ],
      "text/plain": [
       "  year month day dep_time dep_delay arr_time arr_delay carrier tailnum flight\n",
       "1 2013 2     18  1527      57       1903      48       DL      N711ZX  1322  \n",
       "2 2013 2      3   613      14       1008      38       UA      N502UA   691  \n",
       "3 2013 2     15   955      -5       1313     -28       DL      N717TW  1765  \n",
       "4 2013 2     18  1928      15       2239      -6       UA      N24212  1214  \n",
       "5 2013 2     24  1340       2       1644     -21       UA      N76269  1111  \n",
       "6 2013 2     25  1415     -10       1737     -13       UA      N532UA   394  \n",
       "  origin dest air_time distance hour minute\n",
       "1 JFK    SFO  358      2586     15   27    \n",
       "2 JFK    SFO  367      2586      6   13    \n",
       "3 JFK    SFO  338      2586      9   55    \n",
       "4 EWR    SFO  353      2565     19   28    \n",
       "5 EWR    SFO  341      2565     13   40    \n",
       "6 JFK    SFO  355      2586     14   15    "
      ]
     },
     "metadata": {},
     "output_type": "display_data"
    }
   ],
   "source": [
    "sfo_feb_flights <- nycflights %>% filter(dest == \"SFO\", month == 2)\n",
    "head(sfo_feb_flights)"
   ]
  },
  {
   "cell_type": "code",
   "execution_count": 14,
   "metadata": {},
   "outputs": [
    {
     "data": {
      "text/html": [
       "68"
      ],
      "text/latex": [
       "68"
      ],
      "text/markdown": [
       "68"
      ],
      "text/plain": [
       "[1] 68"
      ]
     },
     "metadata": {},
     "output_type": "display_data"
    }
   ],
   "source": [
    "nrow(sfo_feb_flights)"
   ]
  },
  {
   "cell_type": "markdown",
   "metadata": {},
   "source": [
    "**2) Make a histogram and calculate appropriate summary statistics for arrival delays of sfo_feb_flights. Which of the following is false?**"
   ]
  },
  {
   "cell_type": "code",
   "execution_count": 15,
   "metadata": {},
   "outputs": [
    {
     "data": {
      "image/png": "[encoded data removed]",
      "text/plain": [
       "plot without title"
      ]
     },
     "metadata": {
      "image/png": {
       "height": 420,
       "width": 420
      },
      "text/plain": {
       "height": 420,
       "width": 420
      }
     },
     "output_type": "display_data"
    }
   ],
   "source": [
    "ggplot(data = sfo_feb_flights, mapping = aes(x = arr_delay)) +\n",
    "        geom_histogram(bins = 50)"
   ]
  },
  {
   "cell_type": "code",
   "execution_count": 16,
   "metadata": {},
   "outputs": [
    {
     "data": {
      "image/png": "[encoded data removed]",
      "text/plain": [
       "plot without title"
      ]
     },
     "metadata": {
      "image/png": {
       "height": 420,
       "width": 420
      },
      "text/plain": {
       "height": 420,
       "width": 420
      }
     },
     "output_type": "display_data"
    }
   ],
   "source": [
    "ggplot(data = sfo_feb_flights, mapping = aes(x = arr_delay, y = carrier)) +\n",
    "        geom_point()"
   ]
  },
  {
   "cell_type": "code",
   "execution_count": 17,
   "metadata": {},
   "outputs": [
    {
     "data": {
      "text/plain": [
       "   Min. 1st Qu.  Median    Mean 3rd Qu.    Max. \n",
       " -66.00  -21.25  -11.00   -4.50    2.00  196.00 "
      ]
     },
     "metadata": {},
     "output_type": "display_data"
    }
   ],
   "source": [
    "summary(sfo_feb_flights$arr_delay)"
   ]
  },
  {
   "cell_type": "markdown",
   "metadata": {},
   "source": [
    "Half of the february flights to SFO arrived more than 11 minutes earlier. "
   ]
  },
  {
   "cell_type": "markdown",
   "metadata": {},
   "source": [
    "**3) Calculate the median and interquartile range for arr_delays of flights in the sfo_feb_flights data frame, grouped by carrier. Which carrier has the highest IQR of arrival delays?**"
   ]
  },
  {
   "cell_type": "code",
   "execution_count": 18,
   "metadata": {},
   "outputs": [
    {
     "name": "stderr",
     "output_type": "stream",
     "text": [
      "`summarise()` ungrouping output (override with `.groups` argument)\n",
      "\n"
     ]
    },
    {
     "data": {
      "text/html": [
       "<table>\n",
       "<caption>A tibble: 5 × 4</caption>\n",
       "<thead>\n",
       "\t<tr><th scope=col>carrier</th><th scope=col>median_ad</th><th scope=col>IQR_ad</th><th scope=col>n</th></tr>\n",
       "\t<tr><th scope=col>&lt;chr&gt;</th><th scope=col>&lt;dbl&gt;</th><th scope=col>&lt;dbl&gt;</th><th scope=col>&lt;int&gt;</th></tr>\n",
       "</thead>\n",
       "<tbody>\n",
       "\t<tr><td>AA</td><td>  5.0</td><td>17.50</td><td>10</td></tr>\n",
       "\t<tr><td>B6</td><td>-10.5</td><td>12.25</td><td> 6</td></tr>\n",
       "\t<tr><td>DL</td><td>-15.0</td><td>22.00</td><td>19</td></tr>\n",
       "\t<tr><td>UA</td><td>-10.0</td><td>22.00</td><td>21</td></tr>\n",
       "\t<tr><td>VX</td><td>-22.5</td><td>21.25</td><td>12</td></tr>\n",
       "</tbody>\n",
       "</table>\n"
      ],
      "text/latex": [
       "A tibble: 5 × 4\n",
       "\\begin{tabular}{llll}\n",
       " carrier & median\\_ad & IQR\\_ad & n\\\\\n",
       " <chr> & <dbl> & <dbl> & <int>\\\\\n",
       "\\hline\n",
       "\t AA &   5.0 & 17.50 & 10\\\\\n",
       "\t B6 & -10.5 & 12.25 &  6\\\\\n",
       "\t DL & -15.0 & 22.00 & 19\\\\\n",
       "\t UA & -10.0 & 22.00 & 21\\\\\n",
       "\t VX & -22.5 & 21.25 & 12\\\\\n",
       "\\end{tabular}\n"
      ],
      "text/markdown": [
       "\n",
       "A tibble: 5 × 4\n",
       "\n",
       "| carrier &lt;chr&gt; | median_ad &lt;dbl&gt; | IQR_ad &lt;dbl&gt; | n &lt;int&gt; |\n",
       "|---|---|---|---|\n",
       "| AA |   5.0 | 17.50 | 10 |\n",
       "| B6 | -10.5 | 12.25 |  6 |\n",
       "| DL | -15.0 | 22.00 | 19 |\n",
       "| UA | -10.0 | 22.00 | 21 |\n",
       "| VX | -22.5 | 21.25 | 12 |\n",
       "\n"
      ],
      "text/plain": [
       "  carrier median_ad IQR_ad n \n",
       "1 AA        5.0     17.50  10\n",
       "2 B6      -10.5     12.25   6\n",
       "3 DL      -15.0     22.00  19\n",
       "4 UA      -10.0     22.00  21\n",
       "5 VX      -22.5     21.25  12"
      ]
     },
     "metadata": {},
     "output_type": "display_data"
    }
   ],
   "source": [
    "sfo_feb_flights %>%\n",
    "  group_by(carrier) %>%\n",
    "  summarise(median_ad = median(arr_delay), IQR_ad = IQR(arr_delay), n = n())\n",
    "\n",
    "# Alternative:\n",
    "# by_carrier_sfo_feb_flights <- group_by(sfo_feb_flights, carrier)\n",
    "# summarise(by_carrier_sfo_feb_flights, Median = median(arr_delay), IQR = IQR(arr_delay))"
   ]
  },
  {
   "cell_type": "markdown",
   "metadata": {},
   "source": [
    "United Airlines (UA) and Delta Airlines (DL) have the bigges interquartile rage for arr_delays of flights the sfo_feb_flights data frame."
   ]
  },
  {
   "cell_type": "code",
   "execution_count": 19,
   "metadata": {},
   "outputs": [
    {
     "data": {
      "image/png": "[encoded data removed]",
      "text/plain": [
       "plot without title"
      ]
     },
     "metadata": {
      "image/png": {
       "height": 420,
       "width": 420
      },
      "text/plain": {
       "height": 420,
       "width": 420
      }
     },
     "output_type": "display_data"
    }
   ],
   "source": [
    "ggplot(data = sfo_feb_flights, mapping = aes(x = carrier, y = arr_delay)) +\n",
    "        geom_boxplot()"
   ]
  },
  {
   "cell_type": "markdown",
   "metadata": {},
   "source": [
    "There are big differences of the arrival times by carrier. American Airlines (AA) as the carrier with the worst and Virgin America (VX) with the best arrival times. There are three cases where the arrival time is later than one hour."
   ]
  },
  {
   "cell_type": "markdown",
   "metadata": {},
   "source": [
    "**4) Considering the data from all the NYC airports, which month has the highest average departure delay?**"
   ]
  },
  {
   "cell_type": "code",
   "execution_count": 20,
   "metadata": {},
   "outputs": [
    {
     "name": "stderr",
     "output_type": "stream",
     "text": [
      "`summarise()` ungrouping output (override with `.groups` argument)\n",
      "\n"
     ]
    },
    {
     "data": {
      "text/html": [
       "<table>\n",
       "<caption>A tibble: 12 × 5</caption>\n",
       "<thead>\n",
       "\t<tr><th scope=col>month</th><th scope=col>Mean</th><th scope=col>Median</th><th scope=col>IQR</th><th scope=col>Max</th></tr>\n",
       "\t<tr><th scope=col>&lt;int&gt;</th><th scope=col>&lt;dbl&gt;</th><th scope=col>&lt;dbl&gt;</th><th scope=col>&lt;dbl&gt;</th><th scope=col>&lt;dbl&gt;</th></tr>\n",
       "</thead>\n",
       "<tbody>\n",
       "\t<tr><td> 7</td><td>20.75</td><td> 0</td><td>26</td><td> 392</td></tr>\n",
       "\t<tr><td> 6</td><td>20.35</td><td> 0</td><td>25</td><td> 803</td></tr>\n",
       "\t<tr><td>12</td><td>17.37</td><td> 1</td><td>25</td><td> 849</td></tr>\n",
       "\t<tr><td> 4</td><td>14.55</td><td>-2</td><td>16</td><td> 427</td></tr>\n",
       "\t<tr><td> 3</td><td>13.52</td><td>-1</td><td>17</td><td> 393</td></tr>\n",
       "\t<tr><td> 5</td><td>13.26</td><td>-1</td><td>19</td><td> 351</td></tr>\n",
       "\t<tr><td> 8</td><td>12.62</td><td>-1</td><td>15</td><td> 436</td></tr>\n",
       "\t<tr><td> 2</td><td>10.69</td><td>-2</td><td>15</td><td> 319</td></tr>\n",
       "\t<tr><td> 1</td><td>10.23</td><td>-2</td><td>12</td><td>1301</td></tr>\n",
       "\t<tr><td> 9</td><td> 6.87</td><td>-3</td><td> 8</td><td> 473</td></tr>\n",
       "\t<tr><td>11</td><td> 6.10</td><td>-2</td><td>10</td><td> 413</td></tr>\n",
       "\t<tr><td>10</td><td> 5.88</td><td>-3</td><td> 9</td><td> 272</td></tr>\n",
       "</tbody>\n",
       "</table>\n"
      ],
      "text/latex": [
       "A tibble: 12 × 5\n",
       "\\begin{tabular}{lllll}\n",
       " month & Mean & Median & IQR & Max\\\\\n",
       " <int> & <dbl> & <dbl> & <dbl> & <dbl>\\\\\n",
       "\\hline\n",
       "\t  7 & 20.75 &  0 & 26 &  392\\\\\n",
       "\t  6 & 20.35 &  0 & 25 &  803\\\\\n",
       "\t 12 & 17.37 &  1 & 25 &  849\\\\\n",
       "\t  4 & 14.55 & -2 & 16 &  427\\\\\n",
       "\t  3 & 13.52 & -1 & 17 &  393\\\\\n",
       "\t  5 & 13.26 & -1 & 19 &  351\\\\\n",
       "\t  8 & 12.62 & -1 & 15 &  436\\\\\n",
       "\t  2 & 10.69 & -2 & 15 &  319\\\\\n",
       "\t  1 & 10.23 & -2 & 12 & 1301\\\\\n",
       "\t  9 &  6.87 & -3 &  8 &  473\\\\\n",
       "\t 11 &  6.10 & -2 & 10 &  413\\\\\n",
       "\t 10 &  5.88 & -3 &  9 &  272\\\\\n",
       "\\end{tabular}\n"
      ],
      "text/markdown": [
       "\n",
       "A tibble: 12 × 5\n",
       "\n",
       "| month &lt;int&gt; | Mean &lt;dbl&gt; | Median &lt;dbl&gt; | IQR &lt;dbl&gt; | Max &lt;dbl&gt; |\n",
       "|---|---|---|---|---|\n",
       "|  7 | 20.75 |  0 | 26 |  392 |\n",
       "|  6 | 20.35 |  0 | 25 |  803 |\n",
       "| 12 | 17.37 |  1 | 25 |  849 |\n",
       "|  4 | 14.55 | -2 | 16 |  427 |\n",
       "|  3 | 13.52 | -1 | 17 |  393 |\n",
       "|  5 | 13.26 | -1 | 19 |  351 |\n",
       "|  8 | 12.62 | -1 | 15 |  436 |\n",
       "|  2 | 10.69 | -2 | 15 |  319 |\n",
       "|  1 | 10.23 | -2 | 12 | 1301 |\n",
       "|  9 |  6.87 | -3 |  8 |  473 |\n",
       "| 11 |  6.10 | -2 | 10 |  413 |\n",
       "| 10 |  5.88 | -3 |  9 |  272 |\n",
       "\n"
      ],
      "text/plain": [
       "   month Mean  Median IQR Max \n",
       "1   7    20.75  0     26   392\n",
       "2   6    20.35  0     25   803\n",
       "3  12    17.37  1     25   849\n",
       "4   4    14.55 -2     16   427\n",
       "5   3    13.52 -1     17   393\n",
       "6   5    13.26 -1     19   351\n",
       "7   8    12.62 -1     15   436\n",
       "8   2    10.69 -2     15   319\n",
       "9   1    10.23 -2     12  1301\n",
       "10  9     6.87 -3      8   473\n",
       "11 11     6.10 -2     10   413\n",
       "12 10     5.88 -3      9   272"
      ]
     },
     "metadata": {},
     "output_type": "display_data"
    }
   ],
   "source": [
    "by_month <- group_by(nycflights, month)\n",
    "\n",
    "dep_delay_by_month <- summarise(by_month, \n",
    "                                Mean = round(mean(dep_delay), digits = 2), \n",
    "                                Median = round(median(dep_delay), digits = 2),\n",
    "                                IQR = IQR(dep_delay),\n",
    "                                Max = max(dep_delay))\n",
    "\n",
    "arrange(dep_delay_by_month, desc(Mean))"
   ]
  },
  {
   "cell_type": "markdown",
   "metadata": {},
   "source": [
    "July, followed tightly by June is the month with the highest average delay of flights departing from an NYC airport. A high average mean of delay has also observed in December, suggesting that the problem lies in the number of flights during the Holidays. The months with the lowest average of departure delays are September to November."
   ]
  },
  {
   "cell_type": "markdown",
   "metadata": {},
   "source": [
    "**5) Which month has the highest median departure delay from an NYC airport?**"
   ]
  },
  {
   "cell_type": "code",
   "execution_count": 21,
   "metadata": {},
   "outputs": [
    {
     "data": {
      "text/html": [
       "<table>\n",
       "<caption>A tibble: 12 × 5</caption>\n",
       "<thead>\n",
       "\t<tr><th scope=col>month</th><th scope=col>Mean</th><th scope=col>Median</th><th scope=col>IQR</th><th scope=col>Max</th></tr>\n",
       "\t<tr><th scope=col>&lt;int&gt;</th><th scope=col>&lt;dbl&gt;</th><th scope=col>&lt;dbl&gt;</th><th scope=col>&lt;dbl&gt;</th><th scope=col>&lt;dbl&gt;</th></tr>\n",
       "</thead>\n",
       "<tbody>\n",
       "\t<tr><td>12</td><td>17.37</td><td> 1</td><td>25</td><td> 849</td></tr>\n",
       "\t<tr><td> 6</td><td>20.35</td><td> 0</td><td>25</td><td> 803</td></tr>\n",
       "\t<tr><td> 7</td><td>20.75</td><td> 0</td><td>26</td><td> 392</td></tr>\n",
       "\t<tr><td> 3</td><td>13.52</td><td>-1</td><td>17</td><td> 393</td></tr>\n",
       "\t<tr><td> 5</td><td>13.26</td><td>-1</td><td>19</td><td> 351</td></tr>\n",
       "\t<tr><td> 8</td><td>12.62</td><td>-1</td><td>15</td><td> 436</td></tr>\n",
       "\t<tr><td> 1</td><td>10.23</td><td>-2</td><td>12</td><td>1301</td></tr>\n",
       "\t<tr><td> 2</td><td>10.69</td><td>-2</td><td>15</td><td> 319</td></tr>\n",
       "\t<tr><td> 4</td><td>14.55</td><td>-2</td><td>16</td><td> 427</td></tr>\n",
       "\t<tr><td>11</td><td> 6.10</td><td>-2</td><td>10</td><td> 413</td></tr>\n",
       "\t<tr><td> 9</td><td> 6.87</td><td>-3</td><td> 8</td><td> 473</td></tr>\n",
       "\t<tr><td>10</td><td> 5.88</td><td>-3</td><td> 9</td><td> 272</td></tr>\n",
       "</tbody>\n",
       "</table>\n"
      ],
      "text/latex": [
       "A tibble: 12 × 5\n",
       "\\begin{tabular}{lllll}\n",
       " month & Mean & Median & IQR & Max\\\\\n",
       " <int> & <dbl> & <dbl> & <dbl> & <dbl>\\\\\n",
       "\\hline\n",
       "\t 12 & 17.37 &  1 & 25 &  849\\\\\n",
       "\t  6 & 20.35 &  0 & 25 &  803\\\\\n",
       "\t  7 & 20.75 &  0 & 26 &  392\\\\\n",
       "\t  3 & 13.52 & -1 & 17 &  393\\\\\n",
       "\t  5 & 13.26 & -1 & 19 &  351\\\\\n",
       "\t  8 & 12.62 & -1 & 15 &  436\\\\\n",
       "\t  1 & 10.23 & -2 & 12 & 1301\\\\\n",
       "\t  2 & 10.69 & -2 & 15 &  319\\\\\n",
       "\t  4 & 14.55 & -2 & 16 &  427\\\\\n",
       "\t 11 &  6.10 & -2 & 10 &  413\\\\\n",
       "\t  9 &  6.87 & -3 &  8 &  473\\\\\n",
       "\t 10 &  5.88 & -3 &  9 &  272\\\\\n",
       "\\end{tabular}\n"
      ],
      "text/markdown": [
       "\n",
       "A tibble: 12 × 5\n",
       "\n",
       "| month &lt;int&gt; | Mean &lt;dbl&gt; | Median &lt;dbl&gt; | IQR &lt;dbl&gt; | Max &lt;dbl&gt; |\n",
       "|---|---|---|---|---|\n",
       "| 12 | 17.37 |  1 | 25 |  849 |\n",
       "|  6 | 20.35 |  0 | 25 |  803 |\n",
       "|  7 | 20.75 |  0 | 26 |  392 |\n",
       "|  3 | 13.52 | -1 | 17 |  393 |\n",
       "|  5 | 13.26 | -1 | 19 |  351 |\n",
       "|  8 | 12.62 | -1 | 15 |  436 |\n",
       "|  1 | 10.23 | -2 | 12 | 1301 |\n",
       "|  2 | 10.69 | -2 | 15 |  319 |\n",
       "|  4 | 14.55 | -2 | 16 |  427 |\n",
       "| 11 |  6.10 | -2 | 10 |  413 |\n",
       "|  9 |  6.87 | -3 |  8 |  473 |\n",
       "| 10 |  5.88 | -3 |  9 |  272 |\n",
       "\n"
      ],
      "text/plain": [
       "   month Mean  Median IQR Max \n",
       "1  12    17.37  1     25   849\n",
       "2   6    20.35  0     25   803\n",
       "3   7    20.75  0     26   392\n",
       "4   3    13.52 -1     17   393\n",
       "5   5    13.26 -1     19   351\n",
       "6   8    12.62 -1     15   436\n",
       "7   1    10.23 -2     12  1301\n",
       "8   2    10.69 -2     15   319\n",
       "9   4    14.55 -2     16   427\n",
       "10 11     6.10 -2     10   413\n",
       "11  9     6.87 -3      8   473\n",
       "12 10     5.88 -3      9   272"
      ]
     },
     "metadata": {},
     "output_type": "display_data"
    }
   ],
   "source": [
    "arrange(dep_delay_by_month, desc(Median))"
   ]
  },
  {
   "cell_type": "markdown",
   "metadata": {},
   "source": [
    "Answer: December."
   ]
  },
  {
   "cell_type": "markdown",
   "metadata": {},
   "source": [
    "**6) Is the mean or the median a more reliable measure for deciding which month(s) to avoid flying if you really dislike delayed flights, and why?**"
   ]
  },
  {
   "cell_type": "markdown",
   "metadata": {},
   "source": [
    "Median would be more reliable as the distribuction of delays is skewed."
   ]
  },
  {
   "cell_type": "markdown",
   "metadata": {},
   "source": [
    "**7) If you were selecting an airport simply based on on time departure percentage, which NYC airport would you choose to fly out of?**"
   ]
  },
  {
   "cell_type": "markdown",
   "metadata": {},
   "source": [
    "First classify each flight as “on time” or “delayed”. Less than 5 minutes is basically “on time”. You consider any flight delayed for 5 minutes or of more to be “delayed”."
   ]
  },
  {
   "cell_type": "code",
   "execution_count": 22,
   "metadata": {},
   "outputs": [],
   "source": [
    "nycflightsOT <- nycflights %>% \n",
    "        mutate(ontime = dep_delay < 5)"
   ]
  },
  {
   "cell_type": "markdown",
   "metadata": {},
   "source": [
    "Then group flights by origin airport."
   ]
  },
  {
   "cell_type": "code",
   "execution_count": 23,
   "metadata": {},
   "outputs": [
    {
     "name": "stderr",
     "output_type": "stream",
     "text": [
      "`summarise()` ungrouping output (override with `.groups` argument)\n",
      "\n"
     ]
    },
    {
     "data": {
      "text/html": [
       "<table>\n",
       "<caption>A tibble: 3 × 2</caption>\n",
       "<thead>\n",
       "\t<tr><th scope=col>origin</th><th scope=col>ontime_prop</th></tr>\n",
       "\t<tr><th scope=col>&lt;chr&gt;</th><th scope=col>&lt;dbl&gt;</th></tr>\n",
       "</thead>\n",
       "<tbody>\n",
       "\t<tr><td>LGA</td><td>0.7279229</td></tr>\n",
       "\t<tr><td>JFK</td><td>0.6935854</td></tr>\n",
       "\t<tr><td>EWR</td><td>0.6369892</td></tr>\n",
       "</tbody>\n",
       "</table>\n"
      ],
      "text/latex": [
       "A tibble: 3 × 2\n",
       "\\begin{tabular}{ll}\n",
       " origin & ontime\\_prop\\\\\n",
       " <chr> & <dbl>\\\\\n",
       "\\hline\n",
       "\t LGA & 0.7279229\\\\\n",
       "\t JFK & 0.6935854\\\\\n",
       "\t EWR & 0.6369892\\\\\n",
       "\\end{tabular}\n"
      ],
      "text/markdown": [
       "\n",
       "A tibble: 3 × 2\n",
       "\n",
       "| origin &lt;chr&gt; | ontime_prop &lt;dbl&gt; |\n",
       "|---|---|\n",
       "| LGA | 0.7279229 |\n",
       "| JFK | 0.6935854 |\n",
       "| EWR | 0.6369892 |\n",
       "\n"
      ],
      "text/plain": [
       "  origin ontime_prop\n",
       "1 LGA    0.7279229  \n",
       "2 JFK    0.6935854  \n",
       "3 EWR    0.6369892  "
      ]
     },
     "metadata": {},
     "output_type": "display_data"
    }
   ],
   "source": [
    "nycflightsOT %>% \n",
    "        group_by(origin) %>%\n",
    "        summarise(ontime_prop = sum(ontime == TRUE) / n()) %>%\n",
    "        arrange(desc(ontime_prop))"
   ]
  },
  {
   "cell_type": "markdown",
   "metadata": {},
   "source": [
    "LGA: 73% chance in time; JFK 69% chance in time; EWR 64% chance in time."
   ]
  },
  {
   "cell_type": "code",
   "execution_count": 24,
   "metadata": {},
   "outputs": [
    {
     "name": "stderr",
     "output_type": "stream",
     "text": [
      "ERROR while rich displaying an object: Error in FUN(X[[i]], ...): object 'ontime' not found\n",
      "\n",
      "Traceback:\n",
      "1. FUN(X[[i]], ...)\n",
      "2. tryCatch(withCallingHandlers({\n",
      " .     if (!mime %in% names(repr::mime2repr)) \n",
      " .         stop(\"No repr_* for mimetype \", mime, \" in repr::mime2repr\")\n",
      " .     rpr <- repr::mime2repr[[mime]](obj)\n",
      " .     if (is.null(rpr)) \n",
      " .         return(NULL)\n",
      " .     prepare_content(is.raw(rpr), rpr)\n",
      " . }, error = error_handler), error = outer_handler)\n",
      "3. tryCatchList(expr, classes, parentenv, handlers)\n",
      "4. tryCatchOne(expr, names, parentenv, handlers[[1L]])\n",
      "5. doTryCatch(return(expr), name, parentenv, handler)\n",
      "6. withCallingHandlers({\n",
      " .     if (!mime %in% names(repr::mime2repr)) \n",
      " .         stop(\"No repr_* for mimetype \", mime, \" in repr::mime2repr\")\n",
      " .     rpr <- repr::mime2repr[[mime]](obj)\n",
      " .     if (is.null(rpr)) \n",
      " .         return(NULL)\n",
      " .     prepare_content(is.raw(rpr), rpr)\n",
      " . }, error = error_handler)\n",
      "7. repr::mime2repr[[mime]](obj)\n",
      "8. repr_text.default(obj)\n",
      "9. paste(capture.output(print(obj)), collapse = \"\\n\")\n",
      "10. capture.output(print(obj))\n",
      "11. evalVis(expr)\n",
      "12. withVisible(eval(expr, pf))\n",
      "13. eval(expr, pf)\n",
      "14. eval(expr, pf)\n",
      "15. print(obj)\n",
      "16. print.ggplot(obj)\n",
      "17. ggplot_build(x)\n",
      "18. ggplot_build.ggplot(x)\n",
      "19. by_layer(function(l, d) l$compute_aesthetics(d, plot))\n",
      "20. f(l = layers[[i]], d = data[[i]])\n",
      "21. l$compute_aesthetics(d, plot)\n",
      "22. f(..., self = self)\n",
      "23. scales_add_defaults(plot$scales, data, aesthetics, plot$plot_env)\n",
      "24. lapply(aesthetics[new_aesthetics], eval_tidy, data = data)\n",
      "25. FUN(X[[i]], ...)\n"
     ]
    },
    {
     "data": {
      "image/png": "[encoded data removed]",
      "text/plain": [
       "plot without title"
      ]
     },
     "metadata": {
      "image/png": {
       "height": 420,
       "width": 420
      },
      "text/plain": {
       "height": 420,
       "width": 420
      }
     },
     "output_type": "display_data"
    }
   ],
   "source": [
    "ggplot(nycflights, aes(x = origin, fill = ontime)) +\n",
    "        geom_bar()\n",
    "\n",
    "# Alternative:\n",
    "# qplot(x = origin, fill = dep_type, data = nycflights, geom = \"bar\")"
   ]
  },
  {
   "cell_type": "markdown",
   "metadata": {},
   "source": [
    "**8) Mutate the data frame so that it includes a new variable that contains the average speed, avg_speed traveled by the plane for each journey (in mph). What is the tail number of the plane with the fastest avg_speed?** Hint: Average speed can be calculated as distance divided by number of hours of travel, and note that air_time is given in minutes. If you just want to show the avg_speed and tailnum and none of the other variables, use the select function at the end of your pipe to select just these two variables with select(avg_speed, tailnum). You can google this tail number to find out more about the aircraft."
   ]
  },
  {
   "cell_type": "code",
   "execution_count": 25,
   "metadata": {},
   "outputs": [],
   "source": [
    "nycflights <- nycflights %>%\n",
    "        mutate(avg_speed = distance / (air_time / 60))"
   ]
  },
  {
   "cell_type": "code",
   "execution_count": 26,
   "metadata": {},
   "outputs": [
    {
     "data": {
      "text/html": [
       "<table>\n",
       "<caption>A tibble: 6 × 17</caption>\n",
       "<thead>\n",
       "\t<tr><th scope=col>year</th><th scope=col>month</th><th scope=col>day</th><th scope=col>dep_time</th><th scope=col>dep_delay</th><th scope=col>arr_time</th><th scope=col>arr_delay</th><th scope=col>carrier</th><th scope=col>tailnum</th><th scope=col>flight</th><th scope=col>origin</th><th scope=col>dest</th><th scope=col>air_time</th><th scope=col>distance</th><th scope=col>hour</th><th scope=col>minute</th><th scope=col>avg_speed</th></tr>\n",
       "\t<tr><th scope=col>&lt;int&gt;</th><th scope=col>&lt;int&gt;</th><th scope=col>&lt;int&gt;</th><th scope=col>&lt;int&gt;</th><th scope=col>&lt;dbl&gt;</th><th scope=col>&lt;int&gt;</th><th scope=col>&lt;dbl&gt;</th><th scope=col>&lt;chr&gt;</th><th scope=col>&lt;chr&gt;</th><th scope=col>&lt;int&gt;</th><th scope=col>&lt;chr&gt;</th><th scope=col>&lt;chr&gt;</th><th scope=col>&lt;dbl&gt;</th><th scope=col>&lt;dbl&gt;</th><th scope=col>&lt;dbl&gt;</th><th scope=col>&lt;dbl&gt;</th><th scope=col>&lt;dbl&gt;</th></tr>\n",
       "</thead>\n",
       "<tbody>\n",
       "\t<tr><td>2013</td><td> 5</td><td>25</td><td>1709</td><td>  9</td><td>1923</td><td>-14</td><td>DL</td><td>N666DN</td><td>1499</td><td>LGA</td><td>ATL</td><td> 65</td><td> 762</td><td>17</td><td> 9</td><td>703.3846</td></tr>\n",
       "\t<tr><td>2013</td><td> 2</td><td>21</td><td>2355</td><td> -3</td><td> 412</td><td>-26</td><td>B6</td><td>N779JB</td><td> 707</td><td>JFK</td><td>SJU</td><td>172</td><td>1598</td><td>23</td><td>55</td><td>557.4419</td></tr>\n",
       "\t<tr><td>2013</td><td>11</td><td>16</td><td>2349</td><td>-10</td><td> 402</td><td>-38</td><td>B6</td><td>N571JB</td><td>1503</td><td>JFK</td><td>SJU</td><td>173</td><td>1598</td><td>23</td><td>49</td><td>554.2197</td></tr>\n",
       "\t<tr><td>2013</td><td> 2</td><td>22</td><td> 831</td><td>  4</td><td>1258</td><td>-18</td><td>B6</td><td>N568JB</td><td> 403</td><td>JFK</td><td>SJU</td><td>175</td><td>1598</td><td> 8</td><td>31</td><td>547.8857</td></tr>\n",
       "\t<tr><td>2013</td><td>12</td><td> 5</td><td>1628</td><td> -2</td><td>2045</td><td>-45</td><td>AA</td><td>N5EHAA</td><td>  95</td><td>JFK</td><td>SJU</td><td>175</td><td>1598</td><td>16</td><td>28</td><td>547.8857</td></tr>\n",
       "\t<tr><td>2013</td><td> 3</td><td> 9</td><td>2214</td><td> 79</td><td> 229</td><td> 43</td><td>B6</td><td>N656JB</td><td> 701</td><td>JFK</td><td>SJU</td><td>175</td><td>1598</td><td>22</td><td>14</td><td>547.8857</td></tr>\n",
       "</tbody>\n",
       "</table>\n"
      ],
      "text/latex": [
       "A tibble: 6 × 17\n",
       "\\begin{tabular}{lllllllllllllllll}\n",
       " year & month & day & dep\\_time & dep\\_delay & arr\\_time & arr\\_delay & carrier & tailnum & flight & origin & dest & air\\_time & distance & hour & minute & avg\\_speed\\\\\n",
       " <int> & <int> & <int> & <int> & <dbl> & <int> & <dbl> & <chr> & <chr> & <int> & <chr> & <chr> & <dbl> & <dbl> & <dbl> & <dbl> & <dbl>\\\\\n",
       "\\hline\n",
       "\t 2013 &  5 & 25 & 1709 &   9 & 1923 & -14 & DL & N666DN & 1499 & LGA & ATL &  65 &  762 & 17 &  9 & 703.3846\\\\\n",
       "\t 2013 &  2 & 21 & 2355 &  -3 &  412 & -26 & B6 & N779JB &  707 & JFK & SJU & 172 & 1598 & 23 & 55 & 557.4419\\\\\n",
       "\t 2013 & 11 & 16 & 2349 & -10 &  402 & -38 & B6 & N571JB & 1503 & JFK & SJU & 173 & 1598 & 23 & 49 & 554.2197\\\\\n",
       "\t 2013 &  2 & 22 &  831 &   4 & 1258 & -18 & B6 & N568JB &  403 & JFK & SJU & 175 & 1598 &  8 & 31 & 547.8857\\\\\n",
       "\t 2013 & 12 &  5 & 1628 &  -2 & 2045 & -45 & AA & N5EHAA &   95 & JFK & SJU & 175 & 1598 & 16 & 28 & 547.8857\\\\\n",
       "\t 2013 &  3 &  9 & 2214 &  79 &  229 &  43 & B6 & N656JB &  701 & JFK & SJU & 175 & 1598 & 22 & 14 & 547.8857\\\\\n",
       "\\end{tabular}\n"
      ],
      "text/markdown": [
       "\n",
       "A tibble: 6 × 17\n",
       "\n",
       "| year &lt;int&gt; | month &lt;int&gt; | day &lt;int&gt; | dep_time &lt;int&gt; | dep_delay &lt;dbl&gt; | arr_time &lt;int&gt; | arr_delay &lt;dbl&gt; | carrier &lt;chr&gt; | tailnum &lt;chr&gt; | flight &lt;int&gt; | origin &lt;chr&gt; | dest &lt;chr&gt; | air_time &lt;dbl&gt; | distance &lt;dbl&gt; | hour &lt;dbl&gt; | minute &lt;dbl&gt; | avg_speed &lt;dbl&gt; |\n",
       "|---|---|---|---|---|---|---|---|---|---|---|---|---|---|---|---|---|\n",
       "| 2013 |  5 | 25 | 1709 |   9 | 1923 | -14 | DL | N666DN | 1499 | LGA | ATL |  65 |  762 | 17 |  9 | 703.3846 |\n",
       "| 2013 |  2 | 21 | 2355 |  -3 |  412 | -26 | B6 | N779JB |  707 | JFK | SJU | 172 | 1598 | 23 | 55 | 557.4419 |\n",
       "| 2013 | 11 | 16 | 2349 | -10 |  402 | -38 | B6 | N571JB | 1503 | JFK | SJU | 173 | 1598 | 23 | 49 | 554.2197 |\n",
       "| 2013 |  2 | 22 |  831 |   4 | 1258 | -18 | B6 | N568JB |  403 | JFK | SJU | 175 | 1598 |  8 | 31 | 547.8857 |\n",
       "| 2013 | 12 |  5 | 1628 |  -2 | 2045 | -45 | AA | N5EHAA |   95 | JFK | SJU | 175 | 1598 | 16 | 28 | 547.8857 |\n",
       "| 2013 |  3 |  9 | 2214 |  79 |  229 |  43 | B6 | N656JB |  701 | JFK | SJU | 175 | 1598 | 22 | 14 | 547.8857 |\n",
       "\n"
      ],
      "text/plain": [
       "  year month day dep_time dep_delay arr_time arr_delay carrier tailnum flight\n",
       "1 2013  5    25  1709       9       1923     -14       DL      N666DN  1499  \n",
       "2 2013  2    21  2355      -3        412     -26       B6      N779JB   707  \n",
       "3 2013 11    16  2349     -10        402     -38       B6      N571JB  1503  \n",
       "4 2013  2    22   831       4       1258     -18       B6      N568JB   403  \n",
       "5 2013 12     5  1628      -2       2045     -45       AA      N5EHAA    95  \n",
       "6 2013  3     9  2214      79        229      43       B6      N656JB   701  \n",
       "  origin dest air_time distance hour minute avg_speed\n",
       "1 LGA    ATL   65       762     17    9     703.3846 \n",
       "2 JFK    SJU  172      1598     23   55     557.4419 \n",
       "3 JFK    SJU  173      1598     23   49     554.2197 \n",
       "4 JFK    SJU  175      1598      8   31     547.8857 \n",
       "5 JFK    SJU  175      1598     16   28     547.8857 \n",
       "6 JFK    SJU  175      1598     22   14     547.8857 "
      ]
     },
     "metadata": {},
     "output_type": "display_data"
    }
   ],
   "source": [
    "head(arrange(nycflights, desc(avg_speed)))"
   ]
  },
  {
   "cell_type": "markdown",
   "metadata": {},
   "source": [
    "Answer: N666DN"
   ]
  },
  {
   "cell_type": "markdown",
   "metadata": {},
   "source": [
    "**9) Make a scatterplot of avg_speed vs. distance. Which of the following is true about the relationship between average speed and distance.**"
   ]
  },
  {
   "cell_type": "code",
   "execution_count": 27,
   "metadata": {},
   "outputs": [
    {
     "data": {
      "image/png": "[encoded data removed]",
      "text/plain": [
       "plot without title"
      ]
     },
     "metadata": {
      "image/png": {
       "height": 420,
       "width": 420
      },
      "text/plain": {
       "height": 420,
       "width": 420
      }
     },
     "output_type": "display_data"
    }
   ],
   "source": [
    "ggplot(nycflights, aes(distance, avg_speed )) +\n",
    "        # xlim(0, 2800) +\n",
    "        # ylim(0, 600) +\n",
    "        geom_point()"
   ]
  },
  {
   "cell_type": "markdown",
   "metadata": {},
   "source": [
    "The speed range grows slightly with the distance. The reason could be that with longer distances the start and landing time does not count so heavy as with short distances. There is one execeptional fast flight from LaGuardia to Atlanta. The very far flight distances (the points on the 5.000 miles distance rage) are FROM NYC to Honolulu (HNL), the shortest to Philadelphia (PHL)."
   ]
  },
  {
   "cell_type": "markdown",
   "metadata": {},
   "source": [
    "**10)Suppose you define a flight to be \"on time\" if it gets to the destination on time or earlier than expected, regardless of any departure delays. Mutate the data frame to create a new variable called `arr_type` with levels `\"on time\"` and `\"delayed\"` based on this definition. Then, determine the on time arrival percentage based on whether the flight departed on time or not. What proportion of flights  that were `\"delayed\"` departing arrive `\"on time\"`?**"
   ]
  },
  {
   "cell_type": "code",
   "execution_count": 28,
   "metadata": {},
   "outputs": [
    {
     "data": {
      "text/html": [
       "<table>\n",
       "<caption>A tibble: 1 × 1</caption>\n",
       "<thead>\n",
       "\t<tr><th scope=col>depd_arrot</th></tr>\n",
       "\t<tr><th scope=col>&lt;dbl&gt;</th></tr>\n",
       "</thead>\n",
       "<tbody>\n",
       "\t<tr><td>7.81311e-05</td></tr>\n",
       "</tbody>\n",
       "</table>\n"
      ],
      "text/latex": [
       "A tibble: 1 × 1\n",
       "\\begin{tabular}{l}\n",
       " depd\\_arrot\\\\\n",
       " <dbl>\\\\\n",
       "\\hline\n",
       "\t 7.81311e-05\\\\\n",
       "\\end{tabular}\n"
      ],
      "text/markdown": [
       "\n",
       "A tibble: 1 × 1\n",
       "\n",
       "| depd_arrot &lt;dbl&gt; |\n",
       "|---|\n",
       "| 7.81311e-05 |\n",
       "\n"
      ],
      "text/plain": [
       "  depd_arrot \n",
       "1 7.81311e-05"
      ]
     },
     "metadata": {},
     "output_type": "display_data"
    }
   ],
   "source": [
    "nycflights10 <- nycflights %>% mutate(dep_type = ifelse(dep_delay <= 0, \"on time\", \"delayed\"))\n",
    "\n",
    "nycflights10 <- nycflights10 %>% mutate(arr_type = ifelse(arr_delay <= 0, \"on time\", \"delayed\"))\n",
    "\n",
    "nycflights10 %>% summarize(depd_arrot = sum(dep_type == \"delayed\" && arr_type == \"on time\") / sum(dep_type == \"delayed\"))"
   ]
  }
 ],
 "metadata": {
  "kernelspec": {
   "display_name": "R",
   "language": "R",
   "name": "ir"
  },
  "language_info": {
   "codemirror_mode": "r",
   "file_extension": ".r",
   "mimetype": "text/x-r-source",
   "name": "R",
   "pygments_lexer": "r",
   "version": "3.6.3"
  }
 },
 "nbformat": 4,
 "nbformat_minor": 4
}
