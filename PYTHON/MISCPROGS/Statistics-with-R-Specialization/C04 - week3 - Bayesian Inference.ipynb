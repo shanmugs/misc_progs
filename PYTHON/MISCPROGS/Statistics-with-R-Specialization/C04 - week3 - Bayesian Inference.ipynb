{
 "cells": [
  {
   "cell_type": "markdown",
   "metadata": {},
   "source": [
    "# Bayesian Inference"
   ]
  },
  {
   "cell_type": "markdown",
   "metadata": {},
   "source": [
    "<img src=\"images/smoking.jpg\"/>"
   ]
  },
  {
   "cell_type": "markdown",
   "metadata": {},
   "source": [
    "## Getting Started\n",
    "\n",
    "In this lab we will review exploratory data analysis using the `ggplot2` \n",
    "package for data visualization, which is included in the `tidyverse`. The main \n",
    "focus of this lab is to be able to obtain and interpret credible intervals and \n",
    "hypothesis tests using Bayesian methods for numerical variables. The data and \n",
    "functions for inference can be found in the companion package for this course, \n",
    "`statsr`. \n",
    "\n",
    "Let's load the necessary packages for this week's lab:"
   ]
  },
  {
   "cell_type": "markdown",
   "metadata": {},
   "source": [
    "### Load Libraries"
   ]
  },
  {
   "cell_type": "code",
   "execution_count": 1,
   "metadata": {},
   "outputs": [
    {
     "name": "stderr",
     "output_type": "stream",
     "text": [
      "Loading required package: MASS\n",
      "\n",
      "Loading required package: gld\n",
      "\n",
      "Loading required package: mvtnorm\n",
      "\n",
      "Loading required package: lattice\n",
      "\n",
      "Loading required package: ggplot2\n",
      "\n",
      "\n",
      "Attaching package: 'PairedData'\n",
      "\n",
      "\n",
      "The following object is masked from 'package:base':\n",
      "\n",
      "    summary\n",
      "\n",
      "\n",
      "-- \u001b[1mAttaching packages\u001b[22m --------------------------------------- tidyverse 1.3.0 --\n",
      "\n",
      "\u001b[32mv\u001b[39m \u001b[34mtibble \u001b[39m 3.0.3     \u001b[32mv\u001b[39m \u001b[34mdplyr  \u001b[39m 1.0.0\n",
      "\u001b[32mv\u001b[39m \u001b[34mtidyr  \u001b[39m 1.1.0     \u001b[32mv\u001b[39m \u001b[34mstringr\u001b[39m 1.4.0\n",
      "\u001b[32mv\u001b[39m \u001b[34mreadr  \u001b[39m 1.3.1     \u001b[32mv\u001b[39m \u001b[34mforcats\u001b[39m 0.5.0\n",
      "\u001b[32mv\u001b[39m \u001b[34mpurrr  \u001b[39m 0.3.4     \n",
      "\n",
      "-- \u001b[1mConflicts\u001b[22m ------------------------------------------ tidyverse_conflicts() --\n",
      "\u001b[31mx\u001b[39m \u001b[34mdplyr\u001b[39m::\u001b[32mfilter()\u001b[39m masks \u001b[34mstats\u001b[39m::filter()\n",
      "\u001b[31mx\u001b[39m \u001b[34mdplyr\u001b[39m::\u001b[32mlag()\u001b[39m    masks \u001b[34mstats\u001b[39m::lag()\n",
      "\u001b[31mx\u001b[39m \u001b[34mdplyr\u001b[39m::\u001b[32mselect()\u001b[39m masks \u001b[34mMASS\u001b[39m::select()\n",
      "\n"
     ]
    }
   ],
   "source": [
    "#install.packages(\"package\")\n",
    "library(PairedData)\n",
    "library(tidyverse)\n",
    "library(statsr)"
   ]
  },
  {
   "cell_type": "markdown",
   "metadata": {},
   "source": [
    "### The data\n",
    "\n",
    "In 2004, the state of North Carolina released a large data set containing \n",
    "information on births recorded in this state. This data set is useful to \n",
    "researchers studying the relation between habits and practices of expectant \n",
    "mothers and the birth of their children. We will work with a random sample \n",
    "of observations from this data set.\n",
    "\n",
    "Let's load the `nc` data set into our workspace from the `statsr` package."
   ]
  },
  {
   "cell_type": "code",
   "execution_count": 2,
   "metadata": {},
   "outputs": [
    {
     "data": {
      "text/html": [
       "<table>\n",
       "<caption>A tibble: 6 × 13</caption>\n",
       "<thead>\n",
       "\t<tr><th scope=col>fage</th><th scope=col>mage</th><th scope=col>mature</th><th scope=col>weeks</th><th scope=col>premie</th><th scope=col>visits</th><th scope=col>marital</th><th scope=col>gained</th><th scope=col>weight</th><th scope=col>lowbirthweight</th><th scope=col>gender</th><th scope=col>habit</th><th scope=col>whitemom</th></tr>\n",
       "\t<tr><th scope=col>&lt;int&gt;</th><th scope=col>&lt;int&gt;</th><th scope=col>&lt;fct&gt;</th><th scope=col>&lt;int&gt;</th><th scope=col>&lt;fct&gt;</th><th scope=col>&lt;int&gt;</th><th scope=col>&lt;fct&gt;</th><th scope=col>&lt;int&gt;</th><th scope=col>&lt;dbl&gt;</th><th scope=col>&lt;fct&gt;</th><th scope=col>&lt;fct&gt;</th><th scope=col>&lt;fct&gt;</th><th scope=col>&lt;fct&gt;</th></tr>\n",
       "</thead>\n",
       "<tbody>\n",
       "\t<tr><td>NA</td><td>13</td><td>younger mom</td><td>39</td><td>full term</td><td>10</td><td>married</td><td>38</td><td>7.63</td><td>not low</td><td>male  </td><td>nonsmoker</td><td>not white</td></tr>\n",
       "\t<tr><td>NA</td><td>14</td><td>younger mom</td><td>42</td><td>full term</td><td>15</td><td>married</td><td>20</td><td>7.88</td><td>not low</td><td>male  </td><td>nonsmoker</td><td>not white</td></tr>\n",
       "\t<tr><td>19</td><td>15</td><td>younger mom</td><td>37</td><td>full term</td><td>11</td><td>married</td><td>38</td><td>6.63</td><td>not low</td><td>female</td><td>nonsmoker</td><td>white    </td></tr>\n",
       "\t<tr><td>21</td><td>15</td><td>younger mom</td><td>41</td><td>full term</td><td> 6</td><td>married</td><td>34</td><td>8.00</td><td>not low</td><td>male  </td><td>nonsmoker</td><td>white    </td></tr>\n",
       "\t<tr><td>NA</td><td>15</td><td>younger mom</td><td>39</td><td>full term</td><td> 9</td><td>married</td><td>27</td><td>6.38</td><td>not low</td><td>female</td><td>nonsmoker</td><td>not white</td></tr>\n",
       "\t<tr><td>NA</td><td>15</td><td>younger mom</td><td>38</td><td>full term</td><td>19</td><td>married</td><td>22</td><td>5.38</td><td>low    </td><td>male  </td><td>nonsmoker</td><td>not white</td></tr>\n",
       "</tbody>\n",
       "</table>\n"
      ],
      "text/latex": [
       "A tibble: 6 × 13\n",
       "\\begin{tabular}{lllllllllllll}\n",
       " fage & mage & mature & weeks & premie & visits & marital & gained & weight & lowbirthweight & gender & habit & whitemom\\\\\n",
       " <int> & <int> & <fct> & <int> & <fct> & <int> & <fct> & <int> & <dbl> & <fct> & <fct> & <fct> & <fct>\\\\\n",
       "\\hline\n",
       "\t NA & 13 & younger mom & 39 & full term & 10 & married & 38 & 7.63 & not low & male   & nonsmoker & not white\\\\\n",
       "\t NA & 14 & younger mom & 42 & full term & 15 & married & 20 & 7.88 & not low & male   & nonsmoker & not white\\\\\n",
       "\t 19 & 15 & younger mom & 37 & full term & 11 & married & 38 & 6.63 & not low & female & nonsmoker & white    \\\\\n",
       "\t 21 & 15 & younger mom & 41 & full term &  6 & married & 34 & 8.00 & not low & male   & nonsmoker & white    \\\\\n",
       "\t NA & 15 & younger mom & 39 & full term &  9 & married & 27 & 6.38 & not low & female & nonsmoker & not white\\\\\n",
       "\t NA & 15 & younger mom & 38 & full term & 19 & married & 22 & 5.38 & low     & male   & nonsmoker & not white\\\\\n",
       "\\end{tabular}\n"
      ],
      "text/markdown": [
       "\n",
       "A tibble: 6 × 13\n",
       "\n",
       "| fage &lt;int&gt; | mage &lt;int&gt; | mature &lt;fct&gt; | weeks &lt;int&gt; | premie &lt;fct&gt; | visits &lt;int&gt; | marital &lt;fct&gt; | gained &lt;int&gt; | weight &lt;dbl&gt; | lowbirthweight &lt;fct&gt; | gender &lt;fct&gt; | habit &lt;fct&gt; | whitemom &lt;fct&gt; |\n",
       "|---|---|---|---|---|---|---|---|---|---|---|---|---|\n",
       "| NA | 13 | younger mom | 39 | full term | 10 | married | 38 | 7.63 | not low | male   | nonsmoker | not white |\n",
       "| NA | 14 | younger mom | 42 | full term | 15 | married | 20 | 7.88 | not low | male   | nonsmoker | not white |\n",
       "| 19 | 15 | younger mom | 37 | full term | 11 | married | 38 | 6.63 | not low | female | nonsmoker | white     |\n",
       "| 21 | 15 | younger mom | 41 | full term |  6 | married | 34 | 8.00 | not low | male   | nonsmoker | white     |\n",
       "| NA | 15 | younger mom | 39 | full term |  9 | married | 27 | 6.38 | not low | female | nonsmoker | not white |\n",
       "| NA | 15 | younger mom | 38 | full term | 19 | married | 22 | 5.38 | low     | male   | nonsmoker | not white |\n",
       "\n"
      ],
      "text/plain": [
       "  fage mage mature      weeks premie    visits marital gained weight\n",
       "1 NA   13   younger mom 39    full term 10     married 38     7.63  \n",
       "2 NA   14   younger mom 42    full term 15     married 20     7.88  \n",
       "3 19   15   younger mom 37    full term 11     married 38     6.63  \n",
       "4 21   15   younger mom 41    full term  6     married 34     8.00  \n",
       "5 NA   15   younger mom 39    full term  9     married 27     6.38  \n",
       "6 NA   15   younger mom 38    full term 19     married 22     5.38  \n",
       "  lowbirthweight gender habit     whitemom \n",
       "1 not low        male   nonsmoker not white\n",
       "2 not low        male   nonsmoker not white\n",
       "3 not low        female nonsmoker white    \n",
       "4 not low        male   nonsmoker white    \n",
       "5 not low        female nonsmoker not white\n",
       "6 low            male   nonsmoker not white"
      ]
     },
     "metadata": {},
     "output_type": "display_data"
    }
   ],
   "source": [
    "data(nc)\n",
    "head(nc)"
   ]
  },
  {
   "cell_type": "markdown",
   "metadata": {},
   "source": [
    "We have observations on 13 different variables, some categorical and some \n",
    "numerical. The meaning of each variable is as follows.\n",
    "\n",
    "variable         | description\n",
    "---------------- | ---------------------------------------------\n",
    "`fage`           | father's age in years.\n",
    "`mage`           | mother's age in years.\n",
    "`mature`         | maturity status of mother.\n",
    "`weeks`          | length of pregnancy in weeks.\n",
    "`premie`         | whether the birth was classified as premature (premie) or full-term.\n",
    "`visits`         | number of hospital visits during pregnancy.\n",
    "`marital`        | whether mother is `married` or `not married` at birth.\n",
    "`gained`         | weight gained by mother during pregnancy in pounds.\n",
    "`weight`         | weight of the baby at birth in pounds.\n",
    "`lowbirthweight` | whether baby was classified as low birthweight (`low`) or not (`not low`).\n",
    "`gender`         | gender of the baby, `female` or `male`.\n",
    "`habit`          | status of the mother as a `nonsmoker` or a `smoker`.\n",
    "`whitemom`       | whether mom is `white` or `not white`.\n",
    "\n",
    "Note: These data should be familiar for those  who took the \n",
    "*Inferential Statistics* course as part of the *Statistics with R* \n",
    "specialization, where the `nc` data were  used in the \n",
    "**Inference for Numerical Data** lab.\n",
    "\n",
    "### EDA\n",
    "\n",
    "As a first step in the analysis, let's take a look at the variables in the \n",
    "dataset and how `R` has encoded them. The most straight forward way of doing \n",
    "this is using the `glimpse` function."
   ]
  },
  {
   "cell_type": "code",
   "execution_count": 3,
   "metadata": {},
   "outputs": [
    {
     "name": "stdout",
     "output_type": "stream",
     "text": [
      "Rows: 1,000\n",
      "Columns: 13\n",
      "$ fage           \u001b[3m\u001b[90m<int>\u001b[39m\u001b[23m NA, NA, 19, 21, NA, NA, 18, 17, NA, 20, 30, NA, NA, ...\n",
      "$ mage           \u001b[3m\u001b[90m<int>\u001b[39m\u001b[23m 13, 14, 15, 15, 15, 15, 15, 15, 16, 16, 16, 16, 16, ...\n",
      "$ mature         \u001b[3m\u001b[90m<fct>\u001b[39m\u001b[23m younger mom, younger mom, younger mom, younger mom, ...\n",
      "$ weeks          \u001b[3m\u001b[90m<int>\u001b[39m\u001b[23m 39, 42, 37, 41, 39, 38, 37, 35, 38, 37, 45, 42, 40, ...\n",
      "$ premie         \u001b[3m\u001b[90m<fct>\u001b[39m\u001b[23m full term, full term, full term, full term, full ter...\n",
      "$ visits         \u001b[3m\u001b[90m<int>\u001b[39m\u001b[23m 10, 15, 11, 6, 9, 19, 12, 5, 9, 13, 9, 8, 4, 12, 15,...\n",
      "$ marital        \u001b[3m\u001b[90m<fct>\u001b[39m\u001b[23m married, married, married, married, married, married...\n",
      "$ gained         \u001b[3m\u001b[90m<int>\u001b[39m\u001b[23m 38, 20, 38, 34, 27, 22, 76, 15, NA, 52, 28, 34, 12, ...\n",
      "$ weight         \u001b[3m\u001b[90m<dbl>\u001b[39m\u001b[23m 7.63, 7.88, 6.63, 8.00, 6.38, 5.38, 8.44, 4.69, 8.81...\n",
      "$ lowbirthweight \u001b[3m\u001b[90m<fct>\u001b[39m\u001b[23m not low, not low, not low, not low, not low, low, no...\n",
      "$ gender         \u001b[3m\u001b[90m<fct>\u001b[39m\u001b[23m male, male, female, male, female, male, male, male, ...\n",
      "$ habit          \u001b[3m\u001b[90m<fct>\u001b[39m\u001b[23m nonsmoker, nonsmoker, nonsmoker, nonsmoker, nonsmoke...\n",
      "$ whitemom       \u001b[3m\u001b[90m<fct>\u001b[39m\u001b[23m not white, not white, white, white, not white, not w...\n"
     ]
    }
   ],
   "source": [
    "glimpse(nc)"
   ]
  },
  {
   "cell_type": "markdown",
   "metadata": {},
   "source": [
    "Another useful function is `summary` which provides the range, quartiles, and \n",
    "means for numeric variables and counts for categorical variables. Additionally, \n",
    "if there are any missing observations (denoted `NA`), summary will provide the \n",
    "number of missing cases for each variable. Note that the output of the summary \n",
    "function can be too long and difficult to parse  visually and interpret if the \n",
    "dataset has a large number of variables."
   ]
  },
  {
   "cell_type": "code",
   "execution_count": 4,
   "metadata": {},
   "outputs": [
    {
     "data": {
      "text/plain": [
       "      fage            mage            mature        weeks             premie   \n",
       " Min.   :14.00   Min.   :13   mature mom :133   Min.   :20.00   full term:846  \n",
       " 1st Qu.:25.00   1st Qu.:22   younger mom:867   1st Qu.:37.00   premie   :152  \n",
       " Median :30.00   Median :27                     Median :39.00   NA's     :  2  \n",
       " Mean   :30.26   Mean   :27                     Mean   :38.33                  \n",
       " 3rd Qu.:35.00   3rd Qu.:32                     3rd Qu.:40.00                  \n",
       " Max.   :55.00   Max.   :50                     Max.   :45.00                  \n",
       " NA's   :171                                    NA's   :2                      \n",
       "     visits            marital        gained          weight      \n",
       " Min.   : 0.0   married    :386   Min.   : 0.00   Min.   : 1.000  \n",
       " 1st Qu.:10.0   not married:613   1st Qu.:20.00   1st Qu.: 6.380  \n",
       " Median :12.0   NA's       :  1   Median :30.00   Median : 7.310  \n",
       " Mean   :12.1                     Mean   :30.33   Mean   : 7.101  \n",
       " 3rd Qu.:15.0                     3rd Qu.:38.00   3rd Qu.: 8.060  \n",
       " Max.   :30.0                     Max.   :85.00   Max.   :11.750  \n",
       " NA's   :9                        NA's   :27                      \n",
       " lowbirthweight    gender          habit          whitemom  \n",
       " low    :111    female:503   nonsmoker:873   not white:284  \n",
       " not low:889    male  :497   smoker   :126   white    :714  \n",
       "                             NA's     :  1   NA's     :  2  \n",
       "                                                            \n",
       "                                                            \n",
       "                                                            \n",
       "                                                            "
      ]
     },
     "metadata": {},
     "output_type": "display_data"
    }
   ],
   "source": [
    "summary(nc)"
   ]
  },
  {
   "cell_type": "markdown",
   "metadata": {},
   "source": [
    "As you review the variable summaries, consider which variables are categorical \n",
    "and which are numerical. For numerical variables, are there outliers? If you \n",
    "aren't sure or want to take a closer look at the data, you can make a graph.\n",
    "\n",
    "For example, we can examine the distribution of the amount of weight that a \n",
    "mother `gained` with a histogram."
   ]
  },
  {
   "cell_type": "code",
   "execution_count": 5,
   "metadata": {},
   "outputs": [
    {
     "name": "stderr",
     "output_type": "stream",
     "text": [
      "Warning message:\n",
      "\"Removed 27 rows containing non-finite values (stat_bin).\"\n"
     ]
    },
    {
     "data": {
      "image/png": "[encoded data removed]",
      "text/plain": [
       "plot without title"
      ]
     },
     "metadata": {
      "image/png": {
       "height": 420,
       "width": 420
      },
      "text/plain": {
       "height": 420,
       "width": 420
      }
     },
     "output_type": "display_data"
    }
   ],
   "source": [
    "ggplot(data = nc, aes(x = gained)) +\n",
    "    geom_histogram(binwidth = 5) +\n",
    "    ggtitle(\"Weight that a mother gained\")"
   ]
  },
  {
   "cell_type": "markdown",
   "metadata": {},
   "source": [
    "This function says to plot the `gained` variable from the `nc` data frame on the \n",
    "x-axis. It also defines a `geom` (short for geometric object), which describes \n",
    "the type of plot you will produce. We used a binwidth of 5, however you can \n",
    "change this value and see how it affects the shape of the histogram. Also note \n",
    "that the function results in a warning saying that 27 rows have been removed. \n",
    "This is because 27 observations in the data have `NA` values for weight gained. \n",
    "You can confirm this by peeking back at the summary output above. If you need a \n",
    "refresher on using `ggplot2`, you may want to take some time to review the \n",
    "material in the earlier courses in this specialization."
   ]
  },
  {
   "cell_type": "markdown",
   "metadata": {},
   "source": [
    "**1. How many of the 13 variables are categorical?**"
   ]
  },
  {
   "cell_type": "code",
   "execution_count": 6,
   "metadata": {},
   "outputs": [
    {
     "name": "stdout",
     "output_type": "stream",
     "text": [
      "tibble [1,000 x 13] (S3: tbl_df/tbl/data.frame)\n",
      " $ fage          : int [1:1000] NA NA 19 21 NA NA 18 17 NA 20 ...\n",
      " $ mage          : int [1:1000] 13 14 15 15 15 15 15 15 16 16 ...\n",
      " $ mature        : Factor w/ 2 levels \"mature mom\",\"younger mom\": 2 2 2 2 2 2 2 2 2 2 ...\n",
      " $ weeks         : int [1:1000] 39 42 37 41 39 38 37 35 38 37 ...\n",
      " $ premie        : Factor w/ 2 levels \"full term\",\"premie\": 1 1 1 1 1 1 1 2 1 1 ...\n",
      " $ visits        : int [1:1000] 10 15 11 6 9 19 12 5 9 13 ...\n",
      " $ marital       : Factor w/ 2 levels \"married\",\"not married\": 1 1 1 1 1 1 1 1 1 1 ...\n",
      " $ gained        : int [1:1000] 38 20 38 34 27 22 76 15 NA 52 ...\n",
      " $ weight        : num [1:1000] 7.63 7.88 6.63 8 6.38 5.38 8.44 4.69 8.81 6.94 ...\n",
      " $ lowbirthweight: Factor w/ 2 levels \"low\",\"not low\": 2 2 2 2 2 1 2 1 2 2 ...\n",
      " $ gender        : Factor w/ 2 levels \"female\",\"male\": 2 2 1 2 1 2 2 2 2 1 ...\n",
      " $ habit         : Factor w/ 2 levels \"nonsmoker\",\"smoker\": 1 1 1 1 1 1 1 1 1 1 ...\n",
      " $ whitemom      : Factor w/ 2 levels \"not white\",\"white\": 1 1 2 2 1 1 1 1 2 2 ...\n"
     ]
    }
   ],
   "source": [
    "str(nc)"
   ]
  },
  {
   "cell_type": "markdown",
   "metadata": {},
   "source": [
    "    Answer: 7."
   ]
  },
  {
   "cell_type": "markdown",
   "metadata": {},
   "source": [
    "We will start with analyzing the weight of the babies at birth, which is \n",
    "contained in the variable `weight`.\n",
    "\n",
    "\n",
    "Use a visualization such as a histogram and summary statistics tools in R to \n",
    "analyze the distribution of `weight`. \n",
    "\n",
    "**2. Which of the following best describes the \n",
    "distribution of `weight`?**"
   ]
  },
  {
   "cell_type": "code",
   "execution_count": 7,
   "metadata": {},
   "outputs": [
    {
     "data": {
      "text/plain": [
       "   Min. 1st Qu.  Median    Mean 3rd Qu.    Max. \n",
       "  1.000   6.380   7.310   7.101   8.060  11.750 "
      ]
     },
     "metadata": {},
     "output_type": "display_data"
    }
   ],
   "source": [
    "summary(nc$weight)"
   ]
  },
  {
   "cell_type": "code",
   "execution_count": 8,
   "metadata": {},
   "outputs": [
    {
     "data": {
      "image/png": "[encoded data removed]",
      "text/plain": [
       "Plot with title \"Histogram of nc$weight\""
      ]
     },
     "metadata": {
      "image/png": {
       "height": 420,
       "width": 420
      },
      "text/plain": {
       "height": 420,
       "width": 420
      }
     },
     "output_type": "display_data"
    }
   ],
   "source": [
    "hist(nc$weight)"
   ]
  },
  {
   "cell_type": "code",
   "execution_count": 9,
   "metadata": {},
   "outputs": [
    {
     "data": {
      "image/png": "[encoded data removed]",
      "text/plain": [
       "Plot with title \"density.default(x = nc$weight)\""
      ]
     },
     "metadata": {
      "image/png": {
       "height": 420,
       "width": 420
      },
      "text/plain": {
       "height": 420,
       "width": 420
      }
     },
     "output_type": "display_data"
    }
   ],
   "source": [
    "plot(density(nc$weight))"
   ]
  },
  {
   "cell_type": "markdown",
   "metadata": {},
   "source": [
    "    Answer: Left skewed."
   ]
  },
  {
   "cell_type": "markdown",
   "metadata": {},
   "source": [
    "The variable `premie` in the dataframe classifies births on whether they were \n",
    "full-term or premie. We can use some of the functions of `dplyr` to create a \n",
    "new dataframe to limit the analysis to full term births."
   ]
  },
  {
   "cell_type": "code",
   "execution_count": 10,
   "metadata": {},
   "outputs": [
    {
     "data": {
      "text/plain": [
       "\n",
       "full term    premie \n",
       "      846       152 "
      ]
     },
     "metadata": {},
     "output_type": "display_data"
    }
   ],
   "source": [
    "table(nc$premie)"
   ]
  },
  {
   "cell_type": "code",
   "execution_count": 11,
   "metadata": {},
   "outputs": [
    {
     "data": {
      "text/plain": [
       "      fage            mage            mature        weeks             premie   \n",
       " Min.   :14.00   Min.   :13   mature mom :109   Min.   :37.00   full term:846  \n",
       " 1st Qu.:25.00   1st Qu.:22   younger mom:737   1st Qu.:38.00   premie   :  0  \n",
       " Median :30.00   Median :27                     Median :39.00                  \n",
       " Mean   :30.24   Mean   :27                     Mean   :39.25                  \n",
       " 3rd Qu.:35.00   3rd Qu.:32                     3rd Qu.:40.00                  \n",
       " Max.   :50.00   Max.   :50                     Max.   :45.00                  \n",
       " NA's   :132                                                                   \n",
       "     visits             marital        gained          weight      \n",
       " Min.   : 0.00   married    :312   Min.   : 0.00   Min.   : 3.750  \n",
       " 1st Qu.:10.00   not married:534   1st Qu.:22.00   1st Qu.: 6.750  \n",
       " Median :12.00                     Median :30.00   Median : 7.440  \n",
       " Mean   :12.35                     Mean   :31.13   Mean   : 7.459  \n",
       " 3rd Qu.:15.00                     3rd Qu.:40.00   3rd Qu.: 8.190  \n",
       " Max.   :30.00                     Max.   :85.00   Max.   :11.750  \n",
       " NA's   :6                         NA's   :19                      \n",
       " lowbirthweight    gender          habit          whitemom  \n",
       " low    : 30    female:431   nonsmoker:739   not white:228  \n",
       " not low:816    male  :415   smoker   :107   white    :616  \n",
       "                                             NA's     :  2  \n",
       "                                                            \n",
       "                                                            \n",
       "                                                            \n",
       "                                                            "
      ]
     },
     "metadata": {},
     "output_type": "display_data"
    }
   ],
   "source": [
    "nc_fullterm = filter(nc, premie == 'full term')\n",
    "\n",
    "summary(nc_fullterm)\n",
    "\n",
    "# Alternative: \n",
    "#nc_fullterm = nc[nc$premie == 'full term',]"
   ]
  },
  {
   "cell_type": "markdown",
   "metadata": {},
   "source": [
    "The `filter` function selects variables all variables from the dataframe `nc` \n",
    "where the condition `premie` equals \"full term\" is met.\n",
    "\n",
    "**Exercise:** Repeat the visualization and summary with the weights from full term term \n",
    "births. Does `weight` appear to be approximately normally distributed?"
   ]
  },
  {
   "cell_type": "code",
   "execution_count": 12,
   "metadata": {},
   "outputs": [
    {
     "data": {
      "text/plain": [
       "   Min. 1st Qu.  Median    Mean 3rd Qu.    Max. \n",
       "  3.750   6.750   7.440   7.459   8.190  11.750 "
      ]
     },
     "metadata": {},
     "output_type": "display_data"
    }
   ],
   "source": [
    "summary(nc_fullterm$weight)"
   ]
  },
  {
   "cell_type": "code",
   "execution_count": 13,
   "metadata": {},
   "outputs": [
    {
     "data": {
      "image/png": "[encoded data removed]",
      "text/plain": [
       "Plot with title \"Histogram of nc_fullterm$weight\""
      ]
     },
     "metadata": {
      "image/png": {
       "height": 420,
       "width": 420
      },
      "text/plain": {
       "height": 420,
       "width": 420
      }
     },
     "output_type": "display_data"
    }
   ],
   "source": [
    "hist(nc_fullterm$weight)"
   ]
  },
  {
   "cell_type": "code",
   "execution_count": 14,
   "metadata": {},
   "outputs": [
    {
     "data": {
      "image/png": "[encoded data removed]",
      "text/plain": [
       "Plot with title \"density.default(x = nc_fullterm$weight)\""
      ]
     },
     "metadata": {
      "image/png": {
       "height": 420,
       "width": 420
      },
      "text/plain": {
       "height": 420,
       "width": 420
      }
     },
     "output_type": "display_data"
    }
   ],
   "source": [
    "plot(density(nc_fullterm$weight))"
   ]
  },
  {
   "cell_type": "markdown",
   "metadata": {},
   "source": [
    "    Answer: Yes. Very close to a normal distribution."
   ]
  },
  {
   "cell_type": "markdown",
   "metadata": {},
   "source": [
    "## Inference\n",
    "\n",
    "As with the frequentist approach we use these data to perform basic inference on $\\mu$ the average weight of all babies born in North Carolina. To do this we will use the `bayes_inference` function which will allow us construct credible intervals and calculate Bayes factors for a variety of different circumstances.\n",
    "\n",
    "In order to construct a credible interval we must first provide the data, `weight` in this case, and then indicate that we want a credible interval (`type=\"ci\"`) for a mean (`statistic=\"mean\"`)."
   ]
  },
  {
   "cell_type": "code",
   "execution_count": 15,
   "metadata": {},
   "outputs": [
    {
     "name": "stdout",
     "output_type": "stream",
     "text": [
      "Single numerical variable\n",
      "n = 1000, y-bar = 7.101, s = 1.5089\n",
      "(Assuming improper prior: P(mu, sigma^2) = 1/sigma^2)\n",
      "\n",
      "99% CI: (6.978 , 7.2237)\n",
      "\n",
      "Post. mean   = 7.101 \n",
      "Post. median = 7.1009 \n",
      "Post. mode   = 7.1001 \n"
     ]
    },
    {
     "data": {
      "image/png": "[encoded data removed]",
      "text/plain": [
       "plot without title"
      ]
     },
     "metadata": {
      "image/png": {
       "height": 420,
       "width": 420
      },
      "text/plain": {
       "height": 420,
       "width": 420
      }
     },
     "output_type": "display_data"
    }
   ],
   "source": [
    "bayes_inference(y = weight, data = nc, statistic = \"mean\", type = \"ci\", cred_level = 0.99)"
   ]
  },
  {
   "cell_type": "markdown",
   "metadata": {},
   "source": [
    "The credible level for the interval can be specified using the `cred_level` argument."
   ]
  },
  {
   "cell_type": "markdown",
   "metadata": {},
   "source": [
    "**3. Which of the following corresponds to the 99% credible interval for the average birth weight of all children born in North Carolina?**"
   ]
  },
  {
   "cell_type": "markdown",
   "metadata": {},
   "source": [
    "    Answer: (6.98 , 7.22)"
   ]
  },
  {
   "cell_type": "markdown",
   "metadata": {},
   "source": [
    "We can also conduct a Bayesian hypothesis test by calculating a Bayes factor, let's test to see if the average birth weight in North Carolina is significantly different from 7 pounds. \n",
    "\n",
    "$$ H_1: \\mu = 7 $$\n",
    "$$ H_2: \\mu \\ne 7 $$\n",
    "\n",
    "To conduct this hypothesis test we will again use the `bayes_inference` function but this time specify `type=\"ht\"`, will then also need to provide the `null` and `alternative` arguments which define the null value (7) and the type of alternative hypothesis (`\"twosided\"`)."
   ]
  },
  {
   "cell_type": "code",
   "execution_count": 16,
   "metadata": {},
   "outputs": [
    {
     "name": "stdout",
     "output_type": "stream",
     "text": [
      "Single numerical variable\n",
      "n = 1000, y-bar = 7.101, s = 1.5089\n",
      "(Assuming improper prior: P(mu, sigma^2) = 1/sigma^2)\n",
      "\n",
      "Hypotheses:\n",
      "H1: mu = 7\n",
      "H2: mu != 7\n",
      "\n",
      "Priors:\n",
      "P(H1) = 0.5 \n",
      "P(H2) = 0.5 \n",
      "\n",
      "Results:\n",
      "BF[H1:H2] = 3.3915\n",
      "P(H1|data) = 0.7723 \n",
      "P(H2|data) = 0.2277 \n"
     ]
    },
    {
     "data": {
      "image/png": "[encoded data removed]",
      "text/plain": [
       "plot without title"
      ]
     },
     "metadata": {
      "image/png": {
       "height": 420,
       "width": 420
      },
      "text/plain": {
       "height": 420,
       "width": 420
      }
     },
     "output_type": "display_data"
    }
   ],
   "source": [
    "bayes_inference(y = weight, data = nc, statistic = \"mean\", type = \"ht\", null = 7, alternative = \"twosided\")"
   ]
  },
  {
   "cell_type": "markdown",
   "metadata": {},
   "source": [
    "**5. Based of Jeffrey's scale for interpretation of a Bayes factors how should be describe the evidence in favor of $H_1$ from the results above?**"
   ]
  },
  {
   "cell_type": "markdown",
   "metadata": {},
   "source": [
    "    Answer: Positive"
   ]
  },
  {
   "cell_type": "markdown",
   "metadata": {},
   "source": [
    "The graphical results show the magnitude of $P(H_1 ~|~ data)$ with the blue line and the posterior of $\\mu$ given $H_2$ (scaled by $P(H_2 ~|~ data)$) via the black curve. The 95% credible interval for $\\mu|data,H_2$ is given in grey.\n",
    "\n",
    "**Exercise**: In the US low birth is defined as being less than 2500 grams ($\\approx 5.5$ lbs). Use the `bayes_inference` function to assess if the average birth weight in North Carolina is significantly different from this value. (The answer here should be obvious, but make sure that the Bayes factor result conforms with your intuition.)"
   ]
  },
  {
   "cell_type": "code",
   "execution_count": 17,
   "metadata": {},
   "outputs": [
    {
     "name": "stdout",
     "output_type": "stream",
     "text": [
      "Single numerical variable\n",
      "n = 1000, y-bar = 7.101, s = 1.5089\n",
      "(Assuming improper prior: P(mu, sigma^2) = 1/sigma^2)\n",
      "\n",
      "Hypotheses:\n",
      "H1: mu = 5.5\n",
      "H2: mu != 5.5\n",
      "\n",
      "Priors:\n",
      "P(H1) = 0.5 \n",
      "P(H2) = 0.5 \n",
      "\n",
      "Results:\n",
      "BF[H2:H1] = 9.42506e+161\n",
      "P(H1|data) = 0 \n",
      "P(H2|data) = 1 \n"
     ]
    },
    {
     "data": {
      "image/png": "[encoded data removed]",
      "text/plain": [
       "plot without title"
      ]
     },
     "metadata": {
      "image/png": {
       "height": 420,
       "width": 420
      },
      "text/plain": {
       "height": 420,
       "width": 420
      }
     },
     "output_type": "display_data"
    }
   ],
   "source": [
    "bayes_inference(y = weight, data = nc, statistic = \"mean\", type = \"ht\", null = 5.5, alternative = \"twosided\")"
   ]
  },
  {
   "cell_type": "markdown",
   "metadata": {},
   "source": [
    "## Inference for Two Means\n",
    "\n",
    "Next, let's consider if the mother's smoking habit has any clear effect on the child's birth weight. Here we will use the variable `habit` to distinguish between smoking and non-smoking mothers. As with any analysis, a visualization is a good place to start, and will give us a better understanding of the data.\n",
    "\n",
    "**Exercise**: Construct a side-by-side boxplot of `habit` and `weight` and compare the two distributions."
   ]
  },
  {
   "cell_type": "code",
   "execution_count": 18,
   "metadata": {},
   "outputs": [
    {
     "data": {
      "image/png": "[encoded data removed]",
      "text/plain": [
       "plot without title"
      ]
     },
     "metadata": {
      "image/png": {
       "height": 420,
       "width": 420
      },
      "text/plain": {
       "height": 420,
       "width": 420
      }
     },
     "output_type": "display_data"
    }
   ],
   "source": [
    "# Clean NA data\n",
    "ncc <- na.omit(nc) \n",
    "\n",
    "ggplot(ncc, aes(habit,weight)) + \n",
    "    geom_boxplot() + \n",
    "    ggtitle(\"NC Birth Data\") +\n",
    "    xlab(\"Smoke Habit\") +\n",
    "    ylab(\"Birth Weight\")\n",
    "\n",
    "# Alternative:\n",
    "# boxplot(weight~habit,data=nc, main=\"NC Birth Data\", xlab=\"Smoke Habit\", ylab=\"Birth Weight\")"
   ]
  },
  {
   "cell_type": "code",
   "execution_count": 19,
   "metadata": {},
   "outputs": [
    {
     "data": {
      "text/plain": [
       "   Min. 1st Qu.  Median    Mean 3rd Qu.    Max. \n",
       "  1.690   6.077   7.060   6.829   7.735   9.190 "
      ]
     },
     "metadata": {},
     "output_type": "display_data"
    },
    {
     "data": {
      "text/plain": [
       "   Min. 1st Qu.  Median    Mean 3rd Qu.    Max. \n",
       "  1.000   6.440   7.310   7.144   8.060  11.750 "
      ]
     },
     "metadata": {},
     "output_type": "display_data"
    }
   ],
   "source": [
    "nc_smoker <- nc %>% filter(habit == \"smoker\")\n",
    "nc_nonsmoker <- nc %>% filter(habit == \"nonsmoker\")\n",
    "\n",
    "summary(nc_smoker$weight)\n",
    "summary(nc_nonsmoker$weight)"
   ]
  },
  {
   "cell_type": "code",
   "execution_count": 20,
   "metadata": {},
   "outputs": [
    {
     "data": {
      "image/png": "[encoded data removed]",
      "text/plain": [
       "Plot with title \"Smoker\""
      ]
     },
     "metadata": {
      "image/png": {
       "height": 420,
       "width": 420
      },
      "text/plain": {
       "height": 420,
       "width": 420
      }
     },
     "output_type": "display_data"
    },
    {
     "data": {
      "image/png": "[encoded data removed]",
      "text/plain": [
       "Plot with title \"No Smoker\""
      ]
     },
     "metadata": {
      "image/png": {
       "height": 420,
       "width": 420
      },
      "text/plain": {
       "height": 420,
       "width": 420
      }
     },
     "output_type": "display_data"
    }
   ],
   "source": [
    "hist(nc_smoker$weight, main=\"Smoker\")\n",
    "\n",
    "hist(nc_nonsmoker$weight, main=\"No Smoker\")"
   ]
  },
  {
   "cell_type": "markdown",
   "metadata": {},
   "source": [
    "**5. Which of the following is *true* about the relationship between habit and weight?**"
   ]
  },
  {
   "cell_type": "markdown",
   "metadata": {},
   "source": [
    "Answer:\n",
    "\n",
    "    -Median birth weight of babies born to non-smoker mothers is slightly higher than that of babies born to smoker mothers.\n",
    "    -Range of birth weights of babies born to non-smoker mothers is greater than that of babies born to smoker mothers.\n",
    "    -The IQRs of the distributions are roughly equal."
   ]
  },
  {
   "cell_type": "markdown",
   "metadata": {},
   "source": [
    "As before we can use the `bayes_inference` function to either construct a credible interval and or calculate a Bayes factor. The calls will be identical to the single mean case except now we will provide `habit` as a predictor variable (argument `x`). Note we also change `null=0`, since we are interested in comparing if the means of the two groups are equal or not."
   ]
  },
  {
   "cell_type": "code",
   "execution_count": 21,
   "metadata": {},
   "outputs": [
    {
     "name": "stdout",
     "output_type": "stream",
     "text": [
      "Response variable: numerical, Explanatory variable: categorical (2 levels)\n",
      "n_nonsmoker = 873, y_bar_nonsmoker = 7.1443, s_nonsmoker = 1.5187\n",
      "n_smoker = 126, y_bar_smoker = 6.8287, s_smoker = 1.3862\n",
      "(Assuming independent Jeffrey's priors for mu and sigma^2)\n",
      "\n",
      "95% Cred. Int.: (0.0508 , 0.5798)\n",
      "\n",
      "Post. mean   = 0.3155 \n",
      "Post. median = 0.3157 \n",
      "Post. mode   = 0.3137 \n"
     ]
    },
    {
     "data": {
      "image/png": "[encoded data removed]",
      "text/plain": [
       "plot without title"
      ]
     },
     "metadata": {
      "image/png": {
       "height": 420,
       "width": 420
      },
      "text/plain": {
       "height": 420,
       "width": 420
      }
     },
     "output_type": "display_data"
    }
   ],
   "source": [
    "bayes_inference(y = weight, x = habit, data = nc, statistic = \"mean\", type = \"ci\")"
   ]
  },
  {
   "cell_type": "markdown",
   "metadata": {},
   "source": [
    "**6. Based on the credible interval is there evidence that smoking reduces birth weight?**"
   ]
  },
  {
   "cell_type": "markdown",
   "metadata": {},
   "source": [
    "    Answer: Yes."
   ]
  },
  {
   "cell_type": "code",
   "execution_count": 22,
   "metadata": {},
   "outputs": [
    {
     "name": "stdout",
     "output_type": "stream",
     "text": [
      "Response variable: numerical, Explanatory variable: categorical (2 levels)\n",
      "n_nonsmoker = 873, y_bar_nonsmoker = 7.1443, s_nonsmoker = 1.5187\n",
      "n_smoker = 126, y_bar_smoker = 6.8287, s_smoker = 1.3862\n",
      "(Assuming intrinsic prior on parameters)\n",
      "Hypotheses:\n",
      "H1: mu_nonsmoker  = mu_smoker\n",
      "H2: mu_nonsmoker != mu_smoker\n",
      "\n",
      "Priors:\n",
      "P(H1) = 0.5 \n",
      "P(H2) = 0.5 \n",
      "\n",
      "Results:\n",
      "BF[H1:H2] = 1.4387\n",
      "P(H1|data) = 0.5899 \n",
      "P(H2|data) = 0.4101 \n"
     ]
    },
    {
     "data": {
      "image/png": "[encoded data removed]",
      "text/plain": [
       "plot without title"
      ]
     },
     "metadata": {
      "image/png": {
       "height": 420,
       "width": 420
      },
      "text/plain": {
       "height": 420,
       "width": 420
      }
     },
     "output_type": "display_data"
    }
   ],
   "source": [
    "bayes_inference(y = weight, x = habit, data = nc, statistic = \"mean\", type = \"ht\", null = 0, alternative = \"twosided\")"
   ]
  },
  {
   "cell_type": "markdown",
   "metadata": {},
   "source": [
    "**7. Based on the Bayes factor calculated above, how strong is evidence against $H_1$?**"
   ]
  },
  {
   "cell_type": "markdown",
   "metadata": {},
   "source": [
    "    Answer:Not worth a bare mention."
   ]
  },
  {
   "cell_type": "markdown",
   "metadata": {},
   "source": [
    "## Inference for Proportions\n",
    "\n",
    "Finally, we can also conduct Bayesian inference when our outcome variable of interest is categorical. As with the frequentist inference function the only change is to specify a $y$ argument that is categorical (with only two levels) and then specify which of its levels is the \"success\" using the `success` argument and finally change the `statistic` of interest to `\"proportion\"`.\n",
    "\n",
    "For example if we want to test if only 7.5% of births in North Carolina are considered low birth weight we can calculate the Bayes factor using the following code:"
   ]
  },
  {
   "cell_type": "code",
   "execution_count": 23,
   "metadata": {},
   "outputs": [
    {
     "name": "stdout",
     "output_type": "stream",
     "text": [
      "Single categorical variable, success: low\n",
      "n = 1000, p-hat = 0.111\n",
      "\n",
      "Hypotheses:\n",
      "H1: p = 0.075\n",
      "H2: p != 0.075\n",
      "\n",
      "Priors:\n",
      "P(p) ~ Beta(a=75,b=925)\n",
      "P(H1) = 0.2 \n",
      "P(H2) = 0.8 \n",
      "\n",
      "Results:\n",
      "BF[H2:H1] = 50.3154\n",
      "P(H1|data) = 0.0049 \n",
      "P(H2|data) = 0.9951 \n"
     ]
    },
    {
     "data": {
      "image/png": "[encoded data removed]",
      "text/plain": [
       "plot without title"
      ]
     },
     "metadata": {
      "image/png": {
       "height": 420,
       "width": 420
      },
      "text/plain": {
       "height": 420,
       "width": 420
      }
     },
     "output_type": "display_data"
    }
   ],
   "source": [
    "bayes_inference(y = lowbirthweight, data = nc, success = \"low\", statistic = \"proportion\", \n",
    "                beta_prior = c(a = 75, b = 925), hypothesis_prior = c(H1 = 0.2, H2 = 0.8), \n",
    "                type = \"ht\", null = 0.075, alternative = \"twosided\")"
   ]
  },
  {
   "cell_type": "markdown",
   "metadata": {},
   "source": [
    "**8. How would the Bayes factor above change if we were to increase the prior probability of $H_2$?**"
   ]
  },
  {
   "cell_type": "markdown",
   "metadata": {},
   "source": [
    "    Answer: Stay the same."
   ]
  },
  {
   "cell_type": "markdown",
   "metadata": {},
   "source": [
    "**9. How would the Bayes factor above change if we were to change the prior of p to be $Beta(75,925)$?**"
   ]
  },
  {
   "cell_type": "markdown",
   "metadata": {},
   "source": [
    "    Answer: Get Smaller"
   ]
  },
  {
   "cell_type": "markdown",
   "metadata": {},
   "source": [
    "Using what you have learned so far, conduct a Bayesian inference procedure to evaluate whether these data provide evidence for or against smoking being associated with low birth weight and smoking being associated with premature birth."
   ]
  },
  {
   "cell_type": "markdown",
   "metadata": {},
   "source": [
    "**10. These data provide ___________ evidence ___________ smoking affecting the chance of low birth weight.**"
   ]
  },
  {
   "cell_type": "markdown",
   "metadata": {},
   "source": [
    "    Answer: weak; against."
   ]
  },
  {
   "cell_type": "code",
   "execution_count": 24,
   "metadata": {},
   "outputs": [
    {
     "name": "stderr",
     "output_type": "stream",
     "text": [
      "Warning message in check_beta_prior(beta_prior1):\n",
      "\"No beta prior for p was specified, assuming a uniform prior (p ~ Beta(a=1,b=1)).\n",
      "  This beta prior is specified using the argument beta_prior1=c(a,b),\n",
      "  where a and b are your desired hyperparameters.\"\n",
      "Warning message in check_beta_prior(beta_prior2):\n",
      "\"No beta prior for p was specified, assuming a uniform prior (p ~ Beta(a=1,b=1)).\n",
      "  This beta prior is specified using the argument beta_prior2=c(a,b),\n",
      "  where a and b are your desired hyperparameters.\"\n"
     ]
    },
    {
     "name": "stdout",
     "output_type": "stream",
     "text": [
      "Response variable: categorical (2 levels, success: low)\n",
      "Explanatory variable: categorical (2 levels) \n",
      "n_nonsmoker = 873, p_hat_nonsmoker = 0.1054\n",
      "n_smoker = 126, p_hat_smoker = 0.1429\n",
      "Hypotheses:\n",
      "H1: p_nonsmoker =  p_smoker\n",
      "H2: p_nonsmoker != p_smoker\n",
      "\n",
      "Priors:\n",
      "P(p_nonsmoker) ~ Beta(a=1,b=1)\n",
      "P(p_smoker) ~ Beta(a=1,b=1)\n",
      "P(H1) = 0.5 \n",
      "P(H2) = 0.5 \n",
      "\n",
      "Results:\n",
      "BF[H1:H2] = 3.4563\n",
      "P(H1|data) = 0.7756 \n",
      "P(H2|data) = 0.2244 \n"
     ]
    },
    {
     "data": {
      "image/png": "[encoded data removed]",
      "text/plain": [
       "plot without title"
      ]
     },
     "metadata": {
      "image/png": {
       "height": 420,
       "width": 420
      },
      "text/plain": {
       "height": 420,
       "width": 420
      }
     },
     "output_type": "display_data"
    }
   ],
   "source": [
    "bayes_inference(y = lowbirthweight, x = habit, data = nc, success = \"low\", statistic = \"proportion\", \n",
    "                hypothesis_prior = c(H1 = 0.5, H2 = 0.5), type = \"ht\", null = 0.0, alternative = \"twosided\")"
   ]
  },
  {
   "cell_type": "markdown",
   "metadata": {},
   "source": [
    "**11. These data provide ___________ evidence ___________ smoking affecting the chance of premature birth.**"
   ]
  },
  {
   "cell_type": "markdown",
   "metadata": {},
   "source": [
    "    Answer:weak; against."
   ]
  },
  {
   "cell_type": "code",
   "execution_count": 25,
   "metadata": {},
   "outputs": [
    {
     "name": "stderr",
     "output_type": "stream",
     "text": [
      "Warning message in check_beta_prior(beta_prior1):\n",
      "\"No beta prior for p was specified, assuming a uniform prior (p ~ Beta(a=1,b=1)).\n",
      "  This beta prior is specified using the argument beta_prior1=c(a,b),\n",
      "  where a and b are your desired hyperparameters.\"\n",
      "Warning message in check_beta_prior(beta_prior2):\n",
      "\"No beta prior for p was specified, assuming a uniform prior (p ~ Beta(a=1,b=1)).\n",
      "  This beta prior is specified using the argument beta_prior2=c(a,b),\n",
      "  where a and b are your desired hyperparameters.\"\n"
     ]
    },
    {
     "name": "stdout",
     "output_type": "stream",
     "text": [
      "Response variable: categorical (2 levels, success: premie)\n",
      "Explanatory variable: categorical (2 levels) \n",
      "n_nonsmoker = 872, p_hat_nonsmoker = 0.1525\n",
      "n_smoker = 126, p_hat_smoker = 0.1508\n",
      "Hypotheses:\n",
      "H1: p_nonsmoker =  p_smoker\n",
      "H2: p_nonsmoker != p_smoker\n",
      "\n",
      "Priors:\n",
      "P(p_nonsmoker) ~ Beta(a=1,b=1)\n",
      "P(p_smoker) ~ Beta(a=1,b=1)\n",
      "P(H1) = 0.5 \n",
      "P(H2) = 0.5 \n",
      "\n",
      "Results:\n",
      "BF[H1:H2] = 9.1008\n",
      "P(H1|data) = 0.901 \n",
      "P(H2|data) = 0.099 \n"
     ]
    },
    {
     "data": {
      "image/png": "[encoded data removed]",
      "text/plain": [
       "plot without title"
      ]
     },
     "metadata": {
      "image/png": {
       "height": 420,
       "width": 420
      },
      "text/plain": {
       "height": 420,
       "width": 420
      }
     },
     "output_type": "display_data"
    }
   ],
   "source": [
    "bayes_inference(y = premie, x = habit, data = nc, success = \"premie\", statistic = \"proportion\", \n",
    "                hypothesis_prior = c(H1 = 0.5, H2 = 0.5), type = \"ht\", null = 0.0, alternative = \"twosided\")"
   ]
  }
 ],
 "metadata": {
  "kernelspec": {
   "display_name": "R",
   "language": "R",
   "name": "ir"
  },
  "language_info": {
   "codemirror_mode": "r",
   "file_extension": ".r",
   "mimetype": "text/x-r-source",
   "name": "R",
   "pygments_lexer": "r",
   "version": "3.6.3"
  }
 },
 "nbformat": 4,
 "nbformat_minor": 4
}
