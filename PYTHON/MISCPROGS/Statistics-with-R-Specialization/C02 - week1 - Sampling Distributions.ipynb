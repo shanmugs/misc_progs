{
 "cells": [
  {
   "cell_type": "markdown",
   "metadata": {},
   "source": [
    "# Foundations for Inference - Sampling Distributions"
   ]
  },
  {
   "cell_type": "markdown",
   "metadata": {},
   "source": [
    "<img src=\"images/Ames.jpg\"/>"
   ]
  },
  {
   "cell_type": "markdown",
   "metadata": {},
   "source": [
    "### The data\n",
    "\n",
    "We consider real estate data from the city of Ames, Iowa. The details of every real estate transaction in Ames is recorded by the City Assessor's  office. Our particular focus for this lab will be all residential home sales in Ames between 2006 and 2010.  This collection represents our population of  interest. In this lab we would like to learn about these home sales by taking smaller samples from the full population. Let's load the data."
   ]
  },
  {
   "cell_type": "markdown",
   "metadata": {},
   "source": [
    "### Libraries"
   ]
  },
  {
   "cell_type": "code",
   "execution_count": 1,
   "metadata": {},
   "outputs": [
    {
     "name": "stderr",
     "output_type": "stream",
     "text": [
      "\n",
      "Attaching package: 'dplyr'\n",
      "\n",
      "\n",
      "The following objects are masked from 'package:stats':\n",
      "\n",
      "    filter, lag\n",
      "\n",
      "\n",
      "The following objects are masked from 'package:base':\n",
      "\n",
      "    intersect, setdiff, setequal, union\n",
      "\n",
      "\n"
     ]
    }
   ],
   "source": [
    "#install.packages(\"package\")\n",
    "library(statsr)\n",
    "library(dplyr)\n",
    "library(shiny)\n",
    "library(ggplot2)"
   ]
  },
  {
   "cell_type": "markdown",
   "metadata": {},
   "source": [
    "### Load Data"
   ]
  },
  {
   "cell_type": "code",
   "execution_count": 2,
   "metadata": {},
   "outputs": [
    {
     "data": {
      "text/html": [
       "<table>\n",
       "<caption>A tibble: 6 × 82</caption>\n",
       "<thead>\n",
       "\t<tr><th scope=col>Order</th><th scope=col>PID</th><th scope=col>area</th><th scope=col>price</th><th scope=col>MS.SubClass</th><th scope=col>MS.Zoning</th><th scope=col>Lot.Frontage</th><th scope=col>Lot.Area</th><th scope=col>Street</th><th scope=col>Alley</th><th scope=col>⋯</th><th scope=col>Screen.Porch</th><th scope=col>Pool.Area</th><th scope=col>Pool.QC</th><th scope=col>Fence</th><th scope=col>Misc.Feature</th><th scope=col>Misc.Val</th><th scope=col>Mo.Sold</th><th scope=col>Yr.Sold</th><th scope=col>Sale.Type</th><th scope=col>Sale.Condition</th></tr>\n",
       "\t<tr><th scope=col>&lt;int&gt;</th><th scope=col>&lt;int&gt;</th><th scope=col>&lt;int&gt;</th><th scope=col>&lt;int&gt;</th><th scope=col>&lt;int&gt;</th><th scope=col>&lt;fct&gt;</th><th scope=col>&lt;int&gt;</th><th scope=col>&lt;int&gt;</th><th scope=col>&lt;fct&gt;</th><th scope=col>&lt;fct&gt;</th><th scope=col>⋯</th><th scope=col>&lt;int&gt;</th><th scope=col>&lt;int&gt;</th><th scope=col>&lt;fct&gt;</th><th scope=col>&lt;fct&gt;</th><th scope=col>&lt;fct&gt;</th><th scope=col>&lt;int&gt;</th><th scope=col>&lt;int&gt;</th><th scope=col>&lt;int&gt;</th><th scope=col>&lt;fct&gt;</th><th scope=col>&lt;fct&gt;</th></tr>\n",
       "</thead>\n",
       "<tbody>\n",
       "\t<tr><td>1</td><td>526301100</td><td>1656</td><td>215000</td><td>20</td><td>RL</td><td>141</td><td>31770</td><td>Pave</td><td>NA</td><td>⋯</td><td>  0</td><td>0</td><td>NA</td><td>NA   </td><td>NA  </td><td>    0</td><td>5</td><td>2010</td><td>WD </td><td>Normal</td></tr>\n",
       "\t<tr><td>2</td><td>526350040</td><td> 896</td><td>105000</td><td>20</td><td>RH</td><td> 80</td><td>11622</td><td>Pave</td><td>NA</td><td>⋯</td><td>120</td><td>0</td><td>NA</td><td>MnPrv</td><td>NA  </td><td>    0</td><td>6</td><td>2010</td><td>WD </td><td>Normal</td></tr>\n",
       "\t<tr><td>3</td><td>526351010</td><td>1329</td><td>172000</td><td>20</td><td>RL</td><td> 81</td><td>14267</td><td>Pave</td><td>NA</td><td>⋯</td><td>  0</td><td>0</td><td>NA</td><td>NA   </td><td>Gar2</td><td>12500</td><td>6</td><td>2010</td><td>WD </td><td>Normal</td></tr>\n",
       "\t<tr><td>4</td><td>526353030</td><td>2110</td><td>244000</td><td>20</td><td>RL</td><td> 93</td><td>11160</td><td>Pave</td><td>NA</td><td>⋯</td><td>  0</td><td>0</td><td>NA</td><td>NA   </td><td>NA  </td><td>    0</td><td>4</td><td>2010</td><td>WD </td><td>Normal</td></tr>\n",
       "\t<tr><td>5</td><td>527105010</td><td>1629</td><td>189900</td><td>60</td><td>RL</td><td> 74</td><td>13830</td><td>Pave</td><td>NA</td><td>⋯</td><td>  0</td><td>0</td><td>NA</td><td>MnPrv</td><td>NA  </td><td>    0</td><td>3</td><td>2010</td><td>WD </td><td>Normal</td></tr>\n",
       "\t<tr><td>6</td><td>527105030</td><td>1604</td><td>195500</td><td>60</td><td>RL</td><td> 78</td><td> 9978</td><td>Pave</td><td>NA</td><td>⋯</td><td>  0</td><td>0</td><td>NA</td><td>NA   </td><td>NA  </td><td>    0</td><td>6</td><td>2010</td><td>WD </td><td>Normal</td></tr>\n",
       "</tbody>\n",
       "</table>\n"
      ],
      "text/latex": [
       "A tibble: 6 × 82\n",
       "\\begin{tabular}{lllllllllllllllllllll}\n",
       " Order & PID & area & price & MS.SubClass & MS.Zoning & Lot.Frontage & Lot.Area & Street & Alley & ⋯ & Screen.Porch & Pool.Area & Pool.QC & Fence & Misc.Feature & Misc.Val & Mo.Sold & Yr.Sold & Sale.Type & Sale.Condition\\\\\n",
       " <int> & <int> & <int> & <int> & <int> & <fct> & <int> & <int> & <fct> & <fct> & ⋯ & <int> & <int> & <fct> & <fct> & <fct> & <int> & <int> & <int> & <fct> & <fct>\\\\\n",
       "\\hline\n",
       "\t 1 & 526301100 & 1656 & 215000 & 20 & RL & 141 & 31770 & Pave & NA & ⋯ &   0 & 0 & NA & NA    & NA   &     0 & 5 & 2010 & WD  & Normal\\\\\n",
       "\t 2 & 526350040 &  896 & 105000 & 20 & RH &  80 & 11622 & Pave & NA & ⋯ & 120 & 0 & NA & MnPrv & NA   &     0 & 6 & 2010 & WD  & Normal\\\\\n",
       "\t 3 & 526351010 & 1329 & 172000 & 20 & RL &  81 & 14267 & Pave & NA & ⋯ &   0 & 0 & NA & NA    & Gar2 & 12500 & 6 & 2010 & WD  & Normal\\\\\n",
       "\t 4 & 526353030 & 2110 & 244000 & 20 & RL &  93 & 11160 & Pave & NA & ⋯ &   0 & 0 & NA & NA    & NA   &     0 & 4 & 2010 & WD  & Normal\\\\\n",
       "\t 5 & 527105010 & 1629 & 189900 & 60 & RL &  74 & 13830 & Pave & NA & ⋯ &   0 & 0 & NA & MnPrv & NA   &     0 & 3 & 2010 & WD  & Normal\\\\\n",
       "\t 6 & 527105030 & 1604 & 195500 & 60 & RL &  78 &  9978 & Pave & NA & ⋯ &   0 & 0 & NA & NA    & NA   &     0 & 6 & 2010 & WD  & Normal\\\\\n",
       "\\end{tabular}\n"
      ],
      "text/markdown": [
       "\n",
       "A tibble: 6 × 82\n",
       "\n",
       "| Order &lt;int&gt; | PID &lt;int&gt; | area &lt;int&gt; | price &lt;int&gt; | MS.SubClass &lt;int&gt; | MS.Zoning &lt;fct&gt; | Lot.Frontage &lt;int&gt; | Lot.Area &lt;int&gt; | Street &lt;fct&gt; | Alley &lt;fct&gt; | ⋯ ⋯ | Screen.Porch &lt;int&gt; | Pool.Area &lt;int&gt; | Pool.QC &lt;fct&gt; | Fence &lt;fct&gt; | Misc.Feature &lt;fct&gt; | Misc.Val &lt;int&gt; | Mo.Sold &lt;int&gt; | Yr.Sold &lt;int&gt; | Sale.Type &lt;fct&gt; | Sale.Condition &lt;fct&gt; |\n",
       "|---|---|---|---|---|---|---|---|---|---|---|---|---|---|---|---|---|---|---|---|---|\n",
       "| 1 | 526301100 | 1656 | 215000 | 20 | RL | 141 | 31770 | Pave | NA | ⋯ |   0 | 0 | NA | NA    | NA   |     0 | 5 | 2010 | WD  | Normal |\n",
       "| 2 | 526350040 |  896 | 105000 | 20 | RH |  80 | 11622 | Pave | NA | ⋯ | 120 | 0 | NA | MnPrv | NA   |     0 | 6 | 2010 | WD  | Normal |\n",
       "| 3 | 526351010 | 1329 | 172000 | 20 | RL |  81 | 14267 | Pave | NA | ⋯ |   0 | 0 | NA | NA    | Gar2 | 12500 | 6 | 2010 | WD  | Normal |\n",
       "| 4 | 526353030 | 2110 | 244000 | 20 | RL |  93 | 11160 | Pave | NA | ⋯ |   0 | 0 | NA | NA    | NA   |     0 | 4 | 2010 | WD  | Normal |\n",
       "| 5 | 527105010 | 1629 | 189900 | 60 | RL |  74 | 13830 | Pave | NA | ⋯ |   0 | 0 | NA | MnPrv | NA   |     0 | 3 | 2010 | WD  | Normal |\n",
       "| 6 | 527105030 | 1604 | 195500 | 60 | RL |  78 |  9978 | Pave | NA | ⋯ |   0 | 0 | NA | NA    | NA   |     0 | 6 | 2010 | WD  | Normal |\n",
       "\n"
      ],
      "text/plain": [
       "  Order PID       area price  MS.SubClass MS.Zoning Lot.Frontage Lot.Area\n",
       "1 1     526301100 1656 215000 20          RL        141          31770   \n",
       "2 2     526350040  896 105000 20          RH         80          11622   \n",
       "3 3     526351010 1329 172000 20          RL         81          14267   \n",
       "4 4     526353030 2110 244000 20          RL         93          11160   \n",
       "5 5     527105010 1629 189900 60          RL         74          13830   \n",
       "6 6     527105030 1604 195500 60          RL         78           9978   \n",
       "  Street Alley <U+22EF>        Screen.Porch Pool.Area Pool.QC Fence Misc.Feature\n",
       "1 Pave   NA    <U+22EF>   0          0         NA      NA    NA          \n",
       "2 Pave   NA    <U+22EF> 120          0         NA      MnPrv NA          \n",
       "3 Pave   NA    <U+22EF>   0          0         NA      NA    Gar2        \n",
       "4 Pave   NA    <U+22EF>   0          0         NA      NA    NA          \n",
       "5 Pave   NA    <U+22EF>   0          0         NA      MnPrv NA          \n",
       "6 Pave   NA    <U+22EF>   0          0         NA      NA    NA          \n",
       "  Misc.Val Mo.Sold Yr.Sold Sale.Type Sale.Condition\n",
       "1     0    5       2010    WD        Normal        \n",
       "2     0    6       2010    WD        Normal        \n",
       "3 12500    6       2010    WD        Normal        \n",
       "4     0    4       2010    WD        Normal        \n",
       "5     0    3       2010    WD        Normal        \n",
       "6     0    6       2010    WD        Normal        "
      ]
     },
     "metadata": {},
     "output_type": "display_data"
    }
   ],
   "source": [
    "data(ames)\n",
    "head(ames)"
   ]
  },
  {
   "cell_type": "markdown",
   "metadata": {},
   "source": [
    "We see that there are quite a few variables in the data set, enough to do a  very in-depth analysis. For this lab, we'll restrict our attention to just  two of the variables: the above ground living area of the house in square feet \n",
    "(`area`) and the sale price (`price`).\n",
    "\n",
    "We can explore the distribution of areas of homes in the population of home sales visually and with summary statistics. Let's first create a visualization, a histogram:"
   ]
  },
  {
   "cell_type": "code",
   "execution_count": 3,
   "metadata": {},
   "outputs": [
    {
     "data": {
      "image/png": "[encoded data removed]",
      "text/plain": [
       "plot without title"
      ]
     },
     "metadata": {
      "image/png": {
       "height": 420,
       "width": 420
      },
      "text/plain": {
       "height": 420,
       "width": 420
      }
     },
     "output_type": "display_data"
    }
   ],
   "source": [
    "ggplot(data = ames, aes(x = area)) + geom_histogram(binwidth = 250)"
   ]
  },
  {
   "cell_type": "markdown",
   "metadata": {},
   "source": [
    "Let's also obtain some summary statistics. Note that we can do this using the `summarise` function. We can calculate as many statistics as we want using this function, and just string along the results. Some of the functions below should\n",
    "be self explanatory (like `mean`, `median`, `sd`, `IQR`, `min`, and `max`). A new function here is the `quantile` function which we can use to calculate  values corresponding to specific percentile cutoffs in the distribution. For\n",
    "example `quantile(x, 0.25)` will yield the cutoff value for the 25th percentile (Q1) in the distribution of x. Finding these values are useful for describing the distribution, as we can use them for descriptions like *\"the middle 50% of the \n",
    "homes have areas between such and such square feet\"*."
   ]
  },
  {
   "cell_type": "code",
   "execution_count": 4,
   "metadata": {},
   "outputs": [
    {
     "data": {
      "text/html": [
       "<table>\n",
       "<caption>A tibble: 1 × 8</caption>\n",
       "<thead>\n",
       "\t<tr><th scope=col>mu</th><th scope=col>pop_med</th><th scope=col>sigma</th><th scope=col>pop_iqr</th><th scope=col>pop_min</th><th scope=col>pop_max</th><th scope=col>pop_q1</th><th scope=col>pop_q3</th></tr>\n",
       "\t<tr><th scope=col>&lt;dbl&gt;</th><th scope=col>&lt;dbl&gt;</th><th scope=col>&lt;dbl&gt;</th><th scope=col>&lt;dbl&gt;</th><th scope=col>&lt;int&gt;</th><th scope=col>&lt;int&gt;</th><th scope=col>&lt;dbl&gt;</th><th scope=col>&lt;dbl&gt;</th></tr>\n",
       "</thead>\n",
       "<tbody>\n",
       "\t<tr><td>1499.69</td><td>1442</td><td>505.5089</td><td>616.75</td><td>334</td><td>5642</td><td>1126</td><td>1742.75</td></tr>\n",
       "</tbody>\n",
       "</table>\n"
      ],
      "text/latex": [
       "A tibble: 1 × 8\n",
       "\\begin{tabular}{llllllll}\n",
       " mu & pop\\_med & sigma & pop\\_iqr & pop\\_min & pop\\_max & pop\\_q1 & pop\\_q3\\\\\n",
       " <dbl> & <dbl> & <dbl> & <dbl> & <int> & <int> & <dbl> & <dbl>\\\\\n",
       "\\hline\n",
       "\t 1499.69 & 1442 & 505.5089 & 616.75 & 334 & 5642 & 1126 & 1742.75\\\\\n",
       "\\end{tabular}\n"
      ],
      "text/markdown": [
       "\n",
       "A tibble: 1 × 8\n",
       "\n",
       "| mu &lt;dbl&gt; | pop_med &lt;dbl&gt; | sigma &lt;dbl&gt; | pop_iqr &lt;dbl&gt; | pop_min &lt;int&gt; | pop_max &lt;int&gt; | pop_q1 &lt;dbl&gt; | pop_q3 &lt;dbl&gt; |\n",
       "|---|---|---|---|---|---|---|---|\n",
       "| 1499.69 | 1442 | 505.5089 | 616.75 | 334 | 5642 | 1126 | 1742.75 |\n",
       "\n"
      ],
      "text/plain": [
       "  mu      pop_med sigma    pop_iqr pop_min pop_max pop_q1 pop_q3 \n",
       "1 1499.69 1442    505.5089 616.75  334     5642    1126   1742.75"
      ]
     },
     "metadata": {},
     "output_type": "display_data"
    }
   ],
   "source": [
    "ames %>%\n",
    "  summarise(mu = mean(area), pop_med = median(area), \n",
    "            sigma = sd(area), pop_iqr = IQR(area),\n",
    "            pop_min = min(area), pop_max = max(area),\n",
    "            pop_q1 = quantile(area, 0.25),  # first quartile, 25th percentile\n",
    "            pop_q3 = quantile(area, 0.75))  # third quartile, 75th percentile"
   ]
  },
  {
   "cell_type": "markdown",
   "metadata": {},
   "source": [
    "### The unknown sampling distribution\n",
    "\n",
    "In this lab we have access to the entire population, but this is rarely the case in real life. Gathering information on an entire population is often extremely costly or impossible. Because of this, we often take a sample of the population and use that to understand the properties of the population.\n",
    "\n",
    "If we were interested in estimating the mean living area in Ames based on a sample, we can use the following command to survey the population."
   ]
  },
  {
   "cell_type": "code",
   "execution_count": 5,
   "metadata": {},
   "outputs": [],
   "source": [
    "samp1 <- ames %>%\n",
    "  sample_n(size = 50)"
   ]
  },
  {
   "cell_type": "markdown",
   "metadata": {},
   "source": [
    "This command collects a simple random sample of `size` 50 from the `ames` dataset, which is assigned to `samp1`. This is like going into the City Assessor's database and pulling up the files on 50 random home sales. Working with these 50 files would be considerably simpler than working with all 2930 home sales."
   ]
  },
  {
   "cell_type": "code",
   "execution_count": 6,
   "metadata": {},
   "outputs": [
    {
     "data": {
      "image/png": "[encoded data removed]",
      "text/plain": [
       "plot without title"
      ]
     },
     "metadata": {
      "image/png": {
       "height": 420,
       "width": 420
      },
      "text/plain": {
       "height": 420,
       "width": 420
      }
     },
     "output_type": "display_data"
    }
   ],
   "source": [
    "ggplot(data = samp1, aes(x = area)) + geom_histogram(binwidth = 250)"
   ]
  },
  {
   "cell_type": "markdown",
   "metadata": {},
   "source": [
    "If we're interested in estimating the average living area in homes in Ames using the sample, our best single guess is the sample mean."
   ]
  },
  {
   "cell_type": "code",
   "execution_count": 7,
   "metadata": {},
   "outputs": [
    {
     "data": {
      "text/html": [
       "<table>\n",
       "<caption>A tibble: 1 × 1</caption>\n",
       "<thead>\n",
       "\t<tr><th scope=col>x_bar</th></tr>\n",
       "\t<tr><th scope=col>&lt;dbl&gt;</th></tr>\n",
       "</thead>\n",
       "<tbody>\n",
       "\t<tr><td>1403.5</td></tr>\n",
       "</tbody>\n",
       "</table>\n"
      ],
      "text/latex": [
       "A tibble: 1 × 1\n",
       "\\begin{tabular}{l}\n",
       " x\\_bar\\\\\n",
       " <dbl>\\\\\n",
       "\\hline\n",
       "\t 1403.5\\\\\n",
       "\\end{tabular}\n"
      ],
      "text/markdown": [
       "\n",
       "A tibble: 1 × 1\n",
       "\n",
       "| x_bar &lt;dbl&gt; |\n",
       "|---|\n",
       "| 1403.5 |\n",
       "\n"
      ],
      "text/plain": [
       "  x_bar \n",
       "1 1403.5"
      ]
     },
     "metadata": {},
     "output_type": "display_data"
    }
   ],
   "source": [
    "samp1 %>%\n",
    "  summarise(x_bar = mean(area))"
   ]
  },
  {
   "cell_type": "markdown",
   "metadata": {},
   "source": [
    "Depending on which 50 homes you selected, your estimate could be a bit above or a bit below the true population mean of 1,499.69 square feet. In general, though, the sample mean turns out to be a pretty good estimate of the average living area, and we were able to get it by sampling less than 3\\% of the population.\n",
    "\n",
    "Let's take one more sample of size 50, and view the mean area in this sample:"
   ]
  },
  {
   "cell_type": "code",
   "execution_count": 8,
   "metadata": {},
   "outputs": [
    {
     "data": {
      "text/html": [
       "<table>\n",
       "<caption>A tibble: 1 × 1</caption>\n",
       "<thead>\n",
       "\t<tr><th scope=col>x_bar</th></tr>\n",
       "\t<tr><th scope=col>&lt;dbl&gt;</th></tr>\n",
       "</thead>\n",
       "<tbody>\n",
       "\t<tr><td>1433.52</td></tr>\n",
       "</tbody>\n",
       "</table>\n"
      ],
      "text/latex": [
       "A tibble: 1 × 1\n",
       "\\begin{tabular}{l}\n",
       " x\\_bar\\\\\n",
       " <dbl>\\\\\n",
       "\\hline\n",
       "\t 1433.52\\\\\n",
       "\\end{tabular}\n"
      ],
      "text/markdown": [
       "\n",
       "A tibble: 1 × 1\n",
       "\n",
       "| x_bar &lt;dbl&gt; |\n",
       "|---|\n",
       "| 1433.52 |\n",
       "\n"
      ],
      "text/plain": [
       "  x_bar  \n",
       "1 1433.52"
      ]
     },
     "metadata": {},
     "output_type": "display_data"
    }
   ],
   "source": [
    "ames %>%\n",
    "  sample_n(size = 50) %>%\n",
    "  summarise(x_bar = mean(area))"
   ]
  },
  {
   "cell_type": "markdown",
   "metadata": {},
   "source": [
    "Not surprisingly, every time we take another random sample, we get a different sample mean. It's useful to get a sense of just how much variability we \n",
    "should expect when estimating the population mean this way. The distribution of sample means, called the *sampling distribution*, can help us understand \n",
    "this variability. In this lab, because we have access to the population, we can build up the sampling distribution for the sample mean by repeating the \n",
    "above steps many times. Here we will generate 15,000 samples and compute the sample mean of each. Note that we are sampling with replacement, \n",
    "`replace = TRUE` since sampling distributions are constructed with sampling with replacement."
   ]
  },
  {
   "cell_type": "code",
   "execution_count": 9,
   "metadata": {},
   "outputs": [
    {
     "name": "stderr",
     "output_type": "stream",
     "text": [
      "`summarise()` ungrouping output (override with `.groups` argument)\n",
      "\n"
     ]
    },
    {
     "data": {
      "image/png": "[encoded data removed]",
      "text/plain": [
       "plot without title"
      ]
     },
     "metadata": {
      "image/png": {
       "height": 420,
       "width": 420
      },
      "text/plain": {
       "height": 420,
       "width": 420
      }
     },
     "output_type": "display_data"
    }
   ],
   "source": [
    "sample_means50 <- ames %>%\n",
    "                    rep_sample_n(size = 50, reps = 15000, replace = TRUE) %>%\n",
    "                    summarise(x_bar = mean(area))\n",
    "\n",
    "ggplot(data = sample_means50, aes(x = x_bar)) +\n",
    "  geom_histogram(binwidth = 20)"
   ]
  },
  {
   "cell_type": "markdown",
   "metadata": {},
   "source": [
    "Here we use R to take 15,000 samples of size 50 from the population, calculate the mean of each sample, and store each result in a vector called `sample_means50`. Next, we review how this set of code works.\n",
    "\n",
    "How many elements are there in `sample_means50`? Describe the sampling distribution, and be sure to specifically note its center. Make sure to include a plot of the distribution in your answer."
   ]
  },
  {
   "cell_type": "code",
   "execution_count": 10,
   "metadata": {},
   "outputs": [
    {
     "data": {
      "text/html": [
       "<table>\n",
       "<caption>A tibble: 1 × 2</caption>\n",
       "<thead>\n",
       "\t<tr><th scope=col>Obs_sm50</th><th scope=col>mean_sm50</th></tr>\n",
       "\t<tr><th scope=col>&lt;int&gt;</th><th scope=col>&lt;dbl&gt;</th></tr>\n",
       "</thead>\n",
       "<tbody>\n",
       "\t<tr><td>15000</td><td>1499.013</td></tr>\n",
       "</tbody>\n",
       "</table>\n"
      ],
      "text/latex": [
       "A tibble: 1 × 2\n",
       "\\begin{tabular}{ll}\n",
       " Obs\\_sm50 & mean\\_sm50\\\\\n",
       " <int> & <dbl>\\\\\n",
       "\\hline\n",
       "\t 15000 & 1499.013\\\\\n",
       "\\end{tabular}\n"
      ],
      "text/markdown": [
       "\n",
       "A tibble: 1 × 2\n",
       "\n",
       "| Obs_sm50 &lt;int&gt; | mean_sm50 &lt;dbl&gt; |\n",
       "|---|---|\n",
       "| 15000 | 1499.013 |\n",
       "\n"
      ],
      "text/plain": [
       "  Obs_sm50 mean_sm50\n",
       "1 15000    1499.013 "
      ]
     },
     "metadata": {},
     "output_type": "display_data"
    },
    {
     "data": {
      "image/png": "[encoded data removed]",
      "text/plain": [
       "plot without title"
      ]
     },
     "metadata": {
      "image/png": {
       "height": 420,
       "width": 420
      },
      "text/plain": {
       "height": 420,
       "width": 420
      }
     },
     "output_type": "display_data"
    }
   ],
   "source": [
    "sample_means50 %>% summarise(Obs_sm50 = n(), mean_sm50 = mean(x_bar) )\n",
    "\n",
    "ggplot(data = sample_means50, aes(x = x_bar)) + geom_histogram(binwidth = 5)"
   ]
  },
  {
   "cell_type": "markdown",
   "metadata": {},
   "source": [
    "### Interlude: Sampling distributions\n",
    "\n",
    "The idea behind the `rep_sample_n` function is *repetition*. Earlier we took a single sample of size `n` (50) from the population of all houses in Ames. With this new function we are able to repeat this sampling procedure `rep` times in order\n",
    "to build a distribution of a series of sample statistics, which is called the **sampling distribution**. \n",
    "\n",
    "Note that in practice one rarely gets to build sampling distributions, because we rarely have access to data from the entire population. \n",
    "\n",
    "Without the `rep_sample_n` function, this would be painful. We would have to manually run the following code 15,000 times. "
   ]
  },
  {
   "cell_type": "code",
   "execution_count": 11,
   "metadata": {},
   "outputs": [
    {
     "data": {
      "text/html": [
       "<table>\n",
       "<caption>A tibble: 1 × 1</caption>\n",
       "<thead>\n",
       "\t<tr><th scope=col>x_bar</th></tr>\n",
       "\t<tr><th scope=col>&lt;dbl&gt;</th></tr>\n",
       "</thead>\n",
       "<tbody>\n",
       "\t<tr><td>1555.4</td></tr>\n",
       "</tbody>\n",
       "</table>\n"
      ],
      "text/latex": [
       "A tibble: 1 × 1\n",
       "\\begin{tabular}{l}\n",
       " x\\_bar\\\\\n",
       " <dbl>\\\\\n",
       "\\hline\n",
       "\t 1555.4\\\\\n",
       "\\end{tabular}\n"
      ],
      "text/markdown": [
       "\n",
       "A tibble: 1 × 1\n",
       "\n",
       "| x_bar &lt;dbl&gt; |\n",
       "|---|\n",
       "| 1555.4 |\n",
       "\n"
      ],
      "text/plain": [
       "  x_bar \n",
       "1 1555.4"
      ]
     },
     "metadata": {},
     "output_type": "display_data"
    }
   ],
   "source": [
    "ames %>%\n",
    "  sample_n(size = 50) %>%\n",
    "  summarise(x_bar = mean(area))"
   ]
  },
  {
   "cell_type": "markdown",
   "metadata": {},
   "source": [
    "As well as store the resulting sample means each time in a separate vector.\n",
    "\n",
    "Note that for each of the 15,000 times we computed a mean, we did so from a **different** sample!"
   ]
  },
  {
   "cell_type": "markdown",
   "metadata": {},
   "source": [
    "To make sure you understand how sampling distributions are built, and exactly what the `sample_n` and `do` function do, try modifying the code to create a sampling distribution of **25 sample means** from **samples of size 10**, and put them in a data frame named `sample_means_small`. Print the output. How many observations are there in this object called `sample_means_small`? What does each observation represent?"
   ]
  },
  {
   "cell_type": "code",
   "execution_count": 12,
   "metadata": {},
   "outputs": [
    {
     "name": "stderr",
     "output_type": "stream",
     "text": [
      "`summarise()` ungrouping output (override with `.groups` argument)\n",
      "\n"
     ]
    }
   ],
   "source": [
    "sample_means_small <- ames %>% rep_sample_n(size = 10, reps = 25, replace = TRUE) %>%\n",
    "                    summarise(x_bar_sms = mean(area))"
   ]
  },
  {
   "cell_type": "code",
   "execution_count": 13,
   "metadata": {},
   "outputs": [
    {
     "data": {
      "text/html": [
       "<table>\n",
       "<caption>A tibble: 6 × 2</caption>\n",
       "<thead>\n",
       "\t<tr><th scope=col>replicate</th><th scope=col>x_bar_sms</th></tr>\n",
       "\t<tr><th scope=col>&lt;int&gt;</th><th scope=col>&lt;dbl&gt;</th></tr>\n",
       "</thead>\n",
       "<tbody>\n",
       "\t<tr><td>1</td><td>1640.4</td></tr>\n",
       "\t<tr><td>2</td><td>1889.0</td></tr>\n",
       "\t<tr><td>3</td><td>1538.1</td></tr>\n",
       "\t<tr><td>4</td><td>1607.4</td></tr>\n",
       "\t<tr><td>5</td><td>1564.2</td></tr>\n",
       "\t<tr><td>6</td><td>1380.2</td></tr>\n",
       "</tbody>\n",
       "</table>\n"
      ],
      "text/latex": [
       "A tibble: 6 × 2\n",
       "\\begin{tabular}{ll}\n",
       " replicate & x\\_bar\\_sms\\\\\n",
       " <int> & <dbl>\\\\\n",
       "\\hline\n",
       "\t 1 & 1640.4\\\\\n",
       "\t 2 & 1889.0\\\\\n",
       "\t 3 & 1538.1\\\\\n",
       "\t 4 & 1607.4\\\\\n",
       "\t 5 & 1564.2\\\\\n",
       "\t 6 & 1380.2\\\\\n",
       "\\end{tabular}\n"
      ],
      "text/markdown": [
       "\n",
       "A tibble: 6 × 2\n",
       "\n",
       "| replicate &lt;int&gt; | x_bar_sms &lt;dbl&gt; |\n",
       "|---|---|\n",
       "| 1 | 1640.4 |\n",
       "| 2 | 1889.0 |\n",
       "| 3 | 1538.1 |\n",
       "| 4 | 1607.4 |\n",
       "| 5 | 1564.2 |\n",
       "| 6 | 1380.2 |\n",
       "\n"
      ],
      "text/plain": [
       "  replicate x_bar_sms\n",
       "1 1         1640.4   \n",
       "2 2         1889.0   \n",
       "3 3         1538.1   \n",
       "4 4         1607.4   \n",
       "5 5         1564.2   \n",
       "6 6         1380.2   "
      ]
     },
     "metadata": {},
     "output_type": "display_data"
    }
   ],
   "source": [
    "head(sample_means_small)"
   ]
  },
  {
   "cell_type": "code",
   "execution_count": 14,
   "metadata": {},
   "outputs": [
    {
     "data": {
      "image/png": "[encoded data removed]",
      "text/plain": [
       "Plot with title \"Histogram of sample_means_small$x_bar_sms\""
      ]
     },
     "metadata": {
      "image/png": {
       "height": 420,
       "width": 420
      },
      "text/plain": {
       "height": 420,
       "width": 420
      }
     },
     "output_type": "display_data"
    }
   ],
   "source": [
    "hist(sample_means_small$x_bar_sms)"
   ]
  },
  {
   "cell_type": "code",
   "execution_count": 15,
   "metadata": {},
   "outputs": [
    {
     "data": {
      "text/html": [
       "25"
      ],
      "text/latex": [
       "25"
      ],
      "text/markdown": [
       "25"
      ],
      "text/plain": [
       "[1] 25"
      ]
     },
     "metadata": {},
     "output_type": "display_data"
    }
   ],
   "source": [
    "nrow(sample_means_small)"
   ]
  },
  {
   "cell_type": "markdown",
   "metadata": {},
   "source": [
    "Each element represents a mean square footage from a simple random sample of 10 houses."
   ]
  },
  {
   "cell_type": "markdown",
   "metadata": {},
   "source": [
    "### Sample size and the sampling distribution\n",
    "\n",
    "Mechanics aside, let's return to the reason we used the `rep_sample_n` function: to compute a sampling distribution, specifically, this one."
   ]
  },
  {
   "cell_type": "code",
   "execution_count": 16,
   "metadata": {},
   "outputs": [
    {
     "data": {
      "image/png": "[encoded data removed]",
      "text/plain": [
       "plot without title"
      ]
     },
     "metadata": {
      "image/png": {
       "height": 420,
       "width": 420
      },
      "text/plain": {
       "height": 420,
       "width": 420
      }
     },
     "output_type": "display_data"
    }
   ],
   "source": [
    "ggplot(data = sample_means50, aes(x = x_bar)) +\n",
    "  geom_histogram(binwidth = 20)"
   ]
  },
  {
   "cell_type": "markdown",
   "metadata": {},
   "source": [
    "The sampling distribution that we computed tells us much about estimating the average living area in homes in Ames.  Because the sample mean is an unbiased estimator, the sampling distribution is centered at the true average living area of the population, and the spread of the distribution indicates how much variability is induced by sampling only 50 home sales.\n",
    "\n",
    "In the remainder of this section we will work on getting a sense of the effect that sample size has on our sampling distribution."
   ]
  },
  {
   "cell_type": "markdown",
   "metadata": {},
   "source": [
    "Use the app below to create sampling distributions of means of `area`s from samples of size 10, 50, and 100. Use 5,000 simulations. What does each observation in the sampling distribution represent? How does the mean, standard error, and shape of the sampling distribution change as the sample size increases? How (if at all) do these values change if you increase the number of simulations?"
   ]
  },
  {
   "cell_type": "markdown",
   "metadata": {},
   "source": [
    "```R\n",
    "shinyApp(\n",
    "  ui <- fluidPage(\n",
    "    \n",
    "    # Sidebar with a slider input for number of bins \n",
    "    sidebarLayout(\n",
    "      sidebarPanel(\n",
    "        \n",
    "        selectInput(\"selected_var\",\n",
    "                    \"Variable:\",\n",
    "                    choices = list(\"area\", \"price\"),\n",
    "                    selected = \"area\"),         \n",
    "        \n",
    "        numericInput(\"n_samp\",\n",
    "                     \"Sample size:\",\n",
    "                     min = 1,\n",
    "                     max = nrow(ames),\n",
    "                     value = 30),\n",
    "        \n",
    "        numericInput(\"n_sim\",\n",
    "                     \"Number of samples:\",\n",
    "                     min = 1,\n",
    "                     max = 30000,\n",
    "                     value = 15000) \n",
    "        \n",
    "      ),\n",
    "      \n",
    "      # Show a plot of the generated distribution\n",
    "      mainPanel(\n",
    "        plotOutput(\"sampling_plot\"),\n",
    "        verbatimTextOutput(\"sampling_mean\"),\n",
    "        verbatimTextOutput(\"sampling_se\")\n",
    "      )\n",
    "    )\n",
    "  ),\n",
    "  \n",
    "  # Define server logic required to draw a histogram\n",
    "  server <- function(input, output) {\n",
    "    \n",
    "    # create sampling distribution\n",
    "    sampling_dist <- reactive({\n",
    "      ames[[input$selected_var]] %>%\n",
    "        sample(size = input$n_samp * input$n_sim, replace = TRUE) %>%\n",
    "        matrix(ncol = input$n_samp) %>%\n",
    "        rowMeans() %>%\n",
    "        data.frame(x_bar = .)\n",
    "      #ames %>%\n",
    "      #  rep_sample_n(size = input$n_samp, reps = input$n_sim, replace = TRUE) %>%\n",
    "      #  summarise_(x_bar = mean(input$selected_var))\n",
    "    })\n",
    "    \n",
    "    # plot sampling distribution\n",
    "    output$sampling_plot <- renderPlot({\n",
    "      x_min <- quantile(ames[[input$selected_var]], 0.1)\n",
    "      x_max <- quantile(ames[[input$selected_var]], 0.9)\n",
    "      \n",
    "      ggplot(sampling_dist(), aes(x = x_bar)) +\n",
    "        geom_histogram() +\n",
    "        xlim(x_min, x_max) +\n",
    "        ylim(0, input$n_sim * 0.35) +\n",
    "        ggtitle(paste0(\"Sampling distribution of mean \", \n",
    "                       input$selected_var, \" (n = \", input$n_samp, \")\")) +\n",
    "        xlab(paste(\"mean\", input$selected_var)) +\n",
    "        theme(plot.title = element_text(face = \"bold\", size = 16))\n",
    "    })\n",
    "    \n",
    "    # mean of sampling distribution\n",
    "    output$sampling_mean <- renderText({\n",
    "      paste0(\"mean of sampling distribution = \", round(mean(sampling_dist()$x_bar), 2))\n",
    "    })\n",
    "    \n",
    "    # mean of sampling distribution\n",
    "    output$sampling_se <- renderText({\n",
    "      paste0(\"SE of sampling distribution = \", round(sd(sampling_dist()$x_bar), 2))\n",
    "    })\n",
    "  },\n",
    "  \n",
    "  options = list(height = 500) \n",
    ")\n",
    "```"
   ]
  },
  {
   "cell_type": "markdown",
   "metadata": {},
   "source": [
    "Take a random sample of size 50 from `price`. Using this sample, what is your best point estimate of the population mean?"
   ]
  },
  {
   "cell_type": "code",
   "execution_count": 17,
   "metadata": {},
   "outputs": [
    {
     "data": {
      "text/html": [
       "<table>\n",
       "<caption>A tibble: 1 × 1</caption>\n",
       "<thead>\n",
       "\t<tr><th scope=col>mean(price)</th></tr>\n",
       "\t<tr><th scope=col>&lt;dbl&gt;</th></tr>\n",
       "</thead>\n",
       "<tbody>\n",
       "\t<tr><td>197223.4</td></tr>\n",
       "</tbody>\n",
       "</table>\n"
      ],
      "text/latex": [
       "A tibble: 1 × 1\n",
       "\\begin{tabular}{l}\n",
       " mean(price)\\\\\n",
       " <dbl>\\\\\n",
       "\\hline\n",
       "\t 197223.4\\\\\n",
       "\\end{tabular}\n"
      ],
      "text/markdown": [
       "\n",
       "A tibble: 1 × 1\n",
       "\n",
       "| mean(price) &lt;dbl&gt; |\n",
       "|---|\n",
       "| 197223.4 |\n",
       "\n"
      ],
      "text/plain": [
       "  mean(price)\n",
       "1 197223.4   "
      ]
     },
     "metadata": {},
     "output_type": "display_data"
    }
   ],
   "source": [
    "ames %>% sample_n(50) %>% summarise(mean(price))"
   ]
  },
  {
   "cell_type": "markdown",
   "metadata": {},
   "source": [
    "Since you have access to the population, simulate the sampling distribution for $\\bar{x}_{price}$ by taking 5000 samples from the population of size 50 and computing 5000 sample means.  Store these means in a vector called `sample_means50`. Plot the data, then describe the shape of this sampling distribution. Based on this sampling distribution, what would you guess the mean home price of the population to be?"
   ]
  },
  {
   "cell_type": "code",
   "execution_count": 18,
   "metadata": {},
   "outputs": [
    {
     "name": "stderr",
     "output_type": "stream",
     "text": [
      "`summarise()` ungrouping output (override with `.groups` argument)\n",
      "\n"
     ]
    },
    {
     "data": {
      "image/png": "[encoded data removed]",
      "text/plain": [
       "plot without title"
      ]
     },
     "metadata": {
      "image/png": {
       "height": 420,
       "width": 420
      },
      "text/plain": {
       "height": 420,
       "width": 420
      }
     },
     "output_type": "display_data"
    }
   ],
   "source": [
    "sample_means50 <- ames %>% rep_sample_n(size = 50, reps = 5000, replace = TRUE) %>%\n",
    "                    summarise(barx_price = mean(price))\n",
    "\n",
    "ggplot(data = sample_means50, aes(x = barx_price)) +\n",
    "  geom_histogram(binwidth = 250)"
   ]
  },
  {
   "cell_type": "markdown",
   "metadata": {},
   "source": [
    "Change your sample size from 50 to 150, then compute the sampling distribution using the same method as above, and store these means in a new vector called `sample_means150`. Describe the shape of this sampling distribution, and compare it to the sampling distribution for a sample size of 50.  Based on this sampling distribution, what would you guess to be the mean sale price of homes in Ames?"
   ]
  },
  {
   "cell_type": "code",
   "execution_count": 19,
   "metadata": {},
   "outputs": [
    {
     "name": "stderr",
     "output_type": "stream",
     "text": [
      "`summarise()` ungrouping output (override with `.groups` argument)\n",
      "\n"
     ]
    },
    {
     "data": {
      "image/png": "[encoded data removed]",
      "text/plain": [
       "plot without title"
      ]
     },
     "metadata": {
      "image/png": {
       "height": 420,
       "width": 420
      },
      "text/plain": {
       "height": 420,
       "width": 420
      }
     },
     "output_type": "display_data"
    }
   ],
   "source": [
    "sample_means150 <- ames %>% rep_sample_n(size = 150, reps = 5000, replace = TRUE) %>%\n",
    "                    summarise(barx_price = mean(price))\n",
    "\n",
    "ggplot(data = sample_means150, aes(x = barx_price)) +\n",
    "  geom_histogram(binwidth = 250)"
   ]
  },
  {
   "cell_type": "code",
   "execution_count": 20,
   "metadata": {},
   "outputs": [
    {
     "data": {
      "text/plain": [
       "   Min. 1st Qu.  Median    Mean 3rd Qu.    Max. \n",
       " 158607  176237  180476  180628  184788  203839 "
      ]
     },
     "metadata": {},
     "output_type": "display_data"
    }
   ],
   "source": [
    "summary(sample_means150$barx_price)"
   ]
  },
  {
   "cell_type": "markdown",
   "metadata": {},
   "source": [
    "So far, we have only focused on estimating the mean living area in homes in Ames. Now you'll try to estimate the mean home price.\n",
    "\n",
    "Note that while you might be able to answer some of these questions using the app you are expected to write the required code and produce the necessary plots and summary statistics. You are welcomed to use the app for exploration.\n",
    "\n",
    "\n",
    "Take a sample of size 15 from the population and calculate the mean `price` of the homes in this sample. Using this sample, what is your best point estimate of the population mean of prices of homes?"
   ]
  },
  {
   "cell_type": "code",
   "execution_count": 21,
   "metadata": {},
   "outputs": [
    {
     "data": {
      "text/html": [
       "<table>\n",
       "<caption>A tibble: 1 × 1</caption>\n",
       "<thead>\n",
       "\t<tr><th scope=col>mean(price)</th></tr>\n",
       "\t<tr><th scope=col>&lt;dbl&gt;</th></tr>\n",
       "</thead>\n",
       "<tbody>\n",
       "\t<tr><td>199506.7</td></tr>\n",
       "</tbody>\n",
       "</table>\n"
      ],
      "text/latex": [
       "A tibble: 1 × 1\n",
       "\\begin{tabular}{l}\n",
       " mean(price)\\\\\n",
       " <dbl>\\\\\n",
       "\\hline\n",
       "\t 199506.7\\\\\n",
       "\\end{tabular}\n"
      ],
      "text/markdown": [
       "\n",
       "A tibble: 1 × 1\n",
       "\n",
       "| mean(price) &lt;dbl&gt; |\n",
       "|---|\n",
       "| 199506.7 |\n",
       "\n"
      ],
      "text/plain": [
       "  mean(price)\n",
       "1 199506.7   "
      ]
     },
     "metadata": {},
     "output_type": "display_data"
    }
   ],
   "source": [
    "ames %>% sample_n(15) %>% summarise(mean(price))"
   ]
  },
  {
   "cell_type": "markdown",
   "metadata": {},
   "source": [
    "Since you have access to the population, simulate the sampling distribution for $\\bar{x}_{price}$ by taking 2000 samples from the population of size 15 and computing 2000 sample means. Store these means in a vector called `sample_means15`. Plot the data, then describe the shape of this sampling distribution. Based on this sampling distribution, what would you guess the mean home price of the population to be? Finally, calculate and report the population mean."
   ]
  },
  {
   "cell_type": "code",
   "execution_count": 22,
   "metadata": {},
   "outputs": [
    {
     "name": "stderr",
     "output_type": "stream",
     "text": [
      "`summarise()` ungrouping output (override with `.groups` argument)\n",
      "\n"
     ]
    },
    {
     "data": {
      "image/png": "[encoded data removed]",
      "text/plain": [
       "plot without title"
      ]
     },
     "metadata": {
      "image/png": {
       "height": 420,
       "width": 420
      },
      "text/plain": {
       "height": 420,
       "width": 420
      }
     },
     "output_type": "display_data"
    }
   ],
   "source": [
    "sample_means15 <- ames %>% rep_sample_n(size = 15, reps = 2000, replace = TRUE) %>%\n",
    "                    summarise(barx_price = mean(price))\n",
    "\n",
    "ggplot(data = sample_means150, aes(x = barx_price)) +\n",
    "  geom_histogram(binwidth = 150)"
   ]
  },
  {
   "cell_type": "code",
   "execution_count": 23,
   "metadata": {},
   "outputs": [
    {
     "data": {
      "text/plain": [
       "   Min. 1st Qu.  Median    Mean 3rd Qu.    Max. \n",
       " 123513  165943  179036  180595  194171  265100 "
      ]
     },
     "metadata": {},
     "output_type": "display_data"
    }
   ],
   "source": [
    "summary(sample_means15$barx_price)"
   ]
  },
  {
   "cell_type": "markdown",
   "metadata": {},
   "source": [
    "Change your sample size from 15 to 150, then compute the sampling distribution using the same method as above, and store these means in a new vector called `sample_means150`. Describe the shape of this sampling distribution, and compare it to the sampling distribution for a sample size of 15. Based on this sampling distribution, what would you guess to be the mean sale price of homes in Ames?"
   ]
  },
  {
   "cell_type": "code",
   "execution_count": 24,
   "metadata": {},
   "outputs": [
    {
     "name": "stderr",
     "output_type": "stream",
     "text": [
      "`summarise()` ungrouping output (override with `.groups` argument)\n",
      "\n"
     ]
    },
    {
     "data": {
      "image/png": "[encoded data removed]",
      "text/plain": [
       "plot without title"
      ]
     },
     "metadata": {
      "image/png": {
       "height": 420,
       "width": 420
      },
      "text/plain": {
       "height": 420,
       "width": 420
      }
     },
     "output_type": "display_data"
    }
   ],
   "source": [
    "sample_means150 <- ames %>% rep_sample_n(size = 150, reps = 5000, replace = TRUE) %>%\n",
    "                    summarise(barx_price = mean(price))\n",
    "\n",
    "ggplot(data = sample_means150, aes(x = barx_price)) +\n",
    "  geom_histogram(binwidth = 250)"
   ]
  },
  {
   "cell_type": "code",
   "execution_count": 25,
   "metadata": {},
   "outputs": [
    {
     "data": {
      "text/plain": [
       "   Min. 1st Qu.  Median    Mean 3rd Qu.    Max. \n",
       " 160430  176287  180640  180852  185174  209633 "
      ]
     },
     "metadata": {},
     "output_type": "display_data"
    }
   ],
   "source": [
    "summary(sample_means150$barx_price)"
   ]
  }
 ],
 "metadata": {
  "kernelspec": {
   "display_name": "R",
   "language": "R",
   "name": "ir"
  },
  "language_info": {
   "codemirror_mode": "r",
   "file_extension": ".r",
   "mimetype": "text/x-r-source",
   "name": "R",
   "pygments_lexer": "r",
   "version": "3.6.3"
  }
 },
 "nbformat": 4,
 "nbformat_minor": 4
}
