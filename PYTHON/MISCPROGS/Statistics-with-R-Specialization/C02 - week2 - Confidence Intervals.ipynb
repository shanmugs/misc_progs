{
 "cells": [
  {
   "cell_type": "markdown",
   "metadata": {},
   "source": [
    "# Foundations for Inference - Confidence Intervals"
   ]
  },
  {
   "cell_type": "markdown",
   "metadata": {},
   "source": [
    "<img src=\"images/Ames2.jpg\"/>"
   ]
  },
  {
   "cell_type": "markdown",
   "metadata": {},
   "source": [
    "If you have access to data on an entire population, say the size of every house in Ames, Iowa, it's straight forward to answer questions like, \"How big is the typical house in Ames?\" and \"How much variation is there in sizes of houses?\". If you have access to only a sample of the population, as is often the case, the task becomes more complicated. What is your best guess for the typical size if you only know the sizes of several dozen houses? This sort of situation requires that you use your sample to make inference on what your population looks like.\n",
    "\n",
    "We will take some random samples and calculate confidence based on these samples in this lab, which means you should set a seed on top of your lab. If  this concept is new to you, review the previous lab and ask your TA.\n",
    "\n",
    "Setting a seed will cause R to sample the same sample each time you knit your document. This will make sure your results don't change each time you knit, and it will also ensure reproducibility of your work (by setting the same seed it will be possible to reproduce your results). You can set a seed like this:\n",
    "\n",
    "    set.seed(9102015)\n",
    "\n",
    "The number above is completely arbitraty. If you need inspiration, you can use your ID, birthday, or just a random string of numbers. The important thing is that you use each seed only once. You only need to do this once in your R Markdown document,\n",
    "but make sure it comes before sampling."
   ]
  },
  {
   "cell_type": "code",
   "execution_count": 1,
   "metadata": {},
   "outputs": [],
   "source": [
    "set.seed(9102015) "
   ]
  },
  {
   "cell_type": "markdown",
   "metadata": {},
   "source": [
    "### Libraries\n",
    "In this lab we will explore the data using the `dplyr` package and visualize it using the `ggplot2` package for data visualization. The data can be found in the companion package for this course, `statsr`."
   ]
  },
  {
   "cell_type": "code",
   "execution_count": 2,
   "metadata": {},
   "outputs": [
    {
     "name": "stderr",
     "output_type": "stream",
     "text": [
      "\n",
      "Attaching package: 'dplyr'\n",
      "\n",
      "\n",
      "The following objects are masked from 'package:stats':\n",
      "\n",
      "    filter, lag\n",
      "\n",
      "\n",
      "The following objects are masked from 'package:base':\n",
      "\n",
      "    intersect, setdiff, setequal, union\n",
      "\n",
      "\n"
     ]
    }
   ],
   "source": [
    "#install.packages(\"package\")\n",
    "library(statsr)\n",
    "library(dplyr)\n",
    "library(ggplot2)\n",
    "library(tidyr)"
   ]
  },
  {
   "cell_type": "markdown",
   "metadata": {},
   "source": [
    "We consider real estate data from the city of Ames, Iowa. This is the same dataset used in the previous lab. The details of \n",
    "every real estate transaction in Ames is recorded by the City Assessor's office. Our particular focus for this lab will be all residential home sales \n",
    "in Ames between 2006 and 2010.  This collection represents our population of interest. In this lab we would like to learn about these home sales by taking \n",
    "smaller samples from the full population. Let's load the data."
   ]
  },
  {
   "cell_type": "markdown",
   "metadata": {},
   "source": [
    "### Load Data"
   ]
  },
  {
   "cell_type": "code",
   "execution_count": 3,
   "metadata": {},
   "outputs": [
    {
     "data": {
      "text/html": [
       "<table>\n",
       "<caption>A tibble: 6 × 82</caption>\n",
       "<thead>\n",
       "\t<tr><th scope=col>Order</th><th scope=col>PID</th><th scope=col>area</th><th scope=col>price</th><th scope=col>MS.SubClass</th><th scope=col>MS.Zoning</th><th scope=col>Lot.Frontage</th><th scope=col>Lot.Area</th><th scope=col>Street</th><th scope=col>Alley</th><th scope=col>⋯</th><th scope=col>Screen.Porch</th><th scope=col>Pool.Area</th><th scope=col>Pool.QC</th><th scope=col>Fence</th><th scope=col>Misc.Feature</th><th scope=col>Misc.Val</th><th scope=col>Mo.Sold</th><th scope=col>Yr.Sold</th><th scope=col>Sale.Type</th><th scope=col>Sale.Condition</th></tr>\n",
       "\t<tr><th scope=col>&lt;int&gt;</th><th scope=col>&lt;int&gt;</th><th scope=col>&lt;int&gt;</th><th scope=col>&lt;int&gt;</th><th scope=col>&lt;int&gt;</th><th scope=col>&lt;fct&gt;</th><th scope=col>&lt;int&gt;</th><th scope=col>&lt;int&gt;</th><th scope=col>&lt;fct&gt;</th><th scope=col>&lt;fct&gt;</th><th scope=col>⋯</th><th scope=col>&lt;int&gt;</th><th scope=col>&lt;int&gt;</th><th scope=col>&lt;fct&gt;</th><th scope=col>&lt;fct&gt;</th><th scope=col>&lt;fct&gt;</th><th scope=col>&lt;int&gt;</th><th scope=col>&lt;int&gt;</th><th scope=col>&lt;int&gt;</th><th scope=col>&lt;fct&gt;</th><th scope=col>&lt;fct&gt;</th></tr>\n",
       "</thead>\n",
       "<tbody>\n",
       "\t<tr><td>1</td><td>526301100</td><td>1656</td><td>215000</td><td>20</td><td>RL</td><td>141</td><td>31770</td><td>Pave</td><td>NA</td><td>⋯</td><td>  0</td><td>0</td><td>NA</td><td>NA   </td><td>NA  </td><td>    0</td><td>5</td><td>2010</td><td>WD </td><td>Normal</td></tr>\n",
       "\t<tr><td>2</td><td>526350040</td><td> 896</td><td>105000</td><td>20</td><td>RH</td><td> 80</td><td>11622</td><td>Pave</td><td>NA</td><td>⋯</td><td>120</td><td>0</td><td>NA</td><td>MnPrv</td><td>NA  </td><td>    0</td><td>6</td><td>2010</td><td>WD </td><td>Normal</td></tr>\n",
       "\t<tr><td>3</td><td>526351010</td><td>1329</td><td>172000</td><td>20</td><td>RL</td><td> 81</td><td>14267</td><td>Pave</td><td>NA</td><td>⋯</td><td>  0</td><td>0</td><td>NA</td><td>NA   </td><td>Gar2</td><td>12500</td><td>6</td><td>2010</td><td>WD </td><td>Normal</td></tr>\n",
       "\t<tr><td>4</td><td>526353030</td><td>2110</td><td>244000</td><td>20</td><td>RL</td><td> 93</td><td>11160</td><td>Pave</td><td>NA</td><td>⋯</td><td>  0</td><td>0</td><td>NA</td><td>NA   </td><td>NA  </td><td>    0</td><td>4</td><td>2010</td><td>WD </td><td>Normal</td></tr>\n",
       "\t<tr><td>5</td><td>527105010</td><td>1629</td><td>189900</td><td>60</td><td>RL</td><td> 74</td><td>13830</td><td>Pave</td><td>NA</td><td>⋯</td><td>  0</td><td>0</td><td>NA</td><td>MnPrv</td><td>NA  </td><td>    0</td><td>3</td><td>2010</td><td>WD </td><td>Normal</td></tr>\n",
       "\t<tr><td>6</td><td>527105030</td><td>1604</td><td>195500</td><td>60</td><td>RL</td><td> 78</td><td> 9978</td><td>Pave</td><td>NA</td><td>⋯</td><td>  0</td><td>0</td><td>NA</td><td>NA   </td><td>NA  </td><td>    0</td><td>6</td><td>2010</td><td>WD </td><td>Normal</td></tr>\n",
       "</tbody>\n",
       "</table>\n"
      ],
      "text/latex": [
       "A tibble: 6 × 82\n",
       "\\begin{tabular}{lllllllllllllllllllll}\n",
       " Order & PID & area & price & MS.SubClass & MS.Zoning & Lot.Frontage & Lot.Area & Street & Alley & ⋯ & Screen.Porch & Pool.Area & Pool.QC & Fence & Misc.Feature & Misc.Val & Mo.Sold & Yr.Sold & Sale.Type & Sale.Condition\\\\\n",
       " <int> & <int> & <int> & <int> & <int> & <fct> & <int> & <int> & <fct> & <fct> & ⋯ & <int> & <int> & <fct> & <fct> & <fct> & <int> & <int> & <int> & <fct> & <fct>\\\\\n",
       "\\hline\n",
       "\t 1 & 526301100 & 1656 & 215000 & 20 & RL & 141 & 31770 & Pave & NA & ⋯ &   0 & 0 & NA & NA    & NA   &     0 & 5 & 2010 & WD  & Normal\\\\\n",
       "\t 2 & 526350040 &  896 & 105000 & 20 & RH &  80 & 11622 & Pave & NA & ⋯ & 120 & 0 & NA & MnPrv & NA   &     0 & 6 & 2010 & WD  & Normal\\\\\n",
       "\t 3 & 526351010 & 1329 & 172000 & 20 & RL &  81 & 14267 & Pave & NA & ⋯ &   0 & 0 & NA & NA    & Gar2 & 12500 & 6 & 2010 & WD  & Normal\\\\\n",
       "\t 4 & 526353030 & 2110 & 244000 & 20 & RL &  93 & 11160 & Pave & NA & ⋯ &   0 & 0 & NA & NA    & NA   &     0 & 4 & 2010 & WD  & Normal\\\\\n",
       "\t 5 & 527105010 & 1629 & 189900 & 60 & RL &  74 & 13830 & Pave & NA & ⋯ &   0 & 0 & NA & MnPrv & NA   &     0 & 3 & 2010 & WD  & Normal\\\\\n",
       "\t 6 & 527105030 & 1604 & 195500 & 60 & RL &  78 &  9978 & Pave & NA & ⋯ &   0 & 0 & NA & NA    & NA   &     0 & 6 & 2010 & WD  & Normal\\\\\n",
       "\\end{tabular}\n"
      ],
      "text/markdown": [
       "\n",
       "A tibble: 6 × 82\n",
       "\n",
       "| Order &lt;int&gt; | PID &lt;int&gt; | area &lt;int&gt; | price &lt;int&gt; | MS.SubClass &lt;int&gt; | MS.Zoning &lt;fct&gt; | Lot.Frontage &lt;int&gt; | Lot.Area &lt;int&gt; | Street &lt;fct&gt; | Alley &lt;fct&gt; | ⋯ ⋯ | Screen.Porch &lt;int&gt; | Pool.Area &lt;int&gt; | Pool.QC &lt;fct&gt; | Fence &lt;fct&gt; | Misc.Feature &lt;fct&gt; | Misc.Val &lt;int&gt; | Mo.Sold &lt;int&gt; | Yr.Sold &lt;int&gt; | Sale.Type &lt;fct&gt; | Sale.Condition &lt;fct&gt; |\n",
       "|---|---|---|---|---|---|---|---|---|---|---|---|---|---|---|---|---|---|---|---|---|\n",
       "| 1 | 526301100 | 1656 | 215000 | 20 | RL | 141 | 31770 | Pave | NA | ⋯ |   0 | 0 | NA | NA    | NA   |     0 | 5 | 2010 | WD  | Normal |\n",
       "| 2 | 526350040 |  896 | 105000 | 20 | RH |  80 | 11622 | Pave | NA | ⋯ | 120 | 0 | NA | MnPrv | NA   |     0 | 6 | 2010 | WD  | Normal |\n",
       "| 3 | 526351010 | 1329 | 172000 | 20 | RL |  81 | 14267 | Pave | NA | ⋯ |   0 | 0 | NA | NA    | Gar2 | 12500 | 6 | 2010 | WD  | Normal |\n",
       "| 4 | 526353030 | 2110 | 244000 | 20 | RL |  93 | 11160 | Pave | NA | ⋯ |   0 | 0 | NA | NA    | NA   |     0 | 4 | 2010 | WD  | Normal |\n",
       "| 5 | 527105010 | 1629 | 189900 | 60 | RL |  74 | 13830 | Pave | NA | ⋯ |   0 | 0 | NA | MnPrv | NA   |     0 | 3 | 2010 | WD  | Normal |\n",
       "| 6 | 527105030 | 1604 | 195500 | 60 | RL |  78 |  9978 | Pave | NA | ⋯ |   0 | 0 | NA | NA    | NA   |     0 | 6 | 2010 | WD  | Normal |\n",
       "\n"
      ],
      "text/plain": [
       "  Order PID       area price  MS.SubClass MS.Zoning Lot.Frontage Lot.Area\n",
       "1 1     526301100 1656 215000 20          RL        141          31770   \n",
       "2 2     526350040  896 105000 20          RH         80          11622   \n",
       "3 3     526351010 1329 172000 20          RL         81          14267   \n",
       "4 4     526353030 2110 244000 20          RL         93          11160   \n",
       "5 5     527105010 1629 189900 60          RL         74          13830   \n",
       "6 6     527105030 1604 195500 60          RL         78           9978   \n",
       "  Street Alley <U+22EF>        Screen.Porch Pool.Area Pool.QC Fence Misc.Feature\n",
       "1 Pave   NA    <U+22EF>   0          0         NA      NA    NA          \n",
       "2 Pave   NA    <U+22EF> 120          0         NA      MnPrv NA          \n",
       "3 Pave   NA    <U+22EF>   0          0         NA      NA    Gar2        \n",
       "4 Pave   NA    <U+22EF>   0          0         NA      NA    NA          \n",
       "5 Pave   NA    <U+22EF>   0          0         NA      MnPrv NA          \n",
       "6 Pave   NA    <U+22EF>   0          0         NA      NA    NA          \n",
       "  Misc.Val Mo.Sold Yr.Sold Sale.Type Sale.Condition\n",
       "1     0    5       2010    WD        Normal        \n",
       "2     0    6       2010    WD        Normal        \n",
       "3 12500    6       2010    WD        Normal        \n",
       "4     0    4       2010    WD        Normal        \n",
       "5     0    3       2010    WD        Normal        \n",
       "6     0    6       2010    WD        Normal        "
      ]
     },
     "metadata": {},
     "output_type": "display_data"
    }
   ],
   "source": [
    "data(ames)\n",
    "head(ames)"
   ]
  },
  {
   "cell_type": "markdown",
   "metadata": {},
   "source": [
    "In this lab we'll start with a simple random sample of size 60 from the population. Specifically, this is a simple random sample of size 60. Note that the data set has information on many housing variables, but for the first portion of the lab we'll focus on the size of the house, represented by the variable `area`."
   ]
  },
  {
   "cell_type": "code",
   "execution_count": 4,
   "metadata": {},
   "outputs": [],
   "source": [
    "n <- 60\n",
    "\n",
    "samp <- sample_n(ames, n)"
   ]
  },
  {
   "cell_type": "markdown",
   "metadata": {},
   "source": [
    "Describe the distribution of homes in your sample. What would you say is the \"typical\" size within your sample? Also state precisely what you interpreted \"typical\" to mean."
   ]
  },
  {
   "cell_type": "code",
   "execution_count": 5,
   "metadata": {},
   "outputs": [
    {
     "data": {
      "text/html": [
       "<table>\n",
       "<caption>A tibble: 1 × 2</caption>\n",
       "<thead>\n",
       "\t<tr><th scope=col>mean_sm</th><th scope=col>median_sm</th></tr>\n",
       "\t<tr><th scope=col>&lt;dbl&gt;</th><th scope=col>&lt;dbl&gt;</th></tr>\n",
       "</thead>\n",
       "<tbody>\n",
       "\t<tr><td>1499.69</td><td>1442</td></tr>\n",
       "</tbody>\n",
       "</table>\n"
      ],
      "text/latex": [
       "A tibble: 1 × 2\n",
       "\\begin{tabular}{ll}\n",
       " mean\\_sm & median\\_sm\\\\\n",
       " <dbl> & <dbl>\\\\\n",
       "\\hline\n",
       "\t 1499.69 & 1442\\\\\n",
       "\\end{tabular}\n"
      ],
      "text/markdown": [
       "\n",
       "A tibble: 1 × 2\n",
       "\n",
       "| mean_sm &lt;dbl&gt; | median_sm &lt;dbl&gt; |\n",
       "|---|---|\n",
       "| 1499.69 | 1442 |\n",
       "\n"
      ],
      "text/plain": [
       "  mean_sm median_sm\n",
       "1 1499.69 1442     "
      ]
     },
     "metadata": {},
     "output_type": "display_data"
    }
   ],
   "source": [
    "ames %>% summarise(mean_sm = mean(area), median_sm = median(area))"
   ]
  },
  {
   "cell_type": "code",
   "execution_count": 6,
   "metadata": {},
   "outputs": [
    {
     "data": {
      "text/plain": [
       "   Min. 1st Qu.  Median    Mean 3rd Qu.    Max. \n",
       "    334    1126    1442    1500    1743    5642 "
      ]
     },
     "metadata": {},
     "output_type": "display_data"
    }
   ],
   "source": [
    "# Fast Check\n",
    "summary(ames$area)"
   ]
  },
  {
   "cell_type": "markdown",
   "metadata": {},
   "source": [
    "Alternative:\n",
    "\n",
    "```R\n",
    "mean_sm = mean(ames$area)\n",
    "mean_sm\n",
    "\n",
    "median_sm = median(ames$area)\n",
    "median_sm\n",
    "```"
   ]
  },
  {
   "cell_type": "markdown",
   "metadata": {},
   "source": [
    "### Confidence intervals\n",
    "\n",
    "Return for a moment to the question that first motivated this lab: based on this sample, what can we infer about the population? Based only on this single sample, the best estimate of the average living area of houses sold in Ames would be the sample mean, usually denoted as $\\bar{x}$ (here we're calling it `x_bar`). That serves as a good **point estimate** but it would be useful to also communicate how uncertain we are of that estimate. This uncertainty can be quantified using a **confidence interval**.\n",
    "\n",
    "You should by now be comfortable with calculating the mean and standard deviation of a sample in R. And we know that the sample size is 60. So the only remaining building block is finding the appropriate critical value for a given confidence level. We can\n",
    "use the `qnorm` function for this task, which will give the critical value associated with a given percentile under the normal distribution. Remember that confidence levels and percentiles are not equivalent. For example, a 95% confidence level refers to the middle 95% of the distribution, and the critical value associated with this area will correspond to the 97.5th percentile.\n",
    "\n",
    "Online check: https://gallery.shinyapps.io/dist_calc/\n",
    "\n",
    "We can find the critical value for a 95% confidence interal using:"
   ]
  },
  {
   "cell_type": "code",
   "execution_count": 7,
   "metadata": {},
   "outputs": [
    {
     "data": {
      "text/html": [
       "1.95996398454005"
      ],
      "text/latex": [
       "1.95996398454005"
      ],
      "text/markdown": [
       "1.95996398454005"
      ],
      "text/plain": [
       "[1] 1.959964"
      ]
     },
     "metadata": {},
     "output_type": "display_data"
    }
   ],
   "source": [
    "z_star_95 <- qnorm(0.975)\n",
    "z_star_95"
   ]
  },
  {
   "cell_type": "markdown",
   "metadata": {},
   "source": [
    "which is roughly equal to the value critical value 1.96 that you're likely familiar with by now.\n",
    "\n",
    "Let's finally calculate the confidence interval:"
   ]
  },
  {
   "cell_type": "code",
   "execution_count": 8,
   "metadata": {},
   "outputs": [
    {
     "data": {
      "text/html": [
       "<table>\n",
       "<caption>A tibble: 1 × 2</caption>\n",
       "<thead>\n",
       "\t<tr><th scope=col>lower</th><th scope=col>upper</th></tr>\n",
       "\t<tr><th scope=col>&lt;dbl&gt;</th><th scope=col>&lt;dbl&gt;</th></tr>\n",
       "</thead>\n",
       "<tbody>\n",
       "\t<tr><td>1359.176</td><td>1593.39</td></tr>\n",
       "</tbody>\n",
       "</table>\n"
      ],
      "text/latex": [
       "A tibble: 1 × 2\n",
       "\\begin{tabular}{ll}\n",
       " lower & upper\\\\\n",
       " <dbl> & <dbl>\\\\\n",
       "\\hline\n",
       "\t 1359.176 & 1593.39\\\\\n",
       "\\end{tabular}\n"
      ],
      "text/markdown": [
       "\n",
       "A tibble: 1 × 2\n",
       "\n",
       "| lower &lt;dbl&gt; | upper &lt;dbl&gt; |\n",
       "|---|---|\n",
       "| 1359.176 | 1593.39 |\n",
       "\n"
      ],
      "text/plain": [
       "  lower    upper  \n",
       "1 1359.176 1593.39"
      ]
     },
     "metadata": {},
     "output_type": "display_data"
    }
   ],
   "source": [
    "samp %>%\n",
    "  summarise(lower = mean(area) - z_star_95 * (sd(area) / sqrt(n)),\n",
    "            upper = mean(area) + z_star_95 * (sd(area) / sqrt(n)))"
   ]
  },
  {
   "cell_type": "markdown",
   "metadata": {},
   "source": [
    "Alternative:\n",
    "```R\n",
    "lower = mean(samp$area) - z_star_95 * (sd(samp$area) / sqrt(n))\n",
    "lower\n",
    "\n",
    "upper = mean(samp$area) + z_star_95 * (sd(samp$area) / sqrt(n))\n",
    "upper\n",
    "```"
   ]
  },
  {
   "cell_type": "markdown",
   "metadata": {},
   "source": [
    "To recap: even though we don't know what the full population looks like, we're 95% confident that the true average size of houses in Ames lies between the values *lower* and *upper*. There are a few conditions that must be met for this interval to be valid."
   ]
  },
  {
   "cell_type": "markdown",
   "metadata": {},
   "source": [
    "In this case we have the rare luxury of knowing the true population mean since we have data on the entire population. Let's calculate this value so that we can determine if our confidence intervals actually capture it. We'll store it in a data frame called `params` (short for population parameters), and name it `mu`."
   ]
  },
  {
   "cell_type": "code",
   "execution_count": 9,
   "metadata": {},
   "outputs": [],
   "source": [
    "params <- ames %>%\n",
    "  summarise(mu = mean(area))"
   ]
  },
  {
   "cell_type": "markdown",
   "metadata": {},
   "source": [
    "Using R, we're going to collect many samples to learn more about how sample means and confidence intervals vary from one sample to another.\n",
    "\n",
    "Here is the rough outline:\n",
    "\n",
    "    Obtain a random sample.\n",
    "\n",
    "    Calculate the sample's mean and standard deviation, and use these to calculate and store the lower and upper bounds of the confidence intervals.\n",
    "\n",
    "    Repeat these steps 50 times.\n",
    "\n",
    "We can accomplish this using the `rep_sample_n` function. The following lines of code takes 50 random samples of size `n` from population (and remember we defined n = 60 earlier), and computes the upper and lower bounds of the confidence intervals based on these samples."
   ]
  },
  {
   "cell_type": "code",
   "execution_count": 10,
   "metadata": {},
   "outputs": [
    {
     "name": "stderr",
     "output_type": "stream",
     "text": [
      "`summarise()` ungrouping output (override with `.groups` argument)\n",
      "\n"
     ]
    }
   ],
   "source": [
    "ci <- ames %>%\n",
    "        rep_sample_n(size = n, reps = 50, replace = TRUE) %>%\n",
    "        summarise(lower = mean(area) - z_star_95 * (sd(area) / sqrt(n)),\n",
    "                  upper = mean(area) + z_star_95 * (sd(area) / sqrt(n)))"
   ]
  },
  {
   "cell_type": "markdown",
   "metadata": {},
   "source": [
    "Let's view the first five intervals:"
   ]
  },
  {
   "cell_type": "code",
   "execution_count": 11,
   "metadata": {},
   "outputs": [
    {
     "data": {
      "text/html": [
       "<table>\n",
       "<caption>A tibble: 5 × 3</caption>\n",
       "<thead>\n",
       "\t<tr><th scope=col>replicate</th><th scope=col>lower</th><th scope=col>upper</th></tr>\n",
       "\t<tr><th scope=col>&lt;int&gt;</th><th scope=col>&lt;dbl&gt;</th><th scope=col>&lt;dbl&gt;</th></tr>\n",
       "</thead>\n",
       "<tbody>\n",
       "\t<tr><td>1</td><td>1373.361</td><td>1615.739</td></tr>\n",
       "\t<tr><td>2</td><td>1342.188</td><td>1603.878</td></tr>\n",
       "\t<tr><td>3</td><td>1339.810</td><td>1667.790</td></tr>\n",
       "\t<tr><td>4</td><td>1448.084</td><td>1669.683</td></tr>\n",
       "\t<tr><td>5</td><td>1465.170</td><td>1724.697</td></tr>\n",
       "</tbody>\n",
       "</table>\n"
      ],
      "text/latex": [
       "A tibble: 5 × 3\n",
       "\\begin{tabular}{lll}\n",
       " replicate & lower & upper\\\\\n",
       " <int> & <dbl> & <dbl>\\\\\n",
       "\\hline\n",
       "\t 1 & 1373.361 & 1615.739\\\\\n",
       "\t 2 & 1342.188 & 1603.878\\\\\n",
       "\t 3 & 1339.810 & 1667.790\\\\\n",
       "\t 4 & 1448.084 & 1669.683\\\\\n",
       "\t 5 & 1465.170 & 1724.697\\\\\n",
       "\\end{tabular}\n"
      ],
      "text/markdown": [
       "\n",
       "A tibble: 5 × 3\n",
       "\n",
       "| replicate &lt;int&gt; | lower &lt;dbl&gt; | upper &lt;dbl&gt; |\n",
       "|---|---|---|\n",
       "| 1 | 1373.361 | 1615.739 |\n",
       "| 2 | 1342.188 | 1603.878 |\n",
       "| 3 | 1339.810 | 1667.790 |\n",
       "| 4 | 1448.084 | 1669.683 |\n",
       "| 5 | 1465.170 | 1724.697 |\n",
       "\n"
      ],
      "text/plain": [
       "  replicate lower    upper   \n",
       "1 1         1373.361 1615.739\n",
       "2 2         1342.188 1603.878\n",
       "3 3         1339.810 1667.790\n",
       "4 4         1448.084 1669.683\n",
       "5 5         1465.170 1724.697"
      ]
     },
     "metadata": {},
     "output_type": "display_data"
    }
   ],
   "source": [
    "ci %>%\n",
    "  slice(1:5)"
   ]
  },
  {
   "cell_type": "markdown",
   "metadata": {},
   "source": [
    "Next we'll create a plot. First step will be to create a new variable in the `ci` data frame that indicates whether the interval does or does not capture the true population mean. Note that capturing this value would mean the lower bound of the\n",
    "confidence interval is below the value and upper bound of the confidence interval is above the value. Remember that we create new variables using the `mutate` function."
   ]
  },
  {
   "cell_type": "code",
   "execution_count": 12,
   "metadata": {},
   "outputs": [],
   "source": [
    "ci <- ci %>%\n",
    "  mutate(capture_mu = ifelse(lower < params$mu & upper > params$mu, \"yes\", \"no\"))"
   ]
  },
  {
   "cell_type": "markdown",
   "metadata": {},
   "source": [
    "The `ifelse` function is new. It takes three arguments: first is a logical statement, second is the value we want if the logical statement yields a true result, and the third is the value we want if the logical statement yields a false result.\n",
    "\n",
    "We now have all the information we need to create the plot, but we need to re-organize our data a bit for easy plotting. Specifically, we need to organize the data in a new data frame where each row represents one bound, as opposed to one interval. So this"
   ]
  },
  {
   "cell_type": "markdown",
   "metadata": {},
   "source": [
    "~~~\n",
    "     lower    upper capture_mu\n",
    "1 1350.540 1544.360        yes\n",
    "2 1333.441 1584.425        yes\n",
    "3 1412.133 1663.801        yes\n",
    "...\n",
    "~~~\n",
    "\n",
    "Should instead look like\n",
    "\n",
    "~~~\n",
    "  ci_id ci_bounds capture_mu\n",
    "1     1  1350.540        yes\n",
    "2     2  1333.441        yes\n",
    "3     3  1412.133        yes\n",
    "4     1  1544.360        yes\n",
    "5     2  1584.425        yes\n",
    "6     3  1663.801        yes\n",
    "...\n",
    "~~~\n",
    "\n",
    "We can accomplish this using the following:"
   ]
  },
  {
   "cell_type": "code",
   "execution_count": 13,
   "metadata": {},
   "outputs": [],
   "source": [
    "ci_data <- data.frame(ci_id = c(1:50, 1:50),\n",
    "                      ci_bounds = c(ci$lower, ci$upper),\n",
    "                      capture_mu = c(ci$capture_mu, ci$capture_mu))"
   ]
  },
  {
   "cell_type": "markdown",
   "metadata": {},
   "source": [
    "And finally we can create the plot using the following:"
   ]
  },
  {
   "cell_type": "code",
   "execution_count": 14,
   "metadata": {},
   "outputs": [
    {
     "data": {
      "image/png": "[encoded data removed]",
      "text/plain": [
       "plot without title"
      ]
     },
     "metadata": {
      "image/png": {
       "height": 420,
       "width": 420
      },
      "text/plain": {
       "height": 420,
       "width": 420
      }
     },
     "output_type": "display_data"
    }
   ],
   "source": [
    "ggplot(data = ci_data, aes(x = ci_bounds, y = ci_id, \n",
    "                           group = ci_id, color = capture_mu)) +\n",
    "  geom_point(size = 2) +  # add points at the ends, size = 2\n",
    "  geom_line() +           # connect with lines\n",
    "  geom_vline(xintercept = params$mu, color = \"darkgray\") # draw vertical line"
   ]
  },
  {
   "cell_type": "markdown",
   "metadata": {},
   "source": [
    "What is the appropriate critical value for a 99% confidence level?"
   ]
  },
  {
   "cell_type": "code",
   "execution_count": 15,
   "metadata": {},
   "outputs": [
    {
     "data": {
      "text/html": [
       "2.32634787404084"
      ],
      "text/latex": [
       "2.32634787404084"
      ],
      "text/markdown": [
       "2.32634787404084"
      ],
      "text/plain": [
       "[1] 2.326348"
      ]
     },
     "metadata": {},
     "output_type": "display_data"
    }
   ],
   "source": [
    "z_star_99 <- qnorm(0.99)\n",
    "z_star_99"
   ]
  },
  {
   "cell_type": "markdown",
   "metadata": {},
   "source": [
    "Calculate 50 confidence intervals at the 99% confidence level. You do not need to obtain new samples, simply calculate new intervals based on the sample means and standard deviations you have already collected. Plot all intervals and calculate the proportion of intervals that include the true population mean."
   ]
  },
  {
   "cell_type": "code",
   "execution_count": 16,
   "metadata": {},
   "outputs": [
    {
     "name": "stderr",
     "output_type": "stream",
     "text": [
      "`summarise()` ungrouping output (override with `.groups` argument)\n",
      "\n"
     ]
    },
    {
     "data": {
      "image/png": "[encoded data removed]",
      "text/plain": [
       "plot without title"
      ]
     },
     "metadata": {
      "image/png": {
       "height": 420,
       "width": 420
      },
      "text/plain": {
       "height": 420,
       "width": 420
      }
     },
     "output_type": "display_data"
    }
   ],
   "source": [
    "ci_99 <- ames %>%\n",
    "        rep_sample_n(size = n, reps = 50, replace = TRUE) %>%\n",
    "        summarise(lower = mean(area) - z_star_95 * (sd(area) / sqrt(n)),\n",
    "                  upper = mean(area) + z_star_95 * (sd(area) / sqrt(n)))\n",
    "       \n",
    "\n",
    "ci_99 <- ci_99 %>%\n",
    "        mutate(capture_mu = ifelse(lower < params$mu & upper > params$mu, \"yes\", \"no\"))\n",
    "\n",
    "\n",
    "ci_99_data <- gather(ci_99, type, bound, lower:upper)\n",
    "\n",
    "\n",
    "ggplot(data = ci_99_data, aes(x = bound, y = replicate, group = replicate, color = capture_mu)) +\n",
    "  geom_point(size = 2) +  # add points at the ends, size = 2\n",
    "  geom_line() +           # connect with lines\n",
    "  geom_vline(xintercept = params$mu, color = \"darkgray\") # draw vertical line"
   ]
  }
 ],
 "metadata": {
  "kernelspec": {
   "display_name": "R",
   "language": "R",
   "name": "ir"
  },
  "language_info": {
   "codemirror_mode": "r",
   "file_extension": ".r",
   "mimetype": "text/x-r-source",
   "name": "R",
   "pygments_lexer": "r",
   "version": "3.6.3"
  }
 },
 "nbformat": 4,
 "nbformat_minor": 4
}
