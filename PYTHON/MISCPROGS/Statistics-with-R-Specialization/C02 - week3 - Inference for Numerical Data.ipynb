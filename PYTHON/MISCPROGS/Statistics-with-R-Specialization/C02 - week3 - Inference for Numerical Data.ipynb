{
 "cells": [
  {
   "cell_type": "markdown",
   "metadata": {},
   "source": [
    "# Inference for Numerical Data"
   ]
  },
  {
   "cell_type": "markdown",
   "metadata": {},
   "source": [
    "<img src=\"images/birth.jpg\"/>"
   ]
  },
  {
   "cell_type": "markdown",
   "metadata": {},
   "source": [
    "### Libraries\n",
    "In this lab we will explore the data using the `dplyr` package and visualize it using the `ggplot2` package for data visualization. The data can be found in the companion package for this course, `statsr`."
   ]
  },
  {
   "cell_type": "code",
   "execution_count": 2,
   "metadata": {},
   "outputs": [
    {
     "name": "stderr",
     "output_type": "stream",
     "text": [
      "\n",
      "Attaching package: 'dplyr'\n",
      "\n",
      "\n",
      "The following objects are masked from 'package:stats':\n",
      "\n",
      "    filter, lag\n",
      "\n",
      "\n",
      "The following objects are masked from 'package:base':\n",
      "\n",
      "    intersect, setdiff, setequal, union\n",
      "\n",
      "\n"
     ]
    }
   ],
   "source": [
    "#install.packages(\"package\")\n",
    "library(statsr)\n",
    "library(dplyr)\n",
    "library(ggplot2)\n",
    "library(tidyr)"
   ]
  },
  {
   "cell_type": "markdown",
   "metadata": {},
   "source": [
    "In 2004, the state of North Carolina released a large data set containing information on births recorded in this state. This data set is useful to researchers studying the relation between habits and practices of expectant mothers and the birth of their children. We will work with a random sample of observations from this data set.. Let's load the data."
   ]
  },
  {
   "cell_type": "markdown",
   "metadata": {},
   "source": [
    "### Load Data"
   ]
  },
  {
   "cell_type": "code",
   "execution_count": 3,
   "metadata": {},
   "outputs": [
    {
     "data": {
      "text/html": [
       "<table>\n",
       "<caption>A tibble: 6 × 13</caption>\n",
       "<thead>\n",
       "\t<tr><th scope=col>fage</th><th scope=col>mage</th><th scope=col>mature</th><th scope=col>weeks</th><th scope=col>premie</th><th scope=col>visits</th><th scope=col>marital</th><th scope=col>gained</th><th scope=col>weight</th><th scope=col>lowbirthweight</th><th scope=col>gender</th><th scope=col>habit</th><th scope=col>whitemom</th></tr>\n",
       "\t<tr><th scope=col>&lt;int&gt;</th><th scope=col>&lt;int&gt;</th><th scope=col>&lt;fct&gt;</th><th scope=col>&lt;int&gt;</th><th scope=col>&lt;fct&gt;</th><th scope=col>&lt;int&gt;</th><th scope=col>&lt;fct&gt;</th><th scope=col>&lt;int&gt;</th><th scope=col>&lt;dbl&gt;</th><th scope=col>&lt;fct&gt;</th><th scope=col>&lt;fct&gt;</th><th scope=col>&lt;fct&gt;</th><th scope=col>&lt;fct&gt;</th></tr>\n",
       "</thead>\n",
       "<tbody>\n",
       "\t<tr><td>NA</td><td>13</td><td>younger mom</td><td>39</td><td>full term</td><td>10</td><td>married</td><td>38</td><td>7.63</td><td>not low</td><td>male  </td><td>nonsmoker</td><td>not white</td></tr>\n",
       "\t<tr><td>NA</td><td>14</td><td>younger mom</td><td>42</td><td>full term</td><td>15</td><td>married</td><td>20</td><td>7.88</td><td>not low</td><td>male  </td><td>nonsmoker</td><td>not white</td></tr>\n",
       "\t<tr><td>19</td><td>15</td><td>younger mom</td><td>37</td><td>full term</td><td>11</td><td>married</td><td>38</td><td>6.63</td><td>not low</td><td>female</td><td>nonsmoker</td><td>white    </td></tr>\n",
       "\t<tr><td>21</td><td>15</td><td>younger mom</td><td>41</td><td>full term</td><td> 6</td><td>married</td><td>34</td><td>8.00</td><td>not low</td><td>male  </td><td>nonsmoker</td><td>white    </td></tr>\n",
       "\t<tr><td>NA</td><td>15</td><td>younger mom</td><td>39</td><td>full term</td><td> 9</td><td>married</td><td>27</td><td>6.38</td><td>not low</td><td>female</td><td>nonsmoker</td><td>not white</td></tr>\n",
       "\t<tr><td>NA</td><td>15</td><td>younger mom</td><td>38</td><td>full term</td><td>19</td><td>married</td><td>22</td><td>5.38</td><td>low    </td><td>male  </td><td>nonsmoker</td><td>not white</td></tr>\n",
       "</tbody>\n",
       "</table>\n"
      ],
      "text/latex": [
       "A tibble: 6 × 13\n",
       "\\begin{tabular}{lllllllllllll}\n",
       " fage & mage & mature & weeks & premie & visits & marital & gained & weight & lowbirthweight & gender & habit & whitemom\\\\\n",
       " <int> & <int> & <fct> & <int> & <fct> & <int> & <fct> & <int> & <dbl> & <fct> & <fct> & <fct> & <fct>\\\\\n",
       "\\hline\n",
       "\t NA & 13 & younger mom & 39 & full term & 10 & married & 38 & 7.63 & not low & male   & nonsmoker & not white\\\\\n",
       "\t NA & 14 & younger mom & 42 & full term & 15 & married & 20 & 7.88 & not low & male   & nonsmoker & not white\\\\\n",
       "\t 19 & 15 & younger mom & 37 & full term & 11 & married & 38 & 6.63 & not low & female & nonsmoker & white    \\\\\n",
       "\t 21 & 15 & younger mom & 41 & full term &  6 & married & 34 & 8.00 & not low & male   & nonsmoker & white    \\\\\n",
       "\t NA & 15 & younger mom & 39 & full term &  9 & married & 27 & 6.38 & not low & female & nonsmoker & not white\\\\\n",
       "\t NA & 15 & younger mom & 38 & full term & 19 & married & 22 & 5.38 & low     & male   & nonsmoker & not white\\\\\n",
       "\\end{tabular}\n"
      ],
      "text/markdown": [
       "\n",
       "A tibble: 6 × 13\n",
       "\n",
       "| fage &lt;int&gt; | mage &lt;int&gt; | mature &lt;fct&gt; | weeks &lt;int&gt; | premie &lt;fct&gt; | visits &lt;int&gt; | marital &lt;fct&gt; | gained &lt;int&gt; | weight &lt;dbl&gt; | lowbirthweight &lt;fct&gt; | gender &lt;fct&gt; | habit &lt;fct&gt; | whitemom &lt;fct&gt; |\n",
       "|---|---|---|---|---|---|---|---|---|---|---|---|---|\n",
       "| NA | 13 | younger mom | 39 | full term | 10 | married | 38 | 7.63 | not low | male   | nonsmoker | not white |\n",
       "| NA | 14 | younger mom | 42 | full term | 15 | married | 20 | 7.88 | not low | male   | nonsmoker | not white |\n",
       "| 19 | 15 | younger mom | 37 | full term | 11 | married | 38 | 6.63 | not low | female | nonsmoker | white     |\n",
       "| 21 | 15 | younger mom | 41 | full term |  6 | married | 34 | 8.00 | not low | male   | nonsmoker | white     |\n",
       "| NA | 15 | younger mom | 39 | full term |  9 | married | 27 | 6.38 | not low | female | nonsmoker | not white |\n",
       "| NA | 15 | younger mom | 38 | full term | 19 | married | 22 | 5.38 | low     | male   | nonsmoker | not white |\n",
       "\n"
      ],
      "text/plain": [
       "  fage mage mature      weeks premie    visits marital gained weight\n",
       "1 NA   13   younger mom 39    full term 10     married 38     7.63  \n",
       "2 NA   14   younger mom 42    full term 15     married 20     7.88  \n",
       "3 19   15   younger mom 37    full term 11     married 38     6.63  \n",
       "4 21   15   younger mom 41    full term  6     married 34     8.00  \n",
       "5 NA   15   younger mom 39    full term  9     married 27     6.38  \n",
       "6 NA   15   younger mom 38    full term 19     married 22     5.38  \n",
       "  lowbirthweight gender habit     whitemom \n",
       "1 not low        male   nonsmoker not white\n",
       "2 not low        male   nonsmoker not white\n",
       "3 not low        female nonsmoker white    \n",
       "4 not low        male   nonsmoker white    \n",
       "5 not low        female nonsmoker not white\n",
       "6 low            male   nonsmoker not white"
      ]
     },
     "metadata": {},
     "output_type": "display_data"
    }
   ],
   "source": [
    "data(nc)\n",
    "head(nc)"
   ]
  },
  {
   "cell_type": "markdown",
   "metadata": {},
   "source": [
    "We have observations on 13 different variables, some categorical and some \n",
    "numerical. The meaning of each variable is as follows.\n",
    "\n",
    "variable         | description\n",
    "---------------- | ---------------------------------------------\n",
    "`fage`           | father's age in years.\n",
    "`mage`           | mother's age in years.\n",
    "`mature`         | maturity status of mother.\n",
    "`weeks`          | length of pregnancy in weeks.\n",
    "`premie`         | whether the birth was classified as premature (premie) or full-term.\n",
    "`visits`         | number of hospital visits during pregnancy.\n",
    "`marital`        | whether mother is `married` or `not married` at birth.\n",
    "`gained`         | weight gained by mother during pregnancy in pounds.\n",
    "`weight`         | weight of the baby at birth in pounds.\n",
    "`lowbirthweight` | whether baby was classified as low birthweight (`low`) or not (`not low`).\n",
    "`gender`         | gender of the baby, `female` or `male`.\n",
    "`habit`          | status of the mother as a `nonsmoker` or a `smoker`.\n",
    "`whitemom`       | whether mom is `white` or `not white`."
   ]
  },
  {
   "cell_type": "markdown",
   "metadata": {},
   "source": [
    "As a first step in the analysis, we should take a look at the variables in the dataset. This can be done using the `str` command:"
   ]
  },
  {
   "cell_type": "code",
   "execution_count": 5,
   "metadata": {},
   "outputs": [
    {
     "name": "stdout",
     "output_type": "stream",
     "text": [
      "tibble [1,000 x 13] (S3: tbl_df/tbl/data.frame)\n",
      " $ fage          : int [1:1000] NA NA 19 21 NA NA 18 17 NA 20 ...\n",
      " $ mage          : int [1:1000] 13 14 15 15 15 15 15 15 16 16 ...\n",
      " $ mature        : Factor w/ 2 levels \"mature mom\",\"younger mom\": 2 2 2 2 2 2 2 2 2 2 ...\n",
      " $ weeks         : int [1:1000] 39 42 37 41 39 38 37 35 38 37 ...\n",
      " $ premie        : Factor w/ 2 levels \"full term\",\"premie\": 1 1 1 1 1 1 1 2 1 1 ...\n",
      " $ visits        : int [1:1000] 10 15 11 6 9 19 12 5 9 13 ...\n",
      " $ marital       : Factor w/ 2 levels \"married\",\"not married\": 1 1 1 1 1 1 1 1 1 1 ...\n",
      " $ gained        : int [1:1000] 38 20 38 34 27 22 76 15 NA 52 ...\n",
      " $ weight        : num [1:1000] 7.63 7.88 6.63 8 6.38 5.38 8.44 4.69 8.81 6.94 ...\n",
      " $ lowbirthweight: Factor w/ 2 levels \"low\",\"not low\": 2 2 2 2 2 1 2 1 2 2 ...\n",
      " $ gender        : Factor w/ 2 levels \"female\",\"male\": 2 2 1 2 1 2 2 2 2 1 ...\n",
      " $ habit         : Factor w/ 2 levels \"nonsmoker\",\"smoker\": 1 1 1 1 1 1 1 1 1 1 ...\n",
      " $ whitemom      : Factor w/ 2 levels \"not white\",\"white\": 1 1 2 2 1 1 1 1 2 2 ...\n"
     ]
    }
   ],
   "source": [
    "str(nc)"
   ]
  },
  {
   "cell_type": "markdown",
   "metadata": {},
   "source": [
    "We will first start with analyzing the weight gained by mothers throughout the  pregnancy: `gained`.\n",
    "\n",
    "Using visualization and summary statistics, describe the distribution of weight  gained by mothers during pregnancy. The `summary` function can also be useful."
   ]
  },
  {
   "cell_type": "code",
   "execution_count": 4,
   "metadata": {},
   "outputs": [
    {
     "data": {
      "text/plain": [
       "      fage            mage            mature        weeks             premie   \n",
       " Min.   :14.00   Min.   :13   mature mom :133   Min.   :20.00   full term:846  \n",
       " 1st Qu.:25.00   1st Qu.:22   younger mom:867   1st Qu.:37.00   premie   :152  \n",
       " Median :30.00   Median :27                     Median :39.00   NA's     :  2  \n",
       " Mean   :30.26   Mean   :27                     Mean   :38.33                  \n",
       " 3rd Qu.:35.00   3rd Qu.:32                     3rd Qu.:40.00                  \n",
       " Max.   :55.00   Max.   :50                     Max.   :45.00                  \n",
       " NA's   :171                                    NA's   :2                      \n",
       "     visits            marital        gained          weight      \n",
       " Min.   : 0.0   married    :386   Min.   : 0.00   Min.   : 1.000  \n",
       " 1st Qu.:10.0   not married:613   1st Qu.:20.00   1st Qu.: 6.380  \n",
       " Median :12.0   NA's       :  1   Median :30.00   Median : 7.310  \n",
       " Mean   :12.1                     Mean   :30.33   Mean   : 7.101  \n",
       " 3rd Qu.:15.0                     3rd Qu.:38.00   3rd Qu.: 8.060  \n",
       " Max.   :30.0                     Max.   :85.00   Max.   :11.750  \n",
       " NA's   :9                        NA's   :27                      \n",
       " lowbirthweight    gender          habit          whitemom  \n",
       " low    :111    female:503   nonsmoker:873   not white:284  \n",
       " not low:889    male  :497   smoker   :126   white    :714  \n",
       "                             NA's     :  1   NA's     :  2  \n",
       "                                                            \n",
       "                                                            \n",
       "                                                            \n",
       "                                                            "
      ]
     },
     "metadata": {},
     "output_type": "display_data"
    }
   ],
   "source": [
    "summary(nc)"
   ]
  },
  {
   "cell_type": "markdown",
   "metadata": {},
   "source": [
    "Next, consider the possible relationship between a mother's smoking habit and the  weight of her baby. Plotting the data is a useful first step because it helps \n",
    "us quickly visualize trends, identify strong associations, and develop research questions."
   ]
  },
  {
   "cell_type": "code",
   "execution_count": 6,
   "metadata": {},
   "outputs": [
    {
     "data": {
      "image/png": "[encoded data removed]",
      "text/plain": [
       "Plot with title \"NC Birth Data\""
      ]
     },
     "metadata": {
      "image/png": {
       "height": 420,
       "width": 420
      },
      "text/plain": {
       "height": 420,
       "width": 420
      }
     },
     "output_type": "display_data"
    }
   ],
   "source": [
    "boxplot(weight~habit,data=nc, main=\"NC Birth Data\", xlab=\"Smoke Habit\", ylab=\"Birth Weight\")"
   ]
  },
  {
   "cell_type": "markdown",
   "metadata": {},
   "source": [
    "The box plots show how the medians of the two distributions compare, but we can also compare the means of the distributions using the following to first group the data by the `habit` variable, and then calculate the mean `weight` in these groups using the `mean` function."
   ]
  },
  {
   "cell_type": "code",
   "execution_count": 7,
   "metadata": {},
   "outputs": [
    {
     "name": "stderr",
     "output_type": "stream",
     "text": [
      "`summarise()` ungrouping output (override with `.groups` argument)\n",
      "\n"
     ]
    },
    {
     "data": {
      "text/html": [
       "<table>\n",
       "<caption>A tibble: 3 × 2</caption>\n",
       "<thead>\n",
       "\t<tr><th scope=col>habit</th><th scope=col>mean_weight</th></tr>\n",
       "\t<tr><th scope=col>&lt;fct&gt;</th><th scope=col>&lt;dbl&gt;</th></tr>\n",
       "</thead>\n",
       "<tbody>\n",
       "\t<tr><td>nonsmoker</td><td>7.144273</td></tr>\n",
       "\t<tr><td>smoker   </td><td>6.828730</td></tr>\n",
       "\t<tr><td>NA       </td><td>3.630000</td></tr>\n",
       "</tbody>\n",
       "</table>\n"
      ],
      "text/latex": [
       "A tibble: 3 × 2\n",
       "\\begin{tabular}{ll}\n",
       " habit & mean\\_weight\\\\\n",
       " <fct> & <dbl>\\\\\n",
       "\\hline\n",
       "\t nonsmoker & 7.144273\\\\\n",
       "\t smoker    & 6.828730\\\\\n",
       "\t NA        & 3.630000\\\\\n",
       "\\end{tabular}\n"
      ],
      "text/markdown": [
       "\n",
       "A tibble: 3 × 2\n",
       "\n",
       "| habit &lt;fct&gt; | mean_weight &lt;dbl&gt; |\n",
       "|---|---|\n",
       "| nonsmoker | 7.144273 |\n",
       "| smoker    | 6.828730 |\n",
       "| NA        | 3.630000 |\n",
       "\n"
      ],
      "text/plain": [
       "  habit     mean_weight\n",
       "1 nonsmoker 7.144273   \n",
       "2 smoker    6.828730   \n",
       "3 NA        3.630000   "
      ]
     },
     "metadata": {},
     "output_type": "display_data"
    }
   ],
   "source": [
    "nc %>%\n",
    "  group_by(habit) %>%\n",
    "  summarise(mean_weight = mean(weight))"
   ]
  },
  {
   "cell_type": "markdown",
   "metadata": {},
   "source": [
    "There is an observed difference, but is this difference statistically significant? In order to answer this question we will conduct a hypothesis test."
   ]
  },
  {
   "cell_type": "markdown",
   "metadata": {},
   "source": [
    "## Inference\n",
    "Are all conditions necessary for inference satisfied? You can compute the group sizes using the same `by` command above but replacing `mean(weight)` with `n()`."
   ]
  },
  {
   "cell_type": "code",
   "execution_count": 9,
   "metadata": {},
   "outputs": [
    {
     "name": "stderr",
     "output_type": "stream",
     "text": [
      "`summarise()` ungrouping output (override with `.groups` argument)\n",
      "\n"
     ]
    },
    {
     "data": {
      "text/html": [
       "<table>\n",
       "<caption>A tibble: 3 × 2</caption>\n",
       "<thead>\n",
       "\t<tr><th scope=col>habit</th><th scope=col>group_size</th></tr>\n",
       "\t<tr><th scope=col>&lt;fct&gt;</th><th scope=col>&lt;int&gt;</th></tr>\n",
       "</thead>\n",
       "<tbody>\n",
       "\t<tr><td>nonsmoker</td><td>873</td></tr>\n",
       "\t<tr><td>smoker   </td><td>126</td></tr>\n",
       "\t<tr><td>NA       </td><td>  1</td></tr>\n",
       "</tbody>\n",
       "</table>\n"
      ],
      "text/latex": [
       "A tibble: 3 × 2\n",
       "\\begin{tabular}{ll}\n",
       " habit & group\\_size\\\\\n",
       " <fct> & <int>\\\\\n",
       "\\hline\n",
       "\t nonsmoker & 873\\\\\n",
       "\t smoker    & 126\\\\\n",
       "\t NA        &   1\\\\\n",
       "\\end{tabular}\n"
      ],
      "text/markdown": [
       "\n",
       "A tibble: 3 × 2\n",
       "\n",
       "| habit &lt;fct&gt; | group_size &lt;int&gt; |\n",
       "|---|---|\n",
       "| nonsmoker | 873 |\n",
       "| smoker    | 126 |\n",
       "| NA        |   1 |\n",
       "\n"
      ],
      "text/plain": [
       "  habit     group_size\n",
       "1 nonsmoker 873       \n",
       "2 smoker    126       \n",
       "3 NA          1       "
      ]
     },
     "metadata": {},
     "output_type": "display_data"
    }
   ],
   "source": [
    "nc %>%\n",
    "  group_by(habit) %>%\n",
    "  summarise(group_size = n())"
   ]
  },
  {
   "cell_type": "markdown",
   "metadata": {},
   "source": [
    "Next, we introduce a new function, `inference`, that we will use for conducting hypothesis tests and constructing confidence intervals. "
   ]
  },
  {
   "cell_type": "code",
   "execution_count": 10,
   "metadata": {},
   "outputs": [
    {
     "name": "stdout",
     "output_type": "stream",
     "text": [
      "Response variable: numerical\n",
      "Explanatory variable: categorical (2 levels) \n",
      "n_nonsmoker = 873, y_bar_nonsmoker = 7.1443, s_nonsmoker = 1.5187\n",
      "n_smoker = 126, y_bar_smoker = 6.8287, s_smoker = 1.3862\n",
      "H0: mu_nonsmoker =  mu_smoker\n",
      "HA: mu_nonsmoker != mu_smoker\n",
      "t = 2.359, df = 125\n",
      "p_value = 0.0199"
     ]
    },
    {
     "data": {
      "image/png": "[encoded data removed]",
      "text/plain": [
       "plot without title"
      ]
     },
     "metadata": {
      "image/png": {
       "height": 420,
       "width": 420
      },
      "text/plain": {
       "height": 420,
       "width": 420
      }
     },
     "output_type": "display_data"
    }
   ],
   "source": [
    "inference(y = weight, x = habit, data = nc, statistic = \"mean\", type = \"ht\", null = 0, \n",
    "          alternative = \"twosided\", method = \"theoretical\")"
   ]
  },
  {
   "cell_type": "markdown",
   "metadata": {},
   "source": [
    "Let's pause for a moment to go through the arguments of this custom function. The first argument is `y`, which is the response variable that we are interested in: `weight`. \n",
    "\n",
    "The second argument is the explanatory variable, `x`, which is the variable that splits the data into two groups, smokers and \n",
    "non-smokers: `habit`. \n",
    "\n",
    "The third argument, `data`, is the data frame these variables are stored in. \n",
    "\n",
    "Next is `statistic`, which is the sample statistic we're using, or similarly, the population parameter we're estimating. In future labs we can also work with \"median\" and \"proportion\". \n",
    "\n",
    "Next we decide on the `type` of inference we want: a hypothesis test (`\"ht\"`) or a confidence interval (`\"ci\"`). \n",
    "\n",
    "When performing a hypothesis test, we also need to supply the `null` value, which in this case is `0`, since the null hypothesis sets the two population means equal to each other. \n",
    "\n",
    "The `alternative` hypothesis can be `\"less\"`, `\"greater\"`, or `\"twosided\"`.\n",
    "\n",
    "Lastly, the `method` of inference can be `\"theoretical\"` or `\"simulation\"` based."
   ]
  },
  {
   "cell_type": "markdown",
   "metadata": {},
   "source": [
    "**Exercise:** Change the `type` argument to `\"ci\"` to construct and record a confidence interval for the difference between the weights of babies born to nonsmoking and smoking mothers, and interpret this interval in context of the data. Note that by default you'll get a 95% confidence interval. \n",
    "\n",
    "If you want to change the confidence level, add a new argument (`conf_level`) which takes on a valuebetween 0 and 1. Also note that when doing a confidence interval arguments like `null` and `alternative` are not useful, so make sure to remove them."
   ]
  },
  {
   "cell_type": "code",
   "execution_count": 11,
   "metadata": {},
   "outputs": [
    {
     "name": "stdout",
     "output_type": "stream",
     "text": [
      "Response variable: numerical, Explanatory variable: categorical (2 levels)\n",
      "n_nonsmoker = 873, y_bar_nonsmoker = 7.1443, s_nonsmoker = 1.5187\n",
      "n_smoker = 126, y_bar_smoker = 6.8287, s_smoker = 1.3862\n",
      "95% CI (nonsmoker - smoker): (0.0508 , 0.5803)\n"
     ]
    },
    {
     "data": {
      "image/png": "[encoded data removed]",
      "text/plain": [
       "plot without title"
      ]
     },
     "metadata": {
      "image/png": {
       "height": 420,
       "width": 420
      },
      "text/plain": {
       "height": 420,
       "width": 420
      }
     },
     "output_type": "display_data"
    }
   ],
   "source": [
    "inference(y=weight, x=habit, data=nc, statistic = 'mean', type='ci', method='theoretical')"
   ]
  },
  {
   "cell_type": "markdown",
   "metadata": {},
   "source": [
    "By default the function reports an interval for ($\\mu_{nonsmoker} - \\mu_{smoker}$)\n",
    ". We can easily change this order by using the `order` argument:\n",
    "\n",
    "    inference(y = weight, x = habit, data = nc, statistic = \"mean\", type = \"ci\", method = \"theoretical\", \n",
    "              order = c(\"smoker\",\"nonsmoker\"))"
   ]
  },
  {
   "cell_type": "code",
   "execution_count": 12,
   "metadata": {},
   "outputs": [
    {
     "name": "stdout",
     "output_type": "stream",
     "text": [
      "Response variable: numerical, Explanatory variable: categorical (2 levels)\n",
      "n_smoker = 126, y_bar_smoker = 6.8287, s_smoker = 1.3862\n",
      "n_nonsmoker = 873, y_bar_nonsmoker = 7.1443, s_nonsmoker = 1.5187\n",
      "95% CI (smoker - nonsmoker): (-0.5803 , -0.0508)\n"
     ]
    },
    {
     "data": {
      "image/png": "[encoded data removed]",
      "text/plain": [
       "plot without title"
      ]
     },
     "metadata": {
      "image/png": {
       "height": 420,
       "width": 420
      },
      "text/plain": {
       "height": 420,
       "width": 420
      }
     },
     "output_type": "display_data"
    }
   ],
   "source": [
    "inference(y = weight, x = habit, data = nc, statistic = \"mean\", type = \"ci\", \n",
    "          method = \"theoretical\", order = c(\"smoker\",\"nonsmoker\"))"
   ]
  },
  {
   "cell_type": "markdown",
   "metadata": {},
   "source": [
    "**Exercise:** Calculate a 99% confidence interval for the average length of pregnancies (`weeks`). Note that since you're doing inference on a single population parameter, there is no explanatory variable, so you can omit the `x` variable from the function. Which of the following is the correct interpretation of this interval?"
   ]
  },
  {
   "cell_type": "code",
   "execution_count": 14,
   "metadata": {},
   "outputs": [
    {
     "name": "stdout",
     "output_type": "stream",
     "text": [
      "Single numerical variable\n",
      "n = 998, y-bar = 38.3347, s = 2.9316\n",
      "99% CI: (38.0952 , 38.5742)\n"
     ]
    },
    {
     "data": {
      "image/png": "[encoded data removed]",
      "text/plain": [
       "plot without title"
      ]
     },
     "metadata": {
      "image/png": {
       "height": 420,
       "width": 420
      },
      "text/plain": {
       "height": 420,
       "width": 420
      }
     },
     "output_type": "display_data"
    }
   ],
   "source": [
    "inference(y=weeks, data=nc, statistic = 'mean', type='ci', method='theoretical', conf_level = 0.99)"
   ]
  },
  {
   "cell_type": "markdown",
   "metadata": {},
   "source": [
    "**Exercise:** Calculate a new confidence interval for the same parameter at the 90% confidence level. Comment on the width of this interval versus the one obtained in the the previous exercise."
   ]
  },
  {
   "cell_type": "code",
   "execution_count": 13,
   "metadata": {},
   "outputs": [
    {
     "name": "stdout",
     "output_type": "stream",
     "text": [
      "Single numerical variable\n",
      "n = 998, y-bar = 38.3347, s = 2.9316\n",
      "90% CI: (38.1819 , 38.4874)\n"
     ]
    },
    {
     "data": {
      "image/png": "[encoded data removed]",
      "text/plain": [
       "plot without title"
      ]
     },
     "metadata": {
      "image/png": {
       "height": 420,
       "width": 420
      },
      "text/plain": {
       "height": 420,
       "width": 420
      }
     },
     "output_type": "display_data"
    }
   ],
   "source": [
    "inference(y=weeks, data=nc, statistic = 'mean', type='ci', method='theoretical', conf_level = 0.90)"
   ]
  },
  {
   "cell_type": "markdown",
   "metadata": {},
   "source": [
    "**Exercise**: Conduct a hypothesis test evaluating whether the average weight gained by younger mothers is different than the average weight gained by mature mothers."
   ]
  },
  {
   "cell_type": "code",
   "execution_count": 15,
   "metadata": {},
   "outputs": [
    {
     "name": "stdout",
     "output_type": "stream",
     "text": [
      "Response variable: numerical\n",
      "Explanatory variable: categorical (2 levels) \n",
      "n_mature mom = 129, y_bar_mature mom = 28.7907, s_mature mom = 13.4824\n",
      "n_younger mom = 844, y_bar_younger mom = 30.5604, s_younger mom = 14.3469\n",
      "H0: mu_mature mom =  mu_younger mom\n",
      "HA: mu_mature mom != mu_younger mom\n",
      "t = -1.3765, df = 128\n",
      "p_value = 0.1711"
     ]
    },
    {
     "data": {
      "image/png": "[encoded data removed]",
      "text/plain": [
       "plot without title"
      ]
     },
     "metadata": {
      "image/png": {
       "height": 420,
       "width": 420
      },
      "text/plain": {
       "height": 420,
       "width": 420
      }
     },
     "output_type": "display_data"
    }
   ],
   "source": [
    "inference(y=gained, x=mature, data=nc, statistic = 'mean', type='ht', null=0, alternative = 'twosided', method='theoretical')"
   ]
  },
  {
   "cell_type": "markdown",
   "metadata": {},
   "source": [
    "**Exercise:** Now, a non-inference task: Determine the age cutoff for younger and mature mothers."
   ]
  },
  {
   "cell_type": "code",
   "execution_count": 16,
   "metadata": {},
   "outputs": [
    {
     "data": {
      "text/plain": [
       "nc$mature: mature mom\n",
       "   Min. 1st Qu.  Median    Mean 3rd Qu.    Max. \n",
       "  35.00   35.00   37.00   37.18   38.00   50.00 \n",
       "------------------------------------------------------------ \n",
       "nc$mature: younger mom\n",
       "   Min. 1st Qu.  Median    Mean 3rd Qu.    Max. \n",
       "  13.00   21.00   25.00   25.44   30.00   34.00 "
      ]
     },
     "metadata": {},
     "output_type": "display_data"
    }
   ],
   "source": [
    "by(nc$mage, nc$mature, summary)"
   ]
  },
  {
   "cell_type": "markdown",
   "metadata": {},
   "source": [
    "**Exercise**: Pick a pair of variables: one numerical (response) and one categorical (explanatory). Come up with a research question evaluating the relationship between these variables. Formulate the question in a way that it can be answered using a \n",
    "hypothesis test and/or a confidence interval. Answer your question using the `inference` function, report the statistical results, and also provide an explanation in plain language. Be sure to check all assumptions,state your $\\alpha$ level, and conclude in context. (Note: Picking your own variables, coming up with a research question, and analyzing the data to answer this question is basically what you'll need to do for your project as well.)"
   ]
  },
  {
   "cell_type": "code",
   "execution_count": 17,
   "metadata": {},
   "outputs": [
    {
     "name": "stdout",
     "output_type": "stream",
     "text": [
      "Response variable: numerical\n",
      "Explanatory variable: categorical (2 levels) \n",
      "n_full term = 846, y_bar_full term = 27, s_full term = 6.1444\n",
      "n_premie = 152, y_bar_premie = 26.875, s_premie = 6.533\n",
      "H0: mu_full term =  mu_premie\n",
      "HA: mu_full term != mu_premie\n",
      "t = 0.2191, df = 151\n",
      "p_value = 0.8268"
     ]
    },
    {
     "data": {
      "image/png": "[encoded data removed]",
      "text/plain": [
       "plot without title"
      ]
     },
     "metadata": {
      "image/png": {
       "height": 420,
       "width": 420
      },
      "text/plain": {
       "height": 420,
       "width": 420
      }
     },
     "output_type": "display_data"
    }
   ],
   "source": [
    "inference(y=mage, x=premie, data=nc, statistic = 'mean', type='ht', null=0, alternative = 'twosided', method = 'theoretical')"
   ]
  }
 ],
 "metadata": {
  "kernelspec": {
   "display_name": "R",
   "language": "R",
   "name": "ir"
  },
  "language_info": {
   "codemirror_mode": "r",
   "file_extension": ".r",
   "mimetype": "text/x-r-source",
   "name": "R",
   "pygments_lexer": "r",
   "version": "3.6.3"
  }
 },
 "nbformat": 4,
 "nbformat_minor": 4
}
