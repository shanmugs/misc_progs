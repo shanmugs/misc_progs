{
 "cells": [
  {
   "cell_type": "markdown",
   "metadata": {},
   "source": [
    "# Introduction to Linear Regression"
   ]
  },
  {
   "cell_type": "markdown",
   "metadata": {},
   "source": [
    "<img src=\"images/moneyball.jpg\"/>"
   ]
  },
  {
   "cell_type": "markdown",
   "metadata": {},
   "source": [
    "## Batter up \n",
    "\n",
    "The movie [Moneyball](http://en.wikipedia.org/wiki/Moneyball_(film)) focuses on the \"quest for the secret of success in baseball\". It follows a low-budget team, the Oakland Athletics, who believed that underused statistics, such as a player's  ability to get on base, better predict the ability to score runs than typical statistics like home runs, RBIs (runs batted in), and batting average. Obtaining players who excelled in these underused statistics turned out to be much more \n",
    "affordable for the team.\n",
    "\n",
    "In this lab we'll be looking at data from all 30 Major League Baseball teams and examining the linear relationship between runs scored in a season and a number  of other player statistics. Our aim will be to summarize these relationships both graphically and numerically in order to find which variable, if any, helps us best predict a team's runs scored in a season."
   ]
  },
  {
   "cell_type": "markdown",
   "metadata": {},
   "source": [
    "### Load Libraries"
   ]
  },
  {
   "cell_type": "code",
   "execution_count": 1,
   "metadata": {},
   "outputs": [
    {
     "name": "stderr",
     "output_type": "stream",
     "text": [
      "\n",
      "Attaching package: 'dplyr'\n",
      "\n",
      "\n",
      "The following objects are masked from 'package:stats':\n",
      "\n",
      "    filter, lag\n",
      "\n",
      "\n",
      "The following objects are masked from 'package:base':\n",
      "\n",
      "    intersect, setdiff, setequal, union\n",
      "\n",
      "\n"
     ]
    }
   ],
   "source": [
    "#install.packages(\"package\")\n",
    "library(statsr)\n",
    "library(dplyr)\n",
    "library(ggplot2)\n",
    "library(tidyr)"
   ]
  },
  {
   "cell_type": "markdown",
   "metadata": {},
   "source": [
    "### Load Data"
   ]
  },
  {
   "cell_type": "code",
   "execution_count": 2,
   "metadata": {},
   "outputs": [
    {
     "data": {
      "text/html": [
       "<table>\n",
       "<caption>A tibble: 6 × 12</caption>\n",
       "<thead>\n",
       "\t<tr><th scope=col>team</th><th scope=col>runs</th><th scope=col>at_bats</th><th scope=col>hits</th><th scope=col>homeruns</th><th scope=col>bat_avg</th><th scope=col>strikeouts</th><th scope=col>stolen_bases</th><th scope=col>wins</th><th scope=col>new_onbase</th><th scope=col>new_slug</th><th scope=col>new_obs</th></tr>\n",
       "\t<tr><th scope=col>&lt;fct&gt;</th><th scope=col>&lt;int&gt;</th><th scope=col>&lt;int&gt;</th><th scope=col>&lt;int&gt;</th><th scope=col>&lt;int&gt;</th><th scope=col>&lt;dbl&gt;</th><th scope=col>&lt;int&gt;</th><th scope=col>&lt;int&gt;</th><th scope=col>&lt;int&gt;</th><th scope=col>&lt;dbl&gt;</th><th scope=col>&lt;dbl&gt;</th><th scope=col>&lt;dbl&gt;</th></tr>\n",
       "</thead>\n",
       "<tbody>\n",
       "\t<tr><td>Texas Rangers      </td><td>855</td><td>5659</td><td>1599</td><td>210</td><td>0.283</td><td> 930</td><td>143</td><td>96</td><td>0.340</td><td>0.460</td><td>0.800</td></tr>\n",
       "\t<tr><td>Boston Red Sox     </td><td>875</td><td>5710</td><td>1600</td><td>203</td><td>0.280</td><td>1108</td><td>102</td><td>90</td><td>0.349</td><td>0.461</td><td>0.810</td></tr>\n",
       "\t<tr><td>Detroit Tigers     </td><td>787</td><td>5563</td><td>1540</td><td>169</td><td>0.277</td><td>1143</td><td> 49</td><td>95</td><td>0.340</td><td>0.434</td><td>0.773</td></tr>\n",
       "\t<tr><td>Kansas City Royals </td><td>730</td><td>5672</td><td>1560</td><td>129</td><td>0.275</td><td>1006</td><td>153</td><td>71</td><td>0.329</td><td>0.415</td><td>0.744</td></tr>\n",
       "\t<tr><td>St. Louis Cardinals</td><td>762</td><td>5532</td><td>1513</td><td>162</td><td>0.273</td><td> 978</td><td> 57</td><td>90</td><td>0.341</td><td>0.425</td><td>0.766</td></tr>\n",
       "\t<tr><td>New York Mets      </td><td>718</td><td>5600</td><td>1477</td><td>108</td><td>0.264</td><td>1085</td><td>130</td><td>77</td><td>0.335</td><td>0.391</td><td>0.725</td></tr>\n",
       "</tbody>\n",
       "</table>\n"
      ],
      "text/latex": [
       "A tibble: 6 × 12\n",
       "\\begin{tabular}{llllllllllll}\n",
       " team & runs & at\\_bats & hits & homeruns & bat\\_avg & strikeouts & stolen\\_bases & wins & new\\_onbase & new\\_slug & new\\_obs\\\\\n",
       " <fct> & <int> & <int> & <int> & <int> & <dbl> & <int> & <int> & <int> & <dbl> & <dbl> & <dbl>\\\\\n",
       "\\hline\n",
       "\t Texas Rangers       & 855 & 5659 & 1599 & 210 & 0.283 &  930 & 143 & 96 & 0.340 & 0.460 & 0.800\\\\\n",
       "\t Boston Red Sox      & 875 & 5710 & 1600 & 203 & 0.280 & 1108 & 102 & 90 & 0.349 & 0.461 & 0.810\\\\\n",
       "\t Detroit Tigers      & 787 & 5563 & 1540 & 169 & 0.277 & 1143 &  49 & 95 & 0.340 & 0.434 & 0.773\\\\\n",
       "\t Kansas City Royals  & 730 & 5672 & 1560 & 129 & 0.275 & 1006 & 153 & 71 & 0.329 & 0.415 & 0.744\\\\\n",
       "\t St. Louis Cardinals & 762 & 5532 & 1513 & 162 & 0.273 &  978 &  57 & 90 & 0.341 & 0.425 & 0.766\\\\\n",
       "\t New York Mets       & 718 & 5600 & 1477 & 108 & 0.264 & 1085 & 130 & 77 & 0.335 & 0.391 & 0.725\\\\\n",
       "\\end{tabular}\n"
      ],
      "text/markdown": [
       "\n",
       "A tibble: 6 × 12\n",
       "\n",
       "| team &lt;fct&gt; | runs &lt;int&gt; | at_bats &lt;int&gt; | hits &lt;int&gt; | homeruns &lt;int&gt; | bat_avg &lt;dbl&gt; | strikeouts &lt;int&gt; | stolen_bases &lt;int&gt; | wins &lt;int&gt; | new_onbase &lt;dbl&gt; | new_slug &lt;dbl&gt; | new_obs &lt;dbl&gt; |\n",
       "|---|---|---|---|---|---|---|---|---|---|---|---|\n",
       "| Texas Rangers       | 855 | 5659 | 1599 | 210 | 0.283 |  930 | 143 | 96 | 0.340 | 0.460 | 0.800 |\n",
       "| Boston Red Sox      | 875 | 5710 | 1600 | 203 | 0.280 | 1108 | 102 | 90 | 0.349 | 0.461 | 0.810 |\n",
       "| Detroit Tigers      | 787 | 5563 | 1540 | 169 | 0.277 | 1143 |  49 | 95 | 0.340 | 0.434 | 0.773 |\n",
       "| Kansas City Royals  | 730 | 5672 | 1560 | 129 | 0.275 | 1006 | 153 | 71 | 0.329 | 0.415 | 0.744 |\n",
       "| St. Louis Cardinals | 762 | 5532 | 1513 | 162 | 0.273 |  978 |  57 | 90 | 0.341 | 0.425 | 0.766 |\n",
       "| New York Mets       | 718 | 5600 | 1477 | 108 | 0.264 | 1085 | 130 | 77 | 0.335 | 0.391 | 0.725 |\n",
       "\n"
      ],
      "text/plain": [
       "  team                runs at_bats hits homeruns bat_avg strikeouts\n",
       "1 Texas Rangers       855  5659    1599 210      0.283    930      \n",
       "2 Boston Red Sox      875  5710    1600 203      0.280   1108      \n",
       "3 Detroit Tigers      787  5563    1540 169      0.277   1143      \n",
       "4 Kansas City Royals  730  5672    1560 129      0.275   1006      \n",
       "5 St. Louis Cardinals 762  5532    1513 162      0.273    978      \n",
       "6 New York Mets       718  5600    1477 108      0.264   1085      \n",
       "  stolen_bases wins new_onbase new_slug new_obs\n",
       "1 143          96   0.340      0.460    0.800  \n",
       "2 102          90   0.349      0.461    0.810  \n",
       "3  49          95   0.340      0.434    0.773  \n",
       "4 153          71   0.329      0.415    0.744  \n",
       "5  57          90   0.341      0.425    0.766  \n",
       "6 130          77   0.335      0.391    0.725  "
      ]
     },
     "metadata": {},
     "output_type": "display_data"
    }
   ],
   "source": [
    "data(mlb11)\n",
    "head(mlb11)"
   ]
  },
  {
   "cell_type": "markdown",
   "metadata": {},
   "source": [
    "In addition to runs scored, there are seven traditionally used variables in the  data set: at-bats, hits, home runs, batting average, strikeouts, stolen bases, and wins. There are also three newer variables: on-base percentage, slugging percentage, and on-base plus slugging. For the first portion of the analysis we'll consider the seven traditional variables. At the end of the lab, you'll work with the three newer variables on your own."
   ]
  },
  {
   "cell_type": "markdown",
   "metadata": {},
   "source": [
    "**1. What type of plot would you use to display the relationship between `runs` and one of the other numerical variables?**"
   ]
  },
  {
   "cell_type": "markdown",
   "metadata": {},
   "source": [
    "Answer:scatterplot."
   ]
  },
  {
   "cell_type": "markdown",
   "metadata": {},
   "source": [
    "**2. Plot the relationship between `runs` and `at_bats`, using `at_bats` as the explanatory variable. <br> The relationship appears to be ...**"
   ]
  },
  {
   "cell_type": "code",
   "execution_count": 3,
   "metadata": {},
   "outputs": [
    {
     "data": {
      "image/png": "[encoded data removed]",
      "text/plain": [
       "plot without title"
      ]
     },
     "metadata": {
      "image/png": {
       "height": 420,
       "width": 420
      },
      "text/plain": {
       "height": 420,
       "width": 420
      }
     },
     "output_type": "display_data"
    }
   ],
   "source": [
    "ggplot(data = mlb11, aes(x = at_bats, y = runs)) + \n",
    "    geom_point(shape = 1)"
   ]
  },
  {
   "cell_type": "markdown",
   "metadata": {},
   "source": [
    "Answer: linear."
   ]
  },
  {
   "cell_type": "markdown",
   "metadata": {},
   "source": [
    "**Exercise**: If you knew a team's `at_bats`, would you be comfortable using a linear model to predict their number of runs?\n",
    "\n",
    "If the relationship looks linear, we can quantify the strength of the relationship with the correlation coefficient."
   ]
  },
  {
   "cell_type": "code",
   "execution_count": 4,
   "metadata": {},
   "outputs": [
    {
     "data": {
      "text/html": [
       "<table>\n",
       "<caption>A tibble: 1 × 1</caption>\n",
       "<thead>\n",
       "\t<tr><th scope=col>cor(runs, at_bats)</th></tr>\n",
       "\t<tr><th scope=col>&lt;dbl&gt;</th></tr>\n",
       "</thead>\n",
       "<tbody>\n",
       "\t<tr><td>0.610627</td></tr>\n",
       "</tbody>\n",
       "</table>\n"
      ],
      "text/latex": [
       "A tibble: 1 × 1\n",
       "\\begin{tabular}{l}\n",
       " cor(runs, at\\_bats)\\\\\n",
       " <dbl>\\\\\n",
       "\\hline\n",
       "\t 0.610627\\\\\n",
       "\\end{tabular}\n"
      ],
      "text/markdown": [
       "\n",
       "A tibble: 1 × 1\n",
       "\n",
       "| cor(runs, at_bats) &lt;dbl&gt; |\n",
       "|---|\n",
       "| 0.610627 |\n",
       "\n"
      ],
      "text/plain": [
       "  cor(runs, at_bats)\n",
       "1 0.610627          "
      ]
     },
     "metadata": {},
     "output_type": "display_data"
    }
   ],
   "source": [
    "mlb11 %>%\n",
    "  summarise(cor(runs, at_bats))"
   ]
  },
  {
   "cell_type": "markdown",
   "metadata": {},
   "source": [
    "### Sum of squared residuals\n",
    "\n",
    "In this section you will use an interactive function to investigate what we mean by \"sum of squared residuals\". You will need to run this function in your console, not in your markdown document. Running the function also requires that the `mlb11` dataset is loaded in your environment.\n",
    "\n",
    "Think back to the way that we described the distribution of a single variable. Recall that we discussed characteristics such as center, spread, and shape. It's also useful to be able to describe the relationship of two numerical variables, such as `runs` and `at_bats` above."
   ]
  },
  {
   "cell_type": "markdown",
   "metadata": {},
   "source": [
    "**3. Looking at your plot from the previous exercise, which of the following best describe the relationship between these two variables?**"
   ]
  },
  {
   "cell_type": "markdown",
   "metadata": {},
   "source": [
    "Answer: The relationship is positive, linear, and moderately strong. One of the potential outliers is a team with approximately 5520 at bats."
   ]
  },
  {
   "cell_type": "markdown",
   "metadata": {},
   "source": [
    "Just as we used the mean and standard deviation to summarize a single variable, we can summarize the relationship between these two variables by finding the line that best follows their association. Use the following interactive function to select the line that you think does the best job of going through the cloud of points."
   ]
  },
  {
   "cell_type": "code",
   "execution_count": 5,
   "metadata": {},
   "outputs": [
    {
     "name": "stdout",
     "output_type": "stream",
     "text": [
      "Click two points to make a line.\r",
      "                                \n",
      "Call:\n",
      "lm(formula = y ~ x, data = pts)\n",
      "\n",
      "Coefficients:\n",
      "(Intercept)            x  \n",
      " -2789.2429       0.6305  \n",
      "\n",
      "Sum of Squares:  123721.9"
     ]
    },
    {
     "data": {
      "image/png": "[encoded data removed]",
      "text/plain": [
       "plot without title"
      ]
     },
     "metadata": {
      "image/png": {
       "height": 420,
       "width": 420
      },
      "text/plain": {
       "height": 420,
       "width": 420
      }
     },
     "output_type": "display_data"
    }
   ],
   "source": [
    "plot_ss(x = at_bats, y = runs, data = mlb11)"
   ]
  },
  {
   "cell_type": "markdown",
   "metadata": {},
   "source": [
    "After running this command, you'll be prompted to click two points on the plot to define a line. Once you've done that, the line you specified will be shown in\n",
    "black and the residuals in blue. Note that there are 30 residuals, one for each of the 30 observations. Recall that the residuals are the difference between the\n",
    "observed values and the values predicted by the line:\n",
    "\n",
    "$$\n",
    "  e_i = y_i - \\hat{y}_i\n",
    "$$\n",
    "\n",
    "The most common way to do linear regression is to select the line that minimizes the sum of squared residuals. To visualize the squared residuals, you can rerun the plot command and add the argument `showSquares = TRUE`."
   ]
  },
  {
   "cell_type": "code",
   "execution_count": 6,
   "metadata": {},
   "outputs": [
    {
     "name": "stdout",
     "output_type": "stream",
     "text": [
      "Click two points to make a line.\r",
      "                                \n",
      "Call:\n",
      "lm(formula = y ~ x, data = pts)\n",
      "\n",
      "Coefficients:\n",
      "(Intercept)            x  \n",
      " -2789.2429       0.6305  \n",
      "\n",
      "Sum of Squares:  123721.9"
     ]
    },
    {
     "data": {
      "image/png": "[encoded data removed]",
      "text/plain": [
       "plot without title"
      ]
     },
     "metadata": {
      "image/png": {
       "height": 420,
       "width": 420
      },
      "text/plain": {
       "height": 420,
       "width": 420
      }
     },
     "output_type": "display_data"
    }
   ],
   "source": [
    "plot_ss(x = at_bats, y = runs, data = mlb11, showSquares = TRUE)"
   ]
  },
  {
   "cell_type": "markdown",
   "metadata": {},
   "source": [
    "Note that the output from the `plot_ss` function provides you with the slope and intercept of your line as well as the sum of squares."
   ]
  },
  {
   "cell_type": "markdown",
   "metadata": {},
   "source": [
    "## The Linear Model\n",
    "\n",
    "It is rather cumbersome to try to get the correct least squares line, i.e. the line that minimizes the sum of squared residuals, through trial and error. Instead we can use the `lm` function in R to fit the linear model (a.k.a. regression line)."
   ]
  },
  {
   "cell_type": "code",
   "execution_count": 7,
   "metadata": {},
   "outputs": [],
   "source": [
    "m1 <- lm(runs ~ at_bats, data = mlb11)"
   ]
  },
  {
   "cell_type": "markdown",
   "metadata": {},
   "source": [
    "The first argument in the function `lm` is a formula that takes the form `y ~ x`. Here it can be read that we want to make a linear model of `runs` as a function of `at_bats`. The second argument specifies that R should look in the `mlb11` data frame to find the `runs` and `at_bats` variables.\n",
    "\n",
    "The output of `lm` is an object that contains all of the information we need about the linear model that was just fit. We can access this information using the summary function."
   ]
  },
  {
   "cell_type": "code",
   "execution_count": 8,
   "metadata": {},
   "outputs": [
    {
     "data": {
      "text/plain": [
       "\n",
       "Call:\n",
       "lm(formula = runs ~ at_bats, data = mlb11)\n",
       "\n",
       "Residuals:\n",
       "    Min      1Q  Median      3Q     Max \n",
       "-125.58  -47.05  -16.59   54.40  176.87 \n",
       "\n",
       "Coefficients:\n",
       "              Estimate Std. Error t value Pr(>|t|)    \n",
       "(Intercept) -2789.2429   853.6957  -3.267 0.002871 ** \n",
       "at_bats         0.6305     0.1545   4.080 0.000339 ***\n",
       "---\n",
       "Signif. codes:  0 '***' 0.001 '**' 0.01 '*' 0.05 '.' 0.1 ' ' 1\n",
       "\n",
       "Residual standard error: 66.47 on 28 degrees of freedom\n",
       "Multiple R-squared:  0.3729,\tAdjusted R-squared:  0.3505 \n",
       "F-statistic: 16.65 on 1 and 28 DF,  p-value: 0.0003388\n"
      ]
     },
     "metadata": {},
     "output_type": "display_data"
    }
   ],
   "source": [
    "summary(m1)"
   ]
  },
  {
   "cell_type": "markdown",
   "metadata": {},
   "source": [
    "Let's consider this output piece by piece. First, the formula used to describe the model is shown at the top. After the formula you find the five-number summary of the residuals. The \"Coefficients\" table shown next is key; its first column displays the linear model's y-intercept and the coefficient of `at_bats`. With this table, we can write down the least squares regression line for the linear model:\n",
    "\n",
    "$$\n",
    "  \\hat{y} = -2789.2429 + 0.6305 \\times at\\_bats\n",
    "$$\n",
    "\n",
    "One last piece of information we will discuss from the summary output is the Multiple R-squared, or more simply, $R^2$. The $R^2$ value represents the proportion of variability in the response variable that is explained by the explanatory variable. For this model, 37.3% of the variability in runs is explained by at-bats."
   ]
  },
  {
   "cell_type": "markdown",
   "metadata": {},
   "source": [
    "**4. Fit a new model that uses `homeruns` to predict `runs`.  Using the estimates from the R output, write the equation of the regression line. What does the slope tell us in the context of the relationship between success of a team and its home runs?**"
   ]
  },
  {
   "cell_type": "code",
   "execution_count": 9,
   "metadata": {},
   "outputs": [
    {
     "data": {
      "text/plain": [
       "\n",
       "Call:\n",
       "lm(formula = runs ~ homeruns, data = mlb11)\n",
       "\n",
       "Residuals:\n",
       "    Min      1Q  Median      3Q     Max \n",
       "-91.615 -33.410   3.231  24.292 104.631 \n",
       "\n",
       "Coefficients:\n",
       "            Estimate Std. Error t value Pr(>|t|)    \n",
       "(Intercept) 415.2389    41.6779   9.963 1.04e-10 ***\n",
       "homeruns      1.8345     0.2677   6.854 1.90e-07 ***\n",
       "---\n",
       "Signif. codes:  0 '***' 0.001 '**' 0.01 '*' 0.05 '.' 0.1 ' ' 1\n",
       "\n",
       "Residual standard error: 51.29 on 28 degrees of freedom\n",
       "Multiple R-squared:  0.6266,\tAdjusted R-squared:  0.6132 \n",
       "F-statistic: 46.98 on 1 and 28 DF,  p-value: 1.9e-07\n"
      ]
     },
     "metadata": {},
     "output_type": "display_data"
    }
   ],
   "source": [
    "ml2 = lm(runs ~ homeruns, data = mlb11)\n",
    "\n",
    "summary(ml2)"
   ]
  },
  {
   "cell_type": "markdown",
   "metadata": {},
   "source": [
    "Answer: For each additional home run, the model predicts 1.83 more runs, on average."
   ]
  },
  {
   "cell_type": "markdown",
   "metadata": {},
   "source": [
    "## Prediction and prediction errors\n",
    "\n",
    "Let's create a scatterplot with the least squares line for `m1` laid on top."
   ]
  },
  {
   "cell_type": "code",
   "execution_count": 10,
   "metadata": {},
   "outputs": [
    {
     "name": "stderr",
     "output_type": "stream",
     "text": [
      "`geom_smooth()` using formula 'y ~ x'\n",
      "\n"
     ]
    },
    {
     "data": {
      "image/png": "[encoded data removed]",
      "text/plain": [
       "plot without title"
      ]
     },
     "metadata": {
      "image/png": {
       "height": 420,
       "width": 420
      },
      "text/plain": {
       "height": 420,
       "width": 420
      }
     },
     "output_type": "display_data"
    }
   ],
   "source": [
    "ggplot(data = mlb11, aes(x = at_bats, y = runs)) +\n",
    "  geom_point() +\n",
    "  stat_smooth(method = \"lm\", se = FALSE)"
   ]
  },
  {
   "cell_type": "markdown",
   "metadata": {},
   "source": [
    "Here we are literally adding a layer on top of our plot. `stat_smooth` creates the line by fitting a linear model. It can also show us the standard error `se` associated with our line, but we'll suppress that for now.\n",
    "\n",
    "This line can be used to predict $y$ at any value of $x$. When predictions are made for values of $x$ that are beyond the range of the observed data, it is referred to as *extrapolation* and is not usually recommended. However, predictions made within the range of the data are more reliable. They're also used to compute the residuals."
   ]
  },
  {
   "cell_type": "markdown",
   "metadata": {},
   "source": [
    "**Exercise**: If a team manager saw the least squares regression line and not the actual data, how many runs would he or she predict for a team with 5,579 at-bats? Is this an overestimate or an underestimate, and by how much?\n",
    "\n",
    "To find the observed number of runs for the team with 5,579 at bats you can use the following:"
   ]
  },
  {
   "cell_type": "code",
   "execution_count": 11,
   "metadata": {},
   "outputs": [
    {
     "data": {
      "text/html": [
       "<table>\n",
       "<caption>A tibble: 1 × 1</caption>\n",
       "<thead>\n",
       "\t<tr><th scope=col>runs</th></tr>\n",
       "\t<tr><th scope=col>&lt;int&gt;</th></tr>\n",
       "</thead>\n",
       "<tbody>\n",
       "\t<tr><td>713</td></tr>\n",
       "</tbody>\n",
       "</table>\n"
      ],
      "text/latex": [
       "A tibble: 1 × 1\n",
       "\\begin{tabular}{l}\n",
       " runs\\\\\n",
       " <int>\\\\\n",
       "\\hline\n",
       "\t 713\\\\\n",
       "\\end{tabular}\n"
      ],
      "text/markdown": [
       "\n",
       "A tibble: 1 × 1\n",
       "\n",
       "| runs &lt;int&gt; |\n",
       "|---|\n",
       "| 713 |\n",
       "\n"
      ],
      "text/plain": [
       "  runs\n",
       "1 713 "
      ]
     },
     "metadata": {},
     "output_type": "display_data"
    }
   ],
   "source": [
    "# This code first filters for rows observation. `at_bats` is 5579, and then shows the value of the `runs variable for \n",
    "# that observation.\n",
    "\n",
    "mlb11 %>%\n",
    "  filter(at_bats == 5579) %>%\n",
    "  select(runs)"
   ]
  },
  {
   "cell_type": "markdown",
   "metadata": {},
   "source": [
    "**5. What is the residual for the prediction of runs for a team with 5,579 at-bats?**"
   ]
  },
  {
   "cell_type": "code",
   "execution_count": 12,
   "metadata": {},
   "outputs": [],
   "source": [
    "actual_runs <- mlb11 %>%  filter(at_bats == 5579) %>%  select(runs)\n",
    "\n",
    "regCoeff <- lm(runs ~ at_bats, data = mlb11)$coefficients[\"at_bats\"]\n",
    "\n",
    "regIntercept <- lm(runs ~ at_bats, data = mlb11)$coefficients[\"(Intercept)\"]\n",
    "\n",
    "predicted_runs <- regCoeff*5579 + regIntercept"
   ]
  },
  {
   "cell_type": "code",
   "execution_count": 13,
   "metadata": {},
   "outputs": [
    {
     "data": {
      "text/html": [
       "<table>\n",
       "<caption>A data.frame: 1 × 1</caption>\n",
       "<thead>\n",
       "\t<tr><th scope=col>runs</th></tr>\n",
       "\t<tr><th scope=col>&lt;dbl&gt;</th></tr>\n",
       "</thead>\n",
       "<tbody>\n",
       "\t<tr><td>-15.59552</td></tr>\n",
       "</tbody>\n",
       "</table>\n"
      ],
      "text/latex": [
       "A data.frame: 1 × 1\n",
       "\\begin{tabular}{l}\n",
       " runs\\\\\n",
       " <dbl>\\\\\n",
       "\\hline\n",
       "\t -15.59552\\\\\n",
       "\\end{tabular}\n"
      ],
      "text/markdown": [
       "\n",
       "A data.frame: 1 × 1\n",
       "\n",
       "| runs &lt;dbl&gt; |\n",
       "|---|\n",
       "| -15.59552 |\n",
       "\n"
      ],
      "text/plain": [
       "  runs     \n",
       "1 -15.59552"
      ]
     },
     "metadata": {},
     "output_type": "display_data"
    }
   ],
   "source": [
    "actual_runs - predicted_runs"
   ]
  },
  {
   "cell_type": "markdown",
   "metadata": {},
   "source": [
    "Answer: -15.32."
   ]
  },
  {
   "cell_type": "markdown",
   "metadata": {},
   "source": [
    "## Model Diagnostics\n",
    "\n",
    "To assess whether the linear model is reliable, we need to check for:\n",
    "\n",
    "\n",
    "1. linearity;\n",
    "2. nearly normal residuals;\n",
    "3. constant variability.\n",
    "\n",
    "**Linearity**: You already checked if the relationship between runs and at-bats is linear using a scatterplot. We should also verify this condition with a plot of the residuals vs. fitted (predicted) values."
   ]
  },
  {
   "cell_type": "code",
   "execution_count": 14,
   "metadata": {},
   "outputs": [
    {
     "data": {
      "image/png": "[encoded data removed]",
      "text/plain": [
       "plot without title"
      ]
     },
     "metadata": {
      "image/png": {
       "height": 420,
       "width": 420
      },
      "text/plain": {
       "height": 420,
       "width": 420
      }
     },
     "output_type": "display_data"
    }
   ],
   "source": [
    "ggplot(data = m1, aes(x = .fitted, y = .resid)) +\n",
    "  geom_point() +\n",
    "  geom_hline(yintercept = 0, linetype = \"dashed\") +\n",
    "  xlab(\"Fitted values\") +\n",
    "  ylab(\"Residuals\")"
   ]
  },
  {
   "cell_type": "markdown",
   "metadata": {},
   "source": [
    "Notice here that our model object `m1` can also serve as a data set because stored within it are the fitted values ($\\hat{y}$) and the residuals. Also note that we're getting fancy with the code here. After creating the scatterplot on the first layer (first line of code), we overlay a horizontal dashed line at $y = 0$ (to help us check whether residuals are distributed around 0), and we also adjust the axis labels to be more informative."
   ]
  },
  {
   "cell_type": "markdown",
   "metadata": {},
   "source": [
    "**6. Which of the following statements about the residual plot is True?**"
   ]
  },
  {
   "cell_type": "markdown",
   "metadata": {},
   "source": [
    "Answer:\n",
    "\n",
    "    The residuals appear to be randomly distributed around 0. \n",
    "    The plot is indicative of a linear relationship between runs and at-bats.\n",
    "    The team with a very high residual compared to the others appears to be an outlier."
   ]
  },
  {
   "cell_type": "markdown",
   "metadata": {},
   "source": [
    "**Nearly normal residuals**: To check this condition, we can look at a histogram"
   ]
  },
  {
   "cell_type": "code",
   "execution_count": 15,
   "metadata": {},
   "outputs": [
    {
     "data": {
      "image/png": "[encoded data removed]",
      "text/plain": [
       "plot without title"
      ]
     },
     "metadata": {
      "image/png": {
       "height": 420,
       "width": 420
      },
      "text/plain": {
       "height": 420,
       "width": 420
      }
     },
     "output_type": "display_data"
    }
   ],
   "source": [
    "ggplot(data = m1, aes(x = .resid)) +\n",
    "  geom_histogram(binwidth = 25) +\n",
    "  xlab(\"Residuals\")"
   ]
  },
  {
   "cell_type": "markdown",
   "metadata": {},
   "source": [
    "Or a normal probability plot of the residuals."
   ]
  },
  {
   "cell_type": "code",
   "execution_count": 16,
   "metadata": {},
   "outputs": [
    {
     "data": {
      "image/png": "[encoded data removed]",
      "text/plain": [
       "plot without title"
      ]
     },
     "metadata": {
      "image/png": {
       "height": 420,
       "width": 420
      },
      "text/plain": {
       "height": 420,
       "width": 420
      }
     },
     "output_type": "display_data"
    }
   ],
   "source": [
    "ggplot(data = m1, aes(sample = .resid)) +\n",
    "  stat_qq()"
   ]
  },
  {
   "cell_type": "markdown",
   "metadata": {},
   "source": [
    "Note that the syntax for making a normal probability plot is a bit different than what you're used to seeing: we set `sample` equal to the residuals instead of `x`, and we set a statistical method `qq`, which stands for \"quantile-quantile\", another name commonly used for normal probability plots."
   ]
  },
  {
   "cell_type": "markdown",
   "metadata": {},
   "source": [
    "**7. Which of the following is true?**"
   ]
  },
  {
   "cell_type": "markdown",
   "metadata": {},
   "source": [
    "Answer: The residuals are fairly symmetric, with only a slightly longer tail on the right, hence it would be appropriate to deem the the normal distribution of residuals condition met."
   ]
  },
  {
   "cell_type": "markdown",
   "metadata": {},
   "source": [
    "### Constant variability:"
   ]
  },
  {
   "cell_type": "markdown",
   "metadata": {},
   "source": [
    "**8. Based on the residuals plot from earlier, the constant variability condition appears to be met.** "
   ]
  },
  {
   "cell_type": "markdown",
   "metadata": {},
   "source": [
    "Answer: True."
   ]
  },
  {
   "cell_type": "markdown",
   "metadata": {},
   "source": [
    "**Exercise**: Choose another one of the seven traditional variables from `mlb11` besides `at_bats` that you think might be a good predictor of `runs`. Produce a scatterplot of the two variables and fit a linear model. At a glance, does there seem to be a linear relationship?"
   ]
  },
  {
   "cell_type": "code",
   "execution_count": 17,
   "metadata": {},
   "outputs": [
    {
     "name": "stderr",
     "output_type": "stream",
     "text": [
      "`geom_smooth()` using formula 'y ~ x'\n",
      "\n"
     ]
    },
    {
     "data": {
      "image/png": "[encoded data removed]",
      "text/plain": [
       "plot without title"
      ]
     },
     "metadata": {
      "image/png": {
       "height": 420,
       "width": 420
      },
      "text/plain": {
       "height": 420,
       "width": 420
      }
     },
     "output_type": "display_data"
    }
   ],
   "source": [
    "ggplot(data = mlb11, aes(x = homeruns, y = runs)) +\n",
    "  geom_point() +\n",
    "  stat_smooth(method = \"lm\", se = FALSE)"
   ]
  },
  {
   "cell_type": "markdown",
   "metadata": {},
   "source": [
    "**Exercise**: How does this relationship compare to the relationship between `runs` and `at_bats`? Use the R$^2$ values from the two model summaries to compare. Does your variable seem to predict `runs` better than `at_bats`? How can you tell?"
   ]
  },
  {
   "cell_type": "code",
   "execution_count": 18,
   "metadata": {},
   "outputs": [],
   "source": [
    "mod1 = lm(runs ~ homeruns, data =mlb11)\n",
    "\n",
    "mod2 = lm(runs ~ at_bats, data = mlb11)"
   ]
  },
  {
   "cell_type": "code",
   "execution_count": 19,
   "metadata": {},
   "outputs": [
    {
     "data": {
      "text/plain": [
       "\n",
       "Call:\n",
       "lm(formula = runs ~ homeruns, data = mlb11)\n",
       "\n",
       "Residuals:\n",
       "    Min      1Q  Median      3Q     Max \n",
       "-91.615 -33.410   3.231  24.292 104.631 \n",
       "\n",
       "Coefficients:\n",
       "            Estimate Std. Error t value Pr(>|t|)    \n",
       "(Intercept) 415.2389    41.6779   9.963 1.04e-10 ***\n",
       "homeruns      1.8345     0.2677   6.854 1.90e-07 ***\n",
       "---\n",
       "Signif. codes:  0 '***' 0.001 '**' 0.01 '*' 0.05 '.' 0.1 ' ' 1\n",
       "\n",
       "Residual standard error: 51.29 on 28 degrees of freedom\n",
       "Multiple R-squared:  0.6266,\tAdjusted R-squared:  0.6132 \n",
       "F-statistic: 46.98 on 1 and 28 DF,  p-value: 1.9e-07\n"
      ]
     },
     "metadata": {},
     "output_type": "display_data"
    }
   ],
   "source": [
    "summary(mod1)"
   ]
  },
  {
   "cell_type": "code",
   "execution_count": 20,
   "metadata": {},
   "outputs": [
    {
     "data": {
      "text/plain": [
       "\n",
       "Call:\n",
       "lm(formula = runs ~ at_bats, data = mlb11)\n",
       "\n",
       "Residuals:\n",
       "    Min      1Q  Median      3Q     Max \n",
       "-125.58  -47.05  -16.59   54.40  176.87 \n",
       "\n",
       "Coefficients:\n",
       "              Estimate Std. Error t value Pr(>|t|)    \n",
       "(Intercept) -2789.2429   853.6957  -3.267 0.002871 ** \n",
       "at_bats         0.6305     0.1545   4.080 0.000339 ***\n",
       "---\n",
       "Signif. codes:  0 '***' 0.001 '**' 0.01 '*' 0.05 '.' 0.1 ' ' 1\n",
       "\n",
       "Residual standard error: 66.47 on 28 degrees of freedom\n",
       "Multiple R-squared:  0.3729,\tAdjusted R-squared:  0.3505 \n",
       "F-statistic: 16.65 on 1 and 28 DF,  p-value: 0.0003388\n"
      ]
     },
     "metadata": {},
     "output_type": "display_data"
    }
   ],
   "source": [
    "summary(mod2)"
   ]
  },
  {
   "cell_type": "markdown",
   "metadata": {},
   "source": [
    "Answer: \"homeruns\" looks better to predict runs than \"at_bats\". The reason is that is `Adjusted R-squared:`  0.6132 against 0.3505. The same for `Residual standard error:` 51.29 against 66.47."
   ]
  },
  {
   "cell_type": "markdown",
   "metadata": {},
   "source": [
    "**9. Now that you can summarize the linear relationship between two variables, investigate the relationships between `runs` and each of the other five traditional variables. Which variable best predicts `runs`? Support your conclusion using the graphical and numerical methods we've discussed.**"
   ]
  },
  {
   "cell_type": "code",
   "execution_count": 21,
   "metadata": {},
   "outputs": [],
   "source": [
    "# To Multiple Graphs with ggplot\n",
    "#install.packages(\"ggpubr\")\n",
    "library(ggpubr)"
   ]
  },
  {
   "cell_type": "code",
   "execution_count": 22,
   "metadata": {},
   "outputs": [],
   "source": [
    "# 4 figures arranged in 2 rows and 2 columns\n",
    "#attach(mtcars)\n",
    "par(mfrow=c(2,2))\n",
    "\n",
    "a = ggplot(data = mlb11, aes(x = at_bats, y = runs)) +\n",
    "  geom_point() +\n",
    "  stat_smooth(method = \"lm\", se = FALSE)\n",
    "\n",
    "b = ggplot(data = mlb11, aes(x = hits, y = runs)) +\n",
    "  geom_point() +\n",
    "  stat_smooth(method = \"lm\", se = FALSE)\n",
    "\n",
    "c = ggplot(data = mlb11, aes(x = wins, y = runs)) +\n",
    "  geom_point() +\n",
    "  stat_smooth(method = \"lm\", se = FALSE)\n",
    "\n",
    "d = ggplot(data = mlb11, aes(x = bat_avg, y = runs)) +\n",
    "  geom_point() +\n",
    "  stat_smooth(method = \"lm\", se = FALSE)"
   ]
  },
  {
   "cell_type": "code",
   "execution_count": 23,
   "metadata": {},
   "outputs": [
    {
     "name": "stderr",
     "output_type": "stream",
     "text": [
      "`geom_smooth()` using formula 'y ~ x'\n",
      "\n",
      "`geom_smooth()` using formula 'y ~ x'\n",
      "\n",
      "`geom_smooth()` using formula 'y ~ x'\n",
      "\n",
      "`geom_smooth()` using formula 'y ~ x'\n",
      "\n"
     ]
    },
    {
     "data": {
      "image/png": "[encoded data removed]",
      "text/plain": [
       "plot without title"
      ]
     },
     "metadata": {
      "image/png": {
       "height": 420,
       "width": 420
      },
      "text/plain": {
       "height": 420,
       "width": 420
      }
     },
     "output_type": "display_data"
    }
   ],
   "source": [
    "ggarrange(a, b, c, d + rremove(\"x.text\"), \n",
    "          labels = c(\"at_bats\", \"hits\", \"wins\", \"bat_avg\"),\n",
    "          ncol = 2, nrow = 2)"
   ]
  },
  {
   "cell_type": "code",
   "execution_count": 24,
   "metadata": {},
   "outputs": [
    {
     "data": {
      "text/plain": [
       "\n",
       "Call:\n",
       "lm(formula = runs ~ at_bats, data = mlb11)\n",
       "\n",
       "Residuals:\n",
       "    Min      1Q  Median      3Q     Max \n",
       "-125.58  -47.05  -16.59   54.40  176.87 \n",
       "\n",
       "Coefficients:\n",
       "              Estimate Std. Error t value Pr(>|t|)    \n",
       "(Intercept) -2789.2429   853.6957  -3.267 0.002871 ** \n",
       "at_bats         0.6305     0.1545   4.080 0.000339 ***\n",
       "---\n",
       "Signif. codes:  0 '***' 0.001 '**' 0.01 '*' 0.05 '.' 0.1 ' ' 1\n",
       "\n",
       "Residual standard error: 66.47 on 28 degrees of freedom\n",
       "Multiple R-squared:  0.3729,\tAdjusted R-squared:  0.3505 \n",
       "F-statistic: 16.65 on 1 and 28 DF,  p-value: 0.0003388\n"
      ]
     },
     "metadata": {},
     "output_type": "display_data"
    }
   ],
   "source": [
    "summary(lm( runs ~ at_bats, mlb11))"
   ]
  },
  {
   "cell_type": "code",
   "execution_count": 25,
   "metadata": {},
   "outputs": [
    {
     "data": {
      "text/plain": [
       "\n",
       "Call:\n",
       "lm(formula = runs ~ hits, data = mlb11)\n",
       "\n",
       "Residuals:\n",
       "     Min       1Q   Median       3Q      Max \n",
       "-103.718  -27.179   -5.233   19.322  140.693 \n",
       "\n",
       "Coefficients:\n",
       "             Estimate Std. Error t value Pr(>|t|)    \n",
       "(Intercept) -375.5600   151.1806  -2.484   0.0192 *  \n",
       "hits           0.7589     0.1071   7.085 1.04e-07 ***\n",
       "---\n",
       "Signif. codes:  0 '***' 0.001 '**' 0.01 '*' 0.05 '.' 0.1 ' ' 1\n",
       "\n",
       "Residual standard error: 50.23 on 28 degrees of freedom\n",
       "Multiple R-squared:  0.6419,\tAdjusted R-squared:  0.6292 \n",
       "F-statistic:  50.2 on 1 and 28 DF,  p-value: 1.043e-07\n"
      ]
     },
     "metadata": {},
     "output_type": "display_data"
    }
   ],
   "source": [
    "summary(lm( runs ~ hits, mlb11))"
   ]
  },
  {
   "cell_type": "code",
   "execution_count": 26,
   "metadata": {},
   "outputs": [
    {
     "data": {
      "text/plain": [
       "\n",
       "Call:\n",
       "lm(formula = runs ~ wins, data = mlb11)\n",
       "\n",
       "Residuals:\n",
       "     Min       1Q   Median       3Q      Max \n",
       "-145.450  -47.506   -7.482   47.346  142.186 \n",
       "\n",
       "Coefficients:\n",
       "            Estimate Std. Error t value Pr(>|t|)    \n",
       "(Intercept)  342.121     89.223   3.834 0.000654 ***\n",
       "wins           4.341      1.092   3.977 0.000447 ***\n",
       "---\n",
       "Signif. codes:  0 '***' 0.001 '**' 0.01 '*' 0.05 '.' 0.1 ' ' 1\n",
       "\n",
       "Residual standard error: 67.1 on 28 degrees of freedom\n",
       "Multiple R-squared:  0.361,\tAdjusted R-squared:  0.3381 \n",
       "F-statistic: 15.82 on 1 and 28 DF,  p-value: 0.0004469\n"
      ]
     },
     "metadata": {},
     "output_type": "display_data"
    }
   ],
   "source": [
    "summary(lm( runs ~ wins, mlb11))"
   ]
  },
  {
   "cell_type": "code",
   "execution_count": 27,
   "metadata": {},
   "outputs": [
    {
     "data": {
      "text/plain": [
       "\n",
       "Call:\n",
       "lm(formula = runs ~ bat_avg, data = mlb11)\n",
       "\n",
       "Residuals:\n",
       "    Min      1Q  Median      3Q     Max \n",
       "-94.676 -26.303  -5.496  28.482 131.113 \n",
       "\n",
       "Coefficients:\n",
       "            Estimate Std. Error t value Pr(>|t|)    \n",
       "(Intercept)   -642.8      183.1  -3.511  0.00153 ** \n",
       "bat_avg       5242.2      717.3   7.308 5.88e-08 ***\n",
       "---\n",
       "Signif. codes:  0 '***' 0.001 '**' 0.01 '*' 0.05 '.' 0.1 ' ' 1\n",
       "\n",
       "Residual standard error: 49.23 on 28 degrees of freedom\n",
       "Multiple R-squared:  0.6561,\tAdjusted R-squared:  0.6438 \n",
       "F-statistic: 53.41 on 1 and 28 DF,  p-value: 5.877e-08\n"
      ]
     },
     "metadata": {},
     "output_type": "display_data"
    }
   ],
   "source": [
    "summary(lm( runs ~ bat_avg, mlb11))"
   ]
  },
  {
   "cell_type": "markdown",
   "metadata": {},
   "source": [
    "                               at_bats    hits    wins    bat_avg    \n",
    "    Residual standard error:    66.47    50.23    67.1    49.23\n",
    "    Multiple R-squared:        0.3729   0.6419   0.361    0.6561"
   ]
  },
  {
   "cell_type": "markdown",
   "metadata": {},
   "source": [
    "Answer: Batting average (bat_avg)."
   ]
  },
  {
   "cell_type": "markdown",
   "metadata": {},
   "source": [
    "**10. Now examine the three newer variables.  These are the statistics used by the author of *Moneyball* to predict a teams success.  In general, are they more or less effective at predicting runs that the old variables?  Explain using appropriate graphical and numerical evidence.  Of all ten variables we've analyzed, which seems to be the best predictor of `runs`?**"
   ]
  },
  {
   "cell_type": "code",
   "execution_count": 28,
   "metadata": {},
   "outputs": [
    {
     "name": "stderr",
     "output_type": "stream",
     "text": [
      "`geom_smooth()` using formula 'y ~ x'\n",
      "\n",
      "`geom_smooth()` using formula 'y ~ x'\n",
      "\n",
      "`geom_smooth()` using formula 'y ~ x'\n",
      "\n"
     ]
    },
    {
     "data": {
      "image/png": "[encoded data removed]",
      "text/plain": [
       "plot without title"
      ]
     },
     "metadata": {
      "image/png": {
       "height": 420,
       "width": 420
      },
      "text/plain": {
       "height": 420,
       "width": 420
      }
     },
     "output_type": "display_data"
    }
   ],
   "source": [
    "a2 = ggplot(data = mlb11, aes(x = new_obs, y = runs)) +\n",
    "      geom_point() +\n",
    "      stat_smooth(method = \"lm\", se = FALSE)\n",
    "\n",
    "b2 = ggplot(data = mlb11, aes(x = new_slug, y = runs)) +\n",
    "      geom_point() +\n",
    "      stat_smooth(method = \"lm\", se = FALSE)\n",
    "\n",
    "c2 = ggplot(data = mlb11, aes(x = new_onbase, y = runs)) +\n",
    "      geom_point() +\n",
    "      stat_smooth(method = \"lm\", se = FALSE)\n",
    "\n",
    "ggarrange(a2, b2, c2 + rremove(\"x.text\"), \n",
    "          labels = c(\"new_obs\", \"new_slug\", \"new_onbase\"),\n",
    "          ncol = 2, nrow = 2)"
   ]
  },
  {
   "cell_type": "code",
   "execution_count": 29,
   "metadata": {},
   "outputs": [
    {
     "data": {
      "text/plain": [
       "\n",
       "Call:\n",
       "lm(formula = runs ~ new_obs, data = mlb11)\n",
       "\n",
       "Residuals:\n",
       "    Min      1Q  Median      3Q     Max \n",
       "-43.456 -13.690   1.165  13.935  41.156 \n",
       "\n",
       "Coefficients:\n",
       "            Estimate Std. Error t value Pr(>|t|)    \n",
       "(Intercept)  -686.61      68.93  -9.962 1.05e-10 ***\n",
       "new_obs      1919.36      95.70  20.057  < 2e-16 ***\n",
       "---\n",
       "Signif. codes:  0 '***' 0.001 '**' 0.01 '*' 0.05 '.' 0.1 ' ' 1\n",
       "\n",
       "Residual standard error: 21.41 on 28 degrees of freedom\n",
       "Multiple R-squared:  0.9349,\tAdjusted R-squared:  0.9326 \n",
       "F-statistic: 402.3 on 1 and 28 DF,  p-value: < 2.2e-16\n"
      ]
     },
     "metadata": {},
     "output_type": "display_data"
    }
   ],
   "source": [
    "summary(lm( runs ~ new_obs, mlb11))"
   ]
  },
  {
   "cell_type": "code",
   "execution_count": 30,
   "metadata": {},
   "outputs": [
    {
     "data": {
      "text/plain": [
       "\n",
       "Call:\n",
       "lm(formula = runs ~ new_slug, data = mlb11)\n",
       "\n",
       "Residuals:\n",
       "   Min     1Q Median     3Q    Max \n",
       "-45.41 -18.66  -0.91  16.29  52.29 \n",
       "\n",
       "Coefficients:\n",
       "            Estimate Std. Error t value Pr(>|t|)    \n",
       "(Intercept)  -375.80      68.71   -5.47 7.70e-06 ***\n",
       "new_slug     2681.33     171.83   15.61 2.42e-15 ***\n",
       "---\n",
       "Signif. codes:  0 '***' 0.001 '**' 0.01 '*' 0.05 '.' 0.1 ' ' 1\n",
       "\n",
       "Residual standard error: 26.96 on 28 degrees of freedom\n",
       "Multiple R-squared:  0.8969,\tAdjusted R-squared:  0.8932 \n",
       "F-statistic: 243.5 on 1 and 28 DF,  p-value: 2.42e-15\n"
      ]
     },
     "metadata": {},
     "output_type": "display_data"
    }
   ],
   "source": [
    "summary(lm( runs ~ new_slug, mlb11))"
   ]
  },
  {
   "cell_type": "code",
   "execution_count": 31,
   "metadata": {},
   "outputs": [
    {
     "data": {
      "text/plain": [
       "\n",
       "Call:\n",
       "lm(formula = runs ~ new_onbase, data = mlb11)\n",
       "\n",
       "Residuals:\n",
       "    Min      1Q  Median      3Q     Max \n",
       "-58.270 -18.335   3.249  19.520  69.002 \n",
       "\n",
       "Coefficients:\n",
       "            Estimate Std. Error t value Pr(>|t|)    \n",
       "(Intercept)  -1118.4      144.5  -7.741 1.97e-08 ***\n",
       "new_onbase    5654.3      450.5  12.552 5.12e-13 ***\n",
       "---\n",
       "Signif. codes:  0 '***' 0.001 '**' 0.01 '*' 0.05 '.' 0.1 ' ' 1\n",
       "\n",
       "Residual standard error: 32.61 on 28 degrees of freedom\n",
       "Multiple R-squared:  0.8491,\tAdjusted R-squared:  0.8437 \n",
       "F-statistic: 157.6 on 1 and 28 DF,  p-value: 5.116e-13\n"
      ]
     },
     "metadata": {},
     "output_type": "display_data"
    }
   ],
   "source": [
    "summary(lm( runs ~ new_onbase, mlb11))"
   ]
  },
  {
   "cell_type": "markdown",
   "metadata": {},
   "source": [
    "                               new_obs   new_slug  new_onbase \n",
    "    Residual standard error:    21.41     26.96     32.61\n",
    "    Multiple R-squared:        0.9349    0.8969    0.8491"
   ]
  },
  {
   "cell_type": "markdown",
   "metadata": {},
   "source": [
    "Answer: On-base plus slugging (new_obs)."
   ]
  },
  {
   "cell_type": "markdown",
   "metadata": {},
   "source": [
    "**Exercise**: Check the model diagnostics for the regression model with the variable you decided was the best predictor for runs."
   ]
  },
  {
   "cell_type": "markdown",
   "metadata": {},
   "source": [
    "Answer: On-base plus slugging (new_obs)."
   ]
  }
 ],
 "metadata": {
  "kernelspec": {
   "display_name": "R",
   "language": "R",
   "name": "ir"
  },
  "language_info": {
   "codemirror_mode": "r",
   "file_extension": ".r",
   "mimetype": "text/x-r-source",
   "name": "R",
   "pygments_lexer": "r",
   "version": "3.6.3"
  }
 },
 "nbformat": 4,
 "nbformat_minor": 4
}
