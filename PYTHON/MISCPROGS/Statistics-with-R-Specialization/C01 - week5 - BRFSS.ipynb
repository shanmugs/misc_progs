{
 "cells": [
  {
   "cell_type": "markdown",
   "metadata": {},
   "source": [
    "# Behavioral Risk Factor Surveillance System (BRFSS)"
   ]
  },
  {
   "cell_type": "markdown",
   "metadata": {},
   "source": [
    "<img src=\"images/BRFSS.jpg\"/>"
   ]
  },
  {
   "cell_type": "markdown",
   "metadata": {},
   "source": [
    "The Behavioral Risk Factor Surveillance System (BRFSS) is an annual telephone survey in the United States. The BRFSS is designed to identify risk factors in the adult population and report emerging trends. For example, respondents are asked about their diet and weekly physical activity, their HIV/AIDS status, possible tobacco use, immunization, health status, healthy days - health-related quality of life, health care access, inadequate sleep, hypertension awareness, cholesterol awareness, chronic health conditions, alcohol consumption, fruits and vegetables consumption, arthritis burden, and seatbelt use."
   ]
  },
  {
   "cell_type": "markdown",
   "metadata": {},
   "source": [
    "The data were collected from United States’ all 50 states, the District of Columbia, Puerto Rico, Guam and American Samoa, Federated States of Micronesia, and Palau, by conducting both landline telephone- and cellular telephone-based surveys. Disproportionate stratified sampling (DSS) has been used for the landline sample and the cellular telephone respondents are randomly selected with each having equal probability of selection. The dataset we are working on contains 330 variables for a total of 491, 775 observations in 2013. The missing values denoted by “NA”."
   ]
  },
  {
   "cell_type": "markdown",
   "metadata": {},
   "source": [
    "The sample data should allow us to generalize to the population of interest. It is a survey of 491,775 U.S. adults aged 18 years or older. It is based on a large stratified random sample. Potential biases are associated with non-response, incomplete interviews, missing values and convenience bias (some potential respondents may not have been included because they do not have a landline and cell phone)."
   ]
  },
  {
   "cell_type": "markdown",
   "metadata": {},
   "source": [
    "### Libraries"
   ]
  },
  {
   "cell_type": "code",
   "execution_count": 1,
   "metadata": {},
   "outputs": [
    {
     "name": "stderr",
     "output_type": "stream",
     "text": [
      "\n",
      "Attaching package: 'dplyr'\n",
      "\n",
      "\n",
      "The following objects are masked from 'package:stats':\n",
      "\n",
      "    filter, lag\n",
      "\n",
      "\n",
      "The following objects are masked from 'package:base':\n",
      "\n",
      "    intersect, setdiff, setequal, union\n",
      "\n",
      "\n",
      "Loading required package: lattice\n",
      "\n",
      "Loading required package: survival\n",
      "\n",
      "Loading required package: Formula\n",
      "\n",
      "\n",
      "Attaching package: 'Hmisc'\n",
      "\n",
      "\n",
      "The following objects are masked from 'package:dplyr':\n",
      "\n",
      "    src, summarize\n",
      "\n",
      "\n",
      "The following objects are masked from 'package:base':\n",
      "\n",
      "    format.pval, units\n",
      "\n",
      "\n",
      "corrplot 0.84 loaded\n",
      "\n"
     ]
    }
   ],
   "source": [
    "#install.packages(\"dplyr\")\n",
    "library(dplyr) # for data wrangling\n",
    "\n",
    "#install.packages(\"ggplot2\")\n",
    "library(ggplot2) # for data visualization\n",
    "\n",
    "#install.packages(\"Hmisc\")\n",
    "library(Hmisc)  # for data wrangling\n",
    "\n",
    "#install.packages(\"corrplot\")\n",
    "library(corrplot) # for advanced plot in correlation\n",
    "\n",
    "#install.packages(\"ROCR\")\n",
    "library(ROCR) # for ROC curve"
   ]
  },
  {
   "cell_type": "markdown",
   "metadata": {},
   "source": [
    "### Load Data"
   ]
  },
  {
   "cell_type": "code",
   "execution_count": 2,
   "metadata": {},
   "outputs": [
    {
     "data": {
      "text/html": [
       "<table>\n",
       "<caption>A data.frame: 6 × 330</caption>\n",
       "<thead>\n",
       "\t<tr><th></th><th scope=col>X_state</th><th scope=col>fmonth</th><th scope=col>idate</th><th scope=col>imonth</th><th scope=col>iday</th><th scope=col>iyear</th><th scope=col>dispcode</th><th scope=col>seqno</th><th scope=col>X_psu</th><th scope=col>ctelenum</th><th scope=col>⋯</th><th scope=col>X_pastae1</th><th scope=col>X_lmtact1</th><th scope=col>X_lmtwrk1</th><th scope=col>X_lmtscl1</th><th scope=col>X_rfseat2</th><th scope=col>X_rfseat3</th><th scope=col>X_flshot6</th><th scope=col>X_pneumo2</th><th scope=col>X_aidtst3</th><th scope=col>X_age80</th></tr>\n",
       "\t<tr><th></th><th scope=col>&lt;fct&gt;</th><th scope=col>&lt;fct&gt;</th><th scope=col>&lt;int&gt;</th><th scope=col>&lt;fct&gt;</th><th scope=col>&lt;fct&gt;</th><th scope=col>&lt;fct&gt;</th><th scope=col>&lt;fct&gt;</th><th scope=col>&lt;int&gt;</th><th scope=col>&lt;int&gt;</th><th scope=col>&lt;fct&gt;</th><th scope=col>⋯</th><th scope=col>&lt;fct&gt;</th><th scope=col>&lt;fct&gt;</th><th scope=col>&lt;fct&gt;</th><th scope=col>&lt;fct&gt;</th><th scope=col>&lt;fct&gt;</th><th scope=col>&lt;fct&gt;</th><th scope=col>&lt;fct&gt;</th><th scope=col>&lt;fct&gt;</th><th scope=col>&lt;fct&gt;</th><th scope=col>&lt;int&gt;</th></tr>\n",
       "</thead>\n",
       "<tbody>\n",
       "\t<tr><th scope=row>1</th><td>Alabama</td><td>January </td><td>1092013</td><td>January </td><td>9 </td><td>2013</td><td>Completed interview</td><td>2013000580</td><td>2013000580</td><td>Yes</td><td>⋯</td><td>Did not meet both guidelines</td><td>Told have arthritis and have limited usual activities</td><td>Told have arthritis and have limited work</td><td>Told have arthritis and social activities limited a lot   </td><td>Always or almost always wear seat belt</td><td>Always wear seat belt</td><td>NA</td><td>NA</td><td>No </td><td>60</td></tr>\n",
       "\t<tr><th scope=row>2</th><td>Alabama</td><td>January </td><td>1192013</td><td>January </td><td>19</td><td>2013</td><td>Completed interview</td><td>2013000593</td><td>2013000593</td><td>Yes</td><td>⋯</td><td>Did not meet both guidelines</td><td>Not told they have arthritis                         </td><td>Not told they have arthritis             </td><td>Not told they have arthritis                              </td><td>Always or almost always wear seat belt</td><td>Always wear seat belt</td><td>NA</td><td>NA</td><td>Yes</td><td>50</td></tr>\n",
       "\t<tr><th scope=row>3</th><td>Alabama</td><td>January </td><td>1192013</td><td>January </td><td>19</td><td>2013</td><td>Completed interview</td><td>2013000600</td><td>2013000600</td><td>Yes</td><td>⋯</td><td>Did not meet both guidelines</td><td>Told have arthritis and have limited usual activities</td><td>Told have arthritis and have limited work</td><td>Told have arthritis and social activities limited a little</td><td>Always or almost always wear seat belt</td><td>Always wear seat belt</td><td>NA</td><td>NA</td><td>Yes</td><td>55</td></tr>\n",
       "\t<tr><th scope=row>4</th><td>Alabama</td><td>January </td><td>1112013</td><td>January </td><td>11</td><td>2013</td><td>Completed interview</td><td>2013000606</td><td>2013000606</td><td>Yes</td><td>⋯</td><td>Did not meet both guidelines</td><td>Not told they have arthritis                         </td><td>Not told they have arthritis             </td><td>Not told they have arthritis                              </td><td>Always or almost always wear seat belt</td><td>Always wear seat belt</td><td>NA</td><td>NA</td><td>No </td><td>64</td></tr>\n",
       "\t<tr><th scope=row>5</th><td>Alabama</td><td>February</td><td>2062013</td><td>February</td><td>6 </td><td>2013</td><td>Completed interview</td><td>2013000608</td><td>2013000608</td><td>Yes</td><td>⋯</td><td>Did not meet both guidelines</td><td>Not told they have arthritis                         </td><td>Not told they have arthritis             </td><td>Not told they have arthritis                              </td><td>Always or almost always wear seat belt</td><td>Always wear seat belt</td><td>No</td><td>No</td><td>No </td><td>66</td></tr>\n",
       "\t<tr><th scope=row>6</th><td>Alabama</td><td>March   </td><td>3272013</td><td>March   </td><td>27</td><td>2013</td><td>Completed interview</td><td>2013000630</td><td>2013000630</td><td>Yes</td><td>⋯</td><td>Did not meet both guidelines</td><td>Not told they have arthritis                         </td><td>Not told they have arthritis             </td><td>Not told they have arthritis                              </td><td>Always or almost always wear seat belt</td><td>Always wear seat belt</td><td>NA</td><td>NA</td><td>Yes</td><td>49</td></tr>\n",
       "</tbody>\n",
       "</table>\n"
      ],
      "text/latex": [
       "A data.frame: 6 × 330\n",
       "\\begin{tabular}{r|lllllllllllllllllllll}\n",
       "  & X\\_state & fmonth & idate & imonth & iday & iyear & dispcode & seqno & X\\_psu & ctelenum & ⋯ & X\\_pastae1 & X\\_lmtact1 & X\\_lmtwrk1 & X\\_lmtscl1 & X\\_rfseat2 & X\\_rfseat3 & X\\_flshot6 & X\\_pneumo2 & X\\_aidtst3 & X\\_age80\\\\\n",
       "  & <fct> & <fct> & <int> & <fct> & <fct> & <fct> & <fct> & <int> & <int> & <fct> & ⋯ & <fct> & <fct> & <fct> & <fct> & <fct> & <fct> & <fct> & <fct> & <fct> & <int>\\\\\n",
       "\\hline\n",
       "\t1 & Alabama & January  & 1092013 & January  & 9  & 2013 & Completed interview & 2013000580 & 2013000580 & Yes & ⋯ & Did not meet both guidelines & Told have arthritis and have limited usual activities & Told have arthritis and have limited work & Told have arthritis and social activities limited a lot    & Always or almost always wear seat belt & Always wear seat belt & NA & NA & No  & 60\\\\\n",
       "\t2 & Alabama & January  & 1192013 & January  & 19 & 2013 & Completed interview & 2013000593 & 2013000593 & Yes & ⋯ & Did not meet both guidelines & Not told they have arthritis                          & Not told they have arthritis              & Not told they have arthritis                               & Always or almost always wear seat belt & Always wear seat belt & NA & NA & Yes & 50\\\\\n",
       "\t3 & Alabama & January  & 1192013 & January  & 19 & 2013 & Completed interview & 2013000600 & 2013000600 & Yes & ⋯ & Did not meet both guidelines & Told have arthritis and have limited usual activities & Told have arthritis and have limited work & Told have arthritis and social activities limited a little & Always or almost always wear seat belt & Always wear seat belt & NA & NA & Yes & 55\\\\\n",
       "\t4 & Alabama & January  & 1112013 & January  & 11 & 2013 & Completed interview & 2013000606 & 2013000606 & Yes & ⋯ & Did not meet both guidelines & Not told they have arthritis                          & Not told they have arthritis              & Not told they have arthritis                               & Always or almost always wear seat belt & Always wear seat belt & NA & NA & No  & 64\\\\\n",
       "\t5 & Alabama & February & 2062013 & February & 6  & 2013 & Completed interview & 2013000608 & 2013000608 & Yes & ⋯ & Did not meet both guidelines & Not told they have arthritis                          & Not told they have arthritis              & Not told they have arthritis                               & Always or almost always wear seat belt & Always wear seat belt & No & No & No  & 66\\\\\n",
       "\t6 & Alabama & March    & 3272013 & March    & 27 & 2013 & Completed interview & 2013000630 & 2013000630 & Yes & ⋯ & Did not meet both guidelines & Not told they have arthritis                          & Not told they have arthritis              & Not told they have arthritis                               & Always or almost always wear seat belt & Always wear seat belt & NA & NA & Yes & 49\\\\\n",
       "\\end{tabular}\n"
      ],
      "text/markdown": [
       "\n",
       "A data.frame: 6 × 330\n",
       "\n",
       "| <!--/--> | X_state &lt;fct&gt; | fmonth &lt;fct&gt; | idate &lt;int&gt; | imonth &lt;fct&gt; | iday &lt;fct&gt; | iyear &lt;fct&gt; | dispcode &lt;fct&gt; | seqno &lt;int&gt; | X_psu &lt;int&gt; | ctelenum &lt;fct&gt; | ⋯ ⋯ | X_pastae1 &lt;fct&gt; | X_lmtact1 &lt;fct&gt; | X_lmtwrk1 &lt;fct&gt; | X_lmtscl1 &lt;fct&gt; | X_rfseat2 &lt;fct&gt; | X_rfseat3 &lt;fct&gt; | X_flshot6 &lt;fct&gt; | X_pneumo2 &lt;fct&gt; | X_aidtst3 &lt;fct&gt; | X_age80 &lt;int&gt; |\n",
       "|---|---|---|---|---|---|---|---|---|---|---|---|---|---|---|---|---|---|---|---|---|---|\n",
       "| 1 | Alabama | January  | 1092013 | January  | 9  | 2013 | Completed interview | 2013000580 | 2013000580 | Yes | ⋯ | Did not meet both guidelines | Told have arthritis and have limited usual activities | Told have arthritis and have limited work | Told have arthritis and social activities limited a lot    | Always or almost always wear seat belt | Always wear seat belt | NA | NA | No  | 60 |\n",
       "| 2 | Alabama | January  | 1192013 | January  | 19 | 2013 | Completed interview | 2013000593 | 2013000593 | Yes | ⋯ | Did not meet both guidelines | Not told they have arthritis                          | Not told they have arthritis              | Not told they have arthritis                               | Always or almost always wear seat belt | Always wear seat belt | NA | NA | Yes | 50 |\n",
       "| 3 | Alabama | January  | 1192013 | January  | 19 | 2013 | Completed interview | 2013000600 | 2013000600 | Yes | ⋯ | Did not meet both guidelines | Told have arthritis and have limited usual activities | Told have arthritis and have limited work | Told have arthritis and social activities limited a little | Always or almost always wear seat belt | Always wear seat belt | NA | NA | Yes | 55 |\n",
       "| 4 | Alabama | January  | 1112013 | January  | 11 | 2013 | Completed interview | 2013000606 | 2013000606 | Yes | ⋯ | Did not meet both guidelines | Not told they have arthritis                          | Not told they have arthritis              | Not told they have arthritis                               | Always or almost always wear seat belt | Always wear seat belt | NA | NA | No  | 64 |\n",
       "| 5 | Alabama | February | 2062013 | February | 6  | 2013 | Completed interview | 2013000608 | 2013000608 | Yes | ⋯ | Did not meet both guidelines | Not told they have arthritis                          | Not told they have arthritis              | Not told they have arthritis                               | Always or almost always wear seat belt | Always wear seat belt | No | No | No  | 66 |\n",
       "| 6 | Alabama | March    | 3272013 | March    | 27 | 2013 | Completed interview | 2013000630 | 2013000630 | Yes | ⋯ | Did not meet both guidelines | Not told they have arthritis                          | Not told they have arthritis              | Not told they have arthritis                               | Always or almost always wear seat belt | Always wear seat belt | NA | NA | Yes | 49 |\n",
       "\n"
      ],
      "text/plain": [
       "  X_state fmonth   idate   imonth   iday iyear dispcode            seqno     \n",
       "1 Alabama January  1092013 January  9    2013  Completed interview 2013000580\n",
       "2 Alabama January  1192013 January  19   2013  Completed interview 2013000593\n",
       "3 Alabama January  1192013 January  19   2013  Completed interview 2013000600\n",
       "4 Alabama January  1112013 January  11   2013  Completed interview 2013000606\n",
       "5 Alabama February 2062013 February 6    2013  Completed interview 2013000608\n",
       "6 Alabama March    3272013 March    27   2013  Completed interview 2013000630\n",
       "  X_psu      ctelenum <U+22EF>        X_pastae1                   \n",
       "1 2013000580 Yes      <U+22EF> Did not meet both guidelines\n",
       "2 2013000593 Yes      <U+22EF> Did not meet both guidelines\n",
       "3 2013000600 Yes      <U+22EF> Did not meet both guidelines\n",
       "4 2013000606 Yes      <U+22EF> Did not meet both guidelines\n",
       "5 2013000608 Yes      <U+22EF> Did not meet both guidelines\n",
       "6 2013000630 Yes      <U+22EF> Did not meet both guidelines\n",
       "  X_lmtact1                                            \n",
       "1 Told have arthritis and have limited usual activities\n",
       "2 Not told they have arthritis                         \n",
       "3 Told have arthritis and have limited usual activities\n",
       "4 Not told they have arthritis                         \n",
       "5 Not told they have arthritis                         \n",
       "6 Not told they have arthritis                         \n",
       "  X_lmtwrk1                                \n",
       "1 Told have arthritis and have limited work\n",
       "2 Not told they have arthritis             \n",
       "3 Told have arthritis and have limited work\n",
       "4 Not told they have arthritis             \n",
       "5 Not told they have arthritis             \n",
       "6 Not told they have arthritis             \n",
       "  X_lmtscl1                                                 \n",
       "1 Told have arthritis and social activities limited a lot   \n",
       "2 Not told they have arthritis                              \n",
       "3 Told have arthritis and social activities limited a little\n",
       "4 Not told they have arthritis                              \n",
       "5 Not told they have arthritis                              \n",
       "6 Not told they have arthritis                              \n",
       "  X_rfseat2                              X_rfseat3             X_flshot6\n",
       "1 Always or almost always wear seat belt Always wear seat belt NA       \n",
       "2 Always or almost always wear seat belt Always wear seat belt NA       \n",
       "3 Always or almost always wear seat belt Always wear seat belt NA       \n",
       "4 Always or almost always wear seat belt Always wear seat belt NA       \n",
       "5 Always or almost always wear seat belt Always wear seat belt No       \n",
       "6 Always or almost always wear seat belt Always wear seat belt NA       \n",
       "  X_pneumo2 X_aidtst3 X_age80\n",
       "1 NA        No        60     \n",
       "2 NA        Yes       50     \n",
       "3 NA        Yes       55     \n",
       "4 NA        No        64     \n",
       "5 No        No        66     \n",
       "6 NA        Yes       49     "
      ]
     },
     "metadata": {},
     "output_type": "display_data"
    }
   ],
   "source": [
    "load(\"data/brfss2013.Rdata\")\n",
    "head(brfss2013)"
   ]
  },
  {
   "cell_type": "markdown",
   "metadata": {},
   "source": [
    "## Some Exploration"
   ]
  },
  {
   "cell_type": "code",
   "execution_count": 3,
   "metadata": {},
   "outputs": [
    {
     "name": "stdout",
     "output_type": "stream",
     "text": [
      "'data.frame':\t491775 obs. of  330 variables:\n",
      " $ X_state  : Factor w/ 55 levels \"0\",\"Alabama\",..: 2 2 2 2 2 2 2 2 2 2 ...\n",
      " $ fmonth   : Factor w/ 12 levels \"January\",\"February\",..: 1 1 1 1 2 3 3 3 4 4 ...\n",
      " $ idate    : int  1092013 1192013 1192013 1112013 2062013 3272013 3222013 3042013 4242013 4242013 ...\n",
      " $ imonth   : Factor w/ 12 levels \"January\",\"February\",..: 1 1 1 1 2 3 3 3 4 4 ...\n",
      " $ iday     : Factor w/ 31 levels \"1\",\"2\",\"3\",\"4\",..: 9 19 19 11 6 27 22 4 24 24 ...\n",
      " $ iyear    : Factor w/ 2 levels \"2013\",\"2014\": 1 1 1 1 1 1 1 1 1 1 ...\n",
      " $ dispcode : Factor w/ 2 levels \"Completed interview\",..: 1 1 1 1 1 1 1 1 1 1 ...\n",
      " $ seqno    : int  2013000580 2013000593 2013000600 2013000606 2013000608 2013000630 2013000634 2013000644 2013001305 2013001338 ...\n",
      " $ X_psu    : int  2013000580 2013000593 2013000600 2013000606 2013000608 2013000630 2013000634 2013000644 2013001305 2013001338 ...\n",
      " $ ctelenum : Factor w/ 1 level \"Yes\": 1 1 1 1 1 1 1 1 1 1 ...\n",
      " $ pvtresd1 : Factor w/ 2 levels \"Yes\",\"No\": 1 1 1 1 1 1 1 1 1 1 ...\n",
      " $ colghous : Factor w/ 1 level \"Yes\": NA NA NA NA NA NA NA NA NA NA ...\n",
      " $ stateres : Factor w/ 1 level \"Yes\": 1 1 1 1 1 1 1 1 1 1 ...\n",
      " $ cellfon3 : Factor w/ 1 level \"Not a cellular phone\": 1 1 1 1 1 1 1 1 1 1 ...\n",
      " $ ladult   : Factor w/ 2 levels \"Yes, male respondent\",..: NA NA NA NA NA NA NA NA NA NA ...\n",
      " $ numadult : Factor w/ 19 levels \"1\",\"2\",\"3\",\"4\",..: 2 2 3 2 2 1 2 1 5 2 ...\n",
      " $ nummen   : Factor w/ 14 levels \"0\",\"1\",\"2\",\"3\",..: 2 2 3 2 2 1 2 1 5 2 ...\n",
      " $ numwomen : Factor w/ 12 levels \"0\",\"1\",\"2\",\"3\",..: 2 2 2 2 2 2 2 2 2 2 ...\n",
      " $ genhlth  : Factor w/ 5 levels \"Excellent\",\"Very good\",..: 4 3 3 2 3 2 4 3 1 3 ...\n",
      " $ physhlth : int  30 0 3 2 10 0 1 5 0 0 ...\n",
      " $ menthlth : int  29 0 2 0 2 0 15 0 0 0 ...\n",
      " $ poorhlth : int  30 NA 0 0 0 NA 0 10 NA NA ...\n",
      " $ hlthpln1 : Factor w/ 2 levels \"Yes\",\"No\": 1 1 1 1 1 1 1 1 1 1 ...\n",
      " $ persdoc2 : Factor w/ 3 levels \"Yes, only one\",..: 1 1 1 1 1 1 2 1 1 1 ...\n",
      " $ medcost  : Factor w/ 2 levels \"Yes\",\"No\": 2 2 2 2 2 2 2 2 2 2 ...\n",
      " $ checkup1 : Factor w/ 5 levels \"Within past year\",..: 1 1 1 2 4 1 1 1 1 1 ...\n",
      " $ sleptim1 : int  NA 6 9 8 6 8 7 6 8 8 ...\n",
      " $ bphigh4  : Factor w/ 4 levels \"Yes\",\"Yes, but female told only during pregnancy\",..: 1 3 3 3 1 1 1 1 3 3 ...\n",
      " $ bpmeds   : Factor w/ 2 levels \"Yes\",\"No\": 1 NA NA NA 2 1 1 1 NA NA ...\n",
      " $ bloodcho : Factor w/ 2 levels \"Yes\",\"No\": 1 1 1 1 1 1 1 1 1 1 ...\n",
      " $ cholchk  : Factor w/ 4 levels \"Within past year\",..: 1 1 4 1 2 1 1 1 1 1 ...\n",
      " $ toldhi2  : Factor w/ 2 levels \"Yes\",\"No\": 1 2 2 1 2 1 2 1 1 2 ...\n",
      " $ cvdinfr4 : Factor w/ 2 levels \"Yes\",\"No\": 2 2 2 2 2 2 2 2 2 2 ...\n",
      " $ cvdcrhd4 : Factor w/ 2 levels \"Yes\",\"No\": NA 2 2 2 2 2 2 1 2 2 ...\n",
      " $ cvdstrk3 : Factor w/ 2 levels \"Yes\",\"No\": 2 2 2 2 2 2 2 2 2 2 ...\n",
      " $ asthma3  : Factor w/ 2 levels \"Yes\",\"No\": 1 2 2 2 1 2 2 2 2 2 ...\n",
      " $ asthnow  : Factor w/ 2 levels \"Yes\",\"No\": 1 NA NA NA 2 NA NA NA NA NA ...\n",
      " $ chcscncr : Factor w/ 2 levels \"Yes\",\"No\": 2 2 2 2 2 2 2 2 2 2 ...\n",
      " $ chcocncr : Factor w/ 2 levels \"Yes\",\"No\": 2 2 2 2 1 2 2 2 2 2 ...\n",
      " $ chccopd1 : Factor w/ 2 levels \"Yes\",\"No\": 1 2 2 2 2 2 2 2 2 2 ...\n",
      " $ havarth3 : Factor w/ 2 levels \"Yes\",\"No\": 1 2 1 2 2 2 1 1 1 2 ...\n",
      " $ addepev2 : Factor w/ 2 levels \"Yes\",\"No\": 1 1 1 2 2 2 2 2 2 2 ...\n",
      " $ chckidny : Factor w/ 2 levels \"Yes\",\"No\": 1 2 2 2 2 2 2 2 2 2 ...\n",
      " $ diabete3 : Factor w/ 4 levels \"Yes\",\"Yes, but female told only during pregnancy\",..: 3 3 3 3 3 3 3 3 3 3 ...\n",
      " $ veteran3 : Factor w/ 2 levels \"Yes\",\"No\": 2 2 2 2 2 2 2 2 2 2 ...\n",
      " $ marital  : Factor w/ 6 levels \"Married\",\"Divorced\",..: 2 1 1 1 1 2 1 3 1 1 ...\n",
      " $ children : int  0 2 0 0 0 0 1 0 1 0 ...\n",
      " $ educa    : Factor w/ 6 levels \"Never attended school or only kindergarten\",..: 6 5 6 4 6 6 4 5 6 4 ...\n",
      " $ employ1  : Factor w/ 8 levels \"Employed for wages\",..: 7 1 1 7 7 1 1 7 7 5 ...\n",
      " $ income2  : Factor w/ 8 levels \"Less than $10,000\",..: 7 8 8 7 6 8 NA 6 8 4 ...\n",
      " $ weight2  : Factor w/ 570 levels \"\",\".b\",\"100\",..: 154 30 63 31 169 128 9 1 139 73 ...\n",
      " $ height3  : int  507 510 504 504 600 503 500 505 602 505 ...\n",
      " $ numhhol2 : Factor w/ 2 levels \"Yes\",\"No\": 1 2 2 2 2 1 2 2 2 2 ...\n",
      " $ numphon2 : Factor w/ 6 levels \"1 residential telephone number\",..: 2 NA NA NA NA 1 NA NA NA NA ...\n",
      " $ cpdemo1  : Factor w/ 2 levels \"Yes\",\"No\": 1 1 1 1 1 1 1 1 1 1 ...\n",
      " $ cpdemo4  : int  10 70 70 75 0 70 40 1 60 50 ...\n",
      " $ internet : Factor w/ 2 levels \"Yes\",\"No\": 1 1 1 1 1 1 1 1 1 1 ...\n",
      " $ renthom1 : Factor w/ 3 levels \"Own\",\"Rent\",\"Other arrangement\": 1 1 1 1 1 1 1 2 1 1 ...\n",
      " $ sex      : Factor w/ 2 levels \"Male\",\"Female\": 2 2 2 2 1 2 2 2 1 2 ...\n",
      " $ pregnant : Factor w/ 2 levels \"Yes\",\"No\": NA NA NA NA NA NA 2 NA NA NA ...\n",
      " $ qlactlm2 : Factor w/ 2 levels \"Yes\",\"No\": 1 2 1 2 2 2 1 1 2 2 ...\n",
      " $ useequip : Factor w/ 2 levels \"Yes\",\"No\": 1 2 2 2 2 2 2 2 2 2 ...\n",
      " $ blind    : Factor w/ 2 levels \"Yes\",\"No\": 2 2 2 2 2 2 2 2 2 2 ...\n",
      " $ decide   : Factor w/ 2 levels \"Yes\",\"No\": 2 2 2 2 2 2 2 2 2 2 ...\n",
      " $ diffwalk : Factor w/ 2 levels \"Yes\",\"No\": 1 2 1 2 2 2 2 1 2 2 ...\n",
      " $ diffdres : Factor w/ 2 levels \"Yes\",\"No\": 2 2 2 2 2 2 2 2 2 2 ...\n",
      " $ diffalon : Factor w/ 2 levels \"Yes\",\"No\": 1 2 2 2 2 2 2 2 2 2 ...\n",
      " $ smoke100 : Factor w/ 2 levels \"Yes\",\"No\": 1 2 1 2 1 2 1 1 2 2 ...\n",
      " $ smokday2 : Factor w/ 3 levels \"Every day\",\"Some days\",..: 3 NA 2 NA 3 NA 3 1 NA NA ...\n",
      " $ stopsmk2 : Factor w/ 2 levels \"Yes\",\"No\": NA NA 1 NA NA NA NA 2 NA NA ...\n",
      " $ lastsmk2 : Factor w/ 8 levels \"Within the past month\",..: 7 NA NA NA 1 NA 5 NA NA NA ...\n",
      " $ usenow3  : Factor w/ 3 levels \"Every day\",\"Some days\",..: 3 3 3 3 3 3 3 3 1 3 ...\n",
      " $ alcday5  : int  201 0 220 208 210 0 201 202 101 0 ...\n",
      " $ avedrnk2 : int  2 NA 4 2 2 NA 1 1 1 NA ...\n",
      " $ drnk3ge5 : int  0 NA 20 0 0 NA 0 0 0 NA ...\n",
      " $ maxdrnks : int  2 NA 10 2 3 NA 1 1 2 NA ...\n",
      " $ fruitju1 : int  304 305 301 202 0 205 320 0 0 202 ...\n",
      " $ fruit1   : int  104 301 203 306 302 206 325 320 101 202 ...\n",
      " $ fvbeans  : int  303 310 202 202 101 0 330 360 202 203 ...\n",
      " $ fvgreen  : int  310 203 202 310 310 203 315 315 203 201 ...\n",
      " $ fvorang  : int  303 202 310 305 303 0 310 325 0 201 ...\n",
      " $ vegetab1 : int  NA 203 330 204 101 207 310 308 101 203 ...\n",
      " $ exerany2 : Factor w/ 2 levels \"Yes\",\"No\": 2 1 2 1 2 1 1 1 1 1 ...\n",
      " $ exract11 : Factor w/ 75 levels \"Active Gaming Devices (Wii Fit, Dance, Dance revolution)\",..: NA 64 NA 64 NA 6 64 64 7 64 ...\n",
      " $ exeroft1 : int  NA 105 NA 205 NA 102 220 102 102 220 ...\n",
      " $ exerhmm1 : int  NA 20 NA 30 NA 15 100 15 100 30 ...\n",
      " $ exract21 : Factor w/ 76 levels \"Active Gaming Devices (Wii Fit, Dance, Dance revolution)\",..: NA 71 NA 75 NA 18 75 75 75 18 ...\n",
      " $ exeroft2 : int  NA 101 NA NA NA 102 NA NA NA 101 ...\n",
      " $ exerhmm2 : int  NA 10 NA NA NA 30 NA NA NA 100 ...\n",
      " $ strength : int  0 0 0 0 0 0 205 0 102 0 ...\n",
      " $ lmtjoin3 : Factor w/ 2 levels \"Yes\",\"No\": 1 NA 1 NA NA NA 2 1 2 NA ...\n",
      " $ arthdis2 : Factor w/ 2 levels \"Yes\",\"No\": 1 NA 1 NA NA NA 1 2 2 NA ...\n",
      " $ arthsocl : Factor w/ 3 levels \"A lot\",\"A little\",..: 1 NA 2 NA NA NA 3 1 3 NA ...\n",
      " $ joinpain : int  7 NA 5 NA NA NA 3 8 4 NA ...\n",
      " $ seatbelt : Factor w/ 6 levels \"Always\",\"Nearly always\",..: 1 1 1 1 1 1 1 1 2 1 ...\n",
      " $ flushot6 : Factor w/ 2 levels \"Yes\",\"No\": 2 1 1 2 2 1 2 1 1 2 ...\n",
      " $ flshtmy2 : Factor w/ 26 levels \"January 2012\",..: NA 10 13 NA NA NA NA 10 10 NA ...\n",
      " $ tetanus  : Factor w/ 4 levels \"Yes, received Tdap\",..: 4 1 1 4 4 4 4 4 1 4 ...\n",
      " $ pneuvac3 : Factor w/ 2 levels \"Yes\",\"No\": 1 2 2 2 2 1 2 2 2 2 ...\n",
      "  [list output truncated]\n"
     ]
    }
   ],
   "source": [
    "str(brfss2013)"
   ]
  },
  {
   "cell_type": "markdown",
   "metadata": {},
   "source": [
    "## Research question 1: \n",
    "\n",
    "**Does the distribution of the number of days in which physical and mental health was not good during the past 30 days differ by gender?**"
   ]
  },
  {
   "cell_type": "markdown",
   "metadata": {},
   "source": [
    "Variables:\n",
    "\n",
    "        physhlth: Number Of Days Physical Health Not Good\n",
    "    \n",
    "        menthlth: Number Of Days Mental Health Not Good"
   ]
  },
  {
   "cell_type": "code",
   "execution_count": 4,
   "metadata": {},
   "outputs": [
    {
     "data": {
      "text/html": [
       "<style>\n",
       ".dl-inline {width: auto; margin:0; padding: 0}\n",
       ".dl-inline>dt, .dl-inline>dd {float: none; width: auto; display: inline-block}\n",
       ".dl-inline>dt::after {content: \":\\0020\"; padding-right: .5ex}\n",
       ".dl-inline>dt:not(:first-of-type) {padding-left: .5ex}\n",
       "</style><dl class=dl-inline><dt>Male</dt><dd>201313</dd><dt>Female</dt><dd>290455</dd><dt>NA's</dt><dd>7</dd></dl>\n"
      ],
      "text/latex": [
       "\\begin{description*}\n",
       "\\item[Male] 201313\n",
       "\\item[Female] 290455\n",
       "\\item[NA's] 7\n",
       "\\end{description*}\n"
      ],
      "text/markdown": [
       "Male\n",
       ":   201313Female\n",
       ":   290455NA's\n",
       ":   7\n",
       "\n"
      ],
      "text/plain": [
       "  Male Female   NA's \n",
       "201313 290455      7 "
      ]
     },
     "metadata": {},
     "output_type": "display_data"
    }
   ],
   "source": [
    "summary(brfss2013$sex)"
   ]
  },
  {
   "cell_type": "markdown",
   "metadata": {},
   "source": [
    "Since the number of women who responded to this survey (290455) is much greater than the number of men who responded to this survey (201313), we cannot directly compare numbers, only the format of the distribution."
   ]
  },
  {
   "cell_type": "code",
   "execution_count": 5,
   "metadata": {},
   "outputs": [
    {
     "name": "stderr",
     "output_type": "stream",
     "text": [
      "Warning message:\n",
      "\"Removed 10953 rows containing non-finite values (stat_bin).\"\n"
     ]
    },
    {
     "data": {
      "image/png": "[encoded data removed]",
      "text/plain": [
       "plot without title"
      ]
     },
     "metadata": {
      "image/png": {
       "height": 420,
       "width": 420
      },
      "text/plain": {
       "height": 420,
       "width": 420
      }
     },
     "output_type": "display_data"
    }
   ],
   "source": [
    "ggplot(aes(x=physhlth, fill=sex), data = brfss2013[!is.na(brfss2013$sex), ]) +\n",
    "  geom_histogram(bins=30, position = position_dodge()) + ggtitle('Number of Days Physical Health not Good in the Past 30 Days')"
   ]
  },
  {
   "cell_type": "code",
   "execution_count": 6,
   "metadata": {},
   "outputs": [
    {
     "data": {
      "text/plain": [
       "$Male\n",
       "   Min. 1st Qu.  Median    Mean 3rd Qu.    Max.    NA's \n",
       "  0.000   0.000   0.000   3.926   2.000  30.000    3818 \n",
       "\n",
       "$Female\n",
       "   Min. 1st Qu.  Median    Mean 3rd Qu.    Max.    NA's \n",
       "   0.00    0.00    0.00    4.65    4.00   30.00    7135 \n"
      ]
     },
     "metadata": {},
     "output_type": "display_data"
    }
   ],
   "source": [
    "tapply(brfss2013$physhlth, brfss2013$sex, summary, na.rm=TRUE)"
   ]
  },
  {
   "cell_type": "code",
   "execution_count": 7,
   "metadata": {},
   "outputs": [
    {
     "data": {
      "text/html": [
       "<style>\n",
       ".dl-inline {width: auto; margin:0; padding: 0}\n",
       ".dl-inline>dt, .dl-inline>dd {float: none; width: auto; display: inline-block}\n",
       ".dl-inline>dt::after {content: \":\\0020\"; padding-right: .5ex}\n",
       ".dl-inline>dt:not(:first-of-type) {padding-left: .5ex}\n",
       "</style><dl class=dl-inline><dt>Male</dt><dd>2</dd><dt>Female</dt><dd>4</dd></dl>\n"
      ],
      "text/latex": [
       "\\begin{description*}\n",
       "\\item[Male] 2\n",
       "\\item[Female] 4\n",
       "\\end{description*}\n"
      ],
      "text/markdown": [
       "Male\n",
       ":   2Female\n",
       ":   4\n",
       "\n"
      ],
      "text/plain": [
       "  Male Female \n",
       "     2      4 "
      ]
     },
     "metadata": {},
     "output_type": "display_data"
    }
   ],
   "source": [
    "tapply(brfss2013$physhlth, brfss2013$sex, IQR, na.rm=TRUE)"
   ]
  },
  {
   "cell_type": "code",
   "execution_count": 8,
   "metadata": {},
   "outputs": [
    {
     "name": "stderr",
     "output_type": "stream",
     "text": [
      "Warning message:\n",
      "\"Removed 8623 rows containing non-finite values (stat_bin).\"\n"
     ]
    },
    {
     "data": {
      "image/png": "[encoded data removed]",
      "text/plain": [
       "plot without title"
      ]
     },
     "metadata": {
      "image/png": {
       "height": 420,
       "width": 420
      },
      "text/plain": {
       "height": 420,
       "width": 420
      }
     },
     "output_type": "display_data"
    }
   ],
   "source": [
    "ggplot(aes(x=menthlth, fill=sex), data=brfss2013[!is.na(brfss2013$sex), ]) +\n",
    "  geom_histogram(bins=30, position = position_dodge()) + ggtitle('Number of Days Mental Health not Good in the Past 30 Days')"
   ]
  },
  {
   "cell_type": "code",
   "execution_count": 9,
   "metadata": {},
   "outputs": [
    {
     "data": {
      "text/plain": [
       "$Male\n",
       "   Min. 1st Qu.  Median    Mean 3rd Qu.    Max.    NA's \n",
       "  0.000   0.000   0.000   2.779   1.000  30.000    3247 \n",
       "\n",
       "$Female\n",
       "   Min. 1st Qu.  Median    Mean 3rd Qu.    Max.    NA's \n",
       "  0.000   0.000   0.000   3.784   3.000  30.000    5376 \n"
      ]
     },
     "metadata": {},
     "output_type": "display_data"
    }
   ],
   "source": [
    "tapply(brfss2013$menthlth, brfss2013$sex, summary, na.rm=TRUE)"
   ]
  },
  {
   "cell_type": "code",
   "execution_count": 10,
   "metadata": {},
   "outputs": [
    {
     "data": {
      "text/html": [
       "<style>\n",
       ".dl-inline {width: auto; margin:0; padding: 0}\n",
       ".dl-inline>dt, .dl-inline>dd {float: none; width: auto; display: inline-block}\n",
       ".dl-inline>dt::after {content: \":\\0020\"; padding-right: .5ex}\n",
       ".dl-inline>dt:not(:first-of-type) {padding-left: .5ex}\n",
       "</style><dl class=dl-inline><dt>Male</dt><dd>1</dd><dt>Female</dt><dd>3</dd></dl>\n"
      ],
      "text/latex": [
       "\\begin{description*}\n",
       "\\item[Male] 1\n",
       "\\item[Female] 3\n",
       "\\end{description*}\n"
      ],
      "text/markdown": [
       "Male\n",
       ":   1Female\n",
       ":   3\n",
       "\n"
      ],
      "text/plain": [
       "  Male Female \n",
       "     1      3 "
      ]
     },
     "metadata": {},
     "output_type": "display_data"
    }
   ],
   "source": [
    "tapply(brfss2013$menthlth, brfss2013$sex, IQR, na.rm=TRUE)"
   ]
  },
  {
   "cell_type": "markdown",
   "metadata": {},
   "source": [
    "Conclusion: Both have the same behaviour curve."
   ]
  },
  {
   "cell_type": "markdown",
   "metadata": {},
   "source": [
    "## Research question 2: \n",
    "\n",
    "**Is there an association between the month in which a respondent was interviewed and the respondent’s self-reported health perception?**"
   ]
  },
  {
   "cell_type": "markdown",
   "metadata": {},
   "source": [
    "Variables:\n",
    "\n",
    "        iyear: Interview Year\n",
    "    \n",
    "        imonth: Interview Month\n",
    "        \n",
    "        genhlth: General Health"
   ]
  },
  {
   "cell_type": "code",
   "execution_count": 11,
   "metadata": {},
   "outputs": [
    {
     "name": "stderr",
     "output_type": "stream",
     "text": [
      "`summarise()` ungrouping output (override with `.groups` argument)\n",
      "\n"
     ]
    }
   ],
   "source": [
    "by_month1 <- brfss2013 %>% filter(iyear=='2013') %>% group_by(imonth) %>% summarise(n=n())"
   ]
  },
  {
   "cell_type": "code",
   "execution_count": 12,
   "metadata": {},
   "outputs": [
    {
     "data": {
      "text/html": [
       "<table>\n",
       "<caption>A tibble: 12 × 2</caption>\n",
       "<thead>\n",
       "\t<tr><th scope=col>imonth</th><th scope=col>n</th></tr>\n",
       "\t<tr><th scope=col>&lt;fct&gt;</th><th scope=col>&lt;int&gt;</th></tr>\n",
       "</thead>\n",
       "<tbody>\n",
       "\t<tr><td>January  </td><td>29674</td></tr>\n",
       "\t<tr><td>February </td><td>41860</td></tr>\n",
       "\t<tr><td>March    </td><td>44315</td></tr>\n",
       "\t<tr><td>April    </td><td>42936</td></tr>\n",
       "\t<tr><td>May      </td><td>40418</td></tr>\n",
       "\t<tr><td>June     </td><td>37912</td></tr>\n",
       "\t<tr><td>July     </td><td>43667</td></tr>\n",
       "\t<tr><td>August   </td><td>42301</td></tr>\n",
       "\t<tr><td>September</td><td>38563</td></tr>\n",
       "\t<tr><td>October  </td><td>42272</td></tr>\n",
       "\t<tr><td>November </td><td>41932</td></tr>\n",
       "\t<tr><td>December </td><td>40238</td></tr>\n",
       "</tbody>\n",
       "</table>\n"
      ],
      "text/latex": [
       "A tibble: 12 × 2\n",
       "\\begin{tabular}{ll}\n",
       " imonth & n\\\\\n",
       " <fct> & <int>\\\\\n",
       "\\hline\n",
       "\t January   & 29674\\\\\n",
       "\t February  & 41860\\\\\n",
       "\t March     & 44315\\\\\n",
       "\t April     & 42936\\\\\n",
       "\t May       & 40418\\\\\n",
       "\t June      & 37912\\\\\n",
       "\t July      & 43667\\\\\n",
       "\t August    & 42301\\\\\n",
       "\t September & 38563\\\\\n",
       "\t October   & 42272\\\\\n",
       "\t November  & 41932\\\\\n",
       "\t December  & 40238\\\\\n",
       "\\end{tabular}\n"
      ],
      "text/markdown": [
       "\n",
       "A tibble: 12 × 2\n",
       "\n",
       "| imonth &lt;fct&gt; | n &lt;int&gt; |\n",
       "|---|---|\n",
       "| January   | 29674 |\n",
       "| February  | 41860 |\n",
       "| March     | 44315 |\n",
       "| April     | 42936 |\n",
       "| May       | 40418 |\n",
       "| June      | 37912 |\n",
       "| July      | 43667 |\n",
       "| August    | 42301 |\n",
       "| September | 38563 |\n",
       "| October   | 42272 |\n",
       "| November  | 41932 |\n",
       "| December  | 40238 |\n",
       "\n"
      ],
      "text/plain": [
       "   imonth    n    \n",
       "1  January   29674\n",
       "2  February  41860\n",
       "3  March     44315\n",
       "4  April     42936\n",
       "5  May       40418\n",
       "6  June      37912\n",
       "7  July      43667\n",
       "8  August    42301\n",
       "9  September 38563\n",
       "10 October   42272\n",
       "11 November  41932\n",
       "12 December  40238"
      ]
     },
     "metadata": {},
     "output_type": "display_data"
    }
   ],
   "source": [
    "by_month1"
   ]
  },
  {
   "cell_type": "code",
   "execution_count": 13,
   "metadata": {},
   "outputs": [
    {
     "data": {
      "text/html": [
       "<strong>n:</strong> 486088"
      ],
      "text/latex": [
       "\\textbf{n:} 486088"
      ],
      "text/markdown": [
       "**n:** 486088"
      ],
      "text/plain": [
       "     n \n",
       "486088 "
      ]
     },
     "metadata": {},
     "output_type": "display_data"
    }
   ],
   "source": [
    "by_month1.num <- by_month1[, 2] # Only the n column\n",
    "colSums(by_month1.num) # Total of column"
   ]
  },
  {
   "cell_type": "code",
   "execution_count": 14,
   "metadata": {},
   "outputs": [
    {
     "data": {
      "text/html": [
       "<table>\n",
       "<caption>A tibble: 6 × 3</caption>\n",
       "<thead>\n",
       "\t<tr><th scope=col>imonth</th><th scope=col>n</th><th scope=col>total</th></tr>\n",
       "\t<tr><th scope=col>&lt;fct&gt;</th><th scope=col>&lt;int&gt;</th><th scope=col>&lt;dbl&gt;</th></tr>\n",
       "</thead>\n",
       "<tbody>\n",
       "\t<tr><td>January </td><td>29674</td><td>486088</td></tr>\n",
       "\t<tr><td>February</td><td>41860</td><td>486088</td></tr>\n",
       "\t<tr><td>March   </td><td>44315</td><td>486088</td></tr>\n",
       "\t<tr><td>April   </td><td>42936</td><td>486088</td></tr>\n",
       "\t<tr><td>May     </td><td>40418</td><td>486088</td></tr>\n",
       "\t<tr><td>June    </td><td>37912</td><td>486088</td></tr>\n",
       "</tbody>\n",
       "</table>\n"
      ],
      "text/latex": [
       "A tibble: 6 × 3\n",
       "\\begin{tabular}{lll}\n",
       " imonth & n & total\\\\\n",
       " <fct> & <int> & <dbl>\\\\\n",
       "\\hline\n",
       "\t January  & 29674 & 486088\\\\\n",
       "\t February & 41860 & 486088\\\\\n",
       "\t March    & 44315 & 486088\\\\\n",
       "\t April    & 42936 & 486088\\\\\n",
       "\t May      & 40418 & 486088\\\\\n",
       "\t June     & 37912 & 486088\\\\\n",
       "\\end{tabular}\n"
      ],
      "text/markdown": [
       "\n",
       "A tibble: 6 × 3\n",
       "\n",
       "| imonth &lt;fct&gt; | n &lt;int&gt; | total &lt;dbl&gt; |\n",
       "|---|---|---|\n",
       "| January  | 29674 | 486088 |\n",
       "| February | 41860 | 486088 |\n",
       "| March    | 44315 | 486088 |\n",
       "| April    | 42936 | 486088 |\n",
       "| May      | 40418 | 486088 |\n",
       "| June     | 37912 | 486088 |\n",
       "\n"
      ],
      "text/plain": [
       "  imonth   n     total \n",
       "1 January  29674 486088\n",
       "2 February 41860 486088\n",
       "3 March    44315 486088\n",
       "4 April    42936 486088\n",
       "5 May      40418 486088\n",
       "6 June     37912 486088"
      ]
     },
     "metadata": {},
     "output_type": "display_data"
    }
   ],
   "source": [
    "by_month1$total <- colSums(by_month1.num)\n",
    "head(by_month1)"
   ]
  },
  {
   "cell_type": "code",
   "execution_count": 15,
   "metadata": {},
   "outputs": [
    {
     "data": {
      "image/png": "[encoded data removed]",
      "text/plain": [
       "plot without title"
      ]
     },
     "metadata": {
      "image/png": {
       "height": 420,
       "width": 420
      },
      "text/plain": {
       "height": 420,
       "width": 420
      }
     },
     "output_type": "display_data"
    }
   ],
   "source": [
    "ggplot(aes(x=imonth, y=n/total*100), data=by_month1) + \n",
    "    geom_bar(stat = 'identity') + \n",
    "    ggtitle('Percentage of Respondents by Month')+ \n",
    "    ylab('Percent')"
   ]
  },
  {
   "cell_type": "code",
   "execution_count": 16,
   "metadata": {},
   "outputs": [
    {
     "name": "stderr",
     "output_type": "stream",
     "text": [
      "`summarise()` regrouping output by 'imonth' (override with `.groups` argument)\n",
      "\n"
     ]
    },
    {
     "data": {
      "text/html": [
       "<table>\n",
       "<caption>A grouped_df: 6 × 3</caption>\n",
       "<thead>\n",
       "\t<tr><th scope=col>imonth</th><th scope=col>genhlth</th><th scope=col>no</th></tr>\n",
       "\t<tr><th scope=col>&lt;fct&gt;</th><th scope=col>&lt;fct&gt;</th><th scope=col>&lt;int&gt;</th></tr>\n",
       "</thead>\n",
       "<tbody>\n",
       "\t<tr><td>January</td><td>Excellent</td><td>5232</td></tr>\n",
       "\t<tr><td>January</td><td>Very good</td><td>9730</td></tr>\n",
       "\t<tr><td>January</td><td>Good     </td><td>8982</td></tr>\n",
       "\t<tr><td>January</td><td>Fair     </td><td>3929</td></tr>\n",
       "\t<tr><td>January</td><td>Poor     </td><td>1692</td></tr>\n",
       "\t<tr><td>January</td><td>NA       </td><td> 109</td></tr>\n",
       "</tbody>\n",
       "</table>\n"
      ],
      "text/latex": [
       "A grouped\\_df: 6 × 3\n",
       "\\begin{tabular}{lll}\n",
       " imonth & genhlth & no\\\\\n",
       " <fct> & <fct> & <int>\\\\\n",
       "\\hline\n",
       "\t January & Excellent & 5232\\\\\n",
       "\t January & Very good & 9730\\\\\n",
       "\t January & Good      & 8982\\\\\n",
       "\t January & Fair      & 3929\\\\\n",
       "\t January & Poor      & 1692\\\\\n",
       "\t January & NA        &  109\\\\\n",
       "\\end{tabular}\n"
      ],
      "text/markdown": [
       "\n",
       "A grouped_df: 6 × 3\n",
       "\n",
       "| imonth &lt;fct&gt; | genhlth &lt;fct&gt; | no &lt;int&gt; |\n",
       "|---|---|---|\n",
       "| January | Excellent | 5232 |\n",
       "| January | Very good | 9730 |\n",
       "| January | Good      | 8982 |\n",
       "| January | Fair      | 3929 |\n",
       "| January | Poor      | 1692 |\n",
       "| January | NA        |  109 |\n",
       "\n"
      ],
      "text/plain": [
       "  imonth  genhlth   no  \n",
       "1 January Excellent 5232\n",
       "2 January Very good 9730\n",
       "3 January Good      8982\n",
       "4 January Fair      3929\n",
       "5 January Poor      1692\n",
       "6 January NA         109"
      ]
     },
     "metadata": {},
     "output_type": "display_data"
    }
   ],
   "source": [
    "by_month2 <- brfss2013 %>% filter(iyear=='2013') %>% group_by(imonth, genhlth) %>% summarise(no=n())\n",
    "head(by_month2)"
   ]
  },
  {
   "cell_type": "code",
   "execution_count": 17,
   "metadata": {},
   "outputs": [
    {
     "data": {
      "text/html": [
       "<table>\n",
       "<caption>A grouped_df: 6 × 5</caption>\n",
       "<thead>\n",
       "\t<tr><th scope=col>imonth</th><th scope=col>genhlth</th><th scope=col>no</th><th scope=col>n</th><th scope=col>total</th></tr>\n",
       "\t<tr><th scope=col>&lt;fct&gt;</th><th scope=col>&lt;fct&gt;</th><th scope=col>&lt;int&gt;</th><th scope=col>&lt;int&gt;</th><th scope=col>&lt;dbl&gt;</th></tr>\n",
       "</thead>\n",
       "<tbody>\n",
       "\t<tr><td>January</td><td>Excellent</td><td>5232</td><td>29674</td><td>486088</td></tr>\n",
       "\t<tr><td>January</td><td>Very good</td><td>9730</td><td>29674</td><td>486088</td></tr>\n",
       "\t<tr><td>January</td><td>Good     </td><td>8982</td><td>29674</td><td>486088</td></tr>\n",
       "\t<tr><td>January</td><td>Fair     </td><td>3929</td><td>29674</td><td>486088</td></tr>\n",
       "\t<tr><td>January</td><td>Poor     </td><td>1692</td><td>29674</td><td>486088</td></tr>\n",
       "\t<tr><td>January</td><td>NA       </td><td> 109</td><td>29674</td><td>486088</td></tr>\n",
       "</tbody>\n",
       "</table>\n"
      ],
      "text/latex": [
       "A grouped\\_df: 6 × 5\n",
       "\\begin{tabular}{lllll}\n",
       " imonth & genhlth & no & n & total\\\\\n",
       " <fct> & <fct> & <int> & <int> & <dbl>\\\\\n",
       "\\hline\n",
       "\t January & Excellent & 5232 & 29674 & 486088\\\\\n",
       "\t January & Very good & 9730 & 29674 & 486088\\\\\n",
       "\t January & Good      & 8982 & 29674 & 486088\\\\\n",
       "\t January & Fair      & 3929 & 29674 & 486088\\\\\n",
       "\t January & Poor      & 1692 & 29674 & 486088\\\\\n",
       "\t January & NA        &  109 & 29674 & 486088\\\\\n",
       "\\end{tabular}\n"
      ],
      "text/markdown": [
       "\n",
       "A grouped_df: 6 × 5\n",
       "\n",
       "| imonth &lt;fct&gt; | genhlth &lt;fct&gt; | no &lt;int&gt; | n &lt;int&gt; | total &lt;dbl&gt; |\n",
       "|---|---|---|---|---|\n",
       "| January | Excellent | 5232 | 29674 | 486088 |\n",
       "| January | Very good | 9730 | 29674 | 486088 |\n",
       "| January | Good      | 8982 | 29674 | 486088 |\n",
       "| January | Fair      | 3929 | 29674 | 486088 |\n",
       "| January | Poor      | 1692 | 29674 | 486088 |\n",
       "| January | NA        |  109 | 29674 | 486088 |\n",
       "\n"
      ],
      "text/plain": [
       "  imonth  genhlth   no   n     total \n",
       "1 January Excellent 5232 29674 486088\n",
       "2 January Very good 9730 29674 486088\n",
       "3 January Good      8982 29674 486088\n",
       "4 January Fair      3929 29674 486088\n",
       "5 January Poor      1692 29674 486088\n",
       "6 January NA         109 29674 486088"
      ]
     },
     "metadata": {},
     "output_type": "display_data"
    }
   ],
   "source": [
    "by_month2 <- left_join(by_month2, by_month1, by='imonth')\n",
    "head(by_month2)"
   ]
  },
  {
   "cell_type": "code",
   "execution_count": 18,
   "metadata": {},
   "outputs": [
    {
     "data": {
      "image/png": "[encoded data removed]",
      "text/plain": [
       "plot without title"
      ]
     },
     "metadata": {
      "image/png": {
       "height": 420,
       "width": 420
      },
      "text/plain": {
       "height": 420,
       "width": 420
      }
     },
     "output_type": "display_data"
    }
   ],
   "source": [
    "ggplot(aes(x=imonth, y=no/n*100, fill = genhlth), data = by_month2[!is.na(by_month2$genhlth), ]) + \n",
    "    geom_bar(stat = 'identity', position = position_dodge()) + \n",
    "    ggtitle('Health Perception By Month') + \n",
    "    ylab('Percent')"
   ]
  },
  {
   "cell_type": "markdown",
   "metadata": {},
   "source": [
    "Conclusion: There is no association between the month and the respondent’s self-reported health perception."
   ]
  },
  {
   "cell_type": "markdown",
   "metadata": {},
   "source": [
    "## Research question 3: \n",
    "\n",
    "**Is there any association between a respondent’s income and health care coverage?**"
   ]
  },
  {
   "cell_type": "markdown",
   "metadata": {},
   "source": [
    "Variables:\n",
    "\n",
    "        income2: Income Level\n",
    "    \n",
    "        hlthpln1: Have Any Health Care Coverage"
   ]
  },
  {
   "cell_type": "code",
   "execution_count": 19,
   "metadata": {
    "scrolled": true
   },
   "outputs": [
    {
     "data": {
      "image/png": "[encoded data removed]",
      "text/plain": [
       "Plot with title \"Income Level versus Health Care Coverage\""
      ]
     },
     "metadata": {
      "image/png": {
       "height": 420,
       "width": 420
      },
      "text/plain": {
       "height": 420,
       "width": 420
      }
     },
     "output_type": "display_data"
    }
   ],
   "source": [
    "plot(brfss2013$income2, brfss2013$hlthpln1, xlab = 'Income Level', ylab = 'Health Care Coverage', main =\n",
    "'Income Level versus Health Care Coverage')"
   ]
  },
  {
   "cell_type": "code",
   "execution_count": 20,
   "metadata": {},
   "outputs": [
    {
     "data": {
      "text/html": [
       "<dl>\n",
       "\t<dt>$`Less than $10,000`</dt>\n",
       "\t\t<dd><style>\n",
       ".dl-inline {width: auto; margin:0; padding: 0}\n",
       ".dl-inline>dt, .dl-inline>dd {float: none; width: auto; display: inline-block}\n",
       ".dl-inline>dt::after {content: \":\\0020\"; padding-right: .5ex}\n",
       ".dl-inline>dt:not(:first-of-type) {padding-left: .5ex}\n",
       "</style><dl class=dl-inline><dt>Yes</dt><dd>18732</dd><dt>No</dt><dd>6551</dd><dt>NA's</dt><dd>158</dd></dl>\n",
       "</dd>\n",
       "\t<dt>$`Less than $15,000`</dt>\n",
       "\t\t<dd><style>\n",
       ".dl-inline {width: auto; margin:0; padding: 0}\n",
       ".dl-inline>dt, .dl-inline>dd {float: none; width: auto; display: inline-block}\n",
       ".dl-inline>dt::after {content: \":\\0020\"; padding-right: .5ex}\n",
       ".dl-inline>dt:not(:first-of-type) {padding-left: .5ex}\n",
       "</style><dl class=dl-inline><dt>Yes</dt><dd>21143</dd><dt>No</dt><dd>5558</dd><dt>NA's</dt><dd>93</dd></dl>\n",
       "</dd>\n",
       "\t<dt>$`Less than $20,000`</dt>\n",
       "\t\t<dd><style>\n",
       ".dl-inline {width: auto; margin:0; padding: 0}\n",
       ".dl-inline>dt, .dl-inline>dd {float: none; width: auto; display: inline-block}\n",
       ".dl-inline>dt::after {content: \":\\0020\"; padding-right: .5ex}\n",
       ".dl-inline>dt:not(:first-of-type) {padding-left: .5ex}\n",
       "</style><dl class=dl-inline><dt>Yes</dt><dd>26695</dd><dt>No</dt><dd>8061</dd><dt>NA's</dt><dd>117</dd></dl>\n",
       "</dd>\n",
       "\t<dt>$`Less than $25,000`</dt>\n",
       "\t\t<dd><style>\n",
       ".dl-inline {width: auto; margin:0; padding: 0}\n",
       ".dl-inline>dt, .dl-inline>dd {float: none; width: auto; display: inline-block}\n",
       ".dl-inline>dt::after {content: \":\\0020\"; padding-right: .5ex}\n",
       ".dl-inline>dt:not(:first-of-type) {padding-left: .5ex}\n",
       "</style><dl class=dl-inline><dt>Yes</dt><dd>33312</dd><dt>No</dt><dd>8295</dd><dt>NA's</dt><dd>125</dd></dl>\n",
       "</dd>\n",
       "\t<dt>$`Less than $35,000`</dt>\n",
       "\t\t<dd><style>\n",
       ".dl-inline {width: auto; margin:0; padding: 0}\n",
       ".dl-inline>dt, .dl-inline>dd {float: none; width: auto; display: inline-block}\n",
       ".dl-inline>dt::after {content: \":\\0020\"; padding-right: .5ex}\n",
       ".dl-inline>dt:not(:first-of-type) {padding-left: .5ex}\n",
       "</style><dl class=dl-inline><dt>Yes</dt><dd>41738</dd><dt>No</dt><dd>7024</dd><dt>NA's</dt><dd>105</dd></dl>\n",
       "</dd>\n",
       "\t<dt>$`Less than $50,000`</dt>\n",
       "\t\t<dd><style>\n",
       ".dl-inline {width: auto; margin:0; padding: 0}\n",
       ".dl-inline>dt, .dl-inline>dd {float: none; width: auto; display: inline-block}\n",
       ".dl-inline>dt::after {content: \":\\0020\"; padding-right: .5ex}\n",
       ".dl-inline>dt:not(:first-of-type) {padding-left: .5ex}\n",
       "</style><dl class=dl-inline><dt>Yes</dt><dd>55575</dd><dt>No</dt><dd>5824</dd><dt>NA's</dt><dd>110</dd></dl>\n",
       "</dd>\n",
       "\t<dt>$`Less than $75,000`</dt>\n",
       "\t\t<dd><style>\n",
       ".dl-inline {width: auto; margin:0; padding: 0}\n",
       ".dl-inline>dt, .dl-inline>dd {float: none; width: auto; display: inline-block}\n",
       ".dl-inline>dt::after {content: \":\\0020\"; padding-right: .5ex}\n",
       ".dl-inline>dt:not(:first-of-type) {padding-left: .5ex}\n",
       "</style><dl class=dl-inline><dt>Yes</dt><dd>61732</dd><dt>No</dt><dd>3414</dd><dt>NA's</dt><dd>85</dd></dl>\n",
       "</dd>\n",
       "\t<dt>$`$75,000 or more`</dt>\n",
       "\t\t<dd><style>\n",
       ".dl-inline {width: auto; margin:0; padding: 0}\n",
       ".dl-inline>dt, .dl-inline>dd {float: none; width: auto; display: inline-block}\n",
       ".dl-inline>dt::after {content: \":\\0020\"; padding-right: .5ex}\n",
       ".dl-inline>dt:not(:first-of-type) {padding-left: .5ex}\n",
       "</style><dl class=dl-inline><dt>Yes</dt><dd>113023</dd><dt>No</dt><dd>2771</dd><dt>NA's</dt><dd>108</dd></dl>\n",
       "</dd>\n",
       "</dl>\n"
      ],
      "text/latex": [
       "\\begin{description}\n",
       "\\item[\\$`Less than \\$10,000`] \\begin{description*}\n",
       "\\item[Yes] 18732\n",
       "\\item[No] 6551\n",
       "\\item[NA's] 158\n",
       "\\end{description*}\n",
       "\n",
       "\\item[\\$`Less than \\$15,000`] \\begin{description*}\n",
       "\\item[Yes] 21143\n",
       "\\item[No] 5558\n",
       "\\item[NA's] 93\n",
       "\\end{description*}\n",
       "\n",
       "\\item[\\$`Less than \\$20,000`] \\begin{description*}\n",
       "\\item[Yes] 26695\n",
       "\\item[No] 8061\n",
       "\\item[NA's] 117\n",
       "\\end{description*}\n",
       "\n",
       "\\item[\\$`Less than \\$25,000`] \\begin{description*}\n",
       "\\item[Yes] 33312\n",
       "\\item[No] 8295\n",
       "\\item[NA's] 125\n",
       "\\end{description*}\n",
       "\n",
       "\\item[\\$`Less than \\$35,000`] \\begin{description*}\n",
       "\\item[Yes] 41738\n",
       "\\item[No] 7024\n",
       "\\item[NA's] 105\n",
       "\\end{description*}\n",
       "\n",
       "\\item[\\$`Less than \\$50,000`] \\begin{description*}\n",
       "\\item[Yes] 55575\n",
       "\\item[No] 5824\n",
       "\\item[NA's] 110\n",
       "\\end{description*}\n",
       "\n",
       "\\item[\\$`Less than \\$75,000`] \\begin{description*}\n",
       "\\item[Yes] 61732\n",
       "\\item[No] 3414\n",
       "\\item[NA's] 85\n",
       "\\end{description*}\n",
       "\n",
       "\\item[\\$`\\$75,000 or more`] \\begin{description*}\n",
       "\\item[Yes] 113023\n",
       "\\item[No] 2771\n",
       "\\item[NA's] 108\n",
       "\\end{description*}\n",
       "\n",
       "\\end{description}\n"
      ],
      "text/markdown": [
       "$`Less than $10,000`\n",
       ":   Yes\n",
       ":   18732No\n",
       ":   6551NA's\n",
       ":   158\n",
       "\n",
       "\n",
       "$`Less than $15,000`\n",
       ":   Yes\n",
       ":   21143No\n",
       ":   5558NA's\n",
       ":   93\n",
       "\n",
       "\n",
       "$`Less than $20,000`\n",
       ":   Yes\n",
       ":   26695No\n",
       ":   8061NA's\n",
       ":   117\n",
       "\n",
       "\n",
       "$`Less than $25,000`\n",
       ":   Yes\n",
       ":   33312No\n",
       ":   8295NA's\n",
       ":   125\n",
       "\n",
       "\n",
       "$`Less than $35,000`\n",
       ":   Yes\n",
       ":   41738No\n",
       ":   7024NA's\n",
       ":   105\n",
       "\n",
       "\n",
       "$`Less than $50,000`\n",
       ":   Yes\n",
       ":   55575No\n",
       ":   5824NA's\n",
       ":   110\n",
       "\n",
       "\n",
       "$`Less than $75,000`\n",
       ":   Yes\n",
       ":   61732No\n",
       ":   3414NA's\n",
       ":   85\n",
       "\n",
       "\n",
       "$`$75,000 or more`\n",
       ":   Yes\n",
       ":   113023No\n",
       ":   2771NA's\n",
       ":   108\n",
       "\n",
       "\n",
       "\n",
       "\n"
      ],
      "text/plain": [
       "$`Less than $10,000`\n",
       "  Yes    No  NA's \n",
       "18732  6551   158 \n",
       "\n",
       "$`Less than $15,000`\n",
       "  Yes    No  NA's \n",
       "21143  5558    93 \n",
       "\n",
       "$`Less than $20,000`\n",
       "  Yes    No  NA's \n",
       "26695  8061   117 \n",
       "\n",
       "$`Less than $25,000`\n",
       "  Yes    No  NA's \n",
       "33312  8295   125 \n",
       "\n",
       "$`Less than $35,000`\n",
       "  Yes    No  NA's \n",
       "41738  7024   105 \n",
       "\n",
       "$`Less than $50,000`\n",
       "  Yes    No  NA's \n",
       "55575  5824   110 \n",
       "\n",
       "$`Less than $75,000`\n",
       "  Yes    No  NA's \n",
       "61732  3414    85 \n",
       "\n",
       "$`$75,000 or more`\n",
       "   Yes     No   NA's \n",
       "113023   2771    108 \n"
      ]
     },
     "metadata": {},
     "output_type": "display_data"
    }
   ],
   "source": [
    "tapply(brfss2013$hlthpln1, brfss2013$income2, summary, na.rm=TRUE)"
   ]
  },
  {
   "cell_type": "markdown",
   "metadata": {},
   "source": [
    "Conclusion: Higher income respondents are more likely to have health care coverage then those of lower income respondents."
   ]
  },
  {
   "cell_type": "markdown",
   "metadata": {},
   "source": [
    "## Research question 4: \n",
    "\n",
    "**Is there a correlation between high blood pressure and time slept per night, and can an association between both aforementioned variables and weight be inferred?**"
   ]
  },
  {
   "cell_type": "markdown",
   "metadata": {},
   "source": [
    "Variables:\n",
    "\n",
    "        bphigh4: Ever Told Blood Pressure High\n",
    "\n",
    "        sleptim1: How Much Time Do You Sleep\n",
    "\n",
    "        weight2: Reported Weight In Pounds"
   ]
  },
  {
   "cell_type": "code",
   "execution_count": 21,
   "metadata": {},
   "outputs": [
    {
     "data": {
      "text/html": [
       "<table>\n",
       "<caption>A data.frame: 6 × 3</caption>\n",
       "<thead>\n",
       "\t<tr><th></th><th scope=col>sleptim1</th><th scope=col>bphigh4</th><th scope=col>weight2</th></tr>\n",
       "\t<tr><th></th><th scope=col>&lt;int&gt;</th><th scope=col>&lt;fct&gt;</th><th scope=col>&lt;fct&gt;</th></tr>\n",
       "</thead>\n",
       "<tbody>\n",
       "\t<tr><th scope=row>1</th><td>NA</td><td>Yes</td><td>250</td></tr>\n",
       "\t<tr><th scope=row>2</th><td> 6</td><td>No </td><td>127</td></tr>\n",
       "\t<tr><th scope=row>3</th><td> 9</td><td>No </td><td>160</td></tr>\n",
       "\t<tr><th scope=row>4</th><td> 8</td><td>No </td><td>128</td></tr>\n",
       "\t<tr><th scope=row>5</th><td> 6</td><td>Yes</td><td>265</td></tr>\n",
       "\t<tr><th scope=row>6</th><td> 8</td><td>Yes</td><td>225</td></tr>\n",
       "</tbody>\n",
       "</table>\n"
      ],
      "text/latex": [
       "A data.frame: 6 × 3\n",
       "\\begin{tabular}{r|lll}\n",
       "  & sleptim1 & bphigh4 & weight2\\\\\n",
       "  & <int> & <fct> & <fct>\\\\\n",
       "\\hline\n",
       "\t1 & NA & Yes & 250\\\\\n",
       "\t2 &  6 & No  & 127\\\\\n",
       "\t3 &  9 & No  & 160\\\\\n",
       "\t4 &  8 & No  & 128\\\\\n",
       "\t5 &  6 & Yes & 265\\\\\n",
       "\t6 &  8 & Yes & 225\\\\\n",
       "\\end{tabular}\n"
      ],
      "text/markdown": [
       "\n",
       "A data.frame: 6 × 3\n",
       "\n",
       "| <!--/--> | sleptim1 &lt;int&gt; | bphigh4 &lt;fct&gt; | weight2 &lt;fct&gt; |\n",
       "|---|---|---|---|\n",
       "| 1 | NA | Yes | 250 |\n",
       "| 2 |  6 | No  | 127 |\n",
       "| 3 |  9 | No  | 160 |\n",
       "| 4 |  8 | No  | 128 |\n",
       "| 5 |  6 | Yes | 265 |\n",
       "| 6 |  8 | Yes | 225 |\n",
       "\n"
      ],
      "text/plain": [
       "  sleptim1 bphigh4 weight2\n",
       "1 NA       Yes     250    \n",
       "2  6       No      127    \n",
       "3  9       No      160    \n",
       "4  8       No      128    \n",
       "5  6       Yes     265    \n",
       "6  8       Yes     225    "
      ]
     },
     "metadata": {},
     "output_type": "display_data"
    },
    {
     "data": {
      "text/html": [
       "<span style=white-space:pre-wrap>'Number of Rows:  491775'</span>"
      ],
      "text/latex": [
       "'Number of Rows:  491775'"
      ],
      "text/markdown": [
       "<span style=white-space:pre-wrap>'Number of Rows:  491775'</span>"
      ],
      "text/plain": [
       "[1] \"Number of Rows:  491775\""
      ]
     },
     "metadata": {},
     "output_type": "display_data"
    }
   ],
   "source": [
    "# Select the DataFrame\n",
    "vars2 <- names(brfss2013) %in% c('bphigh4', 'sleptim1', 'bphigh4', 'weight2')\n",
    "selected2_brfss <- brfss2013[vars2]\n",
    "\n",
    "head(selected2_brfss)\n",
    "\n",
    "nrows <- nrow(selected2_brfss)\n",
    "paste(\"Number of Rows: \",nrows)"
   ]
  },
  {
   "cell_type": "code",
   "execution_count": 22,
   "metadata": {},
   "outputs": [
    {
     "data": {
      "text/html": [
       "<table>\n",
       "<caption>A data.frame: 6 × 3</caption>\n",
       "<thead>\n",
       "\t<tr><th></th><th scope=col>sleptim1</th><th scope=col>bphigh4</th><th scope=col>weight2</th></tr>\n",
       "\t<tr><th></th><th scope=col>&lt;int&gt;</th><th scope=col>&lt;fct&gt;</th><th scope=col>&lt;fct&gt;</th></tr>\n",
       "</thead>\n",
       "<tbody>\n",
       "\t<tr><th scope=row>2</th><td>6</td><td>No </td><td>127</td></tr>\n",
       "\t<tr><th scope=row>3</th><td>9</td><td>No </td><td>160</td></tr>\n",
       "\t<tr><th scope=row>4</th><td>8</td><td>No </td><td>128</td></tr>\n",
       "\t<tr><th scope=row>5</th><td>6</td><td>Yes</td><td>265</td></tr>\n",
       "\t<tr><th scope=row>6</th><td>8</td><td>Yes</td><td>225</td></tr>\n",
       "\t<tr><th scope=row>7</th><td>7</td><td>Yes</td><td>106</td></tr>\n",
       "</tbody>\n",
       "</table>\n"
      ],
      "text/latex": [
       "A data.frame: 6 × 3\n",
       "\\begin{tabular}{r|lll}\n",
       "  & sleptim1 & bphigh4 & weight2\\\\\n",
       "  & <int> & <fct> & <fct>\\\\\n",
       "\\hline\n",
       "\t2 & 6 & No  & 127\\\\\n",
       "\t3 & 9 & No  & 160\\\\\n",
       "\t4 & 8 & No  & 128\\\\\n",
       "\t5 & 6 & Yes & 265\\\\\n",
       "\t6 & 8 & Yes & 225\\\\\n",
       "\t7 & 7 & Yes & 106\\\\\n",
       "\\end{tabular}\n"
      ],
      "text/markdown": [
       "\n",
       "A data.frame: 6 × 3\n",
       "\n",
       "| <!--/--> | sleptim1 &lt;int&gt; | bphigh4 &lt;fct&gt; | weight2 &lt;fct&gt; |\n",
       "|---|---|---|---|\n",
       "| 2 | 6 | No  | 127 |\n",
       "| 3 | 9 | No  | 160 |\n",
       "| 4 | 8 | No  | 128 |\n",
       "| 5 | 6 | Yes | 265 |\n",
       "| 6 | 8 | Yes | 225 |\n",
       "| 7 | 7 | Yes | 106 |\n",
       "\n"
      ],
      "text/plain": [
       "  sleptim1 bphigh4 weight2\n",
       "2 6        No      127    \n",
       "3 9        No      160    \n",
       "4 8        No      128    \n",
       "5 6        Yes     265    \n",
       "6 8        Yes     225    \n",
       "7 7        Yes     106    "
      ]
     },
     "metadata": {},
     "output_type": "display_data"
    },
    {
     "data": {
      "text/html": [
       "<span style=white-space:pre-wrap>'Number of Rows:  483140'</span>"
      ],
      "text/latex": [
       "'Number of Rows:  483140'"
      ],
      "text/markdown": [
       "<span style=white-space:pre-wrap>'Number of Rows:  483140'</span>"
      ],
      "text/plain": [
       "[1] \"Number of Rows:  483140\""
      ]
     },
     "metadata": {},
     "output_type": "display_data"
    }
   ],
   "source": [
    "# Delete NA values\n",
    "selected2_brfss <- na.delete(selected2_brfss)\n",
    "\n",
    "head(selected2_brfss)\n",
    "\n",
    "nrows <- nrow(selected2_brfss)\n",
    "paste(\"Number of Rows: \", nrows)"
   ]
  },
  {
   "cell_type": "code",
   "execution_count": 23,
   "metadata": {},
   "outputs": [
    {
     "data": {
      "text/html": [
       "<table>\n",
       "<caption>A data.frame: 6 × 3</caption>\n",
       "<thead>\n",
       "\t<tr><th></th><th scope=col>sleptim1</th><th scope=col>bphigh4</th><th scope=col>weight2</th></tr>\n",
       "\t<tr><th></th><th scope=col>&lt;int&gt;</th><th scope=col>&lt;fct&gt;</th><th scope=col>&lt;fct&gt;</th></tr>\n",
       "</thead>\n",
       "<tbody>\n",
       "\t<tr><th scope=row>1</th><td>6</td><td>No </td><td>127</td></tr>\n",
       "\t<tr><th scope=row>2</th><td>9</td><td>No </td><td>160</td></tr>\n",
       "\t<tr><th scope=row>3</th><td>8</td><td>No </td><td>128</td></tr>\n",
       "\t<tr><th scope=row>4</th><td>6</td><td>Yes</td><td>265</td></tr>\n",
       "\t<tr><th scope=row>5</th><td>8</td><td>Yes</td><td>225</td></tr>\n",
       "\t<tr><th scope=row>6</th><td>7</td><td>Yes</td><td>106</td></tr>\n",
       "</tbody>\n",
       "</table>\n"
      ],
      "text/latex": [
       "A data.frame: 6 × 3\n",
       "\\begin{tabular}{r|lll}\n",
       "  & sleptim1 & bphigh4 & weight2\\\\\n",
       "  & <int> & <fct> & <fct>\\\\\n",
       "\\hline\n",
       "\t1 & 6 & No  & 127\\\\\n",
       "\t2 & 9 & No  & 160\\\\\n",
       "\t3 & 8 & No  & 128\\\\\n",
       "\t4 & 6 & Yes & 265\\\\\n",
       "\t5 & 8 & Yes & 225\\\\\n",
       "\t6 & 7 & Yes & 106\\\\\n",
       "\\end{tabular}\n"
      ],
      "text/markdown": [
       "\n",
       "A data.frame: 6 × 3\n",
       "\n",
       "| <!--/--> | sleptim1 &lt;int&gt; | bphigh4 &lt;fct&gt; | weight2 &lt;fct&gt; |\n",
       "|---|---|---|---|\n",
       "| 1 | 6 | No  | 127 |\n",
       "| 2 | 9 | No  | 160 |\n",
       "| 3 | 8 | No  | 128 |\n",
       "| 4 | 6 | Yes | 265 |\n",
       "| 5 | 8 | Yes | 225 |\n",
       "| 6 | 7 | Yes | 106 |\n",
       "\n"
      ],
      "text/plain": [
       "  sleptim1 bphigh4 weight2\n",
       "1 6        No      127    \n",
       "2 9        No      160    \n",
       "3 8        No      128    \n",
       "4 6        Yes     265    \n",
       "5 8        Yes     225    \n",
       "6 7        Yes     106    "
      ]
     },
     "metadata": {},
     "output_type": "display_data"
    },
    {
     "data": {
      "text/html": [
       "<span style=white-space:pre-wrap>'Number of Rows:  474508'</span>"
      ],
      "text/latex": [
       "'Number of Rows:  474508'"
      ],
      "text/markdown": [
       "<span style=white-space:pre-wrap>'Number of Rows:  474508'</span>"
      ],
      "text/plain": [
       "[1] \"Number of Rows:  474508\""
      ]
     },
     "metadata": {},
     "output_type": "display_data"
    }
   ],
   "source": [
    "# Create a DataFrame hibsleep\n",
    "hibsleep <- selected2_brfss %>% filter((bphigh4 == \"Yes\" | bphigh4 == \"No\"), !(is.na(sleptim1)), !(is.na(weight2)))\n",
    "\n",
    "head(hibsleep)\n",
    "\n",
    "nrows2 <- nrow(hibsleep)\n",
    "paste(\"Number of Rows: \", nrows2)"
   ]
  },
  {
   "cell_type": "code",
   "execution_count": 24,
   "metadata": {},
   "outputs": [
    {
     "name": "stderr",
     "output_type": "stream",
     "text": [
      "Warning message in eval(expr, envir, enclos):\n",
      "\"NAs introduced by coercion\"\n"
     ]
    },
    {
     "data": {
      "text/html": [
       "<table>\n",
       "<caption>A data.frame: 6 × 3</caption>\n",
       "<thead>\n",
       "\t<tr><th></th><th scope=col>sleptim1</th><th scope=col>bphigh4</th><th scope=col>weight2</th></tr>\n",
       "\t<tr><th></th><th scope=col>&lt;int&gt;</th><th scope=col>&lt;fct&gt;</th><th scope=col>&lt;dbl&gt;</th></tr>\n",
       "</thead>\n",
       "<tbody>\n",
       "\t<tr><th scope=row>1</th><td>6</td><td>No </td><td>127</td></tr>\n",
       "\t<tr><th scope=row>2</th><td>9</td><td>No </td><td>160</td></tr>\n",
       "\t<tr><th scope=row>3</th><td>8</td><td>No </td><td>128</td></tr>\n",
       "\t<tr><th scope=row>4</th><td>6</td><td>Yes</td><td>265</td></tr>\n",
       "\t<tr><th scope=row>5</th><td>8</td><td>Yes</td><td>225</td></tr>\n",
       "\t<tr><th scope=row>6</th><td>7</td><td>Yes</td><td>106</td></tr>\n",
       "</tbody>\n",
       "</table>\n"
      ],
      "text/latex": [
       "A data.frame: 6 × 3\n",
       "\\begin{tabular}{r|lll}\n",
       "  & sleptim1 & bphigh4 & weight2\\\\\n",
       "  & <int> & <fct> & <dbl>\\\\\n",
       "\\hline\n",
       "\t1 & 6 & No  & 127\\\\\n",
       "\t2 & 9 & No  & 160\\\\\n",
       "\t3 & 8 & No  & 128\\\\\n",
       "\t4 & 6 & Yes & 265\\\\\n",
       "\t5 & 8 & Yes & 225\\\\\n",
       "\t6 & 7 & Yes & 106\\\\\n",
       "\\end{tabular}\n"
      ],
      "text/markdown": [
       "\n",
       "A data.frame: 6 × 3\n",
       "\n",
       "| <!--/--> | sleptim1 &lt;int&gt; | bphigh4 &lt;fct&gt; | weight2 &lt;dbl&gt; |\n",
       "|---|---|---|---|\n",
       "| 1 | 6 | No  | 127 |\n",
       "| 2 | 9 | No  | 160 |\n",
       "| 3 | 8 | No  | 128 |\n",
       "| 4 | 6 | Yes | 265 |\n",
       "| 5 | 8 | Yes | 225 |\n",
       "| 6 | 7 | Yes | 106 |\n",
       "\n"
      ],
      "text/plain": [
       "  sleptim1 bphigh4 weight2\n",
       "1 6        No      127    \n",
       "2 9        No      160    \n",
       "3 8        No      128    \n",
       "4 6        Yes     265    \n",
       "5 8        Yes     225    \n",
       "6 7        Yes     106    "
      ]
     },
     "metadata": {},
     "output_type": "display_data"
    },
    {
     "data": {
      "text/html": [
       "<span style=white-space:pre-wrap>'Number of Rows:  474508'</span>"
      ],
      "text/latex": [
       "'Number of Rows:  474508'"
      ],
      "text/markdown": [
       "<span style=white-space:pre-wrap>'Number of Rows:  474508'</span>"
      ],
      "text/plain": [
       "[1] \"Number of Rows:  474508\""
      ]
     },
     "metadata": {},
     "output_type": "display_data"
    }
   ],
   "source": [
    "# Transform series Weight2 in numeric\n",
    "hibsleep$weight2 <- as.numeric(as.character(hibsleep$weight2))\n",
    "\n",
    "head(hibsleep)\n",
    "\n",
    "nrows2 <- nrow(hibsleep)\n",
    "paste(\"Number of Rows: \", nrows2)"
   ]
  },
  {
   "cell_type": "code",
   "execution_count": 25,
   "metadata": {},
   "outputs": [
    {
     "data": {
      "text/html": [
       "<span style=white-space:pre-wrap>'Number of Rows:  454501'</span>"
      ],
      "text/latex": [
       "'Number of Rows:  454501'"
      ],
      "text/markdown": [
       "<span style=white-space:pre-wrap>'Number of Rows:  454501'</span>"
      ],
      "text/plain": [
       "[1] \"Number of Rows:  454501\""
      ]
     },
     "metadata": {},
     "output_type": "display_data"
    }
   ],
   "source": [
    "# Take out the influence of weight influence in the high blood\n",
    "hibsleep <- hibsleep %>% filter(weight2 < 1000) \n",
    "nrows2 <- nrow(hibsleep)\n",
    "paste(\"Number of Rows: \", nrows2)"
   ]
  },
  {
   "cell_type": "code",
   "execution_count": 26,
   "metadata": {
    "scrolled": true
   },
   "outputs": [
    {
     "data": {
      "text/html": [
       "'factor'"
      ],
      "text/latex": [
       "'factor'"
      ],
      "text/markdown": [
       "'factor'"
      ],
      "text/plain": [
       "[1] \"factor\""
      ]
     },
     "metadata": {},
     "output_type": "display_data"
    }
   ],
   "source": [
    "# Divides a numeric vector into different ranges\n",
    "hibsleep$weight2 = cut(hibsleep$weight2,c(49,100,150,200,250,300,700)) \n",
    "\n",
    "class(hibsleep$weight2)"
   ]
  },
  {
   "cell_type": "code",
   "execution_count": 27,
   "metadata": {},
   "outputs": [
    {
     "data": {
      "text/html": [
       "<style>\n",
       ".list-inline {list-style: none; margin:0; padding: 0}\n",
       ".list-inline>li {display: inline-block}\n",
       ".list-inline>li:not(:last-child)::after {content: \"\\00b7\"; padding: 0 .5ex}\n",
       "</style>\n",
       "<ol class=list-inline><li>100-150</li><li>150-200</li><li>100-150</li><li>250-300</li><li>200-250</li><li>100-150</li></ol>\n",
       "\n",
       "<details>\n",
       "\t<summary style=display:list-item;cursor:pointer>\n",
       "\t\t<strong>Levels</strong>:\n",
       "\t</summary>\n",
       "\t<style>\n",
       "\t.list-inline {list-style: none; margin:0; padding: 0}\n",
       "\t.list-inline>li {display: inline-block}\n",
       "\t.list-inline>li:not(:last-child)::after {content: \"\\00b7\"; padding: 0 .5ex}\n",
       "\t</style>\n",
       "\t<ol class=list-inline><li>'50-100'</li><li>'100-150'</li><li>'150-200'</li><li>'200-250'</li><li>'250-300'</li><li>'300-700'</li></ol>\n",
       "</details>"
      ],
      "text/latex": [
       "\\begin{enumerate*}\n",
       "\\item 100-150\n",
       "\\item 150-200\n",
       "\\item 100-150\n",
       "\\item 250-300\n",
       "\\item 200-250\n",
       "\\item 100-150\n",
       "\\end{enumerate*}\n",
       "\n",
       "\\emph{Levels}: \\begin{enumerate*}\n",
       "\\item '50-100'\n",
       "\\item '100-150'\n",
       "\\item '150-200'\n",
       "\\item '200-250'\n",
       "\\item '250-300'\n",
       "\\item '300-700'\n",
       "\\end{enumerate*}\n"
      ],
      "text/markdown": [
       "1. 100-150\n",
       "2. 150-200\n",
       "3. 100-150\n",
       "4. 250-300\n",
       "5. 200-250\n",
       "6. 100-150\n",
       "\n",
       "\n",
       "\n",
       "**Levels**: 1. '50-100'\n",
       "2. '100-150'\n",
       "3. '150-200'\n",
       "4. '200-250'\n",
       "5. '250-300'\n",
       "6. '300-700'\n",
       "\n",
       "\n"
      ],
      "text/plain": [
       "[1] 100-150 150-200 100-150 250-300 200-250 100-150\n",
       "Levels: 50-100 100-150 150-200 200-250 250-300 300-700"
      ]
     },
     "metadata": {},
     "output_type": "display_data"
    },
    {
     "data": {
      "text/html": [
       "<span style=white-space:pre-wrap>'Number of Rows:  454501'</span>"
      ],
      "text/latex": [
       "'Number of Rows:  454501'"
      ],
      "text/markdown": [
       "<span style=white-space:pre-wrap>'Number of Rows:  454501'</span>"
      ],
      "text/plain": [
       "[1] \"Number of Rows:  454501\""
      ]
     },
     "metadata": {},
     "output_type": "display_data"
    }
   ],
   "source": [
    "# Create levels for Weight2\n",
    "hibsleep <- hibsleep %>% group_by(weight2)\n",
    "\n",
    "levels(hibsleep$weight2) <- c(\"50-100\",\"100-150\",\"150-200\", \"200-250\", \"250-300\", \"300-700\")\n",
    "\n",
    "head(hibsleep$weight2)\n",
    "nrows2 <- nrow(hibsleep)\n",
    "paste(\"Number of Rows: \", nrows2)"
   ]
  },
  {
   "cell_type": "code",
   "execution_count": 28,
   "metadata": {
    "scrolled": true
   },
   "outputs": [
    {
     "data": {
      "text/html": [
       "<table>\n",
       "<caption>A grouped_df: 6 × 3</caption>\n",
       "<thead>\n",
       "\t<tr><th scope=col>sleptim1</th><th scope=col>bphigh4</th><th scope=col>weight2</th></tr>\n",
       "\t<tr><th scope=col>&lt;chr&gt;</th><th scope=col>&lt;fct&gt;</th><th scope=col>&lt;fct&gt;</th></tr>\n",
       "</thead>\n",
       "<tbody>\n",
       "\t<tr><td>6</td><td>No </td><td>100-150</td></tr>\n",
       "\t<tr><td>9</td><td>No </td><td>150-200</td></tr>\n",
       "\t<tr><td>8</td><td>No </td><td>100-150</td></tr>\n",
       "\t<tr><td>6</td><td>Yes</td><td>250-300</td></tr>\n",
       "\t<tr><td>8</td><td>Yes</td><td>200-250</td></tr>\n",
       "\t<tr><td>7</td><td>Yes</td><td>100-150</td></tr>\n",
       "</tbody>\n",
       "</table>\n"
      ],
      "text/latex": [
       "A grouped\\_df: 6 × 3\n",
       "\\begin{tabular}{lll}\n",
       " sleptim1 & bphigh4 & weight2\\\\\n",
       " <chr> & <fct> & <fct>\\\\\n",
       "\\hline\n",
       "\t 6 & No  & 100-150\\\\\n",
       "\t 9 & No  & 150-200\\\\\n",
       "\t 8 & No  & 100-150\\\\\n",
       "\t 6 & Yes & 250-300\\\\\n",
       "\t 8 & Yes & 200-250\\\\\n",
       "\t 7 & Yes & 100-150\\\\\n",
       "\\end{tabular}\n"
      ],
      "text/markdown": [
       "\n",
       "A grouped_df: 6 × 3\n",
       "\n",
       "| sleptim1 &lt;chr&gt; | bphigh4 &lt;fct&gt; | weight2 &lt;fct&gt; |\n",
       "|---|---|---|\n",
       "| 6 | No  | 100-150 |\n",
       "| 9 | No  | 150-200 |\n",
       "| 8 | No  | 100-150 |\n",
       "| 6 | Yes | 250-300 |\n",
       "| 8 | Yes | 200-250 |\n",
       "| 7 | Yes | 100-150 |\n",
       "\n"
      ],
      "text/plain": [
       "  sleptim1 bphigh4 weight2\n",
       "1 6        No      100-150\n",
       "2 9        No      150-200\n",
       "3 8        No      100-150\n",
       "4 6        Yes     250-300\n",
       "5 8        Yes     200-250\n",
       "6 7        Yes     100-150"
      ]
     },
     "metadata": {},
     "output_type": "display_data"
    },
    {
     "data": {
      "text/html": [
       "<span style=white-space:pre-wrap>'Number of Rows:  454501'</span>"
      ],
      "text/latex": [
       "'Number of Rows:  454501'"
      ],
      "text/markdown": [
       "<span style=white-space:pre-wrap>'Number of Rows:  454501'</span>"
      ],
      "text/plain": [
       "[1] \"Number of Rows:  454501\""
      ]
     },
     "metadata": {},
     "output_type": "display_data"
    }
   ],
   "source": [
    "hibsleep <- hibsleep %>% mutate(sleptim1 = ifelse(sleptim1 < 11, sleptim1,\"11+\"))\n",
    "\n",
    "head(hibsleep)\n",
    "nrows2 <- nrow(hibsleep)\n",
    "paste(\"Number of Rows: \", nrows2)"
   ]
  },
  {
   "cell_type": "code",
   "execution_count": 29,
   "metadata": {},
   "outputs": [
    {
     "data": {
      "text/html": [
       "<table>\n",
       "<caption>A grouped_df: 6 × 3</caption>\n",
       "<thead>\n",
       "\t<tr><th scope=col>sleptim1</th><th scope=col>bphigh4</th><th scope=col>weight2</th></tr>\n",
       "\t<tr><th scope=col>&lt;fct&gt;</th><th scope=col>&lt;fct&gt;</th><th scope=col>&lt;fct&gt;</th></tr>\n",
       "</thead>\n",
       "<tbody>\n",
       "\t<tr><td>6</td><td>No </td><td>100-150</td></tr>\n",
       "\t<tr><td>9</td><td>No </td><td>150-200</td></tr>\n",
       "\t<tr><td>8</td><td>No </td><td>100-150</td></tr>\n",
       "\t<tr><td>6</td><td>Yes</td><td>250-300</td></tr>\n",
       "\t<tr><td>8</td><td>Yes</td><td>200-250</td></tr>\n",
       "\t<tr><td>7</td><td>Yes</td><td>100-150</td></tr>\n",
       "</tbody>\n",
       "</table>\n"
      ],
      "text/latex": [
       "A grouped\\_df: 6 × 3\n",
       "\\begin{tabular}{lll}\n",
       " sleptim1 & bphigh4 & weight2\\\\\n",
       " <fct> & <fct> & <fct>\\\\\n",
       "\\hline\n",
       "\t 6 & No  & 100-150\\\\\n",
       "\t 9 & No  & 150-200\\\\\n",
       "\t 8 & No  & 100-150\\\\\n",
       "\t 6 & Yes & 250-300\\\\\n",
       "\t 8 & Yes & 200-250\\\\\n",
       "\t 7 & Yes & 100-150\\\\\n",
       "\\end{tabular}\n"
      ],
      "text/markdown": [
       "\n",
       "A grouped_df: 6 × 3\n",
       "\n",
       "| sleptim1 &lt;fct&gt; | bphigh4 &lt;fct&gt; | weight2 &lt;fct&gt; |\n",
       "|---|---|---|\n",
       "| 6 | No  | 100-150 |\n",
       "| 9 | No  | 150-200 |\n",
       "| 8 | No  | 100-150 |\n",
       "| 6 | Yes | 250-300 |\n",
       "| 8 | Yes | 200-250 |\n",
       "| 7 | Yes | 100-150 |\n",
       "\n"
      ],
      "text/plain": [
       "  sleptim1 bphigh4 weight2\n",
       "1 6        No      100-150\n",
       "2 9        No      150-200\n",
       "3 8        No      100-150\n",
       "4 6        Yes     250-300\n",
       "5 8        Yes     200-250\n",
       "6 7        Yes     100-150"
      ]
     },
     "metadata": {},
     "output_type": "display_data"
    }
   ],
   "source": [
    "# Create leves for Sleptim1\n",
    "hibsleep$sleptim1 <- factor(hibsleep$sleptim1, levels = c(\"1\", \"2\", \"3\", \"4\", \"5\", \"6\", \"7\", \"8\", \"9\", \"10\", \"11+\"))\n",
    "head(hibsleep)"
   ]
  },
  {
   "cell_type": "code",
   "execution_count": 30,
   "metadata": {
    "scrolled": true
   },
   "outputs": [
    {
     "name": "stderr",
     "output_type": "stream",
     "text": [
      "`summarise()` regrouping output by 'sleptim1' (override with `.groups` argument)\n",
      "\n"
     ]
    },
    {
     "data": {
      "text/html": [
       "<table>\n",
       "<caption>A grouped_df: 22 × 3</caption>\n",
       "<thead>\n",
       "\t<tr><th scope=col>sleptim1</th><th scope=col>bphigh4</th><th scope=col>count</th></tr>\n",
       "\t<tr><th scope=col>&lt;fct&gt;</th><th scope=col>&lt;fct&gt;</th><th scope=col>&lt;int&gt;</th></tr>\n",
       "</thead>\n",
       "<tbody>\n",
       "\t<tr><td>1  </td><td>Yes</td><td>   96</td></tr>\n",
       "\t<tr><td>1  </td><td>No </td><td>  108</td></tr>\n",
       "\t<tr><td>2  </td><td>Yes</td><td>  561</td></tr>\n",
       "\t<tr><td>2  </td><td>No </td><td>  446</td></tr>\n",
       "\t<tr><td>3  </td><td>Yes</td><td> 1751</td></tr>\n",
       "\t<tr><td>3  </td><td>No </td><td> 1517</td></tr>\n",
       "\t<tr><td>4  </td><td>Yes</td><td> 6718</td></tr>\n",
       "\t<tr><td>4  </td><td>No </td><td> 6635</td></tr>\n",
       "\t<tr><td>5  </td><td>Yes</td><td>14151</td></tr>\n",
       "\t<tr><td>5  </td><td>No </td><td>17225</td></tr>\n",
       "\t<tr><td>6  </td><td>Yes</td><td>40533</td></tr>\n",
       "\t<tr><td>6  </td><td>No </td><td>58987</td></tr>\n",
       "\t<tr><td>7  </td><td>Yes</td><td>49135</td></tr>\n",
       "\t<tr><td>7  </td><td>No </td><td>84678</td></tr>\n",
       "\t<tr><td>8  </td><td>Yes</td><td>54279</td></tr>\n",
       "\t<tr><td>8  </td><td>No </td><td>77887</td></tr>\n",
       "\t<tr><td>9  </td><td>Yes</td><td>10127</td></tr>\n",
       "\t<tr><td>9  </td><td>No </td><td>12367</td></tr>\n",
       "\t<tr><td>10 </td><td>Yes</td><td> 5922</td></tr>\n",
       "\t<tr><td>10 </td><td>No </td><td> 5497</td></tr>\n",
       "\t<tr><td>11+</td><td>Yes</td><td> 3149</td></tr>\n",
       "\t<tr><td>11+</td><td>No </td><td> 2732</td></tr>\n",
       "</tbody>\n",
       "</table>\n"
      ],
      "text/latex": [
       "A grouped\\_df: 22 × 3\n",
       "\\begin{tabular}{lll}\n",
       " sleptim1 & bphigh4 & count\\\\\n",
       " <fct> & <fct> & <int>\\\\\n",
       "\\hline\n",
       "\t 1   & Yes &    96\\\\\n",
       "\t 1   & No  &   108\\\\\n",
       "\t 2   & Yes &   561\\\\\n",
       "\t 2   & No  &   446\\\\\n",
       "\t 3   & Yes &  1751\\\\\n",
       "\t 3   & No  &  1517\\\\\n",
       "\t 4   & Yes &  6718\\\\\n",
       "\t 4   & No  &  6635\\\\\n",
       "\t 5   & Yes & 14151\\\\\n",
       "\t 5   & No  & 17225\\\\\n",
       "\t 6   & Yes & 40533\\\\\n",
       "\t 6   & No  & 58987\\\\\n",
       "\t 7   & Yes & 49135\\\\\n",
       "\t 7   & No  & 84678\\\\\n",
       "\t 8   & Yes & 54279\\\\\n",
       "\t 8   & No  & 77887\\\\\n",
       "\t 9   & Yes & 10127\\\\\n",
       "\t 9   & No  & 12367\\\\\n",
       "\t 10  & Yes &  5922\\\\\n",
       "\t 10  & No  &  5497\\\\\n",
       "\t 11+ & Yes &  3149\\\\\n",
       "\t 11+ & No  &  2732\\\\\n",
       "\\end{tabular}\n"
      ],
      "text/markdown": [
       "\n",
       "A grouped_df: 22 × 3\n",
       "\n",
       "| sleptim1 &lt;fct&gt; | bphigh4 &lt;fct&gt; | count &lt;int&gt; |\n",
       "|---|---|---|\n",
       "| 1   | Yes |    96 |\n",
       "| 1   | No  |   108 |\n",
       "| 2   | Yes |   561 |\n",
       "| 2   | No  |   446 |\n",
       "| 3   | Yes |  1751 |\n",
       "| 3   | No  |  1517 |\n",
       "| 4   | Yes |  6718 |\n",
       "| 4   | No  |  6635 |\n",
       "| 5   | Yes | 14151 |\n",
       "| 5   | No  | 17225 |\n",
       "| 6   | Yes | 40533 |\n",
       "| 6   | No  | 58987 |\n",
       "| 7   | Yes | 49135 |\n",
       "| 7   | No  | 84678 |\n",
       "| 8   | Yes | 54279 |\n",
       "| 8   | No  | 77887 |\n",
       "| 9   | Yes | 10127 |\n",
       "| 9   | No  | 12367 |\n",
       "| 10  | Yes |  5922 |\n",
       "| 10  | No  |  5497 |\n",
       "| 11+ | Yes |  3149 |\n",
       "| 11+ | No  |  2732 |\n",
       "\n"
      ],
      "text/plain": [
       "   sleptim1 bphigh4 count\n",
       "1  1        Yes        96\n",
       "2  1        No        108\n",
       "3  2        Yes       561\n",
       "4  2        No        446\n",
       "5  3        Yes      1751\n",
       "6  3        No       1517\n",
       "7  4        Yes      6718\n",
       "8  4        No       6635\n",
       "9  5        Yes     14151\n",
       "10 5        No      17225\n",
       "11 6        Yes     40533\n",
       "12 6        No      58987\n",
       "13 7        Yes     49135\n",
       "14 7        No      84678\n",
       "15 8        Yes     54279\n",
       "16 8        No      77887\n",
       "17 9        Yes     10127\n",
       "18 9        No      12367\n",
       "19 10       Yes      5922\n",
       "20 10       No       5497\n",
       "21 11+      Yes      3149\n",
       "22 11+      No       2732"
      ]
     },
     "metadata": {},
     "output_type": "display_data"
    }
   ],
   "source": [
    "hibsleep %>% group_by(sleptim1, bphigh4) %>% summarise(count=n())"
   ]
  },
  {
   "cell_type": "markdown",
   "metadata": {},
   "source": [
    "From the proportions of having high blood pressure to not having high blood pressure, there appears to be not be a distinct correlation.\n"
   ]
  },
  {
   "cell_type": "code",
   "execution_count": 31,
   "metadata": {
    "scrolled": true
   },
   "outputs": [
    {
     "name": "stderr",
     "output_type": "stream",
     "text": [
      "`summarise()` regrouping output by 'weight2' (override with `.groups` argument)\n",
      "\n"
     ]
    },
    {
     "data": {
      "text/html": [
       "<table>\n",
       "<caption>A grouped_df: 12 × 3</caption>\n",
       "<thead>\n",
       "\t<tr><th scope=col>weight2</th><th scope=col>bphigh4</th><th scope=col>count</th></tr>\n",
       "\t<tr><th scope=col>&lt;fct&gt;</th><th scope=col>&lt;fct&gt;</th><th scope=col>&lt;int&gt;</th></tr>\n",
       "</thead>\n",
       "<tbody>\n",
       "\t<tr><td>50-100 </td><td>Yes</td><td>  1448</td></tr>\n",
       "\t<tr><td>50-100 </td><td>No </td><td>  3026</td></tr>\n",
       "\t<tr><td>100-150</td><td>Yes</td><td> 43858</td></tr>\n",
       "\t<tr><td>100-150</td><td>No </td><td> 98619</td></tr>\n",
       "\t<tr><td>150-200</td><td>Yes</td><td> 84538</td></tr>\n",
       "\t<tr><td>150-200</td><td>No </td><td>118999</td></tr>\n",
       "\t<tr><td>200-250</td><td>Yes</td><td> 41193</td></tr>\n",
       "\t<tr><td>200-250</td><td>No </td><td> 38208</td></tr>\n",
       "\t<tr><td>250-300</td><td>Yes</td><td> 12001</td></tr>\n",
       "\t<tr><td>250-300</td><td>No </td><td>  7598</td></tr>\n",
       "\t<tr><td>300-700</td><td>Yes</td><td>  3384</td></tr>\n",
       "\t<tr><td>300-700</td><td>No </td><td>  1629</td></tr>\n",
       "</tbody>\n",
       "</table>\n"
      ],
      "text/latex": [
       "A grouped\\_df: 12 × 3\n",
       "\\begin{tabular}{lll}\n",
       " weight2 & bphigh4 & count\\\\\n",
       " <fct> & <fct> & <int>\\\\\n",
       "\\hline\n",
       "\t 50-100  & Yes &   1448\\\\\n",
       "\t 50-100  & No  &   3026\\\\\n",
       "\t 100-150 & Yes &  43858\\\\\n",
       "\t 100-150 & No  &  98619\\\\\n",
       "\t 150-200 & Yes &  84538\\\\\n",
       "\t 150-200 & No  & 118999\\\\\n",
       "\t 200-250 & Yes &  41193\\\\\n",
       "\t 200-250 & No  &  38208\\\\\n",
       "\t 250-300 & Yes &  12001\\\\\n",
       "\t 250-300 & No  &   7598\\\\\n",
       "\t 300-700 & Yes &   3384\\\\\n",
       "\t 300-700 & No  &   1629\\\\\n",
       "\\end{tabular}\n"
      ],
      "text/markdown": [
       "\n",
       "A grouped_df: 12 × 3\n",
       "\n",
       "| weight2 &lt;fct&gt; | bphigh4 &lt;fct&gt; | count &lt;int&gt; |\n",
       "|---|---|---|\n",
       "| 50-100  | Yes |   1448 |\n",
       "| 50-100  | No  |   3026 |\n",
       "| 100-150 | Yes |  43858 |\n",
       "| 100-150 | No  |  98619 |\n",
       "| 150-200 | Yes |  84538 |\n",
       "| 150-200 | No  | 118999 |\n",
       "| 200-250 | Yes |  41193 |\n",
       "| 200-250 | No  |  38208 |\n",
       "| 250-300 | Yes |  12001 |\n",
       "| 250-300 | No  |   7598 |\n",
       "| 300-700 | Yes |   3384 |\n",
       "| 300-700 | No  |   1629 |\n",
       "\n"
      ],
      "text/plain": [
       "   weight2 bphigh4 count \n",
       "1  50-100  Yes       1448\n",
       "2  50-100  No        3026\n",
       "3  100-150 Yes      43858\n",
       "4  100-150 No       98619\n",
       "5  150-200 Yes      84538\n",
       "6  150-200 No      118999\n",
       "7  200-250 Yes      41193\n",
       "8  200-250 No       38208\n",
       "9  250-300 Yes      12001\n",
       "10 250-300 No        7598\n",
       "11 300-700 Yes       3384\n",
       "12 300-700 No        1629"
      ]
     },
     "metadata": {},
     "output_type": "display_data"
    }
   ],
   "source": [
    "hibsleep %>% group_by(weight2, bphigh4) %>% summarise(count=n()) \n"
   ]
  },
  {
   "cell_type": "markdown",
   "metadata": {},
   "source": [
    "Surmised from the proportions of having and not having high blood pressure in each range, there is a clear correlation between weight and high blood pressure, as the percentage of those with high blood pressure increases with weight range.\n"
   ]
  },
  {
   "cell_type": "code",
   "execution_count": 32,
   "metadata": {
    "scrolled": true
   },
   "outputs": [
    {
     "data": {
      "image/png": "[encoded data removed]",
      "text/plain": [
       "plot without title"
      ]
     },
     "metadata": {
      "image/png": {
       "height": 420,
       "width": 420
      },
      "text/plain": {
       "height": 420,
       "width": 420
      }
     },
     "output_type": "display_data"
    }
   ],
   "source": [
    "ggplot(hibsleep) + \n",
    "    aes(x = bphigh4, fill = weight2) + \n",
    "    geom_bar(position = \"fill\") + \n",
    "    facet_grid(.~sleptim1) +\n",
    "    scale_fill_brewer(name=\"Weight (Pounds)\", palette = \"Spectral\") + \n",
    "    xlab(\"Bottom: High Blood Pressure, Top: Time Slept Per Night (Hours)\") + \n",
    "    ylab(\"Relative Proportion\")"
   ]
  },
  {
   "cell_type": "markdown",
   "metadata": {},
   "source": [
    "Conclusion: From the uniform distribution of time slept against weight, there appears to be no correlation between the two statistics. This is especially evident in that regardless of hours slept weight distributed such that those with high blood pressure tend to have greater weight. \n",
    "\n",
    "However, the positive relationship between high blood pressure and weight hints at a positive correlation. Therefore, we can assert that there is no correlation between time slept and weight but that there is a correlation between weight and high blood pressure.\n"
   ]
  },
  {
   "cell_type": "markdown",
   "metadata": {},
   "source": [
    "## Research question 5: \n",
    "\n",
    "**Is there any relation between smoking, drinking alcohol, cholesterol level, blood pressure, weight and having a stroke? Eventually, I would like to see whether stroke can be predicted from the above mentioned variables.**"
   ]
  },
  {
   "cell_type": "markdown",
   "metadata": {},
   "source": [
    "Variables:\n",
    "\n",
    "        smoke100: Smoked At Least 100 Cigarettes\n",
    "\n",
    "        avedrnk2: Avg Alcoholic Drinks Per Day In Past 30\n",
    "\n",
    "        bphigh4: Ever Told Blood Pressure High\n",
    "\n",
    "        toldhi2: Ever Told Blood Cholesterol High\n",
    "\n",
    "        weight2: Reported Weight In Pounds\n",
    "\n",
    "        cvdstrk3: Ever Diagnosed With A Stroke"
   ]
  },
  {
   "cell_type": "code",
   "execution_count": 33,
   "metadata": {},
   "outputs": [
    {
     "data": {
      "text/html": [
       "<table>\n",
       "<caption>A data.frame: 6 × 5</caption>\n",
       "<thead>\n",
       "\t<tr><th></th><th scope=col>bphigh4</th><th scope=col>toldhi2</th><th scope=col>weight2</th><th scope=col>smoke100</th><th scope=col>avedrnk2</th></tr>\n",
       "\t<tr><th></th><th scope=col>&lt;fct&gt;</th><th scope=col>&lt;fct&gt;</th><th scope=col>&lt;fct&gt;</th><th scope=col>&lt;fct&gt;</th><th scope=col>&lt;int&gt;</th></tr>\n",
       "</thead>\n",
       "<tbody>\n",
       "\t<tr><th scope=row>1</th><td>Yes</td><td>Yes</td><td>250</td><td>Yes</td><td> 2</td></tr>\n",
       "\t<tr><th scope=row>2</th><td>No </td><td>No </td><td>127</td><td>No </td><td>NA</td></tr>\n",
       "\t<tr><th scope=row>3</th><td>No </td><td>No </td><td>160</td><td>Yes</td><td> 4</td></tr>\n",
       "\t<tr><th scope=row>4</th><td>No </td><td>Yes</td><td>128</td><td>No </td><td> 2</td></tr>\n",
       "\t<tr><th scope=row>5</th><td>Yes</td><td>No </td><td>265</td><td>Yes</td><td> 2</td></tr>\n",
       "\t<tr><th scope=row>6</th><td>Yes</td><td>Yes</td><td>225</td><td>No </td><td>NA</td></tr>\n",
       "</tbody>\n",
       "</table>\n"
      ],
      "text/latex": [
       "A data.frame: 6 × 5\n",
       "\\begin{tabular}{r|lllll}\n",
       "  & bphigh4 & toldhi2 & weight2 & smoke100 & avedrnk2\\\\\n",
       "  & <fct> & <fct> & <fct> & <fct> & <int>\\\\\n",
       "\\hline\n",
       "\t1 & Yes & Yes & 250 & Yes &  2\\\\\n",
       "\t2 & No  & No  & 127 & No  & NA\\\\\n",
       "\t3 & No  & No  & 160 & Yes &  4\\\\\n",
       "\t4 & No  & Yes & 128 & No  &  2\\\\\n",
       "\t5 & Yes & No  & 265 & Yes &  2\\\\\n",
       "\t6 & Yes & Yes & 225 & No  & NA\\\\\n",
       "\\end{tabular}\n"
      ],
      "text/markdown": [
       "\n",
       "A data.frame: 6 × 5\n",
       "\n",
       "| <!--/--> | bphigh4 &lt;fct&gt; | toldhi2 &lt;fct&gt; | weight2 &lt;fct&gt; | smoke100 &lt;fct&gt; | avedrnk2 &lt;int&gt; |\n",
       "|---|---|---|---|---|---|\n",
       "| 1 | Yes | Yes | 250 | Yes |  2 |\n",
       "| 2 | No  | No  | 127 | No  | NA |\n",
       "| 3 | No  | No  | 160 | Yes |  4 |\n",
       "| 4 | No  | Yes | 128 | No  |  2 |\n",
       "| 5 | Yes | No  | 265 | Yes |  2 |\n",
       "| 6 | Yes | Yes | 225 | No  | NA |\n",
       "\n"
      ],
      "text/plain": [
       "  bphigh4 toldhi2 weight2 smoke100 avedrnk2\n",
       "1 Yes     Yes     250     Yes       2      \n",
       "2 No      No      127     No       NA      \n",
       "3 No      No      160     Yes       4      \n",
       "4 No      Yes     128     No        2      \n",
       "5 Yes     No      265     Yes       2      \n",
       "6 Yes     Yes     225     No       NA      "
      ]
     },
     "metadata": {},
     "output_type": "display_data"
    }
   ],
   "source": [
    "# Build a Dataframe with series selected\n",
    "vars <- names(brfss2013) %in% c('smoke100', 'avedrnk2', 'bphigh4', 'toldhi2', 'weight2')\n",
    "selected_brfss <- brfss2013[vars]\n",
    "head(selected_brfss)"
   ]
  },
  {
   "cell_type": "code",
   "execution_count": 34,
   "metadata": {},
   "outputs": [],
   "source": [
    "selected_brfss$toldhi2 <- ifelse(selected_brfss$toldhi2==\"Yes\", 1, 0)\n",
    "\n",
    "selected_brfss$smoke100 <- ifelse(selected_brfss$smoke100==\"Yes\", 1, 0)\n",
    "\n",
    "selected_brfss$weight2 <- as.numeric(selected_brfss$weight2)\n",
    "\n",
    "selected_brfss$bphigh4 <- as.factor(ifelse(selected_brfss$bphigh4==\"Yes\", \"Yes\", \n",
    "                                    (ifelse(selected_brfss$bphigh4==\"Yes, but female told only during pregnancy\", \"Yes\", \n",
    "                                    (ifelse(selected_brfss$bphigh4==\"Told borderline or pre-hypertensive\", \"Yes\", \"No\"))))))\n",
    "\n",
    "selected_brfss$bphigh4 <- ifelse(selected_brfss$bphigh4==\"Yes\", 1, 0)"
   ]
  },
  {
   "cell_type": "code",
   "execution_count": 35,
   "metadata": {},
   "outputs": [
    {
     "data": {
      "text/html": [
       "<table>\n",
       "<caption>A data.frame: 6 × 5</caption>\n",
       "<thead>\n",
       "\t<tr><th></th><th scope=col>bphigh4</th><th scope=col>toldhi2</th><th scope=col>weight2</th><th scope=col>smoke100</th><th scope=col>avedrnk2</th></tr>\n",
       "\t<tr><th></th><th scope=col>&lt;dbl&gt;</th><th scope=col>&lt;dbl&gt;</th><th scope=col>&lt;dbl&gt;</th><th scope=col>&lt;dbl&gt;</th><th scope=col>&lt;int&gt;</th></tr>\n",
       "</thead>\n",
       "<tbody>\n",
       "\t<tr><th scope=row>1</th><td>1</td><td>1</td><td>154</td><td>1</td><td> 2</td></tr>\n",
       "\t<tr><th scope=row>2</th><td>0</td><td>0</td><td> 30</td><td>0</td><td>NA</td></tr>\n",
       "\t<tr><th scope=row>3</th><td>0</td><td>0</td><td> 63</td><td>1</td><td> 4</td></tr>\n",
       "\t<tr><th scope=row>4</th><td>0</td><td>1</td><td> 31</td><td>0</td><td> 2</td></tr>\n",
       "\t<tr><th scope=row>5</th><td>1</td><td>0</td><td>169</td><td>1</td><td> 2</td></tr>\n",
       "\t<tr><th scope=row>6</th><td>1</td><td>1</td><td>128</td><td>0</td><td>NA</td></tr>\n",
       "</tbody>\n",
       "</table>\n"
      ],
      "text/latex": [
       "A data.frame: 6 × 5\n",
       "\\begin{tabular}{r|lllll}\n",
       "  & bphigh4 & toldhi2 & weight2 & smoke100 & avedrnk2\\\\\n",
       "  & <dbl> & <dbl> & <dbl> & <dbl> & <int>\\\\\n",
       "\\hline\n",
       "\t1 & 1 & 1 & 154 & 1 &  2\\\\\n",
       "\t2 & 0 & 0 &  30 & 0 & NA\\\\\n",
       "\t3 & 0 & 0 &  63 & 1 &  4\\\\\n",
       "\t4 & 0 & 1 &  31 & 0 &  2\\\\\n",
       "\t5 & 1 & 0 & 169 & 1 &  2\\\\\n",
       "\t6 & 1 & 1 & 128 & 0 & NA\\\\\n",
       "\\end{tabular}\n"
      ],
      "text/markdown": [
       "\n",
       "A data.frame: 6 × 5\n",
       "\n",
       "| <!--/--> | bphigh4 &lt;dbl&gt; | toldhi2 &lt;dbl&gt; | weight2 &lt;dbl&gt; | smoke100 &lt;dbl&gt; | avedrnk2 &lt;int&gt; |\n",
       "|---|---|---|---|---|---|\n",
       "| 1 | 1 | 1 | 154 | 1 |  2 |\n",
       "| 2 | 0 | 0 |  30 | 0 | NA |\n",
       "| 3 | 0 | 0 |  63 | 1 |  4 |\n",
       "| 4 | 0 | 1 |  31 | 0 |  2 |\n",
       "| 5 | 1 | 0 | 169 | 1 |  2 |\n",
       "| 6 | 1 | 1 | 128 | 0 | NA |\n",
       "\n"
      ],
      "text/plain": [
       "  bphigh4 toldhi2 weight2 smoke100 avedrnk2\n",
       "1 1       1       154     1         2      \n",
       "2 0       0        30     0        NA      \n",
       "3 0       0        63     1         4      \n",
       "4 0       1        31     0         2      \n",
       "5 1       0       169     1         2      \n",
       "6 1       1       128     0        NA      "
      ]
     },
     "metadata": {},
     "output_type": "display_data"
    }
   ],
   "source": [
    "head(selected_brfss)"
   ]
  },
  {
   "cell_type": "code",
   "execution_count": 36,
   "metadata": {},
   "outputs": [],
   "source": [
    "# Delete NA values\n",
    "selected_brfss <- na.delete(selected_brfss)"
   ]
  },
  {
   "cell_type": "code",
   "execution_count": 37,
   "metadata": {},
   "outputs": [
    {
     "data": {
      "text/html": [
       "<table>\n",
       "<caption>A matrix: 5 × 5 of type dbl</caption>\n",
       "<thead>\n",
       "\t<tr><th></th><th scope=col>bphigh4</th><th scope=col>toldhi2</th><th scope=col>weight2</th><th scope=col>smoke100</th><th scope=col>avedrnk2</th></tr>\n",
       "</thead>\n",
       "<tbody>\n",
       "\t<tr><th scope=row>bphigh4</th><td> 1.000000000</td><td> 0.27914347</td><td>0.14005254</td><td>0.10912129</td><td>-0.002122668</td></tr>\n",
       "\t<tr><th scope=row>toldhi2</th><td> 0.279143470</td><td> 1.00000000</td><td>0.06121341</td><td>0.08997636</td><td>-0.029376184</td></tr>\n",
       "\t<tr><th scope=row>weight2</th><td> 0.140052536</td><td> 0.06121341</td><td>1.00000000</td><td>0.04240647</td><td> 0.093800446</td></tr>\n",
       "\t<tr><th scope=row>smoke100</th><td> 0.109121295</td><td> 0.08997636</td><td>0.04240647</td><td>1.00000000</td><td> 0.115787685</td></tr>\n",
       "\t<tr><th scope=row>avedrnk2</th><td>-0.002122668</td><td>-0.02937618</td><td>0.09380045</td><td>0.11578768</td><td> 1.000000000</td></tr>\n",
       "</tbody>\n",
       "</table>\n"
      ],
      "text/latex": [
       "A matrix: 5 × 5 of type dbl\n",
       "\\begin{tabular}{r|lllll}\n",
       "  & bphigh4 & toldhi2 & weight2 & smoke100 & avedrnk2\\\\\n",
       "\\hline\n",
       "\tbphigh4 &  1.000000000 &  0.27914347 & 0.14005254 & 0.10912129 & -0.002122668\\\\\n",
       "\ttoldhi2 &  0.279143470 &  1.00000000 & 0.06121341 & 0.08997636 & -0.029376184\\\\\n",
       "\tweight2 &  0.140052536 &  0.06121341 & 1.00000000 & 0.04240647 &  0.093800446\\\\\n",
       "\tsmoke100 &  0.109121295 &  0.08997636 & 0.04240647 & 1.00000000 &  0.115787685\\\\\n",
       "\tavedrnk2 & -0.002122668 & -0.02937618 & 0.09380045 & 0.11578768 &  1.000000000\\\\\n",
       "\\end{tabular}\n"
      ],
      "text/markdown": [
       "\n",
       "A matrix: 5 × 5 of type dbl\n",
       "\n",
       "| <!--/--> | bphigh4 | toldhi2 | weight2 | smoke100 | avedrnk2 |\n",
       "|---|---|---|---|---|---|\n",
       "| bphigh4 |  1.000000000 |  0.27914347 | 0.14005254 | 0.10912129 | -0.002122668 |\n",
       "| toldhi2 |  0.279143470 |  1.00000000 | 0.06121341 | 0.08997636 | -0.029376184 |\n",
       "| weight2 |  0.140052536 |  0.06121341 | 1.00000000 | 0.04240647 |  0.093800446 |\n",
       "| smoke100 |  0.109121295 |  0.08997636 | 0.04240647 | 1.00000000 |  0.115787685 |\n",
       "| avedrnk2 | -0.002122668 | -0.02937618 | 0.09380045 | 0.11578768 |  1.000000000 |\n",
       "\n"
      ],
      "text/plain": [
       "         bphigh4      toldhi2     weight2    smoke100   avedrnk2    \n",
       "bphigh4   1.000000000  0.27914347 0.14005254 0.10912129 -0.002122668\n",
       "toldhi2   0.279143470  1.00000000 0.06121341 0.08997636 -0.029376184\n",
       "weight2   0.140052536  0.06121341 1.00000000 0.04240647  0.093800446\n",
       "smoke100  0.109121295  0.08997636 0.04240647 1.00000000  0.115787685\n",
       "avedrnk2 -0.002122668 -0.02937618 0.09380045 0.11578768  1.000000000"
      ]
     },
     "metadata": {},
     "output_type": "display_data"
    }
   ],
   "source": [
    "corr.matrix <- cor(selected_brfss)\n",
    "corr.matrix"
   ]
  },
  {
   "cell_type": "code",
   "execution_count": 38,
   "metadata": {},
   "outputs": [
    {
     "data": {
      "image/png": "[encoded data removed]",
      "text/plain": [
       "Plot with title \"\n",
       "\n",
       " Correlation Plot of Smoke, Alcohol, Blood pressure, Cholesterol, and Weight\""
      ]
     },
     "metadata": {
      "image/png": {
       "height": 420,
       "width": 420
      },
      "text/plain": {
       "height": 420,
       "width": 420
      }
     },
     "output_type": "display_data"
    }
   ],
   "source": [
    "corrplot(corr.matrix, main=\"\\n\\n Correlation Plot of Smoke, Alcohol, Blood pressure, Cholesterol, and Weight\", method=\"number\")"
   ]
  },
  {
   "cell_type": "markdown",
   "metadata": {},
   "source": [
    "No any two numeric variables seem to have strong correlations."
   ]
  },
  {
   "cell_type": "markdown",
   "metadata": {},
   "source": [
    "## Logistic Regression to Predict Stroke"
   ]
  },
  {
   "cell_type": "code",
   "execution_count": 39,
   "metadata": {},
   "outputs": [
    {
     "data": {
      "text/html": [
       "<table>\n",
       "<caption>A data.frame: 6 × 6</caption>\n",
       "<thead>\n",
       "\t<tr><th></th><th scope=col>bphigh4</th><th scope=col>toldhi2</th><th scope=col>cvdstrk3</th><th scope=col>weight2</th><th scope=col>smoke100</th><th scope=col>avedrnk2</th></tr>\n",
       "\t<tr><th></th><th scope=col>&lt;fct&gt;</th><th scope=col>&lt;fct&gt;</th><th scope=col>&lt;fct&gt;</th><th scope=col>&lt;fct&gt;</th><th scope=col>&lt;fct&gt;</th><th scope=col>&lt;int&gt;</th></tr>\n",
       "</thead>\n",
       "<tbody>\n",
       "\t<tr><th scope=row>1</th><td>Yes</td><td>Yes</td><td>No</td><td>250</td><td>Yes</td><td> 2</td></tr>\n",
       "\t<tr><th scope=row>2</th><td>No </td><td>No </td><td>No</td><td>127</td><td>No </td><td>NA</td></tr>\n",
       "\t<tr><th scope=row>3</th><td>No </td><td>No </td><td>No</td><td>160</td><td>Yes</td><td> 4</td></tr>\n",
       "\t<tr><th scope=row>4</th><td>No </td><td>Yes</td><td>No</td><td>128</td><td>No </td><td> 2</td></tr>\n",
       "\t<tr><th scope=row>5</th><td>Yes</td><td>No </td><td>No</td><td>265</td><td>Yes</td><td> 2</td></tr>\n",
       "\t<tr><th scope=row>6</th><td>Yes</td><td>Yes</td><td>No</td><td>225</td><td>No </td><td>NA</td></tr>\n",
       "</tbody>\n",
       "</table>\n"
      ],
      "text/latex": [
       "A data.frame: 6 × 6\n",
       "\\begin{tabular}{r|llllll}\n",
       "  & bphigh4 & toldhi2 & cvdstrk3 & weight2 & smoke100 & avedrnk2\\\\\n",
       "  & <fct> & <fct> & <fct> & <fct> & <fct> & <int>\\\\\n",
       "\\hline\n",
       "\t1 & Yes & Yes & No & 250 & Yes &  2\\\\\n",
       "\t2 & No  & No  & No & 127 & No  & NA\\\\\n",
       "\t3 & No  & No  & No & 160 & Yes &  4\\\\\n",
       "\t4 & No  & Yes & No & 128 & No  &  2\\\\\n",
       "\t5 & Yes & No  & No & 265 & Yes &  2\\\\\n",
       "\t6 & Yes & Yes & No & 225 & No  & NA\\\\\n",
       "\\end{tabular}\n"
      ],
      "text/markdown": [
       "\n",
       "A data.frame: 6 × 6\n",
       "\n",
       "| <!--/--> | bphigh4 &lt;fct&gt; | toldhi2 &lt;fct&gt; | cvdstrk3 &lt;fct&gt; | weight2 &lt;fct&gt; | smoke100 &lt;fct&gt; | avedrnk2 &lt;int&gt; |\n",
       "|---|---|---|---|---|---|---|\n",
       "| 1 | Yes | Yes | No | 250 | Yes |  2 |\n",
       "| 2 | No  | No  | No | 127 | No  | NA |\n",
       "| 3 | No  | No  | No | 160 | Yes |  4 |\n",
       "| 4 | No  | Yes | No | 128 | No  |  2 |\n",
       "| 5 | Yes | No  | No | 265 | Yes |  2 |\n",
       "| 6 | Yes | Yes | No | 225 | No  | NA |\n",
       "\n"
      ],
      "text/plain": [
       "  bphigh4 toldhi2 cvdstrk3 weight2 smoke100 avedrnk2\n",
       "1 Yes     Yes     No       250     Yes       2      \n",
       "2 No      No      No       127     No       NA      \n",
       "3 No      No      No       160     Yes       4      \n",
       "4 No      Yes     No       128     No        2      \n",
       "5 Yes     No      No       265     Yes       2      \n",
       "6 Yes     Yes     No       225     No       NA      "
      ]
     },
     "metadata": {},
     "output_type": "display_data"
    }
   ],
   "source": [
    "# Build a Dataframe with series selected\n",
    "vars2 <- names(brfss2013) %in% c('smoke100', 'avedrnk2', 'bphigh4', 'toldhi2', 'weight2', 'cvdstrk3')\n",
    "stroke <- brfss2013[vars2]\n",
    "head(stroke)"
   ]
  },
  {
   "cell_type": "code",
   "execution_count": 40,
   "metadata": {},
   "outputs": [],
   "source": [
    "# Replace the answer “Yes, but female told only during pregnancy” and “Told borderline or pre-hypertensive” with “Yes”.\n",
    "stroke$bphigh4 <- as.factor(ifelse(stroke$bphigh4==\"Yes\", \"Yes\", \n",
    "                           (ifelse(stroke$bphigh4==\"Yes, but female told only during pregnancy\", \"Yes\", \n",
    "                           (ifelse(stroke$bphigh4==\"Told borderline or pre-hypertensive\", \"Yes\", \"No\"))))))\n",
    "\n",
    "# Transform serie weight2 in numeric\n",
    "stroke$weight2<-as.numeric(stroke$weight2)"
   ]
  },
  {
   "cell_type": "code",
   "execution_count": 41,
   "metadata": {},
   "outputs": [],
   "source": [
    "# Replace ‘NA’ values with ‘No’.\n",
    "stroke$bphigh4 <- replace(stroke$bphigh4, which(is.na(stroke$bphigh4)), \"No\")\n",
    "stroke$toldhi2 <- replace(stroke$toldhi2, which(is.na(stroke$toldhi2)), \"No\")\n",
    "stroke$cvdstrk3 <- replace(stroke$cvdstrk3, which(is.na(stroke$cvdstrk3)), \"No\")\n",
    "stroke$smoke100 <- replace(stroke$smoke100, which(is.na(stroke$smoke100)), 'No')"
   ]
  },
  {
   "cell_type": "code",
   "execution_count": 42,
   "metadata": {},
   "outputs": [
    {
     "data": {
      "text/html": [
       "2.20990548694768"
      ],
      "text/latex": [
       "2.20990548694768"
      ],
      "text/markdown": [
       "2.20990548694768"
      ],
      "text/plain": [
       "[1] 2.209905"
      ]
     },
     "metadata": {},
     "output_type": "display_data"
    }
   ],
   "source": [
    "mean(stroke$avedrnk2,na.rm = T)"
   ]
  },
  {
   "cell_type": "code",
   "execution_count": 43,
   "metadata": {},
   "outputs": [],
   "source": [
    "# Replace ‘NA’ value by average.\n",
    "stroke$avedrnk2 <- replace(stroke$avedrnk2, which(is.na(stroke$avedrnk2)), 2.21)"
   ]
  },
  {
   "cell_type": "code",
   "execution_count": 44,
   "metadata": {},
   "outputs": [
    {
     "data": {
      "text/plain": [
       " bphigh4      toldhi2      cvdstrk3        weight2       smoke100    \n",
       " No :284107   Yes:183501   Yes: 20391   Min.   :  1.00   Yes:215201  \n",
       " Yes:207668   No :308274   No :471384   1st Qu.: 43.00   No :276574  \n",
       "                                        Median : 73.00               \n",
       "                                        Mean   : 80.22               \n",
       "                                        3rd Qu.:103.00               \n",
       "                                        Max.   :570.00               \n",
       "    avedrnk2    \n",
       " Min.   : 1.00  \n",
       " 1st Qu.: 2.00  \n",
       " Median : 2.21  \n",
       " Mean   : 2.21  \n",
       " 3rd Qu.: 2.21  \n",
       " Max.   :76.00  "
      ]
     },
     "metadata": {},
     "output_type": "display_data"
    }
   ],
   "source": [
    "summary(stroke)"
   ]
  },
  {
   "cell_type": "code",
   "execution_count": 45,
   "metadata": {},
   "outputs": [
    {
     "data": {
      "text/html": [
       "<table>\n",
       "<caption>A data.frame: 6 × 6</caption>\n",
       "<thead>\n",
       "\t<tr><th></th><th scope=col>bphigh4</th><th scope=col>toldhi2</th><th scope=col>cvdstrk3</th><th scope=col>weight2</th><th scope=col>smoke100</th><th scope=col>avedrnk2</th></tr>\n",
       "\t<tr><th></th><th scope=col>&lt;fct&gt;</th><th scope=col>&lt;fct&gt;</th><th scope=col>&lt;fct&gt;</th><th scope=col>&lt;dbl&gt;</th><th scope=col>&lt;fct&gt;</th><th scope=col>&lt;dbl&gt;</th></tr>\n",
       "</thead>\n",
       "<tbody>\n",
       "\t<tr><th scope=row>1</th><td>Yes</td><td>Yes</td><td>No</td><td>154</td><td>Yes</td><td>2.00</td></tr>\n",
       "\t<tr><th scope=row>2</th><td>No </td><td>No </td><td>No</td><td> 30</td><td>No </td><td>2.21</td></tr>\n",
       "\t<tr><th scope=row>3</th><td>No </td><td>No </td><td>No</td><td> 63</td><td>Yes</td><td>4.00</td></tr>\n",
       "\t<tr><th scope=row>4</th><td>No </td><td>Yes</td><td>No</td><td> 31</td><td>No </td><td>2.00</td></tr>\n",
       "\t<tr><th scope=row>5</th><td>Yes</td><td>No </td><td>No</td><td>169</td><td>Yes</td><td>2.00</td></tr>\n",
       "\t<tr><th scope=row>6</th><td>Yes</td><td>Yes</td><td>No</td><td>128</td><td>No </td><td>2.21</td></tr>\n",
       "</tbody>\n",
       "</table>\n"
      ],
      "text/latex": [
       "A data.frame: 6 × 6\n",
       "\\begin{tabular}{r|llllll}\n",
       "  & bphigh4 & toldhi2 & cvdstrk3 & weight2 & smoke100 & avedrnk2\\\\\n",
       "  & <fct> & <fct> & <fct> & <dbl> & <fct> & <dbl>\\\\\n",
       "\\hline\n",
       "\t1 & Yes & Yes & No & 154 & Yes & 2.00\\\\\n",
       "\t2 & No  & No  & No &  30 & No  & 2.21\\\\\n",
       "\t3 & No  & No  & No &  63 & Yes & 4.00\\\\\n",
       "\t4 & No  & Yes & No &  31 & No  & 2.00\\\\\n",
       "\t5 & Yes & No  & No & 169 & Yes & 2.00\\\\\n",
       "\t6 & Yes & Yes & No & 128 & No  & 2.21\\\\\n",
       "\\end{tabular}\n"
      ],
      "text/markdown": [
       "\n",
       "A data.frame: 6 × 6\n",
       "\n",
       "| <!--/--> | bphigh4 &lt;fct&gt; | toldhi2 &lt;fct&gt; | cvdstrk3 &lt;fct&gt; | weight2 &lt;dbl&gt; | smoke100 &lt;fct&gt; | avedrnk2 &lt;dbl&gt; |\n",
       "|---|---|---|---|---|---|---|\n",
       "| 1 | Yes | Yes | No | 154 | Yes | 2.00 |\n",
       "| 2 | No  | No  | No |  30 | No  | 2.21 |\n",
       "| 3 | No  | No  | No |  63 | Yes | 4.00 |\n",
       "| 4 | No  | Yes | No |  31 | No  | 2.00 |\n",
       "| 5 | Yes | No  | No | 169 | Yes | 2.00 |\n",
       "| 6 | Yes | Yes | No | 128 | No  | 2.21 |\n",
       "\n"
      ],
      "text/plain": [
       "  bphigh4 toldhi2 cvdstrk3 weight2 smoke100 avedrnk2\n",
       "1 Yes     Yes     No       154     Yes      2.00    \n",
       "2 No      No      No        30     No       2.21    \n",
       "3 No      No      No        63     Yes      4.00    \n",
       "4 No      Yes     No        31     No       2.00    \n",
       "5 Yes     No      No       169     Yes      2.00    \n",
       "6 Yes     Yes     No       128     No       2.21    "
      ]
     },
     "metadata": {},
     "output_type": "display_data"
    }
   ],
   "source": [
    "head(stroke)"
   ]
  },
  {
   "cell_type": "code",
   "execution_count": 46,
   "metadata": {},
   "outputs": [
    {
     "data": {
      "text/html": [
       "<table>\n",
       "<caption>A data.frame: 6 × 6</caption>\n",
       "<thead>\n",
       "\t<tr><th></th><th scope=col>bphigh4</th><th scope=col>toldhi2</th><th scope=col>cvdstrk3</th><th scope=col>weight2</th><th scope=col>smoke100</th><th scope=col>avedrnk2</th></tr>\n",
       "\t<tr><th></th><th scope=col>&lt;fct&gt;</th><th scope=col>&lt;fct&gt;</th><th scope=col>&lt;dbl&gt;</th><th scope=col>&lt;dbl&gt;</th><th scope=col>&lt;fct&gt;</th><th scope=col>&lt;dbl&gt;</th></tr>\n",
       "</thead>\n",
       "<tbody>\n",
       "\t<tr><th scope=row>1</th><td>Yes</td><td>Yes</td><td>0</td><td>154</td><td>Yes</td><td>2.00</td></tr>\n",
       "\t<tr><th scope=row>2</th><td>No </td><td>No </td><td>0</td><td> 30</td><td>No </td><td>2.21</td></tr>\n",
       "\t<tr><th scope=row>3</th><td>No </td><td>No </td><td>0</td><td> 63</td><td>Yes</td><td>4.00</td></tr>\n",
       "\t<tr><th scope=row>4</th><td>No </td><td>Yes</td><td>0</td><td> 31</td><td>No </td><td>2.00</td></tr>\n",
       "\t<tr><th scope=row>5</th><td>Yes</td><td>No </td><td>0</td><td>169</td><td>Yes</td><td>2.00</td></tr>\n",
       "\t<tr><th scope=row>6</th><td>Yes</td><td>Yes</td><td>0</td><td>128</td><td>No </td><td>2.21</td></tr>\n",
       "</tbody>\n",
       "</table>\n"
      ],
      "text/latex": [
       "A data.frame: 6 × 6\n",
       "\\begin{tabular}{r|llllll}\n",
       "  & bphigh4 & toldhi2 & cvdstrk3 & weight2 & smoke100 & avedrnk2\\\\\n",
       "  & <fct> & <fct> & <dbl> & <dbl> & <fct> & <dbl>\\\\\n",
       "\\hline\n",
       "\t1 & Yes & Yes & 0 & 154 & Yes & 2.00\\\\\n",
       "\t2 & No  & No  & 0 &  30 & No  & 2.21\\\\\n",
       "\t3 & No  & No  & 0 &  63 & Yes & 4.00\\\\\n",
       "\t4 & No  & Yes & 0 &  31 & No  & 2.00\\\\\n",
       "\t5 & Yes & No  & 0 & 169 & Yes & 2.00\\\\\n",
       "\t6 & Yes & Yes & 0 & 128 & No  & 2.21\\\\\n",
       "\\end{tabular}\n"
      ],
      "text/markdown": [
       "\n",
       "A data.frame: 6 × 6\n",
       "\n",
       "| <!--/--> | bphigh4 &lt;fct&gt; | toldhi2 &lt;fct&gt; | cvdstrk3 &lt;dbl&gt; | weight2 &lt;dbl&gt; | smoke100 &lt;fct&gt; | avedrnk2 &lt;dbl&gt; |\n",
       "|---|---|---|---|---|---|---|\n",
       "| 1 | Yes | Yes | 0 | 154 | Yes | 2.00 |\n",
       "| 2 | No  | No  | 0 |  30 | No  | 2.21 |\n",
       "| 3 | No  | No  | 0 |  63 | Yes | 4.00 |\n",
       "| 4 | No  | Yes | 0 |  31 | No  | 2.00 |\n",
       "| 5 | Yes | No  | 0 | 169 | Yes | 2.00 |\n",
       "| 6 | Yes | Yes | 0 | 128 | No  | 2.21 |\n",
       "\n"
      ],
      "text/plain": [
       "  bphigh4 toldhi2 cvdstrk3 weight2 smoke100 avedrnk2\n",
       "1 Yes     Yes     0        154     Yes      2.00    \n",
       "2 No      No      0         30     No       2.21    \n",
       "3 No      No      0         63     Yes      4.00    \n",
       "4 No      Yes     0         31     No       2.00    \n",
       "5 Yes     No      0        169     Yes      2.00    \n",
       "6 Yes     Yes     0        128     No       2.21    "
      ]
     },
     "metadata": {},
     "output_type": "display_data"
    },
    {
     "data": {
      "text/html": [
       "<span style=white-space:pre-wrap>'Number of Rows:  491775'</span>"
      ],
      "text/latex": [
       "'Number of Rows:  491775'"
      ],
      "text/markdown": [
       "<span style=white-space:pre-wrap>'Number of Rows:  491775'</span>"
      ],
      "text/plain": [
       "[1] \"Number of Rows:  491775\""
      ]
     },
     "metadata": {},
     "output_type": "display_data"
    }
   ],
   "source": [
    "# Covert to binary outcome.\n",
    "stroke$cvdstrk3 <- ifelse(stroke$cvdstrk3==\"Yes\", 1, 0)\n",
    "\n",
    "head(stroke)\n",
    "\n",
    "nrows3 <- nrow(stroke)\n",
    "paste(\"Number of Rows: \", nrows3)"
   ]
  },
  {
   "cell_type": "markdown",
   "metadata": {},
   "source": [
    "### Logistic Regression Model Fitting"
   ]
  },
  {
   "cell_type": "code",
   "execution_count": 47,
   "metadata": {},
   "outputs": [],
   "source": [
    "train <- stroke[1:390000,]\n",
    "test <- stroke[390001:491775,]"
   ]
  },
  {
   "cell_type": "code",
   "execution_count": 48,
   "metadata": {},
   "outputs": [
    {
     "data": {
      "text/plain": [
       "\n",
       "Call:\n",
       "glm(formula = cvdstrk3 ~ ., family = binomial(link = \"logit\"), \n",
       "    data = train)\n",
       "\n",
       "Deviance Residuals: \n",
       "    Min       1Q   Median       3Q      Max  \n",
       "-0.5011  -0.3666  -0.2107  -0.1625   3.1191  \n",
       "\n",
       "Coefficients:\n",
       "              Estimate Std. Error  z value Pr(>|z|)    \n",
       "(Intercept) -3.3106381  0.0264120 -125.346  < 2e-16 ***\n",
       "bphigh4Yes   1.3064774  0.0193462   67.531  < 2e-16 ***\n",
       "toldhi2No   -0.5705937  0.0171500  -33.271  < 2e-16 ***\n",
       "weight2     -0.0009949  0.0001489   -6.681 2.37e-11 ***\n",
       "smoke100No  -0.3944464  0.0163780  -24.084  < 2e-16 ***\n",
       "avedrnk2    -0.0062822  0.0056728   -1.107    0.268    \n",
       "---\n",
       "Signif. codes:  0 '***' 0.001 '**' 0.01 '*' 0.05 '.' 0.1 ' ' 1\n",
       "\n",
       "(Dispersion parameter for binomial family taken to be 1)\n",
       "\n",
       "    Null deviance: 136364  on 389999  degrees of freedom\n",
       "Residual deviance: 126666  on 389994  degrees of freedom\n",
       "AIC: 126678\n",
       "\n",
       "Number of Fisher Scoring iterations: 6\n"
      ]
     },
     "metadata": {},
     "output_type": "display_data"
    }
   ],
   "source": [
    "model <- glm(cvdstrk3 ~.,family=binomial(link = 'logit'),data=train)\n",
    "summary(model)"
   ]
  },
  {
   "cell_type": "markdown",
   "metadata": {},
   "source": [
    "**Interpreting the results of the logistic regression model:**\n",
    "\n",
    "    All the variables are statistically significant.\n",
    "\n",
    "    All other variables being equal, being told blood pressure high is more likely to have a stroke.\n",
    "\n",
    "    The negative coefficient for the predictor - toldhi2No suggests that all other variables being equal, not being told blood cholesterol high is less likely to have a stroke.\n",
    "\n",
    "    For every one unit change in weight, the log odds of having a stroke (versus no-stroke) decreases by 0.00096.\n",
    "\n",
    "    Not Smoked At Least 100 Cigarettes, less likely to have a stroke.\n",
    "\n",
    "    For a one unit increase in Avg alcoholic drinks per day in past 30 days, the log odds of having a stroke decreases by 0.027."
   ]
  },
  {
   "cell_type": "code",
   "execution_count": 49,
   "metadata": {},
   "outputs": [
    {
     "data": {
      "text/html": [
       "<table>\n",
       "<caption>A anova: 6 × 5</caption>\n",
       "<thead>\n",
       "\t<tr><th></th><th scope=col>Df</th><th scope=col>Deviance</th><th scope=col>Resid. Df</th><th scope=col>Resid. Dev</th><th scope=col>Pr(&gt;Chi)</th></tr>\n",
       "\t<tr><th></th><th scope=col>&lt;int&gt;</th><th scope=col>&lt;dbl&gt;</th><th scope=col>&lt;int&gt;</th><th scope=col>&lt;dbl&gt;</th><th scope=col>&lt;dbl&gt;</th></tr>\n",
       "</thead>\n",
       "<tbody>\n",
       "\t<tr><th scope=row>NULL</th><td>NA</td><td>         NA</td><td>389999</td><td>136364.2</td><td>           NA</td></tr>\n",
       "\t<tr><th scope=row>bphigh4</th><td> 1</td><td>7848.644164</td><td>389998</td><td>128515.5</td><td> 0.000000e+00</td></tr>\n",
       "\t<tr><th scope=row>toldhi2</th><td> 1</td><td>1230.074132</td><td>389997</td><td>127285.5</td><td>1.775899e-269</td></tr>\n",
       "\t<tr><th scope=row>weight2</th><td> 1</td><td>  33.168088</td><td>389996</td><td>127252.3</td><td> 8.452641e-09</td></tr>\n",
       "\t<tr><th scope=row>smoke100</th><td> 1</td><td> 584.549407</td><td>389995</td><td>126667.8</td><td>3.841482e-129</td></tr>\n",
       "\t<tr><th scope=row>avedrnk2</th><td> 1</td><td>   1.266506</td><td>389994</td><td>126666.5</td><td> 2.604231e-01</td></tr>\n",
       "</tbody>\n",
       "</table>\n"
      ],
      "text/latex": [
       "A anova: 6 × 5\n",
       "\\begin{tabular}{r|lllll}\n",
       "  & Df & Deviance & Resid. Df & Resid. Dev & Pr(>Chi)\\\\\n",
       "  & <int> & <dbl> & <int> & <dbl> & <dbl>\\\\\n",
       "\\hline\n",
       "\tNULL & NA &          NA & 389999 & 136364.2 &            NA\\\\\n",
       "\tbphigh4 &  1 & 7848.644164 & 389998 & 128515.5 &  0.000000e+00\\\\\n",
       "\ttoldhi2 &  1 & 1230.074132 & 389997 & 127285.5 & 1.775899e-269\\\\\n",
       "\tweight2 &  1 &   33.168088 & 389996 & 127252.3 &  8.452641e-09\\\\\n",
       "\tsmoke100 &  1 &  584.549407 & 389995 & 126667.8 & 3.841482e-129\\\\\n",
       "\tavedrnk2 &  1 &    1.266506 & 389994 & 126666.5 &  2.604231e-01\\\\\n",
       "\\end{tabular}\n"
      ],
      "text/markdown": [
       "\n",
       "A anova: 6 × 5\n",
       "\n",
       "| <!--/--> | Df &lt;int&gt; | Deviance &lt;dbl&gt; | Resid. Df &lt;int&gt; | Resid. Dev &lt;dbl&gt; | Pr(&gt;Chi) &lt;dbl&gt; |\n",
       "|---|---|---|---|---|---|\n",
       "| NULL | NA |          NA | 389999 | 136364.2 |            NA |\n",
       "| bphigh4 |  1 | 7848.644164 | 389998 | 128515.5 |  0.000000e+00 |\n",
       "| toldhi2 |  1 | 1230.074132 | 389997 | 127285.5 | 1.775899e-269 |\n",
       "| weight2 |  1 |   33.168088 | 389996 | 127252.3 |  8.452641e-09 |\n",
       "| smoke100 |  1 |  584.549407 | 389995 | 126667.8 | 3.841482e-129 |\n",
       "| avedrnk2 |  1 |    1.266506 | 389994 | 126666.5 |  2.604231e-01 |\n",
       "\n"
      ],
      "text/plain": [
       "         Df Deviance    Resid. Df Resid. Dev Pr(>Chi)     \n",
       "NULL     NA          NA 389999    136364.2              NA\n",
       "bphigh4   1 7848.644164 389998    128515.5    0.000000e+00\n",
       "toldhi2   1 1230.074132 389997    127285.5   1.775899e-269\n",
       "weight2   1   33.168088 389996    127252.3    8.452641e-09\n",
       "smoke100  1  584.549407 389995    126667.8   3.841482e-129\n",
       "avedrnk2  1    1.266506 389994    126666.5    2.604231e-01"
      ]
     },
     "metadata": {},
     "output_type": "display_data"
    }
   ],
   "source": [
    "anova(model, test=\"Chisq\")"
   ]
  },
  {
   "cell_type": "markdown",
   "metadata": {},
   "source": [
    "Analyzing the deviance table, we can see the drop in deviance when adding each variable one at a time. Adding bphigh4, toldhi2, smoke100 significantly reduces the residual deviance. The other variables weight2 and avedrnk2 seem to imrove the model less even though they all have low p-values."
   ]
  },
  {
   "cell_type": "markdown",
   "metadata": {},
   "source": [
    "### Assessing the predictive ability of the model"
   ]
  },
  {
   "cell_type": "code",
   "execution_count": 50,
   "metadata": {},
   "outputs": [
    {
     "name": "stdout",
     "output_type": "stream",
     "text": [
      "[1] \"Accuracy 0.961296978629329\"\n"
     ]
    }
   ],
   "source": [
    "fitted.results <- predict(model,newdata=test,type='response')\n",
    "fitted.results <- ifelse(fitted.results > 0.5,1,0)\n",
    "\n",
    "misClasificError <- mean(fitted.results != test$cvdstrk3)\n",
    "print(paste('Accuracy',1-misClasificError))"
   ]
  },
  {
   "cell_type": "markdown",
   "metadata": {},
   "source": [
    "The 0.96 accuracy on the test set is a very good result."
   ]
  },
  {
   "cell_type": "markdown",
   "metadata": {},
   "source": [
    "### Plot the ROC curve and calculate the AUC (area under the curve)"
   ]
  },
  {
   "cell_type": "code",
   "execution_count": 51,
   "metadata": {},
   "outputs": [
    {
     "data": {
      "image/png": "[encoded data removed]",
      "text/plain": [
       "plot without title"
      ]
     },
     "metadata": {
      "image/png": {
       "height": 420,
       "width": 420
      },
      "text/plain": {
       "height": 420,
       "width": 420
      }
     },
     "output_type": "display_data"
    }
   ],
   "source": [
    "p <- predict(model, newdata=test, type=\"response\")\n",
    "pr <- prediction(p, test$cvdstrk3)\n",
    "prf <- performance(pr, measure = \"tpr\", x.measure = \"fpr\")\n",
    "plot(prf)"
   ]
  },
  {
   "cell_type": "code",
   "execution_count": 52,
   "metadata": {},
   "outputs": [
    {
     "data": {
      "text/html": [
       "0.722096115512165"
      ],
      "text/latex": [
       "0.722096115512165"
      ],
      "text/markdown": [
       "0.722096115512165"
      ],
      "text/plain": [
       "[1] 0.7220961"
      ]
     },
     "metadata": {},
     "output_type": "display_data"
    }
   ],
   "source": [
    "auc <- performance(pr, measure = \"auc\")\n",
    "auc <- auc@y.values[[1]]\n",
    "auc"
   ]
  }
 ],
 "metadata": {
  "kernelspec": {
   "display_name": "R",
   "language": "R",
   "name": "ir"
  },
  "language_info": {
   "codemirror_mode": "r",
   "file_extension": ".r",
   "mimetype": "text/x-r-source",
   "name": "R",
   "pygments_lexer": "r",
   "version": "3.6.3"
  }
 },
 "nbformat": 4,
 "nbformat_minor": 4
}
