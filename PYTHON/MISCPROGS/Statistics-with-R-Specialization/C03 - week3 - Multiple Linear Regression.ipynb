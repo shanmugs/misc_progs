{
 "cells": [
  {
   "cell_type": "markdown",
   "metadata": {},
   "source": [
    "# Multiple Linear Regression"
   ]
  },
  {
   "cell_type": "markdown",
   "metadata": {},
   "source": [
    "## Grading the Professor\n",
    "\n",
    "Many college courses conclude by giving students the opportunity to evaluate the course and the instructor anonymously. However, the use of these student evaluations as an indicator of course quality and teaching effectiveness is often criticized because these measures may reflect the influence of non-teaching related characteristics, such as the physical appearance of the instructor. The article titled, \"Beauty in the classroom: instructors' pulchritude and putative pedagogical productivity\" found that instructors who are viewed to be better looking receive higher instructional ratings.\n",
    "\n",
    "Reference: https://www.sciencedirect.com/science/article/abs/pii/S0272775704001165\n",
    "\n",
    "In this lab we will analyze the data from this study in order to learn what goes into a positive professor evaluation."
   ]
  },
  {
   "cell_type": "markdown",
   "metadata": {},
   "source": [
    "<img src=\"images/ProfessorStudents.jpg\"/>"
   ]
  },
  {
   "cell_type": "markdown",
   "metadata": {},
   "source": [
    "## The Data\n",
    "\n",
    "The data were gathered from end of semester student evaluations for a large sample of professors from the University of Texas at Austin. In addition, six students rated the professors' physical appearance. (This is a slightly modified version of the original data set that was released as part of the replication data for *Data Analysis Using Regression and Multilevel/Hierarchical Models*) The result is a data frame where each row contains a different course and columns represent variables about the courses and professors.\n",
    "\n",
    "variable         | description\n",
    "---------------- | -----------\n",
    "`score`          | average professor evaluation score: (1) very unsatisfactory - (5) excellent.\n",
    "`rank`           | rank of professor: teaching, tenure track, tenured.\n",
    "`ethnicity`      | ethnicity of professor: not minority, minority.\n",
    "`gender`         | gender of professor: female, male.\n",
    "`language`       | language of school where professor received education: english or non-english.\n",
    "`age`            | age of professor.\n",
    "`cls_perc_eval`  | percent of students in class who completed evaluation.\n",
    "`cls_did_eval`   | number of students in class who completed evaluation.\n",
    "`cls_students`   | total number of students in class.\n",
    "`cls_level`      | class level: lower, upper.\n",
    "`cls_profs`      | number of professors teaching sections in course in sample: single, multiple.\n",
    "`cls_credits`    | number of credits of class: one credit (lab, PE, etc.), multi credit.\n",
    "`bty_f1lower`    | beauty rating of professor from lower level female: (1) lowest - (10) highest.\n",
    "`bty_f1upper`    | beauty rating of professor from upper level female: (1) lowest - (10) highest.\n",
    "`bty_f2upper`    | beauty rating of professor from second upper level female: (1) lowest - (10) highest.\n",
    "`bty_m1lower`    | beauty rating of professor from lower level male: (1) lowest - (10) highest.\n",
    "`bty_m1upper`    | beauty rating of professor from upper level male: (1) lowest - (10) highest.\n",
    "`bty_m2upper`    | beauty rating of professor from second upper level male: (1) lowest - (10) highest.\n",
    "`bty_avg`        | average beauty rating of professor.\n",
    "`pic_outfit`     | outfit of professor in picture: not formal, formal.\n",
    "`pic_color`      | color of professor's picture: color, black & white."
   ]
  },
  {
   "cell_type": "markdown",
   "metadata": {},
   "source": [
    "### Load Libraries"
   ]
  },
  {
   "cell_type": "code",
   "execution_count": 1,
   "metadata": {},
   "outputs": [
    {
     "name": "stderr",
     "output_type": "stream",
     "text": [
      "\n",
      "Attaching package: 'dplyr'\n",
      "\n",
      "\n",
      "The following objects are masked from 'package:stats':\n",
      "\n",
      "    filter, lag\n",
      "\n",
      "\n",
      "The following objects are masked from 'package:base':\n",
      "\n",
      "    intersect, setdiff, setequal, union\n",
      "\n",
      "\n",
      "Registered S3 method overwritten by 'GGally':\n",
      "  method from   \n",
      "  +.gg   ggplot2\n",
      "\n"
     ]
    }
   ],
   "source": [
    "#install.packages(\"package\")\n",
    "#library(tidyr)\n",
    "library(statsr)\n",
    "library(dplyr)\n",
    "library(ggplot2)\n",
    "library(GGally)"
   ]
  },
  {
   "cell_type": "markdown",
   "metadata": {},
   "source": [
    "### Load Data"
   ]
  },
  {
   "cell_type": "code",
   "execution_count": 2,
   "metadata": {},
   "outputs": [
    {
     "data": {
      "text/html": [
       "<table>\n",
       "<caption>A tibble: 6 × 21</caption>\n",
       "<thead>\n",
       "\t<tr><th scope=col>score</th><th scope=col>rank</th><th scope=col>ethnicity</th><th scope=col>gender</th><th scope=col>language</th><th scope=col>age</th><th scope=col>cls_perc_eval</th><th scope=col>cls_did_eval</th><th scope=col>cls_students</th><th scope=col>cls_level</th><th scope=col>⋯</th><th scope=col>cls_credits</th><th scope=col>bty_f1lower</th><th scope=col>bty_f1upper</th><th scope=col>bty_f2upper</th><th scope=col>bty_m1lower</th><th scope=col>bty_m1upper</th><th scope=col>bty_m2upper</th><th scope=col>bty_avg</th><th scope=col>pic_outfit</th><th scope=col>pic_color</th></tr>\n",
       "\t<tr><th scope=col>&lt;dbl&gt;</th><th scope=col>&lt;fct&gt;</th><th scope=col>&lt;fct&gt;</th><th scope=col>&lt;fct&gt;</th><th scope=col>&lt;fct&gt;</th><th scope=col>&lt;int&gt;</th><th scope=col>&lt;dbl&gt;</th><th scope=col>&lt;int&gt;</th><th scope=col>&lt;int&gt;</th><th scope=col>&lt;fct&gt;</th><th scope=col>⋯</th><th scope=col>&lt;fct&gt;</th><th scope=col>&lt;int&gt;</th><th scope=col>&lt;int&gt;</th><th scope=col>&lt;int&gt;</th><th scope=col>&lt;int&gt;</th><th scope=col>&lt;int&gt;</th><th scope=col>&lt;int&gt;</th><th scope=col>&lt;dbl&gt;</th><th scope=col>&lt;fct&gt;</th><th scope=col>&lt;fct&gt;</th></tr>\n",
       "</thead>\n",
       "<tbody>\n",
       "\t<tr><td>4.7</td><td>tenure track</td><td>minority    </td><td>female</td><td>english</td><td>36</td><td>55.81395</td><td>24</td><td> 43</td><td>upper</td><td>⋯</td><td>multi credit</td><td>5</td><td>7</td><td>6</td><td>2</td><td>4</td><td>6</td><td>5</td><td>not formal</td><td>color</td></tr>\n",
       "\t<tr><td>4.1</td><td>tenure track</td><td>minority    </td><td>female</td><td>english</td><td>36</td><td>68.80000</td><td>86</td><td>125</td><td>upper</td><td>⋯</td><td>multi credit</td><td>5</td><td>7</td><td>6</td><td>2</td><td>4</td><td>6</td><td>5</td><td>not formal</td><td>color</td></tr>\n",
       "\t<tr><td>3.9</td><td>tenure track</td><td>minority    </td><td>female</td><td>english</td><td>36</td><td>60.80000</td><td>76</td><td>125</td><td>upper</td><td>⋯</td><td>multi credit</td><td>5</td><td>7</td><td>6</td><td>2</td><td>4</td><td>6</td><td>5</td><td>not formal</td><td>color</td></tr>\n",
       "\t<tr><td>4.8</td><td>tenure track</td><td>minority    </td><td>female</td><td>english</td><td>36</td><td>62.60163</td><td>77</td><td>123</td><td>upper</td><td>⋯</td><td>multi credit</td><td>5</td><td>7</td><td>6</td><td>2</td><td>4</td><td>6</td><td>5</td><td>not formal</td><td>color</td></tr>\n",
       "\t<tr><td>4.6</td><td>tenured     </td><td>not minority</td><td>male  </td><td>english</td><td>59</td><td>85.00000</td><td>17</td><td> 20</td><td>upper</td><td>⋯</td><td>multi credit</td><td>4</td><td>4</td><td>2</td><td>2</td><td>3</td><td>3</td><td>3</td><td>not formal</td><td>color</td></tr>\n",
       "\t<tr><td>4.3</td><td>tenured     </td><td>not minority</td><td>male  </td><td>english</td><td>59</td><td>87.50000</td><td>35</td><td> 40</td><td>upper</td><td>⋯</td><td>multi credit</td><td>4</td><td>4</td><td>2</td><td>2</td><td>3</td><td>3</td><td>3</td><td>not formal</td><td>color</td></tr>\n",
       "</tbody>\n",
       "</table>\n"
      ],
      "text/latex": [
       "A tibble: 6 × 21\n",
       "\\begin{tabular}{lllllllllllllllllllll}\n",
       " score & rank & ethnicity & gender & language & age & cls\\_perc\\_eval & cls\\_did\\_eval & cls\\_students & cls\\_level & ⋯ & cls\\_credits & bty\\_f1lower & bty\\_f1upper & bty\\_f2upper & bty\\_m1lower & bty\\_m1upper & bty\\_m2upper & bty\\_avg & pic\\_outfit & pic\\_color\\\\\n",
       " <dbl> & <fct> & <fct> & <fct> & <fct> & <int> & <dbl> & <int> & <int> & <fct> & ⋯ & <fct> & <int> & <int> & <int> & <int> & <int> & <int> & <dbl> & <fct> & <fct>\\\\\n",
       "\\hline\n",
       "\t 4.7 & tenure track & minority     & female & english & 36 & 55.81395 & 24 &  43 & upper & ⋯ & multi credit & 5 & 7 & 6 & 2 & 4 & 6 & 5 & not formal & color\\\\\n",
       "\t 4.1 & tenure track & minority     & female & english & 36 & 68.80000 & 86 & 125 & upper & ⋯ & multi credit & 5 & 7 & 6 & 2 & 4 & 6 & 5 & not formal & color\\\\\n",
       "\t 3.9 & tenure track & minority     & female & english & 36 & 60.80000 & 76 & 125 & upper & ⋯ & multi credit & 5 & 7 & 6 & 2 & 4 & 6 & 5 & not formal & color\\\\\n",
       "\t 4.8 & tenure track & minority     & female & english & 36 & 62.60163 & 77 & 123 & upper & ⋯ & multi credit & 5 & 7 & 6 & 2 & 4 & 6 & 5 & not formal & color\\\\\n",
       "\t 4.6 & tenured      & not minority & male   & english & 59 & 85.00000 & 17 &  20 & upper & ⋯ & multi credit & 4 & 4 & 2 & 2 & 3 & 3 & 3 & not formal & color\\\\\n",
       "\t 4.3 & tenured      & not minority & male   & english & 59 & 87.50000 & 35 &  40 & upper & ⋯ & multi credit & 4 & 4 & 2 & 2 & 3 & 3 & 3 & not formal & color\\\\\n",
       "\\end{tabular}\n"
      ],
      "text/markdown": [
       "\n",
       "A tibble: 6 × 21\n",
       "\n",
       "| score &lt;dbl&gt; | rank &lt;fct&gt; | ethnicity &lt;fct&gt; | gender &lt;fct&gt; | language &lt;fct&gt; | age &lt;int&gt; | cls_perc_eval &lt;dbl&gt; | cls_did_eval &lt;int&gt; | cls_students &lt;int&gt; | cls_level &lt;fct&gt; | ⋯ ⋯ | cls_credits &lt;fct&gt; | bty_f1lower &lt;int&gt; | bty_f1upper &lt;int&gt; | bty_f2upper &lt;int&gt; | bty_m1lower &lt;int&gt; | bty_m1upper &lt;int&gt; | bty_m2upper &lt;int&gt; | bty_avg &lt;dbl&gt; | pic_outfit &lt;fct&gt; | pic_color &lt;fct&gt; |\n",
       "|---|---|---|---|---|---|---|---|---|---|---|---|---|---|---|---|---|---|---|---|---|\n",
       "| 4.7 | tenure track | minority     | female | english | 36 | 55.81395 | 24 |  43 | upper | ⋯ | multi credit | 5 | 7 | 6 | 2 | 4 | 6 | 5 | not formal | color |\n",
       "| 4.1 | tenure track | minority     | female | english | 36 | 68.80000 | 86 | 125 | upper | ⋯ | multi credit | 5 | 7 | 6 | 2 | 4 | 6 | 5 | not formal | color |\n",
       "| 3.9 | tenure track | minority     | female | english | 36 | 60.80000 | 76 | 125 | upper | ⋯ | multi credit | 5 | 7 | 6 | 2 | 4 | 6 | 5 | not formal | color |\n",
       "| 4.8 | tenure track | minority     | female | english | 36 | 62.60163 | 77 | 123 | upper | ⋯ | multi credit | 5 | 7 | 6 | 2 | 4 | 6 | 5 | not formal | color |\n",
       "| 4.6 | tenured      | not minority | male   | english | 59 | 85.00000 | 17 |  20 | upper | ⋯ | multi credit | 4 | 4 | 2 | 2 | 3 | 3 | 3 | not formal | color |\n",
       "| 4.3 | tenured      | not minority | male   | english | 59 | 87.50000 | 35 |  40 | upper | ⋯ | multi credit | 4 | 4 | 2 | 2 | 3 | 3 | 3 | not formal | color |\n",
       "\n"
      ],
      "text/plain": [
       "  score rank         ethnicity    gender language age cls_perc_eval\n",
       "1 4.7   tenure track minority     female english  36  55.81395     \n",
       "2 4.1   tenure track minority     female english  36  68.80000     \n",
       "3 3.9   tenure track minority     female english  36  60.80000     \n",
       "4 4.8   tenure track minority     female english  36  62.60163     \n",
       "5 4.6   tenured      not minority male   english  59  85.00000     \n",
       "6 4.3   tenured      not minority male   english  59  87.50000     \n",
       "  cls_did_eval cls_students cls_level <U+22EF>        cls_credits  bty_f1lower\n",
       "1 24            43          upper     <U+22EF> multi credit 5          \n",
       "2 86           125          upper     <U+22EF> multi credit 5          \n",
       "3 76           125          upper     <U+22EF> multi credit 5          \n",
       "4 77           123          upper     <U+22EF> multi credit 5          \n",
       "5 17            20          upper     <U+22EF> multi credit 4          \n",
       "6 35            40          upper     <U+22EF> multi credit 4          \n",
       "  bty_f1upper bty_f2upper bty_m1lower bty_m1upper bty_m2upper bty_avg\n",
       "1 7           6           2           4           6           5      \n",
       "2 7           6           2           4           6           5      \n",
       "3 7           6           2           4           6           5      \n",
       "4 7           6           2           4           6           5      \n",
       "5 4           2           2           3           3           3      \n",
       "6 4           2           2           3           3           3      \n",
       "  pic_outfit pic_color\n",
       "1 not formal color    \n",
       "2 not formal color    \n",
       "3 not formal color    \n",
       "4 not formal color    \n",
       "5 not formal color    \n",
       "6 not formal color    "
      ]
     },
     "metadata": {},
     "output_type": "display_data"
    }
   ],
   "source": [
    "data(evals)\n",
    "head(evals)"
   ]
  },
  {
   "cell_type": "markdown",
   "metadata": {},
   "source": [
    "**1. Is this an observational study or an experiment?**"
   ]
  },
  {
   "cell_type": "markdown",
   "metadata": {},
   "source": [
    "    Answer: Observational study"
   ]
  },
  {
   "cell_type": "markdown",
   "metadata": {},
   "source": [
    "**2. The original research question posed in the paper is whether beauty leads directly to the differences in course evaluations.  Given the study design, should the question be rephrased? If so, how?**"
   ]
  },
  {
   "cell_type": "markdown",
   "metadata": {},
   "source": [
    "    Answer: Yes, revise wording to \"Is there an association between beauty and course evaluations?\""
   ]
  },
  {
   "cell_type": "markdown",
   "metadata": {},
   "source": [
    "### Exploring the Data\n",
    "\n",
    "**3. Which of the following statements is `TRUE` about the distribution of `score`?**"
   ]
  },
  {
   "cell_type": "code",
   "execution_count": 3,
   "metadata": {},
   "outputs": [
    {
     "data": {
      "image/png": "[encoded data removed]",
      "text/plain": [
       "Plot with title \"Histogram of evals$score\""
      ]
     },
     "metadata": {
      "image/png": {
       "height": 420,
       "width": 420
      },
      "text/plain": {
       "height": 420,
       "width": 420
      }
     },
     "output_type": "display_data"
    }
   ],
   "source": [
    "hist(evals$score)"
   ]
  },
  {
   "cell_type": "code",
   "execution_count": 4,
   "metadata": {},
   "outputs": [
    {
     "data": {
      "text/plain": [
       "   Min. 1st Qu.  Median    Mean 3rd Qu.    Max. \n",
       "  2.300   3.800   4.300   4.175   4.600   5.000 "
      ]
     },
     "metadata": {},
     "output_type": "display_data"
    }
   ],
   "source": [
    "summary(evals$score)"
   ]
  },
  {
   "cell_type": "markdown",
   "metadata": {},
   "source": [
    "Answer:\n",
    "\n",
    "    The median of the distribution is 4.3.\n",
    "    25% of the students gave their professors a score of over 4.6.\n",
    "    11 of students gave a professor a score below 3."
   ]
  },
  {
   "cell_type": "markdown",
   "metadata": {},
   "source": [
    "**Exercise:** Excluding `score`, select two other variables and describe their relationship using an appropriate visualization (scatterplot, side-by-side boxplots, or mosaic plot)."
   ]
  },
  {
   "cell_type": "code",
   "execution_count": 5,
   "metadata": {},
   "outputs": [
    {
     "name": "stderr",
     "output_type": "stream",
     "text": [
      "`geom_smooth()` using formula 'y ~ x'\n",
      "\n"
     ]
    },
    {
     "data": {
      "image/png": "[encoded data removed]",
      "text/plain": [
       "plot without title"
      ]
     },
     "metadata": {
      "image/png": {
       "height": 420,
       "width": 420
      },
      "text/plain": {
       "height": 420,
       "width": 420
      }
     },
     "output_type": "display_data"
    }
   ],
   "source": [
    "ggplot(aes(x=age, y=bty_avg), data=evals) + \n",
    "    geom_point() + \n",
    "    stat_smooth(method='lm', se=FALSE)"
   ]
  },
  {
   "cell_type": "code",
   "execution_count": 6,
   "metadata": {},
   "outputs": [
    {
     "data": {
      "image/png": "[encoded data removed]",
      "text/plain": [
       "plot without title"
      ]
     },
     "metadata": {
      "image/png": {
       "height": 420,
       "width": 420
      },
      "text/plain": {
       "height": 420,
       "width": 420
      }
     },
     "output_type": "display_data"
    }
   ],
   "source": [
    "ggplot(aes(x=gender, y=bty_avg), data=evals) + \n",
    "    geom_boxplot()"
   ]
  },
  {
   "cell_type": "code",
   "execution_count": 7,
   "metadata": {},
   "outputs": [
    {
     "data": {
      "image/png": "[encoded data removed]",
      "text/plain": [
       "Plot with title \"table(evals$ethnicity, evals$rank)\""
      ]
     },
     "metadata": {
      "image/png": {
       "height": 420,
       "width": 420
      },
      "text/plain": {
       "height": 420,
       "width": 420
      }
     },
     "output_type": "display_data"
    }
   ],
   "source": [
    "plot(table(evals$ethnicity, evals$rank))"
   ]
  },
  {
   "cell_type": "markdown",
   "metadata": {},
   "source": [
    "## Simple Linear Regression\n",
    "\n",
    "The fundamental phenomenon suggested by the study is that better looking teachers are evaluated more favorably. Let's create a scatterplot to see if this appears to be the case:"
   ]
  },
  {
   "cell_type": "code",
   "execution_count": 8,
   "metadata": {},
   "outputs": [
    {
     "data": {
      "image/png": "[encoded data removed]",
      "text/plain": [
       "plot without title"
      ]
     },
     "metadata": {
      "image/png": {
       "height": 420,
       "width": 420
      },
      "text/plain": {
       "height": 420,
       "width": 420
      }
     },
     "output_type": "display_data"
    }
   ],
   "source": [
    "ggplot(data = evals, aes(x = bty_avg, y = score)) +\n",
    "  geom_point()"
   ]
  },
  {
   "cell_type": "markdown",
   "metadata": {},
   "source": [
    "Before we draw conclusions about the trend, compare the number of observations in the data frame with the approximate number of points on the scatterplot. Is anything awry?"
   ]
  },
  {
   "cell_type": "markdown",
   "metadata": {},
   "source": [
    "**Exercise:** Replot the scatterplot, but this time replace the `geom_point()` layer with a `geom_jitter()` layer. (Use `?geom_jitter` to learn more.)  What was misleading about the initial scatterplot?"
   ]
  },
  {
   "cell_type": "code",
   "execution_count": 9,
   "metadata": {},
   "outputs": [
    {
     "data": {
      "image/png": "[encoded data removed]",
      "text/plain": [
       "plot without title"
      ]
     },
     "metadata": {
      "image/png": {
       "height": 420,
       "width": 420
      },
      "text/plain": {
       "height": 420,
       "width": 420
      }
     },
     "output_type": "display_data"
    }
   ],
   "source": [
    "ggplot(aes(x=bty_avg, y=score), data=evals)+\n",
    "    geom_jitter()"
   ]
  },
  {
   "cell_type": "markdown",
   "metadata": {},
   "source": [
    "Let's see if the apparent trend in the plot is something more than natural variation.  Fit a linear model called `m_bty` to predict average professor score by average beauty rating and add the line to your plot using the following. If you do not remember how to do this, refer to the previous lab."
   ]
  },
  {
   "cell_type": "code",
   "execution_count": 10,
   "metadata": {},
   "outputs": [
    {
     "name": "stderr",
     "output_type": "stream",
     "text": [
      "`geom_smooth()` using formula 'y ~ x'\n",
      "\n"
     ]
    },
    {
     "data": {
      "image/png": "[encoded data removed]",
      "text/plain": [
       "plot without title"
      ]
     },
     "metadata": {
      "image/png": {
       "height": 420,
       "width": 420
      },
      "text/plain": {
       "height": 420,
       "width": 420
      }
     },
     "output_type": "display_data"
    }
   ],
   "source": [
    "ggplot(data = evals, aes(x = bty_avg, y = score)) +\n",
    "  geom_jitter() +\n",
    "  geom_smooth(method = \"lm\")"
   ]
  },
  {
   "cell_type": "markdown",
   "metadata": {},
   "source": [
    "The blue line is the model. The shaded gray area around the line tells us about the variability we might expect in our predictions. To turn that off, use `se = FALSE`."
   ]
  },
  {
   "cell_type": "code",
   "execution_count": 11,
   "metadata": {},
   "outputs": [
    {
     "name": "stderr",
     "output_type": "stream",
     "text": [
      "`geom_smooth()` using formula 'y ~ x'\n",
      "\n"
     ]
    },
    {
     "data": {
      "image/png": "[encoded data removed]",
      "text/plain": [
       "plot without title"
      ]
     },
     "metadata": {
      "image/png": {
       "height": 420,
       "width": 420
      },
      "text/plain": {
       "height": 420,
       "width": 420
      }
     },
     "output_type": "display_data"
    }
   ],
   "source": [
    "ggplot(data = evals, aes(x = bty_avg, y = score)) +\n",
    "  geom_jitter() +\n",
    "  geom_smooth(method = \"lm\", se = FALSE)"
   ]
  },
  {
   "cell_type": "markdown",
   "metadata": {},
   "source": [
    "**Exercise:** Print a summary of the linear model, write out the equation, and interpret the slope."
   ]
  },
  {
   "cell_type": "code",
   "execution_count": 12,
   "metadata": {},
   "outputs": [
    {
     "data": {
      "text/plain": [
       "\n",
       "Call:\n",
       "lm(formula = score ~ bty_avg, data = evals)\n",
       "\n",
       "Residuals:\n",
       "    Min      1Q  Median      3Q     Max \n",
       "-1.9246 -0.3690  0.1420  0.3977  0.9309 \n",
       "\n",
       "Coefficients:\n",
       "            Estimate Std. Error t value Pr(>|t|)    \n",
       "(Intercept)  3.88034    0.07614   50.96  < 2e-16 ***\n",
       "bty_avg      0.06664    0.01629    4.09 5.08e-05 ***\n",
       "---\n",
       "Signif. codes:  0 '***' 0.001 '**' 0.01 '*' 0.05 '.' 0.1 ' ' 1\n",
       "\n",
       "Residual standard error: 0.5348 on 461 degrees of freedom\n",
       "Multiple R-squared:  0.03502,\tAdjusted R-squared:  0.03293 \n",
       "F-statistic: 16.73 on 1 and 461 DF,  p-value: 5.083e-05\n"
      ]
     },
     "metadata": {},
     "output_type": "display_data"
    }
   ],
   "source": [
    "m_bty <- lm(score ~ bty_avg, data=evals)\n",
    "\n",
    "summary(m_bty)"
   ]
  },
  {
   "cell_type": "markdown",
   "metadata": {},
   "source": [
    "**4. Average beauty score is a statistically significant predictor of evaluation score.**"
   ]
  },
  {
   "cell_type": "markdown",
   "metadata": {},
   "source": [
    "    Answer: True."
   ]
  },
  {
   "cell_type": "markdown",
   "metadata": {},
   "source": [
    "**5. Use residual plots to evaluate whether the conditions of least squares regression are reasonable.  Which of the following statements is an `correct` analysis of the residual plots and conditions?**"
   ]
  },
  {
   "cell_type": "code",
   "execution_count": 13,
   "metadata": {},
   "outputs": [
    {
     "data": {
      "image/png": "[encoded data removed]",
      "text/plain": [
       "plot without title"
      ]
     },
     "metadata": {
      "image/png": {
       "height": 420,
       "width": 420
      },
      "text/plain": {
       "height": 420,
       "width": 420
      }
     },
     "output_type": "display_data"
    }
   ],
   "source": [
    "ggplot(data = m_bty, aes(x = .fitted, y = .resid)) +\n",
    "  geom_point() +\n",
    "  geom_hline(yintercept = 0, linetype = \"dashed\") +\n",
    "  xlab(\"Fitted values\") +\n",
    "  ylab(\"Residuals\")"
   ]
  },
  {
   "cell_type": "code",
   "execution_count": 14,
   "metadata": {},
   "outputs": [
    {
     "data": {
      "image/png": "[encoded data removed]",
      "text/plain": [
       "plot without title"
      ]
     },
     "metadata": {
      "image/png": {
       "height": 420,
       "width": 420
      },
      "text/plain": {
       "height": 420,
       "width": 420
      }
     },
     "output_type": "display_data"
    }
   ],
   "source": [
    "plot(m_bty$residuals ~ evals$bty_avg)"
   ]
  },
  {
   "cell_type": "code",
   "execution_count": 15,
   "metadata": {},
   "outputs": [
    {
     "data": {
      "image/png": "[encoded data removed]",
      "text/plain": [
       "Plot with title \"Histogram of m_bty$residuals\""
      ]
     },
     "metadata": {
      "image/png": {
       "height": 420,
       "width": 420
      },
      "text/plain": {
       "height": 420,
       "width": 420
      }
     },
     "output_type": "display_data"
    }
   ],
   "source": [
    "hist(m_bty$residuals)"
   ]
  },
  {
   "cell_type": "code",
   "execution_count": 16,
   "metadata": {},
   "outputs": [
    {
     "data": {
      "image/png": "[encoded data removed]",
      "text/plain": [
       "Plot with title \"Normal Q-Q Plot\""
      ]
     },
     "metadata": {
      "image/png": {
       "height": 420,
       "width": 420
      },
      "text/plain": {
       "height": 420,
       "width": 420
      }
     },
     "output_type": "display_data"
    }
   ],
   "source": [
    "qqnorm(m_bty$residuals)\n",
    "qqline(m_bty$residuals)"
   ]
  },
  {
   "cell_type": "markdown",
   "metadata": {},
   "source": [
    "Answer:\n",
    "\n",
    "    Linear association: The residuals plot shows a random scatter.\n",
    "    Constant variance of residuals: No fan shape in residuals plot.\n",
    "    Independent observations: Classes sampled randomly, no order effect."
   ]
  },
  {
   "cell_type": "markdown",
   "metadata": {},
   "source": [
    "## Multiple Linear Regression\n",
    "\n",
    "The data set contains several variables on the beauty score of the professor: individual ratings from each of the six students who were asked to score the physical appearance of the professors and the average of these six scores. Let's take a look at the relationship between one of these scores and the average beauty score."
   ]
  },
  {
   "cell_type": "code",
   "execution_count": 17,
   "metadata": {},
   "outputs": [
    {
     "data": {
      "image/png": "[encoded data removed]",
      "text/plain": [
       "plot without title"
      ]
     },
     "metadata": {
      "image/png": {
       "height": 420,
       "width": 420
      },
      "text/plain": {
       "height": 420,
       "width": 420
      }
     },
     "output_type": "display_data"
    }
   ],
   "source": [
    "ggplot(data = evals, aes(x = bty_f1lower, y = bty_avg)) +\n",
    "  geom_jitter()"
   ]
  },
  {
   "cell_type": "code",
   "execution_count": 18,
   "metadata": {},
   "outputs": [
    {
     "data": {
      "text/html": [
       "<table>\n",
       "<caption>A tibble: 1 × 1</caption>\n",
       "<thead>\n",
       "\t<tr><th scope=col>cor(bty_avg, bty_f1lower)</th></tr>\n",
       "\t<tr><th scope=col>&lt;dbl&gt;</th></tr>\n",
       "</thead>\n",
       "<tbody>\n",
       "\t<tr><td>0.8439112</td></tr>\n",
       "</tbody>\n",
       "</table>\n"
      ],
      "text/latex": [
       "A tibble: 1 × 1\n",
       "\\begin{tabular}{l}\n",
       " cor(bty\\_avg, bty\\_f1lower)\\\\\n",
       " <dbl>\\\\\n",
       "\\hline\n",
       "\t 0.8439112\\\\\n",
       "\\end{tabular}\n"
      ],
      "text/markdown": [
       "\n",
       "A tibble: 1 × 1\n",
       "\n",
       "| cor(bty_avg, bty_f1lower) &lt;dbl&gt; |\n",
       "|---|\n",
       "| 0.8439112 |\n",
       "\n"
      ],
      "text/plain": [
       "  cor(bty_avg, bty_f1lower)\n",
       "1 0.8439112                "
      ]
     },
     "metadata": {},
     "output_type": "display_data"
    }
   ],
   "source": [
    "evals %>% \n",
    "  summarise(cor(bty_avg, bty_f1lower))"
   ]
  },
  {
   "cell_type": "markdown",
   "metadata": {},
   "source": [
    "As expected the relationship is quite strong - after all, the average score is calculated using the individual scores. We can actually take a look at the relationships between all beauty variables (columns 13 through 19) using the following command:"
   ]
  },
  {
   "cell_type": "code",
   "execution_count": 19,
   "metadata": {},
   "outputs": [
    {
     "data": {
      "image/png": "[encoded data removed]",
      "text/plain": [
       "plot without title"
      ]
     },
     "metadata": {
      "image/png": {
       "height": 420,
       "width": 420
      },
      "text/plain": {
       "height": 420,
       "width": 420
      }
     },
     "output_type": "display_data"
    }
   ],
   "source": [
    "ggpairs(evals, columns = 13:19)"
   ]
  },
  {
   "cell_type": "markdown",
   "metadata": {},
   "source": [
    "These variables are collinear (correlated), and adding more than one of these variables to the model would not add much value to the model. In this application and with these highly-correlated predictors, it is reasonable to use the average beauty score as the single representative of these variables.\n",
    "\n",
    "In order to see if beauty is still a significant predictor of professor score after we've accounted for the gender of the professor, we can add the gender term into the model."
   ]
  },
  {
   "cell_type": "code",
   "execution_count": 20,
   "metadata": {},
   "outputs": [
    {
     "data": {
      "text/plain": [
       "\n",
       "Call:\n",
       "lm(formula = score ~ bty_avg + gender, data = evals)\n",
       "\n",
       "Residuals:\n",
       "    Min      1Q  Median      3Q     Max \n",
       "-1.8305 -0.3625  0.1055  0.4213  0.9314 \n",
       "\n",
       "Coefficients:\n",
       "            Estimate Std. Error t value Pr(>|t|)    \n",
       "(Intercept)  3.74734    0.08466  44.266  < 2e-16 ***\n",
       "bty_avg      0.07416    0.01625   4.563 6.48e-06 ***\n",
       "gendermale   0.17239    0.05022   3.433 0.000652 ***\n",
       "---\n",
       "Signif. codes:  0 '***' 0.001 '**' 0.01 '*' 0.05 '.' 0.1 ' ' 1\n",
       "\n",
       "Residual standard error: 0.5287 on 460 degrees of freedom\n",
       "Multiple R-squared:  0.05912,\tAdjusted R-squared:  0.05503 \n",
       "F-statistic: 14.45 on 2 and 460 DF,  p-value: 8.177e-07\n"
      ]
     },
     "metadata": {},
     "output_type": "display_data"
    }
   ],
   "source": [
    "m_bty_gen <- lm(score ~ bty_avg + gender, data = evals)\n",
    "\n",
    "summary(m_bty_gen)"
   ]
  },
  {
   "cell_type": "markdown",
   "metadata": {},
   "source": [
    "**6. P-values and parameter estimates should only be trusted if the conditions for the regression are reasonable. Using diagnostic plots, we can conclude that the conditions for this model are reasonable.**"
   ]
  },
  {
   "cell_type": "code",
   "execution_count": 21,
   "metadata": {},
   "outputs": [
    {
     "data": {
      "image/png": "[encoded data removed]",
      "text/plain": [
       "Plot with title \"\""
      ]
     },
     "metadata": {
      "image/png": {
       "height": 420,
       "width": 420
      },
      "text/plain": {
       "height": 420,
       "width": 420
      }
     },
     "output_type": "display_data"
    },
    {
     "data": {
      "image/png": "[encoded data removed]",
      "text/plain": [
       "Plot with title \"\""
      ]
     },
     "metadata": {
      "image/png": {
       "height": 420,
       "width": 420
      },
      "text/plain": {
       "height": 420,
       "width": 420
      }
     },
     "output_type": "display_data"
    },
    {
     "data": {
      "image/png": "[encoded data removed]",
      "text/plain": [
       "Plot with title \"\""
      ]
     },
     "metadata": {
      "image/png": {
       "height": 420,
       "width": 420
      },
      "text/plain": {
       "height": 420,
       "width": 420
      }
     },
     "output_type": "display_data"
    },
    {
     "data": {
      "image/png": "[encoded data removed]",
      "text/plain": [
       "Plot with title \"\""
      ]
     },
     "metadata": {
      "image/png": {
       "height": 420,
       "width": 420
      },
      "text/plain": {
       "height": 420,
       "width": 420
      }
     },
     "output_type": "display_data"
    }
   ],
   "source": [
    "plot(m_bty_gen)"
   ]
  },
  {
   "cell_type": "markdown",
   "metadata": {},
   "source": [
    "    Answer: True."
   ]
  },
  {
   "cell_type": "markdown",
   "metadata": {},
   "source": [
    "**Exercise:** Print a summary of the multiple linear regression model.  Is `bty_avg` still a significant predictor of `score`?  Has the addition of `gender` to the model changed the parameter estimate for `bty_avg`?"
   ]
  },
  {
   "cell_type": "code",
   "execution_count": 22,
   "metadata": {},
   "outputs": [
    {
     "data": {
      "text/plain": [
       "\n",
       "Call:\n",
       "lm(formula = score ~ bty_avg + gender, data = evals)\n",
       "\n",
       "Residuals:\n",
       "    Min      1Q  Median      3Q     Max \n",
       "-1.8305 -0.3625  0.1055  0.4213  0.9314 \n",
       "\n",
       "Coefficients:\n",
       "            Estimate Std. Error t value Pr(>|t|)    \n",
       "(Intercept)  3.74734    0.08466  44.266  < 2e-16 ***\n",
       "bty_avg      0.07416    0.01625   4.563 6.48e-06 ***\n",
       "gendermale   0.17239    0.05022   3.433 0.000652 ***\n",
       "---\n",
       "Signif. codes:  0 '***' 0.001 '**' 0.01 '*' 0.05 '.' 0.1 ' ' 1\n",
       "\n",
       "Residual standard error: 0.5287 on 460 degrees of freedom\n",
       "Multiple R-squared:  0.05912,\tAdjusted R-squared:  0.05503 \n",
       "F-statistic: 14.45 on 2 and 460 DF,  p-value: 8.177e-07\n"
      ]
     },
     "metadata": {},
     "output_type": "display_data"
    }
   ],
   "source": [
    "summary(m_bty_gen)"
   ]
  },
  {
   "cell_type": "markdown",
   "metadata": {},
   "source": [
    "Answer:\n",
    "\n",
    "lm(formula = score ~ bty_avg, data = evals) -> `bty_avg:` **5.08e-05**\n",
    "\n",
    "lm(formula = score ~ bty_avg + gender, data = evals) -> `bty_avg:` **6.48e-06**"
   ]
  },
  {
   "cell_type": "markdown",
   "metadata": {},
   "source": [
    "Note that the estimate for `gender` is now called `gendermale`. You'll see this \n",
    "name change whenever you introduce a categorical variable. The reason is that R \n",
    "recodes `gender` from having the values of `female` and `male` to being an \n",
    "indicator variable called `gendermale` that takes a value of $0$ for females and\n",
    "a value of $1$ for males. (Such variables are often referred to as \"dummy\" \n",
    "variables.)\n",
    "\n",
    "As a result, for females, the parameter estimate is multiplied by zero, leaving \n",
    "the intercept and slope form familiar from simple regression.\n",
    "\n",
    "$$\n",
    "  \\begin{aligned}\n",
    "\\widehat{score} &= \\hat{\\beta}_0 + \\hat{\\beta}_1 \\times bty\\_avg + \\hat{\\beta}_2 \\times (0) \\\\\n",
    "&= \\hat{\\beta}_0 + \\hat{\\beta}_1 \\times bty\\_avg\\end{aligned}\n",
    "$$\n"
   ]
  },
  {
   "cell_type": "markdown",
   "metadata": {},
   "source": [
    "**7. For two professors (one male and one female) who received the same beauty rating, the male professor is predicted to have the higher course evaluation score than the female.**"
   ]
  },
  {
   "cell_type": "markdown",
   "metadata": {},
   "source": [
    "    Answer: True.\n",
    "\n",
    "    femaleteatcher = 3.88034 + 0.06664*b1\n",
    "    \n",
    "    maleteacher = 3.74734 + 0.07416*b1 + 0.17239*b2\n",
    "\n",
    "    So, maleteacher > femaleteacher."
   ]
  },
  {
   "cell_type": "markdown",
   "metadata": {},
   "source": [
    "The decision to call the indicator variable `gendermale` instead of`genderfemale`\n",
    "has no deeper meaning. R simply codes the category that comes first \n",
    "alphabetically as a $0$. (You can change the reference level of a categorical \n",
    "variable, which is the level that is coded as a 0, using the`relevel` function. \n",
    "Use `?relevel` to learn more.)"
   ]
  },
  {
   "cell_type": "markdown",
   "metadata": {},
   "source": [
    "**Exercise:** Create a new model called `m_bty_rank` with `gender` removed and \n",
    "`rank` added in.  How does R appear to handle categorical variables that have \n",
    "more than two levels? Note that the rank variable has three levels: teaching, \n",
    "tenure track, tenured."
   ]
  },
  {
   "cell_type": "code",
   "execution_count": 23,
   "metadata": {},
   "outputs": [
    {
     "data": {
      "text/plain": [
       "\n",
       "Call:\n",
       "lm(formula = score ~ bty_avg + rank, data = evals)\n",
       "\n",
       "Residuals:\n",
       "    Min      1Q  Median      3Q     Max \n",
       "-1.8713 -0.3642  0.1489  0.4103  0.9525 \n",
       "\n",
       "Coefficients:\n",
       "                 Estimate Std. Error t value Pr(>|t|)    \n",
       "(Intercept)       3.98155    0.09078  43.860  < 2e-16 ***\n",
       "bty_avg           0.06783    0.01655   4.098 4.92e-05 ***\n",
       "ranktenure track -0.16070    0.07395  -2.173   0.0303 *  \n",
       "ranktenured      -0.12623    0.06266  -2.014   0.0445 *  \n",
       "---\n",
       "Signif. codes:  0 '***' 0.001 '**' 0.01 '*' 0.05 '.' 0.1 ' ' 1\n",
       "\n",
       "Residual standard error: 0.5328 on 459 degrees of freedom\n",
       "Multiple R-squared:  0.04652,\tAdjusted R-squared:  0.04029 \n",
       "F-statistic: 7.465 on 3 and 459 DF,  p-value: 6.88e-05\n"
      ]
     },
     "metadata": {},
     "output_type": "display_data"
    }
   ],
   "source": [
    "m_bty_rank <- lm(score ~ bty_avg + rank, data=evals)\n",
    "\n",
    "summary(m_bty_rank)"
   ]
  },
  {
   "cell_type": "markdown",
   "metadata": {},
   "source": [
    "**8. Which of the following is the correct order of the three levels of rank if we were to order them from lowest predicted course evaluation score to highest predicted course evaluation score?**"
   ]
  },
  {
   "cell_type": "markdown",
   "metadata": {},
   "source": [
    "    Answer: Tenure Track, Tenured."
   ]
  },
  {
   "cell_type": "markdown",
   "metadata": {},
   "source": [
    "The interpretation of the coefficients in multiple regression is slightly \n",
    "different from that of simple regression. The estimate for `bty_avg` reflects\n",
    "how much higher a group of professors is expected to score if they have a beauty\n",
    "rating that is one point higher *while holding all other variables constant*. In\n",
    "this case, that translates into considering only professors of the same rank \n",
    "with `bty_avg` scores that are one point apart."
   ]
  },
  {
   "cell_type": "markdown",
   "metadata": {},
   "source": [
    "## Prediction\n",
    "\n",
    "Suppose we want to use the model we created earlier, `m_bty_gen` to predict \n",
    "the evaluation score for a professor, Dr. Hypo Thetical, who is a male tenure track\n",
    "professor with an average beauty of 3.\n",
    "\n",
    "If we wanted to do this by hand, we would simply plug in these values into the\n",
    "linear model.\n",
    "\n",
    "We can also calculate the predicted value in R.\n",
    "\n",
    "First, we need to create a new data frame for this professor."
   ]
  },
  {
   "cell_type": "code",
   "execution_count": 24,
   "metadata": {},
   "outputs": [
    {
     "data": {
      "text/html": [
       "<table>\n",
       "<caption>A data.frame: 1 × 2</caption>\n",
       "<thead>\n",
       "\t<tr><th scope=col>gender</th><th scope=col>bty_avg</th></tr>\n",
       "\t<tr><th scope=col>&lt;fct&gt;</th><th scope=col>&lt;dbl&gt;</th></tr>\n",
       "</thead>\n",
       "<tbody>\n",
       "\t<tr><td>male</td><td>3</td></tr>\n",
       "</tbody>\n",
       "</table>\n"
      ],
      "text/latex": [
       "A data.frame: 1 × 2\n",
       "\\begin{tabular}{ll}\n",
       " gender & bty\\_avg\\\\\n",
       " <fct> & <dbl>\\\\\n",
       "\\hline\n",
       "\t male & 3\\\\\n",
       "\\end{tabular}\n"
      ],
      "text/markdown": [
       "\n",
       "A data.frame: 1 × 2\n",
       "\n",
       "| gender &lt;fct&gt; | bty_avg &lt;dbl&gt; |\n",
       "|---|---|\n",
       "| male | 3 |\n",
       "\n"
      ],
      "text/plain": [
       "  gender bty_avg\n",
       "1 male   3      "
      ]
     },
     "metadata": {},
     "output_type": "display_data"
    }
   ],
   "source": [
    "newprof <- data.frame(gender = \"male\", bty_avg = 3)\n",
    "\n",
    "newprof"
   ]
  },
  {
   "cell_type": "markdown",
   "metadata": {},
   "source": [
    "Note that I didn't need to add `rank = \"tenure track\"` to this data frame since\n",
    "this variable is not used in our model.\n",
    "\n",
    "Then, I can do the prediction using the `predict` function:"
   ]
  },
  {
   "cell_type": "code",
   "execution_count": 25,
   "metadata": {},
   "outputs": [
    {
     "data": {
      "text/html": [
       "<strong>1:</strong> 4.14219390436519"
      ],
      "text/latex": [
       "\\textbf{1:} 4.14219390436519"
      ],
      "text/markdown": [
       "**1:** 4.14219390436519"
      ],
      "text/plain": [
       "       1 \n",
       "4.142194 "
      ]
     },
     "metadata": {},
     "output_type": "display_data"
    }
   ],
   "source": [
    "predict(m_bty_gen, newprof)"
   ]
  },
  {
   "cell_type": "markdown",
   "metadata": {},
   "source": [
    "We can also construct a prediction interval around this prediction, which will\n",
    "provide a measure of uncertainty around the prediction."
   ]
  },
  {
   "cell_type": "code",
   "execution_count": 26,
   "metadata": {},
   "outputs": [
    {
     "data": {
      "text/html": [
       "<table>\n",
       "<caption>A matrix: 1 × 3 of type dbl</caption>\n",
       "<thead>\n",
       "\t<tr><th></th><th scope=col>fit</th><th scope=col>lwr</th><th scope=col>upr</th></tr>\n",
       "</thead>\n",
       "<tbody>\n",
       "\t<tr><th scope=row>1</th><td>4.142194</td><td>3.100559</td><td>5.183829</td></tr>\n",
       "</tbody>\n",
       "</table>\n"
      ],
      "text/latex": [
       "A matrix: 1 × 3 of type dbl\n",
       "\\begin{tabular}{r|lll}\n",
       "  & fit & lwr & upr\\\\\n",
       "\\hline\n",
       "\t1 & 4.142194 & 3.100559 & 5.183829\\\\\n",
       "\\end{tabular}\n"
      ],
      "text/markdown": [
       "\n",
       "A matrix: 1 × 3 of type dbl\n",
       "\n",
       "| <!--/--> | fit | lwr | upr |\n",
       "|---|---|---|---|\n",
       "| 1 | 4.142194 | 3.100559 | 5.183829 |\n",
       "\n"
      ],
      "text/plain": [
       "  fit      lwr      upr     \n",
       "1 4.142194 3.100559 5.183829"
      ]
     },
     "metadata": {},
     "output_type": "display_data"
    }
   ],
   "source": [
    "predict(m_bty_gen, newprof, interval = \"prediction\", level = 0.95)"
   ]
  },
  {
   "cell_type": "markdown",
   "metadata": {},
   "source": [
    "Hence, the model predicts, with 95% confidence, that a male professor with an \n",
    "average beauty score of 3 is expected to have an evaluation score between 3.1 \n",
    "and 5.18."
   ]
  },
  {
   "cell_type": "markdown",
   "metadata": {},
   "source": [
    "## The Search for the Best Model\n",
    "\n",
    "We will start with a full model that predicts professor score based on rank, \n",
    "ethnicity, gender, language of the university where they got their degree, age, \n",
    "proportion of students that filled out evaluations, class size, course level, \n",
    "number of professors, number of credits, average beauty rating, outfit, and \n",
    "picture color."
   ]
  },
  {
   "cell_type": "markdown",
   "metadata": {},
   "source": [
    "Which variable would you expect to have the highest p-value in this model? Why? \n",
    "\n",
    "*Hint:* Think about which variable would you expect to not have any association \n",
    "with the professor score.\n",
    "\n",
    "Let's run the model..."
   ]
  },
  {
   "cell_type": "code",
   "execution_count": 27,
   "metadata": {},
   "outputs": [
    {
     "data": {
      "text/plain": [
       "\n",
       "Call:\n",
       "lm(formula = score ~ rank + ethnicity + gender + language + age + \n",
       "    cls_perc_eval + cls_students + cls_level + cls_profs + cls_credits + \n",
       "    bty_avg + pic_outfit + pic_color, data = evals)\n",
       "\n",
       "Residuals:\n",
       "     Min       1Q   Median       3Q      Max \n",
       "-1.77397 -0.32432  0.09067  0.35183  0.95036 \n",
       "\n",
       "Coefficients:\n",
       "                        Estimate Std. Error t value Pr(>|t|)    \n",
       "(Intercept)            4.0952141  0.2905277  14.096  < 2e-16 ***\n",
       "ranktenure track      -0.1475932  0.0820671  -1.798  0.07278 .  \n",
       "ranktenured           -0.0973378  0.0663296  -1.467  0.14295    \n",
       "ethnicitynot minority  0.1234929  0.0786273   1.571  0.11698    \n",
       "gendermale             0.2109481  0.0518230   4.071 5.54e-05 ***\n",
       "languagenon-english   -0.2298112  0.1113754  -2.063  0.03965 *  \n",
       "age                   -0.0090072  0.0031359  -2.872  0.00427 ** \n",
       "cls_perc_eval          0.0053272  0.0015393   3.461  0.00059 ***\n",
       "cls_students           0.0004546  0.0003774   1.205  0.22896    \n",
       "cls_levelupper         0.0605140  0.0575617   1.051  0.29369    \n",
       "cls_profssingle       -0.0146619  0.0519885  -0.282  0.77806    \n",
       "cls_creditsone credit  0.5020432  0.1159388   4.330 1.84e-05 ***\n",
       "bty_avg                0.0400333  0.0175064   2.287  0.02267 *  \n",
       "pic_outfitnot formal  -0.1126817  0.0738800  -1.525  0.12792    \n",
       "pic_colorcolor        -0.2172630  0.0715021  -3.039  0.00252 ** \n",
       "---\n",
       "Signif. codes:  0 '***' 0.001 '**' 0.01 '*' 0.05 '.' 0.1 ' ' 1\n",
       "\n",
       "Residual standard error: 0.498 on 448 degrees of freedom\n",
       "Multiple R-squared:  0.1871,\tAdjusted R-squared:  0.1617 \n",
       "F-statistic: 7.366 on 14 and 448 DF,  p-value: 6.552e-14\n"
      ]
     },
     "metadata": {},
     "output_type": "display_data"
    }
   ],
   "source": [
    "m_full <- lm(score ~ rank + ethnicity + gender + language + age + cls_perc_eval + cls_students + cls_level + cls_profs + \n",
    "             cls_credits + bty_avg + pic_outfit + pic_color, data = evals)\n",
    "\n",
    "summary(m_full)"
   ]
  },
  {
   "cell_type": "markdown",
   "metadata": {},
   "source": [
    "**Exercise:** Check your suspicions from the previous exercise. Include the model output in your response."
   ]
  },
  {
   "cell_type": "markdown",
   "metadata": {},
   "source": [
    "    Answer: gendermale, cls_perc_eval, cls_creditsone credit are the most strong influencers. `Bty_avg` have some influence but we need to investigate the multicollinearity phenomenon."
   ]
  },
  {
   "cell_type": "markdown",
   "metadata": {},
   "source": [
    "**9. Which of the following is the correct intrepetation of the coefficient associated with the ethnicity variable. Non-minority professors are expected on average to score ...**"
   ]
  },
  {
   "cell_type": "markdown",
   "metadata": {},
   "source": [
    "    Answer: 0.12 points higher than minority professors, all else held constant."
   ]
  },
  {
   "cell_type": "markdown",
   "metadata": {},
   "source": [
    "**Exercise:** Drop the variable with the highest p-value and re-fit the model. \n",
    "Did the coefficients and significance of the other explanatory variables change? \n",
    "(One of the things that makes multiple regression interesting is that coefficient \n",
    "estimates depend on the other variables that are included in the model.) If not, \n",
    "what does this say about whether or not the dropped variable was collinear with \n",
    "the other explanatory variables?"
   ]
  },
  {
   "cell_type": "code",
   "execution_count": 28,
   "metadata": {},
   "outputs": [
    {
     "data": {
      "text/plain": [
       "\n",
       "Call:\n",
       "lm(formula = score ~ rank + ethnicity + gender + language + age + \n",
       "    cls_perc_eval + cls_students + cls_level + cls_credits + \n",
       "    bty_avg + pic_outfit + pic_color, data = evals)\n",
       "\n",
       "Residuals:\n",
       "    Min      1Q  Median      3Q     Max \n",
       "-1.7836 -0.3257  0.0859  0.3513  0.9551 \n",
       "\n",
       "Coefficients:\n",
       "                        Estimate Std. Error t value Pr(>|t|)    \n",
       "(Intercept)            4.0872523  0.2888562  14.150  < 2e-16 ***\n",
       "ranktenure track      -0.1476746  0.0819824  -1.801 0.072327 .  \n",
       "ranktenured           -0.0973829  0.0662614  -1.470 0.142349    \n",
       "ethnicitynot minority  0.1274458  0.0772887   1.649 0.099856 .  \n",
       "gendermale             0.2101231  0.0516873   4.065 5.66e-05 ***\n",
       "languagenon-english   -0.2282894  0.1111305  -2.054 0.040530 *  \n",
       "age                   -0.0089992  0.0031326  -2.873 0.004262 ** \n",
       "cls_perc_eval          0.0052888  0.0015317   3.453 0.000607 ***\n",
       "cls_students           0.0004687  0.0003737   1.254 0.210384    \n",
       "cls_levelupper         0.0606374  0.0575010   1.055 0.292200    \n",
       "cls_creditsone credit  0.5061196  0.1149163   4.404 1.33e-05 ***\n",
       "bty_avg                0.0398629  0.0174780   2.281 0.023032 *  \n",
       "pic_outfitnot formal  -0.1083227  0.0721711  -1.501 0.134080    \n",
       "pic_colorcolor        -0.2190527  0.0711469  -3.079 0.002205 ** \n",
       "---\n",
       "Signif. codes:  0 '***' 0.001 '**' 0.01 '*' 0.05 '.' 0.1 ' ' 1\n",
       "\n",
       "Residual standard error: 0.4974 on 449 degrees of freedom\n",
       "Multiple R-squared:  0.187,\tAdjusted R-squared:  0.1634 \n",
       "F-statistic: 7.943 on 13 and 449 DF,  p-value: 2.336e-14\n"
      ]
     },
     "metadata": {},
     "output_type": "display_data"
    }
   ],
   "source": [
    "m_full2 <- lm(score ~ rank + ethnicity + gender + language + age + cls_perc_eval + cls_students + cls_level + cls_credits + \n",
    "              bty_avg + pic_outfit + pic_color, data = evals)\n",
    "\n",
    "summary(m_full2)"
   ]
  },
  {
   "cell_type": "markdown",
   "metadata": {},
   "source": [
    "Now we try a different model selection method: adjusted $R^2$. Create a new model, \n",
    "`m1`, where you remove `rank` from the list of explanatory variables. Check out the \n",
    "adjusted $R^2$ of this new model and compare it to the adjusted $R^2$ of the full model."
   ]
  },
  {
   "cell_type": "code",
   "execution_count": 29,
   "metadata": {},
   "outputs": [
    {
     "data": {
      "text/html": [
       "0.160434907716655"
      ],
      "text/latex": [
       "0.160434907716655"
      ],
      "text/markdown": [
       "0.160434907716655"
      ],
      "text/plain": [
       "[1] 0.1604349"
      ]
     },
     "metadata": {},
     "output_type": "display_data"
    }
   ],
   "source": [
    "m1 <- lm(score ~ ethnicity + gender + language + age + cls_perc_eval + cls_students + cls_level + cls_credits + \n",
    "                 bty_avg + pic_outfit + pic_color, data = evals)\n",
    "\n",
    "summary(m1)$adj.r.squared"
   ]
  },
  {
   "cell_type": "markdown",
   "metadata": {},
   "source": [
    "Then, try dropping the next variable from the full model (`ethnicity`):"
   ]
  },
  {
   "cell_type": "code",
   "execution_count": 30,
   "metadata": {},
   "outputs": [
    {
     "data": {
      "text/html": [
       "0.154931432166293"
      ],
      "text/latex": [
       "0.154931432166293"
      ],
      "text/markdown": [
       "0.154931432166293"
      ],
      "text/plain": [
       "[1] 0.1549314"
      ]
     },
     "metadata": {},
     "output_type": "display_data"
    }
   ],
   "source": [
    "m2 <- lm(score ~ gender + language + age + cls_perc_eval + cls_students + cls_level + cls_credits + bty_avg + pic_outfit + \n",
    "         pic_color, data = evals)\n",
    "\n",
    "summary(m2)$adj.r.squared"
   ]
  },
  {
   "cell_type": "markdown",
   "metadata": {},
   "source": [
    "**Exercise:** Repeat this process until you have tried removing each variable \n",
    "from the full model at a time, and determine removal of which variable yields \n",
    "the highest improvement in the adjusted $R^2$."
   ]
  },
  {
   "cell_type": "code",
   "execution_count": 31,
   "metadata": {},
   "outputs": [
    {
     "data": {
      "text/html": [
       "0.153811332909453"
      ],
      "text/latex": [
       "0.153811332909453"
      ],
      "text/markdown": [
       "0.153811332909453"
      ],
      "text/plain": [
       "[1] 0.1538113"
      ]
     },
     "metadata": {},
     "output_type": "display_data"
    }
   ],
   "source": [
    "m3 <- lm(score ~ rank + ethnicity + gender + language + age + cls_perc_eval + cls_students + cls_level + cls_profs + cls_credits + pic_outfit + pic_color, data = evals)\n",
    "\n",
    "summary(m3)$adj.r.squared"
   ]
  },
  {
   "cell_type": "code",
   "execution_count": 32,
   "metadata": {},
   "outputs": [
    {
     "data": {
      "text/html": [
       "0.163426155630441"
      ],
      "text/latex": [
       "0.163426155630441"
      ],
      "text/markdown": [
       "0.163426155630441"
      ],
      "text/plain": [
       "[1] 0.1634262"
      ]
     },
     "metadata": {},
     "output_type": "display_data"
    }
   ],
   "source": [
    "m4 <- lm(score ~ rank + ethnicity + gender + language + age + cls_perc_eval + cls_students + cls_level + cls_credits + \n",
    "         bty_avg + pic_outfit + pic_color, data = evals)\n",
    "\n",
    "summary(m4)$adj.r.squared"
   ]
  },
  {
   "cell_type": "code",
   "execution_count": 33,
   "metadata": {},
   "outputs": [
    {
     "data": {
      "text/html": [
       "0.160865105818878"
      ],
      "text/latex": [
       "0.160865105818878"
      ],
      "text/markdown": [
       "0.160865105818878"
      ],
      "text/plain": [
       "[1] 0.1608651"
      ]
     },
     "metadata": {},
     "output_type": "display_data"
    }
   ],
   "source": [
    "m5 <- lm(score ~ rank + ethnicity + gender + language + age + cls_perc_eval + cls_level + cls_profs + cls_credits + bty_avg + \n",
    "         pic_outfit + pic_color, data = evals)\n",
    "\n",
    "summary(m5)$adj.r.squared"
   ]
  },
  {
   "cell_type": "code",
   "execution_count": 34,
   "metadata": {},
   "outputs": [
    {
     "data": {
      "text/html": [
       "0.158724512021817"
      ],
      "text/latex": [
       "0.158724512021817"
      ],
      "text/markdown": [
       "0.158724512021817"
      ],
      "text/plain": [
       "[1] 0.1587245"
      ]
     },
     "metadata": {},
     "output_type": "display_data"
    }
   ],
   "source": [
    "m6 <- lm(score ~ ethnicity + gender + language + age + cls_perc_eval + cls_students + cls_level + cls_profs + cls_credits + \n",
    "         bty_avg + pic_outfit + pic_color, data = evals)\n",
    "\n",
    "summary(m6)$adj.r.squared"
   ]
  },
  {
   "cell_type": "markdown",
   "metadata": {},
   "source": [
    "**10. Elimination of which variable from the full model yielded the highest adjusted R-squared?**"
   ]
  },
  {
   "cell_type": "markdown",
   "metadata": {},
   "source": [
    "    Answer: cls_profs."
   ]
  },
  {
   "cell_type": "markdown",
   "metadata": {},
   "source": [
    "To complete the model selection we would continue removing variables one at a \n",
    "time until removal of another variable did not increase adjusted $R^2$."
   ]
  },
  {
   "cell_type": "markdown",
   "metadata": {},
   "source": [
    "**Exercise:** The original paper describes how these data were gathered by taking \n",
    "a sample of professors from the University of Texas at Austin and including all \n",
    "courses that they have taught.  Considering that each row represents a course, \n",
    "could this new information have an impact on any of the conditions of linear regression?"
   ]
  },
  {
   "cell_type": "markdown",
   "metadata": {},
   "source": [
    "    Answer: Yes. Once students have access to this information, another type of bias can be generated."
   ]
  },
  {
   "cell_type": "markdown",
   "metadata": {},
   "source": [
    "**Exercise:** Based on your final model, describe the characteristics of a \n",
    "professor and course at University of Texas at Austin that would be associated \n",
    "with a high evaluation score."
   ]
  },
  {
   "cell_type": "markdown",
   "metadata": {},
   "source": [
    "    Answer: Male. The course with high percent of students in class who completed evaluation and have more number of credits of class."
   ]
  },
  {
   "cell_type": "markdown",
   "metadata": {},
   "source": [
    "**Exercise:** Would you be comfortable generalizing your conclusions to apply \n",
    "to professors generally (at any university)?  Why or why not?"
   ]
  },
  {
   "cell_type": "markdown",
   "metadata": {},
   "source": [
    "    Answer: Yes. But we need to be cautious about the conclusions."
   ]
  }
 ],
 "metadata": {
  "kernelspec": {
   "display_name": "R",
   "language": "R",
   "name": "ir"
  },
  "language_info": {
   "codemirror_mode": "r",
   "file_extension": ".r",
   "mimetype": "text/x-r-source",
   "name": "R",
   "pygments_lexer": "r",
   "version": "3.6.3"
  }
 },
 "nbformat": 4,
 "nbformat_minor": 4
}
