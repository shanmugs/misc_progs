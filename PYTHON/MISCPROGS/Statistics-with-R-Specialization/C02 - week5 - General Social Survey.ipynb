{
 "cells": [
  {
   "cell_type": "markdown",
   "metadata": {},
   "source": [
    "# Statistical Inference with General Social Survey"
   ]
  },
  {
   "cell_type": "markdown",
   "metadata": {},
   "source": [
    "<img src=\"images/GSS.png\"/>"
   ]
  },
  {
   "cell_type": "markdown",
   "metadata": {},
   "source": [
    "## Part 1: Data\n",
    "\n",
    "### Background\n",
    "\n",
    "The [General Social Survey (GSS)](http://gss.norc.org/) is a sociological survey used to collect information and keep a historical record of the concerns, experiences, attitudes, and practices of residents of the United States.\n",
    "\n",
    "GSS questions cover a diverse range of issues including national spending priorities, marijuana use, crime and punishment, race relations, quality of life, confidence in institutions, and sexual behavior.\n",
    "\n",
    "The dataset used for this project is an extract of the General Social Survey (GSS) Cumulative File 1972-2012. It consists of 57061 observations with 114 variables. Each variable corresponds to a specific question asked to the respondent."
   ]
  },
  {
   "cell_type": "markdown",
   "metadata": {},
   "source": [
    "### Methodology \n",
    "\n",
    "According to [Wikipedia](https://en.wikipedia.org/wiki/General_Social_Survey#Methodology), The GSS survey is conducted face-to-face with an in-person interview by NORC at the University of Chicago. The target population is adults (18+) living in households in the United States. Respondents are random sampled from a mix of urban, suburban, and rural geographic areas. Participation in the study is strictly voluntary.\n",
    "\n",
    "### The scope of inference\n",
    "\n",
    "The sample data should allow us to generalize to the population of interest. It is a survey of 57061 U.S adults aged 18 years or older. The survey is based on random sampling. However, there is no causation can be established as GSS is an observation study that can only establish correlation/association between variables. In addition, potential biases are associated with non-response because this is a voluntary in-person survey that takes approximately 90 minutes. Some potential respondents may choose not to participate."
   ]
  },
  {
   "cell_type": "code",
   "execution_count": 1,
   "metadata": {},
   "outputs": [
    {
     "name": "stderr",
     "output_type": "stream",
     "text": [
      "\n",
      "Attaching package: 'dplyr'\n",
      "\n",
      "\n",
      "The following objects are masked from 'package:stats':\n",
      "\n",
      "    filter, lag\n",
      "\n",
      "\n",
      "The following objects are masked from 'package:base':\n",
      "\n",
      "    intersect, setdiff, setequal, union\n",
      "\n",
      "\n"
     ]
    }
   ],
   "source": [
    "#install.packages(\"package\")\n",
    "library(statsr)\n",
    "library(dplyr)\n",
    "library(ggplot2)\n",
    "library(tidyr)"
   ]
  },
  {
   "cell_type": "markdown",
   "metadata": {},
   "source": [
    "### Load Data"
   ]
  },
  {
   "cell_type": "code",
   "execution_count": 2,
   "metadata": {},
   "outputs": [
    {
     "data": {
      "text/html": [
       "<table>\n",
       "<caption>A data.frame: 6 × 114</caption>\n",
       "<thead>\n",
       "\t<tr><th></th><th scope=col>caseid</th><th scope=col>year</th><th scope=col>age</th><th scope=col>sex</th><th scope=col>race</th><th scope=col>hispanic</th><th scope=col>uscitzn</th><th scope=col>educ</th><th scope=col>paeduc</th><th scope=col>maeduc</th><th scope=col>⋯</th><th scope=col>news</th><th scope=col>tvhours</th><th scope=col>racdif1</th><th scope=col>racdif2</th><th scope=col>racdif3</th><th scope=col>racdif4</th><th scope=col>helppoor</th><th scope=col>helpnot</th><th scope=col>helpsick</th><th scope=col>helpblk</th></tr>\n",
       "\t<tr><th></th><th scope=col>&lt;int&gt;</th><th scope=col>&lt;int&gt;</th><th scope=col>&lt;int&gt;</th><th scope=col>&lt;fct&gt;</th><th scope=col>&lt;fct&gt;</th><th scope=col>&lt;fct&gt;</th><th scope=col>&lt;fct&gt;</th><th scope=col>&lt;int&gt;</th><th scope=col>&lt;int&gt;</th><th scope=col>&lt;int&gt;</th><th scope=col>⋯</th><th scope=col>&lt;fct&gt;</th><th scope=col>&lt;int&gt;</th><th scope=col>&lt;fct&gt;</th><th scope=col>&lt;fct&gt;</th><th scope=col>&lt;fct&gt;</th><th scope=col>&lt;fct&gt;</th><th scope=col>&lt;fct&gt;</th><th scope=col>&lt;fct&gt;</th><th scope=col>&lt;fct&gt;</th><th scope=col>&lt;fct&gt;</th></tr>\n",
       "</thead>\n",
       "<tbody>\n",
       "\t<tr><th scope=row>1</th><td>1</td><td>1972</td><td>23</td><td>Female</td><td>White</td><td>NA</td><td>NA</td><td>16</td><td>10</td><td>NA</td><td>⋯</td><td>Everyday   </td><td>NA</td><td>NA</td><td>NA</td><td>NA</td><td>NA</td><td>NA</td><td>NA</td><td>NA</td><td>NA</td></tr>\n",
       "\t<tr><th scope=row>2</th><td>2</td><td>1972</td><td>70</td><td>Male  </td><td>White</td><td>NA</td><td>NA</td><td>10</td><td> 8</td><td> 8</td><td>⋯</td><td>Everyday   </td><td>NA</td><td>NA</td><td>NA</td><td>NA</td><td>NA</td><td>NA</td><td>NA</td><td>NA</td><td>NA</td></tr>\n",
       "\t<tr><th scope=row>3</th><td>3</td><td>1972</td><td>48</td><td>Female</td><td>White</td><td>NA</td><td>NA</td><td>12</td><td> 8</td><td> 8</td><td>⋯</td><td>Everyday   </td><td>NA</td><td>NA</td><td>NA</td><td>NA</td><td>NA</td><td>NA</td><td>NA</td><td>NA</td><td>NA</td></tr>\n",
       "\t<tr><th scope=row>4</th><td>4</td><td>1972</td><td>27</td><td>Female</td><td>White</td><td>NA</td><td>NA</td><td>17</td><td>16</td><td>12</td><td>⋯</td><td>Once A Week</td><td>NA</td><td>NA</td><td>NA</td><td>NA</td><td>NA</td><td>NA</td><td>NA</td><td>NA</td><td>NA</td></tr>\n",
       "\t<tr><th scope=row>5</th><td>5</td><td>1972</td><td>61</td><td>Female</td><td>White</td><td>NA</td><td>NA</td><td>12</td><td> 8</td><td> 8</td><td>⋯</td><td>Everyday   </td><td>NA</td><td>NA</td><td>NA</td><td>NA</td><td>NA</td><td>NA</td><td>NA</td><td>NA</td><td>NA</td></tr>\n",
       "\t<tr><th scope=row>6</th><td>6</td><td>1972</td><td>26</td><td>Male  </td><td>White</td><td>NA</td><td>NA</td><td>14</td><td>18</td><td>19</td><td>⋯</td><td>Everyday   </td><td>NA</td><td>NA</td><td>NA</td><td>NA</td><td>NA</td><td>NA</td><td>NA</td><td>NA</td><td>NA</td></tr>\n",
       "</tbody>\n",
       "</table>\n"
      ],
      "text/latex": [
       "A data.frame: 6 × 114\n",
       "\\begin{tabular}{r|lllllllllllllllllllll}\n",
       "  & caseid & year & age & sex & race & hispanic & uscitzn & educ & paeduc & maeduc & ⋯ & news & tvhours & racdif1 & racdif2 & racdif3 & racdif4 & helppoor & helpnot & helpsick & helpblk\\\\\n",
       "  & <int> & <int> & <int> & <fct> & <fct> & <fct> & <fct> & <int> & <int> & <int> & ⋯ & <fct> & <int> & <fct> & <fct> & <fct> & <fct> & <fct> & <fct> & <fct> & <fct>\\\\\n",
       "\\hline\n",
       "\t1 & 1 & 1972 & 23 & Female & White & NA & NA & 16 & 10 & NA & ⋯ & Everyday    & NA & NA & NA & NA & NA & NA & NA & NA & NA\\\\\n",
       "\t2 & 2 & 1972 & 70 & Male   & White & NA & NA & 10 &  8 &  8 & ⋯ & Everyday    & NA & NA & NA & NA & NA & NA & NA & NA & NA\\\\\n",
       "\t3 & 3 & 1972 & 48 & Female & White & NA & NA & 12 &  8 &  8 & ⋯ & Everyday    & NA & NA & NA & NA & NA & NA & NA & NA & NA\\\\\n",
       "\t4 & 4 & 1972 & 27 & Female & White & NA & NA & 17 & 16 & 12 & ⋯ & Once A Week & NA & NA & NA & NA & NA & NA & NA & NA & NA\\\\\n",
       "\t5 & 5 & 1972 & 61 & Female & White & NA & NA & 12 &  8 &  8 & ⋯ & Everyday    & NA & NA & NA & NA & NA & NA & NA & NA & NA\\\\\n",
       "\t6 & 6 & 1972 & 26 & Male   & White & NA & NA & 14 & 18 & 19 & ⋯ & Everyday    & NA & NA & NA & NA & NA & NA & NA & NA & NA\\\\\n",
       "\\end{tabular}\n"
      ],
      "text/markdown": [
       "\n",
       "A data.frame: 6 × 114\n",
       "\n",
       "| <!--/--> | caseid &lt;int&gt; | year &lt;int&gt; | age &lt;int&gt; | sex &lt;fct&gt; | race &lt;fct&gt; | hispanic &lt;fct&gt; | uscitzn &lt;fct&gt; | educ &lt;int&gt; | paeduc &lt;int&gt; | maeduc &lt;int&gt; | ⋯ ⋯ | news &lt;fct&gt; | tvhours &lt;int&gt; | racdif1 &lt;fct&gt; | racdif2 &lt;fct&gt; | racdif3 &lt;fct&gt; | racdif4 &lt;fct&gt; | helppoor &lt;fct&gt; | helpnot &lt;fct&gt; | helpsick &lt;fct&gt; | helpblk &lt;fct&gt; |\n",
       "|---|---|---|---|---|---|---|---|---|---|---|---|---|---|---|---|---|---|---|---|---|---|\n",
       "| 1 | 1 | 1972 | 23 | Female | White | NA | NA | 16 | 10 | NA | ⋯ | Everyday    | NA | NA | NA | NA | NA | NA | NA | NA | NA |\n",
       "| 2 | 2 | 1972 | 70 | Male   | White | NA | NA | 10 |  8 |  8 | ⋯ | Everyday    | NA | NA | NA | NA | NA | NA | NA | NA | NA |\n",
       "| 3 | 3 | 1972 | 48 | Female | White | NA | NA | 12 |  8 |  8 | ⋯ | Everyday    | NA | NA | NA | NA | NA | NA | NA | NA | NA |\n",
       "| 4 | 4 | 1972 | 27 | Female | White | NA | NA | 17 | 16 | 12 | ⋯ | Once A Week | NA | NA | NA | NA | NA | NA | NA | NA | NA |\n",
       "| 5 | 5 | 1972 | 61 | Female | White | NA | NA | 12 |  8 |  8 | ⋯ | Everyday    | NA | NA | NA | NA | NA | NA | NA | NA | NA |\n",
       "| 6 | 6 | 1972 | 26 | Male   | White | NA | NA | 14 | 18 | 19 | ⋯ | Everyday    | NA | NA | NA | NA | NA | NA | NA | NA | NA |\n",
       "\n"
      ],
      "text/plain": [
       "  caseid year age sex    race  hispanic uscitzn educ paeduc maeduc <U+22EF>       \n",
       "1 1      1972 23  Female White NA       NA      16   10     NA     <U+22EF>\n",
       "2 2      1972 70  Male   White NA       NA      10    8      8     <U+22EF>\n",
       "3 3      1972 48  Female White NA       NA      12    8      8     <U+22EF>\n",
       "4 4      1972 27  Female White NA       NA      17   16     12     <U+22EF>\n",
       "5 5      1972 61  Female White NA       NA      12    8      8     <U+22EF>\n",
       "6 6      1972 26  Male   White NA       NA      14   18     19     <U+22EF>\n",
       "  news        tvhours racdif1 racdif2 racdif3 racdif4 helppoor helpnot helpsick\n",
       "1 Everyday    NA      NA      NA      NA      NA      NA       NA      NA      \n",
       "2 Everyday    NA      NA      NA      NA      NA      NA       NA      NA      \n",
       "3 Everyday    NA      NA      NA      NA      NA      NA       NA      NA      \n",
       "4 Once A Week NA      NA      NA      NA      NA      NA       NA      NA      \n",
       "5 Everyday    NA      NA      NA      NA      NA      NA       NA      NA      \n",
       "6 Everyday    NA      NA      NA      NA      NA      NA       NA      NA      \n",
       "  helpblk\n",
       "1 NA     \n",
       "2 NA     \n",
       "3 NA     \n",
       "4 NA     \n",
       "5 NA     \n",
       "6 NA     "
      ]
     },
     "metadata": {},
     "output_type": "display_data"
    }
   ],
   "source": [
    "load(\"data/gss.Rdata\")\n",
    "head(gss)"
   ]
  },
  {
   "cell_type": "markdown",
   "metadata": {},
   "source": [
    "## Part 2: Research questions\n",
    "\n",
    "**Research Question 1:** Do Americans distrust the media? That is, correlation between reading news and confidence in press. \n",
    "\n",
    "According to [Financial Times](https://www.ft.com/content/fa332f58-d9bf-11e6-944b-e7eb37a6aa8e), Public trust in traditional media has fallen to an all-time low as people increasingly favour their friends and contacts on the internet as sources of news.\n",
    "\n",
    "This has prompted me to learn how frequency of reading news may impact a person's confidence in press. Based on above question, the analysis will be based on the following variables:\n",
    "\n",
    "* news - How often does respondent read newspaper.\n",
    "* conpress - Confidence in press.\n",
    "\n",
    "To reflect the most recent trends, I will only keep the data from year 2010 and removing all \"NA\"s."
   ]
  },
  {
   "cell_type": "code",
   "execution_count": 3,
   "metadata": {},
   "outputs": [
    {
     "data": {
      "text/html": [
       "<style>\n",
       ".list-inline {list-style: none; margin:0; padding: 0}\n",
       ".list-inline>li {display: inline-block}\n",
       ".list-inline>li:not(:last-child)::after {content: \"\\00b7\"; padding: 0 .5ex}\n",
       "</style>\n",
       "<ol class=list-inline><li>1398</li><li>2</li></ol>\n"
      ],
      "text/latex": [
       "\\begin{enumerate*}\n",
       "\\item 1398\n",
       "\\item 2\n",
       "\\end{enumerate*}\n"
      ],
      "text/markdown": [
       "1. 1398\n",
       "2. 2\n",
       "\n",
       "\n"
      ],
      "text/plain": [
       "[1] 1398    2"
      ]
     },
     "metadata": {},
     "output_type": "display_data"
    }
   ],
   "source": [
    "gss_con <- gss[ which(gss$year >= 2010 & !is.na(gss$news) & !is.na(gss$conpress)), ]\n",
    "\n",
    "gss_con <- gss_con %>% select(news, conpress)\n",
    "\n",
    "dim(gss_con)"
   ]
  },
  {
   "cell_type": "markdown",
   "metadata": {},
   "source": [
    "### Exploratory data analysis for Research Question 1\n",
    "\n",
    "The data I will be using for this analysis has 1398 observations. Here is the summary and two-way table."
   ]
  },
  {
   "cell_type": "code",
   "execution_count": 4,
   "metadata": {},
   "outputs": [
    {
     "data": {
      "text/plain": [
       "                news             conpress  \n",
       " Everyday         :452   A Great Deal:129  \n",
       " Few Times A Week :241   Only Some   :612  \n",
       " Once A Week      :192   Hardly Any  :657  \n",
       " Less Than Once Wk:224                     \n",
       " Never            :289                     "
      ]
     },
     "metadata": {},
     "output_type": "display_data"
    }
   ],
   "source": [
    "summary(gss_con)"
   ]
  },
  {
   "cell_type": "code",
   "execution_count": 5,
   "metadata": {},
   "outputs": [
    {
     "data": {
      "text/plain": [
       "                   \n",
       "                    A Great Deal Only Some Hardly Any\n",
       "  Everyday                    50       206        196\n",
       "  Few Times A Week            18       111        112\n",
       "  Once A Week                 19        85         88\n",
       "  Less Than Once Wk           18        97        109\n",
       "  Never                       24       113        152"
      ]
     },
     "metadata": {},
     "output_type": "display_data"
    }
   ],
   "source": [
    "table(gss_con$news, gss_con$conpress)"
   ]
  },
  {
   "cell_type": "code",
   "execution_count": 6,
   "metadata": {},
   "outputs": [
    {
     "data": {
      "image/png": "[encoded data removed]",
      "text/plain": [
       "Plot with title \"table(gss_con$news, gss_con$conpress)\""
      ]
     },
     "metadata": {
      "image/png": {
       "height": 420,
       "width": 420
      },
      "text/plain": {
       "height": 420,
       "width": 420
      }
     },
     "output_type": "display_data"
    }
   ],
   "source": [
    "plot(table(gss_con$news, gss_con$conpress))"
   ]
  },
  {
   "cell_type": "markdown",
   "metadata": {},
   "source": [
    "Mosaic plots provide a way to visualize contingency tables. If we compare the mosaic plot to the table of counts, the size of the boxes are related to the counts in the table. We can see that the number of respondents who read every day and only have some confidence in press are the highest, and the number of respondents who read few times a week and have great confidence in press are the lowest."
   ]
  },
  {
   "cell_type": "code",
   "execution_count": 7,
   "metadata": {},
   "outputs": [
    {
     "data": {
      "image/png": "[encoded data removed]",
      "text/plain": [
       "plot without title"
      ]
     },
     "metadata": {
      "image/png": {
       "height": 420,
       "width": 420
      },
      "text/plain": {
       "height": 420,
       "width": 420
      }
     },
     "output_type": "display_data"
    }
   ],
   "source": [
    "ggplot(aes(x=news), data=gss_con) + \n",
    "    geom_bar(aes(fill=conpress), position = position_dodge()) + \n",
    "    ggtitle('Frequency of Reading News vs. Confidence in Press')"
   ]
  },
  {
   "cell_type": "markdown",
   "metadata": {},
   "source": [
    "**Observations:**\n",
    "\n",
    "* The number of respondents who have a great deal of confidence in press are consistently lowest across all groups of news readers. \n",
    "\n",
    "* The number of respondents who hardly have any confidence in press are highest in three group of news readers - \"Never\", \"Less than Once Wk\" and \"Once A Week\"."
   ]
  },
  {
   "cell_type": "markdown",
   "metadata": {},
   "source": [
    "### Inference for Research Question 1\n",
    "\n",
    "#### State hypothesis\n",
    "\n",
    "**Null Hypothesis:** Frequency of reading news and confidence in press are independent. Frequency of reading news does not vary by confidence in press.  \n",
    "**Alternative Hypothesis:** Frequency of reading news and confidence in press are dependent. Frequency of reading news does vary by confidence in press.\n",
    "\n",
    "#### Check conditions\n",
    "\n",
    "* The survey respondents were random sampled, we can assume the independence. \n",
    "* If sampling without replacement, n < 10% of population. The 1398 observations met this requirement.\n",
    "* Each case only contribute to one cell in the table. Because the independence requirement has been met, we can check this as well.\n",
    "* Each cell must have at least 5 expected cases. From below table, it is clear that it meets the requirement."
   ]
  },
  {
   "cell_type": "code",
   "execution_count": 8,
   "metadata": {},
   "outputs": [
    {
     "data": {
      "text/html": [
       "<table>\n",
       "<caption>A matrix: 5 × 3 of type dbl</caption>\n",
       "<thead>\n",
       "\t<tr><th></th><th scope=col>A Great Deal</th><th scope=col>Only Some</th><th scope=col>Hardly Any</th></tr>\n",
       "</thead>\n",
       "<tbody>\n",
       "\t<tr><th scope=row>Everyday</th><td>41.70815</td><td>197.87124</td><td>212.42060</td></tr>\n",
       "\t<tr><th scope=row>Few Times A Week</th><td>22.23820</td><td>105.50215</td><td>113.25966</td></tr>\n",
       "\t<tr><th scope=row>Once A Week</th><td>17.71674</td><td> 84.05150</td><td> 90.23176</td></tr>\n",
       "\t<tr><th scope=row>Less Than Once Wk</th><td>20.66953</td><td> 98.06009</td><td>105.27039</td></tr>\n",
       "\t<tr><th scope=row>Never</th><td>26.66738</td><td>126.51502</td><td>135.81760</td></tr>\n",
       "</tbody>\n",
       "</table>\n"
      ],
      "text/latex": [
       "A matrix: 5 × 3 of type dbl\n",
       "\\begin{tabular}{r|lll}\n",
       "  & A Great Deal & Only Some & Hardly Any\\\\\n",
       "\\hline\n",
       "\tEveryday & 41.70815 & 197.87124 & 212.42060\\\\\n",
       "\tFew Times A Week & 22.23820 & 105.50215 & 113.25966\\\\\n",
       "\tOnce A Week & 17.71674 &  84.05150 &  90.23176\\\\\n",
       "\tLess Than Once Wk & 20.66953 &  98.06009 & 105.27039\\\\\n",
       "\tNever & 26.66738 & 126.51502 & 135.81760\\\\\n",
       "\\end{tabular}\n"
      ],
      "text/markdown": [
       "\n",
       "A matrix: 5 × 3 of type dbl\n",
       "\n",
       "| <!--/--> | A Great Deal | Only Some | Hardly Any |\n",
       "|---|---|---|---|\n",
       "| Everyday | 41.70815 | 197.87124 | 212.42060 |\n",
       "| Few Times A Week | 22.23820 | 105.50215 | 113.25966 |\n",
       "| Once A Week | 17.71674 |  84.05150 |  90.23176 |\n",
       "| Less Than Once Wk | 20.66953 |  98.06009 | 105.27039 |\n",
       "| Never | 26.66738 | 126.51502 | 135.81760 |\n",
       "\n"
      ],
      "text/plain": [
       "                   \n",
       "                    A Great Deal Only Some Hardly Any\n",
       "  Everyday          41.70815     197.87124 212.42060 \n",
       "  Few Times A Week  22.23820     105.50215 113.25966 \n",
       "  Once A Week       17.71674      84.05150  90.23176 \n",
       "  Less Than Once Wk 20.66953      98.06009 105.27039 \n",
       "  Never             26.66738     126.51502 135.81760 "
      ]
     },
     "metadata": {},
     "output_type": "display_data"
    }
   ],
   "source": [
    "gss_con_table <- table(gss_con$news, gss_con$conpress)\n",
    "\n",
    "Xsq <- chisq.test(gss_con_table)\n",
    "\n",
    "Xsq$expected"
   ]
  },
  {
   "cell_type": "markdown",
   "metadata": {},
   "source": [
    "#### State method to be used and why and how\n",
    "\n",
    "The method used here is Chi-Square Independence Test since we are quantifying how different the observed counts are from the expected counts and we are evaluating relationship between two categorical variables. "
   ]
  },
  {
   "cell_type": "markdown",
   "metadata": {},
   "source": [
    "#### Perform inference"
   ]
  },
  {
   "cell_type": "code",
   "execution_count": 9,
   "metadata": {},
   "outputs": [
    {
     "data": {
      "text/plain": [
       "\n",
       "\tPearson's Chi-squared test\n",
       "\n",
       "data:  gss_con_table\n",
       "X-squared = 8.6459, df = 8, p-value = 0.373\n"
      ]
     },
     "metadata": {},
     "output_type": "display_data"
    }
   ],
   "source": [
    "(Xsq <- chisq.test(gss_con_table))"
   ]
  },
  {
   "cell_type": "markdown",
   "metadata": {},
   "source": [
    "The Chi-Squre statistic is 8.6459, degree of freedom is 8 and the associated P value is larger than the significance level of 0.05."
   ]
  },
  {
   "cell_type": "markdown",
   "metadata": {},
   "source": [
    "#### Interpret results\n",
    "\n",
    "We failed to reject null hypothesis, the data does not provide convincing evidence that the frequency of reading news and confidence in press are associated. \n",
    "\n",
    "## Research Question 2: Does marital status have impact on financial satisfaction?\n",
    "\n",
    "According to a [report](https://www.ncbi.nlm.nih.gov/pubmed/21675570) from [The National Center for Biotechnology Information (NCBI)](https://www.ncbi.nlm.nih.gov/), people who are financially satisfied tend to be more stable in their marriages. I am interested to find out whether satisfaction in financial situation is associated with marital status, by analyzing GSS data. I will be using the following variables for this analysis:\n",
    "\n",
    "* marital - Marital status\n",
    "* satfin - Satifaction with financial situation\n",
    "\n",
    "We will remove \"NA\"s and keep all years data."
   ]
  },
  {
   "cell_type": "markdown",
   "metadata": {},
   "source": [
    "### Exploratory data analysis for Research Question 2"
   ]
  },
  {
   "cell_type": "code",
   "execution_count": 10,
   "metadata": {},
   "outputs": [
    {
     "data": {
      "text/html": [
       "<style>\n",
       ".list-inline {list-style: none; margin:0; padding: 0}\n",
       ".list-inline>li {display: inline-block}\n",
       ".list-inline>li:not(:last-child)::after {content: \"\\00b7\"; padding: 0 .5ex}\n",
       "</style>\n",
       "<ol class=list-inline><li>52441</li><li>2</li></ol>\n"
      ],
      "text/latex": [
       "\\begin{enumerate*}\n",
       "\\item 52441\n",
       "\\item 2\n",
       "\\end{enumerate*}\n"
      ],
      "text/markdown": [
       "1. 52441\n",
       "2. 2\n",
       "\n",
       "\n"
      ],
      "text/plain": [
       "[1] 52441     2"
      ]
     },
     "metadata": {},
     "output_type": "display_data"
    }
   ],
   "source": [
    "gss_ma <- gss[ which(!is.na(gss$marital) & !is.na(gss$satfin)), ]\n",
    "\n",
    "gss_ma <- gss_ma %>% select(marital, satfin)\n",
    "\n",
    "dim(gss_ma)"
   ]
  },
  {
   "cell_type": "markdown",
   "metadata": {},
   "source": [
    "The data I will be using for this analysis have 52441 observations. Here is the summary and two-way table."
   ]
  },
  {
   "cell_type": "code",
   "execution_count": 11,
   "metadata": {},
   "outputs": [
    {
     "data": {
      "text/plain": [
       "          marital                 satfin     \n",
       " Married      :28417   Satisfied     :15341  \n",
       " Widowed      : 5171   More Or Less  :23172  \n",
       " Divorced     : 6362   Not At All Sat:13928  \n",
       " Separated    : 1833                         \n",
       " Never Married:10658                         "
      ]
     },
     "metadata": {},
     "output_type": "display_data"
    }
   ],
   "source": [
    "summary(gss_ma)"
   ]
  },
  {
   "cell_type": "code",
   "execution_count": 12,
   "metadata": {},
   "outputs": [
    {
     "data": {
      "text/plain": [
       "               \n",
       "                Satisfied More Or Less Not At All Sat\n",
       "  Married            9281        13002           6134\n",
       "  Widowed            1925         2150           1096\n",
       "  Divorced           1256         2660           2446\n",
       "  Separated           253          736            844\n",
       "  Never Married      2626         4624           3408"
      ]
     },
     "metadata": {},
     "output_type": "display_data"
    }
   ],
   "source": [
    "table(gss_ma$marital, gss_ma$satfin)"
   ]
  },
  {
   "cell_type": "code",
   "execution_count": 13,
   "metadata": {},
   "outputs": [
    {
     "data": {
      "image/png": "[encoded data removed]",
      "text/plain": [
       "Plot with title \"table(gss_ma$marital, gss_ma$satfin)\""
      ]
     },
     "metadata": {
      "image/png": {
       "height": 420,
       "width": 420
      },
      "text/plain": {
       "height": 420,
       "width": 420
      }
     },
     "output_type": "display_data"
    }
   ],
   "source": [
    "plot(table(gss_ma$marital, gss_ma$satfin))"
   ]
  },
  {
   "cell_type": "markdown",
   "metadata": {},
   "source": [
    "Interesting to see that the number of respondents who are \"married\" and \"satisfied\" are not the highest across all the groups. Seems people are hard to please."
   ]
  },
  {
   "cell_type": "code",
   "execution_count": 14,
   "metadata": {},
   "outputs": [
    {
     "data": {
      "image/png": "[encoded data removed]",
      "text/plain": [
       "plot without title"
      ]
     },
     "metadata": {
      "image/png": {
       "height": 420,
       "width": 420
      },
      "text/plain": {
       "height": 420,
       "width": 420
      }
     },
     "output_type": "display_data"
    }
   ],
   "source": [
    "ggplot(aes(x=marital), data=gss_ma) + \n",
    "    geom_bar(aes(fill=satfin), position = position_dodge()) + \n",
    "    ggtitle('Marital Status vs. Financial Satisfaction')"
   ]
  },
  {
   "cell_type": "markdown",
   "metadata": {},
   "source": [
    "**Observations:**\n",
    "\n",
    "* The number of respondents who are more or less satisfied with financial situation are the highest across all groups of marital status except \"Separated\" group. \n",
    "\n",
    "* The number of respondents who are not at all satisfied with financial situation are lowest in \"Married\", \"Widowed\" and \"Divorced\" groups.\n",
    "\n",
    "* The number of respondents who are satisfied with financial situation are lowest in \"Never Married\", \"Separated\" and \"Divorced\" groups. \n",
    "\n",
    "### Inference for Research Question 2\n",
    "\n",
    "#### State hypothesis\n",
    "\n",
    "**Null Hypothesis:** Marital status and satisfaction with financial situation are independent. Satisfaction with financial situation does not vary by marital status.  \n",
    "**Alternative Hypothesis:** Marital status and satisfaction with financial situation are dependent. Satisfaction with financial situation does vary by marital status.\n",
    "\n",
    "#### Check conditions\n",
    "\n",
    "* The independence and sampling population (n < 10%) have been discussed earlier.  \n",
    "* Each cell must have at least 5 expected cases. From below table, it is clear that it meets the requirement"
   ]
  },
  {
   "cell_type": "code",
   "execution_count": 15,
   "metadata": {},
   "outputs": [
    {
     "data": {
      "text/html": [
       "<table>\n",
       "<caption>A matrix: 5 × 3 of type dbl</caption>\n",
       "<thead>\n",
       "\t<tr><th></th><th scope=col>Satisfied</th><th scope=col>More Or Less</th><th scope=col>Not At All Sat</th></tr>\n",
       "</thead>\n",
       "<tbody>\n",
       "\t<tr><th scope=row>Married</th><td>8313.0603</td><td>12556.5631</td><td>7547.3766</td></tr>\n",
       "\t<tr><th scope=row>Widowed</th><td>1512.7155</td><td> 2284.8994</td><td>1373.3851</td></tr>\n",
       "\t<tr><th scope=row>Divorced</th><td>1861.1285</td><td> 2811.1642</td><td>1689.7072</td></tr>\n",
       "\t<tr><th scope=row>Separated</th><td> 536.2227</td><td>  809.9441</td><td> 486.8333</td></tr>\n",
       "\t<tr><th scope=row>Never Married</th><td>3117.8730</td><td> 4709.4292</td><td>2830.6978</td></tr>\n",
       "</tbody>\n",
       "</table>\n"
      ],
      "text/latex": [
       "A matrix: 5 × 3 of type dbl\n",
       "\\begin{tabular}{r|lll}\n",
       "  & Satisfied & More Or Less & Not At All Sat\\\\\n",
       "\\hline\n",
       "\tMarried & 8313.0603 & 12556.5631 & 7547.3766\\\\\n",
       "\tWidowed & 1512.7155 &  2284.8994 & 1373.3851\\\\\n",
       "\tDivorced & 1861.1285 &  2811.1642 & 1689.7072\\\\\n",
       "\tSeparated &  536.2227 &   809.9441 &  486.8333\\\\\n",
       "\tNever Married & 3117.8730 &  4709.4292 & 2830.6978\\\\\n",
       "\\end{tabular}\n"
      ],
      "text/markdown": [
       "\n",
       "A matrix: 5 × 3 of type dbl\n",
       "\n",
       "| <!--/--> | Satisfied | More Or Less | Not At All Sat |\n",
       "|---|---|---|---|\n",
       "| Married | 8313.0603 | 12556.5631 | 7547.3766 |\n",
       "| Widowed | 1512.7155 |  2284.8994 | 1373.3851 |\n",
       "| Divorced | 1861.1285 |  2811.1642 | 1689.7072 |\n",
       "| Separated |  536.2227 |   809.9441 |  486.8333 |\n",
       "| Never Married | 3117.8730 |  4709.4292 | 2830.6978 |\n",
       "\n"
      ],
      "text/plain": [
       "               \n",
       "                Satisfied More Or Less Not At All Sat\n",
       "  Married       8313.0603 12556.5631   7547.3766     \n",
       "  Widowed       1512.7155  2284.8994   1373.3851     \n",
       "  Divorced      1861.1285  2811.1642   1689.7072     \n",
       "  Separated      536.2227   809.9441    486.8333     \n",
       "  Never Married 3117.8730  4709.4292   2830.6978     "
      ]
     },
     "metadata": {},
     "output_type": "display_data"
    }
   ],
   "source": [
    "gss_ma_table <- table(gss_ma$marital, gss_ma$satfin)\n",
    "\n",
    "Xsq1 <- chisq.test(gss_ma_table)\n",
    "\n",
    "Xsq1$expected"
   ]
  },
  {
   "cell_type": "markdown",
   "metadata": {},
   "source": [
    "#### State method to be used and why and how\n",
    "\n",
    "Again, the method used here is Chi-Square Independence Test since we are quantifying how different the observed counts are from the expected counts and we are evaluating relationship between two categorical variables. \n",
    "\n",
    "#### Perform inference"
   ]
  },
  {
   "cell_type": "code",
   "execution_count": 16,
   "metadata": {},
   "outputs": [
    {
     "data": {
      "text/plain": [
       "\n",
       "\tPearson's Chi-squared test\n",
       "\n",
       "data:  gss_ma_table\n",
       "X-squared = 1728.2, df = 8, p-value < 2.2e-16\n"
      ]
     },
     "metadata": {},
     "output_type": "display_data"
    }
   ],
   "source": [
    "(Xsq1 <- chisq.test(gss_ma_table))"
   ]
  },
  {
   "cell_type": "markdown",
   "metadata": {},
   "source": [
    "The Chi-Squre statistic is 1728.2, degree of freedom is 8 and the associated P value is almost 0."
   ]
  },
  {
   "cell_type": "markdown",
   "metadata": {},
   "source": [
    "#### Interpret results\n",
    "\n",
    "With such a small P value, We reject null hypothesis in favor of alternative hypothesis and conclude that satisfaction with financial situation and marital status are dependent. The study is observational, so we can only establish association but not causation between these two variables. \n",
    "\n",
    "## Research Question 3: Income disparity among races\n",
    "\n",
    "The existence of racial wage gap in America has been documented by many scholars and written about in many journals. [Some research finds that the racial wage gap is focused in the private sector](https://www.ncbi.nlm.nih.gov/pmc/articles/PMC4500634/). How about U.S citizen in general? I am interested in drawing statistical inference using GSS data to compare family income between difference races. I will be using the following variables for this analysis:\n",
    "\n",
    "* race: Race of respondent\n",
    "* coninc: Total family income in constant dollars \n",
    "\n",
    "Again, remove all \"NA\"s and keep data for all the years. \n",
    "\n",
    "### Exploratory data analysis for Research Question 3"
   ]
  },
  {
   "cell_type": "code",
   "execution_count": 17,
   "metadata": {},
   "outputs": [
    {
     "data": {
      "text/html": [
       "<style>\n",
       ".list-inline {list-style: none; margin:0; padding: 0}\n",
       ".list-inline>li {display: inline-block}\n",
       ".list-inline>li:not(:last-child)::after {content: \"\\00b7\"; padding: 0 .5ex}\n",
       "</style>\n",
       "<ol class=list-inline><li>51232</li><li>2</li></ol>\n"
      ],
      "text/latex": [
       "\\begin{enumerate*}\n",
       "\\item 51232\n",
       "\\item 2\n",
       "\\end{enumerate*}\n"
      ],
      "text/markdown": [
       "1. 51232\n",
       "2. 2\n",
       "\n",
       "\n"
      ],
      "text/plain": [
       "[1] 51232     2"
      ]
     },
     "metadata": {},
     "output_type": "display_data"
    }
   ],
   "source": [
    "gss_in <- gss[ which(!is.na(gss$race) & !is.na(gss$coninc)), ]\n",
    "\n",
    "gss_in <- gss_in %>% select(race, coninc)\n",
    "\n",
    "dim(gss_in)"
   ]
  },
  {
   "cell_type": "markdown",
   "metadata": {},
   "source": [
    "The data I will be using for this analysis has 51232 observations and 2 variables."
   ]
  },
  {
   "cell_type": "code",
   "execution_count": 18,
   "metadata": {},
   "outputs": [
    {
     "data": {
      "image/png": "[encoded data removed]",
      "text/plain": [
       "plot without title"
      ]
     },
     "metadata": {
      "image/png": {
       "height": 420,
       "width": 420
      },
      "text/plain": {
       "height": 420,
       "width": 420
      }
     },
     "output_type": "display_data"
    }
   ],
   "source": [
    "ggplot(aes(x=race, y=coninc), data=gss_in) + \n",
    "    geom_boxplot() + \n",
    "    ggtitle('Race vs. Family Income Boxplot')"
   ]
  },
  {
   "cell_type": "code",
   "execution_count": 19,
   "metadata": {},
   "outputs": [
    {
     "data": {
      "text/plain": [
       "gss_in$race: White\n",
       "   Min. 1st Qu.  Median    Mean 3rd Qu.    Max. \n",
       "    383   20129   38414   47007   62946  180386 \n",
       "------------------------------------------------------------ \n",
       "gss_in$race: Black\n",
       "   Min. 1st Qu.  Median    Mean 3rd Qu.    Max. \n",
       "    383    9953   21959   30185   41523  180386 \n",
       "------------------------------------------------------------ \n",
       "gss_in$race: Other\n",
       "   Min. 1st Qu.  Median    Mean 3rd Qu.    Max. \n",
       "    383   15572   30861   42415   56059  180386 "
      ]
     },
     "metadata": {},
     "output_type": "display_data"
    }
   ],
   "source": [
    "by(gss_in$coninc, gss_in$race, summary)"
   ]
  },
  {
   "cell_type": "markdown",
   "metadata": {},
   "source": [
    "**Observations:**\n",
    "\n",
    "* The distribution of total family incomce for all race groups are right skewed.\n",
    "\n",
    "* The White group has the highest total family income in first quartile, median, mean and 3rd quartile.\n",
    "\n",
    "* The Black group has the least variability in total family income.\n",
    "\n",
    "### Inference for Research Question 3\n",
    "\n",
    "#### State hypothesis\n",
    "\n",
    "**Null Hypothesis:** The average total family income is the same across all race groups.  \n",
    "**Alternative Hypothesis:** The average total family income differ between at least one pair of race groups.\n",
    "\n",
    "#### Check conditions\n",
    "\n",
    "* The survey respondents were random sampled and the samples are less than 10% of population. So the condition of independence within group is met.\n",
    "* We have three race groups and they are independent of each other. \n",
    "* Distribution of response variable in each race group should be approximately normal. Unfortunatley, from below QQ plot, we can see all three groups have quite a bit divergence from normality in the upper tail."
   ]
  },
  {
   "cell_type": "code",
   "execution_count": 20,
   "metadata": {},
   "outputs": [
    {
     "data": {
      "image/png": "[encoded data removed]",
      "text/plain": [
       "Plot with title \"White\""
      ]
     },
     "metadata": {
      "image/png": {
       "height": 420,
       "width": 420
      },
      "text/plain": {
       "height": 420,
       "width": 420
      }
     },
     "output_type": "display_data"
    }
   ],
   "source": [
    "qqnorm(gss_in$coninc[gss_in$race=='White'], main=\"White\")\n",
    "\n",
    "qqline(gss_in$coninc[gss_in$race=='White'])"
   ]
  },
  {
   "cell_type": "code",
   "execution_count": 21,
   "metadata": {},
   "outputs": [
    {
     "data": {
      "image/png": "[encoded data removed]",
      "text/plain": [
       "Plot with title \"Black\""
      ]
     },
     "metadata": {
      "image/png": {
       "height": 420,
       "width": 420
      },
      "text/plain": {
       "height": 420,
       "width": 420
      }
     },
     "output_type": "display_data"
    }
   ],
   "source": [
    "qqnorm(gss_in$coninc[gss_in$race=='Black'], main=\"Black\")\n",
    "\n",
    "qqline(gss_in$coninc[gss_in$race=='Black'])"
   ]
  },
  {
   "cell_type": "code",
   "execution_count": 22,
   "metadata": {},
   "outputs": [
    {
     "data": {
      "image/png": "[encoded data removed]",
      "text/plain": [
       "Plot with title \"Other\""
      ]
     },
     "metadata": {
      "image/png": {
       "height": 420,
       "width": 420
      },
      "text/plain": {
       "height": 420,
       "width": 420
      }
     },
     "output_type": "display_data"
    }
   ],
   "source": [
    "qqnorm(gss_in$coninc[gss_in$race=='Other'], main=\"Other\")\n",
    "\n",
    "qqline(gss_in$coninc[gss_in$race=='Other'])"
   ]
  },
  {
   "cell_type": "markdown",
   "metadata": {},
   "source": [
    "* Variability should be consistent across groups. From above boxplot, it seems that the variability is consistent across \"White\" and \"Other\" groups, but it is much lower for the \"Black\" group. \n",
    "\n",
    "Although the assumptions of ANOVA did not meet, I will still go ahead to perform ANOVA but I have to be very careful in interpreting the results. \n",
    "\n",
    "#### State method to be used and why and how\n",
    "\n",
    "We compare average family income from more than two groups, - \"White\", \"Black\" and \"Other\". We want to know whether those three means are so far apart that the observed differences cannot all reasonably be attributed to sampling variability. So we use ANOVA."
   ]
  },
  {
   "cell_type": "code",
   "execution_count": 23,
   "metadata": {},
   "outputs": [
    {
     "data": {
      "text/html": [
       "<table>\n",
       "<caption>A anova: 2 × 5</caption>\n",
       "<thead>\n",
       "\t<tr><th></th><th scope=col>Df</th><th scope=col>Sum Sq</th><th scope=col>Mean Sq</th><th scope=col>F value</th><th scope=col>Pr(&gt;F)</th></tr>\n",
       "\t<tr><th></th><th scope=col>&lt;int&gt;</th><th scope=col>&lt;dbl&gt;</th><th scope=col>&lt;dbl&gt;</th><th scope=col>&lt;dbl&gt;</th><th scope=col>&lt;dbl&gt;</th></tr>\n",
       "</thead>\n",
       "<tbody>\n",
       "\t<tr><th scope=row>race</th><td>    2</td><td>1.698881e+12</td><td>849440348560</td><td>675.0779</td><td>4.114154e-290</td></tr>\n",
       "\t<tr><th scope=row>Residuals</th><td>51229</td><td>6.446068e+13</td><td>  1258284917</td><td>      NA</td><td>           NA</td></tr>\n",
       "</tbody>\n",
       "</table>\n"
      ],
      "text/latex": [
       "A anova: 2 × 5\n",
       "\\begin{tabular}{r|lllll}\n",
       "  & Df & Sum Sq & Mean Sq & F value & Pr(>F)\\\\\n",
       "  & <int> & <dbl> & <dbl> & <dbl> & <dbl>\\\\\n",
       "\\hline\n",
       "\trace &     2 & 1.698881e+12 & 849440348560 & 675.0779 & 4.114154e-290\\\\\n",
       "\tResiduals & 51229 & 6.446068e+13 &   1258284917 &       NA &            NA\\\\\n",
       "\\end{tabular}\n"
      ],
      "text/markdown": [
       "\n",
       "A anova: 2 × 5\n",
       "\n",
       "| <!--/--> | Df &lt;int&gt; | Sum Sq &lt;dbl&gt; | Mean Sq &lt;dbl&gt; | F value &lt;dbl&gt; | Pr(&gt;F) &lt;dbl&gt; |\n",
       "|---|---|---|---|---|---|\n",
       "| race |     2 | 1.698881e+12 | 849440348560 | 675.0779 | 4.114154e-290 |\n",
       "| Residuals | 51229 | 6.446068e+13 |   1258284917 |       NA |            NA |\n",
       "\n"
      ],
      "text/plain": [
       "          Df    Sum Sq       Mean Sq      F value  Pr(>F)       \n",
       "race          2 1.698881e+12 849440348560 675.0779 4.114154e-290\n",
       "Residuals 51229 6.446068e+13   1258284917       NA            NA"
      ]
     },
     "metadata": {},
     "output_type": "display_data"
    }
   ],
   "source": [
    "mod <- lm(coninc ~ race, data = gss_in)\n",
    "\n",
    "anova(mod)"
   ]
  },
  {
   "cell_type": "markdown",
   "metadata": {},
   "source": [
    "#### Interpret results\n",
    "\n",
    "* With such a small P value (almost 0), we reject the null hypothesis, we have sufficient evidence that at least one pair of race groups' population average family income are different from each other. But we don't know which pair of groups.\n",
    "\n",
    "Since the results of ANOVA was significant, we are safe to continue with our pairwise comparisons to find out which pair of groups have difference income. "
   ]
  },
  {
   "cell_type": "code",
   "execution_count": 24,
   "metadata": {},
   "outputs": [
    {
     "data": {
      "text/plain": [
       "\n",
       "\tPairwise comparisons using t tests with pooled SD \n",
       "\n",
       "data:  gss_in$coninc and gss_in$race \n",
       "\n",
       "      White   Black  \n",
       "Black < 2e-16 -      \n",
       "Other 1.4e-09 < 2e-16\n",
       "\n",
       "P value adjustment method: bonferroni "
      ]
     },
     "metadata": {},
     "output_type": "display_data"
    }
   ],
   "source": [
    "pairwise.t.test(gss_in$coninc, gss_in$race, p.adj ='bonferroni')"
   ]
  },
  {
   "cell_type": "markdown",
   "metadata": {},
   "source": [
    "* Using the Bonferroni adjustment, all group pairs, White-Black, White-Other, Black-Other comparisons are statistically significant. We are using a more stringent and conservative correction (Bonferroni adjustment) and we still got very small P values, therefore, we can reject the null hypothesis again. \n",
    "\n",
    "#### Confidence Interval\n",
    "\n",
    "As a last step, calculate confidence interval for one pairwise group difference - \"White\" and \"Other\"."
   ]
  },
  {
   "cell_type": "code",
   "execution_count": 25,
   "metadata": {},
   "outputs": [
    {
     "name": "stdout",
     "output_type": "stream",
     "text": [
      "Response variable: numerical, Explanatory variable: categorical (2 levels)\n",
      "n_White = 41824, y_bar_White = 47006.7433, s_White = 36405.4758\n",
      "n_Other = 2452, y_bar_Other = 42415.4274, s_Other = 38105.4353\n",
      "95% CI (White - Other): (3042.4667 , 6140.165)\n"
     ]
    },
    {
     "data": {
      "image/png": "[encoded data removed]",
      "text/plain": [
       "plot without title"
      ]
     },
     "metadata": {
      "image/png": {
       "height": 420,
       "width": 420
      },
      "text/plain": {
       "height": 420,
       "width": 420
      }
     },
     "output_type": "display_data"
    }
   ],
   "source": [
    "gss_in_w_o <- subset(gss_in, race== 'White' | race=='Other', select=c(race, coninc))\n",
    "\n",
    "gss_in_w_o <- droplevels(gss_in_w_o)\n",
    "\n",
    "inference(y = coninc, x = race, data = gss_in_w_o, statistic = \"mean\", type = \"ci\", conf_level = 0.95, method = \"theoretical\")"
   ]
  },
  {
   "cell_type": "markdown",
   "metadata": {},
   "source": [
    "### Conclusion\n",
    "\n",
    "We are 95% confident that the average total family income of the \"White\" group was \\\\$3042 to \\\\$6140 higher than the \"Other\" group per year.\n",
    "\n",
    "Here we performed ANOVA to assess whether a significant difference exists at all amongst the groups, whereas the pairwise comparisons were used to determine which group differences are statistically significant. Although our data have significant divergence from normality for all three race groups, ANOVA is considered a robust test against the normality assumption. \n",
    "\n",
    "\n",
    "References: \n",
    "\n",
    "[Wikipedia](https://en.wikipedia.org/wiki/General_Social_Survey)\n",
    "\n",
    "[GSS General Social Survey](http://gss.norc.org/)\n",
    "\n",
    "[Pearson's Chi-squared test for count data](https://stat.ethz.ch/R-manual/R-devel/library/stats/html/chisq.test.html)\n",
    "\n",
    "[Stackoverflow](https://stackoverflow.com/questions/26197759/inference-function-insisting-that-i-use-anova-versus-two-sided-hypothesis-test)\n",
    "\n",
    "[R-bloggers](https://www.r-bloggers.com/r-tutorial-series-anova-pairwise-comparison-methods/)\n",
    "\n",
    "[Statistical inference](https://sharan-naribole.github.io/2017/04/01/inferential_stats_coursera.html)"
   ]
  }
 ],
 "metadata": {
  "kernelspec": {
   "display_name": "R",
   "language": "R",
   "name": "ir"
  },
  "language_info": {
   "codemirror_mode": "r",
   "file_extension": ".r",
   "mimetype": "text/x-r-source",
   "name": "R",
   "pygments_lexer": "r",
   "version": "3.6.3"
  }
 },
 "nbformat": 4,
 "nbformat_minor": 4
}
