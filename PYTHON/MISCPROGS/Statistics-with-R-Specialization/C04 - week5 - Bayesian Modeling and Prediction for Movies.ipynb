{
 "cells": [
  {
   "cell_type": "markdown",
   "metadata": {},
   "source": [
    "# Bayesian Modeling and Prediction for Movies"
   ]
  },
  {
   "cell_type": "markdown",
   "metadata": {},
   "source": [
    "<img src=\"images/moviesd.png\"/>"
   ]
  },
  {
   "cell_type": "markdown",
   "metadata": {},
   "source": [
    "## Part 1: Data\n",
    "\n",
    "### Sample\n",
    "The sample data set is comprised of 651 randomly sampled movies produced and released before 2016. Some of the variables provide descriptive information that would not be use full in a data exploration or a linear regression analysis. For example:  Title of the movie, link to IMDB or link to rottentomatoes.\n",
    "\n",
    "### Methodology\n",
    "The data collection methodology is not explicitly stated, but it is evident that the data is purely observational. Random sampling was involved but random assignement of treatment was not done therefore we cannot make any causality study. Only generalization is allowed for the conclusion reached in this analysis."
   ]
  },
  {
   "cell_type": "markdown",
   "metadata": {},
   "source": [
    "### Load Libraries"
   ]
  },
  {
   "cell_type": "code",
   "execution_count": 1,
   "metadata": {},
   "outputs": [
    {
     "name": "stderr",
     "output_type": "stream",
     "text": [
      "\n",
      "Attaching package: 'dplyr'\n",
      "\n",
      "\n",
      "The following objects are masked from 'package:stats':\n",
      "\n",
      "    filter, lag\n",
      "\n",
      "\n",
      "The following objects are masked from 'package:base':\n",
      "\n",
      "    intersect, setdiff, setequal, union\n",
      "\n",
      "\n",
      "\n",
      "Attaching package: 'gridExtra'\n",
      "\n",
      "\n",
      "The following object is masked from 'package:dplyr':\n",
      "\n",
      "    combine\n",
      "\n",
      "\n"
     ]
    }
   ],
   "source": [
    "#install.packages(\"package\")\n",
    "library(ggplot2)\n",
    "library(dplyr)\n",
    "library(statsr)\n",
    "library(BAS)\n",
    "library(gridExtra)\n",
    "library(tidyr)"
   ]
  },
  {
   "cell_type": "markdown",
   "metadata": {},
   "source": [
    "### Load Data"
   ]
  },
  {
   "cell_type": "code",
   "execution_count": 2,
   "metadata": {},
   "outputs": [
    {
     "data": {
      "text/html": [
       "<table>\n",
       "<caption>A tibble: 6 × 32</caption>\n",
       "<thead>\n",
       "\t<tr><th scope=col>title</th><th scope=col>title_type</th><th scope=col>genre</th><th scope=col>runtime</th><th scope=col>mpaa_rating</th><th scope=col>studio</th><th scope=col>thtr_rel_year</th><th scope=col>thtr_rel_month</th><th scope=col>thtr_rel_day</th><th scope=col>dvd_rel_year</th><th scope=col>⋯</th><th scope=col>best_dir_win</th><th scope=col>top200_box</th><th scope=col>director</th><th scope=col>actor1</th><th scope=col>actor2</th><th scope=col>actor3</th><th scope=col>actor4</th><th scope=col>actor5</th><th scope=col>imdb_url</th><th scope=col>rt_url</th></tr>\n",
       "\t<tr><th scope=col>&lt;chr&gt;</th><th scope=col>&lt;fct&gt;</th><th scope=col>&lt;fct&gt;</th><th scope=col>&lt;dbl&gt;</th><th scope=col>&lt;fct&gt;</th><th scope=col>&lt;fct&gt;</th><th scope=col>&lt;dbl&gt;</th><th scope=col>&lt;dbl&gt;</th><th scope=col>&lt;dbl&gt;</th><th scope=col>&lt;dbl&gt;</th><th scope=col>⋯</th><th scope=col>&lt;fct&gt;</th><th scope=col>&lt;fct&gt;</th><th scope=col>&lt;chr&gt;</th><th scope=col>&lt;chr&gt;</th><th scope=col>&lt;chr&gt;</th><th scope=col>&lt;chr&gt;</th><th scope=col>&lt;chr&gt;</th><th scope=col>&lt;chr&gt;</th><th scope=col>&lt;chr&gt;</th><th scope=col>&lt;chr&gt;</th></tr>\n",
       "</thead>\n",
       "<tbody>\n",
       "\t<tr><td>Filly Brown         </td><td>Feature Film</td><td>Drama      </td><td> 80</td><td>R      </td><td>Indomina Media Inc.     </td><td>2013</td><td> 4</td><td>19</td><td>2013</td><td>⋯</td><td>no </td><td>no</td><td>Michael D. Olmos </td><td>Gina Rodriguez   </td><td>Jenni Rivera      </td><td>Lou Diamond Phillips</td><td>Emilio Rivera   </td><td>Joseph Julian Soria</td><td>http://www.imdb.com/title/tt1869425/</td><td>//www.rottentomatoes.com/m/filly_brown_2012/    </td></tr>\n",
       "\t<tr><td>The Dish            </td><td>Feature Film</td><td>Drama      </td><td>101</td><td>PG-13  </td><td>Warner Bros. Pictures   </td><td>2001</td><td> 3</td><td>14</td><td>2001</td><td>⋯</td><td>no </td><td>no</td><td>Rob Sitch        </td><td>Sam Neill        </td><td>Kevin Harrington  </td><td>Patrick Warburton   </td><td>Tom Long        </td><td>Genevieve Mooy     </td><td>http://www.imdb.com/title/tt0205873/</td><td>//www.rottentomatoes.com/m/dish/                </td></tr>\n",
       "\t<tr><td>Waiting for Guffman </td><td>Feature Film</td><td>Comedy     </td><td> 84</td><td>R      </td><td>Sony Pictures Classics  </td><td>1996</td><td> 8</td><td>21</td><td>2001</td><td>⋯</td><td>no </td><td>no</td><td>Christopher Guest</td><td>Christopher Guest</td><td>Catherine O'Hara  </td><td>Parker Posey        </td><td>Eugene Levy     </td><td>Bob Balaban        </td><td>http://www.imdb.com/title/tt0118111/</td><td>//www.rottentomatoes.com/m/waiting_for_guffman/ </td></tr>\n",
       "\t<tr><td>The Age of Innocence</td><td>Feature Film</td><td>Drama      </td><td>139</td><td>PG     </td><td>Columbia Pictures       </td><td>1993</td><td>10</td><td> 1</td><td>2001</td><td>⋯</td><td>yes</td><td>no</td><td>Martin Scorsese  </td><td>Daniel Day-Lewis </td><td>Michelle Pfeiffer </td><td>Winona Ryder        </td><td>Richard E. Grant</td><td>Alec McCowen       </td><td>http://www.imdb.com/title/tt0106226/</td><td>//www.rottentomatoes.com/m/age_of_innocence/    </td></tr>\n",
       "\t<tr><td>Malevolence         </td><td>Feature Film</td><td>Horror     </td><td> 90</td><td>R      </td><td>Anchor Bay Entertainment</td><td>2004</td><td> 9</td><td>10</td><td>2005</td><td>⋯</td><td>no </td><td>no</td><td>Stevan Mena      </td><td>Samantha Dark    </td><td>R. Brandon Johnson</td><td>Brandon Johnson     </td><td>Heather Magee   </td><td>Richard Glover     </td><td>http://www.imdb.com/title/tt0388230/</td><td>//www.rottentomatoes.com/m/10004684-malevolence/</td></tr>\n",
       "\t<tr><td>Old Partner         </td><td>Documentary </td><td>Documentary</td><td> 78</td><td>Unrated</td><td>Shcalo Media Group      </td><td>2009</td><td> 1</td><td>15</td><td>2010</td><td>⋯</td><td>no </td><td>no</td><td>Chung-ryoul Lee  </td><td>Choi Won-kyun    </td><td>Lee Sam-soon      </td><td>Moo                 </td><td>NA              </td><td>NA                 </td><td>http://www.imdb.com/title/tt1334549/</td><td>//www.rottentomatoes.com/m/old-partner/         </td></tr>\n",
       "</tbody>\n",
       "</table>\n"
      ],
      "text/latex": [
       "A tibble: 6 × 32\n",
       "\\begin{tabular}{lllllllllllllllllllll}\n",
       " title & title\\_type & genre & runtime & mpaa\\_rating & studio & thtr\\_rel\\_year & thtr\\_rel\\_month & thtr\\_rel\\_day & dvd\\_rel\\_year & ⋯ & best\\_dir\\_win & top200\\_box & director & actor1 & actor2 & actor3 & actor4 & actor5 & imdb\\_url & rt\\_url\\\\\n",
       " <chr> & <fct> & <fct> & <dbl> & <fct> & <fct> & <dbl> & <dbl> & <dbl> & <dbl> & ⋯ & <fct> & <fct> & <chr> & <chr> & <chr> & <chr> & <chr> & <chr> & <chr> & <chr>\\\\\n",
       "\\hline\n",
       "\t Filly Brown          & Feature Film & Drama       &  80 & R       & Indomina Media Inc.      & 2013 &  4 & 19 & 2013 & ⋯ & no  & no & Michael D. Olmos  & Gina Rodriguez    & Jenni Rivera       & Lou Diamond Phillips & Emilio Rivera    & Joseph Julian Soria & http://www.imdb.com/title/tt1869425/ & //www.rottentomatoes.com/m/filly\\_brown\\_2012/    \\\\\n",
       "\t The Dish             & Feature Film & Drama       & 101 & PG-13   & Warner Bros. Pictures    & 2001 &  3 & 14 & 2001 & ⋯ & no  & no & Rob Sitch         & Sam Neill         & Kevin Harrington   & Patrick Warburton    & Tom Long         & Genevieve Mooy      & http://www.imdb.com/title/tt0205873/ & //www.rottentomatoes.com/m/dish/                \\\\\n",
       "\t Waiting for Guffman  & Feature Film & Comedy      &  84 & R       & Sony Pictures Classics   & 1996 &  8 & 21 & 2001 & ⋯ & no  & no & Christopher Guest & Christopher Guest & Catherine O'Hara   & Parker Posey         & Eugene Levy      & Bob Balaban         & http://www.imdb.com/title/tt0118111/ & //www.rottentomatoes.com/m/waiting\\_for\\_guffman/ \\\\\n",
       "\t The Age of Innocence & Feature Film & Drama       & 139 & PG      & Columbia Pictures        & 1993 & 10 &  1 & 2001 & ⋯ & yes & no & Martin Scorsese   & Daniel Day-Lewis  & Michelle Pfeiffer  & Winona Ryder         & Richard E. Grant & Alec McCowen        & http://www.imdb.com/title/tt0106226/ & //www.rottentomatoes.com/m/age\\_of\\_innocence/    \\\\\n",
       "\t Malevolence          & Feature Film & Horror      &  90 & R       & Anchor Bay Entertainment & 2004 &  9 & 10 & 2005 & ⋯ & no  & no & Stevan Mena       & Samantha Dark     & R. Brandon Johnson & Brandon Johnson      & Heather Magee    & Richard Glover      & http://www.imdb.com/title/tt0388230/ & //www.rottentomatoes.com/m/10004684-malevolence/\\\\\n",
       "\t Old Partner          & Documentary  & Documentary &  78 & Unrated & Shcalo Media Group       & 2009 &  1 & 15 & 2010 & ⋯ & no  & no & Chung-ryoul Lee   & Choi Won-kyun     & Lee Sam-soon       & Moo                  & NA               & NA                  & http://www.imdb.com/title/tt1334549/ & //www.rottentomatoes.com/m/old-partner/         \\\\\n",
       "\\end{tabular}\n"
      ],
      "text/markdown": [
       "\n",
       "A tibble: 6 × 32\n",
       "\n",
       "| title &lt;chr&gt; | title_type &lt;fct&gt; | genre &lt;fct&gt; | runtime &lt;dbl&gt; | mpaa_rating &lt;fct&gt; | studio &lt;fct&gt; | thtr_rel_year &lt;dbl&gt; | thtr_rel_month &lt;dbl&gt; | thtr_rel_day &lt;dbl&gt; | dvd_rel_year &lt;dbl&gt; | ⋯ ⋯ | best_dir_win &lt;fct&gt; | top200_box &lt;fct&gt; | director &lt;chr&gt; | actor1 &lt;chr&gt; | actor2 &lt;chr&gt; | actor3 &lt;chr&gt; | actor4 &lt;chr&gt; | actor5 &lt;chr&gt; | imdb_url &lt;chr&gt; | rt_url &lt;chr&gt; |\n",
       "|---|---|---|---|---|---|---|---|---|---|---|---|---|---|---|---|---|---|---|---|---|\n",
       "| Filly Brown          | Feature Film | Drama       |  80 | R       | Indomina Media Inc.      | 2013 |  4 | 19 | 2013 | ⋯ | no  | no | Michael D. Olmos  | Gina Rodriguez    | Jenni Rivera       | Lou Diamond Phillips | Emilio Rivera    | Joseph Julian Soria | http://www.imdb.com/title/tt1869425/ | //www.rottentomatoes.com/m/filly_brown_2012/     |\n",
       "| The Dish             | Feature Film | Drama       | 101 | PG-13   | Warner Bros. Pictures    | 2001 |  3 | 14 | 2001 | ⋯ | no  | no | Rob Sitch         | Sam Neill         | Kevin Harrington   | Patrick Warburton    | Tom Long         | Genevieve Mooy      | http://www.imdb.com/title/tt0205873/ | //www.rottentomatoes.com/m/dish/                 |\n",
       "| Waiting for Guffman  | Feature Film | Comedy      |  84 | R       | Sony Pictures Classics   | 1996 |  8 | 21 | 2001 | ⋯ | no  | no | Christopher Guest | Christopher Guest | Catherine O'Hara   | Parker Posey         | Eugene Levy      | Bob Balaban         | http://www.imdb.com/title/tt0118111/ | //www.rottentomatoes.com/m/waiting_for_guffman/  |\n",
       "| The Age of Innocence | Feature Film | Drama       | 139 | PG      | Columbia Pictures        | 1993 | 10 |  1 | 2001 | ⋯ | yes | no | Martin Scorsese   | Daniel Day-Lewis  | Michelle Pfeiffer  | Winona Ryder         | Richard E. Grant | Alec McCowen        | http://www.imdb.com/title/tt0106226/ | //www.rottentomatoes.com/m/age_of_innocence/     |\n",
       "| Malevolence          | Feature Film | Horror      |  90 | R       | Anchor Bay Entertainment | 2004 |  9 | 10 | 2005 | ⋯ | no  | no | Stevan Mena       | Samantha Dark     | R. Brandon Johnson | Brandon Johnson      | Heather Magee    | Richard Glover      | http://www.imdb.com/title/tt0388230/ | //www.rottentomatoes.com/m/10004684-malevolence/ |\n",
       "| Old Partner          | Documentary  | Documentary |  78 | Unrated | Shcalo Media Group       | 2009 |  1 | 15 | 2010 | ⋯ | no  | no | Chung-ryoul Lee   | Choi Won-kyun     | Lee Sam-soon       | Moo                  | NA               | NA                  | http://www.imdb.com/title/tt1334549/ | //www.rottentomatoes.com/m/old-partner/          |\n",
       "\n"
      ],
      "text/plain": [
       "  title                title_type   genre       runtime mpaa_rating\n",
       "1 Filly Brown          Feature Film Drama        80     R          \n",
       "2 The Dish             Feature Film Drama       101     PG-13      \n",
       "3 Waiting for Guffman  Feature Film Comedy       84     R          \n",
       "4 The Age of Innocence Feature Film Drama       139     PG         \n",
       "5 Malevolence          Feature Film Horror       90     R          \n",
       "6 Old Partner          Documentary  Documentary  78     Unrated    \n",
       "  studio                   thtr_rel_year thtr_rel_month thtr_rel_day\n",
       "1 Indomina Media Inc.      2013           4             19          \n",
       "2 Warner Bros. Pictures    2001           3             14          \n",
       "3 Sony Pictures Classics   1996           8             21          \n",
       "4 Columbia Pictures        1993          10              1          \n",
       "5 Anchor Bay Entertainment 2004           9             10          \n",
       "6 Shcalo Media Group       2009           1             15          \n",
       "  dvd_rel_year <U+22EF>        best_dir_win top200_box director         \n",
       "1 2013         <U+22EF> no           no         Michael D. Olmos \n",
       "2 2001         <U+22EF> no           no         Rob Sitch        \n",
       "3 2001         <U+22EF> no           no         Christopher Guest\n",
       "4 2001         <U+22EF> yes          no         Martin Scorsese  \n",
       "5 2005         <U+22EF> no           no         Stevan Mena      \n",
       "6 2010         <U+22EF> no           no         Chung-ryoul Lee  \n",
       "  actor1            actor2             actor3               actor4          \n",
       "1 Gina Rodriguez    Jenni Rivera       Lou Diamond Phillips Emilio Rivera   \n",
       "2 Sam Neill         Kevin Harrington   Patrick Warburton    Tom Long        \n",
       "3 Christopher Guest Catherine O'Hara   Parker Posey         Eugene Levy     \n",
       "4 Daniel Day-Lewis  Michelle Pfeiffer  Winona Ryder         Richard E. Grant\n",
       "5 Samantha Dark     R. Brandon Johnson Brandon Johnson      Heather Magee   \n",
       "6 Choi Won-kyun     Lee Sam-soon       Moo                  NA              \n",
       "  actor5              imdb_url                            \n",
       "1 Joseph Julian Soria http://www.imdb.com/title/tt1869425/\n",
       "2 Genevieve Mooy      http://www.imdb.com/title/tt0205873/\n",
       "3 Bob Balaban         http://www.imdb.com/title/tt0118111/\n",
       "4 Alec McCowen        http://www.imdb.com/title/tt0106226/\n",
       "5 Richard Glover      http://www.imdb.com/title/tt0388230/\n",
       "6 NA                  http://www.imdb.com/title/tt1334549/\n",
       "  rt_url                                          \n",
       "1 //www.rottentomatoes.com/m/filly_brown_2012/    \n",
       "2 //www.rottentomatoes.com/m/dish/                \n",
       "3 //www.rottentomatoes.com/m/waiting_for_guffman/ \n",
       "4 //www.rottentomatoes.com/m/age_of_innocence/    \n",
       "5 //www.rottentomatoes.com/m/10004684-malevolence/\n",
       "6 //www.rottentomatoes.com/m/old-partner/         "
      ]
     },
     "metadata": {},
     "output_type": "display_data"
    }
   ],
   "source": [
    "load(\"data/movies.Rdata\")\n",
    "head(movies)"
   ]
  },
  {
   "cell_type": "markdown",
   "metadata": {},
   "source": [
    "## Part 2: Data Manipulation\n",
    "\n",
    "In addition to the existing variables in the dataset, we will now be adding the below set of variables to be used in modelling.\n",
    "\n",
    "- feature_film: \"yes\" if title_type is \"Feature Film\", \"no\" otherwise\n",
    "- drama: \"yes\" if genre is \"Drama\", \"no\" otherwise\n",
    "- mpaa_rating_R: \"yes\" if mpaa_rating is \"R\", \"no\" otherwise\n",
    "- oscar_season: \"yes\" if movie is released in November, October, or December (based on thtr_rel_month), \"no\" otherwise\n",
    "- summer_season: \"yes\" if movie is released in May, June, July, or August (based on thtr_rel_month), \"no\" otherwise"
   ]
  },
  {
   "cell_type": "code",
   "execution_count": 3,
   "metadata": {},
   "outputs": [
    {
     "data": {
      "text/html": [
       "<table>\n",
       "<caption>A tibble: 6 × 37</caption>\n",
       "<thead>\n",
       "\t<tr><th scope=col>title</th><th scope=col>title_type</th><th scope=col>genre</th><th scope=col>runtime</th><th scope=col>mpaa_rating</th><th scope=col>studio</th><th scope=col>thtr_rel_year</th><th scope=col>thtr_rel_month</th><th scope=col>thtr_rel_day</th><th scope=col>dvd_rel_year</th><th scope=col>⋯</th><th scope=col>actor3</th><th scope=col>actor4</th><th scope=col>actor5</th><th scope=col>imdb_url</th><th scope=col>rt_url</th><th scope=col>feature_film</th><th scope=col>drama</th><th scope=col>mpaa_rating_R</th><th scope=col>oscar_season</th><th scope=col>summer_season</th></tr>\n",
       "\t<tr><th scope=col>&lt;chr&gt;</th><th scope=col>&lt;fct&gt;</th><th scope=col>&lt;fct&gt;</th><th scope=col>&lt;dbl&gt;</th><th scope=col>&lt;fct&gt;</th><th scope=col>&lt;fct&gt;</th><th scope=col>&lt;dbl&gt;</th><th scope=col>&lt;dbl&gt;</th><th scope=col>&lt;dbl&gt;</th><th scope=col>&lt;dbl&gt;</th><th scope=col>⋯</th><th scope=col>&lt;chr&gt;</th><th scope=col>&lt;chr&gt;</th><th scope=col>&lt;chr&gt;</th><th scope=col>&lt;chr&gt;</th><th scope=col>&lt;chr&gt;</th><th scope=col>&lt;fct&gt;</th><th scope=col>&lt;fct&gt;</th><th scope=col>&lt;fct&gt;</th><th scope=col>&lt;fct&gt;</th><th scope=col>&lt;fct&gt;</th></tr>\n",
       "</thead>\n",
       "<tbody>\n",
       "\t<tr><td>Filly Brown         </td><td>Feature Film</td><td>Drama      </td><td> 80</td><td>R      </td><td>Indomina Media Inc.     </td><td>2013</td><td> 4</td><td>19</td><td>2013</td><td>⋯</td><td>Lou Diamond Phillips</td><td>Emilio Rivera   </td><td>Joseph Julian Soria</td><td>http://www.imdb.com/title/tt1869425/</td><td>//www.rottentomatoes.com/m/filly_brown_2012/    </td><td>yes</td><td>yes</td><td>yes</td><td>no </td><td>no </td></tr>\n",
       "\t<tr><td>The Dish            </td><td>Feature Film</td><td>Drama      </td><td>101</td><td>PG-13  </td><td>Warner Bros. Pictures   </td><td>2001</td><td> 3</td><td>14</td><td>2001</td><td>⋯</td><td>Patrick Warburton   </td><td>Tom Long        </td><td>Genevieve Mooy     </td><td>http://www.imdb.com/title/tt0205873/</td><td>//www.rottentomatoes.com/m/dish/                </td><td>yes</td><td>yes</td><td>no </td><td>no </td><td>no </td></tr>\n",
       "\t<tr><td>Waiting for Guffman </td><td>Feature Film</td><td>Comedy     </td><td> 84</td><td>R      </td><td>Sony Pictures Classics  </td><td>1996</td><td> 8</td><td>21</td><td>2001</td><td>⋯</td><td>Parker Posey        </td><td>Eugene Levy     </td><td>Bob Balaban        </td><td>http://www.imdb.com/title/tt0118111/</td><td>//www.rottentomatoes.com/m/waiting_for_guffman/ </td><td>yes</td><td>no </td><td>yes</td><td>no </td><td>yes</td></tr>\n",
       "\t<tr><td>The Age of Innocence</td><td>Feature Film</td><td>Drama      </td><td>139</td><td>PG     </td><td>Columbia Pictures       </td><td>1993</td><td>10</td><td> 1</td><td>2001</td><td>⋯</td><td>Winona Ryder        </td><td>Richard E. Grant</td><td>Alec McCowen       </td><td>http://www.imdb.com/title/tt0106226/</td><td>//www.rottentomatoes.com/m/age_of_innocence/    </td><td>yes</td><td>yes</td><td>no </td><td>yes</td><td>no </td></tr>\n",
       "\t<tr><td>Malevolence         </td><td>Feature Film</td><td>Horror     </td><td> 90</td><td>R      </td><td>Anchor Bay Entertainment</td><td>2004</td><td> 9</td><td>10</td><td>2005</td><td>⋯</td><td>Brandon Johnson     </td><td>Heather Magee   </td><td>Richard Glover     </td><td>http://www.imdb.com/title/tt0388230/</td><td>//www.rottentomatoes.com/m/10004684-malevolence/</td><td>yes</td><td>no </td><td>yes</td><td>no </td><td>no </td></tr>\n",
       "\t<tr><td>Old Partner         </td><td>Documentary </td><td>Documentary</td><td> 78</td><td>Unrated</td><td>Shcalo Media Group      </td><td>2009</td><td> 1</td><td>15</td><td>2010</td><td>⋯</td><td>Moo                 </td><td>NA              </td><td>NA                 </td><td>http://www.imdb.com/title/tt1334549/</td><td>//www.rottentomatoes.com/m/old-partner/         </td><td>no </td><td>no </td><td>no </td><td>no </td><td>no </td></tr>\n",
       "</tbody>\n",
       "</table>\n"
      ],
      "text/latex": [
       "A tibble: 6 × 37\n",
       "\\begin{tabular}{lllllllllllllllllllll}\n",
       " title & title\\_type & genre & runtime & mpaa\\_rating & studio & thtr\\_rel\\_year & thtr\\_rel\\_month & thtr\\_rel\\_day & dvd\\_rel\\_year & ⋯ & actor3 & actor4 & actor5 & imdb\\_url & rt\\_url & feature\\_film & drama & mpaa\\_rating\\_R & oscar\\_season & summer\\_season\\\\\n",
       " <chr> & <fct> & <fct> & <dbl> & <fct> & <fct> & <dbl> & <dbl> & <dbl> & <dbl> & ⋯ & <chr> & <chr> & <chr> & <chr> & <chr> & <fct> & <fct> & <fct> & <fct> & <fct>\\\\\n",
       "\\hline\n",
       "\t Filly Brown          & Feature Film & Drama       &  80 & R       & Indomina Media Inc.      & 2013 &  4 & 19 & 2013 & ⋯ & Lou Diamond Phillips & Emilio Rivera    & Joseph Julian Soria & http://www.imdb.com/title/tt1869425/ & //www.rottentomatoes.com/m/filly\\_brown\\_2012/     & yes & yes & yes & no  & no \\\\\n",
       "\t The Dish             & Feature Film & Drama       & 101 & PG-13   & Warner Bros. Pictures    & 2001 &  3 & 14 & 2001 & ⋯ & Patrick Warburton    & Tom Long         & Genevieve Mooy      & http://www.imdb.com/title/tt0205873/ & //www.rottentomatoes.com/m/dish/                 & yes & yes & no  & no  & no \\\\\n",
       "\t Waiting for Guffman  & Feature Film & Comedy      &  84 & R       & Sony Pictures Classics   & 1996 &  8 & 21 & 2001 & ⋯ & Parker Posey         & Eugene Levy      & Bob Balaban         & http://www.imdb.com/title/tt0118111/ & //www.rottentomatoes.com/m/waiting\\_for\\_guffman/  & yes & no  & yes & no  & yes\\\\\n",
       "\t The Age of Innocence & Feature Film & Drama       & 139 & PG      & Columbia Pictures        & 1993 & 10 &  1 & 2001 & ⋯ & Winona Ryder         & Richard E. Grant & Alec McCowen        & http://www.imdb.com/title/tt0106226/ & //www.rottentomatoes.com/m/age\\_of\\_innocence/     & yes & yes & no  & yes & no \\\\\n",
       "\t Malevolence          & Feature Film & Horror      &  90 & R       & Anchor Bay Entertainment & 2004 &  9 & 10 & 2005 & ⋯ & Brandon Johnson      & Heather Magee    & Richard Glover      & http://www.imdb.com/title/tt0388230/ & //www.rottentomatoes.com/m/10004684-malevolence/ & yes & no  & yes & no  & no \\\\\n",
       "\t Old Partner          & Documentary  & Documentary &  78 & Unrated & Shcalo Media Group       & 2009 &  1 & 15 & 2010 & ⋯ & Moo                  & NA               & NA                  & http://www.imdb.com/title/tt1334549/ & //www.rottentomatoes.com/m/old-partner/          & no  & no  & no  & no  & no \\\\\n",
       "\\end{tabular}\n"
      ],
      "text/markdown": [
       "\n",
       "A tibble: 6 × 37\n",
       "\n",
       "| title &lt;chr&gt; | title_type &lt;fct&gt; | genre &lt;fct&gt; | runtime &lt;dbl&gt; | mpaa_rating &lt;fct&gt; | studio &lt;fct&gt; | thtr_rel_year &lt;dbl&gt; | thtr_rel_month &lt;dbl&gt; | thtr_rel_day &lt;dbl&gt; | dvd_rel_year &lt;dbl&gt; | ⋯ ⋯ | actor3 &lt;chr&gt; | actor4 &lt;chr&gt; | actor5 &lt;chr&gt; | imdb_url &lt;chr&gt; | rt_url &lt;chr&gt; | feature_film &lt;fct&gt; | drama &lt;fct&gt; | mpaa_rating_R &lt;fct&gt; | oscar_season &lt;fct&gt; | summer_season &lt;fct&gt; |\n",
       "|---|---|---|---|---|---|---|---|---|---|---|---|---|---|---|---|---|---|---|---|---|\n",
       "| Filly Brown          | Feature Film | Drama       |  80 | R       | Indomina Media Inc.      | 2013 |  4 | 19 | 2013 | ⋯ | Lou Diamond Phillips | Emilio Rivera    | Joseph Julian Soria | http://www.imdb.com/title/tt1869425/ | //www.rottentomatoes.com/m/filly_brown_2012/     | yes | yes | yes | no  | no  |\n",
       "| The Dish             | Feature Film | Drama       | 101 | PG-13   | Warner Bros. Pictures    | 2001 |  3 | 14 | 2001 | ⋯ | Patrick Warburton    | Tom Long         | Genevieve Mooy      | http://www.imdb.com/title/tt0205873/ | //www.rottentomatoes.com/m/dish/                 | yes | yes | no  | no  | no  |\n",
       "| Waiting for Guffman  | Feature Film | Comedy      |  84 | R       | Sony Pictures Classics   | 1996 |  8 | 21 | 2001 | ⋯ | Parker Posey         | Eugene Levy      | Bob Balaban         | http://www.imdb.com/title/tt0118111/ | //www.rottentomatoes.com/m/waiting_for_guffman/  | yes | no  | yes | no  | yes |\n",
       "| The Age of Innocence | Feature Film | Drama       | 139 | PG      | Columbia Pictures        | 1993 | 10 |  1 | 2001 | ⋯ | Winona Ryder         | Richard E. Grant | Alec McCowen        | http://www.imdb.com/title/tt0106226/ | //www.rottentomatoes.com/m/age_of_innocence/     | yes | yes | no  | yes | no  |\n",
       "| Malevolence          | Feature Film | Horror      |  90 | R       | Anchor Bay Entertainment | 2004 |  9 | 10 | 2005 | ⋯ | Brandon Johnson      | Heather Magee    | Richard Glover      | http://www.imdb.com/title/tt0388230/ | //www.rottentomatoes.com/m/10004684-malevolence/ | yes | no  | yes | no  | no  |\n",
       "| Old Partner          | Documentary  | Documentary |  78 | Unrated | Shcalo Media Group       | 2009 |  1 | 15 | 2010 | ⋯ | Moo                  | NA               | NA                  | http://www.imdb.com/title/tt1334549/ | //www.rottentomatoes.com/m/old-partner/          | no  | no  | no  | no  | no  |\n",
       "\n"
      ],
      "text/plain": [
       "  title                title_type   genre       runtime mpaa_rating\n",
       "1 Filly Brown          Feature Film Drama        80     R          \n",
       "2 The Dish             Feature Film Drama       101     PG-13      \n",
       "3 Waiting for Guffman  Feature Film Comedy       84     R          \n",
       "4 The Age of Innocence Feature Film Drama       139     PG         \n",
       "5 Malevolence          Feature Film Horror       90     R          \n",
       "6 Old Partner          Documentary  Documentary  78     Unrated    \n",
       "  studio                   thtr_rel_year thtr_rel_month thtr_rel_day\n",
       "1 Indomina Media Inc.      2013           4             19          \n",
       "2 Warner Bros. Pictures    2001           3             14          \n",
       "3 Sony Pictures Classics   1996           8             21          \n",
       "4 Columbia Pictures        1993          10              1          \n",
       "5 Anchor Bay Entertainment 2004           9             10          \n",
       "6 Shcalo Media Group       2009           1             15          \n",
       "  dvd_rel_year <U+22EF>        actor3               actor4          \n",
       "1 2013         <U+22EF> Lou Diamond Phillips Emilio Rivera   \n",
       "2 2001         <U+22EF> Patrick Warburton    Tom Long        \n",
       "3 2001         <U+22EF> Parker Posey         Eugene Levy     \n",
       "4 2001         <U+22EF> Winona Ryder         Richard E. Grant\n",
       "5 2005         <U+22EF> Brandon Johnson      Heather Magee   \n",
       "6 2010         <U+22EF> Moo                  NA              \n",
       "  actor5              imdb_url                            \n",
       "1 Joseph Julian Soria http://www.imdb.com/title/tt1869425/\n",
       "2 Genevieve Mooy      http://www.imdb.com/title/tt0205873/\n",
       "3 Bob Balaban         http://www.imdb.com/title/tt0118111/\n",
       "4 Alec McCowen        http://www.imdb.com/title/tt0106226/\n",
       "5 Richard Glover      http://www.imdb.com/title/tt0388230/\n",
       "6 NA                  http://www.imdb.com/title/tt1334549/\n",
       "  rt_url                                           feature_film drama\n",
       "1 //www.rottentomatoes.com/m/filly_brown_2012/     yes          yes  \n",
       "2 //www.rottentomatoes.com/m/dish/                 yes          yes  \n",
       "3 //www.rottentomatoes.com/m/waiting_for_guffman/  yes          no   \n",
       "4 //www.rottentomatoes.com/m/age_of_innocence/     yes          yes  \n",
       "5 //www.rottentomatoes.com/m/10004684-malevolence/ yes          no   \n",
       "6 //www.rottentomatoes.com/m/old-partner/          no           no   \n",
       "  mpaa_rating_R oscar_season summer_season\n",
       "1 yes           no           no           \n",
       "2 no            no           no           \n",
       "3 yes           no           yes          \n",
       "4 no            yes          no           \n",
       "5 yes           no           no           \n",
       "6 no            no           no           "
      ]
     },
     "metadata": {},
     "output_type": "display_data"
    }
   ],
   "source": [
    "movies <- movies %>% \n",
    "          mutate(feature_film=as.factor(ifelse(title_type == 'Feature Film', 'yes', 'no'))) %>%\n",
    "          mutate(drama=as.factor(ifelse(genre == 'Drama', 'yes', 'no'))) %>%\n",
    "          mutate(mpaa_rating_R=as.factor(ifelse(mpaa_rating == 'R', 'yes', 'no'))) %>%\n",
    "          mutate(oscar_season=as.factor(ifelse(thtr_rel_month %in% c(10:12), 'yes', 'no'))) %>%\n",
    "          mutate(summer_season=as.factor(ifelse(thtr_rel_month %in% c(5:8), 'yes', 'no')))\n",
    "\n",
    "head(movies)"
   ]
  },
  {
   "cell_type": "markdown",
   "metadata": {},
   "source": [
    "## Part 3: Exploratory Data Analysis (EDA)\n",
    "\n",
    "Let us begin by first constructing a subset from the original dataset by selecting the variables that will be used in modelling. Susequently we will remove the incomplete entries. Also, I will be constructing a new variable: oscar_win that will track weather actor, actress or director involved in the moview has had an oscar win.\n",
    "\n",
    "* feature_film\n",
    "* drama\n",
    "* runtime\n",
    "* mpaa_rating_R\n",
    "* thtr_rel_year\n",
    "* oscar_season\n",
    "* summer_season\n",
    "* imdb_rating\n",
    "* imdb_num_votes\n",
    "* critics_score\n",
    "* best_pic_nom\n",
    "* best_pic_win\n",
    "* best_actor_win\n",
    "* best_actress_win\n",
    "* best_dir_win\n",
    "* top200_box"
   ]
  },
  {
   "cell_type": "code",
   "execution_count": 4,
   "metadata": {},
   "outputs": [],
   "source": [
    "mv <- movies %>% select(audience_score, feature_film, drama, runtime, mpaa_rating_R, thtr_rel_year, oscar_season, \n",
    "                        summer_season, imdb_rating, imdb_num_votes, critics_score, best_pic_nom, best_pic_win, \n",
    "                        best_actor_win, best_actress_win, best_dir_win, top200_box)\n",
    "\n",
    "mv <- na.exclude(mv)\n",
    "\n",
    "mv <- mutate(mv, oscar = ifelse(best_pic_nom == \"yes\", \"yes\", \n",
    "                                ifelse(best_pic_win == \"yes\", \"yes\",  \n",
    "                                       ifelse(best_actor_win == \"yes\", \"yes\", \n",
    "                                              ifelse(best_actress_win == \"yes\", \"yes\", \n",
    "                                                     ifelse(best_dir_win == \"yes\", \"yes\", \"no\"))))))"
   ]
  },
  {
   "cell_type": "markdown",
   "metadata": {},
   "source": [
    "Focusing our attention to the variables that we wish to explore further, we observe that there are two types of variables:\n",
    "\n",
    "- Categorical variables with two factors: feature_film, drama, mpaa_rating_R, oscar_season, summer_season, oscar, and top200_box. Note that I am now having just one variable oscar instead of 5 variabled. This done because in the privious analysis of the dataset in the 'Linear Regression Module' we proved that using a proxy variable is a better approach.\n",
    "\n",
    "- Continuous variables: runtime, imdb_rating, imdb_num_votes, and critics_score.\n",
    "\n",
    "Now let us briefly explore theser variables"
   ]
  },
  {
   "cell_type": "markdown",
   "metadata": {},
   "source": [
    "### Categorical Variables Exploration"
   ]
  },
  {
   "cell_type": "code",
   "execution_count": 5,
   "metadata": {},
   "outputs": [
    {
     "name": "stderr",
     "output_type": "stream",
     "text": [
      "Warning message:\n",
      "\"attributes are not identical across measure variables;\n",
      "they will be dropped\"\n"
     ]
    },
    {
     "data": {
      "image/png": "[encoded data removed]",
      "text/plain": [
       "plot without title"
      ]
     },
     "metadata": {
      "image/png": {
       "height": 420,
       "width": 420
      },
      "text/plain": {
       "height": 420,
       "width": 420
      }
     },
     "output_type": "display_data"
    }
   ],
   "source": [
    "mv_cat <- mv %>% gather('attribute','Yes_or_No', c(feature_film, drama, mpaa_rating_R, oscar_season, summer_season, \n",
    "                                                   oscar, top200_box))\n",
    "\n",
    "ggplot(data=mv_cat,aes(x=attribute, y= audience_score,fill=Yes_or_No))+geom_boxplot() + coord_flip()"
   ]
  },
  {
   "cell_type": "markdown",
   "metadata": {},
   "source": [
    "The above plot shows that feature_film variable and top200_box are the two categorical variables that seem to have a discernable relationship with the audience_score."
   ]
  },
  {
   "cell_type": "markdown",
   "metadata": {},
   "source": [
    "### Continuous Variables Exploration"
   ]
  },
  {
   "cell_type": "code",
   "execution_count": 6,
   "metadata": {},
   "outputs": [
    {
     "data": {
      "image/png": "[encoded data removed]",
      "text/plain": [
       "plot without title"
      ]
     },
     "metadata": {
      "image/png": {
       "height": 420,
       "width": 420
      },
      "text/plain": {
       "height": 420,
       "width": 420
      }
     },
     "output_type": "display_data"
    }
   ],
   "source": [
    "pA <- ggplot(data = mv, aes(x = runtime)) + geom_histogram(colour = \"black\", fill = \"green\", binwidth = .5)\n",
    "\n",
    "pB <- ggplot(data = mv, aes(x = imdb_rating)) + geom_histogram(colour = \"black\", fill = \"cyan\", binwidth = .2)\n",
    "\n",
    "pC <- ggplot(data = mv, aes(x = imdb_num_votes)) + geom_histogram(colour = \"black\", fill = \"yellow\", binwidth = 2000)\n",
    "\n",
    "pD <- ggplot(data = mv, aes(x = critics_score)) + geom_histogram(colour = \"black\", fill = \"orange\", binwidth = 2)\n",
    "\n",
    "pE <- ggplot(data = mv, aes(x = audience_score)) + geom_histogram(colour = \"black\", fill = \"magenta\", binwidth = 2)\n",
    "\n",
    "\n",
    "grid.arrange(pA, pB, pC, pD, pE, nrow = 2, ncol = 3)"
   ]
  },
  {
   "cell_type": "markdown",
   "metadata": {},
   "source": [
    "The plots above show that our explanatory variable audience_score is skewed to the left."
   ]
  },
  {
   "cell_type": "markdown",
   "metadata": {},
   "source": [
    "### Relationship Exploration: audience_score and the new variables"
   ]
  },
  {
   "cell_type": "code",
   "execution_count": 7,
   "metadata": {},
   "outputs": [
    {
     "name": "stdout",
     "output_type": "stream",
     "text": [
      "Response variable: numerical, Explanatory variable: categorical (2 levels)\n",
      "n_no = 59, y_bar_no = 81.2034, s_no = 13.6404\n",
      "n_yes = 591, y_bar_yes = 60.4653, s_yes = 19.824\n",
      "(Assuming intrinsic prior on parameters)\n",
      "Hypotheses:\n",
      "H1: mu_no  = mu_yes\n",
      "H2: mu_no != mu_yes\n",
      "\n",
      "Priors:\n",
      "P(H1) = 0.5 \n",
      "P(H2) = 0.5 \n",
      "\n",
      "Results:\n",
      "BF[H2:H1] = 2.794604e+13\n",
      "P(H1|data) = 0 \n",
      "P(H2|data) = 1 \n"
     ]
    },
    {
     "data": {
      "image/png": "[encoded data removed]",
      "text/plain": [
       "plot without title"
      ]
     },
     "metadata": {
      "image/png": {
       "height": 420,
       "width": 420
      },
      "text/plain": {
       "height": 420,
       "width": 420
      }
     },
     "output_type": "display_data"
    }
   ],
   "source": [
    "BI_1 <- bayes_inference(y = audience_score, x = feature_film, data = mv, statistic = \"mean\", type = \"ht\", null = 0, \n",
    "                        alternative = \"twosided\")"
   ]
  },
  {
   "cell_type": "markdown",
   "metadata": {},
   "source": [
    "Faeture Film: Bayes factor of H2 against H1 also shows a strong evedience that feature film is significant in affecting final scores."
   ]
  },
  {
   "cell_type": "code",
   "execution_count": 8,
   "metadata": {},
   "outputs": [
    {
     "name": "stdout",
     "output_type": "stream",
     "text": [
      "Response variable: numerical, Explanatory variable: categorical (2 levels)\n",
      "n_no = 345, y_bar_no = 59.6957, s_no = 21.2981\n",
      "n_yes = 305, y_bar_yes = 65.3475, s_yes = 18.5418\n",
      "(Assuming intrinsic prior on parameters)\n",
      "Hypotheses:\n",
      "H1: mu_no  = mu_yes\n",
      "H2: mu_no != mu_yes\n",
      "\n",
      "Priors:\n",
      "P(H1) = 0.5 \n",
      "P(H2) = 0.5 \n",
      "\n",
      "Results:\n",
      "BF[H2:H1] = 24.1609\n",
      "P(H1|data) = 0.0397 \n",
      "P(H2|data) = 0.9603 \n"
     ]
    },
    {
     "data": {
      "image/png": "[encoded data removed]",
      "text/plain": [
       "plot without title"
      ]
     },
     "metadata": {
      "image/png": {
       "height": 420,
       "width": 420
      },
      "text/plain": {
       "height": 420,
       "width": 420
      }
     },
     "output_type": "display_data"
    }
   ],
   "source": [
    "BI_2 <- bayes_inference(y = audience_score, x = drama, data = mv, statistic = \"mean\", type = \"ht\", null = 0, \n",
    "                        alternative = \"twosided\")"
   ]
  },
  {
   "cell_type": "markdown",
   "metadata": {},
   "source": [
    "Drama: The bayesian factor is 24.2, showing a positive evidence of H2 against H1. It means drama genre definitely influences the final score."
   ]
  },
  {
   "cell_type": "code",
   "execution_count": 9,
   "metadata": {},
   "outputs": [
    {
     "name": "stdout",
     "output_type": "stream",
     "text": [
      "Response variable: numerical, Explanatory variable: categorical (2 levels)\n",
      "n_no = 321, y_bar_no = 62.6604, s_no = 20.3418\n",
      "n_yes = 329, y_bar_yes = 62.0426, s_yes = 20.1559\n",
      "(Assuming intrinsic prior on parameters)\n",
      "Hypotheses:\n",
      "H1: mu_no  = mu_yes\n",
      "H2: mu_no != mu_yes\n",
      "\n",
      "Priors:\n",
      "P(H1) = 0.5 \n",
      "P(H2) = 0.5 \n",
      "\n",
      "Results:\n",
      "BF[H1:H2] = 24.1282\n",
      "P(H1|data) = 0.9602 \n",
      "P(H2|data) = 0.0398 \n"
     ]
    },
    {
     "data": {
      "image/png": "[encoded data removed]",
      "text/plain": [
       "plot without title"
      ]
     },
     "metadata": {
      "image/png": {
       "height": 420,
       "width": 420
      },
      "text/plain": {
       "height": 420,
       "width": 420
      }
     },
     "output_type": "display_data"
    }
   ],
   "source": [
    "BI_3 <- bayes_inference(y = audience_score, x = mpaa_rating_R, data = mv, statistic = \"mean\", type = \"ht\", null = 0, \n",
    "                        alternative = \"twosided\")"
   ]
  },
  {
   "cell_type": "markdown",
   "metadata": {},
   "source": [
    "R Rating: The bayesian factor is 24.1, showing a positive evidence of H1 against H2. It means that R rating cannot affect the final score."
   ]
  },
  {
   "cell_type": "code",
   "execution_count": 10,
   "metadata": {},
   "outputs": [
    {
     "name": "stdout",
     "output_type": "stream",
     "text": [
      "Response variable: numerical, Explanatory variable: categorical (2 levels)\n",
      "n_no = 460, y_bar_no = 61.813, s_no = 20.1196\n",
      "n_yes = 190, y_bar_yes = 63.6421, s_yes = 20.5062\n",
      "(Assuming intrinsic prior on parameters)\n",
      "Hypotheses:\n",
      "H1: mu_no  = mu_yes\n",
      "H2: mu_no != mu_yes\n",
      "\n",
      "Priors:\n",
      "P(H1) = 0.5 \n",
      "P(H2) = 0.5 \n",
      "\n",
      "Results:\n",
      "BF[H1:H2] = 13.7738\n",
      "P(H1|data) = 0.9323 \n",
      "P(H2|data) = 0.0677 \n"
     ]
    },
    {
     "data": {
      "image/png": "[encoded data removed]",
      "text/plain": [
       "plot without title"
      ]
     },
     "metadata": {
      "image/png": {
       "height": 420,
       "width": 420
      },
      "text/plain": {
       "height": 420,
       "width": 420
      }
     },
     "output_type": "display_data"
    }
   ],
   "source": [
    "BI_4 <- bayes_inference(y = audience_score, x = oscar_season, data = mv, statistic = \"mean\", type = \"ht\", null = 0, \n",
    "                        alternative = \"twosided\")"
   ]
  },
  {
   "cell_type": "markdown",
   "metadata": {},
   "source": [
    "Oscar Season: The bayesian factor is 13.7 with positive evidence of H1 against H2. The Oscar seasons cannot affect the final rating."
   ]
  },
  {
   "cell_type": "markdown",
   "metadata": {},
   "source": [
    "## Part 4: Modeling\n",
    "\n",
    "We begin modelling exercise by selecting a full model, i.e, choose all avaliable variables to model the audience_score. Subsequently we remove variables from the model, one at a time, until BIC can not be lowered. \n",
    "This approach taakes as input: a full model, and a penalty parameter k. We find the best model according to BIC i.e. k=log(n)."
   ]
  },
  {
   "cell_type": "code",
   "execution_count": 11,
   "metadata": {},
   "outputs": [
    {
     "name": "stderr",
     "output_type": "stream",
     "text": [
      "\n",
      "Attaching package: 'MASS'\n",
      "\n",
      "\n",
      "The following object is masked from 'package:dplyr':\n",
      "\n",
      "    select\n",
      "\n",
      "\n"
     ]
    }
   ],
   "source": [
    "library(MASS)"
   ]
  },
  {
   "cell_type": "code",
   "execution_count": 12,
   "metadata": {},
   "outputs": [
    {
     "data": {
      "text/plain": [
       "\n",
       "Call:\n",
       "lm(formula = audience_score ~ . - audience_score, data = mv)\n",
       "\n",
       "Residuals:\n",
       "    Min      1Q  Median      3Q     Max \n",
       "-28.678  -6.068   0.154   5.937  53.078 \n",
       "\n",
       "Coefficients:\n",
       "                      Estimate Std. Error t value Pr(>|t|)    \n",
       "(Intercept)          1.232e+02  7.758e+01   1.588   0.1129    \n",
       "feature_filmyes     -2.240e+00  1.689e+00  -1.327   0.1851    \n",
       "dramayes             1.315e+00  8.785e-01   1.497   0.1348    \n",
       "runtime             -5.575e-02  2.418e-02  -2.305   0.0215 *  \n",
       "mpaa_rating_Ryes    -1.447e+00  8.132e-01  -1.779   0.0757 .  \n",
       "thtr_rel_year       -7.594e-02  3.839e-02  -1.978   0.0484 *  \n",
       "oscar_seasonyes     -5.287e-01  9.974e-01  -0.530   0.5962    \n",
       "summer_seasonyes     9.319e-01  9.509e-01   0.980   0.3275    \n",
       "imdb_rating          1.472e+01  6.071e-01  24.242   <2e-16 ***\n",
       "imdb_num_votes       7.322e-06  4.529e-06   1.617   0.1065    \n",
       "critics_score        5.717e-02  2.219e-02   2.577   0.0102 *  \n",
       "best_pic_nomyes      5.572e+00  2.683e+00   2.077   0.0382 *  \n",
       "best_pic_winyes     -3.611e+00  4.689e+00  -0.770   0.4416    \n",
       "best_actor_winyes   -8.561e-01  1.875e+00  -0.457   0.6481    \n",
       "best_actress_winyes -1.557e+00  1.883e+00  -0.827   0.4085    \n",
       "best_dir_winyes     -6.169e-01  2.164e+00  -0.285   0.7757    \n",
       "top200_boxyes        7.238e-01  2.796e+00   0.259   0.7959    \n",
       "oscaryes            -9.789e-01  2.073e+00  -0.472   0.6369    \n",
       "---\n",
       "Signif. codes:  0 '***' 0.001 '**' 0.01 '*' 0.05 '.' 0.1 ' ' 1\n",
       "\n",
       "Residual standard error: 9.982 on 632 degrees of freedom\n",
       "Multiple R-squared:  0.763,\tAdjusted R-squared:  0.7567 \n",
       "F-statistic: 119.7 on 17 and 632 DF,  p-value: < 2.2e-16\n"
      ]
     },
     "metadata": {},
     "output_type": "display_data"
    }
   ],
   "source": [
    "lm1 <- lm(audience_score ~ . - audience_score, data = mv)\n",
    "\n",
    "summary(lm1)"
   ]
  },
  {
   "cell_type": "code",
   "execution_count": 13,
   "metadata": {},
   "outputs": [
    {
     "data": {
      "text/plain": [
       "\n",
       "Call:\n",
       "lm(formula = audience_score ~ runtime + mpaa_rating_R + thtr_rel_year + \n",
       "    imdb_rating + critics_score + best_pic_nom + oscar, data = mv)\n",
       "\n",
       "Coefficients:\n",
       "     (Intercept)           runtime  mpaa_rating_Ryes     thtr_rel_year  \n",
       "        69.80935          -0.04925          -1.45083          -0.05116  \n",
       "     imdb_rating     critics_score   best_pic_nomyes          oscaryes  \n",
       "        15.00591           0.06420           5.17354          -2.20722  \n"
      ]
     },
     "metadata": {},
     "output_type": "display_data"
    }
   ],
   "source": [
    "score_step <- stepAIC(lm1, trace = FALSE)\n",
    "score_step"
   ]
  },
  {
   "cell_type": "code",
   "execution_count": 14,
   "metadata": {},
   "outputs": [
    {
     "data": {
      "text/html": [
       "<table>\n",
       "<caption>A Anova: 11 × 6</caption>\n",
       "<thead>\n",
       "\t<tr><th scope=col>Step</th><th scope=col>Df</th><th scope=col>Deviance</th><th scope=col>Resid. Df</th><th scope=col>Resid. Dev</th><th scope=col>AIC</th></tr>\n",
       "\t<tr><th scope=col>&lt;fct&gt;</th><th scope=col>&lt;dbl&gt;</th><th scope=col>&lt;dbl&gt;</th><th scope=col>&lt;dbl&gt;</th><th scope=col>&lt;dbl&gt;</th><th scope=col>&lt;dbl&gt;</th></tr>\n",
       "</thead>\n",
       "<tbody>\n",
       "\t<tr><td>                  </td><td>NA</td><td>        NA</td><td>632</td><td>62967.44</td><td>3008.710</td></tr>\n",
       "\t<tr><td>- top200_box      </td><td> 1</td><td>  6.674593</td><td>633</td><td>62974.12</td><td>3006.779</td></tr>\n",
       "\t<tr><td>- best_dir_win    </td><td> 1</td><td>  7.686045</td><td>634</td><td>62981.80</td><td>3004.859</td></tr>\n",
       "\t<tr><td>- best_actor_win  </td><td> 1</td><td> 12.175084</td><td>635</td><td>62993.98</td><td>3002.984</td></tr>\n",
       "\t<tr><td>- oscar_season    </td><td> 1</td><td> 27.481580</td><td>636</td><td>63021.46</td><td>3001.268</td></tr>\n",
       "\t<tr><td>- best_actress_win</td><td> 1</td><td> 44.705910</td><td>637</td><td>63066.16</td><td>2999.729</td></tr>\n",
       "\t<tr><td>- best_pic_win    </td><td> 1</td><td> 84.748302</td><td>638</td><td>63150.91</td><td>2998.602</td></tr>\n",
       "\t<tr><td>- feature_film    </td><td> 1</td><td>170.096341</td><td>639</td><td>63321.01</td><td>2998.350</td></tr>\n",
       "\t<tr><td>- drama           </td><td> 1</td><td>134.225070</td><td>640</td><td>63455.23</td><td>2997.726</td></tr>\n",
       "\t<tr><td>- imdb_num_votes  </td><td> 1</td><td>142.984598</td><td>641</td><td>63598.22</td><td>2997.189</td></tr>\n",
       "\t<tr><td>- summer_season   </td><td> 1</td><td>165.992576</td><td>642</td><td>63764.21</td><td>2996.884</td></tr>\n",
       "</tbody>\n",
       "</table>\n"
      ],
      "text/latex": [
       "A Anova: 11 × 6\n",
       "\\begin{tabular}{llllll}\n",
       " Step & Df & Deviance & Resid. Df & Resid. Dev & AIC\\\\\n",
       " <fct> & <dbl> & <dbl> & <dbl> & <dbl> & <dbl>\\\\\n",
       "\\hline\n",
       "\t                    & NA &         NA & 632 & 62967.44 & 3008.710\\\\\n",
       "\t - top200\\_box       &  1 &   6.674593 & 633 & 62974.12 & 3006.779\\\\\n",
       "\t - best\\_dir\\_win     &  1 &   7.686045 & 634 & 62981.80 & 3004.859\\\\\n",
       "\t - best\\_actor\\_win   &  1 &  12.175084 & 635 & 62993.98 & 3002.984\\\\\n",
       "\t - oscar\\_season     &  1 &  27.481580 & 636 & 63021.46 & 3001.268\\\\\n",
       "\t - best\\_actress\\_win &  1 &  44.705910 & 637 & 63066.16 & 2999.729\\\\\n",
       "\t - best\\_pic\\_win     &  1 &  84.748302 & 638 & 63150.91 & 2998.602\\\\\n",
       "\t - feature\\_film     &  1 & 170.096341 & 639 & 63321.01 & 2998.350\\\\\n",
       "\t - drama            &  1 & 134.225070 & 640 & 63455.23 & 2997.726\\\\\n",
       "\t - imdb\\_num\\_votes   &  1 & 142.984598 & 641 & 63598.22 & 2997.189\\\\\n",
       "\t - summer\\_season    &  1 & 165.992576 & 642 & 63764.21 & 2996.884\\\\\n",
       "\\end{tabular}\n"
      ],
      "text/markdown": [
       "\n",
       "A Anova: 11 × 6\n",
       "\n",
       "| Step &lt;fct&gt; | Df &lt;dbl&gt; | Deviance &lt;dbl&gt; | Resid. Df &lt;dbl&gt; | Resid. Dev &lt;dbl&gt; | AIC &lt;dbl&gt; |\n",
       "|---|---|---|---|---|---|\n",
       "| <!----> | NA |         NA | 632 | 62967.44 | 3008.710 |\n",
       "| - top200_box       |  1 |   6.674593 | 633 | 62974.12 | 3006.779 |\n",
       "| - best_dir_win     |  1 |   7.686045 | 634 | 62981.80 | 3004.859 |\n",
       "| - best_actor_win   |  1 |  12.175084 | 635 | 62993.98 | 3002.984 |\n",
       "| - oscar_season     |  1 |  27.481580 | 636 | 63021.46 | 3001.268 |\n",
       "| - best_actress_win |  1 |  44.705910 | 637 | 63066.16 | 2999.729 |\n",
       "| - best_pic_win     |  1 |  84.748302 | 638 | 63150.91 | 2998.602 |\n",
       "| - feature_film     |  1 | 170.096341 | 639 | 63321.01 | 2998.350 |\n",
       "| - drama            |  1 | 134.225070 | 640 | 63455.23 | 2997.726 |\n",
       "| - imdb_num_votes   |  1 | 142.984598 | 641 | 63598.22 | 2997.189 |\n",
       "| - summer_season    |  1 | 165.992576 | 642 | 63764.21 | 2996.884 |\n",
       "\n"
      ],
      "text/plain": [
       "   Step               Df Deviance   Resid. Df Resid. Dev AIC     \n",
       "1                     NA         NA 632       62967.44   3008.710\n",
       "2  - top200_box        1   6.674593 633       62974.12   3006.779\n",
       "3  - best_dir_win      1   7.686045 634       62981.80   3004.859\n",
       "4  - best_actor_win    1  12.175084 635       62993.98   3002.984\n",
       "5  - oscar_season      1  27.481580 636       63021.46   3001.268\n",
       "6  - best_actress_win  1  44.705910 637       63066.16   2999.729\n",
       "7  - best_pic_win      1  84.748302 638       63150.91   2998.602\n",
       "8  - feature_film      1 170.096341 639       63321.01   2998.350\n",
       "9  - drama             1 134.225070 640       63455.23   2997.726\n",
       "10 - imdb_num_votes    1 142.984598 641       63598.22   2997.189\n",
       "11 - summer_season     1 165.992576 642       63764.21   2996.884"
      ]
     },
     "metadata": {},
     "output_type": "display_data"
    }
   ],
   "source": [
    "score_step$anova"
   ]
  },
  {
   "cell_type": "markdown",
   "metadata": {},
   "source": [
    "The results above show that the final model is significantly different from the full model that we started with. Another interesting thing to note here is that the of the new features only mpaa_rating_R variable is left. And this is indeed in line with what we observed during exploratory analysis."
   ]
  },
  {
   "cell_type": "markdown",
   "metadata": {},
   "source": [
    "## Bayesian Model Averaging (BMA)\n",
    "\n",
    "With several models, each being quite plausible, choosing only one ignores the inherent uncertainty involved in choosing the variables to include in the model. To adress this we implement Bayesian model averaging (BMA). Multiple models are averaged to obtain posteriors of coefficients and predictions from new data."
   ]
  },
  {
   "cell_type": "code",
   "execution_count": 15,
   "metadata": {},
   "outputs": [
    {
     "data": {
      "text/plain": [
       "\n",
       "Call:\n",
       "bas.lm(formula = audience_score ~ . - audience_score, data = mv, \n",
       "    prior = \"BIC\", modelprior = uniform())\n",
       "\n",
       "\n",
       " Marginal Posterior Inclusion Probabilities: \n",
       "          Intercept      feature_filmyes             dramayes  \n",
       "            1.00000              0.06138              0.04378  \n",
       "            runtime     mpaa_rating_Ryes        thtr_rel_year  \n",
       "            0.37964              0.19892              0.09127  \n",
       "    oscar_seasonyes     summer_seasonyes          imdb_rating  \n",
       "            0.07251              0.08029              1.00000  \n",
       "     imdb_num_votes        critics_score      best_pic_nomyes  \n",
       "            0.05744              0.89363              0.16890  \n",
       "    best_pic_winyes    best_actor_winyes  best_actress_winyes  \n",
       "            0.04030              0.10976              0.10897  \n",
       "    best_dir_winyes        top200_boxyes             oscaryes  \n",
       "            0.05773              0.04693              0.33032  "
      ]
     },
     "metadata": {},
     "output_type": "display_data"
    }
   ],
   "source": [
    "bma1 <- bas.lm(audience_score ~ . - audience_score, data = mv, prior = \"BIC\", modelprior = uniform())\n",
    "bma1"
   ]
  },
  {
   "cell_type": "code",
   "execution_count": 16,
   "metadata": {},
   "outputs": [
    {
     "data": {
      "text/html": [
       "<table>\n",
       "<caption>A matrix: 23 × 6 of type dbl</caption>\n",
       "<thead>\n",
       "\t<tr><th></th><th scope=col>P(B != 0 | Y)</th><th scope=col>model 1</th><th scope=col>model 2</th><th scope=col>model 3</th><th scope=col>model 4</th><th scope=col>model 5</th></tr>\n",
       "</thead>\n",
       "<tbody>\n",
       "\t<tr><th scope=row>Intercept</th><td>1.00000000</td><td>    1.0000</td><td>    1.0000000</td><td>    1.0000000</td><td>    1.0000000</td><td>    1.0000000</td></tr>\n",
       "\t<tr><th scope=row>feature_filmyes</th><td>0.06138093</td><td>    0.0000</td><td>    0.0000000</td><td>    0.0000000</td><td>    0.0000000</td><td>    0.0000000</td></tr>\n",
       "\t<tr><th scope=row>dramayes</th><td>0.04378471</td><td>    0.0000</td><td>    0.0000000</td><td>    0.0000000</td><td>    0.0000000</td><td>    0.0000000</td></tr>\n",
       "\t<tr><th scope=row>runtime</th><td>0.37963551</td><td>    1.0000</td><td>    0.0000000</td><td>    0.0000000</td><td>    0.0000000</td><td>    0.0000000</td></tr>\n",
       "\t<tr><th scope=row>mpaa_rating_Ryes</th><td>0.19891935</td><td>    0.0000</td><td>    0.0000000</td><td>    0.0000000</td><td>    0.0000000</td><td>    0.0000000</td></tr>\n",
       "\t<tr><th scope=row>thtr_rel_year</th><td>0.09126583</td><td>    0.0000</td><td>    0.0000000</td><td>    0.0000000</td><td>    0.0000000</td><td>    0.0000000</td></tr>\n",
       "\t<tr><th scope=row>oscar_seasonyes</th><td>0.07251281</td><td>    0.0000</td><td>    0.0000000</td><td>    0.0000000</td><td>    0.0000000</td><td>    0.0000000</td></tr>\n",
       "\t<tr><th scope=row>summer_seasonyes</th><td>0.08029403</td><td>    0.0000</td><td>    0.0000000</td><td>    0.0000000</td><td>    0.0000000</td><td>    0.0000000</td></tr>\n",
       "\t<tr><th scope=row>imdb_rating</th><td>1.00000000</td><td>    1.0000</td><td>    1.0000000</td><td>    1.0000000</td><td>    1.0000000</td><td>    1.0000000</td></tr>\n",
       "\t<tr><th scope=row>imdb_num_votes</th><td>0.05743553</td><td>    0.0000</td><td>    0.0000000</td><td>    0.0000000</td><td>    0.0000000</td><td>    0.0000000</td></tr>\n",
       "\t<tr><th scope=row>critics_score</th><td>0.89363324</td><td>    1.0000</td><td>    1.0000000</td><td>    1.0000000</td><td>    1.0000000</td><td>    1.0000000</td></tr>\n",
       "\t<tr><th scope=row>best_pic_nomyes</th><td>0.16889933</td><td>    0.0000</td><td>    0.0000000</td><td>    0.0000000</td><td>    1.0000000</td><td>    0.0000000</td></tr>\n",
       "\t<tr><th scope=row>best_pic_winyes</th><td>0.04029807</td><td>    0.0000</td><td>    0.0000000</td><td>    0.0000000</td><td>    0.0000000</td><td>    0.0000000</td></tr>\n",
       "\t<tr><th scope=row>best_actor_winyes</th><td>0.10976111</td><td>    0.0000</td><td>    0.0000000</td><td>    0.0000000</td><td>    0.0000000</td><td>    1.0000000</td></tr>\n",
       "\t<tr><th scope=row>best_actress_winyes</th><td>0.10896683</td><td>    0.0000</td><td>    0.0000000</td><td>    0.0000000</td><td>    0.0000000</td><td>    0.0000000</td></tr>\n",
       "\t<tr><th scope=row>best_dir_winyes</th><td>0.05773221</td><td>    0.0000</td><td>    0.0000000</td><td>    0.0000000</td><td>    0.0000000</td><td>    0.0000000</td></tr>\n",
       "\t<tr><th scope=row>top200_boxyes</th><td>0.04692646</td><td>    0.0000</td><td>    0.0000000</td><td>    0.0000000</td><td>    0.0000000</td><td>    0.0000000</td></tr>\n",
       "\t<tr><th scope=row>oscaryes</th><td>0.33031919</td><td>    0.0000</td><td>    0.0000000</td><td>    1.0000000</td><td>    1.0000000</td><td>    0.0000000</td></tr>\n",
       "\t<tr><th scope=row>BF</th><td>        NA</td><td>    1.0000</td><td>    0.9968489</td><td>    0.9664265</td><td>    0.2614035</td><td>    0.2543185</td></tr>\n",
       "\t<tr><th scope=row>PostProbs</th><td>        NA</td><td>    0.0868</td><td>    0.0866000</td><td>    0.0839000</td><td>    0.0227000</td><td>    0.0221000</td></tr>\n",
       "\t<tr><th scope=row>R2</th><td>        NA</td><td>    0.7549</td><td>    0.7525000</td><td>    0.7549000</td><td>    0.7563000</td><td>    0.7539000</td></tr>\n",
       "\t<tr><th scope=row>dim</th><td>        NA</td><td>    4.0000</td><td>    3.0000000</td><td>    4.0000000</td><td>    5.0000000</td><td>    4.0000000</td></tr>\n",
       "\t<tr><th scope=row>logmarg</th><td>        NA</td><td>-3615.2791</td><td>-3615.2822108</td><td>-3615.3132048</td><td>-3616.6207448</td><td>-3616.6482224</td></tr>\n",
       "</tbody>\n",
       "</table>\n"
      ],
      "text/latex": [
       "A matrix: 23 × 6 of type dbl\n",
       "\\begin{tabular}{r|llllll}\n",
       "  & P(B != 0 \\textbar{} Y) & model 1 & model 2 & model 3 & model 4 & model 5\\\\\n",
       "\\hline\n",
       "\tIntercept & 1.00000000 &     1.0000 &     1.0000000 &     1.0000000 &     1.0000000 &     1.0000000\\\\\n",
       "\tfeature\\_filmyes & 0.06138093 &     0.0000 &     0.0000000 &     0.0000000 &     0.0000000 &     0.0000000\\\\\n",
       "\tdramayes & 0.04378471 &     0.0000 &     0.0000000 &     0.0000000 &     0.0000000 &     0.0000000\\\\\n",
       "\truntime & 0.37963551 &     1.0000 &     0.0000000 &     0.0000000 &     0.0000000 &     0.0000000\\\\\n",
       "\tmpaa\\_rating\\_Ryes & 0.19891935 &     0.0000 &     0.0000000 &     0.0000000 &     0.0000000 &     0.0000000\\\\\n",
       "\tthtr\\_rel\\_year & 0.09126583 &     0.0000 &     0.0000000 &     0.0000000 &     0.0000000 &     0.0000000\\\\\n",
       "\toscar\\_seasonyes & 0.07251281 &     0.0000 &     0.0000000 &     0.0000000 &     0.0000000 &     0.0000000\\\\\n",
       "\tsummer\\_seasonyes & 0.08029403 &     0.0000 &     0.0000000 &     0.0000000 &     0.0000000 &     0.0000000\\\\\n",
       "\timdb\\_rating & 1.00000000 &     1.0000 &     1.0000000 &     1.0000000 &     1.0000000 &     1.0000000\\\\\n",
       "\timdb\\_num\\_votes & 0.05743553 &     0.0000 &     0.0000000 &     0.0000000 &     0.0000000 &     0.0000000\\\\\n",
       "\tcritics\\_score & 0.89363324 &     1.0000 &     1.0000000 &     1.0000000 &     1.0000000 &     1.0000000\\\\\n",
       "\tbest\\_pic\\_nomyes & 0.16889933 &     0.0000 &     0.0000000 &     0.0000000 &     1.0000000 &     0.0000000\\\\\n",
       "\tbest\\_pic\\_winyes & 0.04029807 &     0.0000 &     0.0000000 &     0.0000000 &     0.0000000 &     0.0000000\\\\\n",
       "\tbest\\_actor\\_winyes & 0.10976111 &     0.0000 &     0.0000000 &     0.0000000 &     0.0000000 &     1.0000000\\\\\n",
       "\tbest\\_actress\\_winyes & 0.10896683 &     0.0000 &     0.0000000 &     0.0000000 &     0.0000000 &     0.0000000\\\\\n",
       "\tbest\\_dir\\_winyes & 0.05773221 &     0.0000 &     0.0000000 &     0.0000000 &     0.0000000 &     0.0000000\\\\\n",
       "\ttop200\\_boxyes & 0.04692646 &     0.0000 &     0.0000000 &     0.0000000 &     0.0000000 &     0.0000000\\\\\n",
       "\toscaryes & 0.33031919 &     0.0000 &     0.0000000 &     1.0000000 &     1.0000000 &     0.0000000\\\\\n",
       "\tBF &         NA &     1.0000 &     0.9968489 &     0.9664265 &     0.2614035 &     0.2543185\\\\\n",
       "\tPostProbs &         NA &     0.0868 &     0.0866000 &     0.0839000 &     0.0227000 &     0.0221000\\\\\n",
       "\tR2 &         NA &     0.7549 &     0.7525000 &     0.7549000 &     0.7563000 &     0.7539000\\\\\n",
       "\tdim &         NA &     4.0000 &     3.0000000 &     4.0000000 &     5.0000000 &     4.0000000\\\\\n",
       "\tlogmarg &         NA & -3615.2791 & -3615.2822108 & -3615.3132048 & -3616.6207448 & -3616.6482224\\\\\n",
       "\\end{tabular}\n"
      ],
      "text/markdown": [
       "\n",
       "A matrix: 23 × 6 of type dbl\n",
       "\n",
       "| <!--/--> | P(B != 0 | Y) | model 1 | model 2 | model 3 | model 4 | model 5 |\n",
       "|---|---|---|---|---|---|---|\n",
       "| Intercept | 1.00000000 |     1.0000 |     1.0000000 |     1.0000000 |     1.0000000 |     1.0000000 |\n",
       "| feature_filmyes | 0.06138093 |     0.0000 |     0.0000000 |     0.0000000 |     0.0000000 |     0.0000000 |\n",
       "| dramayes | 0.04378471 |     0.0000 |     0.0000000 |     0.0000000 |     0.0000000 |     0.0000000 |\n",
       "| runtime | 0.37963551 |     1.0000 |     0.0000000 |     0.0000000 |     0.0000000 |     0.0000000 |\n",
       "| mpaa_rating_Ryes | 0.19891935 |     0.0000 |     0.0000000 |     0.0000000 |     0.0000000 |     0.0000000 |\n",
       "| thtr_rel_year | 0.09126583 |     0.0000 |     0.0000000 |     0.0000000 |     0.0000000 |     0.0000000 |\n",
       "| oscar_seasonyes | 0.07251281 |     0.0000 |     0.0000000 |     0.0000000 |     0.0000000 |     0.0000000 |\n",
       "| summer_seasonyes | 0.08029403 |     0.0000 |     0.0000000 |     0.0000000 |     0.0000000 |     0.0000000 |\n",
       "| imdb_rating | 1.00000000 |     1.0000 |     1.0000000 |     1.0000000 |     1.0000000 |     1.0000000 |\n",
       "| imdb_num_votes | 0.05743553 |     0.0000 |     0.0000000 |     0.0000000 |     0.0000000 |     0.0000000 |\n",
       "| critics_score | 0.89363324 |     1.0000 |     1.0000000 |     1.0000000 |     1.0000000 |     1.0000000 |\n",
       "| best_pic_nomyes | 0.16889933 |     0.0000 |     0.0000000 |     0.0000000 |     1.0000000 |     0.0000000 |\n",
       "| best_pic_winyes | 0.04029807 |     0.0000 |     0.0000000 |     0.0000000 |     0.0000000 |     0.0000000 |\n",
       "| best_actor_winyes | 0.10976111 |     0.0000 |     0.0000000 |     0.0000000 |     0.0000000 |     1.0000000 |\n",
       "| best_actress_winyes | 0.10896683 |     0.0000 |     0.0000000 |     0.0000000 |     0.0000000 |     0.0000000 |\n",
       "| best_dir_winyes | 0.05773221 |     0.0000 |     0.0000000 |     0.0000000 |     0.0000000 |     0.0000000 |\n",
       "| top200_boxyes | 0.04692646 |     0.0000 |     0.0000000 |     0.0000000 |     0.0000000 |     0.0000000 |\n",
       "| oscaryes | 0.33031919 |     0.0000 |     0.0000000 |     1.0000000 |     1.0000000 |     0.0000000 |\n",
       "| BF |         NA |     1.0000 |     0.9968489 |     0.9664265 |     0.2614035 |     0.2543185 |\n",
       "| PostProbs |         NA |     0.0868 |     0.0866000 |     0.0839000 |     0.0227000 |     0.0221000 |\n",
       "| R2 |         NA |     0.7549 |     0.7525000 |     0.7549000 |     0.7563000 |     0.7539000 |\n",
       "| dim |         NA |     4.0000 |     3.0000000 |     4.0000000 |     5.0000000 |     4.0000000 |\n",
       "| logmarg |         NA | -3615.2791 | -3615.2822108 | -3615.3132048 | -3616.6207448 | -3616.6482224 |\n",
       "\n"
      ],
      "text/plain": [
       "                    P(B != 0 | Y) model 1    model 2       model 3      \n",
       "Intercept           1.00000000        1.0000     1.0000000     1.0000000\n",
       "feature_filmyes     0.06138093        0.0000     0.0000000     0.0000000\n",
       "dramayes            0.04378471        0.0000     0.0000000     0.0000000\n",
       "runtime             0.37963551        1.0000     0.0000000     0.0000000\n",
       "mpaa_rating_Ryes    0.19891935        0.0000     0.0000000     0.0000000\n",
       "thtr_rel_year       0.09126583        0.0000     0.0000000     0.0000000\n",
       "oscar_seasonyes     0.07251281        0.0000     0.0000000     0.0000000\n",
       "summer_seasonyes    0.08029403        0.0000     0.0000000     0.0000000\n",
       "imdb_rating         1.00000000        1.0000     1.0000000     1.0000000\n",
       "imdb_num_votes      0.05743553        0.0000     0.0000000     0.0000000\n",
       "critics_score       0.89363324        1.0000     1.0000000     1.0000000\n",
       "best_pic_nomyes     0.16889933        0.0000     0.0000000     0.0000000\n",
       "best_pic_winyes     0.04029807        0.0000     0.0000000     0.0000000\n",
       "best_actor_winyes   0.10976111        0.0000     0.0000000     0.0000000\n",
       "best_actress_winyes 0.10896683        0.0000     0.0000000     0.0000000\n",
       "best_dir_winyes     0.05773221        0.0000     0.0000000     0.0000000\n",
       "top200_boxyes       0.04692646        0.0000     0.0000000     0.0000000\n",
       "oscaryes            0.33031919        0.0000     0.0000000     1.0000000\n",
       "BF                          NA        1.0000     0.9968489     0.9664265\n",
       "PostProbs                   NA        0.0868     0.0866000     0.0839000\n",
       "R2                          NA        0.7549     0.7525000     0.7549000\n",
       "dim                         NA        4.0000     3.0000000     4.0000000\n",
       "logmarg                     NA    -3615.2791 -3615.2822108 -3615.3132048\n",
       "                    model 4       model 5      \n",
       "Intercept               1.0000000     1.0000000\n",
       "feature_filmyes         0.0000000     0.0000000\n",
       "dramayes                0.0000000     0.0000000\n",
       "runtime                 0.0000000     0.0000000\n",
       "mpaa_rating_Ryes        0.0000000     0.0000000\n",
       "thtr_rel_year           0.0000000     0.0000000\n",
       "oscar_seasonyes         0.0000000     0.0000000\n",
       "summer_seasonyes        0.0000000     0.0000000\n",
       "imdb_rating             1.0000000     1.0000000\n",
       "imdb_num_votes          0.0000000     0.0000000\n",
       "critics_score           1.0000000     1.0000000\n",
       "best_pic_nomyes         1.0000000     0.0000000\n",
       "best_pic_winyes         0.0000000     0.0000000\n",
       "best_actor_winyes       0.0000000     1.0000000\n",
       "best_actress_winyes     0.0000000     0.0000000\n",
       "best_dir_winyes         0.0000000     0.0000000\n",
       "top200_boxyes           0.0000000     0.0000000\n",
       "oscaryes                1.0000000     0.0000000\n",
       "BF                      0.2614035     0.2543185\n",
       "PostProbs               0.0227000     0.0221000\n",
       "R2                      0.7563000     0.7539000\n",
       "dim                     5.0000000     4.0000000\n",
       "logmarg             -3616.6207448 -3616.6482224"
      ]
     },
     "metadata": {},
     "output_type": "display_data"
    }
   ],
   "source": [
    "summary(bma1)"
   ]
  },
  {
   "cell_type": "code",
   "execution_count": 17,
   "metadata": {},
   "outputs": [
    {
     "data": {
      "image/png": "[encoded data removed]",
      "text/plain": [
       "plot without title"
      ]
     },
     "metadata": {
      "image/png": {
       "height": 420,
       "width": 420
      },
      "text/plain": {
       "height": 420,
       "width": 420
      }
     },
     "output_type": "display_data"
    }
   ],
   "source": [
    "image(bma1,rotate=FALSE)"
   ]
  },
  {
   "cell_type": "markdown",
   "metadata": {},
   "source": [
    "By looking at the image, we can see that the best model is the one with `runtime`, `imdb_rating`, `critics_score`."
   ]
  },
  {
   "cell_type": "markdown",
   "metadata": {},
   "source": [
    "### Model Diagnostics"
   ]
  },
  {
   "cell_type": "code",
   "execution_count": 18,
   "metadata": {},
   "outputs": [
    {
     "data": {
      "image/png": "[encoded data removed]",
      "text/plain": [
       "Plot with title \"\""
      ]
     },
     "metadata": {
      "image/png": {
       "height": 420,
       "width": 420
      },
      "text/plain": {
       "height": 420,
       "width": 420
      }
     },
     "output_type": "display_data"
    }
   ],
   "source": [
    "par(mfrow=c(2,2))\n",
    "\n",
    "plot(bma1, which=c(1, 2), ask=FALSE)\n",
    "\n",
    "plot(bma1, which=4, ask=FALSE, cex.lab=0.5)"
   ]
  },
  {
   "cell_type": "markdown",
   "metadata": {},
   "source": [
    "## Part 5: Prediction\n",
    "\n",
    "The predictive capability of bayesian model averaging was tested using data for a movie that was not included in the analysis data set. The movie chosen was Deadpool which was released early in 2016.  The information for this movie was obtained from the IMDb and Rotten Tomatoes web sites in order to be consistent with the analysis data."
   ]
  },
  {
   "cell_type": "code",
   "execution_count": 19,
   "metadata": {},
   "outputs": [],
   "source": [
    "Deadpool <- data.frame(runtime=108,\n",
    "                         thtr_rel_year=2016,\n",
    "                         imdb_rating=8.1,\n",
    "                         imdb_num_votes=500049,\n",
    "                         critics_score=84,\n",
    "                         audience_score=0,\n",
    "                         best_pic_nom=factor(\"no\", levels=c(\"no\", \"yes\")),\n",
    "                         best_pic_win=factor(\"no\", levels=c(\"no\", \"yes\")),\n",
    "                         best_actor_win=factor(\"no\", levels=c(\"no\", \"yes\")),\n",
    "                         best_actress_win=factor(\"no\", levels=c(\"no\", \"yes\")),\n",
    "                         best_dir_win=factor(\"no\", levels=c(\"no\", \"yes\")),\n",
    "                         top200_box=factor(\"no\", levels=c(\"no\", \"yes\")),\n",
    "                         feature_film=factor(\"yes\", levels=c(\"no\", \"yes\")),\n",
    "                         drama=factor(\"no\", levels=c(\"no\", \"yes\")),\n",
    "                         mpaa_rating_R=factor(\"yes\", levels=c(\"no\", \"yes\")),\n",
    "                         oscar_season=factor(\"no\", levels=c(\"no\", \"yes\")),\n",
    "                         summer_season=factor(\"no\", levels=c(\"no\", \"yes\")),\n",
    "                         oscar = factor(\"no\", levels=c(\"no\", \"yes\")))\n",
    "\n",
    "BMA_DP <- predict(bma1, newdata=Deadpool, estimator=\"BMA\", se.fit=TRUE)"
   ]
  },
  {
   "cell_type": "code",
   "execution_count": 20,
   "metadata": {},
   "outputs": [
    {
     "data": {
      "text/html": [
       "18.3036074614052"
      ],
      "text/latex": [
       "18.3036074614052"
      ],
      "text/markdown": [
       "18.3036074614052"
      ],
      "text/plain": [
       "[1] 18.30361"
      ]
     },
     "metadata": {},
     "output_type": "display_data"
    }
   ],
   "source": [
    "# Calculate 95% margin of error for the prediction interval.\n",
    "\n",
    "BMA_DP_pred <- qt(0.95, df=BMA_DP$se.bma.pred[1]) * mean(BMA_DP$se.bma.pred)\n",
    "BMA_DP_pred"
   ]
  },
  {
   "cell_type": "code",
   "execution_count": 21,
   "metadata": {},
   "outputs": [
    {
     "name": "stdout",
     "output_type": "stream",
     "text": [
      "  Movie Title Predicted Rating 95% Prediction Interval Actual Rating\n",
      "1    Deadpool             88.1            69.8 - 106.4            84\n"
     ]
    }
   ],
   "source": [
    "# Show prediction results.\n",
    "df <- data.frame(t=\"Deadpool\",\n",
    "                 p=sprintf(\"%2.1f\", BMA_DP$Ybma),\n",
    "                 i=sprintf(\"%2.1f - %2.1f\", BMA_DP$Ybma - BMA_DP_pred,\n",
    "                           BMA_DP$Ybma + BMA_DP_pred),\n",
    "                 r=84)\n",
    "colnames(df) <- c(\"Movie Title\", \"Predicted Rating\", \"95% Prediction Interval\", \n",
    "                  \"Actual Rating\")\n",
    "print(df)"
   ]
  },
  {
   "cell_type": "markdown",
   "metadata": {},
   "source": [
    "The true audience score for the movie is 84. The model prediction is 88 with a 95% prediction interval of 69.8 to 106.4."
   ]
  },
  {
   "cell_type": "markdown",
   "metadata": {},
   "source": [
    "## Part 6: Conclusion\n",
    "The relationship between audience score and the varaibles in movies dataset was analysed in project. An Exploratory Data Analysis was performed for the five derived variables. A Bayesian Information criterion backwards elimination produced a model that was scrutinized using Bayesian Posterior Probabilities. The model was used to predict score of a recent Movie and the results were positive with the predicted score close to the actual score, and the actual scoore within the 95% connfidence interval."
   ]
  }
 ],
 "metadata": {
  "kernelspec": {
   "display_name": "R",
   "language": "R",
   "name": "ir"
  },
  "language_info": {
   "codemirror_mode": "r",
   "file_extension": ".r",
   "mimetype": "text/x-r-source",
   "name": "R",
   "pygments_lexer": "r",
   "version": "3.6.3"
  }
 },
 "nbformat": 4,
 "nbformat_minor": 4
}
