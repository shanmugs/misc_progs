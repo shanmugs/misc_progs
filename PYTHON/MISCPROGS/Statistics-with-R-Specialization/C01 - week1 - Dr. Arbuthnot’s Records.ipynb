{
 "cells": [
  {
   "cell_type": "markdown",
   "metadata": {},
   "source": [
    "# Dr. Arbuthnot’s Baptism Records"
   ]
  },
  {
   "cell_type": "markdown",
   "metadata": {},
   "source": [
    "<img src=\"images/Arbuthnot_John_Kneller.jpg\"/>"
   ]
  },
  {
   "cell_type": "markdown",
   "metadata": {},
   "source": [
    "The Arbuthnot data set refers to Dr. John Arbuthnot, an 18th century physician, writer, and mathematician. He was interested in the ratio of newborn boys to newborn girls, so he gathered the baptism records for children born in London for every year from 1629 to 1710. "
   ]
  },
  {
   "cell_type": "markdown",
   "metadata": {},
   "source": [
    "### Libraries"
   ]
  },
  {
   "cell_type": "code",
   "execution_count": 1,
   "metadata": {},
   "outputs": [
    {
     "name": "stderr",
     "output_type": "stream",
     "text": [
      "\n",
      "Attaching package: 'dplyr'\n",
      "\n",
      "\n",
      "The following objects are masked from 'package:stats':\n",
      "\n",
      "    filter, lag\n",
      "\n",
      "\n",
      "The following objects are masked from 'package:base':\n",
      "\n",
      "    intersect, setdiff, setequal, union\n",
      "\n",
      "\n"
     ]
    }
   ],
   "source": [
    "#install.packages(\"dplyr\")\n",
    "library(dplyr) # for data wrangling\n",
    "\n",
    "#install.packages(\"ggplot2\")\n",
    "library(ggplot2) # for data visualization\n",
    "\n",
    "#install.packages(\"statsr\")\n",
    "library(statsr) # for data files and functions used in this course"
   ]
  },
  {
   "cell_type": "markdown",
   "metadata": {},
   "source": [
    "### Load Data"
   ]
  },
  {
   "cell_type": "code",
   "execution_count": 2,
   "metadata": {},
   "outputs": [
    {
     "data": {
      "text/html": [
       "<table>\n",
       "<caption>A data.frame: 6 × 3</caption>\n",
       "<thead>\n",
       "\t<tr><th></th><th scope=col>year</th><th scope=col>boys</th><th scope=col>girls</th></tr>\n",
       "\t<tr><th></th><th scope=col>&lt;int&gt;</th><th scope=col>&lt;int&gt;</th><th scope=col>&lt;int&gt;</th></tr>\n",
       "</thead>\n",
       "<tbody>\n",
       "\t<tr><th scope=row>1</th><td>1629</td><td>5218</td><td>4683</td></tr>\n",
       "\t<tr><th scope=row>2</th><td>1630</td><td>4858</td><td>4457</td></tr>\n",
       "\t<tr><th scope=row>3</th><td>1631</td><td>4422</td><td>4102</td></tr>\n",
       "\t<tr><th scope=row>4</th><td>1632</td><td>4994</td><td>4590</td></tr>\n",
       "\t<tr><th scope=row>5</th><td>1633</td><td>5158</td><td>4839</td></tr>\n",
       "\t<tr><th scope=row>6</th><td>1634</td><td>5035</td><td>4820</td></tr>\n",
       "</tbody>\n",
       "</table>\n"
      ],
      "text/latex": [
       "A data.frame: 6 × 3\n",
       "\\begin{tabular}{r|lll}\n",
       "  & year & boys & girls\\\\\n",
       "  & <int> & <int> & <int>\\\\\n",
       "\\hline\n",
       "\t1 & 1629 & 5218 & 4683\\\\\n",
       "\t2 & 1630 & 4858 & 4457\\\\\n",
       "\t3 & 1631 & 4422 & 4102\\\\\n",
       "\t4 & 1632 & 4994 & 4590\\\\\n",
       "\t5 & 1633 & 5158 & 4839\\\\\n",
       "\t6 & 1634 & 5035 & 4820\\\\\n",
       "\\end{tabular}\n"
      ],
      "text/markdown": [
       "\n",
       "A data.frame: 6 × 3\n",
       "\n",
       "| <!--/--> | year &lt;int&gt; | boys &lt;int&gt; | girls &lt;int&gt; |\n",
       "|---|---|---|---|\n",
       "| 1 | 1629 | 5218 | 4683 |\n",
       "| 2 | 1630 | 4858 | 4457 |\n",
       "| 3 | 1631 | 4422 | 4102 |\n",
       "| 4 | 1632 | 4994 | 4590 |\n",
       "| 5 | 1633 | 5158 | 4839 |\n",
       "| 6 | 1634 | 5035 | 4820 |\n",
       "\n"
      ],
      "text/plain": [
       "  year boys girls\n",
       "1 1629 5218 4683 \n",
       "2 1630 4858 4457 \n",
       "3 1631 4422 4102 \n",
       "4 1632 4994 4590 \n",
       "5 1633 5158 4839 \n",
       "6 1634 5035 4820 "
      ]
     },
     "metadata": {},
     "output_type": "display_data"
    }
   ],
   "source": [
    "source(\"http://www.openintro.org/stat/data/arbuthnot.R\")\n",
    "head(arbuthnot)"
   ]
  },
  {
   "cell_type": "markdown",
   "metadata": {},
   "source": [
    "### Some Exploration"
   ]
  },
  {
   "cell_type": "markdown",
   "metadata": {},
   "source": [
    "**1) How many variables are included in this data set?**"
   ]
  },
  {
   "cell_type": "code",
   "execution_count": 3,
   "metadata": {},
   "outputs": [
    {
     "data": {
      "text/html": [
       "<style>\n",
       ".list-inline {list-style: none; margin:0; padding: 0}\n",
       ".list-inline>li {display: inline-block}\n",
       ".list-inline>li:not(:last-child)::after {content: \"\\00b7\"; padding: 0 .5ex}\n",
       "</style>\n",
       "<ol class=list-inline><li>82</li><li>3</li></ol>\n"
      ],
      "text/latex": [
       "\\begin{enumerate*}\n",
       "\\item 82\n",
       "\\item 3\n",
       "\\end{enumerate*}\n"
      ],
      "text/markdown": [
       "1. 82\n",
       "2. 3\n",
       "\n",
       "\n"
      ],
      "text/plain": [
       "[1] 82  3"
      ]
     },
     "metadata": {},
     "output_type": "display_data"
    }
   ],
   "source": [
    "dim(arbuthnot)"
   ]
  },
  {
   "cell_type": "code",
   "execution_count": 4,
   "metadata": {},
   "outputs": [
    {
     "data": {
      "text/html": [
       "82"
      ],
      "text/latex": [
       "82"
      ],
      "text/markdown": [
       "82"
      ],
      "text/plain": [
       "[1] 82"
      ]
     },
     "metadata": {},
     "output_type": "display_data"
    }
   ],
   "source": [
    "nrow(arbuthnot)"
   ]
  },
  {
   "cell_type": "code",
   "execution_count": 5,
   "metadata": {},
   "outputs": [
    {
     "data": {
      "text/html": [
       "<style>\n",
       ".list-inline {list-style: none; margin:0; padding: 0}\n",
       ".list-inline>li {display: inline-block}\n",
       ".list-inline>li:not(:last-child)::after {content: \"\\00b7\"; padding: 0 .5ex}\n",
       "</style>\n",
       "<ol class=list-inline><li>'year'</li><li>'boys'</li><li>'girls'</li></ol>\n"
      ],
      "text/latex": [
       "\\begin{enumerate*}\n",
       "\\item 'year'\n",
       "\\item 'boys'\n",
       "\\item 'girls'\n",
       "\\end{enumerate*}\n"
      ],
      "text/markdown": [
       "1. 'year'\n",
       "2. 'boys'\n",
       "3. 'girls'\n",
       "\n",
       "\n"
      ],
      "text/plain": [
       "[1] \"year\"  \"boys\"  \"girls\""
      ]
     },
     "metadata": {},
     "output_type": "display_data"
    }
   ],
   "source": [
    "names(arbuthnot)"
   ]
  },
  {
   "cell_type": "markdown",
   "metadata": {},
   "source": [
    "**What years are included in this dataset?**"
   ]
  },
  {
   "cell_type": "code",
   "execution_count": 6,
   "metadata": {},
   "outputs": [
    {
     "data": {
      "text/plain": [
       "\n",
       "1629 1630 1631 1632 1633 1634 1635 1636 1637 1638 1639 1640 1641 1642 1643 1644 \n",
       "   1    1    1    1    1    1    1    1    1    1    1    1    1    1    1    1 \n",
       "1645 1646 1647 1648 1649 1650 1651 1652 1653 1654 1655 1656 1657 1658 1659 1660 \n",
       "   1    1    1    1    1    1    1    1    1    1    1    1    1    1    1    1 \n",
       "1661 1662 1663 1664 1665 1666 1667 1668 1669 1670 1671 1672 1673 1674 1675 1676 \n",
       "   1    1    1    1    1    1    1    1    1    1    1    1    1    1    1    1 \n",
       "1677 1678 1679 1680 1681 1682 1683 1684 1685 1686 1687 1688 1689 1690 1691 1692 \n",
       "   1    1    1    1    1    1    1    1    1    1    1    1    1    1    1    1 \n",
       "1693 1694 1695 1696 1697 1698 1699 1700 1701 1702 1703 1704 1705 1706 1707 1708 \n",
       "   1    1    1    1    1    1    1    1    1    1    1    1    1    1    1    1 \n",
       "1709 1710 \n",
       "   1    1 "
      ]
     },
     "metadata": {},
     "output_type": "display_data"
    }
   ],
   "source": [
    "table(arbuthnot$year)"
   ]
  },
  {
   "cell_type": "code",
   "execution_count": 7,
   "metadata": {},
   "outputs": [
    {
     "data": {
      "text/html": [
       "82"
      ],
      "text/latex": [
       "82"
      ],
      "text/markdown": [
       "82"
      ],
      "text/plain": [
       "[1] 82"
      ]
     },
     "metadata": {},
     "output_type": "display_data"
    }
   ],
   "source": [
    "nrow(table(arbuthnot$year))"
   ]
  },
  {
   "cell_type": "markdown",
   "metadata": {},
   "source": [
    "**2) What command would you use to extract just the counts of girls born?**"
   ]
  },
  {
   "cell_type": "code",
   "execution_count": 8,
   "metadata": {},
   "outputs": [
    {
     "data": {
      "text/html": [
       "<style>\n",
       ".list-inline {list-style: none; margin:0; padding: 0}\n",
       ".list-inline>li {display: inline-block}\n",
       ".list-inline>li:not(:last-child)::after {content: \"\\00b7\"; padding: 0 .5ex}\n",
       "</style>\n",
       "<ol class=list-inline><li>4683</li><li>4457</li><li>4102</li><li>4590</li><li>4839</li><li>4820</li><li>4928</li><li>4605</li><li>4457</li><li>4952</li><li>4784</li><li>5332</li><li>5200</li><li>4910</li><li>4617</li><li>3997</li><li>3919</li><li>3395</li><li>3536</li><li>3181</li><li>2746</li><li>2722</li><li>2840</li><li>2908</li><li>2959</li><li>3179</li><li>3349</li><li>3382</li><li>3289</li><li>3013</li><li>2781</li><li>3247</li><li>4107</li><li>4803</li><li>4881</li><li>5681</li><li>4858</li><li>4319</li><li>5322</li><li>5560</li><li>5829</li><li>5719</li><li>6061</li><li>6120</li><li>5822</li><li>5738</li><li>5717</li><li>5847</li><li>6203</li><li>6033</li><li>6041</li><li>6299</li><li>6533</li><li>6744</li><li>7158</li><li>7127</li><li>7246</li><li>7119</li><li>7214</li><li>7101</li><li>7167</li><li>7302</li><li>7392</li><li>7316</li><li>7483</li><li>6647</li><li>6713</li><li>7229</li><li>7767</li><li>7626</li><li>7452</li><li>7061</li><li>7514</li><li>7656</li><li>7683</li><li>5738</li><li>7779</li><li>7417</li><li>7687</li><li>7623</li><li>7380</li><li>7288</li></ol>\n"
      ],
      "text/latex": [
       "\\begin{enumerate*}\n",
       "\\item 4683\n",
       "\\item 4457\n",
       "\\item 4102\n",
       "\\item 4590\n",
       "\\item 4839\n",
       "\\item 4820\n",
       "\\item 4928\n",
       "\\item 4605\n",
       "\\item 4457\n",
       "\\item 4952\n",
       "\\item 4784\n",
       "\\item 5332\n",
       "\\item 5200\n",
       "\\item 4910\n",
       "\\item 4617\n",
       "\\item 3997\n",
       "\\item 3919\n",
       "\\item 3395\n",
       "\\item 3536\n",
       "\\item 3181\n",
       "\\item 2746\n",
       "\\item 2722\n",
       "\\item 2840\n",
       "\\item 2908\n",
       "\\item 2959\n",
       "\\item 3179\n",
       "\\item 3349\n",
       "\\item 3382\n",
       "\\item 3289\n",
       "\\item 3013\n",
       "\\item 2781\n",
       "\\item 3247\n",
       "\\item 4107\n",
       "\\item 4803\n",
       "\\item 4881\n",
       "\\item 5681\n",
       "\\item 4858\n",
       "\\item 4319\n",
       "\\item 5322\n",
       "\\item 5560\n",
       "\\item 5829\n",
       "\\item 5719\n",
       "\\item 6061\n",
       "\\item 6120\n",
       "\\item 5822\n",
       "\\item 5738\n",
       "\\item 5717\n",
       "\\item 5847\n",
       "\\item 6203\n",
       "\\item 6033\n",
       "\\item 6041\n",
       "\\item 6299\n",
       "\\item 6533\n",
       "\\item 6744\n",
       "\\item 7158\n",
       "\\item 7127\n",
       "\\item 7246\n",
       "\\item 7119\n",
       "\\item 7214\n",
       "\\item 7101\n",
       "\\item 7167\n",
       "\\item 7302\n",
       "\\item 7392\n",
       "\\item 7316\n",
       "\\item 7483\n",
       "\\item 6647\n",
       "\\item 6713\n",
       "\\item 7229\n",
       "\\item 7767\n",
       "\\item 7626\n",
       "\\item 7452\n",
       "\\item 7061\n",
       "\\item 7514\n",
       "\\item 7656\n",
       "\\item 7683\n",
       "\\item 5738\n",
       "\\item 7779\n",
       "\\item 7417\n",
       "\\item 7687\n",
       "\\item 7623\n",
       "\\item 7380\n",
       "\\item 7288\n",
       "\\end{enumerate*}\n"
      ],
      "text/markdown": [
       "1. 4683\n",
       "2. 4457\n",
       "3. 4102\n",
       "4. 4590\n",
       "5. 4839\n",
       "6. 4820\n",
       "7. 4928\n",
       "8. 4605\n",
       "9. 4457\n",
       "10. 4952\n",
       "11. 4784\n",
       "12. 5332\n",
       "13. 5200\n",
       "14. 4910\n",
       "15. 4617\n",
       "16. 3997\n",
       "17. 3919\n",
       "18. 3395\n",
       "19. 3536\n",
       "20. 3181\n",
       "21. 2746\n",
       "22. 2722\n",
       "23. 2840\n",
       "24. 2908\n",
       "25. 2959\n",
       "26. 3179\n",
       "27. 3349\n",
       "28. 3382\n",
       "29. 3289\n",
       "30. 3013\n",
       "31. 2781\n",
       "32. 3247\n",
       "33. 4107\n",
       "34. 4803\n",
       "35. 4881\n",
       "36. 5681\n",
       "37. 4858\n",
       "38. 4319\n",
       "39. 5322\n",
       "40. 5560\n",
       "41. 5829\n",
       "42. 5719\n",
       "43. 6061\n",
       "44. 6120\n",
       "45. 5822\n",
       "46. 5738\n",
       "47. 5717\n",
       "48. 5847\n",
       "49. 6203\n",
       "50. 6033\n",
       "51. 6041\n",
       "52. 6299\n",
       "53. 6533\n",
       "54. 6744\n",
       "55. 7158\n",
       "56. 7127\n",
       "57. 7246\n",
       "58. 7119\n",
       "59. 7214\n",
       "60. 7101\n",
       "61. 7167\n",
       "62. 7302\n",
       "63. 7392\n",
       "64. 7316\n",
       "65. 7483\n",
       "66. 6647\n",
       "67. 6713\n",
       "68. 7229\n",
       "69. 7767\n",
       "70. 7626\n",
       "71. 7452\n",
       "72. 7061\n",
       "73. 7514\n",
       "74. 7656\n",
       "75. 7683\n",
       "76. 5738\n",
       "77. 7779\n",
       "78. 7417\n",
       "79. 7687\n",
       "80. 7623\n",
       "81. 7380\n",
       "82. 7288\n",
       "\n",
       "\n"
      ],
      "text/plain": [
       " [1] 4683 4457 4102 4590 4839 4820 4928 4605 4457 4952 4784 5332 5200 4910 4617\n",
       "[16] 3997 3919 3395 3536 3181 2746 2722 2840 2908 2959 3179 3349 3382 3289 3013\n",
       "[31] 2781 3247 4107 4803 4881 5681 4858 4319 5322 5560 5829 5719 6061 6120 5822\n",
       "[46] 5738 5717 5847 6203 6033 6041 6299 6533 6744 7158 7127 7246 7119 7214 7101\n",
       "[61] 7167 7302 7392 7316 7483 6647 6713 7229 7767 7626 7452 7061 7514 7656 7683\n",
       "[76] 5738 7779 7417 7687 7623 7380 7288"
      ]
     },
     "metadata": {},
     "output_type": "display_data"
    }
   ],
   "source": [
    "arbuthnot$girls"
   ]
  },
  {
   "cell_type": "markdown",
   "metadata": {},
   "source": [
    "### Data Visualiztion"
   ]
  },
  {
   "cell_type": "markdown",
   "metadata": {},
   "source": [
    "**3) Which of the following best describes the number of girls baptised over the years included in this dataset?**"
   ]
  },
  {
   "cell_type": "code",
   "execution_count": 9,
   "metadata": {},
   "outputs": [
    {
     "data": {
      "image/png": "[encoded data removed]",
      "text/plain": [
       "plot without title"
      ]
     },
     "metadata": {
      "image/png": {
       "height": 420,
       "width": 420
      },
      "text/plain": {
       "height": 420,
       "width": 420
      }
     },
     "output_type": "display_data"
    }
   ],
   "source": [
    "ggplot(data = arbuthnot, aes(x = year, y = girls)) +\n",
    "    labs(subtitle=\"Girls Baptized per Year\") +\n",
    "    geom_point()\n",
    "\n",
    "# Alternative:\n",
    "# plot(x = arbuthnot$year, y = arbuthnot$girls)"
   ]
  },
  {
   "cell_type": "markdown",
   "metadata": {},
   "source": [
    "There is initially an increase in the number of girls baptised, which peaks around 1640. After 1640 there is a decrease in the number of girls baptised, but the number begins to increase again in 1660. Overall the trend is an increase in the number of girls baptised. "
   ]
  },
  {
   "cell_type": "markdown",
   "metadata": {},
   "source": [
    "### Adding a new variable to the data frame"
   ]
  },
  {
   "cell_type": "code",
   "execution_count": 10,
   "metadata": {},
   "outputs": [
    {
     "data": {
      "text/html": [
       "<table>\n",
       "<caption>A data.frame: 6 × 4</caption>\n",
       "<thead>\n",
       "\t<tr><th></th><th scope=col>year</th><th scope=col>boys</th><th scope=col>girls</th><th scope=col>total</th></tr>\n",
       "\t<tr><th></th><th scope=col>&lt;int&gt;</th><th scope=col>&lt;int&gt;</th><th scope=col>&lt;int&gt;</th><th scope=col>&lt;int&gt;</th></tr>\n",
       "</thead>\n",
       "<tbody>\n",
       "\t<tr><th scope=row>1</th><td>1629</td><td>5218</td><td>4683</td><td>9901</td></tr>\n",
       "\t<tr><th scope=row>2</th><td>1630</td><td>4858</td><td>4457</td><td>9315</td></tr>\n",
       "\t<tr><th scope=row>3</th><td>1631</td><td>4422</td><td>4102</td><td>8524</td></tr>\n",
       "\t<tr><th scope=row>4</th><td>1632</td><td>4994</td><td>4590</td><td>9584</td></tr>\n",
       "\t<tr><th scope=row>5</th><td>1633</td><td>5158</td><td>4839</td><td>9997</td></tr>\n",
       "\t<tr><th scope=row>6</th><td>1634</td><td>5035</td><td>4820</td><td>9855</td></tr>\n",
       "</tbody>\n",
       "</table>\n"
      ],
      "text/latex": [
       "A data.frame: 6 × 4\n",
       "\\begin{tabular}{r|llll}\n",
       "  & year & boys & girls & total\\\\\n",
       "  & <int> & <int> & <int> & <int>\\\\\n",
       "\\hline\n",
       "\t1 & 1629 & 5218 & 4683 & 9901\\\\\n",
       "\t2 & 1630 & 4858 & 4457 & 9315\\\\\n",
       "\t3 & 1631 & 4422 & 4102 & 8524\\\\\n",
       "\t4 & 1632 & 4994 & 4590 & 9584\\\\\n",
       "\t5 & 1633 & 5158 & 4839 & 9997\\\\\n",
       "\t6 & 1634 & 5035 & 4820 & 9855\\\\\n",
       "\\end{tabular}\n"
      ],
      "text/markdown": [
       "\n",
       "A data.frame: 6 × 4\n",
       "\n",
       "| <!--/--> | year &lt;int&gt; | boys &lt;int&gt; | girls &lt;int&gt; | total &lt;int&gt; |\n",
       "|---|---|---|---|---|\n",
       "| 1 | 1629 | 5218 | 4683 | 9901 |\n",
       "| 2 | 1630 | 4858 | 4457 | 9315 |\n",
       "| 3 | 1631 | 4422 | 4102 | 8524 |\n",
       "| 4 | 1632 | 4994 | 4590 | 9584 |\n",
       "| 5 | 1633 | 5158 | 4839 | 9997 |\n",
       "| 6 | 1634 | 5035 | 4820 | 9855 |\n",
       "\n"
      ],
      "text/plain": [
       "  year boys girls total\n",
       "1 1629 5218 4683  9901 \n",
       "2 1630 4858 4457  9315 \n",
       "3 1631 4422 4102  8524 \n",
       "4 1632 4994 4590  9584 \n",
       "5 1633 5158 4839  9997 \n",
       "6 1634 5035 4820  9855 "
      ]
     },
     "metadata": {},
     "output_type": "display_data"
    }
   ],
   "source": [
    "arbuthnot <- arbuthnot %>% mutate(total = boys + girls)\n",
    "head(arbuthnot)"
   ]
  },
  {
   "cell_type": "code",
   "execution_count": 11,
   "metadata": {},
   "outputs": [
    {
     "data": {
      "image/png": "[encoded data removed]",
      "text/plain": [
       "plot without title"
      ]
     },
     "metadata": {
      "image/png": {
       "height": 420,
       "width": 420
      },
      "text/plain": {
       "height": 420,
       "width": 420
      }
     },
     "output_type": "display_data"
    }
   ],
   "source": [
    "ggplot(data = arbuthnot, aes(x = year, y = total)) +\n",
    "    labs(subtitle=\"Total Number of Baptisms per Year\") +\n",
    "    geom_line() "
   ]
  },
  {
   "cell_type": "code",
   "execution_count": 12,
   "metadata": {},
   "outputs": [
    {
     "data": {
      "image/png": "[encoded data removed]",
      "text/plain": [
       "plot without title"
      ]
     },
     "metadata": {
      "image/png": {
       "height": 420,
       "width": 420
      },
      "text/plain": {
       "height": 420,
       "width": 420
      }
     },
     "output_type": "display_data"
    }
   ],
   "source": [
    "ggplot(data = arbuthnot, aes(x = year, y = total)) +\n",
    "  labs(subtitle=\"Total Number of Baptisms per Year\") +\n",
    "  geom_line() +\n",
    "  geom_point()"
   ]
  },
  {
   "cell_type": "code",
   "execution_count": 13,
   "metadata": {},
   "outputs": [
    {
     "data": {
      "image/png": "[encoded data removed]",
      "text/plain": [
       "plot without title"
      ]
     },
     "metadata": {
      "image/png": {
       "height": 420,
       "width": 420
      },
      "text/plain": {
       "height": 420,
       "width": 420
      }
     },
     "output_type": "display_data"
    }
   ],
   "source": [
    "ggplot(data = arbuthnot, aes(x = year, y = boys)) +\n",
    "    labs(subtitle=\"Boys Baptized per Year\") +\n",
    "    geom_line()"
   ]
  },
  {
   "cell_type": "markdown",
   "metadata": {},
   "source": [
    "We can ask if boys outnumber girls in each year with the expression:"
   ]
  },
  {
   "cell_type": "code",
   "execution_count": 14,
   "metadata": {},
   "outputs": [
    {
     "data": {
      "text/html": [
       "<table>\n",
       "<caption>A data.frame: 6 × 5</caption>\n",
       "<thead>\n",
       "\t<tr><th></th><th scope=col>year</th><th scope=col>boys</th><th scope=col>girls</th><th scope=col>total</th><th scope=col>more_boys</th></tr>\n",
       "\t<tr><th></th><th scope=col>&lt;int&gt;</th><th scope=col>&lt;int&gt;</th><th scope=col>&lt;int&gt;</th><th scope=col>&lt;int&gt;</th><th scope=col>&lt;lgl&gt;</th></tr>\n",
       "</thead>\n",
       "<tbody>\n",
       "\t<tr><th scope=row>1</th><td>1629</td><td>5218</td><td>4683</td><td>9901</td><td>TRUE</td></tr>\n",
       "\t<tr><th scope=row>2</th><td>1630</td><td>4858</td><td>4457</td><td>9315</td><td>TRUE</td></tr>\n",
       "\t<tr><th scope=row>3</th><td>1631</td><td>4422</td><td>4102</td><td>8524</td><td>TRUE</td></tr>\n",
       "\t<tr><th scope=row>4</th><td>1632</td><td>4994</td><td>4590</td><td>9584</td><td>TRUE</td></tr>\n",
       "\t<tr><th scope=row>5</th><td>1633</td><td>5158</td><td>4839</td><td>9997</td><td>TRUE</td></tr>\n",
       "\t<tr><th scope=row>6</th><td>1634</td><td>5035</td><td>4820</td><td>9855</td><td>TRUE</td></tr>\n",
       "</tbody>\n",
       "</table>\n"
      ],
      "text/latex": [
       "A data.frame: 6 × 5\n",
       "\\begin{tabular}{r|lllll}\n",
       "  & year & boys & girls & total & more\\_boys\\\\\n",
       "  & <int> & <int> & <int> & <int> & <lgl>\\\\\n",
       "\\hline\n",
       "\t1 & 1629 & 5218 & 4683 & 9901 & TRUE\\\\\n",
       "\t2 & 1630 & 4858 & 4457 & 9315 & TRUE\\\\\n",
       "\t3 & 1631 & 4422 & 4102 & 8524 & TRUE\\\\\n",
       "\t4 & 1632 & 4994 & 4590 & 9584 & TRUE\\\\\n",
       "\t5 & 1633 & 5158 & 4839 & 9997 & TRUE\\\\\n",
       "\t6 & 1634 & 5035 & 4820 & 9855 & TRUE\\\\\n",
       "\\end{tabular}\n"
      ],
      "text/markdown": [
       "\n",
       "A data.frame: 6 × 5\n",
       "\n",
       "| <!--/--> | year &lt;int&gt; | boys &lt;int&gt; | girls &lt;int&gt; | total &lt;int&gt; | more_boys &lt;lgl&gt; |\n",
       "|---|---|---|---|---|---|\n",
       "| 1 | 1629 | 5218 | 4683 | 9901 | TRUE |\n",
       "| 2 | 1630 | 4858 | 4457 | 9315 | TRUE |\n",
       "| 3 | 1631 | 4422 | 4102 | 8524 | TRUE |\n",
       "| 4 | 1632 | 4994 | 4590 | 9584 | TRUE |\n",
       "| 5 | 1633 | 5158 | 4839 | 9997 | TRUE |\n",
       "| 6 | 1634 | 5035 | 4820 | 9855 | TRUE |\n",
       "\n"
      ],
      "text/plain": [
       "  year boys girls total more_boys\n",
       "1 1629 5218 4683  9901  TRUE     \n",
       "2 1630 4858 4457  9315  TRUE     \n",
       "3 1631 4422 4102  8524  TRUE     \n",
       "4 1632 4994 4590  9584  TRUE     \n",
       "5 1633 5158 4839  9997  TRUE     \n",
       "6 1634 5035 4820  9855  TRUE     "
      ]
     },
     "metadata": {},
     "output_type": "display_data"
    }
   ],
   "source": [
    "arbuthnot2 <- arbuthnot %>%\n",
    "  mutate(more_boys = boys > girls)\n",
    "\n",
    "head(arbuthnot2)"
   ]
  },
  {
   "cell_type": "markdown",
   "metadata": {},
   "source": [
    "## Dataset 2: Present birth records"
   ]
  },
  {
   "cell_type": "code",
   "execution_count": 15,
   "metadata": {},
   "outputs": [
    {
     "data": {
      "text/html": [
       "<table>\n",
       "<caption>A tibble: 6 × 3</caption>\n",
       "<thead>\n",
       "\t<tr><th scope=col>year</th><th scope=col>boys</th><th scope=col>girls</th></tr>\n",
       "\t<tr><th scope=col>&lt;dbl&gt;</th><th scope=col>&lt;dbl&gt;</th><th scope=col>&lt;dbl&gt;</th></tr>\n",
       "</thead>\n",
       "<tbody>\n",
       "\t<tr><td>1940</td><td>1211684</td><td>1148715</td></tr>\n",
       "\t<tr><td>1941</td><td>1289734</td><td>1223693</td></tr>\n",
       "\t<tr><td>1942</td><td>1444365</td><td>1364631</td></tr>\n",
       "\t<tr><td>1943</td><td>1508959</td><td>1427901</td></tr>\n",
       "\t<tr><td>1944</td><td>1435301</td><td>1359499</td></tr>\n",
       "\t<tr><td>1945</td><td>1404587</td><td>1330869</td></tr>\n",
       "</tbody>\n",
       "</table>\n"
      ],
      "text/latex": [
       "A tibble: 6 × 3\n",
       "\\begin{tabular}{lll}\n",
       " year & boys & girls\\\\\n",
       " <dbl> & <dbl> & <dbl>\\\\\n",
       "\\hline\n",
       "\t 1940 & 1211684 & 1148715\\\\\n",
       "\t 1941 & 1289734 & 1223693\\\\\n",
       "\t 1942 & 1444365 & 1364631\\\\\n",
       "\t 1943 & 1508959 & 1427901\\\\\n",
       "\t 1944 & 1435301 & 1359499\\\\\n",
       "\t 1945 & 1404587 & 1330869\\\\\n",
       "\\end{tabular}\n"
      ],
      "text/markdown": [
       "\n",
       "A tibble: 6 × 3\n",
       "\n",
       "| year &lt;dbl&gt; | boys &lt;dbl&gt; | girls &lt;dbl&gt; |\n",
       "|---|---|---|\n",
       "| 1940 | 1211684 | 1148715 |\n",
       "| 1941 | 1289734 | 1223693 |\n",
       "| 1942 | 1444365 | 1364631 |\n",
       "| 1943 | 1508959 | 1427901 |\n",
       "| 1944 | 1435301 | 1359499 |\n",
       "| 1945 | 1404587 | 1330869 |\n",
       "\n"
      ],
      "text/plain": [
       "  year boys    girls  \n",
       "1 1940 1211684 1148715\n",
       "2 1941 1289734 1223693\n",
       "3 1942 1444365 1364631\n",
       "4 1943 1508959 1427901\n",
       "5 1944 1435301 1359499\n",
       "6 1945 1404587 1330869"
      ]
     },
     "metadata": {},
     "output_type": "display_data"
    }
   ],
   "source": [
    "data(present)\n",
    "head(present)"
   ]
  },
  {
   "cell_type": "code",
   "execution_count": 16,
   "metadata": {},
   "outputs": [
    {
     "name": "stdout",
     "output_type": "stream",
     "text": [
      "tibble [74 x 3] (S3: tbl_df/tbl/data.frame)\n",
      " $ year : num [1:74] 1940 1941 1942 1943 1944 ...\n",
      " $ boys : num [1:74] 1211684 1289734 1444365 1508959 1435301 ...\n",
      " $ girls: num [1:74] 1148715 1223693 1364631 1427901 1359499 ...\n"
     ]
    }
   ],
   "source": [
    "str(present)"
   ]
  },
  {
   "cell_type": "markdown",
   "metadata": {},
   "source": [
    "**4) How many variables are included in this data set?**"
   ]
  },
  {
   "cell_type": "code",
   "execution_count": 17,
   "metadata": {},
   "outputs": [
    {
     "data": {
      "text/html": [
       "<style>\n",
       ".list-inline {list-style: none; margin:0; padding: 0}\n",
       ".list-inline>li {display: inline-block}\n",
       ".list-inline>li:not(:last-child)::after {content: \"\\00b7\"; padding: 0 .5ex}\n",
       "</style>\n",
       "<ol class=list-inline><li>'year'</li><li>'boys'</li><li>'girls'</li></ol>\n"
      ],
      "text/latex": [
       "\\begin{enumerate*}\n",
       "\\item 'year'\n",
       "\\item 'boys'\n",
       "\\item 'girls'\n",
       "\\end{enumerate*}\n"
      ],
      "text/markdown": [
       "1. 'year'\n",
       "2. 'boys'\n",
       "3. 'girls'\n",
       "\n",
       "\n"
      ],
      "text/plain": [
       "[1] \"year\"  \"boys\"  \"girls\""
      ]
     },
     "metadata": {},
     "output_type": "display_data"
    }
   ],
   "source": [
    "names(present)"
   ]
  },
  {
   "cell_type": "markdown",
   "metadata": {},
   "source": [
    "**What years are included in this dataset?**"
   ]
  },
  {
   "cell_type": "code",
   "execution_count": 18,
   "metadata": {},
   "outputs": [
    {
     "data": {
      "text/html": [
       "<style>\n",
       ".list-inline {list-style: none; margin:0; padding: 0}\n",
       ".list-inline>li {display: inline-block}\n",
       ".list-inline>li:not(:last-child)::after {content: \"\\00b7\"; padding: 0 .5ex}\n",
       "</style>\n",
       "<ol class=list-inline><li>1940</li><li>2013</li></ol>\n"
      ],
      "text/latex": [
       "\\begin{enumerate*}\n",
       "\\item 1940\n",
       "\\item 2013\n",
       "\\end{enumerate*}\n"
      ],
      "text/markdown": [
       "1. 1940\n",
       "2. 2013\n",
       "\n",
       "\n"
      ],
      "text/plain": [
       "[1] 1940 2013"
      ]
     },
     "metadata": {},
     "output_type": "display_data"
    }
   ],
   "source": [
    "range(present$year)"
   ]
  },
  {
   "cell_type": "markdown",
   "metadata": {},
   "source": [
    "**5)**\n",
    "\n",
    "    Calculate the total number of births for each year and store these values in a new variable called `total` in the `present` dataset. \n",
    "\n",
    "    Then, calculate the proportion of boys born each year and store these values in a new variable called `prop_boys` in the same dataset. \n",
    "\n",
    "    Plot these values over time and based on the plot determine if the following statement is true or false: \n",
    "    \n",
    "**The proportion of boys born in the US has decreased over time.**"
   ]
  },
  {
   "cell_type": "code",
   "execution_count": 19,
   "metadata": {},
   "outputs": [
    {
     "data": {
      "text/html": [
       "<table>\n",
       "<caption>A tibble: 6 × 4</caption>\n",
       "<thead>\n",
       "\t<tr><th scope=col>year</th><th scope=col>boys</th><th scope=col>girls</th><th scope=col>total</th></tr>\n",
       "\t<tr><th scope=col>&lt;dbl&gt;</th><th scope=col>&lt;dbl&gt;</th><th scope=col>&lt;dbl&gt;</th><th scope=col>&lt;dbl&gt;</th></tr>\n",
       "</thead>\n",
       "<tbody>\n",
       "\t<tr><td>1940</td><td>1211684</td><td>1148715</td><td>2360399</td></tr>\n",
       "\t<tr><td>1941</td><td>1289734</td><td>1223693</td><td>2513427</td></tr>\n",
       "\t<tr><td>1942</td><td>1444365</td><td>1364631</td><td>2808996</td></tr>\n",
       "\t<tr><td>1943</td><td>1508959</td><td>1427901</td><td>2936860</td></tr>\n",
       "\t<tr><td>1944</td><td>1435301</td><td>1359499</td><td>2794800</td></tr>\n",
       "\t<tr><td>1945</td><td>1404587</td><td>1330869</td><td>2735456</td></tr>\n",
       "</tbody>\n",
       "</table>\n"
      ],
      "text/latex": [
       "A tibble: 6 × 4\n",
       "\\begin{tabular}{llll}\n",
       " year & boys & girls & total\\\\\n",
       " <dbl> & <dbl> & <dbl> & <dbl>\\\\\n",
       "\\hline\n",
       "\t 1940 & 1211684 & 1148715 & 2360399\\\\\n",
       "\t 1941 & 1289734 & 1223693 & 2513427\\\\\n",
       "\t 1942 & 1444365 & 1364631 & 2808996\\\\\n",
       "\t 1943 & 1508959 & 1427901 & 2936860\\\\\n",
       "\t 1944 & 1435301 & 1359499 & 2794800\\\\\n",
       "\t 1945 & 1404587 & 1330869 & 2735456\\\\\n",
       "\\end{tabular}\n"
      ],
      "text/markdown": [
       "\n",
       "A tibble: 6 × 4\n",
       "\n",
       "| year &lt;dbl&gt; | boys &lt;dbl&gt; | girls &lt;dbl&gt; | total &lt;dbl&gt; |\n",
       "|---|---|---|---|\n",
       "| 1940 | 1211684 | 1148715 | 2360399 |\n",
       "| 1941 | 1289734 | 1223693 | 2513427 |\n",
       "| 1942 | 1444365 | 1364631 | 2808996 |\n",
       "| 1943 | 1508959 | 1427901 | 2936860 |\n",
       "| 1944 | 1435301 | 1359499 | 2794800 |\n",
       "| 1945 | 1404587 | 1330869 | 2735456 |\n",
       "\n"
      ],
      "text/plain": [
       "  year boys    girls   total  \n",
       "1 1940 1211684 1148715 2360399\n",
       "2 1941 1289734 1223693 2513427\n",
       "3 1942 1444365 1364631 2808996\n",
       "4 1943 1508959 1427901 2936860\n",
       "5 1944 1435301 1359499 2794800\n",
       "6 1945 1404587 1330869 2735456"
      ]
     },
     "metadata": {},
     "output_type": "display_data"
    }
   ],
   "source": [
    "present2 <- present %>% mutate(total = boys + girls)\n",
    "head(present2)"
   ]
  },
  {
   "cell_type": "code",
   "execution_count": 20,
   "metadata": {},
   "outputs": [
    {
     "data": {
      "text/html": [
       "<table>\n",
       "<caption>A tibble: 6 × 5</caption>\n",
       "<thead>\n",
       "\t<tr><th scope=col>year</th><th scope=col>boys</th><th scope=col>girls</th><th scope=col>total</th><th scope=col>prop_boys</th></tr>\n",
       "\t<tr><th scope=col>&lt;dbl&gt;</th><th scope=col>&lt;dbl&gt;</th><th scope=col>&lt;dbl&gt;</th><th scope=col>&lt;dbl&gt;</th><th scope=col>&lt;dbl&gt;</th></tr>\n",
       "</thead>\n",
       "<tbody>\n",
       "\t<tr><td>1940</td><td>1211684</td><td>1148715</td><td>2360399</td><td>0.5133386</td></tr>\n",
       "\t<tr><td>1941</td><td>1289734</td><td>1223693</td><td>2513427</td><td>0.5131376</td></tr>\n",
       "\t<tr><td>1942</td><td>1444365</td><td>1364631</td><td>2808996</td><td>0.5141926</td></tr>\n",
       "\t<tr><td>1943</td><td>1508959</td><td>1427901</td><td>2936860</td><td>0.5138001</td></tr>\n",
       "\t<tr><td>1944</td><td>1435301</td><td>1359499</td><td>2794800</td><td>0.5135613</td></tr>\n",
       "\t<tr><td>1945</td><td>1404587</td><td>1330869</td><td>2735456</td><td>0.5134745</td></tr>\n",
       "</tbody>\n",
       "</table>\n"
      ],
      "text/latex": [
       "A tibble: 6 × 5\n",
       "\\begin{tabular}{lllll}\n",
       " year & boys & girls & total & prop\\_boys\\\\\n",
       " <dbl> & <dbl> & <dbl> & <dbl> & <dbl>\\\\\n",
       "\\hline\n",
       "\t 1940 & 1211684 & 1148715 & 2360399 & 0.5133386\\\\\n",
       "\t 1941 & 1289734 & 1223693 & 2513427 & 0.5131376\\\\\n",
       "\t 1942 & 1444365 & 1364631 & 2808996 & 0.5141926\\\\\n",
       "\t 1943 & 1508959 & 1427901 & 2936860 & 0.5138001\\\\\n",
       "\t 1944 & 1435301 & 1359499 & 2794800 & 0.5135613\\\\\n",
       "\t 1945 & 1404587 & 1330869 & 2735456 & 0.5134745\\\\\n",
       "\\end{tabular}\n"
      ],
      "text/markdown": [
       "\n",
       "A tibble: 6 × 5\n",
       "\n",
       "| year &lt;dbl&gt; | boys &lt;dbl&gt; | girls &lt;dbl&gt; | total &lt;dbl&gt; | prop_boys &lt;dbl&gt; |\n",
       "|---|---|---|---|---|\n",
       "| 1940 | 1211684 | 1148715 | 2360399 | 0.5133386 |\n",
       "| 1941 | 1289734 | 1223693 | 2513427 | 0.5131376 |\n",
       "| 1942 | 1444365 | 1364631 | 2808996 | 0.5141926 |\n",
       "| 1943 | 1508959 | 1427901 | 2936860 | 0.5138001 |\n",
       "| 1944 | 1435301 | 1359499 | 2794800 | 0.5135613 |\n",
       "| 1945 | 1404587 | 1330869 | 2735456 | 0.5134745 |\n",
       "\n"
      ],
      "text/plain": [
       "  year boys    girls   total   prop_boys\n",
       "1 1940 1211684 1148715 2360399 0.5133386\n",
       "2 1941 1289734 1223693 2513427 0.5131376\n",
       "3 1942 1444365 1364631 2808996 0.5141926\n",
       "4 1943 1508959 1427901 2936860 0.5138001\n",
       "5 1944 1435301 1359499 2794800 0.5135613\n",
       "6 1945 1404587 1330869 2735456 0.5134745"
      ]
     },
     "metadata": {},
     "output_type": "display_data"
    }
   ],
   "source": [
    "present2 <- present2 %>%\n",
    "  mutate(prop_boys = boys/total)\n",
    "head(present2)"
   ]
  },
  {
   "cell_type": "code",
   "execution_count": 21,
   "metadata": {},
   "outputs": [
    {
     "data": {
      "image/png": "[encoded data removed]",
      "text/plain": [
       "plot without title"
      ]
     },
     "metadata": {
      "image/png": {
       "height": 420,
       "width": 420
      },
      "text/plain": {
       "height": 420,
       "width": 420
      }
     },
     "output_type": "display_data"
    }
   ],
   "source": [
    "ggplot(data = present2, aes(x = year, y = prop_boys)) +\n",
    "  labs(subtitle=\"The proportion of boys born in the US\") +\n",
    "  geom_line() +\n",
    "  geom_point()"
   ]
  },
  {
   "cell_type": "markdown",
   "metadata": {},
   "source": [
    "\"The proportion of boys born in the US has decreased over time\": YES."
   ]
  },
  {
   "cell_type": "markdown",
   "metadata": {},
   "source": [
    "**6) Create a new variable called `more_boys` which contains the value of either `TRUE` if that year had more boys than girls, or `FALSE` if that year did not. Based on this variable which of the following statements is true?**"
   ]
  },
  {
   "cell_type": "code",
   "execution_count": 22,
   "metadata": {},
   "outputs": [
    {
     "data": {
      "text/html": [
       "<table>\n",
       "<caption>A tibble: 6 × 6</caption>\n",
       "<thead>\n",
       "\t<tr><th scope=col>year</th><th scope=col>boys</th><th scope=col>girls</th><th scope=col>total</th><th scope=col>prop_boys</th><th scope=col>more_boys</th></tr>\n",
       "\t<tr><th scope=col>&lt;dbl&gt;</th><th scope=col>&lt;dbl&gt;</th><th scope=col>&lt;dbl&gt;</th><th scope=col>&lt;dbl&gt;</th><th scope=col>&lt;dbl&gt;</th><th scope=col>&lt;lgl&gt;</th></tr>\n",
       "</thead>\n",
       "<tbody>\n",
       "\t<tr><td>1940</td><td>1211684</td><td>1148715</td><td>2360399</td><td>0.5133386</td><td>TRUE</td></tr>\n",
       "\t<tr><td>1941</td><td>1289734</td><td>1223693</td><td>2513427</td><td>0.5131376</td><td>TRUE</td></tr>\n",
       "\t<tr><td>1942</td><td>1444365</td><td>1364631</td><td>2808996</td><td>0.5141926</td><td>TRUE</td></tr>\n",
       "\t<tr><td>1943</td><td>1508959</td><td>1427901</td><td>2936860</td><td>0.5138001</td><td>TRUE</td></tr>\n",
       "\t<tr><td>1944</td><td>1435301</td><td>1359499</td><td>2794800</td><td>0.5135613</td><td>TRUE</td></tr>\n",
       "\t<tr><td>1945</td><td>1404587</td><td>1330869</td><td>2735456</td><td>0.5134745</td><td>TRUE</td></tr>\n",
       "</tbody>\n",
       "</table>\n"
      ],
      "text/latex": [
       "A tibble: 6 × 6\n",
       "\\begin{tabular}{llllll}\n",
       " year & boys & girls & total & prop\\_boys & more\\_boys\\\\\n",
       " <dbl> & <dbl> & <dbl> & <dbl> & <dbl> & <lgl>\\\\\n",
       "\\hline\n",
       "\t 1940 & 1211684 & 1148715 & 2360399 & 0.5133386 & TRUE\\\\\n",
       "\t 1941 & 1289734 & 1223693 & 2513427 & 0.5131376 & TRUE\\\\\n",
       "\t 1942 & 1444365 & 1364631 & 2808996 & 0.5141926 & TRUE\\\\\n",
       "\t 1943 & 1508959 & 1427901 & 2936860 & 0.5138001 & TRUE\\\\\n",
       "\t 1944 & 1435301 & 1359499 & 2794800 & 0.5135613 & TRUE\\\\\n",
       "\t 1945 & 1404587 & 1330869 & 2735456 & 0.5134745 & TRUE\\\\\n",
       "\\end{tabular}\n"
      ],
      "text/markdown": [
       "\n",
       "A tibble: 6 × 6\n",
       "\n",
       "| year &lt;dbl&gt; | boys &lt;dbl&gt; | girls &lt;dbl&gt; | total &lt;dbl&gt; | prop_boys &lt;dbl&gt; | more_boys &lt;lgl&gt; |\n",
       "|---|---|---|---|---|---|\n",
       "| 1940 | 1211684 | 1148715 | 2360399 | 0.5133386 | TRUE |\n",
       "| 1941 | 1289734 | 1223693 | 2513427 | 0.5131376 | TRUE |\n",
       "| 1942 | 1444365 | 1364631 | 2808996 | 0.5141926 | TRUE |\n",
       "| 1943 | 1508959 | 1427901 | 2936860 | 0.5138001 | TRUE |\n",
       "| 1944 | 1435301 | 1359499 | 2794800 | 0.5135613 | TRUE |\n",
       "| 1945 | 1404587 | 1330869 | 2735456 | 0.5134745 | TRUE |\n",
       "\n"
      ],
      "text/plain": [
       "  year boys    girls   total   prop_boys more_boys\n",
       "1 1940 1211684 1148715 2360399 0.5133386 TRUE     \n",
       "2 1941 1289734 1223693 2513427 0.5131376 TRUE     \n",
       "3 1942 1444365 1364631 2808996 0.5141926 TRUE     \n",
       "4 1943 1508959 1427901 2936860 0.5138001 TRUE     \n",
       "5 1944 1435301 1359499 2794800 0.5135613 TRUE     \n",
       "6 1945 1404587 1330869 2735456 0.5134745 TRUE     "
      ]
     },
     "metadata": {},
     "output_type": "display_data"
    }
   ],
   "source": [
    "present3 <- present2 %>%\n",
    "  mutate(more_boys = boys > girls)\n",
    "head(present3)"
   ]
  },
  {
   "cell_type": "code",
   "execution_count": 23,
   "metadata": {},
   "outputs": [
    {
     "data": {
      "image/png": "[encoded data removed]",
      "text/plain": [
       "plot without title"
      ]
     },
     "metadata": {
      "image/png": {
       "height": 420,
       "width": 420
      },
      "text/plain": {
       "height": 420,
       "width": 420
      }
     },
     "output_type": "display_data"
    }
   ],
   "source": [
    "ggplot(data = present3, aes(x = year, y = more_boys)) +\n",
    "  geom_line() +\n",
    "  geom_point()"
   ]
  },
  {
   "cell_type": "markdown",
   "metadata": {},
   "source": [
    "Every year there are more boys born than girls."
   ]
  },
  {
   "cell_type": "markdown",
   "metadata": {},
   "source": [
    "**7) Calculate the boy-to-girl ratio each year, and store these values in a new variable called `prop_boy_girl` in the `present` dataset. Plot these values over time. Which of the following best describes the trend?**"
   ]
  },
  {
   "cell_type": "code",
   "execution_count": 24,
   "metadata": {},
   "outputs": [
    {
     "data": {
      "text/html": [
       "<table>\n",
       "<caption>A tibble: 6 × 7</caption>\n",
       "<thead>\n",
       "\t<tr><th scope=col>year</th><th scope=col>boys</th><th scope=col>girls</th><th scope=col>total</th><th scope=col>prop_boys</th><th scope=col>more_boys</th><th scope=col>prop_boy_girl</th></tr>\n",
       "\t<tr><th scope=col>&lt;dbl&gt;</th><th scope=col>&lt;dbl&gt;</th><th scope=col>&lt;dbl&gt;</th><th scope=col>&lt;dbl&gt;</th><th scope=col>&lt;dbl&gt;</th><th scope=col>&lt;lgl&gt;</th><th scope=col>&lt;dbl&gt;</th></tr>\n",
       "</thead>\n",
       "<tbody>\n",
       "\t<tr><td>1940</td><td>1211684</td><td>1148715</td><td>2360399</td><td>0.5133386</td><td>TRUE</td><td>1.054817</td></tr>\n",
       "\t<tr><td>1941</td><td>1289734</td><td>1223693</td><td>2513427</td><td>0.5131376</td><td>TRUE</td><td>1.053969</td></tr>\n",
       "\t<tr><td>1942</td><td>1444365</td><td>1364631</td><td>2808996</td><td>0.5141926</td><td>TRUE</td><td>1.058429</td></tr>\n",
       "\t<tr><td>1943</td><td>1508959</td><td>1427901</td><td>2936860</td><td>0.5138001</td><td>TRUE</td><td>1.056767</td></tr>\n",
       "\t<tr><td>1944</td><td>1435301</td><td>1359499</td><td>2794800</td><td>0.5135613</td><td>TRUE</td><td>1.055757</td></tr>\n",
       "\t<tr><td>1945</td><td>1404587</td><td>1330869</td><td>2735456</td><td>0.5134745</td><td>TRUE</td><td>1.055391</td></tr>\n",
       "</tbody>\n",
       "</table>\n"
      ],
      "text/latex": [
       "A tibble: 6 × 7\n",
       "\\begin{tabular}{lllllll}\n",
       " year & boys & girls & total & prop\\_boys & more\\_boys & prop\\_boy\\_girl\\\\\n",
       " <dbl> & <dbl> & <dbl> & <dbl> & <dbl> & <lgl> & <dbl>\\\\\n",
       "\\hline\n",
       "\t 1940 & 1211684 & 1148715 & 2360399 & 0.5133386 & TRUE & 1.054817\\\\\n",
       "\t 1941 & 1289734 & 1223693 & 2513427 & 0.5131376 & TRUE & 1.053969\\\\\n",
       "\t 1942 & 1444365 & 1364631 & 2808996 & 0.5141926 & TRUE & 1.058429\\\\\n",
       "\t 1943 & 1508959 & 1427901 & 2936860 & 0.5138001 & TRUE & 1.056767\\\\\n",
       "\t 1944 & 1435301 & 1359499 & 2794800 & 0.5135613 & TRUE & 1.055757\\\\\n",
       "\t 1945 & 1404587 & 1330869 & 2735456 & 0.5134745 & TRUE & 1.055391\\\\\n",
       "\\end{tabular}\n"
      ],
      "text/markdown": [
       "\n",
       "A tibble: 6 × 7\n",
       "\n",
       "| year &lt;dbl&gt; | boys &lt;dbl&gt; | girls &lt;dbl&gt; | total &lt;dbl&gt; | prop_boys &lt;dbl&gt; | more_boys &lt;lgl&gt; | prop_boy_girl &lt;dbl&gt; |\n",
       "|---|---|---|---|---|---|---|\n",
       "| 1940 | 1211684 | 1148715 | 2360399 | 0.5133386 | TRUE | 1.054817 |\n",
       "| 1941 | 1289734 | 1223693 | 2513427 | 0.5131376 | TRUE | 1.053969 |\n",
       "| 1942 | 1444365 | 1364631 | 2808996 | 0.5141926 | TRUE | 1.058429 |\n",
       "| 1943 | 1508959 | 1427901 | 2936860 | 0.5138001 | TRUE | 1.056767 |\n",
       "| 1944 | 1435301 | 1359499 | 2794800 | 0.5135613 | TRUE | 1.055757 |\n",
       "| 1945 | 1404587 | 1330869 | 2735456 | 0.5134745 | TRUE | 1.055391 |\n",
       "\n"
      ],
      "text/plain": [
       "  year boys    girls   total   prop_boys more_boys prop_boy_girl\n",
       "1 1940 1211684 1148715 2360399 0.5133386 TRUE      1.054817     \n",
       "2 1941 1289734 1223693 2513427 0.5131376 TRUE      1.053969     \n",
       "3 1942 1444365 1364631 2808996 0.5141926 TRUE      1.058429     \n",
       "4 1943 1508959 1427901 2936860 0.5138001 TRUE      1.056767     \n",
       "5 1944 1435301 1359499 2794800 0.5135613 TRUE      1.055757     \n",
       "6 1945 1404587 1330869 2735456 0.5134745 TRUE      1.055391     "
      ]
     },
     "metadata": {},
     "output_type": "display_data"
    }
   ],
   "source": [
    "present4 <- present3 %>%\n",
    "  mutate(prop_boy_girl = boys/girls)\n",
    "head(present4)"
   ]
  },
  {
   "cell_type": "code",
   "execution_count": 25,
   "metadata": {},
   "outputs": [
    {
     "data": {
      "image/png": "[encoded data removed]",
      "text/plain": [
       "plot without title"
      ]
     },
     "metadata": {
      "image/png": {
       "height": 420,
       "width": 420
      },
      "text/plain": {
       "height": 420,
       "width": 420
      }
     },
     "output_type": "display_data"
    }
   ],
   "source": [
    "ggplot(data = present4, aes(x = year, y = prop_boy_girl)) +\n",
    "  geom_line() +\n",
    "  geom_point()"
   ]
  },
  {
   "cell_type": "markdown",
   "metadata": {},
   "source": [
    "There is initially a decrease in the boy-to-girl ratio, and then an increase between 1960 and 1970, followed by a decrease."
   ]
  },
  {
   "cell_type": "markdown",
   "metadata": {},
   "source": [
    "**8) In what year did we see the most total number of births in the U.S.? *Hint:* Sort your dataset in descending order based on the `total` column. You can do this interactively in the data viewer by clicking on the arrows next to the variable \n",
    "names. Or to arrange the data in a descenting order with new function: `descr` (for descending order).**"
   ]
  },
  {
   "cell_type": "code",
   "execution_count": 26,
   "metadata": {},
   "outputs": [
    {
     "data": {
      "text/html": [
       "<table>\n",
       "<caption>A tibble: 6 × 7</caption>\n",
       "<thead>\n",
       "\t<tr><th scope=col>year</th><th scope=col>boys</th><th scope=col>girls</th><th scope=col>total</th><th scope=col>prop_boys</th><th scope=col>more_boys</th><th scope=col>prop_boy_girl</th></tr>\n",
       "\t<tr><th scope=col>&lt;dbl&gt;</th><th scope=col>&lt;dbl&gt;</th><th scope=col>&lt;dbl&gt;</th><th scope=col>&lt;dbl&gt;</th><th scope=col>&lt;dbl&gt;</th><th scope=col>&lt;lgl&gt;</th><th scope=col>&lt;dbl&gt;</th></tr>\n",
       "</thead>\n",
       "<tbody>\n",
       "\t<tr><td>2007</td><td>2208071</td><td>2108162</td><td>4316233</td><td>0.5115736</td><td>TRUE</td><td>1.047392</td></tr>\n",
       "\t<tr><td>1961</td><td>2186274</td><td>2082052</td><td>4268326</td><td>0.5122088</td><td>TRUE</td><td>1.050057</td></tr>\n",
       "\t<tr><td>2006</td><td>2184237</td><td>2081318</td><td>4265555</td><td>0.5120640</td><td>TRUE</td><td>1.049449</td></tr>\n",
       "\t<tr><td>1960</td><td>2179708</td><td>2078142</td><td>4257850</td><td>0.5119269</td><td>TRUE</td><td>1.048873</td></tr>\n",
       "\t<tr><td>1957</td><td>2179960</td><td>2074824</td><td>4254784</td><td>0.5123550</td><td>TRUE</td><td>1.050672</td></tr>\n",
       "\t<tr><td>2008</td><td>2173625</td><td>2074069</td><td>4247694</td><td>0.5117188</td><td>TRUE</td><td>1.048000</td></tr>\n",
       "</tbody>\n",
       "</table>\n"
      ],
      "text/latex": [
       "A tibble: 6 × 7\n",
       "\\begin{tabular}{lllllll}\n",
       " year & boys & girls & total & prop\\_boys & more\\_boys & prop\\_boy\\_girl\\\\\n",
       " <dbl> & <dbl> & <dbl> & <dbl> & <dbl> & <lgl> & <dbl>\\\\\n",
       "\\hline\n",
       "\t 2007 & 2208071 & 2108162 & 4316233 & 0.5115736 & TRUE & 1.047392\\\\\n",
       "\t 1961 & 2186274 & 2082052 & 4268326 & 0.5122088 & TRUE & 1.050057\\\\\n",
       "\t 2006 & 2184237 & 2081318 & 4265555 & 0.5120640 & TRUE & 1.049449\\\\\n",
       "\t 1960 & 2179708 & 2078142 & 4257850 & 0.5119269 & TRUE & 1.048873\\\\\n",
       "\t 1957 & 2179960 & 2074824 & 4254784 & 0.5123550 & TRUE & 1.050672\\\\\n",
       "\t 2008 & 2173625 & 2074069 & 4247694 & 0.5117188 & TRUE & 1.048000\\\\\n",
       "\\end{tabular}\n"
      ],
      "text/markdown": [
       "\n",
       "A tibble: 6 × 7\n",
       "\n",
       "| year &lt;dbl&gt; | boys &lt;dbl&gt; | girls &lt;dbl&gt; | total &lt;dbl&gt; | prop_boys &lt;dbl&gt; | more_boys &lt;lgl&gt; | prop_boy_girl &lt;dbl&gt; |\n",
       "|---|---|---|---|---|---|---|\n",
       "| 2007 | 2208071 | 2108162 | 4316233 | 0.5115736 | TRUE | 1.047392 |\n",
       "| 1961 | 2186274 | 2082052 | 4268326 | 0.5122088 | TRUE | 1.050057 |\n",
       "| 2006 | 2184237 | 2081318 | 4265555 | 0.5120640 | TRUE | 1.049449 |\n",
       "| 1960 | 2179708 | 2078142 | 4257850 | 0.5119269 | TRUE | 1.048873 |\n",
       "| 1957 | 2179960 | 2074824 | 4254784 | 0.5123550 | TRUE | 1.050672 |\n",
       "| 2008 | 2173625 | 2074069 | 4247694 | 0.5117188 | TRUE | 1.048000 |\n",
       "\n"
      ],
      "text/plain": [
       "  year boys    girls   total   prop_boys more_boys prop_boy_girl\n",
       "1 2007 2208071 2108162 4316233 0.5115736 TRUE      1.047392     \n",
       "2 1961 2186274 2082052 4268326 0.5122088 TRUE      1.050057     \n",
       "3 2006 2184237 2081318 4265555 0.5120640 TRUE      1.049449     \n",
       "4 1960 2179708 2078142 4257850 0.5119269 TRUE      1.048873     \n",
       "5 1957 2179960 2074824 4254784 0.5123550 TRUE      1.050672     \n",
       "6 2008 2173625 2074069 4247694 0.5117188 TRUE      1.048000     "
      ]
     },
     "metadata": {},
     "output_type": "display_data"
    }
   ],
   "source": [
    "head(arrange(present4, desc(total)))"
   ]
  },
  {
   "cell_type": "markdown",
   "metadata": {},
   "source": [
    "Answer: 2007."
   ]
  },
  {
   "cell_type": "markdown",
   "metadata": {},
   "source": [
    "### Comparison of boys and girls in the present"
   ]
  },
  {
   "cell_type": "code",
   "execution_count": 27,
   "metadata": {},
   "outputs": [
    {
     "data": {
      "image/png": "[encoded data removed]",
      "text/plain": [
       "Plot with title \"Number of boys and girls over years\""
      ]
     },
     "metadata": {
      "image/png": {
       "height": 420,
       "width": 420
      },
      "text/plain": {
       "height": 420,
       "width": 420
      }
     },
     "output_type": "display_data"
    }
   ],
   "source": [
    "plot(x = present$year, y = present$boys, col=\"blue\", type = \"l\",\n",
    "     xlab=\"Year\",ylab=\"newborns\",main=\"Number of boys and girls over years\")\n",
    "lines(x = present$year, y = present$girls, col=\"red\")\n",
    "legend(1990, 1800000, c(\"Boys\",\"Girls\"), lty=c(1,1), lwd=c(2.5,2.5), col=c(\"blue\",\"red\"))"
   ]
  }
 ],
 "metadata": {
  "kernelspec": {
   "display_name": "R",
   "language": "R",
   "name": "ir"
  },
  "language_info": {
   "codemirror_mode": "r",
   "file_extension": ".r",
   "mimetype": "text/x-r-source",
   "name": "R",
   "pygments_lexer": "r",
   "version": "3.6.3"
  }
 },
 "nbformat": 4,
 "nbformat_minor": 4
}
