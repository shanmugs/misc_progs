{
 "cells": [
  {
   "cell_type": "markdown",
   "metadata": {},
   "source": [
    "Derived from http://econometricsbysimulation.shinyapps.io/OLS-App/"
   ]
  },
  {
   "cell_type": "markdown",
   "metadata": {},
   "source": [
    "### Load Packages"
   ]
  },
  {
   "cell_type": "code",
   "execution_count": 1,
   "metadata": {},
   "outputs": [
    {
     "name": "stderr",
     "output_type": "stream",
     "text": [
      "also installing the dependencies 'airports', 'cherryblossom', 'usdata'\n",
      "\n",
      "\n"
     ]
    },
    {
     "name": "stdout",
     "output_type": "stream",
     "text": [
      "package 'airports' successfully unpacked and MD5 sums checked\n",
      "package 'cherryblossom' successfully unpacked and MD5 sums checked\n",
      "package 'usdata' successfully unpacked and MD5 sums checked\n",
      "package 'openintro' successfully unpacked and MD5 sums checked\n",
      "\n",
      "The downloaded binary packages are in\n",
      "\tC:\\Users\\Jack\\AppData\\Local\\Temp\\RtmpuQLdUT\\downloaded_packages\n",
      "package 'plotrix' successfully unpacked and MD5 sums checked\n",
      "\n",
      "The downloaded binary packages are in\n",
      "\tC:\\Users\\Jack\\AppData\\Local\\Temp\\RtmpuQLdUT\\downloaded_packages\n"
     ]
    },
    {
     "name": "stderr",
     "output_type": "stream",
     "text": [
      "Loading required package: airports\n",
      "\n",
      "Loading required package: cherryblossom\n",
      "\n",
      "Loading required package: usdata\n",
      "\n"
     ]
    }
   ],
   "source": [
    "#install.packages(\"package\")\n",
    "library(shiny)\n",
    "library(openintro)\n",
    "library(plotrix)"
   ]
  },
  {
   "cell_type": "markdown",
   "metadata": {},
   "source": [
    "### Define Inputs"
   ]
  },
  {
   "cell_type": "code",
   "execution_count": 2,
   "metadata": {},
   "outputs": [],
   "source": [
    "input <- list(rseed=1)\n",
    "seed <- as.numeric(Sys.time())"
   ]
  },
  {
   "cell_type": "markdown",
   "metadata": {},
   "source": [
    "### Function for Generating the Data"
   ]
  },
  {
   "cell_type": "code",
   "execution_count": 4,
   "metadata": {},
   "outputs": [],
   "source": [
    "draw.data <- function(type){\n",
    "  \n",
    "  n <- 250\n",
    "  if(type==\"linear.up\"){\n",
    "    x <- c(runif(n-2, 0, 4), 2, 2.1)\n",
    "    y <- 2*x + rnorm(n, sd=2)\n",
    "  }\n",
    "  if(type==\"linear.down\"){\n",
    "    x <- c(runif(n-2, 0, 4), 2, 2.1)\n",
    "    y <- -2*x + rnorm(n, sd=2)\n",
    "  }\n",
    "  if(type==\"curved.up\"){\n",
    "    x <- c(runif(n-2, 0, 4), 2, 2.1)\n",
    "    y <- 2*x^4 + rnorm(n, sd=16)\n",
    "  }\n",
    "  if(type==\"curved.down\"){\n",
    "    x <- c(runif(n-2, 0, 4), 2, 2.1)\n",
    "    y <- -2*x^3 + rnorm(n, sd=9)\n",
    "  }\n",
    "  if(type==\"fan.shaped\"){\n",
    "    x = seq(0,3.99,4/n)\n",
    "    y = c(rnorm(n/8,3,1),rnorm(n/8,3.5,2),rnorm(n/8,4,2.5),rnorm(n/8,4.5,3),rnorm(n/4,5,4),rnorm((n/4)+2,6,5))\n",
    "  }\n",
    "  \n",
    "  data.frame(x=x,y=y)\n",
    "}"
   ]
  },
  {
   "cell_type": "markdown",
   "metadata": {},
   "source": [
    "### UI"
   ]
  },
  {
   "cell_type": "code",
   "execution_count": 5,
   "metadata": {},
   "outputs": [],
   "source": [
    "ui <- pageWithSidebar(\n",
    "\n",
    "  # Title ----\n",
    "  headerPanel(\"Diagnostics for simple linear regression\"),\n",
    "  \n",
    "  # Sidebar ----\n",
    "  sidebarPanel(\n",
    "    \n",
    "    radioButtons(\"type\", \"Select a trend:\",\n",
    "                 list(\"Linear up\" = \"linear.up\",\n",
    "                      \"Linear down\" = \"linear.down\",\n",
    "                      \"Curved up\" = \"curved.up\",\n",
    "                      \"Curved down\" = \"curved.down\",\n",
    "                      \"Fan-shaped\" = \"fan.shaped\")),\n",
    "    br(),\n",
    "    \n",
    "    checkboxInput(\"show.resid\", \"Show residuals\", FALSE),\n",
    "    \n",
    "    br(),\n",
    "    \n",
    "    helpText(\"This app uses ordinary least squares (OLS) to fit a regression line to the data with the selected trend. The app is designed to help you practice evaluating whether or not the linear model is an appropriate fit to the data. The three diagnostic plots on the lower half of the page are provided to help you identify undesirable patterns in the residuals that may arise from non-linear trends in the data.\"),\n",
    "    br(),\n",
    "    \n",
    "    helpText(a(href=\"https://github.com/ShinyEd/ShinyEd/tree/master/slr_diag\", target=\"_blank\", \"View code\")),\n",
    "    helpText(a(href=\"http://shinyed.github.io/intro-stats\", target=\"_blank\", \"Check out other apps\")),\n",
    "    helpText(a(href=\"https://openintro.org\", target=\"_blank\", \"Want to learn more for free?\"))),\n",
    "  \n",
    "  # Main panel ----\n",
    "  mainPanel(\n",
    "    plotOutput(\"scatter\"),\n",
    "    br(),\n",
    "    br(),\n",
    "    plotOutput(\"residuals\")\n",
    "  )\n",
    ")"
   ]
  },
  {
   "cell_type": "markdown",
   "metadata": {},
   "source": [
    "### Server"
   ]
  },
  {
   "cell_type": "code",
   "execution_count": 6,
   "metadata": {},
   "outputs": [],
   "source": [
    "server <- function(input, output) {\n",
    "  \n",
    "  mydata <- reactive({\n",
    "    draw.data(input$type)\n",
    "  })\n",
    "  \n",
    "  lmResults <- reactive({\n",
    "    regress.exp <- \"y~x\"\n",
    "    lm(regress.exp, data=mydata())\n",
    "  })\n",
    "  \n",
    "  # Show plot of points, regression line, residuals\n",
    "  output$scatter <- renderPlot({\n",
    "    data1 <- mydata()\n",
    "    x <- data1$x\n",
    "    y <- data1$y\n",
    "    \n",
    "    # For confidence interval\n",
    "    xcon <- seq(min(x) - 0.1, max(x) + 0.1, 0.025)\n",
    "    \n",
    "    predictor <- data.frame(x=xcon)\n",
    "    \n",
    "    yhat <- predict(lmResults())    \n",
    "    yline <- predict(lmResults(), predictor)\n",
    "    \n",
    "    par(cex.main=1.5, cex.lab=1.5, cex.axis=1.5, mar = c(4,4,4,1))\n",
    "    \n",
    "    r.squared = round(summary(lmResults())$r.squared, 4)\n",
    "    corr.coef = round(sqrt(r.squared), 4)\n",
    "    \n",
    "    plot(c(min(x),max(x)) \n",
    "         ,c(min(y,yline),max(y,yline)), \n",
    "         type=\"n\",\n",
    "         xlab=\"x\",\n",
    "         ylab=\"y\",\n",
    "         main=paste0(\"Regression Model\\n\",\"(R = \", corr.coef,\", \", \"R-squared = \", r.squared,\")\"))\n",
    "    \n",
    "    \n",
    "    newx <- seq(min(data1$x), max(data1$x), length.out=400)\n",
    "    confs <- predict(lmResults(), newdata = data.frame(x=newx), \n",
    "                     interval = 'confidence')\n",
    "    preds <- predict(lmResults(), newdata = data.frame(x=newx), \n",
    "                     interval = 'predict')\n",
    "    \n",
    "    polygon(c(rev(newx), newx), c(rev(preds[ ,3]), preds[ ,2]), col = grey(.95), border = NA)\n",
    "    polygon(c(rev(newx), newx), c(rev(confs[ ,3]), confs[ ,2]), col = grey(.75), border = NA)\n",
    "    \n",
    "    points(x,y,pch=19, col=COL[1,2])\n",
    "    lines(xcon, yline, lwd=2, col=COL[1])\n",
    "    \n",
    "    if (input$show.resid) for (j in 1:length(x)) \n",
    "      lines(rep(x[j],2), c(yhat[j],y[j]), col=COL[4])\n",
    "    \n",
    "    legend_pos = ifelse(lmResults()$coefficients[1] < 1, \"topleft\", \"topright\")\n",
    "    if(input$type == \"linear.down\") legend_pos = \"topright\"\n",
    "    if(input$type == \"fan.shaped\") legend_pos = \"topleft\"   \n",
    "    legend(legend_pos, inset=.05,\n",
    "           legend=c(\"Regression Line\", \"Confidence Interval\", \"Prediction Interval\"), \n",
    "           fill=c(COL[1],grey(.75),grey(.95)))\n",
    "    box()\n",
    "  })\n",
    "  \n",
    "  output$residuals <- renderPlot({\n",
    "    par(mfrow=c(1,3), cex.main=2, cex.lab=2, cex.axis=2, mar=c(4,5,2,2))\n",
    "    residuals = summary(lmResults())$residuals\n",
    "    predicted = predict(lmResults(), newdata = data.frame(x=mydata()$x))\n",
    "    plot(residuals ~ predicted, \n",
    "         main=\"Residuals vs. Fitted Values\", xlab=\"Fitted Values\", ylab=\"Residuals\", \n",
    "         pch=19, col = COL[1,2])\n",
    "    abline(h = 0, lty = 2)\n",
    "    d = density(residuals)$y\n",
    "    h = hist(residuals, plot = FALSE)\n",
    "    hist(residuals, main=\"Histogram of Residuals\", xlab=\"Residuals\", \n",
    "         col=COL[1,2], prob = TRUE, ylim = c(0,max(max(d), max(h$density))))\n",
    "    lines(density(residuals), col = COL[1], lwd = 2)\n",
    "    qqnorm(residuals, pch=19, col = COL[1,2], main = \"Normal Q-Q Plot of Residuals\")\n",
    "    qqline(residuals, col = COL[1], lwd = 2)\n",
    "  }, height=280 )\n",
    "}"
   ]
  },
  {
   "cell_type": "markdown",
   "metadata": {},
   "source": [
    "### Create the Shiny app object"
   ]
  },
  {
   "cell_type": "code",
   "execution_count": null,
   "metadata": {},
   "outputs": [
    {
     "name": "stderr",
     "output_type": "stream",
     "text": [
      "\n",
      "Listening on http://127.0.0.1:6197\n",
      "\n"
     ]
    }
   ],
   "source": [
    "shinyApp(ui = ui, server = server)"
   ]
  }
 ],
 "metadata": {
  "kernelspec": {
   "display_name": "R",
   "language": "R",
   "name": "ir"
  },
  "language_info": {
   "codemirror_mode": "r",
   "file_extension": ".r",
   "mimetype": "text/x-r-source",
   "name": "R",
   "pygments_lexer": "r",
   "version": "3.6.3"
  }
 },
 "nbformat": 4,
 "nbformat_minor": 4
}
