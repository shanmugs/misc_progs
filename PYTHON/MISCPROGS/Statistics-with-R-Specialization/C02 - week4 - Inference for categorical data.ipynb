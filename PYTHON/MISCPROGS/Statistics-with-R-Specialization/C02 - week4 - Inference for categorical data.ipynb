{
 "cells": [
  {
   "cell_type": "markdown",
   "metadata": {},
   "source": [
    "# Inference for Categorical Data"
   ]
  },
  {
   "cell_type": "markdown",
   "metadata": {},
   "source": [
    "<img src=\"images/atheism.jpg\"/>"
   ]
  },
  {
   "cell_type": "markdown",
   "metadata": {},
   "source": [
    "In August of 2012, news outlets ranging from the [Washington Post](http://www.washingtonpost.com/national/on-faith/poll-shows-atheism-on-the-rise-in-the-us/2012/08/13/90020fd6-e57d-11e1-9739-eef99c5fb285_story.html) to the [Huffington Post](http://www.huffingtonpost.com/2012/08/14/atheism-rise-religiosity-decline-in-america_n_1777031.html) ran a story about the rise of atheism in America. The source for the story was a poll that asked people, \"Irrespective of whether you attend a place of worship or not, would you say you are a religious person, not a religious person or a convinced atheist?\" This type of question, which asks people to classify themselves in one way or another, is common in polling and generates categorical data. In this lab we take a look at the atheism survey and explore what's at play when making inference about population proportions using categorical data."
   ]
  },
  {
   "cell_type": "markdown",
   "metadata": {},
   "source": [
    "### Libraries\n",
    "In this lab we will explore the data using the `dplyr` package and visualize it using the `ggplot2` package for data visualization. The data can be found in the companion package for this course, `statsr`."
   ]
  },
  {
   "cell_type": "code",
   "execution_count": 1,
   "metadata": {},
   "outputs": [
    {
     "name": "stderr",
     "output_type": "stream",
     "text": [
      "\n",
      "Attaching package: 'dplyr'\n",
      "\n",
      "\n",
      "The following objects are masked from 'package:stats':\n",
      "\n",
      "    filter, lag\n",
      "\n",
      "\n",
      "The following objects are masked from 'package:base':\n",
      "\n",
      "    intersect, setdiff, setequal, union\n",
      "\n",
      "\n"
     ]
    }
   ],
   "source": [
    "#install.packages(\"package\")\n",
    "library(statsr)\n",
    "library(dplyr)\n",
    "library(ggplot2)\n",
    "library(tidyr)"
   ]
  },
  {
   "cell_type": "markdown",
   "metadata": {},
   "source": [
    "### The survey\n",
    "\n",
    "The press release for the poll, conducted by WIN-Gallup International, can be accessed [here](https://www.scribd.com/document/136318147/Win-gallup-International-Global-Index-of-Religiosity-and-Atheism-2012).\n",
    "\n",
    "Take a moment to review the report then address the following questions."
   ]
  },
  {
   "cell_type": "markdown",
   "metadata": {},
   "source": [
    "**1. How many people were interviewed for this survey?**\n",
    "\n",
    "    Answer: A poll conducted by WIN-Gallup International surveyed 51,927 people from 57 countries.\n",
    "\n",
    "**2. Which of the following methods were used to gather information?**\n",
    "\n",
    "    Answer: Face to face, Telephone, Internet. \n",
    "\n",
    "**3. True / False: In the first paragraph, several key findings are reported. These percentages appear to be *sample statistics*.**\n",
    "\n",
    "    Answer: True.\n",
    "\n",
    "**4. True / False:The title of the report is \"Global Index of Religiosity and Atheism\". To generalize the report's findings to the global human population, We must assume that the sample was a random sample from the entire population in order to be able to generalize the results to the global human population. This seems to be a reasonable assumption.**\n",
    "\n",
    "    Answer: True."
   ]
  },
  {
   "cell_type": "markdown",
   "metadata": {},
   "source": [
    "### Load Data"
   ]
  },
  {
   "cell_type": "code",
   "execution_count": 2,
   "metadata": {},
   "outputs": [
    {
     "data": {
      "text/html": [
       "<table>\n",
       "<caption>A tibble: 6 × 3</caption>\n",
       "<thead>\n",
       "\t<tr><th scope=col>nationality</th><th scope=col>response</th><th scope=col>year</th></tr>\n",
       "\t<tr><th scope=col>&lt;fct&gt;</th><th scope=col>&lt;fct&gt;</th><th scope=col>&lt;int&gt;</th></tr>\n",
       "</thead>\n",
       "<tbody>\n",
       "\t<tr><td>Afghanistan</td><td>non-atheist</td><td>2012</td></tr>\n",
       "\t<tr><td>Afghanistan</td><td>non-atheist</td><td>2012</td></tr>\n",
       "\t<tr><td>Afghanistan</td><td>non-atheist</td><td>2012</td></tr>\n",
       "\t<tr><td>Afghanistan</td><td>non-atheist</td><td>2012</td></tr>\n",
       "\t<tr><td>Afghanistan</td><td>non-atheist</td><td>2012</td></tr>\n",
       "\t<tr><td>Afghanistan</td><td>non-atheist</td><td>2012</td></tr>\n",
       "</tbody>\n",
       "</table>\n"
      ],
      "text/latex": [
       "A tibble: 6 × 3\n",
       "\\begin{tabular}{lll}\n",
       " nationality & response & year\\\\\n",
       " <fct> & <fct> & <int>\\\\\n",
       "\\hline\n",
       "\t Afghanistan & non-atheist & 2012\\\\\n",
       "\t Afghanistan & non-atheist & 2012\\\\\n",
       "\t Afghanistan & non-atheist & 2012\\\\\n",
       "\t Afghanistan & non-atheist & 2012\\\\\n",
       "\t Afghanistan & non-atheist & 2012\\\\\n",
       "\t Afghanistan & non-atheist & 2012\\\\\n",
       "\\end{tabular}\n"
      ],
      "text/markdown": [
       "\n",
       "A tibble: 6 × 3\n",
       "\n",
       "| nationality &lt;fct&gt; | response &lt;fct&gt; | year &lt;int&gt; |\n",
       "|---|---|---|\n",
       "| Afghanistan | non-atheist | 2012 |\n",
       "| Afghanistan | non-atheist | 2012 |\n",
       "| Afghanistan | non-atheist | 2012 |\n",
       "| Afghanistan | non-atheist | 2012 |\n",
       "| Afghanistan | non-atheist | 2012 |\n",
       "| Afghanistan | non-atheist | 2012 |\n",
       "\n"
      ],
      "text/plain": [
       "  nationality response    year\n",
       "1 Afghanistan non-atheist 2012\n",
       "2 Afghanistan non-atheist 2012\n",
       "3 Afghanistan non-atheist 2012\n",
       "4 Afghanistan non-atheist 2012\n",
       "5 Afghanistan non-atheist 2012\n",
       "6 Afghanistan non-atheist 2012"
      ]
     },
     "metadata": {},
     "output_type": "display_data"
    }
   ],
   "source": [
    "data(atheism)\n",
    "head(atheism)"
   ]
  },
  {
   "cell_type": "code",
   "execution_count": 3,
   "metadata": {},
   "outputs": [
    {
     "name": "stdout",
     "output_type": "stream",
     "text": [
      "tibble [88,032 x 3] (S3: tbl_df/tbl/data.frame)\n",
      " $ nationality: Factor w/ 57 levels \"Afghanistan\",..: 1 1 1 1 1 1 1 1 1 1 ...\n",
      " $ response   : Factor w/ 2 levels \"atheist\",\"non-atheist\": 2 2 2 2 2 2 2 2 2 2 ...\n",
      " $ year       : int [1:88032] 2012 2012 2012 2012 2012 2012 2012 2012 2012 2012 ...\n"
     ]
    }
   ],
   "source": [
    "str(atheism)"
   ]
  },
  {
   "cell_type": "code",
   "execution_count": 4,
   "metadata": {},
   "outputs": [
    {
     "data": {
      "text/plain": [
       "             nationality           response          year     \n",
       " Pakistan          : 5409   atheist    : 5498   Min.   :2005  \n",
       " France            : 3359   non-atheist:82534   1st Qu.:2005  \n",
       " Korea, Rep (South): 3047                       Median :2012  \n",
       " Ghana             : 2995                       Mean   :2009  \n",
       " Macedonia         : 2418                       3rd Qu.:2012  \n",
       " Peru              : 2414                       Max.   :2012  \n",
       " (Other)           :68390                                     "
      ]
     },
     "metadata": {},
     "output_type": "display_data"
    }
   ],
   "source": [
    "summary(atheism)"
   ]
  },
  {
   "cell_type": "markdown",
   "metadata": {},
   "source": [
    "**5. What does each row of Table 6 correspond to?** \n",
    "\n",
    "    Answer: Individual Persons\n",
    "\n",
    "**6. What does each row of `atheism` correspond to?**\n",
    "\n",
    "    Answer: Religions\n",
    "\n",
    "To investigate the link between these two ways of organizing this data, take a look at the estimated proportion of atheists in the United States. Towards the bottom of Table 6, we see that this is 5%. We should be able to come to the same number using the `atheism` data.\n",
    "\n",
    "Create a new dataframe called `us12` that contains only the rows in `atheism` associated with respondents to the 2012 survey from the United States:"
   ]
  },
  {
   "cell_type": "code",
   "execution_count": 5,
   "metadata": {},
   "outputs": [],
   "source": [
    "us12 <- atheism %>%\n",
    "          filter(nationality == \"United States\" , atheism$year == \"2012\")"
   ]
  },
  {
   "cell_type": "markdown",
   "metadata": {},
   "source": [
    "**7. Next, calculate the proportion of atheist responses in the United States in 2012, i.e. in `us12`. True / False: This percentage agrees with the percentage in Table 6.**"
   ]
  },
  {
   "cell_type": "code",
   "execution_count": 6,
   "metadata": {},
   "outputs": [
    {
     "data": {
      "text/html": [
       "<table>\n",
       "<caption>A tibble: 1 × 1</caption>\n",
       "<thead>\n",
       "\t<tr><th scope=col>sum(response == \"atheist\")/n()</th></tr>\n",
       "\t<tr><th scope=col>&lt;dbl&gt;</th></tr>\n",
       "</thead>\n",
       "<tbody>\n",
       "\t<tr><td>0.0499002</td></tr>\n",
       "</tbody>\n",
       "</table>\n"
      ],
      "text/latex": [
       "A tibble: 1 × 1\n",
       "\\begin{tabular}{l}\n",
       " sum(response == \"atheist\")/n()\\\\\n",
       " <dbl>\\\\\n",
       "\\hline\n",
       "\t 0.0499002\\\\\n",
       "\\end{tabular}\n"
      ],
      "text/markdown": [
       "\n",
       "A tibble: 1 × 1\n",
       "\n",
       "| sum(response == \"atheist\")/n() &lt;dbl&gt; |\n",
       "|---|\n",
       "| 0.0499002 |\n",
       "\n"
      ],
      "text/plain": [
       "  sum(response == \"atheist\")/n()\n",
       "1 0.0499002                     "
      ]
     },
     "metadata": {},
     "output_type": "display_data"
    }
   ],
   "source": [
    "us12 %>% summarise(sum(response=='atheist')/n())"
   ]
  },
  {
   "cell_type": "code",
   "execution_count": 7,
   "metadata": {},
   "outputs": [
    {
     "data": {
      "text/plain": [
       "\n",
       "    atheist non-atheist \n",
       "       5498       82534 "
      ]
     },
     "metadata": {},
     "output_type": "display_data"
    }
   ],
   "source": [
    "z = table(atheism$response)\n",
    "z"
   ]
  },
  {
   "cell_type": "code",
   "execution_count": 8,
   "metadata": {},
   "outputs": [
    {
     "data": {
      "text/html": [
       "<strong>atheist:</strong> 0.0666149707999128"
      ],
      "text/latex": [
       "\\textbf{atheist:} 0.0666149707999128"
      ],
      "text/markdown": [
       "**atheist:** 0.0666149707999128"
      ],
      "text/plain": [
       "   atheist \n",
       "0.06661497 "
      ]
     },
     "metadata": {},
     "output_type": "display_data"
    }
   ],
   "source": [
    "z[1]/z[2]"
   ]
  },
  {
   "cell_type": "markdown",
   "metadata": {},
   "source": [
    "    Answer: False."
   ]
  },
  {
   "cell_type": "markdown",
   "metadata": {},
   "source": [
    "## Inference on Proportions\n",
    "\n",
    "As was hinted earlier, Table 6 provides **sample statistics**, that is, calculations made from the sample of 51,927 people. What we'd like, though, is insight into the population **population parameters**. You answer the question, \"What proportion of people in your sample reported being atheists?\" with a statistic; while the question \"What proportion of people on earth would report being atheists\" is answered with an estimate of the parameter.\n",
    "\n",
    "The inferential tools for estimating population proportion are analogous to those used for means in the last lab: the confidence interval and the hypothesis test.\n",
    "\n",
    "<div id=\"exercise\">\n",
    "**Exercise**: Write out the conditions for inference to construct a 95% confidence interval for the proportion of atheists in the United States in 2012. Are you confident all conditions are met?\n",
    "</div>\n",
    "\n",
    "If the conditions for inference are reasonable, we can either calculate the standard error and construct the interval by hand, or allow the `inference` function to do it for us."
   ]
  },
  {
   "cell_type": "code",
   "execution_count": 9,
   "metadata": {},
   "outputs": [
    {
     "name": "stdout",
     "output_type": "stream",
     "text": [
      "Single categorical variable, success: atheist\n",
      "n = 1002, p-hat = 0.0499\n",
      "95% CI: (0.0364 , 0.0634)\n"
     ]
    },
    {
     "data": {
      "image/png": "[encoded data removed]",
      "text/plain": [
       "plot without title"
      ]
     },
     "metadata": {
      "image/png": {
       "height": 420,
       "width": 420
      },
      "text/plain": {
       "height": 420,
       "width": 420
      }
     },
     "output_type": "display_data"
    }
   ],
   "source": [
    "inference(y = response, data = us12, statistic = \"proportion\", type = \"ci\", method = \"theoretical\", success = \"atheist\")"
   ]
  },
  {
   "cell_type": "markdown",
   "metadata": {},
   "source": [
    "Note that since the goal is to construct an interval estimate for a proportion, it's necessary to specify what constitutes a ``success'', which here is a response of `atheist`.\n",
    "\n",
    "Although formal confidence intervals and hypothesis tests don't show up in the report, suggestions of inference appear at the bottom of page 7: \"In general, the error margin for surveys of this kind is $\\pm$ 3-5% at 95% confidence.\""
   ]
  },
  {
   "cell_type": "markdown",
   "metadata": {},
   "source": [
    "**8. Based on the R output, what is the margin of error for the estimate of the proportion of the proportion of atheists in US in 2012?**"
   ]
  },
  {
   "cell_type": "code",
   "execution_count": 10,
   "metadata": {},
   "outputs": [
    {
     "data": {
      "text/html": [
       "0.0134948796381111"
      ],
      "text/latex": [
       "0.0134948796381111"
      ],
      "text/markdown": [
       "0.0134948796381111"
      ],
      "text/plain": [
       "[1] 0.01349488"
      ]
     },
     "metadata": {},
     "output_type": "display_data"
    }
   ],
   "source": [
    "1.96 * sqrt(0.05*(1-0.05)/1002)"
   ]
  },
  {
   "cell_type": "markdown",
   "metadata": {},
   "source": [
    "    Answer: The margin of error for the estimate of the proportion of atheists in the US in 2012 is 0.0135."
   ]
  },
  {
   "cell_type": "markdown",
   "metadata": {},
   "source": [
    "**Exercise**: Using the inference function, calculate confidence intervals for the proportion of atheists in 2012 in two other countries of your choice, and report the associated margins of error. Be sure to note whether the conditions for inference are met. It may be helpful to create new data sets for each of the two countries first, and then use these data sets in the `inference` function to construct the confidence intervals."
   ]
  },
  {
   "cell_type": "code",
   "execution_count": 11,
   "metadata": {},
   "outputs": [
    {
     "name": "stdout",
     "output_type": "stream",
     "text": [
      "Single categorical variable, success: atheist\n",
      "n = 1002, p-hat = 0.0898\n",
      "95% CI: (0.0721 , 0.1075)\n"
     ]
    },
    {
     "data": {
      "image/png": "[encoded data removed]",
      "text/plain": [
       "plot without title"
      ]
     },
     "metadata": {
      "image/png": {
       "height": 420,
       "width": 420
      },
      "text/plain": {
       "height": 420,
       "width": 420
      }
     },
     "output_type": "display_data"
    }
   ],
   "source": [
    "canada12 <- atheism %>% \n",
    "              filter(nationality == \"Canada\" , atheism$year == \"2012\")\n",
    "\n",
    "statsr::inference(y = response, data = canada12, statistic = \"proportion\", type = \"ci\", method = \"theoretical\", \n",
    "                  success = \"atheist\")"
   ]
  },
  {
   "cell_type": "code",
   "execution_count": 12,
   "metadata": {},
   "outputs": [
    {
     "data": {
      "text/html": [
       "0.0177200181127494"
      ],
      "text/latex": [
       "0.0177200181127494"
      ],
      "text/markdown": [
       "0.0177200181127494"
      ],
      "text/plain": [
       "[1] 0.01772002"
      ]
     },
     "metadata": {},
     "output_type": "display_data"
    }
   ],
   "source": [
    "me_ca <- 1.96 * sqrt(0.09*(1-0.09)/length(canada12$response))\n",
    "me_ca"
   ]
  },
  {
   "cell_type": "code",
   "execution_count": 13,
   "metadata": {},
   "outputs": [
    {
     "name": "stdout",
     "output_type": "stream",
     "text": [
      "Single categorical variable, success: atheist\n",
      "n = 500, p-hat = 0.47\n",
      "95% CI: (0.4263 , 0.5137)\n"
     ]
    },
    {
     "data": {
      "image/png": "[encoded data removed]",
      "text/plain": [
       "plot without title"
      ]
     },
     "metadata": {
      "image/png": {
       "height": 420,
       "width": 420
      },
      "text/plain": {
       "height": 420,
       "width": 420
      }
     },
     "output_type": "display_data"
    }
   ],
   "source": [
    "china12 <- atheism %>% \n",
    "              filter(nationality=='China', atheism$year=='2012')\n",
    "\n",
    "statsr::inference(y = response, data = china12, statistic = \"proportion\", type = \"ci\", method = \"theoretical\", \n",
    "                  success = \"atheist\")"
   ]
  },
  {
   "cell_type": "code",
   "execution_count": 14,
   "metadata": {},
   "outputs": [
    {
     "data": {
      "text/html": [
       "0.0437479727530317"
      ],
      "text/latex": [
       "0.0437479727530317"
      ],
      "text/markdown": [
       "0.0437479727530317"
      ],
      "text/plain": [
       "[1] 0.04374797"
      ]
     },
     "metadata": {},
     "output_type": "display_data"
    }
   ],
   "source": [
    "me_ch <- 1.96 * sqrt(0.47*(1-0.47)/length(china12$response))\n",
    "me_ch"
   ]
  },
  {
   "cell_type": "markdown",
   "metadata": {},
   "source": [
    "## How does the proportion affect the margin of error?\n",
    "\n",
    "Imagine you've set out to survey 1000 people on two questions: are you female? and are you left-handed? Since both of these sample proportions were calculated from the same sample size, they should have the same margin of error, right? Wrong!  While the margin of error does change with sample size, it is also affected by the proportion.\n",
    "\n",
    "Think back to the formula for the standard error: $SE = \\sqrt{p(1-p)/n}$. This is then used in the formula for the margin of error for a 95% confidence interval: $ME = 1.96\\times SE = 1.96\\times\\sqrt{p(1-p)/n}$. Since the population proportion $p$ is in this $ME$ formula, it should make sense that the margin of error is in some way dependent on the population proportion. We can visualize this relationship by creating a plot of $ME$ vs. $p$.\n",
    "\n",
    "The first step is to make a vector `p` that is a sequence from $0$ to $1$ with each number separated by $0.01$. We can then create a vector of the margin of error (`me`) associated with each of these values of `p` using the familiar approximate formula ($ME = 1.96 \\times SE$). Lastly, we plot the two vectors against each other to reveal their relationship."
   ]
  },
  {
   "cell_type": "code",
   "execution_count": 15,
   "metadata": {},
   "outputs": [
    {
     "data": {
      "image/png": "[encoded data removed]",
      "text/plain": [
       "plot without title"
      ]
     },
     "metadata": {
      "image/png": {
       "height": 420,
       "width": 420
      },
      "text/plain": {
       "height": 420,
       "width": 420
      }
     },
     "output_type": "display_data"
    }
   ],
   "source": [
    "d <- data.frame(p <- seq(0, 1, 0.01))\n",
    "n <- 1000\n",
    "d <- d %>%\n",
    "      mutate(me = 1.96*sqrt(p*(1 - p)/n))\n",
    "\n",
    "\n",
    "ggplot(d, aes(x = p, y = me)) +\n",
    "  geom_line()"
   ]
  },
  {
   "cell_type": "markdown",
   "metadata": {},
   "source": [
    "**9. Which of the following is True about the relationship between $p$ and $ME$.**"
   ]
  },
  {
   "cell_type": "markdown",
   "metadata": {},
   "source": [
    "The $ME$ reaches a minimum at $p = 0$.\n",
    "\n",
    "The $ME$ reaches a minimum at $p = 1$.\n",
    "\n",
    "The $ME$ is maximized when $p = 0.5$."
   ]
  },
  {
   "cell_type": "markdown",
   "metadata": {},
   "source": [
    "The question of atheism was asked by WIN-Gallup International in a similar survey that was conducted in 2005. We assume here that sample sizes have remained the same. Table 4 on page 13 of the report summarizes survey results from 2005 and 2012 for 39 countries.\n",
    "\n",
    "Answer the following two questions using the `inference` function. As always, write out the hypotheses for any tests you conduct and outline the status of the conditions for inference."
   ]
  },
  {
   "cell_type": "markdown",
   "metadata": {},
   "source": [
    "**10. True / False: There is convincing evidence that Spain has seen a change in its atheism index between 2005 and 2012. <br><br> *Hint:* Create a new data set for respondents from Spain. Then use their responses as the first input on the `inference`, and use `year` as the grouping variable.**"
   ]
  },
  {
   "cell_type": "code",
   "execution_count": 16,
   "metadata": {},
   "outputs": [
    {
     "name": "stdout",
     "output_type": "stream",
     "text": [
      "Response variable: categorical (2 levels, success: atheist)\n",
      "Explanatory variable: categorical (2 levels) \n",
      "n_2005 = 1146, p_hat_2005 = 0.1003\n",
      "n_2012 = 1145, p_hat_2012 = 0.09\n",
      "H0: p_2005 =  p_2012\n",
      "HA: p_2005 != p_2012\n",
      "z = 0.8476\n",
      "p_value = 0.3966"
     ]
    },
    {
     "data": {
      "image/png": "[encoded data removed]",
      "text/plain": [
       "plot without title"
      ]
     },
     "metadata": {
      "image/png": {
       "height": 420,
       "width": 420
      },
      "text/plain": {
       "height": 420,
       "width": 420
      }
     },
     "output_type": "display_data"
    }
   ],
   "source": [
    "spain <- atheism %>% filter(nationality=='Spain')\n",
    "\n",
    "statsr::inference(y = response, x = as.factor(year), data = spain, statistic = \"proportion\", type = \"ht\", null = 0, \n",
    "                  success = \"atheist\", alternative = \"twosided\", method = \"theoretical\")"
   ]
  },
  {
   "cell_type": "markdown",
   "metadata": {},
   "source": [
    "**11. True / False: There is convincing evidence that the United States has seen a change in its atheism index between 2005 and 2012.**"
   ]
  },
  {
   "cell_type": "code",
   "execution_count": 17,
   "metadata": {},
   "outputs": [
    {
     "name": "stdout",
     "output_type": "stream",
     "text": [
      "Response variable: categorical (2 levels, success: atheist)\n",
      "Explanatory variable: categorical (2 levels) \n",
      "n_2005 = 1002, p_hat_2005 = 0.01\n",
      "n_2012 = 1002, p_hat_2012 = 0.0499\n",
      "H0: p_2005 =  p_2012\n",
      "HA: p_2005 != p_2012\n",
      "z = -5.2431\n",
      "p_value = < 0.0001"
     ]
    },
    {
     "data": {
      "image/png": "[encoded data removed]",
      "text/plain": [
       "plot without title"
      ]
     },
     "metadata": {
      "image/png": {
       "height": 420,
       "width": 420
      },
      "text/plain": {
       "height": 420,
       "width": 420
      }
     },
     "output_type": "display_data"
    }
   ],
   "source": [
    "us <- atheism %>% filter(nationality=='United States')\n",
    "\n",
    "statsr::inference(y = response, x = as.factor(year), data = us, statistic = \"proportion\", type = \"ht\", null=0, \n",
    "                  alternative = \"twosided\", method = \"theoretical\", success = \"atheist\")"
   ]
  },
  {
   "cell_type": "markdown",
   "metadata": {},
   "source": [
    "**12. If in fact there has been no change in the atheism index in the countries listed in Table 4, in how many of those countries would you expect to detect a change (at a significance level of 0.05) simply by chance? <br><br> *Hint:* Type 1 error.**"
   ]
  },
  {
   "cell_type": "code",
   "execution_count": 18,
   "metadata": {},
   "outputs": [
    {
     "data": {
      "text/html": [
       "1.95"
      ],
      "text/latex": [
       "1.95"
      ],
      "text/markdown": [
       "1.95"
      ],
      "text/plain": [
       "[1] 1.95"
      ]
     },
     "metadata": {},
     "output_type": "display_data"
    }
   ],
   "source": [
    "39 * 0.05"
   ]
  },
  {
   "cell_type": "markdown",
   "metadata": {},
   "source": [
    "**13. Suppose you're hired by the local government to estimate the proportion of residents that attend a religious service on a weekly basis. According to the guidelines, the estimate must have a margin of error no greater than 1% with 95% confidence. You have no idea what to expect for $p$. How many people would you have to sample to ensure that you are within the guidelines? <br><br> *Hint:* Refer to your plot of the relationship between $p$ and margin of error. Do not use the data set to answer this question.**"
   ]
  },
  {
   "cell_type": "code",
   "execution_count": 19,
   "metadata": {},
   "outputs": [
    {
     "data": {
      "text/html": [
       "9604"
      ],
      "text/latex": [
       "9604"
      ],
      "text/markdown": [
       "9604"
      ],
      "text/plain": [
       "[1] 9604"
      ]
     },
     "metadata": {},
     "output_type": "display_data"
    }
   ],
   "source": [
    "1.96 ^ 2 * 0.5 * (1-0.5)/0.01^2"
   ]
  },
  {
   "cell_type": "markdown",
   "metadata": {},
   "source": [
    "    Answer: At least 9604 people."
   ]
  }
 ],
 "metadata": {
  "kernelspec": {
   "display_name": "R",
   "language": "R",
   "name": "ir"
  },
  "language_info": {
   "codemirror_mode": "r",
   "file_extension": ".r",
   "mimetype": "text/x-r-source",
   "name": "R",
   "pygments_lexer": "r",
   "version": "3.6.3"
  }
 },
 "nbformat": 4,
 "nbformat_minor": 4
}
