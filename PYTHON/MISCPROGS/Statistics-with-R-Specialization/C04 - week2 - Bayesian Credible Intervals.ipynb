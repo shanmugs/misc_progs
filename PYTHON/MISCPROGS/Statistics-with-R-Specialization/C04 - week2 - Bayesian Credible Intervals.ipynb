{
 "cells": [
  {
   "cell_type": "markdown",
   "metadata": {},
   "source": [
    "# Bayesian Credible Intervals"
   ]
  },
  {
   "cell_type": "markdown",
   "metadata": {},
   "source": [
    "<img src=\"images/confidence.png\"/>"
   ]
  },
  {
   "cell_type": "markdown",
   "metadata": {},
   "source": [
    "### Load packages\n",
    "\n",
    "In this lab we will explore some basic Bayesian inference using conjugate priors \n",
    "and credible intervals to examine some categorical and count data from the \n",
    "[CDC's Behavioral Risk Factor Surveillance System](http://www.cdc.gov/brfss/) \n",
    "(BRFSS). A subset of these data from 2013 have been made available in the \n",
    "`statsr` package, as usual we will first load the package and then the data set. \n",
    "\n",
    "Let's load the package,"
   ]
  },
  {
   "cell_type": "markdown",
   "metadata": {},
   "source": [
    "### Load Libraries"
   ]
  },
  {
   "cell_type": "code",
   "execution_count": 1,
   "metadata": {},
   "outputs": [],
   "source": [
    "#install.packages(\"package\")\n",
    "library(statsr)\n",
    "library(shiny)"
   ]
  },
  {
   "cell_type": "code",
   "execution_count": 2,
   "metadata": {},
   "outputs": [
    {
     "data": {
      "text/html": [
       "<table>\n",
       "<caption>A tibble: 6 × 6</caption>\n",
       "<thead>\n",
       "\t<tr><th scope=col>weight</th><th scope=col>height</th><th scope=col>sex</th><th scope=col>exercise</th><th scope=col>fruit_per_day</th><th scope=col>vege_per_day</th></tr>\n",
       "\t<tr><th scope=col>&lt;dbl&gt;</th><th scope=col>&lt;dbl&gt;</th><th scope=col>&lt;fct&gt;</th><th scope=col>&lt;fct&gt;</th><th scope=col>&lt;dbl&gt;</th><th scope=col>&lt;dbl&gt;</th></tr>\n",
       "</thead>\n",
       "<tbody>\n",
       "\t<tr><td>190</td><td>71</td><td>Male  </td><td>Yes</td><td>0</td><td>0</td></tr>\n",
       "\t<tr><td>130</td><td>60</td><td>Female</td><td>Yes</td><td>4</td><td>1</td></tr>\n",
       "\t<tr><td>137</td><td>64</td><td>Female</td><td>Yes</td><td>2</td><td>1</td></tr>\n",
       "\t<tr><td>197</td><td>77</td><td>Male  </td><td>No </td><td>0</td><td>0</td></tr>\n",
       "\t<tr><td>165</td><td>66</td><td>Male  </td><td>Yes</td><td>2</td><td>1</td></tr>\n",
       "\t<tr><td>125</td><td>67</td><td>Female</td><td>Yes</td><td>2</td><td>1</td></tr>\n",
       "</tbody>\n",
       "</table>\n"
      ],
      "text/latex": [
       "A tibble: 6 × 6\n",
       "\\begin{tabular}{llllll}\n",
       " weight & height & sex & exercise & fruit\\_per\\_day & vege\\_per\\_day\\\\\n",
       " <dbl> & <dbl> & <fct> & <fct> & <dbl> & <dbl>\\\\\n",
       "\\hline\n",
       "\t 190 & 71 & Male   & Yes & 0 & 0\\\\\n",
       "\t 130 & 60 & Female & Yes & 4 & 1\\\\\n",
       "\t 137 & 64 & Female & Yes & 2 & 1\\\\\n",
       "\t 197 & 77 & Male   & No  & 0 & 0\\\\\n",
       "\t 165 & 66 & Male   & Yes & 2 & 1\\\\\n",
       "\t 125 & 67 & Female & Yes & 2 & 1\\\\\n",
       "\\end{tabular}\n"
      ],
      "text/markdown": [
       "\n",
       "A tibble: 6 × 6\n",
       "\n",
       "| weight &lt;dbl&gt; | height &lt;dbl&gt; | sex &lt;fct&gt; | exercise &lt;fct&gt; | fruit_per_day &lt;dbl&gt; | vege_per_day &lt;dbl&gt; |\n",
       "|---|---|---|---|---|---|\n",
       "| 190 | 71 | Male   | Yes | 0 | 0 |\n",
       "| 130 | 60 | Female | Yes | 4 | 1 |\n",
       "| 137 | 64 | Female | Yes | 2 | 1 |\n",
       "| 197 | 77 | Male   | No  | 0 | 0 |\n",
       "| 165 | 66 | Male   | Yes | 2 | 1 |\n",
       "| 125 | 67 | Female | Yes | 2 | 1 |\n",
       "\n"
      ],
      "text/plain": [
       "  weight height sex    exercise fruit_per_day vege_per_day\n",
       "1 190    71     Male   Yes      0             0           \n",
       "2 130    60     Female Yes      4             1           \n",
       "3 137    64     Female Yes      2             1           \n",
       "4 197    77     Male   No       0             0           \n",
       "5 165    66     Male   Yes      2             1           \n",
       "6 125    67     Female Yes      2             1           "
      ]
     },
     "metadata": {},
     "output_type": "display_data"
    }
   ],
   "source": [
    "data(brfss)\n",
    "head(brfss)"
   ]
  },
  {
   "cell_type": "markdown",
   "metadata": {},
   "source": [
    "This data set contains 5000 observations of 6 variables:\n",
    "\n",
    "variable         | description\n",
    "---------------- | ---------------------------------------------\n",
    "`weight`         |  Respondent's weight in pounds.\n",
    "`height`         |  Respondent's height in inches.\n",
    "`sex`            |  Respondent's sex\n",
    "`exercise`       |  Has the respondent exercised in the last 30 days\n",
    "`fruit_per_day`  |  How many servings of fruit does the respondent consume per day\n",
    "`vege_per_day`   |  How many servings of dark green vegetables does the respondent consume per day"
   ]
  },
  {
   "cell_type": "markdown",
   "metadata": {},
   "source": [
    "## Credible Interval Calculator\n",
    "\n",
    "Recall that probability distribution (prior/posterior distribution) of a \n",
    "parameter that describes the distribution of the data is given by:\n",
    "\n",
    "$$\\begin{align*}\n",
    "\\text{Beta distribution} ~-~ & \\pi(p; \\alpha, \\beta) = \\text{Beta}(\\alpha, \\beta)\\\\\n",
    "\\text{Gamma distribution} ~-~ & \\pi(\\lambda; \\alpha, \\beta) = \\text{Gamma}(\\alpha, \\beta)\\\\\n",
    "\\text{Normal distribution} ~-~ & \\pi(\\mu; \\nu, \\tau) = \\mathscr{N}(\\nu, \\tau)\n",
    "\\end{align*}$$\n",
    "\n",
    "Here, $p$, $\\lambda$, and $\\mu$ are the variables of their own distributions \n",
    "(the values of them define the distributions of the data), and other parameters \n",
    "such as $\\alpha,\\ \\beta,\\ \\nu$, and $\\tau$ are the parameters of the \n",
    "distributions of $p$, $\\lambda$, and $\\mu$.\n",
    "\n",
    "(**Note:** In this lab, we use the following definition of Gamma distribution:\n",
    "$$ \\pi(\\lambda; \\alpha, \\beta) = \\text{Gamma}(\\alpha, \\beta) = \\frac{\\beta^\\alpha}{\\Gamma(\\alpha)}\\lambda^{\\alpha-1}e^{-\\beta\\lambda}$$\n",
    "This definition of the Gamma distribution is different from the one introduced \n",
    "in the video lecture.)\n",
    "\n",
    "Below is an interactive app for visualizing posterior distributions and credible \n",
    "intervals of $p$, $\\lambda$, and $\\mu$ given different values of parameters. We \n",
    "will use this app to explore how both our choice of prior distribution, as well \n",
    "as our data, affect the posterior distribution and the credible interval for \n",
    "$p$, $\\lambda$, and $\\mu$.\n",
    "\n",
    "Note that this app assumes you now the posterior distribution as well as the \n",
    "parameters of this distribution. In the remainder of the lab we will walk you \n",
    "through how to calculate the posterior distribution in the Beta-Binomial \n",
    "Conjugacy and the Gamma-Poisson Conjugacy cases based on real world data from \n",
    "`BRFSS`. Then you will be asked to calculate the credible interval using codes \n",
    "similar to the one shown under the graph of the app.\n",
    "\n",
    "First, let us do some exercises to learn how to use this app."
   ]
  },
  {
   "cell_type": "code",
   "execution_count": 3,
   "metadata": {},
   "outputs": [],
   "source": [
    "#credible_interval_app()"
   ]
  },
  {
   "cell_type": "markdown",
   "metadata": {},
   "source": [
    "**Suppose the posterior distribution of $\\mu$ follows a Normal distribution with \n",
    "mean 10 and variance 5. Which of the following are the bounds of a 95% credible \n",
    "interval for $\\mu$?**"
   ]
  },
  {
   "cell_type": "code",
   "execution_count": 4,
   "metadata": {},
   "outputs": [
    {
     "data": {
      "text/html": [
       "<style>\n",
       ".list-inline {list-style: none; margin:0; padding: 0}\n",
       ".list-inline>li {display: inline-block}\n",
       ".list-inline>li:not(:last-child)::after {content: \"\\00b7\"; padding: 0 .5ex}\n",
       "</style>\n",
       "<ol class=list-inline><li>5.61752053056844</li><li>14.3824794694316</li></ol>\n"
      ],
      "text/latex": [
       "\\begin{enumerate*}\n",
       "\\item 5.61752053056844\n",
       "\\item 14.3824794694316\n",
       "\\end{enumerate*}\n"
      ],
      "text/markdown": [
       "1. 5.61752053056844\n",
       "2. 14.3824794694316\n",
       "\n",
       "\n"
      ],
      "text/plain": [
       "[1]  5.617521 14.382479"
      ]
     },
     "metadata": {},
     "output_type": "display_data"
    }
   ],
   "source": [
    "qnorm(c(0.025, 0.975), mean = 10, sd = 2.236)"
   ]
  },
  {
   "cell_type": "markdown",
   "metadata": {},
   "source": [
    "    Answer: (5.618, 14.382)"
   ]
  },
  {
   "cell_type": "markdown",
   "metadata": {},
   "source": [
    "**Suppose the posterior distribution of $p$ follows a Beta distribution with \n",
    "$\\alpha = 2$ and $\\beta = 5$. Which of the following are the bounds of a 90% \n",
    "credible interval for $p$?**"
   ]
  },
  {
   "cell_type": "code",
   "execution_count": 5,
   "metadata": {},
   "outputs": [
    {
     "data": {
      "text/html": [
       "<style>\n",
       ".list-inline {list-style: none; margin:0; padding: 0}\n",
       ".list-inline>li {display: inline-block}\n",
       ".list-inline>li:not(:last-child)::after {content: \"\\00b7\"; padding: 0 .5ex}\n",
       "</style>\n",
       "<ol class=list-inline><li>0.0628498917083544</li><li>0.581803409252026</li></ol>\n"
      ],
      "text/latex": [
       "\\begin{enumerate*}\n",
       "\\item 0.0628498917083544\n",
       "\\item 0.581803409252026\n",
       "\\end{enumerate*}\n"
      ],
      "text/markdown": [
       "1. 0.0628498917083544\n",
       "2. 0.581803409252026\n",
       "\n",
       "\n"
      ],
      "text/plain": [
       "[1] 0.06284989 0.58180341"
      ]
     },
     "metadata": {},
     "output_type": "display_data"
    }
   ],
   "source": [
    "qbeta(c(0.05, 0.95), shape1 = 2, shape2 = 5)"
   ]
  },
  {
   "cell_type": "markdown",
   "metadata": {},
   "source": [
    "    Answer: (0.063, 0.582)"
   ]
  },
  {
   "cell_type": "markdown",
   "metadata": {},
   "source": [
    "**Suppose the posterior distribution of $\\lambda$ follows a Gamma distribution \n",
    "with $\\alpha = 4$ and $\\beta = 8$. Which of the following are the bounds of a \n",
    "99% credible interval for $\\lambda$?**"
   ]
  },
  {
   "cell_type": "code",
   "execution_count": 6,
   "metadata": {},
   "outputs": [
    {
     "data": {
      "text/html": [
       "<style>\n",
       ".list-inline {list-style: none; margin:0; padding: 0}\n",
       ".list-inline>li {display: inline-block}\n",
       ".list-inline>li:not(:last-child)::after {content: \"\\00b7\"; padding: 0 .5ex}\n",
       "</style>\n",
       "<ol class=list-inline><li>0.0840258179384256</li><li>1.37218468691622</li></ol>\n"
      ],
      "text/latex": [
       "\\begin{enumerate*}\n",
       "\\item 0.0840258179384256\n",
       "\\item 1.37218468691622\n",
       "\\end{enumerate*}\n"
      ],
      "text/markdown": [
       "1. 0.0840258179384256\n",
       "2. 1.37218468691622\n",
       "\n",
       "\n"
      ],
      "text/plain": [
       "[1] 0.08402582 1.37218469"
      ]
     },
     "metadata": {},
     "output_type": "display_data"
    }
   ],
   "source": [
    "qgamma(c(0.005, 0.995), shape = 4, rate = 8)"
   ]
  },
  {
   "cell_type": "markdown",
   "metadata": {},
   "source": [
    "    Answer: (0.084, 1.372)"
   ]
  },
  {
   "cell_type": "markdown",
   "metadata": {},
   "source": [
    "## Beta-Binomial Conjugacy\n",
    "\n",
    "As we discussed in the videos, the Beta distribution is conjugate to the \n",
    "Binomial distribution - meaning that if we use a Beta prior for the parameter \n",
    "$p$ of the Binomial distribution then the posterior distribution of $p$ after \n",
    "observing data will be another Beta distribution. \n",
    "\n",
    "$$ \\pi(p) = \\text{Beta}(a, b) $$\n",
    "$$ x\\,|\\,n,p ~\\sim~ \\text{Binom}(n,p) $$\n",
    "$$ p \\,|\\, x,n ~\\sim~ \\text{Beta}(\\alpha, \\beta).$$\n",
    "\n",
    "Our goal with inference in general is to take specific observations (data) and \n",
    "use them to make useful statements about unknown population parameters of \n",
    "interest. The Beta-Binomial Conjugacy is a Bayesian approach for inference about \n",
    "a single population proportion $p$. Whereas with the frequentist approach we \n",
    "used $\\hat{p} = x / n$ we will now just use $x$ and $n$ directly with $x$ being \n",
    "the number of successes obtained from $n$ identical Bernoulli trials. (A \n",
    "Bernoulli trial is a random experiment with exactly two possible outcomes, \n",
    "\"success\" and \"failure\", in which the probability of success is the same every \n",
    "time the experiment is conducted.) As such, we can view $x$ as a Binomial random \n",
    "variable with $n$ the number of trials, and $p$ the probability of success.\n",
    " \n",
    "To complete our Bayesian approach of inference, all we need is to define our \n",
    "prior beliefs for $p$ by defining a prior distribution. Our choice of the prior \n",
    "hyperparameters ($a$ and $b$) should reflect our prior beliefs about $p$. In \n",
    "the following, we will use the term **hyperparameter** to define parameters of \n",
    "prior/posterior distributions, and the term **parameter** to define the unknown \n",
    "parameters of the likelihood, such as $p$. For most conjugate distributions \n",
    "there is usually a straight forward interpretation of these hyperparameters as \n",
    "the previously observed data -- in the case of the Beta-Binomial Conjugacy, we \n",
    "can think of our hyperparameters as representing $a-1$ previous successes and $b-1$ previous failures."
   ]
  },
  {
   "cell_type": "markdown",
   "metadata": {},
   "source": [
    "### Data and the updating rule\n",
    "\n",
    "We will start by performing inference on the sex ratio of respondents to \n",
    "`BRFSS`, we can define success as being `Female` and we would like to make \n",
    "some statement about the overall sex ratio of American adults based on our \n",
    "sample from `BRFSS`. We will do this by estimating $p$, the true proportion \n",
    "of females in the American population, using credible intervals. For each \n",
    "credible interval you compute, always check back in with your intuition, which \n",
    "hopefully says that $p$ should be around 0.5 since we would expect roughly 50% \n",
    "females and 50% males in the population.\n",
    "\n",
    "Here is the observed sex distribution in the data:"
   ]
  },
  {
   "cell_type": "code",
   "execution_count": 7,
   "metadata": {},
   "outputs": [
    {
     "data": {
      "text/plain": [
       "\n",
       "  Male Female \n",
       "  2414   2586 "
      ]
     },
     "metadata": {},
     "output_type": "display_data"
    }
   ],
   "source": [
    "table(brfss$sex)"
   ]
  },
  {
   "cell_type": "markdown",
   "metadata": {},
   "source": [
    "Let's store the relevant, total sample size and number of females, for use in \n",
    "later calculations:"
   ]
  },
  {
   "cell_type": "code",
   "execution_count": 8,
   "metadata": {},
   "outputs": [],
   "source": [
    "n <- length(brfss$sex)\n",
    "\n",
    "x <- sum(brfss$sex == \"Female\")"
   ]
  },
  {
   "cell_type": "markdown",
   "metadata": {},
   "source": [
    "For each observed data point from a Binomial ($n$ and $x$) we can calculate \n",
    "the values of the posterior parameters using the following updating rule:\n",
    "\n",
    "$$ \\alpha = a + x $$\n",
    "$$ \\beta = b + n - x $$\n",
    "\n",
    "From the data we now have $x = `r x`$ (the number of females), and \n",
    "$n - x = `r n - x`$ (the number of males). We'll start with a Beta prior where \n",
    "$a = 1$ and $b = 1$. Remember that this is equivalent to a Uniform distribution. \n",
    "By combining the data with the prior, we arrive at a posterior where \n",
    "\n",
    "$$ p \\,|\\, x,n ~\\sim~ \\text{Beta}(\\alpha = 1 + `r x`,~ \\beta = 1 + `r n - x`) $$"
   ]
  },
  {
   "cell_type": "markdown",
   "metadata": {},
   "source": [
    "**What is the 95% credible interval for $p$, the proportion of females in the \n",
    "population, based on the posterior distribution obtained with the updating rule \n",
    "shown above.**"
   ]
  },
  {
   "cell_type": "code",
   "execution_count": 9,
   "metadata": {},
   "outputs": [
    {
     "data": {
      "text/html": [
       "<style>\n",
       ".list-inline {list-style: none; margin:0; padding: 0}\n",
       ".list-inline>li {display: inline-block}\n",
       ".list-inline>li:not(:last-child)::after {content: \"\\00b7\"; padding: 0 .5ex}\n",
       "</style>\n",
       "<ol class=list-inline><li>0.503340506349799</li><li>0.531032716595999</li></ol>\n"
      ],
      "text/latex": [
       "\\begin{enumerate*}\n",
       "\\item 0.503340506349799\n",
       "\\item 0.531032716595999\n",
       "\\end{enumerate*}\n"
      ],
      "text/markdown": [
       "1. 0.503340506349799\n",
       "2. 0.531032716595999\n",
       "\n",
       "\n"
      ],
      "text/plain": [
       "[1] 0.5033405 0.5310327"
      ]
     },
     "metadata": {},
     "output_type": "display_data"
    }
   ],
   "source": [
    "qbeta(c(0.025, 0.975), shape1 = 1+2586, shape2 = 1+2414)"
   ]
  },
  {
   "cell_type": "markdown",
   "metadata": {},
   "source": [
    "    Answer: (0.503, 0.531)"
   ]
  },
  {
   "cell_type": "markdown",
   "metadata": {},
   "source": [
    "**Which of the following is the correct Bayesian interpretation of this interval?**"
   ]
  },
  {
   "cell_type": "markdown",
   "metadata": {},
   "source": [
    "    Answer: The probability that the true proportion of females lies in this interval is 0.95."
   ]
  },
  {
   "cell_type": "markdown",
   "metadata": {},
   "source": [
    "Let's now use a more informative prior that reflects a **stronger** belief that \n",
    "the sex ratio should be 50-50. For this, we use a Beta prior with hyperparameters \n",
    "$a = 500$ and $b = 500$."
   ]
  },
  {
   "cell_type": "markdown",
   "metadata": {},
   "source": [
    "Confirm by plotting the following two Beta distributions $\\text{Beta}(a = 1, b = 1)$ \n",
    "and $\\text{Beta}(a = 500, b = 500)$ using the app above to show that the \n",
    "$\\text{Beta}(a = 500, b = 500)$ distribution is centered around 0.5 and much more \n",
    "narrow than the uniform distribution, i.e. $Beta(a = 1, b = 1)$.\n",
    "\n",
    "**What is the 95% credible interval for $p$, the proportion of females in the \n",
    "population, based on a prior distribution of $\\text{Beta}(a = 500, b = 500)$.**\n",
    "\n",
    "**Hint:** You need to determine the hyperparameters of the posterior distribution."
   ]
  },
  {
   "cell_type": "code",
   "execution_count": 10,
   "metadata": {},
   "outputs": [
    {
     "data": {
      "text/html": [
       "<style>\n",
       ".list-inline {list-style: none; margin:0; padding: 0}\n",
       ".list-inline>li {display: inline-block}\n",
       ".list-inline>li:not(:last-child)::after {content: \"\\00b7\"; padding: 0 .5ex}\n",
       "</style>\n",
       "<ol class=list-inline><li>0.501683992176244</li><li>0.526973623829875</li></ol>\n"
      ],
      "text/latex": [
       "\\begin{enumerate*}\n",
       "\\item 0.501683992176244\n",
       "\\item 0.526973623829875\n",
       "\\end{enumerate*}\n"
      ],
      "text/markdown": [
       "1. 0.501683992176244\n",
       "2. 0.526973623829875\n",
       "\n",
       "\n"
      ],
      "text/plain": [
       "[1] 0.5016840 0.5269736"
      ]
     },
     "metadata": {},
     "output_type": "display_data"
    }
   ],
   "source": [
    "qbeta(c(0.025, 0.975), shape1 = 500+2586, shape2 = 500+2414)"
   ]
  },
  {
   "cell_type": "markdown",
   "metadata": {},
   "source": [
    "    Answer: (0.502, 0.527)"
   ]
  },
  {
   "cell_type": "markdown",
   "metadata": {},
   "source": [
    "Let's consider one other prior distribution: $\\text{Beta}(a = 5, b = 200)$. \n",
    "\n",
    "**Which is of the following is the center of the $\\text{Beta}(a = 5, b = 200)$ \n",
    "distribution?** \n",
    "\n",
    "**Hint:** modify the code under the distribution plot to get the \n",
    "center."
   ]
  },
  {
   "cell_type": "code",
   "execution_count": 11,
   "metadata": {},
   "outputs": [
    {
     "data": {
      "text/html": [
       "0.024390243902439"
      ],
      "text/latex": [
       "0.024390243902439"
      ],
      "text/markdown": [
       "0.024390243902439"
      ],
      "text/plain": [
       "[1] 0.02439024"
      ]
     },
     "metadata": {},
     "output_type": "display_data"
    }
   ],
   "source": [
    "5/205"
   ]
  },
  {
   "cell_type": "markdown",
   "metadata": {},
   "source": [
    "    Answer: approximately 0.03"
   ]
  },
  {
   "cell_type": "markdown",
   "metadata": {},
   "source": [
    "**What is the 95% credible interval for $p$, the proportion of females in the \n",
    "population, based on a prior distribution of $\\text{Beta}(a = 5, b = 200)$.**\n",
    "\n",
    "\n",
    "**Hint:** You need to determine the posterior distribution first."
   ]
  },
  {
   "cell_type": "code",
   "execution_count": 12,
   "metadata": {},
   "outputs": [
    {
     "data": {
      "text/html": [
       "<style>\n",
       ".list-inline {list-style: none; margin:0; padding: 0}\n",
       ".list-inline>li {display: inline-block}\n",
       ".list-inline>li:not(:last-child)::after {content: \"\\00b7\"; padding: 0 .5ex}\n",
       "</style>\n",
       "<ol class=list-inline><li>0.484210000331304</li><li>0.511372779823571</li></ol>\n"
      ],
      "text/latex": [
       "\\begin{enumerate*}\n",
       "\\item 0.484210000331304\n",
       "\\item 0.511372779823571\n",
       "\\end{enumerate*}\n"
      ],
      "text/markdown": [
       "1. 0.484210000331304\n",
       "2. 0.511372779823571\n",
       "\n",
       "\n"
      ],
      "text/plain": [
       "[1] 0.4842100 0.5113728"
      ]
     },
     "metadata": {},
     "output_type": "display_data"
    }
   ],
   "source": [
    "qbeta(c(0.025, 0.975), shape1 = 5+2586, shape2 = 200+2414)"
   ]
  },
  {
   "cell_type": "markdown",
   "metadata": {},
   "source": [
    "    Anwer:(0.484, 0.511)"
   ]
  },
  {
   "cell_type": "markdown",
   "metadata": {},
   "source": [
    "In summary, when we used a prior distribution that was centered around a \n",
    "realistic value for $p$ (the center is around 0.5), the credible interval we \n",
    "obtained was also more realistic. However when we used a strong prior distribution \n",
    "that was centered around a clearly unrealistic value for $p$ (say the \n",
    "$\\text{Beta}(5, 200)$ prior), the credible interval we obtained did not match the \n",
    "distribution of the data (with the proportion of female respondents \n",
    "$2586/(2586+2414) \\approx 0.517$). Hence, a good prior helps, however a bad \n",
    "prior can hurt your results. \n",
    "\n",
    "Next, let's turn our attention to the `exercise` variable, which indicates \n",
    "whether the respondent exercised in the last 30 days. While for the `sex` variable \n",
    "we had some intuition about the true proportion of females (we would expect it \n",
    "to be around 0.5), many of us probably do not have a strong prior belief about \n",
    "the proportion of Americans who exercise. In this case we would be more inclined \n",
    "to use a non-informative prior, e.g. a uniform distribution, which says that $p$ \n",
    "is equally likely to be anywhere between 0 and 1.\n",
    "\n",
    "Here is the observed exercise distribution in the data:"
   ]
  },
  {
   "cell_type": "code",
   "execution_count": 13,
   "metadata": {},
   "outputs": [
    {
     "data": {
      "text/plain": [
       "\n",
       " Yes   No \n",
       "3868 1132 "
      ]
     },
     "metadata": {},
     "output_type": "display_data"
    }
   ],
   "source": [
    "table(brfss$exercise)"
   ]
  },
  {
   "cell_type": "markdown",
   "metadata": {},
   "source": [
    "**What is the 90% credible interval for $p$, the proportion of Americans who \n",
    "exercise, based on a uniform prior distribution?**"
   ]
  },
  {
   "cell_type": "code",
   "execution_count": 14,
   "metadata": {},
   "outputs": [
    {
     "data": {
      "text/html": [
       "<style>\n",
       ".list-inline {list-style: none; margin:0; padding: 0}\n",
       ".list-inline>li {display: inline-block}\n",
       ".list-inline>li:not(:last-child)::after {content: \"\\00b7\"; padding: 0 .5ex}\n",
       "</style>\n",
       "<ol class=list-inline><li>0.763803942018881</li><li>0.783271610393455</li></ol>\n"
      ],
      "text/latex": [
       "\\begin{enumerate*}\n",
       "\\item 0.763803942018881\n",
       "\\item 0.783271610393455\n",
       "\\end{enumerate*}\n"
      ],
      "text/markdown": [
       "1. 0.763803942018881\n",
       "2. 0.783271610393455\n",
       "\n",
       "\n"
      ],
      "text/plain": [
       "[1] 0.7638039 0.7832716"
      ]
     },
     "metadata": {},
     "output_type": "display_data"
    }
   ],
   "source": [
    "qbeta(c(0.05, 0.95), shape1 = 3868, shape2 = 1132)"
   ]
  },
  {
   "cell_type": "markdown",
   "metadata": {},
   "source": [
    "    Answer: (0.764, 0.783) "
   ]
  },
  {
   "cell_type": "markdown",
   "metadata": {},
   "source": [
    "## Gamma-Poisson Conjugacy\n",
    "\n",
    "Since the Poisson distribution describes the number of counts in a given \n",
    "interval, we will use this distribution to model the `fruit_per_day` variable \n",
    "which records the servings of fruit the respondents consume per day. The Poisson \n",
    "distribution has a single parameter, $\\lambda$, which is the expected number of \n",
    "counts per time period. \n",
    "\n",
    "The Gamma-Poisson conjugacy is another example of conjugate families where we use \n",
    "the Gamma distribution as the prior for the count parameter $\\lambda$. In this \n",
    "lab, we use the following definition of Gamma distribution:\n",
    "$$ \\pi(\\pi; \\alpha, \\beta) = \\text{Gamma}(\\alpha, \\beta) = \\frac{\\beta^\\alpha}{\\Gamma(\\alpha)}\\lambda^{\\alpha-1}e^{-\\beta\\lambda}$$\n",
    "\n",
    "With Bayes' Rule and the likelihood which is given by the Poisson distribution, \n",
    "we will get a Gamma posterior for $\\lambda$.\n",
    "\n",
    "$$ \\pi(\\lambda) = \\text{Gamma}(a,b) $$\n",
    "$$ x\\,|\\,\\lambda ~\\sim~ \\text{Poisson}(\\lambda) $$\n",
    "$$ \\lambda \\,|\\, x ~\\sim~ \\text{Gamma}(\\alpha,\\beta).$$\n",
    "\n",
    "Once again, our choice of the prior parameters ($a$ and $b$) should reflect our \n",
    "prior beliefs about the parameter $\\lambda$. In the case of the Gamma-Poisson \n",
    "conjugacy, we can view $a$ as the number of total counts and $b$ as the prior \n",
    "number of observations. For example, setting $a = 12$ and $b = 3$ reflects a \n",
    "belief based on data that 3 respondents on average consume a total of 12 fruits \n",
    "per day. At a first glance, this might sound equivalent to setting $a = 4$ and \n",
    "$b = 1$ or $a = 120$ and $b = 30$, however these three distributions, \n",
    "$Gamma(a = 4, b = 1)$, $Gamma(a = 12, b = 3)$, and $Gamma(a = 120, b = 30)$, \n",
    "while they all have the same expected value 4, differ in their spreads which \n",
    "indicates a different degree of belief about the parameter $\\lambda$."
   ]
  },
  {
   "cell_type": "markdown",
   "metadata": {},
   "source": [
    "### Data and the updating rule\n",
    "\n",
    "For each observed data point from the Poisson distribution ($x$) we can calculate \n",
    "the values of the posterior parameters using the following updating rule:\n",
    "\n",
    "$$ \\alpha = a + x $$\n",
    "$$ \\beta = b + 1 $$\n",
    "\n",
    "However in this case we have 5000 observations and we would like to avoid updates \n",
    "every single count individually. As we saw last week, we can use our subsequentially \n",
    "updated posterior as a new prior. As such, a more general multi-observation \n",
    "updating rule is\n",
    "\n",
    "$$ \\alpha = a + \\sum_{i = 1}^n x_i $$\n",
    "$$ \\beta = b + n $$\n",
    "\n",
    "**Using the multi-observation updating rule, what should the posterior distribution \n",
    "be when the hyperparameters of the Gamma prior are $a = 4$ and $b = 1$, and we \n",
    "have observed the data $x = \\{2, 3, 4, 5, 4\\}$.**"
   ]
  },
  {
   "cell_type": "code",
   "execution_count": 15,
   "metadata": {},
   "outputs": [
    {
     "data": {
      "text/html": [
       "<style>\n",
       ".list-inline {list-style: none; margin:0; padding: 0}\n",
       ".list-inline>li {display: inline-block}\n",
       ".list-inline>li:not(:last-child)::after {content: \"\\00b7\"; padding: 0 .5ex}\n",
       "</style>\n",
       "<ol class=list-inline><li>22</li><li>6</li></ol>\n"
      ],
      "text/latex": [
       "\\begin{enumerate*}\n",
       "\\item 22\n",
       "\\item 6\n",
       "\\end{enumerate*}\n"
      ],
      "text/markdown": [
       "1. 22\n",
       "2. 6\n",
       "\n",
       "\n"
      ],
      "text/plain": [
       "[1] 22  6"
      ]
     },
     "metadata": {},
     "output_type": "display_data"
    }
   ],
   "source": [
    "a <- 4\n",
    "b <- 1\n",
    "x <- c(2,3,4,5,4)\n",
    "alpha <- a + sum(x)\n",
    "beta <- b + length(x)\n",
    "c(alpha, beta)"
   ]
  },
  {
   "cell_type": "markdown",
   "metadata": {},
   "source": [
    "    Answer: Gamma(a=22, b=6)"
   ]
  },
  {
   "cell_type": "markdown",
   "metadata": {},
   "source": [
    "The government recommends that Americans consume approximately 5 servings of \n",
    "fruits per day. Which of the following represents a weak prior that Americans \n",
    "on average follow this recommendation?"
   ]
  },
  {
   "cell_type": "markdown",
   "metadata": {},
   "source": [
    "    Answer: Gamma(a=5, b=1)."
   ]
  },
  {
   "cell_type": "markdown",
   "metadata": {},
   "source": [
    "Using the correct prior distribution from the previous question and the data of \n",
    "`fruit_per_day` in the `BRFSS` dataset, calculate the hyperparameters of the \n",
    "posterior distribution."
   ]
  },
  {
   "cell_type": "code",
   "execution_count": 16,
   "metadata": {},
   "outputs": [
    {
     "data": {
      "text/html": [
       "<style>\n",
       ".list-inline {list-style: none; margin:0; padding: 0}\n",
       ".list-inline>li {display: inline-block}\n",
       ".list-inline>li:not(:last-child)::after {content: \"\\00b7\"; padding: 0 .5ex}\n",
       "</style>\n",
       "<ol class=list-inline><li>8119</li><li>5001</li></ol>\n"
      ],
      "text/latex": [
       "\\begin{enumerate*}\n",
       "\\item 8119\n",
       "\\item 5001\n",
       "\\end{enumerate*}\n"
      ],
      "text/markdown": [
       "1. 8119\n",
       "2. 5001\n",
       "\n",
       "\n"
      ],
      "text/plain": [
       "[1] 8119 5001"
      ]
     },
     "metadata": {},
     "output_type": "display_data"
    }
   ],
   "source": [
    "a <- 5\n",
    "b <- 1\n",
    "alpha <- a + sum(brfss$fruit_per_day)\n",
    "beta <- b + length(brfss$fruit_per_day)\n",
    "c(alpha, beta)"
   ]
  },
  {
   "cell_type": "markdown",
   "metadata": {},
   "source": [
    "    Answer: Gamma(a=8119, b=5001)."
   ]
  },
  {
   "cell_type": "markdown",
   "metadata": {},
   "source": [
    "Using the correct posterior distribution from the previous question, calculate the 90% credible interval for λ, the expected number of servings of fruit Americans consume per day."
   ]
  },
  {
   "cell_type": "code",
   "execution_count": 17,
   "metadata": {},
   "outputs": [
    {
     "data": {
      "text/html": [
       "<style>\n",
       ".list-inline {list-style: none; margin:0; padding: 0}\n",
       ".list-inline>li {display: inline-block}\n",
       ".list-inline>li:not(:last-child)::after {content: \"\\00b7\"; padding: 0 .5ex}\n",
       "</style>\n",
       "<ol class=list-inline><li>1.59395327737064</li><li>1.653224691315</li></ol>\n"
      ],
      "text/latex": [
       "\\begin{enumerate*}\n",
       "\\item 1.59395327737064\n",
       "\\item 1.653224691315\n",
       "\\end{enumerate*}\n"
      ],
      "text/markdown": [
       "1. 1.59395327737064\n",
       "2. 1.653224691315\n",
       "\n",
       "\n"
      ],
      "text/plain": [
       "[1] 1.593953 1.653225"
      ]
     },
     "metadata": {},
     "output_type": "display_data"
    }
   ],
   "source": [
    "qgamma(c(0.05, 0.95), shape = 8119, rate = 5001)"
   ]
  },
  {
   "cell_type": "markdown",
   "metadata": {},
   "source": [
    "    Answer: (1.594, 1.653) "
   ]
  },
  {
   "cell_type": "markdown",
   "metadata": {},
   "source": [
    "Based on this result, do Americans appear to follow the government guidelines which recommend consuming 5 servings of fruits per day?"
   ]
  },
  {
   "cell_type": "markdown",
   "metadata": {},
   "source": [
    "    Answer: No."
   ]
  },
  {
   "cell_type": "markdown",
   "metadata": {},
   "source": [
    "Repeat the preceding analysis for number of servings of vegetables per day (vege_per_day), and evaluate whether Americans follow the government guidelines which recommend consuming 5 servings of vegetables per day."
   ]
  },
  {
   "cell_type": "code",
   "execution_count": 18,
   "metadata": {},
   "outputs": [
    {
     "data": {
      "text/html": [
       "5434"
      ],
      "text/latex": [
       "5434"
      ],
      "text/markdown": [
       "5434"
      ],
      "text/plain": [
       "[1] 5434"
      ]
     },
     "metadata": {},
     "output_type": "display_data"
    },
    {
     "data": {
      "text/html": [
       "5001"
      ],
      "text/latex": [
       "5001"
      ],
      "text/markdown": [
       "5001"
      ],
      "text/plain": [
       "[1] 5001"
      ]
     },
     "metadata": {},
     "output_type": "display_data"
    }
   ],
   "source": [
    "Observations <- brfss$vege_per_day\n",
    "\n",
    "alpha = 5 + sum(Observations)\n",
    "alpha\n",
    "beta = 1 + length(Observations)\n",
    "beta"
   ]
  },
  {
   "cell_type": "code",
   "execution_count": 19,
   "metadata": {},
   "outputs": [
    {
     "data": {
      "text/html": [
       "<style>\n",
       ".list-inline {list-style: none; margin:0; padding: 0}\n",
       ".list-inline>li {display: inline-block}\n",
       ".list-inline>li:not(:last-child)::after {content: \"\\00b7\"; padding: 0 .5ex}\n",
       "</style>\n",
       "<ol class=list-inline><li>1.06245144640194</li><li>1.11094127858405</li></ol>\n"
      ],
      "text/latex": [
       "\\begin{enumerate*}\n",
       "\\item 1.06245144640194\n",
       "\\item 1.11094127858405\n",
       "\\end{enumerate*}\n"
      ],
      "text/markdown": [
       "1. 1.06245144640194\n",
       "2. 1.11094127858405\n",
       "\n",
       "\n"
      ],
      "text/plain": [
       "[1] 1.062451 1.110941"
      ]
     },
     "metadata": {},
     "output_type": "display_data"
    }
   ],
   "source": [
    "#Posterior Distribution : Gamma(a = 5434, b = 5001)\n",
    "qgamma(c(0.05, 0.95), shape = 5434, rate = 5001)"
   ]
  },
  {
   "cell_type": "markdown",
   "metadata": {},
   "source": [
    "    Answer: No."
   ]
  }
 ],
 "metadata": {
  "kernelspec": {
   "display_name": "R",
   "language": "R",
   "name": "ir"
  },
  "language_info": {
   "codemirror_mode": "r",
   "file_extension": ".r",
   "mimetype": "text/x-r-source",
   "name": "R",
   "pygments_lexer": "r",
   "version": "3.6.3"
  }
 },
 "nbformat": 4,
 "nbformat_minor": 4
}
